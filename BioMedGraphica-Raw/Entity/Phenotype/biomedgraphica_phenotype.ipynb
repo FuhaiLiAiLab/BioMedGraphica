{
 "cells": [
  {
   "cell_type": "markdown",
   "metadata": {},
   "source": [
    "# BioMedGraphica Phenotype"
   ]
  },
  {
   "cell_type": "markdown",
   "metadata": {},
   "source": [
    "## 1. Data Access  \n",
    "### Direct Download Links  \n",
    "**HPO**: Can be downloaded directly via the link without the need for registration. [Link](https://hpo.jax.org/data/ontology).  Extract relevant rows containing valid phenotype labels by filtering out unwanted entries that contain raw HPO identifiers.  \n",
    "**UMLS**: Can be downloaded directly via the link without the need for registration. [Link](https://download.nlm.nih.gov/umls/kss/2024AA/umls-2024AA-full.zip?_gl=1*14ig82q*_ga*MTA5NTI1Nzc2My4xNzEwOTU5NjM5*_ga_7147EPK006*MTcyMzU3NDM0NC41My4xLjE3MjM1NzUyNzYuMC4wLjA.*_ga_P1FPTH9PL4*MTcyMzU3NDM0NC41My4xLjE3MjM1NzUyNzYuMC4wLjA)  "
   ]
  },
  {
   "cell_type": "markdown",
   "metadata": {},
   "source": [
    "## 2. Load Data"
   ]
  },
  {
   "cell_type": "markdown",
   "metadata": {},
   "source": [
    "### 2.1 HPO"
   ]
  },
  {
   "cell_type": "code",
   "execution_count": 1,
   "metadata": {},
   "outputs": [
    {
     "data": {
      "application/vnd.microsoft.datawrangler.viewer.v0+json": {
       "columns": [
        {
         "name": "index",
         "rawType": "int64",
         "type": "integer"
        },
        {
         "name": "id",
         "rawType": "object",
         "type": "string"
        },
        {
         "name": "name",
         "rawType": "object",
         "type": "string"
        },
        {
         "name": "comment",
         "rawType": "object",
         "type": "unknown"
        },
        {
         "name": "xref",
         "rawType": "object",
         "type": "unknown"
        },
        {
         "name": "def",
         "rawType": "object",
         "type": "unknown"
        },
        {
         "name": "synonym",
         "rawType": "object",
         "type": "unknown"
        },
        {
         "name": "is_a",
         "rawType": "object",
         "type": "unknown"
        },
        {
         "name": "property_value",
         "rawType": "object",
         "type": "unknown"
        },
        {
         "name": "creation_date",
         "rawType": "object",
         "type": "unknown"
        },
        {
         "name": "alt_id",
         "rawType": "object",
         "type": "unknown"
        },
        {
         "name": "subset",
         "rawType": "object",
         "type": "unknown"
        },
        {
         "name": "is_obsolete",
         "rawType": "object",
         "type": "unknown"
        },
        {
         "name": "replaced_by",
         "rawType": "object",
         "type": "unknown"
        },
        {
         "name": "consider",
         "rawType": "object",
         "type": "unknown"
        }
       ],
       "conversionMethod": "pd.DataFrame",
       "ref": "873bbc4e-0792-40e7-8328-fff4db990db4",
       "rows": [
        [
         "0",
         "HP:0000001",
         "All",
         "Root of all terms in the Human Phenotype Ontology.",
         "UMLS:C0444868",
         null,
         null,
         null,
         null,
         null,
         null,
         null,
         null,
         null,
         null
        ],
        [
         "1",
         "HP:0000002",
         "Abnormality of body height",
         null,
         "UMLS:C4025901",
         "\"Deviation from the norm of height with respect to that which is expected according to age and gender norms.\" [https://orcid.org/0000-0002-0736-9199]",
         "\"Abnormality of body height\" EXACT layperson []",
         "HP:0001507 ! Growth abnormality",
         "terms:creator https://orcid.org/0000-0002-0736-9199",
         "2008-02-27T02:20:00Z",
         null,
         null,
         null,
         null,
         null
        ],
        [
         "2",
         "HP:0000003",
         "Multicystic kidney dysplasia",
         "Multicystic kidney dysplasia is the result of abnormal fetal renal development in which the affected kidney is replaced by multiple cysts and has little or no residual function. The vast majority of multicystic kidneys are unilateral. Multicystic kidney can be diagnosed on prenatal ultrasound.",
         "SNOMEDCT_US:204962002; SNOMEDCT_US:82525005; UMLS:C3714581",
         "\"Multicystic dysplasia of the kidney is characterized by multiple cysts of varying size in the kidney and the absence of a normal pelvicaliceal system. The condition is associated with ureteral or ureteropelvic atresia, and the affected kidney is nonfunctional.\" [https://orcid.org/0000-0002-0736-9199]",
         "['\"Multicystic dysplastic kidney\" EXACT []', '\"Multicystic kidneys\" EXACT []', '\"Multicystic renal dysplasia\" EXACT []']",
         "HP:0000107 ! Renal cyst",
         null,
         null,
         "HP:0004715",
         null,
         null,
         null,
         null
        ],
        [
         "3",
         "HP:0000005",
         "Mode of inheritance",
         "While there is a close conceptual relationship between allelic requirement and inheritance, they serve different purposes; allelic requirement is necessary for variant annotation pipelines and to determine if a given variant in a specific context is relevant to the phenotype of the patient e.g. a heterozygous variant (in the absence of compound heterozygosity) is relevant for dominant but not for recessive disease; while inheritance is used for describing the mode of inheritance of a phenotype and is particularly applicable in the clinical setting for communicating recurrence risk, to guide family screening, and to guide reproductive advice.",
         "UMLS:C1708511",
         "\"The pattern in which a particular genetic trait or disorder is passed from one generation to the next.\" [https://orcid.org/0000-0002-0736-9199]",
         "\"Inheritance\" EXACT []",
         "HP:0000001 ! All",
         null,
         null,
         "['HP:0001425', 'HP:0001453', 'HP:0001461', 'HP:0010985']",
         null,
         null,
         null,
         null
        ],
        [
         "4",
         "HP:0000006",
         "Autosomal dominant inheritance",
         null,
         "SNOMEDCT_US:263681008; UMLS:C0443147",
         "\"A mode of inheritance that is observed for traits related to a gene encoded on one of the autosomes (i.e., the human chromosomes 1-22) in which a trait manifests in heterozygotes. In the context of medical genetics, an autosomal dominant disorder is caused when a single copy of the mutant allele is present. Males and females are affected equally, and can both transmit the disorder with a risk of 50% for each child of inheriting the mutant allele.\" [https://orcid.org/0000-0002-0736-9199]",
         "['\"Autosomal dominant\" EXACT []', '\"Autosomal dominant form\" RELATED [https://orcid.org/0000-0002-5316-1399]', '\"Autosomal dominant type\" RELATED [https://orcid.org/0000-0002-5316-1399]', '\"monoallelic_autosomal\" EXACT HP:0034334 []']",
         "HP:0034345 ! Mendelian inheritance",
         null,
         null,
         "['HP:0001415', 'HP:0001447', 'HP:0001448', 'HP:0001451', 'HP:0001452', 'HP:0001455', 'HP:0001456', 'HP:0001463']",
         null,
         null,
         null,
         null
        ],
        [
         "5",
         "HP:0000007",
         "Autosomal recessive inheritance",
         null,
         "SNOMEDCT_US:258211005; UMLS:C0441748; UMLS:C4020899",
         "\"A mode of inheritance that is observed for traits related to a gene encoded on one of the autosomes (i.e., the human chromosomes 1-22) in which a trait manifests in individuals with two pathogenic alleles, either homozygotes (two copies of the same mutant allele) or compound heterozygotes (whereby each copy of a gene has a distinct mutant allele).\" [https://orcid.org/0000-0002-0736-9199]",
         "['\"Autosomal recessive\" EXACT []', '\"Autosomal recessive form\" RELATED [https://orcid.org/0000-0002-5316-1399]', '\"Autosomal recessive predisposition\" RELATED []', '\"biallelic_autosomal\" EXACT HP:0034334 []']",
         "HP:0034345 ! Mendelian inheritance",
         null,
         null,
         "['HP:0001416', 'HP:0001526', 'HP:0031362']",
         null,
         null,
         null,
         null
        ],
        [
         "6",
         "HP:0000008",
         "Abnormal morphology of female internal genitalia",
         null,
         "UMLS:C4025900",
         "\"An abnormality of the female internal genitalia.\" [https://orcid.org/0000-0002-0736-9199]",
         "\"Abnormality of female internal genitalia\" EXACT []",
         "['HP:0000812 ! Abnormal internal genitalia', 'HP:0010460 ! Abnormality of the female genitalia']",
         null,
         null,
         null,
         null,
         null,
         null,
         null
        ],
        [
         "7",
         "HP:0000009",
         "Functional abnormality of the bladder",
         null,
         "UMLS:C3806583",
         "\"Dysfunction of the urinary bladder.\" [https://orcid.org/0000-0002-0736-9199]",
         "\"Poor bladder function\" EXACT []",
         "HP:0000014 ! Abnormality of the bladder",
         null,
         null,
         "['HP:0004424', 'HP:0008731']",
         null,
         null,
         null,
         null
        ],
        [
         "8",
         "HP:0000010",
         "Recurrent urinary tract infections",
         "The urinary tract comprises the kidneys, ureters, a bladder, and a urethra.",
         "SNOMEDCT_US:197927001; UMLS:C0262655",
         "\"Repeated infections of the urinary tract.\" [https://orcid.org/0000-0002-0736-9199]",
         "['\"Frequent urinary tract infections\" EXACT layperson []', '\"Recurrent UTIs\" EXACT abbreviation []', '\"Repeated bladder infections\" EXACT layperson []', '\"Repeated urinary tract infections\" EXACT layperson []', '\"Urinary tract infections\" EXACT layperson []', '\"Urinary tract infections, recurrent\" EXACT layperson [https://orcid.org/0000-0002-5316-1399]']",
         "['HP:0002719 ! Recurrent infections', 'HP:0011277 ! Abnormality of the urinary system physiology']",
         null,
         null,
         "HP:0000094",
         null,
         null,
         null,
         null
        ],
        [
         "9",
         "HP:0000011",
         "Neurogenic bladder",
         "Neurogenic bladder sphincter dysfunction (NBSD) can develop as a result of a lesion at any level in the nervous system, including the cerebral cortex, spinal cord, or peripheral nervous system. Neurologic conditions in children leading to neurogenic bladder dysfunction are predominantly congenital neural tube defects (including myelomeningocele, lipomeningocele, sacral agenesis, and occult lesions causing tethered cord). Acquired causes such as spinal cord tumors or trauma or sequelae of transverse myelitis are less frequent. Whereas from an etiologic standpoint neurogenic bladder dysfunction is a heterogeneous group, medical management will be similar irrespective of the underlying cause.",
         "SNOMEDCT_US:397732007; SNOMEDCT_US:398064005; UMLS:C0005697",
         "\"A type of bladder dysfunction caused by neurologic damage. Neurogenic bladder can be flaccid or spastic. Common manifestatios of neurogenic bladder are overflow incontinence, frequency, urgency, urge incontinence, and retention.\" [https://orcid.org/0000-0002-0736-9199, PMID:18095004, PMID:22400020]",
         "\"Lack of bladder control due to nervous system injury\" EXACT layperson [https://orcid.org/0000-0002-6548-5200]",
         "HP:0000009 ! Functional abnormality of the bladder",
         null,
         null,
         null,
         null,
         null,
         null,
         null
        ],
        [
         "10",
         "HP:0000012",
         "Urinary urgency",
         "Urinary urgency is the strong, sudden need to urinate and is usually due to bladder spasms or contractions. This symptom is suggestive of, but not necessarily conclusive for urodynamically demonstrable detrusor hyperactivity.",
         "SNOMEDCT_US:75088002; UMLS:C0085606; UMLS:C3544092; UMLS:C4020898",
         "\"Urge incontinence is the strong, sudden need to urinate.\" [https://orcid.org/0000-0002-0736-9199, PMID:12559262]",
         "['\"Overactive bladder\" EXACT layperson [https://orcid.org/0000-0002-0736-9199]', '\"Overactive bladder syndrome\" RELATED []', '\"Urgency frequency syndrome\" RELATED []', '\"Urgent micturition\" EXACT []', '\"Urinary urgency\" EXACT layperson []']",
         "HP:0000009 ! Functional abnormality of the bladder",
         null,
         null,
         null,
         null,
         null,
         null,
         null
        ],
        [
         "11",
         "HP:0000013",
         "Hypoplasia of the uterus",
         null,
         "SNOMEDCT_US:35850006; UMLS:C0266399",
         "\"Underdevelopment of the uterus.\" [https://orcid.org/0000-0002-0736-9199]",
         "['\"Hypoplastic uterus\" EXACT []', '\"Rudimentary uterus\" EXACT []', '\"Small uterus\" EXACT layperson [https://orcid.org/0000-0001-5208-3432]', '\"Underdeveloped uterus\" EXACT layperson [https://orcid.org/0000-0001-5208-3432]']",
         "HP:0008684 ! Aplasia/hypoplasia of the uterus",
         null,
         null,
         "['HP:0001154', 'HP:0008637']",
         null,
         null,
         null,
         null
        ],
        [
         "12",
         "HP:0000014",
         "Abnormality of the bladder",
         null,
         "UMLS:C0149632",
         "\"An abnormality of the urinary bladder.\" [https://orcid.org/0000-0002-0736-9199]",
         null,
         "HP:0010936 ! Abnormality of the lower urinary tract",
         null,
         null,
         null,
         null,
         null,
         null,
         null
        ],
        [
         "13",
         "HP:0000015",
         "Bladder diverticulum",
         null,
         "SNOMEDCT_US:197866008; UMLS:C0156273",
         "\"Diverticulum (sac or pouch) in the wall of the urinary bladder.\" [https://orcid.org/0000-0002-0736-9199]",
         "\"Bladder diverticula\" EXACT [https://orcid.org/0000-0002-5316-1399]",
         "HP:0025487 ! Abnormal bladder morphology",
         null,
         null,
         null,
         null,
         null,
         null,
         null
        ],
        [
         "14",
         "HP:0000016",
         "Urinary retention",
         "Urinary retention is the inability of the urinary bladder to empty. The cause may be neurologic or nonneurologic.",
         "SNOMEDCT_US:130951007; SNOMEDCT_US:267064002; SNOMEDCT_US:449491000124101; UMLS:C0080274",
         "\"Inability to completely empty the urinary bladder during the process of urination.\" [https://orcid.org/0000-0002-0736-9199]",
         "\"Increased post-void residual urine volume\" EXACT []",
         "HP:0000009 ! Functional abnormality of the bladder",
         null,
         null,
         null,
         null,
         null,
         null,
         null
        ],
        [
         "15",
         "HP:0000017",
         "Nocturia",
         "Often occurring as a result of heart insufficiency.",
         "SNOMEDCT_US:139394000; UMLS:C0028734",
         "\"Abnormally increased production of urine during the night leading to an unusually frequent need to urinate.\" [https://orcid.org/0009-0006-4530-3154]",
         "\"Nycturia\" EXACT [https://orcid.org/0009-0006-4530-3154]",
         "HP:0000009 ! Functional abnormality of the bladder",
         null,
         null,
         null,
         null,
         null,
         null,
         null
        ],
        [
         "16",
         "HP:0000019",
         "Urinary hesitancy",
         null,
         "SNOMEDCT_US:5972002; UMLS:C0152032",
         "\"Difficulty in beginning the process of urination.\" [https://orcid.org/0000-0002-0736-9199]",
         "\"Difficulty with flow\" EXACT layperson [https://orcid.org/0000-0001-5208-3432]",
         "HP:0000009 ! Functional abnormality of the bladder",
         null,
         null,
         null,
         null,
         null,
         null,
         null
        ],
        [
         "17",
         "HP:0000020",
         "Urinary incontinence",
         "Urinary incontinence can be defined as the complaint of any involuntary leakage of urine.",
         "SNOMEDCT_US:165232002; UMLS:C0042024",
         "\"Loss of the ability to control the urinary bladder leading to involuntary urination.\" [https://orcid.org/0009-0006-4530-3154, PMID:12559262]",
         "['\"Bladder incontinence\" EXACT []', '\"Loss of bladder control\" EXACT layperson [https://orcid.org/0000-0001-5208-3432]']",
         "['HP:0000009 ! Functional abnormality of the bladder', 'HP:0031064 ! Impaired continence']",
         null,
         null,
         "['HP:0006942', 'HP:0008681']",
         null,
         null,
         null,
         null
        ],
        [
         "18",
         "HP:0000021",
         "Megacystis",
         null,
         "UMLS:C1855311",
         "\"Dilatation of the bladder postnatally.\" [https://orcid.org/0000-0002-0736-9199]",
         null,
         "HP:0010955 ! Dilatation of the bladder",
         null,
         null,
         "HP:0002838",
         null,
         null,
         null,
         null
        ],
        [
         "19",
         "HP:0000022",
         "Abnormal male internal genitalia morphology",
         "The internal genital structures of the male including the testis, epididymis, vas deferens, seminal vesicle, ejaculatory duct, bulbourethral gland, and the prostate.",
         "UMLS:C4025899",
         "\"An abnormality of the male internal genitalia.\" [https://orcid.org/0000-0002-0736-9199]",
         null,
         "['HP:0000812 ! Abnormal internal genitalia', 'HP:0010461 ! Abnormality of the male genitalia']",
         null,
         null,
         null,
         null,
         null,
         null,
         null
        ],
        [
         "20",
         "HP:0000023",
         "Inguinal hernia",
         "Inguinal hernia appears as a bulge in the groin.",
         "MEDDRA:10022016 \"Inguinal hernia\"; SNOMEDCT_US:396232000; UMLS:C0019294",
         "\"Protrusion of the contents of the abdominal cavity through the inguinal canal.\" [https://orcid.org/0000-0002-0736-9199]",
         null,
         "HP:0004299 ! Hernia of the abdominal wall",
         null,
         null,
         null,
         "hposlim_core",
         null,
         null,
         null
        ],
        [
         "21",
         "HP:0000024",
         "Prostatitis",
         null,
         "SNOMEDCT_US:9713002; UMLS:C0033581",
         "\"The presence of inflammation of the prostate.\" [https://orcid.org/0000-0002-0736-9199]",
         "\"Inflammation of the prostate\" EXACT layperson [https://orcid.org/0000-0001-5208-3432]",
         "['HP:0008775 ! Abnormal prostate morphology', 'HP:0012649 ! Increased inflammatory response']",
         null,
         null,
         null,
         null,
         null,
         null,
         null
        ],
        [
         "22",
         "HP:0000025",
         "Functional abnormality of male internal genitalia",
         null,
         "UMLS:C4025898",
         null,
         null,
         "HP:0012874 ! Abnormal male reproductive system physiology",
         null,
         null,
         null,
         null,
         null,
         null,
         null
        ],
        [
         "23",
         "HP:0000026",
         "Male hypogonadism",
         null,
         "SNOMEDCT_US:48723006; UMLS:C0151721",
         "\"Decreased functionality of the male gonad, i.e., of the testis, with reduced spermatogenesis or testosterone synthesis.\" [https://orcid.org/0000-0002-0736-9199]",
         "\"Decreased function of male gonad\" EXACT layperson [https://orcid.org/0000-0001-5208-3432]",
         "['HP:0000025 ! Functional abnormality of male internal genitalia', 'HP:0000135 ! Hypogonadism']",
         null,
         null,
         "HP:0008649",
         null,
         null,
         null,
         null
        ],
        [
         "24",
         "HP:0000027",
         "Azoospermia",
         null,
         "SNOMEDCT_US:425558002; SNOMEDCT_US:48188009; UMLS:C0004509",
         "\"Absence of any measurable level of sperm,whereby spermatozoa cannot be observed even after centrifugation of the semen pellet.\" [https://orcid.org/0000-0002-0736-9199, PMID:20514278]",
         "\"Absent sperm in semen\" EXACT layperson [https://orcid.org/0000-0001-5208-3432]",
         "HP:0008669 ! Abnormal spermatogenesis",
         null,
         null,
         null,
         null,
         null,
         null,
         null
        ],
        [
         "25",
         "HP:0000028",
         "Cryptorchidism",
         "The gonad is mobile and can be retracted superiorly by the cremaster muscle reflex stimulated, for instance, by cold or touch. A retracted testis is not cryptorchidism. An abdominal testis cannot be distinguished by physical examination from an (Apparently) absent testis and requires radiological (or, rarely, surgical) procedures for assessment.",
         "Fyler:4493; SNOMEDCT_US:204878001; UMLS:C0010417",
         "\"Testis in inguinal canal. That is, absence of one or both testes from the scrotum owing to failure of the testis or testes to descend through the inguinal canal to the scrotum.\" [https://orcid.org/0000-0002-0736-9199, PMID:23650202]",
         "['\"Cryptorchism\" EXACT [https://orcid.org/0000-0001-5208-3432]', '\"Undescended testes\" EXACT layperson []', '\"Undescended testis\" EXACT layperson []']",
         "HP:0000035 ! Abnormal testis morphology",
         null,
         null,
         "HP:0000797",
         null,
         null,
         null,
         null
        ],
        [
         "26",
         "HP:0000029",
         "Testicular atrophy",
         null,
         "SNOMEDCT_US:17585008; UMLS:C0156312",
         "\"Wasting (atrophy) of the testicle (the male gonad) manifested by a decrease in size and potentially by a loss of fertility.\" [https://orcid.org/0000-0002-0736-9199]",
         "\"Testicular degeneration\" EXACT layperson [https://orcid.org/0000-0001-5208-3432]",
         "HP:0000035 ! Abnormal testis morphology",
         null,
         null,
         null,
         null,
         null,
         null,
         null
        ],
        [
         "27",
         "HP:0000030",
         "Testicular gonadoblastoma",
         null,
         "NCIT:C3754; UMLS:C1515283",
         "\"The presence of a gonadoblastoma of the testis.\" [https://orcid.org/0000-0002-0736-9199]",
         "\"Gonadoblastoma, male\" RELATED []",
         "['HP:0000150 ! Gonadoblastoma', 'HP:0010788 ! Testicular neoplasm']",
         null,
         null,
         null,
         null,
         null,
         null,
         null
        ],
        [
         "28",
         "HP:0000031",
         "Epididymitis",
         null,
         "SNOMEDCT_US:31070006; UMLS:C0014534",
         "\"The presence of inflammation of the epididymis.\" [https://orcid.org/0000-0002-0736-9199]",
         null,
         "['HP:0009714 ! Abnormal epididymis morphology', 'HP:0012649 ! Increased inflammatory response']",
         null,
         null,
         null,
         null,
         null,
         null,
         null
        ],
        [
         "29",
         "HP:0000032",
         "Abnormal male external genitalia morphology",
         null,
         "UMLS:C4025897",
         "\"Any structural abnormality of male external genitalia.\" [https://orcid.org/0000-0002-0736-9199]",
         "\"Abnormality of male external genitalia\" EXACT []",
         "['HP:0000811 ! Abnormal external genitalia morphology', 'HP:0010461 ! Abnormality of the male genitalia']",
         null,
         null,
         null,
         null,
         null,
         null,
         null
        ],
        [
         "30",
         "HP:0000033",
         "Ambiguous genitalia, male",
         null,
         "UMLS:C4021823",
         "\"Ambiguous genitalia in an individual with XY genetic gender.\" [https://orcid.org/0000-0002-0736-9199]",
         "\"Ambiguous genitalia in males\" EXACT layperson []",
         "['HP:0000032 ! Abnormal male external genitalia morphology', 'HP:0000062 ! Ambiguous genitalia']",
         null,
         null,
         null,
         null,
         null,
         null,
         null
        ],
        [
         "31",
         "HP:0000034",
         "Hydrocele testis",
         null,
         "SNOMEDCT_US:26614003; SNOMEDCT_US:386152007; SNOMEDCT_US:55434001; UMLS:C1720771",
         "\"Accumulation of clear fluid in the between the layers of membrane (tunica vaginalis) surrounding the testis.\" [PMID:32644551]",
         "['\"Hydrocele\" BROAD []', '\"Testicular hydrocele\" EXACT []']",
         "HP:0000035 ! Abnormal testis morphology",
         null,
         null,
         null,
         null,
         null,
         null,
         null
        ],
        [
         "32",
         "HP:0000035",
         "Abnormal testis morphology",
         null,
         "SNOMEDCT_US:55631001; UMLS:C0266423",
         "\"An anomaly of the testicle (the male gonad).\" [https://orcid.org/0000-0002-0736-9199]",
         "['\"Abnormality of the testis\" EXACT layperson []', '\"Anomaly of the testes\" EXACT []']",
         "HP:0000032 ! Abnormal male external genitalia morphology",
         null,
         null,
         null,
         null,
         null,
         null,
         null
        ],
        [
         "33",
         "HP:0000036",
         "Abnormal penis morphology",
         null,
         "UMLS:C4025896",
         "\"Abnormality of the male external sex organ.\" []",
         "\"Abnormality of the penis\" EXACT layperson []",
         "HP:0000032 ! Abnormal male external genitalia morphology",
         null,
         null,
         null,
         null,
         null,
         null,
         null
        ],
        [
         "34",
         "HP:0000037",
         "Male pseudohermaphroditism",
         null,
         "SNOMEDCT_US:111332007; UMLS:C0238395",
         "\"Hermaphroditism refers to a discrepancy between the morphology of the gonads and that of the external genitalia. In male pseudohermaphroditism, the genotype is male (XY) and the external genitalia are imcompletely virilized, ambiguous, or complete female. If gonads are present, they are testes.\" [https://orcid.org/0000-0002-0736-9199]",
         null,
         "HP:0000032 ! Abnormal male external genitalia morphology",
         null,
         null,
         null,
         null,
         null,
         null,
         null
        ],
        [
         "35",
         "HP:0000039",
         "Epispadias",
         "Epispadias may be present in a phenotypic male, female, or an individual with ambiguous genitalia. A meatus in a phenotypic male may be positioned either on the glans (glandular or balanic epispadias), the shaft (penile epispadias) or at the attachment of the penis to the abdominal wall (penopubic epispadias). Alternatively, the urethra may be an open groove along the dorsal shaft of the penis, with no readily recognized meatus. Epispadias is a frequent component of Bladder exstrophy, but should be coded separately.",
         "SNOMEDCT_US:406477003; UMLS:C0563449",
         "\"Epispadias is a urogenital malformation characterized by the failure of the urethral tube to tubularize on the dorsal aspect. Unlike in hypospadias, where the meatus is on the ventral aspect, children with epispadias have a wide-open urethral plate on the dorsum. It is commonly seen as a component in the spectrum of bladder exstrophy-epispadias-complex. Isolated epispadias constitutes less than 10 percent of the total cases of epispadias.\" [https://orcid.org/0000-0002-0736-9199, PMID:23650202, PMID:33085327]",
         null,
         "HP:0100627 ! Displacement of the urethral meatus",
         null,
         null,
         null,
         null,
         null,
         null,
         null
        ],
        [
         "36",
         "HP:0000040",
         "Long penis",
         "Penile length is the distance between the midline attachment of the gently stretched, flaccid penis above the pubic symphysis and tip of the glans.",
         "SNOMEDCT_US:88673001; UMLS:C0269011",
         "\"Penile length more than 2 SD above the mean for age.\" []",
         "['\"Enlarged penis\" EXACT layperson []', '\"Long penis\" EXACT layperson []']",
         "HP:0000036 ! Abnormal penis morphology",
         null,
         null,
         null,
         null,
         null,
         null,
         null
        ],
        [
         "37",
         "HP:0000041",
         "Chordee",
         "The degree of variation of penis curvature is a continuum, but traditionally 30 degrees is considered the threshold for surgical intervention on chordee. Bowing usually becomes more obvious in an erect penis, but is frequently also palpable when stretching a flaccid penis. Chordee can be congenital or acquired; if the former, it can be associated with Webbed Penis or Hypospadias, which should be coded separately.",
         "SNOMEDCT_US:4287008; UMLS:C0221182",
         "\"Ventral (i.e., downward), lateral, or ventrolateral curvature of the shaft and glans penis of more than 30 degrees.\" [https://orcid.org/0000-0002-0736-9199, PMID:23650202, PMID:29570261]",
         null,
         "HP:0000036 ! Abnormal penis morphology",
         null,
         null,
         null,
         null,
         null,
         null,
         null
        ],
        [
         "38",
         "HP:0000042",
         "Absent external genitalia",
         null,
         "UMLS:C1848869",
         "\"Lack of external genitalia in a male or female individual.\" [https://orcid.org/0000-0002-0736-9199]",
         "\"Absent external genitalia\" EXACT layperson []",
         "HP:0000811 ! Abnormal external genitalia morphology",
         null,
         null,
         null,
         null,
         null,
         null,
         null
        ],
        [
         "39",
         "HP:0000044",
         "Hypogonadotropic hypogonadism",
         null,
         "SNOMEDCT_US:33927004; UMLS:C0271623; UMLS:C3489396",
         "\"Hypogonadotropic hypogonadism is characterized by reduced function of the gonads (testes in males or ovaries in females) and results from the absence of the gonadal stimulating pituitary hormones: follicle stimulating hormone (FSH) and luteinizing hormone (LH).\" [https://orcid.org/0000-0002-0736-9199, PMID:23503957]",
         "['\"Hypogonadotrophic hypogonadism\" EXACT []', '\"Isolated hypogonadotropic hypogonadism\" RELATED []', '\"Low gonadotropins (secondary hypogonadism)\" EXACT []']",
         "HP:0000135 ! Hypogonadism",
         null,
         null,
         "['HP:0003335', 'HP:0008224']",
         null,
         null,
         null,
         null
        ],
        [
         "40",
         "HP:0000045",
         "Abnormal scrotum morphology",
         null,
         "UMLS:C4025895",
         "\"Any structural abnormality of the scrotum, i.e., the sac that contains the testes, epididymis, and the lower part of the spermatic cord.\" []",
         "\"Abnormality of the scrotum\" EXACT []",
         "HP:0000032 ! Abnormal male external genitalia morphology",
         null,
         null,
         null,
         null,
         null,
         null,
         null
        ],
        [
         "41",
         "HP:0000046",
         "Small scrotum",
         "A small scrotum is often accompanied by Cryptorchidism which should be coded separately. The size of the scrotum is dependent on the ambient temperature: a low temperature may cause the testes to retract, leading to the false impression of a small scrotum.",
         "SNOMEDCT_US:204912007; UMLS:C0431659",
         "\"Apparently small scrotum for age.\" [PMID:23650202]",
         "['\"Hypoplastic scrotum\" EXACT []', '\"Scrotal hypoplasia\" EXACT []', '\"Smaller than typical growth of scrotum\" EXACT layperson [https://orcid.org/0000-0001-5208-3432, https://orcid.org/0000-0002-6548-5200]', '\"Underdeveloped scrotum\" EXACT layperson []']",
         "['HP:0000045 ! Abnormal scrotum morphology', 'HP:0000050 ! Hypoplastic male external genitalia']",
         null,
         null,
         "HP:0030276",
         null,
         null,
         null,
         null
        ],
        [
         "42",
         "HP:0000047",
         "Hypospadias",
         null,
         "Fyler:4504; SNOMEDCT_US:204888000; UMLS:C1691215",
         "\"Abnormal position of urethral meatus on the ventral penile shaft (underside) characterized by displacement of the urethral meatus from the tip of the glans penis to the ventral surface of the penis, scrotum, or perineum.\" [https://orcid.org/0000-0002-0736-9199, PMID:21968448]",
         "\"Hypospadia\" EXACT [https://orcid.org/0000-0001-5208-3432]",
         "HP:0100627 ! Displacement of the urethral meatus",
         null,
         null,
         null,
         null,
         null,
         null,
         null
        ],
        [
         "43",
         "HP:0000048",
         "Bifid scrotum",
         "A testis may or may not be present in each half of the scrotum.",
         "SNOMEDCT_US:236780002; UMLS:C0341787",
         "\"Midline indentation or cleft of the scrotum.\" [https://orcid.org/0000-0002-0736-9199, PMID:23650202]",
         "['\"Cleft of scrotum\" EXACT layperson [https://orcid.org/0000-0001-5208-3432]', '\"Scrotal cleft\" EXACT []']",
         "HP:0000045 ! Abnormal scrotum morphology",
         null,
         null,
         null,
         null,
         null,
         null,
         null
        ],
        [
         "44",
         "HP:0000049",
         "Shawl scrotum",
         "A congenital overriding scrotum may disappear with growth and development, especially during puberty. If the entire scrotum is located superior to the penis, the term Penoscrotal transposition is used instead.",
         "UMLS:C1858539",
         "\"Superior margin of the scrotum superior to the base of the penis.\" [https://orcid.org/0000-0002-0736-9199, PMID:23650202]",
         "['\"Overriding scrotum\" EXACT []', '\"Scrotum surrounds penis\" EXACT layperson [https://orcid.org/0000-0002-6548-5200]']",
         "HP:0000045 ! Abnormal scrotum morphology",
         null,
         null,
         null,
         null,
         null,
         null,
         null
        ],
        [
         "45",
         "HP:0000050",
         "Hypoplastic male external genitalia",
         null,
         "UMLS:C1852534",
         "\"Underdevelopment of part or all of the male external reproductive organs (which include the penis, the scrotum and the urethra).\" [https://orcid.org/0000-0002-0736-9199]",
         "['\"Hypoplastic male genitalia\" EXACT []', '\"Small male external genitalia\" EXACT layperson []', '\"Underdeveloped male genitalia\" EXACT layperson [https://orcid.org/0000-0001-5208-3432]']",
         "['HP:0000032 ! Abnormal male external genitalia morphology', 'HP:0003241 ! External genital hypoplasia']",
         null,
         null,
         "['HP:0008710', 'HP:0008721']",
         null,
         null,
         null,
         null
        ],
        [
         "46",
         "HP:0000051",
         "Perineal hypospadias",
         null,
         "SNOMEDCT_US:204890004; UMLS:C0452148",
         "\"Hypospadias with location of the urethral meatus in the perineal region.\" [https://orcid.org/0000-0002-0736-9199, PMID:8097257]",
         null,
         "HP:0000047 ! Hypospadias",
         null,
         null,
         null,
         null,
         null,
         null,
         null
        ],
        [
         "47",
         "HP:0000052",
         "Urethral atresia, male",
         null,
         "UMLS:C4025894",
         "\"Congenital anomaly characterized by closure or failure to develop an opening in the urethra in males.\" [https://orcid.org/0000-0002-0736-9199]",
         null,
         "HP:0000068 ! Urethral atresia",
         null,
         null,
         null,
         null,
         null,
         null,
         null
        ],
        [
         "48",
         "HP:0000053",
         "Macroorchidism",
         null,
         "UMLS:C1263023",
         "\"The presence of abnormally large testes.\" [https://orcid.org/0000-0002-0736-9199]",
         "['\"Large testicles\" EXACT []', '\"Large testis\" EXACT layperson []']",
         "HP:0045058 ! Abnormality of the testis size",
         null,
         null,
         null,
         null,
         null,
         null,
         null
        ],
        [
         "49",
         "HP:0000054",
         "Micropenis",
         null,
         "SNOMEDCT_US:34911001; UMLS:C4551492",
         "\"Abnormally small penis. At birth, the normal penis is about 3 cm (stretched length from pubic tubercle to tip of penis) with micropenis less than 2.0-2.5 cm.\" [https://orcid.org/0000-0002-0736-9199, PMID:15102623]",
         "['\"Short penis\" EXACT layperson []', '\"Small penis\" EXACT layperson []']",
         "HP:0008736 ! Hypoplasia of penis",
         null,
         null,
         "HP:0000038",
         null,
         null,
         null,
         null
        ]
       ],
       "shape": {
        "columns": 14,
        "rows": 19533
       }
      },
      "text/html": [
       "<div>\n",
       "<style scoped>\n",
       "    .dataframe tbody tr th:only-of-type {\n",
       "        vertical-align: middle;\n",
       "    }\n",
       "\n",
       "    .dataframe tbody tr th {\n",
       "        vertical-align: top;\n",
       "    }\n",
       "\n",
       "    .dataframe thead th {\n",
       "        text-align: right;\n",
       "    }\n",
       "</style>\n",
       "<table border=\"1\" class=\"dataframe\">\n",
       "  <thead>\n",
       "    <tr style=\"text-align: right;\">\n",
       "      <th></th>\n",
       "      <th>id</th>\n",
       "      <th>name</th>\n",
       "      <th>comment</th>\n",
       "      <th>xref</th>\n",
       "      <th>def</th>\n",
       "      <th>synonym</th>\n",
       "      <th>is_a</th>\n",
       "      <th>property_value</th>\n",
       "      <th>creation_date</th>\n",
       "      <th>alt_id</th>\n",
       "      <th>subset</th>\n",
       "      <th>is_obsolete</th>\n",
       "      <th>replaced_by</th>\n",
       "      <th>consider</th>\n",
       "    </tr>\n",
       "  </thead>\n",
       "  <tbody>\n",
       "    <tr>\n",
       "      <th>0</th>\n",
       "      <td>HP:0000001</td>\n",
       "      <td>All</td>\n",
       "      <td>Root of all terms in the Human Phenotype Ontol...</td>\n",
       "      <td>UMLS:C0444868</td>\n",
       "      <td>NaN</td>\n",
       "      <td>NaN</td>\n",
       "      <td>NaN</td>\n",
       "      <td>NaN</td>\n",
       "      <td>NaN</td>\n",
       "      <td>NaN</td>\n",
       "      <td>NaN</td>\n",
       "      <td>NaN</td>\n",
       "      <td>NaN</td>\n",
       "      <td>NaN</td>\n",
       "    </tr>\n",
       "    <tr>\n",
       "      <th>1</th>\n",
       "      <td>HP:0000002</td>\n",
       "      <td>Abnormality of body height</td>\n",
       "      <td>NaN</td>\n",
       "      <td>UMLS:C4025901</td>\n",
       "      <td>\"Deviation from the norm of height with respec...</td>\n",
       "      <td>\"Abnormality of body height\" EXACT layperson []</td>\n",
       "      <td>HP:0001507 ! Growth abnormality</td>\n",
       "      <td>terms:creator https://orcid.org/0000-0002-0736...</td>\n",
       "      <td>2008-02-27T02:20:00Z</td>\n",
       "      <td>NaN</td>\n",
       "      <td>NaN</td>\n",
       "      <td>NaN</td>\n",
       "      <td>NaN</td>\n",
       "      <td>NaN</td>\n",
       "    </tr>\n",
       "    <tr>\n",
       "      <th>2</th>\n",
       "      <td>HP:0000003</td>\n",
       "      <td>Multicystic kidney dysplasia</td>\n",
       "      <td>Multicystic kidney dysplasia is the result of ...</td>\n",
       "      <td>SNOMEDCT_US:204962002; SNOMEDCT_US:82525005; U...</td>\n",
       "      <td>\"Multicystic dysplasia of the kidney is charac...</td>\n",
       "      <td>[\"Multicystic dysplastic kidney\" EXACT [], \"Mu...</td>\n",
       "      <td>HP:0000107 ! Renal cyst</td>\n",
       "      <td>NaN</td>\n",
       "      <td>NaN</td>\n",
       "      <td>HP:0004715</td>\n",
       "      <td>NaN</td>\n",
       "      <td>NaN</td>\n",
       "      <td>NaN</td>\n",
       "      <td>NaN</td>\n",
       "    </tr>\n",
       "    <tr>\n",
       "      <th>3</th>\n",
       "      <td>HP:0000005</td>\n",
       "      <td>Mode of inheritance</td>\n",
       "      <td>While there is a close conceptual relationship...</td>\n",
       "      <td>UMLS:C1708511</td>\n",
       "      <td>\"The pattern in which a particular genetic tra...</td>\n",
       "      <td>\"Inheritance\" EXACT []</td>\n",
       "      <td>HP:0000001 ! All</td>\n",
       "      <td>NaN</td>\n",
       "      <td>NaN</td>\n",
       "      <td>[HP:0001425, HP:0001453, HP:0001461, HP:0010985]</td>\n",
       "      <td>NaN</td>\n",
       "      <td>NaN</td>\n",
       "      <td>NaN</td>\n",
       "      <td>NaN</td>\n",
       "    </tr>\n",
       "    <tr>\n",
       "      <th>4</th>\n",
       "      <td>HP:0000006</td>\n",
       "      <td>Autosomal dominant inheritance</td>\n",
       "      <td>NaN</td>\n",
       "      <td>SNOMEDCT_US:263681008; UMLS:C0443147</td>\n",
       "      <td>\"A mode of inheritance that is observed for tr...</td>\n",
       "      <td>[\"Autosomal dominant\" EXACT [], \"Autosomal dom...</td>\n",
       "      <td>HP:0034345 ! Mendelian inheritance</td>\n",
       "      <td>NaN</td>\n",
       "      <td>NaN</td>\n",
       "      <td>[HP:0001415, HP:0001447, HP:0001448, HP:000145...</td>\n",
       "      <td>NaN</td>\n",
       "      <td>NaN</td>\n",
       "      <td>NaN</td>\n",
       "      <td>NaN</td>\n",
       "    </tr>\n",
       "    <tr>\n",
       "      <th>...</th>\n",
       "      <td>...</td>\n",
       "      <td>...</td>\n",
       "      <td>...</td>\n",
       "      <td>...</td>\n",
       "      <td>...</td>\n",
       "      <td>...</td>\n",
       "      <td>...</td>\n",
       "      <td>...</td>\n",
       "      <td>...</td>\n",
       "      <td>...</td>\n",
       "      <td>...</td>\n",
       "      <td>...</td>\n",
       "      <td>...</td>\n",
       "      <td>...</td>\n",
       "    </tr>\n",
       "    <tr>\n",
       "      <th>19528</th>\n",
       "      <td>HP:6001198</td>\n",
       "      <td>Scapholunate interval widening</td>\n",
       "      <td>NaN</td>\n",
       "      <td>NaN</td>\n",
       "      <td>\"Widening of the space between the scaphoid an...</td>\n",
       "      <td>\"Terry-Thomas sign\" EXACT []</td>\n",
       "      <td>HP:0001191 ! Abnormal carpal morphology</td>\n",
       "      <td>[IAO:0000233 https://github.com/obophenotype/h...</td>\n",
       "      <td>NaN</td>\n",
       "      <td>NaN</td>\n",
       "      <td>NaN</td>\n",
       "      <td>NaN</td>\n",
       "      <td>NaN</td>\n",
       "      <td>NaN</td>\n",
       "    </tr>\n",
       "    <tr>\n",
       "      <th>19529</th>\n",
       "      <td>HP:6001199</td>\n",
       "      <td>FInger pulp localization</td>\n",
       "      <td>NaN</td>\n",
       "      <td>NaN</td>\n",
       "      <td>\"Applies to an abnormality whose distribution ...</td>\n",
       "      <td>\"Symptoms localized to pulp of the finger\" EXA...</td>\n",
       "      <td>HP:0012836 ! Spatial pattern</td>\n",
       "      <td>[IAO:0000233 https://github.com/obophenotype/h...</td>\n",
       "      <td>NaN</td>\n",
       "      <td>NaN</td>\n",
       "      <td>NaN</td>\n",
       "      <td>NaN</td>\n",
       "      <td>NaN</td>\n",
       "      <td>NaN</td>\n",
       "    </tr>\n",
       "    <tr>\n",
       "      <th>19530</th>\n",
       "      <td>HP:6001200</td>\n",
       "      <td>Ulnar wrist pain</td>\n",
       "      <td>The ulnar side of the wrist is the side of the...</td>\n",
       "      <td>NaN</td>\n",
       "      <td>\"An unpleasant sensation characterized by phys...</td>\n",
       "      <td>NaN</td>\n",
       "      <td>HP:0030836 ! Wrist pain</td>\n",
       "      <td>[IAO:0000233 https://github.com/obophenotype/h...</td>\n",
       "      <td>NaN</td>\n",
       "      <td>NaN</td>\n",
       "      <td>NaN</td>\n",
       "      <td>NaN</td>\n",
       "      <td>NaN</td>\n",
       "      <td>NaN</td>\n",
       "    </tr>\n",
       "    <tr>\n",
       "      <th>19531</th>\n",
       "      <td>HP:6001201</td>\n",
       "      <td>Lunotriquetral interval widening</td>\n",
       "      <td>This finding may be observed with lunotriquetr...</td>\n",
       "      <td>NaN</td>\n",
       "      <td>\"Radiographic widening of the space between th...</td>\n",
       "      <td>NaN</td>\n",
       "      <td>HP:0001191 ! Abnormal carpal morphology</td>\n",
       "      <td>[IAO:0000233 https://github.com/obophenotype/h...</td>\n",
       "      <td>NaN</td>\n",
       "      <td>NaN</td>\n",
       "      <td>NaN</td>\n",
       "      <td>NaN</td>\n",
       "      <td>NaN</td>\n",
       "      <td>NaN</td>\n",
       "    </tr>\n",
       "    <tr>\n",
       "      <th>19532</th>\n",
       "      <td>HP:6001202</td>\n",
       "      <td>Ulnar translocation of the carpus</td>\n",
       "      <td>This finding may be observed with Carpal insta...</td>\n",
       "      <td>NaN</td>\n",
       "      <td>\"Anteroposterior wrist radiograph showing ulna...</td>\n",
       "      <td>NaN</td>\n",
       "      <td>HP:0001191 ! Abnormal carpal morphology</td>\n",
       "      <td>[IAO:0000233 https://github.com/obophenotype/h...</td>\n",
       "      <td>NaN</td>\n",
       "      <td>NaN</td>\n",
       "      <td>NaN</td>\n",
       "      <td>NaN</td>\n",
       "      <td>NaN</td>\n",
       "      <td>NaN</td>\n",
       "    </tr>\n",
       "  </tbody>\n",
       "</table>\n",
       "<p>19533 rows × 14 columns</p>\n",
       "</div>"
      ],
      "text/plain": [
       "               id                               name  \\\n",
       "0      HP:0000001                                All   \n",
       "1      HP:0000002         Abnormality of body height   \n",
       "2      HP:0000003       Multicystic kidney dysplasia   \n",
       "3      HP:0000005                Mode of inheritance   \n",
       "4      HP:0000006     Autosomal dominant inheritance   \n",
       "...           ...                                ...   \n",
       "19528  HP:6001198     Scapholunate interval widening   \n",
       "19529  HP:6001199           FInger pulp localization   \n",
       "19530  HP:6001200                   Ulnar wrist pain   \n",
       "19531  HP:6001201   Lunotriquetral interval widening   \n",
       "19532  HP:6001202  Ulnar translocation of the carpus   \n",
       "\n",
       "                                                 comment  \\\n",
       "0      Root of all terms in the Human Phenotype Ontol...   \n",
       "1                                                    NaN   \n",
       "2      Multicystic kidney dysplasia is the result of ...   \n",
       "3      While there is a close conceptual relationship...   \n",
       "4                                                    NaN   \n",
       "...                                                  ...   \n",
       "19528                                                NaN   \n",
       "19529                                                NaN   \n",
       "19530  The ulnar side of the wrist is the side of the...   \n",
       "19531  This finding may be observed with lunotriquetr...   \n",
       "19532  This finding may be observed with Carpal insta...   \n",
       "\n",
       "                                                    xref  \\\n",
       "0                                          UMLS:C0444868   \n",
       "1                                          UMLS:C4025901   \n",
       "2      SNOMEDCT_US:204962002; SNOMEDCT_US:82525005; U...   \n",
       "3                                          UMLS:C1708511   \n",
       "4                   SNOMEDCT_US:263681008; UMLS:C0443147   \n",
       "...                                                  ...   \n",
       "19528                                                NaN   \n",
       "19529                                                NaN   \n",
       "19530                                                NaN   \n",
       "19531                                                NaN   \n",
       "19532                                                NaN   \n",
       "\n",
       "                                                     def  \\\n",
       "0                                                    NaN   \n",
       "1      \"Deviation from the norm of height with respec...   \n",
       "2      \"Multicystic dysplasia of the kidney is charac...   \n",
       "3      \"The pattern in which a particular genetic tra...   \n",
       "4      \"A mode of inheritance that is observed for tr...   \n",
       "...                                                  ...   \n",
       "19528  \"Widening of the space between the scaphoid an...   \n",
       "19529  \"Applies to an abnormality whose distribution ...   \n",
       "19530  \"An unpleasant sensation characterized by phys...   \n",
       "19531  \"Radiographic widening of the space between th...   \n",
       "19532  \"Anteroposterior wrist radiograph showing ulna...   \n",
       "\n",
       "                                                 synonym  \\\n",
       "0                                                    NaN   \n",
       "1        \"Abnormality of body height\" EXACT layperson []   \n",
       "2      [\"Multicystic dysplastic kidney\" EXACT [], \"Mu...   \n",
       "3                                 \"Inheritance\" EXACT []   \n",
       "4      [\"Autosomal dominant\" EXACT [], \"Autosomal dom...   \n",
       "...                                                  ...   \n",
       "19528                       \"Terry-Thomas sign\" EXACT []   \n",
       "19529  \"Symptoms localized to pulp of the finger\" EXA...   \n",
       "19530                                                NaN   \n",
       "19531                                                NaN   \n",
       "19532                                                NaN   \n",
       "\n",
       "                                          is_a  \\\n",
       "0                                          NaN   \n",
       "1              HP:0001507 ! Growth abnormality   \n",
       "2                      HP:0000107 ! Renal cyst   \n",
       "3                             HP:0000001 ! All   \n",
       "4           HP:0034345 ! Mendelian inheritance   \n",
       "...                                        ...   \n",
       "19528  HP:0001191 ! Abnormal carpal morphology   \n",
       "19529             HP:0012836 ! Spatial pattern   \n",
       "19530                  HP:0030836 ! Wrist pain   \n",
       "19531  HP:0001191 ! Abnormal carpal morphology   \n",
       "19532  HP:0001191 ! Abnormal carpal morphology   \n",
       "\n",
       "                                          property_value  \\\n",
       "0                                                    NaN   \n",
       "1      terms:creator https://orcid.org/0000-0002-0736...   \n",
       "2                                                    NaN   \n",
       "3                                                    NaN   \n",
       "4                                                    NaN   \n",
       "...                                                  ...   \n",
       "19528  [IAO:0000233 https://github.com/obophenotype/h...   \n",
       "19529  [IAO:0000233 https://github.com/obophenotype/h...   \n",
       "19530  [IAO:0000233 https://github.com/obophenotype/h...   \n",
       "19531  [IAO:0000233 https://github.com/obophenotype/h...   \n",
       "19532  [IAO:0000233 https://github.com/obophenotype/h...   \n",
       "\n",
       "              creation_date  \\\n",
       "0                       NaN   \n",
       "1      2008-02-27T02:20:00Z   \n",
       "2                       NaN   \n",
       "3                       NaN   \n",
       "4                       NaN   \n",
       "...                     ...   \n",
       "19528                   NaN   \n",
       "19529                   NaN   \n",
       "19530                   NaN   \n",
       "19531                   NaN   \n",
       "19532                   NaN   \n",
       "\n",
       "                                                  alt_id subset is_obsolete  \\\n",
       "0                                                    NaN    NaN         NaN   \n",
       "1                                                    NaN    NaN         NaN   \n",
       "2                                             HP:0004715    NaN         NaN   \n",
       "3       [HP:0001425, HP:0001453, HP:0001461, HP:0010985]    NaN         NaN   \n",
       "4      [HP:0001415, HP:0001447, HP:0001448, HP:000145...    NaN         NaN   \n",
       "...                                                  ...    ...         ...   \n",
       "19528                                                NaN    NaN         NaN   \n",
       "19529                                                NaN    NaN         NaN   \n",
       "19530                                                NaN    NaN         NaN   \n",
       "19531                                                NaN    NaN         NaN   \n",
       "19532                                                NaN    NaN         NaN   \n",
       "\n",
       "      replaced_by consider  \n",
       "0             NaN      NaN  \n",
       "1             NaN      NaN  \n",
       "2             NaN      NaN  \n",
       "3             NaN      NaN  \n",
       "4             NaN      NaN  \n",
       "...           ...      ...  \n",
       "19528         NaN      NaN  \n",
       "19529         NaN      NaN  \n",
       "19530         NaN      NaN  \n",
       "19531         NaN      NaN  \n",
       "19532         NaN      NaN  \n",
       "\n",
       "[19533 rows x 14 columns]"
      ]
     },
     "execution_count": 1,
     "metadata": {},
     "output_type": "execute_result"
    }
   ],
   "source": [
    "import pandas as pd\n",
    "\n",
    "def parse_obo(file_content):\n",
    "    terms = []\n",
    "    term = {}\n",
    "    in_term = False\n",
    "\n",
    "    for line in file_content:\n",
    "        line = line.strip()\n",
    "        if line == \"[Term]\":\n",
    "            if term:\n",
    "                terms.append(term)\n",
    "            term = {}\n",
    "            in_term = True\n",
    "        elif line == \"[Typedef]\":\n",
    "            in_term = False\n",
    "            if term:\n",
    "                terms.append(term)\n",
    "            term = {}\n",
    "        elif in_term:\n",
    "            if not line:\n",
    "                continue\n",
    "            if \": \" in line:\n",
    "                key, value = line.split(\": \", 1)\n",
    "                if key in term:\n",
    "                    if isinstance(term[key], list):\n",
    "                        term[key].append(value)\n",
    "                    else:\n",
    "                        term[key] = [term[key], value]\n",
    "                else:\n",
    "                    term[key] = value\n",
    "            else:\n",
    "                if 'unknown' in term:\n",
    "                    term['unknown'].append(line)\n",
    "                else:\n",
    "                    term['unknown'] = [line]\n",
    "    if term:\n",
    "        terms.append(term)\n",
    "    \n",
    "    return terms\n",
    "\n",
    "file_path = 'hp.obo'\n",
    "with open(file_path, 'r') as file:\n",
    "    content = file.readlines()\n",
    "\n",
    "parsed_terms = parse_obo(content)\n",
    "\n",
    "df_hpo = pd.DataFrame(parsed_terms)\n",
    "df_hpo['xref'] = df_hpo['xref'].apply(lambda x: '; '.join(x) if isinstance(x, list) else x)\n",
    "df_hpo"
   ]
  },
  {
   "cell_type": "code",
   "execution_count": 2,
   "metadata": {},
   "outputs": [
    {
     "name": "stdout",
     "output_type": "stream",
     "text": [
      "<class 'pandas.core.frame.DataFrame'>\n",
      "RangeIndex: 19533 entries, 0 to 19532\n",
      "Data columns (total 14 columns):\n",
      " #   Column          Non-Null Count  Dtype \n",
      "---  ------          --------------  ----- \n",
      " 0   id              19533 non-null  object\n",
      " 1   name            19533 non-null  object\n",
      " 2   comment         4275 non-null   object\n",
      " 3   xref            11562 non-null  object\n",
      " 4   def             16509 non-null  object\n",
      " 5   synonym         10859 non-null  object\n",
      " 6   is_a            19076 non-null  object\n",
      " 7   property_value  12627 non-null  object\n",
      " 8   creation_date   5011 non-null   object\n",
      " 9   alt_id          2040 non-null   object\n",
      " 10  subset          845 non-null    object\n",
      " 11  is_obsolete     456 non-null    object\n",
      " 12  replaced_by     362 non-null    object\n",
      " 13  consider        80 non-null     object\n",
      "dtypes: object(14)\n",
      "memory usage: 2.1+ MB\n"
     ]
    }
   ],
   "source": [
    "df_hpo.info()"
   ]
  },
  {
   "cell_type": "code",
   "execution_count": 3,
   "metadata": {},
   "outputs": [
    {
     "data": {
      "application/vnd.microsoft.datawrangler.viewer.v0+json": {
       "columns": [
        {
         "name": "index",
         "rawType": "int64",
         "type": "integer"
        },
        {
         "name": "id",
         "rawType": "object",
         "type": "string"
        },
        {
         "name": "name",
         "rawType": "object",
         "type": "string"
        },
        {
         "name": "UMLS",
         "rawType": "object",
         "type": "unknown"
        },
        {
         "name": " UMLS",
         "rawType": "object",
         "type": "unknown"
        }
       ],
       "conversionMethod": "pd.DataFrame",
       "ref": "dc5304d1-cacc-496c-84fa-50bc80fb90c0",
       "rows": [
        [
         "0",
         "HP:0000001",
         "All",
         "C0444868",
         null
        ],
        [
         "1",
         "HP:0000002",
         "Abnormality of body height",
         "C4025901",
         null
        ],
        [
         "2",
         "HP:0000003",
         "Multicystic kidney dysplasia",
         null,
         "C3714581"
        ],
        [
         "3",
         "HP:0000005",
         "Mode of inheritance",
         "C1708511",
         null
        ],
        [
         "4",
         "HP:0000006",
         "Autosomal dominant inheritance",
         null,
         "C0443147"
        ],
        [
         "5",
         "HP:0000007",
         "Autosomal recessive inheritance",
         null,
         "C0441748;C4020899"
        ],
        [
         "6",
         "HP:0000008",
         "Abnormal morphology of female internal genitalia",
         "C4025900",
         null
        ],
        [
         "7",
         "HP:0000009",
         "Functional abnormality of the bladder",
         "C3806583",
         null
        ],
        [
         "8",
         "HP:0000010",
         "Recurrent urinary tract infections",
         null,
         "C0262655"
        ],
        [
         "9",
         "HP:0000011",
         "Neurogenic bladder",
         null,
         "C0005697"
        ],
        [
         "10",
         "HP:0000012",
         "Urinary urgency",
         null,
         "C0085606;C3544092;C4020898"
        ],
        [
         "11",
         "HP:0000013",
         "Hypoplasia of the uterus",
         null,
         "C0266399"
        ],
        [
         "12",
         "HP:0000014",
         "Abnormality of the bladder",
         "C0149632",
         null
        ],
        [
         "13",
         "HP:0000015",
         "Bladder diverticulum",
         null,
         "C0156273"
        ],
        [
         "14",
         "HP:0000016",
         "Urinary retention",
         null,
         "C0080274"
        ],
        [
         "15",
         "HP:0000017",
         "Nocturia",
         null,
         "C0028734"
        ],
        [
         "16",
         "HP:0000019",
         "Urinary hesitancy",
         null,
         "C0152032"
        ],
        [
         "17",
         "HP:0000020",
         "Urinary incontinence",
         null,
         "C0042024"
        ],
        [
         "18",
         "HP:0000021",
         "Megacystis",
         "C1855311",
         null
        ],
        [
         "19",
         "HP:0000022",
         "Abnormal male internal genitalia morphology",
         "C4025899",
         null
        ],
        [
         "20",
         "HP:0000023",
         "Inguinal hernia",
         null,
         "C0019294"
        ],
        [
         "21",
         "HP:0000024",
         "Prostatitis",
         null,
         "C0033581"
        ],
        [
         "22",
         "HP:0000025",
         "Functional abnormality of male internal genitalia",
         "C4025898",
         null
        ],
        [
         "23",
         "HP:0000026",
         "Male hypogonadism",
         null,
         "C0151721"
        ],
        [
         "24",
         "HP:0000027",
         "Azoospermia",
         null,
         "C0004509"
        ],
        [
         "25",
         "HP:0000028",
         "Cryptorchidism",
         null,
         "C0010417"
        ],
        [
         "26",
         "HP:0000029",
         "Testicular atrophy",
         null,
         "C0156312"
        ],
        [
         "27",
         "HP:0000030",
         "Testicular gonadoblastoma",
         null,
         "C1515283"
        ],
        [
         "28",
         "HP:0000031",
         "Epididymitis",
         null,
         "C0014534"
        ],
        [
         "29",
         "HP:0000032",
         "Abnormal male external genitalia morphology",
         "C4025897",
         null
        ],
        [
         "30",
         "HP:0000033",
         "Ambiguous genitalia, male",
         "C4021823",
         null
        ],
        [
         "31",
         "HP:0000034",
         "Hydrocele testis",
         null,
         "C1720771"
        ],
        [
         "32",
         "HP:0000035",
         "Abnormal testis morphology",
         null,
         "C0266423"
        ],
        [
         "33",
         "HP:0000036",
         "Abnormal penis morphology",
         "C4025896",
         null
        ],
        [
         "34",
         "HP:0000037",
         "Male pseudohermaphroditism",
         null,
         "C0238395"
        ],
        [
         "35",
         "HP:0000039",
         "Epispadias",
         null,
         "C0563449"
        ],
        [
         "36",
         "HP:0000040",
         "Long penis",
         null,
         "C0269011"
        ],
        [
         "37",
         "HP:0000041",
         "Chordee",
         null,
         "C0221182"
        ],
        [
         "38",
         "HP:0000042",
         "Absent external genitalia",
         "C1848869",
         null
        ],
        [
         "39",
         "HP:0000044",
         "Hypogonadotropic hypogonadism",
         null,
         "C0271623;C3489396"
        ],
        [
         "40",
         "HP:0000045",
         "Abnormal scrotum morphology",
         "C4025895",
         null
        ],
        [
         "41",
         "HP:0000046",
         "Small scrotum",
         null,
         "C0431659"
        ],
        [
         "42",
         "HP:0000047",
         "Hypospadias",
         null,
         "C1691215"
        ],
        [
         "43",
         "HP:0000048",
         "Bifid scrotum",
         null,
         "C0341787"
        ],
        [
         "44",
         "HP:0000049",
         "Shawl scrotum",
         "C1858539",
         null
        ],
        [
         "45",
         "HP:0000050",
         "Hypoplastic male external genitalia",
         "C1852534",
         null
        ],
        [
         "46",
         "HP:0000051",
         "Perineal hypospadias",
         null,
         "C0452148"
        ],
        [
         "47",
         "HP:0000052",
         "Urethral atresia, male",
         "C4025894",
         null
        ],
        [
         "48",
         "HP:0000053",
         "Macroorchidism",
         "C1263023",
         null
        ],
        [
         "49",
         "HP:0000054",
         "Micropenis",
         null,
         "C4551492"
        ]
       ],
       "shape": {
        "columns": 4,
        "rows": 19533
       }
      },
      "text/html": [
       "<div>\n",
       "<style scoped>\n",
       "    .dataframe tbody tr th:only-of-type {\n",
       "        vertical-align: middle;\n",
       "    }\n",
       "\n",
       "    .dataframe tbody tr th {\n",
       "        vertical-align: top;\n",
       "    }\n",
       "\n",
       "    .dataframe thead th {\n",
       "        text-align: right;\n",
       "    }\n",
       "</style>\n",
       "<table border=\"1\" class=\"dataframe\">\n",
       "  <thead>\n",
       "    <tr style=\"text-align: right;\">\n",
       "      <th></th>\n",
       "      <th>id</th>\n",
       "      <th>name</th>\n",
       "      <th>UMLS</th>\n",
       "      <th>UMLS</th>\n",
       "    </tr>\n",
       "  </thead>\n",
       "  <tbody>\n",
       "    <tr>\n",
       "      <th>0</th>\n",
       "      <td>HP:0000001</td>\n",
       "      <td>All</td>\n",
       "      <td>C0444868</td>\n",
       "      <td>&lt;NA&gt;</td>\n",
       "    </tr>\n",
       "    <tr>\n",
       "      <th>1</th>\n",
       "      <td>HP:0000002</td>\n",
       "      <td>Abnormality of body height</td>\n",
       "      <td>C4025901</td>\n",
       "      <td>&lt;NA&gt;</td>\n",
       "    </tr>\n",
       "    <tr>\n",
       "      <th>2</th>\n",
       "      <td>HP:0000003</td>\n",
       "      <td>Multicystic kidney dysplasia</td>\n",
       "      <td>&lt;NA&gt;</td>\n",
       "      <td>C3714581</td>\n",
       "    </tr>\n",
       "    <tr>\n",
       "      <th>3</th>\n",
       "      <td>HP:0000005</td>\n",
       "      <td>Mode of inheritance</td>\n",
       "      <td>C1708511</td>\n",
       "      <td>&lt;NA&gt;</td>\n",
       "    </tr>\n",
       "    <tr>\n",
       "      <th>4</th>\n",
       "      <td>HP:0000006</td>\n",
       "      <td>Autosomal dominant inheritance</td>\n",
       "      <td>&lt;NA&gt;</td>\n",
       "      <td>C0443147</td>\n",
       "    </tr>\n",
       "    <tr>\n",
       "      <th>...</th>\n",
       "      <td>...</td>\n",
       "      <td>...</td>\n",
       "      <td>...</td>\n",
       "      <td>...</td>\n",
       "    </tr>\n",
       "    <tr>\n",
       "      <th>19528</th>\n",
       "      <td>HP:6001198</td>\n",
       "      <td>Scapholunate interval widening</td>\n",
       "      <td>&lt;NA&gt;</td>\n",
       "      <td>&lt;NA&gt;</td>\n",
       "    </tr>\n",
       "    <tr>\n",
       "      <th>19529</th>\n",
       "      <td>HP:6001199</td>\n",
       "      <td>FInger pulp localization</td>\n",
       "      <td>&lt;NA&gt;</td>\n",
       "      <td>&lt;NA&gt;</td>\n",
       "    </tr>\n",
       "    <tr>\n",
       "      <th>19530</th>\n",
       "      <td>HP:6001200</td>\n",
       "      <td>Ulnar wrist pain</td>\n",
       "      <td>&lt;NA&gt;</td>\n",
       "      <td>&lt;NA&gt;</td>\n",
       "    </tr>\n",
       "    <tr>\n",
       "      <th>19531</th>\n",
       "      <td>HP:6001201</td>\n",
       "      <td>Lunotriquetral interval widening</td>\n",
       "      <td>&lt;NA&gt;</td>\n",
       "      <td>&lt;NA&gt;</td>\n",
       "    </tr>\n",
       "    <tr>\n",
       "      <th>19532</th>\n",
       "      <td>HP:6001202</td>\n",
       "      <td>Ulnar translocation of the carpus</td>\n",
       "      <td>&lt;NA&gt;</td>\n",
       "      <td>&lt;NA&gt;</td>\n",
       "    </tr>\n",
       "  </tbody>\n",
       "</table>\n",
       "<p>19533 rows × 4 columns</p>\n",
       "</div>"
      ],
      "text/plain": [
       "               id                               name      UMLS      UMLS\n",
       "0      HP:0000001                                All  C0444868      <NA>\n",
       "1      HP:0000002         Abnormality of body height  C4025901      <NA>\n",
       "2      HP:0000003       Multicystic kidney dysplasia      <NA>  C3714581\n",
       "3      HP:0000005                Mode of inheritance  C1708511      <NA>\n",
       "4      HP:0000006     Autosomal dominant inheritance      <NA>  C0443147\n",
       "...           ...                                ...       ...       ...\n",
       "19528  HP:6001198     Scapholunate interval widening      <NA>      <NA>\n",
       "19529  HP:6001199           FInger pulp localization      <NA>      <NA>\n",
       "19530  HP:6001200                   Ulnar wrist pain      <NA>      <NA>\n",
       "19531  HP:6001201   Lunotriquetral interval widening      <NA>      <NA>\n",
       "19532  HP:6001202  Ulnar translocation of the carpus      <NA>      <NA>\n",
       "\n",
       "[19533 rows x 4 columns]"
      ]
     },
     "execution_count": 3,
     "metadata": {},
     "output_type": "execute_result"
    }
   ],
   "source": [
    "from collections import defaultdict\n",
    "\n",
    "df_hpo_filter = df_hpo[['id', 'name', 'xref']]\n",
    "# Split the 'xref' column by the semicolon delimiter and expand into multiple columns\n",
    "split_xref = df_hpo_filter['xref'].str.split(';', expand=True)\n",
    "\n",
    "# Add prefix to the new columns for clarity\n",
    "split_xref.columns = [f'xref_{i+1}' for i in range(split_xref.shape[1])]\n",
    "\n",
    "# Concatenate the new columns with the original DataFrame\n",
    "expanded_data = pd.concat([df_hpo_filter.drop(columns=['xref']), split_xref], axis=1)\n",
    "\n",
    "num_rows = len(expanded_data)\n",
    "\n",
    "# Initialize a defaultdict to hold lists of IDs for each database\n",
    "database_dict = defaultdict(lambda: [''] * num_rows)\n",
    "\n",
    "# Iterate over each row to process the xref columns\n",
    "for index, row in expanded_data.iterrows():\n",
    "    row_dict = defaultdict(list)\n",
    "    for col in split_xref.columns:\n",
    "        if pd.notna(row[col]):\n",
    "            db_name, db_id = row[col].split(':', 1)\n",
    "            row_dict[db_name].append(db_id)\n",
    "    \n",
    "    # Update the main database_dict with the row_dict data\n",
    "    for db_name, db_ids in row_dict.items():\n",
    "        database_dict[db_name][index] = ';'.join(db_ids)\n",
    "\n",
    "# Create a new DataFrame from the database_dict\n",
    "database_df = pd.DataFrame(database_dict)\n",
    "\n",
    "# Combine the new columns with the original DataFrame (excluding the old xref columns)\n",
    "final_data = pd.concat([df_hpo_filter.drop(columns=['xref']), database_df], axis=1)\n",
    "final_data = final_data[['id', 'name', 'UMLS', ' UMLS']]\n",
    "final_data[' UMLS'] = final_data[' UMLS'].replace('', pd.NA)\n",
    "final_data['UMLS'] = final_data['UMLS'].replace('', pd.NA)\n",
    "final_data"
   ]
  },
  {
   "cell_type": "code",
   "execution_count": 4,
   "metadata": {},
   "outputs": [
    {
     "data": {
      "application/vnd.microsoft.datawrangler.viewer.v0+json": {
       "columns": [
        {
         "name": "index",
         "rawType": "int64",
         "type": "integer"
        },
        {
         "name": "id",
         "rawType": "object",
         "type": "string"
        },
        {
         "name": "name",
         "rawType": "object",
         "type": "string"
        },
        {
         "name": "umls",
         "rawType": "object",
         "type": "string"
        }
       ],
       "conversionMethod": "pd.DataFrame",
       "ref": "8f12c554-9875-45bd-a96c-cbfc0545e20c",
       "rows": [
        [
         "0",
         "HP:0000002",
         "Abnormality of body height",
         "C4025901"
        ],
        [
         "1",
         "HP:0000003",
         "Multicystic kidney dysplasia",
         "C3714581"
        ],
        [
         "2",
         "HP:0000005",
         "Mode of inheritance",
         "C1708511"
        ],
        [
         "3",
         "HP:0000006",
         "Autosomal dominant inheritance",
         "C0443147"
        ],
        [
         "4",
         "HP:0000007",
         "Autosomal recessive inheritance",
         "C0441748;C4020899"
        ],
        [
         "5",
         "HP:0000008",
         "Abnormal morphology of female internal genitalia",
         "C4025900"
        ],
        [
         "6",
         "HP:0000009",
         "Functional abnormality of the bladder",
         "C3806583"
        ],
        [
         "7",
         "HP:0000010",
         "Recurrent urinary tract infections",
         "C0262655"
        ],
        [
         "8",
         "HP:0000011",
         "Neurogenic bladder",
         "C0005697"
        ],
        [
         "9",
         "HP:0000012",
         "Urinary urgency",
         "C0085606;C3544092;C4020898"
        ],
        [
         "10",
         "HP:0000013",
         "Hypoplasia of the uterus",
         "C0266399"
        ],
        [
         "11",
         "HP:0000014",
         "Abnormality of the bladder",
         "C0149632"
        ],
        [
         "12",
         "HP:0000015",
         "Bladder diverticulum",
         "C0156273"
        ],
        [
         "13",
         "HP:0000016",
         "Urinary retention",
         "C0080274"
        ],
        [
         "14",
         "HP:0000017",
         "Nocturia",
         "C0028734"
        ],
        [
         "15",
         "HP:0000019",
         "Urinary hesitancy",
         "C0152032"
        ],
        [
         "16",
         "HP:0000020",
         "Urinary incontinence",
         "C0042024"
        ],
        [
         "17",
         "HP:0000021",
         "Megacystis",
         "C1855311"
        ],
        [
         "18",
         "HP:0000022",
         "Abnormal male internal genitalia morphology",
         "C4025899"
        ],
        [
         "19",
         "HP:0000023",
         "Inguinal hernia",
         "C0019294"
        ],
        [
         "20",
         "HP:0000024",
         "Prostatitis",
         "C0033581"
        ],
        [
         "21",
         "HP:0000025",
         "Functional abnormality of male internal genitalia",
         "C4025898"
        ],
        [
         "22",
         "HP:0000026",
         "Male hypogonadism",
         "C0151721"
        ],
        [
         "23",
         "HP:0000027",
         "Azoospermia",
         "C0004509"
        ],
        [
         "24",
         "HP:0000028",
         "Cryptorchidism",
         "C0010417"
        ],
        [
         "25",
         "HP:0000029",
         "Testicular atrophy",
         "C0156312"
        ],
        [
         "26",
         "HP:0000030",
         "Testicular gonadoblastoma",
         "C1515283"
        ],
        [
         "27",
         "HP:0000031",
         "Epididymitis",
         "C0014534"
        ],
        [
         "28",
         "HP:0000032",
         "Abnormal male external genitalia morphology",
         "C4025897"
        ],
        [
         "29",
         "HP:0000033",
         "Ambiguous genitalia, male",
         "C4021823"
        ],
        [
         "30",
         "HP:0000034",
         "Hydrocele testis",
         "C1720771"
        ],
        [
         "31",
         "HP:0000035",
         "Abnormal testis morphology",
         "C0266423"
        ],
        [
         "32",
         "HP:0000036",
         "Abnormal penis morphology",
         "C4025896"
        ],
        [
         "33",
         "HP:0000037",
         "Male pseudohermaphroditism",
         "C0238395"
        ],
        [
         "34",
         "HP:0000039",
         "Epispadias",
         "C0563449"
        ],
        [
         "35",
         "HP:0000040",
         "Long penis",
         "C0269011"
        ],
        [
         "36",
         "HP:0000041",
         "Chordee",
         "C0221182"
        ],
        [
         "37",
         "HP:0000042",
         "Absent external genitalia",
         "C1848869"
        ],
        [
         "38",
         "HP:0000044",
         "Hypogonadotropic hypogonadism",
         "C0271623;C3489396"
        ],
        [
         "39",
         "HP:0000045",
         "Abnormal scrotum morphology",
         "C4025895"
        ],
        [
         "40",
         "HP:0000046",
         "Small scrotum",
         "C0431659"
        ],
        [
         "41",
         "HP:0000047",
         "Hypospadias",
         "C1691215"
        ],
        [
         "42",
         "HP:0000048",
         "Bifid scrotum",
         "C0341787"
        ],
        [
         "43",
         "HP:0000049",
         "Shawl scrotum",
         "C1858539"
        ],
        [
         "44",
         "HP:0000050",
         "Hypoplastic male external genitalia",
         "C1852534"
        ],
        [
         "45",
         "HP:0000051",
         "Perineal hypospadias",
         "C0452148"
        ],
        [
         "46",
         "HP:0000052",
         "Urethral atresia, male",
         "C4025894"
        ],
        [
         "47",
         "HP:0000053",
         "Macroorchidism",
         "C1263023"
        ],
        [
         "48",
         "HP:0000054",
         "Micropenis",
         "C4551492"
        ],
        [
         "49",
         "HP:0000055",
         "Abnormal female external genitalia morphology",
         "C4021822"
        ]
       ],
       "shape": {
        "columns": 3,
        "rows": 19532
       }
      },
      "text/html": [
       "<div>\n",
       "<style scoped>\n",
       "    .dataframe tbody tr th:only-of-type {\n",
       "        vertical-align: middle;\n",
       "    }\n",
       "\n",
       "    .dataframe tbody tr th {\n",
       "        vertical-align: top;\n",
       "    }\n",
       "\n",
       "    .dataframe thead th {\n",
       "        text-align: right;\n",
       "    }\n",
       "</style>\n",
       "<table border=\"1\" class=\"dataframe\">\n",
       "  <thead>\n",
       "    <tr style=\"text-align: right;\">\n",
       "      <th></th>\n",
       "      <th>id</th>\n",
       "      <th>name</th>\n",
       "      <th>umls</th>\n",
       "    </tr>\n",
       "  </thead>\n",
       "  <tbody>\n",
       "    <tr>\n",
       "      <th>0</th>\n",
       "      <td>HP:0000002</td>\n",
       "      <td>Abnormality of body height</td>\n",
       "      <td>C4025901</td>\n",
       "    </tr>\n",
       "    <tr>\n",
       "      <th>1</th>\n",
       "      <td>HP:0000003</td>\n",
       "      <td>Multicystic kidney dysplasia</td>\n",
       "      <td>C3714581</td>\n",
       "    </tr>\n",
       "    <tr>\n",
       "      <th>2</th>\n",
       "      <td>HP:0000005</td>\n",
       "      <td>Mode of inheritance</td>\n",
       "      <td>C1708511</td>\n",
       "    </tr>\n",
       "    <tr>\n",
       "      <th>3</th>\n",
       "      <td>HP:0000006</td>\n",
       "      <td>Autosomal dominant inheritance</td>\n",
       "      <td>C0443147</td>\n",
       "    </tr>\n",
       "    <tr>\n",
       "      <th>4</th>\n",
       "      <td>HP:0000007</td>\n",
       "      <td>Autosomal recessive inheritance</td>\n",
       "      <td>C0441748;C4020899</td>\n",
       "    </tr>\n",
       "    <tr>\n",
       "      <th>...</th>\n",
       "      <td>...</td>\n",
       "      <td>...</td>\n",
       "      <td>...</td>\n",
       "    </tr>\n",
       "    <tr>\n",
       "      <th>19527</th>\n",
       "      <td>HP:6001198</td>\n",
       "      <td>Scapholunate interval widening</td>\n",
       "      <td></td>\n",
       "    </tr>\n",
       "    <tr>\n",
       "      <th>19528</th>\n",
       "      <td>HP:6001199</td>\n",
       "      <td>FInger pulp localization</td>\n",
       "      <td></td>\n",
       "    </tr>\n",
       "    <tr>\n",
       "      <th>19529</th>\n",
       "      <td>HP:6001200</td>\n",
       "      <td>Ulnar wrist pain</td>\n",
       "      <td></td>\n",
       "    </tr>\n",
       "    <tr>\n",
       "      <th>19530</th>\n",
       "      <td>HP:6001201</td>\n",
       "      <td>Lunotriquetral interval widening</td>\n",
       "      <td></td>\n",
       "    </tr>\n",
       "    <tr>\n",
       "      <th>19531</th>\n",
       "      <td>HP:6001202</td>\n",
       "      <td>Ulnar translocation of the carpus</td>\n",
       "      <td></td>\n",
       "    </tr>\n",
       "  </tbody>\n",
       "</table>\n",
       "<p>19532 rows × 3 columns</p>\n",
       "</div>"
      ],
      "text/plain": [
       "               id                               name               umls\n",
       "0      HP:0000002         Abnormality of body height           C4025901\n",
       "1      HP:0000003       Multicystic kidney dysplasia           C3714581\n",
       "2      HP:0000005                Mode of inheritance           C1708511\n",
       "3      HP:0000006     Autosomal dominant inheritance           C0443147\n",
       "4      HP:0000007    Autosomal recessive inheritance  C0441748;C4020899\n",
       "...           ...                                ...                ...\n",
       "19527  HP:6001198     Scapholunate interval widening                   \n",
       "19528  HP:6001199           FInger pulp localization                   \n",
       "19529  HP:6001200                   Ulnar wrist pain                   \n",
       "19530  HP:6001201   Lunotriquetral interval widening                   \n",
       "19531  HP:6001202  Ulnar translocation of the carpus                   \n",
       "\n",
       "[19532 rows x 3 columns]"
      ]
     },
     "execution_count": 4,
     "metadata": {},
     "output_type": "execute_result"
    }
   ],
   "source": [
    "# check duplicates inside the dataframe\n",
    "def merge_column(df, column1, column2, new_column):\n",
    "    df[column1] = df[column1].fillna('')\n",
    "    df[column2] = df[column2].fillna('')\n",
    "    df[new_column] = df.apply(lambda row: f\"{row[column1]} {row[column2]}\".strip(), axis=1)\n",
    "\n",
    "    expanded_rows = df[new_column].str.split(expand=True).stack().reset_index(level=1, drop=True)\n",
    "    expanded_rows.name = new_column\n",
    "\n",
    "    df = df.drop(columns=[new_column]).join(expanded_rows)\n",
    "    df.drop(columns=[column1, column2], inplace=True)\n",
    "    df.drop_duplicates(inplace=True)\n",
    "    \n",
    "    return df\n",
    "\n",
    "final_data = merge_column(final_data, 'UMLS', ' UMLS', 'umls')\n",
    "final_data = final_data.drop(index = 0).reset_index(drop=True)\n",
    "final_data = final_data.groupby('id').agg(lambda x: ';'.join(sorted(set(x.dropna().astype(str)))))\n",
    "final_data = final_data.reset_index()\n",
    "final_data"
   ]
  },
  {
   "cell_type": "markdown",
   "metadata": {},
   "source": [
    "### 2.2 UMLS"
   ]
  },
  {
   "cell_type": "code",
   "execution_count": 8,
   "metadata": {},
   "outputs": [
    {
     "name": "stderr",
     "output_type": "stream",
     "text": [
      "C:\\Users\\shunn\\AppData\\Local\\Temp\\ipykernel_36828\\3499680163.py:1: DtypeWarning: Columns (10) have mixed types. Specify dtype option on import or set low_memory=False.\n",
      "  df_umls_name = pd.read_csv('MRCONSO.RRF', sep='|', header=None)\n",
      "C:\\Users\\shunn\\AppData\\Local\\Temp\\ipykernel_36828\\3499680163.py:7: UserWarning: Boolean Series key will be reindexed to match DataFrame index.\n",
      "  df_umls_name_filter = df_umls_name_filter[df_umls_name['Term status'] == 'P'] # Preferred LUI of the CUI\n",
      "C:\\Users\\shunn\\AppData\\Local\\Temp\\ipykernel_36828\\3499680163.py:8: UserWarning: Boolean Series key will be reindexed to match DataFrame index.\n",
      "  df_umls_name_filter = df_umls_name_filter[df_umls_name['String type'] == 'PF'] # Preferred form of term\n",
      "C:\\Users\\shunn\\AppData\\Local\\Temp\\ipykernel_36828\\3499680163.py:10: SettingWithCopyWarning: \n",
      "A value is trying to be set on a copy of a slice from a DataFrame\n",
      "\n",
      "See the caveats in the documentation: https://pandas.pydata.org/pandas-docs/stable/user_guide/indexing.html#returning-a-view-versus-a-copy\n",
      "  umls_name_filter.drop_duplicates(inplace=True)\n"
     ]
    },
    {
     "data": {
      "application/vnd.microsoft.datawrangler.viewer.v0+json": {
       "columns": [
        {
         "name": "index",
         "rawType": "int64",
         "type": "integer"
        },
        {
         "name": "UMLS ID",
         "rawType": "object",
         "type": "string"
        },
        {
         "name": "SAB",
         "rawType": "object",
         "type": "string"
        },
        {
         "name": "CODE",
         "rawType": "object",
         "type": "unknown"
        }
       ],
       "conversionMethod": "pd.DataFrame",
       "ref": "50a0f16b-748c-4fb5-a179-e5a2d1c0d5a9",
       "rows": [
        [
         "0",
         "C0000005",
         "MSH",
         "D012711"
        ],
        [
         "1",
         "C0000039",
         "RXNORM",
         "1926948"
        ],
        [
         "2",
         "C0000039",
         "MTH",
         "NOCODE"
        ],
        [
         "3",
         "C0000052",
         "MSH",
         "D015061"
        ],
        [
         "4",
         "C0000052",
         "MTH",
         "NOCODE"
        ],
        [
         "5",
         "C0000074",
         "MSH",
         "D010742"
        ],
        [
         "6",
         "C0000084",
         "MSH",
         "D015055"
        ],
        [
         "7",
         "C0000084",
         "MTH",
         "NOCODE"
        ],
        [
         "8",
         "C0000096",
         "MSH",
         "D015056"
        ],
        [
         "9",
         "C0000097",
         "MSH",
         "D015632"
        ],
        [
         "10",
         "C0000098",
         "MSH",
         "D015655"
        ],
        [
         "11",
         "C0000102",
         "MSH",
         "D015057"
        ],
        [
         "12",
         "C0000103",
         "MSH",
         "D015058"
        ],
        [
         "13",
         "C0000107",
         "MSH",
         "D015059"
        ],
        [
         "14",
         "C0000119",
         "MSH",
         "D015062"
        ],
        [
         "15",
         "C0000120",
         "AOD",
         "0000018823"
        ],
        [
         "16",
         "C0000132",
         "MSH",
         "D002787"
        ],
        [
         "17",
         "C0000137",
         "MSH",
         "D012335"
        ],
        [
         "18",
         "C0000139",
         "NCI",
         "C84850"
        ],
        [
         "19",
         "C0000139",
         "MSH",
         "D015064"
        ],
        [
         "20",
         "C0000151",
         "MSH",
         "D013196"
        ],
        [
         "21",
         "C0000152",
         "MSH",
         "D015067"
        ],
        [
         "22",
         "C0000163",
         "MSH",
         "D015065"
        ],
        [
         "23",
         "C0000163",
         "RCD",
         "X80Ey"
        ],
        [
         "24",
         "C0000163",
         "LNC",
         "LP15290-7"
        ],
        [
         "25",
         "C0000163",
         "LNC",
         "MTHU027216"
        ],
        [
         "26",
         "C0000163",
         "MTH",
         "NOCODE"
        ],
        [
         "27",
         "C0000165",
         "MSH",
         "D015067"
        ],
        [
         "28",
         "C0000165",
         "MTH",
         "NOCODE"
        ],
        [
         "29",
         "C0000167",
         "RCD",
         "X80Ez"
        ],
        [
         "30",
         "C0000167",
         "SNM",
         "F-26350"
        ],
        [
         "31",
         "C0000167",
         "LNC",
         "LP17185-7"
        ],
        [
         "32",
         "C0000167",
         "LNC",
         "MTHU027217"
        ],
        [
         "33",
         "C0000167",
         "CPM",
         "31889"
        ],
        [
         "34",
         "C0000167",
         "MSH",
         "D015068"
        ],
        [
         "35",
         "C0000172",
         "RCD",
         "X80F0"
        ],
        [
         "36",
         "C0000172",
         "SNMI",
         "F-B2491"
        ],
        [
         "37",
         "C0000172",
         "LNC",
         "LP15293-1"
        ],
        [
         "38",
         "C0000172",
         "LNC",
         "MTHU027245"
        ],
        [
         "39",
         "C0000172",
         "MSH",
         "D015069"
        ],
        [
         "40",
         "C0000173",
         "MSH",
         "D015070"
        ],
        [
         "41",
         "C0000176",
         "MSH",
         "D015071"
        ],
        [
         "42",
         "C0000184",
         "MSH",
         "D015087"
        ],
        [
         "43",
         "C0000189",
         "MSH",
         "D015088"
        ],
        [
         "44",
         "C0000189",
         "MTH",
         "NOCODE"
        ],
        [
         "45",
         "C0000190",
         "MSH",
         "D003568"
        ],
        [
         "46",
         "C0000194",
         "MSH",
         "D015082"
        ],
        [
         "47",
         "C0000204",
         "MSH",
         "D015083"
        ],
        [
         "48",
         "C0000215",
         "MSH",
         "D015085"
        ],
        [
         "49",
         "C0000215",
         "MTH",
         "NOCODE"
        ]
       ],
       "shape": {
        "columns": 3,
        "rows": 3920231
       }
      },
      "text/html": [
       "<div>\n",
       "<style scoped>\n",
       "    .dataframe tbody tr th:only-of-type {\n",
       "        vertical-align: middle;\n",
       "    }\n",
       "\n",
       "    .dataframe tbody tr th {\n",
       "        vertical-align: top;\n",
       "    }\n",
       "\n",
       "    .dataframe thead th {\n",
       "        text-align: right;\n",
       "    }\n",
       "</style>\n",
       "<table border=\"1\" class=\"dataframe\">\n",
       "  <thead>\n",
       "    <tr style=\"text-align: right;\">\n",
       "      <th></th>\n",
       "      <th>UMLS ID</th>\n",
       "      <th>SAB</th>\n",
       "      <th>CODE</th>\n",
       "    </tr>\n",
       "  </thead>\n",
       "  <tbody>\n",
       "    <tr>\n",
       "      <th>0</th>\n",
       "      <td>C0000005</td>\n",
       "      <td>MSH</td>\n",
       "      <td>D012711</td>\n",
       "    </tr>\n",
       "    <tr>\n",
       "      <th>1</th>\n",
       "      <td>C0000039</td>\n",
       "      <td>RXNORM</td>\n",
       "      <td>1926948</td>\n",
       "    </tr>\n",
       "    <tr>\n",
       "      <th>2</th>\n",
       "      <td>C0000039</td>\n",
       "      <td>MTH</td>\n",
       "      <td>NOCODE</td>\n",
       "    </tr>\n",
       "    <tr>\n",
       "      <th>3</th>\n",
       "      <td>C0000052</td>\n",
       "      <td>MSH</td>\n",
       "      <td>D015061</td>\n",
       "    </tr>\n",
       "    <tr>\n",
       "      <th>4</th>\n",
       "      <td>C0000052</td>\n",
       "      <td>MTH</td>\n",
       "      <td>NOCODE</td>\n",
       "    </tr>\n",
       "    <tr>\n",
       "      <th>...</th>\n",
       "      <td>...</td>\n",
       "      <td>...</td>\n",
       "      <td>...</td>\n",
       "    </tr>\n",
       "    <tr>\n",
       "      <th>3920226</th>\n",
       "      <td>C5886725</td>\n",
       "      <td>SRC</td>\n",
       "      <td>V-LNC-PT-BR_277</td>\n",
       "    </tr>\n",
       "    <tr>\n",
       "      <th>3920227</th>\n",
       "      <td>C5886726</td>\n",
       "      <td>SRC</td>\n",
       "      <td>V-LNC-RU-RU_277</td>\n",
       "    </tr>\n",
       "    <tr>\n",
       "      <th>3920228</th>\n",
       "      <td>C5886727</td>\n",
       "      <td>SRC</td>\n",
       "      <td>V-LNC-TR-TR_277</td>\n",
       "    </tr>\n",
       "    <tr>\n",
       "      <th>3920229</th>\n",
       "      <td>C5886728</td>\n",
       "      <td>SRC</td>\n",
       "      <td>V-LNC-UK-UA_277</td>\n",
       "    </tr>\n",
       "    <tr>\n",
       "      <th>3920230</th>\n",
       "      <td>C5886729</td>\n",
       "      <td>SRC</td>\n",
       "      <td>V-LNC-ZH-CN_277</td>\n",
       "    </tr>\n",
       "  </tbody>\n",
       "</table>\n",
       "<p>3920231 rows × 3 columns</p>\n",
       "</div>"
      ],
      "text/plain": [
       "          UMLS ID     SAB             CODE\n",
       "0        C0000005     MSH          D012711\n",
       "1        C0000039  RXNORM          1926948\n",
       "2        C0000039     MTH           NOCODE\n",
       "3        C0000052     MSH          D015061\n",
       "4        C0000052     MTH           NOCODE\n",
       "...           ...     ...              ...\n",
       "3920226  C5886725     SRC  V-LNC-PT-BR_277\n",
       "3920227  C5886726     SRC  V-LNC-RU-RU_277\n",
       "3920228  C5886727     SRC  V-LNC-TR-TR_277\n",
       "3920229  C5886728     SRC  V-LNC-UK-UA_277\n",
       "3920230  C5886729     SRC  V-LNC-ZH-CN_277\n",
       "\n",
       "[3920231 rows x 3 columns]"
      ]
     },
     "execution_count": 8,
     "metadata": {},
     "output_type": "execute_result"
    }
   ],
   "source": [
    "df_umls_name = pd.read_csv('MRCONSO.RRF', sep='|', header=None)\n",
    "df_umls_name.columns = ['UMLS ID', 'Language', 'Term status', 'Unique identifier for term', 'String type', \n",
    "                        'Unique identifier for string', 'Atom status', 'AUI', 'SAUI', 'SCUI', 'SDUI', 'SAB', 'TTY', 'CODE', 'String', 'SRL', 'SUPPRESS', 'CVF','NA']\n",
    "df_umls_name.drop(columns=['NA'], inplace=True)\n",
    "\n",
    "df_umls_name_filter = df_umls_name[df_umls_name['Language'] == 'ENG'] # English language\n",
    "df_umls_name_filter = df_umls_name_filter[df_umls_name['Term status'] == 'P'] # Preferred LUI of the CUI\n",
    "df_umls_name_filter = df_umls_name_filter[df_umls_name['String type'] == 'PF'] # Preferred form of term\n",
    "umls_name_filter = df_umls_name_filter[['UMLS ID', 'SAB', 'CODE']]\n",
    "umls_name_filter.drop_duplicates(inplace=True)\n",
    "umls_name_filter.reset_index(drop=True, inplace=True)\n",
    "umls_name_filter"
   ]
  },
  {
   "cell_type": "code",
   "execution_count": 19,
   "metadata": {},
   "outputs": [
    {
     "data": {
      "application/vnd.microsoft.datawrangler.viewer.v0+json": {
       "columns": [
        {
         "name": "index",
         "rawType": "int64",
         "type": "integer"
        },
        {
         "name": "HPO_ID",
         "rawType": "object",
         "type": "string"
        },
        {
         "name": "UMLS ID",
         "rawType": "object",
         "type": "string"
        }
       ],
       "conversionMethod": "pd.DataFrame",
       "ref": "d7473ff7-b943-42c6-b586-678fa369fdb1",
       "rows": [
        [
         "0",
         "HP:0000001",
         "C0444868"
        ],
        [
         "1",
         "HP:0000002",
         "C4025901"
        ],
        [
         "2",
         "HP:0000005",
         "C1708511"
        ],
        [
         "3",
         "HP:0000006",
         "C0443147"
        ],
        [
         "4",
         "HP:0000007",
         "C0441748;C4020899"
        ],
        [
         "5",
         "HP:0000008",
         "C4025900"
        ],
        [
         "6",
         "HP:0000009",
         "C3806583"
        ],
        [
         "7",
         "HP:0000012",
         "C3544092;C4020898"
        ],
        [
         "8",
         "HP:0000014",
         "C0149632"
        ],
        [
         "9",
         "HP:0000017",
         "C0028734"
        ],
        [
         "10",
         "HP:0000021",
         "C1855311"
        ],
        [
         "11",
         "HP:0000022",
         "C5706136"
        ],
        [
         "12",
         "HP:0000025",
         "C4025898"
        ],
        [
         "13",
         "HP:0000027",
         "C0004509"
        ],
        [
         "14",
         "HP:0000028",
         "C0010417"
        ],
        [
         "15",
         "HP:0000030",
         "C1515283"
        ],
        [
         "16",
         "HP:0000031",
         "C0014534"
        ],
        [
         "17",
         "HP:0000032",
         "C4025897"
        ],
        [
         "18",
         "HP:0000033",
         "C4021823"
        ],
        [
         "19",
         "HP:0000035",
         "C4759656"
        ],
        [
         "20",
         "HP:0000036",
         "C4025896"
        ],
        [
         "21",
         "HP:0000041",
         "C0221182"
        ],
        [
         "22",
         "HP:0000042",
         "C1848869"
        ],
        [
         "23",
         "HP:0000044",
         "C0271623"
        ],
        [
         "24",
         "HP:0000045",
         "C4025895"
        ],
        [
         "25",
         "HP:0000046",
         "C0455792"
        ],
        [
         "26",
         "HP:0000047",
         "C0848558"
        ],
        [
         "27",
         "HP:0000048",
         "C0341787"
        ],
        [
         "28",
         "HP:0000049",
         "C1858539"
        ],
        [
         "29",
         "HP:0000050",
         "C1852534"
        ],
        [
         "30",
         "HP:0000051",
         "C0452148"
        ],
        [
         "31",
         "HP:0000052",
         "C4025894"
        ],
        [
         "32",
         "HP:0000053",
         "C1263023"
        ],
        [
         "33",
         "HP:0000054",
         "C4551492"
        ],
        [
         "34",
         "HP:0000055",
         "C4021822"
        ],
        [
         "35",
         "HP:0000056",
         "C4025893"
        ],
        [
         "36",
         "HP:0000058",
         "C4025892"
        ],
        [
         "37",
         "HP:0000059",
         "C0566899"
        ],
        [
         "38",
         "HP:0000060",
         "C1844527"
        ],
        [
         "39",
         "HP:0000061",
         "C1859980;C4025891"
        ],
        [
         "40",
         "HP:0000063",
         "C1837532"
        ],
        [
         "41",
         "HP:0000064",
         "C1849295"
        ],
        [
         "42",
         "HP:0000066",
         "C1850325"
        ],
        [
         "43",
         "HP:0000067",
         "C4025890"
        ],
        [
         "44",
         "HP:0000069",
         "C1840382"
        ],
        [
         "45",
         "HP:0000070",
         "C0041960"
        ],
        [
         "46",
         "HP:0000072",
         "C4020897"
        ],
        [
         "47",
         "HP:0000073",
         "C0221365"
        ],
        [
         "48",
         "HP:0000078",
         "C0281966;C0744356"
        ],
        [
         "49",
         "HP:0000079",
         "C4021821"
        ]
       ],
       "shape": {
        "columns": 2,
        "rows": 14914
       }
      },
      "text/html": [
       "<div>\n",
       "<style scoped>\n",
       "    .dataframe tbody tr th:only-of-type {\n",
       "        vertical-align: middle;\n",
       "    }\n",
       "\n",
       "    .dataframe tbody tr th {\n",
       "        vertical-align: top;\n",
       "    }\n",
       "\n",
       "    .dataframe thead th {\n",
       "        text-align: right;\n",
       "    }\n",
       "</style>\n",
       "<table border=\"1\" class=\"dataframe\">\n",
       "  <thead>\n",
       "    <tr style=\"text-align: right;\">\n",
       "      <th></th>\n",
       "      <th>HPO_ID</th>\n",
       "      <th>UMLS ID</th>\n",
       "    </tr>\n",
       "  </thead>\n",
       "  <tbody>\n",
       "    <tr>\n",
       "      <th>0</th>\n",
       "      <td>HP:0000001</td>\n",
       "      <td>C0444868</td>\n",
       "    </tr>\n",
       "    <tr>\n",
       "      <th>1</th>\n",
       "      <td>HP:0000002</td>\n",
       "      <td>C4025901</td>\n",
       "    </tr>\n",
       "    <tr>\n",
       "      <th>2</th>\n",
       "      <td>HP:0000005</td>\n",
       "      <td>C1708511</td>\n",
       "    </tr>\n",
       "    <tr>\n",
       "      <th>3</th>\n",
       "      <td>HP:0000006</td>\n",
       "      <td>C0443147</td>\n",
       "    </tr>\n",
       "    <tr>\n",
       "      <th>4</th>\n",
       "      <td>HP:0000007</td>\n",
       "      <td>C0441748;C4020899</td>\n",
       "    </tr>\n",
       "    <tr>\n",
       "      <th>...</th>\n",
       "      <td>...</td>\n",
       "      <td>...</td>\n",
       "    </tr>\n",
       "    <tr>\n",
       "      <th>14909</th>\n",
       "      <td>HP:5201010</td>\n",
       "      <td>C5827008</td>\n",
       "    </tr>\n",
       "    <tr>\n",
       "      <th>14910</th>\n",
       "      <td>HP:5201011</td>\n",
       "      <td>C0158653</td>\n",
       "    </tr>\n",
       "    <tr>\n",
       "      <th>14911</th>\n",
       "      <td>HP:5201012</td>\n",
       "      <td>C0158654</td>\n",
       "    </tr>\n",
       "    <tr>\n",
       "      <th>14912</th>\n",
       "      <td>HP:5201013</td>\n",
       "      <td>C5827009</td>\n",
       "    </tr>\n",
       "    <tr>\n",
       "      <th>14913</th>\n",
       "      <td>HP:5201014</td>\n",
       "      <td>C5827010</td>\n",
       "    </tr>\n",
       "  </tbody>\n",
       "</table>\n",
       "<p>14914 rows × 2 columns</p>\n",
       "</div>"
      ],
      "text/plain": [
       "           HPO_ID            UMLS ID\n",
       "0      HP:0000001           C0444868\n",
       "1      HP:0000002           C4025901\n",
       "2      HP:0000005           C1708511\n",
       "3      HP:0000006           C0443147\n",
       "4      HP:0000007  C0441748;C4020899\n",
       "...           ...                ...\n",
       "14909  HP:5201010           C5827008\n",
       "14910  HP:5201011           C0158653\n",
       "14911  HP:5201012           C0158654\n",
       "14912  HP:5201013           C5827009\n",
       "14913  HP:5201014           C5827010\n",
       "\n",
       "[14914 rows x 2 columns]"
      ]
     },
     "execution_count": 19,
     "metadata": {},
     "output_type": "execute_result"
    }
   ],
   "source": [
    "values_to_keep = ['HPO']\n",
    "df_umls_filter = umls_name_filter[umls_name_filter['SAB'].isin(values_to_keep)]\n",
    "df_umls_filter = df_umls_filter.drop(columns=['SAB'])\n",
    "df_umls_filter = df_umls_filter.rename(columns={'CODE': 'HPO_ID'})\n",
    "umls_hpo = df_umls_filter.groupby('HPO_ID')['UMLS ID'].apply(lambda x: ';'.join(x.unique())).reset_index()\n",
    "umls_hpo"
   ]
  },
  {
   "cell_type": "markdown",
   "metadata": {},
   "source": [
    "## 3. Merge Data"
   ]
  },
  {
   "cell_type": "code",
   "execution_count": null,
   "metadata": {},
   "outputs": [],
   "source": [
    "# check duplicates inside the dataframe\n",
    "def merge_column(df, column1, column2, new_column):\n",
    "    df[column1] = df[column1].fillna('')\n",
    "    df[column2] = df[column2].fillna('')\n",
    "    df[new_column] = df.apply(lambda row: f\"{row[column1]} {row[column2]}\".strip(), axis=1)\n",
    "\n",
    "    expanded_rows = df[new_column].str.split(expand=True).stack().reset_index(level=1, drop=True)\n",
    "    expanded_rows.name = new_column\n",
    "\n",
    "    df = df.drop(columns=[new_column]).join(expanded_rows)\n",
    "    df.drop(columns=[column1, column2], inplace=True)\n",
    "    df.drop_duplicates(inplace=True)\n",
    "    \n",
    "    return df\n",
    "\n",
    "def merge_string_columns(df, columns, merge_name, separator=';'):\n",
    "    def merge_strings(row):\n",
    "        combined = set()\n",
    "        for column in columns:\n",
    "            if pd.notnull(row[column]):\n",
    "                combined.update(row[column].split(separator))\n",
    "        return separator.join(combined)\n",
    "    \n",
    "    # Apply the function to each row and create a new column\n",
    "    combined_column_name = merge_name\n",
    "    df[combined_column_name] = df.apply(merge_strings, axis=1)\n",
    "    df.drop(columns=columns, inplace=True)\n",
    "    \n",
    "    return df\n",
    "    "
   ]
  },
  {
   "cell_type": "markdown",
   "metadata": {},
   "source": [
    "### 3.1 HPO + UMLS"
   ]
  },
  {
   "cell_type": "code",
   "execution_count": 21,
   "metadata": {},
   "outputs": [
    {
     "data": {
      "application/vnd.microsoft.datawrangler.viewer.v0+json": {
       "columns": [
        {
         "name": "index",
         "rawType": "int64",
         "type": "integer"
        },
        {
         "name": "HPO ID",
         "rawType": "object",
         "type": "string"
        },
        {
         "name": "name",
         "rawType": "object",
         "type": "string"
        },
        {
         "name": "UMLS_ID",
         "rawType": "object",
         "type": "string"
        }
       ],
       "conversionMethod": "pd.DataFrame",
       "ref": "0385375a-9cdd-4ca3-95aa-4c5747c3779d",
       "rows": [
        [
         "0",
         "HP:0000002",
         "Abnormality of body height",
         "C4025901"
        ],
        [
         "1",
         "HP:0000003",
         "Multicystic kidney dysplasia",
         "C3714581"
        ],
        [
         "2",
         "HP:0000005",
         "Mode of inheritance",
         "C1708511"
        ],
        [
         "3",
         "HP:0000006",
         "Autosomal dominant inheritance",
         "C0443147"
        ],
        [
         "4",
         "HP:0000007",
         "Autosomal recessive inheritance",
         "C0441748;C4020899"
        ],
        [
         "5",
         "HP:0000008",
         "Abnormal morphology of female internal genitalia",
         "C4025900"
        ],
        [
         "6",
         "HP:0000009",
         "Functional abnormality of the bladder",
         "C3806583"
        ],
        [
         "7",
         "HP:0000010",
         "Recurrent urinary tract infections",
         "C0262655"
        ],
        [
         "8",
         "HP:0000011",
         "Neurogenic bladder",
         "C0005697"
        ],
        [
         "9",
         "HP:0000012",
         "Urinary urgency",
         "C0085606;C3544092;C4020898;C3544092;C4020898"
        ],
        [
         "10",
         "HP:0000013",
         "Hypoplasia of the uterus",
         "C0266399"
        ],
        [
         "11",
         "HP:0000014",
         "Abnormality of the bladder",
         "C0149632"
        ],
        [
         "12",
         "HP:0000015",
         "Bladder diverticulum",
         "C0156273"
        ],
        [
         "13",
         "HP:0000016",
         "Urinary retention",
         "C0080274"
        ],
        [
         "14",
         "HP:0000017",
         "Nocturia",
         "C0028734"
        ],
        [
         "15",
         "HP:0000019",
         "Urinary hesitancy",
         "C0152032"
        ],
        [
         "16",
         "HP:0000020",
         "Urinary incontinence",
         "C0042024"
        ],
        [
         "17",
         "HP:0000021",
         "Megacystis",
         "C1855311"
        ],
        [
         "18",
         "HP:0000022",
         "Abnormal male internal genitalia morphology",
         "C4025899;C5706136"
        ],
        [
         "19",
         "HP:0000023",
         "Inguinal hernia",
         "C0019294"
        ],
        [
         "20",
         "HP:0000024",
         "Prostatitis",
         "C0033581"
        ],
        [
         "21",
         "HP:0000025",
         "Functional abnormality of male internal genitalia",
         "C4025898"
        ],
        [
         "22",
         "HP:0000026",
         "Male hypogonadism",
         "C0151721"
        ],
        [
         "23",
         "HP:0000027",
         "Azoospermia",
         "C0004509"
        ],
        [
         "24",
         "HP:0000028",
         "Cryptorchidism",
         "C0010417"
        ],
        [
         "25",
         "HP:0000029",
         "Testicular atrophy",
         "C0156312"
        ],
        [
         "26",
         "HP:0000030",
         "Testicular gonadoblastoma",
         "C1515283"
        ],
        [
         "27",
         "HP:0000031",
         "Epididymitis",
         "C0014534"
        ],
        [
         "28",
         "HP:0000032",
         "Abnormal male external genitalia morphology",
         "C4025897"
        ],
        [
         "29",
         "HP:0000033",
         "Ambiguous genitalia, male",
         "C4021823"
        ],
        [
         "30",
         "HP:0000034",
         "Hydrocele testis",
         "C1720771"
        ],
        [
         "31",
         "HP:0000035",
         "Abnormal testis morphology",
         "C0266423;C4759656"
        ],
        [
         "32",
         "HP:0000036",
         "Abnormal penis morphology",
         "C4025896"
        ],
        [
         "33",
         "HP:0000037",
         "Male pseudohermaphroditism",
         "C0238395"
        ],
        [
         "34",
         "HP:0000039",
         "Epispadias",
         "C0563449"
        ],
        [
         "35",
         "HP:0000040",
         "Long penis",
         "C0269011"
        ],
        [
         "36",
         "HP:0000041",
         "Chordee",
         "C0221182"
        ],
        [
         "37",
         "HP:0000042",
         "Absent external genitalia",
         "C1848869"
        ],
        [
         "38",
         "HP:0000044",
         "Hypogonadotropic hypogonadism",
         "C0271623;C0271623;C3489396"
        ],
        [
         "39",
         "HP:0000045",
         "Abnormal scrotum morphology",
         "C4025895"
        ],
        [
         "40",
         "HP:0000046",
         "Small scrotum",
         "C0431659;C0455792"
        ],
        [
         "41",
         "HP:0000047",
         "Hypospadias",
         "C0848558;C1691215"
        ],
        [
         "42",
         "HP:0000048",
         "Bifid scrotum",
         "C0341787"
        ],
        [
         "43",
         "HP:0000049",
         "Shawl scrotum",
         "C1858539"
        ],
        [
         "44",
         "HP:0000050",
         "Hypoplastic male external genitalia",
         "C1852534"
        ],
        [
         "45",
         "HP:0000051",
         "Perineal hypospadias",
         "C0452148"
        ],
        [
         "46",
         "HP:0000052",
         "Urethral atresia, male",
         "C4025894"
        ],
        [
         "47",
         "HP:0000053",
         "Macroorchidism",
         "C1263023"
        ],
        [
         "48",
         "HP:0000054",
         "Micropenis",
         "C4551492"
        ],
        [
         "49",
         "HP:0000055",
         "Abnormal female external genitalia morphology",
         "C4021822"
        ]
       ],
       "shape": {
        "columns": 3,
        "rows": 19532
       }
      },
      "text/html": [
       "<div>\n",
       "<style scoped>\n",
       "    .dataframe tbody tr th:only-of-type {\n",
       "        vertical-align: middle;\n",
       "    }\n",
       "\n",
       "    .dataframe tbody tr th {\n",
       "        vertical-align: top;\n",
       "    }\n",
       "\n",
       "    .dataframe thead th {\n",
       "        text-align: right;\n",
       "    }\n",
       "</style>\n",
       "<table border=\"1\" class=\"dataframe\">\n",
       "  <thead>\n",
       "    <tr style=\"text-align: right;\">\n",
       "      <th></th>\n",
       "      <th>HPO ID</th>\n",
       "      <th>name</th>\n",
       "      <th>UMLS_ID</th>\n",
       "    </tr>\n",
       "  </thead>\n",
       "  <tbody>\n",
       "    <tr>\n",
       "      <th>0</th>\n",
       "      <td>HP:0000002</td>\n",
       "      <td>Abnormality of body height</td>\n",
       "      <td>C4025901</td>\n",
       "    </tr>\n",
       "    <tr>\n",
       "      <th>1</th>\n",
       "      <td>HP:0000003</td>\n",
       "      <td>Multicystic kidney dysplasia</td>\n",
       "      <td>C3714581</td>\n",
       "    </tr>\n",
       "    <tr>\n",
       "      <th>2</th>\n",
       "      <td>HP:0000005</td>\n",
       "      <td>Mode of inheritance</td>\n",
       "      <td>C1708511</td>\n",
       "    </tr>\n",
       "    <tr>\n",
       "      <th>3</th>\n",
       "      <td>HP:0000006</td>\n",
       "      <td>Autosomal dominant inheritance</td>\n",
       "      <td>C0443147</td>\n",
       "    </tr>\n",
       "    <tr>\n",
       "      <th>4</th>\n",
       "      <td>HP:0000007</td>\n",
       "      <td>Autosomal recessive inheritance</td>\n",
       "      <td>C0441748;C4020899</td>\n",
       "    </tr>\n",
       "    <tr>\n",
       "      <th>...</th>\n",
       "      <td>...</td>\n",
       "      <td>...</td>\n",
       "      <td>...</td>\n",
       "    </tr>\n",
       "    <tr>\n",
       "      <th>19527</th>\n",
       "      <td>HP:6001198</td>\n",
       "      <td>Scapholunate interval widening</td>\n",
       "      <td></td>\n",
       "    </tr>\n",
       "    <tr>\n",
       "      <th>19528</th>\n",
       "      <td>HP:6001199</td>\n",
       "      <td>FInger pulp localization</td>\n",
       "      <td></td>\n",
       "    </tr>\n",
       "    <tr>\n",
       "      <th>19529</th>\n",
       "      <td>HP:6001200</td>\n",
       "      <td>Ulnar wrist pain</td>\n",
       "      <td></td>\n",
       "    </tr>\n",
       "    <tr>\n",
       "      <th>19530</th>\n",
       "      <td>HP:6001201</td>\n",
       "      <td>Lunotriquetral interval widening</td>\n",
       "      <td></td>\n",
       "    </tr>\n",
       "    <tr>\n",
       "      <th>19531</th>\n",
       "      <td>HP:6001202</td>\n",
       "      <td>Ulnar translocation of the carpus</td>\n",
       "      <td></td>\n",
       "    </tr>\n",
       "  </tbody>\n",
       "</table>\n",
       "<p>19532 rows × 3 columns</p>\n",
       "</div>"
      ],
      "text/plain": [
       "           HPO ID                               name            UMLS_ID\n",
       "0      HP:0000002         Abnormality of body height           C4025901\n",
       "1      HP:0000003       Multicystic kidney dysplasia           C3714581\n",
       "2      HP:0000005                Mode of inheritance           C1708511\n",
       "3      HP:0000006     Autosomal dominant inheritance           C0443147\n",
       "4      HP:0000007    Autosomal recessive inheritance  C0441748;C4020899\n",
       "...           ...                                ...                ...\n",
       "19527  HP:6001198     Scapholunate interval widening                   \n",
       "19528  HP:6001199           FInger pulp localization                   \n",
       "19529  HP:6001200                   Ulnar wrist pain                   \n",
       "19530  HP:6001201   Lunotriquetral interval widening                   \n",
       "19531  HP:6001202  Ulnar translocation of the carpus                   \n",
       "\n",
       "[19532 rows x 3 columns]"
      ]
     },
     "execution_count": 21,
     "metadata": {},
     "output_type": "execute_result"
    }
   ],
   "source": [
    "pheno_umls_hpo = pd.merge(umls_hpo, final_data, left_on='HPO_ID', right_on='id', how='outer')\n",
    "pheno_umls_hpo = merge_column(pheno_umls_hpo, 'UMLS ID', 'umls', 'UMLS_ID')\n",
    "pheno_umls_hpo = merge_column(pheno_umls_hpo, 'HPO_ID', 'id', 'HPO ID')\n",
    "pheno_umls_hpo = pheno_umls_hpo.drop(index=0).reset_index(drop=True)\n",
    "pheno_umls_hpo = pheno_umls_hpo.groupby('HPO ID').agg(lambda x: ';'.join(sorted(set(x.dropna().astype(str)))))\n",
    "pheno_umls_hpo = pheno_umls_hpo.reset_index()\n",
    "pheno_umls_hpo"
   ]
  },
  {
   "cell_type": "markdown",
   "metadata": {},
   "source": [
    "## 4. BioMedGraphica ID"
   ]
  },
  {
   "cell_type": "code",
   "execution_count": 22,
   "metadata": {},
   "outputs": [
    {
     "data": {
      "application/vnd.microsoft.datawrangler.viewer.v0+json": {
       "columns": [
        {
         "name": "index",
         "rawType": "int64",
         "type": "integer"
        },
        {
         "name": "BioMedGraphica_ID",
         "rawType": "object",
         "type": "string"
        },
        {
         "name": "HPO_ID",
         "rawType": "object",
         "type": "string"
        },
        {
         "name": "HPO_Name",
         "rawType": "object",
         "type": "string"
        },
        {
         "name": "UMLS_ID",
         "rawType": "object",
         "type": "string"
        }
       ],
       "conversionMethod": "pd.DataFrame",
       "ref": "3071fcc2-9ea6-4dc8-a998-c7fce7438e6b",
       "rows": [
        [
         "0",
         "BMG_PH00001",
         "HP:0000002",
         "Abnormality of body height",
         "C4025901"
        ],
        [
         "1",
         "BMG_PH00002",
         "HP:0000003",
         "Multicystic kidney dysplasia",
         "C3714581"
        ],
        [
         "2",
         "BMG_PH00003",
         "HP:0000005",
         "Mode of inheritance",
         "C1708511"
        ],
        [
         "3",
         "BMG_PH00004",
         "HP:0000006",
         "Autosomal dominant inheritance",
         "C0443147"
        ],
        [
         "4",
         "BMG_PH00005",
         "HP:0000007",
         "Autosomal recessive inheritance",
         "C0441748;C4020899"
        ],
        [
         "5",
         "BMG_PH00006",
         "HP:0000008",
         "Abnormal morphology of female internal genitalia",
         "C4025900"
        ],
        [
         "6",
         "BMG_PH00007",
         "HP:0000009",
         "Functional abnormality of the bladder",
         "C3806583"
        ],
        [
         "7",
         "BMG_PH00008",
         "HP:0000010",
         "Recurrent urinary tract infections",
         "C0262655"
        ],
        [
         "8",
         "BMG_PH00009",
         "HP:0000011",
         "Neurogenic bladder",
         "C0005697"
        ],
        [
         "9",
         "BMG_PH00010",
         "HP:0000012",
         "Urinary urgency",
         "C0085606;C3544092;C4020898;C3544092;C4020898"
        ],
        [
         "10",
         "BMG_PH00011",
         "HP:0000013",
         "Hypoplasia of the uterus",
         "C0266399"
        ],
        [
         "11",
         "BMG_PH00012",
         "HP:0000014",
         "Abnormality of the bladder",
         "C0149632"
        ],
        [
         "12",
         "BMG_PH00013",
         "HP:0000015",
         "Bladder diverticulum",
         "C0156273"
        ],
        [
         "13",
         "BMG_PH00014",
         "HP:0000016",
         "Urinary retention",
         "C0080274"
        ],
        [
         "14",
         "BMG_PH00015",
         "HP:0000017",
         "Nocturia",
         "C0028734"
        ],
        [
         "15",
         "BMG_PH00016",
         "HP:0000019",
         "Urinary hesitancy",
         "C0152032"
        ],
        [
         "16",
         "BMG_PH00017",
         "HP:0000020",
         "Urinary incontinence",
         "C0042024"
        ],
        [
         "17",
         "BMG_PH00018",
         "HP:0000021",
         "Megacystis",
         "C1855311"
        ],
        [
         "18",
         "BMG_PH00019",
         "HP:0000022",
         "Abnormal male internal genitalia morphology",
         "C4025899;C5706136"
        ],
        [
         "19",
         "BMG_PH00020",
         "HP:0000023",
         "Inguinal hernia",
         "C0019294"
        ],
        [
         "20",
         "BMG_PH00021",
         "HP:0000024",
         "Prostatitis",
         "C0033581"
        ],
        [
         "21",
         "BMG_PH00022",
         "HP:0000025",
         "Functional abnormality of male internal genitalia",
         "C4025898"
        ],
        [
         "22",
         "BMG_PH00023",
         "HP:0000026",
         "Male hypogonadism",
         "C0151721"
        ],
        [
         "23",
         "BMG_PH00024",
         "HP:0000027",
         "Azoospermia",
         "C0004509"
        ],
        [
         "24",
         "BMG_PH00025",
         "HP:0000028",
         "Cryptorchidism",
         "C0010417"
        ],
        [
         "25",
         "BMG_PH00026",
         "HP:0000029",
         "Testicular atrophy",
         "C0156312"
        ],
        [
         "26",
         "BMG_PH00027",
         "HP:0000030",
         "Testicular gonadoblastoma",
         "C1515283"
        ],
        [
         "27",
         "BMG_PH00028",
         "HP:0000031",
         "Epididymitis",
         "C0014534"
        ],
        [
         "28",
         "BMG_PH00029",
         "HP:0000032",
         "Abnormal male external genitalia morphology",
         "C4025897"
        ],
        [
         "29",
         "BMG_PH00030",
         "HP:0000033",
         "Ambiguous genitalia, male",
         "C4021823"
        ],
        [
         "30",
         "BMG_PH00031",
         "HP:0000034",
         "Hydrocele testis",
         "C1720771"
        ],
        [
         "31",
         "BMG_PH00032",
         "HP:0000035",
         "Abnormal testis morphology",
         "C0266423;C4759656"
        ],
        [
         "32",
         "BMG_PH00033",
         "HP:0000036",
         "Abnormal penis morphology",
         "C4025896"
        ],
        [
         "33",
         "BMG_PH00034",
         "HP:0000037",
         "Male pseudohermaphroditism",
         "C0238395"
        ],
        [
         "34",
         "BMG_PH00035",
         "HP:0000039",
         "Epispadias",
         "C0563449"
        ],
        [
         "35",
         "BMG_PH00036",
         "HP:0000040",
         "Long penis",
         "C0269011"
        ],
        [
         "36",
         "BMG_PH00037",
         "HP:0000041",
         "Chordee",
         "C0221182"
        ],
        [
         "37",
         "BMG_PH00038",
         "HP:0000042",
         "Absent external genitalia",
         "C1848869"
        ],
        [
         "38",
         "BMG_PH00039",
         "HP:0000044",
         "Hypogonadotropic hypogonadism",
         "C0271623;C0271623;C3489396"
        ],
        [
         "39",
         "BMG_PH00040",
         "HP:0000045",
         "Abnormal scrotum morphology",
         "C4025895"
        ],
        [
         "40",
         "BMG_PH00041",
         "HP:0000046",
         "Small scrotum",
         "C0431659;C0455792"
        ],
        [
         "41",
         "BMG_PH00042",
         "HP:0000047",
         "Hypospadias",
         "C0848558;C1691215"
        ],
        [
         "42",
         "BMG_PH00043",
         "HP:0000048",
         "Bifid scrotum",
         "C0341787"
        ],
        [
         "43",
         "BMG_PH00044",
         "HP:0000049",
         "Shawl scrotum",
         "C1858539"
        ],
        [
         "44",
         "BMG_PH00045",
         "HP:0000050",
         "Hypoplastic male external genitalia",
         "C1852534"
        ],
        [
         "45",
         "BMG_PH00046",
         "HP:0000051",
         "Perineal hypospadias",
         "C0452148"
        ],
        [
         "46",
         "BMG_PH00047",
         "HP:0000052",
         "Urethral atresia, male",
         "C4025894"
        ],
        [
         "47",
         "BMG_PH00048",
         "HP:0000053",
         "Macroorchidism",
         "C1263023"
        ],
        [
         "48",
         "BMG_PH00049",
         "HP:0000054",
         "Micropenis",
         "C4551492"
        ],
        [
         "49",
         "BMG_PH00050",
         "HP:0000055",
         "Abnormal female external genitalia morphology",
         "C4021822"
        ]
       ],
       "shape": {
        "columns": 4,
        "rows": 19532
       }
      },
      "text/html": [
       "<div>\n",
       "<style scoped>\n",
       "    .dataframe tbody tr th:only-of-type {\n",
       "        vertical-align: middle;\n",
       "    }\n",
       "\n",
       "    .dataframe tbody tr th {\n",
       "        vertical-align: top;\n",
       "    }\n",
       "\n",
       "    .dataframe thead th {\n",
       "        text-align: right;\n",
       "    }\n",
       "</style>\n",
       "<table border=\"1\" class=\"dataframe\">\n",
       "  <thead>\n",
       "    <tr style=\"text-align: right;\">\n",
       "      <th></th>\n",
       "      <th>BioMedGraphica_ID</th>\n",
       "      <th>HPO_ID</th>\n",
       "      <th>HPO_Name</th>\n",
       "      <th>UMLS_ID</th>\n",
       "    </tr>\n",
       "  </thead>\n",
       "  <tbody>\n",
       "    <tr>\n",
       "      <th>0</th>\n",
       "      <td>BMG_PH00001</td>\n",
       "      <td>HP:0000002</td>\n",
       "      <td>Abnormality of body height</td>\n",
       "      <td>C4025901</td>\n",
       "    </tr>\n",
       "    <tr>\n",
       "      <th>1</th>\n",
       "      <td>BMG_PH00002</td>\n",
       "      <td>HP:0000003</td>\n",
       "      <td>Multicystic kidney dysplasia</td>\n",
       "      <td>C3714581</td>\n",
       "    </tr>\n",
       "    <tr>\n",
       "      <th>2</th>\n",
       "      <td>BMG_PH00003</td>\n",
       "      <td>HP:0000005</td>\n",
       "      <td>Mode of inheritance</td>\n",
       "      <td>C1708511</td>\n",
       "    </tr>\n",
       "    <tr>\n",
       "      <th>3</th>\n",
       "      <td>BMG_PH00004</td>\n",
       "      <td>HP:0000006</td>\n",
       "      <td>Autosomal dominant inheritance</td>\n",
       "      <td>C0443147</td>\n",
       "    </tr>\n",
       "    <tr>\n",
       "      <th>4</th>\n",
       "      <td>BMG_PH00005</td>\n",
       "      <td>HP:0000007</td>\n",
       "      <td>Autosomal recessive inheritance</td>\n",
       "      <td>C0441748;C4020899</td>\n",
       "    </tr>\n",
       "    <tr>\n",
       "      <th>...</th>\n",
       "      <td>...</td>\n",
       "      <td>...</td>\n",
       "      <td>...</td>\n",
       "      <td>...</td>\n",
       "    </tr>\n",
       "    <tr>\n",
       "      <th>19527</th>\n",
       "      <td>BMG_PH19528</td>\n",
       "      <td>HP:6001198</td>\n",
       "      <td>Scapholunate interval widening</td>\n",
       "      <td></td>\n",
       "    </tr>\n",
       "    <tr>\n",
       "      <th>19528</th>\n",
       "      <td>BMG_PH19529</td>\n",
       "      <td>HP:6001199</td>\n",
       "      <td>FInger pulp localization</td>\n",
       "      <td></td>\n",
       "    </tr>\n",
       "    <tr>\n",
       "      <th>19529</th>\n",
       "      <td>BMG_PH19530</td>\n",
       "      <td>HP:6001200</td>\n",
       "      <td>Ulnar wrist pain</td>\n",
       "      <td></td>\n",
       "    </tr>\n",
       "    <tr>\n",
       "      <th>19530</th>\n",
       "      <td>BMG_PH19531</td>\n",
       "      <td>HP:6001201</td>\n",
       "      <td>Lunotriquetral interval widening</td>\n",
       "      <td></td>\n",
       "    </tr>\n",
       "    <tr>\n",
       "      <th>19531</th>\n",
       "      <td>BMG_PH19532</td>\n",
       "      <td>HP:6001202</td>\n",
       "      <td>Ulnar translocation of the carpus</td>\n",
       "      <td></td>\n",
       "    </tr>\n",
       "  </tbody>\n",
       "</table>\n",
       "<p>19532 rows × 4 columns</p>\n",
       "</div>"
      ],
      "text/plain": [
       "      BioMedGraphica_ID      HPO_ID                           HPO_Name  \\\n",
       "0           BMG_PH00001  HP:0000002         Abnormality of body height   \n",
       "1           BMG_PH00002  HP:0000003       Multicystic kidney dysplasia   \n",
       "2           BMG_PH00003  HP:0000005                Mode of inheritance   \n",
       "3           BMG_PH00004  HP:0000006     Autosomal dominant inheritance   \n",
       "4           BMG_PH00005  HP:0000007    Autosomal recessive inheritance   \n",
       "...                 ...         ...                                ...   \n",
       "19527       BMG_PH19528  HP:6001198     Scapholunate interval widening   \n",
       "19528       BMG_PH19529  HP:6001199           FInger pulp localization   \n",
       "19529       BMG_PH19530  HP:6001200                   Ulnar wrist pain   \n",
       "19530       BMG_PH19531  HP:6001201   Lunotriquetral interval widening   \n",
       "19531       BMG_PH19532  HP:6001202  Ulnar translocation of the carpus   \n",
       "\n",
       "                 UMLS_ID  \n",
       "0               C4025901  \n",
       "1               C3714581  \n",
       "2               C1708511  \n",
       "3               C0443147  \n",
       "4      C0441748;C4020899  \n",
       "...                  ...  \n",
       "19527                     \n",
       "19528                     \n",
       "19529                     \n",
       "19530                     \n",
       "19531                     \n",
       "\n",
       "[19532 rows x 4 columns]"
      ]
     },
     "execution_count": 22,
     "metadata": {},
     "output_type": "execute_result"
    }
   ],
   "source": [
    "biomedgraphica_phenotype = pheno_umls_hpo.copy()\n",
    "\n",
    "biomedgraphica_phenotype = biomedgraphica_phenotype.sort_values(by='HPO ID').reset_index(drop=True)\n",
    "max_length = len(str(len(biomedgraphica_phenotype)))\n",
    "\n",
    "biomedgraphica_phenotype['BioMedGraphica_ID'] = ['BMG_PH' + str(i).zfill(max_length) for i in range(1, len(biomedgraphica_phenotype) + 1)]\n",
    "columns = ['BioMedGraphica_ID'] + [col for col in biomedgraphica_phenotype.columns if col != 'BioMedGraphica_ID']  # re-order columns\n",
    "biomedgraphica_phenotype = biomedgraphica_phenotype[columns]\n",
    "\n",
    "biomedgraphica_phenotype = biomedgraphica_phenotype.rename(columns={'HPO ID': 'HPO_ID', 'name': 'HPO_Name'})\n",
    "biomedgraphica_phenotype"
   ]
  },
  {
   "cell_type": "code",
   "execution_count": 23,
   "metadata": {},
   "outputs": [
    {
     "name": "stdout",
     "output_type": "stream",
     "text": [
      "Data has been saved to D:\\RA\\BMG\\BioMedGraphica\\Entity\\Phenotype\\BioMedGraphica_Phenotype.csv\n"
     ]
    }
   ],
   "source": [
    "import os\n",
    "from pathlib import Path\n",
    "\n",
    "# get the current working directory\n",
    "current_working_dir = Path(os.getcwd()).resolve()\n",
    "\n",
    "# get the output directory\n",
    "grandparent_dir = current_working_dir.parent.parent.parent\n",
    "\n",
    "target_folder = grandparent_dir / 'BioMedGraphica' / 'Entity' / 'Phenotype'\n",
    "if not target_folder.exists():\n",
    "    target_folder.mkdir(parents=True)\n",
    "    print(f\"Folder {target_folder} has been created.\")\n",
    "\n",
    "output_file_path = target_folder / 'BioMedGraphica_Phenotype.csv'\n",
    "biomedgraphica_phenotype.to_csv(output_file_path, index=False)\n",
    "print(f\"Data has been saved to {output_file_path}\")"
   ]
  },
  {
   "cell_type": "markdown",
   "metadata": {},
   "source": [
    "## 5. Description"
   ]
  },
  {
   "cell_type": "code",
   "execution_count": 1,
   "metadata": {},
   "outputs": [],
   "source": [
    "import pandas as pd\n",
    "import os\n",
    "from pathlib import Path\n",
    "\n",
    "current_working_dir = Path(os.getcwd()).resolve()\n",
    "grandparent_dir = current_working_dir.parent.parent.parent\n",
    "target_dir = grandparent_dir / 'BioMedGraphica' / 'Entity' / 'Phenotype' / 'BioMedGraphica_Phenotype.csv'\n",
    "biomedgraphica_phenotype = pd.read_csv(target_dir, dtype=str)"
   ]
  },
  {
   "cell_type": "markdown",
   "metadata": {},
   "source": [
    "### 5.1 From HPO"
   ]
  },
  {
   "cell_type": "code",
   "execution_count": 3,
   "metadata": {},
   "outputs": [
    {
     "name": "stdout",
     "output_type": "stream",
     "text": [
      "Finished: hpo_def.csv\n"
     ]
    }
   ],
   "source": [
    "import csv\n",
    "\n",
    "def parse_obo_to_csv(obo_file_path, csv_file_path):\n",
    "    with open(obo_file_path, 'r') as obo_file:\n",
    "        lines = obo_file.readlines()\n",
    "\n",
    "    terms = []\n",
    "    current_term = {}\n",
    "    is_in_term_block = False\n",
    "\n",
    "    for line in lines:\n",
    "        line = line.strip()\n",
    "\n",
    "        if line == \"[Term]\":\n",
    "            # Save the previous term if it exists\n",
    "            if current_term:\n",
    "                terms.append(current_term)\n",
    "            # Start a new term\n",
    "            current_term = {}\n",
    "            is_in_term_block = True\n",
    "        elif is_in_term_block and line == \"\":\n",
    "            # End of the current term block\n",
    "            if current_term:\n",
    "                terms.append(current_term)\n",
    "            current_term = {}\n",
    "            is_in_term_block = False\n",
    "        elif is_in_term_block:\n",
    "            # Parse lines within a term block\n",
    "            if line.startswith(\"id: \"):\n",
    "                current_term['id'] = line.split(\"id: \")[1]\n",
    "            elif line.startswith(\"def: \"):\n",
    "                current_term['def'] = line.split(\"def: \")[1]\n",
    "\n",
    "    # Add the last term if it exists\n",
    "    if current_term:\n",
    "        terms.append(current_term)\n",
    "\n",
    "    # Write to CSV\n",
    "    with open(csv_file_path, 'w', newline='', encoding='utf-8') as csv_file:\n",
    "        writer = csv.DictWriter(csv_file, fieldnames=[\"id\", \"def\"])\n",
    "        writer.writeheader()\n",
    "        for term in terms:\n",
    "            writer.writerow(term)\n",
    "\n",
    "obo_file = \"hp.obo\"\n",
    "csv_file = \"hpo_def.csv\"\n",
    "\n",
    "parse_obo_to_csv(obo_file, csv_file)\n",
    "\n",
    "print(f\"Finished: {csv_file}\")"
   ]
  },
  {
   "cell_type": "code",
   "execution_count": 2,
   "metadata": {},
   "outputs": [
    {
     "data": {
      "application/vnd.microsoft.datawrangler.viewer.v0+json": {
       "columns": [
        {
         "name": "index",
         "rawType": "int64",
         "type": "integer"
        },
        {
         "name": "id",
         "rawType": "object",
         "type": "string"
        },
        {
         "name": "def",
         "rawType": "object",
         "type": "unknown"
        }
       ],
       "conversionMethod": "pd.DataFrame",
       "ref": "673983fd-1379-4d3b-ab27-4a4c8d699067",
       "rows": [
        [
         "0",
         "HP:0000001",
         null
        ],
        [
         "1",
         "HP:0000002",
         "Deviation from the norm of height with respect to that which is expected according to age and gender norms."
        ],
        [
         "2",
         "HP:0000003",
         "Multicystic dysplasia of the kidney is characterized by multiple cysts of varying size in the kidney and the absence of a normal pelvicaliceal system. The condition is associated with ureteral or ureteropelvic atresia, and the affected kidney is nonfunctional."
        ],
        [
         "3",
         "HP:0000005",
         "The pattern in which a particular genetic trait or disorder is passed from one generation to the next."
        ],
        [
         "4",
         "HP:0000006",
         "A mode of inheritance that is observed for traits related to a gene encoded on one of the autosomes (i.e., the human chromosomes 1-22) in which a trait manifests in heterozygotes. In the context of medical genetics, an autosomal dominant disorder is caused when a single copy of the mutant allele is present. Males and females are affected equally, and can both transmit the disorder with a risk of 50% for each child of inheriting the mutant allele."
        ],
        [
         "5",
         "HP:0000007",
         "A mode of inheritance that is observed for traits related to a gene encoded on one of the autosomes (i.e., the human chromosomes 1-22) in which a trait manifests in individuals with two pathogenic alleles, either homozygotes (two copies of the same mutant allele) or compound heterozygotes (whereby each copy of a gene has a distinct mutant allele)."
        ],
        [
         "6",
         "HP:0000008",
         "An abnormality of the female internal genitalia."
        ],
        [
         "7",
         "HP:0000009",
         "Dysfunction of the urinary bladder."
        ],
        [
         "8",
         "HP:0000010",
         "Repeated infections of the urinary tract."
        ],
        [
         "9",
         "HP:0000011",
         "A type of bladder dysfunction caused by neurologic damage. Neurogenic bladder can be flaccid or spastic. Common manifestatios of neurogenic bladder are overflow incontinence, frequency, urgency, urge incontinence, and retention."
        ],
        [
         "10",
         "HP:0000012",
         "Urge incontinence is the strong, sudden need to urinate."
        ],
        [
         "11",
         "HP:0000013",
         "Underdevelopment of the uterus."
        ],
        [
         "12",
         "HP:0000014",
         "An abnormality of the urinary bladder."
        ],
        [
         "13",
         "HP:0000015",
         "Diverticulum (sac or pouch) in the wall of the urinary bladder."
        ],
        [
         "14",
         "HP:0000016",
         "Inability to completely empty the urinary bladder during the process of urination."
        ],
        [
         "15",
         "HP:0000017",
         "Abnormally increased production of urine during the night leading to an unusually frequent need to urinate."
        ],
        [
         "16",
         "HP:0000019",
         "Difficulty in beginning the process of urination."
        ],
        [
         "17",
         "HP:0000020",
         "Loss of the ability to control the urinary bladder leading to involuntary urination."
        ],
        [
         "18",
         "HP:0000021",
         "Dilatation of the bladder postnatally."
        ],
        [
         "19",
         "HP:0000022",
         "An abnormality of the male internal genitalia."
        ],
        [
         "20",
         "HP:0000023",
         "Protrusion of the contents of the abdominal cavity through the inguinal canal."
        ],
        [
         "21",
         "HP:0000024",
         "The presence of inflammation of the prostate."
        ],
        [
         "22",
         "HP:0000025",
         null
        ],
        [
         "23",
         "HP:0000026",
         "Decreased functionality of the male gonad, i.e., of the testis, with reduced spermatogenesis or testosterone synthesis."
        ],
        [
         "24",
         "HP:0000027",
         "Absence of any measurable level of sperm,whereby spermatozoa cannot be observed even after centrifugation of the semen pellet."
        ],
        [
         "25",
         "HP:0000028",
         "Testis in inguinal canal. That is, absence of one or both testes from the scrotum owing to failure of the testis or testes to descend through the inguinal canal to the scrotum."
        ],
        [
         "26",
         "HP:0000029",
         "Wasting (atrophy) of the testicle (the male gonad) manifested by a decrease in size and potentially by a loss of fertility."
        ],
        [
         "27",
         "HP:0000030",
         "The presence of a gonadoblastoma of the testis."
        ],
        [
         "28",
         "HP:0000031",
         "The presence of inflammation of the epididymis."
        ],
        [
         "29",
         "HP:0000032",
         "Any structural abnormality of male external genitalia."
        ],
        [
         "30",
         "HP:0000033",
         "Ambiguous genitalia in an individual with XY genetic gender."
        ],
        [
         "31",
         "HP:0000034",
         "Accumulation of clear fluid in the between the layers of membrane (tunica vaginalis) surrounding the testis."
        ],
        [
         "32",
         "HP:0000035",
         "An anomaly of the testicle (the male gonad)."
        ],
        [
         "33",
         "HP:0000036",
         "Abnormality of the male external sex organ."
        ],
        [
         "34",
         "HP:0000037",
         "Hermaphroditism refers to a discrepancy between the morphology of the gonads and that of the external genitalia. In male pseudohermaphroditism, the genotype is male (XY) and the external genitalia are imcompletely virilized, ambiguous, or complete female. If gonads are present, they are testes."
        ],
        [
         "35",
         "HP:0000039",
         "Epispadias is a urogenital malformation characterized by the failure of the urethral tube to tubularize on the dorsal aspect. Unlike in hypospadias, where the meatus is on the ventral aspect, children with epispadias have a wide-open urethral plate on the dorsum. It is commonly seen as a component in the spectrum of bladder exstrophy-epispadias-complex. Isolated epispadias constitutes less than 10 percent of the total cases of epispadias."
        ],
        [
         "36",
         "HP:0000040",
         "Penile length more than 2 SD above the mean for age."
        ],
        [
         "37",
         "HP:0000041",
         "Ventral (i.e., downward), lateral, or ventrolateral curvature of the shaft and glans penis of more than 30 degrees."
        ],
        [
         "38",
         "HP:0000042",
         "Lack of external genitalia in a male or female individual."
        ],
        [
         "39",
         "HP:0000044",
         "Hypogonadotropic hypogonadism is characterized by reduced function of the gonads (testes in males or ovaries in females) and results from the absence of the gonadal stimulating pituitary hormones: follicle stimulating hormone (FSH) and luteinizing hormone (LH)."
        ],
        [
         "40",
         "HP:0000045",
         "Any structural abnormality of the scrotum, i.e., the sac that contains the testes, epididymis, and the lower part of the spermatic cord."
        ],
        [
         "41",
         "HP:0000046",
         "Apparently small scrotum for age."
        ],
        [
         "42",
         "HP:0000047",
         "Abnormal position of urethral meatus on the ventral penile shaft (underside) characterized by displacement of the urethral meatus from the tip of the glans penis to the ventral surface of the penis, scrotum, or perineum."
        ],
        [
         "43",
         "HP:0000048",
         "Midline indentation or cleft of the scrotum."
        ],
        [
         "44",
         "HP:0000049",
         "Superior margin of the scrotum superior to the base of the penis."
        ],
        [
         "45",
         "HP:0000050",
         "Underdevelopment of part or all of the male external reproductive organs (which include the penis, the scrotum and the urethra)."
        ],
        [
         "46",
         "HP:0000051",
         "Hypospadias with location of the urethral meatus in the perineal region."
        ],
        [
         "47",
         "HP:0000052",
         "Congenital anomaly characterized by closure or failure to develop an opening in the urethra in males."
        ],
        [
         "48",
         "HP:0000053",
         "The presence of abnormally large testes."
        ],
        [
         "49",
         "HP:0000054",
         "Abnormally small penis. At birth, the normal penis is about 3 cm (stretched length from pubic tubercle to tip of penis) with micropenis less than 2.0-2.5 cm."
        ]
       ],
       "shape": {
        "columns": 2,
        "rows": 19533
       }
      },
      "text/html": [
       "<div>\n",
       "<style scoped>\n",
       "    .dataframe tbody tr th:only-of-type {\n",
       "        vertical-align: middle;\n",
       "    }\n",
       "\n",
       "    .dataframe tbody tr th {\n",
       "        vertical-align: top;\n",
       "    }\n",
       "\n",
       "    .dataframe thead th {\n",
       "        text-align: right;\n",
       "    }\n",
       "</style>\n",
       "<table border=\"1\" class=\"dataframe\">\n",
       "  <thead>\n",
       "    <tr style=\"text-align: right;\">\n",
       "      <th></th>\n",
       "      <th>id</th>\n",
       "      <th>def</th>\n",
       "    </tr>\n",
       "  </thead>\n",
       "  <tbody>\n",
       "    <tr>\n",
       "      <th>0</th>\n",
       "      <td>HP:0000001</td>\n",
       "      <td>NaN</td>\n",
       "    </tr>\n",
       "    <tr>\n",
       "      <th>1</th>\n",
       "      <td>HP:0000002</td>\n",
       "      <td>Deviation from the norm of height with respect...</td>\n",
       "    </tr>\n",
       "    <tr>\n",
       "      <th>2</th>\n",
       "      <td>HP:0000003</td>\n",
       "      <td>Multicystic dysplasia of the kidney is charact...</td>\n",
       "    </tr>\n",
       "    <tr>\n",
       "      <th>3</th>\n",
       "      <td>HP:0000005</td>\n",
       "      <td>The pattern in which a particular genetic trai...</td>\n",
       "    </tr>\n",
       "    <tr>\n",
       "      <th>4</th>\n",
       "      <td>HP:0000006</td>\n",
       "      <td>A mode of inheritance that is observed for tra...</td>\n",
       "    </tr>\n",
       "    <tr>\n",
       "      <th>...</th>\n",
       "      <td>...</td>\n",
       "      <td>...</td>\n",
       "    </tr>\n",
       "    <tr>\n",
       "      <th>19528</th>\n",
       "      <td>HP:6001198</td>\n",
       "      <td>Widening of the space between the scaphoid and...</td>\n",
       "    </tr>\n",
       "    <tr>\n",
       "      <th>19529</th>\n",
       "      <td>HP:6001199</td>\n",
       "      <td>Applies to an abnormality whose distribution i...</td>\n",
       "    </tr>\n",
       "    <tr>\n",
       "      <th>19530</th>\n",
       "      <td>HP:6001200</td>\n",
       "      <td>An unpleasant sensation characterized by physi...</td>\n",
       "    </tr>\n",
       "    <tr>\n",
       "      <th>19531</th>\n",
       "      <td>HP:6001201</td>\n",
       "      <td>Radiographic widening of the space between the...</td>\n",
       "    </tr>\n",
       "    <tr>\n",
       "      <th>19532</th>\n",
       "      <td>HP:6001202</td>\n",
       "      <td>Anteroposterior wrist radiograph showing ulnar...</td>\n",
       "    </tr>\n",
       "  </tbody>\n",
       "</table>\n",
       "<p>19533 rows × 2 columns</p>\n",
       "</div>"
      ],
      "text/plain": [
       "               id                                                def\n",
       "0      HP:0000001                                                NaN\n",
       "1      HP:0000002  Deviation from the norm of height with respect...\n",
       "2      HP:0000003  Multicystic dysplasia of the kidney is charact...\n",
       "3      HP:0000005  The pattern in which a particular genetic trai...\n",
       "4      HP:0000006  A mode of inheritance that is observed for tra...\n",
       "...           ...                                                ...\n",
       "19528  HP:6001198  Widening of the space between the scaphoid and...\n",
       "19529  HP:6001199  Applies to an abnormality whose distribution i...\n",
       "19530  HP:6001200  An unpleasant sensation characterized by physi...\n",
       "19531  HP:6001201  Radiographic widening of the space between the...\n",
       "19532  HP:6001202  Anteroposterior wrist radiograph showing ulnar...\n",
       "\n",
       "[19533 rows x 2 columns]"
      ]
     },
     "execution_count": 2,
     "metadata": {},
     "output_type": "execute_result"
    }
   ],
   "source": [
    "import pandas as pd\n",
    "\n",
    "hpo_def = pd.read_csv('hpo_def.csv')\n",
    "hpo_def[\"def\"] = hpo_def[\"def\"].str.replace('\"', '', regex=False).str.replace(r'\\[.*?\\]', '', regex=True).str.strip()\n",
    "hpo_def"
   ]
  },
  {
   "cell_type": "code",
   "execution_count": 3,
   "metadata": {},
   "outputs": [
    {
     "name": "stderr",
     "output_type": "stream",
     "text": [
      "C:\\Users\\shunn\\AppData\\Local\\Temp\\ipykernel_36780\\1461441934.py:2: SettingWithCopyWarning: \n",
      "A value is trying to be set on a copy of a slice from a DataFrame.\n",
      "Try using .loc[row_indexer,col_indexer] = value instead\n",
      "\n",
      "See the caveats in the documentation: https://pandas.pydata.org/pandas-docs/stable/user_guide/indexing.html#returning-a-view-versus-a-copy\n",
      "  bmg_hpo['HPO_ID'] = bmg_hpo['HPO_ID'].str.split(';')\n"
     ]
    },
    {
     "data": {
      "application/vnd.microsoft.datawrangler.viewer.v0+json": {
       "columns": [
        {
         "name": "index",
         "rawType": "int64",
         "type": "integer"
        },
        {
         "name": "BioMedGraphica_ID",
         "rawType": "object",
         "type": "string"
        },
        {
         "name": "HPO",
         "rawType": "object",
         "type": "unknown"
        }
       ],
       "conversionMethod": "pd.DataFrame",
       "ref": "b7a1875e-6d23-44ad-b823-6d78059a978d",
       "rows": [
        [
         "0",
         "BMG_PH00001",
         "Deviation from the norm of height with respect to that which is expected according to age and gender norms."
        ],
        [
         "1",
         "BMG_PH00002",
         "Multicystic dysplasia of the kidney is characterized by multiple cysts of varying size in the kidney and the absence of a normal pelvicaliceal system. The condition is associated with ureteral or ureteropelvic atresia, and the affected kidney is nonfunctional."
        ],
        [
         "2",
         "BMG_PH00003",
         "The pattern in which a particular genetic trait or disorder is passed from one generation to the next."
        ],
        [
         "3",
         "BMG_PH00004",
         "A mode of inheritance that is observed for traits related to a gene encoded on one of the autosomes (i.e., the human chromosomes 1-22) in which a trait manifests in heterozygotes. In the context of medical genetics, an autosomal dominant disorder is caused when a single copy of the mutant allele is present. Males and females are affected equally, and can both transmit the disorder with a risk of 50% for each child of inheriting the mutant allele."
        ],
        [
         "4",
         "BMG_PH00005",
         "A mode of inheritance that is observed for traits related to a gene encoded on one of the autosomes (i.e., the human chromosomes 1-22) in which a trait manifests in individuals with two pathogenic alleles, either homozygotes (two copies of the same mutant allele) or compound heterozygotes (whereby each copy of a gene has a distinct mutant allele)."
        ],
        [
         "5",
         "BMG_PH00006",
         "An abnormality of the female internal genitalia."
        ],
        [
         "6",
         "BMG_PH00007",
         "Dysfunction of the urinary bladder."
        ],
        [
         "7",
         "BMG_PH00008",
         "Repeated infections of the urinary tract."
        ],
        [
         "8",
         "BMG_PH00009",
         "A type of bladder dysfunction caused by neurologic damage. Neurogenic bladder can be flaccid or spastic. Common manifestatios of neurogenic bladder are overflow incontinence, frequency, urgency, urge incontinence, and retention."
        ],
        [
         "9",
         "BMG_PH00010",
         "Urge incontinence is the strong, sudden need to urinate."
        ],
        [
         "10",
         "BMG_PH00011",
         "Underdevelopment of the uterus."
        ],
        [
         "11",
         "BMG_PH00012",
         "An abnormality of the urinary bladder."
        ],
        [
         "12",
         "BMG_PH00013",
         "Diverticulum (sac or pouch) in the wall of the urinary bladder."
        ],
        [
         "13",
         "BMG_PH00014",
         "Inability to completely empty the urinary bladder during the process of urination."
        ],
        [
         "14",
         "BMG_PH00015",
         "Abnormally increased production of urine during the night leading to an unusually frequent need to urinate."
        ],
        [
         "15",
         "BMG_PH00016",
         "Difficulty in beginning the process of urination."
        ],
        [
         "16",
         "BMG_PH00017",
         "Loss of the ability to control the urinary bladder leading to involuntary urination."
        ],
        [
         "17",
         "BMG_PH00018",
         "Dilatation of the bladder postnatally."
        ],
        [
         "18",
         "BMG_PH00019",
         "An abnormality of the male internal genitalia."
        ],
        [
         "19",
         "BMG_PH00020",
         "Protrusion of the contents of the abdominal cavity through the inguinal canal."
        ],
        [
         "20",
         "BMG_PH00021",
         "The presence of inflammation of the prostate."
        ],
        [
         "21",
         "BMG_PH00022",
         null
        ],
        [
         "22",
         "BMG_PH00023",
         "Decreased functionality of the male gonad, i.e., of the testis, with reduced spermatogenesis or testosterone synthesis."
        ],
        [
         "23",
         "BMG_PH00024",
         "Absence of any measurable level of sperm,whereby spermatozoa cannot be observed even after centrifugation of the semen pellet."
        ],
        [
         "24",
         "BMG_PH00025",
         "Testis in inguinal canal. That is, absence of one or both testes from the scrotum owing to failure of the testis or testes to descend through the inguinal canal to the scrotum."
        ],
        [
         "25",
         "BMG_PH00026",
         "Wasting (atrophy) of the testicle (the male gonad) manifested by a decrease in size and potentially by a loss of fertility."
        ],
        [
         "26",
         "BMG_PH00027",
         "The presence of a gonadoblastoma of the testis."
        ],
        [
         "27",
         "BMG_PH00028",
         "The presence of inflammation of the epididymis."
        ],
        [
         "28",
         "BMG_PH00029",
         "Any structural abnormality of male external genitalia."
        ],
        [
         "29",
         "BMG_PH00030",
         "Ambiguous genitalia in an individual with XY genetic gender."
        ],
        [
         "30",
         "BMG_PH00031",
         "Accumulation of clear fluid in the between the layers of membrane (tunica vaginalis) surrounding the testis."
        ],
        [
         "31",
         "BMG_PH00032",
         "An anomaly of the testicle (the male gonad)."
        ],
        [
         "32",
         "BMG_PH00033",
         "Abnormality of the male external sex organ."
        ],
        [
         "33",
         "BMG_PH00034",
         "Hermaphroditism refers to a discrepancy between the morphology of the gonads and that of the external genitalia. In male pseudohermaphroditism, the genotype is male (XY) and the external genitalia are imcompletely virilized, ambiguous, or complete female. If gonads are present, they are testes."
        ],
        [
         "34",
         "BMG_PH00035",
         "Epispadias is a urogenital malformation characterized by the failure of the urethral tube to tubularize on the dorsal aspect. Unlike in hypospadias, where the meatus is on the ventral aspect, children with epispadias have a wide-open urethral plate on the dorsum. It is commonly seen as a component in the spectrum of bladder exstrophy-epispadias-complex. Isolated epispadias constitutes less than 10 percent of the total cases of epispadias."
        ],
        [
         "35",
         "BMG_PH00036",
         "Penile length more than 2 SD above the mean for age."
        ],
        [
         "36",
         "BMG_PH00037",
         "Ventral (i.e., downward), lateral, or ventrolateral curvature of the shaft and glans penis of more than 30 degrees."
        ],
        [
         "37",
         "BMG_PH00038",
         "Lack of external genitalia in a male or female individual."
        ],
        [
         "38",
         "BMG_PH00039",
         "Hypogonadotropic hypogonadism is characterized by reduced function of the gonads (testes in males or ovaries in females) and results from the absence of the gonadal stimulating pituitary hormones: follicle stimulating hormone (FSH) and luteinizing hormone (LH)."
        ],
        [
         "39",
         "BMG_PH00040",
         "Any structural abnormality of the scrotum, i.e., the sac that contains the testes, epididymis, and the lower part of the spermatic cord."
        ],
        [
         "40",
         "BMG_PH00041",
         "Apparently small scrotum for age."
        ],
        [
         "41",
         "BMG_PH00042",
         "Abnormal position of urethral meatus on the ventral penile shaft (underside) characterized by displacement of the urethral meatus from the tip of the glans penis to the ventral surface of the penis, scrotum, or perineum."
        ],
        [
         "42",
         "BMG_PH00043",
         "Midline indentation or cleft of the scrotum."
        ],
        [
         "43",
         "BMG_PH00044",
         "Superior margin of the scrotum superior to the base of the penis."
        ],
        [
         "44",
         "BMG_PH00045",
         "Underdevelopment of part or all of the male external reproductive organs (which include the penis, the scrotum and the urethra)."
        ],
        [
         "45",
         "BMG_PH00046",
         "Hypospadias with location of the urethral meatus in the perineal region."
        ],
        [
         "46",
         "BMG_PH00047",
         "Congenital anomaly characterized by closure or failure to develop an opening in the urethra in males."
        ],
        [
         "47",
         "BMG_PH00048",
         "The presence of abnormally large testes."
        ],
        [
         "48",
         "BMG_PH00049",
         "Abnormally small penis. At birth, the normal penis is about 3 cm (stretched length from pubic tubercle to tip of penis) with micropenis less than 2.0-2.5 cm."
        ],
        [
         "49",
         "BMG_PH00050",
         "Any structural abnormality of the female external genitalia."
        ]
       ],
       "shape": {
        "columns": 2,
        "rows": 19532
       }
      },
      "text/html": [
       "<div>\n",
       "<style scoped>\n",
       "    .dataframe tbody tr th:only-of-type {\n",
       "        vertical-align: middle;\n",
       "    }\n",
       "\n",
       "    .dataframe tbody tr th {\n",
       "        vertical-align: top;\n",
       "    }\n",
       "\n",
       "    .dataframe thead th {\n",
       "        text-align: right;\n",
       "    }\n",
       "</style>\n",
       "<table border=\"1\" class=\"dataframe\">\n",
       "  <thead>\n",
       "    <tr style=\"text-align: right;\">\n",
       "      <th></th>\n",
       "      <th>BioMedGraphica_ID</th>\n",
       "      <th>HPO</th>\n",
       "    </tr>\n",
       "  </thead>\n",
       "  <tbody>\n",
       "    <tr>\n",
       "      <th>0</th>\n",
       "      <td>BMG_PH00001</td>\n",
       "      <td>Deviation from the norm of height with respect...</td>\n",
       "    </tr>\n",
       "    <tr>\n",
       "      <th>1</th>\n",
       "      <td>BMG_PH00002</td>\n",
       "      <td>Multicystic dysplasia of the kidney is charact...</td>\n",
       "    </tr>\n",
       "    <tr>\n",
       "      <th>2</th>\n",
       "      <td>BMG_PH00003</td>\n",
       "      <td>The pattern in which a particular genetic trai...</td>\n",
       "    </tr>\n",
       "    <tr>\n",
       "      <th>3</th>\n",
       "      <td>BMG_PH00004</td>\n",
       "      <td>A mode of inheritance that is observed for tra...</td>\n",
       "    </tr>\n",
       "    <tr>\n",
       "      <th>4</th>\n",
       "      <td>BMG_PH00005</td>\n",
       "      <td>A mode of inheritance that is observed for tra...</td>\n",
       "    </tr>\n",
       "    <tr>\n",
       "      <th>...</th>\n",
       "      <td>...</td>\n",
       "      <td>...</td>\n",
       "    </tr>\n",
       "    <tr>\n",
       "      <th>19527</th>\n",
       "      <td>BMG_PH19528</td>\n",
       "      <td>Widening of the space between the scaphoid and...</td>\n",
       "    </tr>\n",
       "    <tr>\n",
       "      <th>19528</th>\n",
       "      <td>BMG_PH19529</td>\n",
       "      <td>Applies to an abnormality whose distribution i...</td>\n",
       "    </tr>\n",
       "    <tr>\n",
       "      <th>19529</th>\n",
       "      <td>BMG_PH19530</td>\n",
       "      <td>An unpleasant sensation characterized by physi...</td>\n",
       "    </tr>\n",
       "    <tr>\n",
       "      <th>19530</th>\n",
       "      <td>BMG_PH19531</td>\n",
       "      <td>Radiographic widening of the space between the...</td>\n",
       "    </tr>\n",
       "    <tr>\n",
       "      <th>19531</th>\n",
       "      <td>BMG_PH19532</td>\n",
       "      <td>Anteroposterior wrist radiograph showing ulnar...</td>\n",
       "    </tr>\n",
       "  </tbody>\n",
       "</table>\n",
       "<p>19532 rows × 2 columns</p>\n",
       "</div>"
      ],
      "text/plain": [
       "      BioMedGraphica_ID                                                HPO\n",
       "0           BMG_PH00001  Deviation from the norm of height with respect...\n",
       "1           BMG_PH00002  Multicystic dysplasia of the kidney is charact...\n",
       "2           BMG_PH00003  The pattern in which a particular genetic trai...\n",
       "3           BMG_PH00004  A mode of inheritance that is observed for tra...\n",
       "4           BMG_PH00005  A mode of inheritance that is observed for tra...\n",
       "...                 ...                                                ...\n",
       "19527       BMG_PH19528  Widening of the space between the scaphoid and...\n",
       "19528       BMG_PH19529  Applies to an abnormality whose distribution i...\n",
       "19529       BMG_PH19530  An unpleasant sensation characterized by physi...\n",
       "19530       BMG_PH19531  Radiographic widening of the space between the...\n",
       "19531       BMG_PH19532  Anteroposterior wrist radiograph showing ulnar...\n",
       "\n",
       "[19532 rows x 2 columns]"
      ]
     },
     "execution_count": 3,
     "metadata": {},
     "output_type": "execute_result"
    }
   ],
   "source": [
    "bmg_hpo = biomedgraphica_phenotype[['BioMedGraphica_ID', 'HPO_ID']]\n",
    "bmg_hpo['HPO_ID'] = bmg_hpo['HPO_ID'].str.split(';')\n",
    "bmg_hpo = bmg_hpo.explode('HPO_ID')\n",
    "\n",
    "bmg_hpo_def = bmg_hpo.merge(hpo_def, left_on='HPO_ID', right_on='id', how='left')\n",
    "bmg_hpo_def = bmg_hpo_def.drop(columns=['id', 'HPO_ID'])\n",
    "bmg_hpo_def = bmg_hpo_def.rename(columns={'def': 'HPO'})\n",
    "bmg_hpo_def = bmg_hpo_def.groupby('BioMedGraphica_ID')['HPO'].apply(lambda x: ' | '.join(x.dropna().astype(str).unique())).reset_index()\n",
    "bmg_hpo_def.replace('', pd.NA, inplace=True)\n",
    "bmg_hpo_def"
   ]
  },
  {
   "cell_type": "markdown",
   "metadata": {},
   "source": [
    "### 5.2 From UMLS"
   ]
  },
  {
   "cell_type": "code",
   "execution_count": 4,
   "metadata": {},
   "outputs": [
    {
     "data": {
      "application/vnd.microsoft.datawrangler.viewer.v0+json": {
       "columns": [
        {
         "name": "index",
         "rawType": "int64",
         "type": "integer"
        },
        {
         "name": "UMLS ID",
         "rawType": "object",
         "type": "string"
        },
        {
         "name": "database",
         "rawType": "object",
         "type": "string"
        },
        {
         "name": "def",
         "rawType": "object",
         "type": "unknown"
        }
       ],
       "conversionMethod": "pd.DataFrame",
       "ref": "8211a167-3eb3-4497-a7e9-66e6452f79e8",
       "rows": [
        [
         "0",
         "C0000039",
         "MSH",
         "Synthetic phospholipid used in liposomes and lipid bilayers to study biological membranes. It is also a major constituent of PULMONARY SURFACTANTS."
        ],
        [
         "1",
         "C0000039",
         "MSHSWE",
         "Syntetisk fosfolipid som används i liposomer och lipidlager för att studera biologiska membran. Den är också en huvudbeståndsdel i lungytaktiva substanser."
        ],
        [
         "2",
         "C0000039",
         "MSHCZE",
         "Syntetický fosfolipid používaný v liposomech a lipidových dvojvrstvách ke studiu biologických membrán. Je také hlavní součástí PLICNÍCH SURFAKTANTŮ."
        ],
        [
         "3",
         "C0000039",
         "MSHPOR",
         "Fosfolipídeo sintético utilizado em lipossomos e bicamadas lipídicas para o estudo de membranas biológicas. É também o principal constituinte de SURFACTANTES PULMONARES."
        ],
        [
         "4",
         "C0000039",
         "MSHSPA",
         "Fosfolípido sintético que se utiliza en liposomas y bicapas lípidas para el estudio de membranas biológicas. También es el principal constituyente de los SURFACTANTES PULMONARES."
        ],
        [
         "5",
         "C0000052",
         "MSH",
         "In glycogen or amylopectin synthesis, the enzyme that catalyzes the transfer of a segment of a 1,4-alpha-glucan chain to a primary hydroxy group in a similar glucan chain. EC 2.4.1.18."
        ],
        [
         "6",
         "C0000052",
         "MSHSWE",
         "I glykogen- eller amylopektinsyntes är detta enzymet som katalyserar överföringen av ett segment av en 1,4-alfaglukankedja till en primär hydroxigrupp i en likartad glukankedja. EC 2.4.1.18."
        ],
        [
         "7",
         "C0000052",
         "MSHCZE",
         "Enzym, který při syntéze glykogenu nebo amylopektinu katalyzuje přenos segmentu 1,4-alfa-glukanového řetězce na primární hydroxyskupinu v podobném glukanovém řetězci. EC 2.4.1.18. Větvící enzym - enzym podílející se na syntéze glykogenu. Defekt způsobuje glykogenózu IV."
        ],
        [
         "8",
         "C0000052",
         "MSHPOR",
         "Na síntese de glicogênio ou amilopectina, a enzima que catalisa a transferência de um segmento da cadeia de 1,4-alfa-glucana a um grupo hidroxila primário em uma cadeia de glucana similar. EC 2.4.1.18."
        ],
        [
         "9",
         "C0000052",
         "MSHSPA",
         "Es la enzima que, en la síntesis de glucógeno o amilopectina, cataliza la transferencia de un segmento de la cadena de 1,4-alfa-glucano a un grupo hidroxilo primario en una cadena de glucano similar. EC 2.4.1.18."
        ],
        [
         "10",
         "C0000084",
         "MSH",
         "Found in various tissues, particularly in four blood-clotting proteins including prothrombin, in kidney protein, in bone protein, and in the protein present in various ectopic calcifications."
        ],
        [
         "11",
         "C0000084",
         "MSHSWE",
         "Påträffas i olika vävnader, särskilt i fyra blodproppsbildande proteiner inklusive protrombin, i njurprotein, i benprotein och i protein i diverse ektopiska förkalkningar."
        ],
        [
         "12",
         "C0000084",
         "MSHCZE",
         "Nachází se v různých tkáních, zejména ve čtyřech proteinech krevního srážení, včetně protrombinu, v ledvinovém proteinu, v kostním proteinu a v proteinu přítomném v různých ektopických kalcifikacích."
        ],
        [
         "13",
         "C0000084",
         "MSHPOR",
         "Encontrado em vários tecidos, particularmente em quatro proteínas coagulantes incluindo protrombina, na proteína renal, na proteína óssea e na proteína presente em várias calcificações ectópicas."
        ],
        [
         "14",
         "C0000084",
         "MSHSPA",
         "Encontrado en varios tejidos, particularmente en cuatro proteinas que participan en la coagulación de la sangre incluyendo la protrombina, la proteína renal, la proteína ósea y en la proteína presente en varias calcificaciones ectópicas."
        ],
        [
         "15",
         "C0000096",
         "MSH",
         "A potent cyclic nucleotide phosphodiesterase inhibitor; due to this action, the compound increases cyclic AMP and cyclic GMP in tissue and thereby activates CYCLIC NUCLEOTIDE-REGULATED PROTEIN KINASES"
        ],
        [
         "16",
         "C0000096",
         "MSHSWE",
         "3,7-dihydro-1-metyl-3-(2-metylpropyl)-1H-purin-2,6-dion. En kraftigt verkande cyklisk nukleotidfosfodiesterashämmare; pga denna verkan ökar substansen cykliskt AMP och cykliskt GMP i vävnad och aktive rar därmed cyklisk nukleotidberoende proteinkinaser."
        ],
        [
         "17",
         "C0000096",
         "MSHCZE",
         "Silný inhibitor cyklické nukleotidové fosfodiesterázy; díky tomuto působení sloučenina zvyšuje cyklický AMP (adenosinmonofosfát) a cyklický GMP (guanosinmonofosfát) v tkáni, a tím aktivuje CYKLICKÝMI NUKLEOTIDY REGULOVANÉ PROTEINKINASY."
        ],
        [
         "18",
         "C0000096",
         "MSHPOR",
         "Inibidor potente do nucleotídeo cíclico fosfodiesterase. Devido a esta ação, o composto aumenta o AMP cíclico e o GMP cíclico em tecidos e desse modo ativa as PROTEÍNAS QUINASES REGULADAS POR NUCLEOTÍDEO CÍCLICO."
        ],
        [
         "19",
         "C0000096",
         "MSHSPA",
         "Un potente inhibidor de la fosfodiesterasa de nucleótico cíclico; debido a su acción el compuesto aumenta el AMP cíclico y el GMP cíclico en el tejido y por lo tanto activa las PROTEINAS QUINASAS REGULADAS POR NUCLEOTIDO CICLICO."
        ],
        [
         "20",
         "C0000097",
         "MSH",
         "A dopaminergic neurotoxic compound which produces irreversible clinical, chemical, and pathological alterations that mimic those found in Parkinson disease."
        ],
        [
         "21",
         "C0000097",
         "MSHSWE",
         "En dopaminerg neurotoxisk substans som framkallar irreversibla kliniska, kemiska och patologiska förändringar som härmar dem man finner vid Parkinsons sjukdom."
        ],
        [
         "22",
         "C0000097",
         "CSP",
         "1-methyl-4-phenyl-1,2,5,6-tetrahydropyridine, a toxic contaminant found in the abused drug methylenedioxymethamphetamine (\"ecstasy\") which causes Parkinsonlike symptoms."
        ],
        [
         "23",
         "C0000097",
         "MSHCZE",
         "Dopaminergní neurotoxická sloučenina vytvářející nevratné klinické, chemické a patologické změny, které napodobují podobné příznaky vyskytující se u Parkinsonovy choroby."
        ],
        [
         "24",
         "C0000097",
         "MSHPOR",
         "Composto dopaminérgico neurotóxico que produz alterações clínicas, químicas e patológicas irreversíveis, que mimetizam aquelas encontradas na doença de Parkinson."
        ],
        [
         "25",
         "C0000097",
         "MSHSPA",
         "Un compuesto neurotóxico dopaminérgico que produce alteraciones clínicas, químicas y patológicas irreversibles que mimetizan a las encontradas en la enfermedad de parkinson."
        ],
        [
         "26",
         "C0000098",
         "MSH",
         "An active neurotoxic metabolite of 1-METHYL-4-PHENYL-1,2,3,6-TETRAHYDROPYRIDINE. The compound reduces dopamine levels, inhibits the biosynthesis of catecholamines, depletes cardiac norepinephrine and inactivates tyrosine hydroxylase. These and other toxic effects lead to cessation of oxidative phosphorylation, ATP depletion, and cell death. The compound, which is related to PARAQUAT, has also been used as an herbicide."
        ],
        [
         "27",
         "C0000098",
         "MSHSWE",
         "1-metyl-4-fenylpyridinium (MPP+). En aktiv neurotoxisk metabolit av 1-metyl-4-fenyl-1,2,3,6-tetrahydropyridin (MPTP). Substansen sänker dopaminnivåer, hämmar katekolaminbiosyntesen, förbrukar kardiono repinefrin och inaktiverar tyrosinhydroxylas.Dessa och andra toxiska effekter leder till att oxidativ fosforilering upphör, till ATP-tömning och celldöd. Substansen, som är besläktad med paraquat, har också använts som ett växtgift."
        ],
        [
         "28",
         "C0000098",
         "MSHCZE",
         "Aktivní neurotoxický metabolit 1-METHYL-4-FENYL-1,2,3,6-TETRAHYDROPYRIDINu. Sloučenina snižuje hladinu dopaminu, inhibuje biosyntézu katecholaminů, vyčerpává srdeční norepinefrin a inaktivuje tyrosinhydroxylázu. Tyto a další toxické účinky vedou k ukončení oxidační fosforylace, vyčerpání ATP a buněčné smrti. Sloučenina příbuzná s PARAQUATem, se také používá jako herbicid."
        ],
        [
         "29",
         "C0000098",
         "MSHPOR",
         "Metabólito neurotóxico ativo do 1-METIL-4-FENIL-1,2,3,6-TETRA-HIDROPIRIDINA. O composto reduz os níveis de dopamina, inibe a biossíntese de catecolaminas, consome a norepinefrina cardíaca e inativa a tirosina hidroxilase. Este e outros efeitos tóxicos levam à parada da fosforilação oxidativa, à depleção de ATP e à morte celular. O composto, que está relacionado ao PARAQUAT, também tem sido usado como herbicida."
        ],
        [
         "30",
         "C0000098",
         "MSHSPA",
         "1-Metil-4-fenilpiridino (MPP+). Un metabolito activo neurotóxico del 1-METIL-4-FENIL-1,2,3,6-TETRAHIDROPIRIDINA (MPTP). El compuesto reduce los niveles de dopamina, inhibe la síntesis de catecolaminas, depleta la norepinefrina cardíaca e inactiva la tirosina hidroxilasa. Estos y otros efectos tóxicos lleva al cese de la fosforilación oxidativa, depleción del ATP y muerte celular. Este compuesto, el cual se encuentra relacionado al PARAQUAT, ha sido utilizado como herbicida."
        ],
        [
         "31",
         "C0000102",
         "MSH",
         "A suspected industrial carcinogen (and listed as such by OSHA). Its N-hydroxy metabolite is strongly carcinogenic and mutagenic."
        ],
        [
         "32",
         "C0000102",
         "MSHSWE",
         "En misstänkt industriell karcinogen. Dess N-hydroxymetabolit är starkt karcinogen och mutagen."
        ],
        [
         "33",
         "C0000102",
         "MSHCZE",
         "Sloučenina používaná při výrobě organických barviv, u níž bylo prokázáno riziko kancerogenity (karcinom žlučníku, močového měchýře). (cit. Velký lékařský slovník online, 2021 http://lekarske.slovniky.cz/)"
        ],
        [
         "34",
         "C0000102",
         "MSHPOR",
         "Possível carcinógeno industrial (é listado como tal pela OSHA - Occupational Safety & Health Administration, EUA). Seu metabólito n-hidroxi é fortemente carcinógeno e mutagênico."
        ],
        [
         "35",
         "C0000102",
         "MSHSPA",
         "Compuesto sospechoso de ser un carcinógeno industrial (tal como ha sido listado por la OSHA). Su metabolito N-hidroxi es fuertemente carcinogénico y mutagénico."
        ],
        [
         "36",
         "C0000103",
         "MSH",
         "A tool for the study of liver damage which causes bile stasis and hyperbilirubinemia acutely and bile duct hyperplasia and biliary cirrhosis chronically, with changes in hepatocyte function. It may cause skin and kidney damage."
        ],
        [
         "37",
         "C0000103",
         "MSHSWE",
         "1-isotiocyanatonaftalen. Ett hjälpmedel för att studera leverskada som orsakar akut gallstopp och hyperbilirubinemi samt kronisk gallgångshyperplasi och gallcirros, med förändrad hepatocytfunktion. De t kan orsaka hud- och njurskada."
        ],
        [
         "38",
         "C0000103",
         "MSHCZE",
         "Nástroj pro výzkum poškození jater, které způsobuje městnání žluči a hyperbilirubinemii akutně a chronicky hyperplazii žlučovodů a biliární cirhózu se změnami funkce hepatocytů. To může to způsobit poškození kůže a ledvin."
        ],
        [
         "39",
         "C0000103",
         "MSHPOR",
         "Ferramenta no estudo da lesão hepática que causa estase biliar, hiperbilirrubinemia aguda, hiperplasia do ducto biliar e cirrose biliar crônica com alterações na função dos hepatócitos. Pode causar lesão na pele e rins."
        ],
        [
         "40",
         "C0000103",
         "MSHSPA",
         "Una herramienta para el estudio del daño hepático que causa de forma aguda éstasis biliar e hiperbilirrubinemia y crónicamente hiperplasia de conductos biliares y cirrosis biliar, con cambios en la función del hepatocito. Puede ocasionar daño de la piel y riñones."
        ],
        [
         "41",
         "C0000107",
         "MSH",
         "An ANGIOTENSIN II analog which acts as a highly specific inhibitor of ANGIOTENSIN TYPE 1 RECEPTOR."
        ],
        [
         "42",
         "C0000107",
         "MSHSWE",
         "En angiotensin II-analog som verkar som en mycket specifik angiotensin II-hämmare."
        ],
        [
         "43",
         "C0000107",
         "MSHCZE",
         "Analog ANGIOTENSINu II, který působí jako vysoce specifický inhibitor angiotensinového receptoru typu 1."
        ],
        [
         "44",
         "C0000107",
         "MSHPOR",
         "Análogo da ANGIOTENSINA II que age como inibidor altamente específico do RECEPTOR TIPE 1 DE ANGIOTENSINA."
        ],
        [
         "45",
         "C0000107",
         "MSHSPA",
         "Un análogo de la ANGIOTENSINA II que actúa como un inhibidor altamente específico del RECEPTOR DE ANGIOTENSINA TIPO 1."
        ],
        [
         "46",
         "C0000119",
         "MSH",
         "A group of corticosteroids bearing a hydroxy group at the 11-position."
        ],
        [
         "47",
         "C0000119",
         "MSHSWE",
         "En grupp kortikosteroider som har en hydroxigrupp i position 11."
        ],
        [
         "48",
         "C0000119",
         "MSHCZE",
         "Skupina kortikosteroidů nesoucích hydroxyskupinu v poloze 11."
        ],
        [
         "49",
         "C0000119",
         "MSHSPA",
         "Grupo de corticoesteroides que cuentan con un grupo hidroxilo en la posición 11."
        ]
       ],
       "shape": {
        "columns": 3,
        "rows": 441462
       }
      },
      "text/html": [
       "<div>\n",
       "<style scoped>\n",
       "    .dataframe tbody tr th:only-of-type {\n",
       "        vertical-align: middle;\n",
       "    }\n",
       "\n",
       "    .dataframe tbody tr th {\n",
       "        vertical-align: top;\n",
       "    }\n",
       "\n",
       "    .dataframe thead th {\n",
       "        text-align: right;\n",
       "    }\n",
       "</style>\n",
       "<table border=\"1\" class=\"dataframe\">\n",
       "  <thead>\n",
       "    <tr style=\"text-align: right;\">\n",
       "      <th></th>\n",
       "      <th>UMLS ID</th>\n",
       "      <th>database</th>\n",
       "      <th>def</th>\n",
       "    </tr>\n",
       "  </thead>\n",
       "  <tbody>\n",
       "    <tr>\n",
       "      <th>0</th>\n",
       "      <td>C0000039</td>\n",
       "      <td>MSH</td>\n",
       "      <td>Synthetic phospholipid used in liposomes and l...</td>\n",
       "    </tr>\n",
       "    <tr>\n",
       "      <th>1</th>\n",
       "      <td>C0000039</td>\n",
       "      <td>MSHSWE</td>\n",
       "      <td>Syntetisk fosfolipid som används i liposomer o...</td>\n",
       "    </tr>\n",
       "    <tr>\n",
       "      <th>2</th>\n",
       "      <td>C0000039</td>\n",
       "      <td>MSHCZE</td>\n",
       "      <td>Syntetický fosfolipid používaný v liposomech a...</td>\n",
       "    </tr>\n",
       "    <tr>\n",
       "      <th>3</th>\n",
       "      <td>C0000039</td>\n",
       "      <td>MSHPOR</td>\n",
       "      <td>Fosfolipídeo sintético utilizado em lipossomos...</td>\n",
       "    </tr>\n",
       "    <tr>\n",
       "      <th>4</th>\n",
       "      <td>C0000039</td>\n",
       "      <td>MSHSPA</td>\n",
       "      <td>Fosfolípido sintético que se utiliza en liposo...</td>\n",
       "    </tr>\n",
       "    <tr>\n",
       "      <th>...</th>\n",
       "      <td>...</td>\n",
       "      <td>...</td>\n",
       "      <td>...</td>\n",
       "    </tr>\n",
       "    <tr>\n",
       "      <th>441457</th>\n",
       "      <td>C5886678</td>\n",
       "      <td>MSHPOR</td>\n",
       "      <td>Intervenção com o objetivo de promover hábitos...</td>\n",
       "    </tr>\n",
       "    <tr>\n",
       "      <th>441458</th>\n",
       "      <td>C5886690</td>\n",
       "      <td>MSHPOR</td>\n",
       "      <td>Condição de quase morte experimentada por part...</td>\n",
       "    </tr>\n",
       "    <tr>\n",
       "      <th>441459</th>\n",
       "      <td>C5886690</td>\n",
       "      <td>MSHSPA</td>\n",
       "      <td>Condición cercana a la muerte experimentada po...</td>\n",
       "    </tr>\n",
       "    <tr>\n",
       "      <th>441460</th>\n",
       "      <td>C5886702</td>\n",
       "      <td>MSHPOR</td>\n",
       "      <td>Critérios para que qualquer pessoa adulta e pl...</td>\n",
       "    </tr>\n",
       "    <tr>\n",
       "      <th>441461</th>\n",
       "      <td>C5886702</td>\n",
       "      <td>MSHSPA</td>\n",
       "      <td>Criterios para que cualquier persona mayor de ...</td>\n",
       "    </tr>\n",
       "  </tbody>\n",
       "</table>\n",
       "<p>441462 rows × 3 columns</p>\n",
       "</div>"
      ],
      "text/plain": [
       "         UMLS ID database                                                def\n",
       "0       C0000039      MSH  Synthetic phospholipid used in liposomes and l...\n",
       "1       C0000039   MSHSWE  Syntetisk fosfolipid som används i liposomer o...\n",
       "2       C0000039   MSHCZE  Syntetický fosfolipid používaný v liposomech a...\n",
       "3       C0000039   MSHPOR  Fosfolipídeo sintético utilizado em lipossomos...\n",
       "4       C0000039   MSHSPA  Fosfolípido sintético que se utiliza en liposo...\n",
       "...          ...      ...                                                ...\n",
       "441457  C5886678   MSHPOR  Intervenção com o objetivo de promover hábitos...\n",
       "441458  C5886690   MSHPOR  Condição de quase morte experimentada por part...\n",
       "441459  C5886690   MSHSPA  Condición cercana a la muerte experimentada po...\n",
       "441460  C5886702   MSHPOR  Critérios para que qualquer pessoa adulta e pl...\n",
       "441461  C5886702   MSHSPA  Criterios para que cualquier persona mayor de ...\n",
       "\n",
       "[441462 rows x 3 columns]"
      ]
     },
     "execution_count": 4,
     "metadata": {},
     "output_type": "execute_result"
    }
   ],
   "source": [
    "umls = pd.read_csv('MRDEF.RRF', sep='|', header=None)\n",
    "umls.columns = ['UMLS ID', 'drop1', 'drop2', 'drop3','database','def', 'drop4', 'drop5', 'drop6']\n",
    "umls.drop(columns=['drop1', 'drop2', 'drop3', 'drop4', 'drop5', 'drop6'], inplace=True)\n",
    "umls"
   ]
  },
  {
   "cell_type": "code",
   "execution_count": 5,
   "metadata": {},
   "outputs": [
    {
     "data": {
      "application/vnd.microsoft.datawrangler.viewer.v0+json": {
       "columns": [
        {
         "name": "index",
         "rawType": "int64",
         "type": "integer"
        },
        {
         "name": "UMLS ID",
         "rawType": "object",
         "type": "string"
        },
        {
         "name": "GO",
         "rawType": "object",
         "type": "unknown"
        },
        {
         "name": "MSH",
         "rawType": "object",
         "type": "unknown"
        },
        {
         "name": "NCI",
         "rawType": "object",
         "type": "unknown"
        },
        {
         "name": "ORPHANET",
         "rawType": "object",
         "type": "unknown"
        },
        {
         "name": "SNOMEDCT_US",
         "rawType": "object",
         "type": "unknown"
        }
       ],
       "conversionMethod": "pd.DataFrame",
       "ref": "971284e1-114b-4f9d-9c94-c4da573d8942",
       "rows": [
        [
         "0",
         "C0000039",
         null,
         "Synthetic phospholipid used in liposomes and lipid bilayers to study biological membranes. It is also a major constituent of PULMONARY SURFACTANTS.",
         null,
         null,
         null
        ],
        [
         "1",
         "C0000052",
         null,
         "In glycogen or amylopectin synthesis, the enzyme that catalyzes the transfer of a segment of a 1,4-alpha-glucan chain to a primary hydroxy group in a similar glucan chain. EC 2.4.1.18.",
         null,
         null,
         null
        ],
        [
         "2",
         "C0000084",
         null,
         "Found in various tissues, particularly in four blood-clotting proteins including prothrombin, in kidney protein, in bone protein, and in the protein present in various ectopic calcifications.",
         null,
         null,
         null
        ],
        [
         "3",
         "C0000096",
         null,
         "A potent cyclic nucleotide phosphodiesterase inhibitor; due to this action, the compound increases cyclic AMP and cyclic GMP in tissue and thereby activates CYCLIC NUCLEOTIDE-REGULATED PROTEIN KINASES",
         null,
         null,
         null
        ],
        [
         "4",
         "C0000097",
         null,
         "A dopaminergic neurotoxic compound which produces irreversible clinical, chemical, and pathological alterations that mimic those found in Parkinson disease.",
         null,
         null,
         null
        ],
        [
         "5",
         "C0000098",
         null,
         "An active neurotoxic metabolite of 1-METHYL-4-PHENYL-1,2,3,6-TETRAHYDROPYRIDINE. The compound reduces dopamine levels, inhibits the biosynthesis of catecholamines, depletes cardiac norepinephrine and inactivates tyrosine hydroxylase. These and other toxic effects lead to cessation of oxidative phosphorylation, ATP depletion, and cell death. The compound, which is related to PARAQUAT, has also been used as an herbicide.",
         null,
         null,
         null
        ],
        [
         "6",
         "C0000102",
         null,
         "A suspected industrial carcinogen (and listed as such by OSHA). Its N-hydroxy metabolite is strongly carcinogenic and mutagenic.",
         null,
         null,
         null
        ],
        [
         "7",
         "C0000103",
         null,
         "A tool for the study of liver damage which causes bile stasis and hyperbilirubinemia acutely and bile duct hyperplasia and biliary cirrhosis chronically, with changes in hepatocyte function. It may cause skin and kidney damage.",
         null,
         null,
         null
        ],
        [
         "8",
         "C0000107",
         null,
         "An ANGIOTENSIN II analog which acts as a highly specific inhibitor of ANGIOTENSIN TYPE 1 RECEPTOR.",
         null,
         null,
         null
        ],
        [
         "9",
         "C0000119",
         null,
         "A group of corticosteroids bearing a hydroxy group at the 11-position.",
         null,
         null,
         null
        ],
        [
         "10",
         "C0000139",
         null,
         "A synthetic prostaglandin E analog that protects the gastric mucosa, prevents ulceration, and promotes the healing of peptic ulcers. The protective effect is independent of acid inhibition. It is also a potent inhibitor of pancreatic function and growth of experimental tumors.",
         "A stable derivative of prostaglandin E2 (PGE2) with potential hematopoietic activity. Administration of 16,16 dimethyl-prostaglandin E2 (dmPGE2) appears to lead to increased formation of hematopoietic stem and progenitor cells. Even though the exact mechanism of action has yet to be fully elucidated, this agent may stimulate hematopoiesis by activating the Wnt signaling pathway, which increases cellular levels of beta-catenin, a subunit of the cadherin protein complex.",
         null,
         null
        ],
        [
         "11",
         "C0000163",
         null,
         "A group of hydroxycorticosteroids bearing a hydroxy group at the 17-position. Urinary excretion of these compounds is used as an index of adrenal function. They are used systemically in the free alcohol form, but with esterification of the hydroxy groups, topical effectiveness is increased.",
         null,
         null,
         null
        ],
        [
         "12",
         "C0000165",
         null,
         "A class of enzymes that catalyzes the oxidation of 17-hydroxysteroids to 17-ketosteroids. EC 1.1.-.",
         null,
         null,
         null
        ],
        [
         "13",
         "C0000167",
         null,
         "Steroids that contain a ketone group at position 17.",
         null,
         null,
         null
        ],
        [
         "14",
         "C0000172",
         null,
         "11 beta,18,21-Trihydroxypregn-4-ene-3,20-dione.",
         null,
         null,
         null
        ],
        [
         "15",
         "C0000173",
         null,
         "An analog of desoxycorticosterone which is substituted by a hydroxyl group at the C-18 position.",
         null,
         null,
         null
        ],
        [
         "16",
         "C0000176",
         null,
         "19-Iodocholest-5-en-3 beta-ol. A cholesterol derivative usually substituted with radioactive iodine in the 19 position. The compound is an adrenal cortex scanning agent used in the assessment of patients suspected of having Cushing's syndrome, hyperaldosteronism, pheochromocytoma and adrenal remnants following total adrenalectomy.",
         null,
         null,
         null
        ],
        [
         "17",
         "C0000184",
         null,
         "Nucleoside-2',3'-cyclic phosphate nucleotidohydrolase. Enzymes that catalyze the hydrolysis of the 2'- or 3'- phosphate bonds of 2',3'-cyclic nucleotides. Also hydrolyzes nucleoside monophosphates. Includes EC 3.1.4.16 and EC 3.1.4.37. EC 3.1.4.-.",
         null,
         null,
         null
        ],
        [
         "18",
         "C0000189",
         null,
         "An enzyme that catalyzes the conversion of ATP into a series of (2'-5') linked oligoadenylates and pyrophosphate in the presence of double-stranded RNA. These oligonucleotides activate an endoribonuclease (RNase L) which cleaves single-stranded RNA. Interferons can act as inducers of these reactions.",
         null,
         null,
         null
        ],
        [
         "19",
         "C0000194",
         null,
         "A reagent used for the determination of iron.",
         null,
         null,
         null
        ],
        [
         "20",
         "C0000204",
         null,
         "Metabolite of ASCORBIC ACID and the oxidized form of the lactone DEHYDROASCORBIC ACID.",
         null,
         null,
         null
        ],
        [
         "21",
         "C0000215",
         null,
         "An herbicide with strong irritant properties. Use of this compound on rice fields, orchards, sugarcane, rangeland, and other noncrop sites was terminated by the EPA in 1985. (From Merck Index, 11th ed)",
         null,
         null,
         null
        ],
        [
         "22",
         "C0000220",
         null,
         "An herbicide with irritant effects on the eye and the gastrointestinal system.",
         null,
         null,
         null
        ],
        [
         "23",
         "C0000232",
         null,
         "A dye used as a reagent in the determination of vitamin C.",
         null,
         null,
         null
        ],
        [
         "24",
         "C0000246",
         null,
         "An enzyme involved in the biosynthesis of isoleucine and valine. It converts 2-acetolactate into 3-hydroxy-2-oxo-isovalerate. Also acts on 2-hydroxy-2-acetobutyrate to form 2-hydroxy-2-oxo-3-methylvalerate. EC 5.4.99.3.",
         null,
         null,
         null
        ],
        [
         "25",
         "C0000248",
         null,
         "A hepatic carcinogen whose mechanism of activation involves N-hydroxylation to the aryl hydroxamic acid followed by enzymatic sulfonation to sulfoxyfluorenylacetamide. It is used to study the carcinogenicity and mutagenicity of aromatic amines.",
         "A synthetic, light tan crystalline solid that is insoluble in water and soluble in alcohols, glycols, ether, acetic acid, and fat solvents. It is used as a positive control by toxicologists to study the carcinogenicity and mutagenicity of aromatic amines. When heated to decomposition, 2-acetylaminofluorene emits toxic fumes of nitrogen oxides. The primary routes of potential human exposure to 2-acetylaminofluorene are inhalation and dermal contact. It is reasonably anticipated to be a human carcinogen. (NCI05)",
         null,
         null
        ],
        [
         "26",
         "C0000254",
         null,
         "The D-enantiomer is a potent and specific antagonist of NMDA glutamate receptors (RECEPTORS, N-METHYL-D-ASPARTATE). The L form is inactive at NMDA receptors but may affect the AP4 (2-amino-4-phosphonobutyrate; APB) excitatory amino acid receptors.",
         null,
         null,
         null
        ],
        [
         "27",
         "C0000257",
         null,
         "A metabolite in the principal biochemical pathway of lysine. It antagonizes neuroexcitatory activity modulated by the glutamate receptor, N-METHYL-D-ASPARTATE; (NMDA).",
         "An alpha-amino acid that is an intermediate in the lysine degradation pathway. It is synthesized from homoisocitrate and then converted to a semialdehyde that reacts with glutamic acid to form saccharopine. Alpha-aminoadipic acid levels are elevated in tissues of certain cancers and may potentially be used as a cancer biomarker.",
         null,
         null
        ],
        [
         "28",
         "C0000263",
         null,
         "A purine that is an isomer of ADENINE (6-aminopurine).",
         null,
         null,
         null
        ],
        [
         "29",
         "C0000275",
         null,
         "2-Chloroadenosine. A metabolically stable analog of adenosine which acts as an adenosine receptor agonist. The compound has a potent effect on the peripheral and central nervous system.",
         null,
         null,
         null
        ],
        [
         "30",
         "C0000287",
         null,
         "A chemical reagent that reacts with and modifies chemically the tryptophan portion of protein molecules. Used for 'active site' enzyme studies and other protein studies. Sometimes referred to as Koshland's reagent.",
         null,
         null,
         null
        ],
        [
         "31",
         "C0000289",
         null,
         "Simple amine found in the brain. It may be modulator of sympathetic functions. Its derivatives are adrenergic agonists and antagonists. It is also used in chemical industry.",
         null,
         null,
         null
        ],
        [
         "32",
         "C0000291",
         null,
         "An enzyme that catalyzes the first step in the biosynthetic pathway to LEUCINE, forming isopropyl malate from acetyl-CoA and alpha-ketoisovaleric acid. This enzyme was formerly listed as EC 4.1.3.12.",
         null,
         null,
         null
        ],
        [
         "33",
         "C0000294",
         null,
         "A sulfhydryl compound used to prevent urothelial toxicity by inactivating metabolites from ANTINEOPLASTIC AGENTS, such as IFOSFAMIDE or CYCLOPHOSPHAMIDE.",
         "A sulfhydryl compound that is used to reduce the incidence of hemorrhagic cystitis associated with certain chemotherapeutic agents. Mesna is converted to a free thiol compound in the kidney, where it binds to and inactivates acrolein and other urotoxic metabolites of ifosfamide and cyclophosphamide, thereby reducing their toxic effects on the urinary tract during urinary excretion. (NCI04)",
         null,
         null
        ],
        [
         "34",
         "C0000300",
         null,
         "A naphthalene derivative with carcinogenic action.",
         "A synthetic, air-sensitive, colorless crystalline solid that is soluble in hot water, alcohol, ether and many organic solvents. Currently, it is only used in laboratory research. Because the commercial production and use of 2-naphthylamine are banned, the potential for human exposure is low. The general population may be exposed to this chemical through inhalation of emissions from sources where nitrogen-containing organic matter is burned, such as coal furnaces and cigarettes. At greatest risk of occupational exposure to 2-naphthylamine are laboratory technicians and scientists who use it in research. Acute inhalation exposure to high levels of 2-naphthylamine can result in methemoglobinemia, dyspnea, ataxia, hematuria, dysuria and hemorrhagic cystitis. It is known to be a human carcinogen. (NCI05)",
         null,
         null
        ],
        [
         "35",
         "C0000324",
         null,
         "A group of enzymes that catalyze the reversible reduction-oxidation reaction of 20-hydroxysteroids, such as from a 20-ketosteroid to a 20-alpha-hydroxysteroid (EC 1.1.1.149) or to a 20-beta-hydroxysteroid (EC 1.1.1.53).",
         null,
         null,
         null
        ],
        [
         "36",
         "C0000325",
         null,
         null,
         "A polycyclic aromatic hydrocarbon that consists of five fused rings with carcinogenic activity. 20-Methylcholanthrene is often used in experimental cancer studies.",
         null,
         null
        ],
        [
         "37",
         "C0000334",
         null,
         "A physiologically active metabolite of VITAMIN D. The compound is involved in the regulation of calcium metabolism, alkaline phosphatase activity, and enhancing the calcemic effect of CALCITRIOL.",
         "A vitamin D derivative that is produced by the conversion of calcifediol by 1,25-dihydroxyvitamin D3 24-hydroxylase (CYP24A1). 24,25-dihydroxycholecalciferol is a marker for calcifediol catabolism because it is the major metabolite of calcifediol, and its urine levels are increased in certain diseases, such as chronic kidney disease (CKD).",
         null,
         null
        ],
        [
         "38",
         "C0000340",
         null,
         "A mitochondrial cytochrome P450 enzyme that catalyzes the 1-alpha-hydroxylation of 25-hydroxyvitamin D3 (also known as 25-hydroxycholecalciferol) in the presence of molecular oxygen and NADPH-FERRIHEMOPROTEIN REDUCTASE. This enzyme, encoded by CYP27B1 gene, converts 25-hydroxyvitamin D3 to 1-alpha,25-dihydroxyvitamin D3 which is the active form of VITAMIN D in regulating bone growth and calcium metabolism. This enzyme is also active on plant 25-hydroxyvitamin D2 (ergocalciferol).",
         null,
         null,
         null
        ],
        [
         "39",
         "C0000343",
         null,
         "9,10-Secoergosta-5,7,10(19),22-tetraene-3,25-diol. Biologically active metabolite of vitamin D2 which is more active in curing rickets than its parent. The compound is believed to attach to the same receptor as vitamin D2 and 25-hydroxyvitamin D3.",
         null,
         null,
         null
        ],
        [
         "40",
         "C0000359",
         null,
         "Enzymes that catalyze the hydrolysis of CYCLIC AMP to form adenosine 5'-phosphate. The enzymes are widely distributed in animal tissue and control the level of intracellular cyclic AMP. Many specific enzymes classified under this heading demonstrate additional spcificity for 3',5'-cyclic IMP and CYCLIC GMP.",
         null,
         null,
         null
        ],
        [
         "41",
         "C0000360",
         null,
         "Enzymes that catalyze the hydrolysis of cyclic GMP to yield guanosine-5'-phosphate.",
         null,
         null,
         null
        ],
        [
         "42",
         "C0000368",
         null,
         "A chemically and thermodynamically stable derivative of BENZIDINE.",
         null,
         null,
         null
        ],
        [
         "43",
         "C0000370",
         null,
         "A material used in the manufacture of azo dyes that is toxic to skin and carcinogenic in several species.",
         "A synthetic, light-sensitive, gray to purple crystalline solid that is insoluble in cold water but is soluble in ether, benzene, glacial acetic acid and alcohol. It is used primarily in the manufacture of pigments for printing ink, textiles, paper, paint, rubber, and plastics and as a curing agent for isocyanate-containing polymers and solid urethane plastics. When heated to decomposition, 3,3-dichlorobenzidine emits toxic fumes of chlorinated compounds and nitrogen oxides. The primary routes of potential human exposure to 3,3-dichlorobenzidine are inhalation of airborne dust, ingestion of contaminated well water by those living near hazardous waste sites, and dermal contact, primarily during industrial operations. Contact with this compound may cause dermatitis. It is reasonably anticipated to be a human carcinogen. (NCI05)",
         null,
         null
        ],
        [
         "44",
         "C0000376",
         null,
         "A deaminated metabolite of LEVODOPA.",
         null,
         null,
         null
        ],
        [
         "45",
         "C0000378",
         null,
         "A synthetic precursor of norepinephrine that is used in the treatment of PARKINSONIAN DISORDERS and ORTHOSTATIC HYPOTENSION.",
         null,
         null,
         null
        ],
        [
         "46",
         "C0000379",
         null,
         "An amphetamine derivative that inhibits uptake of catecholamine neurotransmitters. It is a hallucinogen. It is less toxic than its methylated derivative but in sufficient doses may still destroy serotonergic neurons and has been used for that purpose experimentally.",
         null,
         null,
         null
        ],
        [
         "47",
         "C0000392",
         null,
         "An amino acid formed in vivo by the degradation of dihydrouracil and carnosine. Since neuronal uptake and neuronal receptor sensitivity to beta-alanine have been demonstrated, the compound may be a false transmitter replacing GAMMA-AMINOBUTYRIC ACID. A rare genetic disorder, hyper-beta-alaninemia, has been reported.",
         null,
         null,
         null
        ],
        [
         "48",
         "C0000399",
         null,
         "4-Hydroxy-1-(beta-D-ribofuranosyl)-2-pyridinone. Analog of uridine lacking a ring-nitrogen in the 3-position. Functions as an antineoplastic agent.",
         "A synthetic analogue of nucleoside uridine lacking a ring nitrogen in the 3-position. 3-deazauridine inhibits cytidine synthase, thereby reducing intracellular levels of cytidine and deoxycytidine and disrupting DNA and RNA synthesis. This agent may trigger apoptosis and enhance differentiation of neoplastic cells.(NCI04)",
         null,
         null
        ],
        [
         "49",
         "C0000402",
         null,
         "An antilipemic agent which lowers cholesterol, triglycerides, serum beta-lipoproteins and phospholipids. It acts by interfering with the enzymatic steps involved in the conversion of acetate to hydroxymethylglutaryl coenzyme A as well as inhibiting the activity of HYDROXYMETHYLGLUTARYL COA REDUCTASES which is the rate limiting enzyme in the biosynthesis of cholesterol.",
         null,
         null,
         null
        ]
       ],
       "shape": {
        "columns": 6,
        "rows": 221520
       }
      },
      "text/html": [
       "<div>\n",
       "<style scoped>\n",
       "    .dataframe tbody tr th:only-of-type {\n",
       "        vertical-align: middle;\n",
       "    }\n",
       "\n",
       "    .dataframe tbody tr th {\n",
       "        vertical-align: top;\n",
       "    }\n",
       "\n",
       "    .dataframe thead th {\n",
       "        text-align: right;\n",
       "    }\n",
       "</style>\n",
       "<table border=\"1\" class=\"dataframe\">\n",
       "  <thead>\n",
       "    <tr style=\"text-align: right;\">\n",
       "      <th>database</th>\n",
       "      <th>UMLS ID</th>\n",
       "      <th>GO</th>\n",
       "      <th>MSH</th>\n",
       "      <th>NCI</th>\n",
       "      <th>ORPHANET</th>\n",
       "      <th>SNOMEDCT_US</th>\n",
       "    </tr>\n",
       "  </thead>\n",
       "  <tbody>\n",
       "    <tr>\n",
       "      <th>0</th>\n",
       "      <td>C0000039</td>\n",
       "      <td>NaN</td>\n",
       "      <td>Synthetic phospholipid used in liposomes and l...</td>\n",
       "      <td>NaN</td>\n",
       "      <td>NaN</td>\n",
       "      <td>NaN</td>\n",
       "    </tr>\n",
       "    <tr>\n",
       "      <th>1</th>\n",
       "      <td>C0000052</td>\n",
       "      <td>NaN</td>\n",
       "      <td>In glycogen or amylopectin synthesis, the enzy...</td>\n",
       "      <td>NaN</td>\n",
       "      <td>NaN</td>\n",
       "      <td>NaN</td>\n",
       "    </tr>\n",
       "    <tr>\n",
       "      <th>2</th>\n",
       "      <td>C0000084</td>\n",
       "      <td>NaN</td>\n",
       "      <td>Found in various tissues, particularly in four...</td>\n",
       "      <td>NaN</td>\n",
       "      <td>NaN</td>\n",
       "      <td>NaN</td>\n",
       "    </tr>\n",
       "    <tr>\n",
       "      <th>3</th>\n",
       "      <td>C0000096</td>\n",
       "      <td>NaN</td>\n",
       "      <td>A potent cyclic nucleotide phosphodiesterase i...</td>\n",
       "      <td>NaN</td>\n",
       "      <td>NaN</td>\n",
       "      <td>NaN</td>\n",
       "    </tr>\n",
       "    <tr>\n",
       "      <th>4</th>\n",
       "      <td>C0000097</td>\n",
       "      <td>NaN</td>\n",
       "      <td>A dopaminergic neurotoxic compound which produ...</td>\n",
       "      <td>NaN</td>\n",
       "      <td>NaN</td>\n",
       "      <td>NaN</td>\n",
       "    </tr>\n",
       "    <tr>\n",
       "      <th>...</th>\n",
       "      <td>...</td>\n",
       "      <td>...</td>\n",
       "      <td>...</td>\n",
       "      <td>...</td>\n",
       "      <td>...</td>\n",
       "      <td>...</td>\n",
       "    </tr>\n",
       "    <tr>\n",
       "      <th>221515</th>\n",
       "      <td>C5885004</td>\n",
       "      <td>NaN</td>\n",
       "      <td>NaN</td>\n",
       "      <td>NaN</td>\n",
       "      <td>NaN</td>\n",
       "      <td>A mammography report that has been transcribed...</td>\n",
       "    </tr>\n",
       "    <tr>\n",
       "      <th>221516</th>\n",
       "      <td>C5885031</td>\n",
       "      <td>NaN</td>\n",
       "      <td>NaN</td>\n",
       "      <td>NaN</td>\n",
       "      <td>NaN</td>\n",
       "      <td>Teaching about child support, the monthly amou...</td>\n",
       "    </tr>\n",
       "    <tr>\n",
       "      <th>221517</th>\n",
       "      <td>C5885089</td>\n",
       "      <td>NaN</td>\n",
       "      <td>NaN</td>\n",
       "      <td>NaN</td>\n",
       "      <td>NaN</td>\n",
       "      <td>A posterior or backward torsion of the sacrum ...</td>\n",
       "    </tr>\n",
       "    <tr>\n",
       "      <th>221518</th>\n",
       "      <td>C5885090</td>\n",
       "      <td>NaN</td>\n",
       "      <td>NaN</td>\n",
       "      <td>NaN</td>\n",
       "      <td>NaN</td>\n",
       "      <td>A posterior or backward torsion of the sacrum ...</td>\n",
       "    </tr>\n",
       "    <tr>\n",
       "      <th>221519</th>\n",
       "      <td>C5885091</td>\n",
       "      <td>NaN</td>\n",
       "      <td>NaN</td>\n",
       "      <td>NaN</td>\n",
       "      <td>NaN</td>\n",
       "      <td>A anterior or forward torsion of the sacrum to...</td>\n",
       "    </tr>\n",
       "  </tbody>\n",
       "</table>\n",
       "<p>221520 rows × 6 columns</p>\n",
       "</div>"
      ],
      "text/plain": [
       "database   UMLS ID   GO                                                MSH  \\\n",
       "0         C0000039  NaN  Synthetic phospholipid used in liposomes and l...   \n",
       "1         C0000052  NaN  In glycogen or amylopectin synthesis, the enzy...   \n",
       "2         C0000084  NaN  Found in various tissues, particularly in four...   \n",
       "3         C0000096  NaN  A potent cyclic nucleotide phosphodiesterase i...   \n",
       "4         C0000097  NaN  A dopaminergic neurotoxic compound which produ...   \n",
       "...            ...  ...                                                ...   \n",
       "221515    C5885004  NaN                                                NaN   \n",
       "221516    C5885031  NaN                                                NaN   \n",
       "221517    C5885089  NaN                                                NaN   \n",
       "221518    C5885090  NaN                                                NaN   \n",
       "221519    C5885091  NaN                                                NaN   \n",
       "\n",
       "database  NCI ORPHANET                                        SNOMEDCT_US  \n",
       "0         NaN      NaN                                                NaN  \n",
       "1         NaN      NaN                                                NaN  \n",
       "2         NaN      NaN                                                NaN  \n",
       "3         NaN      NaN                                                NaN  \n",
       "4         NaN      NaN                                                NaN  \n",
       "...       ...      ...                                                ...  \n",
       "221515    NaN      NaN  A mammography report that has been transcribed...  \n",
       "221516    NaN      NaN  Teaching about child support, the monthly amou...  \n",
       "221517    NaN      NaN  A posterior or backward torsion of the sacrum ...  \n",
       "221518    NaN      NaN  A posterior or backward torsion of the sacrum ...  \n",
       "221519    NaN      NaN  A anterior or forward torsion of the sacrum to...  \n",
       "\n",
       "[221520 rows x 6 columns]"
      ]
     },
     "execution_count": 5,
     "metadata": {},
     "output_type": "execute_result"
    }
   ],
   "source": [
    "databases_to_keep = ['NCI', 'GO', 'MSH', 'SNOMEDCT_US', 'ORPHANET']\n",
    "filtered_umls = umls[umls['database'].isin(databases_to_keep)]\n",
    "filtered_umls = filtered_umls.pivot_table(index='UMLS ID', columns='database', values='def', aggfunc='first').reset_index()\n",
    "filtered_umls"
   ]
  },
  {
   "cell_type": "code",
   "execution_count": 6,
   "metadata": {},
   "outputs": [
    {
     "name": "stderr",
     "output_type": "stream",
     "text": [
      "C:\\Users\\shunn\\AppData\\Local\\Temp\\ipykernel_36780\\1199305985.py:2: SettingWithCopyWarning: \n",
      "A value is trying to be set on a copy of a slice from a DataFrame.\n",
      "Try using .loc[row_indexer,col_indexer] = value instead\n",
      "\n",
      "See the caveats in the documentation: https://pandas.pydata.org/pandas-docs/stable/user_guide/indexing.html#returning-a-view-versus-a-copy\n",
      "  bmg_umls['UMLS_ID'] = bmg_umls['UMLS_ID'].str.split(';')\n"
     ]
    },
    {
     "data": {
      "application/vnd.microsoft.datawrangler.viewer.v0+json": {
       "columns": [
        {
         "name": "index",
         "rawType": "int64",
         "type": "integer"
        },
        {
         "name": "BioMedGraphica_ID",
         "rawType": "object",
         "type": "string"
        },
        {
         "name": "NCI",
         "rawType": "object",
         "type": "unknown"
        },
        {
         "name": "GO",
         "rawType": "object",
         "type": "unknown"
        },
        {
         "name": "MeSH",
         "rawType": "object",
         "type": "unknown"
        },
        {
         "name": "SNOMEDCT_US",
         "rawType": "object",
         "type": "unknown"
        },
        {
         "name": "ORPHANET",
         "rawType": "object",
         "type": "unknown"
        }
       ],
       "conversionMethod": "pd.DataFrame",
       "ref": "5ed1f65d-2128-4320-9dbf-ad8fc7d51807",
       "rows": [
        [
         "0",
         "BMG_PH00001",
         null,
         null,
         null,
         null,
         null
        ],
        [
         "1",
         "BMG_PH00002",
         "Abnormal development of the kidney that is characterized by atretic ureter, multiple cysts of different sizes that are separated by dysplastic parenchyma, and complete lack of function.",
         null,
         "A nongenetic defect due to malformation of the KIDNEY which appears as a bunch of grapes with multiple renal cysts but lacking the normal renal bean shape, and the collection drainage system. This condition can be detected in-utero with ULTRASONOGRAPHY.",
         "A congenital anomaly of the kidney and urinary tract in which one or both kidneys are large, distended by multiple cysts, and non-functional. Global prevalence is not known, but the unilateral form is the most frequent. The disorder frequently presents antenatally at routine ultrasound scan. Bilateral disease is considered a lethal entity and most pregnancies are terminated. The disorder results from disrupted nephrogenesis but the exact pathogenic mechanism is still unknown. Mutations in the HNF1B gene (17q12) are strongly associated with the development of this disease. Most cases are sporadic.",
         "A rare congenital anomaly of the kidney and urinary tract (CAKUT) in which one or both kidneys (unilateral or bilateral MCDK respectively) are large, distended by multiple cysts, and non-functional. Unilateral MCDK is typically asymptomatic if the other kidney is fully functional but may occasionally present with abdominal obstructive signs when the cysts become too large. Bilateral MCDK is considered a lethal entity and neonates present with features of the Potter sequence, severe pulmonary hypoplasia and severe renal failure, and generally die shortly after birth."
        ],
        [
         "2",
         "BMG_PH00003",
         "The manner in which a particular genetic trait or disorder is passed from one generation to the next.",
         null,
         "The different ways GENES and their ALLELES interact during the transmission of genetic traits that effect the outcome of GENE EXPRESSION.",
         null,
         null
        ],
        [
         "3",
         "BMG_PH00004",
         null,
         null,
         null,
         null,
         null
        ],
        [
         "4",
         "BMG_PH00005",
         null,
         null,
         null,
         null,
         null
        ],
        [
         "5",
         "BMG_PH00006",
         null,
         null,
         null,
         null,
         null
        ],
        [
         "6",
         "BMG_PH00007",
         null,
         null,
         null,
         null,
         null
        ],
        [
         "7",
         "BMG_PH00008",
         null,
         null,
         null,
         null,
         null
        ],
        [
         "8",
         "BMG_PH00009",
         "Malfunctioning urinary bladder due to central nervous system disorders or damage to the peripheral nerves that are involved in the control of urination. Causes include spinal cord injuries, neural tube defects, brain tumors, strokes, and peripheral neuropathies (e.g., AIDS neuropathy and diabetic neuropathy).",
         null,
         "Dysfunction of the URINARY BLADDER due to disease of the central or peripheral nervous system pathways involved in the control of URINATION. This is often associated with SPINAL CORD DISEASES, but may also be caused by BRAIN DISEASES or PERIPHERAL NERVE DISEASES.",
         null,
         null
        ],
        [
         "9",
         "BMG_PH00010",
         "An acute and compelling urge to urinate.",
         null,
         null,
         null,
         null
        ],
        [
         "10",
         "BMG_PH00011",
         null,
         null,
         null,
         null,
         "A rare congenital urogenital tract malformation characterized by a small uterus of regular shape (simple uterine hypoplasia), an elongated uterus with normal fundus (elongated uterine hypoplasia), or an abnormally shaped uterus (malformative uterine hypoplasia). Symptoms may include primary amenorrhea, abdominal pain, and infertility."
        ],
        [
         "11",
         "BMG_PH00012",
         null,
         null,
         null,
         null,
         null
        ],
        [
         "12",
         "BMG_PH00013",
         "A pouch or sac-like protrusion in the bladder wall.",
         null,
         null,
         null,
         null
        ],
        [
         "13",
         "BMG_PH00014",
         "Accumulation of urine within the bladder because of the inability to urinate.",
         null,
         "Inability to empty the URINARY BLADDER with voiding (URINATION).",
         null,
         null
        ],
        [
         "14",
         "BMG_PH00015",
         "Frequent episodes of urination during the night.",
         null,
         "Frequent URINATION at night that interrupts sleep. It is often associated with outflow obstruction, DIABETES MELLITUS, or bladder inflammation (CYSTITIS).",
         null,
         null
        ],
        [
         "15",
         "BMG_PH00016",
         "Difficulty in initiating urination.",
         null,
         null,
         null,
         null
        ],
        [
         "16",
         "BMG_PH00017",
         "Involuntary passage of urine outside the body.",
         null,
         "Involuntary loss of URINE, such as leaking of urine. It is a symptom of various underlying pathological processes. Major types of incontinence include URINARY URGE INCONTINENCE and URINARY STRESS INCONTINENCE.",
         null,
         null
        ],
        [
         "17",
         "BMG_PH00018",
         null,
         null,
         null,
         null,
         null
        ],
        [
         "18",
         "BMG_PH00019",
         null,
         null,
         null,
         null,
         null
        ],
        [
         "19",
         "BMG_PH00020",
         "The protrusion of a sac-like structure containing fibroadipose tissue through an abnormal opening in the inguinal region.",
         null,
         "An abdominal hernia with an external bulge in the GROIN region. It can be classified by the location of herniation. Indirect inguinal hernias occur through the internal inguinal ring. Direct inguinal hernias occur through defects in the ABDOMINAL WALL (transversalis fascia) in Hesselbach's triangle. The former type is commonly seen in children and young adults; the latter in adults.",
         null,
         null
        ],
        [
         "20",
         "BMG_PH00021",
         "An infectious or non-infectious inflammatory process affecting the prostate gland.",
         null,
         "Infiltration of inflammatory cells into the parenchyma of PROSTATE. The subtypes are classified by their varied laboratory analysis, clinical presentation and response to treatment.",
         null,
         null
        ],
        [
         "21",
         "BMG_PH00022",
         null,
         null,
         null,
         null,
         null
        ],
        [
         "22",
         "BMG_PH00023",
         "The failure of testicular hormone production and spermatogenesis.",
         null,
         "Eunuch-like state in which the male individual has non-functional TESTES.",
         null,
         null
        ],
        [
         "23",
         "BMG_PH00024",
         "Complete absence of spermatozoa in the semen.",
         null,
         "A condition of having no sperm present in the ejaculate (SEMEN).",
         null,
         null
        ],
        [
         "24",
         "BMG_PH00025",
         "The failure of one or both testes of a male fetus to descend from the abdomen into the scrotum during the late part of pregnancy. If not surgically corrected in early childhood, males may be at increased risk for testicular cancer later in life.",
         null,
         "A developmental defect in which a TESTIS or both TESTES failed to descend from high in the ABDOMEN to the bottom of the SCROTUM. Testicular descent is essential to normal SPERMATOGENESIS which requires temperature lower than the BODY TEMPERATURE. Cryptorchidism can be subclassified by the location of the maldescended testis.",
         null,
         null
        ],
        [
         "25",
         "BMG_PH00026",
         "Loss of testicular volume.",
         null,
         null,
         null,
         null
        ],
        [
         "26",
         "BMG_PH00027",
         "A testicular mixed germ cell-sex cord-stromal tumor. It is usually associated with mixed gonadal dysgenesis and ambiguous genitalia. It is characterized by the presence of nests of large neoplastic germ cells and immature cells that resemble Sertoli cells.",
         null,
         null,
         null,
         null
        ],
        [
         "27",
         "BMG_PH00028",
         null,
         null,
         "Inflammation of the EPIDIDYMIS. Its clinical features include enlarged epididymis, a swollen SCROTUM; PAIN; PYURIA; and FEVER. It is usually related to infections in the URINARY TRACT, which likely spread to the EPIDIDYMIS through either the VAS DEFERENS or the lymphatics of the SPERMATIC CORD.",
         null,
         null
        ],
        [
         "28",
         "BMG_PH00029",
         null,
         null,
         null,
         null,
         null
        ],
        [
         "29",
         "BMG_PH00030",
         null,
         null,
         null,
         null,
         null
        ],
        [
         "30",
         "BMG_PH00031",
         null,
         null,
         "Accumulation of serous fluid between the layers of membrane (tunica vaginalis) covering the TESTIS in the SCROTUM.",
         null,
         null
        ],
        [
         "31",
         "BMG_PH00032",
         null,
         null,
         null,
         null,
         null
        ],
        [
         "32",
         "BMG_PH00033",
         null,
         null,
         null,
         null,
         null
        ],
        [
         "33",
         "BMG_PH00034",
         null,
         null,
         null,
         null,
         null
        ],
        [
         "34",
         "BMG_PH00035",
         null,
         null,
         null,
         null,
         null
        ],
        [
         "35",
         "BMG_PH00036",
         null,
         null,
         null,
         null,
         null
        ],
        [
         "36",
         "BMG_PH00037",
         null,
         null,
         null,
         null,
         null
        ],
        [
         "37",
         "BMG_PH00038",
         null,
         null,
         null,
         null,
         null
        ],
        [
         "38",
         "BMG_PH00039",
         "Abnormal ovarian or testicular function due to insufficient hormonal stimulation from the hypothalamic-pituitary axis. | Hypogonadotropic hypogonadism not associated with a deficiency of other pituitary hormones.",
         null,
         null,
         null,
         null
        ],
        [
         "39",
         "BMG_PH00040",
         null,
         null,
         null,
         null,
         null
        ],
        [
         "40",
         "BMG_PH00041",
         null,
         null,
         null,
         null,
         null
        ],
        [
         "41",
         "BMG_PH00042",
         "A congenital abnormality in which the external urethral orifice is on the underside of the penis. In a minority of cases it is associated with other genitourinary abnormalities.",
         null,
         "A birth defect due to malformation of the URETHRA in which the urethral opening is below its normal location. In the male, the malformed urethra generally opens on the ventral surface of the PENIS or on the PERINEUM. In the female, the malformed urethral opening is in the VAGINA.",
         null,
         null
        ],
        [
         "42",
         "BMG_PH00043",
         null,
         null,
         null,
         null,
         null
        ],
        [
         "43",
         "BMG_PH00044",
         null,
         null,
         null,
         null,
         null
        ],
        [
         "44",
         "BMG_PH00045",
         null,
         null,
         null,
         null,
         null
        ],
        [
         "45",
         "BMG_PH00046",
         null,
         null,
         null,
         null,
         null
        ],
        [
         "46",
         "BMG_PH00047",
         null,
         null,
         null,
         null,
         null
        ],
        [
         "47",
         "BMG_PH00048",
         null,
         null,
         null,
         null,
         null
        ],
        [
         "48",
         "BMG_PH00049",
         null,
         null,
         null,
         null,
         null
        ],
        [
         "49",
         "BMG_PH00050",
         null,
         null,
         null,
         null,
         null
        ]
       ],
       "shape": {
        "columns": 6,
        "rows": 19532
       }
      },
      "text/html": [
       "<div>\n",
       "<style scoped>\n",
       "    .dataframe tbody tr th:only-of-type {\n",
       "        vertical-align: middle;\n",
       "    }\n",
       "\n",
       "    .dataframe tbody tr th {\n",
       "        vertical-align: top;\n",
       "    }\n",
       "\n",
       "    .dataframe thead th {\n",
       "        text-align: right;\n",
       "    }\n",
       "</style>\n",
       "<table border=\"1\" class=\"dataframe\">\n",
       "  <thead>\n",
       "    <tr style=\"text-align: right;\">\n",
       "      <th></th>\n",
       "      <th>BioMedGraphica_ID</th>\n",
       "      <th>NCI</th>\n",
       "      <th>GO</th>\n",
       "      <th>MeSH</th>\n",
       "      <th>SNOMEDCT_US</th>\n",
       "      <th>ORPHANET</th>\n",
       "    </tr>\n",
       "  </thead>\n",
       "  <tbody>\n",
       "    <tr>\n",
       "      <th>0</th>\n",
       "      <td>BMG_PH00001</td>\n",
       "      <td>&lt;NA&gt;</td>\n",
       "      <td>&lt;NA&gt;</td>\n",
       "      <td>&lt;NA&gt;</td>\n",
       "      <td>&lt;NA&gt;</td>\n",
       "      <td>&lt;NA&gt;</td>\n",
       "    </tr>\n",
       "    <tr>\n",
       "      <th>1</th>\n",
       "      <td>BMG_PH00002</td>\n",
       "      <td>Abnormal development of the kidney that is cha...</td>\n",
       "      <td>&lt;NA&gt;</td>\n",
       "      <td>A nongenetic defect due to malformation of the...</td>\n",
       "      <td>A congenital anomaly of the kidney and urinary...</td>\n",
       "      <td>A rare congenital anomaly of the kidney and ur...</td>\n",
       "    </tr>\n",
       "    <tr>\n",
       "      <th>2</th>\n",
       "      <td>BMG_PH00003</td>\n",
       "      <td>The manner in which a particular genetic trait...</td>\n",
       "      <td>&lt;NA&gt;</td>\n",
       "      <td>The different ways GENES and their ALLELES int...</td>\n",
       "      <td>&lt;NA&gt;</td>\n",
       "      <td>&lt;NA&gt;</td>\n",
       "    </tr>\n",
       "    <tr>\n",
       "      <th>3</th>\n",
       "      <td>BMG_PH00004</td>\n",
       "      <td>&lt;NA&gt;</td>\n",
       "      <td>&lt;NA&gt;</td>\n",
       "      <td>&lt;NA&gt;</td>\n",
       "      <td>&lt;NA&gt;</td>\n",
       "      <td>&lt;NA&gt;</td>\n",
       "    </tr>\n",
       "    <tr>\n",
       "      <th>4</th>\n",
       "      <td>BMG_PH00005</td>\n",
       "      <td>&lt;NA&gt;</td>\n",
       "      <td>&lt;NA&gt;</td>\n",
       "      <td>&lt;NA&gt;</td>\n",
       "      <td>&lt;NA&gt;</td>\n",
       "      <td>&lt;NA&gt;</td>\n",
       "    </tr>\n",
       "    <tr>\n",
       "      <th>...</th>\n",
       "      <td>...</td>\n",
       "      <td>...</td>\n",
       "      <td>...</td>\n",
       "      <td>...</td>\n",
       "      <td>...</td>\n",
       "      <td>...</td>\n",
       "    </tr>\n",
       "    <tr>\n",
       "      <th>19527</th>\n",
       "      <td>BMG_PH19528</td>\n",
       "      <td>&lt;NA&gt;</td>\n",
       "      <td>&lt;NA&gt;</td>\n",
       "      <td>&lt;NA&gt;</td>\n",
       "      <td>&lt;NA&gt;</td>\n",
       "      <td>&lt;NA&gt;</td>\n",
       "    </tr>\n",
       "    <tr>\n",
       "      <th>19528</th>\n",
       "      <td>BMG_PH19529</td>\n",
       "      <td>&lt;NA&gt;</td>\n",
       "      <td>&lt;NA&gt;</td>\n",
       "      <td>&lt;NA&gt;</td>\n",
       "      <td>&lt;NA&gt;</td>\n",
       "      <td>&lt;NA&gt;</td>\n",
       "    </tr>\n",
       "    <tr>\n",
       "      <th>19529</th>\n",
       "      <td>BMG_PH19530</td>\n",
       "      <td>&lt;NA&gt;</td>\n",
       "      <td>&lt;NA&gt;</td>\n",
       "      <td>&lt;NA&gt;</td>\n",
       "      <td>&lt;NA&gt;</td>\n",
       "      <td>&lt;NA&gt;</td>\n",
       "    </tr>\n",
       "    <tr>\n",
       "      <th>19530</th>\n",
       "      <td>BMG_PH19531</td>\n",
       "      <td>&lt;NA&gt;</td>\n",
       "      <td>&lt;NA&gt;</td>\n",
       "      <td>&lt;NA&gt;</td>\n",
       "      <td>&lt;NA&gt;</td>\n",
       "      <td>&lt;NA&gt;</td>\n",
       "    </tr>\n",
       "    <tr>\n",
       "      <th>19531</th>\n",
       "      <td>BMG_PH19532</td>\n",
       "      <td>&lt;NA&gt;</td>\n",
       "      <td>&lt;NA&gt;</td>\n",
       "      <td>&lt;NA&gt;</td>\n",
       "      <td>&lt;NA&gt;</td>\n",
       "      <td>&lt;NA&gt;</td>\n",
       "    </tr>\n",
       "  </tbody>\n",
       "</table>\n",
       "<p>19532 rows × 6 columns</p>\n",
       "</div>"
      ],
      "text/plain": [
       "      BioMedGraphica_ID                                                NCI  \\\n",
       "0           BMG_PH00001                                               <NA>   \n",
       "1           BMG_PH00002  Abnormal development of the kidney that is cha...   \n",
       "2           BMG_PH00003  The manner in which a particular genetic trait...   \n",
       "3           BMG_PH00004                                               <NA>   \n",
       "4           BMG_PH00005                                               <NA>   \n",
       "...                 ...                                                ...   \n",
       "19527       BMG_PH19528                                               <NA>   \n",
       "19528       BMG_PH19529                                               <NA>   \n",
       "19529       BMG_PH19530                                               <NA>   \n",
       "19530       BMG_PH19531                                               <NA>   \n",
       "19531       BMG_PH19532                                               <NA>   \n",
       "\n",
       "         GO                                               MeSH  \\\n",
       "0      <NA>                                               <NA>   \n",
       "1      <NA>  A nongenetic defect due to malformation of the...   \n",
       "2      <NA>  The different ways GENES and their ALLELES int...   \n",
       "3      <NA>                                               <NA>   \n",
       "4      <NA>                                               <NA>   \n",
       "...     ...                                                ...   \n",
       "19527  <NA>                                               <NA>   \n",
       "19528  <NA>                                               <NA>   \n",
       "19529  <NA>                                               <NA>   \n",
       "19530  <NA>                                               <NA>   \n",
       "19531  <NA>                                               <NA>   \n",
       "\n",
       "                                             SNOMEDCT_US  \\\n",
       "0                                                   <NA>   \n",
       "1      A congenital anomaly of the kidney and urinary...   \n",
       "2                                                   <NA>   \n",
       "3                                                   <NA>   \n",
       "4                                                   <NA>   \n",
       "...                                                  ...   \n",
       "19527                                               <NA>   \n",
       "19528                                               <NA>   \n",
       "19529                                               <NA>   \n",
       "19530                                               <NA>   \n",
       "19531                                               <NA>   \n",
       "\n",
       "                                                ORPHANET  \n",
       "0                                                   <NA>  \n",
       "1      A rare congenital anomaly of the kidney and ur...  \n",
       "2                                                   <NA>  \n",
       "3                                                   <NA>  \n",
       "4                                                   <NA>  \n",
       "...                                                  ...  \n",
       "19527                                               <NA>  \n",
       "19528                                               <NA>  \n",
       "19529                                               <NA>  \n",
       "19530                                               <NA>  \n",
       "19531                                               <NA>  \n",
       "\n",
       "[19532 rows x 6 columns]"
      ]
     },
     "execution_count": 6,
     "metadata": {},
     "output_type": "execute_result"
    }
   ],
   "source": [
    "bmg_umls = biomedgraphica_phenotype[['BioMedGraphica_ID', 'UMLS_ID']]\n",
    "bmg_umls['UMLS_ID'] = bmg_umls['UMLS_ID'].str.split(';')\n",
    "bmg_umls = bmg_umls.explode('UMLS_ID')\n",
    "\n",
    "bmg_umls_def = pd.merge(bmg_umls, filtered_umls, left_on='UMLS_ID', right_on='UMLS ID', how='left')\n",
    "bmg_umls_def = bmg_umls_def.drop(columns=['UMLS_ID', 'UMLS ID'])\n",
    "bmg_umls_def = bmg_umls_def.groupby('BioMedGraphica_ID').agg({\n",
    "    'NCI': lambda x: ' | '.join(x.dropna().astype(str).unique()),\n",
    "    'GO': lambda x: ' | '.join(x.dropna().astype(str).unique()),\n",
    "    'MSH': lambda x: ' | '.join(x.dropna().astype(str).unique()),\n",
    "    'SNOMEDCT_US': lambda x: ' | '.join(x.dropna().astype(str).unique()),\n",
    "    'ORPHANET': lambda x: ' | '.join(x.dropna().astype(str).unique())\n",
    "}).reset_index()\n",
    "bmg_umls_def.replace('', pd.NA, inplace=True)\n",
    "bmg_umls_def.rename(columns={'MSH': 'MeSH'}, inplace=True)\n",
    "bmg_umls_def"
   ]
  },
  {
   "cell_type": "markdown",
   "metadata": {},
   "source": [
    "### 5.3 Final Description"
   ]
  },
  {
   "cell_type": "code",
   "execution_count": 7,
   "metadata": {},
   "outputs": [
    {
     "data": {
      "application/vnd.microsoft.datawrangler.viewer.v0+json": {
       "columns": [
        {
         "name": "index",
         "rawType": "int64",
         "type": "integer"
        },
        {
         "name": "BioMedGraphica_ID",
         "rawType": "object",
         "type": "string"
        },
        {
         "name": "HPO",
         "rawType": "object",
         "type": "unknown"
        },
        {
         "name": "NCI",
         "rawType": "object",
         "type": "unknown"
        },
        {
         "name": "GO",
         "rawType": "object",
         "type": "unknown"
        },
        {
         "name": "MeSH",
         "rawType": "object",
         "type": "unknown"
        },
        {
         "name": "SNOMEDCT_US",
         "rawType": "object",
         "type": "unknown"
        },
        {
         "name": "ORPHANET",
         "rawType": "object",
         "type": "unknown"
        }
       ],
       "conversionMethod": "pd.DataFrame",
       "ref": "2f9e444b-559f-40ea-8554-55c1486d5b46",
       "rows": [
        [
         "0",
         "BMG_PH00001",
         "Deviation from the norm of height with respect to that which is expected according to age and gender norms.",
         null,
         null,
         null,
         null,
         null
        ],
        [
         "1",
         "BMG_PH00002",
         "Multicystic dysplasia of the kidney is characterized by multiple cysts of varying size in the kidney and the absence of a normal pelvicaliceal system. The condition is associated with ureteral or ureteropelvic atresia, and the affected kidney is nonfunctional.",
         "Abnormal development of the kidney that is characterized by atretic ureter, multiple cysts of different sizes that are separated by dysplastic parenchyma, and complete lack of function.",
         null,
         "A nongenetic defect due to malformation of the KIDNEY which appears as a bunch of grapes with multiple renal cysts but lacking the normal renal bean shape, and the collection drainage system. This condition can be detected in-utero with ULTRASONOGRAPHY.",
         "A congenital anomaly of the kidney and urinary tract in which one or both kidneys are large, distended by multiple cysts, and non-functional. Global prevalence is not known, but the unilateral form is the most frequent. The disorder frequently presents antenatally at routine ultrasound scan. Bilateral disease is considered a lethal entity and most pregnancies are terminated. The disorder results from disrupted nephrogenesis but the exact pathogenic mechanism is still unknown. Mutations in the HNF1B gene (17q12) are strongly associated with the development of this disease. Most cases are sporadic.",
         "A rare congenital anomaly of the kidney and urinary tract (CAKUT) in which one or both kidneys (unilateral or bilateral MCDK respectively) are large, distended by multiple cysts, and non-functional. Unilateral MCDK is typically asymptomatic if the other kidney is fully functional but may occasionally present with abdominal obstructive signs when the cysts become too large. Bilateral MCDK is considered a lethal entity and neonates present with features of the Potter sequence, severe pulmonary hypoplasia and severe renal failure, and generally die shortly after birth."
        ],
        [
         "2",
         "BMG_PH00003",
         "The pattern in which a particular genetic trait or disorder is passed from one generation to the next.",
         "The manner in which a particular genetic trait or disorder is passed from one generation to the next.",
         null,
         "The different ways GENES and their ALLELES interact during the transmission of genetic traits that effect the outcome of GENE EXPRESSION.",
         null,
         null
        ],
        [
         "3",
         "BMG_PH00004",
         "A mode of inheritance that is observed for traits related to a gene encoded on one of the autosomes (i.e., the human chromosomes 1-22) in which a trait manifests in heterozygotes. In the context of medical genetics, an autosomal dominant disorder is caused when a single copy of the mutant allele is present. Males and females are affected equally, and can both transmit the disorder with a risk of 50% for each child of inheriting the mutant allele.",
         null,
         null,
         null,
         null,
         null
        ],
        [
         "4",
         "BMG_PH00005",
         "A mode of inheritance that is observed for traits related to a gene encoded on one of the autosomes (i.e., the human chromosomes 1-22) in which a trait manifests in individuals with two pathogenic alleles, either homozygotes (two copies of the same mutant allele) or compound heterozygotes (whereby each copy of a gene has a distinct mutant allele).",
         null,
         null,
         null,
         null,
         null
        ],
        [
         "5",
         "BMG_PH00006",
         "An abnormality of the female internal genitalia.",
         null,
         null,
         null,
         null,
         null
        ],
        [
         "6",
         "BMG_PH00007",
         "Dysfunction of the urinary bladder.",
         null,
         null,
         null,
         null,
         null
        ],
        [
         "7",
         "BMG_PH00008",
         "Repeated infections of the urinary tract.",
         null,
         null,
         null,
         null,
         null
        ],
        [
         "8",
         "BMG_PH00009",
         "A type of bladder dysfunction caused by neurologic damage. Neurogenic bladder can be flaccid or spastic. Common manifestatios of neurogenic bladder are overflow incontinence, frequency, urgency, urge incontinence, and retention.",
         "Malfunctioning urinary bladder due to central nervous system disorders or damage to the peripheral nerves that are involved in the control of urination. Causes include spinal cord injuries, neural tube defects, brain tumors, strokes, and peripheral neuropathies (e.g., AIDS neuropathy and diabetic neuropathy).",
         null,
         "Dysfunction of the URINARY BLADDER due to disease of the central or peripheral nervous system pathways involved in the control of URINATION. This is often associated with SPINAL CORD DISEASES, but may also be caused by BRAIN DISEASES or PERIPHERAL NERVE DISEASES.",
         null,
         null
        ],
        [
         "9",
         "BMG_PH00010",
         "Urge incontinence is the strong, sudden need to urinate.",
         "An acute and compelling urge to urinate.",
         null,
         null,
         null,
         null
        ],
        [
         "10",
         "BMG_PH00011",
         "Underdevelopment of the uterus.",
         null,
         null,
         null,
         null,
         "A rare congenital urogenital tract malformation characterized by a small uterus of regular shape (simple uterine hypoplasia), an elongated uterus with normal fundus (elongated uterine hypoplasia), or an abnormally shaped uterus (malformative uterine hypoplasia). Symptoms may include primary amenorrhea, abdominal pain, and infertility."
        ],
        [
         "11",
         "BMG_PH00012",
         "An abnormality of the urinary bladder.",
         null,
         null,
         null,
         null,
         null
        ],
        [
         "12",
         "BMG_PH00013",
         "Diverticulum (sac or pouch) in the wall of the urinary bladder.",
         "A pouch or sac-like protrusion in the bladder wall.",
         null,
         null,
         null,
         null
        ],
        [
         "13",
         "BMG_PH00014",
         "Inability to completely empty the urinary bladder during the process of urination.",
         "Accumulation of urine within the bladder because of the inability to urinate.",
         null,
         "Inability to empty the URINARY BLADDER with voiding (URINATION).",
         null,
         null
        ],
        [
         "14",
         "BMG_PH00015",
         "Abnormally increased production of urine during the night leading to an unusually frequent need to urinate.",
         "Frequent episodes of urination during the night.",
         null,
         "Frequent URINATION at night that interrupts sleep. It is often associated with outflow obstruction, DIABETES MELLITUS, or bladder inflammation (CYSTITIS).",
         null,
         null
        ],
        [
         "15",
         "BMG_PH00016",
         "Difficulty in beginning the process of urination.",
         "Difficulty in initiating urination.",
         null,
         null,
         null,
         null
        ],
        [
         "16",
         "BMG_PH00017",
         "Loss of the ability to control the urinary bladder leading to involuntary urination.",
         "Involuntary passage of urine outside the body.",
         null,
         "Involuntary loss of URINE, such as leaking of urine. It is a symptom of various underlying pathological processes. Major types of incontinence include URINARY URGE INCONTINENCE and URINARY STRESS INCONTINENCE.",
         null,
         null
        ],
        [
         "17",
         "BMG_PH00018",
         "Dilatation of the bladder postnatally.",
         null,
         null,
         null,
         null,
         null
        ],
        [
         "18",
         "BMG_PH00019",
         "An abnormality of the male internal genitalia.",
         null,
         null,
         null,
         null,
         null
        ],
        [
         "19",
         "BMG_PH00020",
         "Protrusion of the contents of the abdominal cavity through the inguinal canal.",
         "The protrusion of a sac-like structure containing fibroadipose tissue through an abnormal opening in the inguinal region.",
         null,
         "An abdominal hernia with an external bulge in the GROIN region. It can be classified by the location of herniation. Indirect inguinal hernias occur through the internal inguinal ring. Direct inguinal hernias occur through defects in the ABDOMINAL WALL (transversalis fascia) in Hesselbach's triangle. The former type is commonly seen in children and young adults; the latter in adults.",
         null,
         null
        ],
        [
         "20",
         "BMG_PH00021",
         "The presence of inflammation of the prostate.",
         "An infectious or non-infectious inflammatory process affecting the prostate gland.",
         null,
         "Infiltration of inflammatory cells into the parenchyma of PROSTATE. The subtypes are classified by their varied laboratory analysis, clinical presentation and response to treatment.",
         null,
         null
        ],
        [
         "21",
         "BMG_PH00022",
         null,
         null,
         null,
         null,
         null,
         null
        ],
        [
         "22",
         "BMG_PH00023",
         "Decreased functionality of the male gonad, i.e., of the testis, with reduced spermatogenesis or testosterone synthesis.",
         "The failure of testicular hormone production and spermatogenesis.",
         null,
         "Eunuch-like state in which the male individual has non-functional TESTES.",
         null,
         null
        ],
        [
         "23",
         "BMG_PH00024",
         "Absence of any measurable level of sperm,whereby spermatozoa cannot be observed even after centrifugation of the semen pellet.",
         "Complete absence of spermatozoa in the semen.",
         null,
         "A condition of having no sperm present in the ejaculate (SEMEN).",
         null,
         null
        ],
        [
         "24",
         "BMG_PH00025",
         "Testis in inguinal canal. That is, absence of one or both testes from the scrotum owing to failure of the testis or testes to descend through the inguinal canal to the scrotum.",
         "The failure of one or both testes of a male fetus to descend from the abdomen into the scrotum during the late part of pregnancy. If not surgically corrected in early childhood, males may be at increased risk for testicular cancer later in life.",
         null,
         "A developmental defect in which a TESTIS or both TESTES failed to descend from high in the ABDOMEN to the bottom of the SCROTUM. Testicular descent is essential to normal SPERMATOGENESIS which requires temperature lower than the BODY TEMPERATURE. Cryptorchidism can be subclassified by the location of the maldescended testis.",
         null,
         null
        ],
        [
         "25",
         "BMG_PH00026",
         "Wasting (atrophy) of the testicle (the male gonad) manifested by a decrease in size and potentially by a loss of fertility.",
         "Loss of testicular volume.",
         null,
         null,
         null,
         null
        ],
        [
         "26",
         "BMG_PH00027",
         "The presence of a gonadoblastoma of the testis.",
         "A testicular mixed germ cell-sex cord-stromal tumor. It is usually associated with mixed gonadal dysgenesis and ambiguous genitalia. It is characterized by the presence of nests of large neoplastic germ cells and immature cells that resemble Sertoli cells.",
         null,
         null,
         null,
         null
        ],
        [
         "27",
         "BMG_PH00028",
         "The presence of inflammation of the epididymis.",
         null,
         null,
         "Inflammation of the EPIDIDYMIS. Its clinical features include enlarged epididymis, a swollen SCROTUM; PAIN; PYURIA; and FEVER. It is usually related to infections in the URINARY TRACT, which likely spread to the EPIDIDYMIS through either the VAS DEFERENS or the lymphatics of the SPERMATIC CORD.",
         null,
         null
        ],
        [
         "28",
         "BMG_PH00029",
         "Any structural abnormality of male external genitalia.",
         null,
         null,
         null,
         null,
         null
        ],
        [
         "29",
         "BMG_PH00030",
         "Ambiguous genitalia in an individual with XY genetic gender.",
         null,
         null,
         null,
         null,
         null
        ],
        [
         "30",
         "BMG_PH00031",
         "Accumulation of clear fluid in the between the layers of membrane (tunica vaginalis) surrounding the testis.",
         null,
         null,
         "Accumulation of serous fluid between the layers of membrane (tunica vaginalis) covering the TESTIS in the SCROTUM.",
         null,
         null
        ],
        [
         "31",
         "BMG_PH00032",
         "An anomaly of the testicle (the male gonad).",
         null,
         null,
         null,
         null,
         null
        ],
        [
         "32",
         "BMG_PH00033",
         "Abnormality of the male external sex organ.",
         null,
         null,
         null,
         null,
         null
        ],
        [
         "33",
         "BMG_PH00034",
         "Hermaphroditism refers to a discrepancy between the morphology of the gonads and that of the external genitalia. In male pseudohermaphroditism, the genotype is male (XY) and the external genitalia are imcompletely virilized, ambiguous, or complete female. If gonads are present, they are testes.",
         null,
         null,
         null,
         null,
         null
        ],
        [
         "34",
         "BMG_PH00035",
         "Epispadias is a urogenital malformation characterized by the failure of the urethral tube to tubularize on the dorsal aspect. Unlike in hypospadias, where the meatus is on the ventral aspect, children with epispadias have a wide-open urethral plate on the dorsum. It is commonly seen as a component in the spectrum of bladder exstrophy-epispadias-complex. Isolated epispadias constitutes less than 10 percent of the total cases of epispadias.",
         null,
         null,
         null,
         null,
         null
        ],
        [
         "35",
         "BMG_PH00036",
         "Penile length more than 2 SD above the mean for age.",
         null,
         null,
         null,
         null,
         null
        ],
        [
         "36",
         "BMG_PH00037",
         "Ventral (i.e., downward), lateral, or ventrolateral curvature of the shaft and glans penis of more than 30 degrees.",
         null,
         null,
         null,
         null,
         null
        ],
        [
         "37",
         "BMG_PH00038",
         "Lack of external genitalia in a male or female individual.",
         null,
         null,
         null,
         null,
         null
        ],
        [
         "38",
         "BMG_PH00039",
         "Hypogonadotropic hypogonadism is characterized by reduced function of the gonads (testes in males or ovaries in females) and results from the absence of the gonadal stimulating pituitary hormones: follicle stimulating hormone (FSH) and luteinizing hormone (LH).",
         "Abnormal ovarian or testicular function due to insufficient hormonal stimulation from the hypothalamic-pituitary axis. | Hypogonadotropic hypogonadism not associated with a deficiency of other pituitary hormones.",
         null,
         null,
         null,
         null
        ],
        [
         "39",
         "BMG_PH00040",
         "Any structural abnormality of the scrotum, i.e., the sac that contains the testes, epididymis, and the lower part of the spermatic cord.",
         null,
         null,
         null,
         null,
         null
        ],
        [
         "40",
         "BMG_PH00041",
         "Apparently small scrotum for age.",
         null,
         null,
         null,
         null,
         null
        ],
        [
         "41",
         "BMG_PH00042",
         "Abnormal position of urethral meatus on the ventral penile shaft (underside) characterized by displacement of the urethral meatus from the tip of the glans penis to the ventral surface of the penis, scrotum, or perineum.",
         "A congenital abnormality in which the external urethral orifice is on the underside of the penis. In a minority of cases it is associated with other genitourinary abnormalities.",
         null,
         "A birth defect due to malformation of the URETHRA in which the urethral opening is below its normal location. In the male, the malformed urethra generally opens on the ventral surface of the PENIS or on the PERINEUM. In the female, the malformed urethral opening is in the VAGINA.",
         null,
         null
        ],
        [
         "42",
         "BMG_PH00043",
         "Midline indentation or cleft of the scrotum.",
         null,
         null,
         null,
         null,
         null
        ],
        [
         "43",
         "BMG_PH00044",
         "Superior margin of the scrotum superior to the base of the penis.",
         null,
         null,
         null,
         null,
         null
        ],
        [
         "44",
         "BMG_PH00045",
         "Underdevelopment of part or all of the male external reproductive organs (which include the penis, the scrotum and the urethra).",
         null,
         null,
         null,
         null,
         null
        ],
        [
         "45",
         "BMG_PH00046",
         "Hypospadias with location of the urethral meatus in the perineal region.",
         null,
         null,
         null,
         null,
         null
        ],
        [
         "46",
         "BMG_PH00047",
         "Congenital anomaly characterized by closure or failure to develop an opening in the urethra in males.",
         null,
         null,
         null,
         null,
         null
        ],
        [
         "47",
         "BMG_PH00048",
         "The presence of abnormally large testes.",
         null,
         null,
         null,
         null,
         null
        ],
        [
         "48",
         "BMG_PH00049",
         "Abnormally small penis. At birth, the normal penis is about 3 cm (stretched length from pubic tubercle to tip of penis) with micropenis less than 2.0-2.5 cm.",
         null,
         null,
         null,
         null,
         null
        ],
        [
         "49",
         "BMG_PH00050",
         "Any structural abnormality of the female external genitalia.",
         null,
         null,
         null,
         null,
         null
        ]
       ],
       "shape": {
        "columns": 7,
        "rows": 19532
       }
      },
      "text/html": [
       "<div>\n",
       "<style scoped>\n",
       "    .dataframe tbody tr th:only-of-type {\n",
       "        vertical-align: middle;\n",
       "    }\n",
       "\n",
       "    .dataframe tbody tr th {\n",
       "        vertical-align: top;\n",
       "    }\n",
       "\n",
       "    .dataframe thead th {\n",
       "        text-align: right;\n",
       "    }\n",
       "</style>\n",
       "<table border=\"1\" class=\"dataframe\">\n",
       "  <thead>\n",
       "    <tr style=\"text-align: right;\">\n",
       "      <th></th>\n",
       "      <th>BioMedGraphica_ID</th>\n",
       "      <th>HPO</th>\n",
       "      <th>NCI</th>\n",
       "      <th>GO</th>\n",
       "      <th>MeSH</th>\n",
       "      <th>SNOMEDCT_US</th>\n",
       "      <th>ORPHANET</th>\n",
       "    </tr>\n",
       "  </thead>\n",
       "  <tbody>\n",
       "    <tr>\n",
       "      <th>0</th>\n",
       "      <td>BMG_PH00001</td>\n",
       "      <td>Deviation from the norm of height with respect...</td>\n",
       "      <td>&lt;NA&gt;</td>\n",
       "      <td>&lt;NA&gt;</td>\n",
       "      <td>&lt;NA&gt;</td>\n",
       "      <td>&lt;NA&gt;</td>\n",
       "      <td>&lt;NA&gt;</td>\n",
       "    </tr>\n",
       "    <tr>\n",
       "      <th>1</th>\n",
       "      <td>BMG_PH00002</td>\n",
       "      <td>Multicystic dysplasia of the kidney is charact...</td>\n",
       "      <td>Abnormal development of the kidney that is cha...</td>\n",
       "      <td>&lt;NA&gt;</td>\n",
       "      <td>A nongenetic defect due to malformation of the...</td>\n",
       "      <td>A congenital anomaly of the kidney and urinary...</td>\n",
       "      <td>A rare congenital anomaly of the kidney and ur...</td>\n",
       "    </tr>\n",
       "    <tr>\n",
       "      <th>2</th>\n",
       "      <td>BMG_PH00003</td>\n",
       "      <td>The pattern in which a particular genetic trai...</td>\n",
       "      <td>The manner in which a particular genetic trait...</td>\n",
       "      <td>&lt;NA&gt;</td>\n",
       "      <td>The different ways GENES and their ALLELES int...</td>\n",
       "      <td>&lt;NA&gt;</td>\n",
       "      <td>&lt;NA&gt;</td>\n",
       "    </tr>\n",
       "    <tr>\n",
       "      <th>3</th>\n",
       "      <td>BMG_PH00004</td>\n",
       "      <td>A mode of inheritance that is observed for tra...</td>\n",
       "      <td>&lt;NA&gt;</td>\n",
       "      <td>&lt;NA&gt;</td>\n",
       "      <td>&lt;NA&gt;</td>\n",
       "      <td>&lt;NA&gt;</td>\n",
       "      <td>&lt;NA&gt;</td>\n",
       "    </tr>\n",
       "    <tr>\n",
       "      <th>4</th>\n",
       "      <td>BMG_PH00005</td>\n",
       "      <td>A mode of inheritance that is observed for tra...</td>\n",
       "      <td>&lt;NA&gt;</td>\n",
       "      <td>&lt;NA&gt;</td>\n",
       "      <td>&lt;NA&gt;</td>\n",
       "      <td>&lt;NA&gt;</td>\n",
       "      <td>&lt;NA&gt;</td>\n",
       "    </tr>\n",
       "    <tr>\n",
       "      <th>...</th>\n",
       "      <td>...</td>\n",
       "      <td>...</td>\n",
       "      <td>...</td>\n",
       "      <td>...</td>\n",
       "      <td>...</td>\n",
       "      <td>...</td>\n",
       "      <td>...</td>\n",
       "    </tr>\n",
       "    <tr>\n",
       "      <th>19527</th>\n",
       "      <td>BMG_PH19528</td>\n",
       "      <td>Widening of the space between the scaphoid and...</td>\n",
       "      <td>&lt;NA&gt;</td>\n",
       "      <td>&lt;NA&gt;</td>\n",
       "      <td>&lt;NA&gt;</td>\n",
       "      <td>&lt;NA&gt;</td>\n",
       "      <td>&lt;NA&gt;</td>\n",
       "    </tr>\n",
       "    <tr>\n",
       "      <th>19528</th>\n",
       "      <td>BMG_PH19529</td>\n",
       "      <td>Applies to an abnormality whose distribution i...</td>\n",
       "      <td>&lt;NA&gt;</td>\n",
       "      <td>&lt;NA&gt;</td>\n",
       "      <td>&lt;NA&gt;</td>\n",
       "      <td>&lt;NA&gt;</td>\n",
       "      <td>&lt;NA&gt;</td>\n",
       "    </tr>\n",
       "    <tr>\n",
       "      <th>19529</th>\n",
       "      <td>BMG_PH19530</td>\n",
       "      <td>An unpleasant sensation characterized by physi...</td>\n",
       "      <td>&lt;NA&gt;</td>\n",
       "      <td>&lt;NA&gt;</td>\n",
       "      <td>&lt;NA&gt;</td>\n",
       "      <td>&lt;NA&gt;</td>\n",
       "      <td>&lt;NA&gt;</td>\n",
       "    </tr>\n",
       "    <tr>\n",
       "      <th>19530</th>\n",
       "      <td>BMG_PH19531</td>\n",
       "      <td>Radiographic widening of the space between the...</td>\n",
       "      <td>&lt;NA&gt;</td>\n",
       "      <td>&lt;NA&gt;</td>\n",
       "      <td>&lt;NA&gt;</td>\n",
       "      <td>&lt;NA&gt;</td>\n",
       "      <td>&lt;NA&gt;</td>\n",
       "    </tr>\n",
       "    <tr>\n",
       "      <th>19531</th>\n",
       "      <td>BMG_PH19532</td>\n",
       "      <td>Anteroposterior wrist radiograph showing ulnar...</td>\n",
       "      <td>&lt;NA&gt;</td>\n",
       "      <td>&lt;NA&gt;</td>\n",
       "      <td>&lt;NA&gt;</td>\n",
       "      <td>&lt;NA&gt;</td>\n",
       "      <td>&lt;NA&gt;</td>\n",
       "    </tr>\n",
       "  </tbody>\n",
       "</table>\n",
       "<p>19532 rows × 7 columns</p>\n",
       "</div>"
      ],
      "text/plain": [
       "      BioMedGraphica_ID                                                HPO  \\\n",
       "0           BMG_PH00001  Deviation from the norm of height with respect...   \n",
       "1           BMG_PH00002  Multicystic dysplasia of the kidney is charact...   \n",
       "2           BMG_PH00003  The pattern in which a particular genetic trai...   \n",
       "3           BMG_PH00004  A mode of inheritance that is observed for tra...   \n",
       "4           BMG_PH00005  A mode of inheritance that is observed for tra...   \n",
       "...                 ...                                                ...   \n",
       "19527       BMG_PH19528  Widening of the space between the scaphoid and...   \n",
       "19528       BMG_PH19529  Applies to an abnormality whose distribution i...   \n",
       "19529       BMG_PH19530  An unpleasant sensation characterized by physi...   \n",
       "19530       BMG_PH19531  Radiographic widening of the space between the...   \n",
       "19531       BMG_PH19532  Anteroposterior wrist radiograph showing ulnar...   \n",
       "\n",
       "                                                     NCI    GO  \\\n",
       "0                                                   <NA>  <NA>   \n",
       "1      Abnormal development of the kidney that is cha...  <NA>   \n",
       "2      The manner in which a particular genetic trait...  <NA>   \n",
       "3                                                   <NA>  <NA>   \n",
       "4                                                   <NA>  <NA>   \n",
       "...                                                  ...   ...   \n",
       "19527                                               <NA>  <NA>   \n",
       "19528                                               <NA>  <NA>   \n",
       "19529                                               <NA>  <NA>   \n",
       "19530                                               <NA>  <NA>   \n",
       "19531                                               <NA>  <NA>   \n",
       "\n",
       "                                                    MeSH  \\\n",
       "0                                                   <NA>   \n",
       "1      A nongenetic defect due to malformation of the...   \n",
       "2      The different ways GENES and their ALLELES int...   \n",
       "3                                                   <NA>   \n",
       "4                                                   <NA>   \n",
       "...                                                  ...   \n",
       "19527                                               <NA>   \n",
       "19528                                               <NA>   \n",
       "19529                                               <NA>   \n",
       "19530                                               <NA>   \n",
       "19531                                               <NA>   \n",
       "\n",
       "                                             SNOMEDCT_US  \\\n",
       "0                                                   <NA>   \n",
       "1      A congenital anomaly of the kidney and urinary...   \n",
       "2                                                   <NA>   \n",
       "3                                                   <NA>   \n",
       "4                                                   <NA>   \n",
       "...                                                  ...   \n",
       "19527                                               <NA>   \n",
       "19528                                               <NA>   \n",
       "19529                                               <NA>   \n",
       "19530                                               <NA>   \n",
       "19531                                               <NA>   \n",
       "\n",
       "                                                ORPHANET  \n",
       "0                                                   <NA>  \n",
       "1      A rare congenital anomaly of the kidney and ur...  \n",
       "2                                                   <NA>  \n",
       "3                                                   <NA>  \n",
       "4                                                   <NA>  \n",
       "...                                                  ...  \n",
       "19527                                               <NA>  \n",
       "19528                                               <NA>  \n",
       "19529                                               <NA>  \n",
       "19530                                               <NA>  \n",
       "19531                                               <NA>  \n",
       "\n",
       "[19532 rows x 7 columns]"
      ]
     },
     "execution_count": 7,
     "metadata": {},
     "output_type": "execute_result"
    }
   ],
   "source": [
    "phenotype_description = bmg_hpo_def.merge(bmg_umls_def, on='BioMedGraphica_ID', how='outer')\n",
    "phenotype_description"
   ]
  },
  {
   "cell_type": "code",
   "execution_count": 8,
   "metadata": {},
   "outputs": [
    {
     "name": "stdout",
     "output_type": "stream",
     "text": [
      "Data has been saved to D:\\RA\\BMG\\BioMedGraphica\\Entity\\Phenotype\\BioMedGraphica_Phenotype_Description.csv\n"
     ]
    }
   ],
   "source": [
    "import os\n",
    "from pathlib import Path\n",
    "\n",
    "# get the current working directory\n",
    "current_working_dir = Path(os.getcwd()).resolve()\n",
    "\n",
    "# get the output directory\n",
    "grandparent_dir = current_working_dir.parent.parent.parent\n",
    "\n",
    "target_folder = grandparent_dir / 'BioMedGraphica' / 'Entity' / 'Phenotype'\n",
    "if not target_folder.exists():\n",
    "    target_folder.mkdir(parents=True)\n",
    "    print(f\"Folder {target_folder} has been created.\")\n",
    "\n",
    "output_file_path = target_folder / 'BioMedGraphica_Phenotype_Description.csv'\n",
    "phenotype_description.to_csv(output_file_path, index=False)\n",
    "print(f\"Data has been saved to {output_file_path}\")"
   ]
  },
  {
   "cell_type": "markdown",
   "metadata": {},
   "source": [
    "### 5.4 Combined Description"
   ]
  },
  {
   "cell_type": "code",
   "execution_count": 9,
   "metadata": {},
   "outputs": [
    {
     "data": {
      "application/vnd.microsoft.datawrangler.viewer.v0+json": {
       "columns": [
        {
         "name": "index",
         "rawType": "int64",
         "type": "integer"
        },
        {
         "name": "BioMedGraphica_ID",
         "rawType": "object",
         "type": "string"
        },
        {
         "name": "Description",
         "rawType": "object",
         "type": "string"
        }
       ],
       "conversionMethod": "pd.DataFrame",
       "ref": "06c7b501-103b-433c-829b-2b514bca2ec6",
       "rows": [
        [
         "0",
         "BMG_PH00001",
         "HPO: Deviation from the norm of height with respect to that which is expected according to age and gender norms."
        ],
        [
         "1",
         "BMG_PH00002",
         "HPO: Multicystic dysplasia of the kidney is characterized by multiple cysts of varying size in the kidney and the absence of a normal pelvicaliceal system. The condition is associated with ureteral or ureteropelvic atresia, and the affected kidney is nonfunctional. | NCI: Abnormal development of the kidney that is characterized by atretic ureter, multiple cysts of different sizes that are separated by dysplastic parenchyma, and complete lack of function. | MeSH: A nongenetic defect due to malformation of the KIDNEY which appears as a bunch of grapes with multiple renal cysts but lacking the normal renal bean shape, and the collection drainage system. This condition can be detected in-utero with ULTRASONOGRAPHY. | SNOMEDCT_US: A congenital anomaly of the kidney and urinary tract in which one or both kidneys are large, distended by multiple cysts, and non-functional. Global prevalence is not known, but the unilateral form is the most frequent. The disorder frequently presents antenatally at routine ultrasound scan. Bilateral disease is considered a lethal entity and most pregnancies are terminated. The disorder results from disrupted nephrogenesis but the exact pathogenic mechanism is still unknown. Mutations in the HNF1B gene (17q12) are strongly associated with the development of this disease. Most cases are sporadic. | ORPHANET: A rare congenital anomaly of the kidney and urinary tract (CAKUT) in which one or both kidneys (unilateral or bilateral MCDK respectively) are large, distended by multiple cysts, and non-functional. Unilateral MCDK is typically asymptomatic if the other kidney is fully functional but may occasionally present with abdominal obstructive signs when the cysts become too large. Bilateral MCDK is considered a lethal entity and neonates present with features of the Potter sequence, severe pulmonary hypoplasia and severe renal failure, and generally die shortly after birth."
        ],
        [
         "2",
         "BMG_PH00003",
         "HPO: The pattern in which a particular genetic trait or disorder is passed from one generation to the next. | NCI: The manner in which a particular genetic trait or disorder is passed from one generation to the next. | MeSH: The different ways GENES and their ALLELES interact during the transmission of genetic traits that effect the outcome of GENE EXPRESSION."
        ],
        [
         "3",
         "BMG_PH00004",
         "HPO: A mode of inheritance that is observed for traits related to a gene encoded on one of the autosomes (i.e., the human chromosomes 1-22) in which a trait manifests in heterozygotes. In the context of medical genetics, an autosomal dominant disorder is caused when a single copy of the mutant allele is present. Males and females are affected equally, and can both transmit the disorder with a risk of 50% for each child of inheriting the mutant allele."
        ],
        [
         "4",
         "BMG_PH00005",
         "HPO: A mode of inheritance that is observed for traits related to a gene encoded on one of the autosomes (i.e., the human chromosomes 1-22) in which a trait manifests in individuals with two pathogenic alleles, either homozygotes (two copies of the same mutant allele) or compound heterozygotes (whereby each copy of a gene has a distinct mutant allele)."
        ],
        [
         "5",
         "BMG_PH00006",
         "HPO: An abnormality of the female internal genitalia."
        ],
        [
         "6",
         "BMG_PH00007",
         "HPO: Dysfunction of the urinary bladder."
        ],
        [
         "7",
         "BMG_PH00008",
         "HPO: Repeated infections of the urinary tract."
        ],
        [
         "8",
         "BMG_PH00009",
         "HPO: A type of bladder dysfunction caused by neurologic damage. Neurogenic bladder can be flaccid or spastic. Common manifestatios of neurogenic bladder are overflow incontinence, frequency, urgency, urge incontinence, and retention. | NCI: Malfunctioning urinary bladder due to central nervous system disorders or damage to the peripheral nerves that are involved in the control of urination. Causes include spinal cord injuries, neural tube defects, brain tumors, strokes, and peripheral neuropathies (e.g., AIDS neuropathy and diabetic neuropathy). | MeSH: Dysfunction of the URINARY BLADDER due to disease of the central or peripheral nervous system pathways involved in the control of URINATION. This is often associated with SPINAL CORD DISEASES, but may also be caused by BRAIN DISEASES or PERIPHERAL NERVE DISEASES."
        ],
        [
         "9",
         "BMG_PH00010",
         "HPO: Urge incontinence is the strong, sudden need to urinate. | NCI: An acute and compelling urge to urinate."
        ],
        [
         "10",
         "BMG_PH00011",
         "HPO: Underdevelopment of the uterus. | ORPHANET: A rare congenital urogenital tract malformation characterized by a small uterus of regular shape (simple uterine hypoplasia), an elongated uterus with normal fundus (elongated uterine hypoplasia), or an abnormally shaped uterus (malformative uterine hypoplasia). Symptoms may include primary amenorrhea, abdominal pain, and infertility."
        ],
        [
         "11",
         "BMG_PH00012",
         "HPO: An abnormality of the urinary bladder."
        ],
        [
         "12",
         "BMG_PH00013",
         "HPO: Diverticulum (sac or pouch) in the wall of the urinary bladder. | NCI: A pouch or sac-like protrusion in the bladder wall."
        ],
        [
         "13",
         "BMG_PH00014",
         "HPO: Inability to completely empty the urinary bladder during the process of urination. | NCI: Accumulation of urine within the bladder because of the inability to urinate. | MeSH: Inability to empty the URINARY BLADDER with voiding (URINATION)."
        ],
        [
         "14",
         "BMG_PH00015",
         "HPO: Abnormally increased production of urine during the night leading to an unusually frequent need to urinate. | NCI: Frequent episodes of urination during the night. | MeSH: Frequent URINATION at night that interrupts sleep. It is often associated with outflow obstruction, DIABETES MELLITUS, or bladder inflammation (CYSTITIS)."
        ],
        [
         "15",
         "BMG_PH00016",
         "HPO: Difficulty in beginning the process of urination. | NCI: Difficulty in initiating urination."
        ],
        [
         "16",
         "BMG_PH00017",
         "HPO: Loss of the ability to control the urinary bladder leading to involuntary urination. | NCI: Involuntary passage of urine outside the body. | MeSH: Involuntary loss of URINE, such as leaking of urine. It is a symptom of various underlying pathological processes. Major types of incontinence include URINARY URGE INCONTINENCE and URINARY STRESS INCONTINENCE."
        ],
        [
         "17",
         "BMG_PH00018",
         "HPO: Dilatation of the bladder postnatally."
        ],
        [
         "18",
         "BMG_PH00019",
         "HPO: An abnormality of the male internal genitalia."
        ],
        [
         "19",
         "BMG_PH00020",
         "HPO: Protrusion of the contents of the abdominal cavity through the inguinal canal. | NCI: The protrusion of a sac-like structure containing fibroadipose tissue through an abnormal opening in the inguinal region. | MeSH: An abdominal hernia with an external bulge in the GROIN region. It can be classified by the location of herniation. Indirect inguinal hernias occur through the internal inguinal ring. Direct inguinal hernias occur through defects in the ABDOMINAL WALL (transversalis fascia) in Hesselbach's triangle. The former type is commonly seen in children and young adults; the latter in adults."
        ],
        [
         "20",
         "BMG_PH00021",
         "HPO: The presence of inflammation of the prostate. | NCI: An infectious or non-infectious inflammatory process affecting the prostate gland. | MeSH: Infiltration of inflammatory cells into the parenchyma of PROSTATE. The subtypes are classified by their varied laboratory analysis, clinical presentation and response to treatment."
        ],
        [
         "21",
         "BMG_PH00022",
         ""
        ],
        [
         "22",
         "BMG_PH00023",
         "HPO: Decreased functionality of the male gonad, i.e., of the testis, with reduced spermatogenesis or testosterone synthesis. | NCI: The failure of testicular hormone production and spermatogenesis. | MeSH: Eunuch-like state in which the male individual has non-functional TESTES."
        ],
        [
         "23",
         "BMG_PH00024",
         "HPO: Absence of any measurable level of sperm,whereby spermatozoa cannot be observed even after centrifugation of the semen pellet. | NCI: Complete absence of spermatozoa in the semen. | MeSH: A condition of having no sperm present in the ejaculate (SEMEN)."
        ],
        [
         "24",
         "BMG_PH00025",
         "HPO: Testis in inguinal canal. That is, absence of one or both testes from the scrotum owing to failure of the testis or testes to descend through the inguinal canal to the scrotum. | NCI: The failure of one or both testes of a male fetus to descend from the abdomen into the scrotum during the late part of pregnancy. If not surgically corrected in early childhood, males may be at increased risk for testicular cancer later in life. | MeSH: A developmental defect in which a TESTIS or both TESTES failed to descend from high in the ABDOMEN to the bottom of the SCROTUM. Testicular descent is essential to normal SPERMATOGENESIS which requires temperature lower than the BODY TEMPERATURE. Cryptorchidism can be subclassified by the location of the maldescended testis."
        ],
        [
         "25",
         "BMG_PH00026",
         "HPO: Wasting (atrophy) of the testicle (the male gonad) manifested by a decrease in size and potentially by a loss of fertility. | NCI: Loss of testicular volume."
        ],
        [
         "26",
         "BMG_PH00027",
         "HPO: The presence of a gonadoblastoma of the testis. | NCI: A testicular mixed germ cell-sex cord-stromal tumor. It is usually associated with mixed gonadal dysgenesis and ambiguous genitalia. It is characterized by the presence of nests of large neoplastic germ cells and immature cells that resemble Sertoli cells."
        ],
        [
         "27",
         "BMG_PH00028",
         "HPO: The presence of inflammation of the epididymis. | MeSH: Inflammation of the EPIDIDYMIS. Its clinical features include enlarged epididymis, a swollen SCROTUM; PAIN; PYURIA; and FEVER. It is usually related to infections in the URINARY TRACT, which likely spread to the EPIDIDYMIS through either the VAS DEFERENS or the lymphatics of the SPERMATIC CORD."
        ],
        [
         "28",
         "BMG_PH00029",
         "HPO: Any structural abnormality of male external genitalia."
        ],
        [
         "29",
         "BMG_PH00030",
         "HPO: Ambiguous genitalia in an individual with XY genetic gender."
        ],
        [
         "30",
         "BMG_PH00031",
         "HPO: Accumulation of clear fluid in the between the layers of membrane (tunica vaginalis) surrounding the testis. | MeSH: Accumulation of serous fluid between the layers of membrane (tunica vaginalis) covering the TESTIS in the SCROTUM."
        ],
        [
         "31",
         "BMG_PH00032",
         "HPO: An anomaly of the testicle (the male gonad)."
        ],
        [
         "32",
         "BMG_PH00033",
         "HPO: Abnormality of the male external sex organ."
        ],
        [
         "33",
         "BMG_PH00034",
         "HPO: Hermaphroditism refers to a discrepancy between the morphology of the gonads and that of the external genitalia. In male pseudohermaphroditism, the genotype is male (XY) and the external genitalia are imcompletely virilized, ambiguous, or complete female. If gonads are present, they are testes."
        ],
        [
         "34",
         "BMG_PH00035",
         "HPO: Epispadias is a urogenital malformation characterized by the failure of the urethral tube to tubularize on the dorsal aspect. Unlike in hypospadias, where the meatus is on the ventral aspect, children with epispadias have a wide-open urethral plate on the dorsum. It is commonly seen as a component in the spectrum of bladder exstrophy-epispadias-complex. Isolated epispadias constitutes less than 10 percent of the total cases of epispadias."
        ],
        [
         "35",
         "BMG_PH00036",
         "HPO: Penile length more than 2 SD above the mean for age."
        ],
        [
         "36",
         "BMG_PH00037",
         "HPO: Ventral (i.e., downward), lateral, or ventrolateral curvature of the shaft and glans penis of more than 30 degrees."
        ],
        [
         "37",
         "BMG_PH00038",
         "HPO: Lack of external genitalia in a male or female individual."
        ],
        [
         "38",
         "BMG_PH00039",
         "HPO: Hypogonadotropic hypogonadism is characterized by reduced function of the gonads (testes in males or ovaries in females) and results from the absence of the gonadal stimulating pituitary hormones: follicle stimulating hormone (FSH) and luteinizing hormone (LH). | NCI: Abnormal ovarian or testicular function due to insufficient hormonal stimulation from the hypothalamic-pituitary axis. | NCI: Hypogonadotropic hypogonadism not associated with a deficiency of other pituitary hormones."
        ],
        [
         "39",
         "BMG_PH00040",
         "HPO: Any structural abnormality of the scrotum, i.e., the sac that contains the testes, epididymis, and the lower part of the spermatic cord."
        ],
        [
         "40",
         "BMG_PH00041",
         "HPO: Apparently small scrotum for age."
        ],
        [
         "41",
         "BMG_PH00042",
         "HPO: Abnormal position of urethral meatus on the ventral penile shaft (underside) characterized by displacement of the urethral meatus from the tip of the glans penis to the ventral surface of the penis, scrotum, or perineum. | NCI: A congenital abnormality in which the external urethral orifice is on the underside of the penis. In a minority of cases it is associated with other genitourinary abnormalities. | MeSH: A birth defect due to malformation of the URETHRA in which the urethral opening is below its normal location. In the male, the malformed urethra generally opens on the ventral surface of the PENIS or on the PERINEUM. In the female, the malformed urethral opening is in the VAGINA."
        ],
        [
         "42",
         "BMG_PH00043",
         "HPO: Midline indentation or cleft of the scrotum."
        ],
        [
         "43",
         "BMG_PH00044",
         "HPO: Superior margin of the scrotum superior to the base of the penis."
        ],
        [
         "44",
         "BMG_PH00045",
         "HPO: Underdevelopment of part or all of the male external reproductive organs (which include the penis, the scrotum and the urethra)."
        ],
        [
         "45",
         "BMG_PH00046",
         "HPO: Hypospadias with location of the urethral meatus in the perineal region."
        ],
        [
         "46",
         "BMG_PH00047",
         "HPO: Congenital anomaly characterized by closure or failure to develop an opening in the urethra in males."
        ],
        [
         "47",
         "BMG_PH00048",
         "HPO: The presence of abnormally large testes."
        ],
        [
         "48",
         "BMG_PH00049",
         "HPO: Abnormally small penis. At birth, the normal penis is about 3 cm (stretched length from pubic tubercle to tip of penis) with micropenis less than 2.0-2.5 cm."
        ],
        [
         "49",
         "BMG_PH00050",
         "HPO: Any structural abnormality of the female external genitalia."
        ]
       ],
       "shape": {
        "columns": 2,
        "rows": 19532
       }
      },
      "text/html": [
       "<div>\n",
       "<style scoped>\n",
       "    .dataframe tbody tr th:only-of-type {\n",
       "        vertical-align: middle;\n",
       "    }\n",
       "\n",
       "    .dataframe tbody tr th {\n",
       "        vertical-align: top;\n",
       "    }\n",
       "\n",
       "    .dataframe thead th {\n",
       "        text-align: right;\n",
       "    }\n",
       "</style>\n",
       "<table border=\"1\" class=\"dataframe\">\n",
       "  <thead>\n",
       "    <tr style=\"text-align: right;\">\n",
       "      <th></th>\n",
       "      <th>BioMedGraphica_ID</th>\n",
       "      <th>Description</th>\n",
       "    </tr>\n",
       "  </thead>\n",
       "  <tbody>\n",
       "    <tr>\n",
       "      <th>0</th>\n",
       "      <td>BMG_PH00001</td>\n",
       "      <td>HPO: Deviation from the norm of height with re...</td>\n",
       "    </tr>\n",
       "    <tr>\n",
       "      <th>1</th>\n",
       "      <td>BMG_PH00002</td>\n",
       "      <td>HPO: Multicystic dysplasia of the kidney is ch...</td>\n",
       "    </tr>\n",
       "    <tr>\n",
       "      <th>2</th>\n",
       "      <td>BMG_PH00003</td>\n",
       "      <td>HPO: The pattern in which a particular genetic...</td>\n",
       "    </tr>\n",
       "    <tr>\n",
       "      <th>3</th>\n",
       "      <td>BMG_PH00004</td>\n",
       "      <td>HPO: A mode of inheritance that is observed fo...</td>\n",
       "    </tr>\n",
       "    <tr>\n",
       "      <th>4</th>\n",
       "      <td>BMG_PH00005</td>\n",
       "      <td>HPO: A mode of inheritance that is observed fo...</td>\n",
       "    </tr>\n",
       "    <tr>\n",
       "      <th>...</th>\n",
       "      <td>...</td>\n",
       "      <td>...</td>\n",
       "    </tr>\n",
       "    <tr>\n",
       "      <th>19527</th>\n",
       "      <td>BMG_PH19528</td>\n",
       "      <td>HPO: Widening of the space between the scaphoi...</td>\n",
       "    </tr>\n",
       "    <tr>\n",
       "      <th>19528</th>\n",
       "      <td>BMG_PH19529</td>\n",
       "      <td>HPO: Applies to an abnormality whose distribut...</td>\n",
       "    </tr>\n",
       "    <tr>\n",
       "      <th>19529</th>\n",
       "      <td>BMG_PH19530</td>\n",
       "      <td>HPO: An unpleasant sensation characterized by ...</td>\n",
       "    </tr>\n",
       "    <tr>\n",
       "      <th>19530</th>\n",
       "      <td>BMG_PH19531</td>\n",
       "      <td>HPO: Radiographic widening of the space betwee...</td>\n",
       "    </tr>\n",
       "    <tr>\n",
       "      <th>19531</th>\n",
       "      <td>BMG_PH19532</td>\n",
       "      <td>HPO: Anteroposterior wrist radiograph showing ...</td>\n",
       "    </tr>\n",
       "  </tbody>\n",
       "</table>\n",
       "<p>19532 rows × 2 columns</p>\n",
       "</div>"
      ],
      "text/plain": [
       "      BioMedGraphica_ID                                        Description\n",
       "0           BMG_PH00001  HPO: Deviation from the norm of height with re...\n",
       "1           BMG_PH00002  HPO: Multicystic dysplasia of the kidney is ch...\n",
       "2           BMG_PH00003  HPO: The pattern in which a particular genetic...\n",
       "3           BMG_PH00004  HPO: A mode of inheritance that is observed fo...\n",
       "4           BMG_PH00005  HPO: A mode of inheritance that is observed fo...\n",
       "...                 ...                                                ...\n",
       "19527       BMG_PH19528  HPO: Widening of the space between the scaphoi...\n",
       "19528       BMG_PH19529  HPO: Applies to an abnormality whose distribut...\n",
       "19529       BMG_PH19530  HPO: An unpleasant sensation characterized by ...\n",
       "19530       BMG_PH19531  HPO: Radiographic widening of the space betwee...\n",
       "19531       BMG_PH19532  HPO: Anteroposterior wrist radiograph showing ...\n",
       "\n",
       "[19532 rows x 2 columns]"
      ]
     },
     "execution_count": 9,
     "metadata": {},
     "output_type": "execute_result"
    }
   ],
   "source": [
    "comb_description = phenotype_description.copy()\n",
    "\n",
    "# add the column name at the beginning of the string\n",
    "# first, we need to get the column names\n",
    "column_names = comb_description.columns.tolist()\n",
    "column_names = [col for col in column_names if col != 'BioMedGraphica_ID']\n",
    "# then we can apply the function to each column\n",
    "for col in column_names:\n",
    "    comb_description[col] = comb_description[col].apply(lambda x: ' | '.join([f\"{col}: {i}\" for i in x.split(' | ')]) if pd.notna(x) else x)\n",
    "\n",
    "# now we can merge the columns into one\n",
    "comb_description['Description'] = comb_description[column_names].apply(lambda x: ' | '.join(x.dropna()), axis=1)\n",
    "comb_description = comb_description[['BioMedGraphica_ID', 'Description']]\n",
    "comb_description"
   ]
  },
  {
   "cell_type": "code",
   "execution_count": 10,
   "metadata": {},
   "outputs": [
    {
     "name": "stdout",
     "output_type": "stream",
     "text": [
      "Data has been saved to D:\\RA\\BMG\\BioMedGraphica\\Entity\\Phenotype\\BioMedGraphica_Phenotype_Description_Combined.csv\n"
     ]
    }
   ],
   "source": [
    "import os\n",
    "from pathlib import Path\n",
    "\n",
    "# get the current working directory\n",
    "current_working_dir = Path(os.getcwd()).resolve()\n",
    "\n",
    "# get the output directory\n",
    "grandparent_dir = current_working_dir.parent.parent.parent\n",
    "\n",
    "target_folder = grandparent_dir / 'BioMedGraphica' / 'Entity' / 'Phenotype'\n",
    "if not target_folder.exists():\n",
    "    target_folder.mkdir(parents=True)\n",
    "    print(f\"Folder {target_folder} has been created.\")\n",
    "\n",
    "output_file_path = target_folder / 'BioMedGraphica_Phenotype_Description_Combined.csv'\n",
    "comb_description.to_csv(output_file_path, index=False)\n",
    "print(f\"Data has been saved to {output_file_path}\")"
   ]
  },
  {
   "cell_type": "markdown",
   "metadata": {},
   "source": [
    "## 6. File Generation"
   ]
  },
  {
   "cell_type": "code",
   "execution_count": 11,
   "metadata": {},
   "outputs": [],
   "source": [
    "import pandas as pd\n",
    "import os\n",
    "from pathlib import Path\n",
    "\n",
    "current_working_dir = Path(os.getcwd()).resolve()\n",
    "grandparent_dir = current_working_dir.parent.parent.parent\n",
    "target_dir = grandparent_dir / 'BioMedGraphica' / 'Entity' / 'Phenotype' / 'BioMedGraphica_Phenotype.csv'\n",
    "biomedgraphica_phenotype = pd.read_csv(target_dir, dtype=str)"
   ]
  },
  {
   "cell_type": "markdown",
   "metadata": {},
   "source": [
    "### 6.1 Name and ID"
   ]
  },
  {
   "cell_type": "markdown",
   "metadata": {},
   "source": [
    "GUI Name"
   ]
  },
  {
   "cell_type": "code",
   "execution_count": 12,
   "metadata": {},
   "outputs": [
    {
     "data": {
      "application/vnd.microsoft.datawrangler.viewer.v0+json": {
       "columns": [
        {
         "name": "index",
         "rawType": "int64",
         "type": "integer"
        },
        {
         "name": "BioMedGraphica_ID",
         "rawType": "object",
         "type": "string"
        },
        {
         "name": "Phenotype_Name_List",
         "rawType": "object",
         "type": "string"
        }
       ],
       "conversionMethod": "pd.DataFrame",
       "ref": "cfa6d4a3-0291-4b63-83e0-edb36971f10a",
       "rows": [
        [
         "0",
         "BMG_PH00001",
         "Abnormality of body height"
        ],
        [
         "1",
         "BMG_PH00002",
         "Multicystic kidney dysplasia"
        ],
        [
         "2",
         "BMG_PH00003",
         "Mode of inheritance"
        ],
        [
         "3",
         "BMG_PH00004",
         "Autosomal dominant inheritance"
        ],
        [
         "4",
         "BMG_PH00005",
         "Autosomal recessive inheritance"
        ],
        [
         "5",
         "BMG_PH00006",
         "Abnormal morphology of female internal genitalia"
        ],
        [
         "6",
         "BMG_PH00007",
         "Functional abnormality of the bladder"
        ],
        [
         "7",
         "BMG_PH00008",
         "Recurrent urinary tract infections"
        ],
        [
         "8",
         "BMG_PH00009",
         "Neurogenic bladder"
        ],
        [
         "9",
         "BMG_PH00010",
         "Urinary urgency"
        ],
        [
         "10",
         "BMG_PH00011",
         "Hypoplasia of the uterus"
        ],
        [
         "11",
         "BMG_PH00012",
         "Abnormality of the bladder"
        ],
        [
         "12",
         "BMG_PH00013",
         "Bladder diverticulum"
        ],
        [
         "13",
         "BMG_PH00014",
         "Urinary retention"
        ],
        [
         "14",
         "BMG_PH00015",
         "Nocturia"
        ],
        [
         "15",
         "BMG_PH00016",
         "Urinary hesitancy"
        ],
        [
         "16",
         "BMG_PH00017",
         "Urinary incontinence"
        ],
        [
         "17",
         "BMG_PH00018",
         "Megacystis"
        ],
        [
         "18",
         "BMG_PH00019",
         "Abnormal male internal genitalia morphology"
        ],
        [
         "19",
         "BMG_PH00020",
         "Inguinal hernia"
        ],
        [
         "20",
         "BMG_PH00021",
         "Prostatitis"
        ],
        [
         "21",
         "BMG_PH00022",
         "Functional abnormality of male internal genitalia"
        ],
        [
         "22",
         "BMG_PH00023",
         "Male hypogonadism"
        ],
        [
         "23",
         "BMG_PH00024",
         "Azoospermia"
        ],
        [
         "24",
         "BMG_PH00025",
         "Cryptorchidism"
        ],
        [
         "25",
         "BMG_PH00026",
         "Testicular atrophy"
        ],
        [
         "26",
         "BMG_PH00027",
         "Testicular gonadoblastoma"
        ],
        [
         "27",
         "BMG_PH00028",
         "Epididymitis"
        ],
        [
         "28",
         "BMG_PH00029",
         "Abnormal male external genitalia morphology"
        ],
        [
         "29",
         "BMG_PH00030",
         "Ambiguous genitalia, male"
        ],
        [
         "30",
         "BMG_PH00031",
         "Hydrocele testis"
        ],
        [
         "31",
         "BMG_PH00032",
         "Abnormal testis morphology"
        ],
        [
         "32",
         "BMG_PH00033",
         "Abnormal penis morphology"
        ],
        [
         "33",
         "BMG_PH00034",
         "Male pseudohermaphroditism"
        ],
        [
         "34",
         "BMG_PH00035",
         "Epispadias"
        ],
        [
         "35",
         "BMG_PH00036",
         "Long penis"
        ],
        [
         "36",
         "BMG_PH00037",
         "Chordee"
        ],
        [
         "37",
         "BMG_PH00038",
         "Absent external genitalia"
        ],
        [
         "38",
         "BMG_PH00039",
         "Hypogonadotropic hypogonadism"
        ],
        [
         "39",
         "BMG_PH00040",
         "Abnormal scrotum morphology"
        ],
        [
         "40",
         "BMG_PH00041",
         "Small scrotum"
        ],
        [
         "41",
         "BMG_PH00042",
         "Hypospadias"
        ],
        [
         "42",
         "BMG_PH00043",
         "Bifid scrotum"
        ],
        [
         "43",
         "BMG_PH00044",
         "Shawl scrotum"
        ],
        [
         "44",
         "BMG_PH00045",
         "Hypoplastic male external genitalia"
        ],
        [
         "45",
         "BMG_PH00046",
         "Perineal hypospadias"
        ],
        [
         "46",
         "BMG_PH00047",
         "Urethral atresia, male"
        ],
        [
         "47",
         "BMG_PH00048",
         "Macroorchidism"
        ],
        [
         "48",
         "BMG_PH00049",
         "Micropenis"
        ],
        [
         "49",
         "BMG_PH00050",
         "Abnormal female external genitalia morphology"
        ]
       ],
       "shape": {
        "columns": 2,
        "rows": 19532
       }
      },
      "text/html": [
       "<div>\n",
       "<style scoped>\n",
       "    .dataframe tbody tr th:only-of-type {\n",
       "        vertical-align: middle;\n",
       "    }\n",
       "\n",
       "    .dataframe tbody tr th {\n",
       "        vertical-align: top;\n",
       "    }\n",
       "\n",
       "    .dataframe thead th {\n",
       "        text-align: right;\n",
       "    }\n",
       "</style>\n",
       "<table border=\"1\" class=\"dataframe\">\n",
       "  <thead>\n",
       "    <tr style=\"text-align: right;\">\n",
       "      <th></th>\n",
       "      <th>BioMedGraphica_ID</th>\n",
       "      <th>Phenotype_Name_List</th>\n",
       "    </tr>\n",
       "  </thead>\n",
       "  <tbody>\n",
       "    <tr>\n",
       "      <th>0</th>\n",
       "      <td>BMG_PH00001</td>\n",
       "      <td>Abnormality of body height</td>\n",
       "    </tr>\n",
       "    <tr>\n",
       "      <th>1</th>\n",
       "      <td>BMG_PH00002</td>\n",
       "      <td>Multicystic kidney dysplasia</td>\n",
       "    </tr>\n",
       "    <tr>\n",
       "      <th>2</th>\n",
       "      <td>BMG_PH00003</td>\n",
       "      <td>Mode of inheritance</td>\n",
       "    </tr>\n",
       "    <tr>\n",
       "      <th>3</th>\n",
       "      <td>BMG_PH00004</td>\n",
       "      <td>Autosomal dominant inheritance</td>\n",
       "    </tr>\n",
       "    <tr>\n",
       "      <th>4</th>\n",
       "      <td>BMG_PH00005</td>\n",
       "      <td>Autosomal recessive inheritance</td>\n",
       "    </tr>\n",
       "    <tr>\n",
       "      <th>...</th>\n",
       "      <td>...</td>\n",
       "      <td>...</td>\n",
       "    </tr>\n",
       "    <tr>\n",
       "      <th>19527</th>\n",
       "      <td>BMG_PH19528</td>\n",
       "      <td>Scapholunate interval widening</td>\n",
       "    </tr>\n",
       "    <tr>\n",
       "      <th>19528</th>\n",
       "      <td>BMG_PH19529</td>\n",
       "      <td>FInger pulp localization</td>\n",
       "    </tr>\n",
       "    <tr>\n",
       "      <th>19529</th>\n",
       "      <td>BMG_PH19530</td>\n",
       "      <td>Ulnar wrist pain</td>\n",
       "    </tr>\n",
       "    <tr>\n",
       "      <th>19530</th>\n",
       "      <td>BMG_PH19531</td>\n",
       "      <td>Lunotriquetral interval widening</td>\n",
       "    </tr>\n",
       "    <tr>\n",
       "      <th>19531</th>\n",
       "      <td>BMG_PH19532</td>\n",
       "      <td>Ulnar translocation of the carpus</td>\n",
       "    </tr>\n",
       "  </tbody>\n",
       "</table>\n",
       "<p>19532 rows × 2 columns</p>\n",
       "</div>"
      ],
      "text/plain": [
       "      BioMedGraphica_ID                Phenotype_Name_List\n",
       "0           BMG_PH00001         Abnormality of body height\n",
       "1           BMG_PH00002       Multicystic kidney dysplasia\n",
       "2           BMG_PH00003                Mode of inheritance\n",
       "3           BMG_PH00004     Autosomal dominant inheritance\n",
       "4           BMG_PH00005    Autosomal recessive inheritance\n",
       "...                 ...                                ...\n",
       "19527       BMG_PH19528     Scapholunate interval widening\n",
       "19528       BMG_PH19529           FInger pulp localization\n",
       "19529       BMG_PH19530                   Ulnar wrist pain\n",
       "19530       BMG_PH19531   Lunotriquetral interval widening\n",
       "19531       BMG_PH19532  Ulnar translocation of the carpus\n",
       "\n",
       "[19532 rows x 2 columns]"
      ]
     },
     "execution_count": 12,
     "metadata": {},
     "output_type": "execute_result"
    }
   ],
   "source": [
    "gui_name = biomedgraphica_phenotype.copy()\n",
    "gui_name.rename(columns={'HPO_Name': 'Phenotype_Name_List'}, inplace=True)\n",
    "gui_name = gui_name[['BioMedGraphica_ID', 'Phenotype_Name_List']]\n",
    "gui_name"
   ]
  },
  {
   "cell_type": "code",
   "execution_count": 13,
   "metadata": {},
   "outputs": [
    {
     "name": "stdout",
     "output_type": "stream",
     "text": [
      "Data has been saved to D:\\RA\\BMG\\BioMedGraphica\\Entity\\Phenotype\\BioMedGraphica_Phenotype_GUI_Name.csv\n"
     ]
    }
   ],
   "source": [
    "import os\n",
    "from pathlib import Path\n",
    "\n",
    "# get the current working directory\n",
    "current_working_dir = Path(os.getcwd()).resolve()\n",
    "\n",
    "# get the output directory\n",
    "grandparent_dir = current_working_dir.parent.parent.parent\n",
    "\n",
    "target_folder = grandparent_dir / 'BioMedGraphica' / 'Entity' / 'Phenotype'\n",
    "if not target_folder.exists():\n",
    "    target_folder.mkdir(parents=True)\n",
    "    print(f\"Folder {target_folder} has been created.\")\n",
    "\n",
    "output_file_path = target_folder / 'BioMedGraphica_Phenotype_GUI_Name.csv'\n",
    "gui_name.to_csv(output_file_path, index=False)\n",
    "print(f\"Data has been saved to {output_file_path}\")"
   ]
  },
  {
   "cell_type": "markdown",
   "metadata": {},
   "source": [
    "LLM Name and ID"
   ]
  },
  {
   "cell_type": "code",
   "execution_count": 14,
   "metadata": {},
   "outputs": [
    {
     "data": {
      "application/vnd.microsoft.datawrangler.viewer.v0+json": {
       "columns": [
        {
         "name": "index",
         "rawType": "int64",
         "type": "integer"
        },
        {
         "name": "BioMedGraphica_ID",
         "rawType": "object",
         "type": "string"
        },
        {
         "name": "HPO_Name",
         "rawType": "object",
         "type": "string"
        },
        {
         "name": "HPO_ID",
         "rawType": "object",
         "type": "string"
        },
        {
         "name": "UMLS_ID",
         "rawType": "object",
         "type": "unknown"
        }
       ],
       "conversionMethod": "pd.DataFrame",
       "ref": "4606b696-fd3e-4a7e-aabc-63b3b632840f",
       "rows": [
        [
         "0",
         "BMG_PH00001",
         "Abnormality of body height",
         "HPO ID:HP:0000002",
         "UMLS ID:C4025901"
        ],
        [
         "1",
         "BMG_PH00002",
         "Multicystic kidney dysplasia",
         "HPO ID:HP:0000003",
         "UMLS ID:C3714581"
        ],
        [
         "2",
         "BMG_PH00003",
         "Mode of inheritance",
         "HPO ID:HP:0000005",
         "UMLS ID:C1708511"
        ],
        [
         "3",
         "BMG_PH00004",
         "Autosomal dominant inheritance",
         "HPO ID:HP:0000006",
         "UMLS ID:C0443147"
        ],
        [
         "4",
         "BMG_PH00005",
         "Autosomal recessive inheritance",
         "HPO ID:HP:0000007",
         "UMLS ID:C0441748 | UMLS ID:C4020899"
        ],
        [
         "5",
         "BMG_PH00006",
         "Abnormal morphology of female internal genitalia",
         "HPO ID:HP:0000008",
         "UMLS ID:C4025900"
        ],
        [
         "6",
         "BMG_PH00007",
         "Functional abnormality of the bladder",
         "HPO ID:HP:0000009",
         "UMLS ID:C3806583"
        ],
        [
         "7",
         "BMG_PH00008",
         "Recurrent urinary tract infections",
         "HPO ID:HP:0000010",
         "UMLS ID:C0262655"
        ],
        [
         "8",
         "BMG_PH00009",
         "Neurogenic bladder",
         "HPO ID:HP:0000011",
         "UMLS ID:C0005697"
        ],
        [
         "9",
         "BMG_PH00010",
         "Urinary urgency",
         "HPO ID:HP:0000012",
         "UMLS ID:C0085606 | UMLS ID:C3544092 | UMLS ID:C4020898 | UMLS ID:C3544092 | UMLS ID:C4020898"
        ],
        [
         "10",
         "BMG_PH00011",
         "Hypoplasia of the uterus",
         "HPO ID:HP:0000013",
         "UMLS ID:C0266399"
        ],
        [
         "11",
         "BMG_PH00012",
         "Abnormality of the bladder",
         "HPO ID:HP:0000014",
         "UMLS ID:C0149632"
        ],
        [
         "12",
         "BMG_PH00013",
         "Bladder diverticulum",
         "HPO ID:HP:0000015",
         "UMLS ID:C0156273"
        ],
        [
         "13",
         "BMG_PH00014",
         "Urinary retention",
         "HPO ID:HP:0000016",
         "UMLS ID:C0080274"
        ],
        [
         "14",
         "BMG_PH00015",
         "Nocturia",
         "HPO ID:HP:0000017",
         "UMLS ID:C0028734"
        ],
        [
         "15",
         "BMG_PH00016",
         "Urinary hesitancy",
         "HPO ID:HP:0000019",
         "UMLS ID:C0152032"
        ],
        [
         "16",
         "BMG_PH00017",
         "Urinary incontinence",
         "HPO ID:HP:0000020",
         "UMLS ID:C0042024"
        ],
        [
         "17",
         "BMG_PH00018",
         "Megacystis",
         "HPO ID:HP:0000021",
         "UMLS ID:C1855311"
        ],
        [
         "18",
         "BMG_PH00019",
         "Abnormal male internal genitalia morphology",
         "HPO ID:HP:0000022",
         "UMLS ID:C4025899 | UMLS ID:C5706136"
        ],
        [
         "19",
         "BMG_PH00020",
         "Inguinal hernia",
         "HPO ID:HP:0000023",
         "UMLS ID:C0019294"
        ],
        [
         "20",
         "BMG_PH00021",
         "Prostatitis",
         "HPO ID:HP:0000024",
         "UMLS ID:C0033581"
        ],
        [
         "21",
         "BMG_PH00022",
         "Functional abnormality of male internal genitalia",
         "HPO ID:HP:0000025",
         "UMLS ID:C4025898"
        ],
        [
         "22",
         "BMG_PH00023",
         "Male hypogonadism",
         "HPO ID:HP:0000026",
         "UMLS ID:C0151721"
        ],
        [
         "23",
         "BMG_PH00024",
         "Azoospermia",
         "HPO ID:HP:0000027",
         "UMLS ID:C0004509"
        ],
        [
         "24",
         "BMG_PH00025",
         "Cryptorchidism",
         "HPO ID:HP:0000028",
         "UMLS ID:C0010417"
        ],
        [
         "25",
         "BMG_PH00026",
         "Testicular atrophy",
         "HPO ID:HP:0000029",
         "UMLS ID:C0156312"
        ],
        [
         "26",
         "BMG_PH00027",
         "Testicular gonadoblastoma",
         "HPO ID:HP:0000030",
         "UMLS ID:C1515283"
        ],
        [
         "27",
         "BMG_PH00028",
         "Epididymitis",
         "HPO ID:HP:0000031",
         "UMLS ID:C0014534"
        ],
        [
         "28",
         "BMG_PH00029",
         "Abnormal male external genitalia morphology",
         "HPO ID:HP:0000032",
         "UMLS ID:C4025897"
        ],
        [
         "29",
         "BMG_PH00030",
         "Ambiguous genitalia, male",
         "HPO ID:HP:0000033",
         "UMLS ID:C4021823"
        ],
        [
         "30",
         "BMG_PH00031",
         "Hydrocele testis",
         "HPO ID:HP:0000034",
         "UMLS ID:C1720771"
        ],
        [
         "31",
         "BMG_PH00032",
         "Abnormal testis morphology",
         "HPO ID:HP:0000035",
         "UMLS ID:C0266423 | UMLS ID:C4759656"
        ],
        [
         "32",
         "BMG_PH00033",
         "Abnormal penis morphology",
         "HPO ID:HP:0000036",
         "UMLS ID:C4025896"
        ],
        [
         "33",
         "BMG_PH00034",
         "Male pseudohermaphroditism",
         "HPO ID:HP:0000037",
         "UMLS ID:C0238395"
        ],
        [
         "34",
         "BMG_PH00035",
         "Epispadias",
         "HPO ID:HP:0000039",
         "UMLS ID:C0563449"
        ],
        [
         "35",
         "BMG_PH00036",
         "Long penis",
         "HPO ID:HP:0000040",
         "UMLS ID:C0269011"
        ],
        [
         "36",
         "BMG_PH00037",
         "Chordee",
         "HPO ID:HP:0000041",
         "UMLS ID:C0221182"
        ],
        [
         "37",
         "BMG_PH00038",
         "Absent external genitalia",
         "HPO ID:HP:0000042",
         "UMLS ID:C1848869"
        ],
        [
         "38",
         "BMG_PH00039",
         "Hypogonadotropic hypogonadism",
         "HPO ID:HP:0000044",
         "UMLS ID:C0271623 | UMLS ID:C0271623 | UMLS ID:C3489396"
        ],
        [
         "39",
         "BMG_PH00040",
         "Abnormal scrotum morphology",
         "HPO ID:HP:0000045",
         "UMLS ID:C4025895"
        ],
        [
         "40",
         "BMG_PH00041",
         "Small scrotum",
         "HPO ID:HP:0000046",
         "UMLS ID:C0431659 | UMLS ID:C0455792"
        ],
        [
         "41",
         "BMG_PH00042",
         "Hypospadias",
         "HPO ID:HP:0000047",
         "UMLS ID:C0848558 | UMLS ID:C1691215"
        ],
        [
         "42",
         "BMG_PH00043",
         "Bifid scrotum",
         "HPO ID:HP:0000048",
         "UMLS ID:C0341787"
        ],
        [
         "43",
         "BMG_PH00044",
         "Shawl scrotum",
         "HPO ID:HP:0000049",
         "UMLS ID:C1858539"
        ],
        [
         "44",
         "BMG_PH00045",
         "Hypoplastic male external genitalia",
         "HPO ID:HP:0000050",
         "UMLS ID:C1852534"
        ],
        [
         "45",
         "BMG_PH00046",
         "Perineal hypospadias",
         "HPO ID:HP:0000051",
         "UMLS ID:C0452148"
        ],
        [
         "46",
         "BMG_PH00047",
         "Urethral atresia, male",
         "HPO ID:HP:0000052",
         "UMLS ID:C4025894"
        ],
        [
         "47",
         "BMG_PH00048",
         "Macroorchidism",
         "HPO ID:HP:0000053",
         "UMLS ID:C1263023"
        ],
        [
         "48",
         "BMG_PH00049",
         "Micropenis",
         "HPO ID:HP:0000054",
         "UMLS ID:C4551492"
        ],
        [
         "49",
         "BMG_PH00050",
         "Abnormal female external genitalia morphology",
         "HPO ID:HP:0000055",
         "UMLS ID:C4021822"
        ]
       ],
       "shape": {
        "columns": 4,
        "rows": 19532
       }
      },
      "text/html": [
       "<div>\n",
       "<style scoped>\n",
       "    .dataframe tbody tr th:only-of-type {\n",
       "        vertical-align: middle;\n",
       "    }\n",
       "\n",
       "    .dataframe tbody tr th {\n",
       "        vertical-align: top;\n",
       "    }\n",
       "\n",
       "    .dataframe thead th {\n",
       "        text-align: right;\n",
       "    }\n",
       "</style>\n",
       "<table border=\"1\" class=\"dataframe\">\n",
       "  <thead>\n",
       "    <tr style=\"text-align: right;\">\n",
       "      <th></th>\n",
       "      <th>BioMedGraphica_ID</th>\n",
       "      <th>HPO_Name</th>\n",
       "      <th>HPO_ID</th>\n",
       "      <th>UMLS_ID</th>\n",
       "    </tr>\n",
       "  </thead>\n",
       "  <tbody>\n",
       "    <tr>\n",
       "      <th>0</th>\n",
       "      <td>BMG_PH00001</td>\n",
       "      <td>Abnormality of body height</td>\n",
       "      <td>HPO ID:HP:0000002</td>\n",
       "      <td>UMLS ID:C4025901</td>\n",
       "    </tr>\n",
       "    <tr>\n",
       "      <th>1</th>\n",
       "      <td>BMG_PH00002</td>\n",
       "      <td>Multicystic kidney dysplasia</td>\n",
       "      <td>HPO ID:HP:0000003</td>\n",
       "      <td>UMLS ID:C3714581</td>\n",
       "    </tr>\n",
       "    <tr>\n",
       "      <th>2</th>\n",
       "      <td>BMG_PH00003</td>\n",
       "      <td>Mode of inheritance</td>\n",
       "      <td>HPO ID:HP:0000005</td>\n",
       "      <td>UMLS ID:C1708511</td>\n",
       "    </tr>\n",
       "    <tr>\n",
       "      <th>3</th>\n",
       "      <td>BMG_PH00004</td>\n",
       "      <td>Autosomal dominant inheritance</td>\n",
       "      <td>HPO ID:HP:0000006</td>\n",
       "      <td>UMLS ID:C0443147</td>\n",
       "    </tr>\n",
       "    <tr>\n",
       "      <th>4</th>\n",
       "      <td>BMG_PH00005</td>\n",
       "      <td>Autosomal recessive inheritance</td>\n",
       "      <td>HPO ID:HP:0000007</td>\n",
       "      <td>UMLS ID:C0441748 | UMLS ID:C4020899</td>\n",
       "    </tr>\n",
       "    <tr>\n",
       "      <th>...</th>\n",
       "      <td>...</td>\n",
       "      <td>...</td>\n",
       "      <td>...</td>\n",
       "      <td>...</td>\n",
       "    </tr>\n",
       "    <tr>\n",
       "      <th>19527</th>\n",
       "      <td>BMG_PH19528</td>\n",
       "      <td>Scapholunate interval widening</td>\n",
       "      <td>HPO ID:HP:6001198</td>\n",
       "      <td>NaN</td>\n",
       "    </tr>\n",
       "    <tr>\n",
       "      <th>19528</th>\n",
       "      <td>BMG_PH19529</td>\n",
       "      <td>FInger pulp localization</td>\n",
       "      <td>HPO ID:HP:6001199</td>\n",
       "      <td>NaN</td>\n",
       "    </tr>\n",
       "    <tr>\n",
       "      <th>19529</th>\n",
       "      <td>BMG_PH19530</td>\n",
       "      <td>Ulnar wrist pain</td>\n",
       "      <td>HPO ID:HP:6001200</td>\n",
       "      <td>NaN</td>\n",
       "    </tr>\n",
       "    <tr>\n",
       "      <th>19530</th>\n",
       "      <td>BMG_PH19531</td>\n",
       "      <td>Lunotriquetral interval widening</td>\n",
       "      <td>HPO ID:HP:6001201</td>\n",
       "      <td>NaN</td>\n",
       "    </tr>\n",
       "    <tr>\n",
       "      <th>19531</th>\n",
       "      <td>BMG_PH19532</td>\n",
       "      <td>Ulnar translocation of the carpus</td>\n",
       "      <td>HPO ID:HP:6001202</td>\n",
       "      <td>NaN</td>\n",
       "    </tr>\n",
       "  </tbody>\n",
       "</table>\n",
       "<p>19532 rows × 4 columns</p>\n",
       "</div>"
      ],
      "text/plain": [
       "      BioMedGraphica_ID                           HPO_Name             HPO_ID  \\\n",
       "0           BMG_PH00001         Abnormality of body height  HPO ID:HP:0000002   \n",
       "1           BMG_PH00002       Multicystic kidney dysplasia  HPO ID:HP:0000003   \n",
       "2           BMG_PH00003                Mode of inheritance  HPO ID:HP:0000005   \n",
       "3           BMG_PH00004     Autosomal dominant inheritance  HPO ID:HP:0000006   \n",
       "4           BMG_PH00005    Autosomal recessive inheritance  HPO ID:HP:0000007   \n",
       "...                 ...                                ...                ...   \n",
       "19527       BMG_PH19528     Scapholunate interval widening  HPO ID:HP:6001198   \n",
       "19528       BMG_PH19529           FInger pulp localization  HPO ID:HP:6001199   \n",
       "19529       BMG_PH19530                   Ulnar wrist pain  HPO ID:HP:6001200   \n",
       "19530       BMG_PH19531   Lunotriquetral interval widening  HPO ID:HP:6001201   \n",
       "19531       BMG_PH19532  Ulnar translocation of the carpus  HPO ID:HP:6001202   \n",
       "\n",
       "                                   UMLS_ID  \n",
       "0                         UMLS ID:C4025901  \n",
       "1                         UMLS ID:C3714581  \n",
       "2                         UMLS ID:C1708511  \n",
       "3                         UMLS ID:C0443147  \n",
       "4      UMLS ID:C0441748 | UMLS ID:C4020899  \n",
       "...                                    ...  \n",
       "19527                                  NaN  \n",
       "19528                                  NaN  \n",
       "19529                                  NaN  \n",
       "19530                                  NaN  \n",
       "19531                                  NaN  \n",
       "\n",
       "[19532 rows x 4 columns]"
      ]
     },
     "execution_count": 14,
     "metadata": {},
     "output_type": "execute_result"
    }
   ],
   "source": [
    "llm_name_id = biomedgraphica_phenotype.copy()\n",
    "\n",
    "llm_name_id['HPO_ID'] = llm_name_id['HPO_ID'].apply(\n",
    "    lambda x: ' | '.join(f\"HPO ID:{id}\" for id in x.split(';')) if pd.notna(x) and x != '' else x\n",
    ")\n",
    "\n",
    "llm_name_id['UMLS_ID'] = llm_name_id['UMLS_ID'].apply(\n",
    "    lambda x: ' | '.join(f\"UMLS ID:{id}\" for id in x.split(';')) if pd.notna(x) and x != '' else x\n",
    ")\n",
    "\n",
    "column_order = ['BioMedGraphica_ID', 'HPO_Name', 'HPO_ID', 'UMLS_ID']\n",
    "llm_name_id = llm_name_id[column_order]\n",
    "llm_name_id"
   ]
  },
  {
   "cell_type": "code",
   "execution_count": 15,
   "metadata": {},
   "outputs": [
    {
     "name": "stdout",
     "output_type": "stream",
     "text": [
      "Data has been saved to D:\\RA\\BMG\\BioMedGraphica\\Entity\\Phenotype\\BioMedGraphica_Phenotype_LLM_Name_ID.csv\n"
     ]
    }
   ],
   "source": [
    "import os\n",
    "from pathlib import Path\n",
    "\n",
    "# get the current working directory\n",
    "current_working_dir = Path(os.getcwd()).resolve()\n",
    "\n",
    "# get the output directory\n",
    "grandparent_dir = current_working_dir.parent.parent.parent\n",
    "\n",
    "target_folder = grandparent_dir / 'BioMedGraphica' / 'Entity' / 'Phenotype'\n",
    "if not target_folder.exists():\n",
    "    target_folder.mkdir(parents=True)\n",
    "    print(f\"Folder {target_folder} has been created.\")\n",
    "\n",
    "output_file_path = target_folder / 'BioMedGraphica_Phenotype_LLM_Name_ID.csv'\n",
    "llm_name_id.to_csv(output_file_path, index=False)\n",
    "print(f\"Data has been saved to {output_file_path}\")"
   ]
  },
  {
   "cell_type": "markdown",
   "metadata": {},
   "source": [
    "LLM Name and ID Combined"
   ]
  },
  {
   "cell_type": "code",
   "execution_count": 16,
   "metadata": {},
   "outputs": [
    {
     "data": {
      "application/vnd.microsoft.datawrangler.viewer.v0+json": {
       "columns": [
        {
         "name": "index",
         "rawType": "int64",
         "type": "integer"
        },
        {
         "name": "BioMedGraphica_ID",
         "rawType": "object",
         "type": "string"
        },
        {
         "name": "Names_and_IDs",
         "rawType": "object",
         "type": "string"
        }
       ],
       "conversionMethod": "pd.DataFrame",
       "ref": "65de9da2-3bc8-478d-bab9-0cdfb96e7bf5",
       "rows": [
        [
         "0",
         "BMG_PH00001",
         "Abnormality of body height | UMLS ID:C4025901 | HPO ID:HP:0000002"
        ],
        [
         "1",
         "BMG_PH00002",
         "Multicystic kidney dysplasia | HPO ID:HP:0000003 | UMLS ID:C3714581"
        ],
        [
         "2",
         "BMG_PH00003",
         "HPO ID:HP:0000005 | UMLS ID:C1708511 | Mode of inheritance"
        ],
        [
         "3",
         "BMG_PH00004",
         "UMLS ID:C0443147 | Autosomal dominant inheritance | HPO ID:HP:0000006"
        ],
        [
         "4",
         "BMG_PH00005",
         "HPO ID:HP:0000007 | UMLS ID:C4020899 | UMLS ID:C0441748 | Autosomal recessive inheritance"
        ],
        [
         "5",
         "BMG_PH00006",
         "Abnormal morphology of female internal genitalia | UMLS ID:C4025900 | HPO ID:HP:0000008"
        ],
        [
         "6",
         "BMG_PH00007",
         "Functional abnormality of the bladder | UMLS ID:C3806583 | HPO ID:HP:0000009"
        ],
        [
         "7",
         "BMG_PH00008",
         "Recurrent urinary tract infections | HPO ID:HP:0000010 | UMLS ID:C0262655"
        ],
        [
         "8",
         "BMG_PH00009",
         "HPO ID:HP:0000011 | Neurogenic bladder | UMLS ID:C0005697"
        ],
        [
         "9",
         "BMG_PH00010",
         "UMLS ID:C4020898 | UMLS ID:C3544092 | HPO ID:HP:0000012 | UMLS ID:C0085606 | Urinary urgency"
        ],
        [
         "10",
         "BMG_PH00011",
         "UMLS ID:C0266399 | Hypoplasia of the uterus | HPO ID:HP:0000013"
        ],
        [
         "11",
         "BMG_PH00012",
         "HPO ID:HP:0000014 | UMLS ID:C0149632 | Abnormality of the bladder"
        ],
        [
         "12",
         "BMG_PH00013",
         "UMLS ID:C0156273 | HPO ID:HP:0000015 | Bladder diverticulum"
        ],
        [
         "13",
         "BMG_PH00014",
         "UMLS ID:C0080274 | Urinary retention | HPO ID:HP:0000016"
        ],
        [
         "14",
         "BMG_PH00015",
         "UMLS ID:C0028734 | HPO ID:HP:0000017 | Nocturia"
        ],
        [
         "15",
         "BMG_PH00016",
         "UMLS ID:C0152032 | Urinary hesitancy | HPO ID:HP:0000019"
        ],
        [
         "16",
         "BMG_PH00017",
         "UMLS ID:C0042024 | HPO ID:HP:0000020 | Urinary incontinence"
        ],
        [
         "17",
         "BMG_PH00018",
         "UMLS ID:C1855311 | HPO ID:HP:0000021 | Megacystis"
        ],
        [
         "18",
         "BMG_PH00019",
         "UMLS ID:C4025899 | Abnormal male internal genitalia morphology | UMLS ID:C5706136 | HPO ID:HP:0000022"
        ],
        [
         "19",
         "BMG_PH00020",
         "UMLS ID:C0019294 | HPO ID:HP:0000023 | Inguinal hernia"
        ],
        [
         "20",
         "BMG_PH00021",
         "UMLS ID:C0033581 | Prostatitis | HPO ID:HP:0000024"
        ],
        [
         "21",
         "BMG_PH00022",
         "HPO ID:HP:0000025 | Functional abnormality of male internal genitalia | UMLS ID:C4025898"
        ],
        [
         "22",
         "BMG_PH00023",
         "UMLS ID:C0151721 | Male hypogonadism | HPO ID:HP:0000026"
        ],
        [
         "23",
         "BMG_PH00024",
         "HPO ID:HP:0000027 | Azoospermia | UMLS ID:C0004509"
        ],
        [
         "24",
         "BMG_PH00025",
         "Cryptorchidism | UMLS ID:C0010417 | HPO ID:HP:0000028"
        ],
        [
         "25",
         "BMG_PH00026",
         "HPO ID:HP:0000029 | Testicular atrophy | UMLS ID:C0156312"
        ],
        [
         "26",
         "BMG_PH00027",
         "UMLS ID:C1515283 | Testicular gonadoblastoma | HPO ID:HP:0000030"
        ],
        [
         "27",
         "BMG_PH00028",
         "HPO ID:HP:0000031 | Epididymitis | UMLS ID:C0014534"
        ],
        [
         "28",
         "BMG_PH00029",
         "Abnormal male external genitalia morphology | HPO ID:HP:0000032 | UMLS ID:C4025897"
        ],
        [
         "29",
         "BMG_PH00030",
         "HPO ID:HP:0000033 | Ambiguous genitalia, male | UMLS ID:C4021823"
        ],
        [
         "30",
         "BMG_PH00031",
         "UMLS ID:C1720771 | Hydrocele testis | HPO ID:HP:0000034"
        ],
        [
         "31",
         "BMG_PH00032",
         "HPO ID:HP:0000035 | Abnormal testis morphology | UMLS ID:C0266423 | UMLS ID:C4759656"
        ],
        [
         "32",
         "BMG_PH00033",
         "UMLS ID:C4025896 | Abnormal penis morphology | HPO ID:HP:0000036"
        ],
        [
         "33",
         "BMG_PH00034",
         "Male pseudohermaphroditism | HPO ID:HP:0000037 | UMLS ID:C0238395"
        ],
        [
         "34",
         "BMG_PH00035",
         "Epispadias | UMLS ID:C0563449 | HPO ID:HP:0000039"
        ],
        [
         "35",
         "BMG_PH00036",
         "UMLS ID:C0269011 | Long penis | HPO ID:HP:0000040"
        ],
        [
         "36",
         "BMG_PH00037",
         "Chordee | HPO ID:HP:0000041 | UMLS ID:C0221182"
        ],
        [
         "37",
         "BMG_PH00038",
         "Absent external genitalia | UMLS ID:C1848869 | HPO ID:HP:0000042"
        ],
        [
         "38",
         "BMG_PH00039",
         "Hypogonadotropic hypogonadism | UMLS ID:C3489396 | UMLS ID:C0271623 | HPO ID:HP:0000044"
        ],
        [
         "39",
         "BMG_PH00040",
         "HPO ID:HP:0000045 | Abnormal scrotum morphology | UMLS ID:C4025895"
        ],
        [
         "40",
         "BMG_PH00041",
         "UMLS ID:C0431659 | UMLS ID:C0455792 | HPO ID:HP:0000046 | Small scrotum"
        ],
        [
         "41",
         "BMG_PH00042",
         "Hypospadias | UMLS ID:C1691215 | UMLS ID:C0848558 | HPO ID:HP:0000047"
        ],
        [
         "42",
         "BMG_PH00043",
         "Bifid scrotum | UMLS ID:C0341787 | HPO ID:HP:0000048"
        ],
        [
         "43",
         "BMG_PH00044",
         "Shawl scrotum | UMLS ID:C1858539 | HPO ID:HP:0000049"
        ],
        [
         "44",
         "BMG_PH00045",
         "HPO ID:HP:0000050 | UMLS ID:C1852534 | Hypoplastic male external genitalia"
        ],
        [
         "45",
         "BMG_PH00046",
         "HPO ID:HP:0000051 | UMLS ID:C0452148 | Perineal hypospadias"
        ],
        [
         "46",
         "BMG_PH00047",
         "HPO ID:HP:0000052 | Urethral atresia, male | UMLS ID:C4025894"
        ],
        [
         "47",
         "BMG_PH00048",
         "Macroorchidism | UMLS ID:C1263023 | HPO ID:HP:0000053"
        ],
        [
         "48",
         "BMG_PH00049",
         "UMLS ID:C4551492 | HPO ID:HP:0000054 | Micropenis"
        ],
        [
         "49",
         "BMG_PH00050",
         "UMLS ID:C4021822 | Abnormal female external genitalia morphology | HPO ID:HP:0000055"
        ]
       ],
       "shape": {
        "columns": 2,
        "rows": 19532
       }
      },
      "text/html": [
       "<div>\n",
       "<style scoped>\n",
       "    .dataframe tbody tr th:only-of-type {\n",
       "        vertical-align: middle;\n",
       "    }\n",
       "\n",
       "    .dataframe tbody tr th {\n",
       "        vertical-align: top;\n",
       "    }\n",
       "\n",
       "    .dataframe thead th {\n",
       "        text-align: right;\n",
       "    }\n",
       "</style>\n",
       "<table border=\"1\" class=\"dataframe\">\n",
       "  <thead>\n",
       "    <tr style=\"text-align: right;\">\n",
       "      <th></th>\n",
       "      <th>BioMedGraphica_ID</th>\n",
       "      <th>Names_and_IDs</th>\n",
       "    </tr>\n",
       "  </thead>\n",
       "  <tbody>\n",
       "    <tr>\n",
       "      <th>0</th>\n",
       "      <td>BMG_PH00001</td>\n",
       "      <td>Abnormality of body height | UMLS ID:C4025901 ...</td>\n",
       "    </tr>\n",
       "    <tr>\n",
       "      <th>1</th>\n",
       "      <td>BMG_PH00002</td>\n",
       "      <td>Multicystic kidney dysplasia | HPO ID:HP:00000...</td>\n",
       "    </tr>\n",
       "    <tr>\n",
       "      <th>2</th>\n",
       "      <td>BMG_PH00003</td>\n",
       "      <td>HPO ID:HP:0000005 | UMLS ID:C1708511 | Mode of...</td>\n",
       "    </tr>\n",
       "    <tr>\n",
       "      <th>3</th>\n",
       "      <td>BMG_PH00004</td>\n",
       "      <td>UMLS ID:C0443147 | Autosomal dominant inherita...</td>\n",
       "    </tr>\n",
       "    <tr>\n",
       "      <th>4</th>\n",
       "      <td>BMG_PH00005</td>\n",
       "      <td>HPO ID:HP:0000007 | UMLS ID:C4020899 | UMLS ID...</td>\n",
       "    </tr>\n",
       "    <tr>\n",
       "      <th>...</th>\n",
       "      <td>...</td>\n",
       "      <td>...</td>\n",
       "    </tr>\n",
       "    <tr>\n",
       "      <th>19527</th>\n",
       "      <td>BMG_PH19528</td>\n",
       "      <td>Scapholunate interval widening | HPO ID:HP:600...</td>\n",
       "    </tr>\n",
       "    <tr>\n",
       "      <th>19528</th>\n",
       "      <td>BMG_PH19529</td>\n",
       "      <td>FInger pulp localization | HPO ID:HP:6001199</td>\n",
       "    </tr>\n",
       "    <tr>\n",
       "      <th>19529</th>\n",
       "      <td>BMG_PH19530</td>\n",
       "      <td>HPO ID:HP:6001200 | Ulnar wrist pain</td>\n",
       "    </tr>\n",
       "    <tr>\n",
       "      <th>19530</th>\n",
       "      <td>BMG_PH19531</td>\n",
       "      <td>HPO ID:HP:6001201 | Lunotriquetral interval wi...</td>\n",
       "    </tr>\n",
       "    <tr>\n",
       "      <th>19531</th>\n",
       "      <td>BMG_PH19532</td>\n",
       "      <td>Ulnar translocation of the carpus | HPO ID:HP:...</td>\n",
       "    </tr>\n",
       "  </tbody>\n",
       "</table>\n",
       "<p>19532 rows × 2 columns</p>\n",
       "</div>"
      ],
      "text/plain": [
       "      BioMedGraphica_ID                                      Names_and_IDs\n",
       "0           BMG_PH00001  Abnormality of body height | UMLS ID:C4025901 ...\n",
       "1           BMG_PH00002  Multicystic kidney dysplasia | HPO ID:HP:00000...\n",
       "2           BMG_PH00003  HPO ID:HP:0000005 | UMLS ID:C1708511 | Mode of...\n",
       "3           BMG_PH00004  UMLS ID:C0443147 | Autosomal dominant inherita...\n",
       "4           BMG_PH00005  HPO ID:HP:0000007 | UMLS ID:C4020899 | UMLS ID...\n",
       "...                 ...                                                ...\n",
       "19527       BMG_PH19528  Scapholunate interval widening | HPO ID:HP:600...\n",
       "19528       BMG_PH19529       FInger pulp localization | HPO ID:HP:6001199\n",
       "19529       BMG_PH19530               HPO ID:HP:6001200 | Ulnar wrist pain\n",
       "19530       BMG_PH19531  HPO ID:HP:6001201 | Lunotriquetral interval wi...\n",
       "19531       BMG_PH19532  Ulnar translocation of the carpus | HPO ID:HP:...\n",
       "\n",
       "[19532 rows x 2 columns]"
      ]
     },
     "execution_count": 16,
     "metadata": {},
     "output_type": "execute_result"
    }
   ],
   "source": [
    "llm_combined = llm_name_id.copy()\n",
    "\n",
    "def merge_string_columns(df, columns, merge_name, separator=' | '):\n",
    "    def merge_strings(row):\n",
    "        combined = set()\n",
    "        for column in columns:\n",
    "            if pd.notnull(row[column]):\n",
    "                combined.update(row[column].split(separator))\n",
    "        return separator.join(combined)\n",
    "    \n",
    "    # Apply the function to each row and create a new column\n",
    "    combined_column_name = merge_name\n",
    "    df[combined_column_name] = df.apply(merge_strings, axis=1)\n",
    "    df.drop(columns=columns, inplace=True)\n",
    "    \n",
    "    return df\n",
    "\n",
    "llm_combined = merge_string_columns(llm_combined, llm_combined.columns[llm_combined.columns != 'BioMedGraphica_ID'], 'Names_and_IDs')\n",
    "llm_combined"
   ]
  },
  {
   "cell_type": "code",
   "execution_count": 17,
   "metadata": {},
   "outputs": [
    {
     "name": "stdout",
     "output_type": "stream",
     "text": [
      "Data has been saved to D:\\RA\\BMG\\BioMedGraphica\\Entity\\Phenotype\\BioMedGraphica_Phenotype_LLM_Name_ID_Combined.csv\n"
     ]
    }
   ],
   "source": [
    "import os\n",
    "from pathlib import Path\n",
    "\n",
    "# get the current working directory\n",
    "current_working_dir = Path(os.getcwd()).resolve()\n",
    "\n",
    "# get the output directory\n",
    "grandparent_dir = current_working_dir.parent.parent.parent\n",
    "\n",
    "target_folder = grandparent_dir / 'BioMedGraphica' / 'Entity' / 'Phenotype'\n",
    "if not target_folder.exists():\n",
    "    target_folder.mkdir(parents=True)\n",
    "    print(f\"Folder {target_folder} has been created.\")\n",
    "\n",
    "output_file_path = target_folder / 'BioMedGraphica_Phenotype_LLM_Name_ID_Combined.csv'\n",
    "llm_combined.to_csv(output_file_path, index=False)\n",
    "print(f\"Data has been saved to {output_file_path}\")"
   ]
  },
  {
   "cell_type": "markdown",
   "metadata": {},
   "source": [
    "Display Name"
   ]
  },
  {
   "cell_type": "code",
   "execution_count": 18,
   "metadata": {},
   "outputs": [
    {
     "data": {
      "application/vnd.microsoft.datawrangler.viewer.v0+json": {
       "columns": [
        {
         "name": "index",
         "rawType": "int64",
         "type": "integer"
        },
        {
         "name": "BioMedGraphica_ID",
         "rawType": "object",
         "type": "string"
        },
        {
         "name": "BMG_Phenotype_Name",
         "rawType": "object",
         "type": "string"
        }
       ],
       "conversionMethod": "pd.DataFrame",
       "ref": "1661994b-5309-4b86-86b7-de50170cba9a",
       "rows": [
        [
         "0",
         "BMG_PH00001",
         "Abnormality of body height"
        ],
        [
         "1",
         "BMG_PH00002",
         "Multicystic kidney dysplasia"
        ],
        [
         "2",
         "BMG_PH00003",
         "Mode of inheritance"
        ],
        [
         "3",
         "BMG_PH00004",
         "Autosomal dominant inheritance"
        ],
        [
         "4",
         "BMG_PH00005",
         "Autosomal recessive inheritance"
        ],
        [
         "5",
         "BMG_PH00006",
         "Abnormal morphology of female internal genitalia"
        ],
        [
         "6",
         "BMG_PH00007",
         "Functional abnormality of the bladder"
        ],
        [
         "7",
         "BMG_PH00008",
         "Recurrent urinary tract infections"
        ],
        [
         "8",
         "BMG_PH00009",
         "Neurogenic bladder"
        ],
        [
         "9",
         "BMG_PH00010",
         "Urinary urgency"
        ],
        [
         "10",
         "BMG_PH00011",
         "Hypoplasia of the uterus"
        ],
        [
         "11",
         "BMG_PH00012",
         "Abnormality of the bladder"
        ],
        [
         "12",
         "BMG_PH00013",
         "Bladder diverticulum"
        ],
        [
         "13",
         "BMG_PH00014",
         "Urinary retention"
        ],
        [
         "14",
         "BMG_PH00015",
         "Nocturia"
        ],
        [
         "15",
         "BMG_PH00016",
         "Urinary hesitancy"
        ],
        [
         "16",
         "BMG_PH00017",
         "Urinary incontinence"
        ],
        [
         "17",
         "BMG_PH00018",
         "Megacystis"
        ],
        [
         "18",
         "BMG_PH00019",
         "Abnormal male internal genitalia morphology"
        ],
        [
         "19",
         "BMG_PH00020",
         "Inguinal hernia"
        ],
        [
         "20",
         "BMG_PH00021",
         "Prostatitis"
        ],
        [
         "21",
         "BMG_PH00022",
         "Functional abnormality of male internal genitalia"
        ],
        [
         "22",
         "BMG_PH00023",
         "Male hypogonadism"
        ],
        [
         "23",
         "BMG_PH00024",
         "Azoospermia"
        ],
        [
         "24",
         "BMG_PH00025",
         "Cryptorchidism"
        ],
        [
         "25",
         "BMG_PH00026",
         "Testicular atrophy"
        ],
        [
         "26",
         "BMG_PH00027",
         "Testicular gonadoblastoma"
        ],
        [
         "27",
         "BMG_PH00028",
         "Epididymitis"
        ],
        [
         "28",
         "BMG_PH00029",
         "Abnormal male external genitalia morphology"
        ],
        [
         "29",
         "BMG_PH00030",
         "Ambiguous genitalia, male"
        ],
        [
         "30",
         "BMG_PH00031",
         "Hydrocele testis"
        ],
        [
         "31",
         "BMG_PH00032",
         "Abnormal testis morphology"
        ],
        [
         "32",
         "BMG_PH00033",
         "Abnormal penis morphology"
        ],
        [
         "33",
         "BMG_PH00034",
         "Male pseudohermaphroditism"
        ],
        [
         "34",
         "BMG_PH00035",
         "Epispadias"
        ],
        [
         "35",
         "BMG_PH00036",
         "Long penis"
        ],
        [
         "36",
         "BMG_PH00037",
         "Chordee"
        ],
        [
         "37",
         "BMG_PH00038",
         "Absent external genitalia"
        ],
        [
         "38",
         "BMG_PH00039",
         "Hypogonadotropic hypogonadism"
        ],
        [
         "39",
         "BMG_PH00040",
         "Abnormal scrotum morphology"
        ],
        [
         "40",
         "BMG_PH00041",
         "Small scrotum"
        ],
        [
         "41",
         "BMG_PH00042",
         "Hypospadias"
        ],
        [
         "42",
         "BMG_PH00043",
         "Bifid scrotum"
        ],
        [
         "43",
         "BMG_PH00044",
         "Shawl scrotum"
        ],
        [
         "44",
         "BMG_PH00045",
         "Hypoplastic male external genitalia"
        ],
        [
         "45",
         "BMG_PH00046",
         "Perineal hypospadias"
        ],
        [
         "46",
         "BMG_PH00047",
         "Urethral atresia, male"
        ],
        [
         "47",
         "BMG_PH00048",
         "Macroorchidism"
        ],
        [
         "48",
         "BMG_PH00049",
         "Micropenis"
        ],
        [
         "49",
         "BMG_PH00050",
         "Abnormal female external genitalia morphology"
        ]
       ],
       "shape": {
        "columns": 2,
        "rows": 19532
       }
      },
      "text/html": [
       "<div>\n",
       "<style scoped>\n",
       "    .dataframe tbody tr th:only-of-type {\n",
       "        vertical-align: middle;\n",
       "    }\n",
       "\n",
       "    .dataframe tbody tr th {\n",
       "        vertical-align: top;\n",
       "    }\n",
       "\n",
       "    .dataframe thead th {\n",
       "        text-align: right;\n",
       "    }\n",
       "</style>\n",
       "<table border=\"1\" class=\"dataframe\">\n",
       "  <thead>\n",
       "    <tr style=\"text-align: right;\">\n",
       "      <th></th>\n",
       "      <th>BioMedGraphica_ID</th>\n",
       "      <th>BMG_Phenotype_Name</th>\n",
       "    </tr>\n",
       "  </thead>\n",
       "  <tbody>\n",
       "    <tr>\n",
       "      <th>0</th>\n",
       "      <td>BMG_PH00001</td>\n",
       "      <td>Abnormality of body height</td>\n",
       "    </tr>\n",
       "    <tr>\n",
       "      <th>1</th>\n",
       "      <td>BMG_PH00002</td>\n",
       "      <td>Multicystic kidney dysplasia</td>\n",
       "    </tr>\n",
       "    <tr>\n",
       "      <th>2</th>\n",
       "      <td>BMG_PH00003</td>\n",
       "      <td>Mode of inheritance</td>\n",
       "    </tr>\n",
       "    <tr>\n",
       "      <th>3</th>\n",
       "      <td>BMG_PH00004</td>\n",
       "      <td>Autosomal dominant inheritance</td>\n",
       "    </tr>\n",
       "    <tr>\n",
       "      <th>4</th>\n",
       "      <td>BMG_PH00005</td>\n",
       "      <td>Autosomal recessive inheritance</td>\n",
       "    </tr>\n",
       "    <tr>\n",
       "      <th>...</th>\n",
       "      <td>...</td>\n",
       "      <td>...</td>\n",
       "    </tr>\n",
       "    <tr>\n",
       "      <th>19527</th>\n",
       "      <td>BMG_PH19528</td>\n",
       "      <td>Scapholunate interval widening</td>\n",
       "    </tr>\n",
       "    <tr>\n",
       "      <th>19528</th>\n",
       "      <td>BMG_PH19529</td>\n",
       "      <td>FInger pulp localization</td>\n",
       "    </tr>\n",
       "    <tr>\n",
       "      <th>19529</th>\n",
       "      <td>BMG_PH19530</td>\n",
       "      <td>Ulnar wrist pain</td>\n",
       "    </tr>\n",
       "    <tr>\n",
       "      <th>19530</th>\n",
       "      <td>BMG_PH19531</td>\n",
       "      <td>Lunotriquetral interval widening</td>\n",
       "    </tr>\n",
       "    <tr>\n",
       "      <th>19531</th>\n",
       "      <td>BMG_PH19532</td>\n",
       "      <td>Ulnar translocation of the carpus</td>\n",
       "    </tr>\n",
       "  </tbody>\n",
       "</table>\n",
       "<p>19532 rows × 2 columns</p>\n",
       "</div>"
      ],
      "text/plain": [
       "      BioMedGraphica_ID                 BMG_Phenotype_Name\n",
       "0           BMG_PH00001         Abnormality of body height\n",
       "1           BMG_PH00002       Multicystic kidney dysplasia\n",
       "2           BMG_PH00003                Mode of inheritance\n",
       "3           BMG_PH00004     Autosomal dominant inheritance\n",
       "4           BMG_PH00005    Autosomal recessive inheritance\n",
       "...                 ...                                ...\n",
       "19527       BMG_PH19528     Scapholunate interval widening\n",
       "19528       BMG_PH19529           FInger pulp localization\n",
       "19529       BMG_PH19530                   Ulnar wrist pain\n",
       "19530       BMG_PH19531   Lunotriquetral interval widening\n",
       "19531       BMG_PH19532  Ulnar translocation of the carpus\n",
       "\n",
       "[19532 rows x 2 columns]"
      ]
     },
     "execution_count": 18,
     "metadata": {},
     "output_type": "execute_result"
    }
   ],
   "source": [
    "display_name = biomedgraphica_phenotype.copy()\n",
    "\n",
    "display_name['BMG_Phenotype_Name'] = display_name['HPO_Name']\n",
    "display_name = display_name[['BioMedGraphica_ID', 'BMG_Phenotype_Name']]\n",
    "display_name"
   ]
  },
  {
   "cell_type": "code",
   "execution_count": 19,
   "metadata": {},
   "outputs": [
    {
     "name": "stdout",
     "output_type": "stream",
     "text": [
      "Data has been saved to D:\\RA\\BMG\\BioMedGraphica\\Entity\\Phenotype\\BioMedGraphica_Phenotype_Display_Name.csv\n"
     ]
    }
   ],
   "source": [
    "import os\n",
    "from pathlib import Path\n",
    "\n",
    "# get the current working directory\n",
    "current_working_dir = Path(os.getcwd()).resolve()\n",
    "\n",
    "# get the output directory\n",
    "grandparent_dir = current_working_dir.parent.parent.parent\n",
    "\n",
    "target_folder = grandparent_dir / 'BioMedGraphica' / 'Entity' / 'Phenotype'\n",
    "if not target_folder.exists():\n",
    "    target_folder.mkdir(parents=True)\n",
    "    print(f\"Folder {target_folder} has been created.\")\n",
    "\n",
    "output_file_path = target_folder / 'BioMedGraphica_Phenotype_Display_Name.csv'\n",
    "display_name.to_csv(output_file_path, index=False)\n",
    "print(f\"Data has been saved to {output_file_path}\")"
   ]
  }
 ],
 "metadata": {
  "kernelspec": {
   "display_name": "base",
   "language": "python",
   "name": "python3"
  },
  "language_info": {
   "codemirror_mode": {
    "name": "ipython",
    "version": 3
   },
   "file_extension": ".py",
   "mimetype": "text/x-python",
   "name": "python",
   "nbconvert_exporter": "python",
   "pygments_lexer": "ipython3",
   "version": "3.9.19"
  }
 },
 "nbformat": 4,
 "nbformat_minor": 2
}
