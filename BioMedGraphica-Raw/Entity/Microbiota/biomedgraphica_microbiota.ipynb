{
 "cells": [
  {
   "cell_type": "markdown",
   "metadata": {},
   "source": [
    "# BioMedGraphica Microbiota"
   ]
  },
  {
   "cell_type": "markdown",
   "metadata": {},
   "source": [
    "## 1. Data Access  \n",
    "### Direct Download Links  \n",
    "**NCBI Taxonomy**: Can be downloaded directly via the link without the need for registration. [Link](https://ftp.ncbi.nih.gov/pub/taxonomy/taxdmp.zip)  \n",
    "**SILVA**: Can be downloaded directly via the link without the need for registration. [Link1](https://www.arb-silva.de/fileadmin/silva_databases/current/Exports/taxonomy/ncbi/taxmap_embl-ebi_ena_lsu_ref_138.2.txt.gz); [Link2](https://www.arb-silva.de/fileadmin/silva_databases/current/Exports/taxonomy/ncbi/taxmap_embl-ebi_ena_ssu_ref_138.2.txt.gz)  \n",
    "**greengenes**: Can be downloaded directly via the link without the need for registration. [Link](https://ftp.ebi.ac.uk/pub/databases/RNAcentral/current_release/id_mapping/database_mappings/greengenes.tsv)  \n",
    "**RDP**: Can be downloaded directly via the link without the need for registration. [Link](https://ftp.ebi.ac.uk/pub/databases/RNAcentral/current_release/id_mapping/database_mappings/rdp.tsv)  \n",
    "**GTDB**: Can be downloaded directly via the link without the need for registration. [Link1](https://data.ace.uq.edu.au/public/gtdb/data/releases/latest/ar53_metadata.tsv.gz); [Link2](https://data.ace.uq.edu.au/public/gtdb/data/releases/latest/bac120_metadata.tsv.gz)"
   ]
  },
  {
   "cell_type": "markdown",
   "metadata": {},
   "source": [
    "## 2. Load Data"
   ]
  },
  {
   "cell_type": "markdown",
   "metadata": {},
   "source": [
    "### 2.1 NCBI Taxonomy Database"
   ]
  },
  {
   "cell_type": "code",
   "execution_count": 4,
   "metadata": {},
   "outputs": [
    {
     "data": {
      "application/vnd.microsoft.datawrangler.viewer.v0+json": {
       "columns": [
        {
         "name": "index",
         "rawType": "int64",
         "type": "integer"
        },
        {
         "name": "tax_id",
         "rawType": "object",
         "type": "string"
        },
        {
         "name": "parent_tax_id",
         "rawType": "object",
         "type": "string"
        },
        {
         "name": "rank",
         "rawType": "object",
         "type": "string"
        },
        {
         "name": "embl_code",
         "rawType": "object",
         "type": "unknown"
        },
        {
         "name": "division_id",
         "rawType": "object",
         "type": "string"
        },
        {
         "name": "inherited_div_flag",
         "rawType": "object",
         "type": "string"
        },
        {
         "name": "genetic_code_id",
         "rawType": "object",
         "type": "string"
        },
        {
         "name": "inherited_gc_flag",
         "rawType": "object",
         "type": "string"
        },
        {
         "name": "mitochondrial_genetic_code_id",
         "rawType": "object",
         "type": "string"
        },
        {
         "name": "inherited_mgc_flag",
         "rawType": "object",
         "type": "string"
        },
        {
         "name": "genbank_hidden_flag",
         "rawType": "object",
         "type": "string"
        },
        {
         "name": "hidden_subtree_root_flag",
         "rawType": "object",
         "type": "string"
        },
        {
         "name": "comments",
         "rawType": "object",
         "type": "string"
        }
       ],
       "conversionMethod": "pd.DataFrame",
       "ref": "b9621877-f6ce-4215-9895-ac4c7849f43a",
       "rows": [
        [
         "0",
         "1",
         "1",
         "no rank",
         null,
         "8",
         "0",
         "1",
         "0",
         "0",
         "0",
         "0",
         "0",
         ""
        ],
        [
         "1",
         "2",
         "131567",
         "superkingdom",
         null,
         "0",
         "0",
         "11",
         "0",
         "0",
         "0",
         "0",
         "0",
         ""
        ],
        [
         "2",
         "6",
         "335928",
         "genus",
         null,
         "0",
         "1",
         "11",
         "1",
         "0",
         "1",
         "0",
         "0",
         "code compliant"
        ],
        [
         "3",
         "7",
         "6",
         "species",
         "AC",
         "0",
         "1",
         "11",
         "1",
         "0",
         "1",
         "1",
         "0",
         "code compliant; specified"
        ],
        [
         "4",
         "9",
         "32199",
         "species",
         "BA",
         "0",
         "1",
         "11",
         "1",
         "0",
         "1",
         "1",
         "0",
         "code compliant; specified"
        ],
        [
         "5",
         "10",
         "1706371",
         "genus",
         null,
         "0",
         "1",
         "11",
         "1",
         "0",
         "1",
         "0",
         "0",
         "code compliant"
        ],
        [
         "6",
         "11",
         "1707",
         "species",
         "CG",
         "0",
         "1",
         "11",
         "1",
         "0",
         "1",
         "1",
         "0",
         "effective current name;specified"
        ],
        [
         "7",
         "13",
         "203488",
         "genus",
         null,
         "0",
         "1",
         "11",
         "1",
         "0",
         "1",
         "0",
         "0",
         "code compliant"
        ],
        [
         "8",
         "14",
         "13",
         "species",
         "DT",
         "0",
         "1",
         "11",
         "1",
         "0",
         "1",
         "1",
         "0",
         "code compliant; specified"
        ],
        [
         "9",
         "16",
         "32011",
         "genus",
         null,
         "0",
         "1",
         "11",
         "1",
         "0",
         "1",
         "0",
         "0",
         "code compliant"
        ],
        [
         "10",
         "17",
         "16",
         "species",
         "MM",
         "0",
         "1",
         "11",
         "1",
         "0",
         "1",
         "1",
         "0",
         "code compliant; specified"
        ],
        [
         "11",
         "18",
         "213421",
         "genus",
         null,
         "0",
         "1",
         "11",
         "1",
         "0",
         "1",
         "0",
         "0",
         "code compliant"
        ],
        [
         "12",
         "19",
         "2812025",
         "species",
         "SC",
         "0",
         "1",
         "11",
         "1",
         "0",
         "1",
         "1",
         "0",
         "code compliant; specified"
        ],
        [
         "13",
         "20",
         "76892",
         "genus",
         null,
         "0",
         "1",
         "11",
         "1",
         "0",
         "1",
         "0",
         "0",
         "code compliant"
        ],
        [
         "14",
         "21",
         "20",
         "species",
         "PI",
         "0",
         "1",
         "11",
         "1",
         "0",
         "1",
         "1",
         "0",
         "code compliant; specified"
        ],
        [
         "15",
         "22",
         "267890",
         "genus",
         null,
         "0",
         "1",
         "11",
         "1",
         "0",
         "1",
         "0",
         "0",
         "code compliant"
        ],
        [
         "16",
         "23",
         "22",
         "species",
         "SC",
         "0",
         "1",
         "11",
         "1",
         "0",
         "1",
         "1",
         "0",
         "code compliant; specified"
        ],
        [
         "17",
         "24",
         "22",
         "species",
         "SP",
         "0",
         "1",
         "11",
         "1",
         "0",
         "1",
         "1",
         "0",
         "code compliant; specified"
        ],
        [
         "18",
         "25",
         "22",
         "species",
         "SH",
         "0",
         "1",
         "11",
         "1",
         "0",
         "1",
         "1",
         "0",
         "code compliant; specified"
        ],
        [
         "19",
         "27",
         "49928",
         "species",
         "HE",
         "0",
         "1",
         "11",
         "1",
         "0",
         "1",
         "1",
         "0",
         ""
        ],
        [
         "20",
         "28",
         "49928",
         "species",
         "HE",
         "0",
         "1",
         "11",
         "1",
         "0",
         "1",
         "1",
         "0",
         ""
        ],
        [
         "21",
         "29",
         "32015",
         "order",
         null,
         "0",
         "1",
         "11",
         "1",
         "0",
         "1",
         "0",
         "0",
         "code compliant"
        ],
        [
         "22",
         "31",
         "80811",
         "family",
         null,
         "0",
         "1",
         "11",
         "1",
         "0",
         "1",
         "0",
         "0",
         "code compliant"
        ],
        [
         "23",
         "32",
         "31",
         "genus",
         null,
         "0",
         "1",
         "11",
         "1",
         "0",
         "1",
         "0",
         "0",
         "code compliant"
        ],
        [
         "24",
         "33",
         "32",
         "species",
         "MF",
         "0",
         "1",
         "11",
         "1",
         "0",
         "1",
         "1",
         "0",
         "code compliant; specified"
        ],
        [
         "25",
         "34",
         "32",
         "species",
         "MX",
         "0",
         "1",
         "11",
         "1",
         "0",
         "1",
         "1",
         "0",
         "code compliant; specified"
        ],
        [
         "26",
         "35",
         "83461",
         "species",
         "CM",
         "0",
         "1",
         "11",
         "1",
         "0",
         "1",
         "1",
         "0",
         "code compliant; specified"
        ],
        [
         "27",
         "38",
         "47",
         "species",
         "AD",
         "0",
         "1",
         "11",
         "1",
         "0",
         "1",
         "1",
         "0",
         "code compliant; specified"
        ],
        [
         "28",
         "39",
         "80811",
         "family",
         null,
         "0",
         "1",
         "11",
         "1",
         "0",
         "1",
         "0",
         "0",
         "code compliant"
        ],
        [
         "29",
         "40",
         "39",
         "genus",
         null,
         "0",
         "1",
         "11",
         "1",
         "0",
         "1",
         "0",
         "0",
         "code compliant"
        ],
        [
         "30",
         "41",
         "40",
         "species",
         "SA",
         "0",
         "1",
         "11",
         "1",
         "0",
         "1",
         "1",
         "0",
         "code compliant; specified"
        ],
        [
         "31",
         "42",
         "39",
         "genus",
         null,
         "0",
         "1",
         "11",
         "1",
         "0",
         "1",
         "0",
         "0",
         "code compliant"
        ],
        [
         "32",
         "43",
         "42",
         "species",
         "CF",
         "0",
         "1",
         "11",
         "1",
         "0",
         "1",
         "1",
         "0",
         "code compliant; specified"
        ],
        [
         "33",
         "44",
         "39",
         "genus",
         null,
         "0",
         "1",
         "11",
         "1",
         "0",
         "1",
         "0",
         "0",
         "code compliant"
        ],
        [
         "34",
         "45",
         "44",
         "species",
         "ML",
         "0",
         "1",
         "11",
         "1",
         "0",
         "1",
         "1",
         "0",
         "code compliant; specified"
        ],
        [
         "35",
         "47",
         "39",
         "genus",
         null,
         "0",
         "1",
         "11",
         "1",
         "0",
         "1",
         "0",
         "0",
         "code compliant"
        ],
        [
         "36",
         "48",
         "47",
         "species",
         "AG",
         "0",
         "1",
         "11",
         "1",
         "0",
         "1",
         "1",
         "0",
         "code compliant; specified"
        ],
        [
         "37",
         "49",
         "3031712",
         "family",
         null,
         "0",
         "1",
         "11",
         "1",
         "0",
         "1",
         "0",
         "0",
         "code compliant"
        ],
        [
         "38",
         "50",
         "49",
         "genus",
         null,
         "0",
         "1",
         "11",
         "1",
         "0",
         "1",
         "0",
         "0",
         "code compliant"
        ],
        [
         "39",
         "51",
         "50",
         "species",
         "CA",
         "0",
         "1",
         "11",
         "1",
         "0",
         "1",
         "1",
         "0",
         "code compliant; specified"
        ],
        [
         "40",
         "52",
         "50",
         "species",
         "CC",
         "0",
         "1",
         "11",
         "1",
         "0",
         "1",
         "1",
         "0",
         "code compliant; specified"
        ],
        [
         "41",
         "53",
         "224463",
         "genus",
         null,
         "0",
         "1",
         "11",
         "1",
         "0",
         "1",
         "0",
         "0",
         "code compliant"
        ],
        [
         "42",
         "54",
         "53",
         "species",
         "NE",
         "0",
         "1",
         "11",
         "1",
         "0",
         "1",
         "1",
         "0",
         "code compliant; specified"
        ],
        [
         "43",
         "55",
         "49",
         "genus",
         null,
         "0",
         "1",
         "11",
         "1",
         "0",
         "1",
         "0",
         "0",
         "code compliant"
        ],
        [
         "44",
         "56",
         "39643",
         "species",
         "SC",
         "0",
         "1",
         "11",
         "1",
         "0",
         "1",
         "1",
         "0",
         "code compliant; specified"
        ],
        [
         "45",
         "57",
         "2649095",
         "species",
         "PS",
         "0",
         "1",
         "11",
         "1",
         "0",
         "1",
         "1",
         "0",
         ""
        ],
        [
         "46",
         "59",
         "481",
         "genus",
         null,
         "0",
         "1",
         "11",
         "1",
         "0",
         "1",
         "0",
         "0",
         "code compliant"
        ],
        [
         "47",
         "60",
         "2627922",
         "species",
         "VS",
         "0",
         "1",
         "11",
         "1",
         "0",
         "1",
         "1",
         "0",
         ""
        ],
        [
         "48",
         "61",
         "59",
         "species",
         "VS",
         "0",
         "1",
         "11",
         "1",
         "0",
         "1",
         "1",
         "0",
         "code compliant; specified"
        ],
        [
         "49",
         "62",
         "59",
         "species",
         "VB",
         "0",
         "1",
         "11",
         "1",
         "0",
         "1",
         "1",
         "0",
         "code compliant; specified"
        ]
       ],
       "shape": {
        "columns": 13,
        "rows": 2631459
       }
      },
      "text/html": [
       "<div>\n",
       "<style scoped>\n",
       "    .dataframe tbody tr th:only-of-type {\n",
       "        vertical-align: middle;\n",
       "    }\n",
       "\n",
       "    .dataframe tbody tr th {\n",
       "        vertical-align: top;\n",
       "    }\n",
       "\n",
       "    .dataframe thead th {\n",
       "        text-align: right;\n",
       "    }\n",
       "</style>\n",
       "<table border=\"1\" class=\"dataframe\">\n",
       "  <thead>\n",
       "    <tr style=\"text-align: right;\">\n",
       "      <th></th>\n",
       "      <th>tax_id</th>\n",
       "      <th>parent_tax_id</th>\n",
       "      <th>rank</th>\n",
       "      <th>embl_code</th>\n",
       "      <th>division_id</th>\n",
       "      <th>inherited_div_flag</th>\n",
       "      <th>genetic_code_id</th>\n",
       "      <th>inherited_gc_flag</th>\n",
       "      <th>mitochondrial_genetic_code_id</th>\n",
       "      <th>inherited_mgc_flag</th>\n",
       "      <th>genbank_hidden_flag</th>\n",
       "      <th>hidden_subtree_root_flag</th>\n",
       "      <th>comments</th>\n",
       "    </tr>\n",
       "  </thead>\n",
       "  <tbody>\n",
       "    <tr>\n",
       "      <th>0</th>\n",
       "      <td>1</td>\n",
       "      <td>1</td>\n",
       "      <td>no rank</td>\n",
       "      <td>NaN</td>\n",
       "      <td>8</td>\n",
       "      <td>0</td>\n",
       "      <td>1</td>\n",
       "      <td>0</td>\n",
       "      <td>0</td>\n",
       "      <td>0</td>\n",
       "      <td>0</td>\n",
       "      <td>0</td>\n",
       "      <td></td>\n",
       "    </tr>\n",
       "    <tr>\n",
       "      <th>1</th>\n",
       "      <td>2</td>\n",
       "      <td>131567</td>\n",
       "      <td>superkingdom</td>\n",
       "      <td>NaN</td>\n",
       "      <td>0</td>\n",
       "      <td>0</td>\n",
       "      <td>11</td>\n",
       "      <td>0</td>\n",
       "      <td>0</td>\n",
       "      <td>0</td>\n",
       "      <td>0</td>\n",
       "      <td>0</td>\n",
       "      <td></td>\n",
       "    </tr>\n",
       "    <tr>\n",
       "      <th>2</th>\n",
       "      <td>6</td>\n",
       "      <td>335928</td>\n",
       "      <td>genus</td>\n",
       "      <td>NaN</td>\n",
       "      <td>0</td>\n",
       "      <td>1</td>\n",
       "      <td>11</td>\n",
       "      <td>1</td>\n",
       "      <td>0</td>\n",
       "      <td>1</td>\n",
       "      <td>0</td>\n",
       "      <td>0</td>\n",
       "      <td>code compliant</td>\n",
       "    </tr>\n",
       "    <tr>\n",
       "      <th>3</th>\n",
       "      <td>7</td>\n",
       "      <td>6</td>\n",
       "      <td>species</td>\n",
       "      <td>AC</td>\n",
       "      <td>0</td>\n",
       "      <td>1</td>\n",
       "      <td>11</td>\n",
       "      <td>1</td>\n",
       "      <td>0</td>\n",
       "      <td>1</td>\n",
       "      <td>1</td>\n",
       "      <td>0</td>\n",
       "      <td>code compliant; specified</td>\n",
       "    </tr>\n",
       "    <tr>\n",
       "      <th>4</th>\n",
       "      <td>9</td>\n",
       "      <td>32199</td>\n",
       "      <td>species</td>\n",
       "      <td>BA</td>\n",
       "      <td>0</td>\n",
       "      <td>1</td>\n",
       "      <td>11</td>\n",
       "      <td>1</td>\n",
       "      <td>0</td>\n",
       "      <td>1</td>\n",
       "      <td>1</td>\n",
       "      <td>0</td>\n",
       "      <td>code compliant; specified</td>\n",
       "    </tr>\n",
       "    <tr>\n",
       "      <th>...</th>\n",
       "      <td>...</td>\n",
       "      <td>...</td>\n",
       "      <td>...</td>\n",
       "      <td>...</td>\n",
       "      <td>...</td>\n",
       "      <td>...</td>\n",
       "      <td>...</td>\n",
       "      <td>...</td>\n",
       "      <td>...</td>\n",
       "      <td>...</td>\n",
       "      <td>...</td>\n",
       "      <td>...</td>\n",
       "      <td>...</td>\n",
       "    </tr>\n",
       "    <tr>\n",
       "      <th>2631454</th>\n",
       "      <td>3395349</td>\n",
       "      <td>177862</td>\n",
       "      <td>species</td>\n",
       "      <td>HF</td>\n",
       "      <td>1</td>\n",
       "      <td>1</td>\n",
       "      <td>1</td>\n",
       "      <td>1</td>\n",
       "      <td>5</td>\n",
       "      <td>1</td>\n",
       "      <td>0</td>\n",
       "      <td>0</td>\n",
       "      <td>code compliant; specified</td>\n",
       "    </tr>\n",
       "    <tr>\n",
       "      <th>2631455</th>\n",
       "      <td>3395364</td>\n",
       "      <td>1762</td>\n",
       "      <td>no rank</td>\n",
       "      <td>NaN</td>\n",
       "      <td>0</td>\n",
       "      <td>1</td>\n",
       "      <td>11</td>\n",
       "      <td>1</td>\n",
       "      <td>0</td>\n",
       "      <td>1</td>\n",
       "      <td>0</td>\n",
       "      <td>0</td>\n",
       "      <td></td>\n",
       "    </tr>\n",
       "    <tr>\n",
       "      <th>2631456</th>\n",
       "      <td>3395429</td>\n",
       "      <td>2627606</td>\n",
       "      <td>species</td>\n",
       "      <td>MS</td>\n",
       "      <td>4</td>\n",
       "      <td>1</td>\n",
       "      <td>1</td>\n",
       "      <td>1</td>\n",
       "      <td>4</td>\n",
       "      <td>1</td>\n",
       "      <td>0</td>\n",
       "      <td>0</td>\n",
       "      <td></td>\n",
       "    </tr>\n",
       "    <tr>\n",
       "      <th>2631457</th>\n",
       "      <td>3395432</td>\n",
       "      <td>2636820</td>\n",
       "      <td>species</td>\n",
       "      <td>PS</td>\n",
       "      <td>4</td>\n",
       "      <td>1</td>\n",
       "      <td>1</td>\n",
       "      <td>1</td>\n",
       "      <td>4</td>\n",
       "      <td>1</td>\n",
       "      <td>0</td>\n",
       "      <td>0</td>\n",
       "      <td></td>\n",
       "    </tr>\n",
       "    <tr>\n",
       "      <th>2631458</th>\n",
       "      <td>3395572</td>\n",
       "      <td>6931</td>\n",
       "      <td>species</td>\n",
       "      <td>PC</td>\n",
       "      <td>1</td>\n",
       "      <td>1</td>\n",
       "      <td>1</td>\n",
       "      <td>1</td>\n",
       "      <td>5</td>\n",
       "      <td>1</td>\n",
       "      <td>0</td>\n",
       "      <td>0</td>\n",
       "      <td>code compliant; specified</td>\n",
       "    </tr>\n",
       "  </tbody>\n",
       "</table>\n",
       "<p>2631459 rows × 13 columns</p>\n",
       "</div>"
      ],
      "text/plain": [
       "          tax_id parent_tax_id          rank embl_code division_id  \\\n",
       "0              1             1       no rank       NaN           8   \n",
       "1              2        131567  superkingdom       NaN           0   \n",
       "2              6        335928         genus       NaN           0   \n",
       "3              7             6       species        AC           0   \n",
       "4              9         32199       species        BA           0   \n",
       "...          ...           ...           ...       ...         ...   \n",
       "2631454  3395349        177862       species        HF           1   \n",
       "2631455  3395364          1762       no rank       NaN           0   \n",
       "2631456  3395429       2627606       species        MS           4   \n",
       "2631457  3395432       2636820       species        PS           4   \n",
       "2631458  3395572          6931       species        PC           1   \n",
       "\n",
       "        inherited_div_flag genetic_code_id inherited_gc_flag  \\\n",
       "0                        0               1                 0   \n",
       "1                        0              11                 0   \n",
       "2                        1              11                 1   \n",
       "3                        1              11                 1   \n",
       "4                        1              11                 1   \n",
       "...                    ...             ...               ...   \n",
       "2631454                  1               1                 1   \n",
       "2631455                  1              11                 1   \n",
       "2631456                  1               1                 1   \n",
       "2631457                  1               1                 1   \n",
       "2631458                  1               1                 1   \n",
       "\n",
       "        mitochondrial_genetic_code_id inherited_mgc_flag genbank_hidden_flag  \\\n",
       "0                                   0                  0                   0   \n",
       "1                                   0                  0                   0   \n",
       "2                                   0                  1                   0   \n",
       "3                                   0                  1                   1   \n",
       "4                                   0                  1                   1   \n",
       "...                               ...                ...                 ...   \n",
       "2631454                             5                  1                   0   \n",
       "2631455                             0                  1                   0   \n",
       "2631456                             4                  1                   0   \n",
       "2631457                             4                  1                   0   \n",
       "2631458                             5                  1                   0   \n",
       "\n",
       "        hidden_subtree_root_flag                   comments  \n",
       "0                              0                             \n",
       "1                              0                             \n",
       "2                              0             code compliant  \n",
       "3                              0  code compliant; specified  \n",
       "4                              0  code compliant; specified  \n",
       "...                          ...                        ...  \n",
       "2631454                        0  code compliant; specified  \n",
       "2631455                        0                             \n",
       "2631456                        0                             \n",
       "2631457                        0                             \n",
       "2631458                        0  code compliant; specified  \n",
       "\n",
       "[2631459 rows x 13 columns]"
      ]
     },
     "execution_count": 4,
     "metadata": {},
     "output_type": "execute_result"
    }
   ],
   "source": [
    "import pandas as pd\n",
    "\n",
    "ncbi_nodes = pd.read_csv('ncbi_taxonomy/nodes.dmp', sep=r'\\t\\|\\t', header=None, engine='python', dtype=str)\n",
    "\n",
    "# Replace any instances of '\\t|' with an empty string\n",
    "ncbi_nodes = ncbi_nodes.replace(r'\\t\\|', '', regex=True)\n",
    "\n",
    "# Strip any leading or trailing whitespace from string columns\n",
    "ncbi_nodes = ncbi_nodes.apply(lambda x: x.str.strip() if x.dtype == \"object\" else x)\n",
    "\n",
    "# Assign column names based on the structure of nodes.dmp\n",
    "ncbi_nodes.columns = [\n",
    "    'tax_id', 'parent_tax_id', 'rank', 'embl_code', 'division_id',\n",
    "    'inherited_div_flag', 'genetic_code_id', 'inherited_gc_flag',\n",
    "    'mitochondrial_genetic_code_id', 'inherited_mgc_flag', 'genbank_hidden_flag',\n",
    "    'hidden_subtree_root_flag', 'comments'\n",
    "]\n",
    "\n",
    "# Display the resulting DataFrame\n",
    "ncbi_nodes"
   ]
  },
  {
   "cell_type": "markdown",
   "metadata": {},
   "source": [
    "Filter Bacteria"
   ]
  },
  {
   "cell_type": "code",
   "execution_count": 3,
   "metadata": {},
   "outputs": [
    {
     "data": {
      "application/vnd.microsoft.datawrangler.viewer.v0+json": {
       "columns": [
        {
         "name": "index",
         "rawType": "int64",
         "type": "integer"
        },
        {
         "name": "tax_id",
         "rawType": "object",
         "type": "string"
        },
        {
         "name": "parent_tax_id",
         "rawType": "object",
         "type": "string"
        },
        {
         "name": "rank",
         "rawType": "object",
         "type": "string"
        },
        {
         "name": "embl_code",
         "rawType": "object",
         "type": "unknown"
        },
        {
         "name": "division_id",
         "rawType": "object",
         "type": "string"
        },
        {
         "name": "inherited_div_flag",
         "rawType": "object",
         "type": "string"
        },
        {
         "name": "genetic_code_id",
         "rawType": "object",
         "type": "string"
        },
        {
         "name": "inherited_gc_flag",
         "rawType": "object",
         "type": "string"
        },
        {
         "name": "mitochondrial_genetic_code_id",
         "rawType": "object",
         "type": "string"
        },
        {
         "name": "inherited_mgc_flag",
         "rawType": "object",
         "type": "string"
        },
        {
         "name": "genbank_hidden_flag",
         "rawType": "object",
         "type": "string"
        },
        {
         "name": "hidden_subtree_root_flag",
         "rawType": "object",
         "type": "string"
        },
        {
         "name": "comments",
         "rawType": "object",
         "type": "string"
        }
       ],
       "conversionMethod": "pd.DataFrame",
       "ref": "3cff2977-5e27-4495-9194-2be2a19a83fc",
       "rows": [
        [
         "1",
         "2",
         "131567",
         "superkingdom",
         null,
         "0",
         "0",
         "11",
         "0",
         "0",
         "0",
         "0",
         "0",
         ""
        ],
        [
         "2",
         "6",
         "335928",
         "genus",
         null,
         "0",
         "1",
         "11",
         "1",
         "0",
         "1",
         "0",
         "0",
         "code compliant"
        ],
        [
         "3",
         "7",
         "6",
         "species",
         "AC",
         "0",
         "1",
         "11",
         "1",
         "0",
         "1",
         "1",
         "0",
         "code compliant; specified"
        ],
        [
         "4",
         "9",
         "32199",
         "species",
         "BA",
         "0",
         "1",
         "11",
         "1",
         "0",
         "1",
         "1",
         "0",
         "code compliant; specified"
        ],
        [
         "5",
         "10",
         "1706371",
         "genus",
         null,
         "0",
         "1",
         "11",
         "1",
         "0",
         "1",
         "0",
         "0",
         "code compliant"
        ],
        [
         "6",
         "11",
         "1707",
         "species",
         "CG",
         "0",
         "1",
         "11",
         "1",
         "0",
         "1",
         "1",
         "0",
         "effective current name;specified"
        ],
        [
         "7",
         "13",
         "203488",
         "genus",
         null,
         "0",
         "1",
         "11",
         "1",
         "0",
         "1",
         "0",
         "0",
         "code compliant"
        ],
        [
         "8",
         "14",
         "13",
         "species",
         "DT",
         "0",
         "1",
         "11",
         "1",
         "0",
         "1",
         "1",
         "0",
         "code compliant; specified"
        ],
        [
         "9",
         "16",
         "32011",
         "genus",
         null,
         "0",
         "1",
         "11",
         "1",
         "0",
         "1",
         "0",
         "0",
         "code compliant"
        ],
        [
         "10",
         "17",
         "16",
         "species",
         "MM",
         "0",
         "1",
         "11",
         "1",
         "0",
         "1",
         "1",
         "0",
         "code compliant; specified"
        ],
        [
         "11",
         "18",
         "213421",
         "genus",
         null,
         "0",
         "1",
         "11",
         "1",
         "0",
         "1",
         "0",
         "0",
         "code compliant"
        ],
        [
         "12",
         "19",
         "2812025",
         "species",
         "SC",
         "0",
         "1",
         "11",
         "1",
         "0",
         "1",
         "1",
         "0",
         "code compliant; specified"
        ],
        [
         "13",
         "20",
         "76892",
         "genus",
         null,
         "0",
         "1",
         "11",
         "1",
         "0",
         "1",
         "0",
         "0",
         "code compliant"
        ],
        [
         "14",
         "21",
         "20",
         "species",
         "PI",
         "0",
         "1",
         "11",
         "1",
         "0",
         "1",
         "1",
         "0",
         "code compliant; specified"
        ],
        [
         "15",
         "22",
         "267890",
         "genus",
         null,
         "0",
         "1",
         "11",
         "1",
         "0",
         "1",
         "0",
         "0",
         "code compliant"
        ],
        [
         "16",
         "23",
         "22",
         "species",
         "SC",
         "0",
         "1",
         "11",
         "1",
         "0",
         "1",
         "1",
         "0",
         "code compliant; specified"
        ],
        [
         "17",
         "24",
         "22",
         "species",
         "SP",
         "0",
         "1",
         "11",
         "1",
         "0",
         "1",
         "1",
         "0",
         "code compliant; specified"
        ],
        [
         "18",
         "25",
         "22",
         "species",
         "SH",
         "0",
         "1",
         "11",
         "1",
         "0",
         "1",
         "1",
         "0",
         "code compliant; specified"
        ],
        [
         "19",
         "27",
         "49928",
         "species",
         "HE",
         "0",
         "1",
         "11",
         "1",
         "0",
         "1",
         "1",
         "0",
         ""
        ],
        [
         "20",
         "28",
         "49928",
         "species",
         "HE",
         "0",
         "1",
         "11",
         "1",
         "0",
         "1",
         "1",
         "0",
         ""
        ],
        [
         "21",
         "29",
         "32015",
         "order",
         null,
         "0",
         "1",
         "11",
         "1",
         "0",
         "1",
         "0",
         "0",
         "code compliant"
        ],
        [
         "22",
         "31",
         "80811",
         "family",
         null,
         "0",
         "1",
         "11",
         "1",
         "0",
         "1",
         "0",
         "0",
         "code compliant"
        ],
        [
         "23",
         "32",
         "31",
         "genus",
         null,
         "0",
         "1",
         "11",
         "1",
         "0",
         "1",
         "0",
         "0",
         "code compliant"
        ],
        [
         "24",
         "33",
         "32",
         "species",
         "MF",
         "0",
         "1",
         "11",
         "1",
         "0",
         "1",
         "1",
         "0",
         "code compliant; specified"
        ],
        [
         "25",
         "34",
         "32",
         "species",
         "MX",
         "0",
         "1",
         "11",
         "1",
         "0",
         "1",
         "1",
         "0",
         "code compliant; specified"
        ],
        [
         "26",
         "35",
         "83461",
         "species",
         "CM",
         "0",
         "1",
         "11",
         "1",
         "0",
         "1",
         "1",
         "0",
         "code compliant; specified"
        ],
        [
         "27",
         "38",
         "47",
         "species",
         "AD",
         "0",
         "1",
         "11",
         "1",
         "0",
         "1",
         "1",
         "0",
         "code compliant; specified"
        ],
        [
         "28",
         "39",
         "80811",
         "family",
         null,
         "0",
         "1",
         "11",
         "1",
         "0",
         "1",
         "0",
         "0",
         "code compliant"
        ],
        [
         "29",
         "40",
         "39",
         "genus",
         null,
         "0",
         "1",
         "11",
         "1",
         "0",
         "1",
         "0",
         "0",
         "code compliant"
        ],
        [
         "30",
         "41",
         "40",
         "species",
         "SA",
         "0",
         "1",
         "11",
         "1",
         "0",
         "1",
         "1",
         "0",
         "code compliant; specified"
        ],
        [
         "31",
         "42",
         "39",
         "genus",
         null,
         "0",
         "1",
         "11",
         "1",
         "0",
         "1",
         "0",
         "0",
         "code compliant"
        ],
        [
         "32",
         "43",
         "42",
         "species",
         "CF",
         "0",
         "1",
         "11",
         "1",
         "0",
         "1",
         "1",
         "0",
         "code compliant; specified"
        ],
        [
         "33",
         "44",
         "39",
         "genus",
         null,
         "0",
         "1",
         "11",
         "1",
         "0",
         "1",
         "0",
         "0",
         "code compliant"
        ],
        [
         "34",
         "45",
         "44",
         "species",
         "ML",
         "0",
         "1",
         "11",
         "1",
         "0",
         "1",
         "1",
         "0",
         "code compliant; specified"
        ],
        [
         "35",
         "47",
         "39",
         "genus",
         null,
         "0",
         "1",
         "11",
         "1",
         "0",
         "1",
         "0",
         "0",
         "code compliant"
        ],
        [
         "36",
         "48",
         "47",
         "species",
         "AG",
         "0",
         "1",
         "11",
         "1",
         "0",
         "1",
         "1",
         "0",
         "code compliant; specified"
        ],
        [
         "37",
         "49",
         "3031712",
         "family",
         null,
         "0",
         "1",
         "11",
         "1",
         "0",
         "1",
         "0",
         "0",
         "code compliant"
        ],
        [
         "38",
         "50",
         "49",
         "genus",
         null,
         "0",
         "1",
         "11",
         "1",
         "0",
         "1",
         "0",
         "0",
         "code compliant"
        ],
        [
         "39",
         "51",
         "50",
         "species",
         "CA",
         "0",
         "1",
         "11",
         "1",
         "0",
         "1",
         "1",
         "0",
         "code compliant; specified"
        ],
        [
         "40",
         "52",
         "50",
         "species",
         "CC",
         "0",
         "1",
         "11",
         "1",
         "0",
         "1",
         "1",
         "0",
         "code compliant; specified"
        ],
        [
         "41",
         "53",
         "224463",
         "genus",
         null,
         "0",
         "1",
         "11",
         "1",
         "0",
         "1",
         "0",
         "0",
         "code compliant"
        ],
        [
         "42",
         "54",
         "53",
         "species",
         "NE",
         "0",
         "1",
         "11",
         "1",
         "0",
         "1",
         "1",
         "0",
         "code compliant; specified"
        ],
        [
         "43",
         "55",
         "49",
         "genus",
         null,
         "0",
         "1",
         "11",
         "1",
         "0",
         "1",
         "0",
         "0",
         "code compliant"
        ],
        [
         "44",
         "56",
         "39643",
         "species",
         "SC",
         "0",
         "1",
         "11",
         "1",
         "0",
         "1",
         "1",
         "0",
         "code compliant; specified"
        ],
        [
         "45",
         "57",
         "2649095",
         "species",
         "PS",
         "0",
         "1",
         "11",
         "1",
         "0",
         "1",
         "1",
         "0",
         ""
        ],
        [
         "46",
         "59",
         "481",
         "genus",
         null,
         "0",
         "1",
         "11",
         "1",
         "0",
         "1",
         "0",
         "0",
         "code compliant"
        ],
        [
         "47",
         "60",
         "2627922",
         "species",
         "VS",
         "0",
         "1",
         "11",
         "1",
         "0",
         "1",
         "1",
         "0",
         ""
        ],
        [
         "48",
         "61",
         "59",
         "species",
         "VS",
         "0",
         "1",
         "11",
         "1",
         "0",
         "1",
         "1",
         "0",
         "code compliant; specified"
        ],
        [
         "49",
         "62",
         "59",
         "species",
         "VB",
         "0",
         "1",
         "11",
         "1",
         "0",
         "1",
         "1",
         "0",
         "code compliant; specified"
        ],
        [
         "50",
         "63",
         "59",
         "species",
         "VF",
         "0",
         "1",
         "11",
         "1",
         "0",
         "1",
         "1",
         "0",
         "code compliant; specified"
        ]
       ],
       "shape": {
        "columns": 13,
        "rows": 538194
       }
      },
      "text/html": [
       "<div>\n",
       "<style scoped>\n",
       "    .dataframe tbody tr th:only-of-type {\n",
       "        vertical-align: middle;\n",
       "    }\n",
       "\n",
       "    .dataframe tbody tr th {\n",
       "        vertical-align: top;\n",
       "    }\n",
       "\n",
       "    .dataframe thead th {\n",
       "        text-align: right;\n",
       "    }\n",
       "</style>\n",
       "<table border=\"1\" class=\"dataframe\">\n",
       "  <thead>\n",
       "    <tr style=\"text-align: right;\">\n",
       "      <th></th>\n",
       "      <th>tax_id</th>\n",
       "      <th>parent_tax_id</th>\n",
       "      <th>rank</th>\n",
       "      <th>embl_code</th>\n",
       "      <th>division_id</th>\n",
       "      <th>inherited_div_flag</th>\n",
       "      <th>genetic_code_id</th>\n",
       "      <th>inherited_gc_flag</th>\n",
       "      <th>mitochondrial_genetic_code_id</th>\n",
       "      <th>inherited_mgc_flag</th>\n",
       "      <th>genbank_hidden_flag</th>\n",
       "      <th>hidden_subtree_root_flag</th>\n",
       "      <th>comments</th>\n",
       "    </tr>\n",
       "  </thead>\n",
       "  <tbody>\n",
       "    <tr>\n",
       "      <th>1</th>\n",
       "      <td>2</td>\n",
       "      <td>131567</td>\n",
       "      <td>superkingdom</td>\n",
       "      <td>NaN</td>\n",
       "      <td>0</td>\n",
       "      <td>0</td>\n",
       "      <td>11</td>\n",
       "      <td>0</td>\n",
       "      <td>0</td>\n",
       "      <td>0</td>\n",
       "      <td>0</td>\n",
       "      <td>0</td>\n",
       "      <td></td>\n",
       "    </tr>\n",
       "    <tr>\n",
       "      <th>2</th>\n",
       "      <td>6</td>\n",
       "      <td>335928</td>\n",
       "      <td>genus</td>\n",
       "      <td>NaN</td>\n",
       "      <td>0</td>\n",
       "      <td>1</td>\n",
       "      <td>11</td>\n",
       "      <td>1</td>\n",
       "      <td>0</td>\n",
       "      <td>1</td>\n",
       "      <td>0</td>\n",
       "      <td>0</td>\n",
       "      <td>code compliant</td>\n",
       "    </tr>\n",
       "    <tr>\n",
       "      <th>3</th>\n",
       "      <td>7</td>\n",
       "      <td>6</td>\n",
       "      <td>species</td>\n",
       "      <td>AC</td>\n",
       "      <td>0</td>\n",
       "      <td>1</td>\n",
       "      <td>11</td>\n",
       "      <td>1</td>\n",
       "      <td>0</td>\n",
       "      <td>1</td>\n",
       "      <td>1</td>\n",
       "      <td>0</td>\n",
       "      <td>code compliant; specified</td>\n",
       "    </tr>\n",
       "    <tr>\n",
       "      <th>4</th>\n",
       "      <td>9</td>\n",
       "      <td>32199</td>\n",
       "      <td>species</td>\n",
       "      <td>BA</td>\n",
       "      <td>0</td>\n",
       "      <td>1</td>\n",
       "      <td>11</td>\n",
       "      <td>1</td>\n",
       "      <td>0</td>\n",
       "      <td>1</td>\n",
       "      <td>1</td>\n",
       "      <td>0</td>\n",
       "      <td>code compliant; specified</td>\n",
       "    </tr>\n",
       "    <tr>\n",
       "      <th>5</th>\n",
       "      <td>10</td>\n",
       "      <td>1706371</td>\n",
       "      <td>genus</td>\n",
       "      <td>NaN</td>\n",
       "      <td>0</td>\n",
       "      <td>1</td>\n",
       "      <td>11</td>\n",
       "      <td>1</td>\n",
       "      <td>0</td>\n",
       "      <td>1</td>\n",
       "      <td>0</td>\n",
       "      <td>0</td>\n",
       "      <td>code compliant</td>\n",
       "    </tr>\n",
       "    <tr>\n",
       "      <th>...</th>\n",
       "      <td>...</td>\n",
       "      <td>...</td>\n",
       "      <td>...</td>\n",
       "      <td>...</td>\n",
       "      <td>...</td>\n",
       "      <td>...</td>\n",
       "      <td>...</td>\n",
       "      <td>...</td>\n",
       "      <td>...</td>\n",
       "      <td>...</td>\n",
       "      <td>...</td>\n",
       "      <td>...</td>\n",
       "      <td>...</td>\n",
       "    </tr>\n",
       "    <tr>\n",
       "      <th>2631366</th>\n",
       "      <td>3390202</td>\n",
       "      <td>338</td>\n",
       "      <td>species group</td>\n",
       "      <td>NaN</td>\n",
       "      <td>0</td>\n",
       "      <td>1</td>\n",
       "      <td>11</td>\n",
       "      <td>1</td>\n",
       "      <td>0</td>\n",
       "      <td>1</td>\n",
       "      <td>0</td>\n",
       "      <td>0</td>\n",
       "      <td></td>\n",
       "    </tr>\n",
       "    <tr>\n",
       "      <th>2631367</th>\n",
       "      <td>3390273</td>\n",
       "      <td>570</td>\n",
       "      <td>species group</td>\n",
       "      <td>NaN</td>\n",
       "      <td>0</td>\n",
       "      <td>1</td>\n",
       "      <td>11</td>\n",
       "      <td>1</td>\n",
       "      <td>0</td>\n",
       "      <td>1</td>\n",
       "      <td>0</td>\n",
       "      <td>0</td>\n",
       "      <td></td>\n",
       "    </tr>\n",
       "    <tr>\n",
       "      <th>2631421</th>\n",
       "      <td>3393498</td>\n",
       "      <td>670516</td>\n",
       "      <td>species</td>\n",
       "      <td>MR</td>\n",
       "      <td>0</td>\n",
       "      <td>1</td>\n",
       "      <td>11</td>\n",
       "      <td>1</td>\n",
       "      <td>0</td>\n",
       "      <td>1</td>\n",
       "      <td>0</td>\n",
       "      <td>0</td>\n",
       "      <td>specified</td>\n",
       "    </tr>\n",
       "    <tr>\n",
       "      <th>2631424</th>\n",
       "      <td>3393728</td>\n",
       "      <td>216572</td>\n",
       "      <td>genus</td>\n",
       "      <td>NaN</td>\n",
       "      <td>0</td>\n",
       "      <td>1</td>\n",
       "      <td>11</td>\n",
       "      <td>1</td>\n",
       "      <td>0</td>\n",
       "      <td>1</td>\n",
       "      <td>0</td>\n",
       "      <td>0</td>\n",
       "      <td>code compliant</td>\n",
       "    </tr>\n",
       "    <tr>\n",
       "      <th>2631455</th>\n",
       "      <td>3395364</td>\n",
       "      <td>1762</td>\n",
       "      <td>no rank</td>\n",
       "      <td>NaN</td>\n",
       "      <td>0</td>\n",
       "      <td>1</td>\n",
       "      <td>11</td>\n",
       "      <td>1</td>\n",
       "      <td>0</td>\n",
       "      <td>1</td>\n",
       "      <td>0</td>\n",
       "      <td>0</td>\n",
       "      <td></td>\n",
       "    </tr>\n",
       "  </tbody>\n",
       "</table>\n",
       "<p>538194 rows × 13 columns</p>\n",
       "</div>"
      ],
      "text/plain": [
       "          tax_id parent_tax_id           rank embl_code division_id  \\\n",
       "1              2        131567   superkingdom       NaN           0   \n",
       "2              6        335928          genus       NaN           0   \n",
       "3              7             6        species        AC           0   \n",
       "4              9         32199        species        BA           0   \n",
       "5             10       1706371          genus       NaN           0   \n",
       "...          ...           ...            ...       ...         ...   \n",
       "2631366  3390202           338  species group       NaN           0   \n",
       "2631367  3390273           570  species group       NaN           0   \n",
       "2631421  3393498        670516        species        MR           0   \n",
       "2631424  3393728        216572          genus       NaN           0   \n",
       "2631455  3395364          1762        no rank       NaN           0   \n",
       "\n",
       "        inherited_div_flag genetic_code_id inherited_gc_flag  \\\n",
       "1                        0              11                 0   \n",
       "2                        1              11                 1   \n",
       "3                        1              11                 1   \n",
       "4                        1              11                 1   \n",
       "5                        1              11                 1   \n",
       "...                    ...             ...               ...   \n",
       "2631366                  1              11                 1   \n",
       "2631367                  1              11                 1   \n",
       "2631421                  1              11                 1   \n",
       "2631424                  1              11                 1   \n",
       "2631455                  1              11                 1   \n",
       "\n",
       "        mitochondrial_genetic_code_id inherited_mgc_flag genbank_hidden_flag  \\\n",
       "1                                   0                  0                   0   \n",
       "2                                   0                  1                   0   \n",
       "3                                   0                  1                   1   \n",
       "4                                   0                  1                   1   \n",
       "5                                   0                  1                   0   \n",
       "...                               ...                ...                 ...   \n",
       "2631366                             0                  1                   0   \n",
       "2631367                             0                  1                   0   \n",
       "2631421                             0                  1                   0   \n",
       "2631424                             0                  1                   0   \n",
       "2631455                             0                  1                   0   \n",
       "\n",
       "        hidden_subtree_root_flag                   comments  \n",
       "1                              0                             \n",
       "2                              0             code compliant  \n",
       "3                              0  code compliant; specified  \n",
       "4                              0  code compliant; specified  \n",
       "5                              0             code compliant  \n",
       "...                          ...                        ...  \n",
       "2631366                        0                             \n",
       "2631367                        0                             \n",
       "2631421                        0                  specified  \n",
       "2631424                        0             code compliant  \n",
       "2631455                        0                             \n",
       "\n",
       "[538194 rows x 13 columns]"
      ]
     },
     "execution_count": 3,
     "metadata": {},
     "output_type": "execute_result"
    }
   ],
   "source": [
    "ncbi_nodes['division_id'] = ncbi_nodes['division_id'].astype(str)\n",
    "ncbi_nodes_filter = ncbi_nodes[(ncbi_nodes['division_id'] == '0')]\n",
    "ncbi_nodes_filter"
   ]
  },
  {
   "cell_type": "code",
   "execution_count": 4,
   "metadata": {},
   "outputs": [
    {
     "name": "stderr",
     "output_type": "stream",
     "text": [
      "C:\\Users\\shunn\\AppData\\Local\\Temp\\ipykernel_24848\\856199458.py:1: ParserWarning: Falling back to the 'python' engine because the 'c' engine does not support regex separators (separators > 1 char and different from '\\s+' are interpreted as regex); you can avoid this warning by specifying engine='python'.\n",
      "  ncbi_taxonomy = pd.read_csv('ncbi_taxonomy/names.dmp', sep=r'\\t\\|\\t', header=None, dtype=str)\n"
     ]
    },
    {
     "data": {
      "application/vnd.microsoft.datawrangler.viewer.v0+json": {
       "columns": [
        {
         "name": "index",
         "rawType": "int64",
         "type": "integer"
        },
        {
         "name": "tax_id",
         "rawType": "object",
         "type": "string"
        },
        {
         "name": "name_txt",
         "rawType": "object",
         "type": "string"
        },
        {
         "name": "unique_name",
         "rawType": "object",
         "type": "unknown"
        },
        {
         "name": "name_class",
         "rawType": "object",
         "type": "string"
        }
       ],
       "conversionMethod": "pd.DataFrame",
       "ref": "0d68805f-40d2-488a-93e2-09638dc07796",
       "rows": [
        [
         "0",
         "1",
         "all",
         null,
         "synonym"
        ],
        [
         "1",
         "1",
         "root",
         null,
         "scientific name"
        ],
        [
         "2",
         "2",
         "Bacteria",
         "Bacteria <bacteria>",
         "scientific name"
        ],
        [
         "3",
         "2",
         "bacteria",
         null,
         "blast name"
        ],
        [
         "4",
         "2",
         "\"Bacteria\" Cavalier-Smith 1987",
         null,
         "authority"
        ],
        [
         "5",
         "2",
         "Bacteria (ex Cavalier-Smith 1987)",
         null,
         "synonym"
        ],
        [
         "6",
         "2",
         "Bacteria Woese et al. 2024",
         null,
         "synonym"
        ],
        [
         "7",
         "2",
         "\"Bacteriobiota\" Luketa 2012",
         null,
         "authority"
        ],
        [
         "8",
         "2",
         "Bacteriobiota",
         null,
         "synonym"
        ],
        [
         "9",
         "2",
         "eubacteria",
         null,
         "genbank common name"
        ],
        [
         "10",
         "2",
         "Monera",
         "Monera <bacteria>",
         "in-part"
        ],
        [
         "11",
         "2",
         "Procaryotae",
         "Procaryotae <bacteria>",
         "in-part"
        ],
        [
         "12",
         "2",
         "Prokaryotae",
         "Prokaryotae <bacteria>",
         "in-part"
        ],
        [
         "13",
         "2",
         "Prokaryota",
         "Prokaryota <bacteria>",
         "in-part"
        ],
        [
         "14",
         "2",
         "prokaryote",
         "prokaryote <bacteria>",
         "in-part"
        ],
        [
         "15",
         "2",
         "prokaryotes",
         "prokaryotes <bacteria>",
         "in-part"
        ],
        [
         "16",
         "6",
         "Azorhizobium Dreyfus et al. 1988 emend. Lang et al. 2013",
         null,
         "authority"
        ],
        [
         "17",
         "6",
         "Azorhizobium",
         null,
         "scientific name"
        ],
        [
         "18",
         "7",
         "ATCC 43989",
         "ATCC 43989 <type strain>",
         "type material"
        ],
        [
         "19",
         "7",
         "Azorhizobium caulinodans Dreyfus et al. 1988",
         null,
         "authority"
        ],
        [
         "20",
         "7",
         "Azorhizobium caulinodans",
         null,
         "scientific name"
        ],
        [
         "21",
         "7",
         "Azotirhizobium caulinodans",
         null,
         "equivalent name"
        ],
        [
         "22",
         "7",
         "CCUG 26647",
         "CCUG 26647 <type strain>",
         "type material"
        ],
        [
         "23",
         "7",
         "DSM 5975",
         "DSM 5975 <type strain>",
         "type material"
        ],
        [
         "24",
         "7",
         "IFO 14845",
         "IFO 14845 <type strain>",
         "type material"
        ],
        [
         "25",
         "7",
         "JCM 20966",
         "JCM 20966 <type strain>",
         "type material"
        ],
        [
         "26",
         "7",
         "LMG 6465",
         "LMG 6465 <type strain>",
         "type material"
        ],
        [
         "27",
         "7",
         "LMG:6465",
         "LMG:6465 <type strain>",
         "type material"
        ],
        [
         "28",
         "7",
         "NBRC 14845",
         "NBRC 14845 <type strain>",
         "type material"
        ],
        [
         "29",
         "7",
         "ORS 571",
         "ORS 571 <type strain>",
         "type material"
        ],
        [
         "30",
         "9",
         "Acyrthosiphon pisum symbiont P",
         null,
         "includes"
        ],
        [
         "31",
         "9",
         "Buchnera aphidicola Munson et al. 1991",
         null,
         "authority"
        ],
        [
         "32",
         "9",
         "Buchnera aphidicola",
         null,
         "scientific name"
        ],
        [
         "33",
         "9",
         "primary endosymbiont of Schizaphis graminum",
         null,
         "includes"
        ],
        [
         "34",
         "9",
         "strain Sg (ex Schizaphis graminum)",
         "strain Sg (ex Schizaphis graminum) <type strain>",
         "type material"
        ],
        [
         "35",
         "10",
         "Cellvibrio (ex Winogradsky 1929) Blackall et al. 1986 emend. Humphry et al. 2003",
         null,
         "authority"
        ],
        [
         "36",
         "10",
         "Cellvibrio (ex Winogradsky 1929) Blackall et al. 1986 emend. Suarez et al. 2014",
         null,
         "authority"
        ],
        [
         "37",
         "10",
         "Cellvibrio",
         null,
         "scientific name"
        ],
        [
         "38",
         "10",
         "\"Cellvibrio\" Winogradsky 1929",
         null,
         "authority"
        ],
        [
         "39",
         "11",
         "ATCC 13127",
         "ATCC 13127 <type strain>",
         "type material"
        ],
        [
         "40",
         "11",
         "\"Cellulomonas gilvus\" (Hulcher and King 1958) Christopherson et al. 2013",
         null,
         "authority"
        ],
        [
         "41",
         "11",
         "Cellulomonas gilvus",
         null,
         "scientific name"
        ],
        [
         "42",
         "11",
         "\"Cellvibrio gilvus\" Hulcher and King 1958",
         null,
         "authority"
        ],
        [
         "43",
         "11",
         "Cellvibrio gilvus",
         null,
         "synonym"
        ],
        [
         "44",
         "11",
         "culture-collection:NRRL:B:14078",
         "culture-collection:NRRL:B:14078 <type strain>",
         "type material"
        ],
        [
         "45",
         "11",
         "NRRL B-14078",
         "NRRL B-14078 <type strain>",
         "type material"
        ],
        [
         "46",
         "13",
         "Dictyoglomus Saiki et al. 1985",
         null,
         "authority"
        ],
        [
         "47",
         "13",
         "Dictyoglomus",
         null,
         "scientific name"
        ],
        [
         "48",
         "14",
         "ATCC 35947",
         "ATCC 35947 <type strain>",
         "type material"
        ],
        [
         "49",
         "14",
         "Dictyoglomus sp. Rt46-B1",
         null,
         "includes"
        ]
       ],
       "shape": {
        "columns": 4,
        "rows": 4296835
       }
      },
      "text/html": [
       "<div>\n",
       "<style scoped>\n",
       "    .dataframe tbody tr th:only-of-type {\n",
       "        vertical-align: middle;\n",
       "    }\n",
       "\n",
       "    .dataframe tbody tr th {\n",
       "        vertical-align: top;\n",
       "    }\n",
       "\n",
       "    .dataframe thead th {\n",
       "        text-align: right;\n",
       "    }\n",
       "</style>\n",
       "<table border=\"1\" class=\"dataframe\">\n",
       "  <thead>\n",
       "    <tr style=\"text-align: right;\">\n",
       "      <th></th>\n",
       "      <th>tax_id</th>\n",
       "      <th>name_txt</th>\n",
       "      <th>unique_name</th>\n",
       "      <th>name_class</th>\n",
       "    </tr>\n",
       "  </thead>\n",
       "  <tbody>\n",
       "    <tr>\n",
       "      <th>0</th>\n",
       "      <td>1</td>\n",
       "      <td>all</td>\n",
       "      <td>NaN</td>\n",
       "      <td>synonym</td>\n",
       "    </tr>\n",
       "    <tr>\n",
       "      <th>1</th>\n",
       "      <td>1</td>\n",
       "      <td>root</td>\n",
       "      <td>NaN</td>\n",
       "      <td>scientific name</td>\n",
       "    </tr>\n",
       "    <tr>\n",
       "      <th>2</th>\n",
       "      <td>2</td>\n",
       "      <td>Bacteria</td>\n",
       "      <td>Bacteria &lt;bacteria&gt;</td>\n",
       "      <td>scientific name</td>\n",
       "    </tr>\n",
       "    <tr>\n",
       "      <th>3</th>\n",
       "      <td>2</td>\n",
       "      <td>bacteria</td>\n",
       "      <td>NaN</td>\n",
       "      <td>blast name</td>\n",
       "    </tr>\n",
       "    <tr>\n",
       "      <th>4</th>\n",
       "      <td>2</td>\n",
       "      <td>\"Bacteria\" Cavalier-Smith 1987</td>\n",
       "      <td>NaN</td>\n",
       "      <td>authority</td>\n",
       "    </tr>\n",
       "    <tr>\n",
       "      <th>...</th>\n",
       "      <td>...</td>\n",
       "      <td>...</td>\n",
       "      <td>...</td>\n",
       "      <td>...</td>\n",
       "    </tr>\n",
       "    <tr>\n",
       "      <th>4296830</th>\n",
       "      <td>3395432</td>\n",
       "      <td>Pholiotina sp. TAC1682a</td>\n",
       "      <td>NaN</td>\n",
       "      <td>synonym</td>\n",
       "    </tr>\n",
       "    <tr>\n",
       "      <th>4296831</th>\n",
       "      <td>3395572</td>\n",
       "      <td>Pholcus ceylonicus Pickard-Cambridge, 1869</td>\n",
       "      <td>NaN</td>\n",
       "      <td>authority</td>\n",
       "    </tr>\n",
       "    <tr>\n",
       "      <th>4296832</th>\n",
       "      <td>3395572</td>\n",
       "      <td>Pholcus ceylonicus</td>\n",
       "      <td>NaN</td>\n",
       "      <td>scientific name</td>\n",
       "    </tr>\n",
       "    <tr>\n",
       "      <th>4296833</th>\n",
       "      <td>3395572</td>\n",
       "      <td>Sihala ceylonica (Pickard-Cambridge, 1869)</td>\n",
       "      <td>NaN</td>\n",
       "      <td>authority</td>\n",
       "    </tr>\n",
       "    <tr>\n",
       "      <th>4296834</th>\n",
       "      <td>3395572</td>\n",
       "      <td>Sihala ceylonica</td>\n",
       "      <td>NaN</td>\n",
       "      <td>synonym</td>\n",
       "    </tr>\n",
       "  </tbody>\n",
       "</table>\n",
       "<p>4296835 rows × 4 columns</p>\n",
       "</div>"
      ],
      "text/plain": [
       "          tax_id                                    name_txt  \\\n",
       "0              1                                         all   \n",
       "1              1                                        root   \n",
       "2              2                                    Bacteria   \n",
       "3              2                                    bacteria   \n",
       "4              2              \"Bacteria\" Cavalier-Smith 1987   \n",
       "...          ...                                         ...   \n",
       "4296830  3395432                     Pholiotina sp. TAC1682a   \n",
       "4296831  3395572  Pholcus ceylonicus Pickard-Cambridge, 1869   \n",
       "4296832  3395572                          Pholcus ceylonicus   \n",
       "4296833  3395572  Sihala ceylonica (Pickard-Cambridge, 1869)   \n",
       "4296834  3395572                            Sihala ceylonica   \n",
       "\n",
       "                 unique_name       name_class  \n",
       "0                        NaN          synonym  \n",
       "1                        NaN  scientific name  \n",
       "2        Bacteria <bacteria>  scientific name  \n",
       "3                        NaN       blast name  \n",
       "4                        NaN        authority  \n",
       "...                      ...              ...  \n",
       "4296830                  NaN          synonym  \n",
       "4296831                  NaN        authority  \n",
       "4296832                  NaN  scientific name  \n",
       "4296833                  NaN        authority  \n",
       "4296834                  NaN          synonym  \n",
       "\n",
       "[4296835 rows x 4 columns]"
      ]
     },
     "execution_count": 4,
     "metadata": {},
     "output_type": "execute_result"
    }
   ],
   "source": [
    "ncbi_taxonomy = pd.read_csv('ncbi_taxonomy/names.dmp', sep=r'\\t\\|\\t', header=None, dtype=str)\n",
    "ncbi_taxonomy = ncbi_taxonomy.replace(r'\\t\\|', '', regex=True)\n",
    "ncbi_taxonomy = ncbi_taxonomy.apply(lambda x: x.str.strip() if x.dtype == \"object\" else x)\n",
    "ncbi_taxonomy.columns = ['tax_id', 'name_txt', 'unique_name', 'name_class']\n",
    "ncbi_taxonomy"
   ]
  },
  {
   "cell_type": "code",
   "execution_count": 5,
   "metadata": {},
   "outputs": [
    {
     "data": {
      "application/vnd.microsoft.datawrangler.viewer.v0+json": {
       "columns": [
        {
         "name": "index",
         "rawType": "int64",
         "type": "integer"
        },
        {
         "name": "tax_id",
         "rawType": "object",
         "type": "string"
        },
        {
         "name": "name_txt",
         "rawType": "object",
         "type": "string"
        }
       ],
       "conversionMethod": "pd.DataFrame",
       "ref": "09c11153-fc46-4da9-9423-942da26484ed",
       "rows": [
        [
         "0",
         "2",
         "Bacteria"
        ],
        [
         "1",
         "6",
         "Azorhizobium"
        ],
        [
         "2",
         "7",
         "Azorhizobium caulinodans"
        ],
        [
         "3",
         "9",
         "Buchnera aphidicola"
        ],
        [
         "4",
         "10",
         "Cellvibrio"
        ],
        [
         "5",
         "11",
         "Cellulomonas gilvus"
        ],
        [
         "6",
         "13",
         "Dictyoglomus"
        ],
        [
         "7",
         "14",
         "Dictyoglomus thermophilum"
        ],
        [
         "8",
         "16",
         "Methylophilus"
        ],
        [
         "9",
         "17",
         "Methylophilus methylotrophus"
        ],
        [
         "10",
         "18",
         "Pelobacter"
        ],
        [
         "11",
         "19",
         "Syntrophotalea carbinolica"
        ],
        [
         "12",
         "20",
         "Phenylobacterium"
        ],
        [
         "13",
         "21",
         "Phenylobacterium immobile"
        ],
        [
         "14",
         "22",
         "Shewanella"
        ],
        [
         "15",
         "23",
         "Shewanella colwelliana"
        ],
        [
         "16",
         "24",
         "Shewanella putrefaciens"
        ],
        [
         "17",
         "25",
         "Shewanella hanedai"
        ],
        [
         "18",
         "27",
         "halophilic eubacterium NRCC 41227"
        ],
        [
         "19",
         "28",
         "halophilic eubacterium"
        ],
        [
         "20",
         "29",
         "Myxococcales"
        ],
        [
         "21",
         "31",
         "Myxococcaceae"
        ],
        [
         "22",
         "32",
         "Myxococcus"
        ],
        [
         "23",
         "33",
         "Myxococcus fulvus"
        ],
        [
         "24",
         "34",
         "Myxococcus xanthus"
        ],
        [
         "25",
         "35",
         "Corallococcus macrosporus"
        ],
        [
         "26",
         "38",
         "Archangium disciforme"
        ],
        [
         "27",
         "39",
         "Archangiaceae"
        ],
        [
         "28",
         "40",
         "Stigmatella"
        ],
        [
         "29",
         "41",
         "Stigmatella aurantiaca"
        ],
        [
         "30",
         "42",
         "Cystobacter"
        ],
        [
         "31",
         "43",
         "Cystobacter fuscus"
        ],
        [
         "32",
         "44",
         "Melittangium"
        ],
        [
         "33",
         "45",
         "Melittangium lichenicola"
        ],
        [
         "34",
         "47",
         "Archangium"
        ],
        [
         "35",
         "48",
         "Archangium gephyra"
        ],
        [
         "36",
         "49",
         "Polyangiaceae"
        ],
        [
         "37",
         "50",
         "Chondromyces"
        ],
        [
         "38",
         "51",
         "Chondromyces apiculatus"
        ],
        [
         "39",
         "52",
         "Chondromyces crocatus"
        ],
        [
         "40",
         "53",
         "Nannocystis"
        ],
        [
         "41",
         "54",
         "Nannocystis exedens"
        ],
        [
         "42",
         "55",
         "Polyangium"
        ],
        [
         "43",
         "56",
         "Sorangium cellulosum"
        ],
        [
         "44",
         "57",
         "Polyangium sp."
        ],
        [
         "45",
         "59",
         "Vitreoscilla"
        ],
        [
         "46",
         "60",
         "Vitreoscilla sp."
        ],
        [
         "47",
         "61",
         "Vitreoscilla stercoraria"
        ],
        [
         "48",
         "62",
         "Vitreoscilla beggiatoides"
        ],
        [
         "49",
         "63",
         "Vitreoscilla filiformis"
        ]
       ],
       "shape": {
        "columns": 2,
        "rows": 538194
       }
      },
      "text/html": [
       "<div>\n",
       "<style scoped>\n",
       "    .dataframe tbody tr th:only-of-type {\n",
       "        vertical-align: middle;\n",
       "    }\n",
       "\n",
       "    .dataframe tbody tr th {\n",
       "        vertical-align: top;\n",
       "    }\n",
       "\n",
       "    .dataframe thead th {\n",
       "        text-align: right;\n",
       "    }\n",
       "</style>\n",
       "<table border=\"1\" class=\"dataframe\">\n",
       "  <thead>\n",
       "    <tr style=\"text-align: right;\">\n",
       "      <th></th>\n",
       "      <th>tax_id</th>\n",
       "      <th>name_txt</th>\n",
       "    </tr>\n",
       "  </thead>\n",
       "  <tbody>\n",
       "    <tr>\n",
       "      <th>0</th>\n",
       "      <td>2</td>\n",
       "      <td>Bacteria</td>\n",
       "    </tr>\n",
       "    <tr>\n",
       "      <th>1</th>\n",
       "      <td>6</td>\n",
       "      <td>Azorhizobium</td>\n",
       "    </tr>\n",
       "    <tr>\n",
       "      <th>2</th>\n",
       "      <td>7</td>\n",
       "      <td>Azorhizobium caulinodans</td>\n",
       "    </tr>\n",
       "    <tr>\n",
       "      <th>3</th>\n",
       "      <td>9</td>\n",
       "      <td>Buchnera aphidicola</td>\n",
       "    </tr>\n",
       "    <tr>\n",
       "      <th>4</th>\n",
       "      <td>10</td>\n",
       "      <td>Cellvibrio</td>\n",
       "    </tr>\n",
       "    <tr>\n",
       "      <th>...</th>\n",
       "      <td>...</td>\n",
       "      <td>...</td>\n",
       "    </tr>\n",
       "    <tr>\n",
       "      <th>538189</th>\n",
       "      <td>3390202</td>\n",
       "      <td>Xanthomonas translucens group</td>\n",
       "    </tr>\n",
       "    <tr>\n",
       "      <th>538190</th>\n",
       "      <td>3390273</td>\n",
       "      <td>Klebsiella pneumoniae complex</td>\n",
       "    </tr>\n",
       "    <tr>\n",
       "      <th>538191</th>\n",
       "      <td>3393498</td>\n",
       "      <td>[Mycobacterium] runyonii</td>\n",
       "    </tr>\n",
       "    <tr>\n",
       "      <th>538192</th>\n",
       "      <td>3393728</td>\n",
       "      <td>Owariibacterium</td>\n",
       "    </tr>\n",
       "    <tr>\n",
       "      <th>538193</th>\n",
       "      <td>3395364</td>\n",
       "      <td>Mycobacteriaceae incertae sedis</td>\n",
       "    </tr>\n",
       "  </tbody>\n",
       "</table>\n",
       "<p>538194 rows × 2 columns</p>\n",
       "</div>"
      ],
      "text/plain": [
       "         tax_id                         name_txt\n",
       "0             2                         Bacteria\n",
       "1             6                     Azorhizobium\n",
       "2             7         Azorhizobium caulinodans\n",
       "3             9              Buchnera aphidicola\n",
       "4            10                       Cellvibrio\n",
       "...         ...                              ...\n",
       "538189  3390202    Xanthomonas translucens group\n",
       "538190  3390273    Klebsiella pneumoniae complex\n",
       "538191  3393498         [Mycobacterium] runyonii\n",
       "538192  3393728                  Owariibacterium\n",
       "538193  3395364  Mycobacteriaceae incertae sedis\n",
       "\n",
       "[538194 rows x 2 columns]"
      ]
     },
     "execution_count": 5,
     "metadata": {},
     "output_type": "execute_result"
    }
   ],
   "source": [
    "ncbi_taxonomy_filter = ncbi_taxonomy[ncbi_taxonomy['name_class'] == 'scientific name']\n",
    "\n",
    "ncbi_taxonomy_final = ncbi_taxonomy_filter[['tax_id', 'name_txt']]\n",
    "ncbi_taxonomy_final = ncbi_taxonomy_final[ncbi_taxonomy_final['tax_id'].isin(ncbi_nodes_filter['tax_id'])]\n",
    "ncbi_taxonomy_final.drop_duplicates(inplace=True)\n",
    "ncbi_taxonomy_final.reset_index(drop=True, inplace=True)\n",
    "ncbi_taxonomy_final"
   ]
  },
  {
   "cell_type": "markdown",
   "metadata": {},
   "source": [
    "### 2.2 SILVA"
   ]
  },
  {
   "cell_type": "markdown",
   "metadata": {},
   "source": [
    "lsu id"
   ]
  },
  {
   "cell_type": "code",
   "execution_count": 6,
   "metadata": {},
   "outputs": [
    {
     "name": "stderr",
     "output_type": "stream",
     "text": [
      "C:\\Users\\shunn\\AppData\\Local\\Temp\\ipykernel_24848\\3726548063.py:3: SettingWithCopyWarning: \n",
      "A value is trying to be set on a copy of a slice from a DataFrame\n",
      "\n",
      "See the caveats in the documentation: https://pandas.pydata.org/pandas-docs/stable/user_guide/indexing.html#returning-a-view-versus-a-copy\n",
      "  silva_lsu_final.drop_duplicates(inplace=True)\n",
      "C:\\Users\\shunn\\AppData\\Local\\Temp\\ipykernel_24848\\3726548063.py:5: SettingWithCopyWarning: \n",
      "A value is trying to be set on a copy of a slice from a DataFrame\n",
      "\n",
      "See the caveats in the documentation: https://pandas.pydata.org/pandas-docs/stable/user_guide/indexing.html#returning-a-view-versus-a-copy\n",
      "  silva_lsu_final.rename(columns={'primaryAccession': 'silva_id'}, inplace=True)\n"
     ]
    },
    {
     "data": {
      "application/vnd.microsoft.datawrangler.viewer.v0+json": {
       "columns": [
        {
         "name": "index",
         "rawType": "int64",
         "type": "integer"
        },
        {
         "name": "silva_id",
         "rawType": "object",
         "type": "string"
        },
        {
         "name": "ncbi_taxonid",
         "rawType": "int64",
         "type": "integer"
        }
       ],
       "conversionMethod": "pd.DataFrame",
       "ref": "0d2e95e6-4d0b-4e8a-8290-dfbf9732de29",
       "rows": [
        [
         "0",
         "AY835431",
         "160070"
        ],
        [
         "1",
         "MF351708",
         "199"
        ],
        [
         "2",
         "AB003380",
         "833"
        ],
        [
         "3",
         "AC016828",
         "3702"
        ],
        [
         "4",
         "AB000109",
         "44689"
        ],
        [
         "5",
         "EA111229",
         "32644"
        ],
        [
         "6",
         "MI369377",
         "32644"
        ],
        [
         "7",
         "AC152108",
         "4924"
        ],
        [
         "8",
         "AB001684",
         "3077"
        ],
        [
         "9",
         "GZ772340",
         "32644"
        ],
        [
         "10",
         "A82710",
         "813"
        ],
        [
         "11",
         "MH654823",
         "332213"
        ],
        [
         "12",
         "BH771024",
         "416870"
        ],
        [
         "13",
         "BK000964",
         "10090"
        ],
        [
         "14",
         "GZ772341",
         "32644"
        ],
        [
         "15",
         "GZ772342",
         "32644"
        ],
        [
         "16",
         "GZ772343",
         "32644"
        ],
        [
         "17",
         "LT941842",
         "3702"
        ],
        [
         "18",
         "AC200763",
         "138073"
        ],
        [
         "19",
         "LK021130",
         "55601"
        ],
        [
         "20",
         "HA521593",
         "4932"
        ],
        [
         "21",
         "KU242428",
         "267362"
        ],
        [
         "22",
         "CP012870",
         "562"
        ],
        [
         "23",
         "AX025551",
         "1764"
        ],
        [
         "24",
         "HG530068",
         "1407059"
        ],
        [
         "25",
         "GZ793590",
         "32644"
        ],
        [
         "26",
         "AX025552",
         "1764"
        ],
        [
         "27",
         "FN822744",
         "762550"
        ],
        [
         "28",
         "AX025553",
         "1764"
        ],
        [
         "29",
         "AX025554",
         "1764"
        ],
        [
         "30",
         "AC256487",
         "112509"
        ],
        [
         "31",
         "AX025555",
         "1764"
        ],
        [
         "32",
         "AX025556",
         "1764"
        ],
        [
         "33",
         "AC233788",
         "4577"
        ],
        [
         "34",
         "GZ794525",
         "32644"
        ],
        [
         "35",
         "AX025558",
         "1764"
        ],
        [
         "36",
         "AX025559",
         "1764"
        ],
        [
         "37",
         "AY214600",
         "114706"
        ],
        [
         "38",
         "AX025560",
         "1764"
        ],
        [
         "39",
         "AC152122",
         "4924"
        ],
        [
         "40",
         "HA521598",
         "4932"
        ],
        [
         "41",
         "AK286061",
         "3847"
        ],
        [
         "42",
         "AC166539",
         "140110"
        ],
        [
         "43",
         "HA521602",
         "4932"
        ],
        [
         "44",
         "AR804633",
         "32644"
        ],
        [
         "45",
         "HA521604",
         "4932"
        ],
        [
         "46",
         "HA521606",
         "4932"
        ],
        [
         "47",
         "AK405815",
         "7091"
        ],
        [
         "48",
         "AX025561",
         "1764"
        ],
        [
         "49",
         "AX023546",
         "32630"
        ]
       ],
       "shape": {
        "columns": 2,
        "rows": 157873
       }
      },
      "text/html": [
       "<div>\n",
       "<style scoped>\n",
       "    .dataframe tbody tr th:only-of-type {\n",
       "        vertical-align: middle;\n",
       "    }\n",
       "\n",
       "    .dataframe tbody tr th {\n",
       "        vertical-align: top;\n",
       "    }\n",
       "\n",
       "    .dataframe thead th {\n",
       "        text-align: right;\n",
       "    }\n",
       "</style>\n",
       "<table border=\"1\" class=\"dataframe\">\n",
       "  <thead>\n",
       "    <tr style=\"text-align: right;\">\n",
       "      <th></th>\n",
       "      <th>silva_id</th>\n",
       "      <th>ncbi_taxonid</th>\n",
       "    </tr>\n",
       "  </thead>\n",
       "  <tbody>\n",
       "    <tr>\n",
       "      <th>0</th>\n",
       "      <td>AY835431</td>\n",
       "      <td>160070</td>\n",
       "    </tr>\n",
       "    <tr>\n",
       "      <th>1</th>\n",
       "      <td>MF351708</td>\n",
       "      <td>199</td>\n",
       "    </tr>\n",
       "    <tr>\n",
       "      <th>2</th>\n",
       "      <td>AB003380</td>\n",
       "      <td>833</td>\n",
       "    </tr>\n",
       "    <tr>\n",
       "      <th>3</th>\n",
       "      <td>AC016828</td>\n",
       "      <td>3702</td>\n",
       "    </tr>\n",
       "    <tr>\n",
       "      <th>4</th>\n",
       "      <td>AB000109</td>\n",
       "      <td>44689</td>\n",
       "    </tr>\n",
       "    <tr>\n",
       "      <th>...</th>\n",
       "      <td>...</td>\n",
       "      <td>...</td>\n",
       "    </tr>\n",
       "    <tr>\n",
       "      <th>157868</th>\n",
       "      <td>DQ682621</td>\n",
       "      <td>622</td>\n",
       "    </tr>\n",
       "    <tr>\n",
       "      <th>157869</th>\n",
       "      <td>DQ682622</td>\n",
       "      <td>623</td>\n",
       "    </tr>\n",
       "    <tr>\n",
       "      <th>157870</th>\n",
       "      <td>DQ682623</td>\n",
       "      <td>624</td>\n",
       "    </tr>\n",
       "    <tr>\n",
       "      <th>157871</th>\n",
       "      <td>DQ813266</td>\n",
       "      <td>28110</td>\n",
       "    </tr>\n",
       "    <tr>\n",
       "      <th>157872</th>\n",
       "      <td>CRLF01000008</td>\n",
       "      <td>1313</td>\n",
       "    </tr>\n",
       "  </tbody>\n",
       "</table>\n",
       "<p>157873 rows × 2 columns</p>\n",
       "</div>"
      ],
      "text/plain": [
       "            silva_id  ncbi_taxonid\n",
       "0           AY835431        160070\n",
       "1           MF351708           199\n",
       "2           AB003380           833\n",
       "3           AC016828          3702\n",
       "4           AB000109         44689\n",
       "...              ...           ...\n",
       "157868      DQ682621           622\n",
       "157869      DQ682622           623\n",
       "157870      DQ682623           624\n",
       "157871      DQ813266         28110\n",
       "157872  CRLF01000008          1313\n",
       "\n",
       "[157873 rows x 2 columns]"
      ]
     },
     "execution_count": 6,
     "metadata": {},
     "output_type": "execute_result"
    }
   ],
   "source": [
    "silva_lsu = pd.read_csv('SILVA/taxmap_embl-ebi_ena_lsu_ref_138.2.txt', sep='\\t')\n",
    "silva_lsu_final = silva_lsu[['primaryAccession', 'ncbi_taxonid']]\n",
    "silva_lsu_final.drop_duplicates(inplace=True)\n",
    "silva_lsu_final.reset_index(drop=True, inplace=True)\n",
    "silva_lsu_final.rename(columns={'primaryAccession': 'silva_id'}, inplace=True)\n",
    "silva_lsu_final"
   ]
  },
  {
   "cell_type": "markdown",
   "metadata": {},
   "source": [
    "ssu id"
   ]
  },
  {
   "cell_type": "code",
   "execution_count": 7,
   "metadata": {},
   "outputs": [
    {
     "name": "stderr",
     "output_type": "stream",
     "text": [
      "C:\\Users\\shunn\\AppData\\Local\\Temp\\ipykernel_24848\\629369691.py:3: SettingWithCopyWarning: \n",
      "A value is trying to be set on a copy of a slice from a DataFrame\n",
      "\n",
      "See the caveats in the documentation: https://pandas.pydata.org/pandas-docs/stable/user_guide/indexing.html#returning-a-view-versus-a-copy\n",
      "  silva_ssu_final.rename(columns={'primaryAccession': 'silva_id'}, inplace=True)\n",
      "C:\\Users\\shunn\\AppData\\Local\\Temp\\ipykernel_24848\\629369691.py:4: SettingWithCopyWarning: \n",
      "A value is trying to be set on a copy of a slice from a DataFrame\n",
      "\n",
      "See the caveats in the documentation: https://pandas.pydata.org/pandas-docs/stable/user_guide/indexing.html#returning-a-view-versus-a-copy\n",
      "  silva_ssu_final.drop_duplicates(inplace=True)\n"
     ]
    },
    {
     "data": {
      "application/vnd.microsoft.datawrangler.viewer.v0+json": {
       "columns": [
        {
         "name": "index",
         "rawType": "int64",
         "type": "integer"
        },
        {
         "name": "silva_id",
         "rawType": "object",
         "type": "string"
        },
        {
         "name": "ncbi_taxonid",
         "rawType": "int64",
         "type": "integer"
        }
       ],
       "conversionMethod": "pd.DataFrame",
       "ref": "c7f4654e-20c1-41d0-89f6-845aaf817340",
       "rows": [
        [
         "0",
         "AX664486",
         "7227"
        ],
        [
         "1",
         "BD307583",
         "37089"
        ],
        [
         "2",
         "BD359735",
         "5858"
        ],
        [
         "3",
         "BD359736",
         "5858"
        ],
        [
         "4",
         "CS214259",
         "10116"
        ],
        [
         "5",
         "CS214261",
         "10116"
        ],
        [
         "6",
         "CS214263",
         "10116"
        ],
        [
         "7",
         "AB000106",
         "28214"
        ],
        [
         "8",
         "AB000278",
         "56192"
        ],
        [
         "9",
         "AB000389",
         "81037"
        ],
        [
         "10",
         "CS394303",
         "10116"
        ],
        [
         "11",
         "CS394305",
         "10116"
        ],
        [
         "12",
         "CS394307",
         "10116"
        ],
        [
         "13",
         "AB000390",
         "71388"
        ],
        [
         "14",
         "BH771024",
         "416870"
        ],
        [
         "15",
         "AY835431",
         "160070"
        ],
        [
         "16",
         "HL182401",
         "32644"
        ],
        [
         "17",
         "HL182669",
         "32644"
        ],
        [
         "18",
         "HL182991",
         "32644"
        ],
        [
         "19",
         "HL182992",
         "32644"
        ],
        [
         "20",
         "HG529983",
         "1406870"
        ],
        [
         "21",
         "AB000391",
         "71388"
        ],
        [
         "22",
         "AY846367",
         "4521"
        ],
        [
         "23",
         "AY846370",
         "191687"
        ],
        [
         "24",
         "AY846371",
         "81816"
        ],
        [
         "25",
         "AY846372",
         "307509"
        ],
        [
         "26",
         "HG529984",
         "1406871"
        ],
        [
         "27",
         "AY846373",
         "307510"
        ],
        [
         "28",
         "AY846374",
         "307508"
        ],
        [
         "29",
         "AY846375",
         "307511"
        ],
        [
         "30",
         "AB000392",
         "71388"
        ],
        [
         "31",
         "AY846376",
         "307512"
        ],
        [
         "32",
         "AY846377",
         "307513"
        ],
        [
         "33",
         "HG529985",
         "1406872"
        ],
        [
         "34",
         "AY846378",
         "307514"
        ],
        [
         "35",
         "AY846379",
         "307515"
        ],
        [
         "36",
         "AY846380",
         "39955"
        ],
        [
         "37",
         "AY846381",
         "307507"
        ],
        [
         "38",
         "AY846382",
         "307511"
        ],
        [
         "39",
         "AY846383",
         "307512"
        ],
        [
         "40",
         "AY846384",
         "307517"
        ],
        [
         "41",
         "AY846385",
         "307517"
        ],
        [
         "42",
         "AY846386",
         "307518"
        ],
        [
         "43",
         "AY846387",
         "307519"
        ],
        [
         "44",
         "AB000393",
         "71388"
        ],
        [
         "45",
         "HG529986",
         "1406873"
        ],
        [
         "46",
         "HL196857",
         "32644"
        ],
        [
         "47",
         "HL196863",
         "32644"
        ],
        [
         "48",
         "HG529987",
         "1406874"
        ],
        [
         "49",
         "HL196872",
         "32644"
        ]
       ],
       "shape": {
        "columns": 2,
        "rows": 2152602
       }
      },
      "text/html": [
       "<div>\n",
       "<style scoped>\n",
       "    .dataframe tbody tr th:only-of-type {\n",
       "        vertical-align: middle;\n",
       "    }\n",
       "\n",
       "    .dataframe tbody tr th {\n",
       "        vertical-align: top;\n",
       "    }\n",
       "\n",
       "    .dataframe thead th {\n",
       "        text-align: right;\n",
       "    }\n",
       "</style>\n",
       "<table border=\"1\" class=\"dataframe\">\n",
       "  <thead>\n",
       "    <tr style=\"text-align: right;\">\n",
       "      <th></th>\n",
       "      <th>silva_id</th>\n",
       "      <th>ncbi_taxonid</th>\n",
       "    </tr>\n",
       "  </thead>\n",
       "  <tbody>\n",
       "    <tr>\n",
       "      <th>0</th>\n",
       "      <td>AX664486</td>\n",
       "      <td>7227</td>\n",
       "    </tr>\n",
       "    <tr>\n",
       "      <th>1</th>\n",
       "      <td>BD307583</td>\n",
       "      <td>37089</td>\n",
       "    </tr>\n",
       "    <tr>\n",
       "      <th>2</th>\n",
       "      <td>BD359735</td>\n",
       "      <td>5858</td>\n",
       "    </tr>\n",
       "    <tr>\n",
       "      <th>3</th>\n",
       "      <td>BD359736</td>\n",
       "      <td>5858</td>\n",
       "    </tr>\n",
       "    <tr>\n",
       "      <th>4</th>\n",
       "      <td>CS214259</td>\n",
       "      <td>10116</td>\n",
       "    </tr>\n",
       "    <tr>\n",
       "      <th>...</th>\n",
       "      <td>...</td>\n",
       "      <td>...</td>\n",
       "    </tr>\n",
       "    <tr>\n",
       "      <th>2152597</th>\n",
       "      <td>CRSC01000143</td>\n",
       "      <td>1313</td>\n",
       "    </tr>\n",
       "    <tr>\n",
       "      <th>2152598</th>\n",
       "      <td>CRVD01000010</td>\n",
       "      <td>1313</td>\n",
       "    </tr>\n",
       "    <tr>\n",
       "      <th>2152599</th>\n",
       "      <td>CRLF01000008</td>\n",
       "      <td>1313</td>\n",
       "    </tr>\n",
       "    <tr>\n",
       "      <th>2152600</th>\n",
       "      <td>LT558790</td>\n",
       "      <td>1130089</td>\n",
       "    </tr>\n",
       "    <tr>\n",
       "      <th>2152601</th>\n",
       "      <td>KY979510</td>\n",
       "      <td>1981511</td>\n",
       "    </tr>\n",
       "  </tbody>\n",
       "</table>\n",
       "<p>2152602 rows × 2 columns</p>\n",
       "</div>"
      ],
      "text/plain": [
       "             silva_id  ncbi_taxonid\n",
       "0            AX664486          7227\n",
       "1            BD307583         37089\n",
       "2            BD359735          5858\n",
       "3            BD359736          5858\n",
       "4            CS214259         10116\n",
       "...               ...           ...\n",
       "2152597  CRSC01000143          1313\n",
       "2152598  CRVD01000010          1313\n",
       "2152599  CRLF01000008          1313\n",
       "2152600      LT558790       1130089\n",
       "2152601      KY979510       1981511\n",
       "\n",
       "[2152602 rows x 2 columns]"
      ]
     },
     "execution_count": 7,
     "metadata": {},
     "output_type": "execute_result"
    }
   ],
   "source": [
    "silva_ssu = pd.read_csv('SILVA/taxmap_embl-ebi_ena_ssu_ref_138.2.txt', sep='\\t')\n",
    "silva_ssu_final = silva_ssu[['primaryAccession', 'ncbi_taxonid']]\n",
    "silva_ssu_final.rename(columns={'primaryAccession': 'silva_id'}, inplace=True)\n",
    "silva_ssu_final.drop_duplicates(inplace=True)\n",
    "silva_ssu_final.reset_index(drop=True, inplace=True)\n",
    "silva_ssu_final"
   ]
  },
  {
   "cell_type": "markdown",
   "metadata": {},
   "source": [
    "SILVA - Final Version"
   ]
  },
  {
   "cell_type": "code",
   "execution_count": 8,
   "metadata": {},
   "outputs": [
    {
     "data": {
      "application/vnd.microsoft.datawrangler.viewer.v0+json": {
       "columns": [
        {
         "name": "index",
         "rawType": "int64",
         "type": "integer"
        },
        {
         "name": "silva_id",
         "rawType": "object",
         "type": "string"
        },
        {
         "name": "ncbi_taxonid",
         "rawType": "object",
         "type": "string"
        }
       ],
       "conversionMethod": "pd.DataFrame",
       "ref": "b7787c41-6aad-4960-934b-cb3e5c8ad32b",
       "rows": [
        [
         "0",
         "AY835431",
         "160070"
        ],
        [
         "1",
         "MF351708",
         "199"
        ],
        [
         "2",
         "AB003380",
         "833"
        ],
        [
         "3",
         "AC016828",
         "3702"
        ],
        [
         "4",
         "AB000109",
         "44689"
        ],
        [
         "5",
         "EA111229",
         "32644"
        ],
        [
         "6",
         "MI369377",
         "32644"
        ],
        [
         "7",
         "AC152108",
         "4924"
        ],
        [
         "8",
         "AB001684",
         "3077"
        ],
        [
         "9",
         "GZ772340",
         "32644"
        ],
        [
         "10",
         "A82710",
         "813"
        ],
        [
         "11",
         "MH654823",
         "332213"
        ],
        [
         "12",
         "BH771024",
         "416870"
        ],
        [
         "13",
         "BK000964",
         "10090"
        ],
        [
         "14",
         "GZ772341",
         "32644"
        ],
        [
         "15",
         "GZ772342",
         "32644"
        ],
        [
         "16",
         "GZ772343",
         "32644"
        ],
        [
         "17",
         "LT941842",
         "3702"
        ],
        [
         "18",
         "AC200763",
         "138073"
        ],
        [
         "19",
         "LK021130",
         "55601"
        ],
        [
         "20",
         "HA521593",
         "4932"
        ],
        [
         "21",
         "KU242428",
         "267362"
        ],
        [
         "22",
         "CP012870",
         "562"
        ],
        [
         "23",
         "AX025551",
         "1764"
        ],
        [
         "24",
         "HG530068",
         "1407059"
        ],
        [
         "25",
         "GZ793590",
         "32644"
        ],
        [
         "26",
         "AX025552",
         "1764"
        ],
        [
         "27",
         "FN822744",
         "762550"
        ],
        [
         "28",
         "AX025553",
         "1764"
        ],
        [
         "29",
         "AX025554",
         "1764"
        ],
        [
         "30",
         "AC256487",
         "112509"
        ],
        [
         "31",
         "AX025555",
         "1764"
        ],
        [
         "32",
         "AX025556",
         "1764"
        ],
        [
         "33",
         "AC233788",
         "4577"
        ],
        [
         "34",
         "GZ794525",
         "32644"
        ],
        [
         "35",
         "AX025558",
         "1764"
        ],
        [
         "36",
         "AX025559",
         "1764"
        ],
        [
         "37",
         "AY214600",
         "114706"
        ],
        [
         "38",
         "AX025560",
         "1764"
        ],
        [
         "39",
         "AC152122",
         "4924"
        ],
        [
         "40",
         "HA521598",
         "4932"
        ],
        [
         "41",
         "AK286061",
         "3847"
        ],
        [
         "42",
         "AC166539",
         "140110"
        ],
        [
         "43",
         "HA521602",
         "4932"
        ],
        [
         "44",
         "AR804633",
         "32644"
        ],
        [
         "45",
         "HA521604",
         "4932"
        ],
        [
         "46",
         "HA521606",
         "4932"
        ],
        [
         "47",
         "AK405815",
         "7091"
        ],
        [
         "48",
         "AX025561",
         "1764"
        ],
        [
         "49",
         "AX023546",
         "32630"
        ]
       ],
       "shape": {
        "columns": 2,
        "rows": 2214227
       }
      },
      "text/html": [
       "<div>\n",
       "<style scoped>\n",
       "    .dataframe tbody tr th:only-of-type {\n",
       "        vertical-align: middle;\n",
       "    }\n",
       "\n",
       "    .dataframe tbody tr th {\n",
       "        vertical-align: top;\n",
       "    }\n",
       "\n",
       "    .dataframe thead th {\n",
       "        text-align: right;\n",
       "    }\n",
       "</style>\n",
       "<table border=\"1\" class=\"dataframe\">\n",
       "  <thead>\n",
       "    <tr style=\"text-align: right;\">\n",
       "      <th></th>\n",
       "      <th>silva_id</th>\n",
       "      <th>ncbi_taxonid</th>\n",
       "    </tr>\n",
       "  </thead>\n",
       "  <tbody>\n",
       "    <tr>\n",
       "      <th>0</th>\n",
       "      <td>AY835431</td>\n",
       "      <td>160070</td>\n",
       "    </tr>\n",
       "    <tr>\n",
       "      <th>1</th>\n",
       "      <td>MF351708</td>\n",
       "      <td>199</td>\n",
       "    </tr>\n",
       "    <tr>\n",
       "      <th>2</th>\n",
       "      <td>AB003380</td>\n",
       "      <td>833</td>\n",
       "    </tr>\n",
       "    <tr>\n",
       "      <th>3</th>\n",
       "      <td>AC016828</td>\n",
       "      <td>3702</td>\n",
       "    </tr>\n",
       "    <tr>\n",
       "      <th>4</th>\n",
       "      <td>AB000109</td>\n",
       "      <td>44689</td>\n",
       "    </tr>\n",
       "    <tr>\n",
       "      <th>...</th>\n",
       "      <td>...</td>\n",
       "      <td>...</td>\n",
       "    </tr>\n",
       "    <tr>\n",
       "      <th>2214222</th>\n",
       "      <td>CRDG01000003</td>\n",
       "      <td>1313</td>\n",
       "    </tr>\n",
       "    <tr>\n",
       "      <th>2214223</th>\n",
       "      <td>CRBB01000003</td>\n",
       "      <td>1313</td>\n",
       "    </tr>\n",
       "    <tr>\n",
       "      <th>2214224</th>\n",
       "      <td>CRSC01000007</td>\n",
       "      <td>1313</td>\n",
       "    </tr>\n",
       "    <tr>\n",
       "      <th>2214225</th>\n",
       "      <td>LT558790</td>\n",
       "      <td>1130089</td>\n",
       "    </tr>\n",
       "    <tr>\n",
       "      <th>2214226</th>\n",
       "      <td>KY979510</td>\n",
       "      <td>1981511</td>\n",
       "    </tr>\n",
       "  </tbody>\n",
       "</table>\n",
       "<p>2214227 rows × 2 columns</p>\n",
       "</div>"
      ],
      "text/plain": [
       "             silva_id ncbi_taxonid\n",
       "0            AY835431       160070\n",
       "1            MF351708          199\n",
       "2            AB003380          833\n",
       "3            AC016828         3702\n",
       "4            AB000109        44689\n",
       "...               ...          ...\n",
       "2214222  CRDG01000003         1313\n",
       "2214223  CRBB01000003         1313\n",
       "2214224  CRSC01000007         1313\n",
       "2214225      LT558790      1130089\n",
       "2214226      KY979510      1981511\n",
       "\n",
       "[2214227 rows x 2 columns]"
      ]
     },
     "execution_count": 8,
     "metadata": {},
     "output_type": "execute_result"
    }
   ],
   "source": [
    "silva_final = pd.concat([silva_lsu_final, silva_ssu_final], ignore_index=True)\n",
    "silva_final['ncbi_taxonid'] = silva_final['ncbi_taxonid'].astype(str).str.replace(r'\\D', '', regex=True)\n",
    "silva_final.drop_duplicates(inplace=True)\n",
    "silva_final.reset_index(drop=True, inplace=True)\n",
    "silva_final"
   ]
  },
  {
   "cell_type": "code",
   "execution_count": 9,
   "metadata": {},
   "outputs": [
    {
     "data": {
      "application/vnd.microsoft.datawrangler.viewer.v0+json": {
       "columns": [
        {
         "name": "index",
         "rawType": "int64",
         "type": "integer"
        },
        {
         "name": "ncbi_taxonid",
         "rawType": "object",
         "type": "string"
        },
        {
         "name": "silva_id",
         "rawType": "object",
         "type": "string"
        }
       ],
       "conversionMethod": "pd.DataFrame",
       "ref": "a55a3b86-e651-44ed-b1cf-d47e9bb3d8cb",
       "rows": [
        [
         "0",
         "100",
         "FJ572205;FJ572206;FJ572207;FJ572208;FJ572209;AB681795;M62790"
        ],
        [
         "1",
         "100000",
         "AF164051"
        ],
        [
         "2",
         "100001",
         "AF164052"
        ],
        [
         "3",
         "100002",
         "AF164053"
        ],
        [
         "4",
         "1000028",
         "HQ391902"
        ],
        [
         "5",
         "1000029",
         "HQ324140"
        ],
        [
         "6",
         "100003",
         "AF164054"
        ],
        [
         "7",
         "100005",
         "AF164063"
        ],
        [
         "8",
         "100007",
         "AF165182"
        ],
        [
         "9",
         "100014",
         "AF164043"
        ],
        [
         "10",
         "1000273",
         "AB618971"
        ],
        [
         "11",
         "1000274",
         "AB619594"
        ],
        [
         "12",
         "1000275",
         "AB619595"
        ],
        [
         "13",
         "1000276",
         "AB619596"
        ],
        [
         "14",
         "1000277",
         "AB619597"
        ],
        [
         "15",
         "1000282",
         "HQ316115"
        ],
        [
         "16",
         "100036",
         "KR909318"
        ],
        [
         "17",
         "100040",
         "DQ678021"
        ],
        [
         "18",
         "1000418",
         "KY562586"
        ],
        [
         "19",
         "1000438",
         "FR846300"
        ],
        [
         "20",
         "100044",
         "DQ678027"
        ],
        [
         "21",
         "1000442",
         "JQ886462"
        ],
        [
         "22",
         "1000449",
         "JF346663"
        ],
        [
         "23",
         "1000450",
         "JF346664"
        ],
        [
         "24",
         "1000451",
         "JF346671"
        ],
        [
         "25",
         "1000452",
         "JF346666"
        ],
        [
         "26",
         "1000453",
         "JF346668"
        ],
        [
         "27",
         "1000454",
         "JF346662"
        ],
        [
         "28",
         "1000455",
         "JF346660"
        ],
        [
         "29",
         "1000456",
         "JF346672"
        ],
        [
         "30",
         "1000457",
         "JF346674"
        ],
        [
         "31",
         "1000458",
         "JF346673"
        ],
        [
         "32",
         "100052",
         "DQ678026"
        ],
        [
         "33",
         "100053",
         "JQGU01000188;JQGW01000183;JQGS01000177;JQ988836;JQGU01000198;JQGS01000248;JQGT01000224;JQGW01000198;JQGV01000218"
        ],
        [
         "34",
         "1000562",
         "JSAP01000001;FR846243"
        ],
        [
         "35",
         "1000564",
         "JQ896271;KP142819;HQ322410"
        ],
        [
         "36",
         "1000565",
         "AFHG01000027"
        ],
        [
         "37",
         "1000566",
         "JF411070"
        ],
        [
         "38",
         "1000568",
         "AFIJ01000010;LF134240;LF136272;LG104618;LV535759;LY337585;AFIJ01000040"
        ],
        [
         "39",
         "1000569",
         "AFUG01000041;AFUG01000037"
        ],
        [
         "40",
         "1000570",
         "NARD01000008;AFIM01000033;AREF01000014;BAST01000018;JN787169"
        ],
        [
         "41",
         "1000588",
         "AFUB01000036"
        ],
        [
         "42",
         "1000589",
         "AFIN01000140"
        ],
        [
         "43",
         "1000590",
         "AGUC01000014;AGUC01000018;AGUC01000056;AGUC01000058"
        ],
        [
         "44",
         "1000660",
         "JF518980"
        ],
        [
         "45",
         "1000662",
         "JF511476"
        ],
        [
         "46",
         "1000935",
         "AFMT01000019;AFMT01000046"
        ],
        [
         "47",
         "1000936",
         "AFMV01000257;AFMV01000262"
        ],
        [
         "48",
         "1000937",
         "AFMW01000226;AFMW01000231"
        ],
        [
         "49",
         "1000938",
         "AFMX01000053;AFMX01000041"
        ]
       ],
       "shape": {
        "columns": 2,
        "rows": 272419
       }
      },
      "text/html": [
       "<div>\n",
       "<style scoped>\n",
       "    .dataframe tbody tr th:only-of-type {\n",
       "        vertical-align: middle;\n",
       "    }\n",
       "\n",
       "    .dataframe tbody tr th {\n",
       "        vertical-align: top;\n",
       "    }\n",
       "\n",
       "    .dataframe thead th {\n",
       "        text-align: right;\n",
       "    }\n",
       "</style>\n",
       "<table border=\"1\" class=\"dataframe\">\n",
       "  <thead>\n",
       "    <tr style=\"text-align: right;\">\n",
       "      <th></th>\n",
       "      <th>ncbi_taxonid</th>\n",
       "      <th>silva_id</th>\n",
       "    </tr>\n",
       "  </thead>\n",
       "  <tbody>\n",
       "    <tr>\n",
       "      <th>0</th>\n",
       "      <td>100</td>\n",
       "      <td>FJ572205;FJ572206;FJ572207;FJ572208;FJ572209;A...</td>\n",
       "    </tr>\n",
       "    <tr>\n",
       "      <th>1</th>\n",
       "      <td>100000</td>\n",
       "      <td>AF164051</td>\n",
       "    </tr>\n",
       "    <tr>\n",
       "      <th>2</th>\n",
       "      <td>100001</td>\n",
       "      <td>AF164052</td>\n",
       "    </tr>\n",
       "    <tr>\n",
       "      <th>3</th>\n",
       "      <td>100002</td>\n",
       "      <td>AF164053</td>\n",
       "    </tr>\n",
       "    <tr>\n",
       "      <th>4</th>\n",
       "      <td>1000028</td>\n",
       "      <td>HQ391902</td>\n",
       "    </tr>\n",
       "    <tr>\n",
       "      <th>...</th>\n",
       "      <td>...</td>\n",
       "      <td>...</td>\n",
       "    </tr>\n",
       "    <tr>\n",
       "      <th>272414</th>\n",
       "      <td>999944</td>\n",
       "      <td>HQ324121</td>\n",
       "    </tr>\n",
       "    <tr>\n",
       "      <th>272415</th>\n",
       "      <td>999947</td>\n",
       "      <td>HM593015;KC205973</td>\n",
       "    </tr>\n",
       "    <tr>\n",
       "      <th>272416</th>\n",
       "      <td>99998</td>\n",
       "      <td>AF164049</td>\n",
       "    </tr>\n",
       "    <tr>\n",
       "      <th>272417</th>\n",
       "      <td>999981</td>\n",
       "      <td>HQ330529</td>\n",
       "    </tr>\n",
       "    <tr>\n",
       "      <th>272418</th>\n",
       "      <td>99999</td>\n",
       "      <td>AF164050</td>\n",
       "    </tr>\n",
       "  </tbody>\n",
       "</table>\n",
       "<p>272419 rows × 2 columns</p>\n",
       "</div>"
      ],
      "text/plain": [
       "       ncbi_taxonid                                           silva_id\n",
       "0               100  FJ572205;FJ572206;FJ572207;FJ572208;FJ572209;A...\n",
       "1            100000                                           AF164051\n",
       "2            100001                                           AF164052\n",
       "3            100002                                           AF164053\n",
       "4           1000028                                           HQ391902\n",
       "...             ...                                                ...\n",
       "272414       999944                                           HQ324121\n",
       "272415       999947                                  HM593015;KC205973\n",
       "272416        99998                                           AF164049\n",
       "272417       999981                                           HQ330529\n",
       "272418        99999                                           AF164050\n",
       "\n",
       "[272419 rows x 2 columns]"
      ]
     },
     "execution_count": 9,
     "metadata": {},
     "output_type": "execute_result"
    }
   ],
   "source": [
    "silva_unique = silva_final.groupby('ncbi_taxonid').agg({'silva_id': lambda x: ';'.join(x.unique())}).reset_index()\n",
    "silva_unique"
   ]
  },
  {
   "cell_type": "markdown",
   "metadata": {},
   "source": [
    "### 2.3 Greengenes"
   ]
  },
  {
   "cell_type": "code",
   "execution_count": 10,
   "metadata": {},
   "outputs": [
    {
     "data": {
      "application/vnd.microsoft.datawrangler.viewer.v0+json": {
       "columns": [
        {
         "name": "index",
         "rawType": "int64",
         "type": "integer"
        },
        {
         "name": "RNAcentral_id",
         "rawType": "object",
         "type": "string"
        },
        {
         "name": "greengenes_id",
         "rawType": "object",
         "type": "string"
        },
        {
         "name": "ncbi_taxonid",
         "rawType": "object",
         "type": "string"
        }
       ],
       "conversionMethod": "pd.DataFrame",
       "ref": "d5cb2a0e-4585-470e-9bd3-3ab60d42cf76",
       "rows": [
        [
         "0",
         "URS0000000010",
         "2264288",
         "77133"
        ],
        [
         "1",
         "URS0000000018",
         "486950",
         "77133"
        ],
        [
         "2",
         "URS000000001A",
         "3431066",
         "77133"
        ],
        [
         "3",
         "URS000000001E",
         "4439119",
         "155900"
        ],
        [
         "4",
         "URS000000001F",
         "253572",
         "77133"
        ],
        [
         "5",
         "URS0000000027",
         "4473246",
         "77133"
        ],
        [
         "6",
         "URS000000002B",
         "2164582",
         "77133"
        ],
        [
         "7",
         "URS000000002D",
         "553131",
         "77133"
        ],
        [
         "8",
         "URS000000002E",
         "565533",
         "77133"
        ],
        [
         "9",
         "URS0000000030",
         "1071937",
         "77133"
        ],
        [
         "10",
         "URS0000000031",
         "162821",
         "157149"
        ],
        [
         "11",
         "URS0000000036",
         "4466284",
         "58123"
        ],
        [
         "12",
         "URS0000000043",
         "1085440",
         "77133"
        ],
        [
         "13",
         "URS000000005D",
         "718201",
         "77133"
        ],
        [
         "14",
         "URS000000006B",
         "766493",
         "160804"
        ],
        [
         "15",
         "URS0000000070",
         "201514",
         "77133"
        ],
        [
         "16",
         "URS0000000071",
         "4472672",
         "155900"
        ],
        [
         "17",
         "URS0000000073",
         "351419",
         "427677"
        ],
        [
         "18",
         "URS000000007A",
         "257662",
         "487049"
        ],
        [
         "19",
         "URS000000007E",
         "3875219",
         "155900"
        ],
        [
         "20",
         "URS0000000089",
         "4429621",
         "77133"
        ],
        [
         "21",
         "URS0000000095",
         "842696",
         "77133"
        ],
        [
         "22",
         "URS0000000097",
         "219378",
         "77133"
        ],
        [
         "23",
         "URS0000000099",
         "760111",
         "77133"
        ],
        [
         "24",
         "URS000000009F",
         "1020802",
         "77133"
        ],
        [
         "25",
         "URS00000000A0",
         "4327913",
         "77133"
        ],
        [
         "26",
         "URS00000000A1",
         "961048",
         "77133"
        ],
        [
         "27",
         "URS00000000A8",
         "361813",
         "77133"
        ],
        [
         "28",
         "URS00000000B0",
         "941927",
         "203437"
        ],
        [
         "29",
         "URS00000000C0",
         "726280",
         "77133"
        ],
        [
         "30",
         "URS00000000C4",
         "442346",
         "77133"
        ],
        [
         "31",
         "URS00000000CE",
         "433199",
         "77133"
        ],
        [
         "32",
         "URS00000000F2",
         "4460079",
         "56763"
        ],
        [
         "33",
         "URS0000000104",
         "727708",
         "77133"
        ],
        [
         "34",
         "URS000000010F",
         "272243",
         "77133"
        ],
        [
         "35",
         "URS0000000116",
         "400880",
         "77133"
        ],
        [
         "36",
         "URS0000000117",
         "1092868",
         "77133"
        ],
        [
         "37",
         "URS0000000121",
         "862430",
         "77133"
        ],
        [
         "38",
         "URS000000012D",
         "469473",
         "77133"
        ],
        [
         "39",
         "URS000000012F",
         "762770",
         "77133"
        ],
        [
         "40",
         "URS0000000130",
         "955919",
         "77133"
        ],
        [
         "41",
         "URS0000000135",
         "234573",
         "77133"
        ],
        [
         "42",
         "URS0000000138",
         "137028",
         "77133"
        ],
        [
         "43",
         "URS000000013F",
         "646475",
         "56765"
        ],
        [
         "44",
         "URS0000000147",
         "880567",
         "77133"
        ],
        [
         "45",
         "URS0000000167",
         "607668",
         "637679"
        ],
        [
         "46",
         "URS0000000168",
         "984958",
         "77133"
        ],
        [
         "47",
         "URS000000016F",
         "4286660",
         "155900"
        ],
        [
         "48",
         "URS0000000171",
         "749946",
         "235932"
        ],
        [
         "49",
         "URS0000000178",
         "769253",
         "77133"
        ]
       ],
       "shape": {
        "columns": 3,
        "rows": 1144866
       }
      },
      "text/html": [
       "<div>\n",
       "<style scoped>\n",
       "    .dataframe tbody tr th:only-of-type {\n",
       "        vertical-align: middle;\n",
       "    }\n",
       "\n",
       "    .dataframe tbody tr th {\n",
       "        vertical-align: top;\n",
       "    }\n",
       "\n",
       "    .dataframe thead th {\n",
       "        text-align: right;\n",
       "    }\n",
       "</style>\n",
       "<table border=\"1\" class=\"dataframe\">\n",
       "  <thead>\n",
       "    <tr style=\"text-align: right;\">\n",
       "      <th></th>\n",
       "      <th>RNAcentral_id</th>\n",
       "      <th>greengenes_id</th>\n",
       "      <th>ncbi_taxonid</th>\n",
       "    </tr>\n",
       "  </thead>\n",
       "  <tbody>\n",
       "    <tr>\n",
       "      <th>0</th>\n",
       "      <td>URS0000000010</td>\n",
       "      <td>2264288</td>\n",
       "      <td>77133</td>\n",
       "    </tr>\n",
       "    <tr>\n",
       "      <th>1</th>\n",
       "      <td>URS0000000018</td>\n",
       "      <td>486950</td>\n",
       "      <td>77133</td>\n",
       "    </tr>\n",
       "    <tr>\n",
       "      <th>2</th>\n",
       "      <td>URS000000001A</td>\n",
       "      <td>3431066</td>\n",
       "      <td>77133</td>\n",
       "    </tr>\n",
       "    <tr>\n",
       "      <th>3</th>\n",
       "      <td>URS000000001E</td>\n",
       "      <td>4439119</td>\n",
       "      <td>155900</td>\n",
       "    </tr>\n",
       "    <tr>\n",
       "      <th>4</th>\n",
       "      <td>URS000000001F</td>\n",
       "      <td>253572</td>\n",
       "      <td>77133</td>\n",
       "    </tr>\n",
       "    <tr>\n",
       "      <th>...</th>\n",
       "      <td>...</td>\n",
       "      <td>...</td>\n",
       "      <td>...</td>\n",
       "    </tr>\n",
       "    <tr>\n",
       "      <th>1144861</th>\n",
       "      <td>URS00008B1FA0</td>\n",
       "      <td>133117</td>\n",
       "      <td>266892</td>\n",
       "    </tr>\n",
       "    <tr>\n",
       "      <th>1144862</th>\n",
       "      <td>URS00008B1FA1</td>\n",
       "      <td>192292</td>\n",
       "      <td>77133</td>\n",
       "    </tr>\n",
       "    <tr>\n",
       "      <th>1144863</th>\n",
       "      <td>URS00008B1FA2</td>\n",
       "      <td>1108040</td>\n",
       "      <td>77133</td>\n",
       "    </tr>\n",
       "    <tr>\n",
       "      <th>1144864</th>\n",
       "      <td>URS00008B1FA3</td>\n",
       "      <td>881490</td>\n",
       "      <td>77133</td>\n",
       "    </tr>\n",
       "    <tr>\n",
       "      <th>1144865</th>\n",
       "      <td>URS00008B1FA4</td>\n",
       "      <td>465234</td>\n",
       "      <td>189668</td>\n",
       "    </tr>\n",
       "  </tbody>\n",
       "</table>\n",
       "<p>1144866 rows × 3 columns</p>\n",
       "</div>"
      ],
      "text/plain": [
       "         RNAcentral_id greengenes_id ncbi_taxonid\n",
       "0        URS0000000010       2264288        77133\n",
       "1        URS0000000018        486950        77133\n",
       "2        URS000000001A       3431066        77133\n",
       "3        URS000000001E       4439119       155900\n",
       "4        URS000000001F        253572        77133\n",
       "...                ...           ...          ...\n",
       "1144861  URS00008B1FA0        133117       266892\n",
       "1144862  URS00008B1FA1        192292        77133\n",
       "1144863  URS00008B1FA2       1108040        77133\n",
       "1144864  URS00008B1FA3        881490        77133\n",
       "1144865  URS00008B1FA4        465234       189668\n",
       "\n",
       "[1144866 rows x 3 columns]"
      ]
     },
     "execution_count": 10,
     "metadata": {},
     "output_type": "execute_result"
    }
   ],
   "source": [
    "greengenes = pd.read_csv('greengenes.tsv', sep='\\t', header=None)\n",
    "greengenes.columns = ['RNAcentral_id', 'database', 'greengenes_id', 'ncbi_taxonid', 'rna type', 'gene name']\n",
    "greengenes = greengenes[['RNAcentral_id', 'greengenes_id', 'ncbi_taxonid']]\n",
    "greengenes['greengenes_id'] = greengenes['greengenes_id'].astype(str).str.replace(r'\\D', '', regex=True)\n",
    "greengenes['ncbi_taxonid'] = greengenes['ncbi_taxonid'].astype(str).str.replace(r'\\D', '', regex=True)\n",
    "greengenes.drop_duplicates(inplace=True)\n",
    "greengenes.reset_index(drop=True, inplace=True)\n",
    "greengenes"
   ]
  },
  {
   "cell_type": "code",
   "execution_count": 11,
   "metadata": {},
   "outputs": [
    {
     "data": {
      "application/vnd.microsoft.datawrangler.viewer.v0+json": {
       "columns": [
        {
         "name": "index",
         "rawType": "int64",
         "type": "integer"
        },
        {
         "name": "ncbi_taxonid",
         "rawType": "object",
         "type": "string"
        },
        {
         "name": "greengenes_id",
         "rawType": "object",
         "type": "string"
        },
        {
         "name": "RNAcentral_id",
         "rawType": "object",
         "type": "string"
        }
       ],
       "conversionMethod": "pd.DataFrame",
       "ref": "4a77b60f-718f-4451-8646-9765529a12d5",
       "rows": [
        [
         "0",
         "100",
         "4419442;758357;699569;4650;636058;631559;541133",
         "URS000001D3A2;URS0000056995;URS0000071FD2;URS0000134811;URS00001CEB60;URS0000292080;URS00004890C5"
        ],
        [
         "1",
         "100000",
         "7308",
         "URS00004A623C"
        ],
        [
         "2",
         "100001",
         "7309",
         "URS00008A7B66"
        ],
        [
         "3",
         "100002",
         "7310",
         "URS00002EBCF8"
        ],
        [
         "4",
         "1000028",
         "1113734",
         "URS0000887D51"
        ],
        [
         "5",
         "1000029",
         "1113715",
         "URS00005665C8"
        ],
        [
         "6",
         "100003",
         "7311",
         "URS000009EB14"
        ],
        [
         "7",
         "100005",
         "7314",
         "URS000023006F"
        ],
        [
         "8",
         "100007",
         "13158",
         "URS000028C3AB"
        ],
        [
         "9",
         "100014",
         "69874",
         "URS00000BE272"
        ],
        [
         "10",
         "100022",
         "19103",
         "URS000087D61E"
        ],
        [
         "11",
         "1000273",
         "1110583",
         "URS0000877D48"
        ],
        [
         "12",
         "1000275",
         "1106138",
         "URS00008721D5"
        ],
        [
         "13",
         "1000276",
         "1109687",
         "URS00008AFB7D"
        ],
        [
         "14",
         "1000277",
         "1106848",
         "URS0000874953"
        ],
        [
         "15",
         "1000282",
         "1111243",
         "URS00008A987E"
        ],
        [
         "16",
         "1000438",
         "1118754",
         "URS000013609C"
        ],
        [
         "17",
         "1000442",
         "4360541",
         "URS00001BA7CD"
        ],
        [
         "18",
         "1000449",
         "1110363",
         "URS0000879D0B"
        ],
        [
         "19",
         "1000450",
         "1108972",
         "URS0000872544"
        ],
        [
         "20",
         "1000451",
         "1110939",
         "URS0000349BA4"
        ],
        [
         "21",
         "1000452",
         "1110185",
         "URS000084200C"
        ],
        [
         "22",
         "1000453",
         "1113157",
         "URS00008914F7"
        ],
        [
         "23",
         "1000454",
         "1107084",
         "URS000089CA58"
        ],
        [
         "24",
         "1000455",
         "1113117",
         "URS0000895500"
        ],
        [
         "25",
         "1000456",
         "1110027",
         "URS000087659E"
        ],
        [
         "26",
         "1000457",
         "1108196",
         "URS00008AF043"
        ],
        [
         "27",
         "1000458",
         "1110311",
         "URS0000888915"
        ],
        [
         "28",
         "1000562",
         "1120623",
         "URS000087F50B"
        ],
        [
         "29",
         "1000565",
         "156758",
         "URS000026B361"
        ],
        [
         "30",
         "1000566",
         "1110210",
         "URS000088DD10"
        ],
        [
         "31",
         "1000570",
         "537212;245508;3140172;15462",
         "URS0000057388;URS0000495C7F;URS0000868AFF;URS000088D789"
        ],
        [
         "32",
         "1000939",
         "44706",
         "URS000058798A"
        ],
        [
         "33",
         "1001",
         "58628",
         "URS000007E705"
        ],
        [
         "34",
         "1001001",
         "1111899",
         "URS00008875D5"
        ],
        [
         "35",
         "1001163",
         "4442781",
         "URS0000881177"
        ],
        [
         "36",
         "1001164",
         "4442777",
         "URS0000871297"
        ],
        [
         "37",
         "1001165",
         "3180890",
         "URS00008A61ED"
        ],
        [
         "38",
         "1001166",
         "2738667",
         "URS000088CF94"
        ],
        [
         "39",
         "1001167",
         "2547225",
         "URS000086CA86"
        ],
        [
         "40",
         "1001168",
         "2738668",
         "URS0000888C2A"
        ],
        [
         "41",
         "1001190",
         "2558470",
         "URS000043BE41"
        ],
        [
         "42",
         "1001191",
         "1105535",
         "URS0000095C9B"
        ],
        [
         "43",
         "100120",
         "116809;117442;124180",
         "URS0000876828;URS0000876828;URS00008839E4"
        ],
        [
         "44",
         "1001296",
         "1110548",
         "URS000087C20D"
        ],
        [
         "45",
         "1001299",
         "4357862",
         "URS00008799A7"
        ],
        [
         "46",
         "100133",
         "14021",
         "URS000030E5F8"
        ],
        [
         "47",
         "100134",
         "14103",
         "URS000037750E"
        ],
        [
         "48",
         "1001350",
         "4075189",
         "URS0000876FEF"
        ],
        [
         "49",
         "1001351",
         "3453304",
         "URS000088EED8"
        ]
       ],
       "shape": {
        "columns": 3,
        "rows": 92684
       }
      },
      "text/html": [
       "<div>\n",
       "<style scoped>\n",
       "    .dataframe tbody tr th:only-of-type {\n",
       "        vertical-align: middle;\n",
       "    }\n",
       "\n",
       "    .dataframe tbody tr th {\n",
       "        vertical-align: top;\n",
       "    }\n",
       "\n",
       "    .dataframe thead th {\n",
       "        text-align: right;\n",
       "    }\n",
       "</style>\n",
       "<table border=\"1\" class=\"dataframe\">\n",
       "  <thead>\n",
       "    <tr style=\"text-align: right;\">\n",
       "      <th></th>\n",
       "      <th>ncbi_taxonid</th>\n",
       "      <th>greengenes_id</th>\n",
       "      <th>RNAcentral_id</th>\n",
       "    </tr>\n",
       "  </thead>\n",
       "  <tbody>\n",
       "    <tr>\n",
       "      <th>0</th>\n",
       "      <td>100</td>\n",
       "      <td>4419442;758357;699569;4650;636058;631559;541133</td>\n",
       "      <td>URS000001D3A2;URS0000056995;URS0000071FD2;URS0...</td>\n",
       "    </tr>\n",
       "    <tr>\n",
       "      <th>1</th>\n",
       "      <td>100000</td>\n",
       "      <td>7308</td>\n",
       "      <td>URS00004A623C</td>\n",
       "    </tr>\n",
       "    <tr>\n",
       "      <th>2</th>\n",
       "      <td>100001</td>\n",
       "      <td>7309</td>\n",
       "      <td>URS00008A7B66</td>\n",
       "    </tr>\n",
       "    <tr>\n",
       "      <th>3</th>\n",
       "      <td>100002</td>\n",
       "      <td>7310</td>\n",
       "      <td>URS00002EBCF8</td>\n",
       "    </tr>\n",
       "    <tr>\n",
       "      <th>4</th>\n",
       "      <td>1000028</td>\n",
       "      <td>1113734</td>\n",
       "      <td>URS0000887D51</td>\n",
       "    </tr>\n",
       "    <tr>\n",
       "      <th>...</th>\n",
       "      <td>...</td>\n",
       "      <td>...</td>\n",
       "      <td>...</td>\n",
       "    </tr>\n",
       "    <tr>\n",
       "      <th>92679</th>\n",
       "      <td>999931</td>\n",
       "      <td>1119472;1106878;1114736</td>\n",
       "      <td>URS00000A590F;URS0000572C1F;URS00005890BB</td>\n",
       "    </tr>\n",
       "    <tr>\n",
       "      <th>92680</th>\n",
       "      <td>999944</td>\n",
       "      <td>1105486</td>\n",
       "      <td>URS00008A2FE1</td>\n",
       "    </tr>\n",
       "    <tr>\n",
       "      <th>92681</th>\n",
       "      <td>99998</td>\n",
       "      <td>7306</td>\n",
       "      <td>URS00000BA22F</td>\n",
       "    </tr>\n",
       "    <tr>\n",
       "      <th>92682</th>\n",
       "      <td>999981</td>\n",
       "      <td>1109361</td>\n",
       "      <td>URS000086E3B5</td>\n",
       "    </tr>\n",
       "    <tr>\n",
       "      <th>92683</th>\n",
       "      <td>99999</td>\n",
       "      <td>7307</td>\n",
       "      <td>URS000009EB14</td>\n",
       "    </tr>\n",
       "  </tbody>\n",
       "</table>\n",
       "<p>92684 rows × 3 columns</p>\n",
       "</div>"
      ],
      "text/plain": [
       "      ncbi_taxonid                                    greengenes_id  \\\n",
       "0              100  4419442;758357;699569;4650;636058;631559;541133   \n",
       "1           100000                                             7308   \n",
       "2           100001                                             7309   \n",
       "3           100002                                             7310   \n",
       "4          1000028                                          1113734   \n",
       "...            ...                                              ...   \n",
       "92679       999931                          1119472;1106878;1114736   \n",
       "92680       999944                                          1105486   \n",
       "92681        99998                                             7306   \n",
       "92682       999981                                          1109361   \n",
       "92683        99999                                             7307   \n",
       "\n",
       "                                           RNAcentral_id  \n",
       "0      URS000001D3A2;URS0000056995;URS0000071FD2;URS0...  \n",
       "1                                          URS00004A623C  \n",
       "2                                          URS00008A7B66  \n",
       "3                                          URS00002EBCF8  \n",
       "4                                          URS0000887D51  \n",
       "...                                                  ...  \n",
       "92679          URS00000A590F;URS0000572C1F;URS00005890BB  \n",
       "92680                                      URS00008A2FE1  \n",
       "92681                                      URS00000BA22F  \n",
       "92682                                      URS000086E3B5  \n",
       "92683                                      URS000009EB14  \n",
       "\n",
       "[92684 rows x 3 columns]"
      ]
     },
     "execution_count": 11,
     "metadata": {},
     "output_type": "execute_result"
    }
   ],
   "source": [
    "greengenes_unique = greengenes.groupby('ncbi_taxonid').agg({'greengenes_id': lambda x: ';'.join(x), 'RNAcentral_id': lambda x: ';'.join(x)}).reset_index()\n",
    "greengenes_unique"
   ]
  },
  {
   "cell_type": "markdown",
   "metadata": {},
   "source": [
    "### 2.4 RDP"
   ]
  },
  {
   "cell_type": "code",
   "execution_count": 12,
   "metadata": {},
   "outputs": [
    {
     "data": {
      "application/vnd.microsoft.datawrangler.viewer.v0+json": {
       "columns": [
        {
         "name": "index",
         "rawType": "int64",
         "type": "integer"
        },
        {
         "name": "RNAcentral_id",
         "rawType": "object",
         "type": "string"
        },
        {
         "name": "rdp_id",
         "rawType": "object",
         "type": "string"
        },
        {
         "name": "ncbi_taxonid",
         "rawType": "object",
         "type": "string"
        }
       ],
       "conversionMethod": "pd.DataFrame",
       "ref": "dfeccc3d-4310-42b3-9c89-04074c559b5e",
       "rows": [
        [
         "0",
         "URS00000048FD",
         "S001044215",
         "449447"
        ],
        [
         "1",
         "URS000000725B",
         "S002033003",
         "661367"
        ],
        [
         "2",
         "URS000000725B",
         "S002033005",
         "661367"
        ],
        [
         "3",
         "URS0000018D70",
         "S001587739",
         "573235"
        ],
        [
         "4",
         "URS000001A33E",
         "S001548747",
         "484021"
        ],
        [
         "5",
         "URS000001A33E",
         "S004068549",
         "1244085"
        ],
        [
         "6",
         "URS000001D305",
         "S000711536",
         "373384"
        ],
        [
         "7",
         "URS000001D305",
         "S000711539",
         "373384"
        ],
        [
         "8",
         "URS000001D305",
         "S000711541",
         "373384"
        ],
        [
         "9",
         "URS000001D305",
         "S000711543",
         "373384"
        ],
        [
         "10",
         "URS000001D305",
         "S000711545",
         "373384"
        ],
        [
         "11",
         "URS000001D3A8",
         "S002236506",
         "404380"
        ],
        [
         "12",
         "URS000001D3A8",
         "S002236508",
         "404380"
        ],
        [
         "13",
         "URS000001E0E3",
         "S000528676",
         "218491"
        ],
        [
         "14",
         "URS000001E51B",
         "S000497714",
         "155864"
        ],
        [
         "15",
         "URS000001E6F0",
         "S003610549",
         "1218933"
        ],
        [
         "16",
         "URS0000020C0D",
         "S001548779",
         "595496"
        ],
        [
         "17",
         "URS0000023325",
         "S002949949",
         "198214"
        ],
        [
         "18",
         "URS0000023325",
         "S002949952",
         "198214"
        ],
        [
         "19",
         "URS0000023325",
         "S002949954",
         "198214"
        ],
        [
         "20",
         "URS0000023325",
         "S002949956",
         "198214"
        ],
        [
         "21",
         "URS0000025BBD",
         "S000711510",
         "393595"
        ],
        [
         "22",
         "URS0000025BBD",
         "S000711512",
         "393595"
        ],
        [
         "23",
         "URS0000025BBD",
         "S004065982",
         "393595"
        ],
        [
         "24",
         "URS0000026862",
         "S003277247",
         "910348"
        ],
        [
         "25",
         "URS000002BF75",
         "S002289035",
         "243265"
        ],
        [
         "26",
         "URS00000305B9",
         "S002907226",
         "218493"
        ],
        [
         "27",
         "URS00000305B9",
         "S002907228",
         "218493"
        ],
        [
         "28",
         "URS0000033B15",
         "S000618892",
         "300267"
        ],
        [
         "29",
         "URS0000033B15",
         "S000618895",
         "300267"
        ],
        [
         "30",
         "URS0000033B15",
         "S000618897",
         "300267"
        ],
        [
         "31",
         "URS0000033B15",
         "S000618899",
         "300267"
        ],
        [
         "32",
         "URS0000033B15",
         "S000618901",
         "300267"
        ],
        [
         "33",
         "URS0000033B15",
         "S000618903",
         "300267"
        ],
        [
         "34",
         "URS0000033B15",
         "S000618905",
         "300267"
        ],
        [
         "35",
         "URS0000034983",
         "S002967845",
         "885276"
        ],
        [
         "36",
         "URS0000034983",
         "S002967859",
         "885275"
        ],
        [
         "37",
         "URS000003628B",
         "S002236702",
         "198628"
        ],
        [
         "38",
         "URS000003DEF7",
         "S003880695",
         "1271862"
        ],
        [
         "39",
         "URS000003E04C",
         "S001328225",
         "66084"
        ],
        [
         "40",
         "URS00000406E9",
         "S001094725",
         "344609"
        ],
        [
         "41",
         "URS0000040F2C",
         "S000529098",
         "511145"
        ],
        [
         "42",
         "URS0000040F2C",
         "S000629954",
         "316407"
        ],
        [
         "43",
         "URS0000040F2C",
         "S001044253",
         "316385"
        ],
        [
         "44",
         "URS0000040F2C",
         "S001548776",
         "595496"
        ],
        [
         "45",
         "URS0000040F2C",
         "S003258993",
         "1110693"
        ],
        [
         "46",
         "URS0000040F2C",
         "S004067591",
         "910348"
        ],
        [
         "47",
         "URS0000040F2C",
         "S004067592",
         "910348"
        ],
        [
         "48",
         "URS000004494B",
         "S002039041",
         "515618"
        ],
        [
         "49",
         "URS000004494B",
         "S002039043",
         "515618"
        ]
       ],
       "shape": {
        "columns": 3,
        "rows": 10302
       }
      },
      "text/html": [
       "<div>\n",
       "<style scoped>\n",
       "    .dataframe tbody tr th:only-of-type {\n",
       "        vertical-align: middle;\n",
       "    }\n",
       "\n",
       "    .dataframe tbody tr th {\n",
       "        vertical-align: top;\n",
       "    }\n",
       "\n",
       "    .dataframe thead th {\n",
       "        text-align: right;\n",
       "    }\n",
       "</style>\n",
       "<table border=\"1\" class=\"dataframe\">\n",
       "  <thead>\n",
       "    <tr style=\"text-align: right;\">\n",
       "      <th></th>\n",
       "      <th>RNAcentral_id</th>\n",
       "      <th>rdp_id</th>\n",
       "      <th>ncbi_taxonid</th>\n",
       "    </tr>\n",
       "  </thead>\n",
       "  <tbody>\n",
       "    <tr>\n",
       "      <th>0</th>\n",
       "      <td>URS00000048FD</td>\n",
       "      <td>S001044215</td>\n",
       "      <td>449447</td>\n",
       "    </tr>\n",
       "    <tr>\n",
       "      <th>1</th>\n",
       "      <td>URS000000725B</td>\n",
       "      <td>S002033003</td>\n",
       "      <td>661367</td>\n",
       "    </tr>\n",
       "    <tr>\n",
       "      <th>2</th>\n",
       "      <td>URS000000725B</td>\n",
       "      <td>S002033005</td>\n",
       "      <td>661367</td>\n",
       "    </tr>\n",
       "    <tr>\n",
       "      <th>3</th>\n",
       "      <td>URS0000018D70</td>\n",
       "      <td>S001587739</td>\n",
       "      <td>573235</td>\n",
       "    </tr>\n",
       "    <tr>\n",
       "      <th>4</th>\n",
       "      <td>URS000001A33E</td>\n",
       "      <td>S001548747</td>\n",
       "      <td>484021</td>\n",
       "    </tr>\n",
       "    <tr>\n",
       "      <th>...</th>\n",
       "      <td>...</td>\n",
       "      <td>...</td>\n",
       "      <td>...</td>\n",
       "    </tr>\n",
       "    <tr>\n",
       "      <th>10297</th>\n",
       "      <td>URS0000789A84</td>\n",
       "      <td>S004064917</td>\n",
       "      <td>1407462</td>\n",
       "    </tr>\n",
       "    <tr>\n",
       "      <th>10298</th>\n",
       "      <td>URS0000789A84</td>\n",
       "      <td>S004064918</td>\n",
       "      <td>1407462</td>\n",
       "    </tr>\n",
       "    <tr>\n",
       "      <th>10299</th>\n",
       "      <td>URS0000789A84</td>\n",
       "      <td>S004066376</td>\n",
       "      <td>1407463</td>\n",
       "    </tr>\n",
       "    <tr>\n",
       "      <th>10300</th>\n",
       "      <td>URS0000789A84</td>\n",
       "      <td>S004066377</td>\n",
       "      <td>1407463</td>\n",
       "    </tr>\n",
       "    <tr>\n",
       "      <th>10301</th>\n",
       "      <td>URS0000789A85</td>\n",
       "      <td>S004067593</td>\n",
       "      <td>910348</td>\n",
       "    </tr>\n",
       "  </tbody>\n",
       "</table>\n",
       "<p>10302 rows × 3 columns</p>\n",
       "</div>"
      ],
      "text/plain": [
       "       RNAcentral_id      rdp_id ncbi_taxonid\n",
       "0      URS00000048FD  S001044215       449447\n",
       "1      URS000000725B  S002033003       661367\n",
       "2      URS000000725B  S002033005       661367\n",
       "3      URS0000018D70  S001587739       573235\n",
       "4      URS000001A33E  S001548747       484021\n",
       "...              ...         ...          ...\n",
       "10297  URS0000789A84  S004064917      1407462\n",
       "10298  URS0000789A84  S004064918      1407462\n",
       "10299  URS0000789A84  S004066376      1407463\n",
       "10300  URS0000789A84  S004066377      1407463\n",
       "10301  URS0000789A85  S004067593       910348\n",
       "\n",
       "[10302 rows x 3 columns]"
      ]
     },
     "execution_count": 12,
     "metadata": {},
     "output_type": "execute_result"
    }
   ],
   "source": [
    "rdp = pd.read_csv('rdp.tsv', sep='\\t', header=None)\n",
    "rdp.columns = ['RNAcentral_id', 'database', 'rdp_id', 'ncbi_taxonid', 'rna type', 'gene name']\n",
    "rdp = rdp[['RNAcentral_id', 'rdp_id', 'ncbi_taxonid']]\n",
    "rdp['ncbi_taxonid'] = rdp['ncbi_taxonid'].astype(str).str.replace(r'\\D', '', regex=True)\n",
    "rdp.drop_duplicates(inplace=True)\n",
    "rdp.reset_index(drop=True, inplace=True)\n",
    "rdp"
   ]
  },
  {
   "cell_type": "code",
   "execution_count": 13,
   "metadata": {},
   "outputs": [
    {
     "data": {
      "application/vnd.microsoft.datawrangler.viewer.v0+json": {
       "columns": [
        {
         "name": "index",
         "rawType": "int64",
         "type": "integer"
        },
        {
         "name": "ncbi_taxonid",
         "rawType": "object",
         "type": "string"
        },
        {
         "name": "rdp_id",
         "rawType": "object",
         "type": "string"
        },
        {
         "name": "RNAcentral_id",
         "rawType": "object",
         "type": "string"
        }
       ],
       "conversionMethod": "pd.DataFrame",
       "ref": "2f891293-89e5-4c33-aacb-3e63e57f2b91",
       "rows": [
        [
         "0",
         "1001534",
         "S004066353;S004066354;S004066355",
         "URS00006E34BD;URS00006E34BD;URS00006E34BD"
        ],
        [
         "1",
         "1001542",
         "S004068056;S004068057;S004068058",
         "URS00006E34BD;URS00006E34BD;URS00006E34BD"
        ],
        [
         "2",
         "1001582",
         "S004068875;S004068878;S004068877;S004068874;S004068880;S004068879;S004068876",
         "URS000066A179;URS000066A179;URS000066F0ED;URS000068900D;URS00006CC0C5;URS00006D7DE3;URS00006F1880"
        ],
        [
         "3",
         "1001583",
         "S004063727;S004063729;S004063726;S004063725;S004063728",
         "URS000067EE59;URS0000789585;URS00007896BA;URS0000789924;URS0000789A7D"
        ],
        [
         "4",
         "1001585",
         "S004064943;S004064944;S004064945;S004064946",
         "URS00006D19DF;URS000070D2C2;URS000070D2C2;URS000070D2C2"
        ],
        [
         "5",
         "100226",
         "S004065589;S002288850;S002290984;S004065590;S004065591;S004065588",
         "URS00006460AD;URS0000659441;URS0000659441;URS0000659441;URS0000659441;URS00006FBF5C"
        ],
        [
         "6",
         "1002672",
         "S004066570",
         "URS00006BDB63"
        ],
        [
         "7",
         "1002804",
         "S004064601;S004064602",
         "URS00006BC2CD;URS000071D37C"
        ],
        [
         "8",
         "1002809",
         "S004061574;S004061568;S004061569;S004061578;S004061573;S004061575;S004061571;S004061579;S004061577;S004061576;S004061570;S004061572",
         "URS000065A121;URS000065C8A3;URS0000669B24;URS000066C24A;URS000066FB8E;URS0000695AC3;URS00006D3F0C;URS00006E3B21;URS00006FC89C;URS0000703B42;URS000072C07E;URS000072C07E"
        ],
        [
         "9",
         "1003195",
         "S004063670;S004068769;S004063668;S004068768;S004068770;S004063666;S004063667;S004063671;S004068765;S004063669;S004068766;S004068767",
         "URS00006B4519;URS00006B4519;URS00006C35B0;URS00006C35B0;URS00006C35B0;URS00006EFA91;URS00006EFA91;URS00006EFA91;URS00006EFA91;URS00006F83D0;URS0000789778;URS0000789778"
        ],
        [
         "10",
         "1003201",
         "S004068654",
         "URS000055B91D"
        ],
        [
         "11",
         "1003202",
         "S004065134",
         "URS000055B91D"
        ],
        [
         "12",
         "1004785",
         "S004065377;S004065378;S004065379;S004065380;S004065376",
         "URS00007895FC;URS00007895FC;URS0000789763;URS0000789763;URS000078988B"
        ],
        [
         "13",
         "1004786",
         "S004068627;S004068626;S004068630;S004068628;S004068629",
         "URS000078958B;URS00007896B5;URS0000789838;URS000078999B;URS0000789A12"
        ],
        [
         "14",
         "1004787",
         "S004065108;S004065109;S004065111;S004065110;S004065112",
         "URS00007895FC;URS00007895FC;URS0000789731;URS0000789763;URS0000789763"
        ],
        [
         "15",
         "1004788",
         "S004061836;S004061837;S004061834;S004061835;S004061838",
         "URS00007895FC;URS00007895FC;URS0000789A51;URS0000789A51;URS0000789A51"
        ],
        [
         "16",
         "1004951",
         "S004068003;S004068006;S004068004;S004068005",
         "URS00006C7A21;URS00006C7A21;URS00006FD734;URS00006FD734"
        ],
        [
         "17",
         "1004952",
         "S004065258;S004065259;S004065260;S004065261",
         "URS00006798D1;URS00006798D1;URS00006798D1;URS00006AECB9"
        ],
        [
         "18",
         "1005041",
         "S004067093;S004067091;S004067092;S004067094",
         "URS000063AB2E;URS000063ACBF;URS000063ACBF;URS000063ACBF"
        ],
        [
         "19",
         "1005042",
         "S004063072;S004063073;S004063074;S004063071",
         "URS000065B894;URS000065B894;URS0000679EEF;URS00006992FB"
        ],
        [
         "20",
         "1005048",
         "S002950321;S002950324;S002950326",
         "URS00002A50B0;URS00002A50B0;URS00002A50B0"
        ],
        [
         "21",
         "1005057",
         "S004067306",
         "URS00006BD5B3"
        ],
        [
         "22",
         "1005058",
         "S004066023;S004066024;S004066025;S004066026;S004066027;S004066028",
         "URS00006A5778;URS00006A5778;URS00006A5778;URS00006A5778;URS00006A5778;URS00006A5778"
        ],
        [
         "23",
         "1005090",
         "S004068583",
         "URS0000651083"
        ],
        [
         "24",
         "1006007",
         "S004062478;S004062480;S004062482;S004063524;S004062483;S004062481;S004062484;S004062485;S004062486;S004062487;S004062479",
         "URS0000624F64;URS0000629AA8;URS0000672651;URS00006B616B;URS00006F8157;URS0000720F22;URS0000720F22;URS0000720F22;URS0000720F22;URS0000720F22;URS0000723550"
        ],
        [
         "25",
         "1006543",
         "S004066381;S004066384;S004066380;S004066383;S004066382",
         "URS000062E5F6;URS000064300F;URS000066D7CD;URS000068AE74;URS000069818A"
        ],
        [
         "26",
         "1006551",
         "S004068221;S004068227;S004068226;S004068228;S004068223;S004068224;S004068222;S004068225",
         "URS0000789592;URS000078961E;URS0000789691;URS0000789691;URS00007897DB;URS00007897DD;URS0000789816;URS0000789945"
        ],
        [
         "27",
         "1006581",
         "S004067209;S004067210",
         "URS000078970B;URS000078970B"
        ],
        [
         "28",
         "1007064",
         "S004067475;S004067477;S004067474;S004067476",
         "URS0000644D39;URS00006A9F90;URS00006B990E;URS00006B990E"
        ],
        [
         "29",
         "1007105",
         "S004064333;S004064334",
         "URS00006E2AE0;URS00006E2AE0"
        ],
        [
         "30",
         "1007870",
         "S004068165;S004068166",
         "URS000064B13E;URS000064B13E"
        ],
        [
         "31",
         "1007871",
         "S004067197;S004067198",
         "URS000064B13E;URS000064B13E"
        ],
        [
         "32",
         "1008297",
         "S004063106;S004063109;S004063105;S004063107;S004063104;S004063110;S004063108",
         "URS000034A98F;URS000034A98F;URS0000466605;URS000078966B;URS0000789672;URS00007897C8;URS00007898BC"
        ],
        [
         "33",
         "1008459",
         "S004065961;S004065962;S004065963",
         "URS000065736F;URS000065736F;URS000065736F"
        ],
        [
         "34",
         "100901",
         "S004065158",
         "URS0000789983"
        ],
        [
         "35",
         "1009464",
         "S004062526;S004062527",
         "URS00006B159A;URS00006B159A"
        ],
        [
         "36",
         "1009846",
         "S004063068;S004063067",
         "URS00007895C1;URS00007896AD"
        ],
        [
         "37",
         "1010840",
         "S004066371;S004066372;S004066373;S004066374;S004066375",
         "URS00007896E8;URS00007896E8;URS00007896E8;URS00007896E8;URS00007896E8"
        ],
        [
         "38",
         "101510",
         "S002288889;S002289805;S004061688;S004061689",
         "URS000067E35C;URS000067E35C;URS000067E35C;URS000067E35C"
        ],
        [
         "39",
         "1016998",
         "S002288432;S002287698;S002288815;S004066211;S002287491;S002288741;S004066212",
         "URS0000045902;URS000029420A;URS000029420A;URS00005FA3EA;URS000065BCBB;URS000065BCBB;URS000065BCBB"
        ],
        [
         "40",
         "1017264",
         "S004062449;S004062450;S004062451",
         "URS0000668110;URS0000668110;URS0000668110"
        ],
        [
         "41",
         "102608",
         "S004068890;S004068891",
         "URS00006942B0;URS00006942B0"
        ],
        [
         "42",
         "1028307",
         "S004067104;S004067106;S004067110;S004067109;S004067107;S004067108;S004067111;S004067105",
         "URS00006457D4;URS00006457D4;URS00006457D4;URS0000676C9B;URS000069395F;URS000069395F;URS000069395F;URS00006CB663"
        ],
        [
         "43",
         "1028799",
         "S004068501;S004068502;S004068503;S004068504;S004068505",
         "URS000064300F;URS000064300F;URS000064300F;URS000064300F;URS000064300F"
        ],
        [
         "44",
         "1029718",
         "S004067016;S004067017;S004067018;S004067019;S004067020;S004067021",
         "URS000064EB6D;URS000064EB6D;URS000064EB6D;URS000064EB6D;URS000064EB6D;URS000064EB6D"
        ],
        [
         "45",
         "1029756",
         "S004066903",
         "URS0000789686"
        ],
        [
         "46",
         "1029825",
         "S004063649;S004063650;S004068124",
         "URS000068894D;URS000068894D;URS00006F2FA5"
        ],
        [
         "47",
         "1030009",
         "S004066612;S004066608;S004066609;S004066610;S004066611;S004066613",
         "URS000062B1B9;URS0000698BE5;URS0000698BE5;URS0000698BE5;URS0000698BE5;URS00006A89B0"
        ],
        [
         "48",
         "1030843",
         "S004065730;S004065733;S004065731;S004065732",
         "URS0000637FF7;URS00006A6D7F;URS00006FC956;URS0000702E01"
        ],
        [
         "49",
         "1031709",
         "S004063329;S004063330;S004063331",
         "URS0000645547;URS0000645547;URS0000645547"
        ]
       ],
       "shape": {
        "columns": 3,
        "rows": 2487
       }
      },
      "text/html": [
       "<div>\n",
       "<style scoped>\n",
       "    .dataframe tbody tr th:only-of-type {\n",
       "        vertical-align: middle;\n",
       "    }\n",
       "\n",
       "    .dataframe tbody tr th {\n",
       "        vertical-align: top;\n",
       "    }\n",
       "\n",
       "    .dataframe thead th {\n",
       "        text-align: right;\n",
       "    }\n",
       "</style>\n",
       "<table border=\"1\" class=\"dataframe\">\n",
       "  <thead>\n",
       "    <tr style=\"text-align: right;\">\n",
       "      <th></th>\n",
       "      <th>ncbi_taxonid</th>\n",
       "      <th>rdp_id</th>\n",
       "      <th>RNAcentral_id</th>\n",
       "    </tr>\n",
       "  </thead>\n",
       "  <tbody>\n",
       "    <tr>\n",
       "      <th>0</th>\n",
       "      <td>1001534</td>\n",
       "      <td>S004066353;S004066354;S004066355</td>\n",
       "      <td>URS00006E34BD;URS00006E34BD;URS00006E34BD</td>\n",
       "    </tr>\n",
       "    <tr>\n",
       "      <th>1</th>\n",
       "      <td>1001542</td>\n",
       "      <td>S004068056;S004068057;S004068058</td>\n",
       "      <td>URS00006E34BD;URS00006E34BD;URS00006E34BD</td>\n",
       "    </tr>\n",
       "    <tr>\n",
       "      <th>2</th>\n",
       "      <td>1001582</td>\n",
       "      <td>S004068875;S004068878;S004068877;S004068874;S0...</td>\n",
       "      <td>URS000066A179;URS000066A179;URS000066F0ED;URS0...</td>\n",
       "    </tr>\n",
       "    <tr>\n",
       "      <th>3</th>\n",
       "      <td>1001583</td>\n",
       "      <td>S004063727;S004063729;S004063726;S004063725;S0...</td>\n",
       "      <td>URS000067EE59;URS0000789585;URS00007896BA;URS0...</td>\n",
       "    </tr>\n",
       "    <tr>\n",
       "      <th>4</th>\n",
       "      <td>1001585</td>\n",
       "      <td>S004064943;S004064944;S004064945;S004064946</td>\n",
       "      <td>URS00006D19DF;URS000070D2C2;URS000070D2C2;URS0...</td>\n",
       "    </tr>\n",
       "    <tr>\n",
       "      <th>...</th>\n",
       "      <td>...</td>\n",
       "      <td>...</td>\n",
       "      <td>...</td>\n",
       "    </tr>\n",
       "    <tr>\n",
       "      <th>2482</th>\n",
       "      <td>998820</td>\n",
       "      <td>S004066770;S004066767;S004066768;S004066769;S0...</td>\n",
       "      <td>URS00006A3688;URS00006EAC43;URS00006EAC43;URS0...</td>\n",
       "    </tr>\n",
       "    <tr>\n",
       "      <th>2483</th>\n",
       "      <td>999378</td>\n",
       "      <td>S004063915;S004063912;S004063913;S004063914;S0...</td>\n",
       "      <td>URS00006A3688;URS00006EAC43;URS00006EAC43;URS0...</td>\n",
       "    </tr>\n",
       "    <tr>\n",
       "      <th>2484</th>\n",
       "      <td>999541</td>\n",
       "      <td>S004063592;S004063593;S004064289;S004064290;S0...</td>\n",
       "      <td>URS0000642C4C;URS0000642C4C;URS0000642C4C;URS0...</td>\n",
       "    </tr>\n",
       "    <tr>\n",
       "      <th>2485</th>\n",
       "      <td>999552</td>\n",
       "      <td>S004063160;S004063161;S004063162;S004063163;S0...</td>\n",
       "      <td>URS00007895EC;URS00007895EC;URS00007895EC;URS0...</td>\n",
       "    </tr>\n",
       "    <tr>\n",
       "      <th>2486</th>\n",
       "      <td>999891</td>\n",
       "      <td>S004065600;S004065603;S004065601;S004065602;S0...</td>\n",
       "      <td>URS000064DEC0;URS000066A179;URS000068F285;URS0...</td>\n",
       "    </tr>\n",
       "  </tbody>\n",
       "</table>\n",
       "<p>2487 rows × 3 columns</p>\n",
       "</div>"
      ],
      "text/plain": [
       "     ncbi_taxonid                                             rdp_id  \\\n",
       "0         1001534                   S004066353;S004066354;S004066355   \n",
       "1         1001542                   S004068056;S004068057;S004068058   \n",
       "2         1001582  S004068875;S004068878;S004068877;S004068874;S0...   \n",
       "3         1001583  S004063727;S004063729;S004063726;S004063725;S0...   \n",
       "4         1001585        S004064943;S004064944;S004064945;S004064946   \n",
       "...           ...                                                ...   \n",
       "2482       998820  S004066770;S004066767;S004066768;S004066769;S0...   \n",
       "2483       999378  S004063915;S004063912;S004063913;S004063914;S0...   \n",
       "2484       999541  S004063592;S004063593;S004064289;S004064290;S0...   \n",
       "2485       999552  S004063160;S004063161;S004063162;S004063163;S0...   \n",
       "2486       999891  S004065600;S004065603;S004065601;S004065602;S0...   \n",
       "\n",
       "                                          RNAcentral_id  \n",
       "0             URS00006E34BD;URS00006E34BD;URS00006E34BD  \n",
       "1             URS00006E34BD;URS00006E34BD;URS00006E34BD  \n",
       "2     URS000066A179;URS000066A179;URS000066F0ED;URS0...  \n",
       "3     URS000067EE59;URS0000789585;URS00007896BA;URS0...  \n",
       "4     URS00006D19DF;URS000070D2C2;URS000070D2C2;URS0...  \n",
       "...                                                 ...  \n",
       "2482  URS00006A3688;URS00006EAC43;URS00006EAC43;URS0...  \n",
       "2483  URS00006A3688;URS00006EAC43;URS00006EAC43;URS0...  \n",
       "2484  URS0000642C4C;URS0000642C4C;URS0000642C4C;URS0...  \n",
       "2485  URS00007895EC;URS00007895EC;URS00007895EC;URS0...  \n",
       "2486  URS000064DEC0;URS000066A179;URS000068F285;URS0...  \n",
       "\n",
       "[2487 rows x 3 columns]"
      ]
     },
     "execution_count": 13,
     "metadata": {},
     "output_type": "execute_result"
    }
   ],
   "source": [
    "rdp_unique = rdp.groupby('ncbi_taxonid').agg({'rdp_id': lambda x: ';'.join(x), 'RNAcentral_id': lambda x: ';'.join(x)}).reset_index()\n",
    "rdp_unique"
   ]
  },
  {
   "cell_type": "markdown",
   "metadata": {},
   "source": [
    "### 2.5 GTDB"
   ]
  },
  {
   "cell_type": "markdown",
   "metadata": {},
   "source": [
    "Archaea"
   ]
  },
  {
   "cell_type": "code",
   "execution_count": 14,
   "metadata": {},
   "outputs": [
    {
     "data": {
      "application/vnd.microsoft.datawrangler.viewer.v0+json": {
       "columns": [
        {
         "name": "index",
         "rawType": "int64",
         "type": "integer"
        },
        {
         "name": "gtdb_id",
         "rawType": "object",
         "type": "string"
        },
        {
         "name": "ncbi_taxid",
         "rawType": "int64",
         "type": "integer"
        }
       ],
       "conversionMethod": "pd.DataFrame",
       "ref": "095e26fc-f435-4151-9058-2f36f1456502",
       "rows": [
        [
         "0",
         "RS_GCF_000485535.1",
         "795797"
        ],
        [
         "1",
         "GB_GCA_030638685.1",
         "2026747"
        ],
        [
         "2",
         "GB_GCA_003163595.1",
         "2026739"
        ],
        [
         "3",
         "GB_GCA_002782805.1",
         "1974380"
        ],
        [
         "4",
         "GB_GCA_939800415.1",
         "2563819"
        ],
        [
         "5",
         "GB_GCA_002508335.1",
         "1915715"
        ],
        [
         "6",
         "GB_GCA_002498625.1",
         "1915894"
        ],
        [
         "7",
         "GB_GCA_030446425.1",
         "2250255"
        ],
        [
         "8",
         "RS_GCF_003385755.1",
         "49339"
        ],
        [
         "9",
         "GB_GCA_021654395.1",
         "2250274"
        ],
        [
         "10",
         "GB_GCA_000402965.1",
         "1052827"
        ],
        [
         "11",
         "RS_GCF_000328665.1",
         "867904"
        ],
        [
         "12",
         "GB_GCA_030861865.1",
         "2056631"
        ],
        [
         "13",
         "GB_GCA_027374575.1",
         "2026803"
        ],
        [
         "14",
         "GB_GCA_011771385.1",
         "2202732"
        ],
        [
         "15",
         "GB_GCA_005881615.1",
         "2026714"
        ],
        [
         "16",
         "GB_GCA_027380485.1",
         "2268204"
        ],
        [
         "17",
         "GB_GCA_027363475.1",
         "2250274"
        ],
        [
         "18",
         "GB_GCA_027448225.1",
         "2268204"
        ],
        [
         "19",
         "GB_GCA_021833105.1",
         "1906666"
        ],
        [
         "20",
         "GB_GCA_027046105.1",
         "2528704"
        ],
        [
         "21",
         "GB_GCA_015522885.1",
         "1906666"
        ],
        [
         "22",
         "GB_GCA_027374535.1",
         "1906666"
        ],
        [
         "23",
         "GB_GCA_027366715.1",
         "2268204"
        ],
        [
         "24",
         "GB_GCA_027368205.1",
         "2268204"
        ],
        [
         "25",
         "GB_GCA_016784085.1",
         "2026773"
        ],
        [
         "26",
         "GB_GCA_016187405.1",
         "2093792"
        ],
        [
         "27",
         "RS_GCF_004104135.1",
         "2491675"
        ],
        [
         "28",
         "GB_GCA_938091495.1",
         "1740634"
        ],
        [
         "29",
         "GB_GCA_030045775.1",
         "1906666"
        ],
        [
         "30",
         "GB_GCA_021831945.1",
         "1906666"
        ],
        [
         "31",
         "GB_GCA_028099745.1",
         "2026739"
        ],
        [
         "32",
         "GB_GCA_027038505.1",
         "2599936"
        ],
        [
         "33",
         "RS_GCF_900110215.1",
         "1367881"
        ],
        [
         "34",
         "GB_GCA_005882885.1",
         "2026714"
        ],
        [
         "35",
         "RS_GCF_001560405.1",
         "2285"
        ],
        [
         "36",
         "GB_GCA_002499025.1",
         "1915542"
        ],
        [
         "37",
         "GB_GCA_022451825.1",
         "2666346"
        ],
        [
         "38",
         "GB_GCA_013425425.1",
         "2250274"
        ],
        [
         "39",
         "GB_GCA_009778275.1",
         "2052168"
        ],
        [
         "40",
         "GB_GCA_018302685.1",
         "2026803"
        ],
        [
         "41",
         "GB_GCA_027387185.1",
         "1906666"
        ],
        [
         "42",
         "GB_GCA_023246445.1",
         "2026803"
        ],
        [
         "43",
         "GB_GCA_013538675.1",
         "2927317"
        ],
        [
         "44",
         "RS_GCF_000337675.1",
         "1227497"
        ],
        [
         "45",
         "GB_GCA_002719815.1",
         "2026739"
        ],
        [
         "46",
         "GB_GCA_027380595.1",
         "2268204"
        ],
        [
         "47",
         "GB_GCA_021829835.1",
         "1869227"
        ],
        [
         "48",
         "RS_GCF_030848565.1",
         "3069757"
        ],
        [
         "49",
         "GB_GCA_023252445.1",
         "2978065"
        ]
       ],
       "shape": {
        "columns": 2,
        "rows": 12477
       }
      },
      "text/html": [
       "<div>\n",
       "<style scoped>\n",
       "    .dataframe tbody tr th:only-of-type {\n",
       "        vertical-align: middle;\n",
       "    }\n",
       "\n",
       "    .dataframe tbody tr th {\n",
       "        vertical-align: top;\n",
       "    }\n",
       "\n",
       "    .dataframe thead th {\n",
       "        text-align: right;\n",
       "    }\n",
       "</style>\n",
       "<table border=\"1\" class=\"dataframe\">\n",
       "  <thead>\n",
       "    <tr style=\"text-align: right;\">\n",
       "      <th></th>\n",
       "      <th>gtdb_id</th>\n",
       "      <th>ncbi_taxid</th>\n",
       "    </tr>\n",
       "  </thead>\n",
       "  <tbody>\n",
       "    <tr>\n",
       "      <th>0</th>\n",
       "      <td>RS_GCF_000485535.1</td>\n",
       "      <td>795797</td>\n",
       "    </tr>\n",
       "    <tr>\n",
       "      <th>1</th>\n",
       "      <td>GB_GCA_030638685.1</td>\n",
       "      <td>2026747</td>\n",
       "    </tr>\n",
       "    <tr>\n",
       "      <th>2</th>\n",
       "      <td>GB_GCA_003163595.1</td>\n",
       "      <td>2026739</td>\n",
       "    </tr>\n",
       "    <tr>\n",
       "      <th>3</th>\n",
       "      <td>GB_GCA_002782805.1</td>\n",
       "      <td>1974380</td>\n",
       "    </tr>\n",
       "    <tr>\n",
       "      <th>4</th>\n",
       "      <td>GB_GCA_939800415.1</td>\n",
       "      <td>2563819</td>\n",
       "    </tr>\n",
       "    <tr>\n",
       "      <th>...</th>\n",
       "      <td>...</td>\n",
       "      <td>...</td>\n",
       "    </tr>\n",
       "    <tr>\n",
       "      <th>12472</th>\n",
       "      <td>GB_GCA_009889605.1</td>\n",
       "      <td>2026714</td>\n",
       "    </tr>\n",
       "    <tr>\n",
       "      <th>12473</th>\n",
       "      <td>GB_GCA_938003605.1</td>\n",
       "      <td>437136</td>\n",
       "    </tr>\n",
       "    <tr>\n",
       "      <th>12474</th>\n",
       "      <td>GB_GCA_030699205.1</td>\n",
       "      <td>2026773</td>\n",
       "    </tr>\n",
       "    <tr>\n",
       "      <th>12475</th>\n",
       "      <td>RS_GCF_001729385.1</td>\n",
       "      <td>1860099</td>\n",
       "    </tr>\n",
       "    <tr>\n",
       "      <th>12476</th>\n",
       "      <td>GB_GCA_022729255.1</td>\n",
       "      <td>2099673</td>\n",
       "    </tr>\n",
       "  </tbody>\n",
       "</table>\n",
       "<p>12477 rows × 2 columns</p>\n",
       "</div>"
      ],
      "text/plain": [
       "                  gtdb_id  ncbi_taxid\n",
       "0      RS_GCF_000485535.1      795797\n",
       "1      GB_GCA_030638685.1     2026747\n",
       "2      GB_GCA_003163595.1     2026739\n",
       "3      GB_GCA_002782805.1     1974380\n",
       "4      GB_GCA_939800415.1     2563819\n",
       "...                   ...         ...\n",
       "12472  GB_GCA_009889605.1     2026714\n",
       "12473  GB_GCA_938003605.1      437136\n",
       "12474  GB_GCA_030699205.1     2026773\n",
       "12475  RS_GCF_001729385.1     1860099\n",
       "12476  GB_GCA_022729255.1     2099673\n",
       "\n",
       "[12477 rows x 2 columns]"
      ]
     },
     "execution_count": 14,
     "metadata": {},
     "output_type": "execute_result"
    }
   ],
   "source": [
    "gtdb_ar = pd.read_csv('GTDB/ar53_metadata_r220.tsv', sep='\\t')\n",
    "gtdb_ar = gtdb_ar[['accession', 'ncbi_taxid']]\n",
    "gtdb_ar.drop_duplicates(inplace=True)\n",
    "gtdb_ar.reset_index(drop=True, inplace=True)\n",
    "gtdb_ar.rename(columns={'accession': 'gtdb_id'}, inplace=True)\n",
    "gtdb_ar"
   ]
  },
  {
   "cell_type": "markdown",
   "metadata": {},
   "source": [
    "Bacteria"
   ]
  },
  {
   "cell_type": "code",
   "execution_count": 15,
   "metadata": {},
   "outputs": [
    {
     "data": {
      "application/vnd.microsoft.datawrangler.viewer.v0+json": {
       "columns": [
        {
         "name": "index",
         "rawType": "int64",
         "type": "integer"
        },
        {
         "name": "gtdb_id",
         "rawType": "object",
         "type": "string"
        },
        {
         "name": "ncbi_taxid",
         "rawType": "int64",
         "type": "integer"
        }
       ],
       "conversionMethod": "pd.DataFrame",
       "ref": "3093e98d-5e3c-4b33-88f2-eeab5586a95f",
       "rows": [
        [
         "0",
         "RS_GCF_000657795.2",
         "1331258"
        ],
        [
         "1",
         "RS_GCF_001072555.1",
         "1282"
        ],
        [
         "2",
         "RS_GCF_003050715.1",
         "2135698"
        ],
        [
         "3",
         "RS_GCF_016772635.1",
         "90371"
        ],
        [
         "4",
         "GB_GCA_000615405.1",
         "1236944"
        ],
        [
         "5",
         "RS_GCF_021124355.1",
         "41997"
        ],
        [
         "6",
         "RS_GCF_900587275.1",
         "33069"
        ],
        [
         "7",
         "RS_GCF_900482965.1",
         "1280"
        ],
        [
         "8",
         "RS_GCF_003327795.1",
         "562"
        ],
        [
         "9",
         "RS_GCF_013601685.1",
         "562"
        ],
        [
         "10",
         "RS_GCF_022555835.1",
         "287"
        ],
        [
         "11",
         "RS_GCF_902460725.1",
         "199"
        ],
        [
         "12",
         "RS_GCF_900496915.1",
         "470"
        ],
        [
         "13",
         "RS_GCF_000019185.1",
         "458817"
        ],
        [
         "14",
         "RS_GCF_003310275.1",
         "1280"
        ],
        [
         "15",
         "RS_GCF_000817045.1",
         "28025"
        ],
        [
         "16",
         "GB_GCA_024792605.1",
         "28116"
        ],
        [
         "17",
         "RS_GCF_902499505.1",
         "573"
        ],
        [
         "18",
         "RS_GCF_001261985.1",
         "632"
        ],
        [
         "19",
         "RS_GCF_002894975.1",
         "1605"
        ],
        [
         "20",
         "RS_GCF_009825915.1",
         "573"
        ],
        [
         "21",
         "RS_GCF_029916525.1",
         "573"
        ],
        [
         "22",
         "GB_GCA_028874835.1",
         "2026724"
        ],
        [
         "23",
         "RS_GCF_001664575.1",
         "470"
        ],
        [
         "24",
         "RS_GCF_003934385.1",
         "1307"
        ],
        [
         "25",
         "RS_GCF_029269735.1",
         "1280"
        ],
        [
         "26",
         "GB_GCA_937888745.1",
         "195044"
        ],
        [
         "27",
         "GB_GCA_902781395.1",
         "172733"
        ],
        [
         "28",
         "GB_GCA_948628405.1",
         "876091"
        ],
        [
         "29",
         "GB_GCA_948562715.1",
         "2301481"
        ],
        [
         "30",
         "GB_GCA_937930335.1",
         "1229253"
        ],
        [
         "31",
         "RS_GCF_947051905.1",
         "1352"
        ],
        [
         "32",
         "GB_GCA_949486025.1",
         "2486465"
        ],
        [
         "33",
         "GB_GCA_958444985.1",
         "331632"
        ],
        [
         "34",
         "GB_GCA_934196075.1",
         "361586"
        ],
        [
         "35",
         "GB_GCA_934678915.1",
         "194843"
        ],
        [
         "36",
         "RS_GCF_900755665.1",
         "512318"
        ],
        [
         "37",
         "RS_GCF_001809105.1",
         "1715032"
        ],
        [
         "38",
         "RS_GCF_951801435.1",
         "221953"
        ],
        [
         "39",
         "RS_GCF_907177045.1",
         "562"
        ],
        [
         "40",
         "GB_GCA_948754605.1",
         "2301481"
        ],
        [
         "41",
         "GB_GCA_948954465.1",
         "876416"
        ],
        [
         "42",
         "GB_GCA_903918305.1",
         "194843"
        ],
        [
         "43",
         "RS_GCF_902160065.1",
         "208224"
        ],
        [
         "44",
         "RS_GCF_900073115.1",
         "1496"
        ],
        [
         "45",
         "GB_GCA_949515745.1",
         "1898203"
        ],
        [
         "46",
         "GB_GCA_948796045.1",
         "2301481"
        ],
        [
         "47",
         "GB_GCA_948968855.1",
         "2163171"
        ],
        [
         "48",
         "GB_GCA_947373905.1",
         "1891238"
        ],
        [
         "49",
         "GB_GCA_934195995.1",
         "83427"
        ]
       ],
       "shape": {
        "columns": 2,
        "rows": 584382
       }
      },
      "text/html": [
       "<div>\n",
       "<style scoped>\n",
       "    .dataframe tbody tr th:only-of-type {\n",
       "        vertical-align: middle;\n",
       "    }\n",
       "\n",
       "    .dataframe tbody tr th {\n",
       "        vertical-align: top;\n",
       "    }\n",
       "\n",
       "    .dataframe thead th {\n",
       "        text-align: right;\n",
       "    }\n",
       "</style>\n",
       "<table border=\"1\" class=\"dataframe\">\n",
       "  <thead>\n",
       "    <tr style=\"text-align: right;\">\n",
       "      <th></th>\n",
       "      <th>gtdb_id</th>\n",
       "      <th>ncbi_taxid</th>\n",
       "    </tr>\n",
       "  </thead>\n",
       "  <tbody>\n",
       "    <tr>\n",
       "      <th>0</th>\n",
       "      <td>RS_GCF_000657795.2</td>\n",
       "      <td>1331258</td>\n",
       "    </tr>\n",
       "    <tr>\n",
       "      <th>1</th>\n",
       "      <td>RS_GCF_001072555.1</td>\n",
       "      <td>1282</td>\n",
       "    </tr>\n",
       "    <tr>\n",
       "      <th>2</th>\n",
       "      <td>RS_GCF_003050715.1</td>\n",
       "      <td>2135698</td>\n",
       "    </tr>\n",
       "    <tr>\n",
       "      <th>3</th>\n",
       "      <td>RS_GCF_016772635.1</td>\n",
       "      <td>90371</td>\n",
       "    </tr>\n",
       "    <tr>\n",
       "      <th>4</th>\n",
       "      <td>GB_GCA_000615405.1</td>\n",
       "      <td>1236944</td>\n",
       "    </tr>\n",
       "    <tr>\n",
       "      <th>...</th>\n",
       "      <td>...</td>\n",
       "      <td>...</td>\n",
       "    </tr>\n",
       "    <tr>\n",
       "      <th>584377</th>\n",
       "      <td>GB_GCA_949039885.1</td>\n",
       "      <td>297314</td>\n",
       "    </tr>\n",
       "    <tr>\n",
       "      <th>584378</th>\n",
       "      <td>GB_GCA_905234525.1</td>\n",
       "      <td>297314</td>\n",
       "    </tr>\n",
       "    <tr>\n",
       "      <th>584379</th>\n",
       "      <td>GB_GCA_948663365.1</td>\n",
       "      <td>2301481</td>\n",
       "    </tr>\n",
       "    <tr>\n",
       "      <th>584380</th>\n",
       "      <td>GB_GCA_948940555.1</td>\n",
       "      <td>2301481</td>\n",
       "    </tr>\n",
       "    <tr>\n",
       "      <th>584381</th>\n",
       "      <td>GB_GCA_000753355.2</td>\n",
       "      <td>1499689</td>\n",
       "    </tr>\n",
       "  </tbody>\n",
       "</table>\n",
       "<p>584382 rows × 2 columns</p>\n",
       "</div>"
      ],
      "text/plain": [
       "                   gtdb_id  ncbi_taxid\n",
       "0       RS_GCF_000657795.2     1331258\n",
       "1       RS_GCF_001072555.1        1282\n",
       "2       RS_GCF_003050715.1     2135698\n",
       "3       RS_GCF_016772635.1       90371\n",
       "4       GB_GCA_000615405.1     1236944\n",
       "...                    ...         ...\n",
       "584377  GB_GCA_949039885.1      297314\n",
       "584378  GB_GCA_905234525.1      297314\n",
       "584379  GB_GCA_948663365.1     2301481\n",
       "584380  GB_GCA_948940555.1     2301481\n",
       "584381  GB_GCA_000753355.2     1499689\n",
       "\n",
       "[584382 rows x 2 columns]"
      ]
     },
     "execution_count": 15,
     "metadata": {},
     "output_type": "execute_result"
    }
   ],
   "source": [
    "gtdb_bar = pd.read_csv('GTDB/bac120_metadata_r220.tsv', sep='\\t')\n",
    "gtdb_bar = gtdb_bar[['accession', 'ncbi_taxid']]\n",
    "gtdb_bar.drop_duplicates(inplace=True)\n",
    "gtdb_bar.reset_index(drop=True, inplace=True)\n",
    "gtdb_bar.rename(columns={'accession': 'gtdb_id'}, inplace=True)\n",
    "gtdb_bar"
   ]
  },
  {
   "cell_type": "markdown",
   "metadata": {},
   "source": [
    "GTDB - Final Version"
   ]
  },
  {
   "cell_type": "code",
   "execution_count": 16,
   "metadata": {},
   "outputs": [
    {
     "data": {
      "application/vnd.microsoft.datawrangler.viewer.v0+json": {
       "columns": [
        {
         "name": "index",
         "rawType": "int64",
         "type": "integer"
        },
        {
         "name": "ncbi_taxid",
         "rawType": "object",
         "type": "string"
        },
        {
         "name": "gtdb_id",
         "rawType": "object",
         "type": "string"
        }
       ],
       "conversionMethod": "pd.DataFrame",
       "ref": "cb6765be-688d-4b63-a45c-6321d3c4424e",
       "rows": [
        [
         "0",
         "100",
         "GB_GCA_003963445.1;RS_GCF_004339465.1"
        ],
        [
         "1",
         "100053",
         "RS_GCF_002009845.1;RS_GCF_002009775.1;RS_GCF_002009825.1;RS_GCF_002009805.1;RS_GCF_002009835.1"
        ],
        [
         "2",
         "1000561",
         "RS_GCF_000220025.3"
        ],
        [
         "3",
         "1000562",
         "RS_GCF_000772915.1"
        ],
        [
         "4",
         "1000565",
         "RS_GCF_000214035.2"
        ],
        [
         "5",
         "1000566",
         "RS_GCF_014137975.1"
        ],
        [
         "6",
         "1000568",
         "RS_GCF_000214495.1"
        ],
        [
         "7",
         "1000569",
         "RS_GCF_000221545.1"
        ],
        [
         "8",
         "1000570",
         "RS_GCF_000474055.1;RS_GCF_000373605.1;RS_GCF_002088025.1;RS_GCF_000214555.1"
        ],
        [
         "9",
         "1000588",
         "RS_GCF_000222705.1"
        ],
        [
         "10",
         "1000589",
         "GB_GCA_000214575.2"
        ],
        [
         "11",
         "1000590",
         "GB_GCA_000239515.2"
        ],
        [
         "12",
         "1000935",
         "RS_GCF_000215505.1"
        ],
        [
         "13",
         "1000936",
         "RS_GCF_000215605.1"
        ],
        [
         "14",
         "1000938",
         "RS_GCF_000215565.1"
        ],
        [
         "15",
         "1000951",
         "RS_GCF_000303125.1"
        ],
        [
         "16",
         "1000952",
         "RS_GCF_000305675.2"
        ],
        [
         "17",
         "1000953",
         "RS_GCF_000327205.3"
        ],
        [
         "18",
         "1001240",
         "RS_GCF_000764165.1;RS_GCF_014200405.1"
        ],
        [
         "19",
         "1001530",
         "RS_GCF_000211495.1"
        ],
        [
         "20",
         "1001534",
         "RS_GCF_000248435.2"
        ],
        [
         "21",
         "1001542",
         "RS_GCF_000248415.2"
        ],
        [
         "22",
         "1001582",
         "RS_GCF_000204275.1"
        ],
        [
         "23",
         "1001583",
         "RS_GCF_000359625.1"
        ],
        [
         "24",
         "1001585",
         "RS_GCF_000204295.1"
        ],
        [
         "25",
         "1001586",
         "RS_GCF_000216375.1"
        ],
        [
         "26",
         "1001587",
         "RS_GCF_000216355.1"
        ],
        [
         "27",
         "1001588",
         "RS_GCF_000216335.1"
        ],
        [
         "28",
         "1001589",
         "RS_GCF_000216315.1"
        ],
        [
         "29",
         "1001590",
         "GB_GCA_000216295.3"
        ],
        [
         "30",
         "1001591",
         "RS_GCF_000216235.1"
        ],
        [
         "31",
         "1001592",
         "RS_GCF_000216275.1"
        ],
        [
         "32",
         "1001593",
         "RS_GCF_000216255.2"
        ],
        [
         "33",
         "1001595",
         "RS_GCF_000306255.2"
        ],
        [
         "34",
         "1001596",
         "RS_GCF_000216195.1"
        ],
        [
         "35",
         "1001597",
         "GB_GCA_000216175.3"
        ],
        [
         "36",
         "1001598",
         "GB_GCA_000216155.3"
        ],
        [
         "37",
         "1001599",
         "GB_GCA_000216135.3"
        ],
        [
         "38",
         "1001601",
         "GB_GCA_000216115.3"
        ],
        [
         "39",
         "1001602",
         "RS_GCF_000216055.1"
        ],
        [
         "40",
         "1001603",
         "RS_GCF_000216035.1"
        ],
        [
         "41",
         "1001704",
         "RS_GCF_000271165.1"
        ],
        [
         "42",
         "1001705",
         "RS_GCF_000271285.1"
        ],
        [
         "43",
         "1001706",
         "RS_GCF_000270885.1"
        ],
        [
         "44",
         "1001707",
         "RS_GCF_000308015.1"
        ],
        [
         "45",
         "1001708",
         "RS_GCF_000270905.1"
        ],
        [
         "46",
         "1001709",
         "RS_GCF_000270925.1"
        ],
        [
         "47",
         "1001710",
         "RS_GCF_000270945.1"
        ],
        [
         "48",
         "1001711",
         "RS_GCF_000270805.1"
        ],
        [
         "49",
         "1001712",
         "RS_GCF_000270785.1"
        ]
       ],
       "shape": {
        "columns": 2,
        "rows": 92444
       }
      },
      "text/html": [
       "<div>\n",
       "<style scoped>\n",
       "    .dataframe tbody tr th:only-of-type {\n",
       "        vertical-align: middle;\n",
       "    }\n",
       "\n",
       "    .dataframe tbody tr th {\n",
       "        vertical-align: top;\n",
       "    }\n",
       "\n",
       "    .dataframe thead th {\n",
       "        text-align: right;\n",
       "    }\n",
       "</style>\n",
       "<table border=\"1\" class=\"dataframe\">\n",
       "  <thead>\n",
       "    <tr style=\"text-align: right;\">\n",
       "      <th></th>\n",
       "      <th>ncbi_taxid</th>\n",
       "      <th>gtdb_id</th>\n",
       "    </tr>\n",
       "  </thead>\n",
       "  <tbody>\n",
       "    <tr>\n",
       "      <th>0</th>\n",
       "      <td>100</td>\n",
       "      <td>GB_GCA_003963445.1;RS_GCF_004339465.1</td>\n",
       "    </tr>\n",
       "    <tr>\n",
       "      <th>1</th>\n",
       "      <td>100053</td>\n",
       "      <td>RS_GCF_002009845.1;RS_GCF_002009775.1;RS_GCF_0...</td>\n",
       "    </tr>\n",
       "    <tr>\n",
       "      <th>2</th>\n",
       "      <td>1000561</td>\n",
       "      <td>RS_GCF_000220025.3</td>\n",
       "    </tr>\n",
       "    <tr>\n",
       "      <th>3</th>\n",
       "      <td>1000562</td>\n",
       "      <td>RS_GCF_000772915.1</td>\n",
       "    </tr>\n",
       "    <tr>\n",
       "      <th>4</th>\n",
       "      <td>1000565</td>\n",
       "      <td>RS_GCF_000214035.2</td>\n",
       "    </tr>\n",
       "    <tr>\n",
       "      <th>...</th>\n",
       "      <td>...</td>\n",
       "      <td>...</td>\n",
       "    </tr>\n",
       "    <tr>\n",
       "      <th>92439</th>\n",
       "      <td>999891</td>\n",
       "      <td>RS_GCF_000195515.1</td>\n",
       "    </tr>\n",
       "    <tr>\n",
       "      <th>92440</th>\n",
       "      <td>999892</td>\n",
       "      <td>RS_GCF_000204235.1</td>\n",
       "    </tr>\n",
       "    <tr>\n",
       "      <th>92441</th>\n",
       "      <td>999894</td>\n",
       "      <td>GB_GCA_011322625.1;RS_GCF_001652585.1</td>\n",
       "    </tr>\n",
       "    <tr>\n",
       "      <th>92442</th>\n",
       "      <td>999898</td>\n",
       "      <td>GB_GCA_001029295.1</td>\n",
       "    </tr>\n",
       "    <tr>\n",
       "      <th>92443</th>\n",
       "      <td>999931</td>\n",
       "      <td>RS_GCF_910573815.1;RS_GCF_006716095.1</td>\n",
       "    </tr>\n",
       "  </tbody>\n",
       "</table>\n",
       "<p>92444 rows × 2 columns</p>\n",
       "</div>"
      ],
      "text/plain": [
       "      ncbi_taxid                                            gtdb_id\n",
       "0            100              GB_GCA_003963445.1;RS_GCF_004339465.1\n",
       "1         100053  RS_GCF_002009845.1;RS_GCF_002009775.1;RS_GCF_0...\n",
       "2        1000561                                 RS_GCF_000220025.3\n",
       "3        1000562                                 RS_GCF_000772915.1\n",
       "4        1000565                                 RS_GCF_000214035.2\n",
       "...          ...                                                ...\n",
       "92439     999891                                 RS_GCF_000195515.1\n",
       "92440     999892                                 RS_GCF_000204235.1\n",
       "92441     999894              GB_GCA_011322625.1;RS_GCF_001652585.1\n",
       "92442     999898                                 GB_GCA_001029295.1\n",
       "92443     999931              RS_GCF_910573815.1;RS_GCF_006716095.1\n",
       "\n",
       "[92444 rows x 2 columns]"
      ]
     },
     "execution_count": 16,
     "metadata": {},
     "output_type": "execute_result"
    }
   ],
   "source": [
    "grdb_final = pd.concat([gtdb_ar, gtdb_bar], ignore_index=True)\n",
    "grdb_final['ncbi_taxid'] = grdb_final['ncbi_taxid'].astype(str).str.replace(r'\\D', '', regex=True)\n",
    "grdb_final.drop_duplicates(inplace=True)\n",
    "grdb_final.reset_index(drop=True, inplace=True)\n",
    "\n",
    "gtdb_unique = grdb_final.groupby('ncbi_taxid').agg({'gtdb_id': lambda x: ';'.join(x)}).reset_index()\n",
    "gtdb_unique"
   ]
  },
  {
   "cell_type": "markdown",
   "metadata": {},
   "source": [
    "## 3. Merge Data"
   ]
  },
  {
   "cell_type": "code",
   "execution_count": null,
   "metadata": {},
   "outputs": [],
   "source": [
    "# check duplicates inside the dataframe\n",
    "def merge_column(df, column1, column2, new_column):\n",
    "    df[column1] = df[column1].fillna('')\n",
    "    df[column2] = df[column2].fillna('')\n",
    "    df[new_column] = df.apply(lambda row: f\"{row[column1]} {row[column2]}\".strip(), axis=1)\n",
    "\n",
    "    expanded_rows = df[new_column].str.split(expand=True).stack().reset_index(level=1, drop=True)\n",
    "    expanded_rows.name = new_column\n",
    "\n",
    "    df = df.drop(columns=[new_column]).join(expanded_rows)\n",
    "    df.drop(columns=[column1, column2], inplace=True)\n",
    "    df.drop_duplicates(inplace=True)\n",
    "    \n",
    "    return df\n",
    "\n",
    "def merge_string_columns(df, columns, merge_name, separator=';'):\n",
    "    def merge_strings(row):\n",
    "        combined = set()\n",
    "        for column in columns:\n",
    "            if pd.notnull(row[column]):\n",
    "                combined.update(row[column].split(separator))\n",
    "        return separator.join(combined)\n",
    "    \n",
    "    # Apply the function to each row and create a new column\n",
    "    combined_column_name = merge_name\n",
    "    df[combined_column_name] = df.apply(merge_strings, axis=1)\n",
    "    df.drop(columns=columns, inplace=True)\n",
    "    \n",
    "    return df\n",
    "    "
   ]
  },
  {
   "cell_type": "markdown",
   "metadata": {},
   "source": [
    "### 3.1 NCBI + SILVA"
   ]
  },
  {
   "cell_type": "code",
   "execution_count": 18,
   "metadata": {},
   "outputs": [
    {
     "data": {
      "application/vnd.microsoft.datawrangler.viewer.v0+json": {
       "columns": [
        {
         "name": "index",
         "rawType": "int64",
         "type": "integer"
        },
        {
         "name": "ncbi_taxonid",
         "rawType": "object",
         "type": "string"
        },
        {
         "name": "name",
         "rawType": "object",
         "type": "unknown"
        },
        {
         "name": "silva_id",
         "rawType": "object",
         "type": "unknown"
        }
       ],
       "conversionMethod": "pd.DataFrame",
       "ref": "6e7b94b3-503c-4479-b6d9-b3758578898e",
       "rows": [
        [
         "0",
         "10",
         "Cellvibrio",
         null
        ],
        [
         "1",
         "100",
         "Ancylobacter aquaticus",
         "FJ572205;FJ572206;FJ572207;FJ572208;FJ572209;AB681795;M62790"
        ],
        [
         "2",
         "100000",
         "Herbaspirillum sp. BA12",
         "AF164051"
        ],
        [
         "3",
         "1000000",
         "Microbacterium sp. 6.11-VPa",
         null
        ],
        [
         "4",
         "1000001",
         "Mycobacterium sp. 1.1-VEs",
         null
        ],
        [
         "5",
         "1000002",
         "Mycobacterium sp. 1.12-VEs",
         null
        ],
        [
         "6",
         "1000003",
         "Nocardia sp. 3.2-VPr",
         null
        ],
        [
         "7",
         "1000004",
         "Polaromonas sp. 7.23-VPa",
         null
        ],
        [
         "8",
         "1000005",
         "Promicromonospora sp. 10.25-Bb",
         null
        ],
        [
         "9",
         "1000006",
         "Promicromonospora sp. 3.1- VPr",
         null
        ],
        [
         "10",
         "1000007",
         "Pseudomonas sp. 10S-VPa",
         null
        ],
        [
         "11",
         "1000008",
         "Pseudomonas sp. 5B-VPa",
         null
        ],
        [
         "12",
         "1000009",
         "Pseudomonas sp. 5K-VPa",
         null
        ],
        [
         "13",
         "100001",
         "Herbaspirillum sp. BA14",
         "AF164052"
        ],
        [
         "14",
         "1000010",
         "Pseudomonas sp. 5KS-VPa",
         null
        ],
        [
         "15",
         "1000011",
         "Pseudomonas sp. 5KW-VPa",
         null
        ],
        [
         "16",
         "1000012",
         "Pseudomonas sp. 5S-VPa",
         null
        ],
        [
         "17",
         "1000013",
         "Pseudomonas sp. 5T-VPa",
         null
        ],
        [
         "18",
         "1000014",
         "Pseudomonas sp. 6S-VPa",
         null
        ],
        [
         "19",
         "1000015",
         "Rhodococcus sp. 1.15-VEs",
         null
        ],
        [
         "20",
         "1000016",
         "Rhodococcus sp. 1.3-VEs",
         null
        ],
        [
         "21",
         "1000017",
         "Rhodococcus sp. 3.3-VPr",
         null
        ],
        [
         "22",
         "1000018",
         "Rhodococcus sp. 4.20-VOd",
         null
        ],
        [
         "23",
         "1000019",
         "Rhodococcus sp. 4.20ST-VOd",
         null
        ],
        [
         "24",
         "100002",
         "Herbaspirillum sp. BA15",
         "AF164053"
        ],
        [
         "25",
         "1000020",
         "Sanguibacter sp. 1.16-VEs",
         null
        ],
        [
         "26",
         "1000021",
         "Sanguibacter sp. 1.23-VEs",
         null
        ],
        [
         "27",
         "1000022",
         "Sanguibacter sp. 1.23S-VEs",
         null
        ],
        [
         "28",
         "1000023",
         "Comamonadaceae bacterium 12S-VPa",
         null
        ],
        [
         "29",
         "1000024",
         "Intrasporangiaceae bacterium 7.31-VPa",
         null
        ],
        [
         "30",
         "1000025",
         "Intrasporangiaceae bacterium 7.4-VPa",
         null
        ],
        [
         "31",
         "1000026",
         "Micrococcineae bacterium 9.2-BP",
         null
        ],
        [
         "32",
         "1000027",
         "alpha proteobacterium 6.6-VPa",
         null
        ],
        [
         "33",
         "1000028",
         null,
         "HQ391902"
        ],
        [
         "34",
         "1000029",
         "Pseudomonas sp. MBYD-1",
         "HQ324140"
        ],
        [
         "35",
         "100003",
         "Herbaspirillum sp. BA16",
         "AF164054"
        ],
        [
         "36",
         "1000030",
         "Agrobacterium sp. G21-07",
         null
        ],
        [
         "37",
         "1000031",
         "Agrobacterium sp. G21-09",
         null
        ],
        [
         "38",
         "1000032",
         "Enterobacter sp. P19-19",
         null
        ],
        [
         "39",
         "1000033",
         "Flavobacterium sp. G23-27",
         null
        ],
        [
         "40",
         "1000034",
         "Erwinia sp. Koakin",
         null
        ],
        [
         "41",
         "100004",
         "Herbaspirillum sp. BA134",
         null
        ],
        [
         "42",
         "100005",
         "Herbaspirillum sp. BA161",
         "AF164063"
        ],
        [
         "43",
         "100006",
         "Azospirillum sp. Ala",
         null
        ],
        [
         "44",
         "100007",
         "Mycobacterium sp. C2-3",
         "AF165182"
        ],
        [
         "45",
         "100012",
         "Bartonella sp. RR13863PO",
         null
        ],
        [
         "46",
         "100013",
         "Bartonella sp. MM5136CA",
         null
        ],
        [
         "47",
         "100014",
         "diazotroph str. AB48",
         "AF164043"
        ],
        [
         "48",
         "100015",
         "diazotroph str. AB71",
         null
        ],
        [
         "49",
         "100016",
         "diazotroph str. AB117",
         null
        ]
       ],
       "shape": {
        "columns": 3,
        "rows": 620528
       }
      },
      "text/html": [
       "<div>\n",
       "<style scoped>\n",
       "    .dataframe tbody tr th:only-of-type {\n",
       "        vertical-align: middle;\n",
       "    }\n",
       "\n",
       "    .dataframe tbody tr th {\n",
       "        vertical-align: top;\n",
       "    }\n",
       "\n",
       "    .dataframe thead th {\n",
       "        text-align: right;\n",
       "    }\n",
       "</style>\n",
       "<table border=\"1\" class=\"dataframe\">\n",
       "  <thead>\n",
       "    <tr style=\"text-align: right;\">\n",
       "      <th></th>\n",
       "      <th>ncbi_taxonid</th>\n",
       "      <th>name</th>\n",
       "      <th>silva_id</th>\n",
       "    </tr>\n",
       "  </thead>\n",
       "  <tbody>\n",
       "    <tr>\n",
       "      <th>0</th>\n",
       "      <td>10</td>\n",
       "      <td>Cellvibrio</td>\n",
       "      <td>NaN</td>\n",
       "    </tr>\n",
       "    <tr>\n",
       "      <th>1</th>\n",
       "      <td>100</td>\n",
       "      <td>Ancylobacter aquaticus</td>\n",
       "      <td>FJ572205;FJ572206;FJ572207;FJ572208;FJ572209;A...</td>\n",
       "    </tr>\n",
       "    <tr>\n",
       "      <th>2</th>\n",
       "      <td>100000</td>\n",
       "      <td>Herbaspirillum sp. BA12</td>\n",
       "      <td>AF164051</td>\n",
       "    </tr>\n",
       "    <tr>\n",
       "      <th>3</th>\n",
       "      <td>1000000</td>\n",
       "      <td>Microbacterium sp. 6.11-VPa</td>\n",
       "      <td>NaN</td>\n",
       "    </tr>\n",
       "    <tr>\n",
       "      <th>4</th>\n",
       "      <td>1000001</td>\n",
       "      <td>Mycobacterium sp. 1.1-VEs</td>\n",
       "      <td>NaN</td>\n",
       "    </tr>\n",
       "    <tr>\n",
       "      <th>...</th>\n",
       "      <td>...</td>\n",
       "      <td>...</td>\n",
       "      <td>...</td>\n",
       "    </tr>\n",
       "    <tr>\n",
       "      <th>620523</th>\n",
       "      <td>999995</td>\n",
       "      <td>Arthrobacter sp. 8.25ST-VSa</td>\n",
       "      <td>NaN</td>\n",
       "    </tr>\n",
       "    <tr>\n",
       "      <th>620524</th>\n",
       "      <td>999996</td>\n",
       "      <td>Arthrobacter sp. 9.22-BP</td>\n",
       "      <td>NaN</td>\n",
       "    </tr>\n",
       "    <tr>\n",
       "      <th>620525</th>\n",
       "      <td>999997</td>\n",
       "      <td>Arthrobacter sp. 9.29ST-BP</td>\n",
       "      <td>NaN</td>\n",
       "    </tr>\n",
       "    <tr>\n",
       "      <th>620526</th>\n",
       "      <td>999998</td>\n",
       "      <td>Clavibacter sp. 10.27ST-Bb</td>\n",
       "      <td>NaN</td>\n",
       "    </tr>\n",
       "    <tr>\n",
       "      <th>620527</th>\n",
       "      <td>999999</td>\n",
       "      <td>Leifsonia sp. 1.5-VEs</td>\n",
       "      <td>NaN</td>\n",
       "    </tr>\n",
       "  </tbody>\n",
       "</table>\n",
       "<p>620528 rows × 3 columns</p>\n",
       "</div>"
      ],
      "text/plain": [
       "       ncbi_taxonid                         name  \\\n",
       "0                10                   Cellvibrio   \n",
       "1               100       Ancylobacter aquaticus   \n",
       "2            100000      Herbaspirillum sp. BA12   \n",
       "3           1000000  Microbacterium sp. 6.11-VPa   \n",
       "4           1000001    Mycobacterium sp. 1.1-VEs   \n",
       "...             ...                          ...   \n",
       "620523       999995  Arthrobacter sp. 8.25ST-VSa   \n",
       "620524       999996     Arthrobacter sp. 9.22-BP   \n",
       "620525       999997   Arthrobacter sp. 9.29ST-BP   \n",
       "620526       999998   Clavibacter sp. 10.27ST-Bb   \n",
       "620527       999999        Leifsonia sp. 1.5-VEs   \n",
       "\n",
       "                                                 silva_id  \n",
       "0                                                     NaN  \n",
       "1       FJ572205;FJ572206;FJ572207;FJ572208;FJ572209;A...  \n",
       "2                                                AF164051  \n",
       "3                                                     NaN  \n",
       "4                                                     NaN  \n",
       "...                                                   ...  \n",
       "620523                                                NaN  \n",
       "620524                                                NaN  \n",
       "620525                                                NaN  \n",
       "620526                                                NaN  \n",
       "620527                                                NaN  \n",
       "\n",
       "[620528 rows x 3 columns]"
      ]
     },
     "execution_count": 18,
     "metadata": {},
     "output_type": "execute_result"
    }
   ],
   "source": [
    "ncbi_taxonomy_final = ncbi_taxonomy_final.rename(columns={'tax_id': 'ncbi_taxonid', 'name_txt': 'name'})\n",
    "\n",
    "ncbi_silva = pd.merge(ncbi_taxonomy_final, silva_unique, on='ncbi_taxonid', how='outer')\n",
    "ncbi_silva"
   ]
  },
  {
   "cell_type": "markdown",
   "metadata": {},
   "source": [
    "### 3.2 Add Greengene"
   ]
  },
  {
   "cell_type": "code",
   "execution_count": 19,
   "metadata": {},
   "outputs": [
    {
     "data": {
      "application/vnd.microsoft.datawrangler.viewer.v0+json": {
       "columns": [
        {
         "name": "index",
         "rawType": "int64",
         "type": "integer"
        },
        {
         "name": "ncbi_taxonid",
         "rawType": "object",
         "type": "string"
        },
        {
         "name": "name",
         "rawType": "object",
         "type": "unknown"
        },
        {
         "name": "silva_id",
         "rawType": "object",
         "type": "unknown"
        },
        {
         "name": "greengenes_id",
         "rawType": "object",
         "type": "unknown"
        },
        {
         "name": "RNAcentral_id",
         "rawType": "object",
         "type": "unknown"
        }
       ],
       "conversionMethod": "pd.DataFrame",
       "ref": "e0e7985a-0c93-4182-b358-e6c9bf2d3677",
       "rows": [
        [
         "0",
         "10",
         "Cellvibrio",
         null,
         null,
         null
        ],
        [
         "1",
         "100",
         "Ancylobacter aquaticus",
         "FJ572205;FJ572206;FJ572207;FJ572208;FJ572209;AB681795;M62790",
         "4419442;758357;699569;4650;636058;631559;541133",
         "URS000001D3A2;URS0000056995;URS0000071FD2;URS0000134811;URS00001CEB60;URS0000292080;URS00004890C5"
        ],
        [
         "2",
         "100000",
         "Herbaspirillum sp. BA12",
         "AF164051",
         "7308",
         "URS00004A623C"
        ],
        [
         "3",
         "1000000",
         "Microbacterium sp. 6.11-VPa",
         null,
         null,
         null
        ],
        [
         "4",
         "1000001",
         "Mycobacterium sp. 1.1-VEs",
         null,
         null,
         null
        ],
        [
         "5",
         "1000002",
         "Mycobacterium sp. 1.12-VEs",
         null,
         null,
         null
        ],
        [
         "6",
         "1000003",
         "Nocardia sp. 3.2-VPr",
         null,
         null,
         null
        ],
        [
         "7",
         "1000004",
         "Polaromonas sp. 7.23-VPa",
         null,
         null,
         null
        ],
        [
         "8",
         "1000005",
         "Promicromonospora sp. 10.25-Bb",
         null,
         null,
         null
        ],
        [
         "9",
         "1000006",
         "Promicromonospora sp. 3.1- VPr",
         null,
         null,
         null
        ],
        [
         "10",
         "1000007",
         "Pseudomonas sp. 10S-VPa",
         null,
         null,
         null
        ],
        [
         "11",
         "1000008",
         "Pseudomonas sp. 5B-VPa",
         null,
         null,
         null
        ],
        [
         "12",
         "1000009",
         "Pseudomonas sp. 5K-VPa",
         null,
         null,
         null
        ],
        [
         "13",
         "100001",
         "Herbaspirillum sp. BA14",
         "AF164052",
         "7309",
         "URS00008A7B66"
        ],
        [
         "14",
         "1000010",
         "Pseudomonas sp. 5KS-VPa",
         null,
         null,
         null
        ],
        [
         "15",
         "1000011",
         "Pseudomonas sp. 5KW-VPa",
         null,
         null,
         null
        ],
        [
         "16",
         "1000012",
         "Pseudomonas sp. 5S-VPa",
         null,
         null,
         null
        ],
        [
         "17",
         "1000013",
         "Pseudomonas sp. 5T-VPa",
         null,
         null,
         null
        ],
        [
         "18",
         "1000014",
         "Pseudomonas sp. 6S-VPa",
         null,
         null,
         null
        ],
        [
         "19",
         "1000015",
         "Rhodococcus sp. 1.15-VEs",
         null,
         null,
         null
        ],
        [
         "20",
         "1000016",
         "Rhodococcus sp. 1.3-VEs",
         null,
         null,
         null
        ],
        [
         "21",
         "1000017",
         "Rhodococcus sp. 3.3-VPr",
         null,
         null,
         null
        ],
        [
         "22",
         "1000018",
         "Rhodococcus sp. 4.20-VOd",
         null,
         null,
         null
        ],
        [
         "23",
         "1000019",
         "Rhodococcus sp. 4.20ST-VOd",
         null,
         null,
         null
        ],
        [
         "24",
         "100002",
         "Herbaspirillum sp. BA15",
         "AF164053",
         "7310",
         "URS00002EBCF8"
        ],
        [
         "25",
         "1000020",
         "Sanguibacter sp. 1.16-VEs",
         null,
         null,
         null
        ],
        [
         "26",
         "1000021",
         "Sanguibacter sp. 1.23-VEs",
         null,
         null,
         null
        ],
        [
         "27",
         "1000022",
         "Sanguibacter sp. 1.23S-VEs",
         null,
         null,
         null
        ],
        [
         "28",
         "1000023",
         "Comamonadaceae bacterium 12S-VPa",
         null,
         null,
         null
        ],
        [
         "29",
         "1000024",
         "Intrasporangiaceae bacterium 7.31-VPa",
         null,
         null,
         null
        ],
        [
         "30",
         "1000025",
         "Intrasporangiaceae bacterium 7.4-VPa",
         null,
         null,
         null
        ],
        [
         "31",
         "1000026",
         "Micrococcineae bacterium 9.2-BP",
         null,
         null,
         null
        ],
        [
         "32",
         "1000027",
         "alpha proteobacterium 6.6-VPa",
         null,
         null,
         null
        ],
        [
         "33",
         "1000028",
         null,
         "HQ391902",
         "1113734",
         "URS0000887D51"
        ],
        [
         "34",
         "1000029",
         "Pseudomonas sp. MBYD-1",
         "HQ324140",
         "1113715",
         "URS00005665C8"
        ],
        [
         "35",
         "100003",
         "Herbaspirillum sp. BA16",
         "AF164054",
         "7311",
         "URS000009EB14"
        ],
        [
         "36",
         "1000030",
         "Agrobacterium sp. G21-07",
         null,
         null,
         null
        ],
        [
         "37",
         "1000031",
         "Agrobacterium sp. G21-09",
         null,
         null,
         null
        ],
        [
         "38",
         "1000032",
         "Enterobacter sp. P19-19",
         null,
         null,
         null
        ],
        [
         "39",
         "1000033",
         "Flavobacterium sp. G23-27",
         null,
         null,
         null
        ],
        [
         "40",
         "1000034",
         "Erwinia sp. Koakin",
         null,
         null,
         null
        ],
        [
         "41",
         "100004",
         "Herbaspirillum sp. BA134",
         null,
         null,
         null
        ],
        [
         "42",
         "100005",
         "Herbaspirillum sp. BA161",
         "AF164063",
         "7314",
         "URS000023006F"
        ],
        [
         "43",
         "100006",
         "Azospirillum sp. Ala",
         null,
         null,
         null
        ],
        [
         "44",
         "100007",
         "Mycobacterium sp. C2-3",
         "AF165182",
         "13158",
         "URS000028C3AB"
        ],
        [
         "45",
         "100012",
         "Bartonella sp. RR13863PO",
         null,
         null,
         null
        ],
        [
         "46",
         "100013",
         "Bartonella sp. MM5136CA",
         null,
         null,
         null
        ],
        [
         "47",
         "100014",
         "diazotroph str. AB48",
         "AF164043",
         "69874",
         "URS00000BE272"
        ],
        [
         "48",
         "100015",
         "diazotroph str. AB71",
         null,
         null,
         null
        ],
        [
         "49",
         "100016",
         "diazotroph str. AB117",
         null,
         null,
         null
        ]
       ],
       "shape": {
        "columns": 5,
        "rows": 621085
       }
      },
      "text/html": [
       "<div>\n",
       "<style scoped>\n",
       "    .dataframe tbody tr th:only-of-type {\n",
       "        vertical-align: middle;\n",
       "    }\n",
       "\n",
       "    .dataframe tbody tr th {\n",
       "        vertical-align: top;\n",
       "    }\n",
       "\n",
       "    .dataframe thead th {\n",
       "        text-align: right;\n",
       "    }\n",
       "</style>\n",
       "<table border=\"1\" class=\"dataframe\">\n",
       "  <thead>\n",
       "    <tr style=\"text-align: right;\">\n",
       "      <th></th>\n",
       "      <th>ncbi_taxonid</th>\n",
       "      <th>name</th>\n",
       "      <th>silva_id</th>\n",
       "      <th>greengenes_id</th>\n",
       "      <th>RNAcentral_id</th>\n",
       "    </tr>\n",
       "  </thead>\n",
       "  <tbody>\n",
       "    <tr>\n",
       "      <th>0</th>\n",
       "      <td>10</td>\n",
       "      <td>Cellvibrio</td>\n",
       "      <td>NaN</td>\n",
       "      <td>NaN</td>\n",
       "      <td>NaN</td>\n",
       "    </tr>\n",
       "    <tr>\n",
       "      <th>1</th>\n",
       "      <td>100</td>\n",
       "      <td>Ancylobacter aquaticus</td>\n",
       "      <td>FJ572205;FJ572206;FJ572207;FJ572208;FJ572209;A...</td>\n",
       "      <td>4419442;758357;699569;4650;636058;631559;541133</td>\n",
       "      <td>URS000001D3A2;URS0000056995;URS0000071FD2;URS0...</td>\n",
       "    </tr>\n",
       "    <tr>\n",
       "      <th>2</th>\n",
       "      <td>100000</td>\n",
       "      <td>Herbaspirillum sp. BA12</td>\n",
       "      <td>AF164051</td>\n",
       "      <td>7308</td>\n",
       "      <td>URS00004A623C</td>\n",
       "    </tr>\n",
       "    <tr>\n",
       "      <th>3</th>\n",
       "      <td>1000000</td>\n",
       "      <td>Microbacterium sp. 6.11-VPa</td>\n",
       "      <td>NaN</td>\n",
       "      <td>NaN</td>\n",
       "      <td>NaN</td>\n",
       "    </tr>\n",
       "    <tr>\n",
       "      <th>4</th>\n",
       "      <td>1000001</td>\n",
       "      <td>Mycobacterium sp. 1.1-VEs</td>\n",
       "      <td>NaN</td>\n",
       "      <td>NaN</td>\n",
       "      <td>NaN</td>\n",
       "    </tr>\n",
       "    <tr>\n",
       "      <th>...</th>\n",
       "      <td>...</td>\n",
       "      <td>...</td>\n",
       "      <td>...</td>\n",
       "      <td>...</td>\n",
       "      <td>...</td>\n",
       "    </tr>\n",
       "    <tr>\n",
       "      <th>621080</th>\n",
       "      <td>999995</td>\n",
       "      <td>Arthrobacter sp. 8.25ST-VSa</td>\n",
       "      <td>NaN</td>\n",
       "      <td>NaN</td>\n",
       "      <td>NaN</td>\n",
       "    </tr>\n",
       "    <tr>\n",
       "      <th>621081</th>\n",
       "      <td>999996</td>\n",
       "      <td>Arthrobacter sp. 9.22-BP</td>\n",
       "      <td>NaN</td>\n",
       "      <td>NaN</td>\n",
       "      <td>NaN</td>\n",
       "    </tr>\n",
       "    <tr>\n",
       "      <th>621082</th>\n",
       "      <td>999997</td>\n",
       "      <td>Arthrobacter sp. 9.29ST-BP</td>\n",
       "      <td>NaN</td>\n",
       "      <td>NaN</td>\n",
       "      <td>NaN</td>\n",
       "    </tr>\n",
       "    <tr>\n",
       "      <th>621083</th>\n",
       "      <td>999998</td>\n",
       "      <td>Clavibacter sp. 10.27ST-Bb</td>\n",
       "      <td>NaN</td>\n",
       "      <td>NaN</td>\n",
       "      <td>NaN</td>\n",
       "    </tr>\n",
       "    <tr>\n",
       "      <th>621084</th>\n",
       "      <td>999999</td>\n",
       "      <td>Leifsonia sp. 1.5-VEs</td>\n",
       "      <td>NaN</td>\n",
       "      <td>NaN</td>\n",
       "      <td>NaN</td>\n",
       "    </tr>\n",
       "  </tbody>\n",
       "</table>\n",
       "<p>621085 rows × 5 columns</p>\n",
       "</div>"
      ],
      "text/plain": [
       "       ncbi_taxonid                         name  \\\n",
       "0                10                   Cellvibrio   \n",
       "1               100       Ancylobacter aquaticus   \n",
       "2            100000      Herbaspirillum sp. BA12   \n",
       "3           1000000  Microbacterium sp. 6.11-VPa   \n",
       "4           1000001    Mycobacterium sp. 1.1-VEs   \n",
       "...             ...                          ...   \n",
       "621080       999995  Arthrobacter sp. 8.25ST-VSa   \n",
       "621081       999996     Arthrobacter sp. 9.22-BP   \n",
       "621082       999997   Arthrobacter sp. 9.29ST-BP   \n",
       "621083       999998   Clavibacter sp. 10.27ST-Bb   \n",
       "621084       999999        Leifsonia sp. 1.5-VEs   \n",
       "\n",
       "                                                 silva_id  \\\n",
       "0                                                     NaN   \n",
       "1       FJ572205;FJ572206;FJ572207;FJ572208;FJ572209;A...   \n",
       "2                                                AF164051   \n",
       "3                                                     NaN   \n",
       "4                                                     NaN   \n",
       "...                                                   ...   \n",
       "621080                                                NaN   \n",
       "621081                                                NaN   \n",
       "621082                                                NaN   \n",
       "621083                                                NaN   \n",
       "621084                                                NaN   \n",
       "\n",
       "                                          greengenes_id  \\\n",
       "0                                                   NaN   \n",
       "1       4419442;758357;699569;4650;636058;631559;541133   \n",
       "2                                                  7308   \n",
       "3                                                   NaN   \n",
       "4                                                   NaN   \n",
       "...                                                 ...   \n",
       "621080                                              NaN   \n",
       "621081                                              NaN   \n",
       "621082                                              NaN   \n",
       "621083                                              NaN   \n",
       "621084                                              NaN   \n",
       "\n",
       "                                            RNAcentral_id  \n",
       "0                                                     NaN  \n",
       "1       URS000001D3A2;URS0000056995;URS0000071FD2;URS0...  \n",
       "2                                           URS00004A623C  \n",
       "3                                                     NaN  \n",
       "4                                                     NaN  \n",
       "...                                                   ...  \n",
       "621080                                                NaN  \n",
       "621081                                                NaN  \n",
       "621082                                                NaN  \n",
       "621083                                                NaN  \n",
       "621084                                                NaN  \n",
       "\n",
       "[621085 rows x 5 columns]"
      ]
     },
     "execution_count": 19,
     "metadata": {},
     "output_type": "execute_result"
    }
   ],
   "source": [
    "ncbi_silva_gg = pd.merge(ncbi_silva, greengenes_unique, on='ncbi_taxonid', how='outer')\n",
    "ncbi_silva_gg"
   ]
  },
  {
   "cell_type": "markdown",
   "metadata": {},
   "source": [
    "### 3.3 Add RDP"
   ]
  },
  {
   "cell_type": "code",
   "execution_count": 20,
   "metadata": {},
   "outputs": [
    {
     "data": {
      "application/vnd.microsoft.datawrangler.viewer.v0+json": {
       "columns": [
        {
         "name": "index",
         "rawType": "int64",
         "type": "integer"
        },
        {
         "name": "ncbi_taxonid",
         "rawType": "object",
         "type": "string"
        },
        {
         "name": "name",
         "rawType": "object",
         "type": "unknown"
        },
        {
         "name": "silva_id",
         "rawType": "object",
         "type": "unknown"
        },
        {
         "name": "greengenes_id",
         "rawType": "object",
         "type": "unknown"
        },
        {
         "name": "rdp_id",
         "rawType": "object",
         "type": "unknown"
        },
        {
         "name": "RNAcentral_id",
         "rawType": "object",
         "type": "unknown"
        }
       ],
       "conversionMethod": "pd.DataFrame",
       "ref": "8cbfe1a6-1844-4da2-84cd-e84e506ae2b0",
       "rows": [
        [
         "0",
         "10",
         "Cellvibrio",
         null,
         null,
         null,
         null
        ],
        [
         "1",
         "100",
         "Ancylobacter aquaticus",
         "FJ572205;FJ572206;FJ572207;FJ572208;FJ572209;AB681795;M62790",
         "4419442;758357;699569;4650;636058;631559;541133",
         null,
         "URS000001D3A2;URS0000056995;URS0000071FD2;URS0000134811;URS00001CEB60;URS0000292080;URS00004890C5"
        ],
        [
         "2",
         "100000",
         "Herbaspirillum sp. BA12",
         "AF164051",
         "7308",
         null,
         "URS00004A623C"
        ],
        [
         "3",
         "1000000",
         "Microbacterium sp. 6.11-VPa",
         null,
         null,
         null,
         null
        ],
        [
         "4",
         "1000001",
         "Mycobacterium sp. 1.1-VEs",
         null,
         null,
         null,
         null
        ],
        [
         "5",
         "1000002",
         "Mycobacterium sp. 1.12-VEs",
         null,
         null,
         null,
         null
        ],
        [
         "6",
         "1000003",
         "Nocardia sp. 3.2-VPr",
         null,
         null,
         null,
         null
        ],
        [
         "7",
         "1000004",
         "Polaromonas sp. 7.23-VPa",
         null,
         null,
         null,
         null
        ],
        [
         "8",
         "1000005",
         "Promicromonospora sp. 10.25-Bb",
         null,
         null,
         null,
         null
        ],
        [
         "9",
         "1000006",
         "Promicromonospora sp. 3.1- VPr",
         null,
         null,
         null,
         null
        ],
        [
         "10",
         "1000007",
         "Pseudomonas sp. 10S-VPa",
         null,
         null,
         null,
         null
        ],
        [
         "11",
         "1000008",
         "Pseudomonas sp. 5B-VPa",
         null,
         null,
         null,
         null
        ],
        [
         "12",
         "1000009",
         "Pseudomonas sp. 5K-VPa",
         null,
         null,
         null,
         null
        ],
        [
         "13",
         "100001",
         "Herbaspirillum sp. BA14",
         "AF164052",
         "7309",
         null,
         "URS00008A7B66"
        ],
        [
         "14",
         "1000010",
         "Pseudomonas sp. 5KS-VPa",
         null,
         null,
         null,
         null
        ],
        [
         "15",
         "1000011",
         "Pseudomonas sp. 5KW-VPa",
         null,
         null,
         null,
         null
        ],
        [
         "16",
         "1000012",
         "Pseudomonas sp. 5S-VPa",
         null,
         null,
         null,
         null
        ],
        [
         "17",
         "1000013",
         "Pseudomonas sp. 5T-VPa",
         null,
         null,
         null,
         null
        ],
        [
         "18",
         "1000014",
         "Pseudomonas sp. 6S-VPa",
         null,
         null,
         null,
         null
        ],
        [
         "19",
         "1000015",
         "Rhodococcus sp. 1.15-VEs",
         null,
         null,
         null,
         null
        ],
        [
         "20",
         "1000016",
         "Rhodococcus sp. 1.3-VEs",
         null,
         null,
         null,
         null
        ],
        [
         "21",
         "1000017",
         "Rhodococcus sp. 3.3-VPr",
         null,
         null,
         null,
         null
        ],
        [
         "22",
         "1000018",
         "Rhodococcus sp. 4.20-VOd",
         null,
         null,
         null,
         null
        ],
        [
         "23",
         "1000019",
         "Rhodococcus sp. 4.20ST-VOd",
         null,
         null,
         null,
         null
        ],
        [
         "24",
         "100002",
         "Herbaspirillum sp. BA15",
         "AF164053",
         "7310",
         null,
         "URS00002EBCF8"
        ],
        [
         "25",
         "1000020",
         "Sanguibacter sp. 1.16-VEs",
         null,
         null,
         null,
         null
        ],
        [
         "26",
         "1000021",
         "Sanguibacter sp. 1.23-VEs",
         null,
         null,
         null,
         null
        ],
        [
         "27",
         "1000022",
         "Sanguibacter sp. 1.23S-VEs",
         null,
         null,
         null,
         null
        ],
        [
         "28",
         "1000023",
         "Comamonadaceae bacterium 12S-VPa",
         null,
         null,
         null,
         null
        ],
        [
         "29",
         "1000024",
         "Intrasporangiaceae bacterium 7.31-VPa",
         null,
         null,
         null,
         null
        ],
        [
         "30",
         "1000025",
         "Intrasporangiaceae bacterium 7.4-VPa",
         null,
         null,
         null,
         null
        ],
        [
         "31",
         "1000026",
         "Micrococcineae bacterium 9.2-BP",
         null,
         null,
         null,
         null
        ],
        [
         "32",
         "1000027",
         "alpha proteobacterium 6.6-VPa",
         null,
         null,
         null,
         null
        ],
        [
         "33",
         "1000028",
         null,
         "HQ391902",
         "1113734",
         null,
         "URS0000887D51"
        ],
        [
         "34",
         "1000029",
         "Pseudomonas sp. MBYD-1",
         "HQ324140",
         "1113715",
         null,
         "URS00005665C8"
        ],
        [
         "35",
         "100003",
         "Herbaspirillum sp. BA16",
         "AF164054",
         "7311",
         null,
         "URS000009EB14"
        ],
        [
         "36",
         "1000030",
         "Agrobacterium sp. G21-07",
         null,
         null,
         null,
         null
        ],
        [
         "37",
         "1000031",
         "Agrobacterium sp. G21-09",
         null,
         null,
         null,
         null
        ],
        [
         "38",
         "1000032",
         "Enterobacter sp. P19-19",
         null,
         null,
         null,
         null
        ],
        [
         "39",
         "1000033",
         "Flavobacterium sp. G23-27",
         null,
         null,
         null,
         null
        ],
        [
         "40",
         "1000034",
         "Erwinia sp. Koakin",
         null,
         null,
         null,
         null
        ],
        [
         "41",
         "100004",
         "Herbaspirillum sp. BA134",
         null,
         null,
         null,
         null
        ],
        [
         "42",
         "100005",
         "Herbaspirillum sp. BA161",
         "AF164063",
         "7314",
         null,
         "URS000023006F"
        ],
        [
         "43",
         "100006",
         "Azospirillum sp. Ala",
         null,
         null,
         null,
         null
        ],
        [
         "44",
         "100007",
         "Mycobacterium sp. C2-3",
         "AF165182",
         "13158",
         null,
         "URS000028C3AB"
        ],
        [
         "45",
         "100012",
         "Bartonella sp. RR13863PO",
         null,
         null,
         null,
         null
        ],
        [
         "46",
         "100013",
         "Bartonella sp. MM5136CA",
         null,
         null,
         null,
         null
        ],
        [
         "47",
         "100014",
         "diazotroph str. AB48",
         "AF164043",
         "69874",
         null,
         "URS00000BE272"
        ],
        [
         "48",
         "100015",
         "diazotroph str. AB71",
         null,
         null,
         null,
         null
        ],
        [
         "49",
         "100016",
         "diazotroph str. AB117",
         null,
         null,
         null,
         null
        ]
       ],
       "shape": {
        "columns": 6,
        "rows": 621091
       }
      },
      "text/html": [
       "<div>\n",
       "<style scoped>\n",
       "    .dataframe tbody tr th:only-of-type {\n",
       "        vertical-align: middle;\n",
       "    }\n",
       "\n",
       "    .dataframe tbody tr th {\n",
       "        vertical-align: top;\n",
       "    }\n",
       "\n",
       "    .dataframe thead th {\n",
       "        text-align: right;\n",
       "    }\n",
       "</style>\n",
       "<table border=\"1\" class=\"dataframe\">\n",
       "  <thead>\n",
       "    <tr style=\"text-align: right;\">\n",
       "      <th></th>\n",
       "      <th>ncbi_taxonid</th>\n",
       "      <th>name</th>\n",
       "      <th>silva_id</th>\n",
       "      <th>greengenes_id</th>\n",
       "      <th>rdp_id</th>\n",
       "      <th>RNAcentral_id</th>\n",
       "    </tr>\n",
       "  </thead>\n",
       "  <tbody>\n",
       "    <tr>\n",
       "      <th>0</th>\n",
       "      <td>10</td>\n",
       "      <td>Cellvibrio</td>\n",
       "      <td>NaN</td>\n",
       "      <td>NaN</td>\n",
       "      <td>NaN</td>\n",
       "      <td>&lt;NA&gt;</td>\n",
       "    </tr>\n",
       "    <tr>\n",
       "      <th>1</th>\n",
       "      <td>100</td>\n",
       "      <td>Ancylobacter aquaticus</td>\n",
       "      <td>FJ572205;FJ572206;FJ572207;FJ572208;FJ572209;A...</td>\n",
       "      <td>4419442;758357;699569;4650;636058;631559;541133</td>\n",
       "      <td>NaN</td>\n",
       "      <td>URS000001D3A2;URS0000056995;URS0000071FD2;URS0...</td>\n",
       "    </tr>\n",
       "    <tr>\n",
       "      <th>2</th>\n",
       "      <td>100000</td>\n",
       "      <td>Herbaspirillum sp. BA12</td>\n",
       "      <td>AF164051</td>\n",
       "      <td>7308</td>\n",
       "      <td>NaN</td>\n",
       "      <td>URS00004A623C</td>\n",
       "    </tr>\n",
       "    <tr>\n",
       "      <th>3</th>\n",
       "      <td>1000000</td>\n",
       "      <td>Microbacterium sp. 6.11-VPa</td>\n",
       "      <td>NaN</td>\n",
       "      <td>NaN</td>\n",
       "      <td>NaN</td>\n",
       "      <td>&lt;NA&gt;</td>\n",
       "    </tr>\n",
       "    <tr>\n",
       "      <th>4</th>\n",
       "      <td>1000001</td>\n",
       "      <td>Mycobacterium sp. 1.1-VEs</td>\n",
       "      <td>NaN</td>\n",
       "      <td>NaN</td>\n",
       "      <td>NaN</td>\n",
       "      <td>&lt;NA&gt;</td>\n",
       "    </tr>\n",
       "    <tr>\n",
       "      <th>...</th>\n",
       "      <td>...</td>\n",
       "      <td>...</td>\n",
       "      <td>...</td>\n",
       "      <td>...</td>\n",
       "      <td>...</td>\n",
       "      <td>...</td>\n",
       "    </tr>\n",
       "    <tr>\n",
       "      <th>621086</th>\n",
       "      <td>999995</td>\n",
       "      <td>Arthrobacter sp. 8.25ST-VSa</td>\n",
       "      <td>NaN</td>\n",
       "      <td>NaN</td>\n",
       "      <td>NaN</td>\n",
       "      <td>&lt;NA&gt;</td>\n",
       "    </tr>\n",
       "    <tr>\n",
       "      <th>621087</th>\n",
       "      <td>999996</td>\n",
       "      <td>Arthrobacter sp. 9.22-BP</td>\n",
       "      <td>NaN</td>\n",
       "      <td>NaN</td>\n",
       "      <td>NaN</td>\n",
       "      <td>&lt;NA&gt;</td>\n",
       "    </tr>\n",
       "    <tr>\n",
       "      <th>621088</th>\n",
       "      <td>999997</td>\n",
       "      <td>Arthrobacter sp. 9.29ST-BP</td>\n",
       "      <td>NaN</td>\n",
       "      <td>NaN</td>\n",
       "      <td>NaN</td>\n",
       "      <td>&lt;NA&gt;</td>\n",
       "    </tr>\n",
       "    <tr>\n",
       "      <th>621089</th>\n",
       "      <td>999998</td>\n",
       "      <td>Clavibacter sp. 10.27ST-Bb</td>\n",
       "      <td>NaN</td>\n",
       "      <td>NaN</td>\n",
       "      <td>NaN</td>\n",
       "      <td>&lt;NA&gt;</td>\n",
       "    </tr>\n",
       "    <tr>\n",
       "      <th>621090</th>\n",
       "      <td>999999</td>\n",
       "      <td>Leifsonia sp. 1.5-VEs</td>\n",
       "      <td>NaN</td>\n",
       "      <td>NaN</td>\n",
       "      <td>NaN</td>\n",
       "      <td>&lt;NA&gt;</td>\n",
       "    </tr>\n",
       "  </tbody>\n",
       "</table>\n",
       "<p>621091 rows × 6 columns</p>\n",
       "</div>"
      ],
      "text/plain": [
       "       ncbi_taxonid                         name  \\\n",
       "0                10                   Cellvibrio   \n",
       "1               100       Ancylobacter aquaticus   \n",
       "2            100000      Herbaspirillum sp. BA12   \n",
       "3           1000000  Microbacterium sp. 6.11-VPa   \n",
       "4           1000001    Mycobacterium sp. 1.1-VEs   \n",
       "...             ...                          ...   \n",
       "621086       999995  Arthrobacter sp. 8.25ST-VSa   \n",
       "621087       999996     Arthrobacter sp. 9.22-BP   \n",
       "621088       999997   Arthrobacter sp. 9.29ST-BP   \n",
       "621089       999998   Clavibacter sp. 10.27ST-Bb   \n",
       "621090       999999        Leifsonia sp. 1.5-VEs   \n",
       "\n",
       "                                                 silva_id  \\\n",
       "0                                                     NaN   \n",
       "1       FJ572205;FJ572206;FJ572207;FJ572208;FJ572209;A...   \n",
       "2                                                AF164051   \n",
       "3                                                     NaN   \n",
       "4                                                     NaN   \n",
       "...                                                   ...   \n",
       "621086                                                NaN   \n",
       "621087                                                NaN   \n",
       "621088                                                NaN   \n",
       "621089                                                NaN   \n",
       "621090                                                NaN   \n",
       "\n",
       "                                          greengenes_id rdp_id  \\\n",
       "0                                                   NaN    NaN   \n",
       "1       4419442;758357;699569;4650;636058;631559;541133    NaN   \n",
       "2                                                  7308    NaN   \n",
       "3                                                   NaN    NaN   \n",
       "4                                                   NaN    NaN   \n",
       "...                                                 ...    ...   \n",
       "621086                                              NaN    NaN   \n",
       "621087                                              NaN    NaN   \n",
       "621088                                              NaN    NaN   \n",
       "621089                                              NaN    NaN   \n",
       "621090                                              NaN    NaN   \n",
       "\n",
       "                                            RNAcentral_id  \n",
       "0                                                    <NA>  \n",
       "1       URS000001D3A2;URS0000056995;URS0000071FD2;URS0...  \n",
       "2                                           URS00004A623C  \n",
       "3                                                    <NA>  \n",
       "4                                                    <NA>  \n",
       "...                                                   ...  \n",
       "621086                                               <NA>  \n",
       "621087                                               <NA>  \n",
       "621088                                               <NA>  \n",
       "621089                                               <NA>  \n",
       "621090                                               <NA>  \n",
       "\n",
       "[621091 rows x 6 columns]"
      ]
     },
     "execution_count": 20,
     "metadata": {},
     "output_type": "execute_result"
    }
   ],
   "source": [
    "ncbi_silva_gg_rdp = pd.merge(ncbi_silva_gg, rdp_unique, on='ncbi_taxonid', how='outer')\n",
    "ncbi_silva_gg_rdp = merge_string_columns(ncbi_silva_gg_rdp, ['RNAcentral_id_x', 'RNAcentral_id_y'], 'RNAcentral_id')\n",
    "ncbi_silva_gg_rdp = ncbi_silva_gg_rdp.replace('', pd.NA)\n",
    "ncbi_silva_gg_rdp"
   ]
  },
  {
   "cell_type": "markdown",
   "metadata": {},
   "source": [
    "### 3.4 Add GTDB"
   ]
  },
  {
   "cell_type": "code",
   "execution_count": 21,
   "metadata": {},
   "outputs": [
    {
     "data": {
      "application/vnd.microsoft.datawrangler.viewer.v0+json": {
       "columns": [
        {
         "name": "index",
         "rawType": "int64",
         "type": "integer"
        },
        {
         "name": "ncbi_taxonid",
         "rawType": "object",
         "type": "string"
        },
        {
         "name": "name",
         "rawType": "object",
         "type": "unknown"
        },
        {
         "name": "silva_id",
         "rawType": "object",
         "type": "unknown"
        },
        {
         "name": "greengenes_id",
         "rawType": "object",
         "type": "unknown"
        },
        {
         "name": "rdp_id",
         "rawType": "object",
         "type": "unknown"
        },
        {
         "name": "RNAcentral_id",
         "rawType": "object",
         "type": "unknown"
        },
        {
         "name": "gtdb_id",
         "rawType": "object",
         "type": "unknown"
        }
       ],
       "conversionMethod": "pd.DataFrame",
       "ref": "bb2ebf28-e395-4df9-9b8a-2e9b64fbb72e",
       "rows": [
        [
         "0",
         "10",
         "Cellvibrio",
         null,
         null,
         null,
         null,
         null
        ],
        [
         "1",
         "100",
         "Ancylobacter aquaticus",
         "FJ572205;FJ572206;FJ572207;FJ572208;FJ572209;AB681795;M62790",
         "4419442;758357;699569;4650;636058;631559;541133",
         null,
         "URS000001D3A2;URS0000056995;URS0000071FD2;URS0000134811;URS00001CEB60;URS0000292080;URS00004890C5",
         "GB_GCA_003963445.1;RS_GCF_004339465.1"
        ],
        [
         "2",
         "100000",
         "Herbaspirillum sp. BA12",
         "AF164051",
         "7308",
         null,
         "URS00004A623C",
         null
        ],
        [
         "3",
         "1000000",
         "Microbacterium sp. 6.11-VPa",
         null,
         null,
         null,
         null,
         null
        ],
        [
         "4",
         "1000001",
         "Mycobacterium sp. 1.1-VEs",
         null,
         null,
         null,
         null,
         null
        ],
        [
         "5",
         "1000002",
         "Mycobacterium sp. 1.12-VEs",
         null,
         null,
         null,
         null,
         null
        ],
        [
         "6",
         "1000003",
         "Nocardia sp. 3.2-VPr",
         null,
         null,
         null,
         null,
         null
        ],
        [
         "7",
         "1000004",
         "Polaromonas sp. 7.23-VPa",
         null,
         null,
         null,
         null,
         null
        ],
        [
         "8",
         "1000005",
         "Promicromonospora sp. 10.25-Bb",
         null,
         null,
         null,
         null,
         null
        ],
        [
         "9",
         "1000006",
         "Promicromonospora sp. 3.1- VPr",
         null,
         null,
         null,
         null,
         null
        ],
        [
         "10",
         "1000007",
         "Pseudomonas sp. 10S-VPa",
         null,
         null,
         null,
         null,
         null
        ],
        [
         "11",
         "1000008",
         "Pseudomonas sp. 5B-VPa",
         null,
         null,
         null,
         null,
         null
        ],
        [
         "12",
         "1000009",
         "Pseudomonas sp. 5K-VPa",
         null,
         null,
         null,
         null,
         null
        ],
        [
         "13",
         "100001",
         "Herbaspirillum sp. BA14",
         "AF164052",
         "7309",
         null,
         "URS00008A7B66",
         null
        ],
        [
         "14",
         "1000010",
         "Pseudomonas sp. 5KS-VPa",
         null,
         null,
         null,
         null,
         null
        ],
        [
         "15",
         "1000011",
         "Pseudomonas sp. 5KW-VPa",
         null,
         null,
         null,
         null,
         null
        ],
        [
         "16",
         "1000012",
         "Pseudomonas sp. 5S-VPa",
         null,
         null,
         null,
         null,
         null
        ],
        [
         "17",
         "1000013",
         "Pseudomonas sp. 5T-VPa",
         null,
         null,
         null,
         null,
         null
        ],
        [
         "18",
         "1000014",
         "Pseudomonas sp. 6S-VPa",
         null,
         null,
         null,
         null,
         null
        ],
        [
         "19",
         "1000015",
         "Rhodococcus sp. 1.15-VEs",
         null,
         null,
         null,
         null,
         null
        ],
        [
         "20",
         "1000016",
         "Rhodococcus sp. 1.3-VEs",
         null,
         null,
         null,
         null,
         null
        ],
        [
         "21",
         "1000017",
         "Rhodococcus sp. 3.3-VPr",
         null,
         null,
         null,
         null,
         null
        ],
        [
         "22",
         "1000018",
         "Rhodococcus sp. 4.20-VOd",
         null,
         null,
         null,
         null,
         null
        ],
        [
         "23",
         "1000019",
         "Rhodococcus sp. 4.20ST-VOd",
         null,
         null,
         null,
         null,
         null
        ],
        [
         "24",
         "100002",
         "Herbaspirillum sp. BA15",
         "AF164053",
         "7310",
         null,
         "URS00002EBCF8",
         null
        ],
        [
         "25",
         "1000020",
         "Sanguibacter sp. 1.16-VEs",
         null,
         null,
         null,
         null,
         null
        ],
        [
         "26",
         "1000021",
         "Sanguibacter sp. 1.23-VEs",
         null,
         null,
         null,
         null,
         null
        ],
        [
         "27",
         "1000022",
         "Sanguibacter sp. 1.23S-VEs",
         null,
         null,
         null,
         null,
         null
        ],
        [
         "28",
         "1000023",
         "Comamonadaceae bacterium 12S-VPa",
         null,
         null,
         null,
         null,
         null
        ],
        [
         "29",
         "1000024",
         "Intrasporangiaceae bacterium 7.31-VPa",
         null,
         null,
         null,
         null,
         null
        ],
        [
         "30",
         "1000025",
         "Intrasporangiaceae bacterium 7.4-VPa",
         null,
         null,
         null,
         null,
         null
        ],
        [
         "31",
         "1000026",
         "Micrococcineae bacterium 9.2-BP",
         null,
         null,
         null,
         null,
         null
        ],
        [
         "32",
         "1000027",
         "alpha proteobacterium 6.6-VPa",
         null,
         null,
         null,
         null,
         null
        ],
        [
         "33",
         "1000028",
         null,
         "HQ391902",
         "1113734",
         null,
         "URS0000887D51",
         null
        ],
        [
         "34",
         "1000029",
         "Pseudomonas sp. MBYD-1",
         "HQ324140",
         "1113715",
         null,
         "URS00005665C8",
         null
        ],
        [
         "35",
         "100003",
         "Herbaspirillum sp. BA16",
         "AF164054",
         "7311",
         null,
         "URS000009EB14",
         null
        ],
        [
         "36",
         "1000030",
         "Agrobacterium sp. G21-07",
         null,
         null,
         null,
         null,
         null
        ],
        [
         "37",
         "1000031",
         "Agrobacterium sp. G21-09",
         null,
         null,
         null,
         null,
         null
        ],
        [
         "38",
         "1000032",
         "Enterobacter sp. P19-19",
         null,
         null,
         null,
         null,
         null
        ],
        [
         "39",
         "1000033",
         "Flavobacterium sp. G23-27",
         null,
         null,
         null,
         null,
         null
        ],
        [
         "40",
         "1000034",
         "Erwinia sp. Koakin",
         null,
         null,
         null,
         null,
         null
        ],
        [
         "41",
         "100004",
         "Herbaspirillum sp. BA134",
         null,
         null,
         null,
         null,
         null
        ],
        [
         "42",
         "100005",
         "Herbaspirillum sp. BA161",
         "AF164063",
         "7314",
         null,
         "URS000023006F",
         null
        ],
        [
         "43",
         "100006",
         "Azospirillum sp. Ala",
         null,
         null,
         null,
         null,
         null
        ],
        [
         "44",
         "100007",
         "Mycobacterium sp. C2-3",
         "AF165182",
         "13158",
         null,
         "URS000028C3AB",
         null
        ],
        [
         "45",
         "100012",
         "Bartonella sp. RR13863PO",
         null,
         null,
         null,
         null,
         null
        ],
        [
         "46",
         "100013",
         "Bartonella sp. MM5136CA",
         null,
         null,
         null,
         null,
         null
        ],
        [
         "47",
         "100014",
         "diazotroph str. AB48",
         "AF164043",
         "69874",
         null,
         "URS00000BE272",
         null
        ],
        [
         "48",
         "100015",
         "diazotroph str. AB71",
         null,
         null,
         null,
         null,
         null
        ],
        [
         "49",
         "100016",
         "diazotroph str. AB117",
         null,
         null,
         null,
         null,
         null
        ]
       ],
       "shape": {
        "columns": 7,
        "rows": 621882
       }
      },
      "text/html": [
       "<div>\n",
       "<style scoped>\n",
       "    .dataframe tbody tr th:only-of-type {\n",
       "        vertical-align: middle;\n",
       "    }\n",
       "\n",
       "    .dataframe tbody tr th {\n",
       "        vertical-align: top;\n",
       "    }\n",
       "\n",
       "    .dataframe thead th {\n",
       "        text-align: right;\n",
       "    }\n",
       "</style>\n",
       "<table border=\"1\" class=\"dataframe\">\n",
       "  <thead>\n",
       "    <tr style=\"text-align: right;\">\n",
       "      <th></th>\n",
       "      <th>ncbi_taxonid</th>\n",
       "      <th>name</th>\n",
       "      <th>silva_id</th>\n",
       "      <th>greengenes_id</th>\n",
       "      <th>rdp_id</th>\n",
       "      <th>RNAcentral_id</th>\n",
       "      <th>gtdb_id</th>\n",
       "    </tr>\n",
       "  </thead>\n",
       "  <tbody>\n",
       "    <tr>\n",
       "      <th>0</th>\n",
       "      <td>10</td>\n",
       "      <td>Cellvibrio</td>\n",
       "      <td>NaN</td>\n",
       "      <td>NaN</td>\n",
       "      <td>NaN</td>\n",
       "      <td>&lt;NA&gt;</td>\n",
       "      <td>NaN</td>\n",
       "    </tr>\n",
       "    <tr>\n",
       "      <th>1</th>\n",
       "      <td>100</td>\n",
       "      <td>Ancylobacter aquaticus</td>\n",
       "      <td>FJ572205;FJ572206;FJ572207;FJ572208;FJ572209;A...</td>\n",
       "      <td>4419442;758357;699569;4650;636058;631559;541133</td>\n",
       "      <td>NaN</td>\n",
       "      <td>URS000001D3A2;URS0000056995;URS0000071FD2;URS0...</td>\n",
       "      <td>GB_GCA_003963445.1;RS_GCF_004339465.1</td>\n",
       "    </tr>\n",
       "    <tr>\n",
       "      <th>2</th>\n",
       "      <td>100000</td>\n",
       "      <td>Herbaspirillum sp. BA12</td>\n",
       "      <td>AF164051</td>\n",
       "      <td>7308</td>\n",
       "      <td>NaN</td>\n",
       "      <td>URS00004A623C</td>\n",
       "      <td>NaN</td>\n",
       "    </tr>\n",
       "    <tr>\n",
       "      <th>3</th>\n",
       "      <td>1000000</td>\n",
       "      <td>Microbacterium sp. 6.11-VPa</td>\n",
       "      <td>NaN</td>\n",
       "      <td>NaN</td>\n",
       "      <td>NaN</td>\n",
       "      <td>&lt;NA&gt;</td>\n",
       "      <td>NaN</td>\n",
       "    </tr>\n",
       "    <tr>\n",
       "      <th>4</th>\n",
       "      <td>1000001</td>\n",
       "      <td>Mycobacterium sp. 1.1-VEs</td>\n",
       "      <td>NaN</td>\n",
       "      <td>NaN</td>\n",
       "      <td>NaN</td>\n",
       "      <td>&lt;NA&gt;</td>\n",
       "      <td>NaN</td>\n",
       "    </tr>\n",
       "    <tr>\n",
       "      <th>...</th>\n",
       "      <td>...</td>\n",
       "      <td>...</td>\n",
       "      <td>...</td>\n",
       "      <td>...</td>\n",
       "      <td>...</td>\n",
       "      <td>...</td>\n",
       "      <td>...</td>\n",
       "    </tr>\n",
       "    <tr>\n",
       "      <th>621877</th>\n",
       "      <td>999995</td>\n",
       "      <td>Arthrobacter sp. 8.25ST-VSa</td>\n",
       "      <td>NaN</td>\n",
       "      <td>NaN</td>\n",
       "      <td>NaN</td>\n",
       "      <td>&lt;NA&gt;</td>\n",
       "      <td>NaN</td>\n",
       "    </tr>\n",
       "    <tr>\n",
       "      <th>621878</th>\n",
       "      <td>999996</td>\n",
       "      <td>Arthrobacter sp. 9.22-BP</td>\n",
       "      <td>NaN</td>\n",
       "      <td>NaN</td>\n",
       "      <td>NaN</td>\n",
       "      <td>&lt;NA&gt;</td>\n",
       "      <td>NaN</td>\n",
       "    </tr>\n",
       "    <tr>\n",
       "      <th>621879</th>\n",
       "      <td>999997</td>\n",
       "      <td>Arthrobacter sp. 9.29ST-BP</td>\n",
       "      <td>NaN</td>\n",
       "      <td>NaN</td>\n",
       "      <td>NaN</td>\n",
       "      <td>&lt;NA&gt;</td>\n",
       "      <td>NaN</td>\n",
       "    </tr>\n",
       "    <tr>\n",
       "      <th>621880</th>\n",
       "      <td>999998</td>\n",
       "      <td>Clavibacter sp. 10.27ST-Bb</td>\n",
       "      <td>NaN</td>\n",
       "      <td>NaN</td>\n",
       "      <td>NaN</td>\n",
       "      <td>&lt;NA&gt;</td>\n",
       "      <td>NaN</td>\n",
       "    </tr>\n",
       "    <tr>\n",
       "      <th>621881</th>\n",
       "      <td>999999</td>\n",
       "      <td>Leifsonia sp. 1.5-VEs</td>\n",
       "      <td>NaN</td>\n",
       "      <td>NaN</td>\n",
       "      <td>NaN</td>\n",
       "      <td>&lt;NA&gt;</td>\n",
       "      <td>NaN</td>\n",
       "    </tr>\n",
       "  </tbody>\n",
       "</table>\n",
       "<p>621882 rows × 7 columns</p>\n",
       "</div>"
      ],
      "text/plain": [
       "       ncbi_taxonid                         name  \\\n",
       "0                10                   Cellvibrio   \n",
       "1               100       Ancylobacter aquaticus   \n",
       "2            100000      Herbaspirillum sp. BA12   \n",
       "3           1000000  Microbacterium sp. 6.11-VPa   \n",
       "4           1000001    Mycobacterium sp. 1.1-VEs   \n",
       "...             ...                          ...   \n",
       "621877       999995  Arthrobacter sp. 8.25ST-VSa   \n",
       "621878       999996     Arthrobacter sp. 9.22-BP   \n",
       "621879       999997   Arthrobacter sp. 9.29ST-BP   \n",
       "621880       999998   Clavibacter sp. 10.27ST-Bb   \n",
       "621881       999999        Leifsonia sp. 1.5-VEs   \n",
       "\n",
       "                                                 silva_id  \\\n",
       "0                                                     NaN   \n",
       "1       FJ572205;FJ572206;FJ572207;FJ572208;FJ572209;A...   \n",
       "2                                                AF164051   \n",
       "3                                                     NaN   \n",
       "4                                                     NaN   \n",
       "...                                                   ...   \n",
       "621877                                                NaN   \n",
       "621878                                                NaN   \n",
       "621879                                                NaN   \n",
       "621880                                                NaN   \n",
       "621881                                                NaN   \n",
       "\n",
       "                                          greengenes_id rdp_id  \\\n",
       "0                                                   NaN    NaN   \n",
       "1       4419442;758357;699569;4650;636058;631559;541133    NaN   \n",
       "2                                                  7308    NaN   \n",
       "3                                                   NaN    NaN   \n",
       "4                                                   NaN    NaN   \n",
       "...                                                 ...    ...   \n",
       "621877                                              NaN    NaN   \n",
       "621878                                              NaN    NaN   \n",
       "621879                                              NaN    NaN   \n",
       "621880                                              NaN    NaN   \n",
       "621881                                              NaN    NaN   \n",
       "\n",
       "                                            RNAcentral_id  \\\n",
       "0                                                    <NA>   \n",
       "1       URS000001D3A2;URS0000056995;URS0000071FD2;URS0...   \n",
       "2                                           URS00004A623C   \n",
       "3                                                    <NA>   \n",
       "4                                                    <NA>   \n",
       "...                                                   ...   \n",
       "621877                                               <NA>   \n",
       "621878                                               <NA>   \n",
       "621879                                               <NA>   \n",
       "621880                                               <NA>   \n",
       "621881                                               <NA>   \n",
       "\n",
       "                                      gtdb_id  \n",
       "0                                         NaN  \n",
       "1       GB_GCA_003963445.1;RS_GCF_004339465.1  \n",
       "2                                         NaN  \n",
       "3                                         NaN  \n",
       "4                                         NaN  \n",
       "...                                       ...  \n",
       "621877                                    NaN  \n",
       "621878                                    NaN  \n",
       "621879                                    NaN  \n",
       "621880                                    NaN  \n",
       "621881                                    NaN  \n",
       "\n",
       "[621882 rows x 7 columns]"
      ]
     },
     "execution_count": 21,
     "metadata": {},
     "output_type": "execute_result"
    }
   ],
   "source": [
    "gtdb_unique = gtdb_unique.rename(columns={'ncbi_taxid': 'ncbi_taxonid'})\n",
    "ncbi_silva_gg_rdp_grdb = pd.merge(ncbi_silva_gg_rdp, gtdb_unique, on='ncbi_taxonid', how='outer')\n",
    "ncbi_silva_gg_rdp_grdb"
   ]
  },
  {
   "cell_type": "markdown",
   "metadata": {},
   "source": [
    "### 3.5 Fill the Name"
   ]
  },
  {
   "cell_type": "code",
   "execution_count": 22,
   "metadata": {},
   "outputs": [
    {
     "data": {
      "application/vnd.microsoft.datawrangler.viewer.v0+json": {
       "columns": [
        {
         "name": "index",
         "rawType": "int64",
         "type": "integer"
        },
        {
         "name": "silva_id",
         "rawType": "object",
         "type": "unknown"
        },
        {
         "name": "greengenes_id",
         "rawType": "object",
         "type": "unknown"
        },
        {
         "name": "rdp_id",
         "rawType": "object",
         "type": "unknown"
        },
        {
         "name": "RNAcentral_id",
         "rawType": "object",
         "type": "unknown"
        },
        {
         "name": "gtdb_id",
         "rawType": "object",
         "type": "unknown"
        },
        {
         "name": "NCBI_Taxonomy_Name",
         "rawType": "object",
         "type": "string"
        },
        {
         "name": "NCBI_Taxonomy_ID",
         "rawType": "object",
         "type": "string"
        }
       ],
       "conversionMethod": "pd.DataFrame",
       "ref": "717ccbd3-8240-4fc8-af3a-5159a7fe5d44",
       "rows": [
        [
         "0",
         null,
         null,
         null,
         null,
         null,
         "Cellvibrio",
         "10"
        ],
        [
         "1",
         "FJ572205;FJ572206;FJ572207;FJ572208;FJ572209;AB681795;M62790",
         "4419442;758357;699569;4650;636058;631559;541133",
         null,
         "URS000001D3A2;URS0000056995;URS0000071FD2;URS0000134811;URS00001CEB60;URS0000292080;URS00004890C5",
         "GB_GCA_003963445.1;RS_GCF_004339465.1",
         "Ancylobacter aquaticus",
         "100"
        ],
        [
         "2",
         "AF164051",
         "7308",
         null,
         "URS00004A623C",
         null,
         "Herbaspirillum sp. BA12",
         "100000"
        ],
        [
         "3",
         null,
         null,
         null,
         null,
         null,
         "Microbacterium sp. 6.11-VPa",
         "1000000"
        ],
        [
         "4",
         null,
         null,
         null,
         null,
         null,
         "Mycobacterium sp. 1.1-VEs",
         "1000001"
        ],
        [
         "5",
         null,
         null,
         null,
         null,
         null,
         "Mycobacterium sp. 1.12-VEs",
         "1000002"
        ],
        [
         "6",
         null,
         null,
         null,
         null,
         null,
         "Nocardia sp. 3.2-VPr",
         "1000003"
        ],
        [
         "7",
         null,
         null,
         null,
         null,
         null,
         "Polaromonas sp. 7.23-VPa",
         "1000004"
        ],
        [
         "8",
         null,
         null,
         null,
         null,
         null,
         "Promicromonospora sp. 10.25-Bb",
         "1000005"
        ],
        [
         "9",
         null,
         null,
         null,
         null,
         null,
         "Promicromonospora sp. 3.1- VPr",
         "1000006"
        ],
        [
         "10",
         null,
         null,
         null,
         null,
         null,
         "Pseudomonas sp. 10S-VPa",
         "1000007"
        ],
        [
         "11",
         null,
         null,
         null,
         null,
         null,
         "Pseudomonas sp. 5B-VPa",
         "1000008"
        ],
        [
         "12",
         null,
         null,
         null,
         null,
         null,
         "Pseudomonas sp. 5K-VPa",
         "1000009"
        ],
        [
         "13",
         "AF164052",
         "7309",
         null,
         "URS00008A7B66",
         null,
         "Herbaspirillum sp. BA14",
         "100001"
        ],
        [
         "14",
         null,
         null,
         null,
         null,
         null,
         "Pseudomonas sp. 5KS-VPa",
         "1000010"
        ],
        [
         "15",
         null,
         null,
         null,
         null,
         null,
         "Pseudomonas sp. 5KW-VPa",
         "1000011"
        ],
        [
         "16",
         null,
         null,
         null,
         null,
         null,
         "Pseudomonas sp. 5S-VPa",
         "1000012"
        ],
        [
         "17",
         null,
         null,
         null,
         null,
         null,
         "Pseudomonas sp. 5T-VPa",
         "1000013"
        ],
        [
         "18",
         null,
         null,
         null,
         null,
         null,
         "Pseudomonas sp. 6S-VPa",
         "1000014"
        ],
        [
         "19",
         null,
         null,
         null,
         null,
         null,
         "Rhodococcus sp. 1.15-VEs",
         "1000015"
        ],
        [
         "20",
         null,
         null,
         null,
         null,
         null,
         "Rhodococcus sp. 1.3-VEs",
         "1000016"
        ],
        [
         "21",
         null,
         null,
         null,
         null,
         null,
         "Rhodococcus sp. 3.3-VPr",
         "1000017"
        ],
        [
         "22",
         null,
         null,
         null,
         null,
         null,
         "Rhodococcus sp. 4.20-VOd",
         "1000018"
        ],
        [
         "23",
         null,
         null,
         null,
         null,
         null,
         "Rhodococcus sp. 4.20ST-VOd",
         "1000019"
        ],
        [
         "24",
         "AF164053",
         "7310",
         null,
         "URS00002EBCF8",
         null,
         "Herbaspirillum sp. BA15",
         "100002"
        ],
        [
         "25",
         null,
         null,
         null,
         null,
         null,
         "Sanguibacter sp. 1.16-VEs",
         "1000020"
        ],
        [
         "26",
         null,
         null,
         null,
         null,
         null,
         "Sanguibacter sp. 1.23-VEs",
         "1000021"
        ],
        [
         "27",
         null,
         null,
         null,
         null,
         null,
         "Sanguibacter sp. 1.23S-VEs",
         "1000022"
        ],
        [
         "28",
         null,
         null,
         null,
         null,
         null,
         "Comamonadaceae bacterium 12S-VPa",
         "1000023"
        ],
        [
         "29",
         null,
         null,
         null,
         null,
         null,
         "Intrasporangiaceae bacterium 7.31-VPa",
         "1000024"
        ],
        [
         "30",
         null,
         null,
         null,
         null,
         null,
         "Intrasporangiaceae bacterium 7.4-VPa",
         "1000025"
        ],
        [
         "31",
         null,
         null,
         null,
         null,
         null,
         "Micrococcineae bacterium 9.2-BP",
         "1000026"
        ],
        [
         "32",
         null,
         null,
         null,
         null,
         null,
         "alpha proteobacterium 6.6-VPa",
         "1000027"
        ],
        [
         "33",
         "HQ391902",
         "1113734",
         null,
         "URS0000887D51",
         null,
         "Bacillus sp. enrichment culture clone w-181",
         "1000028"
        ],
        [
         "34",
         "HQ324140",
         "1113715",
         null,
         "URS00005665C8",
         null,
         "Pseudomonas sp. MBYD-1",
         "1000029"
        ],
        [
         "35",
         "AF164054",
         "7311",
         null,
         "URS000009EB14",
         null,
         "Herbaspirillum sp. BA16",
         "100003"
        ],
        [
         "36",
         null,
         null,
         null,
         null,
         null,
         "Agrobacterium sp. G21-07",
         "1000030"
        ],
        [
         "37",
         null,
         null,
         null,
         null,
         null,
         "Agrobacterium sp. G21-09",
         "1000031"
        ],
        [
         "38",
         null,
         null,
         null,
         null,
         null,
         "Enterobacter sp. P19-19",
         "1000032"
        ],
        [
         "39",
         null,
         null,
         null,
         null,
         null,
         "Flavobacterium sp. G23-27",
         "1000033"
        ],
        [
         "40",
         null,
         null,
         null,
         null,
         null,
         "Erwinia sp. Koakin",
         "1000034"
        ],
        [
         "41",
         null,
         null,
         null,
         null,
         null,
         "Herbaspirillum sp. BA134",
         "100004"
        ],
        [
         "42",
         "AF164063",
         "7314",
         null,
         "URS000023006F",
         null,
         "Herbaspirillum sp. BA161",
         "100005"
        ],
        [
         "43",
         null,
         null,
         null,
         null,
         null,
         "Azospirillum sp. Ala",
         "100006"
        ],
        [
         "44",
         "AF165182",
         "13158",
         null,
         "URS000028C3AB",
         null,
         "Mycobacterium sp. C2-3",
         "100007"
        ],
        [
         "45",
         null,
         null,
         null,
         null,
         null,
         "Bartonella sp. RR13863PO",
         "100012"
        ],
        [
         "46",
         null,
         null,
         null,
         null,
         null,
         "Bartonella sp. MM5136CA",
         "100013"
        ],
        [
         "47",
         "AF164043",
         "69874",
         null,
         "URS00000BE272",
         null,
         "diazotroph str. AB48",
         "100014"
        ],
        [
         "48",
         null,
         null,
         null,
         null,
         null,
         "diazotroph str. AB71",
         "100015"
        ],
        [
         "49",
         null,
         null,
         null,
         null,
         null,
         "diazotroph str. AB117",
         "100016"
        ]
       ],
       "shape": {
        "columns": 7,
        "rows": 621882
       }
      },
      "text/html": [
       "<div>\n",
       "<style scoped>\n",
       "    .dataframe tbody tr th:only-of-type {\n",
       "        vertical-align: middle;\n",
       "    }\n",
       "\n",
       "    .dataframe tbody tr th {\n",
       "        vertical-align: top;\n",
       "    }\n",
       "\n",
       "    .dataframe thead th {\n",
       "        text-align: right;\n",
       "    }\n",
       "</style>\n",
       "<table border=\"1\" class=\"dataframe\">\n",
       "  <thead>\n",
       "    <tr style=\"text-align: right;\">\n",
       "      <th></th>\n",
       "      <th>silva_id</th>\n",
       "      <th>greengenes_id</th>\n",
       "      <th>rdp_id</th>\n",
       "      <th>RNAcentral_id</th>\n",
       "      <th>gtdb_id</th>\n",
       "      <th>NCBI_Taxonomy_Name</th>\n",
       "      <th>NCBI_Taxonomy_ID</th>\n",
       "    </tr>\n",
       "  </thead>\n",
       "  <tbody>\n",
       "    <tr>\n",
       "      <th>0</th>\n",
       "      <td>NaN</td>\n",
       "      <td>NaN</td>\n",
       "      <td>NaN</td>\n",
       "      <td>&lt;NA&gt;</td>\n",
       "      <td>NaN</td>\n",
       "      <td>Cellvibrio</td>\n",
       "      <td>10</td>\n",
       "    </tr>\n",
       "    <tr>\n",
       "      <th>1</th>\n",
       "      <td>FJ572205;FJ572206;FJ572207;FJ572208;FJ572209;A...</td>\n",
       "      <td>4419442;758357;699569;4650;636058;631559;541133</td>\n",
       "      <td>NaN</td>\n",
       "      <td>URS000001D3A2;URS0000056995;URS0000071FD2;URS0...</td>\n",
       "      <td>GB_GCA_003963445.1;RS_GCF_004339465.1</td>\n",
       "      <td>Ancylobacter aquaticus</td>\n",
       "      <td>100</td>\n",
       "    </tr>\n",
       "    <tr>\n",
       "      <th>2</th>\n",
       "      <td>AF164051</td>\n",
       "      <td>7308</td>\n",
       "      <td>NaN</td>\n",
       "      <td>URS00004A623C</td>\n",
       "      <td>NaN</td>\n",
       "      <td>Herbaspirillum sp. BA12</td>\n",
       "      <td>100000</td>\n",
       "    </tr>\n",
       "    <tr>\n",
       "      <th>3</th>\n",
       "      <td>NaN</td>\n",
       "      <td>NaN</td>\n",
       "      <td>NaN</td>\n",
       "      <td>&lt;NA&gt;</td>\n",
       "      <td>NaN</td>\n",
       "      <td>Microbacterium sp. 6.11-VPa</td>\n",
       "      <td>1000000</td>\n",
       "    </tr>\n",
       "    <tr>\n",
       "      <th>4</th>\n",
       "      <td>NaN</td>\n",
       "      <td>NaN</td>\n",
       "      <td>NaN</td>\n",
       "      <td>&lt;NA&gt;</td>\n",
       "      <td>NaN</td>\n",
       "      <td>Mycobacterium sp. 1.1-VEs</td>\n",
       "      <td>1000001</td>\n",
       "    </tr>\n",
       "    <tr>\n",
       "      <th>...</th>\n",
       "      <td>...</td>\n",
       "      <td>...</td>\n",
       "      <td>...</td>\n",
       "      <td>...</td>\n",
       "      <td>...</td>\n",
       "      <td>...</td>\n",
       "      <td>...</td>\n",
       "    </tr>\n",
       "    <tr>\n",
       "      <th>621877</th>\n",
       "      <td>NaN</td>\n",
       "      <td>NaN</td>\n",
       "      <td>NaN</td>\n",
       "      <td>&lt;NA&gt;</td>\n",
       "      <td>NaN</td>\n",
       "      <td>Arthrobacter sp. 8.25ST-VSa</td>\n",
       "      <td>999995</td>\n",
       "    </tr>\n",
       "    <tr>\n",
       "      <th>621878</th>\n",
       "      <td>NaN</td>\n",
       "      <td>NaN</td>\n",
       "      <td>NaN</td>\n",
       "      <td>&lt;NA&gt;</td>\n",
       "      <td>NaN</td>\n",
       "      <td>Arthrobacter sp. 9.22-BP</td>\n",
       "      <td>999996</td>\n",
       "    </tr>\n",
       "    <tr>\n",
       "      <th>621879</th>\n",
       "      <td>NaN</td>\n",
       "      <td>NaN</td>\n",
       "      <td>NaN</td>\n",
       "      <td>&lt;NA&gt;</td>\n",
       "      <td>NaN</td>\n",
       "      <td>Arthrobacter sp. 9.29ST-BP</td>\n",
       "      <td>999997</td>\n",
       "    </tr>\n",
       "    <tr>\n",
       "      <th>621880</th>\n",
       "      <td>NaN</td>\n",
       "      <td>NaN</td>\n",
       "      <td>NaN</td>\n",
       "      <td>&lt;NA&gt;</td>\n",
       "      <td>NaN</td>\n",
       "      <td>Clavibacter sp. 10.27ST-Bb</td>\n",
       "      <td>999998</td>\n",
       "    </tr>\n",
       "    <tr>\n",
       "      <th>621881</th>\n",
       "      <td>NaN</td>\n",
       "      <td>NaN</td>\n",
       "      <td>NaN</td>\n",
       "      <td>&lt;NA&gt;</td>\n",
       "      <td>NaN</td>\n",
       "      <td>Leifsonia sp. 1.5-VEs</td>\n",
       "      <td>999999</td>\n",
       "    </tr>\n",
       "  </tbody>\n",
       "</table>\n",
       "<p>621882 rows × 7 columns</p>\n",
       "</div>"
      ],
      "text/plain": [
       "                                                 silva_id  \\\n",
       "0                                                     NaN   \n",
       "1       FJ572205;FJ572206;FJ572207;FJ572208;FJ572209;A...   \n",
       "2                                                AF164051   \n",
       "3                                                     NaN   \n",
       "4                                                     NaN   \n",
       "...                                                   ...   \n",
       "621877                                                NaN   \n",
       "621878                                                NaN   \n",
       "621879                                                NaN   \n",
       "621880                                                NaN   \n",
       "621881                                                NaN   \n",
       "\n",
       "                                          greengenes_id rdp_id  \\\n",
       "0                                                   NaN    NaN   \n",
       "1       4419442;758357;699569;4650;636058;631559;541133    NaN   \n",
       "2                                                  7308    NaN   \n",
       "3                                                   NaN    NaN   \n",
       "4                                                   NaN    NaN   \n",
       "...                                                 ...    ...   \n",
       "621877                                              NaN    NaN   \n",
       "621878                                              NaN    NaN   \n",
       "621879                                              NaN    NaN   \n",
       "621880                                              NaN    NaN   \n",
       "621881                                              NaN    NaN   \n",
       "\n",
       "                                            RNAcentral_id  \\\n",
       "0                                                    <NA>   \n",
       "1       URS000001D3A2;URS0000056995;URS0000071FD2;URS0...   \n",
       "2                                           URS00004A623C   \n",
       "3                                                    <NA>   \n",
       "4                                                    <NA>   \n",
       "...                                                   ...   \n",
       "621877                                               <NA>   \n",
       "621878                                               <NA>   \n",
       "621879                                               <NA>   \n",
       "621880                                               <NA>   \n",
       "621881                                               <NA>   \n",
       "\n",
       "                                      gtdb_id           NCBI_Taxonomy_Name  \\\n",
       "0                                         NaN                   Cellvibrio   \n",
       "1       GB_GCA_003963445.1;RS_GCF_004339465.1       Ancylobacter aquaticus   \n",
       "2                                         NaN      Herbaspirillum sp. BA12   \n",
       "3                                         NaN  Microbacterium sp. 6.11-VPa   \n",
       "4                                         NaN    Mycobacterium sp. 1.1-VEs   \n",
       "...                                       ...                          ...   \n",
       "621877                                    NaN  Arthrobacter sp. 8.25ST-VSa   \n",
       "621878                                    NaN     Arthrobacter sp. 9.22-BP   \n",
       "621879                                    NaN   Arthrobacter sp. 9.29ST-BP   \n",
       "621880                                    NaN   Clavibacter sp. 10.27ST-Bb   \n",
       "621881                                    NaN        Leifsonia sp. 1.5-VEs   \n",
       "\n",
       "       NCBI_Taxonomy_ID  \n",
       "0                    10  \n",
       "1                   100  \n",
       "2                100000  \n",
       "3               1000000  \n",
       "4               1000001  \n",
       "...                 ...  \n",
       "621877           999995  \n",
       "621878           999996  \n",
       "621879           999997  \n",
       "621880           999998  \n",
       "621881           999999  \n",
       "\n",
       "[621882 rows x 7 columns]"
      ]
     },
     "execution_count": 22,
     "metadata": {},
     "output_type": "execute_result"
    }
   ],
   "source": [
    "ncbi_taxonomy_name = ncbi_taxonomy_filter[['tax_id', 'name_txt']]\n",
    "ncbi_silva_gg_rdp_grdb_final = pd.merge(ncbi_silva_gg_rdp_grdb, ncbi_taxonomy_name, left_on='ncbi_taxonid', right_on='tax_id', how='left')\n",
    "ncbi_silva_gg_rdp_grdb_final = merge_string_columns(ncbi_silva_gg_rdp_grdb_final, ['name_txt', 'name'], 'NCBI_Taxonomy_Name')\n",
    "ncbi_silva_gg_rdp_grdb_final = merge_column(ncbi_silva_gg_rdp_grdb_final, 'ncbi_taxonid', 'tax_id', 'NCBI_Taxonomy_ID')\n",
    "ncbi_silva_gg_rdp_grdb_final"
   ]
  },
  {
   "cell_type": "code",
   "execution_count": 23,
   "metadata": {},
   "outputs": [
    {
     "name": "stdout",
     "output_type": "stream",
     "text": [
      "<class 'pandas.core.frame.DataFrame'>\n",
      "Index: 621882 entries, 0 to 621881\n",
      "Data columns (total 7 columns):\n",
      " #   Column              Non-Null Count   Dtype \n",
      "---  ------              --------------   ----- \n",
      " 0   silva_id            272419 non-null  object\n",
      " 1   greengenes_id       92684 non-null   object\n",
      " 2   rdp_id              2487 non-null    object\n",
      " 3   RNAcentral_id       93118 non-null   object\n",
      " 4   gtdb_id             92444 non-null   object\n",
      " 5   NCBI_Taxonomy_Name  621882 non-null  object\n",
      " 6   NCBI_Taxonomy_ID    621882 non-null  object\n",
      "dtypes: object(7)\n",
      "memory usage: 38.0+ MB\n"
     ]
    }
   ],
   "source": [
    "ncbi_silva_gg_rdp_grdb_final.info()"
   ]
  },
  {
   "cell_type": "markdown",
   "metadata": {},
   "source": [
    "## 4. BioMedgraphica ID"
   ]
  },
  {
   "cell_type": "code",
   "execution_count": 26,
   "metadata": {},
   "outputs": [
    {
     "name": "stdout",
     "output_type": "stream",
     "text": [
      "<class 'pandas.core.frame.DataFrame'>\n",
      "RangeIndex: 621882 entries, 0 to 621881\n",
      "Data columns (total 8 columns):\n",
      " #   Column              Non-Null Count   Dtype \n",
      "---  ------              --------------   ----- \n",
      " 0   BioMedGraphica_ID   621882 non-null  object\n",
      " 1   SILVA_ID            272419 non-null  object\n",
      " 2   Greengenes_ID       92684 non-null   object\n",
      " 3   RDP_ID              2487 non-null    object\n",
      " 4   RNAcentral_ID       93118 non-null   object\n",
      " 5   GTDB_ID             92444 non-null   object\n",
      " 6   NCBI_Taxonomy_Name  621882 non-null  object\n",
      " 7   NCBI_Taxonomy_ID    621882 non-null  object\n",
      "dtypes: object(8)\n",
      "memory usage: 38.0+ MB\n"
     ]
    }
   ],
   "source": [
    "biomedgraphica_microbiota = ncbi_silva_gg_rdp_grdb_final.copy()\n",
    "biomedgraphica_microbiota = biomedgraphica_microbiota.sort_values(by=['NCBI_Taxonomy_ID'], na_position='last').reset_index(drop=True)\n",
    "\n",
    "max_length = len(str(len(biomedgraphica_microbiota)))\n",
    "biomedgraphica_microbiota['BioMedGraphica_ID'] = ['BMG_MC' + str(i).zfill(max_length) for i in range(1, len(biomedgraphica_microbiota) + 1)]\n",
    "biomedgraphica_microbiota.rename(columns={'RNAcentral_id': 'RNAcentral_ID', 'silva_id': 'SILVA_ID',\n",
    "                                       'greengenes_id': 'Greengenes_ID', 'rdp_id': 'RDP_ID', 'gtdb_id': 'GTDB_ID'}, inplace=True)\n",
    "columns = ['BioMedGraphica_ID'] + [col for col in biomedgraphica_microbiota.columns if col != 'BioMedGraphica_ID']  # re-order columns\n",
    "biomedgraphica_microbiota = biomedgraphica_microbiota[columns]\n",
    "biomedgraphica_microbiota.info()"
   ]
  },
  {
   "cell_type": "code",
   "execution_count": 27,
   "metadata": {},
   "outputs": [
    {
     "name": "stdout",
     "output_type": "stream",
     "text": [
      "Data has been saved to D:\\RA\\BMG\\BioMedGraphica\\Entity\\Microbiota\\BioMedGraphica_Microbiota.csv\n"
     ]
    }
   ],
   "source": [
    "import os\n",
    "from pathlib import Path\n",
    "\n",
    "# get the current working directory\n",
    "current_working_dir = Path(os.getcwd()).resolve()\n",
    "\n",
    "# get the output directory\n",
    "grandparent_dir = current_working_dir.parent.parent.parent\n",
    "\n",
    "target_folder = grandparent_dir / 'BioMedGraphica' / 'Entity' / 'Microbiota'\n",
    "if not target_folder.exists():\n",
    "    target_folder.mkdir(parents=True)\n",
    "    print(f\"Folder {target_folder} has been created.\")\n",
    "\n",
    "output_file_path = target_folder / 'BioMedGraphica_Microbiota.csv'\n",
    "biomedgraphica_microbiota.to_csv(output_file_path, index=False)\n",
    "print(f\"Data has been saved to {output_file_path}\")"
   ]
  },
  {
   "cell_type": "markdown",
   "metadata": {},
   "source": [
    "## 5. Description(NULL)"
   ]
  },
  {
   "cell_type": "markdown",
   "metadata": {},
   "source": [
    "## 6. File Generation"
   ]
  },
  {
   "cell_type": "code",
   "execution_count": 1,
   "metadata": {},
   "outputs": [],
   "source": [
    "import pandas as pd\n",
    "import os\n",
    "from pathlib import Path\n",
    "\n",
    "current_working_dir = Path(os.getcwd()).resolve()\n",
    "grandparent_dir = current_working_dir.parent.parent.parent\n",
    "target_dir = grandparent_dir / 'BioMedGraphica' / 'Entity' / 'Microbiota' / 'BioMedGraphica_Microbiota.csv'\n",
    "biomedgraphica_microbiota = pd.read_csv(target_dir, dtype=str)"
   ]
  },
  {
   "cell_type": "markdown",
   "metadata": {},
   "source": [
    "### 6.1 Name and ID"
   ]
  },
  {
   "cell_type": "markdown",
   "metadata": {},
   "source": [
    "GUI Name"
   ]
  },
  {
   "cell_type": "code",
   "execution_count": 2,
   "metadata": {},
   "outputs": [
    {
     "data": {
      "application/vnd.microsoft.datawrangler.viewer.v0+json": {
       "columns": [
        {
         "name": "index",
         "rawType": "int64",
         "type": "integer"
        },
        {
         "name": "BioMedGraphica_ID",
         "rawType": "object",
         "type": "string"
        },
        {
         "name": "Microbiota_Name_List",
         "rawType": "object",
         "type": "unknown"
        }
       ],
       "conversionMethod": "pd.DataFrame",
       "ref": "04d1dc5e-c5d6-40d4-80ec-8603762f8386",
       "rows": [
        [
         "0",
         "BMG_MC000001",
         "Cellvibrio"
        ],
        [
         "1",
         "BMG_MC000002",
         "Ancylobacter aquaticus"
        ],
        [
         "2",
         "BMG_MC000003",
         "Herbaspirillum sp. BA12"
        ],
        [
         "3",
         "BMG_MC000004",
         "Microbacterium sp. 6.11-VPa"
        ],
        [
         "4",
         "BMG_MC000005",
         "Mycobacterium sp. 1.1-VEs"
        ],
        [
         "5",
         "BMG_MC000006",
         "Mycobacterium sp. 1.12-VEs"
        ],
        [
         "6",
         "BMG_MC000007",
         "Nocardia sp. 3.2-VPr"
        ],
        [
         "7",
         "BMG_MC000008",
         "Polaromonas sp. 7.23-VPa"
        ],
        [
         "8",
         "BMG_MC000009",
         "Promicromonospora sp. 10.25-Bb"
        ],
        [
         "9",
         "BMG_MC000010",
         "Promicromonospora sp. 3.1- VPr"
        ],
        [
         "10",
         "BMG_MC000011",
         "Pseudomonas sp. 10S-VPa"
        ],
        [
         "11",
         "BMG_MC000012",
         "Pseudomonas sp. 5B-VPa"
        ],
        [
         "12",
         "BMG_MC000013",
         "Pseudomonas sp. 5K-VPa"
        ],
        [
         "13",
         "BMG_MC000014",
         "Herbaspirillum sp. BA14"
        ],
        [
         "14",
         "BMG_MC000015",
         "Pseudomonas sp. 5KS-VPa"
        ],
        [
         "15",
         "BMG_MC000016",
         "Pseudomonas sp. 5KW-VPa"
        ],
        [
         "16",
         "BMG_MC000017",
         "Pseudomonas sp. 5S-VPa"
        ],
        [
         "17",
         "BMG_MC000018",
         "Pseudomonas sp. 5T-VPa"
        ],
        [
         "18",
         "BMG_MC000019",
         "Pseudomonas sp. 6S-VPa"
        ],
        [
         "19",
         "BMG_MC000020",
         "Rhodococcus sp. 1.15-VEs"
        ],
        [
         "20",
         "BMG_MC000021",
         "Rhodococcus sp. 1.3-VEs"
        ],
        [
         "21",
         "BMG_MC000022",
         "Rhodococcus sp. 3.3-VPr"
        ],
        [
         "22",
         "BMG_MC000023",
         "Rhodococcus sp. 4.20-VOd"
        ],
        [
         "23",
         "BMG_MC000024",
         "Rhodococcus sp. 4.20ST-VOd"
        ],
        [
         "24",
         "BMG_MC000025",
         "Herbaspirillum sp. BA15"
        ],
        [
         "25",
         "BMG_MC000026",
         "Sanguibacter sp. 1.16-VEs"
        ],
        [
         "26",
         "BMG_MC000027",
         "Sanguibacter sp. 1.23-VEs"
        ],
        [
         "27",
         "BMG_MC000028",
         "Sanguibacter sp. 1.23S-VEs"
        ],
        [
         "28",
         "BMG_MC000029",
         "Comamonadaceae bacterium 12S-VPa"
        ],
        [
         "29",
         "BMG_MC000030",
         "Intrasporangiaceae bacterium 7.31-VPa"
        ],
        [
         "30",
         "BMG_MC000031",
         "Intrasporangiaceae bacterium 7.4-VPa"
        ],
        [
         "31",
         "BMG_MC000032",
         "Micrococcineae bacterium 9.2-BP"
        ],
        [
         "32",
         "BMG_MC000033",
         "alpha proteobacterium 6.6-VPa"
        ],
        [
         "33",
         "BMG_MC000034",
         "Bacillus sp. enrichment culture clone w-181"
        ],
        [
         "34",
         "BMG_MC000035",
         "Pseudomonas sp. MBYD-1"
        ],
        [
         "35",
         "BMG_MC000036",
         "Herbaspirillum sp. BA16"
        ],
        [
         "36",
         "BMG_MC000037",
         "Agrobacterium sp. G21-07"
        ],
        [
         "37",
         "BMG_MC000038",
         "Agrobacterium sp. G21-09"
        ],
        [
         "38",
         "BMG_MC000039",
         "Enterobacter sp. P19-19"
        ],
        [
         "39",
         "BMG_MC000040",
         "Flavobacterium sp. G23-27"
        ],
        [
         "40",
         "BMG_MC000041",
         "Erwinia sp. Koakin"
        ],
        [
         "41",
         "BMG_MC000042",
         "Herbaspirillum sp. BA134"
        ],
        [
         "42",
         "BMG_MC000043",
         "Herbaspirillum sp. BA161"
        ],
        [
         "43",
         "BMG_MC000044",
         "Azospirillum sp. Ala"
        ],
        [
         "44",
         "BMG_MC000045",
         "Mycobacterium sp. C2-3"
        ],
        [
         "45",
         "BMG_MC000046",
         "Bartonella sp. RR13863PO"
        ],
        [
         "46",
         "BMG_MC000047",
         "Bartonella sp. MM5136CA"
        ],
        [
         "47",
         "BMG_MC000048",
         "diazotroph str. AB48"
        ],
        [
         "48",
         "BMG_MC000049",
         "diazotroph str. AB71"
        ],
        [
         "49",
         "BMG_MC000050",
         "diazotroph str. AB117"
        ]
       ],
       "shape": {
        "columns": 2,
        "rows": 621882
       }
      },
      "text/html": [
       "<div>\n",
       "<style scoped>\n",
       "    .dataframe tbody tr th:only-of-type {\n",
       "        vertical-align: middle;\n",
       "    }\n",
       "\n",
       "    .dataframe tbody tr th {\n",
       "        vertical-align: top;\n",
       "    }\n",
       "\n",
       "    .dataframe thead th {\n",
       "        text-align: right;\n",
       "    }\n",
       "</style>\n",
       "<table border=\"1\" class=\"dataframe\">\n",
       "  <thead>\n",
       "    <tr style=\"text-align: right;\">\n",
       "      <th></th>\n",
       "      <th>BioMedGraphica_ID</th>\n",
       "      <th>Microbiota_Name_List</th>\n",
       "    </tr>\n",
       "  </thead>\n",
       "  <tbody>\n",
       "    <tr>\n",
       "      <th>0</th>\n",
       "      <td>BMG_MC000001</td>\n",
       "      <td>Cellvibrio</td>\n",
       "    </tr>\n",
       "    <tr>\n",
       "      <th>1</th>\n",
       "      <td>BMG_MC000002</td>\n",
       "      <td>Ancylobacter aquaticus</td>\n",
       "    </tr>\n",
       "    <tr>\n",
       "      <th>2</th>\n",
       "      <td>BMG_MC000003</td>\n",
       "      <td>Herbaspirillum sp. BA12</td>\n",
       "    </tr>\n",
       "    <tr>\n",
       "      <th>3</th>\n",
       "      <td>BMG_MC000004</td>\n",
       "      <td>Microbacterium sp. 6.11-VPa</td>\n",
       "    </tr>\n",
       "    <tr>\n",
       "      <th>4</th>\n",
       "      <td>BMG_MC000005</td>\n",
       "      <td>Mycobacterium sp. 1.1-VEs</td>\n",
       "    </tr>\n",
       "    <tr>\n",
       "      <th>...</th>\n",
       "      <td>...</td>\n",
       "      <td>...</td>\n",
       "    </tr>\n",
       "    <tr>\n",
       "      <th>621877</th>\n",
       "      <td>BMG_MC621878</td>\n",
       "      <td>Arthrobacter sp. 8.25ST-VSa</td>\n",
       "    </tr>\n",
       "    <tr>\n",
       "      <th>621878</th>\n",
       "      <td>BMG_MC621879</td>\n",
       "      <td>Arthrobacter sp. 9.22-BP</td>\n",
       "    </tr>\n",
       "    <tr>\n",
       "      <th>621879</th>\n",
       "      <td>BMG_MC621880</td>\n",
       "      <td>Arthrobacter sp. 9.29ST-BP</td>\n",
       "    </tr>\n",
       "    <tr>\n",
       "      <th>621880</th>\n",
       "      <td>BMG_MC621881</td>\n",
       "      <td>Clavibacter sp. 10.27ST-Bb</td>\n",
       "    </tr>\n",
       "    <tr>\n",
       "      <th>621881</th>\n",
       "      <td>BMG_MC621882</td>\n",
       "      <td>Leifsonia sp. 1.5-VEs</td>\n",
       "    </tr>\n",
       "  </tbody>\n",
       "</table>\n",
       "<p>621882 rows × 2 columns</p>\n",
       "</div>"
      ],
      "text/plain": [
       "       BioMedGraphica_ID         Microbiota_Name_List\n",
       "0           BMG_MC000001                   Cellvibrio\n",
       "1           BMG_MC000002       Ancylobacter aquaticus\n",
       "2           BMG_MC000003      Herbaspirillum sp. BA12\n",
       "3           BMG_MC000004  Microbacterium sp. 6.11-VPa\n",
       "4           BMG_MC000005    Mycobacterium sp. 1.1-VEs\n",
       "...                  ...                          ...\n",
       "621877      BMG_MC621878  Arthrobacter sp. 8.25ST-VSa\n",
       "621878      BMG_MC621879     Arthrobacter sp. 9.22-BP\n",
       "621879      BMG_MC621880   Arthrobacter sp. 9.29ST-BP\n",
       "621880      BMG_MC621881   Clavibacter sp. 10.27ST-Bb\n",
       "621881      BMG_MC621882        Leifsonia sp. 1.5-VEs\n",
       "\n",
       "[621882 rows x 2 columns]"
      ]
     },
     "execution_count": 2,
     "metadata": {},
     "output_type": "execute_result"
    }
   ],
   "source": [
    "gui_name = biomedgraphica_microbiota.copy()\n",
    "gui_name.rename(columns={'NCBI_Taxonomy_Name': 'Microbiota_Name_List'}, inplace=True)\n",
    "gui_name = gui_name[['BioMedGraphica_ID', 'Microbiota_Name_List']]\n",
    "gui_name"
   ]
  },
  {
   "cell_type": "code",
   "execution_count": 3,
   "metadata": {},
   "outputs": [
    {
     "name": "stdout",
     "output_type": "stream",
     "text": [
      "Data has been saved to D:\\RA\\BMG\\BioMedGraphica\\Entity\\Microbiota\\BioMedGraphica_Microbiota_GUI_Name.csv\n"
     ]
    }
   ],
   "source": [
    "import os\n",
    "from pathlib import Path\n",
    "\n",
    "# get the current working directory\n",
    "current_working_dir = Path(os.getcwd()).resolve()\n",
    "\n",
    "# get the output directory\n",
    "grandparent_dir = current_working_dir.parent.parent.parent\n",
    "\n",
    "target_folder = grandparent_dir / 'BioMedGraphica' / 'Entity' / 'Microbiota'\n",
    "if not target_folder.exists():\n",
    "    target_folder.mkdir(parents=True)\n",
    "    print(f\"Folder {target_folder} has been created.\")\n",
    "\n",
    "output_file_path = target_folder / 'BioMedGraphica_Microbiota_GUI_Name.csv'\n",
    "gui_name.to_csv(output_file_path, index=False)\n",
    "print(f\"Data has been saved to {output_file_path}\")"
   ]
  },
  {
   "cell_type": "markdown",
   "metadata": {},
   "source": [
    "LLM Name and ID"
   ]
  },
  {
   "cell_type": "code",
   "execution_count": 4,
   "metadata": {},
   "outputs": [
    {
     "data": {
      "application/vnd.microsoft.datawrangler.viewer.v0+json": {
       "columns": [
        {
         "name": "index",
         "rawType": "int64",
         "type": "integer"
        },
        {
         "name": "BioMedGraphica_ID",
         "rawType": "object",
         "type": "string"
        },
        {
         "name": "NCBI_Taxonomy_Name",
         "rawType": "object",
         "type": "unknown"
        },
        {
         "name": "NCBI_Taxonomy_ID",
         "rawType": "object",
         "type": "string"
        },
        {
         "name": "SILVA_ID",
         "rawType": "object",
         "type": "unknown"
        },
        {
         "name": "Greengenes_ID",
         "rawType": "object",
         "type": "unknown"
        },
        {
         "name": "RNAcentral_ID",
         "rawType": "object",
         "type": "unknown"
        },
        {
         "name": "GTDB_ID",
         "rawType": "object",
         "type": "unknown"
        },
        {
         "name": "RDP_ID",
         "rawType": "object",
         "type": "unknown"
        }
       ],
       "conversionMethod": "pd.DataFrame",
       "ref": "fb387b5b-3b06-4d6a-8c99-b9c937b2f000",
       "rows": [
        [
         "0",
         "BMG_MC000001",
         "Cellvibrio",
         "NCBI Taxonomy ID:10",
         null,
         null,
         null,
         null,
         null
        ],
        [
         "1",
         "BMG_MC000002",
         "Ancylobacter aquaticus",
         "NCBI Taxonomy ID:100",
         "SILVA ID:FJ572205 | SILVA ID:FJ572206 | SILVA ID:FJ572207 | SILVA ID:FJ572208 | SILVA ID:FJ572209 | SILVA ID:AB681795 | SILVA ID:M62790",
         "Greengenes ID:4419442 | Greengenes ID:758357 | Greengenes ID:699569 | Greengenes ID:4650 | Greengenes ID:636058 | Greengenes ID:631559 | Greengenes ID:541133",
         "RNAcentral ID:URS000001D3A2 | RNAcentral ID:URS0000056995 | RNAcentral ID:URS0000071FD2 | RNAcentral ID:URS0000134811 | RNAcentral ID:URS00001CEB60 | RNAcentral ID:URS0000292080 | RNAcentral ID:URS00004890C5",
         "GTDB ID:GB_GCA_003963445.1 | GTDB ID:RS_GCF_004339465.1",
         null
        ],
        [
         "2",
         "BMG_MC000003",
         "Herbaspirillum sp. BA12",
         "NCBI Taxonomy ID:100000",
         "SILVA ID:AF164051",
         "Greengenes ID:7308",
         "RNAcentral ID:URS00004A623C",
         null,
         null
        ],
        [
         "3",
         "BMG_MC000004",
         "Microbacterium sp. 6.11-VPa",
         "NCBI Taxonomy ID:1000000",
         null,
         null,
         null,
         null,
         null
        ],
        [
         "4",
         "BMG_MC000005",
         "Mycobacterium sp. 1.1-VEs",
         "NCBI Taxonomy ID:1000001",
         null,
         null,
         null,
         null,
         null
        ],
        [
         "5",
         "BMG_MC000006",
         "Mycobacterium sp. 1.12-VEs",
         "NCBI Taxonomy ID:1000002",
         null,
         null,
         null,
         null,
         null
        ],
        [
         "6",
         "BMG_MC000007",
         "Nocardia sp. 3.2-VPr",
         "NCBI Taxonomy ID:1000003",
         null,
         null,
         null,
         null,
         null
        ],
        [
         "7",
         "BMG_MC000008",
         "Polaromonas sp. 7.23-VPa",
         "NCBI Taxonomy ID:1000004",
         null,
         null,
         null,
         null,
         null
        ],
        [
         "8",
         "BMG_MC000009",
         "Promicromonospora sp. 10.25-Bb",
         "NCBI Taxonomy ID:1000005",
         null,
         null,
         null,
         null,
         null
        ],
        [
         "9",
         "BMG_MC000010",
         "Promicromonospora sp. 3.1- VPr",
         "NCBI Taxonomy ID:1000006",
         null,
         null,
         null,
         null,
         null
        ],
        [
         "10",
         "BMG_MC000011",
         "Pseudomonas sp. 10S-VPa",
         "NCBI Taxonomy ID:1000007",
         null,
         null,
         null,
         null,
         null
        ],
        [
         "11",
         "BMG_MC000012",
         "Pseudomonas sp. 5B-VPa",
         "NCBI Taxonomy ID:1000008",
         null,
         null,
         null,
         null,
         null
        ],
        [
         "12",
         "BMG_MC000013",
         "Pseudomonas sp. 5K-VPa",
         "NCBI Taxonomy ID:1000009",
         null,
         null,
         null,
         null,
         null
        ],
        [
         "13",
         "BMG_MC000014",
         "Herbaspirillum sp. BA14",
         "NCBI Taxonomy ID:100001",
         "SILVA ID:AF164052",
         "Greengenes ID:7309",
         "RNAcentral ID:URS00008A7B66",
         null,
         null
        ],
        [
         "14",
         "BMG_MC000015",
         "Pseudomonas sp. 5KS-VPa",
         "NCBI Taxonomy ID:1000010",
         null,
         null,
         null,
         null,
         null
        ],
        [
         "15",
         "BMG_MC000016",
         "Pseudomonas sp. 5KW-VPa",
         "NCBI Taxonomy ID:1000011",
         null,
         null,
         null,
         null,
         null
        ],
        [
         "16",
         "BMG_MC000017",
         "Pseudomonas sp. 5S-VPa",
         "NCBI Taxonomy ID:1000012",
         null,
         null,
         null,
         null,
         null
        ],
        [
         "17",
         "BMG_MC000018",
         "Pseudomonas sp. 5T-VPa",
         "NCBI Taxonomy ID:1000013",
         null,
         null,
         null,
         null,
         null
        ],
        [
         "18",
         "BMG_MC000019",
         "Pseudomonas sp. 6S-VPa",
         "NCBI Taxonomy ID:1000014",
         null,
         null,
         null,
         null,
         null
        ],
        [
         "19",
         "BMG_MC000020",
         "Rhodococcus sp. 1.15-VEs",
         "NCBI Taxonomy ID:1000015",
         null,
         null,
         null,
         null,
         null
        ],
        [
         "20",
         "BMG_MC000021",
         "Rhodococcus sp. 1.3-VEs",
         "NCBI Taxonomy ID:1000016",
         null,
         null,
         null,
         null,
         null
        ],
        [
         "21",
         "BMG_MC000022",
         "Rhodococcus sp. 3.3-VPr",
         "NCBI Taxonomy ID:1000017",
         null,
         null,
         null,
         null,
         null
        ],
        [
         "22",
         "BMG_MC000023",
         "Rhodococcus sp. 4.20-VOd",
         "NCBI Taxonomy ID:1000018",
         null,
         null,
         null,
         null,
         null
        ],
        [
         "23",
         "BMG_MC000024",
         "Rhodococcus sp. 4.20ST-VOd",
         "NCBI Taxonomy ID:1000019",
         null,
         null,
         null,
         null,
         null
        ],
        [
         "24",
         "BMG_MC000025",
         "Herbaspirillum sp. BA15",
         "NCBI Taxonomy ID:100002",
         "SILVA ID:AF164053",
         "Greengenes ID:7310",
         "RNAcentral ID:URS00002EBCF8",
         null,
         null
        ],
        [
         "25",
         "BMG_MC000026",
         "Sanguibacter sp. 1.16-VEs",
         "NCBI Taxonomy ID:1000020",
         null,
         null,
         null,
         null,
         null
        ],
        [
         "26",
         "BMG_MC000027",
         "Sanguibacter sp. 1.23-VEs",
         "NCBI Taxonomy ID:1000021",
         null,
         null,
         null,
         null,
         null
        ],
        [
         "27",
         "BMG_MC000028",
         "Sanguibacter sp. 1.23S-VEs",
         "NCBI Taxonomy ID:1000022",
         null,
         null,
         null,
         null,
         null
        ],
        [
         "28",
         "BMG_MC000029",
         "Comamonadaceae bacterium 12S-VPa",
         "NCBI Taxonomy ID:1000023",
         null,
         null,
         null,
         null,
         null
        ],
        [
         "29",
         "BMG_MC000030",
         "Intrasporangiaceae bacterium 7.31-VPa",
         "NCBI Taxonomy ID:1000024",
         null,
         null,
         null,
         null,
         null
        ],
        [
         "30",
         "BMG_MC000031",
         "Intrasporangiaceae bacterium 7.4-VPa",
         "NCBI Taxonomy ID:1000025",
         null,
         null,
         null,
         null,
         null
        ],
        [
         "31",
         "BMG_MC000032",
         "Micrococcineae bacterium 9.2-BP",
         "NCBI Taxonomy ID:1000026",
         null,
         null,
         null,
         null,
         null
        ],
        [
         "32",
         "BMG_MC000033",
         "alpha proteobacterium 6.6-VPa",
         "NCBI Taxonomy ID:1000027",
         null,
         null,
         null,
         null,
         null
        ],
        [
         "33",
         "BMG_MC000034",
         "Bacillus sp. enrichment culture clone w-181",
         "NCBI Taxonomy ID:1000028",
         "SILVA ID:HQ391902",
         "Greengenes ID:1113734",
         "RNAcentral ID:URS0000887D51",
         null,
         null
        ],
        [
         "34",
         "BMG_MC000035",
         "Pseudomonas sp. MBYD-1",
         "NCBI Taxonomy ID:1000029",
         "SILVA ID:HQ324140",
         "Greengenes ID:1113715",
         "RNAcentral ID:URS00005665C8",
         null,
         null
        ],
        [
         "35",
         "BMG_MC000036",
         "Herbaspirillum sp. BA16",
         "NCBI Taxonomy ID:100003",
         "SILVA ID:AF164054",
         "Greengenes ID:7311",
         "RNAcentral ID:URS000009EB14",
         null,
         null
        ],
        [
         "36",
         "BMG_MC000037",
         "Agrobacterium sp. G21-07",
         "NCBI Taxonomy ID:1000030",
         null,
         null,
         null,
         null,
         null
        ],
        [
         "37",
         "BMG_MC000038",
         "Agrobacterium sp. G21-09",
         "NCBI Taxonomy ID:1000031",
         null,
         null,
         null,
         null,
         null
        ],
        [
         "38",
         "BMG_MC000039",
         "Enterobacter sp. P19-19",
         "NCBI Taxonomy ID:1000032",
         null,
         null,
         null,
         null,
         null
        ],
        [
         "39",
         "BMG_MC000040",
         "Flavobacterium sp. G23-27",
         "NCBI Taxonomy ID:1000033",
         null,
         null,
         null,
         null,
         null
        ],
        [
         "40",
         "BMG_MC000041",
         "Erwinia sp. Koakin",
         "NCBI Taxonomy ID:1000034",
         null,
         null,
         null,
         null,
         null
        ],
        [
         "41",
         "BMG_MC000042",
         "Herbaspirillum sp. BA134",
         "NCBI Taxonomy ID:100004",
         null,
         null,
         null,
         null,
         null
        ],
        [
         "42",
         "BMG_MC000043",
         "Herbaspirillum sp. BA161",
         "NCBI Taxonomy ID:100005",
         "SILVA ID:AF164063",
         "Greengenes ID:7314",
         "RNAcentral ID:URS000023006F",
         null,
         null
        ],
        [
         "43",
         "BMG_MC000044",
         "Azospirillum sp. Ala",
         "NCBI Taxonomy ID:100006",
         null,
         null,
         null,
         null,
         null
        ],
        [
         "44",
         "BMG_MC000045",
         "Mycobacterium sp. C2-3",
         "NCBI Taxonomy ID:100007",
         "SILVA ID:AF165182",
         "Greengenes ID:13158",
         "RNAcentral ID:URS000028C3AB",
         null,
         null
        ],
        [
         "45",
         "BMG_MC000046",
         "Bartonella sp. RR13863PO",
         "NCBI Taxonomy ID:100012",
         null,
         null,
         null,
         null,
         null
        ],
        [
         "46",
         "BMG_MC000047",
         "Bartonella sp. MM5136CA",
         "NCBI Taxonomy ID:100013",
         null,
         null,
         null,
         null,
         null
        ],
        [
         "47",
         "BMG_MC000048",
         "diazotroph str. AB48",
         "NCBI Taxonomy ID:100014",
         "SILVA ID:AF164043",
         "Greengenes ID:69874",
         "RNAcentral ID:URS00000BE272",
         null,
         null
        ],
        [
         "48",
         "BMG_MC000049",
         "diazotroph str. AB71",
         "NCBI Taxonomy ID:100015",
         null,
         null,
         null,
         null,
         null
        ],
        [
         "49",
         "BMG_MC000050",
         "diazotroph str. AB117",
         "NCBI Taxonomy ID:100016",
         null,
         null,
         null,
         null,
         null
        ]
       ],
       "shape": {
        "columns": 8,
        "rows": 621882
       }
      },
      "text/html": [
       "<div>\n",
       "<style scoped>\n",
       "    .dataframe tbody tr th:only-of-type {\n",
       "        vertical-align: middle;\n",
       "    }\n",
       "\n",
       "    .dataframe tbody tr th {\n",
       "        vertical-align: top;\n",
       "    }\n",
       "\n",
       "    .dataframe thead th {\n",
       "        text-align: right;\n",
       "    }\n",
       "</style>\n",
       "<table border=\"1\" class=\"dataframe\">\n",
       "  <thead>\n",
       "    <tr style=\"text-align: right;\">\n",
       "      <th></th>\n",
       "      <th>BioMedGraphica_ID</th>\n",
       "      <th>NCBI_Taxonomy_Name</th>\n",
       "      <th>NCBI_Taxonomy_ID</th>\n",
       "      <th>SILVA_ID</th>\n",
       "      <th>Greengenes_ID</th>\n",
       "      <th>RNAcentral_ID</th>\n",
       "      <th>GTDB_ID</th>\n",
       "      <th>RDP_ID</th>\n",
       "    </tr>\n",
       "  </thead>\n",
       "  <tbody>\n",
       "    <tr>\n",
       "      <th>0</th>\n",
       "      <td>BMG_MC000001</td>\n",
       "      <td>Cellvibrio</td>\n",
       "      <td>NCBI Taxonomy ID:10</td>\n",
       "      <td>NaN</td>\n",
       "      <td>NaN</td>\n",
       "      <td>NaN</td>\n",
       "      <td>NaN</td>\n",
       "      <td>NaN</td>\n",
       "    </tr>\n",
       "    <tr>\n",
       "      <th>1</th>\n",
       "      <td>BMG_MC000002</td>\n",
       "      <td>Ancylobacter aquaticus</td>\n",
       "      <td>NCBI Taxonomy ID:100</td>\n",
       "      <td>SILVA ID:FJ572205 | SILVA ID:FJ572206 | SILVA ...</td>\n",
       "      <td>Greengenes ID:4419442 | Greengenes ID:758357 |...</td>\n",
       "      <td>RNAcentral ID:URS000001D3A2 | RNAcentral ID:UR...</td>\n",
       "      <td>GTDB ID:GB_GCA_003963445.1 | GTDB ID:RS_GCF_00...</td>\n",
       "      <td>NaN</td>\n",
       "    </tr>\n",
       "    <tr>\n",
       "      <th>2</th>\n",
       "      <td>BMG_MC000003</td>\n",
       "      <td>Herbaspirillum sp. BA12</td>\n",
       "      <td>NCBI Taxonomy ID:100000</td>\n",
       "      <td>SILVA ID:AF164051</td>\n",
       "      <td>Greengenes ID:7308</td>\n",
       "      <td>RNAcentral ID:URS00004A623C</td>\n",
       "      <td>NaN</td>\n",
       "      <td>NaN</td>\n",
       "    </tr>\n",
       "    <tr>\n",
       "      <th>3</th>\n",
       "      <td>BMG_MC000004</td>\n",
       "      <td>Microbacterium sp. 6.11-VPa</td>\n",
       "      <td>NCBI Taxonomy ID:1000000</td>\n",
       "      <td>NaN</td>\n",
       "      <td>NaN</td>\n",
       "      <td>NaN</td>\n",
       "      <td>NaN</td>\n",
       "      <td>NaN</td>\n",
       "    </tr>\n",
       "    <tr>\n",
       "      <th>4</th>\n",
       "      <td>BMG_MC000005</td>\n",
       "      <td>Mycobacterium sp. 1.1-VEs</td>\n",
       "      <td>NCBI Taxonomy ID:1000001</td>\n",
       "      <td>NaN</td>\n",
       "      <td>NaN</td>\n",
       "      <td>NaN</td>\n",
       "      <td>NaN</td>\n",
       "      <td>NaN</td>\n",
       "    </tr>\n",
       "    <tr>\n",
       "      <th>...</th>\n",
       "      <td>...</td>\n",
       "      <td>...</td>\n",
       "      <td>...</td>\n",
       "      <td>...</td>\n",
       "      <td>...</td>\n",
       "      <td>...</td>\n",
       "      <td>...</td>\n",
       "      <td>...</td>\n",
       "    </tr>\n",
       "    <tr>\n",
       "      <th>621877</th>\n",
       "      <td>BMG_MC621878</td>\n",
       "      <td>Arthrobacter sp. 8.25ST-VSa</td>\n",
       "      <td>NCBI Taxonomy ID:999995</td>\n",
       "      <td>NaN</td>\n",
       "      <td>NaN</td>\n",
       "      <td>NaN</td>\n",
       "      <td>NaN</td>\n",
       "      <td>NaN</td>\n",
       "    </tr>\n",
       "    <tr>\n",
       "      <th>621878</th>\n",
       "      <td>BMG_MC621879</td>\n",
       "      <td>Arthrobacter sp. 9.22-BP</td>\n",
       "      <td>NCBI Taxonomy ID:999996</td>\n",
       "      <td>NaN</td>\n",
       "      <td>NaN</td>\n",
       "      <td>NaN</td>\n",
       "      <td>NaN</td>\n",
       "      <td>NaN</td>\n",
       "    </tr>\n",
       "    <tr>\n",
       "      <th>621879</th>\n",
       "      <td>BMG_MC621880</td>\n",
       "      <td>Arthrobacter sp. 9.29ST-BP</td>\n",
       "      <td>NCBI Taxonomy ID:999997</td>\n",
       "      <td>NaN</td>\n",
       "      <td>NaN</td>\n",
       "      <td>NaN</td>\n",
       "      <td>NaN</td>\n",
       "      <td>NaN</td>\n",
       "    </tr>\n",
       "    <tr>\n",
       "      <th>621880</th>\n",
       "      <td>BMG_MC621881</td>\n",
       "      <td>Clavibacter sp. 10.27ST-Bb</td>\n",
       "      <td>NCBI Taxonomy ID:999998</td>\n",
       "      <td>NaN</td>\n",
       "      <td>NaN</td>\n",
       "      <td>NaN</td>\n",
       "      <td>NaN</td>\n",
       "      <td>NaN</td>\n",
       "    </tr>\n",
       "    <tr>\n",
       "      <th>621881</th>\n",
       "      <td>BMG_MC621882</td>\n",
       "      <td>Leifsonia sp. 1.5-VEs</td>\n",
       "      <td>NCBI Taxonomy ID:999999</td>\n",
       "      <td>NaN</td>\n",
       "      <td>NaN</td>\n",
       "      <td>NaN</td>\n",
       "      <td>NaN</td>\n",
       "      <td>NaN</td>\n",
       "    </tr>\n",
       "  </tbody>\n",
       "</table>\n",
       "<p>621882 rows × 8 columns</p>\n",
       "</div>"
      ],
      "text/plain": [
       "       BioMedGraphica_ID           NCBI_Taxonomy_Name  \\\n",
       "0           BMG_MC000001                   Cellvibrio   \n",
       "1           BMG_MC000002       Ancylobacter aquaticus   \n",
       "2           BMG_MC000003      Herbaspirillum sp. BA12   \n",
       "3           BMG_MC000004  Microbacterium sp. 6.11-VPa   \n",
       "4           BMG_MC000005    Mycobacterium sp. 1.1-VEs   \n",
       "...                  ...                          ...   \n",
       "621877      BMG_MC621878  Arthrobacter sp. 8.25ST-VSa   \n",
       "621878      BMG_MC621879     Arthrobacter sp. 9.22-BP   \n",
       "621879      BMG_MC621880   Arthrobacter sp. 9.29ST-BP   \n",
       "621880      BMG_MC621881   Clavibacter sp. 10.27ST-Bb   \n",
       "621881      BMG_MC621882        Leifsonia sp. 1.5-VEs   \n",
       "\n",
       "                NCBI_Taxonomy_ID  \\\n",
       "0            NCBI Taxonomy ID:10   \n",
       "1           NCBI Taxonomy ID:100   \n",
       "2        NCBI Taxonomy ID:100000   \n",
       "3       NCBI Taxonomy ID:1000000   \n",
       "4       NCBI Taxonomy ID:1000001   \n",
       "...                          ...   \n",
       "621877   NCBI Taxonomy ID:999995   \n",
       "621878   NCBI Taxonomy ID:999996   \n",
       "621879   NCBI Taxonomy ID:999997   \n",
       "621880   NCBI Taxonomy ID:999998   \n",
       "621881   NCBI Taxonomy ID:999999   \n",
       "\n",
       "                                                 SILVA_ID  \\\n",
       "0                                                     NaN   \n",
       "1       SILVA ID:FJ572205 | SILVA ID:FJ572206 | SILVA ...   \n",
       "2                                       SILVA ID:AF164051   \n",
       "3                                                     NaN   \n",
       "4                                                     NaN   \n",
       "...                                                   ...   \n",
       "621877                                                NaN   \n",
       "621878                                                NaN   \n",
       "621879                                                NaN   \n",
       "621880                                                NaN   \n",
       "621881                                                NaN   \n",
       "\n",
       "                                            Greengenes_ID  \\\n",
       "0                                                     NaN   \n",
       "1       Greengenes ID:4419442 | Greengenes ID:758357 |...   \n",
       "2                                      Greengenes ID:7308   \n",
       "3                                                     NaN   \n",
       "4                                                     NaN   \n",
       "...                                                   ...   \n",
       "621877                                                NaN   \n",
       "621878                                                NaN   \n",
       "621879                                                NaN   \n",
       "621880                                                NaN   \n",
       "621881                                                NaN   \n",
       "\n",
       "                                            RNAcentral_ID  \\\n",
       "0                                                     NaN   \n",
       "1       RNAcentral ID:URS000001D3A2 | RNAcentral ID:UR...   \n",
       "2                             RNAcentral ID:URS00004A623C   \n",
       "3                                                     NaN   \n",
       "4                                                     NaN   \n",
       "...                                                   ...   \n",
       "621877                                                NaN   \n",
       "621878                                                NaN   \n",
       "621879                                                NaN   \n",
       "621880                                                NaN   \n",
       "621881                                                NaN   \n",
       "\n",
       "                                                  GTDB_ID RDP_ID  \n",
       "0                                                     NaN    NaN  \n",
       "1       GTDB ID:GB_GCA_003963445.1 | GTDB ID:RS_GCF_00...    NaN  \n",
       "2                                                     NaN    NaN  \n",
       "3                                                     NaN    NaN  \n",
       "4                                                     NaN    NaN  \n",
       "...                                                   ...    ...  \n",
       "621877                                                NaN    NaN  \n",
       "621878                                                NaN    NaN  \n",
       "621879                                                NaN    NaN  \n",
       "621880                                                NaN    NaN  \n",
       "621881                                                NaN    NaN  \n",
       "\n",
       "[621882 rows x 8 columns]"
      ]
     },
     "execution_count": 4,
     "metadata": {},
     "output_type": "execute_result"
    }
   ],
   "source": [
    "llm_name_id = biomedgraphica_microbiota.copy()\n",
    "\n",
    "llm_name_id['NCBI_Taxonomy_ID'] = llm_name_id['NCBI_Taxonomy_ID'].apply(\n",
    "    lambda x: ' | '.join(f\"NCBI Taxonomy ID:{id}\" for id in x.split(';')) if pd.notna(x) and x != '' else x\n",
    ")\n",
    "\n",
    "llm_name_id['SILVA_ID'] = llm_name_id['SILVA_ID'].apply(\n",
    "    lambda x: ' | '.join(f\"SILVA ID:{id}\" for id in x.split(';')) if pd.notna(x) and x != '' else x\n",
    ")\n",
    "\n",
    "llm_name_id['Greengenes_ID'] = llm_name_id['Greengenes_ID'].apply(\n",
    "    lambda x: ' | '.join(f\"Greengenes ID:{id}\" for id in x.split(';')) if pd.notna(x) and x != '' else x\n",
    ")\n",
    "\n",
    "llm_name_id['RDP_ID'] = llm_name_id['RDP_ID'].apply(\n",
    "    lambda x: ' | '.join(f\"RDP ID:{id}\" for id in x.split(';')) if pd.notna(x) and x != '' else x\n",
    ")\n",
    "\n",
    "llm_name_id['RNAcentral_ID'] = llm_name_id['RNAcentral_ID'].apply(\n",
    "    lambda x: ' | '.join(f\"RNAcentral ID:{id}\" for id in x.split(';')) if pd.notna(x) and x != '' else x\n",
    ")\n",
    "\n",
    "llm_name_id['GTDB_ID'] = llm_name_id['GTDB_ID'].apply(\n",
    "    lambda x: ' | '.join(f\"GTDB ID:{id}\" for id in x.split(';')) if pd.notna(x) and x != '' else x\n",
    ")\n",
    "\n",
    "columns = ['BioMedGraphica_ID', 'NCBI_Taxonomy_Name', 'NCBI_Taxonomy_ID', 'SILVA_ID', 'Greengenes_ID', 'RNAcentral_ID', 'GTDB_ID', 'RDP_ID']\n",
    "llm_name_id = llm_name_id[columns]\n",
    "llm_name_id"
   ]
  },
  {
   "cell_type": "code",
   "execution_count": 5,
   "metadata": {},
   "outputs": [
    {
     "name": "stdout",
     "output_type": "stream",
     "text": [
      "Data has been saved to D:\\RA\\BMG\\BioMedGraphica\\Entity\\Microbiota\\BioMedGraphica_Microbiota_LLM_Name_ID.csv\n"
     ]
    }
   ],
   "source": [
    "import os\n",
    "from pathlib import Path\n",
    "\n",
    "# get the current working directory\n",
    "current_working_dir = Path(os.getcwd()).resolve()\n",
    "\n",
    "# get the output directory\n",
    "grandparent_dir = current_working_dir.parent.parent.parent\n",
    "\n",
    "target_folder = grandparent_dir / 'BioMedGraphica' / 'Entity' / 'Microbiota'\n",
    "if not target_folder.exists():\n",
    "    target_folder.mkdir(parents=True)\n",
    "    print(f\"Folder {target_folder} has been created.\")\n",
    "\n",
    "output_file_path = target_folder / 'BioMedGraphica_Microbiota_LLM_Name_ID.csv'\n",
    "llm_name_id.to_csv(output_file_path, index=False)\n",
    "print(f\"Data has been saved to {output_file_path}\")"
   ]
  },
  {
   "cell_type": "markdown",
   "metadata": {},
   "source": [
    "LLM Name and ID Combined"
   ]
  },
  {
   "cell_type": "code",
   "execution_count": 6,
   "metadata": {},
   "outputs": [
    {
     "data": {
      "application/vnd.microsoft.datawrangler.viewer.v0+json": {
       "columns": [
        {
         "name": "index",
         "rawType": "int64",
         "type": "integer"
        },
        {
         "name": "BioMedGraphica_ID",
         "rawType": "object",
         "type": "string"
        },
        {
         "name": "Names_and_IDs",
         "rawType": "object",
         "type": "string"
        }
       ],
       "conversionMethod": "pd.DataFrame",
       "ref": "964ffd71-51d4-4a1d-a4cc-e7dac2516a32",
       "rows": [
        [
         "0",
         "BMG_MC000001",
         "Cellvibrio | NCBI Taxonomy ID:10"
        ],
        [
         "1",
         "BMG_MC000002",
         "Ancylobacter aquaticus | SILVA ID:FJ572207 | SILVA ID:FJ572208 | Greengenes ID:636058 | SILVA ID:FJ572209 | RNAcentral ID:URS000001D3A2 | Greengenes ID:4419442 | RNAcentral ID:URS0000056995 | Greengenes ID:758357 | SILVA ID:AB681795 | RNAcentral ID:URS0000071FD2 | RNAcentral ID:URS00001CEB60 | SILVA ID:FJ572206 | RNAcentral ID:URS00004890C5 | Greengenes ID:631559 | SILVA ID:FJ572205 | NCBI Taxonomy ID:100 | Greengenes ID:699569 | Greengenes ID:541133 | SILVA ID:M62790 | RNAcentral ID:URS0000134811 | GTDB ID:RS_GCF_004339465.1 | RNAcentral ID:URS0000292080 | GTDB ID:GB_GCA_003963445.1 | Greengenes ID:4650"
        ],
        [
         "2",
         "BMG_MC000003",
         "RNAcentral ID:URS00004A623C | SILVA ID:AF164051 | Greengenes ID:7308 | Herbaspirillum sp. BA12 | NCBI Taxonomy ID:100000"
        ],
        [
         "3",
         "BMG_MC000004",
         "NCBI Taxonomy ID:1000000 | Microbacterium sp. 6.11-VPa"
        ],
        [
         "4",
         "BMG_MC000005",
         "NCBI Taxonomy ID:1000001 | Mycobacterium sp. 1.1-VEs"
        ],
        [
         "5",
         "BMG_MC000006",
         "Mycobacterium sp. 1.12-VEs | NCBI Taxonomy ID:1000002"
        ],
        [
         "6",
         "BMG_MC000007",
         "NCBI Taxonomy ID:1000003 | Nocardia sp. 3.2-VPr"
        ],
        [
         "7",
         "BMG_MC000008",
         "Polaromonas sp. 7.23-VPa | NCBI Taxonomy ID:1000004"
        ],
        [
         "8",
         "BMG_MC000009",
         "NCBI Taxonomy ID:1000005 | Promicromonospora sp. 10.25-Bb"
        ],
        [
         "9",
         "BMG_MC000010",
         "NCBI Taxonomy ID:1000006 | Promicromonospora sp. 3.1- VPr"
        ],
        [
         "10",
         "BMG_MC000011",
         "NCBI Taxonomy ID:1000007 | Pseudomonas sp. 10S-VPa"
        ],
        [
         "11",
         "BMG_MC000012",
         "NCBI Taxonomy ID:1000008 | Pseudomonas sp. 5B-VPa"
        ],
        [
         "12",
         "BMG_MC000013",
         "NCBI Taxonomy ID:1000009 | Pseudomonas sp. 5K-VPa"
        ],
        [
         "13",
         "BMG_MC000014",
         "RNAcentral ID:URS00008A7B66 | SILVA ID:AF164052 | NCBI Taxonomy ID:100001 | Greengenes ID:7309 | Herbaspirillum sp. BA14"
        ],
        [
         "14",
         "BMG_MC000015",
         "Pseudomonas sp. 5KS-VPa | NCBI Taxonomy ID:1000010"
        ],
        [
         "15",
         "BMG_MC000016",
         "NCBI Taxonomy ID:1000011 | Pseudomonas sp. 5KW-VPa"
        ],
        [
         "16",
         "BMG_MC000017",
         "Pseudomonas sp. 5S-VPa | NCBI Taxonomy ID:1000012"
        ],
        [
         "17",
         "BMG_MC000018",
         "NCBI Taxonomy ID:1000013 | Pseudomonas sp. 5T-VPa"
        ],
        [
         "18",
         "BMG_MC000019",
         "Pseudomonas sp. 6S-VPa | NCBI Taxonomy ID:1000014"
        ],
        [
         "19",
         "BMG_MC000020",
         "Rhodococcus sp. 1.15-VEs | NCBI Taxonomy ID:1000015"
        ],
        [
         "20",
         "BMG_MC000021",
         "NCBI Taxonomy ID:1000016 | Rhodococcus sp. 1.3-VEs"
        ],
        [
         "21",
         "BMG_MC000022",
         "Rhodococcus sp. 3.3-VPr | NCBI Taxonomy ID:1000017"
        ],
        [
         "22",
         "BMG_MC000023",
         "NCBI Taxonomy ID:1000018 | Rhodococcus sp. 4.20-VOd"
        ],
        [
         "23",
         "BMG_MC000024",
         "Rhodococcus sp. 4.20ST-VOd | NCBI Taxonomy ID:1000019"
        ],
        [
         "24",
         "BMG_MC000025",
         "SILVA ID:AF164053 | RNAcentral ID:URS00002EBCF8 | NCBI Taxonomy ID:100002 | Greengenes ID:7310 | Herbaspirillum sp. BA15"
        ],
        [
         "25",
         "BMG_MC000026",
         "Sanguibacter sp. 1.16-VEs | NCBI Taxonomy ID:1000020"
        ],
        [
         "26",
         "BMG_MC000027",
         "NCBI Taxonomy ID:1000021 | Sanguibacter sp. 1.23-VEs"
        ],
        [
         "27",
         "BMG_MC000028",
         "Sanguibacter sp. 1.23S-VEs | NCBI Taxonomy ID:1000022"
        ],
        [
         "28",
         "BMG_MC000029",
         "Comamonadaceae bacterium 12S-VPa | NCBI Taxonomy ID:1000023"
        ],
        [
         "29",
         "BMG_MC000030",
         "NCBI Taxonomy ID:1000024 | Intrasporangiaceae bacterium 7.31-VPa"
        ],
        [
         "30",
         "BMG_MC000031",
         "NCBI Taxonomy ID:1000025 | Intrasporangiaceae bacterium 7.4-VPa"
        ],
        [
         "31",
         "BMG_MC000032",
         "Micrococcineae bacterium 9.2-BP | NCBI Taxonomy ID:1000026"
        ],
        [
         "32",
         "BMG_MC000033",
         "alpha proteobacterium 6.6-VPa | NCBI Taxonomy ID:1000027"
        ],
        [
         "33",
         "BMG_MC000034",
         "RNAcentral ID:URS0000887D51 | NCBI Taxonomy ID:1000028 | Bacillus sp. enrichment culture clone w-181 | Greengenes ID:1113734 | SILVA ID:HQ391902"
        ],
        [
         "34",
         "BMG_MC000035",
         "NCBI Taxonomy ID:1000029 | Greengenes ID:1113715 | SILVA ID:HQ324140 | Pseudomonas sp. MBYD-1 | RNAcentral ID:URS00005665C8"
        ],
        [
         "35",
         "BMG_MC000036",
         "NCBI Taxonomy ID:100003 | SILVA ID:AF164054 | RNAcentral ID:URS000009EB14 | Greengenes ID:7311 | Herbaspirillum sp. BA16"
        ],
        [
         "36",
         "BMG_MC000037",
         "Agrobacterium sp. G21-07 | NCBI Taxonomy ID:1000030"
        ],
        [
         "37",
         "BMG_MC000038",
         "Agrobacterium sp. G21-09 | NCBI Taxonomy ID:1000031"
        ],
        [
         "38",
         "BMG_MC000039",
         "Enterobacter sp. P19-19 | NCBI Taxonomy ID:1000032"
        ],
        [
         "39",
         "BMG_MC000040",
         "Flavobacterium sp. G23-27 | NCBI Taxonomy ID:1000033"
        ],
        [
         "40",
         "BMG_MC000041",
         "Erwinia sp. Koakin | NCBI Taxonomy ID:1000034"
        ],
        [
         "41",
         "BMG_MC000042",
         "NCBI Taxonomy ID:100004 | Herbaspirillum sp. BA134"
        ],
        [
         "42",
         "BMG_MC000043",
         "Herbaspirillum sp. BA161 | SILVA ID:AF164063 | RNAcentral ID:URS000023006F | NCBI Taxonomy ID:100005 | Greengenes ID:7314"
        ],
        [
         "43",
         "BMG_MC000044",
         "Azospirillum sp. Ala | NCBI Taxonomy ID:100006"
        ],
        [
         "44",
         "BMG_MC000045",
         "Mycobacterium sp. C2-3 | SILVA ID:AF165182 | Greengenes ID:13158 | NCBI Taxonomy ID:100007 | RNAcentral ID:URS000028C3AB"
        ],
        [
         "45",
         "BMG_MC000046",
         "Bartonella sp. RR13863PO | NCBI Taxonomy ID:100012"
        ],
        [
         "46",
         "BMG_MC000047",
         "Bartonella sp. MM5136CA | NCBI Taxonomy ID:100013"
        ],
        [
         "47",
         "BMG_MC000048",
         "Greengenes ID:69874 | diazotroph str. AB48 | NCBI Taxonomy ID:100014 | RNAcentral ID:URS00000BE272 | SILVA ID:AF164043"
        ],
        [
         "48",
         "BMG_MC000049",
         "NCBI Taxonomy ID:100015 | diazotroph str. AB71"
        ],
        [
         "49",
         "BMG_MC000050",
         "NCBI Taxonomy ID:100016 | diazotroph str. AB117"
        ]
       ],
       "shape": {
        "columns": 2,
        "rows": 621882
       }
      },
      "text/html": [
       "<div>\n",
       "<style scoped>\n",
       "    .dataframe tbody tr th:only-of-type {\n",
       "        vertical-align: middle;\n",
       "    }\n",
       "\n",
       "    .dataframe tbody tr th {\n",
       "        vertical-align: top;\n",
       "    }\n",
       "\n",
       "    .dataframe thead th {\n",
       "        text-align: right;\n",
       "    }\n",
       "</style>\n",
       "<table border=\"1\" class=\"dataframe\">\n",
       "  <thead>\n",
       "    <tr style=\"text-align: right;\">\n",
       "      <th></th>\n",
       "      <th>BioMedGraphica_ID</th>\n",
       "      <th>Names_and_IDs</th>\n",
       "    </tr>\n",
       "  </thead>\n",
       "  <tbody>\n",
       "    <tr>\n",
       "      <th>0</th>\n",
       "      <td>BMG_MC000001</td>\n",
       "      <td>Cellvibrio | NCBI Taxonomy ID:10</td>\n",
       "    </tr>\n",
       "    <tr>\n",
       "      <th>1</th>\n",
       "      <td>BMG_MC000002</td>\n",
       "      <td>Ancylobacter aquaticus | SILVA ID:FJ572207 | S...</td>\n",
       "    </tr>\n",
       "    <tr>\n",
       "      <th>2</th>\n",
       "      <td>BMG_MC000003</td>\n",
       "      <td>RNAcentral ID:URS00004A623C | SILVA ID:AF16405...</td>\n",
       "    </tr>\n",
       "    <tr>\n",
       "      <th>3</th>\n",
       "      <td>BMG_MC000004</td>\n",
       "      <td>NCBI Taxonomy ID:1000000 | Microbacterium sp. ...</td>\n",
       "    </tr>\n",
       "    <tr>\n",
       "      <th>4</th>\n",
       "      <td>BMG_MC000005</td>\n",
       "      <td>NCBI Taxonomy ID:1000001 | Mycobacterium sp. 1...</td>\n",
       "    </tr>\n",
       "    <tr>\n",
       "      <th>...</th>\n",
       "      <td>...</td>\n",
       "      <td>...</td>\n",
       "    </tr>\n",
       "    <tr>\n",
       "      <th>621877</th>\n",
       "      <td>BMG_MC621878</td>\n",
       "      <td>NCBI Taxonomy ID:999995 | Arthrobacter sp. 8.2...</td>\n",
       "    </tr>\n",
       "    <tr>\n",
       "      <th>621878</th>\n",
       "      <td>BMG_MC621879</td>\n",
       "      <td>NCBI Taxonomy ID:999996 | Arthrobacter sp. 9.2...</td>\n",
       "    </tr>\n",
       "    <tr>\n",
       "      <th>621879</th>\n",
       "      <td>BMG_MC621880</td>\n",
       "      <td>Arthrobacter sp. 9.29ST-BP | NCBI Taxonomy ID:...</td>\n",
       "    </tr>\n",
       "    <tr>\n",
       "      <th>621880</th>\n",
       "      <td>BMG_MC621881</td>\n",
       "      <td>NCBI Taxonomy ID:999998 | Clavibacter sp. 10.2...</td>\n",
       "    </tr>\n",
       "    <tr>\n",
       "      <th>621881</th>\n",
       "      <td>BMG_MC621882</td>\n",
       "      <td>NCBI Taxonomy ID:999999 | Leifsonia sp. 1.5-VEs</td>\n",
       "    </tr>\n",
       "  </tbody>\n",
       "</table>\n",
       "<p>621882 rows × 2 columns</p>\n",
       "</div>"
      ],
      "text/plain": [
       "       BioMedGraphica_ID                                      Names_and_IDs\n",
       "0           BMG_MC000001                   Cellvibrio | NCBI Taxonomy ID:10\n",
       "1           BMG_MC000002  Ancylobacter aquaticus | SILVA ID:FJ572207 | S...\n",
       "2           BMG_MC000003  RNAcentral ID:URS00004A623C | SILVA ID:AF16405...\n",
       "3           BMG_MC000004  NCBI Taxonomy ID:1000000 | Microbacterium sp. ...\n",
       "4           BMG_MC000005  NCBI Taxonomy ID:1000001 | Mycobacterium sp. 1...\n",
       "...                  ...                                                ...\n",
       "621877      BMG_MC621878  NCBI Taxonomy ID:999995 | Arthrobacter sp. 8.2...\n",
       "621878      BMG_MC621879  NCBI Taxonomy ID:999996 | Arthrobacter sp. 9.2...\n",
       "621879      BMG_MC621880  Arthrobacter sp. 9.29ST-BP | NCBI Taxonomy ID:...\n",
       "621880      BMG_MC621881  NCBI Taxonomy ID:999998 | Clavibacter sp. 10.2...\n",
       "621881      BMG_MC621882    NCBI Taxonomy ID:999999 | Leifsonia sp. 1.5-VEs\n",
       "\n",
       "[621882 rows x 2 columns]"
      ]
     },
     "execution_count": 6,
     "metadata": {},
     "output_type": "execute_result"
    }
   ],
   "source": [
    "llm_combined = llm_name_id.copy()\n",
    "\n",
    "def merge_string_columns(df, columns, merge_name, separator=' | '):\n",
    "    def merge_strings(row):\n",
    "        combined = set()\n",
    "        for column in columns:\n",
    "            if pd.notnull(row[column]):\n",
    "                combined.update(row[column].split(separator))\n",
    "        return separator.join(combined)\n",
    "    \n",
    "    # Apply the function to each row and create a new column\n",
    "    combined_column_name = merge_name\n",
    "    df[combined_column_name] = df.apply(merge_strings, axis=1)\n",
    "    df.drop(columns=columns, inplace=True)\n",
    "    \n",
    "    return df\n",
    "\n",
    "llm_combined = merge_string_columns(llm_combined, llm_combined.columns[llm_combined.columns != 'BioMedGraphica_ID'], 'Names_and_IDs')\n",
    "llm_combined"
   ]
  },
  {
   "cell_type": "code",
   "execution_count": 7,
   "metadata": {},
   "outputs": [
    {
     "name": "stdout",
     "output_type": "stream",
     "text": [
      "Data has been saved to D:\\RA\\BMG\\BioMedGraphica\\Entity\\Microbiota\\BioMedGraphica_Microbiota_LLM_Name_ID_Combined.csv\n"
     ]
    }
   ],
   "source": [
    "import os\n",
    "from pathlib import Path\n",
    "\n",
    "# get the current working directory\n",
    "current_working_dir = Path(os.getcwd()).resolve()\n",
    "\n",
    "# get the output directory\n",
    "grandparent_dir = current_working_dir.parent.parent.parent\n",
    "\n",
    "target_folder = grandparent_dir / 'BioMedGraphica' / 'Entity' / 'Microbiota'\n",
    "if not target_folder.exists():\n",
    "    target_folder.mkdir(parents=True)\n",
    "    print(f\"Folder {target_folder} has been created.\")\n",
    "\n",
    "output_file_path = target_folder / 'BioMedGraphica_Microbiota_LLM_Name_ID_Combined.csv'\n",
    "llm_combined.to_csv(output_file_path, index=False)\n",
    "print(f\"Data has been saved to {output_file_path}\")"
   ]
  },
  {
   "cell_type": "markdown",
   "metadata": {},
   "source": [
    "Display Name"
   ]
  },
  {
   "cell_type": "code",
   "execution_count": 8,
   "metadata": {},
   "outputs": [
    {
     "data": {
      "application/vnd.microsoft.datawrangler.viewer.v0+json": {
       "columns": [
        {
         "name": "index",
         "rawType": "int64",
         "type": "integer"
        },
        {
         "name": "BioMedGraphica_ID",
         "rawType": "object",
         "type": "string"
        },
        {
         "name": "BMG_Microbiota_Name",
         "rawType": "object",
         "type": "unknown"
        }
       ],
       "conversionMethod": "pd.DataFrame",
       "ref": "c1034e3b-68fd-458b-9b74-2e9ee6b36950",
       "rows": [
        [
         "0",
         "BMG_MC000001",
         "Cellvibrio"
        ],
        [
         "1",
         "BMG_MC000002",
         "Ancylobacter aquaticus"
        ],
        [
         "2",
         "BMG_MC000003",
         "Herbaspirillum sp. BA12"
        ],
        [
         "3",
         "BMG_MC000004",
         "Microbacterium sp. 6.11-VPa"
        ],
        [
         "4",
         "BMG_MC000005",
         "Mycobacterium sp. 1.1-VEs"
        ],
        [
         "5",
         "BMG_MC000006",
         "Mycobacterium sp. 1.12-VEs"
        ],
        [
         "6",
         "BMG_MC000007",
         "Nocardia sp. 3.2-VPr"
        ],
        [
         "7",
         "BMG_MC000008",
         "Polaromonas sp. 7.23-VPa"
        ],
        [
         "8",
         "BMG_MC000009",
         "Promicromonospora sp. 10.25-Bb"
        ],
        [
         "9",
         "BMG_MC000010",
         "Promicromonospora sp. 3.1- VPr"
        ],
        [
         "10",
         "BMG_MC000011",
         "Pseudomonas sp. 10S-VPa"
        ],
        [
         "11",
         "BMG_MC000012",
         "Pseudomonas sp. 5B-VPa"
        ],
        [
         "12",
         "BMG_MC000013",
         "Pseudomonas sp. 5K-VPa"
        ],
        [
         "13",
         "BMG_MC000014",
         "Herbaspirillum sp. BA14"
        ],
        [
         "14",
         "BMG_MC000015",
         "Pseudomonas sp. 5KS-VPa"
        ],
        [
         "15",
         "BMG_MC000016",
         "Pseudomonas sp. 5KW-VPa"
        ],
        [
         "16",
         "BMG_MC000017",
         "Pseudomonas sp. 5S-VPa"
        ],
        [
         "17",
         "BMG_MC000018",
         "Pseudomonas sp. 5T-VPa"
        ],
        [
         "18",
         "BMG_MC000019",
         "Pseudomonas sp. 6S-VPa"
        ],
        [
         "19",
         "BMG_MC000020",
         "Rhodococcus sp. 1.15-VEs"
        ],
        [
         "20",
         "BMG_MC000021",
         "Rhodococcus sp. 1.3-VEs"
        ],
        [
         "21",
         "BMG_MC000022",
         "Rhodococcus sp. 3.3-VPr"
        ],
        [
         "22",
         "BMG_MC000023",
         "Rhodococcus sp. 4.20-VOd"
        ],
        [
         "23",
         "BMG_MC000024",
         "Rhodococcus sp. 4.20ST-VOd"
        ],
        [
         "24",
         "BMG_MC000025",
         "Herbaspirillum sp. BA15"
        ],
        [
         "25",
         "BMG_MC000026",
         "Sanguibacter sp. 1.16-VEs"
        ],
        [
         "26",
         "BMG_MC000027",
         "Sanguibacter sp. 1.23-VEs"
        ],
        [
         "27",
         "BMG_MC000028",
         "Sanguibacter sp. 1.23S-VEs"
        ],
        [
         "28",
         "BMG_MC000029",
         "Comamonadaceae bacterium 12S-VPa"
        ],
        [
         "29",
         "BMG_MC000030",
         "Intrasporangiaceae bacterium 7.31-VPa"
        ],
        [
         "30",
         "BMG_MC000031",
         "Intrasporangiaceae bacterium 7.4-VPa"
        ],
        [
         "31",
         "BMG_MC000032",
         "Micrococcineae bacterium 9.2-BP"
        ],
        [
         "32",
         "BMG_MC000033",
         "alpha proteobacterium 6.6-VPa"
        ],
        [
         "33",
         "BMG_MC000034",
         "Bacillus sp. enrichment culture clone w-181"
        ],
        [
         "34",
         "BMG_MC000035",
         "Pseudomonas sp. MBYD-1"
        ],
        [
         "35",
         "BMG_MC000036",
         "Herbaspirillum sp. BA16"
        ],
        [
         "36",
         "BMG_MC000037",
         "Agrobacterium sp. G21-07"
        ],
        [
         "37",
         "BMG_MC000038",
         "Agrobacterium sp. G21-09"
        ],
        [
         "38",
         "BMG_MC000039",
         "Enterobacter sp. P19-19"
        ],
        [
         "39",
         "BMG_MC000040",
         "Flavobacterium sp. G23-27"
        ],
        [
         "40",
         "BMG_MC000041",
         "Erwinia sp. Koakin"
        ],
        [
         "41",
         "BMG_MC000042",
         "Herbaspirillum sp. BA134"
        ],
        [
         "42",
         "BMG_MC000043",
         "Herbaspirillum sp. BA161"
        ],
        [
         "43",
         "BMG_MC000044",
         "Azospirillum sp. Ala"
        ],
        [
         "44",
         "BMG_MC000045",
         "Mycobacterium sp. C2-3"
        ],
        [
         "45",
         "BMG_MC000046",
         "Bartonella sp. RR13863PO"
        ],
        [
         "46",
         "BMG_MC000047",
         "Bartonella sp. MM5136CA"
        ],
        [
         "47",
         "BMG_MC000048",
         "diazotroph str. AB48"
        ],
        [
         "48",
         "BMG_MC000049",
         "diazotroph str. AB71"
        ],
        [
         "49",
         "BMG_MC000050",
         "diazotroph str. AB117"
        ]
       ],
       "shape": {
        "columns": 2,
        "rows": 621882
       }
      },
      "text/html": [
       "<div>\n",
       "<style scoped>\n",
       "    .dataframe tbody tr th:only-of-type {\n",
       "        vertical-align: middle;\n",
       "    }\n",
       "\n",
       "    .dataframe tbody tr th {\n",
       "        vertical-align: top;\n",
       "    }\n",
       "\n",
       "    .dataframe thead th {\n",
       "        text-align: right;\n",
       "    }\n",
       "</style>\n",
       "<table border=\"1\" class=\"dataframe\">\n",
       "  <thead>\n",
       "    <tr style=\"text-align: right;\">\n",
       "      <th></th>\n",
       "      <th>BioMedGraphica_ID</th>\n",
       "      <th>BMG_Microbiota_Name</th>\n",
       "    </tr>\n",
       "  </thead>\n",
       "  <tbody>\n",
       "    <tr>\n",
       "      <th>0</th>\n",
       "      <td>BMG_MC000001</td>\n",
       "      <td>Cellvibrio</td>\n",
       "    </tr>\n",
       "    <tr>\n",
       "      <th>1</th>\n",
       "      <td>BMG_MC000002</td>\n",
       "      <td>Ancylobacter aquaticus</td>\n",
       "    </tr>\n",
       "    <tr>\n",
       "      <th>2</th>\n",
       "      <td>BMG_MC000003</td>\n",
       "      <td>Herbaspirillum sp. BA12</td>\n",
       "    </tr>\n",
       "    <tr>\n",
       "      <th>3</th>\n",
       "      <td>BMG_MC000004</td>\n",
       "      <td>Microbacterium sp. 6.11-VPa</td>\n",
       "    </tr>\n",
       "    <tr>\n",
       "      <th>4</th>\n",
       "      <td>BMG_MC000005</td>\n",
       "      <td>Mycobacterium sp. 1.1-VEs</td>\n",
       "    </tr>\n",
       "    <tr>\n",
       "      <th>...</th>\n",
       "      <td>...</td>\n",
       "      <td>...</td>\n",
       "    </tr>\n",
       "    <tr>\n",
       "      <th>621877</th>\n",
       "      <td>BMG_MC621878</td>\n",
       "      <td>Arthrobacter sp. 8.25ST-VSa</td>\n",
       "    </tr>\n",
       "    <tr>\n",
       "      <th>621878</th>\n",
       "      <td>BMG_MC621879</td>\n",
       "      <td>Arthrobacter sp. 9.22-BP</td>\n",
       "    </tr>\n",
       "    <tr>\n",
       "      <th>621879</th>\n",
       "      <td>BMG_MC621880</td>\n",
       "      <td>Arthrobacter sp. 9.29ST-BP</td>\n",
       "    </tr>\n",
       "    <tr>\n",
       "      <th>621880</th>\n",
       "      <td>BMG_MC621881</td>\n",
       "      <td>Clavibacter sp. 10.27ST-Bb</td>\n",
       "    </tr>\n",
       "    <tr>\n",
       "      <th>621881</th>\n",
       "      <td>BMG_MC621882</td>\n",
       "      <td>Leifsonia sp. 1.5-VEs</td>\n",
       "    </tr>\n",
       "  </tbody>\n",
       "</table>\n",
       "<p>621882 rows × 2 columns</p>\n",
       "</div>"
      ],
      "text/plain": [
       "       BioMedGraphica_ID          BMG_Microbiota_Name\n",
       "0           BMG_MC000001                   Cellvibrio\n",
       "1           BMG_MC000002       Ancylobacter aquaticus\n",
       "2           BMG_MC000003      Herbaspirillum sp. BA12\n",
       "3           BMG_MC000004  Microbacterium sp. 6.11-VPa\n",
       "4           BMG_MC000005    Mycobacterium sp. 1.1-VEs\n",
       "...                  ...                          ...\n",
       "621877      BMG_MC621878  Arthrobacter sp. 8.25ST-VSa\n",
       "621878      BMG_MC621879     Arthrobacter sp. 9.22-BP\n",
       "621879      BMG_MC621880   Arthrobacter sp. 9.29ST-BP\n",
       "621880      BMG_MC621881   Clavibacter sp. 10.27ST-Bb\n",
       "621881      BMG_MC621882        Leifsonia sp. 1.5-VEs\n",
       "\n",
       "[621882 rows x 2 columns]"
      ]
     },
     "execution_count": 8,
     "metadata": {},
     "output_type": "execute_result"
    }
   ],
   "source": [
    "display_name = biomedgraphica_microbiota.copy()\n",
    "\n",
    "display_name.rename(columns={'NCBI_Taxonomy_Name': 'BMG_Microbiota_Name'}, inplace=True)\n",
    "display_name = display_name[['BioMedGraphica_ID', 'BMG_Microbiota_Name']]\n",
    "display_name"
   ]
  },
  {
   "cell_type": "code",
   "execution_count": 9,
   "metadata": {},
   "outputs": [
    {
     "name": "stdout",
     "output_type": "stream",
     "text": [
      "Data has been saved to D:\\RA\\BMG\\BioMedGraphica\\Entity\\Microbiota\\BioMedGraphica_Microbiota_Display_Name.csv\n"
     ]
    }
   ],
   "source": [
    "import os\n",
    "from pathlib import Path\n",
    "\n",
    "# get the current working directory\n",
    "current_working_dir = Path(os.getcwd()).resolve()\n",
    "\n",
    "# get the output directory\n",
    "grandparent_dir = current_working_dir.parent.parent.parent\n",
    "\n",
    "target_folder = grandparent_dir / 'BioMedGraphica' / 'Entity' / 'Microbiota'\n",
    "if not target_folder.exists():\n",
    "    target_folder.mkdir(parents=True)\n",
    "    print(f\"Folder {target_folder} has been created.\")\n",
    "\n",
    "output_file_path = target_folder / 'BioMedGraphica_Microbiota_Display_Name.csv'\n",
    "display_name.to_csv(output_file_path, index=False)\n",
    "print(f\"Data has been saved to {output_file_path}\")"
   ]
  }
 ],
 "metadata": {
  "kernelspec": {
   "display_name": "base",
   "language": "python",
   "name": "python3"
  },
  "language_info": {
   "codemirror_mode": {
    "name": "ipython",
    "version": 3
   },
   "file_extension": ".py",
   "mimetype": "text/x-python",
   "name": "python",
   "nbconvert_exporter": "python",
   "pygments_lexer": "ipython3",
   "version": "3.9.19"
  }
 },
 "nbformat": 4,
 "nbformat_minor": 2
}
