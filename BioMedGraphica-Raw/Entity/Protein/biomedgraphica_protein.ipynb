{
 "cells": [
  {
   "cell_type": "markdown",
   "metadata": {},
   "source": [
    "# BioMedGraphica Protein"
   ]
  },
  {
   "cell_type": "markdown",
   "metadata": {},
   "source": [
    "## 1. Data Access\n",
    "### Direct Download Links  \n",
    "**RefSeq**: Can be downloaded directly via the link without the need for registration. [Link1](https://ftp.ncbi.nlm.nih.gov/gene/DATA/gene_refseq_uniprotkb_collab.gz); [Link2](https://ftp.ncbi.nlm.nih.gov/gene/DATA/gene2ensembl.gz)"
   ]
  },
  {
   "cell_type": "markdown",
   "metadata": {},
   "source": [
    "### Ensembl API"
   ]
  },
  {
   "cell_type": "code",
   "execution_count": 3,
   "metadata": {},
   "outputs": [],
   "source": [
    "import pandas as pd\n",
    "from pybiomart import Server\n",
    "\n",
    "def list_attributes():\n",
    "    server = Server(host='http://www.ensembl.org')\n",
    "    dataset = server.marts['ENSEMBL_MART_ENSEMBL'].datasets['hsapiens_gene_ensembl']\n",
    "    attributes = dataset.list_attributes()\n",
    "    return attributes\n",
    "\n",
    "attributes = list_attributes()\n",
    "\n",
    "def fetch_ensembl_data(attributes):\n",
    "    server = Server(host='http://www.ensembl.org')\n",
    "    #https://www.ensembl.org/biomart/martservice?type=datasets&mart=ENSEMBL_MART_ENSEMBL\n",
    "    #this link shows that hsapiens_gene_ensembl is the GRCh38.p14\n",
    "    dataset = server.marts['ENSEMBL_MART_ENSEMBL'].datasets['hsapiens_gene_ensembl']\n",
    "    \n",
    "    response = dataset.query(attributes)\n",
    "    \n",
    "    return response\n",
    "\n",
    "attributes=['ensembl_peptide_id', 'ensembl_peptide_id_version','uniprotswissprot', 'refseq_peptide', 'entrezgene_id', 'external_gene_name']\n",
    "df_ensembl = fetch_ensembl_data(attributes)\n",
    "df_ensembl.to_csv('ensembl_protein.csv', index=False)"
   ]
  },
  {
   "cell_type": "markdown",
   "metadata": {},
   "source": [
    "### UniProt API"
   ]
  },
  {
   "cell_type": "code",
   "execution_count": 2,
   "metadata": {},
   "outputs": [
    {
     "name": "stdout",
     "output_type": "stream",
     "text": [
      "            Entry                                      Protein names  \\\n",
      "0      A0A024R1R8        Translation machinery-associated protein 7B   \n",
      "1      A0A024RBG1  Diphosphoinositol polyphosphate phosphohydrola...   \n",
      "2      A0A075B6H7  Probable non-functional immunoglobulin kappa v...   \n",
      "3      A0A075B6H8  Probable non-functional immunoglobulin kappa v...   \n",
      "4      A0A075B6H9                Immunoglobulin lambda variable 4-69   \n",
      "...           ...                                                ...   \n",
      "20412      U3KPV4  Alpha-1,3-galactosyltransferase 2 (EC 2.4.1.87...   \n",
      "20413      W5XKT8  Sperm acrosome membrane-associated protein 6 (...   \n",
      "20414      W6CW81  Pyrin domain-containing protein 5 (Pyrin domai...   \n",
      "20415      X6R8D5  Putative uncharacterized protein CIMIP3 (Cilia...   \n",
      "20416      X6R8R1                                  Synaptotagmin-15B   \n",
      "\n",
      "      Gene Names (primary)                                            Ensembl  \\\n",
      "0                    TMA7B  ENST00000424496.3; ENSP00000491117.1; ENSG0000...   \n",
      "1                   NUDT4B  ENST00000322209.5; ENSP00000492425.1; ENSG0000...   \n",
      "2                  IGKV3-7  ENST00000390247.2; ENSP00000374782.2; ENSG0000...   \n",
      "3                IGKV1D-42  ENST00000390278.3; ENSP00000374813.3; ENSG0000...   \n",
      "4                 IGLV4-69  ENST00000390282.2; ENSP00000374817.2; ENSG0000...   \n",
      "...                    ...                                                ...   \n",
      "20412              A3GALT2  ENST00000442999.3; ENSP00000475261.1; ENSG0000...   \n",
      "20413               SPACA6  ENST00000637797.2; ENSP00000490829.1; ENSG0000...   \n",
      "20414                PYDC5  ENST00000696987.1; ENSP00000513023.1; ENSG0000...   \n",
      "20415               CIMIP3  ENST00000372963.4; ENSP00000362054.3; ENSG0000...   \n",
      "20416               SYT15B  ENST00000623662.4; ENSP00000485217.1; ENSG0000...   \n",
      "\n",
      "           GeneID  \n",
      "0             NaN  \n",
      "1          11163;  \n",
      "2             NaN  \n",
      "3             NaN  \n",
      "4             NaN  \n",
      "...           ...  \n",
      "20412     127550;  \n",
      "20413     147650;  \n",
      "20414  107181291;  \n",
      "20415         NaN  \n",
      "20416         NaN  \n",
      "\n",
      "[20417 rows x 5 columns]\n"
     ]
    }
   ],
   "source": [
    "import requests\n",
    "from io import StringIO\n",
    "import pandas as pd\n",
    "\n",
    "def fetch_uniprot_data(params):\n",
    "    url = \"https://rest.uniprot.org/uniprotkb/stream\"\n",
    "\n",
    "    response = requests.get(url, params=params)\n",
    "\n",
    "    if response.ok:\n",
    "        tsv_data = StringIO(response.text)\n",
    "        df = pd.read_csv(tsv_data, sep='\\t')\n",
    "        return df\n",
    "    else:\n",
    "        print(\"Failed to fetch data:\", response.status_code)\n",
    "        print(response.text)\n",
    "        return None\n",
    "# change the parameters to fetch the data\n",
    "# load protein information\n",
    "params = {\n",
    "        'fields': 'accession,protein_name,gene_primary,xref_ensembl_full,xref_geneid',\n",
    "        'format': 'tsv',\n",
    "        'query': '(model_organism:9606) AND (reviewed:true)',\n",
    "        'sort': 'organism_name asc'\n",
    "    }\n",
    "\n",
    "df_uniprot = fetch_uniprot_data(params)\n",
    "if df_uniprot is not None:\n",
    "    print(df_uniprot)\n",
    "else:\n",
    "    print(\"No data retrieved.\")\n",
    "#save the data to a CSV file\n",
    "df_uniprot.to_csv('uniprot.csv', index=False)"
   ]
  },
  {
   "cell_type": "code",
   "execution_count": 3,
   "metadata": {},
   "outputs": [
    {
     "name": "stdout",
     "output_type": "stream",
     "text": [
      "            Entry                                      Function [CC]\n",
      "0      A0A024R1R8                                                NaN\n",
      "1      A0A024RBG1  FUNCTION: Cleaves a beta-phosphate from the di...\n",
      "2      A0A075B6H7  FUNCTION: Probable non-functional open reading...\n",
      "3      A0A075B6H8  FUNCTION: Probable non-functional open reading...\n",
      "4      A0A075B6H9  FUNCTION: V region of the variable domain of i...\n",
      "...           ...                                                ...\n",
      "20412      U3KPV4  FUNCTION: Synthesizes the galactose-alpha(1,3)...\n",
      "20413      W5XKT8  FUNCTION: Sperm protein required for fusion of...\n",
      "20414      W6CW81  FUNCTION: Functions as an inhibitor of DNA vir...\n",
      "20415      X6R8D5                                                NaN\n",
      "20416      X6R8R1                                                NaN\n",
      "\n",
      "[20417 rows x 2 columns]\n"
     ]
    }
   ],
   "source": [
    "import requests\n",
    "from io import StringIO\n",
    "\n",
    "def fetch_uniprot_data(params):\n",
    "    url = \"https://rest.uniprot.org/uniprotkb/stream\"\n",
    "\n",
    "    response = requests.get(url, params=params)\n",
    "\n",
    "    if response.ok:\n",
    "        tsv_data = StringIO(response.text)\n",
    "        df = pd.read_csv(tsv_data, sep='\\t')\n",
    "        return df\n",
    "    else:\n",
    "        print(\"Failed to fetch data:\", response.status_code)\n",
    "        print(response.text)\n",
    "        return None\n",
    "    \n",
    "# change the parameters to fetch the data\n",
    "# load description of proteins\n",
    "params = {\n",
    "        'fields': 'accession,cc_function',\n",
    "        'format': 'tsv',\n",
    "        'query': '(model_organism:9606) AND (reviewed:true)',\n",
    "        'sort': 'organism_name asc'\n",
    "    }\n",
    "\n",
    "df_uniprot = fetch_uniprot_data(params)\n",
    "if df_uniprot is not None:\n",
    "    print(df_uniprot)\n",
    "else:\n",
    "    print(\"No data retrieved.\")\n",
    "#save the data to a CSV file\n",
    "df_uniprot.to_csv('uniprot_protein_description.csv', index=False)"
   ]
  },
  {
   "cell_type": "markdown",
   "metadata": {},
   "source": [
    "### RefSeq Data Pre-Process"
   ]
  },
  {
   "cell_type": "code",
   "execution_count": null,
   "metadata": {},
   "outputs": [],
   "source": [
    "import pandas as pd\n",
    "\n",
    "def filter_data(input_file, output_file):\n",
    "\n",
    "    df = pd.read_csv(input_file)\n",
    "    \n",
    "    filtered_df = df[(df['NCBI_tax_id'] == 9606) & (df['UniProtKB_tax_id'] == 9606)]\n",
    "    \n",
    "    filtered_df.to_csv(output_file, index=False)\n",
    "\n",
    "# replace the input_file and output_file with the path of the files in your system\n",
    "filter_data('gene_refseq_uniprotkb_collab', 'refseq_uniprot_human.csv')"
   ]
  },
  {
   "cell_type": "markdown",
   "metadata": {},
   "source": [
    "## 2. Load Data"
   ]
  },
  {
   "cell_type": "markdown",
   "metadata": {},
   "source": [
    "### 2.1 Ensembl data"
   ]
  },
  {
   "cell_type": "code",
   "execution_count": 8,
   "metadata": {},
   "outputs": [
    {
     "data": {
      "application/vnd.microsoft.datawrangler.viewer.v0+json": {
       "columns": [
        {
         "name": "index",
         "rawType": "int64",
         "type": "integer"
        },
        {
         "name": "Protein stable ID version",
         "rawType": "object",
         "type": "string"
        },
        {
         "name": "Protein stable ID",
         "rawType": "object",
         "type": "string"
        },
        {
         "name": "Gene name",
         "rawType": "object",
         "type": "unknown"
        },
        {
         "name": "UniProtKB/Swiss-Prot ID",
         "rawType": "object",
         "type": "unknown"
        },
        {
         "name": "RefSeq peptide ID",
         "rawType": "object",
         "type": "unknown"
        },
        {
         "name": "NCBI gene (formerly Entrezgene) ID",
         "rawType": "object",
         "type": "unknown"
        }
       ],
       "conversionMethod": "pd.DataFrame",
       "ref": "2cfdacb6-19fb-42ce-878b-404cadfb1f0d",
       "rows": [
        [
         "0",
         "ENSP00000000233.5",
         "ENSP00000000233",
         "ARF5",
         "P84085",
         "NP_001653",
         "381.0"
        ],
        [
         "1",
         "ENSP00000000412.3",
         "ENSP00000000412",
         "M6PR",
         "P20645",
         "NP_002346;NP_001401249;NP_001401261;NP_001401262;NP_001401260",
         "4074.0"
        ],
        [
         "2",
         "ENSP00000000442.6",
         "ENSP00000000442",
         "ESRRA",
         "P11474",
         "NP_004442",
         "2101.0"
        ],
        [
         "3",
         "ENSP00000001008.4",
         "ENSP00000001008",
         "FKBP4",
         "Q02790",
         "NP_002005",
         "2288.0"
        ],
        [
         "4",
         "ENSP00000001146.2",
         "ENSP00000001146",
         "CYP26B1",
         "Q9NR63",
         "NP_063938",
         "56603.0"
        ],
        [
         "5",
         "ENSP00000002125.4",
         "ENSP00000002125",
         "NDUFAF7",
         "Q7L592",
         "NP_001336954;NP_001336953;NP_653337",
         "55471.0"
        ],
        [
         "6",
         "ENSP00000002165.5",
         "ENSP00000002165",
         "FUCA2",
         "Q9BTY2",
         "NP_114409",
         "2519.0"
        ],
        [
         "7",
         "ENSP00000002501.6",
         "ENSP00000002501",
         "DBNDD1",
         "Q9H9R9",
         "NP_001036075",
         "79007.0"
        ],
        [
         "8",
         "ENSP00000002596.5",
         "ENSP00000002596",
         "HS3ST1",
         "O14792",
         "NP_005105",
         "9957.0"
        ],
        [
         "9",
         "ENSP00000002829.3",
         "ENSP00000002829",
         "SEMA3F",
         "Q13275",
         "NP_004177",
         "6405.0"
        ],
        [
         "10",
         "ENSP00000003084.6",
         "ENSP00000003084",
         "CFTR",
         "P13569",
         "NP_000483",
         "1080.0"
        ],
        [
         "11",
         "ENSP00000003100.8",
         "ENSP00000003100",
         "CYP51A1",
         "Q16850",
         "NP_000777",
         "1595.0"
        ],
        [
         "12",
         "ENSP00000003302.4",
         "ENSP00000003302",
         "USP28",
         "Q96RU2",
         "NP_001333187;NP_001333184;NP_001387721;NP_001387720;NP_001387719;NP_001387726;NP_001387725;NP_001387718;NP_001387722;NP_001387724;NP_001387716;NP_001387717;NP_001333186;NP_001333188;NP_001333183;NP_065937",
         "57646.0"
        ],
        [
         "13",
         "ENSP00000003583.8",
         "ENSP00000003583",
         "STPG1",
         "Q5TH74",
         "NP_001185943;NP_835223",
         "90529.0"
        ],
        [
         "14",
         "ENSP00000003912.3",
         "ENSP00000003912",
         "NIPAL3",
         "Q6P499",
         "NP_001309787;NP_001309789;NP_001309788;NP_001309790;NP_001309791;NP_001309792",
         "57185.0"
        ],
        [
         "15",
         "ENSP00000004103.3",
         "ENSP00000004103",
         "TMEM176A",
         "Q96HP8",
         "NP_060957",
         "55365.0"
        ],
        [
         "16",
         "ENSP00000004531.10",
         "ENSP00000004531",
         "SLC7A2",
         "P52569",
         "NP_001158243",
         "6542.0"
        ],
        [
         "17",
         "ENSP00000004982.3",
         "ENSP00000004982",
         "HSPB6",
         "O14558",
         "NP_653218",
         "126393.0"
        ],
        [
         "18",
         "ENSP00000005082.9",
         "ENSP00000005082",
         "ZNF195",
         "O14628",
         "NP_001123991",
         "7748.0"
        ],
        [
         "19",
         "ENSP00000005178.5",
         "ENSP00000005178",
         "PDK4",
         "Q16654",
         "NP_002603",
         "5166.0"
        ],
        [
         "20",
         "ENSP00000005180.4",
         "ENSP00000005180",
         "CCL26",
         "Q9Y258",
         "NP_001358865;NP_001358867",
         "10344.0"
        ],
        [
         "21",
         "ENSP00000005226.7",
         "ENSP00000005226",
         "USH1C",
         "Q9Y6N9",
         "NP_710142",
         "10083.0"
        ],
        [
         "22",
         "ENSP00000005257.2",
         "ENSP00000005257",
         "RALA",
         "P11233",
         "NP_005393",
         "5898.0"
        ],
        [
         "23",
         "ENSP00000005259.4",
         "ENSP00000005259",
         "BCAP29",
         "Q9UHQ4",
         "NP_001350412;NP_001358283;NP_001358282;NP_061332",
         "55973.0"
        ],
        [
         "24",
         "ENSP00000005260.8",
         "ENSP00000005260",
         "BAIAP2L1",
         "Q9UHR4",
         "NP_061330",
         "55971.0"
        ],
        [
         "25",
         "ENSP00000005284.4",
         "ENSP00000005284",
         "CACNG3",
         "O60359",
         "NP_006530",
         "10368.0"
        ],
        [
         "26",
         "ENSP00000005286.4",
         "ENSP00000005286",
         "TMEM132A",
         "Q24JP5",
         "NP_060340",
         "54972.0"
        ],
        [
         "27",
         "ENSP00000005340.4",
         "ENSP00000005340",
         "DVL2",
         "O14641",
         "NP_004413",
         "1856.0"
        ],
        [
         "28",
         "ENSP00000005374.6",
         "ENSP00000005374",
         "GGCT",
         "O75223",
         "NP_001186745",
         "79017.0"
        ],
        [
         "29",
         "ENSP00000005386.3",
         "ENSP00000005386",
         "RPAP3",
         "Q9H6T3",
         "NP_078880",
         "79657.0"
        ],
        [
         "30",
         "ENSP00000005558.4",
         "ENSP00000005558",
         "IFRD1",
         "O00458",
         null,
         "3475.0"
        ],
        [
         "31",
         "ENSP00000005587.2",
         "ENSP00000005587",
         "SKAP2",
         "O75563",
         "NP_001290397;NP_003921",
         "8935.0"
        ],
        [
         "32",
         "ENSP00000005756.5",
         "ENSP00000005756",
         "UPP2",
         "O95045",
         "NP_775491",
         "151531.0"
        ],
        [
         "33",
         "ENSP00000005995.3",
         "ENSP00000005995",
         "PRSS21",
         "Q9Y6M0",
         "NP_659205;NP_006790",
         "10942.0"
        ],
        [
         "34",
         "ENSP00000006015.3",
         "ENSP00000006015",
         "HOXA11",
         "P31270",
         "NP_005514",
         "3207.0"
        ],
        [
         "35",
         "ENSP00000006053.6",
         "ENSP00000006053",
         "CX3CL1",
         "P78423",
         "NP_001291321;NP_002987",
         "6376.0"
        ],
        [
         "36",
         "ENSP00000006251.7",
         "ENSP00000006251",
         "PRR5",
         "P85299",
         "NP_056181",
         "55615.0"
        ],
        [
         "37",
         "ENSP00000006275.3",
         "ENSP00000006275",
         "TRAPPC6A",
         "O75865",
         "NP_077013",
         "79090.0"
        ],
        [
         "38",
         "ENSP00000006526.6",
         "ENSP00000006526",
         "WDR54",
         "Q9H977",
         "NP_001307752;NP_001307753;NP_115494",
         "84058.0"
        ],
        [
         "39",
         "ENSP00000006658.6",
         "ENSP00000006658",
         "SPATA20",
         "Q8TB22",
         "NP_073738",
         "64847.0"
        ],
        [
         "40",
         "ENSP00000006724.3",
         "ENSP00000006724",
         "CEACAM7",
         "Q14002",
         null,
         "1087.0"
        ],
        [
         "41",
         "ENSP00000006750.4",
         "ENSP00000006750",
         "CD79B",
         "P40259",
         "NP_000617",
         "974.0"
        ],
        [
         "42",
         "ENSP00000006777.6",
         "ENSP00000006777",
         "RHBDD2",
         "Q6NTF9",
         "NP_001333118;NP_001333117;NP_001035546",
         "57414.0"
        ],
        [
         "43",
         "ENSP00000007264.2",
         "ENSP00000007264",
         "RPUSD1",
         "Q9UJJ7",
         "NP_001356587;NP_001311015;NP_478072",
         "113000.0"
        ],
        [
         "44",
         "ENSP00000007390.2",
         "ENSP00000007390",
         "TSR3",
         "Q9UJK0",
         "NP_001001410",
         "115939.0"
        ],
        [
         "45",
         "ENSP00000007414.3",
         "ENSP00000007414",
         "OSBPL7",
         "Q9BZF2",
         "NP_665741",
         "114881.0"
        ],
        [
         "46",
         "ENSP00000007510.6",
         "ENSP00000007510",
         "ARHGAP33",
         "O14559",
         "NP_001353107",
         "115703.0"
        ],
        [
         "47",
         "ENSP00000007516.2",
         "ENSP00000007516",
         "NDUFAB1",
         "O14561",
         "NP_004994",
         "4706.0"
        ],
        [
         "48",
         "ENSP00000007699.5",
         "ENSP00000007699",
         "YBX2",
         "Q9Y2T7",
         "NP_057066",
         "51087.0"
        ],
        [
         "49",
         "ENSP00000007708.3",
         "ENSP00000007708",
         "PDK2",
         "Q15119",
         "NP_001186827",
         "5164.0"
        ]
       ],
       "shape": {
        "columns": 6,
        "rows": 123845
       }
      },
      "text/html": [
       "<div>\n",
       "<style scoped>\n",
       "    .dataframe tbody tr th:only-of-type {\n",
       "        vertical-align: middle;\n",
       "    }\n",
       "\n",
       "    .dataframe tbody tr th {\n",
       "        vertical-align: top;\n",
       "    }\n",
       "\n",
       "    .dataframe thead th {\n",
       "        text-align: right;\n",
       "    }\n",
       "</style>\n",
       "<table border=\"1\" class=\"dataframe\">\n",
       "  <thead>\n",
       "    <tr style=\"text-align: right;\">\n",
       "      <th></th>\n",
       "      <th>Protein stable ID version</th>\n",
       "      <th>Protein stable ID</th>\n",
       "      <th>Gene name</th>\n",
       "      <th>UniProtKB/Swiss-Prot ID</th>\n",
       "      <th>RefSeq peptide ID</th>\n",
       "      <th>NCBI gene (formerly Entrezgene) ID</th>\n",
       "    </tr>\n",
       "  </thead>\n",
       "  <tbody>\n",
       "    <tr>\n",
       "      <th>0</th>\n",
       "      <td>ENSP00000000233.5</td>\n",
       "      <td>ENSP00000000233</td>\n",
       "      <td>ARF5</td>\n",
       "      <td>P84085</td>\n",
       "      <td>NP_001653</td>\n",
       "      <td>381.0</td>\n",
       "    </tr>\n",
       "    <tr>\n",
       "      <th>1</th>\n",
       "      <td>ENSP00000000412.3</td>\n",
       "      <td>ENSP00000000412</td>\n",
       "      <td>M6PR</td>\n",
       "      <td>P20645</td>\n",
       "      <td>NP_002346;NP_001401249;NP_001401261;NP_0014012...</td>\n",
       "      <td>4074.0</td>\n",
       "    </tr>\n",
       "    <tr>\n",
       "      <th>2</th>\n",
       "      <td>ENSP00000000442.6</td>\n",
       "      <td>ENSP00000000442</td>\n",
       "      <td>ESRRA</td>\n",
       "      <td>P11474</td>\n",
       "      <td>NP_004442</td>\n",
       "      <td>2101.0</td>\n",
       "    </tr>\n",
       "    <tr>\n",
       "      <th>3</th>\n",
       "      <td>ENSP00000001008.4</td>\n",
       "      <td>ENSP00000001008</td>\n",
       "      <td>FKBP4</td>\n",
       "      <td>Q02790</td>\n",
       "      <td>NP_002005</td>\n",
       "      <td>2288.0</td>\n",
       "    </tr>\n",
       "    <tr>\n",
       "      <th>4</th>\n",
       "      <td>ENSP00000001146.2</td>\n",
       "      <td>ENSP00000001146</td>\n",
       "      <td>CYP26B1</td>\n",
       "      <td>Q9NR63</td>\n",
       "      <td>NP_063938</td>\n",
       "      <td>56603.0</td>\n",
       "    </tr>\n",
       "    <tr>\n",
       "      <th>...</th>\n",
       "      <td>...</td>\n",
       "      <td>...</td>\n",
       "      <td>...</td>\n",
       "      <td>...</td>\n",
       "      <td>...</td>\n",
       "      <td>...</td>\n",
       "    </tr>\n",
       "    <tr>\n",
       "      <th>123840</th>\n",
       "      <td>ENSP00000520928.1</td>\n",
       "      <td>ENSP00000520928</td>\n",
       "      <td>CSF2RA</td>\n",
       "      <td>&lt;NA&gt;</td>\n",
       "      <td>&lt;NA&gt;</td>\n",
       "      <td>1438.0</td>\n",
       "    </tr>\n",
       "    <tr>\n",
       "      <th>123841</th>\n",
       "      <td>ENSP00000520929.1</td>\n",
       "      <td>ENSP00000520929</td>\n",
       "      <td>CSF2RA</td>\n",
       "      <td>&lt;NA&gt;</td>\n",
       "      <td>NP_001366090;NP_001366093;NP_001366094</td>\n",
       "      <td>1438.0</td>\n",
       "    </tr>\n",
       "    <tr>\n",
       "      <th>123842</th>\n",
       "      <td>ENSP00000520930.1</td>\n",
       "      <td>ENSP00000520930</td>\n",
       "      <td>CSF2RA</td>\n",
       "      <td>&lt;NA&gt;</td>\n",
       "      <td>NP_001366088;NP_001366092;NP_001366091</td>\n",
       "      <td>1438.0</td>\n",
       "    </tr>\n",
       "    <tr>\n",
       "      <th>123843</th>\n",
       "      <td>ENSP00000520931.1</td>\n",
       "      <td>ENSP00000520931</td>\n",
       "      <td>GTPBP6</td>\n",
       "      <td>&lt;NA&gt;</td>\n",
       "      <td>&lt;NA&gt;</td>\n",
       "      <td>8225.0</td>\n",
       "    </tr>\n",
       "    <tr>\n",
       "      <th>123844</th>\n",
       "      <td>ENSP00000520932.1</td>\n",
       "      <td>ENSP00000520932</td>\n",
       "      <td>IL9R</td>\n",
       "      <td>&lt;NA&gt;</td>\n",
       "      <td>NP_789743</td>\n",
       "      <td>3581.0</td>\n",
       "    </tr>\n",
       "  </tbody>\n",
       "</table>\n",
       "<p>123845 rows × 6 columns</p>\n",
       "</div>"
      ],
      "text/plain": [
       "       Protein stable ID version Protein stable ID Gene name  \\\n",
       "0              ENSP00000000233.5   ENSP00000000233      ARF5   \n",
       "1              ENSP00000000412.3   ENSP00000000412      M6PR   \n",
       "2              ENSP00000000442.6   ENSP00000000442     ESRRA   \n",
       "3              ENSP00000001008.4   ENSP00000001008     FKBP4   \n",
       "4              ENSP00000001146.2   ENSP00000001146   CYP26B1   \n",
       "...                          ...               ...       ...   \n",
       "123840         ENSP00000520928.1   ENSP00000520928    CSF2RA   \n",
       "123841         ENSP00000520929.1   ENSP00000520929    CSF2RA   \n",
       "123842         ENSP00000520930.1   ENSP00000520930    CSF2RA   \n",
       "123843         ENSP00000520931.1   ENSP00000520931    GTPBP6   \n",
       "123844         ENSP00000520932.1   ENSP00000520932      IL9R   \n",
       "\n",
       "       UniProtKB/Swiss-Prot ID  \\\n",
       "0                       P84085   \n",
       "1                       P20645   \n",
       "2                       P11474   \n",
       "3                       Q02790   \n",
       "4                       Q9NR63   \n",
       "...                        ...   \n",
       "123840                    <NA>   \n",
       "123841                    <NA>   \n",
       "123842                    <NA>   \n",
       "123843                    <NA>   \n",
       "123844                    <NA>   \n",
       "\n",
       "                                        RefSeq peptide ID  \\\n",
       "0                                               NP_001653   \n",
       "1       NP_002346;NP_001401249;NP_001401261;NP_0014012...   \n",
       "2                                               NP_004442   \n",
       "3                                               NP_002005   \n",
       "4                                               NP_063938   \n",
       "...                                                   ...   \n",
       "123840                                               <NA>   \n",
       "123841             NP_001366090;NP_001366093;NP_001366094   \n",
       "123842             NP_001366088;NP_001366092;NP_001366091   \n",
       "123843                                               <NA>   \n",
       "123844                                          NP_789743   \n",
       "\n",
       "       NCBI gene (formerly Entrezgene) ID  \n",
       "0                                   381.0  \n",
       "1                                  4074.0  \n",
       "2                                  2101.0  \n",
       "3                                  2288.0  \n",
       "4                                 56603.0  \n",
       "...                                   ...  \n",
       "123840                             1438.0  \n",
       "123841                             1438.0  \n",
       "123842                             1438.0  \n",
       "123843                             8225.0  \n",
       "123844                             3581.0  \n",
       "\n",
       "[123845 rows x 6 columns]"
      ]
     },
     "execution_count": 8,
     "metadata": {},
     "output_type": "execute_result"
    }
   ],
   "source": [
    "import pandas as pd\n",
    "\n",
    "df_ensembl = pd.read_csv('ensembl_protein.csv', dtype=str)\n",
    "\n",
    "df_ensembl_merge = df_ensembl.groupby('Protein stable ID version').agg({\n",
    "    'Protein stable ID': lambda x: ';'.join(x.dropna().unique()),\n",
    "    'Gene name': lambda x: ';'.join(x.dropna().unique()),\n",
    "    'UniProtKB/Swiss-Prot ID': lambda x: ';'.join(x.dropna().unique()),\n",
    "    'RefSeq peptide ID': lambda x: ';'.join(x.dropna().unique()),\n",
    "    'NCBI gene (formerly Entrezgene) ID': lambda x: ';'.join(x.dropna().unique())\n",
    "})\n",
    "df_ensembl_merge.replace('', pd.NA, inplace=True)\n",
    "df_ensembl_merge.reset_index(inplace=True)\n",
    "df_ensembl_merge"
   ]
  },
  {
   "cell_type": "markdown",
   "metadata": {},
   "source": [
    "### 2.2 UniProt data"
   ]
  },
  {
   "cell_type": "code",
   "execution_count": 2,
   "metadata": {},
   "outputs": [],
   "source": [
    "import pandas as pd"
   ]
  },
  {
   "cell_type": "code",
   "execution_count": 3,
   "metadata": {},
   "outputs": [
    {
     "data": {
      "application/vnd.microsoft.datawrangler.viewer.v0+json": {
       "columns": [
        {
         "name": "index",
         "rawType": "int64",
         "type": "integer"
        },
        {
         "name": "Entry",
         "rawType": "object",
         "type": "string"
        },
        {
         "name": "Protein names",
         "rawType": "object",
         "type": "string"
        },
        {
         "name": "Gene Names",
         "rawType": "object",
         "type": "unknown"
        },
        {
         "name": "Ensembl",
         "rawType": "object",
         "type": "unknown"
        },
        {
         "name": "GeneID",
         "rawType": "object",
         "type": "unknown"
        }
       ],
       "conversionMethod": "pd.DataFrame",
       "ref": "7e5a5b63-c844-4af8-a648-68b9667cace6",
       "rows": [
        [
         "0",
         "A0A024R1R8",
         "Translation machinery-associated protein 7B",
         "TMA7B",
         "ENST00000424496.3; ENSP00000491117.1; ENSG00000225528.4.;",
         null
        ],
        [
         "1",
         "A0A024RBG1",
         "Diphosphoinositol polyphosphate phosphohydrolase NUDT4B (DIPP-2B) (EC 3.6.1.52) (Nucleoside diphosphate-linked moiety X motif 4B) (Nudix motif 4B) (Nudix hydrolase 4B)",
         "NUDT4B",
         "ENST00000322209.5; ENSP00000492425.1; ENSG00000177144.8.;",
         "11163;"
        ],
        [
         "2",
         "A0A075B6H7",
         "Probable non-functional immunoglobulin kappa variable 3-7",
         "IGKV3-7",
         "ENST00000390247.2; ENSP00000374782.2; ENSG00000243063.1.;\"ENST00000633250.1; ENSP00000487957.1; ENSG00000282310.1.\";",
         null
        ],
        [
         "3",
         "A0A075B6H8",
         "Probable non-functional immunoglobulin kappa variable 1D-42",
         "IGKV1D-42",
         "ENST00000390278.3; ENSP00000374813.3; ENSG00000211633.3.;",
         null
        ],
        [
         "4",
         "A0A075B6H9",
         "Immunoglobulin lambda variable 4-69",
         "IGLV4-69",
         "ENST00000390282.2; ENSP00000374817.2; ENSG00000211637.2.;",
         null
        ],
        [
         "5",
         "A0A075B6I0",
         "Immunoglobulin lambda variable 8-61",
         "IGLV8-61",
         "ENST00000390283.2; ENSP00000374818.2; ENSG00000211638.2.;",
         null
        ],
        [
         "6",
         "A0A075B6I1",
         "Immunoglobulin lambda variable 4-60",
         "IGLV4-60",
         "ENST00000390284.2; ENSP00000374819.2; ENSG00000211639.2.;",
         null
        ],
        [
         "7",
         "A0A075B6I3",
         "Probable non-functional immunoglobulin lambda variable 11-55",
         "IGLV11-55",
         "ENST00000390286.3; ENSP00000374821.3; ENSG00000211641.3.;",
         null
        ],
        [
         "8",
         "A0A075B6I4",
         "Immunoglobulin lambda variable 10-54",
         "IGLV10-54",
         "ENST00000390287.2; ENSP00000374822.2; ENSG00000211642.4.;",
         null
        ],
        [
         "9",
         "A0A075B6I6",
         "Probable non-functional immunoglobulin lambda variable 1-50",
         "IGLV1-50",
         "ENST00000390291.2; ENSP00000374826.2; ENSG00000211645.2.;",
         null
        ],
        [
         "10",
         "A0A075B6I7",
         "Probable non-functional immunoglobulin lambda variable 5-48",
         "IGLV5-48",
         "ENST00000390293.1; ENSP00000374828.2; ENSG00000211647.1.;",
         null
        ],
        [
         "11",
         "A0A075B6I9",
         "Immunoglobulin lambda variable 7-46",
         "IGLV7-46",
         "ENST00000390295.3; ENSP00000374830.2; ENSG00000211649.3.;",
         null
        ],
        [
         "12",
         "A0A075B6J1",
         "Immunoglobulin lambda variable 5-37",
         "IGLV5-37",
         "ENST00000390300.2; ENSP00000374835.2; ENSG00000211654.2.;\"ENST00000628968.1; ENSP00000487591.1; ENSG00000281471.1.\";",
         null
        ],
        [
         "13",
         "A0A075B6J2",
         "Probable non-functional immunoglobulin lambda variable 2-33",
         "IGLV2-33",
         "ENST00000390302.3; ENSP00000374837.3; ENSG00000211656.3.;\"ENST00000629472.1; ENSP00000486583.1; ENSG00000281345.1.\";",
         null
        ],
        [
         "14",
         "A0A075B6J6",
         "Immunoglobulin lambda variable 3-22",
         "IGLV3-22",
         "ENST00000390307.2; ENSP00000374842.2; ENSG00000211661.2.;",
         null
        ],
        [
         "15",
         "A0A075B6J9",
         "Immunoglobulin lambda variable 2-18",
         "IGLV2-18",
         "ENST00000390310.3; ENSP00000374845.3; ENSG00000211664.3.;",
         null
        ],
        [
         "16",
         "A0A075B6K0",
         "Immunoglobulin lambda variable 3-16",
         "IGLV3-16",
         "ENST00000390311.3; ENSP00000374846.3; ENSG00000211665.3.;",
         null
        ],
        [
         "17",
         "A0A075B6K2",
         "Immunoglobulin lambda variable 3-12",
         "IGLV3-12",
         "ENST00000390313.3; ENSP00000374848.3; ENSG00000211667.3.;",
         null
        ],
        [
         "18",
         "A0A075B6K4",
         "Immunoglobulin lambda variable 3-10",
         "IGLV3-10",
         "ENST00000390315.3; ENSP00000374850.3; ENSG00000211669.3.;",
         null
        ],
        [
         "19",
         "A0A075B6K5",
         "Immunoglobulin lambda variable 3-9",
         "IGLV3-9",
         "ENST00000390316.2; ENSP00000374851.2; ENSG00000211670.2.;",
         null
        ],
        [
         "20",
         "A0A075B6K6",
         "Immunoglobulin lambda variable 4-3",
         "IGLV4-3",
         "ENST00000390318.2; ENSP00000374853.2; ENSG00000211672.2.;",
         null
        ],
        [
         "21",
         "A0A075B6L2",
         "Probable non-functional T cell receptor gamma variable 11",
         "TRGV11",
         "ENST00000390340.3; ENSP00000374863.3; ENSG00000211693.2.;",
         null
        ],
        [
         "22",
         "A0A075B6L6",
         "Probable non-functional T cell receptor beta variable 7-3",
         "TRBV7-3",
         "ENST00000390361.3; ENSP00000374884.3; ENSG00000211714.3.;",
         null
        ],
        [
         "23",
         "A0A075B6N1",
         "T cell receptor beta variable 19",
         "TRBV19",
         "ENST00000390393.3; ENSP00000374916.3; ENSG00000211746.3.;",
         null
        ],
        [
         "24",
         "A0A075B6N2",
         "T cell receptor beta variable 20-1",
         "TRBV20-1",
         "ENST00000390394.3; ENSP00000374917.3; ENSG00000211747.3.;",
         null
        ],
        [
         "25",
         "A0A075B6N3",
         "T cell receptor beta variable 24-1",
         "TRBV24-1",
         "ENST00000390397.2; ENSP00000374920.2; ENSG00000211750.2.;",
         null
        ],
        [
         "26",
         "A0A075B6N4",
         "T cell receptor beta variable 25-1",
         "TRBV25-1",
         "ENST00000390398.3; ENSP00000374921.3; ENSG00000282499.1.;",
         null
        ],
        [
         "27",
         "A0A075B6P5",
         "Immunoglobulin kappa variable 2-28",
         "IGKV2-28",
         "ENST00000482769.1; ENSP00000419353.1; ENSG00000244116.3.;\"ENST00000633682.1; ENSP00000487690.1; ENSG00000282025.1.\";",
         null
        ],
        [
         "28",
         "A0A075B6Q5",
         "Immunoglobulin heavy variable 3-64",
         "IGHV3-64",
         "ENST00000454421.2; ENSP00000401707.2; ENSG00000223648.4.;\"ENST00000631710.1; ENSP00000488676.1; ENSG00000274236.3.\";",
         null
        ],
        [
         "29",
         "A0A075B6R0",
         "T cell receptor gamma variable 2",
         "TRGV2",
         "ENST00000426402.2; ENSP00000404928.2; ENSG00000233306.2.;",
         null
        ],
        [
         "30",
         "A0A075B6R2",
         "Immunoglobulin heavy variable 4-4",
         "IGHV4-4",
         "ENST00000455737.2; ENSP00000410711.2; ENSG00000276775.1.;\"ENST00000631379.1; ENSP00000487977.1; ENSG00000282223.1.\";",
         null
        ],
        [
         "31",
         "A0A075B6R9",
         "Probable non-functional immunoglobulin kappa variable 2D-24",
         "IGKV2D-24",
         "ENST00000462693.1; ENSP00000417136.1; ENSG00000241566.1.;",
         null
        ],
        [
         "32",
         "A0A075B6S0",
         "T cell receptor gamma joining 1",
         "TRGJ1",
         "ENST00000390337.1; ENSP00000420798.1; ENSG00000211690.1.;",
         null
        ],
        [
         "33",
         "A0A075B6S2",
         "Immunoglobulin kappa variable 2D-29",
         "IGKV2D-29",
         "ENST00000491977.1; ENSP00000417637.1; ENSG00000243264.3.;",
         null
        ],
        [
         "34",
         "A0A075B6S4",
         "Immunoglobulin kappa variable 1D-17",
         "IGKV1D-17",
         "ENST00000483379.1; ENSP00000418292.1; ENSG00000242766.1.;",
         null
        ],
        [
         "35",
         "A0A075B6S5",
         "Immunoglobulin kappa variable 1-27",
         "IGKV1-27",
         "ENST00000498435.1; ENSP00000418903.1; ENSG00000244575.3.;\"ENST00000631531.1; ENSP00000488456.1; ENSG00000282666.1.\";",
         null
        ],
        [
         "36",
         "A0A075B6S6",
         "Immunoglobulin kappa variable 2D-30",
         "IGKV2D-30",
         "ENST00000474213.1; ENSP00000418948.1; ENSG00000239571.1.;",
         null
        ],
        [
         "37",
         "A0A075B6S9",
         "Probable non-functional immunoglobulinn kappa variable 1-37",
         "IGKV1-37",
         "ENST00000465170.1; ENSP00000417427.1; ENSG00000239862.1.;\"ENST00000632103.1; ENSP00000487793.1; ENSG00000282394.1.\";",
         null
        ],
        [
         "38",
         "A0A075B6T6",
         "T cell receptor alpha variable 12-2",
         "TRAV12-2",
         "ENST00000390437.2; ENSP00000437362.1; ENSG00000211789.2.;",
         null
        ],
        [
         "39",
         "A0A075B6T7",
         "T cell receptor alpha variable 6",
         "TRAV6",
         "ENST00000390428.3; ENSP00000438290.1; ENSG00000211780.3.;",
         null
        ],
        [
         "40",
         "A0A075B6T8",
         "T cell receptor alpha variable 9-1",
         "TRAV9-1",
         "ENST00000390431.3; ENSP00000438446.1; ENSG00000211783.3.;",
         null
        ],
        [
         "41",
         "A0A075B6U4",
         "T cell receptor alpha variable 7",
         "TRAV7",
         "ENST00000390429.3; ENSP00000443297.1; ENSG00000211781.3.;",
         null
        ],
        [
         "42",
         "A0A075B6V5",
         "T cell receptor alpha variable 36/delta variable 7",
         "TRAV36DV7",
         "ENST00000390463.3; ENSP00000450804.1; ENSG00000211815.3.;",
         null
        ],
        [
         "43",
         "A0A075B6W5",
         "T cell receptor alpha variable 23/delta variable 6",
         "TRAV23DV6",
         "ENST00000390451.2; ENSP00000451203.1; ENSG00000211803.2.;",
         null
        ],
        [
         "44",
         "A0A075B6X5",
         "T cell receptor alpha variable 18",
         "TRAV18",
         "ENST00000390446.3; ENSP00000451574.1; ENSG00000211798.3.;",
         null
        ],
        [
         "45",
         "A0A075B6Y3",
         "T cell receptor alpha joining 3",
         "TRAJ3",
         "ENST00000390534.1; ENSP00000451699.1; ENSG00000211886.1.;",
         null
        ],
        [
         "46",
         "A0A075B6Y9",
         "T cell receptor alpha joining 42",
         "TRAJ42",
         "ENST00000390495.1; ENSP00000451815.1; ENSG00000211847.1.;",
         null
        ],
        [
         "47",
         "A0A075B700",
         "T cell receptor alpha joining 31",
         "TRAJ31",
         "ENST00000390506.1; ENSP00000452141.1; ENSG00000211858.1.;",
         null
        ],
        [
         "48",
         "A0A075B706",
         "T cell receptor delta joining 1",
         "TRDJ1",
         "ENST00000390473.1; ENSP00000452345.1; ENSG00000211825.1.;",
         null
        ],
        [
         "49",
         "A0A075B734",
         "Putative aquaporin-7B",
         "AQP7B",
         "ENST00000561882.2; ENSP00000456868.2; ENSG00000259916.2.;\"ENST00000696097.1; ENSP00000512393.1; ENSG00000259916.2.\";",
         null
        ]
       ],
       "shape": {
        "columns": 5,
        "rows": 20417
       }
      },
      "text/html": [
       "<div>\n",
       "<style scoped>\n",
       "    .dataframe tbody tr th:only-of-type {\n",
       "        vertical-align: middle;\n",
       "    }\n",
       "\n",
       "    .dataframe tbody tr th {\n",
       "        vertical-align: top;\n",
       "    }\n",
       "\n",
       "    .dataframe thead th {\n",
       "        text-align: right;\n",
       "    }\n",
       "</style>\n",
       "<table border=\"1\" class=\"dataframe\">\n",
       "  <thead>\n",
       "    <tr style=\"text-align: right;\">\n",
       "      <th></th>\n",
       "      <th>Entry</th>\n",
       "      <th>Protein names</th>\n",
       "      <th>Gene Names</th>\n",
       "      <th>Ensembl</th>\n",
       "      <th>GeneID</th>\n",
       "    </tr>\n",
       "  </thead>\n",
       "  <tbody>\n",
       "    <tr>\n",
       "      <th>0</th>\n",
       "      <td>A0A024R1R8</td>\n",
       "      <td>Translation machinery-associated protein 7B</td>\n",
       "      <td>TMA7B</td>\n",
       "      <td>ENST00000424496.3; ENSP00000491117.1; ENSG0000...</td>\n",
       "      <td>NaN</td>\n",
       "    </tr>\n",
       "    <tr>\n",
       "      <th>1</th>\n",
       "      <td>A0A024RBG1</td>\n",
       "      <td>Diphosphoinositol polyphosphate phosphohydrola...</td>\n",
       "      <td>NUDT4B</td>\n",
       "      <td>ENST00000322209.5; ENSP00000492425.1; ENSG0000...</td>\n",
       "      <td>11163;</td>\n",
       "    </tr>\n",
       "    <tr>\n",
       "      <th>2</th>\n",
       "      <td>A0A075B6H7</td>\n",
       "      <td>Probable non-functional immunoglobulin kappa v...</td>\n",
       "      <td>IGKV3-7</td>\n",
       "      <td>ENST00000390247.2; ENSP00000374782.2; ENSG0000...</td>\n",
       "      <td>NaN</td>\n",
       "    </tr>\n",
       "    <tr>\n",
       "      <th>3</th>\n",
       "      <td>A0A075B6H8</td>\n",
       "      <td>Probable non-functional immunoglobulin kappa v...</td>\n",
       "      <td>IGKV1D-42</td>\n",
       "      <td>ENST00000390278.3; ENSP00000374813.3; ENSG0000...</td>\n",
       "      <td>NaN</td>\n",
       "    </tr>\n",
       "    <tr>\n",
       "      <th>4</th>\n",
       "      <td>A0A075B6H9</td>\n",
       "      <td>Immunoglobulin lambda variable 4-69</td>\n",
       "      <td>IGLV4-69</td>\n",
       "      <td>ENST00000390282.2; ENSP00000374817.2; ENSG0000...</td>\n",
       "      <td>NaN</td>\n",
       "    </tr>\n",
       "    <tr>\n",
       "      <th>...</th>\n",
       "      <td>...</td>\n",
       "      <td>...</td>\n",
       "      <td>...</td>\n",
       "      <td>...</td>\n",
       "      <td>...</td>\n",
       "    </tr>\n",
       "    <tr>\n",
       "      <th>20412</th>\n",
       "      <td>U3KPV4</td>\n",
       "      <td>Alpha-1,3-galactosyltransferase 2 (EC 2.4.1.87...</td>\n",
       "      <td>A3GALT2</td>\n",
       "      <td>ENST00000442999.3; ENSP00000475261.1; ENSG0000...</td>\n",
       "      <td>127550;</td>\n",
       "    </tr>\n",
       "    <tr>\n",
       "      <th>20413</th>\n",
       "      <td>W5XKT8</td>\n",
       "      <td>Sperm acrosome membrane-associated protein 6 (...</td>\n",
       "      <td>SPACA6</td>\n",
       "      <td>ENST00000637797.2; ENSP00000490829.1; ENSG0000...</td>\n",
       "      <td>147650;</td>\n",
       "    </tr>\n",
       "    <tr>\n",
       "      <th>20414</th>\n",
       "      <td>W6CW81</td>\n",
       "      <td>Pyrin domain-containing protein 5 (Pyrin domai...</td>\n",
       "      <td>PYDC5</td>\n",
       "      <td>ENST00000696987.1; ENSP00000513023.1; ENSG0000...</td>\n",
       "      <td>107181291;</td>\n",
       "    </tr>\n",
       "    <tr>\n",
       "      <th>20415</th>\n",
       "      <td>X6R8D5</td>\n",
       "      <td>Putative uncharacterized protein CIMIP3 (Cilia...</td>\n",
       "      <td>CIMIP3</td>\n",
       "      <td>ENST00000372963.4; ENSP00000362054.3; ENSG0000...</td>\n",
       "      <td>NaN</td>\n",
       "    </tr>\n",
       "    <tr>\n",
       "      <th>20416</th>\n",
       "      <td>X6R8R1</td>\n",
       "      <td>Synaptotagmin-15B</td>\n",
       "      <td>SYT15B</td>\n",
       "      <td>ENST00000623662.4; ENSP00000485217.1; ENSG0000...</td>\n",
       "      <td>NaN</td>\n",
       "    </tr>\n",
       "  </tbody>\n",
       "</table>\n",
       "<p>20417 rows × 5 columns</p>\n",
       "</div>"
      ],
      "text/plain": [
       "            Entry                                      Protein names  \\\n",
       "0      A0A024R1R8        Translation machinery-associated protein 7B   \n",
       "1      A0A024RBG1  Diphosphoinositol polyphosphate phosphohydrola...   \n",
       "2      A0A075B6H7  Probable non-functional immunoglobulin kappa v...   \n",
       "3      A0A075B6H8  Probable non-functional immunoglobulin kappa v...   \n",
       "4      A0A075B6H9                Immunoglobulin lambda variable 4-69   \n",
       "...           ...                                                ...   \n",
       "20412      U3KPV4  Alpha-1,3-galactosyltransferase 2 (EC 2.4.1.87...   \n",
       "20413      W5XKT8  Sperm acrosome membrane-associated protein 6 (...   \n",
       "20414      W6CW81  Pyrin domain-containing protein 5 (Pyrin domai...   \n",
       "20415      X6R8D5  Putative uncharacterized protein CIMIP3 (Cilia...   \n",
       "20416      X6R8R1                                  Synaptotagmin-15B   \n",
       "\n",
       "      Gene Names                                            Ensembl  \\\n",
       "0          TMA7B  ENST00000424496.3; ENSP00000491117.1; ENSG0000...   \n",
       "1         NUDT4B  ENST00000322209.5; ENSP00000492425.1; ENSG0000...   \n",
       "2        IGKV3-7  ENST00000390247.2; ENSP00000374782.2; ENSG0000...   \n",
       "3      IGKV1D-42  ENST00000390278.3; ENSP00000374813.3; ENSG0000...   \n",
       "4       IGLV4-69  ENST00000390282.2; ENSP00000374817.2; ENSG0000...   \n",
       "...          ...                                                ...   \n",
       "20412    A3GALT2  ENST00000442999.3; ENSP00000475261.1; ENSG0000...   \n",
       "20413     SPACA6  ENST00000637797.2; ENSP00000490829.1; ENSG0000...   \n",
       "20414      PYDC5  ENST00000696987.1; ENSP00000513023.1; ENSG0000...   \n",
       "20415     CIMIP3  ENST00000372963.4; ENSP00000362054.3; ENSG0000...   \n",
       "20416     SYT15B  ENST00000623662.4; ENSP00000485217.1; ENSG0000...   \n",
       "\n",
       "           GeneID  \n",
       "0             NaN  \n",
       "1          11163;  \n",
       "2             NaN  \n",
       "3             NaN  \n",
       "4             NaN  \n",
       "...           ...  \n",
       "20412     127550;  \n",
       "20413     147650;  \n",
       "20414  107181291;  \n",
       "20415         NaN  \n",
       "20416         NaN  \n",
       "\n",
       "[20417 rows x 5 columns]"
      ]
     },
     "execution_count": 3,
     "metadata": {},
     "output_type": "execute_result"
    }
   ],
   "source": [
    "df_uniprot = pd.read_csv('uniprot.csv', dtype=str)\n",
    "df_uniprot.rename(columns={'Gene Names (primary)': 'Gene Names'}, inplace=True)\n",
    "df_uniprot"
   ]
  },
  {
   "cell_type": "markdown",
   "metadata": {},
   "source": [
    "#### Pre-processing"
   ]
  },
  {
   "cell_type": "code",
   "execution_count": 7,
   "metadata": {},
   "outputs": [
    {
     "data": {
      "application/vnd.microsoft.datawrangler.viewer.v0+json": {
       "columns": [
        {
         "name": "index",
         "rawType": "int64",
         "type": "integer"
        },
        {
         "name": "Entry",
         "rawType": "object",
         "type": "string"
        },
        {
         "name": "Protein names",
         "rawType": "object",
         "type": "string"
        },
        {
         "name": "Gene Names",
         "rawType": "object",
         "type": "unknown"
        },
        {
         "name": "GeneID",
         "rawType": "object",
         "type": "unknown"
        },
        {
         "name": "Ensembl(ENSP)",
         "rawType": "object",
         "type": "unknown"
        }
       ],
       "conversionMethod": "pd.DataFrame",
       "ref": "18a5f5e4-26a4-4619-859a-a5ba4234561f",
       "rows": [
        [
         "0",
         "A0A024R1R8",
         "Translation machinery-associated protein 7B",
         "TMA7B",
         null,
         "ENSP00000491117.1"
        ],
        [
         "1",
         "A0A024RBG1",
         "Diphosphoinositol polyphosphate phosphohydrolase NUDT4B (DIPP-2B) (EC 3.6.1.52) (Nucleoside diphosphate-linked moiety X motif 4B) (Nudix motif 4B) (Nudix hydrolase 4B)",
         "NUDT4B",
         "11163",
         "ENSP00000492425.1"
        ],
        [
         "2",
         "A0A075B6H7",
         "Probable non-functional immunoglobulin kappa variable 3-7",
         "IGKV3-7",
         null,
         "ENSP00000374782.2 ENSP00000487957.1"
        ],
        [
         "3",
         "A0A075B6H8",
         "Probable non-functional immunoglobulin kappa variable 1D-42",
         "IGKV1D-42",
         null,
         "ENSP00000374813.3"
        ],
        [
         "4",
         "A0A075B6H9",
         "Immunoglobulin lambda variable 4-69",
         "IGLV4-69",
         null,
         "ENSP00000374817.2"
        ],
        [
         "5",
         "A0A075B6I0",
         "Immunoglobulin lambda variable 8-61",
         "IGLV8-61",
         null,
         "ENSP00000374818.2"
        ],
        [
         "6",
         "A0A075B6I1",
         "Immunoglobulin lambda variable 4-60",
         "IGLV4-60",
         null,
         "ENSP00000374819.2"
        ],
        [
         "7",
         "A0A075B6I3",
         "Probable non-functional immunoglobulin lambda variable 11-55",
         "IGLV11-55",
         null,
         "ENSP00000374821.3"
        ],
        [
         "8",
         "A0A075B6I4",
         "Immunoglobulin lambda variable 10-54",
         "IGLV10-54",
         null,
         "ENSP00000374822.2"
        ],
        [
         "9",
         "A0A075B6I6",
         "Probable non-functional immunoglobulin lambda variable 1-50",
         "IGLV1-50",
         null,
         "ENSP00000374826.2"
        ],
        [
         "10",
         "A0A075B6I7",
         "Probable non-functional immunoglobulin lambda variable 5-48",
         "IGLV5-48",
         null,
         "ENSP00000374828.2"
        ],
        [
         "11",
         "A0A075B6I9",
         "Immunoglobulin lambda variable 7-46",
         "IGLV7-46",
         null,
         "ENSP00000374830.2"
        ],
        [
         "12",
         "A0A075B6J1",
         "Immunoglobulin lambda variable 5-37",
         "IGLV5-37",
         null,
         "ENSP00000374835.2 ENSP00000487591.1"
        ],
        [
         "13",
         "A0A075B6J2",
         "Probable non-functional immunoglobulin lambda variable 2-33",
         "IGLV2-33",
         null,
         "ENSP00000374837.3 ENSP00000486583.1"
        ],
        [
         "14",
         "A0A075B6J6",
         "Immunoglobulin lambda variable 3-22",
         "IGLV3-22",
         null,
         "ENSP00000374842.2"
        ],
        [
         "15",
         "A0A075B6J9",
         "Immunoglobulin lambda variable 2-18",
         "IGLV2-18",
         null,
         "ENSP00000374845.3"
        ],
        [
         "16",
         "A0A075B6K0",
         "Immunoglobulin lambda variable 3-16",
         "IGLV3-16",
         null,
         "ENSP00000374846.3"
        ],
        [
         "17",
         "A0A075B6K2",
         "Immunoglobulin lambda variable 3-12",
         "IGLV3-12",
         null,
         "ENSP00000374848.3"
        ],
        [
         "18",
         "A0A075B6K4",
         "Immunoglobulin lambda variable 3-10",
         "IGLV3-10",
         null,
         "ENSP00000374850.3"
        ],
        [
         "19",
         "A0A075B6K5",
         "Immunoglobulin lambda variable 3-9",
         "IGLV3-9",
         null,
         "ENSP00000374851.2"
        ],
        [
         "20",
         "A0A075B6K6",
         "Immunoglobulin lambda variable 4-3",
         "IGLV4-3",
         null,
         "ENSP00000374853.2"
        ],
        [
         "21",
         "A0A075B6L2",
         "Probable non-functional T cell receptor gamma variable 11",
         "TRGV11",
         null,
         "ENSP00000374863.3"
        ],
        [
         "22",
         "A0A075B6L6",
         "Probable non-functional T cell receptor beta variable 7-3",
         "TRBV7-3",
         null,
         "ENSP00000374884.3"
        ],
        [
         "23",
         "A0A075B6N1",
         "T cell receptor beta variable 19",
         "TRBV19",
         null,
         "ENSP00000374916.3"
        ],
        [
         "24",
         "A0A075B6N2",
         "T cell receptor beta variable 20-1",
         "TRBV20-1",
         null,
         "ENSP00000374917.3"
        ],
        [
         "25",
         "A0A075B6N3",
         "T cell receptor beta variable 24-1",
         "TRBV24-1",
         null,
         "ENSP00000374920.2"
        ],
        [
         "26",
         "A0A075B6N4",
         "T cell receptor beta variable 25-1",
         "TRBV25-1",
         null,
         "ENSP00000374921.3"
        ],
        [
         "27",
         "A0A075B6P5",
         "Immunoglobulin kappa variable 2-28",
         "IGKV2-28",
         null,
         "ENSP00000419353.1 ENSP00000487690.1"
        ],
        [
         "28",
         "A0A075B6Q5",
         "Immunoglobulin heavy variable 3-64",
         "IGHV3-64",
         null,
         "ENSP00000401707.2 ENSP00000488676.1"
        ],
        [
         "29",
         "A0A075B6R0",
         "T cell receptor gamma variable 2",
         "TRGV2",
         null,
         "ENSP00000404928.2"
        ],
        [
         "30",
         "A0A075B6R2",
         "Immunoglobulin heavy variable 4-4",
         "IGHV4-4",
         null,
         "ENSP00000410711.2 ENSP00000487977.1"
        ],
        [
         "31",
         "A0A075B6R9",
         "Probable non-functional immunoglobulin kappa variable 2D-24",
         "IGKV2D-24",
         null,
         "ENSP00000417136.1"
        ],
        [
         "32",
         "A0A075B6S0",
         "T cell receptor gamma joining 1",
         "TRGJ1",
         null,
         "ENSP00000420798.1"
        ],
        [
         "33",
         "A0A075B6S2",
         "Immunoglobulin kappa variable 2D-29",
         "IGKV2D-29",
         null,
         "ENSP00000417637.1"
        ],
        [
         "34",
         "A0A075B6S4",
         "Immunoglobulin kappa variable 1D-17",
         "IGKV1D-17",
         null,
         "ENSP00000418292.1"
        ],
        [
         "35",
         "A0A075B6S5",
         "Immunoglobulin kappa variable 1-27",
         "IGKV1-27",
         null,
         "ENSP00000418903.1 ENSP00000488456.1"
        ],
        [
         "36",
         "A0A075B6S6",
         "Immunoglobulin kappa variable 2D-30",
         "IGKV2D-30",
         null,
         "ENSP00000418948.1"
        ],
        [
         "37",
         "A0A075B6S9",
         "Probable non-functional immunoglobulinn kappa variable 1-37",
         "IGKV1-37",
         null,
         "ENSP00000417427.1 ENSP00000487793.1"
        ],
        [
         "38",
         "A0A075B6T6",
         "T cell receptor alpha variable 12-2",
         "TRAV12-2",
         null,
         "ENSP00000437362.1"
        ],
        [
         "39",
         "A0A075B6T7",
         "T cell receptor alpha variable 6",
         "TRAV6",
         null,
         "ENSP00000438290.1"
        ],
        [
         "40",
         "A0A075B6T8",
         "T cell receptor alpha variable 9-1",
         "TRAV9-1",
         null,
         "ENSP00000438446.1"
        ],
        [
         "41",
         "A0A075B6U4",
         "T cell receptor alpha variable 7",
         "TRAV7",
         null,
         "ENSP00000443297.1"
        ],
        [
         "42",
         "A0A075B6V5",
         "T cell receptor alpha variable 36/delta variable 7",
         "TRAV36DV7",
         null,
         "ENSP00000450804.1"
        ],
        [
         "43",
         "A0A075B6W5",
         "T cell receptor alpha variable 23/delta variable 6",
         "TRAV23DV6",
         null,
         "ENSP00000451203.1"
        ],
        [
         "44",
         "A0A075B6X5",
         "T cell receptor alpha variable 18",
         "TRAV18",
         null,
         "ENSP00000451574.1"
        ],
        [
         "45",
         "A0A075B6Y3",
         "T cell receptor alpha joining 3",
         "TRAJ3",
         null,
         "ENSP00000451699.1"
        ],
        [
         "46",
         "A0A075B6Y9",
         "T cell receptor alpha joining 42",
         "TRAJ42",
         null,
         "ENSP00000451815.1"
        ],
        [
         "47",
         "A0A075B700",
         "T cell receptor alpha joining 31",
         "TRAJ31",
         null,
         "ENSP00000452141.1"
        ],
        [
         "48",
         "A0A075B706",
         "T cell receptor delta joining 1",
         "TRDJ1",
         null,
         "ENSP00000452345.1"
        ],
        [
         "49",
         "A0A075B734",
         "Putative aquaporin-7B",
         "AQP7B",
         null,
         "ENSP00000456868.2 ENSP00000512393.1"
        ]
       ],
       "shape": {
        "columns": 5,
        "rows": 20417
       }
      },
      "text/html": [
       "<div>\n",
       "<style scoped>\n",
       "    .dataframe tbody tr th:only-of-type {\n",
       "        vertical-align: middle;\n",
       "    }\n",
       "\n",
       "    .dataframe tbody tr th {\n",
       "        vertical-align: top;\n",
       "    }\n",
       "\n",
       "    .dataframe thead th {\n",
       "        text-align: right;\n",
       "    }\n",
       "</style>\n",
       "<table border=\"1\" class=\"dataframe\">\n",
       "  <thead>\n",
       "    <tr style=\"text-align: right;\">\n",
       "      <th></th>\n",
       "      <th>Entry</th>\n",
       "      <th>Protein names</th>\n",
       "      <th>Gene Names</th>\n",
       "      <th>GeneID</th>\n",
       "      <th>Ensembl(ENSP)</th>\n",
       "    </tr>\n",
       "  </thead>\n",
       "  <tbody>\n",
       "    <tr>\n",
       "      <th>0</th>\n",
       "      <td>A0A024R1R8</td>\n",
       "      <td>Translation machinery-associated protein 7B</td>\n",
       "      <td>TMA7B</td>\n",
       "      <td>NaN</td>\n",
       "      <td>ENSP00000491117.1</td>\n",
       "    </tr>\n",
       "    <tr>\n",
       "      <th>1</th>\n",
       "      <td>A0A024RBG1</td>\n",
       "      <td>Diphosphoinositol polyphosphate phosphohydrola...</td>\n",
       "      <td>NUDT4B</td>\n",
       "      <td>11163</td>\n",
       "      <td>ENSP00000492425.1</td>\n",
       "    </tr>\n",
       "    <tr>\n",
       "      <th>2</th>\n",
       "      <td>A0A075B6H7</td>\n",
       "      <td>Probable non-functional immunoglobulin kappa v...</td>\n",
       "      <td>IGKV3-7</td>\n",
       "      <td>NaN</td>\n",
       "      <td>ENSP00000374782.2 ENSP00000487957.1</td>\n",
       "    </tr>\n",
       "    <tr>\n",
       "      <th>3</th>\n",
       "      <td>A0A075B6H8</td>\n",
       "      <td>Probable non-functional immunoglobulin kappa v...</td>\n",
       "      <td>IGKV1D-42</td>\n",
       "      <td>NaN</td>\n",
       "      <td>ENSP00000374813.3</td>\n",
       "    </tr>\n",
       "    <tr>\n",
       "      <th>4</th>\n",
       "      <td>A0A075B6H9</td>\n",
       "      <td>Immunoglobulin lambda variable 4-69</td>\n",
       "      <td>IGLV4-69</td>\n",
       "      <td>NaN</td>\n",
       "      <td>ENSP00000374817.2</td>\n",
       "    </tr>\n",
       "    <tr>\n",
       "      <th>...</th>\n",
       "      <td>...</td>\n",
       "      <td>...</td>\n",
       "      <td>...</td>\n",
       "      <td>...</td>\n",
       "      <td>...</td>\n",
       "    </tr>\n",
       "    <tr>\n",
       "      <th>20412</th>\n",
       "      <td>U3KPV4</td>\n",
       "      <td>Alpha-1,3-galactosyltransferase 2 (EC 2.4.1.87...</td>\n",
       "      <td>A3GALT2</td>\n",
       "      <td>127550</td>\n",
       "      <td>ENSP00000475261.1</td>\n",
       "    </tr>\n",
       "    <tr>\n",
       "      <th>20413</th>\n",
       "      <td>W5XKT8</td>\n",
       "      <td>Sperm acrosome membrane-associated protein 6 (...</td>\n",
       "      <td>SPACA6</td>\n",
       "      <td>147650</td>\n",
       "      <td>ENSP00000490829.1</td>\n",
       "    </tr>\n",
       "    <tr>\n",
       "      <th>20414</th>\n",
       "      <td>W6CW81</td>\n",
       "      <td>Pyrin domain-containing protein 5 (Pyrin domai...</td>\n",
       "      <td>PYDC5</td>\n",
       "      <td>107181291</td>\n",
       "      <td>ENSP00000513023.1</td>\n",
       "    </tr>\n",
       "    <tr>\n",
       "      <th>20415</th>\n",
       "      <td>X6R8D5</td>\n",
       "      <td>Putative uncharacterized protein CIMIP3 (Cilia...</td>\n",
       "      <td>CIMIP3</td>\n",
       "      <td>NaN</td>\n",
       "      <td>ENSP00000362054.3</td>\n",
       "    </tr>\n",
       "    <tr>\n",
       "      <th>20416</th>\n",
       "      <td>X6R8R1</td>\n",
       "      <td>Synaptotagmin-15B</td>\n",
       "      <td>SYT15B</td>\n",
       "      <td>NaN</td>\n",
       "      <td>ENSP00000485217.1 ENSP00000500300.1</td>\n",
       "    </tr>\n",
       "  </tbody>\n",
       "</table>\n",
       "<p>20417 rows × 5 columns</p>\n",
       "</div>"
      ],
      "text/plain": [
       "            Entry                                      Protein names  \\\n",
       "0      A0A024R1R8        Translation machinery-associated protein 7B   \n",
       "1      A0A024RBG1  Diphosphoinositol polyphosphate phosphohydrola...   \n",
       "2      A0A075B6H7  Probable non-functional immunoglobulin kappa v...   \n",
       "3      A0A075B6H8  Probable non-functional immunoglobulin kappa v...   \n",
       "4      A0A075B6H9                Immunoglobulin lambda variable 4-69   \n",
       "...           ...                                                ...   \n",
       "20412      U3KPV4  Alpha-1,3-galactosyltransferase 2 (EC 2.4.1.87...   \n",
       "20413      W5XKT8  Sperm acrosome membrane-associated protein 6 (...   \n",
       "20414      W6CW81  Pyrin domain-containing protein 5 (Pyrin domai...   \n",
       "20415      X6R8D5  Putative uncharacterized protein CIMIP3 (Cilia...   \n",
       "20416      X6R8R1                                  Synaptotagmin-15B   \n",
       "\n",
       "      Gene Names     GeneID                        Ensembl(ENSP)  \n",
       "0          TMA7B        NaN                    ENSP00000491117.1  \n",
       "1         NUDT4B      11163                    ENSP00000492425.1  \n",
       "2        IGKV3-7        NaN  ENSP00000374782.2 ENSP00000487957.1  \n",
       "3      IGKV1D-42        NaN                    ENSP00000374813.3  \n",
       "4       IGLV4-69        NaN                    ENSP00000374817.2  \n",
       "...          ...        ...                                  ...  \n",
       "20412    A3GALT2     127550                    ENSP00000475261.1  \n",
       "20413     SPACA6     147650                    ENSP00000490829.1  \n",
       "20414      PYDC5  107181291                    ENSP00000513023.1  \n",
       "20415     CIMIP3        NaN                    ENSP00000362054.3  \n",
       "20416     SYT15B        NaN  ENSP00000485217.1 ENSP00000500300.1  \n",
       "\n",
       "[20417 rows x 5 columns]"
      ]
     },
     "execution_count": 7,
     "metadata": {},
     "output_type": "execute_result"
    }
   ],
   "source": [
    "df_uniprot['GeneID'] = df_uniprot['GeneID'].str.replace(';', '', regex=False)\n",
    "\n",
    "def process_ensembl(data):\n",
    "    if pd.isna(data):\n",
    "        return data  \n",
    "\n",
    "    processed_parts = []\n",
    "    groups = data.split(';')\n",
    "    \n",
    "    for entry in groups:\n",
    "        entry = entry.strip()\n",
    "        if 'ENSP' in entry:\n",
    "            processed_parts.append(entry)\n",
    "            \n",
    "    return ' '.join(processed_parts)\n",
    "\n",
    "df_uniprot['Ensembl(ENSP)'] = df_uniprot['Ensembl'].apply(process_ensembl)\n",
    "df_uniprot.drop(columns=['Ensembl'], inplace=True)\n",
    "df_uniprot"
   ]
  },
  {
   "cell_type": "code",
   "execution_count": 8,
   "metadata": {},
   "outputs": [
    {
     "data": {
      "application/vnd.microsoft.datawrangler.viewer.v0+json": {
       "columns": [
        {
         "name": "index",
         "rawType": "int64",
         "type": "integer"
        },
        {
         "name": "Ensembl(ENSP)",
         "rawType": "object",
         "type": "unknown"
        },
        {
         "name": "Entry",
         "rawType": "object",
         "type": "string"
        },
        {
         "name": "Protein names",
         "rawType": "object",
         "type": "string"
        },
        {
         "name": "Gene Names",
         "rawType": "object",
         "type": "unknown"
        },
        {
         "name": "GeneID",
         "rawType": "object",
         "type": "unknown"
        }
       ],
       "conversionMethod": "pd.DataFrame",
       "ref": "56a9ee3d-1e44-41a7-baad-4e5725ae979d",
       "rows": [
        [
         "0",
         "ENSP00000000233.5",
         "P84085",
         "ADP-ribosylation factor 5",
         "ARF5",
         "381"
        ],
        [
         "1",
         "ENSP00000000412.3",
         "P20645",
         "Cation-dependent mannose-6-phosphate receptor (CD Man-6-P receptor) (CD-MPR) (46 kDa mannose 6-phosphate receptor) (MPR 46)",
         "M6PR",
         "4074"
        ],
        [
         "2",
         "ENSP00000000442.6",
         "P11474",
         "Steroid hormone receptor ERR1 (Estrogen receptor-like 1) (Estrogen-related receptor alpha) (ERR-alpha) (Nuclear receptor subfamily 3 group B member 1)",
         "ESRRA",
         "2101"
        ],
        [
         "3",
         "ENSP00000001008.4",
         "Q02790",
         "Peptidyl-prolyl cis-trans isomerase FKBP4 (PPIase FKBP4) (EC 5.2.1.8) (51 kDa FK506-binding protein) (FKBP51) (52 kDa FK506-binding protein) (52 kDa FKBP) (FKBP-52) (59 kDa immunophilin) (p59) (FK506-binding protein 4) (FKBP-4) (FKBP59) (HSP-binding immunophilin) (HBI) (Immunophilin FKBP52) (Rotamase) [Cleaved into: Peptidyl-prolyl cis-trans isomerase FKBP4, N-terminally processed]",
         "FKBP4",
         "2288"
        ],
        [
         "4",
         "ENSP00000001146.2",
         "Q9NR63",
         "Cytochrome P450 26B1 (EC 1.14.13.-) (Cytochrome P450 26A2) (Cytochrome P450 retinoic acid-inactivating 2) (Cytochrome P450RAI-2) (Retinoic acid-metabolizing cytochrome)",
         "CYP26B1",
         "56603"
        ],
        [
         "5",
         "ENSP00000002125.4",
         "Q7L592",
         "Protein arginine methyltransferase NDUFAF7, mitochondrial (EC 2.1.1.320) (NADH dehydrogenase [ubiquinone] complex I, assembly factor 7) (Protein midA homolog)",
         "NDUFAF7",
         "55471"
        ],
        [
         "6",
         "ENSP00000002165.5",
         "Q9BTY2",
         "Plasma alpha-L-fucosidase (EC 3.2.1.51) (Alpha-L-fucoside fucohydrolase 2) (Alpha-L-fucosidase 2)",
         "FUCA2",
         "2519"
        ],
        [
         "7",
         "ENSP00000002501.6",
         "Q9H9R9",
         "Dysbindin domain-containing protein 1",
         "DBNDD1",
         "79007"
        ],
        [
         "8",
         "ENSP00000002596.5",
         "O14792",
         "Heparan sulfate glucosamine 3-O-sulfotransferase 1 (EC 2.8.2.23) (Heparan sulfate D-glucosaminyl 3-O-sulfotransferase 1) (3-OST-1) (Heparan sulfate 3-O-sulfotransferase 1) (h3-OST-1)",
         "HS3ST1",
         "9957"
        ],
        [
         "9",
         "ENSP00000002829.3",
         "Q13275",
         "Semaphorin-3F (Sema III/F) (Semaphorin IV) (Sema IV)",
         "SEMA3F",
         "6405"
        ],
        [
         "10",
         "ENSP00000003084.6",
         "P13569",
         "Cystic fibrosis transmembrane conductance regulator (CFTR) (ATP-binding cassette sub-family C member 7) (Channel conductance-controlling ATPase) (EC 5.6.1.6) (cAMP-dependent chloride channel)",
         "CFTR",
         "1080"
        ],
        [
         "11",
         "ENSP00000003100.8",
         "Q16850",
         "Lanosterol 14-alpha demethylase (LDM) (EC 1.14.14.154) (CYPLI) (Cytochrome P450 51A1) (CYP51A1) (Cytochrome P450-14DM) (Cytochrome P45014DM) (Cytochrome P450LI) (Sterol 14-alpha demethylase)",
         "CYP51A1",
         "1595"
        ],
        [
         "12",
         "ENSP00000003302.4",
         "Q96RU2",
         "Ubiquitin carboxyl-terminal hydrolase 28 (EC 3.4.19.12) (Deubiquitinating enzyme 28) (Ubiquitin thioesterase 28) (Ubiquitin-specific-processing protease 28)",
         "USP28",
         "57646"
        ],
        [
         "13",
         "ENSP00000003583.8",
         "Q5TH74",
         "O(6)-methylguanine-induced apoptosis 2 (MAPO2) (Sperm-tail PG-rich repeat-containing protein 1)",
         "STPG1",
         "90529"
        ],
        [
         "14",
         "ENSP00000003912.3",
         "Q6P499",
         "NIPA-like protein 3",
         "NIPAL3",
         "57185"
        ],
        [
         "15",
         "ENSP00000004103.3",
         "Q96HP8",
         "Transmembrane protein 176A (Hepatocellular carcinoma-associated antigen 112)",
         "TMEM176A",
         "55365"
        ],
        [
         "16",
         "ENSP00000004531.10",
         "P52569",
         "Cationic amino acid transporter 2 (CAT-2) (CAT2) (Low affinity cationic amino acid transporter 2) (Solute carrier family 7 member 2)",
         "SLC7A2",
         "6542"
        ],
        [
         "17",
         "ENSP00000004982.3",
         "O14558",
         "Heat shock protein beta-6 (HspB6) (Heat shock 20 kDa-like protein p20) (Heat shock protein family B member 6)",
         "HSPB6",
         "126393"
        ],
        [
         "18",
         "ENSP00000005082.9",
         "O14628",
         "Zinc finger protein 195",
         "ZNF195",
         "7748"
        ],
        [
         "19",
         "ENSP00000005178.5",
         "Q16654",
         "[Pyruvate dehydrogenase (acetyl-transferring)] kinase isozyme 4, mitochondrial (EC 2.7.11.2) (Pyruvate dehydrogenase kinase isoform 4)",
         "PDK4",
         "5166"
        ],
        [
         "20",
         "ENSP00000005180.4",
         "Q9Y258",
         "C-C motif chemokine 26 (CC chemokine IMAC) (Eotaxin-3) (Macrophage inflammatory protein 4-alpha) (MIP-4-alpha) (Small-inducible cytokine A26) (Thymic stroma chemokine-1) (TSC-1)",
         "CCL26",
         "10344"
        ],
        [
         "21",
         "ENSP00000005226.7",
         "Q9Y6N9",
         "Harmonin (Antigen NY-CO-38/NY-CO-37) (Autoimmune enteropathy-related antigen AIE-75) (Protein PDZ-73) (Renal carcinoma antigen NY-REN-3) (Usher syndrome type-1C protein)",
         "USH1C",
         "10083"
        ],
        [
         "22",
         "ENSP00000005257.2",
         "P11233",
         "Ras-related protein Ral-A (EC 3.6.5.2)",
         "RALA",
         "5898"
        ],
        [
         "23",
         "ENSP00000005259.4",
         "Q9UHQ4",
         "B-cell receptor-associated protein 29 (BCR-associated protein 29) (Bap29)",
         "BCAP29",
         "55973"
        ],
        [
         "24",
         "ENSP00000005260.8",
         "Q9UHR4",
         "BAR/IMD domain-containing adapter protein 2-like 1 (Brain-specific angiogenesis inhibitor 1-associated protein 2-like protein 1) (BAI1-associated protein 2-like protein 1) (Insulin receptor tyrosine kinase substrate)",
         "BAIAP2L1",
         "55971"
        ],
        [
         "25",
         "ENSP00000005284.4",
         "O60359",
         "Voltage-dependent calcium channel gamma-3 subunit (Neuronal voltage-gated calcium channel gamma-3 subunit) (Transmembrane AMPAR regulatory protein gamma-3) (TARP gamma-3)",
         "CACNG3",
         "10368"
        ],
        [
         "26",
         "ENSP00000005286.4",
         "Q24JP5",
         "Transmembrane protein 132A (HSPA5-binding protein 1)",
         "TMEM132A",
         "54972"
        ],
        [
         "27",
         "ENSP00000005340.4",
         "O14641",
         "Segment polarity protein dishevelled homolog DVL-2 (Dishevelled-2) (DSH homolog 2)",
         "DVL2",
         "1856"
        ],
        [
         "28",
         "ENSP00000005374.6",
         "O75223",
         "Gamma-glutamylcyclotransferase (EC 4.3.2.9) (Cytochrome c-releasing factor 21)",
         "GGCT",
         "79017"
        ],
        [
         "29",
         "ENSP00000005386.3",
         "Q9H6T3",
         "RNA polymerase II-associated protein 3",
         "RPAP3",
         "79657"
        ],
        [
         "30",
         "ENSP00000005558.4",
         "O00458",
         "Interferon-related developmental regulator 1 (Nerve growth factor-inducible protein PC4)",
         "IFRD1",
         "3475"
        ],
        [
         "31",
         "ENSP00000005587.2",
         "O75563",
         "Src kinase-associated phosphoprotein 2 (Pyk2/RAFTK-associated protein) (Retinoic acid-induced protein 70) (SKAP55 homolog) (SKAP-55HOM) (SKAP-HOM) (Src family-associated phosphoprotein 2) (Src kinase-associated phosphoprotein 55-related protein) (Src-associated adapter protein with PH and SH3 domains)",
         "SKAP2",
         "8935"
        ],
        [
         "32",
         "ENSP00000005756.5",
         "O95045",
         "Uridine phosphorylase 2 (UPase 2) (UrdPase 2) (EC 2.4.2.3)",
         "UPP2",
         "151531"
        ],
        [
         "33",
         "ENSP00000005995.3",
         "Q9Y6M0",
         "Testisin (EC 3.4.21.-) (Eosinophil serine protease 1) (ESP-1) (Serine protease 21)",
         "PRSS21",
         "10942"
        ],
        [
         "34",
         "ENSP00000006015.3",
         "P31270",
         "Homeobox protein Hox-A11 (Homeobox protein Hox-1I)",
         "HOXA11",
         "3207"
        ],
        [
         "35",
         "ENSP00000006053.6",
         "P78423",
         "Fractalkine (C-X3-C motif chemokine 1) (CX3C membrane-anchored chemokine) (Neurotactin) (Small-inducible cytokine D1) [Cleaved into: Processed fractalkine]",
         "CX3CL1",
         "6376"
        ],
        [
         "36",
         "ENSP00000006251.7",
         "P85299",
         "Proline-rich protein 5 (Protein observed with Rictor-1) (Protor-1)",
         "PRR5",
         "55615"
        ],
        [
         "37",
         "ENSP00000006275.3",
         "O75865",
         "Trafficking protein particle complex subunit 6A (TRAPP complex subunit 6A)",
         "TRAPPC6A",
         "79090"
        ],
        [
         "38",
         "ENSP00000006526.6",
         "Q9H977",
         "WD repeat-containing protein 54",
         "WDR54",
         "84058"
        ],
        [
         "39",
         "ENSP00000006658.6",
         "Q8TB22",
         "Spermatogenesis-associated protein 20 (Sperm-specific protein 411) (Ssp411)",
         "SPATA20",
         "64847"
        ],
        [
         "40",
         "ENSP00000006724.3",
         "Q14002",
         "Cell adhesion molecule CEACAM7 (Carcinoembryonic antigen CGM2) (Carcinoembryonic antigen-related cell adhesion molecule 7) (CEA cell adhesion molecule 7)",
         "CEACAM7",
         "1087"
        ],
        [
         "41",
         "ENSP00000006750.4",
         "P40259",
         "B-cell antigen receptor complex-associated protein beta chain (B-cell-specific glycoprotein B29) (Ig-beta) (Immunoglobulin-associated B29 protein) (CD antigen CD79b)",
         "CD79B",
         "974"
        ],
        [
         "42",
         "ENSP00000006777.6",
         "Q6NTF9",
         "Rhomboid domain-containing protein 2",
         "RHBDD2",
         "57414"
        ],
        [
         "43",
         "ENSP00000007264.2",
         "Q9UJJ7",
         "RNA pseudouridylate synthase domain-containing protein 1 (Ribosomal large subunit pseudouridine synthase C-like protein)",
         "RPUSD1",
         "113000"
        ],
        [
         "44",
         "ENSP00000007390.2",
         "Q9UJK0",
         "18S rRNA aminocarboxypropyltransferase (EC 2.5.1.157) (20S S rRNA accumulation protein 3 homolog) (HsTsr3)",
         "TSR3",
         "115939"
        ],
        [
         "45",
         "ENSP00000007414.3",
         "Q9BZF2",
         "Oxysterol-binding protein-related protein 7 (ORP-7) (OSBP-related protein 7)",
         "OSBPL7",
         "114881"
        ],
        [
         "46",
         "ENSP00000007510.6",
         "O14559",
         "Rho GTPase-activating protein 33 (Rho-type GTPase-activating protein 33) (Sorting nexin-26) (Tc10/CDC42 GTPase-activating protein)",
         "ARHGAP33",
         "115703"
        ],
        [
         "47",
         "ENSP00000007516.2",
         "O14561",
         "Acyl carrier protein, mitochondrial (ACP) (CI-SDAP) (NADH-ubiquinone oxidoreductase 9.6 kDa subunit)",
         "NDUFAB1",
         "4706"
        ],
        [
         "48",
         "ENSP00000007699.5",
         "Q9Y2T7",
         "Y-box-binding protein 2 (Contrin) (DNA-binding protein C) (Dbpc) (Germ cell-specific Y-box-binding protein) (MSY2 homolog)",
         "YBX2",
         "51087"
        ],
        [
         "49",
         "ENSP00000007708.3",
         "Q15119",
         "[Pyruvate dehydrogenase (acetyl-transferring)] kinase isozyme 2, mitochondrial (EC 2.7.11.2) (Pyruvate dehydrogenase kinase isoform 2) (PDH kinase 2) (PDKII)",
         "PDK2",
         "5164"
        ]
       ],
       "shape": {
        "columns": 5,
        "rows": 51853
       }
      },
      "text/html": [
       "<div>\n",
       "<style scoped>\n",
       "    .dataframe tbody tr th:only-of-type {\n",
       "        vertical-align: middle;\n",
       "    }\n",
       "\n",
       "    .dataframe tbody tr th {\n",
       "        vertical-align: top;\n",
       "    }\n",
       "\n",
       "    .dataframe thead th {\n",
       "        text-align: right;\n",
       "    }\n",
       "</style>\n",
       "<table border=\"1\" class=\"dataframe\">\n",
       "  <thead>\n",
       "    <tr style=\"text-align: right;\">\n",
       "      <th></th>\n",
       "      <th>Ensembl(ENSP)</th>\n",
       "      <th>Entry</th>\n",
       "      <th>Protein names</th>\n",
       "      <th>Gene Names</th>\n",
       "      <th>GeneID</th>\n",
       "    </tr>\n",
       "  </thead>\n",
       "  <tbody>\n",
       "    <tr>\n",
       "      <th>0</th>\n",
       "      <td>ENSP00000000233.5</td>\n",
       "      <td>P84085</td>\n",
       "      <td>ADP-ribosylation factor 5</td>\n",
       "      <td>ARF5</td>\n",
       "      <td>381</td>\n",
       "    </tr>\n",
       "    <tr>\n",
       "      <th>1</th>\n",
       "      <td>ENSP00000000412.3</td>\n",
       "      <td>P20645</td>\n",
       "      <td>Cation-dependent mannose-6-phosphate receptor ...</td>\n",
       "      <td>M6PR</td>\n",
       "      <td>4074</td>\n",
       "    </tr>\n",
       "    <tr>\n",
       "      <th>2</th>\n",
       "      <td>ENSP00000000442.6</td>\n",
       "      <td>P11474</td>\n",
       "      <td>Steroid hormone receptor ERR1 (Estrogen recept...</td>\n",
       "      <td>ESRRA</td>\n",
       "      <td>2101</td>\n",
       "    </tr>\n",
       "    <tr>\n",
       "      <th>3</th>\n",
       "      <td>ENSP00000001008.4</td>\n",
       "      <td>Q02790</td>\n",
       "      <td>Peptidyl-prolyl cis-trans isomerase FKBP4 (PPI...</td>\n",
       "      <td>FKBP4</td>\n",
       "      <td>2288</td>\n",
       "    </tr>\n",
       "    <tr>\n",
       "      <th>4</th>\n",
       "      <td>ENSP00000001146.2</td>\n",
       "      <td>Q9NR63</td>\n",
       "      <td>Cytochrome P450 26B1 (EC 1.14.13.-) (Cytochrom...</td>\n",
       "      <td>CYP26B1</td>\n",
       "      <td>56603</td>\n",
       "    </tr>\n",
       "    <tr>\n",
       "      <th>...</th>\n",
       "      <td>...</td>\n",
       "      <td>...</td>\n",
       "      <td>...</td>\n",
       "      <td>...</td>\n",
       "      <td>...</td>\n",
       "    </tr>\n",
       "    <tr>\n",
       "      <th>51848</th>\n",
       "      <td>NaN</td>\n",
       "      <td>Q9Y6J3</td>\n",
       "      <td>SMAD5 antisense gene protein 1 (10.3 kDa proli...</td>\n",
       "      <td>SMAD5-AS1</td>\n",
       "      <td>NaN</td>\n",
       "    </tr>\n",
       "    <tr>\n",
       "      <th>51849</th>\n",
       "      <td>NaN</td>\n",
       "      <td>Q9Y6Z4</td>\n",
       "      <td>Putative uncharacterized protein KIF25-AS1 (KI...</td>\n",
       "      <td>KIF25-AS1</td>\n",
       "      <td>NaN</td>\n",
       "    </tr>\n",
       "    <tr>\n",
       "      <th>51850</th>\n",
       "      <td>NaN</td>\n",
       "      <td>Q9YNA8</td>\n",
       "      <td>Endogenous retrovirus group K member 19 Gag po...</td>\n",
       "      <td>ERVK-19</td>\n",
       "      <td>NaN</td>\n",
       "    </tr>\n",
       "    <tr>\n",
       "      <th>51851</th>\n",
       "      <td>NaN</td>\n",
       "      <td>S4R3P1</td>\n",
       "      <td>Humanin-like 13 (HN13) (MT-RNR2-like protein 13)</td>\n",
       "      <td>MTRNR2L13</td>\n",
       "      <td>NaN</td>\n",
       "    </tr>\n",
       "    <tr>\n",
       "      <th>51852</th>\n",
       "      <td>NaN</td>\n",
       "      <td>S4R3Y5</td>\n",
       "      <td>Humanin-like 11 (HN11) (MT-RNR2-like protein 11)</td>\n",
       "      <td>MTRNR2L11</td>\n",
       "      <td>NaN</td>\n",
       "    </tr>\n",
       "  </tbody>\n",
       "</table>\n",
       "<p>51853 rows × 5 columns</p>\n",
       "</div>"
      ],
      "text/plain": [
       "           Ensembl(ENSP)   Entry  \\\n",
       "0      ENSP00000000233.5  P84085   \n",
       "1      ENSP00000000412.3  P20645   \n",
       "2      ENSP00000000442.6  P11474   \n",
       "3      ENSP00000001008.4  Q02790   \n",
       "4      ENSP00000001146.2  Q9NR63   \n",
       "...                  ...     ...   \n",
       "51848                NaN  Q9Y6J3   \n",
       "51849                NaN  Q9Y6Z4   \n",
       "51850                NaN  Q9YNA8   \n",
       "51851                NaN  S4R3P1   \n",
       "51852                NaN  S4R3Y5   \n",
       "\n",
       "                                           Protein names Gene Names GeneID  \n",
       "0                              ADP-ribosylation factor 5       ARF5    381  \n",
       "1      Cation-dependent mannose-6-phosphate receptor ...       M6PR   4074  \n",
       "2      Steroid hormone receptor ERR1 (Estrogen recept...      ESRRA   2101  \n",
       "3      Peptidyl-prolyl cis-trans isomerase FKBP4 (PPI...      FKBP4   2288  \n",
       "4      Cytochrome P450 26B1 (EC 1.14.13.-) (Cytochrom...    CYP26B1  56603  \n",
       "...                                                  ...        ...    ...  \n",
       "51848  SMAD5 antisense gene protein 1 (10.3 kDa proli...  SMAD5-AS1    NaN  \n",
       "51849  Putative uncharacterized protein KIF25-AS1 (KI...  KIF25-AS1    NaN  \n",
       "51850  Endogenous retrovirus group K member 19 Gag po...    ERVK-19    NaN  \n",
       "51851   Humanin-like 13 (HN13) (MT-RNR2-like protein 13)  MTRNR2L13    NaN  \n",
       "51852   Humanin-like 11 (HN11) (MT-RNR2-like protein 11)  MTRNR2L11    NaN  \n",
       "\n",
       "[51853 rows x 5 columns]"
      ]
     },
     "execution_count": 8,
     "metadata": {},
     "output_type": "execute_result"
    }
   ],
   "source": [
    "df_uniprot_protein = df_uniprot.drop(['Ensembl(ENSP)'], axis=1).join(df_uniprot['Ensembl(ENSP)'].str.split(' ', expand=True).stack().reset_index(level=1, drop=True).rename('Ensembl(ENSP)'))\n",
    "\n",
    "df_uniprot_protein_not_null = df_uniprot_protein[df_uniprot_protein['Ensembl(ENSP)'].notnull()]\n",
    "df_uniprot_protein_null = df_uniprot_protein[df_uniprot_protein['Ensembl(ENSP)'].isnull()]\n",
    "\n",
    "aggregated_data = df_uniprot_protein_not_null.groupby('Ensembl(ENSP)', dropna=True).agg({\n",
    "    'Entry': lambda x: ';'.join(x.dropna().unique()),\n",
    "    'Protein names': lambda x: ';'.join(x.dropna().unique()),\n",
    "    'Gene Names': lambda x: ';'.join(x.dropna().unique()),\n",
    "    'GeneID': lambda x: ';'.join(x.dropna().unique())\n",
    "}).reset_index()\n",
    "\n",
    "df_uniprot_protein_ensemblunique = pd.concat([aggregated_data, df_uniprot_protein_null], ignore_index=True)\n",
    "df_uniprot_protein_ensemblunique"
   ]
  },
  {
   "cell_type": "markdown",
   "metadata": {},
   "source": [
    "### 2.3 RefSeq data"
   ]
  },
  {
   "cell_type": "markdown",
   "metadata": {},
   "source": [
    "RefSeq and UniProt"
   ]
  },
  {
   "cell_type": "code",
   "execution_count": 12,
   "metadata": {},
   "outputs": [
    {
     "data": {
      "application/vnd.microsoft.datawrangler.viewer.v0+json": {
       "columns": [
        {
         "name": "index",
         "rawType": "int64",
         "type": "integer"
        },
        {
         "name": "Uniprot ID",
         "rawType": "object",
         "type": "string"
        },
        {
         "name": "RefSeq ID",
         "rawType": "object",
         "type": "string"
        }
       ],
       "conversionMethod": "pd.DataFrame",
       "ref": "d3325d75-dc63-47a5-8603-19b477ff1908",
       "rows": [
        [
         "0",
         "A0A023HHK9",
         "NP_085128.2"
        ],
        [
         "1",
         "A0A023HHL0",
         "NP_085128.2"
        ],
        [
         "2",
         "A0A023IN41",
         "NP_001186551.1"
        ],
        [
         "3",
         "A0A023T695",
         "XP_016868347;XP_016868348;XP_016868349;XP_016868350;XP_047277052.1;XP_054215426.1"
        ],
        [
         "4",
         "A0A023T6R1",
         "NP_060518.1"
        ],
        [
         "5",
         "A0A023T787",
         "NP_005096.1"
        ],
        [
         "6",
         "A0A024QY88",
         "NP_039252.2"
        ],
        [
         "7",
         "A0A024QYR3",
         "NP_055557.2"
        ],
        [
         "8",
         "A0A024QYR8",
         "NP_004791.1"
        ],
        [
         "9",
         "A0A024QYS2",
         "NP_064508.3"
        ],
        [
         "10",
         "A0A024QYW1",
         "XP_005276759"
        ],
        [
         "11",
         "A0A024QYX0",
         "NP_006570.1"
        ],
        [
         "12",
         "A0A024QYX2",
         "XP_006721114;XP_006721115"
        ],
        [
         "13",
         "A0A024QYX5",
         "NP_036412.1;XP_024308127.1;XP_054182713.1"
        ],
        [
         "14",
         "A0A024QYY3",
         "XP_005256782;XP_005256783;XP_016880354;XP_016880355;XP_016880356"
        ],
        [
         "15",
         "A0A024QYY4",
         "XP_005273028"
        ],
        [
         "16",
         "A0A024QYZ6",
         "XP_016864492;XP_016864493"
        ],
        [
         "17",
         "A0A024QZ13",
         "NP_001317095.1"
        ],
        [
         "18",
         "A0A024QZ18",
         "XP_005278121;XP_005278122;XP_011542287;XP_011542288;XP_011542289"
        ],
        [
         "19",
         "A0A024QZ33",
         "NP_001248396.1;XP_016880699;XP_016880700;XP_016880701;XP_016880702;XP_016880703;XP_016880704;XP_047292875.1;XP_047292876.1;XP_047292877.1;XP_054173512.1;XP_054173513.1;XP_054173514.1"
        ],
        [
         "20",
         "A0A024QZ35",
         "XP_016859901"
        ],
        [
         "21",
         "A0A024QZ37",
         "NP_005257.2;NP_859054.1"
        ],
        [
         "22",
         "A0A024QZ42",
         "NP_001254487.1"
        ],
        [
         "23",
         "A0A024QZ45",
         "NP_114432.2;XP_047292847.1;XP_047292848.1"
        ],
        [
         "24",
         "A0A024QZ48",
         "NP_001317346"
        ],
        [
         "25",
         "A0A024QZ60",
         "XP_016880320;XP_016880321;XP_016880322;XP_016880323"
        ],
        [
         "26",
         "A0A024QZ64",
         "NP_005156.1;XP_005258006.1;XP_011522858.1;XP_054171518.1;XP_054171519.1"
        ],
        [
         "27",
         "A0A024QZ70",
         "XP_011523362"
        ],
        [
         "28",
         "A0A024QZ77",
         "NP_077305.2"
        ],
        [
         "29",
         "A0A024QZ87",
         "XP_011521204;XP_011521205"
        ],
        [
         "30",
         "A0A024QZ90",
         "XP_006721190;XP_016878379"
        ],
        [
         "31",
         "A0A024QZB0",
         "XP_006710761"
        ],
        [
         "32",
         "A0A024QZC1",
         "NP_001230575.1;NP_006101.1"
        ],
        [
         "33",
         "A0A024QZD2",
         "XP_016878603;XP_016878604;XP_016878605"
        ],
        [
         "34",
         "A0A024QZD3",
         "XP_006723167"
        ],
        [
         "35",
         "A0A024QZE3",
         "XP_005258562;XP_005258563;XP_011524740;XP_011524741"
        ],
        [
         "36",
         "A0A024QZE4",
         "XP_005259019;XP_006723295;XP_011525312"
        ],
        [
         "37",
         "A0A024QZG0",
         "NP_001273501.1;NP_055586.1"
        ],
        [
         "38",
         "A0A024QZG6",
         "NP_001311387.1;NP_001311388.1;NP_037424.2"
        ],
        [
         "39",
         "A0A024QZH5",
         "XP_011525435"
        ],
        [
         "40",
         "A0A024QZI2",
         "NP_001129491.1;NP_004098.1;XP_054176174.1"
        ],
        [
         "41",
         "A0A024QZJ4",
         "NP_002465.1"
        ],
        [
         "42",
         "A0A024QZJ5",
         "XP_016871649"
        ],
        [
         "43",
         "A0A024QZK5",
         "NP_071412.2;XP_005270085.1;XP_054222508.1"
        ],
        [
         "44",
         "A0A024QZK8",
         "XP_016871657"
        ],
        [
         "45",
         "A0A024QZL0",
         "XP_016871325"
        ],
        [
         "46",
         "A0A024QZL4",
         "XP_006718147;XP_016872490"
        ],
        [
         "47",
         "A0A024QZM0",
         "XP_006717936"
        ],
        [
         "48",
         "A0A024QZM7",
         "XP_005269777"
        ],
        [
         "49",
         "A0A024QZM9",
         "NP_002649"
        ]
       ],
       "shape": {
        "columns": 2,
        "rows": 99776
       }
      },
      "text/html": [
       "<div>\n",
       "<style scoped>\n",
       "    .dataframe tbody tr th:only-of-type {\n",
       "        vertical-align: middle;\n",
       "    }\n",
       "\n",
       "    .dataframe tbody tr th {\n",
       "        vertical-align: top;\n",
       "    }\n",
       "\n",
       "    .dataframe thead th {\n",
       "        text-align: right;\n",
       "    }\n",
       "</style>\n",
       "<table border=\"1\" class=\"dataframe\">\n",
       "  <thead>\n",
       "    <tr style=\"text-align: right;\">\n",
       "      <th></th>\n",
       "      <th>Uniprot ID</th>\n",
       "      <th>RefSeq ID</th>\n",
       "    </tr>\n",
       "  </thead>\n",
       "  <tbody>\n",
       "    <tr>\n",
       "      <th>0</th>\n",
       "      <td>A0A023HHK9</td>\n",
       "      <td>NP_085128.2</td>\n",
       "    </tr>\n",
       "    <tr>\n",
       "      <th>1</th>\n",
       "      <td>A0A023HHL0</td>\n",
       "      <td>NP_085128.2</td>\n",
       "    </tr>\n",
       "    <tr>\n",
       "      <th>2</th>\n",
       "      <td>A0A023IN41</td>\n",
       "      <td>NP_001186551.1</td>\n",
       "    </tr>\n",
       "    <tr>\n",
       "      <th>3</th>\n",
       "      <td>A0A023T695</td>\n",
       "      <td>XP_016868347;XP_016868348;XP_016868349;XP_0168...</td>\n",
       "    </tr>\n",
       "    <tr>\n",
       "      <th>4</th>\n",
       "      <td>A0A023T6R1</td>\n",
       "      <td>NP_060518.1</td>\n",
       "    </tr>\n",
       "    <tr>\n",
       "      <th>...</th>\n",
       "      <td>...</td>\n",
       "      <td>...</td>\n",
       "    </tr>\n",
       "    <tr>\n",
       "      <th>99771</th>\n",
       "      <td>X6RGR3</td>\n",
       "      <td>NP_001353609.1</td>\n",
       "    </tr>\n",
       "    <tr>\n",
       "      <th>99772</th>\n",
       "      <td>X6RLR1</td>\n",
       "      <td>NP_001268356.1</td>\n",
       "    </tr>\n",
       "    <tr>\n",
       "      <th>99773</th>\n",
       "      <td>X6RLX0</td>\n",
       "      <td>XP_016874551.1;XP_054227478.1</td>\n",
       "    </tr>\n",
       "    <tr>\n",
       "      <th>99774</th>\n",
       "      <td>X6RM00</td>\n",
       "      <td>XP_047284540.1;XP_054227509.1</td>\n",
       "    </tr>\n",
       "    <tr>\n",
       "      <th>99775</th>\n",
       "      <td>X6RM59</td>\n",
       "      <td>NP_001002010.2</td>\n",
       "    </tr>\n",
       "  </tbody>\n",
       "</table>\n",
       "<p>99776 rows × 2 columns</p>\n",
       "</div>"
      ],
      "text/plain": [
       "       Uniprot ID                                          RefSeq ID\n",
       "0      A0A023HHK9                                        NP_085128.2\n",
       "1      A0A023HHL0                                        NP_085128.2\n",
       "2      A0A023IN41                                     NP_001186551.1\n",
       "3      A0A023T695  XP_016868347;XP_016868348;XP_016868349;XP_0168...\n",
       "4      A0A023T6R1                                        NP_060518.1\n",
       "...           ...                                                ...\n",
       "99771      X6RGR3                                     NP_001353609.1\n",
       "99772      X6RLR1                                     NP_001268356.1\n",
       "99773      X6RLX0                      XP_016874551.1;XP_054227478.1\n",
       "99774      X6RM00                      XP_047284540.1;XP_054227509.1\n",
       "99775      X6RM59                                     NP_001002010.2\n",
       "\n",
       "[99776 rows x 2 columns]"
      ]
     },
     "execution_count": 12,
     "metadata": {},
     "output_type": "execute_result"
    }
   ],
   "source": [
    "df_refseq_uniprot_human = pd.read_csv('refseq_uniprot_human.csv')\n",
    "\n",
    "df_refseq_uniprot_filter = df_refseq_uniprot_human[df_refseq_uniprot_human['method'] != 'similar']\n",
    "df_refseq_uniprot_filter.reset_index(drop=True, inplace=True)\n",
    "df_refseq_uniprot_filter = df_refseq_uniprot_filter.drop(columns=['NCBI_tax_id', 'UniProtKB_tax_id', 'method'])\n",
    "df_refseq_uniprot_filter.rename(columns={'NCBI_protein_accession': 'RefSeq ID', 'UniProtKB_protein_accession': 'Uniprot ID'}, inplace=True)\n",
    "\n",
    "df_refseq_uniprot_filter = df_refseq_uniprot_filter.groupby('Uniprot ID').agg({\n",
    "    'RefSeq ID': lambda x: ';'.join(x.unique())\n",
    "}).reset_index()\n",
    "df_refseq_uniprot_filter"
   ]
  },
  {
   "cell_type": "markdown",
   "metadata": {},
   "source": [
    "RefSeq and Ensembl"
   ]
  },
  {
   "cell_type": "code",
   "execution_count": 13,
   "metadata": {},
   "outputs": [
    {
     "name": "stderr",
     "output_type": "stream",
     "text": [
      "C:\\Users\\shunn\\AppData\\Local\\Temp\\ipykernel_14744\\3315952440.py:3: SettingWithCopyWarning: \n",
      "A value is trying to be set on a copy of a slice from a DataFrame\n",
      "\n",
      "See the caveats in the documentation: https://pandas.pydata.org/pandas-docs/stable/user_guide/indexing.html#returning-a-view-versus-a-copy\n",
      "  df_refseq_ensembl_human.replace('-', pd.NA, inplace=True)\n"
     ]
    },
    {
     "data": {
      "application/vnd.microsoft.datawrangler.viewer.v0+json": {
       "columns": [
        {
         "name": "index",
         "rawType": "int64",
         "type": "integer"
        },
        {
         "name": "RefSeq ID",
         "rawType": "object",
         "type": "string"
        },
        {
         "name": "Ensembl version",
         "rawType": "object",
         "type": "string"
        },
        {
         "name": "GeneID",
         "rawType": "int64",
         "type": "integer"
        }
       ],
       "conversionMethod": "pd.DataFrame",
       "ref": "c92b24d7-ff78-41eb-9b41-fe3aa611d12f",
       "rows": [
        [
         "4267166",
         "NP_570602.2",
         "ENSP00000263100.2",
         "1"
        ],
        [
         "4267167",
         "NP_000005.3",
         "ENSP00000323929.8",
         "2"
        ],
        [
         "4267169",
         "NP_000653.3",
         "ENSP00000307218.4",
         "9"
        ],
        [
         "4267170",
         "NP_001153643.1",
         "ENSP00000428270.1",
         "9"
        ],
        [
         "4267171",
         "NP_001153646.1",
         "ENSP00000429341.1",
         "9"
        ],
        [
         "4267172",
         "NP_001153647.1",
         "ENSP00000443194.1",
         "9"
        ],
        [
         "4267173",
         "NP_000006.2",
         "ENSP00000286479.3",
         "10"
        ],
        [
         "4267174",
         "NP_001076.2",
         "ENSP00000376793.3",
         "12"
        ],
        [
         "4267175",
         "NP_001077.2",
         "ENSP00000232892.6",
         "13"
        ],
        [
         "4267176",
         "NP_001078.2",
         "ENSP00000248450.4",
         "14"
        ],
        [
         "4267177",
         "NP_001289474.1",
         "ENSP00000403343.1",
         "14"
        ],
        [
         "4267178",
         "NP_001079.1",
         "ENSP00000376282.2",
         "15"
        ],
        [
         "4267179",
         "NP_001160051.1",
         "ENSP00000250615.2",
         "15"
        ],
        [
         "4267180",
         "NP_001596.2",
         "ENSP00000261772.8",
         "16"
        ],
        [
         "4267181",
         "XP_047289622.1",
         "ENSP00000502479.1",
         "16"
        ],
        [
         "4267182",
         "NP_000654.2",
         "ENSP00000379845.2",
         "18"
        ],
        [
         "4267183",
         "NP_001120920.1",
         "ENSP00000411916.2",
         "18"
        ],
        [
         "4267184",
         "NP_001373545.1",
         "ENSP00000454963.1",
         "18"
        ],
        [
         "4267185",
         "NP_065737.2",
         "ENSP00000268251.8",
         "18"
        ],
        [
         "4267186",
         "NP_005493.2",
         "ENSP00000363868.3",
         "19"
        ],
        [
         "4267187",
         "NP_001397971.1",
         "ENSP00000360666.3",
         "20"
        ],
        [
         "4267188",
         "NP_001597.2",
         "ENSP00000344155.6",
         "20"
        ],
        [
         "4267189",
         "NP_997698.1",
         "ENSP00000481105.2",
         "20"
        ],
        [
         "4267191",
         "NP_001080.2",
         "ENSP00000301732.5",
         "21"
        ],
        [
         "4267192",
         "NP_001258625.1",
         "ENSP00000362492.3",
         "22"
        ],
        [
         "4267193",
         "NP_001258626.1",
         "ENSP00000343849.4",
         "22"
        ],
        [
         "4267194",
         "NP_001258627.1",
         "ENSP00000436586.1",
         "22"
        ],
        [
         "4267195",
         "NP_001258628.1",
         "ENSP00000479985.1",
         "22"
        ],
        [
         "4267196",
         "NP_004290.2",
         "ENSP00000253577.3",
         "22"
        ],
        [
         "4267197",
         "NP_001020262.1",
         "ENSP00000313603.8",
         "23"
        ],
        [
         "4267198",
         "NP_001081.1",
         "ENSP00000365728.3",
         "23"
        ],
        [
         "4267199",
         "NP_000341.2",
         "ENSP00000359245.3",
         "24"
        ],
        [
         "4267200",
         "NP_005148.2",
         "ENSP00000323315.5",
         "25"
        ],
        [
         "4267201",
         "NP_009297.2",
         "ENSP00000361423.2",
         "25"
        ],
        [
         "4267202",
         "NP_001082.2",
         "ENSP00000354193.4",
         "26"
        ],
        [
         "4267203",
         "NP_001259001.1",
         "ENSP00000411613.2",
         "26"
        ],
        [
         "4267204",
         "XP_047276084.1",
         "ENSP00000418328.1",
         "26"
        ],
        [
         "4267205",
         "NP_001129472.1",
         "ENSP00000339209.3",
         "27"
        ],
        [
         "4267207",
         "NP_001161708.1",
         "ENSP00000356595.4",
         "27"
        ],
        [
         "4267208",
         "NP_001161709.1",
         "ENSP00000424697.1",
         "27"
        ],
        [
         "4267209",
         "NP_001161710.1",
         "ENSP00000423413.1",
         "27"
        ],
        [
         "4267210",
         "NP_001161711.1",
         "ENSP00000426831.1",
         "27"
        ],
        [
         "4267211",
         "NP_005149.4",
         "ENSP00000423578.1",
         "27"
        ],
        [
         "4267212",
         "NP_009298.1",
         "ENSP00000427562.1",
         "27"
        ],
        [
         "4267214",
         "NP_001083.2",
         "ENSP00000291107.2",
         "29"
        ],
        [
         "4267215",
         "NP_001153218.1",
         "ENSP00000442048.2",
         "29"
        ],
        [
         "4267216",
         "NP_001243776.1",
         "ENSP00000445198.2",
         "29"
        ],
        [
         "4267217",
         "NP_001269078.1",
         "ENSP00000437429.2",
         "29"
        ],
        [
         "4267218",
         "NP_001309769.1",
         "ENSP00000461565.2",
         "29"
        ],
        [
         "4267219",
         "NP_001309770.1",
         "ENSP00000461629.3",
         "29"
        ]
       ],
       "shape": {
        "columns": 3,
        "rows": 47223
       }
      },
      "text/html": [
       "<div>\n",
       "<style scoped>\n",
       "    .dataframe tbody tr th:only-of-type {\n",
       "        vertical-align: middle;\n",
       "    }\n",
       "\n",
       "    .dataframe tbody tr th {\n",
       "        vertical-align: top;\n",
       "    }\n",
       "\n",
       "    .dataframe thead th {\n",
       "        text-align: right;\n",
       "    }\n",
       "</style>\n",
       "<table border=\"1\" class=\"dataframe\">\n",
       "  <thead>\n",
       "    <tr style=\"text-align: right;\">\n",
       "      <th></th>\n",
       "      <th>RefSeq ID</th>\n",
       "      <th>Ensembl version</th>\n",
       "      <th>GeneID</th>\n",
       "    </tr>\n",
       "  </thead>\n",
       "  <tbody>\n",
       "    <tr>\n",
       "      <th>4267166</th>\n",
       "      <td>NP_570602.2</td>\n",
       "      <td>ENSP00000263100.2</td>\n",
       "      <td>1</td>\n",
       "    </tr>\n",
       "    <tr>\n",
       "      <th>4267167</th>\n",
       "      <td>NP_000005.3</td>\n",
       "      <td>ENSP00000323929.8</td>\n",
       "      <td>2</td>\n",
       "    </tr>\n",
       "    <tr>\n",
       "      <th>4267169</th>\n",
       "      <td>NP_000653.3</td>\n",
       "      <td>ENSP00000307218.4</td>\n",
       "      <td>9</td>\n",
       "    </tr>\n",
       "    <tr>\n",
       "      <th>4267170</th>\n",
       "      <td>NP_001153643.1</td>\n",
       "      <td>ENSP00000428270.1</td>\n",
       "      <td>9</td>\n",
       "    </tr>\n",
       "    <tr>\n",
       "      <th>4267171</th>\n",
       "      <td>NP_001153646.1</td>\n",
       "      <td>ENSP00000429341.1</td>\n",
       "      <td>9</td>\n",
       "    </tr>\n",
       "    <tr>\n",
       "      <th>...</th>\n",
       "      <td>...</td>\n",
       "      <td>...</td>\n",
       "      <td>...</td>\n",
       "    </tr>\n",
       "    <tr>\n",
       "      <th>4336078</th>\n",
       "      <td>NP_001381078.1</td>\n",
       "      <td>ENSP00000518845.1</td>\n",
       "      <td>128706666</td>\n",
       "    </tr>\n",
       "    <tr>\n",
       "      <th>4336079</th>\n",
       "      <td>NP_001007272.1</td>\n",
       "      <td>ENSP00000518853.1</td>\n",
       "      <td>128854680</td>\n",
       "    </tr>\n",
       "    <tr>\n",
       "      <th>4336093</th>\n",
       "      <td>NP_001410765.1</td>\n",
       "      <td>ENSP00000370908.2</td>\n",
       "      <td>131675794</td>\n",
       "    </tr>\n",
       "    <tr>\n",
       "      <th>4336094</th>\n",
       "      <td>NP_001380963.1</td>\n",
       "      <td>ENSP00000520497.1</td>\n",
       "      <td>131768270</td>\n",
       "    </tr>\n",
       "    <tr>\n",
       "      <th>4336097</th>\n",
       "      <td>NP_001171709.1</td>\n",
       "      <td>ENSP00000515387.1</td>\n",
       "      <td>134826889</td>\n",
       "    </tr>\n",
       "  </tbody>\n",
       "</table>\n",
       "<p>47223 rows × 3 columns</p>\n",
       "</div>"
      ],
      "text/plain": [
       "              RefSeq ID    Ensembl version     GeneID\n",
       "4267166     NP_570602.2  ENSP00000263100.2          1\n",
       "4267167     NP_000005.3  ENSP00000323929.8          2\n",
       "4267169     NP_000653.3  ENSP00000307218.4          9\n",
       "4267170  NP_001153643.1  ENSP00000428270.1          9\n",
       "4267171  NP_001153646.1  ENSP00000429341.1          9\n",
       "...                 ...                ...        ...\n",
       "4336078  NP_001381078.1  ENSP00000518845.1  128706666\n",
       "4336079  NP_001007272.1  ENSP00000518853.1  128854680\n",
       "4336093  NP_001410765.1  ENSP00000370908.2  131675794\n",
       "4336094  NP_001380963.1  ENSP00000520497.1  131768270\n",
       "4336097  NP_001171709.1  ENSP00000515387.1  134826889\n",
       "\n",
       "[47223 rows x 3 columns]"
      ]
     },
     "execution_count": 13,
     "metadata": {},
     "output_type": "execute_result"
    }
   ],
   "source": [
    "df_refseq_ensembl_raw = pd.read_csv('gene2ensembl', sep='\\t')\n",
    "df_refseq_ensembl_human = df_refseq_ensembl_raw[df_refseq_ensembl_raw['#tax_id'] == 9606]\n",
    "df_refseq_ensembl_human.replace('-', pd.NA, inplace=True)\n",
    "#keep only protein data\n",
    "df_refseq_ensembl = df_refseq_ensembl_human[['protein_accession.version', 'Ensembl_protein_identifier', 'GeneID']]\n",
    "#drop rows with both column has \"-\"\n",
    "df_refseq_ensembl = df_refseq_ensembl.dropna(subset=['protein_accession.version', 'Ensembl_protein_identifier'])\n",
    "df_refseq_ensembl.rename(columns={'protein_accession.version': 'RefSeq ID', 'Ensembl_protein_identifier': 'Ensembl version'}, inplace=True)\n",
    "df_refseq_ensembl"
   ]
  },
  {
   "cell_type": "code",
   "execution_count": 14,
   "metadata": {},
   "outputs": [
    {
     "data": {
      "application/vnd.microsoft.datawrangler.viewer.v0+json": {
       "columns": [
        {
         "name": "index",
         "rawType": "int64",
         "type": "integer"
        },
        {
         "name": "Ensembl version",
         "rawType": "object",
         "type": "string"
        },
        {
         "name": "RefSeq ID",
         "rawType": "object",
         "type": "string"
        },
        {
         "name": "GeneID",
         "rawType": "object",
         "type": "string"
        }
       ],
       "conversionMethod": "pd.DataFrame",
       "ref": "70778fd2-ba91-4024-8b81-127102b9b117",
       "rows": [
        [
         "0",
         "ENSP00000000233.5",
         "NP_001653.1",
         "381"
        ],
        [
         "1",
         "ENSP00000000412.3",
         "NP_002346.1",
         "4074"
        ],
        [
         "2",
         "ENSP00000000442.6",
         "NP_004442.3",
         "2101"
        ],
        [
         "3",
         "ENSP00000001008.4",
         "NP_002005.1",
         "2288"
        ],
        [
         "4",
         "ENSP00000001146.2",
         "NP_063938.1",
         "56603"
        ],
        [
         "5",
         "ENSP00000002125.4",
         "NP_653337.1",
         "55471"
        ],
        [
         "6",
         "ENSP00000002165.5",
         "NP_114409.2",
         "2519"
        ],
        [
         "7",
         "ENSP00000002501.6",
         "NP_001036075.1",
         "79007"
        ],
        [
         "8",
         "ENSP00000002596.5",
         "NP_005105.1",
         "9957"
        ],
        [
         "9",
         "ENSP00000002829.3",
         "NP_004177.3",
         "6405"
        ],
        [
         "10",
         "ENSP00000003084.6",
         "NP_000483.3",
         "1080"
        ],
        [
         "11",
         "ENSP00000003100.8",
         "NP_000777.1",
         "1595"
        ],
        [
         "12",
         "ENSP00000003302.4",
         "NP_065937.1",
         "57646"
        ],
        [
         "13",
         "ENSP00000003583.8",
         "NP_835223.1",
         "90529"
        ],
        [
         "14",
         "ENSP00000003912.3",
         "NP_001309791.1",
         "57185"
        ],
        [
         "15",
         "ENSP00000004103.3",
         "NP_060957.2",
         "55365"
        ],
        [
         "16",
         "ENSP00000004531.10",
         "NP_001158243.1",
         "6542"
        ],
        [
         "17",
         "ENSP00000004982.3",
         "NP_653218.1",
         "126393"
        ],
        [
         "18",
         "ENSP00000005082.9",
         "NP_001123991.1",
         "7748"
        ],
        [
         "19",
         "ENSP00000005178.5",
         "NP_002603.1",
         "5166"
        ],
        [
         "20",
         "ENSP00000005180.4",
         "NP_001358867.1",
         "10344"
        ],
        [
         "21",
         "ENSP00000005226.7",
         "NP_710142.1",
         "10083"
        ],
        [
         "22",
         "ENSP00000005257.2",
         "NP_005393.2",
         "5898"
        ],
        [
         "23",
         "ENSP00000005259.4",
         "NP_061332.2",
         "55973"
        ],
        [
         "24",
         "ENSP00000005260.8",
         "NP_061330.2",
         "55971"
        ],
        [
         "25",
         "ENSP00000005284.4",
         "NP_006530.1",
         "10368"
        ],
        [
         "26",
         "ENSP00000005286.4",
         "NP_060340.2",
         "54972"
        ],
        [
         "27",
         "ENSP00000005340.4",
         "NP_004413.1",
         "1856"
        ],
        [
         "28",
         "ENSP00000005374.6",
         "NP_001186745.1",
         "79017"
        ],
        [
         "29",
         "ENSP00000005386.3",
         "NP_078880.2",
         "79657"
        ],
        [
         "30",
         "ENSP00000005558.4",
         "NP_001007246.1",
         "3475"
        ],
        [
         "31",
         "ENSP00000005587.2",
         "NP_003921.2",
         "8935"
        ],
        [
         "32",
         "ENSP00000005756.5",
         "NP_775491.1",
         "151531"
        ],
        [
         "33",
         "ENSP00000005995.3",
         "NP_006790.1",
         "10942"
        ],
        [
         "34",
         "ENSP00000006015.3",
         "NP_005514.1",
         "3207"
        ],
        [
         "35",
         "ENSP00000006053.6",
         "NP_002987.1",
         "6376"
        ],
        [
         "36",
         "ENSP00000006251.7",
         "NP_056181.2",
         "55615"
        ],
        [
         "37",
         "ENSP00000006275.3",
         "NP_077013.1",
         "79090"
        ],
        [
         "38",
         "ENSP00000006526.6",
         "NP_115494.1",
         "84058"
        ],
        [
         "39",
         "ENSP00000006658.6",
         "NP_073738.2",
         "64847"
        ],
        [
         "40",
         "ENSP00000006724.3",
         "NP_008821.2",
         "1087"
        ],
        [
         "41",
         "ENSP00000006750.4",
         "NP_000617.1",
         "974"
        ],
        [
         "42",
         "ENSP00000006777.6",
         "NP_001035546.1",
         "57414"
        ],
        [
         "43",
         "ENSP00000007264.2",
         "NP_478072.1",
         "113000"
        ],
        [
         "44",
         "ENSP00000007390.2",
         "NP_001001410.1",
         "115939"
        ],
        [
         "45",
         "ENSP00000007414.3",
         "NP_665741.1",
         "114881"
        ],
        [
         "46",
         "ENSP00000007510.6",
         "NP_001353107.1",
         "115703"
        ],
        [
         "47",
         "ENSP00000007516.2",
         "NP_004994.1",
         "4706"
        ],
        [
         "48",
         "ENSP00000007699.5",
         "NP_057066.2",
         "51087"
        ],
        [
         "49",
         "ENSP00000007708.3",
         "NP_001186827.1",
         "5164"
        ]
       ],
       "shape": {
        "columns": 3,
        "rows": 47223
       }
      },
      "text/html": [
       "<div>\n",
       "<style scoped>\n",
       "    .dataframe tbody tr th:only-of-type {\n",
       "        vertical-align: middle;\n",
       "    }\n",
       "\n",
       "    .dataframe tbody tr th {\n",
       "        vertical-align: top;\n",
       "    }\n",
       "\n",
       "    .dataframe thead th {\n",
       "        text-align: right;\n",
       "    }\n",
       "</style>\n",
       "<table border=\"1\" class=\"dataframe\">\n",
       "  <thead>\n",
       "    <tr style=\"text-align: right;\">\n",
       "      <th></th>\n",
       "      <th>Ensembl version</th>\n",
       "      <th>RefSeq ID</th>\n",
       "      <th>GeneID</th>\n",
       "    </tr>\n",
       "  </thead>\n",
       "  <tbody>\n",
       "    <tr>\n",
       "      <th>0</th>\n",
       "      <td>ENSP00000000233.5</td>\n",
       "      <td>NP_001653.1</td>\n",
       "      <td>381</td>\n",
       "    </tr>\n",
       "    <tr>\n",
       "      <th>1</th>\n",
       "      <td>ENSP00000000412.3</td>\n",
       "      <td>NP_002346.1</td>\n",
       "      <td>4074</td>\n",
       "    </tr>\n",
       "    <tr>\n",
       "      <th>2</th>\n",
       "      <td>ENSP00000000442.6</td>\n",
       "      <td>NP_004442.3</td>\n",
       "      <td>2101</td>\n",
       "    </tr>\n",
       "    <tr>\n",
       "      <th>3</th>\n",
       "      <td>ENSP00000001008.4</td>\n",
       "      <td>NP_002005.1</td>\n",
       "      <td>2288</td>\n",
       "    </tr>\n",
       "    <tr>\n",
       "      <th>4</th>\n",
       "      <td>ENSP00000001146.2</td>\n",
       "      <td>NP_063938.1</td>\n",
       "      <td>56603</td>\n",
       "    </tr>\n",
       "    <tr>\n",
       "      <th>...</th>\n",
       "      <td>...</td>\n",
       "      <td>...</td>\n",
       "      <td>...</td>\n",
       "    </tr>\n",
       "    <tr>\n",
       "      <th>47218</th>\n",
       "      <td>ENSP00000520488.1</td>\n",
       "      <td>XP_006711723.1</td>\n",
       "      <td>9826</td>\n",
       "    </tr>\n",
       "    <tr>\n",
       "      <th>47219</th>\n",
       "      <td>ENSP00000520489.1</td>\n",
       "      <td>NP_001364347.1</td>\n",
       "      <td>9826</td>\n",
       "    </tr>\n",
       "    <tr>\n",
       "      <th>47220</th>\n",
       "      <td>ENSP00000520491.1</td>\n",
       "      <td>NP_001374386.1</td>\n",
       "      <td>26140</td>\n",
       "    </tr>\n",
       "    <tr>\n",
       "      <th>47221</th>\n",
       "      <td>ENSP00000520492.1</td>\n",
       "      <td>XP_047294981.1</td>\n",
       "      <td>55011</td>\n",
       "    </tr>\n",
       "    <tr>\n",
       "      <th>47222</th>\n",
       "      <td>ENSP00000520497.1</td>\n",
       "      <td>NP_001380963.1</td>\n",
       "      <td>131768270</td>\n",
       "    </tr>\n",
       "  </tbody>\n",
       "</table>\n",
       "<p>47223 rows × 3 columns</p>\n",
       "</div>"
      ],
      "text/plain": [
       "         Ensembl version       RefSeq ID     GeneID\n",
       "0      ENSP00000000233.5     NP_001653.1        381\n",
       "1      ENSP00000000412.3     NP_002346.1       4074\n",
       "2      ENSP00000000442.6     NP_004442.3       2101\n",
       "3      ENSP00000001008.4     NP_002005.1       2288\n",
       "4      ENSP00000001146.2     NP_063938.1      56603\n",
       "...                  ...             ...        ...\n",
       "47218  ENSP00000520488.1  XP_006711723.1       9826\n",
       "47219  ENSP00000520489.1  NP_001364347.1       9826\n",
       "47220  ENSP00000520491.1  NP_001374386.1      26140\n",
       "47221  ENSP00000520492.1  XP_047294981.1      55011\n",
       "47222  ENSP00000520497.1  NP_001380963.1  131768270\n",
       "\n",
       "[47223 rows x 3 columns]"
      ]
     },
     "execution_count": 14,
     "metadata": {},
     "output_type": "execute_result"
    }
   ],
   "source": [
    "df_refseq_ensembl['GeneID'] = df_refseq_ensembl['GeneID'].astype(str)\n",
    "df_refseq_ensembl_merge = df_refseq_ensembl.groupby('Ensembl version').agg({\n",
    "    'RefSeq ID': lambda x: ';'.join(x.unique()),\n",
    "    'GeneID': lambda x: ';'.join(x.unique())\n",
    "}).reset_index()\n",
    "df_refseq_ensembl_merge.replace('', pd.NA, inplace=True)\n",
    "df_refseq_ensembl_merge.reset_index(drop=True, inplace=True)\n",
    "df_refseq_ensembl_merge"
   ]
  },
  {
   "cell_type": "markdown",
   "metadata": {},
   "source": [
    "## 3. Merge Data"
   ]
  },
  {
   "cell_type": "code",
   "execution_count": 15,
   "metadata": {},
   "outputs": [],
   "source": [
    "# check duplicates inside the dataframe\n",
    "def merge_column(df, column1, column2, new_column):\n",
    "    df[column1] = df[column1].fillna('')\n",
    "    df[column2] = df[column2].fillna('')\n",
    "    df[new_column] = df.apply(lambda row: f\"{row[column1]} {row[column2]}\".strip(), axis=1)\n",
    "\n",
    "    expanded_rows = df[new_column].str.split(expand=True).stack().reset_index(level=1, drop=True)\n",
    "    expanded_rows.name = new_column\n",
    "\n",
    "    df = df.drop(columns=[new_column]).join(expanded_rows)\n",
    "    df.drop(columns=[column1, column2], inplace=True)\n",
    "    df.drop_duplicates(inplace=True)\n",
    "    \n",
    "    return df\n",
    "\n",
    "def merge_string_columns(df, columns, merge_name, separator=';'):\n",
    "    def merge_strings(row):\n",
    "        combined = set()\n",
    "        for column in columns:\n",
    "            if pd.notnull(row[column]):\n",
    "                combined.update(row[column].split(separator))\n",
    "        return separator.join(combined)\n",
    "    \n",
    "    # Apply the function to each row and create a new column\n",
    "    combined_column_name = merge_name\n",
    "    df[combined_column_name] = df.apply(merge_strings, axis=1)\n",
    "    df.drop(columns=columns, inplace=True)\n",
    "    \n",
    "    return df"
   ]
  },
  {
   "cell_type": "markdown",
   "metadata": {},
   "source": [
    "### 3.1 Ensembl and Uniprot"
   ]
  },
  {
   "cell_type": "code",
   "execution_count": 16,
   "metadata": {},
   "outputs": [
    {
     "data": {
      "application/vnd.microsoft.datawrangler.viewer.v0+json": {
       "columns": [
        {
         "name": "index",
         "rawType": "int64",
         "type": "integer"
        },
        {
         "name": "Protein stable ID",
         "rawType": "object",
         "type": "unknown"
        },
        {
         "name": "RefSeq peptide ID",
         "rawType": "object",
         "type": "unknown"
        },
        {
         "name": "Protein names",
         "rawType": "object",
         "type": "unknown"
        },
        {
         "name": "Ensembl version",
         "rawType": "object",
         "type": "unknown"
        },
        {
         "name": "Uniprot ID",
         "rawType": "object",
         "type": "unknown"
        },
        {
         "name": "NCBI_ID",
         "rawType": "object",
         "type": "unknown"
        },
        {
         "name": "Gene_Name",
         "rawType": "object",
         "type": "string"
        }
       ],
       "conversionMethod": "pd.DataFrame",
       "ref": "1686dd95-bbfb-4d52-b4e3-494971492a79",
       "rows": [
        [
         "0",
         "ENSP00000000233",
         "NP_001653",
         "ADP-ribosylation factor 5",
         "ENSP00000000233.5",
         "P84085",
         "381.0",
         "ARF5"
        ],
        [
         "0",
         "ENSP00000000233",
         "NP_001653",
         "ADP-ribosylation factor 5",
         "ENSP00000000233.5",
         "P84085",
         "381",
         "ARF5"
        ],
        [
         "1",
         "ENSP00000000412",
         "NP_002346",
         "Cation-dependent mannose-6-phosphate receptor (CD Man-6-P receptor) (CD-MPR) (46 kDa mannose 6-phosphate receptor) (MPR 46)",
         "ENSP00000000412.3",
         "P20645",
         "4074.0",
         "M6PR"
        ],
        [
         "1",
         "ENSP00000000412",
         "NP_002346",
         "Cation-dependent mannose-6-phosphate receptor (CD Man-6-P receptor) (CD-MPR) (46 kDa mannose 6-phosphate receptor) (MPR 46)",
         "ENSP00000000412.3",
         "P20645",
         "4074",
         "M6PR"
        ],
        [
         "2",
         "ENSP00000000412",
         "NP_001401249",
         "Cation-dependent mannose-6-phosphate receptor (CD Man-6-P receptor) (CD-MPR) (46 kDa mannose 6-phosphate receptor) (MPR 46)",
         "ENSP00000000412.3",
         "P20645",
         "4074.0",
         "M6PR"
        ],
        [
         "2",
         "ENSP00000000412",
         "NP_001401249",
         "Cation-dependent mannose-6-phosphate receptor (CD Man-6-P receptor) (CD-MPR) (46 kDa mannose 6-phosphate receptor) (MPR 46)",
         "ENSP00000000412.3",
         "P20645",
         "4074",
         "M6PR"
        ],
        [
         "3",
         "ENSP00000000412",
         "NP_001401261",
         "Cation-dependent mannose-6-phosphate receptor (CD Man-6-P receptor) (CD-MPR) (46 kDa mannose 6-phosphate receptor) (MPR 46)",
         "ENSP00000000412.3",
         "P20645",
         "4074.0",
         "M6PR"
        ],
        [
         "3",
         "ENSP00000000412",
         "NP_001401261",
         "Cation-dependent mannose-6-phosphate receptor (CD Man-6-P receptor) (CD-MPR) (46 kDa mannose 6-phosphate receptor) (MPR 46)",
         "ENSP00000000412.3",
         "P20645",
         "4074",
         "M6PR"
        ],
        [
         "4",
         "ENSP00000000412",
         "NP_001401262",
         "Cation-dependent mannose-6-phosphate receptor (CD Man-6-P receptor) (CD-MPR) (46 kDa mannose 6-phosphate receptor) (MPR 46)",
         "ENSP00000000412.3",
         "P20645",
         "4074.0",
         "M6PR"
        ],
        [
         "4",
         "ENSP00000000412",
         "NP_001401262",
         "Cation-dependent mannose-6-phosphate receptor (CD Man-6-P receptor) (CD-MPR) (46 kDa mannose 6-phosphate receptor) (MPR 46)",
         "ENSP00000000412.3",
         "P20645",
         "4074",
         "M6PR"
        ],
        [
         "5",
         "ENSP00000000412",
         "NP_001401260",
         "Cation-dependent mannose-6-phosphate receptor (CD Man-6-P receptor) (CD-MPR) (46 kDa mannose 6-phosphate receptor) (MPR 46)",
         "ENSP00000000412.3",
         "P20645",
         "4074.0",
         "M6PR"
        ],
        [
         "5",
         "ENSP00000000412",
         "NP_001401260",
         "Cation-dependent mannose-6-phosphate receptor (CD Man-6-P receptor) (CD-MPR) (46 kDa mannose 6-phosphate receptor) (MPR 46)",
         "ENSP00000000412.3",
         "P20645",
         "4074",
         "M6PR"
        ],
        [
         "6",
         "ENSP00000000442",
         "NP_004442",
         "Steroid hormone receptor ERR1 (Estrogen receptor-like 1) (Estrogen-related receptor alpha) (ERR-alpha) (Nuclear receptor subfamily 3 group B member 1)",
         "ENSP00000000442.6",
         "P11474",
         "2101.0",
         "ESRRA"
        ],
        [
         "6",
         "ENSP00000000442",
         "NP_004442",
         "Steroid hormone receptor ERR1 (Estrogen receptor-like 1) (Estrogen-related receptor alpha) (ERR-alpha) (Nuclear receptor subfamily 3 group B member 1)",
         "ENSP00000000442.6",
         "P11474",
         "2101",
         "ESRRA"
        ],
        [
         "7",
         "ENSP00000001008",
         "NP_002005",
         "Peptidyl-prolyl cis-trans isomerase FKBP4 (PPIase FKBP4) (EC 5.2.1.8) (51 kDa FK506-binding protein) (FKBP51) (52 kDa FK506-binding protein) (52 kDa FKBP) (FKBP-52) (59 kDa immunophilin) (p59) (FK506-binding protein 4) (FKBP-4) (FKBP59) (HSP-binding immunophilin) (HBI) (Immunophilin FKBP52) (Rotamase) [Cleaved into: Peptidyl-prolyl cis-trans isomerase FKBP4, N-terminally processed]",
         "ENSP00000001008.4",
         "Q02790",
         "2288.0",
         "FKBP4"
        ],
        [
         "7",
         "ENSP00000001008",
         "NP_002005",
         "Peptidyl-prolyl cis-trans isomerase FKBP4 (PPIase FKBP4) (EC 5.2.1.8) (51 kDa FK506-binding protein) (FKBP51) (52 kDa FK506-binding protein) (52 kDa FKBP) (FKBP-52) (59 kDa immunophilin) (p59) (FK506-binding protein 4) (FKBP-4) (FKBP59) (HSP-binding immunophilin) (HBI) (Immunophilin FKBP52) (Rotamase) [Cleaved into: Peptidyl-prolyl cis-trans isomerase FKBP4, N-terminally processed]",
         "ENSP00000001008.4",
         "Q02790",
         "2288",
         "FKBP4"
        ],
        [
         "8",
         "ENSP00000001146",
         "NP_063938",
         "Cytochrome P450 26B1 (EC 1.14.13.-) (Cytochrome P450 26A2) (Cytochrome P450 retinoic acid-inactivating 2) (Cytochrome P450RAI-2) (Retinoic acid-metabolizing cytochrome)",
         "ENSP00000001146.2",
         "Q9NR63",
         "56603.0",
         "CYP26B1"
        ],
        [
         "8",
         "ENSP00000001146",
         "NP_063938",
         "Cytochrome P450 26B1 (EC 1.14.13.-) (Cytochrome P450 26A2) (Cytochrome P450 retinoic acid-inactivating 2) (Cytochrome P450RAI-2) (Retinoic acid-metabolizing cytochrome)",
         "ENSP00000001146.2",
         "Q9NR63",
         "56603",
         "CYP26B1"
        ],
        [
         "9",
         "ENSP00000002125",
         "NP_001336954",
         "Protein arginine methyltransferase NDUFAF7, mitochondrial (EC 2.1.1.320) (NADH dehydrogenase [ubiquinone] complex I, assembly factor 7) (Protein midA homolog)",
         "ENSP00000002125.4",
         "Q7L592",
         "55471.0",
         "NDUFAF7"
        ],
        [
         "9",
         "ENSP00000002125",
         "NP_001336954",
         "Protein arginine methyltransferase NDUFAF7, mitochondrial (EC 2.1.1.320) (NADH dehydrogenase [ubiquinone] complex I, assembly factor 7) (Protein midA homolog)",
         "ENSP00000002125.4",
         "Q7L592",
         "55471",
         "NDUFAF7"
        ],
        [
         "10",
         "ENSP00000002125",
         "NP_001336953",
         "Protein arginine methyltransferase NDUFAF7, mitochondrial (EC 2.1.1.320) (NADH dehydrogenase [ubiquinone] complex I, assembly factor 7) (Protein midA homolog)",
         "ENSP00000002125.4",
         "Q7L592",
         "55471.0",
         "NDUFAF7"
        ],
        [
         "10",
         "ENSP00000002125",
         "NP_001336953",
         "Protein arginine methyltransferase NDUFAF7, mitochondrial (EC 2.1.1.320) (NADH dehydrogenase [ubiquinone] complex I, assembly factor 7) (Protein midA homolog)",
         "ENSP00000002125.4",
         "Q7L592",
         "55471",
         "NDUFAF7"
        ],
        [
         "11",
         "ENSP00000002125",
         "NP_653337",
         "Protein arginine methyltransferase NDUFAF7, mitochondrial (EC 2.1.1.320) (NADH dehydrogenase [ubiquinone] complex I, assembly factor 7) (Protein midA homolog)",
         "ENSP00000002125.4",
         "Q7L592",
         "55471.0",
         "NDUFAF7"
        ],
        [
         "11",
         "ENSP00000002125",
         "NP_653337",
         "Protein arginine methyltransferase NDUFAF7, mitochondrial (EC 2.1.1.320) (NADH dehydrogenase [ubiquinone] complex I, assembly factor 7) (Protein midA homolog)",
         "ENSP00000002125.4",
         "Q7L592",
         "55471",
         "NDUFAF7"
        ],
        [
         "12",
         "ENSP00000002165",
         "NP_114409",
         "Plasma alpha-L-fucosidase (EC 3.2.1.51) (Alpha-L-fucoside fucohydrolase 2) (Alpha-L-fucosidase 2)",
         "ENSP00000002165.5",
         "Q9BTY2",
         "2519.0",
         "FUCA2"
        ],
        [
         "12",
         "ENSP00000002165",
         "NP_114409",
         "Plasma alpha-L-fucosidase (EC 3.2.1.51) (Alpha-L-fucoside fucohydrolase 2) (Alpha-L-fucosidase 2)",
         "ENSP00000002165.5",
         "Q9BTY2",
         "2519",
         "FUCA2"
        ],
        [
         "13",
         "ENSP00000002501",
         "NP_001036075",
         "Dysbindin domain-containing protein 1",
         "ENSP00000002501.6",
         "Q9H9R9",
         "79007.0",
         "DBNDD1"
        ],
        [
         "13",
         "ENSP00000002501",
         "NP_001036075",
         "Dysbindin domain-containing protein 1",
         "ENSP00000002501.6",
         "Q9H9R9",
         "79007",
         "DBNDD1"
        ],
        [
         "14",
         "ENSP00000002596",
         "NP_005105",
         "Heparan sulfate glucosamine 3-O-sulfotransferase 1 (EC 2.8.2.23) (Heparan sulfate D-glucosaminyl 3-O-sulfotransferase 1) (3-OST-1) (Heparan sulfate 3-O-sulfotransferase 1) (h3-OST-1)",
         "ENSP00000002596.5",
         "O14792",
         "9957.0",
         "HS3ST1"
        ],
        [
         "14",
         "ENSP00000002596",
         "NP_005105",
         "Heparan sulfate glucosamine 3-O-sulfotransferase 1 (EC 2.8.2.23) (Heparan sulfate D-glucosaminyl 3-O-sulfotransferase 1) (3-OST-1) (Heparan sulfate 3-O-sulfotransferase 1) (h3-OST-1)",
         "ENSP00000002596.5",
         "O14792",
         "9957",
         "HS3ST1"
        ],
        [
         "15",
         "ENSP00000002829",
         "NP_004177",
         "Semaphorin-3F (Sema III/F) (Semaphorin IV) (Sema IV)",
         "ENSP00000002829.3",
         "Q13275",
         "6405.0",
         "SEMA3F"
        ],
        [
         "15",
         "ENSP00000002829",
         "NP_004177",
         "Semaphorin-3F (Sema III/F) (Semaphorin IV) (Sema IV)",
         "ENSP00000002829.3",
         "Q13275",
         "6405",
         "SEMA3F"
        ],
        [
         "16",
         "ENSP00000003084",
         "NP_000483",
         "Cystic fibrosis transmembrane conductance regulator (CFTR) (ATP-binding cassette sub-family C member 7) (Channel conductance-controlling ATPase) (EC 5.6.1.6) (cAMP-dependent chloride channel)",
         "ENSP00000003084.6",
         "P13569",
         "1080.0",
         "CFTR"
        ],
        [
         "16",
         "ENSP00000003084",
         "NP_000483",
         "Cystic fibrosis transmembrane conductance regulator (CFTR) (ATP-binding cassette sub-family C member 7) (Channel conductance-controlling ATPase) (EC 5.6.1.6) (cAMP-dependent chloride channel)",
         "ENSP00000003084.6",
         "P13569",
         "1080",
         "CFTR"
        ],
        [
         "17",
         "ENSP00000003100",
         "NP_000777",
         "Lanosterol 14-alpha demethylase (LDM) (EC 1.14.14.154) (CYPLI) (Cytochrome P450 51A1) (CYP51A1) (Cytochrome P450-14DM) (Cytochrome P45014DM) (Cytochrome P450LI) (Sterol 14-alpha demethylase)",
         "ENSP00000003100.8",
         "Q16850",
         "1595.0",
         "CYP51A1"
        ],
        [
         "17",
         "ENSP00000003100",
         "NP_000777",
         "Lanosterol 14-alpha demethylase (LDM) (EC 1.14.14.154) (CYPLI) (Cytochrome P450 51A1) (CYP51A1) (Cytochrome P450-14DM) (Cytochrome P45014DM) (Cytochrome P450LI) (Sterol 14-alpha demethylase)",
         "ENSP00000003100.8",
         "Q16850",
         "1595",
         "CYP51A1"
        ],
        [
         "18",
         "ENSP00000003302",
         "NP_001333187",
         "Ubiquitin carboxyl-terminal hydrolase 28 (EC 3.4.19.12) (Deubiquitinating enzyme 28) (Ubiquitin thioesterase 28) (Ubiquitin-specific-processing protease 28)",
         "ENSP00000003302.4",
         "Q96RU2",
         "57646.0",
         "USP28"
        ],
        [
         "18",
         "ENSP00000003302",
         "NP_001333187",
         "Ubiquitin carboxyl-terminal hydrolase 28 (EC 3.4.19.12) (Deubiquitinating enzyme 28) (Ubiquitin thioesterase 28) (Ubiquitin-specific-processing protease 28)",
         "ENSP00000003302.4",
         "Q96RU2",
         "57646",
         "USP28"
        ],
        [
         "19",
         "ENSP00000003302",
         "NP_001333184",
         "Ubiquitin carboxyl-terminal hydrolase 28 (EC 3.4.19.12) (Deubiquitinating enzyme 28) (Ubiquitin thioesterase 28) (Ubiquitin-specific-processing protease 28)",
         "ENSP00000003302.4",
         "Q96RU2",
         "57646.0",
         "USP28"
        ],
        [
         "19",
         "ENSP00000003302",
         "NP_001333184",
         "Ubiquitin carboxyl-terminal hydrolase 28 (EC 3.4.19.12) (Deubiquitinating enzyme 28) (Ubiquitin thioesterase 28) (Ubiquitin-specific-processing protease 28)",
         "ENSP00000003302.4",
         "Q96RU2",
         "57646",
         "USP28"
        ],
        [
         "20",
         "ENSP00000003302",
         "NP_001387721",
         "Ubiquitin carboxyl-terminal hydrolase 28 (EC 3.4.19.12) (Deubiquitinating enzyme 28) (Ubiquitin thioesterase 28) (Ubiquitin-specific-processing protease 28)",
         "ENSP00000003302.4",
         "Q96RU2",
         "57646.0",
         "USP28"
        ],
        [
         "20",
         "ENSP00000003302",
         "NP_001387721",
         "Ubiquitin carboxyl-terminal hydrolase 28 (EC 3.4.19.12) (Deubiquitinating enzyme 28) (Ubiquitin thioesterase 28) (Ubiquitin-specific-processing protease 28)",
         "ENSP00000003302.4",
         "Q96RU2",
         "57646",
         "USP28"
        ],
        [
         "21",
         "ENSP00000003302",
         "NP_001387720",
         "Ubiquitin carboxyl-terminal hydrolase 28 (EC 3.4.19.12) (Deubiquitinating enzyme 28) (Ubiquitin thioesterase 28) (Ubiquitin-specific-processing protease 28)",
         "ENSP00000003302.4",
         "Q96RU2",
         "57646.0",
         "USP28"
        ],
        [
         "21",
         "ENSP00000003302",
         "NP_001387720",
         "Ubiquitin carboxyl-terminal hydrolase 28 (EC 3.4.19.12) (Deubiquitinating enzyme 28) (Ubiquitin thioesterase 28) (Ubiquitin-specific-processing protease 28)",
         "ENSP00000003302.4",
         "Q96RU2",
         "57646",
         "USP28"
        ],
        [
         "22",
         "ENSP00000003302",
         "NP_001387719",
         "Ubiquitin carboxyl-terminal hydrolase 28 (EC 3.4.19.12) (Deubiquitinating enzyme 28) (Ubiquitin thioesterase 28) (Ubiquitin-specific-processing protease 28)",
         "ENSP00000003302.4",
         "Q96RU2",
         "57646.0",
         "USP28"
        ],
        [
         "22",
         "ENSP00000003302",
         "NP_001387719",
         "Ubiquitin carboxyl-terminal hydrolase 28 (EC 3.4.19.12) (Deubiquitinating enzyme 28) (Ubiquitin thioesterase 28) (Ubiquitin-specific-processing protease 28)",
         "ENSP00000003302.4",
         "Q96RU2",
         "57646",
         "USP28"
        ],
        [
         "23",
         "ENSP00000003302",
         "NP_001387726",
         "Ubiquitin carboxyl-terminal hydrolase 28 (EC 3.4.19.12) (Deubiquitinating enzyme 28) (Ubiquitin thioesterase 28) (Ubiquitin-specific-processing protease 28)",
         "ENSP00000003302.4",
         "Q96RU2",
         "57646.0",
         "USP28"
        ],
        [
         "23",
         "ENSP00000003302",
         "NP_001387726",
         "Ubiquitin carboxyl-terminal hydrolase 28 (EC 3.4.19.12) (Deubiquitinating enzyme 28) (Ubiquitin thioesterase 28) (Ubiquitin-specific-processing protease 28)",
         "ENSP00000003302.4",
         "Q96RU2",
         "57646",
         "USP28"
        ],
        [
         "24",
         "ENSP00000003302",
         "NP_001387725",
         "Ubiquitin carboxyl-terminal hydrolase 28 (EC 3.4.19.12) (Deubiquitinating enzyme 28) (Ubiquitin thioesterase 28) (Ubiquitin-specific-processing protease 28)",
         "ENSP00000003302.4",
         "Q96RU2",
         "57646.0",
         "USP28"
        ],
        [
         "24",
         "ENSP00000003302",
         "NP_001387725",
         "Ubiquitin carboxyl-terminal hydrolase 28 (EC 3.4.19.12) (Deubiquitinating enzyme 28) (Ubiquitin thioesterase 28) (Ubiquitin-specific-processing protease 28)",
         "ENSP00000003302.4",
         "Q96RU2",
         "57646",
         "USP28"
        ]
       ],
       "shape": {
        "columns": 7,
        "rows": 229618
       }
      },
      "text/html": [
       "<div>\n",
       "<style scoped>\n",
       "    .dataframe tbody tr th:only-of-type {\n",
       "        vertical-align: middle;\n",
       "    }\n",
       "\n",
       "    .dataframe tbody tr th {\n",
       "        vertical-align: top;\n",
       "    }\n",
       "\n",
       "    .dataframe thead th {\n",
       "        text-align: right;\n",
       "    }\n",
       "</style>\n",
       "<table border=\"1\" class=\"dataframe\">\n",
       "  <thead>\n",
       "    <tr style=\"text-align: right;\">\n",
       "      <th></th>\n",
       "      <th>Protein stable ID</th>\n",
       "      <th>RefSeq peptide ID</th>\n",
       "      <th>Protein names</th>\n",
       "      <th>Ensembl version</th>\n",
       "      <th>Uniprot ID</th>\n",
       "      <th>NCBI_ID</th>\n",
       "      <th>Gene_Name</th>\n",
       "    </tr>\n",
       "  </thead>\n",
       "  <tbody>\n",
       "    <tr>\n",
       "      <th>0</th>\n",
       "      <td>ENSP00000000233</td>\n",
       "      <td>NP_001653</td>\n",
       "      <td>ADP-ribosylation factor 5</td>\n",
       "      <td>ENSP00000000233.5</td>\n",
       "      <td>P84085</td>\n",
       "      <td>381.0</td>\n",
       "      <td>ARF5</td>\n",
       "    </tr>\n",
       "    <tr>\n",
       "      <th>0</th>\n",
       "      <td>ENSP00000000233</td>\n",
       "      <td>NP_001653</td>\n",
       "      <td>ADP-ribosylation factor 5</td>\n",
       "      <td>ENSP00000000233.5</td>\n",
       "      <td>P84085</td>\n",
       "      <td>381</td>\n",
       "      <td>ARF5</td>\n",
       "    </tr>\n",
       "    <tr>\n",
       "      <th>1</th>\n",
       "      <td>ENSP00000000412</td>\n",
       "      <td>NP_002346</td>\n",
       "      <td>Cation-dependent mannose-6-phosphate receptor ...</td>\n",
       "      <td>ENSP00000000412.3</td>\n",
       "      <td>P20645</td>\n",
       "      <td>4074.0</td>\n",
       "      <td>M6PR</td>\n",
       "    </tr>\n",
       "    <tr>\n",
       "      <th>1</th>\n",
       "      <td>ENSP00000000412</td>\n",
       "      <td>NP_002346</td>\n",
       "      <td>Cation-dependent mannose-6-phosphate receptor ...</td>\n",
       "      <td>ENSP00000000412.3</td>\n",
       "      <td>P20645</td>\n",
       "      <td>4074</td>\n",
       "      <td>M6PR</td>\n",
       "    </tr>\n",
       "    <tr>\n",
       "      <th>2</th>\n",
       "      <td>ENSP00000000412</td>\n",
       "      <td>NP_001401249</td>\n",
       "      <td>Cation-dependent mannose-6-phosphate receptor ...</td>\n",
       "      <td>ENSP00000000412.3</td>\n",
       "      <td>P20645</td>\n",
       "      <td>4074.0</td>\n",
       "      <td>M6PR</td>\n",
       "    </tr>\n",
       "    <tr>\n",
       "      <th>...</th>\n",
       "      <td>...</td>\n",
       "      <td>...</td>\n",
       "      <td>...</td>\n",
       "      <td>...</td>\n",
       "      <td>...</td>\n",
       "      <td>...</td>\n",
       "      <td>...</td>\n",
       "    </tr>\n",
       "    <tr>\n",
       "      <th>158711</th>\n",
       "      <td>NaN</td>\n",
       "      <td>NaN</td>\n",
       "      <td>SMAD5 antisense gene protein 1 (10.3 kDa proli...</td>\n",
       "      <td>NaN</td>\n",
       "      <td>Q9Y6J3</td>\n",
       "      <td>NaN</td>\n",
       "      <td>SMAD5-AS1</td>\n",
       "    </tr>\n",
       "    <tr>\n",
       "      <th>158712</th>\n",
       "      <td>NaN</td>\n",
       "      <td>NaN</td>\n",
       "      <td>Putative uncharacterized protein KIF25-AS1 (KI...</td>\n",
       "      <td>NaN</td>\n",
       "      <td>Q9Y6Z4</td>\n",
       "      <td>NaN</td>\n",
       "      <td>KIF25-AS1</td>\n",
       "    </tr>\n",
       "    <tr>\n",
       "      <th>158713</th>\n",
       "      <td>NaN</td>\n",
       "      <td>NaN</td>\n",
       "      <td>Endogenous retrovirus group K member 19 Gag po...</td>\n",
       "      <td>NaN</td>\n",
       "      <td>Q9YNA8</td>\n",
       "      <td>NaN</td>\n",
       "      <td>ERVK-19</td>\n",
       "    </tr>\n",
       "    <tr>\n",
       "      <th>158714</th>\n",
       "      <td>NaN</td>\n",
       "      <td>NaN</td>\n",
       "      <td>Humanin-like 13 (HN13) (MT-RNR2-like protein 13)</td>\n",
       "      <td>NaN</td>\n",
       "      <td>S4R3P1</td>\n",
       "      <td>NaN</td>\n",
       "      <td>MTRNR2L13</td>\n",
       "    </tr>\n",
       "    <tr>\n",
       "      <th>158715</th>\n",
       "      <td>NaN</td>\n",
       "      <td>NaN</td>\n",
       "      <td>Humanin-like 11 (HN11) (MT-RNR2-like protein 11)</td>\n",
       "      <td>NaN</td>\n",
       "      <td>S4R3Y5</td>\n",
       "      <td>NaN</td>\n",
       "      <td>MTRNR2L11</td>\n",
       "    </tr>\n",
       "  </tbody>\n",
       "</table>\n",
       "<p>229618 rows × 7 columns</p>\n",
       "</div>"
      ],
      "text/plain": [
       "       Protein stable ID RefSeq peptide ID  \\\n",
       "0        ENSP00000000233         NP_001653   \n",
       "0        ENSP00000000233         NP_001653   \n",
       "1        ENSP00000000412         NP_002346   \n",
       "1        ENSP00000000412         NP_002346   \n",
       "2        ENSP00000000412      NP_001401249   \n",
       "...                  ...               ...   \n",
       "158711               NaN               NaN   \n",
       "158712               NaN               NaN   \n",
       "158713               NaN               NaN   \n",
       "158714               NaN               NaN   \n",
       "158715               NaN               NaN   \n",
       "\n",
       "                                            Protein names    Ensembl version  \\\n",
       "0                               ADP-ribosylation factor 5  ENSP00000000233.5   \n",
       "0                               ADP-ribosylation factor 5  ENSP00000000233.5   \n",
       "1       Cation-dependent mannose-6-phosphate receptor ...  ENSP00000000412.3   \n",
       "1       Cation-dependent mannose-6-phosphate receptor ...  ENSP00000000412.3   \n",
       "2       Cation-dependent mannose-6-phosphate receptor ...  ENSP00000000412.3   \n",
       "...                                                   ...                ...   \n",
       "158711  SMAD5 antisense gene protein 1 (10.3 kDa proli...                NaN   \n",
       "158712  Putative uncharacterized protein KIF25-AS1 (KI...                NaN   \n",
       "158713  Endogenous retrovirus group K member 19 Gag po...                NaN   \n",
       "158714   Humanin-like 13 (HN13) (MT-RNR2-like protein 13)                NaN   \n",
       "158715   Humanin-like 11 (HN11) (MT-RNR2-like protein 11)                NaN   \n",
       "\n",
       "       Uniprot ID NCBI_ID  Gene_Name  \n",
       "0          P84085   381.0       ARF5  \n",
       "0          P84085     381       ARF5  \n",
       "1          P20645  4074.0       M6PR  \n",
       "1          P20645    4074       M6PR  \n",
       "2          P20645  4074.0       M6PR  \n",
       "...           ...     ...        ...  \n",
       "158711     Q9Y6J3     NaN  SMAD5-AS1  \n",
       "158712     Q9Y6Z4     NaN  KIF25-AS1  \n",
       "158713     Q9YNA8     NaN    ERVK-19  \n",
       "158714     S4R3P1     NaN  MTRNR2L13  \n",
       "158715     S4R3Y5     NaN  MTRNR2L11  \n",
       "\n",
       "[229618 rows x 7 columns]"
      ]
     },
     "execution_count": 16,
     "metadata": {},
     "output_type": "execute_result"
    }
   ],
   "source": [
    "df_ensembl_uniprot = pd.merge(df_ensembl, df_uniprot_protein_ensemblunique, left_on='Protein stable ID version', right_on='Ensembl(ENSP)', how='outer')\n",
    "df_ensembl_uniprot = merge_column(df_ensembl_uniprot, 'Protein stable ID version', 'Ensembl(ENSP)', 'Ensembl version')\n",
    "df_ensembl_uniprot = merge_column(df_ensembl_uniprot, 'UniProtKB/Swiss-Prot ID', 'Entry', 'Uniprot ID')\n",
    "df_ensembl_uniprot = merge_column(df_ensembl_uniprot, 'NCBI gene (formerly Entrezgene) ID', 'GeneID', 'NCBI_ID')\n",
    "df_ensembl_uniprot = merge_string_columns(df_ensembl_uniprot, ['Gene name', 'Gene Names'], 'Gene_Name')\n",
    "df_ensembl_uniprot"
   ]
  },
  {
   "cell_type": "markdown",
   "metadata": {},
   "source": [
    "### 3.2 Add RefSeq"
   ]
  },
  {
   "cell_type": "markdown",
   "metadata": {},
   "source": [
    "Uniprot-RefSeq"
   ]
  },
  {
   "cell_type": "code",
   "execution_count": 17,
   "metadata": {},
   "outputs": [
    {
     "data": {
      "application/vnd.microsoft.datawrangler.viewer.v0+json": {
       "columns": [
        {
         "name": "index",
         "rawType": "int64",
         "type": "integer"
        },
        {
         "name": "Protein stable ID",
         "rawType": "object",
         "type": "unknown"
        },
        {
         "name": "Protein names",
         "rawType": "object",
         "type": "unknown"
        },
        {
         "name": "Ensembl version",
         "rawType": "object",
         "type": "unknown"
        },
        {
         "name": "Uniprot ID",
         "rawType": "object",
         "type": "unknown"
        },
        {
         "name": "NCBI_ID",
         "rawType": "object",
         "type": "unknown"
        },
        {
         "name": "Gene_Name",
         "rawType": "object",
         "type": "unknown"
        },
        {
         "name": "RefSeq_ID",
         "rawType": "object",
         "type": "unknown"
        }
       ],
       "conversionMethod": "pd.DataFrame",
       "ref": "7aad0302-0ff7-4ed6-9838-ee7004ba3436",
       "rows": [
        [
         "0",
         null,
         null,
         null,
         "A0A023HHK9",
         null,
         null,
         "NP_085128.2"
        ],
        [
         "1",
         null,
         null,
         null,
         "A0A023HHL0",
         null,
         null,
         "NP_085128.2"
        ],
        [
         "2",
         null,
         null,
         null,
         "A0A023IN41",
         null,
         null,
         "NP_001186551.1"
        ],
        [
         "3",
         null,
         null,
         null,
         "A0A023T695",
         null,
         null,
         "XP_016868350;XP_016868348;XP_054215426.1;XP_016868349;XP_047277052.1;XP_016868347"
        ],
        [
         "4",
         null,
         null,
         null,
         "A0A023T6R1",
         null,
         null,
         "NP_060518.1"
        ],
        [
         "5",
         null,
         null,
         null,
         "A0A023T787",
         null,
         null,
         "NP_005096.1"
        ],
        [
         "6",
         null,
         null,
         null,
         "A0A024QY88",
         null,
         null,
         "NP_039252.2"
        ],
        [
         "7",
         null,
         null,
         null,
         "A0A024QYR3",
         null,
         null,
         "NP_055557.2"
        ],
        [
         "8",
         null,
         null,
         null,
         "A0A024QYR8",
         null,
         null,
         "NP_004791.1"
        ],
        [
         "9",
         null,
         null,
         null,
         "A0A024QYS2",
         null,
         null,
         "NP_064508.3"
        ],
        [
         "10",
         null,
         null,
         null,
         "A0A024QYW1",
         null,
         null,
         "XP_005276759"
        ],
        [
         "11",
         null,
         null,
         null,
         "A0A024QYX0",
         null,
         null,
         "NP_006570.1"
        ],
        [
         "12",
         null,
         null,
         null,
         "A0A024QYX2",
         null,
         null,
         "XP_006721114;XP_006721115"
        ],
        [
         "13",
         null,
         null,
         null,
         "A0A024QYX5",
         null,
         null,
         "XP_054182713.1;NP_036412.1;XP_024308127.1"
        ],
        [
         "14",
         null,
         null,
         null,
         "A0A024QYY3",
         null,
         null,
         "XP_005256783;XP_016880356;XP_016880355;XP_016880354;XP_005256782"
        ],
        [
         "15",
         null,
         null,
         null,
         "A0A024QYY4",
         null,
         null,
         "XP_005273028"
        ],
        [
         "16",
         null,
         null,
         null,
         "A0A024QYZ6",
         null,
         null,
         "XP_016864492;XP_016864493"
        ],
        [
         "17",
         null,
         null,
         null,
         "A0A024QZ13",
         null,
         null,
         "NP_001317095.1"
        ],
        [
         "18",
         null,
         null,
         null,
         "A0A024QZ18",
         null,
         null,
         "XP_005278121;XP_011542287;XP_005278122;XP_011542289;XP_011542288"
        ],
        [
         "19",
         null,
         null,
         null,
         "A0A024QZ33",
         null,
         null,
         "XP_016880700;XP_016880702;XP_016880704;XP_047292876.1;XP_047292875.1;XP_047292877.1;XP_054173512.1;XP_016880701;XP_016880703;XP_054173514.1;XP_016880699;NP_001248396.1;XP_054173513.1"
        ],
        [
         "20",
         null,
         null,
         null,
         "A0A024QZ35",
         null,
         null,
         "XP_016859901"
        ],
        [
         "21",
         null,
         null,
         null,
         "A0A024QZ37",
         null,
         null,
         "NP_005257.2;NP_859054.1"
        ],
        [
         "22",
         null,
         null,
         null,
         "A0A024QZ42",
         null,
         null,
         "NP_001254487.1"
        ],
        [
         "23",
         null,
         null,
         null,
         "A0A024QZ45",
         null,
         null,
         "XP_047292848.1;XP_047292847.1;NP_114432.2"
        ],
        [
         "24",
         null,
         null,
         null,
         "A0A024QZ48",
         null,
         null,
         "NP_001317346"
        ],
        [
         "25",
         null,
         null,
         null,
         "A0A024QZ60",
         null,
         null,
         "XP_016880322;XP_016880321;XP_016880323;XP_016880320"
        ],
        [
         "26",
         null,
         null,
         null,
         "A0A024QZ64",
         null,
         null,
         "NP_005156.1;XP_054171519.1;XP_005258006.1;XP_011522858.1;XP_054171518.1"
        ],
        [
         "27",
         null,
         null,
         null,
         "A0A024QZ70",
         null,
         null,
         "XP_011523362"
        ],
        [
         "28",
         null,
         null,
         null,
         "A0A024QZ77",
         null,
         null,
         "NP_077305.2"
        ],
        [
         "29",
         null,
         null,
         null,
         "A0A024QZ87",
         null,
         null,
         "XP_011521204;XP_011521205"
        ],
        [
         "30",
         null,
         null,
         null,
         "A0A024QZ90",
         null,
         null,
         "XP_016878379;XP_006721190"
        ],
        [
         "31",
         null,
         null,
         null,
         "A0A024QZB0",
         null,
         null,
         "XP_006710761"
        ],
        [
         "32",
         null,
         null,
         null,
         "A0A024QZC1",
         null,
         null,
         "NP_001230575.1;NP_006101.1"
        ],
        [
         "33",
         null,
         null,
         null,
         "A0A024QZD2",
         null,
         null,
         "XP_016878604;XP_016878605;XP_016878603"
        ],
        [
         "34",
         null,
         null,
         null,
         "A0A024QZD3",
         null,
         null,
         "XP_006723167"
        ],
        [
         "35",
         null,
         null,
         null,
         "A0A024QZE3",
         null,
         null,
         "XP_005258562;XP_005258563;XP_011524740;XP_011524741"
        ],
        [
         "36",
         null,
         null,
         null,
         "A0A024QZE4",
         null,
         null,
         "XP_006723295;XP_011525312;XP_005259019"
        ],
        [
         "37",
         null,
         null,
         null,
         "A0A024QZG0",
         null,
         null,
         "NP_001273501.1;NP_055586.1"
        ],
        [
         "38",
         null,
         null,
         null,
         "A0A024QZG6",
         null,
         null,
         "NP_001311388.1;NP_001311387.1;NP_037424.2"
        ],
        [
         "39",
         null,
         null,
         null,
         "A0A024QZH5",
         null,
         null,
         "XP_011525435"
        ],
        [
         "40",
         null,
         null,
         null,
         "A0A024QZI2",
         null,
         null,
         "XP_054176174.1;NP_004098.1;NP_001129491.1"
        ],
        [
         "41",
         null,
         null,
         null,
         "A0A024QZJ4",
         null,
         null,
         "NP_002465.1"
        ],
        [
         "42",
         null,
         null,
         null,
         "A0A024QZJ5",
         null,
         null,
         "XP_016871649"
        ],
        [
         "43",
         null,
         null,
         null,
         "A0A024QZK5",
         null,
         null,
         "XP_005270085.1;XP_054222508.1;NP_071412.2"
        ],
        [
         "44",
         null,
         null,
         null,
         "A0A024QZK8",
         null,
         null,
         "XP_016871657"
        ],
        [
         "45",
         null,
         null,
         null,
         "A0A024QZL0",
         null,
         null,
         "XP_016871325"
        ],
        [
         "46",
         null,
         null,
         null,
         "A0A024QZL4",
         null,
         null,
         "XP_006718147;XP_016872490"
        ],
        [
         "47",
         null,
         null,
         null,
         "A0A024QZM0",
         null,
         null,
         "XP_006717936"
        ],
        [
         "48",
         null,
         null,
         null,
         "A0A024QZM7",
         null,
         null,
         "XP_005269777"
        ],
        [
         "49",
         null,
         null,
         null,
         "A0A024QZM9",
         null,
         null,
         "NP_002649"
        ]
       ],
       "shape": {
        "columns": 7,
        "rows": 310180
       }
      },
      "text/html": [
       "<div>\n",
       "<style scoped>\n",
       "    .dataframe tbody tr th:only-of-type {\n",
       "        vertical-align: middle;\n",
       "    }\n",
       "\n",
       "    .dataframe tbody tr th {\n",
       "        vertical-align: top;\n",
       "    }\n",
       "\n",
       "    .dataframe thead th {\n",
       "        text-align: right;\n",
       "    }\n",
       "</style>\n",
       "<table border=\"1\" class=\"dataframe\">\n",
       "  <thead>\n",
       "    <tr style=\"text-align: right;\">\n",
       "      <th></th>\n",
       "      <th>Protein stable ID</th>\n",
       "      <th>Protein names</th>\n",
       "      <th>Ensembl version</th>\n",
       "      <th>Uniprot ID</th>\n",
       "      <th>NCBI_ID</th>\n",
       "      <th>Gene_Name</th>\n",
       "      <th>RefSeq_ID</th>\n",
       "    </tr>\n",
       "  </thead>\n",
       "  <tbody>\n",
       "    <tr>\n",
       "      <th>0</th>\n",
       "      <td>NaN</td>\n",
       "      <td>NaN</td>\n",
       "      <td>NaN</td>\n",
       "      <td>A0A023HHK9</td>\n",
       "      <td>NaN</td>\n",
       "      <td>NaN</td>\n",
       "      <td>NP_085128.2</td>\n",
       "    </tr>\n",
       "    <tr>\n",
       "      <th>1</th>\n",
       "      <td>NaN</td>\n",
       "      <td>NaN</td>\n",
       "      <td>NaN</td>\n",
       "      <td>A0A023HHL0</td>\n",
       "      <td>NaN</td>\n",
       "      <td>NaN</td>\n",
       "      <td>NP_085128.2</td>\n",
       "    </tr>\n",
       "    <tr>\n",
       "      <th>2</th>\n",
       "      <td>NaN</td>\n",
       "      <td>NaN</td>\n",
       "      <td>NaN</td>\n",
       "      <td>A0A023IN41</td>\n",
       "      <td>NaN</td>\n",
       "      <td>NaN</td>\n",
       "      <td>NP_001186551.1</td>\n",
       "    </tr>\n",
       "    <tr>\n",
       "      <th>3</th>\n",
       "      <td>NaN</td>\n",
       "      <td>NaN</td>\n",
       "      <td>NaN</td>\n",
       "      <td>A0A023T695</td>\n",
       "      <td>NaN</td>\n",
       "      <td>NaN</td>\n",
       "      <td>XP_016868350;XP_016868348;XP_054215426.1;XP_01...</td>\n",
       "    </tr>\n",
       "    <tr>\n",
       "      <th>4</th>\n",
       "      <td>NaN</td>\n",
       "      <td>NaN</td>\n",
       "      <td>NaN</td>\n",
       "      <td>A0A023T6R1</td>\n",
       "      <td>NaN</td>\n",
       "      <td>NaN</td>\n",
       "      <td>NP_060518.1</td>\n",
       "    </tr>\n",
       "    <tr>\n",
       "      <th>...</th>\n",
       "      <td>...</td>\n",
       "      <td>...</td>\n",
       "      <td>...</td>\n",
       "      <td>...</td>\n",
       "      <td>...</td>\n",
       "      <td>...</td>\n",
       "      <td>...</td>\n",
       "    </tr>\n",
       "    <tr>\n",
       "      <th>310175</th>\n",
       "      <td>ENSP00000520930</td>\n",
       "      <td>NaN</td>\n",
       "      <td>ENSP00000520930.1</td>\n",
       "      <td>NaN</td>\n",
       "      <td>1438.0</td>\n",
       "      <td>CSF2RA</td>\n",
       "      <td>NP_001366088</td>\n",
       "    </tr>\n",
       "    <tr>\n",
       "      <th>310176</th>\n",
       "      <td>ENSP00000520930</td>\n",
       "      <td>NaN</td>\n",
       "      <td>ENSP00000520930.1</td>\n",
       "      <td>NaN</td>\n",
       "      <td>1438.0</td>\n",
       "      <td>CSF2RA</td>\n",
       "      <td>NP_001366092</td>\n",
       "    </tr>\n",
       "    <tr>\n",
       "      <th>310177</th>\n",
       "      <td>ENSP00000520930</td>\n",
       "      <td>NaN</td>\n",
       "      <td>ENSP00000520930.1</td>\n",
       "      <td>NaN</td>\n",
       "      <td>1438.0</td>\n",
       "      <td>CSF2RA</td>\n",
       "      <td>NP_001366091</td>\n",
       "    </tr>\n",
       "    <tr>\n",
       "      <th>310178</th>\n",
       "      <td>ENSP00000520931</td>\n",
       "      <td>NaN</td>\n",
       "      <td>ENSP00000520931.1</td>\n",
       "      <td>NaN</td>\n",
       "      <td>8225.0</td>\n",
       "      <td>GTPBP6</td>\n",
       "      <td>&lt;NA&gt;</td>\n",
       "    </tr>\n",
       "    <tr>\n",
       "      <th>310179</th>\n",
       "      <td>ENSP00000520932</td>\n",
       "      <td>NaN</td>\n",
       "      <td>ENSP00000520932.1</td>\n",
       "      <td>NaN</td>\n",
       "      <td>3581.0</td>\n",
       "      <td>IL9R</td>\n",
       "      <td>NP_789743</td>\n",
       "    </tr>\n",
       "  </tbody>\n",
       "</table>\n",
       "<p>310180 rows × 7 columns</p>\n",
       "</div>"
      ],
      "text/plain": [
       "       Protein stable ID Protein names    Ensembl version  Uniprot ID NCBI_ID  \\\n",
       "0                    NaN           NaN                NaN  A0A023HHK9     NaN   \n",
       "1                    NaN           NaN                NaN  A0A023HHL0     NaN   \n",
       "2                    NaN           NaN                NaN  A0A023IN41     NaN   \n",
       "3                    NaN           NaN                NaN  A0A023T695     NaN   \n",
       "4                    NaN           NaN                NaN  A0A023T6R1     NaN   \n",
       "...                  ...           ...                ...         ...     ...   \n",
       "310175   ENSP00000520930           NaN  ENSP00000520930.1         NaN  1438.0   \n",
       "310176   ENSP00000520930           NaN  ENSP00000520930.1         NaN  1438.0   \n",
       "310177   ENSP00000520930           NaN  ENSP00000520930.1         NaN  1438.0   \n",
       "310178   ENSP00000520931           NaN  ENSP00000520931.1         NaN  8225.0   \n",
       "310179   ENSP00000520932           NaN  ENSP00000520932.1         NaN  3581.0   \n",
       "\n",
       "       Gene_Name                                          RefSeq_ID  \n",
       "0            NaN                                        NP_085128.2  \n",
       "1            NaN                                        NP_085128.2  \n",
       "2            NaN                                     NP_001186551.1  \n",
       "3            NaN  XP_016868350;XP_016868348;XP_054215426.1;XP_01...  \n",
       "4            NaN                                        NP_060518.1  \n",
       "...          ...                                                ...  \n",
       "310175    CSF2RA                                       NP_001366088  \n",
       "310176    CSF2RA                                       NP_001366092  \n",
       "310177    CSF2RA                                       NP_001366091  \n",
       "310178    GTPBP6                                               <NA>  \n",
       "310179      IL9R                                          NP_789743  \n",
       "\n",
       "[310180 rows x 7 columns]"
      ]
     },
     "execution_count": 17,
     "metadata": {},
     "output_type": "execute_result"
    }
   ],
   "source": [
    "df_ensembl_uniprot_refseq = df_ensembl_uniprot.copy()\n",
    "df_ensembl_uniprot_refseq = pd.merge(df_ensembl_uniprot_refseq, df_refseq_uniprot_filter, left_on='Uniprot ID', right_on='Uniprot ID', how='outer')\n",
    "df_ensembl_uniprot_refseq = merge_string_columns(df_ensembl_uniprot_refseq, ['RefSeq ID','RefSeq peptide ID'], 'RefSeq_ID')\n",
    "df_ensembl_uniprot_refseq.replace('', pd.NA, inplace=True)\n",
    "df_ensembl_uniprot_refseq"
   ]
  },
  {
   "cell_type": "markdown",
   "metadata": {},
   "source": [
    "Ensembl-RefSeq"
   ]
  },
  {
   "cell_type": "code",
   "execution_count": 18,
   "metadata": {},
   "outputs": [
    {
     "data": {
      "application/vnd.microsoft.datawrangler.viewer.v0+json": {
       "columns": [
        {
         "name": "index",
         "rawType": "int64",
         "type": "integer"
        },
        {
         "name": "Protein stable ID",
         "rawType": "object",
         "type": "unknown"
        },
        {
         "name": "Protein names",
         "rawType": "object",
         "type": "unknown"
        },
        {
         "name": "Ensembl version",
         "rawType": "object",
         "type": "unknown"
        },
        {
         "name": "Uniprot ID",
         "rawType": "object",
         "type": "unknown"
        },
        {
         "name": "Gene_Name",
         "rawType": "object",
         "type": "unknown"
        },
        {
         "name": "NCBI ID",
         "rawType": "object",
         "type": "unknown"
        },
        {
         "name": "RefSeq",
         "rawType": "object",
         "type": "unknown"
        }
       ],
       "conversionMethod": "pd.DataFrame",
       "ref": "3ae63d56-09d5-406b-9cf2-ee909a981979",
       "rows": [
        [
         "0",
         "ENSP00000000233",
         "ADP-ribosylation factor 5",
         "ENSP00000000233.5",
         "P84085",
         "ARF5",
         "381.0",
         "NP_001653.1;NP_001653"
        ],
        [
         "0",
         "ENSP00000000233",
         "ADP-ribosylation factor 5",
         "ENSP00000000233.5",
         "P84085",
         "ARF5",
         "381",
         "NP_001653.1;NP_001653"
        ],
        [
         "2",
         "ENSP00000000412",
         "Cation-dependent mannose-6-phosphate receptor (CD Man-6-P receptor) (CD-MPR) (46 kDa mannose 6-phosphate receptor) (MPR 46)",
         "ENSP00000000412.3",
         "P20645",
         "M6PR",
         "4074.0",
         "NP_001401262.1;NP_001401261.1;XP_047284806.1;NP_002346.1;NP_001401249.1;NP_002346;XP_054228029.1;XP_005253433;NP_001401260.1"
        ],
        [
         "2",
         "ENSP00000000412",
         "Cation-dependent mannose-6-phosphate receptor (CD Man-6-P receptor) (CD-MPR) (46 kDa mannose 6-phosphate receptor) (MPR 46)",
         "ENSP00000000412.3",
         "P20645",
         "M6PR",
         "4074",
         "NP_001401262.1;NP_001401261.1;XP_047284806.1;NP_002346.1;NP_001401249.1;NP_002346;XP_054228029.1;XP_005253433;NP_001401260.1"
        ],
        [
         "4",
         "ENSP00000000412",
         "Cation-dependent mannose-6-phosphate receptor (CD Man-6-P receptor) (CD-MPR) (46 kDa mannose 6-phosphate receptor) (MPR 46)",
         "ENSP00000000412.3",
         "P20645",
         "M6PR",
         "4074.0",
         "NP_001401262.1;NP_001401249;NP_001401261.1;XP_047284806.1;NP_002346.1;NP_001401249.1;XP_054228029.1;XP_005253433;NP_001401260.1"
        ],
        [
         "4",
         "ENSP00000000412",
         "Cation-dependent mannose-6-phosphate receptor (CD Man-6-P receptor) (CD-MPR) (46 kDa mannose 6-phosphate receptor) (MPR 46)",
         "ENSP00000000412.3",
         "P20645",
         "M6PR",
         "4074",
         "NP_001401262.1;NP_001401249;NP_001401261.1;XP_047284806.1;NP_002346.1;NP_001401249.1;XP_054228029.1;XP_005253433;NP_001401260.1"
        ],
        [
         "6",
         "ENSP00000000412",
         "Cation-dependent mannose-6-phosphate receptor (CD Man-6-P receptor) (CD-MPR) (46 kDa mannose 6-phosphate receptor) (MPR 46)",
         "ENSP00000000412.3",
         "P20645",
         "M6PR",
         "4074.0",
         "NP_001401262.1;NP_001401261.1;XP_047284806.1;NP_002346.1;NP_001401249.1;XP_054228029.1;NP_001401261;XP_005253433;NP_001401260.1"
        ],
        [
         "6",
         "ENSP00000000412",
         "Cation-dependent mannose-6-phosphate receptor (CD Man-6-P receptor) (CD-MPR) (46 kDa mannose 6-phosphate receptor) (MPR 46)",
         "ENSP00000000412.3",
         "P20645",
         "M6PR",
         "4074",
         "NP_001401262.1;NP_001401261.1;XP_047284806.1;NP_002346.1;NP_001401249.1;XP_054228029.1;NP_001401261;XP_005253433;NP_001401260.1"
        ],
        [
         "8",
         "ENSP00000000412",
         "Cation-dependent mannose-6-phosphate receptor (CD Man-6-P receptor) (CD-MPR) (46 kDa mannose 6-phosphate receptor) (MPR 46)",
         "ENSP00000000412.3",
         "P20645",
         "M6PR",
         "4074.0",
         "NP_001401262.1;NP_001401261.1;XP_047284806.1;NP_002346.1;NP_001401249.1;NP_001401262;XP_054228029.1;XP_005253433;NP_001401260.1"
        ],
        [
         "8",
         "ENSP00000000412",
         "Cation-dependent mannose-6-phosphate receptor (CD Man-6-P receptor) (CD-MPR) (46 kDa mannose 6-phosphate receptor) (MPR 46)",
         "ENSP00000000412.3",
         "P20645",
         "M6PR",
         "4074",
         "NP_001401262.1;NP_001401261.1;XP_047284806.1;NP_002346.1;NP_001401249.1;NP_001401262;XP_054228029.1;XP_005253433;NP_001401260.1"
        ],
        [
         "10",
         "ENSP00000000412",
         "Cation-dependent mannose-6-phosphate receptor (CD Man-6-P receptor) (CD-MPR) (46 kDa mannose 6-phosphate receptor) (MPR 46)",
         "ENSP00000000412.3",
         "P20645",
         "M6PR",
         "4074.0",
         "NP_001401262.1;NP_001401261.1;NP_001401260;XP_047284806.1;NP_002346.1;NP_001401249.1;XP_054228029.1;XP_005253433;NP_001401260.1"
        ],
        [
         "10",
         "ENSP00000000412",
         "Cation-dependent mannose-6-phosphate receptor (CD Man-6-P receptor) (CD-MPR) (46 kDa mannose 6-phosphate receptor) (MPR 46)",
         "ENSP00000000412.3",
         "P20645",
         "M6PR",
         "4074",
         "NP_001401262.1;NP_001401261.1;NP_001401260;XP_047284806.1;NP_002346.1;NP_001401249.1;XP_054228029.1;XP_005253433;NP_001401260.1"
        ],
        [
         "12",
         "ENSP00000000442",
         "Steroid hormone receptor ERR1 (Estrogen receptor-like 1) (Estrogen-related receptor alpha) (ERR-alpha) (Nuclear receptor subfamily 3 group B member 1)",
         "ENSP00000000442.6",
         "P11474",
         "ESRRA",
         "2101.0",
         "NP_001269380;NP_004442.3;NP_004442;NP_001269379.1"
        ],
        [
         "12",
         "ENSP00000000442",
         "Steroid hormone receptor ERR1 (Estrogen receptor-like 1) (Estrogen-related receptor alpha) (ERR-alpha) (Nuclear receptor subfamily 3 group B member 1)",
         "ENSP00000000442.6",
         "P11474",
         "ESRRA",
         "2101",
         "NP_001269380;NP_004442.3;NP_004442;NP_001269379.1"
        ],
        [
         "14",
         "ENSP00000001008",
         "Peptidyl-prolyl cis-trans isomerase FKBP4 (PPIase FKBP4) (EC 5.2.1.8) (51 kDa FK506-binding protein) (FKBP51) (52 kDa FK506-binding protein) (52 kDa FKBP) (FKBP-52) (59 kDa immunophilin) (p59) (FK506-binding protein 4) (FKBP-4) (FKBP59) (HSP-binding immunophilin) (HBI) (Immunophilin FKBP52) (Rotamase) [Cleaved into: Peptidyl-prolyl cis-trans isomerase FKBP4, N-terminally processed]",
         "ENSP00000001008.4",
         "Q02790",
         "FKBP4",
         "2288.0",
         "NP_002005;NP_002005.1"
        ],
        [
         "14",
         "ENSP00000001008",
         "Peptidyl-prolyl cis-trans isomerase FKBP4 (PPIase FKBP4) (EC 5.2.1.8) (51 kDa FK506-binding protein) (FKBP51) (52 kDa FK506-binding protein) (52 kDa FKBP) (FKBP-52) (59 kDa immunophilin) (p59) (FK506-binding protein 4) (FKBP-4) (FKBP59) (HSP-binding immunophilin) (HBI) (Immunophilin FKBP52) (Rotamase) [Cleaved into: Peptidyl-prolyl cis-trans isomerase FKBP4, N-terminally processed]",
         "ENSP00000001008.4",
         "Q02790",
         "FKBP4",
         "2288",
         "NP_002005;NP_002005.1"
        ],
        [
         "16",
         "ENSP00000001146",
         "Cytochrome P450 26B1 (EC 1.14.13.-) (Cytochrome P450 26A2) (Cytochrome P450 retinoic acid-inactivating 2) (Cytochrome P450RAI-2) (Retinoic acid-metabolizing cytochrome)",
         "ENSP00000001146.2",
         "Q9NR63",
         "CYP26B1",
         "56603.0",
         "NP_063938.1;NP_001264671;NP_063938"
        ],
        [
         "16",
         "ENSP00000001146",
         "Cytochrome P450 26B1 (EC 1.14.13.-) (Cytochrome P450 26A2) (Cytochrome P450 retinoic acid-inactivating 2) (Cytochrome P450RAI-2) (Retinoic acid-metabolizing cytochrome)",
         "ENSP00000001146.2",
         "Q9NR63",
         "CYP26B1",
         "56603",
         "NP_063938.1;NP_001264671;NP_063938"
        ],
        [
         "18",
         "ENSP00000002125",
         "Protein arginine methyltransferase NDUFAF7, mitochondrial (EC 2.1.1.320) (NADH dehydrogenase [ubiquinone] complex I, assembly factor 7) (Protein midA homolog)",
         "ENSP00000002125.4",
         "Q7L592",
         "NDUFAF7",
         "55471.0",
         "NP_653337.1;NP_001336954"
        ],
        [
         "18",
         "ENSP00000002125",
         "Protein arginine methyltransferase NDUFAF7, mitochondrial (EC 2.1.1.320) (NADH dehydrogenase [ubiquinone] complex I, assembly factor 7) (Protein midA homolog)",
         "ENSP00000002125.4",
         "Q7L592",
         "NDUFAF7",
         "55471",
         "NP_653337.1;NP_001336954"
        ],
        [
         "20",
         "ENSP00000002125",
         "Protein arginine methyltransferase NDUFAF7, mitochondrial (EC 2.1.1.320) (NADH dehydrogenase [ubiquinone] complex I, assembly factor 7) (Protein midA homolog)",
         "ENSP00000002125.4",
         "Q7L592",
         "NDUFAF7",
         "55471.0",
         "NP_653337.1;NP_001336953"
        ],
        [
         "20",
         "ENSP00000002125",
         "Protein arginine methyltransferase NDUFAF7, mitochondrial (EC 2.1.1.320) (NADH dehydrogenase [ubiquinone] complex I, assembly factor 7) (Protein midA homolog)",
         "ENSP00000002125.4",
         "Q7L592",
         "NDUFAF7",
         "55471",
         "NP_653337.1;NP_001336953"
        ],
        [
         "22",
         "ENSP00000002125",
         "Protein arginine methyltransferase NDUFAF7, mitochondrial (EC 2.1.1.320) (NADH dehydrogenase [ubiquinone] complex I, assembly factor 7) (Protein midA homolog)",
         "ENSP00000002125.4",
         "Q7L592",
         "NDUFAF7",
         "55471.0",
         "NP_653337.1;NP_653337"
        ],
        [
         "22",
         "ENSP00000002125",
         "Protein arginine methyltransferase NDUFAF7, mitochondrial (EC 2.1.1.320) (NADH dehydrogenase [ubiquinone] complex I, assembly factor 7) (Protein midA homolog)",
         "ENSP00000002125.4",
         "Q7L592",
         "NDUFAF7",
         "55471",
         "NP_653337.1;NP_653337"
        ],
        [
         "24",
         "ENSP00000002165",
         "Plasma alpha-L-fucosidase (EC 3.2.1.51) (Alpha-L-fucoside fucohydrolase 2) (Alpha-L-fucosidase 2)",
         "ENSP00000002165.5",
         "Q9BTY2",
         "FUCA2",
         "2519.0",
         "NP_114409.2;NP_114409"
        ],
        [
         "24",
         "ENSP00000002165",
         "Plasma alpha-L-fucosidase (EC 3.2.1.51) (Alpha-L-fucoside fucohydrolase 2) (Alpha-L-fucosidase 2)",
         "ENSP00000002165.5",
         "Q9BTY2",
         "FUCA2",
         "2519",
         "NP_114409.2;NP_114409"
        ],
        [
         "26",
         "ENSP00000002501",
         "Dysbindin domain-containing protein 1",
         "ENSP00000002501.6",
         "Q9H9R9",
         "DBNDD1",
         "79007.0",
         "NP_001036075.1;NP_001275638;NP_001036075"
        ],
        [
         "26",
         "ENSP00000002501",
         "Dysbindin domain-containing protein 1",
         "ENSP00000002501.6",
         "Q9H9R9",
         "DBNDD1",
         "79007",
         "NP_001036075.1;NP_001275638;NP_001036075"
        ],
        [
         "28",
         "ENSP00000002596",
         "Heparan sulfate glucosamine 3-O-sulfotransferase 1 (EC 2.8.2.23) (Heparan sulfate D-glucosaminyl 3-O-sulfotransferase 1) (3-OST-1) (Heparan sulfate 3-O-sulfotransferase 1) (h3-OST-1)",
         "ENSP00000002596.5",
         "O14792",
         "HS3ST1",
         "9957.0",
         "XP_011512215.1;NP_005105.1;XP_054207323.1;NP_005105"
        ],
        [
         "28",
         "ENSP00000002596",
         "Heparan sulfate glucosamine 3-O-sulfotransferase 1 (EC 2.8.2.23) (Heparan sulfate D-glucosaminyl 3-O-sulfotransferase 1) (3-OST-1) (Heparan sulfate 3-O-sulfotransferase 1) (h3-OST-1)",
         "ENSP00000002596.5",
         "O14792",
         "HS3ST1",
         "9957",
         "XP_011512215.1;NP_005105.1;XP_054207323.1;NP_005105"
        ],
        [
         "30",
         "ENSP00000002829",
         "Semaphorin-3F (Sema III/F) (Semaphorin IV) (Sema IV)",
         "ENSP00000002829.3",
         "Q13275",
         "SEMA3F",
         "6405.0",
         "XP_005265438.1;NP_004177.3;NP_004177;XP_011532300.1;XP_047304655.1"
        ],
        [
         "30",
         "ENSP00000002829",
         "Semaphorin-3F (Sema III/F) (Semaphorin IV) (Sema IV)",
         "ENSP00000002829.3",
         "Q13275",
         "SEMA3F",
         "6405",
         "XP_005265438.1;NP_004177.3;NP_004177;XP_011532300.1;XP_047304655.1"
        ],
        [
         "32",
         "ENSP00000003084",
         "Cystic fibrosis transmembrane conductance regulator (CFTR) (ATP-binding cassette sub-family C member 7) (Channel conductance-controlling ATPase) (EC 5.6.1.6) (cAMP-dependent chloride channel)",
         "ENSP00000003084.6",
         "P13569",
         "CFTR",
         "1080.0",
         "NP_000483;NP_000483.3"
        ],
        [
         "32",
         "ENSP00000003084",
         "Cystic fibrosis transmembrane conductance regulator (CFTR) (ATP-binding cassette sub-family C member 7) (Channel conductance-controlling ATPase) (EC 5.6.1.6) (cAMP-dependent chloride channel)",
         "ENSP00000003084.6",
         "P13569",
         "CFTR",
         "1080",
         "NP_000483;NP_000483.3"
        ],
        [
         "34",
         "ENSP00000003100",
         "Lanosterol 14-alpha demethylase (LDM) (EC 1.14.14.154) (CYPLI) (Cytochrome P450 51A1) (CYP51A1) (Cytochrome P450-14DM) (Cytochrome P45014DM) (Cytochrome P450LI) (Sterol 14-alpha demethylase)",
         "ENSP00000003100.8",
         "Q16850",
         "CYP51A1",
         "1595.0",
         "NP_000777.1;NP_000777"
        ],
        [
         "34",
         "ENSP00000003100",
         "Lanosterol 14-alpha demethylase (LDM) (EC 1.14.14.154) (CYPLI) (Cytochrome P450 51A1) (CYP51A1) (Cytochrome P450-14DM) (Cytochrome P45014DM) (Cytochrome P450LI) (Sterol 14-alpha demethylase)",
         "ENSP00000003100.8",
         "Q16850",
         "CYP51A1",
         "1595",
         "NP_000777.1;NP_000777"
        ],
        [
         "36",
         "ENSP00000003302",
         "Ubiquitin carboxyl-terminal hydrolase 28 (EC 3.4.19.12) (Deubiquitinating enzyme 28) (Ubiquitin thioesterase 28) (Ubiquitin-specific-processing protease 28)",
         "ENSP00000003302.4",
         "Q96RU2",
         "USP28",
         "57646.0",
         "NP_001333187;NP_065937.1;NP_001333202"
        ],
        [
         "36",
         "ENSP00000003302",
         "Ubiquitin carboxyl-terminal hydrolase 28 (EC 3.4.19.12) (Deubiquitinating enzyme 28) (Ubiquitin thioesterase 28) (Ubiquitin-specific-processing protease 28)",
         "ENSP00000003302.4",
         "Q96RU2",
         "USP28",
         "57646",
         "NP_001333187;NP_065937.1;NP_001333202"
        ],
        [
         "38",
         "ENSP00000003302",
         "Ubiquitin carboxyl-terminal hydrolase 28 (EC 3.4.19.12) (Deubiquitinating enzyme 28) (Ubiquitin thioesterase 28) (Ubiquitin-specific-processing protease 28)",
         "ENSP00000003302.4",
         "Q96RU2",
         "USP28",
         "57646.0",
         "NP_001333184;NP_001333187;NP_065937.1;NP_001333202"
        ],
        [
         "38",
         "ENSP00000003302",
         "Ubiquitin carboxyl-terminal hydrolase 28 (EC 3.4.19.12) (Deubiquitinating enzyme 28) (Ubiquitin thioesterase 28) (Ubiquitin-specific-processing protease 28)",
         "ENSP00000003302.4",
         "Q96RU2",
         "USP28",
         "57646",
         "NP_001333184;NP_001333187;NP_065937.1;NP_001333202"
        ],
        [
         "40",
         "ENSP00000003302",
         "Ubiquitin carboxyl-terminal hydrolase 28 (EC 3.4.19.12) (Deubiquitinating enzyme 28) (Ubiquitin thioesterase 28) (Ubiquitin-specific-processing protease 28)",
         "ENSP00000003302.4",
         "Q96RU2",
         "USP28",
         "57646.0",
         "NP_001333187;NP_001387721;NP_065937.1;NP_001333202"
        ],
        [
         "40",
         "ENSP00000003302",
         "Ubiquitin carboxyl-terminal hydrolase 28 (EC 3.4.19.12) (Deubiquitinating enzyme 28) (Ubiquitin thioesterase 28) (Ubiquitin-specific-processing protease 28)",
         "ENSP00000003302.4",
         "Q96RU2",
         "USP28",
         "57646",
         "NP_001333187;NP_001387721;NP_065937.1;NP_001333202"
        ],
        [
         "42",
         "ENSP00000003302",
         "Ubiquitin carboxyl-terminal hydrolase 28 (EC 3.4.19.12) (Deubiquitinating enzyme 28) (Ubiquitin thioesterase 28) (Ubiquitin-specific-processing protease 28)",
         "ENSP00000003302.4",
         "Q96RU2",
         "USP28",
         "57646.0",
         "NP_001333187;NP_001387720;NP_065937.1;NP_001333202"
        ],
        [
         "42",
         "ENSP00000003302",
         "Ubiquitin carboxyl-terminal hydrolase 28 (EC 3.4.19.12) (Deubiquitinating enzyme 28) (Ubiquitin thioesterase 28) (Ubiquitin-specific-processing protease 28)",
         "ENSP00000003302.4",
         "Q96RU2",
         "USP28",
         "57646",
         "NP_001333187;NP_001387720;NP_065937.1;NP_001333202"
        ],
        [
         "44",
         "ENSP00000003302",
         "Ubiquitin carboxyl-terminal hydrolase 28 (EC 3.4.19.12) (Deubiquitinating enzyme 28) (Ubiquitin thioesterase 28) (Ubiquitin-specific-processing protease 28)",
         "ENSP00000003302.4",
         "Q96RU2",
         "USP28",
         "57646.0",
         "NP_001333187;NP_001387719;NP_065937.1;NP_001333202"
        ],
        [
         "44",
         "ENSP00000003302",
         "Ubiquitin carboxyl-terminal hydrolase 28 (EC 3.4.19.12) (Deubiquitinating enzyme 28) (Ubiquitin thioesterase 28) (Ubiquitin-specific-processing protease 28)",
         "ENSP00000003302.4",
         "Q96RU2",
         "USP28",
         "57646",
         "NP_001333187;NP_001387719;NP_065937.1;NP_001333202"
        ],
        [
         "46",
         "ENSP00000003302",
         "Ubiquitin carboxyl-terminal hydrolase 28 (EC 3.4.19.12) (Deubiquitinating enzyme 28) (Ubiquitin thioesterase 28) (Ubiquitin-specific-processing protease 28)",
         "ENSP00000003302.4",
         "Q96RU2",
         "USP28",
         "57646.0",
         "NP_001333187;NP_001387726;NP_065937.1;NP_001333202"
        ],
        [
         "46",
         "ENSP00000003302",
         "Ubiquitin carboxyl-terminal hydrolase 28 (EC 3.4.19.12) (Deubiquitinating enzyme 28) (Ubiquitin thioesterase 28) (Ubiquitin-specific-processing protease 28)",
         "ENSP00000003302.4",
         "Q96RU2",
         "USP28",
         "57646",
         "NP_001333187;NP_001387726;NP_065937.1;NP_001333202"
        ],
        [
         "48",
         "ENSP00000003302",
         "Ubiquitin carboxyl-terminal hydrolase 28 (EC 3.4.19.12) (Deubiquitinating enzyme 28) (Ubiquitin thioesterase 28) (Ubiquitin-specific-processing protease 28)",
         "ENSP00000003302.4",
         "Q96RU2",
         "USP28",
         "57646.0",
         "NP_001333187;NP_065937.1;NP_001333202;NP_001387725"
        ],
        [
         "48",
         "ENSP00000003302",
         "Ubiquitin carboxyl-terminal hydrolase 28 (EC 3.4.19.12) (Deubiquitinating enzyme 28) (Ubiquitin thioesterase 28) (Ubiquitin-specific-processing protease 28)",
         "ENSP00000003302.4",
         "Q96RU2",
         "USP28",
         "57646",
         "NP_001333187;NP_065937.1;NP_001333202;NP_001387725"
        ]
       ],
       "shape": {
        "columns": 7,
        "rows": 323812
       }
      },
      "text/html": [
       "<div>\n",
       "<style scoped>\n",
       "    .dataframe tbody tr th:only-of-type {\n",
       "        vertical-align: middle;\n",
       "    }\n",
       "\n",
       "    .dataframe tbody tr th {\n",
       "        vertical-align: top;\n",
       "    }\n",
       "\n",
       "    .dataframe thead th {\n",
       "        text-align: right;\n",
       "    }\n",
       "</style>\n",
       "<table border=\"1\" class=\"dataframe\">\n",
       "  <thead>\n",
       "    <tr style=\"text-align: right;\">\n",
       "      <th></th>\n",
       "      <th>Protein stable ID</th>\n",
       "      <th>Protein names</th>\n",
       "      <th>Ensembl version</th>\n",
       "      <th>Uniprot ID</th>\n",
       "      <th>Gene_Name</th>\n",
       "      <th>NCBI ID</th>\n",
       "      <th>RefSeq</th>\n",
       "    </tr>\n",
       "  </thead>\n",
       "  <tbody>\n",
       "    <tr>\n",
       "      <th>0</th>\n",
       "      <td>ENSP00000000233</td>\n",
       "      <td>ADP-ribosylation factor 5</td>\n",
       "      <td>ENSP00000000233.5</td>\n",
       "      <td>P84085</td>\n",
       "      <td>ARF5</td>\n",
       "      <td>381.0</td>\n",
       "      <td>NP_001653.1;NP_001653</td>\n",
       "    </tr>\n",
       "    <tr>\n",
       "      <th>0</th>\n",
       "      <td>ENSP00000000233</td>\n",
       "      <td>ADP-ribosylation factor 5</td>\n",
       "      <td>ENSP00000000233.5</td>\n",
       "      <td>P84085</td>\n",
       "      <td>ARF5</td>\n",
       "      <td>381</td>\n",
       "      <td>NP_001653.1;NP_001653</td>\n",
       "    </tr>\n",
       "    <tr>\n",
       "      <th>2</th>\n",
       "      <td>ENSP00000000412</td>\n",
       "      <td>Cation-dependent mannose-6-phosphate receptor ...</td>\n",
       "      <td>ENSP00000000412.3</td>\n",
       "      <td>P20645</td>\n",
       "      <td>M6PR</td>\n",
       "      <td>4074.0</td>\n",
       "      <td>NP_001401262.1;NP_001401261.1;XP_047284806.1;N...</td>\n",
       "    </tr>\n",
       "    <tr>\n",
       "      <th>2</th>\n",
       "      <td>ENSP00000000412</td>\n",
       "      <td>Cation-dependent mannose-6-phosphate receptor ...</td>\n",
       "      <td>ENSP00000000412.3</td>\n",
       "      <td>P20645</td>\n",
       "      <td>M6PR</td>\n",
       "      <td>4074</td>\n",
       "      <td>NP_001401262.1;NP_001401261.1;XP_047284806.1;N...</td>\n",
       "    </tr>\n",
       "    <tr>\n",
       "      <th>4</th>\n",
       "      <td>ENSP00000000412</td>\n",
       "      <td>Cation-dependent mannose-6-phosphate receptor ...</td>\n",
       "      <td>ENSP00000000412.3</td>\n",
       "      <td>P20645</td>\n",
       "      <td>M6PR</td>\n",
       "      <td>4074.0</td>\n",
       "      <td>NP_001401262.1;NP_001401249;NP_001401261.1;XP_...</td>\n",
       "    </tr>\n",
       "    <tr>\n",
       "      <th>...</th>\n",
       "      <td>...</td>\n",
       "      <td>...</td>\n",
       "      <td>...</td>\n",
       "      <td>...</td>\n",
       "      <td>...</td>\n",
       "      <td>...</td>\n",
       "      <td>...</td>\n",
       "    </tr>\n",
       "    <tr>\n",
       "      <th>310190</th>\n",
       "      <td>NaN</td>\n",
       "      <td>NaN</td>\n",
       "      <td>NaN</td>\n",
       "      <td>X6RGR3</td>\n",
       "      <td>NaN</td>\n",
       "      <td>NaN</td>\n",
       "      <td>NP_001353609.1</td>\n",
       "    </tr>\n",
       "    <tr>\n",
       "      <th>310191</th>\n",
       "      <td>NaN</td>\n",
       "      <td>NaN</td>\n",
       "      <td>NaN</td>\n",
       "      <td>X6RLR1</td>\n",
       "      <td>NaN</td>\n",
       "      <td>NaN</td>\n",
       "      <td>NP_001268356.1</td>\n",
       "    </tr>\n",
       "    <tr>\n",
       "      <th>310192</th>\n",
       "      <td>NaN</td>\n",
       "      <td>NaN</td>\n",
       "      <td>NaN</td>\n",
       "      <td>X6RLX0</td>\n",
       "      <td>NaN</td>\n",
       "      <td>NaN</td>\n",
       "      <td>XP_016874551.1;XP_054227478.1</td>\n",
       "    </tr>\n",
       "    <tr>\n",
       "      <th>310193</th>\n",
       "      <td>NaN</td>\n",
       "      <td>NaN</td>\n",
       "      <td>NaN</td>\n",
       "      <td>X6RM00</td>\n",
       "      <td>NaN</td>\n",
       "      <td>NaN</td>\n",
       "      <td>XP_054227509.1;XP_047284540.1</td>\n",
       "    </tr>\n",
       "    <tr>\n",
       "      <th>310194</th>\n",
       "      <td>NaN</td>\n",
       "      <td>NaN</td>\n",
       "      <td>NaN</td>\n",
       "      <td>X6RM59</td>\n",
       "      <td>NaN</td>\n",
       "      <td>NaN</td>\n",
       "      <td>NP_001002010.2</td>\n",
       "    </tr>\n",
       "  </tbody>\n",
       "</table>\n",
       "<p>323812 rows × 7 columns</p>\n",
       "</div>"
      ],
      "text/plain": [
       "       Protein stable ID                                      Protein names  \\\n",
       "0        ENSP00000000233                          ADP-ribosylation factor 5   \n",
       "0        ENSP00000000233                          ADP-ribosylation factor 5   \n",
       "2        ENSP00000000412  Cation-dependent mannose-6-phosphate receptor ...   \n",
       "2        ENSP00000000412  Cation-dependent mannose-6-phosphate receptor ...   \n",
       "4        ENSP00000000412  Cation-dependent mannose-6-phosphate receptor ...   \n",
       "...                  ...                                                ...   \n",
       "310190               NaN                                                NaN   \n",
       "310191               NaN                                                NaN   \n",
       "310192               NaN                                                NaN   \n",
       "310193               NaN                                                NaN   \n",
       "310194               NaN                                                NaN   \n",
       "\n",
       "          Ensembl version Uniprot ID Gene_Name NCBI ID  \\\n",
       "0       ENSP00000000233.5     P84085      ARF5   381.0   \n",
       "0       ENSP00000000233.5     P84085      ARF5     381   \n",
       "2       ENSP00000000412.3     P20645      M6PR  4074.0   \n",
       "2       ENSP00000000412.3     P20645      M6PR    4074   \n",
       "4       ENSP00000000412.3     P20645      M6PR  4074.0   \n",
       "...                   ...        ...       ...     ...   \n",
       "310190                NaN     X6RGR3       NaN     NaN   \n",
       "310191                NaN     X6RLR1       NaN     NaN   \n",
       "310192                NaN     X6RLX0       NaN     NaN   \n",
       "310193                NaN     X6RM00       NaN     NaN   \n",
       "310194                NaN     X6RM59       NaN     NaN   \n",
       "\n",
       "                                                   RefSeq  \n",
       "0                                   NP_001653.1;NP_001653  \n",
       "0                                   NP_001653.1;NP_001653  \n",
       "2       NP_001401262.1;NP_001401261.1;XP_047284806.1;N...  \n",
       "2       NP_001401262.1;NP_001401261.1;XP_047284806.1;N...  \n",
       "4       NP_001401262.1;NP_001401249;NP_001401261.1;XP_...  \n",
       "...                                                   ...  \n",
       "310190                                     NP_001353609.1  \n",
       "310191                                     NP_001268356.1  \n",
       "310192                      XP_016874551.1;XP_054227478.1  \n",
       "310193                      XP_054227509.1;XP_047284540.1  \n",
       "310194                                     NP_001002010.2  \n",
       "\n",
       "[323812 rows x 7 columns]"
      ]
     },
     "execution_count": 18,
     "metadata": {},
     "output_type": "execute_result"
    }
   ],
   "source": [
    "df_ensembl_uniprot_refseq = pd.merge(df_ensembl_uniprot_refseq, df_refseq_ensembl_merge, on='Ensembl version', how='outer')\n",
    "df_ensembl_uniprot_refseq = merge_column(df_ensembl_uniprot_refseq, 'NCBI_ID', 'GeneID', 'NCBI ID')\n",
    "df_ensembl_uniprot_refseq = merge_string_columns(df_ensembl_uniprot_refseq, ['RefSeq ID','RefSeq_ID'], 'RefSeq')\n",
    "df_ensembl_uniprot_refseq.replace('', pd.NA, inplace=True)\n",
    "df_ensembl_uniprot_refseq"
   ]
  },
  {
   "cell_type": "markdown",
   "metadata": {},
   "source": [
    "### 3.3 Deep Data Cleaning"
   ]
  },
  {
   "cell_type": "code",
   "execution_count": 19,
   "metadata": {},
   "outputs": [
    {
     "data": {
      "application/vnd.microsoft.datawrangler.viewer.v0+json": {
       "columns": [
        {
         "name": "index",
         "rawType": "int64",
         "type": "integer"
        },
        {
         "name": "Uniprot ID",
         "rawType": "object",
         "type": "string"
        },
        {
         "name": "Protein stable ID",
         "rawType": "object",
         "type": "unknown"
        },
        {
         "name": "Protein names",
         "rawType": "object",
         "type": "unknown"
        },
        {
         "name": "Ensembl version",
         "rawType": "object",
         "type": "unknown"
        },
        {
         "name": "Gene_Name",
         "rawType": "object",
         "type": "unknown"
        },
        {
         "name": "NCBI ID",
         "rawType": "object",
         "type": "unknown"
        },
        {
         "name": "RefSeq",
         "rawType": "object",
         "type": "unknown"
        }
       ],
       "conversionMethod": "pd.DataFrame",
       "ref": "186b8532-8ba6-47cd-8c3e-b3ec29ee2ff2",
       "rows": [
        [
         "0",
         "A0A023HHK9",
         null,
         null,
         null,
         null,
         null,
         "NP_085128.2"
        ],
        [
         "1",
         "A0A023HHL0",
         null,
         null,
         null,
         null,
         null,
         "NP_085128.2"
        ],
        [
         "2",
         "A0A023IN41",
         null,
         null,
         null,
         null,
         null,
         "NP_001186551.1"
        ],
        [
         "3",
         "A0A023T695",
         null,
         null,
         null,
         null,
         null,
         "XP_016868347;XP_016868348;XP_016868349;XP_016868350;XP_047277052.1;XP_054215426.1"
        ],
        [
         "4",
         "A0A023T6R1",
         null,
         null,
         null,
         null,
         null,
         "NP_060518.1"
        ],
        [
         "5",
         "A0A023T787",
         null,
         null,
         null,
         null,
         null,
         "NP_005096.1"
        ],
        [
         "6",
         "A0A024QY88",
         null,
         null,
         null,
         null,
         null,
         "NP_039252.2"
        ],
        [
         "7",
         "A0A024QYR3",
         null,
         null,
         null,
         null,
         null,
         "NP_055557.2"
        ],
        [
         "8",
         "A0A024QYR8",
         null,
         null,
         null,
         null,
         null,
         "NP_004791.1"
        ],
        [
         "9",
         "A0A024QYS2",
         null,
         null,
         null,
         null,
         null,
         "NP_064508.3"
        ],
        [
         "10",
         "A0A024QYW1",
         null,
         null,
         null,
         null,
         null,
         "XP_005276759"
        ],
        [
         "11",
         "A0A024QYX0",
         null,
         null,
         null,
         null,
         null,
         "NP_006570.1"
        ],
        [
         "12",
         "A0A024QYX2",
         null,
         null,
         null,
         null,
         null,
         "XP_006721114;XP_006721115"
        ],
        [
         "13",
         "A0A024QYX5",
         null,
         null,
         null,
         null,
         null,
         "NP_036412.1;XP_024308127.1;XP_054182713.1"
        ],
        [
         "14",
         "A0A024QYY3",
         null,
         null,
         null,
         null,
         null,
         "XP_005256782;XP_005256783;XP_016880354;XP_016880355;XP_016880356"
        ],
        [
         "15",
         "A0A024QYY4",
         null,
         null,
         null,
         null,
         null,
         "XP_005273028"
        ],
        [
         "16",
         "A0A024QYZ6",
         null,
         null,
         null,
         null,
         null,
         "XP_016864492;XP_016864493"
        ],
        [
         "17",
         "A0A024QZ13",
         null,
         null,
         null,
         null,
         null,
         "NP_001317095.1"
        ],
        [
         "18",
         "A0A024QZ18",
         null,
         null,
         null,
         null,
         null,
         "XP_005278121;XP_005278122;XP_011542287;XP_011542288;XP_011542289"
        ],
        [
         "19",
         "A0A024QZ33",
         null,
         null,
         null,
         null,
         null,
         "NP_001248396.1;XP_016880699;XP_016880700;XP_016880701;XP_016880702;XP_016880703;XP_016880704;XP_047292875.1;XP_047292876.1;XP_047292877.1;XP_054173512.1;XP_054173513.1;XP_054173514.1"
        ],
        [
         "20",
         "A0A024QZ35",
         null,
         null,
         null,
         null,
         null,
         "XP_016859901"
        ],
        [
         "21",
         "A0A024QZ37",
         null,
         null,
         null,
         null,
         null,
         "NP_005257.2;NP_859054.1"
        ],
        [
         "22",
         "A0A024QZ42",
         null,
         null,
         null,
         null,
         null,
         "NP_001254487.1"
        ],
        [
         "23",
         "A0A024QZ45",
         null,
         null,
         null,
         null,
         null,
         "NP_114432.2;XP_047292847.1;XP_047292848.1"
        ],
        [
         "24",
         "A0A024QZ48",
         null,
         null,
         null,
         null,
         null,
         "NP_001317346"
        ],
        [
         "25",
         "A0A024QZ60",
         null,
         null,
         null,
         null,
         null,
         "XP_016880320;XP_016880321;XP_016880322;XP_016880323"
        ],
        [
         "26",
         "A0A024QZ64",
         null,
         null,
         null,
         null,
         null,
         "NP_005156.1;XP_005258006.1;XP_011522858.1;XP_054171518.1;XP_054171519.1"
        ],
        [
         "27",
         "A0A024QZ70",
         null,
         null,
         null,
         null,
         null,
         "XP_011523362"
        ],
        [
         "28",
         "A0A024QZ77",
         null,
         null,
         null,
         null,
         null,
         "NP_077305.2"
        ],
        [
         "29",
         "A0A024QZ87",
         null,
         null,
         null,
         null,
         null,
         "XP_011521204;XP_011521205"
        ],
        [
         "30",
         "A0A024QZ90",
         null,
         null,
         null,
         null,
         null,
         "XP_006721190;XP_016878379"
        ],
        [
         "31",
         "A0A024QZB0",
         null,
         null,
         null,
         null,
         null,
         "XP_006710761"
        ],
        [
         "32",
         "A0A024QZC1",
         null,
         null,
         null,
         null,
         null,
         "NP_001230575.1;NP_006101.1"
        ],
        [
         "33",
         "A0A024QZD2",
         null,
         null,
         null,
         null,
         null,
         "XP_016878603;XP_016878604;XP_016878605"
        ],
        [
         "34",
         "A0A024QZD3",
         null,
         null,
         null,
         null,
         null,
         "XP_006723167"
        ],
        [
         "35",
         "A0A024QZE3",
         null,
         null,
         null,
         null,
         null,
         "XP_005258562;XP_005258563;XP_011524740;XP_011524741"
        ],
        [
         "36",
         "A0A024QZE4",
         null,
         null,
         null,
         null,
         null,
         "XP_005259019;XP_006723295;XP_011525312"
        ],
        [
         "37",
         "A0A024QZG0",
         null,
         null,
         null,
         null,
         null,
         "NP_001273501.1;NP_055586.1"
        ],
        [
         "38",
         "A0A024QZG6",
         null,
         null,
         null,
         null,
         null,
         "NP_001311387.1;NP_001311388.1;NP_037424.2"
        ],
        [
         "39",
         "A0A024QZH5",
         null,
         null,
         null,
         null,
         null,
         "XP_011525435"
        ],
        [
         "40",
         "A0A024QZI2",
         null,
         null,
         null,
         null,
         null,
         "NP_001129491.1;NP_004098.1;XP_054176174.1"
        ],
        [
         "41",
         "A0A024QZJ4",
         null,
         null,
         null,
         null,
         null,
         "NP_002465.1"
        ],
        [
         "42",
         "A0A024QZJ5",
         null,
         null,
         null,
         null,
         null,
         "XP_016871649"
        ],
        [
         "43",
         "A0A024QZK5",
         null,
         null,
         null,
         null,
         null,
         "NP_071412.2;XP_005270085.1;XP_054222508.1"
        ],
        [
         "44",
         "A0A024QZK8",
         null,
         null,
         null,
         null,
         null,
         "XP_016871657"
        ],
        [
         "45",
         "A0A024QZL0",
         null,
         null,
         null,
         null,
         null,
         "XP_016871325"
        ],
        [
         "46",
         "A0A024QZL4",
         null,
         null,
         null,
         null,
         null,
         "XP_006718147;XP_016872490"
        ],
        [
         "47",
         "A0A024QZM0",
         null,
         null,
         null,
         null,
         null,
         "XP_006717936"
        ],
        [
         "48",
         "A0A024QZM7",
         null,
         null,
         null,
         null,
         null,
         "XP_005269777"
        ],
        [
         "49",
         "A0A024QZM9",
         null,
         null,
         null,
         null,
         null,
         "NP_002649"
        ]
       ],
       "shape": {
        "columns": 7,
        "rows": 100979
       }
      },
      "text/html": [
       "<div>\n",
       "<style scoped>\n",
       "    .dataframe tbody tr th:only-of-type {\n",
       "        vertical-align: middle;\n",
       "    }\n",
       "\n",
       "    .dataframe tbody tr th {\n",
       "        vertical-align: top;\n",
       "    }\n",
       "\n",
       "    .dataframe thead th {\n",
       "        text-align: right;\n",
       "    }\n",
       "</style>\n",
       "<table border=\"1\" class=\"dataframe\">\n",
       "  <thead>\n",
       "    <tr style=\"text-align: right;\">\n",
       "      <th></th>\n",
       "      <th>Uniprot ID</th>\n",
       "      <th>Protein stable ID</th>\n",
       "      <th>Protein names</th>\n",
       "      <th>Ensembl version</th>\n",
       "      <th>Gene_Name</th>\n",
       "      <th>NCBI ID</th>\n",
       "      <th>RefSeq</th>\n",
       "    </tr>\n",
       "  </thead>\n",
       "  <tbody>\n",
       "    <tr>\n",
       "      <th>0</th>\n",
       "      <td>A0A023HHK9</td>\n",
       "      <td>&lt;NA&gt;</td>\n",
       "      <td>&lt;NA&gt;</td>\n",
       "      <td>&lt;NA&gt;</td>\n",
       "      <td>&lt;NA&gt;</td>\n",
       "      <td>&lt;NA&gt;</td>\n",
       "      <td>NP_085128.2</td>\n",
       "    </tr>\n",
       "    <tr>\n",
       "      <th>1</th>\n",
       "      <td>A0A023HHL0</td>\n",
       "      <td>&lt;NA&gt;</td>\n",
       "      <td>&lt;NA&gt;</td>\n",
       "      <td>&lt;NA&gt;</td>\n",
       "      <td>&lt;NA&gt;</td>\n",
       "      <td>&lt;NA&gt;</td>\n",
       "      <td>NP_085128.2</td>\n",
       "    </tr>\n",
       "    <tr>\n",
       "      <th>2</th>\n",
       "      <td>A0A023IN41</td>\n",
       "      <td>&lt;NA&gt;</td>\n",
       "      <td>&lt;NA&gt;</td>\n",
       "      <td>&lt;NA&gt;</td>\n",
       "      <td>&lt;NA&gt;</td>\n",
       "      <td>&lt;NA&gt;</td>\n",
       "      <td>NP_001186551.1</td>\n",
       "    </tr>\n",
       "    <tr>\n",
       "      <th>3</th>\n",
       "      <td>A0A023T695</td>\n",
       "      <td>&lt;NA&gt;</td>\n",
       "      <td>&lt;NA&gt;</td>\n",
       "      <td>&lt;NA&gt;</td>\n",
       "      <td>&lt;NA&gt;</td>\n",
       "      <td>&lt;NA&gt;</td>\n",
       "      <td>XP_016868347;XP_016868348;XP_016868349;XP_0168...</td>\n",
       "    </tr>\n",
       "    <tr>\n",
       "      <th>4</th>\n",
       "      <td>A0A023T6R1</td>\n",
       "      <td>&lt;NA&gt;</td>\n",
       "      <td>&lt;NA&gt;</td>\n",
       "      <td>&lt;NA&gt;</td>\n",
       "      <td>&lt;NA&gt;</td>\n",
       "      <td>&lt;NA&gt;</td>\n",
       "      <td>NP_060518.1</td>\n",
       "    </tr>\n",
       "    <tr>\n",
       "      <th>...</th>\n",
       "      <td>...</td>\n",
       "      <td>...</td>\n",
       "      <td>...</td>\n",
       "      <td>...</td>\n",
       "      <td>...</td>\n",
       "      <td>...</td>\n",
       "      <td>...</td>\n",
       "    </tr>\n",
       "    <tr>\n",
       "      <th>100974</th>\n",
       "      <td>X6RGR3</td>\n",
       "      <td>&lt;NA&gt;</td>\n",
       "      <td>&lt;NA&gt;</td>\n",
       "      <td>&lt;NA&gt;</td>\n",
       "      <td>&lt;NA&gt;</td>\n",
       "      <td>&lt;NA&gt;</td>\n",
       "      <td>NP_001353609.1</td>\n",
       "    </tr>\n",
       "    <tr>\n",
       "      <th>100975</th>\n",
       "      <td>X6RLR1</td>\n",
       "      <td>&lt;NA&gt;</td>\n",
       "      <td>&lt;NA&gt;</td>\n",
       "      <td>&lt;NA&gt;</td>\n",
       "      <td>&lt;NA&gt;</td>\n",
       "      <td>&lt;NA&gt;</td>\n",
       "      <td>NP_001268356.1</td>\n",
       "    </tr>\n",
       "    <tr>\n",
       "      <th>100976</th>\n",
       "      <td>X6RLX0</td>\n",
       "      <td>&lt;NA&gt;</td>\n",
       "      <td>&lt;NA&gt;</td>\n",
       "      <td>&lt;NA&gt;</td>\n",
       "      <td>&lt;NA&gt;</td>\n",
       "      <td>&lt;NA&gt;</td>\n",
       "      <td>XP_016874551.1;XP_054227478.1</td>\n",
       "    </tr>\n",
       "    <tr>\n",
       "      <th>100977</th>\n",
       "      <td>X6RM00</td>\n",
       "      <td>&lt;NA&gt;</td>\n",
       "      <td>&lt;NA&gt;</td>\n",
       "      <td>&lt;NA&gt;</td>\n",
       "      <td>&lt;NA&gt;</td>\n",
       "      <td>&lt;NA&gt;</td>\n",
       "      <td>XP_047284540.1;XP_054227509.1</td>\n",
       "    </tr>\n",
       "    <tr>\n",
       "      <th>100978</th>\n",
       "      <td>X6RM59</td>\n",
       "      <td>&lt;NA&gt;</td>\n",
       "      <td>&lt;NA&gt;</td>\n",
       "      <td>&lt;NA&gt;</td>\n",
       "      <td>&lt;NA&gt;</td>\n",
       "      <td>&lt;NA&gt;</td>\n",
       "      <td>NP_001002010.2</td>\n",
       "    </tr>\n",
       "  </tbody>\n",
       "</table>\n",
       "<p>100979 rows × 7 columns</p>\n",
       "</div>"
      ],
      "text/plain": [
       "        Uniprot ID Protein stable ID Protein names Ensembl version Gene_Name  \\\n",
       "0       A0A023HHK9              <NA>          <NA>            <NA>      <NA>   \n",
       "1       A0A023HHL0              <NA>          <NA>            <NA>      <NA>   \n",
       "2       A0A023IN41              <NA>          <NA>            <NA>      <NA>   \n",
       "3       A0A023T695              <NA>          <NA>            <NA>      <NA>   \n",
       "4       A0A023T6R1              <NA>          <NA>            <NA>      <NA>   \n",
       "...            ...               ...           ...             ...       ...   \n",
       "100974      X6RGR3              <NA>          <NA>            <NA>      <NA>   \n",
       "100975      X6RLR1              <NA>          <NA>            <NA>      <NA>   \n",
       "100976      X6RLX0              <NA>          <NA>            <NA>      <NA>   \n",
       "100977      X6RM00              <NA>          <NA>            <NA>      <NA>   \n",
       "100978      X6RM59              <NA>          <NA>            <NA>      <NA>   \n",
       "\n",
       "       NCBI ID                                             RefSeq  \n",
       "0         <NA>                                        NP_085128.2  \n",
       "1         <NA>                                        NP_085128.2  \n",
       "2         <NA>                                     NP_001186551.1  \n",
       "3         <NA>  XP_016868347;XP_016868348;XP_016868349;XP_0168...  \n",
       "4         <NA>                                        NP_060518.1  \n",
       "...        ...                                                ...  \n",
       "100974    <NA>                                     NP_001353609.1  \n",
       "100975    <NA>                                     NP_001268356.1  \n",
       "100976    <NA>                      XP_016874551.1;XP_054227478.1  \n",
       "100977    <NA>                      XP_047284540.1;XP_054227509.1  \n",
       "100978    <NA>                                     NP_001002010.2  \n",
       "\n",
       "[100979 rows x 7 columns]"
      ]
     },
     "execution_count": 19,
     "metadata": {},
     "output_type": "execute_result"
    }
   ],
   "source": [
    "# merge the Uniprot ID\n",
    "Uniprot_not_null = df_ensembl_uniprot_refseq[df_ensembl_uniprot_refseq['Uniprot ID'].notnull()]\n",
    "Uniprot_null = df_ensembl_uniprot_refseq[df_ensembl_uniprot_refseq['Uniprot ID'].isnull()]\n",
    "\n",
    "merge_uniprot = Uniprot_not_null.groupby('Uniprot ID').agg(\n",
    "    lambda x: ';'.join(sorted(set(\n",
    "        v.strip() for i in x.dropna().astype(str) for v in i.split(';')\n",
    "    )))\n",
    ")\n",
    "\n",
    "merge_uniprot.reset_index(inplace=True)\n",
    "merge_uniprot.replace('', pd.NA, inplace=True)\n",
    "merge_uniprot"
   ]
  },
  {
   "cell_type": "code",
   "execution_count": 20,
   "metadata": {},
   "outputs": [
    {
     "data": {
      "application/vnd.microsoft.datawrangler.viewer.v0+json": {
       "columns": [
        {
         "name": "index",
         "rawType": "int64",
         "type": "integer"
        },
        {
         "name": "Uniprot ID",
         "rawType": "object",
         "type": "unknown"
        },
        {
         "name": "Protein stable ID",
         "rawType": "object",
         "type": "unknown"
        },
        {
         "name": "Protein names",
         "rawType": "object",
         "type": "unknown"
        },
        {
         "name": "Ensembl version",
         "rawType": "object",
         "type": "unknown"
        },
        {
         "name": "Gene_Name",
         "rawType": "object",
         "type": "unknown"
        },
        {
         "name": "NCBI ID",
         "rawType": "object",
         "type": "unknown"
        },
        {
         "name": "RefSeq",
         "rawType": "object",
         "type": "unknown"
        }
       ],
       "conversionMethod": "pd.DataFrame",
       "ref": "19e259fa-f079-480d-8524-27290703536c",
       "rows": [
        [
         "0",
         "A0A023HHK9",
         null,
         null,
         null,
         null,
         null,
         "NP_085128.2"
        ],
        [
         "1",
         "A0A023HHL0",
         null,
         null,
         null,
         null,
         null,
         "NP_085128.2"
        ],
        [
         "2",
         "A0A023IN41",
         null,
         null,
         null,
         null,
         null,
         "NP_001186551.1"
        ],
        [
         "3",
         "A0A023T695",
         null,
         null,
         null,
         null,
         null,
         "XP_016868347;XP_016868348;XP_016868349;XP_016868350;XP_047277052.1;XP_054215426.1"
        ],
        [
         "4",
         "A0A023T6R1",
         null,
         null,
         null,
         null,
         null,
         "NP_060518.1"
        ],
        [
         "5",
         "A0A023T787",
         null,
         null,
         null,
         null,
         null,
         "NP_005096.1"
        ],
        [
         "6",
         "A0A024QY88",
         null,
         null,
         null,
         null,
         null,
         "NP_039252.2"
        ],
        [
         "7",
         "A0A024QYR3",
         null,
         null,
         null,
         null,
         null,
         "NP_055557.2"
        ],
        [
         "8",
         "A0A024QYR8",
         null,
         null,
         null,
         null,
         null,
         "NP_004791.1"
        ],
        [
         "9",
         "A0A024QYS2",
         null,
         null,
         null,
         null,
         null,
         "NP_064508.3"
        ],
        [
         "10",
         "A0A024QYW1",
         null,
         null,
         null,
         null,
         null,
         "XP_005276759"
        ],
        [
         "11",
         "A0A024QYX0",
         null,
         null,
         null,
         null,
         null,
         "NP_006570.1"
        ],
        [
         "12",
         "A0A024QYX2",
         null,
         null,
         null,
         null,
         null,
         "XP_006721114;XP_006721115"
        ],
        [
         "13",
         "A0A024QYX5",
         null,
         null,
         null,
         null,
         null,
         "NP_036412.1;XP_024308127.1;XP_054182713.1"
        ],
        [
         "14",
         "A0A024QYY3",
         null,
         null,
         null,
         null,
         null,
         "XP_005256782;XP_005256783;XP_016880354;XP_016880355;XP_016880356"
        ],
        [
         "15",
         "A0A024QYY4",
         null,
         null,
         null,
         null,
         null,
         "XP_005273028"
        ],
        [
         "16",
         "A0A024QYZ6",
         null,
         null,
         null,
         null,
         null,
         "XP_016864492;XP_016864493"
        ],
        [
         "17",
         "A0A024QZ13",
         null,
         null,
         null,
         null,
         null,
         "NP_001317095.1"
        ],
        [
         "18",
         "A0A024QZ18",
         null,
         null,
         null,
         null,
         null,
         "XP_005278121;XP_005278122;XP_011542287;XP_011542288;XP_011542289"
        ],
        [
         "19",
         "A0A024QZ33",
         null,
         null,
         null,
         null,
         null,
         "NP_001248396.1;XP_016880699;XP_016880700;XP_016880701;XP_016880702;XP_016880703;XP_016880704;XP_047292875.1;XP_047292876.1;XP_047292877.1;XP_054173512.1;XP_054173513.1;XP_054173514.1"
        ],
        [
         "20",
         "A0A024QZ35",
         null,
         null,
         null,
         null,
         null,
         "XP_016859901"
        ],
        [
         "21",
         "A0A024QZ37",
         null,
         null,
         null,
         null,
         null,
         "NP_005257.2;NP_859054.1"
        ],
        [
         "22",
         "A0A024QZ42",
         null,
         null,
         null,
         null,
         null,
         "NP_001254487.1"
        ],
        [
         "23",
         "A0A024QZ45",
         null,
         null,
         null,
         null,
         null,
         "NP_114432.2;XP_047292847.1;XP_047292848.1"
        ],
        [
         "24",
         "A0A024QZ48",
         null,
         null,
         null,
         null,
         null,
         "NP_001317346"
        ],
        [
         "25",
         "A0A024QZ60",
         null,
         null,
         null,
         null,
         null,
         "XP_016880320;XP_016880321;XP_016880322;XP_016880323"
        ],
        [
         "26",
         "A0A024QZ64",
         null,
         null,
         null,
         null,
         null,
         "NP_005156.1;XP_005258006.1;XP_011522858.1;XP_054171518.1;XP_054171519.1"
        ],
        [
         "27",
         "A0A024QZ70",
         null,
         null,
         null,
         null,
         null,
         "XP_011523362"
        ],
        [
         "28",
         "A0A024QZ77",
         null,
         null,
         null,
         null,
         null,
         "NP_077305.2"
        ],
        [
         "29",
         "A0A024QZ87",
         null,
         null,
         null,
         null,
         null,
         "XP_011521204;XP_011521205"
        ],
        [
         "30",
         "A0A024QZ90",
         null,
         null,
         null,
         null,
         null,
         "XP_006721190;XP_016878379"
        ],
        [
         "31",
         "A0A024QZB0",
         null,
         null,
         null,
         null,
         null,
         "XP_006710761"
        ],
        [
         "32",
         "A0A024QZC1",
         null,
         null,
         null,
         null,
         null,
         "NP_001230575.1;NP_006101.1"
        ],
        [
         "33",
         "A0A024QZD2",
         null,
         null,
         null,
         null,
         null,
         "XP_016878603;XP_016878604;XP_016878605"
        ],
        [
         "34",
         "A0A024QZD3",
         null,
         null,
         null,
         null,
         null,
         "XP_006723167"
        ],
        [
         "35",
         "A0A024QZE3",
         null,
         null,
         null,
         null,
         null,
         "XP_005258562;XP_005258563;XP_011524740;XP_011524741"
        ],
        [
         "36",
         "A0A024QZE4",
         null,
         null,
         null,
         null,
         null,
         "XP_005259019;XP_006723295;XP_011525312"
        ],
        [
         "37",
         "A0A024QZG0",
         null,
         null,
         null,
         null,
         null,
         "NP_001273501.1;NP_055586.1"
        ],
        [
         "38",
         "A0A024QZG6",
         null,
         null,
         null,
         null,
         null,
         "NP_001311387.1;NP_001311388.1;NP_037424.2"
        ],
        [
         "39",
         "A0A024QZH5",
         null,
         null,
         null,
         null,
         null,
         "XP_011525435"
        ],
        [
         "40",
         "A0A024QZI2",
         null,
         null,
         null,
         null,
         null,
         "NP_001129491.1;NP_004098.1;XP_054176174.1"
        ],
        [
         "41",
         "A0A024QZJ4",
         null,
         null,
         null,
         null,
         null,
         "NP_002465.1"
        ],
        [
         "42",
         "A0A024QZJ5",
         null,
         null,
         null,
         null,
         null,
         "XP_016871649"
        ],
        [
         "43",
         "A0A024QZK5",
         null,
         null,
         null,
         null,
         null,
         "NP_071412.2;XP_005270085.1;XP_054222508.1"
        ],
        [
         "44",
         "A0A024QZK8",
         null,
         null,
         null,
         null,
         null,
         "XP_016871657"
        ],
        [
         "45",
         "A0A024QZL0",
         null,
         null,
         null,
         null,
         null,
         "XP_016871325"
        ],
        [
         "46",
         "A0A024QZL4",
         null,
         null,
         null,
         null,
         null,
         "XP_006718147;XP_016872490"
        ],
        [
         "47",
         "A0A024QZM0",
         null,
         null,
         null,
         null,
         null,
         "XP_006717936"
        ],
        [
         "48",
         "A0A024QZM7",
         null,
         null,
         null,
         null,
         null,
         "XP_005269777"
        ],
        [
         "49",
         "A0A024QZM9",
         null,
         null,
         null,
         null,
         null,
         "NP_002649"
        ]
       ],
       "shape": {
        "columns": 7,
        "rows": 173978
       }
      },
      "text/html": [
       "<div>\n",
       "<style scoped>\n",
       "    .dataframe tbody tr th:only-of-type {\n",
       "        vertical-align: middle;\n",
       "    }\n",
       "\n",
       "    .dataframe tbody tr th {\n",
       "        vertical-align: top;\n",
       "    }\n",
       "\n",
       "    .dataframe thead th {\n",
       "        text-align: right;\n",
       "    }\n",
       "</style>\n",
       "<table border=\"1\" class=\"dataframe\">\n",
       "  <thead>\n",
       "    <tr style=\"text-align: right;\">\n",
       "      <th></th>\n",
       "      <th>Uniprot ID</th>\n",
       "      <th>Protein stable ID</th>\n",
       "      <th>Protein names</th>\n",
       "      <th>Ensembl version</th>\n",
       "      <th>Gene_Name</th>\n",
       "      <th>NCBI ID</th>\n",
       "      <th>RefSeq</th>\n",
       "    </tr>\n",
       "  </thead>\n",
       "  <tbody>\n",
       "    <tr>\n",
       "      <th>0</th>\n",
       "      <td>A0A023HHK9</td>\n",
       "      <td>&lt;NA&gt;</td>\n",
       "      <td>&lt;NA&gt;</td>\n",
       "      <td>&lt;NA&gt;</td>\n",
       "      <td>&lt;NA&gt;</td>\n",
       "      <td>&lt;NA&gt;</td>\n",
       "      <td>NP_085128.2</td>\n",
       "    </tr>\n",
       "    <tr>\n",
       "      <th>1</th>\n",
       "      <td>A0A023HHL0</td>\n",
       "      <td>&lt;NA&gt;</td>\n",
       "      <td>&lt;NA&gt;</td>\n",
       "      <td>&lt;NA&gt;</td>\n",
       "      <td>&lt;NA&gt;</td>\n",
       "      <td>&lt;NA&gt;</td>\n",
       "      <td>NP_085128.2</td>\n",
       "    </tr>\n",
       "    <tr>\n",
       "      <th>2</th>\n",
       "      <td>A0A023IN41</td>\n",
       "      <td>&lt;NA&gt;</td>\n",
       "      <td>&lt;NA&gt;</td>\n",
       "      <td>&lt;NA&gt;</td>\n",
       "      <td>&lt;NA&gt;</td>\n",
       "      <td>&lt;NA&gt;</td>\n",
       "      <td>NP_001186551.1</td>\n",
       "    </tr>\n",
       "    <tr>\n",
       "      <th>3</th>\n",
       "      <td>A0A023T695</td>\n",
       "      <td>&lt;NA&gt;</td>\n",
       "      <td>&lt;NA&gt;</td>\n",
       "      <td>&lt;NA&gt;</td>\n",
       "      <td>&lt;NA&gt;</td>\n",
       "      <td>&lt;NA&gt;</td>\n",
       "      <td>XP_016868347;XP_016868348;XP_016868349;XP_0168...</td>\n",
       "    </tr>\n",
       "    <tr>\n",
       "      <th>4</th>\n",
       "      <td>A0A023T6R1</td>\n",
       "      <td>&lt;NA&gt;</td>\n",
       "      <td>&lt;NA&gt;</td>\n",
       "      <td>&lt;NA&gt;</td>\n",
       "      <td>&lt;NA&gt;</td>\n",
       "      <td>&lt;NA&gt;</td>\n",
       "      <td>NP_060518.1</td>\n",
       "    </tr>\n",
       "    <tr>\n",
       "      <th>...</th>\n",
       "      <td>...</td>\n",
       "      <td>...</td>\n",
       "      <td>...</td>\n",
       "      <td>...</td>\n",
       "      <td>...</td>\n",
       "      <td>...</td>\n",
       "      <td>...</td>\n",
       "    </tr>\n",
       "    <tr>\n",
       "      <th>173973</th>\n",
       "      <td>NaN</td>\n",
       "      <td>ENSP00000520928</td>\n",
       "      <td>NaN</td>\n",
       "      <td>ENSP00000520928.1</td>\n",
       "      <td>CSF2RA</td>\n",
       "      <td>1438.0</td>\n",
       "      <td>&lt;NA&gt;</td>\n",
       "    </tr>\n",
       "    <tr>\n",
       "      <th>173974</th>\n",
       "      <td>NaN</td>\n",
       "      <td>ENSP00000520929</td>\n",
       "      <td>NaN</td>\n",
       "      <td>ENSP00000520929.1</td>\n",
       "      <td>CSF2RA</td>\n",
       "      <td>1438.0</td>\n",
       "      <td>NP_001366090;NP_001366093;NP_001366094</td>\n",
       "    </tr>\n",
       "    <tr>\n",
       "      <th>173975</th>\n",
       "      <td>NaN</td>\n",
       "      <td>ENSP00000520930</td>\n",
       "      <td>NaN</td>\n",
       "      <td>ENSP00000520930.1</td>\n",
       "      <td>CSF2RA</td>\n",
       "      <td>1438.0</td>\n",
       "      <td>NP_001366088;NP_001366091;NP_001366092</td>\n",
       "    </tr>\n",
       "    <tr>\n",
       "      <th>173976</th>\n",
       "      <td>NaN</td>\n",
       "      <td>ENSP00000520931</td>\n",
       "      <td>NaN</td>\n",
       "      <td>ENSP00000520931.1</td>\n",
       "      <td>GTPBP6</td>\n",
       "      <td>8225.0</td>\n",
       "      <td>&lt;NA&gt;</td>\n",
       "    </tr>\n",
       "    <tr>\n",
       "      <th>173977</th>\n",
       "      <td>NaN</td>\n",
       "      <td>ENSP00000520932</td>\n",
       "      <td>NaN</td>\n",
       "      <td>ENSP00000520932.1</td>\n",
       "      <td>IL9R</td>\n",
       "      <td>3581.0</td>\n",
       "      <td>NP_789743</td>\n",
       "    </tr>\n",
       "  </tbody>\n",
       "</table>\n",
       "<p>173978 rows × 7 columns</p>\n",
       "</div>"
      ],
      "text/plain": [
       "        Uniprot ID Protein stable ID Protein names    Ensembl version  \\\n",
       "0       A0A023HHK9              <NA>          <NA>               <NA>   \n",
       "1       A0A023HHL0              <NA>          <NA>               <NA>   \n",
       "2       A0A023IN41              <NA>          <NA>               <NA>   \n",
       "3       A0A023T695              <NA>          <NA>               <NA>   \n",
       "4       A0A023T6R1              <NA>          <NA>               <NA>   \n",
       "...            ...               ...           ...                ...   \n",
       "173973         NaN   ENSP00000520928           NaN  ENSP00000520928.1   \n",
       "173974         NaN   ENSP00000520929           NaN  ENSP00000520929.1   \n",
       "173975         NaN   ENSP00000520930           NaN  ENSP00000520930.1   \n",
       "173976         NaN   ENSP00000520931           NaN  ENSP00000520931.1   \n",
       "173977         NaN   ENSP00000520932           NaN  ENSP00000520932.1   \n",
       "\n",
       "       Gene_Name NCBI ID                                             RefSeq  \n",
       "0           <NA>    <NA>                                        NP_085128.2  \n",
       "1           <NA>    <NA>                                        NP_085128.2  \n",
       "2           <NA>    <NA>                                     NP_001186551.1  \n",
       "3           <NA>    <NA>  XP_016868347;XP_016868348;XP_016868349;XP_0168...  \n",
       "4           <NA>    <NA>                                        NP_060518.1  \n",
       "...          ...     ...                                                ...  \n",
       "173973    CSF2RA  1438.0                                               <NA>  \n",
       "173974    CSF2RA  1438.0             NP_001366090;NP_001366093;NP_001366094  \n",
       "173975    CSF2RA  1438.0             NP_001366088;NP_001366091;NP_001366092  \n",
       "173976    GTPBP6  8225.0                                               <NA>  \n",
       "173977      IL9R  3581.0                                          NP_789743  \n",
       "\n",
       "[173978 rows x 7 columns]"
      ]
     },
     "execution_count": 20,
     "metadata": {},
     "output_type": "execute_result"
    }
   ],
   "source": [
    "# For those rows missing 'UniProt ID', we will group by 'Ensembl version' and apply aggregation\n",
    "ensembl_not_null = Uniprot_null[Uniprot_null['Ensembl version'].notnull()]\n",
    "ensembl_null = Uniprot_null[Uniprot_null['Ensembl version'].isnull()]\n",
    "\n",
    "merge_ensembl = ensembl_not_null.groupby('Ensembl version').agg(\n",
    "    # For each group, split values by semicolons, remove duplicates, sort, and join them back with semicolons\n",
    "    lambda x: ';'.join(sorted(set(\n",
    "        # Split values by semicolon and strip extra spaces for each non-null value\n",
    "        v.strip() for i in x.dropna().astype(str) for v in i.split(';')\n",
    "    )))\n",
    ")\n",
    "\n",
    "merge_ensembl.reset_index(inplace=True)\n",
    "merge_ensembl.replace('', pd.NA, inplace=True)\n",
    "ensembl_grouped = pd.concat([merge_uniprot, merge_ensembl, ensembl_null], ignore_index=True)\n",
    "ensembl_grouped"
   ]
  },
  {
   "cell_type": "markdown",
   "metadata": {},
   "source": [
    "## 4. BioMedGraphica ID"
   ]
  },
  {
   "cell_type": "code",
   "execution_count": 22,
   "metadata": {},
   "outputs": [
    {
     "data": {
      "application/vnd.microsoft.datawrangler.viewer.v0+json": {
       "columns": [
        {
         "name": "index",
         "rawType": "int64",
         "type": "integer"
        },
        {
         "name": "BioMedGraphica_ID",
         "rawType": "object",
         "type": "string"
        },
        {
         "name": "Uniprot_ID",
         "rawType": "object",
         "type": "unknown"
        },
        {
         "name": "Ensembl_Protein_ID",
         "rawType": "object",
         "type": "unknown"
        },
        {
         "name": "Ensembl_Protein_ID_Version",
         "rawType": "object",
         "type": "unknown"
        },
        {
         "name": "RefSeq_ID",
         "rawType": "object",
         "type": "unknown"
        },
        {
         "name": "NCBI_Gene_ID",
         "rawType": "object",
         "type": "unknown"
        },
        {
         "name": "UniProt_Name",
         "rawType": "object",
         "type": "unknown"
        },
        {
         "name": "HGNC_Symbol",
         "rawType": "object",
         "type": "unknown"
        }
       ],
       "conversionMethod": "pd.DataFrame",
       "ref": "4240ab85-f79f-419f-9a59-15ce4a706856",
       "rows": [
        [
         "0",
         "BMG_PT000001",
         "A0A023HHK9",
         null,
         null,
         "NP_085128.2",
         null,
         null,
         null
        ],
        [
         "1",
         "BMG_PT000002",
         "A0A023HHL0",
         null,
         null,
         "NP_085128.2",
         null,
         null,
         null
        ],
        [
         "2",
         "BMG_PT000003",
         "A0A023IN41",
         null,
         null,
         "NP_001186551.1",
         null,
         null,
         null
        ],
        [
         "3",
         "BMG_PT000004",
         "A0A023T695",
         null,
         null,
         "XP_016868347;XP_016868348;XP_016868349;XP_016868350;XP_047277052.1;XP_054215426.1",
         null,
         null,
         null
        ],
        [
         "4",
         "BMG_PT000005",
         "A0A023T6R1",
         null,
         null,
         "NP_060518.1",
         null,
         null,
         null
        ],
        [
         "5",
         "BMG_PT000006",
         "A0A023T787",
         null,
         null,
         "NP_005096.1",
         null,
         null,
         null
        ],
        [
         "6",
         "BMG_PT000007",
         "A0A024QY88",
         null,
         null,
         "NP_039252.2",
         null,
         null,
         null
        ],
        [
         "7",
         "BMG_PT000008",
         "A0A024QYR3",
         null,
         null,
         "NP_055557.2",
         null,
         null,
         null
        ],
        [
         "8",
         "BMG_PT000009",
         "A0A024QYR8",
         null,
         null,
         "NP_004791.1",
         null,
         null,
         null
        ],
        [
         "9",
         "BMG_PT000010",
         "A0A024QYS2",
         null,
         null,
         "NP_064508.3",
         null,
         null,
         null
        ],
        [
         "10",
         "BMG_PT000011",
         "A0A024QYW1",
         null,
         null,
         "XP_005276759",
         null,
         null,
         null
        ],
        [
         "11",
         "BMG_PT000012",
         "A0A024QYX0",
         null,
         null,
         "NP_006570.1",
         null,
         null,
         null
        ],
        [
         "12",
         "BMG_PT000013",
         "A0A024QYX2",
         null,
         null,
         "XP_006721114;XP_006721115",
         null,
         null,
         null
        ],
        [
         "13",
         "BMG_PT000014",
         "A0A024QYX5",
         null,
         null,
         "NP_036412.1;XP_024308127.1;XP_054182713.1",
         null,
         null,
         null
        ],
        [
         "14",
         "BMG_PT000015",
         "A0A024QYY3",
         null,
         null,
         "XP_005256782;XP_005256783;XP_016880354;XP_016880355;XP_016880356",
         null,
         null,
         null
        ],
        [
         "15",
         "BMG_PT000016",
         "A0A024QYY4",
         null,
         null,
         "XP_005273028",
         null,
         null,
         null
        ],
        [
         "16",
         "BMG_PT000017",
         "A0A024QYZ6",
         null,
         null,
         "XP_016864492;XP_016864493",
         null,
         null,
         null
        ],
        [
         "17",
         "BMG_PT000018",
         "A0A024QZ13",
         null,
         null,
         "NP_001317095.1",
         null,
         null,
         null
        ],
        [
         "18",
         "BMG_PT000019",
         "A0A024QZ18",
         null,
         null,
         "XP_005278121;XP_005278122;XP_011542287;XP_011542288;XP_011542289",
         null,
         null,
         null
        ],
        [
         "19",
         "BMG_PT000020",
         "A0A024QZ33",
         null,
         null,
         "NP_001248396.1;XP_016880699;XP_016880700;XP_016880701;XP_016880702;XP_016880703;XP_016880704;XP_047292875.1;XP_047292876.1;XP_047292877.1;XP_054173512.1;XP_054173513.1;XP_054173514.1",
         null,
         null,
         null
        ],
        [
         "20",
         "BMG_PT000021",
         "A0A024QZ35",
         null,
         null,
         "XP_016859901",
         null,
         null,
         null
        ],
        [
         "21",
         "BMG_PT000022",
         "A0A024QZ37",
         null,
         null,
         "NP_005257.2;NP_859054.1",
         null,
         null,
         null
        ],
        [
         "22",
         "BMG_PT000023",
         "A0A024QZ42",
         null,
         null,
         "NP_001254487.1",
         null,
         null,
         null
        ],
        [
         "23",
         "BMG_PT000024",
         "A0A024QZ45",
         null,
         null,
         "NP_114432.2;XP_047292847.1;XP_047292848.1",
         null,
         null,
         null
        ],
        [
         "24",
         "BMG_PT000025",
         "A0A024QZ48",
         null,
         null,
         "NP_001317346",
         null,
         null,
         null
        ],
        [
         "25",
         "BMG_PT000026",
         "A0A024QZ60",
         null,
         null,
         "XP_016880320;XP_016880321;XP_016880322;XP_016880323",
         null,
         null,
         null
        ],
        [
         "26",
         "BMG_PT000027",
         "A0A024QZ64",
         null,
         null,
         "NP_005156.1;XP_005258006.1;XP_011522858.1;XP_054171518.1;XP_054171519.1",
         null,
         null,
         null
        ],
        [
         "27",
         "BMG_PT000028",
         "A0A024QZ70",
         null,
         null,
         "XP_011523362",
         null,
         null,
         null
        ],
        [
         "28",
         "BMG_PT000029",
         "A0A024QZ77",
         null,
         null,
         "NP_077305.2",
         null,
         null,
         null
        ],
        [
         "29",
         "BMG_PT000030",
         "A0A024QZ87",
         null,
         null,
         "XP_011521204;XP_011521205",
         null,
         null,
         null
        ],
        [
         "30",
         "BMG_PT000031",
         "A0A024QZ90",
         null,
         null,
         "XP_006721190;XP_016878379",
         null,
         null,
         null
        ],
        [
         "31",
         "BMG_PT000032",
         "A0A024QZB0",
         null,
         null,
         "XP_006710761",
         null,
         null,
         null
        ],
        [
         "32",
         "BMG_PT000033",
         "A0A024QZC1",
         null,
         null,
         "NP_001230575.1;NP_006101.1",
         null,
         null,
         null
        ],
        [
         "33",
         "BMG_PT000034",
         "A0A024QZD2",
         null,
         null,
         "XP_016878603;XP_016878604;XP_016878605",
         null,
         null,
         null
        ],
        [
         "34",
         "BMG_PT000035",
         "A0A024QZD3",
         null,
         null,
         "XP_006723167",
         null,
         null,
         null
        ],
        [
         "35",
         "BMG_PT000036",
         "A0A024QZE3",
         null,
         null,
         "XP_005258562;XP_005258563;XP_011524740;XP_011524741",
         null,
         null,
         null
        ],
        [
         "36",
         "BMG_PT000037",
         "A0A024QZE4",
         null,
         null,
         "XP_005259019;XP_006723295;XP_011525312",
         null,
         null,
         null
        ],
        [
         "37",
         "BMG_PT000038",
         "A0A024QZG0",
         null,
         null,
         "NP_001273501.1;NP_055586.1",
         null,
         null,
         null
        ],
        [
         "38",
         "BMG_PT000039",
         "A0A024QZG6",
         null,
         null,
         "NP_001311387.1;NP_001311388.1;NP_037424.2",
         null,
         null,
         null
        ],
        [
         "39",
         "BMG_PT000040",
         "A0A024QZH5",
         null,
         null,
         "XP_011525435",
         null,
         null,
         null
        ],
        [
         "40",
         "BMG_PT000041",
         "A0A024QZI2",
         null,
         null,
         "NP_001129491.1;NP_004098.1;XP_054176174.1",
         null,
         null,
         null
        ],
        [
         "41",
         "BMG_PT000042",
         "A0A024QZJ4",
         null,
         null,
         "NP_002465.1",
         null,
         null,
         null
        ],
        [
         "42",
         "BMG_PT000043",
         "A0A024QZJ5",
         null,
         null,
         "XP_016871649",
         null,
         null,
         null
        ],
        [
         "43",
         "BMG_PT000044",
         "A0A024QZK5",
         null,
         null,
         "NP_071412.2;XP_005270085.1;XP_054222508.1",
         null,
         null,
         null
        ],
        [
         "44",
         "BMG_PT000045",
         "A0A024QZK8",
         null,
         null,
         "XP_016871657",
         null,
         null,
         null
        ],
        [
         "45",
         "BMG_PT000046",
         "A0A024QZL0",
         null,
         null,
         "XP_016871325",
         null,
         null,
         null
        ],
        [
         "46",
         "BMG_PT000047",
         "A0A024QZL4",
         null,
         null,
         "XP_006718147;XP_016872490",
         null,
         null,
         null
        ],
        [
         "47",
         "BMG_PT000048",
         "A0A024QZM0",
         null,
         null,
         "XP_006717936",
         null,
         null,
         null
        ],
        [
         "48",
         "BMG_PT000049",
         "A0A024QZM7",
         null,
         null,
         "XP_005269777",
         null,
         null,
         null
        ],
        [
         "49",
         "BMG_PT000050",
         "A0A024QZM9",
         null,
         null,
         "NP_002649",
         null,
         null,
         null
        ]
       ],
       "shape": {
        "columns": 8,
        "rows": 173978
       }
      },
      "text/html": [
       "<div>\n",
       "<style scoped>\n",
       "    .dataframe tbody tr th:only-of-type {\n",
       "        vertical-align: middle;\n",
       "    }\n",
       "\n",
       "    .dataframe tbody tr th {\n",
       "        vertical-align: top;\n",
       "    }\n",
       "\n",
       "    .dataframe thead th {\n",
       "        text-align: right;\n",
       "    }\n",
       "</style>\n",
       "<table border=\"1\" class=\"dataframe\">\n",
       "  <thead>\n",
       "    <tr style=\"text-align: right;\">\n",
       "      <th></th>\n",
       "      <th>BioMedGraphica_ID</th>\n",
       "      <th>Uniprot_ID</th>\n",
       "      <th>Ensembl_Protein_ID</th>\n",
       "      <th>Ensembl_Protein_ID_Version</th>\n",
       "      <th>RefSeq_ID</th>\n",
       "      <th>NCBI_Gene_ID</th>\n",
       "      <th>UniProt_Name</th>\n",
       "      <th>HGNC_Symbol</th>\n",
       "    </tr>\n",
       "  </thead>\n",
       "  <tbody>\n",
       "    <tr>\n",
       "      <th>0</th>\n",
       "      <td>BMG_PT000001</td>\n",
       "      <td>A0A023HHK9</td>\n",
       "      <td>&lt;NA&gt;</td>\n",
       "      <td>&lt;NA&gt;</td>\n",
       "      <td>NP_085128.2</td>\n",
       "      <td>&lt;NA&gt;</td>\n",
       "      <td>&lt;NA&gt;</td>\n",
       "      <td>&lt;NA&gt;</td>\n",
       "    </tr>\n",
       "    <tr>\n",
       "      <th>1</th>\n",
       "      <td>BMG_PT000002</td>\n",
       "      <td>A0A023HHL0</td>\n",
       "      <td>&lt;NA&gt;</td>\n",
       "      <td>&lt;NA&gt;</td>\n",
       "      <td>NP_085128.2</td>\n",
       "      <td>&lt;NA&gt;</td>\n",
       "      <td>&lt;NA&gt;</td>\n",
       "      <td>&lt;NA&gt;</td>\n",
       "    </tr>\n",
       "    <tr>\n",
       "      <th>2</th>\n",
       "      <td>BMG_PT000003</td>\n",
       "      <td>A0A023IN41</td>\n",
       "      <td>&lt;NA&gt;</td>\n",
       "      <td>&lt;NA&gt;</td>\n",
       "      <td>NP_001186551.1</td>\n",
       "      <td>&lt;NA&gt;</td>\n",
       "      <td>&lt;NA&gt;</td>\n",
       "      <td>&lt;NA&gt;</td>\n",
       "    </tr>\n",
       "    <tr>\n",
       "      <th>3</th>\n",
       "      <td>BMG_PT000004</td>\n",
       "      <td>A0A023T695</td>\n",
       "      <td>&lt;NA&gt;</td>\n",
       "      <td>&lt;NA&gt;</td>\n",
       "      <td>XP_016868347;XP_016868348;XP_016868349;XP_0168...</td>\n",
       "      <td>&lt;NA&gt;</td>\n",
       "      <td>&lt;NA&gt;</td>\n",
       "      <td>&lt;NA&gt;</td>\n",
       "    </tr>\n",
       "    <tr>\n",
       "      <th>4</th>\n",
       "      <td>BMG_PT000005</td>\n",
       "      <td>A0A023T6R1</td>\n",
       "      <td>&lt;NA&gt;</td>\n",
       "      <td>&lt;NA&gt;</td>\n",
       "      <td>NP_060518.1</td>\n",
       "      <td>&lt;NA&gt;</td>\n",
       "      <td>&lt;NA&gt;</td>\n",
       "      <td>&lt;NA&gt;</td>\n",
       "    </tr>\n",
       "    <tr>\n",
       "      <th>...</th>\n",
       "      <td>...</td>\n",
       "      <td>...</td>\n",
       "      <td>...</td>\n",
       "      <td>...</td>\n",
       "      <td>...</td>\n",
       "      <td>...</td>\n",
       "      <td>...</td>\n",
       "      <td>...</td>\n",
       "    </tr>\n",
       "    <tr>\n",
       "      <th>173973</th>\n",
       "      <td>BMG_PT173974</td>\n",
       "      <td>NaN</td>\n",
       "      <td>ENSP00000520928</td>\n",
       "      <td>ENSP00000520928.1</td>\n",
       "      <td>&lt;NA&gt;</td>\n",
       "      <td>1438.0</td>\n",
       "      <td>NaN</td>\n",
       "      <td>CSF2RA</td>\n",
       "    </tr>\n",
       "    <tr>\n",
       "      <th>173974</th>\n",
       "      <td>BMG_PT173975</td>\n",
       "      <td>NaN</td>\n",
       "      <td>ENSP00000520929</td>\n",
       "      <td>ENSP00000520929.1</td>\n",
       "      <td>NP_001366090;NP_001366093;NP_001366094</td>\n",
       "      <td>1438.0</td>\n",
       "      <td>NaN</td>\n",
       "      <td>CSF2RA</td>\n",
       "    </tr>\n",
       "    <tr>\n",
       "      <th>173975</th>\n",
       "      <td>BMG_PT173976</td>\n",
       "      <td>NaN</td>\n",
       "      <td>ENSP00000520930</td>\n",
       "      <td>ENSP00000520930.1</td>\n",
       "      <td>NP_001366088;NP_001366091;NP_001366092</td>\n",
       "      <td>1438.0</td>\n",
       "      <td>NaN</td>\n",
       "      <td>CSF2RA</td>\n",
       "    </tr>\n",
       "    <tr>\n",
       "      <th>173976</th>\n",
       "      <td>BMG_PT173977</td>\n",
       "      <td>NaN</td>\n",
       "      <td>ENSP00000520931</td>\n",
       "      <td>ENSP00000520931.1</td>\n",
       "      <td>&lt;NA&gt;</td>\n",
       "      <td>8225.0</td>\n",
       "      <td>NaN</td>\n",
       "      <td>GTPBP6</td>\n",
       "    </tr>\n",
       "    <tr>\n",
       "      <th>173977</th>\n",
       "      <td>BMG_PT173978</td>\n",
       "      <td>NaN</td>\n",
       "      <td>ENSP00000520932</td>\n",
       "      <td>ENSP00000520932.1</td>\n",
       "      <td>NP_789743</td>\n",
       "      <td>3581.0</td>\n",
       "      <td>NaN</td>\n",
       "      <td>IL9R</td>\n",
       "    </tr>\n",
       "  </tbody>\n",
       "</table>\n",
       "<p>173978 rows × 8 columns</p>\n",
       "</div>"
      ],
      "text/plain": [
       "       BioMedGraphica_ID  Uniprot_ID Ensembl_Protein_ID  \\\n",
       "0           BMG_PT000001  A0A023HHK9               <NA>   \n",
       "1           BMG_PT000002  A0A023HHL0               <NA>   \n",
       "2           BMG_PT000003  A0A023IN41               <NA>   \n",
       "3           BMG_PT000004  A0A023T695               <NA>   \n",
       "4           BMG_PT000005  A0A023T6R1               <NA>   \n",
       "...                  ...         ...                ...   \n",
       "173973      BMG_PT173974         NaN    ENSP00000520928   \n",
       "173974      BMG_PT173975         NaN    ENSP00000520929   \n",
       "173975      BMG_PT173976         NaN    ENSP00000520930   \n",
       "173976      BMG_PT173977         NaN    ENSP00000520931   \n",
       "173977      BMG_PT173978         NaN    ENSP00000520932   \n",
       "\n",
       "       Ensembl_Protein_ID_Version  \\\n",
       "0                            <NA>   \n",
       "1                            <NA>   \n",
       "2                            <NA>   \n",
       "3                            <NA>   \n",
       "4                            <NA>   \n",
       "...                           ...   \n",
       "173973          ENSP00000520928.1   \n",
       "173974          ENSP00000520929.1   \n",
       "173975          ENSP00000520930.1   \n",
       "173976          ENSP00000520931.1   \n",
       "173977          ENSP00000520932.1   \n",
       "\n",
       "                                                RefSeq_ID NCBI_Gene_ID  \\\n",
       "0                                             NP_085128.2         <NA>   \n",
       "1                                             NP_085128.2         <NA>   \n",
       "2                                          NP_001186551.1         <NA>   \n",
       "3       XP_016868347;XP_016868348;XP_016868349;XP_0168...         <NA>   \n",
       "4                                             NP_060518.1         <NA>   \n",
       "...                                                   ...          ...   \n",
       "173973                                               <NA>       1438.0   \n",
       "173974             NP_001366090;NP_001366093;NP_001366094       1438.0   \n",
       "173975             NP_001366088;NP_001366091;NP_001366092       1438.0   \n",
       "173976                                               <NA>       8225.0   \n",
       "173977                                          NP_789743       3581.0   \n",
       "\n",
       "       UniProt_Name HGNC_Symbol  \n",
       "0              <NA>        <NA>  \n",
       "1              <NA>        <NA>  \n",
       "2              <NA>        <NA>  \n",
       "3              <NA>        <NA>  \n",
       "4              <NA>        <NA>  \n",
       "...             ...         ...  \n",
       "173973          NaN      CSF2RA  \n",
       "173974          NaN      CSF2RA  \n",
       "173975          NaN      CSF2RA  \n",
       "173976          NaN      GTPBP6  \n",
       "173977          NaN        IL9R  \n",
       "\n",
       "[173978 rows x 8 columns]"
      ]
     },
     "execution_count": 22,
     "metadata": {},
     "output_type": "execute_result"
    }
   ],
   "source": [
    "biomedgraphica_protein = ensembl_grouped.sort_values(by=['Uniprot ID', 'Ensembl version', 'Protein stable ID', 'RefSeq', 'NCBI ID'], na_position='last')\n",
    "biomedgraphica_protein = biomedgraphica_protein.reset_index(drop=True)\n",
    "\n",
    "max_length = len(str(len(biomedgraphica_protein)))\n",
    "biomedgraphica_protein['BioMedGraphica_ID'] = ['BMG_PT' + str(i).zfill(max_length) for i in range(1, len(biomedgraphica_protein) + 1)]\n",
    "biomedgraphica_protein = biomedgraphica_protein.rename(columns={'Protein stable ID': 'Ensembl_Protein_ID', 'Ensembl version': 'Ensembl_Protein_ID_Version', 'Protein names': 'UniProt_Name',\n",
    "                                                          'Uniprot ID': 'Uniprot_ID', 'RefSeq': 'RefSeq_ID', 'NCBI ID':'NCBI_Gene_ID', 'Gene_Name':'HGNC_Symbol'})\n",
    "column_order = ['BioMedGraphica_ID', 'Uniprot_ID', 'Ensembl_Protein_ID', 'Ensembl_Protein_ID_Version', 'RefSeq_ID', 'NCBI_Gene_ID', 'UniProt_Name', 'HGNC_Symbol']\n",
    "biomedgraphica_protein = biomedgraphica_protein[column_order]\n",
    "biomedgraphica_protein"
   ]
  },
  {
   "cell_type": "code",
   "execution_count": 23,
   "metadata": {},
   "outputs": [
    {
     "name": "stdout",
     "output_type": "stream",
     "text": [
      "Data has been saved to D:\\RA\\BMG\\BioMedGraphica\\Entity\\Protein\\BioMedGraphica_Protein.csv\n"
     ]
    }
   ],
   "source": [
    "import os\n",
    "from pathlib import Path\n",
    "\n",
    "# get the current working directory\n",
    "current_working_dir = Path(os.getcwd()).resolve()\n",
    "\n",
    "# get the output directory\n",
    "grandparent_dir = current_working_dir.parent.parent.parent\n",
    "\n",
    "target_folder = grandparent_dir / 'BioMedGraphica' / 'Entity' / 'Protein'\n",
    "if not target_folder.exists():\n",
    "    target_folder.mkdir(parents=True)\n",
    "    print(f\"Folder {target_folder} has been created.\")\n",
    "\n",
    "output_file_path = target_folder / 'BioMedGraphica_Protein.csv'\n",
    "biomedgraphica_protein.to_csv(output_file_path, index=False)\n",
    "print(f\"Data has been saved to {output_file_path}\")"
   ]
  },
  {
   "cell_type": "markdown",
   "metadata": {},
   "source": [
    "## 5. Description"
   ]
  },
  {
   "cell_type": "code",
   "execution_count": 2,
   "metadata": {},
   "outputs": [],
   "source": [
    "import pandas as pd\n",
    "import os\n",
    "from pathlib import Path\n",
    "\n",
    "current_working_dir = Path(os.getcwd()).resolve()\n",
    "grandparent_dir = current_working_dir.parent.parent.parent\n",
    "target_dir = grandparent_dir / 'BioMedGraphica' / 'Entity' / 'Protein' / 'BioMedGraphica_Protein.csv'\n",
    "biomedgraphica_protein = pd.read_csv(target_dir, dtype=str)"
   ]
  },
  {
   "cell_type": "markdown",
   "metadata": {},
   "source": [
    "### 5.1 From UniProt"
   ]
  },
  {
   "cell_type": "code",
   "execution_count": 18,
   "metadata": {},
   "outputs": [
    {
     "name": "stdout",
     "output_type": "stream",
     "text": [
      "            Entry                                      Function [CC]\n",
      "0      A0A024R1R8                                                NaN\n",
      "1      A0A024RBG1  FUNCTION: Cleaves a beta-phosphate from the di...\n",
      "2      A0A075B6H7  FUNCTION: Probable non-functional open reading...\n",
      "3      A0A075B6H8  FUNCTION: Probable non-functional open reading...\n",
      "4      A0A075B6H9  FUNCTION: V region of the variable domain of i...\n",
      "...           ...                                                ...\n",
      "20412      U3KPV4  FUNCTION: Synthesizes the galactose-alpha(1,3)...\n",
      "20413      W5XKT8  FUNCTION: Sperm protein required for fusion of...\n",
      "20414      W6CW81  FUNCTION: Functions as an inhibitor of DNA vir...\n",
      "20415      X6R8D5                                                NaN\n",
      "20416      X6R8R1                                                NaN\n",
      "\n",
      "[20417 rows x 2 columns]\n"
     ]
    }
   ],
   "source": [
    "import requests\n",
    "from io import StringIO\n",
    "\n",
    "def fetch_uniprot_data(params):\n",
    "    url = \"https://rest.uniprot.org/uniprotkb/stream\"\n",
    "\n",
    "    response = requests.get(url, params=params)\n",
    "\n",
    "    if response.ok:\n",
    "        tsv_data = StringIO(response.text)\n",
    "        df = pd.read_csv(tsv_data, sep='\\t')\n",
    "        return df\n",
    "    else:\n",
    "        print(\"Failed to fetch data:\", response.status_code)\n",
    "        print(response.text)\n",
    "        return None\n",
    "    \n",
    "# change the parameters to fetch the data\n",
    "# load description of proteins\n",
    "params = {\n",
    "        'fields': 'accession,cc_function',\n",
    "        'format': 'tsv',\n",
    "        'query': '(model_organism:9606) AND (reviewed:true)',\n",
    "        'sort': 'organism_name asc'\n",
    "    }\n",
    "\n",
    "df_uniprot = fetch_uniprot_data(params)\n",
    "if df_uniprot is not None:\n",
    "    print(df_uniprot)\n",
    "else:\n",
    "    print(\"No data retrieved.\")\n",
    "#save the data to a CSV file\n",
    "df_uniprot.to_csv('uniprot_protein_description.csv', index=False)"
   ]
  },
  {
   "cell_type": "code",
   "execution_count": 3,
   "metadata": {},
   "outputs": [
    {
     "data": {
      "application/vnd.microsoft.datawrangler.viewer.v0+json": {
       "columns": [
        {
         "name": "index",
         "rawType": "int64",
         "type": "integer"
        },
        {
         "name": "Entry",
         "rawType": "object",
         "type": "string"
        },
        {
         "name": "Function [CC]",
         "rawType": "object",
         "type": "string"
        }
       ],
       "conversionMethod": "pd.DataFrame",
       "ref": "6ea35e64-2f15-47ad-9763-6403b45524aa",
       "rows": [
        [
         "1",
         "A0A024RBG1",
         "Cleaves a beta-phosphate from the diphosphate groups in PP-InsP5 (diphosphoinositol pentakisphosphate), PP-InsP4 and [PP]2-InsP4 (bisdiphosphoinositol tetrakisphosphate), suggesting that it may play a role in signal transduction. Also able to catalyze the hydrolysis of dinucleoside oligophosphate Ap6A, but not Ap5A. The major reaction products are ADP and p4a from Ap6A. Also able to hydrolyze 5-phosphoribose 1-diphosphate. Does not play a role in U8 snoRNA decapping activity. Binds U8 snoRNA. {ECO:0000250|UniProtKB:Q9NZJ9}."
        ],
        [
         "2",
         "A0A075B6H7",
         "Probable non-functional open reading frame (ORF) of V region of the variable domain of immunoglobulin light chains (PubMed:24600447). Non-functional ORF generally cannot participate in the synthesis of a productive immunoglobulin chain due to altered V-(D)-J or switch recombination and/or splicing site (at mRNA level) and/or conserved amino acid change (protein level) (PubMed:9619395). Immunoglobulins, also known as antibodies, are membrane-bound or secreted glycoproteins produced by B lymphocytes. In the recognition phase of humoral immunity, the membrane-bound immunoglobulins serve as receptors which, upon binding of a specific antigen, trigger the clonal expansion and differentiation of B lymphocytes into immunoglobulins-secreting plasma cells. Secreted immunoglobulins mediate the effector phase of humoral immunity, which results in the elimination of bound antigens (PubMed:20176268, PubMed:22158414). The antigen binding site is formed by the variable domain of one heavy chain, together with that of its associated light chain. Thus, each immunoglobulin has two antigen binding sites with remarkable affinity for a particular antigen. The variable domains are assembled by a process called V-(D)-J rearrangement and can then be subjected to somatic hypermutations which, after exposure to antigen and selection, allow affinity maturation for a particular antigen (PubMed:17576170, PubMed:20176268). {ECO:0000303|PubMed:17576170, ECO:0000303|PubMed:20176268, ECO:0000303|PubMed:22158414, ECO:0000303|PubMed:24600447, ECO:0000303|PubMed:9619395}."
        ],
        [
         "3",
         "A0A075B6H8",
         "Probable non-functional open reading frame (ORF) of V region of the variable domain of immunoglobulin light chains (PubMed:24600447). Non-functional ORF generally cannot participate in the synthesis of a productive immunoglobulin chain due to altered V-(D)-J or switch recombination and/or splicing site (at mRNA level) and/or conserved amino acid change (protein level) (PubMed:9619395). Immunoglobulins, also known as antibodies, are membrane-bound or secreted glycoproteins produced by B lymphocytes. In the recognition phase of humoral immunity, the membrane-bound immunoglobulins serve as receptors which, upon binding of a specific antigen, trigger the clonal expansion and differentiation of B lymphocytes into immunoglobulins-secreting plasma cells. Secreted immunoglobulins mediate the effector phase of humoral immunity, which results in the elimination of bound antigens (PubMed:20176268, PubMed:22158414). The antigen binding site is formed by the variable domain of one heavy chain, together with that of its associated light chain. Thus, each immunoglobulin has two antigen binding sites with remarkable affinity for a particular antigen. The variable domains are assembled by a process called V-(D)-J rearrangement and can then be subjected to somatic hypermutations which, after exposure to antigen and selection, allow affinity maturation for a particular antigen (PubMed:17576170, PubMed:20176268). {ECO:0000303|PubMed:17576170, ECO:0000303|PubMed:20176268, ECO:0000303|PubMed:22158414, ECO:0000303|PubMed:24600447, ECO:0000303|PubMed:9619395}."
        ],
        [
         "4",
         "A0A075B6H9",
         "V region of the variable domain of immunoglobulin light chains that participates in the antigen recognition (PubMed:24600447). Immunoglobulins, also known as antibodies, are membrane-bound or secreted glycoproteins produced by B lymphocytes. In the recognition phase of humoral immunity, the membrane-bound immunoglobulins serve as receptors which, upon binding of a specific antigen, trigger the clonal expansion and differentiation of B lymphocytes into immunoglobulins-secreting plasma cells. Secreted immunoglobulins mediate the effector phase of humoral immunity, which results in the elimination of bound antigens (PubMed:20176268, PubMed:22158414). The antigen binding site is formed by the variable domain of one heavy chain, together with that of its associated light chain. Thus, each immunoglobulin has two antigen binding sites with remarkable affinity for a particular antigen. The variable domains are assembled by a process called V-(D)-J rearrangement and can then be subjected to somatic hypermutations which, after exposure to antigen and selection, allow affinity maturation for a particular antigen (PubMed:17576170, PubMed:20176268). {ECO:0000303|PubMed:17576170, ECO:0000303|PubMed:20176268, ECO:0000303|PubMed:22158414, ECO:0000303|PubMed:24600447}."
        ],
        [
         "5",
         "A0A075B6I0",
         "V region of the variable domain of immunoglobulin light chains that participates in the antigen recognition (PubMed:24600447). Immunoglobulins, also known as antibodies, are membrane-bound or secreted glycoproteins produced by B lymphocytes. In the recognition phase of humoral immunity, the membrane-bound immunoglobulins serve as receptors which, upon binding of a specific antigen, trigger the clonal expansion and differentiation of B lymphocytes into immunoglobulins-secreting plasma cells. Secreted immunoglobulins mediate the effector phase of humoral immunity, which results in the elimination of bound antigens (PubMed:20176268, PubMed:22158414). The antigen binding site is formed by the variable domain of one heavy chain, together with that of its associated light chain. Thus, each immunoglobulin has two antigen binding sites with remarkable affinity for a particular antigen. The variable domains are assembled by a process called V-(D)-J rearrangement and can then be subjected to somatic hypermutations which, after exposure to antigen and selection, allow affinity maturation for a particular antigen (PubMed:17576170, PubMed:20176268). {ECO:0000303|PubMed:17576170, ECO:0000303|PubMed:20176268, ECO:0000303|PubMed:22158414, ECO:0000303|PubMed:24600447}."
        ],
        [
         "6",
         "A0A075B6I1",
         "V region of the variable domain of immunoglobulin light chains that participates in the antigen recognition (PubMed:24600447). Immunoglobulins, also known as antibodies, are membrane-bound or secreted glycoproteins produced by B lymphocytes. In the recognition phase of humoral immunity, the membrane-bound immunoglobulins serve as receptors which, upon binding of a specific antigen, trigger the clonal expansion and differentiation of B lymphocytes into immunoglobulins-secreting plasma cells. Secreted immunoglobulins mediate the effector phase of humoral immunity, which results in the elimination of bound antigens (PubMed:20176268, PubMed:22158414). The antigen binding site is formed by the variable domain of one heavy chain, together with that of its associated light chain. Thus, each immunoglobulin has two antigen binding sites with remarkable affinity for a particular antigen. The variable domains are assembled by a process called V-(D)-J rearrangement and can then be subjected to somatic hypermutations which, after exposure to antigen and selection, allow affinity maturation for a particular antigen (PubMed:17576170, PubMed:20176268). {ECO:0000303|PubMed:17576170, ECO:0000303|PubMed:20176268, ECO:0000303|PubMed:22158414, ECO:0000303|PubMed:24600447}."
        ],
        [
         "7",
         "A0A075B6I3",
         "Probable non-functional open reading frame (ORF) of V region of the variable domain of immunoglobulin light chains (PubMed:24600447). Non-functional ORF generally cannot participate in the synthesis of a productive immunoglobulin chain due to altered V-(D)-J or switch recombination and/or splicing site (at mRNA level) and/or conserved amino acid change (protein level) (PubMed:9619395). Immunoglobulins, also known as antibodies, are membrane-bound or secreted glycoproteins produced by B lymphocytes. In the recognition phase of humoral immunity, the membrane-bound immunoglobulins serve as receptors which, upon binding of a specific antigen, trigger the clonal expansion and differentiation of B lymphocytes into immunoglobulins-secreting plasma cells. Secreted immunoglobulins mediate the effector phase of humoral immunity, which results in the elimination of bound antigens (PubMed:20176268, PubMed:22158414). The antigen binding site is formed by the variable domain of one heavy chain, together with that of its associated light chain. Thus, each immunoglobulin has two antigen binding sites with remarkable affinity for a particular antigen. The variable domains are assembled by a process called V-(D)-J rearrangement and can then be subjected to somatic hypermutations which, after exposure to antigen and selection, allow affinity maturation for a particular antigen (PubMed:17576170, PubMed:20176268). {ECO:0000303|PubMed:17576170, ECO:0000303|PubMed:20176268, ECO:0000303|PubMed:22158414, ECO:0000303|PubMed:24600447, ECO:0000303|PubMed:9619395}."
        ],
        [
         "8",
         "A0A075B6I4",
         "V region of the variable domain of immunoglobulin light chains that participates in the antigen recognition (PubMed:24600447). Immunoglobulins, also known as antibodies, are membrane-bound or secreted glycoproteins produced by B lymphocytes. In the recognition phase of humoral immunity, the membrane-bound immunoglobulins serve as receptors which, upon binding of a specific antigen, trigger the clonal expansion and differentiation of B lymphocytes into immunoglobulins-secreting plasma cells. Secreted immunoglobulins mediate the effector phase of humoral immunity, which results in the elimination of bound antigens (PubMed:20176268, PubMed:22158414). The antigen binding site is formed by the variable domain of one heavy chain, together with that of its associated light chain. Thus, each immunoglobulin has two antigen binding sites with remarkable affinity for a particular antigen. The variable domains are assembled by a process called V-(D)-J rearrangement and can then be subjected to somatic hypermutations which, after exposure to antigen and selection, allow affinity maturation for a particular antigen (PubMed:17576170, PubMed:20176268). {ECO:0000303|PubMed:17576170, ECO:0000303|PubMed:20176268, ECO:0000303|PubMed:22158414, ECO:0000303|PubMed:24600447}."
        ],
        [
         "9",
         "A0A075B6I6",
         "Probable non-functional open reading frame (ORF) of V region of the variable domain of immunoglobulin light chains (PubMed:24600447). Non-functional ORF generally cannot participate in the synthesis of a productive immunoglobulin chain due to altered V-(D)-J or switch recombination and/or splicing site (at mRNA level) and/or conserved amino acid change (protein level) (PubMed:9619395). Immunoglobulins, also known as antibodies, are membrane-bound or secreted glycoproteins produced by B lymphocytes. In the recognition phase of humoral immunity, the membrane-bound immunoglobulins serve as receptors which, upon binding of a specific antigen, trigger the clonal expansion and differentiation of B lymphocytes into immunoglobulins-secreting plasma cells. Secreted immunoglobulins mediate the effector phase of humoral immunity, which results in the elimination of bound antigens (PubMed:20176268, PubMed:22158414). The antigen binding site is formed by the variable domain of one heavy chain, together with that of its associated light chain. Thus, each immunoglobulin has two antigen binding sites with remarkable affinity for a particular antigen. The variable domains are assembled by a process called V-(D)-J rearrangement and can then be subjected to somatic hypermutations which, after exposure to antigen and selection, allow affinity maturation for a particular antigen (PubMed:17576170, PubMed:20176268). {ECO:0000303|PubMed:17576170, ECO:0000303|PubMed:20176268, ECO:0000303|PubMed:22158414, ECO:0000303|PubMed:24600447, ECO:0000303|PubMed:9619395}."
        ],
        [
         "10",
         "A0A075B6I7",
         "Probable non-functional open reading frame (ORF) of V region of the variable domain of immunoglobulin light chains (PubMed:24600447). Non-functional ORF generally cannot participate in the synthesis of a productive immunoglobulin chain due to altered V-(D)-J or switch recombination and/or splicing site (at mRNA level) and/or conserved amino acid change (protein level) (PubMed:9619395). Immunoglobulins, also known as antibodies, are membrane-bound or secreted glycoproteins produced by B lymphocytes. In the recognition phase of humoral immunity, the membrane-bound immunoglobulins serve as receptors which, upon binding of a specific antigen, trigger the clonal expansion and differentiation of B lymphocytes into immunoglobulins-secreting plasma cells. Secreted immunoglobulins mediate the effector phase of humoral immunity, which results in the elimination of bound antigens (PubMed:20176268, PubMed:22158414). The antigen binding site is formed by the variable domain of one heavy chain, together with that of its associated light chain. Thus, each immunoglobulin has two antigen binding sites with remarkable affinity for a particular antigen. The variable domains are assembled by a process called V-(D)-J rearrangement and can then be subjected to somatic hypermutations which, after exposure to antigen and selection, allow affinity maturation for a particular antigen (PubMed:17576170, PubMed:20176268). {ECO:0000303|PubMed:17576170, ECO:0000303|PubMed:20176268, ECO:0000303|PubMed:22158414, ECO:0000303|PubMed:24600447, ECO:0000303|PubMed:9619395}."
        ],
        [
         "11",
         "A0A075B6I9",
         "V region of the variable domain of immunoglobulin light chains that participates in the antigen recognition (PubMed:24600447). Immunoglobulins, also known as antibodies, are membrane-bound or secreted glycoproteins produced by B lymphocytes. In the recognition phase of humoral immunity, the membrane-bound immunoglobulins serve as receptors which, upon binding of a specific antigen, trigger the clonal expansion and differentiation of B lymphocytes into immunoglobulins-secreting plasma cells. Secreted immunoglobulins mediate the effector phase of humoral immunity, which results in the elimination of bound antigens (PubMed:20176268, PubMed:22158414). The antigen binding site is formed by the variable domain of one heavy chain, together with that of its associated light chain. Thus, each immunoglobulin has two antigen binding sites with remarkable affinity for a particular antigen. The variable domains are assembled by a process called V-(D)-J rearrangement and can then be subjected to somatic hypermutations which, after exposure to antigen and selection, allow affinity maturation for a particular antigen (PubMed:17576170, PubMed:20176268). {ECO:0000303|PubMed:17576170, ECO:0000303|PubMed:20176268, ECO:0000303|PubMed:22158414, ECO:0000303|PubMed:24600447}."
        ],
        [
         "12",
         "A0A075B6J1",
         "V region of the variable domain of immunoglobulin light chains that participates in the antigen recognition (PubMed:24600447). Immunoglobulins, also known as antibodies, are membrane-bound or secreted glycoproteins produced by B lymphocytes. In the recognition phase of humoral immunity, the membrane-bound immunoglobulins serve as receptors which, upon binding of a specific antigen, trigger the clonal expansion and differentiation of B lymphocytes into immunoglobulins-secreting plasma cells. Secreted immunoglobulins mediate the effector phase of humoral immunity, which results in the elimination of bound antigens (PubMed:20176268, PubMed:22158414). The antigen binding site is formed by the variable domain of one heavy chain, together with that of its associated light chain. Thus, each immunoglobulin has two antigen binding sites with remarkable affinity for a particular antigen. The variable domains are assembled by a process called V-(D)-J rearrangement and can then be subjected to somatic hypermutations which, after exposure to antigen and selection, allow affinity maturation for a particular antigen (PubMed:17576170, PubMed:20176268). {ECO:0000303|PubMed:17576170, ECO:0000303|PubMed:20176268, ECO:0000303|PubMed:22158414, ECO:0000303|PubMed:24600447}."
        ],
        [
         "13",
         "A0A075B6J2",
         "Probable non-functional open reading frame (ORF) of V region of the variable domain of immunoglobulin light chains (PubMed:24600447). Non-functional ORF generally cannot participate in the synthesis of a productive immunoglobulin chain due to altered V-(D)-J or switch recombination and/or splicing site (at mRNA level) and/or conserved amino acid change (protein level) (PubMed:9619395). Immunoglobulins, also known as antibodies, are membrane-bound or secreted glycoproteins produced by B lymphocytes. In the recognition phase of humoral immunity, the membrane-bound immunoglobulins serve as receptors which, upon binding of a specific antigen, trigger the clonal expansion and differentiation of B lymphocytes into immunoglobulins-secreting plasma cells. Secreted immunoglobulins mediate the effector phase of humoral immunity, which results in the elimination of bound antigens (PubMed:20176268, PubMed:22158414). The antigen binding site is formed by the variable domain of one heavy chain, together with that of its associated light chain. Thus, each immunoglobulin has two antigen binding sites with remarkable affinity for a particular antigen. The variable domains are assembled by a process called V-(D)-J rearrangement and can then be subjected to somatic hypermutations which, after exposure to antigen and selection, allow affinity maturation for a particular antigen (PubMed:17576170, PubMed:20176268). {ECO:0000303|PubMed:17576170, ECO:0000303|PubMed:20176268, ECO:0000303|PubMed:22158414, ECO:0000303|PubMed:24600447, ECO:0000303|PubMed:9619395}."
        ],
        [
         "14",
         "A0A075B6J6",
         "V region of the variable domain of immunoglobulin light chains that participates in the antigen recognition (PubMed:24600447). Immunoglobulins, also known as antibodies, are membrane-bound or secreted glycoproteins produced by B lymphocytes. In the recognition phase of humoral immunity, the membrane-bound immunoglobulins serve as receptors which, upon binding of a specific antigen, trigger the clonal expansion and differentiation of B lymphocytes into immunoglobulins-secreting plasma cells. Secreted immunoglobulins mediate the effector phase of humoral immunity, which results in the elimination of bound antigens (PubMed:20176268, PubMed:22158414). The antigen binding site is formed by the variable domain of one heavy chain, together with that of its associated light chain. Thus, each immunoglobulin has two antigen binding sites with remarkable affinity for a particular antigen. The variable domains are assembled by a process called V-(D)-J rearrangement and can then be subjected to somatic hypermutations which, after exposure to antigen and selection, allow affinity maturation for a particular antigen (PubMed:17576170, PubMed:20176268). {ECO:0000303|PubMed:17576170, ECO:0000303|PubMed:20176268, ECO:0000303|PubMed:22158414, ECO:0000303|PubMed:24600447}."
        ],
        [
         "15",
         "A0A075B6J9",
         "V region of the variable domain of immunoglobulin light chains that participates in the antigen recognition (PubMed:24600447). Immunoglobulins, also known as antibodies, are membrane-bound or secreted glycoproteins produced by B lymphocytes. In the recognition phase of humoral immunity, the membrane-bound immunoglobulins serve as receptors which, upon binding of a specific antigen, trigger the clonal expansion and differentiation of B lymphocytes into immunoglobulins-secreting plasma cells. Secreted immunoglobulins mediate the effector phase of humoral immunity, which results in the elimination of bound antigens (PubMed:20176268, PubMed:22158414). The antigen binding site is formed by the variable domain of one heavy chain, together with that of its associated light chain. Thus, each immunoglobulin has two antigen binding sites with remarkable affinity for a particular antigen. The variable domains are assembled by a process called V-(D)-J rearrangement and can then be subjected to somatic hypermutations which, after exposure to antigen and selection, allow affinity maturation for a particular antigen (PubMed:17576170, PubMed:20176268). {ECO:0000303|PubMed:17576170, ECO:0000303|PubMed:20176268, ECO:0000303|PubMed:22158414, ECO:0000303|PubMed:24600447}."
        ],
        [
         "16",
         "A0A075B6K0",
         "V region of the variable domain of immunoglobulin light chains that participates in the antigen recognition (PubMed:24600447). Immunoglobulins, also known as antibodies, are membrane-bound or secreted glycoproteins produced by B lymphocytes. In the recognition phase of humoral immunity, the membrane-bound immunoglobulins serve as receptors which, upon binding of a specific antigen, trigger the clonal expansion and differentiation of B lymphocytes into immunoglobulins-secreting plasma cells. Secreted immunoglobulins mediate the effector phase of humoral immunity, which results in the elimination of bound antigens (PubMed:20176268, PubMed:22158414). The antigen binding site is formed by the variable domain of one heavy chain, together with that of its associated light chain. Thus, each immunoglobulin has two antigen binding sites with remarkable affinity for a particular antigen. The variable domains are assembled by a process called V-(D)-J rearrangement and can then be subjected to somatic hypermutations which, after exposure to antigen and selection, allow affinity maturation for a particular antigen (PubMed:17576170, PubMed:20176268). {ECO:0000303|PubMed:17576170, ECO:0000303|PubMed:20176268, ECO:0000303|PubMed:22158414, ECO:0000303|PubMed:24600447}."
        ],
        [
         "17",
         "A0A075B6K2",
         "V region of the variable domain of immunoglobulin light chains that participates in the antigen recognition (PubMed:24600447). Immunoglobulins, also known as antibodies, are membrane-bound or secreted glycoproteins produced by B lymphocytes. In the recognition phase of humoral immunity, the membrane-bound immunoglobulins serve as receptors which, upon binding of a specific antigen, trigger the clonal expansion and differentiation of B lymphocytes into immunoglobulins-secreting plasma cells. Secreted immunoglobulins mediate the effector phase of humoral immunity, which results in the elimination of bound antigens (PubMed:20176268, PubMed:22158414). The antigen binding site is formed by the variable domain of one heavy chain, together with that of its associated light chain. Thus, each immunoglobulin has two antigen binding sites with remarkable affinity for a particular antigen. The variable domains are assembled by a process called V-(D)-J rearrangement and can then be subjected to somatic hypermutations which, after exposure to antigen and selection, allow affinity maturation for a particular antigen (PubMed:17576170, PubMed:20176268). {ECO:0000303|PubMed:17576170, ECO:0000303|PubMed:20176268, ECO:0000303|PubMed:22158414, ECO:0000303|PubMed:24600447}."
        ],
        [
         "18",
         "A0A075B6K4",
         "V region of the variable domain of immunoglobulin light chains that participates in the antigen recognition (PubMed:24600447). Immunoglobulins, also known as antibodies, are membrane-bound or secreted glycoproteins produced by B lymphocytes. In the recognition phase of humoral immunity, the membrane-bound immunoglobulins serve as receptors which, upon binding of a specific antigen, trigger the clonal expansion and differentiation of B lymphocytes into immunoglobulins-secreting plasma cells. Secreted immunoglobulins mediate the effector phase of humoral immunity, which results in the elimination of bound antigens (PubMed:20176268, PubMed:22158414). The antigen binding site is formed by the variable domain of one heavy chain, together with that of its associated light chain. Thus, each immunoglobulin has two antigen binding sites with remarkable affinity for a particular antigen. The variable domains are assembled by a process called V-(D)-J rearrangement and can then be subjected to somatic hypermutations which, after exposure to antigen and selection, allow affinity maturation for a particular antigen (PubMed:17576170, PubMed:20176268). {ECO:0000303|PubMed:17576170, ECO:0000303|PubMed:20176268, ECO:0000303|PubMed:22158414, ECO:0000303|PubMed:24600447}."
        ],
        [
         "19",
         "A0A075B6K5",
         "V region of the variable domain of immunoglobulin light chains that participates in the antigen recognition (PubMed:24600447). Immunoglobulins, also known as antibodies, are membrane-bound or secreted glycoproteins produced by B lymphocytes. In the recognition phase of humoral immunity, the membrane-bound immunoglobulins serve as receptors which, upon binding of a specific antigen, trigger the clonal expansion and differentiation of B lymphocytes into immunoglobulins-secreting plasma cells. Secreted immunoglobulins mediate the effector phase of humoral immunity, which results in the elimination of bound antigens (PubMed:20176268, PubMed:22158414). The antigen binding site is formed by the variable domain of one heavy chain, together with that of its associated light chain. Thus, each immunoglobulin has two antigen binding sites with remarkable affinity for a particular antigen. The variable domains are assembled by a process called V-(D)-J rearrangement and can then be subjected to somatic hypermutations which, after exposure to antigen and selection, allow affinity maturation for a particular antigen (PubMed:17576170, PubMed:20176268). {ECO:0000303|PubMed:17576170, ECO:0000303|PubMed:20176268, ECO:0000303|PubMed:22158414, ECO:0000303|PubMed:24600447}."
        ],
        [
         "20",
         "A0A075B6K6",
         "V region of the variable domain of immunoglobulin light chains that participates in the antigen recognition (PubMed:24600447). Immunoglobulins, also known as antibodies, are membrane-bound or secreted glycoproteins produced by B lymphocytes. In the recognition phase of humoral immunity, the membrane-bound immunoglobulins serve as receptors which, upon binding of a specific antigen, trigger the clonal expansion and differentiation of B lymphocytes into immunoglobulins-secreting plasma cells. Secreted immunoglobulins mediate the effector phase of humoral immunity, which results in the elimination of bound antigens (PubMed:20176268, PubMed:22158414). The antigen binding site is formed by the variable domain of one heavy chain, together with that of its associated light chain. Thus, each immunoglobulin has two antigen binding sites with remarkable affinity for a particular antigen. The variable domains are assembled by a process called V-(D)-J rearrangement and can then be subjected to somatic hypermutations which, after exposure to antigen and selection, allow affinity maturation for a particular antigen (PubMed:17576170, PubMed:20176268). {ECO:0000303|PubMed:17576170, ECO:0000303|PubMed:20176268, ECO:0000303|PubMed:22158414, ECO:0000303|PubMed:24600447}."
        ],
        [
         "21",
         "A0A075B6L2",
         "Probable non-functional open reading frame (ORF) of V region of the variable domain of T cell receptor (TR) gamma chain (PubMed:24600447). Non-functional ORF generally cannot participate in the synthesis of a productive T cell receptor (TR) chain due to altered V-(D)-J or switch recombination and/or splicing site (at mRNA level) and/or conserved amino acid change (protein level) (PubMed:9619395). Gamma-delta TRs recognize a variety of self and foreign non-peptide antigens frequently expressed at the epithelial boundaries between the host and external environment, including endogenous lipids presented by MH-like protein CD1D and phosphoantigens presented by butyrophilin-like molecule BTN3A1. Upon antigen recognition induces rapid, innate-like immune responses involved in pathogen clearance and tissue repair (PubMed:23348415, PubMed:28920588). Binding of gamma-delta TR complex to antigen triggers phosphorylation of immunoreceptor tyrosine-based activation motifs (ITAMs) in the CD3 chains by the LCK and FYN kinases, allowing the recruitment, phosphorylation, and activation of ZAP70 that facilitates phosphorylation of the scaffolding proteins LCP2 and LAT. This lead to the formation of a supramolecular signalosome that recruits the phospholipase PLCG1, resulting in calcium mobilization and ERK activation, ultimately leading to T cell expansion and differentiation into effector cells (PubMed:25674089). Gamma-delta TRs are produced through somatic rearrangement of a limited repertoire of variable (V), diversity (D), and joining (J) genes. The potential diversity of gamma-delta TRs is conferred by the unique ability to rearrange (D) genes in tandem and to utilize all three reading frames. The combinatorial diversity is considerably increased by the sequence exonuclease trimming and random nucleotide (N) region additions which occur during the V-(D)-J rearrangements (PubMed:24387714). {ECO:0000303|PubMed:23348415, ECO:0000303|PubMed:24387714, ECO:0000303|PubMed:24600447, ECO:0000303|PubMed:25674089, ECO:0000303|PubMed:28920588}."
        ],
        [
         "22",
         "A0A075B6L6",
         "Probable non-functional open reading frame (ORF) of V region of the variable domain of T cell receptor (TR) beta chain (PubMed:24600447). Non-functional ORF generally cannot participate in the synthesis of a productive T cell receptor (TR) chain due to altered V-(D)-J or switch recombination and/or splicing site (at mRNA level) and/or conserved amino acid change (protein level) (PubMed:9619395). Alpha-beta T cell receptors are antigen specific receptors which are essential to the immune response and are present on the cell surface of T lymphocytes. Recognize peptide-major histocompatibility (MH) (pMH) complexes that are displayed by antigen presenting cells (APC), a prerequisite for efficient T cell adaptive immunity against pathogens (PubMed:25493333). Binding of alpha-beta TR to pMH complex initiates TR-CD3 clustering on the cell surface and intracellular activation of LCK that phosphorylates the ITAM motifs of CD3G, CD3D, CD3E and CD247 enabling the recruitment of ZAP70. In turn ZAP70 phosphorylates LAT, which recruits numerous signaling molecules to form the LAT signalosome. The LAT signalosome propagates signal branching to three major signaling pathways, the calcium, the mitogen-activated protein kinase (MAPK) kinase and the nuclear factor NF-kappa-B (NF-kB) pathways, leading to the mobilization of transcription factors that are critical for gene expression and essential for T cell growth and differentiation (PubMed:23524462). The T cell repertoire is generated in the thymus, by V-(D)-J rearrangement. This repertoire is then shaped by intrathymic selection events to generate a peripheral T cell pool of self-MH restricted, non-autoaggressive T cells. Post-thymic interaction of alpha-beta TR with the pMH complexes shapes TR structural and functional avidity (PubMed:15040585). {ECO:0000269|PubMed:9619395, ECO:0000303|PubMed:15040585, ECO:0000303|PubMed:23524462, ECO:0000303|PubMed:24600447, ECO:0000303|PubMed:25493333}."
        ],
        [
         "23",
         "A0A075B6N1",
         "V region of the variable domain of T cell receptor (TR) beta chain that participates in the antigen recognition (PubMed:24600447). Alpha-beta T cell receptors are antigen specific receptors which are essential to the immune response and are present on the cell surface of T lymphocytes. Recognize peptide-major histocompatibility (MH) (pMH) complexes that are displayed by antigen presenting cells (APC), a prerequisite for efficient T cell adaptive immunity against pathogens (PubMed:25493333). Binding of alpha-beta TR to pMH complex initiates TR-CD3 clustering on the cell surface and intracellular activation of LCK that phosphorylates the ITAM motifs of CD3G, CD3D, CD3E and CD247 enabling the recruitment of ZAP70. In turn ZAP70 phosphorylates LAT, which recruits numerous signaling molecules to form the LAT signalosome. The LAT signalosome propagates signal branching to three major signaling pathways, the calcium, the mitogen-activated protein kinase (MAPK) kinase and the nuclear factor NF-kappa-B (NF-kB) pathways, leading to the mobilization of transcription factors that are critical for gene expression and essential for T cell growth and differentiation (PubMed:23524462). The T cell repertoire is generated in the thymus, by V-(D)-J rearrangement. This repertoire is then shaped by intrathymic selection events to generate a peripheral T cell pool of self-MH restricted, non-autoaggressive T cells. Post-thymic interaction of alpha-beta TR with the pMH complexes shapes TR structural and functional avidity (PubMed:15040585). {ECO:0000303|PubMed:15040585, ECO:0000303|PubMed:23524462, ECO:0000303|PubMed:24600447, ECO:0000303|PubMed:25493333}."
        ],
        [
         "24",
         "A0A075B6N2",
         "V region of the variable domain of T cell receptor (TR) beta chain that participates in the antigen recognition (PubMed:24600447). Alpha-beta T cell receptors are antigen specific receptors which are essential to the immune response and are present on the cell surface of T lymphocytes. Recognize peptide-major histocompatibility (MH) (pMH) complexes that are displayed by antigen presenting cells (APC), a prerequisite for efficient T cell adaptive immunity against pathogens (PubMed:25493333). Binding of alpha-beta TR to pMH complex initiates TR-CD3 clustering on the cell surface and intracellular activation of LCK that phosphorylates the ITAM motifs of CD3G, CD3D, CD3E and CD247 enabling the recruitment of ZAP70. In turn ZAP70 phosphorylates LAT, which recruits numerous signaling molecules to form the LAT signalosome. The LAT signalosome propagates signal branching to three major signaling pathways, the calcium, the mitogen-activated protein kinase (MAPK) kinase and the nuclear factor NF-kappa-B (NF-kB) pathways, leading to the mobilization of transcription factors that are critical for gene expression and essential for T cell growth and differentiation (PubMed:23524462). The T cell repertoire is generated in the thymus, by V-(D)-J rearrangement. This repertoire is then shaped by intrathymic selection events to generate a peripheral T cell pool of self-MH restricted, non-autoaggressive T cells. Post-thymic interaction of alpha-beta TR with the pMH complexes shapes TR structural and functional avidity (PubMed:15040585). {ECO:0000303|PubMed:15040585, ECO:0000303|PubMed:23524462, ECO:0000303|PubMed:24600447, ECO:0000303|PubMed:25493333}."
        ],
        [
         "25",
         "A0A075B6N3",
         "V region of the variable domain of T cell receptor (TR) beta chain that participates in the antigen recognition (PubMed:24600447). Alpha-beta T cell receptors are antigen specific receptors which are essential to the immune response and are present on the cell surface of T lymphocytes. Recognize peptide-major histocompatibility (MH) (pMH) complexes that are displayed by antigen presenting cells (APC), a prerequisite for efficient T cell adaptive immunity against pathogens (PubMed:25493333). Binding of alpha-beta TR to pMH complex initiates TR-CD3 clustering on the cell surface and intracellular activation of LCK that phosphorylates the ITAM motifs of CD3G, CD3D, CD3E and CD247 enabling the recruitment of ZAP70. In turn ZAP70 phosphorylates LAT, which recruits numerous signaling molecules to form the LAT signalosome. The LAT signalosome propagates signal branching to three major signaling pathways, the calcium, the mitogen-activated protein kinase (MAPK) kinase and the nuclear factor NF-kappa-B (NF-kB) pathways, leading to the mobilization of transcription factors that are critical for gene expression and essential for T cell growth and differentiation (PubMed:23524462). The T cell repertoire is generated in the thymus, by V-(D)-J rearrangement. This repertoire is then shaped by intrathymic selection events to generate a peripheral T cell pool of self-MH restricted, non-autoaggressive T cells. Post-thymic interaction of alpha-beta TR with the pMH complexes shapes TR structural and functional avidity (PubMed:15040585). {ECO:0000303|PubMed:15040585, ECO:0000303|PubMed:23524462, ECO:0000303|PubMed:24600447, ECO:0000303|PubMed:25493333}."
        ],
        [
         "26",
         "A0A075B6N4",
         "V region of the variable domain of T cell receptor (TR) beta chain that participates in the antigen recognition (PubMed:24600447). Alpha-beta T cell receptors are antigen specific receptors which are essential to the immune response and are present on the cell surface of T lymphocytes. Recognize peptide-major histocompatibility (MH) (pMH) complexes that are displayed by antigen presenting cells (APC), a prerequisite for efficient T cell adaptive immunity against pathogens (PubMed:25493333). Binding of alpha-beta TR to pMH complex initiates TR-CD3 clustering on the cell surface and intracellular activation of LCK that phosphorylates the ITAM motifs of CD3G, CD3D, CD3E and CD247 enabling the recruitment of ZAP70. In turn ZAP70 phosphorylates LAT, which recruits numerous signaling molecules to form the LAT signalosome. The LAT signalosome propagates signal branching to three major signaling pathways, the calcium, the mitogen-activated protein kinase (MAPK) kinase and the nuclear factor NF-kappa-B (NF-kB) pathways, leading to the mobilization of transcription factors that are critical for gene expression and essential for T cell growth and differentiation (PubMed:23524462). The T cell repertoire is generated in the thymus, by V-(D)-J rearrangement. This repertoire is then shaped by intrathymic selection events to generate a peripheral T cell pool of self-MH restricted, non-autoaggressive T cells. Post-thymic interaction of alpha-beta TR with the pMH complexes shapes TR structural and functional avidity (PubMed:15040585). {ECO:0000303|PubMed:15040585, ECO:0000303|PubMed:23524462, ECO:0000303|PubMed:24600447, ECO:0000303|PubMed:25493333}."
        ],
        [
         "27",
         "A0A075B6P5",
         "V region of the variable domain of immunoglobulin light chains that participates in the antigen recognition (PubMed:24600447). Immunoglobulins, also known as antibodies, are membrane-bound or secreted glycoproteins produced by B lymphocytes. In the recognition phase of humoral immunity, the membrane-bound immunoglobulins serve as receptors which, upon binding of a specific antigen, trigger the clonal expansion and differentiation of B lymphocytes into immunoglobulins-secreting plasma cells. Secreted immunoglobulins mediate the effector phase of humoral immunity, which results in the elimination of bound antigens (PubMed:20176268, PubMed:22158414). The antigen binding site is formed by the variable domain of one heavy chain, together with that of its associated light chain. Thus, each immunoglobulin has two antigen binding sites with remarkable affinity for a particular antigen. The variable domains are assembled by a process called V-(D)-J rearrangement and can then be subjected to somatic hypermutations which, after exposure to antigen and selection, allow affinity maturation for a particular antigen (PubMed:17576170, PubMed:20176268). {ECO:0000303|PubMed:17576170, ECO:0000303|PubMed:20176268, ECO:0000303|PubMed:22158414, ECO:0000303|PubMed:24600447}."
        ],
        [
         "28",
         "A0A075B6Q5",
         "V region of the variable domain of immunoglobulin heavy chains that participates in the antigen recognition (PubMed:24600447). Immunoglobulins, also known as antibodies, are membrane-bound or secreted glycoproteins produced by B lymphocytes. In the recognition phase of humoral immunity, the membrane-bound immunoglobulins serve as receptors which, upon binding of a specific antigen, trigger the clonal expansion and differentiation of B lymphocytes into immunoglobulins-secreting plasma cells. Secreted immunoglobulins mediate the effector phase of humoral immunity, which results in the elimination of bound antigens (PubMed:20176268, PubMed:22158414). The antigen binding site is formed by the variable domain of one heavy chain, together with that of its associated light chain. Thus, each immunoglobulin has two antigen binding sites with remarkable affinity for a particular antigen. The variable domains are assembled by a process called V-(D)-J rearrangement and can then be subjected to somatic hypermutations which, after exposure to antigen and selection, allow affinity maturation for a particular antigen (PubMed:17576170, PubMed:20176268). {ECO:0000303|PubMed:17576170, ECO:0000303|PubMed:20176268, ECO:0000303|PubMed:22158414, ECO:0000303|PubMed:24600447}."
        ],
        [
         "29",
         "A0A075B6R0",
         "V region of the variable domain of T cell receptor (TR) gamma chain that participates in the antigen recognition (PubMed:24600447). Gamma-delta TRs recognize a variety of self and foreign non-peptide antigens frequently expressed at the epithelial boundaries between the host and external environment, including endogenous lipids presented by MH-like protein CD1D and phosphoantigens presented by butyrophilin-like molecule BTN3A1. Upon antigen recognition induces rapid, innate-like immune responses involved in pathogen clearance and tissue repair (PubMed:23348415, PubMed:28920588). Binding of gamma-delta TR complex to antigen triggers phosphorylation of immunoreceptor tyrosine-based activation motifs (ITAMs) in the CD3 chains by the LCK and FYN kinases, allowing the recruitment, phosphorylation, and activation of ZAP70 that facilitates phosphorylation of the scaffolding proteins LCP2 and LAT. This lead to the formation of a supramolecular signalosome that recruits the phospholipase PLCG1, resulting in calcium mobilization and ERK activation, ultimately leading to T cell expansion and differentiation into effector cells (PubMed:25674089). Gamma-delta TRs are produced through somatic rearrangement of a limited repertoire of variable (V), diversity (D), and joining (J) genes. The potential diversity of gamma-delta TRs is conferred by the unique ability to rearrange (D) genes in tandem and to utilize all three reading frames. The combinatorial diversity is considerably increased by the sequence exonuclease trimming and random nucleotide (N) region additions which occur during the V-(D)-J rearrangements (PubMed:24387714). {ECO:0000303|PubMed:23348415, ECO:0000303|PubMed:24387714, ECO:0000303|PubMed:24600447, ECO:0000303|PubMed:25674089, ECO:0000303|PubMed:28920588}."
        ],
        [
         "30",
         "A0A075B6R2",
         "V region of the variable domain of immunoglobulin heavy chains that participates in the antigen recognition (PubMed:24600447). Immunoglobulins, also known as antibodies, are membrane-bound or secreted glycoproteins produced by B lymphocytes. In the recognition phase of humoral immunity, the membrane-bound immunoglobulins serve as receptors which, upon binding of a specific antigen, trigger the clonal expansion and differentiation of B lymphocytes into immunoglobulins-secreting plasma cells. Secreted immunoglobulins mediate the effector phase of humoral immunity, which results in the elimination of bound antigens (PubMed:20176268, PubMed:22158414). The antigen binding site is formed by the variable domain of one heavy chain, together with that of its associated light chain. Thus, each immunoglobulin has two antigen binding sites with remarkable affinity for a particular antigen. The variable domains are assembled by a process called V-(D)-J rearrangement and can then be subjected to somatic hypermutations which, after exposure to antigen and selection, allow affinity maturation for a particular antigen (PubMed:17576170, PubMed:20176268). {ECO:0000303|PubMed:17576170, ECO:0000303|PubMed:20176268, ECO:0000303|PubMed:22158414, ECO:0000303|PubMed:24600447}."
        ],
        [
         "31",
         "A0A075B6R9",
         "Probable non-functional open reading frame (ORF) of V region of the variable domain of immunoglobulin light chains (PubMed:24600447). Non-functional ORF generally cannot participate in the synthesis of a productive immunoglobulin chain due to altered V-(D)-J or switch recombination and/or splicing site (at mRNA level) and/or conserved amino acid change (protein level) (PubMed:9619395). Immunoglobulins, also known as antibodies, are membrane-bound or secreted glycoproteins produced by B lymphocytes. In the recognition phase of humoral immunity, the membrane-bound immunoglobulins serve as receptors which, upon binding of a specific antigen, trigger the clonal expansion and differentiation of B lymphocytes into immunoglobulins-secreting plasma cells. Secreted immunoglobulins mediate the effector phase of humoral immunity, which results in the elimination of bound antigens (PubMed:20176268, PubMed:22158414). The antigen binding site is formed by the variable domain of one heavy chain, together with that of its associated light chain. Thus, each immunoglobulin has two antigen binding sites with remarkable affinity for a particular antigen. The variable domains are assembled by a process called V-(D)-J rearrangement and can then be subjected to somatic hypermutations which, after exposure to antigen and selection, allow affinity maturation for a particular antigen (PubMed:17576170, PubMed:20176268). {ECO:0000303|PubMed:17576170, ECO:0000303|PubMed:20176268, ECO:0000303|PubMed:22158414, ECO:0000303|PubMed:24600447, ECO:0000303|PubMed:9619395}."
        ],
        [
         "32",
         "A0A075B6S0",
         "J region of the variable domain of T cell receptor (TR) gamma chain that participates in the antigen recognition (PubMed:24600447). Gamma-delta TRs recognize a variety of self and foreign non-peptide antigens frequently expressed at the epithelial boundaries between the host and external environment, including endogenous lipids presented by MH-like protein CD1D and phosphoantigens presented by butyrophilin-like molecule BTN3A1. Upon antigen recognition induces rapid, innate-like immune responses involved in pathogen clearance and tissue repair (PubMed:23348415, PubMed:28920588). Binding of gamma-delta TR complex to antigen triggers phosphorylation of immunoreceptor tyrosine-based activation motifs (ITAMs) in the CD3 chains by the LCK and FYN kinases, allowing the recruitment, phosphorylation, and activation of ZAP70 that facilitates phosphorylation of the scaffolding proteins LCP2 and LAT. This lead to the formation of a supramolecular signalosome that recruits the phospholipase PLCG1, resulting in calcium mobilization and ERK activation, ultimately leading to T cell expansion and differentiation into effector cells (PubMed:25674089). Gamma-delta TRs are produced through somatic rearrangement of a limited repertoire of variable (V), diversity (D), and joining (J) genes. The potential diversity of gamma-delta TRs is conferred by the unique ability to rearrange (D) genes in tandem and to utilize all three reading frames. The combinatorial diversity is considerably increased by the sequence exonuclease trimming and random nucleotide (N) region additions which occur during the V-(D)-J rearrangements (PubMed:24387714). {ECO:0000303|PubMed:23348415, ECO:0000303|PubMed:24387714, ECO:0000303|PubMed:24600447, ECO:0000303|PubMed:25674089, ECO:0000303|PubMed:28920588}."
        ],
        [
         "33",
         "A0A075B6S2",
         "V region of the variable domain of immunoglobulin light chains that participates in the antigen recognition (PubMed:24600447). Immunoglobulins, also known as antibodies, are membrane-bound or secreted glycoproteins produced by B lymphocytes. In the recognition phase of humoral immunity, the membrane-bound immunoglobulins serve as receptors which, upon binding of a specific antigen, trigger the clonal expansion and differentiation of B lymphocytes into immunoglobulins-secreting plasma cells. Secreted immunoglobulins mediate the effector phase of humoral immunity, which results in the elimination of bound antigens (PubMed:20176268, PubMed:22158414). The antigen binding site is formed by the variable domain of one heavy chain, together with that of its associated light chain. Thus, each immunoglobulin has two antigen binding sites with remarkable affinity for a particular antigen. The variable domains are assembled by a process called V-(D)-J rearrangement and can then be subjected to somatic hypermutations which, after exposure to antigen and selection, allow affinity maturation for a particular antigen (PubMed:17576170, PubMed:20176268). {ECO:0000303|PubMed:17576170, ECO:0000303|PubMed:20176268, ECO:0000303|PubMed:22158414, ECO:0000303|PubMed:24600447}."
        ],
        [
         "34",
         "A0A075B6S4",
         "V region of the variable domain of immunoglobulin light chains that participates in the antigen recognition (PubMed:24600447). Immunoglobulins, also known as antibodies, are membrane-bound or secreted glycoproteins produced by B lymphocytes. In the recognition phase of humoral immunity, the membrane-bound immunoglobulins serve as receptors which, upon binding of a specific antigen, trigger the clonal expansion and differentiation of B lymphocytes into immunoglobulins-secreting plasma cells. Secreted immunoglobulins mediate the effector phase of humoral immunity, which results in the elimination of bound antigens (PubMed:20176268, PubMed:22158414). The antigen binding site is formed by the variable domain of one heavy chain, together with that of its associated light chain. Thus, each immunoglobulin has two antigen binding sites with remarkable affinity for a particular antigen. The variable domains are assembled by a process called V-(D)-J rearrangement and can then be subjected to somatic hypermutations which, after exposure to antigen and selection, allow affinity maturation for a particular antigen (PubMed:17576170, PubMed:20176268). {ECO:0000303|PubMed:17576170, ECO:0000303|PubMed:20176268, ECO:0000303|PubMed:22158414, ECO:0000303|PubMed:24600447}."
        ],
        [
         "35",
         "A0A075B6S5",
         "V region of the variable domain of immunoglobulin light chains that participates in the antigen recognition (PubMed:24600447). Immunoglobulins, also known as antibodies, are membrane-bound or secreted glycoproteins produced by B lymphocytes. In the recognition phase of humoral immunity, the membrane-bound immunoglobulins serve as receptors which, upon binding of a specific antigen, trigger the clonal expansion and differentiation of B lymphocytes into immunoglobulins-secreting plasma cells. Secreted immunoglobulins mediate the effector phase of humoral immunity, which results in the elimination of bound antigens (PubMed:20176268, PubMed:22158414). The antigen binding site is formed by the variable domain of one heavy chain, together with that of its associated light chain. Thus, each immunoglobulin has two antigen binding sites with remarkable affinity for a particular antigen. The variable domains are assembled by a process called V-(D)-J rearrangement and can then be subjected to somatic hypermutations which, after exposure to antigen and selection, allow affinity maturation for a particular antigen (PubMed:17576170, PubMed:20176268). {ECO:0000303|PubMed:17576170, ECO:0000303|PubMed:20176268, ECO:0000303|PubMed:22158414, ECO:0000303|PubMed:24600447}."
        ],
        [
         "36",
         "A0A075B6S6",
         "V region of the variable domain of immunoglobulin light chains that participates in the antigen recognition (PubMed:24600447). Immunoglobulins, also known as antibodies, are membrane-bound or secreted glycoproteins produced by B lymphocytes. In the recognition phase of humoral immunity, the membrane-bound immunoglobulins serve as receptors which, upon binding of a specific antigen, trigger the clonal expansion and differentiation of B lymphocytes into immunoglobulins-secreting plasma cells. Secreted immunoglobulins mediate the effector phase of humoral immunity, which results in the elimination of bound antigens (PubMed:20176268, PubMed:22158414). The antigen binding site is formed by the variable domain of one heavy chain, together with that of its associated light chain. Thus, each immunoglobulin has two antigen binding sites with remarkable affinity for a particular antigen. The variable domains are assembled by a process called V-(D)-J rearrangement and can then be subjected to somatic hypermutations which, after exposure to antigen and selection, allow affinity maturation for a particular antigen (PubMed:17576170, PubMed:20176268). {ECO:0000303|PubMed:17576170, ECO:0000303|PubMed:20176268, ECO:0000303|PubMed:22158414, ECO:0000303|PubMed:24600447}."
        ],
        [
         "37",
         "A0A075B6S9",
         "Probable non-functional open reading frame (ORF) of V region of the variable domain of immunoglobulin light chains (PubMed:24600447). Non-functional ORF generally cannot participate in the synthesis of a productive immunoglobulin chain due to altered V-(D)-J or switch recombination and/or splicing site (at mRNA level) and/or conserved amino acid change (protein level) (PubMed:9619395). Immunoglobulins, also known as antibodies, are membrane-bound or secreted glycoproteins produced by B lymphocytes. In the recognition phase of humoral immunity, the membrane-bound immunoglobulins serve as receptors which, upon binding of a specific antigen, trigger the clonal expansion and differentiation of B lymphocytes into immunoglobulins-secreting plasma cells. Secreted immunoglobulins mediate the effector phase of humoral immunity, which results in the elimination of bound antigens (PubMed:20176268, PubMed:22158414). The antigen binding site is formed by the variable domain of one heavy chain, together with that of its associated light chain. Thus, each immunoglobulin has two antigen binding sites with remarkable affinity for a particular antigen. The variable domains are assembled by a process called V-(D)-J rearrangement and can then be subjected to somatic hypermutations which, after exposure to antigen and selection, allow affinity maturation for a particular antigen (PubMed:17576170, PubMed:20176268). {ECO:0000303|PubMed:17576170, ECO:0000303|PubMed:20176268, ECO:0000303|PubMed:22158414, ECO:0000303|PubMed:24600447, ECO:0000303|PubMed:9619395}."
        ],
        [
         "38",
         "A0A075B6T6",
         "V region of the variable domain of T cell receptor (TR) alpha chain that participates in the antigen recognition (PubMed:24600447). Alpha-beta T cell receptors are antigen specific receptors which are essential to the immune response and are present on the cell surface of T lymphocytes. Recognize peptide-major histocompatibility (MH) (pMH) complexes that are displayed by antigen presenting cells (APC), a prerequisite for efficient T cell adaptive immunity against pathogens (PubMed:25493333). Binding of alpha-beta TR to pMH complex initiates TR-CD3 clustering on the cell surface and intracellular activation of LCK that phosphorylates the ITAM motifs of CD3G, CD3D, CD3E and CD247 enabling the recruitment of ZAP70. In turn ZAP70 phosphorylates LAT, which recruits numerous signaling molecules to form the LAT signalosome. The LAT signalosome propagates signal branching to three major signaling pathways, the calcium, the mitogen-activated protein kinase (MAPK) kinase and the nuclear factor NF-kappa-B (NF-kB) pathways, leading to the mobilization of transcription factors that are critical for gene expression and essential for T cell growth and differentiation (PubMed:23524462). The T cell repertoire is generated in the thymus, by V-(D)-J rearrangement. This repertoire is then shaped by intrathymic selection events to generate a peripheral T cell pool of self-MH restricted, non-autoaggressive T cells. Post-thymic interaction of alpha-beta TR with the pMH complexes shapes TR structural and functional avidity (PubMed:15040585). {ECO:0000303|PubMed:15040585, ECO:0000303|PubMed:23524462, ECO:0000303|PubMed:24600447, ECO:0000303|PubMed:25493333}."
        ],
        [
         "39",
         "A0A075B6T7",
         "V region of the variable domain of T cell receptor (TR) alpha chain that participates in the antigen recognition (PubMed:24600447). Alpha-beta T cell receptors are antigen specific receptors which are essential to the immune response and are present on the cell surface of T lymphocytes. Recognize peptide-major histocompatibility (MH) (pMH) complexes that are displayed by antigen presenting cells (APC), a prerequisite for efficient T cell adaptive immunity against pathogens (PubMed:25493333). Binding of alpha-beta TR to pMH complex initiates TR-CD3 clustering on the cell surface and intracellular activation of LCK that phosphorylates the ITAM motifs of CD3G, CD3D, CD3E and CD247 enabling the recruitment of ZAP70. In turn ZAP70 phosphorylates LAT, which recruits numerous signaling molecules to form the LAT signalosome. The LAT signalosome propagates signal branching to three major signaling pathways, the calcium, the mitogen-activated protein kinase (MAPK) kinase and the nuclear factor NF-kappa-B (NF-kB) pathways, leading to the mobilization of transcription factors that are critical for gene expression and essential for T cell growth and differentiation (PubMed:23524462). The T cell repertoire is generated in the thymus, by V-(D)-J rearrangement. This repertoire is then shaped by intrathymic selection events to generate a peripheral T cell pool of self-MH restricted, non-autoaggressive T cells. Post-thymic interaction of alpha-beta TR with the pMH complexes shapes TR structural and functional avidity (PubMed:15040585). {ECO:0000303|PubMed:15040585, ECO:0000303|PubMed:23524462, ECO:0000303|PubMed:24600447, ECO:0000303|PubMed:25493333}."
        ],
        [
         "40",
         "A0A075B6T8",
         "V region of the variable domain of T cell receptor (TR) alpha chain that participates in the antigen recognition (PubMed:24600447). Alpha-beta T cell receptors are antigen specific receptors which are essential to the immune response and are present on the cell surface of T lymphocytes. Recognize peptide-major histocompatibility (MH) (pMH) complexes that are displayed by antigen presenting cells (APC), a prerequisite for efficient T cell adaptive immunity against pathogens (PubMed:25493333). Binding of alpha-beta TR to pMH complex initiates TR-CD3 clustering on the cell surface and intracellular activation of LCK that phosphorylates the ITAM motifs of CD3G, CD3D, CD3E and CD247 enabling the recruitment of ZAP70. In turn ZAP70 phosphorylates LAT, which recruits numerous signaling molecules to form the LAT signalosome. The LAT signalosome propagates signal branching to three major signaling pathways, the calcium, the mitogen-activated protein kinase (MAPK) kinase and the nuclear factor NF-kappa-B (NF-kB) pathways, leading to the mobilization of transcription factors that are critical for gene expression and essential for T cell growth and differentiation (PubMed:23524462). The T cell repertoire is generated in the thymus, by V-(D)-J rearrangement. This repertoire is then shaped by intrathymic selection events to generate a peripheral T cell pool of self-MH restricted, non-autoaggressive T cells. Post-thymic interaction of alpha-beta TR with the pMH complexes shapes TR structural and functional avidity (PubMed:15040585). {ECO:0000303|PubMed:15040585, ECO:0000303|PubMed:23524462, ECO:0000303|PubMed:24600447, ECO:0000303|PubMed:25493333}."
        ],
        [
         "41",
         "A0A075B6U4",
         "V region of the variable domain of T cell receptor (TR) alpha chain that participates in the antigen recognition (PubMed:24600447). Alpha-beta T cell receptors are antigen specific receptors which are essential to the immune response and are present on the cell surface of T lymphocytes. Recognize peptide-major histocompatibility (MH) (pMH) complexes that are displayed by antigen presenting cells (APC), a prerequisite for efficient T cell adaptive immunity against pathogens (PubMed:25493333). Binding of alpha-beta TR to pMH complex initiates TR-CD3 clustering on the cell surface and intracellular activation of LCK that phosphorylates the ITAM motifs of CD3G, CD3D, CD3E and CD247 enabling the recruitment of ZAP70. In turn ZAP70 phosphorylates LAT, which recruits numerous signaling molecules to form the LAT signalosome. The LAT signalosome propagates signal branching to three major signaling pathways, the calcium, the mitogen-activated protein kinase (MAPK) kinase and the nuclear factor NF-kappa-B (NF-kB) pathways, leading to the mobilization of transcription factors that are critical for gene expression and essential for T cell growth and differentiation (PubMed:23524462). The T cell repertoire is generated in the thymus, by V-(D)-J rearrangement. This repertoire is then shaped by intrathymic selection events to generate a peripheral T cell pool of self-MH restricted, non-autoaggressive T cells. Post-thymic interaction of alpha-beta TR with the pMH complexes shapes TR structural and functional avidity (PubMed:15040585). {ECO:0000303|PubMed:15040585, ECO:0000303|PubMed:23524462, ECO:0000303|PubMed:24600447, ECO:0000303|PubMed:25493333}."
        ],
        [
         "42",
         "A0A075B6V5",
         "V region of the variable domain of T cell receptor (TR) alpha chain that participates in the antigen recognition (PubMed:24600447). Alpha-beta T cell receptors are antigen specific receptors which are essential to the immune response and are present on the cell surface of T lymphocytes. Recognize peptide-major histocompatibility (MH) (pMH) complexes that are displayed by antigen presenting cells (APC), a prerequisite for efficient T cell adaptive immunity against pathogens (PubMed:25493333). Binding of alpha-beta TR to pMH complex initiates TR-CD3 clustering on the cell surface and intracellular activation of LCK that phosphorylates the ITAM motifs of CD3G, CD3D, CD3E and CD247 enabling the recruitment of ZAP70. In turn ZAP70 phosphorylates LAT, which recruits numerous signaling molecules to form the LAT signalosome. The LAT signalosome propagates signal branching to three major signaling pathways, the calcium, the mitogen-activated protein kinase (MAPK) kinase and the nuclear factor NF-kappa-B (NF-kB) pathways, leading to the mobilization of transcription factors that are critical for gene expression and essential for T cell growth and differentiation (PubMed:23524462). The T cell repertoire is generated in the thymus, by V-(D)-J rearrangement. This repertoire is then shaped by intrathymic selection events to generate a peripheral T cell pool of self-MH restricted, non-autoaggressive T cells. Post-thymic interaction of alpha-beta TR with the pMH complexes shapes TR structural and functional avidity (PubMed:15040585). {ECO:0000303|PubMed:15040585, ECO:0000303|PubMed:23524462, ECO:0000303|PubMed:24600447, ECO:0000303|PubMed:25493333}."
        ],
        [
         "43",
         "A0A075B6W5",
         "V region of the variable domain of T cell receptor (TR) alpha chain that participates in the antigen recognition (PubMed:24600447). Alpha-beta T cell receptors are antigen specific receptors which are essential to the immune response and are present on the cell surface of T lymphocytes. Recognize peptide-major histocompatibility (MH) (pMH) complexes that are displayed by antigen presenting cells (APC), a prerequisite for efficient T cell adaptive immunity against pathogens (PubMed:25493333). Binding of alpha-beta TR to pMH complex initiates TR-CD3 clustering on the cell surface and intracellular activation of LCK that phosphorylates the ITAM motifs of CD3G, CD3D, CD3E and CD247 enabling the recruitment of ZAP70. In turn ZAP70 phosphorylates LAT, which recruits numerous signaling molecules to form the LAT signalosome. The LAT signalosome propagates signal branching to three major signaling pathways, the calcium, the mitogen-activated protein kinase (MAPK) kinase and the nuclear factor NF-kappa-B (NF-kB) pathways, leading to the mobilization of transcription factors that are critical for gene expression and essential for T cell growth and differentiation (PubMed:23524462). The T cell repertoire is generated in the thymus, by V-(D)-J rearrangement. This repertoire is then shaped by intrathymic selection events to generate a peripheral T cell pool of self-MH restricted, non-autoaggressive T cells. Post-thymic interaction of alpha-beta TR with the pMH complexes shapes TR structural and functional avidity (PubMed:15040585). {ECO:0000303|PubMed:15040585, ECO:0000303|PubMed:23524462, ECO:0000303|PubMed:24600447, ECO:0000303|PubMed:25493333}."
        ],
        [
         "44",
         "A0A075B6X5",
         "V region of the variable domain of T cell receptor (TR) alpha chain that participates in the antigen recognition (PubMed:24600447). Alpha-beta T cell receptors are antigen specific receptors which are essential to the immune response and are present on the cell surface of T lymphocytes. Recognize peptide-major histocompatibility (MH) (pMH) complexes that are displayed by antigen presenting cells (APC), a prerequisite for efficient T cell adaptive immunity against pathogens (PubMed:25493333). Binding of alpha-beta TR to pMH complex initiates TR-CD3 clustering on the cell surface and intracellular activation of LCK that phosphorylates the ITAM motifs of CD3G, CD3D, CD3E and CD247 enabling the recruitment of ZAP70. In turn ZAP70 phosphorylates LAT, which recruits numerous signaling molecules to form the LAT signalosome. The LAT signalosome propagates signal branching to three major signaling pathways, the calcium, the mitogen-activated protein kinase (MAPK) kinase and the nuclear factor NF-kappa-B (NF-kB) pathways, leading to the mobilization of transcription factors that are critical for gene expression and essential for T cell growth and differentiation (PubMed:23524462). The T cell repertoire is generated in the thymus, by V-(D)-J rearrangement. This repertoire is then shaped by intrathymic selection events to generate a peripheral T cell pool of self-MH restricted, non-autoaggressive T cells. Post-thymic interaction of alpha-beta TR with the pMH complexes shapes TR structural and functional avidity (PubMed:15040585). {ECO:0000303|PubMed:15040585, ECO:0000303|PubMed:23524462, ECO:0000303|PubMed:24600447, ECO:0000303|PubMed:25493333}."
        ],
        [
         "45",
         "A0A075B6Y3",
         "J region of the variable domain of T cell receptor (TR) alpha chain that participates in the antigen recognition (PubMed:24600447). Alpha-beta T cell receptors are antigen specific receptors which are essential to the immune response and are present on the cell surface of T lymphocytes. Recognize peptide-major histocompatibility (MH) (pMH) complexes that are displayed by antigen presenting cells (APC), a prerequisite for efficient T cell adaptive immunity against pathogens (PubMed:25493333). Binding of alpha-beta TR to pMH complex initiates TR-CD3 clustering on the cell surface and intracellular activation of LCK that phosphorylates the ITAM motifs of CD3G, CD3D, CD3E and CD247 enabling the recruitment of ZAP70. In turn ZAP70 phosphorylates LAT, which recruits numerous signaling molecules to form the LAT signalosome. The LAT signalosome propagates signal branching to three major signaling pathways, the calcium, the mitogen-activated protein kinase (MAPK) kinase and the nuclear factor NF-kappa-B (NF-kB) pathways, leading to the mobilization of transcription factors that are critical for gene expression and essential for T cell growth and differentiation (PubMed:23524462). The T cell repertoire is generated in the thymus, by V-(D)-J rearrangement. This repertoire is then shaped by intrathymic selection events to generate a peripheral T cell pool of self-MH restricted, non-autoaggressive T cells. Post-thymic interaction of alpha-beta TR with the pMH complexes shapes TR structural and functional avidity (PubMed:15040585). {ECO:0000303|PubMed:15040585, ECO:0000303|PubMed:23524462, ECO:0000303|PubMed:24600447, ECO:0000303|PubMed:25493333}."
        ],
        [
         "46",
         "A0A075B6Y9",
         "J region of the variable domain of T cell receptor (TR) alpha chain that participates in the antigen recognition (PubMed:24600447). Alpha-beta T cell receptors are antigen specific receptors which are essential to the immune response and are present on the cell surface of T lymphocytes. Recognize peptide-major histocompatibility (MH) (pMH) complexes that are displayed by antigen presenting cells (APC), a prerequisite for efficient T cell adaptive immunity against pathogens (PubMed:25493333). Binding of alpha-beta TR to pMH complex initiates TR-CD3 clustering on the cell surface and intracellular activation of LCK that phosphorylates the ITAM motifs of CD3G, CD3D, CD3E and CD247 enabling the recruitment of ZAP70. In turn, ZAP70 phosphorylates LAT, which recruits numerous signaling molecules to form the LAT signalosome. The LAT signalosome propagates signal branching to three major signaling pathways, the calcium, the mitogen-activated protein kinase (MAPK) kinase and the nuclear factor NF-kappa-B (NF-kB) pathways, leading to the mobilization of transcription factors that are critical for gene expression and essential for T cell growth and differentiation (PubMed:23524462). The T cell repertoire is generated in the thymus, by V-(D)-J rearrangement. This repertoire is then shaped by intrathymic selection events to generate a peripheral T cell pool of self-MH restricted, non-autoaggressive T cells. Post-thymic interaction of alpha-beta TR with the pMH complexes shapes TR structural and functional avidity (PubMed:15040585). {ECO:0000303|PubMed:15040585, ECO:0000303|PubMed:23524462, ECO:0000303|PubMed:24600447, ECO:0000303|PubMed:25493333}."
        ],
        [
         "47",
         "A0A075B700",
         "J region of the variable domain of T cell receptor (TR) beta chain that participates in the antigen recognition (PubMed:24600447). Alpha-beta T cell receptors are antigen specific receptors which are essential to the immune response and are present on the cell surface of T lymphocytes. Recognize peptide-major histocompatibility (MH) (pMH) complexes that are displayed by antigen presenting cells (APC), a prerequisite for efficient T cell adaptive immunity against pathogens (PubMed:25493333). Binding of alpha-beta TR to pMH complex initiates TR-CD3 clustering on the cell surface and intracellular activation of LCK that phosphorylates the ITAM motifs of CD3G, CD3D, CD3E and CD247 enabling the recruitment of ZAP70. In turn ZAP70 phosphorylates LAT, which recruits numerous signaling molecules to form the LAT signalosome. The LAT signalosome propagates signal branching to three major signaling pathways, the calcium, the mitogen-activated protein kinase (MAPK) kinase and the nuclear factor NF-kappa-B (NF-kB) pathways, leading to the mobilization of transcription factors that are critical for gene expression and essential for T cell growth and differentiation (PubMed:23524462). The T cell repertoire is generated in the thymus, by V-(D)-J rearrangement. This repertoire is then shaped by intrathymic selection events to generate a peripheral T cell pool of self-MH restricted, non-autoaggressive T cells. Post-thymic interaction of alpha-beta TR with the pMH complexes shapes TR structural and functional avidity (PubMed:15040585). {ECO:0000303|PubMed:15040585, ECO:0000303|PubMed:23524462, ECO:0000303|PubMed:24600447, ECO:0000303|PubMed:25493333}."
        ],
        [
         "48",
         "A0A075B706",
         "J region of the variable domain of T cell receptor (TR) delta chain that participates in the antigen recognition (PubMed:24600447). Gamma-delta TRs recognize a variety of self and foreign non-peptide antigens frequently expressed at the epithelial boundaries between the host and external environment, including endogenous lipids presented by MH-like protein CD1D and phosphoantigens presented by butyrophilin-like molecule BTN3A1. Upon antigen recognition induces rapid, innate-like immune responses involved in pathogen clearance and tissue repair (PubMed:23348415, PubMed:28920588). Binding of gamma-delta TR complex to antigen triggers phosphorylation of immunoreceptor tyrosine-based activation motifs (ITAMs) in the CD3 chains by the LCK and FYN kinases, allowing the recruitment, phosphorylation, and activation of ZAP70 that facilitates phosphorylation of the scaffolding proteins LCP2 and LAT. This lead to the formation of a supramolecular signalosome that recruits the phospholipase PLCG1, resulting in calcium mobilization and ERK activation, ultimately leading to T cell expansion and differentiation into effector cells (PubMed:25674089). Gamma-delta TRs are produced through somatic rearrangement of a limited repertoire of variable (V), diversity (D), and joining (J) genes. The potential diversity of gamma-delta TRs is conferred by the unique ability to rearrange (D) genes in tandem and to utilize all three reading frames. The combinatorial diversity is considerably increased by the sequence exonuclease trimming and random nucleotide (N) region additions which occur during the V-(D)-J rearrangements (PubMed:24387714). {ECO:0000303|PubMed:23348415, ECO:0000303|PubMed:24387714, ECO:0000303|PubMed:24600447, ECO:0000303|PubMed:25674089, ECO:0000303|PubMed:28920588}."
        ],
        [
         "49",
         "A0A075B734",
         "Aquaglyceroporins form homotetrameric transmembrane channels, with each monomer independently mediating glycerol and water transport across the plasma membrane along their osmotic gradient. {ECO:0000250|UniProtKB:O14520}."
        ],
        [
         "50",
         "A0A075B759",
         "PPIases accelerate the folding of proteins. It catalyzes the cis-trans isomerization of proline imidic peptide bonds in oligopeptides (By similarity). {ECO:0000250}."
        ]
       ],
       "shape": {
        "columns": 2,
        "rows": 17141
       }
      },
      "text/html": [
       "<div>\n",
       "<style scoped>\n",
       "    .dataframe tbody tr th:only-of-type {\n",
       "        vertical-align: middle;\n",
       "    }\n",
       "\n",
       "    .dataframe tbody tr th {\n",
       "        vertical-align: top;\n",
       "    }\n",
       "\n",
       "    .dataframe thead th {\n",
       "        text-align: right;\n",
       "    }\n",
       "</style>\n",
       "<table border=\"1\" class=\"dataframe\">\n",
       "  <thead>\n",
       "    <tr style=\"text-align: right;\">\n",
       "      <th></th>\n",
       "      <th>Entry</th>\n",
       "      <th>Function [CC]</th>\n",
       "    </tr>\n",
       "  </thead>\n",
       "  <tbody>\n",
       "    <tr>\n",
       "      <th>1</th>\n",
       "      <td>A0A024RBG1</td>\n",
       "      <td>Cleaves a beta-phosphate from the diphosphate ...</td>\n",
       "    </tr>\n",
       "    <tr>\n",
       "      <th>2</th>\n",
       "      <td>A0A075B6H7</td>\n",
       "      <td>Probable non-functional open reading frame (OR...</td>\n",
       "    </tr>\n",
       "    <tr>\n",
       "      <th>3</th>\n",
       "      <td>A0A075B6H8</td>\n",
       "      <td>Probable non-functional open reading frame (OR...</td>\n",
       "    </tr>\n",
       "    <tr>\n",
       "      <th>4</th>\n",
       "      <td>A0A075B6H9</td>\n",
       "      <td>V region of the variable domain of immunoglobu...</td>\n",
       "    </tr>\n",
       "    <tr>\n",
       "      <th>5</th>\n",
       "      <td>A0A075B6I0</td>\n",
       "      <td>V region of the variable domain of immunoglobu...</td>\n",
       "    </tr>\n",
       "    <tr>\n",
       "      <th>...</th>\n",
       "      <td>...</td>\n",
       "      <td>...</td>\n",
       "    </tr>\n",
       "    <tr>\n",
       "      <th>20410</th>\n",
       "      <td>S4R3P1</td>\n",
       "      <td>Plays a role as a neuroprotective and antiapop...</td>\n",
       "    </tr>\n",
       "    <tr>\n",
       "      <th>20411</th>\n",
       "      <td>S4R3Y5</td>\n",
       "      <td>Plays a role as a neuroprotective and antiapop...</td>\n",
       "    </tr>\n",
       "    <tr>\n",
       "      <th>20412</th>\n",
       "      <td>U3KPV4</td>\n",
       "      <td>Synthesizes the galactose-alpha(1,3)-galactose...</td>\n",
       "    </tr>\n",
       "    <tr>\n",
       "      <th>20413</th>\n",
       "      <td>W5XKT8</td>\n",
       "      <td>Sperm protein required for fusion of sperm wit...</td>\n",
       "    </tr>\n",
       "    <tr>\n",
       "      <th>20414</th>\n",
       "      <td>W6CW81</td>\n",
       "      <td>Functions as an inhibitor of DNA virus-induced...</td>\n",
       "    </tr>\n",
       "  </tbody>\n",
       "</table>\n",
       "<p>17141 rows × 2 columns</p>\n",
       "</div>"
      ],
      "text/plain": [
       "            Entry                                      Function [CC]\n",
       "1      A0A024RBG1  Cleaves a beta-phosphate from the diphosphate ...\n",
       "2      A0A075B6H7  Probable non-functional open reading frame (OR...\n",
       "3      A0A075B6H8  Probable non-functional open reading frame (OR...\n",
       "4      A0A075B6H9  V region of the variable domain of immunoglobu...\n",
       "5      A0A075B6I0  V region of the variable domain of immunoglobu...\n",
       "...           ...                                                ...\n",
       "20410      S4R3P1  Plays a role as a neuroprotective and antiapop...\n",
       "20411      S4R3Y5  Plays a role as a neuroprotective and antiapop...\n",
       "20412      U3KPV4  Synthesizes the galactose-alpha(1,3)-galactose...\n",
       "20413      W5XKT8  Sperm protein required for fusion of sperm wit...\n",
       "20414      W6CW81  Functions as an inhibitor of DNA virus-induced...\n",
       "\n",
       "[17141 rows x 2 columns]"
      ]
     },
     "execution_count": 3,
     "metadata": {},
     "output_type": "execute_result"
    }
   ],
   "source": [
    "import pandas as pd\n",
    "\n",
    "def clean_function(text):\n",
    "    if isinstance(text, str) and 'FUNCTION:' in text:\n",
    "        return text.replace('FUNCTION:', '').strip()\n",
    "    return text\n",
    "\n",
    "uniprot_description = pd.read_csv('uniprot_protein_description.csv')\n",
    "uniprot_description = uniprot_description.dropna(subset=['Function [CC]'])\n",
    "\n",
    "uniprot_description['Function [CC]'] = uniprot_description['Function [CC]'].apply(clean_function)\n",
    "uniprot_description"
   ]
  },
  {
   "cell_type": "code",
   "execution_count": 4,
   "metadata": {},
   "outputs": [
    {
     "data": {
      "application/vnd.microsoft.datawrangler.viewer.v0+json": {
       "columns": [
        {
         "name": "index",
         "rawType": "int64",
         "type": "integer"
        },
        {
         "name": "BioMedGraphica_ID",
         "rawType": "object",
         "type": "string"
        },
        {
         "name": "UniProt",
         "rawType": "object",
         "type": "unknown"
        }
       ],
       "conversionMethod": "pd.DataFrame",
       "ref": "78fc1927-99f9-499e-87b2-649e6d7bf439",
       "rows": [
        [
         "0",
         "BMG_PT000001",
         null
        ],
        [
         "1",
         "BMG_PT000002",
         null
        ],
        [
         "2",
         "BMG_PT000003",
         null
        ],
        [
         "3",
         "BMG_PT000004",
         null
        ],
        [
         "4",
         "BMG_PT000005",
         null
        ],
        [
         "5",
         "BMG_PT000006",
         null
        ],
        [
         "6",
         "BMG_PT000007",
         null
        ],
        [
         "7",
         "BMG_PT000008",
         null
        ],
        [
         "8",
         "BMG_PT000009",
         null
        ],
        [
         "9",
         "BMG_PT000010",
         null
        ],
        [
         "10",
         "BMG_PT000011",
         null
        ],
        [
         "11",
         "BMG_PT000012",
         null
        ],
        [
         "12",
         "BMG_PT000013",
         null
        ],
        [
         "13",
         "BMG_PT000014",
         null
        ],
        [
         "14",
         "BMG_PT000015",
         null
        ],
        [
         "15",
         "BMG_PT000016",
         null
        ],
        [
         "16",
         "BMG_PT000017",
         null
        ],
        [
         "17",
         "BMG_PT000018",
         null
        ],
        [
         "18",
         "BMG_PT000019",
         null
        ],
        [
         "19",
         "BMG_PT000020",
         null
        ],
        [
         "20",
         "BMG_PT000021",
         null
        ],
        [
         "21",
         "BMG_PT000022",
         null
        ],
        [
         "22",
         "BMG_PT000023",
         null
        ],
        [
         "23",
         "BMG_PT000024",
         null
        ],
        [
         "24",
         "BMG_PT000025",
         null
        ],
        [
         "25",
         "BMG_PT000026",
         null
        ],
        [
         "26",
         "BMG_PT000027",
         null
        ],
        [
         "27",
         "BMG_PT000028",
         null
        ],
        [
         "28",
         "BMG_PT000029",
         null
        ],
        [
         "29",
         "BMG_PT000030",
         null
        ],
        [
         "30",
         "BMG_PT000031",
         null
        ],
        [
         "31",
         "BMG_PT000032",
         null
        ],
        [
         "32",
         "BMG_PT000033",
         null
        ],
        [
         "33",
         "BMG_PT000034",
         null
        ],
        [
         "34",
         "BMG_PT000035",
         null
        ],
        [
         "35",
         "BMG_PT000036",
         null
        ],
        [
         "36",
         "BMG_PT000037",
         null
        ],
        [
         "37",
         "BMG_PT000038",
         null
        ],
        [
         "38",
         "BMG_PT000039",
         null
        ],
        [
         "39",
         "BMG_PT000040",
         null
        ],
        [
         "40",
         "BMG_PT000041",
         null
        ],
        [
         "41",
         "BMG_PT000042",
         null
        ],
        [
         "42",
         "BMG_PT000043",
         null
        ],
        [
         "43",
         "BMG_PT000044",
         null
        ],
        [
         "44",
         "BMG_PT000045",
         null
        ],
        [
         "45",
         "BMG_PT000046",
         null
        ],
        [
         "46",
         "BMG_PT000047",
         null
        ],
        [
         "47",
         "BMG_PT000048",
         null
        ],
        [
         "48",
         "BMG_PT000049",
         null
        ],
        [
         "49",
         "BMG_PT000050",
         null
        ]
       ],
       "shape": {
        "columns": 2,
        "rows": 173978
       }
      },
      "text/html": [
       "<div>\n",
       "<style scoped>\n",
       "    .dataframe tbody tr th:only-of-type {\n",
       "        vertical-align: middle;\n",
       "    }\n",
       "\n",
       "    .dataframe tbody tr th {\n",
       "        vertical-align: top;\n",
       "    }\n",
       "\n",
       "    .dataframe thead th {\n",
       "        text-align: right;\n",
       "    }\n",
       "</style>\n",
       "<table border=\"1\" class=\"dataframe\">\n",
       "  <thead>\n",
       "    <tr style=\"text-align: right;\">\n",
       "      <th></th>\n",
       "      <th>BioMedGraphica_ID</th>\n",
       "      <th>UniProt</th>\n",
       "    </tr>\n",
       "  </thead>\n",
       "  <tbody>\n",
       "    <tr>\n",
       "      <th>0</th>\n",
       "      <td>BMG_PT000001</td>\n",
       "      <td>NaN</td>\n",
       "    </tr>\n",
       "    <tr>\n",
       "      <th>1</th>\n",
       "      <td>BMG_PT000002</td>\n",
       "      <td>NaN</td>\n",
       "    </tr>\n",
       "    <tr>\n",
       "      <th>2</th>\n",
       "      <td>BMG_PT000003</td>\n",
       "      <td>NaN</td>\n",
       "    </tr>\n",
       "    <tr>\n",
       "      <th>3</th>\n",
       "      <td>BMG_PT000004</td>\n",
       "      <td>NaN</td>\n",
       "    </tr>\n",
       "    <tr>\n",
       "      <th>4</th>\n",
       "      <td>BMG_PT000005</td>\n",
       "      <td>NaN</td>\n",
       "    </tr>\n",
       "    <tr>\n",
       "      <th>...</th>\n",
       "      <td>...</td>\n",
       "      <td>...</td>\n",
       "    </tr>\n",
       "    <tr>\n",
       "      <th>173973</th>\n",
       "      <td>BMG_PT173974</td>\n",
       "      <td>NaN</td>\n",
       "    </tr>\n",
       "    <tr>\n",
       "      <th>173974</th>\n",
       "      <td>BMG_PT173975</td>\n",
       "      <td>NaN</td>\n",
       "    </tr>\n",
       "    <tr>\n",
       "      <th>173975</th>\n",
       "      <td>BMG_PT173976</td>\n",
       "      <td>NaN</td>\n",
       "    </tr>\n",
       "    <tr>\n",
       "      <th>173976</th>\n",
       "      <td>BMG_PT173977</td>\n",
       "      <td>NaN</td>\n",
       "    </tr>\n",
       "    <tr>\n",
       "      <th>173977</th>\n",
       "      <td>BMG_PT173978</td>\n",
       "      <td>NaN</td>\n",
       "    </tr>\n",
       "  </tbody>\n",
       "</table>\n",
       "<p>173978 rows × 2 columns</p>\n",
       "</div>"
      ],
      "text/plain": [
       "       BioMedGraphica_ID UniProt\n",
       "0           BMG_PT000001     NaN\n",
       "1           BMG_PT000002     NaN\n",
       "2           BMG_PT000003     NaN\n",
       "3           BMG_PT000004     NaN\n",
       "4           BMG_PT000005     NaN\n",
       "...                  ...     ...\n",
       "173973      BMG_PT173974     NaN\n",
       "173974      BMG_PT173975     NaN\n",
       "173975      BMG_PT173976     NaN\n",
       "173976      BMG_PT173977     NaN\n",
       "173977      BMG_PT173978     NaN\n",
       "\n",
       "[173978 rows x 2 columns]"
      ]
     },
     "execution_count": 4,
     "metadata": {},
     "output_type": "execute_result"
    }
   ],
   "source": [
    "bmg_uniprot = biomedgraphica_protein[['BioMedGraphica_ID','Uniprot_ID']]\n",
    "\n",
    "protein_description_uniprot = pd.merge(bmg_uniprot, uniprot_description, left_on='Uniprot_ID', right_on='Entry', how='left')\n",
    "protein_description_uniprot.drop(columns=['Entry', 'Uniprot_ID'], inplace=True)\n",
    "protein_description_uniprot.rename(columns={'Function [CC]':'UniProt'}, inplace=True)\n",
    "protein_description_uniprot"
   ]
  },
  {
   "cell_type": "code",
   "execution_count": 5,
   "metadata": {},
   "outputs": [
    {
     "name": "stdout",
     "output_type": "stream",
     "text": [
      "Data has been saved to D:\\RA\\BMG\\BioMedGraphica\\Entity\\Protein\\BioMedGraphica_Protein_Description.csv\n"
     ]
    }
   ],
   "source": [
    "import os\n",
    "from pathlib import Path\n",
    "\n",
    "# get the current working directory\n",
    "current_working_dir = Path(os.getcwd()).resolve()\n",
    "\n",
    "# get the output directory\n",
    "grandparent_dir = current_working_dir.parent.parent.parent\n",
    "\n",
    "target_folder = grandparent_dir / 'BioMedGraphica' / 'Entity' / 'Protein'\n",
    "if not target_folder.exists():\n",
    "    target_folder.mkdir(parents=True)\n",
    "    print(f\"Folder {target_folder} has been created.\")\n",
    "\n",
    "output_file_path = target_folder / 'BioMedGraphica_Protein_Description.csv'\n",
    "protein_description_uniprot.to_csv(output_file_path, index=False)\n",
    "print(f\"Data has been saved to {output_file_path}\")"
   ]
  },
  {
   "cell_type": "markdown",
   "metadata": {},
   "source": [
    "### 5.2 Combined Description"
   ]
  },
  {
   "cell_type": "code",
   "execution_count": 6,
   "metadata": {},
   "outputs": [
    {
     "data": {
      "application/vnd.microsoft.datawrangler.viewer.v0+json": {
       "columns": [
        {
         "name": "index",
         "rawType": "int64",
         "type": "integer"
        },
        {
         "name": "BioMedGraphica_ID",
         "rawType": "object",
         "type": "string"
        },
        {
         "name": "Description",
         "rawType": "object",
         "type": "string"
        }
       ],
       "conversionMethod": "pd.DataFrame",
       "ref": "1b814084-f76e-4875-945d-4240342b9023",
       "rows": [
        [
         "0",
         "BMG_PT000001",
         ""
        ],
        [
         "1",
         "BMG_PT000002",
         ""
        ],
        [
         "2",
         "BMG_PT000003",
         ""
        ],
        [
         "3",
         "BMG_PT000004",
         ""
        ],
        [
         "4",
         "BMG_PT000005",
         ""
        ],
        [
         "5",
         "BMG_PT000006",
         ""
        ],
        [
         "6",
         "BMG_PT000007",
         ""
        ],
        [
         "7",
         "BMG_PT000008",
         ""
        ],
        [
         "8",
         "BMG_PT000009",
         ""
        ],
        [
         "9",
         "BMG_PT000010",
         ""
        ],
        [
         "10",
         "BMG_PT000011",
         ""
        ],
        [
         "11",
         "BMG_PT000012",
         ""
        ],
        [
         "12",
         "BMG_PT000013",
         ""
        ],
        [
         "13",
         "BMG_PT000014",
         ""
        ],
        [
         "14",
         "BMG_PT000015",
         ""
        ],
        [
         "15",
         "BMG_PT000016",
         ""
        ],
        [
         "16",
         "BMG_PT000017",
         ""
        ],
        [
         "17",
         "BMG_PT000018",
         ""
        ],
        [
         "18",
         "BMG_PT000019",
         ""
        ],
        [
         "19",
         "BMG_PT000020",
         ""
        ],
        [
         "20",
         "BMG_PT000021",
         ""
        ],
        [
         "21",
         "BMG_PT000022",
         ""
        ],
        [
         "22",
         "BMG_PT000023",
         ""
        ],
        [
         "23",
         "BMG_PT000024",
         ""
        ],
        [
         "24",
         "BMG_PT000025",
         ""
        ],
        [
         "25",
         "BMG_PT000026",
         ""
        ],
        [
         "26",
         "BMG_PT000027",
         ""
        ],
        [
         "27",
         "BMG_PT000028",
         ""
        ],
        [
         "28",
         "BMG_PT000029",
         ""
        ],
        [
         "29",
         "BMG_PT000030",
         ""
        ],
        [
         "30",
         "BMG_PT000031",
         ""
        ],
        [
         "31",
         "BMG_PT000032",
         ""
        ],
        [
         "32",
         "BMG_PT000033",
         ""
        ],
        [
         "33",
         "BMG_PT000034",
         ""
        ],
        [
         "34",
         "BMG_PT000035",
         ""
        ],
        [
         "35",
         "BMG_PT000036",
         ""
        ],
        [
         "36",
         "BMG_PT000037",
         ""
        ],
        [
         "37",
         "BMG_PT000038",
         ""
        ],
        [
         "38",
         "BMG_PT000039",
         ""
        ],
        [
         "39",
         "BMG_PT000040",
         ""
        ],
        [
         "40",
         "BMG_PT000041",
         ""
        ],
        [
         "41",
         "BMG_PT000042",
         ""
        ],
        [
         "42",
         "BMG_PT000043",
         ""
        ],
        [
         "43",
         "BMG_PT000044",
         ""
        ],
        [
         "44",
         "BMG_PT000045",
         ""
        ],
        [
         "45",
         "BMG_PT000046",
         ""
        ],
        [
         "46",
         "BMG_PT000047",
         ""
        ],
        [
         "47",
         "BMG_PT000048",
         ""
        ],
        [
         "48",
         "BMG_PT000049",
         ""
        ],
        [
         "49",
         "BMG_PT000050",
         ""
        ]
       ],
       "shape": {
        "columns": 2,
        "rows": 173978
       }
      },
      "text/html": [
       "<div>\n",
       "<style scoped>\n",
       "    .dataframe tbody tr th:only-of-type {\n",
       "        vertical-align: middle;\n",
       "    }\n",
       "\n",
       "    .dataframe tbody tr th {\n",
       "        vertical-align: top;\n",
       "    }\n",
       "\n",
       "    .dataframe thead th {\n",
       "        text-align: right;\n",
       "    }\n",
       "</style>\n",
       "<table border=\"1\" class=\"dataframe\">\n",
       "  <thead>\n",
       "    <tr style=\"text-align: right;\">\n",
       "      <th></th>\n",
       "      <th>BioMedGraphica_ID</th>\n",
       "      <th>Description</th>\n",
       "    </tr>\n",
       "  </thead>\n",
       "  <tbody>\n",
       "    <tr>\n",
       "      <th>0</th>\n",
       "      <td>BMG_PT000001</td>\n",
       "      <td></td>\n",
       "    </tr>\n",
       "    <tr>\n",
       "      <th>1</th>\n",
       "      <td>BMG_PT000002</td>\n",
       "      <td></td>\n",
       "    </tr>\n",
       "    <tr>\n",
       "      <th>2</th>\n",
       "      <td>BMG_PT000003</td>\n",
       "      <td></td>\n",
       "    </tr>\n",
       "    <tr>\n",
       "      <th>3</th>\n",
       "      <td>BMG_PT000004</td>\n",
       "      <td></td>\n",
       "    </tr>\n",
       "    <tr>\n",
       "      <th>4</th>\n",
       "      <td>BMG_PT000005</td>\n",
       "      <td></td>\n",
       "    </tr>\n",
       "    <tr>\n",
       "      <th>...</th>\n",
       "      <td>...</td>\n",
       "      <td>...</td>\n",
       "    </tr>\n",
       "    <tr>\n",
       "      <th>173973</th>\n",
       "      <td>BMG_PT173974</td>\n",
       "      <td></td>\n",
       "    </tr>\n",
       "    <tr>\n",
       "      <th>173974</th>\n",
       "      <td>BMG_PT173975</td>\n",
       "      <td></td>\n",
       "    </tr>\n",
       "    <tr>\n",
       "      <th>173975</th>\n",
       "      <td>BMG_PT173976</td>\n",
       "      <td></td>\n",
       "    </tr>\n",
       "    <tr>\n",
       "      <th>173976</th>\n",
       "      <td>BMG_PT173977</td>\n",
       "      <td></td>\n",
       "    </tr>\n",
       "    <tr>\n",
       "      <th>173977</th>\n",
       "      <td>BMG_PT173978</td>\n",
       "      <td></td>\n",
       "    </tr>\n",
       "  </tbody>\n",
       "</table>\n",
       "<p>173978 rows × 2 columns</p>\n",
       "</div>"
      ],
      "text/plain": [
       "       BioMedGraphica_ID Description\n",
       "0           BMG_PT000001            \n",
       "1           BMG_PT000002            \n",
       "2           BMG_PT000003            \n",
       "3           BMG_PT000004            \n",
       "4           BMG_PT000005            \n",
       "...                  ...         ...\n",
       "173973      BMG_PT173974            \n",
       "173974      BMG_PT173975            \n",
       "173975      BMG_PT173976            \n",
       "173976      BMG_PT173977            \n",
       "173977      BMG_PT173978            \n",
       "\n",
       "[173978 rows x 2 columns]"
      ]
     },
     "execution_count": 6,
     "metadata": {},
     "output_type": "execute_result"
    }
   ],
   "source": [
    "comb_description = protein_description_uniprot.copy()\n",
    "\n",
    "# add the column name at the beginning of the string\n",
    "# first, we need to get the column names\n",
    "column_names = comb_description.columns.tolist()\n",
    "column_names = [col for col in column_names if col != 'BioMedGraphica_ID']\n",
    "# then we can apply the function to each column\n",
    "for col in column_names:\n",
    "    comb_description[col] = comb_description[col].apply(lambda x: ' | '.join([f\"{col}: {i}\" for i in x.split(' | ')]) if pd.notna(x) else x)\n",
    "\n",
    "# now we can merge the columns into one\n",
    "comb_description['Description'] = comb_description[column_names].apply(lambda x: ' | '.join(x.dropna()), axis=1)\n",
    "comb_description = comb_description[['BioMedGraphica_ID', 'Description']]\n",
    "comb_description"
   ]
  },
  {
   "cell_type": "code",
   "execution_count": 7,
   "metadata": {},
   "outputs": [
    {
     "name": "stdout",
     "output_type": "stream",
     "text": [
      "Data has been saved to D:\\RA\\BMG\\BioMedGraphica\\Entity\\Protein\\BioMedGraphica_Protein_Description_Combined.csv\n"
     ]
    }
   ],
   "source": [
    "import os\n",
    "from pathlib import Path\n",
    "\n",
    "# get the current working directory\n",
    "current_working_dir = Path(os.getcwd()).resolve()\n",
    "\n",
    "# get the output directory\n",
    "grandparent_dir = current_working_dir.parent.parent.parent\n",
    "\n",
    "target_folder = grandparent_dir / 'BioMedGraphica' / 'Entity' / 'Protein'\n",
    "if not target_folder.exists():\n",
    "    target_folder.mkdir(parents=True)\n",
    "    print(f\"Folder {target_folder} has been created.\")\n",
    "\n",
    "output_file_path = target_folder / 'BioMedGraphica_Protein_Description_Combined.csv'\n",
    "comb_description.to_csv(output_file_path, index=False)\n",
    "print(f\"Data has been saved to {output_file_path}\")"
   ]
  },
  {
   "cell_type": "markdown",
   "metadata": {},
   "source": [
    "## 6. File Generation"
   ]
  },
  {
   "cell_type": "code",
   "execution_count": 19,
   "metadata": {},
   "outputs": [],
   "source": [
    "import pandas as pd\n",
    "import os\n",
    "from pathlib import Path\n",
    "\n",
    "current_working_dir = Path(os.getcwd()).resolve()\n",
    "grandparent_dir = current_working_dir.parent.parent.parent\n",
    "target_dir = grandparent_dir / 'BioMedGraphica' / 'Entity' / 'Protein' / 'BioMedGraphica_Protein.csv'\n",
    "biomedgraphica_protein = pd.read_csv(target_dir, dtype=str)"
   ]
  },
  {
   "cell_type": "markdown",
   "metadata": {},
   "source": [
    "### 6.1 BioChem"
   ]
  },
  {
   "cell_type": "code",
   "execution_count": 22,
   "metadata": {},
   "outputs": [
    {
     "name": "stderr",
     "output_type": "stream",
     "text": [
      "C:\\Users\\shunn\\AppData\\Local\\Temp\\ipykernel_26400\\1917024716.py:6: SettingWithCopyWarning: \n",
      "A value is trying to be set on a copy of a slice from a DataFrame.\n",
      "Try using .loc[row_indexer,col_indexer] = value instead\n",
      "\n",
      "See the caveats in the documentation: https://pandas.pydata.org/pandas-docs/stable/user_guide/indexing.html#returning-a-view-versus-a-copy\n",
      "  bmg_protein['Ensembl_Protein_ID'] = bmg_protein['Ensembl_Protein_ID'].str.split(';')\n"
     ]
    },
    {
     "data": {
      "application/vnd.microsoft.datawrangler.viewer.v0+json": {
       "columns": [
        {
         "name": "index",
         "rawType": "int64",
         "type": "integer"
        },
        {
         "name": "BioMedGraphica_ID",
         "rawType": "object",
         "type": "string"
        },
        {
         "name": "protein_sequence",
         "rawType": "object",
         "type": "unknown"
        }
       ],
       "conversionMethod": "pd.DataFrame",
       "ref": "f1a3be74-5cf1-47e4-9544-67f7474a2e73",
       "rows": [
        [
         "0",
         "BMG_PT000001",
         null
        ],
        [
         "1",
         "BMG_PT000002",
         null
        ],
        [
         "2",
         "BMG_PT000003",
         null
        ],
        [
         "3",
         "BMG_PT000004",
         null
        ],
        [
         "4",
         "BMG_PT000005",
         null
        ],
        [
         "5",
         "BMG_PT000006",
         null
        ],
        [
         "6",
         "BMG_PT000007",
         null
        ],
        [
         "7",
         "BMG_PT000008",
         null
        ],
        [
         "8",
         "BMG_PT000009",
         null
        ],
        [
         "9",
         "BMG_PT000010",
         null
        ],
        [
         "10",
         "BMG_PT000011",
         null
        ],
        [
         "11",
         "BMG_PT000012",
         null
        ],
        [
         "12",
         "BMG_PT000013",
         null
        ],
        [
         "13",
         "BMG_PT000014",
         null
        ],
        [
         "14",
         "BMG_PT000015",
         null
        ],
        [
         "15",
         "BMG_PT000016",
         null
        ],
        [
         "16",
         "BMG_PT000017",
         null
        ],
        [
         "17",
         "BMG_PT000018",
         null
        ],
        [
         "18",
         "BMG_PT000019",
         null
        ],
        [
         "19",
         "BMG_PT000020",
         null
        ],
        [
         "20",
         "BMG_PT000021",
         null
        ],
        [
         "21",
         "BMG_PT000022",
         null
        ],
        [
         "22",
         "BMG_PT000023",
         null
        ],
        [
         "23",
         "BMG_PT000024",
         null
        ],
        [
         "24",
         "BMG_PT000025",
         null
        ],
        [
         "25",
         "BMG_PT000026",
         null
        ],
        [
         "26",
         "BMG_PT000027",
         null
        ],
        [
         "27",
         "BMG_PT000028",
         null
        ],
        [
         "28",
         "BMG_PT000029",
         null
        ],
        [
         "29",
         "BMG_PT000030",
         null
        ],
        [
         "30",
         "BMG_PT000031",
         null
        ],
        [
         "31",
         "BMG_PT000032",
         null
        ],
        [
         "32",
         "BMG_PT000033",
         null
        ],
        [
         "33",
         "BMG_PT000034",
         null
        ],
        [
         "34",
         "BMG_PT000035",
         null
        ],
        [
         "35",
         "BMG_PT000036",
         null
        ],
        [
         "36",
         "BMG_PT000037",
         null
        ],
        [
         "37",
         "BMG_PT000038",
         null
        ],
        [
         "38",
         "BMG_PT000039",
         null
        ],
        [
         "39",
         "BMG_PT000040",
         null
        ],
        [
         "40",
         "BMG_PT000041",
         null
        ],
        [
         "41",
         "BMG_PT000042",
         null
        ],
        [
         "42",
         "BMG_PT000043",
         null
        ],
        [
         "43",
         "BMG_PT000044",
         null
        ],
        [
         "44",
         "BMG_PT000045",
         null
        ],
        [
         "45",
         "BMG_PT000046",
         null
        ],
        [
         "46",
         "BMG_PT000047",
         null
        ],
        [
         "47",
         "BMG_PT000048",
         null
        ],
        [
         "48",
         "BMG_PT000049",
         null
        ],
        [
         "49",
         "BMG_PT000050",
         null
        ]
       ],
       "shape": {
        "columns": 2,
        "rows": 205486
       }
      },
      "text/html": [
       "<div>\n",
       "<style scoped>\n",
       "    .dataframe tbody tr th:only-of-type {\n",
       "        vertical-align: middle;\n",
       "    }\n",
       "\n",
       "    .dataframe tbody tr th {\n",
       "        vertical-align: top;\n",
       "    }\n",
       "\n",
       "    .dataframe thead th {\n",
       "        text-align: right;\n",
       "    }\n",
       "</style>\n",
       "<table border=\"1\" class=\"dataframe\">\n",
       "  <thead>\n",
       "    <tr style=\"text-align: right;\">\n",
       "      <th></th>\n",
       "      <th>BioMedGraphica_ID</th>\n",
       "      <th>protein_sequence</th>\n",
       "    </tr>\n",
       "  </thead>\n",
       "  <tbody>\n",
       "    <tr>\n",
       "      <th>0</th>\n",
       "      <td>BMG_PT000001</td>\n",
       "      <td>NaN</td>\n",
       "    </tr>\n",
       "    <tr>\n",
       "      <th>1</th>\n",
       "      <td>BMG_PT000002</td>\n",
       "      <td>NaN</td>\n",
       "    </tr>\n",
       "    <tr>\n",
       "      <th>2</th>\n",
       "      <td>BMG_PT000003</td>\n",
       "      <td>NaN</td>\n",
       "    </tr>\n",
       "    <tr>\n",
       "      <th>3</th>\n",
       "      <td>BMG_PT000004</td>\n",
       "      <td>NaN</td>\n",
       "    </tr>\n",
       "    <tr>\n",
       "      <th>4</th>\n",
       "      <td>BMG_PT000005</td>\n",
       "      <td>NaN</td>\n",
       "    </tr>\n",
       "    <tr>\n",
       "      <th>...</th>\n",
       "      <td>...</td>\n",
       "      <td>...</td>\n",
       "    </tr>\n",
       "    <tr>\n",
       "      <th>205481</th>\n",
       "      <td>BMG_PT173974</td>\n",
       "      <td>NaN</td>\n",
       "    </tr>\n",
       "    <tr>\n",
       "      <th>205482</th>\n",
       "      <td>BMG_PT173975</td>\n",
       "      <td>NaN</td>\n",
       "    </tr>\n",
       "    <tr>\n",
       "      <th>205483</th>\n",
       "      <td>BMG_PT173976</td>\n",
       "      <td>NaN</td>\n",
       "    </tr>\n",
       "    <tr>\n",
       "      <th>205484</th>\n",
       "      <td>BMG_PT173977</td>\n",
       "      <td>NaN</td>\n",
       "    </tr>\n",
       "    <tr>\n",
       "      <th>205485</th>\n",
       "      <td>BMG_PT173978</td>\n",
       "      <td>NaN</td>\n",
       "    </tr>\n",
       "  </tbody>\n",
       "</table>\n",
       "<p>205486 rows × 2 columns</p>\n",
       "</div>"
      ],
      "text/plain": [
       "       BioMedGraphica_ID protein_sequence\n",
       "0           BMG_PT000001              NaN\n",
       "1           BMG_PT000002              NaN\n",
       "2           BMG_PT000003              NaN\n",
       "3           BMG_PT000004              NaN\n",
       "4           BMG_PT000005              NaN\n",
       "...                  ...              ...\n",
       "205481      BMG_PT173974              NaN\n",
       "205482      BMG_PT173975              NaN\n",
       "205483      BMG_PT173976              NaN\n",
       "205484      BMG_PT173977              NaN\n",
       "205485      BMG_PT173978              NaN\n",
       "\n",
       "[205486 rows x 2 columns]"
      ]
     },
     "execution_count": 22,
     "metadata": {},
     "output_type": "execute_result"
    }
   ],
   "source": [
    "import pandas as pd\n",
    "\n",
    "protein_seq = pd.read_csv('combined_sequences.csv')\n",
    "protein_seq = protein_seq[['protein_id', 'protein_sequence']].drop_duplicates()\n",
    "bmg_protein = biomedgraphica_protein[['Ensembl_Protein_ID', 'BioMedGraphica_ID']]\n",
    "bmg_protein['Ensembl_Protein_ID'] = bmg_protein['Ensembl_Protein_ID'].str.split(';')\n",
    "bmg_protein = bmg_protein.explode('Ensembl_Protein_ID')\n",
    "bmg_protein_seq = pd.merge(bmg_protein, protein_seq, left_on='Ensembl_Protein_ID', right_on='protein_id', how='left')\n",
    "bmg_protein_seq.drop(columns=['protein_id', 'Ensembl_Protein_ID'], inplace=True)\n",
    "bmg_protein_seq"
   ]
  },
  {
   "cell_type": "code",
   "execution_count": 26,
   "metadata": {},
   "outputs": [
    {
     "data": {
      "application/vnd.microsoft.datawrangler.viewer.v0+json": {
       "columns": [
        {
         "name": "index",
         "rawType": "int64",
         "type": "integer"
        },
        {
         "name": "BioMedGraphica_ID",
         "rawType": "object",
         "type": "string"
        },
        {
         "name": "protein_sequence",
         "rawType": "object",
         "type": "unknown"
        }
       ],
       "conversionMethod": "pd.DataFrame",
       "ref": "7b680484-f7da-427d-90aa-d3940791fca2",
       "rows": [
        [
         "0",
         "BMG_PT000001",
         null
        ],
        [
         "1",
         "BMG_PT000002",
         null
        ],
        [
         "2",
         "BMG_PT000003",
         null
        ],
        [
         "3",
         "BMG_PT000004",
         null
        ],
        [
         "4",
         "BMG_PT000005",
         null
        ],
        [
         "5",
         "BMG_PT000006",
         null
        ],
        [
         "6",
         "BMG_PT000007",
         null
        ],
        [
         "7",
         "BMG_PT000008",
         null
        ],
        [
         "8",
         "BMG_PT000009",
         null
        ],
        [
         "9",
         "BMG_PT000010",
         null
        ],
        [
         "10",
         "BMG_PT000011",
         null
        ],
        [
         "11",
         "BMG_PT000012",
         null
        ],
        [
         "12",
         "BMG_PT000013",
         null
        ],
        [
         "13",
         "BMG_PT000014",
         null
        ],
        [
         "14",
         "BMG_PT000015",
         null
        ],
        [
         "15",
         "BMG_PT000016",
         null
        ],
        [
         "16",
         "BMG_PT000017",
         null
        ],
        [
         "17",
         "BMG_PT000018",
         null
        ],
        [
         "18",
         "BMG_PT000019",
         null
        ],
        [
         "19",
         "BMG_PT000020",
         null
        ],
        [
         "20",
         "BMG_PT000021",
         null
        ],
        [
         "21",
         "BMG_PT000022",
         null
        ],
        [
         "22",
         "BMG_PT000023",
         null
        ],
        [
         "23",
         "BMG_PT000024",
         null
        ],
        [
         "24",
         "BMG_PT000025",
         null
        ],
        [
         "25",
         "BMG_PT000026",
         null
        ],
        [
         "26",
         "BMG_PT000027",
         null
        ],
        [
         "27",
         "BMG_PT000028",
         null
        ],
        [
         "28",
         "BMG_PT000029",
         null
        ],
        [
         "29",
         "BMG_PT000030",
         null
        ],
        [
         "30",
         "BMG_PT000031",
         null
        ],
        [
         "31",
         "BMG_PT000032",
         null
        ],
        [
         "32",
         "BMG_PT000033",
         null
        ],
        [
         "33",
         "BMG_PT000034",
         null
        ],
        [
         "34",
         "BMG_PT000035",
         null
        ],
        [
         "35",
         "BMG_PT000036",
         null
        ],
        [
         "36",
         "BMG_PT000037",
         null
        ],
        [
         "37",
         "BMG_PT000038",
         null
        ],
        [
         "38",
         "BMG_PT000039",
         null
        ],
        [
         "39",
         "BMG_PT000040",
         null
        ],
        [
         "40",
         "BMG_PT000041",
         null
        ],
        [
         "41",
         "BMG_PT000042",
         null
        ],
        [
         "42",
         "BMG_PT000043",
         null
        ],
        [
         "43",
         "BMG_PT000044",
         null
        ],
        [
         "44",
         "BMG_PT000045",
         null
        ],
        [
         "45",
         "BMG_PT000046",
         null
        ],
        [
         "46",
         "BMG_PT000047",
         null
        ],
        [
         "47",
         "BMG_PT000048",
         null
        ],
        [
         "48",
         "BMG_PT000049",
         null
        ],
        [
         "49",
         "BMG_PT000050",
         null
        ]
       ],
       "shape": {
        "columns": 2,
        "rows": 173978
       }
      },
      "text/html": [
       "<div>\n",
       "<style scoped>\n",
       "    .dataframe tbody tr th:only-of-type {\n",
       "        vertical-align: middle;\n",
       "    }\n",
       "\n",
       "    .dataframe tbody tr th {\n",
       "        vertical-align: top;\n",
       "    }\n",
       "\n",
       "    .dataframe thead th {\n",
       "        text-align: right;\n",
       "    }\n",
       "</style>\n",
       "<table border=\"1\" class=\"dataframe\">\n",
       "  <thead>\n",
       "    <tr style=\"text-align: right;\">\n",
       "      <th></th>\n",
       "      <th>BioMedGraphica_ID</th>\n",
       "      <th>protein_sequence</th>\n",
       "    </tr>\n",
       "  </thead>\n",
       "  <tbody>\n",
       "    <tr>\n",
       "      <th>0</th>\n",
       "      <td>BMG_PT000001</td>\n",
       "      <td>&lt;NA&gt;</td>\n",
       "    </tr>\n",
       "    <tr>\n",
       "      <th>1</th>\n",
       "      <td>BMG_PT000002</td>\n",
       "      <td>&lt;NA&gt;</td>\n",
       "    </tr>\n",
       "    <tr>\n",
       "      <th>2</th>\n",
       "      <td>BMG_PT000003</td>\n",
       "      <td>&lt;NA&gt;</td>\n",
       "    </tr>\n",
       "    <tr>\n",
       "      <th>3</th>\n",
       "      <td>BMG_PT000004</td>\n",
       "      <td>&lt;NA&gt;</td>\n",
       "    </tr>\n",
       "    <tr>\n",
       "      <th>4</th>\n",
       "      <td>BMG_PT000005</td>\n",
       "      <td>&lt;NA&gt;</td>\n",
       "    </tr>\n",
       "    <tr>\n",
       "      <th>...</th>\n",
       "      <td>...</td>\n",
       "      <td>...</td>\n",
       "    </tr>\n",
       "    <tr>\n",
       "      <th>173973</th>\n",
       "      <td>BMG_PT173974</td>\n",
       "      <td>&lt;NA&gt;</td>\n",
       "    </tr>\n",
       "    <tr>\n",
       "      <th>173974</th>\n",
       "      <td>BMG_PT173975</td>\n",
       "      <td>&lt;NA&gt;</td>\n",
       "    </tr>\n",
       "    <tr>\n",
       "      <th>173975</th>\n",
       "      <td>BMG_PT173976</td>\n",
       "      <td>&lt;NA&gt;</td>\n",
       "    </tr>\n",
       "    <tr>\n",
       "      <th>173976</th>\n",
       "      <td>BMG_PT173977</td>\n",
       "      <td>&lt;NA&gt;</td>\n",
       "    </tr>\n",
       "    <tr>\n",
       "      <th>173977</th>\n",
       "      <td>BMG_PT173978</td>\n",
       "      <td>&lt;NA&gt;</td>\n",
       "    </tr>\n",
       "  </tbody>\n",
       "</table>\n",
       "<p>173978 rows × 2 columns</p>\n",
       "</div>"
      ],
      "text/plain": [
       "       BioMedGraphica_ID protein_sequence\n",
       "0           BMG_PT000001             <NA>\n",
       "1           BMG_PT000002             <NA>\n",
       "2           BMG_PT000003             <NA>\n",
       "3           BMG_PT000004             <NA>\n",
       "4           BMG_PT000005             <NA>\n",
       "...                  ...              ...\n",
       "173973      BMG_PT173974             <NA>\n",
       "173974      BMG_PT173975             <NA>\n",
       "173975      BMG_PT173976             <NA>\n",
       "173976      BMG_PT173977             <NA>\n",
       "173977      BMG_PT173978             <NA>\n",
       "\n",
       "[173978 rows x 2 columns]"
      ]
     },
     "execution_count": 26,
     "metadata": {},
     "output_type": "execute_result"
    }
   ],
   "source": [
    "bmg_protein_seq = bmg_protein_seq.groupby('BioMedGraphica_ID').agg({\n",
    "    'protein_sequence': lambda x: ' | '.join(x.dropna().unique())\n",
    "}).reset_index().replace('', pd.NA)\n",
    "bmg_protein_seq"
   ]
  },
  {
   "cell_type": "code",
   "execution_count": 27,
   "metadata": {},
   "outputs": [
    {
     "name": "stdout",
     "output_type": "stream",
     "text": [
      "Data has been saved to D:\\RA\\BMG\\BioMedGraphica\\Entity\\Protein\\BioMedGraphica_Protein_BioChem.csv\n"
     ]
    }
   ],
   "source": [
    "import os\n",
    "from pathlib import Path\n",
    "\n",
    "# get the current working directory\n",
    "current_working_dir = Path(os.getcwd()).resolve()\n",
    "\n",
    "# get the output directory\n",
    "grandparent_dir = current_working_dir.parent.parent.parent\n",
    "\n",
    "target_folder = grandparent_dir / 'BioMedGraphica' / 'Entity' / 'Protein'\n",
    "if not target_folder.exists():\n",
    "    target_folder.mkdir(parents=True)\n",
    "    print(f\"Folder {target_folder} has been created.\")\n",
    "\n",
    "output_file_path = target_folder / 'BioMedGraphica_Protein_BioChem.csv'\n",
    "bmg_protein_seq.to_csv(output_file_path, index=False)\n",
    "print(f\"Data has been saved to {output_file_path}\")"
   ]
  },
  {
   "cell_type": "markdown",
   "metadata": {},
   "source": [
    "### 6.2 Name and ID"
   ]
  },
  {
   "cell_type": "markdown",
   "metadata": {},
   "source": [
    "GUI Name"
   ]
  },
  {
   "cell_type": "code",
   "execution_count": 11,
   "metadata": {},
   "outputs": [
    {
     "data": {
      "application/vnd.microsoft.datawrangler.viewer.v0+json": {
       "columns": [
        {
         "name": "index",
         "rawType": "int64",
         "type": "integer"
        },
        {
         "name": "BioMedGraphica_ID",
         "rawType": "object",
         "type": "string"
        },
        {
         "name": "Protein_Name_List",
         "rawType": "object",
         "type": "string"
        }
       ],
       "conversionMethod": "pd.DataFrame",
       "ref": "5e6c7e82-68cf-4f8f-88cd-0fea483d5a6e",
       "rows": [
        [
         "0",
         "BMG_PT000001",
         ""
        ],
        [
         "1",
         "BMG_PT000002",
         ""
        ],
        [
         "2",
         "BMG_PT000003",
         ""
        ],
        [
         "3",
         "BMG_PT000004",
         ""
        ],
        [
         "4",
         "BMG_PT000005",
         ""
        ],
        [
         "5",
         "BMG_PT000006",
         ""
        ],
        [
         "6",
         "BMG_PT000007",
         ""
        ],
        [
         "7",
         "BMG_PT000008",
         ""
        ],
        [
         "8",
         "BMG_PT000009",
         ""
        ],
        [
         "9",
         "BMG_PT000010",
         ""
        ],
        [
         "10",
         "BMG_PT000011",
         ""
        ],
        [
         "11",
         "BMG_PT000012",
         ""
        ],
        [
         "12",
         "BMG_PT000013",
         ""
        ],
        [
         "13",
         "BMG_PT000014",
         ""
        ],
        [
         "14",
         "BMG_PT000015",
         ""
        ],
        [
         "15",
         "BMG_PT000016",
         ""
        ],
        [
         "16",
         "BMG_PT000017",
         ""
        ],
        [
         "17",
         "BMG_PT000018",
         ""
        ],
        [
         "18",
         "BMG_PT000019",
         ""
        ],
        [
         "19",
         "BMG_PT000020",
         ""
        ],
        [
         "20",
         "BMG_PT000021",
         ""
        ],
        [
         "21",
         "BMG_PT000022",
         ""
        ],
        [
         "22",
         "BMG_PT000023",
         ""
        ],
        [
         "23",
         "BMG_PT000024",
         ""
        ],
        [
         "24",
         "BMG_PT000025",
         ""
        ],
        [
         "25",
         "BMG_PT000026",
         ""
        ],
        [
         "26",
         "BMG_PT000027",
         ""
        ],
        [
         "27",
         "BMG_PT000028",
         ""
        ],
        [
         "28",
         "BMG_PT000029",
         ""
        ],
        [
         "29",
         "BMG_PT000030",
         ""
        ],
        [
         "30",
         "BMG_PT000031",
         ""
        ],
        [
         "31",
         "BMG_PT000032",
         ""
        ],
        [
         "32",
         "BMG_PT000033",
         ""
        ],
        [
         "33",
         "BMG_PT000034",
         ""
        ],
        [
         "34",
         "BMG_PT000035",
         ""
        ],
        [
         "35",
         "BMG_PT000036",
         ""
        ],
        [
         "36",
         "BMG_PT000037",
         ""
        ],
        [
         "37",
         "BMG_PT000038",
         ""
        ],
        [
         "38",
         "BMG_PT000039",
         ""
        ],
        [
         "39",
         "BMG_PT000040",
         ""
        ],
        [
         "40",
         "BMG_PT000041",
         ""
        ],
        [
         "41",
         "BMG_PT000042",
         ""
        ],
        [
         "42",
         "BMG_PT000043",
         ""
        ],
        [
         "43",
         "BMG_PT000044",
         ""
        ],
        [
         "44",
         "BMG_PT000045",
         ""
        ],
        [
         "45",
         "BMG_PT000046",
         ""
        ],
        [
         "46",
         "BMG_PT000047",
         ""
        ],
        [
         "47",
         "BMG_PT000048",
         ""
        ],
        [
         "48",
         "BMG_PT000049",
         ""
        ],
        [
         "49",
         "BMG_PT000050",
         ""
        ]
       ],
       "shape": {
        "columns": 2,
        "rows": 173978
       }
      },
      "text/html": [
       "<div>\n",
       "<style scoped>\n",
       "    .dataframe tbody tr th:only-of-type {\n",
       "        vertical-align: middle;\n",
       "    }\n",
       "\n",
       "    .dataframe tbody tr th {\n",
       "        vertical-align: top;\n",
       "    }\n",
       "\n",
       "    .dataframe thead th {\n",
       "        text-align: right;\n",
       "    }\n",
       "</style>\n",
       "<table border=\"1\" class=\"dataframe\">\n",
       "  <thead>\n",
       "    <tr style=\"text-align: right;\">\n",
       "      <th></th>\n",
       "      <th>BioMedGraphica_ID</th>\n",
       "      <th>Protein_Name_List</th>\n",
       "    </tr>\n",
       "  </thead>\n",
       "  <tbody>\n",
       "    <tr>\n",
       "      <th>0</th>\n",
       "      <td>BMG_PT000001</td>\n",
       "      <td></td>\n",
       "    </tr>\n",
       "    <tr>\n",
       "      <th>1</th>\n",
       "      <td>BMG_PT000002</td>\n",
       "      <td></td>\n",
       "    </tr>\n",
       "    <tr>\n",
       "      <th>2</th>\n",
       "      <td>BMG_PT000003</td>\n",
       "      <td></td>\n",
       "    </tr>\n",
       "    <tr>\n",
       "      <th>3</th>\n",
       "      <td>BMG_PT000004</td>\n",
       "      <td></td>\n",
       "    </tr>\n",
       "    <tr>\n",
       "      <th>4</th>\n",
       "      <td>BMG_PT000005</td>\n",
       "      <td></td>\n",
       "    </tr>\n",
       "    <tr>\n",
       "      <th>...</th>\n",
       "      <td>...</td>\n",
       "      <td>...</td>\n",
       "    </tr>\n",
       "    <tr>\n",
       "      <th>173973</th>\n",
       "      <td>BMG_PT173974</td>\n",
       "      <td>CSF2RA</td>\n",
       "    </tr>\n",
       "    <tr>\n",
       "      <th>173974</th>\n",
       "      <td>BMG_PT173975</td>\n",
       "      <td>CSF2RA</td>\n",
       "    </tr>\n",
       "    <tr>\n",
       "      <th>173975</th>\n",
       "      <td>BMG_PT173976</td>\n",
       "      <td>CSF2RA</td>\n",
       "    </tr>\n",
       "    <tr>\n",
       "      <th>173976</th>\n",
       "      <td>BMG_PT173977</td>\n",
       "      <td>GTPBP6</td>\n",
       "    </tr>\n",
       "    <tr>\n",
       "      <th>173977</th>\n",
       "      <td>BMG_PT173978</td>\n",
       "      <td>IL9R</td>\n",
       "    </tr>\n",
       "  </tbody>\n",
       "</table>\n",
       "<p>173978 rows × 2 columns</p>\n",
       "</div>"
      ],
      "text/plain": [
       "       BioMedGraphica_ID Protein_Name_List\n",
       "0           BMG_PT000001                  \n",
       "1           BMG_PT000002                  \n",
       "2           BMG_PT000003                  \n",
       "3           BMG_PT000004                  \n",
       "4           BMG_PT000005                  \n",
       "...                  ...               ...\n",
       "173973      BMG_PT173974            CSF2RA\n",
       "173974      BMG_PT173975            CSF2RA\n",
       "173975      BMG_PT173976            CSF2RA\n",
       "173976      BMG_PT173977            GTPBP6\n",
       "173977      BMG_PT173978              IL9R\n",
       "\n",
       "[173978 rows x 2 columns]"
      ]
     },
     "execution_count": 11,
     "metadata": {},
     "output_type": "execute_result"
    }
   ],
   "source": [
    "def merge_string_columns(df, columns, merge_name, separator=' | '):\n",
    "    def merge_strings(row):\n",
    "        combined = set()\n",
    "        for column in columns:\n",
    "            if pd.notnull(row[column]):\n",
    "                combined.update(row[column].split(separator))\n",
    "        return separator.join(combined)\n",
    "    \n",
    "    # Apply the function to each row and create a new column\n",
    "    combined_column_name = merge_name\n",
    "    df[combined_column_name] = df.apply(merge_strings, axis=1)\n",
    "    df.drop(columns=columns, inplace=True)\n",
    "    \n",
    "    return df\n",
    "\n",
    "gui_name = biomedgraphica_protein.copy()\n",
    "gui_name = merge_string_columns(gui_name, ['UniProt_Name', 'HGNC_Symbol'], 'Protein_Name_List')\n",
    "gui_name = gui_name[['BioMedGraphica_ID', 'Protein_Name_List']]\n",
    "gui_name"
   ]
  },
  {
   "cell_type": "code",
   "execution_count": 12,
   "metadata": {},
   "outputs": [
    {
     "name": "stdout",
     "output_type": "stream",
     "text": [
      "Data has been saved to D:\\RA\\BMG\\BioMedGraphica\\Entity\\Protein\\BioMedGraphica_Protein_GUI_Name.csv\n"
     ]
    }
   ],
   "source": [
    "import os\n",
    "from pathlib import Path\n",
    "\n",
    "# get the current working directory\n",
    "current_working_dir = Path(os.getcwd()).resolve()\n",
    "\n",
    "# get the output directory\n",
    "grandparent_dir = current_working_dir.parent.parent.parent\n",
    "\n",
    "target_folder = grandparent_dir / 'BioMedGraphica' / 'Entity' / 'Protein'\n",
    "if not target_folder.exists():\n",
    "    target_folder.mkdir(parents=True)\n",
    "    print(f\"Folder {target_folder} has been created.\")\n",
    "\n",
    "output_file_path = target_folder / 'BioMedGraphica_Protein_GUI_Name.csv'\n",
    "gui_name.to_csv(output_file_path, index=False)\n",
    "print(f\"Data has been saved to {output_file_path}\")"
   ]
  },
  {
   "cell_type": "markdown",
   "metadata": {},
   "source": [
    "LLM Name and ID"
   ]
  },
  {
   "cell_type": "code",
   "execution_count": 13,
   "metadata": {},
   "outputs": [
    {
     "data": {
      "application/vnd.microsoft.datawrangler.viewer.v0+json": {
       "columns": [
        {
         "name": "index",
         "rawType": "int64",
         "type": "integer"
        },
        {
         "name": "BioMedGraphica_ID",
         "rawType": "object",
         "type": "string"
        },
        {
         "name": "UniProt_Name",
         "rawType": "object",
         "type": "unknown"
        },
        {
         "name": "HGNC_Symbol",
         "rawType": "object",
         "type": "unknown"
        },
        {
         "name": "Uniprot_ID",
         "rawType": "object",
         "type": "unknown"
        },
        {
         "name": "Ensembl_Protein_ID",
         "rawType": "object",
         "type": "unknown"
        },
        {
         "name": "Ensembl_Protein_ID_Version",
         "rawType": "object",
         "type": "unknown"
        },
        {
         "name": "NCBI_Gene_ID",
         "rawType": "object",
         "type": "unknown"
        },
        {
         "name": "RefSeq_ID",
         "rawType": "object",
         "type": "unknown"
        }
       ],
       "conversionMethod": "pd.DataFrame",
       "ref": "15341899-3c07-44fb-9485-26dbe7de048f",
       "rows": [
        [
         "0",
         "BMG_PT000001",
         null,
         null,
         "UniProt ID:A0A023HHK9",
         null,
         null,
         null,
         "RefSeq ID:NP_085128.2"
        ],
        [
         "1",
         "BMG_PT000002",
         null,
         null,
         "UniProt ID:A0A023HHL0",
         null,
         null,
         null,
         "RefSeq ID:NP_085128.2"
        ],
        [
         "2",
         "BMG_PT000003",
         null,
         null,
         "UniProt ID:A0A023IN41",
         null,
         null,
         null,
         "RefSeq ID:NP_001186551.1"
        ],
        [
         "3",
         "BMG_PT000004",
         null,
         null,
         "UniProt ID:A0A023T695",
         null,
         null,
         null,
         "RefSeq ID:XP_016868347 | RefSeq ID:XP_016868348 | RefSeq ID:XP_016868349 | RefSeq ID:XP_016868350 | RefSeq ID:XP_047277052.1 | RefSeq ID:XP_054215426.1"
        ],
        [
         "4",
         "BMG_PT000005",
         null,
         null,
         "UniProt ID:A0A023T6R1",
         null,
         null,
         null,
         "RefSeq ID:NP_060518.1"
        ],
        [
         "5",
         "BMG_PT000006",
         null,
         null,
         "UniProt ID:A0A023T787",
         null,
         null,
         null,
         "RefSeq ID:NP_005096.1"
        ],
        [
         "6",
         "BMG_PT000007",
         null,
         null,
         "UniProt ID:A0A024QY88",
         null,
         null,
         null,
         "RefSeq ID:NP_039252.2"
        ],
        [
         "7",
         "BMG_PT000008",
         null,
         null,
         "UniProt ID:A0A024QYR3",
         null,
         null,
         null,
         "RefSeq ID:NP_055557.2"
        ],
        [
         "8",
         "BMG_PT000009",
         null,
         null,
         "UniProt ID:A0A024QYR8",
         null,
         null,
         null,
         "RefSeq ID:NP_004791.1"
        ],
        [
         "9",
         "BMG_PT000010",
         null,
         null,
         "UniProt ID:A0A024QYS2",
         null,
         null,
         null,
         "RefSeq ID:NP_064508.3"
        ],
        [
         "10",
         "BMG_PT000011",
         null,
         null,
         "UniProt ID:A0A024QYW1",
         null,
         null,
         null,
         "RefSeq ID:XP_005276759"
        ],
        [
         "11",
         "BMG_PT000012",
         null,
         null,
         "UniProt ID:A0A024QYX0",
         null,
         null,
         null,
         "RefSeq ID:NP_006570.1"
        ],
        [
         "12",
         "BMG_PT000013",
         null,
         null,
         "UniProt ID:A0A024QYX2",
         null,
         null,
         null,
         "RefSeq ID:XP_006721114 | RefSeq ID:XP_006721115"
        ],
        [
         "13",
         "BMG_PT000014",
         null,
         null,
         "UniProt ID:A0A024QYX5",
         null,
         null,
         null,
         "RefSeq ID:NP_036412.1 | RefSeq ID:XP_024308127.1 | RefSeq ID:XP_054182713.1"
        ],
        [
         "14",
         "BMG_PT000015",
         null,
         null,
         "UniProt ID:A0A024QYY3",
         null,
         null,
         null,
         "RefSeq ID:XP_005256782 | RefSeq ID:XP_005256783 | RefSeq ID:XP_016880354 | RefSeq ID:XP_016880355 | RefSeq ID:XP_016880356"
        ],
        [
         "15",
         "BMG_PT000016",
         null,
         null,
         "UniProt ID:A0A024QYY4",
         null,
         null,
         null,
         "RefSeq ID:XP_005273028"
        ],
        [
         "16",
         "BMG_PT000017",
         null,
         null,
         "UniProt ID:A0A024QYZ6",
         null,
         null,
         null,
         "RefSeq ID:XP_016864492 | RefSeq ID:XP_016864493"
        ],
        [
         "17",
         "BMG_PT000018",
         null,
         null,
         "UniProt ID:A0A024QZ13",
         null,
         null,
         null,
         "RefSeq ID:NP_001317095.1"
        ],
        [
         "18",
         "BMG_PT000019",
         null,
         null,
         "UniProt ID:A0A024QZ18",
         null,
         null,
         null,
         "RefSeq ID:XP_005278121 | RefSeq ID:XP_005278122 | RefSeq ID:XP_011542287 | RefSeq ID:XP_011542288 | RefSeq ID:XP_011542289"
        ],
        [
         "19",
         "BMG_PT000020",
         null,
         null,
         "UniProt ID:A0A024QZ33",
         null,
         null,
         null,
         "RefSeq ID:NP_001248396.1 | RefSeq ID:XP_016880699 | RefSeq ID:XP_016880700 | RefSeq ID:XP_016880701 | RefSeq ID:XP_016880702 | RefSeq ID:XP_016880703 | RefSeq ID:XP_016880704 | RefSeq ID:XP_047292875.1 | RefSeq ID:XP_047292876.1 | RefSeq ID:XP_047292877.1 | RefSeq ID:XP_054173512.1 | RefSeq ID:XP_054173513.1 | RefSeq ID:XP_054173514.1"
        ],
        [
         "20",
         "BMG_PT000021",
         null,
         null,
         "UniProt ID:A0A024QZ35",
         null,
         null,
         null,
         "RefSeq ID:XP_016859901"
        ],
        [
         "21",
         "BMG_PT000022",
         null,
         null,
         "UniProt ID:A0A024QZ37",
         null,
         null,
         null,
         "RefSeq ID:NP_005257.2 | RefSeq ID:NP_859054.1"
        ],
        [
         "22",
         "BMG_PT000023",
         null,
         null,
         "UniProt ID:A0A024QZ42",
         null,
         null,
         null,
         "RefSeq ID:NP_001254487.1"
        ],
        [
         "23",
         "BMG_PT000024",
         null,
         null,
         "UniProt ID:A0A024QZ45",
         null,
         null,
         null,
         "RefSeq ID:NP_114432.2 | RefSeq ID:XP_047292847.1 | RefSeq ID:XP_047292848.1"
        ],
        [
         "24",
         "BMG_PT000025",
         null,
         null,
         "UniProt ID:A0A024QZ48",
         null,
         null,
         null,
         "RefSeq ID:NP_001317346"
        ],
        [
         "25",
         "BMG_PT000026",
         null,
         null,
         "UniProt ID:A0A024QZ60",
         null,
         null,
         null,
         "RefSeq ID:XP_016880320 | RefSeq ID:XP_016880321 | RefSeq ID:XP_016880322 | RefSeq ID:XP_016880323"
        ],
        [
         "26",
         "BMG_PT000027",
         null,
         null,
         "UniProt ID:A0A024QZ64",
         null,
         null,
         null,
         "RefSeq ID:NP_005156.1 | RefSeq ID:XP_005258006.1 | RefSeq ID:XP_011522858.1 | RefSeq ID:XP_054171518.1 | RefSeq ID:XP_054171519.1"
        ],
        [
         "27",
         "BMG_PT000028",
         null,
         null,
         "UniProt ID:A0A024QZ70",
         null,
         null,
         null,
         "RefSeq ID:XP_011523362"
        ],
        [
         "28",
         "BMG_PT000029",
         null,
         null,
         "UniProt ID:A0A024QZ77",
         null,
         null,
         null,
         "RefSeq ID:NP_077305.2"
        ],
        [
         "29",
         "BMG_PT000030",
         null,
         null,
         "UniProt ID:A0A024QZ87",
         null,
         null,
         null,
         "RefSeq ID:XP_011521204 | RefSeq ID:XP_011521205"
        ],
        [
         "30",
         "BMG_PT000031",
         null,
         null,
         "UniProt ID:A0A024QZ90",
         null,
         null,
         null,
         "RefSeq ID:XP_006721190 | RefSeq ID:XP_016878379"
        ],
        [
         "31",
         "BMG_PT000032",
         null,
         null,
         "UniProt ID:A0A024QZB0",
         null,
         null,
         null,
         "RefSeq ID:XP_006710761"
        ],
        [
         "32",
         "BMG_PT000033",
         null,
         null,
         "UniProt ID:A0A024QZC1",
         null,
         null,
         null,
         "RefSeq ID:NP_001230575.1 | RefSeq ID:NP_006101.1"
        ],
        [
         "33",
         "BMG_PT000034",
         null,
         null,
         "UniProt ID:A0A024QZD2",
         null,
         null,
         null,
         "RefSeq ID:XP_016878603 | RefSeq ID:XP_016878604 | RefSeq ID:XP_016878605"
        ],
        [
         "34",
         "BMG_PT000035",
         null,
         null,
         "UniProt ID:A0A024QZD3",
         null,
         null,
         null,
         "RefSeq ID:XP_006723167"
        ],
        [
         "35",
         "BMG_PT000036",
         null,
         null,
         "UniProt ID:A0A024QZE3",
         null,
         null,
         null,
         "RefSeq ID:XP_005258562 | RefSeq ID:XP_005258563 | RefSeq ID:XP_011524740 | RefSeq ID:XP_011524741"
        ],
        [
         "36",
         "BMG_PT000037",
         null,
         null,
         "UniProt ID:A0A024QZE4",
         null,
         null,
         null,
         "RefSeq ID:XP_005259019 | RefSeq ID:XP_006723295 | RefSeq ID:XP_011525312"
        ],
        [
         "37",
         "BMG_PT000038",
         null,
         null,
         "UniProt ID:A0A024QZG0",
         null,
         null,
         null,
         "RefSeq ID:NP_001273501.1 | RefSeq ID:NP_055586.1"
        ],
        [
         "38",
         "BMG_PT000039",
         null,
         null,
         "UniProt ID:A0A024QZG6",
         null,
         null,
         null,
         "RefSeq ID:NP_001311387.1 | RefSeq ID:NP_001311388.1 | RefSeq ID:NP_037424.2"
        ],
        [
         "39",
         "BMG_PT000040",
         null,
         null,
         "UniProt ID:A0A024QZH5",
         null,
         null,
         null,
         "RefSeq ID:XP_011525435"
        ],
        [
         "40",
         "BMG_PT000041",
         null,
         null,
         "UniProt ID:A0A024QZI2",
         null,
         null,
         null,
         "RefSeq ID:NP_001129491.1 | RefSeq ID:NP_004098.1 | RefSeq ID:XP_054176174.1"
        ],
        [
         "41",
         "BMG_PT000042",
         null,
         null,
         "UniProt ID:A0A024QZJ4",
         null,
         null,
         null,
         "RefSeq ID:NP_002465.1"
        ],
        [
         "42",
         "BMG_PT000043",
         null,
         null,
         "UniProt ID:A0A024QZJ5",
         null,
         null,
         null,
         "RefSeq ID:XP_016871649"
        ],
        [
         "43",
         "BMG_PT000044",
         null,
         null,
         "UniProt ID:A0A024QZK5",
         null,
         null,
         null,
         "RefSeq ID:NP_071412.2 | RefSeq ID:XP_005270085.1 | RefSeq ID:XP_054222508.1"
        ],
        [
         "44",
         "BMG_PT000045",
         null,
         null,
         "UniProt ID:A0A024QZK8",
         null,
         null,
         null,
         "RefSeq ID:XP_016871657"
        ],
        [
         "45",
         "BMG_PT000046",
         null,
         null,
         "UniProt ID:A0A024QZL0",
         null,
         null,
         null,
         "RefSeq ID:XP_016871325"
        ],
        [
         "46",
         "BMG_PT000047",
         null,
         null,
         "UniProt ID:A0A024QZL4",
         null,
         null,
         null,
         "RefSeq ID:XP_006718147 | RefSeq ID:XP_016872490"
        ],
        [
         "47",
         "BMG_PT000048",
         null,
         null,
         "UniProt ID:A0A024QZM0",
         null,
         null,
         null,
         "RefSeq ID:XP_006717936"
        ],
        [
         "48",
         "BMG_PT000049",
         null,
         null,
         "UniProt ID:A0A024QZM7",
         null,
         null,
         null,
         "RefSeq ID:XP_005269777"
        ],
        [
         "49",
         "BMG_PT000050",
         null,
         null,
         "UniProt ID:A0A024QZM9",
         null,
         null,
         null,
         "RefSeq ID:NP_002649"
        ]
       ],
       "shape": {
        "columns": 8,
        "rows": 173978
       }
      },
      "text/html": [
       "<div>\n",
       "<style scoped>\n",
       "    .dataframe tbody tr th:only-of-type {\n",
       "        vertical-align: middle;\n",
       "    }\n",
       "\n",
       "    .dataframe tbody tr th {\n",
       "        vertical-align: top;\n",
       "    }\n",
       "\n",
       "    .dataframe thead th {\n",
       "        text-align: right;\n",
       "    }\n",
       "</style>\n",
       "<table border=\"1\" class=\"dataframe\">\n",
       "  <thead>\n",
       "    <tr style=\"text-align: right;\">\n",
       "      <th></th>\n",
       "      <th>BioMedGraphica_ID</th>\n",
       "      <th>UniProt_Name</th>\n",
       "      <th>HGNC_Symbol</th>\n",
       "      <th>Uniprot_ID</th>\n",
       "      <th>Ensembl_Protein_ID</th>\n",
       "      <th>Ensembl_Protein_ID_Version</th>\n",
       "      <th>NCBI_Gene_ID</th>\n",
       "      <th>RefSeq_ID</th>\n",
       "    </tr>\n",
       "  </thead>\n",
       "  <tbody>\n",
       "    <tr>\n",
       "      <th>0</th>\n",
       "      <td>BMG_PT000001</td>\n",
       "      <td>NaN</td>\n",
       "      <td>NaN</td>\n",
       "      <td>UniProt ID:A0A023HHK9</td>\n",
       "      <td>NaN</td>\n",
       "      <td>NaN</td>\n",
       "      <td>NaN</td>\n",
       "      <td>RefSeq ID:NP_085128.2</td>\n",
       "    </tr>\n",
       "    <tr>\n",
       "      <th>1</th>\n",
       "      <td>BMG_PT000002</td>\n",
       "      <td>NaN</td>\n",
       "      <td>NaN</td>\n",
       "      <td>UniProt ID:A0A023HHL0</td>\n",
       "      <td>NaN</td>\n",
       "      <td>NaN</td>\n",
       "      <td>NaN</td>\n",
       "      <td>RefSeq ID:NP_085128.2</td>\n",
       "    </tr>\n",
       "    <tr>\n",
       "      <th>2</th>\n",
       "      <td>BMG_PT000003</td>\n",
       "      <td>NaN</td>\n",
       "      <td>NaN</td>\n",
       "      <td>UniProt ID:A0A023IN41</td>\n",
       "      <td>NaN</td>\n",
       "      <td>NaN</td>\n",
       "      <td>NaN</td>\n",
       "      <td>RefSeq ID:NP_001186551.1</td>\n",
       "    </tr>\n",
       "    <tr>\n",
       "      <th>3</th>\n",
       "      <td>BMG_PT000004</td>\n",
       "      <td>NaN</td>\n",
       "      <td>NaN</td>\n",
       "      <td>UniProt ID:A0A023T695</td>\n",
       "      <td>NaN</td>\n",
       "      <td>NaN</td>\n",
       "      <td>NaN</td>\n",
       "      <td>RefSeq ID:XP_016868347 | RefSeq ID:XP_01686834...</td>\n",
       "    </tr>\n",
       "    <tr>\n",
       "      <th>4</th>\n",
       "      <td>BMG_PT000005</td>\n",
       "      <td>NaN</td>\n",
       "      <td>NaN</td>\n",
       "      <td>UniProt ID:A0A023T6R1</td>\n",
       "      <td>NaN</td>\n",
       "      <td>NaN</td>\n",
       "      <td>NaN</td>\n",
       "      <td>RefSeq ID:NP_060518.1</td>\n",
       "    </tr>\n",
       "    <tr>\n",
       "      <th>...</th>\n",
       "      <td>...</td>\n",
       "      <td>...</td>\n",
       "      <td>...</td>\n",
       "      <td>...</td>\n",
       "      <td>...</td>\n",
       "      <td>...</td>\n",
       "      <td>...</td>\n",
       "      <td>...</td>\n",
       "    </tr>\n",
       "    <tr>\n",
       "      <th>173973</th>\n",
       "      <td>BMG_PT173974</td>\n",
       "      <td>NaN</td>\n",
       "      <td>CSF2RA</td>\n",
       "      <td>NaN</td>\n",
       "      <td>ENSP00000520928</td>\n",
       "      <td>ENSP00000520928.1</td>\n",
       "      <td>NCBI Gene ID:1438.0</td>\n",
       "      <td>NaN</td>\n",
       "    </tr>\n",
       "    <tr>\n",
       "      <th>173974</th>\n",
       "      <td>BMG_PT173975</td>\n",
       "      <td>NaN</td>\n",
       "      <td>CSF2RA</td>\n",
       "      <td>NaN</td>\n",
       "      <td>ENSP00000520929</td>\n",
       "      <td>ENSP00000520929.1</td>\n",
       "      <td>NCBI Gene ID:1438.0</td>\n",
       "      <td>RefSeq ID:NP_001366090 | RefSeq ID:NP_00136609...</td>\n",
       "    </tr>\n",
       "    <tr>\n",
       "      <th>173975</th>\n",
       "      <td>BMG_PT173976</td>\n",
       "      <td>NaN</td>\n",
       "      <td>CSF2RA</td>\n",
       "      <td>NaN</td>\n",
       "      <td>ENSP00000520930</td>\n",
       "      <td>ENSP00000520930.1</td>\n",
       "      <td>NCBI Gene ID:1438.0</td>\n",
       "      <td>RefSeq ID:NP_001366088 | RefSeq ID:NP_00136609...</td>\n",
       "    </tr>\n",
       "    <tr>\n",
       "      <th>173976</th>\n",
       "      <td>BMG_PT173977</td>\n",
       "      <td>NaN</td>\n",
       "      <td>GTPBP6</td>\n",
       "      <td>NaN</td>\n",
       "      <td>ENSP00000520931</td>\n",
       "      <td>ENSP00000520931.1</td>\n",
       "      <td>NCBI Gene ID:8225.0</td>\n",
       "      <td>NaN</td>\n",
       "    </tr>\n",
       "    <tr>\n",
       "      <th>173977</th>\n",
       "      <td>BMG_PT173978</td>\n",
       "      <td>NaN</td>\n",
       "      <td>IL9R</td>\n",
       "      <td>NaN</td>\n",
       "      <td>ENSP00000520932</td>\n",
       "      <td>ENSP00000520932.1</td>\n",
       "      <td>NCBI Gene ID:3581.0</td>\n",
       "      <td>RefSeq ID:NP_789743</td>\n",
       "    </tr>\n",
       "  </tbody>\n",
       "</table>\n",
       "<p>173978 rows × 8 columns</p>\n",
       "</div>"
      ],
      "text/plain": [
       "       BioMedGraphica_ID UniProt_Name HGNC_Symbol             Uniprot_ID  \\\n",
       "0           BMG_PT000001          NaN         NaN  UniProt ID:A0A023HHK9   \n",
       "1           BMG_PT000002          NaN         NaN  UniProt ID:A0A023HHL0   \n",
       "2           BMG_PT000003          NaN         NaN  UniProt ID:A0A023IN41   \n",
       "3           BMG_PT000004          NaN         NaN  UniProt ID:A0A023T695   \n",
       "4           BMG_PT000005          NaN         NaN  UniProt ID:A0A023T6R1   \n",
       "...                  ...          ...         ...                    ...   \n",
       "173973      BMG_PT173974          NaN      CSF2RA                    NaN   \n",
       "173974      BMG_PT173975          NaN      CSF2RA                    NaN   \n",
       "173975      BMG_PT173976          NaN      CSF2RA                    NaN   \n",
       "173976      BMG_PT173977          NaN      GTPBP6                    NaN   \n",
       "173977      BMG_PT173978          NaN        IL9R                    NaN   \n",
       "\n",
       "       Ensembl_Protein_ID Ensembl_Protein_ID_Version         NCBI_Gene_ID  \\\n",
       "0                     NaN                        NaN                  NaN   \n",
       "1                     NaN                        NaN                  NaN   \n",
       "2                     NaN                        NaN                  NaN   \n",
       "3                     NaN                        NaN                  NaN   \n",
       "4                     NaN                        NaN                  NaN   \n",
       "...                   ...                        ...                  ...   \n",
       "173973    ENSP00000520928          ENSP00000520928.1  NCBI Gene ID:1438.0   \n",
       "173974    ENSP00000520929          ENSP00000520929.1  NCBI Gene ID:1438.0   \n",
       "173975    ENSP00000520930          ENSP00000520930.1  NCBI Gene ID:1438.0   \n",
       "173976    ENSP00000520931          ENSP00000520931.1  NCBI Gene ID:8225.0   \n",
       "173977    ENSP00000520932          ENSP00000520932.1  NCBI Gene ID:3581.0   \n",
       "\n",
       "                                                RefSeq_ID  \n",
       "0                                   RefSeq ID:NP_085128.2  \n",
       "1                                   RefSeq ID:NP_085128.2  \n",
       "2                                RefSeq ID:NP_001186551.1  \n",
       "3       RefSeq ID:XP_016868347 | RefSeq ID:XP_01686834...  \n",
       "4                                   RefSeq ID:NP_060518.1  \n",
       "...                                                   ...  \n",
       "173973                                                NaN  \n",
       "173974  RefSeq ID:NP_001366090 | RefSeq ID:NP_00136609...  \n",
       "173975  RefSeq ID:NP_001366088 | RefSeq ID:NP_00136609...  \n",
       "173976                                                NaN  \n",
       "173977                                RefSeq ID:NP_789743  \n",
       "\n",
       "[173978 rows x 8 columns]"
      ]
     },
     "execution_count": 13,
     "metadata": {},
     "output_type": "execute_result"
    }
   ],
   "source": [
    "llm_name_id = biomedgraphica_protein.copy()\n",
    "\n",
    "llm_name_id['Uniprot_ID'] = llm_name_id['Uniprot_ID'].apply(\n",
    "    lambda x: ' | '.join(f\"UniProt ID:{id}\" for id in x.split(';')) if pd.notna(x) and x != '' else x\n",
    ")\n",
    "\n",
    "llm_name_id['RefSeq_ID'] = llm_name_id['RefSeq_ID'].apply(\n",
    "    lambda x: ' | '.join(f\"RefSeq ID:{id}\" for id in x.split(';')) if pd.notna(x) and x != '' else x\n",
    ")\n",
    "\n",
    "llm_name_id['NCBI_Gene_ID'] = llm_name_id['NCBI_Gene_ID'].apply(\n",
    "    lambda x: ' | '.join(f\"NCBI Gene ID:{id}\" for id in x.split(';')) if pd.notna(x) and x != '' else x\n",
    ")\n",
    "\n",
    "column_order = ['BioMedGraphica_ID', 'UniProt_Name', 'HGNC_Symbol', 'Uniprot_ID', 'Ensembl_Protein_ID', 'Ensembl_Protein_ID_Version', 'NCBI_Gene_ID', 'RefSeq_ID']\n",
    "llm_name_id = llm_name_id[column_order] \n",
    "llm_name_id"
   ]
  },
  {
   "cell_type": "code",
   "execution_count": 14,
   "metadata": {},
   "outputs": [
    {
     "name": "stdout",
     "output_type": "stream",
     "text": [
      "Data has been saved to D:\\RA\\BMG\\BioMedGraphica\\Entity\\Protein\\BioMedGraphica_Protein_LLM_Name_ID.csv\n"
     ]
    }
   ],
   "source": [
    "import os\n",
    "from pathlib import Path\n",
    "\n",
    "# get the current working directory\n",
    "current_working_dir = Path(os.getcwd()).resolve()\n",
    "\n",
    "# get the output directory\n",
    "grandparent_dir = current_working_dir.parent.parent.parent\n",
    "\n",
    "target_folder = grandparent_dir / 'BioMedGraphica' / 'Entity' / 'Protein'\n",
    "if not target_folder.exists():\n",
    "    target_folder.mkdir(parents=True)\n",
    "    print(f\"Folder {target_folder} has been created.\")\n",
    "\n",
    "output_file_path = target_folder / 'BioMedGraphica_Protein_LLM_Name_ID.csv'\n",
    "llm_name_id.to_csv(output_file_path, index=False)\n",
    "print(f\"Data has been saved to {output_file_path}\")"
   ]
  },
  {
   "cell_type": "markdown",
   "metadata": {},
   "source": [
    "LLM Name and ID Combined"
   ]
  },
  {
   "cell_type": "code",
   "execution_count": 15,
   "metadata": {},
   "outputs": [
    {
     "data": {
      "application/vnd.microsoft.datawrangler.viewer.v0+json": {
       "columns": [
        {
         "name": "index",
         "rawType": "int64",
         "type": "integer"
        },
        {
         "name": "BioMedGraphica_ID",
         "rawType": "object",
         "type": "string"
        },
        {
         "name": "Names_and_IDs",
         "rawType": "object",
         "type": "string"
        }
       ],
       "conversionMethod": "pd.DataFrame",
       "ref": "386d18d3-8611-4e87-9900-ccec35b62de4",
       "rows": [
        [
         "0",
         "BMG_PT000001",
         "UniProt ID:A0A023HHK9 | RefSeq ID:NP_085128.2"
        ],
        [
         "1",
         "BMG_PT000002",
         "RefSeq ID:NP_085128.2 | UniProt ID:A0A023HHL0"
        ],
        [
         "2",
         "BMG_PT000003",
         "UniProt ID:A0A023IN41 | RefSeq ID:NP_001186551.1"
        ],
        [
         "3",
         "BMG_PT000004",
         "RefSeq ID:XP_016868348 | RefSeq ID:XP_054215426.1 | UniProt ID:A0A023T695 | RefSeq ID:XP_016868350 | RefSeq ID:XP_016868349 | RefSeq ID:XP_016868347 | RefSeq ID:XP_047277052.1"
        ],
        [
         "4",
         "BMG_PT000005",
         "UniProt ID:A0A023T6R1 | RefSeq ID:NP_060518.1"
        ],
        [
         "5",
         "BMG_PT000006",
         "UniProt ID:A0A023T787 | RefSeq ID:NP_005096.1"
        ],
        [
         "6",
         "BMG_PT000007",
         "RefSeq ID:NP_039252.2 | UniProt ID:A0A024QY88"
        ],
        [
         "7",
         "BMG_PT000008",
         "UniProt ID:A0A024QYR3 | RefSeq ID:NP_055557.2"
        ],
        [
         "8",
         "BMG_PT000009",
         "UniProt ID:A0A024QYR8 | RefSeq ID:NP_004791.1"
        ],
        [
         "9",
         "BMG_PT000010",
         "UniProt ID:A0A024QYS2 | RefSeq ID:NP_064508.3"
        ],
        [
         "10",
         "BMG_PT000011",
         "RefSeq ID:XP_005276759 | UniProt ID:A0A024QYW1"
        ],
        [
         "11",
         "BMG_PT000012",
         "RefSeq ID:NP_006570.1 | UniProt ID:A0A024QYX0"
        ],
        [
         "12",
         "BMG_PT000013",
         "UniProt ID:A0A024QYX2 | RefSeq ID:XP_006721115 | RefSeq ID:XP_006721114"
        ],
        [
         "13",
         "BMG_PT000014",
         "UniProt ID:A0A024QYX5 | RefSeq ID:XP_024308127.1 | RefSeq ID:NP_036412.1 | RefSeq ID:XP_054182713.1"
        ],
        [
         "14",
         "BMG_PT000015",
         "RefSeq ID:XP_005256782 | RefSeq ID:XP_016880356 | RefSeq ID:XP_005256783 | RefSeq ID:XP_016880354 | UniProt ID:A0A024QYY3 | RefSeq ID:XP_016880355"
        ],
        [
         "15",
         "BMG_PT000016",
         "UniProt ID:A0A024QYY4 | RefSeq ID:XP_005273028"
        ],
        [
         "16",
         "BMG_PT000017",
         "UniProt ID:A0A024QYZ6 | RefSeq ID:XP_016864493 | RefSeq ID:XP_016864492"
        ],
        [
         "17",
         "BMG_PT000018",
         "UniProt ID:A0A024QZ13 | RefSeq ID:NP_001317095.1"
        ],
        [
         "18",
         "BMG_PT000019",
         "RefSeq ID:XP_011542288 | RefSeq ID:XP_005278122 | UniProt ID:A0A024QZ18 | RefSeq ID:XP_011542289 | RefSeq ID:XP_005278121 | RefSeq ID:XP_011542287"
        ],
        [
         "19",
         "BMG_PT000020",
         "RefSeq ID:NP_001248396.1 | RefSeq ID:XP_016880703 | RefSeq ID:XP_054173513.1 | RefSeq ID:XP_016880699 | RefSeq ID:XP_016880700 | UniProt ID:A0A024QZ33 | RefSeq ID:XP_047292875.1 | RefSeq ID:XP_016880704 | RefSeq ID:XP_054173512.1 | RefSeq ID:XP_047292877.1 | RefSeq ID:XP_054173514.1 | RefSeq ID:XP_047292876.1 | RefSeq ID:XP_016880701 | RefSeq ID:XP_016880702"
        ],
        [
         "20",
         "BMG_PT000021",
         "RefSeq ID:XP_016859901 | UniProt ID:A0A024QZ35"
        ],
        [
         "21",
         "BMG_PT000022",
         "UniProt ID:A0A024QZ37 | RefSeq ID:NP_859054.1 | RefSeq ID:NP_005257.2"
        ],
        [
         "22",
         "BMG_PT000023",
         "UniProt ID:A0A024QZ42 | RefSeq ID:NP_001254487.1"
        ],
        [
         "23",
         "BMG_PT000024",
         "UniProt ID:A0A024QZ45 | RefSeq ID:XP_047292848.1 | RefSeq ID:NP_114432.2 | RefSeq ID:XP_047292847.1"
        ],
        [
         "24",
         "BMG_PT000025",
         "RefSeq ID:NP_001317346 | UniProt ID:A0A024QZ48"
        ],
        [
         "25",
         "BMG_PT000026",
         "UniProt ID:A0A024QZ60 | RefSeq ID:XP_016880322 | RefSeq ID:XP_016880320 | RefSeq ID:XP_016880323 | RefSeq ID:XP_016880321"
        ],
        [
         "26",
         "BMG_PT000027",
         "RefSeq ID:NP_005156.1 | RefSeq ID:XP_054171519.1 | RefSeq ID:XP_011522858.1 | UniProt ID:A0A024QZ64 | RefSeq ID:XP_005258006.1 | RefSeq ID:XP_054171518.1"
        ],
        [
         "27",
         "BMG_PT000028",
         "RefSeq ID:XP_011523362 | UniProt ID:A0A024QZ70"
        ],
        [
         "28",
         "BMG_PT000029",
         "RefSeq ID:NP_077305.2 | UniProt ID:A0A024QZ77"
        ],
        [
         "29",
         "BMG_PT000030",
         "UniProt ID:A0A024QZ87 | RefSeq ID:XP_011521204 | RefSeq ID:XP_011521205"
        ],
        [
         "30",
         "BMG_PT000031",
         "RefSeq ID:XP_016878379 | UniProt ID:A0A024QZ90 | RefSeq ID:XP_006721190"
        ],
        [
         "31",
         "BMG_PT000032",
         "RefSeq ID:XP_006710761 | UniProt ID:A0A024QZB0"
        ],
        [
         "32",
         "BMG_PT000033",
         "RefSeq ID:NP_001230575.1 | UniProt ID:A0A024QZC1 | RefSeq ID:NP_006101.1"
        ],
        [
         "33",
         "BMG_PT000034",
         "RefSeq ID:XP_016878605 | UniProt ID:A0A024QZD2 | RefSeq ID:XP_016878604 | RefSeq ID:XP_016878603"
        ],
        [
         "34",
         "BMG_PT000035",
         "RefSeq ID:XP_006723167 | UniProt ID:A0A024QZD3"
        ],
        [
         "35",
         "BMG_PT000036",
         "UniProt ID:A0A024QZE3 | RefSeq ID:XP_005258562 | RefSeq ID:XP_011524740 | RefSeq ID:XP_011524741 | RefSeq ID:XP_005258563"
        ],
        [
         "36",
         "BMG_PT000037",
         "RefSeq ID:XP_005259019 | UniProt ID:A0A024QZE4 | RefSeq ID:XP_011525312 | RefSeq ID:XP_006723295"
        ],
        [
         "37",
         "BMG_PT000038",
         "RefSeq ID:NP_055586.1 | UniProt ID:A0A024QZG0 | RefSeq ID:NP_001273501.1"
        ],
        [
         "38",
         "BMG_PT000039",
         "RefSeq ID:NP_001311388.1 | RefSeq ID:NP_001311387.1 | RefSeq ID:NP_037424.2 | UniProt ID:A0A024QZG6"
        ],
        [
         "39",
         "BMG_PT000040",
         "RefSeq ID:XP_011525435 | UniProt ID:A0A024QZH5"
        ],
        [
         "40",
         "BMG_PT000041",
         "RefSeq ID:NP_001129491.1 | RefSeq ID:NP_004098.1 | RefSeq ID:XP_054176174.1 | UniProt ID:A0A024QZI2"
        ],
        [
         "41",
         "BMG_PT000042",
         "RefSeq ID:NP_002465.1 | UniProt ID:A0A024QZJ4"
        ],
        [
         "42",
         "BMG_PT000043",
         "RefSeq ID:XP_016871649 | UniProt ID:A0A024QZJ5"
        ],
        [
         "43",
         "BMG_PT000044",
         "RefSeq ID:XP_005270085.1 | UniProt ID:A0A024QZK5 | RefSeq ID:XP_054222508.1 | RefSeq ID:NP_071412.2"
        ],
        [
         "44",
         "BMG_PT000045",
         "UniProt ID:A0A024QZK8 | RefSeq ID:XP_016871657"
        ],
        [
         "45",
         "BMG_PT000046",
         "RefSeq ID:XP_016871325 | UniProt ID:A0A024QZL0"
        ],
        [
         "46",
         "BMG_PT000047",
         "UniProt ID:A0A024QZL4 | RefSeq ID:XP_006718147 | RefSeq ID:XP_016872490"
        ],
        [
         "47",
         "BMG_PT000048",
         "UniProt ID:A0A024QZM0 | RefSeq ID:XP_006717936"
        ],
        [
         "48",
         "BMG_PT000049",
         "RefSeq ID:XP_005269777 | UniProt ID:A0A024QZM7"
        ],
        [
         "49",
         "BMG_PT000050",
         "UniProt ID:A0A024QZM9 | RefSeq ID:NP_002649"
        ]
       ],
       "shape": {
        "columns": 2,
        "rows": 173978
       }
      },
      "text/html": [
       "<div>\n",
       "<style scoped>\n",
       "    .dataframe tbody tr th:only-of-type {\n",
       "        vertical-align: middle;\n",
       "    }\n",
       "\n",
       "    .dataframe tbody tr th {\n",
       "        vertical-align: top;\n",
       "    }\n",
       "\n",
       "    .dataframe thead th {\n",
       "        text-align: right;\n",
       "    }\n",
       "</style>\n",
       "<table border=\"1\" class=\"dataframe\">\n",
       "  <thead>\n",
       "    <tr style=\"text-align: right;\">\n",
       "      <th></th>\n",
       "      <th>BioMedGraphica_ID</th>\n",
       "      <th>Names_and_IDs</th>\n",
       "    </tr>\n",
       "  </thead>\n",
       "  <tbody>\n",
       "    <tr>\n",
       "      <th>0</th>\n",
       "      <td>BMG_PT000001</td>\n",
       "      <td>UniProt ID:A0A023HHK9 | RefSeq ID:NP_085128.2</td>\n",
       "    </tr>\n",
       "    <tr>\n",
       "      <th>1</th>\n",
       "      <td>BMG_PT000002</td>\n",
       "      <td>RefSeq ID:NP_085128.2 | UniProt ID:A0A023HHL0</td>\n",
       "    </tr>\n",
       "    <tr>\n",
       "      <th>2</th>\n",
       "      <td>BMG_PT000003</td>\n",
       "      <td>UniProt ID:A0A023IN41 | RefSeq ID:NP_001186551.1</td>\n",
       "    </tr>\n",
       "    <tr>\n",
       "      <th>3</th>\n",
       "      <td>BMG_PT000004</td>\n",
       "      <td>RefSeq ID:XP_016868348 | RefSeq ID:XP_05421542...</td>\n",
       "    </tr>\n",
       "    <tr>\n",
       "      <th>4</th>\n",
       "      <td>BMG_PT000005</td>\n",
       "      <td>UniProt ID:A0A023T6R1 | RefSeq ID:NP_060518.1</td>\n",
       "    </tr>\n",
       "    <tr>\n",
       "      <th>...</th>\n",
       "      <td>...</td>\n",
       "      <td>...</td>\n",
       "    </tr>\n",
       "    <tr>\n",
       "      <th>173973</th>\n",
       "      <td>BMG_PT173974</td>\n",
       "      <td>ENSP00000520928.1 | ENSP00000520928 | NCBI Gen...</td>\n",
       "    </tr>\n",
       "    <tr>\n",
       "      <th>173974</th>\n",
       "      <td>BMG_PT173975</td>\n",
       "      <td>RefSeq ID:NP_001366093 | NCBI Gene ID:1438.0 |...</td>\n",
       "    </tr>\n",
       "    <tr>\n",
       "      <th>173975</th>\n",
       "      <td>BMG_PT173976</td>\n",
       "      <td>NCBI Gene ID:1438.0 | CSF2RA | RefSeq ID:NP_00...</td>\n",
       "    </tr>\n",
       "    <tr>\n",
       "      <th>173976</th>\n",
       "      <td>BMG_PT173977</td>\n",
       "      <td>GTPBP6 | ENSP00000520931.1 | NCBI Gene ID:8225...</td>\n",
       "    </tr>\n",
       "    <tr>\n",
       "      <th>173977</th>\n",
       "      <td>BMG_PT173978</td>\n",
       "      <td>NCBI Gene ID:3581.0 | RefSeq ID:NP_789743 | IL...</td>\n",
       "    </tr>\n",
       "  </tbody>\n",
       "</table>\n",
       "<p>173978 rows × 2 columns</p>\n",
       "</div>"
      ],
      "text/plain": [
       "       BioMedGraphica_ID                                      Names_and_IDs\n",
       "0           BMG_PT000001      UniProt ID:A0A023HHK9 | RefSeq ID:NP_085128.2\n",
       "1           BMG_PT000002      RefSeq ID:NP_085128.2 | UniProt ID:A0A023HHL0\n",
       "2           BMG_PT000003   UniProt ID:A0A023IN41 | RefSeq ID:NP_001186551.1\n",
       "3           BMG_PT000004  RefSeq ID:XP_016868348 | RefSeq ID:XP_05421542...\n",
       "4           BMG_PT000005      UniProt ID:A0A023T6R1 | RefSeq ID:NP_060518.1\n",
       "...                  ...                                                ...\n",
       "173973      BMG_PT173974  ENSP00000520928.1 | ENSP00000520928 | NCBI Gen...\n",
       "173974      BMG_PT173975  RefSeq ID:NP_001366093 | NCBI Gene ID:1438.0 |...\n",
       "173975      BMG_PT173976  NCBI Gene ID:1438.0 | CSF2RA | RefSeq ID:NP_00...\n",
       "173976      BMG_PT173977  GTPBP6 | ENSP00000520931.1 | NCBI Gene ID:8225...\n",
       "173977      BMG_PT173978  NCBI Gene ID:3581.0 | RefSeq ID:NP_789743 | IL...\n",
       "\n",
       "[173978 rows x 2 columns]"
      ]
     },
     "execution_count": 15,
     "metadata": {},
     "output_type": "execute_result"
    }
   ],
   "source": [
    "llm_combined = llm_name_id.copy()\n",
    "\n",
    "def merge_string_columns(df, columns, merge_name, separator=' | '):\n",
    "    def merge_strings(row):\n",
    "        combined = set()\n",
    "        for column in columns:\n",
    "            if pd.notnull(row[column]):\n",
    "                combined.update(row[column].split(separator))\n",
    "        return separator.join(combined)\n",
    "    \n",
    "    # Apply the function to each row and create a new column\n",
    "    combined_column_name = merge_name\n",
    "    df[combined_column_name] = df.apply(merge_strings, axis=1)\n",
    "    df.drop(columns=columns, inplace=True)\n",
    "    \n",
    "    return df\n",
    "\n",
    "llm_combined = merge_string_columns(llm_combined, llm_combined.columns[llm_combined.columns != 'BioMedGraphica_ID'], 'Names_and_IDs')\n",
    "llm_combined"
   ]
  },
  {
   "cell_type": "code",
   "execution_count": 16,
   "metadata": {},
   "outputs": [
    {
     "name": "stdout",
     "output_type": "stream",
     "text": [
      "Data has been saved to D:\\RA\\BMG\\BioMedGraphica\\Entity\\Protein\\BioMedGraphica_Protein_LLM_Name_ID_Combined.csv\n"
     ]
    }
   ],
   "source": [
    "import os\n",
    "from pathlib import Path\n",
    "\n",
    "# get the current working directory\n",
    "current_working_dir = Path(os.getcwd()).resolve()\n",
    "\n",
    "# get the output directory\n",
    "grandparent_dir = current_working_dir.parent.parent.parent\n",
    "\n",
    "target_folder = grandparent_dir / 'BioMedGraphica' / 'Entity' / 'Protein'\n",
    "if not target_folder.exists():\n",
    "    target_folder.mkdir(parents=True)\n",
    "    print(f\"Folder {target_folder} has been created.\")\n",
    "\n",
    "output_file_path = target_folder / 'BioMedGraphica_Protein_LLM_Name_ID_Combined.csv'\n",
    "llm_combined.to_csv(output_file_path, index=False)\n",
    "print(f\"Data has been saved to {output_file_path}\")"
   ]
  },
  {
   "cell_type": "markdown",
   "metadata": {},
   "source": [
    "Display Name"
   ]
  },
  {
   "cell_type": "code",
   "execution_count": 17,
   "metadata": {},
   "outputs": [
    {
     "data": {
      "application/vnd.microsoft.datawrangler.viewer.v0+json": {
       "columns": [
        {
         "name": "index",
         "rawType": "int64",
         "type": "integer"
        },
        {
         "name": "BioMedGraphica_ID",
         "rawType": "object",
         "type": "string"
        },
        {
         "name": "BMG_Protein_Name",
         "rawType": "object",
         "type": "unknown"
        }
       ],
       "conversionMethod": "pd.DataFrame",
       "ref": "00136c06-69ee-4035-a8cd-a333a37cf657",
       "rows": [
        [
         "0",
         "BMG_PT000001",
         null
        ],
        [
         "1",
         "BMG_PT000002",
         null
        ],
        [
         "2",
         "BMG_PT000003",
         null
        ],
        [
         "3",
         "BMG_PT000004",
         null
        ],
        [
         "4",
         "BMG_PT000005",
         null
        ],
        [
         "5",
         "BMG_PT000006",
         null
        ],
        [
         "6",
         "BMG_PT000007",
         null
        ],
        [
         "7",
         "BMG_PT000008",
         null
        ],
        [
         "8",
         "BMG_PT000009",
         null
        ],
        [
         "9",
         "BMG_PT000010",
         null
        ],
        [
         "10",
         "BMG_PT000011",
         null
        ],
        [
         "11",
         "BMG_PT000012",
         null
        ],
        [
         "12",
         "BMG_PT000013",
         null
        ],
        [
         "13",
         "BMG_PT000014",
         null
        ],
        [
         "14",
         "BMG_PT000015",
         null
        ],
        [
         "15",
         "BMG_PT000016",
         null
        ],
        [
         "16",
         "BMG_PT000017",
         null
        ],
        [
         "17",
         "BMG_PT000018",
         null
        ],
        [
         "18",
         "BMG_PT000019",
         null
        ],
        [
         "19",
         "BMG_PT000020",
         null
        ],
        [
         "20",
         "BMG_PT000021",
         null
        ],
        [
         "21",
         "BMG_PT000022",
         null
        ],
        [
         "22",
         "BMG_PT000023",
         null
        ],
        [
         "23",
         "BMG_PT000024",
         null
        ],
        [
         "24",
         "BMG_PT000025",
         null
        ],
        [
         "25",
         "BMG_PT000026",
         null
        ],
        [
         "26",
         "BMG_PT000027",
         null
        ],
        [
         "27",
         "BMG_PT000028",
         null
        ],
        [
         "28",
         "BMG_PT000029",
         null
        ],
        [
         "29",
         "BMG_PT000030",
         null
        ],
        [
         "30",
         "BMG_PT000031",
         null
        ],
        [
         "31",
         "BMG_PT000032",
         null
        ],
        [
         "32",
         "BMG_PT000033",
         null
        ],
        [
         "33",
         "BMG_PT000034",
         null
        ],
        [
         "34",
         "BMG_PT000035",
         null
        ],
        [
         "35",
         "BMG_PT000036",
         null
        ],
        [
         "36",
         "BMG_PT000037",
         null
        ],
        [
         "37",
         "BMG_PT000038",
         null
        ],
        [
         "38",
         "BMG_PT000039",
         null
        ],
        [
         "39",
         "BMG_PT000040",
         null
        ],
        [
         "40",
         "BMG_PT000041",
         null
        ],
        [
         "41",
         "BMG_PT000042",
         null
        ],
        [
         "42",
         "BMG_PT000043",
         null
        ],
        [
         "43",
         "BMG_PT000044",
         null
        ],
        [
         "44",
         "BMG_PT000045",
         null
        ],
        [
         "45",
         "BMG_PT000046",
         null
        ],
        [
         "46",
         "BMG_PT000047",
         null
        ],
        [
         "47",
         "BMG_PT000048",
         null
        ],
        [
         "48",
         "BMG_PT000049",
         null
        ],
        [
         "49",
         "BMG_PT000050",
         null
        ]
       ],
       "shape": {
        "columns": 2,
        "rows": 173978
       }
      },
      "text/html": [
       "<div>\n",
       "<style scoped>\n",
       "    .dataframe tbody tr th:only-of-type {\n",
       "        vertical-align: middle;\n",
       "    }\n",
       "\n",
       "    .dataframe tbody tr th {\n",
       "        vertical-align: top;\n",
       "    }\n",
       "\n",
       "    .dataframe thead th {\n",
       "        text-align: right;\n",
       "    }\n",
       "</style>\n",
       "<table border=\"1\" class=\"dataframe\">\n",
       "  <thead>\n",
       "    <tr style=\"text-align: right;\">\n",
       "      <th></th>\n",
       "      <th>BioMedGraphica_ID</th>\n",
       "      <th>BMG_Protein_Name</th>\n",
       "    </tr>\n",
       "  </thead>\n",
       "  <tbody>\n",
       "    <tr>\n",
       "      <th>0</th>\n",
       "      <td>BMG_PT000001</td>\n",
       "      <td>NaN</td>\n",
       "    </tr>\n",
       "    <tr>\n",
       "      <th>1</th>\n",
       "      <td>BMG_PT000002</td>\n",
       "      <td>NaN</td>\n",
       "    </tr>\n",
       "    <tr>\n",
       "      <th>2</th>\n",
       "      <td>BMG_PT000003</td>\n",
       "      <td>NaN</td>\n",
       "    </tr>\n",
       "    <tr>\n",
       "      <th>3</th>\n",
       "      <td>BMG_PT000004</td>\n",
       "      <td>NaN</td>\n",
       "    </tr>\n",
       "    <tr>\n",
       "      <th>4</th>\n",
       "      <td>BMG_PT000005</td>\n",
       "      <td>NaN</td>\n",
       "    </tr>\n",
       "    <tr>\n",
       "      <th>...</th>\n",
       "      <td>...</td>\n",
       "      <td>...</td>\n",
       "    </tr>\n",
       "    <tr>\n",
       "      <th>173973</th>\n",
       "      <td>BMG_PT173974</td>\n",
       "      <td>CSF2RA</td>\n",
       "    </tr>\n",
       "    <tr>\n",
       "      <th>173974</th>\n",
       "      <td>BMG_PT173975</td>\n",
       "      <td>CSF2RA</td>\n",
       "    </tr>\n",
       "    <tr>\n",
       "      <th>173975</th>\n",
       "      <td>BMG_PT173976</td>\n",
       "      <td>CSF2RA</td>\n",
       "    </tr>\n",
       "    <tr>\n",
       "      <th>173976</th>\n",
       "      <td>BMG_PT173977</td>\n",
       "      <td>GTPBP6</td>\n",
       "    </tr>\n",
       "    <tr>\n",
       "      <th>173977</th>\n",
       "      <td>BMG_PT173978</td>\n",
       "      <td>IL9R</td>\n",
       "    </tr>\n",
       "  </tbody>\n",
       "</table>\n",
       "<p>173978 rows × 2 columns</p>\n",
       "</div>"
      ],
      "text/plain": [
       "       BioMedGraphica_ID BMG_Protein_Name\n",
       "0           BMG_PT000001              NaN\n",
       "1           BMG_PT000002              NaN\n",
       "2           BMG_PT000003              NaN\n",
       "3           BMG_PT000004              NaN\n",
       "4           BMG_PT000005              NaN\n",
       "...                  ...              ...\n",
       "173973      BMG_PT173974           CSF2RA\n",
       "173974      BMG_PT173975           CSF2RA\n",
       "173975      BMG_PT173976           CSF2RA\n",
       "173976      BMG_PT173977           GTPBP6\n",
       "173977      BMG_PT173978             IL9R\n",
       "\n",
       "[173978 rows x 2 columns]"
      ]
     },
     "execution_count": 17,
     "metadata": {},
     "output_type": "execute_result"
    }
   ],
   "source": [
    "display_name = biomedgraphica_protein.copy()\n",
    "\n",
    "display_name['BMG_Protein_Name'] = display_name['HGNC_Symbol'].fillna(display_name['UniProt_Name'])\n",
    "display_name = display_name[['BioMedGraphica_ID', 'BMG_Protein_Name']]\n",
    "display_name"
   ]
  },
  {
   "cell_type": "code",
   "execution_count": 18,
   "metadata": {},
   "outputs": [
    {
     "name": "stdout",
     "output_type": "stream",
     "text": [
      "Data has been saved to D:\\RA\\BMG\\BioMedGraphica\\Entity\\Protein\\BioMedGraphica_Protein_Display_Name.csv\n"
     ]
    }
   ],
   "source": [
    "import os\n",
    "from pathlib import Path\n",
    "\n",
    "# get the current working directory\n",
    "current_working_dir = Path(os.getcwd()).resolve()\n",
    "\n",
    "# get the output directory\n",
    "grandparent_dir = current_working_dir.parent.parent.parent\n",
    "\n",
    "target_folder = grandparent_dir / 'BioMedGraphica' / 'Entity' / 'Protein'\n",
    "if not target_folder.exists():\n",
    "    target_folder.mkdir(parents=True)\n",
    "    print(f\"Folder {target_folder} has been created.\")\n",
    "\n",
    "output_file_path = target_folder / 'BioMedGraphica_Protein_Display_Name.csv'\n",
    "display_name.to_csv(output_file_path, index=False)\n",
    "print(f\"Data has been saved to {output_file_path}\")"
   ]
  }
 ],
 "metadata": {
  "kernelspec": {
   "display_name": "base",
   "language": "python",
   "name": "python3"
  },
  "language_info": {
   "codemirror_mode": {
    "name": "ipython",
    "version": 3
   },
   "file_extension": ".py",
   "mimetype": "text/x-python",
   "name": "python",
   "nbconvert_exporter": "python",
   "pygments_lexer": "ipython3",
   "version": "3.9.19"
  }
 },
 "nbformat": 4,
 "nbformat_minor": 2
}
