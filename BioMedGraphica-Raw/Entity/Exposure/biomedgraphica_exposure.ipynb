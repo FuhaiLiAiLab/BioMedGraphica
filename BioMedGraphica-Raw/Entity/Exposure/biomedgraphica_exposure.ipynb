{
 "cells": [
  {
   "cell_type": "markdown",
   "metadata": {},
   "source": [
    "# BioMedGraphica Exposure"
   ]
  },
  {
   "cell_type": "markdown",
   "metadata": {},
   "source": [
    "## 1. Data Access  \n",
    "### Direct Download Links  \n",
    "**CTD**: Can be downloaded directly via the link without the need for registration. [Link](https://ctdbase.org/reports/CTD_chemicals.csv.gz)  \n",
    "**ToxCast**: Can be downloaded directly via the link without the need for registration. [Link](https://clowder.edap-cluster.com/files/6114f600e4b0856fdc65865c)"
   ]
  },
  {
   "cell_type": "markdown",
   "metadata": {},
   "source": [
    "## 2. Load Data"
   ]
  },
  {
   "cell_type": "markdown",
   "metadata": {},
   "source": [
    "### 2.1 CTD"
   ]
  },
  {
   "cell_type": "code",
   "execution_count": 1,
   "metadata": {},
   "outputs": [
    {
     "data": {
      "application/vnd.microsoft.datawrangler.viewer.v0+json": {
       "columns": [
        {
         "name": "index",
         "rawType": "int64",
         "type": "integer"
        },
        {
         "name": "reference",
         "rawType": "int64",
         "type": "integer"
        },
        {
         "name": "studyfactors",
         "rawType": "object",
         "type": "unknown"
        },
        {
         "name": "exposurestressors",
         "rawType": "object",
         "type": "string"
        },
        {
         "name": "receptors",
         "rawType": "object",
         "type": "unknown"
        },
        {
         "name": "studycountries",
         "rawType": "object",
         "type": "unknown"
        },
        {
         "name": "mediums",
         "rawType": "object",
         "type": "unknown"
        },
        {
         "name": "exposuremarkers",
         "rawType": "object",
         "type": "unknown"
        },
        {
         "name": "diseases",
         "rawType": "object",
         "type": "unknown"
        },
        {
         "name": "phenotypes",
         "rawType": "object",
         "type": "unknown"
        },
        {
         "name": "authorsummary",
         "rawType": "object",
         "type": "unknown"
        }
       ],
       "conversionMethod": "pd.DataFrame",
       "ref": "1d79b3c5-5dd9-4dab-86b9-f267e09ef27c",
       "rows": [
        [
         "0",
         "10797505",
         null,
         "Carbamates^D002219^MESH|Fungicides, Industrial^D005659^MESH|Hydrocarbons, Chlorinated^D006843^MESH|Organophosphates^D010755^MESH",
         "^^^^Workers",
         "United States",
         null,
         null,
         "Agricultural Workers' Diseases^D000382^MESH|Retinal Degeneration^D012162^MESH",
         null,
         "These results suggest that exposure to some fungicides and insecticides may increase risk of retinal degeneration."
        ],
        [
         "1",
         "10810126",
         "tobacco",
         "Formaldehyde^D005557^MESH",
         "Carcinoma, Squamous Cell^disease^D002294^MESH^Subjects with disease:|Nasopharyngeal Carcinoma^disease^D000077274^MESH^Controls for disease:|Nasopharyngeal Carcinoma^disease^D000077274^MESH^Subjects with disease:|^^^^Study subjects",
         "United States",
         null,
         "Formaldehyde^D005557^MESH",
         "Carcinoma, Squamous Cell^D002294^MESH",
         null,
         "These results support the hypothesis that occupational exposure to formaldehyde, but not wood dust, increases risk of nasopharyngeal cancer."
        ],
        [
         "2",
         "10836528",
         "age|sex",
         "Elements^D004602^MESH",
         "^^^^Children|^^^^Study subjects",
         "Bulgaria|Canada|Italy|Japan|New Zealand|United Kingdom|United States",
         "hair",
         "Aluminum^D000535^MESH|Arsenic^D001151^MESH|Cadmium^D002104^MESH|Calcium^D002118^MESH|Chromium^D002857^MESH|Cobalt^D003035^MESH|Copper^D003300^MESH|Iron^D007501^MESH|Lead^D007854^MESH|Magnesium^D008274^MESH|Manganese^D008345^MESH|Molybdenum^D008982^MESH|Nickel^D009532^MESH|Phosphorus^D010758^MESH|Selenium^D012643^MESH|Strontium^D013324^MESH|Titanium^D014025^MESH|Vanadium^D014639^MESH|Zinc^D015032^MESH",
         null,
         null,
         "Hair samples of school children from several urban areas of Rome (Italy) were analyzed to determine the content of 19 minor and trace elements with the aim of assessing reference values (and these values are compared with data from other countries); significant differences were found for certain elements depending on age and sex."
        ],
        [
         "3",
         "10882291",
         null,
         "2,4-dichlorophenol^C004762^MESH",
         "^^^^Workers",
         "France|United Kingdom|United States",
         "bile|blood|serum|stomach|urine",
         "2,4-dichlorophenol^C004762^MESH",
         "Acute Disease^D000208^MESH|Burns, Chemical^D002057^MESH|Death^D003643^MESH|Poisoning^D011041^MESH|Seizures^D012640^MESH",
         null,
         "This report describes the five deaths associated with 2,4-DCP exposure (presented in the order in which they were identified) and provides recommendations for preventing additional deaths."
        ],
        [
         "4",
         "10964793",
         null,
         "Arsenic^D001151^MESH|Cadmium^D002104^MESH|Lead^D007854^MESH",
         "^^^^Study subjects",
         "United States",
         "water, drinking",
         "Arsenic^D001151^MESH|Cadmium^D002104^MESH|Lead^D007854^MESH",
         null,
         null,
         "This work supports the hypothesis that observable within-person variability exists for arsenic (As) and lead (Pb) concentrations in drinking water, drinking water consumption, and As and Pb exposure."
        ],
        [
         "5",
         "11049814",
         "genetics",
         "Lead^D007854^MESH",
         "ALAD^gene^210^GENE^Subjects with gene influence:|^^^^Study subjects|VDR^gene^7421^GENE^Subjects with gene influence:|^^^^Workers",
         "Korea, Republic of",
         "blood|bone, tibia|urine",
         "Lead^D007854^MESH",
         null,
         null,
         "The current data confirm past observations that the ALAD gene modifies the toxicokinetics of lead and also provides new evidence that the VDR gene does so as well."
        ],
        [
         "6",
         "11170155",
         null,
         "Tetrachloroethylene^D013750^MESH",
         "^^^^Workers",
         "United States",
         null,
         null,
         "Death^D003643^MESH|Esophageal Neoplasms^D004938^MESH|Tongue Neoplasms^D014062^MESH|Uterine Cervical Neoplasms^D002583^MESH",
         null,
         "The study confirms previous findings that dry-cleaning workers have excess cancer mortality at several tissue sites, and although important lifestyle and socioeconomic risk factors exist for both cervical and esophageal cancer mortality, excesses of these sites in the perchloroethylene (PCE)-only subcohort and among workers with longer duration of PCE exposure suggest an association with PCE exposure."
        ],
        [
         "7",
         "11266329",
         null,
         "2,2',3',4,4',5-hexachlorobiphenyl^C029790^MESH|beta-hexachlorocyclohexane^C023888^MESH|Hexachlorobenzene^D006581^MESH|Hexachlorocyclohexane^D001556^MESH|Polychlorinated Biphenyls^D011078^MESH",
         "^^^^Workers",
         "Germany",
         "blood|plasma",
         "2,2',3',4,4',5-hexachlorobiphenyl^C029790^MESH|2,4,5,2',4',5'-hexachlorobiphenyl^C014024^MESH|2,4,5,2',5'-pentachlorobiphenyl^C009828^MESH|beta-hexachlorocyclohexane^C023888^MESH|Hexachlorobenzene^D006581^MESH|Hexachlorocyclohexane^D001556^MESH|IFNG^3458^GENE|IL4^3565^GENE|PCB 180^C410127^MESH",
         null,
         "interleukin-4 production^GO:0032633^GO|T-helper 1 cell cytokine production^GO:0035744^GO|type II interferon production^GO:0032609^GO",
         "Exposure to industrial chemicals is associated with only weak immunologic abnormalities; these results contrast with those obtained in earlier studies which showed a strong dose-dependent relationship with immunologic impairments; our data suggest that long-term exposure of patients to hexachlorobenzene suppresses interferon-gamma production."
        ],
        [
         "8",
         "11289128",
         "genetics",
         "Dipyrone^D004177^MESH|Propoxur^D001074^MESH",
         "^^^^Infants or newborns|KMT2A^gene^4297^GENE^Subjects with gene influence:",
         "Brazil|Chile|China|Egypt|Greece|Hong Kong|Italy|Japan",
         null,
         null,
         "Leukemia, Myeloid^D007951^MESH",
         null,
         "This study has found evidence that in utero exposure to chemicals is associated with risk of infant acute leukemia, in general, and MLL+ve disease in particular."
        ],
        [
         "9",
         "11341550",
         null,
         "Asbestos^D001194^MESH",
         "^^^^Workers",
         "Japan",
         "urine",
         "8-Hydroxy-2'-Deoxyguanosine^D000080242^MESH",
         null,
         "cellular response to oxidative stress^GO:0034599^GO",
         "We show that 8-oxodG levels in asbestos-exposed construction workers were higher (although not statistically significant), and that levels tended to correlate with duration of suspected exposure; these results suggest that even low-level asbestos exposure may induce oxidative stress."
        ],
        [
         "10",
         "11399444",
         null,
         "Agent Orange^D000075182^MESH|Defoliants, Chemical^D003678^MESH",
         "^^^^Veterans",
         "United States",
         "serum",
         "Tetrachlorodibenzodioxin^D013749^MESH",
         "Liver Diseases^D008107^MESH",
         null,
         "We found an increased risk of 'other liver disorders' among veterans with the highest dioxin levels; whether the associations observed were causal is unclear from these data."
        ],
        [
         "11",
         "11435832",
         null,
         "Agent Orange^D000075182^MESH|Defoliants, Chemical^D003678^MESH",
         "^^^^Veterans",
         "United States",
         null,
         null,
         "Prostatic Neoplasms^D011471^MESH",
         null,
         "Agent Orange may have a role in the causation of some types of cancer but we identified no significant relationship of prostate cancer with Agent Orange exposure in patients referred for prostate biopsy."
        ],
        [
         "12",
         "11453316",
         "age",
         "Asbestos, Amphibole^D017636^MESH|Asbestos^D001194^MESH",
         "Mesothelioma, Malignant^disease^D000086002^MESH^Subjects with disease:|^^^^Workers",
         "Turkey|United Kingdom",
         "biopsy",
         "CDKN1A^1026^GENE",
         null,
         null,
         "Diffuse malignant pleural mesothelioma patients with environmental asbestos exposure (vs. occupational exposure) showed more p21 (CDKN1A) immunopositivity; as well, patients with positive immunostaining had longer exposure times and were older than those having negative immunostaining."
        ],
        [
         "13",
         "11555686",
         null,
         "Propylene Glycol^D019946^MESH",
         "^^^^Study subjects",
         "Sweden",
         "air",
         "Formaldehyde^D005557^MESH|Propylene Glycol^D019946^MESH",
         "Cough^D003371^MESH|Dyspnea^D004417^MESH|Signs and Symptoms^D012816^MESH",
         null,
         "Short exposure to propylene glycol mist from artificial smoke generators may cause acute ocular and upper airway irritation in non-asthmatic subjects."
        ],
        [
         "14",
         "11665844",
         null,
         "Cyanamide^D003484^MESH|Pesticides^D010575^MESH",
         "^^^^Workers",
         "Italy",
         null,
         null,
         "Agricultural Workers' Diseases^D000382^MESH|Cardiovascular Diseases^D002318^MESH|Eye Diseases^D005128^MESH|Neurologic Manifestations^D009461^MESH|Poisoning^D011041^MESH|Signs and Symptoms, Digestive^D012817^MESH|Skin Diseases^D012871^MESH|Skin Manifestations^D012877^MESH",
         null,
         "During Jan-Feb 2001, eight cases of acute illness in the county of Ragusa (Italy) were attributed to exposure to Dormex, a plant growth regulator with hydrogen cyanamide as the active ingredient."
        ],
        [
         "15",
         "11748036",
         "sex",
         "Dichlorodiphenyl Dichloroethylene^D003633^MESH|Polychlorinated Biphenyls^D011078^MESH",
         "^^^^Study subjects|^^^^Workers",
         "United States",
         "serum",
         "Dichlorodiphenyl Dichloroethylene^D003633^MESH|Polychlorinated Biphenyls^D011078^MESH",
         null,
         "response to steroid hormone^GO:0048545^GO|thyroid hormone metabolic process^GO:0042403^GO",
         "Results from this study suggest that polychlorinated biphenyl exposure and Great Lakes fish consumption are associated with decreased levels of thyroxine and free thyroxine index. The relationships overall are stronger in women than in men."
        ],
        [
         "16",
         "11874814",
         "disease",
         "2,4-Dichlorophenoxyacetic Acid^D015084^MESH|alachlor^C000188^MESH|Aldicarb^D000448^MESH|aluminum phosphide^C001864^MESH|Atrazine^D001280^MESH|Benomyl^D001542^MESH|butylate^C023898^MESH|Captan^D002215^MESH|Carbaryl^D012721^MESH|Carbofuran^D002235^MESH|chlorimuron ethyl^C112343^MESH|Chlorpyrifos^D004390^MESH|Coumaphos^D003372^MESH|cyanazine^C007168^MESH|Diazinon^D003976^MESH|Dicamba^D003996^MESH|Dichlorvos^D004006^MESH|EPTC^C036251^MESH|Fonofos^D004397^MESH|Glyphosate^D000097797^MESH|Hexachlorocyclohexane^D001556^MESH|imazethapyr^C093630^MESH|Malathion^D008294^MESH|Maneb^D008344^MESH|metalaxyl^C028175^MESH|metolachlor^C051786^MESH|metribuzin^C009235^MESH|Paraquat^D010269^MESH|Parathion^D010278^MESH|pendimethalin^C030856^MESH|Permethrin^D026023^MESH|Petroleum^D010578^MESH|Phorate^D010702^MESH|terbufos^C012568^MESH|tetrachloroisophthalonitrile^C005806^MESH|Trichlorfon^D014236^MESH|Trifluralin^D014274^MESH|Ziram^D015039^MESH",
         "Asthma^disease^D001249^MESH^Subjects with disease:|Ige Responsiveness, Atopic^disease^C564133^MESH^Subjects with disease:|^^^^Workers",
         "United States",
         null,
         null,
         "Agricultural Workers' Diseases^D000382^MESH|Respiratory Sounds^D012135^MESH",
         null,
         "Prevalence of wheeze was associated with individual pesticides independent of animals, crops, and grains."
        ],
        [
         "17",
         "11920964",
         "race",
         "Pesticides^D010575^MESH",
         "^^^^Workers",
         "United States",
         null,
         null,
         "Agricultural Workers' Diseases^D000382^MESH",
         null,
         "This paper describes the pesticide use profile and occurrence of pesticide-related health symptoms among black farmers as compared to white farmers who are part of a large cohort of licensed pesticide applicators."
        ],
        [
         "18",
         "11956123",
         null,
         "Arsenic^D001151^MESH",
         "^^^^Study subjects",
         "Taiwan, Province of China",
         null,
         "Arsenic^D001151^MESH",
         "Carotid Artery Diseases^D002340^MESH",
         null,
         "Carotid atherosclerosis is associated with ingested inorganic arsenic, showing a significant biological gradient."
        ],
        [
         "19",
         "12003754",
         null,
         "Pesticides^D010575^MESH",
         "^^^^Pregnant females",
         "United States",
         "air",
         "2-phenylphenol^C004369^MESH|Aldrin^D000452^MESH|Carbaryl^D012721^MESH|Chlordan^D002706^MESH|Chlorpyrifos^D004390^MESH|cyfluthrin^C052570^MESH|DDT^D003634^MESH|Diazinon^D003976^MESH|Dichlorodiphenyl Dichloroethylene^D003633^MESH|Dichlorvos^D004006^MESH|Dicofol^D004010^MESH|Dieldrin^D004026^MESH|Endosulfan^D004726^MESH|Endrin^D004732^MESH|folpet^C005020^MESH|Heptachlor^D006533^MESH|Hexachlorocyclohexane^D001556^MESH|Malathion^D008294^MESH|Methoxychlor^D008731^MESH|Methyl Parathion^D008743^MESH|nonachlor^C001870^MESH|Permethrin^D026023^MESH|Piperonyl Butoxide^D010882^MESH|Propoxur^D001074^MESH",
         null,
         null,
         "These results show widespread pesticide use and exposure during pregnancy among a cohort of African-American and Dominican women from minority communities of New York City."
        ],
        [
         "20",
         "12117638",
         null,
         "Tetrachlorodibenzodioxin^D013749^MESH",
         "Endometriosis^disease^D004715^MESH^Controls for disease:|Endometriosis^disease^D004715^MESH^Subjects with disease:|^^^^Study subjects",
         "Italy",
         "serum",
         "Tetrachlorodibenzodioxin^D013749^MESH",
         "Endometriosis^D004715^MESH",
         null,
         "In summary, we found a doubled, nonsignificant, risk for endometriosis among women with serum TCDD levels of >= 100 parts per trillion."
        ],
        [
         "21",
         "12151470",
         null,
         "Dust^D004391^MESH|Flavoring Agents^D005421^MESH",
         "^^^^Workers",
         "United States",
         "air, indoor",
         "Diacetyl^D003931^MESH|Dust^D004391^MESH",
         "Airway Obstruction^D000402^MESH|Bronchiolitis Obliterans^D001989^MESH|Occupational Diseases^D009784^MESH",
         null,
         "The excess rates of lung disease and lung-function abnormalities and the relation between exposure and outcomes in this working population indicate that they probably had occupational bronchiolitis obliterans caused by the inhalation of volatile butter-flavoring ingredients."
        ],
        [
         "22",
         "12173534",
         null,
         "Air Pollutants, Occupational^D000395^MESH",
         "^^^^Workers",
         "Turkey",
         "blood",
         "Lead^D007854^MESH",
         null,
         null,
         "We report the blood lead levels of traffic policemen in Bursa (Turkey), and find a difference between the levels in policemen working outdoors vs indoors."
        ],
        [
         "23",
         "12409534",
         null,
         "Isocyanates^D017953^MESH",
         "^^^^Workers",
         "United Kingdom",
         null,
         null,
         "Lung Neoplasms^D008175^MESH|Respiratory Tract Diseases^D012140^MESH",
         null,
         "The study has been unable to link isocyanate exposed employment either with risks of lung cancer or with risks of non-malignant diseases of the respiratory system."
        ],
        [
         "24",
         "12415488",
         "diet",
         "Carbaryl^D012721^MESH|Chlorpyrifos^D004390^MESH|naphthalene^C031721^MESH|Pentachlorophenol^D010416^MESH|Pesticides^D010575^MESH",
         "^^^^Study subjects",
         "United States",
         "urine",
         "1-naphthol^C029350^MESH|2-isopropoxyphenol^C022025^MESH|3,5,6-trichloro-2-pyridinol^C012587^MESH|4-nitrophenol^C024836^MESH|Pentachlorophenol^D010416^MESH",
         null,
         null,
         "The main objective of our study was to determine whether we could use data from the Third National Health and Nutrition Examination Survey (NHANES III) to detect a relation between self-reported food consumption (particularly consumption of fruits, vegetables, and bread products) and urinary levels of pesticides or their metabolites in a population of 978 adults living in the US."
        ],
        [
         "25",
         "12505429",
         null,
         "Arsenic^D001151^MESH",
         "^^^^Study subjects",
         "Taiwan, Province of China",
         null,
         "Arsenic^D001151^MESH",
         "Myocardial Ischemia^D017202^MESH",
         null,
         "It is concluded that ischemic heart disease in the arseniasis-hyperendemic villages in Taiwan was associated with long-term arsenic exposure."
        ],
        [
         "26",
         "12641193",
         null,
         "Lead^D007854^MESH",
         "^^^^Fetuses|^^^^Infants or newborns|^^^^Mothers",
         "Mexico",
         "blood|blood, cord|bone, patella|bone, tibia",
         "Lead^D007854^MESH",
         "Prenatal Exposure Delayed Effects^D011297^MESH",
         "head development^GO:0060322^GO",
         "In our report, we found that KXRF-measured maternal bone lead was associated with birth length and head circumference of the newborn-an effect that persisted after adjustment for birth weight."
        ],
        [
         "27",
         "12653458",
         null,
         "tetramethylenedisulfotetramine^C010349^MESH",
         "^^^^Infants or newborns",
         "United States",
         null,
         null,
         "Neurotoxicity Syndromes^D020258^MESH",
         null,
         "This report describes the first known case in the United States of exposure to a Chinese rodenticide containing the toxin tetramethylenedisulfotetramine (TETS), a convulsant poison."
        ],
        [
         "28",
         "12661183",
         null,
         "perfluorooctane sulfonic acid^C076994^MESH|perfluorooctanoic acid^C023036^MESH",
         "^^^^Workers",
         "United States",
         "serum",
         "perfluorooctane sulfonic acid^C076994^MESH|perfluorooctanoic acid^C023036^MESH",
         null,
         null,
         "Male and female employees of two perfluorooctanyl-manufacturing locations (Antwerp, Belgium and Decatur, Alabama) participated in a periodic medical surveillance program that included hematology, clinical chemistry, thyroid hormone, and urinalysis testing."
        ],
        [
         "29",
         "12727674",
         "age",
         "butylate^C023898^MESH|Chlorpyrifos^D004390^MESH|Coumaphos^D003372^MESH|Fonofos^D004397^MESH|methyl bromide^C005218^MESH|Permethrin^D026023^MESH|Phorate^D010702^MESH",
         "^^^^Workers",
         "United States",
         null,
         null,
         "Agricultural Workers' Diseases^D000382^MESH|Prostatic Neoplasms^D011471^MESH",
         null,
         "Use of chlorinated pesticides among applicators over 50 years of age and methyl bromide use were significantly associated with prostate cancer risk."
        ],
        [
         "30",
         "12777181",
         null,
         "Styrene^D020058^MESH",
         "^^^^Study subjects",
         "Spain",
         "water, drinking",
         "Styrene^D020058^MESH|Toluene^D014050^MESH",
         "Acute Disease^D000208^MESH|Eye Diseases^D005128^MESH|Gastrointestinal Diseases^D005767^MESH|Respiratory Tract Diseases^D012140^MESH|Skin Diseases^D012871^MESH",
         null,
         "This accidental contamination led to very high styrene concentrations in water and was related to a high prevalence of subjective symptoms of the eyes, respiratory tract and skin."
        ],
        [
         "31",
         "12782494",
         null,
         "Chlordan^D002706^MESH|Dichlorodiphenyl Dichloroethylene^D003633^MESH|Hexachlorobenzene^D006581^MESH|oxychlordane^C008743^MESH|Polychlorinated Biphenyls^D011078^MESH",
         "^^^^Mothers|Testicular Neoplasms^disease^D013736^MESH^Controls for disease:|Testicular Neoplasms^disease^D013736^MESH^Subjects with disease:",
         "Sweden",
         "blood",
         "Chlordan^D002706^MESH|Dichlorodiphenyl Dichloroethylene^D003633^MESH|Hexachlorobenzene^D006581^MESH|oxychlordane^C008743^MESH|Polychlorinated Biphenyls^D011078^MESH",
         "Prenatal Exposure Delayed Effects^D011297^MESH|Testicular Neoplasms^D013736^MESH",
         null,
         "Blood concentrations of certain persistent organic pollutants are higher in mothers of patients with testicular cancer (case mothers) compared to mothers of subjects without testicular cancer (control mothers), supporiting the possibility that the disease might be initiated from exposure during the fetal period."
        ],
        [
         "32",
         "12782497",
         null,
         "Tetrachlorodibenzodioxin^D013749^MESH",
         "^^^^Study subjects",
         "Italy",
         "serum",
         "Tetrachlorodibenzodioxin^D013749^MESH",
         "Abortion, Spontaneous^D000022^MESH|Prenatal Exposure Delayed Effects^D011297^MESH",
         null,
         "We report the lack of an association between maternal serum levels of TCDD and adverse birth outcomes in the cohort of women exposed to dioxin in Seveso, Italy. However, associations of TCDD and lowered birth weight and SGA are somewhat stronger, albeit nonsignificant, for those pregnancies occurring in the first TCDD half-life (within 8 years) after the explosion."
        ],
        [
         "33",
         "12819278",
         null,
         "hexachlorobutadiene^C001335^MESH",
         "^^^^Study subjects",
         "United Kingdom",
         null,
         null,
         "Kidney Diseases^D007674^MESH|Proteinuria^D011507^MESH",
         "gene expression^GO:0010467^GO",
         "This longitudinal study has shown that about half of the adults exposed to hexachlorobutadiene showed evidence of a subclinical proximal tubular effect. Similarly, about a quarter of adults displayed a distal tubular effect."
        ],
        [
         "34",
         "12819287",
         null,
         "Radioactive Pollutants^D011848^MESH",
         "^^^^Study subjects",
         "Spain",
         null,
         null,
         "Neoplasms^D009369^MESH",
         null,
         "There is an association between proximity of residence to Trillo and cancer risk, although the limitations of the study should be kept in mind when interpreting the possible causal relation."
        ],
        [
         "35",
         "12842765",
         null,
         "Diethylhexyl Phthalate^D004051^MESH|phthalic acid^C032279^MESH",
         "^^^^Study subjects",
         "United States",
         "urine",
         "mono(2-ethyl-5-hydroxyhexyl) phthalate^C479069^MESH|mono(2-ethyl-5-oxohexyl)phthalate^C080276^MESH|mono-(2-ethylhexyl)phthalate^C016599^MESH|mono-benzyl phthalate^C103325^MESH|monobutyl phthalate^C028577^MESH|monoethyl phthalate^C581825^MESH",
         null,
         null,
         "We evaluated exposure to di-(2-ethylhexyl) phthalate in 62 persons, children and adults, by measuring mono-(2-ethylhexyl) phthalate, mono-(2-ethyl-5-oxohexyl) phthalate, and mono-(2-ethyl-5-hydroxyhexyl) phthalate in urine using an adaptation of our isotope dilution HPLC-tandem mass spectrometry method."
        ],
        [
         "36",
         "12842770",
         null,
         "2,2',4,4'-tetrabromodiphenyl ether^C511295^MESH|2,4,5,2',4',5'-hexachlorobiphenyl^C014024^MESH",
         "^^^^Study subjects",
         "United States",
         "adipose tissue|serum",
         "2,2',4,4'-tetrabromodiphenyl ether^C511295^MESH|2,4,5,2',4',5'-hexachlorobiphenyl^C014024^MESH",
         null,
         null,
         "In this article, we report on additional polybrominated diphenyl ether measurements in adipose and serum from diverse groups of California women, in an effort to better understand sources and pathways leading to the observed high levels."
        ],
        [
         "37",
         "12842775",
         null,
         "Metals, Heavy^D019216^MESH|Particulate Matter^D052638^MESH|Smog^D012905^MESH",
         "^^^^Study subjects",
         "United Kingdom",
         null,
         null,
         "Death^D003643^MESH|Heart Diseases^D006331^MESH|Pulmonary Disease, Chronic Obstructive^D029424^MESH|Respiratory Tract Diseases^D012140^MESH",
         null,
         "We have located and analyzed rare archival tissue samples that provide otherwise unavailable clues to the nature of the fatal PM exposures in the 1952 London smog."
        ],
        [
         "38",
         "12842778",
         null,
         "Lead^D007854^MESH",
         null,
         "United States",
         "dust|paint",
         "Lead^D007854^MESH",
         null,
         null,
         "In this article we describe the study sites, demolition processes, changes in exterior dustfall lead loadings, and concentrations in close proximity to the demolition sites (within 10 m) and discuss the public health significance of the findings and implications for future demolition activities."
        ],
        [
         "39",
         "12842781",
         null,
         "2,2',3,4,4',5',6-heptabromodiphenyl ether^C483839^MESH|2,2',4,4',5-brominated diphenyl ether^C477694^MESH|2,2',4,4'-tetrabromodiphenyl ether^C511295^MESH|Halogenated Diphenyl Ethers^D055768^MESH|hexabrominated diphenyl ether 153^C517828^MESH|hexabromodiphenyl ether 154^C533761^MESH|pentabrominated diphenyl ether 100^C517827^MESH",
         "^^^^Fetuses|^^^^Pregnant females",
         "United States",
         "blood, cord|serum",
         "2,2',3,4,4',5',6-heptabromodiphenyl ether^C483839^MESH|2,2',4,4',5-brominated diphenyl ether^C477694^MESH|2,2',4,4'-tetrabromodiphenyl ether^C511295^MESH|Halogenated Diphenyl Ethers^D055768^MESH|hexabrominated diphenyl ether 153^C517828^MESH|hexabromodiphenyl ether 154^C533761^MESH|pentabrominated diphenyl ether 100^C517827^MESH",
         null,
         null,
         "This is the first report of polybrominated diphenyl ether blood levels in pregnant women and their fetuses from the United States."
        ],
        [
         "40",
         "12842782",
         null,
         "2,4,5,2',4',5'-hexachlorobiphenyl^C014024^MESH",
         "^^^^Infants or newborns|^^^^Mothers",
         "Canada",
         "blood, cord|milk, human|plasma",
         "2,4,5,2',4',5'-hexachlorobiphenyl^C014024^MESH",
         null,
         null,
         "Our study aimed to compare different biomarkers of prenatal polychlorinated biphenyl (PCB) exposure and models to predict PCB plasma lipid concentration in 6-month-old infants, using data from the Inuit Cohort Study."
        ],
        [
         "41",
         "12842783",
         "sex",
         "Herbicides^D006540^MESH",
         "^^^^Infants or newborns",
         "United States",
         null,
         null,
         "Congenital Abnormalities^D000013^MESH",
         null,
         "Results from this study indicate that in rural, agricultural counties where wheat acreage occupies a larger percentage of the land and where use of chlorophenoxy herbicides is higher, anomalies of the circulatory/respiratory and musculoskeletal/integumental system significantly increased."
        ],
        [
         "42",
         "12844364",
         null,
         "Methylmercury Compounds^D008767^MESH",
         "^^^^Study subjects",
         "Brazil",
         "hair",
         "Methylmercury Compounds^D008767^MESH",
         "Cognition Disorders^D003072^MESH|Mercury Poisoning, Nervous System^D020262^MESH",
         "cognition^GO:0050890^GO",
         "This study suggests that adults exposed to methylmercury may be at risk for deficits in neurocognitive function."
        ],
        [
         "43",
         "12882940",
         "disease|race|sex|socioeconomic status",
         "allergen Bla g 1^C105482^MESH|Allergens^D000485^MESH|Nitrogen Dioxide^D009585^MESH",
         "^^^^Infants or newborns",
         "United States",
         null,
         null,
         "Cough^D003371^MESH|Respiratory Sounds^D012135^MESH",
         null,
         "In a cohort of 849 infants with an asthmatic sibling, the authors examined the relations of exposure to allergens (dust mite, cockroach, cat, and dog), nitrogen dioxide, and mold with symptoms of wheeze and persistent cough in the first year of life (1998-2000)."
        ],
        [
         "44",
         "12883022",
         null,
         "Monoterpenes^D039821^MESH|Styrene^D020058^MESH",
         "^^^^Workers",
         "Sweden",
         "air|urine",
         "mandelic acid^C037938^MESH|Monoterpenes^D039821^MESH|Styrene^D020058^MESH|verbenol^C009951^MESH",
         null,
         null,
         "Personal air samplers provide data with similar or superior quality to urinary metabolites as measures of exposure to these monoterpenes in sawmills and styrene in reinforced plastics factories."
        ],
        [
         "45",
         "12893620",
         null,
         "Fungicides, Industrial^D005659^MESH|Herbicides^D006540^MESH|Insecticides^D007306^MESH|Pesticides^D010575^MESH|Rodenticides^D012378^MESH",
         "^^^^Children",
         "United States",
         null,
         "Fungicides, Industrial^D005659^MESH|Herbicides^D006540^MESH|Insecticides^D007306^MESH|Pesticides^D010575^MESH|Rodenticides^D012378^MESH",
         null,
         null,
         "The authors reviewed all pesticide exposures among children younger than 6 years reported to the South Texas Poison Center during 1997 through 2000."
        ],
        [
         "46",
         "12896852",
         "sex",
         "Carbon Monoxide^D002248^MESH|Nitrogen Dioxide^D009585^MESH|Ozone^D010126^MESH|Particulate Matter^D052638^MESH|Sulfur Dioxide^D013458^MESH",
         "^^^^Study subjects",
         "United States",
         "air",
         "Carbon Monoxide^D002248^MESH|Nitrogen Dioxide^D009585^MESH|Ozone^D010126^MESH|Sulfur Dioxide^D013458^MESH",
         "Arrhythmias, Cardiac^D001145^MESH|Atherosclerosis^D050197^MESH|Heart Failure^D006333^MESH|Myocardial Infarction^D009203^MESH|Pulmonary Heart Disease^D011660^MESH",
         null,
         "In summary, the results of this study in Denver suggest that ozone increases the risk of hospitalization for acute myocardial infarction, coronary atherosclerosis, and pulmonary heart disease. Sulfur dioxide appears to be related to increased hospital stays for cardiac dysrhythmias, and carbon monoxide is significantly associated with congestive heart failure hospitalization."
        ],
        [
         "47",
         "12915503",
         "socioeconomic status|tobacco",
         "Tobacco Smoke Pollution^D014028^MESH",
         "^^^^Children",
         "Greenland",
         null,
         null,
         "Respiratory Tract Infections^D012141^MESH",
         null,
         "The present study is the first population-based prospective study of risk factors for acute respiratory infections in Inuit children based on active surveillance."
        ],
        [
         "48",
         "12916744",
         null,
         "Agent Orange^D000075182^MESH",
         "^^^^Veterans",
         "Vietnam",
         null,
         null,
         "Diabetes Mellitus^D003920^MESH|Eczema^D004485^MESH|Heart Valve Diseases^D006349^MESH|Hypertension^D006973^MESH|Myocardial Ischemia^D017202^MESH|Peripheral Nervous System Diseases^D010523^MESH|Radiculopathy^D011843^MESH|Retinal Diseases^D012164^MESH",
         null,
         "We conclude that exposure to Agent Orange is associated with various health impacts in Korean Vietnam veterans."
        ],
        [
         "49",
         "12934964",
         null,
         "Arsenic^D001151^MESH",
         "^^^^Study subjects",
         "Mongolia",
         "water, well",
         "Arsenic^D001151^MESH",
         "Abortion, Spontaneous^D000022^MESH|Arrhythmias, Cardiac^D001145^MESH|Cough^D003371^MESH|Skin Diseases^D012871^MESH|Stomach Diseases^D013272^MESH|Urinary Bladder Diseases^D001745^MESH",
         null,
         "The present study indicated that there was a high odds ratio of subjective symptoms including cough, stomachache, palpitations, urination  problems and spontaneous abortion amongst residents in the arsenic-affected village."
        ]
       ],
       "shape": {
        "columns": 10,
        "rows": 3539
       }
      },
      "text/html": [
       "<div>\n",
       "<style scoped>\n",
       "    .dataframe tbody tr th:only-of-type {\n",
       "        vertical-align: middle;\n",
       "    }\n",
       "\n",
       "    .dataframe tbody tr th {\n",
       "        vertical-align: top;\n",
       "    }\n",
       "\n",
       "    .dataframe thead th {\n",
       "        text-align: right;\n",
       "    }\n",
       "</style>\n",
       "<table border=\"1\" class=\"dataframe\">\n",
       "  <thead>\n",
       "    <tr style=\"text-align: right;\">\n",
       "      <th></th>\n",
       "      <th>reference</th>\n",
       "      <th>studyfactors</th>\n",
       "      <th>exposurestressors</th>\n",
       "      <th>receptors</th>\n",
       "      <th>studycountries</th>\n",
       "      <th>mediums</th>\n",
       "      <th>exposuremarkers</th>\n",
       "      <th>diseases</th>\n",
       "      <th>phenotypes</th>\n",
       "      <th>authorsummary</th>\n",
       "    </tr>\n",
       "  </thead>\n",
       "  <tbody>\n",
       "    <tr>\n",
       "      <th>0</th>\n",
       "      <td>10797505</td>\n",
       "      <td>NaN</td>\n",
       "      <td>Carbamates^D002219^MESH|Fungicides, Industrial...</td>\n",
       "      <td>^^^^Workers</td>\n",
       "      <td>United States</td>\n",
       "      <td>NaN</td>\n",
       "      <td>NaN</td>\n",
       "      <td>Agricultural Workers' Diseases^D000382^MESH|Re...</td>\n",
       "      <td>NaN</td>\n",
       "      <td>These results suggest that exposure to some fu...</td>\n",
       "    </tr>\n",
       "    <tr>\n",
       "      <th>1</th>\n",
       "      <td>10810126</td>\n",
       "      <td>tobacco</td>\n",
       "      <td>Formaldehyde^D005557^MESH</td>\n",
       "      <td>Carcinoma, Squamous Cell^disease^D002294^MESH^...</td>\n",
       "      <td>United States</td>\n",
       "      <td>NaN</td>\n",
       "      <td>Formaldehyde^D005557^MESH</td>\n",
       "      <td>Carcinoma, Squamous Cell^D002294^MESH</td>\n",
       "      <td>NaN</td>\n",
       "      <td>These results support the hypothesis that occu...</td>\n",
       "    </tr>\n",
       "    <tr>\n",
       "      <th>2</th>\n",
       "      <td>10836528</td>\n",
       "      <td>age|sex</td>\n",
       "      <td>Elements^D004602^MESH</td>\n",
       "      <td>^^^^Children|^^^^Study subjects</td>\n",
       "      <td>Bulgaria|Canada|Italy|Japan|New Zealand|United...</td>\n",
       "      <td>hair</td>\n",
       "      <td>Aluminum^D000535^MESH|Arsenic^D001151^MESH|Cad...</td>\n",
       "      <td>NaN</td>\n",
       "      <td>NaN</td>\n",
       "      <td>Hair samples of school children from several u...</td>\n",
       "    </tr>\n",
       "    <tr>\n",
       "      <th>3</th>\n",
       "      <td>10882291</td>\n",
       "      <td>NaN</td>\n",
       "      <td>2,4-dichlorophenol^C004762^MESH</td>\n",
       "      <td>^^^^Workers</td>\n",
       "      <td>France|United Kingdom|United States</td>\n",
       "      <td>bile|blood|serum|stomach|urine</td>\n",
       "      <td>2,4-dichlorophenol^C004762^MESH</td>\n",
       "      <td>Acute Disease^D000208^MESH|Burns, Chemical^D00...</td>\n",
       "      <td>NaN</td>\n",
       "      <td>This report describes the five deaths associat...</td>\n",
       "    </tr>\n",
       "    <tr>\n",
       "      <th>4</th>\n",
       "      <td>10964793</td>\n",
       "      <td>NaN</td>\n",
       "      <td>Arsenic^D001151^MESH|Cadmium^D002104^MESH|Lead...</td>\n",
       "      <td>^^^^Study subjects</td>\n",
       "      <td>United States</td>\n",
       "      <td>water, drinking</td>\n",
       "      <td>Arsenic^D001151^MESH|Cadmium^D002104^MESH|Lead...</td>\n",
       "      <td>NaN</td>\n",
       "      <td>NaN</td>\n",
       "      <td>This work supports the hypothesis that observa...</td>\n",
       "    </tr>\n",
       "    <tr>\n",
       "      <th>...</th>\n",
       "      <td>...</td>\n",
       "      <td>...</td>\n",
       "      <td>...</td>\n",
       "      <td>...</td>\n",
       "      <td>...</td>\n",
       "      <td>...</td>\n",
       "      <td>...</td>\n",
       "      <td>...</td>\n",
       "      <td>...</td>\n",
       "      <td>...</td>\n",
       "    </tr>\n",
       "    <tr>\n",
       "      <th>3534</th>\n",
       "      <td>9038805</td>\n",
       "      <td>NaN</td>\n",
       "      <td>Pesticides^D010575^MESH</td>\n",
       "      <td>^^^^Workers</td>\n",
       "      <td>United Kingdom</td>\n",
       "      <td>NaN</td>\n",
       "      <td>NaN</td>\n",
       "      <td>Death^D003643^MESH|Neoplasms^D009369^MESH</td>\n",
       "      <td>NaN</td>\n",
       "      <td>A 15-year follow up of a group of pest control...</td>\n",
       "    </tr>\n",
       "    <tr>\n",
       "      <th>3535</th>\n",
       "      <td>9171992</td>\n",
       "      <td>NaN</td>\n",
       "      <td>2,4-Dichlorophenoxyacetic Acid^D015084^MESH|2-...</td>\n",
       "      <td>^^^^Pregnant females</td>\n",
       "      <td>United States</td>\n",
       "      <td>water, drinking</td>\n",
       "      <td>2,4-Dichlorophenoxyacetic Acid^D015084^MESH|2-...</td>\n",
       "      <td>Fetal Growth Retardation^D005317^MESH</td>\n",
       "      <td>NaN</td>\n",
       "      <td>We conclude that communities in southern Iowa ...</td>\n",
       "    </tr>\n",
       "    <tr>\n",
       "      <th>3536</th>\n",
       "      <td>9554605</td>\n",
       "      <td>NaN</td>\n",
       "      <td>Arsenic^D001151^MESH</td>\n",
       "      <td>^^^^Study subjects</td>\n",
       "      <td>Chile</td>\n",
       "      <td>water, drinking</td>\n",
       "      <td>Arsenic^D001151^MESH</td>\n",
       "      <td>Death^D003643^MESH|Kidney Neoplasms^D007680^ME...</td>\n",
       "      <td>NaN</td>\n",
       "      <td>In conclusion, markedly increased cancer risks...</td>\n",
       "    </tr>\n",
       "    <tr>\n",
       "      <th>3537</th>\n",
       "      <td>9709993</td>\n",
       "      <td>tobacco</td>\n",
       "      <td>Air Pollutants, Occupational^D000395^MESH</td>\n",
       "      <td>^^^^Workers</td>\n",
       "      <td>Greece</td>\n",
       "      <td>blood</td>\n",
       "      <td>GOT1^2805^GENE|GPT^2875^GENE|Lead^D007854^MESH</td>\n",
       "      <td>NaN</td>\n",
       "      <td>NaN</td>\n",
       "      <td>Blood lead levels and other parameters are rep...</td>\n",
       "    </tr>\n",
       "    <tr>\n",
       "      <th>3538</th>\n",
       "      <td>9931084</td>\n",
       "      <td>NaN</td>\n",
       "      <td>Arsenic^D001151^MESH</td>\n",
       "      <td>^^^^Study subjects</td>\n",
       "      <td>Bangladesh</td>\n",
       "      <td>NaN</td>\n",
       "      <td>Arsenic^D001151^MESH</td>\n",
       "      <td>Hypertension^D006973^MESH</td>\n",
       "      <td>NaN</td>\n",
       "      <td>The result of this study demonstrates a dose-r...</td>\n",
       "    </tr>\n",
       "  </tbody>\n",
       "</table>\n",
       "<p>3539 rows × 10 columns</p>\n",
       "</div>"
      ],
      "text/plain": [
       "      reference studyfactors  \\\n",
       "0      10797505          NaN   \n",
       "1      10810126      tobacco   \n",
       "2      10836528      age|sex   \n",
       "3      10882291          NaN   \n",
       "4      10964793          NaN   \n",
       "...         ...          ...   \n",
       "3534    9038805          NaN   \n",
       "3535    9171992          NaN   \n",
       "3536    9554605          NaN   \n",
       "3537    9709993      tobacco   \n",
       "3538    9931084          NaN   \n",
       "\n",
       "                                      exposurestressors  \\\n",
       "0     Carbamates^D002219^MESH|Fungicides, Industrial...   \n",
       "1                             Formaldehyde^D005557^MESH   \n",
       "2                                 Elements^D004602^MESH   \n",
       "3                       2,4-dichlorophenol^C004762^MESH   \n",
       "4     Arsenic^D001151^MESH|Cadmium^D002104^MESH|Lead...   \n",
       "...                                                 ...   \n",
       "3534                            Pesticides^D010575^MESH   \n",
       "3535  2,4-Dichlorophenoxyacetic Acid^D015084^MESH|2-...   \n",
       "3536                               Arsenic^D001151^MESH   \n",
       "3537          Air Pollutants, Occupational^D000395^MESH   \n",
       "3538                               Arsenic^D001151^MESH   \n",
       "\n",
       "                                              receptors  \\\n",
       "0                                           ^^^^Workers   \n",
       "1     Carcinoma, Squamous Cell^disease^D002294^MESH^...   \n",
       "2                       ^^^^Children|^^^^Study subjects   \n",
       "3                                           ^^^^Workers   \n",
       "4                                    ^^^^Study subjects   \n",
       "...                                                 ...   \n",
       "3534                                        ^^^^Workers   \n",
       "3535                               ^^^^Pregnant females   \n",
       "3536                                 ^^^^Study subjects   \n",
       "3537                                        ^^^^Workers   \n",
       "3538                                 ^^^^Study subjects   \n",
       "\n",
       "                                         studycountries  \\\n",
       "0                                         United States   \n",
       "1                                         United States   \n",
       "2     Bulgaria|Canada|Italy|Japan|New Zealand|United...   \n",
       "3                   France|United Kingdom|United States   \n",
       "4                                         United States   \n",
       "...                                                 ...   \n",
       "3534                                     United Kingdom   \n",
       "3535                                      United States   \n",
       "3536                                              Chile   \n",
       "3537                                             Greece   \n",
       "3538                                         Bangladesh   \n",
       "\n",
       "                             mediums  \\\n",
       "0                                NaN   \n",
       "1                                NaN   \n",
       "2                               hair   \n",
       "3     bile|blood|serum|stomach|urine   \n",
       "4                    water, drinking   \n",
       "...                              ...   \n",
       "3534                             NaN   \n",
       "3535                 water, drinking   \n",
       "3536                 water, drinking   \n",
       "3537                           blood   \n",
       "3538                             NaN   \n",
       "\n",
       "                                        exposuremarkers  \\\n",
       "0                                                   NaN   \n",
       "1                             Formaldehyde^D005557^MESH   \n",
       "2     Aluminum^D000535^MESH|Arsenic^D001151^MESH|Cad...   \n",
       "3                       2,4-dichlorophenol^C004762^MESH   \n",
       "4     Arsenic^D001151^MESH|Cadmium^D002104^MESH|Lead...   \n",
       "...                                                 ...   \n",
       "3534                                                NaN   \n",
       "3535  2,4-Dichlorophenoxyacetic Acid^D015084^MESH|2-...   \n",
       "3536                               Arsenic^D001151^MESH   \n",
       "3537     GOT1^2805^GENE|GPT^2875^GENE|Lead^D007854^MESH   \n",
       "3538                               Arsenic^D001151^MESH   \n",
       "\n",
       "                                               diseases phenotypes  \\\n",
       "0     Agricultural Workers' Diseases^D000382^MESH|Re...        NaN   \n",
       "1                 Carcinoma, Squamous Cell^D002294^MESH        NaN   \n",
       "2                                                   NaN        NaN   \n",
       "3     Acute Disease^D000208^MESH|Burns, Chemical^D00...        NaN   \n",
       "4                                                   NaN        NaN   \n",
       "...                                                 ...        ...   \n",
       "3534          Death^D003643^MESH|Neoplasms^D009369^MESH        NaN   \n",
       "3535              Fetal Growth Retardation^D005317^MESH        NaN   \n",
       "3536  Death^D003643^MESH|Kidney Neoplasms^D007680^ME...        NaN   \n",
       "3537                                                NaN        NaN   \n",
       "3538                          Hypertension^D006973^MESH        NaN   \n",
       "\n",
       "                                          authorsummary  \n",
       "0     These results suggest that exposure to some fu...  \n",
       "1     These results support the hypothesis that occu...  \n",
       "2     Hair samples of school children from several u...  \n",
       "3     This report describes the five deaths associat...  \n",
       "4     This work supports the hypothesis that observa...  \n",
       "...                                                 ...  \n",
       "3534  A 15-year follow up of a group of pest control...  \n",
       "3535  We conclude that communities in southern Iowa ...  \n",
       "3536  In conclusion, markedly increased cancer risks...  \n",
       "3537  Blood lead levels and other parameters are rep...  \n",
       "3538  The result of this study demonstrates a dose-r...  \n",
       "\n",
       "[3539 rows x 10 columns]"
      ]
     },
     "execution_count": 1,
     "metadata": {},
     "output_type": "execute_result"
    }
   ],
   "source": [
    "# https://ctdbase.org/reports/CTD_exposure_studies.csv.gz\n",
    "\n",
    "import pandas as pd\n",
    "\n",
    "ctd_exposure_study = pd.read_csv('CTD_exposure_studies.csv', comment='#', names=[\n",
    "    'reference', 'studyfactors', 'exposurestressors', 'receptors', 'studycountries', 'mediums', 'exposuremarkers', 'diseases', 'phenotypes', 'authorsummary'\n",
    "])\n",
    "ctd_exposure_study"
   ]
  },
  {
   "cell_type": "code",
   "execution_count": 2,
   "metadata": {},
   "outputs": [
    {
     "name": "stderr",
     "output_type": "stream",
     "text": [
      "C:\\Users\\shunn\\AppData\\Local\\Temp\\ipykernel_38872\\3211766745.py:17: DtypeWarning: Columns (18) have mixed types. Specify dtype option on import or set low_memory=False.\n",
      "  ctd_exposure_event = pd.read_csv('CTD_exposure_events.csv',\n"
     ]
    },
    {
     "data": {
      "application/vnd.microsoft.datawrangler.viewer.v0+json": {
       "columns": [
        {
         "name": "index",
         "rawType": "int64",
         "type": "integer"
        },
        {
         "name": "exposurestressorname",
         "rawType": "object",
         "type": "string"
        },
        {
         "name": "exposurestressorid",
         "rawType": "object",
         "type": "string"
        },
        {
         "name": "stressorsourcecategory",
         "rawType": "object",
         "type": "unknown"
        },
        {
         "name": "stressorsourcedetails",
         "rawType": "object",
         "type": "unknown"
        },
        {
         "name": "numberofstressorsamples",
         "rawType": "float64",
         "type": "float"
        },
        {
         "name": "stressornotes",
         "rawType": "object",
         "type": "unknown"
        },
        {
         "name": "numberofreceptors",
         "rawType": "float64",
         "type": "float"
        },
        {
         "name": "receptors",
         "rawType": "object",
         "type": "unknown"
        },
        {
         "name": "receptornotes",
         "rawType": "object",
         "type": "unknown"
        },
        {
         "name": "smokingstatus",
         "rawType": "object",
         "type": "unknown"
        },
        {
         "name": "age",
         "rawType": "object",
         "type": "unknown"
        },
        {
         "name": "ageunitsofmeasurement",
         "rawType": "object",
         "type": "unknown"
        },
        {
         "name": "agequalifier",
         "rawType": "object",
         "type": "unknown"
        },
        {
         "name": "sex",
         "rawType": "object",
         "type": "unknown"
        },
        {
         "name": "race",
         "rawType": "object",
         "type": "unknown"
        },
        {
         "name": "methods",
         "rawType": "object",
         "type": "unknown"
        },
        {
         "name": "detectionlimit",
         "rawType": "object",
         "type": "unknown"
        },
        {
         "name": "detectionlimituom",
         "rawType": "object",
         "type": "unknown"
        },
        {
         "name": "detectionfrequency",
         "rawType": "object",
         "type": "unknown"
        },
        {
         "name": "medium",
         "rawType": "object",
         "type": "unknown"
        },
        {
         "name": "exposuremarker",
         "rawType": "object",
         "type": "unknown"
        },
        {
         "name": "exposuremarkerid",
         "rawType": "object",
         "type": "unknown"
        },
        {
         "name": "markerlevel",
         "rawType": "object",
         "type": "unknown"
        },
        {
         "name": "markerunitsofmeasurement",
         "rawType": "object",
         "type": "unknown"
        },
        {
         "name": "markermeasurementstatistic",
         "rawType": "object",
         "type": "unknown"
        },
        {
         "name": "assaynotes",
         "rawType": "object",
         "type": "unknown"
        },
        {
         "name": "studycountries",
         "rawType": "object",
         "type": "unknown"
        },
        {
         "name": "stateorprovince",
         "rawType": "object",
         "type": "unknown"
        },
        {
         "name": "citytownregionarea",
         "rawType": "object",
         "type": "unknown"
        },
        {
         "name": "exposureeventnotes",
         "rawType": "object",
         "type": "unknown"
        },
        {
         "name": "outcomerelationship",
         "rawType": "object",
         "type": "unknown"
        },
        {
         "name": "diseasename",
         "rawType": "object",
         "type": "unknown"
        },
        {
         "name": "diseaseid",
         "rawType": "object",
         "type": "unknown"
        },
        {
         "name": "phenotypename",
         "rawType": "object",
         "type": "unknown"
        },
        {
         "name": "phenotypeid",
         "rawType": "object",
         "type": "unknown"
        },
        {
         "name": "phenotypeactiondegreetype",
         "rawType": "object",
         "type": "unknown"
        },
        {
         "name": "anatomy",
         "rawType": "object",
         "type": "unknown"
        },
        {
         "name": "exposureoutcomenotes",
         "rawType": "object",
         "type": "unknown"
        },
        {
         "name": "reference",
         "rawType": "int64",
         "type": "integer"
        },
        {
         "name": "associatedstudytitles",
         "rawType": "object",
         "type": "unknown"
        },
        {
         "name": "enrollmentstartyear",
         "rawType": "float64",
         "type": "float"
        },
        {
         "name": "enrollmentendyear",
         "rawType": "float64",
         "type": "float"
        },
        {
         "name": "studyfactors",
         "rawType": "object",
         "type": "unknown"
        }
       ],
       "conversionMethod": "pd.DataFrame",
       "ref": "3cc1897e-0804-40a5-96b5-b430fa7f239f",
       "rows": [
        [
         "0",
         "1,1,1-trichloroethane",
         "C024566",
         "Commercial product|Dietary|Environmental",
         null,
         null,
         null,
         "63.0",
         "Children",
         null,
         "Non-smoker",
         "6-10",
         "years",
         "range",
         "Both Males and Females",
         "American Indian    3 | Asian    6 | Black   63 | Hispanic   20 | White    7",
         "gas chromatography mass spectrometry",
         "0.024",
         "nanograms per milliliter",
         "1.1",
         "blood",
         "1,1,1-trichloroethane",
         "C024566",
         "0.03",
         "nanograms per milliliter",
         "10th percentile",
         null,
         "United States",
         "Minnesota",
         "Minneapolis",
         "February 2001",
         null,
         null,
         null,
         null,
         null,
         null,
         null,
         null,
         "15743726",
         "The School Health Initiative: Environment, Learning, Disease (SHIELD)",
         "2001.0",
         "2001.0",
         null
        ],
        [
         "1",
         "1,1,1-trichloroethane",
         "C024566",
         "Commercial product|Dietary|Environmental",
         null,
         null,
         null,
         "63.0",
         "Children",
         null,
         "Non-smoker",
         "6-10",
         "years",
         "range",
         "Both Males and Females",
         "American Indian    3 | Asian    6 | Black   63 | Hispanic   20 | White    7",
         "gas chromatography mass spectrometry",
         "0.024",
         "nanograms per milliliter",
         "1.1",
         "blood",
         "1,1,1-trichloroethane",
         "C024566",
         "0.03",
         "nanograms per milliliter",
         "25th percentile",
         null,
         "United States",
         "Minnesota",
         "Minneapolis",
         "February 2001",
         null,
         null,
         null,
         null,
         null,
         null,
         null,
         null,
         "15743726",
         "The School Health Initiative: Environment, Learning, Disease (SHIELD)",
         "2001.0",
         "2001.0",
         null
        ],
        [
         "2",
         "1,1,1-trichloroethane",
         "C024566",
         "Commercial product|Dietary|Environmental",
         null,
         null,
         null,
         "63.0",
         "Children",
         null,
         "Non-smoker",
         "6-10",
         "years",
         "range",
         "Both Males and Females",
         "American Indian    3 | Asian    6 | Black   63 | Hispanic   20 | White    7",
         "gas chromatography mass spectrometry",
         "0.024",
         "nanograms per milliliter",
         "1.1",
         "blood",
         "1,1,1-trichloroethane",
         "C024566",
         "0.03",
         "nanograms per milliliter",
         "50th percentile",
         null,
         "United States",
         "Minnesota",
         "Minneapolis",
         "February 2001",
         null,
         null,
         null,
         null,
         null,
         null,
         null,
         null,
         "15743726",
         "The School Health Initiative: Environment, Learning, Disease (SHIELD)",
         "2001.0",
         "2001.0",
         null
        ],
        [
         "3",
         "1,1,1-trichloroethane",
         "C024566",
         "Commercial product|Dietary|Environmental",
         null,
         null,
         null,
         "63.0",
         "Children",
         null,
         "Non-smoker",
         "6-10",
         "years",
         "range",
         "Both Males and Females",
         "American Indian    3 | Asian    6 | Black   63 | Hispanic   20 | White    7",
         "gas chromatography mass spectrometry",
         "0.024",
         "nanograms per milliliter",
         "1.1",
         "blood",
         "1,1,1-trichloroethane",
         "C024566",
         "0.03",
         "nanograms per milliliter",
         "75th percentile",
         null,
         "United States",
         "Minnesota",
         "Minneapolis",
         "February 2001",
         null,
         null,
         null,
         null,
         null,
         null,
         null,
         null,
         "15743726",
         "The School Health Initiative: Environment, Learning, Disease (SHIELD)",
         "2001.0",
         "2001.0",
         null
        ],
        [
         "4",
         "1,1,1-trichloroethane",
         "C024566",
         "Commercial product|Dietary|Environmental",
         null,
         null,
         null,
         "63.0",
         "Children",
         null,
         "Non-smoker",
         "6-10",
         "years",
         "range",
         "Both Males and Females",
         "American Indian    3 | Asian    6 | Black   63 | Hispanic   20 | White    7",
         "gas chromatography mass spectrometry",
         "0.024",
         "nanograms per milliliter",
         "1.1",
         "blood",
         "1,1,1-trichloroethane",
         "C024566",
         "0.04",
         "nanograms per milliliter",
         "90th percentile",
         null,
         "United States",
         "Minnesota",
         "Minneapolis",
         "February 2001",
         null,
         null,
         null,
         null,
         null,
         null,
         null,
         null,
         "15743726",
         "The School Health Initiative: Environment, Learning, Disease (SHIELD)",
         "2001.0",
         "2001.0",
         null
        ],
        [
         "5",
         "1,1,1-trichloroethane",
         "C024566",
         "Commercial product|Dietary|Environmental",
         null,
         null,
         null,
         "63.0",
         "Children",
         null,
         "Non-smoker",
         "6-10",
         "years",
         "range",
         "Both Males and Females",
         "American Indian    3 | Asian    6 | Black   63 | Hispanic   20 | White    7",
         "gas chromatography mass spectrometry",
         "0.024",
         "nanograms per milliliter",
         "1.1",
         "blood",
         "1,1,1-trichloroethane",
         "C024566",
         "0.04",
         "nanograms per milliliter",
         "95th percentile",
         null,
         "United States",
         "Minnesota",
         "Minneapolis",
         "February 2001",
         null,
         null,
         null,
         null,
         null,
         null,
         null,
         null,
         "15743726",
         "The School Health Initiative: Environment, Learning, Disease (SHIELD)",
         "2001.0",
         "2001.0",
         null
        ],
        [
         "6",
         "1,1,1-trichloroethane",
         "C024566",
         "Commercial product|Dietary|Environmental",
         null,
         null,
         null,
         "63.0",
         "Children",
         null,
         "Non-smoker",
         "6-10",
         "years",
         "range",
         "Both Males and Females",
         "American Indian    3 | Asian    6 | Black   63 | Hispanic   20 | White    7",
         "gas chromatography mass spectrometry",
         "0.024",
         "nanograms per milliliter",
         "1.1",
         "blood",
         "1,1,1-trichloroethane",
         "C024566",
         "0.04",
         "nanograms per milliliter",
         "99th percentile",
         null,
         "United States",
         "Minnesota",
         "Minneapolis",
         "February 2001",
         null,
         null,
         null,
         null,
         null,
         null,
         null,
         null,
         "15743726",
         "The School Health Initiative: Environment, Learning, Disease (SHIELD)",
         "2001.0",
         "2001.0",
         null
        ],
        [
         "7",
         "1,1,1-trichloroethane",
         "C024566",
         "Commercial product|Dietary|Environmental",
         null,
         null,
         null,
         "78.0",
         "Children",
         null,
         "Non-smoker",
         "6-10",
         "years",
         "range",
         "Both Males and Females",
         "American Indian    3 | Asian    6 | Black   63 | Hispanic   20 | White    7",
         "gas chromatography mass spectrometry",
         "0.024",
         "nanograms per milliliter",
         "2.2",
         "blood",
         "1,1,1-trichloroethane",
         "C024566",
         "0.03",
         "nanograms per milliliter",
         "10th percentile",
         null,
         "United States",
         "Minnesota",
         "Minneapolis",
         "May 2001",
         null,
         null,
         null,
         null,
         null,
         null,
         null,
         null,
         "15743726",
         "The School Health Initiative: Environment, Learning, Disease (SHIELD)",
         "2001.0",
         "2001.0",
         null
        ],
        [
         "8",
         "1,1,1-trichloroethane",
         "C024566",
         "Commercial product|Dietary|Environmental",
         null,
         null,
         null,
         "78.0",
         "Children",
         null,
         "Non-smoker",
         "6-10",
         "years",
         "range",
         "Both Males and Females",
         "American Indian    3 | Asian    6 | Black   63 | Hispanic   20 | White    7",
         "gas chromatography mass spectrometry",
         "0.024",
         "nanograms per milliliter",
         "2.2",
         "blood",
         "1,1,1-trichloroethane",
         "C024566",
         "0.03",
         "nanograms per milliliter",
         "25th percentile",
         null,
         "United States",
         "Minnesota",
         "Minneapolis",
         "May 2001",
         null,
         null,
         null,
         null,
         null,
         null,
         null,
         null,
         "15743726",
         "The School Health Initiative: Environment, Learning, Disease (SHIELD)",
         "2001.0",
         "2001.0",
         null
        ],
        [
         "9",
         "1,1,1-trichloroethane",
         "C024566",
         "Commercial product|Dietary|Environmental",
         null,
         null,
         null,
         "78.0",
         "Children",
         null,
         "Non-smoker",
         "6-10",
         "years",
         "range",
         "Both Males and Females",
         "American Indian    3 | Asian    6 | Black   63 | Hispanic   20 | White    7",
         "gas chromatography mass spectrometry",
         "0.024",
         "nanograms per milliliter",
         "2.2",
         "blood",
         "1,1,1-trichloroethane",
         "C024566",
         "0.03",
         "nanograms per milliliter",
         "50th percentile",
         null,
         "United States",
         "Minnesota",
         "Minneapolis",
         "May 2001",
         null,
         null,
         null,
         null,
         null,
         null,
         null,
         null,
         "15743726",
         "The School Health Initiative: Environment, Learning, Disease (SHIELD)",
         "2001.0",
         "2001.0",
         null
        ],
        [
         "10",
         "1,1,1-trichloroethane",
         "C024566",
         "Commercial product|Dietary|Environmental",
         null,
         null,
         null,
         "78.0",
         "Children",
         null,
         "Non-smoker",
         "6-10",
         "years",
         "range",
         "Both Males and Females",
         "American Indian    3 | Asian    6 | Black   63 | Hispanic   20 | White    7",
         "gas chromatography mass spectrometry",
         "0.024",
         "nanograms per milliliter",
         "2.2",
         "blood",
         "1,1,1-trichloroethane",
         "C024566",
         "0.04",
         "nanograms per milliliter",
         "75th percentile",
         null,
         "United States",
         "Minnesota",
         "Minneapolis",
         "May 2001",
         null,
         null,
         null,
         null,
         null,
         null,
         null,
         null,
         "15743726",
         "The School Health Initiative: Environment, Learning, Disease (SHIELD)",
         "2001.0",
         "2001.0",
         null
        ],
        [
         "11",
         "1,1,1-trichloroethane",
         "C024566",
         "Commercial product|Dietary|Environmental",
         null,
         null,
         null,
         "78.0",
         "Children",
         null,
         "Non-smoker",
         "6-10",
         "years",
         "range",
         "Both Males and Females",
         "American Indian    3 | Asian    6 | Black   63 | Hispanic   20 | White    7",
         "gas chromatography mass spectrometry",
         "0.024",
         "nanograms per milliliter",
         "2.2",
         "blood",
         "1,1,1-trichloroethane",
         "C024566",
         "0.04",
         "nanograms per milliliter",
         "90th percentile",
         null,
         "United States",
         "Minnesota",
         "Minneapolis",
         "May 2001",
         null,
         null,
         null,
         null,
         null,
         null,
         null,
         null,
         "15743726",
         "The School Health Initiative: Environment, Learning, Disease (SHIELD)",
         "2001.0",
         "2001.0",
         null
        ],
        [
         "12",
         "1,1,1-trichloroethane",
         "C024566",
         "Commercial product|Dietary|Environmental",
         null,
         null,
         null,
         "78.0",
         "Children",
         null,
         "Non-smoker",
         "6-10",
         "years",
         "range",
         "Both Males and Females",
         "American Indian    3 | Asian    6 | Black   63 | Hispanic   20 | White    7",
         "gas chromatography mass spectrometry",
         "0.024",
         "nanograms per milliliter",
         "2.2",
         "blood",
         "1,1,1-trichloroethane",
         "C024566",
         "0.06",
         "nanograms per milliliter",
         "95th percentile",
         null,
         "United States",
         "Minnesota",
         "Minneapolis",
         "May 2001",
         null,
         null,
         null,
         null,
         null,
         null,
         null,
         null,
         "15743726",
         "The School Health Initiative: Environment, Learning, Disease (SHIELD)",
         "2001.0",
         "2001.0",
         null
        ],
        [
         "13",
         "1,1,1-trichloroethane",
         "C024566",
         "Commercial product|Dietary|Environmental",
         null,
         null,
         null,
         "78.0",
         "Children",
         null,
         "Non-smoker",
         "6-10",
         "years",
         "range",
         "Both Males and Females",
         "American Indian    3 | Asian    6 | Black   63 | Hispanic   20 | White    7",
         "gas chromatography mass spectrometry",
         "0.024",
         "nanograms per milliliter",
         "2.2",
         "blood",
         "1,1,1-trichloroethane",
         "C024566",
         "0.07",
         "nanograms per milliliter",
         "99th percentile",
         null,
         "United States",
         "Minnesota",
         "Minneapolis",
         "May 2001",
         null,
         null,
         null,
         null,
         null,
         null,
         null,
         null,
         "15743726",
         "The School Health Initiative: Environment, Learning, Disease (SHIELD)",
         "2001.0",
         "2001.0",
         null
        ],
        [
         "14",
         "1,1,1-trichloroethane",
         "C024566",
         "Commercial product|Dietary|Environmental",
         null,
         null,
         null,
         "108.0",
         "Children",
         null,
         "Non-smoker",
         "6-10",
         "years",
         "range",
         "Both Males and Females",
         "American Indian    3 | Asian    6 | Black   63 | Hispanic   20 | White    7",
         "gas chromatography mass spectrometry",
         "0.024",
         "nanograms per milliliter",
         "0.0",
         "blood",
         "1,1,1-trichloroethane",
         "C024566",
         "0.02",
         "nanograms per milliliter",
         "10th percentile",
         null,
         "United States",
         "Minnesota",
         "Minneapolis",
         "February 2000",
         null,
         null,
         null,
         null,
         null,
         null,
         null,
         null,
         "15743726",
         "The School Health Initiative: Environment, Learning, Disease (SHIELD)",
         "2000.0",
         "2000.0",
         null
        ],
        [
         "15",
         "1,1,1-trichloroethane",
         "C024566",
         "Commercial product|Dietary|Environmental",
         null,
         null,
         null,
         "108.0",
         "Children",
         null,
         "Non-smoker",
         "6-10",
         "years",
         "range",
         "Both Males and Females",
         "American Indian    3 | Asian    6 | Black   63 | Hispanic   20 | White    7",
         "gas chromatography mass spectrometry",
         "0.024",
         "nanograms per milliliter",
         "0.0",
         "blood",
         "1,1,1-trichloroethane",
         "C024566",
         "0.02",
         "nanograms per milliliter",
         "25th percentile",
         null,
         "United States",
         "Minnesota",
         "Minneapolis",
         "February 2000",
         null,
         null,
         null,
         null,
         null,
         null,
         null,
         null,
         "15743726",
         "The School Health Initiative: Environment, Learning, Disease (SHIELD)",
         "2000.0",
         "2000.0",
         null
        ],
        [
         "16",
         "1,1,1-trichloroethane",
         "C024566",
         "Commercial product|Dietary|Environmental",
         null,
         null,
         null,
         "108.0",
         "Children",
         null,
         "Non-smoker",
         "6-10",
         "years",
         "range",
         "Both Males and Females",
         "American Indian    3 | Asian    6 | Black   63 | Hispanic   20 | White    7",
         "gas chromatography mass spectrometry",
         "0.024",
         "nanograms per milliliter",
         "0.0",
         "blood",
         "1,1,1-trichloroethane",
         "C024566",
         "0.02",
         "nanograms per milliliter",
         "50th percentile",
         null,
         "United States",
         "Minnesota",
         "Minneapolis",
         "February 2000",
         null,
         null,
         null,
         null,
         null,
         null,
         null,
         null,
         "15743726",
         "The School Health Initiative: Environment, Learning, Disease (SHIELD)",
         "2000.0",
         "2000.0",
         null
        ],
        [
         "17",
         "1,1,1-trichloroethane",
         "C024566",
         "Commercial product|Dietary|Environmental",
         null,
         null,
         null,
         "108.0",
         "Children",
         null,
         "Non-smoker",
         "6-10",
         "years",
         "range",
         "Both Males and Females",
         "American Indian    3 | Asian    6 | Black   63 | Hispanic   20 | White    7",
         "gas chromatography mass spectrometry",
         "0.024",
         "nanograms per milliliter",
         "0.0",
         "blood",
         "1,1,1-trichloroethane",
         "C024566",
         "0.02",
         "nanograms per milliliter",
         "75th percentile",
         null,
         "United States",
         "Minnesota",
         "Minneapolis",
         "February 2000",
         null,
         null,
         null,
         null,
         null,
         null,
         null,
         null,
         "15743726",
         "The School Health Initiative: Environment, Learning, Disease (SHIELD)",
         "2000.0",
         "2000.0",
         null
        ],
        [
         "18",
         "1,1,1-trichloroethane",
         "C024566",
         "Commercial product|Dietary|Environmental",
         null,
         null,
         null,
         "108.0",
         "Children",
         null,
         "Non-smoker",
         "6-10",
         "years",
         "range",
         "Both Males and Females",
         "American Indian    3 | Asian    6 | Black   63 | Hispanic   20 | White    7",
         "gas chromatography mass spectrometry",
         "0.024",
         "nanograms per milliliter",
         "0.0",
         "blood",
         "1,1,1-trichloroethane",
         "C024566",
         "0.02",
         "nanograms per milliliter",
         "90th percentile",
         null,
         "United States",
         "Minnesota",
         "Minneapolis",
         "February 2000",
         null,
         null,
         null,
         null,
         null,
         null,
         null,
         null,
         "15743726",
         "The School Health Initiative: Environment, Learning, Disease (SHIELD)",
         "2000.0",
         "2000.0",
         null
        ],
        [
         "19",
         "1,1,1-trichloroethane",
         "C024566",
         "Commercial product|Dietary|Environmental",
         null,
         null,
         null,
         "108.0",
         "Children",
         null,
         "Non-smoker",
         "6-10",
         "years",
         "range",
         "Both Males and Females",
         "American Indian    3 | Asian    6 | Black   63 | Hispanic   20 | White    7",
         "gas chromatography mass spectrometry",
         "0.024",
         "nanograms per milliliter",
         "0.0",
         "blood",
         "1,1,1-trichloroethane",
         "C024566",
         "0.03",
         "nanograms per milliliter",
         "95th percentile",
         null,
         "United States",
         "Minnesota",
         "Minneapolis",
         "February 2000",
         null,
         null,
         null,
         null,
         null,
         null,
         null,
         null,
         "15743726",
         "The School Health Initiative: Environment, Learning, Disease (SHIELD)",
         "2000.0",
         "2000.0",
         null
        ],
        [
         "20",
         "1,1,1-trichloroethane",
         "C024566",
         "Commercial product|Dietary|Environmental",
         null,
         null,
         null,
         "108.0",
         "Children",
         null,
         "Non-smoker",
         "6-10",
         "years",
         "range",
         "Both Males and Females",
         "American Indian    3 | Asian    6 | Black   63 | Hispanic   20 | White    7",
         "gas chromatography mass spectrometry",
         "0.024",
         "nanograms per milliliter",
         "0.0",
         "blood",
         "1,1,1-trichloroethane",
         "C024566",
         "0.03",
         "nanograms per milliliter",
         "99th percentile",
         null,
         "United States",
         "Minnesota",
         "Minneapolis",
         "February 2000",
         null,
         null,
         null,
         null,
         null,
         null,
         null,
         null,
         "15743726",
         "The School Health Initiative: Environment, Learning, Disease (SHIELD)",
         "2000.0",
         "2000.0",
         null
        ],
        [
         "21",
         "1,1,1-trichloroethane",
         "C024566",
         "Commercial product|Dietary|Environmental",
         null,
         null,
         null,
         "114.0",
         "Children",
         null,
         "Non-smoker",
         "6-10",
         "years",
         "range",
         "Both Males and Females",
         "American Indian    3 | Asian    6 | Black   63 | Hispanic   20 | White    7",
         "gas chromatography mass spectrometry",
         "0.024",
         "nanograms per milliliter",
         "0.0",
         "blood",
         "1,1,1-trichloroethane",
         "C024566",
         "0.02",
         "nanograms per milliliter",
         "10th percentile",
         null,
         "United States",
         "Minnesota",
         "Minneapolis",
         "May 2000",
         null,
         null,
         null,
         null,
         null,
         null,
         null,
         null,
         "15743726",
         "The School Health Initiative: Environment, Learning, Disease (SHIELD)",
         "2000.0",
         "2000.0",
         null
        ],
        [
         "22",
         "1,1,1-trichloroethane",
         "C024566",
         "Commercial product|Dietary|Environmental",
         null,
         null,
         null,
         "114.0",
         "Children",
         null,
         "Non-smoker",
         "6-10",
         "years",
         "range",
         "Both Males and Females",
         "American Indian    3 | Asian    6 | Black   63 | Hispanic   20 | White    7",
         "gas chromatography mass spectrometry",
         "0.024",
         "nanograms per milliliter",
         "0.0",
         "blood",
         "1,1,1-trichloroethane",
         "C024566",
         "0.02",
         "nanograms per milliliter",
         "25th percentile",
         null,
         "United States",
         "Minnesota",
         "Minneapolis",
         "May 2000",
         null,
         null,
         null,
         null,
         null,
         null,
         null,
         null,
         "15743726",
         "The School Health Initiative: Environment, Learning, Disease (SHIELD)",
         "2000.0",
         "2000.0",
         null
        ],
        [
         "23",
         "1,1,1-trichloroethane",
         "C024566",
         "Commercial product|Dietary|Environmental",
         null,
         null,
         null,
         "114.0",
         "Children",
         null,
         "Non-smoker",
         "6-10",
         "years",
         "range",
         "Both Males and Females",
         "American Indian    3 | Asian    6 | Black   63 | Hispanic   20 | White    7",
         "gas chromatography mass spectrometry",
         "0.024",
         "nanograms per milliliter",
         "0.0",
         "blood",
         "1,1,1-trichloroethane",
         "C024566",
         "0.02",
         "nanograms per milliliter",
         "50th percentile",
         null,
         "United States",
         "Minnesota",
         "Minneapolis",
         "May 2000",
         null,
         null,
         null,
         null,
         null,
         null,
         null,
         null,
         "15743726",
         "The School Health Initiative: Environment, Learning, Disease (SHIELD)",
         "2000.0",
         "2000.0",
         null
        ],
        [
         "24",
         "1,1,1-trichloroethane",
         "C024566",
         "Commercial product|Dietary|Environmental",
         null,
         null,
         null,
         "114.0",
         "Children",
         null,
         "Non-smoker",
         "6-10",
         "years",
         "range",
         "Both Males and Females",
         "American Indian    3 | Asian    6 | Black   63 | Hispanic   20 | White    7",
         "gas chromatography mass spectrometry",
         "0.024",
         "nanograms per milliliter",
         "0.0",
         "blood",
         "1,1,1-trichloroethane",
         "C024566",
         "0.02",
         "nanograms per milliliter",
         "75th percentile",
         null,
         "United States",
         "Minnesota",
         "Minneapolis",
         "May 2000",
         null,
         null,
         null,
         null,
         null,
         null,
         null,
         null,
         "15743726",
         "The School Health Initiative: Environment, Learning, Disease (SHIELD)",
         "2000.0",
         "2000.0",
         null
        ],
        [
         "25",
         "1,1,1-trichloroethane",
         "C024566",
         "Commercial product|Dietary|Environmental",
         null,
         null,
         null,
         "114.0",
         "Children",
         null,
         "Non-smoker",
         "6-10",
         "years",
         "range",
         "Both Males and Females",
         "American Indian    3 | Asian    6 | Black   63 | Hispanic   20 | White    7",
         "gas chromatography mass spectrometry",
         "0.024",
         "nanograms per milliliter",
         "0.0",
         "blood",
         "1,1,1-trichloroethane",
         "C024566",
         "0.02",
         "nanograms per milliliter",
         "90th percentile",
         null,
         "United States",
         "Minnesota",
         "Minneapolis",
         "May 2000",
         null,
         null,
         null,
         null,
         null,
         null,
         null,
         null,
         "15743726",
         "The School Health Initiative: Environment, Learning, Disease (SHIELD)",
         "2000.0",
         "2000.0",
         null
        ],
        [
         "26",
         "1,1,1-trichloroethane",
         "C024566",
         "Commercial product|Dietary|Environmental",
         null,
         null,
         null,
         "114.0",
         "Children",
         null,
         "Non-smoker",
         "6-10",
         "years",
         "range",
         "Both Males and Females",
         "American Indian    3 | Asian    6 | Black   63 | Hispanic   20 | White    7",
         "gas chromatography mass spectrometry",
         "0.024",
         "nanograms per milliliter",
         "0.0",
         "blood",
         "1,1,1-trichloroethane",
         "C024566",
         "0.02",
         "nanograms per milliliter",
         "95th percentile",
         null,
         "United States",
         "Minnesota",
         "Minneapolis",
         "May 2000",
         null,
         null,
         null,
         null,
         null,
         null,
         null,
         null,
         "15743726",
         "The School Health Initiative: Environment, Learning, Disease (SHIELD)",
         "2000.0",
         "2000.0",
         null
        ],
        [
         "27",
         "1,1,1-trichloroethane",
         "C024566",
         "Commercial product|Dietary|Environmental",
         null,
         null,
         null,
         "114.0",
         "Children",
         null,
         "Non-smoker",
         "6-10",
         "years",
         "range",
         "Both Males and Females",
         "American Indian    3 | Asian    6 | Black   63 | Hispanic   20 | White    7",
         "gas chromatography mass spectrometry",
         "0.024",
         "nanograms per milliliter",
         "0.0",
         "blood",
         "1,1,1-trichloroethane",
         "C024566",
         "0.03",
         "nanograms per milliliter",
         "99th percentile",
         null,
         "United States",
         "Minnesota",
         "Minneapolis",
         "May 2000",
         null,
         null,
         null,
         null,
         null,
         null,
         null,
         null,
         "15743726",
         "The School Health Initiative: Environment, Learning, Disease (SHIELD)",
         "2000.0",
         "2000.0",
         null
        ],
        [
         "28",
         "1,1,1-trichloroethane",
         "C024566",
         "Commercial product|Dietary|Environmental",
         null,
         null,
         null,
         "134.0",
         "Children",
         null,
         "Non-smoker",
         "6-10",
         "years",
         "range",
         "Both Males and Females",
         "American Indian    3 | Asian    6 | Black   63 | Hispanic   20 | White    7",
         "gas chromatography mass spectrometry",
         "0.024",
         "nanograms per milliliter",
         "0.0",
         "blood",
         "1,1,1-trichloroethane",
         "C024566",
         "0.03",
         "nanograms per milliliter",
         "95th percentile",
         null,
         "United States",
         "Minnesota",
         "Minneapolis",
         "February 2000",
         null,
         null,
         null,
         null,
         null,
         null,
         null,
         null,
         "15743726",
         "The School Health Initiative: Environment, Learning, Disease (SHIELD)",
         "2000.0",
         "2001.0",
         null
        ],
        [
         "29",
         "1,1,1-trichloroethane",
         "C024566",
         "Commercial product|Dietary|Environmental",
         null,
         null,
         null,
         "134.0",
         "Children",
         null,
         "Non-smoker",
         "6-10",
         "years",
         "range",
         "Both Males and Females",
         "American Indian    3 | Asian    6 | Black   63 | Hispanic   20 | White    7",
         "gas chromatography mass spectrometry",
         "0.024",
         "nanograms per milliliter",
         "0.0",
         "blood",
         "1,1,1-trichloroethane",
         "C024566",
         "0.03",
         "nanograms per milliliter",
         "arithmetic mean",
         null,
         "United States",
         "Minnesota",
         "Minneapolis",
         "February 2000",
         null,
         null,
         null,
         null,
         null,
         null,
         null,
         null,
         "15743726",
         "The School Health Initiative: Environment, Learning, Disease (SHIELD)",
         "2000.0",
         "2001.0",
         null
        ],
        [
         "30",
         "1,1,1-trichloroethane",
         "C024566",
         "Commercial product|Dietary|Environmental",
         null,
         null,
         null,
         "134.0",
         "Children",
         null,
         "Non-smoker",
         "6-10",
         "years",
         "range",
         "Both Males and Females",
         "American Indian    3 | Asian    6 | Black   63 | Hispanic   20 | White    7",
         "gas chromatography mass spectrometry",
         "0.024",
         "nanograms per milliliter",
         "0.0",
         "blood",
         "1,1,1-trichloroethane",
         "C024566",
         "0.03",
         "nanograms per milliliter",
         "median",
         null,
         "United States",
         "Minnesota",
         "Minneapolis",
         "February 2000",
         null,
         null,
         null,
         null,
         null,
         null,
         null,
         null,
         "15743726",
         "The School Health Initiative: Environment, Learning, Disease (SHIELD)",
         "2000.0",
         "2001.0",
         null
        ],
        [
         "31",
         "1,1,1-trichloroethane",
         "C024566",
         "Commercial product|Dietary|Environmental",
         null,
         null,
         null,
         "550.0",
         "Study subjects",
         "between 574-1037 participants",
         null,
         ">=18",
         "years",
         "range",
         "Both Males and Females",
         null,
         null,
         null,
         null,
         null,
         "blood",
         "1,1,1-trichloroethane",
         "C024566",
         "0.13",
         "nanograms per milliliter",
         "median",
         null,
         "United States",
         "Minnesota",
         "Minneapolis",
         "from Clin Chem. 1994;40(7):1401-1404",
         null,
         null,
         null,
         null,
         null,
         null,
         null,
         null,
         "15743726",
         "National Health and Nutrition Examination Survey (NHANES)",
         null,
         null,
         null
        ],
        [
         "32",
         "1,1,1-trichloroethane",
         "C024566",
         "Commercial product|Dietary|Environmental",
         null,
         null,
         null,
         "550.0",
         "Study subjects",
         "between 574-1037 participants",
         null,
         ">=18",
         "years",
         "range",
         "Both Males and Females",
         null,
         null,
         null,
         null,
         null,
         "blood",
         "1,1,1-trichloroethane",
         "C024566",
         "0.34",
         "nanograms per milliliter",
         "arithmetic mean",
         null,
         "United States",
         "Minnesota",
         "Minneapolis",
         "from Clin Chem. 1994;40(7):1401-1404",
         null,
         null,
         null,
         null,
         null,
         null,
         null,
         null,
         "15743726",
         "National Health and Nutrition Examination Survey (NHANES)",
         null,
         null,
         null
        ],
        [
         "33",
         "1,1,1-trichloroethane",
         "C024566",
         "Commercial product|Dietary|Environmental",
         null,
         null,
         null,
         "550.0",
         "Study subjects",
         "between 574-1037 participants",
         null,
         ">=18",
         "years",
         "range",
         "Both Males and Females",
         null,
         null,
         null,
         null,
         null,
         "blood",
         "1,1,1-trichloroethane",
         "C024566",
         "0.8",
         "nanograms per milliliter",
         "95th percentile",
         null,
         "United States",
         "Minnesota",
         "Minneapolis",
         "from Clin Chem. 1994;40(7):1401-1404",
         null,
         null,
         null,
         null,
         null,
         null,
         null,
         null,
         "15743726",
         "National Health and Nutrition Examination Survey (NHANES)",
         null,
         null,
         null
        ],
        [
         "34",
         "1,1,1-trichloroethane",
         "C024566",
         "Environmental|Residential",
         null,
         null,
         null,
         "47.0",
         "Controls for disease: Amyotrophic Lateral Sclerosis",
         null,
         "Current smoker      | Former smoker      | Never smoker",
         "56.4",
         "years",
         "mean",
         "Both Males and Females",
         "White   99",
         "National-Scale Air Toxics Assessment",
         null,
         null,
         null,
         null,
         "1,1,1-trichloroethane",
         "C024566",
         "1.16",
         "micrograms per cubic meter",
         "minimum",
         null,
         "United States",
         "Delaware|New Jersey|Pennsylvania",
         null,
         null,
         null,
         null,
         null,
         null,
         null,
         null,
         null,
         null,
         "25544309",
         null,
         "1999.0",
         "1999.0",
         null
        ],
        [
         "35",
         "1,1,1-trichloroethane",
         "C024566",
         "Environmental|Residential",
         null,
         null,
         null,
         "47.0",
         "Controls for disease: Amyotrophic Lateral Sclerosis",
         null,
         "Current smoker      | Former smoker      | Never smoker",
         "56.4",
         "years",
         "mean",
         "Both Males and Females",
         "White   99",
         "National-Scale Air Toxics Assessment",
         null,
         null,
         null,
         null,
         "1,1,1-trichloroethane",
         "C024566",
         "1.35",
         "micrograms per cubic meter",
         "median",
         null,
         "United States",
         "Delaware|New Jersey|Pennsylvania",
         null,
         null,
         null,
         null,
         null,
         null,
         null,
         null,
         null,
         null,
         "25544309",
         null,
         "1999.0",
         "1999.0",
         null
        ],
        [
         "36",
         "1,1,1-trichloroethane",
         "C024566",
         "Environmental|Residential",
         null,
         null,
         null,
         "47.0",
         "Controls for disease: Amyotrophic Lateral Sclerosis",
         null,
         "Current smoker      | Former smoker      | Never smoker",
         "56.4",
         "years",
         "mean",
         "Both Males and Females",
         "White   99",
         "National-Scale Air Toxics Assessment",
         null,
         null,
         null,
         null,
         "1,1,1-trichloroethane",
         "C024566",
         "2.06",
         "micrograms per cubic meter",
         "maximum",
         null,
         "United States",
         "Delaware|New Jersey|Pennsylvania",
         null,
         null,
         null,
         null,
         null,
         null,
         null,
         null,
         null,
         null,
         "25544309",
         null,
         "1999.0",
         "1999.0",
         null
        ],
        [
         "37",
         "1,1,1-trichloroethane",
         "C024566",
         "Environmental|Residential",
         null,
         null,
         null,
         "47.0",
         "Subjects with disease: Amyotrophic Lateral Sclerosis",
         null,
         "Current smoker      | Former smoker      | Never smoker",
         "57.1",
         "years",
         "mean",
         "Both Males and Females",
         "White   99",
         "National-Scale Air Toxics Assessment",
         null,
         null,
         null,
         null,
         "1,1,1-trichloroethane",
         "C024566",
         "1.13",
         "micrograms per cubic meter",
         "minimum",
         null,
         "United States",
         "Delaware|New Jersey|Pennsylvania",
         null,
         null,
         null,
         null,
         null,
         null,
         null,
         null,
         null,
         null,
         "25544309",
         null,
         "1999.0",
         "1999.0",
         null
        ],
        [
         "38",
         "1,1,1-trichloroethane",
         "C024566",
         "Environmental|Residential",
         null,
         null,
         null,
         "47.0",
         "Subjects with disease: Amyotrophic Lateral Sclerosis",
         null,
         "Current smoker      | Former smoker      | Never smoker",
         "57.1",
         "years",
         "mean",
         "Both Males and Females",
         "White   99",
         "National-Scale Air Toxics Assessment",
         null,
         null,
         null,
         null,
         "1,1,1-trichloroethane",
         "C024566",
         "1.31",
         "micrograms per cubic meter",
         "median",
         null,
         "United States",
         "Delaware|New Jersey|Pennsylvania",
         null,
         null,
         null,
         null,
         null,
         null,
         null,
         null,
         null,
         null,
         "25544309",
         null,
         "1999.0",
         "1999.0",
         null
        ],
        [
         "39",
         "1,1,1-trichloroethane",
         "C024566",
         "Environmental|Residential",
         null,
         null,
         null,
         "47.0",
         "Subjects with disease: Amyotrophic Lateral Sclerosis",
         null,
         "Current smoker      | Former smoker      | Never smoker",
         "57.1",
         "years",
         "mean",
         "Both Males and Females",
         "White   99",
         "National-Scale Air Toxics Assessment",
         null,
         null,
         null,
         null,
         "1,1,1-trichloroethane",
         "C024566",
         "2.09",
         "micrograms per cubic meter",
         "maximum",
         null,
         "United States",
         "Delaware|New Jersey|Pennsylvania",
         null,
         null,
         null,
         null,
         null,
         null,
         null,
         null,
         null,
         null,
         "25544309",
         null,
         "1999.0",
         "1999.0",
         null
        ],
        [
         "40",
         "1,1,1-trichloroethane",
         "C024566",
         "Environmental|Residential",
         null,
         null,
         null,
         "50.0",
         "Controls for disease: Amyotrophic Lateral Sclerosis",
         null,
         "Current smoker      | Former smoker      | Never smoker",
         "56.4",
         "years",
         "mean",
         "Both Males and Females",
         "White   99",
         "National-Scale Air Toxics Assessment",
         null,
         null,
         null,
         null,
         "1,1,1-trichloroethane",
         "C024566",
         "0.19",
         "micrograms per cubic meter",
         "minimum",
         null,
         "United States",
         "Delaware|New Jersey|Pennsylvania",
         null,
         null,
         null,
         null,
         null,
         null,
         null,
         null,
         null,
         null,
         "25544309",
         null,
         "2005.0",
         "2005.0",
         null
        ],
        [
         "41",
         "1,1,1-trichloroethane",
         "C024566",
         "Environmental|Residential",
         null,
         null,
         null,
         "50.0",
         "Controls for disease: Amyotrophic Lateral Sclerosis",
         null,
         "Current smoker      | Former smoker      | Never smoker",
         "56.4",
         "years",
         "mean",
         "Both Males and Females",
         "White   99",
         "National-Scale Air Toxics Assessment",
         null,
         null,
         null,
         null,
         "1,1,1-trichloroethane",
         "C024566",
         "0.24",
         "micrograms per cubic meter",
         "median",
         null,
         "United States",
         "Delaware|New Jersey|Pennsylvania",
         null,
         null,
         null,
         null,
         null,
         null,
         null,
         null,
         null,
         null,
         "25544309",
         null,
         "2005.0",
         "2005.0",
         null
        ],
        [
         "42",
         "1,1,1-trichloroethane",
         "C024566",
         "Environmental|Residential",
         null,
         null,
         null,
         "50.0",
         "Controls for disease: Amyotrophic Lateral Sclerosis",
         null,
         "Current smoker      | Former smoker      | Never smoker",
         "56.4",
         "years",
         "mean",
         "Both Males and Females",
         "White   99",
         "National-Scale Air Toxics Assessment",
         null,
         null,
         null,
         null,
         "1,1,1-trichloroethane",
         "C024566",
         "0.52",
         "micrograms per cubic meter",
         "maximum",
         null,
         "United States",
         "Delaware|New Jersey|Pennsylvania",
         null,
         null,
         null,
         null,
         null,
         null,
         null,
         null,
         null,
         null,
         "25544309",
         null,
         "2005.0",
         "2005.0",
         null
        ],
        [
         "43",
         "1,1,1-trichloroethane",
         "C024566",
         "Environmental|Residential",
         null,
         null,
         null,
         "50.0",
         "Subjects with disease: Amyotrophic Lateral Sclerosis",
         null,
         "Current smoker      | Former smoker      | Never smoker",
         "57.1",
         "years",
         "mean",
         "Both Males and Females",
         "White   99",
         "National-Scale Air Toxics Assessment",
         null,
         null,
         null,
         null,
         "1,1,1-trichloroethane",
         "C024566",
         "0.18",
         "micrograms per cubic meter",
         "minimum",
         null,
         "United States",
         "Delaware|New Jersey|Pennsylvania",
         null,
         null,
         null,
         null,
         null,
         null,
         null,
         null,
         null,
         null,
         "25544309",
         null,
         "2005.0",
         "2005.0",
         null
        ],
        [
         "44",
         "1,1,1-trichloroethane",
         "C024566",
         "Environmental|Residential",
         null,
         null,
         null,
         "50.0",
         "Subjects with disease: Amyotrophic Lateral Sclerosis",
         null,
         "Current smoker      | Former smoker      | Never smoker",
         "57.1",
         "years",
         "mean",
         "Both Males and Females",
         "White   99",
         "National-Scale Air Toxics Assessment",
         null,
         null,
         null,
         null,
         "1,1,1-trichloroethane",
         "C024566",
         "0.23",
         "micrograms per cubic meter",
         "median",
         null,
         "United States",
         "Delaware|New Jersey|Pennsylvania",
         null,
         null,
         null,
         null,
         null,
         null,
         null,
         null,
         null,
         null,
         "25544309",
         null,
         "2005.0",
         "2005.0",
         null
        ],
        [
         "45",
         "1,1,1-trichloroethane",
         "C024566",
         "Environmental|Residential",
         null,
         null,
         null,
         "50.0",
         "Subjects with disease: Amyotrophic Lateral Sclerosis",
         null,
         "Current smoker      | Former smoker      | Never smoker",
         "57.1",
         "years",
         "mean",
         "Both Males and Females",
         "White   99",
         "National-Scale Air Toxics Assessment",
         null,
         null,
         null,
         null,
         "1,1,1-trichloroethane",
         "C024566",
         "0.61",
         "micrograms per cubic meter",
         "maximum",
         null,
         "United States",
         "Delaware|New Jersey|Pennsylvania",
         null,
         null,
         null,
         null,
         null,
         null,
         null,
         null,
         null,
         null,
         "25544309",
         null,
         "2005.0",
         "2005.0",
         null
        ],
        [
         "46",
         "1,1,1-trichloroethane",
         "C024566",
         "Environmental|Residential",
         null,
         null,
         null,
         "51.0",
         "Controls for disease: Amyotrophic Lateral Sclerosis",
         null,
         "Current smoker      | Former smoker      | Never smoker",
         "56.4",
         "years",
         "mean",
         "Both Males and Females",
         "White   99",
         "National-Scale Air Toxics Assessment",
         null,
         null,
         null,
         null,
         "1,1,1-trichloroethane",
         "C024566",
         "0.18",
         "micrograms per cubic meter",
         "minimum",
         null,
         "United States",
         "Delaware|New Jersey|Pennsylvania",
         null,
         null,
         null,
         null,
         null,
         null,
         null,
         null,
         null,
         null,
         "25544309",
         null,
         "2002.0",
         "2002.0",
         null
        ],
        [
         "47",
         "1,1,1-trichloroethane",
         "C024566",
         "Environmental|Residential",
         null,
         null,
         null,
         "51.0",
         "Controls for disease: Amyotrophic Lateral Sclerosis",
         null,
         "Current smoker      | Former smoker      | Never smoker",
         "56.4",
         "years",
         "mean",
         "Both Males and Females",
         "White   99",
         "National-Scale Air Toxics Assessment",
         null,
         null,
         null,
         null,
         "1,1,1-trichloroethane",
         "C024566",
         "0.23",
         "micrograms per cubic meter",
         "median",
         null,
         "United States",
         "Delaware|New Jersey|Pennsylvania",
         null,
         null,
         null,
         null,
         null,
         null,
         null,
         null,
         null,
         null,
         "25544309",
         null,
         "2002.0",
         "2002.0",
         null
        ],
        [
         "48",
         "1,1,1-trichloroethane",
         "C024566",
         "Environmental|Residential",
         null,
         null,
         null,
         "51.0",
         "Controls for disease: Amyotrophic Lateral Sclerosis",
         null,
         "Current smoker      | Former smoker      | Never smoker",
         "56.4",
         "years",
         "mean",
         "Both Males and Females",
         "White   99",
         "National-Scale Air Toxics Assessment",
         null,
         null,
         null,
         null,
         "1,1,1-trichloroethane",
         "C024566",
         "0.47",
         "micrograms per cubic meter",
         "maximum",
         null,
         "United States",
         "Delaware|New Jersey|Pennsylvania",
         null,
         null,
         null,
         null,
         null,
         null,
         null,
         null,
         null,
         null,
         "25544309",
         null,
         "2002.0",
         "2002.0",
         null
        ],
        [
         "49",
         "1,1,1-trichloroethane",
         "C024566",
         "Environmental|Residential",
         null,
         null,
         null,
         "51.0",
         "Subjects with disease: Amyotrophic Lateral Sclerosis",
         null,
         "Current smoker      | Former smoker      | Never smoker",
         "57.1",
         "years",
         "mean",
         "Both Males and Females",
         "White   99",
         "National-Scale Air Toxics Assessment",
         null,
         null,
         null,
         null,
         "1,1,1-trichloroethane",
         "C024566",
         "0.18",
         "micrograms per cubic meter",
         "minimum",
         null,
         "United States",
         "Delaware|New Jersey|Pennsylvania",
         null,
         null,
         null,
         null,
         null,
         null,
         null,
         null,
         null,
         null,
         "25544309",
         null,
         "2002.0",
         "2002.0",
         null
        ]
       ],
       "shape": {
        "columns": 43,
        "rows": 224304
       }
      },
      "text/html": [
       "<div>\n",
       "<style scoped>\n",
       "    .dataframe tbody tr th:only-of-type {\n",
       "        vertical-align: middle;\n",
       "    }\n",
       "\n",
       "    .dataframe tbody tr th {\n",
       "        vertical-align: top;\n",
       "    }\n",
       "\n",
       "    .dataframe thead th {\n",
       "        text-align: right;\n",
       "    }\n",
       "</style>\n",
       "<table border=\"1\" class=\"dataframe\">\n",
       "  <thead>\n",
       "    <tr style=\"text-align: right;\">\n",
       "      <th></th>\n",
       "      <th>exposurestressorname</th>\n",
       "      <th>exposurestressorid</th>\n",
       "      <th>stressorsourcecategory</th>\n",
       "      <th>stressorsourcedetails</th>\n",
       "      <th>numberofstressorsamples</th>\n",
       "      <th>stressornotes</th>\n",
       "      <th>numberofreceptors</th>\n",
       "      <th>receptors</th>\n",
       "      <th>receptornotes</th>\n",
       "      <th>smokingstatus</th>\n",
       "      <th>...</th>\n",
       "      <th>phenotypename</th>\n",
       "      <th>phenotypeid</th>\n",
       "      <th>phenotypeactiondegreetype</th>\n",
       "      <th>anatomy</th>\n",
       "      <th>exposureoutcomenotes</th>\n",
       "      <th>reference</th>\n",
       "      <th>associatedstudytitles</th>\n",
       "      <th>enrollmentstartyear</th>\n",
       "      <th>enrollmentendyear</th>\n",
       "      <th>studyfactors</th>\n",
       "    </tr>\n",
       "  </thead>\n",
       "  <tbody>\n",
       "    <tr>\n",
       "      <th>0</th>\n",
       "      <td>1,1,1-trichloroethane</td>\n",
       "      <td>C024566</td>\n",
       "      <td>Commercial product|Dietary|Environmental</td>\n",
       "      <td>NaN</td>\n",
       "      <td>NaN</td>\n",
       "      <td>NaN</td>\n",
       "      <td>63.0</td>\n",
       "      <td>Children</td>\n",
       "      <td>NaN</td>\n",
       "      <td>Non-smoker</td>\n",
       "      <td>...</td>\n",
       "      <td>NaN</td>\n",
       "      <td>NaN</td>\n",
       "      <td>NaN</td>\n",
       "      <td>NaN</td>\n",
       "      <td>NaN</td>\n",
       "      <td>15743726</td>\n",
       "      <td>The School Health Initiative: Environment, Lea...</td>\n",
       "      <td>2001.0</td>\n",
       "      <td>2001.0</td>\n",
       "      <td>NaN</td>\n",
       "    </tr>\n",
       "    <tr>\n",
       "      <th>1</th>\n",
       "      <td>1,1,1-trichloroethane</td>\n",
       "      <td>C024566</td>\n",
       "      <td>Commercial product|Dietary|Environmental</td>\n",
       "      <td>NaN</td>\n",
       "      <td>NaN</td>\n",
       "      <td>NaN</td>\n",
       "      <td>63.0</td>\n",
       "      <td>Children</td>\n",
       "      <td>NaN</td>\n",
       "      <td>Non-smoker</td>\n",
       "      <td>...</td>\n",
       "      <td>NaN</td>\n",
       "      <td>NaN</td>\n",
       "      <td>NaN</td>\n",
       "      <td>NaN</td>\n",
       "      <td>NaN</td>\n",
       "      <td>15743726</td>\n",
       "      <td>The School Health Initiative: Environment, Lea...</td>\n",
       "      <td>2001.0</td>\n",
       "      <td>2001.0</td>\n",
       "      <td>NaN</td>\n",
       "    </tr>\n",
       "    <tr>\n",
       "      <th>2</th>\n",
       "      <td>1,1,1-trichloroethane</td>\n",
       "      <td>C024566</td>\n",
       "      <td>Commercial product|Dietary|Environmental</td>\n",
       "      <td>NaN</td>\n",
       "      <td>NaN</td>\n",
       "      <td>NaN</td>\n",
       "      <td>63.0</td>\n",
       "      <td>Children</td>\n",
       "      <td>NaN</td>\n",
       "      <td>Non-smoker</td>\n",
       "      <td>...</td>\n",
       "      <td>NaN</td>\n",
       "      <td>NaN</td>\n",
       "      <td>NaN</td>\n",
       "      <td>NaN</td>\n",
       "      <td>NaN</td>\n",
       "      <td>15743726</td>\n",
       "      <td>The School Health Initiative: Environment, Lea...</td>\n",
       "      <td>2001.0</td>\n",
       "      <td>2001.0</td>\n",
       "      <td>NaN</td>\n",
       "    </tr>\n",
       "    <tr>\n",
       "      <th>3</th>\n",
       "      <td>1,1,1-trichloroethane</td>\n",
       "      <td>C024566</td>\n",
       "      <td>Commercial product|Dietary|Environmental</td>\n",
       "      <td>NaN</td>\n",
       "      <td>NaN</td>\n",
       "      <td>NaN</td>\n",
       "      <td>63.0</td>\n",
       "      <td>Children</td>\n",
       "      <td>NaN</td>\n",
       "      <td>Non-smoker</td>\n",
       "      <td>...</td>\n",
       "      <td>NaN</td>\n",
       "      <td>NaN</td>\n",
       "      <td>NaN</td>\n",
       "      <td>NaN</td>\n",
       "      <td>NaN</td>\n",
       "      <td>15743726</td>\n",
       "      <td>The School Health Initiative: Environment, Lea...</td>\n",
       "      <td>2001.0</td>\n",
       "      <td>2001.0</td>\n",
       "      <td>NaN</td>\n",
       "    </tr>\n",
       "    <tr>\n",
       "      <th>4</th>\n",
       "      <td>1,1,1-trichloroethane</td>\n",
       "      <td>C024566</td>\n",
       "      <td>Commercial product|Dietary|Environmental</td>\n",
       "      <td>NaN</td>\n",
       "      <td>NaN</td>\n",
       "      <td>NaN</td>\n",
       "      <td>63.0</td>\n",
       "      <td>Children</td>\n",
       "      <td>NaN</td>\n",
       "      <td>Non-smoker</td>\n",
       "      <td>...</td>\n",
       "      <td>NaN</td>\n",
       "      <td>NaN</td>\n",
       "      <td>NaN</td>\n",
       "      <td>NaN</td>\n",
       "      <td>NaN</td>\n",
       "      <td>15743726</td>\n",
       "      <td>The School Health Initiative: Environment, Lea...</td>\n",
       "      <td>2001.0</td>\n",
       "      <td>2001.0</td>\n",
       "      <td>NaN</td>\n",
       "    </tr>\n",
       "    <tr>\n",
       "      <th>...</th>\n",
       "      <td>...</td>\n",
       "      <td>...</td>\n",
       "      <td>...</td>\n",
       "      <td>...</td>\n",
       "      <td>...</td>\n",
       "      <td>...</td>\n",
       "      <td>...</td>\n",
       "      <td>...</td>\n",
       "      <td>...</td>\n",
       "      <td>...</td>\n",
       "      <td>...</td>\n",
       "      <td>...</td>\n",
       "      <td>...</td>\n",
       "      <td>...</td>\n",
       "      <td>...</td>\n",
       "      <td>...</td>\n",
       "      <td>...</td>\n",
       "      <td>...</td>\n",
       "      <td>...</td>\n",
       "      <td>...</td>\n",
       "      <td>...</td>\n",
       "    </tr>\n",
       "    <tr>\n",
       "      <th>224299</th>\n",
       "      <td>Zirconium</td>\n",
       "      <td>D015040</td>\n",
       "      <td>Environmental</td>\n",
       "      <td>NaN</td>\n",
       "      <td>NaN</td>\n",
       "      <td>NaN</td>\n",
       "      <td>90.0</td>\n",
       "      <td>Subjects with disease: Obesity</td>\n",
       "      <td>NaN</td>\n",
       "      <td>NaN</td>\n",
       "      <td>...</td>\n",
       "      <td>NaN</td>\n",
       "      <td>NaN</td>\n",
       "      <td>NaN</td>\n",
       "      <td>NaN</td>\n",
       "      <td>NaN</td>\n",
       "      <td>27611787</td>\n",
       "      <td>Susceptibility to Particle Health Effects, miR...</td>\n",
       "      <td>2010.0</td>\n",
       "      <td>2011.0</td>\n",
       "      <td>NaN</td>\n",
       "    </tr>\n",
       "    <tr>\n",
       "      <th>224300</th>\n",
       "      <td>Zirconium</td>\n",
       "      <td>D015040</td>\n",
       "      <td>Environmental</td>\n",
       "      <td>NaN</td>\n",
       "      <td>NaN</td>\n",
       "      <td>NaN</td>\n",
       "      <td>90.0</td>\n",
       "      <td>Subjects with disease: Obesity</td>\n",
       "      <td>NaN</td>\n",
       "      <td>NaN</td>\n",
       "      <td>...</td>\n",
       "      <td>NaN</td>\n",
       "      <td>NaN</td>\n",
       "      <td>NaN</td>\n",
       "      <td>NaN</td>\n",
       "      <td>NaN</td>\n",
       "      <td>27611787</td>\n",
       "      <td>Susceptibility to Particle Health Effects, miR...</td>\n",
       "      <td>2010.0</td>\n",
       "      <td>2011.0</td>\n",
       "      <td>NaN</td>\n",
       "    </tr>\n",
       "    <tr>\n",
       "      <th>224301</th>\n",
       "      <td>Zirconium</td>\n",
       "      <td>D015040</td>\n",
       "      <td>Environmental</td>\n",
       "      <td>NaN</td>\n",
       "      <td>NaN</td>\n",
       "      <td>NaN</td>\n",
       "      <td>90.0</td>\n",
       "      <td>Subjects with disease: Obesity</td>\n",
       "      <td>NaN</td>\n",
       "      <td>NaN</td>\n",
       "      <td>...</td>\n",
       "      <td>NaN</td>\n",
       "      <td>NaN</td>\n",
       "      <td>NaN</td>\n",
       "      <td>NaN</td>\n",
       "      <td>NaN</td>\n",
       "      <td>27611787</td>\n",
       "      <td>Susceptibility to Particle Health Effects, miR...</td>\n",
       "      <td>2010.0</td>\n",
       "      <td>2011.0</td>\n",
       "      <td>NaN</td>\n",
       "    </tr>\n",
       "    <tr>\n",
       "      <th>224302</th>\n",
       "      <td>Zirconium</td>\n",
       "      <td>D015040</td>\n",
       "      <td>Environmental</td>\n",
       "      <td>NaN</td>\n",
       "      <td>NaN</td>\n",
       "      <td>NaN</td>\n",
       "      <td>90.0</td>\n",
       "      <td>Subjects with disease: Obesity</td>\n",
       "      <td>NaN</td>\n",
       "      <td>NaN</td>\n",
       "      <td>...</td>\n",
       "      <td>NaN</td>\n",
       "      <td>NaN</td>\n",
       "      <td>NaN</td>\n",
       "      <td>NaN</td>\n",
       "      <td>NaN</td>\n",
       "      <td>27611787</td>\n",
       "      <td>Susceptibility to Particle Health Effects, miR...</td>\n",
       "      <td>2010.0</td>\n",
       "      <td>2011.0</td>\n",
       "      <td>NaN</td>\n",
       "    </tr>\n",
       "    <tr>\n",
       "      <th>224303</th>\n",
       "      <td>Zirconium</td>\n",
       "      <td>D015040</td>\n",
       "      <td>Environmental</td>\n",
       "      <td>NaN</td>\n",
       "      <td>NaN</td>\n",
       "      <td>NaN</td>\n",
       "      <td>90.0</td>\n",
       "      <td>Subjects with disease: Obesity</td>\n",
       "      <td>NaN</td>\n",
       "      <td>NaN</td>\n",
       "      <td>...</td>\n",
       "      <td>NaN</td>\n",
       "      <td>NaN</td>\n",
       "      <td>NaN</td>\n",
       "      <td>NaN</td>\n",
       "      <td>NaN</td>\n",
       "      <td>27611787</td>\n",
       "      <td>Susceptibility to Particle Health Effects, miR...</td>\n",
       "      <td>2010.0</td>\n",
       "      <td>2011.0</td>\n",
       "      <td>NaN</td>\n",
       "    </tr>\n",
       "  </tbody>\n",
       "</table>\n",
       "<p>224304 rows × 43 columns</p>\n",
       "</div>"
      ],
      "text/plain": [
       "         exposurestressorname exposurestressorid  \\\n",
       "0       1,1,1-trichloroethane            C024566   \n",
       "1       1,1,1-trichloroethane            C024566   \n",
       "2       1,1,1-trichloroethane            C024566   \n",
       "3       1,1,1-trichloroethane            C024566   \n",
       "4       1,1,1-trichloroethane            C024566   \n",
       "...                       ...                ...   \n",
       "224299              Zirconium            D015040   \n",
       "224300              Zirconium            D015040   \n",
       "224301              Zirconium            D015040   \n",
       "224302              Zirconium            D015040   \n",
       "224303              Zirconium            D015040   \n",
       "\n",
       "                          stressorsourcecategory stressorsourcedetails  \\\n",
       "0       Commercial product|Dietary|Environmental                   NaN   \n",
       "1       Commercial product|Dietary|Environmental                   NaN   \n",
       "2       Commercial product|Dietary|Environmental                   NaN   \n",
       "3       Commercial product|Dietary|Environmental                   NaN   \n",
       "4       Commercial product|Dietary|Environmental                   NaN   \n",
       "...                                          ...                   ...   \n",
       "224299                             Environmental                   NaN   \n",
       "224300                             Environmental                   NaN   \n",
       "224301                             Environmental                   NaN   \n",
       "224302                             Environmental                   NaN   \n",
       "224303                             Environmental                   NaN   \n",
       "\n",
       "        numberofstressorsamples stressornotes  numberofreceptors  \\\n",
       "0                           NaN           NaN               63.0   \n",
       "1                           NaN           NaN               63.0   \n",
       "2                           NaN           NaN               63.0   \n",
       "3                           NaN           NaN               63.0   \n",
       "4                           NaN           NaN               63.0   \n",
       "...                         ...           ...                ...   \n",
       "224299                      NaN           NaN               90.0   \n",
       "224300                      NaN           NaN               90.0   \n",
       "224301                      NaN           NaN               90.0   \n",
       "224302                      NaN           NaN               90.0   \n",
       "224303                      NaN           NaN               90.0   \n",
       "\n",
       "                             receptors receptornotes smokingstatus  ...  \\\n",
       "0                             Children           NaN    Non-smoker  ...   \n",
       "1                             Children           NaN    Non-smoker  ...   \n",
       "2                             Children           NaN    Non-smoker  ...   \n",
       "3                             Children           NaN    Non-smoker  ...   \n",
       "4                             Children           NaN    Non-smoker  ...   \n",
       "...                                ...           ...           ...  ...   \n",
       "224299  Subjects with disease: Obesity           NaN           NaN  ...   \n",
       "224300  Subjects with disease: Obesity           NaN           NaN  ...   \n",
       "224301  Subjects with disease: Obesity           NaN           NaN  ...   \n",
       "224302  Subjects with disease: Obesity           NaN           NaN  ...   \n",
       "224303  Subjects with disease: Obesity           NaN           NaN  ...   \n",
       "\n",
       "       phenotypename phenotypeid phenotypeactiondegreetype anatomy  \\\n",
       "0                NaN         NaN                       NaN     NaN   \n",
       "1                NaN         NaN                       NaN     NaN   \n",
       "2                NaN         NaN                       NaN     NaN   \n",
       "3                NaN         NaN                       NaN     NaN   \n",
       "4                NaN         NaN                       NaN     NaN   \n",
       "...              ...         ...                       ...     ...   \n",
       "224299           NaN         NaN                       NaN     NaN   \n",
       "224300           NaN         NaN                       NaN     NaN   \n",
       "224301           NaN         NaN                       NaN     NaN   \n",
       "224302           NaN         NaN                       NaN     NaN   \n",
       "224303           NaN         NaN                       NaN     NaN   \n",
       "\n",
       "       exposureoutcomenotes reference  \\\n",
       "0                       NaN  15743726   \n",
       "1                       NaN  15743726   \n",
       "2                       NaN  15743726   \n",
       "3                       NaN  15743726   \n",
       "4                       NaN  15743726   \n",
       "...                     ...       ...   \n",
       "224299                  NaN  27611787   \n",
       "224300                  NaN  27611787   \n",
       "224301                  NaN  27611787   \n",
       "224302                  NaN  27611787   \n",
       "224303                  NaN  27611787   \n",
       "\n",
       "                                    associatedstudytitles enrollmentstartyear  \\\n",
       "0       The School Health Initiative: Environment, Lea...              2001.0   \n",
       "1       The School Health Initiative: Environment, Lea...              2001.0   \n",
       "2       The School Health Initiative: Environment, Lea...              2001.0   \n",
       "3       The School Health Initiative: Environment, Lea...              2001.0   \n",
       "4       The School Health Initiative: Environment, Lea...              2001.0   \n",
       "...                                                   ...                 ...   \n",
       "224299  Susceptibility to Particle Health Effects, miR...              2010.0   \n",
       "224300  Susceptibility to Particle Health Effects, miR...              2010.0   \n",
       "224301  Susceptibility to Particle Health Effects, miR...              2010.0   \n",
       "224302  Susceptibility to Particle Health Effects, miR...              2010.0   \n",
       "224303  Susceptibility to Particle Health Effects, miR...              2010.0   \n",
       "\n",
       "       enrollmentendyear studyfactors  \n",
       "0                 2001.0          NaN  \n",
       "1                 2001.0          NaN  \n",
       "2                 2001.0          NaN  \n",
       "3                 2001.0          NaN  \n",
       "4                 2001.0          NaN  \n",
       "...                  ...          ...  \n",
       "224299            2011.0          NaN  \n",
       "224300            2011.0          NaN  \n",
       "224301            2011.0          NaN  \n",
       "224302            2011.0          NaN  \n",
       "224303            2011.0          NaN  \n",
       "\n",
       "[224304 rows x 43 columns]"
      ]
     },
     "execution_count": 2,
     "metadata": {},
     "output_type": "execute_result"
    }
   ],
   "source": [
    "# https://ctdbase.org/reports/CTD_exposure_events.csv.gz\n",
    "columns = [\n",
    "    'exposurestressorname', 'exposurestressorid', 'stressorsourcecategory', \n",
    "    'stressorsourcedetails', 'numberofstressorsamples', 'stressornotes',\n",
    "    'numberofreceptors', 'receptors', 'receptornotes', 'smokingstatus',\n",
    "    'age', 'ageunitsofmeasurement', 'agequalifier', 'sex', 'race',\n",
    "    'methods', 'detectionlimit', 'detectionlimituom', 'detectionfrequency',\n",
    "    'medium', 'exposuremarker', 'exposuremarkerid', 'markerlevel',\n",
    "    'markerunitsofmeasurement', 'markermeasurementstatistic', 'assaynotes',\n",
    "    'studycountries', 'stateorprovince', 'citytownregionarea',\n",
    "    'exposureeventnotes', 'outcomerelationship', 'diseasename', 'diseaseid',\n",
    "    'phenotypename', 'phenotypeid', 'phenotypeactiondegreetype', 'anatomy',\n",
    "    'exposureoutcomenotes', 'reference', 'associatedstudytitles',\n",
    "    'enrollmentstartyear', 'enrollmentendyear', 'studyfactors'\n",
    "]\n",
    "\n",
    "ctd_exposure_event = pd.read_csv('CTD_exposure_events.csv', \n",
    "                               comment='#',\n",
    "                               names=columns, index_col=False)\n",
    "ctd_exposure_event"
   ]
  },
  {
   "cell_type": "code",
   "execution_count": 3,
   "metadata": {},
   "outputs": [
    {
     "data": {
      "application/vnd.microsoft.datawrangler.viewer.v0+json": {
       "columns": [
        {
         "name": "index",
         "rawType": "int64",
         "type": "integer"
        },
        {
         "name": "exposurestressorname",
         "rawType": "object",
         "type": "string"
        },
        {
         "name": "exposurestressorid",
         "rawType": "object",
         "type": "string"
        }
       ],
       "conversionMethod": "pd.DataFrame",
       "ref": "72ff2036-cf9a-4f4c-a1fb-fab04e6d0e01",
       "rows": [
        [
         "0",
         "Carbamates",
         "D002219"
        ],
        [
         "1",
         "Formaldehyde",
         "D005557"
        ],
        [
         "2",
         "Elements",
         "D004602"
        ],
        [
         "3",
         "2,4-dichlorophenol",
         "C004762"
        ],
        [
         "4",
         "Arsenic",
         "D001151"
        ]
       ],
       "shape": {
        "columns": 2,
        "rows": 5
       }
      },
      "text/html": [
       "<div>\n",
       "<style scoped>\n",
       "    .dataframe tbody tr th:only-of-type {\n",
       "        vertical-align: middle;\n",
       "    }\n",
       "\n",
       "    .dataframe tbody tr th {\n",
       "        vertical-align: top;\n",
       "    }\n",
       "\n",
       "    .dataframe thead th {\n",
       "        text-align: right;\n",
       "    }\n",
       "</style>\n",
       "<table border=\"1\" class=\"dataframe\">\n",
       "  <thead>\n",
       "    <tr style=\"text-align: right;\">\n",
       "      <th></th>\n",
       "      <th>exposurestressorname</th>\n",
       "      <th>exposurestressorid</th>\n",
       "    </tr>\n",
       "  </thead>\n",
       "  <tbody>\n",
       "    <tr>\n",
       "      <th>0</th>\n",
       "      <td>Carbamates</td>\n",
       "      <td>D002219</td>\n",
       "    </tr>\n",
       "    <tr>\n",
       "      <th>1</th>\n",
       "      <td>Formaldehyde</td>\n",
       "      <td>D005557</td>\n",
       "    </tr>\n",
       "    <tr>\n",
       "      <th>2</th>\n",
       "      <td>Elements</td>\n",
       "      <td>D004602</td>\n",
       "    </tr>\n",
       "    <tr>\n",
       "      <th>3</th>\n",
       "      <td>2,4-dichlorophenol</td>\n",
       "      <td>C004762</td>\n",
       "    </tr>\n",
       "    <tr>\n",
       "      <th>4</th>\n",
       "      <td>Arsenic</td>\n",
       "      <td>D001151</td>\n",
       "    </tr>\n",
       "  </tbody>\n",
       "</table>\n",
       "</div>"
      ],
      "text/plain": [
       "  exposurestressorname exposurestressorid\n",
       "0           Carbamates            D002219\n",
       "1         Formaldehyde            D005557\n",
       "2             Elements            D004602\n",
       "3   2,4-dichlorophenol            C004762\n",
       "4              Arsenic            D001151"
      ]
     },
     "execution_count": 3,
     "metadata": {},
     "output_type": "execute_result"
    }
   ],
   "source": [
    "exposure1 = ctd_exposure_study[['exposurestressors']]\n",
    "# \"|\" is the separator for the exposurestressors column\n",
    "exposure1 = exposure1['exposurestressors'].str.split('|', expand=True)\n",
    "# the format of this column is Name^ID^Database\n",
    "exposure1 = exposure1[0].str.split('^', expand=True)\n",
    "exposure1.columns = ['exposurestressorname', 'exposurestressorid', 'exposurestressordatabase']\n",
    "exposure1.drop(columns=['exposurestressordatabase'], inplace=True)\n",
    "exposure1.head()\n"
   ]
  },
  {
   "cell_type": "code",
   "execution_count": 4,
   "metadata": {},
   "outputs": [
    {
     "data": {
      "application/vnd.microsoft.datawrangler.viewer.v0+json": {
       "columns": [
        {
         "name": "index",
         "rawType": "int64",
         "type": "integer"
        },
        {
         "name": "exposurestressorname",
         "rawType": "object",
         "type": "string"
        },
        {
         "name": "exposurestressorid",
         "rawType": "object",
         "type": "string"
        }
       ],
       "conversionMethod": "pd.DataFrame",
       "ref": "d7cde195-9371-478a-9e9a-b01b7e943999",
       "rows": [
        [
         "0",
         "1,1,1-trichloroethane",
         "C024566"
        ],
        [
         "57",
         "1,1,2,2-tetrachloroethane",
         "C015530"
        ],
        [
         "77",
         "1,12-benzoperylene",
         "C006718"
        ],
        [
         "122",
         "1,1-diethoxyethane",
         "C000603996"
        ],
        [
         "124",
         "1,2,3,4,6,7,8-heptachlorodibenzodioxin",
         "C046839"
        ]
       ],
       "shape": {
        "columns": 2,
        "rows": 5
       }
      },
      "text/html": [
       "<div>\n",
       "<style scoped>\n",
       "    .dataframe tbody tr th:only-of-type {\n",
       "        vertical-align: middle;\n",
       "    }\n",
       "\n",
       "    .dataframe tbody tr th {\n",
       "        vertical-align: top;\n",
       "    }\n",
       "\n",
       "    .dataframe thead th {\n",
       "        text-align: right;\n",
       "    }\n",
       "</style>\n",
       "<table border=\"1\" class=\"dataframe\">\n",
       "  <thead>\n",
       "    <tr style=\"text-align: right;\">\n",
       "      <th></th>\n",
       "      <th>exposurestressorname</th>\n",
       "      <th>exposurestressorid</th>\n",
       "    </tr>\n",
       "  </thead>\n",
       "  <tbody>\n",
       "    <tr>\n",
       "      <th>0</th>\n",
       "      <td>1,1,1-trichloroethane</td>\n",
       "      <td>C024566</td>\n",
       "    </tr>\n",
       "    <tr>\n",
       "      <th>57</th>\n",
       "      <td>1,1,2,2-tetrachloroethane</td>\n",
       "      <td>C015530</td>\n",
       "    </tr>\n",
       "    <tr>\n",
       "      <th>77</th>\n",
       "      <td>1,12-benzoperylene</td>\n",
       "      <td>C006718</td>\n",
       "    </tr>\n",
       "    <tr>\n",
       "      <th>122</th>\n",
       "      <td>1,1-diethoxyethane</td>\n",
       "      <td>C000603996</td>\n",
       "    </tr>\n",
       "    <tr>\n",
       "      <th>124</th>\n",
       "      <td>1,2,3,4,6,7,8-heptachlorodibenzodioxin</td>\n",
       "      <td>C046839</td>\n",
       "    </tr>\n",
       "  </tbody>\n",
       "</table>\n",
       "</div>"
      ],
      "text/plain": [
       "                       exposurestressorname exposurestressorid\n",
       "0                     1,1,1-trichloroethane            C024566\n",
       "57                1,1,2,2-tetrachloroethane            C015530\n",
       "77                       1,12-benzoperylene            C006718\n",
       "122                      1,1-diethoxyethane         C000603996\n",
       "124  1,2,3,4,6,7,8-heptachlorodibenzodioxin            C046839"
      ]
     },
     "execution_count": 4,
     "metadata": {},
     "output_type": "execute_result"
    }
   ],
   "source": [
    "exposure2 = ctd_exposure_event[['exposurestressorname','exposurestressorid']].drop_duplicates()\n",
    "exposure2.head()"
   ]
  },
  {
   "cell_type": "code",
   "execution_count": 5,
   "metadata": {},
   "outputs": [
    {
     "data": {
      "application/vnd.microsoft.datawrangler.viewer.v0+json": {
       "columns": [
        {
         "name": "index",
         "rawType": "int64",
         "type": "integer"
        },
        {
         "name": "exposurestressorname",
         "rawType": "object",
         "type": "string"
        },
        {
         "name": "exposurestressorid",
         "rawType": "object",
         "type": "string"
        }
       ],
       "conversionMethod": "pd.DataFrame",
       "ref": "afdaa584-e0e2-4c27-b3d3-99f048943e39",
       "rows": [
        [
         "0",
         "Carbamates",
         "D002219"
        ],
        [
         "1",
         "Formaldehyde",
         "D005557"
        ],
        [
         "2",
         "Elements",
         "D004602"
        ],
        [
         "3",
         "2,4-dichlorophenol",
         "C004762"
        ],
        [
         "4",
         "Arsenic",
         "D001151"
        ],
        [
         "5",
         "Lead",
         "D007854"
        ],
        [
         "6",
         "Tetrachloroethylene",
         "D013750"
        ],
        [
         "7",
         "2,2',3',4,4',5-hexachlorobiphenyl",
         "C029790"
        ],
        [
         "8",
         "Dipyrone",
         "D004177"
        ],
        [
         "9",
         "Asbestos",
         "D001194"
        ],
        [
         "10",
         "Agent Orange",
         "D000075182"
        ],
        [
         "12",
         "Asbestos, Amphibole",
         "D017636"
        ],
        [
         "13",
         "Propylene Glycol",
         "D019946"
        ],
        [
         "14",
         "Cyanamide",
         "D003484"
        ],
        [
         "15",
         "Dichlorodiphenyl Dichloroethylene",
         "D003633"
        ],
        [
         "16",
         "2,4-Dichlorophenoxyacetic Acid",
         "D015084"
        ],
        [
         "17",
         "Pesticides",
         "D010575"
        ],
        [
         "20",
         "Tetrachlorodibenzodioxin",
         "D013749"
        ],
        [
         "21",
         "Dust",
         "D004391"
        ],
        [
         "22",
         "Air Pollutants, Occupational",
         "D000395"
        ],
        [
         "23",
         "Isocyanates",
         "D017953"
        ],
        [
         "24",
         "Carbaryl",
         "D012721"
        ],
        [
         "27",
         "tetramethylenedisulfotetramine",
         "C010349"
        ],
        [
         "28",
         "perfluorooctane sulfonic acid",
         "C076994"
        ],
        [
         "29",
         "butylate",
         "C023898"
        ],
        [
         "30",
         "Styrene",
         "D020058"
        ],
        [
         "31",
         "Chlordan",
         "D002706"
        ],
        [
         "33",
         "hexachlorobutadiene",
         "C001335"
        ],
        [
         "34",
         "Radioactive Pollutants",
         "D011848"
        ],
        [
         "35",
         "Diethylhexyl Phthalate",
         "D004051"
        ],
        [
         "36",
         "2,2',4,4'-tetrabromodiphenyl ether",
         "C511295"
        ],
        [
         "37",
         "Metals, Heavy",
         "D019216"
        ],
        [
         "39",
         "2,2',3,4,4',5',6-heptabromodiphenyl ether",
         "C483839"
        ],
        [
         "40",
         "2,4,5,2',4',5'-hexachlorobiphenyl",
         "C014024"
        ],
        [
         "41",
         "Herbicides",
         "D006540"
        ],
        [
         "42",
         "Methylmercury Compounds",
         "D008767"
        ],
        [
         "43",
         "allergen Bla g 1",
         "C105482"
        ],
        [
         "44",
         "Monoterpenes",
         "D039821"
        ],
        [
         "45",
         "Fungicides, Industrial",
         "D005659"
        ],
        [
         "46",
         "Carbon Monoxide",
         "D002248"
        ],
        [
         "47",
         "Tobacco Smoke Pollution",
         "D014028"
        ],
        [
         "50",
         "Industrial Waste",
         "D007220"
        ],
        [
         "51",
         "Air Pollutants",
         "D000393"
        ],
        [
         "55",
         "Nitrogen Dioxide",
         "D009585"
        ],
        [
         "56",
         "Dioxins",
         "D004147"
        ],
        [
         "58",
         "Organophosphates",
         "D010755"
        ],
        [
         "59",
         "Disinfectants",
         "D004202"
        ],
        [
         "60",
         "2,2',3,3',4,4',5-heptachlorobiphenyl",
         "C541131"
        ],
        [
         "62",
         "Vehicle Emissions",
         "D001335"
        ],
        [
         "63",
         "Endocrine Disruptors",
         "D052244"
        ]
       ],
       "shape": {
        "columns": 2,
        "rows": 1159
       }
      },
      "text/html": [
       "<div>\n",
       "<style scoped>\n",
       "    .dataframe tbody tr th:only-of-type {\n",
       "        vertical-align: middle;\n",
       "    }\n",
       "\n",
       "    .dataframe tbody tr th {\n",
       "        vertical-align: top;\n",
       "    }\n",
       "\n",
       "    .dataframe thead th {\n",
       "        text-align: right;\n",
       "    }\n",
       "</style>\n",
       "<table border=\"1\" class=\"dataframe\">\n",
       "  <thead>\n",
       "    <tr style=\"text-align: right;\">\n",
       "      <th></th>\n",
       "      <th>exposurestressorname</th>\n",
       "      <th>exposurestressorid</th>\n",
       "    </tr>\n",
       "  </thead>\n",
       "  <tbody>\n",
       "    <tr>\n",
       "      <th>0</th>\n",
       "      <td>Carbamates</td>\n",
       "      <td>D002219</td>\n",
       "    </tr>\n",
       "    <tr>\n",
       "      <th>1</th>\n",
       "      <td>Formaldehyde</td>\n",
       "      <td>D005557</td>\n",
       "    </tr>\n",
       "    <tr>\n",
       "      <th>2</th>\n",
       "      <td>Elements</td>\n",
       "      <td>D004602</td>\n",
       "    </tr>\n",
       "    <tr>\n",
       "      <th>3</th>\n",
       "      <td>2,4-dichlorophenol</td>\n",
       "      <td>C004762</td>\n",
       "    </tr>\n",
       "    <tr>\n",
       "      <th>4</th>\n",
       "      <td>Arsenic</td>\n",
       "      <td>D001151</td>\n",
       "    </tr>\n",
       "    <tr>\n",
       "      <th>...</th>\n",
       "      <td>...</td>\n",
       "      <td>...</td>\n",
       "    </tr>\n",
       "    <tr>\n",
       "      <th>4692</th>\n",
       "      <td>Yttrium</td>\n",
       "      <td>D015019</td>\n",
       "    </tr>\n",
       "    <tr>\n",
       "      <th>4693</th>\n",
       "      <td>Zeaxanthins</td>\n",
       "      <td>D065146</td>\n",
       "    </tr>\n",
       "    <tr>\n",
       "      <th>4695</th>\n",
       "      <td>zinc protoporphyrin</td>\n",
       "      <td>C017803</td>\n",
       "    </tr>\n",
       "    <tr>\n",
       "      <th>4696</th>\n",
       "      <td>Ziram</td>\n",
       "      <td>D015039</td>\n",
       "    </tr>\n",
       "    <tr>\n",
       "      <th>4697</th>\n",
       "      <td>Zirconium</td>\n",
       "      <td>D015040</td>\n",
       "    </tr>\n",
       "  </tbody>\n",
       "</table>\n",
       "<p>1159 rows × 2 columns</p>\n",
       "</div>"
      ],
      "text/plain": [
       "     exposurestressorname exposurestressorid\n",
       "0              Carbamates            D002219\n",
       "1            Formaldehyde            D005557\n",
       "2                Elements            D004602\n",
       "3      2,4-dichlorophenol            C004762\n",
       "4                 Arsenic            D001151\n",
       "...                   ...                ...\n",
       "4692              Yttrium            D015019\n",
       "4693          Zeaxanthins            D065146\n",
       "4695  zinc protoporphyrin            C017803\n",
       "4696                Ziram            D015039\n",
       "4697            Zirconium            D015040\n",
       "\n",
       "[1159 rows x 2 columns]"
      ]
     },
     "execution_count": 5,
     "metadata": {},
     "output_type": "execute_result"
    }
   ],
   "source": [
    "ctd_exposure = pd.concat([exposure1, exposure2], ignore_index=True)\n",
    "ctd_exposure.drop_duplicates(inplace=True)\n",
    "ctd_exposure"
   ]
  },
  {
   "cell_type": "code",
   "execution_count": 6,
   "metadata": {},
   "outputs": [
    {
     "data": {
      "application/vnd.microsoft.datawrangler.viewer.v0+json": {
       "columns": [
        {
         "name": "index",
         "rawType": "int64",
         "type": "integer"
        },
        {
         "name": "exposurestressorname",
         "rawType": "object",
         "type": "string"
        },
        {
         "name": "exposurestressorid",
         "rawType": "object",
         "type": "string"
        },
        {
         "name": "CasRN",
         "rawType": "object",
         "type": "unknown"
        }
       ],
       "conversionMethod": "pd.DataFrame",
       "ref": "543bc523-1495-4ddf-99a2-298f686fdafa",
       "rows": [
        [
         "0",
         "Carbamates",
         "D002219",
         null
        ],
        [
         "1",
         "Formaldehyde",
         "D005557",
         "50-00-0"
        ],
        [
         "2",
         "Elements",
         "D004602",
         null
        ],
        [
         "3",
         "2,4-dichlorophenol",
         "C004762",
         "120-83-2"
        ],
        [
         "4",
         "Arsenic",
         "D001151",
         "7440-38-2"
        ],
        [
         "5",
         "Lead",
         "D007854",
         "7439-92-1"
        ],
        [
         "6",
         "Tetrachloroethylene",
         "D013750",
         "127-18-4"
        ],
        [
         "7",
         "2,2',3',4,4',5-hexachlorobiphenyl",
         "C029790",
         "35065-28-2"
        ],
        [
         "8",
         "Dipyrone",
         "D004177",
         null
        ],
        [
         "9",
         "Asbestos",
         "D001194",
         "1332-21-4"
        ],
        [
         "10",
         "Agent Orange",
         "D000075182",
         "39277-47-9"
        ],
        [
         "11",
         "Asbestos, Amphibole",
         "D017636",
         null
        ],
        [
         "12",
         "Propylene Glycol",
         "D019946",
         "57-55-6"
        ],
        [
         "13",
         "Cyanamide",
         "D003484",
         "420-04-2"
        ],
        [
         "14",
         "Dichlorodiphenyl Dichloroethylene",
         "D003633",
         "72-55-9"
        ],
        [
         "15",
         "2,4-Dichlorophenoxyacetic Acid",
         "D015084",
         "94-75-7"
        ],
        [
         "16",
         "Pesticides",
         "D010575",
         null
        ],
        [
         "17",
         "Tetrachlorodibenzodioxin",
         "D013749",
         "1746-01-6"
        ],
        [
         "18",
         "Dust",
         "D004391",
         null
        ],
        [
         "19",
         "Air Pollutants, Occupational",
         "D000395",
         null
        ],
        [
         "20",
         "Isocyanates",
         "D017953",
         null
        ],
        [
         "21",
         "Carbaryl",
         "D012721",
         "63-25-2"
        ],
        [
         "22",
         "tetramethylenedisulfotetramine",
         "C010349",
         "80-12-6"
        ],
        [
         "23",
         "perfluorooctane sulfonic acid",
         "C076994",
         "1763-23-1"
        ],
        [
         "24",
         "butylate",
         "C023898",
         "2008-41-5"
        ],
        [
         "25",
         "Styrene",
         "D020058",
         null
        ],
        [
         "26",
         "Chlordan",
         "D002706",
         "12789-03-6"
        ],
        [
         "27",
         "hexachlorobutadiene",
         "C001335",
         "87-68-3"
        ],
        [
         "28",
         "Radioactive Pollutants",
         "D011848",
         null
        ],
        [
         "29",
         "Diethylhexyl Phthalate",
         "D004051",
         "117-81-7"
        ],
        [
         "30",
         "2,2',4,4'-tetrabromodiphenyl ether",
         "C511295",
         null
        ],
        [
         "31",
         "Metals, Heavy",
         "D019216",
         null
        ],
        [
         "32",
         "2,2',3,4,4',5',6-heptabromodiphenyl ether",
         "C483839",
         null
        ],
        [
         "33",
         "2,4,5,2',4',5'-hexachlorobiphenyl",
         "C014024",
         "35065-27-1"
        ],
        [
         "34",
         "Herbicides",
         "D006540",
         null
        ],
        [
         "35",
         "Methylmercury Compounds",
         "D008767",
         null
        ],
        [
         "36",
         "allergen Bla g 1",
         "C105482",
         null
        ],
        [
         "37",
         "Monoterpenes",
         "D039821",
         null
        ],
        [
         "38",
         "Fungicides, Industrial",
         "D005659",
         null
        ],
        [
         "39",
         "Carbon Monoxide",
         "D002248",
         "630-08-0"
        ],
        [
         "40",
         "Tobacco Smoke Pollution",
         "D014028",
         null
        ],
        [
         "41",
         "Industrial Waste",
         "D007220",
         null
        ],
        [
         "42",
         "Air Pollutants",
         "D000393",
         null
        ],
        [
         "43",
         "Nitrogen Dioxide",
         "D009585",
         "10102-44-0"
        ],
        [
         "44",
         "Dioxins",
         "D004147",
         null
        ],
        [
         "45",
         "Organophosphates",
         "D010755",
         null
        ],
        [
         "46",
         "Disinfectants",
         "D004202",
         null
        ],
        [
         "47",
         "2,2',3,3',4,4',5-heptachlorobiphenyl",
         "C541131",
         null
        ],
        [
         "48",
         "Vehicle Emissions",
         "D001335",
         null
        ],
        [
         "49",
         "Endocrine Disruptors",
         "D052244",
         null
        ]
       ],
       "shape": {
        "columns": 3,
        "rows": 1159
       }
      },
      "text/html": [
       "<div>\n",
       "<style scoped>\n",
       "    .dataframe tbody tr th:only-of-type {\n",
       "        vertical-align: middle;\n",
       "    }\n",
       "\n",
       "    .dataframe tbody tr th {\n",
       "        vertical-align: top;\n",
       "    }\n",
       "\n",
       "    .dataframe thead th {\n",
       "        text-align: right;\n",
       "    }\n",
       "</style>\n",
       "<table border=\"1\" class=\"dataframe\">\n",
       "  <thead>\n",
       "    <tr style=\"text-align: right;\">\n",
       "      <th></th>\n",
       "      <th>exposurestressorname</th>\n",
       "      <th>exposurestressorid</th>\n",
       "      <th>CasRN</th>\n",
       "    </tr>\n",
       "  </thead>\n",
       "  <tbody>\n",
       "    <tr>\n",
       "      <th>0</th>\n",
       "      <td>Carbamates</td>\n",
       "      <td>D002219</td>\n",
       "      <td>NaN</td>\n",
       "    </tr>\n",
       "    <tr>\n",
       "      <th>1</th>\n",
       "      <td>Formaldehyde</td>\n",
       "      <td>D005557</td>\n",
       "      <td>50-00-0</td>\n",
       "    </tr>\n",
       "    <tr>\n",
       "      <th>2</th>\n",
       "      <td>Elements</td>\n",
       "      <td>D004602</td>\n",
       "      <td>NaN</td>\n",
       "    </tr>\n",
       "    <tr>\n",
       "      <th>3</th>\n",
       "      <td>2,4-dichlorophenol</td>\n",
       "      <td>C004762</td>\n",
       "      <td>120-83-2</td>\n",
       "    </tr>\n",
       "    <tr>\n",
       "      <th>4</th>\n",
       "      <td>Arsenic</td>\n",
       "      <td>D001151</td>\n",
       "      <td>7440-38-2</td>\n",
       "    </tr>\n",
       "    <tr>\n",
       "      <th>...</th>\n",
       "      <td>...</td>\n",
       "      <td>...</td>\n",
       "      <td>...</td>\n",
       "    </tr>\n",
       "    <tr>\n",
       "      <th>1154</th>\n",
       "      <td>Yttrium</td>\n",
       "      <td>D015019</td>\n",
       "      <td>7440-65-5</td>\n",
       "    </tr>\n",
       "    <tr>\n",
       "      <th>1155</th>\n",
       "      <td>Zeaxanthins</td>\n",
       "      <td>D065146</td>\n",
       "      <td>NaN</td>\n",
       "    </tr>\n",
       "    <tr>\n",
       "      <th>1156</th>\n",
       "      <td>zinc protoporphyrin</td>\n",
       "      <td>C017803</td>\n",
       "      <td>15442-64-5</td>\n",
       "    </tr>\n",
       "    <tr>\n",
       "      <th>1157</th>\n",
       "      <td>Ziram</td>\n",
       "      <td>D015039</td>\n",
       "      <td>137-30-4</td>\n",
       "    </tr>\n",
       "    <tr>\n",
       "      <th>1158</th>\n",
       "      <td>Zirconium</td>\n",
       "      <td>D015040</td>\n",
       "      <td>7440-67-7</td>\n",
       "    </tr>\n",
       "  </tbody>\n",
       "</table>\n",
       "<p>1159 rows × 3 columns</p>\n",
       "</div>"
      ],
      "text/plain": [
       "     exposurestressorname exposurestressorid       CasRN\n",
       "0              Carbamates            D002219         NaN\n",
       "1            Formaldehyde            D005557     50-00-0\n",
       "2                Elements            D004602         NaN\n",
       "3      2,4-dichlorophenol            C004762    120-83-2\n",
       "4                 Arsenic            D001151   7440-38-2\n",
       "...                   ...                ...         ...\n",
       "1154              Yttrium            D015019   7440-65-5\n",
       "1155          Zeaxanthins            D065146         NaN\n",
       "1156  zinc protoporphyrin            C017803  15442-64-5\n",
       "1157                Ziram            D015039    137-30-4\n",
       "1158            Zirconium            D015040   7440-67-7\n",
       "\n",
       "[1159 rows x 3 columns]"
      ]
     },
     "execution_count": 6,
     "metadata": {},
     "output_type": "execute_result"
    }
   ],
   "source": [
    "# https://ctdbase.org/reports/CTD_diseases.csv.gz\n",
    "ctd_chem = pd.read_csv('CTD_chemicals.csv', comment='#', names=['ChemicalName', 'ChemicalID', 'CasRN', 'Definition', 'ParentIDs', 'TreeNumbers', 'ParentTreeNumbers', 'Synonyms'])\n",
    "ctd_chem['ChemicalID'] = ctd_chem['ChemicalID'].str.replace('MESH:', '')\n",
    "ctd_chem = ctd_chem[['ChemicalID', 'CasRN']]\n",
    "exposure = pd.merge(ctd_exposure, ctd_chem, left_on='exposurestressorid', right_on='ChemicalID', how='left')\n",
    "exposure.drop(columns=['ChemicalID'], inplace=True)\n",
    "exposure"
   ]
  },
  {
   "cell_type": "markdown",
   "metadata": {},
   "source": [
    "## 3. BioMedGraphica ID"
   ]
  },
  {
   "cell_type": "code",
   "execution_count": 7,
   "metadata": {},
   "outputs": [
    {
     "data": {
      "application/vnd.microsoft.datawrangler.viewer.v0+json": {
       "columns": [
        {
         "name": "index",
         "rawType": "int64",
         "type": "integer"
        },
        {
         "name": "BioMedGraphica_ID",
         "rawType": "object",
         "type": "string"
        },
        {
         "name": "MeSH_ID",
         "rawType": "object",
         "type": "string"
        },
        {
         "name": "CAS_RN",
         "rawType": "object",
         "type": "unknown"
        },
        {
         "name": "Exposure_Name",
         "rawType": "object",
         "type": "string"
        }
       ],
       "conversionMethod": "pd.DataFrame",
       "ref": "1d2eec7e-5c77-4cec-ac5b-c2005ebc4c3d",
       "rows": [
        [
         "0",
         "BMG_EP0001",
         "D002219",
         null,
         "Carbamates"
        ],
        [
         "1",
         "BMG_EP0002",
         "D005557",
         "50-00-0",
         "Formaldehyde"
        ],
        [
         "2",
         "BMG_EP0003",
         "D004602",
         null,
         "Elements"
        ],
        [
         "3",
         "BMG_EP0004",
         "C004762",
         "120-83-2",
         "2,4-dichlorophenol"
        ],
        [
         "4",
         "BMG_EP0005",
         "D001151",
         "7440-38-2",
         "Arsenic"
        ],
        [
         "5",
         "BMG_EP0006",
         "D007854",
         "7439-92-1",
         "Lead"
        ],
        [
         "6",
         "BMG_EP0007",
         "D013750",
         "127-18-4",
         "Tetrachloroethylene"
        ],
        [
         "7",
         "BMG_EP0008",
         "C029790",
         "35065-28-2",
         "2,2',3',4,4',5-hexachlorobiphenyl"
        ],
        [
         "8",
         "BMG_EP0009",
         "D004177",
         null,
         "Dipyrone"
        ],
        [
         "9",
         "BMG_EP0010",
         "D001194",
         "1332-21-4",
         "Asbestos"
        ],
        [
         "10",
         "BMG_EP0011",
         "D000075182",
         "39277-47-9",
         "Agent Orange"
        ],
        [
         "11",
         "BMG_EP0012",
         "D017636",
         null,
         "Asbestos, Amphibole"
        ],
        [
         "12",
         "BMG_EP0013",
         "D019946",
         "57-55-6",
         "Propylene Glycol"
        ],
        [
         "13",
         "BMG_EP0014",
         "D003484",
         "420-04-2",
         "Cyanamide"
        ],
        [
         "14",
         "BMG_EP0015",
         "D003633",
         "72-55-9",
         "Dichlorodiphenyl Dichloroethylene"
        ],
        [
         "15",
         "BMG_EP0016",
         "D015084",
         "94-75-7",
         "2,4-Dichlorophenoxyacetic Acid"
        ],
        [
         "16",
         "BMG_EP0017",
         "D010575",
         null,
         "Pesticides"
        ],
        [
         "17",
         "BMG_EP0018",
         "D013749",
         "1746-01-6",
         "Tetrachlorodibenzodioxin"
        ],
        [
         "18",
         "BMG_EP0019",
         "D004391",
         null,
         "Dust"
        ],
        [
         "19",
         "BMG_EP0020",
         "D000395",
         null,
         "Air Pollutants, Occupational"
        ],
        [
         "20",
         "BMG_EP0021",
         "D017953",
         null,
         "Isocyanates"
        ],
        [
         "21",
         "BMG_EP0022",
         "D012721",
         "63-25-2",
         "Carbaryl"
        ],
        [
         "22",
         "BMG_EP0023",
         "C010349",
         "80-12-6",
         "tetramethylenedisulfotetramine"
        ],
        [
         "23",
         "BMG_EP0024",
         "C076994",
         "1763-23-1",
         "perfluorooctane sulfonic acid"
        ],
        [
         "24",
         "BMG_EP0025",
         "C023898",
         "2008-41-5",
         "butylate"
        ],
        [
         "25",
         "BMG_EP0026",
         "D020058",
         null,
         "Styrene"
        ],
        [
         "26",
         "BMG_EP0027",
         "D002706",
         "12789-03-6",
         "Chlordan"
        ],
        [
         "27",
         "BMG_EP0028",
         "C001335",
         "87-68-3",
         "hexachlorobutadiene"
        ],
        [
         "28",
         "BMG_EP0029",
         "D011848",
         null,
         "Radioactive Pollutants"
        ],
        [
         "29",
         "BMG_EP0030",
         "D004051",
         "117-81-7",
         "Diethylhexyl Phthalate"
        ],
        [
         "30",
         "BMG_EP0031",
         "C511295",
         null,
         "2,2',4,4'-tetrabromodiphenyl ether"
        ],
        [
         "31",
         "BMG_EP0032",
         "D019216",
         null,
         "Metals, Heavy"
        ],
        [
         "32",
         "BMG_EP0033",
         "C483839",
         null,
         "2,2',3,4,4',5',6-heptabromodiphenyl ether"
        ],
        [
         "33",
         "BMG_EP0034",
         "C014024",
         "35065-27-1",
         "2,4,5,2',4',5'-hexachlorobiphenyl"
        ],
        [
         "34",
         "BMG_EP0035",
         "D006540",
         null,
         "Herbicides"
        ],
        [
         "35",
         "BMG_EP0036",
         "D008767",
         null,
         "Methylmercury Compounds"
        ],
        [
         "36",
         "BMG_EP0037",
         "C105482",
         null,
         "allergen Bla g 1"
        ],
        [
         "37",
         "BMG_EP0038",
         "D039821",
         null,
         "Monoterpenes"
        ],
        [
         "38",
         "BMG_EP0039",
         "D005659",
         null,
         "Fungicides, Industrial"
        ],
        [
         "39",
         "BMG_EP0040",
         "D002248",
         "630-08-0",
         "Carbon Monoxide"
        ],
        [
         "40",
         "BMG_EP0041",
         "D014028",
         null,
         "Tobacco Smoke Pollution"
        ],
        [
         "41",
         "BMG_EP0042",
         "D007220",
         null,
         "Industrial Waste"
        ],
        [
         "42",
         "BMG_EP0043",
         "D000393",
         null,
         "Air Pollutants"
        ],
        [
         "43",
         "BMG_EP0044",
         "D009585",
         "10102-44-0",
         "Nitrogen Dioxide"
        ],
        [
         "44",
         "BMG_EP0045",
         "D004147",
         null,
         "Dioxins"
        ],
        [
         "45",
         "BMG_EP0046",
         "D010755",
         null,
         "Organophosphates"
        ],
        [
         "46",
         "BMG_EP0047",
         "D004202",
         null,
         "Disinfectants"
        ],
        [
         "47",
         "BMG_EP0048",
         "C541131",
         null,
         "2,2',3,3',4,4',5-heptachlorobiphenyl"
        ],
        [
         "48",
         "BMG_EP0049",
         "D001335",
         null,
         "Vehicle Emissions"
        ],
        [
         "49",
         "BMG_EP0050",
         "D052244",
         null,
         "Endocrine Disruptors"
        ]
       ],
       "shape": {
        "columns": 4,
        "rows": 1159
       }
      },
      "text/html": [
       "<div>\n",
       "<style scoped>\n",
       "    .dataframe tbody tr th:only-of-type {\n",
       "        vertical-align: middle;\n",
       "    }\n",
       "\n",
       "    .dataframe tbody tr th {\n",
       "        vertical-align: top;\n",
       "    }\n",
       "\n",
       "    .dataframe thead th {\n",
       "        text-align: right;\n",
       "    }\n",
       "</style>\n",
       "<table border=\"1\" class=\"dataframe\">\n",
       "  <thead>\n",
       "    <tr style=\"text-align: right;\">\n",
       "      <th></th>\n",
       "      <th>BioMedGraphica_ID</th>\n",
       "      <th>MeSH_ID</th>\n",
       "      <th>CAS_RN</th>\n",
       "      <th>Exposure_Name</th>\n",
       "    </tr>\n",
       "  </thead>\n",
       "  <tbody>\n",
       "    <tr>\n",
       "      <th>0</th>\n",
       "      <td>BMG_EP0001</td>\n",
       "      <td>D002219</td>\n",
       "      <td>NaN</td>\n",
       "      <td>Carbamates</td>\n",
       "    </tr>\n",
       "    <tr>\n",
       "      <th>1</th>\n",
       "      <td>BMG_EP0002</td>\n",
       "      <td>D005557</td>\n",
       "      <td>50-00-0</td>\n",
       "      <td>Formaldehyde</td>\n",
       "    </tr>\n",
       "    <tr>\n",
       "      <th>2</th>\n",
       "      <td>BMG_EP0003</td>\n",
       "      <td>D004602</td>\n",
       "      <td>NaN</td>\n",
       "      <td>Elements</td>\n",
       "    </tr>\n",
       "    <tr>\n",
       "      <th>3</th>\n",
       "      <td>BMG_EP0004</td>\n",
       "      <td>C004762</td>\n",
       "      <td>120-83-2</td>\n",
       "      <td>2,4-dichlorophenol</td>\n",
       "    </tr>\n",
       "    <tr>\n",
       "      <th>4</th>\n",
       "      <td>BMG_EP0005</td>\n",
       "      <td>D001151</td>\n",
       "      <td>7440-38-2</td>\n",
       "      <td>Arsenic</td>\n",
       "    </tr>\n",
       "    <tr>\n",
       "      <th>...</th>\n",
       "      <td>...</td>\n",
       "      <td>...</td>\n",
       "      <td>...</td>\n",
       "      <td>...</td>\n",
       "    </tr>\n",
       "    <tr>\n",
       "      <th>1154</th>\n",
       "      <td>BMG_EP1155</td>\n",
       "      <td>D015019</td>\n",
       "      <td>7440-65-5</td>\n",
       "      <td>Yttrium</td>\n",
       "    </tr>\n",
       "    <tr>\n",
       "      <th>1155</th>\n",
       "      <td>BMG_EP1156</td>\n",
       "      <td>D065146</td>\n",
       "      <td>NaN</td>\n",
       "      <td>Zeaxanthins</td>\n",
       "    </tr>\n",
       "    <tr>\n",
       "      <th>1156</th>\n",
       "      <td>BMG_EP1157</td>\n",
       "      <td>C017803</td>\n",
       "      <td>15442-64-5</td>\n",
       "      <td>zinc protoporphyrin</td>\n",
       "    </tr>\n",
       "    <tr>\n",
       "      <th>1157</th>\n",
       "      <td>BMG_EP1158</td>\n",
       "      <td>D015039</td>\n",
       "      <td>137-30-4</td>\n",
       "      <td>Ziram</td>\n",
       "    </tr>\n",
       "    <tr>\n",
       "      <th>1158</th>\n",
       "      <td>BMG_EP1159</td>\n",
       "      <td>D015040</td>\n",
       "      <td>7440-67-7</td>\n",
       "      <td>Zirconium</td>\n",
       "    </tr>\n",
       "  </tbody>\n",
       "</table>\n",
       "<p>1159 rows × 4 columns</p>\n",
       "</div>"
      ],
      "text/plain": [
       "     BioMedGraphica_ID  MeSH_ID      CAS_RN        Exposure_Name\n",
       "0           BMG_EP0001  D002219         NaN           Carbamates\n",
       "1           BMG_EP0002  D005557     50-00-0         Formaldehyde\n",
       "2           BMG_EP0003  D004602         NaN             Elements\n",
       "3           BMG_EP0004  C004762    120-83-2   2,4-dichlorophenol\n",
       "4           BMG_EP0005  D001151   7440-38-2              Arsenic\n",
       "...                ...      ...         ...                  ...\n",
       "1154        BMG_EP1155  D015019   7440-65-5              Yttrium\n",
       "1155        BMG_EP1156  D065146         NaN          Zeaxanthins\n",
       "1156        BMG_EP1157  C017803  15442-64-5  zinc protoporphyrin\n",
       "1157        BMG_EP1158  D015039    137-30-4                Ziram\n",
       "1158        BMG_EP1159  D015040   7440-67-7            Zirconium\n",
       "\n",
       "[1159 rows x 4 columns]"
      ]
     },
     "execution_count": 7,
     "metadata": {},
     "output_type": "execute_result"
    }
   ],
   "source": [
    "biomedgraphica_exposure = exposure.copy()\n",
    "\n",
    "max_length = len(str(len(biomedgraphica_exposure)))\n",
    "\n",
    "biomedgraphica_exposure['BioMedGraphica_ID'] = ['BMG_EP' + str(i).zfill(max_length) for i in range(1, len(biomedgraphica_exposure) + 1)]\n",
    "biomedgraphica_exposure.rename(columns={'exposurestressorname': 'Exposure_Name', 'exposurestressorid':'MeSH_ID', 'CasRN':'CAS_RN'}, inplace=True)\n",
    "column_order = ['BioMedGraphica_ID', 'MeSH_ID', 'CAS_RN', 'Exposure_Name']\n",
    "biomedgraphica_exposure = biomedgraphica_exposure[column_order]\n",
    "biomedgraphica_exposure"
   ]
  },
  {
   "cell_type": "code",
   "execution_count": null,
   "metadata": {},
   "outputs": [],
   "source": [
    "import os\n",
    "from pathlib import Path\n",
    "\n",
    "# get the current working directory\n",
    "current_working_dir = Path(os.getcwd()).resolve()\n",
    "\n",
    "# get the output directory\n",
    "grandparent_dir = current_working_dir.parent.parent.parent\n",
    "\n",
    "target_folder = grandparent_dir / 'BioMedGraphica' / 'Entity' / 'Exposure'\n",
    "if not target_folder.exists():\n",
    "    target_folder.mkdir(parents=True)\n",
    "    print(f\"Folder {target_folder} has been created.\")\n",
    "\n",
    "output_file_path = target_folder / 'BioMedGraphica_Exposure.csv'\n",
    "biomedgraphica_exposure.to_csv(output_file_path, index=False)\n",
    "print(f\"Data has been saved to {output_file_path}\")"
   ]
  },
  {
   "cell_type": "markdown",
   "metadata": {},
   "source": [
    "## 4. Description"
   ]
  },
  {
   "cell_type": "code",
   "execution_count": 8,
   "metadata": {},
   "outputs": [],
   "source": [
    "import pandas as pd\n",
    "import os\n",
    "from pathlib import Path\n",
    "\n",
    "current_working_dir = Path(os.getcwd()).resolve()\n",
    "grandparent_dir = current_working_dir.parent.parent.parent\n",
    "target_dir = grandparent_dir / 'BioMedGraphica' / 'Entity' / 'Exposure' / 'BioMedGraphica_Exposure.csv'\n",
    "biomedgraphica_exposure = pd.read_csv(target_dir, dtype=str)"
   ]
  },
  {
   "cell_type": "markdown",
   "metadata": {},
   "source": [
    "### 4.1 From CTD"
   ]
  },
  {
   "cell_type": "code",
   "execution_count": 9,
   "metadata": {},
   "outputs": [
    {
     "data": {
      "application/vnd.microsoft.datawrangler.viewer.v0+json": {
       "columns": [
        {
         "name": "index",
         "rawType": "int64",
         "type": "integer"
        },
        {
         "name": "ChemicalID",
         "rawType": "object",
         "type": "string"
        },
        {
         "name": "Definition",
         "rawType": "object",
         "type": "string"
        }
       ],
       "conversionMethod": "pd.DataFrame",
       "ref": "fd30be3f-82ad-4c07-9208-c63b1a5eb375",
       "rows": [
        [
         "1475",
         "D015062",
         "A group of corticosteroids bearing a hydroxy group at the 11-position."
        ],
        [
         "3038",
         "D014013",
         "A colorimetric reagent for iron, manganese, titanium, molybdenum, and complexes of zirconium. (From Merck Index, 11th ed)"
        ],
        [
         "3088",
         "D019813",
         "A DNA alkylating agent that has been shown to be a potent carcinogen and is widely used to induce colon tumors in experimental animals."
        ],
        [
         "3180",
         "D015060",
         "Synthetic phospholipid used in liposomes and lipid bilayers to study biological membranes. It is also a major constituent of PULMONARY SURFACTANTS."
        ],
        [
         "3256",
         "D000071443",
         "A cell adhesion molecule that, in humans, is encoded by a gene on the PSEUDOAUTOSOMAL REGION of SEX CHROMOSOMES. It functions in CELL ADHESION of T-LYMPHOCYTES and ROSETTE FORMATION by ERYTHROCYTES. It is also involved in the migration of LEUKOCYTES through the ENDOTHELIUM BASEMENT MEMBRANE. The 12E7 antigen co-localizes with, but functions independently of PECAM-1."
        ],
        [
         "3365",
         "D019377",
         "A lipoxygenase metabolite of ARACHIDONIC ACID. It is a highly selective ligand used to label mu-opioid receptors in both membranes and tissue sections. The 12-S-HETE analog has been reported to augment tumor cell metastatic potential through activation of protein kinase C. (J Pharmacol Exp Ther 1995; 274(3):1545-51; J Natl Cancer Inst 1994; 86(15):1145-51)"
        ],
        [
         "5247",
         "D058888",
         "Compounds that specifically inhibit STEROL 14-DEMETHYLASE. A variety of azole-derived ANTIFUNGAL AGENTS act through this mechanism."
        ],
        [
         "6526",
         "D019796",
         "A stable prostaglandin endoperoxide analog which serves as a thromboxane mimetic. Its actions include mimicking the hydro-osmotic effect of VASOPRESSIN and activation of TYPE C PHOSPHOLIPASES. (From J Pharmacol Exp Ther 1983;224(1): 108-117; Biochem J 1984;222(1):103-110)"
        ],
        [
         "6566",
         "D019307",
         "A specific protein kinase C inhibitor, which inhibits superoxide release from human neutrophils (PMN) stimulated with phorbol myristate acetate or synthetic diacylglycerol."
        ],
        [
         "6693",
         "D015064",
         "A synthetic prostaglandin E analog that protects the gastric mucosa, prevents ulceration, and promotes the healing of peptic ulcers. The protective effect is independent of acid inhibition. It is also a potent inhibitor of pancreatic function and growth of experimental tumors."
        ],
        [
         "7278",
         "D006907",
         "A 21-carbon steroid that is converted from PREGNENOLONE by STEROID 17-ALPHA-HYDROXYLASE. It is an intermediate in the delta-5 pathway of biosynthesis of GONADAL STEROID HORMONES and the adrenal CORTICOSTEROIDS."
        ],
        [
         "7279",
         "D019326",
         "A metabolite of PROGESTERONE with a hydroxyl group at the 17-alpha position. It serves as an intermediate in the biosynthesis of HYDROCORTISONE and GONADAL STEROID HORMONES."
        ],
        [
         "7280",
         "D000077713",
         "Hydroxyprogesterone derivative that acts as a PROGESTIN and is used to reduce the risk of recurrent MISCARRIAGE and of PREMATURE BIRTH. It is also used in combination with ESTROGEN in the management of MENSTRUATION DISORDERS."
        ],
        [
         "7517",
         "D015065",
         "A group of hydroxycorticosteroids bearing a hydroxy group at the 17-position. Urinary excretion of these compounds is used as an index of adrenal function. They are used systemically in the free alcohol form, but with esterification of the hydroxy groups, topical effectiveness is increased."
        ],
        [
         "7554",
         "D015068",
         "Steroids that contain a ketone group at position 17."
        ],
        [
         "7817",
         "D015069",
         "11 beta,18,21-Trihydroxypregn-4-ene-3,20-dione."
        ],
        [
         "7821",
         "D015070",
         "An analog of desoxycorticosterone which is substituted by a hydroxyl group at the C-18 position."
        ],
        [
         "8006",
         "D015071",
         "19-Iodocholest-5-en-3 beta-ol. A cholesterol derivative usually substituted with radioactive iodine in the 19 position. The compound is an adrenal cortex scanning agent used in the assessment of patients suspected of having Cushing's syndrome, hyperaldosteronism, pheochromocytoma and adrenal remnants following total adrenalectomy."
        ],
        [
         "8704",
         "D020001",
         "A four carbon linear hydrocarbon that has a hydroxy group at position 1."
        ],
        [
         "8776",
         "D015055",
         "Found in various tissues, particularly in four blood-clotting proteins including prothrombin, in kidney protein, in bone protein, and in the protein present in various ectopic calcifications."
        ],
        [
         "9000",
         "D017485",
         "An alpha-glucosidase inhibitor with antiviral action. Derivatives of deoxynojirimycin may have anti-HIV activity."
        ],
        [
         "9776",
         "D015056",
         "A potent cyclic nucleotide phosphodiesterase inhibitor; due to this action, the compound increases cyclic AMP and cyclic GMP in tissue and thereby activates CYCLIC NUCLEOTIDE-REGULATED PROTEIN KINASES"
        ],
        [
         "9843",
         "D015632",
         "A dopaminergic neurotoxic compound which produces irreversible clinical, chemical, and pathological alterations that mimic those found in Parkinson disease."
        ],
        [
         "9852",
         "D015655",
         "An active neurotoxic metabolite of 1-METHYL-4-PHENYL-1,2,3,6-TETRAHYDROPYRIDINE. The compound reduces dopamine levels, inhibits the biosynthesis of catecholamines, depletes cardiac norepinephrine and inactivates tyrosine hydroxylase. These and other toxic effects lead to cessation of oxidative phosphorylation, ATP depletion, and cell death. The compound, which is related to PARAQUAT, has also been used as an herbicide."
        ],
        [
         "10122",
         "D015057",
         "A suspected industrial carcinogen (and listed as such by OSHA). Its N-hydroxy metabolite is strongly carcinogenic and mutagenic."
        ],
        [
         "10134",
         "D015058",
         "A tool for the study of liver damage which causes bile stasis and hyperbilirubinemia acutely and bile duct hyperplasia and biliary cirrhosis chronically, with changes in hepatocyte function. It may cause skin and kidney damage."
        ],
        [
         "10402",
         "D020003",
         "A colorless, slightly viscous liquid used as a defoaming or wetting agent. It is also used as a solvent for protective coatings, waxes, and oils, and as a raw material for plasticizers. (From McGraw-Hill Dictionary of Scientific and Technical Terms, 5th ed)"
        ],
        [
         "10927",
         "D000433",
         "A colorless liquid made by oxidation of aliphatic hydrocarbons that is used as a solvent and chemical intermediate."
        ],
        [
         "11095",
         "D015059",
         "An ANGIOTENSIN II analog which acts as a highly specific inhibitor of ANGIOTENSIN TYPE 1 RECEPTOR."
        ],
        [
         "11258",
         "D000090983",
         "mRNA vaccine against SARS-CoV-2, developed by Moderna."
        ],
        [
         "11305",
         "D004092",
         "A biologically active 20-alpha-reduced metabolite of PROGESTERONE. It is converted from progesterone to 20-alpha-hydroxypregn-4-en-3-one by the 20-ALPHA-HYDROXYSTEROID DEHYDROGENASE in the CORPUS LUTEUM and the PLACENTA."
        ],
        [
         "12811",
         "D015082",
         "A reagent used for the determination of iron."
        ],
        [
         "13419",
         "D015647",
         "A selective D1 dopamine receptor agonist used primarily as a research tool."
        ],
        [
         "14275",
         "D015083",
         "Metabolite of ASCORBIC ACID and the oxidized form of the lactone DEHYDROASCORBIC ACID."
        ],
        [
         "14381",
         "D019794",
         "A highly anionic organic phosphate which is present in human red blood cells at about the same molar ratio as hemoglobin. It binds to deoxyhemoglobin but not the oxygenated form, therefore diminishing the oxygen affinity of hemoglobin. This is essential in enabling hemoglobin to unload oxygen in tissue capillaries. It is also an intermediate in the conversion of 3-phosphoglycerate to 2-phosphoglycerate by phosphoglycerate mutase (EC 5.4.2.1). (From Stryer Biochemistry, 4th ed, p160; Enzyme Nomenclature, 1992, p508)"
        ],
        [
         "14762",
         "D015650",
         "A physiologically active metabolite of VITAMIN D. The compound is involved in the regulation of calcium metabolism, alkaline phosphatase activity, and enhancing the calcemic effect of CALCITRIOL."
        ],
        [
         "14960",
         "D015085",
         "An herbicide with strong irritant properties. Use of this compound on rice fields, orchards, sugarcane, rangeland, and other noncrop sites was terminated by the EPA in 1985. (From Merck Index, 11th ed)"
        ],
        [
         "15531",
         "D015084",
         "An herbicide with irritant effects on the eye and the gastrointestinal system."
        ],
        [
         "15711",
         "D019297",
         "A toxic dye, chemically related to trinitrophenol (picric acid), used in biochemical studies of oxidative processes where it uncouples oxidative phosphorylation. It is also used as a metabolic stimulant. (Stedman, 26th ed)"
        ],
        [
         "16665",
         "D015652",
         "9,10-Secoergosta-5,7,10(19),22-tetraene-3,25-diol. Biologically active metabolite of vitamin D2 which is more active in curing rickets than its parent. The compound is believed to attach to the same receptor as vitamin D2 and 25-hydroxyvitamin D3."
        ],
        [
         "16996",
         "D015086",
         "A dye used as a reagent in the determination of vitamin C."
        ],
        [
         "17744",
         "D015073",
         "A hepatic carcinogen whose mechanism of activation involves N-hydroxylation to the aryl hydroxamic acid followed by enzymatic sulfonation to sulfoxyfluorenylacetamide. It is used to study the carcinogenicity and mutagenicity of aromatic amines."
        ],
        [
         "18343",
         "D015763",
         "The D-enantiomer is a potent and specific antagonist of NMDA glutamate receptors (RECEPTORS, N-METHYL-D-ASPARTATE). The L form is inactive at NMDA receptors but may affect the AP4 (2-amino-4-phosphonobutyrate; APB) excitatory amino acid receptors."
        ],
        [
         "18448",
         "D015074",
         "A metabolite in the principal biochemical pathway of lysine. It antagonizes neuroexcitatory activity modulated by the glutamate receptor, N-METHYL-D-ASPARTATE; (NMDA)."
        ],
        [
         "18615",
         "D015075",
         "A purine that is an isomer of ADENINE (6-aminopurine)."
        ],
        [
         "19405",
         "D015762",
         "2-Chloroadenosine. A metabolically stable analog of adenosine which acts as an adenosine receptor agonist. The compound has a potent effect on the peripheral and central nervous system."
        ],
        [
         "20571",
         "D012369",
         "Proposed catecholamine depletor."
        ],
        [
         "20861",
         "D015077",
         "A chemical reagent that reacts with and modifies chemically the tryptophan portion of protein molecules. Used for 'active site' enzyme studies and other protein studies. Sometimes referred to as Koshland's reagent."
        ],
        [
         "21144",
         "D015078",
         "Simple amine found in the brain. It may be modulator of sympathetic functions. Its derivatives are adrenergic agonists and antagonists. It is also used in chemical industry."
        ],
        [
         "21167",
         "D000073738",
         "Derivative of beta-cyclodextrin that is used as an excipient for steroid drugs and as a lipid chelator."
        ]
       ],
       "shape": {
        "columns": 2,
        "rows": 6190
       }
      },
      "text/html": [
       "<div>\n",
       "<style scoped>\n",
       "    .dataframe tbody tr th:only-of-type {\n",
       "        vertical-align: middle;\n",
       "    }\n",
       "\n",
       "    .dataframe tbody tr th {\n",
       "        vertical-align: top;\n",
       "    }\n",
       "\n",
       "    .dataframe thead th {\n",
       "        text-align: right;\n",
       "    }\n",
       "</style>\n",
       "<table border=\"1\" class=\"dataframe\">\n",
       "  <thead>\n",
       "    <tr style=\"text-align: right;\">\n",
       "      <th></th>\n",
       "      <th>ChemicalID</th>\n",
       "      <th>Definition</th>\n",
       "    </tr>\n",
       "  </thead>\n",
       "  <tbody>\n",
       "    <tr>\n",
       "      <th>1475</th>\n",
       "      <td>D015062</td>\n",
       "      <td>A group of corticosteroids bearing a hydroxy g...</td>\n",
       "    </tr>\n",
       "    <tr>\n",
       "      <th>3038</th>\n",
       "      <td>D014013</td>\n",
       "      <td>A colorimetric reagent for iron, manganese, ti...</td>\n",
       "    </tr>\n",
       "    <tr>\n",
       "      <th>3088</th>\n",
       "      <td>D019813</td>\n",
       "      <td>A DNA alkylating agent that has been shown to ...</td>\n",
       "    </tr>\n",
       "    <tr>\n",
       "      <th>3180</th>\n",
       "      <td>D015060</td>\n",
       "      <td>Synthetic phospholipid used in liposomes and l...</td>\n",
       "    </tr>\n",
       "    <tr>\n",
       "      <th>3256</th>\n",
       "      <td>D000071443</td>\n",
       "      <td>A cell adhesion molecule that, in humans, is e...</td>\n",
       "    </tr>\n",
       "    <tr>\n",
       "      <th>...</th>\n",
       "      <td>...</td>\n",
       "      <td>...</td>\n",
       "    </tr>\n",
       "    <tr>\n",
       "      <th>179172</th>\n",
       "      <td>D000077211</td>\n",
       "      <td>An imidobisphosphonate inhibitor of BONE RESOR...</td>\n",
       "    </tr>\n",
       "    <tr>\n",
       "      <th>179179</th>\n",
       "      <td>D000077334</td>\n",
       "      <td>An imidazopyridine derivative and short-acting...</td>\n",
       "    </tr>\n",
       "    <tr>\n",
       "      <th>179187</th>\n",
       "      <td>D000078305</td>\n",
       "      <td>A benzisoxazole and sulfonamide derivative tha...</td>\n",
       "    </tr>\n",
       "    <tr>\n",
       "      <th>179212</th>\n",
       "      <td>D015049</td>\n",
       "      <td>A uricosuric and muscle relaxant. Zoxazolamine...</td>\n",
       "    </tr>\n",
       "    <tr>\n",
       "      <th>179256</th>\n",
       "      <td>D064696</td>\n",
       "      <td>The cis or (Z)-isomer of clomiphene.</td>\n",
       "    </tr>\n",
       "  </tbody>\n",
       "</table>\n",
       "<p>6190 rows × 2 columns</p>\n",
       "</div>"
      ],
      "text/plain": [
       "        ChemicalID                                         Definition\n",
       "1475       D015062  A group of corticosteroids bearing a hydroxy g...\n",
       "3038       D014013  A colorimetric reagent for iron, manganese, ti...\n",
       "3088       D019813  A DNA alkylating agent that has been shown to ...\n",
       "3180       D015060  Synthetic phospholipid used in liposomes and l...\n",
       "3256    D000071443  A cell adhesion molecule that, in humans, is e...\n",
       "...            ...                                                ...\n",
       "179172  D000077211  An imidobisphosphonate inhibitor of BONE RESOR...\n",
       "179179  D000077334  An imidazopyridine derivative and short-acting...\n",
       "179187  D000078305  A benzisoxazole and sulfonamide derivative tha...\n",
       "179212     D015049  A uricosuric and muscle relaxant. Zoxazolamine...\n",
       "179256     D064696               The cis or (Z)-isomer of clomiphene.\n",
       "\n",
       "[6190 rows x 2 columns]"
      ]
     },
     "execution_count": 9,
     "metadata": {},
     "output_type": "execute_result"
    }
   ],
   "source": [
    "# https://ctdbase.org/reports/CTD_diseases.csv.gz\n",
    "ctd_chem = pd.read_csv('CTD_chemicals.csv', comment='#', names=['ChemicalName', 'ChemicalID', 'CasRN', 'Definition', 'ParentIDs', 'TreeNumbers', 'ParentTreeNumbers', 'Synonyms'])\n",
    "ctd_chem['ChemicalID'] = ctd_chem['ChemicalID'].str.replace('MESH:', '')\n",
    "ctd_def = ctd_chem[['ChemicalID', 'Definition']]\n",
    "ctd_def = ctd_def.dropna(subset=['Definition'])\n",
    "ctd_def = ctd_def.drop_duplicates()\n",
    "ctd_def"
   ]
  },
  {
   "cell_type": "code",
   "execution_count": 10,
   "metadata": {},
   "outputs": [
    {
     "data": {
      "application/vnd.microsoft.datawrangler.viewer.v0+json": {
       "columns": [
        {
         "name": "index",
         "rawType": "int64",
         "type": "integer"
        },
        {
         "name": "BioMedGraphica_ID",
         "rawType": "object",
         "type": "string"
        },
        {
         "name": "CTD",
         "rawType": "object",
         "type": "unknown"
        }
       ],
       "conversionMethod": "pd.DataFrame",
       "ref": "e5dc9932-7b4b-422d-851f-4e773ba66221",
       "rows": [
        [
         "0",
         "BMG_EP0001",
         "Derivatives of carbamic acid, H2NC(=O)OH. Included under this heading are N-substituted and O-substituted carbamic acids. In general carbamate esters are referred to as urethanes, and polymers that include repeating units of carbamate are referred to as POLYURETHANES. Note however that polyurethanes are derived from the polymerization of ISOCYANATES and the singular term URETHANE refers to the ethyl ester of carbamic acid."
        ],
        [
         "1",
         "BMG_EP0002",
         "A highly reactive aldehyde gas formed by oxidation or incomplete combustion of hydrocarbons. In solution, it has a wide range of uses: in the manufacture of resins and textiles, as a disinfectant, and as a laboratory fixative or preservative. Formaldehyde solution (formalin) is considered a hazardous compound, and its vapor toxic. (From Reynolds, Martindale The Extra Pharmacopoeia, 30th ed, p717)"
        ],
        [
         "2",
         "BMG_EP0003",
         "Substances that comprise all matter. Each element is made up of atoms that are identical in number of electrons and protons and in nuclear charge but may differ in mass or number of neutrons."
        ],
        [
         "3",
         "BMG_EP0004",
         null
        ],
        [
         "4",
         "BMG_EP0005",
         "A shiny gray element with atomic symbol As, atomic number 33, and atomic weight 75. It occurs throughout the universe, mostly in the form of metallic arsenides. Most forms are toxic. According to the Fourth Annual Report on Carcinogens (NTP 85-002, 1985), arsenic and certain arsenic compounds have been listed as known carcinogens. (From Merck Index, 11th ed)"
        ],
        [
         "5",
         "BMG_EP0006",
         "A soft, grayish metal with poisonous salts; atomic number 82, atomic weight 207.2, symbol Pb."
        ],
        [
         "6",
         "BMG_EP0007",
         "A chlorinated hydrocarbon used as an industrial solvent and cooling liquid in electrical transformers. It is a potential carcinogen."
        ],
        [
         "7",
         "BMG_EP0008",
         null
        ],
        [
         "8",
         "BMG_EP0009",
         "A drug that has analgesic, anti-inflammatory, and antipyretic properties. It is the sodium sulfonate of AMINOPYRINE."
        ],
        [
         "9",
         "BMG_EP0010",
         "Asbestos. Fibrous incombustible mineral composed of magnesium and calcium silicates with or without other elements. It is relatively inert chemically and used in thermal insulation and fireproofing. Inhalation of dust causes asbestosis and later lung and gastrointestinal neoplasms."
        ],
        [
         "10",
         "BMG_EP0011",
         "A herbicide that contains equal parts of 2,4-dichlorophenoxyacetic acid (2,4-D) and 2,4,5-trichlorophenoxyacetic acid (2,4,5-T), as well as traces of the contaminant 2,3,7,8-tetrachlorodibenzo-p-dioxin."
        ],
        [
         "11",
         "BMG_EP0012",
         "A class of asbestos that includes silicates of magnesium, iron, calcium, and sodium. The fibers are generally brittle and cannot be spun, but are more resistant to chemicals and heat than ASBESTOS, SERPENTINE. (From Hawley's Condensed Chemical Dictionary, 11th ed)"
        ],
        [
         "12",
         "BMG_EP0013",
         "A clear, colorless, viscous organic solvent and diluent used in pharmaceutical preparations."
        ],
        [
         "13",
         "BMG_EP0014",
         "A cyanide compound which has been used as a fertilizer, defoliant and in many manufacturing processes. It often occurs as the calcium salt, sometimes also referred to as cyanamide. The citrated calcium salt is used in the treatment of alcoholism."
        ],
        [
         "14",
         "BMG_EP0015",
         "An organochlorine pesticide, it is the ethylene metabolite of DDT."
        ],
        [
         "15",
         "BMG_EP0016",
         "An herbicide with irritant effects on the eye and the gastrointestinal system."
        ],
        [
         "16",
         "BMG_EP0017",
         "Chemicals used to destroy pests of any sort. The concept includes fungicides (FUNGICIDES, INDUSTRIAL); INSECTICIDES; RODENTICIDES; etc."
        ],
        [
         "17",
         "BMG_EP0018",
         "A polychlorinated dioxin formed as a by-product of incomplete combustion.  It has been shown to be carcinogenic in experimental studies, and is an environmental toxin, with potential health risks to humans.  This is a CTD-exclusive term that describes a chemical often referenced in the toxicology literature.  The MeSH ID below was used by MeSH when this chemical was part of the MeSH controlled vocabulary."
        ],
        [
         "18",
         "BMG_EP0019",
         "Earth or other matter in fine, dry particles. (Random House Unabridged Dictionary, 2d ed)"
        ],
        [
         "19",
         "BMG_EP0020",
         "Toxic air-borne matter related to work performed They are usually produced by the specific nature of the occupation."
        ],
        [
         "20",
         "BMG_EP0021",
         "Organic compounds that contain the -NCO radical."
        ],
        [
         "21",
         "BMG_EP0022",
         "A carbamate insecticide and parasiticide. It is a potent anticholinesterase agent belonging to the carbamate group of reversible cholinesterase inhibitors. It has a particularly low toxicity from dermal absorption and is used for control of head lice in some countries."
        ],
        [
         "22",
         "BMG_EP0023",
         null
        ],
        [
         "23",
         "BMG_EP0024",
         null
        ],
        [
         "24",
         "BMG_EP0025",
         null
        ],
        [
         "25",
         "BMG_EP0026",
         "A colorless, toxic liquid with a strong aromatic odor. It is used to make rubbers, polymers and copolymers, and polystyrene plastics."
        ],
        [
         "26",
         "BMG_EP0027",
         "A highly poisonous organochlorine insecticide. The EPA has cancelled registrations of pesticides containing this compound with the exception of its use through subsurface ground insertion for termite control and the dipping of roots or tops of non-food plants. (From Merck Index, 11th ed)"
        ],
        [
         "27",
         "BMG_EP0028",
         null
        ],
        [
         "28",
         "BMG_EP0029",
         "Radioactive substances which act as pollutants. They include chemicals whose radiation is released via radioactive waste, nuclear accidents, fallout from nuclear explosions, and the like."
        ],
        [
         "29",
         "BMG_EP0030",
         "An ester of phthalic acid. It appears as a light-colored, odorless liquid and is used as a plasticizer for many resins and elastomers."
        ],
        [
         "30",
         "BMG_EP0031",
         null
        ],
        [
         "31",
         "BMG_EP0032",
         "Metals with high specific gravity, typically larger than 5. They have complex spectra, form colored salts and double salts, have a low electrode potential, are mainly amphoteric, yield weak bases and weak acids, and are oxidizing or reducing agents (From Grant & Hackh's Chemical Dictionary, 5th ed)"
        ],
        [
         "32",
         "BMG_EP0033",
         null
        ],
        [
         "33",
         "BMG_EP0034",
         null
        ],
        [
         "34",
         "BMG_EP0035",
         "Pesticides used to destroy unwanted vegetation, especially various types of weeds, grasses (POACEAE), and woody plants. Some plants develop HERBICIDE RESISTANCE."
        ],
        [
         "35",
         "BMG_EP0036",
         "Organic compounds in which mercury is attached to a methyl group."
        ],
        [
         "36",
         "BMG_EP0037",
         null
        ],
        [
         "37",
         "BMG_EP0038",
         "Compounds with a core of 10 carbons generally formed via the mevalonate pathway from the combination of 3,3-dimethylallyl pyrophosphate and isopentenyl pyrophosphate. They are cyclized and oxidized in a variety of ways. Due to the low molecular weight many of them exist in the form of essential oils (OILS, VOLATILE)."
        ],
        [
         "38",
         "BMG_EP0039",
         "Chemicals that kill or inhibit the growth of fungi in agricultural applications, on wood, plastics, or other materials, in swimming pools, etc."
        ],
        [
         "39",
         "BMG_EP0040",
         "Carbon monoxide (CO). A poisonous colorless, odorless, tasteless gas. It combines with hemoglobin to form carboxyhemoglobin, which has no oxygen carrying capacity. The resultant oxygen deprivation causes headache, dizziness, decreased pulse and respiratory rates, unconsciousness, and death. (From Merck Index, 11th ed)"
        ],
        [
         "40",
         "BMG_EP0041",
         "Contamination of the air by tobacco smoke."
        ],
        [
         "41",
         "BMG_EP0042",
         "Worthless, damaged, defective, superfluous or effluent material from industrial operations."
        ],
        [
         "42",
         "BMG_EP0043",
         "Any substance in the air which could, if present in high enough concentration, harm humans, animals, vegetation or materials. Substances include GASES; PARTICULATE MATTER; and volatile ORGANIC CHEMICALS."
        ],
        [
         "43",
         "BMG_EP0044",
         "Nitrogen oxide (NO2). A highly poisonous gas. Exposure produces inflammation of lungs that may only cause slight pain or pass unnoticed, but resulting edema several days later may cause death. (From Merck, 11th ed) It is a major atmospheric pollutant that is able to absorb UV light that does not reach the earth's surface."
        ],
        [
         "44",
         "BMG_EP0045",
         "A family of compounds that contain the 1,4-dioxin structure. Many specific dioxin derivatives are listed as CARCINOGENS; TERATOGENS; or MUTAGENS."
        ],
        [
         "45",
         "BMG_EP0046",
         "Carbon-containing phosphoric acid derivatives. Included under this heading are compounds that have CARBON atoms bound to one or more OXYGEN atoms of the P(=O)(O)3 structure. Note that several specific classes of endogenous phosphorus-containing compounds such as NUCLEOTIDES; PHOSPHOLIPIDS; and PHOSPHOPROTEINS are listed elsewhere."
        ],
        [
         "46",
         "BMG_EP0047",
         "Substances used on inanimate objects that destroy harmful microorganisms or inhibit their activity. Disinfectants are classed as complete, destroying SPORES as well as vegetative forms of microorganisms, or incomplete, destroying only vegetative forms of the organisms. They are distinguished from ANTISEPTICS, which are local anti-infective agents used on humans and other animals. (From Hawley's Condensed Chemical Dictionary, 11th ed)"
        ],
        [
         "47",
         "BMG_EP0048",
         null
        ],
        [
         "48",
         "BMG_EP0049",
         "Gases, fumes, vapors, and ODORANTS escaping from the cylinders of a gasoline or diesel internal-combustion engine. (From McGraw-Hill Dictionary of Scientific and Technical Terms, 4th ed & Random House Unabridged Dictionary, 2d ed)"
        ],
        [
         "49",
         "BMG_EP0050",
         "Exogenous agents, synthetic and naturally occurring, which are capable of disrupting the functions of the ENDOCRINE SYSTEM including the maintenance of HOMEOSTASIS and the regulation of developmental processes. Endocrine disruptors are compounds that can mimic HORMONES, or enhance or block the binding of hormones to their receptors, or otherwise lead to activating or inhibiting the endocrine signaling pathways and hormone metabolism."
        ]
       ],
       "shape": {
        "columns": 2,
        "rows": 1159
       }
      },
      "text/html": [
       "<div>\n",
       "<style scoped>\n",
       "    .dataframe tbody tr th:only-of-type {\n",
       "        vertical-align: middle;\n",
       "    }\n",
       "\n",
       "    .dataframe tbody tr th {\n",
       "        vertical-align: top;\n",
       "    }\n",
       "\n",
       "    .dataframe thead th {\n",
       "        text-align: right;\n",
       "    }\n",
       "</style>\n",
       "<table border=\"1\" class=\"dataframe\">\n",
       "  <thead>\n",
       "    <tr style=\"text-align: right;\">\n",
       "      <th></th>\n",
       "      <th>BioMedGraphica_ID</th>\n",
       "      <th>CTD</th>\n",
       "    </tr>\n",
       "  </thead>\n",
       "  <tbody>\n",
       "    <tr>\n",
       "      <th>0</th>\n",
       "      <td>BMG_EP0001</td>\n",
       "      <td>Derivatives of carbamic acid, H2NC(=O)OH. Incl...</td>\n",
       "    </tr>\n",
       "    <tr>\n",
       "      <th>1</th>\n",
       "      <td>BMG_EP0002</td>\n",
       "      <td>A highly reactive aldehyde gas formed by oxida...</td>\n",
       "    </tr>\n",
       "    <tr>\n",
       "      <th>2</th>\n",
       "      <td>BMG_EP0003</td>\n",
       "      <td>Substances that comprise all matter. Each elem...</td>\n",
       "    </tr>\n",
       "    <tr>\n",
       "      <th>3</th>\n",
       "      <td>BMG_EP0004</td>\n",
       "      <td>NaN</td>\n",
       "    </tr>\n",
       "    <tr>\n",
       "      <th>4</th>\n",
       "      <td>BMG_EP0005</td>\n",
       "      <td>A shiny gray element with atomic symbol As, at...</td>\n",
       "    </tr>\n",
       "    <tr>\n",
       "      <th>...</th>\n",
       "      <td>...</td>\n",
       "      <td>...</td>\n",
       "    </tr>\n",
       "    <tr>\n",
       "      <th>1154</th>\n",
       "      <td>BMG_EP1155</td>\n",
       "      <td>An element of the rare earth family of metals....</td>\n",
       "    </tr>\n",
       "    <tr>\n",
       "      <th>1155</th>\n",
       "      <td>BMG_EP1156</td>\n",
       "      <td>Carotenoids found in fruits and vegetables. Ze...</td>\n",
       "    </tr>\n",
       "    <tr>\n",
       "      <th>1156</th>\n",
       "      <td>BMG_EP1157</td>\n",
       "      <td>NaN</td>\n",
       "    </tr>\n",
       "    <tr>\n",
       "      <th>1157</th>\n",
       "      <td>BMG_EP1158</td>\n",
       "      <td>An industrial fungicide with low mammalian tox...</td>\n",
       "    </tr>\n",
       "    <tr>\n",
       "      <th>1158</th>\n",
       "      <td>BMG_EP1159</td>\n",
       "      <td>A rather rare metallic element with atomic num...</td>\n",
       "    </tr>\n",
       "  </tbody>\n",
       "</table>\n",
       "<p>1159 rows × 2 columns</p>\n",
       "</div>"
      ],
      "text/plain": [
       "     BioMedGraphica_ID                                                CTD\n",
       "0           BMG_EP0001  Derivatives of carbamic acid, H2NC(=O)OH. Incl...\n",
       "1           BMG_EP0002  A highly reactive aldehyde gas formed by oxida...\n",
       "2           BMG_EP0003  Substances that comprise all matter. Each elem...\n",
       "3           BMG_EP0004                                                NaN\n",
       "4           BMG_EP0005  A shiny gray element with atomic symbol As, at...\n",
       "...                ...                                                ...\n",
       "1154        BMG_EP1155  An element of the rare earth family of metals....\n",
       "1155        BMG_EP1156  Carotenoids found in fruits and vegetables. Ze...\n",
       "1156        BMG_EP1157                                                NaN\n",
       "1157        BMG_EP1158  An industrial fungicide with low mammalian tox...\n",
       "1158        BMG_EP1159  A rather rare metallic element with atomic num...\n",
       "\n",
       "[1159 rows x 2 columns]"
      ]
     },
     "execution_count": 10,
     "metadata": {},
     "output_type": "execute_result"
    }
   ],
   "source": [
    "bmg_exposure = biomedgraphica_exposure[['BioMedGraphica_ID', 'MeSH_ID']]\n",
    "exposure_def = pd.merge(bmg_exposure, ctd_def, left_on='MeSH_ID', right_on='ChemicalID', how='left')\n",
    "exposure_def.drop(columns=['ChemicalID', 'MeSH_ID'], inplace=True)\n",
    "exposure_def.rename(columns={'Definition': 'CTD'}, inplace=True)\n",
    "exposure_def"
   ]
  },
  {
   "cell_type": "code",
   "execution_count": 11,
   "metadata": {},
   "outputs": [
    {
     "name": "stdout",
     "output_type": "stream",
     "text": [
      "Data has been saved to D:\\RA\\BMG\\BioMedGraphica\\Entity\\Exposure\\BioMedGraphica_Exposure_Description.csv\n"
     ]
    }
   ],
   "source": [
    "import os\n",
    "from pathlib import Path\n",
    "\n",
    "# get the current working directory\n",
    "current_working_dir = Path(os.getcwd()).resolve()\n",
    "\n",
    "# get the output directory\n",
    "grandparent_dir = current_working_dir.parent.parent.parent\n",
    "\n",
    "target_folder = grandparent_dir / 'BioMedGraphica' / 'Entity' / 'Exposure'\n",
    "if not target_folder.exists():\n",
    "    target_folder.mkdir(parents=True)\n",
    "    print(f\"Folder {target_folder} has been created.\")\n",
    "\n",
    "output_file_path = target_folder / 'BioMedGraphica_Exposure_Description.csv'\n",
    "exposure_def.to_csv(output_file_path, index=False)\n",
    "print(f\"Data has been saved to {output_file_path}\")"
   ]
  },
  {
   "cell_type": "markdown",
   "metadata": {},
   "source": [
    "### 4.2 Combined Description"
   ]
  },
  {
   "cell_type": "code",
   "execution_count": 12,
   "metadata": {},
   "outputs": [
    {
     "data": {
      "application/vnd.microsoft.datawrangler.viewer.v0+json": {
       "columns": [
        {
         "name": "index",
         "rawType": "int64",
         "type": "integer"
        },
        {
         "name": "BioMedGraphica_ID",
         "rawType": "object",
         "type": "string"
        },
        {
         "name": "Description",
         "rawType": "object",
         "type": "string"
        }
       ],
       "conversionMethod": "pd.DataFrame",
       "ref": "08c5b57e-b051-430a-9f50-ae279662bdf2",
       "rows": [
        [
         "0",
         "BMG_EP0001",
         "CTD: Derivatives of carbamic acid, H2NC(=O)OH. Included under this heading are N-substituted and O-substituted carbamic acids. In general carbamate esters are referred to as urethanes, and polymers that include repeating units of carbamate are referred to as POLYURETHANES. Note however that polyurethanes are derived from the polymerization of ISOCYANATES and the singular term URETHANE refers to the ethyl ester of carbamic acid."
        ],
        [
         "1",
         "BMG_EP0002",
         "CTD: A highly reactive aldehyde gas formed by oxidation or incomplete combustion of hydrocarbons. In solution, it has a wide range of uses: in the manufacture of resins and textiles, as a disinfectant, and as a laboratory fixative or preservative. Formaldehyde solution (formalin) is considered a hazardous compound, and its vapor toxic. (From Reynolds, Martindale The Extra Pharmacopoeia, 30th ed, p717)"
        ],
        [
         "2",
         "BMG_EP0003",
         "CTD: Substances that comprise all matter. Each element is made up of atoms that are identical in number of electrons and protons and in nuclear charge but may differ in mass or number of neutrons."
        ],
        [
         "3",
         "BMG_EP0004",
         ""
        ],
        [
         "4",
         "BMG_EP0005",
         "CTD: A shiny gray element with atomic symbol As, atomic number 33, and atomic weight 75. It occurs throughout the universe, mostly in the form of metallic arsenides. Most forms are toxic. According to the Fourth Annual Report on Carcinogens (NTP 85-002, 1985), arsenic and certain arsenic compounds have been listed as known carcinogens. (From Merck Index, 11th ed)"
        ],
        [
         "5",
         "BMG_EP0006",
         "CTD: A soft, grayish metal with poisonous salts | CTD:  atomic number 82, atomic weight 207.2, symbol Pb."
        ],
        [
         "6",
         "BMG_EP0007",
         "CTD: A chlorinated hydrocarbon used as an industrial solvent and cooling liquid in electrical transformers. It is a potential carcinogen."
        ],
        [
         "7",
         "BMG_EP0008",
         ""
        ],
        [
         "8",
         "BMG_EP0009",
         "CTD: A drug that has analgesic, anti-inflammatory, and antipyretic properties. It is the sodium sulfonate of AMINOPYRINE."
        ],
        [
         "9",
         "BMG_EP0010",
         "CTD: Asbestos. Fibrous incombustible mineral composed of magnesium and calcium silicates with or without other elements. It is relatively inert chemically and used in thermal insulation and fireproofing. Inhalation of dust causes asbestosis and later lung and gastrointestinal neoplasms."
        ],
        [
         "10",
         "BMG_EP0011",
         "CTD: A herbicide that contains equal parts of 2,4-dichlorophenoxyacetic acid (2,4-D) and 2,4,5-trichlorophenoxyacetic acid (2,4,5-T), as well as traces of the contaminant 2,3,7,8-tetrachlorodibenzo-p-dioxin."
        ],
        [
         "11",
         "BMG_EP0012",
         "CTD: A class of asbestos that includes silicates of magnesium, iron, calcium, and sodium. The fibers are generally brittle and cannot be spun, but are more resistant to chemicals and heat than ASBESTOS, SERPENTINE. (From Hawley's Condensed Chemical Dictionary, 11th ed)"
        ],
        [
         "12",
         "BMG_EP0013",
         "CTD: A clear, colorless, viscous organic solvent and diluent used in pharmaceutical preparations."
        ],
        [
         "13",
         "BMG_EP0014",
         "CTD: A cyanide compound which has been used as a fertilizer, defoliant and in many manufacturing processes. It often occurs as the calcium salt, sometimes also referred to as cyanamide. The citrated calcium salt is used in the treatment of alcoholism."
        ],
        [
         "14",
         "BMG_EP0015",
         "CTD: An organochlorine pesticide, it is the ethylene metabolite of DDT."
        ],
        [
         "15",
         "BMG_EP0016",
         "CTD: An herbicide with irritant effects on the eye and the gastrointestinal system."
        ],
        [
         "16",
         "BMG_EP0017",
         "CTD: Chemicals used to destroy pests of any sort. The concept includes fungicides (FUNGICIDES, INDUSTRIAL) | CTD:  INSECTICIDES | CTD:  RODENTICIDES | CTD:  etc."
        ],
        [
         "17",
         "BMG_EP0018",
         "CTD: A polychlorinated dioxin formed as a by-product of incomplete combustion.  It has been shown to be carcinogenic in experimental studies, and is an environmental toxin, with potential health risks to humans.  This is a CTD-exclusive term that describes a chemical often referenced in the toxicology literature.  The MeSH ID below was used by MeSH when this chemical was part of the MeSH controlled vocabulary."
        ],
        [
         "18",
         "BMG_EP0019",
         "CTD: Earth or other matter in fine, dry particles. (Random House Unabridged Dictionary, 2d ed)"
        ],
        [
         "19",
         "BMG_EP0020",
         "CTD: Toxic air-borne matter related to work performed They are usually produced by the specific nature of the occupation."
        ],
        [
         "20",
         "BMG_EP0021",
         "CTD: Organic compounds that contain the -NCO radical."
        ],
        [
         "21",
         "BMG_EP0022",
         "CTD: A carbamate insecticide and parasiticide. It is a potent anticholinesterase agent belonging to the carbamate group of reversible cholinesterase inhibitors. It has a particularly low toxicity from dermal absorption and is used for control of head lice in some countries."
        ],
        [
         "22",
         "BMG_EP0023",
         ""
        ],
        [
         "23",
         "BMG_EP0024",
         ""
        ],
        [
         "24",
         "BMG_EP0025",
         ""
        ],
        [
         "25",
         "BMG_EP0026",
         "CTD: A colorless, toxic liquid with a strong aromatic odor. It is used to make rubbers, polymers and copolymers, and polystyrene plastics."
        ],
        [
         "26",
         "BMG_EP0027",
         "CTD: A highly poisonous organochlorine insecticide. The EPA has cancelled registrations of pesticides containing this compound with the exception of its use through subsurface ground insertion for termite control and the dipping of roots or tops of non-food plants. (From Merck Index, 11th ed)"
        ],
        [
         "27",
         "BMG_EP0028",
         ""
        ],
        [
         "28",
         "BMG_EP0029",
         "CTD: Radioactive substances which act as pollutants. They include chemicals whose radiation is released via radioactive waste, nuclear accidents, fallout from nuclear explosions, and the like."
        ],
        [
         "29",
         "BMG_EP0030",
         "CTD: An ester of phthalic acid. It appears as a light-colored, odorless liquid and is used as a plasticizer for many resins and elastomers."
        ],
        [
         "30",
         "BMG_EP0031",
         ""
        ],
        [
         "31",
         "BMG_EP0032",
         "CTD: Metals with high specific gravity, typically larger than 5. They have complex spectra, form colored salts and double salts, have a low electrode potential, are mainly amphoteric, yield weak bases and weak acids, and are oxidizing or reducing agents (From Grant & Hackh's Chemical Dictionary, 5th ed)"
        ],
        [
         "32",
         "BMG_EP0033",
         ""
        ],
        [
         "33",
         "BMG_EP0034",
         ""
        ],
        [
         "34",
         "BMG_EP0035",
         "CTD: Pesticides used to destroy unwanted vegetation, especially various types of weeds, grasses (POACEAE), and woody plants. Some plants develop HERBICIDE RESISTANCE."
        ],
        [
         "35",
         "BMG_EP0036",
         "CTD: Organic compounds in which mercury is attached to a methyl group."
        ],
        [
         "36",
         "BMG_EP0037",
         ""
        ],
        [
         "37",
         "BMG_EP0038",
         "CTD: Compounds with a core of 10 carbons generally formed via the mevalonate pathway from the combination of 3,3-dimethylallyl pyrophosphate and isopentenyl pyrophosphate. They are cyclized and oxidized in a variety of ways. Due to the low molecular weight many of them exist in the form of essential oils (OILS, VOLATILE)."
        ],
        [
         "38",
         "BMG_EP0039",
         "CTD: Chemicals that kill or inhibit the growth of fungi in agricultural applications, on wood, plastics, or other materials, in swimming pools, etc."
        ],
        [
         "39",
         "BMG_EP0040",
         "CTD: Carbon monoxide (CO). A poisonous colorless, odorless, tasteless gas. It combines with hemoglobin to form carboxyhemoglobin, which has no oxygen carrying capacity. The resultant oxygen deprivation causes headache, dizziness, decreased pulse and respiratory rates, unconsciousness, and death. (From Merck Index, 11th ed)"
        ],
        [
         "40",
         "BMG_EP0041",
         "CTD: Contamination of the air by tobacco smoke."
        ],
        [
         "41",
         "BMG_EP0042",
         "CTD: Worthless, damaged, defective, superfluous or effluent material from industrial operations."
        ],
        [
         "42",
         "BMG_EP0043",
         "CTD: Any substance in the air which could, if present in high enough concentration, harm humans, animals, vegetation or materials. Substances include GASES | CTD:  PARTICULATE MATTER | CTD:  and volatile ORGANIC CHEMICALS."
        ],
        [
         "43",
         "BMG_EP0044",
         "CTD: Nitrogen oxide (NO2). A highly poisonous gas. Exposure produces inflammation of lungs that may only cause slight pain or pass unnoticed, but resulting edema several days later may cause death. (From Merck, 11th ed) It is a major atmospheric pollutant that is able to absorb UV light that does not reach the earth's surface."
        ],
        [
         "44",
         "BMG_EP0045",
         "CTD: A family of compounds that contain the 1,4-dioxin structure. Many specific dioxin derivatives are listed as CARCINOGENS | CTD:  TERATOGENS | CTD:  or MUTAGENS."
        ],
        [
         "45",
         "BMG_EP0046",
         "CTD: Carbon-containing phosphoric acid derivatives. Included under this heading are compounds that have CARBON atoms bound to one or more OXYGEN atoms of the P(=O)(O)3 structure. Note that several specific classes of endogenous phosphorus-containing compounds such as NUCLEOTIDES | CTD:  PHOSPHOLIPIDS | CTD:  and PHOSPHOPROTEINS are listed elsewhere."
        ],
        [
         "46",
         "BMG_EP0047",
         "CTD: Substances used on inanimate objects that destroy harmful microorganisms or inhibit their activity. Disinfectants are classed as complete, destroying SPORES as well as vegetative forms of microorganisms, or incomplete, destroying only vegetative forms of the organisms. They are distinguished from ANTISEPTICS, which are local anti-infective agents used on humans and other animals. (From Hawley's Condensed Chemical Dictionary, 11th ed)"
        ],
        [
         "47",
         "BMG_EP0048",
         ""
        ],
        [
         "48",
         "BMG_EP0049",
         "CTD: Gases, fumes, vapors, and ODORANTS escaping from the cylinders of a gasoline or diesel internal-combustion engine. (From McGraw-Hill Dictionary of Scientific and Technical Terms, 4th ed & Random House Unabridged Dictionary, 2d ed)"
        ],
        [
         "49",
         "BMG_EP0050",
         "CTD: Exogenous agents, synthetic and naturally occurring, which are capable of disrupting the functions of the ENDOCRINE SYSTEM including the maintenance of HOMEOSTASIS and the regulation of developmental processes. Endocrine disruptors are compounds that can mimic HORMONES, or enhance or block the binding of hormones to their receptors, or otherwise lead to activating or inhibiting the endocrine signaling pathways and hormone metabolism."
        ]
       ],
       "shape": {
        "columns": 2,
        "rows": 1159
       }
      },
      "text/html": [
       "<div>\n",
       "<style scoped>\n",
       "    .dataframe tbody tr th:only-of-type {\n",
       "        vertical-align: middle;\n",
       "    }\n",
       "\n",
       "    .dataframe tbody tr th {\n",
       "        vertical-align: top;\n",
       "    }\n",
       "\n",
       "    .dataframe thead th {\n",
       "        text-align: right;\n",
       "    }\n",
       "</style>\n",
       "<table border=\"1\" class=\"dataframe\">\n",
       "  <thead>\n",
       "    <tr style=\"text-align: right;\">\n",
       "      <th></th>\n",
       "      <th>BioMedGraphica_ID</th>\n",
       "      <th>Description</th>\n",
       "    </tr>\n",
       "  </thead>\n",
       "  <tbody>\n",
       "    <tr>\n",
       "      <th>0</th>\n",
       "      <td>BMG_EP0001</td>\n",
       "      <td>CTD: Derivatives of carbamic acid, H2NC(=O)OH....</td>\n",
       "    </tr>\n",
       "    <tr>\n",
       "      <th>1</th>\n",
       "      <td>BMG_EP0002</td>\n",
       "      <td>CTD: A highly reactive aldehyde gas formed by ...</td>\n",
       "    </tr>\n",
       "    <tr>\n",
       "      <th>2</th>\n",
       "      <td>BMG_EP0003</td>\n",
       "      <td>CTD: Substances that comprise all matter. Each...</td>\n",
       "    </tr>\n",
       "    <tr>\n",
       "      <th>3</th>\n",
       "      <td>BMG_EP0004</td>\n",
       "      <td></td>\n",
       "    </tr>\n",
       "    <tr>\n",
       "      <th>4</th>\n",
       "      <td>BMG_EP0005</td>\n",
       "      <td>CTD: A shiny gray element with atomic symbol A...</td>\n",
       "    </tr>\n",
       "    <tr>\n",
       "      <th>...</th>\n",
       "      <td>...</td>\n",
       "      <td>...</td>\n",
       "    </tr>\n",
       "    <tr>\n",
       "      <th>1154</th>\n",
       "      <td>BMG_EP1155</td>\n",
       "      <td>CTD: An element of the rare earth family of me...</td>\n",
       "    </tr>\n",
       "    <tr>\n",
       "      <th>1155</th>\n",
       "      <td>BMG_EP1156</td>\n",
       "      <td>CTD: Carotenoids found in fruits and vegetable...</td>\n",
       "    </tr>\n",
       "    <tr>\n",
       "      <th>1156</th>\n",
       "      <td>BMG_EP1157</td>\n",
       "      <td></td>\n",
       "    </tr>\n",
       "    <tr>\n",
       "      <th>1157</th>\n",
       "      <td>BMG_EP1158</td>\n",
       "      <td>CTD: An industrial fungicide with low mammalia...</td>\n",
       "    </tr>\n",
       "    <tr>\n",
       "      <th>1158</th>\n",
       "      <td>BMG_EP1159</td>\n",
       "      <td>CTD: A rather rare metallic element with atomi...</td>\n",
       "    </tr>\n",
       "  </tbody>\n",
       "</table>\n",
       "<p>1159 rows × 2 columns</p>\n",
       "</div>"
      ],
      "text/plain": [
       "     BioMedGraphica_ID                                        Description\n",
       "0           BMG_EP0001  CTD: Derivatives of carbamic acid, H2NC(=O)OH....\n",
       "1           BMG_EP0002  CTD: A highly reactive aldehyde gas formed by ...\n",
       "2           BMG_EP0003  CTD: Substances that comprise all matter. Each...\n",
       "3           BMG_EP0004                                                   \n",
       "4           BMG_EP0005  CTD: A shiny gray element with atomic symbol A...\n",
       "...                ...                                                ...\n",
       "1154        BMG_EP1155  CTD: An element of the rare earth family of me...\n",
       "1155        BMG_EP1156  CTD: Carotenoids found in fruits and vegetable...\n",
       "1156        BMG_EP1157                                                   \n",
       "1157        BMG_EP1158  CTD: An industrial fungicide with low mammalia...\n",
       "1158        BMG_EP1159  CTD: A rather rare metallic element with atomi...\n",
       "\n",
       "[1159 rows x 2 columns]"
      ]
     },
     "execution_count": 12,
     "metadata": {},
     "output_type": "execute_result"
    }
   ],
   "source": [
    "comb_description = exposure_def.copy()\n",
    "\n",
    "# add the column name at the beginning of the string\n",
    "# first, we need to get the column names\n",
    "column_names = comb_description.columns.tolist()\n",
    "column_names = [col for col in column_names if col != 'BioMedGraphica_ID']\n",
    "# then we can apply the function to each column\n",
    "for col in column_names:\n",
    "    comb_description[col] = comb_description[col].apply(lambda x: ' | '.join([f\"{col}: {i}\" for i in x.split(';')]) if pd.notna(x) else x)\n",
    "\n",
    "# now we can merge the columns into one\n",
    "comb_description['Description'] = comb_description[column_names].apply(lambda x: ' | '.join(x.dropna()), axis=1)\n",
    "comb_description = comb_description[['BioMedGraphica_ID', 'Description']]\n",
    "comb_description"
   ]
  },
  {
   "cell_type": "code",
   "execution_count": 13,
   "metadata": {},
   "outputs": [
    {
     "name": "stdout",
     "output_type": "stream",
     "text": [
      "Data has been saved to D:\\RA\\BMG\\BioMedGraphica\\Entity\\Exposure\\BioMedGraphica_Exposure_Description_Combined.csv\n"
     ]
    }
   ],
   "source": [
    "import os\n",
    "from pathlib import Path\n",
    "\n",
    "# get the current working directory\n",
    "current_working_dir = Path(os.getcwd()).resolve()\n",
    "\n",
    "# get the output directory\n",
    "grandparent_dir = current_working_dir.parent.parent.parent\n",
    "\n",
    "target_folder = grandparent_dir / 'BioMedGraphica' / 'Entity' / 'Exposure'\n",
    "if not target_folder.exists():\n",
    "    target_folder.mkdir(parents=True)\n",
    "    print(f\"Folder {target_folder} has been created.\")\n",
    "\n",
    "output_file_path = target_folder / 'BioMedGraphica_Exposure_Description_Combined.csv'\n",
    "comb_description.to_csv(output_file_path, index=False)\n",
    "print(f\"Data has been saved to {output_file_path}\")"
   ]
  },
  {
   "cell_type": "markdown",
   "metadata": {},
   "source": [
    "## 5. File Generation"
   ]
  },
  {
   "cell_type": "code",
   "execution_count": 21,
   "metadata": {},
   "outputs": [],
   "source": [
    "import pandas as pd\n",
    "import os\n",
    "from pathlib import Path\n",
    "\n",
    "current_working_dir = Path(os.getcwd()).resolve()\n",
    "grandparent_dir = current_working_dir.parent.parent.parent\n",
    "target_dir = grandparent_dir / 'BioMedGraphica' / 'Entity' / 'Exposure' / 'BioMedGraphica_Exposure.csv'\n",
    "biomedgraphica_exposure = pd.read_csv(target_dir, dtype=str)"
   ]
  },
  {
   "cell_type": "markdown",
   "metadata": {},
   "source": [
    "### 5.1 Name and ID"
   ]
  },
  {
   "cell_type": "markdown",
   "metadata": {},
   "source": [
    "GUI Name"
   ]
  },
  {
   "cell_type": "code",
   "execution_count": 14,
   "metadata": {},
   "outputs": [
    {
     "data": {
      "application/vnd.microsoft.datawrangler.viewer.v0+json": {
       "columns": [
        {
         "name": "index",
         "rawType": "int64",
         "type": "integer"
        },
        {
         "name": "BioMedGraphica_ID",
         "rawType": "object",
         "type": "string"
        },
        {
         "name": "Exposure_Name_List",
         "rawType": "object",
         "type": "string"
        }
       ],
       "conversionMethod": "pd.DataFrame",
       "ref": "884b4aac-6b0c-4407-8fe9-c2fc7166c2fc",
       "rows": [
        [
         "0",
         "BMG_EP0001",
         "Carbamates"
        ],
        [
         "1",
         "BMG_EP0002",
         "Formaldehyde"
        ],
        [
         "2",
         "BMG_EP0003",
         "Elements"
        ],
        [
         "3",
         "BMG_EP0004",
         "2,4-dichlorophenol"
        ],
        [
         "4",
         "BMG_EP0005",
         "Arsenic"
        ],
        [
         "5",
         "BMG_EP0006",
         "Lead"
        ],
        [
         "6",
         "BMG_EP0007",
         "Tetrachloroethylene"
        ],
        [
         "7",
         "BMG_EP0008",
         "2,2',3',4,4',5-hexachlorobiphenyl"
        ],
        [
         "8",
         "BMG_EP0009",
         "Dipyrone"
        ],
        [
         "9",
         "BMG_EP0010",
         "Asbestos"
        ],
        [
         "10",
         "BMG_EP0011",
         "Agent Orange"
        ],
        [
         "11",
         "BMG_EP0012",
         "Asbestos, Amphibole"
        ],
        [
         "12",
         "BMG_EP0013",
         "Propylene Glycol"
        ],
        [
         "13",
         "BMG_EP0014",
         "Cyanamide"
        ],
        [
         "14",
         "BMG_EP0015",
         "Dichlorodiphenyl Dichloroethylene"
        ],
        [
         "15",
         "BMG_EP0016",
         "2,4-Dichlorophenoxyacetic Acid"
        ],
        [
         "16",
         "BMG_EP0017",
         "Pesticides"
        ],
        [
         "17",
         "BMG_EP0018",
         "Tetrachlorodibenzodioxin"
        ],
        [
         "18",
         "BMG_EP0019",
         "Dust"
        ],
        [
         "19",
         "BMG_EP0020",
         "Air Pollutants, Occupational"
        ],
        [
         "20",
         "BMG_EP0021",
         "Isocyanates"
        ],
        [
         "21",
         "BMG_EP0022",
         "Carbaryl"
        ],
        [
         "22",
         "BMG_EP0023",
         "tetramethylenedisulfotetramine"
        ],
        [
         "23",
         "BMG_EP0024",
         "perfluorooctane sulfonic acid"
        ],
        [
         "24",
         "BMG_EP0025",
         "butylate"
        ],
        [
         "25",
         "BMG_EP0026",
         "Styrene"
        ],
        [
         "26",
         "BMG_EP0027",
         "Chlordan"
        ],
        [
         "27",
         "BMG_EP0028",
         "hexachlorobutadiene"
        ],
        [
         "28",
         "BMG_EP0029",
         "Radioactive Pollutants"
        ],
        [
         "29",
         "BMG_EP0030",
         "Diethylhexyl Phthalate"
        ],
        [
         "30",
         "BMG_EP0031",
         "2,2',4,4'-tetrabromodiphenyl ether"
        ],
        [
         "31",
         "BMG_EP0032",
         "Metals, Heavy"
        ],
        [
         "32",
         "BMG_EP0033",
         "2,2',3,4,4',5',6-heptabromodiphenyl ether"
        ],
        [
         "33",
         "BMG_EP0034",
         "2,4,5,2',4',5'-hexachlorobiphenyl"
        ],
        [
         "34",
         "BMG_EP0035",
         "Herbicides"
        ],
        [
         "35",
         "BMG_EP0036",
         "Methylmercury Compounds"
        ],
        [
         "36",
         "BMG_EP0037",
         "allergen Bla g 1"
        ],
        [
         "37",
         "BMG_EP0038",
         "Monoterpenes"
        ],
        [
         "38",
         "BMG_EP0039",
         "Fungicides, Industrial"
        ],
        [
         "39",
         "BMG_EP0040",
         "Carbon Monoxide"
        ],
        [
         "40",
         "BMG_EP0041",
         "Tobacco Smoke Pollution"
        ],
        [
         "41",
         "BMG_EP0042",
         "Industrial Waste"
        ],
        [
         "42",
         "BMG_EP0043",
         "Air Pollutants"
        ],
        [
         "43",
         "BMG_EP0044",
         "Nitrogen Dioxide"
        ],
        [
         "44",
         "BMG_EP0045",
         "Dioxins"
        ],
        [
         "45",
         "BMG_EP0046",
         "Organophosphates"
        ],
        [
         "46",
         "BMG_EP0047",
         "Disinfectants"
        ],
        [
         "47",
         "BMG_EP0048",
         "2,2',3,3',4,4',5-heptachlorobiphenyl"
        ],
        [
         "48",
         "BMG_EP0049",
         "Vehicle Emissions"
        ],
        [
         "49",
         "BMG_EP0050",
         "Endocrine Disruptors"
        ]
       ],
       "shape": {
        "columns": 2,
        "rows": 1159
       }
      },
      "text/html": [
       "<div>\n",
       "<style scoped>\n",
       "    .dataframe tbody tr th:only-of-type {\n",
       "        vertical-align: middle;\n",
       "    }\n",
       "\n",
       "    .dataframe tbody tr th {\n",
       "        vertical-align: top;\n",
       "    }\n",
       "\n",
       "    .dataframe thead th {\n",
       "        text-align: right;\n",
       "    }\n",
       "</style>\n",
       "<table border=\"1\" class=\"dataframe\">\n",
       "  <thead>\n",
       "    <tr style=\"text-align: right;\">\n",
       "      <th></th>\n",
       "      <th>BioMedGraphica_ID</th>\n",
       "      <th>Exposure_Name_List</th>\n",
       "    </tr>\n",
       "  </thead>\n",
       "  <tbody>\n",
       "    <tr>\n",
       "      <th>0</th>\n",
       "      <td>BMG_EP0001</td>\n",
       "      <td>Carbamates</td>\n",
       "    </tr>\n",
       "    <tr>\n",
       "      <th>1</th>\n",
       "      <td>BMG_EP0002</td>\n",
       "      <td>Formaldehyde</td>\n",
       "    </tr>\n",
       "    <tr>\n",
       "      <th>2</th>\n",
       "      <td>BMG_EP0003</td>\n",
       "      <td>Elements</td>\n",
       "    </tr>\n",
       "    <tr>\n",
       "      <th>3</th>\n",
       "      <td>BMG_EP0004</td>\n",
       "      <td>2,4-dichlorophenol</td>\n",
       "    </tr>\n",
       "    <tr>\n",
       "      <th>4</th>\n",
       "      <td>BMG_EP0005</td>\n",
       "      <td>Arsenic</td>\n",
       "    </tr>\n",
       "    <tr>\n",
       "      <th>...</th>\n",
       "      <td>...</td>\n",
       "      <td>...</td>\n",
       "    </tr>\n",
       "    <tr>\n",
       "      <th>1154</th>\n",
       "      <td>BMG_EP1155</td>\n",
       "      <td>Yttrium</td>\n",
       "    </tr>\n",
       "    <tr>\n",
       "      <th>1155</th>\n",
       "      <td>BMG_EP1156</td>\n",
       "      <td>Zeaxanthins</td>\n",
       "    </tr>\n",
       "    <tr>\n",
       "      <th>1156</th>\n",
       "      <td>BMG_EP1157</td>\n",
       "      <td>zinc protoporphyrin</td>\n",
       "    </tr>\n",
       "    <tr>\n",
       "      <th>1157</th>\n",
       "      <td>BMG_EP1158</td>\n",
       "      <td>Ziram</td>\n",
       "    </tr>\n",
       "    <tr>\n",
       "      <th>1158</th>\n",
       "      <td>BMG_EP1159</td>\n",
       "      <td>Zirconium</td>\n",
       "    </tr>\n",
       "  </tbody>\n",
       "</table>\n",
       "<p>1159 rows × 2 columns</p>\n",
       "</div>"
      ],
      "text/plain": [
       "     BioMedGraphica_ID   Exposure_Name_List\n",
       "0           BMG_EP0001           Carbamates\n",
       "1           BMG_EP0002         Formaldehyde\n",
       "2           BMG_EP0003             Elements\n",
       "3           BMG_EP0004   2,4-dichlorophenol\n",
       "4           BMG_EP0005              Arsenic\n",
       "...                ...                  ...\n",
       "1154        BMG_EP1155              Yttrium\n",
       "1155        BMG_EP1156          Zeaxanthins\n",
       "1156        BMG_EP1157  zinc protoporphyrin\n",
       "1157        BMG_EP1158                Ziram\n",
       "1158        BMG_EP1159            Zirconium\n",
       "\n",
       "[1159 rows x 2 columns]"
      ]
     },
     "execution_count": 14,
     "metadata": {},
     "output_type": "execute_result"
    }
   ],
   "source": [
    "gui_name = biomedgraphica_exposure.copy()\n",
    "gui_name.rename(columns={'Exposure_Name': 'Exposure_Name_List'}, inplace=True)\n",
    "gui_name = gui_name[['BioMedGraphica_ID', 'Exposure_Name_List']]\n",
    "gui_name"
   ]
  },
  {
   "cell_type": "code",
   "execution_count": 15,
   "metadata": {},
   "outputs": [
    {
     "name": "stdout",
     "output_type": "stream",
     "text": [
      "Data has been saved to D:\\RA\\BMG\\BioMedGraphica\\Entity\\Exposure\\BioMedGraphica_Exposure_GUI_Name.csv\n"
     ]
    }
   ],
   "source": [
    "import os\n",
    "from pathlib import Path\n",
    "\n",
    "# get the current working directory\n",
    "current_working_dir = Path(os.getcwd()).resolve()\n",
    "\n",
    "# get the output directory\n",
    "grandparent_dir = current_working_dir.parent.parent.parent\n",
    "\n",
    "target_folder = grandparent_dir / 'BioMedGraphica' / 'Entity' / 'Exposure'\n",
    "if not target_folder.exists():\n",
    "    target_folder.mkdir(parents=True)\n",
    "    print(f\"Folder {target_folder} has been created.\")\n",
    "\n",
    "output_file_path = target_folder / 'BioMedGraphica_Exposure_GUI_Name.csv'\n",
    "gui_name.to_csv(output_file_path, index=False)\n",
    "print(f\"Data has been saved to {output_file_path}\")"
   ]
  },
  {
   "cell_type": "markdown",
   "metadata": {},
   "source": [
    "LLM Name and ID"
   ]
  },
  {
   "cell_type": "code",
   "execution_count": 16,
   "metadata": {},
   "outputs": [
    {
     "data": {
      "application/vnd.microsoft.datawrangler.viewer.v0+json": {
       "columns": [
        {
         "name": "index",
         "rawType": "int64",
         "type": "integer"
        },
        {
         "name": "BioMedGraphica_ID",
         "rawType": "object",
         "type": "string"
        },
        {
         "name": "Exposure_Name",
         "rawType": "object",
         "type": "string"
        },
        {
         "name": "MeSH_ID",
         "rawType": "object",
         "type": "string"
        },
        {
         "name": "CAS_RN",
         "rawType": "object",
         "type": "unknown"
        }
       ],
       "conversionMethod": "pd.DataFrame",
       "ref": "f8d1efbd-2e1e-431f-9194-f79d96dde23e",
       "rows": [
        [
         "0",
         "BMG_EP0001",
         "Carbamates",
         "MeSH ID:D002219",
         null
        ],
        [
         "1",
         "BMG_EP0002",
         "Formaldehyde",
         "MeSH ID:D005557",
         "CAS RN:50-00-0"
        ],
        [
         "2",
         "BMG_EP0003",
         "Elements",
         "MeSH ID:D004602",
         null
        ],
        [
         "3",
         "BMG_EP0004",
         "2,4-dichlorophenol",
         "MeSH ID:C004762",
         "CAS RN:120-83-2"
        ],
        [
         "4",
         "BMG_EP0005",
         "Arsenic",
         "MeSH ID:D001151",
         "CAS RN:7440-38-2"
        ],
        [
         "5",
         "BMG_EP0006",
         "Lead",
         "MeSH ID:D007854",
         "CAS RN:7439-92-1"
        ],
        [
         "6",
         "BMG_EP0007",
         "Tetrachloroethylene",
         "MeSH ID:D013750",
         "CAS RN:127-18-4"
        ],
        [
         "7",
         "BMG_EP0008",
         "2,2',3',4,4',5-hexachlorobiphenyl",
         "MeSH ID:C029790",
         "CAS RN:35065-28-2"
        ],
        [
         "8",
         "BMG_EP0009",
         "Dipyrone",
         "MeSH ID:D004177",
         null
        ],
        [
         "9",
         "BMG_EP0010",
         "Asbestos",
         "MeSH ID:D001194",
         "CAS RN:1332-21-4"
        ],
        [
         "10",
         "BMG_EP0011",
         "Agent Orange",
         "MeSH ID:D000075182",
         "CAS RN:39277-47-9"
        ],
        [
         "11",
         "BMG_EP0012",
         "Asbestos, Amphibole",
         "MeSH ID:D017636",
         null
        ],
        [
         "12",
         "BMG_EP0013",
         "Propylene Glycol",
         "MeSH ID:D019946",
         "CAS RN:57-55-6"
        ],
        [
         "13",
         "BMG_EP0014",
         "Cyanamide",
         "MeSH ID:D003484",
         "CAS RN:420-04-2"
        ],
        [
         "14",
         "BMG_EP0015",
         "Dichlorodiphenyl Dichloroethylene",
         "MeSH ID:D003633",
         "CAS RN:72-55-9"
        ],
        [
         "15",
         "BMG_EP0016",
         "2,4-Dichlorophenoxyacetic Acid",
         "MeSH ID:D015084",
         "CAS RN:94-75-7"
        ],
        [
         "16",
         "BMG_EP0017",
         "Pesticides",
         "MeSH ID:D010575",
         null
        ],
        [
         "17",
         "BMG_EP0018",
         "Tetrachlorodibenzodioxin",
         "MeSH ID:D013749",
         "CAS RN:1746-01-6"
        ],
        [
         "18",
         "BMG_EP0019",
         "Dust",
         "MeSH ID:D004391",
         null
        ],
        [
         "19",
         "BMG_EP0020",
         "Air Pollutants, Occupational",
         "MeSH ID:D000395",
         null
        ],
        [
         "20",
         "BMG_EP0021",
         "Isocyanates",
         "MeSH ID:D017953",
         null
        ],
        [
         "21",
         "BMG_EP0022",
         "Carbaryl",
         "MeSH ID:D012721",
         "CAS RN:63-25-2"
        ],
        [
         "22",
         "BMG_EP0023",
         "tetramethylenedisulfotetramine",
         "MeSH ID:C010349",
         "CAS RN:80-12-6"
        ],
        [
         "23",
         "BMG_EP0024",
         "perfluorooctane sulfonic acid",
         "MeSH ID:C076994",
         "CAS RN:1763-23-1"
        ],
        [
         "24",
         "BMG_EP0025",
         "butylate",
         "MeSH ID:C023898",
         "CAS RN:2008-41-5"
        ],
        [
         "25",
         "BMG_EP0026",
         "Styrene",
         "MeSH ID:D020058",
         null
        ],
        [
         "26",
         "BMG_EP0027",
         "Chlordan",
         "MeSH ID:D002706",
         "CAS RN:12789-03-6"
        ],
        [
         "27",
         "BMG_EP0028",
         "hexachlorobutadiene",
         "MeSH ID:C001335",
         "CAS RN:87-68-3"
        ],
        [
         "28",
         "BMG_EP0029",
         "Radioactive Pollutants",
         "MeSH ID:D011848",
         null
        ],
        [
         "29",
         "BMG_EP0030",
         "Diethylhexyl Phthalate",
         "MeSH ID:D004051",
         "CAS RN:117-81-7"
        ],
        [
         "30",
         "BMG_EP0031",
         "2,2',4,4'-tetrabromodiphenyl ether",
         "MeSH ID:C511295",
         null
        ],
        [
         "31",
         "BMG_EP0032",
         "Metals, Heavy",
         "MeSH ID:D019216",
         null
        ],
        [
         "32",
         "BMG_EP0033",
         "2,2',3,4,4',5',6-heptabromodiphenyl ether",
         "MeSH ID:C483839",
         null
        ],
        [
         "33",
         "BMG_EP0034",
         "2,4,5,2',4',5'-hexachlorobiphenyl",
         "MeSH ID:C014024",
         "CAS RN:35065-27-1"
        ],
        [
         "34",
         "BMG_EP0035",
         "Herbicides",
         "MeSH ID:D006540",
         null
        ],
        [
         "35",
         "BMG_EP0036",
         "Methylmercury Compounds",
         "MeSH ID:D008767",
         null
        ],
        [
         "36",
         "BMG_EP0037",
         "allergen Bla g 1",
         "MeSH ID:C105482",
         null
        ],
        [
         "37",
         "BMG_EP0038",
         "Monoterpenes",
         "MeSH ID:D039821",
         null
        ],
        [
         "38",
         "BMG_EP0039",
         "Fungicides, Industrial",
         "MeSH ID:D005659",
         null
        ],
        [
         "39",
         "BMG_EP0040",
         "Carbon Monoxide",
         "MeSH ID:D002248",
         "CAS RN:630-08-0"
        ],
        [
         "40",
         "BMG_EP0041",
         "Tobacco Smoke Pollution",
         "MeSH ID:D014028",
         null
        ],
        [
         "41",
         "BMG_EP0042",
         "Industrial Waste",
         "MeSH ID:D007220",
         null
        ],
        [
         "42",
         "BMG_EP0043",
         "Air Pollutants",
         "MeSH ID:D000393",
         null
        ],
        [
         "43",
         "BMG_EP0044",
         "Nitrogen Dioxide",
         "MeSH ID:D009585",
         "CAS RN:10102-44-0"
        ],
        [
         "44",
         "BMG_EP0045",
         "Dioxins",
         "MeSH ID:D004147",
         null
        ],
        [
         "45",
         "BMG_EP0046",
         "Organophosphates",
         "MeSH ID:D010755",
         null
        ],
        [
         "46",
         "BMG_EP0047",
         "Disinfectants",
         "MeSH ID:D004202",
         null
        ],
        [
         "47",
         "BMG_EP0048",
         "2,2',3,3',4,4',5-heptachlorobiphenyl",
         "MeSH ID:C541131",
         null
        ],
        [
         "48",
         "BMG_EP0049",
         "Vehicle Emissions",
         "MeSH ID:D001335",
         null
        ],
        [
         "49",
         "BMG_EP0050",
         "Endocrine Disruptors",
         "MeSH ID:D052244",
         null
        ]
       ],
       "shape": {
        "columns": 4,
        "rows": 1159
       }
      },
      "text/html": [
       "<div>\n",
       "<style scoped>\n",
       "    .dataframe tbody tr th:only-of-type {\n",
       "        vertical-align: middle;\n",
       "    }\n",
       "\n",
       "    .dataframe tbody tr th {\n",
       "        vertical-align: top;\n",
       "    }\n",
       "\n",
       "    .dataframe thead th {\n",
       "        text-align: right;\n",
       "    }\n",
       "</style>\n",
       "<table border=\"1\" class=\"dataframe\">\n",
       "  <thead>\n",
       "    <tr style=\"text-align: right;\">\n",
       "      <th></th>\n",
       "      <th>BioMedGraphica_ID</th>\n",
       "      <th>Exposure_Name</th>\n",
       "      <th>MeSH_ID</th>\n",
       "      <th>CAS_RN</th>\n",
       "    </tr>\n",
       "  </thead>\n",
       "  <tbody>\n",
       "    <tr>\n",
       "      <th>0</th>\n",
       "      <td>BMG_EP0001</td>\n",
       "      <td>Carbamates</td>\n",
       "      <td>MeSH ID:D002219</td>\n",
       "      <td>NaN</td>\n",
       "    </tr>\n",
       "    <tr>\n",
       "      <th>1</th>\n",
       "      <td>BMG_EP0002</td>\n",
       "      <td>Formaldehyde</td>\n",
       "      <td>MeSH ID:D005557</td>\n",
       "      <td>CAS RN:50-00-0</td>\n",
       "    </tr>\n",
       "    <tr>\n",
       "      <th>2</th>\n",
       "      <td>BMG_EP0003</td>\n",
       "      <td>Elements</td>\n",
       "      <td>MeSH ID:D004602</td>\n",
       "      <td>NaN</td>\n",
       "    </tr>\n",
       "    <tr>\n",
       "      <th>3</th>\n",
       "      <td>BMG_EP0004</td>\n",
       "      <td>2,4-dichlorophenol</td>\n",
       "      <td>MeSH ID:C004762</td>\n",
       "      <td>CAS RN:120-83-2</td>\n",
       "    </tr>\n",
       "    <tr>\n",
       "      <th>4</th>\n",
       "      <td>BMG_EP0005</td>\n",
       "      <td>Arsenic</td>\n",
       "      <td>MeSH ID:D001151</td>\n",
       "      <td>CAS RN:7440-38-2</td>\n",
       "    </tr>\n",
       "    <tr>\n",
       "      <th>...</th>\n",
       "      <td>...</td>\n",
       "      <td>...</td>\n",
       "      <td>...</td>\n",
       "      <td>...</td>\n",
       "    </tr>\n",
       "    <tr>\n",
       "      <th>1154</th>\n",
       "      <td>BMG_EP1155</td>\n",
       "      <td>Yttrium</td>\n",
       "      <td>MeSH ID:D015019</td>\n",
       "      <td>CAS RN:7440-65-5</td>\n",
       "    </tr>\n",
       "    <tr>\n",
       "      <th>1155</th>\n",
       "      <td>BMG_EP1156</td>\n",
       "      <td>Zeaxanthins</td>\n",
       "      <td>MeSH ID:D065146</td>\n",
       "      <td>NaN</td>\n",
       "    </tr>\n",
       "    <tr>\n",
       "      <th>1156</th>\n",
       "      <td>BMG_EP1157</td>\n",
       "      <td>zinc protoporphyrin</td>\n",
       "      <td>MeSH ID:C017803</td>\n",
       "      <td>CAS RN:15442-64-5</td>\n",
       "    </tr>\n",
       "    <tr>\n",
       "      <th>1157</th>\n",
       "      <td>BMG_EP1158</td>\n",
       "      <td>Ziram</td>\n",
       "      <td>MeSH ID:D015039</td>\n",
       "      <td>CAS RN:137-30-4</td>\n",
       "    </tr>\n",
       "    <tr>\n",
       "      <th>1158</th>\n",
       "      <td>BMG_EP1159</td>\n",
       "      <td>Zirconium</td>\n",
       "      <td>MeSH ID:D015040</td>\n",
       "      <td>CAS RN:7440-67-7</td>\n",
       "    </tr>\n",
       "  </tbody>\n",
       "</table>\n",
       "<p>1159 rows × 4 columns</p>\n",
       "</div>"
      ],
      "text/plain": [
       "     BioMedGraphica_ID        Exposure_Name          MeSH_ID  \\\n",
       "0           BMG_EP0001           Carbamates  MeSH ID:D002219   \n",
       "1           BMG_EP0002         Formaldehyde  MeSH ID:D005557   \n",
       "2           BMG_EP0003             Elements  MeSH ID:D004602   \n",
       "3           BMG_EP0004   2,4-dichlorophenol  MeSH ID:C004762   \n",
       "4           BMG_EP0005              Arsenic  MeSH ID:D001151   \n",
       "...                ...                  ...              ...   \n",
       "1154        BMG_EP1155              Yttrium  MeSH ID:D015019   \n",
       "1155        BMG_EP1156          Zeaxanthins  MeSH ID:D065146   \n",
       "1156        BMG_EP1157  zinc protoporphyrin  MeSH ID:C017803   \n",
       "1157        BMG_EP1158                Ziram  MeSH ID:D015039   \n",
       "1158        BMG_EP1159            Zirconium  MeSH ID:D015040   \n",
       "\n",
       "                 CAS_RN  \n",
       "0                   NaN  \n",
       "1        CAS RN:50-00-0  \n",
       "2                   NaN  \n",
       "3       CAS RN:120-83-2  \n",
       "4      CAS RN:7440-38-2  \n",
       "...                 ...  \n",
       "1154   CAS RN:7440-65-5  \n",
       "1155                NaN  \n",
       "1156  CAS RN:15442-64-5  \n",
       "1157    CAS RN:137-30-4  \n",
       "1158   CAS RN:7440-67-7  \n",
       "\n",
       "[1159 rows x 4 columns]"
      ]
     },
     "execution_count": 16,
     "metadata": {},
     "output_type": "execute_result"
    }
   ],
   "source": [
    "llm_name_id = biomedgraphica_exposure.copy()\n",
    "\n",
    "llm_name_id['MeSH_ID'] = llm_name_id['MeSH_ID'].apply(\n",
    "    lambda x: ' | '.join(f\"MeSH ID:{id}\" for id in x.split(';')) if pd.notna(x) and x != '' else x\n",
    ")\n",
    "\n",
    "llm_name_id['CAS_RN'] = llm_name_id['CAS_RN'].apply(\n",
    "    lambda x: ' | '.join(f\"CAS RN:{id}\" for id in x.split(';')) if pd.notna(x) and x != '' else x\n",
    ")\n",
    "\n",
    "column_order = ['BioMedGraphica_ID', 'Exposure_Name', 'MeSH_ID', 'CAS_RN']\n",
    "llm_name_id = llm_name_id[column_order]\n",
    "llm_name_id"
   ]
  },
  {
   "cell_type": "code",
   "execution_count": 17,
   "metadata": {},
   "outputs": [
    {
     "name": "stdout",
     "output_type": "stream",
     "text": [
      "Data has been saved to D:\\RA\\BMG\\BioMedGraphica\\Entity\\Exposure\\BioMedGraphica_Exposure_LLM_Name_ID.csv\n"
     ]
    }
   ],
   "source": [
    "import os\n",
    "from pathlib import Path\n",
    "\n",
    "# get the current working directory\n",
    "current_working_dir = Path(os.getcwd()).resolve()\n",
    "\n",
    "# get the output directory\n",
    "grandparent_dir = current_working_dir.parent.parent.parent\n",
    "\n",
    "target_folder = grandparent_dir / 'BioMedGraphica' / 'Entity' / 'Exposure'\n",
    "if not target_folder.exists():\n",
    "    target_folder.mkdir(parents=True)\n",
    "    print(f\"Folder {target_folder} has been created.\")\n",
    "\n",
    "output_file_path = target_folder / 'BioMedGraphica_Exposure_LLM_Name_ID.csv'\n",
    "llm_name_id.to_csv(output_file_path, index=False)\n",
    "print(f\"Data has been saved to {output_file_path}\")"
   ]
  },
  {
   "cell_type": "markdown",
   "metadata": {},
   "source": [
    "LLM Name and ID Combined"
   ]
  },
  {
   "cell_type": "code",
   "execution_count": 19,
   "metadata": {},
   "outputs": [
    {
     "data": {
      "application/vnd.microsoft.datawrangler.viewer.v0+json": {
       "columns": [
        {
         "name": "index",
         "rawType": "int64",
         "type": "integer"
        },
        {
         "name": "BioMedGraphica_ID",
         "rawType": "object",
         "type": "string"
        },
        {
         "name": "Names_and_IDs",
         "rawType": "object",
         "type": "string"
        }
       ],
       "conversionMethod": "pd.DataFrame",
       "ref": "b0ab7254-2388-44f3-9488-c975252967c3",
       "rows": [
        [
         "0",
         "BMG_EP0001",
         "MeSH ID:D002219 | Carbamates"
        ],
        [
         "1",
         "BMG_EP0002",
         "CAS RN:50-00-0 | Formaldehyde | MeSH ID:D005557"
        ],
        [
         "2",
         "BMG_EP0003",
         "MeSH ID:D004602 | Elements"
        ],
        [
         "3",
         "BMG_EP0004",
         "MeSH ID:C004762 | 2,4-dichlorophenol | CAS RN:120-83-2"
        ],
        [
         "4",
         "BMG_EP0005",
         "CAS RN:7440-38-2 | MeSH ID:D001151 | Arsenic"
        ],
        [
         "5",
         "BMG_EP0006",
         "CAS RN:7439-92-1 | MeSH ID:D007854 | Lead"
        ],
        [
         "6",
         "BMG_EP0007",
         "Tetrachloroethylene | MeSH ID:D013750 | CAS RN:127-18-4"
        ],
        [
         "7",
         "BMG_EP0008",
         "2,2',3',4,4',5-hexachlorobiphenyl | CAS RN:35065-28-2 | MeSH ID:C029790"
        ],
        [
         "8",
         "BMG_EP0009",
         "MeSH ID:D004177 | Dipyrone"
        ],
        [
         "9",
         "BMG_EP0010",
         "CAS RN:1332-21-4 | MeSH ID:D001194 | Asbestos"
        ],
        [
         "10",
         "BMG_EP0011",
         "MeSH ID:D000075182 | CAS RN:39277-47-9 | Agent Orange"
        ],
        [
         "11",
         "BMG_EP0012",
         "Asbestos, Amphibole | MeSH ID:D017636"
        ],
        [
         "12",
         "BMG_EP0013",
         "MeSH ID:D019946 | Propylene Glycol | CAS RN:57-55-6"
        ],
        [
         "13",
         "BMG_EP0014",
         "CAS RN:420-04-2 | MeSH ID:D003484 | Cyanamide"
        ],
        [
         "14",
         "BMG_EP0015",
         "CAS RN:72-55-9 | Dichlorodiphenyl Dichloroethylene | MeSH ID:D003633"
        ],
        [
         "15",
         "BMG_EP0016",
         "CAS RN:94-75-7 | 2,4-Dichlorophenoxyacetic Acid | MeSH ID:D015084"
        ],
        [
         "16",
         "BMG_EP0017",
         "Pesticides | MeSH ID:D010575"
        ],
        [
         "17",
         "BMG_EP0018",
         "MeSH ID:D013749 | Tetrachlorodibenzodioxin | CAS RN:1746-01-6"
        ],
        [
         "18",
         "BMG_EP0019",
         "Dust | MeSH ID:D004391"
        ],
        [
         "19",
         "BMG_EP0020",
         "MeSH ID:D000395 | Air Pollutants, Occupational"
        ],
        [
         "20",
         "BMG_EP0021",
         "Isocyanates | MeSH ID:D017953"
        ],
        [
         "21",
         "BMG_EP0022",
         "MeSH ID:D012721 | Carbaryl | CAS RN:63-25-2"
        ],
        [
         "22",
         "BMG_EP0023",
         "MeSH ID:C010349 | tetramethylenedisulfotetramine | CAS RN:80-12-6"
        ],
        [
         "23",
         "BMG_EP0024",
         "perfluorooctane sulfonic acid | CAS RN:1763-23-1 | MeSH ID:C076994"
        ],
        [
         "24",
         "BMG_EP0025",
         "butylate | MeSH ID:C023898 | CAS RN:2008-41-5"
        ],
        [
         "25",
         "BMG_EP0026",
         "Styrene | MeSH ID:D020058"
        ],
        [
         "26",
         "BMG_EP0027",
         "MeSH ID:D002706 | CAS RN:12789-03-6 | Chlordan"
        ],
        [
         "27",
         "BMG_EP0028",
         "hexachlorobutadiene | CAS RN:87-68-3 | MeSH ID:C001335"
        ],
        [
         "28",
         "BMG_EP0029",
         "MeSH ID:D011848 | Radioactive Pollutants"
        ],
        [
         "29",
         "BMG_EP0030",
         "CAS RN:117-81-7 | MeSH ID:D004051 | Diethylhexyl Phthalate"
        ],
        [
         "30",
         "BMG_EP0031",
         "2,2',4,4'-tetrabromodiphenyl ether | MeSH ID:C511295"
        ],
        [
         "31",
         "BMG_EP0032",
         "MeSH ID:D019216 | Metals, Heavy"
        ],
        [
         "32",
         "BMG_EP0033",
         "2,2',3,4,4',5',6-heptabromodiphenyl ether | MeSH ID:C483839"
        ],
        [
         "33",
         "BMG_EP0034",
         "MeSH ID:C014024 | CAS RN:35065-27-1 | 2,4,5,2',4',5'-hexachlorobiphenyl"
        ],
        [
         "34",
         "BMG_EP0035",
         "MeSH ID:D006540 | Herbicides"
        ],
        [
         "35",
         "BMG_EP0036",
         "MeSH ID:D008767 | Methylmercury Compounds"
        ],
        [
         "36",
         "BMG_EP0037",
         "allergen Bla g 1 | MeSH ID:C105482"
        ],
        [
         "37",
         "BMG_EP0038",
         "MeSH ID:D039821 | Monoterpenes"
        ],
        [
         "38",
         "BMG_EP0039",
         "Fungicides, Industrial | MeSH ID:D005659"
        ],
        [
         "39",
         "BMG_EP0040",
         "MeSH ID:D002248 | Carbon Monoxide | CAS RN:630-08-0"
        ],
        [
         "40",
         "BMG_EP0041",
         "MeSH ID:D014028 | Tobacco Smoke Pollution"
        ],
        [
         "41",
         "BMG_EP0042",
         "MeSH ID:D007220 | Industrial Waste"
        ],
        [
         "42",
         "BMG_EP0043",
         "Air Pollutants | MeSH ID:D000393"
        ],
        [
         "43",
         "BMG_EP0044",
         "MeSH ID:D009585 | Nitrogen Dioxide | CAS RN:10102-44-0"
        ],
        [
         "44",
         "BMG_EP0045",
         "MeSH ID:D004147 | Dioxins"
        ],
        [
         "45",
         "BMG_EP0046",
         "MeSH ID:D010755 | Organophosphates"
        ],
        [
         "46",
         "BMG_EP0047",
         "MeSH ID:D004202 | Disinfectants"
        ],
        [
         "47",
         "BMG_EP0048",
         "2,2',3,3',4,4',5-heptachlorobiphenyl | MeSH ID:C541131"
        ],
        [
         "48",
         "BMG_EP0049",
         "MeSH ID:D001335 | Vehicle Emissions"
        ],
        [
         "49",
         "BMG_EP0050",
         "Endocrine Disruptors | MeSH ID:D052244"
        ]
       ],
       "shape": {
        "columns": 2,
        "rows": 1159
       }
      },
      "text/html": [
       "<div>\n",
       "<style scoped>\n",
       "    .dataframe tbody tr th:only-of-type {\n",
       "        vertical-align: middle;\n",
       "    }\n",
       "\n",
       "    .dataframe tbody tr th {\n",
       "        vertical-align: top;\n",
       "    }\n",
       "\n",
       "    .dataframe thead th {\n",
       "        text-align: right;\n",
       "    }\n",
       "</style>\n",
       "<table border=\"1\" class=\"dataframe\">\n",
       "  <thead>\n",
       "    <tr style=\"text-align: right;\">\n",
       "      <th></th>\n",
       "      <th>BioMedGraphica_ID</th>\n",
       "      <th>Names_and_IDs</th>\n",
       "    </tr>\n",
       "  </thead>\n",
       "  <tbody>\n",
       "    <tr>\n",
       "      <th>0</th>\n",
       "      <td>BMG_EP0001</td>\n",
       "      <td>MeSH ID:D002219 | Carbamates</td>\n",
       "    </tr>\n",
       "    <tr>\n",
       "      <th>1</th>\n",
       "      <td>BMG_EP0002</td>\n",
       "      <td>CAS RN:50-00-0 | Formaldehyde | MeSH ID:D005557</td>\n",
       "    </tr>\n",
       "    <tr>\n",
       "      <th>2</th>\n",
       "      <td>BMG_EP0003</td>\n",
       "      <td>MeSH ID:D004602 | Elements</td>\n",
       "    </tr>\n",
       "    <tr>\n",
       "      <th>3</th>\n",
       "      <td>BMG_EP0004</td>\n",
       "      <td>MeSH ID:C004762 | 2,4-dichlorophenol | CAS RN:...</td>\n",
       "    </tr>\n",
       "    <tr>\n",
       "      <th>4</th>\n",
       "      <td>BMG_EP0005</td>\n",
       "      <td>CAS RN:7440-38-2 | MeSH ID:D001151 | Arsenic</td>\n",
       "    </tr>\n",
       "    <tr>\n",
       "      <th>...</th>\n",
       "      <td>...</td>\n",
       "      <td>...</td>\n",
       "    </tr>\n",
       "    <tr>\n",
       "      <th>1154</th>\n",
       "      <td>BMG_EP1155</td>\n",
       "      <td>Yttrium | MeSH ID:D015019 | CAS RN:7440-65-5</td>\n",
       "    </tr>\n",
       "    <tr>\n",
       "      <th>1155</th>\n",
       "      <td>BMG_EP1156</td>\n",
       "      <td>Zeaxanthins | MeSH ID:D065146</td>\n",
       "    </tr>\n",
       "    <tr>\n",
       "      <th>1156</th>\n",
       "      <td>BMG_EP1157</td>\n",
       "      <td>zinc protoporphyrin | MeSH ID:C017803 | CAS RN...</td>\n",
       "    </tr>\n",
       "    <tr>\n",
       "      <th>1157</th>\n",
       "      <td>BMG_EP1158</td>\n",
       "      <td>MeSH ID:D015039 | Ziram | CAS RN:137-30-4</td>\n",
       "    </tr>\n",
       "    <tr>\n",
       "      <th>1158</th>\n",
       "      <td>BMG_EP1159</td>\n",
       "      <td>Zirconium | MeSH ID:D015040 | CAS RN:7440-67-7</td>\n",
       "    </tr>\n",
       "  </tbody>\n",
       "</table>\n",
       "<p>1159 rows × 2 columns</p>\n",
       "</div>"
      ],
      "text/plain": [
       "     BioMedGraphica_ID                                      Names_and_IDs\n",
       "0           BMG_EP0001                       MeSH ID:D002219 | Carbamates\n",
       "1           BMG_EP0002    CAS RN:50-00-0 | Formaldehyde | MeSH ID:D005557\n",
       "2           BMG_EP0003                         MeSH ID:D004602 | Elements\n",
       "3           BMG_EP0004  MeSH ID:C004762 | 2,4-dichlorophenol | CAS RN:...\n",
       "4           BMG_EP0005       CAS RN:7440-38-2 | MeSH ID:D001151 | Arsenic\n",
       "...                ...                                                ...\n",
       "1154        BMG_EP1155       Yttrium | MeSH ID:D015019 | CAS RN:7440-65-5\n",
       "1155        BMG_EP1156                      Zeaxanthins | MeSH ID:D065146\n",
       "1156        BMG_EP1157  zinc protoporphyrin | MeSH ID:C017803 | CAS RN...\n",
       "1157        BMG_EP1158          MeSH ID:D015039 | Ziram | CAS RN:137-30-4\n",
       "1158        BMG_EP1159     Zirconium | MeSH ID:D015040 | CAS RN:7440-67-7\n",
       "\n",
       "[1159 rows x 2 columns]"
      ]
     },
     "execution_count": 19,
     "metadata": {},
     "output_type": "execute_result"
    }
   ],
   "source": [
    "llm_combined = llm_name_id.copy()\n",
    "\n",
    "def merge_string_columns(df, columns, merge_name, separator=' | '):\n",
    "    def merge_strings(row):\n",
    "        combined = set()\n",
    "        for column in columns:\n",
    "            if pd.notnull(row[column]):\n",
    "                combined.update(row[column].split(separator))\n",
    "        return separator.join(combined)\n",
    "    \n",
    "    # Apply the function to each row and create a new column\n",
    "    combined_column_name = merge_name\n",
    "    df[combined_column_name] = df.apply(merge_strings, axis=1)\n",
    "    df.drop(columns=columns, inplace=True)\n",
    "    \n",
    "    return df\n",
    "\n",
    "llm_combined = merge_string_columns(llm_combined, ['MeSH_ID', 'CAS_RN', 'Exposure_Name'], 'Names_and_IDs')\n",
    "llm_combined"
   ]
  },
  {
   "cell_type": "code",
   "execution_count": 20,
   "metadata": {},
   "outputs": [
    {
     "name": "stdout",
     "output_type": "stream",
     "text": [
      "Data has been saved to D:\\RA\\BMG\\BioMedGraphica\\Entity\\Exposure\\BioMedGraphica_Exposure_LLM_Name_ID_Combined.csv\n"
     ]
    }
   ],
   "source": [
    "import os\n",
    "from pathlib import Path\n",
    "\n",
    "# get the current working directory\n",
    "current_working_dir = Path(os.getcwd()).resolve()\n",
    "\n",
    "# get the output directory\n",
    "grandparent_dir = current_working_dir.parent.parent.parent\n",
    "\n",
    "target_folder = grandparent_dir / 'BioMedGraphica' / 'Entity' / 'Exposure'\n",
    "if not target_folder.exists():\n",
    "    target_folder.mkdir(parents=True)\n",
    "    print(f\"Folder {target_folder} has been created.\")\n",
    "\n",
    "output_file_path = target_folder / 'BioMedGraphica_Exposure_LLM_Name_ID_Combined.csv'\n",
    "llm_combined.to_csv(output_file_path, index=False)\n",
    "print(f\"Data has been saved to {output_file_path}\")"
   ]
  },
  {
   "cell_type": "markdown",
   "metadata": {},
   "source": [
    "Display Name"
   ]
  },
  {
   "cell_type": "code",
   "execution_count": 21,
   "metadata": {},
   "outputs": [
    {
     "data": {
      "application/vnd.microsoft.datawrangler.viewer.v0+json": {
       "columns": [
        {
         "name": "index",
         "rawType": "int64",
         "type": "integer"
        },
        {
         "name": "BioMedGraphica_ID",
         "rawType": "object",
         "type": "string"
        },
        {
         "name": "BMG_Exposure_Name",
         "rawType": "object",
         "type": "string"
        }
       ],
       "conversionMethod": "pd.DataFrame",
       "ref": "b3ac7690-a85c-4dcf-b310-70bbc189858c",
       "rows": [
        [
         "0",
         "BMG_EP0001",
         "Carbamates"
        ],
        [
         "1",
         "BMG_EP0002",
         "Formaldehyde"
        ],
        [
         "2",
         "BMG_EP0003",
         "Elements"
        ],
        [
         "3",
         "BMG_EP0004",
         "2,4-dichlorophenol"
        ],
        [
         "4",
         "BMG_EP0005",
         "Arsenic"
        ],
        [
         "5",
         "BMG_EP0006",
         "Lead"
        ],
        [
         "6",
         "BMG_EP0007",
         "Tetrachloroethylene"
        ],
        [
         "7",
         "BMG_EP0008",
         "2,2',3',4,4',5-hexachlorobiphenyl"
        ],
        [
         "8",
         "BMG_EP0009",
         "Dipyrone"
        ],
        [
         "9",
         "BMG_EP0010",
         "Asbestos"
        ],
        [
         "10",
         "BMG_EP0011",
         "Agent Orange"
        ],
        [
         "11",
         "BMG_EP0012",
         "Asbestos, Amphibole"
        ],
        [
         "12",
         "BMG_EP0013",
         "Propylene Glycol"
        ],
        [
         "13",
         "BMG_EP0014",
         "Cyanamide"
        ],
        [
         "14",
         "BMG_EP0015",
         "Dichlorodiphenyl Dichloroethylene"
        ],
        [
         "15",
         "BMG_EP0016",
         "2,4-Dichlorophenoxyacetic Acid"
        ],
        [
         "16",
         "BMG_EP0017",
         "Pesticides"
        ],
        [
         "17",
         "BMG_EP0018",
         "Tetrachlorodibenzodioxin"
        ],
        [
         "18",
         "BMG_EP0019",
         "Dust"
        ],
        [
         "19",
         "BMG_EP0020",
         "Air Pollutants, Occupational"
        ],
        [
         "20",
         "BMG_EP0021",
         "Isocyanates"
        ],
        [
         "21",
         "BMG_EP0022",
         "Carbaryl"
        ],
        [
         "22",
         "BMG_EP0023",
         "tetramethylenedisulfotetramine"
        ],
        [
         "23",
         "BMG_EP0024",
         "perfluorooctane sulfonic acid"
        ],
        [
         "24",
         "BMG_EP0025",
         "butylate"
        ],
        [
         "25",
         "BMG_EP0026",
         "Styrene"
        ],
        [
         "26",
         "BMG_EP0027",
         "Chlordan"
        ],
        [
         "27",
         "BMG_EP0028",
         "hexachlorobutadiene"
        ],
        [
         "28",
         "BMG_EP0029",
         "Radioactive Pollutants"
        ],
        [
         "29",
         "BMG_EP0030",
         "Diethylhexyl Phthalate"
        ],
        [
         "30",
         "BMG_EP0031",
         "2,2',4,4'-tetrabromodiphenyl ether"
        ],
        [
         "31",
         "BMG_EP0032",
         "Metals, Heavy"
        ],
        [
         "32",
         "BMG_EP0033",
         "2,2',3,4,4',5',6-heptabromodiphenyl ether"
        ],
        [
         "33",
         "BMG_EP0034",
         "2,4,5,2',4',5'-hexachlorobiphenyl"
        ],
        [
         "34",
         "BMG_EP0035",
         "Herbicides"
        ],
        [
         "35",
         "BMG_EP0036",
         "Methylmercury Compounds"
        ],
        [
         "36",
         "BMG_EP0037",
         "allergen Bla g 1"
        ],
        [
         "37",
         "BMG_EP0038",
         "Monoterpenes"
        ],
        [
         "38",
         "BMG_EP0039",
         "Fungicides, Industrial"
        ],
        [
         "39",
         "BMG_EP0040",
         "Carbon Monoxide"
        ],
        [
         "40",
         "BMG_EP0041",
         "Tobacco Smoke Pollution"
        ],
        [
         "41",
         "BMG_EP0042",
         "Industrial Waste"
        ],
        [
         "42",
         "BMG_EP0043",
         "Air Pollutants"
        ],
        [
         "43",
         "BMG_EP0044",
         "Nitrogen Dioxide"
        ],
        [
         "44",
         "BMG_EP0045",
         "Dioxins"
        ],
        [
         "45",
         "BMG_EP0046",
         "Organophosphates"
        ],
        [
         "46",
         "BMG_EP0047",
         "Disinfectants"
        ],
        [
         "47",
         "BMG_EP0048",
         "2,2',3,3',4,4',5-heptachlorobiphenyl"
        ],
        [
         "48",
         "BMG_EP0049",
         "Vehicle Emissions"
        ],
        [
         "49",
         "BMG_EP0050",
         "Endocrine Disruptors"
        ]
       ],
       "shape": {
        "columns": 2,
        "rows": 1159
       }
      },
      "text/html": [
       "<div>\n",
       "<style scoped>\n",
       "    .dataframe tbody tr th:only-of-type {\n",
       "        vertical-align: middle;\n",
       "    }\n",
       "\n",
       "    .dataframe tbody tr th {\n",
       "        vertical-align: top;\n",
       "    }\n",
       "\n",
       "    .dataframe thead th {\n",
       "        text-align: right;\n",
       "    }\n",
       "</style>\n",
       "<table border=\"1\" class=\"dataframe\">\n",
       "  <thead>\n",
       "    <tr style=\"text-align: right;\">\n",
       "      <th></th>\n",
       "      <th>BioMedGraphica_ID</th>\n",
       "      <th>BMG_Exposure_Name</th>\n",
       "    </tr>\n",
       "  </thead>\n",
       "  <tbody>\n",
       "    <tr>\n",
       "      <th>0</th>\n",
       "      <td>BMG_EP0001</td>\n",
       "      <td>Carbamates</td>\n",
       "    </tr>\n",
       "    <tr>\n",
       "      <th>1</th>\n",
       "      <td>BMG_EP0002</td>\n",
       "      <td>Formaldehyde</td>\n",
       "    </tr>\n",
       "    <tr>\n",
       "      <th>2</th>\n",
       "      <td>BMG_EP0003</td>\n",
       "      <td>Elements</td>\n",
       "    </tr>\n",
       "    <tr>\n",
       "      <th>3</th>\n",
       "      <td>BMG_EP0004</td>\n",
       "      <td>2,4-dichlorophenol</td>\n",
       "    </tr>\n",
       "    <tr>\n",
       "      <th>4</th>\n",
       "      <td>BMG_EP0005</td>\n",
       "      <td>Arsenic</td>\n",
       "    </tr>\n",
       "    <tr>\n",
       "      <th>...</th>\n",
       "      <td>...</td>\n",
       "      <td>...</td>\n",
       "    </tr>\n",
       "    <tr>\n",
       "      <th>1154</th>\n",
       "      <td>BMG_EP1155</td>\n",
       "      <td>Yttrium</td>\n",
       "    </tr>\n",
       "    <tr>\n",
       "      <th>1155</th>\n",
       "      <td>BMG_EP1156</td>\n",
       "      <td>Zeaxanthins</td>\n",
       "    </tr>\n",
       "    <tr>\n",
       "      <th>1156</th>\n",
       "      <td>BMG_EP1157</td>\n",
       "      <td>zinc protoporphyrin</td>\n",
       "    </tr>\n",
       "    <tr>\n",
       "      <th>1157</th>\n",
       "      <td>BMG_EP1158</td>\n",
       "      <td>Ziram</td>\n",
       "    </tr>\n",
       "    <tr>\n",
       "      <th>1158</th>\n",
       "      <td>BMG_EP1159</td>\n",
       "      <td>Zirconium</td>\n",
       "    </tr>\n",
       "  </tbody>\n",
       "</table>\n",
       "<p>1159 rows × 2 columns</p>\n",
       "</div>"
      ],
      "text/plain": [
       "     BioMedGraphica_ID    BMG_Exposure_Name\n",
       "0           BMG_EP0001           Carbamates\n",
       "1           BMG_EP0002         Formaldehyde\n",
       "2           BMG_EP0003             Elements\n",
       "3           BMG_EP0004   2,4-dichlorophenol\n",
       "4           BMG_EP0005              Arsenic\n",
       "...                ...                  ...\n",
       "1154        BMG_EP1155              Yttrium\n",
       "1155        BMG_EP1156          Zeaxanthins\n",
       "1156        BMG_EP1157  zinc protoporphyrin\n",
       "1157        BMG_EP1158                Ziram\n",
       "1158        BMG_EP1159            Zirconium\n",
       "\n",
       "[1159 rows x 2 columns]"
      ]
     },
     "execution_count": 21,
     "metadata": {},
     "output_type": "execute_result"
    }
   ],
   "source": [
    "display_name = biomedgraphica_exposure.copy()\n",
    "\n",
    "display_name.rename(columns={'Exposure_Name': 'BMG_Exposure_Name'}, inplace=True)\n",
    "display_name = display_name[['BioMedGraphica_ID', 'BMG_Exposure_Name']]\n",
    "display_name"
   ]
  },
  {
   "cell_type": "code",
   "execution_count": 22,
   "metadata": {},
   "outputs": [
    {
     "name": "stdout",
     "output_type": "stream",
     "text": [
      "Data has been saved to D:\\RA\\BMG\\BioMedGraphica\\Entity\\Exposure\\BioMedGraphica_Exposure_Display_Name.csv\n"
     ]
    }
   ],
   "source": [
    "import os\n",
    "from pathlib import Path\n",
    "\n",
    "# get the current working directory\n",
    "current_working_dir = Path(os.getcwd()).resolve()\n",
    "\n",
    "# get the output directory\n",
    "grandparent_dir = current_working_dir.parent.parent.parent\n",
    "\n",
    "target_folder = grandparent_dir / 'BioMedGraphica' / 'Entity' / 'Exposure'\n",
    "if not target_folder.exists():\n",
    "    target_folder.mkdir(parents=True)\n",
    "    print(f\"Folder {target_folder} has been created.\")\n",
    "\n",
    "output_file_path = target_folder / 'BioMedGraphica_Exposure_Display_Name.csv'\n",
    "display_name.to_csv(output_file_path, index=False)\n",
    "print(f\"Data has been saved to {output_file_path}\")"
   ]
  }
 ],
 "metadata": {
  "kernelspec": {
   "display_name": "base",
   "language": "python",
   "name": "python3"
  },
  "language_info": {
   "codemirror_mode": {
    "name": "ipython",
    "version": 3
   },
   "file_extension": ".py",
   "mimetype": "text/x-python",
   "name": "python",
   "nbconvert_exporter": "python",
   "pygments_lexer": "ipython3",
   "version": "3.9.19"
  }
 },
 "nbformat": 4,
 "nbformat_minor": 2
}
