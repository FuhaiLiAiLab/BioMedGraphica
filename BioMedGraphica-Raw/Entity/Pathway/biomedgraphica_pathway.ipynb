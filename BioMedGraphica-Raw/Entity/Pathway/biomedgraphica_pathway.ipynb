{
 "cells": [
  {
   "cell_type": "markdown",
   "metadata": {},
   "source": [
    "# BioMedGraphica Pathway"
   ]
  },
  {
   "cell_type": "markdown",
   "metadata": {},
   "source": [
    "## 1. Data Access  \n",
    "### Direct Download Links  \n",
    "**Reactome**: Can be downloaded directly via the link without the need for registration. [Link](https://reactome.org/download/current/ReactomePathways.txt)  \n",
    "**KEGG**: Fetch data by R  \n",
    "**Pathway Ontology**: Can be downloaded directly via the link without the need for registration. [Link](https://download.rgd.mcw.edu/ontology/pathway/pathway.obo)  \n",
    "**ComPath**: Can be downloaded directly via the link without the need for registration. [Link](https://compath.scai.fraunhofer.de/export_mappings)  "
   ]
  },
  {
   "cell_type": "markdown",
   "metadata": {},
   "source": [
    "### KEGG API"
   ]
  },
  {
   "cell_type": "code",
   "execution_count": null,
   "metadata": {},
   "outputs": [],
   "source": [
    "from bioservices import KEGG\n",
    "import pandas as pd\n",
    "\n",
    "k = KEGG()\n",
    "k.organism = \"hsa\"\n",
    "\n",
    "# human\n",
    "pathway_ids = k.pathwayIds\n",
    "\n",
    "def format_value(value):\n",
    "    if isinstance(value, list):\n",
    "        return ';'.join(format_value(item) for item in value)\n",
    "    elif isinstance(value, dict):\n",
    "        return ';'.join(f\"{k}: {v}\" for k, v in value.items())\n",
    "    else:\n",
    "        return str(value)\n",
    "\n",
    "def format_for_dataframe(data):\n",
    "    return {key: format_value(value) for key, value in data.items()}\n",
    "\n",
    "full_pathway = pd.DataFrame()\n",
    "\n",
    "for pid in pathway_ids:\n",
    "    try:\n",
    "        pathway_info = k.get(pid)  \n",
    "        dict_data = k.parse(pathway_info)\n",
    "        formatted_dict_data = format_for_dataframe(dict_data) \n",
    "        df = pd.DataFrame([formatted_dict_data])\n",
    "        full_pathway = pd.concat([full_pathway, df], ignore_index=True)\n",
    "    except Exception as e:\n",
    "        print(f\"Error processing pathway {pid}: {e}\")\n",
    "\n",
    "print(full_pathway.head())\n",
    "\n",
    "full_pathway.to_csv('full_kegg_pathways.csv', index=False)"
   ]
  },
  {
   "cell_type": "markdown",
   "metadata": {},
   "source": [
    "### WikiPathways API"
   ]
  },
  {
   "cell_type": "code",
   "execution_count": 1,
   "metadata": {},
   "outputs": [],
   "source": [
    "import requests\n",
    "import pandas as pd\n",
    "\n",
    "url = \"https://webservice.wikipathways.org/listPathways\"\n",
    "params = {\n",
    "    \"format\": \"json\"\n",
    "}\n",
    "\n",
    "response = requests.get(url, params=params)\n",
    "data = response.json()\n",
    "\n",
    "pathways = data['pathways']\n",
    "\n",
    "human_pathways = []\n",
    "\n",
    "for pathway in pathways:\n",
    "    if pathway['species'] == \"Homo sapiens\":\n",
    "        human_pathways.append({\n",
    "            'id': pathway['id'],\n",
    "            'name': pathway['name'],\n",
    "            'url': pathway['url'],\n",
    "            'revision': pathway['revision']\n",
    "        })\n",
    "\n",
    "df = pd.DataFrame(human_pathways)\n",
    "df.to_csv('human_pathways.csv', index=False)"
   ]
  },
  {
   "cell_type": "markdown",
   "metadata": {},
   "source": [
    "## 2. Load Data"
   ]
  },
  {
   "cell_type": "markdown",
   "metadata": {},
   "source": [
    "### 2.1 Reactome"
   ]
  },
  {
   "cell_type": "code",
   "execution_count": 17,
   "metadata": {},
   "outputs": [
    {
     "data": {
      "application/vnd.microsoft.datawrangler.viewer.v0+json": {
       "columns": [
        {
         "name": "index",
         "rawType": "int64",
         "type": "integer"
        },
        {
         "name": "reactome_id",
         "rawType": "object",
         "type": "string"
        },
        {
         "name": "Reactome_Name",
         "rawType": "object",
         "type": "string"
        }
       ],
       "conversionMethod": "pd.DataFrame",
       "ref": "10272fae-fee4-4840-9c21-810563ad63ec",
       "rows": [
        [
         "10624",
         "R-HSA-164843",
         "2-LTR circle formation"
        ],
        [
         "10625",
         "R-HSA-9909438",
         "3-Methylcrotonyl-CoA carboxylase deficiency"
        ],
        [
         "10626",
         "R-HSA-9916722",
         "3-hydroxyisobutyryl-CoA hydrolase deficiency"
        ],
        [
         "10627",
         "R-HSA-9914274",
         "3-methylglutaconic aciduria"
        ],
        [
         "10628",
         "R-HSA-73843",
         "5-Phosphoribose 1-diphosphate biosynthesis"
        ],
        [
         "10629",
         "R-HSA-1971475",
         "A tetrasaccharide linker sequence is required for GAG synthesis"
        ],
        [
         "10630",
         "R-HSA-5619084",
         "ABC transporter disorders"
        ],
        [
         "10631",
         "R-HSA-1369062",
         "ABC transporters in lipid homeostasis"
        ],
        [
         "10632",
         "R-HSA-382556",
         "ABC-family proteins mediated transport"
        ],
        [
         "10633",
         "R-HSA-9033807",
         "ABO blood group biosynthesis"
        ],
        [
         "10634",
         "R-HSA-9660821",
         "ADORA2B mediated anti-inflammatory cytokines production"
        ],
        [
         "10635",
         "R-HSA-418592",
         "ADP signalling through P2Y purinoceptor 1"
        ],
        [
         "10636",
         "R-HSA-392170",
         "ADP signalling through P2Y purinoceptor 12"
        ],
        [
         "10637",
         "R-HSA-198323",
         "AKT phosphorylates targets in the cytosol"
        ],
        [
         "10638",
         "R-HSA-198693",
         "AKT phosphorylates targets in the nucleus"
        ],
        [
         "10639",
         "R-HSA-211163",
         "AKT-mediated inactivation of FOXO1A"
        ],
        [
         "10640",
         "R-HSA-9700645",
         "ALK mutants bind TKIs"
        ],
        [
         "10641",
         "R-HSA-112122",
         "ALKBH2 mediated reversal of alkylation damage"
        ],
        [
         "10642",
         "R-HSA-112126",
         "ALKBH3 mediated reversal of alkylation damage"
        ],
        [
         "10643",
         "R-HSA-163680",
         "AMPK inhibits chREBP transcriptional activation activity"
        ],
        [
         "10644",
         "R-HSA-5467333",
         "APC truncation mutants are not K63 polyubiquitinated"
        ],
        [
         "10645",
         "R-HSA-5467337",
         "APC truncation mutants have impaired AXIN binding"
        ],
        [
         "10646",
         "R-HSA-179409",
         "APC-Cdc20 mediated degradation of Nek2A"
        ],
        [
         "10647",
         "R-HSA-174143",
         "APC/C-mediated degradation of cell cycle proteins"
        ],
        [
         "10648",
         "R-HSA-174048",
         "APC/C:Cdc20 mediated degradation of Cyclin B"
        ],
        [
         "10649",
         "R-HSA-174154",
         "APC/C:Cdc20 mediated degradation of Securin"
        ],
        [
         "10650",
         "R-HSA-176409",
         "APC/C:Cdc20 mediated degradation of mitotic proteins"
        ],
        [
         "10651",
         "R-HSA-174178",
         "APC/C:Cdh1 mediated degradation of Cdc20 and other APC/C:Cdh1 targeted proteins in late mitosis/early G1"
        ],
        [
         "10652",
         "R-HSA-179419",
         "APC:Cdc20 mediated degradation of cell cycle proteins prior to satisfation of the cell cycle checkpoint"
        ],
        [
         "10653",
         "R-HSA-5649702",
         "APEX1-Independent Resolution of AP Sites via the Single Nucleotide Replacement Pathway"
        ],
        [
         "10654",
         "R-HSA-180689",
         "APOBEC3G mediated resistance to HIV-1 infection"
        ],
        [
         "10655",
         "R-HSA-5624958",
         "ARL13B-mediated ciliary trafficking of INPP5E"
        ],
        [
         "10656",
         "R-HSA-170984",
         "ARMS-mediated activation"
        ],
        [
         "10657",
         "R-HSA-9717264",
         "ASP-3026-resistant ALK mutants"
        ],
        [
         "10658",
         "R-HSA-380994",
         "ATF4 activates genes in response to endoplasmic reticulum  stress"
        ],
        [
         "10659",
         "R-HSA-381183",
         "ATF6 (ATF6-alpha) activates chaperone genes"
        ],
        [
         "10660",
         "R-HSA-381033",
         "ATF6 (ATF6-alpha) activates chaperones"
        ],
        [
         "10661",
         "R-HSA-8874177",
         "ATF6B (ATF6-beta) activates chaperones"
        ],
        [
         "10662",
         "R-HSA-1296025",
         "ATP sensitive Potassium channels"
        ],
        [
         "10663",
         "R-HSA-450408",
         "AUF1 (hnRNP D0) binds and destabilizes mRNA"
        ],
        [
         "10664",
         "R-HSA-8854518",
         "AURKA Activation by TPX2"
        ],
        [
         "10665",
         "R-HSA-5467340",
         "AXIN missense mutants destabilize the destruction complex"
        ],
        [
         "10666",
         "R-HSA-2161522",
         "Abacavir ADME"
        ],
        [
         "10667",
         "R-HSA-2161541",
         "Abacavir metabolism"
        ],
        [
         "10668",
         "R-HSA-2161517",
         "Abacavir transmembrane transport"
        ],
        [
         "10669",
         "R-HSA-73930",
         "Abasic sugar-phosphate removal via the single-nucleotide replacement pathway"
        ],
        [
         "10670",
         "R-HSA-9659787",
         "Aberrant regulation of mitotic G1/S transition in cancer due to RB1 defects"
        ],
        [
         "10671",
         "R-HSA-9687139",
         "Aberrant regulation of mitotic cell cycle due to RB1 defects"
        ],
        [
         "10672",
         "R-HSA-9687136",
         "Aberrant regulation of mitotic exit in cancer due to RB1 defects"
        ],
        [
         "10673",
         "R-HSA-2978092",
         "Abnormal conversion of 2-oxoglutarate to 2-hydroxyglutarate"
        ]
       ],
       "shape": {
        "columns": 2,
        "rows": 2751
       }
      },
      "text/html": [
       "<div>\n",
       "<style scoped>\n",
       "    .dataframe tbody tr th:only-of-type {\n",
       "        vertical-align: middle;\n",
       "    }\n",
       "\n",
       "    .dataframe tbody tr th {\n",
       "        vertical-align: top;\n",
       "    }\n",
       "\n",
       "    .dataframe thead th {\n",
       "        text-align: right;\n",
       "    }\n",
       "</style>\n",
       "<table border=\"1\" class=\"dataframe\">\n",
       "  <thead>\n",
       "    <tr style=\"text-align: right;\">\n",
       "      <th></th>\n",
       "      <th>reactome_id</th>\n",
       "      <th>Reactome_Name</th>\n",
       "    </tr>\n",
       "  </thead>\n",
       "  <tbody>\n",
       "    <tr>\n",
       "      <th>10624</th>\n",
       "      <td>R-HSA-164843</td>\n",
       "      <td>2-LTR circle formation</td>\n",
       "    </tr>\n",
       "    <tr>\n",
       "      <th>10625</th>\n",
       "      <td>R-HSA-9909438</td>\n",
       "      <td>3-Methylcrotonyl-CoA carboxylase deficiency</td>\n",
       "    </tr>\n",
       "    <tr>\n",
       "      <th>10626</th>\n",
       "      <td>R-HSA-9916722</td>\n",
       "      <td>3-hydroxyisobutyryl-CoA hydrolase deficiency</td>\n",
       "    </tr>\n",
       "    <tr>\n",
       "      <th>10627</th>\n",
       "      <td>R-HSA-9914274</td>\n",
       "      <td>3-methylglutaconic aciduria</td>\n",
       "    </tr>\n",
       "    <tr>\n",
       "      <th>10628</th>\n",
       "      <td>R-HSA-73843</td>\n",
       "      <td>5-Phosphoribose 1-diphosphate biosynthesis</td>\n",
       "    </tr>\n",
       "    <tr>\n",
       "      <th>...</th>\n",
       "      <td>...</td>\n",
       "      <td>...</td>\n",
       "    </tr>\n",
       "    <tr>\n",
       "      <th>13370</th>\n",
       "      <td>R-HSA-9703009</td>\n",
       "      <td>tamatinib-resistant FLT3 mutants</td>\n",
       "    </tr>\n",
       "    <tr>\n",
       "      <th>13371</th>\n",
       "      <td>R-HSA-9702636</td>\n",
       "      <td>tandutinib-resistant FLT3 mutants</td>\n",
       "    </tr>\n",
       "    <tr>\n",
       "      <th>13372</th>\n",
       "      <td>R-HSA-199992</td>\n",
       "      <td>trans-Golgi Network Vesicle Budding</td>\n",
       "    </tr>\n",
       "    <tr>\n",
       "      <th>13373</th>\n",
       "      <td>R-HSA-192814</td>\n",
       "      <td>vRNA Synthesis</td>\n",
       "    </tr>\n",
       "    <tr>\n",
       "      <th>13374</th>\n",
       "      <td>R-HSA-192905</td>\n",
       "      <td>vRNP Assembly</td>\n",
       "    </tr>\n",
       "  </tbody>\n",
       "</table>\n",
       "<p>2751 rows × 2 columns</p>\n",
       "</div>"
      ],
      "text/plain": [
       "         reactome_id                                 Reactome_Name\n",
       "10624   R-HSA-164843                        2-LTR circle formation\n",
       "10625  R-HSA-9909438   3-Methylcrotonyl-CoA carboxylase deficiency\n",
       "10626  R-HSA-9916722  3-hydroxyisobutyryl-CoA hydrolase deficiency\n",
       "10627  R-HSA-9914274                   3-methylglutaconic aciduria\n",
       "10628    R-HSA-73843    5-Phosphoribose 1-diphosphate biosynthesis\n",
       "...              ...                                           ...\n",
       "13370  R-HSA-9703009              tamatinib-resistant FLT3 mutants\n",
       "13371  R-HSA-9702636             tandutinib-resistant FLT3 mutants\n",
       "13372   R-HSA-199992           trans-Golgi Network Vesicle Budding\n",
       "13373   R-HSA-192814                                vRNA Synthesis\n",
       "13374   R-HSA-192905                                 vRNP Assembly\n",
       "\n",
       "[2751 rows x 2 columns]"
      ]
     },
     "execution_count": 17,
     "metadata": {},
     "output_type": "execute_result"
    }
   ],
   "source": [
    "df_reactome = pd.read_csv('ReactomePathways.txt', sep='\\t', header=None, names=['reactome_id', 'Reactome_Name', 'species'])\n",
    "df_reactome = df_reactome[df_reactome['species'] == 'Homo sapiens']\n",
    "df_reactome = df_reactome.drop(columns=['species'])\n",
    "df_reactome"
   ]
  },
  {
   "cell_type": "markdown",
   "metadata": {},
   "source": [
    "### 2.2 KEGG"
   ]
  },
  {
   "cell_type": "code",
   "execution_count": 7,
   "metadata": {},
   "outputs": [
    {
     "name": "stderr",
     "output_type": "stream",
     "text": [
      "C:\\Users\\shunn\\AppData\\Local\\Temp\\ipykernel_24048\\3916893109.py:5: SettingWithCopyWarning: \n",
      "A value is trying to be set on a copy of a slice from a DataFrame.\n",
      "Try using .loc[row_indexer,col_indexer] = value instead\n",
      "\n",
      "See the caveats in the documentation: https://pandas.pydata.org/pandas-docs/stable/user_guide/indexing.html#returning-a-view-versus-a-copy\n",
      "  df_kegg_filter['Name'] = df_kegg_filter['Name'].str.split(' - ').str[0]\n",
      "C:\\Users\\shunn\\AppData\\Local\\Temp\\ipykernel_24048\\3916893109.py:6: SettingWithCopyWarning: \n",
      "A value is trying to be set on a copy of a slice from a DataFrame.\n",
      "Try using .loc[row_indexer,col_indexer] = value instead\n",
      "\n",
      "See the caveats in the documentation: https://pandas.pydata.org/pandas-docs/stable/user_guide/indexing.html#returning-a-view-versus-a-copy\n",
      "  df_kegg_filter['kegg_id'] = df_kegg_filter['kegg_id'].str.split(' ').str[0]\n"
     ]
    },
    {
     "data": {
      "application/vnd.microsoft.datawrangler.viewer.v0+json": {
       "columns": [
        {
         "name": "index",
         "rawType": "int64",
         "type": "integer"
        },
        {
         "name": "kegg_id",
         "rawType": "object",
         "type": "string"
        },
        {
         "name": "KEGG_Name",
         "rawType": "object",
         "type": "string"
        }
       ],
       "conversionMethod": "pd.DataFrame",
       "ref": "4e86f75e-4df7-48cf-8962-6471dc6c79d9",
       "rows": [
        [
         "0",
         "hsa01100",
         "Metabolic pathways"
        ],
        [
         "1",
         "hsa01200",
         "Carbon metabolism"
        ],
        [
         "2",
         "hsa01210",
         "2-Oxocarboxylic acid metabolism"
        ],
        [
         "3",
         "hsa01212",
         "Fatty acid metabolism"
        ],
        [
         "4",
         "hsa01230",
         "Biosynthesis of amino acids"
        ],
        [
         "5",
         "hsa01232",
         "Nucleotide metabolism"
        ],
        [
         "6",
         "hsa01250",
         "Biosynthesis of nucleotide sugars"
        ],
        [
         "7",
         "hsa01240",
         "Biosynthesis of cofactors"
        ],
        [
         "8",
         "hsa01320",
         "Sulfur cycle"
        ],
        [
         "9",
         "hsa00010",
         "Glycolysis / Gluconeogenesis"
        ],
        [
         "10",
         "hsa00020",
         "Citrate cycle (TCA cycle)"
        ],
        [
         "11",
         "hsa00030",
         "Pentose phosphate pathway"
        ],
        [
         "12",
         "hsa00040",
         "Pentose and glucuronate interconversions"
        ],
        [
         "13",
         "hsa00051",
         "Fructose and mannose metabolism"
        ],
        [
         "14",
         "hsa00052",
         "Galactose metabolism"
        ],
        [
         "15",
         "hsa00053",
         "Ascorbate and aldarate metabolism"
        ],
        [
         "16",
         "hsa00500",
         "Starch and sucrose metabolism"
        ],
        [
         "17",
         "hsa00620",
         "Pyruvate metabolism"
        ],
        [
         "18",
         "hsa00630",
         "Glyoxylate and dicarboxylate metabolism"
        ],
        [
         "19",
         "hsa00640",
         "Propanoate metabolism"
        ],
        [
         "20",
         "hsa00650",
         "Butanoate metabolism"
        ],
        [
         "21",
         "hsa00562",
         "Inositol phosphate metabolism"
        ],
        [
         "22",
         "hsa00190",
         "Oxidative phosphorylation"
        ],
        [
         "23",
         "hsa00910",
         "Nitrogen metabolism"
        ],
        [
         "24",
         "hsa00920",
         "Sulfur metabolism"
        ],
        [
         "25",
         "hsa00061",
         "Fatty acid biosynthesis"
        ],
        [
         "26",
         "hsa00062",
         "Fatty acid elongation"
        ],
        [
         "27",
         "hsa00071",
         "Fatty acid degradation"
        ],
        [
         "28",
         "hsa00100",
         "Steroid biosynthesis"
        ],
        [
         "29",
         "hsa00120",
         "Primary bile acid biosynthesis"
        ],
        [
         "30",
         "hsa00140",
         "Steroid hormone biosynthesis"
        ],
        [
         "31",
         "hsa00561",
         "Glycerolipid metabolism"
        ],
        [
         "32",
         "hsa00564",
         "Glycerophospholipid metabolism"
        ],
        [
         "33",
         "hsa00565",
         "Ether lipid metabolism"
        ],
        [
         "34",
         "hsa00600",
         "Sphingolipid metabolism"
        ],
        [
         "35",
         "hsa00590",
         "Arachidonic acid metabolism"
        ],
        [
         "36",
         "hsa00591",
         "Linoleic acid metabolism"
        ],
        [
         "37",
         "hsa00592",
         "alpha-Linolenic acid metabolism"
        ],
        [
         "38",
         "hsa01040",
         "Biosynthesis of unsaturated fatty acids"
        ],
        [
         "39",
         "hsa00230",
         "Purine metabolism"
        ],
        [
         "40",
         "hsa00240",
         "Pyrimidine metabolism"
        ],
        [
         "41",
         "hsa00250",
         "Alanine, aspartate and glutamate metabolism"
        ],
        [
         "42",
         "hsa00260",
         "Glycine, serine and threonine metabolism"
        ],
        [
         "43",
         "hsa00270",
         "Cysteine and methionine metabolism"
        ],
        [
         "44",
         "hsa00280",
         "Valine, leucine and isoleucine degradation"
        ],
        [
         "45",
         "hsa00290",
         "Valine, leucine and isoleucine biosynthesis"
        ],
        [
         "46",
         "hsa00310",
         "Lysine degradation"
        ],
        [
         "47",
         "hsa00220",
         "Arginine biosynthesis"
        ],
        [
         "48",
         "hsa00330",
         "Arginine and proline metabolism"
        ],
        [
         "49",
         "hsa00340",
         "Histidine metabolism"
        ]
       ],
       "shape": {
        "columns": 2,
        "rows": 365
       }
      },
      "text/html": [
       "<div>\n",
       "<style scoped>\n",
       "    .dataframe tbody tr th:only-of-type {\n",
       "        vertical-align: middle;\n",
       "    }\n",
       "\n",
       "    .dataframe tbody tr th {\n",
       "        vertical-align: top;\n",
       "    }\n",
       "\n",
       "    .dataframe thead th {\n",
       "        text-align: right;\n",
       "    }\n",
       "</style>\n",
       "<table border=\"1\" class=\"dataframe\">\n",
       "  <thead>\n",
       "    <tr style=\"text-align: right;\">\n",
       "      <th></th>\n",
       "      <th>kegg_id</th>\n",
       "      <th>KEGG_Name</th>\n",
       "    </tr>\n",
       "  </thead>\n",
       "  <tbody>\n",
       "    <tr>\n",
       "      <th>0</th>\n",
       "      <td>hsa01100</td>\n",
       "      <td>Metabolic pathways</td>\n",
       "    </tr>\n",
       "    <tr>\n",
       "      <th>1</th>\n",
       "      <td>hsa01200</td>\n",
       "      <td>Carbon metabolism</td>\n",
       "    </tr>\n",
       "    <tr>\n",
       "      <th>2</th>\n",
       "      <td>hsa01210</td>\n",
       "      <td>2-Oxocarboxylic acid metabolism</td>\n",
       "    </tr>\n",
       "    <tr>\n",
       "      <th>3</th>\n",
       "      <td>hsa01212</td>\n",
       "      <td>Fatty acid metabolism</td>\n",
       "    </tr>\n",
       "    <tr>\n",
       "      <th>4</th>\n",
       "      <td>hsa01230</td>\n",
       "      <td>Biosynthesis of amino acids</td>\n",
       "    </tr>\n",
       "    <tr>\n",
       "      <th>...</th>\n",
       "      <td>...</td>\n",
       "      <td>...</td>\n",
       "    </tr>\n",
       "    <tr>\n",
       "      <th>360</th>\n",
       "      <td>hsa04934</td>\n",
       "      <td>Cushing syndrome</td>\n",
       "    </tr>\n",
       "    <tr>\n",
       "      <th>361</th>\n",
       "      <td>hsa01521</td>\n",
       "      <td>EGFR tyrosine kinase inhibitor resistance</td>\n",
       "    </tr>\n",
       "    <tr>\n",
       "      <th>362</th>\n",
       "      <td>hsa01524</td>\n",
       "      <td>Platinum drug resistance</td>\n",
       "    </tr>\n",
       "    <tr>\n",
       "      <th>363</th>\n",
       "      <td>hsa01523</td>\n",
       "      <td>Antifolate resistance</td>\n",
       "    </tr>\n",
       "    <tr>\n",
       "      <th>364</th>\n",
       "      <td>hsa01522</td>\n",
       "      <td>Endocrine resistance</td>\n",
       "    </tr>\n",
       "  </tbody>\n",
       "</table>\n",
       "<p>365 rows × 2 columns</p>\n",
       "</div>"
      ],
      "text/plain": [
       "      kegg_id                                  KEGG_Name\n",
       "0    hsa01100                         Metabolic pathways\n",
       "1    hsa01200                          Carbon metabolism\n",
       "2    hsa01210            2-Oxocarboxylic acid metabolism\n",
       "3    hsa01212                      Fatty acid metabolism\n",
       "4    hsa01230                Biosynthesis of amino acids\n",
       "..        ...                                        ...\n",
       "360  hsa04934                           Cushing syndrome\n",
       "361  hsa01521  EGFR tyrosine kinase inhibitor resistance\n",
       "362  hsa01524                   Platinum drug resistance\n",
       "363  hsa01523                      Antifolate resistance\n",
       "364  hsa01522                       Endocrine resistance\n",
       "\n",
       "[365 rows x 2 columns]"
      ]
     },
     "execution_count": 7,
     "metadata": {},
     "output_type": "execute_result"
    }
   ],
   "source": [
    "df_kegg = pd.read_csv('full_kegg_pathways.csv')\n",
    "\n",
    "df_kegg_filter = df_kegg[['ENTRY', 'NAME']]\n",
    "df_kegg_filter.columns = ['kegg_id', 'Name']\n",
    "df_kegg_filter['Name'] = df_kegg_filter['Name'].str.split(' - ').str[0]\n",
    "df_kegg_filter['kegg_id'] = df_kegg_filter['kegg_id'].str.split(' ').str[0]\n",
    "df_kegg_filter = df_kegg_filter.rename(columns={'Name':'KEGG_Name'})\n",
    "df_kegg_filter"
   ]
  },
  {
   "cell_type": "markdown",
   "metadata": {},
   "source": [
    "### 2.3 WikiPathways"
   ]
  },
  {
   "cell_type": "code",
   "execution_count": 18,
   "metadata": {},
   "outputs": [
    {
     "data": {
      "application/vnd.microsoft.datawrangler.viewer.v0+json": {
       "columns": [
        {
         "name": "index",
         "rawType": "int64",
         "type": "integer"
        },
        {
         "name": "id",
         "rawType": "object",
         "type": "string"
        },
        {
         "name": "WikiPathways_Name",
         "rawType": "object",
         "type": "string"
        }
       ],
       "conversionMethod": "pd.DataFrame",
       "ref": "1f68e6f1-acf5-47aa-96f3-8250b28bfe7a",
       "rows": [
        [
         "0",
         "WP100",
         "Glutathione metabolism"
        ],
        [
         "1",
         "WP106",
         "Alanine and aspartate metabolism"
        ],
        [
         "2",
         "WP107",
         "Translation factors"
        ],
        [
         "3",
         "WP111",
         "Electron transport chain: OXPHOS system in mitochondria"
        ],
        [
         "4",
         "WP117",
         "GPCRs, other"
        ],
        [
         "5",
         "WP12",
         "Osteoclast signaling"
        ],
        [
         "6",
         "WP127",
         "IL5 signaling"
        ],
        [
         "7",
         "WP129",
         "Matrix metalloproteinases"
        ],
        [
         "8",
         "WP134",
         "Pentose phosphate metabolism"
        ],
        [
         "9",
         "WP136",
         "Phase I biotransformations, non-P450"
        ],
        [
         "10",
         "WP138",
         "Androgen receptor signaling"
        ],
        [
         "11",
         "WP1403",
         "AMP-activated protein kinase signaling"
        ],
        [
         "12",
         "WP1422",
         "Sphingolipid pathway"
        ],
        [
         "13",
         "WP1423",
         "Ganglio sphingolipid metabolism"
        ],
        [
         "14",
         "WP1424",
         "Globo sphingolipid metabolism"
        ],
        [
         "15",
         "WP1425",
         "Bone morphogenic protein signaling and regulation"
        ],
        [
         "16",
         "WP143",
         "Fatty acid beta-oxidation"
        ],
        [
         "17",
         "WP1433",
         "Nucleotide-binding oligomerization domain (NOD) pathway"
        ],
        [
         "18",
         "WP1434",
         "Osteopontin signaling"
        ],
        [
         "19",
         "WP1438",
         "Influenza A virus infection"
        ],
        [
         "20",
         "WP1449",
         "Regulation of toll-like receptor signaling"
        ],
        [
         "21",
         "WP1455",
         "Serotonin transporter activity"
        ],
        [
         "22",
         "WP1471",
         "Target of rapamycin signaling"
        ],
        [
         "23",
         "WP1495",
         "Glycine metabolism"
        ],
        [
         "24",
         "WP15",
         "Selenium micronutrient network"
        ],
        [
         "25",
         "WP1528",
         "Physiological and pathological hypertrophy of the heart"
        ],
        [
         "26",
         "WP1530",
         "miRNA regulation of DNA damage response"
        ],
        [
         "27",
         "WP1531",
         "Vitamin D metabolism"
        ],
        [
         "28",
         "WP1533",
         "Vitamin B12 metabolism"
        ],
        [
         "29",
         "WP1539",
         "Angiogenesis"
        ],
        [
         "30",
         "WP1541",
         "Energy metabolism"
        ],
        [
         "31",
         "WP1544",
         "MicroRNAs in cardiomyocyte hypertrophy"
        ],
        [
         "32",
         "WP1545",
         "miRNAs involved in DNA damage response"
        ],
        [
         "33",
         "WP1559",
         "Transcription factors regulate miRNAs related to cardiac hypertrophy"
        ],
        [
         "34",
         "WP1584",
         "Type II diabetes mellitus"
        ],
        [
         "35",
         "WP1589",
         "Folate-alcohol and cancer pathway hypotheses"
        ],
        [
         "36",
         "WP1591",
         "Heart development"
        ],
        [
         "37",
         "WP1600",
         "Nicotine metabolism in liver cells"
        ],
        [
         "38",
         "WP1601",
         "Fluoropyrimidine activity"
        ],
        [
         "39",
         "WP1602",
         "Nicotine effect on dopaminergic neurons"
        ],
        [
         "40",
         "WP1603",
         "Nicotine effect on chromaffin cells"
        ],
        [
         "41",
         "WP1604",
         "Codeine and morphine metabolism"
        ],
        [
         "42",
         "WP167",
         "Eicosanoid synthesis"
        ],
        [
         "43",
         "WP170",
         "Nuclear receptors"
        ],
        [
         "44",
         "WP1742",
         "TP53 network"
        ],
        [
         "45",
         "WP176",
         "Folate metabolism"
        ],
        [
         "46",
         "WP1772",
         "Apoptosis modulation and signaling"
        ],
        [
         "47",
         "WP1775",
         "Cell cycle checkpoints"
        ],
        [
         "48",
         "WP1780",
         "ABC-family proteins mediated transport"
        ],
        [
         "49",
         "WP1781",
         "Advanced glycosylation endproduct receptor signaling"
        ]
       ],
       "shape": {
        "columns": 2,
        "rows": 1534
       }
      },
      "text/html": [
       "<div>\n",
       "<style scoped>\n",
       "    .dataframe tbody tr th:only-of-type {\n",
       "        vertical-align: middle;\n",
       "    }\n",
       "\n",
       "    .dataframe tbody tr th {\n",
       "        vertical-align: top;\n",
       "    }\n",
       "\n",
       "    .dataframe thead th {\n",
       "        text-align: right;\n",
       "    }\n",
       "</style>\n",
       "<table border=\"1\" class=\"dataframe\">\n",
       "  <thead>\n",
       "    <tr style=\"text-align: right;\">\n",
       "      <th></th>\n",
       "      <th>id</th>\n",
       "      <th>WikiPathways_Name</th>\n",
       "    </tr>\n",
       "  </thead>\n",
       "  <tbody>\n",
       "    <tr>\n",
       "      <th>0</th>\n",
       "      <td>WP100</td>\n",
       "      <td>Glutathione metabolism</td>\n",
       "    </tr>\n",
       "    <tr>\n",
       "      <th>1</th>\n",
       "      <td>WP106</td>\n",
       "      <td>Alanine and aspartate metabolism</td>\n",
       "    </tr>\n",
       "    <tr>\n",
       "      <th>2</th>\n",
       "      <td>WP107</td>\n",
       "      <td>Translation factors</td>\n",
       "    </tr>\n",
       "    <tr>\n",
       "      <th>3</th>\n",
       "      <td>WP111</td>\n",
       "      <td>Electron transport chain: OXPHOS system in mit...</td>\n",
       "    </tr>\n",
       "    <tr>\n",
       "      <th>4</th>\n",
       "      <td>WP117</td>\n",
       "      <td>GPCRs, other</td>\n",
       "    </tr>\n",
       "    <tr>\n",
       "      <th>...</th>\n",
       "      <td>...</td>\n",
       "      <td>...</td>\n",
       "    </tr>\n",
       "    <tr>\n",
       "      <th>1529</th>\n",
       "      <td>WP734</td>\n",
       "      <td>Serotonin receptor 4/6/7 and NR3C signaling</td>\n",
       "    </tr>\n",
       "    <tr>\n",
       "      <th>1530</th>\n",
       "      <td>WP75</td>\n",
       "      <td>Toll-like receptor signaling</td>\n",
       "    </tr>\n",
       "    <tr>\n",
       "      <th>1531</th>\n",
       "      <td>WP78</td>\n",
       "      <td>TCA cycle (aka Krebs or citric acid cycle)</td>\n",
       "    </tr>\n",
       "    <tr>\n",
       "      <th>1532</th>\n",
       "      <td>WP80</td>\n",
       "      <td>Nucleotide GPCRs</td>\n",
       "    </tr>\n",
       "    <tr>\n",
       "      <th>1533</th>\n",
       "      <td>WP98</td>\n",
       "      <td>Prostaglandin synthesis and regulation</td>\n",
       "    </tr>\n",
       "  </tbody>\n",
       "</table>\n",
       "<p>1534 rows × 2 columns</p>\n",
       "</div>"
      ],
      "text/plain": [
       "         id                                  WikiPathways_Name\n",
       "0     WP100                             Glutathione metabolism\n",
       "1     WP106                   Alanine and aspartate metabolism\n",
       "2     WP107                                Translation factors\n",
       "3     WP111  Electron transport chain: OXPHOS system in mit...\n",
       "4     WP117                                       GPCRs, other\n",
       "...     ...                                                ...\n",
       "1529  WP734        Serotonin receptor 4/6/7 and NR3C signaling\n",
       "1530   WP75                       Toll-like receptor signaling\n",
       "1531   WP78         TCA cycle (aka Krebs or citric acid cycle)\n",
       "1532   WP80                                   Nucleotide GPCRs\n",
       "1533   WP98             Prostaglandin synthesis and regulation\n",
       "\n",
       "[1534 rows x 2 columns]"
      ]
     },
     "execution_count": 18,
     "metadata": {},
     "output_type": "execute_result"
    }
   ],
   "source": [
    "df_wikipathways = pd.read_csv('human_pathways.csv')\n",
    "\n",
    "df_wikipathways_filter = df_wikipathways.drop(columns=['revision','url'])\n",
    "df_wikipathways_filter = df_wikipathways_filter.rename(columns={'name':'WikiPathways_Name'})\n",
    "df_wikipathways_filter"
   ]
  },
  {
   "cell_type": "markdown",
   "metadata": {},
   "source": [
    "### 2.4 Pathway Ontology"
   ]
  },
  {
   "cell_type": "code",
   "execution_count": 8,
   "metadata": {},
   "outputs": [
    {
     "data": {
      "application/vnd.microsoft.datawrangler.viewer.v0+json": {
       "columns": [
        {
         "name": "index",
         "rawType": "int64",
         "type": "integer"
        },
        {
         "name": "id",
         "rawType": "object",
         "type": "string"
        },
        {
         "name": "PO_Name",
         "rawType": "object",
         "type": "string"
        },
        {
         "name": "def",
         "rawType": "object",
         "type": "unknown"
        }
       ],
       "conversionMethod": "pd.DataFrame",
       "ref": "42038852-ff88-4de3-ade7-1ca85add4677",
       "rows": [
        [
         "0",
         "PW:0000001",
         "pathway",
         "\"A pathway is a set of inter-connected  reactions and interactions whose delineation and scope are used as a model for exploring and studying, describing and understanding the working of and relationships between biomolecules within a context.\" []"
        ],
        [
         "1",
         "PW:0000002",
         "classic metabolic pathway",
         "\"The various, enzyme-controlled, series of reactions allowing for the conversion of materials, energy availability and biodegradation of xenobiotics.\" [GO:0008152, http://www.onelook.com/ \"OneLook\", Reactome:R-HSA-1430728]"
        ],
        [
         "2",
         "PW:0000003",
         "signaling pathway",
         "\"The pathways where a signal - hormone, neurotransmitter, growth factor, peptide, any molecule - triggers one or multiple cascades of events. This involves a number of molecules, including receptors, proteins, ligands, messengers, any participating molecule. A signaling pathway may be upstream or downstream of other signaling pathways. Signaling pathways control a very broad spectrum of processes as well as pathways.\" [GO:0007165, OneLook:www.onelook.com, Reactome:R-HSA-162582]"
        ],
        [
         "3",
         "PW:0000004",
         "regulatory pathway",
         "\"The pathways that control the processes by which a cell or organism develops, adjusts, behaves, responds to conditions or changes in these conditions, or in any manner helps promote and maintain its efficient functioning.\" [OneLook:www.onelook.com]"
        ],
        [
         "4",
         "PW:0000005",
         "carbohydrate metabolic pathway",
         "\"Those metabolic reactions and pathways involved in the oxidation, breakdown and synthesis of carbohydrates in the tissue. The breakdown can be utilized by the body for energy production. The converse synthesis is used for energy storage.\" [GO:0005975, OneLook:www.onelook.com, Reactome:R-HSA-71387]"
        ],
        [
         "5",
         "PW:0000006",
         "Ras superfamily mediated signaling pathway",
         "\"The Ras superfamily consists of a diverse group of small, monomeric G proteins that function as molecular switches alternating between the GDP-inactive and the GTP-active bound state. The GTP-bound form can interact with many downstream effectors. Ras superfamily controls a broad spectrum of processes; deregulation of Ras cascades has been linked to several forms of cancer. The superfamily is structurally classified in five families.\" [GO:0007265, PMID:11027944, PMID:11152757]"
        ],
        [
         "6",
         "PW:0000007",
         "mitogen activated protein kinase signaling pathway",
         "\"The mitogen-activated protein kinase pathway groups several serine/threonine protein kinase mediated cascades in response to a number of extracellular stimuli. A characteristic feature of these cascades is the presence of at least three kinases in series leading to the activation of a multifunctional MAP kinase.\" [GO:0000165, KEGG:map04010, PMID:14570565, PMID:14976517, PMID:17229475, PMID:17306385, Reactome:R-HSA-5683057]"
        ],
        [
         "7",
         "PW:0000008",
         "Wnt signaling pathway",
         "\"The secreted glycoproteins of the Wnt family regulate a wide spectrum of developmental processes and they are also playing important roles in the adult organism. Deregulation of Wnt cascades has oncogenic effects and is responsible for tumorigenesis in adults.\" [GO:0016055, KEGG:04310, PMID:12573432, PMID:15001769, PMID:15041171, Reactome:R-HSA-195721]"
        ],
        [
         "8",
         "PW:0000009",
         "apoptotic cell death pathway",
         "\"Apoptosis is a programmed cell death pathway that is characterized by particular morphological features such as membrane blebbing and DNA fragmentation. It can be intrinsic or extrinsic and involves the activation of caspases.\" [GO:0006915, KEGG:map04210, PMID:12196263, PMID:18414491, Reactome:R-HSA-109581]"
        ],
        [
         "9",
         "PW:0000010",
         "lipid metabolic pathway",
         "\"The metabolic reactions involved in the oxidation, utilization and/or synthesis of lipids in tissues.\" [GO:0006629, OneLook:www.onelook.com, Reactome:R-HSA-556833]"
        ],
        [
         "10",
         "PW:0000011",
         "amino acid metabolic pathway",
         "\"Those metabolic reactions involved in the synthesis, utilization and/or degradation of the primary or standard 20 amino acids found in proteins. Amino acids are described as non-essential or essential depending on whether humans can or can not synthesize them, respectively. Chemically, they are classified based on the polarity of their side chain or R group, as non-polar and hydrophobic and hydrophilic and charged or polar uncharged. Amino acid metabolic pathways are also listed with their KEGG entries.\" [GO:0006520, http://www.genome.jp/kegg/ \"KEGG\", MCW_library:Handbooks_of_Biochemistry]"
        ],
        [
         "11",
         "PW:0000012",
         "nucleotide metabolic pathway",
         "\"Those metabolic reactions involved in the synthesis, utilization and/or degradation of nucleotides. Nucleotides, which are the units of DNA and RNA, can also play important roles in cellular energy, enzyme regulation as well as serve as signaling molecules.\" [GO:0009117, PMID:20561600, PMID:21222015, Reactome:R-HSA-15869]"
        ],
        [
         "12",
         "PW:0000013",
         "disease pathway",
         "\"Complex human diseases encompass a spectrum of genetic and environmental attributes that together affect the normal functioning of several molecular and cellular pathways. Their combined and accumulated effect is manifested in the anomalous phenotype of the complex condition.\" [InHouse:InHouse_PW_dictionary, Reactome:R-HSA-1643685]"
        ],
        [
         "13",
         "PW:0000014",
         "neurodegenerative pathway",
         "\"Neurodegenerative diseases group together a number of conditions of various and many times poorly understood origins that are characterized by the progressive loss of particular neurons, the formation of particular structures such as plaques and fibrils, and protein aggregates. Proteosomal degradation, programmed cell death and oxidative stress are among a number of pathways thought to be disrupted.\" [inHouse:InHouse_PW_dictionary, Reactome:R-HSA-8863678]"
        ],
        [
         "14",
         "PW:0000015",
         "Alzheimer's disease pathway",
         "\"A mostly sporadic, late-onset condition affecting the central nervous system, that is the most prevalent neurodegenerative disease and the most common form of dementia. It is characterized by the presence of amyloid plaques and fibril tangles. Possible pathways affected range from protein mis-folding and aggregation, to oxidative stress and impaired metal homeostasis.\" [InHouse:InHouse_PW_dictionary, KEGG:map05010]"
        ],
        [
         "15",
         "PW:0000016",
         "amyotrophic lateral sclerosis pathway",
         "\"A late onset, mostly sporadic neurodegenerative disease characterized by the loss of motor neurons in the brain stem and spinal cord. Various pathways are thought to be deregulated and contribute to the condition; among them calcium and/or zinc homeostasis, apoptosis, Cdk5 and calcineurin dependent processes, and in the case of the more rare, genetically inherited form of the disease, mutations in the cytosolic Cu, Zn superoxide dismutase (SOD1) and the subsequent changes in the processes that involve SOD1.\" [InHouse:In_House_PW_dictionary, KEGG:map05014]"
        ],
        [
         "16",
         "PW:0000017",
         "Huntington's disease pathway",
         "\"An autosomal dominant neurodegenerative disease manifesting in movement, cognitive and psychiatric disorders caused by the abnormal expansion of a polyglutamine (polyQ) stretch in the Huntingtin (HTT) protein. It mostly affects the caudate-putamen striatal neurons. Other areas are also affected and undergo a size reduction. HTT is thought to be involved in several cellular pathways. Its functions are overcome by the mutant protein mHTT.\" [PMID:26938440]"
        ],
        [
         "17",
         "PW:0000018",
         "Parkinson's disease pathway",
         "\"One of the most common neurodegenerative diseases that is characterized by the loss of dopaminergic neurons in the substantia nigra and the presence of cytoplasmic inclusions called Lewy bodies in surrounding neurons. Several pathways are thought to be deregulated; for instance, imbalance of iron homeostasis is believed to contribute to the pathogenesis of the condition.\" [KEGG:map05012, PMID:18052765, PMID:19422283]"
        ],
        [
         "18",
         "PW:0000019",
         "prion disease pathway",
         "\"Prion disease - any of a group of fatal, transmissible neurodegenerative diseases caused by abnormalities of prion protein metabolism, which may result from mutations in the prion protein gene or from infection with pathogenic isoforms of the protein.  Characteristics include neuronal loss, gliosis, and extensive vacuolization of the cerebral cortex. Prion diseases may be sporadic, inherited as an autosomal dominant trait, or acquired. Human diseases include Creutzfeldt-Jakob disease, Gerstmann-Strussler syndrome, fatal familial insomnia, and kuru\" [KEGG:map05020, OneLook:www.onelook.com]"
        ],
        [
         "19",
         "PW:0000020",
         "cardiovascular system disease pathway",
         "\"Cardiovascular diseases represent a very broad spectrum of conditions that can also combine with diabetes and renal failure.\" [InHouse:InHouse_PW_dictionary]"
        ],
        [
         "20",
         "PW:0000021",
         "hypertension pathway",
         "\"Hypertension, high arterial blood pressure: various criteria for its threshold have been suggested, ranging from 140 mm Hg systolic and 90 mm Hg diastolic to as high as 200 mm Hg systolic and 110 mm Hg diastolic. Hypertension may have no known cause (essential or idiopathic h.) or be associated with other primary diseases (secondary h.).\" [OneLook:www.onelook.com]"
        ],
        [
         "21",
         "PW:0000022",
         "cardiomyopathy pathway",
         "\"Cardiomyopathy - a general diagnostic term designating primary noninflammatory disease of the heart muscle, often of obscure or unknown etiology and not the result of ischemic, hypertensive, congenital, valvular, or pericardial disease. It is usually subdivided into dilated, hypertrophic, and restrictive cardiomyopathy (1). Cardiomyopathy is the deterioration of the cardiac muscle of the heart wall.\" [OneLook:www.onelook.com]"
        ],
        [
         "22",
         "PW:0000023",
         "immune response pathway",
         "\"The Immune response pathways mediate the defense of host cells against infection and injury. The first line of defense is provided by the phylogenetically older innate immune response. The later, more versatile response is provided by the pathways of adaptive immunity: the B cell mediated humoral and the T cell mediated cellular or cell-mediated responses.\" [GO:0006955, MCW_library:Handbook_of_cellular_and_molecular_immunology, OneLook:www.onelook.com, Reactome:R-HSA-168256]"
        ],
        [
         "23",
         "PW:0000024",
         "inflammatory response pathway",
         "\"Inflammation is the cellular response of the innate immune system to infection or injury. Sensing of infection by pattern recognition receptors triggers signaling cascades leading to the expression of mediator genes such as the pro-inflammatory cytokines.\" [GO:0006954, MCW_library:Cellular_and_molecular_immunology\\,_by_Abbas\\,_Abul_K, OneLook:www.onelook.com, PMID:15364056, PMID:16226680, PMID:16281932, PMID:20303867, PMID:20303872]"
        ],
        [
         "24",
         "PW:0000025",
         "glycolysis/gluconeogenesis pathway",
         "\"Those metabolic reactions involved in the energy-yielding conversion of glucose to pyruvate or in the formation of glucose from non-carbohydrate precursors such as pyruvate, lactate, citric acid cycle intermediates, the carbon skeleton of many amino acids. While many enzymes are shared by the two pathways, a few steps are carried out by pathway-specific enzymes. The two pathways are independently regulated.\" [KEGG:map00010]"
        ],
        [
         "25",
         "PW:0000026",
         "citric acid cycle pathway",
         "\"The series of chemical reactions that are central to all aerobic cells and constitute the citric acid cycle. Also known as the tricarboxylic acid cycle (TCA) or Krebs cycle, it is the center of convergence for all molecular fuels.\" [GO:0006099, KEGG:map00020, OneLook:www.onelook.com, Reactome:R-HSA-71403, SMP:00057]"
        ],
        [
         "26",
         "PW:0000027",
         "glutamic acid/glutamate metabolic pathway",
         "\"Those metabolic reactions involved in the synthesis, utilization and/or degradation glutamic acid/glutamate. Glutamate is the major excitatory neurotransmitter.\" [OneLook:www.onelook.com]"
        ],
        [
         "27",
         "PW:0000028",
         "alanine, aspartate and glutamate metabolic pathway",
         "\"Those metabolic reactions involved in the synthesis, utilization and/or degradation of alanine, aspartate and glutamate.\" [OneLook:www.onelook.com]"
        ],
        [
         "28",
         "PW:0000029",
         "fatty acid biosynthetic pathway",
         "\"Acetyl-CoA, the starting material for fatty acid biosynthesis, can be derived from amino acid and lipid degradation or the oxidative decarboxylation of pyruvate. Fatty acid biosynthesis involves the condensation of C2 units; it requires seven enzymatic reactions which are carried out by the multifunctional enzyme fatty acid synthase.\" [GO:0006633, KEGG:00061, PMID:11248039, PMID:8001737, SMP:00456]"
        ],
        [
         "29",
         "PW:0000031",
         "purine metabolic pathway",
         "\"Those metabolic reactions involved in the synthesis, utilization and/or degradation of purines. Purines consist of a pyrimidine ring fused to an imidazole ring. The nucleobases adenine and guanine in DNA are purines.\" [GO:0006144, KEGG:00230, OneLook:www.onelook.com, SMP:00050]"
        ],
        [
         "30",
         "PW:0000032",
         "pyrimidine metabolic pathway",
         "\"Those metabolic reactions involved in the synthesis, utilization and/or degradation of pyrimidines. Cytosine, thymine and uracil - the nucleobases found in nucleic acids, are pyrimidine derivatives.\" [GO:0006206, KEGG:00240, OneLook:www.onelook.com, SMP:00046]"
        ],
        [
         "31",
         "PW:0000033",
         "energy metabolic pathway",
         "\"Those metabolic reactions and pathways whose role is to release or provide energy.\" [OneLook:www.onelook.com]"
        ],
        [
         "32",
         "PW:0000034",
         "electron transport chain pathway",
         "\"Those metabolic reactions whereby the electrons, derived from the oxidation of glucose and lipids or the degradation of amino acids, are passed to oxygen via a series of series of spatially separated complexes. The energy derived generates an electrochemical gradient that drives the synthesis of ATP. The coupling between the electron transport chain, also known as the respiratory chain, and the ATP biosynthetic pathway is known as oxidative phosphorylation. Under certain circumstances the two may be uncoupled.\" [GO:0022904, OneLook:www.onelook.com, PMID:19760284, PMID:21625217, Reactome:R-HSA-611105, SMP:00355]"
        ],
        [
         "33",
         "PW:0000035",
         "ATP biosynthetic pathway",
         "\"Those metabolic reactions involved in the synthesis of adenosine triphosphate (ATP). ATP synthesis is coupled to the electron transfer or respiratory chain pathway which generates an electrochemical gradient that drives the phosphorylation of ADP. The coupling of the two pathways is called oxidative phosphorylation. Under certain circumstances however, the two may be uncoupled.\" [GO:0006754, OneLook:www.onelook.com, PMID:19760284, PMID:21625217]"
        ],
        [
         "34",
         "PW:0000036",
         "nitrogen metabolic pathway",
         "\"Those metabolic reactions in the nitrogen cycle carried out by various microorganisms.\" [KEGG:map00910]"
        ],
        [
         "35",
         "PW:0000037",
         "sulfur metabolic pathway",
         "\"Those metabolic reactions involving sulfur - a component of methionine and cysteine amino acids and of co-enzymes and vitamins. It also serves as electron donor in anaerobic respiration. Microorganisms and plants can incorporate inorganic sulfate into bioinorganic compounds; higher organisms derive them from diet.\" [GO:0006790, http://en.wikipedia.org/wiki/Sulfur_metabolism \"Wikipedia\", KEGG:00920, KEGG:map00920, PMID:16143557]"
        ],
        [
         "36",
         "PW:0000038",
         "Sterol, vitamin K, vitamine E and cartenoids  biosynthesis",
         "\"OBSOLETE. Originally found at KEGG, the term has since been deleted.\" [PW_dictionary:InHouse_dictionary]"
        ],
        [
         "37",
         "PW:0000039",
         "bile acid biosynthetic pathway",
         "\"Those metabolic reactions involved in the biosynthesis of bile acids - any of the steroid carboxylic acids derived from cholesterol. Cholic and chenodeoxycholic acids are the primary bile acids and are formed in the liver. Secondary bile acids - deoxycholic and lithocholic - are formed from the primary bile acids through the action of intestinal bacteria. Bile acid also acts as a signal molecule via several nuclear receptors.\" [GO:0006699, KEGG:00120, OneLook:www.onelook.com, PMID:22414897, SMP:00035]"
        ],
        [
         "38",
         "PW:0000040",
         "steroid hormone biosynthetic pathway",
         "\"Those metabolic reactions involved in the synthesis of steroid hormones. All steroid hormones are derived from cholesterol. Steroid hormone metabolism is extremely complex and its molecular details are incompletely understood. De novo steroid biosynthesis is confined to very few tissues, primarily the adrenals, the gonads and the placenta.\" [GO:0120178, KEGG:00140, KEGG:map00140, OneLook:www.onelook.com, PMID:17926129, SMP:00130]"
        ],
        [
         "39",
         "PW:0000041",
         "fructose and mannose metabolic pathway",
         "\"Those metabolic reactions involved in the synthesis, utilization and/or degradation of fructose and mannose, as depicted in the KEGG diagram.\" [KEGG:map00051, OneLook:www.onelook.com]"
        ],
        [
         "40",
         "PW:0000042",
         "galactose metabolic pathway",
         "\"Those metabolic reactions involved in the synthesis, utilization and/or degradation of galactose - an aldohexose epimeric with glucose at the 4 carbon. Galactose is a component of lactose and other oligosaccharides, cerebrosides and gangliosides, and of various glycolipids and glycoproteins.\" [GO:0006012, KEGG:00052, KEGG:map00052, OneLook:www.onelook.com, SMP:00043]"
        ],
        [
         "41",
         "PW:0000043",
         "pyruvate metabolic pathway",
         "\"Those metabolic reactions involved in the synthesis, utilization and/or degradation of pyruvate - a salt, ester, or anionic form of pyruvic acid. Pyruvate, which is the end-product of glycolysis, can be converted to lactate under anaerobic conditions, can be further oxidized via the Krebs or citrate cycle or can be converted back to glucose via gluconeogenesis.\" [GO:0006090, KEGG:00620, KEGG:00620, OneLook:www.onelook.com, Reactome:R-HSA-70268, SMP:00060]"
        ],
        [
         "42",
         "PW:0000044",
         "Duplicated Glutamate Metabolism term",
         "\"OBSOLETE. Duplicated term. Use PW:0000027.\" [PW_dictionary:InHouse_dictionary]"
        ],
        [
         "43",
         "PW:0000045",
         "pentose phosphate pathway",
         "\"Those metabolic reactions involved in the generation of reducing equivalents and five carbon (pentose) sugars. The oxidative phase is irreversible; the non-oxidative is reversible.\" [GO:0006098, KEGG:map00030, OneLook:www.oneloook.com, Reactome:R-HSA-71336, SMP:00031]"
        ],
        [
         "44",
         "PW:0000046",
         "inositol metabolic pathway",
         "\"Those metabolic reactions involved in the synthesis, utilization and/or degradation of inositol, a cyclic sugar alcohol occurring in a number of stereoisomers of which myo-inositol is the most prominent form. myo-inositol provides a structural basis for compounds such as inositol phosphates and phosphatidylinositols, which are secondary messengers in several signaling pathways.\" [GO:0006020, OneLook:www.onelook.com, SMP:00011]"
        ],
        [
         "45",
         "PW:0000047",
         "glycine, serine and threonine metabolic pathway",
         "\"Those metabolic reactions involved in the synthesis of glycine, serine and threonine and which are intimately connected with serine being synthesized from glycine and threonine.\" [OneLook:www.onelook.com]"
        ],
        [
         "46",
         "PW:0000048",
         "methionine cycle/metabolic pathway",
         "\"Those metabolic reactions involved in the synthesis (remethylation), utilization and/or degradation of methionine, an essential amino acid for humans. The cycle produces S-adenosylmethionine (AdoMet),  the major methyl donor for proteins, nucleic acids, lipids and other small molecules. The cycle also produces homocysteine (Hcy) which either regenerates methionine via the  remethylation pathway or leads to the synthesis of cysteine and derivatives via the transsulfuration pathway. Homocysteine and folate metabolic pathways are intimately related to the methionine cycle.\" [MCW_library_book:Homocysteine_in_Health_and_Disease]"
        ],
        [
         "47",
         "PW:0000049",
         "cysteine metabolic pathway",
         "\"Those metabolic reactions involved in the synthesis, utilization and/or degradation of cysteine, a non-essential amino acid that could be essential in certain cases. Its side chain contains a sulfhydryl group that is readily oxidized to form the cystine dimer covalently linked by a disulfide bond.\" [GO:0006534, OneLook:www.onelook.com, SMP:00013]"
        ],
        [
         "48",
         "PW:0000050",
         "arginine and proline metabolic pathway",
         "\"Those metabolic reactions involved in the synthesis, utilization and/or degradation of arginine - an essential amino acid - and proline - an amino acid that can play important roles in protein secondary structure.\" [OneLook:www.onelook.com]"
        ],
        [
         "49",
         "PW:0000051",
         "histidine metabolic pathway",
         "\"Those metabolic reactions involved in the synthesis, utilization and/or degradation of histidine, an essential amino acid which can act as either a proton donor or a proton acceptor. While the synthesis and degradation pathways of histidine are present in microorganisms, histidine can be acted upon by eukaryotic enzymes. Histidine is the precursor of histamine, is involved in immune responses and also acts as a neurotransmitter.\" [GO:0006547, KEGG:00340, OneLook:www.onelook.com, SMP:00044]"
        ]
       ],
       "shape": {
        "columns": 3,
        "rows": 2677
       }
      },
      "text/html": [
       "<div>\n",
       "<style scoped>\n",
       "    .dataframe tbody tr th:only-of-type {\n",
       "        vertical-align: middle;\n",
       "    }\n",
       "\n",
       "    .dataframe tbody tr th {\n",
       "        vertical-align: top;\n",
       "    }\n",
       "\n",
       "    .dataframe thead th {\n",
       "        text-align: right;\n",
       "    }\n",
       "</style>\n",
       "<table border=\"1\" class=\"dataframe\">\n",
       "  <thead>\n",
       "    <tr style=\"text-align: right;\">\n",
       "      <th></th>\n",
       "      <th>id</th>\n",
       "      <th>PO_Name</th>\n",
       "      <th>def</th>\n",
       "    </tr>\n",
       "  </thead>\n",
       "  <tbody>\n",
       "    <tr>\n",
       "      <th>0</th>\n",
       "      <td>PW:0000001</td>\n",
       "      <td>pathway</td>\n",
       "      <td>\"A pathway is a set of inter-connected  reacti...</td>\n",
       "    </tr>\n",
       "    <tr>\n",
       "      <th>1</th>\n",
       "      <td>PW:0000002</td>\n",
       "      <td>classic metabolic pathway</td>\n",
       "      <td>\"The various, enzyme-controlled, series of rea...</td>\n",
       "    </tr>\n",
       "    <tr>\n",
       "      <th>2</th>\n",
       "      <td>PW:0000003</td>\n",
       "      <td>signaling pathway</td>\n",
       "      <td>\"The pathways where a signal - hormone, neurot...</td>\n",
       "    </tr>\n",
       "    <tr>\n",
       "      <th>3</th>\n",
       "      <td>PW:0000004</td>\n",
       "      <td>regulatory pathway</td>\n",
       "      <td>\"The pathways that control the processes by wh...</td>\n",
       "    </tr>\n",
       "    <tr>\n",
       "      <th>4</th>\n",
       "      <td>PW:0000005</td>\n",
       "      <td>carbohydrate metabolic pathway</td>\n",
       "      <td>\"Those metabolic reactions and pathways involv...</td>\n",
       "    </tr>\n",
       "    <tr>\n",
       "      <th>...</th>\n",
       "      <td>...</td>\n",
       "      <td>...</td>\n",
       "      <td>...</td>\n",
       "    </tr>\n",
       "    <tr>\n",
       "      <th>2672</th>\n",
       "      <td>PW:0002680</td>\n",
       "      <td>NADPH regeneration pathway</td>\n",
       "      <td>\"Those metabolic reactions involved in the gen...</td>\n",
       "    </tr>\n",
       "    <tr>\n",
       "      <th>2673</th>\n",
       "      <td>PW:0002681</td>\n",
       "      <td>very long-chain fatty acid beta degradation pa...</td>\n",
       "      <td>\"Fatty acid degradation via beta oxidation, ac...</td>\n",
       "    </tr>\n",
       "    <tr>\n",
       "      <th>2674</th>\n",
       "      <td>PW:0002682</td>\n",
       "      <td>muscle contraction pathway</td>\n",
       "      <td>\"A pathway in which force is generated within ...</td>\n",
       "    </tr>\n",
       "    <tr>\n",
       "      <th>2675</th>\n",
       "      <td>PW:0002683</td>\n",
       "      <td>striated muscle contraction pathway</td>\n",
       "      <td>\"A pathway in which force is generated within ...</td>\n",
       "    </tr>\n",
       "    <tr>\n",
       "      <th>2676</th>\n",
       "      <td>PW:0002684</td>\n",
       "      <td>smooth muscle contraction pathway</td>\n",
       "      <td>\"A pathway in which force is generated within ...</td>\n",
       "    </tr>\n",
       "  </tbody>\n",
       "</table>\n",
       "<p>2677 rows × 3 columns</p>\n",
       "</div>"
      ],
      "text/plain": [
       "              id                                            PO_Name  \\\n",
       "0     PW:0000001                                            pathway   \n",
       "1     PW:0000002                          classic metabolic pathway   \n",
       "2     PW:0000003                                  signaling pathway   \n",
       "3     PW:0000004                                 regulatory pathway   \n",
       "4     PW:0000005                     carbohydrate metabolic pathway   \n",
       "...          ...                                                ...   \n",
       "2672  PW:0002680                         NADPH regeneration pathway   \n",
       "2673  PW:0002681  very long-chain fatty acid beta degradation pa...   \n",
       "2674  PW:0002682                         muscle contraction pathway   \n",
       "2675  PW:0002683                striated muscle contraction pathway   \n",
       "2676  PW:0002684                  smooth muscle contraction pathway   \n",
       "\n",
       "                                                    def  \n",
       "0     \"A pathway is a set of inter-connected  reacti...  \n",
       "1     \"The various, enzyme-controlled, series of rea...  \n",
       "2     \"The pathways where a signal - hormone, neurot...  \n",
       "3     \"The pathways that control the processes by wh...  \n",
       "4     \"Those metabolic reactions and pathways involv...  \n",
       "...                                                 ...  \n",
       "2672  \"Those metabolic reactions involved in the gen...  \n",
       "2673  \"Fatty acid degradation via beta oxidation, ac...  \n",
       "2674  \"A pathway in which force is generated within ...  \n",
       "2675  \"A pathway in which force is generated within ...  \n",
       "2676  \"A pathway in which force is generated within ...  \n",
       "\n",
       "[2677 rows x 3 columns]"
      ]
     },
     "execution_count": 8,
     "metadata": {},
     "output_type": "execute_result"
    }
   ],
   "source": [
    "# https://download.rgd.mcw.edu/ontology/pathway/pathway.obo \n",
    "# Define the file path\n",
    "file_path = 'pathway.obo'\n",
    "\n",
    "# Read the file\n",
    "with open(file_path, 'r') as file:\n",
    "    content = file.readlines()\n",
    "\n",
    "# Initialize a list to store term dictionaries\n",
    "terms = []\n",
    "\n",
    "# Initialize a dictionary to store current term attributes\n",
    "current_term = {}\n",
    "\n",
    "# Iterate through each line in the file to extract term attributes\n",
    "for line in content:\n",
    "    line = line.strip()\n",
    "    if line == \"[Term]\":\n",
    "        # If we encounter a new term, save the previous term\n",
    "        if current_term:\n",
    "            terms.append(current_term)\n",
    "            current_term = {}\n",
    "    elif line:\n",
    "        key_value = line.split(\": \", 1)\n",
    "        if len(key_value) == 2:\n",
    "            key, value = key_value\n",
    "            current_term[key] = value\n",
    "\n",
    "# Append the last term\n",
    "if current_term:\n",
    "    terms.append(current_term)\n",
    "\n",
    "# Convert the list of dictionaries to a DataFrame\n",
    "df_po = pd.DataFrame(terms)\n",
    "df_po = df_po.drop(columns=['format-version', 'data-version', 'date', 'saved-by', 'auto-generated-by', 'default-namespace', 'ontology'])\n",
    "df_po.reset_index().drop('index', axis=1)\n",
    "df_po = df_po.drop(0)\n",
    "df_po = df_po.drop(1)\n",
    "df_po = df_po.drop(df_po.index[-1])\n",
    "\n",
    "df_po_filter = df_po[['id', 'name', 'def']]\n",
    "df_po_filter = df_po_filter.reset_index().drop('index', axis=1)\n",
    "df_po_filter = df_po_filter.rename(columns={'name':'PO_Name'})\n",
    "df_po_filter"
   ]
  },
  {
   "cell_type": "code",
   "execution_count": 9,
   "metadata": {},
   "outputs": [
    {
     "data": {
      "application/vnd.microsoft.datawrangler.viewer.v0+json": {
       "columns": [
        {
         "name": "index",
         "rawType": "int64",
         "type": "integer"
        },
        {
         "name": "id",
         "rawType": "object",
         "type": "string"
        },
        {
         "name": "PO_Name",
         "rawType": "object",
         "type": "string"
        },
        {
         "name": "def",
         "rawType": "object",
         "type": "string"
        },
        {
         "name": "xref",
         "rawType": "object",
         "type": "unknown"
        }
       ],
       "conversionMethod": "pd.DataFrame",
       "ref": "606a824b-d312-41bc-8ad1-db09289e1dc9",
       "rows": [
        [
         "0",
         "PW:0000001",
         "pathway",
         "A pathway is a set of inter-connected  reactions and interactions whose delineation and scope are used as a model for exploring and studying, describing and understanding the working of and relationships between biomolecules within a context. ",
         ""
        ],
        [
         "1",
         "PW:0000002",
         "classic metabolic pathway",
         "The various, enzyme-controlled, series of reactions allowing for the conversion of materials, energy availability and biodegradation of xenobiotics. ",
         "GO:0008152, http://www.onelook.com/ \"OneLook\", Reactome:R-HSA-1430728"
        ],
        [
         "2",
         "PW:0000003",
         "signaling pathway",
         "The pathways where a signal - hormone, neurotransmitter, growth factor, peptide, any molecule - triggers one or multiple cascades of events. This involves a number of molecules, including receptors, proteins, ligands, messengers, any participating molecule. A signaling pathway may be upstream or downstream of other signaling pathways. Signaling pathways control a very broad spectrum of processes as well as pathways. ",
         "GO:0007165, OneLook:www.onelook.com, Reactome:R-HSA-162582"
        ],
        [
         "3",
         "PW:0000004",
         "regulatory pathway",
         "The pathways that control the processes by which a cell or organism develops, adjusts, behaves, responds to conditions or changes in these conditions, or in any manner helps promote and maintain its efficient functioning. ",
         "OneLook:www.onelook.com"
        ],
        [
         "4",
         "PW:0000005",
         "carbohydrate metabolic pathway",
         "Those metabolic reactions and pathways involved in the oxidation, breakdown and synthesis of carbohydrates in the tissue. The breakdown can be utilized by the body for energy production. The converse synthesis is used for energy storage. ",
         "GO:0005975, OneLook:www.onelook.com, Reactome:R-HSA-71387"
        ],
        [
         "5",
         "PW:0000006",
         "Ras superfamily mediated signaling pathway",
         "The Ras superfamily consists of a diverse group of small, monomeric G proteins that function as molecular switches alternating between the GDP-inactive and the GTP-active bound state. The GTP-bound form can interact with many downstream effectors. Ras superfamily controls a broad spectrum of processes; deregulation of Ras cascades has been linked to several forms of cancer. The superfamily is structurally classified in five families. ",
         "GO:0007265, PMID:11027944, PMID:11152757"
        ],
        [
         "6",
         "PW:0000007",
         "mitogen activated protein kinase signaling pathway",
         "The mitogen-activated protein kinase pathway groups several serine/threonine protein kinase mediated cascades in response to a number of extracellular stimuli. A characteristic feature of these cascades is the presence of at least three kinases in series leading to the activation of a multifunctional MAP kinase. ",
         "GO:0000165, KEGG:map04010, PMID:14570565, PMID:14976517, PMID:17229475, PMID:17306385, Reactome:R-HSA-5683057"
        ],
        [
         "7",
         "PW:0000008",
         "Wnt signaling pathway",
         "The secreted glycoproteins of the Wnt family regulate a wide spectrum of developmental processes and they are also playing important roles in the adult organism. Deregulation of Wnt cascades has oncogenic effects and is responsible for tumorigenesis in adults. ",
         "GO:0016055, KEGG:04310, PMID:12573432, PMID:15001769, PMID:15041171, Reactome:R-HSA-195721"
        ],
        [
         "8",
         "PW:0000009",
         "apoptotic cell death pathway",
         "Apoptosis is a programmed cell death pathway that is characterized by particular morphological features such as membrane blebbing and DNA fragmentation. It can be intrinsic or extrinsic and involves the activation of caspases. ",
         "GO:0006915, KEGG:map04210, PMID:12196263, PMID:18414491, Reactome:R-HSA-109581"
        ],
        [
         "9",
         "PW:0000010",
         "lipid metabolic pathway",
         "The metabolic reactions involved in the oxidation, utilization and/or synthesis of lipids in tissues. ",
         "GO:0006629, OneLook:www.onelook.com, Reactome:R-HSA-556833"
        ],
        [
         "10",
         "PW:0000011",
         "amino acid metabolic pathway",
         "Those metabolic reactions involved in the synthesis, utilization and/or degradation of the primary or standard 20 amino acids found in proteins. Amino acids are described as non-essential or essential depending on whether humans can or can not synthesize them, respectively. Chemically, they are classified based on the polarity of their side chain or R group, as non-polar and hydrophobic and hydrophilic and charged or polar uncharged. Amino acid metabolic pathways are also listed with their KEGG entries. ",
         "GO:0006520, http://www.genome.jp/kegg/ \"KEGG\", MCW_library:Handbooks_of_Biochemistry"
        ],
        [
         "11",
         "PW:0000012",
         "nucleotide metabolic pathway",
         "Those metabolic reactions involved in the synthesis, utilization and/or degradation of nucleotides. Nucleotides, which are the units of DNA and RNA, can also play important roles in cellular energy, enzyme regulation as well as serve as signaling molecules. ",
         "GO:0009117, PMID:20561600, PMID:21222015, Reactome:R-HSA-15869"
        ],
        [
         "12",
         "PW:0000013",
         "disease pathway",
         "Complex human diseases encompass a spectrum of genetic and environmental attributes that together affect the normal functioning of several molecular and cellular pathways. Their combined and accumulated effect is manifested in the anomalous phenotype of the complex condition. ",
         "InHouse:InHouse_PW_dictionary, Reactome:R-HSA-1643685"
        ],
        [
         "13",
         "PW:0000014",
         "neurodegenerative pathway",
         "Neurodegenerative diseases group together a number of conditions of various and many times poorly understood origins that are characterized by the progressive loss of particular neurons, the formation of particular structures such as plaques and fibrils, and protein aggregates. Proteosomal degradation, programmed cell death and oxidative stress are among a number of pathways thought to be disrupted. ",
         "inHouse:InHouse_PW_dictionary, Reactome:R-HSA-8863678"
        ],
        [
         "14",
         "PW:0000015",
         "Alzheimer's disease pathway",
         "A mostly sporadic, late-onset condition affecting the central nervous system, that is the most prevalent neurodegenerative disease and the most common form of dementia. It is characterized by the presence of amyloid plaques and fibril tangles. Possible pathways affected range from protein mis-folding and aggregation, to oxidative stress and impaired metal homeostasis. ",
         "InHouse:InHouse_PW_dictionary, KEGG:map05010"
        ],
        [
         "15",
         "PW:0000016",
         "amyotrophic lateral sclerosis pathway",
         "A late onset, mostly sporadic neurodegenerative disease characterized by the loss of motor neurons in the brain stem and spinal cord. Various pathways are thought to be deregulated and contribute to the condition; among them calcium and/or zinc homeostasis, apoptosis, Cdk5 and calcineurin dependent processes, and in the case of the more rare, genetically inherited form of the disease, mutations in the cytosolic Cu, Zn superoxide dismutase (SOD1) and the subsequent changes in the processes that involve SOD1. ",
         "InHouse:In_House_PW_dictionary, KEGG:map05014"
        ],
        [
         "16",
         "PW:0000017",
         "Huntington's disease pathway",
         "An autosomal dominant neurodegenerative disease manifesting in movement, cognitive and psychiatric disorders caused by the abnormal expansion of a polyglutamine (polyQ) stretch in the Huntingtin (HTT) protein. It mostly affects the caudate-putamen striatal neurons. Other areas are also affected and undergo a size reduction. HTT is thought to be involved in several cellular pathways. Its functions are overcome by the mutant protein mHTT. ",
         "PMID:26938440"
        ],
        [
         "17",
         "PW:0000018",
         "Parkinson's disease pathway",
         "One of the most common neurodegenerative diseases that is characterized by the loss of dopaminergic neurons in the substantia nigra and the presence of cytoplasmic inclusions called Lewy bodies in surrounding neurons. Several pathways are thought to be deregulated; for instance, imbalance of iron homeostasis is believed to contribute to the pathogenesis of the condition. ",
         "KEGG:map05012, PMID:18052765, PMID:19422283"
        ],
        [
         "18",
         "PW:0000019",
         "prion disease pathway",
         "Prion disease - any of a group of fatal, transmissible neurodegenerative diseases caused by abnormalities of prion protein metabolism, which may result from mutations in the prion protein gene or from infection with pathogenic isoforms of the protein.  Characteristics include neuronal loss, gliosis, and extensive vacuolization of the cerebral cortex. Prion diseases may be sporadic, inherited as an autosomal dominant trait, or acquired. Human diseases include Creutzfeldt-Jakob disease, Gerstmann-Strussler syndrome, fatal familial insomnia, and kuru ",
         "KEGG:map05020, OneLook:www.onelook.com"
        ],
        [
         "19",
         "PW:0000020",
         "cardiovascular system disease pathway",
         "Cardiovascular diseases represent a very broad spectrum of conditions that can also combine with diabetes and renal failure. ",
         "InHouse:InHouse_PW_dictionary"
        ],
        [
         "20",
         "PW:0000021",
         "hypertension pathway",
         "Hypertension, high arterial blood pressure: various criteria for its threshold have been suggested, ranging from 140 mm Hg systolic and 90 mm Hg diastolic to as high as 200 mm Hg systolic and 110 mm Hg diastolic. Hypertension may have no known cause (essential or idiopathic h.) or be associated with other primary diseases (secondary h.). ",
         "OneLook:www.onelook.com"
        ],
        [
         "21",
         "PW:0000022",
         "cardiomyopathy pathway",
         "Cardiomyopathy - a general diagnostic term designating primary noninflammatory disease of the heart muscle, often of obscure or unknown etiology and not the result of ischemic, hypertensive, congenital, valvular, or pericardial disease. It is usually subdivided into dilated, hypertrophic, and restrictive cardiomyopathy (1). Cardiomyopathy is the deterioration of the cardiac muscle of the heart wall. ",
         "OneLook:www.onelook.com"
        ],
        [
         "22",
         "PW:0000023",
         "immune response pathway",
         "The Immune response pathways mediate the defense of host cells against infection and injury. The first line of defense is provided by the phylogenetically older innate immune response. The later, more versatile response is provided by the pathways of adaptive immunity: the B cell mediated humoral and the T cell mediated cellular or cell-mediated responses. ",
         "GO:0006955, MCW_library:Handbook_of_cellular_and_molecular_immunology, OneLook:www.onelook.com, Reactome:R-HSA-168256"
        ],
        [
         "23",
         "PW:0000024",
         "inflammatory response pathway",
         "Inflammation is the cellular response of the innate immune system to infection or injury. Sensing of infection by pattern recognition receptors triggers signaling cascades leading to the expression of mediator genes such as the pro-inflammatory cytokines. ",
         "GO:0006954, MCW_library:Cellular_and_molecular_immunology\\,_by_Abbas\\,_Abul_K, OneLook:www.onelook.com, PMID:15364056, PMID:16226680, PMID:16281932, PMID:20303867, PMID:20303872"
        ],
        [
         "24",
         "PW:0000025",
         "glycolysis/gluconeogenesis pathway",
         "Those metabolic reactions involved in the energy-yielding conversion of glucose to pyruvate or in the formation of glucose from non-carbohydrate precursors such as pyruvate, lactate, citric acid cycle intermediates, the carbon skeleton of many amino acids. While many enzymes are shared by the two pathways, a few steps are carried out by pathway-specific enzymes. The two pathways are independently regulated. ",
         "KEGG:map00010"
        ],
        [
         "25",
         "PW:0000026",
         "citric acid cycle pathway",
         "The series of chemical reactions that are central to all aerobic cells and constitute the citric acid cycle. Also known as the tricarboxylic acid cycle (TCA) or Krebs cycle, it is the center of convergence for all molecular fuels. ",
         "GO:0006099, KEGG:map00020, OneLook:www.onelook.com, Reactome:R-HSA-71403, SMP:00057"
        ],
        [
         "26",
         "PW:0000027",
         "glutamic acid/glutamate metabolic pathway",
         "Those metabolic reactions involved in the synthesis, utilization and/or degradation glutamic acid/glutamate. Glutamate is the major excitatory neurotransmitter. ",
         "OneLook:www.onelook.com"
        ],
        [
         "27",
         "PW:0000028",
         "alanine, aspartate and glutamate metabolic pathway",
         "Those metabolic reactions involved in the synthesis, utilization and/or degradation of alanine, aspartate and glutamate. ",
         "OneLook:www.onelook.com"
        ],
        [
         "28",
         "PW:0000029",
         "fatty acid biosynthetic pathway",
         "Acetyl-CoA, the starting material for fatty acid biosynthesis, can be derived from amino acid and lipid degradation or the oxidative decarboxylation of pyruvate. Fatty acid biosynthesis involves the condensation of C2 units; it requires seven enzymatic reactions which are carried out by the multifunctional enzyme fatty acid synthase. ",
         "GO:0006633, KEGG:00061, PMID:11248039, PMID:8001737, SMP:00456"
        ],
        [
         "29",
         "PW:0000031",
         "purine metabolic pathway",
         "Those metabolic reactions involved in the synthesis, utilization and/or degradation of purines. Purines consist of a pyrimidine ring fused to an imidazole ring. The nucleobases adenine and guanine in DNA are purines. ",
         "GO:0006144, KEGG:00230, OneLook:www.onelook.com, SMP:00050"
        ],
        [
         "30",
         "PW:0000032",
         "pyrimidine metabolic pathway",
         "Those metabolic reactions involved in the synthesis, utilization and/or degradation of pyrimidines. Cytosine, thymine and uracil - the nucleobases found in nucleic acids, are pyrimidine derivatives. ",
         "GO:0006206, KEGG:00240, OneLook:www.onelook.com, SMP:00046"
        ],
        [
         "31",
         "PW:0000033",
         "energy metabolic pathway",
         "Those metabolic reactions and pathways whose role is to release or provide energy. ",
         "OneLook:www.onelook.com"
        ],
        [
         "32",
         "PW:0000034",
         "electron transport chain pathway",
         "Those metabolic reactions whereby the electrons, derived from the oxidation of glucose and lipids or the degradation of amino acids, are passed to oxygen via a series of series of spatially separated complexes. The energy derived generates an electrochemical gradient that drives the synthesis of ATP. The coupling between the electron transport chain, also known as the respiratory chain, and the ATP biosynthetic pathway is known as oxidative phosphorylation. Under certain circumstances the two may be uncoupled. ",
         "GO:0022904, OneLook:www.onelook.com, PMID:19760284, PMID:21625217, Reactome:R-HSA-611105, SMP:00355"
        ],
        [
         "33",
         "PW:0000035",
         "ATP biosynthetic pathway",
         "Those metabolic reactions involved in the synthesis of adenosine triphosphate (ATP). ATP synthesis is coupled to the electron transfer or respiratory chain pathway which generates an electrochemical gradient that drives the phosphorylation of ADP. The coupling of the two pathways is called oxidative phosphorylation. Under certain circumstances however, the two may be uncoupled. ",
         "GO:0006754, OneLook:www.onelook.com, PMID:19760284, PMID:21625217"
        ],
        [
         "34",
         "PW:0000036",
         "nitrogen metabolic pathway",
         "Those metabolic reactions in the nitrogen cycle carried out by various microorganisms. ",
         "KEGG:map00910"
        ],
        [
         "35",
         "PW:0000037",
         "sulfur metabolic pathway",
         "Those metabolic reactions involving sulfur - a component of methionine and cysteine amino acids and of co-enzymes and vitamins. It also serves as electron donor in anaerobic respiration. Microorganisms and plants can incorporate inorganic sulfate into bioinorganic compounds; higher organisms derive them from diet. ",
         "GO:0006790, http://en.wikipedia.org/wiki/Sulfur_metabolism \"Wikipedia\", KEGG:00920, KEGG:map00920, PMID:16143557"
        ],
        [
         "36",
         "PW:0000038",
         "Sterol, vitamin K, vitamine E and cartenoids  biosynthesis",
         "OBSOLETE. Originally found at KEGG, the term has since been deleted. ",
         "PW_dictionary:InHouse_dictionary"
        ],
        [
         "37",
         "PW:0000039",
         "bile acid biosynthetic pathway",
         "Those metabolic reactions involved in the biosynthesis of bile acids - any of the steroid carboxylic acids derived from cholesterol. Cholic and chenodeoxycholic acids are the primary bile acids and are formed in the liver. Secondary bile acids - deoxycholic and lithocholic - are formed from the primary bile acids through the action of intestinal bacteria. Bile acid also acts as a signal molecule via several nuclear receptors. ",
         "GO:0006699, KEGG:00120, OneLook:www.onelook.com, PMID:22414897, SMP:00035"
        ],
        [
         "38",
         "PW:0000040",
         "steroid hormone biosynthetic pathway",
         "Those metabolic reactions involved in the synthesis of steroid hormones. All steroid hormones are derived from cholesterol. Steroid hormone metabolism is extremely complex and its molecular details are incompletely understood. De novo steroid biosynthesis is confined to very few tissues, primarily the adrenals, the gonads and the placenta. ",
         "GO:0120178, KEGG:00140, KEGG:map00140, OneLook:www.onelook.com, PMID:17926129, SMP:00130"
        ],
        [
         "39",
         "PW:0000041",
         "fructose and mannose metabolic pathway",
         "Those metabolic reactions involved in the synthesis, utilization and/or degradation of fructose and mannose, as depicted in the KEGG diagram. ",
         "KEGG:map00051, OneLook:www.onelook.com"
        ],
        [
         "40",
         "PW:0000042",
         "galactose metabolic pathway",
         "Those metabolic reactions involved in the synthesis, utilization and/or degradation of galactose - an aldohexose epimeric with glucose at the 4 carbon. Galactose is a component of lactose and other oligosaccharides, cerebrosides and gangliosides, and of various glycolipids and glycoproteins. ",
         "GO:0006012, KEGG:00052, KEGG:map00052, OneLook:www.onelook.com, SMP:00043"
        ],
        [
         "41",
         "PW:0000043",
         "pyruvate metabolic pathway",
         "Those metabolic reactions involved in the synthesis, utilization and/or degradation of pyruvate - a salt, ester, or anionic form of pyruvic acid. Pyruvate, which is the end-product of glycolysis, can be converted to lactate under anaerobic conditions, can be further oxidized via the Krebs or citrate cycle or can be converted back to glucose via gluconeogenesis. ",
         "GO:0006090, KEGG:00620, KEGG:00620, OneLook:www.onelook.com, Reactome:R-HSA-70268, SMP:00060"
        ],
        [
         "42",
         "PW:0000044",
         "Duplicated Glutamate Metabolism term",
         "OBSOLETE. Duplicated term. Use PW:0000027. ",
         "PW_dictionary:InHouse_dictionary"
        ],
        [
         "43",
         "PW:0000045",
         "pentose phosphate pathway",
         "Those metabolic reactions involved in the generation of reducing equivalents and five carbon (pentose) sugars. The oxidative phase is irreversible; the non-oxidative is reversible. ",
         "GO:0006098, KEGG:map00030, OneLook:www.oneloook.com, Reactome:R-HSA-71336, SMP:00031"
        ],
        [
         "44",
         "PW:0000046",
         "inositol metabolic pathway",
         "Those metabolic reactions involved in the synthesis, utilization and/or degradation of inositol, a cyclic sugar alcohol occurring in a number of stereoisomers of which myo-inositol is the most prominent form. myo-inositol provides a structural basis for compounds such as inositol phosphates and phosphatidylinositols, which are secondary messengers in several signaling pathways. ",
         "GO:0006020, OneLook:www.onelook.com, SMP:00011"
        ],
        [
         "45",
         "PW:0000047",
         "glycine, serine and threonine metabolic pathway",
         "Those metabolic reactions involved in the synthesis of glycine, serine and threonine and which are intimately connected with serine being synthesized from glycine and threonine. ",
         "OneLook:www.onelook.com"
        ],
        [
         "46",
         "PW:0000048",
         "methionine cycle/metabolic pathway",
         "Those metabolic reactions involved in the synthesis (remethylation), utilization and/or degradation of methionine, an essential amino acid for humans. The cycle produces S-adenosylmethionine (AdoMet),  the major methyl donor for proteins, nucleic acids, lipids and other small molecules. The cycle also produces homocysteine (Hcy) which either regenerates methionine via the  remethylation pathway or leads to the synthesis of cysteine and derivatives via the transsulfuration pathway. Homocysteine and folate metabolic pathways are intimately related to the methionine cycle. ",
         "MCW_library_book:Homocysteine_in_Health_and_Disease"
        ],
        [
         "47",
         "PW:0000049",
         "cysteine metabolic pathway",
         "Those metabolic reactions involved in the synthesis, utilization and/or degradation of cysteine, a non-essential amino acid that could be essential in certain cases. Its side chain contains a sulfhydryl group that is readily oxidized to form the cystine dimer covalently linked by a disulfide bond. ",
         "GO:0006534, OneLook:www.onelook.com, SMP:00013"
        ],
        [
         "48",
         "PW:0000050",
         "arginine and proline metabolic pathway",
         "Those metabolic reactions involved in the synthesis, utilization and/or degradation of arginine - an essential amino acid - and proline - an amino acid that can play important roles in protein secondary structure. ",
         "OneLook:www.onelook.com"
        ],
        [
         "49",
         "PW:0000051",
         "histidine metabolic pathway",
         "Those metabolic reactions involved in the synthesis, utilization and/or degradation of histidine, an essential amino acid which can act as either a proton donor or a proton acceptor. While the synthesis and degradation pathways of histidine are present in microorganisms, histidine can be acted upon by eukaryotic enzymes. Histidine is the precursor of histamine, is involved in immune responses and also acts as a neurotransmitter. ",
         "GO:0006547, KEGG:00340, OneLook:www.onelook.com, SMP:00044"
        ]
       ],
       "shape": {
        "columns": 4,
        "rows": 2677
       }
      },
      "text/html": [
       "<div>\n",
       "<style scoped>\n",
       "    .dataframe tbody tr th:only-of-type {\n",
       "        vertical-align: middle;\n",
       "    }\n",
       "\n",
       "    .dataframe tbody tr th {\n",
       "        vertical-align: top;\n",
       "    }\n",
       "\n",
       "    .dataframe thead th {\n",
       "        text-align: right;\n",
       "    }\n",
       "</style>\n",
       "<table border=\"1\" class=\"dataframe\">\n",
       "  <thead>\n",
       "    <tr style=\"text-align: right;\">\n",
       "      <th></th>\n",
       "      <th>id</th>\n",
       "      <th>PO_Name</th>\n",
       "      <th>def</th>\n",
       "      <th>xref</th>\n",
       "    </tr>\n",
       "  </thead>\n",
       "  <tbody>\n",
       "    <tr>\n",
       "      <th>0</th>\n",
       "      <td>PW:0000001</td>\n",
       "      <td>pathway</td>\n",
       "      <td>A pathway is a set of inter-connected  reactio...</td>\n",
       "      <td></td>\n",
       "    </tr>\n",
       "    <tr>\n",
       "      <th>1</th>\n",
       "      <td>PW:0000002</td>\n",
       "      <td>classic metabolic pathway</td>\n",
       "      <td>The various, enzyme-controlled, series of reac...</td>\n",
       "      <td>GO:0008152, http://www.onelook.com/ \"OneLook\",...</td>\n",
       "    </tr>\n",
       "    <tr>\n",
       "      <th>2</th>\n",
       "      <td>PW:0000003</td>\n",
       "      <td>signaling pathway</td>\n",
       "      <td>The pathways where a signal - hormone, neurotr...</td>\n",
       "      <td>GO:0007165, OneLook:www.onelook.com, Reactome:...</td>\n",
       "    </tr>\n",
       "    <tr>\n",
       "      <th>3</th>\n",
       "      <td>PW:0000004</td>\n",
       "      <td>regulatory pathway</td>\n",
       "      <td>The pathways that control the processes by whi...</td>\n",
       "      <td>OneLook:www.onelook.com</td>\n",
       "    </tr>\n",
       "    <tr>\n",
       "      <th>4</th>\n",
       "      <td>PW:0000005</td>\n",
       "      <td>carbohydrate metabolic pathway</td>\n",
       "      <td>Those metabolic reactions and pathways involve...</td>\n",
       "      <td>GO:0005975, OneLook:www.onelook.com, Reactome:...</td>\n",
       "    </tr>\n",
       "    <tr>\n",
       "      <th>...</th>\n",
       "      <td>...</td>\n",
       "      <td>...</td>\n",
       "      <td>...</td>\n",
       "      <td>...</td>\n",
       "    </tr>\n",
       "    <tr>\n",
       "      <th>2672</th>\n",
       "      <td>PW:0002680</td>\n",
       "      <td>NADPH regeneration pathway</td>\n",
       "      <td>Those metabolic reactions involved in the gene...</td>\n",
       "      <td>GO:0006740, Reactome:R-HSA-389542</td>\n",
       "    </tr>\n",
       "    <tr>\n",
       "      <th>2673</th>\n",
       "      <td>PW:0002681</td>\n",
       "      <td>very long-chain fatty acid beta degradation pa...</td>\n",
       "      <td>Fatty acid degradation via beta oxidation, act...</td>\n",
       "      <td>GO:0140493, Reactome:R-HSA-390247</td>\n",
       "    </tr>\n",
       "    <tr>\n",
       "      <th>2674</th>\n",
       "      <td>PW:0002682</td>\n",
       "      <td>muscle contraction pathway</td>\n",
       "      <td>A pathway in which force is generated within m...</td>\n",
       "      <td>GO:0006936, Reactome:R-HSA-397014</td>\n",
       "    </tr>\n",
       "    <tr>\n",
       "      <th>2675</th>\n",
       "      <td>PW:0002683</td>\n",
       "      <td>striated muscle contraction pathway</td>\n",
       "      <td>A pathway in which force is generated within s...</td>\n",
       "      <td>GO:0006941, Reactome:R-HSA-390522</td>\n",
       "    </tr>\n",
       "    <tr>\n",
       "      <th>2676</th>\n",
       "      <td>PW:0002684</td>\n",
       "      <td>smooth muscle contraction pathway</td>\n",
       "      <td>A pathway in which force is generated within s...</td>\n",
       "      <td>GO:0006939, Reactome:R-HSA-445355</td>\n",
       "    </tr>\n",
       "  </tbody>\n",
       "</table>\n",
       "<p>2677 rows × 4 columns</p>\n",
       "</div>"
      ],
      "text/plain": [
       "              id                                            PO_Name  \\\n",
       "0     PW:0000001                                            pathway   \n",
       "1     PW:0000002                          classic metabolic pathway   \n",
       "2     PW:0000003                                  signaling pathway   \n",
       "3     PW:0000004                                 regulatory pathway   \n",
       "4     PW:0000005                     carbohydrate metabolic pathway   \n",
       "...          ...                                                ...   \n",
       "2672  PW:0002680                         NADPH regeneration pathway   \n",
       "2673  PW:0002681  very long-chain fatty acid beta degradation pa...   \n",
       "2674  PW:0002682                         muscle contraction pathway   \n",
       "2675  PW:0002683                striated muscle contraction pathway   \n",
       "2676  PW:0002684                  smooth muscle contraction pathway   \n",
       "\n",
       "                                                    def  \\\n",
       "0     A pathway is a set of inter-connected  reactio...   \n",
       "1     The various, enzyme-controlled, series of reac...   \n",
       "2     The pathways where a signal - hormone, neurotr...   \n",
       "3     The pathways that control the processes by whi...   \n",
       "4     Those metabolic reactions and pathways involve...   \n",
       "...                                                 ...   \n",
       "2672  Those metabolic reactions involved in the gene...   \n",
       "2673  Fatty acid degradation via beta oxidation, act...   \n",
       "2674  A pathway in which force is generated within m...   \n",
       "2675  A pathway in which force is generated within s...   \n",
       "2676  A pathway in which force is generated within s...   \n",
       "\n",
       "                                                   xref  \n",
       "0                                                        \n",
       "1     GO:0008152, http://www.onelook.com/ \"OneLook\",...  \n",
       "2     GO:0007165, OneLook:www.onelook.com, Reactome:...  \n",
       "3                               OneLook:www.onelook.com  \n",
       "4     GO:0005975, OneLook:www.onelook.com, Reactome:...  \n",
       "...                                                 ...  \n",
       "2672                  GO:0006740, Reactome:R-HSA-389542  \n",
       "2673                  GO:0140493, Reactome:R-HSA-390247  \n",
       "2674                  GO:0006936, Reactome:R-HSA-397014  \n",
       "2675                  GO:0006941, Reactome:R-HSA-390522  \n",
       "2676                  GO:0006939, Reactome:R-HSA-445355  \n",
       "\n",
       "[2677 rows x 4 columns]"
      ]
     },
     "execution_count": 9,
     "metadata": {},
     "output_type": "execute_result"
    }
   ],
   "source": [
    "import re\n",
    "# Convert NaNs to empty strings for processing\n",
    "df_po_filter['def'] = df_po_filter['def'].fillna('')\n",
    "\n",
    "# Function to extract text within square brackets\n",
    "def extract_square_brackets(text):\n",
    "    match = re.search(r'\\[(.*?)\\]', text)\n",
    "    if match:\n",
    "        return match.group(1)\n",
    "    return None\n",
    "\n",
    "df_po_xref = df_po_filter.copy()\n",
    "# Apply the function to create a new column 'brackets_content'\n",
    "df_po_xref['xref'] = df_po_xref['def'].apply(extract_square_brackets)\n",
    "# Remove the square brackets content from the 'def' column\n",
    "df_po_xref['def'] = df_po_xref['def'].apply(lambda x: re.sub(r'\\[.*?\\]', '', x))\n",
    "# Remove leading and trailing quotes from the 'def' column\n",
    "df_po_xref['def'] = df_po_xref['def'].str.replace('\"', '')\n",
    "\n",
    "df_po_xref"
   ]
  },
  {
   "cell_type": "code",
   "execution_count": 10,
   "metadata": {},
   "outputs": [
    {
     "data": {
      "application/vnd.microsoft.datawrangler.viewer.v0+json": {
       "columns": [
        {
         "name": "index",
         "rawType": "int64",
         "type": "integer"
        },
        {
         "name": "id",
         "rawType": "object",
         "type": "string"
        },
        {
         "name": "PO_Name",
         "rawType": "object",
         "type": "string"
        },
        {
         "name": "def",
         "rawType": "object",
         "type": "string"
        },
        {
         "name": "xref",
         "rawType": "object",
         "type": "string"
        }
       ],
       "conversionMethod": "pd.DataFrame",
       "ref": "3ecb2af8-390a-4d10-9349-f02695e3cbcb",
       "rows": [
        [
         "0",
         "PW:0000001",
         "pathway",
         "A pathway is a set of inter-connected  reactions and interactions whose delineation and scope are used as a model for exploring and studying, describing and understanding the working of and relationships between biomolecules within a context. ",
         ""
        ],
        [
         "1",
         "PW:0000002",
         "classic metabolic pathway",
         "The various, enzyme-controlled, series of reactions allowing for the conversion of materials, energy availability and biodegradation of xenobiotics. ",
         "Reactome:R-HSA-1430728"
        ],
        [
         "2",
         "PW:0000003",
         "signaling pathway",
         "The pathways where a signal - hormone, neurotransmitter, growth factor, peptide, any molecule - triggers one or multiple cascades of events. This involves a number of molecules, including receptors, proteins, ligands, messengers, any participating molecule. A signaling pathway may be upstream or downstream of other signaling pathways. Signaling pathways control a very broad spectrum of processes as well as pathways. ",
         "Reactome:R-HSA-162582"
        ],
        [
         "3",
         "PW:0000004",
         "regulatory pathway",
         "The pathways that control the processes by which a cell or organism develops, adjusts, behaves, responds to conditions or changes in these conditions, or in any manner helps promote and maintain its efficient functioning. ",
         ""
        ],
        [
         "4",
         "PW:0000005",
         "carbohydrate metabolic pathway",
         "Those metabolic reactions and pathways involved in the oxidation, breakdown and synthesis of carbohydrates in the tissue. The breakdown can be utilized by the body for energy production. The converse synthesis is used for energy storage. ",
         "Reactome:R-HSA-71387"
        ],
        [
         "5",
         "PW:0000006",
         "Ras superfamily mediated signaling pathway",
         "The Ras superfamily consists of a diverse group of small, monomeric G proteins that function as molecular switches alternating between the GDP-inactive and the GTP-active bound state. The GTP-bound form can interact with many downstream effectors. Ras superfamily controls a broad spectrum of processes; deregulation of Ras cascades has been linked to several forms of cancer. The superfamily is structurally classified in five families. ",
         ""
        ],
        [
         "6",
         "PW:0000007",
         "mitogen activated protein kinase signaling pathway",
         "The mitogen-activated protein kinase pathway groups several serine/threonine protein kinase mediated cascades in response to a number of extracellular stimuli. A characteristic feature of these cascades is the presence of at least three kinases in series leading to the activation of a multifunctional MAP kinase. ",
         "KEGG:map04010, Reactome:R-HSA-5683057"
        ],
        [
         "7",
         "PW:0000008",
         "Wnt signaling pathway",
         "The secreted glycoproteins of the Wnt family regulate a wide spectrum of developmental processes and they are also playing important roles in the adult organism. Deregulation of Wnt cascades has oncogenic effects and is responsible for tumorigenesis in adults. ",
         "KEGG:04310, Reactome:R-HSA-195721"
        ],
        [
         "8",
         "PW:0000009",
         "apoptotic cell death pathway",
         "Apoptosis is a programmed cell death pathway that is characterized by particular morphological features such as membrane blebbing and DNA fragmentation. It can be intrinsic or extrinsic and involves the activation of caspases. ",
         "KEGG:map04210, Reactome:R-HSA-109581"
        ],
        [
         "9",
         "PW:0000010",
         "lipid metabolic pathway",
         "The metabolic reactions involved in the oxidation, utilization and/or synthesis of lipids in tissues. ",
         "Reactome:R-HSA-556833"
        ],
        [
         "10",
         "PW:0000011",
         "amino acid metabolic pathway",
         "Those metabolic reactions involved in the synthesis, utilization and/or degradation of the primary or standard 20 amino acids found in proteins. Amino acids are described as non-essential or essential depending on whether humans can or can not synthesize them, respectively. Chemically, they are classified based on the polarity of their side chain or R group, as non-polar and hydrophobic and hydrophilic and charged or polar uncharged. Amino acid metabolic pathways are also listed with their KEGG entries. ",
         "http://www.genome.jp/kegg/ \"KEGG\""
        ],
        [
         "11",
         "PW:0000012",
         "nucleotide metabolic pathway",
         "Those metabolic reactions involved in the synthesis, utilization and/or degradation of nucleotides. Nucleotides, which are the units of DNA and RNA, can also play important roles in cellular energy, enzyme regulation as well as serve as signaling molecules. ",
         "Reactome:R-HSA-15869"
        ],
        [
         "12",
         "PW:0000013",
         "disease pathway",
         "Complex human diseases encompass a spectrum of genetic and environmental attributes that together affect the normal functioning of several molecular and cellular pathways. Their combined and accumulated effect is manifested in the anomalous phenotype of the complex condition. ",
         "Reactome:R-HSA-1643685"
        ],
        [
         "13",
         "PW:0000014",
         "neurodegenerative pathway",
         "Neurodegenerative diseases group together a number of conditions of various and many times poorly understood origins that are characterized by the progressive loss of particular neurons, the formation of particular structures such as plaques and fibrils, and protein aggregates. Proteosomal degradation, programmed cell death and oxidative stress are among a number of pathways thought to be disrupted. ",
         "Reactome:R-HSA-8863678"
        ],
        [
         "14",
         "PW:0000015",
         "Alzheimer's disease pathway",
         "A mostly sporadic, late-onset condition affecting the central nervous system, that is the most prevalent neurodegenerative disease and the most common form of dementia. It is characterized by the presence of amyloid plaques and fibril tangles. Possible pathways affected range from protein mis-folding and aggregation, to oxidative stress and impaired metal homeostasis. ",
         "KEGG:map05010"
        ],
        [
         "15",
         "PW:0000016",
         "amyotrophic lateral sclerosis pathway",
         "A late onset, mostly sporadic neurodegenerative disease characterized by the loss of motor neurons in the brain stem and spinal cord. Various pathways are thought to be deregulated and contribute to the condition; among them calcium and/or zinc homeostasis, apoptosis, Cdk5 and calcineurin dependent processes, and in the case of the more rare, genetically inherited form of the disease, mutations in the cytosolic Cu, Zn superoxide dismutase (SOD1) and the subsequent changes in the processes that involve SOD1. ",
         "KEGG:map05014"
        ],
        [
         "16",
         "PW:0000017",
         "Huntington's disease pathway",
         "An autosomal dominant neurodegenerative disease manifesting in movement, cognitive and psychiatric disorders caused by the abnormal expansion of a polyglutamine (polyQ) stretch in the Huntingtin (HTT) protein. It mostly affects the caudate-putamen striatal neurons. Other areas are also affected and undergo a size reduction. HTT is thought to be involved in several cellular pathways. Its functions are overcome by the mutant protein mHTT. ",
         ""
        ],
        [
         "17",
         "PW:0000018",
         "Parkinson's disease pathway",
         "One of the most common neurodegenerative diseases that is characterized by the loss of dopaminergic neurons in the substantia nigra and the presence of cytoplasmic inclusions called Lewy bodies in surrounding neurons. Several pathways are thought to be deregulated; for instance, imbalance of iron homeostasis is believed to contribute to the pathogenesis of the condition. ",
         "KEGG:map05012"
        ],
        [
         "18",
         "PW:0000019",
         "prion disease pathway",
         "Prion disease - any of a group of fatal, transmissible neurodegenerative diseases caused by abnormalities of prion protein metabolism, which may result from mutations in the prion protein gene or from infection with pathogenic isoforms of the protein.  Characteristics include neuronal loss, gliosis, and extensive vacuolization of the cerebral cortex. Prion diseases may be sporadic, inherited as an autosomal dominant trait, or acquired. Human diseases include Creutzfeldt-Jakob disease, Gerstmann-Strussler syndrome, fatal familial insomnia, and kuru ",
         "KEGG:map05020"
        ],
        [
         "19",
         "PW:0000020",
         "cardiovascular system disease pathway",
         "Cardiovascular diseases represent a very broad spectrum of conditions that can also combine with diabetes and renal failure. ",
         ""
        ],
        [
         "20",
         "PW:0000021",
         "hypertension pathway",
         "Hypertension, high arterial blood pressure: various criteria for its threshold have been suggested, ranging from 140 mm Hg systolic and 90 mm Hg diastolic to as high as 200 mm Hg systolic and 110 mm Hg diastolic. Hypertension may have no known cause (essential or idiopathic h.) or be associated with other primary diseases (secondary h.). ",
         ""
        ],
        [
         "21",
         "PW:0000022",
         "cardiomyopathy pathway",
         "Cardiomyopathy - a general diagnostic term designating primary noninflammatory disease of the heart muscle, often of obscure or unknown etiology and not the result of ischemic, hypertensive, congenital, valvular, or pericardial disease. It is usually subdivided into dilated, hypertrophic, and restrictive cardiomyopathy (1). Cardiomyopathy is the deterioration of the cardiac muscle of the heart wall. ",
         ""
        ],
        [
         "22",
         "PW:0000023",
         "immune response pathway",
         "The Immune response pathways mediate the defense of host cells against infection and injury. The first line of defense is provided by the phylogenetically older innate immune response. The later, more versatile response is provided by the pathways of adaptive immunity: the B cell mediated humoral and the T cell mediated cellular or cell-mediated responses. ",
         "Reactome:R-HSA-168256"
        ],
        [
         "23",
         "PW:0000024",
         "inflammatory response pathway",
         "Inflammation is the cellular response of the innate immune system to infection or injury. Sensing of infection by pattern recognition receptors triggers signaling cascades leading to the expression of mediator genes such as the pro-inflammatory cytokines. ",
         ""
        ],
        [
         "24",
         "PW:0000025",
         "glycolysis/gluconeogenesis pathway",
         "Those metabolic reactions involved in the energy-yielding conversion of glucose to pyruvate or in the formation of glucose from non-carbohydrate precursors such as pyruvate, lactate, citric acid cycle intermediates, the carbon skeleton of many amino acids. While many enzymes are shared by the two pathways, a few steps are carried out by pathway-specific enzymes. The two pathways are independently regulated. ",
         "KEGG:map00010"
        ],
        [
         "25",
         "PW:0000026",
         "citric acid cycle pathway",
         "The series of chemical reactions that are central to all aerobic cells and constitute the citric acid cycle. Also known as the tricarboxylic acid cycle (TCA) or Krebs cycle, it is the center of convergence for all molecular fuels. ",
         "KEGG:map00020, Reactome:R-HSA-71403"
        ],
        [
         "26",
         "PW:0000027",
         "glutamic acid/glutamate metabolic pathway",
         "Those metabolic reactions involved in the synthesis, utilization and/or degradation glutamic acid/glutamate. Glutamate is the major excitatory neurotransmitter. ",
         ""
        ],
        [
         "27",
         "PW:0000028",
         "alanine, aspartate and glutamate metabolic pathway",
         "Those metabolic reactions involved in the synthesis, utilization and/or degradation of alanine, aspartate and glutamate. ",
         ""
        ],
        [
         "28",
         "PW:0000029",
         "fatty acid biosynthetic pathway",
         "Acetyl-CoA, the starting material for fatty acid biosynthesis, can be derived from amino acid and lipid degradation or the oxidative decarboxylation of pyruvate. Fatty acid biosynthesis involves the condensation of C2 units; it requires seven enzymatic reactions which are carried out by the multifunctional enzyme fatty acid synthase. ",
         "KEGG:00061"
        ],
        [
         "29",
         "PW:0000031",
         "purine metabolic pathway",
         "Those metabolic reactions involved in the synthesis, utilization and/or degradation of purines. Purines consist of a pyrimidine ring fused to an imidazole ring. The nucleobases adenine and guanine in DNA are purines. ",
         "KEGG:00230"
        ],
        [
         "30",
         "PW:0000032",
         "pyrimidine metabolic pathway",
         "Those metabolic reactions involved in the synthesis, utilization and/or degradation of pyrimidines. Cytosine, thymine and uracil - the nucleobases found in nucleic acids, are pyrimidine derivatives. ",
         "KEGG:00240"
        ],
        [
         "31",
         "PW:0000033",
         "energy metabolic pathway",
         "Those metabolic reactions and pathways whose role is to release or provide energy. ",
         ""
        ],
        [
         "32",
         "PW:0000034",
         "electron transport chain pathway",
         "Those metabolic reactions whereby the electrons, derived from the oxidation of glucose and lipids or the degradation of amino acids, are passed to oxygen via a series of series of spatially separated complexes. The energy derived generates an electrochemical gradient that drives the synthesis of ATP. The coupling between the electron transport chain, also known as the respiratory chain, and the ATP biosynthetic pathway is known as oxidative phosphorylation. Under certain circumstances the two may be uncoupled. ",
         "Reactome:R-HSA-611105"
        ],
        [
         "33",
         "PW:0000035",
         "ATP biosynthetic pathway",
         "Those metabolic reactions involved in the synthesis of adenosine triphosphate (ATP). ATP synthesis is coupled to the electron transfer or respiratory chain pathway which generates an electrochemical gradient that drives the phosphorylation of ADP. The coupling of the two pathways is called oxidative phosphorylation. Under certain circumstances however, the two may be uncoupled. ",
         ""
        ],
        [
         "34",
         "PW:0000036",
         "nitrogen metabolic pathway",
         "Those metabolic reactions in the nitrogen cycle carried out by various microorganisms. ",
         "KEGG:map00910"
        ],
        [
         "35",
         "PW:0000037",
         "sulfur metabolic pathway",
         "Those metabolic reactions involving sulfur - a component of methionine and cysteine amino acids and of co-enzymes and vitamins. It also serves as electron donor in anaerobic respiration. Microorganisms and plants can incorporate inorganic sulfate into bioinorganic compounds; higher organisms derive them from diet. ",
         "KEGG:00920, KEGG:map00920"
        ],
        [
         "36",
         "PW:0000038",
         "Sterol, vitamin K, vitamine E and cartenoids  biosynthesis",
         "OBSOLETE. Originally found at KEGG, the term has since been deleted. ",
         ""
        ],
        [
         "37",
         "PW:0000039",
         "bile acid biosynthetic pathway",
         "Those metabolic reactions involved in the biosynthesis of bile acids - any of the steroid carboxylic acids derived from cholesterol. Cholic and chenodeoxycholic acids are the primary bile acids and are formed in the liver. Secondary bile acids - deoxycholic and lithocholic - are formed from the primary bile acids through the action of intestinal bacteria. Bile acid also acts as a signal molecule via several nuclear receptors. ",
         "KEGG:00120"
        ],
        [
         "38",
         "PW:0000040",
         "steroid hormone biosynthetic pathway",
         "Those metabolic reactions involved in the synthesis of steroid hormones. All steroid hormones are derived from cholesterol. Steroid hormone metabolism is extremely complex and its molecular details are incompletely understood. De novo steroid biosynthesis is confined to very few tissues, primarily the adrenals, the gonads and the placenta. ",
         "KEGG:00140, KEGG:map00140"
        ],
        [
         "39",
         "PW:0000041",
         "fructose and mannose metabolic pathway",
         "Those metabolic reactions involved in the synthesis, utilization and/or degradation of fructose and mannose, as depicted in the KEGG diagram. ",
         "KEGG:map00051"
        ],
        [
         "40",
         "PW:0000042",
         "galactose metabolic pathway",
         "Those metabolic reactions involved in the synthesis, utilization and/or degradation of galactose - an aldohexose epimeric with glucose at the 4 carbon. Galactose is a component of lactose and other oligosaccharides, cerebrosides and gangliosides, and of various glycolipids and glycoproteins. ",
         "KEGG:00052, KEGG:map00052"
        ],
        [
         "41",
         "PW:0000043",
         "pyruvate metabolic pathway",
         "Those metabolic reactions involved in the synthesis, utilization and/or degradation of pyruvate - a salt, ester, or anionic form of pyruvic acid. Pyruvate, which is the end-product of glycolysis, can be converted to lactate under anaerobic conditions, can be further oxidized via the Krebs or citrate cycle or can be converted back to glucose via gluconeogenesis. ",
         "KEGG:00620, KEGG:00620, Reactome:R-HSA-70268"
        ],
        [
         "42",
         "PW:0000044",
         "Duplicated Glutamate Metabolism term",
         "OBSOLETE. Duplicated term. Use PW:0000027. ",
         ""
        ],
        [
         "43",
         "PW:0000045",
         "pentose phosphate pathway",
         "Those metabolic reactions involved in the generation of reducing equivalents and five carbon (pentose) sugars. The oxidative phase is irreversible; the non-oxidative is reversible. ",
         "KEGG:map00030, Reactome:R-HSA-71336"
        ],
        [
         "44",
         "PW:0000046",
         "inositol metabolic pathway",
         "Those metabolic reactions involved in the synthesis, utilization and/or degradation of inositol, a cyclic sugar alcohol occurring in a number of stereoisomers of which myo-inositol is the most prominent form. myo-inositol provides a structural basis for compounds such as inositol phosphates and phosphatidylinositols, which are secondary messengers in several signaling pathways. ",
         ""
        ],
        [
         "45",
         "PW:0000047",
         "glycine, serine and threonine metabolic pathway",
         "Those metabolic reactions involved in the synthesis of glycine, serine and threonine and which are intimately connected with serine being synthesized from glycine and threonine. ",
         ""
        ],
        [
         "46",
         "PW:0000048",
         "methionine cycle/metabolic pathway",
         "Those metabolic reactions involved in the synthesis (remethylation), utilization and/or degradation of methionine, an essential amino acid for humans. The cycle produces S-adenosylmethionine (AdoMet),  the major methyl donor for proteins, nucleic acids, lipids and other small molecules. The cycle also produces homocysteine (Hcy) which either regenerates methionine via the  remethylation pathway or leads to the synthesis of cysteine and derivatives via the transsulfuration pathway. Homocysteine and folate metabolic pathways are intimately related to the methionine cycle. ",
         ""
        ],
        [
         "47",
         "PW:0000049",
         "cysteine metabolic pathway",
         "Those metabolic reactions involved in the synthesis, utilization and/or degradation of cysteine, a non-essential amino acid that could be essential in certain cases. Its side chain contains a sulfhydryl group that is readily oxidized to form the cystine dimer covalently linked by a disulfide bond. ",
         ""
        ],
        [
         "48",
         "PW:0000050",
         "arginine and proline metabolic pathway",
         "Those metabolic reactions involved in the synthesis, utilization and/or degradation of arginine - an essential amino acid - and proline - an amino acid that can play important roles in protein secondary structure. ",
         ""
        ],
        [
         "49",
         "PW:0000051",
         "histidine metabolic pathway",
         "Those metabolic reactions involved in the synthesis, utilization and/or degradation of histidine, an essential amino acid which can act as either a proton donor or a proton acceptor. While the synthesis and degradation pathways of histidine are present in microorganisms, histidine can be acted upon by eukaryotic enzymes. Histidine is the precursor of histamine, is involved in immune responses and also acts as a neurotransmitter. ",
         "KEGG:00340"
        ]
       ],
       "shape": {
        "columns": 4,
        "rows": 2677
       }
      },
      "text/html": [
       "<div>\n",
       "<style scoped>\n",
       "    .dataframe tbody tr th:only-of-type {\n",
       "        vertical-align: middle;\n",
       "    }\n",
       "\n",
       "    .dataframe tbody tr th {\n",
       "        vertical-align: top;\n",
       "    }\n",
       "\n",
       "    .dataframe thead th {\n",
       "        text-align: right;\n",
       "    }\n",
       "</style>\n",
       "<table border=\"1\" class=\"dataframe\">\n",
       "  <thead>\n",
       "    <tr style=\"text-align: right;\">\n",
       "      <th></th>\n",
       "      <th>id</th>\n",
       "      <th>PO_Name</th>\n",
       "      <th>def</th>\n",
       "      <th>xref</th>\n",
       "    </tr>\n",
       "  </thead>\n",
       "  <tbody>\n",
       "    <tr>\n",
       "      <th>0</th>\n",
       "      <td>PW:0000001</td>\n",
       "      <td>pathway</td>\n",
       "      <td>A pathway is a set of inter-connected  reactio...</td>\n",
       "      <td></td>\n",
       "    </tr>\n",
       "    <tr>\n",
       "      <th>1</th>\n",
       "      <td>PW:0000002</td>\n",
       "      <td>classic metabolic pathway</td>\n",
       "      <td>The various, enzyme-controlled, series of reac...</td>\n",
       "      <td>Reactome:R-HSA-1430728</td>\n",
       "    </tr>\n",
       "    <tr>\n",
       "      <th>2</th>\n",
       "      <td>PW:0000003</td>\n",
       "      <td>signaling pathway</td>\n",
       "      <td>The pathways where a signal - hormone, neurotr...</td>\n",
       "      <td>Reactome:R-HSA-162582</td>\n",
       "    </tr>\n",
       "    <tr>\n",
       "      <th>3</th>\n",
       "      <td>PW:0000004</td>\n",
       "      <td>regulatory pathway</td>\n",
       "      <td>The pathways that control the processes by whi...</td>\n",
       "      <td></td>\n",
       "    </tr>\n",
       "    <tr>\n",
       "      <th>4</th>\n",
       "      <td>PW:0000005</td>\n",
       "      <td>carbohydrate metabolic pathway</td>\n",
       "      <td>Those metabolic reactions and pathways involve...</td>\n",
       "      <td>Reactome:R-HSA-71387</td>\n",
       "    </tr>\n",
       "    <tr>\n",
       "      <th>...</th>\n",
       "      <td>...</td>\n",
       "      <td>...</td>\n",
       "      <td>...</td>\n",
       "      <td>...</td>\n",
       "    </tr>\n",
       "    <tr>\n",
       "      <th>2672</th>\n",
       "      <td>PW:0002680</td>\n",
       "      <td>NADPH regeneration pathway</td>\n",
       "      <td>Those metabolic reactions involved in the gene...</td>\n",
       "      <td>Reactome:R-HSA-389542</td>\n",
       "    </tr>\n",
       "    <tr>\n",
       "      <th>2673</th>\n",
       "      <td>PW:0002681</td>\n",
       "      <td>very long-chain fatty acid beta degradation pa...</td>\n",
       "      <td>Fatty acid degradation via beta oxidation, act...</td>\n",
       "      <td>Reactome:R-HSA-390247</td>\n",
       "    </tr>\n",
       "    <tr>\n",
       "      <th>2674</th>\n",
       "      <td>PW:0002682</td>\n",
       "      <td>muscle contraction pathway</td>\n",
       "      <td>A pathway in which force is generated within m...</td>\n",
       "      <td>Reactome:R-HSA-397014</td>\n",
       "    </tr>\n",
       "    <tr>\n",
       "      <th>2675</th>\n",
       "      <td>PW:0002683</td>\n",
       "      <td>striated muscle contraction pathway</td>\n",
       "      <td>A pathway in which force is generated within s...</td>\n",
       "      <td>Reactome:R-HSA-390522</td>\n",
       "    </tr>\n",
       "    <tr>\n",
       "      <th>2676</th>\n",
       "      <td>PW:0002684</td>\n",
       "      <td>smooth muscle contraction pathway</td>\n",
       "      <td>A pathway in which force is generated within s...</td>\n",
       "      <td>Reactome:R-HSA-445355</td>\n",
       "    </tr>\n",
       "  </tbody>\n",
       "</table>\n",
       "<p>2677 rows × 4 columns</p>\n",
       "</div>"
      ],
      "text/plain": [
       "              id                                            PO_Name  \\\n",
       "0     PW:0000001                                            pathway   \n",
       "1     PW:0000002                          classic metabolic pathway   \n",
       "2     PW:0000003                                  signaling pathway   \n",
       "3     PW:0000004                                 regulatory pathway   \n",
       "4     PW:0000005                     carbohydrate metabolic pathway   \n",
       "...          ...                                                ...   \n",
       "2672  PW:0002680                         NADPH regeneration pathway   \n",
       "2673  PW:0002681  very long-chain fatty acid beta degradation pa...   \n",
       "2674  PW:0002682                         muscle contraction pathway   \n",
       "2675  PW:0002683                striated muscle contraction pathway   \n",
       "2676  PW:0002684                  smooth muscle contraction pathway   \n",
       "\n",
       "                                                    def  \\\n",
       "0     A pathway is a set of inter-connected  reactio...   \n",
       "1     The various, enzyme-controlled, series of reac...   \n",
       "2     The pathways where a signal - hormone, neurotr...   \n",
       "3     The pathways that control the processes by whi...   \n",
       "4     Those metabolic reactions and pathways involve...   \n",
       "...                                                 ...   \n",
       "2672  Those metabolic reactions involved in the gene...   \n",
       "2673  Fatty acid degradation via beta oxidation, act...   \n",
       "2674  A pathway in which force is generated within m...   \n",
       "2675  A pathway in which force is generated within s...   \n",
       "2676  A pathway in which force is generated within s...   \n",
       "\n",
       "                        xref  \n",
       "0                             \n",
       "1     Reactome:R-HSA-1430728  \n",
       "2      Reactome:R-HSA-162582  \n",
       "3                             \n",
       "4       Reactome:R-HSA-71387  \n",
       "...                      ...  \n",
       "2672   Reactome:R-HSA-389542  \n",
       "2673   Reactome:R-HSA-390247  \n",
       "2674   Reactome:R-HSA-397014  \n",
       "2675   Reactome:R-HSA-390522  \n",
       "2676   Reactome:R-HSA-445355  \n",
       "\n",
       "[2677 rows x 4 columns]"
      ]
     },
     "execution_count": 10,
     "metadata": {},
     "output_type": "execute_result"
    }
   ],
   "source": [
    "# Function to filter 'brackets_content' for KEGG and Reactome entries only\n",
    "def filter_kegg_reactome(text):\n",
    "    if isinstance(text, str):  # Check if the text is a string\n",
    "        items = text.split(',')\n",
    "        filtered_items = [item.strip() for item in items if 'KEGG' in item or 'Reactome' in item]\n",
    "        return ', '.join(filtered_items)\n",
    "    return ''\n",
    "\n",
    "# Apply the function to filter the 'xref' column\n",
    "df_po_xref['xref'] = df_po_xref['xref'].apply(filter_kegg_reactome)\n",
    "\n",
    "# Display the modified DataFrame\n",
    "df_po_xref"
   ]
  },
  {
   "cell_type": "code",
   "execution_count": 11,
   "metadata": {},
   "outputs": [
    {
     "data": {
      "application/vnd.microsoft.datawrangler.viewer.v0+json": {
       "columns": [
        {
         "name": "index",
         "rawType": "int64",
         "type": "integer"
        },
        {
         "name": "id",
         "rawType": "object",
         "type": "string"
        },
        {
         "name": "PO_Name",
         "rawType": "object",
         "type": "string"
        },
        {
         "name": "def",
         "rawType": "object",
         "type": "string"
        },
        {
         "name": "xref",
         "rawType": "object",
         "type": "string"
        },
        {
         "name": "KEGG",
         "rawType": "object",
         "type": "unknown"
        },
        {
         "name": "Reactome",
         "rawType": "object",
         "type": "unknown"
        }
       ],
       "conversionMethod": "pd.DataFrame",
       "ref": "0a6ef44c-ade0-4f75-8be5-44db7f8fd751",
       "rows": [
        [
         "0",
         "PW:0000001",
         "pathway",
         "A pathway is a set of inter-connected  reactions and interactions whose delineation and scope are used as a model for exploring and studying, describing and understanding the working of and relationships between biomolecules within a context. ",
         "",
         null,
         null
        ],
        [
         "1",
         "PW:0000002",
         "classic metabolic pathway",
         "The various, enzyme-controlled, series of reactions allowing for the conversion of materials, energy availability and biodegradation of xenobiotics. ",
         "Reactome:R-HSA-1430728",
         null,
         "Reactome:R-HSA-1430728"
        ],
        [
         "2",
         "PW:0000003",
         "signaling pathway",
         "The pathways where a signal - hormone, neurotransmitter, growth factor, peptide, any molecule - triggers one or multiple cascades of events. This involves a number of molecules, including receptors, proteins, ligands, messengers, any participating molecule. A signaling pathway may be upstream or downstream of other signaling pathways. Signaling pathways control a very broad spectrum of processes as well as pathways. ",
         "Reactome:R-HSA-162582",
         null,
         "Reactome:R-HSA-162582"
        ],
        [
         "3",
         "PW:0000004",
         "regulatory pathway",
         "The pathways that control the processes by which a cell or organism develops, adjusts, behaves, responds to conditions or changes in these conditions, or in any manner helps promote and maintain its efficient functioning. ",
         "",
         null,
         null
        ],
        [
         "4",
         "PW:0000005",
         "carbohydrate metabolic pathway",
         "Those metabolic reactions and pathways involved in the oxidation, breakdown and synthesis of carbohydrates in the tissue. The breakdown can be utilized by the body for energy production. The converse synthesis is used for energy storage. ",
         "Reactome:R-HSA-71387",
         null,
         "Reactome:R-HSA-71387"
        ],
        [
         "5",
         "PW:0000006",
         "Ras superfamily mediated signaling pathway",
         "The Ras superfamily consists of a diverse group of small, monomeric G proteins that function as molecular switches alternating between the GDP-inactive and the GTP-active bound state. The GTP-bound form can interact with many downstream effectors. Ras superfamily controls a broad spectrum of processes; deregulation of Ras cascades has been linked to several forms of cancer. The superfamily is structurally classified in five families. ",
         "",
         null,
         null
        ],
        [
         "6",
         "PW:0000007",
         "mitogen activated protein kinase signaling pathway",
         "The mitogen-activated protein kinase pathway groups several serine/threonine protein kinase mediated cascades in response to a number of extracellular stimuli. A characteristic feature of these cascades is the presence of at least three kinases in series leading to the activation of a multifunctional MAP kinase. ",
         "KEGG:map04010, Reactome:R-HSA-5683057",
         "KEGG:map04010",
         "Reactome:R-HSA-5683057"
        ],
        [
         "7",
         "PW:0000008",
         "Wnt signaling pathway",
         "The secreted glycoproteins of the Wnt family regulate a wide spectrum of developmental processes and they are also playing important roles in the adult organism. Deregulation of Wnt cascades has oncogenic effects and is responsible for tumorigenesis in adults. ",
         "KEGG:04310, Reactome:R-HSA-195721",
         "KEGG:04310",
         "Reactome:R-HSA-195721"
        ],
        [
         "8",
         "PW:0000009",
         "apoptotic cell death pathway",
         "Apoptosis is a programmed cell death pathway that is characterized by particular morphological features such as membrane blebbing and DNA fragmentation. It can be intrinsic or extrinsic and involves the activation of caspases. ",
         "KEGG:map04210, Reactome:R-HSA-109581",
         "KEGG:map04210",
         "Reactome:R-HSA-109581"
        ],
        [
         "9",
         "PW:0000010",
         "lipid metabolic pathway",
         "The metabolic reactions involved in the oxidation, utilization and/or synthesis of lipids in tissues. ",
         "Reactome:R-HSA-556833",
         null,
         "Reactome:R-HSA-556833"
        ],
        [
         "10",
         "PW:0000011",
         "amino acid metabolic pathway",
         "Those metabolic reactions involved in the synthesis, utilization and/or degradation of the primary or standard 20 amino acids found in proteins. Amino acids are described as non-essential or essential depending on whether humans can or can not synthesize them, respectively. Chemically, they are classified based on the polarity of their side chain or R group, as non-polar and hydrophobic and hydrophilic and charged or polar uncharged. Amino acid metabolic pathways are also listed with their KEGG entries. ",
         "http://www.genome.jp/kegg/ \"KEGG\"",
         "http://www.genome.jp/kegg/ \"KEGG\"",
         null
        ],
        [
         "11",
         "PW:0000012",
         "nucleotide metabolic pathway",
         "Those metabolic reactions involved in the synthesis, utilization and/or degradation of nucleotides. Nucleotides, which are the units of DNA and RNA, can also play important roles in cellular energy, enzyme regulation as well as serve as signaling molecules. ",
         "Reactome:R-HSA-15869",
         null,
         "Reactome:R-HSA-15869"
        ],
        [
         "12",
         "PW:0000013",
         "disease pathway",
         "Complex human diseases encompass a spectrum of genetic and environmental attributes that together affect the normal functioning of several molecular and cellular pathways. Their combined and accumulated effect is manifested in the anomalous phenotype of the complex condition. ",
         "Reactome:R-HSA-1643685",
         null,
         "Reactome:R-HSA-1643685"
        ],
        [
         "13",
         "PW:0000014",
         "neurodegenerative pathway",
         "Neurodegenerative diseases group together a number of conditions of various and many times poorly understood origins that are characterized by the progressive loss of particular neurons, the formation of particular structures such as plaques and fibrils, and protein aggregates. Proteosomal degradation, programmed cell death and oxidative stress are among a number of pathways thought to be disrupted. ",
         "Reactome:R-HSA-8863678",
         null,
         "Reactome:R-HSA-8863678"
        ],
        [
         "14",
         "PW:0000015",
         "Alzheimer's disease pathway",
         "A mostly sporadic, late-onset condition affecting the central nervous system, that is the most prevalent neurodegenerative disease and the most common form of dementia. It is characterized by the presence of amyloid plaques and fibril tangles. Possible pathways affected range from protein mis-folding and aggregation, to oxidative stress and impaired metal homeostasis. ",
         "KEGG:map05010",
         "KEGG:map05010",
         null
        ],
        [
         "15",
         "PW:0000016",
         "amyotrophic lateral sclerosis pathway",
         "A late onset, mostly sporadic neurodegenerative disease characterized by the loss of motor neurons in the brain stem and spinal cord. Various pathways are thought to be deregulated and contribute to the condition; among them calcium and/or zinc homeostasis, apoptosis, Cdk5 and calcineurin dependent processes, and in the case of the more rare, genetically inherited form of the disease, mutations in the cytosolic Cu, Zn superoxide dismutase (SOD1) and the subsequent changes in the processes that involve SOD1. ",
         "KEGG:map05014",
         "KEGG:map05014",
         null
        ],
        [
         "16",
         "PW:0000017",
         "Huntington's disease pathway",
         "An autosomal dominant neurodegenerative disease manifesting in movement, cognitive and psychiatric disorders caused by the abnormal expansion of a polyglutamine (polyQ) stretch in the Huntingtin (HTT) protein. It mostly affects the caudate-putamen striatal neurons. Other areas are also affected and undergo a size reduction. HTT is thought to be involved in several cellular pathways. Its functions are overcome by the mutant protein mHTT. ",
         "",
         null,
         null
        ],
        [
         "17",
         "PW:0000018",
         "Parkinson's disease pathway",
         "One of the most common neurodegenerative diseases that is characterized by the loss of dopaminergic neurons in the substantia nigra and the presence of cytoplasmic inclusions called Lewy bodies in surrounding neurons. Several pathways are thought to be deregulated; for instance, imbalance of iron homeostasis is believed to contribute to the pathogenesis of the condition. ",
         "KEGG:map05012",
         "KEGG:map05012",
         null
        ],
        [
         "18",
         "PW:0000019",
         "prion disease pathway",
         "Prion disease - any of a group of fatal, transmissible neurodegenerative diseases caused by abnormalities of prion protein metabolism, which may result from mutations in the prion protein gene or from infection with pathogenic isoforms of the protein.  Characteristics include neuronal loss, gliosis, and extensive vacuolization of the cerebral cortex. Prion diseases may be sporadic, inherited as an autosomal dominant trait, or acquired. Human diseases include Creutzfeldt-Jakob disease, Gerstmann-Strussler syndrome, fatal familial insomnia, and kuru ",
         "KEGG:map05020",
         "KEGG:map05020",
         null
        ],
        [
         "19",
         "PW:0000020",
         "cardiovascular system disease pathway",
         "Cardiovascular diseases represent a very broad spectrum of conditions that can also combine with diabetes and renal failure. ",
         "",
         null,
         null
        ],
        [
         "20",
         "PW:0000021",
         "hypertension pathway",
         "Hypertension, high arterial blood pressure: various criteria for its threshold have been suggested, ranging from 140 mm Hg systolic and 90 mm Hg diastolic to as high as 200 mm Hg systolic and 110 mm Hg diastolic. Hypertension may have no known cause (essential or idiopathic h.) or be associated with other primary diseases (secondary h.). ",
         "",
         null,
         null
        ],
        [
         "21",
         "PW:0000022",
         "cardiomyopathy pathway",
         "Cardiomyopathy - a general diagnostic term designating primary noninflammatory disease of the heart muscle, often of obscure or unknown etiology and not the result of ischemic, hypertensive, congenital, valvular, or pericardial disease. It is usually subdivided into dilated, hypertrophic, and restrictive cardiomyopathy (1). Cardiomyopathy is the deterioration of the cardiac muscle of the heart wall. ",
         "",
         null,
         null
        ],
        [
         "22",
         "PW:0000023",
         "immune response pathway",
         "The Immune response pathways mediate the defense of host cells against infection and injury. The first line of defense is provided by the phylogenetically older innate immune response. The later, more versatile response is provided by the pathways of adaptive immunity: the B cell mediated humoral and the T cell mediated cellular or cell-mediated responses. ",
         "Reactome:R-HSA-168256",
         null,
         "Reactome:R-HSA-168256"
        ],
        [
         "23",
         "PW:0000024",
         "inflammatory response pathway",
         "Inflammation is the cellular response of the innate immune system to infection or injury. Sensing of infection by pattern recognition receptors triggers signaling cascades leading to the expression of mediator genes such as the pro-inflammatory cytokines. ",
         "",
         null,
         null
        ],
        [
         "24",
         "PW:0000025",
         "glycolysis/gluconeogenesis pathway",
         "Those metabolic reactions involved in the energy-yielding conversion of glucose to pyruvate or in the formation of glucose from non-carbohydrate precursors such as pyruvate, lactate, citric acid cycle intermediates, the carbon skeleton of many amino acids. While many enzymes are shared by the two pathways, a few steps are carried out by pathway-specific enzymes. The two pathways are independently regulated. ",
         "KEGG:map00010",
         "KEGG:map00010",
         null
        ],
        [
         "25",
         "PW:0000026",
         "citric acid cycle pathway",
         "The series of chemical reactions that are central to all aerobic cells and constitute the citric acid cycle. Also known as the tricarboxylic acid cycle (TCA) or Krebs cycle, it is the center of convergence for all molecular fuels. ",
         "KEGG:map00020, Reactome:R-HSA-71403",
         "KEGG:map00020",
         "Reactome:R-HSA-71403"
        ],
        [
         "26",
         "PW:0000027",
         "glutamic acid/glutamate metabolic pathway",
         "Those metabolic reactions involved in the synthesis, utilization and/or degradation glutamic acid/glutamate. Glutamate is the major excitatory neurotransmitter. ",
         "",
         null,
         null
        ],
        [
         "27",
         "PW:0000028",
         "alanine, aspartate and glutamate metabolic pathway",
         "Those metabolic reactions involved in the synthesis, utilization and/or degradation of alanine, aspartate and glutamate. ",
         "",
         null,
         null
        ],
        [
         "28",
         "PW:0000029",
         "fatty acid biosynthetic pathway",
         "Acetyl-CoA, the starting material for fatty acid biosynthesis, can be derived from amino acid and lipid degradation or the oxidative decarboxylation of pyruvate. Fatty acid biosynthesis involves the condensation of C2 units; it requires seven enzymatic reactions which are carried out by the multifunctional enzyme fatty acid synthase. ",
         "KEGG:00061",
         "KEGG:00061",
         null
        ],
        [
         "29",
         "PW:0000031",
         "purine metabolic pathway",
         "Those metabolic reactions involved in the synthesis, utilization and/or degradation of purines. Purines consist of a pyrimidine ring fused to an imidazole ring. The nucleobases adenine and guanine in DNA are purines. ",
         "KEGG:00230",
         "KEGG:00230",
         null
        ],
        [
         "30",
         "PW:0000032",
         "pyrimidine metabolic pathway",
         "Those metabolic reactions involved in the synthesis, utilization and/or degradation of pyrimidines. Cytosine, thymine and uracil - the nucleobases found in nucleic acids, are pyrimidine derivatives. ",
         "KEGG:00240",
         "KEGG:00240",
         null
        ],
        [
         "31",
         "PW:0000033",
         "energy metabolic pathway",
         "Those metabolic reactions and pathways whose role is to release or provide energy. ",
         "",
         null,
         null
        ],
        [
         "32",
         "PW:0000034",
         "electron transport chain pathway",
         "Those metabolic reactions whereby the electrons, derived from the oxidation of glucose and lipids or the degradation of amino acids, are passed to oxygen via a series of series of spatially separated complexes. The energy derived generates an electrochemical gradient that drives the synthesis of ATP. The coupling between the electron transport chain, also known as the respiratory chain, and the ATP biosynthetic pathway is known as oxidative phosphorylation. Under certain circumstances the two may be uncoupled. ",
         "Reactome:R-HSA-611105",
         null,
         "Reactome:R-HSA-611105"
        ],
        [
         "33",
         "PW:0000035",
         "ATP biosynthetic pathway",
         "Those metabolic reactions involved in the synthesis of adenosine triphosphate (ATP). ATP synthesis is coupled to the electron transfer or respiratory chain pathway which generates an electrochemical gradient that drives the phosphorylation of ADP. The coupling of the two pathways is called oxidative phosphorylation. Under certain circumstances however, the two may be uncoupled. ",
         "",
         null,
         null
        ],
        [
         "34",
         "PW:0000036",
         "nitrogen metabolic pathway",
         "Those metabolic reactions in the nitrogen cycle carried out by various microorganisms. ",
         "KEGG:map00910",
         "KEGG:map00910",
         null
        ],
        [
         "35",
         "PW:0000037",
         "sulfur metabolic pathway",
         "Those metabolic reactions involving sulfur - a component of methionine and cysteine amino acids and of co-enzymes and vitamins. It also serves as electron donor in anaerobic respiration. Microorganisms and plants can incorporate inorganic sulfate into bioinorganic compounds; higher organisms derive them from diet. ",
         "KEGG:00920, KEGG:map00920",
         "KEGG:00920, KEGG:map00920",
         null
        ],
        [
         "36",
         "PW:0000038",
         "Sterol, vitamin K, vitamine E and cartenoids  biosynthesis",
         "OBSOLETE. Originally found at KEGG, the term has since been deleted. ",
         "",
         null,
         null
        ],
        [
         "37",
         "PW:0000039",
         "bile acid biosynthetic pathway",
         "Those metabolic reactions involved in the biosynthesis of bile acids - any of the steroid carboxylic acids derived from cholesterol. Cholic and chenodeoxycholic acids are the primary bile acids and are formed in the liver. Secondary bile acids - deoxycholic and lithocholic - are formed from the primary bile acids through the action of intestinal bacteria. Bile acid also acts as a signal molecule via several nuclear receptors. ",
         "KEGG:00120",
         "KEGG:00120",
         null
        ],
        [
         "38",
         "PW:0000040",
         "steroid hormone biosynthetic pathway",
         "Those metabolic reactions involved in the synthesis of steroid hormones. All steroid hormones are derived from cholesterol. Steroid hormone metabolism is extremely complex and its molecular details are incompletely understood. De novo steroid biosynthesis is confined to very few tissues, primarily the adrenals, the gonads and the placenta. ",
         "KEGG:00140, KEGG:map00140",
         "KEGG:00140, KEGG:map00140",
         null
        ],
        [
         "39",
         "PW:0000041",
         "fructose and mannose metabolic pathway",
         "Those metabolic reactions involved in the synthesis, utilization and/or degradation of fructose and mannose, as depicted in the KEGG diagram. ",
         "KEGG:map00051",
         "KEGG:map00051",
         null
        ],
        [
         "40",
         "PW:0000042",
         "galactose metabolic pathway",
         "Those metabolic reactions involved in the synthesis, utilization and/or degradation of galactose - an aldohexose epimeric with glucose at the 4 carbon. Galactose is a component of lactose and other oligosaccharides, cerebrosides and gangliosides, and of various glycolipids and glycoproteins. ",
         "KEGG:00052, KEGG:map00052",
         "KEGG:00052, KEGG:map00052",
         null
        ],
        [
         "41",
         "PW:0000043",
         "pyruvate metabolic pathway",
         "Those metabolic reactions involved in the synthesis, utilization and/or degradation of pyruvate - a salt, ester, or anionic form of pyruvic acid. Pyruvate, which is the end-product of glycolysis, can be converted to lactate under anaerobic conditions, can be further oxidized via the Krebs or citrate cycle or can be converted back to glucose via gluconeogenesis. ",
         "KEGG:00620, KEGG:00620, Reactome:R-HSA-70268",
         "KEGG:00620, KEGG:00620",
         "Reactome:R-HSA-70268"
        ],
        [
         "42",
         "PW:0000044",
         "Duplicated Glutamate Metabolism term",
         "OBSOLETE. Duplicated term. Use PW:0000027. ",
         "",
         null,
         null
        ],
        [
         "43",
         "PW:0000045",
         "pentose phosphate pathway",
         "Those metabolic reactions involved in the generation of reducing equivalents and five carbon (pentose) sugars. The oxidative phase is irreversible; the non-oxidative is reversible. ",
         "KEGG:map00030, Reactome:R-HSA-71336",
         "KEGG:map00030",
         "Reactome:R-HSA-71336"
        ],
        [
         "44",
         "PW:0000046",
         "inositol metabolic pathway",
         "Those metabolic reactions involved in the synthesis, utilization and/or degradation of inositol, a cyclic sugar alcohol occurring in a number of stereoisomers of which myo-inositol is the most prominent form. myo-inositol provides a structural basis for compounds such as inositol phosphates and phosphatidylinositols, which are secondary messengers in several signaling pathways. ",
         "",
         null,
         null
        ],
        [
         "45",
         "PW:0000047",
         "glycine, serine and threonine metabolic pathway",
         "Those metabolic reactions involved in the synthesis of glycine, serine and threonine and which are intimately connected with serine being synthesized from glycine and threonine. ",
         "",
         null,
         null
        ],
        [
         "46",
         "PW:0000048",
         "methionine cycle/metabolic pathway",
         "Those metabolic reactions involved in the synthesis (remethylation), utilization and/or degradation of methionine, an essential amino acid for humans. The cycle produces S-adenosylmethionine (AdoMet),  the major methyl donor for proteins, nucleic acids, lipids and other small molecules. The cycle also produces homocysteine (Hcy) which either regenerates methionine via the  remethylation pathway or leads to the synthesis of cysteine and derivatives via the transsulfuration pathway. Homocysteine and folate metabolic pathways are intimately related to the methionine cycle. ",
         "",
         null,
         null
        ],
        [
         "47",
         "PW:0000049",
         "cysteine metabolic pathway",
         "Those metabolic reactions involved in the synthesis, utilization and/or degradation of cysteine, a non-essential amino acid that could be essential in certain cases. Its side chain contains a sulfhydryl group that is readily oxidized to form the cystine dimer covalently linked by a disulfide bond. ",
         "",
         null,
         null
        ],
        [
         "48",
         "PW:0000050",
         "arginine and proline metabolic pathway",
         "Those metabolic reactions involved in the synthesis, utilization and/or degradation of arginine - an essential amino acid - and proline - an amino acid that can play important roles in protein secondary structure. ",
         "",
         null,
         null
        ],
        [
         "49",
         "PW:0000051",
         "histidine metabolic pathway",
         "Those metabolic reactions involved in the synthesis, utilization and/or degradation of histidine, an essential amino acid which can act as either a proton donor or a proton acceptor. While the synthesis and degradation pathways of histidine are present in microorganisms, histidine can be acted upon by eukaryotic enzymes. Histidine is the precursor of histamine, is involved in immune responses and also acts as a neurotransmitter. ",
         "KEGG:00340",
         "KEGG:00340",
         null
        ]
       ],
       "shape": {
        "columns": 6,
        "rows": 2677
       }
      },
      "text/html": [
       "<div>\n",
       "<style scoped>\n",
       "    .dataframe tbody tr th:only-of-type {\n",
       "        vertical-align: middle;\n",
       "    }\n",
       "\n",
       "    .dataframe tbody tr th {\n",
       "        vertical-align: top;\n",
       "    }\n",
       "\n",
       "    .dataframe thead th {\n",
       "        text-align: right;\n",
       "    }\n",
       "</style>\n",
       "<table border=\"1\" class=\"dataframe\">\n",
       "  <thead>\n",
       "    <tr style=\"text-align: right;\">\n",
       "      <th></th>\n",
       "      <th>id</th>\n",
       "      <th>PO_Name</th>\n",
       "      <th>def</th>\n",
       "      <th>xref</th>\n",
       "      <th>KEGG</th>\n",
       "      <th>Reactome</th>\n",
       "    </tr>\n",
       "  </thead>\n",
       "  <tbody>\n",
       "    <tr>\n",
       "      <th>0</th>\n",
       "      <td>PW:0000001</td>\n",
       "      <td>pathway</td>\n",
       "      <td>A pathway is a set of inter-connected  reactio...</td>\n",
       "      <td></td>\n",
       "      <td>None</td>\n",
       "      <td>None</td>\n",
       "    </tr>\n",
       "    <tr>\n",
       "      <th>1</th>\n",
       "      <td>PW:0000002</td>\n",
       "      <td>classic metabolic pathway</td>\n",
       "      <td>The various, enzyme-controlled, series of reac...</td>\n",
       "      <td>Reactome:R-HSA-1430728</td>\n",
       "      <td>None</td>\n",
       "      <td>Reactome:R-HSA-1430728</td>\n",
       "    </tr>\n",
       "    <tr>\n",
       "      <th>2</th>\n",
       "      <td>PW:0000003</td>\n",
       "      <td>signaling pathway</td>\n",
       "      <td>The pathways where a signal - hormone, neurotr...</td>\n",
       "      <td>Reactome:R-HSA-162582</td>\n",
       "      <td>None</td>\n",
       "      <td>Reactome:R-HSA-162582</td>\n",
       "    </tr>\n",
       "    <tr>\n",
       "      <th>3</th>\n",
       "      <td>PW:0000004</td>\n",
       "      <td>regulatory pathway</td>\n",
       "      <td>The pathways that control the processes by whi...</td>\n",
       "      <td></td>\n",
       "      <td>None</td>\n",
       "      <td>None</td>\n",
       "    </tr>\n",
       "    <tr>\n",
       "      <th>4</th>\n",
       "      <td>PW:0000005</td>\n",
       "      <td>carbohydrate metabolic pathway</td>\n",
       "      <td>Those metabolic reactions and pathways involve...</td>\n",
       "      <td>Reactome:R-HSA-71387</td>\n",
       "      <td>None</td>\n",
       "      <td>Reactome:R-HSA-71387</td>\n",
       "    </tr>\n",
       "    <tr>\n",
       "      <th>...</th>\n",
       "      <td>...</td>\n",
       "      <td>...</td>\n",
       "      <td>...</td>\n",
       "      <td>...</td>\n",
       "      <td>...</td>\n",
       "      <td>...</td>\n",
       "    </tr>\n",
       "    <tr>\n",
       "      <th>2672</th>\n",
       "      <td>PW:0002680</td>\n",
       "      <td>NADPH regeneration pathway</td>\n",
       "      <td>Those metabolic reactions involved in the gene...</td>\n",
       "      <td>Reactome:R-HSA-389542</td>\n",
       "      <td>None</td>\n",
       "      <td>Reactome:R-HSA-389542</td>\n",
       "    </tr>\n",
       "    <tr>\n",
       "      <th>2673</th>\n",
       "      <td>PW:0002681</td>\n",
       "      <td>very long-chain fatty acid beta degradation pa...</td>\n",
       "      <td>Fatty acid degradation via beta oxidation, act...</td>\n",
       "      <td>Reactome:R-HSA-390247</td>\n",
       "      <td>None</td>\n",
       "      <td>Reactome:R-HSA-390247</td>\n",
       "    </tr>\n",
       "    <tr>\n",
       "      <th>2674</th>\n",
       "      <td>PW:0002682</td>\n",
       "      <td>muscle contraction pathway</td>\n",
       "      <td>A pathway in which force is generated within m...</td>\n",
       "      <td>Reactome:R-HSA-397014</td>\n",
       "      <td>None</td>\n",
       "      <td>Reactome:R-HSA-397014</td>\n",
       "    </tr>\n",
       "    <tr>\n",
       "      <th>2675</th>\n",
       "      <td>PW:0002683</td>\n",
       "      <td>striated muscle contraction pathway</td>\n",
       "      <td>A pathway in which force is generated within s...</td>\n",
       "      <td>Reactome:R-HSA-390522</td>\n",
       "      <td>None</td>\n",
       "      <td>Reactome:R-HSA-390522</td>\n",
       "    </tr>\n",
       "    <tr>\n",
       "      <th>2676</th>\n",
       "      <td>PW:0002684</td>\n",
       "      <td>smooth muscle contraction pathway</td>\n",
       "      <td>A pathway in which force is generated within s...</td>\n",
       "      <td>Reactome:R-HSA-445355</td>\n",
       "      <td>None</td>\n",
       "      <td>Reactome:R-HSA-445355</td>\n",
       "    </tr>\n",
       "  </tbody>\n",
       "</table>\n",
       "<p>2677 rows × 6 columns</p>\n",
       "</div>"
      ],
      "text/plain": [
       "              id                                            PO_Name  \\\n",
       "0     PW:0000001                                            pathway   \n",
       "1     PW:0000002                          classic metabolic pathway   \n",
       "2     PW:0000003                                  signaling pathway   \n",
       "3     PW:0000004                                 regulatory pathway   \n",
       "4     PW:0000005                     carbohydrate metabolic pathway   \n",
       "...          ...                                                ...   \n",
       "2672  PW:0002680                         NADPH regeneration pathway   \n",
       "2673  PW:0002681  very long-chain fatty acid beta degradation pa...   \n",
       "2674  PW:0002682                         muscle contraction pathway   \n",
       "2675  PW:0002683                striated muscle contraction pathway   \n",
       "2676  PW:0002684                  smooth muscle contraction pathway   \n",
       "\n",
       "                                                    def  \\\n",
       "0     A pathway is a set of inter-connected  reactio...   \n",
       "1     The various, enzyme-controlled, series of reac...   \n",
       "2     The pathways where a signal - hormone, neurotr...   \n",
       "3     The pathways that control the processes by whi...   \n",
       "4     Those metabolic reactions and pathways involve...   \n",
       "...                                                 ...   \n",
       "2672  Those metabolic reactions involved in the gene...   \n",
       "2673  Fatty acid degradation via beta oxidation, act...   \n",
       "2674  A pathway in which force is generated within m...   \n",
       "2675  A pathway in which force is generated within s...   \n",
       "2676  A pathway in which force is generated within s...   \n",
       "\n",
       "                        xref  KEGG                Reactome  \n",
       "0                             None                    None  \n",
       "1     Reactome:R-HSA-1430728  None  Reactome:R-HSA-1430728  \n",
       "2      Reactome:R-HSA-162582  None   Reactome:R-HSA-162582  \n",
       "3                             None                    None  \n",
       "4       Reactome:R-HSA-71387  None    Reactome:R-HSA-71387  \n",
       "...                      ...   ...                     ...  \n",
       "2672   Reactome:R-HSA-389542  None   Reactome:R-HSA-389542  \n",
       "2673   Reactome:R-HSA-390247  None   Reactome:R-HSA-390247  \n",
       "2674   Reactome:R-HSA-397014  None   Reactome:R-HSA-397014  \n",
       "2675   Reactome:R-HSA-390522  None   Reactome:R-HSA-390522  \n",
       "2676   Reactome:R-HSA-445355  None   Reactome:R-HSA-445355  \n",
       "\n",
       "[2677 rows x 6 columns]"
      ]
     },
     "execution_count": 11,
     "metadata": {},
     "output_type": "execute_result"
    }
   ],
   "source": [
    "# Function to extract KEGG entries\n",
    "def extract_kegg(text):\n",
    "    if isinstance(text, str) and 'KEGG' in text:\n",
    "        items = [item.strip() for item in text.split(',') if 'KEGG' in item]\n",
    "        return ', '.join(items)\n",
    "    return None\n",
    "\n",
    "# Function to extract Reactome entries\n",
    "def extract_reactome(text):\n",
    "    if isinstance(text, str) and 'Reactome' in text:\n",
    "        items = [item.strip() for item in text.split(',') if 'Reactome' in item]\n",
    "        return ', '.join(items)\n",
    "    return None\n",
    "\n",
    "df_po_xref_split = df_po_xref.copy()\n",
    "# Create separate columns for KEGG and Reactome\n",
    "df_po_xref_split['KEGG'] = df_po_xref_split['xref'].apply(extract_kegg)\n",
    "df_po_xref_split['Reactome'] = df_po_xref_split['xref'].apply(extract_reactome)\n",
    "\n",
    "# Display the modified DataFrame\n",
    "df_po_xref_split"
   ]
  },
  {
   "cell_type": "code",
   "execution_count": 12,
   "metadata": {},
   "outputs": [
    {
     "data": {
      "application/vnd.microsoft.datawrangler.viewer.v0+json": {
       "columns": [
        {
         "name": "index",
         "rawType": "int64",
         "type": "integer"
        },
        {
         "name": "id",
         "rawType": "object",
         "type": "string"
        },
        {
         "name": "PO_Name",
         "rawType": "object",
         "type": "string"
        },
        {
         "name": "def",
         "rawType": "object",
         "type": "string"
        },
        {
         "name": "KEGG",
         "rawType": "object",
         "type": "unknown"
        },
        {
         "name": "Reactome",
         "rawType": "object",
         "type": "unknown"
        }
       ],
       "conversionMethod": "pd.DataFrame",
       "ref": "62d6795f-9365-4f1e-9b6b-493698bc6533",
       "rows": [
        [
         "0",
         "PW:0000001",
         "pathway",
         "A pathway is a set of inter-connected  reactions and interactions whose delineation and scope are used as a model for exploring and studying, describing and understanding the working of and relationships between biomolecules within a context. ",
         null,
         null
        ],
        [
         "1",
         "PW:0000002",
         "classic metabolic pathway",
         "The various, enzyme-controlled, series of reactions allowing for the conversion of materials, energy availability and biodegradation of xenobiotics. ",
         null,
         "R-HSA-1430728"
        ],
        [
         "2",
         "PW:0000003",
         "signaling pathway",
         "The pathways where a signal - hormone, neurotransmitter, growth factor, peptide, any molecule - triggers one or multiple cascades of events. This involves a number of molecules, including receptors, proteins, ligands, messengers, any participating molecule. A signaling pathway may be upstream or downstream of other signaling pathways. Signaling pathways control a very broad spectrum of processes as well as pathways. ",
         null,
         "R-HSA-162582"
        ],
        [
         "3",
         "PW:0000004",
         "regulatory pathway",
         "The pathways that control the processes by which a cell or organism develops, adjusts, behaves, responds to conditions or changes in these conditions, or in any manner helps promote and maintain its efficient functioning. ",
         null,
         null
        ],
        [
         "4",
         "PW:0000005",
         "carbohydrate metabolic pathway",
         "Those metabolic reactions and pathways involved in the oxidation, breakdown and synthesis of carbohydrates in the tissue. The breakdown can be utilized by the body for energy production. The converse synthesis is used for energy storage. ",
         null,
         "R-HSA-71387"
        ],
        [
         "5",
         "PW:0000006",
         "Ras superfamily mediated signaling pathway",
         "The Ras superfamily consists of a diverse group of small, monomeric G proteins that function as molecular switches alternating between the GDP-inactive and the GTP-active bound state. The GTP-bound form can interact with many downstream effectors. Ras superfamily controls a broad spectrum of processes; deregulation of Ras cascades has been linked to several forms of cancer. The superfamily is structurally classified in five families. ",
         null,
         null
        ],
        [
         "6",
         "PW:0000007",
         "mitogen activated protein kinase signaling pathway",
         "The mitogen-activated protein kinase pathway groups several serine/threonine protein kinase mediated cascades in response to a number of extracellular stimuli. A characteristic feature of these cascades is the presence of at least three kinases in series leading to the activation of a multifunctional MAP kinase. ",
         "hsa04010",
         "R-HSA-5683057"
        ],
        [
         "7",
         "PW:0000008",
         "Wnt signaling pathway",
         "The secreted glycoproteins of the Wnt family regulate a wide spectrum of developmental processes and they are also playing important roles in the adult organism. Deregulation of Wnt cascades has oncogenic effects and is responsible for tumorigenesis in adults. ",
         "hsa04310",
         "R-HSA-195721"
        ],
        [
         "8",
         "PW:0000009",
         "apoptotic cell death pathway",
         "Apoptosis is a programmed cell death pathway that is characterized by particular morphological features such as membrane blebbing and DNA fragmentation. It can be intrinsic or extrinsic and involves the activation of caspases. ",
         "hsa04210",
         "R-HSA-109581"
        ],
        [
         "9",
         "PW:0000010",
         "lipid metabolic pathway",
         "The metabolic reactions involved in the oxidation, utilization and/or synthesis of lipids in tissues. ",
         null,
         "R-HSA-556833"
        ],
        [
         "10",
         "PW:0000011",
         "amino acid metabolic pathway",
         "Those metabolic reactions involved in the synthesis, utilization and/or degradation of the primary or standard 20 amino acids found in proteins. Amino acids are described as non-essential or essential depending on whether humans can or can not synthesize them, respectively. Chemically, they are classified based on the polarity of their side chain or R group, as non-polar and hydrophobic and hydrophilic and charged or polar uncharged. Amino acid metabolic pathways are also listed with their KEGG entries. ",
         "hsahttp://www.genome.jp/kegg/ \"KEGG\"",
         null
        ],
        [
         "11",
         "PW:0000012",
         "nucleotide metabolic pathway",
         "Those metabolic reactions involved in the synthesis, utilization and/or degradation of nucleotides. Nucleotides, which are the units of DNA and RNA, can also play important roles in cellular energy, enzyme regulation as well as serve as signaling molecules. ",
         null,
         "R-HSA-15869"
        ],
        [
         "12",
         "PW:0000013",
         "disease pathway",
         "Complex human diseases encompass a spectrum of genetic and environmental attributes that together affect the normal functioning of several molecular and cellular pathways. Their combined and accumulated effect is manifested in the anomalous phenotype of the complex condition. ",
         null,
         "R-HSA-1643685"
        ],
        [
         "13",
         "PW:0000014",
         "neurodegenerative pathway",
         "Neurodegenerative diseases group together a number of conditions of various and many times poorly understood origins that are characterized by the progressive loss of particular neurons, the formation of particular structures such as plaques and fibrils, and protein aggregates. Proteosomal degradation, programmed cell death and oxidative stress are among a number of pathways thought to be disrupted. ",
         null,
         "R-HSA-8863678"
        ],
        [
         "14",
         "PW:0000015",
         "Alzheimer's disease pathway",
         "A mostly sporadic, late-onset condition affecting the central nervous system, that is the most prevalent neurodegenerative disease and the most common form of dementia. It is characterized by the presence of amyloid plaques and fibril tangles. Possible pathways affected range from protein mis-folding and aggregation, to oxidative stress and impaired metal homeostasis. ",
         "hsa05010",
         null
        ],
        [
         "15",
         "PW:0000016",
         "amyotrophic lateral sclerosis pathway",
         "A late onset, mostly sporadic neurodegenerative disease characterized by the loss of motor neurons in the brain stem and spinal cord. Various pathways are thought to be deregulated and contribute to the condition; among them calcium and/or zinc homeostasis, apoptosis, Cdk5 and calcineurin dependent processes, and in the case of the more rare, genetically inherited form of the disease, mutations in the cytosolic Cu, Zn superoxide dismutase (SOD1) and the subsequent changes in the processes that involve SOD1. ",
         "hsa05014",
         null
        ],
        [
         "16",
         "PW:0000017",
         "Huntington's disease pathway",
         "An autosomal dominant neurodegenerative disease manifesting in movement, cognitive and psychiatric disorders caused by the abnormal expansion of a polyglutamine (polyQ) stretch in the Huntingtin (HTT) protein. It mostly affects the caudate-putamen striatal neurons. Other areas are also affected and undergo a size reduction. HTT is thought to be involved in several cellular pathways. Its functions are overcome by the mutant protein mHTT. ",
         null,
         null
        ],
        [
         "17",
         "PW:0000018",
         "Parkinson's disease pathway",
         "One of the most common neurodegenerative diseases that is characterized by the loss of dopaminergic neurons in the substantia nigra and the presence of cytoplasmic inclusions called Lewy bodies in surrounding neurons. Several pathways are thought to be deregulated; for instance, imbalance of iron homeostasis is believed to contribute to the pathogenesis of the condition. ",
         "hsa05012",
         null
        ],
        [
         "18",
         "PW:0000019",
         "prion disease pathway",
         "Prion disease - any of a group of fatal, transmissible neurodegenerative diseases caused by abnormalities of prion protein metabolism, which may result from mutations in the prion protein gene or from infection with pathogenic isoforms of the protein.  Characteristics include neuronal loss, gliosis, and extensive vacuolization of the cerebral cortex. Prion diseases may be sporadic, inherited as an autosomal dominant trait, or acquired. Human diseases include Creutzfeldt-Jakob disease, Gerstmann-Strussler syndrome, fatal familial insomnia, and kuru ",
         "hsa05020",
         null
        ],
        [
         "19",
         "PW:0000020",
         "cardiovascular system disease pathway",
         "Cardiovascular diseases represent a very broad spectrum of conditions that can also combine with diabetes and renal failure. ",
         null,
         null
        ],
        [
         "20",
         "PW:0000021",
         "hypertension pathway",
         "Hypertension, high arterial blood pressure: various criteria for its threshold have been suggested, ranging from 140 mm Hg systolic and 90 mm Hg diastolic to as high as 200 mm Hg systolic and 110 mm Hg diastolic. Hypertension may have no known cause (essential or idiopathic h.) or be associated with other primary diseases (secondary h.). ",
         null,
         null
        ],
        [
         "21",
         "PW:0000022",
         "cardiomyopathy pathway",
         "Cardiomyopathy - a general diagnostic term designating primary noninflammatory disease of the heart muscle, often of obscure or unknown etiology and not the result of ischemic, hypertensive, congenital, valvular, or pericardial disease. It is usually subdivided into dilated, hypertrophic, and restrictive cardiomyopathy (1). Cardiomyopathy is the deterioration of the cardiac muscle of the heart wall. ",
         null,
         null
        ],
        [
         "22",
         "PW:0000023",
         "immune response pathway",
         "The Immune response pathways mediate the defense of host cells against infection and injury. The first line of defense is provided by the phylogenetically older innate immune response. The later, more versatile response is provided by the pathways of adaptive immunity: the B cell mediated humoral and the T cell mediated cellular or cell-mediated responses. ",
         null,
         "R-HSA-168256"
        ],
        [
         "23",
         "PW:0000024",
         "inflammatory response pathway",
         "Inflammation is the cellular response of the innate immune system to infection or injury. Sensing of infection by pattern recognition receptors triggers signaling cascades leading to the expression of mediator genes such as the pro-inflammatory cytokines. ",
         null,
         null
        ],
        [
         "24",
         "PW:0000025",
         "glycolysis/gluconeogenesis pathway",
         "Those metabolic reactions involved in the energy-yielding conversion of glucose to pyruvate or in the formation of glucose from non-carbohydrate precursors such as pyruvate, lactate, citric acid cycle intermediates, the carbon skeleton of many amino acids. While many enzymes are shared by the two pathways, a few steps are carried out by pathway-specific enzymes. The two pathways are independently regulated. ",
         "hsa00010",
         null
        ],
        [
         "25",
         "PW:0000026",
         "citric acid cycle pathway",
         "The series of chemical reactions that are central to all aerobic cells and constitute the citric acid cycle. Also known as the tricarboxylic acid cycle (TCA) or Krebs cycle, it is the center of convergence for all molecular fuels. ",
         "hsa00020",
         "R-HSA-71403"
        ],
        [
         "26",
         "PW:0000027",
         "glutamic acid/glutamate metabolic pathway",
         "Those metabolic reactions involved in the synthesis, utilization and/or degradation glutamic acid/glutamate. Glutamate is the major excitatory neurotransmitter. ",
         null,
         null
        ],
        [
         "27",
         "PW:0000028",
         "alanine, aspartate and glutamate metabolic pathway",
         "Those metabolic reactions involved in the synthesis, utilization and/or degradation of alanine, aspartate and glutamate. ",
         null,
         null
        ],
        [
         "28",
         "PW:0000029",
         "fatty acid biosynthetic pathway",
         "Acetyl-CoA, the starting material for fatty acid biosynthesis, can be derived from amino acid and lipid degradation or the oxidative decarboxylation of pyruvate. Fatty acid biosynthesis involves the condensation of C2 units; it requires seven enzymatic reactions which are carried out by the multifunctional enzyme fatty acid synthase. ",
         "hsa00061",
         null
        ],
        [
         "29",
         "PW:0000031",
         "purine metabolic pathway",
         "Those metabolic reactions involved in the synthesis, utilization and/or degradation of purines. Purines consist of a pyrimidine ring fused to an imidazole ring. The nucleobases adenine and guanine in DNA are purines. ",
         "hsa00230",
         null
        ],
        [
         "30",
         "PW:0000032",
         "pyrimidine metabolic pathway",
         "Those metabolic reactions involved in the synthesis, utilization and/or degradation of pyrimidines. Cytosine, thymine and uracil - the nucleobases found in nucleic acids, are pyrimidine derivatives. ",
         "hsa00240",
         null
        ],
        [
         "31",
         "PW:0000033",
         "energy metabolic pathway",
         "Those metabolic reactions and pathways whose role is to release or provide energy. ",
         null,
         null
        ],
        [
         "32",
         "PW:0000034",
         "electron transport chain pathway",
         "Those metabolic reactions whereby the electrons, derived from the oxidation of glucose and lipids or the degradation of amino acids, are passed to oxygen via a series of series of spatially separated complexes. The energy derived generates an electrochemical gradient that drives the synthesis of ATP. The coupling between the electron transport chain, also known as the respiratory chain, and the ATP biosynthetic pathway is known as oxidative phosphorylation. Under certain circumstances the two may be uncoupled. ",
         null,
         "R-HSA-611105"
        ],
        [
         "33",
         "PW:0000035",
         "ATP biosynthetic pathway",
         "Those metabolic reactions involved in the synthesis of adenosine triphosphate (ATP). ATP synthesis is coupled to the electron transfer or respiratory chain pathway which generates an electrochemical gradient that drives the phosphorylation of ADP. The coupling of the two pathways is called oxidative phosphorylation. Under certain circumstances however, the two may be uncoupled. ",
         null,
         null
        ],
        [
         "34",
         "PW:0000036",
         "nitrogen metabolic pathway",
         "Those metabolic reactions in the nitrogen cycle carried out by various microorganisms. ",
         "hsa00910",
         null
        ],
        [
         "35",
         "PW:0000037",
         "sulfur metabolic pathway",
         "Those metabolic reactions involving sulfur - a component of methionine and cysteine amino acids and of co-enzymes and vitamins. It also serves as electron donor in anaerobic respiration. Microorganisms and plants can incorporate inorganic sulfate into bioinorganic compounds; higher organisms derive them from diet. ",
         "hsa00920, 00920",
         null
        ],
        [
         "36",
         "PW:0000038",
         "Sterol, vitamin K, vitamine E and cartenoids  biosynthesis",
         "OBSOLETE. Originally found at KEGG, the term has since been deleted. ",
         null,
         null
        ],
        [
         "37",
         "PW:0000039",
         "bile acid biosynthetic pathway",
         "Those metabolic reactions involved in the biosynthesis of bile acids - any of the steroid carboxylic acids derived from cholesterol. Cholic and chenodeoxycholic acids are the primary bile acids and are formed in the liver. Secondary bile acids - deoxycholic and lithocholic - are formed from the primary bile acids through the action of intestinal bacteria. Bile acid also acts as a signal molecule via several nuclear receptors. ",
         "hsa00120",
         null
        ],
        [
         "38",
         "PW:0000040",
         "steroid hormone biosynthetic pathway",
         "Those metabolic reactions involved in the synthesis of steroid hormones. All steroid hormones are derived from cholesterol. Steroid hormone metabolism is extremely complex and its molecular details are incompletely understood. De novo steroid biosynthesis is confined to very few tissues, primarily the adrenals, the gonads and the placenta. ",
         "hsa00140, 00140",
         null
        ],
        [
         "39",
         "PW:0000041",
         "fructose and mannose metabolic pathway",
         "Those metabolic reactions involved in the synthesis, utilization and/or degradation of fructose and mannose, as depicted in the KEGG diagram. ",
         "hsa00051",
         null
        ],
        [
         "40",
         "PW:0000042",
         "galactose metabolic pathway",
         "Those metabolic reactions involved in the synthesis, utilization and/or degradation of galactose - an aldohexose epimeric with glucose at the 4 carbon. Galactose is a component of lactose and other oligosaccharides, cerebrosides and gangliosides, and of various glycolipids and glycoproteins. ",
         "hsa00052, 00052",
         null
        ],
        [
         "41",
         "PW:0000043",
         "pyruvate metabolic pathway",
         "Those metabolic reactions involved in the synthesis, utilization and/or degradation of pyruvate - a salt, ester, or anionic form of pyruvic acid. Pyruvate, which is the end-product of glycolysis, can be converted to lactate under anaerobic conditions, can be further oxidized via the Krebs or citrate cycle or can be converted back to glucose via gluconeogenesis. ",
         "hsa00620, 00620",
         "R-HSA-70268"
        ],
        [
         "42",
         "PW:0000044",
         "Duplicated Glutamate Metabolism term",
         "OBSOLETE. Duplicated term. Use PW:0000027. ",
         null,
         null
        ],
        [
         "43",
         "PW:0000045",
         "pentose phosphate pathway",
         "Those metabolic reactions involved in the generation of reducing equivalents and five carbon (pentose) sugars. The oxidative phase is irreversible; the non-oxidative is reversible. ",
         "hsa00030",
         "R-HSA-71336"
        ],
        [
         "44",
         "PW:0000046",
         "inositol metabolic pathway",
         "Those metabolic reactions involved in the synthesis, utilization and/or degradation of inositol, a cyclic sugar alcohol occurring in a number of stereoisomers of which myo-inositol is the most prominent form. myo-inositol provides a structural basis for compounds such as inositol phosphates and phosphatidylinositols, which are secondary messengers in several signaling pathways. ",
         null,
         null
        ],
        [
         "45",
         "PW:0000047",
         "glycine, serine and threonine metabolic pathway",
         "Those metabolic reactions involved in the synthesis of glycine, serine and threonine and which are intimately connected with serine being synthesized from glycine and threonine. ",
         null,
         null
        ],
        [
         "46",
         "PW:0000048",
         "methionine cycle/metabolic pathway",
         "Those metabolic reactions involved in the synthesis (remethylation), utilization and/or degradation of methionine, an essential amino acid for humans. The cycle produces S-adenosylmethionine (AdoMet),  the major methyl donor for proteins, nucleic acids, lipids and other small molecules. The cycle also produces homocysteine (Hcy) which either regenerates methionine via the  remethylation pathway or leads to the synthesis of cysteine and derivatives via the transsulfuration pathway. Homocysteine and folate metabolic pathways are intimately related to the methionine cycle. ",
         null,
         null
        ],
        [
         "47",
         "PW:0000049",
         "cysteine metabolic pathway",
         "Those metabolic reactions involved in the synthesis, utilization and/or degradation of cysteine, a non-essential amino acid that could be essential in certain cases. Its side chain contains a sulfhydryl group that is readily oxidized to form the cystine dimer covalently linked by a disulfide bond. ",
         null,
         null
        ],
        [
         "48",
         "PW:0000050",
         "arginine and proline metabolic pathway",
         "Those metabolic reactions involved in the synthesis, utilization and/or degradation of arginine - an essential amino acid - and proline - an amino acid that can play important roles in protein secondary structure. ",
         null,
         null
        ],
        [
         "49",
         "PW:0000051",
         "histidine metabolic pathway",
         "Those metabolic reactions involved in the synthesis, utilization and/or degradation of histidine, an essential amino acid which can act as either a proton donor or a proton acceptor. While the synthesis and degradation pathways of histidine are present in microorganisms, histidine can be acted upon by eukaryotic enzymes. Histidine is the precursor of histamine, is involved in immune responses and also acts as a neurotransmitter. ",
         "hsa00340",
         null
        ]
       ],
       "shape": {
        "columns": 5,
        "rows": 2677
       }
      },
      "text/html": [
       "<div>\n",
       "<style scoped>\n",
       "    .dataframe tbody tr th:only-of-type {\n",
       "        vertical-align: middle;\n",
       "    }\n",
       "\n",
       "    .dataframe tbody tr th {\n",
       "        vertical-align: top;\n",
       "    }\n",
       "\n",
       "    .dataframe thead th {\n",
       "        text-align: right;\n",
       "    }\n",
       "</style>\n",
       "<table border=\"1\" class=\"dataframe\">\n",
       "  <thead>\n",
       "    <tr style=\"text-align: right;\">\n",
       "      <th></th>\n",
       "      <th>id</th>\n",
       "      <th>PO_Name</th>\n",
       "      <th>def</th>\n",
       "      <th>KEGG</th>\n",
       "      <th>Reactome</th>\n",
       "    </tr>\n",
       "  </thead>\n",
       "  <tbody>\n",
       "    <tr>\n",
       "      <th>0</th>\n",
       "      <td>PW:0000001</td>\n",
       "      <td>pathway</td>\n",
       "      <td>A pathway is a set of inter-connected  reactio...</td>\n",
       "      <td>None</td>\n",
       "      <td>None</td>\n",
       "    </tr>\n",
       "    <tr>\n",
       "      <th>1</th>\n",
       "      <td>PW:0000002</td>\n",
       "      <td>classic metabolic pathway</td>\n",
       "      <td>The various, enzyme-controlled, series of reac...</td>\n",
       "      <td>None</td>\n",
       "      <td>R-HSA-1430728</td>\n",
       "    </tr>\n",
       "    <tr>\n",
       "      <th>2</th>\n",
       "      <td>PW:0000003</td>\n",
       "      <td>signaling pathway</td>\n",
       "      <td>The pathways where a signal - hormone, neurotr...</td>\n",
       "      <td>None</td>\n",
       "      <td>R-HSA-162582</td>\n",
       "    </tr>\n",
       "    <tr>\n",
       "      <th>3</th>\n",
       "      <td>PW:0000004</td>\n",
       "      <td>regulatory pathway</td>\n",
       "      <td>The pathways that control the processes by whi...</td>\n",
       "      <td>None</td>\n",
       "      <td>None</td>\n",
       "    </tr>\n",
       "    <tr>\n",
       "      <th>4</th>\n",
       "      <td>PW:0000005</td>\n",
       "      <td>carbohydrate metabolic pathway</td>\n",
       "      <td>Those metabolic reactions and pathways involve...</td>\n",
       "      <td>None</td>\n",
       "      <td>R-HSA-71387</td>\n",
       "    </tr>\n",
       "    <tr>\n",
       "      <th>...</th>\n",
       "      <td>...</td>\n",
       "      <td>...</td>\n",
       "      <td>...</td>\n",
       "      <td>...</td>\n",
       "      <td>...</td>\n",
       "    </tr>\n",
       "    <tr>\n",
       "      <th>2672</th>\n",
       "      <td>PW:0002680</td>\n",
       "      <td>NADPH regeneration pathway</td>\n",
       "      <td>Those metabolic reactions involved in the gene...</td>\n",
       "      <td>None</td>\n",
       "      <td>R-HSA-389542</td>\n",
       "    </tr>\n",
       "    <tr>\n",
       "      <th>2673</th>\n",
       "      <td>PW:0002681</td>\n",
       "      <td>very long-chain fatty acid beta degradation pa...</td>\n",
       "      <td>Fatty acid degradation via beta oxidation, act...</td>\n",
       "      <td>None</td>\n",
       "      <td>R-HSA-390247</td>\n",
       "    </tr>\n",
       "    <tr>\n",
       "      <th>2674</th>\n",
       "      <td>PW:0002682</td>\n",
       "      <td>muscle contraction pathway</td>\n",
       "      <td>A pathway in which force is generated within m...</td>\n",
       "      <td>None</td>\n",
       "      <td>R-HSA-397014</td>\n",
       "    </tr>\n",
       "    <tr>\n",
       "      <th>2675</th>\n",
       "      <td>PW:0002683</td>\n",
       "      <td>striated muscle contraction pathway</td>\n",
       "      <td>A pathway in which force is generated within s...</td>\n",
       "      <td>None</td>\n",
       "      <td>R-HSA-390522</td>\n",
       "    </tr>\n",
       "    <tr>\n",
       "      <th>2676</th>\n",
       "      <td>PW:0002684</td>\n",
       "      <td>smooth muscle contraction pathway</td>\n",
       "      <td>A pathway in which force is generated within s...</td>\n",
       "      <td>None</td>\n",
       "      <td>R-HSA-445355</td>\n",
       "    </tr>\n",
       "  </tbody>\n",
       "</table>\n",
       "<p>2677 rows × 5 columns</p>\n",
       "</div>"
      ],
      "text/plain": [
       "              id                                            PO_Name  \\\n",
       "0     PW:0000001                                            pathway   \n",
       "1     PW:0000002                          classic metabolic pathway   \n",
       "2     PW:0000003                                  signaling pathway   \n",
       "3     PW:0000004                                 regulatory pathway   \n",
       "4     PW:0000005                     carbohydrate metabolic pathway   \n",
       "...          ...                                                ...   \n",
       "2672  PW:0002680                         NADPH regeneration pathway   \n",
       "2673  PW:0002681  very long-chain fatty acid beta degradation pa...   \n",
       "2674  PW:0002682                         muscle contraction pathway   \n",
       "2675  PW:0002683                striated muscle contraction pathway   \n",
       "2676  PW:0002684                  smooth muscle contraction pathway   \n",
       "\n",
       "                                                    def  KEGG       Reactome  \n",
       "0     A pathway is a set of inter-connected  reactio...  None           None  \n",
       "1     The various, enzyme-controlled, series of reac...  None  R-HSA-1430728  \n",
       "2     The pathways where a signal - hormone, neurotr...  None   R-HSA-162582  \n",
       "3     The pathways that control the processes by whi...  None           None  \n",
       "4     Those metabolic reactions and pathways involve...  None    R-HSA-71387  \n",
       "...                                                 ...   ...            ...  \n",
       "2672  Those metabolic reactions involved in the gene...  None   R-HSA-389542  \n",
       "2673  Fatty acid degradation via beta oxidation, act...  None   R-HSA-390247  \n",
       "2674  A pathway in which force is generated within m...  None   R-HSA-397014  \n",
       "2675  A pathway in which force is generated within s...  None   R-HSA-390522  \n",
       "2676  A pathway in which force is generated within s...  None   R-HSA-445355  \n",
       "\n",
       "[2677 rows x 5 columns]"
      ]
     },
     "execution_count": 12,
     "metadata": {},
     "output_type": "execute_result"
    }
   ],
   "source": [
    "df_po_xref_split = df_po_xref_split.drop(columns=['xref'])\n",
    "df_po_xref_split['Reactome'] = df_po_xref_split['Reactome'].str.replace('Reactome:', '')\n",
    "df_po_xref_split['KEGG'] = df_po_xref_split['KEGG'].str.replace('KEGG:', '')\n",
    "df_po_xref_split['KEGG'] = df_po_xref_split['KEGG'].str.replace('map', '')\n",
    "df_po_xref_split['KEGG'] = df_po_xref_split['KEGG'].apply(lambda x: 'hsa' + x if x != None else None)\n",
    "df_po_xref_split"
   ]
  },
  {
   "cell_type": "code",
   "execution_count": 13,
   "metadata": {},
   "outputs": [
    {
     "data": {
      "application/vnd.microsoft.datawrangler.viewer.v0+json": {
       "columns": [
        {
         "name": "index",
         "rawType": "int64",
         "type": "integer"
        },
        {
         "name": "id",
         "rawType": "object",
         "type": "string"
        },
        {
         "name": "PO_Name",
         "rawType": "object",
         "type": "string"
        },
        {
         "name": "KEGG",
         "rawType": "object",
         "type": "unknown"
        },
        {
         "name": "Reactome",
         "rawType": "object",
         "type": "unknown"
        }
       ],
       "conversionMethod": "pd.DataFrame",
       "ref": "558be193-ac50-4c4b-aedf-aafe710c7c56",
       "rows": [
        [
         "0",
         "PW:0000001",
         "pathway",
         null,
         null
        ],
        [
         "1",
         "PW:0000002",
         "classic metabolic pathway",
         null,
         "R-HSA-1430728"
        ],
        [
         "2",
         "PW:0000003",
         "signaling pathway",
         null,
         "R-HSA-162582"
        ],
        [
         "3",
         "PW:0000004",
         "regulatory pathway",
         null,
         null
        ],
        [
         "4",
         "PW:0000005",
         "carbohydrate metabolic pathway",
         null,
         "R-HSA-71387"
        ],
        [
         "5",
         "PW:0000006",
         "Ras superfamily mediated signaling pathway",
         null,
         null
        ],
        [
         "6",
         "PW:0000007",
         "mitogen activated protein kinase signaling pathway",
         "hsa04010",
         "R-HSA-5683057"
        ],
        [
         "7",
         "PW:0000008",
         "Wnt signaling pathway",
         "hsa04310",
         "R-HSA-195721"
        ],
        [
         "8",
         "PW:0000009",
         "apoptotic cell death pathway",
         "hsa04210",
         "R-HSA-109581"
        ],
        [
         "9",
         "PW:0000010",
         "lipid metabolic pathway",
         null,
         "R-HSA-556833"
        ],
        [
         "10",
         "PW:0000011",
         "amino acid metabolic pathway",
         null,
         null
        ],
        [
         "11",
         "PW:0000012",
         "nucleotide metabolic pathway",
         null,
         "R-HSA-15869"
        ],
        [
         "12",
         "PW:0000013",
         "disease pathway",
         null,
         "R-HSA-1643685"
        ],
        [
         "13",
         "PW:0000014",
         "neurodegenerative pathway",
         null,
         "R-HSA-8863678"
        ],
        [
         "14",
         "PW:0000015",
         "Alzheimer's disease pathway",
         "hsa05010",
         null
        ],
        [
         "15",
         "PW:0000016",
         "amyotrophic lateral sclerosis pathway",
         "hsa05014",
         null
        ],
        [
         "16",
         "PW:0000017",
         "Huntington's disease pathway",
         null,
         null
        ],
        [
         "17",
         "PW:0000018",
         "Parkinson's disease pathway",
         "hsa05012",
         null
        ],
        [
         "18",
         "PW:0000019",
         "prion disease pathway",
         "hsa05020",
         null
        ],
        [
         "19",
         "PW:0000020",
         "cardiovascular system disease pathway",
         null,
         null
        ],
        [
         "20",
         "PW:0000021",
         "hypertension pathway",
         null,
         null
        ],
        [
         "21",
         "PW:0000022",
         "cardiomyopathy pathway",
         null,
         null
        ],
        [
         "22",
         "PW:0000023",
         "immune response pathway",
         null,
         "R-HSA-168256"
        ],
        [
         "23",
         "PW:0000024",
         "inflammatory response pathway",
         null,
         null
        ],
        [
         "24",
         "PW:0000025",
         "glycolysis/gluconeogenesis pathway",
         "hsa00010",
         null
        ],
        [
         "25",
         "PW:0000026",
         "citric acid cycle pathway",
         "hsa00020",
         "R-HSA-71403"
        ],
        [
         "26",
         "PW:0000027",
         "glutamic acid/glutamate metabolic pathway",
         null,
         null
        ],
        [
         "27",
         "PW:0000028",
         "alanine, aspartate and glutamate metabolic pathway",
         null,
         null
        ],
        [
         "28",
         "PW:0000029",
         "fatty acid biosynthetic pathway",
         "hsa00061",
         null
        ],
        [
         "29",
         "PW:0000031",
         "purine metabolic pathway",
         "hsa00230",
         null
        ],
        [
         "30",
         "PW:0000032",
         "pyrimidine metabolic pathway",
         "hsa00240",
         null
        ],
        [
         "31",
         "PW:0000033",
         "energy metabolic pathway",
         null,
         null
        ],
        [
         "32",
         "PW:0000034",
         "electron transport chain pathway",
         null,
         "R-HSA-611105"
        ],
        [
         "33",
         "PW:0000035",
         "ATP biosynthetic pathway",
         null,
         null
        ],
        [
         "34",
         "PW:0000036",
         "nitrogen metabolic pathway",
         "hsa00910",
         null
        ],
        [
         "35",
         "PW:0000037",
         "sulfur metabolic pathway",
         null,
         null
        ],
        [
         "36",
         "PW:0000038",
         "Sterol, vitamin K, vitamine E and cartenoids  biosynthesis",
         null,
         null
        ],
        [
         "37",
         "PW:0000039",
         "bile acid biosynthetic pathway",
         "hsa00120",
         null
        ],
        [
         "38",
         "PW:0000040",
         "steroid hormone biosynthetic pathway",
         null,
         null
        ],
        [
         "39",
         "PW:0000041",
         "fructose and mannose metabolic pathway",
         "hsa00051",
         null
        ],
        [
         "40",
         "PW:0000042",
         "galactose metabolic pathway",
         null,
         null
        ],
        [
         "41",
         "PW:0000043",
         "pyruvate metabolic pathway",
         null,
         "R-HSA-70268"
        ],
        [
         "42",
         "PW:0000044",
         "Duplicated Glutamate Metabolism term",
         null,
         null
        ],
        [
         "43",
         "PW:0000045",
         "pentose phosphate pathway",
         "hsa00030",
         "R-HSA-71336"
        ],
        [
         "44",
         "PW:0000046",
         "inositol metabolic pathway",
         null,
         null
        ],
        [
         "45",
         "PW:0000047",
         "glycine, serine and threonine metabolic pathway",
         null,
         null
        ],
        [
         "46",
         "PW:0000048",
         "methionine cycle/metabolic pathway",
         null,
         null
        ],
        [
         "47",
         "PW:0000049",
         "cysteine metabolic pathway",
         null,
         null
        ],
        [
         "48",
         "PW:0000050",
         "arginine and proline metabolic pathway",
         null,
         null
        ],
        [
         "49",
         "PW:0000051",
         "histidine metabolic pathway",
         "hsa00340",
         null
        ]
       ],
       "shape": {
        "columns": 4,
        "rows": 2677
       }
      },
      "text/html": [
       "<div>\n",
       "<style scoped>\n",
       "    .dataframe tbody tr th:only-of-type {\n",
       "        vertical-align: middle;\n",
       "    }\n",
       "\n",
       "    .dataframe tbody tr th {\n",
       "        vertical-align: top;\n",
       "    }\n",
       "\n",
       "    .dataframe thead th {\n",
       "        text-align: right;\n",
       "    }\n",
       "</style>\n",
       "<table border=\"1\" class=\"dataframe\">\n",
       "  <thead>\n",
       "    <tr style=\"text-align: right;\">\n",
       "      <th></th>\n",
       "      <th>id</th>\n",
       "      <th>PO_Name</th>\n",
       "      <th>KEGG</th>\n",
       "      <th>Reactome</th>\n",
       "    </tr>\n",
       "  </thead>\n",
       "  <tbody>\n",
       "    <tr>\n",
       "      <th>0</th>\n",
       "      <td>PW:0000001</td>\n",
       "      <td>pathway</td>\n",
       "      <td>None</td>\n",
       "      <td>None</td>\n",
       "    </tr>\n",
       "    <tr>\n",
       "      <th>1</th>\n",
       "      <td>PW:0000002</td>\n",
       "      <td>classic metabolic pathway</td>\n",
       "      <td>None</td>\n",
       "      <td>R-HSA-1430728</td>\n",
       "    </tr>\n",
       "    <tr>\n",
       "      <th>2</th>\n",
       "      <td>PW:0000003</td>\n",
       "      <td>signaling pathway</td>\n",
       "      <td>None</td>\n",
       "      <td>R-HSA-162582</td>\n",
       "    </tr>\n",
       "    <tr>\n",
       "      <th>3</th>\n",
       "      <td>PW:0000004</td>\n",
       "      <td>regulatory pathway</td>\n",
       "      <td>None</td>\n",
       "      <td>None</td>\n",
       "    </tr>\n",
       "    <tr>\n",
       "      <th>4</th>\n",
       "      <td>PW:0000005</td>\n",
       "      <td>carbohydrate metabolic pathway</td>\n",
       "      <td>None</td>\n",
       "      <td>R-HSA-71387</td>\n",
       "    </tr>\n",
       "    <tr>\n",
       "      <th>...</th>\n",
       "      <td>...</td>\n",
       "      <td>...</td>\n",
       "      <td>...</td>\n",
       "      <td>...</td>\n",
       "    </tr>\n",
       "    <tr>\n",
       "      <th>2672</th>\n",
       "      <td>PW:0002680</td>\n",
       "      <td>NADPH regeneration pathway</td>\n",
       "      <td>None</td>\n",
       "      <td>R-HSA-389542</td>\n",
       "    </tr>\n",
       "    <tr>\n",
       "      <th>2673</th>\n",
       "      <td>PW:0002681</td>\n",
       "      <td>very long-chain fatty acid beta degradation pa...</td>\n",
       "      <td>None</td>\n",
       "      <td>R-HSA-390247</td>\n",
       "    </tr>\n",
       "    <tr>\n",
       "      <th>2674</th>\n",
       "      <td>PW:0002682</td>\n",
       "      <td>muscle contraction pathway</td>\n",
       "      <td>None</td>\n",
       "      <td>R-HSA-397014</td>\n",
       "    </tr>\n",
       "    <tr>\n",
       "      <th>2675</th>\n",
       "      <td>PW:0002683</td>\n",
       "      <td>striated muscle contraction pathway</td>\n",
       "      <td>None</td>\n",
       "      <td>R-HSA-390522</td>\n",
       "    </tr>\n",
       "    <tr>\n",
       "      <th>2676</th>\n",
       "      <td>PW:0002684</td>\n",
       "      <td>smooth muscle contraction pathway</td>\n",
       "      <td>None</td>\n",
       "      <td>R-HSA-445355</td>\n",
       "    </tr>\n",
       "  </tbody>\n",
       "</table>\n",
       "<p>2677 rows × 4 columns</p>\n",
       "</div>"
      ],
      "text/plain": [
       "              id                                            PO_Name  KEGG  \\\n",
       "0     PW:0000001                                            pathway  None   \n",
       "1     PW:0000002                          classic metabolic pathway  None   \n",
       "2     PW:0000003                                  signaling pathway  None   \n",
       "3     PW:0000004                                 regulatory pathway  None   \n",
       "4     PW:0000005                     carbohydrate metabolic pathway  None   \n",
       "...          ...                                                ...   ...   \n",
       "2672  PW:0002680                         NADPH regeneration pathway  None   \n",
       "2673  PW:0002681  very long-chain fatty acid beta degradation pa...  None   \n",
       "2674  PW:0002682                         muscle contraction pathway  None   \n",
       "2675  PW:0002683                striated muscle contraction pathway  None   \n",
       "2676  PW:0002684                  smooth muscle contraction pathway  None   \n",
       "\n",
       "           Reactome  \n",
       "0              None  \n",
       "1     R-HSA-1430728  \n",
       "2      R-HSA-162582  \n",
       "3              None  \n",
       "4       R-HSA-71387  \n",
       "...             ...  \n",
       "2672   R-HSA-389542  \n",
       "2673   R-HSA-390247  \n",
       "2674   R-HSA-397014  \n",
       "2675   R-HSA-390522  \n",
       "2676   R-HSA-445355  \n",
       "\n",
       "[2677 rows x 4 columns]"
      ]
     },
     "execution_count": 13,
     "metadata": {},
     "output_type": "execute_result"
    }
   ],
   "source": [
    "import re\n",
    "\n",
    "# Define a function to check if the KEGG entry is in the correct format\n",
    "def validate_kegg(kegg_entry):\n",
    "    if pd.isna(kegg_entry):\n",
    "        return kegg_entry\n",
    "    elif re.match(r'^[a-z]{3}\\d{5}$', kegg_entry):\n",
    "        return kegg_entry\n",
    "    else:\n",
    "        return None\n",
    "\n",
    "# Apply the function to the KEGG column\n",
    "df_po_xref_split['KEGG'] = df_po_xref_split['KEGG'].apply(validate_kegg)\n",
    "df_po_xref_split = df_po_xref_split.drop(columns=['def'])\n",
    "df_po_xref_split"
   ]
  },
  {
   "cell_type": "markdown",
   "metadata": {},
   "source": [
    "### 2.5 ComPath"
   ]
  },
  {
   "cell_type": "code",
   "execution_count": 19,
   "metadata": {},
   "outputs": [
    {
     "data": {
      "application/vnd.microsoft.datawrangler.viewer.v0+json": {
       "columns": [
        {
         "name": "index",
         "rawType": "int64",
         "type": "integer"
        },
        {
         "name": "name1",
         "rawType": "object",
         "type": "string"
        },
        {
         "name": "id1",
         "rawType": "object",
         "type": "string"
        },
        {
         "name": "source1",
         "rawType": "object",
         "type": "string"
        },
        {
         "name": "relation",
         "rawType": "object",
         "type": "string"
        },
        {
         "name": "name2",
         "rawType": "object",
         "type": "string"
        },
        {
         "name": "id2",
         "rawType": "object",
         "type": "string"
        },
        {
         "name": "source2",
         "rawType": "object",
         "type": "string"
        }
       ],
       "conversionMethod": "pd.DataFrame",
       "ref": "cc03d6ea-d534-4122-91fc-1aed1bf213f7",
       "rows": [
        [
         "0",
         "2-Oxocarboxylic acid metabolism - Homo sapiens (human)",
         "hsa01210",
         "kegg",
         "isPartOf",
         "Amino Acid metabolism",
         "WP3925",
         "wikipathways"
        ],
        [
         "1",
         "AMPK signaling pathway - Homo sapiens (human)",
         "hsa04152",
         "kegg",
         "equivalentTo",
         "AMP-activated Protein Kinase (AMPK) Signaling",
         "WP1403",
         "wikipathways"
        ],
        [
         "2",
         "Leptin and adiponectin",
         "WP3934",
         "wikipathways",
         "isPartOf",
         "Adipocytokine signaling pathway - Homo sapiens (human)",
         "hsa04920",
         "kegg"
        ],
        [
         "3",
         "Alanine, aspartate and glutamate metabolism - Homo sapiens (human)",
         "hsa00250",
         "kegg",
         "isPartOf",
         "Amino Acid metabolism",
         "WP3925",
         "wikipathways"
        ],
        [
         "4",
         "Alanine and aspartate metabolism",
         "WP106",
         "wikipathways",
         "isPartOf",
         "Alanine, aspartate and glutamate metabolism - Homo sapiens (human)",
         "hsa00250",
         "kegg"
        ],
        [
         "5",
         "Alcoholism - Homo sapiens (human)",
         "hsa05034",
         "kegg",
         "isPartOf",
         "Common Pathways Underlying Drug Addiction",
         "WP2636",
         "wikipathways"
        ],
        [
         "6",
         "Aldosterone synthesis and secretion - Homo sapiens (human)",
         "hsa04925",
         "kegg",
         "isPartOf",
         "Glucocorticoid and Mineralcorticoid Metabolism",
         "WP237",
         "wikipathways"
        ],
        [
         "7",
         "Allograft rejection - Homo sapiens (human)",
         "hsa05330",
         "kegg",
         "equivalentTo",
         "Allograft Rejection",
         "WP2328",
         "wikipathways"
        ],
        [
         "8",
         "Alzheimer disease - Homo sapiens (human)",
         "hsa05010",
         "kegg",
         "equivalentTo",
         "Alzheimers Disease",
         "WP2059",
         "wikipathways"
        ],
        [
         "9",
         "Amphetamine addiction - Homo sapiens (human)",
         "hsa05031",
         "kegg",
         "isPartOf",
         "Common Pathways Underlying Drug Addiction",
         "WP2636",
         "wikipathways"
        ],
        [
         "10",
         "Amyotrophic lateral sclerosis (ALS) - Homo sapiens (human)",
         "hsa05014",
         "kegg",
         "equivalentTo",
         "Amyotrophic lateral sclerosis (ALS)",
         "WP2447",
         "wikipathways"
        ],
        [
         "11",
         "Apoptosis - Homo sapiens (human)",
         "hsa04210",
         "kegg",
         "equivalentTo",
         "Apoptosis",
         "WP254",
         "wikipathways"
        ],
        [
         "12",
         "Apoptosis Modulation by HSP70",
         "WP384",
         "wikipathways",
         "isPartOf",
         "Apoptosis - Homo sapiens (human)",
         "hsa04210",
         "kegg"
        ],
        [
         "13",
         "Nanomaterial induced apoptosis",
         "WP2507",
         "wikipathways",
         "isPartOf",
         "Apoptosis - Homo sapiens (human)",
         "hsa04210",
         "kegg"
        ],
        [
         "14",
         "Apoptosis Modulation and Signaling",
         "WP1772",
         "wikipathways",
         "isPartOf",
         "Apoptosis - Homo sapiens (human)",
         "hsa04210",
         "kegg"
        ],
        [
         "15",
         "Nanomaterial induced apoptosis",
         "WP2507",
         "wikipathways",
         "isPartOf",
         "Apoptosis - multiple species - Homo sapiens (human)",
         "hsa04215",
         "kegg"
        ],
        [
         "16",
         "Apoptosis Modulation by HSP70",
         "WP384",
         "wikipathways",
         "isPartOf",
         "Apoptosis - multiple species - Homo sapiens (human)",
         "hsa04215",
         "kegg"
        ],
        [
         "17",
         "Apoptosis Modulation and Signaling",
         "WP1772",
         "wikipathways",
         "isPartOf",
         "Apoptosis - multiple species - Homo sapiens (human)",
         "hsa04215",
         "kegg"
        ],
        [
         "18",
         "Arginine and proline metabolism - Homo sapiens (human)",
         "hsa00330",
         "kegg",
         "isPartOf",
         "Amino Acid metabolism",
         "WP3925",
         "wikipathways"
        ],
        [
         "19",
         "Arginine and proline metabolism - Homo sapiens (human)",
         "hsa00330",
         "kegg",
         "isPartOf",
         "Urea cycle and metabolism of amino groups",
         "WP497",
         "wikipathways"
        ],
        [
         "20",
         "Arginine biosynthesis - Homo sapiens (human)",
         "hsa00220",
         "kegg",
         "isPartOf",
         "Amino Acid metabolism",
         "WP3925",
         "wikipathways"
        ],
        [
         "21",
         "Arginine biosynthesis - Homo sapiens (human)",
         "hsa00220",
         "kegg",
         "isPartOf",
         "Urea cycle and metabolism of amino groups",
         "WP497",
         "wikipathways"
        ],
        [
         "22",
         "Arrhythmogenic right ventricular cardiomyopathy (ARVC) - Homo sapiens (human)",
         "hsa05412",
         "kegg",
         "equivalentTo",
         "Arrhythmogenic Right Ventricular Cardiomyopathy",
         "WP2118",
         "wikipathways"
        ],
        [
         "23",
         "B cell receptor signaling pathway - Homo sapiens (human)",
         "hsa04662",
         "kegg",
         "equivalentTo",
         "B Cell Receptor Signaling Pathway",
         "WP23",
         "wikipathways"
        ],
        [
         "24",
         "Eukaryotic Transcription Initiation",
         "WP405",
         "wikipathways",
         "isPartOf",
         "Basal transcription factors - Homo sapiens (human)",
         "hsa03022",
         "kegg"
        ],
        [
         "25",
         "Drug Induction of Bile Acid Pathway",
         "WP2289",
         "wikipathways",
         "isPartOf",
         "Bile secretion - Homo sapiens (human)",
         "hsa04976",
         "kegg"
        ],
        [
         "26",
         "Alanine and aspartate metabolism",
         "WP106",
         "wikipathways",
         "isPartOf",
         "Biosynthesis of amino acids - Homo sapiens (human)",
         "hsa01230",
         "kegg"
        ],
        [
         "27",
         "Urea cycle and metabolism of amino groups",
         "WP497",
         "wikipathways",
         "isPartOf",
         "Biosynthesis of amino acids - Homo sapiens (human)",
         "hsa01230",
         "kegg"
        ],
        [
         "28",
         "Biosynthesis of unsaturated fatty acids - Homo sapiens (human)",
         "hsa01040",
         "kegg",
         "isPartOf",
         "Fatty Acid Biosynthesis",
         "WP357",
         "wikipathways"
        ],
        [
         "29",
         "Bladder cancer - Homo sapiens (human)",
         "hsa05219",
         "kegg",
         "equivalentTo",
         "Bladder Cancer",
         "WP2828",
         "wikipathways"
        ],
        [
         "30",
         "Caffeine metabolism - Homo sapiens (human)",
         "hsa00232",
         "kegg",
         "isPartOf",
         "Caffeine and Theobromine metabolism",
         "WP3633",
         "wikipathways"
        ],
        [
         "31",
         "Cori Cycle",
         "WP1946",
         "wikipathways",
         "isPartOf",
         "Carbon metabolism - Homo sapiens (human)",
         "hsa01200",
         "kegg"
        ],
        [
         "32",
         "Pentose Phosphate Pathway",
         "WP134",
         "wikipathways",
         "isPartOf",
         "Carbon metabolism - Homo sapiens (human)",
         "hsa01200",
         "kegg"
        ],
        [
         "33",
         "Glycolysis and Gluconeogenesis",
         "WP534",
         "wikipathways",
         "isPartOf",
         "Carbon metabolism - Homo sapiens (human)",
         "hsa01200",
         "kegg"
        ],
        [
         "34",
         "TCA Cycle",
         "WP78",
         "wikipathways",
         "isPartOf",
         "Carbon metabolism - Homo sapiens (human)",
         "hsa01200",
         "kegg"
        ],
        [
         "35",
         "One Carbon Metabolism",
         "WP241",
         "wikipathways",
         "isPartOf",
         "Carbon metabolism - Homo sapiens (human)",
         "hsa01200",
         "kegg"
        ],
        [
         "36",
         "Cell cycle - Homo sapiens (human)",
         "hsa04110",
         "kegg",
         "equivalentTo",
         "Cell Cycle",
         "WP179",
         "wikipathways"
        ],
        [
         "37",
         "G1 to S cell cycle control",
         "WP45",
         "wikipathways",
         "isPartOf",
         "Cell cycle - Homo sapiens (human)",
         "hsa04110",
         "kegg"
        ],
        [
         "38",
         "Chemokine signaling pathway - Homo sapiens (human)",
         "hsa04062",
         "kegg",
         "equivalentTo",
         "Chemokine signaling pathway",
         "WP3929",
         "wikipathways"
        ],
        [
         "39",
         "Cholesterol Biosynthesis",
         "WP197",
         "wikipathways",
         "isPartOf",
         "Cholesterol metabolism - Homo sapiens (human)",
         "hsa04979",
         "kegg"
        ],
        [
         "40",
         "Imatinib and Chronic Myeloid Leukemia",
         "WP3640",
         "wikipathways",
         "isPartOf",
         "Chronic myeloid leukemia - Homo sapiens (human)",
         "hsa05220",
         "kegg"
        ],
        [
         "41",
         "Circadian rythm related genes",
         "WP3594",
         "wikipathways",
         "isPartOf",
         "Circadian rhythm - Homo sapiens (human)",
         "hsa04710",
         "kegg"
        ],
        [
         "42",
         "Citrate cycle (TCA cycle) - Homo sapiens (human)",
         "hsa00020",
         "kegg",
         "equivalentTo",
         "TCA Cycle",
         "WP78",
         "wikipathways"
        ],
        [
         "43",
         "TCA Cycle and Deficiency of Pyruvate Dehydrogenase complex (PDHc)",
         "WP2453",
         "wikipathways",
         "isPartOf",
         "Citrate cycle (TCA cycle) - Homo sapiens (human)",
         "hsa00020",
         "kegg"
        ],
        [
         "44",
         "Cocaine addiction - Homo sapiens (human)",
         "hsa05030",
         "kegg",
         "isPartOf",
         "Common Pathways Underlying Drug Addiction",
         "WP2636",
         "wikipathways"
        ],
        [
         "45",
         "Complement and coagulation cascades - Homo sapiens (human)",
         "hsa04610",
         "kegg",
         "equivalentTo",
         "Complement and Coagulation Cascades",
         "WP558",
         "wikipathways"
        ],
        [
         "46",
         "Complement Activation",
         "WP545",
         "wikipathways",
         "isPartOf",
         "Complement and coagulation cascades - Homo sapiens (human)",
         "hsa04610",
         "kegg"
        ],
        [
         "47",
         "Cortisol synthesis and secretion - Homo sapiens (human)",
         "hsa04927",
         "kegg",
         "isPartOf",
         "Glucocorticoid and Mineralcorticoid Metabolism",
         "WP237",
         "wikipathways"
        ],
        [
         "48",
         "Cysteine and methionine metabolism - Homo sapiens (human)",
         "hsa00270",
         "kegg",
         "isPartOf",
         "Amino Acid metabolism",
         "WP3925",
         "wikipathways"
        ],
        [
         "49",
         "Methionine De Novo and Salvage Pathway",
         "WP3580",
         "wikipathways",
         "isPartOf",
         "Cysteine and methionine metabolism - Homo sapiens (human)",
         "hsa00270",
         "kegg"
        ]
       ],
       "shape": {
        "columns": 7,
        "rows": 1592
       }
      },
      "text/html": [
       "<div>\n",
       "<style scoped>\n",
       "    .dataframe tbody tr th:only-of-type {\n",
       "        vertical-align: middle;\n",
       "    }\n",
       "\n",
       "    .dataframe tbody tr th {\n",
       "        vertical-align: top;\n",
       "    }\n",
       "\n",
       "    .dataframe thead th {\n",
       "        text-align: right;\n",
       "    }\n",
       "</style>\n",
       "<table border=\"1\" class=\"dataframe\">\n",
       "  <thead>\n",
       "    <tr style=\"text-align: right;\">\n",
       "      <th></th>\n",
       "      <th>name1</th>\n",
       "      <th>id1</th>\n",
       "      <th>source1</th>\n",
       "      <th>relation</th>\n",
       "      <th>name2</th>\n",
       "      <th>id2</th>\n",
       "      <th>source2</th>\n",
       "    </tr>\n",
       "  </thead>\n",
       "  <tbody>\n",
       "    <tr>\n",
       "      <th>0</th>\n",
       "      <td>2-Oxocarboxylic acid metabolism - Homo sapiens...</td>\n",
       "      <td>hsa01210</td>\n",
       "      <td>kegg</td>\n",
       "      <td>isPartOf</td>\n",
       "      <td>Amino Acid metabolism</td>\n",
       "      <td>WP3925</td>\n",
       "      <td>wikipathways</td>\n",
       "    </tr>\n",
       "    <tr>\n",
       "      <th>1</th>\n",
       "      <td>AMPK signaling pathway - Homo sapiens (human)</td>\n",
       "      <td>hsa04152</td>\n",
       "      <td>kegg</td>\n",
       "      <td>equivalentTo</td>\n",
       "      <td>AMP-activated Protein Kinase (AMPK) Signaling</td>\n",
       "      <td>WP1403</td>\n",
       "      <td>wikipathways</td>\n",
       "    </tr>\n",
       "    <tr>\n",
       "      <th>2</th>\n",
       "      <td>Leptin and adiponectin</td>\n",
       "      <td>WP3934</td>\n",
       "      <td>wikipathways</td>\n",
       "      <td>isPartOf</td>\n",
       "      <td>Adipocytokine signaling pathway - Homo sapiens...</td>\n",
       "      <td>hsa04920</td>\n",
       "      <td>kegg</td>\n",
       "    </tr>\n",
       "    <tr>\n",
       "      <th>3</th>\n",
       "      <td>Alanine, aspartate and glutamate metabolism - ...</td>\n",
       "      <td>hsa00250</td>\n",
       "      <td>kegg</td>\n",
       "      <td>isPartOf</td>\n",
       "      <td>Amino Acid metabolism</td>\n",
       "      <td>WP3925</td>\n",
       "      <td>wikipathways</td>\n",
       "    </tr>\n",
       "    <tr>\n",
       "      <th>4</th>\n",
       "      <td>Alanine and aspartate metabolism</td>\n",
       "      <td>WP106</td>\n",
       "      <td>wikipathways</td>\n",
       "      <td>isPartOf</td>\n",
       "      <td>Alanine, aspartate and glutamate metabolism - ...</td>\n",
       "      <td>hsa00250</td>\n",
       "      <td>kegg</td>\n",
       "    </tr>\n",
       "    <tr>\n",
       "      <th>...</th>\n",
       "      <td>...</td>\n",
       "      <td>...</td>\n",
       "      <td>...</td>\n",
       "      <td>...</td>\n",
       "      <td>...</td>\n",
       "      <td>...</td>\n",
       "      <td>...</td>\n",
       "    </tr>\n",
       "    <tr>\n",
       "      <th>1587</th>\n",
       "      <td>GPCRs, Class B Secretin-like</td>\n",
       "      <td>WP334</td>\n",
       "      <td>wikipathways</td>\n",
       "      <td>isPartOf</td>\n",
       "      <td>GPCRs, Other</td>\n",
       "      <td>WP117</td>\n",
       "      <td>wikipathways</td>\n",
       "    </tr>\n",
       "    <tr>\n",
       "      <th>1588</th>\n",
       "      <td>Monoamine GPCRs</td>\n",
       "      <td>WP58</td>\n",
       "      <td>wikipathways</td>\n",
       "      <td>isPartOf</td>\n",
       "      <td>GPCRs, Class A Rhodopsin-like</td>\n",
       "      <td>WP455</td>\n",
       "      <td>wikipathways</td>\n",
       "    </tr>\n",
       "    <tr>\n",
       "      <th>1589</th>\n",
       "      <td>MAPK Cascade</td>\n",
       "      <td>WP422</td>\n",
       "      <td>wikipathways</td>\n",
       "      <td>isPartOf</td>\n",
       "      <td>MAPK Signaling Pathway</td>\n",
       "      <td>WP382</td>\n",
       "      <td>wikipathways</td>\n",
       "    </tr>\n",
       "    <tr>\n",
       "      <th>1590</th>\n",
       "      <td>Aryl Hydrocarbon Receptor</td>\n",
       "      <td>WP2586</td>\n",
       "      <td>wikipathways</td>\n",
       "      <td>equivalentTo</td>\n",
       "      <td>Aryl Hydrocarbon Receptor Pathway</td>\n",
       "      <td>WP2873</td>\n",
       "      <td>wikipathways</td>\n",
       "    </tr>\n",
       "    <tr>\n",
       "      <th>1591</th>\n",
       "      <td>Apoptosis - Homo sapiens (human)</td>\n",
       "      <td>hsa04210</td>\n",
       "      <td>kegg</td>\n",
       "      <td>equivalentTo</td>\n",
       "      <td>Apoptosis - multiple species - Homo sapiens (h...</td>\n",
       "      <td>hsa04215</td>\n",
       "      <td>kegg</td>\n",
       "    </tr>\n",
       "  </tbody>\n",
       "</table>\n",
       "<p>1592 rows × 7 columns</p>\n",
       "</div>"
      ],
      "text/plain": [
       "                                                  name1       id1  \\\n",
       "0     2-Oxocarboxylic acid metabolism - Homo sapiens...  hsa01210   \n",
       "1         AMPK signaling pathway - Homo sapiens (human)  hsa04152   \n",
       "2                                Leptin and adiponectin    WP3934   \n",
       "3     Alanine, aspartate and glutamate metabolism - ...  hsa00250   \n",
       "4                      Alanine and aspartate metabolism     WP106   \n",
       "...                                                 ...       ...   \n",
       "1587                       GPCRs, Class B Secretin-like     WP334   \n",
       "1588                                    Monoamine GPCRs      WP58   \n",
       "1589                                       MAPK Cascade     WP422   \n",
       "1590                          Aryl Hydrocarbon Receptor    WP2586   \n",
       "1591                   Apoptosis - Homo sapiens (human)  hsa04210   \n",
       "\n",
       "           source1      relation  \\\n",
       "0             kegg      isPartOf   \n",
       "1             kegg  equivalentTo   \n",
       "2     wikipathways      isPartOf   \n",
       "3             kegg      isPartOf   \n",
       "4     wikipathways      isPartOf   \n",
       "...            ...           ...   \n",
       "1587  wikipathways      isPartOf   \n",
       "1588  wikipathways      isPartOf   \n",
       "1589  wikipathways      isPartOf   \n",
       "1590  wikipathways  equivalentTo   \n",
       "1591          kegg  equivalentTo   \n",
       "\n",
       "                                                  name2       id2  \\\n",
       "0                                 Amino Acid metabolism    WP3925   \n",
       "1         AMP-activated Protein Kinase (AMPK) Signaling    WP1403   \n",
       "2     Adipocytokine signaling pathway - Homo sapiens...  hsa04920   \n",
       "3                                 Amino Acid metabolism    WP3925   \n",
       "4     Alanine, aspartate and glutamate metabolism - ...  hsa00250   \n",
       "...                                                 ...       ...   \n",
       "1587                                       GPCRs, Other     WP117   \n",
       "1588                      GPCRs, Class A Rhodopsin-like     WP455   \n",
       "1589                             MAPK Signaling Pathway     WP382   \n",
       "1590                  Aryl Hydrocarbon Receptor Pathway    WP2873   \n",
       "1591  Apoptosis - multiple species - Homo sapiens (h...  hsa04215   \n",
       "\n",
       "           source2  \n",
       "0     wikipathways  \n",
       "1     wikipathways  \n",
       "2             kegg  \n",
       "3     wikipathways  \n",
       "4             kegg  \n",
       "...            ...  \n",
       "1587  wikipathways  \n",
       "1588  wikipathways  \n",
       "1589  wikipathways  \n",
       "1590  wikipathways  \n",
       "1591          kegg  \n",
       "\n",
       "[1592 rows x 7 columns]"
      ]
     },
     "execution_count": 19,
     "metadata": {},
     "output_type": "execute_result"
    }
   ],
   "source": [
    "# https://compath.scai.fraunhofer.de/export_mappings \n",
    "df_mapping = pd.read_csv('curated_mappings.tsv', sep='\\t', header=None, names=['name1', 'id1', 'source1', 'relation', 'name2', 'id2', 'source2'])\n",
    "df_mapping['id1'] = df_mapping['id1'].str.replace('path:', '')\n",
    "df_mapping['id2'] = df_mapping['id2'].str.replace('path:', '')\n",
    "df_mapping"
   ]
  },
  {
   "cell_type": "code",
   "execution_count": 20,
   "metadata": {},
   "outputs": [
    {
     "data": {
      "application/vnd.microsoft.datawrangler.viewer.v0+json": {
       "columns": [
        {
         "name": "index",
         "rawType": "int64",
         "type": "integer"
        },
        {
         "name": "name1",
         "rawType": "object",
         "type": "string"
        },
        {
         "name": "id1",
         "rawType": "object",
         "type": "string"
        },
        {
         "name": "source1",
         "rawType": "object",
         "type": "string"
        },
        {
         "name": "relation",
         "rawType": "object",
         "type": "string"
        },
        {
         "name": "name2",
         "rawType": "object",
         "type": "string"
        },
        {
         "name": "id2",
         "rawType": "object",
         "type": "string"
        },
        {
         "name": "source2",
         "rawType": "object",
         "type": "string"
        }
       ],
       "conversionMethod": "pd.DataFrame",
       "ref": "818cf90e-ed78-4079-a281-4411babd42d9",
       "rows": [
        [
         "1",
         "AMPK signaling pathway - Homo sapiens (human)",
         "hsa04152",
         "kegg",
         "equivalentTo",
         "AMP-activated Protein Kinase (AMPK) Signaling",
         "WP1403",
         "wikipathways"
        ],
        [
         "7",
         "Allograft rejection - Homo sapiens (human)",
         "hsa05330",
         "kegg",
         "equivalentTo",
         "Allograft Rejection",
         "WP2328",
         "wikipathways"
        ],
        [
         "8",
         "Alzheimer disease - Homo sapiens (human)",
         "hsa05010",
         "kegg",
         "equivalentTo",
         "Alzheimers Disease",
         "WP2059",
         "wikipathways"
        ],
        [
         "10",
         "Amyotrophic lateral sclerosis (ALS) - Homo sapiens (human)",
         "hsa05014",
         "kegg",
         "equivalentTo",
         "Amyotrophic lateral sclerosis (ALS)",
         "WP2447",
         "wikipathways"
        ],
        [
         "11",
         "Apoptosis - Homo sapiens (human)",
         "hsa04210",
         "kegg",
         "equivalentTo",
         "Apoptosis",
         "WP254",
         "wikipathways"
        ],
        [
         "22",
         "Arrhythmogenic right ventricular cardiomyopathy (ARVC) - Homo sapiens (human)",
         "hsa05412",
         "kegg",
         "equivalentTo",
         "Arrhythmogenic Right Ventricular Cardiomyopathy",
         "WP2118",
         "wikipathways"
        ],
        [
         "23",
         "B cell receptor signaling pathway - Homo sapiens (human)",
         "hsa04662",
         "kegg",
         "equivalentTo",
         "B Cell Receptor Signaling Pathway",
         "WP23",
         "wikipathways"
        ],
        [
         "29",
         "Bladder cancer - Homo sapiens (human)",
         "hsa05219",
         "kegg",
         "equivalentTo",
         "Bladder Cancer",
         "WP2828",
         "wikipathways"
        ],
        [
         "36",
         "Cell cycle - Homo sapiens (human)",
         "hsa04110",
         "kegg",
         "equivalentTo",
         "Cell Cycle",
         "WP179",
         "wikipathways"
        ],
        [
         "38",
         "Chemokine signaling pathway - Homo sapiens (human)",
         "hsa04062",
         "kegg",
         "equivalentTo",
         "Chemokine signaling pathway",
         "WP3929",
         "wikipathways"
        ],
        [
         "42",
         "Citrate cycle (TCA cycle) - Homo sapiens (human)",
         "hsa00020",
         "kegg",
         "equivalentTo",
         "TCA Cycle",
         "WP78",
         "wikipathways"
        ],
        [
         "45",
         "Complement and coagulation cascades - Homo sapiens (human)",
         "hsa04610",
         "kegg",
         "equivalentTo",
         "Complement and Coagulation Cascades",
         "WP558",
         "wikipathways"
        ],
        [
         "52",
         "DNA replication - Homo sapiens (human)",
         "hsa03030",
         "kegg",
         "equivalentTo",
         "DNA Replication",
         "WP466",
         "wikipathways"
        ],
        [
         "70",
         "Endometrial cancer - Homo sapiens (human)",
         "hsa05213",
         "kegg",
         "equivalentTo",
         "Endometrial cancer",
         "WP4155",
         "wikipathways"
        ],
        [
         "71",
         "ErbB signaling pathway - Homo sapiens (human)",
         "hsa04012",
         "kegg",
         "equivalentTo",
         "ErbB Signaling Pathway",
         "WP673",
         "wikipathways"
        ],
        [
         "72",
         "Estrogen signaling pathway - Homo sapiens (human)",
         "hsa04915",
         "kegg",
         "equivalentTo",
         "Estrogen signaling pathway",
         "WP712",
         "wikipathways"
        ],
        [
         "73",
         "Fatty acid biosynthesis - Homo sapiens (human)",
         "hsa00061",
         "kegg",
         "equivalentTo",
         "Fatty Acid Biosynthesis",
         "WP357",
         "wikipathways"
        ],
        [
         "82",
         "Focal adhesion - Homo sapiens (human)",
         "hsa04510",
         "kegg",
         "equivalentTo",
         "Focal Adhesion",
         "WP306",
         "wikipathways"
        ],
        [
         "85",
         "Gastric acid secretion - Homo sapiens (human)",
         "hsa04971",
         "kegg",
         "equivalentTo",
         "Secretion of Hydrochloric Acid in Parietal Cells",
         "WP2597",
         "wikipathways"
        ],
        [
         "91",
         "Glutathione metabolism - Homo sapiens (human)",
         "hsa00480",
         "kegg",
         "equivalentTo",
         "Glutathione metabolism",
         "WP100",
         "wikipathways"
        ],
        [
         "99",
         "Glycolysis / Gluconeogenesis - Homo sapiens (human)",
         "hsa00010",
         "kegg",
         "equivalentTo",
         "Glycolysis and Gluconeogenesis",
         "WP534",
         "wikipathways"
        ],
        [
         "103",
         "Hedgehog signaling pathway - Homo sapiens (human)",
         "hsa04340",
         "kegg",
         "equivalentTo",
         "Hedgehog Signaling Pathway",
         "WP47",
         "wikipathways"
        ],
        [
         "106",
         "Homologous recombination - Homo sapiens (human)",
         "hsa03440",
         "kegg",
         "equivalentTo",
         "Homologous recombination",
         "WP186",
         "wikipathways"
        ],
        [
         "108",
         "IL-17 signaling pathway - Homo sapiens (human)",
         "hsa04657",
         "kegg",
         "equivalentTo",
         "IL17 signaling pathway",
         "WP2112",
         "wikipathways"
        ],
        [
         "115",
         "MAPK signaling pathway - Homo sapiens (human)",
         "hsa04010",
         "kegg",
         "equivalentTo",
         "MAPK Signaling Pathway",
         "WP382",
         "wikipathways"
        ],
        [
         "197",
         "Mismatch repair - Homo sapiens (human)",
         "hsa03430",
         "kegg",
         "equivalentTo",
         "Mismatch repair",
         "WP531",
         "wikipathways"
        ],
        [
         "213",
         "Non-homologous end-joining - Homo sapiens (human)",
         "hsa03450",
         "kegg",
         "equivalentTo",
         "Non-homologous end joining",
         "WP438",
         "wikipathways"
        ],
        [
         "214",
         "Notch signaling pathway - Homo sapiens (human)",
         "hsa04330",
         "kegg",
         "equivalentTo",
         "Notch Signaling Pathway",
         "WP61",
         "wikipathways"
        ],
        [
         "215",
         "Notch signaling pathway - Homo sapiens (human)",
         "hsa04330",
         "kegg",
         "equivalentTo",
         "Canonical  and Non-canonical Notch signaling",
         "WP3845",
         "wikipathways"
        ],
        [
         "223",
         "Oxidative phosphorylation - Homo sapiens (human)",
         "hsa00190",
         "kegg",
         "equivalentTo",
         "Oxidative phosphorylation",
         "WP623",
         "wikipathways"
        ],
        [
         "224",
         "Oxytocin signaling pathway - Homo sapiens (human)",
         "hsa04921",
         "kegg",
         "equivalentTo",
         "Oxytocin signaling",
         "WP2889",
         "wikipathways"
        ],
        [
         "225",
         "PI3K-Akt signaling pathway - Homo sapiens (human)",
         "hsa04151",
         "kegg",
         "equivalentTo",
         "PI3K-Akt Signaling Pathway",
         "WP4172",
         "wikipathways"
        ],
        [
         "226",
         "PPAR signaling pathway - Homo sapiens (human)",
         "hsa03320",
         "kegg",
         "equivalentTo",
         "PPAR signaling pathway",
         "WP3942",
         "wikipathways"
        ],
        [
         "228",
         "Parkinson disease - Homo sapiens (human)",
         "hsa05012",
         "kegg",
         "equivalentTo",
         "Parkinsons Disease Pathway",
         "WP2371",
         "wikipathways"
        ],
        [
         "229",
         "Pathogenic Escherichia coli infection - Homo sapiens (human)",
         "hsa05130",
         "kegg",
         "equivalentTo",
         "Pathogenic Escherichia coli infection",
         "WP2272",
         "wikipathways"
        ],
        [
         "234",
         "Pentose phosphate pathway - Homo sapiens (human)",
         "hsa00030",
         "kegg",
         "equivalentTo",
         "Pentose Phosphate Pathway",
         "WP134",
         "wikipathways"
        ],
        [
         "240",
         "Prion diseases - Homo sapiens (human)",
         "hsa05020",
         "kegg",
         "equivalentTo",
         "Prion disease pathway",
         "WP3995",
         "wikipathways"
        ],
        [
         "241",
         "Prolactin signaling pathway - Homo sapiens (human)",
         "hsa04917",
         "kegg",
         "equivalentTo",
         "Prolactin Signaling Pathway",
         "WP2037",
         "wikipathways"
        ],
        [
         "242",
         "Proteasome - Homo sapiens (human)",
         "hsa03050",
         "kegg",
         "equivalentTo",
         "Proteasome Degradation",
         "WP183",
         "wikipathways"
        ],
        [
         "247",
         "Pyrimidine metabolism - Homo sapiens (human)",
         "hsa00240",
         "kegg",
         "equivalentTo",
         "Pyrimidine metabolism",
         "WP4022",
         "wikipathways"
        ],
        [
         "248",
         "RIG-I-like receptor signaling pathway - Homo sapiens (human)",
         "hsa04622",
         "kegg",
         "equivalentTo",
         "RIG-I-like Receptor Signaling",
         "WP3865",
         "wikipathways"
        ],
        [
         "250",
         "Regulation of actin cytoskeleton - Homo sapiens (human)",
         "hsa04810",
         "kegg",
         "equivalentTo",
         "Regulation of Actin Cytoskeleton",
         "WP51",
         "wikipathways"
        ],
        [
         "257",
         "Selenocompound metabolism - Homo sapiens (human)",
         "hsa00450",
         "kegg",
         "equivalentTo",
         "Selenium Metabolism and Selenoproteins",
         "WP28",
         "wikipathways"
        ],
        [
         "261",
         "Sphingolipid metabolism - Homo sapiens (human)",
         "hsa00600",
         "kegg",
         "equivalentTo",
         "Sphingolipid Metabolism",
         "WP1422",
         "wikipathways"
        ],
        [
         "265",
         "Steroid biosynthesis - Homo sapiens (human)",
         "hsa00100",
         "kegg",
         "equivalentTo",
         "Steroid Biosynthesis",
         "WP496",
         "wikipathways"
        ],
        [
         "268",
         "Synaptic vesicle cycle - Homo sapiens (human)",
         "hsa04721",
         "kegg",
         "equivalentTo",
         "Synaptic Vesicle Pathway",
         "WP2267",
         "wikipathways"
        ],
        [
         "269",
         "Synthesis and degradation of ketone bodies - Homo sapiens (human)",
         "hsa00072",
         "kegg",
         "equivalentTo",
         "Synthesis and Degradation of Ketone Bodies",
         "WP311",
         "wikipathways"
        ],
        [
         "272",
         "TGF-beta signaling pathway - Homo sapiens (human)",
         "hsa04350",
         "kegg",
         "equivalentTo",
         "TGF-beta Signaling Pathway",
         "WP366",
         "wikipathways"
        ],
        [
         "275",
         "Thyroid hormone synthesis - Homo sapiens (human)",
         "hsa04918",
         "kegg",
         "equivalentTo",
         "Thyroxine (Thyroid Hormone) Production",
         "WP1981",
         "wikipathways"
        ],
        [
         "276",
         "Toll-like receptor signaling pathway - Homo sapiens (human)",
         "hsa04620",
         "kegg",
         "equivalentTo",
         "Toll-like Receptor Signaling Pathway",
         "WP75",
         "wikipathways"
        ]
       ],
       "shape": {
        "columns": 7,
        "rows": 177
       }
      },
      "text/html": [
       "<div>\n",
       "<style scoped>\n",
       "    .dataframe tbody tr th:only-of-type {\n",
       "        vertical-align: middle;\n",
       "    }\n",
       "\n",
       "    .dataframe tbody tr th {\n",
       "        vertical-align: top;\n",
       "    }\n",
       "\n",
       "    .dataframe thead th {\n",
       "        text-align: right;\n",
       "    }\n",
       "</style>\n",
       "<table border=\"1\" class=\"dataframe\">\n",
       "  <thead>\n",
       "    <tr style=\"text-align: right;\">\n",
       "      <th></th>\n",
       "      <th>name1</th>\n",
       "      <th>id1</th>\n",
       "      <th>source1</th>\n",
       "      <th>relation</th>\n",
       "      <th>name2</th>\n",
       "      <th>id2</th>\n",
       "      <th>source2</th>\n",
       "    </tr>\n",
       "  </thead>\n",
       "  <tbody>\n",
       "    <tr>\n",
       "      <th>1</th>\n",
       "      <td>AMPK signaling pathway - Homo sapiens (human)</td>\n",
       "      <td>hsa04152</td>\n",
       "      <td>kegg</td>\n",
       "      <td>equivalentTo</td>\n",
       "      <td>AMP-activated Protein Kinase (AMPK) Signaling</td>\n",
       "      <td>WP1403</td>\n",
       "      <td>wikipathways</td>\n",
       "    </tr>\n",
       "    <tr>\n",
       "      <th>7</th>\n",
       "      <td>Allograft rejection - Homo sapiens (human)</td>\n",
       "      <td>hsa05330</td>\n",
       "      <td>kegg</td>\n",
       "      <td>equivalentTo</td>\n",
       "      <td>Allograft Rejection</td>\n",
       "      <td>WP2328</td>\n",
       "      <td>wikipathways</td>\n",
       "    </tr>\n",
       "    <tr>\n",
       "      <th>8</th>\n",
       "      <td>Alzheimer disease - Homo sapiens (human)</td>\n",
       "      <td>hsa05010</td>\n",
       "      <td>kegg</td>\n",
       "      <td>equivalentTo</td>\n",
       "      <td>Alzheimers Disease</td>\n",
       "      <td>WP2059</td>\n",
       "      <td>wikipathways</td>\n",
       "    </tr>\n",
       "    <tr>\n",
       "      <th>10</th>\n",
       "      <td>Amyotrophic lateral sclerosis (ALS) - Homo sap...</td>\n",
       "      <td>hsa05014</td>\n",
       "      <td>kegg</td>\n",
       "      <td>equivalentTo</td>\n",
       "      <td>Amyotrophic lateral sclerosis (ALS)</td>\n",
       "      <td>WP2447</td>\n",
       "      <td>wikipathways</td>\n",
       "    </tr>\n",
       "    <tr>\n",
       "      <th>11</th>\n",
       "      <td>Apoptosis - Homo sapiens (human)</td>\n",
       "      <td>hsa04210</td>\n",
       "      <td>kegg</td>\n",
       "      <td>equivalentTo</td>\n",
       "      <td>Apoptosis</td>\n",
       "      <td>WP254</td>\n",
       "      <td>wikipathways</td>\n",
       "    </tr>\n",
       "    <tr>\n",
       "      <th>...</th>\n",
       "      <td>...</td>\n",
       "      <td>...</td>\n",
       "      <td>...</td>\n",
       "      <td>...</td>\n",
       "      <td>...</td>\n",
       "      <td>...</td>\n",
       "      <td>...</td>\n",
       "    </tr>\n",
       "    <tr>\n",
       "      <th>1546</th>\n",
       "      <td>VEGFA-VEGFR2 Pathway</td>\n",
       "      <td>R-HSA-4420097</td>\n",
       "      <td>reactome</td>\n",
       "      <td>equivalentTo</td>\n",
       "      <td>VEGFA-VEGFR2 Signaling Pathway</td>\n",
       "      <td>WP3888</td>\n",
       "      <td>wikipathways</td>\n",
       "    </tr>\n",
       "    <tr>\n",
       "      <th>1555</th>\n",
       "      <td>Vitamin D (calciferol) metabolism</td>\n",
       "      <td>R-HSA-196791</td>\n",
       "      <td>reactome</td>\n",
       "      <td>equivalentTo</td>\n",
       "      <td>Vitamin D Metabolism</td>\n",
       "      <td>WP1531</td>\n",
       "      <td>wikipathways</td>\n",
       "    </tr>\n",
       "    <tr>\n",
       "      <th>1558</th>\n",
       "      <td>Signaling by WNT</td>\n",
       "      <td>R-HSA-195721</td>\n",
       "      <td>reactome</td>\n",
       "      <td>equivalentTo</td>\n",
       "      <td>Wnt Signaling Pathway</td>\n",
       "      <td>WP428</td>\n",
       "      <td>wikipathways</td>\n",
       "    </tr>\n",
       "    <tr>\n",
       "      <th>1573</th>\n",
       "      <td>MicroRNA (miRNA) biogenesis</td>\n",
       "      <td>R-HSA-203927</td>\n",
       "      <td>reactome</td>\n",
       "      <td>equivalentTo</td>\n",
       "      <td>miRNA Biogenesis</td>\n",
       "      <td>WP2338</td>\n",
       "      <td>wikipathways</td>\n",
       "    </tr>\n",
       "    <tr>\n",
       "      <th>1574</th>\n",
       "      <td>p38MAPK events</td>\n",
       "      <td>R-HSA-171007</td>\n",
       "      <td>reactome</td>\n",
       "      <td>equivalentTo</td>\n",
       "      <td>p38 MAPK Signaling Pathway</td>\n",
       "      <td>WP400</td>\n",
       "      <td>wikipathways</td>\n",
       "    </tr>\n",
       "  </tbody>\n",
       "</table>\n",
       "<p>177 rows × 7 columns</p>\n",
       "</div>"
      ],
      "text/plain": [
       "                                                  name1            id1  \\\n",
       "1         AMPK signaling pathway - Homo sapiens (human)       hsa04152   \n",
       "7            Allograft rejection - Homo sapiens (human)       hsa05330   \n",
       "8              Alzheimer disease - Homo sapiens (human)       hsa05010   \n",
       "10    Amyotrophic lateral sclerosis (ALS) - Homo sap...       hsa05014   \n",
       "11                     Apoptosis - Homo sapiens (human)       hsa04210   \n",
       "...                                                 ...            ...   \n",
       "1546                               VEGFA-VEGFR2 Pathway  R-HSA-4420097   \n",
       "1555                  Vitamin D (calciferol) metabolism   R-HSA-196791   \n",
       "1558                                   Signaling by WNT   R-HSA-195721   \n",
       "1573                        MicroRNA (miRNA) biogenesis   R-HSA-203927   \n",
       "1574                                     p38MAPK events   R-HSA-171007   \n",
       "\n",
       "       source1      relation                                          name2  \\\n",
       "1         kegg  equivalentTo  AMP-activated Protein Kinase (AMPK) Signaling   \n",
       "7         kegg  equivalentTo                            Allograft Rejection   \n",
       "8         kegg  equivalentTo                             Alzheimers Disease   \n",
       "10        kegg  equivalentTo            Amyotrophic lateral sclerosis (ALS)   \n",
       "11        kegg  equivalentTo                                      Apoptosis   \n",
       "...        ...           ...                                            ...   \n",
       "1546  reactome  equivalentTo                 VEGFA-VEGFR2 Signaling Pathway   \n",
       "1555  reactome  equivalentTo                           Vitamin D Metabolism   \n",
       "1558  reactome  equivalentTo                          Wnt Signaling Pathway   \n",
       "1573  reactome  equivalentTo                               miRNA Biogenesis   \n",
       "1574  reactome  equivalentTo                     p38 MAPK Signaling Pathway   \n",
       "\n",
       "         id2       source2  \n",
       "1     WP1403  wikipathways  \n",
       "7     WP2328  wikipathways  \n",
       "8     WP2059  wikipathways  \n",
       "10    WP2447  wikipathways  \n",
       "11     WP254  wikipathways  \n",
       "...      ...           ...  \n",
       "1546  WP3888  wikipathways  \n",
       "1555  WP1531  wikipathways  \n",
       "1558   WP428  wikipathways  \n",
       "1573  WP2338  wikipathways  \n",
       "1574   WP400  wikipathways  \n",
       "\n",
       "[177 rows x 7 columns]"
      ]
     },
     "execution_count": 20,
     "metadata": {},
     "output_type": "execute_result"
    }
   ],
   "source": [
    "df_mapping_equivalent = df_mapping[df_mapping['relation'] == 'equivalentTo']\n",
    "df_mapping_equivalent = df_mapping_equivalent.drop(df_mapping_equivalent[df_mapping_equivalent['source1'] == df_mapping_equivalent['source2']].index)\n",
    "df_mapping_equivalent"
   ]
  },
  {
   "cell_type": "code",
   "execution_count": 21,
   "metadata": {},
   "outputs": [],
   "source": [
    "df_mapping_equivalent_kegg = df_mapping_equivalent[df_mapping_equivalent['source1'] == 'kegg']\n",
    "\n",
    "df_mapping_equivalent_kegg_wiki = df_mapping_equivalent_kegg[df_mapping_equivalent_kegg['source2'] == 'wikipathways']\n",
    "df_mapping_equivalent_kegg_wiki = df_mapping_equivalent_kegg_wiki[['id1', 'id2']]\n",
    "df_mapping_equivalent_kegg_wiki = df_mapping_equivalent_kegg_wiki.rename(columns={'id1': 'kegg_id', 'id2': 'wikipathway_id'})\n",
    "\n",
    "df_mapping_equivalent_kegg_reactome = df_mapping_equivalent_kegg[df_mapping_equivalent_kegg['source2'] == 'reactome']\n",
    "df_mapping_equivalent_kegg_reactome = df_mapping_equivalent_kegg_reactome[['id1', 'id2']]\n",
    "df_mapping_equivalent_kegg_reactome = df_mapping_equivalent_kegg_reactome.rename(columns={'id1': 'kegg_id', 'id2': 'reactome_id'})\n",
    "\n",
    "df_mapping_equivalent_reactome = df_mapping_equivalent[df_mapping_equivalent['source1'] == 'reactome']\n",
    "df_mapping_equivalent_reactome_wiki = df_mapping_equivalent_reactome[['id1', 'id2']]\n",
    "df_mapping_equivalent_reactome_wiki = df_mapping_equivalent_reactome_wiki.rename(columns={'id1': 'reactome_id', 'id2': 'wikipathway_id'})"
   ]
  },
  {
   "cell_type": "markdown",
   "metadata": {},
   "source": [
    "## 3. Merge Data"
   ]
  },
  {
   "cell_type": "code",
   "execution_count": 15,
   "metadata": {},
   "outputs": [],
   "source": [
    "# check duplicates inside the dataframe\n",
    "def merge_column(df, column1, column2, new_column):\n",
    "    df[column1] = df[column1].fillna('')\n",
    "    df[column2] = df[column2].fillna('')\n",
    "    df[new_column] = df.apply(lambda row: f\"{row[column1]} {row[column2]}\".strip(), axis=1)\n",
    "\n",
    "    expanded_rows = df[new_column].str.split(expand=True).stack().reset_index(level=1, drop=True)\n",
    "    expanded_rows.name = new_column\n",
    "\n",
    "    df = df.drop(columns=[new_column]).join(expanded_rows)\n",
    "    df.drop(columns=[column1, column2], inplace=True)\n",
    "    df.drop_duplicates(inplace=True)\n",
    "    \n",
    "    return df\n",
    "\n",
    "def merge_string_columns(df, columns, merge_name, separator=';'):\n",
    "    def merge_strings(row):\n",
    "        combined = set()\n",
    "        for column in columns:\n",
    "            if pd.notnull(row[column]):\n",
    "                combined.update(row[column].split(separator))\n",
    "        return separator.join(combined)\n",
    "    \n",
    "    # Apply the function to each row and create a new column\n",
    "    combined_column_name = merge_name\n",
    "    df[combined_column_name] = df.apply(merge_strings, axis=1)\n",
    "    df.drop(columns=columns, inplace=True)\n",
    "    \n",
    "    return df"
   ]
  },
  {
   "cell_type": "markdown",
   "metadata": {},
   "source": [
    "### 3.1 Pathway Ontology + KEGG"
   ]
  },
  {
   "cell_type": "code",
   "execution_count": 16,
   "metadata": {},
   "outputs": [
    {
     "data": {
      "application/vnd.microsoft.datawrangler.viewer.v0+json": {
       "columns": [
        {
         "name": "index",
         "rawType": "int64",
         "type": "integer"
        },
        {
         "name": "id",
         "rawType": "object",
         "type": "unknown"
        },
        {
         "name": "PO_Name",
         "rawType": "object",
         "type": "unknown"
        },
        {
         "name": "Reactome",
         "rawType": "object",
         "type": "unknown"
        },
        {
         "name": "KEGG_Name",
         "rawType": "object",
         "type": "unknown"
        },
        {
         "name": "KEGG_ID",
         "rawType": "object",
         "type": "unknown"
        }
       ],
       "conversionMethod": "pd.DataFrame",
       "ref": "46c831bf-ca72-4d38-821f-c22cbe467ddc",
       "rows": [
        [
         "0",
         "PW:0000025",
         "glycolysis/gluconeogenesis pathway",
         null,
         "Glycolysis / Gluconeogenesis",
         "hsa00010"
        ],
        [
         "1",
         "PW:0000640",
         "glycolysis pathway",
         "R-HSA-70171",
         "Glycolysis / Gluconeogenesis",
         "hsa00010"
        ],
        [
         "2",
         "PW:0000641",
         "gluconeogenesis pathway",
         "R-HSA-70263",
         "Glycolysis / Gluconeogenesis",
         "hsa00010"
        ],
        [
         "3",
         "PW:0000026",
         "citric acid cycle pathway",
         "R-HSA-71403",
         "Citrate cycle (TCA cycle)",
         "hsa00020"
        ],
        [
         "4",
         "PW:0000045",
         "pentose phosphate pathway",
         "R-HSA-71336",
         "Pentose phosphate pathway",
         "hsa00030"
        ],
        [
         "5",
         null,
         null,
         null,
         "Pentose and glucuronate interconversions",
         "hsa00040"
        ],
        [
         "6",
         "PW:0000041",
         "fructose and mannose metabolic pathway",
         null,
         "Fructose and mannose metabolism",
         "hsa00051"
        ],
        [
         "7",
         null,
         null,
         null,
         "Galactose metabolism",
         "hsa00052"
        ],
        [
         "8",
         "PW:0000062",
         "ascorbate and aldarate metabolic pathway",
         null,
         "Ascorbate and aldarate metabolism",
         "hsa00053"
        ],
        [
         "9",
         "PW:0000029",
         "fatty acid biosynthetic pathway",
         null,
         "Fatty acid biosynthesis",
         "hsa00061"
        ],
        [
         "10",
         "PW:0001136",
         "fatty acid elongation pathway",
         null,
         "Fatty acid elongation",
         "hsa00062"
        ],
        [
         "11",
         "PW:0000058",
         "fatty acid metabolic pathway",
         "R-HSA-8978868",
         "Fatty acid degradation",
         "hsa00071"
        ],
        [
         "12",
         "PW:0000069",
         "ketone bodies metabolic pathway",
         "R-HSA-74182",
         null,
         "hsa00072"
        ],
        [
         "13",
         "PW:0000776",
         "ketone bodies biosynthetic pathway",
         "R-HSA-77111",
         null,
         "hsa00072"
        ],
        [
         "14",
         "PW:0000777",
         "ketone bodies degradation pathway",
         "R-HSA-77108",
         null,
         "hsa00072"
        ],
        [
         "15",
         "PW:0001152",
         "steroid biosynthetic pathway",
         null,
         "Steroid biosynthesis",
         "hsa00100"
        ],
        [
         "16",
         "PW:0000039",
         "bile acid biosynthetic pathway",
         null,
         "Primary bile acid biosynthesis",
         "hsa00120"
        ],
        [
         "17",
         "PW:0001060",
         "primary bile acid biosynthetic pathway",
         null,
         "Primary bile acid biosynthesis",
         "hsa00120"
        ],
        [
         "18",
         "PW:0001061",
         "secondary bile acid biosynthetic pathway",
         null,
         null,
         "hsa00121"
        ],
        [
         "19",
         "PW:0000142",
         "ubiquinone biosynthetic pathway",
         "R-HSA-2142789",
         "Ubiquinone and other terpenoid-quinone biosynthesis",
         "hsa00130"
        ],
        [
         "20",
         "PW:0000070",
         "C21-steroid hormone biosynthetic pathway",
         null,
         "Steroid hormone biosynthesis",
         "hsa00140"
        ],
        [
         "21",
         null,
         null,
         null,
         "Oxidative phosphorylation",
         "hsa00190"
        ],
        [
         "22",
         null,
         null,
         null,
         "Arginine biosynthesis",
         "hsa00220"
        ],
        [
         "23",
         "PW:0000031",
         "purine metabolic pathway",
         null,
         "Purine metabolism",
         "hsa00230"
        ],
        [
         "24",
         "PW:0000260",
         "puromycin biosynthetic pathway",
         null,
         null,
         "hsa00231"
        ],
        [
         "25",
         "PW:0001153",
         "caffeine metabolic pathway",
         null,
         "Caffeine metabolism",
         "hsa00232"
        ],
        [
         "26",
         "PW:0000032",
         "pyrimidine metabolic pathway",
         null,
         "Pyrimidine metabolism",
         "hsa00240"
        ],
        [
         "27",
         null,
         null,
         null,
         "Alanine, aspartate and glutamate metabolism",
         "hsa00250"
        ],
        [
         "28",
         "PW:0000258",
         "tetracycline biosynthetic pathway",
         null,
         null,
         "hsa00253"
        ],
        [
         "29",
         null,
         null,
         null,
         "Glycine, serine and threonine metabolism",
         "hsa00260"
        ],
        [
         "30",
         null,
         null,
         null,
         "Cysteine and methionine metabolism",
         "hsa00270"
        ],
        [
         "31",
         "PW:0000071",
         "valine, leucine and isoleucine degradation pathway",
         "R-HSA-70895",
         "Valine, leucine and isoleucine degradation",
         "hsa00280"
        ],
        [
         "32",
         "PW:0000694",
         "geraniol degradation pathway",
         null,
         null,
         "hsa00281"
        ],
        [
         "33",
         null,
         null,
         null,
         "Valine, leucine and isoleucine biosynthesis",
         "hsa00290"
        ],
        [
         "34",
         "PW:0000074",
         "lysine biosynthetic pathway",
         null,
         null,
         "hsa00300"
        ],
        [
         "35",
         "PW:0000073",
         "lysine degradation pathway",
         "R-HSA-71064",
         "Lysine degradation",
         "hsa00310"
        ],
        [
         "36",
         "PW:0000254",
         "penicillins and cephalosporins biosynthetic pathway",
         null,
         null,
         "hsa00311"
        ],
        [
         "37",
         "PW:0000255",
         "beta-Lactam resistance pathway",
         null,
         null,
         "hsa00312"
        ],
        [
         "38",
         null,
         null,
         null,
         "Arginine and proline metabolism",
         "hsa00330"
        ],
        [
         "39",
         "PW:0000259",
         "clavulanic acid biosynthetic pathway",
         null,
         null,
         "hsa00331"
        ],
        [
         "40",
         "PW:0000051",
         "histidine metabolic pathway",
         null,
         "Histidine metabolism",
         "hsa00340"
        ],
        [
         "41",
         "PW:0000052",
         "tyrosine metabolic pathway",
         null,
         "Tyrosine metabolism",
         "hsa00350"
        ],
        [
         "42",
         "PW:0000053",
         "phenylalanine metabolic pathway",
         "R-HSA-8964208",
         "Phenylalanine metabolism",
         "hsa00360"
        ],
        [
         "43",
         "PW:0000111",
         "gamma-hexachlorocyclohexane degradation pathway",
         null,
         null,
         "hsa00361"
        ],
        [
         "44",
         "PW:0000114",
         "benzoate degradation pathway via hydroxylation",
         null,
         null,
         "hsa00362"
        ],
        [
         "45",
         "PW:0000109",
         "bisphenol A degradation pathway",
         null,
         null,
         "hsa00363"
        ],
        [
         "46",
         "PW:0000054",
         "tryptophan metabolic pathway",
         null,
         "Tryptophan metabolism",
         "hsa00380"
        ],
        [
         "47",
         null,
         null,
         null,
         "Phenylalanine, tyrosine and tryptophan biosynthesis",
         "hsa00400"
        ],
        [
         "48",
         "PW:0000320",
         "novobiocin biosynthetic pathway",
         null,
         null,
         "hsa00401"
        ],
        [
         "49",
         "PW:0000077",
         "beta-alanine metabolic pathway",
         null,
         "beta-Alanine metabolism",
         "hsa00410"
        ]
       ],
       "shape": {
        "columns": 5,
        "rows": 2900
       }
      },
      "text/html": [
       "<div>\n",
       "<style scoped>\n",
       "    .dataframe tbody tr th:only-of-type {\n",
       "        vertical-align: middle;\n",
       "    }\n",
       "\n",
       "    .dataframe tbody tr th {\n",
       "        vertical-align: top;\n",
       "    }\n",
       "\n",
       "    .dataframe thead th {\n",
       "        text-align: right;\n",
       "    }\n",
       "</style>\n",
       "<table border=\"1\" class=\"dataframe\">\n",
       "  <thead>\n",
       "    <tr style=\"text-align: right;\">\n",
       "      <th></th>\n",
       "      <th>id</th>\n",
       "      <th>PO_Name</th>\n",
       "      <th>Reactome</th>\n",
       "      <th>KEGG_Name</th>\n",
       "      <th>KEGG_ID</th>\n",
       "    </tr>\n",
       "  </thead>\n",
       "  <tbody>\n",
       "    <tr>\n",
       "      <th>0</th>\n",
       "      <td>PW:0000025</td>\n",
       "      <td>glycolysis/gluconeogenesis pathway</td>\n",
       "      <td>None</td>\n",
       "      <td>Glycolysis / Gluconeogenesis</td>\n",
       "      <td>hsa00010</td>\n",
       "    </tr>\n",
       "    <tr>\n",
       "      <th>1</th>\n",
       "      <td>PW:0000640</td>\n",
       "      <td>glycolysis pathway</td>\n",
       "      <td>R-HSA-70171</td>\n",
       "      <td>Glycolysis / Gluconeogenesis</td>\n",
       "      <td>hsa00010</td>\n",
       "    </tr>\n",
       "    <tr>\n",
       "      <th>2</th>\n",
       "      <td>PW:0000641</td>\n",
       "      <td>gluconeogenesis pathway</td>\n",
       "      <td>R-HSA-70263</td>\n",
       "      <td>Glycolysis / Gluconeogenesis</td>\n",
       "      <td>hsa00010</td>\n",
       "    </tr>\n",
       "    <tr>\n",
       "      <th>3</th>\n",
       "      <td>PW:0000026</td>\n",
       "      <td>citric acid cycle pathway</td>\n",
       "      <td>R-HSA-71403</td>\n",
       "      <td>Citrate cycle (TCA cycle)</td>\n",
       "      <td>hsa00020</td>\n",
       "    </tr>\n",
       "    <tr>\n",
       "      <th>4</th>\n",
       "      <td>PW:0000045</td>\n",
       "      <td>pentose phosphate pathway</td>\n",
       "      <td>R-HSA-71336</td>\n",
       "      <td>Pentose phosphate pathway</td>\n",
       "      <td>hsa00030</td>\n",
       "    </tr>\n",
       "    <tr>\n",
       "      <th>...</th>\n",
       "      <td>...</td>\n",
       "      <td>...</td>\n",
       "      <td>...</td>\n",
       "      <td>...</td>\n",
       "      <td>...</td>\n",
       "    </tr>\n",
       "    <tr>\n",
       "      <th>2895</th>\n",
       "      <td>PW:0002680</td>\n",
       "      <td>NADPH regeneration pathway</td>\n",
       "      <td>R-HSA-389542</td>\n",
       "      <td>NaN</td>\n",
       "      <td>NaN</td>\n",
       "    </tr>\n",
       "    <tr>\n",
       "      <th>2896</th>\n",
       "      <td>PW:0002681</td>\n",
       "      <td>very long-chain fatty acid beta degradation pa...</td>\n",
       "      <td>R-HSA-390247</td>\n",
       "      <td>NaN</td>\n",
       "      <td>NaN</td>\n",
       "    </tr>\n",
       "    <tr>\n",
       "      <th>2897</th>\n",
       "      <td>PW:0002682</td>\n",
       "      <td>muscle contraction pathway</td>\n",
       "      <td>R-HSA-397014</td>\n",
       "      <td>NaN</td>\n",
       "      <td>NaN</td>\n",
       "    </tr>\n",
       "    <tr>\n",
       "      <th>2898</th>\n",
       "      <td>PW:0002683</td>\n",
       "      <td>striated muscle contraction pathway</td>\n",
       "      <td>R-HSA-390522</td>\n",
       "      <td>NaN</td>\n",
       "      <td>NaN</td>\n",
       "    </tr>\n",
       "    <tr>\n",
       "      <th>2899</th>\n",
       "      <td>PW:0002684</td>\n",
       "      <td>smooth muscle contraction pathway</td>\n",
       "      <td>R-HSA-445355</td>\n",
       "      <td>NaN</td>\n",
       "      <td>NaN</td>\n",
       "    </tr>\n",
       "  </tbody>\n",
       "</table>\n",
       "<p>2900 rows × 5 columns</p>\n",
       "</div>"
      ],
      "text/plain": [
       "              id                                            PO_Name  \\\n",
       "0     PW:0000025                 glycolysis/gluconeogenesis pathway   \n",
       "1     PW:0000640                                 glycolysis pathway   \n",
       "2     PW:0000641                            gluconeogenesis pathway   \n",
       "3     PW:0000026                          citric acid cycle pathway   \n",
       "4     PW:0000045                          pentose phosphate pathway   \n",
       "...          ...                                                ...   \n",
       "2895  PW:0002680                         NADPH regeneration pathway   \n",
       "2896  PW:0002681  very long-chain fatty acid beta degradation pa...   \n",
       "2897  PW:0002682                         muscle contraction pathway   \n",
       "2898  PW:0002683                striated muscle contraction pathway   \n",
       "2899  PW:0002684                  smooth muscle contraction pathway   \n",
       "\n",
       "          Reactome                     KEGG_Name   KEGG_ID  \n",
       "0             None  Glycolysis / Gluconeogenesis  hsa00010  \n",
       "1      R-HSA-70171  Glycolysis / Gluconeogenesis  hsa00010  \n",
       "2      R-HSA-70263  Glycolysis / Gluconeogenesis  hsa00010  \n",
       "3      R-HSA-71403     Citrate cycle (TCA cycle)  hsa00020  \n",
       "4      R-HSA-71336     Pentose phosphate pathway  hsa00030  \n",
       "...            ...                           ...       ...  \n",
       "2895  R-HSA-389542                           NaN       NaN  \n",
       "2896  R-HSA-390247                           NaN       NaN  \n",
       "2897  R-HSA-397014                           NaN       NaN  \n",
       "2898  R-HSA-390522                           NaN       NaN  \n",
       "2899  R-HSA-445355                           NaN       NaN  \n",
       "\n",
       "[2900 rows x 5 columns]"
      ]
     },
     "execution_count": 16,
     "metadata": {},
     "output_type": "execute_result"
    }
   ],
   "source": [
    "df_po_kegg = pd.merge(df_po_xref_split, df_kegg_filter, left_on='KEGG', right_on='kegg_id', how='outer')\n",
    "df_po_kegg = merge_column(df_po_kegg, 'KEGG', 'kegg_id', 'KEGG_ID')\n",
    "df_po_kegg"
   ]
  },
  {
   "cell_type": "markdown",
   "metadata": {},
   "source": [
    "### 3.2 Add Reactome"
   ]
  },
  {
   "cell_type": "code",
   "execution_count": 22,
   "metadata": {},
   "outputs": [
    {
     "data": {
      "application/vnd.microsoft.datawrangler.viewer.v0+json": {
       "columns": [
        {
         "name": "index",
         "rawType": "int64",
         "type": "integer"
        },
        {
         "name": "id",
         "rawType": "object",
         "type": "unknown"
        },
        {
         "name": "PO_Name",
         "rawType": "object",
         "type": "unknown"
        },
        {
         "name": "KEGG_Name",
         "rawType": "object",
         "type": "unknown"
        },
        {
         "name": "KEGG_ID",
         "rawType": "object",
         "type": "unknown"
        },
        {
         "name": "Reactome_Name",
         "rawType": "object",
         "type": "unknown"
        },
        {
         "name": "Reactome_ID",
         "rawType": "object",
         "type": "unknown"
        }
       ],
       "conversionMethod": "pd.DataFrame",
       "ref": "bd5377d1-972b-41b7-9a1f-1f9700e171cc",
       "rows": [
        [
         "0",
         "PW:0000516",
         "interleukin-6 signaling pathway",
         null,
         null,
         "Interleukin-6 signaling",
         "R-HSA-1059683"
        ],
        [
         "1",
         "PW:0000009",
         "apoptotic cell death pathway",
         "Apoptosis",
         "hsa04210",
         "Apoptosis",
         "R-HSA-109581"
        ],
        [
         "2",
         "PW:0000475",
         "hemostasis pathway",
         null,
         null,
         "Hemostasis",
         "R-HSA-109582"
        ],
        [
         "3",
         "PW:0000104",
         "intrinsic apoptotic pathway",
         "Apoptosis",
         "hsa04210",
         "Intrinsic Pathway for Apoptosis",
         "R-HSA-109606"
        ],
        [
         "4",
         null,
         null,
         null,
         null,
         "PKB-mediated events",
         "R-HSA-109703"
        ],
        [
         "5",
         "PW:0000595",
         "phosphatidylinositol 3-kinase signaling pathway",
         "Phosphatidylinositol signaling system",
         "hsa04070",
         "PI3K Cascade",
         "R-HSA-109704"
        ],
        [
         "6",
         "PW:0000232",
         "phosphatidylinositol 3-kinase-Akt signaling pathway",
         "PI3K-Akt signaling pathway",
         "hsa04151",
         "PI3K Cascade",
         "R-HSA-109704"
        ],
        [
         "7",
         null,
         null,
         null,
         null,
         "MAPK3 (ERK1) activation",
         "R-HSA-110056"
        ],
        [
         "8",
         null,
         null,
         null,
         null,
         "Translesion synthesis by REV1",
         "R-HSA-110312"
        ],
        [
         "9",
         null,
         null,
         null,
         null,
         "Translesion synthesis by Y family DNA polymerases bypasses lesions on DNA template",
         "R-HSA-110313"
        ],
        [
         "10",
         null,
         null,
         null,
         null,
         "Recognition of DNA damage by PCNA-containing replication complex",
         "R-HSA-110314"
        ],
        [
         "11",
         null,
         null,
         null,
         null,
         "Translesion Synthesis by POLH",
         "R-HSA-110320"
        ],
        [
         "12",
         null,
         null,
         null,
         null,
         "Recognition and association of DNA glycosylase with site containing an affected pyrimidine",
         "R-HSA-110328"
        ],
        [
         "13",
         null,
         null,
         null,
         null,
         "Cleavage of the damaged pyrimidine ",
         "R-HSA-110329"
        ],
        [
         "14",
         null,
         null,
         null,
         null,
         "Recognition and association of DNA glycosylase with site containing an affected purine",
         "R-HSA-110330"
        ],
        [
         "15",
         null,
         null,
         null,
         null,
         "Cleavage of the damaged purine",
         "R-HSA-110331"
        ],
        [
         "16",
         null,
         null,
         null,
         null,
         "Displacement of DNA glycosylase by APEX1",
         "R-HSA-110357"
        ],
        [
         "17",
         null,
         null,
         null,
         null,
         "POLB-Dependent Long Patch Base Excision Repair",
         "R-HSA-110362"
        ],
        [
         "18",
         null,
         null,
         null,
         null,
         "Resolution of AP sites via the multiple-nucleotide patch replacement pathway",
         "R-HSA-110373"
        ],
        [
         "19",
         null,
         null,
         null,
         null,
         "Resolution of AP sites via the single-nucleotide replacement pathway",
         "R-HSA-110381"
        ],
        [
         "20",
         null,
         null,
         null,
         null,
         "SLBP independent Processing of Histone Pre-mRNAs",
         "R-HSA-111367"
        ],
        [
         "21",
         null,
         null,
         null,
         null,
         "Activation of BIM and translocation to mitochondria ",
         "R-HSA-111446"
        ],
        [
         "22",
         null,
         null,
         null,
         null,
         "Activation of BAD and translocation to mitochondria ",
         "R-HSA-111447"
        ],
        [
         "23",
         null,
         null,
         null,
         null,
         "Activation of NOXA and translocation to mitochondria",
         "R-HSA-111448"
        ],
        [
         "24",
         null,
         null,
         null,
         null,
         "Activation and oligomerization of BAK protein",
         "R-HSA-111452"
        ],
        [
         "25",
         null,
         null,
         null,
         null,
         "BH3-only proteins associate with and inactivate anti-apoptotic BCL-2 members",
         "R-HSA-111453"
        ],
        [
         "26",
         null,
         null,
         null,
         null,
         "Release of apoptotic factors from the mitochondria",
         "R-HSA-111457"
        ],
        [
         "27",
         null,
         null,
         null,
         null,
         "Formation of apoptosome",
         "R-HSA-111458"
        ],
        [
         "28",
         null,
         null,
         null,
         null,
         "Activation of caspases through apoptosome-mediated cleavage",
         "R-HSA-111459"
        ],
        [
         "29",
         null,
         null,
         null,
         null,
         "Cytochrome c-mediated apoptotic response",
         "R-HSA-111461"
        ],
        [
         "30",
         null,
         null,
         null,
         null,
         "SMAC (DIABLO) binds to IAPs ",
         "R-HSA-111463"
        ],
        [
         "31",
         null,
         null,
         null,
         null,
         "SMAC(DIABLO)-mediated dissociation of IAP:caspase complexes ",
         "R-HSA-111464"
        ],
        [
         "32",
         null,
         null,
         null,
         null,
         "Apoptotic cleavage of cellular proteins",
         "R-HSA-111465"
        ],
        [
         "33",
         null,
         null,
         null,
         null,
         "SMAC, XIAP-regulated apoptotic response",
         "R-HSA-111469"
        ],
        [
         "34",
         null,
         null,
         null,
         null,
         "Apoptotic factor-mediated response",
         "R-HSA-111471"
        ],
        [
         "35",
         null,
         null,
         null,
         null,
         "Opioid Signalling",
         "R-HSA-111885"
        ],
        [
         "36",
         null,
         null,
         null,
         null,
         "PKA-mediated phosphorylation of CREB",
         "R-HSA-111931"
        ],
        [
         "37",
         null,
         null,
         null,
         null,
         "CaMK IV-mediated phosphorylation of CREB",
         "R-HSA-111932"
        ],
        [
         "38",
         null,
         null,
         null,
         null,
         "Calmodulin induced events",
         "R-HSA-111933"
        ],
        [
         "39",
         null,
         null,
         null,
         null,
         "Cam-PDE 1 activation",
         "R-HSA-111957"
        ],
        [
         "40",
         null,
         null,
         null,
         null,
         "phospho-PLA2 pathway",
         "R-HSA-111995"
        ],
        [
         "41",
         null,
         null,
         null,
         null,
         "Ca-dependent events",
         "R-HSA-111996"
        ],
        [
         "42",
         "PW:0000314",
         "calcium/calmodulin dependent signaling pathway",
         null,
         null,
         "CaM pathway",
         "R-HSA-111997"
        ],
        [
         "43",
         null,
         null,
         null,
         null,
         "G-protein mediated events",
         "R-HSA-112040"
        ],
        [
         "44",
         null,
         null,
         null,
         null,
         "PLC beta mediated events",
         "R-HSA-112043"
        ],
        [
         "45",
         null,
         null,
         null,
         null,
         "ALKBH2 mediated reversal of alkylation damage",
         "R-HSA-112122"
        ],
        [
         "46",
         null,
         null,
         null,
         null,
         "ALKBH3 mediated reversal of alkylation damage",
         "R-HSA-112126"
        ],
        [
         "47",
         null,
         null,
         null,
         null,
         "Electric Transmission Across Gap Junctions",
         "R-HSA-112303"
        ],
        [
         "48",
         "PW:0000273",
         "neuron-to-neuron signaling pathway via the electrical synapse",
         null,
         null,
         "Transmission across Electrical Synapses ",
         "R-HSA-112307"
        ],
        [
         "49",
         null,
         null,
         null,
         null,
         "Presynaptic depolarization and calcium channel opening",
         "R-HSA-112308"
        ]
       ],
       "shape": {
        "columns": 6,
        "rows": 5341
       }
      },
      "text/html": [
       "<div>\n",
       "<style scoped>\n",
       "    .dataframe tbody tr th:only-of-type {\n",
       "        vertical-align: middle;\n",
       "    }\n",
       "\n",
       "    .dataframe tbody tr th {\n",
       "        vertical-align: top;\n",
       "    }\n",
       "\n",
       "    .dataframe thead th {\n",
       "        text-align: right;\n",
       "    }\n",
       "</style>\n",
       "<table border=\"1\" class=\"dataframe\">\n",
       "  <thead>\n",
       "    <tr style=\"text-align: right;\">\n",
       "      <th></th>\n",
       "      <th>id</th>\n",
       "      <th>PO_Name</th>\n",
       "      <th>KEGG_Name</th>\n",
       "      <th>KEGG_ID</th>\n",
       "      <th>Reactome_Name</th>\n",
       "      <th>Reactome_ID</th>\n",
       "    </tr>\n",
       "  </thead>\n",
       "  <tbody>\n",
       "    <tr>\n",
       "      <th>0</th>\n",
       "      <td>PW:0000516</td>\n",
       "      <td>interleukin-6 signaling pathway</td>\n",
       "      <td>NaN</td>\n",
       "      <td>NaN</td>\n",
       "      <td>Interleukin-6 signaling</td>\n",
       "      <td>R-HSA-1059683</td>\n",
       "    </tr>\n",
       "    <tr>\n",
       "      <th>1</th>\n",
       "      <td>PW:0000009</td>\n",
       "      <td>apoptotic cell death pathway</td>\n",
       "      <td>Apoptosis</td>\n",
       "      <td>hsa04210</td>\n",
       "      <td>Apoptosis</td>\n",
       "      <td>R-HSA-109581</td>\n",
       "    </tr>\n",
       "    <tr>\n",
       "      <th>2</th>\n",
       "      <td>PW:0000475</td>\n",
       "      <td>hemostasis pathway</td>\n",
       "      <td>NaN</td>\n",
       "      <td>NaN</td>\n",
       "      <td>Hemostasis</td>\n",
       "      <td>R-HSA-109582</td>\n",
       "    </tr>\n",
       "    <tr>\n",
       "      <th>3</th>\n",
       "      <td>PW:0000104</td>\n",
       "      <td>intrinsic apoptotic pathway</td>\n",
       "      <td>Apoptosis</td>\n",
       "      <td>hsa04210</td>\n",
       "      <td>Intrinsic Pathway for Apoptosis</td>\n",
       "      <td>R-HSA-109606</td>\n",
       "    </tr>\n",
       "    <tr>\n",
       "      <th>4</th>\n",
       "      <td>NaN</td>\n",
       "      <td>NaN</td>\n",
       "      <td>NaN</td>\n",
       "      <td>NaN</td>\n",
       "      <td>PKB-mediated events</td>\n",
       "      <td>R-HSA-109703</td>\n",
       "    </tr>\n",
       "    <tr>\n",
       "      <th>...</th>\n",
       "      <td>...</td>\n",
       "      <td>...</td>\n",
       "      <td>...</td>\n",
       "      <td>...</td>\n",
       "      <td>...</td>\n",
       "      <td>...</td>\n",
       "    </tr>\n",
       "    <tr>\n",
       "      <th>5336</th>\n",
       "      <td>PW:0002639</td>\n",
       "      <td>heme transport pathway</td>\n",
       "      <td>NaN</td>\n",
       "      <td>NaN</td>\n",
       "      <td>NaN</td>\n",
       "      <td>NaN</td>\n",
       "    </tr>\n",
       "    <tr>\n",
       "      <th>5337</th>\n",
       "      <td>PW:0002640</td>\n",
       "      <td>acrolein response pathway</td>\n",
       "      <td>NaN</td>\n",
       "      <td>NaN</td>\n",
       "      <td>NaN</td>\n",
       "      <td>NaN</td>\n",
       "    </tr>\n",
       "    <tr>\n",
       "      <th>5338</th>\n",
       "      <td>PW:0002641</td>\n",
       "      <td>Toll-like receptor 1 signaling pathway</td>\n",
       "      <td>NaN</td>\n",
       "      <td>NaN</td>\n",
       "      <td>NaN</td>\n",
       "      <td>NaN</td>\n",
       "    </tr>\n",
       "    <tr>\n",
       "      <th>5339</th>\n",
       "      <td>PW:0002646</td>\n",
       "      <td>Toll-like receptor 6 signaling pathway</td>\n",
       "      <td>NaN</td>\n",
       "      <td>NaN</td>\n",
       "      <td>NaN</td>\n",
       "      <td>NaN</td>\n",
       "    </tr>\n",
       "    <tr>\n",
       "      <th>5340</th>\n",
       "      <td>PW:0002669</td>\n",
       "      <td>selenocysteine biosynthetic pathway</td>\n",
       "      <td>NaN</td>\n",
       "      <td>NaN</td>\n",
       "      <td>NaN</td>\n",
       "      <td>NaN</td>\n",
       "    </tr>\n",
       "  </tbody>\n",
       "</table>\n",
       "<p>5341 rows × 6 columns</p>\n",
       "</div>"
      ],
      "text/plain": [
       "              id                                 PO_Name  KEGG_Name   KEGG_ID  \\\n",
       "0     PW:0000516         interleukin-6 signaling pathway        NaN       NaN   \n",
       "1     PW:0000009            apoptotic cell death pathway  Apoptosis  hsa04210   \n",
       "2     PW:0000475                      hemostasis pathway        NaN       NaN   \n",
       "3     PW:0000104             intrinsic apoptotic pathway  Apoptosis  hsa04210   \n",
       "4            NaN                                     NaN        NaN       NaN   \n",
       "...          ...                                     ...        ...       ...   \n",
       "5336  PW:0002639                  heme transport pathway        NaN       NaN   \n",
       "5337  PW:0002640               acrolein response pathway        NaN       NaN   \n",
       "5338  PW:0002641  Toll-like receptor 1 signaling pathway        NaN       NaN   \n",
       "5339  PW:0002646  Toll-like receptor 6 signaling pathway        NaN       NaN   \n",
       "5340  PW:0002669     selenocysteine biosynthetic pathway        NaN       NaN   \n",
       "\n",
       "                        Reactome_Name    Reactome_ID  \n",
       "0             Interleukin-6 signaling  R-HSA-1059683  \n",
       "1                           Apoptosis   R-HSA-109581  \n",
       "2                          Hemostasis   R-HSA-109582  \n",
       "3     Intrinsic Pathway for Apoptosis   R-HSA-109606  \n",
       "4                 PKB-mediated events   R-HSA-109703  \n",
       "...                               ...            ...  \n",
       "5336                              NaN            NaN  \n",
       "5337                              NaN            NaN  \n",
       "5338                              NaN            NaN  \n",
       "5339                              NaN            NaN  \n",
       "5340                              NaN            NaN  \n",
       "\n",
       "[5341 rows x 6 columns]"
      ]
     },
     "execution_count": 22,
     "metadata": {},
     "output_type": "execute_result"
    }
   ],
   "source": [
    "df_po_kegg_reactome = pd.merge(df_po_kegg, df_reactome, left_on='Reactome', right_on='reactome_id', how='outer')\n",
    "df_po_kegg_reactome = merge_column(df_po_kegg_reactome, 'Reactome', 'reactome_id', 'Reactome_ID')\n",
    "df_po_kegg_reactome"
   ]
  },
  {
   "cell_type": "markdown",
   "metadata": {},
   "source": [
    "### 3.3 Use equivalent_kegg_reactome to combine"
   ]
  },
  {
   "cell_type": "code",
   "execution_count": 23,
   "metadata": {},
   "outputs": [
    {
     "data": {
      "application/vnd.microsoft.datawrangler.viewer.v0+json": {
       "columns": [
        {
         "name": "index",
         "rawType": "int64",
         "type": "integer"
        },
        {
         "name": "id",
         "rawType": "object",
         "type": "unknown"
        },
        {
         "name": "PO_Name",
         "rawType": "object",
         "type": "unknown"
        },
        {
         "name": "KEGG_Name",
         "rawType": "object",
         "type": "unknown"
        },
        {
         "name": "KEGG_ID",
         "rawType": "object",
         "type": "unknown"
        },
        {
         "name": "Reactome_Name",
         "rawType": "object",
         "type": "unknown"
        },
        {
         "name": "Reactome_ID",
         "rawType": "object",
         "type": "unknown"
        }
       ],
       "conversionMethod": "pd.DataFrame",
       "ref": "2f794367-674b-46e3-8341-53b66e1c9ddb",
       "rows": [
        [
         "0",
         "PW:0000516",
         "interleukin-6 signaling pathway",
         null,
         null,
         "Interleukin-6 signaling",
         "R-HSA-1059683"
        ],
        [
         "1",
         "PW:0000009",
         "apoptotic cell death pathway",
         "Apoptosis",
         "hsa04210",
         "Apoptosis",
         "R-HSA-109581"
        ],
        [
         "2",
         "PW:0000475",
         "hemostasis pathway",
         null,
         null,
         "Hemostasis",
         "R-HSA-109582"
        ],
        [
         "3",
         "PW:0000104",
         "intrinsic apoptotic pathway",
         "Apoptosis",
         "hsa04210",
         "Intrinsic Pathway for Apoptosis",
         "R-HSA-109606"
        ],
        [
         "4",
         null,
         null,
         null,
         null,
         "PKB-mediated events",
         "R-HSA-109703"
        ],
        [
         "5",
         "PW:0000595",
         "phosphatidylinositol 3-kinase signaling pathway",
         "Phosphatidylinositol signaling system",
         "hsa04070",
         "PI3K Cascade",
         "R-HSA-109704"
        ],
        [
         "6",
         "PW:0000232",
         "phosphatidylinositol 3-kinase-Akt signaling pathway",
         "PI3K-Akt signaling pathway",
         "hsa04151",
         "PI3K Cascade",
         "R-HSA-109704"
        ],
        [
         "7",
         null,
         null,
         null,
         null,
         "MAPK3 (ERK1) activation",
         "R-HSA-110056"
        ],
        [
         "8",
         null,
         null,
         null,
         null,
         "Translesion synthesis by REV1",
         "R-HSA-110312"
        ],
        [
         "9",
         null,
         null,
         null,
         null,
         "Translesion synthesis by Y family DNA polymerases bypasses lesions on DNA template",
         "R-HSA-110313"
        ],
        [
         "10",
         null,
         null,
         null,
         null,
         "Recognition of DNA damage by PCNA-containing replication complex",
         "R-HSA-110314"
        ],
        [
         "11",
         null,
         null,
         null,
         null,
         "Translesion Synthesis by POLH",
         "R-HSA-110320"
        ],
        [
         "12",
         null,
         null,
         null,
         null,
         "Recognition and association of DNA glycosylase with site containing an affected pyrimidine",
         "R-HSA-110328"
        ],
        [
         "13",
         null,
         null,
         null,
         null,
         "Cleavage of the damaged pyrimidine ",
         "R-HSA-110329"
        ],
        [
         "14",
         null,
         null,
         null,
         null,
         "Recognition and association of DNA glycosylase with site containing an affected purine",
         "R-HSA-110330"
        ],
        [
         "15",
         null,
         null,
         null,
         null,
         "Cleavage of the damaged purine",
         "R-HSA-110331"
        ],
        [
         "16",
         null,
         null,
         null,
         null,
         "Displacement of DNA glycosylase by APEX1",
         "R-HSA-110357"
        ],
        [
         "17",
         null,
         null,
         null,
         null,
         "POLB-Dependent Long Patch Base Excision Repair",
         "R-HSA-110362"
        ],
        [
         "18",
         null,
         null,
         null,
         null,
         "Resolution of AP sites via the multiple-nucleotide patch replacement pathway",
         "R-HSA-110373"
        ],
        [
         "19",
         null,
         null,
         null,
         null,
         "Resolution of AP sites via the single-nucleotide replacement pathway",
         "R-HSA-110381"
        ],
        [
         "20",
         null,
         null,
         null,
         null,
         "SLBP independent Processing of Histone Pre-mRNAs",
         "R-HSA-111367"
        ],
        [
         "21",
         null,
         null,
         null,
         null,
         "Activation of BIM and translocation to mitochondria ",
         "R-HSA-111446"
        ],
        [
         "22",
         null,
         null,
         null,
         null,
         "Activation of BAD and translocation to mitochondria ",
         "R-HSA-111447"
        ],
        [
         "23",
         null,
         null,
         null,
         null,
         "Activation of NOXA and translocation to mitochondria",
         "R-HSA-111448"
        ],
        [
         "24",
         null,
         null,
         null,
         null,
         "Activation and oligomerization of BAK protein",
         "R-HSA-111452"
        ],
        [
         "25",
         null,
         null,
         null,
         null,
         "BH3-only proteins associate with and inactivate anti-apoptotic BCL-2 members",
         "R-HSA-111453"
        ],
        [
         "26",
         null,
         null,
         null,
         null,
         "Release of apoptotic factors from the mitochondria",
         "R-HSA-111457"
        ],
        [
         "27",
         null,
         null,
         null,
         null,
         "Formation of apoptosome",
         "R-HSA-111458"
        ],
        [
         "28",
         null,
         null,
         null,
         null,
         "Activation of caspases through apoptosome-mediated cleavage",
         "R-HSA-111459"
        ],
        [
         "29",
         null,
         null,
         null,
         null,
         "Cytochrome c-mediated apoptotic response",
         "R-HSA-111461"
        ],
        [
         "30",
         null,
         null,
         null,
         null,
         "SMAC (DIABLO) binds to IAPs ",
         "R-HSA-111463"
        ],
        [
         "31",
         null,
         null,
         null,
         null,
         "SMAC(DIABLO)-mediated dissociation of IAP:caspase complexes ",
         "R-HSA-111464"
        ],
        [
         "32",
         null,
         null,
         null,
         null,
         "Apoptotic cleavage of cellular proteins",
         "R-HSA-111465"
        ],
        [
         "33",
         null,
         null,
         null,
         null,
         "SMAC, XIAP-regulated apoptotic response",
         "R-HSA-111469"
        ],
        [
         "34",
         null,
         null,
         null,
         null,
         "Apoptotic factor-mediated response",
         "R-HSA-111471"
        ],
        [
         "35",
         null,
         null,
         null,
         null,
         "Opioid Signalling",
         "R-HSA-111885"
        ],
        [
         "36",
         null,
         null,
         null,
         null,
         "PKA-mediated phosphorylation of CREB",
         "R-HSA-111931"
        ],
        [
         "37",
         null,
         null,
         null,
         null,
         "CaMK IV-mediated phosphorylation of CREB",
         "R-HSA-111932"
        ],
        [
         "38",
         null,
         null,
         null,
         null,
         "Calmodulin induced events",
         "R-HSA-111933"
        ],
        [
         "39",
         null,
         null,
         null,
         null,
         "Cam-PDE 1 activation",
         "R-HSA-111957"
        ],
        [
         "40",
         null,
         null,
         null,
         null,
         "phospho-PLA2 pathway",
         "R-HSA-111995"
        ],
        [
         "41",
         null,
         null,
         null,
         null,
         "Ca-dependent events",
         "R-HSA-111996"
        ],
        [
         "42",
         "PW:0000314",
         "calcium/calmodulin dependent signaling pathway",
         null,
         null,
         "CaM pathway",
         "R-HSA-111997"
        ],
        [
         "43",
         null,
         null,
         null,
         null,
         "G-protein mediated events",
         "R-HSA-112040"
        ],
        [
         "44",
         null,
         null,
         null,
         null,
         "PLC beta mediated events",
         "R-HSA-112043"
        ],
        [
         "45",
         null,
         null,
         null,
         null,
         "ALKBH2 mediated reversal of alkylation damage",
         "R-HSA-112122"
        ],
        [
         "46",
         null,
         null,
         null,
         null,
         "ALKBH3 mediated reversal of alkylation damage",
         "R-HSA-112126"
        ],
        [
         "47",
         null,
         null,
         null,
         null,
         "Electric Transmission Across Gap Junctions",
         "R-HSA-112303"
        ],
        [
         "48",
         "PW:0000273",
         "neuron-to-neuron signaling pathway via the electrical synapse",
         null,
         null,
         "Transmission across Electrical Synapses ",
         "R-HSA-112307"
        ],
        [
         "49",
         null,
         null,
         null,
         null,
         "Presynaptic depolarization and calcium channel opening",
         "R-HSA-112308"
        ]
       ],
       "shape": {
        "columns": 6,
        "rows": 5341
       }
      },
      "text/html": [
       "<div>\n",
       "<style scoped>\n",
       "    .dataframe tbody tr th:only-of-type {\n",
       "        vertical-align: middle;\n",
       "    }\n",
       "\n",
       "    .dataframe tbody tr th {\n",
       "        vertical-align: top;\n",
       "    }\n",
       "\n",
       "    .dataframe thead th {\n",
       "        text-align: right;\n",
       "    }\n",
       "</style>\n",
       "<table border=\"1\" class=\"dataframe\">\n",
       "  <thead>\n",
       "    <tr style=\"text-align: right;\">\n",
       "      <th></th>\n",
       "      <th>id</th>\n",
       "      <th>PO_Name</th>\n",
       "      <th>KEGG_Name</th>\n",
       "      <th>KEGG_ID</th>\n",
       "      <th>Reactome_Name</th>\n",
       "      <th>Reactome_ID</th>\n",
       "    </tr>\n",
       "  </thead>\n",
       "  <tbody>\n",
       "    <tr>\n",
       "      <th>0</th>\n",
       "      <td>PW:0000516</td>\n",
       "      <td>interleukin-6 signaling pathway</td>\n",
       "      <td>NaN</td>\n",
       "      <td>NaN</td>\n",
       "      <td>Interleukin-6 signaling</td>\n",
       "      <td>R-HSA-1059683</td>\n",
       "    </tr>\n",
       "    <tr>\n",
       "      <th>1</th>\n",
       "      <td>PW:0000009</td>\n",
       "      <td>apoptotic cell death pathway</td>\n",
       "      <td>Apoptosis</td>\n",
       "      <td>hsa04210</td>\n",
       "      <td>Apoptosis</td>\n",
       "      <td>R-HSA-109581</td>\n",
       "    </tr>\n",
       "    <tr>\n",
       "      <th>2</th>\n",
       "      <td>PW:0000475</td>\n",
       "      <td>hemostasis pathway</td>\n",
       "      <td>NaN</td>\n",
       "      <td>NaN</td>\n",
       "      <td>Hemostasis</td>\n",
       "      <td>R-HSA-109582</td>\n",
       "    </tr>\n",
       "    <tr>\n",
       "      <th>3</th>\n",
       "      <td>PW:0000104</td>\n",
       "      <td>intrinsic apoptotic pathway</td>\n",
       "      <td>Apoptosis</td>\n",
       "      <td>hsa04210</td>\n",
       "      <td>Intrinsic Pathway for Apoptosis</td>\n",
       "      <td>R-HSA-109606</td>\n",
       "    </tr>\n",
       "    <tr>\n",
       "      <th>4</th>\n",
       "      <td>NaN</td>\n",
       "      <td>NaN</td>\n",
       "      <td>NaN</td>\n",
       "      <td>NaN</td>\n",
       "      <td>PKB-mediated events</td>\n",
       "      <td>R-HSA-109703</td>\n",
       "    </tr>\n",
       "    <tr>\n",
       "      <th>...</th>\n",
       "      <td>...</td>\n",
       "      <td>...</td>\n",
       "      <td>...</td>\n",
       "      <td>...</td>\n",
       "      <td>...</td>\n",
       "      <td>...</td>\n",
       "    </tr>\n",
       "    <tr>\n",
       "      <th>5336</th>\n",
       "      <td>PW:0002639</td>\n",
       "      <td>heme transport pathway</td>\n",
       "      <td>NaN</td>\n",
       "      <td>NaN</td>\n",
       "      <td>NaN</td>\n",
       "      <td>NaN</td>\n",
       "    </tr>\n",
       "    <tr>\n",
       "      <th>5337</th>\n",
       "      <td>PW:0002640</td>\n",
       "      <td>acrolein response pathway</td>\n",
       "      <td>NaN</td>\n",
       "      <td>NaN</td>\n",
       "      <td>NaN</td>\n",
       "      <td>NaN</td>\n",
       "    </tr>\n",
       "    <tr>\n",
       "      <th>5338</th>\n",
       "      <td>PW:0002641</td>\n",
       "      <td>Toll-like receptor 1 signaling pathway</td>\n",
       "      <td>NaN</td>\n",
       "      <td>NaN</td>\n",
       "      <td>NaN</td>\n",
       "      <td>NaN</td>\n",
       "    </tr>\n",
       "    <tr>\n",
       "      <th>5339</th>\n",
       "      <td>PW:0002646</td>\n",
       "      <td>Toll-like receptor 6 signaling pathway</td>\n",
       "      <td>NaN</td>\n",
       "      <td>NaN</td>\n",
       "      <td>NaN</td>\n",
       "      <td>NaN</td>\n",
       "    </tr>\n",
       "    <tr>\n",
       "      <th>5340</th>\n",
       "      <td>PW:0002669</td>\n",
       "      <td>selenocysteine biosynthetic pathway</td>\n",
       "      <td>NaN</td>\n",
       "      <td>NaN</td>\n",
       "      <td>NaN</td>\n",
       "      <td>NaN</td>\n",
       "    </tr>\n",
       "  </tbody>\n",
       "</table>\n",
       "<p>5341 rows × 6 columns</p>\n",
       "</div>"
      ],
      "text/plain": [
       "              id                                 PO_Name  KEGG_Name   KEGG_ID  \\\n",
       "0     PW:0000516         interleukin-6 signaling pathway        NaN       NaN   \n",
       "1     PW:0000009            apoptotic cell death pathway  Apoptosis  hsa04210   \n",
       "2     PW:0000475                      hemostasis pathway        NaN       NaN   \n",
       "3     PW:0000104             intrinsic apoptotic pathway  Apoptosis  hsa04210   \n",
       "4            NaN                                     NaN        NaN       NaN   \n",
       "...          ...                                     ...        ...       ...   \n",
       "5336  PW:0002639                  heme transport pathway        NaN       NaN   \n",
       "5337  PW:0002640               acrolein response pathway        NaN       NaN   \n",
       "5338  PW:0002641  Toll-like receptor 1 signaling pathway        NaN       NaN   \n",
       "5339  PW:0002646  Toll-like receptor 6 signaling pathway        NaN       NaN   \n",
       "5340  PW:0002669     selenocysteine biosynthetic pathway        NaN       NaN   \n",
       "\n",
       "                        Reactome_Name    Reactome_ID  \n",
       "0             Interleukin-6 signaling  R-HSA-1059683  \n",
       "1                           Apoptosis   R-HSA-109581  \n",
       "2                          Hemostasis   R-HSA-109582  \n",
       "3     Intrinsic Pathway for Apoptosis   R-HSA-109606  \n",
       "4                 PKB-mediated events   R-HSA-109703  \n",
       "...                               ...            ...  \n",
       "5336                              NaN            NaN  \n",
       "5337                              NaN            NaN  \n",
       "5338                              NaN            NaN  \n",
       "5339                              NaN            NaN  \n",
       "5340                              NaN            NaN  \n",
       "\n",
       "[5341 rows x 6 columns]"
      ]
     },
     "execution_count": 23,
     "metadata": {},
     "output_type": "execute_result"
    }
   ],
   "source": [
    "df_po_kegg_reactome['KEGG_ID'] = df_po_kegg_reactome['KEGG_ID'].str.strip()\n",
    "df_po_kegg_reactome['Reactome_ID'] = df_po_kegg_reactome['Reactome_ID'].str.strip()\n",
    "\n",
    "# Create dictionaries for quick look-up\n",
    "kegg_to_reactome = dict(zip(df_mapping_equivalent_kegg_reactome['kegg_id'], df_mapping_equivalent_kegg_reactome['reactome_id']))\n",
    "reactome_to_kegg = dict(zip(df_mapping_equivalent_kegg_reactome['reactome_id'], df_mapping_equivalent_kegg_reactome['kegg_id']))\n",
    "\n",
    "# Fill missing KEGG ID using Reactome ID\n",
    "for idx, row in df_po_kegg_reactome.iterrows():\n",
    "    if pd.isna(row['KEGG_ID']) and row['Reactome_ID'] in reactome_to_kegg:\n",
    "        df_po_kegg_reactome.at[idx, 'KEGG_ID'] = reactome_to_kegg[row['Reactome_ID']]\n",
    "        \n",
    "# Fill missing Reactome ID using KEGG ID\n",
    "for idx, row in df_po_kegg_reactome.iterrows():\n",
    "    if pd.isna(row['Reactome_ID']) and row['KEGG_ID'] in kegg_to_reactome:\n",
    "        df_po_kegg_reactome.at[idx, 'Reactome_ID'] = kegg_to_reactome[row['KEGG_ID']]\n",
    "\n",
    "df_po_kegg_reactome"
   ]
  },
  {
   "cell_type": "code",
   "execution_count": 24,
   "metadata": {},
   "outputs": [
    {
     "data": {
      "application/vnd.microsoft.datawrangler.viewer.v0+json": {
       "columns": [
        {
         "name": "index",
         "rawType": "int64",
         "type": "integer"
        },
        {
         "name": "id",
         "rawType": "object",
         "type": "unknown"
        },
        {
         "name": "PO_Name",
         "rawType": "object",
         "type": "unknown"
        },
        {
         "name": "KEGG_Name",
         "rawType": "object",
         "type": "unknown"
        },
        {
         "name": "KEGG_ID",
         "rawType": "object",
         "type": "unknown"
        },
        {
         "name": "Reactome_Name",
         "rawType": "object",
         "type": "unknown"
        },
        {
         "name": "Reactome_ID",
         "rawType": "object",
         "type": "unknown"
        }
       ],
       "conversionMethod": "pd.DataFrame",
       "ref": "70486813-31f7-457b-87c3-80374c4ac05f",
       "rows": [
        [
         "0",
         "PW:0000516",
         "interleukin-6 signaling pathway",
         null,
         null,
         "Interleukin-6 signaling",
         "R-HSA-1059683"
        ],
        [
         "1",
         "PW:0000009",
         "apoptotic cell death pathway",
         "Apoptosis",
         "hsa04210",
         "Apoptosis",
         "R-HSA-109581"
        ],
        [
         "2",
         "PW:0000475",
         "hemostasis pathway",
         null,
         null,
         "Hemostasis",
         "R-HSA-109582"
        ],
        [
         "3",
         "PW:0000104",
         "intrinsic apoptotic pathway",
         "Apoptosis",
         "hsa04210",
         "Intrinsic Pathway for Apoptosis",
         "R-HSA-109606"
        ],
        [
         "4",
         null,
         null,
         null,
         null,
         "PKB-mediated events",
         "R-HSA-109703"
        ],
        [
         "5",
         "PW:0000595",
         "phosphatidylinositol 3-kinase signaling pathway",
         "Phosphatidylinositol signaling system",
         "hsa04070",
         "PI3K Cascade",
         "R-HSA-109704"
        ],
        [
         "6",
         "PW:0000232",
         "phosphatidylinositol 3-kinase-Akt signaling pathway",
         "PI3K-Akt signaling pathway",
         "hsa04151",
         "PI3K Cascade",
         "R-HSA-109704"
        ],
        [
         "7",
         null,
         null,
         null,
         null,
         "MAPK3 (ERK1) activation",
         "R-HSA-110056"
        ],
        [
         "8",
         null,
         null,
         null,
         null,
         "Translesion synthesis by REV1",
         "R-HSA-110312"
        ],
        [
         "9",
         null,
         null,
         null,
         null,
         "Translesion synthesis by Y family DNA polymerases bypasses lesions on DNA template",
         "R-HSA-110313"
        ],
        [
         "10",
         null,
         null,
         null,
         null,
         "Recognition of DNA damage by PCNA-containing replication complex",
         "R-HSA-110314"
        ],
        [
         "11",
         null,
         null,
         null,
         null,
         "Translesion Synthesis by POLH",
         "R-HSA-110320"
        ],
        [
         "12",
         null,
         null,
         null,
         null,
         "Recognition and association of DNA glycosylase with site containing an affected pyrimidine",
         "R-HSA-110328"
        ],
        [
         "13",
         null,
         null,
         null,
         null,
         "Cleavage of the damaged pyrimidine ",
         "R-HSA-110329"
        ],
        [
         "14",
         null,
         null,
         null,
         null,
         "Recognition and association of DNA glycosylase with site containing an affected purine",
         "R-HSA-110330"
        ],
        [
         "15",
         null,
         null,
         null,
         null,
         "Cleavage of the damaged purine",
         "R-HSA-110331"
        ],
        [
         "16",
         null,
         null,
         null,
         null,
         "Displacement of DNA glycosylase by APEX1",
         "R-HSA-110357"
        ],
        [
         "17",
         null,
         null,
         null,
         null,
         "POLB-Dependent Long Patch Base Excision Repair",
         "R-HSA-110362"
        ],
        [
         "18",
         null,
         null,
         null,
         null,
         "Resolution of AP sites via the multiple-nucleotide patch replacement pathway",
         "R-HSA-110373"
        ],
        [
         "19",
         null,
         null,
         null,
         null,
         "Resolution of AP sites via the single-nucleotide replacement pathway",
         "R-HSA-110381"
        ],
        [
         "20",
         null,
         null,
         null,
         null,
         "SLBP independent Processing of Histone Pre-mRNAs",
         "R-HSA-111367"
        ],
        [
         "21",
         null,
         null,
         null,
         null,
         "Activation of BIM and translocation to mitochondria ",
         "R-HSA-111446"
        ],
        [
         "22",
         null,
         null,
         null,
         null,
         "Activation of BAD and translocation to mitochondria ",
         "R-HSA-111447"
        ],
        [
         "23",
         null,
         null,
         null,
         null,
         "Activation of NOXA and translocation to mitochondria",
         "R-HSA-111448"
        ],
        [
         "24",
         null,
         null,
         null,
         null,
         "Activation and oligomerization of BAK protein",
         "R-HSA-111452"
        ],
        [
         "25",
         null,
         null,
         null,
         null,
         "BH3-only proteins associate with and inactivate anti-apoptotic BCL-2 members",
         "R-HSA-111453"
        ],
        [
         "26",
         null,
         null,
         null,
         null,
         "Release of apoptotic factors from the mitochondria",
         "R-HSA-111457"
        ],
        [
         "27",
         null,
         null,
         null,
         null,
         "Formation of apoptosome",
         "R-HSA-111458"
        ],
        [
         "28",
         null,
         null,
         null,
         null,
         "Activation of caspases through apoptosome-mediated cleavage",
         "R-HSA-111459"
        ],
        [
         "29",
         null,
         null,
         null,
         null,
         "Cytochrome c-mediated apoptotic response",
         "R-HSA-111461"
        ],
        [
         "30",
         null,
         null,
         null,
         null,
         "SMAC (DIABLO) binds to IAPs ",
         "R-HSA-111463"
        ],
        [
         "31",
         null,
         null,
         null,
         null,
         "SMAC(DIABLO)-mediated dissociation of IAP:caspase complexes ",
         "R-HSA-111464"
        ],
        [
         "32",
         null,
         null,
         null,
         null,
         "Apoptotic cleavage of cellular proteins",
         "R-HSA-111465"
        ],
        [
         "33",
         null,
         null,
         null,
         null,
         "SMAC, XIAP-regulated apoptotic response",
         "R-HSA-111469"
        ],
        [
         "34",
         null,
         null,
         null,
         null,
         "Apoptotic factor-mediated response",
         "R-HSA-111471"
        ],
        [
         "35",
         null,
         null,
         null,
         null,
         "Opioid Signalling",
         "R-HSA-111885"
        ],
        [
         "36",
         null,
         null,
         null,
         null,
         "PKA-mediated phosphorylation of CREB",
         "R-HSA-111931"
        ],
        [
         "37",
         null,
         null,
         null,
         null,
         "CaMK IV-mediated phosphorylation of CREB",
         "R-HSA-111932"
        ],
        [
         "38",
         null,
         null,
         null,
         null,
         "Calmodulin induced events",
         "R-HSA-111933"
        ],
        [
         "39",
         null,
         null,
         null,
         null,
         "Cam-PDE 1 activation",
         "R-HSA-111957"
        ],
        [
         "40",
         null,
         null,
         null,
         null,
         "phospho-PLA2 pathway",
         "R-HSA-111995"
        ],
        [
         "41",
         null,
         null,
         null,
         null,
         "Ca-dependent events",
         "R-HSA-111996"
        ],
        [
         "42",
         "PW:0000314",
         "calcium/calmodulin dependent signaling pathway",
         null,
         null,
         "CaM pathway",
         "R-HSA-111997"
        ],
        [
         "43",
         null,
         null,
         null,
         null,
         "G-protein mediated events",
         "R-HSA-112040"
        ],
        [
         "44",
         null,
         null,
         null,
         null,
         "PLC beta mediated events",
         "R-HSA-112043"
        ],
        [
         "45",
         null,
         null,
         null,
         null,
         "ALKBH2 mediated reversal of alkylation damage",
         "R-HSA-112122"
        ],
        [
         "46",
         null,
         null,
         null,
         null,
         "ALKBH3 mediated reversal of alkylation damage",
         "R-HSA-112126"
        ],
        [
         "47",
         null,
         null,
         null,
         null,
         "Electric Transmission Across Gap Junctions",
         "R-HSA-112303"
        ],
        [
         "48",
         "PW:0000273",
         "neuron-to-neuron signaling pathway via the electrical synapse",
         null,
         null,
         "Transmission across Electrical Synapses ",
         "R-HSA-112307"
        ],
        [
         "49",
         null,
         null,
         null,
         null,
         "Presynaptic depolarization and calcium channel opening",
         "R-HSA-112308"
        ]
       ],
       "shape": {
        "columns": 6,
        "rows": 5313
       }
      },
      "text/html": [
       "<div>\n",
       "<style scoped>\n",
       "    .dataframe tbody tr th:only-of-type {\n",
       "        vertical-align: middle;\n",
       "    }\n",
       "\n",
       "    .dataframe tbody tr th {\n",
       "        vertical-align: top;\n",
       "    }\n",
       "\n",
       "    .dataframe thead th {\n",
       "        text-align: right;\n",
       "    }\n",
       "</style>\n",
       "<table border=\"1\" class=\"dataframe\">\n",
       "  <thead>\n",
       "    <tr style=\"text-align: right;\">\n",
       "      <th></th>\n",
       "      <th>id</th>\n",
       "      <th>PO_Name</th>\n",
       "      <th>KEGG_Name</th>\n",
       "      <th>KEGG_ID</th>\n",
       "      <th>Reactome_Name</th>\n",
       "      <th>Reactome_ID</th>\n",
       "    </tr>\n",
       "  </thead>\n",
       "  <tbody>\n",
       "    <tr>\n",
       "      <th>0</th>\n",
       "      <td>PW:0000516</td>\n",
       "      <td>interleukin-6 signaling pathway</td>\n",
       "      <td>NaN</td>\n",
       "      <td>NaN</td>\n",
       "      <td>Interleukin-6 signaling</td>\n",
       "      <td>R-HSA-1059683</td>\n",
       "    </tr>\n",
       "    <tr>\n",
       "      <th>1</th>\n",
       "      <td>PW:0000009</td>\n",
       "      <td>apoptotic cell death pathway</td>\n",
       "      <td>Apoptosis</td>\n",
       "      <td>hsa04210</td>\n",
       "      <td>Apoptosis</td>\n",
       "      <td>R-HSA-109581</td>\n",
       "    </tr>\n",
       "    <tr>\n",
       "      <th>2</th>\n",
       "      <td>PW:0000475</td>\n",
       "      <td>hemostasis pathway</td>\n",
       "      <td>NaN</td>\n",
       "      <td>NaN</td>\n",
       "      <td>Hemostasis</td>\n",
       "      <td>R-HSA-109582</td>\n",
       "    </tr>\n",
       "    <tr>\n",
       "      <th>3</th>\n",
       "      <td>PW:0000104</td>\n",
       "      <td>intrinsic apoptotic pathway</td>\n",
       "      <td>Apoptosis</td>\n",
       "      <td>hsa04210</td>\n",
       "      <td>Intrinsic Pathway for Apoptosis</td>\n",
       "      <td>R-HSA-109606</td>\n",
       "    </tr>\n",
       "    <tr>\n",
       "      <th>4</th>\n",
       "      <td>NaN</td>\n",
       "      <td>NaN</td>\n",
       "      <td>NaN</td>\n",
       "      <td>NaN</td>\n",
       "      <td>PKB-mediated events</td>\n",
       "      <td>R-HSA-109703</td>\n",
       "    </tr>\n",
       "    <tr>\n",
       "      <th>...</th>\n",
       "      <td>...</td>\n",
       "      <td>...</td>\n",
       "      <td>...</td>\n",
       "      <td>...</td>\n",
       "      <td>...</td>\n",
       "      <td>...</td>\n",
       "    </tr>\n",
       "    <tr>\n",
       "      <th>5336</th>\n",
       "      <td>PW:0002639</td>\n",
       "      <td>heme transport pathway</td>\n",
       "      <td>NaN</td>\n",
       "      <td>NaN</td>\n",
       "      <td>NaN</td>\n",
       "      <td>NaN</td>\n",
       "    </tr>\n",
       "    <tr>\n",
       "      <th>5337</th>\n",
       "      <td>PW:0002640</td>\n",
       "      <td>acrolein response pathway</td>\n",
       "      <td>NaN</td>\n",
       "      <td>NaN</td>\n",
       "      <td>NaN</td>\n",
       "      <td>NaN</td>\n",
       "    </tr>\n",
       "    <tr>\n",
       "      <th>5338</th>\n",
       "      <td>PW:0002641</td>\n",
       "      <td>Toll-like receptor 1 signaling pathway</td>\n",
       "      <td>NaN</td>\n",
       "      <td>NaN</td>\n",
       "      <td>NaN</td>\n",
       "      <td>NaN</td>\n",
       "    </tr>\n",
       "    <tr>\n",
       "      <th>5339</th>\n",
       "      <td>PW:0002646</td>\n",
       "      <td>Toll-like receptor 6 signaling pathway</td>\n",
       "      <td>NaN</td>\n",
       "      <td>NaN</td>\n",
       "      <td>NaN</td>\n",
       "      <td>NaN</td>\n",
       "    </tr>\n",
       "    <tr>\n",
       "      <th>5340</th>\n",
       "      <td>PW:0002669</td>\n",
       "      <td>selenocysteine biosynthetic pathway</td>\n",
       "      <td>NaN</td>\n",
       "      <td>NaN</td>\n",
       "      <td>NaN</td>\n",
       "      <td>NaN</td>\n",
       "    </tr>\n",
       "  </tbody>\n",
       "</table>\n",
       "<p>5313 rows × 6 columns</p>\n",
       "</div>"
      ],
      "text/plain": [
       "              id                                 PO_Name  KEGG_Name   KEGG_ID  \\\n",
       "0     PW:0000516         interleukin-6 signaling pathway        NaN       NaN   \n",
       "1     PW:0000009            apoptotic cell death pathway  Apoptosis  hsa04210   \n",
       "2     PW:0000475                      hemostasis pathway        NaN       NaN   \n",
       "3     PW:0000104             intrinsic apoptotic pathway  Apoptosis  hsa04210   \n",
       "4            NaN                                     NaN        NaN       NaN   \n",
       "...          ...                                     ...        ...       ...   \n",
       "5336  PW:0002639                  heme transport pathway        NaN       NaN   \n",
       "5337  PW:0002640               acrolein response pathway        NaN       NaN   \n",
       "5338  PW:0002641  Toll-like receptor 1 signaling pathway        NaN       NaN   \n",
       "5339  PW:0002646  Toll-like receptor 6 signaling pathway        NaN       NaN   \n",
       "5340  PW:0002669     selenocysteine biosynthetic pathway        NaN       NaN   \n",
       "\n",
       "                        Reactome_Name    Reactome_ID  \n",
       "0             Interleukin-6 signaling  R-HSA-1059683  \n",
       "1                           Apoptosis   R-HSA-109581  \n",
       "2                          Hemostasis   R-HSA-109582  \n",
       "3     Intrinsic Pathway for Apoptosis   R-HSA-109606  \n",
       "4                 PKB-mediated events   R-HSA-109703  \n",
       "...                               ...            ...  \n",
       "5336                              NaN            NaN  \n",
       "5337                              NaN            NaN  \n",
       "5338                              NaN            NaN  \n",
       "5339                              NaN            NaN  \n",
       "5340                              NaN            NaN  \n",
       "\n",
       "[5313 rows x 6 columns]"
      ]
     },
     "execution_count": 24,
     "metadata": {},
     "output_type": "execute_result"
    }
   ],
   "source": [
    "# Function to fill missing values for rows with identical KEGG_ID and Reactome_ID\n",
    "def fill_missing_values_for_identical_ids(df):\n",
    "    df_copy = df.copy()\n",
    "    for idx, row in df.iterrows():\n",
    "        if pd.notna(row['KEGG_ID']) and pd.notna(row['Reactome_ID']):\n",
    "            matching_rows = df[(df['KEGG_ID'] == row['KEGG_ID']) & (df['Reactome_ID'] == row['Reactome_ID'])]\n",
    "            for column in df.columns:\n",
    "                if pd.isna(row[column]):\n",
    "                    for _, match_row in matching_rows.iterrows():\n",
    "                        if pd.notna(match_row[column]):\n",
    "                            df_copy.at[idx, column] = match_row[column]\n",
    "                            break\n",
    "    return df_copy\n",
    "\n",
    "# Apply the function to fill missing values\n",
    "df_po_kegg_reactome_compath = fill_missing_values_for_identical_ids(df_po_kegg_reactome)\n",
    "df_po_kegg_reactome_compath = df_po_kegg_reactome_compath.drop_duplicates()\n",
    "df_po_kegg_reactome_compath"
   ]
  },
  {
   "cell_type": "markdown",
   "metadata": {},
   "source": [
    "### 3.4 Add WikiPathways"
   ]
  },
  {
   "cell_type": "code",
   "execution_count": 28,
   "metadata": {},
   "outputs": [
    {
     "data": {
      "application/vnd.microsoft.datawrangler.viewer.v0+json": {
       "columns": [
        {
         "name": "index",
         "rawType": "int64",
         "type": "integer"
        },
        {
         "name": "kegg_id",
         "rawType": "object",
         "type": "unknown"
        },
        {
         "name": "WikiPathways_Name",
         "rawType": "object",
         "type": "string"
        },
        {
         "name": "wikipathway_ID",
         "rawType": "object",
         "type": "string"
        }
       ],
       "conversionMethod": "pd.DataFrame",
       "ref": "f15fd41f-2465-476a-a4d8-c361f3d96f2b",
       "rows": [
        [
         "0",
         "hsa00010",
         "Glycolysis and gluconeogenesis",
         "WP534"
        ],
        [
         "1",
         "hsa00020",
         "TCA cycle (aka Krebs or citric acid cycle)",
         "WP78"
        ],
        [
         "2",
         "hsa00030",
         "Pentose phosphate metabolism",
         "WP134"
        ],
        [
         "3",
         "hsa00061",
         "Fatty acid biosynthesis",
         "WP357"
        ],
        [
         "4",
         "hsa00072",
         "",
         "WP311"
        ],
        [
         "5",
         "hsa00100",
         "Steroid biosynthesis",
         "WP496"
        ],
        [
         "6",
         "hsa00190",
         "Oxidative phosphorylation",
         "WP623"
        ],
        [
         "7",
         "hsa00240",
         "Pyrimidine metabolism",
         "WP4022"
        ],
        [
         "8",
         "hsa00380",
         "Tryptophan metabolism",
         "WP465"
        ],
        [
         "9",
         "hsa00450",
         "Selenium metabolism and selenoproteins",
         "WP28"
        ],
        [
         "10",
         "hsa00480",
         "Glutathione metabolism",
         "WP100"
        ],
        [
         "11",
         "hsa00600",
         "Sphingolipid pathway",
         "WP1422"
        ],
        [
         "12",
         "hsa03030",
         "DNA replication",
         "WP466"
        ],
        [
         "13",
         "hsa03050",
         "Proteasome degradation",
         "WP183"
        ],
        [
         "14",
         "hsa03320",
         "PPAR signaling",
         "WP3942"
        ],
        [
         "15",
         "hsa03430",
         "DNA mismatch repair",
         "WP531"
        ],
        [
         "16",
         "hsa03440",
         "Homologous recombination",
         "WP186"
        ],
        [
         "17",
         "hsa03450",
         "Non-homologous end joining",
         "WP438"
        ],
        [
         "18",
         "hsa04010",
         "MAPK signaling",
         "WP382"
        ],
        [
         "19",
         "hsa04012",
         "ErbB signaling",
         "WP673"
        ],
        [
         "20",
         "hsa04062",
         "Chemokine signaling",
         "WP3929"
        ],
        [
         "21",
         "hsa04110",
         "Cell cycle",
         "WP179"
        ],
        [
         "22",
         "hsa04150",
         "Target of rapamycin signaling",
         "WP1471"
        ],
        [
         "23",
         "hsa04151",
         "PI3K-Akt signaling",
         "WP4172"
        ],
        [
         "24",
         "hsa04152",
         "AMP-activated protein kinase signaling",
         "WP1403"
        ],
        [
         "25",
         "hsa04210",
         "Apoptosis",
         "WP254"
        ],
        [
         "26",
         "hsa04310",
         "Wnt signaling",
         "WP428"
        ],
        [
         "27",
         "hsa04330",
         "Canonical and non-canonical Notch signaling;Notch signaling",
         "WP3845;WP61"
        ],
        [
         "28",
         "hsa04340",
         "Hedgehog signaling",
         "WP47"
        ],
        [
         "29",
         "hsa04350",
         "TGF-beta signaling",
         "WP366"
        ],
        [
         "30",
         "hsa04510",
         "Focal adhesion",
         "WP306"
        ],
        [
         "31",
         "hsa04610",
         "Complement and coagulation cascades",
         "WP558"
        ],
        [
         "32",
         "hsa04620",
         "Toll-like receptor signaling related to MyD88;Toll-like receptor signaling",
         "WP3858;WP75"
        ],
        [
         "33",
         "hsa04622",
         "Novel intracellular components of RIG-I-like receptor pathway",
         "WP3865"
        ],
        [
         "34",
         "hsa04657",
         "IL17 signaling",
         "WP2112"
        ],
        [
         "35",
         "hsa04662",
         "B cell receptor signaling",
         "WP23"
        ],
        [
         "36",
         "hsa04721",
         "Synaptic vesicle pathway",
         "WP2267"
        ],
        [
         "37",
         "hsa04810",
         "Regulation of actin cytoskeleton",
         "WP51"
        ],
        [
         "38",
         "hsa04915",
         "Estrogen signaling",
         "WP712"
        ],
        [
         "39",
         "hsa04917",
         "Prolactin signaling",
         "WP2037"
        ],
        [
         "40",
         "hsa04918",
         "Thyroxine (thyroid hormone) production",
         "WP1981"
        ],
        [
         "41",
         "hsa04921",
         "Oxytocin signaling",
         "WP2889"
        ],
        [
         "42",
         "hsa04930",
         "Type II diabetes mellitus",
         "WP1584"
        ],
        [
         "43",
         "hsa04971",
         "Secretion of hydrochloric acid in parietal cells",
         "WP2597"
        ],
        [
         "44",
         "hsa05010",
         "Alzheimer's disease and miRNA effects",
         "WP2059"
        ],
        [
         "45",
         "hsa05012",
         "Parkinson's disease pathway",
         "WP2371"
        ],
        [
         "46",
         "hsa05014",
         "Amyotrophic lateral sclerosis (ALS)",
         "WP2447"
        ],
        [
         "47",
         "hsa05020",
         "Prion disease pathway",
         "WP3995"
        ],
        [
         "48",
         "hsa05130",
         "Pathogenic Escherichia coli infection",
         "WP2272"
        ],
        [
         "49",
         "hsa05213",
         "Endometrial cancer",
         "WP4155"
        ]
       ],
       "shape": {
        "columns": 3,
        "rows": 1533
       }
      },
      "text/html": [
       "<div>\n",
       "<style scoped>\n",
       "    .dataframe tbody tr th:only-of-type {\n",
       "        vertical-align: middle;\n",
       "    }\n",
       "\n",
       "    .dataframe tbody tr th {\n",
       "        vertical-align: top;\n",
       "    }\n",
       "\n",
       "    .dataframe thead th {\n",
       "        text-align: right;\n",
       "    }\n",
       "</style>\n",
       "<table border=\"1\" class=\"dataframe\">\n",
       "  <thead>\n",
       "    <tr style=\"text-align: right;\">\n",
       "      <th></th>\n",
       "      <th>kegg_id</th>\n",
       "      <th>WikiPathways_Name</th>\n",
       "      <th>wikipathway_ID</th>\n",
       "    </tr>\n",
       "  </thead>\n",
       "  <tbody>\n",
       "    <tr>\n",
       "      <th>0</th>\n",
       "      <td>hsa00010</td>\n",
       "      <td>Glycolysis and gluconeogenesis</td>\n",
       "      <td>WP534</td>\n",
       "    </tr>\n",
       "    <tr>\n",
       "      <th>1</th>\n",
       "      <td>hsa00020</td>\n",
       "      <td>TCA cycle (aka Krebs or citric acid cycle)</td>\n",
       "      <td>WP78</td>\n",
       "    </tr>\n",
       "    <tr>\n",
       "      <th>2</th>\n",
       "      <td>hsa00030</td>\n",
       "      <td>Pentose phosphate metabolism</td>\n",
       "      <td>WP134</td>\n",
       "    </tr>\n",
       "    <tr>\n",
       "      <th>3</th>\n",
       "      <td>hsa00061</td>\n",
       "      <td>Fatty acid biosynthesis</td>\n",
       "      <td>WP357</td>\n",
       "    </tr>\n",
       "    <tr>\n",
       "      <th>4</th>\n",
       "      <td>hsa00072</td>\n",
       "      <td></td>\n",
       "      <td>WP311</td>\n",
       "    </tr>\n",
       "    <tr>\n",
       "      <th>...</th>\n",
       "      <td>...</td>\n",
       "      <td>...</td>\n",
       "      <td>...</td>\n",
       "    </tr>\n",
       "    <tr>\n",
       "      <th>1528</th>\n",
       "      <td>NaN</td>\n",
       "      <td>Monoamine transport</td>\n",
       "      <td>WP727</td>\n",
       "    </tr>\n",
       "    <tr>\n",
       "      <th>1529</th>\n",
       "      <td>NaN</td>\n",
       "      <td>Serotonin receptor 2 and ELK-SRF/GATA4 signaling</td>\n",
       "      <td>WP732</td>\n",
       "    </tr>\n",
       "    <tr>\n",
       "      <th>1530</th>\n",
       "      <td>NaN</td>\n",
       "      <td>Serotonin receptor 4/6/7 and NR3C signaling</td>\n",
       "      <td>WP734</td>\n",
       "    </tr>\n",
       "    <tr>\n",
       "      <th>1533</th>\n",
       "      <td>NaN</td>\n",
       "      <td>Nucleotide GPCRs</td>\n",
       "      <td>WP80</td>\n",
       "    </tr>\n",
       "    <tr>\n",
       "      <th>1534</th>\n",
       "      <td>NaN</td>\n",
       "      <td>Prostaglandin synthesis and regulation</td>\n",
       "      <td>WP98</td>\n",
       "    </tr>\n",
       "  </tbody>\n",
       "</table>\n",
       "<p>1533 rows × 3 columns</p>\n",
       "</div>"
      ],
      "text/plain": [
       "       kegg_id                                 WikiPathways_Name  \\\n",
       "0     hsa00010                    Glycolysis and gluconeogenesis   \n",
       "1     hsa00020        TCA cycle (aka Krebs or citric acid cycle)   \n",
       "2     hsa00030                      Pentose phosphate metabolism   \n",
       "3     hsa00061                           Fatty acid biosynthesis   \n",
       "4     hsa00072                                                     \n",
       "...        ...                                               ...   \n",
       "1528       NaN                               Monoamine transport   \n",
       "1529       NaN  Serotonin receptor 2 and ELK-SRF/GATA4 signaling   \n",
       "1530       NaN       Serotonin receptor 4/6/7 and NR3C signaling   \n",
       "1533       NaN                                  Nucleotide GPCRs   \n",
       "1534       NaN            Prostaglandin synthesis and regulation   \n",
       "\n",
       "     wikipathway_ID  \n",
       "0             WP534  \n",
       "1              WP78  \n",
       "2             WP134  \n",
       "3             WP357  \n",
       "4             WP311  \n",
       "...             ...  \n",
       "1528          WP727  \n",
       "1529          WP732  \n",
       "1530          WP734  \n",
       "1533           WP80  \n",
       "1534           WP98  \n",
       "\n",
       "[1533 rows x 3 columns]"
      ]
     },
     "execution_count": 28,
     "metadata": {},
     "output_type": "execute_result"
    }
   ],
   "source": [
    "df_wikipathways_kegg = pd.merge(df_wikipathways_filter, df_mapping_equivalent_kegg_wiki, left_on='id', right_on='wikipathway_id', how='outer')\n",
    "df_wikipathways_kegg = merge_column(df_wikipathways_kegg, 'id', 'wikipathway_id', 'wikipathway_ID')\n",
    "\n",
    "df_wikipathways_kegg_null = df_wikipathways_kegg[df_wikipathways_kegg['kegg_id'].isnull()]\n",
    "df_wikipathways_kegg_full = df_wikipathways_kegg.dropna(subset=['kegg_id'])\n",
    "\n",
    "df_combined_filtered = df_wikipathways_kegg_full.groupby('kegg_id').agg({\n",
    "    'WikiPathways_Name': lambda x: ';'.join(x.dropna()),\n",
    "    'wikipathway_ID': lambda x: ';'.join(x.dropna())\n",
    "}).reset_index()\n",
    "\n",
    "df_wikipathways_kegg_final = pd.concat([df_combined_filtered, df_wikipathways_kegg_null], axis=0)\n",
    "df_wikipathways_kegg_final"
   ]
  },
  {
   "cell_type": "code",
   "execution_count": 29,
   "metadata": {},
   "outputs": [
    {
     "data": {
      "application/vnd.microsoft.datawrangler.viewer.v0+json": {
       "columns": [
        {
         "name": "index",
         "rawType": "int64",
         "type": "integer"
        },
        {
         "name": "id",
         "rawType": "object",
         "type": "unknown"
        },
        {
         "name": "PO_Name",
         "rawType": "object",
         "type": "unknown"
        },
        {
         "name": "KEGG_Name",
         "rawType": "object",
         "type": "unknown"
        },
        {
         "name": "Reactome_Name",
         "rawType": "object",
         "type": "unknown"
        },
        {
         "name": "Reactome_ID",
         "rawType": "object",
         "type": "unknown"
        },
        {
         "name": "WikiPathways_Name",
         "rawType": "object",
         "type": "unknown"
        },
        {
         "name": "wikipathway_ID",
         "rawType": "object",
         "type": "unknown"
        },
        {
         "name": "KEGG_id",
         "rawType": "object",
         "type": "unknown"
        }
       ],
       "conversionMethod": "pd.DataFrame",
       "ref": "406d73d3-5ea0-47ca-a8c1-f6aa69a7a7c3",
       "rows": [
        [
         "0",
         "PW:0000640",
         "glycolysis pathway",
         "Glycolysis / Gluconeogenesis",
         "Glycolysis",
         "R-HSA-70171",
         "Glycolysis and gluconeogenesis",
         "WP534",
         "hsa00010"
        ],
        [
         "1",
         "PW:0000641",
         "gluconeogenesis pathway",
         "Glycolysis / Gluconeogenesis",
         "Gluconeogenesis",
         "R-HSA-70263",
         "Glycolysis and gluconeogenesis",
         "WP534",
         "hsa00010"
        ],
        [
         "2",
         "PW:0000025",
         "glycolysis/gluconeogenesis pathway",
         "Glycolysis / Gluconeogenesis",
         null,
         null,
         "Glycolysis and gluconeogenesis",
         "WP534",
         "hsa00010"
        ],
        [
         "3",
         "PW:0000026",
         "citric acid cycle pathway",
         "Citrate cycle (TCA cycle)",
         "Citric acid cycle (TCA cycle)",
         "R-HSA-71403",
         "TCA cycle (aka Krebs or citric acid cycle)",
         "WP78",
         "hsa00020"
        ],
        [
         "4",
         "PW:0000045",
         "pentose phosphate pathway",
         "Pentose phosphate pathway",
         "Pentose phosphate pathway",
         "R-HSA-71336",
         "Pentose phosphate metabolism",
         "WP134",
         "hsa00030"
        ],
        [
         "5",
         null,
         null,
         "Pentose and glucuronate interconversions",
         null,
         null,
         null,
         null,
         "hsa00040"
        ],
        [
         "6",
         "PW:0000041",
         "fructose and mannose metabolic pathway",
         "Fructose and mannose metabolism",
         null,
         null,
         null,
         null,
         "hsa00051"
        ],
        [
         "7",
         null,
         null,
         "Galactose metabolism",
         null,
         null,
         null,
         null,
         "hsa00052"
        ],
        [
         "8",
         "PW:0000062",
         "ascorbate and aldarate metabolic pathway",
         "Ascorbate and aldarate metabolism",
         null,
         null,
         null,
         null,
         "hsa00053"
        ],
        [
         "9",
         "PW:0000029",
         "fatty acid biosynthetic pathway",
         "Fatty acid biosynthesis",
         null,
         null,
         "Fatty acid biosynthesis",
         "WP357",
         "hsa00061"
        ],
        [
         "10",
         "PW:0001136",
         "fatty acid elongation pathway",
         "Fatty acid elongation",
         null,
         null,
         null,
         null,
         "hsa00062"
        ],
        [
         "11",
         "PW:0000058",
         "fatty acid metabolic pathway",
         "Fatty acid degradation",
         "Fatty acid metabolism",
         "R-HSA-8978868",
         null,
         null,
         "hsa00071"
        ],
        [
         "12",
         "PW:0000069",
         "ketone bodies metabolic pathway",
         null,
         "Ketone body metabolism",
         "R-HSA-74182",
         "",
         "WP311",
         "hsa00072"
        ],
        [
         "13",
         "PW:0000777",
         "ketone bodies degradation pathway",
         null,
         "Utilization of Ketone Bodies",
         "R-HSA-77108",
         "",
         "WP311",
         "hsa00072"
        ],
        [
         "14",
         "PW:0000776",
         "ketone bodies biosynthetic pathway",
         null,
         "Synthesis of Ketone Bodies",
         "R-HSA-77111",
         "",
         "WP311",
         "hsa00072"
        ],
        [
         "15",
         "PW:0001152",
         "steroid biosynthetic pathway",
         "Steroid biosynthesis",
         null,
         null,
         "Steroid biosynthesis",
         "WP496",
         "hsa00100"
        ],
        [
         "16",
         "PW:0000039",
         "bile acid biosynthetic pathway",
         "Primary bile acid biosynthesis",
         null,
         null,
         null,
         null,
         "hsa00120"
        ],
        [
         "17",
         "PW:0001060",
         "primary bile acid biosynthetic pathway",
         "Primary bile acid biosynthesis",
         null,
         null,
         null,
         null,
         "hsa00120"
        ],
        [
         "18",
         "PW:0001061",
         "secondary bile acid biosynthetic pathway",
         null,
         null,
         null,
         null,
         null,
         "hsa00121"
        ],
        [
         "19",
         "PW:0000142",
         "ubiquinone biosynthetic pathway",
         "Ubiquinone and other terpenoid-quinone biosynthesis",
         "Ubiquinol biosynthesis",
         "R-HSA-2142789",
         null,
         null,
         "hsa00130"
        ],
        [
         "20",
         "PW:0000070",
         "C21-steroid hormone biosynthetic pathway",
         "Steroid hormone biosynthesis",
         null,
         null,
         null,
         null,
         "hsa00140"
        ],
        [
         "21",
         null,
         null,
         "Oxidative phosphorylation",
         null,
         null,
         "Oxidative phosphorylation",
         "WP623",
         "hsa00190"
        ],
        [
         "22",
         null,
         null,
         "Arginine biosynthesis",
         null,
         null,
         null,
         null,
         "hsa00220"
        ],
        [
         "23",
         "PW:0000031",
         "purine metabolic pathway",
         "Purine metabolism",
         null,
         null,
         null,
         null,
         "hsa00230"
        ],
        [
         "24",
         "PW:0000260",
         "puromycin biosynthetic pathway",
         null,
         null,
         null,
         null,
         null,
         "hsa00231"
        ],
        [
         "25",
         "PW:0001153",
         "caffeine metabolic pathway",
         "Caffeine metabolism",
         null,
         null,
         null,
         null,
         "hsa00232"
        ],
        [
         "26",
         "PW:0000032",
         "pyrimidine metabolic pathway",
         "Pyrimidine metabolism",
         null,
         null,
         "Pyrimidine metabolism",
         "WP4022",
         "hsa00240"
        ],
        [
         "27",
         null,
         null,
         "Alanine, aspartate and glutamate metabolism",
         null,
         null,
         null,
         null,
         "hsa00250"
        ],
        [
         "28",
         "PW:0000258",
         "tetracycline biosynthetic pathway",
         null,
         null,
         null,
         null,
         null,
         "hsa00253"
        ],
        [
         "29",
         null,
         null,
         "Glycine, serine and threonine metabolism",
         null,
         null,
         null,
         null,
         "hsa00260"
        ],
        [
         "30",
         null,
         null,
         "Cysteine and methionine metabolism",
         null,
         null,
         null,
         null,
         "hsa00270"
        ],
        [
         "31",
         "PW:0000071",
         "valine, leucine and isoleucine degradation pathway",
         "Valine, leucine and isoleucine degradation",
         "Branched-chain amino acid catabolism",
         "R-HSA-70895",
         null,
         null,
         "hsa00280"
        ],
        [
         "32",
         "PW:0000694",
         "geraniol degradation pathway",
         null,
         null,
         null,
         null,
         null,
         "hsa00281"
        ],
        [
         "33",
         null,
         null,
         "Valine, leucine and isoleucine biosynthesis",
         null,
         null,
         null,
         null,
         "hsa00290"
        ],
        [
         "34",
         "PW:0000074",
         "lysine biosynthetic pathway",
         null,
         null,
         null,
         null,
         null,
         "hsa00300"
        ],
        [
         "35",
         "PW:0000073",
         "lysine degradation pathway",
         "Lysine degradation",
         "Lysine catabolism",
         "R-HSA-71064",
         null,
         null,
         "hsa00310"
        ],
        [
         "36",
         "PW:0000254",
         "penicillins and cephalosporins biosynthetic pathway",
         null,
         null,
         null,
         null,
         null,
         "hsa00311"
        ],
        [
         "37",
         "PW:0000255",
         "beta-Lactam resistance pathway",
         null,
         null,
         null,
         null,
         null,
         "hsa00312"
        ],
        [
         "38",
         null,
         null,
         "Arginine and proline metabolism",
         null,
         null,
         null,
         null,
         "hsa00330"
        ],
        [
         "39",
         "PW:0000259",
         "clavulanic acid biosynthetic pathway",
         null,
         null,
         null,
         null,
         null,
         "hsa00331"
        ],
        [
         "40",
         "PW:0000051",
         "histidine metabolic pathway",
         "Histidine metabolism",
         null,
         null,
         null,
         null,
         "hsa00340"
        ],
        [
         "41",
         "PW:0000052",
         "tyrosine metabolic pathway",
         "Tyrosine metabolism",
         null,
         null,
         null,
         null,
         "hsa00350"
        ],
        [
         "42",
         "PW:0000053",
         "phenylalanine metabolic pathway",
         "Phenylalanine metabolism",
         "Phenylalanine metabolism",
         "R-HSA-8964208",
         null,
         null,
         "hsa00360"
        ],
        [
         "43",
         "PW:0000111",
         "gamma-hexachlorocyclohexane degradation pathway",
         null,
         null,
         null,
         null,
         null,
         "hsa00361"
        ],
        [
         "44",
         "PW:0000114",
         "benzoate degradation pathway via hydroxylation",
         null,
         null,
         null,
         null,
         null,
         "hsa00362"
        ],
        [
         "45",
         "PW:0000109",
         "bisphenol A degradation pathway",
         null,
         null,
         null,
         null,
         null,
         "hsa00363"
        ],
        [
         "46",
         "PW:0000054",
         "tryptophan metabolic pathway",
         "Tryptophan metabolism",
         null,
         null,
         "Tryptophan metabolism",
         "WP465",
         "hsa00380"
        ],
        [
         "47",
         null,
         null,
         "Phenylalanine, tyrosine and tryptophan biosynthesis",
         null,
         null,
         null,
         null,
         "hsa00400"
        ],
        [
         "48",
         "PW:0000320",
         "novobiocin biosynthetic pathway",
         null,
         null,
         null,
         null,
         null,
         "hsa00401"
        ],
        [
         "49",
         "PW:0000077",
         "beta-alanine metabolic pathway",
         "beta-Alanine metabolism",
         null,
         null,
         null,
         null,
         "hsa00410"
        ]
       ],
       "shape": {
        "columns": 8,
        "rows": 5313
       }
      },
      "text/html": [
       "<div>\n",
       "<style scoped>\n",
       "    .dataframe tbody tr th:only-of-type {\n",
       "        vertical-align: middle;\n",
       "    }\n",
       "\n",
       "    .dataframe tbody tr th {\n",
       "        vertical-align: top;\n",
       "    }\n",
       "\n",
       "    .dataframe thead th {\n",
       "        text-align: right;\n",
       "    }\n",
       "</style>\n",
       "<table border=\"1\" class=\"dataframe\">\n",
       "  <thead>\n",
       "    <tr style=\"text-align: right;\">\n",
       "      <th></th>\n",
       "      <th>id</th>\n",
       "      <th>PO_Name</th>\n",
       "      <th>KEGG_Name</th>\n",
       "      <th>Reactome_Name</th>\n",
       "      <th>Reactome_ID</th>\n",
       "      <th>WikiPathways_Name</th>\n",
       "      <th>wikipathway_ID</th>\n",
       "      <th>KEGG_id</th>\n",
       "    </tr>\n",
       "  </thead>\n",
       "  <tbody>\n",
       "    <tr>\n",
       "      <th>0</th>\n",
       "      <td>PW:0000640</td>\n",
       "      <td>glycolysis pathway</td>\n",
       "      <td>Glycolysis / Gluconeogenesis</td>\n",
       "      <td>Glycolysis</td>\n",
       "      <td>R-HSA-70171</td>\n",
       "      <td>Glycolysis and gluconeogenesis</td>\n",
       "      <td>WP534</td>\n",
       "      <td>hsa00010</td>\n",
       "    </tr>\n",
       "    <tr>\n",
       "      <th>1</th>\n",
       "      <td>PW:0000641</td>\n",
       "      <td>gluconeogenesis pathway</td>\n",
       "      <td>Glycolysis / Gluconeogenesis</td>\n",
       "      <td>Gluconeogenesis</td>\n",
       "      <td>R-HSA-70263</td>\n",
       "      <td>Glycolysis and gluconeogenesis</td>\n",
       "      <td>WP534</td>\n",
       "      <td>hsa00010</td>\n",
       "    </tr>\n",
       "    <tr>\n",
       "      <th>2</th>\n",
       "      <td>PW:0000025</td>\n",
       "      <td>glycolysis/gluconeogenesis pathway</td>\n",
       "      <td>Glycolysis / Gluconeogenesis</td>\n",
       "      <td>NaN</td>\n",
       "      <td>NaN</td>\n",
       "      <td>Glycolysis and gluconeogenesis</td>\n",
       "      <td>WP534</td>\n",
       "      <td>hsa00010</td>\n",
       "    </tr>\n",
       "    <tr>\n",
       "      <th>3</th>\n",
       "      <td>PW:0000026</td>\n",
       "      <td>citric acid cycle pathway</td>\n",
       "      <td>Citrate cycle (TCA cycle)</td>\n",
       "      <td>Citric acid cycle (TCA cycle)</td>\n",
       "      <td>R-HSA-71403</td>\n",
       "      <td>TCA cycle (aka Krebs or citric acid cycle)</td>\n",
       "      <td>WP78</td>\n",
       "      <td>hsa00020</td>\n",
       "    </tr>\n",
       "    <tr>\n",
       "      <th>4</th>\n",
       "      <td>PW:0000045</td>\n",
       "      <td>pentose phosphate pathway</td>\n",
       "      <td>Pentose phosphate pathway</td>\n",
       "      <td>Pentose phosphate pathway</td>\n",
       "      <td>R-HSA-71336</td>\n",
       "      <td>Pentose phosphate metabolism</td>\n",
       "      <td>WP134</td>\n",
       "      <td>hsa00030</td>\n",
       "    </tr>\n",
       "    <tr>\n",
       "      <th>...</th>\n",
       "      <td>...</td>\n",
       "      <td>...</td>\n",
       "      <td>...</td>\n",
       "      <td>...</td>\n",
       "      <td>...</td>\n",
       "      <td>...</td>\n",
       "      <td>...</td>\n",
       "      <td>...</td>\n",
       "    </tr>\n",
       "    <tr>\n",
       "      <th>5308</th>\n",
       "      <td>PW:0002639</td>\n",
       "      <td>heme transport pathway</td>\n",
       "      <td>NaN</td>\n",
       "      <td>NaN</td>\n",
       "      <td>NaN</td>\n",
       "      <td>NaN</td>\n",
       "      <td>NaN</td>\n",
       "      <td>NaN</td>\n",
       "    </tr>\n",
       "    <tr>\n",
       "      <th>5309</th>\n",
       "      <td>PW:0002640</td>\n",
       "      <td>acrolein response pathway</td>\n",
       "      <td>NaN</td>\n",
       "      <td>NaN</td>\n",
       "      <td>NaN</td>\n",
       "      <td>NaN</td>\n",
       "      <td>NaN</td>\n",
       "      <td>NaN</td>\n",
       "    </tr>\n",
       "    <tr>\n",
       "      <th>5310</th>\n",
       "      <td>PW:0002641</td>\n",
       "      <td>Toll-like receptor 1 signaling pathway</td>\n",
       "      <td>NaN</td>\n",
       "      <td>NaN</td>\n",
       "      <td>NaN</td>\n",
       "      <td>NaN</td>\n",
       "      <td>NaN</td>\n",
       "      <td>NaN</td>\n",
       "    </tr>\n",
       "    <tr>\n",
       "      <th>5311</th>\n",
       "      <td>PW:0002646</td>\n",
       "      <td>Toll-like receptor 6 signaling pathway</td>\n",
       "      <td>NaN</td>\n",
       "      <td>NaN</td>\n",
       "      <td>NaN</td>\n",
       "      <td>NaN</td>\n",
       "      <td>NaN</td>\n",
       "      <td>NaN</td>\n",
       "    </tr>\n",
       "    <tr>\n",
       "      <th>5312</th>\n",
       "      <td>PW:0002669</td>\n",
       "      <td>selenocysteine biosynthetic pathway</td>\n",
       "      <td>NaN</td>\n",
       "      <td>NaN</td>\n",
       "      <td>NaN</td>\n",
       "      <td>NaN</td>\n",
       "      <td>NaN</td>\n",
       "      <td>NaN</td>\n",
       "    </tr>\n",
       "  </tbody>\n",
       "</table>\n",
       "<p>5313 rows × 8 columns</p>\n",
       "</div>"
      ],
      "text/plain": [
       "              id                                 PO_Name  \\\n",
       "0     PW:0000640                      glycolysis pathway   \n",
       "1     PW:0000641                 gluconeogenesis pathway   \n",
       "2     PW:0000025      glycolysis/gluconeogenesis pathway   \n",
       "3     PW:0000026               citric acid cycle pathway   \n",
       "4     PW:0000045               pentose phosphate pathway   \n",
       "...          ...                                     ...   \n",
       "5308  PW:0002639                  heme transport pathway   \n",
       "5309  PW:0002640               acrolein response pathway   \n",
       "5310  PW:0002641  Toll-like receptor 1 signaling pathway   \n",
       "5311  PW:0002646  Toll-like receptor 6 signaling pathway   \n",
       "5312  PW:0002669     selenocysteine biosynthetic pathway   \n",
       "\n",
       "                         KEGG_Name                  Reactome_Name  \\\n",
       "0     Glycolysis / Gluconeogenesis                     Glycolysis   \n",
       "1     Glycolysis / Gluconeogenesis                Gluconeogenesis   \n",
       "2     Glycolysis / Gluconeogenesis                            NaN   \n",
       "3        Citrate cycle (TCA cycle)  Citric acid cycle (TCA cycle)   \n",
       "4        Pentose phosphate pathway      Pentose phosphate pathway   \n",
       "...                            ...                            ...   \n",
       "5308                           NaN                            NaN   \n",
       "5309                           NaN                            NaN   \n",
       "5310                           NaN                            NaN   \n",
       "5311                           NaN                            NaN   \n",
       "5312                           NaN                            NaN   \n",
       "\n",
       "      Reactome_ID                           WikiPathways_Name wikipathway_ID  \\\n",
       "0     R-HSA-70171              Glycolysis and gluconeogenesis          WP534   \n",
       "1     R-HSA-70263              Glycolysis and gluconeogenesis          WP534   \n",
       "2             NaN              Glycolysis and gluconeogenesis          WP534   \n",
       "3     R-HSA-71403  TCA cycle (aka Krebs or citric acid cycle)           WP78   \n",
       "4     R-HSA-71336                Pentose phosphate metabolism          WP134   \n",
       "...           ...                                         ...            ...   \n",
       "5308          NaN                                         NaN            NaN   \n",
       "5309          NaN                                         NaN            NaN   \n",
       "5310          NaN                                         NaN            NaN   \n",
       "5311          NaN                                         NaN            NaN   \n",
       "5312          NaN                                         NaN            NaN   \n",
       "\n",
       "       KEGG_id  \n",
       "0     hsa00010  \n",
       "1     hsa00010  \n",
       "2     hsa00010  \n",
       "3     hsa00020  \n",
       "4     hsa00030  \n",
       "...        ...  \n",
       "5308       NaN  \n",
       "5309       NaN  \n",
       "5310       NaN  \n",
       "5311       NaN  \n",
       "5312       NaN  \n",
       "\n",
       "[5313 rows x 8 columns]"
      ]
     },
     "execution_count": 29,
     "metadata": {},
     "output_type": "execute_result"
    }
   ],
   "source": [
    "df_wikipathways_kegg_final_null = df_wikipathways_kegg_final[df_wikipathways_kegg_final['kegg_id'].isnull()]\n",
    "df_wikipathways_kegg_final_full = df_wikipathways_kegg_final.dropna(subset=['kegg_id'])\n",
    "\n",
    "df_po_kegg_reactome_compath_wikipathway = pd.merge(df_po_kegg_reactome_compath, df_wikipathways_kegg_final_full, left_on='KEGG_ID', right_on='kegg_id', how='outer')\n",
    "df_po_kegg_reactome_compath_wikipathway = merge_column(df_po_kegg_reactome_compath_wikipathway, 'KEGG_ID', 'kegg_id', 'KEGG_id')\n",
    "df_po_kegg_reactome_compath_wikipathway"
   ]
  },
  {
   "cell_type": "code",
   "execution_count": 30,
   "metadata": {},
   "outputs": [
    {
     "data": {
      "application/vnd.microsoft.datawrangler.viewer.v0+json": {
       "columns": [
        {
         "name": "index",
         "rawType": "int64",
         "type": "integer"
        },
        {
         "name": "id",
         "rawType": "object",
         "type": "unknown"
        },
        {
         "name": "PO_Name",
         "rawType": "object",
         "type": "unknown"
        },
        {
         "name": "KEGG_Name",
         "rawType": "object",
         "type": "unknown"
        },
        {
         "name": "Reactome_Name",
         "rawType": "object",
         "type": "unknown"
        },
        {
         "name": "Reactome_ID",
         "rawType": "object",
         "type": "unknown"
        },
        {
         "name": "WikiPathways_Name",
         "rawType": "object",
         "type": "unknown"
        },
        {
         "name": "wikipathway_ID",
         "rawType": "object",
         "type": "unknown"
        },
        {
         "name": "KEGG_id",
         "rawType": "object",
         "type": "unknown"
        }
       ],
       "conversionMethod": "pd.DataFrame",
       "ref": "97b5f2de-e0c0-420d-ad08-86f441d1a5b8",
       "rows": [
        [
         "0",
         "PW:0000640",
         "glycolysis pathway",
         "Glycolysis / Gluconeogenesis",
         "Glycolysis",
         "R-HSA-70171",
         "Glycolysis and gluconeogenesis",
         "WP534",
         "hsa00010"
        ],
        [
         "1",
         "PW:0000641",
         "gluconeogenesis pathway",
         "Glycolysis / Gluconeogenesis",
         "Gluconeogenesis",
         "R-HSA-70263",
         "Glycolysis and gluconeogenesis",
         "WP534",
         "hsa00010"
        ],
        [
         "2",
         "PW:0000025",
         "glycolysis/gluconeogenesis pathway",
         "Glycolysis / Gluconeogenesis",
         null,
         null,
         "Glycolysis and gluconeogenesis",
         "WP534",
         "hsa00010"
        ],
        [
         "3",
         "PW:0000026",
         "citric acid cycle pathway",
         "Citrate cycle (TCA cycle)",
         "Citric acid cycle (TCA cycle)",
         "R-HSA-71403",
         "TCA cycle (aka Krebs or citric acid cycle)",
         "WP78",
         "hsa00020"
        ],
        [
         "4",
         "PW:0000045",
         "pentose phosphate pathway",
         "Pentose phosphate pathway",
         "Pentose phosphate pathway",
         "R-HSA-71336",
         "Pentose phosphate metabolism",
         "WP134",
         "hsa00030"
        ],
        [
         "5",
         null,
         null,
         "Pentose and glucuronate interconversions",
         null,
         null,
         null,
         null,
         "hsa00040"
        ],
        [
         "6",
         "PW:0000041",
         "fructose and mannose metabolic pathway",
         "Fructose and mannose metabolism",
         null,
         null,
         null,
         null,
         "hsa00051"
        ],
        [
         "7",
         null,
         null,
         "Galactose metabolism",
         null,
         null,
         null,
         null,
         "hsa00052"
        ],
        [
         "8",
         "PW:0000062",
         "ascorbate and aldarate metabolic pathway",
         "Ascorbate and aldarate metabolism",
         null,
         null,
         null,
         null,
         "hsa00053"
        ],
        [
         "9",
         "PW:0000029",
         "fatty acid biosynthetic pathway",
         "Fatty acid biosynthesis",
         null,
         null,
         "Fatty acid biosynthesis",
         "WP357",
         "hsa00061"
        ],
        [
         "10",
         "PW:0001136",
         "fatty acid elongation pathway",
         "Fatty acid elongation",
         null,
         null,
         null,
         null,
         "hsa00062"
        ],
        [
         "11",
         "PW:0000058",
         "fatty acid metabolic pathway",
         "Fatty acid degradation",
         "Fatty acid metabolism",
         "R-HSA-8978868",
         null,
         null,
         "hsa00071"
        ],
        [
         "12",
         "PW:0000069",
         "ketone bodies metabolic pathway",
         null,
         "Ketone body metabolism",
         "R-HSA-74182",
         "",
         "WP311",
         "hsa00072"
        ],
        [
         "13",
         "PW:0000777",
         "ketone bodies degradation pathway",
         null,
         "Utilization of Ketone Bodies",
         "R-HSA-77108",
         "",
         "WP311",
         "hsa00072"
        ],
        [
         "14",
         "PW:0000776",
         "ketone bodies biosynthetic pathway",
         null,
         "Synthesis of Ketone Bodies",
         "R-HSA-77111",
         "",
         "WP311",
         "hsa00072"
        ],
        [
         "15",
         "PW:0001152",
         "steroid biosynthetic pathway",
         "Steroid biosynthesis",
         null,
         null,
         "Steroid biosynthesis",
         "WP496",
         "hsa00100"
        ],
        [
         "16",
         "PW:0000039",
         "bile acid biosynthetic pathway",
         "Primary bile acid biosynthesis",
         null,
         null,
         null,
         null,
         "hsa00120"
        ],
        [
         "17",
         "PW:0001060",
         "primary bile acid biosynthetic pathway",
         "Primary bile acid biosynthesis",
         null,
         null,
         null,
         null,
         "hsa00120"
        ],
        [
         "18",
         "PW:0001061",
         "secondary bile acid biosynthetic pathway",
         null,
         null,
         null,
         null,
         null,
         "hsa00121"
        ],
        [
         "19",
         "PW:0000142",
         "ubiquinone biosynthetic pathway",
         "Ubiquinone and other terpenoid-quinone biosynthesis",
         "Ubiquinol biosynthesis",
         "R-HSA-2142789",
         null,
         null,
         "hsa00130"
        ],
        [
         "20",
         "PW:0000070",
         "C21-steroid hormone biosynthetic pathway",
         "Steroid hormone biosynthesis",
         null,
         null,
         null,
         null,
         "hsa00140"
        ],
        [
         "21",
         null,
         null,
         "Oxidative phosphorylation",
         null,
         null,
         "Oxidative phosphorylation",
         "WP623",
         "hsa00190"
        ],
        [
         "22",
         null,
         null,
         "Arginine biosynthesis",
         null,
         null,
         null,
         null,
         "hsa00220"
        ],
        [
         "23",
         "PW:0000031",
         "purine metabolic pathway",
         "Purine metabolism",
         null,
         null,
         null,
         null,
         "hsa00230"
        ],
        [
         "24",
         "PW:0000260",
         "puromycin biosynthetic pathway",
         null,
         null,
         null,
         null,
         null,
         "hsa00231"
        ],
        [
         "25",
         "PW:0001153",
         "caffeine metabolic pathway",
         "Caffeine metabolism",
         null,
         null,
         null,
         null,
         "hsa00232"
        ],
        [
         "26",
         "PW:0000032",
         "pyrimidine metabolic pathway",
         "Pyrimidine metabolism",
         null,
         null,
         "Pyrimidine metabolism",
         "WP4022",
         "hsa00240"
        ],
        [
         "27",
         null,
         null,
         "Alanine, aspartate and glutamate metabolism",
         null,
         null,
         null,
         null,
         "hsa00250"
        ],
        [
         "28",
         "PW:0000258",
         "tetracycline biosynthetic pathway",
         null,
         null,
         null,
         null,
         null,
         "hsa00253"
        ],
        [
         "29",
         null,
         null,
         "Glycine, serine and threonine metabolism",
         null,
         null,
         null,
         null,
         "hsa00260"
        ],
        [
         "30",
         null,
         null,
         "Cysteine and methionine metabolism",
         null,
         null,
         null,
         null,
         "hsa00270"
        ],
        [
         "31",
         "PW:0000071",
         "valine, leucine and isoleucine degradation pathway",
         "Valine, leucine and isoleucine degradation",
         "Branched-chain amino acid catabolism",
         "R-HSA-70895",
         null,
         null,
         "hsa00280"
        ],
        [
         "32",
         "PW:0000694",
         "geraniol degradation pathway",
         null,
         null,
         null,
         null,
         null,
         "hsa00281"
        ],
        [
         "33",
         null,
         null,
         "Valine, leucine and isoleucine biosynthesis",
         null,
         null,
         null,
         null,
         "hsa00290"
        ],
        [
         "34",
         "PW:0000074",
         "lysine biosynthetic pathway",
         null,
         null,
         null,
         null,
         null,
         "hsa00300"
        ],
        [
         "35",
         "PW:0000073",
         "lysine degradation pathway",
         "Lysine degradation",
         "Lysine catabolism",
         "R-HSA-71064",
         null,
         null,
         "hsa00310"
        ],
        [
         "36",
         "PW:0000254",
         "penicillins and cephalosporins biosynthetic pathway",
         null,
         null,
         null,
         null,
         null,
         "hsa00311"
        ],
        [
         "37",
         "PW:0000255",
         "beta-Lactam resistance pathway",
         null,
         null,
         null,
         null,
         null,
         "hsa00312"
        ],
        [
         "38",
         null,
         null,
         "Arginine and proline metabolism",
         null,
         null,
         null,
         null,
         "hsa00330"
        ],
        [
         "39",
         "PW:0000259",
         "clavulanic acid biosynthetic pathway",
         null,
         null,
         null,
         null,
         null,
         "hsa00331"
        ],
        [
         "40",
         "PW:0000051",
         "histidine metabolic pathway",
         "Histidine metabolism",
         null,
         null,
         null,
         null,
         "hsa00340"
        ],
        [
         "41",
         "PW:0000052",
         "tyrosine metabolic pathway",
         "Tyrosine metabolism",
         null,
         null,
         null,
         null,
         "hsa00350"
        ],
        [
         "42",
         "PW:0000053",
         "phenylalanine metabolic pathway",
         "Phenylalanine metabolism",
         "Phenylalanine metabolism",
         "R-HSA-8964208",
         null,
         null,
         "hsa00360"
        ],
        [
         "43",
         "PW:0000111",
         "gamma-hexachlorocyclohexane degradation pathway",
         null,
         null,
         null,
         null,
         null,
         "hsa00361"
        ],
        [
         "44",
         "PW:0000114",
         "benzoate degradation pathway via hydroxylation",
         null,
         null,
         null,
         null,
         null,
         "hsa00362"
        ],
        [
         "45",
         "PW:0000109",
         "bisphenol A degradation pathway",
         null,
         null,
         null,
         null,
         null,
         "hsa00363"
        ],
        [
         "46",
         "PW:0000054",
         "tryptophan metabolic pathway",
         "Tryptophan metabolism",
         null,
         null,
         "Tryptophan metabolism",
         "WP465",
         "hsa00380"
        ],
        [
         "47",
         null,
         null,
         "Phenylalanine, tyrosine and tryptophan biosynthesis",
         null,
         null,
         null,
         null,
         "hsa00400"
        ],
        [
         "48",
         "PW:0000320",
         "novobiocin biosynthetic pathway",
         null,
         null,
         null,
         null,
         null,
         "hsa00401"
        ],
        [
         "49",
         "PW:0000077",
         "beta-alanine metabolic pathway",
         "beta-Alanine metabolism",
         null,
         null,
         null,
         null,
         "hsa00410"
        ]
       ],
       "shape": {
        "columns": 8,
        "rows": 6793
       }
      },
      "text/html": [
       "<div>\n",
       "<style scoped>\n",
       "    .dataframe tbody tr th:only-of-type {\n",
       "        vertical-align: middle;\n",
       "    }\n",
       "\n",
       "    .dataframe tbody tr th {\n",
       "        vertical-align: top;\n",
       "    }\n",
       "\n",
       "    .dataframe thead th {\n",
       "        text-align: right;\n",
       "    }\n",
       "</style>\n",
       "<table border=\"1\" class=\"dataframe\">\n",
       "  <thead>\n",
       "    <tr style=\"text-align: right;\">\n",
       "      <th></th>\n",
       "      <th>id</th>\n",
       "      <th>PO_Name</th>\n",
       "      <th>KEGG_Name</th>\n",
       "      <th>Reactome_Name</th>\n",
       "      <th>Reactome_ID</th>\n",
       "      <th>WikiPathways_Name</th>\n",
       "      <th>wikipathway_ID</th>\n",
       "      <th>KEGG_id</th>\n",
       "    </tr>\n",
       "  </thead>\n",
       "  <tbody>\n",
       "    <tr>\n",
       "      <th>0</th>\n",
       "      <td>PW:0000640</td>\n",
       "      <td>glycolysis pathway</td>\n",
       "      <td>Glycolysis / Gluconeogenesis</td>\n",
       "      <td>Glycolysis</td>\n",
       "      <td>R-HSA-70171</td>\n",
       "      <td>Glycolysis and gluconeogenesis</td>\n",
       "      <td>WP534</td>\n",
       "      <td>hsa00010</td>\n",
       "    </tr>\n",
       "    <tr>\n",
       "      <th>1</th>\n",
       "      <td>PW:0000641</td>\n",
       "      <td>gluconeogenesis pathway</td>\n",
       "      <td>Glycolysis / Gluconeogenesis</td>\n",
       "      <td>Gluconeogenesis</td>\n",
       "      <td>R-HSA-70263</td>\n",
       "      <td>Glycolysis and gluconeogenesis</td>\n",
       "      <td>WP534</td>\n",
       "      <td>hsa00010</td>\n",
       "    </tr>\n",
       "    <tr>\n",
       "      <th>2</th>\n",
       "      <td>PW:0000025</td>\n",
       "      <td>glycolysis/gluconeogenesis pathway</td>\n",
       "      <td>Glycolysis / Gluconeogenesis</td>\n",
       "      <td>NaN</td>\n",
       "      <td>NaN</td>\n",
       "      <td>Glycolysis and gluconeogenesis</td>\n",
       "      <td>WP534</td>\n",
       "      <td>hsa00010</td>\n",
       "    </tr>\n",
       "    <tr>\n",
       "      <th>3</th>\n",
       "      <td>PW:0000026</td>\n",
       "      <td>citric acid cycle pathway</td>\n",
       "      <td>Citrate cycle (TCA cycle)</td>\n",
       "      <td>Citric acid cycle (TCA cycle)</td>\n",
       "      <td>R-HSA-71403</td>\n",
       "      <td>TCA cycle (aka Krebs or citric acid cycle)</td>\n",
       "      <td>WP78</td>\n",
       "      <td>hsa00020</td>\n",
       "    </tr>\n",
       "    <tr>\n",
       "      <th>4</th>\n",
       "      <td>PW:0000045</td>\n",
       "      <td>pentose phosphate pathway</td>\n",
       "      <td>Pentose phosphate pathway</td>\n",
       "      <td>Pentose phosphate pathway</td>\n",
       "      <td>R-HSA-71336</td>\n",
       "      <td>Pentose phosphate metabolism</td>\n",
       "      <td>WP134</td>\n",
       "      <td>hsa00030</td>\n",
       "    </tr>\n",
       "    <tr>\n",
       "      <th>...</th>\n",
       "      <td>...</td>\n",
       "      <td>...</td>\n",
       "      <td>...</td>\n",
       "      <td>...</td>\n",
       "      <td>...</td>\n",
       "      <td>...</td>\n",
       "      <td>...</td>\n",
       "      <td>...</td>\n",
       "    </tr>\n",
       "    <tr>\n",
       "      <th>1528</th>\n",
       "      <td>NaN</td>\n",
       "      <td>NaN</td>\n",
       "      <td>NaN</td>\n",
       "      <td>NaN</td>\n",
       "      <td>NaN</td>\n",
       "      <td>Monoamine transport</td>\n",
       "      <td>WP727</td>\n",
       "      <td>NaN</td>\n",
       "    </tr>\n",
       "    <tr>\n",
       "      <th>1529</th>\n",
       "      <td>NaN</td>\n",
       "      <td>NaN</td>\n",
       "      <td>NaN</td>\n",
       "      <td>NaN</td>\n",
       "      <td>NaN</td>\n",
       "      <td>Serotonin receptor 2 and ELK-SRF/GATA4 signaling</td>\n",
       "      <td>WP732</td>\n",
       "      <td>NaN</td>\n",
       "    </tr>\n",
       "    <tr>\n",
       "      <th>1530</th>\n",
       "      <td>NaN</td>\n",
       "      <td>NaN</td>\n",
       "      <td>NaN</td>\n",
       "      <td>NaN</td>\n",
       "      <td>NaN</td>\n",
       "      <td>Serotonin receptor 4/6/7 and NR3C signaling</td>\n",
       "      <td>WP734</td>\n",
       "      <td>NaN</td>\n",
       "    </tr>\n",
       "    <tr>\n",
       "      <th>1533</th>\n",
       "      <td>NaN</td>\n",
       "      <td>NaN</td>\n",
       "      <td>NaN</td>\n",
       "      <td>NaN</td>\n",
       "      <td>NaN</td>\n",
       "      <td>Nucleotide GPCRs</td>\n",
       "      <td>WP80</td>\n",
       "      <td>NaN</td>\n",
       "    </tr>\n",
       "    <tr>\n",
       "      <th>1534</th>\n",
       "      <td>NaN</td>\n",
       "      <td>NaN</td>\n",
       "      <td>NaN</td>\n",
       "      <td>NaN</td>\n",
       "      <td>NaN</td>\n",
       "      <td>Prostaglandin synthesis and regulation</td>\n",
       "      <td>WP98</td>\n",
       "      <td>NaN</td>\n",
       "    </tr>\n",
       "  </tbody>\n",
       "</table>\n",
       "<p>6793 rows × 8 columns</p>\n",
       "</div>"
      ],
      "text/plain": [
       "              id                             PO_Name  \\\n",
       "0     PW:0000640                  glycolysis pathway   \n",
       "1     PW:0000641             gluconeogenesis pathway   \n",
       "2     PW:0000025  glycolysis/gluconeogenesis pathway   \n",
       "3     PW:0000026           citric acid cycle pathway   \n",
       "4     PW:0000045           pentose phosphate pathway   \n",
       "...          ...                                 ...   \n",
       "1528         NaN                                 NaN   \n",
       "1529         NaN                                 NaN   \n",
       "1530         NaN                                 NaN   \n",
       "1533         NaN                                 NaN   \n",
       "1534         NaN                                 NaN   \n",
       "\n",
       "                         KEGG_Name                  Reactome_Name  \\\n",
       "0     Glycolysis / Gluconeogenesis                     Glycolysis   \n",
       "1     Glycolysis / Gluconeogenesis                Gluconeogenesis   \n",
       "2     Glycolysis / Gluconeogenesis                            NaN   \n",
       "3        Citrate cycle (TCA cycle)  Citric acid cycle (TCA cycle)   \n",
       "4        Pentose phosphate pathway      Pentose phosphate pathway   \n",
       "...                            ...                            ...   \n",
       "1528                           NaN                            NaN   \n",
       "1529                           NaN                            NaN   \n",
       "1530                           NaN                            NaN   \n",
       "1533                           NaN                            NaN   \n",
       "1534                           NaN                            NaN   \n",
       "\n",
       "      Reactome_ID                                 WikiPathways_Name  \\\n",
       "0     R-HSA-70171                    Glycolysis and gluconeogenesis   \n",
       "1     R-HSA-70263                    Glycolysis and gluconeogenesis   \n",
       "2             NaN                    Glycolysis and gluconeogenesis   \n",
       "3     R-HSA-71403        TCA cycle (aka Krebs or citric acid cycle)   \n",
       "4     R-HSA-71336                      Pentose phosphate metabolism   \n",
       "...           ...                                               ...   \n",
       "1528          NaN                               Monoamine transport   \n",
       "1529          NaN  Serotonin receptor 2 and ELK-SRF/GATA4 signaling   \n",
       "1530          NaN       Serotonin receptor 4/6/7 and NR3C signaling   \n",
       "1533          NaN                                  Nucleotide GPCRs   \n",
       "1534          NaN            Prostaglandin synthesis and regulation   \n",
       "\n",
       "     wikipathway_ID   KEGG_id  \n",
       "0             WP534  hsa00010  \n",
       "1             WP534  hsa00010  \n",
       "2             WP534  hsa00010  \n",
       "3              WP78  hsa00020  \n",
       "4             WP134  hsa00030  \n",
       "...             ...       ...  \n",
       "1528          WP727       NaN  \n",
       "1529          WP732       NaN  \n",
       "1530          WP734       NaN  \n",
       "1533           WP80       NaN  \n",
       "1534           WP98       NaN  \n",
       "\n",
       "[6793 rows x 8 columns]"
      ]
     },
     "execution_count": 30,
     "metadata": {},
     "output_type": "execute_result"
    }
   ],
   "source": [
    "df_wikipathways_kegg_final_null = df_wikipathways_kegg_final_null.rename(columns={'kegg_id': 'KEGG_id'})\n",
    "df_po_kegg_reactome_compath_wikipathway_final = pd.concat([df_po_kegg_reactome_compath_wikipathway, df_wikipathways_kegg_final_null], axis=0)\n",
    "df_po_kegg_reactome_compath_wikipathway_final"
   ]
  },
  {
   "cell_type": "markdown",
   "metadata": {},
   "source": [
    "### 3.5 Final Data Cleaning"
   ]
  },
  {
   "cell_type": "code",
   "execution_count": 31,
   "metadata": {},
   "outputs": [
    {
     "data": {
      "application/vnd.microsoft.datawrangler.viewer.v0+json": {
       "columns": [
        {
         "name": "index",
         "rawType": "int64",
         "type": "integer"
        },
        {
         "name": "id",
         "rawType": "object",
         "type": "unknown"
        },
        {
         "name": "PO_Name",
         "rawType": "object",
         "type": "unknown"
        },
        {
         "name": "KEGG_Name",
         "rawType": "object",
         "type": "unknown"
        },
        {
         "name": "Reactome_Name",
         "rawType": "object",
         "type": "unknown"
        },
        {
         "name": "Reactome_ID",
         "rawType": "object",
         "type": "unknown"
        },
        {
         "name": "WikiPathways_Name",
         "rawType": "object",
         "type": "unknown"
        },
        {
         "name": "wikipathway_ID",
         "rawType": "object",
         "type": "unknown"
        },
        {
         "name": "KEGG_id",
         "rawType": "object",
         "type": "unknown"
        }
       ],
       "conversionMethod": "pd.DataFrame",
       "ref": "fd6480d4-0fe2-4a7c-b359-57d1ea8163cc",
       "rows": [
        [
         "0",
         "PW:0000001",
         "pathway",
         null,
         null,
         null,
         null,
         null,
         null
        ],
        [
         "1",
         "PW:0000002",
         "classic metabolic pathway",
         "Metabolic pathways",
         "Metabolism",
         "R-HSA-1430728",
         null,
         null,
         "hsa01100"
        ],
        [
         "2",
         "PW:0000003",
         "signaling pathway",
         null,
         "Signal Transduction",
         "R-HSA-162582",
         null,
         null,
         null
        ],
        [
         "3",
         "PW:0000004",
         "regulatory pathway",
         null,
         null,
         null,
         null,
         null,
         null
        ],
        [
         "4",
         "PW:0000005",
         "carbohydrate metabolic pathway",
         "Carbon metabolism",
         "Metabolism of carbohydrates",
         "R-HSA-71387",
         null,
         null,
         "hsa01200"
        ],
        [
         "5",
         "PW:0000006",
         "Ras superfamily mediated signaling pathway",
         null,
         null,
         null,
         null,
         null,
         null
        ],
        [
         "6",
         "PW:0000007",
         "mitogen activated protein kinase signaling pathway",
         "MAPK signaling pathway",
         "MAPK family signaling cascades",
         "R-HSA-5683057",
         "MAPK signaling",
         "WP382",
         "hsa04010"
        ],
        [
         "7",
         "PW:0000008",
         "Wnt signaling pathway",
         "Wnt signaling pathway",
         "Signaling by WNT",
         "R-HSA-195721",
         "Wnt signaling",
         "WP428",
         "hsa04310"
        ],
        [
         "8",
         "PW:0000009",
         "apoptotic cell death pathway",
         "Apoptosis",
         "Apoptosis",
         "R-HSA-109581",
         "Apoptosis",
         "WP254",
         "hsa04210"
        ],
        [
         "9",
         "PW:0000010",
         "lipid metabolic pathway",
         null,
         "Metabolism of lipids",
         "R-HSA-556833",
         null,
         null,
         null
        ],
        [
         "10",
         "PW:0000011",
         "amino acid metabolic pathway",
         null,
         null,
         null,
         null,
         null,
         null
        ],
        [
         "11",
         "PW:0000012",
         "nucleotide metabolic pathway",
         null,
         "Metabolism of nucleotides",
         "R-HSA-15869",
         null,
         null,
         null
        ],
        [
         "12",
         "PW:0000013",
         "disease pathway",
         null,
         "Disease",
         "R-HSA-1643685",
         null,
         null,
         null
        ],
        [
         "13",
         "PW:0000014",
         "neurodegenerative pathway",
         null,
         "Neurodegenerative Diseases",
         "R-HSA-8863678",
         null,
         null,
         null
        ],
        [
         "14",
         "PW:0000015",
         "Alzheimer's disease pathway",
         "Alzheimer disease",
         null,
         null,
         "Alzheimer's disease and miRNA effects",
         "WP2059",
         "hsa05010"
        ],
        [
         "15",
         "PW:0000016",
         "amyotrophic lateral sclerosis pathway",
         "Amyotrophic lateral sclerosis",
         null,
         null,
         "Amyotrophic lateral sclerosis (ALS)",
         "WP2447",
         "hsa05014"
        ],
        [
         "16",
         "PW:0000017",
         "Huntington's disease pathway",
         null,
         null,
         null,
         null,
         null,
         null
        ],
        [
         "17",
         "PW:0000018",
         "Parkinson's disease pathway",
         "Parkinson disease",
         null,
         null,
         "Parkinson's disease pathway",
         "WP2371",
         "hsa05012"
        ],
        [
         "18",
         "PW:0000019",
         "prion disease pathway",
         "Prion disease",
         null,
         null,
         "Prion disease pathway",
         "WP3995",
         "hsa05020"
        ],
        [
         "19",
         "PW:0000020",
         "cardiovascular system disease pathway",
         null,
         null,
         null,
         null,
         null,
         null
        ],
        [
         "20",
         "PW:0000021",
         "hypertension pathway",
         null,
         null,
         null,
         null,
         null,
         null
        ],
        [
         "21",
         "PW:0000022",
         "cardiomyopathy pathway",
         null,
         null,
         null,
         null,
         null,
         null
        ],
        [
         "22",
         "PW:0000023",
         "immune response pathway",
         null,
         "Immune System",
         "R-HSA-168256",
         null,
         null,
         null
        ],
        [
         "23",
         "PW:0000024",
         "inflammatory response pathway",
         null,
         null,
         null,
         null,
         null,
         null
        ],
        [
         "24",
         "PW:0000025",
         "glycolysis/gluconeogenesis pathway",
         "Glycolysis / Gluconeogenesis",
         null,
         null,
         "Glycolysis and gluconeogenesis",
         "WP534",
         "hsa00010"
        ],
        [
         "25",
         "PW:0000026",
         "citric acid cycle pathway",
         "Citrate cycle (TCA cycle)",
         "Citric acid cycle (TCA cycle)",
         "R-HSA-71403",
         "TCA cycle (aka Krebs or citric acid cycle)",
         "WP78",
         "hsa00020"
        ],
        [
         "26",
         "PW:0000027",
         "glutamic acid/glutamate metabolic pathway",
         null,
         null,
         null,
         null,
         null,
         null
        ],
        [
         "27",
         "PW:0000028",
         "alanine, aspartate and glutamate metabolic pathway",
         null,
         null,
         null,
         null,
         null,
         null
        ],
        [
         "28",
         "PW:0000029",
         "fatty acid biosynthetic pathway",
         "Fatty acid biosynthesis",
         null,
         null,
         "Fatty acid biosynthesis",
         "WP357",
         "hsa00061"
        ],
        [
         "29",
         "PW:0000031",
         "purine metabolic pathway",
         "Purine metabolism",
         null,
         null,
         null,
         null,
         "hsa00230"
        ],
        [
         "30",
         "PW:0000032",
         "pyrimidine metabolic pathway",
         "Pyrimidine metabolism",
         null,
         null,
         "Pyrimidine metabolism",
         "WP4022",
         "hsa00240"
        ],
        [
         "31",
         "PW:0000033",
         "energy metabolic pathway",
         null,
         null,
         null,
         null,
         null,
         null
        ],
        [
         "32",
         "PW:0000034",
         "electron transport chain pathway",
         null,
         "Respiratory electron transport",
         "R-HSA-611105",
         null,
         null,
         null
        ],
        [
         "33",
         "PW:0000035",
         "ATP biosynthetic pathway",
         null,
         null,
         null,
         null,
         null,
         null
        ],
        [
         "34",
         "PW:0000036",
         "nitrogen metabolic pathway",
         "Nitrogen metabolism",
         null,
         null,
         null,
         null,
         "hsa00910"
        ],
        [
         "35",
         "PW:0000037",
         "sulfur metabolic pathway",
         null,
         null,
         null,
         null,
         null,
         null
        ],
        [
         "36",
         "PW:0000038",
         "Sterol, vitamin K, vitamine E and cartenoids  biosynthesis",
         null,
         null,
         null,
         null,
         null,
         null
        ],
        [
         "37",
         "PW:0000039",
         "bile acid biosynthetic pathway",
         "Primary bile acid biosynthesis",
         null,
         null,
         null,
         null,
         "hsa00120"
        ],
        [
         "38",
         "PW:0000040",
         "steroid hormone biosynthetic pathway",
         null,
         null,
         null,
         null,
         null,
         null
        ],
        [
         "39",
         "PW:0000041",
         "fructose and mannose metabolic pathway",
         "Fructose and mannose metabolism",
         null,
         null,
         null,
         null,
         "hsa00051"
        ],
        [
         "40",
         "PW:0000042",
         "galactose metabolic pathway",
         null,
         null,
         null,
         null,
         null,
         null
        ],
        [
         "41",
         "PW:0000043",
         "pyruvate metabolic pathway",
         "Pyruvate metabolism",
         "Pyruvate metabolism",
         "R-HSA-70268",
         null,
         null,
         "hsa00620"
        ],
        [
         "42",
         "PW:0000044",
         "Duplicated Glutamate Metabolism term",
         null,
         null,
         null,
         null,
         null,
         null
        ],
        [
         "43",
         "PW:0000045",
         "pentose phosphate pathway",
         "Pentose phosphate pathway",
         "Pentose phosphate pathway",
         "R-HSA-71336",
         "Pentose phosphate metabolism",
         "WP134",
         "hsa00030"
        ],
        [
         "44",
         "PW:0000046",
         "inositol metabolic pathway",
         null,
         null,
         null,
         null,
         null,
         null
        ],
        [
         "45",
         "PW:0000047",
         "glycine, serine and threonine metabolic pathway",
         null,
         null,
         null,
         null,
         null,
         null
        ],
        [
         "46",
         "PW:0000048",
         "methionine cycle/metabolic pathway",
         null,
         null,
         null,
         null,
         null,
         null
        ],
        [
         "47",
         "PW:0000049",
         "cysteine metabolic pathway",
         null,
         null,
         null,
         null,
         null,
         null
        ],
        [
         "48",
         "PW:0000050",
         "arginine and proline metabolic pathway",
         null,
         null,
         null,
         null,
         null,
         null
        ],
        [
         "49",
         "PW:0000051",
         "histidine metabolic pathway",
         "Histidine metabolism",
         null,
         null,
         null,
         null,
         "hsa00340"
        ]
       ],
       "shape": {
        "columns": 8,
        "rows": 6793
       }
      },
      "text/html": [
       "<div>\n",
       "<style scoped>\n",
       "    .dataframe tbody tr th:only-of-type {\n",
       "        vertical-align: middle;\n",
       "    }\n",
       "\n",
       "    .dataframe tbody tr th {\n",
       "        vertical-align: top;\n",
       "    }\n",
       "\n",
       "    .dataframe thead th {\n",
       "        text-align: right;\n",
       "    }\n",
       "</style>\n",
       "<table border=\"1\" class=\"dataframe\">\n",
       "  <thead>\n",
       "    <tr style=\"text-align: right;\">\n",
       "      <th></th>\n",
       "      <th>id</th>\n",
       "      <th>PO_Name</th>\n",
       "      <th>KEGG_Name</th>\n",
       "      <th>Reactome_Name</th>\n",
       "      <th>Reactome_ID</th>\n",
       "      <th>WikiPathways_Name</th>\n",
       "      <th>wikipathway_ID</th>\n",
       "      <th>KEGG_id</th>\n",
       "    </tr>\n",
       "  </thead>\n",
       "  <tbody>\n",
       "    <tr>\n",
       "      <th>0</th>\n",
       "      <td>PW:0000001</td>\n",
       "      <td>pathway</td>\n",
       "      <td>&lt;NA&gt;</td>\n",
       "      <td>&lt;NA&gt;</td>\n",
       "      <td>&lt;NA&gt;</td>\n",
       "      <td>&lt;NA&gt;</td>\n",
       "      <td>&lt;NA&gt;</td>\n",
       "      <td>&lt;NA&gt;</td>\n",
       "    </tr>\n",
       "    <tr>\n",
       "      <th>1</th>\n",
       "      <td>PW:0000002</td>\n",
       "      <td>classic metabolic pathway</td>\n",
       "      <td>Metabolic pathways</td>\n",
       "      <td>Metabolism</td>\n",
       "      <td>R-HSA-1430728</td>\n",
       "      <td>&lt;NA&gt;</td>\n",
       "      <td>&lt;NA&gt;</td>\n",
       "      <td>hsa01100</td>\n",
       "    </tr>\n",
       "    <tr>\n",
       "      <th>2</th>\n",
       "      <td>PW:0000003</td>\n",
       "      <td>signaling pathway</td>\n",
       "      <td>&lt;NA&gt;</td>\n",
       "      <td>Signal Transduction</td>\n",
       "      <td>R-HSA-162582</td>\n",
       "      <td>&lt;NA&gt;</td>\n",
       "      <td>&lt;NA&gt;</td>\n",
       "      <td>&lt;NA&gt;</td>\n",
       "    </tr>\n",
       "    <tr>\n",
       "      <th>3</th>\n",
       "      <td>PW:0000004</td>\n",
       "      <td>regulatory pathway</td>\n",
       "      <td>&lt;NA&gt;</td>\n",
       "      <td>&lt;NA&gt;</td>\n",
       "      <td>&lt;NA&gt;</td>\n",
       "      <td>&lt;NA&gt;</td>\n",
       "      <td>&lt;NA&gt;</td>\n",
       "      <td>&lt;NA&gt;</td>\n",
       "    </tr>\n",
       "    <tr>\n",
       "      <th>4</th>\n",
       "      <td>PW:0000005</td>\n",
       "      <td>carbohydrate metabolic pathway</td>\n",
       "      <td>Carbon metabolism</td>\n",
       "      <td>Metabolism of carbohydrates</td>\n",
       "      <td>R-HSA-71387</td>\n",
       "      <td>&lt;NA&gt;</td>\n",
       "      <td>&lt;NA&gt;</td>\n",
       "      <td>hsa01200</td>\n",
       "    </tr>\n",
       "    <tr>\n",
       "      <th>...</th>\n",
       "      <td>...</td>\n",
       "      <td>...</td>\n",
       "      <td>...</td>\n",
       "      <td>...</td>\n",
       "      <td>...</td>\n",
       "      <td>...</td>\n",
       "      <td>...</td>\n",
       "      <td>...</td>\n",
       "    </tr>\n",
       "    <tr>\n",
       "      <th>179</th>\n",
       "      <td>NaN</td>\n",
       "      <td>&lt;NA&gt;</td>\n",
       "      <td>Graft-versus-host disease</td>\n",
       "      <td>&lt;NA&gt;</td>\n",
       "      <td>NaN</td>\n",
       "      <td>NaN</td>\n",
       "      <td>NaN</td>\n",
       "      <td>hsa05332</td>\n",
       "    </tr>\n",
       "    <tr>\n",
       "      <th>180</th>\n",
       "      <td>NaN</td>\n",
       "      <td>&lt;NA&gt;</td>\n",
       "      <td>Primary immunodeficiency</td>\n",
       "      <td>&lt;NA&gt;</td>\n",
       "      <td>NaN</td>\n",
       "      <td>NaN</td>\n",
       "      <td>NaN</td>\n",
       "      <td>hsa05340</td>\n",
       "    </tr>\n",
       "    <tr>\n",
       "      <th>181</th>\n",
       "      <td>NaN</td>\n",
       "      <td>&lt;NA&gt;</td>\n",
       "      <td>Diabetic cardiomyopathy</td>\n",
       "      <td>&lt;NA&gt;</td>\n",
       "      <td>NaN</td>\n",
       "      <td>NaN</td>\n",
       "      <td>NaN</td>\n",
       "      <td>hsa05415</td>\n",
       "    </tr>\n",
       "    <tr>\n",
       "      <th>182</th>\n",
       "      <td>NaN</td>\n",
       "      <td>&lt;NA&gt;</td>\n",
       "      <td>Lipid and atherosclerosis</td>\n",
       "      <td>&lt;NA&gt;</td>\n",
       "      <td>NaN</td>\n",
       "      <td>NaN</td>\n",
       "      <td>NaN</td>\n",
       "      <td>hsa05417</td>\n",
       "    </tr>\n",
       "    <tr>\n",
       "      <th>183</th>\n",
       "      <td>NaN</td>\n",
       "      <td>&lt;NA&gt;</td>\n",
       "      <td>Fluid shear stress and atherosclerosis</td>\n",
       "      <td>&lt;NA&gt;</td>\n",
       "      <td>NaN</td>\n",
       "      <td>NaN</td>\n",
       "      <td>NaN</td>\n",
       "      <td>hsa05418</td>\n",
       "    </tr>\n",
       "  </tbody>\n",
       "</table>\n",
       "<p>6793 rows × 8 columns</p>\n",
       "</div>"
      ],
      "text/plain": [
       "             id                         PO_Name  \\\n",
       "0    PW:0000001                         pathway   \n",
       "1    PW:0000002       classic metabolic pathway   \n",
       "2    PW:0000003               signaling pathway   \n",
       "3    PW:0000004              regulatory pathway   \n",
       "4    PW:0000005  carbohydrate metabolic pathway   \n",
       "..          ...                             ...   \n",
       "179         NaN                            <NA>   \n",
       "180         NaN                            <NA>   \n",
       "181         NaN                            <NA>   \n",
       "182         NaN                            <NA>   \n",
       "183         NaN                            <NA>   \n",
       "\n",
       "                                  KEGG_Name                Reactome_Name  \\\n",
       "0                                      <NA>                         <NA>   \n",
       "1                        Metabolic pathways                   Metabolism   \n",
       "2                                      <NA>          Signal Transduction   \n",
       "3                                      <NA>                         <NA>   \n",
       "4                         Carbon metabolism  Metabolism of carbohydrates   \n",
       "..                                      ...                          ...   \n",
       "179               Graft-versus-host disease                         <NA>   \n",
       "180                Primary immunodeficiency                         <NA>   \n",
       "181                 Diabetic cardiomyopathy                         <NA>   \n",
       "182               Lipid and atherosclerosis                         <NA>   \n",
       "183  Fluid shear stress and atherosclerosis                         <NA>   \n",
       "\n",
       "       Reactome_ID WikiPathways_Name wikipathway_ID   KEGG_id  \n",
       "0             <NA>              <NA>           <NA>      <NA>  \n",
       "1    R-HSA-1430728              <NA>           <NA>  hsa01100  \n",
       "2     R-HSA-162582              <NA>           <NA>      <NA>  \n",
       "3             <NA>              <NA>           <NA>      <NA>  \n",
       "4      R-HSA-71387              <NA>           <NA>  hsa01200  \n",
       "..             ...               ...            ...       ...  \n",
       "179            NaN               NaN            NaN  hsa05332  \n",
       "180            NaN               NaN            NaN  hsa05340  \n",
       "181            NaN               NaN            NaN  hsa05415  \n",
       "182            NaN               NaN            NaN  hsa05417  \n",
       "183            NaN               NaN            NaN  hsa05418  \n",
       "\n",
       "[6793 rows x 8 columns]"
      ]
     },
     "execution_count": 31,
     "metadata": {},
     "output_type": "execute_result"
    }
   ],
   "source": [
    "df = df_po_kegg_reactome_compath_wikipathway_final.copy()\n",
    "\n",
    "# filter by id column\n",
    "po_empty = df[df['id'].isnull()]\n",
    "po_exist = df.dropna(subset=['id'])\n",
    "\n",
    "po_groupby = po_exist.groupby('id').agg(lambda x: ';'.join(sorted(set(x.dropna().astype(str))))).replace('',pd.NA).reset_index()\n",
    "\n",
    "# filter by Reactome column\n",
    "reactome_empty = po_empty[po_empty['Reactome_ID'].isnull()]\n",
    "reactome_exist = po_empty.dropna(subset=['Reactome_ID'])\n",
    "\n",
    "reactome_groupby = reactome_exist.groupby('Reactome_ID').agg(lambda x: ';'.join(sorted(set(x.dropna().astype(str))))).replace('',pd.NA).reset_index()\n",
    "\n",
    "# filter by wikiPathways column\n",
    "wiki_empty = reactome_empty[reactome_empty['wikipathway_ID'].isnull()]\n",
    "wiki_exist = reactome_empty.dropna(subset=['wikipathway_ID'])\n",
    "\n",
    "wiki_groupby = wiki_exist.groupby('wikipathway_ID').agg(lambda x: ';'.join(sorted(set(x.dropna().astype(str))))).replace('',pd.NA).reset_index()\n",
    "\n",
    "# filter by KEGG column\n",
    "kegg_empty = wiki_empty[wiki_empty['KEGG_id'].isnull()]\n",
    "kegg_exist = wiki_empty.dropna(subset=['KEGG_id'])\n",
    "\n",
    "kegg_groupby = kegg_exist.groupby('KEGG_id').agg(lambda x: ';'.join(sorted(set(x.dropna().astype(str))))).replace('',pd.NA).reset_index()\n",
    "\n",
    "# merge all the dataframes\n",
    "df_final = pd.concat([po_groupby, reactome_groupby, wiki_groupby, kegg_groupby, kegg_empty], axis=0)\n",
    "df_final"
   ]
  },
  {
   "cell_type": "markdown",
   "metadata": {},
   "source": [
    "## 4. BioMedGraphica ID"
   ]
  },
  {
   "cell_type": "code",
   "execution_count": 47,
   "metadata": {},
   "outputs": [
    {
     "data": {
      "application/vnd.microsoft.datawrangler.viewer.v0+json": {
       "columns": [
        {
         "name": "index",
         "rawType": "int64",
         "type": "integer"
        },
        {
         "name": "BioMedGraphica_ID",
         "rawType": "object",
         "type": "string"
        },
        {
         "name": "PO_ID",
         "rawType": "object",
         "type": "unknown"
        },
        {
         "name": "PO_Name",
         "rawType": "object",
         "type": "unknown"
        },
        {
         "name": "KEGG_Name",
         "rawType": "object",
         "type": "unknown"
        },
        {
         "name": "Reactome_Name",
         "rawType": "object",
         "type": "unknown"
        },
        {
         "name": "Reactome_ID",
         "rawType": "object",
         "type": "unknown"
        },
        {
         "name": "WikiPathways_Name",
         "rawType": "object",
         "type": "unknown"
        },
        {
         "name": "WikiPathways_ID",
         "rawType": "object",
         "type": "unknown"
        },
        {
         "name": "KEGG_ID",
         "rawType": "object",
         "type": "unknown"
        }
       ],
       "conversionMethod": "pd.DataFrame",
       "ref": "f696d94e-2b59-4e21-a338-cc02dc9f2a39",
       "rows": [
        [
         "0",
         "BMG_PW0001",
         "PW:0000001",
         "pathway",
         null,
         null,
         null,
         null,
         null,
         null
        ],
        [
         "1",
         "BMG_PW0002",
         "PW:0000002",
         "classic metabolic pathway",
         "Metabolic pathways",
         "Metabolism",
         "R-HSA-1430728",
         null,
         null,
         "hsa01100"
        ],
        [
         "2",
         "BMG_PW0003",
         "PW:0000003",
         "signaling pathway",
         null,
         "Signal Transduction",
         "R-HSA-162582",
         null,
         null,
         null
        ],
        [
         "3",
         "BMG_PW0004",
         "PW:0000004",
         "regulatory pathway",
         null,
         null,
         null,
         null,
         null,
         null
        ],
        [
         "4",
         "BMG_PW0005",
         "PW:0000005",
         "carbohydrate metabolic pathway",
         "Carbon metabolism",
         "Metabolism of carbohydrates",
         "R-HSA-71387",
         null,
         null,
         "hsa01200"
        ],
        [
         "5",
         "BMG_PW0006",
         "PW:0000006",
         "Ras superfamily mediated signaling pathway",
         null,
         null,
         null,
         null,
         null,
         null
        ],
        [
         "6",
         "BMG_PW0007",
         "PW:0000007",
         "mitogen activated protein kinase signaling pathway",
         "MAPK signaling pathway",
         "MAPK family signaling cascades",
         "R-HSA-5683057",
         "MAPK signaling",
         "WP382",
         "hsa04010"
        ],
        [
         "7",
         "BMG_PW0008",
         "PW:0000008",
         "Wnt signaling pathway",
         "Wnt signaling pathway",
         "Signaling by WNT",
         "R-HSA-195721",
         "Wnt signaling",
         "WP428",
         "hsa04310"
        ],
        [
         "8",
         "BMG_PW0009",
         "PW:0000009",
         "apoptotic cell death pathway",
         "Apoptosis",
         "Apoptosis",
         "R-HSA-109581",
         "Apoptosis",
         "WP254",
         "hsa04210"
        ],
        [
         "9",
         "BMG_PW0010",
         "PW:0000010",
         "lipid metabolic pathway",
         null,
         "Metabolism of lipids",
         "R-HSA-556833",
         null,
         null,
         null
        ],
        [
         "10",
         "BMG_PW0011",
         "PW:0000011",
         "amino acid metabolic pathway",
         null,
         null,
         null,
         null,
         null,
         null
        ],
        [
         "11",
         "BMG_PW0012",
         "PW:0000012",
         "nucleotide metabolic pathway",
         null,
         "Metabolism of nucleotides",
         "R-HSA-15869",
         null,
         null,
         null
        ],
        [
         "12",
         "BMG_PW0013",
         "PW:0000013",
         "disease pathway",
         null,
         "Disease",
         "R-HSA-1643685",
         null,
         null,
         null
        ],
        [
         "13",
         "BMG_PW0014",
         "PW:0000014",
         "neurodegenerative pathway",
         null,
         "Neurodegenerative Diseases",
         "R-HSA-8863678",
         null,
         null,
         null
        ],
        [
         "14",
         "BMG_PW0015",
         "PW:0000015",
         "Alzheimer's disease pathway",
         "Alzheimer disease",
         null,
         null,
         "Alzheimer's disease and miRNA effects",
         "WP2059",
         "hsa05010"
        ],
        [
         "15",
         "BMG_PW0016",
         "PW:0000016",
         "amyotrophic lateral sclerosis pathway",
         "Amyotrophic lateral sclerosis",
         null,
         null,
         "Amyotrophic lateral sclerosis (ALS)",
         "WP2447",
         "hsa05014"
        ],
        [
         "16",
         "BMG_PW0017",
         "PW:0000017",
         "Huntington's disease pathway",
         null,
         null,
         null,
         null,
         null,
         null
        ],
        [
         "17",
         "BMG_PW0018",
         "PW:0000018",
         "Parkinson's disease pathway",
         "Parkinson disease",
         null,
         null,
         "Parkinson's disease pathway",
         "WP2371",
         "hsa05012"
        ],
        [
         "18",
         "BMG_PW0019",
         "PW:0000019",
         "prion disease pathway",
         "Prion disease",
         null,
         null,
         "Prion disease pathway",
         "WP3995",
         "hsa05020"
        ],
        [
         "19",
         "BMG_PW0020",
         "PW:0000020",
         "cardiovascular system disease pathway",
         null,
         null,
         null,
         null,
         null,
         null
        ],
        [
         "20",
         "BMG_PW0021",
         "PW:0000021",
         "hypertension pathway",
         null,
         null,
         null,
         null,
         null,
         null
        ],
        [
         "21",
         "BMG_PW0022",
         "PW:0000022",
         "cardiomyopathy pathway",
         null,
         null,
         null,
         null,
         null,
         null
        ],
        [
         "22",
         "BMG_PW0023",
         "PW:0000023",
         "immune response pathway",
         null,
         "Immune System",
         "R-HSA-168256",
         null,
         null,
         null
        ],
        [
         "23",
         "BMG_PW0024",
         "PW:0000024",
         "inflammatory response pathway",
         null,
         null,
         null,
         null,
         null,
         null
        ],
        [
         "24",
         "BMG_PW0025",
         "PW:0000025",
         "glycolysis/gluconeogenesis pathway",
         "Glycolysis / Gluconeogenesis",
         null,
         null,
         "Glycolysis and gluconeogenesis",
         "WP534",
         "hsa00010"
        ],
        [
         "25",
         "BMG_PW0026",
         "PW:0000026",
         "citric acid cycle pathway",
         "Citrate cycle (TCA cycle)",
         "Citric acid cycle (TCA cycle)",
         "R-HSA-71403",
         "TCA cycle (aka Krebs or citric acid cycle)",
         "WP78",
         "hsa00020"
        ],
        [
         "26",
         "BMG_PW0027",
         "PW:0000027",
         "glutamic acid/glutamate metabolic pathway",
         null,
         null,
         null,
         null,
         null,
         null
        ],
        [
         "27",
         "BMG_PW0028",
         "PW:0000028",
         "alanine, aspartate and glutamate metabolic pathway",
         null,
         null,
         null,
         null,
         null,
         null
        ],
        [
         "28",
         "BMG_PW0029",
         "PW:0000029",
         "fatty acid biosynthetic pathway",
         "Fatty acid biosynthesis",
         null,
         null,
         "Fatty acid biosynthesis",
         "WP357",
         "hsa00061"
        ],
        [
         "29",
         "BMG_PW0030",
         "PW:0000031",
         "purine metabolic pathway",
         "Purine metabolism",
         null,
         null,
         null,
         null,
         "hsa00230"
        ],
        [
         "30",
         "BMG_PW0031",
         "PW:0000032",
         "pyrimidine metabolic pathway",
         "Pyrimidine metabolism",
         null,
         null,
         "Pyrimidine metabolism",
         "WP4022",
         "hsa00240"
        ],
        [
         "31",
         "BMG_PW0032",
         "PW:0000033",
         "energy metabolic pathway",
         null,
         null,
         null,
         null,
         null,
         null
        ],
        [
         "32",
         "BMG_PW0033",
         "PW:0000034",
         "electron transport chain pathway",
         null,
         "Respiratory electron transport",
         "R-HSA-611105",
         null,
         null,
         null
        ],
        [
         "33",
         "BMG_PW0034",
         "PW:0000035",
         "ATP biosynthetic pathway",
         null,
         null,
         null,
         null,
         null,
         null
        ],
        [
         "34",
         "BMG_PW0035",
         "PW:0000036",
         "nitrogen metabolic pathway",
         "Nitrogen metabolism",
         null,
         null,
         null,
         null,
         "hsa00910"
        ],
        [
         "35",
         "BMG_PW0036",
         "PW:0000037",
         "sulfur metabolic pathway",
         null,
         null,
         null,
         null,
         null,
         null
        ],
        [
         "36",
         "BMG_PW0037",
         "PW:0000038",
         "Sterol, vitamin K, vitamine E and cartenoids  biosynthesis",
         null,
         null,
         null,
         null,
         null,
         null
        ],
        [
         "37",
         "BMG_PW0038",
         "PW:0000039",
         "bile acid biosynthetic pathway",
         "Primary bile acid biosynthesis",
         null,
         null,
         null,
         null,
         "hsa00120"
        ],
        [
         "38",
         "BMG_PW0039",
         "PW:0000040",
         "steroid hormone biosynthetic pathway",
         null,
         null,
         null,
         null,
         null,
         null
        ],
        [
         "39",
         "BMG_PW0040",
         "PW:0000041",
         "fructose and mannose metabolic pathway",
         "Fructose and mannose metabolism",
         null,
         null,
         null,
         null,
         "hsa00051"
        ],
        [
         "40",
         "BMG_PW0041",
         "PW:0000042",
         "galactose metabolic pathway",
         null,
         null,
         null,
         null,
         null,
         null
        ],
        [
         "41",
         "BMG_PW0042",
         "PW:0000043",
         "pyruvate metabolic pathway",
         "Pyruvate metabolism",
         "Pyruvate metabolism",
         "R-HSA-70268",
         null,
         null,
         "hsa00620"
        ],
        [
         "42",
         "BMG_PW0043",
         "PW:0000044",
         "Duplicated Glutamate Metabolism term",
         null,
         null,
         null,
         null,
         null,
         null
        ],
        [
         "43",
         "BMG_PW0044",
         "PW:0000045",
         "pentose phosphate pathway",
         "Pentose phosphate pathway",
         "Pentose phosphate pathway",
         "R-HSA-71336",
         "Pentose phosphate metabolism",
         "WP134",
         "hsa00030"
        ],
        [
         "44",
         "BMG_PW0045",
         "PW:0000046",
         "inositol metabolic pathway",
         null,
         null,
         null,
         null,
         null,
         null
        ],
        [
         "45",
         "BMG_PW0046",
         "PW:0000047",
         "glycine, serine and threonine metabolic pathway",
         null,
         null,
         null,
         null,
         null,
         null
        ],
        [
         "46",
         "BMG_PW0047",
         "PW:0000048",
         "methionine cycle/metabolic pathway",
         null,
         null,
         null,
         null,
         null,
         null
        ],
        [
         "47",
         "BMG_PW0048",
         "PW:0000049",
         "cysteine metabolic pathway",
         null,
         null,
         null,
         null,
         null,
         null
        ],
        [
         "48",
         "BMG_PW0049",
         "PW:0000050",
         "arginine and proline metabolic pathway",
         null,
         null,
         null,
         null,
         null,
         null
        ],
        [
         "49",
         "BMG_PW0050",
         "PW:0000051",
         "histidine metabolic pathway",
         "Histidine metabolism",
         null,
         null,
         null,
         null,
         "hsa00340"
        ]
       ],
       "shape": {
        "columns": 9,
        "rows": 6793
       }
      },
      "text/html": [
       "<div>\n",
       "<style scoped>\n",
       "    .dataframe tbody tr th:only-of-type {\n",
       "        vertical-align: middle;\n",
       "    }\n",
       "\n",
       "    .dataframe tbody tr th {\n",
       "        vertical-align: top;\n",
       "    }\n",
       "\n",
       "    .dataframe thead th {\n",
       "        text-align: right;\n",
       "    }\n",
       "</style>\n",
       "<table border=\"1\" class=\"dataframe\">\n",
       "  <thead>\n",
       "    <tr style=\"text-align: right;\">\n",
       "      <th></th>\n",
       "      <th>BioMedGraphica_ID</th>\n",
       "      <th>PO_ID</th>\n",
       "      <th>PO_Name</th>\n",
       "      <th>KEGG_Name</th>\n",
       "      <th>Reactome_Name</th>\n",
       "      <th>Reactome_ID</th>\n",
       "      <th>WikiPathways_Name</th>\n",
       "      <th>WikiPathways_ID</th>\n",
       "      <th>KEGG_ID</th>\n",
       "    </tr>\n",
       "  </thead>\n",
       "  <tbody>\n",
       "    <tr>\n",
       "      <th>0</th>\n",
       "      <td>BMG_PW0001</td>\n",
       "      <td>PW:0000001</td>\n",
       "      <td>pathway</td>\n",
       "      <td>&lt;NA&gt;</td>\n",
       "      <td>&lt;NA&gt;</td>\n",
       "      <td>&lt;NA&gt;</td>\n",
       "      <td>&lt;NA&gt;</td>\n",
       "      <td>&lt;NA&gt;</td>\n",
       "      <td>&lt;NA&gt;</td>\n",
       "    </tr>\n",
       "    <tr>\n",
       "      <th>1</th>\n",
       "      <td>BMG_PW0002</td>\n",
       "      <td>PW:0000002</td>\n",
       "      <td>classic metabolic pathway</td>\n",
       "      <td>Metabolic pathways</td>\n",
       "      <td>Metabolism</td>\n",
       "      <td>R-HSA-1430728</td>\n",
       "      <td>&lt;NA&gt;</td>\n",
       "      <td>&lt;NA&gt;</td>\n",
       "      <td>hsa01100</td>\n",
       "    </tr>\n",
       "    <tr>\n",
       "      <th>2</th>\n",
       "      <td>BMG_PW0003</td>\n",
       "      <td>PW:0000003</td>\n",
       "      <td>signaling pathway</td>\n",
       "      <td>&lt;NA&gt;</td>\n",
       "      <td>Signal Transduction</td>\n",
       "      <td>R-HSA-162582</td>\n",
       "      <td>&lt;NA&gt;</td>\n",
       "      <td>&lt;NA&gt;</td>\n",
       "      <td>&lt;NA&gt;</td>\n",
       "    </tr>\n",
       "    <tr>\n",
       "      <th>3</th>\n",
       "      <td>BMG_PW0004</td>\n",
       "      <td>PW:0000004</td>\n",
       "      <td>regulatory pathway</td>\n",
       "      <td>&lt;NA&gt;</td>\n",
       "      <td>&lt;NA&gt;</td>\n",
       "      <td>&lt;NA&gt;</td>\n",
       "      <td>&lt;NA&gt;</td>\n",
       "      <td>&lt;NA&gt;</td>\n",
       "      <td>&lt;NA&gt;</td>\n",
       "    </tr>\n",
       "    <tr>\n",
       "      <th>4</th>\n",
       "      <td>BMG_PW0005</td>\n",
       "      <td>PW:0000005</td>\n",
       "      <td>carbohydrate metabolic pathway</td>\n",
       "      <td>Carbon metabolism</td>\n",
       "      <td>Metabolism of carbohydrates</td>\n",
       "      <td>R-HSA-71387</td>\n",
       "      <td>&lt;NA&gt;</td>\n",
       "      <td>&lt;NA&gt;</td>\n",
       "      <td>hsa01200</td>\n",
       "    </tr>\n",
       "    <tr>\n",
       "      <th>...</th>\n",
       "      <td>...</td>\n",
       "      <td>...</td>\n",
       "      <td>...</td>\n",
       "      <td>...</td>\n",
       "      <td>...</td>\n",
       "      <td>...</td>\n",
       "      <td>...</td>\n",
       "      <td>...</td>\n",
       "      <td>...</td>\n",
       "    </tr>\n",
       "    <tr>\n",
       "      <th>6788</th>\n",
       "      <td>BMG_PW6789</td>\n",
       "      <td>NaN</td>\n",
       "      <td>&lt;NA&gt;</td>\n",
       "      <td>Graft-versus-host disease</td>\n",
       "      <td>&lt;NA&gt;</td>\n",
       "      <td>NaN</td>\n",
       "      <td>NaN</td>\n",
       "      <td>NaN</td>\n",
       "      <td>hsa05332</td>\n",
       "    </tr>\n",
       "    <tr>\n",
       "      <th>6789</th>\n",
       "      <td>BMG_PW6790</td>\n",
       "      <td>NaN</td>\n",
       "      <td>&lt;NA&gt;</td>\n",
       "      <td>Primary immunodeficiency</td>\n",
       "      <td>&lt;NA&gt;</td>\n",
       "      <td>NaN</td>\n",
       "      <td>NaN</td>\n",
       "      <td>NaN</td>\n",
       "      <td>hsa05340</td>\n",
       "    </tr>\n",
       "    <tr>\n",
       "      <th>6790</th>\n",
       "      <td>BMG_PW6791</td>\n",
       "      <td>NaN</td>\n",
       "      <td>&lt;NA&gt;</td>\n",
       "      <td>Diabetic cardiomyopathy</td>\n",
       "      <td>&lt;NA&gt;</td>\n",
       "      <td>NaN</td>\n",
       "      <td>NaN</td>\n",
       "      <td>NaN</td>\n",
       "      <td>hsa05415</td>\n",
       "    </tr>\n",
       "    <tr>\n",
       "      <th>6791</th>\n",
       "      <td>BMG_PW6792</td>\n",
       "      <td>NaN</td>\n",
       "      <td>&lt;NA&gt;</td>\n",
       "      <td>Lipid and atherosclerosis</td>\n",
       "      <td>&lt;NA&gt;</td>\n",
       "      <td>NaN</td>\n",
       "      <td>NaN</td>\n",
       "      <td>NaN</td>\n",
       "      <td>hsa05417</td>\n",
       "    </tr>\n",
       "    <tr>\n",
       "      <th>6792</th>\n",
       "      <td>BMG_PW6793</td>\n",
       "      <td>NaN</td>\n",
       "      <td>&lt;NA&gt;</td>\n",
       "      <td>Fluid shear stress and atherosclerosis</td>\n",
       "      <td>&lt;NA&gt;</td>\n",
       "      <td>NaN</td>\n",
       "      <td>NaN</td>\n",
       "      <td>NaN</td>\n",
       "      <td>hsa05418</td>\n",
       "    </tr>\n",
       "  </tbody>\n",
       "</table>\n",
       "<p>6793 rows × 9 columns</p>\n",
       "</div>"
      ],
      "text/plain": [
       "     BioMedGraphica_ID       PO_ID                         PO_Name  \\\n",
       "0           BMG_PW0001  PW:0000001                         pathway   \n",
       "1           BMG_PW0002  PW:0000002       classic metabolic pathway   \n",
       "2           BMG_PW0003  PW:0000003               signaling pathway   \n",
       "3           BMG_PW0004  PW:0000004              regulatory pathway   \n",
       "4           BMG_PW0005  PW:0000005  carbohydrate metabolic pathway   \n",
       "...                ...         ...                             ...   \n",
       "6788        BMG_PW6789         NaN                            <NA>   \n",
       "6789        BMG_PW6790         NaN                            <NA>   \n",
       "6790        BMG_PW6791         NaN                            <NA>   \n",
       "6791        BMG_PW6792         NaN                            <NA>   \n",
       "6792        BMG_PW6793         NaN                            <NA>   \n",
       "\n",
       "                                   KEGG_Name                Reactome_Name  \\\n",
       "0                                       <NA>                         <NA>   \n",
       "1                         Metabolic pathways                   Metabolism   \n",
       "2                                       <NA>          Signal Transduction   \n",
       "3                                       <NA>                         <NA>   \n",
       "4                          Carbon metabolism  Metabolism of carbohydrates   \n",
       "...                                      ...                          ...   \n",
       "6788               Graft-versus-host disease                         <NA>   \n",
       "6789                Primary immunodeficiency                         <NA>   \n",
       "6790                 Diabetic cardiomyopathy                         <NA>   \n",
       "6791               Lipid and atherosclerosis                         <NA>   \n",
       "6792  Fluid shear stress and atherosclerosis                         <NA>   \n",
       "\n",
       "        Reactome_ID WikiPathways_Name WikiPathways_ID   KEGG_ID  \n",
       "0              <NA>              <NA>            <NA>      <NA>  \n",
       "1     R-HSA-1430728              <NA>            <NA>  hsa01100  \n",
       "2      R-HSA-162582              <NA>            <NA>      <NA>  \n",
       "3              <NA>              <NA>            <NA>      <NA>  \n",
       "4       R-HSA-71387              <NA>            <NA>  hsa01200  \n",
       "...             ...               ...             ...       ...  \n",
       "6788            NaN               NaN             NaN  hsa05332  \n",
       "6789            NaN               NaN             NaN  hsa05340  \n",
       "6790            NaN               NaN             NaN  hsa05415  \n",
       "6791            NaN               NaN             NaN  hsa05417  \n",
       "6792            NaN               NaN             NaN  hsa05418  \n",
       "\n",
       "[6793 rows x 9 columns]"
      ]
     },
     "execution_count": 47,
     "metadata": {},
     "output_type": "execute_result"
    }
   ],
   "source": [
    "biomedgraphica_pathway = df_final.sort_values(by=['id', 'Reactome_ID', 'wikipathway_ID','KEGG_id'], na_position='last')\n",
    "biomedgraphica_pathway.reset_index(drop=True, inplace=True)\n",
    "\n",
    "max_length = len(str(len(biomedgraphica_pathway)))\n",
    "biomedgraphica_pathway['BioMedGraphica_ID'] = ['BMG_PW' + str(i).zfill(max_length) for i in range(1, len(biomedgraphica_pathway) + 1)]\n",
    "\n",
    "biomedgraphica_pathway.rename(columns={'id': 'PO_ID', 'wikipathway_ID': 'WikiPathways_ID',\n",
    "                                    'KEGG_id': 'KEGG_ID', 'Name': 'Pathway_Name'}, inplace=True)\n",
    "columns = ['BioMedGraphica_ID'] + [col for col in biomedgraphica_pathway.columns if col != 'BioMedGraphica_ID']  # re-order columns\n",
    "biomedgraphica_pathway = biomedgraphica_pathway[columns]\n",
    "biomedgraphica_pathway"
   ]
  },
  {
   "cell_type": "code",
   "execution_count": 48,
   "metadata": {},
   "outputs": [
    {
     "name": "stdout",
     "output_type": "stream",
     "text": [
      "Data has been saved to D:\\RA\\BMG\\BioMedGraphica\\Entity\\Pathway\\BioMedGraphica_Pathway.csv\n"
     ]
    }
   ],
   "source": [
    "import os\n",
    "from pathlib import Path\n",
    "\n",
    "# get the current working directory\n",
    "current_working_dir = Path(os.getcwd()).resolve()\n",
    "\n",
    "# get the output directory\n",
    "grandparent_dir = current_working_dir.parent.parent.parent\n",
    "\n",
    "target_folder = grandparent_dir / 'BioMedGraphica' / 'Entity' / 'Pathway'\n",
    "if not target_folder.exists():\n",
    "    target_folder.mkdir(parents=True)\n",
    "    print(f\"Folder {target_folder} has been created.\")\n",
    "\n",
    "output_file_path = target_folder / 'BioMedGraphica_Pathway.csv'\n",
    "biomedgraphica_pathway.to_csv(output_file_path, index=False)\n",
    "print(f\"Data has been saved to {output_file_path}\")"
   ]
  },
  {
   "cell_type": "markdown",
   "metadata": {},
   "source": [
    "## 5. Description"
   ]
  },
  {
   "cell_type": "code",
   "execution_count": 1,
   "metadata": {},
   "outputs": [],
   "source": [
    "import pandas as pd\n",
    "import os\n",
    "from pathlib import Path\n",
    "\n",
    "current_working_dir = Path(os.getcwd()).resolve()\n",
    "grandparent_dir = current_working_dir.parent.parent.parent\n",
    "target_dir = grandparent_dir / 'BioMedGraphica' / 'Entity' / 'Pathway' / 'BioMedGraphica_Pathway.csv'\n",
    "biomedgraphica_pathway = pd.read_csv(target_dir, dtype=str)"
   ]
  },
  {
   "cell_type": "markdown",
   "metadata": {},
   "source": [
    "### 5.1 From Pathway Ontology"
   ]
  },
  {
   "cell_type": "code",
   "execution_count": 2,
   "metadata": {},
   "outputs": [
    {
     "name": "stdout",
     "output_type": "stream",
     "text": [
      "Finished: po_def.csv\n"
     ]
    }
   ],
   "source": [
    "import csv\n",
    "\n",
    "def parse_obo_to_csv(obo_file_path, csv_file_path):\n",
    "    with open(obo_file_path, 'r') as obo_file:\n",
    "        lines = obo_file.readlines()\n",
    "\n",
    "    terms = []\n",
    "    current_term = {}\n",
    "    is_in_term_block = False\n",
    "\n",
    "    for line in lines:\n",
    "        line = line.strip()\n",
    "\n",
    "        if line == \"[Term]\":\n",
    "            # Save the previous term if it exists\n",
    "            if current_term:\n",
    "                terms.append(current_term)\n",
    "            # Start a new term\n",
    "            current_term = {}\n",
    "            is_in_term_block = True\n",
    "        elif is_in_term_block and line == \"\":\n",
    "            # End of the current term block\n",
    "            if current_term:\n",
    "                terms.append(current_term)\n",
    "            current_term = {}\n",
    "            is_in_term_block = False\n",
    "        elif is_in_term_block:\n",
    "            # Parse lines within a term block\n",
    "            if line.startswith(\"id: \"):\n",
    "                current_term['id'] = line.split(\"id: \")[1]\n",
    "            elif line.startswith(\"def: \"):\n",
    "                current_term['def'] = line.split(\"def: \")[1]\n",
    "\n",
    "    # Add the last term if it exists\n",
    "    if current_term:\n",
    "        terms.append(current_term)\n",
    "\n",
    "    # Write to CSV\n",
    "    with open(csv_file_path, 'w', newline='', encoding='utf-8') as csv_file:\n",
    "        writer = csv.DictWriter(csv_file, fieldnames=[\"id\", \"def\"])\n",
    "        writer.writeheader()\n",
    "        for term in terms:\n",
    "            writer.writerow(term)\n",
    "\n",
    "obo_file = \"pathway.obo\"\n",
    "csv_file = \"po_def.csv\"\n",
    "\n",
    "parse_obo_to_csv(obo_file, csv_file)\n",
    "\n",
    "print(f\"Finished: {csv_file}\")"
   ]
  },
  {
   "cell_type": "code",
   "execution_count": 3,
   "metadata": {},
   "outputs": [
    {
     "data": {
      "application/vnd.microsoft.datawrangler.viewer.v0+json": {
       "columns": [
        {
         "name": "index",
         "rawType": "int64",
         "type": "integer"
        },
        {
         "name": "id",
         "rawType": "object",
         "type": "string"
        },
        {
         "name": "def",
         "rawType": "object",
         "type": "unknown"
        }
       ],
       "conversionMethod": "pd.DataFrame",
       "ref": "61206a5d-bc58-49f5-8867-f8f2902586c9",
       "rows": [
        [
         "0",
         "PW:0000000",
         null
        ],
        [
         "1",
         "PW:0000001",
         "A pathway is a set of inter-connected  reactions and interactions whose delineation and scope are used as a model for exploring and studying, describing and understanding the working of and relationships between biomolecules within a context. []"
        ],
        [
         "2",
         "PW:0000002",
         "The various, enzyme-controlled, series of reactions allowing for the conversion of materials, energy availability and biodegradation of xenobiotics. [GO:0008152, http://www.onelook.com/ OneLook, Reactome:R-HSA-1430728]"
        ],
        [
         "3",
         "PW:0000003",
         "The pathways where a signal - hormone, neurotransmitter, growth factor, peptide, any molecule - triggers one or multiple cascades of events. This involves a number of molecules, including receptors, proteins, ligands, messengers, any participating molecule. A signaling pathway may be upstream or downstream of other signaling pathways. Signaling pathways control a very broad spectrum of processes as well as pathways. [GO:0007165, OneLook:www.onelook.com, Reactome:R-HSA-162582]"
        ],
        [
         "4",
         "PW:0000004",
         "The pathways that control the processes by which a cell or organism develops, adjusts, behaves, responds to conditions or changes in these conditions, or in any manner helps promote and maintain its efficient functioning. [OneLook:www.onelook.com]"
        ],
        [
         "5",
         "PW:0000005",
         "Those metabolic reactions and pathways involved in the oxidation, breakdown and synthesis of carbohydrates in the tissue. The breakdown can be utilized by the body for energy production. The converse synthesis is used for energy storage. [GO:0005975, OneLook:www.onelook.com, Reactome:R-HSA-71387]"
        ],
        [
         "6",
         "PW:0000006",
         "The Ras superfamily consists of a diverse group of small, monomeric G proteins that function as molecular switches alternating between the GDP-inactive and the GTP-active bound state. The GTP-bound form can interact with many downstream effectors. Ras superfamily controls a broad spectrum of processes; deregulation of Ras cascades has been linked to several forms of cancer. The superfamily is structurally classified in five families. [GO:0007265, PMID:11027944, PMID:11152757]"
        ],
        [
         "7",
         "PW:0000007",
         "The mitogen-activated protein kinase pathway groups several serine/threonine protein kinase mediated cascades in response to a number of extracellular stimuli. A characteristic feature of these cascades is the presence of at least three kinases in series leading to the activation of a multifunctional MAP kinase. [GO:0000165, KEGG:map04010, PMID:14570565, PMID:14976517, PMID:17229475, PMID:17306385, Reactome:R-HSA-5683057]"
        ],
        [
         "8",
         "PW:0000008",
         "The secreted glycoproteins of the Wnt family regulate a wide spectrum of developmental processes and they are also playing important roles in the adult organism. Deregulation of Wnt cascades has oncogenic effects and is responsible for tumorigenesis in adults. [GO:0016055, KEGG:04310, PMID:12573432, PMID:15001769, PMID:15041171, Reactome:R-HSA-195721]"
        ],
        [
         "9",
         "PW:0000009",
         "Apoptosis is a programmed cell death pathway that is characterized by particular morphological features such as membrane blebbing and DNA fragmentation. It can be intrinsic or extrinsic and involves the activation of caspases. [GO:0006915, KEGG:map04210, PMID:12196263, PMID:18414491, Reactome:R-HSA-109581]"
        ],
        [
         "10",
         "PW:0000010",
         "The metabolic reactions involved in the oxidation, utilization and/or synthesis of lipids in tissues. [GO:0006629, OneLook:www.onelook.com, Reactome:R-HSA-556833]"
        ],
        [
         "11",
         "PW:0000011",
         "Those metabolic reactions involved in the synthesis, utilization and/or degradation of the primary or standard 20 amino acids found in proteins. Amino acids are described as non-essential or essential depending on whether humans can or can not synthesize them, respectively. Chemically, they are classified based on the polarity of their side chain or R group, as non-polar and hydrophobic and hydrophilic and charged or polar uncharged. Amino acid metabolic pathways are also listed with their KEGG entries. [GO:0006520, http://www.genome.jp/kegg/ KEGG, MCW_library:Handbooks_of_Biochemistry]"
        ],
        [
         "12",
         "PW:0000012",
         "Those metabolic reactions involved in the synthesis, utilization and/or degradation of nucleotides. Nucleotides, which are the units of DNA and RNA, can also play important roles in cellular energy, enzyme regulation as well as serve as signaling molecules. [GO:0009117, PMID:20561600, PMID:21222015, Reactome:R-HSA-15869]"
        ],
        [
         "13",
         "PW:0000013",
         "Complex human diseases encompass a spectrum of genetic and environmental attributes that together affect the normal functioning of several molecular and cellular pathways. Their combined and accumulated effect is manifested in the anomalous phenotype of the complex condition. [InHouse:InHouse_PW_dictionary, Reactome:R-HSA-1643685]"
        ],
        [
         "14",
         "PW:0000014",
         "Neurodegenerative diseases group together a number of conditions of various and many times poorly understood origins that are characterized by the progressive loss of particular neurons, the formation of particular structures such as plaques and fibrils, and protein aggregates. Proteosomal degradation, programmed cell death and oxidative stress are among a number of pathways thought to be disrupted. [inHouse:InHouse_PW_dictionary, Reactome:R-HSA-8863678]"
        ],
        [
         "15",
         "PW:0000015",
         "A mostly sporadic, late-onset condition affecting the central nervous system, that is the most prevalent neurodegenerative disease and the most common form of dementia. It is characterized by the presence of amyloid plaques and fibril tangles. Possible pathways affected range from protein mis-folding and aggregation, to oxidative stress and impaired metal homeostasis. [InHouse:InHouse_PW_dictionary, KEGG:map05010]"
        ],
        [
         "16",
         "PW:0000016",
         "A late onset, mostly sporadic neurodegenerative disease characterized by the loss of motor neurons in the brain stem and spinal cord. Various pathways are thought to be deregulated and contribute to the condition; among them calcium and/or zinc homeostasis, apoptosis, Cdk5 and calcineurin dependent processes, and in the case of the more rare, genetically inherited form of the disease, mutations in the cytosolic Cu, Zn superoxide dismutase (SOD1) and the subsequent changes in the processes that involve SOD1. [InHouse:In_House_PW_dictionary, KEGG:map05014]"
        ],
        [
         "17",
         "PW:0000017",
         "An autosomal dominant neurodegenerative disease manifesting in movement, cognitive and psychiatric disorders caused by the abnormal expansion of a polyglutamine (polyQ) stretch in the Huntingtin (HTT) protein. It mostly affects the caudate-putamen striatal neurons. Other areas are also affected and undergo a size reduction. HTT is thought to be involved in several cellular pathways. Its functions are overcome by the mutant protein mHTT. [PMID:26938440]"
        ],
        [
         "18",
         "PW:0000018",
         "One of the most common neurodegenerative diseases that is characterized by the loss of dopaminergic neurons in the substantia nigra and the presence of cytoplasmic inclusions called Lewy bodies in surrounding neurons. Several pathways are thought to be deregulated; for instance, imbalance of iron homeostasis is believed to contribute to the pathogenesis of the condition. [KEGG:map05012, PMID:18052765, PMID:19422283]"
        ],
        [
         "19",
         "PW:0000019",
         "Prion disease - any of a group of fatal, transmissible neurodegenerative diseases caused by abnormalities of prion protein metabolism, which may result from mutations in the prion protein gene or from infection with pathogenic isoforms of the protein.  Characteristics include neuronal loss, gliosis, and extensive vacuolization of the cerebral cortex. Prion diseases may be sporadic, inherited as an autosomal dominant trait, or acquired. Human diseases include Creutzfeldt-Jakob disease, Gerstmann-Strussler syndrome, fatal familial insomnia, and kuru [KEGG:map05020, OneLook:www.onelook.com]"
        ],
        [
         "20",
         "PW:0000020",
         "Cardiovascular diseases represent a very broad spectrum of conditions that can also combine with diabetes and renal failure. [InHouse:InHouse_PW_dictionary]"
        ],
        [
         "21",
         "PW:0000021",
         "Hypertension, high arterial blood pressure: various criteria for its threshold have been suggested, ranging from 140 mm Hg systolic and 90 mm Hg diastolic to as high as 200 mm Hg systolic and 110 mm Hg diastolic. Hypertension may have no known cause (essential or idiopathic h.) or be associated with other primary diseases (secondary h.). [OneLook:www.onelook.com]"
        ],
        [
         "22",
         "PW:0000022",
         "Cardiomyopathy - a general diagnostic term designating primary noninflammatory disease of the heart muscle, often of obscure or unknown etiology and not the result of ischemic, hypertensive, congenital, valvular, or pericardial disease. It is usually subdivided into dilated, hypertrophic, and restrictive cardiomyopathy (1). Cardiomyopathy is the deterioration of the cardiac muscle of the heart wall. [OneLook:www.onelook.com]"
        ],
        [
         "23",
         "PW:0000023",
         "The Immune response pathways mediate the defense of host cells against infection and injury. The first line of defense is provided by the phylogenetically older innate immune response. The later, more versatile response is provided by the pathways of adaptive immunity: the B cell mediated humoral and the T cell mediated cellular or cell-mediated responses. [GO:0006955, MCW_library:Handbook_of_cellular_and_molecular_immunology, OneLook:www.onelook.com, Reactome:R-HSA-168256]"
        ],
        [
         "24",
         "PW:0000024",
         "Inflammation is the cellular response of the innate immune system to infection or injury. Sensing of infection by pattern recognition receptors triggers signaling cascades leading to the expression of mediator genes such as the pro-inflammatory cytokines. [GO:0006954, MCW_library:Cellular_and_molecular_immunology\\,_by_Abbas\\,_Abul_K, OneLook:www.onelook.com, PMID:15364056, PMID:16226680, PMID:16281932, PMID:20303867, PMID:20303872]"
        ],
        [
         "25",
         "PW:0000025",
         "Those metabolic reactions involved in the energy-yielding conversion of glucose to pyruvate or in the formation of glucose from non-carbohydrate precursors such as pyruvate, lactate, citric acid cycle intermediates, the carbon skeleton of many amino acids. While many enzymes are shared by the two pathways, a few steps are carried out by pathway-specific enzymes. The two pathways are independently regulated. [KEGG:map00010]"
        ],
        [
         "26",
         "PW:0000026",
         "The series of chemical reactions that are central to all aerobic cells and constitute the citric acid cycle. Also known as the tricarboxylic acid cycle (TCA) or Krebs cycle, it is the center of convergence for all molecular fuels. [GO:0006099, KEGG:map00020, OneLook:www.onelook.com, Reactome:R-HSA-71403, SMP:00057]"
        ],
        [
         "27",
         "PW:0000027",
         "Those metabolic reactions involved in the synthesis, utilization and/or degradation glutamic acid/glutamate. Glutamate is the major excitatory neurotransmitter. [OneLook:www.onelook.com]"
        ],
        [
         "28",
         "PW:0000028",
         "Those metabolic reactions involved in the synthesis, utilization and/or degradation of alanine, aspartate and glutamate. [OneLook:www.onelook.com]"
        ],
        [
         "29",
         "PW:0000029",
         "Acetyl-CoA, the starting material for fatty acid biosynthesis, can be derived from amino acid and lipid degradation or the oxidative decarboxylation of pyruvate. Fatty acid biosynthesis involves the condensation of C2 units; it requires seven enzymatic reactions which are carried out by the multifunctional enzyme fatty acid synthase. [GO:0006633, KEGG:00061, PMID:11248039, PMID:8001737, SMP:00456]"
        ],
        [
         "30",
         "PW:0000031",
         "Those metabolic reactions involved in the synthesis, utilization and/or degradation of purines. Purines consist of a pyrimidine ring fused to an imidazole ring. The nucleobases adenine and guanine in DNA are purines. [GO:0006144, KEGG:00230, OneLook:www.onelook.com, SMP:00050]"
        ],
        [
         "31",
         "PW:0000032",
         "Those metabolic reactions involved in the synthesis, utilization and/or degradation of pyrimidines. Cytosine, thymine and uracil - the nucleobases found in nucleic acids, are pyrimidine derivatives. [GO:0006206, KEGG:00240, OneLook:www.onelook.com, SMP:00046]"
        ],
        [
         "32",
         "PW:0000033",
         "Those metabolic reactions and pathways whose role is to release or provide energy. [OneLook:www.onelook.com]"
        ],
        [
         "33",
         "PW:0000034",
         "Those metabolic reactions whereby the electrons, derived from the oxidation of glucose and lipids or the degradation of amino acids, are passed to oxygen via a series of series of spatially separated complexes. The energy derived generates an electrochemical gradient that drives the synthesis of ATP. The coupling between the electron transport chain, also known as the respiratory chain, and the ATP biosynthetic pathway is known as oxidative phosphorylation. Under certain circumstances the two may be uncoupled. [GO:0022904, OneLook:www.onelook.com, PMID:19760284, PMID:21625217, Reactome:R-HSA-611105, SMP:00355]"
        ],
        [
         "34",
         "PW:0000035",
         "Those metabolic reactions involved in the synthesis of adenosine triphosphate (ATP). ATP synthesis is coupled to the electron transfer or respiratory chain pathway which generates an electrochemical gradient that drives the phosphorylation of ADP. The coupling of the two pathways is called oxidative phosphorylation. Under certain circumstances however, the two may be uncoupled. [GO:0006754, OneLook:www.onelook.com, PMID:19760284, PMID:21625217]"
        ],
        [
         "35",
         "PW:0000036",
         "Those metabolic reactions in the nitrogen cycle carried out by various microorganisms. [KEGG:map00910]"
        ],
        [
         "36",
         "PW:0000037",
         "Those metabolic reactions involving sulfur - a component of methionine and cysteine amino acids and of co-enzymes and vitamins. It also serves as electron donor in anaerobic respiration. Microorganisms and plants can incorporate inorganic sulfate into bioinorganic compounds; higher organisms derive them from diet. [GO:0006790, http://en.wikipedia.org/wiki/Sulfur_metabolism Wikipedia, KEGG:00920, KEGG:map00920, PMID:16143557]"
        ],
        [
         "37",
         "PW:0000038",
         "OBSOLETE. Originally found at KEGG, the term has since been deleted. [PW_dictionary:InHouse_dictionary]"
        ],
        [
         "38",
         "PW:0000039",
         "Those metabolic reactions involved in the biosynthesis of bile acids - any of the steroid carboxylic acids derived from cholesterol. Cholic and chenodeoxycholic acids are the primary bile acids and are formed in the liver. Secondary bile acids - deoxycholic and lithocholic - are formed from the primary bile acids through the action of intestinal bacteria. Bile acid also acts as a signal molecule via several nuclear receptors. [GO:0006699, KEGG:00120, OneLook:www.onelook.com, PMID:22414897, SMP:00035]"
        ],
        [
         "39",
         "PW:0000040",
         "Those metabolic reactions involved in the synthesis of steroid hormones. All steroid hormones are derived from cholesterol. Steroid hormone metabolism is extremely complex and its molecular details are incompletely understood. De novo steroid biosynthesis is confined to very few tissues, primarily the adrenals, the gonads and the placenta. [GO:0120178, KEGG:00140, KEGG:map00140, OneLook:www.onelook.com, PMID:17926129, SMP:00130]"
        ],
        [
         "40",
         "PW:0000041",
         "Those metabolic reactions involved in the synthesis, utilization and/or degradation of fructose and mannose, as depicted in the KEGG diagram. [KEGG:map00051, OneLook:www.onelook.com]"
        ],
        [
         "41",
         "PW:0000042",
         "Those metabolic reactions involved in the synthesis, utilization and/or degradation of galactose - an aldohexose epimeric with glucose at the 4 carbon. Galactose is a component of lactose and other oligosaccharides, cerebrosides and gangliosides, and of various glycolipids and glycoproteins. [GO:0006012, KEGG:00052, KEGG:map00052, OneLook:www.onelook.com, SMP:00043]"
        ],
        [
         "42",
         "PW:0000043",
         "Those metabolic reactions involved in the synthesis, utilization and/or degradation of pyruvate - a salt, ester, or anionic form of pyruvic acid. Pyruvate, which is the end-product of glycolysis, can be converted to lactate under anaerobic conditions, can be further oxidized via the Krebs or citrate cycle or can be converted back to glucose via gluconeogenesis. [GO:0006090, KEGG:00620, KEGG:00620, OneLook:www.onelook.com, Reactome:R-HSA-70268, SMP:00060]"
        ],
        [
         "43",
         "PW:0000044",
         "OBSOLETE. Duplicated term. Use PW:0000027. [PW_dictionary:InHouse_dictionary]"
        ],
        [
         "44",
         "PW:0000045",
         "Those metabolic reactions involved in the generation of reducing equivalents and five carbon (pentose) sugars. The oxidative phase is irreversible; the non-oxidative is reversible. [GO:0006098, KEGG:map00030, OneLook:www.oneloook.com, Reactome:R-HSA-71336, SMP:00031]"
        ],
        [
         "45",
         "PW:0000046",
         "Those metabolic reactions involved in the synthesis, utilization and/or degradation of inositol, a cyclic sugar alcohol occurring in a number of stereoisomers of which myo-inositol is the most prominent form. myo-inositol provides a structural basis for compounds such as inositol phosphates and phosphatidylinositols, which are secondary messengers in several signaling pathways. [GO:0006020, OneLook:www.onelook.com, SMP:00011]"
        ],
        [
         "46",
         "PW:0000047",
         "Those metabolic reactions involved in the synthesis of glycine, serine and threonine and which are intimately connected with serine being synthesized from glycine and threonine. [OneLook:www.onelook.com]"
        ],
        [
         "47",
         "PW:0000048",
         "Those metabolic reactions involved in the synthesis (remethylation), utilization and/or degradation of methionine, an essential amino acid for humans. The cycle produces S-adenosylmethionine (AdoMet),  the major methyl donor for proteins, nucleic acids, lipids and other small molecules. The cycle also produces homocysteine (Hcy) which either regenerates methionine via the  remethylation pathway or leads to the synthesis of cysteine and derivatives via the transsulfuration pathway. Homocysteine and folate metabolic pathways are intimately related to the methionine cycle. [MCW_library_book:Homocysteine_in_Health_and_Disease]"
        ],
        [
         "48",
         "PW:0000049",
         "Those metabolic reactions involved in the synthesis, utilization and/or degradation of cysteine, a non-essential amino acid that could be essential in certain cases. Its side chain contains a sulfhydryl group that is readily oxidized to form the cystine dimer covalently linked by a disulfide bond. [GO:0006534, OneLook:www.onelook.com, SMP:00013]"
        ],
        [
         "49",
         "PW:0000050",
         "Those metabolic reactions involved in the synthesis, utilization and/or degradation of arginine - an essential amino acid - and proline - an amino acid that can play important roles in protein secondary structure. [OneLook:www.onelook.com]"
        ]
       ],
       "shape": {
        "columns": 2,
        "rows": 2679
       }
      },
      "text/html": [
       "<div>\n",
       "<style scoped>\n",
       "    .dataframe tbody tr th:only-of-type {\n",
       "        vertical-align: middle;\n",
       "    }\n",
       "\n",
       "    .dataframe tbody tr th {\n",
       "        vertical-align: top;\n",
       "    }\n",
       "\n",
       "    .dataframe thead th {\n",
       "        text-align: right;\n",
       "    }\n",
       "</style>\n",
       "<table border=\"1\" class=\"dataframe\">\n",
       "  <thead>\n",
       "    <tr style=\"text-align: right;\">\n",
       "      <th></th>\n",
       "      <th>id</th>\n",
       "      <th>def</th>\n",
       "    </tr>\n",
       "  </thead>\n",
       "  <tbody>\n",
       "    <tr>\n",
       "      <th>0</th>\n",
       "      <td>PW:0000000</td>\n",
       "      <td>NaN</td>\n",
       "    </tr>\n",
       "    <tr>\n",
       "      <th>1</th>\n",
       "      <td>PW:0000001</td>\n",
       "      <td>A pathway is a set of inter-connected  reactio...</td>\n",
       "    </tr>\n",
       "    <tr>\n",
       "      <th>2</th>\n",
       "      <td>PW:0000002</td>\n",
       "      <td>The various, enzyme-controlled, series of reac...</td>\n",
       "    </tr>\n",
       "    <tr>\n",
       "      <th>3</th>\n",
       "      <td>PW:0000003</td>\n",
       "      <td>The pathways where a signal - hormone, neurotr...</td>\n",
       "    </tr>\n",
       "    <tr>\n",
       "      <th>4</th>\n",
       "      <td>PW:0000004</td>\n",
       "      <td>The pathways that control the processes by whi...</td>\n",
       "    </tr>\n",
       "    <tr>\n",
       "      <th>...</th>\n",
       "      <td>...</td>\n",
       "      <td>...</td>\n",
       "    </tr>\n",
       "    <tr>\n",
       "      <th>2674</th>\n",
       "      <td>PW:0002681</td>\n",
       "      <td>Fatty acid degradation via beta oxidation, act...</td>\n",
       "    </tr>\n",
       "    <tr>\n",
       "      <th>2675</th>\n",
       "      <td>PW:0002682</td>\n",
       "      <td>A pathway in which force is generated within m...</td>\n",
       "    </tr>\n",
       "    <tr>\n",
       "      <th>2676</th>\n",
       "      <td>PW:0002683</td>\n",
       "      <td>A pathway in which force is generated within s...</td>\n",
       "    </tr>\n",
       "    <tr>\n",
       "      <th>2677</th>\n",
       "      <td>PW:0002684</td>\n",
       "      <td>A pathway in which force is generated within s...</td>\n",
       "    </tr>\n",
       "    <tr>\n",
       "      <th>2678</th>\n",
       "      <td>PW:0002685</td>\n",
       "      <td>NaN</td>\n",
       "    </tr>\n",
       "  </tbody>\n",
       "</table>\n",
       "<p>2679 rows × 2 columns</p>\n",
       "</div>"
      ],
      "text/plain": [
       "              id                                                def\n",
       "0     PW:0000000                                                NaN\n",
       "1     PW:0000001  A pathway is a set of inter-connected  reactio...\n",
       "2     PW:0000002  The various, enzyme-controlled, series of reac...\n",
       "3     PW:0000003  The pathways where a signal - hormone, neurotr...\n",
       "4     PW:0000004  The pathways that control the processes by whi...\n",
       "...          ...                                                ...\n",
       "2674  PW:0002681  Fatty acid degradation via beta oxidation, act...\n",
       "2675  PW:0002682  A pathway in which force is generated within m...\n",
       "2676  PW:0002683  A pathway in which force is generated within s...\n",
       "2677  PW:0002684  A pathway in which force is generated within s...\n",
       "2678  PW:0002685                                                NaN\n",
       "\n",
       "[2679 rows x 2 columns]"
      ]
     },
     "execution_count": 3,
     "metadata": {},
     "output_type": "execute_result"
    }
   ],
   "source": [
    "po_def = pd.read_csv('po_def.csv')\n",
    "po_def['def'] = po_def['def'].str.replace('\"', '')\n",
    "po_def"
   ]
  },
  {
   "cell_type": "code",
   "execution_count": 4,
   "metadata": {},
   "outputs": [
    {
     "data": {
      "application/vnd.microsoft.datawrangler.viewer.v0+json": {
       "columns": [
        {
         "name": "index",
         "rawType": "int64",
         "type": "integer"
        },
        {
         "name": "BioMedGraphica_ID",
         "rawType": "object",
         "type": "string"
        },
        {
         "name": "PO",
         "rawType": "object",
         "type": "unknown"
        }
       ],
       "conversionMethod": "pd.DataFrame",
       "ref": "dbe9d533-7c32-4f22-bcc0-9707f002d2fd",
       "rows": [
        [
         "0",
         "BMG_PW0001",
         "A pathway is a set of inter-connected  reactions and interactions whose delineation and scope are used as a model for exploring and studying, describing and understanding the working of and relationships between biomolecules within a context. []"
        ],
        [
         "1",
         "BMG_PW0002",
         "The various, enzyme-controlled, series of reactions allowing for the conversion of materials, energy availability and biodegradation of xenobiotics. [GO:0008152, http://www.onelook.com/ OneLook, Reactome:R-HSA-1430728]"
        ],
        [
         "2",
         "BMG_PW0003",
         "The pathways where a signal - hormone, neurotransmitter, growth factor, peptide, any molecule - triggers one or multiple cascades of events. This involves a number of molecules, including receptors, proteins, ligands, messengers, any participating molecule. A signaling pathway may be upstream or downstream of other signaling pathways. Signaling pathways control a very broad spectrum of processes as well as pathways. [GO:0007165, OneLook:www.onelook.com, Reactome:R-HSA-162582]"
        ],
        [
         "3",
         "BMG_PW0004",
         "The pathways that control the processes by which a cell or organism develops, adjusts, behaves, responds to conditions or changes in these conditions, or in any manner helps promote and maintain its efficient functioning. [OneLook:www.onelook.com]"
        ],
        [
         "4",
         "BMG_PW0005",
         "Those metabolic reactions and pathways involved in the oxidation, breakdown and synthesis of carbohydrates in the tissue. The breakdown can be utilized by the body for energy production. The converse synthesis is used for energy storage. [GO:0005975, OneLook:www.onelook.com, Reactome:R-HSA-71387]"
        ],
        [
         "5",
         "BMG_PW0006",
         "The Ras superfamily consists of a diverse group of small, monomeric G proteins that function as molecular switches alternating between the GDP-inactive and the GTP-active bound state. The GTP-bound form can interact with many downstream effectors. Ras superfamily controls a broad spectrum of processes; deregulation of Ras cascades has been linked to several forms of cancer. The superfamily is structurally classified in five families. [GO:0007265, PMID:11027944, PMID:11152757]"
        ],
        [
         "6",
         "BMG_PW0007",
         "The mitogen-activated protein kinase pathway groups several serine/threonine protein kinase mediated cascades in response to a number of extracellular stimuli. A characteristic feature of these cascades is the presence of at least three kinases in series leading to the activation of a multifunctional MAP kinase. [GO:0000165, KEGG:map04010, PMID:14570565, PMID:14976517, PMID:17229475, PMID:17306385, Reactome:R-HSA-5683057]"
        ],
        [
         "7",
         "BMG_PW0008",
         "The secreted glycoproteins of the Wnt family regulate a wide spectrum of developmental processes and they are also playing important roles in the adult organism. Deregulation of Wnt cascades has oncogenic effects and is responsible for tumorigenesis in adults. [GO:0016055, KEGG:04310, PMID:12573432, PMID:15001769, PMID:15041171, Reactome:R-HSA-195721]"
        ],
        [
         "8",
         "BMG_PW0009",
         "Apoptosis is a programmed cell death pathway that is characterized by particular morphological features such as membrane blebbing and DNA fragmentation. It can be intrinsic or extrinsic and involves the activation of caspases. [GO:0006915, KEGG:map04210, PMID:12196263, PMID:18414491, Reactome:R-HSA-109581]"
        ],
        [
         "9",
         "BMG_PW0010",
         "The metabolic reactions involved in the oxidation, utilization and/or synthesis of lipids in tissues. [GO:0006629, OneLook:www.onelook.com, Reactome:R-HSA-556833]"
        ],
        [
         "10",
         "BMG_PW0011",
         "Those metabolic reactions involved in the synthesis, utilization and/or degradation of the primary or standard 20 amino acids found in proteins. Amino acids are described as non-essential or essential depending on whether humans can or can not synthesize them, respectively. Chemically, they are classified based on the polarity of their side chain or R group, as non-polar and hydrophobic and hydrophilic and charged or polar uncharged. Amino acid metabolic pathways are also listed with their KEGG entries. [GO:0006520, http://www.genome.jp/kegg/ KEGG, MCW_library:Handbooks_of_Biochemistry]"
        ],
        [
         "11",
         "BMG_PW0012",
         "Those metabolic reactions involved in the synthesis, utilization and/or degradation of nucleotides. Nucleotides, which are the units of DNA and RNA, can also play important roles in cellular energy, enzyme regulation as well as serve as signaling molecules. [GO:0009117, PMID:20561600, PMID:21222015, Reactome:R-HSA-15869]"
        ],
        [
         "12",
         "BMG_PW0013",
         "Complex human diseases encompass a spectrum of genetic and environmental attributes that together affect the normal functioning of several molecular and cellular pathways. Their combined and accumulated effect is manifested in the anomalous phenotype of the complex condition. [InHouse:InHouse_PW_dictionary, Reactome:R-HSA-1643685]"
        ],
        [
         "13",
         "BMG_PW0014",
         "Neurodegenerative diseases group together a number of conditions of various and many times poorly understood origins that are characterized by the progressive loss of particular neurons, the formation of particular structures such as plaques and fibrils, and protein aggregates. Proteosomal degradation, programmed cell death and oxidative stress are among a number of pathways thought to be disrupted. [inHouse:InHouse_PW_dictionary, Reactome:R-HSA-8863678]"
        ],
        [
         "14",
         "BMG_PW0015",
         "A mostly sporadic, late-onset condition affecting the central nervous system, that is the most prevalent neurodegenerative disease and the most common form of dementia. It is characterized by the presence of amyloid plaques and fibril tangles. Possible pathways affected range from protein mis-folding and aggregation, to oxidative stress and impaired metal homeostasis. [InHouse:InHouse_PW_dictionary, KEGG:map05010]"
        ],
        [
         "15",
         "BMG_PW0016",
         "A late onset, mostly sporadic neurodegenerative disease characterized by the loss of motor neurons in the brain stem and spinal cord. Various pathways are thought to be deregulated and contribute to the condition; among them calcium and/or zinc homeostasis, apoptosis, Cdk5 and calcineurin dependent processes, and in the case of the more rare, genetically inherited form of the disease, mutations in the cytosolic Cu, Zn superoxide dismutase (SOD1) and the subsequent changes in the processes that involve SOD1. [InHouse:In_House_PW_dictionary, KEGG:map05014]"
        ],
        [
         "16",
         "BMG_PW0017",
         "An autosomal dominant neurodegenerative disease manifesting in movement, cognitive and psychiatric disorders caused by the abnormal expansion of a polyglutamine (polyQ) stretch in the Huntingtin (HTT) protein. It mostly affects the caudate-putamen striatal neurons. Other areas are also affected and undergo a size reduction. HTT is thought to be involved in several cellular pathways. Its functions are overcome by the mutant protein mHTT. [PMID:26938440]"
        ],
        [
         "17",
         "BMG_PW0018",
         "One of the most common neurodegenerative diseases that is characterized by the loss of dopaminergic neurons in the substantia nigra and the presence of cytoplasmic inclusions called Lewy bodies in surrounding neurons. Several pathways are thought to be deregulated; for instance, imbalance of iron homeostasis is believed to contribute to the pathogenesis of the condition. [KEGG:map05012, PMID:18052765, PMID:19422283]"
        ],
        [
         "18",
         "BMG_PW0019",
         "Prion disease - any of a group of fatal, transmissible neurodegenerative diseases caused by abnormalities of prion protein metabolism, which may result from mutations in the prion protein gene or from infection with pathogenic isoforms of the protein.  Characteristics include neuronal loss, gliosis, and extensive vacuolization of the cerebral cortex. Prion diseases may be sporadic, inherited as an autosomal dominant trait, or acquired. Human diseases include Creutzfeldt-Jakob disease, Gerstmann-Strussler syndrome, fatal familial insomnia, and kuru [KEGG:map05020, OneLook:www.onelook.com]"
        ],
        [
         "19",
         "BMG_PW0020",
         "Cardiovascular diseases represent a very broad spectrum of conditions that can also combine with diabetes and renal failure. [InHouse:InHouse_PW_dictionary]"
        ],
        [
         "20",
         "BMG_PW0021",
         "Hypertension, high arterial blood pressure: various criteria for its threshold have been suggested, ranging from 140 mm Hg systolic and 90 mm Hg diastolic to as high as 200 mm Hg systolic and 110 mm Hg diastolic. Hypertension may have no known cause (essential or idiopathic h.) or be associated with other primary diseases (secondary h.). [OneLook:www.onelook.com]"
        ],
        [
         "21",
         "BMG_PW0022",
         "Cardiomyopathy - a general diagnostic term designating primary noninflammatory disease of the heart muscle, often of obscure or unknown etiology and not the result of ischemic, hypertensive, congenital, valvular, or pericardial disease. It is usually subdivided into dilated, hypertrophic, and restrictive cardiomyopathy (1). Cardiomyopathy is the deterioration of the cardiac muscle of the heart wall. [OneLook:www.onelook.com]"
        ],
        [
         "22",
         "BMG_PW0023",
         "The Immune response pathways mediate the defense of host cells against infection and injury. The first line of defense is provided by the phylogenetically older innate immune response. The later, more versatile response is provided by the pathways of adaptive immunity: the B cell mediated humoral and the T cell mediated cellular or cell-mediated responses. [GO:0006955, MCW_library:Handbook_of_cellular_and_molecular_immunology, OneLook:www.onelook.com, Reactome:R-HSA-168256]"
        ],
        [
         "23",
         "BMG_PW0024",
         "Inflammation is the cellular response of the innate immune system to infection or injury. Sensing of infection by pattern recognition receptors triggers signaling cascades leading to the expression of mediator genes such as the pro-inflammatory cytokines. [GO:0006954, MCW_library:Cellular_and_molecular_immunology\\,_by_Abbas\\,_Abul_K, OneLook:www.onelook.com, PMID:15364056, PMID:16226680, PMID:16281932, PMID:20303867, PMID:20303872]"
        ],
        [
         "24",
         "BMG_PW0025",
         "Those metabolic reactions involved in the energy-yielding conversion of glucose to pyruvate or in the formation of glucose from non-carbohydrate precursors such as pyruvate, lactate, citric acid cycle intermediates, the carbon skeleton of many amino acids. While many enzymes are shared by the two pathways, a few steps are carried out by pathway-specific enzymes. The two pathways are independently regulated. [KEGG:map00010]"
        ],
        [
         "25",
         "BMG_PW0026",
         "The series of chemical reactions that are central to all aerobic cells and constitute the citric acid cycle. Also known as the tricarboxylic acid cycle (TCA) or Krebs cycle, it is the center of convergence for all molecular fuels. [GO:0006099, KEGG:map00020, OneLook:www.onelook.com, Reactome:R-HSA-71403, SMP:00057]"
        ],
        [
         "26",
         "BMG_PW0027",
         "Those metabolic reactions involved in the synthesis, utilization and/or degradation glutamic acid/glutamate. Glutamate is the major excitatory neurotransmitter. [OneLook:www.onelook.com]"
        ],
        [
         "27",
         "BMG_PW0028",
         "Those metabolic reactions involved in the synthesis, utilization and/or degradation of alanine, aspartate and glutamate. [OneLook:www.onelook.com]"
        ],
        [
         "28",
         "BMG_PW0029",
         "Acetyl-CoA, the starting material for fatty acid biosynthesis, can be derived from amino acid and lipid degradation or the oxidative decarboxylation of pyruvate. Fatty acid biosynthesis involves the condensation of C2 units; it requires seven enzymatic reactions which are carried out by the multifunctional enzyme fatty acid synthase. [GO:0006633, KEGG:00061, PMID:11248039, PMID:8001737, SMP:00456]"
        ],
        [
         "29",
         "BMG_PW0030",
         "Those metabolic reactions involved in the synthesis, utilization and/or degradation of purines. Purines consist of a pyrimidine ring fused to an imidazole ring. The nucleobases adenine and guanine in DNA are purines. [GO:0006144, KEGG:00230, OneLook:www.onelook.com, SMP:00050]"
        ],
        [
         "30",
         "BMG_PW0031",
         "Those metabolic reactions involved in the synthesis, utilization and/or degradation of pyrimidines. Cytosine, thymine and uracil - the nucleobases found in nucleic acids, are pyrimidine derivatives. [GO:0006206, KEGG:00240, OneLook:www.onelook.com, SMP:00046]"
        ],
        [
         "31",
         "BMG_PW0032",
         "Those metabolic reactions and pathways whose role is to release or provide energy. [OneLook:www.onelook.com]"
        ],
        [
         "32",
         "BMG_PW0033",
         "Those metabolic reactions whereby the electrons, derived from the oxidation of glucose and lipids or the degradation of amino acids, are passed to oxygen via a series of series of spatially separated complexes. The energy derived generates an electrochemical gradient that drives the synthesis of ATP. The coupling between the electron transport chain, also known as the respiratory chain, and the ATP biosynthetic pathway is known as oxidative phosphorylation. Under certain circumstances the two may be uncoupled. [GO:0022904, OneLook:www.onelook.com, PMID:19760284, PMID:21625217, Reactome:R-HSA-611105, SMP:00355]"
        ],
        [
         "33",
         "BMG_PW0034",
         "Those metabolic reactions involved in the synthesis of adenosine triphosphate (ATP). ATP synthesis is coupled to the electron transfer or respiratory chain pathway which generates an electrochemical gradient that drives the phosphorylation of ADP. The coupling of the two pathways is called oxidative phosphorylation. Under certain circumstances however, the two may be uncoupled. [GO:0006754, OneLook:www.onelook.com, PMID:19760284, PMID:21625217]"
        ],
        [
         "34",
         "BMG_PW0035",
         "Those metabolic reactions in the nitrogen cycle carried out by various microorganisms. [KEGG:map00910]"
        ],
        [
         "35",
         "BMG_PW0036",
         "Those metabolic reactions involving sulfur - a component of methionine and cysteine amino acids and of co-enzymes and vitamins. It also serves as electron donor in anaerobic respiration. Microorganisms and plants can incorporate inorganic sulfate into bioinorganic compounds; higher organisms derive them from diet. [GO:0006790, http://en.wikipedia.org/wiki/Sulfur_metabolism Wikipedia, KEGG:00920, KEGG:map00920, PMID:16143557]"
        ],
        [
         "36",
         "BMG_PW0037",
         "OBSOLETE. Originally found at KEGG, the term has since been deleted. [PW_dictionary:InHouse_dictionary]"
        ],
        [
         "37",
         "BMG_PW0038",
         "Those metabolic reactions involved in the biosynthesis of bile acids - any of the steroid carboxylic acids derived from cholesterol. Cholic and chenodeoxycholic acids are the primary bile acids and are formed in the liver. Secondary bile acids - deoxycholic and lithocholic - are formed from the primary bile acids through the action of intestinal bacteria. Bile acid also acts as a signal molecule via several nuclear receptors. [GO:0006699, KEGG:00120, OneLook:www.onelook.com, PMID:22414897, SMP:00035]"
        ],
        [
         "38",
         "BMG_PW0039",
         "Those metabolic reactions involved in the synthesis of steroid hormones. All steroid hormones are derived from cholesterol. Steroid hormone metabolism is extremely complex and its molecular details are incompletely understood. De novo steroid biosynthesis is confined to very few tissues, primarily the adrenals, the gonads and the placenta. [GO:0120178, KEGG:00140, KEGG:map00140, OneLook:www.onelook.com, PMID:17926129, SMP:00130]"
        ],
        [
         "39",
         "BMG_PW0040",
         "Those metabolic reactions involved in the synthesis, utilization and/or degradation of fructose and mannose, as depicted in the KEGG diagram. [KEGG:map00051, OneLook:www.onelook.com]"
        ],
        [
         "40",
         "BMG_PW0041",
         "Those metabolic reactions involved in the synthesis, utilization and/or degradation of galactose - an aldohexose epimeric with glucose at the 4 carbon. Galactose is a component of lactose and other oligosaccharides, cerebrosides and gangliosides, and of various glycolipids and glycoproteins. [GO:0006012, KEGG:00052, KEGG:map00052, OneLook:www.onelook.com, SMP:00043]"
        ],
        [
         "41",
         "BMG_PW0042",
         "Those metabolic reactions involved in the synthesis, utilization and/or degradation of pyruvate - a salt, ester, or anionic form of pyruvic acid. Pyruvate, which is the end-product of glycolysis, can be converted to lactate under anaerobic conditions, can be further oxidized via the Krebs or citrate cycle or can be converted back to glucose via gluconeogenesis. [GO:0006090, KEGG:00620, KEGG:00620, OneLook:www.onelook.com, Reactome:R-HSA-70268, SMP:00060]"
        ],
        [
         "42",
         "BMG_PW0043",
         "OBSOLETE. Duplicated term. Use PW:0000027. [PW_dictionary:InHouse_dictionary]"
        ],
        [
         "43",
         "BMG_PW0044",
         "Those metabolic reactions involved in the generation of reducing equivalents and five carbon (pentose) sugars. The oxidative phase is irreversible; the non-oxidative is reversible. [GO:0006098, KEGG:map00030, OneLook:www.oneloook.com, Reactome:R-HSA-71336, SMP:00031]"
        ],
        [
         "44",
         "BMG_PW0045",
         "Those metabolic reactions involved in the synthesis, utilization and/or degradation of inositol, a cyclic sugar alcohol occurring in a number of stereoisomers of which myo-inositol is the most prominent form. myo-inositol provides a structural basis for compounds such as inositol phosphates and phosphatidylinositols, which are secondary messengers in several signaling pathways. [GO:0006020, OneLook:www.onelook.com, SMP:00011]"
        ],
        [
         "45",
         "BMG_PW0046",
         "Those metabolic reactions involved in the synthesis of glycine, serine and threonine and which are intimately connected with serine being synthesized from glycine and threonine. [OneLook:www.onelook.com]"
        ],
        [
         "46",
         "BMG_PW0047",
         "Those metabolic reactions involved in the synthesis (remethylation), utilization and/or degradation of methionine, an essential amino acid for humans. The cycle produces S-adenosylmethionine (AdoMet),  the major methyl donor for proteins, nucleic acids, lipids and other small molecules. The cycle also produces homocysteine (Hcy) which either regenerates methionine via the  remethylation pathway or leads to the synthesis of cysteine and derivatives via the transsulfuration pathway. Homocysteine and folate metabolic pathways are intimately related to the methionine cycle. [MCW_library_book:Homocysteine_in_Health_and_Disease]"
        ],
        [
         "47",
         "BMG_PW0048",
         "Those metabolic reactions involved in the synthesis, utilization and/or degradation of cysteine, a non-essential amino acid that could be essential in certain cases. Its side chain contains a sulfhydryl group that is readily oxidized to form the cystine dimer covalently linked by a disulfide bond. [GO:0006534, OneLook:www.onelook.com, SMP:00013]"
        ],
        [
         "48",
         "BMG_PW0049",
         "Those metabolic reactions involved in the synthesis, utilization and/or degradation of arginine - an essential amino acid - and proline - an amino acid that can play important roles in protein secondary structure. [OneLook:www.onelook.com]"
        ],
        [
         "49",
         "BMG_PW0050",
         "Those metabolic reactions involved in the synthesis, utilization and/or degradation of histidine, an essential amino acid which can act as either a proton donor or a proton acceptor. While the synthesis and degradation pathways of histidine are present in microorganisms, histidine can be acted upon by eukaryotic enzymes. Histidine is the precursor of histamine, is involved in immune responses and also acts as a neurotransmitter. [GO:0006547, KEGG:00340, OneLook:www.onelook.com, SMP:00044]"
        ]
       ],
       "shape": {
        "columns": 2,
        "rows": 6793
       }
      },
      "text/html": [
       "<div>\n",
       "<style scoped>\n",
       "    .dataframe tbody tr th:only-of-type {\n",
       "        vertical-align: middle;\n",
       "    }\n",
       "\n",
       "    .dataframe tbody tr th {\n",
       "        vertical-align: top;\n",
       "    }\n",
       "\n",
       "    .dataframe thead th {\n",
       "        text-align: right;\n",
       "    }\n",
       "</style>\n",
       "<table border=\"1\" class=\"dataframe\">\n",
       "  <thead>\n",
       "    <tr style=\"text-align: right;\">\n",
       "      <th></th>\n",
       "      <th>BioMedGraphica_ID</th>\n",
       "      <th>PO</th>\n",
       "    </tr>\n",
       "  </thead>\n",
       "  <tbody>\n",
       "    <tr>\n",
       "      <th>0</th>\n",
       "      <td>BMG_PW0001</td>\n",
       "      <td>A pathway is a set of inter-connected  reactio...</td>\n",
       "    </tr>\n",
       "    <tr>\n",
       "      <th>1</th>\n",
       "      <td>BMG_PW0002</td>\n",
       "      <td>The various, enzyme-controlled, series of reac...</td>\n",
       "    </tr>\n",
       "    <tr>\n",
       "      <th>2</th>\n",
       "      <td>BMG_PW0003</td>\n",
       "      <td>The pathways where a signal - hormone, neurotr...</td>\n",
       "    </tr>\n",
       "    <tr>\n",
       "      <th>3</th>\n",
       "      <td>BMG_PW0004</td>\n",
       "      <td>The pathways that control the processes by whi...</td>\n",
       "    </tr>\n",
       "    <tr>\n",
       "      <th>4</th>\n",
       "      <td>BMG_PW0005</td>\n",
       "      <td>Those metabolic reactions and pathways involve...</td>\n",
       "    </tr>\n",
       "    <tr>\n",
       "      <th>...</th>\n",
       "      <td>...</td>\n",
       "      <td>...</td>\n",
       "    </tr>\n",
       "    <tr>\n",
       "      <th>6788</th>\n",
       "      <td>BMG_PW6789</td>\n",
       "      <td>NaN</td>\n",
       "    </tr>\n",
       "    <tr>\n",
       "      <th>6789</th>\n",
       "      <td>BMG_PW6790</td>\n",
       "      <td>NaN</td>\n",
       "    </tr>\n",
       "    <tr>\n",
       "      <th>6790</th>\n",
       "      <td>BMG_PW6791</td>\n",
       "      <td>NaN</td>\n",
       "    </tr>\n",
       "    <tr>\n",
       "      <th>6791</th>\n",
       "      <td>BMG_PW6792</td>\n",
       "      <td>NaN</td>\n",
       "    </tr>\n",
       "    <tr>\n",
       "      <th>6792</th>\n",
       "      <td>BMG_PW6793</td>\n",
       "      <td>NaN</td>\n",
       "    </tr>\n",
       "  </tbody>\n",
       "</table>\n",
       "<p>6793 rows × 2 columns</p>\n",
       "</div>"
      ],
      "text/plain": [
       "     BioMedGraphica_ID                                                 PO\n",
       "0           BMG_PW0001  A pathway is a set of inter-connected  reactio...\n",
       "1           BMG_PW0002  The various, enzyme-controlled, series of reac...\n",
       "2           BMG_PW0003  The pathways where a signal - hormone, neurotr...\n",
       "3           BMG_PW0004  The pathways that control the processes by whi...\n",
       "4           BMG_PW0005  Those metabolic reactions and pathways involve...\n",
       "...                ...                                                ...\n",
       "6788        BMG_PW6789                                                NaN\n",
       "6789        BMG_PW6790                                                NaN\n",
       "6790        BMG_PW6791                                                NaN\n",
       "6791        BMG_PW6792                                                NaN\n",
       "6792        BMG_PW6793                                                NaN\n",
       "\n",
       "[6793 rows x 2 columns]"
      ]
     },
     "execution_count": 4,
     "metadata": {},
     "output_type": "execute_result"
    }
   ],
   "source": [
    "bmg_po = biomedgraphica_pathway[['BioMedGraphica_ID','PO_ID']]\n",
    "\n",
    "pathway_description_po = pd.merge(bmg_po, po_def, left_on='PO_ID', right_on='id', how='left')\n",
    "pathway_description_po.drop(columns=['id', 'PO_ID'], inplace=True)\n",
    "pathway_description_po.rename(columns={'def':'PO'}, inplace=True)\n",
    "pathway_description_po"
   ]
  },
  {
   "cell_type": "markdown",
   "metadata": {},
   "source": [
    "### 5.2 From KEGG"
   ]
  },
  {
   "cell_type": "code",
   "execution_count": null,
   "metadata": {},
   "outputs": [],
   "source": [
    "from bioservices import KEGG\n",
    "import pandas as pd\n",
    "\n",
    "k = KEGG()\n",
    "k.organism = \"hsa\"\n",
    "\n",
    "# human\n",
    "pathway_ids = k.pathwayIds\n",
    "\n",
    "def format_value(value):\n",
    "    if isinstance(value, list):\n",
    "        return ';'.join(format_value(item) for item in value)\n",
    "    elif isinstance(value, dict):\n",
    "        return ';'.join(f\"{k}: {v}\" for k, v in value.items())\n",
    "    else:\n",
    "        return str(value)\n",
    "\n",
    "def format_for_dataframe(data):\n",
    "    return {key: format_value(value) for key, value in data.items()}\n",
    "\n",
    "full_pathway = pd.DataFrame()\n",
    "\n",
    "for pid in pathway_ids:\n",
    "    try:\n",
    "        pathway_info = k.get(pid)  \n",
    "        dict_data = k.parse(pathway_info)\n",
    "        formatted_dict_data = format_for_dataframe(dict_data) \n",
    "        df = pd.DataFrame([formatted_dict_data])\n",
    "        full_pathway = pd.concat([full_pathway, df], ignore_index=True)\n",
    "    except Exception as e:\n",
    "        print(f\"Error processing pathway {pid}: {e}\")\n",
    "\n",
    "print(full_pathway.head())\n",
    "\n",
    "full_pathway.to_csv('full_kegg_pathways.csv', index=False)"
   ]
  },
  {
   "cell_type": "code",
   "execution_count": 5,
   "metadata": {},
   "outputs": [
    {
     "data": {
      "application/vnd.microsoft.datawrangler.viewer.v0+json": {
       "columns": [
        {
         "name": "index",
         "rawType": "int64",
         "type": "integer"
        },
        {
         "name": "ENTRY",
         "rawType": "object",
         "type": "string"
        },
        {
         "name": "DESCRIPTION",
         "rawType": "object",
         "type": "unknown"
        }
       ],
       "conversionMethod": "pd.DataFrame",
       "ref": "58f13b0c-c75c-476c-bcbd-2f89c51ec8a2",
       "rows": [
        [
         "0",
         "hsa01100",
         null
        ],
        [
         "1",
         "hsa01200",
         "Carbon metabolism is the most basic aspect of life. This map presents an overall view of central carbon metabolism, where the number of carbons is shown for each compound denoted by a circle, excluding a cofactor (CoA, CoM, THF, or THMPT) that is replaced by an asterisk. The map contains carbon utilization pathways of glycolysis (map00010), pentose phosphate pathway (map00030), and citrate cycle (map00020), and six known carbon fixation pathways (map00710 and map00720) as well as some pathways of methane metabolism (map00680). The six carbon fixation pathways are: (1) reductive pentose phosphate cycle (Calvin cycle) in plants and cyanobacteria that perform oxygenic photosynthesis, (2) reductive citrate cycle in photosynthetic green sulfur bacteria and some chemolithoautotrophs, (3) 3-hydroxypropionate bi-cycle in photosynthetic green nonsulfur bacteria, two variants of 4-hydroxybutyrate pathways in Crenarchaeota called (4) hydroxypropionate-hydroxybutyrate cycle and (5) dicarboxylate-hydroxybutyrate cycle, and (6) reductive acetyl-CoA pathway in methanogenic bacteria."
        ],
        [
         "2",
         "hsa01210",
         "2-Oxocarboxylic acids, also called 2-oxo acids and alpha-keto acids, are the most elementary set of metabolites that includes pyruvate (2-oxopropanoate), 2-oxobutanoate, oxaloacetate (2-oxosuccinate) and 2-oxoglutarate. This diagram illustrates the architecture of chain extension and modification reaction modules for 2-oxocarboxylic acids. The chain extension module RM001 is a tricarboxylic pathway where acetyl-CoA derived carbon is used to extend the chain length by one. The chain modification modules RM002 (including RM032) and RM033, together with a reductive amination step (RC00006 or RC00036), generate basic and branched-chain amino acids, respectively. The modification module RM030 is used in the biosynthesis of glucosinolates, a class of plant secondary metabolites, for conversion to oxime followed by addition of thio-glucose moiety. Furthermore, the chain extension from 2-oxoadipate to 2-oxosuberate is followed by coenzyme B biosynthesis in methonogenic archaea."
        ],
        [
         "3",
         "hsa01212",
         null
        ],
        [
         "4",
         "hsa01230",
         "This map presents a modular architecture of the biosynthesis pathways of twenty amino acids, which may be viewed as consisting of the core part and its extensions. The core part is the KEGG module for conversion of three-carbon compounds from glyceraldehyde-3P to pyruvate [MD:M00002], together with the pathways around serine and glycine. This KEGG module is the most conserved one in the KEGG MODULE database and is found in almost all the completely sequenced genomes. The extensions are the pathways containing the reaction modules RM001, RM033, RM032, and RM002 for biosynthesis of branched-chain amino acids (left) and basic amino acids (bottom), and the pathways for biosynthesis of histidine and aromatic amino acids (top right). It is interesting to note that the so-called essential amino acids that cannot be synthesized in human and other organisms generally appear in these extensions. Furthermore, the bottom extension of basic amino acids appears to be most divergent containing multiple pathways for lysine biosynthesis and multiple gene sets for arginine biosynthesis."
        ],
        [
         "5",
         "hsa01232",
         null
        ],
        [
         "6",
         "hsa01250",
         null
        ],
        [
         "7",
         "hsa01240",
         null
        ],
        [
         "8",
         "hsa01320",
         "Sulfur is one of the six most common chemical elements CHNOPS that constitute living organisms. This map shows a biogeochemical cycle of sulfur compounds and how different microorganisms are responsible for chemical transformations under different environments including atmospheric, hydrospheric and lithospheric environments. Details of chemical reactions and responsible enzymes are shown in map00920 for Sulfur metabolism. Here chemical transformations are represented by KEGG modules, including sulfur reduction [MD:M00986] [KO:K16952] from elemental sulfur to hydrogen sulfide by sulfur-reducing bacteria and archaea, sulfide oxidation [MD:M00985] from hydrogen sulfide to elemental sulfur by sulfur-oxidizing phototrophs, sulfur oxidataion [MD:M00595 M00984] from thiosulfate to sulfate by sulfur-oxidizing chemotrophs, dissimilatory sulfate reduction [MD:M00596] by sulfate-reducing bacteria and archaea, and assimilatory sulfate reduction [MD:M00176 M00987] by both prokaryotes and eukaryotes excluding animals."
        ],
        [
         "9",
         "hsa00010",
         "Glycolysis is the process of converting glucose into pyruvate and generating small amounts of ATP (energy) and NADH (reducing power). It is a central pathway that produces important precursor metabolites: six-carbon compounds of glucose-6P and fructose-6P and three-carbon compounds of glycerone-P, glyceraldehyde-3P, glycerate-3P, phosphoenolpyruvate, and pyruvate [MD:M00001]. Acetyl-CoA, another important precursor metabolite, is produced by oxidative decarboxylation of pyruvate [MD:M00307]. When the enzyme genes of this pathway are examined in completely sequenced genomes, the reaction steps of three-carbon compounds from glycerone-P to pyruvate form a conserved core module [MD:M00002], which is found in almost all organisms and which sometimes contains operon structures in bacterial genomes. Gluconeogenesis is a synthesis pathway of glucose from noncarbohydrate precursors. It is essentially a reversal of glycolysis with minor variations of alternative paths [MD:M00003]."
        ],
        [
         "10",
         "hsa00020",
         "The citrate cycle (TCA cycle, Krebs cycle) is an important aerobic pathway for the final steps of the oxidation of carbohydrates and fatty acids. The cycle starts with acetyl-CoA, the activated form of acetate, derived from glycolysis and pyruvate oxidation for carbohydrates and from beta oxidation of fatty acids. The two-carbon acetyl group in acetyl-CoA is transferred to the four-carbon compound of oxaloacetate to form the six-carbon compound of citrate. In a series of reactions two carbons in citrate are oxidized to CO2 and the reaction pathway supplies NADH for use in the oxidative phosphorylation and other metabolic processes. The pathway also supplies important precursor metabolites including 2-oxoglutarate. At the end of the cycle the remaining four-carbon part is transformed back to oxaloacetate. According to the genome sequence data, many organisms seem to lack genes for the full cycle [MD:M00009], but contain genes for specific segments [MD:M00010 M00011]."
        ],
        [
         "11",
         "hsa00030",
         "The pentose phosphate pathway is a process of glucose turnover that produces NADPH as reducing equivalents and pentoses as essential parts of nucleotides. There are two different phases in the pathway. One is irreversible oxidative phase in which glucose-6P is converted to ribulose-5P by oxidative decarboxylation, and NADPH is generated [MD:M00006]. The other is reversible non-oxidative phase in which phosphorylated sugars are interconverted to generate xylulose-5P, ribulose-5P, and ribose-5P [MD:M00007]. Phosphoribosyl pyrophosphate (PRPP) formed from ribose-5P [MD:M00005] is an activated compound used in the biosynthesis of histidine and purine/pyrimidine nucleotides. This pathway map also shows the Entner-Doudoroff pathway where 6-P-gluconate is dehydrated and then cleaved into pyruvate and glyceraldehyde-3P [MD:M00008]."
        ],
        [
         "12",
         "hsa00040",
         null
        ],
        [
         "13",
         "hsa00051",
         null
        ],
        [
         "14",
         "hsa00052",
         null
        ],
        [
         "15",
         "hsa00053",
         null
        ],
        [
         "16",
         "hsa00500",
         null
        ],
        [
         "17",
         "hsa00620",
         null
        ],
        [
         "18",
         "hsa00630",
         null
        ],
        [
         "19",
         "hsa00640",
         null
        ],
        [
         "20",
         "hsa00650",
         null
        ],
        [
         "21",
         "hsa00562",
         null
        ],
        [
         "22",
         "hsa00190",
         null
        ],
        [
         "23",
         "hsa00910",
         "The biological process of the nitrogen cycle is a complex interplay among different microorganisms catalyzing different reactions, where nitrogen is found in various oxidation states ranging from +5 in nitrate to -3 in ammonia. The core nitrogen cycle involves four reduction pathways and two oxidation pathways. Nitrogen fixation [MD:M00175] is the process of reducing atmospheric molecular nitrogen to ammonia, a biologically useful reduced form incorporated into amino acids and other vital compounds. The ability of fixing atmospheric nitrogen by the nitrogenase enzyme complex is present in restricted prokaryotes (diazotrophs). The other reduction pathways are assimilatory nitrate reduction [MD:M00531] and dissimilatory nitrate reduction [MD:M00530] both for conversion to ammonia, and denitrification [MD:M00529]. Denitrification is a respiration in which nitrate or nitrite is reduced as a terminal electron acceptor under low oxygen or anoxic conditions, producing gaseous nitrogen compounds (N2, NO and N2O) to the atmosphere. The two oxidation pathways are nitrification [MD:M00528] and anaerobic ammonium oxidation (anammox) [MD:M00973]. Nitrification is the oxidation of ammonia (NH3) with oxygen into nitrite followed by the oxidation of nitrite into nitrate. The first step is performed by ammonia-oxidizing microorganisms (e.g., Nitrosomonas and Nitrosococcus) and the second step by nitrite-oxidizing microorganisms (e.g., Nitrobacter). Anammox is a biochemical process of oxidizing ammonium (NH4+) into dinitrogen gas (N2) using nitrite as an electron acceptor. It occurs in the anammoxosome, a membrane bound compartment inside the cytoplasm, of anammox bacteria (e.g., Planctomycetes)."
        ],
        [
         "24",
         "hsa00920",
         "Sulfur is an essential element for life and the metabolism of organic sulfur compounds plays an important role in the global sulfur cycle. Sulfur occurs in various oxidation states ranging from +6 in sulfate to -2 in sulfide (H2S). Sulfate reduction can occur in both an energy consuming assimilatory pathway and an energy producing dissimilatory pathway. The assimilatory pathway, which is found in a wide range of organisms, produces reduced sulfur compounds for the biosynthesis of S-containing amino acids and does not lead to direct excretion of sulfide. In the dissimilatory pathway, which is restricted to obligatory anaerobic bacterial and archaeal lineages, sulfate (or sulfur) is the terminal electron acceptor of the respiratory chain producing large quantities of inorganic sulfide. Both pathways start from the activation of sulfate by reaction with ATP to form adenylyl sulfate (APS). In the assimilatory pathway [MD:M00176] APS is converted to 3'-phosphoadenylyl sulfate (PAPS) and then reduced to sulfite, and sulfite is further reduced to sulfide by the assimilatory sulfite reductase. In the dissimilatory pathway [MD:M00596] APS is directly reduced to sulfite, and sulfite is further reduced to sulfide by the dissimilatory sulfite reductase. The capacity for oxidation of sulfur is quite widespread among bacteria and archaea, comprising phototrophs and chemolithoautotrophs. The SOX (sulfur-oxidation) system [MD:M00595] is a well-known sulfur oxidation pathway and is found in both photosynthetic and non-photosynthetic sulfur-oxidizing bacteria. Green sulfur bacteria and purple sulfur bacteria carry out anoxygenic photosynthesis with reduced sulfur compounds such as sulfide and elemental sulfur, as well as thiosulfate (in some species with the SOX system), as the electron donor for photoautotrophic growth. In some chemolithoautotrophic sulfur oxidizers (such as Thiobacillus denitrificans), it has been suggested that dissimilatory sulfur reduction enzymes operate in the reverse direction, forming a sulfur oxidation pathway from sulfite to APS and then to sulfate."
        ],
        [
         "25",
         "hsa00061",
         null
        ],
        [
         "26",
         "hsa00062",
         null
        ],
        [
         "27",
         "hsa00071",
         null
        ],
        [
         "28",
         "hsa00100",
         null
        ],
        [
         "29",
         "hsa00120",
         "Bile acids are steroid carboxylic acids derived from cholesterol in vertebrates. The primary bile acids, cholic acid and chenodeoxycholic acid, are synthesized in the liver and conjugated with taurine or glycine before secretion via bile into the intestine. The conversion from cholesterol to cholic and chenodeoxycholic acids involves four steps: 1) the initiation of synthesis by 7alpha-hydroxylation of sterol precursors, 2) further modifications to the ring structures, 3) side-chain oxidation and shortening (cleavage) by three carbons, and 4) conjugation of the bile acid with taurine or glycine."
        ],
        [
         "30",
         "hsa00140",
         "Steroid hormones derived from cholesterol are a class of biologically active compounds in vertebrates. The cholesterol side-chain cleavage enzyme CYP11A1 catalyzes conversion of cholesterol, a C27 compound, to the first C21 steroid, pregnenolone, which is converted by a bifunctional enzyme complex to the gestagen hormone, progesterone [MD:M00107]. Pregnenolone and progesterone are the starting materials for the three groups of steroids: C21 steroids of glucocorticoids and mineralocorticoids, C19 steroids of androgens, and C18 steroids of estrogens. (i) Progesterone is converted by hydroxylations at carbons 21 and 11 to corticosterone, which is further modified by hydroxylation and oxydoreduction at carbon 18 to yield aldosterone, a mineralcorticoid [MD:M00108]. Cortisol, the main glucocorticoid, is formed from 17alpha-hydroxyprogesterone with 11-deoxycortisol as an intermediate [MD:M00109]. (ii) Male hormone testosterone is formed from pregnenolone by two pathways, delta5 pathway via dehydroepiandrosterone and delta4 pathway via androstenedione [MD:M00110]. The enzyme CYP17A1 is responsible for the 17,20 lyase and 17alpha-hydroxylase activities in respective pathways. (iii) Female hormones estrone and estradiol are formed from testosterone and 4-androstene-3,17-dione by oxidative removal of the C19 methyl group and subsequent aromatization of ring A. In addition to these three groups, recent studies show that there is another group, termed neurosteroids, synthesized in the brain rather than the peripheral endocrine gland."
        ],
        [
         "31",
         "hsa00561",
         null
        ],
        [
         "32",
         "hsa00564",
         null
        ],
        [
         "33",
         "hsa00565",
         null
        ],
        [
         "34",
         "hsa00600",
         null
        ],
        [
         "35",
         "hsa00590",
         null
        ],
        [
         "36",
         "hsa00591",
         null
        ],
        [
         "37",
         "hsa00592",
         null
        ],
        [
         "38",
         "hsa01040",
         null
        ],
        [
         "39",
         "hsa00230",
         null
        ],
        [
         "40",
         "hsa00240",
         null
        ],
        [
         "41",
         "hsa00250",
         null
        ],
        [
         "42",
         "hsa00260",
         "Serine is derived from 3-phospho-D-glycerate, an intermediate of glycolysis [MD:M00020], and glycine is derived from serine. Threonine is an essential amino acid, which animals cannot synthesize. In bacteria and plants, threonine is derived from aspartate [MD:M00018]."
        ],
        [
         "43",
         "hsa00270",
         "Cysteine and methionine are sulfur-containing amino acids. Cysteine is synthesized from serine through different pathways in different organism groups. In bacteria and plants, cysteine is converted from serine (via acetylserine) by transfer of hydrogen sulfide [MD:M00021]. In animals, methionine-derived homocysteine is used as sulfur source and its condensation product with serine (cystathionine) is converted to cysteine [MD:M00338]. Cysteine is metabolized to pyruvate in multiple routes. Methionine is an essential amino acid, which animals cannot synthesize. In bacteria and plants, methionine is synthesized from aspartate [MD:M00017]. S-Adenosylmethionine (SAM), synthesized from methionine and ATP, is a methyl group donor in many important transfer reactions including DNA methylation for regulation of gene expression. SAM may also be used to regenerate methionine in the methionine salvage pathway [MD:M00034]."
        ],
        [
         "44",
         "hsa00280",
         null
        ],
        [
         "45",
         "hsa00290",
         null
        ],
        [
         "46",
         "hsa00310",
         null
        ],
        [
         "47",
         "hsa00220",
         null
        ],
        [
         "48",
         "hsa00330",
         null
        ],
        [
         "49",
         "hsa00340",
         null
        ]
       ],
       "shape": {
        "columns": 2,
        "rows": 365
       }
      },
      "text/html": [
       "<div>\n",
       "<style scoped>\n",
       "    .dataframe tbody tr th:only-of-type {\n",
       "        vertical-align: middle;\n",
       "    }\n",
       "\n",
       "    .dataframe tbody tr th {\n",
       "        vertical-align: top;\n",
       "    }\n",
       "\n",
       "    .dataframe thead th {\n",
       "        text-align: right;\n",
       "    }\n",
       "</style>\n",
       "<table border=\"1\" class=\"dataframe\">\n",
       "  <thead>\n",
       "    <tr style=\"text-align: right;\">\n",
       "      <th></th>\n",
       "      <th>ENTRY</th>\n",
       "      <th>DESCRIPTION</th>\n",
       "    </tr>\n",
       "  </thead>\n",
       "  <tbody>\n",
       "    <tr>\n",
       "      <th>0</th>\n",
       "      <td>hsa01100</td>\n",
       "      <td>NaN</td>\n",
       "    </tr>\n",
       "    <tr>\n",
       "      <th>1</th>\n",
       "      <td>hsa01200</td>\n",
       "      <td>Carbon metabolism is the most basic aspect of ...</td>\n",
       "    </tr>\n",
       "    <tr>\n",
       "      <th>2</th>\n",
       "      <td>hsa01210</td>\n",
       "      <td>2-Oxocarboxylic acids, also called 2-oxo acids...</td>\n",
       "    </tr>\n",
       "    <tr>\n",
       "      <th>3</th>\n",
       "      <td>hsa01212</td>\n",
       "      <td>NaN</td>\n",
       "    </tr>\n",
       "    <tr>\n",
       "      <th>4</th>\n",
       "      <td>hsa01230</td>\n",
       "      <td>This map presents a modular architecture of th...</td>\n",
       "    </tr>\n",
       "    <tr>\n",
       "      <th>...</th>\n",
       "      <td>...</td>\n",
       "      <td>...</td>\n",
       "    </tr>\n",
       "    <tr>\n",
       "      <th>360</th>\n",
       "      <td>hsa04934</td>\n",
       "      <td>Cushing syndrome (CS) is a rare disorder resul...</td>\n",
       "    </tr>\n",
       "    <tr>\n",
       "      <th>361</th>\n",
       "      <td>hsa01521</td>\n",
       "      <td>EGFR is a tyrosine kinase that participates in...</td>\n",
       "    </tr>\n",
       "    <tr>\n",
       "      <th>362</th>\n",
       "      <td>hsa01524</td>\n",
       "      <td>Platinum-based drugs cisplatin, carboplatin an...</td>\n",
       "    </tr>\n",
       "    <tr>\n",
       "      <th>363</th>\n",
       "      <td>hsa01523</td>\n",
       "      <td>Since the 1940s, antifolates have played a piv...</td>\n",
       "    </tr>\n",
       "    <tr>\n",
       "      <th>364</th>\n",
       "      <td>hsa01522</td>\n",
       "      <td>Endocrine therapy is a key treatment strategy ...</td>\n",
       "    </tr>\n",
       "  </tbody>\n",
       "</table>\n",
       "<p>365 rows × 2 columns</p>\n",
       "</div>"
      ],
      "text/plain": [
       "        ENTRY                                        DESCRIPTION\n",
       "0    hsa01100                                                NaN\n",
       "1    hsa01200  Carbon metabolism is the most basic aspect of ...\n",
       "2    hsa01210  2-Oxocarboxylic acids, also called 2-oxo acids...\n",
       "3    hsa01212                                                NaN\n",
       "4    hsa01230  This map presents a modular architecture of th...\n",
       "..        ...                                                ...\n",
       "360  hsa04934  Cushing syndrome (CS) is a rare disorder resul...\n",
       "361  hsa01521  EGFR is a tyrosine kinase that participates in...\n",
       "362  hsa01524  Platinum-based drugs cisplatin, carboplatin an...\n",
       "363  hsa01523  Since the 1940s, antifolates have played a piv...\n",
       "364  hsa01522  Endocrine therapy is a key treatment strategy ...\n",
       "\n",
       "[365 rows x 2 columns]"
      ]
     },
     "execution_count": 5,
     "metadata": {},
     "output_type": "execute_result"
    }
   ],
   "source": [
    "kegg_def = pd.read_csv('full_kegg_pathways.csv')\n",
    "kegg_def = kegg_def[['ENTRY', 'DESCRIPTION']]\n",
    "kegg_def['ENTRY'] = kegg_def['ENTRY'].str.split(' ').str[0]\n",
    "kegg_def"
   ]
  },
  {
   "cell_type": "code",
   "execution_count": 6,
   "metadata": {},
   "outputs": [
    {
     "data": {
      "application/vnd.microsoft.datawrangler.viewer.v0+json": {
       "columns": [
        {
         "name": "index",
         "rawType": "int64",
         "type": "integer"
        },
        {
         "name": "BioMedGraphica_ID",
         "rawType": "object",
         "type": "string"
        },
        {
         "name": "KEGG",
         "rawType": "object",
         "type": "unknown"
        }
       ],
       "conversionMethod": "pd.DataFrame",
       "ref": "3f43aaef-3883-4aa5-b3e3-4112410d8745",
       "rows": [
        [
         "0",
         "BMG_PW0001",
         null
        ],
        [
         "1",
         "BMG_PW0002",
         null
        ],
        [
         "2",
         "BMG_PW0003",
         null
        ],
        [
         "3",
         "BMG_PW0004",
         null
        ],
        [
         "4",
         "BMG_PW0005",
         "Carbon metabolism is the most basic aspect of life. This map presents an overall view of central carbon metabolism, where the number of carbons is shown for each compound denoted by a circle, excluding a cofactor (CoA, CoM, THF, or THMPT) that is replaced by an asterisk. The map contains carbon utilization pathways of glycolysis (map00010), pentose phosphate pathway (map00030), and citrate cycle (map00020), and six known carbon fixation pathways (map00710 and map00720) as well as some pathways of methane metabolism (map00680). The six carbon fixation pathways are: (1) reductive pentose phosphate cycle (Calvin cycle) in plants and cyanobacteria that perform oxygenic photosynthesis, (2) reductive citrate cycle in photosynthetic green sulfur bacteria and some chemolithoautotrophs, (3) 3-hydroxypropionate bi-cycle in photosynthetic green nonsulfur bacteria, two variants of 4-hydroxybutyrate pathways in Crenarchaeota called (4) hydroxypropionate-hydroxybutyrate cycle and (5) dicarboxylate-hydroxybutyrate cycle, and (6) reductive acetyl-CoA pathway in methanogenic bacteria."
        ],
        [
         "5",
         "BMG_PW0006",
         null
        ],
        [
         "6",
         "BMG_PW0007",
         "The mitogen-activated protein kinase (MAPK) cascade is a highly conserved module that is involved in various cellular functions, including cell proliferation, differentiation and migration. Mammals express at least four distinctly regulated groups of MAPKs, extracellular signal-related kinases (ERK)-1/2, Jun amino-terminal kinases (JNK1/2/3), p38 proteins (p38alpha/beta/gamma/delta) and ERK5, that are activated by specific MAPKKs: MEK1/2 for ERK1/2, MKK3/6 for the p38, MKK4/7 (JNKK1/2) for the JNKs, and MEK5 for ERK5. Each MAPKK, however, can be activated by more than one MAPKKK, increasing the complexity and diversity of MAPK signalling. Presumably each MAPKKK confers responsiveness to distinct stimuli. For example, activation of ERK1/2 by growth factors depends on the MAPKKK c-Raf, but other MAPKKKs may activate ERK1/2 in response to pro-inflammatory stimuli."
        ],
        [
         "7",
         "BMG_PW0008",
         "Wnt proteins are secreted morphogens that are required for basic developmental processes, such as cell-fate specification, progenitor-cell proliferation and the control of asymmetric cell division, in many different species and organs. There are at least three different Wnt pathways: the canonical pathway, the planar cell polarity (PCP) pathway and the Wnt/Ca2+ pathway. In the canonical Wnt pathway, the major effect of Wnt ligand binding to its receptor is the stabilization of cytoplasmic beta-catenin through inhibition of the bea-catenin degradation complex. Beta-catenin is then free to enter the nucleus and activate Wnt-regulated genes through its interaction with TCF (T-cell factor) family transcription factors and concomitant recruitment of coactivators. Planar cell polarity (PCP) signaling leads to the activation of the small GTPases RHOA (RAS homologue gene-family member A) and RAC1, which activate the stress kinase JNK (Jun N-terminal kinase) and ROCK (RHO-associated coiled-coil-containing protein kinase 1) and leads to remodelling of the cytoskeleton and changes in cell adhesion and motility. WNT-Ca2+ signalling is mediated through G proteins and phospholipases and leads to transient increases in cytoplasmic free calcium that subsequently activate the kinase PKC (protein kinase C) and CAMKII (calcium calmodulin mediated kinase II) and the phosphatase calcineurin."
        ],
        [
         "8",
         "BMG_PW0009",
         "Apoptosis is a genetically programmed process for the elimination of damaged or redundant cells by activation of caspases (aspartate-specific cysteine proteases). The onset of apoptosis is controlled by numerous interrelating processes. The 'extrinsic' pathway involves stimulation of members of the tumor necrosis factor (TNF) receptor subfamily, such as TNFRI, CD95/Fas or TRAILR (death receptors), located at the cell surface, by their specific ligands, such as TNF-alpha, FasL or TRAIL, respectively. The 'intrinsic' pathway is activated mainly by non-receptor stimuli, such as DNA damage, ER stress, metabolic stress, UV radiation or growth-factor deprivation. The central event in the 'intrinsic' pathway is the mitochondrial outer membrane permeabilization (MOMP), which leads to the release of cytochrome c. These two pathways converge at the level of effector caspases, such as caspase-3 and caspase-7. The third major pathway is initiated by the constituents of cytotoxic granules (e.g. Perforin and Granzyme B) that are released by CTLs (cytotoxic T-cells) and NK (natural killer) cells. Granzyme B, similarly to the caspases, cleaves its substrates after aspartic acid residues, suggesting that this protease has the ability to activate members of the caspase family directly. It is the balance between the pro-apoptotic and anti-apoptotic signals that eventually determines whether cells will undergo apoptosis, survive or proliferate. TNF family of ligands activates anti-apoptotic or cell-survival signals as well as apoptotic signals. NGF and Interleukin-3 promotes the survival, proliferation and differentiation of neurons or hematopoietic cells, respectively. Withdrawal of these growth factors leads to cell death, as described above."
        ],
        [
         "9",
         "BMG_PW0010",
         null
        ],
        [
         "10",
         "BMG_PW0011",
         null
        ],
        [
         "11",
         "BMG_PW0012",
         null
        ],
        [
         "12",
         "BMG_PW0013",
         null
        ],
        [
         "13",
         "BMG_PW0014",
         null
        ],
        [
         "14",
         "BMG_PW0015",
         "Alzheimer disease (AD) is a chronic disorder that slowly destroys neurons and causes serious cognitive disability. AD is associated with senile plaques and neurofibrillary tangles (NFTs). Amyloid-beta (Abeta), a major component of senile plaques, has various pathological effects on cell and organelle function. To date genetic studies have revealed four genes that may be linked to autosomal dominant or familial early onset AD (FAD). These four genes include: amyloid precursor protein (APP), presenilin 1 (PS1), presenilin 2 (PS2) and apolipoprotein E (ApoE). All mutations associated with APP and PS proteins can lead to an increase in the production of Abeta peptides, specfically the more amyloidogenic form, Abeta42. It was proposed that Abeta form Ca2+ permeable pores and bind to and modulate multiple synaptic proteins, including NMDAR, mGluR5 and VGCC, leading to the overfilling of neurons with calcium ions. Consequently, cellular Ca2+ disruptions will lead to neuronal apoptosis, autophagy deficits, mitochondrial abnormality, defective neurotransmission, impaired synaptic plasticity and neurodegeneration in AD. FAD-linked PS1 mutation downregulates the unfolded protein response and leads to vulnerability to ER stress."
        ],
        [
         "15",
         "BMG_PW0016",
         "Amyotrophic lateral sclerosis (ALS) is a neurodegenerative disorder characterized by a progressive degeneration of motor neurons in the brain and spinal cord. In 90% of patients, ALS is sporadic, with no clear genetic linkage. On the other hand, the remaining 10% of cases show familial inheritance, with mutations in SOD1, TDP43(TARDBP), FUS, or C9orf72 genes being the most frequent causes. In spite of such difference, familial ALS and sporadic ALS have similarities in their pathological features. Proposed disease mechanisms contributing to motor neuron degeneration in ALS are: impaired proteostasis, aberrant RNA processing, mitochondrial disfunction and oxidative stress, microglia activation, and axonal dysfunction."
        ],
        [
         "16",
         "BMG_PW0017",
         null
        ],
        [
         "17",
         "BMG_PW0018",
         "Parkinson disease (PD) is a progressive neurodegenerative movement disorder that results primarily from the death of dopaminergic (DA) neurons in the substantia nigra pars compacta (SNc). Both environmental factors and mutations in familial PD-linked genes such as SNCA, Parkin, DJ-1, PINK1 and LRRK2 are associated with PD pathogenesis. These pathogenic mutations and environmental factors are known to cause disease due to oxidative stress, intracellular Ca2+ homeostasis impairment, mitochondrial dysfunctions and altered protein handling compromising key roles of DA neuronal function and survival. The demise of DA neurons located in the SNc leads to a drop in the dopaminergic input to the striatum, which is hypothesized to impede movement by inducing hypo and hyper activity in striatal spiny projection neurons (SPNs) of the direct (dSPNs) and indirect (iSPNs) pathways in the basal ganglia, respectively."
        ],
        [
         "18",
         "BMG_PW0019",
         "Prion diseases, also termed transmissible spongiform encephalopathies (TSEs), are a group of fatal neurodegenerative diseases that affect humans and a number of other animal species. The etiology of these diseases is thought to be associated with the conversion of a normal protein, PrPC, into an infectious, pathogenic form, PrPSc. The conversion is induced by prion infections (for example, variant Creutzfeldt-Jakob disease (vCJD), iatrogenic CJD, Kuru), mutations (familial CJD, Gerstmann-Straussler-Scheinker syndrome, fatal familial insomnia (FFI)) or unknown factors (sporadic CJD (sCJD)), and is thought to occur after PrPC has reached the plasma membrane or is re-internalized for degradation. The PrPSc form shows greater protease resistance than PrPC and accumulates in affected individuals, often in the form of extracellular plaques. Pathways that may lead to neuronal death comprise oxidative stress, regulated activation of complement, ubiquitin-proteasome and endosomal-lysosomal systems, synaptic alterations and dendritic atrophy, corticosteroid response, and endoplasmic reticulum stress. In addition, the conformational transition could lead to the lost of a beneficial activity of the natively folded protein, PrPC."
        ],
        [
         "19",
         "BMG_PW0020",
         null
        ],
        [
         "20",
         "BMG_PW0021",
         null
        ],
        [
         "21",
         "BMG_PW0022",
         null
        ],
        [
         "22",
         "BMG_PW0023",
         null
        ],
        [
         "23",
         "BMG_PW0024",
         null
        ],
        [
         "24",
         "BMG_PW0025",
         "Glycolysis is the process of converting glucose into pyruvate and generating small amounts of ATP (energy) and NADH (reducing power). It is a central pathway that produces important precursor metabolites: six-carbon compounds of glucose-6P and fructose-6P and three-carbon compounds of glycerone-P, glyceraldehyde-3P, glycerate-3P, phosphoenolpyruvate, and pyruvate [MD:M00001]. Acetyl-CoA, another important precursor metabolite, is produced by oxidative decarboxylation of pyruvate [MD:M00307]. When the enzyme genes of this pathway are examined in completely sequenced genomes, the reaction steps of three-carbon compounds from glycerone-P to pyruvate form a conserved core module [MD:M00002], which is found in almost all organisms and which sometimes contains operon structures in bacterial genomes. Gluconeogenesis is a synthesis pathway of glucose from noncarbohydrate precursors. It is essentially a reversal of glycolysis with minor variations of alternative paths [MD:M00003]."
        ],
        [
         "25",
         "BMG_PW0026",
         "The citrate cycle (TCA cycle, Krebs cycle) is an important aerobic pathway for the final steps of the oxidation of carbohydrates and fatty acids. The cycle starts with acetyl-CoA, the activated form of acetate, derived from glycolysis and pyruvate oxidation for carbohydrates and from beta oxidation of fatty acids. The two-carbon acetyl group in acetyl-CoA is transferred to the four-carbon compound of oxaloacetate to form the six-carbon compound of citrate. In a series of reactions two carbons in citrate are oxidized to CO2 and the reaction pathway supplies NADH for use in the oxidative phosphorylation and other metabolic processes. The pathway also supplies important precursor metabolites including 2-oxoglutarate. At the end of the cycle the remaining four-carbon part is transformed back to oxaloacetate. According to the genome sequence data, many organisms seem to lack genes for the full cycle [MD:M00009], but contain genes for specific segments [MD:M00010 M00011]."
        ],
        [
         "26",
         "BMG_PW0027",
         null
        ],
        [
         "27",
         "BMG_PW0028",
         null
        ],
        [
         "28",
         "BMG_PW0029",
         null
        ],
        [
         "29",
         "BMG_PW0030",
         null
        ],
        [
         "30",
         "BMG_PW0031",
         null
        ],
        [
         "31",
         "BMG_PW0032",
         null
        ],
        [
         "32",
         "BMG_PW0033",
         null
        ],
        [
         "33",
         "BMG_PW0034",
         null
        ],
        [
         "34",
         "BMG_PW0035",
         "The biological process of the nitrogen cycle is a complex interplay among different microorganisms catalyzing different reactions, where nitrogen is found in various oxidation states ranging from +5 in nitrate to -3 in ammonia. The core nitrogen cycle involves four reduction pathways and two oxidation pathways. Nitrogen fixation [MD:M00175] is the process of reducing atmospheric molecular nitrogen to ammonia, a biologically useful reduced form incorporated into amino acids and other vital compounds. The ability of fixing atmospheric nitrogen by the nitrogenase enzyme complex is present in restricted prokaryotes (diazotrophs). The other reduction pathways are assimilatory nitrate reduction [MD:M00531] and dissimilatory nitrate reduction [MD:M00530] both for conversion to ammonia, and denitrification [MD:M00529]. Denitrification is a respiration in which nitrate or nitrite is reduced as a terminal electron acceptor under low oxygen or anoxic conditions, producing gaseous nitrogen compounds (N2, NO and N2O) to the atmosphere. The two oxidation pathways are nitrification [MD:M00528] and anaerobic ammonium oxidation (anammox) [MD:M00973]. Nitrification is the oxidation of ammonia (NH3) with oxygen into nitrite followed by the oxidation of nitrite into nitrate. The first step is performed by ammonia-oxidizing microorganisms (e.g., Nitrosomonas and Nitrosococcus) and the second step by nitrite-oxidizing microorganisms (e.g., Nitrobacter). Anammox is a biochemical process of oxidizing ammonium (NH4+) into dinitrogen gas (N2) using nitrite as an electron acceptor. It occurs in the anammoxosome, a membrane bound compartment inside the cytoplasm, of anammox bacteria (e.g., Planctomycetes)."
        ],
        [
         "35",
         "BMG_PW0036",
         null
        ],
        [
         "36",
         "BMG_PW0037",
         null
        ],
        [
         "37",
         "BMG_PW0038",
         "Bile acids are steroid carboxylic acids derived from cholesterol in vertebrates. The primary bile acids, cholic acid and chenodeoxycholic acid, are synthesized in the liver and conjugated with taurine or glycine before secretion via bile into the intestine. The conversion from cholesterol to cholic and chenodeoxycholic acids involves four steps: 1) the initiation of synthesis by 7alpha-hydroxylation of sterol precursors, 2) further modifications to the ring structures, 3) side-chain oxidation and shortening (cleavage) by three carbons, and 4) conjugation of the bile acid with taurine or glycine."
        ],
        [
         "38",
         "BMG_PW0039",
         null
        ],
        [
         "39",
         "BMG_PW0040",
         null
        ],
        [
         "40",
         "BMG_PW0041",
         null
        ],
        [
         "41",
         "BMG_PW0042",
         null
        ],
        [
         "42",
         "BMG_PW0043",
         null
        ],
        [
         "43",
         "BMG_PW0044",
         "The pentose phosphate pathway is a process of glucose turnover that produces NADPH as reducing equivalents and pentoses as essential parts of nucleotides. There are two different phases in the pathway. One is irreversible oxidative phase in which glucose-6P is converted to ribulose-5P by oxidative decarboxylation, and NADPH is generated [MD:M00006]. The other is reversible non-oxidative phase in which phosphorylated sugars are interconverted to generate xylulose-5P, ribulose-5P, and ribose-5P [MD:M00007]. Phosphoribosyl pyrophosphate (PRPP) formed from ribose-5P [MD:M00005] is an activated compound used in the biosynthesis of histidine and purine/pyrimidine nucleotides. This pathway map also shows the Entner-Doudoroff pathway where 6-P-gluconate is dehydrated and then cleaved into pyruvate and glyceraldehyde-3P [MD:M00008]."
        ],
        [
         "44",
         "BMG_PW0045",
         null
        ],
        [
         "45",
         "BMG_PW0046",
         null
        ],
        [
         "46",
         "BMG_PW0047",
         null
        ],
        [
         "47",
         "BMG_PW0048",
         null
        ],
        [
         "48",
         "BMG_PW0049",
         null
        ],
        [
         "49",
         "BMG_PW0050",
         null
        ]
       ],
       "shape": {
        "columns": 2,
        "rows": 6793
       }
      },
      "text/html": [
       "<div>\n",
       "<style scoped>\n",
       "    .dataframe tbody tr th:only-of-type {\n",
       "        vertical-align: middle;\n",
       "    }\n",
       "\n",
       "    .dataframe tbody tr th {\n",
       "        vertical-align: top;\n",
       "    }\n",
       "\n",
       "    .dataframe thead th {\n",
       "        text-align: right;\n",
       "    }\n",
       "</style>\n",
       "<table border=\"1\" class=\"dataframe\">\n",
       "  <thead>\n",
       "    <tr style=\"text-align: right;\">\n",
       "      <th></th>\n",
       "      <th>BioMedGraphica_ID</th>\n",
       "      <th>KEGG</th>\n",
       "    </tr>\n",
       "  </thead>\n",
       "  <tbody>\n",
       "    <tr>\n",
       "      <th>0</th>\n",
       "      <td>BMG_PW0001</td>\n",
       "      <td>NaN</td>\n",
       "    </tr>\n",
       "    <tr>\n",
       "      <th>1</th>\n",
       "      <td>BMG_PW0002</td>\n",
       "      <td>NaN</td>\n",
       "    </tr>\n",
       "    <tr>\n",
       "      <th>2</th>\n",
       "      <td>BMG_PW0003</td>\n",
       "      <td>NaN</td>\n",
       "    </tr>\n",
       "    <tr>\n",
       "      <th>3</th>\n",
       "      <td>BMG_PW0004</td>\n",
       "      <td>NaN</td>\n",
       "    </tr>\n",
       "    <tr>\n",
       "      <th>4</th>\n",
       "      <td>BMG_PW0005</td>\n",
       "      <td>Carbon metabolism is the most basic aspect of ...</td>\n",
       "    </tr>\n",
       "    <tr>\n",
       "      <th>...</th>\n",
       "      <td>...</td>\n",
       "      <td>...</td>\n",
       "    </tr>\n",
       "    <tr>\n",
       "      <th>6788</th>\n",
       "      <td>BMG_PW6789</td>\n",
       "      <td>Graft-versus-host disease (GVHD) is a lethal c...</td>\n",
       "    </tr>\n",
       "    <tr>\n",
       "      <th>6789</th>\n",
       "      <td>BMG_PW6790</td>\n",
       "      <td>Primary immunodeficiencies (PIs) are a heterog...</td>\n",
       "    </tr>\n",
       "    <tr>\n",
       "      <th>6790</th>\n",
       "      <td>BMG_PW6791</td>\n",
       "      <td>Diabetic cardiomyopathy has been defined as le...</td>\n",
       "    </tr>\n",
       "    <tr>\n",
       "      <th>6791</th>\n",
       "      <td>BMG_PW6792</td>\n",
       "      <td>Atherosclerosis is a chronic inflammatory dise...</td>\n",
       "    </tr>\n",
       "    <tr>\n",
       "      <th>6792</th>\n",
       "      <td>BMG_PW6793</td>\n",
       "      <td>Shear stress represents the frictional force t...</td>\n",
       "    </tr>\n",
       "  </tbody>\n",
       "</table>\n",
       "<p>6793 rows × 2 columns</p>\n",
       "</div>"
      ],
      "text/plain": [
       "     BioMedGraphica_ID                                               KEGG\n",
       "0           BMG_PW0001                                                NaN\n",
       "1           BMG_PW0002                                                NaN\n",
       "2           BMG_PW0003                                                NaN\n",
       "3           BMG_PW0004                                                NaN\n",
       "4           BMG_PW0005  Carbon metabolism is the most basic aspect of ...\n",
       "...                ...                                                ...\n",
       "6788        BMG_PW6789  Graft-versus-host disease (GVHD) is a lethal c...\n",
       "6789        BMG_PW6790  Primary immunodeficiencies (PIs) are a heterog...\n",
       "6790        BMG_PW6791  Diabetic cardiomyopathy has been defined as le...\n",
       "6791        BMG_PW6792  Atherosclerosis is a chronic inflammatory dise...\n",
       "6792        BMG_PW6793  Shear stress represents the frictional force t...\n",
       "\n",
       "[6793 rows x 2 columns]"
      ]
     },
     "execution_count": 6,
     "metadata": {},
     "output_type": "execute_result"
    }
   ],
   "source": [
    "bmg_kegg = biomedgraphica_pathway[['BioMedGraphica_ID','KEGG_ID']]\n",
    "pathway_description_kegg = pd.merge(bmg_kegg, kegg_def, left_on='KEGG_ID', right_on='ENTRY', how='left')\n",
    "pathway_description_kegg.drop(columns=['ENTRY', 'KEGG_ID'], inplace=True)\n",
    "pathway_description_kegg.rename(columns={'DESCRIPTION':'KEGG'}, inplace=True)\n",
    "pathway_description_kegg"
   ]
  },
  {
   "cell_type": "markdown",
   "metadata": {},
   "source": [
    "### 5.3 From Reactome"
   ]
  },
  {
   "cell_type": "code",
   "execution_count": 43,
   "metadata": {},
   "outputs": [
    {
     "data": {
      "application/vnd.microsoft.datawrangler.viewer.v0+json": {
       "columns": [
        {
         "name": "index",
         "rawType": "int64",
         "type": "integer"
        },
        {
         "name": "Reactome_ID",
         "rawType": "object",
         "type": "string"
        }
       ],
       "conversionMethod": "pd.DataFrame",
       "ref": "2bdfa3be-d7f0-4b03-8c31-4dca237a7fff",
       "rows": [
        [
         "0",
         "R-HSA-1430728"
        ],
        [
         "1",
         "R-HSA-162582"
        ],
        [
         "2",
         "R-HSA-71387"
        ],
        [
         "3",
         "R-HSA-5683057"
        ],
        [
         "4",
         "R-HSA-195721"
        ],
        [
         "5",
         "R-HSA-109581"
        ],
        [
         "6",
         "R-HSA-556833"
        ],
        [
         "7",
         "R-HSA-15869"
        ],
        [
         "8",
         "R-HSA-1643685"
        ],
        [
         "9",
         "R-HSA-8863678"
        ],
        [
         "10",
         "R-HSA-168256"
        ],
        [
         "11",
         "R-HSA-71403"
        ],
        [
         "12",
         "R-HSA-611105"
        ],
        [
         "13",
         "R-HSA-70268"
        ],
        [
         "14",
         "R-HSA-71336"
        ],
        [
         "15",
         "R-HSA-8964208"
        ],
        [
         "16",
         "R-HSA-8978868"
        ],
        [
         "17",
         "R-HSA-112316"
        ],
        [
         "18",
         "R-HSA-9620244"
        ],
        [
         "19",
         "R-HSA-74182"
        ],
        [
         "20",
         "R-HSA-70895"
        ],
        [
         "21",
         "R-HSA-71064"
        ],
        [
         "22",
         "R-HSA-70635"
        ],
        [
         "23",
         "R-HSA-8964540"
        ],
        [
         "24",
         "R-HSA-69278"
        ],
        [
         "25",
         "R-HSA-69236"
        ],
        [
         "26",
         "R-HSA-69206"
        ],
        [
         "27",
         "R-HSA-69242"
        ],
        [
         "28",
         "R-HSA-68911"
        ],
        [
         "29",
         "R-HSA-69275"
        ],
        [
         "30",
         "R-HSA-68886"
        ],
        [
         "31",
         "R-HSA-68874"
        ],
        [
         "32",
         "R-HSA-69620"
        ],
        [
         "33",
         "R-HSA-69615"
        ],
        [
         "34",
         "R-HSA-69481"
        ],
        [
         "35",
         "R-HSA-69618"
        ],
        [
         "36",
         "R-HSA-73894"
        ],
        [
         "37",
         "R-HSA-212436"
        ],
        [
         "38",
         "R-HSA-72766"
        ],
        [
         "39",
         "R-HSA-109606"
        ],
        [
         "40",
         "R-HSA-5357769"
        ],
        [
         "41",
         "R-HSA-211981"
        ],
        [
         "42",
         "R-HSA-5358351"
        ],
        [
         "43",
         "R-HSA-372790"
        ],
        [
         "44",
         "R-HSA-73864"
        ],
        [
         "45",
         "R-HSA-73857"
        ],
        [
         "46",
         "R-HSA-74158"
        ],
        [
         "47",
         "R-HSA-73884"
        ],
        [
         "48",
         "R-HSA-5696398"
        ],
        [
         "49",
         "R-HSA-2408522"
        ]
       ],
       "shape": {
        "columns": 1,
        "rows": 2762
       }
      },
      "text/html": [
       "<div>\n",
       "<style scoped>\n",
       "    .dataframe tbody tr th:only-of-type {\n",
       "        vertical-align: middle;\n",
       "    }\n",
       "\n",
       "    .dataframe tbody tr th {\n",
       "        vertical-align: top;\n",
       "    }\n",
       "\n",
       "    .dataframe thead th {\n",
       "        text-align: right;\n",
       "    }\n",
       "</style>\n",
       "<table border=\"1\" class=\"dataframe\">\n",
       "  <thead>\n",
       "    <tr style=\"text-align: right;\">\n",
       "      <th></th>\n",
       "      <th>Reactome_ID</th>\n",
       "    </tr>\n",
       "  </thead>\n",
       "  <tbody>\n",
       "    <tr>\n",
       "      <th>0</th>\n",
       "      <td>R-HSA-1430728</td>\n",
       "    </tr>\n",
       "    <tr>\n",
       "      <th>1</th>\n",
       "      <td>R-HSA-162582</td>\n",
       "    </tr>\n",
       "    <tr>\n",
       "      <th>2</th>\n",
       "      <td>R-HSA-71387</td>\n",
       "    </tr>\n",
       "    <tr>\n",
       "      <th>3</th>\n",
       "      <td>R-HSA-5683057</td>\n",
       "    </tr>\n",
       "    <tr>\n",
       "      <th>4</th>\n",
       "      <td>R-HSA-195721</td>\n",
       "    </tr>\n",
       "    <tr>\n",
       "      <th>...</th>\n",
       "      <td>...</td>\n",
       "    </tr>\n",
       "    <tr>\n",
       "      <th>2757</th>\n",
       "      <td>R-HSA-9925561</td>\n",
       "    </tr>\n",
       "    <tr>\n",
       "      <th>2758</th>\n",
       "      <td>R-HSA-9926550</td>\n",
       "    </tr>\n",
       "    <tr>\n",
       "      <th>2759</th>\n",
       "      <td>R-HSA-9927353</td>\n",
       "    </tr>\n",
       "    <tr>\n",
       "      <th>2760</th>\n",
       "      <td>R-HSA-9927354</td>\n",
       "    </tr>\n",
       "    <tr>\n",
       "      <th>2761</th>\n",
       "      <td>R-HSA-997272</td>\n",
       "    </tr>\n",
       "  </tbody>\n",
       "</table>\n",
       "<p>2762 rows × 1 columns</p>\n",
       "</div>"
      ],
      "text/plain": [
       "        Reactome_ID\n",
       "0     R-HSA-1430728\n",
       "1      R-HSA-162582\n",
       "2       R-HSA-71387\n",
       "3     R-HSA-5683057\n",
       "4      R-HSA-195721\n",
       "...             ...\n",
       "2757  R-HSA-9925561\n",
       "2758  R-HSA-9926550\n",
       "2759  R-HSA-9927353\n",
       "2760  R-HSA-9927354\n",
       "2761   R-HSA-997272\n",
       "\n",
       "[2762 rows x 1 columns]"
      ]
     },
     "execution_count": 43,
     "metadata": {},
     "output_type": "execute_result"
    }
   ],
   "source": [
    "reactome = biomedgraphica_pathway['Reactome_ID'].dropna().unique()\n",
    "reactome = pd.DataFrame(reactome, columns=['Reactome_ID'])\n",
    "reactome"
   ]
  },
  {
   "cell_type": "code",
   "execution_count": 11,
   "metadata": {},
   "outputs": [
    {
     "name": "stdout",
     "output_type": "stream",
     "text": [
      "Fetching Summations...\n"
     ]
    },
    {
     "name": "stderr",
     "output_type": "stream",
     "text": [
      "Progress: 100%|██████████| 2762/2762 [06:48<00:00,  6.75pathway/s]"
     ]
    },
    {
     "name": "stdout",
     "output_type": "stream",
     "text": [
      "Results saved to 'reactome_def.csv'\n"
     ]
    },
    {
     "name": "stderr",
     "output_type": "stream",
     "text": [
      "\n"
     ]
    }
   ],
   "source": [
    "import requests\n",
    "import pandas as pd\n",
    "from tqdm import tqdm\n",
    "\n",
    "def get_pathway_summation(pathway_id):\n",
    "    url = f\"https://reactome.org/ContentService/data/query/{pathway_id}/Summation\"\n",
    "    try:\n",
    "        response = requests.get(url)\n",
    "        response.raise_for_status()\n",
    "        return response.text.strip()\n",
    "    except Exception as e:\n",
    "        return f\"Error: {e}\"\n",
    "\n",
    "summations = []\n",
    "print(\"Fetching Summations...\")\n",
    "for pathway_id in tqdm(reactome[\"Reactome_ID\"], desc=\"Progress\", unit=\"pathway\"):\n",
    "    summation = get_pathway_summation(pathway_id)\n",
    "    summations.append(summation)\n",
    "\n",
    "reactome[\"Summation\"] = summations\n",
    "\n",
    "output_file = \"reactome_def.csv\"\n",
    "reactome.to_csv(output_file, index=False)\n",
    "print(f\"Results saved to '{output_file}'\")"
   ]
  },
  {
   "cell_type": "code",
   "execution_count": 7,
   "metadata": {},
   "outputs": [
    {
     "data": {
      "application/vnd.microsoft.datawrangler.viewer.v0+json": {
       "columns": [
        {
         "name": "index",
         "rawType": "int64",
         "type": "integer"
        },
        {
         "name": "Reactome_ID",
         "rawType": "object",
         "type": "string"
        },
        {
         "name": "Summation",
         "rawType": "object",
         "type": "string"
        }
       ],
       "conversionMethod": "pd.DataFrame",
       "ref": "ab199646-fc31-4dc1-9226-5f7ddd17228b",
       "rows": [
        [
         "0",
         "R-HSA-1430728",
         "Metabolic processes in human cells generate energy through the oxidation of molecules consumed in the diet and mediate the synthesis of diverse essential molecules not taken in the diet as well as the inactivation and elimination of toxic ones generated endogenously or present in the extracellular environment. The processes of energy metabolism can be classified into two groups according to whether they involve carbohydrate-derived or lipid-derived molecules, and within each group it is useful to distinguish processes that mediate the breakdown and oxidation of these molecules to yield energy from ones that mediate their synthesis and storage as internal energy reserves. Synthetic reactions are conveniently grouped by the chemical nature of the end products, such as nucleotides, amino acids and related molecules, and porphyrins. Detoxification reactions (biological oxidations) are likewise conveniently classified by the chemical nature of the toxin. At the same time, all of these processes are tightly integrated. Intermediates in reactions of energy generation are starting materials for biosyntheses of amino acids and other compounds, broad-specificity oxidoreductase enzymes can be involved in both detoxification reactions and biosyntheses, and hormone-mediated signaling processes function to coordinate the operation of energy-generating and energy-storing reactions and to couple these to other biosynthetic processes."
        ],
        [
         "1",
         "R-HSA-162582",
         "Signal transduction is a process in which extracellular signals elicit changes in cell state and activity. Transmembrane receptors sense changes in the cellular environment by binding ligands, such as hormones and growth factors, or reacting to other types of stimuli, such as light. Stimulation of transmembrane receptors leads to their conformational change which propagates the signal to the intracellular environment by activating downstream signaling cascades. Depending on the cellular context, this may impact cellular proliferation, differentiation, and survival. On the organism level, signal transduction regulates overall growth and behavior. Receptor tyrosine kinases (RTKs) transmit extracellular signals by phosphorylating their protein partners on conserved tyrosine residues. Some of the best studied RTKs are EGFR (reviewed in Avraham and Yarden, 2011), FGFR (reviewed in Eswarakumar et al, 2005), insulin receptor (reviewed in Saltiel and Kahn, 2001), NGF (reviewed in Reichardt, 2006), PDGF (reviewed in Andrae et al, 2008) and VEGF (reviewed in Xie et al, 2004). RTKs frequently activate downstream signaling through RAF/MAP kinases (reviewed in McKay and Morrison, 2007 and Wellbrock et al 2004), AKT (reviewed in Manning and Cantley, 2007) and PLC- gamma (reviewed in Patterson et al, 2005), which ultimately results in changes in gene expression and cellular metabolism. Receptor serine/threonine kinases of the TGF-beta family, such as TGF-beta receptors (reviewed in Kang et al. 2009) and BMP receptors (reviewed in Miyazono et al. 2009), transmit extracellular signals by phosphorylating regulatory SMAD proteins on conserved serine and threonine residues. This leads to formation of complexes of regulatory SMADs and SMAD4, which translocate to the nucleus where they act as transcription factors. WNT receptors transmit their signal through beta-catenin. In the absence of ligand, beta-catenin is constitutively degraded in a ubiquitin-dependent manner. WNT receptor stimulation releases beta-catenin from the destruction complex, allowing it to translocate to the nucleus where it acts as a transcriptional regulator (reviewed in MacDonald et al, 2009 and Angers and Moon, 2009). WNT receptors were originally classified as G-protein coupled receptors (GPCRs). Although they are structurally related, GPCRs primarily transmit their signals through G-proteins, which are trimers of alpha, beta and gamma subunits. When a GPCR is activated, it acts as a guanine nucleotide exchange factor, catalyzing GDP to GTP exchange on the G-alpha subunit of the G protein and its dissociation from the gamma-beta heterodimer. The G-alpha subunit regulates the activity of adenylate cyclase, while the gamma-beta heterodimer can activate AKT and PLC signaling (reviewed in Rosenbaum et al. 2009, Oldham and Hamm 2008, Ritter and Hall 2009). NOTCH receptors are activated by transmembrane ligands expressed on neighboring cells, which results in cleavage of NOTCH receptor and release of its intracellular domain. NOTCH intracellular domain translocates to the nucleus where it acts as a transcription factor (reviewed in Kopan and Ilagan, 2009). Integrins are activated by extracellular matrix components, such as fibronectin and collagen, leading to conformational change and clustering of integrins on the cell surface. This results in activation of integrin-linked kinase and other cytosolic kinases and, in co-operation with RTK signaling, regulates survival, proliferation and cell shape and adhesion (reviewed in Hehlgans et al, 2007) . Besides inducing changes in gene expression and cellular metabolism, extracellular signals that trigger the activation of Rho GTP-ases can trigger changes in the organization of cytoskeleton, thereby regulating cell polarity and cell-cell junctions (reviewed in Citi et al, 2011)."
        ],
        [
         "2",
         "R-HSA-71387",
         "Starches and sugars are major constituents of the human diet and the catabolism of monosaccharides, notably glucose, derived from them is an essential part of human energy metabolism (Dashty 2013). Glucose can be catabolized to pyruvate (glycolysis) and pyruvate synthesized from diverse sources can be metabolized to form glucose (gluconeogenesis). Glucose can be polymerized to form glycogen under conditions of glucose excess (glycogen synthesis), and glycogen can be broken down to glucose in response to stress or starvation (glycogenolysis). Other monosaccharides prominent in the diet, fructose and galactose, can be converted to glucose. The disaccharide lactose, the major carbohydrate in breast milk, is synthesized in the lactating mammary gland. The pentose phosphate pathway allows the synthesis of diverse monosaccharides from glucose including the pentose ribose-5-phosphate and the regulatory molecule xylulose-5-phosphate, as well as the generation of reducing equivalents for biosynthetic processes. Glycosaminoglycan metabolism and xylulose-5-phosphate synthesis from glucuronate are also annotated as parts of carbohydrate metabolism. The digestion of dietary starch and sugars and the uptake of the resulting monosaccharides into the circulation from the small intestine are annotated as parts of the “Digestion and absorption” pathway."
        ],
        [
         "3",
         "R-HSA-5683057",
         "The mitogen activated protein kinases (MAPKs) are a family of conserved protein serine threonine kinases that respond to varied extracellular stimuli to activate intracellular processes including gene expression, metabolism, proliferation, differentiation and apoptosis, among others. The classic MAPK cascades, including the ERK1/2 pathway, the p38 MAPK pathway, the JNK pathway and the ERK5 pathway are characterized by three tiers of sequentially acting, activating kinases (reviewed in Kryiakis and Avruch, 2012; Cargnello and Roux, 2011). The MAPK kinase kinase kinase (MAPKKK), at the top of the cascade, is phosphorylated on serine and threonine residues in response to external stimuli; this phosphorylation often occurs in the context of an interaction between the MAPKKK protein and a member of the RAS/RHO family of small GTP-binding proteins. Activated MAPKKK proteins in turn phosphorylate the dual-specificity MAPK kinase proteins (MAPKK), which ultimately phosphorylate the MAPK proteins in a conserved Thr-X-Tyr motif in the activation loop. Less is known about the activation of the atypical families of MAPKs, which include the ERK3/4 signaling cascade, the ERK7 cascade and the NLK cascade. Although the details are not fully worked out, these MAPK proteins don't appear to be phosphorylated downstream of a 3-tiered kinase system as described above (reviewed in Coulombe and Meloche, 2007; Cargnello and Roux, 2011) . Both conventional and atypical MAPKs are proline-directed serine threonine kinases and, once activated, phosphorylate substrates in the consensus P-X-S/T-P site. Both cytosolic and nuclear targets of MAPK proteins have been identified and upon stimulation, a proportion of the phosphorylated MAPKs relocalize from the cytoplasm to the nucleus. In some cases, nuclear translocation may be accompanied by dimerization, although the relationship between these two events is not fully elaborated (reviewed in Kryiakis and Avruch, 2012; Cargnello and Roux, 2011; Plotnikov et al, 2010)."
        ],
        [
         "4",
         "R-HSA-195721",
         "WNT signaling pathways control a wide range of developmental and adult process in metozoans including cell proliferation, cell fate decisions, cell polarity and stem cell maintenance (reviewed in Saito-Diaz et al, 2013; MacDonald et al, 2009). The pathway is named for the WNT ligands, a large family of secreted cysteine-rich glycoproteins. At least 19 WNT members have been identified in humans and mice with distinct expression patterns during development (reviewed in Willert and Nusse, 2012). These ligands can activate at least three different downstream signaling cascades depending on which receptors they engage. In the so-called 'canonical' WNT signaling pathway, WNT ligands bind one of the 10 human Frizzled (FZD) receptors in conjunction with the LRP5/6 co-receptors to activate a transcriptional cascade that controls processes such as cell fate, proliferation and self-renenwal of stem cells. Engagement of the FZD-LRP receptor by WNT ligand results in the stabilization and translocation of cytosolic beta-catenin to the nucleus where it is a co-activator for LEF (lymphoid enhancer-binding factor)- and TCF (T cell factor) -dependent transcription. In the absence of WNT ligand, cytosolic beta-catenin is phosphorylated by a degradation complex consisting of glycogen synthase kinase 3 (GSK3), casein kinase 1 (CK1), Axin and Adenomatous polyposis coli (APC), and subsequently ubiquitinated and degraded by the 26S proteasome (reviewed in Saito-Diaz et al, 2013; Kimmelman and Xu, 2006). In addition to the beta-catenin-dependent transcriptional response, WNT signaling can also activate distinct non-transcriptional pathways that regulate cell migration and polarity. These beta-catenin-independent 'non-canonical' pathways signal through Frizzled receptors independently of LRP5/6, or occur through the tyrosine kinase receptors ROR and RYK (reviewed in Veeman et al, 2003; James et al, 2009). Non-canonical WNT pathways are best studied in Drosophila where the planar cell polarity (PCP) pathway controls the orientation of wing hairs and eye facets, but are also involved in processes such as convergent extension, neural tube closure, inner ear development and hair orientation in vertebrates and mammals(reviewed in Seifert and Mlodzik, 2007; Simons and Mlodzik, 2008). In the PCP pathway, binding of WNT ligand to the FZD receptor leads to activation of small Rho GTPases and JNK, which regulate the cytoskeleton and coordinate cell migration and polarity (reviewed in Lai et al, 2009; Schlessinger et al, 2009). In some cases, a FZD-WNT interaction increases intracellular calcium concentration and activates CaMK II and PKC; this WNT calcium pathway promotes cell migration and inhibits the canonical beta-catenin dependent transcriptional pathway (reviewed in Kuhl et al, 2000; Kohn and Moon, 2005; Rao et al 2010). Binding of WNT to ROR or RYK receptors also regulates cell migration, apparently through activation of JNK or SRC kinases, respectively, however the details of these pathways remain to be worked out (reviewed in Minami et al, 2010). Although the WNT signaling pathways were originally viewed as discrete, linear pathways controlled by defined subsets of 'canonical' or 'non-canonical' ligands and receptors, the emerging evidence is challenging this notion. Instead, the specificity and the downstream response appear to depend on the particular cellular context and vary with species, tissue and stage of development (reviewed in van Amerongen and Nusse, 2009; Rao et al, 2010)."
        ],
        [
         "5",
         "R-HSA-109581",
         "Apoptosis is a distinct form of cell death that is functionally and morphologically different from necrosis. Nuclear chromatin condensation, cytoplasmic shrinking, dilated endoplasmic reticulum, and membrane blebbing characterize apoptosis in general. Mitochondria remain morphologically unchanged. In 1972 Kerr et al introduced the concept of apoptosis as a distinct form of \"cell-death\", and the mechanisms of various apoptotic pathways are still being revealed today. The two principal pathways of apoptosis are (1) the Bcl-2 inhibitable or intrinsic pathway induced by various forms of stress like intracellular damage, developmental cues, and external stimuli and (2) the caspase 8/10 dependent or extrinsic pathway initiated by the engagement of death receptors The caspase 8/10 dependent or extrinsic pathway is a death receptor mediated mechanism that results in the activation of caspase-8 and caspase-10. Activation of death receptors like Fas/CD95, TNFR1, and the TRAIL receptor is promoted by the TNF family of ligands including FASL (APO1L OR CD95L), TNF, LT-alpha, LT-beta, CD40L, LIGHT, RANKL, BLYS/BAFF, and APO2L/TRAIL. These ligands are released in response to microbial infection, or as part of the cellular, humoral immunity responses during the formation of lymphoid organs, activation of dendritic cells, stimulation or survival of T, B, and natural killer (NK) cells, cytotoxic response to viral infection or oncogenic transformation. The Bcl-2 inhibitable or intrinsic pathway of apoptosis is a stress-inducible process, and acts through the activation of caspase-9 via Apaf-1 and cytochrome c. The rupture of the mitochondrial membrane, a rapid process involving some of the Bcl-2 family proteins, releases these molecules into the cytoplasm. Examples of cellular processes that may induce the intrinsic pathway in response to various damage signals include: auto reactivity in lymphocytes, cytokine deprivation, calcium flux or cellular damage by cytotoxic drugs like taxol, deprivation of nutrients like glucose and growth factors like EGF, anoikis, transactivation of target genes by tumor suppressors including p53. In many non-immune cells, death signals initiated by the extrinsic pathway are amplified by connections to the intrinsic pathway. The connecting link appears to be the truncated BID (tBID) protein a proteolytic cleavage product mediated by caspase-8 or other enzymes."
        ],
        [
         "6",
         "R-HSA-556833",
         "Lipids are hydrophobic but otherwise chemically diverse molecules that play a wide variety of roles in human biology. They include ketone bodies, fatty acids, triacylglycerols, phospholipids and sphingolipids, eicosanoids, cholesterol, bile salts, steroid hormones, and fat-soluble vitamins. They function as a major source of energy (fatty acids, triacylglycerols, and ketone bodies), are major constituents of cell membranes (cholesterol and phospholipids), play a major role in their own digestion and uptake (bile salts), and participate in numerous signaling and regulatory processes (steroid hormones, eicosanoids, phosphatidylinositols, and sphingolipids) (Vance & Vance 2008 - URL). The central steroid in human biology is cholesterol, obtained from animal fats consumed in the diet or synthesized de novo from acetyl-coenzyme A. (Vegetable fats contain various sterols but no cholesterol.) Cholesterol is an essential constituent of lipid bilayer membranes and is the starting point for the biosyntheses of bile acids and salts, steroid hormones, and vitamin D. Bile acids and salts are mostly synthesized in the liver. They are released into the intestine and function as detergents to solubilize dietary fats. Steroid hormones are mostly synthesized in the adrenal gland and gonads. They regulate energy metabolism and stress responses (glucocorticoids), salt balance (mineralocorticoids), and sexual development and function (androgens and estrogens). At the same time, chronically elevated cholesterol levels in the body are associated with the formation of atherosclerotic lesions and hence increased risk of heart attacks and strokes. The human body lacks a mechanism for degrading excess cholesterol, although an appreciable amount is lost daily in the form of bile salts and acids that escape recycling. Aspects of lipid metabolism currently annotated in Reactome include lipid digestion, mobilization, and transport; fatty acid, triacylglycerol, and ketone body metabolism; peroxisomal lipid metabolism; phospholipid and sphingolipid metabolism; cholesterol biosynthesis; bile acid and bile salt metabolism; and steroid hormone biosynthesis."
        ],
        [
         "7",
         "R-HSA-15869",
         "Nucleotides and their derivatives are used for short-term energy storage (ATP, GTP), for intra- and extra-cellular signaling (cAMP; adenosine), as enzyme cofactors (NAD, FAD), and for the synthesis of DNA and RNA. Most dietary nucleotides are consumed by gut flora; the human body's own supply of these molecules is synthesized de novo. Additional metabolic pathways allow the interconversion of nucleotides, the salvage and reutilization of nucleotides released by degradation of DNA and RNA, the catabolism of excess nucleotides, and the transport of these molecules between the cytosol and the nucleus (Rudolph 1994). These pathways are regulated to control the total size of the intracellular nucleotide pool, to balance the relative amounts of individual nucleotides, and to couple the synthesis of deoxyribonucleotides to the onset of DNA replication (S phase of the cell cycle). These pathways are also of major clinical interest as they are the means by which nucleotide analogues used as anti-viral and anti-tumor drugs are taken up by cells, activated, and catabolized (Weilin and Nordlund 2010). As well, differences in nucleotide metabolic pathways between humans and aplicomplexan parasites like Plasmodium have been exploited to design drugs to attack the latter (Hyde 2007). The movement of nucleotides and purine and pyrimidine bases across lipid bilayer membranes, mediated by SLC transporters, is annotated as part of the module \"transmembrane transport of small molecules\"."
        ],
        [
         "8",
         "R-HSA-1643685",
         "Biological processes are captured in Reactome by identifying the molecules (DNA, RNA, protein, small molecules) involved in them and describing the details of their interactions. From this molecular viewpoint, human disease pathways have three mechanistic causes: the inclusion of microbially-expressed proteins, altered functions of human proteins, or changed expression levels of otherwise functionally normal human proteins. The first group encompasses the infectious diseases such as influenza, tuberculosis and HIV infection. The second group involves human proteins modified either by a mutation or by an abnormal post-translational event that produces an aberrant protein with a novel function. Examples include somatic mutations of EGFR and FGFR (epidermal and fibroblast growth factor receptor) genes, which encode constitutively active receptors that signal even in the absence of their ligands, or the somatic mutation of IDH1 (isocitrate dehydrogenase 1) that leads to an enzyme active on 2-oxoglutarate rather than isocitrate, or the abnormal protein aggregations of amyloidosis which lead to diseases such as Alzheimer's. Infectious diseases are represented in Reactome as microbial-human protein interactions and the consequent events. The existence of variant proteins and their association with disease-specific biological processes is represented by inclusion of the modified protein in a new or variant reaction, an extension to the 'normal' pathway. Diseases which result from proteins performing their normal functions but at abnormal rates can also be captured, though less directly. Many mutant alleles encode proteins that retain their normal functions but have abnormal stabilities or catalytic efficiencies, leading to normal reactions that proceed to abnormal extents. The phenotypes of such diseases can be revealed when pathway annotations are combined with expression or rate data from other sources. Depending on the biological pathway/process immediately affected by disease-causing gene variants, non-infectious diseases in Reactome are organized into diseases of signal transduction by growth factore receptors and second messengers, diseases of mitotic cell cycle, diseases of cellular response to stress, diseases of programmed cell death, diseases of DNA repair, disorders of transmembrane transporters, diseases of metabolism, diseases of immune system, diseases of neuronal system, disorders of developmental biology, disorders of extracellular matrix organization, and diseases of hemostatis."
        ],
        [
         "9",
         "R-HSA-8863678",
         "Neurodegenerative diseases manifest as the progressive dysfunction and loss of neurons, which is frequently accompanied by formation of misfolded protein deposits in the brain. Classification of neurodegenerative diseases is based on clinical symptoms, which depend on the anatomical region affected by neuronal dysfunction, the identity of misfolded proteins and cellular and subcellular pathology. In Alzheimer’s disease (AD), beta-amyloid protein (APP) deposits form in the extracellular space, where they can make plaques, while abnormally phosphorylated tau protein (MAPT) accumulates in neuronal cells. Beside AD, neuronal and/or glial inclusions of hyperphosphorylated tau are also found in Pick disease (PiD), neurofibrillary tangle-dementia (NFT), primary age-related tauopathy (PART), progressive supranuclear palsy (PSP), corticobasal degeneration (CBD), argyrophilic grain disease (AGD) and globular glial tauopathies (GGT). In prion disease, such as Creutzfeldt-Jakob disease, deposits of PrP protein are formed mostly in the extracellular and presynaptic space. PrP deposits in neuronal cell bodies are mainly confined to endosomes and lysosomes, which is attributed to neuronal uptake of pathological proteins and intercellular prion spreading. In Parkinson disease (PD) and dementia with Lewy bodies (DLB), deposits of alpha-synuclein (SNCA) are formed in the cytoplasm of neuronal cell bodies and neurites. In multiple system atrophy (MSA), deposits of alpha-synuclein form in the cytoplasm of glial cells (Papp-Lantos bodies). Amyotrophic lateral sclerosis (ALS) and frontotemporal lobar degeneration (FTLD) are characterized by ubiquitin-positive cytoplasmic inclusions of TAR DNA-binding protein 43 (TARDBP, commonly known as TDP-43), a protein that normally localizes to the nucleus. Pathological TDP-43 inclusions have been associated with the TDP-43 gene mutations, as well as mutations in several other genes, including C9orf72, GRN, VCP, SQSTM1, DCTN1 and OPTN. TDP-43 inclusions have also been reported in AD, DLB, hippocampal sclerosis (HS) and chronic traumatic encephalopathy. FUS protein-positive inclusion bodies are found in familial ALS, caused by mutations in the FUS gene, as well as in a small subgroup of FTLD-related diseases. FUS-positive inclusions may be accompanied by FET protein-positive inclusions. For a detailed review of molecular pathology of neurodegenerative diseases, please refer to Kovacs 2016. Within this broad domain, the process by which APP-triggered deregulation of CDK5 (cyclin-dependent kinase 5) triggers multiple neurodegenerative pathways associated with Alzheimer's disease has been annotated."
        ],
        [
         "10",
         "R-HSA-168256",
         "Humans are exposed to millions of potential pathogens daily, through contact, ingestion, and inhalation. Our ability to avoid infection depends on the adaptive immune system and during the first critical hours and days of exposure to a new pathogen, our innate immune system."
        ],
        [
         "11",
         "R-HSA-71403",
         "In the citric acid or tricarboxylic acid (TCA) cycle, the acetyl group of acetyl CoA (derived primarily from oxidative decarboxylation of pyruvate, beta-oxidation of long-chain fatty acids, and catabolism of ketone bodies and several amino acids) can be completely oxidized to CO2 in reactions that also yield one high-energy phosphate bond (as GTP or ATP) and four reducing equivalents (three NADH + H+, and one FADH2). Then, the electron transport chain oxidizes NADH and FADH2 to yield nine more high-energy phosphate bonds (as ATP). All reactions of the citric acid cycle take place in the mitochondrion. Eight canonical reactions mediate the synthesis of citrate from acetyl-CoA and oxaloacetate and the metabolism of citrate to re-form oxaloacetate. Three reactions are reversible: the interconversions of citrate and isocitrate, of fumarate and malate, and of malate and oxaloacetate. The reverse reactions are irrelevant under normal physiological conditions but appear to have a role in glucose- and glutamine-stimulated insulin secretion (Zhang et al., 2020) and cancer metabolism (e.g., Jiang et al., 2016). Succinate synthesis from succinyl-CoA can be coupled to the phosphorylation of either GDP (the canonical reaction) or ADP; we annotate both reactions. Two mitochondrial isocitrate dehydrogenase isozymes catalyze the oxidative decarboxylation of isocitrate to form alpha-ketoglutarate (2-oxoglutarate): IDH3 catalyzes the canonical reaction coupled to the reduction of NAD+, while IDH2 catalyzes the same reaction coupled to the reduction of NADP+, a reaction whose normal physiological function is unclear. Both reactions are annotated. The cyclical nature of the reactions responsible for the oxidation of acetate was first suggested by Hans Krebs from biochemical studies of pigeon breast muscle (Krebs et al., 1938; Krebs and Eggleston, 1940). Ochoa and colleagues studied many molecular details of individual reactions, mainly by studying enzymes purified from pig hearts (Ochoa, 1980). While the human homologs of these enzymes have all been identified, their biochemical characterization has, in general, been limited, and many molecular details of the human reactions are inferred from those worked out in studies of the model systems. Studies examining the impact of elevated citric acid cycle intermediates such as succinate and fumarate led to the recognition of the role of metabolites in driving cancer progression ('oncometabolites') (Pollard et al., 2005; reviewed in Hayashi et al., 2018). The role of TCA enzymes in disease was reviewed by Kang et al., 2021."
        ],
        [
         "12",
         "R-HSA-611105",
         "Mitochondria are often described as the \"powerhouse\" of a cell as it is here that energy is largely released from the oxidation of food. Reducing equivalents generated from beta-oxidation of fatty acids and from the Krebs cycle enter the electron transport chain (also called the respiratory chain). During a series of redox reactions, electrons travel down the chain releasing their energy in controlled steps. These reactions drive the active transport of protons from the mitochondrial matrix , through the inner membrane to the intermembrane space. The respiratory chain consists of five main types of carrier; flavins, iron-sulfur centres, quinones, cytochromes (heme proteins) and copper. The two main reducing equivalents entering the respiratory chain are NADH and FADH2. NADH is linked through the NADH-specific dehydrogenase whereas FADH2 is reoxidised within succinate dehydrogenase and a ubiquinone reductase of the fatty acid oxidation pathway. Oxygen is the final acceptor of electrons and with protons, is converted to form water, the end product of aerobic cellular respiration. A proton electrochemical gradient (often called protonmotive force) is established across the inner membrane, with positive charge in the intermembrane space relative to the matrix. Protons driven by the proton-motive force, can enter ATP synthase thus returning to the mitochondrial matrix. ATP synthases use this exergonic flow to form ATP in the matrix, a process called chemiosmotic coupling. A by-product of this process is heat generation. An antiport, ATP-ADP translocase, preferentially exports ATP from the matrix thereby maintaining a high ADP:ATP ratio in the matrix. The tight coupling of electron flow to ATP synthesis means oxygen consumption is dependent on ADP availability (termed respiratory control). High ADP (low ATP) increases electron flow thereby increasing oxygen consumption and low ADP (high ATP) decreases electron flow and thereby decreases oxygen consumption. There are many inhibitors of mitochondrial ATP synthesis. Most act by either blocking the flow of electrons (eg cyanide, carbon monoxide, rotenone) or uncoupling electron flow from ATP synthesis (eg dinitrophenol). Thermogenin is a natural protein found in brown fat. Newborn babies have a large amount of brown fat and the heat generated by thermogenin is an alternative to ATP synthesis (and thus electron flow only produces heat) and allows the maintenance of body temperature in newborns. The electron transport chain is located in the inner mitochondrial membrane and comprises some 80 proteins organized in four enzymatic complexes (I-IV). Complex V generates ATP but has no electron transfer activity. In addition to these 5 complexes, there are also two electron shuttle molecules; Coenzyme Q (also known as ubiquinone, CoQ) and Cytochrome c (Cytc). These two molecules shuttle electrons between the large complexes in the chain. How many ATPs are generated by this process? Theoretically, for each glucose molecule, 32 ATPs can be produced. As electrons drop from NADH to oxygen in the chain, the number of protons pumped out and returning through ATP synthase can produce 2.5 ATPs per electron pair. For each pair donated by FADH2, only 1.5 ATPs can be formed. Twelve pairs of electrons are removed from each glucose molecule; 10 by NAD+ = 25 ATPs 2 by FADH2 = 3 ATPs. Making a total of 28 ATPs. However, 2 ATPs are formed during the Krebs' cycle and 2 ATPs formed during glycolysis for each glucose molecule therefore making a total ATP yield of 32 ATPs. In reality, the energy from the respiratory chain is used for other processes (such as active transport of important ions and molecules) so under conditions of normal respiration, the actual ATP yield probably does not reach 32 ATPs. The reducing equivalents that fuel the electron transport chain, namely NADH and FADH2, are produced by the Krebs cycle (TCA cycle) and the beta-oxidation of fatty acids. At three steps in the Krebs cycle (isocitrate conversion to oxoglutarate; oxoglutarate conversion to succinyl-CoA; Malate conversion to oxaloacetate), a pair of electrons (2e-) are removed and transferred to NAD+, forming NADH and H+. At a single step, a pair of electrons are removed from succinate, reducing FAD to FADH2. From the beta-oxidation of fatty acids, one step in the process forms NADH and H+ and another step forms FADH2. Cytoplasmic NADH, generated from glycolysis, has to be oxidized to reform NAD+, essential for glycolysis, otherwise glycolysis would cease to function. There is no carrier that transports NADH directly into the mitochondrial matrix and the inner mitochondrial membrane is impermeable to NADH so the cell uses two shuttle systems to move reducing equivalents into the mitochondrion and regenerate cytosolic NAD+. The first is the glycerol phosphate shuttle, which uses electrons from cytosolic NADH to produce FADH2 within the inner membrane. These electrons then flow to Coenzyme Q. Complex I is bypassed so only 1.5 ATPs can be formed per NADH via this route. The overall balanced equation, summing all the reactions in this system, is NADH (cytosol) + H+ (cytosol) + NAD+ (mito.) = NAD+ (cytosol) + NADH (mito.) + H+ (mito.) The malate-aspartate shuttle uses the oxidation of malate to generate NADH in the mitochondrial matrix. This NADH can then be fed directly to complex I and thus can form 3 ATPs via the respiratory chain. The overall balanced equation is NADH (cytosol) + H+ (cytosol) + FAD (inner memb.) = NAD+ (cytosol) + FADH2 (inner memb.) Both of these shuttle systems regenerate cytosolic NAD+. The entry point for NADH is complex I (NADH dehydrogenase) and the entry point for FADH2 is Coenzyme Q. The input of electrons from fatty acid oxidation via ubiquinone is complicated and not shown in the diagram."
        ],
        [
         "13",
         "R-HSA-70268",
         "Pyruvate sits at an intersection of key pathways of energy metabolism. It is the end product of glycolysis and the starting point for gluconeogenesis and can be generated by the transamination of alanine. The pyruvate dehydrogenase complex can convert it to acetyl CoA (Reed and Hackert 1990), which can enter the TCA cycle or serve as the starting point for the syntheses of long-chain fatty acids, steroids, and ketone bodies depending on the tissue and metabolic state in which it is formed. It also plays a central role in balancing the energy needs of various tissues in the body. Under conditions in which oxygen supply is limiting, e.g., in exercising muscle, or in the absence of mitochondria, e.g., in red blood cells, re-oxidation of NADH produced by glycolysis cannot be coupled to the generation of ATP. Instead, re-oxidation is coupled to the reduction of pyruvate to lactate. This lactate is released into the blood and taken up primarily by the liver, where it is oxidized to pyruvate and can be used for gluconeogenesis (Cori 1981). For a recent review, see Prochownik & Wang, 2021."
        ],
        [
         "14",
         "R-HSA-71336",
         "The pentose phosphate pathway is responsible for the generation of a substantial fraction of the cytoplasmic NADPH required for biosynthetic reactions, and for the generation of ribose 5-phosphate for nucleotide synthesis. Although the pentose phosphate pathway and glycolysis are distinct, they involve three common intermediates, glucose 6-phosphate, glyceraldehyde 3-phosphate, and fructose 6-phosphate, so the two pathways are interconnected. The pentose phosphate pathway consists of eight reactions:1. Conversion glucose 6-phosphate to D-glucono-1,5-lactone 6-phosphate, with the formation of NADPH; 2. Conversion of D-glucono-1,5-lactone 6-phosphate to 6-phospho-D-gluconate; 3. Conversion of 6-phospho-D-gluconate to ribulose 5-phosphate, with the formation of NADPH; 4. Conversion of ribulose 5-phosphate to xylulose 5-phosphate; 5. Conversion of ribulose 5-phosphate to ribose 5-phosphate; 6. Rearrangement of ribose 5-phosphate and xylulose 5-phosphate to form sedoheptulose 7-phosphate and glyceraldehyde 3-phosphate; 7. Rearrangement of sedoheptulose 7-phosphate and glyceraldehyde 3-phosphate to form erythrose 4-phosphate and fructose 6-phosphate; and 8. Rearrangement of xylulose 5-phosphate and erythrose 4-phosphate to form glyceraldehyde 3-phosphate and fructose-6-phosphate. The oxidative branch of the pentose phosphate pathway, reactions 1-3, generates NADPH and pentose 5-phosphate. The non-oxidative branch of the pathway, reactions 4-8, converts pentose 5-phosphate to other sugars. The overall pathway can operate to generate only NADPH (glucose 6-phosphate is converted to pentose 5-phosphates, which are directed to the synthesis of fructose 6-phosphate and glyceraldehyde 3-phosphate, which in turn are converted back to glucose 6-phosphate). The reactions of the non-oxidative branch can operate to generate net amounts of ribose 5-phosphate with no production of NADPH. Net flux through this network of reactions appears to depend on the metabolic state of the cell and the nature of the biosynthetic reactions underway (Casazza and Veech 1987). G6PD, the enzyme that catalyzes the first reaction of the pathway, is more extensively mutated in human populations than any other enzyme, pehaps because these mutant alleles confer malaria resistance (Luzzatto and Afolayan 1968). Mutations affecting other parts of the pathway are rare, though several have been described and studies of their effects have contributed to our understanding of the normal flux of metabolites through this network of reactions (Wamelink et al. 2008)."
        ],
        [
         "15",
         "R-HSA-8964208",
         "The first reaction in this pathway converts phenylalanine to tyrosine, coupled to the conversion of tetrahydrobiopterin to 4a-hydroxytetrahydrobiopterin, catalyzed by phenylalanine hydroxylase. Deficiencies in this enzyme are responsible for the commonest form of phenylketonuria (PKU) in humans. This reaction functions both as the first step in the pathway by which the body disposes of excess phenylalanine, and as a source of the amino acid tyrosine. The next two reactions are responsible for the regeneration of tetrahydrobiopterin from 4a-hydroxytetrahydrobiopterin (Blau et al. 2001)."
        ],
        [
         "16",
         "R-HSA-8978868",
         "The synthesis and breakdown of fatty acids are a central part of human energy metabolism, and the eicosanoid class of fatty acid derivatives regulate diverse processes in the body (Vance & Vance 2008 - URL). Processes annotated in this module include the synthesis of fatty acids from acetyl-CoA, mitochondrial and peroxisomal breakdown of fatty acids, and the metabolism of eicosanoids and related molecules."
        ],
        [
         "17",
         "R-HSA-112316",
         "The human brain contains at least 100 billion neurons, each with the ability to influence many other cells. Clearly, highly sophisticated and efficient mechanisms are needed to enable communication among this astronomical number of elements. This communication occurs across synapses, the functional connection between neurons. Synapses can be divided into two general classes: electrical synapses and chemical synapses. Electrical synapses permit direct, passive flow of electrical current from one neuron to another. The current flows through gap junctions, specialized membrane channels that connect the two cells. Chemical synapses enable cell-to-cell communication using neurotransmitter release. Neurotransmitters are chemical agents released by presynaptic neurons that trigger a secondary current flow in postsynaptic neurons by activating specific receptor molecules. Neurotransmitter secretion is triggered by the influx of Ca2+ through voltage-gated channels, which gives rise to a transient increase in Ca2+ concentration within the presynaptic terminal. The rise in Ca2+ concentration causes synaptic vesicles (the presynaptic organelles that store neurotransmitters) to fuse with the presynaptic plasma membrane and release their contents into the space between the pre- and postsynaptic cells."
        ],
        [
         "18",
         "R-HSA-9620244",
         "In long-term potentiation (LTP), involved in learning and memory, a brief period of synaptic activity induces a lasting increase in the strength of the synapse. LTP is initiated by NMDA receptor-mediated activation of calcium/calmodulin-dependent protein kinase II (CaMKII), followed by binding of CaMKII to the NMDA receptor and CaMKII-mediated phosphorylation of AMPA receptor subunits (reviewed by Lisman et al. 2012 and Luscher and Malenka 2012)."
        ],
        [
         "19",
         "R-HSA-74182",
         "Acetoacetate, beta-hydroxybutyrate, and acetone collectively are called ketone bodies. The first two are synthesized from acetyl-CoA, in the mitochondria of liver cells; acetone is formed by spontaneous decarboxylation of acetoacetate. Ketone body synthesis in liver is effectively irreversible because the enzyme that catalyzes the conversion of acetoacetate to acetoacetyl-CoA is not present in liver cells. Ketone bodies, unlike fatty acids and triglycerides, are water-soluble. They are exported from the liver, and are taken up by other tissues, notably brain and skeletal and cardiac muscle. There, they are broken down to acetyl-CoA which is oxidized via the TCA cycle to yield energy. In a normal person, this pathway of ketone body synthesis and utilization is most active during extended periods of fasting. Under these conditions, mobilization and breakdown of stored fatty acids generates abundant acetyl-CoA acetyl-CoA in liver cells for synthesis of ketone bodies, and their utilization in other tissues minimizes the demand of these tissues for glucose (Sass 2011)."
        ],
        [
         "20",
         "R-HSA-70895",
         "The branched-chain amino acids, leucine, isoleucine, and valine, are all essential amino acids (i.e., ones required in the diet). They are major constituents of muscle protein. The breakdown of these amino acids starts with two common steps catalyzed by enzymes that act on all three amino acids: reversible transamination by branched-chain amino acid aminotransferase, and irreversible oxidative decarboxylation by the branched-chain ketoacid dehydrogenase complex. Isovaleryl-CoA is produced from leucine by these two reactions, alpha-methylbutyryl-CoA from isoleucine, and isobutyryl-CoA from valine. These acyl-CoA's undergo dehydrogenation, catalyzed by three different but related enzymes, and the breakdown pathways then diverge. Leucine is ultimately converted to acetyl-CoA and acetoacetate; isoleucine to acetyl-CoA and succinyl-CoA; and valine to succinyl-CoA. Under fasting conditions, substantial amounts of all three amino acids are generated by protein breakdown. In muscle, the final products of leucine, isoleucine, and valine catabolism can be fully oxidized via the citric acid cycle; in liver they can be directed toward the synthesis of ketone bodies (acetoacetate and acetyl-CoA) and glucose (succinyl-CoA) (Neinast et al. 2019)."
        ],
        [
         "21",
         "R-HSA-71064",
         "In humans, most catabolism of L-lysine normally proceeds via a sequence of seven reactions which feeds into the pathway for fatty acid catabolism. In the first two reactions, catalyzed by a single enzyme complex, lysine is combined with alpha-ketoglutarate to form saccharopine, which in turn is cleaved and oxidized to yield glutamate and alpha-ketoadipic semialdehyde. The latter molecule is further oxidized to alpha-ketoadipate. Alpha-ketoadipate is oxidatively decarboxylated by the alpha-ketoglutarate dehydrogenase complex (the same enzyme complex responsible for the conversion of alpha-ketoglutarate to succinyl-CoA in the citric acid cycle), yielding glutaryl-CoA. Glutaryl-CoA is converted to crotonyl-CoA, crotonyl-CoA is converted to beta-hydroxybutyryl-CoA, and beta-hydroxybutyryl-CoA is converted to acetoacetyl-CoA. The products of lysine catabolism are thus exclusively ketogenic; i.e., under starvation conditions they can be used for the synthesis of ketone bodies, beta-hydroxybutyrate and acetoacetate, but not for the net synthesis of glucose (Cox 2001; Goodman and Freeman 2001)."
        ],
        [
         "22",
         "R-HSA-70635",
         "The urea cycle yields urea, the major form in which excess nitrogen is excreted from the human body, and the amino acid arginine (Brusilow and Horwich 2001). It consists of four reactions: that of ornithine and carbamoyl phosphate to form citrulline, of citrulline and aspartate to form argininosuccinate, the cleavage of argininosuccinate to yield fumarate and arginine, and the cleavage of arginine to yield urea and re-form ornithine. The carbamoyl phosphate consumed in this cycle is synthesized in the mitochondria from bicarbonate and ammonia, and this synthesis in turn is dependent on the presence of N-acetylglutamate, which allosterically activates carbamoyl synthetase I enzyme. The synthesis of N-acetylglutamate is stimulated by high levels of arginine. Increased levels of free amino acids, indicated by elevated arginine levels, thus stimulate urea synthesis. Two enzymes catalyze the hydrolysis of arginine to yield ornithine and urea. Cytosolic ARG1 is the canonical urea cycle enzyme. Mitochondrial ARG2 likewise catalyzes urea production from arginine and may have a substantial sparing effect in patients lacking ARG1 enzyme, so its reaction is annotated here although the role of ARG2 under normal physiological conditions remains unclear."
        ],
        [
         "23",
         "R-HSA-8964540",
         "The interconversion of alanine and pyruvate, annotated here, is a key connection among the processes of protein turnover and energy metabolism in the human body (Felig 1975; Owen et al. 1979)."
        ],
        [
         "24",
         "R-HSA-69278",
         "The events of replication of the genome and the subsequent segregation of chromosomes into daughter cells make up the cell cycle. DNA replication is carried out during a discrete temporal period known as the S (synthesis)-phase, and chromosome segregation occurs during a massive reorganization of cellular architecture at mitosis. Two gap-phases separate these cell cycle events: G1 between mitosis and S-phase, and G2 between S-phase and mitosis. Cells can exit the cell cycle for a period and enter a quiescent state known as G0, or terminally differentiate into cells that will not divide again, but undergo morphological development to carry out the wide variety of specialized functions of individual tissues. A family of protein serine/threonine kinases known as the cyclin-dependent kinases (CDKs) controls progression through the cell cycle. As the name suggests, the kinase activity of the catalytic subunits is dependent on binding to cyclin partners, and control of cyclin abundance is one of several mechanisms by which CDK activity is regulated throughout the cell cycle. A complex network of regulatory processes determines whether a quiescent cell (in G0 or early G1) will leave this state and initiate the processes to replicate its chromosomal DNA and divide. This regulation, during the Mitotic G1-G1/S phases of the cell cycle, centers on transcriptional regulation by the DREAM complex, with major roles for D and E type cyclin proteins. Chromosomal DNA synthesis occurs in the S phase, or the synthesis phase, of the cell cycle. The cell duplicates its hereditary material, and two copies of each chromosome are formed. A key aspect of the regulation of DNA replication is the assembly and modification of a pre-replication complex assembled on ORC proteins. Mitotic G2-G2/M phases encompass the interval between the completion of DNA synthesis and the beginning of mitosis. During G2, the cytoplasmic content of the cell increases. At G2/M transition, duplicated centrosomes mature and separate and CDK1:cyclin B complexes become active, setting the stage for spindle assembly and chromosome condensation at the start of mitotic M phase. Mitosis, or M phase, results in the generation of two daughter cells each with a complete diploid set of chromosomes. Events of the M/G1 transition, progression out of mitosis and division of the cell into two daughters (cytokinesis) are regulated by the Anaphase Promoting Complex. The Anaphase Promoting Complex or Cyclosome (APC/C) plays additional roles in regulation of the mitotic cell cycle, insuring the appropriate length of the G1 phase. The APC/C itself is regulated by phosphorylation and interactions with checkpoint proteins."
        ],
        [
         "25",
         "R-HSA-69236",
         "Early cell cycle progression in G1 is under the control of the D-type cyclins together with Cdk4 and Cdk6. An important target for these CDKs is the Retinoblastoma (Rb) protein, which when phosphorylated promotes cell cycle progression by releasing E2F transcription factors that transactivate several important genes for later cell cycle events. The formation of Cyclin D - Cdk4/6 complexes is promoted by two proteins, p21Cip1/Waf1 and p27kip1, and their activity can be inhibited by the binding of several small CDK-inhibitory proteins (CKIs): p15INK4B, p16INK4A, p18INK4C and p19INK4D."
        ],
        [
         "26",
         "R-HSA-69206",
         "Cyclin E - Cdk2 complexes control the transition from G1 into S-phase. In this case, the binding of p21Cip1/Waf1 or p27kip1 is inhibitory. Important substrates for Cyclin E - Cdk2 complexes include proteins involved in the initiation of DNA replication. The two Cyclin E proteins are subjected to ubiquitin-dependent proteolysis, under the control of an E3 ubiquitin ligase known as the SCF. Cyclin A - Cdk2 complexes, which are also regulated by p21Cip1/Waf1 and p27kip1, are likely to be important for continued DNA synthesis, and progression into G2. An additional level of control of Cdk2 is reversible phosphorylation of Threonine-14 (T14) and Tyrosine-15 (Y15), catalyzed by the Wee1 and Myt1 kinases, and dephosphorylation by the three Cdc25 phosphatases, Cdc25A, B and C."
        ],
        [
         "27",
         "R-HSA-69242",
         "DNA synthesis occurs in the S phase, or the synthesis phase, of the cell cycle. The cell duplicates its hereditary material, and two copies of the chromosome are formed. As DNA replication continues, the E type cyclins shared by the G1 and S phases, are destroyed and the levels of the mitotic cyclins rise."
        ],
        [
         "28",
         "R-HSA-68911",
         "This is one of two 'gap' phases in the standard eukaryotic mitotic cell cycle. It is the interval between the completion of DNA synthesis and the beginning of mitosis. Protein synthesis occurs in this phase, following DNA replication in the S phase. This is the time when the cell stockpiles on the cytoplasmic contents, before mitosis and cytokinesis occur (Mitchison 2003, Kaldis 2016)."
        ],
        [
         "29",
         "R-HSA-69275",
         "Together with two B-type cyclins, CCNB1 and CCNB2, Cdc2 (CDK1) regulates the transition from G2 into mitosis. CDK1 can also form complexes with Cyclin A (CCNA1 and CCNA3). CDK1 complexes with A and B type cyclins are activated by dephosphorylation of CDK1 threonine residue T14 and tyrosine residue Y15. Cyclin A:CDK1 and Cyclin B:CDK1 complexes phosphorylate several proteins involved in mitotic spindle formation and function, the breakdown of the nuclear envelope, and chromosome condensation that is necessary for the ~2 meters of DNA to be segregated at mitosis (Nigg 1998, Nilsson and Hoffmann 2000, Salaun et al. 2008, Fisher et al. 2012)."
        ],
        [
         "30",
         "R-HSA-68886",
         "Mitosis, or the M phase, involves nuclear division and cytokinesis, where two identical daughter cells are produced. Mitosis involves prophase, prometaphase, metaphase, anaphase, and telophase. Finally, cytokinesis leads to cell division. The phase between two M phases is called the interphase; it encompasses the G1, S, and G2 phases of the cell cycle."
        ],
        [
         "32",
         "R-HSA-69620",
         "A hallmark of the human cell cycle in normal somatic cells is its precision. This remarkable fidelity is achieved by a number of signal transduction pathways, known as checkpoints, which monitor cell cycle progression ensuring an interdependency of S-phase and mitosis, the integrity of the genome and the fidelity of chromosome segregation. Checkpoints are layers of control that act to delay CDK activation when defects in the division program occur. As the CDKs functioning at different points in the cell cycle are regulated by different means, the various checkpoints differ in the biochemical mechanisms by which they elicit their effect. However, all checkpoints share a common hierarchy of a sensor, signal transducers, and effectors that interact with the CDKs. The stability of the genome in somatic cells contrasts to the almost universal genomic instability of tumor cells. There are a number of documented genetic lesions in checkpoint genes, or in cell cycle genes themselves, which result either directly in cancer or in a predisposition to certain cancer types. Indeed, restraint over cell cycle progression and failure to monitor genome integrity are likely prerequisites for the molecular evolution required for the development of a tumor. Perhaps most notable amongst these is the p53 tumor suppressor gene, which is mutated in >50% of human tumors. Thus, the importance of the checkpoint pathways to human biology is clear."
        ],
        [
         "33",
         "R-HSA-69615",
         "In the G1 phase there are two types of DNA damage responses, the p53-dependent and the p53-independent pathways. The p53-dependent responses inhibit CDKs through the up-regulation of genes encoding CKIs mediated by the p53 protein, whereas the p53-independent mechanisms inhibit CDKs through the inhibitory T14Y15 phosphorylation of Cdk2. Failure of DNA damage checkpoints in G1 leads to mutagenic replication of damaged templates and other replication defects."
        ],
        [
         "34",
         "R-HSA-69481",
         "G2/M checkpoints include the checks for damaged DNA, unreplicated DNA, and checks that ensure that the genome is replicated once and only once per cell cycle. If cells pass these checkpoints, they follow normal transition to the M phase. However, if any of these checkpoints fail, mitotic entry is prevented by specific G2/M checkpoint events. The G2/M checkpoints can fail due to the presence of unreplicated DNA or damaged DNA. In such instances, the cyclin-dependent kinase, Cdc2(Cdk1), is maintained in its inactive, phosphorylated state, and mitotic entry is prevented. Events that ensure that origins of DNA replication fire once and only once per cell cycle are also an example of a G2/M checkpoint. In the event of high levels of DNA damage, the cells may also be directed to undergo apopotosis (not covered)."
        ],
        [
         "35",
         "R-HSA-69618",
         "The mitotic checkpoint or spindle assembly checkpoint is an evolutionarily conserved mechanism that ensures that cells with misaligned chromosomes do not exit mitosis and divide to form aneuploid cells. As chromosome attachment to the spindle microtubules is a stochastic process, not all chromosomes achieve alignment at the spindle equator at the same time. It is therefore essential that even a single unaligned chromosome can prevent the onset of anaphase. The ability of the checkpoint to monitor the status of chromosome alignment is achieved by assigning checkpoint proteins to the kinetochore, a macromolecular complex that resides at centromeres of chromosomes that establishes connections with spindle microtubules. The checkpoint proteins monitor, in an unknown way, the mechanical activities between kinetochore-associated proteins and microtubules. Defects in mechanical activities at kinetochores activate the resident checkpoint proteins to initiate a signal that is amplified throughout the cell that ultimately prevents the activation of the proteolytic process that is required for sister chromatid separation and the onset of anaphase. Kinetochores of unaligned chromosomes differ from those of aligned chromosomes in two ways. Kinetochores of aligned chromosomes are saturated with between 20 to 30 microtubules. In addition, poleward directed forces exerted at each sister kinetochore generates tension between them. Unaligned kinetochores on the other hand, are not saturated with microtubules and are not under tension. The mitotic checkpoint detects the presence of unattached kinetochores rather than monitoring for the presence of attached kinetochores. Consequently, unattached kinetochores emit an inhibitory signal that inhibits the biochemical events that are required to initiate the onset of anaphase. The mechanism by which this inhibitory signal is generated at unattached kinetochores has not precisely been determined but the signal is generated as a result of the lack of microtubule occupancy and kinetochore tension. A single unattached kinetochore is capable of preventing cells from exiting mitosis. The mitotic checkpoint provides a way for a localized defect to affect the global biochemical status of the cell. In principle, the signal that is generated at an unattached kinetochore diffuses throughout the cell to affect its target. There are currently two models for how this is achieved. One model is based on the observation that the Mad2 checkpoint protein binds and is rapidly released from unattached kinetochores. The kinetochore is believed to act as a catalyst that converts Mad2 into an inhibitory state that diffuses throughout the cell upon its release from the kinetochore. A second model proposes that the signal is amplified by a kinase cascade much like a conventional signal transduction pathway. This kinase cascade is believed to be comprised of the checkpoint kinases, hBUBR1, hBUB1, hMPS1."
        ],
        [
         "37",
         "R-HSA-212436",
         "OVERVIEW OF TRANSCRIPTION REGULATION: Detailed studies of gene transcription regulation in a wide variety of eukaryotic systems has revealed the general principles and mechanisms by which cell- or tissue-specific regulation of differential gene transcription is mediated (reviewed in Naar, 2001. Kadonaga, 2004, Maston, 2006, Barolo, 2002; Roeder, 2005, Rosenfeld, 2006). Of the three major classes of DNA polymerase involved in eukaryotic gene transcription, Polymerase II generally regulates protein-encoding genes. Figure 1 shows a diagram of the various components involved in cell-specific regulation of Pol-II gene transcription. Core Promoter: Pol II-regulated genes typically have a Core Promoter where Pol II and a variety of general factors bind to specific DNA motifs: i: the TATA box (TATA DNA sequence), which is bound by the \"TATA-binding protein\" (TBP). ii: the Initiator motif (INR), where Pol II and certain other core factors bind, is present in many Pol II-regulated genes. iii: the Downstream Promoter Element (DPE), which is present in a subset of Pol II genes, and where additional core factors bind. The core promoter binding factors are generally ubiquitously expressed, although there are exceptions to this. Proximal Promoter: immediately upstream (5') of the core promoter, Pol II target genes often have a Proximal Promoter region that spans up to 500 base pairs (b.p.), or even to 1000 b.p.. This region contains a number of functional DNA binding sites for a specific set of transcription activator (TA) and transcription repressor (TR) proteins. These TA and TR factors are generally cell- or tissue-specific in expression, rather than ubiquitous, so that the presence of their cognate binding sites in the proximal promoter region programs cell- or tissue-specific expression of the target gene, perhaps in conjunction with TA and TR complexes bound in distal enhancer regions. Distal Enhancer(s): many or most Pol II regulated genes in higher eukaryotes have one or more distal Enhancer regions which are essential for proper regulation of the gene, often in a cell or tissue-specific pattern. Like the proximal promoter region, each of the distal enhancer regions typically contain a cluster of binding sites for specific TA and/or TR DNA-binding factors, rather than just a single site. Enhancers generally have three defining characteristics: i: They can be located very long distances from the promoter of the target gene they regulate, sometimes as far as 100 Kb, or more. ii: They can be either upstream (5') or downstream (3') of the target gene, including within introns of that gene. iii: They can function in either orientation in the DNA. Combinatorial mechanisms of transcription regulation: The specific combination of TA and TR binding sites within the proximal promoter and/or distal enhancer(s) provides a \"combinatorial transcription code\" that mediates cell- or tissue-specific expression of the associated target gene. Each promoter or enhancer region mediates expression in a specific subset of the overall expression pattern. In at least some cases, each enhancer region functions completely independently of the others, so that the overall expression pattern is a linear combination of the expression patterns of each of the enhancer modules. Co-Activator and Co-Repressor Complexes: DNA-bound TA and TR proteins typically recruit the assembly of specific Co-Activator (Co-A) and Co-Repressor (Co-R) Complexes, respectively, which are essential for regulating target gene transcription. Both Co-A's and Co-R's are multi-protein complexes that contain several specific protein components. Co-Activator complexes generally contain at lease one component protein that has Histone Acetyl Transferase (HAT) enzymatic activity. This functions to acetylate Histones and/or other chromatin-associated factors, which typically increases that transcription activation of the target gene. By contrast, Co-Repressor complexes generally contain at lease one component protein that has Histone De-Acetylase (HDAC) enzymatic activity. This functions to de-acetylate Histones and/or other chromatin-associated factors. This typically increases the transcription repression of the target gene. Adaptor (Mediator) complexes: In addition to the co-activator complexes that assemble on particular cell-specific TA factors, - there are at least two additional transcriptional co-activator complexes common to most cells. One of these is the Mediator complex, which functions as an \"adaptor\" complex that bridges between the tissue-specific co-activator complexes assembled in the proximal promoter (or distal enhancers). The human Mediator complex has been shown to contain at least 19 protein distinct components. Different combinations of these co-activator proteins are also found to be components of specific transcription Co-Activator complexes, such as the DRIP, TRAP and ARC complexes described below. TBP/TAF complex: Another large Co-A complex is the \"TBP-associated factors\" (TAFs) that assemble on TBP (TATA-Binding Protein), which is bound to the TATA box present in many promoters. There are at least 23 human TAF proteins that have been identified. Many of these are ubiquitously expressed, but TAFs can also be expressed in a cell or tissue-specific pattern. Specific Coactivator Complexes for DNA-binding Transcription Factors. A number of specific co-activator complexes for DNA-binding transcription factors have been identified, including DRIP, TRAP, and ARC (reviewed in Bourbon, 2004, Blazek, 2005, Conaway, 2005, and Malik, 2005). The DRIP co-activator complex was originally identified and named as a specific complex associated with the Vitamin D Receptor member of the nuclear receptor family of transcription factors (Rachez, 1998). Similarly, the TRAP co-activator complex was originally identified as a complex that associates with the thyroid receptor (Yuan, 1998). It was later determined that all of the components of the DRIP complex are also present in the TRAP complex, and the ARC complex (discussed further below). For example, the DRIP205 and TRAP220 proteins were show to be identical, as were specific pairs of the other components of these complexes (Rachez, 1999). In addition, these various transcription co-activator proteins identified in mammalian cells were found to be the orthologues or homologues of the Mediator (\"adaptor\") complex proteins (reviewed in Bourbon, 2004). The Mediator proteins were originally identified in yeast by Kornberg and colleagues, as complexes associated with DNA polymerase (Kelleher, 1990). In higher organisms, Adapter complexes bridge between the basal transcription factors (including Pol II) and tissue-specific transcription factors (TFs) bound to sites within upstream Proximal Promoter regions or distal Enhancer regions (Figure 1). However, many of the Mediator homologues can also be found in complexes associated with specific transcription factors in higher organisms. A unified nomenclature system for these adapter / co-activator proteins now labels them Mediator 1 through Mediator 31 (Bourbon, 2004). For example, the DRIP205 / TRAP220 proteins are now identified as Mediator 1 (Rachez, 1999), based on homology with yeast Mediator 1. Example Pathway: Specific Regulation of Target Genes During Notch Signaling: One well-studied example of cell-specific regulation of gene transcription is selective regulation of target genes during Notch signaling. Notch signaling was first identified in Drosophila, where it has been studied in detail at the genetic, molecular, biochemical and cellular levels (reviewed in Justice, 2002; Bray, 2006; Schweisguth, 2004; Louvri, 2006). In Drosophila, Notch signaling to the nucleus is thought always to be mediated by one specific DNA binding transcription factor, Suppressor of Hairless. In mammals, the homologous genes are called CBF1 (or RBPJkappa), while in worms they are called Lag-1, so that the acronym \"CSL\" has been given to this conserved transcription factor family. There are at least two human CSL homologues, which are now named RBPJ and RBPJL. In Drosophila, Su(H) is known to be bifunctional, in that it represses target gene transcription in the absence of Notch signaling, but activates target genes during Notch signaling. At least some of the mammalian CSL homologues are believed also to be bifunctional, and to mediate target gene repression in the absence of Notch signaling, and activation in the presence of Notch signaling. Notch Co-Activator and Co-Repressor complexes: This repression is mediated by at least one specific co-repressor complexes (Co-R) bound to CSL in the absence of Notch signaling. In Drosophila, this co-repressor complex consists of at least three distinct co-repressor proteins: Hairless, Groucho, and dCtBP (Drosophila C-terminal Binding Protein). Hairless has been show to bind directly to Su(H), and Groucho and dCtBP have been shown to bind directly to Hairless (Barolo, 2002). All three of the co-repressor proteins have been shown to be necessary for proper gene regulation during Notch signaling in vivo (Nagel, 2005). In mammals, the same general pathway and mechanisms are observed, where CSL proteins are bifunctional DNA binding transcription factors (TFs), that bind to Co-Repressor complexes to mediate repression in the absence of Notch signaling, and bind to Co-Activator complexes to mediate activation in the presence of Notch signaling. However, in mammals, there may be multiple co-repressor complexes, rather than the single Hairless co-repressor complex that has been observed in Drosophila. During Notch signaling in all systems, the Notch transmembrane receptor is cleaved and the Notch intracellular domain (NICD) translocates to the nucleus, where it there functions as a specific transcription co-activator for CSL proteins. In the nucleus, NICD replaces the Co-R complex bound to CSL, thus resulting in de-repression of Notch target genes in the nucleus (Figure 2). Once bound to CSL, NICD and CSL proteins recruit an additional co-activator protein, Mastermind, to form a CSL-NICD-Mam ternary co-activator (Co-A) complex. This Co-R complex was initially thought to be sufficient to mediate activation of at least some Notch target genes. However, there now is evidence that still other co-activators and additional DNA-binding transcription factors are required in at least some contexts (reviewed in Barolo, 2002). Thus, CSL is a good example of a bifunctional DNA-binding transcription factor that mediates repression of specific targets genes in one context, but activation of the same targets in another context. This bifunctionality is mediated by the association of specific Co-Repressor complexes vs. specific Co-Activator complexes in different contexts, namely in the absence or presence of Notch signaling."
        ],
        [
         "38",
         "R-HSA-72766",
         "Protein synthesis is accomplished through the process of translation of an mRNA sequence into a polypeptide chain. This process can be divided into three distinct stages: initiation, elongation and termination. During the initiation phase, the two subunits of the ribosome are brought together to the translation start site on the mRNA where the polypeptide chain is to begin. Extension of the polypeptide chain occurs when a specific aminoacyl-tRNA, as determined by the template mRNA, binds an elongating ribosome. The protein chain is released from the ribosome when any one of three stop codons in the relevant reading frame on the mRNA is reached. Individual reactions at each one of these stages are catalyzed by a number of initiation, elongation and release factors, respectively. Proteins destined for the endoplasmic reticulum (ER) contain a short sequence of hydrophobic amino acid residues (approximately 20 residues) at their N-termini. Upon protrusion of the signal sequence from the translating ribosome, the signal sequence is bound by the cytosolic signal recognition particle (SRP), translation is temporarily halted, and the SRP:nascent peptide:ribosome complex then docks with a SRP receptor complex on the ER membrane. There the nascent peptide:ribosome complex is transferred from the SRP complex to a translocon complex embedded in the ER membrane and reoriented so that the nascent polypeptide protrudes through a pore in the translocon into the ER lumen. Translation now resumes, the signal peptide is cleaved from the polypeptide by signal peptidase as the signal peptide emerges into the ER, and elongation proceeds with the growing polypeptide oriented into the ER lumen. The 13 proteins encoded by the mitochondrial genome are translated within the mitochondrion by mitochondrial ribosomes (mitoribosomes) at the matrix face of the inner mitochondrial membrane. Mitochondrial translation reflects both the bacterial origin of the organelle and subsequent divergent evolution during symbiosis. Mitoribosomes have shorter rRNAs, mitochondria-specific proteins, and rearranged protein positions. Mitochondrial mRNAs have either no untranslated leaders or very short untranslated leaders of 1-3 nucleotides. Translation begins with N-formylmethionine, as in bacteria, and continues with cycles of aminoacyl-tRNA:TUFM:GTP binding, GTP hydrolysis and dissociation of TUFM:GDP. All 13 proteins encoded by the mitochondrial genome are hydrophobic inner membrane proteins which are inserted cotranslationally into the membrane by an interaction with OXA1L. Translation is terminated when MTRF1L:GTP recognizes a UAA or UAG codon at the A-site of the mitoribosome. The translated polypeptide is released and MRRF and GFM2:GTP act to dissociate the 55S ribosome into 28S and 39S subunits."
        ],
        [
         "39",
         "R-HSA-109606",
         "The intrinsic (Bcl-2 inhibitable or mitochondrial) pathway of apoptosis functions in response to various types of intracellular stress including growth factor withdrawal, DNA damage, unfolding stresses in the endoplasmic reticulum and death receptor stimulation. Following the reception of stress signals, proapoptotic BCL-2 family proteins are activated and subsequently interact with and inactivate antiapoptotic BCL-2 proteins. This interaction leads to the destabilization of the mitochondrial membrane and release of apoptotic factors. These factors induce the caspase proteolytic cascade, chromatin condensation, and DNA fragmentation, ultimately leading to cell death. The key players in the Intrinsic pathway are the Bcl-2 family of proteins that are critical death regulators residing immediately upstream of mitochondria. The Bcl-2 family consists of both anti- and proapoptotic members that possess conserved alpha-helices with sequence conservation clustered in BCL-2 Homology (BH) domains. Proapoptotic members are organized as follows: 1. \"Multidomain\" BAX family proteins such as BAX, BAK etc. that display sequence conservation in their BH1-3 regions. These proteins act downstream in mitochondrial disruption. 2. \"BH3-only\" proteins such as BID,BAD, NOXA, PUMA,BIM, and BMF have only the short BH3 motif. These act upstream in the pathway, detecting developmental death cues or intracellular damage. Anti-apoptotic members like Bcl-2, Bcl-XL and their relatives exhibit homology in all segments BH1-4. One of the critical functions of BCL-2/BCL-XL proteins is to maintain the integrity of the mitochondrial outer membrane."
        ],
        [
         "40",
         "R-HSA-5357769",
         "Caspases, a family of cysteine proteases, execute apoptotic cell death. Caspases exist as inactive zymogens in cells and undergo a cascade of catalytic activation at the onset of apoptosis. Initiation of apoptosis occurs through either a cell-intrinsic or cell-extrinsic pathway. Extrinsic pathway cell death signals originate at the plasma membrane where: An extracellular ligand (e.g., FasL) binds to its cell surface transmembrane “death receptor” (e.g., Fas receptor), inducing oligomerization of the receptor (Trauth et al. 1989; Itoh and Nagata 1993; Danial and Korsmeyer 2004). The \"death receptors\" are specialized cell-surface receptors including Fas/CD95, tumor necrosis factor-alpha (TNF-alpha) receptor 1, and two receptors, DR4 and DR5, that bind to the TNF-alpha related apoptosis-inducing ligand (TRAIL). Ligand binding promotes clustering of proteins that bind to the intracellular domain of the receptor (e.g., FADD, or Fas-associated death domain-containing protein), which then binds to the prodomain of initiator caspases (e.g.caspase-8 or -10) to promote their dimerization and activation. Active caspase-8/-10 can then directly cleave and activate effector caspases, such as caspase-3 or it can cleave Bid, which facilitates mitochondrial cytochrome c release. Unique group of proteins termed dependence receptors (DpRs) transduce positive (often prosurvival or progrowth) signals when engaged by ligand, but emit proapoptotic signals in the absence of ligand (Goldschneider and Mehlen 2010). DpR family includes p75 neurotrophin receptor (p75NTR), deleted in colon cancer (DCC), and UNC5 homologs, among others. cell-surface membrane receptors."
        ],
        [
         "41",
         "R-HSA-211981",
         "Of the 50 microsomal CYPs, 15 act on xenobiotics. They all possess wide substrate specificity to cater for most foreign compounds that find their way into the body."
        ],
        [
         "42",
         "R-HSA-5358351",
         "Hedgehog (Hh) is a secreted morphogen that regulates developmental processes in vertebrates including limb bud formation, neural tube patterning, cell growth and differentiation (reviewed in Hui and Angers, 2011). Hh signaling also contributes to stem cell homeostasis in adult tissues. Downregulation of Hh signaling can lead to neonatal abnormalities, while upregulation of signaling is associated with the development of various cancers (Beachy et al, 2004; Jiang and Hui, 2008; Hui and Angers, 2011). Hh signaling is switched between 'off' and an 'on' states to differentially regulate an intracellular signaling cascade that targets the Gli transcription factors. In the absence of Hh ligand, cytosolic Gli proteins are cleaved to yield a truncated form that translocates into the nucleus and represses target gene transcription. Binding of Hh to the Patched (PTC) receptor on the cell surface stabilizes the Gli proteins in their full-length transcriptional activator form, stimulating Hh-dependent gene expression (reviewed in Hui and Angers, 2011; Briscoe and Therond, 2013)."
        ],
        [
         "43",
         "R-HSA-372790",
         "G protein-coupled receptors (GPCRs; 7TM receptors; seven transmembrane domain receptors; heptahelical receptors; G protein-linked receptors [GPLR]) are the largest family of transmembrane receptors in humans, accounting for more than 1% of the protein-coding capacity of the human genome. All known GPCRs share a common architecture of seven membrane-spanning helices connected by intra- and extracellular loops. The extracellular loops contain two highly-conserved cysteine residues that form disulphide bonds to stabilize the structure of the receptor. They recognize diverse messengers such as light, odorants, small molecules, hormones and neurotransmitters. Most GPCRs act as guanine nucleotide exchange factors; activated by ligand binding, they promote GDP-GTP exchange on associated heterotrimeric guanine nucleotide-binding (G) proteins. There are two models for GPCR-G Protein interactions: 1) ligand-GPCR binding first, then binding to G Proteins; 2) \"Pre-coupling\" of GPCRs and G Proteins before ligand binding (review Oldham WM and Hamm HE, 2008). These in turn activate effector enzymes or ion channels. GPCRs are involved in a range of physiological roles which include the visual sense, smell, behavioural regulation, functions of the autonomic nervous system and regulation of the immune system and inflammation. GPCRs are divided into classes based on sequence homology and functional similarity. The main mammalian classes, in order of size, are the Rhodopsin-like family A, the Secretin receptor family B, and the Metabotropic glutamate/pheromone receptor family C."
        ],
        [
         "44",
         "R-HSA-73864",
         "RNA polymerase (Pol) I (one of three eukaryotic nuclear RNA polymerases) is devoted to the transcription of the ribosomal DNA genes, which are found in multiple arrayed copies in every eukaryotic cell. These genes encode for the large ribosomal RNA precursor, which is then processed into the three largest subunits of the ribosomal RNA, the 18S, 28S, and 5.8S RNAs. In human cells the rDNA gene clusters are localized on the short arm of the five pairs of the acrocentric chromosomes. The rRNA promoter has two essential and specially spaced sequences: a CORE element and an upstream control element (UCE, also called UPE). The CORE element of the human promoter overlaps with the transcription start site, extending from 20 to 45, and is required for specific initiation of transcription. The polymerase is a multisubunit complex, composed of two large subunits (the most conserved portions include the catalytic site that shares similarity with other eukaryotic and bacterial multisubunit RNA polymerases) and a number of smaller subunits. Under a number of experimental conditions the core is competent to mediate ribonucleic acid synthesis, in vivo however, it requires additional factors to select the appropriate template. In humans the RNA transcript (45S) is approximately 13,000 nucleotides long. Before leaving the nucleus as assembled ribosomal particles, the 45S rRNA is cleaved to give one copy each of the 28S rRNA, the 18S rRNA, and the 5.8S rRNA. Equal quantities of the three rRNAs are produced by initially transcribing them as one transcript."
        ],
        [
         "45",
         "R-HSA-73857",
         "RNA polymerase II (Pol II) is the central enzyme that catalyses DNA- directed mRNA synthesis during the transcription of protein-coding genes. Pol II consists of a 10-subunit catalytic core, which alone is capable of elongating the RNA transcript, and a complex of two subunits, Rpb4/7, that is required for transcription initiation. The transcription cycle is divided in three major phases: initiation, elongation, and termination. Transcription initiation include promoter DNA binding, DNA melting, and initial synthesis of short RNA transcripts. The transition from initiation to elongation, is referred to as promoter escape and leads to a stable elongation complex that is characterized by an open DNA region or transcription bubble. The bubble contains the DNA-RNA hybrid, a heteroduplex of eight to nine base pairs. The growing 3-end of the RNA is engaged with the polymerase complex active site. Ultimately transcription terminates and Pol II dissocitates from the template."
        ],
        [
         "46",
         "R-HSA-74158",
         "RNA polymerase III is one of three types of nuclear RNA polymerases present in eucaryotic cells. About 10% of the total transcription in dividing cells can be attributed to its activity. It synthesizes an eclectic collection of catalytic or structural RNA molecules, some of which are involved in protein synthesis, pre-mRNA splicing, tRNA processing, and the control of RNA polymerase II elongation, whereas some others have still unknown functions. Like other RNA polymerases, RNA polymerase III cannot recognize its target promoters directly. Instead it is recruited to specific promoter sequences through the help of transcription factors. There are three basic types of RNA polymerase III promoters, called types 1, 2, and 3(Geiduschek and Kassavetis, 1992). Although in vivo, RNA polymerase III may be recruited to these promoters as part of a large complex (holo RNA polymerase III) containing the polymerase and its initiation factors (Wang et al., 1997), in vitro the reaction can be divided into several steps. First, the promoter elements are recognized by DNA binding factors, which then recruit a factor known as TFIIIB. TFIIIB itself then directly contacts RNA polymerase III. In human cells but not in S. cerevisiae, there are at least two versions of TFIIIB. One contains TBP, Bdp1, and Brf1 (Brf1-TFIIIB), and the other TBP, Bdp1, and Brf2 (Brf2-TFIIIB) (Schramm et al., 2000; Teichmann et al., 2000)."
        ],
        [
         "47",
         "R-HSA-73884",
         "Of the three major pathways involved in the repair of nucleotide damage in DNA, base excision repair (BER) involves the greatest number of individual enzymatic activities. This is the consequence of the numerous individual glycosylases, each of which recognizes and removes a specific modified base(s) from DNA. BER is responsible for the repair of the most prevalent types of DNA lesions, oxidatively damaged DNA bases, which arise as a consequence of reactive oxygen species generated by normal mitochondrial metabolism or by oxidative free radicals resulting from ionizing radiation, lipid peroxidation or activated phagocytic cells. BER is a two-step process initiated by one of the DNA glycosylases that recognizes a specific modified base(s) and removes that base through the catalytic cleavage of the glycosydic bond, leaving an abasic site without disruption of the phosphate-sugar DNA backbone. Subsequently, abasic sites are resolved by a series of enzymes that cleave the backbone, insert the replacement residue(s), and ligate the DNA strand. BER may occur by either a single-nucleotide replacement pathway or a multiple-nucleotide patch replacement pathway, depending on the structure of the terminal sugar phosphate residue. The glycosylases found in human cells recognize \"foreign adducts\" and not standard functional modifications such as DNA methylation (Lindahl and Wood 1999, Sokhansanj et al. 2002)."
        ],
        [
         "48",
         "R-HSA-5696398",
         "Nucleotide excision repair (NER) was first described in the model organism E. coli in the early 1960s as a process whereby bulky base damage is enzymatically removed from DNA, facilitating the recovery of DNA synthesis and cell survival. Deficient NER processes have been identified from the cells of cancer-prone patients with different variants of xeroderma pigmentosum (XP), trichothiodystrophy (TTD), and Cockayne's syndrome. The XP cells exhibit an ultraviolet radiation hypersensitivity that leads to a hypermutability response to UV, offering a direct connection between deficient NER, increased mutation rate, and cancer. While the NER pathway in prokaryotes is unique, the pathway utilized in yeast and higher eukaryotes is highly conserved. NER is involved in the repair of bulky adducts in DNA, such as UV-induced photo lesions (both 6-4 photoproducts (6-4 PPDs) and cyclobutane pyrimidine dimers (CPDs)), as well as chemical adducts formed from exposure to aflatoxin, benzopyrene and other genotoxic agents. Specific proteins have been identified that participate in base damage recognition, cleavage of the damaged strand on both sides of the lesion, and excision of the oligonucleotide bearing the lesion. Reparative DNA synthesis and ligation restore the strand to its original state. NER consists of two related pathways called global genome nucleotide excision repair (GG-NER) and transcription-coupled nucleotide excision repair (TC-NER). The pathways differ in the way in which DNA damage is initially recognized, but the majority of the participating molecules are shared between these two branches of NER. GG-NER is transcription-independent, removing lesions from non-coding DNA strands, as well as coding DNA strands that are not being actively transcribed. TC-NER repairs damage in transcribed strands of active genes. Several of the proteins involved in NER are key components of the basal transcription complex TFIIH. An ubiquitin ligase complex composed of DDB1, CUL4A or CUL4B and RBX1 participates in both GG-NER and TC-NER, implying an important role of ubiquitination in NER regulation. The establishment of mutant mouse models for NER genes and other DNA repair-related genes has been useful in demonstrating the associations between NER defects and cancer. For past and recent reviews of nucleotide excision repair, please refer to Lindahl and Wood 1998, Friedberg et al. 2002, Christmann et al. 2003, Hanawalt and Spivak 2008, Marteijn et al. 2014)."
        ],
        [
         "49",
         "R-HSA-2408522",
         "Selenium (Se) is a trace element essential for the normal function of the body. Selenoamino acids are defined as those amino acids where selenium has been substituted for sulphur. Selenium and sulphur share many chemical properties and so the substitution of normal amino acids with selenoamino acids has little effect on protein structure and function. Both inorganic (selenite, SeO3(2-); and selenate, SeO4(2-)) and organic (selenocysteine, Sec; and selenomethionine, SeMet) forms of selenium can be introduced in the diet where they are transformed into the intermediate selenide (Se(2-)) and then utilized for the de novo synthesis of Sec through a phosphorylated intermediate in a tRNA-dependent fashion. The final step of Sec formation is catalyzed by O-phosphoseryl-tRNA:selenocysteinyl-tRNA synthase (SEPSECS) that converts phosphoseryl-tRNA(Sec) to selenocysteinyl-tRNA(Sec). All nutritional selenium is metabolised into selenide directly or through methylselenol (MeSeH). Sec liberated from selenoproteins is transformed to Se(2-) by selenocysteine lyase (SCLY). SeMet liberated from general proteins and from free SeMet sources is transformed into Se(2-) either through MeSeH by cystathionine gamma-lyase (CTH) followed by demethylation (SeMet to CH3SeH to H2Se), or through Sec by SCLY after the trans-selenation pathway (SeMet to Sec to H2Se). MeSec is hydrolysed into MeSeH by CTH. Methylseleninic acid (MeSeO2H) is reduced to methylselenol. MeSeH is demethylated to Se(2-) for further utilization for selenoprotein synthesis or oxidised to selenite (SeO3(2-)) for excretion in the form of selenosugar. Additionally, MeSeH is further methylated to dimethylselenide (Me2Se) and trimethylselenonium (Me3Se+) for excretion."
        ],
        [
         "50",
         "R-HSA-174403",
         "The combination of glutamate, cysteine and ATP is required to form glutathione. The steps involved in the synthesis and recycling of glutathione are outlined (Meister, 1988)."
        ],
        [
         "51",
         "R-HSA-196854",
         "Vitamins are a diverse group of organic compounds, classified according to their solubility, either fat-soluble or water-soluble, that are either not synthesized or synthesized only in limited amounts by human cells. They are required in small amounts in the diet and have distinct biochemical roles, often as coenzymes (cofactors). The physiological processes dependent on vitamin-requiring reactions include many aspects of intermediary metabolism, vision, bone formation, and blood coagulation, and vitamin deficiencies are associated with a correspondingly diverse and severe group of diseases. Metabolic pathways for water-soluble B group and C vitamins, and for fat-soluble vitamins A, D and K are annotated in Reactome, covering processes that convert dietary forms of these molecules into active forms, and that regenerate active forms of vitamin cofactors consumed in other metabolic processes."
        ]
       ],
       "shape": {
        "columns": 2,
        "rows": 2736
       }
      },
      "text/html": [
       "<div>\n",
       "<style scoped>\n",
       "    .dataframe tbody tr th:only-of-type {\n",
       "        vertical-align: middle;\n",
       "    }\n",
       "\n",
       "    .dataframe tbody tr th {\n",
       "        vertical-align: top;\n",
       "    }\n",
       "\n",
       "    .dataframe thead th {\n",
       "        text-align: right;\n",
       "    }\n",
       "</style>\n",
       "<table border=\"1\" class=\"dataframe\">\n",
       "  <thead>\n",
       "    <tr style=\"text-align: right;\">\n",
       "      <th></th>\n",
       "      <th>Reactome_ID</th>\n",
       "      <th>Summation</th>\n",
       "    </tr>\n",
       "  </thead>\n",
       "  <tbody>\n",
       "    <tr>\n",
       "      <th>0</th>\n",
       "      <td>R-HSA-1430728</td>\n",
       "      <td>Metabolic processes in human cells generate en...</td>\n",
       "    </tr>\n",
       "    <tr>\n",
       "      <th>1</th>\n",
       "      <td>R-HSA-162582</td>\n",
       "      <td>Signal transduction is a process in which extr...</td>\n",
       "    </tr>\n",
       "    <tr>\n",
       "      <th>2</th>\n",
       "      <td>R-HSA-71387</td>\n",
       "      <td>Starches and sugars are major constituents of ...</td>\n",
       "    </tr>\n",
       "    <tr>\n",
       "      <th>3</th>\n",
       "      <td>R-HSA-5683057</td>\n",
       "      <td>The mitogen activated protein kinases (MAPKs) ...</td>\n",
       "    </tr>\n",
       "    <tr>\n",
       "      <th>4</th>\n",
       "      <td>R-HSA-195721</td>\n",
       "      <td>WNT signaling pathways control a wide range of...</td>\n",
       "    </tr>\n",
       "    <tr>\n",
       "      <th>...</th>\n",
       "      <td>...</td>\n",
       "      <td>...</td>\n",
       "    </tr>\n",
       "    <tr>\n",
       "      <th>2757</th>\n",
       "      <td>R-HSA-9925561</td>\n",
       "      <td>The exocrine pancreas, which comprises more th...</td>\n",
       "    </tr>\n",
       "    <tr>\n",
       "      <th>2758</th>\n",
       "      <td>R-HSA-9926550</td>\n",
       "      <td>Studies in melanoma cells have identified MITF...</td>\n",
       "    </tr>\n",
       "    <tr>\n",
       "      <th>2759</th>\n",
       "      <td>R-HSA-9927353</td>\n",
       "      <td>BTLA (B and T Lymphocyte Attenuator) is a co-i...</td>\n",
       "    </tr>\n",
       "    <tr>\n",
       "      <th>2760</th>\n",
       "      <td>R-HSA-9927354</td>\n",
       "      <td>ICOS (Inducible T-cell COStimulator) is a crit...</td>\n",
       "    </tr>\n",
       "    <tr>\n",
       "      <th>2761</th>\n",
       "      <td>R-HSA-997272</td>\n",
       "      <td>GABA B receptors are coupled to Gproteins and ...</td>\n",
       "    </tr>\n",
       "  </tbody>\n",
       "</table>\n",
       "<p>2736 rows × 2 columns</p>\n",
       "</div>"
      ],
      "text/plain": [
       "        Reactome_ID                                          Summation\n",
       "0     R-HSA-1430728  Metabolic processes in human cells generate en...\n",
       "1      R-HSA-162582  Signal transduction is a process in which extr...\n",
       "2       R-HSA-71387  Starches and sugars are major constituents of ...\n",
       "3     R-HSA-5683057  The mitogen activated protein kinases (MAPKs) ...\n",
       "4      R-HSA-195721  WNT signaling pathways control a wide range of...\n",
       "...             ...                                                ...\n",
       "2757  R-HSA-9925561  The exocrine pancreas, which comprises more th...\n",
       "2758  R-HSA-9926550  Studies in melanoma cells have identified MITF...\n",
       "2759  R-HSA-9927353  BTLA (B and T Lymphocyte Attenuator) is a co-i...\n",
       "2760  R-HSA-9927354  ICOS (Inducible T-cell COStimulator) is a crit...\n",
       "2761   R-HSA-997272  GABA B receptors are coupled to Gproteins and ...\n",
       "\n",
       "[2736 rows x 2 columns]"
      ]
     },
     "execution_count": 7,
     "metadata": {},
     "output_type": "execute_result"
    }
   ],
   "source": [
    "import re\n",
    "\n",
    "def extract_content(summation):\n",
    "    match = re.match(r\"^\\d+\\s+(.*?)\\s+Summation$\", summation)\n",
    "    if match:\n",
    "        return match.group(1)\n",
    "    return summation\n",
    "\n",
    "reactome_df = pd.read_csv('reactome_def.csv')\n",
    "reactome_df = reactome_df[~reactome_df['Summation'].str.contains('Error', case = False, na = False)]\n",
    "reactome_df['Summation'] = reactome_df['Summation'].apply(extract_content)\n",
    "reactome_df"
   ]
  },
  {
   "cell_type": "code",
   "execution_count": 8,
   "metadata": {},
   "outputs": [
    {
     "data": {
      "application/vnd.microsoft.datawrangler.viewer.v0+json": {
       "columns": [
        {
         "name": "index",
         "rawType": "int64",
         "type": "integer"
        },
        {
         "name": "BioMedGraphica_ID",
         "rawType": "object",
         "type": "string"
        },
        {
         "name": "Reactome",
         "rawType": "object",
         "type": "unknown"
        }
       ],
       "conversionMethod": "pd.DataFrame",
       "ref": "fc1824b5-8e61-4d91-8caf-daae1f3b8845",
       "rows": [
        [
         "0",
         "BMG_PW0001",
         null
        ],
        [
         "1",
         "BMG_PW0002",
         "Metabolic processes in human cells generate energy through the oxidation of molecules consumed in the diet and mediate the synthesis of diverse essential molecules not taken in the diet as well as the inactivation and elimination of toxic ones generated endogenously or present in the extracellular environment. The processes of energy metabolism can be classified into two groups according to whether they involve carbohydrate-derived or lipid-derived molecules, and within each group it is useful to distinguish processes that mediate the breakdown and oxidation of these molecules to yield energy from ones that mediate their synthesis and storage as internal energy reserves. Synthetic reactions are conveniently grouped by the chemical nature of the end products, such as nucleotides, amino acids and related molecules, and porphyrins. Detoxification reactions (biological oxidations) are likewise conveniently classified by the chemical nature of the toxin. At the same time, all of these processes are tightly integrated. Intermediates in reactions of energy generation are starting materials for biosyntheses of amino acids and other compounds, broad-specificity oxidoreductase enzymes can be involved in both detoxification reactions and biosyntheses, and hormone-mediated signaling processes function to coordinate the operation of energy-generating and energy-storing reactions and to couple these to other biosynthetic processes."
        ],
        [
         "2",
         "BMG_PW0003",
         "Signal transduction is a process in which extracellular signals elicit changes in cell state and activity. Transmembrane receptors sense changes in the cellular environment by binding ligands, such as hormones and growth factors, or reacting to other types of stimuli, such as light. Stimulation of transmembrane receptors leads to their conformational change which propagates the signal to the intracellular environment by activating downstream signaling cascades. Depending on the cellular context, this may impact cellular proliferation, differentiation, and survival. On the organism level, signal transduction regulates overall growth and behavior. Receptor tyrosine kinases (RTKs) transmit extracellular signals by phosphorylating their protein partners on conserved tyrosine residues. Some of the best studied RTKs are EGFR (reviewed in Avraham and Yarden, 2011), FGFR (reviewed in Eswarakumar et al, 2005), insulin receptor (reviewed in Saltiel and Kahn, 2001), NGF (reviewed in Reichardt, 2006), PDGF (reviewed in Andrae et al, 2008) and VEGF (reviewed in Xie et al, 2004). RTKs frequently activate downstream signaling through RAF/MAP kinases (reviewed in McKay and Morrison, 2007 and Wellbrock et al 2004), AKT (reviewed in Manning and Cantley, 2007) and PLC- gamma (reviewed in Patterson et al, 2005), which ultimately results in changes in gene expression and cellular metabolism. Receptor serine/threonine kinases of the TGF-beta family, such as TGF-beta receptors (reviewed in Kang et al. 2009) and BMP receptors (reviewed in Miyazono et al. 2009), transmit extracellular signals by phosphorylating regulatory SMAD proteins on conserved serine and threonine residues. This leads to formation of complexes of regulatory SMADs and SMAD4, which translocate to the nucleus where they act as transcription factors. WNT receptors transmit their signal through beta-catenin. In the absence of ligand, beta-catenin is constitutively degraded in a ubiquitin-dependent manner. WNT receptor stimulation releases beta-catenin from the destruction complex, allowing it to translocate to the nucleus where it acts as a transcriptional regulator (reviewed in MacDonald et al, 2009 and Angers and Moon, 2009). WNT receptors were originally classified as G-protein coupled receptors (GPCRs). Although they are structurally related, GPCRs primarily transmit their signals through G-proteins, which are trimers of alpha, beta and gamma subunits. When a GPCR is activated, it acts as a guanine nucleotide exchange factor, catalyzing GDP to GTP exchange on the G-alpha subunit of the G protein and its dissociation from the gamma-beta heterodimer. The G-alpha subunit regulates the activity of adenylate cyclase, while the gamma-beta heterodimer can activate AKT and PLC signaling (reviewed in Rosenbaum et al. 2009, Oldham and Hamm 2008, Ritter and Hall 2009). NOTCH receptors are activated by transmembrane ligands expressed on neighboring cells, which results in cleavage of NOTCH receptor and release of its intracellular domain. NOTCH intracellular domain translocates to the nucleus where it acts as a transcription factor (reviewed in Kopan and Ilagan, 2009). Integrins are activated by extracellular matrix components, such as fibronectin and collagen, leading to conformational change and clustering of integrins on the cell surface. This results in activation of integrin-linked kinase and other cytosolic kinases and, in co-operation with RTK signaling, regulates survival, proliferation and cell shape and adhesion (reviewed in Hehlgans et al, 2007) . Besides inducing changes in gene expression and cellular metabolism, extracellular signals that trigger the activation of Rho GTP-ases can trigger changes in the organization of cytoskeleton, thereby regulating cell polarity and cell-cell junctions (reviewed in Citi et al, 2011)."
        ],
        [
         "3",
         "BMG_PW0004",
         null
        ],
        [
         "4",
         "BMG_PW0005",
         "Starches and sugars are major constituents of the human diet and the catabolism of monosaccharides, notably glucose, derived from them is an essential part of human energy metabolism (Dashty 2013). Glucose can be catabolized to pyruvate (glycolysis) and pyruvate synthesized from diverse sources can be metabolized to form glucose (gluconeogenesis). Glucose can be polymerized to form glycogen under conditions of glucose excess (glycogen synthesis), and glycogen can be broken down to glucose in response to stress or starvation (glycogenolysis). Other monosaccharides prominent in the diet, fructose and galactose, can be converted to glucose. The disaccharide lactose, the major carbohydrate in breast milk, is synthesized in the lactating mammary gland. The pentose phosphate pathway allows the synthesis of diverse monosaccharides from glucose including the pentose ribose-5-phosphate and the regulatory molecule xylulose-5-phosphate, as well as the generation of reducing equivalents for biosynthetic processes. Glycosaminoglycan metabolism and xylulose-5-phosphate synthesis from glucuronate are also annotated as parts of carbohydrate metabolism. The digestion of dietary starch and sugars and the uptake of the resulting monosaccharides into the circulation from the small intestine are annotated as parts of the “Digestion and absorption” pathway."
        ],
        [
         "5",
         "BMG_PW0006",
         null
        ],
        [
         "6",
         "BMG_PW0007",
         "The mitogen activated protein kinases (MAPKs) are a family of conserved protein serine threonine kinases that respond to varied extracellular stimuli to activate intracellular processes including gene expression, metabolism, proliferation, differentiation and apoptosis, among others. The classic MAPK cascades, including the ERK1/2 pathway, the p38 MAPK pathway, the JNK pathway and the ERK5 pathway are characterized by three tiers of sequentially acting, activating kinases (reviewed in Kryiakis and Avruch, 2012; Cargnello and Roux, 2011). The MAPK kinase kinase kinase (MAPKKK), at the top of the cascade, is phosphorylated on serine and threonine residues in response to external stimuli; this phosphorylation often occurs in the context of an interaction between the MAPKKK protein and a member of the RAS/RHO family of small GTP-binding proteins. Activated MAPKKK proteins in turn phosphorylate the dual-specificity MAPK kinase proteins (MAPKK), which ultimately phosphorylate the MAPK proteins in a conserved Thr-X-Tyr motif in the activation loop. Less is known about the activation of the atypical families of MAPKs, which include the ERK3/4 signaling cascade, the ERK7 cascade and the NLK cascade. Although the details are not fully worked out, these MAPK proteins don't appear to be phosphorylated downstream of a 3-tiered kinase system as described above (reviewed in Coulombe and Meloche, 2007; Cargnello and Roux, 2011) . Both conventional and atypical MAPKs are proline-directed serine threonine kinases and, once activated, phosphorylate substrates in the consensus P-X-S/T-P site. Both cytosolic and nuclear targets of MAPK proteins have been identified and upon stimulation, a proportion of the phosphorylated MAPKs relocalize from the cytoplasm to the nucleus. In some cases, nuclear translocation may be accompanied by dimerization, although the relationship between these two events is not fully elaborated (reviewed in Kryiakis and Avruch, 2012; Cargnello and Roux, 2011; Plotnikov et al, 2010)."
        ],
        [
         "7",
         "BMG_PW0008",
         "WNT signaling pathways control a wide range of developmental and adult process in metozoans including cell proliferation, cell fate decisions, cell polarity and stem cell maintenance (reviewed in Saito-Diaz et al, 2013; MacDonald et al, 2009). The pathway is named for the WNT ligands, a large family of secreted cysteine-rich glycoproteins. At least 19 WNT members have been identified in humans and mice with distinct expression patterns during development (reviewed in Willert and Nusse, 2012). These ligands can activate at least three different downstream signaling cascades depending on which receptors they engage. In the so-called 'canonical' WNT signaling pathway, WNT ligands bind one of the 10 human Frizzled (FZD) receptors in conjunction with the LRP5/6 co-receptors to activate a transcriptional cascade that controls processes such as cell fate, proliferation and self-renenwal of stem cells. Engagement of the FZD-LRP receptor by WNT ligand results in the stabilization and translocation of cytosolic beta-catenin to the nucleus where it is a co-activator for LEF (lymphoid enhancer-binding factor)- and TCF (T cell factor) -dependent transcription. In the absence of WNT ligand, cytosolic beta-catenin is phosphorylated by a degradation complex consisting of glycogen synthase kinase 3 (GSK3), casein kinase 1 (CK1), Axin and Adenomatous polyposis coli (APC), and subsequently ubiquitinated and degraded by the 26S proteasome (reviewed in Saito-Diaz et al, 2013; Kimmelman and Xu, 2006). In addition to the beta-catenin-dependent transcriptional response, WNT signaling can also activate distinct non-transcriptional pathways that regulate cell migration and polarity. These beta-catenin-independent 'non-canonical' pathways signal through Frizzled receptors independently of LRP5/6, or occur through the tyrosine kinase receptors ROR and RYK (reviewed in Veeman et al, 2003; James et al, 2009). Non-canonical WNT pathways are best studied in Drosophila where the planar cell polarity (PCP) pathway controls the orientation of wing hairs and eye facets, but are also involved in processes such as convergent extension, neural tube closure, inner ear development and hair orientation in vertebrates and mammals(reviewed in Seifert and Mlodzik, 2007; Simons and Mlodzik, 2008). In the PCP pathway, binding of WNT ligand to the FZD receptor leads to activation of small Rho GTPases and JNK, which regulate the cytoskeleton and coordinate cell migration and polarity (reviewed in Lai et al, 2009; Schlessinger et al, 2009). In some cases, a FZD-WNT interaction increases intracellular calcium concentration and activates CaMK II and PKC; this WNT calcium pathway promotes cell migration and inhibits the canonical beta-catenin dependent transcriptional pathway (reviewed in Kuhl et al, 2000; Kohn and Moon, 2005; Rao et al 2010). Binding of WNT to ROR or RYK receptors also regulates cell migration, apparently through activation of JNK or SRC kinases, respectively, however the details of these pathways remain to be worked out (reviewed in Minami et al, 2010). Although the WNT signaling pathways were originally viewed as discrete, linear pathways controlled by defined subsets of 'canonical' or 'non-canonical' ligands and receptors, the emerging evidence is challenging this notion. Instead, the specificity and the downstream response appear to depend on the particular cellular context and vary with species, tissue and stage of development (reviewed in van Amerongen and Nusse, 2009; Rao et al, 2010)."
        ],
        [
         "8",
         "BMG_PW0009",
         "Apoptosis is a distinct form of cell death that is functionally and morphologically different from necrosis. Nuclear chromatin condensation, cytoplasmic shrinking, dilated endoplasmic reticulum, and membrane blebbing characterize apoptosis in general. Mitochondria remain morphologically unchanged. In 1972 Kerr et al introduced the concept of apoptosis as a distinct form of \"cell-death\", and the mechanisms of various apoptotic pathways are still being revealed today. The two principal pathways of apoptosis are (1) the Bcl-2 inhibitable or intrinsic pathway induced by various forms of stress like intracellular damage, developmental cues, and external stimuli and (2) the caspase 8/10 dependent or extrinsic pathway initiated by the engagement of death receptors The caspase 8/10 dependent or extrinsic pathway is a death receptor mediated mechanism that results in the activation of caspase-8 and caspase-10. Activation of death receptors like Fas/CD95, TNFR1, and the TRAIL receptor is promoted by the TNF family of ligands including FASL (APO1L OR CD95L), TNF, LT-alpha, LT-beta, CD40L, LIGHT, RANKL, BLYS/BAFF, and APO2L/TRAIL. These ligands are released in response to microbial infection, or as part of the cellular, humoral immunity responses during the formation of lymphoid organs, activation of dendritic cells, stimulation or survival of T, B, and natural killer (NK) cells, cytotoxic response to viral infection or oncogenic transformation. The Bcl-2 inhibitable or intrinsic pathway of apoptosis is a stress-inducible process, and acts through the activation of caspase-9 via Apaf-1 and cytochrome c. The rupture of the mitochondrial membrane, a rapid process involving some of the Bcl-2 family proteins, releases these molecules into the cytoplasm. Examples of cellular processes that may induce the intrinsic pathway in response to various damage signals include: auto reactivity in lymphocytes, cytokine deprivation, calcium flux or cellular damage by cytotoxic drugs like taxol, deprivation of nutrients like glucose and growth factors like EGF, anoikis, transactivation of target genes by tumor suppressors including p53. In many non-immune cells, death signals initiated by the extrinsic pathway are amplified by connections to the intrinsic pathway. The connecting link appears to be the truncated BID (tBID) protein a proteolytic cleavage product mediated by caspase-8 or other enzymes."
        ],
        [
         "9",
         "BMG_PW0010",
         "Lipids are hydrophobic but otherwise chemically diverse molecules that play a wide variety of roles in human biology. They include ketone bodies, fatty acids, triacylglycerols, phospholipids and sphingolipids, eicosanoids, cholesterol, bile salts, steroid hormones, and fat-soluble vitamins. They function as a major source of energy (fatty acids, triacylglycerols, and ketone bodies), are major constituents of cell membranes (cholesterol and phospholipids), play a major role in their own digestion and uptake (bile salts), and participate in numerous signaling and regulatory processes (steroid hormones, eicosanoids, phosphatidylinositols, and sphingolipids) (Vance & Vance 2008 - URL). The central steroid in human biology is cholesterol, obtained from animal fats consumed in the diet or synthesized de novo from acetyl-coenzyme A. (Vegetable fats contain various sterols but no cholesterol.) Cholesterol is an essential constituent of lipid bilayer membranes and is the starting point for the biosyntheses of bile acids and salts, steroid hormones, and vitamin D. Bile acids and salts are mostly synthesized in the liver. They are released into the intestine and function as detergents to solubilize dietary fats. Steroid hormones are mostly synthesized in the adrenal gland and gonads. They regulate energy metabolism and stress responses (glucocorticoids), salt balance (mineralocorticoids), and sexual development and function (androgens and estrogens). At the same time, chronically elevated cholesterol levels in the body are associated with the formation of atherosclerotic lesions and hence increased risk of heart attacks and strokes. The human body lacks a mechanism for degrading excess cholesterol, although an appreciable amount is lost daily in the form of bile salts and acids that escape recycling. Aspects of lipid metabolism currently annotated in Reactome include lipid digestion, mobilization, and transport; fatty acid, triacylglycerol, and ketone body metabolism; peroxisomal lipid metabolism; phospholipid and sphingolipid metabolism; cholesterol biosynthesis; bile acid and bile salt metabolism; and steroid hormone biosynthesis."
        ],
        [
         "10",
         "BMG_PW0011",
         null
        ],
        [
         "11",
         "BMG_PW0012",
         "Nucleotides and their derivatives are used for short-term energy storage (ATP, GTP), for intra- and extra-cellular signaling (cAMP; adenosine), as enzyme cofactors (NAD, FAD), and for the synthesis of DNA and RNA. Most dietary nucleotides are consumed by gut flora; the human body's own supply of these molecules is synthesized de novo. Additional metabolic pathways allow the interconversion of nucleotides, the salvage and reutilization of nucleotides released by degradation of DNA and RNA, the catabolism of excess nucleotides, and the transport of these molecules between the cytosol and the nucleus (Rudolph 1994). These pathways are regulated to control the total size of the intracellular nucleotide pool, to balance the relative amounts of individual nucleotides, and to couple the synthesis of deoxyribonucleotides to the onset of DNA replication (S phase of the cell cycle). These pathways are also of major clinical interest as they are the means by which nucleotide analogues used as anti-viral and anti-tumor drugs are taken up by cells, activated, and catabolized (Weilin and Nordlund 2010). As well, differences in nucleotide metabolic pathways between humans and aplicomplexan parasites like Plasmodium have been exploited to design drugs to attack the latter (Hyde 2007). The movement of nucleotides and purine and pyrimidine bases across lipid bilayer membranes, mediated by SLC transporters, is annotated as part of the module \"transmembrane transport of small molecules\"."
        ],
        [
         "12",
         "BMG_PW0013",
         "Biological processes are captured in Reactome by identifying the molecules (DNA, RNA, protein, small molecules) involved in them and describing the details of their interactions. From this molecular viewpoint, human disease pathways have three mechanistic causes: the inclusion of microbially-expressed proteins, altered functions of human proteins, or changed expression levels of otherwise functionally normal human proteins. The first group encompasses the infectious diseases such as influenza, tuberculosis and HIV infection. The second group involves human proteins modified either by a mutation or by an abnormal post-translational event that produces an aberrant protein with a novel function. Examples include somatic mutations of EGFR and FGFR (epidermal and fibroblast growth factor receptor) genes, which encode constitutively active receptors that signal even in the absence of their ligands, or the somatic mutation of IDH1 (isocitrate dehydrogenase 1) that leads to an enzyme active on 2-oxoglutarate rather than isocitrate, or the abnormal protein aggregations of amyloidosis which lead to diseases such as Alzheimer's. Infectious diseases are represented in Reactome as microbial-human protein interactions and the consequent events. The existence of variant proteins and their association with disease-specific biological processes is represented by inclusion of the modified protein in a new or variant reaction, an extension to the 'normal' pathway. Diseases which result from proteins performing their normal functions but at abnormal rates can also be captured, though less directly. Many mutant alleles encode proteins that retain their normal functions but have abnormal stabilities or catalytic efficiencies, leading to normal reactions that proceed to abnormal extents. The phenotypes of such diseases can be revealed when pathway annotations are combined with expression or rate data from other sources. Depending on the biological pathway/process immediately affected by disease-causing gene variants, non-infectious diseases in Reactome are organized into diseases of signal transduction by growth factore receptors and second messengers, diseases of mitotic cell cycle, diseases of cellular response to stress, diseases of programmed cell death, diseases of DNA repair, disorders of transmembrane transporters, diseases of metabolism, diseases of immune system, diseases of neuronal system, disorders of developmental biology, disorders of extracellular matrix organization, and diseases of hemostatis."
        ],
        [
         "13",
         "BMG_PW0014",
         "Neurodegenerative diseases manifest as the progressive dysfunction and loss of neurons, which is frequently accompanied by formation of misfolded protein deposits in the brain. Classification of neurodegenerative diseases is based on clinical symptoms, which depend on the anatomical region affected by neuronal dysfunction, the identity of misfolded proteins and cellular and subcellular pathology. In Alzheimer’s disease (AD), beta-amyloid protein (APP) deposits form in the extracellular space, where they can make plaques, while abnormally phosphorylated tau protein (MAPT) accumulates in neuronal cells. Beside AD, neuronal and/or glial inclusions of hyperphosphorylated tau are also found in Pick disease (PiD), neurofibrillary tangle-dementia (NFT), primary age-related tauopathy (PART), progressive supranuclear palsy (PSP), corticobasal degeneration (CBD), argyrophilic grain disease (AGD) and globular glial tauopathies (GGT). In prion disease, such as Creutzfeldt-Jakob disease, deposits of PrP protein are formed mostly in the extracellular and presynaptic space. PrP deposits in neuronal cell bodies are mainly confined to endosomes and lysosomes, which is attributed to neuronal uptake of pathological proteins and intercellular prion spreading. In Parkinson disease (PD) and dementia with Lewy bodies (DLB), deposits of alpha-synuclein (SNCA) are formed in the cytoplasm of neuronal cell bodies and neurites. In multiple system atrophy (MSA), deposits of alpha-synuclein form in the cytoplasm of glial cells (Papp-Lantos bodies). Amyotrophic lateral sclerosis (ALS) and frontotemporal lobar degeneration (FTLD) are characterized by ubiquitin-positive cytoplasmic inclusions of TAR DNA-binding protein 43 (TARDBP, commonly known as TDP-43), a protein that normally localizes to the nucleus. Pathological TDP-43 inclusions have been associated with the TDP-43 gene mutations, as well as mutations in several other genes, including C9orf72, GRN, VCP, SQSTM1, DCTN1 and OPTN. TDP-43 inclusions have also been reported in AD, DLB, hippocampal sclerosis (HS) and chronic traumatic encephalopathy. FUS protein-positive inclusion bodies are found in familial ALS, caused by mutations in the FUS gene, as well as in a small subgroup of FTLD-related diseases. FUS-positive inclusions may be accompanied by FET protein-positive inclusions. For a detailed review of molecular pathology of neurodegenerative diseases, please refer to Kovacs 2016. Within this broad domain, the process by which APP-triggered deregulation of CDK5 (cyclin-dependent kinase 5) triggers multiple neurodegenerative pathways associated with Alzheimer's disease has been annotated."
        ],
        [
         "14",
         "BMG_PW0015",
         null
        ],
        [
         "15",
         "BMG_PW0016",
         null
        ],
        [
         "16",
         "BMG_PW0017",
         null
        ],
        [
         "17",
         "BMG_PW0018",
         null
        ],
        [
         "18",
         "BMG_PW0019",
         null
        ],
        [
         "19",
         "BMG_PW0020",
         null
        ],
        [
         "20",
         "BMG_PW0021",
         null
        ],
        [
         "21",
         "BMG_PW0022",
         null
        ],
        [
         "22",
         "BMG_PW0023",
         "Humans are exposed to millions of potential pathogens daily, through contact, ingestion, and inhalation. Our ability to avoid infection depends on the adaptive immune system and during the first critical hours and days of exposure to a new pathogen, our innate immune system."
        ],
        [
         "23",
         "BMG_PW0024",
         null
        ],
        [
         "24",
         "BMG_PW0025",
         null
        ],
        [
         "25",
         "BMG_PW0026",
         "In the citric acid or tricarboxylic acid (TCA) cycle, the acetyl group of acetyl CoA (derived primarily from oxidative decarboxylation of pyruvate, beta-oxidation of long-chain fatty acids, and catabolism of ketone bodies and several amino acids) can be completely oxidized to CO2 in reactions that also yield one high-energy phosphate bond (as GTP or ATP) and four reducing equivalents (three NADH + H+, and one FADH2). Then, the electron transport chain oxidizes NADH and FADH2 to yield nine more high-energy phosphate bonds (as ATP). All reactions of the citric acid cycle take place in the mitochondrion. Eight canonical reactions mediate the synthesis of citrate from acetyl-CoA and oxaloacetate and the metabolism of citrate to re-form oxaloacetate. Three reactions are reversible: the interconversions of citrate and isocitrate, of fumarate and malate, and of malate and oxaloacetate. The reverse reactions are irrelevant under normal physiological conditions but appear to have a role in glucose- and glutamine-stimulated insulin secretion (Zhang et al., 2020) and cancer metabolism (e.g., Jiang et al., 2016). Succinate synthesis from succinyl-CoA can be coupled to the phosphorylation of either GDP (the canonical reaction) or ADP; we annotate both reactions. Two mitochondrial isocitrate dehydrogenase isozymes catalyze the oxidative decarboxylation of isocitrate to form alpha-ketoglutarate (2-oxoglutarate): IDH3 catalyzes the canonical reaction coupled to the reduction of NAD+, while IDH2 catalyzes the same reaction coupled to the reduction of NADP+, a reaction whose normal physiological function is unclear. Both reactions are annotated. The cyclical nature of the reactions responsible for the oxidation of acetate was first suggested by Hans Krebs from biochemical studies of pigeon breast muscle (Krebs et al., 1938; Krebs and Eggleston, 1940). Ochoa and colleagues studied many molecular details of individual reactions, mainly by studying enzymes purified from pig hearts (Ochoa, 1980). While the human homologs of these enzymes have all been identified, their biochemical characterization has, in general, been limited, and many molecular details of the human reactions are inferred from those worked out in studies of the model systems. Studies examining the impact of elevated citric acid cycle intermediates such as succinate and fumarate led to the recognition of the role of metabolites in driving cancer progression ('oncometabolites') (Pollard et al., 2005; reviewed in Hayashi et al., 2018). The role of TCA enzymes in disease was reviewed by Kang et al., 2021."
        ],
        [
         "26",
         "BMG_PW0027",
         null
        ],
        [
         "27",
         "BMG_PW0028",
         null
        ],
        [
         "28",
         "BMG_PW0029",
         null
        ],
        [
         "29",
         "BMG_PW0030",
         null
        ],
        [
         "30",
         "BMG_PW0031",
         null
        ],
        [
         "31",
         "BMG_PW0032",
         null
        ],
        [
         "32",
         "BMG_PW0033",
         "Mitochondria are often described as the \"powerhouse\" of a cell as it is here that energy is largely released from the oxidation of food. Reducing equivalents generated from beta-oxidation of fatty acids and from the Krebs cycle enter the electron transport chain (also called the respiratory chain). During a series of redox reactions, electrons travel down the chain releasing their energy in controlled steps. These reactions drive the active transport of protons from the mitochondrial matrix , through the inner membrane to the intermembrane space. The respiratory chain consists of five main types of carrier; flavins, iron-sulfur centres, quinones, cytochromes (heme proteins) and copper. The two main reducing equivalents entering the respiratory chain are NADH and FADH2. NADH is linked through the NADH-specific dehydrogenase whereas FADH2 is reoxidised within succinate dehydrogenase and a ubiquinone reductase of the fatty acid oxidation pathway. Oxygen is the final acceptor of electrons and with protons, is converted to form water, the end product of aerobic cellular respiration. A proton electrochemical gradient (often called protonmotive force) is established across the inner membrane, with positive charge in the intermembrane space relative to the matrix. Protons driven by the proton-motive force, can enter ATP synthase thus returning to the mitochondrial matrix. ATP synthases use this exergonic flow to form ATP in the matrix, a process called chemiosmotic coupling. A by-product of this process is heat generation. An antiport, ATP-ADP translocase, preferentially exports ATP from the matrix thereby maintaining a high ADP:ATP ratio in the matrix. The tight coupling of electron flow to ATP synthesis means oxygen consumption is dependent on ADP availability (termed respiratory control). High ADP (low ATP) increases electron flow thereby increasing oxygen consumption and low ADP (high ATP) decreases electron flow and thereby decreases oxygen consumption. There are many inhibitors of mitochondrial ATP synthesis. Most act by either blocking the flow of electrons (eg cyanide, carbon monoxide, rotenone) or uncoupling electron flow from ATP synthesis (eg dinitrophenol). Thermogenin is a natural protein found in brown fat. Newborn babies have a large amount of brown fat and the heat generated by thermogenin is an alternative to ATP synthesis (and thus electron flow only produces heat) and allows the maintenance of body temperature in newborns. The electron transport chain is located in the inner mitochondrial membrane and comprises some 80 proteins organized in four enzymatic complexes (I-IV). Complex V generates ATP but has no electron transfer activity. In addition to these 5 complexes, there are also two electron shuttle molecules; Coenzyme Q (also known as ubiquinone, CoQ) and Cytochrome c (Cytc). These two molecules shuttle electrons between the large complexes in the chain. How many ATPs are generated by this process? Theoretically, for each glucose molecule, 32 ATPs can be produced. As electrons drop from NADH to oxygen in the chain, the number of protons pumped out and returning through ATP synthase can produce 2.5 ATPs per electron pair. For each pair donated by FADH2, only 1.5 ATPs can be formed. Twelve pairs of electrons are removed from each glucose molecule; 10 by NAD+ = 25 ATPs 2 by FADH2 = 3 ATPs. Making a total of 28 ATPs. However, 2 ATPs are formed during the Krebs' cycle and 2 ATPs formed during glycolysis for each glucose molecule therefore making a total ATP yield of 32 ATPs. In reality, the energy from the respiratory chain is used for other processes (such as active transport of important ions and molecules) so under conditions of normal respiration, the actual ATP yield probably does not reach 32 ATPs. The reducing equivalents that fuel the electron transport chain, namely NADH and FADH2, are produced by the Krebs cycle (TCA cycle) and the beta-oxidation of fatty acids. At three steps in the Krebs cycle (isocitrate conversion to oxoglutarate; oxoglutarate conversion to succinyl-CoA; Malate conversion to oxaloacetate), a pair of electrons (2e-) are removed and transferred to NAD+, forming NADH and H+. At a single step, a pair of electrons are removed from succinate, reducing FAD to FADH2. From the beta-oxidation of fatty acids, one step in the process forms NADH and H+ and another step forms FADH2. Cytoplasmic NADH, generated from glycolysis, has to be oxidized to reform NAD+, essential for glycolysis, otherwise glycolysis would cease to function. There is no carrier that transports NADH directly into the mitochondrial matrix and the inner mitochondrial membrane is impermeable to NADH so the cell uses two shuttle systems to move reducing equivalents into the mitochondrion and regenerate cytosolic NAD+. The first is the glycerol phosphate shuttle, which uses electrons from cytosolic NADH to produce FADH2 within the inner membrane. These electrons then flow to Coenzyme Q. Complex I is bypassed so only 1.5 ATPs can be formed per NADH via this route. The overall balanced equation, summing all the reactions in this system, is NADH (cytosol) + H+ (cytosol) + NAD+ (mito.) = NAD+ (cytosol) + NADH (mito.) + H+ (mito.) The malate-aspartate shuttle uses the oxidation of malate to generate NADH in the mitochondrial matrix. This NADH can then be fed directly to complex I and thus can form 3 ATPs via the respiratory chain. The overall balanced equation is NADH (cytosol) + H+ (cytosol) + FAD (inner memb.) = NAD+ (cytosol) + FADH2 (inner memb.) Both of these shuttle systems regenerate cytosolic NAD+. The entry point for NADH is complex I (NADH dehydrogenase) and the entry point for FADH2 is Coenzyme Q. The input of electrons from fatty acid oxidation via ubiquinone is complicated and not shown in the diagram."
        ],
        [
         "33",
         "BMG_PW0034",
         null
        ],
        [
         "34",
         "BMG_PW0035",
         null
        ],
        [
         "35",
         "BMG_PW0036",
         null
        ],
        [
         "36",
         "BMG_PW0037",
         null
        ],
        [
         "37",
         "BMG_PW0038",
         null
        ],
        [
         "38",
         "BMG_PW0039",
         null
        ],
        [
         "39",
         "BMG_PW0040",
         null
        ],
        [
         "40",
         "BMG_PW0041",
         null
        ],
        [
         "41",
         "BMG_PW0042",
         "Pyruvate sits at an intersection of key pathways of energy metabolism. It is the end product of glycolysis and the starting point for gluconeogenesis and can be generated by the transamination of alanine. The pyruvate dehydrogenase complex can convert it to acetyl CoA (Reed and Hackert 1990), which can enter the TCA cycle or serve as the starting point for the syntheses of long-chain fatty acids, steroids, and ketone bodies depending on the tissue and metabolic state in which it is formed. It also plays a central role in balancing the energy needs of various tissues in the body. Under conditions in which oxygen supply is limiting, e.g., in exercising muscle, or in the absence of mitochondria, e.g., in red blood cells, re-oxidation of NADH produced by glycolysis cannot be coupled to the generation of ATP. Instead, re-oxidation is coupled to the reduction of pyruvate to lactate. This lactate is released into the blood and taken up primarily by the liver, where it is oxidized to pyruvate and can be used for gluconeogenesis (Cori 1981). For a recent review, see Prochownik & Wang, 2021."
        ],
        [
         "42",
         "BMG_PW0043",
         null
        ],
        [
         "43",
         "BMG_PW0044",
         "The pentose phosphate pathway is responsible for the generation of a substantial fraction of the cytoplasmic NADPH required for biosynthetic reactions, and for the generation of ribose 5-phosphate for nucleotide synthesis. Although the pentose phosphate pathway and glycolysis are distinct, they involve three common intermediates, glucose 6-phosphate, glyceraldehyde 3-phosphate, and fructose 6-phosphate, so the two pathways are interconnected. The pentose phosphate pathway consists of eight reactions:1. Conversion glucose 6-phosphate to D-glucono-1,5-lactone 6-phosphate, with the formation of NADPH; 2. Conversion of D-glucono-1,5-lactone 6-phosphate to 6-phospho-D-gluconate; 3. Conversion of 6-phospho-D-gluconate to ribulose 5-phosphate, with the formation of NADPH; 4. Conversion of ribulose 5-phosphate to xylulose 5-phosphate; 5. Conversion of ribulose 5-phosphate to ribose 5-phosphate; 6. Rearrangement of ribose 5-phosphate and xylulose 5-phosphate to form sedoheptulose 7-phosphate and glyceraldehyde 3-phosphate; 7. Rearrangement of sedoheptulose 7-phosphate and glyceraldehyde 3-phosphate to form erythrose 4-phosphate and fructose 6-phosphate; and 8. Rearrangement of xylulose 5-phosphate and erythrose 4-phosphate to form glyceraldehyde 3-phosphate and fructose-6-phosphate. The oxidative branch of the pentose phosphate pathway, reactions 1-3, generates NADPH and pentose 5-phosphate. The non-oxidative branch of the pathway, reactions 4-8, converts pentose 5-phosphate to other sugars. The overall pathway can operate to generate only NADPH (glucose 6-phosphate is converted to pentose 5-phosphates, which are directed to the synthesis of fructose 6-phosphate and glyceraldehyde 3-phosphate, which in turn are converted back to glucose 6-phosphate). The reactions of the non-oxidative branch can operate to generate net amounts of ribose 5-phosphate with no production of NADPH. Net flux through this network of reactions appears to depend on the metabolic state of the cell and the nature of the biosynthetic reactions underway (Casazza and Veech 1987). G6PD, the enzyme that catalyzes the first reaction of the pathway, is more extensively mutated in human populations than any other enzyme, pehaps because these mutant alleles confer malaria resistance (Luzzatto and Afolayan 1968). Mutations affecting other parts of the pathway are rare, though several have been described and studies of their effects have contributed to our understanding of the normal flux of metabolites through this network of reactions (Wamelink et al. 2008)."
        ],
        [
         "44",
         "BMG_PW0045",
         null
        ],
        [
         "45",
         "BMG_PW0046",
         null
        ],
        [
         "46",
         "BMG_PW0047",
         null
        ],
        [
         "47",
         "BMG_PW0048",
         null
        ],
        [
         "48",
         "BMG_PW0049",
         null
        ],
        [
         "49",
         "BMG_PW0050",
         null
        ]
       ],
       "shape": {
        "columns": 2,
        "rows": 6793
       }
      },
      "text/html": [
       "<div>\n",
       "<style scoped>\n",
       "    .dataframe tbody tr th:only-of-type {\n",
       "        vertical-align: middle;\n",
       "    }\n",
       "\n",
       "    .dataframe tbody tr th {\n",
       "        vertical-align: top;\n",
       "    }\n",
       "\n",
       "    .dataframe thead th {\n",
       "        text-align: right;\n",
       "    }\n",
       "</style>\n",
       "<table border=\"1\" class=\"dataframe\">\n",
       "  <thead>\n",
       "    <tr style=\"text-align: right;\">\n",
       "      <th></th>\n",
       "      <th>BioMedGraphica_ID</th>\n",
       "      <th>Reactome</th>\n",
       "    </tr>\n",
       "  </thead>\n",
       "  <tbody>\n",
       "    <tr>\n",
       "      <th>0</th>\n",
       "      <td>BMG_PW0001</td>\n",
       "      <td>NaN</td>\n",
       "    </tr>\n",
       "    <tr>\n",
       "      <th>1</th>\n",
       "      <td>BMG_PW0002</td>\n",
       "      <td>Metabolic processes in human cells generate en...</td>\n",
       "    </tr>\n",
       "    <tr>\n",
       "      <th>2</th>\n",
       "      <td>BMG_PW0003</td>\n",
       "      <td>Signal transduction is a process in which extr...</td>\n",
       "    </tr>\n",
       "    <tr>\n",
       "      <th>3</th>\n",
       "      <td>BMG_PW0004</td>\n",
       "      <td>NaN</td>\n",
       "    </tr>\n",
       "    <tr>\n",
       "      <th>4</th>\n",
       "      <td>BMG_PW0005</td>\n",
       "      <td>Starches and sugars are major constituents of ...</td>\n",
       "    </tr>\n",
       "    <tr>\n",
       "      <th>...</th>\n",
       "      <td>...</td>\n",
       "      <td>...</td>\n",
       "    </tr>\n",
       "    <tr>\n",
       "      <th>6788</th>\n",
       "      <td>BMG_PW6789</td>\n",
       "      <td>NaN</td>\n",
       "    </tr>\n",
       "    <tr>\n",
       "      <th>6789</th>\n",
       "      <td>BMG_PW6790</td>\n",
       "      <td>NaN</td>\n",
       "    </tr>\n",
       "    <tr>\n",
       "      <th>6790</th>\n",
       "      <td>BMG_PW6791</td>\n",
       "      <td>NaN</td>\n",
       "    </tr>\n",
       "    <tr>\n",
       "      <th>6791</th>\n",
       "      <td>BMG_PW6792</td>\n",
       "      <td>NaN</td>\n",
       "    </tr>\n",
       "    <tr>\n",
       "      <th>6792</th>\n",
       "      <td>BMG_PW6793</td>\n",
       "      <td>NaN</td>\n",
       "    </tr>\n",
       "  </tbody>\n",
       "</table>\n",
       "<p>6793 rows × 2 columns</p>\n",
       "</div>"
      ],
      "text/plain": [
       "     BioMedGraphica_ID                                           Reactome\n",
       "0           BMG_PW0001                                                NaN\n",
       "1           BMG_PW0002  Metabolic processes in human cells generate en...\n",
       "2           BMG_PW0003  Signal transduction is a process in which extr...\n",
       "3           BMG_PW0004                                                NaN\n",
       "4           BMG_PW0005  Starches and sugars are major constituents of ...\n",
       "...                ...                                                ...\n",
       "6788        BMG_PW6789                                                NaN\n",
       "6789        BMG_PW6790                                                NaN\n",
       "6790        BMG_PW6791                                                NaN\n",
       "6791        BMG_PW6792                                                NaN\n",
       "6792        BMG_PW6793                                                NaN\n",
       "\n",
       "[6793 rows x 2 columns]"
      ]
     },
     "execution_count": 8,
     "metadata": {},
     "output_type": "execute_result"
    }
   ],
   "source": [
    "bmg_reactome = biomedgraphica_pathway[['BioMedGraphica_ID','Reactome_ID']]\n",
    "pathway_description_reactome = pd.merge(bmg_reactome, reactome_df, on = 'Reactome_ID', how = 'left')\n",
    "pathway_description_reactome = pathway_description_reactome.drop(columns=['Reactome_ID'])\n",
    "pathway_description_reactome = pathway_description_reactome.rename(columns={'Summation': 'Reactome'})\n",
    "pathway_description_reactome"
   ]
  },
  {
   "cell_type": "markdown",
   "metadata": {},
   "source": [
    "### 5.4 Final Description"
   ]
  },
  {
   "cell_type": "code",
   "execution_count": 9,
   "metadata": {},
   "outputs": [
    {
     "data": {
      "application/vnd.microsoft.datawrangler.viewer.v0+json": {
       "columns": [
        {
         "name": "index",
         "rawType": "int64",
         "type": "integer"
        },
        {
         "name": "BioMedGraphica_ID",
         "rawType": "object",
         "type": "string"
        },
        {
         "name": "PO",
         "rawType": "object",
         "type": "unknown"
        },
        {
         "name": "KEGG",
         "rawType": "object",
         "type": "unknown"
        },
        {
         "name": "Reactome",
         "rawType": "object",
         "type": "unknown"
        }
       ],
       "conversionMethod": "pd.DataFrame",
       "ref": "0a3df78d-3d6c-4433-8eab-eaa8d4dcc3c6",
       "rows": [
        [
         "0",
         "BMG_PW0001",
         "A pathway is a set of inter-connected  reactions and interactions whose delineation and scope are used as a model for exploring and studying, describing and understanding the working of and relationships between biomolecules within a context. []",
         null,
         null
        ],
        [
         "1",
         "BMG_PW0002",
         "The various, enzyme-controlled, series of reactions allowing for the conversion of materials, energy availability and biodegradation of xenobiotics. [GO:0008152, http://www.onelook.com/ OneLook, Reactome:R-HSA-1430728]",
         null,
         "Metabolic processes in human cells generate energy through the oxidation of molecules consumed in the diet and mediate the synthesis of diverse essential molecules not taken in the diet as well as the inactivation and elimination of toxic ones generated endogenously or present in the extracellular environment. The processes of energy metabolism can be classified into two groups according to whether they involve carbohydrate-derived or lipid-derived molecules, and within each group it is useful to distinguish processes that mediate the breakdown and oxidation of these molecules to yield energy from ones that mediate their synthesis and storage as internal energy reserves. Synthetic reactions are conveniently grouped by the chemical nature of the end products, such as nucleotides, amino acids and related molecules, and porphyrins. Detoxification reactions (biological oxidations) are likewise conveniently classified by the chemical nature of the toxin. At the same time, all of these processes are tightly integrated. Intermediates in reactions of energy generation are starting materials for biosyntheses of amino acids and other compounds, broad-specificity oxidoreductase enzymes can be involved in both detoxification reactions and biosyntheses, and hormone-mediated signaling processes function to coordinate the operation of energy-generating and energy-storing reactions and to couple these to other biosynthetic processes."
        ],
        [
         "2",
         "BMG_PW0003",
         "The pathways where a signal - hormone, neurotransmitter, growth factor, peptide, any molecule - triggers one or multiple cascades of events. This involves a number of molecules, including receptors, proteins, ligands, messengers, any participating molecule. A signaling pathway may be upstream or downstream of other signaling pathways. Signaling pathways control a very broad spectrum of processes as well as pathways. [GO:0007165, OneLook:www.onelook.com, Reactome:R-HSA-162582]",
         null,
         "Signal transduction is a process in which extracellular signals elicit changes in cell state and activity. Transmembrane receptors sense changes in the cellular environment by binding ligands, such as hormones and growth factors, or reacting to other types of stimuli, such as light. Stimulation of transmembrane receptors leads to their conformational change which propagates the signal to the intracellular environment by activating downstream signaling cascades. Depending on the cellular context, this may impact cellular proliferation, differentiation, and survival. On the organism level, signal transduction regulates overall growth and behavior. Receptor tyrosine kinases (RTKs) transmit extracellular signals by phosphorylating their protein partners on conserved tyrosine residues. Some of the best studied RTKs are EGFR (reviewed in Avraham and Yarden, 2011), FGFR (reviewed in Eswarakumar et al, 2005), insulin receptor (reviewed in Saltiel and Kahn, 2001), NGF (reviewed in Reichardt, 2006), PDGF (reviewed in Andrae et al, 2008) and VEGF (reviewed in Xie et al, 2004). RTKs frequently activate downstream signaling through RAF/MAP kinases (reviewed in McKay and Morrison, 2007 and Wellbrock et al 2004), AKT (reviewed in Manning and Cantley, 2007) and PLC- gamma (reviewed in Patterson et al, 2005), which ultimately results in changes in gene expression and cellular metabolism. Receptor serine/threonine kinases of the TGF-beta family, such as TGF-beta receptors (reviewed in Kang et al. 2009) and BMP receptors (reviewed in Miyazono et al. 2009), transmit extracellular signals by phosphorylating regulatory SMAD proteins on conserved serine and threonine residues. This leads to formation of complexes of regulatory SMADs and SMAD4, which translocate to the nucleus where they act as transcription factors. WNT receptors transmit their signal through beta-catenin. In the absence of ligand, beta-catenin is constitutively degraded in a ubiquitin-dependent manner. WNT receptor stimulation releases beta-catenin from the destruction complex, allowing it to translocate to the nucleus where it acts as a transcriptional regulator (reviewed in MacDonald et al, 2009 and Angers and Moon, 2009). WNT receptors were originally classified as G-protein coupled receptors (GPCRs). Although they are structurally related, GPCRs primarily transmit their signals through G-proteins, which are trimers of alpha, beta and gamma subunits. When a GPCR is activated, it acts as a guanine nucleotide exchange factor, catalyzing GDP to GTP exchange on the G-alpha subunit of the G protein and its dissociation from the gamma-beta heterodimer. The G-alpha subunit regulates the activity of adenylate cyclase, while the gamma-beta heterodimer can activate AKT and PLC signaling (reviewed in Rosenbaum et al. 2009, Oldham and Hamm 2008, Ritter and Hall 2009). NOTCH receptors are activated by transmembrane ligands expressed on neighboring cells, which results in cleavage of NOTCH receptor and release of its intracellular domain. NOTCH intracellular domain translocates to the nucleus where it acts as a transcription factor (reviewed in Kopan and Ilagan, 2009). Integrins are activated by extracellular matrix components, such as fibronectin and collagen, leading to conformational change and clustering of integrins on the cell surface. This results in activation of integrin-linked kinase and other cytosolic kinases and, in co-operation with RTK signaling, regulates survival, proliferation and cell shape and adhesion (reviewed in Hehlgans et al, 2007) . Besides inducing changes in gene expression and cellular metabolism, extracellular signals that trigger the activation of Rho GTP-ases can trigger changes in the organization of cytoskeleton, thereby regulating cell polarity and cell-cell junctions (reviewed in Citi et al, 2011)."
        ],
        [
         "3",
         "BMG_PW0004",
         "The pathways that control the processes by which a cell or organism develops, adjusts, behaves, responds to conditions or changes in these conditions, or in any manner helps promote and maintain its efficient functioning. [OneLook:www.onelook.com]",
         null,
         null
        ],
        [
         "4",
         "BMG_PW0005",
         "Those metabolic reactions and pathways involved in the oxidation, breakdown and synthesis of carbohydrates in the tissue. The breakdown can be utilized by the body for energy production. The converse synthesis is used for energy storage. [GO:0005975, OneLook:www.onelook.com, Reactome:R-HSA-71387]",
         "Carbon metabolism is the most basic aspect of life. This map presents an overall view of central carbon metabolism, where the number of carbons is shown for each compound denoted by a circle, excluding a cofactor (CoA, CoM, THF, or THMPT) that is replaced by an asterisk. The map contains carbon utilization pathways of glycolysis (map00010), pentose phosphate pathway (map00030), and citrate cycle (map00020), and six known carbon fixation pathways (map00710 and map00720) as well as some pathways of methane metabolism (map00680). The six carbon fixation pathways are: (1) reductive pentose phosphate cycle (Calvin cycle) in plants and cyanobacteria that perform oxygenic photosynthesis, (2) reductive citrate cycle in photosynthetic green sulfur bacteria and some chemolithoautotrophs, (3) 3-hydroxypropionate bi-cycle in photosynthetic green nonsulfur bacteria, two variants of 4-hydroxybutyrate pathways in Crenarchaeota called (4) hydroxypropionate-hydroxybutyrate cycle and (5) dicarboxylate-hydroxybutyrate cycle, and (6) reductive acetyl-CoA pathway in methanogenic bacteria.",
         "Starches and sugars are major constituents of the human diet and the catabolism of monosaccharides, notably glucose, derived from them is an essential part of human energy metabolism (Dashty 2013). Glucose can be catabolized to pyruvate (glycolysis) and pyruvate synthesized from diverse sources can be metabolized to form glucose (gluconeogenesis). Glucose can be polymerized to form glycogen under conditions of glucose excess (glycogen synthesis), and glycogen can be broken down to glucose in response to stress or starvation (glycogenolysis). Other monosaccharides prominent in the diet, fructose and galactose, can be converted to glucose. The disaccharide lactose, the major carbohydrate in breast milk, is synthesized in the lactating mammary gland. The pentose phosphate pathway allows the synthesis of diverse monosaccharides from glucose including the pentose ribose-5-phosphate and the regulatory molecule xylulose-5-phosphate, as well as the generation of reducing equivalents for biosynthetic processes. Glycosaminoglycan metabolism and xylulose-5-phosphate synthesis from glucuronate are also annotated as parts of carbohydrate metabolism. The digestion of dietary starch and sugars and the uptake of the resulting monosaccharides into the circulation from the small intestine are annotated as parts of the “Digestion and absorption” pathway."
        ],
        [
         "5",
         "BMG_PW0006",
         "The Ras superfamily consists of a diverse group of small, monomeric G proteins that function as molecular switches alternating between the GDP-inactive and the GTP-active bound state. The GTP-bound form can interact with many downstream effectors. Ras superfamily controls a broad spectrum of processes; deregulation of Ras cascades has been linked to several forms of cancer. The superfamily is structurally classified in five families. [GO:0007265, PMID:11027944, PMID:11152757]",
         null,
         null
        ],
        [
         "6",
         "BMG_PW0007",
         "The mitogen-activated protein kinase pathway groups several serine/threonine protein kinase mediated cascades in response to a number of extracellular stimuli. A characteristic feature of these cascades is the presence of at least three kinases in series leading to the activation of a multifunctional MAP kinase. [GO:0000165, KEGG:map04010, PMID:14570565, PMID:14976517, PMID:17229475, PMID:17306385, Reactome:R-HSA-5683057]",
         "The mitogen-activated protein kinase (MAPK) cascade is a highly conserved module that is involved in various cellular functions, including cell proliferation, differentiation and migration. Mammals express at least four distinctly regulated groups of MAPKs, extracellular signal-related kinases (ERK)-1/2, Jun amino-terminal kinases (JNK1/2/3), p38 proteins (p38alpha/beta/gamma/delta) and ERK5, that are activated by specific MAPKKs: MEK1/2 for ERK1/2, MKK3/6 for the p38, MKK4/7 (JNKK1/2) for the JNKs, and MEK5 for ERK5. Each MAPKK, however, can be activated by more than one MAPKKK, increasing the complexity and diversity of MAPK signalling. Presumably each MAPKKK confers responsiveness to distinct stimuli. For example, activation of ERK1/2 by growth factors depends on the MAPKKK c-Raf, but other MAPKKKs may activate ERK1/2 in response to pro-inflammatory stimuli.",
         "The mitogen activated protein kinases (MAPKs) are a family of conserved protein serine threonine kinases that respond to varied extracellular stimuli to activate intracellular processes including gene expression, metabolism, proliferation, differentiation and apoptosis, among others. The classic MAPK cascades, including the ERK1/2 pathway, the p38 MAPK pathway, the JNK pathway and the ERK5 pathway are characterized by three tiers of sequentially acting, activating kinases (reviewed in Kryiakis and Avruch, 2012; Cargnello and Roux, 2011). The MAPK kinase kinase kinase (MAPKKK), at the top of the cascade, is phosphorylated on serine and threonine residues in response to external stimuli; this phosphorylation often occurs in the context of an interaction between the MAPKKK protein and a member of the RAS/RHO family of small GTP-binding proteins. Activated MAPKKK proteins in turn phosphorylate the dual-specificity MAPK kinase proteins (MAPKK), which ultimately phosphorylate the MAPK proteins in a conserved Thr-X-Tyr motif in the activation loop. Less is known about the activation of the atypical families of MAPKs, which include the ERK3/4 signaling cascade, the ERK7 cascade and the NLK cascade. Although the details are not fully worked out, these MAPK proteins don't appear to be phosphorylated downstream of a 3-tiered kinase system as described above (reviewed in Coulombe and Meloche, 2007; Cargnello and Roux, 2011) . Both conventional and atypical MAPKs are proline-directed serine threonine kinases and, once activated, phosphorylate substrates in the consensus P-X-S/T-P site. Both cytosolic and nuclear targets of MAPK proteins have been identified and upon stimulation, a proportion of the phosphorylated MAPKs relocalize from the cytoplasm to the nucleus. In some cases, nuclear translocation may be accompanied by dimerization, although the relationship between these two events is not fully elaborated (reviewed in Kryiakis and Avruch, 2012; Cargnello and Roux, 2011; Plotnikov et al, 2010)."
        ],
        [
         "7",
         "BMG_PW0008",
         "The secreted glycoproteins of the Wnt family regulate a wide spectrum of developmental processes and they are also playing important roles in the adult organism. Deregulation of Wnt cascades has oncogenic effects and is responsible for tumorigenesis in adults. [GO:0016055, KEGG:04310, PMID:12573432, PMID:15001769, PMID:15041171, Reactome:R-HSA-195721]",
         "Wnt proteins are secreted morphogens that are required for basic developmental processes, such as cell-fate specification, progenitor-cell proliferation and the control of asymmetric cell division, in many different species and organs. There are at least three different Wnt pathways: the canonical pathway, the planar cell polarity (PCP) pathway and the Wnt/Ca2+ pathway. In the canonical Wnt pathway, the major effect of Wnt ligand binding to its receptor is the stabilization of cytoplasmic beta-catenin through inhibition of the bea-catenin degradation complex. Beta-catenin is then free to enter the nucleus and activate Wnt-regulated genes through its interaction with TCF (T-cell factor) family transcription factors and concomitant recruitment of coactivators. Planar cell polarity (PCP) signaling leads to the activation of the small GTPases RHOA (RAS homologue gene-family member A) and RAC1, which activate the stress kinase JNK (Jun N-terminal kinase) and ROCK (RHO-associated coiled-coil-containing protein kinase 1) and leads to remodelling of the cytoskeleton and changes in cell adhesion and motility. WNT-Ca2+ signalling is mediated through G proteins and phospholipases and leads to transient increases in cytoplasmic free calcium that subsequently activate the kinase PKC (protein kinase C) and CAMKII (calcium calmodulin mediated kinase II) and the phosphatase calcineurin.",
         "WNT signaling pathways control a wide range of developmental and adult process in metozoans including cell proliferation, cell fate decisions, cell polarity and stem cell maintenance (reviewed in Saito-Diaz et al, 2013; MacDonald et al, 2009). The pathway is named for the WNT ligands, a large family of secreted cysteine-rich glycoproteins. At least 19 WNT members have been identified in humans and mice with distinct expression patterns during development (reviewed in Willert and Nusse, 2012). These ligands can activate at least three different downstream signaling cascades depending on which receptors they engage. In the so-called 'canonical' WNT signaling pathway, WNT ligands bind one of the 10 human Frizzled (FZD) receptors in conjunction with the LRP5/6 co-receptors to activate a transcriptional cascade that controls processes such as cell fate, proliferation and self-renenwal of stem cells. Engagement of the FZD-LRP receptor by WNT ligand results in the stabilization and translocation of cytosolic beta-catenin to the nucleus where it is a co-activator for LEF (lymphoid enhancer-binding factor)- and TCF (T cell factor) -dependent transcription. In the absence of WNT ligand, cytosolic beta-catenin is phosphorylated by a degradation complex consisting of glycogen synthase kinase 3 (GSK3), casein kinase 1 (CK1), Axin and Adenomatous polyposis coli (APC), and subsequently ubiquitinated and degraded by the 26S proteasome (reviewed in Saito-Diaz et al, 2013; Kimmelman and Xu, 2006). In addition to the beta-catenin-dependent transcriptional response, WNT signaling can also activate distinct non-transcriptional pathways that regulate cell migration and polarity. These beta-catenin-independent 'non-canonical' pathways signal through Frizzled receptors independently of LRP5/6, or occur through the tyrosine kinase receptors ROR and RYK (reviewed in Veeman et al, 2003; James et al, 2009). Non-canonical WNT pathways are best studied in Drosophila where the planar cell polarity (PCP) pathway controls the orientation of wing hairs and eye facets, but are also involved in processes such as convergent extension, neural tube closure, inner ear development and hair orientation in vertebrates and mammals(reviewed in Seifert and Mlodzik, 2007; Simons and Mlodzik, 2008). In the PCP pathway, binding of WNT ligand to the FZD receptor leads to activation of small Rho GTPases and JNK, which regulate the cytoskeleton and coordinate cell migration and polarity (reviewed in Lai et al, 2009; Schlessinger et al, 2009). In some cases, a FZD-WNT interaction increases intracellular calcium concentration and activates CaMK II and PKC; this WNT calcium pathway promotes cell migration and inhibits the canonical beta-catenin dependent transcriptional pathway (reviewed in Kuhl et al, 2000; Kohn and Moon, 2005; Rao et al 2010). Binding of WNT to ROR or RYK receptors also regulates cell migration, apparently through activation of JNK or SRC kinases, respectively, however the details of these pathways remain to be worked out (reviewed in Minami et al, 2010). Although the WNT signaling pathways were originally viewed as discrete, linear pathways controlled by defined subsets of 'canonical' or 'non-canonical' ligands and receptors, the emerging evidence is challenging this notion. Instead, the specificity and the downstream response appear to depend on the particular cellular context and vary with species, tissue and stage of development (reviewed in van Amerongen and Nusse, 2009; Rao et al, 2010)."
        ],
        [
         "8",
         "BMG_PW0009",
         "Apoptosis is a programmed cell death pathway that is characterized by particular morphological features such as membrane blebbing and DNA fragmentation. It can be intrinsic or extrinsic and involves the activation of caspases. [GO:0006915, KEGG:map04210, PMID:12196263, PMID:18414491, Reactome:R-HSA-109581]",
         "Apoptosis is a genetically programmed process for the elimination of damaged or redundant cells by activation of caspases (aspartate-specific cysteine proteases). The onset of apoptosis is controlled by numerous interrelating processes. The 'extrinsic' pathway involves stimulation of members of the tumor necrosis factor (TNF) receptor subfamily, such as TNFRI, CD95/Fas or TRAILR (death receptors), located at the cell surface, by their specific ligands, such as TNF-alpha, FasL or TRAIL, respectively. The 'intrinsic' pathway is activated mainly by non-receptor stimuli, such as DNA damage, ER stress, metabolic stress, UV radiation or growth-factor deprivation. The central event in the 'intrinsic' pathway is the mitochondrial outer membrane permeabilization (MOMP), which leads to the release of cytochrome c. These two pathways converge at the level of effector caspases, such as caspase-3 and caspase-7. The third major pathway is initiated by the constituents of cytotoxic granules (e.g. Perforin and Granzyme B) that are released by CTLs (cytotoxic T-cells) and NK (natural killer) cells. Granzyme B, similarly to the caspases, cleaves its substrates after aspartic acid residues, suggesting that this protease has the ability to activate members of the caspase family directly. It is the balance between the pro-apoptotic and anti-apoptotic signals that eventually determines whether cells will undergo apoptosis, survive or proliferate. TNF family of ligands activates anti-apoptotic or cell-survival signals as well as apoptotic signals. NGF and Interleukin-3 promotes the survival, proliferation and differentiation of neurons or hematopoietic cells, respectively. Withdrawal of these growth factors leads to cell death, as described above.",
         "Apoptosis is a distinct form of cell death that is functionally and morphologically different from necrosis. Nuclear chromatin condensation, cytoplasmic shrinking, dilated endoplasmic reticulum, and membrane blebbing characterize apoptosis in general. Mitochondria remain morphologically unchanged. In 1972 Kerr et al introduced the concept of apoptosis as a distinct form of \"cell-death\", and the mechanisms of various apoptotic pathways are still being revealed today. The two principal pathways of apoptosis are (1) the Bcl-2 inhibitable or intrinsic pathway induced by various forms of stress like intracellular damage, developmental cues, and external stimuli and (2) the caspase 8/10 dependent or extrinsic pathway initiated by the engagement of death receptors The caspase 8/10 dependent or extrinsic pathway is a death receptor mediated mechanism that results in the activation of caspase-8 and caspase-10. Activation of death receptors like Fas/CD95, TNFR1, and the TRAIL receptor is promoted by the TNF family of ligands including FASL (APO1L OR CD95L), TNF, LT-alpha, LT-beta, CD40L, LIGHT, RANKL, BLYS/BAFF, and APO2L/TRAIL. These ligands are released in response to microbial infection, or as part of the cellular, humoral immunity responses during the formation of lymphoid organs, activation of dendritic cells, stimulation or survival of T, B, and natural killer (NK) cells, cytotoxic response to viral infection or oncogenic transformation. The Bcl-2 inhibitable or intrinsic pathway of apoptosis is a stress-inducible process, and acts through the activation of caspase-9 via Apaf-1 and cytochrome c. The rupture of the mitochondrial membrane, a rapid process involving some of the Bcl-2 family proteins, releases these molecules into the cytoplasm. Examples of cellular processes that may induce the intrinsic pathway in response to various damage signals include: auto reactivity in lymphocytes, cytokine deprivation, calcium flux or cellular damage by cytotoxic drugs like taxol, deprivation of nutrients like glucose and growth factors like EGF, anoikis, transactivation of target genes by tumor suppressors including p53. In many non-immune cells, death signals initiated by the extrinsic pathway are amplified by connections to the intrinsic pathway. The connecting link appears to be the truncated BID (tBID) protein a proteolytic cleavage product mediated by caspase-8 or other enzymes."
        ],
        [
         "9",
         "BMG_PW0010",
         "The metabolic reactions involved in the oxidation, utilization and/or synthesis of lipids in tissues. [GO:0006629, OneLook:www.onelook.com, Reactome:R-HSA-556833]",
         null,
         "Lipids are hydrophobic but otherwise chemically diverse molecules that play a wide variety of roles in human biology. They include ketone bodies, fatty acids, triacylglycerols, phospholipids and sphingolipids, eicosanoids, cholesterol, bile salts, steroid hormones, and fat-soluble vitamins. They function as a major source of energy (fatty acids, triacylglycerols, and ketone bodies), are major constituents of cell membranes (cholesterol and phospholipids), play a major role in their own digestion and uptake (bile salts), and participate in numerous signaling and regulatory processes (steroid hormones, eicosanoids, phosphatidylinositols, and sphingolipids) (Vance & Vance 2008 - URL). The central steroid in human biology is cholesterol, obtained from animal fats consumed in the diet or synthesized de novo from acetyl-coenzyme A. (Vegetable fats contain various sterols but no cholesterol.) Cholesterol is an essential constituent of lipid bilayer membranes and is the starting point for the biosyntheses of bile acids and salts, steroid hormones, and vitamin D. Bile acids and salts are mostly synthesized in the liver. They are released into the intestine and function as detergents to solubilize dietary fats. Steroid hormones are mostly synthesized in the adrenal gland and gonads. They regulate energy metabolism and stress responses (glucocorticoids), salt balance (mineralocorticoids), and sexual development and function (androgens and estrogens). At the same time, chronically elevated cholesterol levels in the body are associated with the formation of atherosclerotic lesions and hence increased risk of heart attacks and strokes. The human body lacks a mechanism for degrading excess cholesterol, although an appreciable amount is lost daily in the form of bile salts and acids that escape recycling. Aspects of lipid metabolism currently annotated in Reactome include lipid digestion, mobilization, and transport; fatty acid, triacylglycerol, and ketone body metabolism; peroxisomal lipid metabolism; phospholipid and sphingolipid metabolism; cholesterol biosynthesis; bile acid and bile salt metabolism; and steroid hormone biosynthesis."
        ],
        [
         "10",
         "BMG_PW0011",
         "Those metabolic reactions involved in the synthesis, utilization and/or degradation of the primary or standard 20 amino acids found in proteins. Amino acids are described as non-essential or essential depending on whether humans can or can not synthesize them, respectively. Chemically, they are classified based on the polarity of their side chain or R group, as non-polar and hydrophobic and hydrophilic and charged or polar uncharged. Amino acid metabolic pathways are also listed with their KEGG entries. [GO:0006520, http://www.genome.jp/kegg/ KEGG, MCW_library:Handbooks_of_Biochemistry]",
         null,
         null
        ],
        [
         "11",
         "BMG_PW0012",
         "Those metabolic reactions involved in the synthesis, utilization and/or degradation of nucleotides. Nucleotides, which are the units of DNA and RNA, can also play important roles in cellular energy, enzyme regulation as well as serve as signaling molecules. [GO:0009117, PMID:20561600, PMID:21222015, Reactome:R-HSA-15869]",
         null,
         "Nucleotides and their derivatives are used for short-term energy storage (ATP, GTP), for intra- and extra-cellular signaling (cAMP; adenosine), as enzyme cofactors (NAD, FAD), and for the synthesis of DNA and RNA. Most dietary nucleotides are consumed by gut flora; the human body's own supply of these molecules is synthesized de novo. Additional metabolic pathways allow the interconversion of nucleotides, the salvage and reutilization of nucleotides released by degradation of DNA and RNA, the catabolism of excess nucleotides, and the transport of these molecules between the cytosol and the nucleus (Rudolph 1994). These pathways are regulated to control the total size of the intracellular nucleotide pool, to balance the relative amounts of individual nucleotides, and to couple the synthesis of deoxyribonucleotides to the onset of DNA replication (S phase of the cell cycle). These pathways are also of major clinical interest as they are the means by which nucleotide analogues used as anti-viral and anti-tumor drugs are taken up by cells, activated, and catabolized (Weilin and Nordlund 2010). As well, differences in nucleotide metabolic pathways between humans and aplicomplexan parasites like Plasmodium have been exploited to design drugs to attack the latter (Hyde 2007). The movement of nucleotides and purine and pyrimidine bases across lipid bilayer membranes, mediated by SLC transporters, is annotated as part of the module \"transmembrane transport of small molecules\"."
        ],
        [
         "12",
         "BMG_PW0013",
         "Complex human diseases encompass a spectrum of genetic and environmental attributes that together affect the normal functioning of several molecular and cellular pathways. Their combined and accumulated effect is manifested in the anomalous phenotype of the complex condition. [InHouse:InHouse_PW_dictionary, Reactome:R-HSA-1643685]",
         null,
         "Biological processes are captured in Reactome by identifying the molecules (DNA, RNA, protein, small molecules) involved in them and describing the details of their interactions. From this molecular viewpoint, human disease pathways have three mechanistic causes: the inclusion of microbially-expressed proteins, altered functions of human proteins, or changed expression levels of otherwise functionally normal human proteins. The first group encompasses the infectious diseases such as influenza, tuberculosis and HIV infection. The second group involves human proteins modified either by a mutation or by an abnormal post-translational event that produces an aberrant protein with a novel function. Examples include somatic mutations of EGFR and FGFR (epidermal and fibroblast growth factor receptor) genes, which encode constitutively active receptors that signal even in the absence of their ligands, or the somatic mutation of IDH1 (isocitrate dehydrogenase 1) that leads to an enzyme active on 2-oxoglutarate rather than isocitrate, or the abnormal protein aggregations of amyloidosis which lead to diseases such as Alzheimer's. Infectious diseases are represented in Reactome as microbial-human protein interactions and the consequent events. The existence of variant proteins and their association with disease-specific biological processes is represented by inclusion of the modified protein in a new or variant reaction, an extension to the 'normal' pathway. Diseases which result from proteins performing their normal functions but at abnormal rates can also be captured, though less directly. Many mutant alleles encode proteins that retain their normal functions but have abnormal stabilities or catalytic efficiencies, leading to normal reactions that proceed to abnormal extents. The phenotypes of such diseases can be revealed when pathway annotations are combined with expression or rate data from other sources. Depending on the biological pathway/process immediately affected by disease-causing gene variants, non-infectious diseases in Reactome are organized into diseases of signal transduction by growth factore receptors and second messengers, diseases of mitotic cell cycle, diseases of cellular response to stress, diseases of programmed cell death, diseases of DNA repair, disorders of transmembrane transporters, diseases of metabolism, diseases of immune system, diseases of neuronal system, disorders of developmental biology, disorders of extracellular matrix organization, and diseases of hemostatis."
        ],
        [
         "13",
         "BMG_PW0014",
         "Neurodegenerative diseases group together a number of conditions of various and many times poorly understood origins that are characterized by the progressive loss of particular neurons, the formation of particular structures such as plaques and fibrils, and protein aggregates. Proteosomal degradation, programmed cell death and oxidative stress are among a number of pathways thought to be disrupted. [inHouse:InHouse_PW_dictionary, Reactome:R-HSA-8863678]",
         null,
         "Neurodegenerative diseases manifest as the progressive dysfunction and loss of neurons, which is frequently accompanied by formation of misfolded protein deposits in the brain. Classification of neurodegenerative diseases is based on clinical symptoms, which depend on the anatomical region affected by neuronal dysfunction, the identity of misfolded proteins and cellular and subcellular pathology. In Alzheimer’s disease (AD), beta-amyloid protein (APP) deposits form in the extracellular space, where they can make plaques, while abnormally phosphorylated tau protein (MAPT) accumulates in neuronal cells. Beside AD, neuronal and/or glial inclusions of hyperphosphorylated tau are also found in Pick disease (PiD), neurofibrillary tangle-dementia (NFT), primary age-related tauopathy (PART), progressive supranuclear palsy (PSP), corticobasal degeneration (CBD), argyrophilic grain disease (AGD) and globular glial tauopathies (GGT). In prion disease, such as Creutzfeldt-Jakob disease, deposits of PrP protein are formed mostly in the extracellular and presynaptic space. PrP deposits in neuronal cell bodies are mainly confined to endosomes and lysosomes, which is attributed to neuronal uptake of pathological proteins and intercellular prion spreading. In Parkinson disease (PD) and dementia with Lewy bodies (DLB), deposits of alpha-synuclein (SNCA) are formed in the cytoplasm of neuronal cell bodies and neurites. In multiple system atrophy (MSA), deposits of alpha-synuclein form in the cytoplasm of glial cells (Papp-Lantos bodies). Amyotrophic lateral sclerosis (ALS) and frontotemporal lobar degeneration (FTLD) are characterized by ubiquitin-positive cytoplasmic inclusions of TAR DNA-binding protein 43 (TARDBP, commonly known as TDP-43), a protein that normally localizes to the nucleus. Pathological TDP-43 inclusions have been associated with the TDP-43 gene mutations, as well as mutations in several other genes, including C9orf72, GRN, VCP, SQSTM1, DCTN1 and OPTN. TDP-43 inclusions have also been reported in AD, DLB, hippocampal sclerosis (HS) and chronic traumatic encephalopathy. FUS protein-positive inclusion bodies are found in familial ALS, caused by mutations in the FUS gene, as well as in a small subgroup of FTLD-related diseases. FUS-positive inclusions may be accompanied by FET protein-positive inclusions. For a detailed review of molecular pathology of neurodegenerative diseases, please refer to Kovacs 2016. Within this broad domain, the process by which APP-triggered deregulation of CDK5 (cyclin-dependent kinase 5) triggers multiple neurodegenerative pathways associated with Alzheimer's disease has been annotated."
        ],
        [
         "14",
         "BMG_PW0015",
         "A mostly sporadic, late-onset condition affecting the central nervous system, that is the most prevalent neurodegenerative disease and the most common form of dementia. It is characterized by the presence of amyloid plaques and fibril tangles. Possible pathways affected range from protein mis-folding and aggregation, to oxidative stress and impaired metal homeostasis. [InHouse:InHouse_PW_dictionary, KEGG:map05010]",
         "Alzheimer disease (AD) is a chronic disorder that slowly destroys neurons and causes serious cognitive disability. AD is associated with senile plaques and neurofibrillary tangles (NFTs). Amyloid-beta (Abeta), a major component of senile plaques, has various pathological effects on cell and organelle function. To date genetic studies have revealed four genes that may be linked to autosomal dominant or familial early onset AD (FAD). These four genes include: amyloid precursor protein (APP), presenilin 1 (PS1), presenilin 2 (PS2) and apolipoprotein E (ApoE). All mutations associated with APP and PS proteins can lead to an increase in the production of Abeta peptides, specfically the more amyloidogenic form, Abeta42. It was proposed that Abeta form Ca2+ permeable pores and bind to and modulate multiple synaptic proteins, including NMDAR, mGluR5 and VGCC, leading to the overfilling of neurons with calcium ions. Consequently, cellular Ca2+ disruptions will lead to neuronal apoptosis, autophagy deficits, mitochondrial abnormality, defective neurotransmission, impaired synaptic plasticity and neurodegeneration in AD. FAD-linked PS1 mutation downregulates the unfolded protein response and leads to vulnerability to ER stress.",
         null
        ],
        [
         "15",
         "BMG_PW0016",
         "A late onset, mostly sporadic neurodegenerative disease characterized by the loss of motor neurons in the brain stem and spinal cord. Various pathways are thought to be deregulated and contribute to the condition; among them calcium and/or zinc homeostasis, apoptosis, Cdk5 and calcineurin dependent processes, and in the case of the more rare, genetically inherited form of the disease, mutations in the cytosolic Cu, Zn superoxide dismutase (SOD1) and the subsequent changes in the processes that involve SOD1. [InHouse:In_House_PW_dictionary, KEGG:map05014]",
         "Amyotrophic lateral sclerosis (ALS) is a neurodegenerative disorder characterized by a progressive degeneration of motor neurons in the brain and spinal cord. In 90% of patients, ALS is sporadic, with no clear genetic linkage. On the other hand, the remaining 10% of cases show familial inheritance, with mutations in SOD1, TDP43(TARDBP), FUS, or C9orf72 genes being the most frequent causes. In spite of such difference, familial ALS and sporadic ALS have similarities in their pathological features. Proposed disease mechanisms contributing to motor neuron degeneration in ALS are: impaired proteostasis, aberrant RNA processing, mitochondrial disfunction and oxidative stress, microglia activation, and axonal dysfunction.",
         null
        ],
        [
         "16",
         "BMG_PW0017",
         "An autosomal dominant neurodegenerative disease manifesting in movement, cognitive and psychiatric disorders caused by the abnormal expansion of a polyglutamine (polyQ) stretch in the Huntingtin (HTT) protein. It mostly affects the caudate-putamen striatal neurons. Other areas are also affected and undergo a size reduction. HTT is thought to be involved in several cellular pathways. Its functions are overcome by the mutant protein mHTT. [PMID:26938440]",
         null,
         null
        ],
        [
         "17",
         "BMG_PW0018",
         "One of the most common neurodegenerative diseases that is characterized by the loss of dopaminergic neurons in the substantia nigra and the presence of cytoplasmic inclusions called Lewy bodies in surrounding neurons. Several pathways are thought to be deregulated; for instance, imbalance of iron homeostasis is believed to contribute to the pathogenesis of the condition. [KEGG:map05012, PMID:18052765, PMID:19422283]",
         "Parkinson disease (PD) is a progressive neurodegenerative movement disorder that results primarily from the death of dopaminergic (DA) neurons in the substantia nigra pars compacta (SNc). Both environmental factors and mutations in familial PD-linked genes such as SNCA, Parkin, DJ-1, PINK1 and LRRK2 are associated with PD pathogenesis. These pathogenic mutations and environmental factors are known to cause disease due to oxidative stress, intracellular Ca2+ homeostasis impairment, mitochondrial dysfunctions and altered protein handling compromising key roles of DA neuronal function and survival. The demise of DA neurons located in the SNc leads to a drop in the dopaminergic input to the striatum, which is hypothesized to impede movement by inducing hypo and hyper activity in striatal spiny projection neurons (SPNs) of the direct (dSPNs) and indirect (iSPNs) pathways in the basal ganglia, respectively.",
         null
        ],
        [
         "18",
         "BMG_PW0019",
         "Prion disease - any of a group of fatal, transmissible neurodegenerative diseases caused by abnormalities of prion protein metabolism, which may result from mutations in the prion protein gene or from infection with pathogenic isoforms of the protein.  Characteristics include neuronal loss, gliosis, and extensive vacuolization of the cerebral cortex. Prion diseases may be sporadic, inherited as an autosomal dominant trait, or acquired. Human diseases include Creutzfeldt-Jakob disease, Gerstmann-Strussler syndrome, fatal familial insomnia, and kuru [KEGG:map05020, OneLook:www.onelook.com]",
         "Prion diseases, also termed transmissible spongiform encephalopathies (TSEs), are a group of fatal neurodegenerative diseases that affect humans and a number of other animal species. The etiology of these diseases is thought to be associated with the conversion of a normal protein, PrPC, into an infectious, pathogenic form, PrPSc. The conversion is induced by prion infections (for example, variant Creutzfeldt-Jakob disease (vCJD), iatrogenic CJD, Kuru), mutations (familial CJD, Gerstmann-Straussler-Scheinker syndrome, fatal familial insomnia (FFI)) or unknown factors (sporadic CJD (sCJD)), and is thought to occur after PrPC has reached the plasma membrane or is re-internalized for degradation. The PrPSc form shows greater protease resistance than PrPC and accumulates in affected individuals, often in the form of extracellular plaques. Pathways that may lead to neuronal death comprise oxidative stress, regulated activation of complement, ubiquitin-proteasome and endosomal-lysosomal systems, synaptic alterations and dendritic atrophy, corticosteroid response, and endoplasmic reticulum stress. In addition, the conformational transition could lead to the lost of a beneficial activity of the natively folded protein, PrPC.",
         null
        ],
        [
         "19",
         "BMG_PW0020",
         "Cardiovascular diseases represent a very broad spectrum of conditions that can also combine with diabetes and renal failure. [InHouse:InHouse_PW_dictionary]",
         null,
         null
        ],
        [
         "20",
         "BMG_PW0021",
         "Hypertension, high arterial blood pressure: various criteria for its threshold have been suggested, ranging from 140 mm Hg systolic and 90 mm Hg diastolic to as high as 200 mm Hg systolic and 110 mm Hg diastolic. Hypertension may have no known cause (essential or idiopathic h.) or be associated with other primary diseases (secondary h.). [OneLook:www.onelook.com]",
         null,
         null
        ],
        [
         "21",
         "BMG_PW0022",
         "Cardiomyopathy - a general diagnostic term designating primary noninflammatory disease of the heart muscle, often of obscure or unknown etiology and not the result of ischemic, hypertensive, congenital, valvular, or pericardial disease. It is usually subdivided into dilated, hypertrophic, and restrictive cardiomyopathy (1). Cardiomyopathy is the deterioration of the cardiac muscle of the heart wall. [OneLook:www.onelook.com]",
         null,
         null
        ],
        [
         "22",
         "BMG_PW0023",
         "The Immune response pathways mediate the defense of host cells against infection and injury. The first line of defense is provided by the phylogenetically older innate immune response. The later, more versatile response is provided by the pathways of adaptive immunity: the B cell mediated humoral and the T cell mediated cellular or cell-mediated responses. [GO:0006955, MCW_library:Handbook_of_cellular_and_molecular_immunology, OneLook:www.onelook.com, Reactome:R-HSA-168256]",
         null,
         "Humans are exposed to millions of potential pathogens daily, through contact, ingestion, and inhalation. Our ability to avoid infection depends on the adaptive immune system and during the first critical hours and days of exposure to a new pathogen, our innate immune system."
        ],
        [
         "23",
         "BMG_PW0024",
         "Inflammation is the cellular response of the innate immune system to infection or injury. Sensing of infection by pattern recognition receptors triggers signaling cascades leading to the expression of mediator genes such as the pro-inflammatory cytokines. [GO:0006954, MCW_library:Cellular_and_molecular_immunology\\,_by_Abbas\\,_Abul_K, OneLook:www.onelook.com, PMID:15364056, PMID:16226680, PMID:16281932, PMID:20303867, PMID:20303872]",
         null,
         null
        ],
        [
         "24",
         "BMG_PW0025",
         "Those metabolic reactions involved in the energy-yielding conversion of glucose to pyruvate or in the formation of glucose from non-carbohydrate precursors such as pyruvate, lactate, citric acid cycle intermediates, the carbon skeleton of many amino acids. While many enzymes are shared by the two pathways, a few steps are carried out by pathway-specific enzymes. The two pathways are independently regulated. [KEGG:map00010]",
         "Glycolysis is the process of converting glucose into pyruvate and generating small amounts of ATP (energy) and NADH (reducing power). It is a central pathway that produces important precursor metabolites: six-carbon compounds of glucose-6P and fructose-6P and three-carbon compounds of glycerone-P, glyceraldehyde-3P, glycerate-3P, phosphoenolpyruvate, and pyruvate [MD:M00001]. Acetyl-CoA, another important precursor metabolite, is produced by oxidative decarboxylation of pyruvate [MD:M00307]. When the enzyme genes of this pathway are examined in completely sequenced genomes, the reaction steps of three-carbon compounds from glycerone-P to pyruvate form a conserved core module [MD:M00002], which is found in almost all organisms and which sometimes contains operon structures in bacterial genomes. Gluconeogenesis is a synthesis pathway of glucose from noncarbohydrate precursors. It is essentially a reversal of glycolysis with minor variations of alternative paths [MD:M00003].",
         null
        ],
        [
         "25",
         "BMG_PW0026",
         "The series of chemical reactions that are central to all aerobic cells and constitute the citric acid cycle. Also known as the tricarboxylic acid cycle (TCA) or Krebs cycle, it is the center of convergence for all molecular fuels. [GO:0006099, KEGG:map00020, OneLook:www.onelook.com, Reactome:R-HSA-71403, SMP:00057]",
         "The citrate cycle (TCA cycle, Krebs cycle) is an important aerobic pathway for the final steps of the oxidation of carbohydrates and fatty acids. The cycle starts with acetyl-CoA, the activated form of acetate, derived from glycolysis and pyruvate oxidation for carbohydrates and from beta oxidation of fatty acids. The two-carbon acetyl group in acetyl-CoA is transferred to the four-carbon compound of oxaloacetate to form the six-carbon compound of citrate. In a series of reactions two carbons in citrate are oxidized to CO2 and the reaction pathway supplies NADH for use in the oxidative phosphorylation and other metabolic processes. The pathway also supplies important precursor metabolites including 2-oxoglutarate. At the end of the cycle the remaining four-carbon part is transformed back to oxaloacetate. According to the genome sequence data, many organisms seem to lack genes for the full cycle [MD:M00009], but contain genes for specific segments [MD:M00010 M00011].",
         "In the citric acid or tricarboxylic acid (TCA) cycle, the acetyl group of acetyl CoA (derived primarily from oxidative decarboxylation of pyruvate, beta-oxidation of long-chain fatty acids, and catabolism of ketone bodies and several amino acids) can be completely oxidized to CO2 in reactions that also yield one high-energy phosphate bond (as GTP or ATP) and four reducing equivalents (three NADH + H+, and one FADH2). Then, the electron transport chain oxidizes NADH and FADH2 to yield nine more high-energy phosphate bonds (as ATP). All reactions of the citric acid cycle take place in the mitochondrion. Eight canonical reactions mediate the synthesis of citrate from acetyl-CoA and oxaloacetate and the metabolism of citrate to re-form oxaloacetate. Three reactions are reversible: the interconversions of citrate and isocitrate, of fumarate and malate, and of malate and oxaloacetate. The reverse reactions are irrelevant under normal physiological conditions but appear to have a role in glucose- and glutamine-stimulated insulin secretion (Zhang et al., 2020) and cancer metabolism (e.g., Jiang et al., 2016). Succinate synthesis from succinyl-CoA can be coupled to the phosphorylation of either GDP (the canonical reaction) or ADP; we annotate both reactions. Two mitochondrial isocitrate dehydrogenase isozymes catalyze the oxidative decarboxylation of isocitrate to form alpha-ketoglutarate (2-oxoglutarate): IDH3 catalyzes the canonical reaction coupled to the reduction of NAD+, while IDH2 catalyzes the same reaction coupled to the reduction of NADP+, a reaction whose normal physiological function is unclear. Both reactions are annotated. The cyclical nature of the reactions responsible for the oxidation of acetate was first suggested by Hans Krebs from biochemical studies of pigeon breast muscle (Krebs et al., 1938; Krebs and Eggleston, 1940). Ochoa and colleagues studied many molecular details of individual reactions, mainly by studying enzymes purified from pig hearts (Ochoa, 1980). While the human homologs of these enzymes have all been identified, their biochemical characterization has, in general, been limited, and many molecular details of the human reactions are inferred from those worked out in studies of the model systems. Studies examining the impact of elevated citric acid cycle intermediates such as succinate and fumarate led to the recognition of the role of metabolites in driving cancer progression ('oncometabolites') (Pollard et al., 2005; reviewed in Hayashi et al., 2018). The role of TCA enzymes in disease was reviewed by Kang et al., 2021."
        ],
        [
         "26",
         "BMG_PW0027",
         "Those metabolic reactions involved in the synthesis, utilization and/or degradation glutamic acid/glutamate. Glutamate is the major excitatory neurotransmitter. [OneLook:www.onelook.com]",
         null,
         null
        ],
        [
         "27",
         "BMG_PW0028",
         "Those metabolic reactions involved in the synthesis, utilization and/or degradation of alanine, aspartate and glutamate. [OneLook:www.onelook.com]",
         null,
         null
        ],
        [
         "28",
         "BMG_PW0029",
         "Acetyl-CoA, the starting material for fatty acid biosynthesis, can be derived from amino acid and lipid degradation or the oxidative decarboxylation of pyruvate. Fatty acid biosynthesis involves the condensation of C2 units; it requires seven enzymatic reactions which are carried out by the multifunctional enzyme fatty acid synthase. [GO:0006633, KEGG:00061, PMID:11248039, PMID:8001737, SMP:00456]",
         null,
         null
        ],
        [
         "29",
         "BMG_PW0030",
         "Those metabolic reactions involved in the synthesis, utilization and/or degradation of purines. Purines consist of a pyrimidine ring fused to an imidazole ring. The nucleobases adenine and guanine in DNA are purines. [GO:0006144, KEGG:00230, OneLook:www.onelook.com, SMP:00050]",
         null,
         null
        ],
        [
         "30",
         "BMG_PW0031",
         "Those metabolic reactions involved in the synthesis, utilization and/or degradation of pyrimidines. Cytosine, thymine and uracil - the nucleobases found in nucleic acids, are pyrimidine derivatives. [GO:0006206, KEGG:00240, OneLook:www.onelook.com, SMP:00046]",
         null,
         null
        ],
        [
         "31",
         "BMG_PW0032",
         "Those metabolic reactions and pathways whose role is to release or provide energy. [OneLook:www.onelook.com]",
         null,
         null
        ],
        [
         "32",
         "BMG_PW0033",
         "Those metabolic reactions whereby the electrons, derived from the oxidation of glucose and lipids or the degradation of amino acids, are passed to oxygen via a series of series of spatially separated complexes. The energy derived generates an electrochemical gradient that drives the synthesis of ATP. The coupling between the electron transport chain, also known as the respiratory chain, and the ATP biosynthetic pathway is known as oxidative phosphorylation. Under certain circumstances the two may be uncoupled. [GO:0022904, OneLook:www.onelook.com, PMID:19760284, PMID:21625217, Reactome:R-HSA-611105, SMP:00355]",
         null,
         "Mitochondria are often described as the \"powerhouse\" of a cell as it is here that energy is largely released from the oxidation of food. Reducing equivalents generated from beta-oxidation of fatty acids and from the Krebs cycle enter the electron transport chain (also called the respiratory chain). During a series of redox reactions, electrons travel down the chain releasing their energy in controlled steps. These reactions drive the active transport of protons from the mitochondrial matrix , through the inner membrane to the intermembrane space. The respiratory chain consists of five main types of carrier; flavins, iron-sulfur centres, quinones, cytochromes (heme proteins) and copper. The two main reducing equivalents entering the respiratory chain are NADH and FADH2. NADH is linked through the NADH-specific dehydrogenase whereas FADH2 is reoxidised within succinate dehydrogenase and a ubiquinone reductase of the fatty acid oxidation pathway. Oxygen is the final acceptor of electrons and with protons, is converted to form water, the end product of aerobic cellular respiration. A proton electrochemical gradient (often called protonmotive force) is established across the inner membrane, with positive charge in the intermembrane space relative to the matrix. Protons driven by the proton-motive force, can enter ATP synthase thus returning to the mitochondrial matrix. ATP synthases use this exergonic flow to form ATP in the matrix, a process called chemiosmotic coupling. A by-product of this process is heat generation. An antiport, ATP-ADP translocase, preferentially exports ATP from the matrix thereby maintaining a high ADP:ATP ratio in the matrix. The tight coupling of electron flow to ATP synthesis means oxygen consumption is dependent on ADP availability (termed respiratory control). High ADP (low ATP) increases electron flow thereby increasing oxygen consumption and low ADP (high ATP) decreases electron flow and thereby decreases oxygen consumption. There are many inhibitors of mitochondrial ATP synthesis. Most act by either blocking the flow of electrons (eg cyanide, carbon monoxide, rotenone) or uncoupling electron flow from ATP synthesis (eg dinitrophenol). Thermogenin is a natural protein found in brown fat. Newborn babies have a large amount of brown fat and the heat generated by thermogenin is an alternative to ATP synthesis (and thus electron flow only produces heat) and allows the maintenance of body temperature in newborns. The electron transport chain is located in the inner mitochondrial membrane and comprises some 80 proteins organized in four enzymatic complexes (I-IV). Complex V generates ATP but has no electron transfer activity. In addition to these 5 complexes, there are also two electron shuttle molecules; Coenzyme Q (also known as ubiquinone, CoQ) and Cytochrome c (Cytc). These two molecules shuttle electrons between the large complexes in the chain. How many ATPs are generated by this process? Theoretically, for each glucose molecule, 32 ATPs can be produced. As electrons drop from NADH to oxygen in the chain, the number of protons pumped out and returning through ATP synthase can produce 2.5 ATPs per electron pair. For each pair donated by FADH2, only 1.5 ATPs can be formed. Twelve pairs of electrons are removed from each glucose molecule; 10 by NAD+ = 25 ATPs 2 by FADH2 = 3 ATPs. Making a total of 28 ATPs. However, 2 ATPs are formed during the Krebs' cycle and 2 ATPs formed during glycolysis for each glucose molecule therefore making a total ATP yield of 32 ATPs. In reality, the energy from the respiratory chain is used for other processes (such as active transport of important ions and molecules) so under conditions of normal respiration, the actual ATP yield probably does not reach 32 ATPs. The reducing equivalents that fuel the electron transport chain, namely NADH and FADH2, are produced by the Krebs cycle (TCA cycle) and the beta-oxidation of fatty acids. At three steps in the Krebs cycle (isocitrate conversion to oxoglutarate; oxoglutarate conversion to succinyl-CoA; Malate conversion to oxaloacetate), a pair of electrons (2e-) are removed and transferred to NAD+, forming NADH and H+. At a single step, a pair of electrons are removed from succinate, reducing FAD to FADH2. From the beta-oxidation of fatty acids, one step in the process forms NADH and H+ and another step forms FADH2. Cytoplasmic NADH, generated from glycolysis, has to be oxidized to reform NAD+, essential for glycolysis, otherwise glycolysis would cease to function. There is no carrier that transports NADH directly into the mitochondrial matrix and the inner mitochondrial membrane is impermeable to NADH so the cell uses two shuttle systems to move reducing equivalents into the mitochondrion and regenerate cytosolic NAD+. The first is the glycerol phosphate shuttle, which uses electrons from cytosolic NADH to produce FADH2 within the inner membrane. These electrons then flow to Coenzyme Q. Complex I is bypassed so only 1.5 ATPs can be formed per NADH via this route. The overall balanced equation, summing all the reactions in this system, is NADH (cytosol) + H+ (cytosol) + NAD+ (mito.) = NAD+ (cytosol) + NADH (mito.) + H+ (mito.) The malate-aspartate shuttle uses the oxidation of malate to generate NADH in the mitochondrial matrix. This NADH can then be fed directly to complex I and thus can form 3 ATPs via the respiratory chain. The overall balanced equation is NADH (cytosol) + H+ (cytosol) + FAD (inner memb.) = NAD+ (cytosol) + FADH2 (inner memb.) Both of these shuttle systems regenerate cytosolic NAD+. The entry point for NADH is complex I (NADH dehydrogenase) and the entry point for FADH2 is Coenzyme Q. The input of electrons from fatty acid oxidation via ubiquinone is complicated and not shown in the diagram."
        ],
        [
         "33",
         "BMG_PW0034",
         "Those metabolic reactions involved in the synthesis of adenosine triphosphate (ATP). ATP synthesis is coupled to the electron transfer or respiratory chain pathway which generates an electrochemical gradient that drives the phosphorylation of ADP. The coupling of the two pathways is called oxidative phosphorylation. Under certain circumstances however, the two may be uncoupled. [GO:0006754, OneLook:www.onelook.com, PMID:19760284, PMID:21625217]",
         null,
         null
        ],
        [
         "34",
         "BMG_PW0035",
         "Those metabolic reactions in the nitrogen cycle carried out by various microorganisms. [KEGG:map00910]",
         "The biological process of the nitrogen cycle is a complex interplay among different microorganisms catalyzing different reactions, where nitrogen is found in various oxidation states ranging from +5 in nitrate to -3 in ammonia. The core nitrogen cycle involves four reduction pathways and two oxidation pathways. Nitrogen fixation [MD:M00175] is the process of reducing atmospheric molecular nitrogen to ammonia, a biologically useful reduced form incorporated into amino acids and other vital compounds. The ability of fixing atmospheric nitrogen by the nitrogenase enzyme complex is present in restricted prokaryotes (diazotrophs). The other reduction pathways are assimilatory nitrate reduction [MD:M00531] and dissimilatory nitrate reduction [MD:M00530] both for conversion to ammonia, and denitrification [MD:M00529]. Denitrification is a respiration in which nitrate or nitrite is reduced as a terminal electron acceptor under low oxygen or anoxic conditions, producing gaseous nitrogen compounds (N2, NO and N2O) to the atmosphere. The two oxidation pathways are nitrification [MD:M00528] and anaerobic ammonium oxidation (anammox) [MD:M00973]. Nitrification is the oxidation of ammonia (NH3) with oxygen into nitrite followed by the oxidation of nitrite into nitrate. The first step is performed by ammonia-oxidizing microorganisms (e.g., Nitrosomonas and Nitrosococcus) and the second step by nitrite-oxidizing microorganisms (e.g., Nitrobacter). Anammox is a biochemical process of oxidizing ammonium (NH4+) into dinitrogen gas (N2) using nitrite as an electron acceptor. It occurs in the anammoxosome, a membrane bound compartment inside the cytoplasm, of anammox bacteria (e.g., Planctomycetes).",
         null
        ],
        [
         "35",
         "BMG_PW0036",
         "Those metabolic reactions involving sulfur - a component of methionine and cysteine amino acids and of co-enzymes and vitamins. It also serves as electron donor in anaerobic respiration. Microorganisms and plants can incorporate inorganic sulfate into bioinorganic compounds; higher organisms derive them from diet. [GO:0006790, http://en.wikipedia.org/wiki/Sulfur_metabolism Wikipedia, KEGG:00920, KEGG:map00920, PMID:16143557]",
         null,
         null
        ],
        [
         "36",
         "BMG_PW0037",
         "OBSOLETE. Originally found at KEGG, the term has since been deleted. [PW_dictionary:InHouse_dictionary]",
         null,
         null
        ],
        [
         "37",
         "BMG_PW0038",
         "Those metabolic reactions involved in the biosynthesis of bile acids - any of the steroid carboxylic acids derived from cholesterol. Cholic and chenodeoxycholic acids are the primary bile acids and are formed in the liver. Secondary bile acids - deoxycholic and lithocholic - are formed from the primary bile acids through the action of intestinal bacteria. Bile acid also acts as a signal molecule via several nuclear receptors. [GO:0006699, KEGG:00120, OneLook:www.onelook.com, PMID:22414897, SMP:00035]",
         "Bile acids are steroid carboxylic acids derived from cholesterol in vertebrates. The primary bile acids, cholic acid and chenodeoxycholic acid, are synthesized in the liver and conjugated with taurine or glycine before secretion via bile into the intestine. The conversion from cholesterol to cholic and chenodeoxycholic acids involves four steps: 1) the initiation of synthesis by 7alpha-hydroxylation of sterol precursors, 2) further modifications to the ring structures, 3) side-chain oxidation and shortening (cleavage) by three carbons, and 4) conjugation of the bile acid with taurine or glycine.",
         null
        ],
        [
         "38",
         "BMG_PW0039",
         "Those metabolic reactions involved in the synthesis of steroid hormones. All steroid hormones are derived from cholesterol. Steroid hormone metabolism is extremely complex and its molecular details are incompletely understood. De novo steroid biosynthesis is confined to very few tissues, primarily the adrenals, the gonads and the placenta. [GO:0120178, KEGG:00140, KEGG:map00140, OneLook:www.onelook.com, PMID:17926129, SMP:00130]",
         null,
         null
        ],
        [
         "39",
         "BMG_PW0040",
         "Those metabolic reactions involved in the synthesis, utilization and/or degradation of fructose and mannose, as depicted in the KEGG diagram. [KEGG:map00051, OneLook:www.onelook.com]",
         null,
         null
        ],
        [
         "40",
         "BMG_PW0041",
         "Those metabolic reactions involved in the synthesis, utilization and/or degradation of galactose - an aldohexose epimeric with glucose at the 4 carbon. Galactose is a component of lactose and other oligosaccharides, cerebrosides and gangliosides, and of various glycolipids and glycoproteins. [GO:0006012, KEGG:00052, KEGG:map00052, OneLook:www.onelook.com, SMP:00043]",
         null,
         null
        ],
        [
         "41",
         "BMG_PW0042",
         "Those metabolic reactions involved in the synthesis, utilization and/or degradation of pyruvate - a salt, ester, or anionic form of pyruvic acid. Pyruvate, which is the end-product of glycolysis, can be converted to lactate under anaerobic conditions, can be further oxidized via the Krebs or citrate cycle or can be converted back to glucose via gluconeogenesis. [GO:0006090, KEGG:00620, KEGG:00620, OneLook:www.onelook.com, Reactome:R-HSA-70268, SMP:00060]",
         null,
         "Pyruvate sits at an intersection of key pathways of energy metabolism. It is the end product of glycolysis and the starting point for gluconeogenesis and can be generated by the transamination of alanine. The pyruvate dehydrogenase complex can convert it to acetyl CoA (Reed and Hackert 1990), which can enter the TCA cycle or serve as the starting point for the syntheses of long-chain fatty acids, steroids, and ketone bodies depending on the tissue and metabolic state in which it is formed. It also plays a central role in balancing the energy needs of various tissues in the body. Under conditions in which oxygen supply is limiting, e.g., in exercising muscle, or in the absence of mitochondria, e.g., in red blood cells, re-oxidation of NADH produced by glycolysis cannot be coupled to the generation of ATP. Instead, re-oxidation is coupled to the reduction of pyruvate to lactate. This lactate is released into the blood and taken up primarily by the liver, where it is oxidized to pyruvate and can be used for gluconeogenesis (Cori 1981). For a recent review, see Prochownik & Wang, 2021."
        ],
        [
         "42",
         "BMG_PW0043",
         "OBSOLETE. Duplicated term. Use PW:0000027. [PW_dictionary:InHouse_dictionary]",
         null,
         null
        ],
        [
         "43",
         "BMG_PW0044",
         "Those metabolic reactions involved in the generation of reducing equivalents and five carbon (pentose) sugars. The oxidative phase is irreversible; the non-oxidative is reversible. [GO:0006098, KEGG:map00030, OneLook:www.oneloook.com, Reactome:R-HSA-71336, SMP:00031]",
         "The pentose phosphate pathway is a process of glucose turnover that produces NADPH as reducing equivalents and pentoses as essential parts of nucleotides. There are two different phases in the pathway. One is irreversible oxidative phase in which glucose-6P is converted to ribulose-5P by oxidative decarboxylation, and NADPH is generated [MD:M00006]. The other is reversible non-oxidative phase in which phosphorylated sugars are interconverted to generate xylulose-5P, ribulose-5P, and ribose-5P [MD:M00007]. Phosphoribosyl pyrophosphate (PRPP) formed from ribose-5P [MD:M00005] is an activated compound used in the biosynthesis of histidine and purine/pyrimidine nucleotides. This pathway map also shows the Entner-Doudoroff pathway where 6-P-gluconate is dehydrated and then cleaved into pyruvate and glyceraldehyde-3P [MD:M00008].",
         "The pentose phosphate pathway is responsible for the generation of a substantial fraction of the cytoplasmic NADPH required for biosynthetic reactions, and for the generation of ribose 5-phosphate for nucleotide synthesis. Although the pentose phosphate pathway and glycolysis are distinct, they involve three common intermediates, glucose 6-phosphate, glyceraldehyde 3-phosphate, and fructose 6-phosphate, so the two pathways are interconnected. The pentose phosphate pathway consists of eight reactions:1. Conversion glucose 6-phosphate to D-glucono-1,5-lactone 6-phosphate, with the formation of NADPH; 2. Conversion of D-glucono-1,5-lactone 6-phosphate to 6-phospho-D-gluconate; 3. Conversion of 6-phospho-D-gluconate to ribulose 5-phosphate, with the formation of NADPH; 4. Conversion of ribulose 5-phosphate to xylulose 5-phosphate; 5. Conversion of ribulose 5-phosphate to ribose 5-phosphate; 6. Rearrangement of ribose 5-phosphate and xylulose 5-phosphate to form sedoheptulose 7-phosphate and glyceraldehyde 3-phosphate; 7. Rearrangement of sedoheptulose 7-phosphate and glyceraldehyde 3-phosphate to form erythrose 4-phosphate and fructose 6-phosphate; and 8. Rearrangement of xylulose 5-phosphate and erythrose 4-phosphate to form glyceraldehyde 3-phosphate and fructose-6-phosphate. The oxidative branch of the pentose phosphate pathway, reactions 1-3, generates NADPH and pentose 5-phosphate. The non-oxidative branch of the pathway, reactions 4-8, converts pentose 5-phosphate to other sugars. The overall pathway can operate to generate only NADPH (glucose 6-phosphate is converted to pentose 5-phosphates, which are directed to the synthesis of fructose 6-phosphate and glyceraldehyde 3-phosphate, which in turn are converted back to glucose 6-phosphate). The reactions of the non-oxidative branch can operate to generate net amounts of ribose 5-phosphate with no production of NADPH. Net flux through this network of reactions appears to depend on the metabolic state of the cell and the nature of the biosynthetic reactions underway (Casazza and Veech 1987). G6PD, the enzyme that catalyzes the first reaction of the pathway, is more extensively mutated in human populations than any other enzyme, pehaps because these mutant alleles confer malaria resistance (Luzzatto and Afolayan 1968). Mutations affecting other parts of the pathway are rare, though several have been described and studies of their effects have contributed to our understanding of the normal flux of metabolites through this network of reactions (Wamelink et al. 2008)."
        ],
        [
         "44",
         "BMG_PW0045",
         "Those metabolic reactions involved in the synthesis, utilization and/or degradation of inositol, a cyclic sugar alcohol occurring in a number of stereoisomers of which myo-inositol is the most prominent form. myo-inositol provides a structural basis for compounds such as inositol phosphates and phosphatidylinositols, which are secondary messengers in several signaling pathways. [GO:0006020, OneLook:www.onelook.com, SMP:00011]",
         null,
         null
        ],
        [
         "45",
         "BMG_PW0046",
         "Those metabolic reactions involved in the synthesis of glycine, serine and threonine and which are intimately connected with serine being synthesized from glycine and threonine. [OneLook:www.onelook.com]",
         null,
         null
        ],
        [
         "46",
         "BMG_PW0047",
         "Those metabolic reactions involved in the synthesis (remethylation), utilization and/or degradation of methionine, an essential amino acid for humans. The cycle produces S-adenosylmethionine (AdoMet),  the major methyl donor for proteins, nucleic acids, lipids and other small molecules. The cycle also produces homocysteine (Hcy) which either regenerates methionine via the  remethylation pathway or leads to the synthesis of cysteine and derivatives via the transsulfuration pathway. Homocysteine and folate metabolic pathways are intimately related to the methionine cycle. [MCW_library_book:Homocysteine_in_Health_and_Disease]",
         null,
         null
        ],
        [
         "47",
         "BMG_PW0048",
         "Those metabolic reactions involved in the synthesis, utilization and/or degradation of cysteine, a non-essential amino acid that could be essential in certain cases. Its side chain contains a sulfhydryl group that is readily oxidized to form the cystine dimer covalently linked by a disulfide bond. [GO:0006534, OneLook:www.onelook.com, SMP:00013]",
         null,
         null
        ],
        [
         "48",
         "BMG_PW0049",
         "Those metabolic reactions involved in the synthesis, utilization and/or degradation of arginine - an essential amino acid - and proline - an amino acid that can play important roles in protein secondary structure. [OneLook:www.onelook.com]",
         null,
         null
        ],
        [
         "49",
         "BMG_PW0050",
         "Those metabolic reactions involved in the synthesis, utilization and/or degradation of histidine, an essential amino acid which can act as either a proton donor or a proton acceptor. While the synthesis and degradation pathways of histidine are present in microorganisms, histidine can be acted upon by eukaryotic enzymes. Histidine is the precursor of histamine, is involved in immune responses and also acts as a neurotransmitter. [GO:0006547, KEGG:00340, OneLook:www.onelook.com, SMP:00044]",
         null,
         null
        ]
       ],
       "shape": {
        "columns": 4,
        "rows": 6793
       }
      },
      "text/html": [
       "<div>\n",
       "<style scoped>\n",
       "    .dataframe tbody tr th:only-of-type {\n",
       "        vertical-align: middle;\n",
       "    }\n",
       "\n",
       "    .dataframe tbody tr th {\n",
       "        vertical-align: top;\n",
       "    }\n",
       "\n",
       "    .dataframe thead th {\n",
       "        text-align: right;\n",
       "    }\n",
       "</style>\n",
       "<table border=\"1\" class=\"dataframe\">\n",
       "  <thead>\n",
       "    <tr style=\"text-align: right;\">\n",
       "      <th></th>\n",
       "      <th>BioMedGraphica_ID</th>\n",
       "      <th>PO</th>\n",
       "      <th>KEGG</th>\n",
       "      <th>Reactome</th>\n",
       "    </tr>\n",
       "  </thead>\n",
       "  <tbody>\n",
       "    <tr>\n",
       "      <th>0</th>\n",
       "      <td>BMG_PW0001</td>\n",
       "      <td>A pathway is a set of inter-connected  reactio...</td>\n",
       "      <td>NaN</td>\n",
       "      <td>NaN</td>\n",
       "    </tr>\n",
       "    <tr>\n",
       "      <th>1</th>\n",
       "      <td>BMG_PW0002</td>\n",
       "      <td>The various, enzyme-controlled, series of reac...</td>\n",
       "      <td>NaN</td>\n",
       "      <td>Metabolic processes in human cells generate en...</td>\n",
       "    </tr>\n",
       "    <tr>\n",
       "      <th>2</th>\n",
       "      <td>BMG_PW0003</td>\n",
       "      <td>The pathways where a signal - hormone, neurotr...</td>\n",
       "      <td>NaN</td>\n",
       "      <td>Signal transduction is a process in which extr...</td>\n",
       "    </tr>\n",
       "    <tr>\n",
       "      <th>3</th>\n",
       "      <td>BMG_PW0004</td>\n",
       "      <td>The pathways that control the processes by whi...</td>\n",
       "      <td>NaN</td>\n",
       "      <td>NaN</td>\n",
       "    </tr>\n",
       "    <tr>\n",
       "      <th>4</th>\n",
       "      <td>BMG_PW0005</td>\n",
       "      <td>Those metabolic reactions and pathways involve...</td>\n",
       "      <td>Carbon metabolism is the most basic aspect of ...</td>\n",
       "      <td>Starches and sugars are major constituents of ...</td>\n",
       "    </tr>\n",
       "    <tr>\n",
       "      <th>...</th>\n",
       "      <td>...</td>\n",
       "      <td>...</td>\n",
       "      <td>...</td>\n",
       "      <td>...</td>\n",
       "    </tr>\n",
       "    <tr>\n",
       "      <th>6788</th>\n",
       "      <td>BMG_PW6789</td>\n",
       "      <td>NaN</td>\n",
       "      <td>Graft-versus-host disease (GVHD) is a lethal c...</td>\n",
       "      <td>NaN</td>\n",
       "    </tr>\n",
       "    <tr>\n",
       "      <th>6789</th>\n",
       "      <td>BMG_PW6790</td>\n",
       "      <td>NaN</td>\n",
       "      <td>Primary immunodeficiencies (PIs) are a heterog...</td>\n",
       "      <td>NaN</td>\n",
       "    </tr>\n",
       "    <tr>\n",
       "      <th>6790</th>\n",
       "      <td>BMG_PW6791</td>\n",
       "      <td>NaN</td>\n",
       "      <td>Diabetic cardiomyopathy has been defined as le...</td>\n",
       "      <td>NaN</td>\n",
       "    </tr>\n",
       "    <tr>\n",
       "      <th>6791</th>\n",
       "      <td>BMG_PW6792</td>\n",
       "      <td>NaN</td>\n",
       "      <td>Atherosclerosis is a chronic inflammatory dise...</td>\n",
       "      <td>NaN</td>\n",
       "    </tr>\n",
       "    <tr>\n",
       "      <th>6792</th>\n",
       "      <td>BMG_PW6793</td>\n",
       "      <td>NaN</td>\n",
       "      <td>Shear stress represents the frictional force t...</td>\n",
       "      <td>NaN</td>\n",
       "    </tr>\n",
       "  </tbody>\n",
       "</table>\n",
       "<p>6793 rows × 4 columns</p>\n",
       "</div>"
      ],
      "text/plain": [
       "     BioMedGraphica_ID                                                 PO  \\\n",
       "0           BMG_PW0001  A pathway is a set of inter-connected  reactio...   \n",
       "1           BMG_PW0002  The various, enzyme-controlled, series of reac...   \n",
       "2           BMG_PW0003  The pathways where a signal - hormone, neurotr...   \n",
       "3           BMG_PW0004  The pathways that control the processes by whi...   \n",
       "4           BMG_PW0005  Those metabolic reactions and pathways involve...   \n",
       "...                ...                                                ...   \n",
       "6788        BMG_PW6789                                                NaN   \n",
       "6789        BMG_PW6790                                                NaN   \n",
       "6790        BMG_PW6791                                                NaN   \n",
       "6791        BMG_PW6792                                                NaN   \n",
       "6792        BMG_PW6793                                                NaN   \n",
       "\n",
       "                                                   KEGG  \\\n",
       "0                                                   NaN   \n",
       "1                                                   NaN   \n",
       "2                                                   NaN   \n",
       "3                                                   NaN   \n",
       "4     Carbon metabolism is the most basic aspect of ...   \n",
       "...                                                 ...   \n",
       "6788  Graft-versus-host disease (GVHD) is a lethal c...   \n",
       "6789  Primary immunodeficiencies (PIs) are a heterog...   \n",
       "6790  Diabetic cardiomyopathy has been defined as le...   \n",
       "6791  Atherosclerosis is a chronic inflammatory dise...   \n",
       "6792  Shear stress represents the frictional force t...   \n",
       "\n",
       "                                               Reactome  \n",
       "0                                                   NaN  \n",
       "1     Metabolic processes in human cells generate en...  \n",
       "2     Signal transduction is a process in which extr...  \n",
       "3                                                   NaN  \n",
       "4     Starches and sugars are major constituents of ...  \n",
       "...                                                 ...  \n",
       "6788                                                NaN  \n",
       "6789                                                NaN  \n",
       "6790                                                NaN  \n",
       "6791                                                NaN  \n",
       "6792                                                NaN  \n",
       "\n",
       "[6793 rows x 4 columns]"
      ]
     },
     "execution_count": 9,
     "metadata": {},
     "output_type": "execute_result"
    }
   ],
   "source": [
    "pathway_description = pd.merge(pathway_description_po, pathway_description_kegg)\n",
    "pathway_description = pd.merge(pathway_description, pathway_description_reactome)\n",
    "pathway_description"
   ]
  },
  {
   "cell_type": "code",
   "execution_count": 10,
   "metadata": {},
   "outputs": [
    {
     "name": "stdout",
     "output_type": "stream",
     "text": [
      "Data has been saved to D:\\RA\\BMG\\BioMedGraphica\\Entity\\Pathway\\BioMedGraphica_Pathway_Description.csv\n"
     ]
    }
   ],
   "source": [
    "import os\n",
    "from pathlib import Path\n",
    "\n",
    "# get the current working directory\n",
    "current_working_dir = Path(os.getcwd()).resolve()\n",
    "\n",
    "# get the output directory\n",
    "grandparent_dir = current_working_dir.parent.parent.parent\n",
    "\n",
    "target_folder = grandparent_dir / 'BioMedGraphica' / 'Entity' / 'Pathway'\n",
    "if not target_folder.exists():\n",
    "    target_folder.mkdir(parents=True)\n",
    "    print(f\"Folder {target_folder} has been created.\")\n",
    "\n",
    "output_file_path = target_folder / 'BioMedGraphica_Pathway_Description.csv'\n",
    "pathway_description.to_csv(output_file_path, index=False)\n",
    "print(f\"Data has been saved to {output_file_path}\")"
   ]
  },
  {
   "cell_type": "markdown",
   "metadata": {},
   "source": [
    "### 5.5 Combined Description"
   ]
  },
  {
   "cell_type": "code",
   "execution_count": 11,
   "metadata": {},
   "outputs": [
    {
     "data": {
      "application/vnd.microsoft.datawrangler.viewer.v0+json": {
       "columns": [
        {
         "name": "index",
         "rawType": "int64",
         "type": "integer"
        },
        {
         "name": "BioMedGraphica_ID",
         "rawType": "object",
         "type": "string"
        },
        {
         "name": "Description",
         "rawType": "object",
         "type": "string"
        }
       ],
       "conversionMethod": "pd.DataFrame",
       "ref": "0702a049-070d-47f6-80ca-92ca94f0ac65",
       "rows": [
        [
         "0",
         "BMG_PW0001",
         "PO: A pathway is a set of inter-connected  reactions and interactions whose delineation and scope are used as a model for exploring and studying, describing and understanding the working of and relationships between biomolecules within a context. []"
        ],
        [
         "1",
         "BMG_PW0002",
         "PO: The various, enzyme-controlled, series of reactions allowing for the conversion of materials, energy availability and biodegradation of xenobiotics. [GO:0008152, http://www.onelook.com/ OneLook, Reactome:R-HSA-1430728] | Reactome: Metabolic processes in human cells generate energy through the oxidation of molecules consumed in the diet and mediate the synthesis of diverse essential molecules not taken in the diet as well as the inactivation and elimination of toxic ones generated endogenously or present in the extracellular environment. The processes of energy metabolism can be classified into two groups according to whether they involve carbohydrate-derived or lipid-derived molecules, and within each group it is useful to distinguish processes that mediate the breakdown and oxidation of these molecules to yield energy from ones that mediate their synthesis and storage as internal energy reserves. Synthetic reactions are conveniently grouped by the chemical nature of the end products, such as nucleotides, amino acids and related molecules, and porphyrins. Detoxification reactions (biological oxidations) are likewise conveniently classified by the chemical nature of the toxin. At the same time, all of these processes are tightly integrated. Intermediates in reactions of energy generation are starting materials for biosyntheses of amino acids and other compounds, broad-specificity oxidoreductase enzymes can be involved in both detoxification reactions and biosyntheses, and hormone-mediated signaling processes function to coordinate the operation of energy-generating and energy-storing reactions and to couple these to other biosynthetic processes."
        ],
        [
         "2",
         "BMG_PW0003",
         "PO: The pathways where a signal - hormone, neurotransmitter, growth factor, peptide, any molecule - triggers one or multiple cascades of events. This involves a number of molecules, including receptors, proteins, ligands, messengers, any participating molecule. A signaling pathway may be upstream or downstream of other signaling pathways. Signaling pathways control a very broad spectrum of processes as well as pathways. [GO:0007165, OneLook:www.onelook.com, Reactome:R-HSA-162582] | Reactome: Signal transduction is a process in which extracellular signals elicit changes in cell state and activity. Transmembrane receptors sense changes in the cellular environment by binding ligands, such as hormones and growth factors, or reacting to other types of stimuli, such as light. Stimulation of transmembrane receptors leads to their conformational change which propagates the signal to the intracellular environment by activating downstream signaling cascades. Depending on the cellular context, this may impact cellular proliferation, differentiation, and survival. On the organism level, signal transduction regulates overall growth and behavior. Receptor tyrosine kinases (RTKs) transmit extracellular signals by phosphorylating their protein partners on conserved tyrosine residues. Some of the best studied RTKs are EGFR (reviewed in Avraham and Yarden, 2011), FGFR (reviewed in Eswarakumar et al, 2005), insulin receptor (reviewed in Saltiel and Kahn, 2001), NGF (reviewed in Reichardt, 2006), PDGF (reviewed in Andrae et al, 2008) and VEGF (reviewed in Xie et al, 2004). RTKs frequently activate downstream signaling through RAF/MAP kinases (reviewed in McKay and Morrison, 2007 and Wellbrock et al 2004), AKT (reviewed in Manning and Cantley, 2007) and PLC- gamma (reviewed in Patterson et al, 2005), which ultimately results in changes in gene expression and cellular metabolism. Receptor serine/threonine kinases of the TGF-beta family, such as TGF-beta receptors (reviewed in Kang et al. 2009) and BMP receptors (reviewed in Miyazono et al. 2009), transmit extracellular signals by phosphorylating regulatory SMAD proteins on conserved serine and threonine residues. This leads to formation of complexes of regulatory SMADs and SMAD4, which translocate to the nucleus where they act as transcription factors. WNT receptors transmit their signal through beta-catenin. In the absence of ligand, beta-catenin is constitutively degraded in a ubiquitin-dependent manner. WNT receptor stimulation releases beta-catenin from the destruction complex, allowing it to translocate to the nucleus where it acts as a transcriptional regulator (reviewed in MacDonald et al, 2009 and Angers and Moon, 2009). WNT receptors were originally classified as G-protein coupled receptors (GPCRs). Although they are structurally related, GPCRs primarily transmit their signals through G-proteins, which are trimers of alpha, beta and gamma subunits. When a GPCR is activated, it acts as a guanine nucleotide exchange factor, catalyzing GDP to GTP exchange on the G-alpha subunit of the G protein and its dissociation from the gamma-beta heterodimer. The G-alpha subunit regulates the activity of adenylate cyclase, while the gamma-beta heterodimer can activate AKT and PLC signaling (reviewed in Rosenbaum et al. 2009, Oldham and Hamm 2008, Ritter and Hall 2009). NOTCH receptors are activated by transmembrane ligands expressed on neighboring cells, which results in cleavage of NOTCH receptor and release of its intracellular domain. NOTCH intracellular domain translocates to the nucleus where it acts as a transcription factor (reviewed in Kopan and Ilagan, 2009). Integrins are activated by extracellular matrix components, such as fibronectin and collagen, leading to conformational change and clustering of integrins on the cell surface. This results in activation of integrin-linked kinase and other cytosolic kinases and, in co-operation with RTK signaling, regulates survival, proliferation and cell shape and adhesion (reviewed in Hehlgans et al, 2007) . Besides inducing changes in gene expression and cellular metabolism, extracellular signals that trigger the activation of Rho GTP-ases can trigger changes in the organization of cytoskeleton, thereby regulating cell polarity and cell-cell junctions (reviewed in Citi et al, 2011)."
        ],
        [
         "3",
         "BMG_PW0004",
         "PO: The pathways that control the processes by which a cell or organism develops, adjusts, behaves, responds to conditions or changes in these conditions, or in any manner helps promote and maintain its efficient functioning. [OneLook:www.onelook.com]"
        ],
        [
         "4",
         "BMG_PW0005",
         "PO: Those metabolic reactions and pathways involved in the oxidation, breakdown and synthesis of carbohydrates in the tissue. The breakdown can be utilized by the body for energy production. The converse synthesis is used for energy storage. [GO:0005975, OneLook:www.onelook.com, Reactome:R-HSA-71387] | KEGG: Carbon metabolism is the most basic aspect of life. This map presents an overall view of central carbon metabolism, where the number of carbons is shown for each compound denoted by a circle, excluding a cofactor (CoA, CoM, THF, or THMPT) that is replaced by an asterisk. The map contains carbon utilization pathways of glycolysis (map00010), pentose phosphate pathway (map00030), and citrate cycle (map00020), and six known carbon fixation pathways (map00710 and map00720) as well as some pathways of methane metabolism (map00680). The six carbon fixation pathways are: (1) reductive pentose phosphate cycle (Calvin cycle) in plants and cyanobacteria that perform oxygenic photosynthesis, (2) reductive citrate cycle in photosynthetic green sulfur bacteria and some chemolithoautotrophs, (3) 3-hydroxypropionate bi-cycle in photosynthetic green nonsulfur bacteria, two variants of 4-hydroxybutyrate pathways in Crenarchaeota called (4) hydroxypropionate-hydroxybutyrate cycle and (5) dicarboxylate-hydroxybutyrate cycle, and (6) reductive acetyl-CoA pathway in methanogenic bacteria. | Reactome: Starches and sugars are major constituents of the human diet and the catabolism of monosaccharides, notably glucose, derived from them is an essential part of human energy metabolism (Dashty 2013). Glucose can be catabolized to pyruvate (glycolysis) and pyruvate synthesized from diverse sources can be metabolized to form glucose (gluconeogenesis). Glucose can be polymerized to form glycogen under conditions of glucose excess (glycogen synthesis), and glycogen can be broken down to glucose in response to stress or starvation (glycogenolysis). Other monosaccharides prominent in the diet, fructose and galactose, can be converted to glucose. The disaccharide lactose, the major carbohydrate in breast milk, is synthesized in the lactating mammary gland. The pentose phosphate pathway allows the synthesis of diverse monosaccharides from glucose including the pentose ribose-5-phosphate and the regulatory molecule xylulose-5-phosphate, as well as the generation of reducing equivalents for biosynthetic processes. Glycosaminoglycan metabolism and xylulose-5-phosphate synthesis from glucuronate are also annotated as parts of carbohydrate metabolism. The digestion of dietary starch and sugars and the uptake of the resulting monosaccharides into the circulation from the small intestine are annotated as parts of the “Digestion and absorption” pathway."
        ],
        [
         "5",
         "BMG_PW0006",
         "PO: The Ras superfamily consists of a diverse group of small, monomeric G proteins that function as molecular switches alternating between the GDP-inactive and the GTP-active bound state. The GTP-bound form can interact with many downstream effectors. Ras superfamily controls a broad spectrum of processes; deregulation of Ras cascades has been linked to several forms of cancer. The superfamily is structurally classified in five families. [GO:0007265, PMID:11027944, PMID:11152757]"
        ],
        [
         "6",
         "BMG_PW0007",
         "PO: The mitogen-activated protein kinase pathway groups several serine/threonine protein kinase mediated cascades in response to a number of extracellular stimuli. A characteristic feature of these cascades is the presence of at least three kinases in series leading to the activation of a multifunctional MAP kinase. [GO:0000165, KEGG:map04010, PMID:14570565, PMID:14976517, PMID:17229475, PMID:17306385, Reactome:R-HSA-5683057] | KEGG: The mitogen-activated protein kinase (MAPK) cascade is a highly conserved module that is involved in various cellular functions, including cell proliferation, differentiation and migration. Mammals express at least four distinctly regulated groups of MAPKs, extracellular signal-related kinases (ERK)-1/2, Jun amino-terminal kinases (JNK1/2/3), p38 proteins (p38alpha/beta/gamma/delta) and ERK5, that are activated by specific MAPKKs: MEK1/2 for ERK1/2, MKK3/6 for the p38, MKK4/7 (JNKK1/2) for the JNKs, and MEK5 for ERK5. Each MAPKK, however, can be activated by more than one MAPKKK, increasing the complexity and diversity of MAPK signalling. Presumably each MAPKKK confers responsiveness to distinct stimuli. For example, activation of ERK1/2 by growth factors depends on the MAPKKK c-Raf, but other MAPKKKs may activate ERK1/2 in response to pro-inflammatory stimuli. | Reactome: The mitogen activated protein kinases (MAPKs) are a family of conserved protein serine threonine kinases that respond to varied extracellular stimuli to activate intracellular processes including gene expression, metabolism, proliferation, differentiation and apoptosis, among others. The classic MAPK cascades, including the ERK1/2 pathway, the p38 MAPK pathway, the JNK pathway and the ERK5 pathway are characterized by three tiers of sequentially acting, activating kinases (reviewed in Kryiakis and Avruch, 2012; Cargnello and Roux, 2011). The MAPK kinase kinase kinase (MAPKKK), at the top of the cascade, is phosphorylated on serine and threonine residues in response to external stimuli; this phosphorylation often occurs in the context of an interaction between the MAPKKK protein and a member of the RAS/RHO family of small GTP-binding proteins. Activated MAPKKK proteins in turn phosphorylate the dual-specificity MAPK kinase proteins (MAPKK), which ultimately phosphorylate the MAPK proteins in a conserved Thr-X-Tyr motif in the activation loop. Less is known about the activation of the atypical families of MAPKs, which include the ERK3/4 signaling cascade, the ERK7 cascade and the NLK cascade. Although the details are not fully worked out, these MAPK proteins don't appear to be phosphorylated downstream of a 3-tiered kinase system as described above (reviewed in Coulombe and Meloche, 2007; Cargnello and Roux, 2011) . Both conventional and atypical MAPKs are proline-directed serine threonine kinases and, once activated, phosphorylate substrates in the consensus P-X-S/T-P site. Both cytosolic and nuclear targets of MAPK proteins have been identified and upon stimulation, a proportion of the phosphorylated MAPKs relocalize from the cytoplasm to the nucleus. In some cases, nuclear translocation may be accompanied by dimerization, although the relationship between these two events is not fully elaborated (reviewed in Kryiakis and Avruch, 2012; Cargnello and Roux, 2011; Plotnikov et al, 2010)."
        ],
        [
         "7",
         "BMG_PW0008",
         "PO: The secreted glycoproteins of the Wnt family regulate a wide spectrum of developmental processes and they are also playing important roles in the adult organism. Deregulation of Wnt cascades has oncogenic effects and is responsible for tumorigenesis in adults. [GO:0016055, KEGG:04310, PMID:12573432, PMID:15001769, PMID:15041171, Reactome:R-HSA-195721] | KEGG: Wnt proteins are secreted morphogens that are required for basic developmental processes, such as cell-fate specification, progenitor-cell proliferation and the control of asymmetric cell division, in many different species and organs. There are at least three different Wnt pathways: the canonical pathway, the planar cell polarity (PCP) pathway and the Wnt/Ca2+ pathway. In the canonical Wnt pathway, the major effect of Wnt ligand binding to its receptor is the stabilization of cytoplasmic beta-catenin through inhibition of the bea-catenin degradation complex. Beta-catenin is then free to enter the nucleus and activate Wnt-regulated genes through its interaction with TCF (T-cell factor) family transcription factors and concomitant recruitment of coactivators. Planar cell polarity (PCP) signaling leads to the activation of the small GTPases RHOA (RAS homologue gene-family member A) and RAC1, which activate the stress kinase JNK (Jun N-terminal kinase) and ROCK (RHO-associated coiled-coil-containing protein kinase 1) and leads to remodelling of the cytoskeleton and changes in cell adhesion and motility. WNT-Ca2+ signalling is mediated through G proteins and phospholipases and leads to transient increases in cytoplasmic free calcium that subsequently activate the kinase PKC (protein kinase C) and CAMKII (calcium calmodulin mediated kinase II) and the phosphatase calcineurin. | Reactome: WNT signaling pathways control a wide range of developmental and adult process in metozoans including cell proliferation, cell fate decisions, cell polarity and stem cell maintenance (reviewed in Saito-Diaz et al, 2013; MacDonald et al, 2009). The pathway is named for the WNT ligands, a large family of secreted cysteine-rich glycoproteins. At least 19 WNT members have been identified in humans and mice with distinct expression patterns during development (reviewed in Willert and Nusse, 2012). These ligands can activate at least three different downstream signaling cascades depending on which receptors they engage. In the so-called 'canonical' WNT signaling pathway, WNT ligands bind one of the 10 human Frizzled (FZD) receptors in conjunction with the LRP5/6 co-receptors to activate a transcriptional cascade that controls processes such as cell fate, proliferation and self-renenwal of stem cells. Engagement of the FZD-LRP receptor by WNT ligand results in the stabilization and translocation of cytosolic beta-catenin to the nucleus where it is a co-activator for LEF (lymphoid enhancer-binding factor)- and TCF (T cell factor) -dependent transcription. In the absence of WNT ligand, cytosolic beta-catenin is phosphorylated by a degradation complex consisting of glycogen synthase kinase 3 (GSK3), casein kinase 1 (CK1), Axin and Adenomatous polyposis coli (APC), and subsequently ubiquitinated and degraded by the 26S proteasome (reviewed in Saito-Diaz et al, 2013; Kimmelman and Xu, 2006). In addition to the beta-catenin-dependent transcriptional response, WNT signaling can also activate distinct non-transcriptional pathways that regulate cell migration and polarity. These beta-catenin-independent 'non-canonical' pathways signal through Frizzled receptors independently of LRP5/6, or occur through the tyrosine kinase receptors ROR and RYK (reviewed in Veeman et al, 2003; James et al, 2009). Non-canonical WNT pathways are best studied in Drosophila where the planar cell polarity (PCP) pathway controls the orientation of wing hairs and eye facets, but are also involved in processes such as convergent extension, neural tube closure, inner ear development and hair orientation in vertebrates and mammals(reviewed in Seifert and Mlodzik, 2007; Simons and Mlodzik, 2008). In the PCP pathway, binding of WNT ligand to the FZD receptor leads to activation of small Rho GTPases and JNK, which regulate the cytoskeleton and coordinate cell migration and polarity (reviewed in Lai et al, 2009; Schlessinger et al, 2009). In some cases, a FZD-WNT interaction increases intracellular calcium concentration and activates CaMK II and PKC; this WNT calcium pathway promotes cell migration and inhibits the canonical beta-catenin dependent transcriptional pathway (reviewed in Kuhl et al, 2000; Kohn and Moon, 2005; Rao et al 2010). Binding of WNT to ROR or RYK receptors also regulates cell migration, apparently through activation of JNK or SRC kinases, respectively, however the details of these pathways remain to be worked out (reviewed in Minami et al, 2010). Although the WNT signaling pathways were originally viewed as discrete, linear pathways controlled by defined subsets of 'canonical' or 'non-canonical' ligands and receptors, the emerging evidence is challenging this notion. Instead, the specificity and the downstream response appear to depend on the particular cellular context and vary with species, tissue and stage of development (reviewed in van Amerongen and Nusse, 2009; Rao et al, 2010)."
        ],
        [
         "8",
         "BMG_PW0009",
         "PO: Apoptosis is a programmed cell death pathway that is characterized by particular morphological features such as membrane blebbing and DNA fragmentation. It can be intrinsic or extrinsic and involves the activation of caspases. [GO:0006915, KEGG:map04210, PMID:12196263, PMID:18414491, Reactome:R-HSA-109581] | KEGG: Apoptosis is a genetically programmed process for the elimination of damaged or redundant cells by activation of caspases (aspartate-specific cysteine proteases). The onset of apoptosis is controlled by numerous interrelating processes. The 'extrinsic' pathway involves stimulation of members of the tumor necrosis factor (TNF) receptor subfamily, such as TNFRI, CD95/Fas or TRAILR (death receptors), located at the cell surface, by their specific ligands, such as TNF-alpha, FasL or TRAIL, respectively. The 'intrinsic' pathway is activated mainly by non-receptor stimuli, such as DNA damage, ER stress, metabolic stress, UV radiation or growth-factor deprivation. The central event in the 'intrinsic' pathway is the mitochondrial outer membrane permeabilization (MOMP), which leads to the release of cytochrome c. These two pathways converge at the level of effector caspases, such as caspase-3 and caspase-7. The third major pathway is initiated by the constituents of cytotoxic granules (e.g. Perforin and Granzyme B) that are released by CTLs (cytotoxic T-cells) and NK (natural killer) cells. Granzyme B, similarly to the caspases, cleaves its substrates after aspartic acid residues, suggesting that this protease has the ability to activate members of the caspase family directly. It is the balance between the pro-apoptotic and anti-apoptotic signals that eventually determines whether cells will undergo apoptosis, survive or proliferate. TNF family of ligands activates anti-apoptotic or cell-survival signals as well as apoptotic signals. NGF and Interleukin-3 promotes the survival, proliferation and differentiation of neurons or hematopoietic cells, respectively. Withdrawal of these growth factors leads to cell death, as described above. | Reactome: Apoptosis is a distinct form of cell death that is functionally and morphologically different from necrosis. Nuclear chromatin condensation, cytoplasmic shrinking, dilated endoplasmic reticulum, and membrane blebbing characterize apoptosis in general. Mitochondria remain morphologically unchanged. In 1972 Kerr et al introduced the concept of apoptosis as a distinct form of \"cell-death\", and the mechanisms of various apoptotic pathways are still being revealed today. The two principal pathways of apoptosis are (1) the Bcl-2 inhibitable or intrinsic pathway induced by various forms of stress like intracellular damage, developmental cues, and external stimuli and (2) the caspase 8/10 dependent or extrinsic pathway initiated by the engagement of death receptors The caspase 8/10 dependent or extrinsic pathway is a death receptor mediated mechanism that results in the activation of caspase-8 and caspase-10. Activation of death receptors like Fas/CD95, TNFR1, and the TRAIL receptor is promoted by the TNF family of ligands including FASL (APO1L OR CD95L), TNF, LT-alpha, LT-beta, CD40L, LIGHT, RANKL, BLYS/BAFF, and APO2L/TRAIL. These ligands are released in response to microbial infection, or as part of the cellular, humoral immunity responses during the formation of lymphoid organs, activation of dendritic cells, stimulation or survival of T, B, and natural killer (NK) cells, cytotoxic response to viral infection or oncogenic transformation. The Bcl-2 inhibitable or intrinsic pathway of apoptosis is a stress-inducible process, and acts through the activation of caspase-9 via Apaf-1 and cytochrome c. The rupture of the mitochondrial membrane, a rapid process involving some of the Bcl-2 family proteins, releases these molecules into the cytoplasm. Examples of cellular processes that may induce the intrinsic pathway in response to various damage signals include: auto reactivity in lymphocytes, cytokine deprivation, calcium flux or cellular damage by cytotoxic drugs like taxol, deprivation of nutrients like glucose and growth factors like EGF, anoikis, transactivation of target genes by tumor suppressors including p53. In many non-immune cells, death signals initiated by the extrinsic pathway are amplified by connections to the intrinsic pathway. The connecting link appears to be the truncated BID (tBID) protein a proteolytic cleavage product mediated by caspase-8 or other enzymes."
        ],
        [
         "9",
         "BMG_PW0010",
         "PO: The metabolic reactions involved in the oxidation, utilization and/or synthesis of lipids in tissues. [GO:0006629, OneLook:www.onelook.com, Reactome:R-HSA-556833] | Reactome: Lipids are hydrophobic but otherwise chemically diverse molecules that play a wide variety of roles in human biology. They include ketone bodies, fatty acids, triacylglycerols, phospholipids and sphingolipids, eicosanoids, cholesterol, bile salts, steroid hormones, and fat-soluble vitamins. They function as a major source of energy (fatty acids, triacylglycerols, and ketone bodies), are major constituents of cell membranes (cholesterol and phospholipids), play a major role in their own digestion and uptake (bile salts), and participate in numerous signaling and regulatory processes (steroid hormones, eicosanoids, phosphatidylinositols, and sphingolipids) (Vance & Vance 2008 - URL). The central steroid in human biology is cholesterol, obtained from animal fats consumed in the diet or synthesized de novo from acetyl-coenzyme A. (Vegetable fats contain various sterols but no cholesterol.) Cholesterol is an essential constituent of lipid bilayer membranes and is the starting point for the biosyntheses of bile acids and salts, steroid hormones, and vitamin D. Bile acids and salts are mostly synthesized in the liver. They are released into the intestine and function as detergents to solubilize dietary fats. Steroid hormones are mostly synthesized in the adrenal gland and gonads. They regulate energy metabolism and stress responses (glucocorticoids), salt balance (mineralocorticoids), and sexual development and function (androgens and estrogens). At the same time, chronically elevated cholesterol levels in the body are associated with the formation of atherosclerotic lesions and hence increased risk of heart attacks and strokes. The human body lacks a mechanism for degrading excess cholesterol, although an appreciable amount is lost daily in the form of bile salts and acids that escape recycling. Aspects of lipid metabolism currently annotated in Reactome include lipid digestion, mobilization, and transport; fatty acid, triacylglycerol, and ketone body metabolism; peroxisomal lipid metabolism; phospholipid and sphingolipid metabolism; cholesterol biosynthesis; bile acid and bile salt metabolism; and steroid hormone biosynthesis."
        ],
        [
         "10",
         "BMG_PW0011",
         "PO: Those metabolic reactions involved in the synthesis, utilization and/or degradation of the primary or standard 20 amino acids found in proteins. Amino acids are described as non-essential or essential depending on whether humans can or can not synthesize them, respectively. Chemically, they are classified based on the polarity of their side chain or R group, as non-polar and hydrophobic and hydrophilic and charged or polar uncharged. Amino acid metabolic pathways are also listed with their KEGG entries. [GO:0006520, http://www.genome.jp/kegg/ KEGG, MCW_library:Handbooks_of_Biochemistry]"
        ],
        [
         "11",
         "BMG_PW0012",
         "PO: Those metabolic reactions involved in the synthesis, utilization and/or degradation of nucleotides. Nucleotides, which are the units of DNA and RNA, can also play important roles in cellular energy, enzyme regulation as well as serve as signaling molecules. [GO:0009117, PMID:20561600, PMID:21222015, Reactome:R-HSA-15869] | Reactome: Nucleotides and their derivatives are used for short-term energy storage (ATP, GTP), for intra- and extra-cellular signaling (cAMP; adenosine), as enzyme cofactors (NAD, FAD), and for the synthesis of DNA and RNA. Most dietary nucleotides are consumed by gut flora; the human body's own supply of these molecules is synthesized de novo. Additional metabolic pathways allow the interconversion of nucleotides, the salvage and reutilization of nucleotides released by degradation of DNA and RNA, the catabolism of excess nucleotides, and the transport of these molecules between the cytosol and the nucleus (Rudolph 1994). These pathways are regulated to control the total size of the intracellular nucleotide pool, to balance the relative amounts of individual nucleotides, and to couple the synthesis of deoxyribonucleotides to the onset of DNA replication (S phase of the cell cycle). These pathways are also of major clinical interest as they are the means by which nucleotide analogues used as anti-viral and anti-tumor drugs are taken up by cells, activated, and catabolized (Weilin and Nordlund 2010). As well, differences in nucleotide metabolic pathways between humans and aplicomplexan parasites like Plasmodium have been exploited to design drugs to attack the latter (Hyde 2007). The movement of nucleotides and purine and pyrimidine bases across lipid bilayer membranes, mediated by SLC transporters, is annotated as part of the module \"transmembrane transport of small molecules\"."
        ],
        [
         "12",
         "BMG_PW0013",
         "PO: Complex human diseases encompass a spectrum of genetic and environmental attributes that together affect the normal functioning of several molecular and cellular pathways. Their combined and accumulated effect is manifested in the anomalous phenotype of the complex condition. [InHouse:InHouse_PW_dictionary, Reactome:R-HSA-1643685] | Reactome: Biological processes are captured in Reactome by identifying the molecules (DNA, RNA, protein, small molecules) involved in them and describing the details of their interactions. From this molecular viewpoint, human disease pathways have three mechanistic causes: the inclusion of microbially-expressed proteins, altered functions of human proteins, or changed expression levels of otherwise functionally normal human proteins. The first group encompasses the infectious diseases such as influenza, tuberculosis and HIV infection. The second group involves human proteins modified either by a mutation or by an abnormal post-translational event that produces an aberrant protein with a novel function. Examples include somatic mutations of EGFR and FGFR (epidermal and fibroblast growth factor receptor) genes, which encode constitutively active receptors that signal even in the absence of their ligands, or the somatic mutation of IDH1 (isocitrate dehydrogenase 1) that leads to an enzyme active on 2-oxoglutarate rather than isocitrate, or the abnormal protein aggregations of amyloidosis which lead to diseases such as Alzheimer's. Infectious diseases are represented in Reactome as microbial-human protein interactions and the consequent events. The existence of variant proteins and their association with disease-specific biological processes is represented by inclusion of the modified protein in a new or variant reaction, an extension to the 'normal' pathway. Diseases which result from proteins performing their normal functions but at abnormal rates can also be captured, though less directly. Many mutant alleles encode proteins that retain their normal functions but have abnormal stabilities or catalytic efficiencies, leading to normal reactions that proceed to abnormal extents. The phenotypes of such diseases can be revealed when pathway annotations are combined with expression or rate data from other sources. Depending on the biological pathway/process immediately affected by disease-causing gene variants, non-infectious diseases in Reactome are organized into diseases of signal transduction by growth factore receptors and second messengers, diseases of mitotic cell cycle, diseases of cellular response to stress, diseases of programmed cell death, diseases of DNA repair, disorders of transmembrane transporters, diseases of metabolism, diseases of immune system, diseases of neuronal system, disorders of developmental biology, disorders of extracellular matrix organization, and diseases of hemostatis."
        ],
        [
         "13",
         "BMG_PW0014",
         "PO: Neurodegenerative diseases group together a number of conditions of various and many times poorly understood origins that are characterized by the progressive loss of particular neurons, the formation of particular structures such as plaques and fibrils, and protein aggregates. Proteosomal degradation, programmed cell death and oxidative stress are among a number of pathways thought to be disrupted. [inHouse:InHouse_PW_dictionary, Reactome:R-HSA-8863678] | Reactome: Neurodegenerative diseases manifest as the progressive dysfunction and loss of neurons, which is frequently accompanied by formation of misfolded protein deposits in the brain. Classification of neurodegenerative diseases is based on clinical symptoms, which depend on the anatomical region affected by neuronal dysfunction, the identity of misfolded proteins and cellular and subcellular pathology. In Alzheimer’s disease (AD), beta-amyloid protein (APP) deposits form in the extracellular space, where they can make plaques, while abnormally phosphorylated tau protein (MAPT) accumulates in neuronal cells. Beside AD, neuronal and/or glial inclusions of hyperphosphorylated tau are also found in Pick disease (PiD), neurofibrillary tangle-dementia (NFT), primary age-related tauopathy (PART), progressive supranuclear palsy (PSP), corticobasal degeneration (CBD), argyrophilic grain disease (AGD) and globular glial tauopathies (GGT). In prion disease, such as Creutzfeldt-Jakob disease, deposits of PrP protein are formed mostly in the extracellular and presynaptic space. PrP deposits in neuronal cell bodies are mainly confined to endosomes and lysosomes, which is attributed to neuronal uptake of pathological proteins and intercellular prion spreading. In Parkinson disease (PD) and dementia with Lewy bodies (DLB), deposits of alpha-synuclein (SNCA) are formed in the cytoplasm of neuronal cell bodies and neurites. In multiple system atrophy (MSA), deposits of alpha-synuclein form in the cytoplasm of glial cells (Papp-Lantos bodies). Amyotrophic lateral sclerosis (ALS) and frontotemporal lobar degeneration (FTLD) are characterized by ubiquitin-positive cytoplasmic inclusions of TAR DNA-binding protein 43 (TARDBP, commonly known as TDP-43), a protein that normally localizes to the nucleus. Pathological TDP-43 inclusions have been associated with the TDP-43 gene mutations, as well as mutations in several other genes, including C9orf72, GRN, VCP, SQSTM1, DCTN1 and OPTN. TDP-43 inclusions have also been reported in AD, DLB, hippocampal sclerosis (HS) and chronic traumatic encephalopathy. FUS protein-positive inclusion bodies are found in familial ALS, caused by mutations in the FUS gene, as well as in a small subgroup of FTLD-related diseases. FUS-positive inclusions may be accompanied by FET protein-positive inclusions. For a detailed review of molecular pathology of neurodegenerative diseases, please refer to Kovacs 2016. Within this broad domain, the process by which APP-triggered deregulation of CDK5 (cyclin-dependent kinase 5) triggers multiple neurodegenerative pathways associated with Alzheimer's disease has been annotated."
        ],
        [
         "14",
         "BMG_PW0015",
         "PO: A mostly sporadic, late-onset condition affecting the central nervous system, that is the most prevalent neurodegenerative disease and the most common form of dementia. It is characterized by the presence of amyloid plaques and fibril tangles. Possible pathways affected range from protein mis-folding and aggregation, to oxidative stress and impaired metal homeostasis. [InHouse:InHouse_PW_dictionary, KEGG:map05010] | KEGG: Alzheimer disease (AD) is a chronic disorder that slowly destroys neurons and causes serious cognitive disability. AD is associated with senile plaques and neurofibrillary tangles (NFTs). Amyloid-beta (Abeta), a major component of senile plaques, has various pathological effects on cell and organelle function. To date genetic studies have revealed four genes that may be linked to autosomal dominant or familial early onset AD (FAD). These four genes include: amyloid precursor protein (APP), presenilin 1 (PS1), presenilin 2 (PS2) and apolipoprotein E (ApoE). All mutations associated with APP and PS proteins can lead to an increase in the production of Abeta peptides, specfically the more amyloidogenic form, Abeta42. It was proposed that Abeta form Ca2+ permeable pores and bind to and modulate multiple synaptic proteins, including NMDAR, mGluR5 and VGCC, leading to the overfilling of neurons with calcium ions. Consequently, cellular Ca2+ disruptions will lead to neuronal apoptosis, autophagy deficits, mitochondrial abnormality, defective neurotransmission, impaired synaptic plasticity and neurodegeneration in AD. FAD-linked PS1 mutation downregulates the unfolded protein response and leads to vulnerability to ER stress."
        ],
        [
         "15",
         "BMG_PW0016",
         "PO: A late onset, mostly sporadic neurodegenerative disease characterized by the loss of motor neurons in the brain stem and spinal cord. Various pathways are thought to be deregulated and contribute to the condition; among them calcium and/or zinc homeostasis, apoptosis, Cdk5 and calcineurin dependent processes, and in the case of the more rare, genetically inherited form of the disease, mutations in the cytosolic Cu, Zn superoxide dismutase (SOD1) and the subsequent changes in the processes that involve SOD1. [InHouse:In_House_PW_dictionary, KEGG:map05014] | KEGG: Amyotrophic lateral sclerosis (ALS) is a neurodegenerative disorder characterized by a progressive degeneration of motor neurons in the brain and spinal cord. In 90% of patients, ALS is sporadic, with no clear genetic linkage. On the other hand, the remaining 10% of cases show familial inheritance, with mutations in SOD1, TDP43(TARDBP), FUS, or C9orf72 genes being the most frequent causes. In spite of such difference, familial ALS and sporadic ALS have similarities in their pathological features. Proposed disease mechanisms contributing to motor neuron degeneration in ALS are: impaired proteostasis, aberrant RNA processing, mitochondrial disfunction and oxidative stress, microglia activation, and axonal dysfunction."
        ],
        [
         "16",
         "BMG_PW0017",
         "PO: An autosomal dominant neurodegenerative disease manifesting in movement, cognitive and psychiatric disorders caused by the abnormal expansion of a polyglutamine (polyQ) stretch in the Huntingtin (HTT) protein. It mostly affects the caudate-putamen striatal neurons. Other areas are also affected and undergo a size reduction. HTT is thought to be involved in several cellular pathways. Its functions are overcome by the mutant protein mHTT. [PMID:26938440]"
        ],
        [
         "17",
         "BMG_PW0018",
         "PO: One of the most common neurodegenerative diseases that is characterized by the loss of dopaminergic neurons in the substantia nigra and the presence of cytoplasmic inclusions called Lewy bodies in surrounding neurons. Several pathways are thought to be deregulated; for instance, imbalance of iron homeostasis is believed to contribute to the pathogenesis of the condition. [KEGG:map05012, PMID:18052765, PMID:19422283] | KEGG: Parkinson disease (PD) is a progressive neurodegenerative movement disorder that results primarily from the death of dopaminergic (DA) neurons in the substantia nigra pars compacta (SNc). Both environmental factors and mutations in familial PD-linked genes such as SNCA, Parkin, DJ-1, PINK1 and LRRK2 are associated with PD pathogenesis. These pathogenic mutations and environmental factors are known to cause disease due to oxidative stress, intracellular Ca2+ homeostasis impairment, mitochondrial dysfunctions and altered protein handling compromising key roles of DA neuronal function and survival. The demise of DA neurons located in the SNc leads to a drop in the dopaminergic input to the striatum, which is hypothesized to impede movement by inducing hypo and hyper activity in striatal spiny projection neurons (SPNs) of the direct (dSPNs) and indirect (iSPNs) pathways in the basal ganglia, respectively."
        ],
        [
         "18",
         "BMG_PW0019",
         "PO: Prion disease - any of a group of fatal, transmissible neurodegenerative diseases caused by abnormalities of prion protein metabolism, which may result from mutations in the prion protein gene or from infection with pathogenic isoforms of the protein.  Characteristics include neuronal loss, gliosis, and extensive vacuolization of the cerebral cortex. Prion diseases may be sporadic, inherited as an autosomal dominant trait, or acquired. Human diseases include Creutzfeldt-Jakob disease, Gerstmann-Strussler syndrome, fatal familial insomnia, and kuru [KEGG:map05020, OneLook:www.onelook.com] | KEGG: Prion diseases, also termed transmissible spongiform encephalopathies (TSEs), are a group of fatal neurodegenerative diseases that affect humans and a number of other animal species. The etiology of these diseases is thought to be associated with the conversion of a normal protein, PrPC, into an infectious, pathogenic form, PrPSc. The conversion is induced by prion infections (for example, variant Creutzfeldt-Jakob disease (vCJD), iatrogenic CJD, Kuru), mutations (familial CJD, Gerstmann-Straussler-Scheinker syndrome, fatal familial insomnia (FFI)) or unknown factors (sporadic CJD (sCJD)), and is thought to occur after PrPC has reached the plasma membrane or is re-internalized for degradation. The PrPSc form shows greater protease resistance than PrPC and accumulates in affected individuals, often in the form of extracellular plaques. Pathways that may lead to neuronal death comprise oxidative stress, regulated activation of complement, ubiquitin-proteasome and endosomal-lysosomal systems, synaptic alterations and dendritic atrophy, corticosteroid response, and endoplasmic reticulum stress. In addition, the conformational transition could lead to the lost of a beneficial activity of the natively folded protein, PrPC."
        ],
        [
         "19",
         "BMG_PW0020",
         "PO: Cardiovascular diseases represent a very broad spectrum of conditions that can also combine with diabetes and renal failure. [InHouse:InHouse_PW_dictionary]"
        ],
        [
         "20",
         "BMG_PW0021",
         "PO: Hypertension, high arterial blood pressure: various criteria for its threshold have been suggested, ranging from 140 mm Hg systolic and 90 mm Hg diastolic to as high as 200 mm Hg systolic and 110 mm Hg diastolic. Hypertension may have no known cause (essential or idiopathic h.) or be associated with other primary diseases (secondary h.). [OneLook:www.onelook.com]"
        ],
        [
         "21",
         "BMG_PW0022",
         "PO: Cardiomyopathy - a general diagnostic term designating primary noninflammatory disease of the heart muscle, often of obscure or unknown etiology and not the result of ischemic, hypertensive, congenital, valvular, or pericardial disease. It is usually subdivided into dilated, hypertrophic, and restrictive cardiomyopathy (1). Cardiomyopathy is the deterioration of the cardiac muscle of the heart wall. [OneLook:www.onelook.com]"
        ],
        [
         "22",
         "BMG_PW0023",
         "PO: The Immune response pathways mediate the defense of host cells against infection and injury. The first line of defense is provided by the phylogenetically older innate immune response. The later, more versatile response is provided by the pathways of adaptive immunity: the B cell mediated humoral and the T cell mediated cellular or cell-mediated responses. [GO:0006955, MCW_library:Handbook_of_cellular_and_molecular_immunology, OneLook:www.onelook.com, Reactome:R-HSA-168256] | Reactome: Humans are exposed to millions of potential pathogens daily, through contact, ingestion, and inhalation. Our ability to avoid infection depends on the adaptive immune system and during the first critical hours and days of exposure to a new pathogen, our innate immune system."
        ],
        [
         "23",
         "BMG_PW0024",
         "PO: Inflammation is the cellular response of the innate immune system to infection or injury. Sensing of infection by pattern recognition receptors triggers signaling cascades leading to the expression of mediator genes such as the pro-inflammatory cytokines. [GO:0006954, MCW_library:Cellular_and_molecular_immunology\\,_by_Abbas\\,_Abul_K, OneLook:www.onelook.com, PMID:15364056, PMID:16226680, PMID:16281932, PMID:20303867, PMID:20303872]"
        ],
        [
         "24",
         "BMG_PW0025",
         "PO: Those metabolic reactions involved in the energy-yielding conversion of glucose to pyruvate or in the formation of glucose from non-carbohydrate precursors such as pyruvate, lactate, citric acid cycle intermediates, the carbon skeleton of many amino acids. While many enzymes are shared by the two pathways, a few steps are carried out by pathway-specific enzymes. The two pathways are independently regulated. [KEGG:map00010] | KEGG: Glycolysis is the process of converting glucose into pyruvate and generating small amounts of ATP (energy) and NADH (reducing power). It is a central pathway that produces important precursor metabolites: six-carbon compounds of glucose-6P and fructose-6P and three-carbon compounds of glycerone-P, glyceraldehyde-3P, glycerate-3P, phosphoenolpyruvate, and pyruvate [MD:M00001]. Acetyl-CoA, another important precursor metabolite, is produced by oxidative decarboxylation of pyruvate [MD:M00307]. When the enzyme genes of this pathway are examined in completely sequenced genomes, the reaction steps of three-carbon compounds from glycerone-P to pyruvate form a conserved core module [MD:M00002], which is found in almost all organisms and which sometimes contains operon structures in bacterial genomes. Gluconeogenesis is a synthesis pathway of glucose from noncarbohydrate precursors. It is essentially a reversal of glycolysis with minor variations of alternative paths [MD:M00003]."
        ],
        [
         "25",
         "BMG_PW0026",
         "PO: The series of chemical reactions that are central to all aerobic cells and constitute the citric acid cycle. Also known as the tricarboxylic acid cycle (TCA) or Krebs cycle, it is the center of convergence for all molecular fuels. [GO:0006099, KEGG:map00020, OneLook:www.onelook.com, Reactome:R-HSA-71403, SMP:00057] | KEGG: The citrate cycle (TCA cycle, Krebs cycle) is an important aerobic pathway for the final steps of the oxidation of carbohydrates and fatty acids. The cycle starts with acetyl-CoA, the activated form of acetate, derived from glycolysis and pyruvate oxidation for carbohydrates and from beta oxidation of fatty acids. The two-carbon acetyl group in acetyl-CoA is transferred to the four-carbon compound of oxaloacetate to form the six-carbon compound of citrate. In a series of reactions two carbons in citrate are oxidized to CO2 and the reaction pathway supplies NADH for use in the oxidative phosphorylation and other metabolic processes. The pathway also supplies important precursor metabolites including 2-oxoglutarate. At the end of the cycle the remaining four-carbon part is transformed back to oxaloacetate. According to the genome sequence data, many organisms seem to lack genes for the full cycle [MD:M00009], but contain genes for specific segments [MD:M00010 M00011]. | Reactome: In the citric acid or tricarboxylic acid (TCA) cycle, the acetyl group of acetyl CoA (derived primarily from oxidative decarboxylation of pyruvate, beta-oxidation of long-chain fatty acids, and catabolism of ketone bodies and several amino acids) can be completely oxidized to CO2 in reactions that also yield one high-energy phosphate bond (as GTP or ATP) and four reducing equivalents (three NADH + H+, and one FADH2). Then, the electron transport chain oxidizes NADH and FADH2 to yield nine more high-energy phosphate bonds (as ATP). All reactions of the citric acid cycle take place in the mitochondrion. Eight canonical reactions mediate the synthesis of citrate from acetyl-CoA and oxaloacetate and the metabolism of citrate to re-form oxaloacetate. Three reactions are reversible: the interconversions of citrate and isocitrate, of fumarate and malate, and of malate and oxaloacetate. The reverse reactions are irrelevant under normal physiological conditions but appear to have a role in glucose- and glutamine-stimulated insulin secretion (Zhang et al., 2020) and cancer metabolism (e.g., Jiang et al., 2016). Succinate synthesis from succinyl-CoA can be coupled to the phosphorylation of either GDP (the canonical reaction) or ADP; we annotate both reactions. Two mitochondrial isocitrate dehydrogenase isozymes catalyze the oxidative decarboxylation of isocitrate to form alpha-ketoglutarate (2-oxoglutarate): IDH3 catalyzes the canonical reaction coupled to the reduction of NAD+, while IDH2 catalyzes the same reaction coupled to the reduction of NADP+, a reaction whose normal physiological function is unclear. Both reactions are annotated. The cyclical nature of the reactions responsible for the oxidation of acetate was first suggested by Hans Krebs from biochemical studies of pigeon breast muscle (Krebs et al., 1938; Krebs and Eggleston, 1940). Ochoa and colleagues studied many molecular details of individual reactions, mainly by studying enzymes purified from pig hearts (Ochoa, 1980). While the human homologs of these enzymes have all been identified, their biochemical characterization has, in general, been limited, and many molecular details of the human reactions are inferred from those worked out in studies of the model systems. Studies examining the impact of elevated citric acid cycle intermediates such as succinate and fumarate led to the recognition of the role of metabolites in driving cancer progression ('oncometabolites') (Pollard et al., 2005; reviewed in Hayashi et al., 2018). The role of TCA enzymes in disease was reviewed by Kang et al., 2021."
        ],
        [
         "26",
         "BMG_PW0027",
         "PO: Those metabolic reactions involved in the synthesis, utilization and/or degradation glutamic acid/glutamate. Glutamate is the major excitatory neurotransmitter. [OneLook:www.onelook.com]"
        ],
        [
         "27",
         "BMG_PW0028",
         "PO: Those metabolic reactions involved in the synthesis, utilization and/or degradation of alanine, aspartate and glutamate. [OneLook:www.onelook.com]"
        ],
        [
         "28",
         "BMG_PW0029",
         "PO: Acetyl-CoA, the starting material for fatty acid biosynthesis, can be derived from amino acid and lipid degradation or the oxidative decarboxylation of pyruvate. Fatty acid biosynthesis involves the condensation of C2 units; it requires seven enzymatic reactions which are carried out by the multifunctional enzyme fatty acid synthase. [GO:0006633, KEGG:00061, PMID:11248039, PMID:8001737, SMP:00456]"
        ],
        [
         "29",
         "BMG_PW0030",
         "PO: Those metabolic reactions involved in the synthesis, utilization and/or degradation of purines. Purines consist of a pyrimidine ring fused to an imidazole ring. The nucleobases adenine and guanine in DNA are purines. [GO:0006144, KEGG:00230, OneLook:www.onelook.com, SMP:00050]"
        ],
        [
         "30",
         "BMG_PW0031",
         "PO: Those metabolic reactions involved in the synthesis, utilization and/or degradation of pyrimidines. Cytosine, thymine and uracil - the nucleobases found in nucleic acids, are pyrimidine derivatives. [GO:0006206, KEGG:00240, OneLook:www.onelook.com, SMP:00046]"
        ],
        [
         "31",
         "BMG_PW0032",
         "PO: Those metabolic reactions and pathways whose role is to release or provide energy. [OneLook:www.onelook.com]"
        ],
        [
         "32",
         "BMG_PW0033",
         "PO: Those metabolic reactions whereby the electrons, derived from the oxidation of glucose and lipids or the degradation of amino acids, are passed to oxygen via a series of series of spatially separated complexes. The energy derived generates an electrochemical gradient that drives the synthesis of ATP. The coupling between the electron transport chain, also known as the respiratory chain, and the ATP biosynthetic pathway is known as oxidative phosphorylation. Under certain circumstances the two may be uncoupled. [GO:0022904, OneLook:www.onelook.com, PMID:19760284, PMID:21625217, Reactome:R-HSA-611105, SMP:00355] | Reactome: Mitochondria are often described as the \"powerhouse\" of a cell as it is here that energy is largely released from the oxidation of food. Reducing equivalents generated from beta-oxidation of fatty acids and from the Krebs cycle enter the electron transport chain (also called the respiratory chain). During a series of redox reactions, electrons travel down the chain releasing their energy in controlled steps. These reactions drive the active transport of protons from the mitochondrial matrix , through the inner membrane to the intermembrane space. The respiratory chain consists of five main types of carrier; flavins, iron-sulfur centres, quinones, cytochromes (heme proteins) and copper. The two main reducing equivalents entering the respiratory chain are NADH and FADH2. NADH is linked through the NADH-specific dehydrogenase whereas FADH2 is reoxidised within succinate dehydrogenase and a ubiquinone reductase of the fatty acid oxidation pathway. Oxygen is the final acceptor of electrons and with protons, is converted to form water, the end product of aerobic cellular respiration. A proton electrochemical gradient (often called protonmotive force) is established across the inner membrane, with positive charge in the intermembrane space relative to the matrix. Protons driven by the proton-motive force, can enter ATP synthase thus returning to the mitochondrial matrix. ATP synthases use this exergonic flow to form ATP in the matrix, a process called chemiosmotic coupling. A by-product of this process is heat generation. An antiport, ATP-ADP translocase, preferentially exports ATP from the matrix thereby maintaining a high ADP:ATP ratio in the matrix. The tight coupling of electron flow to ATP synthesis means oxygen consumption is dependent on ADP availability (termed respiratory control). High ADP (low ATP) increases electron flow thereby increasing oxygen consumption and low ADP (high ATP) decreases electron flow and thereby decreases oxygen consumption. There are many inhibitors of mitochondrial ATP synthesis. Most act by either blocking the flow of electrons (eg cyanide, carbon monoxide, rotenone) or uncoupling electron flow from ATP synthesis (eg dinitrophenol). Thermogenin is a natural protein found in brown fat. Newborn babies have a large amount of brown fat and the heat generated by thermogenin is an alternative to ATP synthesis (and thus electron flow only produces heat) and allows the maintenance of body temperature in newborns. The electron transport chain is located in the inner mitochondrial membrane and comprises some 80 proteins organized in four enzymatic complexes (I-IV). Complex V generates ATP but has no electron transfer activity. In addition to these 5 complexes, there are also two electron shuttle molecules; Coenzyme Q (also known as ubiquinone, CoQ) and Cytochrome c (Cytc). These two molecules shuttle electrons between the large complexes in the chain. How many ATPs are generated by this process? Theoretically, for each glucose molecule, 32 ATPs can be produced. As electrons drop from NADH to oxygen in the chain, the number of protons pumped out and returning through ATP synthase can produce 2.5 ATPs per electron pair. For each pair donated by FADH2, only 1.5 ATPs can be formed. Twelve pairs of electrons are removed from each glucose molecule; 10 by NAD+ = 25 ATPs 2 by FADH2 = 3 ATPs. Making a total of 28 ATPs. However, 2 ATPs are formed during the Krebs' cycle and 2 ATPs formed during glycolysis for each glucose molecule therefore making a total ATP yield of 32 ATPs. In reality, the energy from the respiratory chain is used for other processes (such as active transport of important ions and molecules) so under conditions of normal respiration, the actual ATP yield probably does not reach 32 ATPs. The reducing equivalents that fuel the electron transport chain, namely NADH and FADH2, are produced by the Krebs cycle (TCA cycle) and the beta-oxidation of fatty acids. At three steps in the Krebs cycle (isocitrate conversion to oxoglutarate; oxoglutarate conversion to succinyl-CoA; Malate conversion to oxaloacetate), a pair of electrons (2e-) are removed and transferred to NAD+, forming NADH and H+. At a single step, a pair of electrons are removed from succinate, reducing FAD to FADH2. From the beta-oxidation of fatty acids, one step in the process forms NADH and H+ and another step forms FADH2. Cytoplasmic NADH, generated from glycolysis, has to be oxidized to reform NAD+, essential for glycolysis, otherwise glycolysis would cease to function. There is no carrier that transports NADH directly into the mitochondrial matrix and the inner mitochondrial membrane is impermeable to NADH so the cell uses two shuttle systems to move reducing equivalents into the mitochondrion and regenerate cytosolic NAD+. The first is the glycerol phosphate shuttle, which uses electrons from cytosolic NADH to produce FADH2 within the inner membrane. These electrons then flow to Coenzyme Q. Complex I is bypassed so only 1.5 ATPs can be formed per NADH via this route. The overall balanced equation, summing all the reactions in this system, is NADH (cytosol) + H+ (cytosol) + NAD+ (mito.) = NAD+ (cytosol) + NADH (mito.) + H+ (mito.) The malate-aspartate shuttle uses the oxidation of malate to generate NADH in the mitochondrial matrix. This NADH can then be fed directly to complex I and thus can form 3 ATPs via the respiratory chain. The overall balanced equation is NADH (cytosol) + H+ (cytosol) + FAD (inner memb.) = NAD+ (cytosol) + FADH2 (inner memb.) Both of these shuttle systems regenerate cytosolic NAD+. The entry point for NADH is complex I (NADH dehydrogenase) and the entry point for FADH2 is Coenzyme Q. The input of electrons from fatty acid oxidation via ubiquinone is complicated and not shown in the diagram."
        ],
        [
         "33",
         "BMG_PW0034",
         "PO: Those metabolic reactions involved in the synthesis of adenosine triphosphate (ATP). ATP synthesis is coupled to the electron transfer or respiratory chain pathway which generates an electrochemical gradient that drives the phosphorylation of ADP. The coupling of the two pathways is called oxidative phosphorylation. Under certain circumstances however, the two may be uncoupled. [GO:0006754, OneLook:www.onelook.com, PMID:19760284, PMID:21625217]"
        ],
        [
         "34",
         "BMG_PW0035",
         "PO: Those metabolic reactions in the nitrogen cycle carried out by various microorganisms. [KEGG:map00910] | KEGG: The biological process of the nitrogen cycle is a complex interplay among different microorganisms catalyzing different reactions, where nitrogen is found in various oxidation states ranging from +5 in nitrate to -3 in ammonia. The core nitrogen cycle involves four reduction pathways and two oxidation pathways. Nitrogen fixation [MD:M00175] is the process of reducing atmospheric molecular nitrogen to ammonia, a biologically useful reduced form incorporated into amino acids and other vital compounds. The ability of fixing atmospheric nitrogen by the nitrogenase enzyme complex is present in restricted prokaryotes (diazotrophs). The other reduction pathways are assimilatory nitrate reduction [MD:M00531] and dissimilatory nitrate reduction [MD:M00530] both for conversion to ammonia, and denitrification [MD:M00529]. Denitrification is a respiration in which nitrate or nitrite is reduced as a terminal electron acceptor under low oxygen or anoxic conditions, producing gaseous nitrogen compounds (N2, NO and N2O) to the atmosphere. The two oxidation pathways are nitrification [MD:M00528] and anaerobic ammonium oxidation (anammox) [MD:M00973]. Nitrification is the oxidation of ammonia (NH3) with oxygen into nitrite followed by the oxidation of nitrite into nitrate. The first step is performed by ammonia-oxidizing microorganisms (e.g., Nitrosomonas and Nitrosococcus) and the second step by nitrite-oxidizing microorganisms (e.g., Nitrobacter). Anammox is a biochemical process of oxidizing ammonium (NH4+) into dinitrogen gas (N2) using nitrite as an electron acceptor. It occurs in the anammoxosome, a membrane bound compartment inside the cytoplasm, of anammox bacteria (e.g., Planctomycetes)."
        ],
        [
         "35",
         "BMG_PW0036",
         "PO: Those metabolic reactions involving sulfur - a component of methionine and cysteine amino acids and of co-enzymes and vitamins. It also serves as electron donor in anaerobic respiration. Microorganisms and plants can incorporate inorganic sulfate into bioinorganic compounds; higher organisms derive them from diet. [GO:0006790, http://en.wikipedia.org/wiki/Sulfur_metabolism Wikipedia, KEGG:00920, KEGG:map00920, PMID:16143557]"
        ],
        [
         "36",
         "BMG_PW0037",
         "PO: OBSOLETE. Originally found at KEGG, the term has since been deleted. [PW_dictionary:InHouse_dictionary]"
        ],
        [
         "37",
         "BMG_PW0038",
         "PO: Those metabolic reactions involved in the biosynthesis of bile acids - any of the steroid carboxylic acids derived from cholesterol. Cholic and chenodeoxycholic acids are the primary bile acids and are formed in the liver. Secondary bile acids - deoxycholic and lithocholic - are formed from the primary bile acids through the action of intestinal bacteria. Bile acid also acts as a signal molecule via several nuclear receptors. [GO:0006699, KEGG:00120, OneLook:www.onelook.com, PMID:22414897, SMP:00035] | KEGG: Bile acids are steroid carboxylic acids derived from cholesterol in vertebrates. The primary bile acids, cholic acid and chenodeoxycholic acid, are synthesized in the liver and conjugated with taurine or glycine before secretion via bile into the intestine. The conversion from cholesterol to cholic and chenodeoxycholic acids involves four steps: 1) the initiation of synthesis by 7alpha-hydroxylation of sterol precursors, 2) further modifications to the ring structures, 3) side-chain oxidation and shortening (cleavage) by three carbons, and 4) conjugation of the bile acid with taurine or glycine."
        ],
        [
         "38",
         "BMG_PW0039",
         "PO: Those metabolic reactions involved in the synthesis of steroid hormones. All steroid hormones are derived from cholesterol. Steroid hormone metabolism is extremely complex and its molecular details are incompletely understood. De novo steroid biosynthesis is confined to very few tissues, primarily the adrenals, the gonads and the placenta. [GO:0120178, KEGG:00140, KEGG:map00140, OneLook:www.onelook.com, PMID:17926129, SMP:00130]"
        ],
        [
         "39",
         "BMG_PW0040",
         "PO: Those metabolic reactions involved in the synthesis, utilization and/or degradation of fructose and mannose, as depicted in the KEGG diagram. [KEGG:map00051, OneLook:www.onelook.com]"
        ],
        [
         "40",
         "BMG_PW0041",
         "PO: Those metabolic reactions involved in the synthesis, utilization and/or degradation of galactose - an aldohexose epimeric with glucose at the 4 carbon. Galactose is a component of lactose and other oligosaccharides, cerebrosides and gangliosides, and of various glycolipids and glycoproteins. [GO:0006012, KEGG:00052, KEGG:map00052, OneLook:www.onelook.com, SMP:00043]"
        ],
        [
         "41",
         "BMG_PW0042",
         "PO: Those metabolic reactions involved in the synthesis, utilization and/or degradation of pyruvate - a salt, ester, or anionic form of pyruvic acid. Pyruvate, which is the end-product of glycolysis, can be converted to lactate under anaerobic conditions, can be further oxidized via the Krebs or citrate cycle or can be converted back to glucose via gluconeogenesis. [GO:0006090, KEGG:00620, KEGG:00620, OneLook:www.onelook.com, Reactome:R-HSA-70268, SMP:00060] | Reactome: Pyruvate sits at an intersection of key pathways of energy metabolism. It is the end product of glycolysis and the starting point for gluconeogenesis and can be generated by the transamination of alanine. The pyruvate dehydrogenase complex can convert it to acetyl CoA (Reed and Hackert 1990), which can enter the TCA cycle or serve as the starting point for the syntheses of long-chain fatty acids, steroids, and ketone bodies depending on the tissue and metabolic state in which it is formed. It also plays a central role in balancing the energy needs of various tissues in the body. Under conditions in which oxygen supply is limiting, e.g., in exercising muscle, or in the absence of mitochondria, e.g., in red blood cells, re-oxidation of NADH produced by glycolysis cannot be coupled to the generation of ATP. Instead, re-oxidation is coupled to the reduction of pyruvate to lactate. This lactate is released into the blood and taken up primarily by the liver, where it is oxidized to pyruvate and can be used for gluconeogenesis (Cori 1981). For a recent review, see Prochownik & Wang, 2021."
        ],
        [
         "42",
         "BMG_PW0043",
         "PO: OBSOLETE. Duplicated term. Use PW:0000027. [PW_dictionary:InHouse_dictionary]"
        ],
        [
         "43",
         "BMG_PW0044",
         "PO: Those metabolic reactions involved in the generation of reducing equivalents and five carbon (pentose) sugars. The oxidative phase is irreversible; the non-oxidative is reversible. [GO:0006098, KEGG:map00030, OneLook:www.oneloook.com, Reactome:R-HSA-71336, SMP:00031] | KEGG: The pentose phosphate pathway is a process of glucose turnover that produces NADPH as reducing equivalents and pentoses as essential parts of nucleotides. There are two different phases in the pathway. One is irreversible oxidative phase in which glucose-6P is converted to ribulose-5P by oxidative decarboxylation, and NADPH is generated [MD:M00006]. The other is reversible non-oxidative phase in which phosphorylated sugars are interconverted to generate xylulose-5P, ribulose-5P, and ribose-5P [MD:M00007]. Phosphoribosyl pyrophosphate (PRPP) formed from ribose-5P [MD:M00005] is an activated compound used in the biosynthesis of histidine and purine/pyrimidine nucleotides. This pathway map also shows the Entner-Doudoroff pathway where 6-P-gluconate is dehydrated and then cleaved into pyruvate and glyceraldehyde-3P [MD:M00008]. | Reactome: The pentose phosphate pathway is responsible for the generation of a substantial fraction of the cytoplasmic NADPH required for biosynthetic reactions, and for the generation of ribose 5-phosphate for nucleotide synthesis. Although the pentose phosphate pathway and glycolysis are distinct, they involve three common intermediates, glucose 6-phosphate, glyceraldehyde 3-phosphate, and fructose 6-phosphate, so the two pathways are interconnected. The pentose phosphate pathway consists of eight reactions:1. Conversion glucose 6-phosphate to D-glucono-1,5-lactone 6-phosphate, with the formation of NADPH; 2. Conversion of D-glucono-1,5-lactone 6-phosphate to 6-phospho-D-gluconate; 3. Conversion of 6-phospho-D-gluconate to ribulose 5-phosphate, with the formation of NADPH; 4. Conversion of ribulose 5-phosphate to xylulose 5-phosphate; 5. Conversion of ribulose 5-phosphate to ribose 5-phosphate; 6. Rearrangement of ribose 5-phosphate and xylulose 5-phosphate to form sedoheptulose 7-phosphate and glyceraldehyde 3-phosphate; 7. Rearrangement of sedoheptulose 7-phosphate and glyceraldehyde 3-phosphate to form erythrose 4-phosphate and fructose 6-phosphate; and 8. Rearrangement of xylulose 5-phosphate and erythrose 4-phosphate to form glyceraldehyde 3-phosphate and fructose-6-phosphate. The oxidative branch of the pentose phosphate pathway, reactions 1-3, generates NADPH and pentose 5-phosphate. The non-oxidative branch of the pathway, reactions 4-8, converts pentose 5-phosphate to other sugars. The overall pathway can operate to generate only NADPH (glucose 6-phosphate is converted to pentose 5-phosphates, which are directed to the synthesis of fructose 6-phosphate and glyceraldehyde 3-phosphate, which in turn are converted back to glucose 6-phosphate). The reactions of the non-oxidative branch can operate to generate net amounts of ribose 5-phosphate with no production of NADPH. Net flux through this network of reactions appears to depend on the metabolic state of the cell and the nature of the biosynthetic reactions underway (Casazza and Veech 1987). G6PD, the enzyme that catalyzes the first reaction of the pathway, is more extensively mutated in human populations than any other enzyme, pehaps because these mutant alleles confer malaria resistance (Luzzatto and Afolayan 1968). Mutations affecting other parts of the pathway are rare, though several have been described and studies of their effects have contributed to our understanding of the normal flux of metabolites through this network of reactions (Wamelink et al. 2008)."
        ],
        [
         "44",
         "BMG_PW0045",
         "PO: Those metabolic reactions involved in the synthesis, utilization and/or degradation of inositol, a cyclic sugar alcohol occurring in a number of stereoisomers of which myo-inositol is the most prominent form. myo-inositol provides a structural basis for compounds such as inositol phosphates and phosphatidylinositols, which are secondary messengers in several signaling pathways. [GO:0006020, OneLook:www.onelook.com, SMP:00011]"
        ],
        [
         "45",
         "BMG_PW0046",
         "PO: Those metabolic reactions involved in the synthesis of glycine, serine and threonine and which are intimately connected with serine being synthesized from glycine and threonine. [OneLook:www.onelook.com]"
        ],
        [
         "46",
         "BMG_PW0047",
         "PO: Those metabolic reactions involved in the synthesis (remethylation), utilization and/or degradation of methionine, an essential amino acid for humans. The cycle produces S-adenosylmethionine (AdoMet),  the major methyl donor for proteins, nucleic acids, lipids and other small molecules. The cycle also produces homocysteine (Hcy) which either regenerates methionine via the  remethylation pathway or leads to the synthesis of cysteine and derivatives via the transsulfuration pathway. Homocysteine and folate metabolic pathways are intimately related to the methionine cycle. [MCW_library_book:Homocysteine_in_Health_and_Disease]"
        ],
        [
         "47",
         "BMG_PW0048",
         "PO: Those metabolic reactions involved in the synthesis, utilization and/or degradation of cysteine, a non-essential amino acid that could be essential in certain cases. Its side chain contains a sulfhydryl group that is readily oxidized to form the cystine dimer covalently linked by a disulfide bond. [GO:0006534, OneLook:www.onelook.com, SMP:00013]"
        ],
        [
         "48",
         "BMG_PW0049",
         "PO: Those metabolic reactions involved in the synthesis, utilization and/or degradation of arginine - an essential amino acid - and proline - an amino acid that can play important roles in protein secondary structure. [OneLook:www.onelook.com]"
        ],
        [
         "49",
         "BMG_PW0050",
         "PO: Those metabolic reactions involved in the synthesis, utilization and/or degradation of histidine, an essential amino acid which can act as either a proton donor or a proton acceptor. While the synthesis and degradation pathways of histidine are present in microorganisms, histidine can be acted upon by eukaryotic enzymes. Histidine is the precursor of histamine, is involved in immune responses and also acts as a neurotransmitter. [GO:0006547, KEGG:00340, OneLook:www.onelook.com, SMP:00044]"
        ]
       ],
       "shape": {
        "columns": 2,
        "rows": 6793
       }
      },
      "text/html": [
       "<div>\n",
       "<style scoped>\n",
       "    .dataframe tbody tr th:only-of-type {\n",
       "        vertical-align: middle;\n",
       "    }\n",
       "\n",
       "    .dataframe tbody tr th {\n",
       "        vertical-align: top;\n",
       "    }\n",
       "\n",
       "    .dataframe thead th {\n",
       "        text-align: right;\n",
       "    }\n",
       "</style>\n",
       "<table border=\"1\" class=\"dataframe\">\n",
       "  <thead>\n",
       "    <tr style=\"text-align: right;\">\n",
       "      <th></th>\n",
       "      <th>BioMedGraphica_ID</th>\n",
       "      <th>Description</th>\n",
       "    </tr>\n",
       "  </thead>\n",
       "  <tbody>\n",
       "    <tr>\n",
       "      <th>0</th>\n",
       "      <td>BMG_PW0001</td>\n",
       "      <td>PO: A pathway is a set of inter-connected  rea...</td>\n",
       "    </tr>\n",
       "    <tr>\n",
       "      <th>1</th>\n",
       "      <td>BMG_PW0002</td>\n",
       "      <td>PO: The various, enzyme-controlled, series of ...</td>\n",
       "    </tr>\n",
       "    <tr>\n",
       "      <th>2</th>\n",
       "      <td>BMG_PW0003</td>\n",
       "      <td>PO: The pathways where a signal - hormone, neu...</td>\n",
       "    </tr>\n",
       "    <tr>\n",
       "      <th>3</th>\n",
       "      <td>BMG_PW0004</td>\n",
       "      <td>PO: The pathways that control the processes by...</td>\n",
       "    </tr>\n",
       "    <tr>\n",
       "      <th>4</th>\n",
       "      <td>BMG_PW0005</td>\n",
       "      <td>PO: Those metabolic reactions and pathways inv...</td>\n",
       "    </tr>\n",
       "    <tr>\n",
       "      <th>...</th>\n",
       "      <td>...</td>\n",
       "      <td>...</td>\n",
       "    </tr>\n",
       "    <tr>\n",
       "      <th>6788</th>\n",
       "      <td>BMG_PW6789</td>\n",
       "      <td>KEGG: Graft-versus-host disease (GVHD) is a le...</td>\n",
       "    </tr>\n",
       "    <tr>\n",
       "      <th>6789</th>\n",
       "      <td>BMG_PW6790</td>\n",
       "      <td>KEGG: Primary immunodeficiencies (PIs) are a h...</td>\n",
       "    </tr>\n",
       "    <tr>\n",
       "      <th>6790</th>\n",
       "      <td>BMG_PW6791</td>\n",
       "      <td>KEGG: Diabetic cardiomyopathy has been defined...</td>\n",
       "    </tr>\n",
       "    <tr>\n",
       "      <th>6791</th>\n",
       "      <td>BMG_PW6792</td>\n",
       "      <td>KEGG: Atherosclerosis is a chronic inflammator...</td>\n",
       "    </tr>\n",
       "    <tr>\n",
       "      <th>6792</th>\n",
       "      <td>BMG_PW6793</td>\n",
       "      <td>KEGG: Shear stress represents the frictional f...</td>\n",
       "    </tr>\n",
       "  </tbody>\n",
       "</table>\n",
       "<p>6793 rows × 2 columns</p>\n",
       "</div>"
      ],
      "text/plain": [
       "     BioMedGraphica_ID                                        Description\n",
       "0           BMG_PW0001  PO: A pathway is a set of inter-connected  rea...\n",
       "1           BMG_PW0002  PO: The various, enzyme-controlled, series of ...\n",
       "2           BMG_PW0003  PO: The pathways where a signal - hormone, neu...\n",
       "3           BMG_PW0004  PO: The pathways that control the processes by...\n",
       "4           BMG_PW0005  PO: Those metabolic reactions and pathways inv...\n",
       "...                ...                                                ...\n",
       "6788        BMG_PW6789  KEGG: Graft-versus-host disease (GVHD) is a le...\n",
       "6789        BMG_PW6790  KEGG: Primary immunodeficiencies (PIs) are a h...\n",
       "6790        BMG_PW6791  KEGG: Diabetic cardiomyopathy has been defined...\n",
       "6791        BMG_PW6792  KEGG: Atherosclerosis is a chronic inflammator...\n",
       "6792        BMG_PW6793  KEGG: Shear stress represents the frictional f...\n",
       "\n",
       "[6793 rows x 2 columns]"
      ]
     },
     "execution_count": 11,
     "metadata": {},
     "output_type": "execute_result"
    }
   ],
   "source": [
    "comb_description = pathway_description.copy()\n",
    "\n",
    "# add the column name at the beginning of the string\n",
    "# first, we need to get the column names\n",
    "column_names = comb_description.columns.tolist()\n",
    "column_names = [col for col in column_names if col != 'BioMedGraphica_ID']\n",
    "# then we can apply the function to each column\n",
    "for col in column_names:\n",
    "    comb_description[col] = comb_description[col].apply(lambda x: ' | '.join([f\"{col}: {i}\" for i in x.split(' | ')]) if pd.notna(x) else x)\n",
    "\n",
    "# now we can merge the columns into one\n",
    "comb_description['Description'] = comb_description[column_names].apply(lambda x: ' | '.join(x.dropna()), axis=1)\n",
    "comb_description = comb_description[['BioMedGraphica_ID', 'Description']]\n",
    "comb_description"
   ]
  },
  {
   "cell_type": "code",
   "execution_count": 12,
   "metadata": {},
   "outputs": [
    {
     "name": "stdout",
     "output_type": "stream",
     "text": [
      "Data has been saved to D:\\RA\\BMG\\BioMedGraphica\\Entity\\Pathway\\BioMedGraphica_Pathway_Description_Combined.csv\n"
     ]
    }
   ],
   "source": [
    "import os\n",
    "from pathlib import Path\n",
    "\n",
    "# get the current working directory\n",
    "current_working_dir = Path(os.getcwd()).resolve()\n",
    "\n",
    "# get the output directory\n",
    "grandparent_dir = current_working_dir.parent.parent.parent\n",
    "\n",
    "target_folder = grandparent_dir / 'BioMedGraphica' / 'Entity' / 'Pathway'\n",
    "if not target_folder.exists():\n",
    "    target_folder.mkdir(parents=True)\n",
    "    print(f\"Folder {target_folder} has been created.\")\n",
    "\n",
    "output_file_path = target_folder / 'BioMedGraphica_Pathway_Description_Combined.csv'\n",
    "comb_description.to_csv(output_file_path, index=False)\n",
    "print(f\"Data has been saved to {output_file_path}\")"
   ]
  },
  {
   "cell_type": "markdown",
   "metadata": {},
   "source": [
    "## 6. File Generation"
   ]
  },
  {
   "cell_type": "code",
   "execution_count": 1,
   "metadata": {},
   "outputs": [],
   "source": [
    "import pandas as pd\n",
    "import os\n",
    "from pathlib import Path\n",
    "\n",
    "current_working_dir = Path(os.getcwd()).resolve()\n",
    "grandparent_dir = current_working_dir.parent.parent.parent\n",
    "target_dir = grandparent_dir / 'BioMedGraphica' / 'Entity' / 'Pathway' / 'BioMedGraphica_Pathway.csv'\n",
    "biomedgraphica_pathway = pd.read_csv(target_dir, dtype=str)"
   ]
  },
  {
   "cell_type": "markdown",
   "metadata": {},
   "source": [
    "### 6.1 Name and ID"
   ]
  },
  {
   "cell_type": "markdown",
   "metadata": {},
   "source": [
    "GUI Name"
   ]
  },
  {
   "cell_type": "code",
   "execution_count": 13,
   "metadata": {},
   "outputs": [
    {
     "data": {
      "application/vnd.microsoft.datawrangler.viewer.v0+json": {
       "columns": [
        {
         "name": "index",
         "rawType": "int64",
         "type": "integer"
        },
        {
         "name": "BioMedGraphica_ID",
         "rawType": "object",
         "type": "string"
        },
        {
         "name": "Pathway_Name_List",
         "rawType": "object",
         "type": "string"
        }
       ],
       "conversionMethod": "pd.DataFrame",
       "ref": "1eba843f-8ae9-4a79-9335-9b9c1becc49f",
       "rows": [
        [
         "0",
         "BMG_PW0001",
         "pathway"
        ],
        [
         "1",
         "BMG_PW0002",
         "Metabolic pathways | Metabolism | classic metabolic pathway"
        ],
        [
         "2",
         "BMG_PW0003",
         "signaling pathway | Signal Transduction"
        ],
        [
         "3",
         "BMG_PW0004",
         "regulatory pathway"
        ],
        [
         "4",
         "BMG_PW0005",
         "Metabolism of carbohydrates | Carbon metabolism | carbohydrate metabolic pathway"
        ],
        [
         "5",
         "BMG_PW0006",
         "Ras superfamily mediated signaling pathway"
        ],
        [
         "6",
         "BMG_PW0007",
         "MAPK signaling pathway | MAPK family signaling cascades | MAPK signaling | mitogen activated protein kinase signaling pathway"
        ],
        [
         "7",
         "BMG_PW0008",
         "Wnt signaling | Signaling by WNT | Wnt signaling pathway"
        ],
        [
         "8",
         "BMG_PW0009",
         "apoptotic cell death pathway | Apoptosis"
        ],
        [
         "9",
         "BMG_PW0010",
         "lipid metabolic pathway | Metabolism of lipids"
        ],
        [
         "10",
         "BMG_PW0011",
         "amino acid metabolic pathway"
        ],
        [
         "11",
         "BMG_PW0012",
         "nucleotide metabolic pathway | Metabolism of nucleotides"
        ],
        [
         "12",
         "BMG_PW0013",
         "Disease | disease pathway"
        ],
        [
         "13",
         "BMG_PW0014",
         "Neurodegenerative Diseases | neurodegenerative pathway"
        ],
        [
         "14",
         "BMG_PW0015",
         "Alzheimer's disease and miRNA effects | Alzheimer's disease pathway | Alzheimer disease"
        ],
        [
         "15",
         "BMG_PW0016",
         "Amyotrophic lateral sclerosis (ALS) | Amyotrophic lateral sclerosis | amyotrophic lateral sclerosis pathway"
        ],
        [
         "16",
         "BMG_PW0017",
         "Huntington's disease pathway"
        ],
        [
         "17",
         "BMG_PW0018",
         "Parkinson disease | Parkinson's disease pathway"
        ],
        [
         "18",
         "BMG_PW0019",
         "prion disease pathway | Prion disease pathway | Prion disease"
        ],
        [
         "19",
         "BMG_PW0020",
         "cardiovascular system disease pathway"
        ],
        [
         "20",
         "BMG_PW0021",
         "hypertension pathway"
        ],
        [
         "21",
         "BMG_PW0022",
         "cardiomyopathy pathway"
        ],
        [
         "22",
         "BMG_PW0023",
         "Immune System | immune response pathway"
        ],
        [
         "23",
         "BMG_PW0024",
         "inflammatory response pathway"
        ],
        [
         "24",
         "BMG_PW0025",
         "Glycolysis and gluconeogenesis | Glycolysis / Gluconeogenesis | glycolysis/gluconeogenesis pathway"
        ],
        [
         "25",
         "BMG_PW0026",
         "TCA cycle (aka Krebs or citric acid cycle) | citric acid cycle pathway | Citric acid cycle (TCA cycle) | Citrate cycle (TCA cycle)"
        ],
        [
         "26",
         "BMG_PW0027",
         "glutamic acid/glutamate metabolic pathway"
        ],
        [
         "27",
         "BMG_PW0028",
         "alanine, aspartate and glutamate metabolic pathway"
        ],
        [
         "28",
         "BMG_PW0029",
         "Fatty acid biosynthesis | fatty acid biosynthetic pathway"
        ],
        [
         "29",
         "BMG_PW0030",
         "purine metabolic pathway | Purine metabolism"
        ],
        [
         "30",
         "BMG_PW0031",
         "Pyrimidine metabolism | pyrimidine metabolic pathway"
        ],
        [
         "31",
         "BMG_PW0032",
         "energy metabolic pathway"
        ],
        [
         "32",
         "BMG_PW0033",
         "electron transport chain pathway | Respiratory electron transport"
        ],
        [
         "33",
         "BMG_PW0034",
         "ATP biosynthetic pathway"
        ],
        [
         "34",
         "BMG_PW0035",
         "nitrogen metabolic pathway | Nitrogen metabolism"
        ],
        [
         "35",
         "BMG_PW0036",
         "sulfur metabolic pathway"
        ],
        [
         "36",
         "BMG_PW0037",
         "Sterol, vitamin K, vitamine E and cartenoids  biosynthesis"
        ],
        [
         "37",
         "BMG_PW0038",
         "bile acid biosynthetic pathway | Primary bile acid biosynthesis"
        ],
        [
         "38",
         "BMG_PW0039",
         "steroid hormone biosynthetic pathway"
        ],
        [
         "39",
         "BMG_PW0040",
         "fructose and mannose metabolic pathway | Fructose and mannose metabolism"
        ],
        [
         "40",
         "BMG_PW0041",
         "galactose metabolic pathway"
        ],
        [
         "41",
         "BMG_PW0042",
         "pyruvate metabolic pathway | Pyruvate metabolism"
        ],
        [
         "42",
         "BMG_PW0043",
         "Duplicated Glutamate Metabolism term"
        ],
        [
         "43",
         "BMG_PW0044",
         "Pentose phosphate pathway | pentose phosphate pathway | Pentose phosphate metabolism"
        ],
        [
         "44",
         "BMG_PW0045",
         "inositol metabolic pathway"
        ],
        [
         "45",
         "BMG_PW0046",
         "glycine, serine and threonine metabolic pathway"
        ],
        [
         "46",
         "BMG_PW0047",
         "methionine cycle/metabolic pathway"
        ],
        [
         "47",
         "BMG_PW0048",
         "cysteine metabolic pathway"
        ],
        [
         "48",
         "BMG_PW0049",
         "arginine and proline metabolic pathway"
        ],
        [
         "49",
         "BMG_PW0050",
         "histidine metabolic pathway | Histidine metabolism"
        ]
       ],
       "shape": {
        "columns": 2,
        "rows": 6793
       }
      },
      "text/html": [
       "<div>\n",
       "<style scoped>\n",
       "    .dataframe tbody tr th:only-of-type {\n",
       "        vertical-align: middle;\n",
       "    }\n",
       "\n",
       "    .dataframe tbody tr th {\n",
       "        vertical-align: top;\n",
       "    }\n",
       "\n",
       "    .dataframe thead th {\n",
       "        text-align: right;\n",
       "    }\n",
       "</style>\n",
       "<table border=\"1\" class=\"dataframe\">\n",
       "  <thead>\n",
       "    <tr style=\"text-align: right;\">\n",
       "      <th></th>\n",
       "      <th>BioMedGraphica_ID</th>\n",
       "      <th>Pathway_Name_List</th>\n",
       "    </tr>\n",
       "  </thead>\n",
       "  <tbody>\n",
       "    <tr>\n",
       "      <th>0</th>\n",
       "      <td>BMG_PW0001</td>\n",
       "      <td>pathway</td>\n",
       "    </tr>\n",
       "    <tr>\n",
       "      <th>1</th>\n",
       "      <td>BMG_PW0002</td>\n",
       "      <td>Metabolic pathways | Metabolism | classic meta...</td>\n",
       "    </tr>\n",
       "    <tr>\n",
       "      <th>2</th>\n",
       "      <td>BMG_PW0003</td>\n",
       "      <td>signaling pathway | Signal Transduction</td>\n",
       "    </tr>\n",
       "    <tr>\n",
       "      <th>3</th>\n",
       "      <td>BMG_PW0004</td>\n",
       "      <td>regulatory pathway</td>\n",
       "    </tr>\n",
       "    <tr>\n",
       "      <th>4</th>\n",
       "      <td>BMG_PW0005</td>\n",
       "      <td>Metabolism of carbohydrates | Carbon metabolis...</td>\n",
       "    </tr>\n",
       "    <tr>\n",
       "      <th>...</th>\n",
       "      <td>...</td>\n",
       "      <td>...</td>\n",
       "    </tr>\n",
       "    <tr>\n",
       "      <th>6788</th>\n",
       "      <td>BMG_PW6789</td>\n",
       "      <td>Graft-versus-host disease</td>\n",
       "    </tr>\n",
       "    <tr>\n",
       "      <th>6789</th>\n",
       "      <td>BMG_PW6790</td>\n",
       "      <td>Primary immunodeficiency</td>\n",
       "    </tr>\n",
       "    <tr>\n",
       "      <th>6790</th>\n",
       "      <td>BMG_PW6791</td>\n",
       "      <td>Diabetic cardiomyopathy</td>\n",
       "    </tr>\n",
       "    <tr>\n",
       "      <th>6791</th>\n",
       "      <td>BMG_PW6792</td>\n",
       "      <td>Lipid and atherosclerosis</td>\n",
       "    </tr>\n",
       "    <tr>\n",
       "      <th>6792</th>\n",
       "      <td>BMG_PW6793</td>\n",
       "      <td>Fluid shear stress and atherosclerosis</td>\n",
       "    </tr>\n",
       "  </tbody>\n",
       "</table>\n",
       "<p>6793 rows × 2 columns</p>\n",
       "</div>"
      ],
      "text/plain": [
       "     BioMedGraphica_ID                                  Pathway_Name_List\n",
       "0           BMG_PW0001                                            pathway\n",
       "1           BMG_PW0002  Metabolic pathways | Metabolism | classic meta...\n",
       "2           BMG_PW0003            signaling pathway | Signal Transduction\n",
       "3           BMG_PW0004                                 regulatory pathway\n",
       "4           BMG_PW0005  Metabolism of carbohydrates | Carbon metabolis...\n",
       "...                ...                                                ...\n",
       "6788        BMG_PW6789                          Graft-versus-host disease\n",
       "6789        BMG_PW6790                           Primary immunodeficiency\n",
       "6790        BMG_PW6791                            Diabetic cardiomyopathy\n",
       "6791        BMG_PW6792                          Lipid and atherosclerosis\n",
       "6792        BMG_PW6793             Fluid shear stress and atherosclerosis\n",
       "\n",
       "[6793 rows x 2 columns]"
      ]
     },
     "execution_count": 13,
     "metadata": {},
     "output_type": "execute_result"
    }
   ],
   "source": [
    "def merge_string_columns(df, columns, merge_name, separator=' | '):\n",
    "    def merge_strings(row):\n",
    "        combined = set()\n",
    "        for column in columns:\n",
    "            if pd.notnull(row[column]):\n",
    "                combined.update(row[column].split(separator))\n",
    "        return separator.join(combined)\n",
    "    \n",
    "    # Apply the function to each row and create a new column\n",
    "    combined_column_name = merge_name\n",
    "    df[combined_column_name] = df.apply(merge_strings, axis=1)\n",
    "    df.drop(columns=columns, inplace=True)\n",
    "    \n",
    "    return df\n",
    "\n",
    "gui_name = biomedgraphica_pathway.copy()\n",
    "gui_name = merge_string_columns(gui_name, ['PO_Name', 'KEGG_Name', 'Reactome_Name', 'WikiPathways_Name'], 'Pathway_Name_List')\n",
    "gui_name = gui_name[['BioMedGraphica_ID', 'Pathway_Name_List']]\n",
    "gui_name"
   ]
  },
  {
   "cell_type": "code",
   "execution_count": 14,
   "metadata": {},
   "outputs": [
    {
     "name": "stdout",
     "output_type": "stream",
     "text": [
      "Data has been saved to D:\\RA\\BMG\\BioMedGraphica\\Entity\\Pathway\\BioMedGraphica_Pathway_GUI_Name.csv\n"
     ]
    }
   ],
   "source": [
    "import os\n",
    "from pathlib import Path\n",
    "\n",
    "# get the current working directory\n",
    "current_working_dir = Path(os.getcwd()).resolve()\n",
    "\n",
    "# get the output directory\n",
    "grandparent_dir = current_working_dir.parent.parent.parent\n",
    "\n",
    "target_folder = grandparent_dir / 'BioMedGraphica' / 'Entity' / 'Pathway'\n",
    "if not target_folder.exists():\n",
    "    target_folder.mkdir(parents=True)\n",
    "    print(f\"Folder {target_folder} has been created.\")\n",
    "\n",
    "output_file_path = target_folder / 'BioMedGraphica_Pathway_GUI_Name.csv'\n",
    "gui_name.to_csv(output_file_path, index=False)\n",
    "print(f\"Data has been saved to {output_file_path}\")"
   ]
  },
  {
   "cell_type": "markdown",
   "metadata": {},
   "source": [
    "LLM Name and ID"
   ]
  },
  {
   "cell_type": "code",
   "execution_count": 15,
   "metadata": {},
   "outputs": [
    {
     "data": {
      "application/vnd.microsoft.datawrangler.viewer.v0+json": {
       "columns": [
        {
         "name": "index",
         "rawType": "int64",
         "type": "integer"
        },
        {
         "name": "BioMedGraphica_ID",
         "rawType": "object",
         "type": "string"
        },
        {
         "name": "PO_Name",
         "rawType": "object",
         "type": "unknown"
        },
        {
         "name": "PO_ID",
         "rawType": "object",
         "type": "unknown"
        },
        {
         "name": "Reactome_Name",
         "rawType": "object",
         "type": "unknown"
        },
        {
         "name": "Reactome_ID",
         "rawType": "object",
         "type": "unknown"
        },
        {
         "name": "WikiPathways_Name",
         "rawType": "object",
         "type": "unknown"
        },
        {
         "name": "WikiPathways_ID",
         "rawType": "object",
         "type": "unknown"
        },
        {
         "name": "KEGG_Name",
         "rawType": "object",
         "type": "unknown"
        },
        {
         "name": "KEGG_ID",
         "rawType": "object",
         "type": "unknown"
        }
       ],
       "conversionMethod": "pd.DataFrame",
       "ref": "486baf9f-c8ab-47cd-abcc-99999871863f",
       "rows": [
        [
         "0",
         "BMG_PW0001",
         "pathway",
         "PO ID:PW:0000001",
         null,
         null,
         null,
         null,
         null,
         null
        ],
        [
         "1",
         "BMG_PW0002",
         "classic metabolic pathway",
         "PO ID:PW:0000002",
         "Metabolism",
         "Reactome ID:R-HSA-1430728",
         null,
         null,
         "Metabolic pathways",
         "KEGG ID:hsa01100"
        ],
        [
         "2",
         "BMG_PW0003",
         "signaling pathway",
         "PO ID:PW:0000003",
         "Signal Transduction",
         "Reactome ID:R-HSA-162582",
         null,
         null,
         null,
         null
        ],
        [
         "3",
         "BMG_PW0004",
         "regulatory pathway",
         "PO ID:PW:0000004",
         null,
         null,
         null,
         null,
         null,
         null
        ],
        [
         "4",
         "BMG_PW0005",
         "carbohydrate metabolic pathway",
         "PO ID:PW:0000005",
         "Metabolism of carbohydrates",
         "Reactome ID:R-HSA-71387",
         null,
         null,
         "Carbon metabolism",
         "KEGG ID:hsa01200"
        ],
        [
         "5",
         "BMG_PW0006",
         "Ras superfamily mediated signaling pathway",
         "PO ID:PW:0000006",
         null,
         null,
         null,
         null,
         null,
         null
        ],
        [
         "6",
         "BMG_PW0007",
         "mitogen activated protein kinase signaling pathway",
         "PO ID:PW:0000007",
         "MAPK family signaling cascades",
         "Reactome ID:R-HSA-5683057",
         "MAPK signaling",
         "WikiPathways ID:WP382",
         "MAPK signaling pathway",
         "KEGG ID:hsa04010"
        ],
        [
         "7",
         "BMG_PW0008",
         "Wnt signaling pathway",
         "PO ID:PW:0000008",
         "Signaling by WNT",
         "Reactome ID:R-HSA-195721",
         "Wnt signaling",
         "WikiPathways ID:WP428",
         "Wnt signaling pathway",
         "KEGG ID:hsa04310"
        ],
        [
         "8",
         "BMG_PW0009",
         "apoptotic cell death pathway",
         "PO ID:PW:0000009",
         "Apoptosis",
         "Reactome ID:R-HSA-109581",
         "Apoptosis",
         "WikiPathways ID:WP254",
         "Apoptosis",
         "KEGG ID:hsa04210"
        ],
        [
         "9",
         "BMG_PW0010",
         "lipid metabolic pathway",
         "PO ID:PW:0000010",
         "Metabolism of lipids",
         "Reactome ID:R-HSA-556833",
         null,
         null,
         null,
         null
        ],
        [
         "10",
         "BMG_PW0011",
         "amino acid metabolic pathway",
         "PO ID:PW:0000011",
         null,
         null,
         null,
         null,
         null,
         null
        ],
        [
         "11",
         "BMG_PW0012",
         "nucleotide metabolic pathway",
         "PO ID:PW:0000012",
         "Metabolism of nucleotides",
         "Reactome ID:R-HSA-15869",
         null,
         null,
         null,
         null
        ],
        [
         "12",
         "BMG_PW0013",
         "disease pathway",
         "PO ID:PW:0000013",
         "Disease",
         "Reactome ID:R-HSA-1643685",
         null,
         null,
         null,
         null
        ],
        [
         "13",
         "BMG_PW0014",
         "neurodegenerative pathway",
         "PO ID:PW:0000014",
         "Neurodegenerative Diseases",
         "Reactome ID:R-HSA-8863678",
         null,
         null,
         null,
         null
        ],
        [
         "14",
         "BMG_PW0015",
         "Alzheimer's disease pathway",
         "PO ID:PW:0000015",
         null,
         null,
         "Alzheimer's disease and miRNA effects",
         "WikiPathways ID:WP2059",
         "Alzheimer disease",
         "KEGG ID:hsa05010"
        ],
        [
         "15",
         "BMG_PW0016",
         "amyotrophic lateral sclerosis pathway",
         "PO ID:PW:0000016",
         null,
         null,
         "Amyotrophic lateral sclerosis (ALS)",
         "WikiPathways ID:WP2447",
         "Amyotrophic lateral sclerosis",
         "KEGG ID:hsa05014"
        ],
        [
         "16",
         "BMG_PW0017",
         "Huntington's disease pathway",
         "PO ID:PW:0000017",
         null,
         null,
         null,
         null,
         null,
         null
        ],
        [
         "17",
         "BMG_PW0018",
         "Parkinson's disease pathway",
         "PO ID:PW:0000018",
         null,
         null,
         "Parkinson's disease pathway",
         "WikiPathways ID:WP2371",
         "Parkinson disease",
         "KEGG ID:hsa05012"
        ],
        [
         "18",
         "BMG_PW0019",
         "prion disease pathway",
         "PO ID:PW:0000019",
         null,
         null,
         "Prion disease pathway",
         "WikiPathways ID:WP3995",
         "Prion disease",
         "KEGG ID:hsa05020"
        ],
        [
         "19",
         "BMG_PW0020",
         "cardiovascular system disease pathway",
         "PO ID:PW:0000020",
         null,
         null,
         null,
         null,
         null,
         null
        ],
        [
         "20",
         "BMG_PW0021",
         "hypertension pathway",
         "PO ID:PW:0000021",
         null,
         null,
         null,
         null,
         null,
         null
        ],
        [
         "21",
         "BMG_PW0022",
         "cardiomyopathy pathway",
         "PO ID:PW:0000022",
         null,
         null,
         null,
         null,
         null,
         null
        ],
        [
         "22",
         "BMG_PW0023",
         "immune response pathway",
         "PO ID:PW:0000023",
         "Immune System",
         "Reactome ID:R-HSA-168256",
         null,
         null,
         null,
         null
        ],
        [
         "23",
         "BMG_PW0024",
         "inflammatory response pathway",
         "PO ID:PW:0000024",
         null,
         null,
         null,
         null,
         null,
         null
        ],
        [
         "24",
         "BMG_PW0025",
         "glycolysis/gluconeogenesis pathway",
         "PO ID:PW:0000025",
         null,
         null,
         "Glycolysis and gluconeogenesis",
         "WikiPathways ID:WP534",
         "Glycolysis / Gluconeogenesis",
         "KEGG ID:hsa00010"
        ],
        [
         "25",
         "BMG_PW0026",
         "citric acid cycle pathway",
         "PO ID:PW:0000026",
         "Citric acid cycle (TCA cycle)",
         "Reactome ID:R-HSA-71403",
         "TCA cycle (aka Krebs or citric acid cycle)",
         "WikiPathways ID:WP78",
         "Citrate cycle (TCA cycle)",
         "KEGG ID:hsa00020"
        ],
        [
         "26",
         "BMG_PW0027",
         "glutamic acid/glutamate metabolic pathway",
         "PO ID:PW:0000027",
         null,
         null,
         null,
         null,
         null,
         null
        ],
        [
         "27",
         "BMG_PW0028",
         "alanine, aspartate and glutamate metabolic pathway",
         "PO ID:PW:0000028",
         null,
         null,
         null,
         null,
         null,
         null
        ],
        [
         "28",
         "BMG_PW0029",
         "fatty acid biosynthetic pathway",
         "PO ID:PW:0000029",
         null,
         null,
         "Fatty acid biosynthesis",
         "WikiPathways ID:WP357",
         "Fatty acid biosynthesis",
         "KEGG ID:hsa00061"
        ],
        [
         "29",
         "BMG_PW0030",
         "purine metabolic pathway",
         "PO ID:PW:0000031",
         null,
         null,
         null,
         null,
         "Purine metabolism",
         "KEGG ID:hsa00230"
        ],
        [
         "30",
         "BMG_PW0031",
         "pyrimidine metabolic pathway",
         "PO ID:PW:0000032",
         null,
         null,
         "Pyrimidine metabolism",
         "WikiPathways ID:WP4022",
         "Pyrimidine metabolism",
         "KEGG ID:hsa00240"
        ],
        [
         "31",
         "BMG_PW0032",
         "energy metabolic pathway",
         "PO ID:PW:0000033",
         null,
         null,
         null,
         null,
         null,
         null
        ],
        [
         "32",
         "BMG_PW0033",
         "electron transport chain pathway",
         "PO ID:PW:0000034",
         "Respiratory electron transport",
         "Reactome ID:R-HSA-611105",
         null,
         null,
         null,
         null
        ],
        [
         "33",
         "BMG_PW0034",
         "ATP biosynthetic pathway",
         "PO ID:PW:0000035",
         null,
         null,
         null,
         null,
         null,
         null
        ],
        [
         "34",
         "BMG_PW0035",
         "nitrogen metabolic pathway",
         "PO ID:PW:0000036",
         null,
         null,
         null,
         null,
         "Nitrogen metabolism",
         "KEGG ID:hsa00910"
        ],
        [
         "35",
         "BMG_PW0036",
         "sulfur metabolic pathway",
         "PO ID:PW:0000037",
         null,
         null,
         null,
         null,
         null,
         null
        ],
        [
         "36",
         "BMG_PW0037",
         "Sterol, vitamin K, vitamine E and cartenoids  biosynthesis",
         "PO ID:PW:0000038",
         null,
         null,
         null,
         null,
         null,
         null
        ],
        [
         "37",
         "BMG_PW0038",
         "bile acid biosynthetic pathway",
         "PO ID:PW:0000039",
         null,
         null,
         null,
         null,
         "Primary bile acid biosynthesis",
         "KEGG ID:hsa00120"
        ],
        [
         "38",
         "BMG_PW0039",
         "steroid hormone biosynthetic pathway",
         "PO ID:PW:0000040",
         null,
         null,
         null,
         null,
         null,
         null
        ],
        [
         "39",
         "BMG_PW0040",
         "fructose and mannose metabolic pathway",
         "PO ID:PW:0000041",
         null,
         null,
         null,
         null,
         "Fructose and mannose metabolism",
         "KEGG ID:hsa00051"
        ],
        [
         "40",
         "BMG_PW0041",
         "galactose metabolic pathway",
         "PO ID:PW:0000042",
         null,
         null,
         null,
         null,
         null,
         null
        ],
        [
         "41",
         "BMG_PW0042",
         "pyruvate metabolic pathway",
         "PO ID:PW:0000043",
         "Pyruvate metabolism",
         "Reactome ID:R-HSA-70268",
         null,
         null,
         "Pyruvate metabolism",
         "KEGG ID:hsa00620"
        ],
        [
         "42",
         "BMG_PW0043",
         "Duplicated Glutamate Metabolism term",
         "PO ID:PW:0000044",
         null,
         null,
         null,
         null,
         null,
         null
        ],
        [
         "43",
         "BMG_PW0044",
         "pentose phosphate pathway",
         "PO ID:PW:0000045",
         "Pentose phosphate pathway",
         "Reactome ID:R-HSA-71336",
         "Pentose phosphate metabolism",
         "WikiPathways ID:WP134",
         "Pentose phosphate pathway",
         "KEGG ID:hsa00030"
        ],
        [
         "44",
         "BMG_PW0045",
         "inositol metabolic pathway",
         "PO ID:PW:0000046",
         null,
         null,
         null,
         null,
         null,
         null
        ],
        [
         "45",
         "BMG_PW0046",
         "glycine, serine and threonine metabolic pathway",
         "PO ID:PW:0000047",
         null,
         null,
         null,
         null,
         null,
         null
        ],
        [
         "46",
         "BMG_PW0047",
         "methionine cycle/metabolic pathway",
         "PO ID:PW:0000048",
         null,
         null,
         null,
         null,
         null,
         null
        ],
        [
         "47",
         "BMG_PW0048",
         "cysteine metabolic pathway",
         "PO ID:PW:0000049",
         null,
         null,
         null,
         null,
         null,
         null
        ],
        [
         "48",
         "BMG_PW0049",
         "arginine and proline metabolic pathway",
         "PO ID:PW:0000050",
         null,
         null,
         null,
         null,
         null,
         null
        ],
        [
         "49",
         "BMG_PW0050",
         "histidine metabolic pathway",
         "PO ID:PW:0000051",
         null,
         null,
         null,
         null,
         "Histidine metabolism",
         "KEGG ID:hsa00340"
        ]
       ],
       "shape": {
        "columns": 9,
        "rows": 6793
       }
      },
      "text/html": [
       "<div>\n",
       "<style scoped>\n",
       "    .dataframe tbody tr th:only-of-type {\n",
       "        vertical-align: middle;\n",
       "    }\n",
       "\n",
       "    .dataframe tbody tr th {\n",
       "        vertical-align: top;\n",
       "    }\n",
       "\n",
       "    .dataframe thead th {\n",
       "        text-align: right;\n",
       "    }\n",
       "</style>\n",
       "<table border=\"1\" class=\"dataframe\">\n",
       "  <thead>\n",
       "    <tr style=\"text-align: right;\">\n",
       "      <th></th>\n",
       "      <th>BioMedGraphica_ID</th>\n",
       "      <th>PO_Name</th>\n",
       "      <th>PO_ID</th>\n",
       "      <th>Reactome_Name</th>\n",
       "      <th>Reactome_ID</th>\n",
       "      <th>WikiPathways_Name</th>\n",
       "      <th>WikiPathways_ID</th>\n",
       "      <th>KEGG_Name</th>\n",
       "      <th>KEGG_ID</th>\n",
       "    </tr>\n",
       "  </thead>\n",
       "  <tbody>\n",
       "    <tr>\n",
       "      <th>0</th>\n",
       "      <td>BMG_PW0001</td>\n",
       "      <td>pathway</td>\n",
       "      <td>PO ID:PW:0000001</td>\n",
       "      <td>NaN</td>\n",
       "      <td>NaN</td>\n",
       "      <td>NaN</td>\n",
       "      <td>NaN</td>\n",
       "      <td>NaN</td>\n",
       "      <td>NaN</td>\n",
       "    </tr>\n",
       "    <tr>\n",
       "      <th>1</th>\n",
       "      <td>BMG_PW0002</td>\n",
       "      <td>classic metabolic pathway</td>\n",
       "      <td>PO ID:PW:0000002</td>\n",
       "      <td>Metabolism</td>\n",
       "      <td>Reactome ID:R-HSA-1430728</td>\n",
       "      <td>NaN</td>\n",
       "      <td>NaN</td>\n",
       "      <td>Metabolic pathways</td>\n",
       "      <td>KEGG ID:hsa01100</td>\n",
       "    </tr>\n",
       "    <tr>\n",
       "      <th>2</th>\n",
       "      <td>BMG_PW0003</td>\n",
       "      <td>signaling pathway</td>\n",
       "      <td>PO ID:PW:0000003</td>\n",
       "      <td>Signal Transduction</td>\n",
       "      <td>Reactome ID:R-HSA-162582</td>\n",
       "      <td>NaN</td>\n",
       "      <td>NaN</td>\n",
       "      <td>NaN</td>\n",
       "      <td>NaN</td>\n",
       "    </tr>\n",
       "    <tr>\n",
       "      <th>3</th>\n",
       "      <td>BMG_PW0004</td>\n",
       "      <td>regulatory pathway</td>\n",
       "      <td>PO ID:PW:0000004</td>\n",
       "      <td>NaN</td>\n",
       "      <td>NaN</td>\n",
       "      <td>NaN</td>\n",
       "      <td>NaN</td>\n",
       "      <td>NaN</td>\n",
       "      <td>NaN</td>\n",
       "    </tr>\n",
       "    <tr>\n",
       "      <th>4</th>\n",
       "      <td>BMG_PW0005</td>\n",
       "      <td>carbohydrate metabolic pathway</td>\n",
       "      <td>PO ID:PW:0000005</td>\n",
       "      <td>Metabolism of carbohydrates</td>\n",
       "      <td>Reactome ID:R-HSA-71387</td>\n",
       "      <td>NaN</td>\n",
       "      <td>NaN</td>\n",
       "      <td>Carbon metabolism</td>\n",
       "      <td>KEGG ID:hsa01200</td>\n",
       "    </tr>\n",
       "    <tr>\n",
       "      <th>...</th>\n",
       "      <td>...</td>\n",
       "      <td>...</td>\n",
       "      <td>...</td>\n",
       "      <td>...</td>\n",
       "      <td>...</td>\n",
       "      <td>...</td>\n",
       "      <td>...</td>\n",
       "      <td>...</td>\n",
       "      <td>...</td>\n",
       "    </tr>\n",
       "    <tr>\n",
       "      <th>6788</th>\n",
       "      <td>BMG_PW6789</td>\n",
       "      <td>NaN</td>\n",
       "      <td>NaN</td>\n",
       "      <td>NaN</td>\n",
       "      <td>NaN</td>\n",
       "      <td>NaN</td>\n",
       "      <td>NaN</td>\n",
       "      <td>Graft-versus-host disease</td>\n",
       "      <td>KEGG ID:hsa05332</td>\n",
       "    </tr>\n",
       "    <tr>\n",
       "      <th>6789</th>\n",
       "      <td>BMG_PW6790</td>\n",
       "      <td>NaN</td>\n",
       "      <td>NaN</td>\n",
       "      <td>NaN</td>\n",
       "      <td>NaN</td>\n",
       "      <td>NaN</td>\n",
       "      <td>NaN</td>\n",
       "      <td>Primary immunodeficiency</td>\n",
       "      <td>KEGG ID:hsa05340</td>\n",
       "    </tr>\n",
       "    <tr>\n",
       "      <th>6790</th>\n",
       "      <td>BMG_PW6791</td>\n",
       "      <td>NaN</td>\n",
       "      <td>NaN</td>\n",
       "      <td>NaN</td>\n",
       "      <td>NaN</td>\n",
       "      <td>NaN</td>\n",
       "      <td>NaN</td>\n",
       "      <td>Diabetic cardiomyopathy</td>\n",
       "      <td>KEGG ID:hsa05415</td>\n",
       "    </tr>\n",
       "    <tr>\n",
       "      <th>6791</th>\n",
       "      <td>BMG_PW6792</td>\n",
       "      <td>NaN</td>\n",
       "      <td>NaN</td>\n",
       "      <td>NaN</td>\n",
       "      <td>NaN</td>\n",
       "      <td>NaN</td>\n",
       "      <td>NaN</td>\n",
       "      <td>Lipid and atherosclerosis</td>\n",
       "      <td>KEGG ID:hsa05417</td>\n",
       "    </tr>\n",
       "    <tr>\n",
       "      <th>6792</th>\n",
       "      <td>BMG_PW6793</td>\n",
       "      <td>NaN</td>\n",
       "      <td>NaN</td>\n",
       "      <td>NaN</td>\n",
       "      <td>NaN</td>\n",
       "      <td>NaN</td>\n",
       "      <td>NaN</td>\n",
       "      <td>Fluid shear stress and atherosclerosis</td>\n",
       "      <td>KEGG ID:hsa05418</td>\n",
       "    </tr>\n",
       "  </tbody>\n",
       "</table>\n",
       "<p>6793 rows × 9 columns</p>\n",
       "</div>"
      ],
      "text/plain": [
       "     BioMedGraphica_ID                         PO_Name             PO_ID  \\\n",
       "0           BMG_PW0001                         pathway  PO ID:PW:0000001   \n",
       "1           BMG_PW0002       classic metabolic pathway  PO ID:PW:0000002   \n",
       "2           BMG_PW0003               signaling pathway  PO ID:PW:0000003   \n",
       "3           BMG_PW0004              regulatory pathway  PO ID:PW:0000004   \n",
       "4           BMG_PW0005  carbohydrate metabolic pathway  PO ID:PW:0000005   \n",
       "...                ...                             ...               ...   \n",
       "6788        BMG_PW6789                             NaN               NaN   \n",
       "6789        BMG_PW6790                             NaN               NaN   \n",
       "6790        BMG_PW6791                             NaN               NaN   \n",
       "6791        BMG_PW6792                             NaN               NaN   \n",
       "6792        BMG_PW6793                             NaN               NaN   \n",
       "\n",
       "                    Reactome_Name                Reactome_ID  \\\n",
       "0                             NaN                        NaN   \n",
       "1                      Metabolism  Reactome ID:R-HSA-1430728   \n",
       "2             Signal Transduction   Reactome ID:R-HSA-162582   \n",
       "3                             NaN                        NaN   \n",
       "4     Metabolism of carbohydrates    Reactome ID:R-HSA-71387   \n",
       "...                           ...                        ...   \n",
       "6788                          NaN                        NaN   \n",
       "6789                          NaN                        NaN   \n",
       "6790                          NaN                        NaN   \n",
       "6791                          NaN                        NaN   \n",
       "6792                          NaN                        NaN   \n",
       "\n",
       "     WikiPathways_Name WikiPathways_ID  \\\n",
       "0                  NaN             NaN   \n",
       "1                  NaN             NaN   \n",
       "2                  NaN             NaN   \n",
       "3                  NaN             NaN   \n",
       "4                  NaN             NaN   \n",
       "...                ...             ...   \n",
       "6788               NaN             NaN   \n",
       "6789               NaN             NaN   \n",
       "6790               NaN             NaN   \n",
       "6791               NaN             NaN   \n",
       "6792               NaN             NaN   \n",
       "\n",
       "                                   KEGG_Name           KEGG_ID  \n",
       "0                                        NaN               NaN  \n",
       "1                         Metabolic pathways  KEGG ID:hsa01100  \n",
       "2                                        NaN               NaN  \n",
       "3                                        NaN               NaN  \n",
       "4                          Carbon metabolism  KEGG ID:hsa01200  \n",
       "...                                      ...               ...  \n",
       "6788               Graft-versus-host disease  KEGG ID:hsa05332  \n",
       "6789                Primary immunodeficiency  KEGG ID:hsa05340  \n",
       "6790                 Diabetic cardiomyopathy  KEGG ID:hsa05415  \n",
       "6791               Lipid and atherosclerosis  KEGG ID:hsa05417  \n",
       "6792  Fluid shear stress and atherosclerosis  KEGG ID:hsa05418  \n",
       "\n",
       "[6793 rows x 9 columns]"
      ]
     },
     "execution_count": 15,
     "metadata": {},
     "output_type": "execute_result"
    }
   ],
   "source": [
    "llm_name_id = biomedgraphica_pathway.copy()\n",
    "\n",
    "llm_name_id['PO_ID'] = llm_name_id['PO_ID'].apply(\n",
    "    lambda x: ' | '.join(f\"PO ID:{id}\" for id in x.split(';')) if pd.notna(x) and x != '' else x\n",
    ")\n",
    "\n",
    "llm_name_id['KEGG_ID'] = llm_name_id['KEGG_ID'].apply(\n",
    "    lambda x: ' | '.join(f\"KEGG ID:{id}\" for id in x.split(';')) if pd.notna(x) and x != '' else x\n",
    ")\n",
    "\n",
    "llm_name_id['Reactome_ID'] = llm_name_id['Reactome_ID'].apply(\n",
    "    lambda x: ' | '.join(f\"Reactome ID:{id}\" for id in x.split(';')) if pd.notna(x) and x != '' else x\n",
    ")\n",
    "\n",
    "llm_name_id['WikiPathways_ID'] = llm_name_id['WikiPathways_ID'].apply(\n",
    "    lambda x: ' | '.join(f\"WikiPathways ID:{id}\" for id in x.split(';')) if pd.notna(x) and x != '' else x\n",
    ")\n",
    "\n",
    "column_order = ['BioMedGraphica_ID', 'PO_Name', 'PO_ID', 'Reactome_Name', 'Reactome_ID', 'WikiPathways_Name', 'WikiPathways_ID', 'KEGG_Name', 'KEGG_ID']\n",
    "llm_name_id = llm_name_id[column_order] \n",
    "llm_name_id"
   ]
  },
  {
   "cell_type": "code",
   "execution_count": 16,
   "metadata": {},
   "outputs": [
    {
     "name": "stdout",
     "output_type": "stream",
     "text": [
      "Data has been saved to D:\\RA\\BMG\\BioMedGraphica\\Entity\\Pathway\\BioMedGraphica_Pathway_LLM_Name_ID.csv\n"
     ]
    }
   ],
   "source": [
    "import os\n",
    "from pathlib import Path\n",
    "\n",
    "# get the current working directory\n",
    "current_working_dir = Path(os.getcwd()).resolve()\n",
    "\n",
    "# get the output directory\n",
    "grandparent_dir = current_working_dir.parent.parent.parent\n",
    "\n",
    "target_folder = grandparent_dir / 'BioMedGraphica' / 'Entity' / 'Pathway'\n",
    "if not target_folder.exists():\n",
    "    target_folder.mkdir(parents=True)\n",
    "    print(f\"Folder {target_folder} has been created.\")\n",
    "\n",
    "output_file_path = target_folder / 'BioMedGraphica_Pathway_LLM_Name_ID.csv'\n",
    "llm_name_id.to_csv(output_file_path, index=False)\n",
    "print(f\"Data has been saved to {output_file_path}\")"
   ]
  },
  {
   "cell_type": "markdown",
   "metadata": {},
   "source": [
    "LLM Name and ID Combined"
   ]
  },
  {
   "cell_type": "code",
   "execution_count": 17,
   "metadata": {},
   "outputs": [
    {
     "data": {
      "application/vnd.microsoft.datawrangler.viewer.v0+json": {
       "columns": [
        {
         "name": "index",
         "rawType": "int64",
         "type": "integer"
        },
        {
         "name": "BioMedGraphica_ID",
         "rawType": "object",
         "type": "string"
        },
        {
         "name": "Names_and_IDs",
         "rawType": "object",
         "type": "string"
        }
       ],
       "conversionMethod": "pd.DataFrame",
       "ref": "3808bdcc-ce7e-4e57-aa8e-e520cb47c8f5",
       "rows": [
        [
         "0",
         "BMG_PW0001",
         "PO ID:PW:0000001 | pathway"
        ],
        [
         "1",
         "BMG_PW0002",
         "Metabolism | Reactome ID:R-HSA-1430728 | Metabolic pathways | classic metabolic pathway | KEGG ID:hsa01100 | PO ID:PW:0000002"
        ],
        [
         "2",
         "BMG_PW0003",
         "signaling pathway | Reactome ID:R-HSA-162582 | Signal Transduction | PO ID:PW:0000003"
        ],
        [
         "3",
         "BMG_PW0004",
         "regulatory pathway | PO ID:PW:0000004"
        ],
        [
         "4",
         "BMG_PW0005",
         "PO ID:PW:0000005 | KEGG ID:hsa01200 | Metabolism of carbohydrates | Carbon metabolism | carbohydrate metabolic pathway | Reactome ID:R-HSA-71387"
        ],
        [
         "5",
         "BMG_PW0006",
         "PO ID:PW:0000006 | Ras superfamily mediated signaling pathway"
        ],
        [
         "6",
         "BMG_PW0007",
         "PO ID:PW:0000007 | mitogen activated protein kinase signaling pathway | WikiPathways ID:WP382 | MAPK signaling pathway | MAPK family signaling cascades | MAPK signaling | Reactome ID:R-HSA-5683057 | KEGG ID:hsa04010"
        ],
        [
         "7",
         "BMG_PW0008",
         "Reactome ID:R-HSA-195721 | Wnt signaling pathway | KEGG ID:hsa04310 | Signaling by WNT | Wnt signaling | WikiPathways ID:WP428 | PO ID:PW:0000008"
        ],
        [
         "8",
         "BMG_PW0009",
         "PO ID:PW:0000009 | KEGG ID:hsa04210 | WikiPathways ID:WP254 | Reactome ID:R-HSA-109581 | Apoptosis | apoptotic cell death pathway"
        ],
        [
         "9",
         "BMG_PW0010",
         "lipid metabolic pathway | Metabolism of lipids | Reactome ID:R-HSA-556833 | PO ID:PW:0000010"
        ],
        [
         "10",
         "BMG_PW0011",
         "amino acid metabolic pathway | PO ID:PW:0000011"
        ],
        [
         "11",
         "BMG_PW0012",
         "PO ID:PW:0000012 | Reactome ID:R-HSA-15869 | nucleotide metabolic pathway | Metabolism of nucleotides"
        ],
        [
         "12",
         "BMG_PW0013",
         "Reactome ID:R-HSA-1643685 | Disease | disease pathway | PO ID:PW:0000013"
        ],
        [
         "13",
         "BMG_PW0014",
         "Neurodegenerative Diseases | neurodegenerative pathway | PO ID:PW:0000014 | Reactome ID:R-HSA-8863678"
        ],
        [
         "14",
         "BMG_PW0015",
         "KEGG ID:hsa05010 | WikiPathways ID:WP2059 | Alzheimer's disease pathway | Alzheimer disease | PO ID:PW:0000015 | Alzheimer's disease and miRNA effects"
        ],
        [
         "15",
         "BMG_PW0016",
         "KEGG ID:hsa05014 | Amyotrophic lateral sclerosis (ALS) | amyotrophic lateral sclerosis pathway | PO ID:PW:0000016 | WikiPathways ID:WP2447 | Amyotrophic lateral sclerosis"
        ],
        [
         "16",
         "BMG_PW0017",
         "Huntington's disease pathway | PO ID:PW:0000017"
        ],
        [
         "17",
         "BMG_PW0018",
         "WikiPathways ID:WP2371 | KEGG ID:hsa05012 | Parkinson's disease pathway | Parkinson disease | PO ID:PW:0000018"
        ],
        [
         "18",
         "BMG_PW0019",
         "prion disease pathway | KEGG ID:hsa05020 | Prion disease pathway | WikiPathways ID:WP3995 | Prion disease | PO ID:PW:0000019"
        ],
        [
         "19",
         "BMG_PW0020",
         "cardiovascular system disease pathway | PO ID:PW:0000020"
        ],
        [
         "20",
         "BMG_PW0021",
         "hypertension pathway | PO ID:PW:0000021"
        ],
        [
         "21",
         "BMG_PW0022",
         "PO ID:PW:0000022 | cardiomyopathy pathway"
        ],
        [
         "22",
         "BMG_PW0023",
         "Reactome ID:R-HSA-168256 | Immune System | PO ID:PW:0000023 | immune response pathway"
        ],
        [
         "23",
         "BMG_PW0024",
         "inflammatory response pathway | PO ID:PW:0000024"
        ],
        [
         "24",
         "BMG_PW0025",
         "KEGG ID:hsa00010 | glycolysis/gluconeogenesis pathway | Glycolysis and gluconeogenesis | Glycolysis / Gluconeogenesis | PO ID:PW:0000025 | WikiPathways ID:WP534"
        ],
        [
         "25",
         "BMG_PW0026",
         "Citrate cycle (TCA cycle) | citric acid cycle pathway | Reactome ID:R-HSA-71403 | Citric acid cycle (TCA cycle) | TCA cycle (aka Krebs or citric acid cycle) | PO ID:PW:0000026 | KEGG ID:hsa00020 | WikiPathways ID:WP78"
        ],
        [
         "26",
         "BMG_PW0027",
         "glutamic acid/glutamate metabolic pathway | PO ID:PW:0000027"
        ],
        [
         "27",
         "BMG_PW0028",
         "alanine, aspartate and glutamate metabolic pathway | PO ID:PW:0000028"
        ],
        [
         "28",
         "BMG_PW0029",
         "PO ID:PW:0000029 | fatty acid biosynthetic pathway | KEGG ID:hsa00061 | Fatty acid biosynthesis | WikiPathways ID:WP357"
        ],
        [
         "29",
         "BMG_PW0030",
         "purine metabolic pathway | KEGG ID:hsa00230 | PO ID:PW:0000031 | Purine metabolism"
        ],
        [
         "30",
         "BMG_PW0031",
         "Pyrimidine metabolism | KEGG ID:hsa00240 | WikiPathways ID:WP4022 | PO ID:PW:0000032 | pyrimidine metabolic pathway"
        ],
        [
         "31",
         "BMG_PW0032",
         "PO ID:PW:0000033 | energy metabolic pathway"
        ],
        [
         "32",
         "BMG_PW0033",
         "electron transport chain pathway | Reactome ID:R-HSA-611105 | PO ID:PW:0000034 | Respiratory electron transport"
        ],
        [
         "33",
         "BMG_PW0034",
         "PO ID:PW:0000035 | ATP biosynthetic pathway"
        ],
        [
         "34",
         "BMG_PW0035",
         "nitrogen metabolic pathway | Nitrogen metabolism | KEGG ID:hsa00910 | PO ID:PW:0000036"
        ],
        [
         "35",
         "BMG_PW0036",
         "PO ID:PW:0000037 | sulfur metabolic pathway"
        ],
        [
         "36",
         "BMG_PW0037",
         "PO ID:PW:0000038 | Sterol, vitamin K, vitamine E and cartenoids  biosynthesis"
        ],
        [
         "37",
         "BMG_PW0038",
         "bile acid biosynthetic pathway | Primary bile acid biosynthesis | KEGG ID:hsa00120 | PO ID:PW:0000039"
        ],
        [
         "38",
         "BMG_PW0039",
         "PO ID:PW:0000040 | steroid hormone biosynthetic pathway"
        ],
        [
         "39",
         "BMG_PW0040",
         "fructose and mannose metabolic pathway | PO ID:PW:0000041 | KEGG ID:hsa00051 | Fructose and mannose metabolism"
        ],
        [
         "40",
         "BMG_PW0041",
         "galactose metabolic pathway | PO ID:PW:0000042"
        ],
        [
         "41",
         "BMG_PW0042",
         "Reactome ID:R-HSA-70268 | KEGG ID:hsa00620 | pyruvate metabolic pathway | PO ID:PW:0000043 | Pyruvate metabolism"
        ],
        [
         "42",
         "BMG_PW0043",
         "Duplicated Glutamate Metabolism term | PO ID:PW:0000044"
        ],
        [
         "43",
         "BMG_PW0044",
         "WikiPathways ID:WP134 | KEGG ID:hsa00030 | PO ID:PW:0000045 | Pentose phosphate metabolism | Reactome ID:R-HSA-71336 | pentose phosphate pathway | Pentose phosphate pathway"
        ],
        [
         "44",
         "BMG_PW0045",
         "inositol metabolic pathway | PO ID:PW:0000046"
        ],
        [
         "45",
         "BMG_PW0046",
         "glycine, serine and threonine metabolic pathway | PO ID:PW:0000047"
        ],
        [
         "46",
         "BMG_PW0047",
         "PO ID:PW:0000048 | methionine cycle/metabolic pathway"
        ],
        [
         "47",
         "BMG_PW0048",
         "cysteine metabolic pathway | PO ID:PW:0000049"
        ],
        [
         "48",
         "BMG_PW0049",
         "PO ID:PW:0000050 | arginine and proline metabolic pathway"
        ],
        [
         "49",
         "BMG_PW0050",
         "histidine metabolic pathway | PO ID:PW:0000051 | Histidine metabolism | KEGG ID:hsa00340"
        ]
       ],
       "shape": {
        "columns": 2,
        "rows": 6793
       }
      },
      "text/html": [
       "<div>\n",
       "<style scoped>\n",
       "    .dataframe tbody tr th:only-of-type {\n",
       "        vertical-align: middle;\n",
       "    }\n",
       "\n",
       "    .dataframe tbody tr th {\n",
       "        vertical-align: top;\n",
       "    }\n",
       "\n",
       "    .dataframe thead th {\n",
       "        text-align: right;\n",
       "    }\n",
       "</style>\n",
       "<table border=\"1\" class=\"dataframe\">\n",
       "  <thead>\n",
       "    <tr style=\"text-align: right;\">\n",
       "      <th></th>\n",
       "      <th>BioMedGraphica_ID</th>\n",
       "      <th>Names_and_IDs</th>\n",
       "    </tr>\n",
       "  </thead>\n",
       "  <tbody>\n",
       "    <tr>\n",
       "      <th>0</th>\n",
       "      <td>BMG_PW0001</td>\n",
       "      <td>PO ID:PW:0000001 | pathway</td>\n",
       "    </tr>\n",
       "    <tr>\n",
       "      <th>1</th>\n",
       "      <td>BMG_PW0002</td>\n",
       "      <td>Metabolism | Reactome ID:R-HSA-1430728 | Metab...</td>\n",
       "    </tr>\n",
       "    <tr>\n",
       "      <th>2</th>\n",
       "      <td>BMG_PW0003</td>\n",
       "      <td>signaling pathway | Reactome ID:R-HSA-162582 |...</td>\n",
       "    </tr>\n",
       "    <tr>\n",
       "      <th>3</th>\n",
       "      <td>BMG_PW0004</td>\n",
       "      <td>regulatory pathway | PO ID:PW:0000004</td>\n",
       "    </tr>\n",
       "    <tr>\n",
       "      <th>4</th>\n",
       "      <td>BMG_PW0005</td>\n",
       "      <td>PO ID:PW:0000005 | KEGG ID:hsa01200 | Metaboli...</td>\n",
       "    </tr>\n",
       "    <tr>\n",
       "      <th>...</th>\n",
       "      <td>...</td>\n",
       "      <td>...</td>\n",
       "    </tr>\n",
       "    <tr>\n",
       "      <th>6788</th>\n",
       "      <td>BMG_PW6789</td>\n",
       "      <td>Graft-versus-host disease | KEGG ID:hsa05332</td>\n",
       "    </tr>\n",
       "    <tr>\n",
       "      <th>6789</th>\n",
       "      <td>BMG_PW6790</td>\n",
       "      <td>Primary immunodeficiency | KEGG ID:hsa05340</td>\n",
       "    </tr>\n",
       "    <tr>\n",
       "      <th>6790</th>\n",
       "      <td>BMG_PW6791</td>\n",
       "      <td>KEGG ID:hsa05415 | Diabetic cardiomyopathy</td>\n",
       "    </tr>\n",
       "    <tr>\n",
       "      <th>6791</th>\n",
       "      <td>BMG_PW6792</td>\n",
       "      <td>Lipid and atherosclerosis | KEGG ID:hsa05417</td>\n",
       "    </tr>\n",
       "    <tr>\n",
       "      <th>6792</th>\n",
       "      <td>BMG_PW6793</td>\n",
       "      <td>Fluid shear stress and atherosclerosis | KEGG ...</td>\n",
       "    </tr>\n",
       "  </tbody>\n",
       "</table>\n",
       "<p>6793 rows × 2 columns</p>\n",
       "</div>"
      ],
      "text/plain": [
       "     BioMedGraphica_ID                                      Names_and_IDs\n",
       "0           BMG_PW0001                         PO ID:PW:0000001 | pathway\n",
       "1           BMG_PW0002  Metabolism | Reactome ID:R-HSA-1430728 | Metab...\n",
       "2           BMG_PW0003  signaling pathway | Reactome ID:R-HSA-162582 |...\n",
       "3           BMG_PW0004              regulatory pathway | PO ID:PW:0000004\n",
       "4           BMG_PW0005  PO ID:PW:0000005 | KEGG ID:hsa01200 | Metaboli...\n",
       "...                ...                                                ...\n",
       "6788        BMG_PW6789       Graft-versus-host disease | KEGG ID:hsa05332\n",
       "6789        BMG_PW6790        Primary immunodeficiency | KEGG ID:hsa05340\n",
       "6790        BMG_PW6791         KEGG ID:hsa05415 | Diabetic cardiomyopathy\n",
       "6791        BMG_PW6792       Lipid and atherosclerosis | KEGG ID:hsa05417\n",
       "6792        BMG_PW6793  Fluid shear stress and atherosclerosis | KEGG ...\n",
       "\n",
       "[6793 rows x 2 columns]"
      ]
     },
     "execution_count": 17,
     "metadata": {},
     "output_type": "execute_result"
    }
   ],
   "source": [
    "llm_combined = llm_name_id.copy()\n",
    "\n",
    "def merge_string_columns(df, columns, merge_name, separator=' | '):\n",
    "    def merge_strings(row):\n",
    "        combined = set()\n",
    "        for column in columns:\n",
    "            if pd.notnull(row[column]):\n",
    "                combined.update(row[column].split(separator))\n",
    "        return separator.join(combined)\n",
    "    \n",
    "    # Apply the function to each row and create a new column\n",
    "    combined_column_name = merge_name\n",
    "    df[combined_column_name] = df.apply(merge_strings, axis=1)\n",
    "    df.drop(columns=columns, inplace=True)\n",
    "    \n",
    "    return df\n",
    "\n",
    "llm_combined = merge_string_columns(llm_combined, llm_combined.columns[llm_combined.columns != 'BioMedGraphica_ID'], 'Names_and_IDs')\n",
    "llm_combined"
   ]
  },
  {
   "cell_type": "code",
   "execution_count": 18,
   "metadata": {},
   "outputs": [
    {
     "name": "stdout",
     "output_type": "stream",
     "text": [
      "Data has been saved to D:\\RA\\BMG\\BioMedGraphica\\Entity\\Pathway\\BioMedGraphica_Pathway_LLM_Name_ID_Combined.csv\n"
     ]
    }
   ],
   "source": [
    "import os\n",
    "from pathlib import Path\n",
    "\n",
    "# get the current working directory\n",
    "current_working_dir = Path(os.getcwd()).resolve()\n",
    "\n",
    "# get the output directory\n",
    "grandparent_dir = current_working_dir.parent.parent.parent\n",
    "\n",
    "target_folder = grandparent_dir / 'BioMedGraphica' / 'Entity' / 'Pathway'\n",
    "if not target_folder.exists():\n",
    "    target_folder.mkdir(parents=True)\n",
    "    print(f\"Folder {target_folder} has been created.\")\n",
    "\n",
    "output_file_path = target_folder / 'BioMedGraphica_Pathway_LLM_Name_ID_Combined.csv'\n",
    "llm_combined.to_csv(output_file_path, index=False)\n",
    "print(f\"Data has been saved to {output_file_path}\")"
   ]
  },
  {
   "cell_type": "markdown",
   "metadata": {},
   "source": [
    "Display Name"
   ]
  },
  {
   "cell_type": "code",
   "execution_count": 19,
   "metadata": {},
   "outputs": [
    {
     "data": {
      "application/vnd.microsoft.datawrangler.viewer.v0+json": {
       "columns": [
        {
         "name": "index",
         "rawType": "int64",
         "type": "integer"
        },
        {
         "name": "BioMedGraphica_ID",
         "rawType": "object",
         "type": "string"
        },
        {
         "name": "BMG_Pathway_Name",
         "rawType": "object",
         "type": "string"
        }
       ],
       "conversionMethod": "pd.DataFrame",
       "ref": "394da871-148a-4f1c-acbb-cc0520af3a2e",
       "rows": [
        [
         "0",
         "BMG_PW0001",
         "pathway"
        ],
        [
         "1",
         "BMG_PW0002",
         "classic metabolic pathway"
        ],
        [
         "2",
         "BMG_PW0003",
         "signaling pathway"
        ],
        [
         "3",
         "BMG_PW0004",
         "regulatory pathway"
        ],
        [
         "4",
         "BMG_PW0005",
         "carbohydrate metabolic pathway"
        ],
        [
         "5",
         "BMG_PW0006",
         "Ras superfamily mediated signaling pathway"
        ],
        [
         "6",
         "BMG_PW0007",
         "mitogen activated protein kinase signaling pathway"
        ],
        [
         "7",
         "BMG_PW0008",
         "Wnt signaling pathway"
        ],
        [
         "8",
         "BMG_PW0009",
         "apoptotic cell death pathway"
        ],
        [
         "9",
         "BMG_PW0010",
         "lipid metabolic pathway"
        ],
        [
         "10",
         "BMG_PW0011",
         "amino acid metabolic pathway"
        ],
        [
         "11",
         "BMG_PW0012",
         "nucleotide metabolic pathway"
        ],
        [
         "12",
         "BMG_PW0013",
         "disease pathway"
        ],
        [
         "13",
         "BMG_PW0014",
         "neurodegenerative pathway"
        ],
        [
         "14",
         "BMG_PW0015",
         "Alzheimer's disease pathway"
        ],
        [
         "15",
         "BMG_PW0016",
         "amyotrophic lateral sclerosis pathway"
        ],
        [
         "16",
         "BMG_PW0017",
         "Huntington's disease pathway"
        ],
        [
         "17",
         "BMG_PW0018",
         "Parkinson's disease pathway"
        ],
        [
         "18",
         "BMG_PW0019",
         "prion disease pathway"
        ],
        [
         "19",
         "BMG_PW0020",
         "cardiovascular system disease pathway"
        ],
        [
         "20",
         "BMG_PW0021",
         "hypertension pathway"
        ],
        [
         "21",
         "BMG_PW0022",
         "cardiomyopathy pathway"
        ],
        [
         "22",
         "BMG_PW0023",
         "immune response pathway"
        ],
        [
         "23",
         "BMG_PW0024",
         "inflammatory response pathway"
        ],
        [
         "24",
         "BMG_PW0025",
         "glycolysis/gluconeogenesis pathway"
        ],
        [
         "25",
         "BMG_PW0026",
         "citric acid cycle pathway"
        ],
        [
         "26",
         "BMG_PW0027",
         "glutamic acid/glutamate metabolic pathway"
        ],
        [
         "27",
         "BMG_PW0028",
         "alanine, aspartate and glutamate metabolic pathway"
        ],
        [
         "28",
         "BMG_PW0029",
         "fatty acid biosynthetic pathway"
        ],
        [
         "29",
         "BMG_PW0030",
         "purine metabolic pathway"
        ],
        [
         "30",
         "BMG_PW0031",
         "pyrimidine metabolic pathway"
        ],
        [
         "31",
         "BMG_PW0032",
         "energy metabolic pathway"
        ],
        [
         "32",
         "BMG_PW0033",
         "electron transport chain pathway"
        ],
        [
         "33",
         "BMG_PW0034",
         "ATP biosynthetic pathway"
        ],
        [
         "34",
         "BMG_PW0035",
         "nitrogen metabolic pathway"
        ],
        [
         "35",
         "BMG_PW0036",
         "sulfur metabolic pathway"
        ],
        [
         "36",
         "BMG_PW0037",
         "Sterol, vitamin K, vitamine E and cartenoids  biosynthesis"
        ],
        [
         "37",
         "BMG_PW0038",
         "bile acid biosynthetic pathway"
        ],
        [
         "38",
         "BMG_PW0039",
         "steroid hormone biosynthetic pathway"
        ],
        [
         "39",
         "BMG_PW0040",
         "fructose and mannose metabolic pathway"
        ],
        [
         "40",
         "BMG_PW0041",
         "galactose metabolic pathway"
        ],
        [
         "41",
         "BMG_PW0042",
         "pyruvate metabolic pathway"
        ],
        [
         "42",
         "BMG_PW0043",
         "Duplicated Glutamate Metabolism term"
        ],
        [
         "43",
         "BMG_PW0044",
         "pentose phosphate pathway"
        ],
        [
         "44",
         "BMG_PW0045",
         "inositol metabolic pathway"
        ],
        [
         "45",
         "BMG_PW0046",
         "glycine, serine and threonine metabolic pathway"
        ],
        [
         "46",
         "BMG_PW0047",
         "methionine cycle/metabolic pathway"
        ],
        [
         "47",
         "BMG_PW0048",
         "cysteine metabolic pathway"
        ],
        [
         "48",
         "BMG_PW0049",
         "arginine and proline metabolic pathway"
        ],
        [
         "49",
         "BMG_PW0050",
         "histidine metabolic pathway"
        ]
       ],
       "shape": {
        "columns": 2,
        "rows": 6793
       }
      },
      "text/html": [
       "<div>\n",
       "<style scoped>\n",
       "    .dataframe tbody tr th:only-of-type {\n",
       "        vertical-align: middle;\n",
       "    }\n",
       "\n",
       "    .dataframe tbody tr th {\n",
       "        vertical-align: top;\n",
       "    }\n",
       "\n",
       "    .dataframe thead th {\n",
       "        text-align: right;\n",
       "    }\n",
       "</style>\n",
       "<table border=\"1\" class=\"dataframe\">\n",
       "  <thead>\n",
       "    <tr style=\"text-align: right;\">\n",
       "      <th></th>\n",
       "      <th>BioMedGraphica_ID</th>\n",
       "      <th>BMG_Pathway_Name</th>\n",
       "    </tr>\n",
       "  </thead>\n",
       "  <tbody>\n",
       "    <tr>\n",
       "      <th>0</th>\n",
       "      <td>BMG_PW0001</td>\n",
       "      <td>pathway</td>\n",
       "    </tr>\n",
       "    <tr>\n",
       "      <th>1</th>\n",
       "      <td>BMG_PW0002</td>\n",
       "      <td>classic metabolic pathway</td>\n",
       "    </tr>\n",
       "    <tr>\n",
       "      <th>2</th>\n",
       "      <td>BMG_PW0003</td>\n",
       "      <td>signaling pathway</td>\n",
       "    </tr>\n",
       "    <tr>\n",
       "      <th>3</th>\n",
       "      <td>BMG_PW0004</td>\n",
       "      <td>regulatory pathway</td>\n",
       "    </tr>\n",
       "    <tr>\n",
       "      <th>4</th>\n",
       "      <td>BMG_PW0005</td>\n",
       "      <td>carbohydrate metabolic pathway</td>\n",
       "    </tr>\n",
       "    <tr>\n",
       "      <th>...</th>\n",
       "      <td>...</td>\n",
       "      <td>...</td>\n",
       "    </tr>\n",
       "    <tr>\n",
       "      <th>6788</th>\n",
       "      <td>BMG_PW6789</td>\n",
       "      <td>Graft-versus-host disease</td>\n",
       "    </tr>\n",
       "    <tr>\n",
       "      <th>6789</th>\n",
       "      <td>BMG_PW6790</td>\n",
       "      <td>Primary immunodeficiency</td>\n",
       "    </tr>\n",
       "    <tr>\n",
       "      <th>6790</th>\n",
       "      <td>BMG_PW6791</td>\n",
       "      <td>Diabetic cardiomyopathy</td>\n",
       "    </tr>\n",
       "    <tr>\n",
       "      <th>6791</th>\n",
       "      <td>BMG_PW6792</td>\n",
       "      <td>Lipid and atherosclerosis</td>\n",
       "    </tr>\n",
       "    <tr>\n",
       "      <th>6792</th>\n",
       "      <td>BMG_PW6793</td>\n",
       "      <td>Fluid shear stress and atherosclerosis</td>\n",
       "    </tr>\n",
       "  </tbody>\n",
       "</table>\n",
       "<p>6793 rows × 2 columns</p>\n",
       "</div>"
      ],
      "text/plain": [
       "     BioMedGraphica_ID                        BMG_Pathway_Name\n",
       "0           BMG_PW0001                                 pathway\n",
       "1           BMG_PW0002               classic metabolic pathway\n",
       "2           BMG_PW0003                       signaling pathway\n",
       "3           BMG_PW0004                      regulatory pathway\n",
       "4           BMG_PW0005          carbohydrate metabolic pathway\n",
       "...                ...                                     ...\n",
       "6788        BMG_PW6789               Graft-versus-host disease\n",
       "6789        BMG_PW6790                Primary immunodeficiency\n",
       "6790        BMG_PW6791                 Diabetic cardiomyopathy\n",
       "6791        BMG_PW6792               Lipid and atherosclerosis\n",
       "6792        BMG_PW6793  Fluid shear stress and atherosclerosis\n",
       "\n",
       "[6793 rows x 2 columns]"
      ]
     },
     "execution_count": 19,
     "metadata": {},
     "output_type": "execute_result"
    }
   ],
   "source": [
    "display_name = biomedgraphica_pathway.copy()\n",
    "\n",
    "display_name['BMG_Pathway_Name'] = display_name['PO_Name'].fillna(display_name['Reactome_Name']).fillna(display_name['WikiPathways_Name']).fillna(display_name['KEGG_Name'])\n",
    "display_name = display_name[['BioMedGraphica_ID', 'BMG_Pathway_Name']]\n",
    "display_name"
   ]
  },
  {
   "cell_type": "code",
   "execution_count": 20,
   "metadata": {},
   "outputs": [
    {
     "name": "stdout",
     "output_type": "stream",
     "text": [
      "Data has been saved to D:\\RA\\BMG\\BioMedGraphica\\Entity\\Pathway\\BioMedGraphica_Pathway_Display_Name.csv\n"
     ]
    }
   ],
   "source": [
    "import os\n",
    "from pathlib import Path\n",
    "\n",
    "# get the current working directory\n",
    "current_working_dir = Path(os.getcwd()).resolve()\n",
    "\n",
    "# get the output directory\n",
    "grandparent_dir = current_working_dir.parent.parent.parent\n",
    "\n",
    "target_folder = grandparent_dir / 'BioMedGraphica' / 'Entity' / 'Pathway'\n",
    "if not target_folder.exists():\n",
    "    target_folder.mkdir(parents=True)\n",
    "    print(f\"Folder {target_folder} has been created.\")\n",
    "\n",
    "output_file_path = target_folder / 'BioMedGraphica_Pathway_Display_Name.csv'\n",
    "display_name.to_csv(output_file_path, index=False)\n",
    "print(f\"Data has been saved to {output_file_path}\")"
   ]
  }
 ],
 "metadata": {
  "kernelspec": {
   "display_name": "base",
   "language": "python",
   "name": "python3"
  },
  "language_info": {
   "codemirror_mode": {
    "name": "ipython",
    "version": 3
   },
   "file_extension": ".py",
   "mimetype": "text/x-python",
   "name": "python",
   "nbconvert_exporter": "python",
   "pygments_lexer": "ipython3",
   "version": "3.9.19"
  }
 },
 "nbformat": 4,
 "nbformat_minor": 2
}
