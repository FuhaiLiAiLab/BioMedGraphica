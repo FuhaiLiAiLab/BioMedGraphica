{
 "cells": [
  {
   "cell_type": "markdown",
   "metadata": {},
   "source": [
    "### Entity"
   ]
  },
  {
   "cell_type": "code",
   "execution_count": 2,
   "metadata": {},
   "outputs": [],
   "source": [
    "import pandas as pd\n",
    "import os\n",
    "from pathlib import Path\n",
    "\n",
    "current_working_dir = Path(os.getcwd()).resolve()\n",
    "grandparent_dir = current_working_dir.parent.parent\n",
    "promoter = grandparent_dir / 'BioMedGraphica' / 'Entity' / 'Promoter' / 'BioMedGraphica_Promoter.csv'\n",
    "gene = grandparent_dir / 'BioMedGraphica' / 'Entity' / 'Gene' / 'BioMedGraphica_Gene.csv'\n",
    "transcript = grandparent_dir / 'BioMedGraphica' / 'Entity' / 'Transcript' / 'BioMedGraphica_Transcript.csv'\n",
    "protein = grandparent_dir / 'BioMedGraphica' / 'Entity' / 'Protein' / 'BioMedGraphica_Protein.csv'\n",
    "pathway = grandparent_dir / 'BioMedGraphica' / 'Entity' / 'Pathway' / 'BioMedGraphica_Pathway.csv'\n",
    "metabolite = grandparent_dir / 'BioMedGraphica' / 'Entity' / 'Metabolite' / 'BioMedGraphica_Metabolite.csv'\n",
    "microbiota = grandparent_dir / 'BioMedGraphica' / 'Entity' / 'Microbiota' / 'BioMedGraphica_Microbiota.csv'\n",
    "exposure = grandparent_dir / 'BioMedGraphica' / 'Entity' / 'Exposure' / 'BioMedGraphica_Exposure.csv'\n",
    "phenotype = grandparent_dir / 'BioMedGraphica' / 'Entity' / 'Phenotype' / 'BioMedGraphica_Phenotype.csv'\n",
    "disease = grandparent_dir / 'BioMedGraphica' / 'Entity' / 'Disease' / 'BioMedGraphica_Disease.csv'\n",
    "drug = grandparent_dir / 'BioMedGraphica' / 'Entity' / 'Drug' / 'BioMedGraphica_Drug.csv'\n",
    "\n",
    "biomedgraphica_promoter = pd.read_csv(promoter, dtype=str)\n",
    "biomedgraphica_gene = pd.read_csv(gene, dtype=str)\n",
    "biomedgraphica_transcript = pd.read_csv(transcript, dtype=str)\n",
    "biomedgraphica_protein = pd.read_csv(protein, dtype=str)\n",
    "biomedgraphica_pathway = pd.read_csv(pathway, dtype=str)\n",
    "biomedgraphica_metabolite = pd.read_csv(metabolite, dtype=str)\n",
    "biomedgraphica_microbiota = pd.read_csv(microbiota, dtype=str)\n",
    "biomedgraphica_exposure = pd.read_csv(exposure, dtype=str)\n",
    "biomedgraphica_phenotype = pd.read_csv(phenotype, dtype=str)\n",
    "biomedgraphica_disease = pd.read_csv(disease, dtype=str)\n",
    "biomedgraphica_drug = pd.read_csv(drug, dtype=str)"
   ]
  },
  {
   "cell_type": "code",
   "execution_count": 3,
   "metadata": {},
   "outputs": [
    {
     "name": "stderr",
     "output_type": "stream",
     "text": [
      "C:\\Users\\shunn\\AppData\\Local\\Temp\\ipykernel_34340\\3167727048.py:2: SettingWithCopyWarning: \n",
      "A value is trying to be set on a copy of a slice from a DataFrame.\n",
      "Try using .loc[row_indexer,col_indexer] = value instead\n",
      "\n",
      "See the caveats in the documentation: https://pandas.pydata.org/pandas-docs/stable/user_guide/indexing.html#returning-a-view-versus-a-copy\n",
      "  bmg_promoter['Type'] = 'Promoter'\n",
      "C:\\Users\\shunn\\AppData\\Local\\Temp\\ipykernel_34340\\3167727048.py:5: SettingWithCopyWarning: \n",
      "A value is trying to be set on a copy of a slice from a DataFrame.\n",
      "Try using .loc[row_indexer,col_indexer] = value instead\n",
      "\n",
      "See the caveats in the documentation: https://pandas.pydata.org/pandas-docs/stable/user_guide/indexing.html#returning-a-view-versus-a-copy\n",
      "  bmg_gene['Type'] = 'Gene'\n",
      "C:\\Users\\shunn\\AppData\\Local\\Temp\\ipykernel_34340\\3167727048.py:8: SettingWithCopyWarning: \n",
      "A value is trying to be set on a copy of a slice from a DataFrame.\n",
      "Try using .loc[row_indexer,col_indexer] = value instead\n",
      "\n",
      "See the caveats in the documentation: https://pandas.pydata.org/pandas-docs/stable/user_guide/indexing.html#returning-a-view-versus-a-copy\n",
      "  bmg_transcript['Type'] = 'Transcript'\n",
      "C:\\Users\\shunn\\AppData\\Local\\Temp\\ipykernel_34340\\3167727048.py:11: SettingWithCopyWarning: \n",
      "A value is trying to be set on a copy of a slice from a DataFrame.\n",
      "Try using .loc[row_indexer,col_indexer] = value instead\n",
      "\n",
      "See the caveats in the documentation: https://pandas.pydata.org/pandas-docs/stable/user_guide/indexing.html#returning-a-view-versus-a-copy\n",
      "  bmg_protein['Type'] = 'Protein'\n",
      "C:\\Users\\shunn\\AppData\\Local\\Temp\\ipykernel_34340\\3167727048.py:14: SettingWithCopyWarning: \n",
      "A value is trying to be set on a copy of a slice from a DataFrame.\n",
      "Try using .loc[row_indexer,col_indexer] = value instead\n",
      "\n",
      "See the caveats in the documentation: https://pandas.pydata.org/pandas-docs/stable/user_guide/indexing.html#returning-a-view-versus-a-copy\n",
      "  bmg_pathway['Type'] = 'Pathway'\n",
      "C:\\Users\\shunn\\AppData\\Local\\Temp\\ipykernel_34340\\3167727048.py:17: SettingWithCopyWarning: \n",
      "A value is trying to be set on a copy of a slice from a DataFrame.\n",
      "Try using .loc[row_indexer,col_indexer] = value instead\n",
      "\n",
      "See the caveats in the documentation: https://pandas.pydata.org/pandas-docs/stable/user_guide/indexing.html#returning-a-view-versus-a-copy\n",
      "  bmg_metabolite['Type'] = 'Metabolite'\n",
      "C:\\Users\\shunn\\AppData\\Local\\Temp\\ipykernel_34340\\3167727048.py:20: SettingWithCopyWarning: \n",
      "A value is trying to be set on a copy of a slice from a DataFrame.\n",
      "Try using .loc[row_indexer,col_indexer] = value instead\n",
      "\n",
      "See the caveats in the documentation: https://pandas.pydata.org/pandas-docs/stable/user_guide/indexing.html#returning-a-view-versus-a-copy\n",
      "  bmg_microbiota['Type'] = 'Microbiota'\n",
      "C:\\Users\\shunn\\AppData\\Local\\Temp\\ipykernel_34340\\3167727048.py:23: SettingWithCopyWarning: \n",
      "A value is trying to be set on a copy of a slice from a DataFrame.\n",
      "Try using .loc[row_indexer,col_indexer] = value instead\n",
      "\n",
      "See the caveats in the documentation: https://pandas.pydata.org/pandas-docs/stable/user_guide/indexing.html#returning-a-view-versus-a-copy\n",
      "  bmg_exposure['Type'] = 'Exposure'\n",
      "C:\\Users\\shunn\\AppData\\Local\\Temp\\ipykernel_34340\\3167727048.py:26: SettingWithCopyWarning: \n",
      "A value is trying to be set on a copy of a slice from a DataFrame.\n",
      "Try using .loc[row_indexer,col_indexer] = value instead\n",
      "\n",
      "See the caveats in the documentation: https://pandas.pydata.org/pandas-docs/stable/user_guide/indexing.html#returning-a-view-versus-a-copy\n",
      "  bmg_phenotype['Type'] = 'Phenotype'\n",
      "C:\\Users\\shunn\\AppData\\Local\\Temp\\ipykernel_34340\\3167727048.py:29: SettingWithCopyWarning: \n",
      "A value is trying to be set on a copy of a slice from a DataFrame.\n",
      "Try using .loc[row_indexer,col_indexer] = value instead\n",
      "\n",
      "See the caveats in the documentation: https://pandas.pydata.org/pandas-docs/stable/user_guide/indexing.html#returning-a-view-versus-a-copy\n",
      "  bmg_disease['Type'] = 'Disease'\n",
      "C:\\Users\\shunn\\AppData\\Local\\Temp\\ipykernel_34340\\3167727048.py:32: SettingWithCopyWarning: \n",
      "A value is trying to be set on a copy of a slice from a DataFrame.\n",
      "Try using .loc[row_indexer,col_indexer] = value instead\n",
      "\n",
      "See the caveats in the documentation: https://pandas.pydata.org/pandas-docs/stable/user_guide/indexing.html#returning-a-view-versus-a-copy\n",
      "  bmg_drug['Type'] = 'Drug'\n"
     ]
    }
   ],
   "source": [
    "bmg_promoter = biomedgraphica_promoter[['BioMedGraphica_ID']]\n",
    "bmg_promoter['Type'] = 'Promoter'\n",
    "\n",
    "bmg_gene = biomedgraphica_gene[['BioMedGraphica_ID']]\n",
    "bmg_gene['Type'] = 'Gene'\n",
    "\n",
    "bmg_transcript = biomedgraphica_transcript[['BioMedGraphica_ID']]\n",
    "bmg_transcript['Type'] = 'Transcript'\n",
    "\n",
    "bmg_protein = biomedgraphica_protein[['BioMedGraphica_ID']]\n",
    "bmg_protein['Type'] = 'Protein'\n",
    "\n",
    "bmg_pathway = biomedgraphica_pathway[['BioMedGraphica_ID']]\n",
    "bmg_pathway['Type'] = 'Pathway'\n",
    "\n",
    "bmg_metabolite = biomedgraphica_metabolite[['BioMedGraphica_ID']]\n",
    "bmg_metabolite['Type'] = 'Metabolite'\n",
    "\n",
    "bmg_microbiota = biomedgraphica_microbiota[['BioMedGraphica_ID']]\n",
    "bmg_microbiota['Type'] = 'Microbiota'\n",
    "\n",
    "bmg_exposure = biomedgraphica_exposure[['BioMedGraphica_ID']]\n",
    "bmg_exposure['Type'] = 'Exposure'\n",
    "\n",
    "bmg_phenotype = biomedgraphica_phenotype[['BioMedGraphica_ID']]\n",
    "bmg_phenotype['Type'] = 'Phenotype'\n",
    "\n",
    "bmg_disease = biomedgraphica_disease[['BioMedGraphica_ID']] \n",
    "bmg_disease['Type'] = 'Disease'\n",
    "\n",
    "bmg_drug = biomedgraphica_drug[['BioMedGraphica_ID']]\n",
    "bmg_drug['Type'] = 'Drug'"
   ]
  },
  {
   "cell_type": "code",
   "execution_count": 4,
   "metadata": {},
   "outputs": [],
   "source": [
    "entity = pd.concat([bmg_promoter, bmg_gene, bmg_transcript, bmg_protein, bmg_pathway, \n",
    "                    bmg_metabolite, bmg_microbiota, bmg_exposure, bmg_phenotype, bmg_disease, bmg_drug], ignore_index=True)"
   ]
  },
  {
   "cell_type": "code",
   "execution_count": 5,
   "metadata": {},
   "outputs": [
    {
     "data": {
      "text/plain": [
       "Type\n",
       "Microbiota    621882\n",
       "Transcript    412326\n",
       "Drug          273386\n",
       "Promoter      230358\n",
       "Gene          230358\n",
       "Metabolite    218335\n",
       "Protein       173978\n",
       "Disease       118814\n",
       "Phenotype      19532\n",
       "Pathway         6793\n",
       "Exposure        1159\n",
       "Name: count, dtype: int64"
      ]
     },
     "execution_count": 5,
     "metadata": {},
     "output_type": "execute_result"
    }
   ],
   "source": [
    "entity['Type'].value_counts()"
   ]
  },
  {
   "cell_type": "code",
   "execution_count": 7,
   "metadata": {},
   "outputs": [
    {
     "data": {
      "application/vnd.microsoft.datawrangler.viewer.v0+json": {
       "columns": [
        {
         "name": "index",
         "rawType": "int64",
         "type": "integer"
        },
        {
         "name": "BioMedGraphica_ID",
         "rawType": "object",
         "type": "string"
        },
        {
         "name": "Type",
         "rawType": "object",
         "type": "string"
        }
       ],
       "conversionMethod": "pd.DataFrame",
       "ref": "1485aa43-be4c-4062-8a7e-0883a03555ac",
       "rows": [
        [
         "0",
         "BMG_PM000001",
         "Promoter"
        ],
        [
         "1",
         "BMG_PM000002",
         "Promoter"
        ],
        [
         "2",
         "BMG_PM000003",
         "Promoter"
        ],
        [
         "3",
         "BMG_PM000004",
         "Promoter"
        ],
        [
         "4",
         "BMG_PM000005",
         "Promoter"
        ],
        [
         "5",
         "BMG_PM000006",
         "Promoter"
        ],
        [
         "6",
         "BMG_PM000007",
         "Promoter"
        ],
        [
         "7",
         "BMG_PM000008",
         "Promoter"
        ],
        [
         "8",
         "BMG_PM000009",
         "Promoter"
        ],
        [
         "9",
         "BMG_PM000010",
         "Promoter"
        ],
        [
         "10",
         "BMG_PM000011",
         "Promoter"
        ],
        [
         "11",
         "BMG_PM000012",
         "Promoter"
        ],
        [
         "12",
         "BMG_PM000013",
         "Promoter"
        ],
        [
         "13",
         "BMG_PM000014",
         "Promoter"
        ],
        [
         "14",
         "BMG_PM000015",
         "Promoter"
        ],
        [
         "15",
         "BMG_PM000016",
         "Promoter"
        ],
        [
         "16",
         "BMG_PM000017",
         "Promoter"
        ],
        [
         "17",
         "BMG_PM000018",
         "Promoter"
        ],
        [
         "18",
         "BMG_PM000019",
         "Promoter"
        ],
        [
         "19",
         "BMG_PM000020",
         "Promoter"
        ],
        [
         "20",
         "BMG_PM000021",
         "Promoter"
        ],
        [
         "21",
         "BMG_PM000022",
         "Promoter"
        ],
        [
         "22",
         "BMG_PM000023",
         "Promoter"
        ],
        [
         "23",
         "BMG_PM000024",
         "Promoter"
        ],
        [
         "24",
         "BMG_PM000025",
         "Promoter"
        ],
        [
         "25",
         "BMG_PM000026",
         "Promoter"
        ],
        [
         "26",
         "BMG_PM000027",
         "Promoter"
        ],
        [
         "27",
         "BMG_PM000028",
         "Promoter"
        ],
        [
         "28",
         "BMG_PM000029",
         "Promoter"
        ],
        [
         "29",
         "BMG_PM000030",
         "Promoter"
        ],
        [
         "30",
         "BMG_PM000031",
         "Promoter"
        ],
        [
         "31",
         "BMG_PM000032",
         "Promoter"
        ],
        [
         "32",
         "BMG_PM000033",
         "Promoter"
        ],
        [
         "33",
         "BMG_PM000034",
         "Promoter"
        ],
        [
         "34",
         "BMG_PM000035",
         "Promoter"
        ],
        [
         "35",
         "BMG_PM000036",
         "Promoter"
        ],
        [
         "36",
         "BMG_PM000037",
         "Promoter"
        ],
        [
         "37",
         "BMG_PM000038",
         "Promoter"
        ],
        [
         "38",
         "BMG_PM000039",
         "Promoter"
        ],
        [
         "39",
         "BMG_PM000040",
         "Promoter"
        ],
        [
         "40",
         "BMG_PM000041",
         "Promoter"
        ],
        [
         "41",
         "BMG_PM000042",
         "Promoter"
        ],
        [
         "42",
         "BMG_PM000043",
         "Promoter"
        ],
        [
         "43",
         "BMG_PM000044",
         "Promoter"
        ],
        [
         "44",
         "BMG_PM000045",
         "Promoter"
        ],
        [
         "45",
         "BMG_PM000046",
         "Promoter"
        ],
        [
         "46",
         "BMG_PM000047",
         "Promoter"
        ],
        [
         "47",
         "BMG_PM000048",
         "Promoter"
        ],
        [
         "48",
         "BMG_PM000049",
         "Promoter"
        ],
        [
         "49",
         "BMG_PM000050",
         "Promoter"
        ]
       ],
       "shape": {
        "columns": 2,
        "rows": 2306921
       }
      },
      "text/html": [
       "<div>\n",
       "<style scoped>\n",
       "    .dataframe tbody tr th:only-of-type {\n",
       "        vertical-align: middle;\n",
       "    }\n",
       "\n",
       "    .dataframe tbody tr th {\n",
       "        vertical-align: top;\n",
       "    }\n",
       "\n",
       "    .dataframe thead th {\n",
       "        text-align: right;\n",
       "    }\n",
       "</style>\n",
       "<table border=\"1\" class=\"dataframe\">\n",
       "  <thead>\n",
       "    <tr style=\"text-align: right;\">\n",
       "      <th></th>\n",
       "      <th>BioMedGraphica_ID</th>\n",
       "      <th>Type</th>\n",
       "    </tr>\n",
       "  </thead>\n",
       "  <tbody>\n",
       "    <tr>\n",
       "      <th>0</th>\n",
       "      <td>BMG_PM000001</td>\n",
       "      <td>Promoter</td>\n",
       "    </tr>\n",
       "    <tr>\n",
       "      <th>1</th>\n",
       "      <td>BMG_PM000002</td>\n",
       "      <td>Promoter</td>\n",
       "    </tr>\n",
       "    <tr>\n",
       "      <th>2</th>\n",
       "      <td>BMG_PM000003</td>\n",
       "      <td>Promoter</td>\n",
       "    </tr>\n",
       "    <tr>\n",
       "      <th>3</th>\n",
       "      <td>BMG_PM000004</td>\n",
       "      <td>Promoter</td>\n",
       "    </tr>\n",
       "    <tr>\n",
       "      <th>4</th>\n",
       "      <td>BMG_PM000005</td>\n",
       "      <td>Promoter</td>\n",
       "    </tr>\n",
       "    <tr>\n",
       "      <th>...</th>\n",
       "      <td>...</td>\n",
       "      <td>...</td>\n",
       "    </tr>\n",
       "    <tr>\n",
       "      <th>2306916</th>\n",
       "      <td>BMG_DG273382</td>\n",
       "      <td>Drug</td>\n",
       "    </tr>\n",
       "    <tr>\n",
       "      <th>2306917</th>\n",
       "      <td>BMG_DG273383</td>\n",
       "      <td>Drug</td>\n",
       "    </tr>\n",
       "    <tr>\n",
       "      <th>2306918</th>\n",
       "      <td>BMG_DG273384</td>\n",
       "      <td>Drug</td>\n",
       "    </tr>\n",
       "    <tr>\n",
       "      <th>2306919</th>\n",
       "      <td>BMG_DG273385</td>\n",
       "      <td>Drug</td>\n",
       "    </tr>\n",
       "    <tr>\n",
       "      <th>2306920</th>\n",
       "      <td>BMG_DG273386</td>\n",
       "      <td>Drug</td>\n",
       "    </tr>\n",
       "  </tbody>\n",
       "</table>\n",
       "<p>2306921 rows × 2 columns</p>\n",
       "</div>"
      ],
      "text/plain": [
       "        BioMedGraphica_ID      Type\n",
       "0            BMG_PM000001  Promoter\n",
       "1            BMG_PM000002  Promoter\n",
       "2            BMG_PM000003  Promoter\n",
       "3            BMG_PM000004  Promoter\n",
       "4            BMG_PM000005  Promoter\n",
       "...                   ...       ...\n",
       "2306916      BMG_DG273382      Drug\n",
       "2306917      BMG_DG273383      Drug\n",
       "2306918      BMG_DG273384      Drug\n",
       "2306919      BMG_DG273385      Drug\n",
       "2306920      BMG_DG273386      Drug\n",
       "\n",
       "[2306921 rows x 2 columns]"
      ]
     },
     "execution_count": 7,
     "metadata": {},
     "output_type": "execute_result"
    }
   ],
   "source": [
    "entity"
   ]
  },
  {
   "cell_type": "code",
   "execution_count": 8,
   "metadata": {},
   "outputs": [
    {
     "name": "stdout",
     "output_type": "stream",
     "text": [
      "Data has been saved to D:\\RA\\BMG\\BioMedGraphica\\Entity\\BioMedGraphica_Entity.csv\n"
     ]
    }
   ],
   "source": [
    "import os\n",
    "from pathlib import Path\n",
    "\n",
    "# get the current working directory\n",
    "current_working_dir = Path(os.getcwd()).resolve()\n",
    "\n",
    "# get the output directory\n",
    "grandparent_dir = current_working_dir.parent.parent\n",
    "target_folder = grandparent_dir / 'BioMedGraphica' / 'Entity' \n",
    "if not target_folder.exists():\n",
    "    target_folder.mkdir(parents=True)\n",
    "    print(f\"Folder {target_folder} has been created.\")\n",
    "\n",
    "output_file_path = target_folder / 'BioMedGraphica_Entity.csv'\n",
    "entity.to_csv(output_file_path, index=False)\n",
    "print(f\"Data has been saved to {output_file_path}\")"
   ]
  }
 ],
 "metadata": {
  "kernelspec": {
   "display_name": "base",
   "language": "python",
   "name": "python3"
  },
  "language_info": {
   "codemirror_mode": {
    "name": "ipython",
    "version": 3
   },
   "file_extension": ".py",
   "mimetype": "text/x-python",
   "name": "python",
   "nbconvert_exporter": "python",
   "pygments_lexer": "ipython3",
   "version": "3.9.19"
  }
 },
 "nbformat": 4,
 "nbformat_minor": 2
}
