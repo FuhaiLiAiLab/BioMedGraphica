{
 "cells": [
  {
   "cell_type": "markdown",
   "metadata": {},
   "source": [
    "### HMDB"
   ]
  },
  {
   "cell_type": "code",
   "execution_count": null,
   "metadata": {},
   "outputs": [],
   "source": [
    "# Download Link: https://www.hmdb.ca/downloads#\n",
    "# Download Date: 2025-03-21\n",
    "# Download Version: 2021-11-17\n",
    "\n",
    "import xml.etree.ElementTree as ET\n",
    "import pandas as pd\n",
    "\n",
    "context = ET.iterparse('hmdb_metabolites.xml', events=('start', 'end'))\n",
    "context = iter(context)\n",
    "\n",
    "event, root = next(context)\n",
    "\n",
    "namespace = {'hmdb': 'http://www.hmdb.ca'}\n",
    "\n",
    "metabolites = []\n",
    "\n",
    "for event, elem in context:\n",
    "    if event == 'end' and elem.tag == '{http://www.hmdb.ca}metabolite':\n",
    "        accession = elem.find('hmdb:accession', namespace).text\n",
    "        \n",
    "        for protein in elem.findall('hmdb:protein_associations/hmdb:protein', namespace):\n",
    "            uniprot_id = protein.find('hmdb:uniprot_id', namespace).text if protein.find('hmdb:uniprot_id', namespace) is not None else None\n",
    "            \n",
    "            metabolites.append({\n",
    "                'accession': accession,\n",
    "                'uniprot_id': uniprot_id\n",
    "            })\n",
    "\n",
    "        elem.clear()\n",
    "\n",
    "hmdb_protein = pd.DataFrame(metabolites)\n",
    "\n",
    "hmdb_protein.to_csv('hmdb_protein_uniprot.csv', index=False)\n",
    "\n",
    "print(\"Data has been saved to hmdb_protein_uniprot.csv\")"
   ]
  },
  {
   "cell_type": "code",
   "execution_count": 1,
   "metadata": {},
   "outputs": [
    {
     "data": {
      "application/vnd.microsoft.datawrangler.viewer.v0+json": {
       "columns": [
        {
         "name": "index",
         "rawType": "int64",
         "type": "integer"
        },
        {
         "name": "accession",
         "rawType": "object",
         "type": "string"
        },
        {
         "name": "uniprot_id",
         "rawType": "object",
         "type": "string"
        }
       ],
       "conversionMethod": "pd.DataFrame",
       "ref": "bb3c6350-72c3-4433-a209-2571ae673eea",
       "rows": [
        [
         "0",
         "HMDB0000001",
         "Q96KN2"
        ],
        [
         "1",
         "HMDB0000001",
         "O60678"
        ],
        [
         "2",
         "HMDB0000002",
         "P52788"
        ],
        [
         "3",
         "HMDB0000002",
         "P49366"
        ],
        [
         "4",
         "HMDB0000002",
         "P19801"
        ],
        [
         "5",
         "HMDB0000002",
         "Q16853"
        ],
        [
         "6",
         "HMDB0000002",
         "O75106"
        ],
        [
         "7",
         "HMDB0000002",
         "P17707"
        ],
        [
         "8",
         "HMDB0000002",
         "P11926"
        ],
        [
         "9",
         "HMDB0000005",
         "P11177"
        ],
        [
         "10",
         "HMDB0000005",
         "P08559"
        ],
        [
         "11",
         "HMDB0000005",
         "P29803"
        ],
        [
         "12",
         "HMDB0000005",
         "P21953"
        ],
        [
         "13",
         "HMDB0000005",
         "P12694"
        ],
        [
         "14",
         "HMDB0000005",
         "Q02218"
        ],
        [
         "15",
         "HMDB0000005",
         "P32929"
        ],
        [
         "16",
         "HMDB0000005",
         "P20132"
        ],
        [
         "17",
         "HMDB0000005",
         "Q6ZMR3"
        ],
        [
         "18",
         "HMDB0000005",
         "Q96N76"
        ],
        [
         "19",
         "HMDB0000005",
         "O14874"
        ],
        [
         "20",
         "HMDB0000005",
         "P07195"
        ],
        [
         "21",
         "HMDB0000005",
         "P07864"
        ],
        [
         "22",
         "HMDB0000005",
         "P00338"
        ],
        [
         "23",
         "HMDB0000005",
         "Q9BYZ2"
        ],
        [
         "24",
         "HMDB0000005",
         "Q9NVH6"
        ],
        [
         "25",
         "HMDB0000005",
         "Q6NS38"
        ],
        [
         "26",
         "HMDB0000005",
         "Q96Q83"
        ],
        [
         "27",
         "HMDB0000005",
         "Q96GA7"
        ],
        [
         "28",
         "HMDB0000005",
         "Q9ULD0"
        ],
        [
         "29",
         "HMDB0000005",
         "Q96P68"
        ],
        [
         "30",
         "HMDB0000008",
         "P09622"
        ],
        [
         "31",
         "HMDB0000008",
         "O00204"
        ],
        [
         "32",
         "HMDB0000008",
         "P22309"
        ],
        [
         "33",
         "HMDB0000008",
         "Q6ZMR3"
        ],
        [
         "34",
         "HMDB0000008",
         "P07195"
        ],
        [
         "35",
         "HMDB0000008",
         "P07864"
        ],
        [
         "36",
         "HMDB0000008",
         "P00338"
        ],
        [
         "37",
         "HMDB0000008",
         "Q9BYZ2"
        ],
        [
         "38",
         "HMDB0000010",
         "P21964"
        ],
        [
         "39",
         "HMDB0000010",
         "Q9BY64"
        ],
        [
         "40",
         "HMDB0000010",
         "P06133"
        ],
        [
         "41",
         "HMDB0000010",
         "P22310"
        ],
        [
         "42",
         "HMDB0000010",
         "P36537"
        ],
        [
         "43",
         "HMDB0000010",
         "P16662"
        ],
        [
         "44",
         "HMDB0000010",
         "P54855"
        ],
        [
         "45",
         "HMDB0000010",
         "Q9Y4X1"
        ],
        [
         "46",
         "HMDB0000010",
         "P22309"
        ],
        [
         "47",
         "HMDB0000010",
         "O60656"
        ],
        [
         "48",
         "HMDB0000010",
         "Q9HAW9"
        ],
        [
         "49",
         "HMDB0000010",
         "P35503"
        ]
       ],
       "shape": {
        "columns": 2,
        "rows": 863759
       }
      },
      "text/html": [
       "<div>\n",
       "<style scoped>\n",
       "    .dataframe tbody tr th:only-of-type {\n",
       "        vertical-align: middle;\n",
       "    }\n",
       "\n",
       "    .dataframe tbody tr th {\n",
       "        vertical-align: top;\n",
       "    }\n",
       "\n",
       "    .dataframe thead th {\n",
       "        text-align: right;\n",
       "    }\n",
       "</style>\n",
       "<table border=\"1\" class=\"dataframe\">\n",
       "  <thead>\n",
       "    <tr style=\"text-align: right;\">\n",
       "      <th></th>\n",
       "      <th>accession</th>\n",
       "      <th>uniprot_id</th>\n",
       "    </tr>\n",
       "  </thead>\n",
       "  <tbody>\n",
       "    <tr>\n",
       "      <th>0</th>\n",
       "      <td>HMDB0000001</td>\n",
       "      <td>Q96KN2</td>\n",
       "    </tr>\n",
       "    <tr>\n",
       "      <th>1</th>\n",
       "      <td>HMDB0000001</td>\n",
       "      <td>O60678</td>\n",
       "    </tr>\n",
       "    <tr>\n",
       "      <th>2</th>\n",
       "      <td>HMDB0000002</td>\n",
       "      <td>P52788</td>\n",
       "    </tr>\n",
       "    <tr>\n",
       "      <th>3</th>\n",
       "      <td>HMDB0000002</td>\n",
       "      <td>P49366</td>\n",
       "    </tr>\n",
       "    <tr>\n",
       "      <th>4</th>\n",
       "      <td>HMDB0000002</td>\n",
       "      <td>P19801</td>\n",
       "    </tr>\n",
       "    <tr>\n",
       "      <th>...</th>\n",
       "      <td>...</td>\n",
       "      <td>...</td>\n",
       "    </tr>\n",
       "    <tr>\n",
       "      <th>863754</th>\n",
       "      <td>HMDB0259856</td>\n",
       "      <td>Q9Y5Z9</td>\n",
       "    </tr>\n",
       "    <tr>\n",
       "      <th>863755</th>\n",
       "      <td>HMDB0259856</td>\n",
       "      <td>E7FB98</td>\n",
       "    </tr>\n",
       "    <tr>\n",
       "      <th>863756</th>\n",
       "      <td>HMDB0259928</td>\n",
       "      <td>P53621</td>\n",
       "    </tr>\n",
       "    <tr>\n",
       "      <th>863757</th>\n",
       "      <td>HMDB0259928</td>\n",
       "      <td>P40765</td>\n",
       "    </tr>\n",
       "    <tr>\n",
       "      <th>863758</th>\n",
       "      <td>HMDB0260004</td>\n",
       "      <td>H2BKS9</td>\n",
       "    </tr>\n",
       "  </tbody>\n",
       "</table>\n",
       "<p>863759 rows × 2 columns</p>\n",
       "</div>"
      ],
      "text/plain": [
       "          accession uniprot_id\n",
       "0       HMDB0000001     Q96KN2\n",
       "1       HMDB0000001     O60678\n",
       "2       HMDB0000002     P52788\n",
       "3       HMDB0000002     P49366\n",
       "4       HMDB0000002     P19801\n",
       "...             ...        ...\n",
       "863754  HMDB0259856     Q9Y5Z9\n",
       "863755  HMDB0259856     E7FB98\n",
       "863756  HMDB0259928     P53621\n",
       "863757  HMDB0259928     P40765\n",
       "863758  HMDB0260004     H2BKS9\n",
       "\n",
       "[863759 rows x 2 columns]"
      ]
     },
     "execution_count": 1,
     "metadata": {},
     "output_type": "execute_result"
    }
   ],
   "source": [
    "import pandas as pd\n",
    "\n",
    "hmdb_protein = pd.read_csv('hmdb_protein_uniprot.csv')\n",
    "hmdb_protein"
   ]
  },
  {
   "cell_type": "markdown",
   "metadata": {},
   "source": [
    "### STITCH"
   ]
  },
  {
   "cell_type": "code",
   "execution_count": 2,
   "metadata": {},
   "outputs": [
    {
     "data": {
      "application/vnd.microsoft.datawrangler.viewer.v0+json": {
       "columns": [
        {
         "name": "index",
         "rawType": "int64",
         "type": "integer"
        },
        {
         "name": "chemical",
         "rawType": "object",
         "type": "string"
        },
        {
         "name": "protein",
         "rawType": "object",
         "type": "string"
        },
        {
         "name": "combined_score",
         "rawType": "int64",
         "type": "integer"
        }
       ],
       "conversionMethod": "pd.DataFrame",
       "ref": "68532fbc-a602-427a-9d18-6801976e1c2e",
       "rows": [
        [
         "0",
         "CIDm91758680",
         "9606.ENSP00000257254",
         "279"
        ],
        [
         "1",
         "CIDm91758680",
         "9606.ENSP00000302120",
         "154"
        ],
        [
         "2",
         "CIDm91758408",
         "9606.ENSP00000006777",
         "225"
        ],
        [
         "3",
         "CIDm91758408",
         "9606.ENSP00000056217",
         "178"
        ],
        [
         "4",
         "CIDm91758408",
         "9606.ENSP00000216085",
         "225"
        ],
        [
         "5",
         "CIDm91758408",
         "9606.ENSP00000221740",
         "151"
        ],
        [
         "6",
         "CIDm91758408",
         "9606.ENSP00000235329",
         "162"
        ],
        [
         "7",
         "CIDm91758408",
         "9606.ENSP00000259791",
         "194"
        ],
        [
         "8",
         "CIDm91758408",
         "9606.ENSP00000262366",
         "169"
        ],
        [
         "9",
         "CIDm91758408",
         "9606.ENSP00000262794",
         "163"
        ],
        [
         "10",
         "CIDm91758408",
         "9606.ENSP00000263969",
         "162"
        ],
        [
         "11",
         "CIDm91758408",
         "9606.ENSP00000265164",
         "151"
        ],
        [
         "12",
         "CIDm91758408",
         "9606.ENSP00000265689",
         "342"
        ],
        [
         "13",
         "CIDm91758408",
         "9606.ENSP00000266517",
         "342"
        ],
        [
         "14",
         "CIDm91758408",
         "9606.ENSP00000270747",
         "155"
        ],
        [
         "15",
         "CIDm91758408",
         "9606.ENSP00000284320",
         "166"
        ],
        [
         "16",
         "CIDm91758408",
         "9606.ENSP00000286186",
         "151"
        ],
        [
         "17",
         "CIDm91758408",
         "9606.ENSP00000296805",
         "168"
        ],
        [
         "18",
         "CIDm91758408",
         "9606.ENSP00000297012",
         "194"
        ],
        [
         "19",
         "CIDm91758408",
         "9606.ENSP00000311032",
         "151"
        ],
        [
         "20",
         "CIDm91758408",
         "9606.ENSP00000312455",
         "151"
        ],
        [
         "21",
         "CIDm91758408",
         "9606.ENSP00000312664",
         "151"
        ],
        [
         "22",
         "CIDm91758408",
         "9606.ENSP00000321389",
         "194"
        ],
        [
         "23",
         "CIDm91758408",
         "9606.ENSP00000325421",
         "196"
        ],
        [
         "24",
         "CIDm91758408",
         "9606.ENSP00000328484",
         "194"
        ],
        [
         "25",
         "CIDm91758408",
         "9606.ENSP00000330237",
         "151"
        ],
        [
         "26",
         "CIDm91758408",
         "9606.ENSP00000330307",
         "194"
        ],
        [
         "27",
         "CIDm91758408",
         "9606.ENSP00000332790",
         "194"
        ],
        [
         "28",
         "CIDm91758408",
         "9606.ENSP00000341094",
         "194"
        ],
        [
         "29",
         "CIDm91758408",
         "9606.ENSP00000344779",
         "225"
        ],
        [
         "30",
         "CIDm91758408",
         "9606.ENSP00000351273",
         "151"
        ],
        [
         "31",
         "CIDm91758408",
         "9606.ENSP00000352572",
         "195"
        ],
        [
         "32",
         "CIDm91758408",
         "9606.ENSP00000353660",
         "151"
        ],
        [
         "33",
         "CIDm91758408",
         "9606.ENSP00000354681",
         "175"
        ],
        [
         "34",
         "CIDm91758408",
         "9606.ENSP00000355656",
         "194"
        ],
        [
         "35",
         "CIDm91758408",
         "9606.ENSP00000356022",
         "170"
        ],
        [
         "36",
         "CIDm91758408",
         "9606.ENSP00000356170",
         "342"
        ],
        [
         "37",
         "CIDm91758408",
         "9606.ENSP00000357051",
         "265"
        ],
        [
         "38",
         "CIDm91758408",
         "9606.ENSP00000358155",
         "194"
        ],
        [
         "39",
         "CIDm91758408",
         "9606.ENSP00000358327",
         "151"
        ],
        [
         "40",
         "CIDm91758408",
         "9606.ENSP00000364310",
         "194"
        ],
        [
         "41",
         "CIDm91758408",
         "9606.ENSP00000364858",
         "151"
        ],
        [
         "42",
         "CIDm91758408",
         "9606.ENSP00000364859",
         "151"
        ],
        [
         "43",
         "CIDm91758408",
         "9606.ENSP00000367355",
         "178"
        ],
        [
         "44",
         "CIDm91758408",
         "9606.ENSP00000373730",
         "194"
        ],
        [
         "45",
         "CIDm91758408",
         "9606.ENSP00000375767",
         "151"
        ],
        [
         "46",
         "CIDm91758408",
         "9606.ENSP00000376849",
         "151"
        ],
        [
         "47",
         "CIDm91758408",
         "9606.ENSP00000384400",
         "342"
        ],
        [
         "48",
         "CIDm91758408",
         "9606.ENSP00000388566",
         "151"
        ],
        [
         "49",
         "CIDm91758408",
         "9606.ENSP00000400592",
         "151"
        ]
       ],
       "shape": {
        "columns": 3,
        "rows": 15473939
       }
      },
      "text/html": [
       "<div>\n",
       "<style scoped>\n",
       "    .dataframe tbody tr th:only-of-type {\n",
       "        vertical-align: middle;\n",
       "    }\n",
       "\n",
       "    .dataframe tbody tr th {\n",
       "        vertical-align: top;\n",
       "    }\n",
       "\n",
       "    .dataframe thead th {\n",
       "        text-align: right;\n",
       "    }\n",
       "</style>\n",
       "<table border=\"1\" class=\"dataframe\">\n",
       "  <thead>\n",
       "    <tr style=\"text-align: right;\">\n",
       "      <th></th>\n",
       "      <th>chemical</th>\n",
       "      <th>protein</th>\n",
       "      <th>combined_score</th>\n",
       "    </tr>\n",
       "  </thead>\n",
       "  <tbody>\n",
       "    <tr>\n",
       "      <th>0</th>\n",
       "      <td>CIDm91758680</td>\n",
       "      <td>9606.ENSP00000257254</td>\n",
       "      <td>279</td>\n",
       "    </tr>\n",
       "    <tr>\n",
       "      <th>1</th>\n",
       "      <td>CIDm91758680</td>\n",
       "      <td>9606.ENSP00000302120</td>\n",
       "      <td>154</td>\n",
       "    </tr>\n",
       "    <tr>\n",
       "      <th>2</th>\n",
       "      <td>CIDm91758408</td>\n",
       "      <td>9606.ENSP00000006777</td>\n",
       "      <td>225</td>\n",
       "    </tr>\n",
       "    <tr>\n",
       "      <th>3</th>\n",
       "      <td>CIDm91758408</td>\n",
       "      <td>9606.ENSP00000056217</td>\n",
       "      <td>178</td>\n",
       "    </tr>\n",
       "    <tr>\n",
       "      <th>4</th>\n",
       "      <td>CIDm91758408</td>\n",
       "      <td>9606.ENSP00000216085</td>\n",
       "      <td>225</td>\n",
       "    </tr>\n",
       "    <tr>\n",
       "      <th>...</th>\n",
       "      <td>...</td>\n",
       "      <td>...</td>\n",
       "      <td>...</td>\n",
       "    </tr>\n",
       "    <tr>\n",
       "      <th>15473934</th>\n",
       "      <td>CIDs00000001</td>\n",
       "      <td>9606.ENSP00000420588</td>\n",
       "      <td>151</td>\n",
       "    </tr>\n",
       "    <tr>\n",
       "      <th>15473935</th>\n",
       "      <td>CIDs00000001</td>\n",
       "      <td>9606.ENSP00000436585</td>\n",
       "      <td>279</td>\n",
       "    </tr>\n",
       "    <tr>\n",
       "      <th>15473936</th>\n",
       "      <td>CIDs00000001</td>\n",
       "      <td>9606.ENSP00000438144</td>\n",
       "      <td>311</td>\n",
       "    </tr>\n",
       "    <tr>\n",
       "      <th>15473937</th>\n",
       "      <td>CIDs00000001</td>\n",
       "      <td>9606.ENSP00000448165</td>\n",
       "      <td>322</td>\n",
       "    </tr>\n",
       "    <tr>\n",
       "      <th>15473938</th>\n",
       "      <td>CIDs00000001</td>\n",
       "      <td>9606.ENSP00000453129</td>\n",
       "      <td>197</td>\n",
       "    </tr>\n",
       "  </tbody>\n",
       "</table>\n",
       "<p>15473939 rows × 3 columns</p>\n",
       "</div>"
      ],
      "text/plain": [
       "              chemical               protein  combined_score\n",
       "0         CIDm91758680  9606.ENSP00000257254             279\n",
       "1         CIDm91758680  9606.ENSP00000302120             154\n",
       "2         CIDm91758408  9606.ENSP00000006777             225\n",
       "3         CIDm91758408  9606.ENSP00000056217             178\n",
       "4         CIDm91758408  9606.ENSP00000216085             225\n",
       "...                ...                   ...             ...\n",
       "15473934  CIDs00000001  9606.ENSP00000420588             151\n",
       "15473935  CIDs00000001  9606.ENSP00000436585             279\n",
       "15473936  CIDs00000001  9606.ENSP00000438144             311\n",
       "15473937  CIDs00000001  9606.ENSP00000448165             322\n",
       "15473938  CIDs00000001  9606.ENSP00000453129             197\n",
       "\n",
       "[15473939 rows x 3 columns]"
      ]
     },
     "execution_count": 2,
     "metadata": {},
     "output_type": "execute_result"
    }
   ],
   "source": [
    "# Download Link: http://stitch.embl.de/download/protein_chemical.links.v5.0/9606.protein_chemical.links.v5.0.tsv.gz\n",
    "# Download Date: 2025-03-21\n",
    "# Download Version: 2015\n",
    "\n",
    "import pandas as pd\n",
    "import re\n",
    "\n",
    "stitch = pd.read_csv('9606.protein_chemical.links.v5.0.tsv', sep='\\t')\n",
    "stitch"
   ]
  },
  {
   "cell_type": "code",
   "execution_count": 3,
   "metadata": {},
   "outputs": [
    {
     "data": {
      "application/vnd.microsoft.datawrangler.viewer.v0+json": {
       "columns": [
        {
         "name": "index",
         "rawType": "int64",
         "type": "integer"
        },
        {
         "name": "flat_chemical_id",
         "rawType": "object",
         "type": "string"
        },
        {
         "name": "stereo_chemical_id",
         "rawType": "object",
         "type": "string"
        },
        {
         "name": "source_cid",
         "rawType": "int64",
         "type": "integer"
        },
        {
         "name": "inchikey",
         "rawType": "object",
         "type": "string"
        }
       ],
       "conversionMethod": "pd.DataFrame",
       "ref": "83839e48-8dd5-4f4f-b17e-ca6ef158d603",
       "rows": [
        [
         "0",
         "CIDm00000001",
         "CIDs00000001",
         "1",
         "RDHQFKQIGNGIED-UHFFFAOYSA-N"
        ],
        [
         "1",
         "CIDm00000010",
         "CIDs00000010",
         "10",
         "AUFGTPPARQZWDO-UHFFFAOYSA-N"
        ],
        [
         "2",
         "CIDm00000100",
         "CIDs00000100",
         "100",
         "UTIBHEBNILDQKX-UHFFFAOYSA-N"
        ],
        [
         "3",
         "CIDm00001000",
         "CIDs00001000",
         "1000",
         "ULSIYEODSMZIPX-UHFFFAOYSA-N"
        ],
        [
         "4",
         "CIDm00010000",
         "CIDs00010000",
         "10000",
         "ZPIFKCVYZBVZIV-UHFFFAOYSA-N"
        ],
        [
         "5",
         "CIDm00100000",
         "CIDs00100000",
         "100000",
         "SPTBIJLJJBZGDY-UHFFFAOYSA-N"
        ],
        [
         "6",
         "CIDm01000000",
         "CIDs01000000",
         "1000000",
         "XTNVYACQOFUTNH-UHFFFAOYSA-N"
        ],
        [
         "7",
         "CIDm10000000",
         "CIDs10000000",
         "10000000",
         "WUGPGGSZFRVGGA-UHFFFAOYSA-N"
        ],
        [
         "8",
         "CIDm10000001",
         "CIDs10000001",
         "10000001",
         "ANOUMYXLUIDQNL-UHFFFAOYSA-N"
        ],
        [
         "9",
         "CIDm10000002",
         "CIDs10000002",
         "10000002",
         "DUZSCKPDZXTNHU-UHFFFAOYSA-N"
        ],
        [
         "10",
         "CIDm10000003",
         "CIDs10000003",
         "10000003",
         "IICNFYZYAVVBJL-UHFFFAOYSA-N"
        ],
        [
         "11",
         "CIDm09821370",
         "CIDs10000004",
         "10000004",
         "KTDZYOFKSFAAAN-RUTFAPCESA-M"
        ],
        [
         "12",
         "CIDm10000005",
         "CIDs10000005",
         "10000005",
         "BVFIQFLXSWARKY-UHFFFAOYSA-N"
        ],
        [
         "13",
         "CIDm10000006",
         "CIDs10000006",
         "10000006",
         "VAKKVZTZVIGLRB-KIZRIRGWSA-N"
        ],
        [
         "14",
         "CIDm10000007",
         "CIDs10000007",
         "10000007",
         "OQBKDZLBCZODKE-BMRADRMJSA-N"
        ],
        [
         "15",
         "CIDm10000008",
         "CIDs10000008",
         "10000008",
         "VHWYCPMXAANJRU-UHFFFAOYSA-N"
        ],
        [
         "16",
         "CIDm09908032",
         "CIDs10000009",
         "10000009",
         "DRHGSSXSNNHAAL-ILLCOZOWSA-N"
        ],
        [
         "17",
         "CIDm01000001",
         "CIDs01000001",
         "1000001",
         "CLZWULPKOWQEBM-FUHIMQAGSA-N"
        ],
        [
         "18",
         "CIDm10000010",
         "CIDs10000010",
         "10000010",
         "VFXRRBWXDNYJLD-UHFFFAOYSA-N"
        ],
        [
         "19",
         "CIDm10000011",
         "CIDs10000011",
         "10000011",
         "JQLIGMOWNYBVQO-UHFFFAOYSA-N"
        ],
        [
         "20",
         "CIDm10000012",
         "CIDs10000012",
         "10000012",
         "KTMRZYPQKLRPGJ-UHFFFAOYSA-N"
        ],
        [
         "21",
         "CIDm10000013",
         "CIDs10000013",
         "10000013",
         "UYIPYDFMIUXXIR-UHFFFAOYSA-N"
        ],
        [
         "22",
         "CIDm10000014",
         "CIDs10000014",
         "10000014",
         "RNBZZVYTDGGCHB-AZLYJIEISA-N"
        ],
        [
         "23",
         "CIDm00100188",
         "CIDs10000015",
         "10000015",
         "DCYAJVOKJAFSES-HNNXBMFYSA-N"
        ],
        [
         "24",
         "CIDm10000016",
         "CIDs10000016",
         "10000016",
         "HTEQBYAEAQGXPZ-QZTJIDSGSA-N"
        ],
        [
         "25",
         "CIDm00022075",
         "CIDs00022075",
         "10000017",
         "UTVQMKYHKFLPLX-UHFFFAOYSA-M"
        ],
        [
         "26",
         "CIDm10000018",
         "CIDs10000018",
         "10000018",
         "VNEZLZQSWUDRIV-UHFFFAOYSA-N"
        ],
        [
         "27",
         "CIDm10000019",
         "CIDs10000019",
         "10000019",
         "XWMGBLCMRLASDS-UHFFFAOYSA-N"
        ],
        [
         "28",
         "CIDm01000002",
         "CIDs01000002",
         "1000002",
         "QJLLFADHTHKJSY-UHFFFAOYSA-N"
        ],
        [
         "29",
         "CIDm10000020",
         "CIDs10000020",
         "10000020",
         "GNCKEUJKZQDWAH-APSNUPSMSA-N"
        ],
        [
         "30",
         "CIDm10000021",
         "CIDs10000021",
         "10000021",
         "UOQJMHJERKBWEP-UHFFFAOYSA-N"
        ],
        [
         "31",
         "CIDm10000022",
         "CIDs10000022",
         "10000022",
         "CRNWKLJTGHLOJV-KEBDBYFISA-N"
        ],
        [
         "32",
         "CIDm10000023",
         "CIDs10000023",
         "10000023",
         "OMDYBEVVCSGYQW-KRWDZBQOSA-N"
        ],
        [
         "33",
         "CIDm10000024",
         "CIDs10000024",
         "10000024",
         "CRVMXOYIXCFDJP-UHFFFAOYSA-N"
        ],
        [
         "34",
         "CIDm10000025",
         "CIDs10000025",
         "10000025",
         "KUUZHJQGCWPUOI-KNQAVFIVSA-N"
        ],
        [
         "35",
         "CIDm10000026",
         "CIDs10000026",
         "10000026",
         "VPUBYIHEOHBDNM-UCUFBTAOSA-N"
        ],
        [
         "36",
         "CIDm10000027",
         "CIDs10000027",
         "10000027",
         "NNXRNGYWQJUILQ-UHFFFAOYSA-N"
        ],
        [
         "37",
         "CIDm10000028",
         "CIDs10000028",
         "10000028",
         "NWQLXALWSUXZMB-UHFFFAOYSA-N"
        ],
        [
         "38",
         "CIDm10000029",
         "CIDs10000029",
         "10000029",
         "KTFGMODFESPYDR-UHFFFAOYSA-N"
        ],
        [
         "39",
         "CIDm01000003",
         "CIDs01000003",
         "1000003",
         "LVMQKPRQNWGHGZ-UHFFFAOYSA-N"
        ],
        [
         "40",
         "CIDm10000030",
         "CIDs10000030",
         "10000030",
         "RGJGHEGPMXEARE-UHFFFAOYSA-N"
        ],
        [
         "41",
         "CIDm10000031",
         "CIDs10000031",
         "10000031",
         "FTYBLYWDUVCPNG-UHFFFAOYSA-N"
        ],
        [
         "42",
         "CIDm10000032",
         "CIDs10000032",
         "10000032",
         "UBFXEQOUIIFPIY-UHFFFAOYSA-N"
        ],
        [
         "43",
         "CIDm10000033",
         "CIDs10000033",
         "10000033",
         "AXYNUUVRRMNNRY-GMAHTHKFSA-N"
        ],
        [
         "44",
         "CIDm10000034",
         "CIDs10000034",
         "10000034",
         "CKNLFSFBGRRFCB-URIDCEOUSA-N"
        ],
        [
         "45",
         "CIDm10000035",
         "CIDs10000035",
         "10000035",
         "SSNHICHHJKGBRM-ZFTZODIFSA-N"
        ],
        [
         "46",
         "CIDm10000036",
         "CIDs10000036",
         "10000036",
         "RZSADZPNOGPQHK-UHFFFAOYSA-N"
        ],
        [
         "47",
         "CIDm10000037",
         "CIDs10000037",
         "10000037",
         "JLSZXXQMLPAVQC-KOEQRZSOSA-N"
        ],
        [
         "48",
         "CIDm10000038",
         "CIDs10000038",
         "10000038",
         "UKYKXQXQIHNEJS-NHFJDJAPSA-N"
        ],
        [
         "49",
         "CIDm10000039",
         "CIDs10000039",
         "10000039",
         "OTTABHZTXCDGMJ-UHFFFAOYSA-N"
        ]
       ],
       "shape": {
        "columns": 4,
        "rows": 68373241
       }
      },
      "text/html": [
       "<div>\n",
       "<style scoped>\n",
       "    .dataframe tbody tr th:only-of-type {\n",
       "        vertical-align: middle;\n",
       "    }\n",
       "\n",
       "    .dataframe tbody tr th {\n",
       "        vertical-align: top;\n",
       "    }\n",
       "\n",
       "    .dataframe thead th {\n",
       "        text-align: right;\n",
       "    }\n",
       "</style>\n",
       "<table border=\"1\" class=\"dataframe\">\n",
       "  <thead>\n",
       "    <tr style=\"text-align: right;\">\n",
       "      <th></th>\n",
       "      <th>flat_chemical_id</th>\n",
       "      <th>stereo_chemical_id</th>\n",
       "      <th>source_cid</th>\n",
       "      <th>inchikey</th>\n",
       "    </tr>\n",
       "  </thead>\n",
       "  <tbody>\n",
       "    <tr>\n",
       "      <th>0</th>\n",
       "      <td>CIDm00000001</td>\n",
       "      <td>CIDs00000001</td>\n",
       "      <td>1</td>\n",
       "      <td>RDHQFKQIGNGIED-UHFFFAOYSA-N</td>\n",
       "    </tr>\n",
       "    <tr>\n",
       "      <th>1</th>\n",
       "      <td>CIDm00000010</td>\n",
       "      <td>CIDs00000010</td>\n",
       "      <td>10</td>\n",
       "      <td>AUFGTPPARQZWDO-UHFFFAOYSA-N</td>\n",
       "    </tr>\n",
       "    <tr>\n",
       "      <th>2</th>\n",
       "      <td>CIDm00000100</td>\n",
       "      <td>CIDs00000100</td>\n",
       "      <td>100</td>\n",
       "      <td>UTIBHEBNILDQKX-UHFFFAOYSA-N</td>\n",
       "    </tr>\n",
       "    <tr>\n",
       "      <th>3</th>\n",
       "      <td>CIDm00001000</td>\n",
       "      <td>CIDs00001000</td>\n",
       "      <td>1000</td>\n",
       "      <td>ULSIYEODSMZIPX-UHFFFAOYSA-N</td>\n",
       "    </tr>\n",
       "    <tr>\n",
       "      <th>4</th>\n",
       "      <td>CIDm00010000</td>\n",
       "      <td>CIDs00010000</td>\n",
       "      <td>10000</td>\n",
       "      <td>ZPIFKCVYZBVZIV-UHFFFAOYSA-N</td>\n",
       "    </tr>\n",
       "    <tr>\n",
       "      <th>...</th>\n",
       "      <td>...</td>\n",
       "      <td>...</td>\n",
       "      <td>...</td>\n",
       "      <td>...</td>\n",
       "    </tr>\n",
       "    <tr>\n",
       "      <th>68373236</th>\n",
       "      <td>CIDm09999995</td>\n",
       "      <td>CIDs09999995</td>\n",
       "      <td>9999995</td>\n",
       "      <td>XPKJPIMTEFXWTR-QJSROADHSA-N</td>\n",
       "    </tr>\n",
       "    <tr>\n",
       "      <th>68373237</th>\n",
       "      <td>CIDm09999996</td>\n",
       "      <td>CIDs09999996</td>\n",
       "      <td>9999996</td>\n",
       "      <td>UIACKXKZPDPMBY-UHFFFAOYSA-N</td>\n",
       "    </tr>\n",
       "    <tr>\n",
       "      <th>68373238</th>\n",
       "      <td>CIDm09999996</td>\n",
       "      <td>CIDs09999996</td>\n",
       "      <td>9999997</td>\n",
       "      <td>PLLYNUUCBINGLY-UHFFFAOYSA-N</td>\n",
       "    </tr>\n",
       "    <tr>\n",
       "      <th>68373239</th>\n",
       "      <td>CIDm09999998</td>\n",
       "      <td>CIDs09999998</td>\n",
       "      <td>9999998</td>\n",
       "      <td>PFFVTWFOPAQBJU-UHFFFAOYSA-N</td>\n",
       "    </tr>\n",
       "    <tr>\n",
       "      <th>68373240</th>\n",
       "      <td>CIDm09999999</td>\n",
       "      <td>CIDs09999999</td>\n",
       "      <td>9999999</td>\n",
       "      <td>CLKIMYVIZNLRDS-UHFFFAOYSA-N</td>\n",
       "    </tr>\n",
       "  </tbody>\n",
       "</table>\n",
       "<p>68373241 rows × 4 columns</p>\n",
       "</div>"
      ],
      "text/plain": [
       "         flat_chemical_id stereo_chemical_id  source_cid  \\\n",
       "0            CIDm00000001       CIDs00000001           1   \n",
       "1            CIDm00000010       CIDs00000010          10   \n",
       "2            CIDm00000100       CIDs00000100         100   \n",
       "3            CIDm00001000       CIDs00001000        1000   \n",
       "4            CIDm00010000       CIDs00010000       10000   \n",
       "...                   ...                ...         ...   \n",
       "68373236     CIDm09999995       CIDs09999995     9999995   \n",
       "68373237     CIDm09999996       CIDs09999996     9999996   \n",
       "68373238     CIDm09999996       CIDs09999996     9999997   \n",
       "68373239     CIDm09999998       CIDs09999998     9999998   \n",
       "68373240     CIDm09999999       CIDs09999999     9999999   \n",
       "\n",
       "                             inchikey  \n",
       "0         RDHQFKQIGNGIED-UHFFFAOYSA-N  \n",
       "1         AUFGTPPARQZWDO-UHFFFAOYSA-N  \n",
       "2         UTIBHEBNILDQKX-UHFFFAOYSA-N  \n",
       "3         ULSIYEODSMZIPX-UHFFFAOYSA-N  \n",
       "4         ZPIFKCVYZBVZIV-UHFFFAOYSA-N  \n",
       "...                               ...  \n",
       "68373236  XPKJPIMTEFXWTR-QJSROADHSA-N  \n",
       "68373237  UIACKXKZPDPMBY-UHFFFAOYSA-N  \n",
       "68373238  PLLYNUUCBINGLY-UHFFFAOYSA-N  \n",
       "68373239  PFFVTWFOPAQBJU-UHFFFAOYSA-N  \n",
       "68373240  CLKIMYVIZNLRDS-UHFFFAOYSA-N  \n",
       "\n",
       "[68373241 rows x 4 columns]"
      ]
     },
     "execution_count": 3,
     "metadata": {},
     "output_type": "execute_result"
    }
   ],
   "source": [
    "# Download Link: http://stitch.embl.de/download/chemicals.inchikeys.v5.0.tsv.gz\n",
    "# Download Date: 2025-03-21\n",
    "# Download Version: 2015\n",
    "\n",
    "stitch_inchikey = pd.read_csv('chemicals.inchikeys.v5.0.tsv', sep='\\t')\n",
    "stitch_inchikey"
   ]
  },
  {
   "cell_type": "code",
   "execution_count": 4,
   "metadata": {},
   "outputs": [
    {
     "data": {
      "application/vnd.microsoft.datawrangler.viewer.v0+json": {
       "columns": [
        {
         "name": "index",
         "rawType": "int64",
         "type": "integer"
        },
        {
         "name": "flat_chemical_id",
         "rawType": "object",
         "type": "string"
        },
        {
         "name": "inchikey",
         "rawType": "object",
         "type": "string"
        }
       ],
       "conversionMethod": "pd.DataFrame",
       "ref": "0bdad56c-7ca5-4390-b899-c3be9f2e5171",
       "rows": [
        [
         "0",
         "CIDm00000001",
         "RDHQFKQIGNGIED-UHFFFAOYSA-N;ZIUSCUAKYGIGBA-DDWIOCJRSA-N;QCEGMCGEQZWURG-DDWIOCJRSA-O;YAWYRGBPGBNSRQ-XQGNFNNSSA-O;YGTOFFBSAKLXSQ-DDWIOCJRSA-M;PIVRGJFQTCIRPC-DDWIOCJRSA-L;ZZNIBVFQODHHSG-YCBDHFTFSA-O;IVCPRFYVJYKZAM-DDWIOCJRSA-O;XAUGDXDINAXMRC-DDWIOCJRSA-O;RNQPUBWCRCCFKD-DDWIOCJRSA-N;YWWQRAQYEGCBTK-WAOKUTHXSA-P;BPGORIGHSAETFI-SAUPDVHASA-P;YAWYRGBPGBNSRQ-ORHWHDKWSA-O;VXPVOOSBAISAEO-DDWIOCJRSA-O;IKMVCTAQPRYZMY-YCBDHFTFSA-L;JATPLOXBFFRHDN-QRPNPIFTSA-N;JATPLOXBFFRHDN-PTWWVFATSA-N;RDHQFKQIGNGIED-WYUQFEHRSA-O;JATPLOXBFFRHDN-UHFFFAOYSA-O;RDHQFKQIGNGIED-QMMMGPOBSA-N;RDHQFKQIGNGIED-QMMMGPOBSA-O;JATPLOXBFFRHDN-UHFFFAOYSA-N;RDHQFKQIGNGIED-UHFFFAOYSA-O;RDHQFKQIGNGIED-CDYZYAPPSA-N;RDHQFKQIGNGIED-CDYZYAPPSA-O;JATPLOXBFFRHDN-DDWIOCJRSA-N;RDHQFKQIGNGIED-MRVPVSSYSA-O;RDHQFKQIGNGIED-BJUDXGSMSA-O;RDHQFKQIGNGIED-JZRMKITLSA-O;RDHQFKQIGNGIED-JVVVGQRLSA-O;RDHQFKQIGNGIED-HEQQCNHGSA-O;RDHQFKQIGNGIED-KATDWUJVSA-O;RDHQFKQIGNGIED-FIBGUPNXSA-O;RDHQFKQIGNGIED-ZOYPIFFKSA-N;RDHQFKQIGNGIED-ZOYPIFFKSA-O;RDHQFKQIGNGIED-PQZLXLQHSA-N;RDHQFKQIGNGIED-PQZLXLQHSA-O;RDHQFKQIGNGIED-CCCBBCPWSA-N;RDHQFKQIGNGIED-CCCBBCPWSA-O;RDHQFKQIGNGIED-ADFRICLDSA-N;RDHQFKQIGNGIED-ADFRICLDSA-O;RDHQFKQIGNGIED-GLGBXCKHSA-N;RDHQFKQIGNGIED-GLGBXCKHSA-O;RDHQFKQIGNGIED-RSNPLAMVSA-N;RDHQFKQIGNGIED-RSNPLAMVSA-O;RDHQFKQIGNGIED-PSVZIXMSSA-N;RDHQFKQIGNGIED-PSVZIXMSSA-O;RDHQFKQIGNGIED-DFXUOHCZSA-N;RDHQFKQIGNGIED-DFXUOHCZSA-O;RDHQFKQIGNGIED-QTXGLECBSA-N;RDHQFKQIGNGIED-QTXGLECBSA-O;RDHQFKQIGNGIED-JDVYPJHVSA-N;RDHQFKQIGNGIED-JDVYPJHVSA-O;RDHQFKQIGNGIED-TYWLLIITSA-N;RDHQFKQIGNGIED-TYWLLIITSA-O;RDHQFKQIGNGIED-CPCVIWFMSA-N;RDHQFKQIGNGIED-CPCVIWFMSA-O;RDHQFKQIGNGIED-VBYXCMKKSA-N;RDHQFKQIGNGIED-VBYXCMKKSA-O;RDHQFKQIGNGIED-OIHYMRIXSA-N;RDHQFKQIGNGIED-OIHYMRIXSA-O;RDHQFKQIGNGIED-GCWIKQNGSA-N;RDHQFKQIGNGIED-GCWIKQNGSA-O;RDHQFKQIGNGIED-GBHGDGCISA-N;RDHQFKQIGNGIED-GBHGDGCISA-O;RDHQFKQIGNGIED-SRTRRZBRSA-N;RDHQFKQIGNGIED-SRTRRZBRSA-O;RDHQFKQIGNGIED-XTQDPALFSA-N;RDHQFKQIGNGIED-XTQDPALFSA-O;RDHQFKQIGNGIED-DUBVKTJKSA-N;RDHQFKQIGNGIED-DUBVKTJKSA-O;RDHQFKQIGNGIED-SXQOAWNFSA-N;RDHQFKQIGNGIED-SXQOAWNFSA-O;RDHQFKQIGNGIED-LKICXDIQSA-N;RDHQFKQIGNGIED-LKICXDIQSA-O;RDHQFKQIGNGIED-ZXEPEWCSSA-N;RDHQFKQIGNGIED-ZXEPEWCSSA-O;RDHQFKQIGNGIED-RZZPRKQRSA-N;RDHQFKQIGNGIED-RZZPRKQRSA-O;RDHQFKQIGNGIED-FIBGUPNXSA-N;RDHQFKQIGNGIED-WGGUOBTBSA-O;JJKYARXIRCIZCG-DDWIOCJRSA-O;OVOPZVYLBYWUFI-DDWIOCJRSA-N;KUWAXXPZYWJTKX-DDWIOCJRSA-O;JATPLOXBFFRHDN-QRPNPIFTSA-M;JATPLOXBFFRHDN-DDWIOCJRSA-M;RDHQFKQIGNGIED-LYLWPCGLSA-N;RDHQFKQIGNGIED-LYLWPCGLSA-O;RDHQFKQIGNGIED-MRVPVSSYSA-N;JATPLOXBFFRHDN-SPMMGKNWSA-N;RDHQFKQIGNGIED-GTXKLNPESA-O;JATPLOXBFFRHDN-FUBUMMEWSA-N;RDHQFKQIGNGIED-DBIKDTASSA-O;JATPLOXBFFRHDN-WVKKGGDISA-N;RDHQFKQIGNGIED-FPUGOENOSA-O;ZZNIBVFQODHHSG-UHFFFAOYSA-O;IVCPRFYVJYKZAM-UHFFFAOYSA-O;XAUGDXDINAXMRC-UHFFFAOYSA-O;RNQPUBWCRCCFKD-UHFFFAOYSA-N;YWWQRAQYEGCBTK-UHFFFAOYSA-P;BPGORIGHSAETFI-UHFFFAOYSA-P;YAWYRGBPGBNSRQ-UHFFFAOYSA-O;VXPVOOSBAISAEO-UHFFFAOYSA-O;IKMVCTAQPRYZMY-UHFFFAOYSA-L;JJKYARXIRCIZCG-UHFFFAOYSA-O;OVOPZVYLBYWUFI-UHFFFAOYSA-N;KUWAXXPZYWJTKX-UHFFFAOYSA-O;JATPLOXBFFRHDN-UHFFFAOYSA-M;DEUOGKSGHOLQCP-UHFFFAOYSA-N;YGTOFFBSAKLXSQ-UHFFFAOYSA-M;PIVRGJFQTCIRPC-UHFFFAOYSA-L;JATPLOXBFFRHDN-PSUFLZSISA-N;JATPLOXBFFRHDN-HPGPFNBWSA-N;RDHQFKQIGNGIED-SPBYTNOZSA-O;QLUWJPVMDQALGB-DDWIOCJRSA-N;GMDPOYYLLANICX-YCBDHFTFSA-N;QLUWJPVMDQALGB-UHFFFAOYSA-N;SBMXIAWMQRISJB-AQINIFGVSA-L;GMDPOYYLLANICX-YCBDHFTFSA-M;ZIUSCUAKYGIGBA-UHFFFAOYSA-N;YAWYRGBPGBNSRQ-BTJKTKAUSA-N;YAWYRGBPGBNSRQ-XQGNFNNSSA-N;YAWYRGBPGBNSRQ-WLHGVMLRSA-N;PIVRGJFQTCIRPC-UHFFFAOYSA-N;PIVRGJFQTCIRPC-DDWIOCJRSA-N;RDHQFKQIGNGIED-XYIHWPHSSA-O;RDHQFKQIGNGIED-ZCGTYJGBSA-O;RDHQFKQIGNGIED-FMCLXMBXSA-O;RDHQFKQIGNGIED-ISJXXGKPSA-O;RDHQFKQIGNGIED-GYHXUUDHSA-O;RDHQFKQIGNGIED-JZAVKUPRSA-O;RDHQFKQIGNGIED-HOWARVBXSA-O;RDHQFKQIGNGIED-JYIJUWKTSA-O;JATPLOXBFFRHDN-DDWIOCJRSA-O;YAWYRGBPGBNSRQ-LOOJJACZSA-O;VXPVOOSBAISAEO-HQWYAZORSA-O;DEUOGKSGHOLQCP-DDWIOCJRSA-N"
        ],
        [
         "1",
         "CIDm00000003",
         "INCSWYKICIYAHB-UHFFFAOYSA-M;INCSWYKICIYAHB-PHDIDXHHSA-N;INCSWYKICIYAHB-NTSWFWBYSA-N;INCSWYKICIYAHB-UHFFFAOYSA-N;INCSWYKICIYAHB-WDSKDSINSA-M;INCSWYKICIYAHB-WDSKDSINSA-N"
        ],
        [
         "2",
         "CIDm00000004",
         "HXKKHQJGJAFBHI-AZXPZELESA-N;HXKKHQJGJAFBHI-UHFFFAOYSA-N;HXKKHQJGJAFBHI-GSVOUGTGSA-N;HXKKHQJGJAFBHI-GSVOUGTGSA-O;HXKKHQJGJAFBHI-UHFFFAOYSA-O;HXKKHQJGJAFBHI-VKHMYHEASA-O;HXKKHQJGJAFBHI-VKHMYHEASA-N;SDXAWMPTBQCNDC-OASOTCBPSA-N;SDXAWMPTBQCNDC-UHFFFAOYSA-N"
        ],
        [
         "3",
         "CIDm00000005",
         "HIQNVODXENYOFK-UHFFFAOYSA-M;HIQNVODXENYOFK-UHFFFAOYSA-N;HIQNVODXENYOFK-UHFFFAOYSA-L"
        ],
        [
         "4",
         "CIDm00000006",
         "VYZAHLCBVHPDDF-UHFFFAOYSA-N;VYZAHLCBVHPDDF-CBYSEHNBSA-N"
        ],
        [
         "5",
         "CIDm00000007",
         "MUIPLRMGAXZWSQ-ZBJDZAJPSA-O;RQTHKTULGBTFED-UHFFFAOYSA-N;MUIPLRMGAXZWSQ-UHFFFAOYSA-N;MUIPLRMGAXZWSQ-ZBJDZAJPSA-N;MUIPLRMGAXZWSQ-UHFFFAOYSA-O"
        ],
        [
         "6",
         "CIDm00000008",
         "PDGXJDXVGMHUIR-UJURSFKZSA-M;PDGXJDXVGMHUIR-UHFFFAOYSA-M;PDGXJDXVGMHUIR-BAFYGKSASA-N;PDGXJDXVGMHUIR-UJURSFKZSA-N;PDGXJDXVGMHUIR-XINAWCOVSA-N;PDGXJDXVGMHUIR-NJGYIYPDSA-N;PDGXJDXVGMHUIR-UHFFFAOYSA-N;PDGXJDXVGMHUIR-VKZKZBKNSA-N"
        ],
        [
         "7",
         "CIDm00000009",
         "INAPMGSXUVUWAF-CNFDLASWSA-N;INAPMGSXUVUWAF-GCVPSNMTSA-N;INAPMGSXUVUWAF-XDYCNCSVSA-N;HULWABRHGYHABN-UHFFFAOYSA-N;INAPMGSXUVUWAF-UYSNGIAKSA-N;INAPMGSXUVUWAF-WWHKVMGRSA-N;HULWABRHGYHABN-FGPSAQHISA-N;INAPMGSXUVUWAF-GQXJQEMDSA-N;INAPMGSXUVUWAF-GFWFORPUSA-L;INAPMGSXUVUWAF-UYSNGIAKSA-L;INAPMGSXUVUWAF-WWHKVMGRSA-L;INAPMGSXUVUWAF-GQXJQEMDSA-L;INAPMGSXUVUWAF-GFWFORPUSA-N;INAPMGSXUVUWAF-LXOASSSBSA-N;INAPMGSXUVUWAF-UHFFFAOYSA-L;REMBBOONLXQKLK-GEXMZCQLSA-N;INAPMGSXUVUWAF-GCVPSNMTSA-L;INAPMGSXUVUWAF-LXOASSSBSA-L;REMBBOONLXQKLK-UHFFFAOYSA-N;ZDTLFWCYLNQDGY-UHFFFAOYSA-N;INAPMGSXUVUWAF-RQJDSDILSA-N;HULWABRHGYHABN-BIIBMHROSA-N;INAPMGSXUVUWAF-OZBVZQMNSA-L;INAPMGSXUVUWAF-OZBVZQMNSA-N;INAPMGSXUVUWAF-GBWACZPRSA-L;INAPMGSXUVUWAF-GBWACZPRSA-N;LUNIXANMFLWFRZ-YLIIPRRGSA-L;HULWABRHGYHABN-SOOXOKBJSA-N;QNKPBWPCFONOKU-YLIIPRRGSA-N;INAPMGSXUVUWAF-JBFQYEFVSA-N;LUNIXANMFLWFRZ-UHFFFAOYSA-L;QNKPBWPCFONOKU-UHFFFAOYSA-N;GNKFNUFCQPEWNG-UHFFFAOYSA-N;FVOQCYZIVKWNHO-UHFFFAOYSA-N;INAPMGSXUVUWAF-UHFFFAOYSA-N"
        ],
        [
         "8",
         "CIDm00000010",
         "AUFGTPPARQZWDO-UHFFFAOYSA-N;AUFGTPPARQZWDO-YUZLPWPTSA-N;AUFGTPPARQZWDO-JTDNENJMSA-N;AUFGTPPARQZWDO-DGCLKSJQSA-N;AUFGTPPARQZWDO-YUZLPWPTSA-L;AUFGTPPARQZWDO-UHFFFAOYSA-L;AUFGTPPARQZWDO-AMGKYWFPSA-N;AUFGTPPARQZWDO-YMRLLRLKSA-N;AUFGTPPARQZWDO-YPMHNXCESA-L;AUFGTPPARQZWDO-AAEUAGOBSA-L;AUFGTPPARQZWDO-GLGOKHISSA-N;AUFGTPPARQZWDO-YPMHNXCESA-N;AUFGTPPARQZWDO-AAEUAGOBSA-N;CXTJWZPMNDWSKP-UHFFFAOYSA-L"
        ],
        [
         "9",
         "CIDm00000011",
         "WSLDOOZREJYCGB-UHFFFAOYSA-N;WSLDOOZREJYCGB-DICFDUPASA-N;WSLDOOZREJYCGB-LNLMKGTHSA-N;WSLDOOZREJYCGB-MICDWDOJSA-N;WSLDOOZREJYCGB-USYLWXOYSA-N;WSLDOOZREJYCGB-ZDOIIHCHSA-N;IYWYXYNTUHIQOM-UHFFFAOYSA-N;OGJCIAFFKGRGJC-UHFFFAOYSA-N"
        ],
        [
         "10",
         "CIDm00000013",
         "PBKONEOXTCPAFI-UHFFFAOYSA-N;PBKONEOXTCPAFI-CBYSEHNBSA-N;GSUZRYINOHDXBS-UHFFFAOYSA-L;UCGBHFOOELMUQL-UHFFFAOYSA-L;HRQGJVWGKRRPKJ-UHFFFAOYSA-N;IABGFOGUTUDHLH-UHFFFAOYSA-N;QPTWOXZOCFKGHH-UHFFFAOYSA-N;XZJUCCSDEMXAQU-UHFFFAOYSA-N;GOHARUGVDJMIKT-UHFFFAOYSA-M;RJBIEUUXYQTZNX-UHFFFAOYSA-N;GCFLFLGBRLYUNE-UHFFFAOYSA-N;PBKONEOXTCPAFI-WFVSFCRTSA-N"
        ],
        [
         "11",
         "CIDm00000014",
         "VXPBDCBTMSKCKZ-TVMPRRNLSA-N;VXPBDCBTMSKCKZ-FXVPWHPVSA-N;VXPBDCBTMSKCKZ-UHFFFAOYSA-N;VXPBDCBTMSKCKZ-USNGEHADSA-N;VXPBDCBTMSKCKZ-BKIHCVCISA-N;VXPBDCBTMSKCKZ-ZHALLVOQSA-M;VXPBDCBTMSKCKZ-ORNYFODRSA-M;VXPBDCBTMSKCKZ-XQHNHVHJSA-M;VXPBDCBTMSKCKZ-LMMKCTJWSA-N;VXPBDCBTMSKCKZ-ZHALLVOQSA-N;VXPBDCBTMSKCKZ-USNGEHADSA-M;VXPBDCBTMSKCKZ-XQHNHVHJSA-N;VXPBDCBTMSKCKZ-ORNYFODRSA-N;VXPBDCBTMSKCKZ-OUKQBFOZSA-N;VXPBDCBTMSKCKZ-QNZPCDNOSA-N;VXPBDCBTMSKCKZ-LNLFQRSKSA-N;VXPBDCBTMSKCKZ-UHFFFAOYSA-M"
        ],
        [
         "12",
         "CIDm00000015",
         "NVKAWKQGWWIWPM-WYSACVJLSA-N;NVKAWKQGWWIWPM-ABEVXSGRSA-N;NVKAWKQGWWIWPM-DGIWYXHSSA-N;NVKAWKQGWWIWPM-OJMPBKDZSA-N;NVKAWKQGWWIWPM-MISPCMORSA-N;NVKAWKQGWWIWPM-MOVWYJJTSA-N;NVKAWKQGWWIWPM-HIGPHFHWSA-N;NVKAWKQGWWIWPM-KFZCHHPSSA-N;NVKAWKQGWWIWPM-RXJJJDFSSA-N;NVKAWKQGWWIWPM-QJVVAYILSA-N;NVKAWKQGWWIWPM-OKNMJVIWSA-N;NVKAWKQGWWIWPM-IFMQCPPASA-N;NVKAWKQGWWIWPM-SBSGYXCISA-N;NVKAWKQGWWIWPM-IMTGKERLSA-N;NVKAWKQGWWIWPM-WAIVNJGQSA-N;NVKAWKQGWWIWPM-WOMNDYAZSA-N;NVKAWKQGWWIWPM-CDPFWPJXSA-N;NVKAWKQGWWIWPM-SSBZYEIASA-N;NVKAWKQGWWIWPM-ZYKVSKEMSA-N;NVKAWKQGWWIWPM-XPDRQHSKSA-N;NVKAWKQGWWIWPM-UXMGNZLBSA-N;NVKAWKQGWWIWPM-UBSPYCGRSA-N;NVKAWKQGWWIWPM-QHDNXLQLSA-N;NVKAWKQGWWIWPM-UHFFFAOYSA-N;NVKAWKQGWWIWPM-KOWRJQJCSA-N;NVKAWKQGWWIWPM-TWNJQWSLSA-N;NVKAWKQGWWIWPM-ZNXONEHFSA-N;NVKAWKQGWWIWPM-CWMWYVAESA-N;NVKAWKQGWWIWPM-IMUHJHIWSA-N;NVKAWKQGWWIWPM-VSTKQYMISA-N;NVKAWKQGWWIWPM-YVRCCBPVSA-N;NVKAWKQGWWIWPM-JTWAAREWSA-N;NVKAWKQGWWIWPM-CORSCNNSSA-N;NVKAWKQGWWIWPM-SVKSSXNTSA-N;NVKAWKQGWWIWPM-KXMCNQHHSA-N;NVKAWKQGWWIWPM-OJGSUDKMSA-N;NVKAWKQGWWIWPM-WSQPWJPBSA-N;NVKAWKQGWWIWPM-MJAVSFFCSA-N;NVKAWKQGWWIWPM-NEUOHZEKSA-N;NVKAWKQGWWIWPM-UWWKKLJASA-N;NVKAWKQGWWIWPM-YIIIWSPYSA-N;NVKAWKQGWWIWPM-KSOHCGQZSA-N;NVKAWKQGWWIWPM-HAFWKYOQSA-N;NVKAWKQGWWIWPM-OPAYZWDASA-N;NVKAWKQGWWIWPM-CMSWPDJLSA-N;BRJXOAXKWKKGJK-NHDCPNEFSA-N;NVKAWKQGWWIWPM-KEEPPZAFSA-N;NVKAWKQGWWIWPM-ZHXITGGRSA-N;NVKAWKQGWWIWPM-FMFZMMAASA-N;OPJMKZMARVBBRF-RYFMITQSSA-N;NVKAWKQGWWIWPM-ONEHALKGSA-N;NVKAWKQGWWIWPM-CJGDTQTQSA-N;NVKAWKQGWWIWPM-XYVGYWBLSA-N;BRJXOAXKWKKGJK-NMLWVTJQSA-N;BRJXOAXKWKKGJK-JGFHIWLASA-N;NVKAWKQGWWIWPM-BNFYIPGJSA-N;NVKAWKQGWWIWPM-SHHZKCDYSA-N;NVKAWKQGWWIWPM-WNGQMWMJSA-N;NVKAWKQGWWIWPM-ZAWCVMPQSA-N;NVKAWKQGWWIWPM-PUXGIKSBSA-N;NVKAWKQGWWIWPM-NWQJCVHWSA-N;NVKAWKQGWWIWPM-XQPDVHGSSA-N;BRJXOAXKWKKGJK-UHFFFAOYSA-N;NVKAWKQGWWIWPM-HBQPXUSVSA-N;OPJMKZMARVBBRF-UHFFFAOYSA-N;WEPADSUZQQUVLL-UHFFFAOYSA-N;MSOMWVFIJGXWOI-HHDNXUPFSA-N;NVKAWKQGWWIWPM-XZBJOAFMSA-N;NVKAWKQGWWIWPM-OWAYKNFBSA-N;NVKAWKQGWWIWPM-FVMZMTMBSA-N;NVKAWKQGWWIWPM-WDSBDPLQSA-N;NVKAWKQGWWIWPM-KNRRPOFFSA-N;NVKAWKQGWWIWPM-YAMHMTDPSA-N"
        ],
        [
         "13",
         "CIDm00000016",
         "HERSSAVMHCMYSQ-UHFFFAOYSA-N;ZAAJFOXRSJDBGF-UHFFFAOYSA-N"
        ],
        [
         "14",
         "CIDm00000017",
         "UWOCFOFVIBZJGH-UHFFFAOYSA-N;UWOCFOFVIBZJGH-UHFFFAOYSA-L;UWOCFOFVIBZJGH-YFKPBYRVSA-N;UWOCFOFVIBZJGH-YFKPBYRVSA-L"
        ],
        [
         "15",
         "CIDm00000018",
         "GJQWCDSAOUMKSE-UHFFFAOYSA-N;GJQWCDSAOUMKSE-GBXIJSLDSA-N;GJQWCDSAOUMKSE-STHAYSLISA-M;GJQWCDSAOUMKSE-UHFFFAOYSA-M;GJQWCDSAOUMKSE-STHAYSLISA-N;GJQWCDSAOUMKSE-SCQFTWEKSA-N;GJQWCDSAOUMKSE-ZJRLKYRESA-N;XUQPNHOLSFOFNK-LJUKVTEVSA-N"
        ],
        [
         "16",
         "CIDm00000019",
         "HQBAVFIHGYBWQK-UHFFFAOYSA-J;GLDQAMYCGOIJDV-UHFFFAOYSA-N;FHOORYTUOJZFMM-UHFFFAOYSA-M;GLDQAMYCGOIJDV-MICDWDOJSA-N;GLDQAMYCGOIJDV-UHFFFAOYSA-M;LVGKKZUBAPSROC-UHFFFAOYSA-M;ZLFURGDQPZXNBR-UHFFFAOYSA-N;WMAHXGMWVOHFCJ-UHFFFAOYSA-N;ORUKKDACUMRTHN-UHFFFAOYSA-L;SJKZKOKJRDCGNL-UHFFFAOYSA-N;LVGKKZUBAPSROC-UHFFFAOYSA-N"
        ],
        [
         "17",
         "CIDm00000020",
         "QZDSXQJWBGMRLU-UHFFFAOYSA-N;QZDSXQJWBGMRLU-UHFFFAOYSA-M"
        ],
        [
         "18",
         "CIDm00000021",
         "VUQLHQFKACOHNZ-UHFFFAOYSA-M;VUQLHQFKACOHNZ-UHFFFAOYSA-N;VUQLHQFKACOHNZ-LURJTMIESA-M;VUQLHQFKACOHNZ-LURJTMIESA-N;VUQLHQFKACOHNZ-UOZBSSKASA-N;VUQLHQFKACOHNZ-ARSCGVETSA-N;VUQLHQFKACOHNZ-QORKDTIPSA-N;VUQLHQFKACOHNZ-ALELVUTRSA-N;VUQLHQFKACOHNZ-FUYIREJGSA-N;VUQLHQFKACOHNZ-KYBDEOGWSA-N;VUQLHQFKACOHNZ-VELZDRPWSA-N;VUQLHQFKACOHNZ-JGGZJXTHSA-N;VUQLHQFKACOHNZ-LZSYJTKCSA-N;VUQLHQFKACOHNZ-ZPAZIKCWSA-N;VUQLHQFKACOHNZ-VSOPVEEQSA-N;FVKOWCZDRRZCOE-UHFFFAOYSA-N"
        ],
        [
         "19",
         "CIDm00000022",
         "NMDWGEGFJUBKLB-RXMQYKEDSA-N;NMDWGEGFJUBKLB-UHFFFAOYSA-M;NMDWGEGFJUBKLB-YFKPBYRVSA-M;NMDWGEGFJUBKLB-UHFFFAOYSA-N;NMDWGEGFJUBKLB-YFKPBYRVSA-N;NMDWGEGFJUBKLB-HZPPXAECSA-N;NMDWGEGFJUBKLB-FTIXWYGVSA-N;NMDWGEGFJUBKLB-NQWQJFLUSA-N;NMDWGEGFJUBKLB-CTIROKKFSA-N;NMDWGEGFJUBKLB-SVDORZFLSA-N;NMDWGEGFJUBKLB-JUIPJJTESA-N;NMDWGEGFJUBKLB-WUNUACLRSA-N;NMDWGEGFJUBKLB-YNSKOEQOSA-N;NMDWGEGFJUBKLB-XLBLSXBWSA-N;NMDWGEGFJUBKLB-MNOISMKYSA-N;NMDWGEGFJUBKLB-VMIGTVKRSA-N;NMDWGEGFJUBKLB-ATHCPRDBSA-N"
        ],
        [
         "20",
         "CIDm00000023",
         "KACPVQQHDVBVFC-PMRVSPHWSA-L;KACPVQQHDVBVFC-PMRVSPHWSA-N;KACPVQQHDVBVFC-UHFFFAOYSA-N;KACPVQQHDVBVFC-UHFFFAOYSA-L;KACPVQQHDVBVFC-OIFXTYEKSA-N;KACPVQQHDVBVFC-OMUGJNSGSA-N;KACPVQQHDVBVFC-OIFXTYEKSA-M;KACPVQQHDVBVFC-OMUGJNSGSA-M;KACPVQQHDVBVFC-OIFXTYEKSA-L;KACPVQQHDVBVFC-OMUGJNSGSA-L"
        ],
        [
         "21",
         "CIDm00000028",
         "ZRHONLCTYUYMIQ-ZPUQHVIOSA-N;ZRHONLCTYUYMIQ-TZFCGSKZSA-L;ZRHONLCTYUYMIQ-UHFFFAOYSA-N;ZRHONLCTYUYMIQ-HSFFGMMNSA-N;ZRHONLCTYUYMIQ-TZFCGSKZSA-N;ZRHONLCTYUYMIQ-UHFFFAOYSA-L;ZRHONLCTYUYMIQ-TZFCGSKZSA-M"
        ],
        [
         "22",
         "CIDm00000029",
         "XMTCKNXTTXDPJX-REOHCLBHSA-M;XMTCKNXTTXDPJX-UHFFFAOYSA-N;XMTCKNXTTXDPJX-REOHCLBHSA-N;XMTCKNXTTXDPJX-UWTATZPHSA-N;XMTCKNXTTXDPJX-UHFFFAOYSA-M;JDJDARWISAOIFO-UHFFFAOYSA-N;LWSMZJFPAQQXNB-UHFFFAOYSA-M"
        ],
        [
         "23",
         "CIDm00000030",
         "QCGTZPZKJPTAEP-UHFFFAOYSA-N;QCGTZPZKJPTAEP-REDYYMJGSA-N;QCGTZPZKJPTAEP-WFTYEQLWSA-N;QCGTZPZKJPTAEP-NRNIAZNESA-N;QCGTZPZKJPTAEP-UHFFFAOYSA-M;QCGTZPZKJPTAEP-REDYYMJGSA-M"
        ],
        [
         "24",
         "CIDm00000031",
         "XSGQWNNZXHPJOT-CIFXRNLBSA-L;XMWHRVNVKDKBRG-FXSDYGFFSA-N;XMWHRVNVKDKBRG-RCMLRGBXSA-N;XMWHRVNVKDKBRG-WVEVPBGESA-N;XMWHRVNVKDKBRG-HHAULCOASA-N;XMWHRVNVKDKBRG-NSYXTAKMSA-N;XMWHRVNVKDKBRG-CIIOZHPDSA-N;XMWHRVNVKDKBRG-KCKQGANNSA-N;XMWHRVNVKDKBRG-HDZWURLUSA-N;XMWHRVNVKDKBRG-UHNVWZDZSA-L;XMWHRVNVKDKBRG-UHFFFAOYSA-L;BHSJVZKZZYFQEL-ALUAXPQUSA-N;XMWHRVNVKDKBRG-RFZPGFLSSA-N;XMWHRVNVKDKBRG-WPZPFUQASA-N;XMWHRVNVKDKBRG-BOQNNBOKSA-N;XMWHRVNVKDKBRG-UHFFFAOYSA-N;XMWHRVNVKDKBRG-UHNVWZDZSA-N;XMWHRVNVKDKBRG-CRCLSJGQSA-L;XMWHRVNVKDKBRG-CRCLSJGQSA-N;XMWHRVNVKDKBRG-BLQKOUILSA-N;XMWHRVNVKDKBRG-AKGZTFGVSA-N;XMWHRVNVKDKBRG-QLAZMRLXSA-N;XSGQWNNZXHPJOT-UHFFFAOYSA-L;XMWHRVNVKDKBRG-IYAWRTBQSA-N"
        ],
        [
         "25",
         "CIDm00000032",
         "SLUDRBHRUDRZJZ-UHFFFAOYSA-K;SLUDRBHRUDRZJZ-HNQUOIGGSA-K;SLUDRBHRUDRZJZ-IWQZZHSRSA-K;SLUDRBHRUDRZJZ-UHFFFAOYSA-N;SLUDRBHRUDRZJZ-IWQZZHSRSA-N;SLUDRBHRUDRZJZ-HNQUOIGGSA-N"
        ],
        [
         "26",
         "CIDm00000033",
         "QSKPIOLLBIHNAC-UHFFFAOYSA-N;QSKPIOLLBIHNAC-UHFFFAOYSA-O;HBKFCKHEAJRFFA-UHFFFAOYSA-N"
        ],
        [
         "27",
         "CIDm00000034",
         "SZIFAVKTNFCBPC-CBTSVUPCSA-N;SZIFAVKTNFCBPC-DICFDUPASA-N;SZIFAVKTNFCBPC-LNLMKGTHSA-N;SZIFAVKTNFCBPC-UHFFFAOYSA-O;SZIFAVKTNFCBPC-UHFFFAOYSA-N;VIBFIAPVLSYVTJ-UHFFFAOYSA-N;CCWAUROBYRDPDA-UHFFFAOYSA-N"
        ],
        [
         "28",
         "CIDm00000036",
         "RNQHMTFBUSSBJQ-UHFFFAOYSA-M;RNQHMTFBUSSBJQ-UHFFFAOYSA-N;RNQHMTFBUSSBJQ-RFZPGFLSSA-N;RNQHMTFBUSSBJQ-CRCLSJGQSA-N;RNQHMTFBUSSBJQ-WHFBIAKZSA-N;RNQHMTFBUSSBJQ-UHFFFAOYSA-L;RNQHMTFBUSSBJQ-CRCLSJGQSA-L;RNQHMTFBUSSBJQ-ROLXFIACSA-N;RNQHMTFBUSSBJQ-ARBARKHKSA-N"
        ],
        [
         "29",
         "CIDm00000037",
         "WPAMZTWLKIDIOP-UCORVYFPSA-N;WPAMZTWLKIDIOP-WUJLRWPWSA-N;WPAMZTWLKIDIOP-WVZVXSGGSA-N;WPAMZTWLKIDIOP-NQXXGFSBSA-N;WPAMZTWLKIDIOP-UHFFFAOYSA-M;WPAMZTWLKIDIOP-UHFFFAOYSA-N;WPAMZTWLKIDIOP-WVZVXSGGSA-M;WPAMZTWLKIDIOP-UCORVYFPSA-M;WPAMZTWLKIDIOP-NQXXGFSBSA-M;TXDWKHIPIIDTPQ-DIAJRCDFSA-M;WPAMZTWLKIDIOP-WWLRPLJCSA-N;WPAMZTWLKIDIOP-WUJLRWPWSA-M"
        ],
        [
         "30",
         "CIDm00000038",
         "PKVVTUWHANFMQC-UHFFFAOYSA-M;RQTYRHPYDSIWCD-UHFFFAOYSA-M;PKVVTUWHANFMQC-UHFFFAOYSA-N"
        ],
        [
         "31",
         "CIDm00000040",
         "PMMURAAUARKVCB-LAFMNQDTSA-N;PMMURAAUARKVCB-AZGQCCRYSA-N;PMMURAAUARKVCB-UNTFVMJOSA-N;PMMURAAUARKVCB-MOJAZDJTSA-N;PMMURAAUARKVCB-SLPGGIOYSA-N;PMMURAAUARKVCB-KIFFQIORSA-N;PMMURAAUARKVCB-RHRFEJLCSA-N;XGQLKQFHMKPTQD-UHFFFAOYSA-N;PMMURAAUARKVCB-UQIFEBIISA-N;PMMURAAUARKVCB-CEZCPVKQSA-N;PMMURAAUARKVCB-UHFFFAOYSA-N;RMDMFGLVHUPITJ-ZEKPKIQVSA-N;PMMURAAUARKVCB-CERMHHMHSA-N;PMMURAAUARKVCB-DUVQVXGLSA-N;RMDMFGLVHUPITJ-MQGCAWFZSA-N;PMMURAAUARKVCB-DDVDLICKSA-N;PMMURAAUARKVCB-ARQDHWQXSA-N;PMMURAAUARKVCB-IHKGAJJJSA-N;PMMURAAUARKVCB-NMZLTLNISA-N;PMMURAAUARKVCB-SFIIULIVSA-N;XGQLKQFHMKPTQD-DUVQVXGLSA-N;PMMURAAUARKVCB-HPASCFBVSA-N;PMMURAAUARKVCB-YSABGFQESA-N;PMMURAAUARKVCB-BGVIGIDWSA-N;PMMURAAUARKVCB-GHNPEYLASA-N;PMMURAAUARKVCB-RHAWHZQYSA-N;PMMURAAUARKVCB-SZIDTYJOSA-N;PMMURAAUARKVCB-UEPKTDPCSA-N;PMMURAAUARKVCB-YLZRJQLMSA-N;PMMURAAUARKVCB-SXEFJBAOSA-N;PMMURAAUARKVCB-LTQQEKPISA-N;PMMURAAUARKVCB-JGWLITMVSA-N;PMMURAAUARKVCB-KCDKBNATSA-N;OECJHCQILGNBNK-GKHSYTJQSA-N;PMMURAAUARKVCB-JTSAIASGSA-N;PMMURAAUARKVCB-KTGMNZKDSA-N;PMMURAAUARKVCB-NQAPHZHOSA-N;PMMURAAUARKVCB-ULOPGSAPSA-N;PMMURAAUARKVCB-BXKVDMCESA-N;PMMURAAUARKVCB-OMMKOOBNSA-N;PMMURAAUARKVCB-KVTDHHQDSA-N;PMMURAAUARKVCB-KAZBKCHUSA-N;PMMURAAUARKVCB-IJBOSRHISA-N;PMMURAAUARKVCB-DQBDMIDPSA-N;PMMURAAUARKVCB-UPKQYVFDSA-N;RMDMFGLVHUPITJ-UHFFFAOYSA-N;PMMURAAUARKVCB-VANKVMQKSA-N;PMMURAAUARKVCB-FSIIMWSLSA-N;OECJHCQILGNBNK-UHFFFAOYSA-N;PMMURAAUARKVCB-XIURSDRTSA-N;PMMURAAUARKVCB-FYCPLRARSA-N;PMMURAAUARKVCB-CNKSGKBASA-N;PMMURAAUARKVCB-ZXXMMSQZSA-N"
        ],
        [
         "32",
         "CIDm00000041",
         "YIEMFVNCENFBSD-UHFFFAOYSA-K;YIEMFVNCENFBSD-UHFFFAOYSA-N;YIEMFVNCENFBSD-XQRVVYSFSA-K;YIEMFVNCENFBSD-XQRVVYSFSA-L;YIEMFVNCENFBSD-XQRVVYSFSA-N;YIEMFVNCENFBSD-UHFFFAOYSA-L"
        ],
        [
         "33",
         "CIDm00000043",
         "BSQWVXVOUGONKH-AENDTGMFSA-N;DZHFTEDSQFPDPP-UHFFFAOYSA-L;TZUOJYBASJTDDR-UHFFFAOYSA-M;HWXBTNAVRSUOJR-UHFFFAOYSA-N;HWXBTNAVRSUOJR-GSVOUGTGSA-N;HWXBTNAVRSUOJR-VKHMYHEASA-N;HWXBTNAVRSUOJR-UHFFFAOYSA-L;DZHFTEDSQFPDPP-HWYNEVGZSA-L;HWXBTNAVRSUOJR-UHFFFAOYSA-M;HWXBTNAVRSUOJR-GSVOUGTGSA-L;HWXBTNAVRSUOJR-VKHMYHEASA-L;DZHFTEDSQFPDPP-QTNFYWBSSA-L;TZUOJYBASJTDDR-AENDTGMFSA-L;UVBKSRZGVBRXSI-UHFFFAOYSA-N"
        ],
        [
         "34",
         "CIDm00000044",
         "IIYNNSHGLFMMRP-UHFFFAOYSA-L;ZKFQTQPFOLZVPM-UHFFFAOYSA-L;XCETYVGOGDDIMM-UHFFFAOYSA-L;JJLNOBQCISZUHV-UHFFFAOYSA-J;ROBFUDYVXSDBQM-UHFFFAOYSA-L;ROBFUDYVXSDBQM-UHFFFAOYSA-N;QBJPGPGUHGNZNV-UHFFFAOYSA-N;ROBFUDYVXSDBQM-UHFFFAOYSA-M;FMDGUMOATKJEBL-UHFFFAOYSA-N;LCBDZVKJPQYVCX-UHFFFAOYSA-L;BHRJYYLSNRCUTM-UHFFFAOYSA-N;PBRZFHHFBLHTGJ-UHFFFAOYSA-N;LDNWLRIWIKXBSA-UHFFFAOYSA-N;OFQJQMQMWYTDHY-UHFFFAOYSA-N;CYMHXEGFTQGKNE-UHFFFAOYSA-M;QOFLIPZOYGNTQT-UHFFFAOYSA-M"
        ],
        [
         "35",
         "CIDm00000046",
         "OVPRPPOVAXRCED-WVZVXSGGSA-L;OVPRPPOVAXRCED-UHFFFAOYSA-K;OVPRPPOVAXRCED-UHFFFAOYSA-L;OVPRPPOVAXRCED-WVZVXSGGSA-N;OVPRPPOVAXRCED-NQXXGFSBSA-K;OVPRPPOVAXRCED-WVZVXSGGSA-K;OVPRPPOVAXRCED-UCORVYFPSA-N;OVPRPPOVAXRCED-UHFFFAOYSA-N;OVPRPPOVAXRCED-NQXXGFSBSA-N"
        ],
        [
         "36",
         "CIDm00000047",
         "KKAKCARVZYYCEV-UHFFFAOYSA-L;JVQYSWDUAOAHFM-SCSAIBSYSA-M;PTFSVYLXDCGPFY-SCGRZTRASA-L;SOXKRQCEVFGBCM-UHFFFAOYSA-N;SMDJDLCNOXJGKC-UHFFFAOYSA-M;AVBRPDHRXFTVAO-UHFFFAOYSA-M;AVBRPDHRXFTVAO-UHFFFAOYSA-N;JVQYSWDUAOAHFM-UHFFFAOYSA-M;PTFSVYLXDCGPFY-UHFFFAOYSA-L;JVQYSWDUAOAHFM-BYPYZUCNSA-N;JVQYSWDUAOAHFM-SCSAIBSYSA-N;QZPKSONRSMXBTM-UHFFFAOYSA-L;JVQYSWDUAOAHFM-UHFFFAOYSA-N;LLUZEXRKPHBIBU-UHFFFAOYSA-M;CHXKMJXCNWINAY-UHFFFAOYSA-N;JVQYSWDUAOAHFM-GCBZYLDTSA-N;JVQYSWDUAOAHFM-HNDZYOOBSA-N;JVQYSWDUAOAHFM-BYPYZUCNSA-M;SMDJDLCNOXJGKC-KRBNGQFBSA-M;JVQYSWDUAOAHFM-OEKWKHNNSA-N;SMDJDLCNOXJGKC-FIRJCWQZSA-M;JVQYSWDUAOAHFM-AUOAYUKBSA-N;SMDJDLCNOXJGKC-PGMHMLKASA-M;SOXKRQCEVFGBCM-KRSQWWHXSA-N;SMDJDLCNOXJGKC-WCCKRBBISA-M;SOXKRQCEVFGBCM-WCCKRBBISA-N;PJSMJIFOGLEATM-UHFFFAOYSA-N"
        ],
        [
         "37",
         "CIDm00000048",
         "COJBGNAUUSNXHX-UHFFFAOYSA-M;COJBGNAUUSNXHX-UHFFFAOYSA-N"
        ],
        [
         "38",
         "CIDm00000049",
         "QHKABHOOEWYVLI-DOMIDYPGSA-N;QHKABHOOEWYVLI-XPULMUKRSA-N;QHKABHOOEWYVLI-ZDOIIHCHSA-N;QHKABHOOEWYVLI-LGVNANJFSA-N;QHKABHOOEWYVLI-HZPPXAECSA-N;QHKABHOOEWYVLI-WUNUACLRSA-N;QHKABHOOEWYVLI-URIFWVMJSA-N;QHKABHOOEWYVLI-SHQABOBASA-N;GBDYFKJWMRCPOS-UHFFFAOYSA-L;WIQBZDCJCRFGKA-AWQJXPNKSA-M;WIQBZDCJCRFGKA-VQUYYKNDSA-M;WIQBZDCJCRFGKA-CKHMYQJJSA-M;WIQBZDCJCRFGKA-SSBGHZRHSA-M;WIQBZDCJCRFGKA-YVAKGFCFSA-M;WIQBZDCJCRFGKA-XCPSOYJTSA-M;ZXZOMLSRJKRZSY-UHFFFAOYSA-M;WIQBZDCJCRFGKA-UHFFFAOYSA-M;QIOSXEZNQUYWGM-UHFFFAOYSA-N;WIQBZDCJCRFGKA-JFGXUQBHSA-M;QHKABHOOEWYVLI-CVMUNTFWSA-N;WIQBZDCJCRFGKA-RFQDWOGUSA-M;QHKABHOOEWYVLI-WFVSFCRTSA-N;WIQBZDCJCRFGKA-LCPCAMBZSA-M;QHKABHOOEWYVLI-LQRAVQAFSA-N;WIQBZDCJCRFGKA-MLIDLTAPSA-M;QHKABHOOEWYVLI-QLFDWDDVSA-N;QHKABHOOEWYVLI-UHFFFAOYSA-N;JPOBZCZHPPLFGQ-UHFFFAOYSA-N;IMZGMVJQWNJKCI-UHFFFAOYSA-L;LTLGJFDNIYJNON-UHFFFAOYSA-L;QHKABHOOEWYVLI-UHFFFAOYSA-M;QHKABHOOEWYVLI-NJFSPNSNSA-N;WIQBZDCJCRFGKA-UHFFFAOYSA-N;WIQBZDCJCRFGKA-YTBWXGASSA-M;QHKABHOOEWYVLI-OUBTZVSYSA-N;WIQBZDCJCRFGKA-TUGXDYHQSA-M;QHKABHOOEWYVLI-NDYLVSJFSA-N;PGCNKYBBFKQNIR-KIGHCJKZSA-M;WDGQLCHRBAMSMQ-UHFFFAOYSA-L;ZYUOMWUHRSDZMY-UHFFFAOYSA-N;ZYUOMWUHRSDZMY-MLIDLTAPSA-N;VPEKFOQZFCDXQN-UHFFFAOYSA-N;NLRKVDJWPHEPEN-UHFFFAOYSA-N;MVLHSADGWKVXMN-UHFFFAOYSA-N;WUHHWFKCLGLGSD-UHFFFAOYSA-N"
        ],
        [
         "39",
         "CIDm00000050",
         "KTYNZNMXHQMUDG-UHFFFAOYSA-N;VBUYCZFBVCCYFD-PZGQECOJSA-N;VBUYCZFBVCCYFD-YVZJFKFKSA-N;VBUYCZFBVCCYFD-NUNKFHFFSA-N;NNLOHLDVJGPUFR-UHFFFAOYSA-L;VBUYCZFBVCCYFD-FLRLBIABSA-N;AJDGHHWRQQMMDK-HAYYNCRMSA-N;LBTJSFDOKRLTMQ-LWDDDOIUSA-L;VBUYCZFBVCCYFD-HERZVMAMSA-N;VWVXLECPIBKEGS-KJIPWXGKSA-L;VBUYCZFBVCCYFD-UZBSEBFBSA-M;VBUYCZFBVCCYFD-BXXZVTAOSA-N;VBUYCZFBVCCYFD-UHFFFAOYSA-M;VBUYCZFBVCCYFD-FLRLBIABSA-M;OFCZUBZXJNUXBT-PSRPMNHMSA-M;OFCZUBZXJNUXBT-UHFFFAOYSA-M;OFCZUBZXJNUXBT-HAYYNCRMSA-M;SUNXHKCHCYXQAB-MQVWHAGFSA-M;OFCZUBZXJNUXBT-VGFCZBDGSA-M;SUNXHKCHCYXQAB-OBSQOUOUSA-M;AJDGHHWRQQMMDK-PSRPMNHMSA-M;NNLOHLDVJGPUFR-JQTJLMCZSA-L;VBUYCZFBVCCYFD-JJYYJPOSSA-N;NNLOHLDVJGPUFR-GUHQSNPFSA-L;VBUYCZFBVCCYFD-UHFFFAOYSA-N;AJDGHHWRQQMMDK-UHFFFAOYSA-N;VBUYCZFBVCCYFD-FJWSOENFSA-N;VBUYCZFBVCCYFD-MOFWRKPESA-N;VBUYCZFBVCCYFD-VEYOPFOISA-N;VBUYCZFBVCCYFD-WPGAPCHPSA-N;VBUYCZFBVCCYFD-RQBBNWJYSA-N;VBUYCZFBVCCYFD-UZBSEBFBSA-N;VBUYCZFBVCCYFD-JJYYJPOSSA-M;VBUYCZFBVCCYFD-NUNKFHFFSA-M;KTYNZNMXHQMUDG-VGFCZBDGSA-M;VWVXLECPIBKEGS-UHFFFAOYSA-L;SUNXHKCHCYXQAB-UHFFFAOYSA-M;AJDGHHWRQQMMDK-UHFFFAOYSA-M;OFCZUBZXJNUXBT-RROVWVHZSA-M;VBUYCZFBVCCYFD-YOQWALOYSA-N;GSJDIAAPZJURPZ-FLAXPJCKSA-M"
        ],
        [
         "40",
         "CIDm00000051",
         "XTCZBVVKDHLWKU-UHFFFAOYSA-N;KPGXRSRHYNQIFN-NLQHJZJRSA-N;KPGXRSRHYNQIFN-HOSYLAQJSA-N;MQTJHYQVPBNOHT-UHFFFAOYSA-N;KPGXRSRHYNQIFN-NDLBAUGKSA-N;KPGXRSRHYNQIFN-ZKDXJZICSA-N;KPGXRSRHYNQIFN-DICFDUPASA-N;KPGXRSRHYNQIFN-ZIEKVONGSA-N;KMXFRXLEEMEGTM-UHFFFAOYSA-N;GPRYXSKURSLOCH-UHFFFAOYSA-N;KPGXRSRHYNQIFN-UHFFFAOYSA-L;VTYGSWGUBDXCRA-UHFFFAOYSA-L;JTEMSQSJWPFJHM-UHFFFAOYSA-N;MOTOGHHLNTXPTI-UHFFFAOYSA-L;WLTFPWASULFHBK-UHFFFAOYSA-L;MOTOGHHLNTXPTI-UHFFFAOYSA-M;HSSWOFWCOAQLHZ-UHFFFAOYSA-L;XTCZBVVKDHLWKU-UHFFFAOYSA-M;YBGBJYVHJTVUSL-UHFFFAOYSA-L;LADYPAWUSNPKJF-UHFFFAOYSA-L;WSKWESCCQFXQKT-UHFFFAOYSA-N;VWPLIFKKLCVFCQ-UHFFFAOYSA-L;KPGXRSRHYNQIFN-UHFFFAOYSA-N;KPGXRSRHYNQIFN-UHFFFAOYSA-M;GJSSPGFIYUGPKI-UHFFFAOYSA-N;LADYPAWUSNPKJF-UHFFFAOYSA-N;CTZMEEFAESNLPN-UHFFFAOYSA-N;KPGXRSRHYNQIFN-DTDGFSOZSA-N;XTCZBVVKDHLWKU-UHFFFAOYSA-L;YBGBJYVHJTVUSL-SOMWUVDVSA-L;KPGXRSRHYNQIFN-RHRFEJLCSA-N;FECNVDHIIJYRIA-UHFFFAOYSA-N;TWPAUQVDOXJGMP-UHFFFAOYSA-N;WLTFPWASULFHBK-UHFFFAOYSA-N;CLGFMNVBZFTJEN-WLHGVMLRSA-N;JYBUGCXSTIVXQF-UHFFFAOYSA-N;YBGBJYVHJTVUSL-YVWYSLORSA-L;KPGXRSRHYNQIFN-YZRHJBSPSA-N;JEHQQQPXAKVYAR-UHFFFAOYSA-N;KPGXRSRHYNQIFN-VMNATFBRSA-N;FSTQIFDLAGHANX-UHFFFAOYSA-N;KAKVUJUFLAFRKG-UHFFFAOYSA-N;WSKWESCCQFXQKT-UHFFFAOYSA-L;MOTOGHHLNTXPTI-UHFFFAOYSA-N"
        ],
        [
         "41",
         "CIDm00000052",
         "PEKYNTFSOBAABV-LQUDNSJZSA-N;PEKYNTFSOBAABV-UHFFFAOYSA-J;PEKYNTFSOBAABV-SYASONGASA-N;PEKYNTFSOBAABV-LQUDNSJZSA-J;PEKYNTFSOBAABV-UHFFFAOYSA-N;PEKYNTFSOBAABV-OXFTYAHUSA-N;PEKYNTFSOBAABV-DRKQWXRASA-N;PEKYNTFSOBAABV-OXFTYAHUSA-J"
        ],
        [
         "42",
         "CIDm00000053",
         "NHNODHRSCRALBF-NQNBQJKNSA-N;NHNODHRSCRALBF-JGCWONBBSA-N;NHNODHRSCRALBF-UHFFFAOYSA-J;NHNODHRSCRALBF-ONLWQYEKSA-N;NHNODHRSCRALBF-NQNBQJKNSA-J;NHNODHRSCRALBF-UHFFFAOYSA-N"
        ],
        [
         "43",
         "CIDm00000054",
         "LYNVNYDEQMMNMZ-XGXNYEOVSA-N;LYNVNYDEQMMNMZ-HAJVGUKYSA-N;LYNVNYDEQMMNMZ-UHFFFAOYSA-J;LYNVNYDEQMMNMZ-PCLZRLGGSA-N;LYNVNYDEQMMNMZ-XGXNYEOVSA-J;LYNVNYDEQMMNMZ-UHFFFAOYSA-N;LYNVNYDEQMMNMZ-JRQZLUQRSA-N;LYNVNYDEQMMNMZ-WLYBIZNKSA-N"
        ],
        [
         "44",
         "CIDm00000057",
         "VUNQJPPPTJIREN-CMAXTTDKSA-N;VUNQJPPPTJIREN-UHFFFAOYSA-N"
        ],
        [
         "45",
         "CIDm00000058",
         "TYEYBOSBBBHJIV-ZDOIIHCHSA-N;TYEYBOSBBBHJIV-NJFSPNSNSA-N;TYEYBOSBBBHJIV-LBPDFUHNSA-N;TYEYBOSBBBHJIV-OUBTZVSYSA-N;TYEYBOSBBBHJIV-CBTSVUPCSA-N;BNTSLQXEBHEYGL-UHFFFAOYSA-L;PIIRUKIWMIWMMN-UHFFFAOYSA-L;TYEYBOSBBBHJIV-FNRORTFOSA-N;TYEYBOSBBBHJIV-GVQBGUMBSA-N;TYEYBOSBBBHJIV-WGVGGRBOSA-N;TYEYBOSBBBHJIV-VVKOMZTBSA-N;VSSKPKVPRKKLLV-UHFFFAOYSA-L;JBMLLDIVHGRCJI-UHFFFAOYSA-M;QBFKVIRDRRRGJZ-UHFFFAOYSA-N;QSAWMRZVJXPTQQ-UHFFFAOYSA-M;SUAMAHKUSIHRMR-UHFFFAOYSA-M;PVLJVKQSCAHPPR-UHFFFAOYSA-M;PVLJVKQSCAHPPR-GOCMCNPZSA-M;SUAMAHKUSIHRMR-ASMGDNRJSA-M;PVLJVKQSCAHPPR-WVMSAXHDSA-M;SUAMAHKUSIHRMR-YSJJXQNZSA-M;PVLJVKQSCAHPPR-WNCGAKQTSA-M;TYEYBOSBBBHJIV-UHFFFAOYSA-M;SUAMAHKUSIHRMR-KQJMWJMRSA-M;SUAMAHKUSIHRMR-IYPYQTRPSA-M;TYEYBOSBBBHJIV-DVWNSKMASA-N;TYEYBOSBBBHJIV-UHFFFAOYSA-N;PVLJVKQSCAHPPR-FMPZBJQLSA-M;PVLJVKQSCAHPPR-QLLNYKDXSA-M;TYEYBOSBBBHJIV-JCDJMFQYSA-N;XLTHMCKKCRLNGQ-UHFFFAOYSA-N;TYEYBOSBBBHJIV-OJOHWHDRSA-N;NKTYGLHNHFKEAY-UHFFFAOYSA-N;XLDYKDRDRAORPD-CVISYENBSA-N;TYEYBOSBBBHJIV-FQQBZDRFSA-N;SUAMAHKUSIHRMR-YTBWXGASSA-M;YNYYBBDLSWBPKY-UHFFFAOYSA-N;NHIPWRJTZCAEJA-UHFFFAOYSA-N;GEMRIYZJBMIBDA-UHFFFAOYSA-N;CAQQZHKUBAJCQH-UHFFFAOYSA-N;KZAJIIPFDGNRAX-UHFFFAOYSA-N;JDBGVEZLERJLSO-UHFFFAOYSA-N;TYEYBOSBBBHJIV-VWNJCJTFSA-N;HRFHEBSJTFRQPT-UHFFFAOYSA-M;TYEYBOSBBBHJIV-XPULMUKRSA-N"
        ],
        [
         "46",
         "CIDm00000059",
         "GXIURPTVHJPJLF-REOHCLBHSA-K;GXIURPTVHJPJLF-UWTATZPHSA-K;GXIURPTVHJPJLF-UWTATZPHSA-N;GXIURPTVHJPJLF-REOHCLBHSA-N;GXIURPTVHJPJLF-UHFFFAOYSA-L;MFNPEWUYSSUSOD-QYUNTSNKSA-K;GXIURPTVHJPJLF-UHFFFAOYSA-N;GXIURPTVHJPJLF-UHFFFAOYSA-K;VQNAIZNPWBGZNQ-SQGDDOFFSA-L;MFNPEWUYSSUSOD-UHFFFAOYSA-K;FDCUSZSRIXDPHE-UHFFFAOYSA-M;VQNAIZNPWBGZNQ-QYUNTSNKSA-L"
        ],
        [
         "47",
         "CIDm00000060",
         "HTJXTKBIUVFUAR-ZQBZNSGISA-N;HTJXTKBIUVFUAR-XHIBXCGHSA-N;HTJXTKBIUVFUAR-XHIBXCGHSA-J;HTJXTKBIUVFUAR-GSNOWDBKSA-N;HTJXTKBIUVFUAR-UHFFFAOYSA-N;HTJXTKBIUVFUAR-UHFFFAOYSA-J"
        ],
        [
         "48",
         "CIDm00000061",
         "VYCPLSQDXLSXBN-HSHFZTNMSA-N;XOHUEYCVLUUEJJ-UHFFFAOYSA-M;XOHUEYCVLUUEJJ-UWTATZPHSA-N;XOHUEYCVLUUEJJ-UWTATZPHSA-M;XOHUEYCVLUUEJJ-UHFFFAOYSA-J;XOHUEYCVLUUEJJ-UWTATZPHSA-I;KPRMRMXBVAUXKZ-WXQRJNCRSA-I;XOHUEYCVLUUEJJ-REOHCLBHSA-N;XOHUEYCVLUUEJJ-UHFFFAOYSA-N;ZXFOGQVQLKNULT-HSHFZTNMSA-I;KPRMRMXBVAUXKZ-UHFFFAOYSA-I;ASKITCLNMQYVSR-UHFFFAOYSA-N;XOHUEYCVLUUEJJ-UHFFFAOYSA-I"
        ],
        [
         "49",
         "CIDm00000063",
         "PCEJMSIIDXUDSN-IMJSIDKUSA-N;PCEJMSIIDXUDSN-BKLSDQPFSA-N;PCEJMSIIDXUDSN-IUYQGCFVSA-N;PCEJMSIIDXUDSN-IUYQGCFVSA-O;PCEJMSIIDXUDSN-IMJSIDKUSA-O;PCEJMSIIDXUDSN-DMTCNVIQSA-O;PCEJMSIIDXUDSN-UHFFFAOYSA-O;PCEJMSIIDXUDSN-IUYQGCFVSA-M;PCEJMSIIDXUDSN-UHFFFAOYSA-M;PCEJMSIIDXUDSN-UHFFFAOYSA-N;PCEJMSIIDXUDSN-DMTCNVIQSA-N"
        ]
       ],
       "shape": {
        "columns": 2,
        "rows": 374280
       }
      },
      "text/html": [
       "<div>\n",
       "<style scoped>\n",
       "    .dataframe tbody tr th:only-of-type {\n",
       "        vertical-align: middle;\n",
       "    }\n",
       "\n",
       "    .dataframe tbody tr th {\n",
       "        vertical-align: top;\n",
       "    }\n",
       "\n",
       "    .dataframe thead th {\n",
       "        text-align: right;\n",
       "    }\n",
       "</style>\n",
       "<table border=\"1\" class=\"dataframe\">\n",
       "  <thead>\n",
       "    <tr style=\"text-align: right;\">\n",
       "      <th></th>\n",
       "      <th>flat_chemical_id</th>\n",
       "      <th>inchikey</th>\n",
       "    </tr>\n",
       "  </thead>\n",
       "  <tbody>\n",
       "    <tr>\n",
       "      <th>0</th>\n",
       "      <td>CIDm00000001</td>\n",
       "      <td>RDHQFKQIGNGIED-UHFFFAOYSA-N;ZIUSCUAKYGIGBA-DDW...</td>\n",
       "    </tr>\n",
       "    <tr>\n",
       "      <th>1</th>\n",
       "      <td>CIDm00000003</td>\n",
       "      <td>INCSWYKICIYAHB-UHFFFAOYSA-M;INCSWYKICIYAHB-PHD...</td>\n",
       "    </tr>\n",
       "    <tr>\n",
       "      <th>2</th>\n",
       "      <td>CIDm00000004</td>\n",
       "      <td>HXKKHQJGJAFBHI-AZXPZELESA-N;HXKKHQJGJAFBHI-UHF...</td>\n",
       "    </tr>\n",
       "    <tr>\n",
       "      <th>3</th>\n",
       "      <td>CIDm00000005</td>\n",
       "      <td>HIQNVODXENYOFK-UHFFFAOYSA-M;HIQNVODXENYOFK-UHF...</td>\n",
       "    </tr>\n",
       "    <tr>\n",
       "      <th>4</th>\n",
       "      <td>CIDm00000006</td>\n",
       "      <td>VYZAHLCBVHPDDF-UHFFFAOYSA-N;VYZAHLCBVHPDDF-CBY...</td>\n",
       "    </tr>\n",
       "    <tr>\n",
       "      <th>...</th>\n",
       "      <td>...</td>\n",
       "      <td>...</td>\n",
       "    </tr>\n",
       "    <tr>\n",
       "      <th>374275</th>\n",
       "      <td>CIDm91758404</td>\n",
       "      <td>JEPZJYPEDPLQFU-INIZCTEOSA-N;JEPZJYPEDPLQFU-MRX...</td>\n",
       "    </tr>\n",
       "    <tr>\n",
       "      <th>374276</th>\n",
       "      <td>CIDm91758406</td>\n",
       "      <td>HLTDAXDZGPBJTI-UHFFFAOYSA-N</td>\n",
       "    </tr>\n",
       "    <tr>\n",
       "      <th>374277</th>\n",
       "      <td>CIDm91758407</td>\n",
       "      <td>OYYNQAPQYQZOFQ-UHFFFAOYSA-N</td>\n",
       "    </tr>\n",
       "    <tr>\n",
       "      <th>374278</th>\n",
       "      <td>CIDm91758408</td>\n",
       "      <td>AZJRSFUJNQNLRC-UHFFFAOYSA-N</td>\n",
       "    </tr>\n",
       "    <tr>\n",
       "      <th>374279</th>\n",
       "      <td>CIDm91758680</td>\n",
       "      <td>DMDVEPIJCJGHPE-UHFFFAOYSA-K</td>\n",
       "    </tr>\n",
       "  </tbody>\n",
       "</table>\n",
       "<p>374280 rows × 2 columns</p>\n",
       "</div>"
      ],
      "text/plain": [
       "       flat_chemical_id                                           inchikey\n",
       "0          CIDm00000001  RDHQFKQIGNGIED-UHFFFAOYSA-N;ZIUSCUAKYGIGBA-DDW...\n",
       "1          CIDm00000003  INCSWYKICIYAHB-UHFFFAOYSA-M;INCSWYKICIYAHB-PHD...\n",
       "2          CIDm00000004  HXKKHQJGJAFBHI-AZXPZELESA-N;HXKKHQJGJAFBHI-UHF...\n",
       "3          CIDm00000005  HIQNVODXENYOFK-UHFFFAOYSA-M;HIQNVODXENYOFK-UHF...\n",
       "4          CIDm00000006  VYZAHLCBVHPDDF-UHFFFAOYSA-N;VYZAHLCBVHPDDF-CBY...\n",
       "...                 ...                                                ...\n",
       "374275     CIDm91758404  JEPZJYPEDPLQFU-INIZCTEOSA-N;JEPZJYPEDPLQFU-MRX...\n",
       "374276     CIDm91758406                        HLTDAXDZGPBJTI-UHFFFAOYSA-N\n",
       "374277     CIDm91758407                        OYYNQAPQYQZOFQ-UHFFFAOYSA-N\n",
       "374278     CIDm91758408                        AZJRSFUJNQNLRC-UHFFFAOYSA-N\n",
       "374279     CIDm91758680                        DMDVEPIJCJGHPE-UHFFFAOYSA-K\n",
       "\n",
       "[374280 rows x 2 columns]"
      ]
     },
     "execution_count": 4,
     "metadata": {},
     "output_type": "execute_result"
    }
   ],
   "source": [
    "stitch_inchikey = stitch_inchikey[stitch_inchikey['flat_chemical_id'].isin(stitch['chemical'])]\n",
    "stitch_inchikey = stitch_inchikey[['flat_chemical_id', 'inchikey']]\n",
    "stitch_inchikey = stitch_inchikey.drop_duplicates()\n",
    "stitch_inchikey = stitch_inchikey.groupby('flat_chemical_id')['inchikey'].agg(lambda x: ';'.join(x)).reset_index()\n",
    "stitch_inchikey"
   ]
  },
  {
   "cell_type": "code",
   "execution_count": 5,
   "metadata": {},
   "outputs": [
    {
     "data": {
      "application/vnd.microsoft.datawrangler.viewer.v0+json": {
       "columns": [
        {
         "name": "index",
         "rawType": "int64",
         "type": "integer"
        },
        {
         "name": "chemical",
         "rawType": "object",
         "type": "string"
        },
        {
         "name": "protein",
         "rawType": "object",
         "type": "string"
        },
        {
         "name": "inchikey",
         "rawType": "object",
         "type": "unknown"
        }
       ],
       "conversionMethod": "pd.DataFrame",
       "ref": "defbee51-24be-47c7-810b-4052f454aa5a",
       "rows": [
        [
         "0",
         "CIDm91758680",
         "9606.ENSP00000257254",
         "DMDVEPIJCJGHPE-UHFFFAOYSA-K"
        ],
        [
         "1",
         "CIDm91758680",
         "9606.ENSP00000302120",
         "DMDVEPIJCJGHPE-UHFFFAOYSA-K"
        ],
        [
         "2",
         "CIDm91758408",
         "9606.ENSP00000006777",
         "AZJRSFUJNQNLRC-UHFFFAOYSA-N"
        ],
        [
         "3",
         "CIDm91758408",
         "9606.ENSP00000056217",
         "AZJRSFUJNQNLRC-UHFFFAOYSA-N"
        ],
        [
         "4",
         "CIDm91758408",
         "9606.ENSP00000216085",
         "AZJRSFUJNQNLRC-UHFFFAOYSA-N"
        ],
        [
         "5",
         "CIDm91758408",
         "9606.ENSP00000221740",
         "AZJRSFUJNQNLRC-UHFFFAOYSA-N"
        ],
        [
         "6",
         "CIDm91758408",
         "9606.ENSP00000235329",
         "AZJRSFUJNQNLRC-UHFFFAOYSA-N"
        ],
        [
         "7",
         "CIDm91758408",
         "9606.ENSP00000259791",
         "AZJRSFUJNQNLRC-UHFFFAOYSA-N"
        ],
        [
         "8",
         "CIDm91758408",
         "9606.ENSP00000262366",
         "AZJRSFUJNQNLRC-UHFFFAOYSA-N"
        ],
        [
         "9",
         "CIDm91758408",
         "9606.ENSP00000262794",
         "AZJRSFUJNQNLRC-UHFFFAOYSA-N"
        ],
        [
         "10",
         "CIDm91758408",
         "9606.ENSP00000263969",
         "AZJRSFUJNQNLRC-UHFFFAOYSA-N"
        ],
        [
         "11",
         "CIDm91758408",
         "9606.ENSP00000265164",
         "AZJRSFUJNQNLRC-UHFFFAOYSA-N"
        ],
        [
         "12",
         "CIDm91758408",
         "9606.ENSP00000265689",
         "AZJRSFUJNQNLRC-UHFFFAOYSA-N"
        ],
        [
         "13",
         "CIDm91758408",
         "9606.ENSP00000266517",
         "AZJRSFUJNQNLRC-UHFFFAOYSA-N"
        ],
        [
         "14",
         "CIDm91758408",
         "9606.ENSP00000270747",
         "AZJRSFUJNQNLRC-UHFFFAOYSA-N"
        ],
        [
         "15",
         "CIDm91758408",
         "9606.ENSP00000284320",
         "AZJRSFUJNQNLRC-UHFFFAOYSA-N"
        ],
        [
         "16",
         "CIDm91758408",
         "9606.ENSP00000286186",
         "AZJRSFUJNQNLRC-UHFFFAOYSA-N"
        ],
        [
         "17",
         "CIDm91758408",
         "9606.ENSP00000296805",
         "AZJRSFUJNQNLRC-UHFFFAOYSA-N"
        ],
        [
         "18",
         "CIDm91758408",
         "9606.ENSP00000297012",
         "AZJRSFUJNQNLRC-UHFFFAOYSA-N"
        ],
        [
         "19",
         "CIDm91758408",
         "9606.ENSP00000311032",
         "AZJRSFUJNQNLRC-UHFFFAOYSA-N"
        ],
        [
         "20",
         "CIDm91758408",
         "9606.ENSP00000312455",
         "AZJRSFUJNQNLRC-UHFFFAOYSA-N"
        ],
        [
         "21",
         "CIDm91758408",
         "9606.ENSP00000312664",
         "AZJRSFUJNQNLRC-UHFFFAOYSA-N"
        ],
        [
         "22",
         "CIDm91758408",
         "9606.ENSP00000321389",
         "AZJRSFUJNQNLRC-UHFFFAOYSA-N"
        ],
        [
         "23",
         "CIDm91758408",
         "9606.ENSP00000325421",
         "AZJRSFUJNQNLRC-UHFFFAOYSA-N"
        ],
        [
         "24",
         "CIDm91758408",
         "9606.ENSP00000328484",
         "AZJRSFUJNQNLRC-UHFFFAOYSA-N"
        ],
        [
         "25",
         "CIDm91758408",
         "9606.ENSP00000330237",
         "AZJRSFUJNQNLRC-UHFFFAOYSA-N"
        ],
        [
         "26",
         "CIDm91758408",
         "9606.ENSP00000330307",
         "AZJRSFUJNQNLRC-UHFFFAOYSA-N"
        ],
        [
         "27",
         "CIDm91758408",
         "9606.ENSP00000332790",
         "AZJRSFUJNQNLRC-UHFFFAOYSA-N"
        ],
        [
         "28",
         "CIDm91758408",
         "9606.ENSP00000341094",
         "AZJRSFUJNQNLRC-UHFFFAOYSA-N"
        ],
        [
         "29",
         "CIDm91758408",
         "9606.ENSP00000344779",
         "AZJRSFUJNQNLRC-UHFFFAOYSA-N"
        ],
        [
         "30",
         "CIDm91758408",
         "9606.ENSP00000351273",
         "AZJRSFUJNQNLRC-UHFFFAOYSA-N"
        ],
        [
         "31",
         "CIDm91758408",
         "9606.ENSP00000352572",
         "AZJRSFUJNQNLRC-UHFFFAOYSA-N"
        ],
        [
         "32",
         "CIDm91758408",
         "9606.ENSP00000353660",
         "AZJRSFUJNQNLRC-UHFFFAOYSA-N"
        ],
        [
         "33",
         "CIDm91758408",
         "9606.ENSP00000354681",
         "AZJRSFUJNQNLRC-UHFFFAOYSA-N"
        ],
        [
         "34",
         "CIDm91758408",
         "9606.ENSP00000355656",
         "AZJRSFUJNQNLRC-UHFFFAOYSA-N"
        ],
        [
         "35",
         "CIDm91758408",
         "9606.ENSP00000356022",
         "AZJRSFUJNQNLRC-UHFFFAOYSA-N"
        ],
        [
         "36",
         "CIDm91758408",
         "9606.ENSP00000356170",
         "AZJRSFUJNQNLRC-UHFFFAOYSA-N"
        ],
        [
         "37",
         "CIDm91758408",
         "9606.ENSP00000357051",
         "AZJRSFUJNQNLRC-UHFFFAOYSA-N"
        ],
        [
         "38",
         "CIDm91758408",
         "9606.ENSP00000358155",
         "AZJRSFUJNQNLRC-UHFFFAOYSA-N"
        ],
        [
         "39",
         "CIDm91758408",
         "9606.ENSP00000358327",
         "AZJRSFUJNQNLRC-UHFFFAOYSA-N"
        ],
        [
         "40",
         "CIDm91758408",
         "9606.ENSP00000364310",
         "AZJRSFUJNQNLRC-UHFFFAOYSA-N"
        ],
        [
         "41",
         "CIDm91758408",
         "9606.ENSP00000364858",
         "AZJRSFUJNQNLRC-UHFFFAOYSA-N"
        ],
        [
         "42",
         "CIDm91758408",
         "9606.ENSP00000364859",
         "AZJRSFUJNQNLRC-UHFFFAOYSA-N"
        ],
        [
         "43",
         "CIDm91758408",
         "9606.ENSP00000367355",
         "AZJRSFUJNQNLRC-UHFFFAOYSA-N"
        ],
        [
         "44",
         "CIDm91758408",
         "9606.ENSP00000373730",
         "AZJRSFUJNQNLRC-UHFFFAOYSA-N"
        ],
        [
         "45",
         "CIDm91758408",
         "9606.ENSP00000375767",
         "AZJRSFUJNQNLRC-UHFFFAOYSA-N"
        ],
        [
         "46",
         "CIDm91758408",
         "9606.ENSP00000376849",
         "AZJRSFUJNQNLRC-UHFFFAOYSA-N"
        ],
        [
         "47",
         "CIDm91758408",
         "9606.ENSP00000384400",
         "AZJRSFUJNQNLRC-UHFFFAOYSA-N"
        ],
        [
         "48",
         "CIDm91758408",
         "9606.ENSP00000388566",
         "AZJRSFUJNQNLRC-UHFFFAOYSA-N"
        ],
        [
         "49",
         "CIDm91758408",
         "9606.ENSP00000400592",
         "AZJRSFUJNQNLRC-UHFFFAOYSA-N"
        ]
       ],
       "shape": {
        "columns": 3,
        "rows": 15473939
       }
      },
      "text/html": [
       "<div>\n",
       "<style scoped>\n",
       "    .dataframe tbody tr th:only-of-type {\n",
       "        vertical-align: middle;\n",
       "    }\n",
       "\n",
       "    .dataframe tbody tr th {\n",
       "        vertical-align: top;\n",
       "    }\n",
       "\n",
       "    .dataframe thead th {\n",
       "        text-align: right;\n",
       "    }\n",
       "</style>\n",
       "<table border=\"1\" class=\"dataframe\">\n",
       "  <thead>\n",
       "    <tr style=\"text-align: right;\">\n",
       "      <th></th>\n",
       "      <th>chemical</th>\n",
       "      <th>protein</th>\n",
       "      <th>inchikey</th>\n",
       "    </tr>\n",
       "  </thead>\n",
       "  <tbody>\n",
       "    <tr>\n",
       "      <th>0</th>\n",
       "      <td>CIDm91758680</td>\n",
       "      <td>9606.ENSP00000257254</td>\n",
       "      <td>DMDVEPIJCJGHPE-UHFFFAOYSA-K</td>\n",
       "    </tr>\n",
       "    <tr>\n",
       "      <th>1</th>\n",
       "      <td>CIDm91758680</td>\n",
       "      <td>9606.ENSP00000302120</td>\n",
       "      <td>DMDVEPIJCJGHPE-UHFFFAOYSA-K</td>\n",
       "    </tr>\n",
       "    <tr>\n",
       "      <th>2</th>\n",
       "      <td>CIDm91758408</td>\n",
       "      <td>9606.ENSP00000006777</td>\n",
       "      <td>AZJRSFUJNQNLRC-UHFFFAOYSA-N</td>\n",
       "    </tr>\n",
       "    <tr>\n",
       "      <th>3</th>\n",
       "      <td>CIDm91758408</td>\n",
       "      <td>9606.ENSP00000056217</td>\n",
       "      <td>AZJRSFUJNQNLRC-UHFFFAOYSA-N</td>\n",
       "    </tr>\n",
       "    <tr>\n",
       "      <th>4</th>\n",
       "      <td>CIDm91758408</td>\n",
       "      <td>9606.ENSP00000216085</td>\n",
       "      <td>AZJRSFUJNQNLRC-UHFFFAOYSA-N</td>\n",
       "    </tr>\n",
       "    <tr>\n",
       "      <th>...</th>\n",
       "      <td>...</td>\n",
       "      <td>...</td>\n",
       "      <td>...</td>\n",
       "    </tr>\n",
       "    <tr>\n",
       "      <th>15473934</th>\n",
       "      <td>CIDs00000001</td>\n",
       "      <td>9606.ENSP00000420588</td>\n",
       "      <td>NaN</td>\n",
       "    </tr>\n",
       "    <tr>\n",
       "      <th>15473935</th>\n",
       "      <td>CIDs00000001</td>\n",
       "      <td>9606.ENSP00000436585</td>\n",
       "      <td>NaN</td>\n",
       "    </tr>\n",
       "    <tr>\n",
       "      <th>15473936</th>\n",
       "      <td>CIDs00000001</td>\n",
       "      <td>9606.ENSP00000438144</td>\n",
       "      <td>NaN</td>\n",
       "    </tr>\n",
       "    <tr>\n",
       "      <th>15473937</th>\n",
       "      <td>CIDs00000001</td>\n",
       "      <td>9606.ENSP00000448165</td>\n",
       "      <td>NaN</td>\n",
       "    </tr>\n",
       "    <tr>\n",
       "      <th>15473938</th>\n",
       "      <td>CIDs00000001</td>\n",
       "      <td>9606.ENSP00000453129</td>\n",
       "      <td>NaN</td>\n",
       "    </tr>\n",
       "  </tbody>\n",
       "</table>\n",
       "<p>15473939 rows × 3 columns</p>\n",
       "</div>"
      ],
      "text/plain": [
       "              chemical               protein                     inchikey\n",
       "0         CIDm91758680  9606.ENSP00000257254  DMDVEPIJCJGHPE-UHFFFAOYSA-K\n",
       "1         CIDm91758680  9606.ENSP00000302120  DMDVEPIJCJGHPE-UHFFFAOYSA-K\n",
       "2         CIDm91758408  9606.ENSP00000006777  AZJRSFUJNQNLRC-UHFFFAOYSA-N\n",
       "3         CIDm91758408  9606.ENSP00000056217  AZJRSFUJNQNLRC-UHFFFAOYSA-N\n",
       "4         CIDm91758408  9606.ENSP00000216085  AZJRSFUJNQNLRC-UHFFFAOYSA-N\n",
       "...                ...                   ...                          ...\n",
       "15473934  CIDs00000001  9606.ENSP00000420588                          NaN\n",
       "15473935  CIDs00000001  9606.ENSP00000436585                          NaN\n",
       "15473936  CIDs00000001  9606.ENSP00000438144                          NaN\n",
       "15473937  CIDs00000001  9606.ENSP00000448165                          NaN\n",
       "15473938  CIDs00000001  9606.ENSP00000453129                          NaN\n",
       "\n",
       "[15473939 rows x 3 columns]"
      ]
     },
     "execution_count": 5,
     "metadata": {},
     "output_type": "execute_result"
    }
   ],
   "source": [
    "stitch_chem_inchikey = pd.merge(stitch, stitch_inchikey, left_on='chemical', right_on='flat_chemical_id', how='left')\n",
    "stitch_chem_inchikey = stitch_chem_inchikey.drop(columns=['flat_chemical_id','combined_score'])\n",
    "stitch_chem_inchikey"
   ]
  },
  {
   "cell_type": "code",
   "execution_count": 6,
   "metadata": {},
   "outputs": [
    {
     "name": "stderr",
     "output_type": "stream",
     "text": [
      "C:\\Users\\shunn\\AppData\\Local\\Temp\\ipykernel_11016\\2281051668.py:7: SettingWithCopyWarning: \n",
      "A value is trying to be set on a copy of a slice from a DataFrame\n",
      "\n",
      "See the caveats in the documentation: https://pandas.pydata.org/pandas-docs/stable/user_guide/indexing.html#returning-a-view-versus-a-copy\n",
      "  stitch_filter.drop_duplicates(inplace=True)\n"
     ]
    },
    {
     "data": {
      "application/vnd.microsoft.datawrangler.viewer.v0+json": {
       "columns": [
        {
         "name": "index",
         "rawType": "int64",
         "type": "integer"
        },
        {
         "name": "Protein",
         "rawType": "object",
         "type": "string"
        },
        {
         "name": "CID",
         "rawType": "int64",
         "type": "integer"
        },
        {
         "name": "inchikey",
         "rawType": "object",
         "type": "unknown"
        }
       ],
       "conversionMethod": "pd.DataFrame",
       "ref": "db4deb41-b48e-4740-84cd-c241c250fc82",
       "rows": [
        [
         "0",
         "ENSP00000257254",
         "91758680",
         "DMDVEPIJCJGHPE-UHFFFAOYSA-K"
        ],
        [
         "1",
         "ENSP00000302120",
         "91758680",
         "DMDVEPIJCJGHPE-UHFFFAOYSA-K"
        ],
        [
         "2",
         "ENSP00000006777",
         "91758408",
         "AZJRSFUJNQNLRC-UHFFFAOYSA-N"
        ],
        [
         "3",
         "ENSP00000056217",
         "91758408",
         "AZJRSFUJNQNLRC-UHFFFAOYSA-N"
        ],
        [
         "4",
         "ENSP00000216085",
         "91758408",
         "AZJRSFUJNQNLRC-UHFFFAOYSA-N"
        ],
        [
         "5",
         "ENSP00000221740",
         "91758408",
         "AZJRSFUJNQNLRC-UHFFFAOYSA-N"
        ],
        [
         "6",
         "ENSP00000235329",
         "91758408",
         "AZJRSFUJNQNLRC-UHFFFAOYSA-N"
        ],
        [
         "7",
         "ENSP00000259791",
         "91758408",
         "AZJRSFUJNQNLRC-UHFFFAOYSA-N"
        ],
        [
         "8",
         "ENSP00000262366",
         "91758408",
         "AZJRSFUJNQNLRC-UHFFFAOYSA-N"
        ],
        [
         "9",
         "ENSP00000262794",
         "91758408",
         "AZJRSFUJNQNLRC-UHFFFAOYSA-N"
        ],
        [
         "10",
         "ENSP00000263969",
         "91758408",
         "AZJRSFUJNQNLRC-UHFFFAOYSA-N"
        ],
        [
         "11",
         "ENSP00000265164",
         "91758408",
         "AZJRSFUJNQNLRC-UHFFFAOYSA-N"
        ],
        [
         "12",
         "ENSP00000265689",
         "91758408",
         "AZJRSFUJNQNLRC-UHFFFAOYSA-N"
        ],
        [
         "13",
         "ENSP00000266517",
         "91758408",
         "AZJRSFUJNQNLRC-UHFFFAOYSA-N"
        ],
        [
         "14",
         "ENSP00000270747",
         "91758408",
         "AZJRSFUJNQNLRC-UHFFFAOYSA-N"
        ],
        [
         "15",
         "ENSP00000284320",
         "91758408",
         "AZJRSFUJNQNLRC-UHFFFAOYSA-N"
        ],
        [
         "16",
         "ENSP00000286186",
         "91758408",
         "AZJRSFUJNQNLRC-UHFFFAOYSA-N"
        ],
        [
         "17",
         "ENSP00000296805",
         "91758408",
         "AZJRSFUJNQNLRC-UHFFFAOYSA-N"
        ],
        [
         "18",
         "ENSP00000297012",
         "91758408",
         "AZJRSFUJNQNLRC-UHFFFAOYSA-N"
        ],
        [
         "19",
         "ENSP00000311032",
         "91758408",
         "AZJRSFUJNQNLRC-UHFFFAOYSA-N"
        ],
        [
         "20",
         "ENSP00000312455",
         "91758408",
         "AZJRSFUJNQNLRC-UHFFFAOYSA-N"
        ],
        [
         "21",
         "ENSP00000312664",
         "91758408",
         "AZJRSFUJNQNLRC-UHFFFAOYSA-N"
        ],
        [
         "22",
         "ENSP00000321389",
         "91758408",
         "AZJRSFUJNQNLRC-UHFFFAOYSA-N"
        ],
        [
         "23",
         "ENSP00000325421",
         "91758408",
         "AZJRSFUJNQNLRC-UHFFFAOYSA-N"
        ],
        [
         "24",
         "ENSP00000328484",
         "91758408",
         "AZJRSFUJNQNLRC-UHFFFAOYSA-N"
        ],
        [
         "25",
         "ENSP00000330237",
         "91758408",
         "AZJRSFUJNQNLRC-UHFFFAOYSA-N"
        ],
        [
         "26",
         "ENSP00000330307",
         "91758408",
         "AZJRSFUJNQNLRC-UHFFFAOYSA-N"
        ],
        [
         "27",
         "ENSP00000332790",
         "91758408",
         "AZJRSFUJNQNLRC-UHFFFAOYSA-N"
        ],
        [
         "28",
         "ENSP00000341094",
         "91758408",
         "AZJRSFUJNQNLRC-UHFFFAOYSA-N"
        ],
        [
         "29",
         "ENSP00000344779",
         "91758408",
         "AZJRSFUJNQNLRC-UHFFFAOYSA-N"
        ],
        [
         "30",
         "ENSP00000351273",
         "91758408",
         "AZJRSFUJNQNLRC-UHFFFAOYSA-N"
        ],
        [
         "31",
         "ENSP00000352572",
         "91758408",
         "AZJRSFUJNQNLRC-UHFFFAOYSA-N"
        ],
        [
         "32",
         "ENSP00000353660",
         "91758408",
         "AZJRSFUJNQNLRC-UHFFFAOYSA-N"
        ],
        [
         "33",
         "ENSP00000354681",
         "91758408",
         "AZJRSFUJNQNLRC-UHFFFAOYSA-N"
        ],
        [
         "34",
         "ENSP00000355656",
         "91758408",
         "AZJRSFUJNQNLRC-UHFFFAOYSA-N"
        ],
        [
         "35",
         "ENSP00000356022",
         "91758408",
         "AZJRSFUJNQNLRC-UHFFFAOYSA-N"
        ],
        [
         "36",
         "ENSP00000356170",
         "91758408",
         "AZJRSFUJNQNLRC-UHFFFAOYSA-N"
        ],
        [
         "37",
         "ENSP00000357051",
         "91758408",
         "AZJRSFUJNQNLRC-UHFFFAOYSA-N"
        ],
        [
         "38",
         "ENSP00000358155",
         "91758408",
         "AZJRSFUJNQNLRC-UHFFFAOYSA-N"
        ],
        [
         "39",
         "ENSP00000358327",
         "91758408",
         "AZJRSFUJNQNLRC-UHFFFAOYSA-N"
        ],
        [
         "40",
         "ENSP00000364310",
         "91758408",
         "AZJRSFUJNQNLRC-UHFFFAOYSA-N"
        ],
        [
         "41",
         "ENSP00000364858",
         "91758408",
         "AZJRSFUJNQNLRC-UHFFFAOYSA-N"
        ],
        [
         "42",
         "ENSP00000364859",
         "91758408",
         "AZJRSFUJNQNLRC-UHFFFAOYSA-N"
        ],
        [
         "43",
         "ENSP00000367355",
         "91758408",
         "AZJRSFUJNQNLRC-UHFFFAOYSA-N"
        ],
        [
         "44",
         "ENSP00000373730",
         "91758408",
         "AZJRSFUJNQNLRC-UHFFFAOYSA-N"
        ],
        [
         "45",
         "ENSP00000375767",
         "91758408",
         "AZJRSFUJNQNLRC-UHFFFAOYSA-N"
        ],
        [
         "46",
         "ENSP00000376849",
         "91758408",
         "AZJRSFUJNQNLRC-UHFFFAOYSA-N"
        ],
        [
         "47",
         "ENSP00000384400",
         "91758408",
         "AZJRSFUJNQNLRC-UHFFFAOYSA-N"
        ],
        [
         "48",
         "ENSP00000388566",
         "91758408",
         "AZJRSFUJNQNLRC-UHFFFAOYSA-N"
        ],
        [
         "49",
         "ENSP00000400592",
         "91758408",
         "AZJRSFUJNQNLRC-UHFFFAOYSA-N"
        ]
       ],
       "shape": {
        "columns": 3,
        "rows": 74576305
       }
      },
      "text/html": [
       "<div>\n",
       "<style scoped>\n",
       "    .dataframe tbody tr th:only-of-type {\n",
       "        vertical-align: middle;\n",
       "    }\n",
       "\n",
       "    .dataframe tbody tr th {\n",
       "        vertical-align: top;\n",
       "    }\n",
       "\n",
       "    .dataframe thead th {\n",
       "        text-align: right;\n",
       "    }\n",
       "</style>\n",
       "<table border=\"1\" class=\"dataframe\">\n",
       "  <thead>\n",
       "    <tr style=\"text-align: right;\">\n",
       "      <th></th>\n",
       "      <th>Protein</th>\n",
       "      <th>CID</th>\n",
       "      <th>inchikey</th>\n",
       "    </tr>\n",
       "  </thead>\n",
       "  <tbody>\n",
       "    <tr>\n",
       "      <th>0</th>\n",
       "      <td>ENSP00000257254</td>\n",
       "      <td>91758680</td>\n",
       "      <td>DMDVEPIJCJGHPE-UHFFFAOYSA-K</td>\n",
       "    </tr>\n",
       "    <tr>\n",
       "      <th>1</th>\n",
       "      <td>ENSP00000302120</td>\n",
       "      <td>91758680</td>\n",
       "      <td>DMDVEPIJCJGHPE-UHFFFAOYSA-K</td>\n",
       "    </tr>\n",
       "    <tr>\n",
       "      <th>2</th>\n",
       "      <td>ENSP00000006777</td>\n",
       "      <td>91758408</td>\n",
       "      <td>AZJRSFUJNQNLRC-UHFFFAOYSA-N</td>\n",
       "    </tr>\n",
       "    <tr>\n",
       "      <th>3</th>\n",
       "      <td>ENSP00000056217</td>\n",
       "      <td>91758408</td>\n",
       "      <td>AZJRSFUJNQNLRC-UHFFFAOYSA-N</td>\n",
       "    </tr>\n",
       "    <tr>\n",
       "      <th>4</th>\n",
       "      <td>ENSP00000216085</td>\n",
       "      <td>91758408</td>\n",
       "      <td>AZJRSFUJNQNLRC-UHFFFAOYSA-N</td>\n",
       "    </tr>\n",
       "    <tr>\n",
       "      <th>...</th>\n",
       "      <td>...</td>\n",
       "      <td>...</td>\n",
       "      <td>...</td>\n",
       "    </tr>\n",
       "    <tr>\n",
       "      <th>15473934</th>\n",
       "      <td>ENSP00000420588</td>\n",
       "      <td>1</td>\n",
       "      <td>NaN</td>\n",
       "    </tr>\n",
       "    <tr>\n",
       "      <th>15473935</th>\n",
       "      <td>ENSP00000436585</td>\n",
       "      <td>1</td>\n",
       "      <td>NaN</td>\n",
       "    </tr>\n",
       "    <tr>\n",
       "      <th>15473936</th>\n",
       "      <td>ENSP00000438144</td>\n",
       "      <td>1</td>\n",
       "      <td>NaN</td>\n",
       "    </tr>\n",
       "    <tr>\n",
       "      <th>15473937</th>\n",
       "      <td>ENSP00000448165</td>\n",
       "      <td>1</td>\n",
       "      <td>NaN</td>\n",
       "    </tr>\n",
       "    <tr>\n",
       "      <th>15473938</th>\n",
       "      <td>ENSP00000453129</td>\n",
       "      <td>1</td>\n",
       "      <td>NaN</td>\n",
       "    </tr>\n",
       "  </tbody>\n",
       "</table>\n",
       "<p>74576305 rows × 3 columns</p>\n",
       "</div>"
      ],
      "text/plain": [
       "                  Protein       CID                     inchikey\n",
       "0         ENSP00000257254  91758680  DMDVEPIJCJGHPE-UHFFFAOYSA-K\n",
       "1         ENSP00000302120  91758680  DMDVEPIJCJGHPE-UHFFFAOYSA-K\n",
       "2         ENSP00000006777  91758408  AZJRSFUJNQNLRC-UHFFFAOYSA-N\n",
       "3         ENSP00000056217  91758408  AZJRSFUJNQNLRC-UHFFFAOYSA-N\n",
       "4         ENSP00000216085  91758408  AZJRSFUJNQNLRC-UHFFFAOYSA-N\n",
       "...                   ...       ...                          ...\n",
       "15473934  ENSP00000420588         1                          NaN\n",
       "15473935  ENSP00000436585         1                          NaN\n",
       "15473936  ENSP00000438144         1                          NaN\n",
       "15473937  ENSP00000448165         1                          NaN\n",
       "15473938  ENSP00000453129         1                          NaN\n",
       "\n",
       "[74576305 rows x 3 columns]"
      ]
     },
     "execution_count": 6,
     "metadata": {},
     "output_type": "execute_result"
    }
   ],
   "source": [
    "stitch_chem_inchikey['CID'] = stitch_chem_inchikey['chemical'].apply(lambda x: int(re.search(r'\\d+', x).group()))\n",
    "stitch_chem_inchikey['Protein'] = stitch_chem_inchikey['protein'].apply(lambda x: x.split('.')[1])\n",
    "stitch_chem_inchikey['inchikey'] = stitch_chem_inchikey['inchikey'].str.split(';')\n",
    "stitch_chem_inchikey = stitch_chem_inchikey.explode('inchikey')\n",
    "\n",
    "stitch_filter = stitch_chem_inchikey[['Protein', 'CID','inchikey']]\n",
    "stitch_filter.drop_duplicates(inplace=True)\n",
    "stitch_filter"
   ]
  },
  {
   "cell_type": "markdown",
   "metadata": {},
   "source": [
    "### BioMedGraphica ID"
   ]
  },
  {
   "cell_type": "code",
   "execution_count": 7,
   "metadata": {},
   "outputs": [],
   "source": [
    "import pandas as pd\n",
    "import os\n",
    "from pathlib import Path\n",
    "\n",
    "current_working_dir = Path(os.getcwd()).resolve()\n",
    "grandparent_dir = current_working_dir.parent.parent.parent\n",
    "target_dir_protein = grandparent_dir / 'BioMedGraphica' / 'Entity' / 'Protein' / 'BioMedGraphica_Protein.csv'\n",
    "target_dir_metabolite = grandparent_dir / 'BioMedGraphica' / 'Entity' / 'Metabolite' / 'BioMedGraphica_Metabolite.csv'\n",
    "biomedgraphica_protein = pd.read_csv(target_dir_protein, dtype=str)\n",
    "biomedgraphica_metabolite = pd.read_csv(target_dir_metabolite, dtype=str)"
   ]
  },
  {
   "cell_type": "markdown",
   "metadata": {},
   "source": [
    "### HMDB Mapping"
   ]
  },
  {
   "cell_type": "code",
   "execution_count": 8,
   "metadata": {},
   "outputs": [
    {
     "name": "stderr",
     "output_type": "stream",
     "text": [
      "C:\\Users\\shunn\\AppData\\Local\\Temp\\ipykernel_11016\\1080975454.py:2: SettingWithCopyWarning: \n",
      "A value is trying to be set on a copy of a slice from a DataFrame\n",
      "\n",
      "See the caveats in the documentation: https://pandas.pydata.org/pandas-docs/stable/user_guide/indexing.html#returning-a-view-versus-a-copy\n",
      "  hmdb_biomedgraphica.dropna(subset=['HMDB_ID'], inplace=True)\n"
     ]
    }
   ],
   "source": [
    "hmdb_biomedgraphica = biomedgraphica_metabolite[['BioMedGraphica_ID', 'HMDB_ID']]\n",
    "hmdb_biomedgraphica.dropna(subset=['HMDB_ID'], inplace=True)\n",
    "hmdb_biomedgraphica = hmdb_biomedgraphica.assign(HMDB_ID=hmdb_biomedgraphica['HMDB_ID'].str.split(';')).explode('HMDB_ID')\n",
    "hmdb_to_individualID = hmdb_biomedgraphica.groupby('HMDB_ID')['BioMedGraphica_ID'].apply(lambda x: ';'.join(x.dropna().unique())).to_dict()\n",
    "\n",
    "hmdb_protein['From_ID'] = hmdb_protein['accession'].map(hmdb_to_individualID)"
   ]
  },
  {
   "cell_type": "code",
   "execution_count": 9,
   "metadata": {},
   "outputs": [
    {
     "name": "stderr",
     "output_type": "stream",
     "text": [
      "C:\\Users\\shunn\\AppData\\Local\\Temp\\ipykernel_11016\\1426587174.py:2: SettingWithCopyWarning: \n",
      "A value is trying to be set on a copy of a slice from a DataFrame\n",
      "\n",
      "See the caveats in the documentation: https://pandas.pydata.org/pandas-docs/stable/user_guide/indexing.html#returning-a-view-versus-a-copy\n",
      "  uniprot_biomedgraphica.dropna(subset=['Uniprot_ID'], inplace=True)\n"
     ]
    }
   ],
   "source": [
    "uniprot_biomedgraphica = biomedgraphica_protein[['Uniprot_ID', 'BioMedGraphica_ID']]\n",
    "uniprot_biomedgraphica.dropna(subset=['Uniprot_ID'], inplace=True)\n",
    "uniprot_biomedgraphica = uniprot_biomedgraphica.assign(Uniprot_ID=uniprot_biomedgraphica['Uniprot_ID'].str.split(';')).explode('Uniprot_ID')\n",
    "uniprot_to_individualID = uniprot_biomedgraphica.groupby('Uniprot_ID')['BioMedGraphica_ID'].apply(lambda x: ';'.join(x.dropna().unique())).to_dict()\n",
    "\n",
    "hmdb_protein['To_ID'] = hmdb_protein['uniprot_id'].map(uniprot_to_individualID)"
   ]
  },
  {
   "cell_type": "code",
   "execution_count": 10,
   "metadata": {},
   "outputs": [
    {
     "name": "stdout",
     "output_type": "stream",
     "text": [
      "<class 'pandas.core.frame.DataFrame'>\n",
      "Index: 849980 entries, 0 to 863756\n",
      "Data columns (total 2 columns):\n",
      " #   Column   Non-Null Count   Dtype \n",
      "---  ------   --------------   ----- \n",
      " 0   From_ID  849980 non-null  object\n",
      " 1   To_ID    849980 non-null  object\n",
      "dtypes: object(2)\n",
      "memory usage: 19.5+ MB\n"
     ]
    },
    {
     "name": "stderr",
     "output_type": "stream",
     "text": [
      "C:\\Users\\shunn\\AppData\\Local\\Temp\\ipykernel_11016\\3409404213.py:2: FutureWarning: A value is trying to be set on a copy of a DataFrame or Series through chained assignment using an inplace method.\n",
      "The behavior will change in pandas 3.0. This inplace method will never work because the intermediate object on which we are setting values always behaves as a copy.\n",
      "\n",
      "For example, when doing 'df[col].method(value, inplace=True)', try using 'df.method({col: value}, inplace=True)' or df[col] = df[col].method(value) instead, to perform the operation inplace on the original object.\n",
      "\n",
      "\n",
      "  metabolite_protein_hmdb['From_ID'].replace('', pd.NA, inplace=True)\n",
      "C:\\Users\\shunn\\AppData\\Local\\Temp\\ipykernel_11016\\3409404213.py:2: SettingWithCopyWarning: \n",
      "A value is trying to be set on a copy of a slice from a DataFrame\n",
      "\n",
      "See the caveats in the documentation: https://pandas.pydata.org/pandas-docs/stable/user_guide/indexing.html#returning-a-view-versus-a-copy\n",
      "  metabolite_protein_hmdb['From_ID'].replace('', pd.NA, inplace=True)\n",
      "C:\\Users\\shunn\\AppData\\Local\\Temp\\ipykernel_11016\\3409404213.py:3: FutureWarning: A value is trying to be set on a copy of a DataFrame or Series through chained assignment using an inplace method.\n",
      "The behavior will change in pandas 3.0. This inplace method will never work because the intermediate object on which we are setting values always behaves as a copy.\n",
      "\n",
      "For example, when doing 'df[col].method(value, inplace=True)', try using 'df.method({col: value}, inplace=True)' or df[col] = df[col].method(value) instead, to perform the operation inplace on the original object.\n",
      "\n",
      "\n",
      "  metabolite_protein_hmdb['To_ID'].replace('', pd.NA, inplace=True)\n",
      "C:\\Users\\shunn\\AppData\\Local\\Temp\\ipykernel_11016\\3409404213.py:3: SettingWithCopyWarning: \n",
      "A value is trying to be set on a copy of a slice from a DataFrame\n",
      "\n",
      "See the caveats in the documentation: https://pandas.pydata.org/pandas-docs/stable/user_guide/indexing.html#returning-a-view-versus-a-copy\n",
      "  metabolite_protein_hmdb['To_ID'].replace('', pd.NA, inplace=True)\n",
      "C:\\Users\\shunn\\AppData\\Local\\Temp\\ipykernel_11016\\3409404213.py:4: SettingWithCopyWarning: \n",
      "A value is trying to be set on a copy of a slice from a DataFrame\n",
      "\n",
      "See the caveats in the documentation: https://pandas.pydata.org/pandas-docs/stable/user_guide/indexing.html#returning-a-view-versus-a-copy\n",
      "  metabolite_protein_hmdb.dropna(subset=['From_ID'], inplace=True)\n",
      "C:\\Users\\shunn\\AppData\\Local\\Temp\\ipykernel_11016\\3409404213.py:5: SettingWithCopyWarning: \n",
      "A value is trying to be set on a copy of a slice from a DataFrame\n",
      "\n",
      "See the caveats in the documentation: https://pandas.pydata.org/pandas-docs/stable/user_guide/indexing.html#returning-a-view-versus-a-copy\n",
      "  metabolite_protein_hmdb.dropna(subset=['To_ID'], inplace=True)\n"
     ]
    }
   ],
   "source": [
    "metabolite_protein_hmdb = hmdb_protein[['From_ID', 'To_ID']]\n",
    "metabolite_protein_hmdb['From_ID'].replace('', pd.NA, inplace=True)\n",
    "metabolite_protein_hmdb['To_ID'].replace('', pd.NA, inplace=True)\n",
    "metabolite_protein_hmdb.dropna(subset=['From_ID'], inplace=True)\n",
    "metabolite_protein_hmdb.dropna(subset=['To_ID'], inplace=True)\n",
    "metabolite_protein_hmdb.info()"
   ]
  },
  {
   "cell_type": "code",
   "execution_count": 11,
   "metadata": {},
   "outputs": [
    {
     "name": "stderr",
     "output_type": "stream",
     "text": [
      "C:\\Users\\shunn\\AppData\\Local\\Temp\\ipykernel_11016\\2319683036.py:1: SettingWithCopyWarning: \n",
      "A value is trying to be set on a copy of a slice from a DataFrame.\n",
      "Try using .loc[row_indexer,col_indexer] = value instead\n",
      "\n",
      "See the caveats in the documentation: https://pandas.pydata.org/pandas-docs/stable/user_guide/indexing.html#returning-a-view-versus-a-copy\n",
      "  metabolite_protein_hmdb['From_ID'] = metabolite_protein_hmdb['From_ID'].str.split(';')\n",
      "C:\\Users\\shunn\\AppData\\Local\\Temp\\ipykernel_11016\\2319683036.py:2: SettingWithCopyWarning: \n",
      "A value is trying to be set on a copy of a slice from a DataFrame.\n",
      "Try using .loc[row_indexer,col_indexer] = value instead\n",
      "\n",
      "See the caveats in the documentation: https://pandas.pydata.org/pandas-docs/stable/user_guide/indexing.html#returning-a-view-versus-a-copy\n",
      "  metabolite_protein_hmdb['To_ID'] = metabolite_protein_hmdb['To_ID'].str.split(';')\n"
     ]
    },
    {
     "data": {
      "application/vnd.microsoft.datawrangler.viewer.v0+json": {
       "columns": [
        {
         "name": "index",
         "rawType": "int64",
         "type": "integer"
        },
        {
         "name": "From_ID",
         "rawType": "object",
         "type": "string"
        },
        {
         "name": "To_ID",
         "rawType": "object",
         "type": "string"
        }
       ],
       "conversionMethod": "pd.DataFrame",
       "ref": "308a6c56-297d-4e4e-80ec-ebd57abfc364",
       "rows": [
        [
         "0",
         "BMG_MT000001",
         "BMG_PT082247"
        ],
        [
         "1",
         "BMG_MT000001",
         "BMG_PT035382"
        ],
        [
         "2",
         "BMG_MT000002",
         "BMG_PT041364"
        ],
        [
         "3",
         "BMG_MT000002",
         "BMG_PT041046"
        ],
        [
         "4",
         "BMG_MT000002",
         "BMG_PT039489"
        ],
        [
         "5",
         "BMG_MT000002",
         "BMG_PT046922"
        ],
        [
         "6",
         "BMG_MT000002",
         "BMG_PT035683"
        ],
        [
         "7",
         "BMG_MT000002",
         "BMG_PT039376"
        ],
        [
         "8",
         "BMG_MT000002",
         "BMG_PT038946"
        ],
        [
         "9",
         "BMG_MT000003",
         "BMG_PT038886"
        ],
        [
         "10",
         "BMG_MT000003",
         "BMG_PT038246"
        ],
        [
         "11",
         "BMG_MT000003",
         "BMG_PT040077"
        ],
        [
         "12",
         "BMG_MT000003",
         "BMG_PT039640"
        ],
        [
         "13",
         "BMG_MT000003",
         "BMG_PT038987"
        ],
        [
         "14",
         "BMG_MT000003",
         "BMG_PT042607"
        ],
        [
         "15",
         "BMG_MT000003",
         "BMG_PT040341"
        ],
        [
         "16",
         "BMG_MT000003",
         "BMG_PT039510"
        ],
        [
         "17",
         "BMG_MT000003",
         "BMG_PT065496"
        ],
        [
         "18",
         "BMG_MT000003",
         "BMG_PT082904"
        ],
        [
         "19",
         "BMG_MT000003",
         "BMG_PT033710"
        ],
        [
         "20",
         "BMG_MT000003",
         "BMG_PT038125"
        ],
        [
         "21",
         "BMG_MT000003",
         "BMG_PT038181"
        ],
        [
         "22",
         "BMG_MT000003",
         "BMG_PT037560"
        ],
        [
         "23",
         "BMG_MT000003",
         "BMG_PT087204"
        ],
        [
         "24",
         "BMG_MT000003",
         "BMG_PT093067"
        ],
        [
         "25",
         "BMG_MT000003",
         "BMG_PT062667"
        ],
        [
         "26",
         "BMG_MT000003",
         "BMG_PT083467"
        ],
        [
         "27",
         "BMG_MT000003",
         "BMG_PT081133"
        ],
        [
         "28",
         "BMG_MT000003",
         "BMG_PT097784"
        ],
        [
         "29",
         "BMG_MT000003",
         "BMG_PT083168"
        ],
        [
         "30",
         "BMG_MT000004",
         "BMG_PT038353"
        ],
        [
         "31",
         "BMG_MT000004",
         "BMG_PT032920"
        ],
        [
         "32",
         "BMG_MT000004",
         "BMG_PT039663"
        ],
        [
         "33",
         "BMG_MT000004",
         "BMG_PT065496"
        ],
        [
         "34",
         "BMG_MT000004",
         "BMG_PT038125"
        ],
        [
         "35",
         "BMG_MT000004",
         "BMG_PT038181"
        ],
        [
         "36",
         "BMG_MT000004",
         "BMG_PT037560"
        ],
        [
         "37",
         "BMG_MT000004",
         "BMG_PT087204"
        ],
        [
         "38",
         "BMG_MT000005",
         "BMG_PT039641"
        ],
        [
         "39",
         "BMG_MT000005",
         "BMG_PT086991"
        ],
        [
         "40",
         "BMG_MT000005",
         "BMG_PT038067"
        ],
        [
         "41",
         "BMG_MT000005",
         "BMG_PT039664"
        ],
        [
         "42",
         "BMG_MT000005",
         "BMG_PT040532"
        ],
        [
         "43",
         "BMG_MT000005",
         "BMG_PT039287"
        ],
        [
         "44",
         "BMG_MT000005",
         "BMG_PT041493"
        ],
        [
         "45",
         "BMG_MT000005",
         "BMG_PT099845"
        ],
        [
         "46",
         "BMG_MT000005",
         "BMG_PT039663"
        ],
        [
         "47",
         "BMG_MT000005",
         "BMG_PT035363"
        ],
        [
         "48",
         "BMG_MT000005",
         "BMG_PT090690"
        ],
        [
         "49",
         "BMG_MT000005",
         "BMG_PT040462"
        ]
       ],
       "shape": {
        "columns": 2,
        "rows": 849993
       }
      },
      "text/html": [
       "<div>\n",
       "<style scoped>\n",
       "    .dataframe tbody tr th:only-of-type {\n",
       "        vertical-align: middle;\n",
       "    }\n",
       "\n",
       "    .dataframe tbody tr th {\n",
       "        vertical-align: top;\n",
       "    }\n",
       "\n",
       "    .dataframe thead th {\n",
       "        text-align: right;\n",
       "    }\n",
       "</style>\n",
       "<table border=\"1\" class=\"dataframe\">\n",
       "  <thead>\n",
       "    <tr style=\"text-align: right;\">\n",
       "      <th></th>\n",
       "      <th>From_ID</th>\n",
       "      <th>To_ID</th>\n",
       "    </tr>\n",
       "  </thead>\n",
       "  <tbody>\n",
       "    <tr>\n",
       "      <th>0</th>\n",
       "      <td>BMG_MT000001</td>\n",
       "      <td>BMG_PT082247</td>\n",
       "    </tr>\n",
       "    <tr>\n",
       "      <th>1</th>\n",
       "      <td>BMG_MT000001</td>\n",
       "      <td>BMG_PT035382</td>\n",
       "    </tr>\n",
       "    <tr>\n",
       "      <th>2</th>\n",
       "      <td>BMG_MT000002</td>\n",
       "      <td>BMG_PT041364</td>\n",
       "    </tr>\n",
       "    <tr>\n",
       "      <th>3</th>\n",
       "      <td>BMG_MT000002</td>\n",
       "      <td>BMG_PT041046</td>\n",
       "    </tr>\n",
       "    <tr>\n",
       "      <th>4</th>\n",
       "      <td>BMG_MT000002</td>\n",
       "      <td>BMG_PT039489</td>\n",
       "    </tr>\n",
       "    <tr>\n",
       "      <th>...</th>\n",
       "      <td>...</td>\n",
       "      <td>...</td>\n",
       "    </tr>\n",
       "    <tr>\n",
       "      <th>863750</th>\n",
       "      <td>BMG_MT172954</td>\n",
       "      <td>BMG_PT009001</td>\n",
       "    </tr>\n",
       "    <tr>\n",
       "      <th>863752</th>\n",
       "      <td>BMG_MT172981</td>\n",
       "      <td>BMG_PT042111</td>\n",
       "    </tr>\n",
       "    <tr>\n",
       "      <th>863753</th>\n",
       "      <td>BMG_MT172981</td>\n",
       "      <td>BMG_PT090834</td>\n",
       "    </tr>\n",
       "    <tr>\n",
       "      <th>863754</th>\n",
       "      <td>BMG_MT172981</td>\n",
       "      <td>BMG_PT100169</td>\n",
       "    </tr>\n",
       "    <tr>\n",
       "      <th>863756</th>\n",
       "      <td>BMG_MT173043</td>\n",
       "      <td>BMG_PT041412</td>\n",
       "    </tr>\n",
       "  </tbody>\n",
       "</table>\n",
       "<p>849993 rows × 2 columns</p>\n",
       "</div>"
      ],
      "text/plain": [
       "             From_ID         To_ID\n",
       "0       BMG_MT000001  BMG_PT082247\n",
       "1       BMG_MT000001  BMG_PT035382\n",
       "2       BMG_MT000002  BMG_PT041364\n",
       "3       BMG_MT000002  BMG_PT041046\n",
       "4       BMG_MT000002  BMG_PT039489\n",
       "...              ...           ...\n",
       "863750  BMG_MT172954  BMG_PT009001\n",
       "863752  BMG_MT172981  BMG_PT042111\n",
       "863753  BMG_MT172981  BMG_PT090834\n",
       "863754  BMG_MT172981  BMG_PT100169\n",
       "863756  BMG_MT173043  BMG_PT041412\n",
       "\n",
       "[849993 rows x 2 columns]"
      ]
     },
     "execution_count": 11,
     "metadata": {},
     "output_type": "execute_result"
    }
   ],
   "source": [
    "metabolite_protein_hmdb['From_ID'] = metabolite_protein_hmdb['From_ID'].str.split(';')\n",
    "metabolite_protein_hmdb['To_ID'] = metabolite_protein_hmdb['To_ID'].str.split(';')\n",
    "metabolite_protein_hmdb = metabolite_protein_hmdb.explode('From_ID')\n",
    "metabolite_protein_hmdb = metabolite_protein_hmdb.explode('To_ID')\n",
    "metabolite_protein_hmdb['From_ID'] = metabolite_protein_hmdb['From_ID'].str.strip()\n",
    "metabolite_protein_hmdb['To_ID'] = metabolite_protein_hmdb['To_ID'].str.strip()\n",
    "metabolite_protein_hmdb.drop_duplicates(inplace=True)\n",
    "metabolite_protein_hmdb"
   ]
  },
  {
   "cell_type": "markdown",
   "metadata": {},
   "source": [
    "### STITCH Mapping"
   ]
  },
  {
   "cell_type": "markdown",
   "metadata": {},
   "source": [
    "Ensembl ID"
   ]
  },
  {
   "cell_type": "code",
   "execution_count": 12,
   "metadata": {},
   "outputs": [
    {
     "name": "stderr",
     "output_type": "stream",
     "text": [
      "C:\\Users\\shunn\\AppData\\Local\\Temp\\ipykernel_11016\\209463167.py:2: SettingWithCopyWarning: \n",
      "A value is trying to be set on a copy of a slice from a DataFrame\n",
      "\n",
      "See the caveats in the documentation: https://pandas.pydata.org/pandas-docs/stable/user_guide/indexing.html#returning-a-view-versus-a-copy\n",
      "  ensembl_biomedgraphica.dropna(subset=['Ensembl_Protein_ID'], inplace=True)\n",
      "C:\\Users\\shunn\\AppData\\Local\\Temp\\ipykernel_11016\\209463167.py:6: SettingWithCopyWarning: \n",
      "A value is trying to be set on a copy of a slice from a DataFrame.\n",
      "Try using .loc[row_indexer,col_indexer] = value instead\n",
      "\n",
      "See the caveats in the documentation: https://pandas.pydata.org/pandas-docs/stable/user_guide/indexing.html#returning-a-view-versus-a-copy\n",
      "  stitch_filter['To_ID'] = stitch_filter['Protein'].map(ensembl_to_individualID)\n"
     ]
    },
    {
     "data": {
      "application/vnd.microsoft.datawrangler.viewer.v0+json": {
       "columns": [
        {
         "name": "index",
         "rawType": "int64",
         "type": "integer"
        },
        {
         "name": "Protein",
         "rawType": "object",
         "type": "string"
        },
        {
         "name": "CID",
         "rawType": "int64",
         "type": "integer"
        },
        {
         "name": "inchikey",
         "rawType": "object",
         "type": "unknown"
        },
        {
         "name": "To_ID",
         "rawType": "object",
         "type": "unknown"
        }
       ],
       "conversionMethod": "pd.DataFrame",
       "ref": "c266ba6c-320b-4ae6-bbb5-ce70b235e349",
       "rows": [
        [
         "0",
         "ENSP00000257254",
         "91758680",
         "DMDVEPIJCJGHPE-UHFFFAOYSA-K",
         "BMG_PT040452"
        ],
        [
         "1",
         "ENSP00000302120",
         "91758680",
         "DMDVEPIJCJGHPE-UHFFFAOYSA-K",
         "BMG_PT101482"
        ],
        [
         "2",
         "ENSP00000006777",
         "91758408",
         "AZJRSFUJNQNLRC-UHFFFAOYSA-N",
         "BMG_PT062814"
        ],
        [
         "3",
         "ENSP00000056217",
         "91758408",
         "AZJRSFUJNQNLRC-UHFFFAOYSA-N",
         "BMG_PT043776"
        ],
        [
         "4",
         "ENSP00000216085",
         "91758408",
         "AZJRSFUJNQNLRC-UHFFFAOYSA-N",
         "BMG_PT099520"
        ],
        [
         "5",
         "ENSP00000221740",
         "91758408",
         "AZJRSFUJNQNLRC-UHFFFAOYSA-N",
         null
        ],
        [
         "6",
         "ENSP00000235329",
         "91758408",
         "AZJRSFUJNQNLRC-UHFFFAOYSA-N",
         "BMG_PT036852"
        ],
        [
         "7",
         "ENSP00000259791",
         "91758408",
         "AZJRSFUJNQNLRC-UHFFFAOYSA-N",
         null
        ],
        [
         "8",
         "ENSP00000262366",
         "91758408",
         "AZJRSFUJNQNLRC-UHFFFAOYSA-N",
         "BMG_PT087293"
        ],
        [
         "9",
         "ENSP00000262794",
         "91758408",
         "AZJRSFUJNQNLRC-UHFFFAOYSA-N",
         "BMG_PT086883"
        ],
        [
         "10",
         "ENSP00000263969",
         "91758408",
         "AZJRSFUJNQNLRC-UHFFFAOYSA-N",
         "BMG_PT070979"
        ],
        [
         "11",
         "ENSP00000265164",
         "91758408",
         "AZJRSFUJNQNLRC-UHFFFAOYSA-N",
         "BMG_PT041539"
        ],
        [
         "12",
         "ENSP00000265689",
         "91758408",
         "AZJRSFUJNQNLRC-UHFFFAOYSA-N",
         "BMG_PT040508"
        ],
        [
         "13",
         "ENSP00000266517",
         "91758408",
         "AZJRSFUJNQNLRC-UHFFFAOYSA-N",
         "BMG_PT101237"
        ],
        [
         "14",
         "ENSP00000270747",
         "91758408",
         "AZJRSFUJNQNLRC-UHFFFAOYSA-N",
         "BMG_PT070970"
        ],
        [
         "15",
         "ENSP00000284320",
         "91758408",
         "AZJRSFUJNQNLRC-UHFFFAOYSA-N",
         "BMG_PT036616"
        ],
        [
         "16",
         "ENSP00000286186",
         "91758408",
         "AZJRSFUJNQNLRC-UHFFFAOYSA-N",
         "BMG_PT079019"
        ],
        [
         "17",
         "ENSP00000296805",
         "91758408",
         "AZJRSFUJNQNLRC-UHFFFAOYSA-N",
         "BMG_PT079417"
        ],
        [
         "18",
         "ENSP00000297012",
         "91758408",
         "AZJRSFUJNQNLRC-UHFFFAOYSA-N",
         "BMG_PT083638"
        ],
        [
         "19",
         "ENSP00000311032",
         "91758408",
         "AZJRSFUJNQNLRC-UHFFFAOYSA-N",
         "BMG_PT040738"
        ],
        [
         "20",
         "ENSP00000312455",
         "91758408",
         "AZJRSFUJNQNLRC-UHFFFAOYSA-N",
         "BMG_PT034247"
        ],
        [
         "21",
         "ENSP00000312664",
         "91758408",
         "AZJRSFUJNQNLRC-UHFFFAOYSA-N",
         "BMG_PT040739"
        ],
        [
         "22",
         "ENSP00000321389",
         "91758408",
         "AZJRSFUJNQNLRC-UHFFFAOYSA-N",
         "BMG_PT079210"
        ],
        [
         "23",
         "ENSP00000325421",
         "91758408",
         "AZJRSFUJNQNLRC-UHFFFAOYSA-N",
         "BMG_PT088683"
        ],
        [
         "24",
         "ENSP00000328484",
         "91758408",
         "AZJRSFUJNQNLRC-UHFFFAOYSA-N",
         "BMG_PT084711"
        ],
        [
         "25",
         "ENSP00000330237",
         "91758408",
         "AZJRSFUJNQNLRC-UHFFFAOYSA-N",
         "BMG_PT041538"
        ],
        [
         "26",
         "ENSP00000330307",
         "91758408",
         "AZJRSFUJNQNLRC-UHFFFAOYSA-N",
         null
        ],
        [
         "27",
         "ENSP00000332790",
         "91758408",
         "AZJRSFUJNQNLRC-UHFFFAOYSA-N",
         "BMG_PT070485"
        ],
        [
         "28",
         "ENSP00000341094",
         "91758408",
         "AZJRSFUJNQNLRC-UHFFFAOYSA-N",
         "BMG_PT039548"
        ],
        [
         "29",
         "ENSP00000344779",
         "91758408",
         "AZJRSFUJNQNLRC-UHFFFAOYSA-N",
         "BMG_PT077174"
        ],
        [
         "30",
         "ENSP00000351273",
         "91758408",
         "AZJRSFUJNQNLRC-UHFFFAOYSA-N",
         "BMG_PT045293"
        ],
        [
         "31",
         "ENSP00000352572",
         "91758408",
         "AZJRSFUJNQNLRC-UHFFFAOYSA-N",
         "BMG_PT037193"
        ],
        [
         "32",
         "ENSP00000353660",
         "91758408",
         "AZJRSFUJNQNLRC-UHFFFAOYSA-N",
         "BMG_PT045776"
        ],
        [
         "33",
         "ENSP00000354681",
         "91758408",
         "AZJRSFUJNQNLRC-UHFFFAOYSA-N",
         "BMG_PT035072"
        ],
        [
         "34",
         "ENSP00000355656",
         "91758408",
         "AZJRSFUJNQNLRC-UHFFFAOYSA-N",
         "BMG_PT067137"
        ],
        [
         "35",
         "ENSP00000356022",
         "91758408",
         "AZJRSFUJNQNLRC-UHFFFAOYSA-N",
         "BMG_PT037906"
        ],
        [
         "36",
         "ENSP00000356170",
         "91758408",
         "AZJRSFUJNQNLRC-UHFFFAOYSA-N",
         "BMG_PT093051"
        ],
        [
         "37",
         "ENSP00000357051",
         "91758408",
         "AZJRSFUJNQNLRC-UHFFFAOYSA-N",
         "BMG_PT040652"
        ],
        [
         "38",
         "ENSP00000358155",
         "91758408",
         "AZJRSFUJNQNLRC-UHFFFAOYSA-N",
         "BMG_PT060964"
        ],
        [
         "39",
         "ENSP00000358327",
         "91758408",
         "AZJRSFUJNQNLRC-UHFFFAOYSA-N",
         "BMG_PT102770"
        ],
        [
         "40",
         "ENSP00000364310",
         "91758408",
         "AZJRSFUJNQNLRC-UHFFFAOYSA-N",
         "BMG_PT039237"
        ],
        [
         "41",
         "ENSP00000364858",
         "91758408",
         "AZJRSFUJNQNLRC-UHFFFAOYSA-N",
         null
        ],
        [
         "42",
         "ENSP00000364859",
         "91758408",
         "AZJRSFUJNQNLRC-UHFFFAOYSA-N",
         null
        ],
        [
         "43",
         "ENSP00000367355",
         "91758408",
         "AZJRSFUJNQNLRC-UHFFFAOYSA-N",
         "BMG_PT009045"
        ],
        [
         "44",
         "ENSP00000373730",
         "91758408",
         "AZJRSFUJNQNLRC-UHFFFAOYSA-N",
         "BMG_PT085778"
        ],
        [
         "45",
         "ENSP00000375767",
         "91758408",
         "AZJRSFUJNQNLRC-UHFFFAOYSA-N",
         "BMG_PT099163"
        ],
        [
         "46",
         "ENSP00000376849",
         "91758408",
         "AZJRSFUJNQNLRC-UHFFFAOYSA-N",
         "BMG_PT041306"
        ],
        [
         "47",
         "ENSP00000384400",
         "91758408",
         "AZJRSFUJNQNLRC-UHFFFAOYSA-N",
         "BMG_PT099070"
        ],
        [
         "48",
         "ENSP00000388566",
         "91758408",
         "AZJRSFUJNQNLRC-UHFFFAOYSA-N",
         "BMG_PT041074"
        ],
        [
         "49",
         "ENSP00000400592",
         "91758408",
         "AZJRSFUJNQNLRC-UHFFFAOYSA-N",
         null
        ]
       ],
       "shape": {
        "columns": 4,
        "rows": 74576305
       }
      },
      "text/html": [
       "<div>\n",
       "<style scoped>\n",
       "    .dataframe tbody tr th:only-of-type {\n",
       "        vertical-align: middle;\n",
       "    }\n",
       "\n",
       "    .dataframe tbody tr th {\n",
       "        vertical-align: top;\n",
       "    }\n",
       "\n",
       "    .dataframe thead th {\n",
       "        text-align: right;\n",
       "    }\n",
       "</style>\n",
       "<table border=\"1\" class=\"dataframe\">\n",
       "  <thead>\n",
       "    <tr style=\"text-align: right;\">\n",
       "      <th></th>\n",
       "      <th>Protein</th>\n",
       "      <th>CID</th>\n",
       "      <th>inchikey</th>\n",
       "      <th>To_ID</th>\n",
       "    </tr>\n",
       "  </thead>\n",
       "  <tbody>\n",
       "    <tr>\n",
       "      <th>0</th>\n",
       "      <td>ENSP00000257254</td>\n",
       "      <td>91758680</td>\n",
       "      <td>DMDVEPIJCJGHPE-UHFFFAOYSA-K</td>\n",
       "      <td>BMG_PT040452</td>\n",
       "    </tr>\n",
       "    <tr>\n",
       "      <th>1</th>\n",
       "      <td>ENSP00000302120</td>\n",
       "      <td>91758680</td>\n",
       "      <td>DMDVEPIJCJGHPE-UHFFFAOYSA-K</td>\n",
       "      <td>BMG_PT101482</td>\n",
       "    </tr>\n",
       "    <tr>\n",
       "      <th>2</th>\n",
       "      <td>ENSP00000006777</td>\n",
       "      <td>91758408</td>\n",
       "      <td>AZJRSFUJNQNLRC-UHFFFAOYSA-N</td>\n",
       "      <td>BMG_PT062814</td>\n",
       "    </tr>\n",
       "    <tr>\n",
       "      <th>3</th>\n",
       "      <td>ENSP00000056217</td>\n",
       "      <td>91758408</td>\n",
       "      <td>AZJRSFUJNQNLRC-UHFFFAOYSA-N</td>\n",
       "      <td>BMG_PT043776</td>\n",
       "    </tr>\n",
       "    <tr>\n",
       "      <th>4</th>\n",
       "      <td>ENSP00000216085</td>\n",
       "      <td>91758408</td>\n",
       "      <td>AZJRSFUJNQNLRC-UHFFFAOYSA-N</td>\n",
       "      <td>BMG_PT099520</td>\n",
       "    </tr>\n",
       "    <tr>\n",
       "      <th>...</th>\n",
       "      <td>...</td>\n",
       "      <td>...</td>\n",
       "      <td>...</td>\n",
       "      <td>...</td>\n",
       "    </tr>\n",
       "    <tr>\n",
       "      <th>15473934</th>\n",
       "      <td>ENSP00000420588</td>\n",
       "      <td>1</td>\n",
       "      <td>NaN</td>\n",
       "      <td>BMG_PT042466</td>\n",
       "    </tr>\n",
       "    <tr>\n",
       "      <th>15473935</th>\n",
       "      <td>ENSP00000436585</td>\n",
       "      <td>1</td>\n",
       "      <td>NaN</td>\n",
       "      <td>BMG_PT092678</td>\n",
       "    </tr>\n",
       "    <tr>\n",
       "      <th>15473936</th>\n",
       "      <td>ENSP00000438144</td>\n",
       "      <td>1</td>\n",
       "      <td>NaN</td>\n",
       "      <td>BMG_PT128776</td>\n",
       "    </tr>\n",
       "    <tr>\n",
       "      <th>15473937</th>\n",
       "      <td>ENSP00000448165</td>\n",
       "      <td>1</td>\n",
       "      <td>NaN</td>\n",
       "      <td>BMG_PT033598</td>\n",
       "    </tr>\n",
       "    <tr>\n",
       "      <th>15473938</th>\n",
       "      <td>ENSP00000453129</td>\n",
       "      <td>1</td>\n",
       "      <td>NaN</td>\n",
       "      <td>BMG_PT042538</td>\n",
       "    </tr>\n",
       "  </tbody>\n",
       "</table>\n",
       "<p>74576305 rows × 4 columns</p>\n",
       "</div>"
      ],
      "text/plain": [
       "                  Protein       CID                     inchikey         To_ID\n",
       "0         ENSP00000257254  91758680  DMDVEPIJCJGHPE-UHFFFAOYSA-K  BMG_PT040452\n",
       "1         ENSP00000302120  91758680  DMDVEPIJCJGHPE-UHFFFAOYSA-K  BMG_PT101482\n",
       "2         ENSP00000006777  91758408  AZJRSFUJNQNLRC-UHFFFAOYSA-N  BMG_PT062814\n",
       "3         ENSP00000056217  91758408  AZJRSFUJNQNLRC-UHFFFAOYSA-N  BMG_PT043776\n",
       "4         ENSP00000216085  91758408  AZJRSFUJNQNLRC-UHFFFAOYSA-N  BMG_PT099520\n",
       "...                   ...       ...                          ...           ...\n",
       "15473934  ENSP00000420588         1                          NaN  BMG_PT042466\n",
       "15473935  ENSP00000436585         1                          NaN  BMG_PT092678\n",
       "15473936  ENSP00000438144         1                          NaN  BMG_PT128776\n",
       "15473937  ENSP00000448165         1                          NaN  BMG_PT033598\n",
       "15473938  ENSP00000453129         1                          NaN  BMG_PT042538\n",
       "\n",
       "[74576305 rows x 4 columns]"
      ]
     },
     "execution_count": 12,
     "metadata": {},
     "output_type": "execute_result"
    }
   ],
   "source": [
    "ensembl_biomedgraphica = biomedgraphica_protein[['Ensembl_Protein_ID', 'BioMedGraphica_ID']]\n",
    "ensembl_biomedgraphica.dropna(subset=['Ensembl_Protein_ID'], inplace=True)\n",
    "ensembl_biomedgraphica = ensembl_biomedgraphica.assign(Ensembl_Protein_ID=ensembl_biomedgraphica['Ensembl_Protein_ID'].str.split(';')).explode('Ensembl_Protein_ID')\n",
    "ensembl_to_individualID = ensembl_biomedgraphica.groupby('Ensembl_Protein_ID')['BioMedGraphica_ID'].apply(lambda x: ';'.join(x.dropna().unique())).to_dict()\n",
    "\n",
    "stitch_filter['To_ID'] = stitch_filter['Protein'].map(ensembl_to_individualID)\n",
    "stitch_filter"
   ]
  },
  {
   "cell_type": "markdown",
   "metadata": {},
   "source": [
    "CID"
   ]
  },
  {
   "cell_type": "code",
   "execution_count": 13,
   "metadata": {},
   "outputs": [
    {
     "name": "stderr",
     "output_type": "stream",
     "text": [
      "C:\\Users\\shunn\\AppData\\Local\\Temp\\ipykernel_11016\\1477049739.py:2: SettingWithCopyWarning: \n",
      "A value is trying to be set on a copy of a slice from a DataFrame\n",
      "\n",
      "See the caveats in the documentation: https://pandas.pydata.org/pandas-docs/stable/user_guide/indexing.html#returning-a-view-versus-a-copy\n",
      "  cid_biomedgraphica.dropna(subset=['PubChem_CID'], inplace=True)\n",
      "C:\\Users\\shunn\\AppData\\Local\\Temp\\ipykernel_11016\\1477049739.py:6: SettingWithCopyWarning: \n",
      "A value is trying to be set on a copy of a slice from a DataFrame.\n",
      "Try using .loc[row_indexer,col_indexer] = value instead\n",
      "\n",
      "See the caveats in the documentation: https://pandas.pydata.org/pandas-docs/stable/user_guide/indexing.html#returning-a-view-versus-a-copy\n",
      "  stitch_filter['From_CID'] = stitch_filter['CID'].map(cid_to_individualID)\n"
     ]
    },
    {
     "data": {
      "application/vnd.microsoft.datawrangler.viewer.v0+json": {
       "columns": [
        {
         "name": "index",
         "rawType": "int64",
         "type": "integer"
        },
        {
         "name": "Protein",
         "rawType": "object",
         "type": "string"
        },
        {
         "name": "CID",
         "rawType": "int64",
         "type": "integer"
        },
        {
         "name": "inchikey",
         "rawType": "object",
         "type": "unknown"
        },
        {
         "name": "To_ID",
         "rawType": "object",
         "type": "unknown"
        },
        {
         "name": "From_CID",
         "rawType": "object",
         "type": "unknown"
        }
       ],
       "conversionMethod": "pd.DataFrame",
       "ref": "f90edb0b-0286-4aa8-a595-6bb3d062db96",
       "rows": [
        [
         "0",
         "ENSP00000257254",
         "91758680",
         "DMDVEPIJCJGHPE-UHFFFAOYSA-K",
         "BMG_PT040452",
         null
        ],
        [
         "1",
         "ENSP00000302120",
         "91758680",
         "DMDVEPIJCJGHPE-UHFFFAOYSA-K",
         "BMG_PT101482",
         null
        ],
        [
         "2",
         "ENSP00000006777",
         "91758408",
         "AZJRSFUJNQNLRC-UHFFFAOYSA-N",
         "BMG_PT062814",
         null
        ],
        [
         "3",
         "ENSP00000056217",
         "91758408",
         "AZJRSFUJNQNLRC-UHFFFAOYSA-N",
         "BMG_PT043776",
         null
        ],
        [
         "4",
         "ENSP00000216085",
         "91758408",
         "AZJRSFUJNQNLRC-UHFFFAOYSA-N",
         "BMG_PT099520",
         null
        ],
        [
         "5",
         "ENSP00000221740",
         "91758408",
         "AZJRSFUJNQNLRC-UHFFFAOYSA-N",
         null,
         null
        ],
        [
         "6",
         "ENSP00000235329",
         "91758408",
         "AZJRSFUJNQNLRC-UHFFFAOYSA-N",
         "BMG_PT036852",
         null
        ],
        [
         "7",
         "ENSP00000259791",
         "91758408",
         "AZJRSFUJNQNLRC-UHFFFAOYSA-N",
         null,
         null
        ],
        [
         "8",
         "ENSP00000262366",
         "91758408",
         "AZJRSFUJNQNLRC-UHFFFAOYSA-N",
         "BMG_PT087293",
         null
        ],
        [
         "9",
         "ENSP00000262794",
         "91758408",
         "AZJRSFUJNQNLRC-UHFFFAOYSA-N",
         "BMG_PT086883",
         null
        ],
        [
         "10",
         "ENSP00000263969",
         "91758408",
         "AZJRSFUJNQNLRC-UHFFFAOYSA-N",
         "BMG_PT070979",
         null
        ],
        [
         "11",
         "ENSP00000265164",
         "91758408",
         "AZJRSFUJNQNLRC-UHFFFAOYSA-N",
         "BMG_PT041539",
         null
        ],
        [
         "12",
         "ENSP00000265689",
         "91758408",
         "AZJRSFUJNQNLRC-UHFFFAOYSA-N",
         "BMG_PT040508",
         null
        ],
        [
         "13",
         "ENSP00000266517",
         "91758408",
         "AZJRSFUJNQNLRC-UHFFFAOYSA-N",
         "BMG_PT101237",
         null
        ],
        [
         "14",
         "ENSP00000270747",
         "91758408",
         "AZJRSFUJNQNLRC-UHFFFAOYSA-N",
         "BMG_PT070970",
         null
        ],
        [
         "15",
         "ENSP00000284320",
         "91758408",
         "AZJRSFUJNQNLRC-UHFFFAOYSA-N",
         "BMG_PT036616",
         null
        ],
        [
         "16",
         "ENSP00000286186",
         "91758408",
         "AZJRSFUJNQNLRC-UHFFFAOYSA-N",
         "BMG_PT079019",
         null
        ],
        [
         "17",
         "ENSP00000296805",
         "91758408",
         "AZJRSFUJNQNLRC-UHFFFAOYSA-N",
         "BMG_PT079417",
         null
        ],
        [
         "18",
         "ENSP00000297012",
         "91758408",
         "AZJRSFUJNQNLRC-UHFFFAOYSA-N",
         "BMG_PT083638",
         null
        ],
        [
         "19",
         "ENSP00000311032",
         "91758408",
         "AZJRSFUJNQNLRC-UHFFFAOYSA-N",
         "BMG_PT040738",
         null
        ],
        [
         "20",
         "ENSP00000312455",
         "91758408",
         "AZJRSFUJNQNLRC-UHFFFAOYSA-N",
         "BMG_PT034247",
         null
        ],
        [
         "21",
         "ENSP00000312664",
         "91758408",
         "AZJRSFUJNQNLRC-UHFFFAOYSA-N",
         "BMG_PT040739",
         null
        ],
        [
         "22",
         "ENSP00000321389",
         "91758408",
         "AZJRSFUJNQNLRC-UHFFFAOYSA-N",
         "BMG_PT079210",
         null
        ],
        [
         "23",
         "ENSP00000325421",
         "91758408",
         "AZJRSFUJNQNLRC-UHFFFAOYSA-N",
         "BMG_PT088683",
         null
        ],
        [
         "24",
         "ENSP00000328484",
         "91758408",
         "AZJRSFUJNQNLRC-UHFFFAOYSA-N",
         "BMG_PT084711",
         null
        ],
        [
         "25",
         "ENSP00000330237",
         "91758408",
         "AZJRSFUJNQNLRC-UHFFFAOYSA-N",
         "BMG_PT041538",
         null
        ],
        [
         "26",
         "ENSP00000330307",
         "91758408",
         "AZJRSFUJNQNLRC-UHFFFAOYSA-N",
         null,
         null
        ],
        [
         "27",
         "ENSP00000332790",
         "91758408",
         "AZJRSFUJNQNLRC-UHFFFAOYSA-N",
         "BMG_PT070485",
         null
        ],
        [
         "28",
         "ENSP00000341094",
         "91758408",
         "AZJRSFUJNQNLRC-UHFFFAOYSA-N",
         "BMG_PT039548",
         null
        ],
        [
         "29",
         "ENSP00000344779",
         "91758408",
         "AZJRSFUJNQNLRC-UHFFFAOYSA-N",
         "BMG_PT077174",
         null
        ],
        [
         "30",
         "ENSP00000351273",
         "91758408",
         "AZJRSFUJNQNLRC-UHFFFAOYSA-N",
         "BMG_PT045293",
         null
        ],
        [
         "31",
         "ENSP00000352572",
         "91758408",
         "AZJRSFUJNQNLRC-UHFFFAOYSA-N",
         "BMG_PT037193",
         null
        ],
        [
         "32",
         "ENSP00000353660",
         "91758408",
         "AZJRSFUJNQNLRC-UHFFFAOYSA-N",
         "BMG_PT045776",
         null
        ],
        [
         "33",
         "ENSP00000354681",
         "91758408",
         "AZJRSFUJNQNLRC-UHFFFAOYSA-N",
         "BMG_PT035072",
         null
        ],
        [
         "34",
         "ENSP00000355656",
         "91758408",
         "AZJRSFUJNQNLRC-UHFFFAOYSA-N",
         "BMG_PT067137",
         null
        ],
        [
         "35",
         "ENSP00000356022",
         "91758408",
         "AZJRSFUJNQNLRC-UHFFFAOYSA-N",
         "BMG_PT037906",
         null
        ],
        [
         "36",
         "ENSP00000356170",
         "91758408",
         "AZJRSFUJNQNLRC-UHFFFAOYSA-N",
         "BMG_PT093051",
         null
        ],
        [
         "37",
         "ENSP00000357051",
         "91758408",
         "AZJRSFUJNQNLRC-UHFFFAOYSA-N",
         "BMG_PT040652",
         null
        ],
        [
         "38",
         "ENSP00000358155",
         "91758408",
         "AZJRSFUJNQNLRC-UHFFFAOYSA-N",
         "BMG_PT060964",
         null
        ],
        [
         "39",
         "ENSP00000358327",
         "91758408",
         "AZJRSFUJNQNLRC-UHFFFAOYSA-N",
         "BMG_PT102770",
         null
        ],
        [
         "40",
         "ENSP00000364310",
         "91758408",
         "AZJRSFUJNQNLRC-UHFFFAOYSA-N",
         "BMG_PT039237",
         null
        ],
        [
         "41",
         "ENSP00000364858",
         "91758408",
         "AZJRSFUJNQNLRC-UHFFFAOYSA-N",
         null,
         null
        ],
        [
         "42",
         "ENSP00000364859",
         "91758408",
         "AZJRSFUJNQNLRC-UHFFFAOYSA-N",
         null,
         null
        ],
        [
         "43",
         "ENSP00000367355",
         "91758408",
         "AZJRSFUJNQNLRC-UHFFFAOYSA-N",
         "BMG_PT009045",
         null
        ],
        [
         "44",
         "ENSP00000373730",
         "91758408",
         "AZJRSFUJNQNLRC-UHFFFAOYSA-N",
         "BMG_PT085778",
         null
        ],
        [
         "45",
         "ENSP00000375767",
         "91758408",
         "AZJRSFUJNQNLRC-UHFFFAOYSA-N",
         "BMG_PT099163",
         null
        ],
        [
         "46",
         "ENSP00000376849",
         "91758408",
         "AZJRSFUJNQNLRC-UHFFFAOYSA-N",
         "BMG_PT041306",
         null
        ],
        [
         "47",
         "ENSP00000384400",
         "91758408",
         "AZJRSFUJNQNLRC-UHFFFAOYSA-N",
         "BMG_PT099070",
         null
        ],
        [
         "48",
         "ENSP00000388566",
         "91758408",
         "AZJRSFUJNQNLRC-UHFFFAOYSA-N",
         "BMG_PT041074",
         null
        ],
        [
         "49",
         "ENSP00000400592",
         "91758408",
         "AZJRSFUJNQNLRC-UHFFFAOYSA-N",
         null,
         null
        ]
       ],
       "shape": {
        "columns": 5,
        "rows": 74576305
       }
      },
      "text/html": [
       "<div>\n",
       "<style scoped>\n",
       "    .dataframe tbody tr th:only-of-type {\n",
       "        vertical-align: middle;\n",
       "    }\n",
       "\n",
       "    .dataframe tbody tr th {\n",
       "        vertical-align: top;\n",
       "    }\n",
       "\n",
       "    .dataframe thead th {\n",
       "        text-align: right;\n",
       "    }\n",
       "</style>\n",
       "<table border=\"1\" class=\"dataframe\">\n",
       "  <thead>\n",
       "    <tr style=\"text-align: right;\">\n",
       "      <th></th>\n",
       "      <th>Protein</th>\n",
       "      <th>CID</th>\n",
       "      <th>inchikey</th>\n",
       "      <th>To_ID</th>\n",
       "      <th>From_CID</th>\n",
       "    </tr>\n",
       "  </thead>\n",
       "  <tbody>\n",
       "    <tr>\n",
       "      <th>0</th>\n",
       "      <td>ENSP00000257254</td>\n",
       "      <td>91758680</td>\n",
       "      <td>DMDVEPIJCJGHPE-UHFFFAOYSA-K</td>\n",
       "      <td>BMG_PT040452</td>\n",
       "      <td>NaN</td>\n",
       "    </tr>\n",
       "    <tr>\n",
       "      <th>1</th>\n",
       "      <td>ENSP00000302120</td>\n",
       "      <td>91758680</td>\n",
       "      <td>DMDVEPIJCJGHPE-UHFFFAOYSA-K</td>\n",
       "      <td>BMG_PT101482</td>\n",
       "      <td>NaN</td>\n",
       "    </tr>\n",
       "    <tr>\n",
       "      <th>2</th>\n",
       "      <td>ENSP00000006777</td>\n",
       "      <td>91758408</td>\n",
       "      <td>AZJRSFUJNQNLRC-UHFFFAOYSA-N</td>\n",
       "      <td>BMG_PT062814</td>\n",
       "      <td>NaN</td>\n",
       "    </tr>\n",
       "    <tr>\n",
       "      <th>3</th>\n",
       "      <td>ENSP00000056217</td>\n",
       "      <td>91758408</td>\n",
       "      <td>AZJRSFUJNQNLRC-UHFFFAOYSA-N</td>\n",
       "      <td>BMG_PT043776</td>\n",
       "      <td>NaN</td>\n",
       "    </tr>\n",
       "    <tr>\n",
       "      <th>4</th>\n",
       "      <td>ENSP00000216085</td>\n",
       "      <td>91758408</td>\n",
       "      <td>AZJRSFUJNQNLRC-UHFFFAOYSA-N</td>\n",
       "      <td>BMG_PT099520</td>\n",
       "      <td>NaN</td>\n",
       "    </tr>\n",
       "    <tr>\n",
       "      <th>...</th>\n",
       "      <td>...</td>\n",
       "      <td>...</td>\n",
       "      <td>...</td>\n",
       "      <td>...</td>\n",
       "      <td>...</td>\n",
       "    </tr>\n",
       "    <tr>\n",
       "      <th>15473934</th>\n",
       "      <td>ENSP00000420588</td>\n",
       "      <td>1</td>\n",
       "      <td>NaN</td>\n",
       "      <td>BMG_PT042466</td>\n",
       "      <td>NaN</td>\n",
       "    </tr>\n",
       "    <tr>\n",
       "      <th>15473935</th>\n",
       "      <td>ENSP00000436585</td>\n",
       "      <td>1</td>\n",
       "      <td>NaN</td>\n",
       "      <td>BMG_PT092678</td>\n",
       "      <td>NaN</td>\n",
       "    </tr>\n",
       "    <tr>\n",
       "      <th>15473936</th>\n",
       "      <td>ENSP00000438144</td>\n",
       "      <td>1</td>\n",
       "      <td>NaN</td>\n",
       "      <td>BMG_PT128776</td>\n",
       "      <td>NaN</td>\n",
       "    </tr>\n",
       "    <tr>\n",
       "      <th>15473937</th>\n",
       "      <td>ENSP00000448165</td>\n",
       "      <td>1</td>\n",
       "      <td>NaN</td>\n",
       "      <td>BMG_PT033598</td>\n",
       "      <td>NaN</td>\n",
       "    </tr>\n",
       "    <tr>\n",
       "      <th>15473938</th>\n",
       "      <td>ENSP00000453129</td>\n",
       "      <td>1</td>\n",
       "      <td>NaN</td>\n",
       "      <td>BMG_PT042538</td>\n",
       "      <td>NaN</td>\n",
       "    </tr>\n",
       "  </tbody>\n",
       "</table>\n",
       "<p>74576305 rows × 5 columns</p>\n",
       "</div>"
      ],
      "text/plain": [
       "                  Protein       CID                     inchikey  \\\n",
       "0         ENSP00000257254  91758680  DMDVEPIJCJGHPE-UHFFFAOYSA-K   \n",
       "1         ENSP00000302120  91758680  DMDVEPIJCJGHPE-UHFFFAOYSA-K   \n",
       "2         ENSP00000006777  91758408  AZJRSFUJNQNLRC-UHFFFAOYSA-N   \n",
       "3         ENSP00000056217  91758408  AZJRSFUJNQNLRC-UHFFFAOYSA-N   \n",
       "4         ENSP00000216085  91758408  AZJRSFUJNQNLRC-UHFFFAOYSA-N   \n",
       "...                   ...       ...                          ...   \n",
       "15473934  ENSP00000420588         1                          NaN   \n",
       "15473935  ENSP00000436585         1                          NaN   \n",
       "15473936  ENSP00000438144         1                          NaN   \n",
       "15473937  ENSP00000448165         1                          NaN   \n",
       "15473938  ENSP00000453129         1                          NaN   \n",
       "\n",
       "                 To_ID From_CID  \n",
       "0         BMG_PT040452      NaN  \n",
       "1         BMG_PT101482      NaN  \n",
       "2         BMG_PT062814      NaN  \n",
       "3         BMG_PT043776      NaN  \n",
       "4         BMG_PT099520      NaN  \n",
       "...                ...      ...  \n",
       "15473934  BMG_PT042466      NaN  \n",
       "15473935  BMG_PT092678      NaN  \n",
       "15473936  BMG_PT128776      NaN  \n",
       "15473937  BMG_PT033598      NaN  \n",
       "15473938  BMG_PT042538      NaN  \n",
       "\n",
       "[74576305 rows x 5 columns]"
      ]
     },
     "execution_count": 13,
     "metadata": {},
     "output_type": "execute_result"
    }
   ],
   "source": [
    "cid_biomedgraphica = biomedgraphica_metabolite[['BioMedGraphica_ID', 'PubChem_CID']]\n",
    "cid_biomedgraphica.dropna(subset=['PubChem_CID'], inplace=True)\n",
    "cid_biomedgraphica = cid_biomedgraphica.assign(PubChem_CID=cid_biomedgraphica['PubChem_CID'].str.split(';')).explode('PubChem_CID')\n",
    "cid_to_individualID = cid_biomedgraphica.groupby('PubChem_CID')['BioMedGraphica_ID'].apply(lambda x: ';'.join(x.dropna().unique())).to_dict()\n",
    "\n",
    "stitch_filter['From_CID'] = stitch_filter['CID'].map(cid_to_individualID)\n",
    "stitch_filter"
   ]
  },
  {
   "cell_type": "markdown",
   "metadata": {},
   "source": [
    "InchiKey"
   ]
  },
  {
   "cell_type": "code",
   "execution_count": 16,
   "metadata": {},
   "outputs": [
    {
     "name": "stderr",
     "output_type": "stream",
     "text": [
      "C:\\Users\\shunn\\AppData\\Local\\Temp\\ipykernel_11016\\3631316115.py:2: SettingWithCopyWarning: \n",
      "A value is trying to be set on a copy of a slice from a DataFrame\n",
      "\n",
      "See the caveats in the documentation: https://pandas.pydata.org/pandas-docs/stable/user_guide/indexing.html#returning-a-view-versus-a-copy\n",
      "  inchikey_biomedgraphica.dropna(subset=['InChIKey'], inplace=True)\n",
      "C:\\Users\\shunn\\AppData\\Local\\Temp\\ipykernel_11016\\3631316115.py:6: SettingWithCopyWarning: \n",
      "A value is trying to be set on a copy of a slice from a DataFrame.\n",
      "Try using .loc[row_indexer,col_indexer] = value instead\n",
      "\n",
      "See the caveats in the documentation: https://pandas.pydata.org/pandas-docs/stable/user_guide/indexing.html#returning-a-view-versus-a-copy\n",
      "  stitch_filter['From_InChIKey'] = stitch_filter['inchikey'].map(inchikey_to_individualID)\n"
     ]
    },
    {
     "data": {
      "application/vnd.microsoft.datawrangler.viewer.v0+json": {
       "columns": [
        {
         "name": "index",
         "rawType": "int64",
         "type": "integer"
        },
        {
         "name": "Protein",
         "rawType": "object",
         "type": "string"
        },
        {
         "name": "CID",
         "rawType": "int64",
         "type": "integer"
        },
        {
         "name": "inchikey",
         "rawType": "object",
         "type": "unknown"
        },
        {
         "name": "To_ID",
         "rawType": "object",
         "type": "unknown"
        },
        {
         "name": "From_CID",
         "rawType": "object",
         "type": "unknown"
        },
        {
         "name": "From_InChIKey",
         "rawType": "object",
         "type": "unknown"
        }
       ],
       "conversionMethod": "pd.DataFrame",
       "ref": "b2fb5c59-6139-448d-8192-b5269969b681",
       "rows": [
        [
         "0",
         "ENSP00000257254",
         "91758680",
         "DMDVEPIJCJGHPE-UHFFFAOYSA-K",
         "BMG_PT040452",
         null,
         null
        ],
        [
         "1",
         "ENSP00000302120",
         "91758680",
         "DMDVEPIJCJGHPE-UHFFFAOYSA-K",
         "BMG_PT101482",
         null,
         null
        ],
        [
         "2",
         "ENSP00000006777",
         "91758408",
         "AZJRSFUJNQNLRC-UHFFFAOYSA-N",
         "BMG_PT062814",
         null,
         null
        ],
        [
         "3",
         "ENSP00000056217",
         "91758408",
         "AZJRSFUJNQNLRC-UHFFFAOYSA-N",
         "BMG_PT043776",
         null,
         null
        ],
        [
         "4",
         "ENSP00000216085",
         "91758408",
         "AZJRSFUJNQNLRC-UHFFFAOYSA-N",
         "BMG_PT099520",
         null,
         null
        ],
        [
         "5",
         "ENSP00000221740",
         "91758408",
         "AZJRSFUJNQNLRC-UHFFFAOYSA-N",
         null,
         null,
         null
        ],
        [
         "6",
         "ENSP00000235329",
         "91758408",
         "AZJRSFUJNQNLRC-UHFFFAOYSA-N",
         "BMG_PT036852",
         null,
         null
        ],
        [
         "7",
         "ENSP00000259791",
         "91758408",
         "AZJRSFUJNQNLRC-UHFFFAOYSA-N",
         null,
         null,
         null
        ],
        [
         "8",
         "ENSP00000262366",
         "91758408",
         "AZJRSFUJNQNLRC-UHFFFAOYSA-N",
         "BMG_PT087293",
         null,
         null
        ],
        [
         "9",
         "ENSP00000262794",
         "91758408",
         "AZJRSFUJNQNLRC-UHFFFAOYSA-N",
         "BMG_PT086883",
         null,
         null
        ],
        [
         "10",
         "ENSP00000263969",
         "91758408",
         "AZJRSFUJNQNLRC-UHFFFAOYSA-N",
         "BMG_PT070979",
         null,
         null
        ],
        [
         "11",
         "ENSP00000265164",
         "91758408",
         "AZJRSFUJNQNLRC-UHFFFAOYSA-N",
         "BMG_PT041539",
         null,
         null
        ],
        [
         "12",
         "ENSP00000265689",
         "91758408",
         "AZJRSFUJNQNLRC-UHFFFAOYSA-N",
         "BMG_PT040508",
         null,
         null
        ],
        [
         "13",
         "ENSP00000266517",
         "91758408",
         "AZJRSFUJNQNLRC-UHFFFAOYSA-N",
         "BMG_PT101237",
         null,
         null
        ],
        [
         "14",
         "ENSP00000270747",
         "91758408",
         "AZJRSFUJNQNLRC-UHFFFAOYSA-N",
         "BMG_PT070970",
         null,
         null
        ],
        [
         "15",
         "ENSP00000284320",
         "91758408",
         "AZJRSFUJNQNLRC-UHFFFAOYSA-N",
         "BMG_PT036616",
         null,
         null
        ],
        [
         "16",
         "ENSP00000286186",
         "91758408",
         "AZJRSFUJNQNLRC-UHFFFAOYSA-N",
         "BMG_PT079019",
         null,
         null
        ],
        [
         "17",
         "ENSP00000296805",
         "91758408",
         "AZJRSFUJNQNLRC-UHFFFAOYSA-N",
         "BMG_PT079417",
         null,
         null
        ],
        [
         "18",
         "ENSP00000297012",
         "91758408",
         "AZJRSFUJNQNLRC-UHFFFAOYSA-N",
         "BMG_PT083638",
         null,
         null
        ],
        [
         "19",
         "ENSP00000311032",
         "91758408",
         "AZJRSFUJNQNLRC-UHFFFAOYSA-N",
         "BMG_PT040738",
         null,
         null
        ],
        [
         "20",
         "ENSP00000312455",
         "91758408",
         "AZJRSFUJNQNLRC-UHFFFAOYSA-N",
         "BMG_PT034247",
         null,
         null
        ],
        [
         "21",
         "ENSP00000312664",
         "91758408",
         "AZJRSFUJNQNLRC-UHFFFAOYSA-N",
         "BMG_PT040739",
         null,
         null
        ],
        [
         "22",
         "ENSP00000321389",
         "91758408",
         "AZJRSFUJNQNLRC-UHFFFAOYSA-N",
         "BMG_PT079210",
         null,
         null
        ],
        [
         "23",
         "ENSP00000325421",
         "91758408",
         "AZJRSFUJNQNLRC-UHFFFAOYSA-N",
         "BMG_PT088683",
         null,
         null
        ],
        [
         "24",
         "ENSP00000328484",
         "91758408",
         "AZJRSFUJNQNLRC-UHFFFAOYSA-N",
         "BMG_PT084711",
         null,
         null
        ],
        [
         "25",
         "ENSP00000330237",
         "91758408",
         "AZJRSFUJNQNLRC-UHFFFAOYSA-N",
         "BMG_PT041538",
         null,
         null
        ],
        [
         "26",
         "ENSP00000330307",
         "91758408",
         "AZJRSFUJNQNLRC-UHFFFAOYSA-N",
         null,
         null,
         null
        ],
        [
         "27",
         "ENSP00000332790",
         "91758408",
         "AZJRSFUJNQNLRC-UHFFFAOYSA-N",
         "BMG_PT070485",
         null,
         null
        ],
        [
         "28",
         "ENSP00000341094",
         "91758408",
         "AZJRSFUJNQNLRC-UHFFFAOYSA-N",
         "BMG_PT039548",
         null,
         null
        ],
        [
         "29",
         "ENSP00000344779",
         "91758408",
         "AZJRSFUJNQNLRC-UHFFFAOYSA-N",
         "BMG_PT077174",
         null,
         null
        ],
        [
         "30",
         "ENSP00000351273",
         "91758408",
         "AZJRSFUJNQNLRC-UHFFFAOYSA-N",
         "BMG_PT045293",
         null,
         null
        ],
        [
         "31",
         "ENSP00000352572",
         "91758408",
         "AZJRSFUJNQNLRC-UHFFFAOYSA-N",
         "BMG_PT037193",
         null,
         null
        ],
        [
         "32",
         "ENSP00000353660",
         "91758408",
         "AZJRSFUJNQNLRC-UHFFFAOYSA-N",
         "BMG_PT045776",
         null,
         null
        ],
        [
         "33",
         "ENSP00000354681",
         "91758408",
         "AZJRSFUJNQNLRC-UHFFFAOYSA-N",
         "BMG_PT035072",
         null,
         null
        ],
        [
         "34",
         "ENSP00000355656",
         "91758408",
         "AZJRSFUJNQNLRC-UHFFFAOYSA-N",
         "BMG_PT067137",
         null,
         null
        ],
        [
         "35",
         "ENSP00000356022",
         "91758408",
         "AZJRSFUJNQNLRC-UHFFFAOYSA-N",
         "BMG_PT037906",
         null,
         null
        ],
        [
         "36",
         "ENSP00000356170",
         "91758408",
         "AZJRSFUJNQNLRC-UHFFFAOYSA-N",
         "BMG_PT093051",
         null,
         null
        ],
        [
         "37",
         "ENSP00000357051",
         "91758408",
         "AZJRSFUJNQNLRC-UHFFFAOYSA-N",
         "BMG_PT040652",
         null,
         null
        ],
        [
         "38",
         "ENSP00000358155",
         "91758408",
         "AZJRSFUJNQNLRC-UHFFFAOYSA-N",
         "BMG_PT060964",
         null,
         null
        ],
        [
         "39",
         "ENSP00000358327",
         "91758408",
         "AZJRSFUJNQNLRC-UHFFFAOYSA-N",
         "BMG_PT102770",
         null,
         null
        ],
        [
         "40",
         "ENSP00000364310",
         "91758408",
         "AZJRSFUJNQNLRC-UHFFFAOYSA-N",
         "BMG_PT039237",
         null,
         null
        ],
        [
         "41",
         "ENSP00000364858",
         "91758408",
         "AZJRSFUJNQNLRC-UHFFFAOYSA-N",
         null,
         null,
         null
        ],
        [
         "42",
         "ENSP00000364859",
         "91758408",
         "AZJRSFUJNQNLRC-UHFFFAOYSA-N",
         null,
         null,
         null
        ],
        [
         "43",
         "ENSP00000367355",
         "91758408",
         "AZJRSFUJNQNLRC-UHFFFAOYSA-N",
         "BMG_PT009045",
         null,
         null
        ],
        [
         "44",
         "ENSP00000373730",
         "91758408",
         "AZJRSFUJNQNLRC-UHFFFAOYSA-N",
         "BMG_PT085778",
         null,
         null
        ],
        [
         "45",
         "ENSP00000375767",
         "91758408",
         "AZJRSFUJNQNLRC-UHFFFAOYSA-N",
         "BMG_PT099163",
         null,
         null
        ],
        [
         "46",
         "ENSP00000376849",
         "91758408",
         "AZJRSFUJNQNLRC-UHFFFAOYSA-N",
         "BMG_PT041306",
         null,
         null
        ],
        [
         "47",
         "ENSP00000384400",
         "91758408",
         "AZJRSFUJNQNLRC-UHFFFAOYSA-N",
         "BMG_PT099070",
         null,
         null
        ],
        [
         "48",
         "ENSP00000388566",
         "91758408",
         "AZJRSFUJNQNLRC-UHFFFAOYSA-N",
         "BMG_PT041074",
         null,
         null
        ],
        [
         "49",
         "ENSP00000400592",
         "91758408",
         "AZJRSFUJNQNLRC-UHFFFAOYSA-N",
         null,
         null,
         null
        ]
       ],
       "shape": {
        "columns": 6,
        "rows": 74576305
       }
      },
      "text/html": [
       "<div>\n",
       "<style scoped>\n",
       "    .dataframe tbody tr th:only-of-type {\n",
       "        vertical-align: middle;\n",
       "    }\n",
       "\n",
       "    .dataframe tbody tr th {\n",
       "        vertical-align: top;\n",
       "    }\n",
       "\n",
       "    .dataframe thead th {\n",
       "        text-align: right;\n",
       "    }\n",
       "</style>\n",
       "<table border=\"1\" class=\"dataframe\">\n",
       "  <thead>\n",
       "    <tr style=\"text-align: right;\">\n",
       "      <th></th>\n",
       "      <th>Protein</th>\n",
       "      <th>CID</th>\n",
       "      <th>inchikey</th>\n",
       "      <th>To_ID</th>\n",
       "      <th>From_CID</th>\n",
       "      <th>From_InChIKey</th>\n",
       "    </tr>\n",
       "  </thead>\n",
       "  <tbody>\n",
       "    <tr>\n",
       "      <th>0</th>\n",
       "      <td>ENSP00000257254</td>\n",
       "      <td>91758680</td>\n",
       "      <td>DMDVEPIJCJGHPE-UHFFFAOYSA-K</td>\n",
       "      <td>BMG_PT040452</td>\n",
       "      <td>NaN</td>\n",
       "      <td>NaN</td>\n",
       "    </tr>\n",
       "    <tr>\n",
       "      <th>1</th>\n",
       "      <td>ENSP00000302120</td>\n",
       "      <td>91758680</td>\n",
       "      <td>DMDVEPIJCJGHPE-UHFFFAOYSA-K</td>\n",
       "      <td>BMG_PT101482</td>\n",
       "      <td>NaN</td>\n",
       "      <td>NaN</td>\n",
       "    </tr>\n",
       "    <tr>\n",
       "      <th>2</th>\n",
       "      <td>ENSP00000006777</td>\n",
       "      <td>91758408</td>\n",
       "      <td>AZJRSFUJNQNLRC-UHFFFAOYSA-N</td>\n",
       "      <td>BMG_PT062814</td>\n",
       "      <td>NaN</td>\n",
       "      <td>NaN</td>\n",
       "    </tr>\n",
       "    <tr>\n",
       "      <th>3</th>\n",
       "      <td>ENSP00000056217</td>\n",
       "      <td>91758408</td>\n",
       "      <td>AZJRSFUJNQNLRC-UHFFFAOYSA-N</td>\n",
       "      <td>BMG_PT043776</td>\n",
       "      <td>NaN</td>\n",
       "      <td>NaN</td>\n",
       "    </tr>\n",
       "    <tr>\n",
       "      <th>4</th>\n",
       "      <td>ENSP00000216085</td>\n",
       "      <td>91758408</td>\n",
       "      <td>AZJRSFUJNQNLRC-UHFFFAOYSA-N</td>\n",
       "      <td>BMG_PT099520</td>\n",
       "      <td>NaN</td>\n",
       "      <td>NaN</td>\n",
       "    </tr>\n",
       "    <tr>\n",
       "      <th>...</th>\n",
       "      <td>...</td>\n",
       "      <td>...</td>\n",
       "      <td>...</td>\n",
       "      <td>...</td>\n",
       "      <td>...</td>\n",
       "      <td>...</td>\n",
       "    </tr>\n",
       "    <tr>\n",
       "      <th>15473934</th>\n",
       "      <td>ENSP00000420588</td>\n",
       "      <td>1</td>\n",
       "      <td>NaN</td>\n",
       "      <td>BMG_PT042466</td>\n",
       "      <td>NaN</td>\n",
       "      <td>NaN</td>\n",
       "    </tr>\n",
       "    <tr>\n",
       "      <th>15473935</th>\n",
       "      <td>ENSP00000436585</td>\n",
       "      <td>1</td>\n",
       "      <td>NaN</td>\n",
       "      <td>BMG_PT092678</td>\n",
       "      <td>NaN</td>\n",
       "      <td>NaN</td>\n",
       "    </tr>\n",
       "    <tr>\n",
       "      <th>15473936</th>\n",
       "      <td>ENSP00000438144</td>\n",
       "      <td>1</td>\n",
       "      <td>NaN</td>\n",
       "      <td>BMG_PT128776</td>\n",
       "      <td>NaN</td>\n",
       "      <td>NaN</td>\n",
       "    </tr>\n",
       "    <tr>\n",
       "      <th>15473937</th>\n",
       "      <td>ENSP00000448165</td>\n",
       "      <td>1</td>\n",
       "      <td>NaN</td>\n",
       "      <td>BMG_PT033598</td>\n",
       "      <td>NaN</td>\n",
       "      <td>NaN</td>\n",
       "    </tr>\n",
       "    <tr>\n",
       "      <th>15473938</th>\n",
       "      <td>ENSP00000453129</td>\n",
       "      <td>1</td>\n",
       "      <td>NaN</td>\n",
       "      <td>BMG_PT042538</td>\n",
       "      <td>NaN</td>\n",
       "      <td>NaN</td>\n",
       "    </tr>\n",
       "  </tbody>\n",
       "</table>\n",
       "<p>74576305 rows × 6 columns</p>\n",
       "</div>"
      ],
      "text/plain": [
       "                  Protein       CID                     inchikey  \\\n",
       "0         ENSP00000257254  91758680  DMDVEPIJCJGHPE-UHFFFAOYSA-K   \n",
       "1         ENSP00000302120  91758680  DMDVEPIJCJGHPE-UHFFFAOYSA-K   \n",
       "2         ENSP00000006777  91758408  AZJRSFUJNQNLRC-UHFFFAOYSA-N   \n",
       "3         ENSP00000056217  91758408  AZJRSFUJNQNLRC-UHFFFAOYSA-N   \n",
       "4         ENSP00000216085  91758408  AZJRSFUJNQNLRC-UHFFFAOYSA-N   \n",
       "...                   ...       ...                          ...   \n",
       "15473934  ENSP00000420588         1                          NaN   \n",
       "15473935  ENSP00000436585         1                          NaN   \n",
       "15473936  ENSP00000438144         1                          NaN   \n",
       "15473937  ENSP00000448165         1                          NaN   \n",
       "15473938  ENSP00000453129         1                          NaN   \n",
       "\n",
       "                 To_ID From_CID From_InChIKey  \n",
       "0         BMG_PT040452      NaN           NaN  \n",
       "1         BMG_PT101482      NaN           NaN  \n",
       "2         BMG_PT062814      NaN           NaN  \n",
       "3         BMG_PT043776      NaN           NaN  \n",
       "4         BMG_PT099520      NaN           NaN  \n",
       "...                ...      ...           ...  \n",
       "15473934  BMG_PT042466      NaN           NaN  \n",
       "15473935  BMG_PT092678      NaN           NaN  \n",
       "15473936  BMG_PT128776      NaN           NaN  \n",
       "15473937  BMG_PT033598      NaN           NaN  \n",
       "15473938  BMG_PT042538      NaN           NaN  \n",
       "\n",
       "[74576305 rows x 6 columns]"
      ]
     },
     "execution_count": 16,
     "metadata": {},
     "output_type": "execute_result"
    }
   ],
   "source": [
    "inchikey_biomedgraphica = biomedgraphica_metabolite[['BioMedGraphica_ID', 'InChIKey']]\n",
    "inchikey_biomedgraphica.dropna(subset=['InChIKey'], inplace=True)\n",
    "inchikey_biomedgraphica = inchikey_biomedgraphica.assign(InChIKey=inchikey_biomedgraphica['InChIKey'].str.split(';')).explode('InChIKey')\n",
    "inchikey_to_individualID = inchikey_biomedgraphica.groupby('InChIKey')['BioMedGraphica_ID'].apply(lambda x: ';'.join(x.dropna().unique())).to_dict()\n",
    "\n",
    "stitch_filter['From_InChIKey'] = stitch_filter['inchikey'].map(inchikey_to_individualID)\n",
    "stitch_filter"
   ]
  },
  {
   "cell_type": "code",
   "execution_count": 17,
   "metadata": {},
   "outputs": [
    {
     "name": "stderr",
     "output_type": "stream",
     "text": [
      "C:\\Users\\shunn\\AppData\\Local\\Temp\\ipykernel_11016\\3784575540.py:11: SettingWithCopyWarning: \n",
      "A value is trying to be set on a copy of a slice from a DataFrame.\n",
      "Try using .loc[row_indexer,col_indexer] = value instead\n",
      "\n",
      "See the caveats in the documentation: https://pandas.pydata.org/pandas-docs/stable/user_guide/indexing.html#returning-a-view-versus-a-copy\n",
      "  df[combined_column_name] = df.apply(merge_strings, axis=1)\n",
      "C:\\Users\\shunn\\AppData\\Local\\Temp\\ipykernel_11016\\3784575540.py:12: SettingWithCopyWarning: \n",
      "A value is trying to be set on a copy of a slice from a DataFrame\n",
      "\n",
      "See the caveats in the documentation: https://pandas.pydata.org/pandas-docs/stable/user_guide/indexing.html#returning-a-view-versus-a-copy\n",
      "  df.drop(columns=columns, inplace=True)\n"
     ]
    },
    {
     "data": {
      "application/vnd.microsoft.datawrangler.viewer.v0+json": {
       "columns": [
        {
         "name": "index",
         "rawType": "int64",
         "type": "integer"
        },
        {
         "name": "Protein",
         "rawType": "object",
         "type": "string"
        },
        {
         "name": "CID",
         "rawType": "int64",
         "type": "integer"
        },
        {
         "name": "inchikey",
         "rawType": "object",
         "type": "unknown"
        },
        {
         "name": "To_ID",
         "rawType": "object",
         "type": "unknown"
        },
        {
         "name": "From_ID",
         "rawType": "object",
         "type": "string"
        }
       ],
       "conversionMethod": "pd.DataFrame",
       "ref": "b2df2436-5a49-4c3d-9583-59a7cec685f6",
       "rows": [
        [
         "0",
         "ENSP00000257254",
         "91758680",
         "DMDVEPIJCJGHPE-UHFFFAOYSA-K",
         "BMG_PT040452",
         ""
        ],
        [
         "1",
         "ENSP00000302120",
         "91758680",
         "DMDVEPIJCJGHPE-UHFFFAOYSA-K",
         "BMG_PT101482",
         ""
        ],
        [
         "2",
         "ENSP00000006777",
         "91758408",
         "AZJRSFUJNQNLRC-UHFFFAOYSA-N",
         "BMG_PT062814",
         ""
        ],
        [
         "3",
         "ENSP00000056217",
         "91758408",
         "AZJRSFUJNQNLRC-UHFFFAOYSA-N",
         "BMG_PT043776",
         ""
        ],
        [
         "4",
         "ENSP00000216085",
         "91758408",
         "AZJRSFUJNQNLRC-UHFFFAOYSA-N",
         "BMG_PT099520",
         ""
        ],
        [
         "5",
         "ENSP00000221740",
         "91758408",
         "AZJRSFUJNQNLRC-UHFFFAOYSA-N",
         null,
         ""
        ],
        [
         "6",
         "ENSP00000235329",
         "91758408",
         "AZJRSFUJNQNLRC-UHFFFAOYSA-N",
         "BMG_PT036852",
         ""
        ],
        [
         "7",
         "ENSP00000259791",
         "91758408",
         "AZJRSFUJNQNLRC-UHFFFAOYSA-N",
         null,
         ""
        ],
        [
         "8",
         "ENSP00000262366",
         "91758408",
         "AZJRSFUJNQNLRC-UHFFFAOYSA-N",
         "BMG_PT087293",
         ""
        ],
        [
         "9",
         "ENSP00000262794",
         "91758408",
         "AZJRSFUJNQNLRC-UHFFFAOYSA-N",
         "BMG_PT086883",
         ""
        ],
        [
         "10",
         "ENSP00000263969",
         "91758408",
         "AZJRSFUJNQNLRC-UHFFFAOYSA-N",
         "BMG_PT070979",
         ""
        ],
        [
         "11",
         "ENSP00000265164",
         "91758408",
         "AZJRSFUJNQNLRC-UHFFFAOYSA-N",
         "BMG_PT041539",
         ""
        ],
        [
         "12",
         "ENSP00000265689",
         "91758408",
         "AZJRSFUJNQNLRC-UHFFFAOYSA-N",
         "BMG_PT040508",
         ""
        ],
        [
         "13",
         "ENSP00000266517",
         "91758408",
         "AZJRSFUJNQNLRC-UHFFFAOYSA-N",
         "BMG_PT101237",
         ""
        ],
        [
         "14",
         "ENSP00000270747",
         "91758408",
         "AZJRSFUJNQNLRC-UHFFFAOYSA-N",
         "BMG_PT070970",
         ""
        ],
        [
         "15",
         "ENSP00000284320",
         "91758408",
         "AZJRSFUJNQNLRC-UHFFFAOYSA-N",
         "BMG_PT036616",
         ""
        ],
        [
         "16",
         "ENSP00000286186",
         "91758408",
         "AZJRSFUJNQNLRC-UHFFFAOYSA-N",
         "BMG_PT079019",
         ""
        ],
        [
         "17",
         "ENSP00000296805",
         "91758408",
         "AZJRSFUJNQNLRC-UHFFFAOYSA-N",
         "BMG_PT079417",
         ""
        ],
        [
         "18",
         "ENSP00000297012",
         "91758408",
         "AZJRSFUJNQNLRC-UHFFFAOYSA-N",
         "BMG_PT083638",
         ""
        ],
        [
         "19",
         "ENSP00000311032",
         "91758408",
         "AZJRSFUJNQNLRC-UHFFFAOYSA-N",
         "BMG_PT040738",
         ""
        ],
        [
         "20",
         "ENSP00000312455",
         "91758408",
         "AZJRSFUJNQNLRC-UHFFFAOYSA-N",
         "BMG_PT034247",
         ""
        ],
        [
         "21",
         "ENSP00000312664",
         "91758408",
         "AZJRSFUJNQNLRC-UHFFFAOYSA-N",
         "BMG_PT040739",
         ""
        ],
        [
         "22",
         "ENSP00000321389",
         "91758408",
         "AZJRSFUJNQNLRC-UHFFFAOYSA-N",
         "BMG_PT079210",
         ""
        ],
        [
         "23",
         "ENSP00000325421",
         "91758408",
         "AZJRSFUJNQNLRC-UHFFFAOYSA-N",
         "BMG_PT088683",
         ""
        ],
        [
         "24",
         "ENSP00000328484",
         "91758408",
         "AZJRSFUJNQNLRC-UHFFFAOYSA-N",
         "BMG_PT084711",
         ""
        ],
        [
         "25",
         "ENSP00000330237",
         "91758408",
         "AZJRSFUJNQNLRC-UHFFFAOYSA-N",
         "BMG_PT041538",
         ""
        ],
        [
         "26",
         "ENSP00000330307",
         "91758408",
         "AZJRSFUJNQNLRC-UHFFFAOYSA-N",
         null,
         ""
        ],
        [
         "27",
         "ENSP00000332790",
         "91758408",
         "AZJRSFUJNQNLRC-UHFFFAOYSA-N",
         "BMG_PT070485",
         ""
        ],
        [
         "28",
         "ENSP00000341094",
         "91758408",
         "AZJRSFUJNQNLRC-UHFFFAOYSA-N",
         "BMG_PT039548",
         ""
        ],
        [
         "29",
         "ENSP00000344779",
         "91758408",
         "AZJRSFUJNQNLRC-UHFFFAOYSA-N",
         "BMG_PT077174",
         ""
        ],
        [
         "30",
         "ENSP00000351273",
         "91758408",
         "AZJRSFUJNQNLRC-UHFFFAOYSA-N",
         "BMG_PT045293",
         ""
        ],
        [
         "31",
         "ENSP00000352572",
         "91758408",
         "AZJRSFUJNQNLRC-UHFFFAOYSA-N",
         "BMG_PT037193",
         ""
        ],
        [
         "32",
         "ENSP00000353660",
         "91758408",
         "AZJRSFUJNQNLRC-UHFFFAOYSA-N",
         "BMG_PT045776",
         ""
        ],
        [
         "33",
         "ENSP00000354681",
         "91758408",
         "AZJRSFUJNQNLRC-UHFFFAOYSA-N",
         "BMG_PT035072",
         ""
        ],
        [
         "34",
         "ENSP00000355656",
         "91758408",
         "AZJRSFUJNQNLRC-UHFFFAOYSA-N",
         "BMG_PT067137",
         ""
        ],
        [
         "35",
         "ENSP00000356022",
         "91758408",
         "AZJRSFUJNQNLRC-UHFFFAOYSA-N",
         "BMG_PT037906",
         ""
        ],
        [
         "36",
         "ENSP00000356170",
         "91758408",
         "AZJRSFUJNQNLRC-UHFFFAOYSA-N",
         "BMG_PT093051",
         ""
        ],
        [
         "37",
         "ENSP00000357051",
         "91758408",
         "AZJRSFUJNQNLRC-UHFFFAOYSA-N",
         "BMG_PT040652",
         ""
        ],
        [
         "38",
         "ENSP00000358155",
         "91758408",
         "AZJRSFUJNQNLRC-UHFFFAOYSA-N",
         "BMG_PT060964",
         ""
        ],
        [
         "39",
         "ENSP00000358327",
         "91758408",
         "AZJRSFUJNQNLRC-UHFFFAOYSA-N",
         "BMG_PT102770",
         ""
        ],
        [
         "40",
         "ENSP00000364310",
         "91758408",
         "AZJRSFUJNQNLRC-UHFFFAOYSA-N",
         "BMG_PT039237",
         ""
        ],
        [
         "41",
         "ENSP00000364858",
         "91758408",
         "AZJRSFUJNQNLRC-UHFFFAOYSA-N",
         null,
         ""
        ],
        [
         "42",
         "ENSP00000364859",
         "91758408",
         "AZJRSFUJNQNLRC-UHFFFAOYSA-N",
         null,
         ""
        ],
        [
         "43",
         "ENSP00000367355",
         "91758408",
         "AZJRSFUJNQNLRC-UHFFFAOYSA-N",
         "BMG_PT009045",
         ""
        ],
        [
         "44",
         "ENSP00000373730",
         "91758408",
         "AZJRSFUJNQNLRC-UHFFFAOYSA-N",
         "BMG_PT085778",
         ""
        ],
        [
         "45",
         "ENSP00000375767",
         "91758408",
         "AZJRSFUJNQNLRC-UHFFFAOYSA-N",
         "BMG_PT099163",
         ""
        ],
        [
         "46",
         "ENSP00000376849",
         "91758408",
         "AZJRSFUJNQNLRC-UHFFFAOYSA-N",
         "BMG_PT041306",
         ""
        ],
        [
         "47",
         "ENSP00000384400",
         "91758408",
         "AZJRSFUJNQNLRC-UHFFFAOYSA-N",
         "BMG_PT099070",
         ""
        ],
        [
         "48",
         "ENSP00000388566",
         "91758408",
         "AZJRSFUJNQNLRC-UHFFFAOYSA-N",
         "BMG_PT041074",
         ""
        ],
        [
         "49",
         "ENSP00000400592",
         "91758408",
         "AZJRSFUJNQNLRC-UHFFFAOYSA-N",
         null,
         ""
        ]
       ],
       "shape": {
        "columns": 5,
        "rows": 74576305
       }
      },
      "text/html": [
       "<div>\n",
       "<style scoped>\n",
       "    .dataframe tbody tr th:only-of-type {\n",
       "        vertical-align: middle;\n",
       "    }\n",
       "\n",
       "    .dataframe tbody tr th {\n",
       "        vertical-align: top;\n",
       "    }\n",
       "\n",
       "    .dataframe thead th {\n",
       "        text-align: right;\n",
       "    }\n",
       "</style>\n",
       "<table border=\"1\" class=\"dataframe\">\n",
       "  <thead>\n",
       "    <tr style=\"text-align: right;\">\n",
       "      <th></th>\n",
       "      <th>Protein</th>\n",
       "      <th>CID</th>\n",
       "      <th>inchikey</th>\n",
       "      <th>To_ID</th>\n",
       "      <th>From_ID</th>\n",
       "    </tr>\n",
       "  </thead>\n",
       "  <tbody>\n",
       "    <tr>\n",
       "      <th>0</th>\n",
       "      <td>ENSP00000257254</td>\n",
       "      <td>91758680</td>\n",
       "      <td>DMDVEPIJCJGHPE-UHFFFAOYSA-K</td>\n",
       "      <td>BMG_PT040452</td>\n",
       "      <td></td>\n",
       "    </tr>\n",
       "    <tr>\n",
       "      <th>1</th>\n",
       "      <td>ENSP00000302120</td>\n",
       "      <td>91758680</td>\n",
       "      <td>DMDVEPIJCJGHPE-UHFFFAOYSA-K</td>\n",
       "      <td>BMG_PT101482</td>\n",
       "      <td></td>\n",
       "    </tr>\n",
       "    <tr>\n",
       "      <th>2</th>\n",
       "      <td>ENSP00000006777</td>\n",
       "      <td>91758408</td>\n",
       "      <td>AZJRSFUJNQNLRC-UHFFFAOYSA-N</td>\n",
       "      <td>BMG_PT062814</td>\n",
       "      <td></td>\n",
       "    </tr>\n",
       "    <tr>\n",
       "      <th>3</th>\n",
       "      <td>ENSP00000056217</td>\n",
       "      <td>91758408</td>\n",
       "      <td>AZJRSFUJNQNLRC-UHFFFAOYSA-N</td>\n",
       "      <td>BMG_PT043776</td>\n",
       "      <td></td>\n",
       "    </tr>\n",
       "    <tr>\n",
       "      <th>4</th>\n",
       "      <td>ENSP00000216085</td>\n",
       "      <td>91758408</td>\n",
       "      <td>AZJRSFUJNQNLRC-UHFFFAOYSA-N</td>\n",
       "      <td>BMG_PT099520</td>\n",
       "      <td></td>\n",
       "    </tr>\n",
       "    <tr>\n",
       "      <th>...</th>\n",
       "      <td>...</td>\n",
       "      <td>...</td>\n",
       "      <td>...</td>\n",
       "      <td>...</td>\n",
       "      <td>...</td>\n",
       "    </tr>\n",
       "    <tr>\n",
       "      <th>15473934</th>\n",
       "      <td>ENSP00000420588</td>\n",
       "      <td>1</td>\n",
       "      <td>NaN</td>\n",
       "      <td>BMG_PT042466</td>\n",
       "      <td></td>\n",
       "    </tr>\n",
       "    <tr>\n",
       "      <th>15473935</th>\n",
       "      <td>ENSP00000436585</td>\n",
       "      <td>1</td>\n",
       "      <td>NaN</td>\n",
       "      <td>BMG_PT092678</td>\n",
       "      <td></td>\n",
       "    </tr>\n",
       "    <tr>\n",
       "      <th>15473936</th>\n",
       "      <td>ENSP00000438144</td>\n",
       "      <td>1</td>\n",
       "      <td>NaN</td>\n",
       "      <td>BMG_PT128776</td>\n",
       "      <td></td>\n",
       "    </tr>\n",
       "    <tr>\n",
       "      <th>15473937</th>\n",
       "      <td>ENSP00000448165</td>\n",
       "      <td>1</td>\n",
       "      <td>NaN</td>\n",
       "      <td>BMG_PT033598</td>\n",
       "      <td></td>\n",
       "    </tr>\n",
       "    <tr>\n",
       "      <th>15473938</th>\n",
       "      <td>ENSP00000453129</td>\n",
       "      <td>1</td>\n",
       "      <td>NaN</td>\n",
       "      <td>BMG_PT042538</td>\n",
       "      <td></td>\n",
       "    </tr>\n",
       "  </tbody>\n",
       "</table>\n",
       "<p>74576305 rows × 5 columns</p>\n",
       "</div>"
      ],
      "text/plain": [
       "                  Protein       CID                     inchikey  \\\n",
       "0         ENSP00000257254  91758680  DMDVEPIJCJGHPE-UHFFFAOYSA-K   \n",
       "1         ENSP00000302120  91758680  DMDVEPIJCJGHPE-UHFFFAOYSA-K   \n",
       "2         ENSP00000006777  91758408  AZJRSFUJNQNLRC-UHFFFAOYSA-N   \n",
       "3         ENSP00000056217  91758408  AZJRSFUJNQNLRC-UHFFFAOYSA-N   \n",
       "4         ENSP00000216085  91758408  AZJRSFUJNQNLRC-UHFFFAOYSA-N   \n",
       "...                   ...       ...                          ...   \n",
       "15473934  ENSP00000420588         1                          NaN   \n",
       "15473935  ENSP00000436585         1                          NaN   \n",
       "15473936  ENSP00000438144         1                          NaN   \n",
       "15473937  ENSP00000448165         1                          NaN   \n",
       "15473938  ENSP00000453129         1                          NaN   \n",
       "\n",
       "                 To_ID From_ID  \n",
       "0         BMG_PT040452          \n",
       "1         BMG_PT101482          \n",
       "2         BMG_PT062814          \n",
       "3         BMG_PT043776          \n",
       "4         BMG_PT099520          \n",
       "...                ...     ...  \n",
       "15473934  BMG_PT042466          \n",
       "15473935  BMG_PT092678          \n",
       "15473936  BMG_PT128776          \n",
       "15473937  BMG_PT033598          \n",
       "15473938  BMG_PT042538          \n",
       "\n",
       "[74576305 rows x 5 columns]"
      ]
     },
     "execution_count": 17,
     "metadata": {},
     "output_type": "execute_result"
    }
   ],
   "source": [
    "def merge_string_columns(df, columns, merge_name, separator=';'):\n",
    "    def merge_strings(row):\n",
    "        combined = set()\n",
    "        for column in columns:\n",
    "            if pd.notnull(row[column]):\n",
    "                combined.update(row[column].split(separator))\n",
    "        return separator.join(combined)\n",
    "    \n",
    "    # Apply the function to each row and create a new column\n",
    "    combined_column_name = merge_name\n",
    "    df[combined_column_name] = df.apply(merge_strings, axis=1)\n",
    "    df.drop(columns=columns, inplace=True)\n",
    "    \n",
    "    return df\n",
    "\n",
    "stitch_filter = merge_string_columns(stitch_filter, ['From_CID', 'From_InChIKey'], 'From_ID')\n",
    "stitch_filter"
   ]
  },
  {
   "cell_type": "code",
   "execution_count": 18,
   "metadata": {},
   "outputs": [
    {
     "name": "stderr",
     "output_type": "stream",
     "text": [
      "C:\\Users\\shunn\\AppData\\Local\\Temp\\ipykernel_11016\\559764115.py:2: SettingWithCopyWarning: \n",
      "A value is trying to be set on a copy of a slice from a DataFrame\n",
      "\n",
      "See the caveats in the documentation: https://pandas.pydata.org/pandas-docs/stable/user_guide/indexing.html#returning-a-view-versus-a-copy\n",
      "  metabolite_protein_stitch.replace('', pd.NA, inplace=True)\n",
      "C:\\Users\\shunn\\AppData\\Local\\Temp\\ipykernel_11016\\559764115.py:3: FutureWarning: A value is trying to be set on a copy of a DataFrame or Series through chained assignment using an inplace method.\n",
      "The behavior will change in pandas 3.0. This inplace method will never work because the intermediate object on which we are setting values always behaves as a copy.\n",
      "\n",
      "For example, when doing 'df[col].method(value, inplace=True)', try using 'df.method({col: value}, inplace=True)' or df[col] = df[col].method(value) instead, to perform the operation inplace on the original object.\n",
      "\n",
      "\n",
      "  metabolite_protein_stitch['From_ID'].replace('', pd.NA, inplace=True)\n",
      "C:\\Users\\shunn\\AppData\\Local\\Temp\\ipykernel_11016\\559764115.py:3: SettingWithCopyWarning: \n",
      "A value is trying to be set on a copy of a slice from a DataFrame\n",
      "\n",
      "See the caveats in the documentation: https://pandas.pydata.org/pandas-docs/stable/user_guide/indexing.html#returning-a-view-versus-a-copy\n",
      "  metabolite_protein_stitch['From_ID'].replace('', pd.NA, inplace=True)\n",
      "C:\\Users\\shunn\\AppData\\Local\\Temp\\ipykernel_11016\\559764115.py:4: FutureWarning: A value is trying to be set on a copy of a DataFrame or Series through chained assignment using an inplace method.\n",
      "The behavior will change in pandas 3.0. This inplace method will never work because the intermediate object on which we are setting values always behaves as a copy.\n",
      "\n",
      "For example, when doing 'df[col].method(value, inplace=True)', try using 'df.method({col: value}, inplace=True)' or df[col] = df[col].method(value) instead, to perform the operation inplace on the original object.\n",
      "\n",
      "\n",
      "  metabolite_protein_stitch['To_ID'].replace('', pd.NA, inplace=True)\n",
      "C:\\Users\\shunn\\AppData\\Local\\Temp\\ipykernel_11016\\559764115.py:4: SettingWithCopyWarning: \n",
      "A value is trying to be set on a copy of a slice from a DataFrame\n",
      "\n",
      "See the caveats in the documentation: https://pandas.pydata.org/pandas-docs/stable/user_guide/indexing.html#returning-a-view-versus-a-copy\n",
      "  metabolite_protein_stitch['To_ID'].replace('', pd.NA, inplace=True)\n",
      "C:\\Users\\shunn\\AppData\\Local\\Temp\\ipykernel_11016\\559764115.py:5: SettingWithCopyWarning: \n",
      "A value is trying to be set on a copy of a slice from a DataFrame\n",
      "\n",
      "See the caveats in the documentation: https://pandas.pydata.org/pandas-docs/stable/user_guide/indexing.html#returning-a-view-versus-a-copy\n",
      "  metabolite_protein_stitch.dropna(subset=['From_ID'], inplace=True)\n",
      "C:\\Users\\shunn\\AppData\\Local\\Temp\\ipykernel_11016\\559764115.py:6: SettingWithCopyWarning: \n",
      "A value is trying to be set on a copy of a slice from a DataFrame\n",
      "\n",
      "See the caveats in the documentation: https://pandas.pydata.org/pandas-docs/stable/user_guide/indexing.html#returning-a-view-versus-a-copy\n",
      "  metabolite_protein_stitch.dropna(subset=['To_ID'], inplace=True)\n"
     ]
    },
    {
     "data": {
      "application/vnd.microsoft.datawrangler.viewer.v0+json": {
       "columns": [
        {
         "name": "index",
         "rawType": "int64",
         "type": "integer"
        },
        {
         "name": "From_ID",
         "rawType": "object",
         "type": "string"
        },
        {
         "name": "To_ID",
         "rawType": "object",
         "type": "string"
        }
       ],
       "conversionMethod": "pd.DataFrame",
       "ref": "55592edc-f8ba-4f0c-84a6-d49e5f1ca475",
       "rows": [
        [
         "3856",
         "BMG_MT172744",
         "BMG_PT032920"
        ],
        [
         "3857",
         "BMG_MT172744",
         "BMG_PT042982"
        ],
        [
         "3858",
         "BMG_MT172744",
         "BMG_PT041127"
        ],
        [
         "3859",
         "BMG_MT172744",
         "BMG_PT041155"
        ],
        [
         "3860",
         "BMG_MT172744",
         "BMG_PT041247"
        ],
        [
         "3861",
         "BMG_MT172744",
         "BMG_PT037592"
        ],
        [
         "6904",
         "BMG_MT165409",
         "BMG_PT089648"
        ],
        [
         "6905",
         "BMG_MT165409",
         "BMG_PT045965"
        ],
        [
         "6906",
         "BMG_MT165409",
         "BMG_PT037398"
        ],
        [
         "7343",
         "BMG_MT161105",
         "BMG_PT034808"
        ],
        [
         "7344",
         "BMG_MT161105",
         "BMG_PT035683"
        ],
        [
         "7345",
         "BMG_MT161105",
         "BMG_PT033661"
        ],
        [
         "7346",
         "BMG_MT161105",
         "BMG_PT039455"
        ],
        [
         "7347",
         "BMG_MT161105",
         "BMG_PT046922"
        ],
        [
         "7348",
         "BMG_MT161105",
         "BMG_PT097047"
        ],
        [
         "7349",
         "BMG_MT161105",
         "BMG_PT077409"
        ],
        [
         "8084",
         "BMG_MT169214",
         "BMG_PT039473"
        ],
        [
         "8086",
         "BMG_MT169214",
         "BMG_PT037365"
        ],
        [
         "8087",
         "BMG_MT169214",
         "BMG_PT039186"
        ],
        [
         "8088",
         "BMG_MT169214",
         "BMG_PT038843"
        ],
        [
         "8090",
         "BMG_MT169214",
         "BMG_PT038976"
        ],
        [
         "8091",
         "BMG_MT169214",
         "BMG_PT097654"
        ],
        [
         "8092",
         "BMG_MT169214",
         "BMG_PT039526"
        ],
        [
         "8093",
         "BMG_MT169214",
         "BMG_PT058975"
        ],
        [
         "8094",
         "BMG_MT169214",
         "BMG_PT096927"
        ],
        [
         "8095",
         "BMG_MT169214",
         "BMG_PT084692"
        ],
        [
         "8899",
         "BMG_MT163070",
         "BMG_PT038933"
        ],
        [
         "8900",
         "BMG_MT163070",
         "BMG_PT038237"
        ],
        [
         "9230",
         "BMG_MT169277",
         "BMG_PT037994"
        ],
        [
         "9746",
         "BMG_MT169241",
         "BMG_PT046360"
        ],
        [
         "10529",
         "BMG_MT158529",
         "BMG_PT046953"
        ],
        [
         "10659",
         "BMG_MT173305",
         "BMG_PT046773"
        ],
        [
         "10660",
         "BMG_MT173305",
         "BMG_PT039062"
        ],
        [
         "10661",
         "BMG_MT173305",
         "BMG_PT144869"
        ],
        [
         "11337",
         "BMG_MT173437",
         "BMG_PT046647"
        ],
        [
         "11338",
         "BMG_MT173437",
         "BMG_PT039011"
        ],
        [
         "11339",
         "BMG_MT173437",
         "BMG_PT094050"
        ],
        [
         "11340",
         "BMG_MT173437",
         "BMG_PT044054"
        ],
        [
         "11341",
         "BMG_MT173437",
         "BMG_PT099050"
        ],
        [
         "11342",
         "BMG_MT173437",
         "BMG_PT083516"
        ],
        [
         "11343",
         "BMG_MT173437",
         "BMG_PT042430"
        ],
        [
         "11345",
         "BMG_MT173437",
         "BMG_PT054610"
        ],
        [
         "11346",
         "BMG_MT173437",
         "BMG_PT112869"
        ],
        [
         "12335",
         "BMG_MT173316",
         "BMG_PT071118"
        ],
        [
         "13354",
         "BMG_MT173433",
         "BMG_PT039114"
        ],
        [
         "13355",
         "BMG_MT173433",
         "BMG_PT040869"
        ],
        [
         "16040",
         "BMG_MT173321",
         "BMG_PT049500"
        ],
        [
         "16041",
         "BMG_MT173321",
         "BMG_PT034938"
        ],
        [
         "16042",
         "BMG_MT173321",
         "BMG_PT041486"
        ],
        [
         "16043",
         "BMG_MT173321",
         "BMG_PT038966"
        ]
       ],
       "shape": {
        "columns": 2,
        "rows": 1973337
       }
      },
      "text/html": [
       "<div>\n",
       "<style scoped>\n",
       "    .dataframe tbody tr th:only-of-type {\n",
       "        vertical-align: middle;\n",
       "    }\n",
       "\n",
       "    .dataframe tbody tr th {\n",
       "        vertical-align: top;\n",
       "    }\n",
       "\n",
       "    .dataframe thead th {\n",
       "        text-align: right;\n",
       "    }\n",
       "</style>\n",
       "<table border=\"1\" class=\"dataframe\">\n",
       "  <thead>\n",
       "    <tr style=\"text-align: right;\">\n",
       "      <th></th>\n",
       "      <th>From_ID</th>\n",
       "      <th>To_ID</th>\n",
       "    </tr>\n",
       "  </thead>\n",
       "  <tbody>\n",
       "    <tr>\n",
       "      <th>3856</th>\n",
       "      <td>BMG_MT172744</td>\n",
       "      <td>BMG_PT032920</td>\n",
       "    </tr>\n",
       "    <tr>\n",
       "      <th>3857</th>\n",
       "      <td>BMG_MT172744</td>\n",
       "      <td>BMG_PT042982</td>\n",
       "    </tr>\n",
       "    <tr>\n",
       "      <th>3858</th>\n",
       "      <td>BMG_MT172744</td>\n",
       "      <td>BMG_PT041127</td>\n",
       "    </tr>\n",
       "    <tr>\n",
       "      <th>3859</th>\n",
       "      <td>BMG_MT172744</td>\n",
       "      <td>BMG_PT041155</td>\n",
       "    </tr>\n",
       "    <tr>\n",
       "      <th>3860</th>\n",
       "      <td>BMG_MT172744</td>\n",
       "      <td>BMG_PT041247</td>\n",
       "    </tr>\n",
       "    <tr>\n",
       "      <th>...</th>\n",
       "      <td>...</td>\n",
       "      <td>...</td>\n",
       "    </tr>\n",
       "    <tr>\n",
       "      <th>7436551</th>\n",
       "      <td>BMG_MT157080</td>\n",
       "      <td>BMG_PT033598</td>\n",
       "    </tr>\n",
       "    <tr>\n",
       "      <th>7436551</th>\n",
       "      <td>BMG_MT000128</td>\n",
       "      <td>BMG_PT033598</td>\n",
       "    </tr>\n",
       "    <tr>\n",
       "      <th>7436552</th>\n",
       "      <td>BMG_MT157082</td>\n",
       "      <td>BMG_PT042538</td>\n",
       "    </tr>\n",
       "    <tr>\n",
       "      <th>7436552</th>\n",
       "      <td>BMG_MT157080</td>\n",
       "      <td>BMG_PT042538</td>\n",
       "    </tr>\n",
       "    <tr>\n",
       "      <th>7436552</th>\n",
       "      <td>BMG_MT000128</td>\n",
       "      <td>BMG_PT042538</td>\n",
       "    </tr>\n",
       "  </tbody>\n",
       "</table>\n",
       "<p>1973337 rows × 2 columns</p>\n",
       "</div>"
      ],
      "text/plain": [
       "              From_ID         To_ID\n",
       "3856     BMG_MT172744  BMG_PT032920\n",
       "3857     BMG_MT172744  BMG_PT042982\n",
       "3858     BMG_MT172744  BMG_PT041127\n",
       "3859     BMG_MT172744  BMG_PT041155\n",
       "3860     BMG_MT172744  BMG_PT041247\n",
       "...               ...           ...\n",
       "7436551  BMG_MT157080  BMG_PT033598\n",
       "7436551  BMG_MT000128  BMG_PT033598\n",
       "7436552  BMG_MT157082  BMG_PT042538\n",
       "7436552  BMG_MT157080  BMG_PT042538\n",
       "7436552  BMG_MT000128  BMG_PT042538\n",
       "\n",
       "[1973337 rows x 2 columns]"
      ]
     },
     "execution_count": 18,
     "metadata": {},
     "output_type": "execute_result"
    }
   ],
   "source": [
    "metabolite_protein_stitch = stitch_filter[['From_ID', 'To_ID']]\n",
    "metabolite_protein_stitch.replace('', pd.NA, inplace=True)\n",
    "metabolite_protein_stitch['From_ID'].replace('', pd.NA, inplace=True)\n",
    "metabolite_protein_stitch['To_ID'].replace('', pd.NA, inplace=True)\n",
    "metabolite_protein_stitch.dropna(subset=['From_ID'], inplace=True)\n",
    "metabolite_protein_stitch.dropna(subset=['To_ID'], inplace=True)\n",
    "metabolite_protein_stitch"
   ]
  },
  {
   "cell_type": "code",
   "execution_count": 19,
   "metadata": {},
   "outputs": [
    {
     "name": "stderr",
     "output_type": "stream",
     "text": [
      "C:\\Users\\shunn\\AppData\\Local\\Temp\\ipykernel_11016\\2365227191.py:1: SettingWithCopyWarning: \n",
      "A value is trying to be set on a copy of a slice from a DataFrame.\n",
      "Try using .loc[row_indexer,col_indexer] = value instead\n",
      "\n",
      "See the caveats in the documentation: https://pandas.pydata.org/pandas-docs/stable/user_guide/indexing.html#returning-a-view-versus-a-copy\n",
      "  metabolite_protein_stitch['From_ID'] = metabolite_protein_stitch['From_ID'].str.split(';')\n",
      "C:\\Users\\shunn\\AppData\\Local\\Temp\\ipykernel_11016\\2365227191.py:2: SettingWithCopyWarning: \n",
      "A value is trying to be set on a copy of a slice from a DataFrame.\n",
      "Try using .loc[row_indexer,col_indexer] = value instead\n",
      "\n",
      "See the caveats in the documentation: https://pandas.pydata.org/pandas-docs/stable/user_guide/indexing.html#returning-a-view-versus-a-copy\n",
      "  metabolite_protein_stitch['To_ID'] = metabolite_protein_stitch['To_ID'].str.split(';')\n"
     ]
    },
    {
     "data": {
      "application/vnd.microsoft.datawrangler.viewer.v0+json": {
       "columns": [
        {
         "name": "index",
         "rawType": "int64",
         "type": "integer"
        },
        {
         "name": "From_ID",
         "rawType": "object",
         "type": "string"
        },
        {
         "name": "To_ID",
         "rawType": "object",
         "type": "string"
        }
       ],
       "conversionMethod": "pd.DataFrame",
       "ref": "15f91ac3-d18f-4049-bb01-360f6ce992c4",
       "rows": [
        [
         "3856",
         "BMG_MT172744",
         "BMG_PT032920"
        ],
        [
         "3857",
         "BMG_MT172744",
         "BMG_PT042982"
        ],
        [
         "3858",
         "BMG_MT172744",
         "BMG_PT041127"
        ],
        [
         "3859",
         "BMG_MT172744",
         "BMG_PT041155"
        ],
        [
         "3860",
         "BMG_MT172744",
         "BMG_PT041247"
        ],
        [
         "3861",
         "BMG_MT172744",
         "BMG_PT037592"
        ],
        [
         "6904",
         "BMG_MT165409",
         "BMG_PT089648"
        ],
        [
         "6905",
         "BMG_MT165409",
         "BMG_PT045965"
        ],
        [
         "6906",
         "BMG_MT165409",
         "BMG_PT037398"
        ],
        [
         "7343",
         "BMG_MT161105",
         "BMG_PT034808"
        ],
        [
         "7344",
         "BMG_MT161105",
         "BMG_PT035683"
        ],
        [
         "7345",
         "BMG_MT161105",
         "BMG_PT033661"
        ],
        [
         "7346",
         "BMG_MT161105",
         "BMG_PT039455"
        ],
        [
         "7347",
         "BMG_MT161105",
         "BMG_PT046922"
        ],
        [
         "7348",
         "BMG_MT161105",
         "BMG_PT097047"
        ],
        [
         "7349",
         "BMG_MT161105",
         "BMG_PT077409"
        ],
        [
         "8084",
         "BMG_MT169214",
         "BMG_PT039473"
        ],
        [
         "8086",
         "BMG_MT169214",
         "BMG_PT037365"
        ],
        [
         "8087",
         "BMG_MT169214",
         "BMG_PT039186"
        ],
        [
         "8088",
         "BMG_MT169214",
         "BMG_PT038843"
        ],
        [
         "8090",
         "BMG_MT169214",
         "BMG_PT038976"
        ],
        [
         "8091",
         "BMG_MT169214",
         "BMG_PT097654"
        ],
        [
         "8092",
         "BMG_MT169214",
         "BMG_PT039526"
        ],
        [
         "8093",
         "BMG_MT169214",
         "BMG_PT058975"
        ],
        [
         "8094",
         "BMG_MT169214",
         "BMG_PT096927"
        ],
        [
         "8095",
         "BMG_MT169214",
         "BMG_PT084692"
        ],
        [
         "8899",
         "BMG_MT163070",
         "BMG_PT038933"
        ],
        [
         "8900",
         "BMG_MT163070",
         "BMG_PT038237"
        ],
        [
         "9230",
         "BMG_MT169277",
         "BMG_PT037994"
        ],
        [
         "9746",
         "BMG_MT169241",
         "BMG_PT046360"
        ],
        [
         "10529",
         "BMG_MT158529",
         "BMG_PT046953"
        ],
        [
         "10659",
         "BMG_MT173305",
         "BMG_PT046773"
        ],
        [
         "10660",
         "BMG_MT173305",
         "BMG_PT039062"
        ],
        [
         "10661",
         "BMG_MT173305",
         "BMG_PT144869"
        ],
        [
         "11337",
         "BMG_MT173437",
         "BMG_PT046647"
        ],
        [
         "11338",
         "BMG_MT173437",
         "BMG_PT039011"
        ],
        [
         "11339",
         "BMG_MT173437",
         "BMG_PT094050"
        ],
        [
         "11340",
         "BMG_MT173437",
         "BMG_PT044054"
        ],
        [
         "11341",
         "BMG_MT173437",
         "BMG_PT099050"
        ],
        [
         "11342",
         "BMG_MT173437",
         "BMG_PT083516"
        ],
        [
         "11343",
         "BMG_MT173437",
         "BMG_PT042430"
        ],
        [
         "11345",
         "BMG_MT173437",
         "BMG_PT054610"
        ],
        [
         "11346",
         "BMG_MT173437",
         "BMG_PT112869"
        ],
        [
         "12335",
         "BMG_MT173316",
         "BMG_PT071118"
        ],
        [
         "13354",
         "BMG_MT173433",
         "BMG_PT039114"
        ],
        [
         "13355",
         "BMG_MT173433",
         "BMG_PT040869"
        ],
        [
         "16040",
         "BMG_MT173321",
         "BMG_PT049500"
        ],
        [
         "16041",
         "BMG_MT173321",
         "BMG_PT034938"
        ],
        [
         "16042",
         "BMG_MT173321",
         "BMG_PT041486"
        ],
        [
         "16043",
         "BMG_MT173321",
         "BMG_PT038966"
        ]
       ],
       "shape": {
        "columns": 2,
        "rows": 1975413
       }
      },
      "text/html": [
       "<div>\n",
       "<style scoped>\n",
       "    .dataframe tbody tr th:only-of-type {\n",
       "        vertical-align: middle;\n",
       "    }\n",
       "\n",
       "    .dataframe tbody tr th {\n",
       "        vertical-align: top;\n",
       "    }\n",
       "\n",
       "    .dataframe thead th {\n",
       "        text-align: right;\n",
       "    }\n",
       "</style>\n",
       "<table border=\"1\" class=\"dataframe\">\n",
       "  <thead>\n",
       "    <tr style=\"text-align: right;\">\n",
       "      <th></th>\n",
       "      <th>From_ID</th>\n",
       "      <th>To_ID</th>\n",
       "    </tr>\n",
       "  </thead>\n",
       "  <tbody>\n",
       "    <tr>\n",
       "      <th>3856</th>\n",
       "      <td>BMG_MT172744</td>\n",
       "      <td>BMG_PT032920</td>\n",
       "    </tr>\n",
       "    <tr>\n",
       "      <th>3857</th>\n",
       "      <td>BMG_MT172744</td>\n",
       "      <td>BMG_PT042982</td>\n",
       "    </tr>\n",
       "    <tr>\n",
       "      <th>3858</th>\n",
       "      <td>BMG_MT172744</td>\n",
       "      <td>BMG_PT041127</td>\n",
       "    </tr>\n",
       "    <tr>\n",
       "      <th>3859</th>\n",
       "      <td>BMG_MT172744</td>\n",
       "      <td>BMG_PT041155</td>\n",
       "    </tr>\n",
       "    <tr>\n",
       "      <th>3860</th>\n",
       "      <td>BMG_MT172744</td>\n",
       "      <td>BMG_PT041247</td>\n",
       "    </tr>\n",
       "    <tr>\n",
       "      <th>...</th>\n",
       "      <td>...</td>\n",
       "      <td>...</td>\n",
       "    </tr>\n",
       "    <tr>\n",
       "      <th>7436551</th>\n",
       "      <td>BMG_MT157080</td>\n",
       "      <td>BMG_PT033598</td>\n",
       "    </tr>\n",
       "    <tr>\n",
       "      <th>7436551</th>\n",
       "      <td>BMG_MT000128</td>\n",
       "      <td>BMG_PT033598</td>\n",
       "    </tr>\n",
       "    <tr>\n",
       "      <th>7436552</th>\n",
       "      <td>BMG_MT157082</td>\n",
       "      <td>BMG_PT042538</td>\n",
       "    </tr>\n",
       "    <tr>\n",
       "      <th>7436552</th>\n",
       "      <td>BMG_MT157080</td>\n",
       "      <td>BMG_PT042538</td>\n",
       "    </tr>\n",
       "    <tr>\n",
       "      <th>7436552</th>\n",
       "      <td>BMG_MT000128</td>\n",
       "      <td>BMG_PT042538</td>\n",
       "    </tr>\n",
       "  </tbody>\n",
       "</table>\n",
       "<p>1975413 rows × 2 columns</p>\n",
       "</div>"
      ],
      "text/plain": [
       "              From_ID         To_ID\n",
       "3856     BMG_MT172744  BMG_PT032920\n",
       "3857     BMG_MT172744  BMG_PT042982\n",
       "3858     BMG_MT172744  BMG_PT041127\n",
       "3859     BMG_MT172744  BMG_PT041155\n",
       "3860     BMG_MT172744  BMG_PT041247\n",
       "...               ...           ...\n",
       "7436551  BMG_MT157080  BMG_PT033598\n",
       "7436551  BMG_MT000128  BMG_PT033598\n",
       "7436552  BMG_MT157082  BMG_PT042538\n",
       "7436552  BMG_MT157080  BMG_PT042538\n",
       "7436552  BMG_MT000128  BMG_PT042538\n",
       "\n",
       "[1975413 rows x 2 columns]"
      ]
     },
     "execution_count": 19,
     "metadata": {},
     "output_type": "execute_result"
    }
   ],
   "source": [
    "metabolite_protein_stitch['From_ID'] = metabolite_protein_stitch['From_ID'].str.split(';')\n",
    "metabolite_protein_stitch['To_ID'] = metabolite_protein_stitch['To_ID'].str.split(';')\n",
    "metabolite_protein_stitch = metabolite_protein_stitch.explode('From_ID')\n",
    "metabolite_protein_stitch = metabolite_protein_stitch.explode('To_ID')\n",
    "metabolite_protein_stitch['From_ID'] = metabolite_protein_stitch['From_ID'].str.strip()\n",
    "metabolite_protein_stitch['To_ID'] = metabolite_protein_stitch['To_ID'].str.strip()\n",
    "metabolite_protein_stitch.drop_duplicates(inplace=True)\n",
    "metabolite_protein_stitch"
   ]
  },
  {
   "cell_type": "markdown",
   "metadata": {},
   "source": [
    "### Metabolite-Protein Relation"
   ]
  },
  {
   "cell_type": "code",
   "execution_count": 20,
   "metadata": {},
   "outputs": [
    {
     "data": {
      "application/vnd.microsoft.datawrangler.viewer.v0+json": {
       "columns": [
        {
         "name": "index",
         "rawType": "int64",
         "type": "integer"
        },
        {
         "name": "From_ID",
         "rawType": "object",
         "type": "string"
        },
        {
         "name": "To_ID",
         "rawType": "object",
         "type": "string"
        },
        {
         "name": "Source",
         "rawType": "object",
         "type": "string"
        }
       ],
       "conversionMethod": "pd.DataFrame",
       "ref": "2f42af2b-af8b-471f-84ab-674b0711e011",
       "rows": [
        [
         "0",
         "BMG_MT000001",
         "BMG_PT010663",
         "STITCH"
        ],
        [
         "1",
         "BMG_MT000001",
         "BMG_PT013590",
         "STITCH"
        ],
        [
         "2",
         "BMG_MT000001",
         "BMG_PT016722",
         "STITCH"
        ],
        [
         "3",
         "BMG_MT000001",
         "BMG_PT033059",
         "STITCH"
        ],
        [
         "4",
         "BMG_MT000001",
         "BMG_PT034409",
         "STITCH"
        ],
        [
         "5",
         "BMG_MT000001",
         "BMG_PT034863",
         "STITCH"
        ],
        [
         "6",
         "BMG_MT000001",
         "BMG_PT034997",
         "STITCH"
        ],
        [
         "7",
         "BMG_MT000001",
         "BMG_PT035382",
         "HMDB"
        ],
        [
         "8",
         "BMG_MT000001",
         "BMG_PT036596",
         "STITCH"
        ],
        [
         "9",
         "BMG_MT000001",
         "BMG_PT036622",
         "STITCH"
        ],
        [
         "10",
         "BMG_MT000001",
         "BMG_PT037314",
         "STITCH"
        ],
        [
         "11",
         "BMG_MT000001",
         "BMG_PT037510",
         "STITCH"
        ],
        [
         "12",
         "BMG_MT000001",
         "BMG_PT037843",
         "STITCH"
        ],
        [
         "13",
         "BMG_MT000001",
         "BMG_PT038046",
         "STITCH"
        ],
        [
         "14",
         "BMG_MT000001",
         "BMG_PT038083",
         "STITCH"
        ],
        [
         "15",
         "BMG_MT000001",
         "BMG_PT038174",
         "STITCH"
        ],
        [
         "16",
         "BMG_MT000001",
         "BMG_PT038338",
         "STITCH"
        ],
        [
         "17",
         "BMG_MT000001",
         "BMG_PT038527",
         "STITCH"
        ],
        [
         "18",
         "BMG_MT000001",
         "BMG_PT038528",
         "STITCH"
        ],
        [
         "19",
         "BMG_MT000001",
         "BMG_PT039001",
         "STITCH"
        ],
        [
         "20",
         "BMG_MT000001",
         "BMG_PT039002",
         "STITCH"
        ],
        [
         "21",
         "BMG_MT000001",
         "BMG_PT039035",
         "STITCH"
        ],
        [
         "22",
         "BMG_MT000001",
         "BMG_PT039204",
         "STITCH"
        ],
        [
         "23",
         "BMG_MT000001",
         "BMG_PT039829",
         "STITCH"
        ],
        [
         "24",
         "BMG_MT000001",
         "BMG_PT039937",
         "STITCH"
        ],
        [
         "25",
         "BMG_MT000001",
         "BMG_PT039978",
         "STITCH"
        ],
        [
         "26",
         "BMG_MT000001",
         "BMG_PT039984",
         "STITCH"
        ],
        [
         "27",
         "BMG_MT000001",
         "BMG_PT040477",
         "STITCH"
        ],
        [
         "28",
         "BMG_MT000001",
         "BMG_PT040478",
         "STITCH"
        ],
        [
         "29",
         "BMG_MT000001",
         "BMG_PT040505",
         "STITCH"
        ],
        [
         "30",
         "BMG_MT000001",
         "BMG_PT040527",
         "STITCH"
        ],
        [
         "31",
         "BMG_MT000001",
         "BMG_PT040715",
         "STITCH"
        ],
        [
         "32",
         "BMG_MT000001",
         "BMG_PT040959",
         "STITCH"
        ],
        [
         "33",
         "BMG_MT000001",
         "BMG_PT041026",
         "STITCH"
        ],
        [
         "34",
         "BMG_MT000001",
         "BMG_PT041854",
         "STITCH"
        ],
        [
         "35",
         "BMG_MT000001",
         "BMG_PT041855",
         "STITCH"
        ],
        [
         "36",
         "BMG_MT000001",
         "BMG_PT041856",
         "STITCH"
        ],
        [
         "37",
         "BMG_MT000001",
         "BMG_PT041978",
         "STITCH"
        ],
        [
         "38",
         "BMG_MT000001",
         "BMG_PT042058",
         "STITCH"
        ],
        [
         "39",
         "BMG_MT000001",
         "BMG_PT042069",
         "STITCH"
        ],
        [
         "40",
         "BMG_MT000001",
         "BMG_PT042073",
         "STITCH"
        ],
        [
         "41",
         "BMG_MT000001",
         "BMG_PT042359",
         "STITCH"
        ],
        [
         "42",
         "BMG_MT000001",
         "BMG_PT042958",
         "STITCH"
        ],
        [
         "43",
         "BMG_MT000001",
         "BMG_PT043934",
         "STITCH"
        ],
        [
         "44",
         "BMG_MT000001",
         "BMG_PT044290",
         "STITCH"
        ],
        [
         "45",
         "BMG_MT000001",
         "BMG_PT044339",
         "STITCH"
        ],
        [
         "46",
         "BMG_MT000001",
         "BMG_PT045713",
         "STITCH"
        ],
        [
         "47",
         "BMG_MT000001",
         "BMG_PT046639",
         "STITCH"
        ],
        [
         "48",
         "BMG_MT000001",
         "BMG_PT050361",
         "STITCH"
        ],
        [
         "49",
         "BMG_MT000001",
         "BMG_PT052852",
         "STITCH"
        ]
       ],
       "shape": {
        "columns": 3,
        "rows": 2804430
       }
      },
      "text/html": [
       "<div>\n",
       "<style scoped>\n",
       "    .dataframe tbody tr th:only-of-type {\n",
       "        vertical-align: middle;\n",
       "    }\n",
       "\n",
       "    .dataframe tbody tr th {\n",
       "        vertical-align: top;\n",
       "    }\n",
       "\n",
       "    .dataframe thead th {\n",
       "        text-align: right;\n",
       "    }\n",
       "</style>\n",
       "<table border=\"1\" class=\"dataframe\">\n",
       "  <thead>\n",
       "    <tr style=\"text-align: right;\">\n",
       "      <th></th>\n",
       "      <th>From_ID</th>\n",
       "      <th>To_ID</th>\n",
       "      <th>Source</th>\n",
       "    </tr>\n",
       "  </thead>\n",
       "  <tbody>\n",
       "    <tr>\n",
       "      <th>0</th>\n",
       "      <td>BMG_MT000001</td>\n",
       "      <td>BMG_PT010663</td>\n",
       "      <td>STITCH</td>\n",
       "    </tr>\n",
       "    <tr>\n",
       "      <th>1</th>\n",
       "      <td>BMG_MT000001</td>\n",
       "      <td>BMG_PT013590</td>\n",
       "      <td>STITCH</td>\n",
       "    </tr>\n",
       "    <tr>\n",
       "      <th>2</th>\n",
       "      <td>BMG_MT000001</td>\n",
       "      <td>BMG_PT016722</td>\n",
       "      <td>STITCH</td>\n",
       "    </tr>\n",
       "    <tr>\n",
       "      <th>3</th>\n",
       "      <td>BMG_MT000001</td>\n",
       "      <td>BMG_PT033059</td>\n",
       "      <td>STITCH</td>\n",
       "    </tr>\n",
       "    <tr>\n",
       "      <th>4</th>\n",
       "      <td>BMG_MT000001</td>\n",
       "      <td>BMG_PT034409</td>\n",
       "      <td>STITCH</td>\n",
       "    </tr>\n",
       "    <tr>\n",
       "      <th>...</th>\n",
       "      <td>...</td>\n",
       "      <td>...</td>\n",
       "      <td>...</td>\n",
       "    </tr>\n",
       "    <tr>\n",
       "      <th>2804425</th>\n",
       "      <td>BMG_MT217942</td>\n",
       "      <td>BMG_PT103805</td>\n",
       "      <td>STITCH</td>\n",
       "    </tr>\n",
       "    <tr>\n",
       "      <th>2804426</th>\n",
       "      <td>BMG_MT217942</td>\n",
       "      <td>BMG_PT104066</td>\n",
       "      <td>STITCH</td>\n",
       "    </tr>\n",
       "    <tr>\n",
       "      <th>2804427</th>\n",
       "      <td>BMG_MT217942</td>\n",
       "      <td>BMG_PT111217</td>\n",
       "      <td>STITCH</td>\n",
       "    </tr>\n",
       "    <tr>\n",
       "      <th>2804428</th>\n",
       "      <td>BMG_MT217942</td>\n",
       "      <td>BMG_PT113932</td>\n",
       "      <td>STITCH</td>\n",
       "    </tr>\n",
       "    <tr>\n",
       "      <th>2804429</th>\n",
       "      <td>BMG_MT217942</td>\n",
       "      <td>BMG_PT118743</td>\n",
       "      <td>STITCH</td>\n",
       "    </tr>\n",
       "  </tbody>\n",
       "</table>\n",
       "<p>2804430 rows × 3 columns</p>\n",
       "</div>"
      ],
      "text/plain": [
       "              From_ID         To_ID  Source\n",
       "0        BMG_MT000001  BMG_PT010663  STITCH\n",
       "1        BMG_MT000001  BMG_PT013590  STITCH\n",
       "2        BMG_MT000001  BMG_PT016722  STITCH\n",
       "3        BMG_MT000001  BMG_PT033059  STITCH\n",
       "4        BMG_MT000001  BMG_PT034409  STITCH\n",
       "...               ...           ...     ...\n",
       "2804425  BMG_MT217942  BMG_PT103805  STITCH\n",
       "2804426  BMG_MT217942  BMG_PT104066  STITCH\n",
       "2804427  BMG_MT217942  BMG_PT111217  STITCH\n",
       "2804428  BMG_MT217942  BMG_PT113932  STITCH\n",
       "2804429  BMG_MT217942  BMG_PT118743  STITCH\n",
       "\n",
       "[2804430 rows x 3 columns]"
      ]
     },
     "execution_count": 20,
     "metadata": {},
     "output_type": "execute_result"
    }
   ],
   "source": [
    "metabolite_protein_hmdb['Source1'] = 'HMDB'\n",
    "metabolite_protein_stitch['Source2'] = 'STITCH'\n",
    "\n",
    "metabolite_protein = pd.merge(metabolite_protein_hmdb, metabolite_protein_stitch, on=['From_ID', 'To_ID'], how='outer')\n",
    "metabolite_protein = merge_string_columns(metabolite_protein, ['Source1', 'Source2'], 'Source')\n",
    "metabolite_protein"
   ]
  },
  {
   "cell_type": "code",
   "execution_count": 21,
   "metadata": {},
   "outputs": [
    {
     "data": {
      "application/vnd.microsoft.datawrangler.viewer.v0+json": {
       "columns": [
        {
         "name": "index",
         "rawType": "int64",
         "type": "integer"
        },
        {
         "name": "BioMedGraphica_ID",
         "rawType": "object",
         "type": "string"
        },
        {
         "name": "From_ID",
         "rawType": "object",
         "type": "string"
        },
        {
         "name": "To_ID",
         "rawType": "object",
         "type": "string"
        },
        {
         "name": "Source",
         "rawType": "object",
         "type": "string"
        },
        {
         "name": "Type",
         "rawType": "object",
         "type": "string"
        }
       ],
       "conversionMethod": "pd.DataFrame",
       "ref": "c03341be-35c6-47a0-8608-e533f065d6ba",
       "rows": [
        [
         "0",
         "BMG_ED_MTPT0000001",
         "BMG_MT000001",
         "BMG_PT010663",
         "STITCH",
         "Metabolite-Protein"
        ],
        [
         "1",
         "BMG_ED_MTPT0000002",
         "BMG_MT000001",
         "BMG_PT013590",
         "STITCH",
         "Metabolite-Protein"
        ],
        [
         "2",
         "BMG_ED_MTPT0000003",
         "BMG_MT000001",
         "BMG_PT016722",
         "STITCH",
         "Metabolite-Protein"
        ],
        [
         "3",
         "BMG_ED_MTPT0000004",
         "BMG_MT000001",
         "BMG_PT033059",
         "STITCH",
         "Metabolite-Protein"
        ],
        [
         "4",
         "BMG_ED_MTPT0000005",
         "BMG_MT000001",
         "BMG_PT034409",
         "STITCH",
         "Metabolite-Protein"
        ],
        [
         "5",
         "BMG_ED_MTPT0000006",
         "BMG_MT000001",
         "BMG_PT034863",
         "STITCH",
         "Metabolite-Protein"
        ],
        [
         "6",
         "BMG_ED_MTPT0000007",
         "BMG_MT000001",
         "BMG_PT034997",
         "STITCH",
         "Metabolite-Protein"
        ],
        [
         "7",
         "BMG_ED_MTPT0000008",
         "BMG_MT000001",
         "BMG_PT035382",
         "HMDB",
         "Metabolite-Protein"
        ],
        [
         "8",
         "BMG_ED_MTPT0000009",
         "BMG_MT000001",
         "BMG_PT036596",
         "STITCH",
         "Metabolite-Protein"
        ],
        [
         "9",
         "BMG_ED_MTPT0000010",
         "BMG_MT000001",
         "BMG_PT036622",
         "STITCH",
         "Metabolite-Protein"
        ],
        [
         "10",
         "BMG_ED_MTPT0000011",
         "BMG_MT000001",
         "BMG_PT037314",
         "STITCH",
         "Metabolite-Protein"
        ],
        [
         "11",
         "BMG_ED_MTPT0000012",
         "BMG_MT000001",
         "BMG_PT037510",
         "STITCH",
         "Metabolite-Protein"
        ],
        [
         "12",
         "BMG_ED_MTPT0000013",
         "BMG_MT000001",
         "BMG_PT037843",
         "STITCH",
         "Metabolite-Protein"
        ],
        [
         "13",
         "BMG_ED_MTPT0000014",
         "BMG_MT000001",
         "BMG_PT038046",
         "STITCH",
         "Metabolite-Protein"
        ],
        [
         "14",
         "BMG_ED_MTPT0000015",
         "BMG_MT000001",
         "BMG_PT038083",
         "STITCH",
         "Metabolite-Protein"
        ],
        [
         "15",
         "BMG_ED_MTPT0000016",
         "BMG_MT000001",
         "BMG_PT038174",
         "STITCH",
         "Metabolite-Protein"
        ],
        [
         "16",
         "BMG_ED_MTPT0000017",
         "BMG_MT000001",
         "BMG_PT038338",
         "STITCH",
         "Metabolite-Protein"
        ],
        [
         "17",
         "BMG_ED_MTPT0000018",
         "BMG_MT000001",
         "BMG_PT038527",
         "STITCH",
         "Metabolite-Protein"
        ],
        [
         "18",
         "BMG_ED_MTPT0000019",
         "BMG_MT000001",
         "BMG_PT038528",
         "STITCH",
         "Metabolite-Protein"
        ],
        [
         "19",
         "BMG_ED_MTPT0000020",
         "BMG_MT000001",
         "BMG_PT039001",
         "STITCH",
         "Metabolite-Protein"
        ],
        [
         "20",
         "BMG_ED_MTPT0000021",
         "BMG_MT000001",
         "BMG_PT039002",
         "STITCH",
         "Metabolite-Protein"
        ],
        [
         "21",
         "BMG_ED_MTPT0000022",
         "BMG_MT000001",
         "BMG_PT039035",
         "STITCH",
         "Metabolite-Protein"
        ],
        [
         "22",
         "BMG_ED_MTPT0000023",
         "BMG_MT000001",
         "BMG_PT039204",
         "STITCH",
         "Metabolite-Protein"
        ],
        [
         "23",
         "BMG_ED_MTPT0000024",
         "BMG_MT000001",
         "BMG_PT039829",
         "STITCH",
         "Metabolite-Protein"
        ],
        [
         "24",
         "BMG_ED_MTPT0000025",
         "BMG_MT000001",
         "BMG_PT039937",
         "STITCH",
         "Metabolite-Protein"
        ],
        [
         "25",
         "BMG_ED_MTPT0000026",
         "BMG_MT000001",
         "BMG_PT039978",
         "STITCH",
         "Metabolite-Protein"
        ],
        [
         "26",
         "BMG_ED_MTPT0000027",
         "BMG_MT000001",
         "BMG_PT039984",
         "STITCH",
         "Metabolite-Protein"
        ],
        [
         "27",
         "BMG_ED_MTPT0000028",
         "BMG_MT000001",
         "BMG_PT040477",
         "STITCH",
         "Metabolite-Protein"
        ],
        [
         "28",
         "BMG_ED_MTPT0000029",
         "BMG_MT000001",
         "BMG_PT040478",
         "STITCH",
         "Metabolite-Protein"
        ],
        [
         "29",
         "BMG_ED_MTPT0000030",
         "BMG_MT000001",
         "BMG_PT040505",
         "STITCH",
         "Metabolite-Protein"
        ],
        [
         "30",
         "BMG_ED_MTPT0000031",
         "BMG_MT000001",
         "BMG_PT040527",
         "STITCH",
         "Metabolite-Protein"
        ],
        [
         "31",
         "BMG_ED_MTPT0000032",
         "BMG_MT000001",
         "BMG_PT040715",
         "STITCH",
         "Metabolite-Protein"
        ],
        [
         "32",
         "BMG_ED_MTPT0000033",
         "BMG_MT000001",
         "BMG_PT040959",
         "STITCH",
         "Metabolite-Protein"
        ],
        [
         "33",
         "BMG_ED_MTPT0000034",
         "BMG_MT000001",
         "BMG_PT041026",
         "STITCH",
         "Metabolite-Protein"
        ],
        [
         "34",
         "BMG_ED_MTPT0000035",
         "BMG_MT000001",
         "BMG_PT041854",
         "STITCH",
         "Metabolite-Protein"
        ],
        [
         "35",
         "BMG_ED_MTPT0000036",
         "BMG_MT000001",
         "BMG_PT041855",
         "STITCH",
         "Metabolite-Protein"
        ],
        [
         "36",
         "BMG_ED_MTPT0000037",
         "BMG_MT000001",
         "BMG_PT041856",
         "STITCH",
         "Metabolite-Protein"
        ],
        [
         "37",
         "BMG_ED_MTPT0000038",
         "BMG_MT000001",
         "BMG_PT041978",
         "STITCH",
         "Metabolite-Protein"
        ],
        [
         "38",
         "BMG_ED_MTPT0000039",
         "BMG_MT000001",
         "BMG_PT042058",
         "STITCH",
         "Metabolite-Protein"
        ],
        [
         "39",
         "BMG_ED_MTPT0000040",
         "BMG_MT000001",
         "BMG_PT042069",
         "STITCH",
         "Metabolite-Protein"
        ],
        [
         "40",
         "BMG_ED_MTPT0000041",
         "BMG_MT000001",
         "BMG_PT042073",
         "STITCH",
         "Metabolite-Protein"
        ],
        [
         "41",
         "BMG_ED_MTPT0000042",
         "BMG_MT000001",
         "BMG_PT042359",
         "STITCH",
         "Metabolite-Protein"
        ],
        [
         "42",
         "BMG_ED_MTPT0000043",
         "BMG_MT000001",
         "BMG_PT042958",
         "STITCH",
         "Metabolite-Protein"
        ],
        [
         "43",
         "BMG_ED_MTPT0000044",
         "BMG_MT000001",
         "BMG_PT043934",
         "STITCH",
         "Metabolite-Protein"
        ],
        [
         "44",
         "BMG_ED_MTPT0000045",
         "BMG_MT000001",
         "BMG_PT044290",
         "STITCH",
         "Metabolite-Protein"
        ],
        [
         "45",
         "BMG_ED_MTPT0000046",
         "BMG_MT000001",
         "BMG_PT044339",
         "STITCH",
         "Metabolite-Protein"
        ],
        [
         "46",
         "BMG_ED_MTPT0000047",
         "BMG_MT000001",
         "BMG_PT045713",
         "STITCH",
         "Metabolite-Protein"
        ],
        [
         "47",
         "BMG_ED_MTPT0000048",
         "BMG_MT000001",
         "BMG_PT046639",
         "STITCH",
         "Metabolite-Protein"
        ],
        [
         "48",
         "BMG_ED_MTPT0000049",
         "BMG_MT000001",
         "BMG_PT050361",
         "STITCH",
         "Metabolite-Protein"
        ],
        [
         "49",
         "BMG_ED_MTPT0000050",
         "BMG_MT000001",
         "BMG_PT052852",
         "STITCH",
         "Metabolite-Protein"
        ]
       ],
       "shape": {
        "columns": 5,
        "rows": 2804430
       }
      },
      "text/html": [
       "<div>\n",
       "<style scoped>\n",
       "    .dataframe tbody tr th:only-of-type {\n",
       "        vertical-align: middle;\n",
       "    }\n",
       "\n",
       "    .dataframe tbody tr th {\n",
       "        vertical-align: top;\n",
       "    }\n",
       "\n",
       "    .dataframe thead th {\n",
       "        text-align: right;\n",
       "    }\n",
       "</style>\n",
       "<table border=\"1\" class=\"dataframe\">\n",
       "  <thead>\n",
       "    <tr style=\"text-align: right;\">\n",
       "      <th></th>\n",
       "      <th>BioMedGraphica_ID</th>\n",
       "      <th>From_ID</th>\n",
       "      <th>To_ID</th>\n",
       "      <th>Source</th>\n",
       "      <th>Type</th>\n",
       "    </tr>\n",
       "  </thead>\n",
       "  <tbody>\n",
       "    <tr>\n",
       "      <th>0</th>\n",
       "      <td>BMG_ED_MTPT0000001</td>\n",
       "      <td>BMG_MT000001</td>\n",
       "      <td>BMG_PT010663</td>\n",
       "      <td>STITCH</td>\n",
       "      <td>Metabolite-Protein</td>\n",
       "    </tr>\n",
       "    <tr>\n",
       "      <th>1</th>\n",
       "      <td>BMG_ED_MTPT0000002</td>\n",
       "      <td>BMG_MT000001</td>\n",
       "      <td>BMG_PT013590</td>\n",
       "      <td>STITCH</td>\n",
       "      <td>Metabolite-Protein</td>\n",
       "    </tr>\n",
       "    <tr>\n",
       "      <th>2</th>\n",
       "      <td>BMG_ED_MTPT0000003</td>\n",
       "      <td>BMG_MT000001</td>\n",
       "      <td>BMG_PT016722</td>\n",
       "      <td>STITCH</td>\n",
       "      <td>Metabolite-Protein</td>\n",
       "    </tr>\n",
       "    <tr>\n",
       "      <th>3</th>\n",
       "      <td>BMG_ED_MTPT0000004</td>\n",
       "      <td>BMG_MT000001</td>\n",
       "      <td>BMG_PT033059</td>\n",
       "      <td>STITCH</td>\n",
       "      <td>Metabolite-Protein</td>\n",
       "    </tr>\n",
       "    <tr>\n",
       "      <th>4</th>\n",
       "      <td>BMG_ED_MTPT0000005</td>\n",
       "      <td>BMG_MT000001</td>\n",
       "      <td>BMG_PT034409</td>\n",
       "      <td>STITCH</td>\n",
       "      <td>Metabolite-Protein</td>\n",
       "    </tr>\n",
       "    <tr>\n",
       "      <th>...</th>\n",
       "      <td>...</td>\n",
       "      <td>...</td>\n",
       "      <td>...</td>\n",
       "      <td>...</td>\n",
       "      <td>...</td>\n",
       "    </tr>\n",
       "    <tr>\n",
       "      <th>2804425</th>\n",
       "      <td>BMG_ED_MTPT2804426</td>\n",
       "      <td>BMG_MT217942</td>\n",
       "      <td>BMG_PT103805</td>\n",
       "      <td>STITCH</td>\n",
       "      <td>Metabolite-Protein</td>\n",
       "    </tr>\n",
       "    <tr>\n",
       "      <th>2804426</th>\n",
       "      <td>BMG_ED_MTPT2804427</td>\n",
       "      <td>BMG_MT217942</td>\n",
       "      <td>BMG_PT104066</td>\n",
       "      <td>STITCH</td>\n",
       "      <td>Metabolite-Protein</td>\n",
       "    </tr>\n",
       "    <tr>\n",
       "      <th>2804427</th>\n",
       "      <td>BMG_ED_MTPT2804428</td>\n",
       "      <td>BMG_MT217942</td>\n",
       "      <td>BMG_PT111217</td>\n",
       "      <td>STITCH</td>\n",
       "      <td>Metabolite-Protein</td>\n",
       "    </tr>\n",
       "    <tr>\n",
       "      <th>2804428</th>\n",
       "      <td>BMG_ED_MTPT2804429</td>\n",
       "      <td>BMG_MT217942</td>\n",
       "      <td>BMG_PT113932</td>\n",
       "      <td>STITCH</td>\n",
       "      <td>Metabolite-Protein</td>\n",
       "    </tr>\n",
       "    <tr>\n",
       "      <th>2804429</th>\n",
       "      <td>BMG_ED_MTPT2804430</td>\n",
       "      <td>BMG_MT217942</td>\n",
       "      <td>BMG_PT118743</td>\n",
       "      <td>STITCH</td>\n",
       "      <td>Metabolite-Protein</td>\n",
       "    </tr>\n",
       "  </tbody>\n",
       "</table>\n",
       "<p>2804430 rows × 5 columns</p>\n",
       "</div>"
      ],
      "text/plain": [
       "          BioMedGraphica_ID       From_ID         To_ID  Source  \\\n",
       "0        BMG_ED_MTPT0000001  BMG_MT000001  BMG_PT010663  STITCH   \n",
       "1        BMG_ED_MTPT0000002  BMG_MT000001  BMG_PT013590  STITCH   \n",
       "2        BMG_ED_MTPT0000003  BMG_MT000001  BMG_PT016722  STITCH   \n",
       "3        BMG_ED_MTPT0000004  BMG_MT000001  BMG_PT033059  STITCH   \n",
       "4        BMG_ED_MTPT0000005  BMG_MT000001  BMG_PT034409  STITCH   \n",
       "...                     ...           ...           ...     ...   \n",
       "2804425  BMG_ED_MTPT2804426  BMG_MT217942  BMG_PT103805  STITCH   \n",
       "2804426  BMG_ED_MTPT2804427  BMG_MT217942  BMG_PT104066  STITCH   \n",
       "2804427  BMG_ED_MTPT2804428  BMG_MT217942  BMG_PT111217  STITCH   \n",
       "2804428  BMG_ED_MTPT2804429  BMG_MT217942  BMG_PT113932  STITCH   \n",
       "2804429  BMG_ED_MTPT2804430  BMG_MT217942  BMG_PT118743  STITCH   \n",
       "\n",
       "                       Type  \n",
       "0        Metabolite-Protein  \n",
       "1        Metabolite-Protein  \n",
       "2        Metabolite-Protein  \n",
       "3        Metabolite-Protein  \n",
       "4        Metabolite-Protein  \n",
       "...                     ...  \n",
       "2804425  Metabolite-Protein  \n",
       "2804426  Metabolite-Protein  \n",
       "2804427  Metabolite-Protein  \n",
       "2804428  Metabolite-Protein  \n",
       "2804429  Metabolite-Protein  \n",
       "\n",
       "[2804430 rows x 5 columns]"
      ]
     },
     "execution_count": 21,
     "metadata": {},
     "output_type": "execute_result"
    }
   ],
   "source": [
    "metabolite_protein['Type'] = 'Metabolite-Protein'\n",
    "\n",
    "max_length = len(str(len(metabolite_protein)))\n",
    "metabolite_protein['BioMedGraphica_ID'] = ['BMG_ED_MTPT' + str(i).zfill(max_length) for i in range(1, len(metabolite_protein) + 1)]\n",
    "columns = ['BioMedGraphica_ID'] + [col for col in metabolite_protein.columns if col != 'BioMedGraphica_ID']  # re-order columns\n",
    "metabolome_protein = metabolite_protein[columns]\n",
    "metabolome_protein"
   ]
  },
  {
   "cell_type": "code",
   "execution_count": 22,
   "metadata": {},
   "outputs": [
    {
     "name": "stdout",
     "output_type": "stream",
     "text": [
      "Data has been saved to D:\\RA\\BMG\\BioMedGraphica\\Relation\\Metabolite-Protein\\BioMedGraphica_Metabolite_Protein.csv\n"
     ]
    }
   ],
   "source": [
    "import os\n",
    "from pathlib import Path\n",
    "\n",
    "# get the current working directory\n",
    "current_working_dir = Path(os.getcwd()).resolve()\n",
    "\n",
    "# get the output directory\n",
    "grandparent_dir = current_working_dir.parent.parent.parent\n",
    "\n",
    "target_folder = grandparent_dir / 'BioMedGraphica' / 'Relation' / 'Metabolite-Protein'\n",
    "if not target_folder.exists():\n",
    "    target_folder.mkdir(parents=True)\n",
    "    print(f\"Folder {target_folder} has been created.\")\n",
    "\n",
    "output_file_path = target_folder / 'BioMedGraphica_Metabolite_Protein.csv'\n",
    "metabolite_protein.to_csv(output_file_path, index=False)\n",
    "print(f\"Data has been saved to {output_file_path}\")"
   ]
  }
 ],
 "metadata": {
  "kernelspec": {
   "display_name": "base",
   "language": "python",
   "name": "python3"
  },
  "language_info": {
   "codemirror_mode": {
    "name": "ipython",
    "version": 3
   },
   "file_extension": ".py",
   "mimetype": "text/x-python",
   "name": "python",
   "nbconvert_exporter": "python",
   "pygments_lexer": "ipython3",
   "version": "3.9.19"
  }
 },
 "nbformat": 4,
 "nbformat_minor": 2
}
