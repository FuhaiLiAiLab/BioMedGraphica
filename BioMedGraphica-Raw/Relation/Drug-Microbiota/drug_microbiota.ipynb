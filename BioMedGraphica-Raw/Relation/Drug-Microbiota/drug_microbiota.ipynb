{
 "cells": [
  {
   "cell_type": "markdown",
   "metadata": {},
   "source": [
    "### MDAD"
   ]
  },
  {
   "cell_type": "code",
   "execution_count": 19,
   "metadata": {},
   "outputs": [
    {
     "data": {
      "application/vnd.microsoft.datawrangler.viewer.v0+json": {
       "columns": [
        {
         "name": "index",
         "rawType": "int64",
         "type": "integer"
        },
        {
         "name": "Name",
         "rawType": "object",
         "type": "string"
        },
        {
         "name": "Molecular form",
         "rawType": "object",
         "type": "unknown"
        },
        {
         "name": "Microbe",
         "rawType": "object",
         "type": "string"
        },
        {
         "name": "Strain",
         "rawType": "object",
         "type": "string"
        },
        {
         "name": "Target",
         "rawType": "object",
         "type": "unknown"
        },
        {
         "name": "PubMed ID",
         "rawType": "object",
         "type": "string"
        }
       ],
       "conversionMethod": "pd.DataFrame",
       "ref": "c0cc20b9-f45b-4f15-964d-6efe5ec2a735",
       "rows": [
        [
         "0",
         "(1-(4-chlorophenoxy)-3-[(4, 6-dimethyl-2-pyrimidinyl) thio]-2- propanol)",
         "C16H19ClN2O2",
         "Vibrio harveyi",
         "MTCC 3438",
         null,
         "27141809"
        ],
        [
         "1",
         "(10R,11R)-Hydnocarpin",
         "C25H20O9",
         "Staphylococcus aureus",
         "8325-4",
         null,
         "26273725"
        ],
        [
         "2",
         "(10R,11R)-Hydnocarpin D",
         "C25H20O9",
         "Staphylococcus aureus",
         "8325-4",
         null,
         "26273725"
        ],
        [
         "3",
         "(10S,11S)-Hydnocarpin D",
         "C25H20O9",
         "Staphylococcus aureus",
         "8325-4",
         null,
         "26273725"
        ],
        [
         "4",
         "(1E)-1-{[(1E)-prop-1-ene-1-sulfinyl]sulfanyl}prop-1-ene",
         "C6H10OS2",
         "Streptococcus mutans",
         "UA159",
         null,
         "25081571"
        ],
        [
         "5",
         "(1R,2S,7R,3E,11E)-2,18-diacetoxycembra-3,8(19),11,15(17)-tetraen-7-ol",
         "C20H32O3",
         "Pseudomonas aeruginosa",
         "ATCC 27853",
         null,
         "22905751"
        ],
        [
         "6",
         "(1R,2S,7R,3E,11E)-2,18-diacetoxycembra-3,8(19),11,15(17)-tetraen-7-ol",
         "C20H32O3",
         "Vibrio harveyi",
         "PHY-2A",
         null,
         "22905751"
        ],
        [
         "7",
         "(1R,2S,7R,3E,8E,11E)-2,18-diacetoxycembra-3,8,11,15(17)-tetraen-7-ol",
         "C20H32O3",
         "Pseudomonas aeruginosa",
         "ATCC 27853",
         null,
         "22905751"
        ],
        [
         "8",
         "(1R,2S,7R,3E,8E,11E)-2,18-diacetoxycembra-3,8,11,15(17)-tetraen-7-ol",
         "C20H32O3",
         "Staphylococcus aureus",
         "ATCC 25923",
         null,
         "22905751"
        ],
        [
         "9",
         "(1R,2S,7R,3E,8E,11E)-2,18-diacetoxycembra-3,8,11,15(17)-tetraen-7-ol",
         "C20H32O3",
         "Vibrio harveyi",
         "PHY-2A",
         null,
         "22905751"
        ],
        [
         "10",
         "(1R,2S,7R,8R)-2,18-diacetoxyasperdiol",
         "C20H34O2",
         "Pseudomonas aeruginosa",
         "ATCC 27853",
         null,
         "22905751"
        ],
        [
         "11",
         "(1R,2S,7R,8R)-2,18-diacetoxyasperdiol",
         "C20H34O2",
         "Vibrio harveyi",
         "PHY-2A",
         null,
         "22905751"
        ],
        [
         "12",
         "(1R,3S,7R,8S,11S,12R)-3-hydroxy-1,4,8-trimethyl-12-(propan-2-yl)tricyclo[9.3.0.0]tetradec-4-en-6-one",
         "C20H32O2",
         "Pseudomonas aeruginosa",
         "ATCC 27853",
         null,
         "21384863"
        ],
        [
         "13",
         "(1R,4R,8S,11S,12R)-4-hydroxy-1,4,8-trimethyl-12-(propan-2-yl)tricyclo[9.3.0.0]tetradec-3(7)-en-6-one",
         "C20H32O2",
         "Pseudomonas aeruginosa",
         "ATCC 27853",
         null,
         "21384863"
        ],
        [
         "14",
         "(1Z)-(2-phenylethylidene)-lambda4-sulfanyliumolate",
         "C8H8OS",
         "Actinomyces oris",
         "MG1",
         null,
         "25081571"
        ],
        [
         "15",
         "(1Z)-(2-phenylethylidene)-lambda4-sulfanyliumolate",
         "C8H8OS",
         "Streptococcus sanguis",
         "10556",
         null,
         "25081571"
        ],
        [
         "16",
         "(1Z)-(prop-2-en-1-ylidene)-lambda4-sulfanyliumolate",
         "C6H10OS2",
         "Actinomyces oris",
         "MG1",
         null,
         "25081571"
        ],
        [
         "17",
         "(1Z)-(prop-2-en-1-ylidene)-lambda4-sulfanyliumolate",
         "C6H10OS2",
         "Streptococcus mutans",
         "UA159",
         null,
         "25081571"
        ],
        [
         "18",
         "(1Z)-(prop-2-en-1-ylidene)-lambda4-sulfanyliumolate",
         "C6H10OS2",
         "Streptococcus sanguis",
         "10556",
         null,
         "25081571"
        ],
        [
         "19",
         "(1Z)-ethylidene-lambda4-sulfanyliumolate",
         "C2H4OS",
         "Streptococcus mutans",
         "UA159",
         null,
         "25081571"
        ],
        [
         "20",
         "(1Z)-ethylidene-lambda4-sulfanyliumolate",
         "C2H4OS",
         "Streptococcus sanguis",
         "10556",
         null,
         "25081571"
        ],
        [
         "21",
         "(2-(4-chlorophenyl)- 4-{[(6-methyl-2-pyridinyl)amino]methylene}-1,3-oxazol- 5(4H)-one)",
         "C16H12ClN3O2",
         "Streptococcus mutans",
         "UA159",
         null,
         "26526453"
        ],
        [
         "22",
         "(2-{[(2-phenylethyl)sulfanyl]sulfinyl}ethyl)benzene",
         "C16H18OS2",
         "Actinomyces oris",
         "MG1",
         null,
         "25081571"
        ],
        [
         "23",
         "(2-{[(2-phenylethyl)sulfanyl]sulfinyl}ethyl)benzene",
         "C16H18OS2",
         "Streptococcus mutans",
         "UA159",
         null,
         "25081571"
        ],
        [
         "24",
         "(2E)-1-(1 ,3 -benzodioxol-5-yl)-3-(2-naphthyl)-2-propen-1-one",
         "C20H14O3",
         "Enterococcus faecalis",
         "ATCC 19433",
         null,
         "24016798"
        ],
        [
         "25",
         "(2E)-1-(1 ,3 -benzodioxol-5-yl)-3-(2-naphthyl)-2-propen-1-one",
         "C20H14O3",
         "Pseudomonas aeruginosa",
         "ATCC 25923",
         null,
         "24016798"
        ],
        [
         "26",
         "(2E)-1-(1 ,3 -benzodioxol-5-yl)-3-(2-naphthyl)-2-propen-1-one",
         "C20H14O3",
         "Staphylococcus aureus",
         "ATCC 25923",
         null,
         "24016798"
        ],
        [
         "27",
         "(2E)-1-(1 ,3 -benzodioxol-5-yl)-3-(2-naphthyl)-2-propen-1-one",
         "C20H14O3",
         "Staphylococcus epidermidis",
         "ATCC 35547",
         null,
         "24016798"
        ],
        [
         "28",
         "(2E)-1-(1 ,3 -benzodioxol-5-yl)-3-(2-naphthyl)-2-propen-1-one",
         "C20H14O3",
         "Streptococcus mutans",
         "ATCC 25175",
         null,
         "24016798"
        ],
        [
         "29",
         "(2E)-1-(1,3-benzodioxol-5-yl)-3-(2-chloro-quinolin-3-yl)-2-propen-1-one",
         "C19H12ClNO3",
         "Enterococcus faecalis",
         "ATCC 19433",
         null,
         "24016798"
        ],
        [
         "30",
         "(2E)-1-(1,3-benzodioxol-5-yl)-3-(2-chloro-quinolin-3-yl)-2-propen-1-one",
         "C19H12ClNO3",
         "Pseudomonas aeruginosa",
         "ATCC 25923",
         null,
         "24016798"
        ],
        [
         "31",
         "(2E)-1-(1,3-benzodioxol-5-yl)-3-(2-chloro-quinolin-3-yl)-2-propen-1-one",
         "C19H12ClNO3",
         "Staphylococcus aureus",
         "ATCC 25923",
         null,
         "24016798"
        ],
        [
         "32",
         "(2E)-1-(1,3-benzodioxol-5-yl)-3-(2-chloro-quinolin-3-yl)-2-propen-1-one",
         "C19H12ClNO3",
         "Staphylococcus epidermidis",
         "ATCC 35547",
         null,
         "24016798"
        ],
        [
         "33",
         "(2E)-1-(1,3-benzodioxol-5-yl)-3-(2-chloro-quinolin-3-yl)-2-propen-1-one",
         "C19H12ClNO3",
         "Streptococcus mutans",
         "ATCC 25175",
         null,
         "24016798"
        ],
        [
         "34",
         "(2E)-1-(1,3-benzodioxol-5-yl)-3-[5-(2-nitro-phenyl)-furan-2-yl]-2-propen-1-one",
         "C20H13NO6",
         "Enterococcus faecalis",
         "ATCC 19433",
         null,
         "24016798"
        ],
        [
         "35",
         "(2E)-1-(1,3-benzodioxol-5-yl)-3-[5-(2-nitro-phenyl)-furan-2-yl]-2-propen-1-one",
         "C20H13NO6",
         "Pseudomonas aeruginosa",
         "ATCC 25923",
         null,
         "24016798"
        ],
        [
         "36",
         "(2E)-1-(1,3-benzodioxol-5-yl)-3-[5-(2-nitro-phenyl)-furan-2-yl]-2-propen-1-one",
         "C20H13NO6",
         "Staphylococcus aureus",
         "ATCC 25923",
         null,
         "24016798"
        ],
        [
         "37",
         "(2E)-1-(1,3-benzodioxol-5-yl)-3-[5-(2-nitro-phenyl)-furan-2-yl]-2-propen-1-one",
         "C20H13NO6",
         "Staphylococcus epidermidis",
         "ATCC 35547",
         null,
         "24016798"
        ],
        [
         "38",
         "(2E)-1-(1,3-benzodioxol-5-yl)-3-[5-(2-nitro-phenyl)-furan-2-yl]-2-propen-1-one",
         "C20H13NO6",
         "Streptococcus mutans",
         "ATCC 25175",
         null,
         "24016798"
        ],
        [
         "39",
         "(2E)-1-(2 ,4 ,5 -trimethoxyphenyl)-3-(2-chloro-6-methoxy-quinolin-3-yl)-2-propen-1-one",
         "C22H20ClNO5",
         "Enterococcus faecalis",
         "ATCC 19433",
         null,
         "24016798"
        ],
        [
         "40",
         "(2E)-1-(2 ,4 ,5 -trimethoxyphenyl)-3-(2-chloro-6-methoxy-quinolin-3-yl)-2-propen-1-one",
         "C22H20ClNO5",
         "Pseudomonas aeruginosa",
         "ATCC 25923",
         null,
         "24016798"
        ],
        [
         "41",
         "(2E)-1-(2 ,4 ,5 -trimethoxyphenyl)-3-(2-chloro-6-methoxy-quinolin-3-yl)-2-propen-1-one",
         "C22H20ClNO5",
         "Staphylococcus aureus",
         "ATCC 25923",
         null,
         "24016798"
        ],
        [
         "42",
         "(2E)-1-(2 ,4 ,5 -trimethoxyphenyl)-3-(2-chloro-6-methoxy-quinolin-3-yl)-2-propen-1-one",
         "C22H20ClNO5",
         "Staphylococcus epidermidis",
         "ATCC 35547",
         null,
         "24016798"
        ],
        [
         "43",
         "(2E)-1-(2 ,4 ,5 -trimethoxyphenyl)-3-(2-chloro-6-methoxy-quinolin-3-yl)-2-propen-1-one",
         "C22H20ClNO5",
         "Streptococcus mutans",
         "ATCC 25175",
         null,
         "24016798"
        ],
        [
         "44",
         "(2E)-1-(2 ,4 ,5 -trimethoxyphenyl)-3-(2-chloro-quinolin-3-yl)-2-propen-1-one",
         "C21H18ClNO4",
         "Enterococcus faecalis",
         "ATCC 19433",
         null,
         "24016798"
        ],
        [
         "45",
         "(2E)-1-(2 ,4 ,5 -trimethoxyphenyl)-3-(2-chloro-quinolin-3-yl)-2-propen-1-one",
         "C21H18ClNO4",
         "Pseudomonas aeruginosa",
         "ATCC 25923",
         null,
         "24016798"
        ],
        [
         "46",
         "(2E)-1-(2 ,4 ,5 -trimethoxyphenyl)-3-(2-chloro-quinolin-3-yl)-2-propen-1-one",
         "C21H18ClNO4",
         "Staphylococcus aureus",
         "ATCC 25923",
         null,
         "24016798"
        ],
        [
         "47",
         "(2E)-1-(2 ,4 ,5 -trimethoxyphenyl)-3-(2-chloro-quinolin-3-yl)-2-propen-1-one",
         "C21H18ClNO4",
         "Staphylococcus epidermidis",
         "ATCC 35547",
         null,
         "24016798"
        ],
        [
         "48",
         "(2E)-1-(2 ,4 ,5 -trimethoxyphenyl)-3-(2-chloro-quinolin-3-yl)-2-propen-1-one",
         "C21H18ClNO4",
         "Streptococcus mutans",
         "ATCC 25175",
         null,
         "24016798"
        ],
        [
         "49",
         "(2E)-1-(2 ,4 ,5 -trimethoxyphenyl)-3-(2-naphthyl)-2-propen-1-one",
         "C22H20O4",
         "Enterococcus faecalis",
         "ATCC 19433",
         null,
         "24016798"
        ]
       ],
       "shape": {
        "columns": 6,
        "rows": 5055
       }
      },
      "text/html": [
       "<div>\n",
       "<style scoped>\n",
       "    .dataframe tbody tr th:only-of-type {\n",
       "        vertical-align: middle;\n",
       "    }\n",
       "\n",
       "    .dataframe tbody tr th {\n",
       "        vertical-align: top;\n",
       "    }\n",
       "\n",
       "    .dataframe thead th {\n",
       "        text-align: right;\n",
       "    }\n",
       "</style>\n",
       "<table border=\"1\" class=\"dataframe\">\n",
       "  <thead>\n",
       "    <tr style=\"text-align: right;\">\n",
       "      <th></th>\n",
       "      <th>Name</th>\n",
       "      <th>Molecular form</th>\n",
       "      <th>Microbe</th>\n",
       "      <th>Strain</th>\n",
       "      <th>Target</th>\n",
       "      <th>PubMed ID</th>\n",
       "    </tr>\n",
       "  </thead>\n",
       "  <tbody>\n",
       "    <tr>\n",
       "      <th>0</th>\n",
       "      <td>(1-(4-chlorophenoxy)-3-[(4, 6-dimethyl-2-pyrim...</td>\n",
       "      <td>C16H19ClN2O2</td>\n",
       "      <td>Vibrio harveyi</td>\n",
       "      <td>MTCC 3438</td>\n",
       "      <td>NaN</td>\n",
       "      <td>27141809</td>\n",
       "    </tr>\n",
       "    <tr>\n",
       "      <th>1</th>\n",
       "      <td>(10R,11R)-Hydnocarpin</td>\n",
       "      <td>C25H20O9</td>\n",
       "      <td>Staphylococcus aureus</td>\n",
       "      <td>8325-4</td>\n",
       "      <td>NaN</td>\n",
       "      <td>26273725</td>\n",
       "    </tr>\n",
       "    <tr>\n",
       "      <th>2</th>\n",
       "      <td>(10R,11R)-Hydnocarpin D</td>\n",
       "      <td>C25H20O9</td>\n",
       "      <td>Staphylococcus aureus</td>\n",
       "      <td>8325-4</td>\n",
       "      <td>NaN</td>\n",
       "      <td>26273725</td>\n",
       "    </tr>\n",
       "    <tr>\n",
       "      <th>3</th>\n",
       "      <td>(10S,11S)-Hydnocarpin D</td>\n",
       "      <td>C25H20O9</td>\n",
       "      <td>Staphylococcus aureus</td>\n",
       "      <td>8325-4</td>\n",
       "      <td>NaN</td>\n",
       "      <td>26273725</td>\n",
       "    </tr>\n",
       "    <tr>\n",
       "      <th>4</th>\n",
       "      <td>(1E)-1-{[(1E)-prop-1-ene-1-sulfinyl]sulfanyl}p...</td>\n",
       "      <td>C6H10OS2</td>\n",
       "      <td>Streptococcus mutans</td>\n",
       "      <td>UA159</td>\n",
       "      <td>NaN</td>\n",
       "      <td>25081571</td>\n",
       "    </tr>\n",
       "    <tr>\n",
       "      <th>...</th>\n",
       "      <td>...</td>\n",
       "      <td>...</td>\n",
       "      <td>...</td>\n",
       "      <td>...</td>\n",
       "      <td>...</td>\n",
       "      <td>...</td>\n",
       "    </tr>\n",
       "    <tr>\n",
       "      <th>5050</th>\n",
       "      <td>ZnO nanoparticles</td>\n",
       "      <td>ZnO</td>\n",
       "      <td>Pseudomonas aeruginosa</td>\n",
       "      <td>M10</td>\n",
       "      <td>NaN</td>\n",
       "      <td>26084709</td>\n",
       "    </tr>\n",
       "    <tr>\n",
       "      <th>5051</th>\n",
       "      <td>ZnO nanoparticles</td>\n",
       "      <td>ZnO</td>\n",
       "      <td>Pseudomonas aeruginosa</td>\n",
       "      <td>ID4365</td>\n",
       "      <td>NaN</td>\n",
       "      <td>26084709</td>\n",
       "    </tr>\n",
       "    <tr>\n",
       "      <th>5052</th>\n",
       "      <td>ZnO nanoparticles</td>\n",
       "      <td>ZnO</td>\n",
       "      <td>Pseudomonas aeruginosa</td>\n",
       "      <td>IGB83</td>\n",
       "      <td>NaN</td>\n",
       "      <td>26084709</td>\n",
       "    </tr>\n",
       "    <tr>\n",
       "      <th>5053</th>\n",
       "      <td>ZnO nanoparticles</td>\n",
       "      <td>ZnO</td>\n",
       "      <td>Pseudomonas aeruginosa</td>\n",
       "      <td>148</td>\n",
       "      <td>NaN</td>\n",
       "      <td>26084709</td>\n",
       "    </tr>\n",
       "    <tr>\n",
       "      <th>5054</th>\n",
       "      <td>Zotepine</td>\n",
       "      <td>C18H18ClNOS</td>\n",
       "      <td>Candida albicans</td>\n",
       "      <td>SC5314</td>\n",
       "      <td>NaN</td>\n",
       "      <td>23689719</td>\n",
       "    </tr>\n",
       "  </tbody>\n",
       "</table>\n",
       "<p>5055 rows × 6 columns</p>\n",
       "</div>"
      ],
      "text/plain": [
       "                                                   Name Molecular form  \\\n",
       "0     (1-(4-chlorophenoxy)-3-[(4, 6-dimethyl-2-pyrim...   C16H19ClN2O2   \n",
       "1                                 (10R,11R)-Hydnocarpin       C25H20O9   \n",
       "2                               (10R,11R)-Hydnocarpin D       C25H20O9   \n",
       "3                               (10S,11S)-Hydnocarpin D       C25H20O9   \n",
       "4     (1E)-1-{[(1E)-prop-1-ene-1-sulfinyl]sulfanyl}p...       C6H10OS2   \n",
       "...                                                 ...            ...   \n",
       "5050                                  ZnO nanoparticles            ZnO   \n",
       "5051                                  ZnO nanoparticles            ZnO   \n",
       "5052                                  ZnO nanoparticles            ZnO   \n",
       "5053                                  ZnO nanoparticles            ZnO   \n",
       "5054                                           Zotepine    C18H18ClNOS   \n",
       "\n",
       "                     Microbe     Strain Target PubMed ID  \n",
       "0             Vibrio harveyi  MTCC 3438    NaN  27141809  \n",
       "1      Staphylococcus aureus     8325-4    NaN  26273725  \n",
       "2      Staphylococcus aureus     8325-4    NaN  26273725  \n",
       "3      Staphylococcus aureus     8325-4    NaN  26273725  \n",
       "4       Streptococcus mutans      UA159    NaN  25081571  \n",
       "...                      ...        ...    ...       ...  \n",
       "5050  Pseudomonas aeruginosa        M10    NaN  26084709  \n",
       "5051  Pseudomonas aeruginosa     ID4365    NaN  26084709  \n",
       "5052  Pseudomonas aeruginosa      IGB83    NaN  26084709  \n",
       "5053  Pseudomonas aeruginosa        148    NaN  26084709  \n",
       "5054        Candida albicans     SC5314    NaN  23689719  \n",
       "\n",
       "[5055 rows x 6 columns]"
      ]
     },
     "execution_count": 19,
     "metadata": {},
     "output_type": "execute_result"
    }
   ],
   "source": [
    "# Download Link: https://github.com/Sun-Yazhou/MDAD/raw/refs/heads/master/MDAD.zip\n",
    "# Download Date: 2025-03-21\n",
    "# Download Version: 2018-10-29\n",
    "\n",
    "import pandas as pd\n",
    "\n",
    "mdad = pd.read_csv('MDAD\\\\MDAD\\\\download\\\\all data.txt', sep='\\t', encoding='ISO-8859-1')\n",
    "mdad.dropna(how='all', inplace=True)\n",
    "mdad"
   ]
  },
  {
   "cell_type": "markdown",
   "metadata": {},
   "source": [
    "### PharmacoMicrobiomics"
   ]
  },
  {
   "cell_type": "code",
   "execution_count": 29,
   "metadata": {},
   "outputs": [
    {
     "data": {
      "application/vnd.microsoft.datawrangler.viewer.v0+json": {
       "columns": [
        {
         "name": "index",
         "rawType": "int64",
         "type": "integer"
        },
        {
         "name": "Drug_CID",
         "rawType": "int64",
         "type": "integer"
        },
        {
         "name": "Microbe_Taxon",
         "rawType": "int64",
         "type": "integer"
        }
       ],
       "conversionMethod": "pd.DataFrame",
       "ref": "5d8f493e-e3d3-4294-ba40-66ce1578f246",
       "rows": [
        [
         "0",
         "2724385",
         "84112"
        ],
        [
         "1",
         "5282192",
         "816"
        ],
        [
         "2",
         "10303",
         "2"
        ],
        [
         "3",
         "5280961",
         "820"
        ],
        [
         "4",
         "5280961",
         "39490"
        ],
        [
         "5",
         "65064",
         "41200"
        ],
        [
         "6",
         "17787981",
         "1681"
        ],
        [
         "7",
         "442089",
         "816"
        ],
        [
         "8",
         "71905",
         "562"
        ],
        [
         "9",
         "300",
         "1350"
        ],
        [
         "10",
         "7533",
         "1350"
        ],
        [
         "11",
         "4506",
         "1535"
        ],
        [
         "12",
         "5734",
         "1509"
        ],
        [
         "13",
         "4173",
         "1502"
        ],
        [
         "14",
         "5282192",
         "28111"
        ],
        [
         "15",
         "5282192",
         "821"
        ],
        [
         "16",
         "5959",
         "562"
        ],
        [
         "17",
         "2907",
         "1239"
        ],
        [
         "18",
         "3672",
         "412900"
        ],
        [
         "19",
         "2724385",
         "84112"
        ],
        [
         "20",
         "60838",
         "562"
        ],
        [
         "21",
         "464205",
         "2702"
        ],
        [
         "22",
         "5997",
         "290054"
        ],
        [
         "23",
         "7955",
         "570"
        ],
        [
         "24",
         "60750",
         "2100"
        ],
        [
         "25",
         "439503",
         "1579"
        ],
        [
         "26",
         "442456",
         "1689"
        ],
        [
         "27",
         "5280805",
         "1689"
        ],
        [
         "28",
         "6047",
         "1578"
        ],
        [
         "29",
         "426756",
         "165179"
        ],
        [
         "30",
         "3007",
         "562"
        ],
        [
         "31",
         "3385",
         "562"
        ],
        [
         "32",
         "60838",
         "1578"
        ],
        [
         "33",
         "442428",
         "1689"
        ],
        [
         "34",
         "3385",
         "816"
        ],
        [
         "35",
         "126941",
         "816"
        ],
        [
         "36",
         "126941",
         "838"
        ],
        [
         "37",
         "60823",
         "2"
        ],
        [
         "38",
         "2353",
         "40518"
        ],
        [
         "39",
         "2353",
         "239935"
        ],
        [
         "40",
         "135398745",
         "239759"
        ],
        [
         "41",
         "135398745",
         "2"
        ],
        [
         "42",
         "2244",
         "851"
        ],
        [
         "43",
         "37542",
         "2"
        ],
        [
         "44",
         "92727",
         "2"
        ],
        [
         "45",
         "392622",
         "2"
        ],
        [
         "46",
         "131411",
         "2"
        ],
        [
         "47",
         "492405",
         "2"
        ],
        [
         "48",
         "65028",
         "2"
        ],
        [
         "49",
         "2719",
         "2"
        ]
       ],
       "shape": {
        "columns": 2,
        "rows": 69
       }
      },
      "text/html": [
       "<div>\n",
       "<style scoped>\n",
       "    .dataframe tbody tr th:only-of-type {\n",
       "        vertical-align: middle;\n",
       "    }\n",
       "\n",
       "    .dataframe tbody tr th {\n",
       "        vertical-align: top;\n",
       "    }\n",
       "\n",
       "    .dataframe thead th {\n",
       "        text-align: right;\n",
       "    }\n",
       "</style>\n",
       "<table border=\"1\" class=\"dataframe\">\n",
       "  <thead>\n",
       "    <tr style=\"text-align: right;\">\n",
       "      <th></th>\n",
       "      <th>Drug_CID</th>\n",
       "      <th>Microbe_Taxon</th>\n",
       "    </tr>\n",
       "  </thead>\n",
       "  <tbody>\n",
       "    <tr>\n",
       "      <th>0</th>\n",
       "      <td>2724385</td>\n",
       "      <td>84112</td>\n",
       "    </tr>\n",
       "    <tr>\n",
       "      <th>1</th>\n",
       "      <td>5282192</td>\n",
       "      <td>816</td>\n",
       "    </tr>\n",
       "    <tr>\n",
       "      <th>2</th>\n",
       "      <td>10303</td>\n",
       "      <td>2</td>\n",
       "    </tr>\n",
       "    <tr>\n",
       "      <th>3</th>\n",
       "      <td>5280961</td>\n",
       "      <td>820</td>\n",
       "    </tr>\n",
       "    <tr>\n",
       "      <th>4</th>\n",
       "      <td>5280961</td>\n",
       "      <td>39490</td>\n",
       "    </tr>\n",
       "    <tr>\n",
       "      <th>...</th>\n",
       "      <td>...</td>\n",
       "      <td>...</td>\n",
       "    </tr>\n",
       "    <tr>\n",
       "      <th>64</th>\n",
       "      <td>46488338</td>\n",
       "      <td>1598</td>\n",
       "    </tr>\n",
       "    <tr>\n",
       "      <th>65</th>\n",
       "      <td>5333</td>\n",
       "      <td>1239</td>\n",
       "    </tr>\n",
       "    <tr>\n",
       "      <th>66</th>\n",
       "      <td>26879</td>\n",
       "      <td>816</td>\n",
       "    </tr>\n",
       "    <tr>\n",
       "      <th>67</th>\n",
       "      <td>4173</td>\n",
       "      <td>1578</td>\n",
       "    </tr>\n",
       "    <tr>\n",
       "      <th>68</th>\n",
       "      <td>43805</td>\n",
       "      <td>239935</td>\n",
       "    </tr>\n",
       "  </tbody>\n",
       "</table>\n",
       "<p>69 rows × 2 columns</p>\n",
       "</div>"
      ],
      "text/plain": [
       "    Drug_CID  Microbe_Taxon\n",
       "0    2724385          84112\n",
       "1    5282192            816\n",
       "2      10303              2\n",
       "3    5280961            820\n",
       "4    5280961          39490\n",
       "..       ...            ...\n",
       "64  46488338           1598\n",
       "65      5333           1239\n",
       "66     26879            816\n",
       "67      4173           1578\n",
       "68     43805         239935\n",
       "\n",
       "[69 rows x 2 columns]"
      ]
     },
     "execution_count": 29,
     "metadata": {},
     "output_type": "execute_result"
    }
   ],
   "source": [
    "# Download Link: http://pharmacomicrobiomics.com/view/relation/\n",
    "# Download Date: 2024-11-15\n",
    "# Download Version: 2021-03-21\n",
    "import pandas as pd\n",
    "\n",
    "pm = pd.read_csv('PharmacoMicrobiomics.csv')\n",
    "pm"
   ]
  },
  {
   "cell_type": "markdown",
   "metadata": {},
   "source": [
    "### BioMedGraphica ID"
   ]
  },
  {
   "cell_type": "code",
   "execution_count": 12,
   "metadata": {},
   "outputs": [],
   "source": [
    "import pandas as pd\n",
    "import os\n",
    "from pathlib import Path\n",
    "\n",
    "current_working_dir = Path(os.getcwd()).resolve()\n",
    "grandparent_dir = current_working_dir.parent.parent.parent\n",
    "target_dir_microbiota = grandparent_dir / 'BioMedGraphica' / 'Entity' / 'Microbiota' / 'BioMedGraphica_Microbiota.csv'\n",
    "target_dir_drug_gui = grandparent_dir / 'BioMedGraphica' / 'Entity' / 'Drug' / 'BioMedGraphica_Drug_GUI_Name.csv'\n",
    "target_dir_drug = grandparent_dir / 'BioMedGraphica' / 'Entity' / 'Drug' / 'BioMedGraphica_Drug.csv'\n",
    "biomedgraphica_microbiota = pd.read_csv(target_dir_microbiota, dtype=str)\n",
    "biomedgraphica_drug_gui = pd.read_csv(target_dir_drug_gui, dtype=str)\n",
    "biomedgraphica_drug = pd.read_csv(target_dir_drug, dtype=str)"
   ]
  },
  {
   "cell_type": "markdown",
   "metadata": {},
   "source": [
    "### MDAD Mapping"
   ]
  },
  {
   "cell_type": "code",
   "execution_count": 24,
   "metadata": {},
   "outputs": [
    {
     "data": {
      "application/vnd.microsoft.datawrangler.viewer.v0+json": {
       "columns": [
        {
         "name": "index",
         "rawType": "int64",
         "type": "integer"
        },
        {
         "name": "Name",
         "rawType": "object",
         "type": "string"
        },
        {
         "name": "Molecular form",
         "rawType": "object",
         "type": "unknown"
        },
        {
         "name": "Microbe",
         "rawType": "object",
         "type": "string"
        },
        {
         "name": "Strain",
         "rawType": "object",
         "type": "string"
        },
        {
         "name": "Target",
         "rawType": "object",
         "type": "unknown"
        },
        {
         "name": "PubMed ID",
         "rawType": "object",
         "type": "string"
        },
        {
         "name": "From_ID",
         "rawType": "object",
         "type": "unknown"
        }
       ],
       "conversionMethod": "pd.DataFrame",
       "ref": "8f628888-ff23-408c-9e02-dfe81c3bb10e",
       "rows": [
        [
         "0",
         "(1-(4-chlorophenoxy)-3-[(4, 6-dimethyl-2-pyrimidinyl) thio]-2- propanol)",
         "C16H19ClN2O2",
         "Vibrio harveyi",
         "MTCC 3438",
         null,
         "27141809",
         null
        ],
        [
         "1",
         "(10R,11R)-Hydnocarpin",
         "C25H20O9",
         "Staphylococcus aureus",
         "8325-4",
         null,
         "26273725",
         null
        ],
        [
         "2",
         "(10R,11R)-Hydnocarpin D",
         "C25H20O9",
         "Staphylococcus aureus",
         "8325-4",
         null,
         "26273725",
         null
        ],
        [
         "3",
         "(10S,11S)-Hydnocarpin D",
         "C25H20O9",
         "Staphylococcus aureus",
         "8325-4",
         null,
         "26273725",
         null
        ],
        [
         "4",
         "(1E)-1-{[(1E)-prop-1-ene-1-sulfinyl]sulfanyl}prop-1-ene",
         "C6H10OS2",
         "Streptococcus mutans",
         "UA159",
         null,
         "25081571",
         null
        ],
        [
         "5",
         "(1R,2S,7R,3E,11E)-2,18-diacetoxycembra-3,8(19),11,15(17)-tetraen-7-ol",
         "C20H32O3",
         "Pseudomonas aeruginosa",
         "ATCC 27853",
         null,
         "22905751",
         null
        ],
        [
         "6",
         "(1R,2S,7R,3E,11E)-2,18-diacetoxycembra-3,8(19),11,15(17)-tetraen-7-ol",
         "C20H32O3",
         "Vibrio harveyi",
         "PHY-2A",
         null,
         "22905751",
         null
        ],
        [
         "7",
         "(1R,2S,7R,3E,8E,11E)-2,18-diacetoxycembra-3,8,11,15(17)-tetraen-7-ol",
         "C20H32O3",
         "Pseudomonas aeruginosa",
         "ATCC 27853",
         null,
         "22905751",
         null
        ],
        [
         "8",
         "(1R,2S,7R,3E,8E,11E)-2,18-diacetoxycembra-3,8,11,15(17)-tetraen-7-ol",
         "C20H32O3",
         "Staphylococcus aureus",
         "ATCC 25923",
         null,
         "22905751",
         null
        ],
        [
         "9",
         "(1R,2S,7R,3E,8E,11E)-2,18-diacetoxycembra-3,8,11,15(17)-tetraen-7-ol",
         "C20H32O3",
         "Vibrio harveyi",
         "PHY-2A",
         null,
         "22905751",
         null
        ],
        [
         "10",
         "(1R,2S,7R,8R)-2,18-diacetoxyasperdiol",
         "C20H34O2",
         "Pseudomonas aeruginosa",
         "ATCC 27853",
         null,
         "22905751",
         null
        ],
        [
         "11",
         "(1R,2S,7R,8R)-2,18-diacetoxyasperdiol",
         "C20H34O2",
         "Vibrio harveyi",
         "PHY-2A",
         null,
         "22905751",
         null
        ],
        [
         "12",
         "(1R,3S,7R,8S,11S,12R)-3-hydroxy-1,4,8-trimethyl-12-(propan-2-yl)tricyclo[9.3.0.0]tetradec-4-en-6-one",
         "C20H32O2",
         "Pseudomonas aeruginosa",
         "ATCC 27853",
         null,
         "21384863",
         null
        ],
        [
         "13",
         "(1R,4R,8S,11S,12R)-4-hydroxy-1,4,8-trimethyl-12-(propan-2-yl)tricyclo[9.3.0.0]tetradec-3(7)-en-6-one",
         "C20H32O2",
         "Pseudomonas aeruginosa",
         "ATCC 27853",
         null,
         "21384863",
         null
        ],
        [
         "14",
         "(1Z)-(2-phenylethylidene)-lambda4-sulfanyliumolate",
         "C8H8OS",
         "Actinomyces oris",
         "MG1",
         null,
         "25081571",
         null
        ],
        [
         "15",
         "(1Z)-(2-phenylethylidene)-lambda4-sulfanyliumolate",
         "C8H8OS",
         "Streptococcus sanguis",
         "10556",
         null,
         "25081571",
         null
        ],
        [
         "16",
         "(1Z)-(prop-2-en-1-ylidene)-lambda4-sulfanyliumolate",
         "C6H10OS2",
         "Actinomyces oris",
         "MG1",
         null,
         "25081571",
         null
        ],
        [
         "17",
         "(1Z)-(prop-2-en-1-ylidene)-lambda4-sulfanyliumolate",
         "C6H10OS2",
         "Streptococcus mutans",
         "UA159",
         null,
         "25081571",
         null
        ],
        [
         "18",
         "(1Z)-(prop-2-en-1-ylidene)-lambda4-sulfanyliumolate",
         "C6H10OS2",
         "Streptococcus sanguis",
         "10556",
         null,
         "25081571",
         null
        ],
        [
         "19",
         "(1Z)-ethylidene-lambda4-sulfanyliumolate",
         "C2H4OS",
         "Streptococcus mutans",
         "UA159",
         null,
         "25081571",
         null
        ],
        [
         "20",
         "(1Z)-ethylidene-lambda4-sulfanyliumolate",
         "C2H4OS",
         "Streptococcus sanguis",
         "10556",
         null,
         "25081571",
         null
        ],
        [
         "21",
         "(2-(4-chlorophenyl)- 4-{[(6-methyl-2-pyridinyl)amino]methylene}-1,3-oxazol- 5(4H)-one)",
         "C16H12ClN3O2",
         "Streptococcus mutans",
         "UA159",
         null,
         "26526453",
         null
        ],
        [
         "22",
         "(2-{[(2-phenylethyl)sulfanyl]sulfinyl}ethyl)benzene",
         "C16H18OS2",
         "Actinomyces oris",
         "MG1",
         null,
         "25081571",
         null
        ],
        [
         "23",
         "(2-{[(2-phenylethyl)sulfanyl]sulfinyl}ethyl)benzene",
         "C16H18OS2",
         "Streptococcus mutans",
         "UA159",
         null,
         "25081571",
         null
        ],
        [
         "24",
         "(2E)-1-(1 ,3 -benzodioxol-5-yl)-3-(2-naphthyl)-2-propen-1-one",
         "C20H14O3",
         "Enterococcus faecalis",
         "ATCC 19433",
         null,
         "24016798",
         null
        ],
        [
         "25",
         "(2E)-1-(1 ,3 -benzodioxol-5-yl)-3-(2-naphthyl)-2-propen-1-one",
         "C20H14O3",
         "Pseudomonas aeruginosa",
         "ATCC 25923",
         null,
         "24016798",
         null
        ],
        [
         "26",
         "(2E)-1-(1 ,3 -benzodioxol-5-yl)-3-(2-naphthyl)-2-propen-1-one",
         "C20H14O3",
         "Staphylococcus aureus",
         "ATCC 25923",
         null,
         "24016798",
         null
        ],
        [
         "27",
         "(2E)-1-(1 ,3 -benzodioxol-5-yl)-3-(2-naphthyl)-2-propen-1-one",
         "C20H14O3",
         "Staphylococcus epidermidis",
         "ATCC 35547",
         null,
         "24016798",
         null
        ],
        [
         "28",
         "(2E)-1-(1 ,3 -benzodioxol-5-yl)-3-(2-naphthyl)-2-propen-1-one",
         "C20H14O3",
         "Streptococcus mutans",
         "ATCC 25175",
         null,
         "24016798",
         null
        ],
        [
         "29",
         "(2E)-1-(1,3-benzodioxol-5-yl)-3-(2-chloro-quinolin-3-yl)-2-propen-1-one",
         "C19H12ClNO3",
         "Enterococcus faecalis",
         "ATCC 19433",
         null,
         "24016798",
         null
        ],
        [
         "30",
         "(2E)-1-(1,3-benzodioxol-5-yl)-3-(2-chloro-quinolin-3-yl)-2-propen-1-one",
         "C19H12ClNO3",
         "Pseudomonas aeruginosa",
         "ATCC 25923",
         null,
         "24016798",
         null
        ],
        [
         "31",
         "(2E)-1-(1,3-benzodioxol-5-yl)-3-(2-chloro-quinolin-3-yl)-2-propen-1-one",
         "C19H12ClNO3",
         "Staphylococcus aureus",
         "ATCC 25923",
         null,
         "24016798",
         null
        ],
        [
         "32",
         "(2E)-1-(1,3-benzodioxol-5-yl)-3-(2-chloro-quinolin-3-yl)-2-propen-1-one",
         "C19H12ClNO3",
         "Staphylococcus epidermidis",
         "ATCC 35547",
         null,
         "24016798",
         null
        ],
        [
         "33",
         "(2E)-1-(1,3-benzodioxol-5-yl)-3-(2-chloro-quinolin-3-yl)-2-propen-1-one",
         "C19H12ClNO3",
         "Streptococcus mutans",
         "ATCC 25175",
         null,
         "24016798",
         null
        ],
        [
         "34",
         "(2E)-1-(1,3-benzodioxol-5-yl)-3-[5-(2-nitro-phenyl)-furan-2-yl]-2-propen-1-one",
         "C20H13NO6",
         "Enterococcus faecalis",
         "ATCC 19433",
         null,
         "24016798",
         null
        ],
        [
         "35",
         "(2E)-1-(1,3-benzodioxol-5-yl)-3-[5-(2-nitro-phenyl)-furan-2-yl]-2-propen-1-one",
         "C20H13NO6",
         "Pseudomonas aeruginosa",
         "ATCC 25923",
         null,
         "24016798",
         null
        ],
        [
         "36",
         "(2E)-1-(1,3-benzodioxol-5-yl)-3-[5-(2-nitro-phenyl)-furan-2-yl]-2-propen-1-one",
         "C20H13NO6",
         "Staphylococcus aureus",
         "ATCC 25923",
         null,
         "24016798",
         null
        ],
        [
         "37",
         "(2E)-1-(1,3-benzodioxol-5-yl)-3-[5-(2-nitro-phenyl)-furan-2-yl]-2-propen-1-one",
         "C20H13NO6",
         "Staphylococcus epidermidis",
         "ATCC 35547",
         null,
         "24016798",
         null
        ],
        [
         "38",
         "(2E)-1-(1,3-benzodioxol-5-yl)-3-[5-(2-nitro-phenyl)-furan-2-yl]-2-propen-1-one",
         "C20H13NO6",
         "Streptococcus mutans",
         "ATCC 25175",
         null,
         "24016798",
         null
        ],
        [
         "39",
         "(2E)-1-(2 ,4 ,5 -trimethoxyphenyl)-3-(2-chloro-6-methoxy-quinolin-3-yl)-2-propen-1-one",
         "C22H20ClNO5",
         "Enterococcus faecalis",
         "ATCC 19433",
         null,
         "24016798",
         null
        ],
        [
         "40",
         "(2E)-1-(2 ,4 ,5 -trimethoxyphenyl)-3-(2-chloro-6-methoxy-quinolin-3-yl)-2-propen-1-one",
         "C22H20ClNO5",
         "Pseudomonas aeruginosa",
         "ATCC 25923",
         null,
         "24016798",
         null
        ],
        [
         "41",
         "(2E)-1-(2 ,4 ,5 -trimethoxyphenyl)-3-(2-chloro-6-methoxy-quinolin-3-yl)-2-propen-1-one",
         "C22H20ClNO5",
         "Staphylococcus aureus",
         "ATCC 25923",
         null,
         "24016798",
         null
        ],
        [
         "42",
         "(2E)-1-(2 ,4 ,5 -trimethoxyphenyl)-3-(2-chloro-6-methoxy-quinolin-3-yl)-2-propen-1-one",
         "C22H20ClNO5",
         "Staphylococcus epidermidis",
         "ATCC 35547",
         null,
         "24016798",
         null
        ],
        [
         "43",
         "(2E)-1-(2 ,4 ,5 -trimethoxyphenyl)-3-(2-chloro-6-methoxy-quinolin-3-yl)-2-propen-1-one",
         "C22H20ClNO5",
         "Streptococcus mutans",
         "ATCC 25175",
         null,
         "24016798",
         null
        ],
        [
         "44",
         "(2E)-1-(2 ,4 ,5 -trimethoxyphenyl)-3-(2-chloro-quinolin-3-yl)-2-propen-1-one",
         "C21H18ClNO4",
         "Enterococcus faecalis",
         "ATCC 19433",
         null,
         "24016798",
         null
        ],
        [
         "45",
         "(2E)-1-(2 ,4 ,5 -trimethoxyphenyl)-3-(2-chloro-quinolin-3-yl)-2-propen-1-one",
         "C21H18ClNO4",
         "Pseudomonas aeruginosa",
         "ATCC 25923",
         null,
         "24016798",
         null
        ],
        [
         "46",
         "(2E)-1-(2 ,4 ,5 -trimethoxyphenyl)-3-(2-chloro-quinolin-3-yl)-2-propen-1-one",
         "C21H18ClNO4",
         "Staphylococcus aureus",
         "ATCC 25923",
         null,
         "24016798",
         null
        ],
        [
         "47",
         "(2E)-1-(2 ,4 ,5 -trimethoxyphenyl)-3-(2-chloro-quinolin-3-yl)-2-propen-1-one",
         "C21H18ClNO4",
         "Staphylococcus epidermidis",
         "ATCC 35547",
         null,
         "24016798",
         null
        ],
        [
         "48",
         "(2E)-1-(2 ,4 ,5 -trimethoxyphenyl)-3-(2-chloro-quinolin-3-yl)-2-propen-1-one",
         "C21H18ClNO4",
         "Streptococcus mutans",
         "ATCC 25175",
         null,
         "24016798",
         null
        ],
        [
         "49",
         "(2E)-1-(2 ,4 ,5 -trimethoxyphenyl)-3-(2-naphthyl)-2-propen-1-one",
         "C22H20O4",
         "Enterococcus faecalis",
         "ATCC 19433",
         null,
         "24016798",
         null
        ]
       ],
       "shape": {
        "columns": 7,
        "rows": 5055
       }
      },
      "text/html": [
       "<div>\n",
       "<style scoped>\n",
       "    .dataframe tbody tr th:only-of-type {\n",
       "        vertical-align: middle;\n",
       "    }\n",
       "\n",
       "    .dataframe tbody tr th {\n",
       "        vertical-align: top;\n",
       "    }\n",
       "\n",
       "    .dataframe thead th {\n",
       "        text-align: right;\n",
       "    }\n",
       "</style>\n",
       "<table border=\"1\" class=\"dataframe\">\n",
       "  <thead>\n",
       "    <tr style=\"text-align: right;\">\n",
       "      <th></th>\n",
       "      <th>Name</th>\n",
       "      <th>Molecular form</th>\n",
       "      <th>Microbe</th>\n",
       "      <th>Strain</th>\n",
       "      <th>Target</th>\n",
       "      <th>PubMed ID</th>\n",
       "      <th>From_ID</th>\n",
       "    </tr>\n",
       "  </thead>\n",
       "  <tbody>\n",
       "    <tr>\n",
       "      <th>0</th>\n",
       "      <td>(1-(4-chlorophenoxy)-3-[(4, 6-dimethyl-2-pyrim...</td>\n",
       "      <td>C16H19ClN2O2</td>\n",
       "      <td>Vibrio harveyi</td>\n",
       "      <td>MTCC 3438</td>\n",
       "      <td>NaN</td>\n",
       "      <td>27141809</td>\n",
       "      <td>NaN</td>\n",
       "    </tr>\n",
       "    <tr>\n",
       "      <th>1</th>\n",
       "      <td>(10R,11R)-Hydnocarpin</td>\n",
       "      <td>C25H20O9</td>\n",
       "      <td>Staphylococcus aureus</td>\n",
       "      <td>8325-4</td>\n",
       "      <td>NaN</td>\n",
       "      <td>26273725</td>\n",
       "      <td>NaN</td>\n",
       "    </tr>\n",
       "    <tr>\n",
       "      <th>2</th>\n",
       "      <td>(10R,11R)-Hydnocarpin D</td>\n",
       "      <td>C25H20O9</td>\n",
       "      <td>Staphylococcus aureus</td>\n",
       "      <td>8325-4</td>\n",
       "      <td>NaN</td>\n",
       "      <td>26273725</td>\n",
       "      <td>NaN</td>\n",
       "    </tr>\n",
       "    <tr>\n",
       "      <th>3</th>\n",
       "      <td>(10S,11S)-Hydnocarpin D</td>\n",
       "      <td>C25H20O9</td>\n",
       "      <td>Staphylococcus aureus</td>\n",
       "      <td>8325-4</td>\n",
       "      <td>NaN</td>\n",
       "      <td>26273725</td>\n",
       "      <td>NaN</td>\n",
       "    </tr>\n",
       "    <tr>\n",
       "      <th>4</th>\n",
       "      <td>(1E)-1-{[(1E)-prop-1-ene-1-sulfinyl]sulfanyl}p...</td>\n",
       "      <td>C6H10OS2</td>\n",
       "      <td>Streptococcus mutans</td>\n",
       "      <td>UA159</td>\n",
       "      <td>NaN</td>\n",
       "      <td>25081571</td>\n",
       "      <td>NaN</td>\n",
       "    </tr>\n",
       "    <tr>\n",
       "      <th>...</th>\n",
       "      <td>...</td>\n",
       "      <td>...</td>\n",
       "      <td>...</td>\n",
       "      <td>...</td>\n",
       "      <td>...</td>\n",
       "      <td>...</td>\n",
       "      <td>...</td>\n",
       "    </tr>\n",
       "    <tr>\n",
       "      <th>5050</th>\n",
       "      <td>ZnO nanoparticles</td>\n",
       "      <td>ZnO</td>\n",
       "      <td>Pseudomonas aeruginosa</td>\n",
       "      <td>M10</td>\n",
       "      <td>NaN</td>\n",
       "      <td>26084709</td>\n",
       "      <td>NaN</td>\n",
       "    </tr>\n",
       "    <tr>\n",
       "      <th>5051</th>\n",
       "      <td>ZnO nanoparticles</td>\n",
       "      <td>ZnO</td>\n",
       "      <td>Pseudomonas aeruginosa</td>\n",
       "      <td>ID4365</td>\n",
       "      <td>NaN</td>\n",
       "      <td>26084709</td>\n",
       "      <td>NaN</td>\n",
       "    </tr>\n",
       "    <tr>\n",
       "      <th>5052</th>\n",
       "      <td>ZnO nanoparticles</td>\n",
       "      <td>ZnO</td>\n",
       "      <td>Pseudomonas aeruginosa</td>\n",
       "      <td>IGB83</td>\n",
       "      <td>NaN</td>\n",
       "      <td>26084709</td>\n",
       "      <td>NaN</td>\n",
       "    </tr>\n",
       "    <tr>\n",
       "      <th>5053</th>\n",
       "      <td>ZnO nanoparticles</td>\n",
       "      <td>ZnO</td>\n",
       "      <td>Pseudomonas aeruginosa</td>\n",
       "      <td>148</td>\n",
       "      <td>NaN</td>\n",
       "      <td>26084709</td>\n",
       "      <td>NaN</td>\n",
       "    </tr>\n",
       "    <tr>\n",
       "      <th>5054</th>\n",
       "      <td>Zotepine</td>\n",
       "      <td>C18H18ClNOS</td>\n",
       "      <td>Candida albicans</td>\n",
       "      <td>SC5314</td>\n",
       "      <td>NaN</td>\n",
       "      <td>23689719</td>\n",
       "      <td>BMG_DG168747</td>\n",
       "    </tr>\n",
       "  </tbody>\n",
       "</table>\n",
       "<p>5055 rows × 7 columns</p>\n",
       "</div>"
      ],
      "text/plain": [
       "                                                   Name Molecular form  \\\n",
       "0     (1-(4-chlorophenoxy)-3-[(4, 6-dimethyl-2-pyrim...   C16H19ClN2O2   \n",
       "1                                 (10R,11R)-Hydnocarpin       C25H20O9   \n",
       "2                               (10R,11R)-Hydnocarpin D       C25H20O9   \n",
       "3                               (10S,11S)-Hydnocarpin D       C25H20O9   \n",
       "4     (1E)-1-{[(1E)-prop-1-ene-1-sulfinyl]sulfanyl}p...       C6H10OS2   \n",
       "...                                                 ...            ...   \n",
       "5050                                  ZnO nanoparticles            ZnO   \n",
       "5051                                  ZnO nanoparticles            ZnO   \n",
       "5052                                  ZnO nanoparticles            ZnO   \n",
       "5053                                  ZnO nanoparticles            ZnO   \n",
       "5054                                           Zotepine    C18H18ClNOS   \n",
       "\n",
       "                     Microbe     Strain Target PubMed ID       From_ID  \n",
       "0             Vibrio harveyi  MTCC 3438    NaN  27141809           NaN  \n",
       "1      Staphylococcus aureus     8325-4    NaN  26273725           NaN  \n",
       "2      Staphylococcus aureus     8325-4    NaN  26273725           NaN  \n",
       "3      Staphylococcus aureus     8325-4    NaN  26273725           NaN  \n",
       "4       Streptococcus mutans      UA159    NaN  25081571           NaN  \n",
       "...                      ...        ...    ...       ...           ...  \n",
       "5050  Pseudomonas aeruginosa        M10    NaN  26084709           NaN  \n",
       "5051  Pseudomonas aeruginosa     ID4365    NaN  26084709           NaN  \n",
       "5052  Pseudomonas aeruginosa      IGB83    NaN  26084709           NaN  \n",
       "5053  Pseudomonas aeruginosa        148    NaN  26084709           NaN  \n",
       "5054        Candida albicans     SC5314    NaN  23689719  BMG_DG168747  \n",
       "\n",
       "[5055 rows x 7 columns]"
      ]
     },
     "execution_count": 24,
     "metadata": {},
     "output_type": "execute_result"
    }
   ],
   "source": [
    "import re\n",
    "\n",
    "drug_name_biomedgraphica = biomedgraphica_drug_gui[['BioMedGraphica_ID', 'Drug_Name_List']]\n",
    "drug_name_biomedgraphica.dropna(subset=['Drug_Name_List'], inplace=True)\n",
    "drug_name_biomedgraphica = drug_name_biomedgraphica.assign(Drug_Name_List=drug_name_biomedgraphica['Drug_Name_List'].str.split(r\" \\| \")).explode('Drug_Name_List')\n",
    "\n",
    "drug_name_to_individualID = drug_name_biomedgraphica.groupby('Drug_Name_List')['BioMedGraphica_ID'].apply(lambda x: ';'.join(x.dropna().unique())).to_dict()\n",
    "mdad['From_ID'] = mdad['Name'].map(drug_name_to_individualID)\n",
    "mdad"
   ]
  },
  {
   "cell_type": "code",
   "execution_count": 25,
   "metadata": {},
   "outputs": [
    {
     "name": "stderr",
     "output_type": "stream",
     "text": [
      "C:\\Users\\shunn\\AppData\\Local\\Temp\\ipykernel_39804\\802101191.py:2: SettingWithCopyWarning: \n",
      "A value is trying to be set on a copy of a slice from a DataFrame\n",
      "\n",
      "See the caveats in the documentation: https://pandas.pydata.org/pandas-docs/stable/user_guide/indexing.html#returning-a-view-versus-a-copy\n",
      "  microbiota_name_biomedgraphica.dropna(subset=['NCBI_Taxonomy_Name'], inplace=True)\n"
     ]
    },
    {
     "data": {
      "application/vnd.microsoft.datawrangler.viewer.v0+json": {
       "columns": [
        {
         "name": "index",
         "rawType": "int64",
         "type": "integer"
        },
        {
         "name": "Name",
         "rawType": "object",
         "type": "string"
        },
        {
         "name": "Molecular form",
         "rawType": "object",
         "type": "unknown"
        },
        {
         "name": "Microbe",
         "rawType": "object",
         "type": "string"
        },
        {
         "name": "Strain",
         "rawType": "object",
         "type": "string"
        },
        {
         "name": "Target",
         "rawType": "object",
         "type": "unknown"
        },
        {
         "name": "PubMed ID",
         "rawType": "object",
         "type": "string"
        },
        {
         "name": "From_ID",
         "rawType": "object",
         "type": "unknown"
        },
        {
         "name": "To_ID",
         "rawType": "object",
         "type": "unknown"
        }
       ],
       "conversionMethod": "pd.DataFrame",
       "ref": "953508f0-7bc2-4152-a4a2-358b9de947b4",
       "rows": [
        [
         "0",
         "(1-(4-chlorophenoxy)-3-[(4, 6-dimethyl-2-pyrimidinyl) thio]-2- propanol)",
         "C16H19ClN2O2",
         "Vibrio harveyi",
         "MTCC 3438",
         null,
         "27141809",
         null,
         "BMG_MC559474"
        ],
        [
         "1",
         "(10R,11R)-Hydnocarpin",
         "C25H20O9",
         "Staphylococcus aureus",
         "8325-4",
         null,
         "26273725",
         null,
         "BMG_MC088814"
        ],
        [
         "2",
         "(10R,11R)-Hydnocarpin D",
         "C25H20O9",
         "Staphylococcus aureus",
         "8325-4",
         null,
         "26273725",
         null,
         "BMG_MC088814"
        ],
        [
         "3",
         "(10S,11S)-Hydnocarpin D",
         "C25H20O9",
         "Staphylococcus aureus",
         "8325-4",
         null,
         "26273725",
         null,
         "BMG_MC088814"
        ],
        [
         "4",
         "(1E)-1-{[(1E)-prop-1-ene-1-sulfinyl]sulfanyl}prop-1-ene",
         "C6H10OS2",
         "Streptococcus mutans",
         "UA159",
         null,
         "25081571",
         null,
         "BMG_MC100324"
        ],
        [
         "5",
         "(1R,2S,7R,3E,11E)-2,18-diacetoxycembra-3,8(19),11,15(17)-tetraen-7-ol",
         "C20H32O3",
         "Pseudomonas aeruginosa",
         "ATCC 27853",
         null,
         "22905751",
         null,
         "BMG_MC392238"
        ],
        [
         "6",
         "(1R,2S,7R,3E,11E)-2,18-diacetoxycembra-3,8(19),11,15(17)-tetraen-7-ol",
         "C20H32O3",
         "Vibrio harveyi",
         "PHY-2A",
         null,
         "22905751",
         null,
         "BMG_MC559474"
        ],
        [
         "7",
         "(1R,2S,7R,3E,8E,11E)-2,18-diacetoxycembra-3,8,11,15(17)-tetraen-7-ol",
         "C20H32O3",
         "Pseudomonas aeruginosa",
         "ATCC 27853",
         null,
         "22905751",
         null,
         "BMG_MC392238"
        ],
        [
         "8",
         "(1R,2S,7R,3E,8E,11E)-2,18-diacetoxycembra-3,8,11,15(17)-tetraen-7-ol",
         "C20H32O3",
         "Staphylococcus aureus",
         "ATCC 25923",
         null,
         "22905751",
         null,
         "BMG_MC088814"
        ],
        [
         "9",
         "(1R,2S,7R,3E,8E,11E)-2,18-diacetoxycembra-3,8,11,15(17)-tetraen-7-ol",
         "C20H32O3",
         "Vibrio harveyi",
         "PHY-2A",
         null,
         "22905751",
         null,
         "BMG_MC559474"
        ],
        [
         "10",
         "(1R,2S,7R,8R)-2,18-diacetoxyasperdiol",
         "C20H34O2",
         "Pseudomonas aeruginosa",
         "ATCC 27853",
         null,
         "22905751",
         null,
         "BMG_MC392238"
        ],
        [
         "11",
         "(1R,2S,7R,8R)-2,18-diacetoxyasperdiol",
         "C20H34O2",
         "Vibrio harveyi",
         "PHY-2A",
         null,
         "22905751",
         null,
         "BMG_MC559474"
        ],
        [
         "12",
         "(1R,3S,7R,8S,11S,12R)-3-hydroxy-1,4,8-trimethyl-12-(propan-2-yl)tricyclo[9.3.0.0]tetradec-4-en-6-one",
         "C20H32O2",
         "Pseudomonas aeruginosa",
         "ATCC 27853",
         null,
         "21384863",
         null,
         "BMG_MC392238"
        ],
        [
         "13",
         "(1R,4R,8S,11S,12R)-4-hydroxy-1,4,8-trimethyl-12-(propan-2-yl)tricyclo[9.3.0.0]tetradec-3(7)-en-6-one",
         "C20H32O2",
         "Pseudomonas aeruginosa",
         "ATCC 27853",
         null,
         "21384863",
         null,
         "BMG_MC392238"
        ],
        [
         "14",
         "(1Z)-(2-phenylethylidene)-lambda4-sulfanyliumolate",
         "C8H8OS",
         "Actinomyces oris",
         "MG1",
         null,
         "25081571",
         null,
         "BMG_MC526269"
        ],
        [
         "15",
         "(1Z)-(2-phenylethylidene)-lambda4-sulfanyliumolate",
         "C8H8OS",
         "Streptococcus sanguis",
         "10556",
         null,
         "25081571",
         null,
         null
        ],
        [
         "16",
         "(1Z)-(prop-2-en-1-ylidene)-lambda4-sulfanyliumolate",
         "C6H10OS2",
         "Actinomyces oris",
         "MG1",
         null,
         "25081571",
         null,
         "BMG_MC526269"
        ],
        [
         "17",
         "(1Z)-(prop-2-en-1-ylidene)-lambda4-sulfanyliumolate",
         "C6H10OS2",
         "Streptococcus mutans",
         "UA159",
         null,
         "25081571",
         null,
         "BMG_MC100324"
        ],
        [
         "18",
         "(1Z)-(prop-2-en-1-ylidene)-lambda4-sulfanyliumolate",
         "C6H10OS2",
         "Streptococcus sanguis",
         "10556",
         null,
         "25081571",
         null,
         null
        ],
        [
         "19",
         "(1Z)-ethylidene-lambda4-sulfanyliumolate",
         "C2H4OS",
         "Streptococcus mutans",
         "UA159",
         null,
         "25081571",
         null,
         "BMG_MC100324"
        ],
        [
         "20",
         "(1Z)-ethylidene-lambda4-sulfanyliumolate",
         "C2H4OS",
         "Streptococcus sanguis",
         "10556",
         null,
         "25081571",
         null,
         null
        ],
        [
         "21",
         "(2-(4-chlorophenyl)- 4-{[(6-methyl-2-pyridinyl)amino]methylene}-1,3-oxazol- 5(4H)-one)",
         "C16H12ClN3O2",
         "Streptococcus mutans",
         "UA159",
         null,
         "26526453",
         null,
         "BMG_MC100324"
        ],
        [
         "22",
         "(2-{[(2-phenylethyl)sulfanyl]sulfinyl}ethyl)benzene",
         "C16H18OS2",
         "Actinomyces oris",
         "MG1",
         null,
         "25081571",
         null,
         "BMG_MC526269"
        ],
        [
         "23",
         "(2-{[(2-phenylethyl)sulfanyl]sulfinyl}ethyl)benzene",
         "C16H18OS2",
         "Streptococcus mutans",
         "UA159",
         null,
         "25081571",
         null,
         "BMG_MC100324"
        ],
        [
         "24",
         "(2E)-1-(1 ,3 -benzodioxol-5-yl)-3-(2-naphthyl)-2-propen-1-one",
         "C20H14O3",
         "Enterococcus faecalis",
         "ATCC 19433",
         null,
         "24016798",
         null,
         "BMG_MC116948"
        ],
        [
         "25",
         "(2E)-1-(1 ,3 -benzodioxol-5-yl)-3-(2-naphthyl)-2-propen-1-one",
         "C20H14O3",
         "Pseudomonas aeruginosa",
         "ATCC 25923",
         null,
         "24016798",
         null,
         "BMG_MC392238"
        ],
        [
         "26",
         "(2E)-1-(1 ,3 -benzodioxol-5-yl)-3-(2-naphthyl)-2-propen-1-one",
         "C20H14O3",
         "Staphylococcus aureus",
         "ATCC 25923",
         null,
         "24016798",
         null,
         "BMG_MC088814"
        ],
        [
         "27",
         "(2E)-1-(1 ,3 -benzodioxol-5-yl)-3-(2-naphthyl)-2-propen-1-one",
         "C20H14O3",
         "Staphylococcus epidermidis",
         "ATCC 35547",
         null,
         "24016798",
         null,
         "BMG_MC089655"
        ],
        [
         "28",
         "(2E)-1-(1 ,3 -benzodioxol-5-yl)-3-(2-naphthyl)-2-propen-1-one",
         "C20H14O3",
         "Streptococcus mutans",
         "ATCC 25175",
         null,
         "24016798",
         null,
         "BMG_MC100324"
        ],
        [
         "29",
         "(2E)-1-(1,3-benzodioxol-5-yl)-3-(2-chloro-quinolin-3-yl)-2-propen-1-one",
         "C19H12ClNO3",
         "Enterococcus faecalis",
         "ATCC 19433",
         null,
         "24016798",
         null,
         "BMG_MC116948"
        ],
        [
         "30",
         "(2E)-1-(1,3-benzodioxol-5-yl)-3-(2-chloro-quinolin-3-yl)-2-propen-1-one",
         "C19H12ClNO3",
         "Pseudomonas aeruginosa",
         "ATCC 25923",
         null,
         "24016798",
         null,
         "BMG_MC392238"
        ],
        [
         "31",
         "(2E)-1-(1,3-benzodioxol-5-yl)-3-(2-chloro-quinolin-3-yl)-2-propen-1-one",
         "C19H12ClNO3",
         "Staphylococcus aureus",
         "ATCC 25923",
         null,
         "24016798",
         null,
         "BMG_MC088814"
        ],
        [
         "32",
         "(2E)-1-(1,3-benzodioxol-5-yl)-3-(2-chloro-quinolin-3-yl)-2-propen-1-one",
         "C19H12ClNO3",
         "Staphylococcus epidermidis",
         "ATCC 35547",
         null,
         "24016798",
         null,
         "BMG_MC089655"
        ],
        [
         "33",
         "(2E)-1-(1,3-benzodioxol-5-yl)-3-(2-chloro-quinolin-3-yl)-2-propen-1-one",
         "C19H12ClNO3",
         "Streptococcus mutans",
         "ATCC 25175",
         null,
         "24016798",
         null,
         "BMG_MC100324"
        ],
        [
         "34",
         "(2E)-1-(1,3-benzodioxol-5-yl)-3-[5-(2-nitro-phenyl)-furan-2-yl]-2-propen-1-one",
         "C20H13NO6",
         "Enterococcus faecalis",
         "ATCC 19433",
         null,
         "24016798",
         null,
         "BMG_MC116948"
        ],
        [
         "35",
         "(2E)-1-(1,3-benzodioxol-5-yl)-3-[5-(2-nitro-phenyl)-furan-2-yl]-2-propen-1-one",
         "C20H13NO6",
         "Pseudomonas aeruginosa",
         "ATCC 25923",
         null,
         "24016798",
         null,
         "BMG_MC392238"
        ],
        [
         "36",
         "(2E)-1-(1,3-benzodioxol-5-yl)-3-[5-(2-nitro-phenyl)-furan-2-yl]-2-propen-1-one",
         "C20H13NO6",
         "Staphylococcus aureus",
         "ATCC 25923",
         null,
         "24016798",
         null,
         "BMG_MC088814"
        ],
        [
         "37",
         "(2E)-1-(1,3-benzodioxol-5-yl)-3-[5-(2-nitro-phenyl)-furan-2-yl]-2-propen-1-one",
         "C20H13NO6",
         "Staphylococcus epidermidis",
         "ATCC 35547",
         null,
         "24016798",
         null,
         "BMG_MC089655"
        ],
        [
         "38",
         "(2E)-1-(1,3-benzodioxol-5-yl)-3-[5-(2-nitro-phenyl)-furan-2-yl]-2-propen-1-one",
         "C20H13NO6",
         "Streptococcus mutans",
         "ATCC 25175",
         null,
         "24016798",
         null,
         "BMG_MC100324"
        ],
        [
         "39",
         "(2E)-1-(2 ,4 ,5 -trimethoxyphenyl)-3-(2-chloro-6-methoxy-quinolin-3-yl)-2-propen-1-one",
         "C22H20ClNO5",
         "Enterococcus faecalis",
         "ATCC 19433",
         null,
         "24016798",
         null,
         "BMG_MC116948"
        ],
        [
         "40",
         "(2E)-1-(2 ,4 ,5 -trimethoxyphenyl)-3-(2-chloro-6-methoxy-quinolin-3-yl)-2-propen-1-one",
         "C22H20ClNO5",
         "Pseudomonas aeruginosa",
         "ATCC 25923",
         null,
         "24016798",
         null,
         "BMG_MC392238"
        ],
        [
         "41",
         "(2E)-1-(2 ,4 ,5 -trimethoxyphenyl)-3-(2-chloro-6-methoxy-quinolin-3-yl)-2-propen-1-one",
         "C22H20ClNO5",
         "Staphylococcus aureus",
         "ATCC 25923",
         null,
         "24016798",
         null,
         "BMG_MC088814"
        ],
        [
         "42",
         "(2E)-1-(2 ,4 ,5 -trimethoxyphenyl)-3-(2-chloro-6-methoxy-quinolin-3-yl)-2-propen-1-one",
         "C22H20ClNO5",
         "Staphylococcus epidermidis",
         "ATCC 35547",
         null,
         "24016798",
         null,
         "BMG_MC089655"
        ],
        [
         "43",
         "(2E)-1-(2 ,4 ,5 -trimethoxyphenyl)-3-(2-chloro-6-methoxy-quinolin-3-yl)-2-propen-1-one",
         "C22H20ClNO5",
         "Streptococcus mutans",
         "ATCC 25175",
         null,
         "24016798",
         null,
         "BMG_MC100324"
        ],
        [
         "44",
         "(2E)-1-(2 ,4 ,5 -trimethoxyphenyl)-3-(2-chloro-quinolin-3-yl)-2-propen-1-one",
         "C21H18ClNO4",
         "Enterococcus faecalis",
         "ATCC 19433",
         null,
         "24016798",
         null,
         "BMG_MC116948"
        ],
        [
         "45",
         "(2E)-1-(2 ,4 ,5 -trimethoxyphenyl)-3-(2-chloro-quinolin-3-yl)-2-propen-1-one",
         "C21H18ClNO4",
         "Pseudomonas aeruginosa",
         "ATCC 25923",
         null,
         "24016798",
         null,
         "BMG_MC392238"
        ],
        [
         "46",
         "(2E)-1-(2 ,4 ,5 -trimethoxyphenyl)-3-(2-chloro-quinolin-3-yl)-2-propen-1-one",
         "C21H18ClNO4",
         "Staphylococcus aureus",
         "ATCC 25923",
         null,
         "24016798",
         null,
         "BMG_MC088814"
        ],
        [
         "47",
         "(2E)-1-(2 ,4 ,5 -trimethoxyphenyl)-3-(2-chloro-quinolin-3-yl)-2-propen-1-one",
         "C21H18ClNO4",
         "Staphylococcus epidermidis",
         "ATCC 35547",
         null,
         "24016798",
         null,
         "BMG_MC089655"
        ],
        [
         "48",
         "(2E)-1-(2 ,4 ,5 -trimethoxyphenyl)-3-(2-chloro-quinolin-3-yl)-2-propen-1-one",
         "C21H18ClNO4",
         "Streptococcus mutans",
         "ATCC 25175",
         null,
         "24016798",
         null,
         "BMG_MC100324"
        ],
        [
         "49",
         "(2E)-1-(2 ,4 ,5 -trimethoxyphenyl)-3-(2-naphthyl)-2-propen-1-one",
         "C22H20O4",
         "Enterococcus faecalis",
         "ATCC 19433",
         null,
         "24016798",
         null,
         "BMG_MC116948"
        ]
       ],
       "shape": {
        "columns": 8,
        "rows": 5055
       }
      },
      "text/html": [
       "<div>\n",
       "<style scoped>\n",
       "    .dataframe tbody tr th:only-of-type {\n",
       "        vertical-align: middle;\n",
       "    }\n",
       "\n",
       "    .dataframe tbody tr th {\n",
       "        vertical-align: top;\n",
       "    }\n",
       "\n",
       "    .dataframe thead th {\n",
       "        text-align: right;\n",
       "    }\n",
       "</style>\n",
       "<table border=\"1\" class=\"dataframe\">\n",
       "  <thead>\n",
       "    <tr style=\"text-align: right;\">\n",
       "      <th></th>\n",
       "      <th>Name</th>\n",
       "      <th>Molecular form</th>\n",
       "      <th>Microbe</th>\n",
       "      <th>Strain</th>\n",
       "      <th>Target</th>\n",
       "      <th>PubMed ID</th>\n",
       "      <th>From_ID</th>\n",
       "      <th>To_ID</th>\n",
       "    </tr>\n",
       "  </thead>\n",
       "  <tbody>\n",
       "    <tr>\n",
       "      <th>0</th>\n",
       "      <td>(1-(4-chlorophenoxy)-3-[(4, 6-dimethyl-2-pyrim...</td>\n",
       "      <td>C16H19ClN2O2</td>\n",
       "      <td>Vibrio harveyi</td>\n",
       "      <td>MTCC 3438</td>\n",
       "      <td>NaN</td>\n",
       "      <td>27141809</td>\n",
       "      <td>NaN</td>\n",
       "      <td>BMG_MC559474</td>\n",
       "    </tr>\n",
       "    <tr>\n",
       "      <th>1</th>\n",
       "      <td>(10R,11R)-Hydnocarpin</td>\n",
       "      <td>C25H20O9</td>\n",
       "      <td>Staphylococcus aureus</td>\n",
       "      <td>8325-4</td>\n",
       "      <td>NaN</td>\n",
       "      <td>26273725</td>\n",
       "      <td>NaN</td>\n",
       "      <td>BMG_MC088814</td>\n",
       "    </tr>\n",
       "    <tr>\n",
       "      <th>2</th>\n",
       "      <td>(10R,11R)-Hydnocarpin D</td>\n",
       "      <td>C25H20O9</td>\n",
       "      <td>Staphylococcus aureus</td>\n",
       "      <td>8325-4</td>\n",
       "      <td>NaN</td>\n",
       "      <td>26273725</td>\n",
       "      <td>NaN</td>\n",
       "      <td>BMG_MC088814</td>\n",
       "    </tr>\n",
       "    <tr>\n",
       "      <th>3</th>\n",
       "      <td>(10S,11S)-Hydnocarpin D</td>\n",
       "      <td>C25H20O9</td>\n",
       "      <td>Staphylococcus aureus</td>\n",
       "      <td>8325-4</td>\n",
       "      <td>NaN</td>\n",
       "      <td>26273725</td>\n",
       "      <td>NaN</td>\n",
       "      <td>BMG_MC088814</td>\n",
       "    </tr>\n",
       "    <tr>\n",
       "      <th>4</th>\n",
       "      <td>(1E)-1-{[(1E)-prop-1-ene-1-sulfinyl]sulfanyl}p...</td>\n",
       "      <td>C6H10OS2</td>\n",
       "      <td>Streptococcus mutans</td>\n",
       "      <td>UA159</td>\n",
       "      <td>NaN</td>\n",
       "      <td>25081571</td>\n",
       "      <td>NaN</td>\n",
       "      <td>BMG_MC100324</td>\n",
       "    </tr>\n",
       "    <tr>\n",
       "      <th>...</th>\n",
       "      <td>...</td>\n",
       "      <td>...</td>\n",
       "      <td>...</td>\n",
       "      <td>...</td>\n",
       "      <td>...</td>\n",
       "      <td>...</td>\n",
       "      <td>...</td>\n",
       "      <td>...</td>\n",
       "    </tr>\n",
       "    <tr>\n",
       "      <th>5050</th>\n",
       "      <td>ZnO nanoparticles</td>\n",
       "      <td>ZnO</td>\n",
       "      <td>Pseudomonas aeruginosa</td>\n",
       "      <td>M10</td>\n",
       "      <td>NaN</td>\n",
       "      <td>26084709</td>\n",
       "      <td>NaN</td>\n",
       "      <td>BMG_MC392238</td>\n",
       "    </tr>\n",
       "    <tr>\n",
       "      <th>5051</th>\n",
       "      <td>ZnO nanoparticles</td>\n",
       "      <td>ZnO</td>\n",
       "      <td>Pseudomonas aeruginosa</td>\n",
       "      <td>ID4365</td>\n",
       "      <td>NaN</td>\n",
       "      <td>26084709</td>\n",
       "      <td>NaN</td>\n",
       "      <td>BMG_MC392238</td>\n",
       "    </tr>\n",
       "    <tr>\n",
       "      <th>5052</th>\n",
       "      <td>ZnO nanoparticles</td>\n",
       "      <td>ZnO</td>\n",
       "      <td>Pseudomonas aeruginosa</td>\n",
       "      <td>IGB83</td>\n",
       "      <td>NaN</td>\n",
       "      <td>26084709</td>\n",
       "      <td>NaN</td>\n",
       "      <td>BMG_MC392238</td>\n",
       "    </tr>\n",
       "    <tr>\n",
       "      <th>5053</th>\n",
       "      <td>ZnO nanoparticles</td>\n",
       "      <td>ZnO</td>\n",
       "      <td>Pseudomonas aeruginosa</td>\n",
       "      <td>148</td>\n",
       "      <td>NaN</td>\n",
       "      <td>26084709</td>\n",
       "      <td>NaN</td>\n",
       "      <td>BMG_MC392238</td>\n",
       "    </tr>\n",
       "    <tr>\n",
       "      <th>5054</th>\n",
       "      <td>Zotepine</td>\n",
       "      <td>C18H18ClNOS</td>\n",
       "      <td>Candida albicans</td>\n",
       "      <td>SC5314</td>\n",
       "      <td>NaN</td>\n",
       "      <td>23689719</td>\n",
       "      <td>BMG_DG168747</td>\n",
       "      <td>BMG_MC527357</td>\n",
       "    </tr>\n",
       "  </tbody>\n",
       "</table>\n",
       "<p>5055 rows × 8 columns</p>\n",
       "</div>"
      ],
      "text/plain": [
       "                                                   Name Molecular form  \\\n",
       "0     (1-(4-chlorophenoxy)-3-[(4, 6-dimethyl-2-pyrim...   C16H19ClN2O2   \n",
       "1                                 (10R,11R)-Hydnocarpin       C25H20O9   \n",
       "2                               (10R,11R)-Hydnocarpin D       C25H20O9   \n",
       "3                               (10S,11S)-Hydnocarpin D       C25H20O9   \n",
       "4     (1E)-1-{[(1E)-prop-1-ene-1-sulfinyl]sulfanyl}p...       C6H10OS2   \n",
       "...                                                 ...            ...   \n",
       "5050                                  ZnO nanoparticles            ZnO   \n",
       "5051                                  ZnO nanoparticles            ZnO   \n",
       "5052                                  ZnO nanoparticles            ZnO   \n",
       "5053                                  ZnO nanoparticles            ZnO   \n",
       "5054                                           Zotepine    C18H18ClNOS   \n",
       "\n",
       "                     Microbe     Strain Target PubMed ID       From_ID  \\\n",
       "0             Vibrio harveyi  MTCC 3438    NaN  27141809           NaN   \n",
       "1      Staphylococcus aureus     8325-4    NaN  26273725           NaN   \n",
       "2      Staphylococcus aureus     8325-4    NaN  26273725           NaN   \n",
       "3      Staphylococcus aureus     8325-4    NaN  26273725           NaN   \n",
       "4       Streptococcus mutans      UA159    NaN  25081571           NaN   \n",
       "...                      ...        ...    ...       ...           ...   \n",
       "5050  Pseudomonas aeruginosa        M10    NaN  26084709           NaN   \n",
       "5051  Pseudomonas aeruginosa     ID4365    NaN  26084709           NaN   \n",
       "5052  Pseudomonas aeruginosa      IGB83    NaN  26084709           NaN   \n",
       "5053  Pseudomonas aeruginosa        148    NaN  26084709           NaN   \n",
       "5054        Candida albicans     SC5314    NaN  23689719  BMG_DG168747   \n",
       "\n",
       "             To_ID  \n",
       "0     BMG_MC559474  \n",
       "1     BMG_MC088814  \n",
       "2     BMG_MC088814  \n",
       "3     BMG_MC088814  \n",
       "4     BMG_MC100324  \n",
       "...            ...  \n",
       "5050  BMG_MC392238  \n",
       "5051  BMG_MC392238  \n",
       "5052  BMG_MC392238  \n",
       "5053  BMG_MC392238  \n",
       "5054  BMG_MC527357  \n",
       "\n",
       "[5055 rows x 8 columns]"
      ]
     },
     "execution_count": 25,
     "metadata": {},
     "output_type": "execute_result"
    }
   ],
   "source": [
    "microbiota_name_biomedgraphica = biomedgraphica_microbiota[['BioMedGraphica_ID', 'NCBI_Taxonomy_Name']]\n",
    "microbiota_name_biomedgraphica.dropna(subset=['NCBI_Taxonomy_Name'], inplace=True)\n",
    "microbiota_name_biomedgraphica = microbiota_name_biomedgraphica.assign(NCBI_Taxonomy_Name=microbiota_name_biomedgraphica['NCBI_Taxonomy_Name'].str.split(';')).explode('NCBI_Taxonomy_Name')\n",
    "microbiota_name_biomedgraphica['NCBI_Taxonomy_Name'] = microbiota_name_biomedgraphica['NCBI_Taxonomy_Name'].str.lower()\n",
    "\n",
    "microbiota_name_to_individualID = microbiota_name_biomedgraphica.groupby('NCBI_Taxonomy_Name')['BioMedGraphica_ID'].apply(lambda x: ';'.join(x.dropna().unique())).to_dict()\n",
    "mdad['To_ID'] = mdad['Microbe'].str.lower().map(microbiota_name_to_individualID)\n",
    "mdad"
   ]
  },
  {
   "cell_type": "code",
   "execution_count": 26,
   "metadata": {},
   "outputs": [
    {
     "name": "stderr",
     "output_type": "stream",
     "text": [
      "C:\\Users\\shunn\\AppData\\Local\\Temp\\ipykernel_39804\\1383914681.py:2: SettingWithCopyWarning: \n",
      "A value is trying to be set on a copy of a slice from a DataFrame\n",
      "\n",
      "See the caveats in the documentation: https://pandas.pydata.org/pandas-docs/stable/user_guide/indexing.html#returning-a-view-versus-a-copy\n",
      "  mdad.dropna(subset=['From_ID'], inplace=True)\n",
      "C:\\Users\\shunn\\AppData\\Local\\Temp\\ipykernel_39804\\1383914681.py:3: SettingWithCopyWarning: \n",
      "A value is trying to be set on a copy of a slice from a DataFrame\n",
      "\n",
      "See the caveats in the documentation: https://pandas.pydata.org/pandas-docs/stable/user_guide/indexing.html#returning-a-view-versus-a-copy\n",
      "  mdad.dropna(subset=['To_ID'], inplace=True)\n"
     ]
    },
    {
     "data": {
      "application/vnd.microsoft.datawrangler.viewer.v0+json": {
       "columns": [
        {
         "name": "index",
         "rawType": "int64",
         "type": "integer"
        },
        {
         "name": "From_ID",
         "rawType": "object",
         "type": "string"
        },
        {
         "name": "To_ID",
         "rawType": "object",
         "type": "string"
        }
       ],
       "conversionMethod": "pd.DataFrame",
       "ref": "f3d68c20-1f6d-453c-a47f-64e0212fa535",
       "rows": [
        [
         "493",
         "BMG_DG112273",
         "BMG_MC088814"
        ],
        [
         "559",
         "BMG_DG163217",
         "BMG_MC577286"
        ],
        [
         "560",
         "BMG_DG163217",
         "BMG_MC577286"
        ],
        [
         "561",
         "BMG_DG163217",
         "BMG_MC577286"
        ],
        [
         "562",
         "BMG_DG110067",
         "BMG_MC532241"
        ],
        [
         "789",
         "BMG_DG130758;BMG_DG212377",
         "BMG_MC088814"
        ],
        [
         "790",
         "BMG_DG130758;BMG_DG212377",
         "BMG_MC088814"
        ],
        [
         "898",
         "BMG_DG198750",
         "BMG_MC392238"
        ],
        [
         "905",
         "BMG_DG198799",
         "BMG_MC392238"
        ],
        [
         "914",
         "BMG_DG185802",
         "BMG_MC532241"
        ],
        [
         "926",
         "BMG_DG154073",
         "BMG_MC577286"
        ],
        [
         "927",
         "BMG_DG154073",
         "BMG_MC577286"
        ],
        [
         "928",
         "BMG_DG154073",
         "BMG_MC577286"
        ],
        [
         "1049",
         "BMG_DG205423",
         "BMG_MC392238"
        ],
        [
         "1082",
         "BMG_DG113590",
         "BMG_MC539659"
        ],
        [
         "1105",
         "BMG_DG163750;BMG_DG267430",
         "BMG_MC392238"
        ],
        [
         "1106",
         "BMG_DG163750;BMG_DG267430",
         "BMG_MC392238"
        ],
        [
         "1107",
         "BMG_DG115166",
         "BMG_MC572052"
        ],
        [
         "1109",
         "BMG_DG177124",
         "BMG_MC527357"
        ],
        [
         "1110",
         "BMG_DG177124",
         "BMG_MC392238"
        ],
        [
         "1111",
         "BMG_DG177124",
         "BMG_MC539659"
        ],
        [
         "1112",
         "BMG_DG177124",
         "BMG_MC539659"
        ],
        [
         "1113",
         "BMG_DG177124",
         "BMG_MC539659"
        ],
        [
         "1124",
         "BMG_DG265294",
         "BMG_MC135176"
        ],
        [
         "1125",
         "BMG_DG265294",
         "BMG_MC532241"
        ],
        [
         "1127",
         "BMG_DG265294",
         "BMG_MC527357"
        ],
        [
         "1156",
         "BMG_DG139567",
         "BMG_MC532241"
        ],
        [
         "1157",
         "BMG_DG139567",
         "BMG_MC532241"
        ],
        [
         "1158",
         "BMG_DG139567",
         "BMG_MC532241"
        ],
        [
         "1159",
         "BMG_DG139567",
         "BMG_MC539212"
        ],
        [
         "1160",
         "BMG_DG139567",
         "BMG_MC539804"
        ],
        [
         "1161",
         "BMG_DG139567",
         "BMG_MC540566"
        ],
        [
         "1162",
         "BMG_DG139567",
         "BMG_MC540566"
        ],
        [
         "1164",
         "BMG_DG139567",
         "BMG_MC532241"
        ],
        [
         "1167",
         "BMG_DG139567",
         "BMG_MC532241"
        ],
        [
         "1178",
         "BMG_DG116858",
         "BMG_MC146882"
        ],
        [
         "1185",
         "BMG_DG137589",
         "BMG_MC146882"
        ],
        [
         "1186",
         "BMG_DG137589",
         "BMG_MC219823"
        ],
        [
         "1187",
         "BMG_DG137589",
         "BMG_MC219823"
        ],
        [
         "1188",
         "BMG_DG137589",
         "BMG_MC219823"
        ],
        [
         "1189",
         "BMG_DG137589",
         "BMG_MC219823"
        ],
        [
         "1190",
         "BMG_DG153535",
         "BMG_MC527357"
        ],
        [
         "1191",
         "BMG_DG153535",
         "BMG_MC527357"
        ],
        [
         "1192",
         "BMG_DG153535",
         "BMG_MC527357"
        ],
        [
         "1193",
         "BMG_DG153535",
         "BMG_MC527357"
        ],
        [
         "1194",
         "BMG_DG153535",
         "BMG_MC527357"
        ],
        [
         "1195",
         "BMG_DG153535",
         "BMG_MC527357"
        ],
        [
         "1196",
         "BMG_DG172766",
         "BMG_MC102106"
        ],
        [
         "1197",
         "BMG_DG172766",
         "BMG_MC102106"
        ],
        [
         "1198",
         "BMG_DG172766",
         "BMG_MC102106"
        ]
       ],
       "shape": {
        "columns": 2,
        "rows": 2078
       }
      },
      "text/html": [
       "<div>\n",
       "<style scoped>\n",
       "    .dataframe tbody tr th:only-of-type {\n",
       "        vertical-align: middle;\n",
       "    }\n",
       "\n",
       "    .dataframe tbody tr th {\n",
       "        vertical-align: top;\n",
       "    }\n",
       "\n",
       "    .dataframe thead th {\n",
       "        text-align: right;\n",
       "    }\n",
       "</style>\n",
       "<table border=\"1\" class=\"dataframe\">\n",
       "  <thead>\n",
       "    <tr style=\"text-align: right;\">\n",
       "      <th></th>\n",
       "      <th>From_ID</th>\n",
       "      <th>To_ID</th>\n",
       "    </tr>\n",
       "  </thead>\n",
       "  <tbody>\n",
       "    <tr>\n",
       "      <th>493</th>\n",
       "      <td>BMG_DG112273</td>\n",
       "      <td>BMG_MC088814</td>\n",
       "    </tr>\n",
       "    <tr>\n",
       "      <th>559</th>\n",
       "      <td>BMG_DG163217</td>\n",
       "      <td>BMG_MC577286</td>\n",
       "    </tr>\n",
       "    <tr>\n",
       "      <th>560</th>\n",
       "      <td>BMG_DG163217</td>\n",
       "      <td>BMG_MC577286</td>\n",
       "    </tr>\n",
       "    <tr>\n",
       "      <th>561</th>\n",
       "      <td>BMG_DG163217</td>\n",
       "      <td>BMG_MC577286</td>\n",
       "    </tr>\n",
       "    <tr>\n",
       "      <th>562</th>\n",
       "      <td>BMG_DG110067</td>\n",
       "      <td>BMG_MC532241</td>\n",
       "    </tr>\n",
       "    <tr>\n",
       "      <th>...</th>\n",
       "      <td>...</td>\n",
       "      <td>...</td>\n",
       "    </tr>\n",
       "    <tr>\n",
       "      <th>5034</th>\n",
       "      <td>BMG_DG123836</td>\n",
       "      <td>BMG_MC576284</td>\n",
       "    </tr>\n",
       "    <tr>\n",
       "      <th>5035</th>\n",
       "      <td>BMG_DG123836</td>\n",
       "      <td>BMG_MC392238</td>\n",
       "    </tr>\n",
       "    <tr>\n",
       "      <th>5036</th>\n",
       "      <td>BMG_DG123836</td>\n",
       "      <td>BMG_MC088814</td>\n",
       "    </tr>\n",
       "    <tr>\n",
       "      <th>5037</th>\n",
       "      <td>BMG_DG123836</td>\n",
       "      <td>BMG_MC089655</td>\n",
       "    </tr>\n",
       "    <tr>\n",
       "      <th>5054</th>\n",
       "      <td>BMG_DG168747</td>\n",
       "      <td>BMG_MC527357</td>\n",
       "    </tr>\n",
       "  </tbody>\n",
       "</table>\n",
       "<p>2078 rows × 2 columns</p>\n",
       "</div>"
      ],
      "text/plain": [
       "           From_ID         To_ID\n",
       "493   BMG_DG112273  BMG_MC088814\n",
       "559   BMG_DG163217  BMG_MC577286\n",
       "560   BMG_DG163217  BMG_MC577286\n",
       "561   BMG_DG163217  BMG_MC577286\n",
       "562   BMG_DG110067  BMG_MC532241\n",
       "...            ...           ...\n",
       "5034  BMG_DG123836  BMG_MC576284\n",
       "5035  BMG_DG123836  BMG_MC392238\n",
       "5036  BMG_DG123836  BMG_MC088814\n",
       "5037  BMG_DG123836  BMG_MC089655\n",
       "5054  BMG_DG168747  BMG_MC527357\n",
       "\n",
       "[2078 rows x 2 columns]"
      ]
     },
     "execution_count": 26,
     "metadata": {},
     "output_type": "execute_result"
    }
   ],
   "source": [
    "mdad = mdad[['From_ID', 'To_ID']]\n",
    "mdad.dropna(subset=['From_ID'], inplace=True)\n",
    "mdad.dropna(subset=['To_ID'], inplace=True)\n",
    "mdad"
   ]
  },
  {
   "cell_type": "code",
   "execution_count": 27,
   "metadata": {},
   "outputs": [
    {
     "name": "stderr",
     "output_type": "stream",
     "text": [
      "C:\\Users\\shunn\\AppData\\Local\\Temp\\ipykernel_39804\\3088200611.py:1: SettingWithCopyWarning: \n",
      "A value is trying to be set on a copy of a slice from a DataFrame.\n",
      "Try using .loc[row_indexer,col_indexer] = value instead\n",
      "\n",
      "See the caveats in the documentation: https://pandas.pydata.org/pandas-docs/stable/user_guide/indexing.html#returning-a-view-versus-a-copy\n",
      "  mdad['From_ID'] = mdad['From_ID'].str.split(';')\n",
      "C:\\Users\\shunn\\AppData\\Local\\Temp\\ipykernel_39804\\3088200611.py:2: SettingWithCopyWarning: \n",
      "A value is trying to be set on a copy of a slice from a DataFrame.\n",
      "Try using .loc[row_indexer,col_indexer] = value instead\n",
      "\n",
      "See the caveats in the documentation: https://pandas.pydata.org/pandas-docs/stable/user_guide/indexing.html#returning-a-view-versus-a-copy\n",
      "  mdad['To_ID'] = mdad['To_ID'].str.split(';')\n"
     ]
    },
    {
     "data": {
      "application/vnd.microsoft.datawrangler.viewer.v0+json": {
       "columns": [
        {
         "name": "index",
         "rawType": "int64",
         "type": "integer"
        },
        {
         "name": "From_ID",
         "rawType": "object",
         "type": "string"
        },
        {
         "name": "To_ID",
         "rawType": "object",
         "type": "string"
        }
       ],
       "conversionMethod": "pd.DataFrame",
       "ref": "4caab871-32c4-4c08-82ce-4582e7b46d68",
       "rows": [
        [
         "0",
         "BMG_DG112273",
         "BMG_MC088814"
        ],
        [
         "1",
         "BMG_DG163217",
         "BMG_MC577286"
        ],
        [
         "2",
         "BMG_DG110067",
         "BMG_MC532241"
        ],
        [
         "3",
         "BMG_DG130758",
         "BMG_MC088814"
        ],
        [
         "4",
         "BMG_DG212377",
         "BMG_MC088814"
        ],
        [
         "5",
         "BMG_DG198750",
         "BMG_MC392238"
        ],
        [
         "6",
         "BMG_DG198799",
         "BMG_MC392238"
        ],
        [
         "7",
         "BMG_DG185802",
         "BMG_MC532241"
        ],
        [
         "8",
         "BMG_DG154073",
         "BMG_MC577286"
        ],
        [
         "9",
         "BMG_DG205423",
         "BMG_MC392238"
        ],
        [
         "10",
         "BMG_DG113590",
         "BMG_MC539659"
        ],
        [
         "11",
         "BMG_DG163750",
         "BMG_MC392238"
        ],
        [
         "12",
         "BMG_DG267430",
         "BMG_MC392238"
        ],
        [
         "13",
         "BMG_DG115166",
         "BMG_MC572052"
        ],
        [
         "14",
         "BMG_DG177124",
         "BMG_MC527357"
        ],
        [
         "15",
         "BMG_DG177124",
         "BMG_MC392238"
        ],
        [
         "16",
         "BMG_DG177124",
         "BMG_MC539659"
        ],
        [
         "17",
         "BMG_DG265294",
         "BMG_MC135176"
        ],
        [
         "18",
         "BMG_DG265294",
         "BMG_MC532241"
        ],
        [
         "19",
         "BMG_DG265294",
         "BMG_MC527357"
        ],
        [
         "20",
         "BMG_DG139567",
         "BMG_MC532241"
        ],
        [
         "21",
         "BMG_DG139567",
         "BMG_MC539212"
        ],
        [
         "22",
         "BMG_DG139567",
         "BMG_MC539804"
        ],
        [
         "23",
         "BMG_DG139567",
         "BMG_MC540566"
        ],
        [
         "24",
         "BMG_DG116858",
         "BMG_MC146882"
        ],
        [
         "25",
         "BMG_DG137589",
         "BMG_MC146882"
        ],
        [
         "26",
         "BMG_DG137589",
         "BMG_MC219823"
        ],
        [
         "27",
         "BMG_DG153535",
         "BMG_MC527357"
        ],
        [
         "28",
         "BMG_DG172766",
         "BMG_MC102106"
        ],
        [
         "29",
         "BMG_DG172766",
         "BMG_MC392238"
        ],
        [
         "30",
         "BMG_DG172766",
         "BMG_MC146882"
        ],
        [
         "31",
         "BMG_DG172766",
         "BMG_MC219823"
        ],
        [
         "32",
         "BMG_DG172766",
         "BMG_MC088814"
        ],
        [
         "33",
         "BMG_DG105408",
         "BMG_MC513215"
        ],
        [
         "34",
         "BMG_DG171790",
         "BMG_MC392238"
        ],
        [
         "35",
         "BMG_DG164488",
         "BMG_MC146882"
        ],
        [
         "36",
         "BMG_DG164488",
         "BMG_MC392238"
        ],
        [
         "37",
         "BMG_DG164488",
         "BMG_MC394870"
        ],
        [
         "38",
         "BMG_DG164488",
         "BMG_MC560539"
        ],
        [
         "39",
         "BMG_DG153330",
         "BMG_MC532241"
        ],
        [
         "40",
         "BMG_DG153330",
         "BMG_MC559474"
        ],
        [
         "41",
         "BMG_DG181748",
         "BMG_MC532241"
        ],
        [
         "42",
         "BMG_DG118717",
         "BMG_MC527357"
        ],
        [
         "43",
         "BMG_DG194473",
         "BMG_MC539588"
        ],
        [
         "44",
         "BMG_DG105610",
         "BMG_MC527357"
        ],
        [
         "45",
         "BMG_DG185827",
         "BMG_MC527357"
        ],
        [
         "46",
         "BMG_DG146594",
         "BMG_MC089655"
        ],
        [
         "47",
         "BMG_DG217360",
         "BMG_MC528268"
        ],
        [
         "48",
         "BMG_DG217360",
         "BMG_MC532241"
        ],
        [
         "49",
         "BMG_DG217360",
         "BMG_MC535905"
        ]
       ],
       "shape": {
        "columns": 2,
        "rows": 805
       }
      },
      "text/html": [
       "<div>\n",
       "<style scoped>\n",
       "    .dataframe tbody tr th:only-of-type {\n",
       "        vertical-align: middle;\n",
       "    }\n",
       "\n",
       "    .dataframe tbody tr th {\n",
       "        vertical-align: top;\n",
       "    }\n",
       "\n",
       "    .dataframe thead th {\n",
       "        text-align: right;\n",
       "    }\n",
       "</style>\n",
       "<table border=\"1\" class=\"dataframe\">\n",
       "  <thead>\n",
       "    <tr style=\"text-align: right;\">\n",
       "      <th></th>\n",
       "      <th>From_ID</th>\n",
       "      <th>To_ID</th>\n",
       "    </tr>\n",
       "  </thead>\n",
       "  <tbody>\n",
       "    <tr>\n",
       "      <th>0</th>\n",
       "      <td>BMG_DG112273</td>\n",
       "      <td>BMG_MC088814</td>\n",
       "    </tr>\n",
       "    <tr>\n",
       "      <th>1</th>\n",
       "      <td>BMG_DG163217</td>\n",
       "      <td>BMG_MC577286</td>\n",
       "    </tr>\n",
       "    <tr>\n",
       "      <th>2</th>\n",
       "      <td>BMG_DG110067</td>\n",
       "      <td>BMG_MC532241</td>\n",
       "    </tr>\n",
       "    <tr>\n",
       "      <th>3</th>\n",
       "      <td>BMG_DG130758</td>\n",
       "      <td>BMG_MC088814</td>\n",
       "    </tr>\n",
       "    <tr>\n",
       "      <th>4</th>\n",
       "      <td>BMG_DG212377</td>\n",
       "      <td>BMG_MC088814</td>\n",
       "    </tr>\n",
       "    <tr>\n",
       "      <th>...</th>\n",
       "      <td>...</td>\n",
       "      <td>...</td>\n",
       "    </tr>\n",
       "    <tr>\n",
       "      <th>800</th>\n",
       "      <td>BMG_DG123836</td>\n",
       "      <td>BMG_MC576284</td>\n",
       "    </tr>\n",
       "    <tr>\n",
       "      <th>801</th>\n",
       "      <td>BMG_DG123836</td>\n",
       "      <td>BMG_MC392238</td>\n",
       "    </tr>\n",
       "    <tr>\n",
       "      <th>802</th>\n",
       "      <td>BMG_DG123836</td>\n",
       "      <td>BMG_MC088814</td>\n",
       "    </tr>\n",
       "    <tr>\n",
       "      <th>803</th>\n",
       "      <td>BMG_DG123836</td>\n",
       "      <td>BMG_MC089655</td>\n",
       "    </tr>\n",
       "    <tr>\n",
       "      <th>804</th>\n",
       "      <td>BMG_DG168747</td>\n",
       "      <td>BMG_MC527357</td>\n",
       "    </tr>\n",
       "  </tbody>\n",
       "</table>\n",
       "<p>805 rows × 2 columns</p>\n",
       "</div>"
      ],
      "text/plain": [
       "          From_ID         To_ID\n",
       "0    BMG_DG112273  BMG_MC088814\n",
       "1    BMG_DG163217  BMG_MC577286\n",
       "2    BMG_DG110067  BMG_MC532241\n",
       "3    BMG_DG130758  BMG_MC088814\n",
       "4    BMG_DG212377  BMG_MC088814\n",
       "..            ...           ...\n",
       "800  BMG_DG123836  BMG_MC576284\n",
       "801  BMG_DG123836  BMG_MC392238\n",
       "802  BMG_DG123836  BMG_MC088814\n",
       "803  BMG_DG123836  BMG_MC089655\n",
       "804  BMG_DG168747  BMG_MC527357\n",
       "\n",
       "[805 rows x 2 columns]"
      ]
     },
     "execution_count": 27,
     "metadata": {},
     "output_type": "execute_result"
    }
   ],
   "source": [
    "mdad['From_ID'] = mdad['From_ID'].str.split(';')\n",
    "mdad['To_ID'] = mdad['To_ID'].str.split(';')\n",
    "\n",
    "mdad = mdad.explode('From_ID')\n",
    "mdad = mdad.explode('To_ID')\n",
    "\n",
    "mdad.drop_duplicates(inplace=True)\n",
    "mdad.reset_index(drop=True, inplace=True)\n",
    "mdad"
   ]
  },
  {
   "cell_type": "markdown",
   "metadata": {},
   "source": [
    "### PharmacoMicrobiomics Mapping"
   ]
  },
  {
   "cell_type": "code",
   "execution_count": 30,
   "metadata": {},
   "outputs": [
    {
     "name": "stderr",
     "output_type": "stream",
     "text": [
      "C:\\Users\\shunn\\AppData\\Local\\Temp\\ipykernel_39804\\1475121978.py:2: SettingWithCopyWarning: \n",
      "A value is trying to be set on a copy of a slice from a DataFrame\n",
      "\n",
      "See the caveats in the documentation: https://pandas.pydata.org/pandas-docs/stable/user_guide/indexing.html#returning-a-view-versus-a-copy\n",
      "  cid_biomedgraphica.dropna(subset=['PubChem_CID'], inplace=True)\n",
      "C:\\Users\\shunn\\AppData\\Local\\Temp\\ipykernel_39804\\1475121978.py:3: SettingWithCopyWarning: \n",
      "A value is trying to be set on a copy of a slice from a DataFrame.\n",
      "Try using .loc[row_indexer,col_indexer] = value instead\n",
      "\n",
      "See the caveats in the documentation: https://pandas.pydata.org/pandas-docs/stable/user_guide/indexing.html#returning-a-view-versus-a-copy\n",
      "  cid_biomedgraphica['PubChem_CID'] = cid_biomedgraphica['PubChem_CID'].astype(str)\n"
     ]
    },
    {
     "data": {
      "application/vnd.microsoft.datawrangler.viewer.v0+json": {
       "columns": [
        {
         "name": "index",
         "rawType": "int64",
         "type": "integer"
        },
        {
         "name": "Drug_CID",
         "rawType": "int64",
         "type": "integer"
        },
        {
         "name": "Microbe_Taxon",
         "rawType": "int64",
         "type": "integer"
        },
        {
         "name": "From_ID",
         "rawType": "object",
         "type": "unknown"
        }
       ],
       "conversionMethod": "pd.DataFrame",
       "ref": "0e164509-29fe-4456-9a6f-f144f2da6217",
       "rows": [
        [
         "0",
         "2724385",
         "84112",
         "BMG_DG129486"
        ],
        [
         "1",
         "5282192",
         "816",
         "BMG_DG153999"
        ],
        [
         "2",
         "10303",
         "2",
         "BMG_DG004259"
        ],
        [
         "3",
         "5280961",
         "820",
         "BMG_DG153534"
        ],
        [
         "4",
         "5280961",
         "39490",
         "BMG_DG153534"
        ],
        [
         "5",
         "65064",
         "41200",
         "BMG_DG177176"
        ],
        [
         "6",
         "17787981",
         "1681",
         "BMG_DG110364"
        ],
        [
         "7",
         "442089",
         "816",
         "BMG_DG144292"
        ],
        [
         "8",
         "71905",
         "562",
         "BMG_DG190014"
        ],
        [
         "9",
         "300",
         "1350",
         "BMG_DG131895"
        ],
        [
         "10",
         "7533",
         "1350",
         "BMG_DG194818"
        ],
        [
         "11",
         "4506",
         "1535",
         "BMG_DG147632"
        ],
        [
         "12",
         "5734",
         "1509",
         "BMG_DG168631"
        ],
        [
         "13",
         "4173",
         "1502",
         "BMG_DG141410"
        ],
        [
         "14",
         "5282192",
         "28111",
         "BMG_DG153999"
        ],
        [
         "15",
         "5282192",
         "821",
         "BMG_DG153999"
        ],
        [
         "16",
         "5959",
         "562",
         "BMG_DG170575"
        ],
        [
         "17",
         "2907",
         "1239",
         "BMG_DG131374"
        ],
        [
         "18",
         "3672",
         "412900",
         "BMG_DG139166"
        ],
        [
         "19",
         "2724385",
         "84112",
         "BMG_DG129486"
        ],
        [
         "20",
         "60838",
         "562",
         "BMG_DG171397"
        ],
        [
         "21",
         "464205",
         "2702",
         "BMG_DG149190"
        ],
        [
         "22",
         "5997",
         "290054",
         "BMG_DG170813"
        ],
        [
         "23",
         "7955",
         "570",
         "BMG_DG199873"
        ],
        [
         "24",
         "60750",
         "2100",
         "BMG_DG171308"
        ],
        [
         "25",
         "439503",
         "1579",
         "BMG_DG142757"
        ],
        [
         "26",
         "442456",
         "1689",
         "BMG_DG144600"
        ],
        [
         "27",
         "5280805",
         "1689",
         "BMG_DG153478"
        ],
        [
         "28",
         "6047",
         "1578",
         "BMG_DG171163"
        ],
        [
         "29",
         "426756",
         "165179",
         "BMG_DG141940"
        ],
        [
         "30",
         "3007",
         "562",
         "BMG_DG132136"
        ],
        [
         "31",
         "3385",
         "562",
         "BMG_DG137795"
        ],
        [
         "32",
         "60838",
         "1578",
         "BMG_DG171397"
        ],
        [
         "33",
         "442428",
         "1689",
         "BMG_DG144590"
        ],
        [
         "34",
         "3385",
         "816",
         "BMG_DG137795"
        ],
        [
         "35",
         "126941",
         "816",
         "BMG_DG023143"
        ],
        [
         "36",
         "126941",
         "838",
         "BMG_DG023143"
        ],
        [
         "37",
         "60823",
         "2",
         "BMG_DG171379"
        ],
        [
         "38",
         "2353",
         "40518",
         "BMG_DG120466"
        ],
        [
         "39",
         "2353",
         "239935",
         "BMG_DG120466"
        ],
        [
         "40",
         "135398745",
         "239759",
         "BMG_DG082189"
        ],
        [
         "41",
         "135398745",
         "2",
         "BMG_DG082189"
        ],
        [
         "42",
         "2244",
         "851",
         "BMG_DG118717"
        ],
        [
         "43",
         "37542",
         "2",
         "BMG_DG139510"
        ],
        [
         "44",
         "92727",
         "2",
         "BMG_DG212133"
        ],
        [
         "45",
         "392622",
         "2",
         "BMG_DG140204"
        ],
        [
         "46",
         "131411",
         "2",
         "BMG_DG025785"
        ],
        [
         "47",
         "492405",
         "2",
         "BMG_DG150753"
        ],
        [
         "48",
         "65028",
         "2",
         "BMG_DG177118"
        ],
        [
         "49",
         "2719",
         "2",
         "BMG_DG129257"
        ]
       ],
       "shape": {
        "columns": 3,
        "rows": 69
       }
      },
      "text/html": [
       "<div>\n",
       "<style scoped>\n",
       "    .dataframe tbody tr th:only-of-type {\n",
       "        vertical-align: middle;\n",
       "    }\n",
       "\n",
       "    .dataframe tbody tr th {\n",
       "        vertical-align: top;\n",
       "    }\n",
       "\n",
       "    .dataframe thead th {\n",
       "        text-align: right;\n",
       "    }\n",
       "</style>\n",
       "<table border=\"1\" class=\"dataframe\">\n",
       "  <thead>\n",
       "    <tr style=\"text-align: right;\">\n",
       "      <th></th>\n",
       "      <th>Drug_CID</th>\n",
       "      <th>Microbe_Taxon</th>\n",
       "      <th>From_ID</th>\n",
       "    </tr>\n",
       "  </thead>\n",
       "  <tbody>\n",
       "    <tr>\n",
       "      <th>0</th>\n",
       "      <td>2724385</td>\n",
       "      <td>84112</td>\n",
       "      <td>BMG_DG129486</td>\n",
       "    </tr>\n",
       "    <tr>\n",
       "      <th>1</th>\n",
       "      <td>5282192</td>\n",
       "      <td>816</td>\n",
       "      <td>BMG_DG153999</td>\n",
       "    </tr>\n",
       "    <tr>\n",
       "      <th>2</th>\n",
       "      <td>10303</td>\n",
       "      <td>2</td>\n",
       "      <td>BMG_DG004259</td>\n",
       "    </tr>\n",
       "    <tr>\n",
       "      <th>3</th>\n",
       "      <td>5280961</td>\n",
       "      <td>820</td>\n",
       "      <td>BMG_DG153534</td>\n",
       "    </tr>\n",
       "    <tr>\n",
       "      <th>4</th>\n",
       "      <td>5280961</td>\n",
       "      <td>39490</td>\n",
       "      <td>BMG_DG153534</td>\n",
       "    </tr>\n",
       "    <tr>\n",
       "      <th>...</th>\n",
       "      <td>...</td>\n",
       "      <td>...</td>\n",
       "      <td>...</td>\n",
       "    </tr>\n",
       "    <tr>\n",
       "      <th>64</th>\n",
       "      <td>46488338</td>\n",
       "      <td>1598</td>\n",
       "      <td>NaN</td>\n",
       "    </tr>\n",
       "    <tr>\n",
       "      <th>65</th>\n",
       "      <td>5333</td>\n",
       "      <td>1239</td>\n",
       "      <td>BMG_DG158549</td>\n",
       "    </tr>\n",
       "    <tr>\n",
       "      <th>66</th>\n",
       "      <td>26879</td>\n",
       "      <td>816</td>\n",
       "      <td>BMG_DG129116</td>\n",
       "    </tr>\n",
       "    <tr>\n",
       "      <th>67</th>\n",
       "      <td>4173</td>\n",
       "      <td>1578</td>\n",
       "      <td>BMG_DG141410</td>\n",
       "    </tr>\n",
       "    <tr>\n",
       "      <th>68</th>\n",
       "      <td>43805</td>\n",
       "      <td>239935</td>\n",
       "      <td>BMG_DG142536</td>\n",
       "    </tr>\n",
       "  </tbody>\n",
       "</table>\n",
       "<p>69 rows × 3 columns</p>\n",
       "</div>"
      ],
      "text/plain": [
       "    Drug_CID  Microbe_Taxon       From_ID\n",
       "0    2724385          84112  BMG_DG129486\n",
       "1    5282192            816  BMG_DG153999\n",
       "2      10303              2  BMG_DG004259\n",
       "3    5280961            820  BMG_DG153534\n",
       "4    5280961          39490  BMG_DG153534\n",
       "..       ...            ...           ...\n",
       "64  46488338           1598           NaN\n",
       "65      5333           1239  BMG_DG158549\n",
       "66     26879            816  BMG_DG129116\n",
       "67      4173           1578  BMG_DG141410\n",
       "68     43805         239935  BMG_DG142536\n",
       "\n",
       "[69 rows x 3 columns]"
      ]
     },
     "execution_count": 30,
     "metadata": {},
     "output_type": "execute_result"
    }
   ],
   "source": [
    "cid_biomedgraphica = biomedgraphica_drug[['BioMedGraphica_ID', 'PubChem_CID']]\n",
    "cid_biomedgraphica.dropna(subset=['PubChem_CID'], inplace=True)\n",
    "cid_biomedgraphica['PubChem_CID'] = cid_biomedgraphica['PubChem_CID'].astype(str)\n",
    "cid_biomedgraphica = cid_biomedgraphica.assign(PubChem_CID=cid_biomedgraphica['PubChem_CID'].str.split(';')).explode('PubChem_CID')\n",
    "\n",
    "cid_to_individualID = cid_biomedgraphica.groupby('PubChem_CID')['BioMedGraphica_ID'].apply(lambda x: ';'.join(x.dropna().unique())).to_dict()\n",
    "pm['From_ID'] = pm['Drug_CID'].astype(str).map(cid_to_individualID)\n",
    "pm"
   ]
  },
  {
   "cell_type": "code",
   "execution_count": 31,
   "metadata": {},
   "outputs": [
    {
     "name": "stderr",
     "output_type": "stream",
     "text": [
      "C:\\Users\\shunn\\AppData\\Local\\Temp\\ipykernel_39804\\1333226165.py:2: SettingWithCopyWarning: \n",
      "A value is trying to be set on a copy of a slice from a DataFrame\n",
      "\n",
      "See the caveats in the documentation: https://pandas.pydata.org/pandas-docs/stable/user_guide/indexing.html#returning-a-view-versus-a-copy\n",
      "  taxon_biomedgraphica.dropna(subset=['NCBI_Taxonomy_ID'], inplace=True)\n",
      "C:\\Users\\shunn\\AppData\\Local\\Temp\\ipykernel_39804\\1333226165.py:3: SettingWithCopyWarning: \n",
      "A value is trying to be set on a copy of a slice from a DataFrame.\n",
      "Try using .loc[row_indexer,col_indexer] = value instead\n",
      "\n",
      "See the caveats in the documentation: https://pandas.pydata.org/pandas-docs/stable/user_guide/indexing.html#returning-a-view-versus-a-copy\n",
      "  taxon_biomedgraphica['NCBI_Taxonomy_ID'] = taxon_biomedgraphica['NCBI_Taxonomy_ID'].astype(str)\n"
     ]
    },
    {
     "data": {
      "application/vnd.microsoft.datawrangler.viewer.v0+json": {
       "columns": [
        {
         "name": "index",
         "rawType": "int64",
         "type": "integer"
        },
        {
         "name": "Drug_CID",
         "rawType": "int64",
         "type": "integer"
        },
        {
         "name": "Microbe_Taxon",
         "rawType": "int64",
         "type": "integer"
        },
        {
         "name": "From_ID",
         "rawType": "object",
         "type": "unknown"
        },
        {
         "name": "To_ID",
         "rawType": "object",
         "type": "string"
        }
       ],
       "conversionMethod": "pd.DataFrame",
       "ref": "8de7d2dc-3fb6-43e0-8396-305bb1ef6687",
       "rows": [
        [
         "0",
         "2724385",
         "84112",
         "BMG_DG129486",
         "BMG_MC588851"
        ],
        [
         "1",
         "5282192",
         "816",
         "BMG_DG153999",
         "BMG_MC588160"
        ],
        [
         "2",
         "10303",
         "2",
         "BMG_DG004259",
         "BMG_MC314078"
        ],
        [
         "3",
         "5280961",
         "820",
         "BMG_DG153534",
         "BMG_MC588233"
        ],
        [
         "4",
         "5280961",
         "39490",
         "BMG_DG153534",
         "BMG_MC474956"
        ],
        [
         "5",
         "65064",
         "41200",
         "BMG_DG177176",
         "BMG_MC481777"
        ],
        [
         "6",
         "17787981",
         "1681",
         "BMG_DG110364",
         "BMG_MC232557"
        ],
        [
         "7",
         "442089",
         "816",
         "BMG_DG144292",
         "BMG_MC588160"
        ],
        [
         "8",
         "71905",
         "562",
         "BMG_DG190014",
         "BMG_MC532241"
        ],
        [
         "9",
         "300",
         "1350",
         "BMG_DG131895",
         "BMG_MC116298"
        ],
        [
         "10",
         "7533",
         "1350",
         "BMG_DG194818",
         "BMG_MC116298"
        ],
        [
         "11",
         "4506",
         "1535",
         "BMG_DG147632",
         "BMG_MC188244"
        ],
        [
         "12",
         "5734",
         "1509",
         "BMG_DG168631",
         "BMG_MC179623"
        ],
        [
         "13",
         "4173",
         "1502",
         "BMG_DG141410",
         "BMG_MC177639"
        ],
        [
         "14",
         "5282192",
         "28111",
         "BMG_DG153999",
         "BMG_MC383501"
        ],
        [
         "15",
         "5282192",
         "821",
         "BMG_DG153999",
         "BMG_MC588239"
        ],
        [
         "16",
         "5959",
         "562",
         "BMG_DG170575",
         "BMG_MC532241"
        ],
        [
         "17",
         "2907",
         "1239",
         "BMG_DG131374",
         "BMG_MC073270"
        ],
        [
         "18",
         "3672",
         "412900",
         "BMG_DG139166",
         "BMG_MC482271"
        ],
        [
         "19",
         "2724385",
         "84112",
         "BMG_DG129486",
         "BMG_MC588851"
        ],
        [
         "20",
         "60838",
         "562",
         "BMG_DG171397",
         "BMG_MC532241"
        ],
        [
         "21",
         "464205",
         "2702",
         "BMG_DG149190",
         "BMG_MC369006"
        ],
        [
         "22",
         "5997",
         "290054",
         "BMG_DG170813",
         "BMG_MC395780"
        ],
        [
         "23",
         "7955",
         "570",
         "BMG_DG199873",
         "BMG_MC534968"
        ],
        [
         "24",
         "60750",
         "2100",
         "BMG_DG171308",
         "BMG_MC325935"
        ],
        [
         "25",
         "439503",
         "1579",
         "BMG_DG142757",
         "BMG_MC201684"
        ],
        [
         "26",
         "442456",
         "1689",
         "BMG_DG144600",
         "BMG_MC234983"
        ],
        [
         "27",
         "5280805",
         "1689",
         "BMG_DG153478",
         "BMG_MC234983"
        ],
        [
         "28",
         "6047",
         "1578",
         "BMG_DG171163",
         "BMG_MC201072"
        ],
        [
         "29",
         "426756",
         "165179",
         "BMG_DG141940",
         "BMG_MC224942"
        ],
        [
         "30",
         "3007",
         "562",
         "BMG_DG132136",
         "BMG_MC532241"
        ],
        [
         "31",
         "3385",
         "562",
         "BMG_DG137795",
         "BMG_MC532241"
        ],
        [
         "32",
         "60838",
         "1578",
         "BMG_DG171397",
         "BMG_MC201072"
        ],
        [
         "33",
         "442428",
         "1689",
         "BMG_DG144590",
         "BMG_MC234983"
        ],
        [
         "34",
         "3385",
         "816",
         "BMG_DG137795",
         "BMG_MC588160"
        ],
        [
         "35",
         "126941",
         "816",
         "BMG_DG023143",
         "BMG_MC588160"
        ],
        [
         "36",
         "126941",
         "838",
         "BMG_DG023143",
         "BMG_MC588735"
        ],
        [
         "37",
         "60823",
         "2",
         "BMG_DG171379",
         "BMG_MC314078"
        ],
        [
         "38",
         "2353",
         "40518",
         "BMG_DG120466",
         "BMG_MC478814"
        ],
        [
         "39",
         "2353",
         "239935",
         "BMG_DG120466",
         "BMG_MC342058"
        ],
        [
         "40",
         "135398745",
         "239759",
         "BMG_DG082189",
         "BMG_MC341902"
        ],
        [
         "41",
         "135398745",
         "2",
         "BMG_DG082189",
         "BMG_MC314078"
        ],
        [
         "42",
         "2244",
         "851",
         "BMG_DG118717",
         "BMG_MC589120"
        ],
        [
         "43",
         "37542",
         "2",
         "BMG_DG139510",
         "BMG_MC314078"
        ],
        [
         "44",
         "92727",
         "2",
         "BMG_DG212133",
         "BMG_MC314078"
        ],
        [
         "45",
         "392622",
         "2",
         "BMG_DG140204",
         "BMG_MC314078"
        ],
        [
         "46",
         "131411",
         "2",
         "BMG_DG025785",
         "BMG_MC314078"
        ],
        [
         "47",
         "492405",
         "2",
         "BMG_DG150753",
         "BMG_MC314078"
        ],
        [
         "48",
         "65028",
         "2",
         "BMG_DG177118",
         "BMG_MC314078"
        ],
        [
         "49",
         "2719",
         "2",
         "BMG_DG129257",
         "BMG_MC314078"
        ]
       ],
       "shape": {
        "columns": 4,
        "rows": 69
       }
      },
      "text/html": [
       "<div>\n",
       "<style scoped>\n",
       "    .dataframe tbody tr th:only-of-type {\n",
       "        vertical-align: middle;\n",
       "    }\n",
       "\n",
       "    .dataframe tbody tr th {\n",
       "        vertical-align: top;\n",
       "    }\n",
       "\n",
       "    .dataframe thead th {\n",
       "        text-align: right;\n",
       "    }\n",
       "</style>\n",
       "<table border=\"1\" class=\"dataframe\">\n",
       "  <thead>\n",
       "    <tr style=\"text-align: right;\">\n",
       "      <th></th>\n",
       "      <th>Drug_CID</th>\n",
       "      <th>Microbe_Taxon</th>\n",
       "      <th>From_ID</th>\n",
       "      <th>To_ID</th>\n",
       "    </tr>\n",
       "  </thead>\n",
       "  <tbody>\n",
       "    <tr>\n",
       "      <th>0</th>\n",
       "      <td>2724385</td>\n",
       "      <td>84112</td>\n",
       "      <td>BMG_DG129486</td>\n",
       "      <td>BMG_MC588851</td>\n",
       "    </tr>\n",
       "    <tr>\n",
       "      <th>1</th>\n",
       "      <td>5282192</td>\n",
       "      <td>816</td>\n",
       "      <td>BMG_DG153999</td>\n",
       "      <td>BMG_MC588160</td>\n",
       "    </tr>\n",
       "    <tr>\n",
       "      <th>2</th>\n",
       "      <td>10303</td>\n",
       "      <td>2</td>\n",
       "      <td>BMG_DG004259</td>\n",
       "      <td>BMG_MC314078</td>\n",
       "    </tr>\n",
       "    <tr>\n",
       "      <th>3</th>\n",
       "      <td>5280961</td>\n",
       "      <td>820</td>\n",
       "      <td>BMG_DG153534</td>\n",
       "      <td>BMG_MC588233</td>\n",
       "    </tr>\n",
       "    <tr>\n",
       "      <th>4</th>\n",
       "      <td>5280961</td>\n",
       "      <td>39490</td>\n",
       "      <td>BMG_DG153534</td>\n",
       "      <td>BMG_MC474956</td>\n",
       "    </tr>\n",
       "    <tr>\n",
       "      <th>...</th>\n",
       "      <td>...</td>\n",
       "      <td>...</td>\n",
       "      <td>...</td>\n",
       "      <td>...</td>\n",
       "    </tr>\n",
       "    <tr>\n",
       "      <th>64</th>\n",
       "      <td>46488338</td>\n",
       "      <td>1598</td>\n",
       "      <td>NaN</td>\n",
       "      <td>BMG_MC208472</td>\n",
       "    </tr>\n",
       "    <tr>\n",
       "      <th>65</th>\n",
       "      <td>5333</td>\n",
       "      <td>1239</td>\n",
       "      <td>BMG_DG158549</td>\n",
       "      <td>BMG_MC073270</td>\n",
       "    </tr>\n",
       "    <tr>\n",
       "      <th>66</th>\n",
       "      <td>26879</td>\n",
       "      <td>816</td>\n",
       "      <td>BMG_DG129116</td>\n",
       "      <td>BMG_MC588160</td>\n",
       "    </tr>\n",
       "    <tr>\n",
       "      <th>67</th>\n",
       "      <td>4173</td>\n",
       "      <td>1578</td>\n",
       "      <td>BMG_DG141410</td>\n",
       "      <td>BMG_MC201072</td>\n",
       "    </tr>\n",
       "    <tr>\n",
       "      <th>68</th>\n",
       "      <td>43805</td>\n",
       "      <td>239935</td>\n",
       "      <td>BMG_DG142536</td>\n",
       "      <td>BMG_MC342058</td>\n",
       "    </tr>\n",
       "  </tbody>\n",
       "</table>\n",
       "<p>69 rows × 4 columns</p>\n",
       "</div>"
      ],
      "text/plain": [
       "    Drug_CID  Microbe_Taxon       From_ID         To_ID\n",
       "0    2724385          84112  BMG_DG129486  BMG_MC588851\n",
       "1    5282192            816  BMG_DG153999  BMG_MC588160\n",
       "2      10303              2  BMG_DG004259  BMG_MC314078\n",
       "3    5280961            820  BMG_DG153534  BMG_MC588233\n",
       "4    5280961          39490  BMG_DG153534  BMG_MC474956\n",
       "..       ...            ...           ...           ...\n",
       "64  46488338           1598           NaN  BMG_MC208472\n",
       "65      5333           1239  BMG_DG158549  BMG_MC073270\n",
       "66     26879            816  BMG_DG129116  BMG_MC588160\n",
       "67      4173           1578  BMG_DG141410  BMG_MC201072\n",
       "68     43805         239935  BMG_DG142536  BMG_MC342058\n",
       "\n",
       "[69 rows x 4 columns]"
      ]
     },
     "execution_count": 31,
     "metadata": {},
     "output_type": "execute_result"
    }
   ],
   "source": [
    "taxon_biomedgraphica = biomedgraphica_microbiota[['BioMedGraphica_ID', 'NCBI_Taxonomy_ID']]\n",
    "taxon_biomedgraphica.dropna(subset=['NCBI_Taxonomy_ID'], inplace=True)\n",
    "taxon_biomedgraphica['NCBI_Taxonomy_ID'] = taxon_biomedgraphica['NCBI_Taxonomy_ID'].astype(str)\n",
    "taxon_biomedgraphica = taxon_biomedgraphica.assign(NCBI_Taxonomy_ID=taxon_biomedgraphica['NCBI_Taxonomy_ID'].str.split(';')).explode('NCBI_Taxonomy_ID')\n",
    "\n",
    "taxon_to_individualID = taxon_biomedgraphica.groupby('NCBI_Taxonomy_ID')['BioMedGraphica_ID'].apply(lambda x: ';'.join(x.dropna().unique())).to_dict()\n",
    "pm['To_ID'] = pm['Microbe_Taxon'].astype(str).map(taxon_to_individualID)\n",
    "pm"
   ]
  },
  {
   "cell_type": "code",
   "execution_count": 32,
   "metadata": {},
   "outputs": [
    {
     "name": "stderr",
     "output_type": "stream",
     "text": [
      "C:\\Users\\shunn\\AppData\\Local\\Temp\\ipykernel_39804\\1467958310.py:2: SettingWithCopyWarning: \n",
      "A value is trying to be set on a copy of a slice from a DataFrame\n",
      "\n",
      "See the caveats in the documentation: https://pandas.pydata.org/pandas-docs/stable/user_guide/indexing.html#returning-a-view-versus-a-copy\n",
      "  pm.dropna(subset=['From_ID'], inplace=True)\n",
      "C:\\Users\\shunn\\AppData\\Local\\Temp\\ipykernel_39804\\1467958310.py:3: SettingWithCopyWarning: \n",
      "A value is trying to be set on a copy of a slice from a DataFrame\n",
      "\n",
      "See the caveats in the documentation: https://pandas.pydata.org/pandas-docs/stable/user_guide/indexing.html#returning-a-view-versus-a-copy\n",
      "  pm.dropna(subset=['To_ID'], inplace=True)\n"
     ]
    },
    {
     "data": {
      "application/vnd.microsoft.datawrangler.viewer.v0+json": {
       "columns": [
        {
         "name": "index",
         "rawType": "int64",
         "type": "integer"
        },
        {
         "name": "From_ID",
         "rawType": "object",
         "type": "string"
        },
        {
         "name": "To_ID",
         "rawType": "object",
         "type": "string"
        }
       ],
       "conversionMethod": "pd.DataFrame",
       "ref": "78ba95f4-a2e9-461a-854d-ffecdf945adb",
       "rows": [
        [
         "0",
         "BMG_DG129486",
         "BMG_MC588851"
        ],
        [
         "1",
         "BMG_DG153999",
         "BMG_MC588160"
        ],
        [
         "2",
         "BMG_DG004259",
         "BMG_MC314078"
        ],
        [
         "3",
         "BMG_DG153534",
         "BMG_MC588233"
        ],
        [
         "4",
         "BMG_DG153534",
         "BMG_MC474956"
        ],
        [
         "5",
         "BMG_DG177176",
         "BMG_MC481777"
        ],
        [
         "6",
         "BMG_DG110364",
         "BMG_MC232557"
        ],
        [
         "7",
         "BMG_DG144292",
         "BMG_MC588160"
        ],
        [
         "8",
         "BMG_DG190014",
         "BMG_MC532241"
        ],
        [
         "9",
         "BMG_DG131895",
         "BMG_MC116298"
        ],
        [
         "10",
         "BMG_DG194818",
         "BMG_MC116298"
        ],
        [
         "11",
         "BMG_DG147632",
         "BMG_MC188244"
        ],
        [
         "12",
         "BMG_DG168631",
         "BMG_MC179623"
        ],
        [
         "13",
         "BMG_DG141410",
         "BMG_MC177639"
        ],
        [
         "14",
         "BMG_DG153999",
         "BMG_MC383501"
        ],
        [
         "15",
         "BMG_DG153999",
         "BMG_MC588239"
        ],
        [
         "16",
         "BMG_DG170575",
         "BMG_MC532241"
        ],
        [
         "17",
         "BMG_DG131374",
         "BMG_MC073270"
        ],
        [
         "18",
         "BMG_DG139166",
         "BMG_MC482271"
        ],
        [
         "19",
         "BMG_DG129486",
         "BMG_MC588851"
        ],
        [
         "20",
         "BMG_DG171397",
         "BMG_MC532241"
        ],
        [
         "21",
         "BMG_DG149190",
         "BMG_MC369006"
        ],
        [
         "22",
         "BMG_DG170813",
         "BMG_MC395780"
        ],
        [
         "23",
         "BMG_DG199873",
         "BMG_MC534968"
        ],
        [
         "24",
         "BMG_DG171308",
         "BMG_MC325935"
        ],
        [
         "25",
         "BMG_DG142757",
         "BMG_MC201684"
        ],
        [
         "26",
         "BMG_DG144600",
         "BMG_MC234983"
        ],
        [
         "27",
         "BMG_DG153478",
         "BMG_MC234983"
        ],
        [
         "28",
         "BMG_DG171163",
         "BMG_MC201072"
        ],
        [
         "29",
         "BMG_DG141940",
         "BMG_MC224942"
        ],
        [
         "30",
         "BMG_DG132136",
         "BMG_MC532241"
        ],
        [
         "31",
         "BMG_DG137795",
         "BMG_MC532241"
        ],
        [
         "32",
         "BMG_DG171397",
         "BMG_MC201072"
        ],
        [
         "33",
         "BMG_DG144590",
         "BMG_MC234983"
        ],
        [
         "34",
         "BMG_DG137795",
         "BMG_MC588160"
        ],
        [
         "35",
         "BMG_DG023143",
         "BMG_MC588160"
        ],
        [
         "36",
         "BMG_DG023143",
         "BMG_MC588735"
        ],
        [
         "37",
         "BMG_DG171379",
         "BMG_MC314078"
        ],
        [
         "38",
         "BMG_DG120466",
         "BMG_MC478814"
        ],
        [
         "39",
         "BMG_DG120466",
         "BMG_MC342058"
        ],
        [
         "40",
         "BMG_DG082189",
         "BMG_MC341902"
        ],
        [
         "41",
         "BMG_DG082189",
         "BMG_MC314078"
        ],
        [
         "42",
         "BMG_DG118717",
         "BMG_MC589120"
        ],
        [
         "43",
         "BMG_DG139510",
         "BMG_MC314078"
        ],
        [
         "44",
         "BMG_DG212133",
         "BMG_MC314078"
        ],
        [
         "45",
         "BMG_DG140204",
         "BMG_MC314078"
        ],
        [
         "46",
         "BMG_DG025785",
         "BMG_MC314078"
        ],
        [
         "47",
         "BMG_DG150753",
         "BMG_MC314078"
        ],
        [
         "48",
         "BMG_DG177118",
         "BMG_MC314078"
        ],
        [
         "49",
         "BMG_DG129257",
         "BMG_MC314078"
        ]
       ],
       "shape": {
        "columns": 2,
        "rows": 68
       }
      },
      "text/html": [
       "<div>\n",
       "<style scoped>\n",
       "    .dataframe tbody tr th:only-of-type {\n",
       "        vertical-align: middle;\n",
       "    }\n",
       "\n",
       "    .dataframe tbody tr th {\n",
       "        vertical-align: top;\n",
       "    }\n",
       "\n",
       "    .dataframe thead th {\n",
       "        text-align: right;\n",
       "    }\n",
       "</style>\n",
       "<table border=\"1\" class=\"dataframe\">\n",
       "  <thead>\n",
       "    <tr style=\"text-align: right;\">\n",
       "      <th></th>\n",
       "      <th>From_ID</th>\n",
       "      <th>To_ID</th>\n",
       "    </tr>\n",
       "  </thead>\n",
       "  <tbody>\n",
       "    <tr>\n",
       "      <th>0</th>\n",
       "      <td>BMG_DG129486</td>\n",
       "      <td>BMG_MC588851</td>\n",
       "    </tr>\n",
       "    <tr>\n",
       "      <th>1</th>\n",
       "      <td>BMG_DG153999</td>\n",
       "      <td>BMG_MC588160</td>\n",
       "    </tr>\n",
       "    <tr>\n",
       "      <th>2</th>\n",
       "      <td>BMG_DG004259</td>\n",
       "      <td>BMG_MC314078</td>\n",
       "    </tr>\n",
       "    <tr>\n",
       "      <th>3</th>\n",
       "      <td>BMG_DG153534</td>\n",
       "      <td>BMG_MC588233</td>\n",
       "    </tr>\n",
       "    <tr>\n",
       "      <th>4</th>\n",
       "      <td>BMG_DG153534</td>\n",
       "      <td>BMG_MC474956</td>\n",
       "    </tr>\n",
       "    <tr>\n",
       "      <th>...</th>\n",
       "      <td>...</td>\n",
       "      <td>...</td>\n",
       "    </tr>\n",
       "    <tr>\n",
       "      <th>63</th>\n",
       "      <td>BMG_DG082189</td>\n",
       "      <td>BMG_MC231424</td>\n",
       "    </tr>\n",
       "    <tr>\n",
       "      <th>65</th>\n",
       "      <td>BMG_DG158549</td>\n",
       "      <td>BMG_MC073270</td>\n",
       "    </tr>\n",
       "    <tr>\n",
       "      <th>66</th>\n",
       "      <td>BMG_DG129116</td>\n",
       "      <td>BMG_MC588160</td>\n",
       "    </tr>\n",
       "    <tr>\n",
       "      <th>67</th>\n",
       "      <td>BMG_DG141410</td>\n",
       "      <td>BMG_MC201072</td>\n",
       "    </tr>\n",
       "    <tr>\n",
       "      <th>68</th>\n",
       "      <td>BMG_DG142536</td>\n",
       "      <td>BMG_MC342058</td>\n",
       "    </tr>\n",
       "  </tbody>\n",
       "</table>\n",
       "<p>68 rows × 2 columns</p>\n",
       "</div>"
      ],
      "text/plain": [
       "         From_ID         To_ID\n",
       "0   BMG_DG129486  BMG_MC588851\n",
       "1   BMG_DG153999  BMG_MC588160\n",
       "2   BMG_DG004259  BMG_MC314078\n",
       "3   BMG_DG153534  BMG_MC588233\n",
       "4   BMG_DG153534  BMG_MC474956\n",
       "..           ...           ...\n",
       "63  BMG_DG082189  BMG_MC231424\n",
       "65  BMG_DG158549  BMG_MC073270\n",
       "66  BMG_DG129116  BMG_MC588160\n",
       "67  BMG_DG141410  BMG_MC201072\n",
       "68  BMG_DG142536  BMG_MC342058\n",
       "\n",
       "[68 rows x 2 columns]"
      ]
     },
     "execution_count": 32,
     "metadata": {},
     "output_type": "execute_result"
    }
   ],
   "source": [
    "pm = pm[['From_ID', 'To_ID']]\n",
    "pm.dropna(subset=['From_ID'], inplace=True)\n",
    "pm.dropna(subset=['To_ID'], inplace=True)\n",
    "pm"
   ]
  },
  {
   "cell_type": "code",
   "execution_count": 33,
   "metadata": {},
   "outputs": [
    {
     "name": "stderr",
     "output_type": "stream",
     "text": [
      "C:\\Users\\shunn\\AppData\\Local\\Temp\\ipykernel_39804\\3190139497.py:1: SettingWithCopyWarning: \n",
      "A value is trying to be set on a copy of a slice from a DataFrame.\n",
      "Try using .loc[row_indexer,col_indexer] = value instead\n",
      "\n",
      "See the caveats in the documentation: https://pandas.pydata.org/pandas-docs/stable/user_guide/indexing.html#returning-a-view-versus-a-copy\n",
      "  pm['From_ID'] = pm['From_ID'].str.split(';')\n",
      "C:\\Users\\shunn\\AppData\\Local\\Temp\\ipykernel_39804\\3190139497.py:2: SettingWithCopyWarning: \n",
      "A value is trying to be set on a copy of a slice from a DataFrame.\n",
      "Try using .loc[row_indexer,col_indexer] = value instead\n",
      "\n",
      "See the caveats in the documentation: https://pandas.pydata.org/pandas-docs/stable/user_guide/indexing.html#returning-a-view-versus-a-copy\n",
      "  pm['To_ID'] = pm['To_ID'].str.split(';')\n"
     ]
    },
    {
     "data": {
      "application/vnd.microsoft.datawrangler.viewer.v0+json": {
       "columns": [
        {
         "name": "index",
         "rawType": "int64",
         "type": "integer"
        },
        {
         "name": "From_ID",
         "rawType": "object",
         "type": "string"
        },
        {
         "name": "To_ID",
         "rawType": "object",
         "type": "string"
        }
       ],
       "conversionMethod": "pd.DataFrame",
       "ref": "cc12573b-2517-45c3-9cc9-bf071a468dc7",
       "rows": [
        [
         "0",
         "BMG_DG129486",
         "BMG_MC588851"
        ],
        [
         "1",
         "BMG_DG153999",
         "BMG_MC588160"
        ],
        [
         "2",
         "BMG_DG004259",
         "BMG_MC314078"
        ],
        [
         "3",
         "BMG_DG153534",
         "BMG_MC588233"
        ],
        [
         "4",
         "BMG_DG153534",
         "BMG_MC474956"
        ],
        [
         "5",
         "BMG_DG177176",
         "BMG_MC481777"
        ],
        [
         "6",
         "BMG_DG110364",
         "BMG_MC232557"
        ],
        [
         "7",
         "BMG_DG144292",
         "BMG_MC588160"
        ],
        [
         "8",
         "BMG_DG190014",
         "BMG_MC532241"
        ],
        [
         "9",
         "BMG_DG131895",
         "BMG_MC116298"
        ],
        [
         "10",
         "BMG_DG194818",
         "BMG_MC116298"
        ],
        [
         "11",
         "BMG_DG147632",
         "BMG_MC188244"
        ],
        [
         "12",
         "BMG_DG168631",
         "BMG_MC179623"
        ],
        [
         "13",
         "BMG_DG141410",
         "BMG_MC177639"
        ],
        [
         "14",
         "BMG_DG153999",
         "BMG_MC383501"
        ],
        [
         "15",
         "BMG_DG153999",
         "BMG_MC588239"
        ],
        [
         "16",
         "BMG_DG170575",
         "BMG_MC532241"
        ],
        [
         "17",
         "BMG_DG131374",
         "BMG_MC073270"
        ],
        [
         "18",
         "BMG_DG139166",
         "BMG_MC482271"
        ],
        [
         "19",
         "BMG_DG171397",
         "BMG_MC532241"
        ],
        [
         "20",
         "BMG_DG149190",
         "BMG_MC369006"
        ],
        [
         "21",
         "BMG_DG170813",
         "BMG_MC395780"
        ],
        [
         "22",
         "BMG_DG199873",
         "BMG_MC534968"
        ],
        [
         "23",
         "BMG_DG171308",
         "BMG_MC325935"
        ],
        [
         "24",
         "BMG_DG142757",
         "BMG_MC201684"
        ],
        [
         "25",
         "BMG_DG144600",
         "BMG_MC234983"
        ],
        [
         "26",
         "BMG_DG153478",
         "BMG_MC234983"
        ],
        [
         "27",
         "BMG_DG171163",
         "BMG_MC201072"
        ],
        [
         "28",
         "BMG_DG141940",
         "BMG_MC224942"
        ],
        [
         "29",
         "BMG_DG132136",
         "BMG_MC532241"
        ],
        [
         "30",
         "BMG_DG137795",
         "BMG_MC532241"
        ],
        [
         "31",
         "BMG_DG171397",
         "BMG_MC201072"
        ],
        [
         "32",
         "BMG_DG144590",
         "BMG_MC234983"
        ],
        [
         "33",
         "BMG_DG137795",
         "BMG_MC588160"
        ],
        [
         "34",
         "BMG_DG023143",
         "BMG_MC588160"
        ],
        [
         "35",
         "BMG_DG023143",
         "BMG_MC588735"
        ],
        [
         "36",
         "BMG_DG171379",
         "BMG_MC314078"
        ],
        [
         "37",
         "BMG_DG120466",
         "BMG_MC478814"
        ],
        [
         "38",
         "BMG_DG120466",
         "BMG_MC342058"
        ],
        [
         "39",
         "BMG_DG082189",
         "BMG_MC341902"
        ],
        [
         "40",
         "BMG_DG082189",
         "BMG_MC314078"
        ],
        [
         "41",
         "BMG_DG118717",
         "BMG_MC589120"
        ],
        [
         "42",
         "BMG_DG139510",
         "BMG_MC314078"
        ],
        [
         "43",
         "BMG_DG212133",
         "BMG_MC314078"
        ],
        [
         "44",
         "BMG_DG140204",
         "BMG_MC314078"
        ],
        [
         "45",
         "BMG_DG025785",
         "BMG_MC314078"
        ],
        [
         "46",
         "BMG_DG150753",
         "BMG_MC314078"
        ],
        [
         "47",
         "BMG_DG177118",
         "BMG_MC314078"
        ],
        [
         "48",
         "BMG_DG129257",
         "BMG_MC314078"
        ],
        [
         "49",
         "BMG_DG116336",
         "BMG_MC314078"
        ]
       ],
       "shape": {
        "columns": 2,
        "rows": 67
       }
      },
      "text/html": [
       "<div>\n",
       "<style scoped>\n",
       "    .dataframe tbody tr th:only-of-type {\n",
       "        vertical-align: middle;\n",
       "    }\n",
       "\n",
       "    .dataframe tbody tr th {\n",
       "        vertical-align: top;\n",
       "    }\n",
       "\n",
       "    .dataframe thead th {\n",
       "        text-align: right;\n",
       "    }\n",
       "</style>\n",
       "<table border=\"1\" class=\"dataframe\">\n",
       "  <thead>\n",
       "    <tr style=\"text-align: right;\">\n",
       "      <th></th>\n",
       "      <th>From_ID</th>\n",
       "      <th>To_ID</th>\n",
       "    </tr>\n",
       "  </thead>\n",
       "  <tbody>\n",
       "    <tr>\n",
       "      <th>0</th>\n",
       "      <td>BMG_DG129486</td>\n",
       "      <td>BMG_MC588851</td>\n",
       "    </tr>\n",
       "    <tr>\n",
       "      <th>1</th>\n",
       "      <td>BMG_DG153999</td>\n",
       "      <td>BMG_MC588160</td>\n",
       "    </tr>\n",
       "    <tr>\n",
       "      <th>2</th>\n",
       "      <td>BMG_DG004259</td>\n",
       "      <td>BMG_MC314078</td>\n",
       "    </tr>\n",
       "    <tr>\n",
       "      <th>3</th>\n",
       "      <td>BMG_DG153534</td>\n",
       "      <td>BMG_MC588233</td>\n",
       "    </tr>\n",
       "    <tr>\n",
       "      <th>4</th>\n",
       "      <td>BMG_DG153534</td>\n",
       "      <td>BMG_MC474956</td>\n",
       "    </tr>\n",
       "    <tr>\n",
       "      <th>...</th>\n",
       "      <td>...</td>\n",
       "      <td>...</td>\n",
       "    </tr>\n",
       "    <tr>\n",
       "      <th>62</th>\n",
       "      <td>BMG_DG082189</td>\n",
       "      <td>BMG_MC231424</td>\n",
       "    </tr>\n",
       "    <tr>\n",
       "      <th>63</th>\n",
       "      <td>BMG_DG158549</td>\n",
       "      <td>BMG_MC073270</td>\n",
       "    </tr>\n",
       "    <tr>\n",
       "      <th>64</th>\n",
       "      <td>BMG_DG129116</td>\n",
       "      <td>BMG_MC588160</td>\n",
       "    </tr>\n",
       "    <tr>\n",
       "      <th>65</th>\n",
       "      <td>BMG_DG141410</td>\n",
       "      <td>BMG_MC201072</td>\n",
       "    </tr>\n",
       "    <tr>\n",
       "      <th>66</th>\n",
       "      <td>BMG_DG142536</td>\n",
       "      <td>BMG_MC342058</td>\n",
       "    </tr>\n",
       "  </tbody>\n",
       "</table>\n",
       "<p>67 rows × 2 columns</p>\n",
       "</div>"
      ],
      "text/plain": [
       "         From_ID         To_ID\n",
       "0   BMG_DG129486  BMG_MC588851\n",
       "1   BMG_DG153999  BMG_MC588160\n",
       "2   BMG_DG004259  BMG_MC314078\n",
       "3   BMG_DG153534  BMG_MC588233\n",
       "4   BMG_DG153534  BMG_MC474956\n",
       "..           ...           ...\n",
       "62  BMG_DG082189  BMG_MC231424\n",
       "63  BMG_DG158549  BMG_MC073270\n",
       "64  BMG_DG129116  BMG_MC588160\n",
       "65  BMG_DG141410  BMG_MC201072\n",
       "66  BMG_DG142536  BMG_MC342058\n",
       "\n",
       "[67 rows x 2 columns]"
      ]
     },
     "execution_count": 33,
     "metadata": {},
     "output_type": "execute_result"
    }
   ],
   "source": [
    "pm['From_ID'] = pm['From_ID'].str.split(';')\n",
    "pm['To_ID'] = pm['To_ID'].str.split(';')\n",
    "\n",
    "pm = pm.explode('From_ID')\n",
    "pm = pm.explode('To_ID')\n",
    "\n",
    "pm.drop_duplicates(inplace=True)\n",
    "pm.reset_index(drop=True, inplace=True)\n",
    "pm"
   ]
  },
  {
   "cell_type": "markdown",
   "metadata": {},
   "source": [
    "### Drug-Microbiota Relation"
   ]
  },
  {
   "cell_type": "code",
   "execution_count": 34,
   "metadata": {},
   "outputs": [
    {
     "data": {
      "application/vnd.microsoft.datawrangler.viewer.v0+json": {
       "columns": [
        {
         "name": "index",
         "rawType": "int64",
         "type": "integer"
        },
        {
         "name": "From_ID",
         "rawType": "object",
         "type": "string"
        },
        {
         "name": "To_ID",
         "rawType": "object",
         "type": "string"
        },
        {
         "name": "Type",
         "rawType": "object",
         "type": "string"
        },
        {
         "name": "Source",
         "rawType": "object",
         "type": "string"
        }
       ],
       "conversionMethod": "pd.DataFrame",
       "ref": "19691d86-54e7-4e75-9bb4-ef993fdee574",
       "rows": [
        [
         "0",
         "BMG_DG000254",
         "BMG_MC392238",
         "Drug-Microbiota",
         "MDAD"
        ],
        [
         "1",
         "BMG_DG001877",
         "BMG_MC073270",
         "Drug-Microbiota",
         "PharmacoMicrobiomics"
        ],
        [
         "2",
         "BMG_DG002315",
         "BMG_MC100324",
         "Drug-Microbiota",
         "MDAD"
        ],
        [
         "3",
         "BMG_DG002315",
         "BMG_MC392238",
         "Drug-Microbiota",
         "MDAD"
        ],
        [
         "4",
         "BMG_DG002315",
         "BMG_MC477936",
         "Drug-Microbiota",
         "MDAD"
        ],
        [
         "5",
         "BMG_DG002530",
         "BMG_MC392238",
         "Drug-Microbiota",
         "MDAD"
        ],
        [
         "6",
         "BMG_DG002549",
         "BMG_MC577286",
         "Drug-Microbiota",
         "MDAD"
        ],
        [
         "7",
         "BMG_DG002563",
         "BMG_MC392238",
         "Drug-Microbiota",
         "MDAD"
        ],
        [
         "8",
         "BMG_DG003877",
         "BMG_MC100324",
         "Drug-Microbiota",
         "MDAD"
        ],
        [
         "9",
         "BMG_DG004259",
         "BMG_MC314078",
         "Drug-Microbiota",
         "PharmacoMicrobiomics"
        ],
        [
         "10",
         "BMG_DG004752",
         "BMG_MC088814",
         "Drug-Microbiota",
         "MDAD"
        ],
        [
         "11",
         "BMG_DG004752",
         "BMG_MC100324",
         "Drug-Microbiota",
         "MDAD"
        ],
        [
         "12",
         "BMG_DG004752",
         "BMG_MC392238",
         "Drug-Microbiota",
         "MDAD"
        ],
        [
         "13",
         "BMG_DG004752",
         "BMG_MC394870",
         "Drug-Microbiota",
         "MDAD"
        ],
        [
         "14",
         "BMG_DG004752",
         "BMG_MC522935",
         "Drug-Microbiota",
         "MDAD"
        ],
        [
         "15",
         "BMG_DG004752",
         "BMG_MC532241",
         "Drug-Microbiota",
         "MDAD"
        ],
        [
         "16",
         "BMG_DG004961",
         "BMG_MC100324",
         "Drug-Microbiota",
         "MDAD"
        ],
        [
         "17",
         "BMG_DG004961",
         "BMG_MC527357",
         "Drug-Microbiota",
         "MDAD"
        ],
        [
         "18",
         "BMG_DG005560",
         "BMG_MC259341",
         "Drug-Microbiota",
         "MDAD"
        ],
        [
         "19",
         "BMG_DG005613",
         "BMG_MC392238",
         "Drug-Microbiota",
         "MDAD"
        ],
        [
         "20",
         "BMG_DG005834",
         "BMG_MC088814",
         "Drug-Microbiota",
         "MDAD"
        ],
        [
         "21",
         "BMG_DG005834",
         "BMG_MC146882",
         "Drug-Microbiota",
         "MDAD"
        ],
        [
         "22",
         "BMG_DG005834",
         "BMG_MC532241",
         "Drug-Microbiota",
         "MDAD"
        ],
        [
         "23",
         "BMG_DG005906",
         "BMG_MC088814",
         "Drug-Microbiota",
         "MDAD"
        ],
        [
         "24",
         "BMG_DG006269",
         "BMG_MC530487",
         "Drug-Microbiota",
         "MDAD"
        ],
        [
         "25",
         "BMG_DG006269",
         "BMG_MC558691",
         "Drug-Microbiota",
         "MDAD"
        ],
        [
         "26",
         "BMG_DG006269",
         "BMG_MC560539",
         "Drug-Microbiota",
         "MDAD"
        ],
        [
         "27",
         "BMG_DG006269",
         "BMG_MC564605",
         "Drug-Microbiota",
         "MDAD"
        ],
        [
         "28",
         "BMG_DG006460",
         "BMG_MC088814",
         "Drug-Microbiota",
         "MDAD"
        ],
        [
         "29",
         "BMG_DG006460",
         "BMG_MC532241",
         "Drug-Microbiota",
         "MDAD"
        ],
        [
         "30",
         "BMG_DG006460",
         "BMG_MC548298",
         "Drug-Microbiota",
         "MDAD"
        ],
        [
         "31",
         "BMG_DG006460",
         "BMG_MC559474",
         "Drug-Microbiota",
         "MDAD"
        ],
        [
         "32",
         "BMG_DG006688",
         "BMG_MC532241",
         "Drug-Microbiota",
         "MDAD"
        ],
        [
         "33",
         "BMG_DG006918",
         "BMG_MC532241",
         "Drug-Microbiota",
         "MDAD"
        ],
        [
         "34",
         "BMG_DG006924",
         "BMG_MC532241",
         "Drug-Microbiota",
         "MDAD"
        ],
        [
         "35",
         "BMG_DG007925",
         "BMG_MC527357",
         "Drug-Microbiota",
         "MDAD"
        ],
        [
         "36",
         "BMG_DG008611",
         "BMG_MC392238",
         "Drug-Microbiota",
         "MDAD"
        ],
        [
         "37",
         "BMG_DG008611",
         "BMG_MC532241",
         "Drug-Microbiota",
         "MDAD"
        ],
        [
         "38",
         "BMG_DG008611",
         "BMG_MC535905",
         "Drug-Microbiota",
         "MDAD"
        ],
        [
         "39",
         "BMG_DG008611",
         "BMG_MC539659",
         "Drug-Microbiota",
         "MDAD"
        ],
        [
         "40",
         "BMG_DG008611",
         "BMG_MC539804",
         "Drug-Microbiota",
         "MDAD"
        ],
        [
         "41",
         "BMG_DG008611",
         "BMG_MC545388",
         "Drug-Microbiota",
         "MDAD"
        ],
        [
         "42",
         "BMG_DG008611",
         "BMG_MC558691",
         "Drug-Microbiota",
         "MDAD"
        ],
        [
         "43",
         "BMG_DG008772",
         "BMG_MC558691",
         "Drug-Microbiota",
         "MDAD"
        ],
        [
         "44",
         "BMG_DG010065",
         "BMG_MC100324",
         "Drug-Microbiota",
         "MDAD"
        ],
        [
         "45",
         "BMG_DG010065",
         "BMG_MC526269",
         "Drug-Microbiota",
         "MDAD"
        ],
        [
         "46",
         "BMG_DG011230",
         "BMG_MC392238",
         "Drug-Microbiota",
         "MDAD"
        ],
        [
         "47",
         "BMG_DG011864",
         "BMG_MC100324",
         "Drug-Microbiota",
         "MDAD"
        ],
        [
         "48",
         "BMG_DG011947",
         "BMG_MC392238",
         "Drug-Microbiota",
         "MDAD"
        ],
        [
         "49",
         "BMG_DG013564",
         "BMG_MC532241",
         "Drug-Microbiota",
         "MDAD"
        ]
       ],
       "shape": {
        "columns": 4,
        "rows": 866
       }
      },
      "text/html": [
       "<div>\n",
       "<style scoped>\n",
       "    .dataframe tbody tr th:only-of-type {\n",
       "        vertical-align: middle;\n",
       "    }\n",
       "\n",
       "    .dataframe tbody tr th {\n",
       "        vertical-align: top;\n",
       "    }\n",
       "\n",
       "    .dataframe thead th {\n",
       "        text-align: right;\n",
       "    }\n",
       "</style>\n",
       "<table border=\"1\" class=\"dataframe\">\n",
       "  <thead>\n",
       "    <tr style=\"text-align: right;\">\n",
       "      <th></th>\n",
       "      <th>From_ID</th>\n",
       "      <th>To_ID</th>\n",
       "      <th>Type</th>\n",
       "      <th>Source</th>\n",
       "    </tr>\n",
       "  </thead>\n",
       "  <tbody>\n",
       "    <tr>\n",
       "      <th>0</th>\n",
       "      <td>BMG_DG000254</td>\n",
       "      <td>BMG_MC392238</td>\n",
       "      <td>Drug-Microbiota</td>\n",
       "      <td>MDAD</td>\n",
       "    </tr>\n",
       "    <tr>\n",
       "      <th>1</th>\n",
       "      <td>BMG_DG001877</td>\n",
       "      <td>BMG_MC073270</td>\n",
       "      <td>Drug-Microbiota</td>\n",
       "      <td>PharmacoMicrobiomics</td>\n",
       "    </tr>\n",
       "    <tr>\n",
       "      <th>2</th>\n",
       "      <td>BMG_DG002315</td>\n",
       "      <td>BMG_MC100324</td>\n",
       "      <td>Drug-Microbiota</td>\n",
       "      <td>MDAD</td>\n",
       "    </tr>\n",
       "    <tr>\n",
       "      <th>3</th>\n",
       "      <td>BMG_DG002315</td>\n",
       "      <td>BMG_MC392238</td>\n",
       "      <td>Drug-Microbiota</td>\n",
       "      <td>MDAD</td>\n",
       "    </tr>\n",
       "    <tr>\n",
       "      <th>4</th>\n",
       "      <td>BMG_DG002315</td>\n",
       "      <td>BMG_MC477936</td>\n",
       "      <td>Drug-Microbiota</td>\n",
       "      <td>MDAD</td>\n",
       "    </tr>\n",
       "    <tr>\n",
       "      <th>...</th>\n",
       "      <td>...</td>\n",
       "      <td>...</td>\n",
       "      <td>...</td>\n",
       "      <td>...</td>\n",
       "    </tr>\n",
       "    <tr>\n",
       "      <th>861</th>\n",
       "      <td>BMG_DG266720</td>\n",
       "      <td>BMG_MC088814</td>\n",
       "      <td>Drug-Microbiota</td>\n",
       "      <td>MDAD</td>\n",
       "    </tr>\n",
       "    <tr>\n",
       "      <th>862</th>\n",
       "      <td>BMG_DG266720</td>\n",
       "      <td>BMG_MC089655</td>\n",
       "      <td>Drug-Microbiota</td>\n",
       "      <td>MDAD</td>\n",
       "    </tr>\n",
       "    <tr>\n",
       "      <th>863</th>\n",
       "      <td>BMG_DG267430</td>\n",
       "      <td>BMG_MC392238</td>\n",
       "      <td>Drug-Microbiota</td>\n",
       "      <td>MDAD</td>\n",
       "    </tr>\n",
       "    <tr>\n",
       "      <th>864</th>\n",
       "      <td>BMG_DG268007</td>\n",
       "      <td>BMG_MC392238</td>\n",
       "      <td>Drug-Microbiota</td>\n",
       "      <td>MDAD</td>\n",
       "    </tr>\n",
       "    <tr>\n",
       "      <th>865</th>\n",
       "      <td>BMG_DG268359</td>\n",
       "      <td>BMG_MC392238</td>\n",
       "      <td>Drug-Microbiota</td>\n",
       "      <td>MDAD</td>\n",
       "    </tr>\n",
       "  </tbody>\n",
       "</table>\n",
       "<p>866 rows × 4 columns</p>\n",
       "</div>"
      ],
      "text/plain": [
       "          From_ID         To_ID             Type                Source\n",
       "0    BMG_DG000254  BMG_MC392238  Drug-Microbiota                  MDAD\n",
       "1    BMG_DG001877  BMG_MC073270  Drug-Microbiota  PharmacoMicrobiomics\n",
       "2    BMG_DG002315  BMG_MC100324  Drug-Microbiota                  MDAD\n",
       "3    BMG_DG002315  BMG_MC392238  Drug-Microbiota                  MDAD\n",
       "4    BMG_DG002315  BMG_MC477936  Drug-Microbiota                  MDAD\n",
       "..            ...           ...              ...                   ...\n",
       "861  BMG_DG266720  BMG_MC088814  Drug-Microbiota                  MDAD\n",
       "862  BMG_DG266720  BMG_MC089655  Drug-Microbiota                  MDAD\n",
       "863  BMG_DG267430  BMG_MC392238  Drug-Microbiota                  MDAD\n",
       "864  BMG_DG268007  BMG_MC392238  Drug-Microbiota                  MDAD\n",
       "865  BMG_DG268359  BMG_MC392238  Drug-Microbiota                  MDAD\n",
       "\n",
       "[866 rows x 4 columns]"
      ]
     },
     "execution_count": 34,
     "metadata": {},
     "output_type": "execute_result"
    }
   ],
   "source": [
    "mdad['Type'] = 'Drug-Microbiota'\n",
    "pm['Type'] = 'Drug-Microbiota'\n",
    "\n",
    "mdad['source1'] = 'MDAD'\n",
    "pm['source2'] = 'PharmacoMicrobiomics'\n",
    "\n",
    "def merge_string_columns(df, columns, merge_name, separator=';'):\n",
    "    def merge_strings(row):\n",
    "        combined = set()\n",
    "        for column in columns:\n",
    "            if pd.notnull(row[column]):\n",
    "                combined.update(row[column].split(separator))\n",
    "        return separator.join(combined)\n",
    "    \n",
    "    # Apply the function to each row and create a new column\n",
    "    combined_column_name = merge_name\n",
    "    df[combined_column_name] = df.apply(merge_strings, axis=1)\n",
    "    df.drop(columns=columns, inplace=True)\n",
    "    \n",
    "    return df\n",
    "\n",
    "drug_microbiota = pd.merge(mdad, pm, how='outer')\n",
    "drug_microbiota = merge_string_columns(drug_microbiota, ['source1', 'source2'], 'Source')\n",
    "drug_microbiota"
   ]
  },
  {
   "cell_type": "code",
   "execution_count": 35,
   "metadata": {},
   "outputs": [
    {
     "data": {
      "application/vnd.microsoft.datawrangler.viewer.v0+json": {
       "columns": [
        {
         "name": "index",
         "rawType": "int64",
         "type": "integer"
        },
        {
         "name": "BioMedGraphica_ID",
         "rawType": "object",
         "type": "string"
        },
        {
         "name": "From_ID",
         "rawType": "object",
         "type": "string"
        },
        {
         "name": "To_ID",
         "rawType": "object",
         "type": "string"
        },
        {
         "name": "Type",
         "rawType": "object",
         "type": "string"
        },
        {
         "name": "Source",
         "rawType": "object",
         "type": "string"
        }
       ],
       "conversionMethod": "pd.DataFrame",
       "ref": "ba597c98-26d8-4ede-b86e-28fa3201dbfd",
       "rows": [
        [
         "0",
         "BMG_ED_DGMC001",
         "BMG_DG000254",
         "BMG_MC392238",
         "Drug-Microbiota",
         "MDAD"
        ],
        [
         "1",
         "BMG_ED_DGMC002",
         "BMG_DG001877",
         "BMG_MC073270",
         "Drug-Microbiota",
         "PharmacoMicrobiomics"
        ],
        [
         "2",
         "BMG_ED_DGMC003",
         "BMG_DG002315",
         "BMG_MC100324",
         "Drug-Microbiota",
         "MDAD"
        ],
        [
         "3",
         "BMG_ED_DGMC004",
         "BMG_DG002315",
         "BMG_MC392238",
         "Drug-Microbiota",
         "MDAD"
        ],
        [
         "4",
         "BMG_ED_DGMC005",
         "BMG_DG002315",
         "BMG_MC477936",
         "Drug-Microbiota",
         "MDAD"
        ],
        [
         "5",
         "BMG_ED_DGMC006",
         "BMG_DG002530",
         "BMG_MC392238",
         "Drug-Microbiota",
         "MDAD"
        ],
        [
         "6",
         "BMG_ED_DGMC007",
         "BMG_DG002549",
         "BMG_MC577286",
         "Drug-Microbiota",
         "MDAD"
        ],
        [
         "7",
         "BMG_ED_DGMC008",
         "BMG_DG002563",
         "BMG_MC392238",
         "Drug-Microbiota",
         "MDAD"
        ],
        [
         "8",
         "BMG_ED_DGMC009",
         "BMG_DG003877",
         "BMG_MC100324",
         "Drug-Microbiota",
         "MDAD"
        ],
        [
         "9",
         "BMG_ED_DGMC010",
         "BMG_DG004259",
         "BMG_MC314078",
         "Drug-Microbiota",
         "PharmacoMicrobiomics"
        ],
        [
         "10",
         "BMG_ED_DGMC011",
         "BMG_DG004752",
         "BMG_MC088814",
         "Drug-Microbiota",
         "MDAD"
        ],
        [
         "11",
         "BMG_ED_DGMC012",
         "BMG_DG004752",
         "BMG_MC100324",
         "Drug-Microbiota",
         "MDAD"
        ],
        [
         "12",
         "BMG_ED_DGMC013",
         "BMG_DG004752",
         "BMG_MC392238",
         "Drug-Microbiota",
         "MDAD"
        ],
        [
         "13",
         "BMG_ED_DGMC014",
         "BMG_DG004752",
         "BMG_MC394870",
         "Drug-Microbiota",
         "MDAD"
        ],
        [
         "14",
         "BMG_ED_DGMC015",
         "BMG_DG004752",
         "BMG_MC522935",
         "Drug-Microbiota",
         "MDAD"
        ],
        [
         "15",
         "BMG_ED_DGMC016",
         "BMG_DG004752",
         "BMG_MC532241",
         "Drug-Microbiota",
         "MDAD"
        ],
        [
         "16",
         "BMG_ED_DGMC017",
         "BMG_DG004961",
         "BMG_MC100324",
         "Drug-Microbiota",
         "MDAD"
        ],
        [
         "17",
         "BMG_ED_DGMC018",
         "BMG_DG004961",
         "BMG_MC527357",
         "Drug-Microbiota",
         "MDAD"
        ],
        [
         "18",
         "BMG_ED_DGMC019",
         "BMG_DG005560",
         "BMG_MC259341",
         "Drug-Microbiota",
         "MDAD"
        ],
        [
         "19",
         "BMG_ED_DGMC020",
         "BMG_DG005613",
         "BMG_MC392238",
         "Drug-Microbiota",
         "MDAD"
        ],
        [
         "20",
         "BMG_ED_DGMC021",
         "BMG_DG005834",
         "BMG_MC088814",
         "Drug-Microbiota",
         "MDAD"
        ],
        [
         "21",
         "BMG_ED_DGMC022",
         "BMG_DG005834",
         "BMG_MC146882",
         "Drug-Microbiota",
         "MDAD"
        ],
        [
         "22",
         "BMG_ED_DGMC023",
         "BMG_DG005834",
         "BMG_MC532241",
         "Drug-Microbiota",
         "MDAD"
        ],
        [
         "23",
         "BMG_ED_DGMC024",
         "BMG_DG005906",
         "BMG_MC088814",
         "Drug-Microbiota",
         "MDAD"
        ],
        [
         "24",
         "BMG_ED_DGMC025",
         "BMG_DG006269",
         "BMG_MC530487",
         "Drug-Microbiota",
         "MDAD"
        ],
        [
         "25",
         "BMG_ED_DGMC026",
         "BMG_DG006269",
         "BMG_MC558691",
         "Drug-Microbiota",
         "MDAD"
        ],
        [
         "26",
         "BMG_ED_DGMC027",
         "BMG_DG006269",
         "BMG_MC560539",
         "Drug-Microbiota",
         "MDAD"
        ],
        [
         "27",
         "BMG_ED_DGMC028",
         "BMG_DG006269",
         "BMG_MC564605",
         "Drug-Microbiota",
         "MDAD"
        ],
        [
         "28",
         "BMG_ED_DGMC029",
         "BMG_DG006460",
         "BMG_MC088814",
         "Drug-Microbiota",
         "MDAD"
        ],
        [
         "29",
         "BMG_ED_DGMC030",
         "BMG_DG006460",
         "BMG_MC532241",
         "Drug-Microbiota",
         "MDAD"
        ],
        [
         "30",
         "BMG_ED_DGMC031",
         "BMG_DG006460",
         "BMG_MC548298",
         "Drug-Microbiota",
         "MDAD"
        ],
        [
         "31",
         "BMG_ED_DGMC032",
         "BMG_DG006460",
         "BMG_MC559474",
         "Drug-Microbiota",
         "MDAD"
        ],
        [
         "32",
         "BMG_ED_DGMC033",
         "BMG_DG006688",
         "BMG_MC532241",
         "Drug-Microbiota",
         "MDAD"
        ],
        [
         "33",
         "BMG_ED_DGMC034",
         "BMG_DG006918",
         "BMG_MC532241",
         "Drug-Microbiota",
         "MDAD"
        ],
        [
         "34",
         "BMG_ED_DGMC035",
         "BMG_DG006924",
         "BMG_MC532241",
         "Drug-Microbiota",
         "MDAD"
        ],
        [
         "35",
         "BMG_ED_DGMC036",
         "BMG_DG007925",
         "BMG_MC527357",
         "Drug-Microbiota",
         "MDAD"
        ],
        [
         "36",
         "BMG_ED_DGMC037",
         "BMG_DG008611",
         "BMG_MC392238",
         "Drug-Microbiota",
         "MDAD"
        ],
        [
         "37",
         "BMG_ED_DGMC038",
         "BMG_DG008611",
         "BMG_MC532241",
         "Drug-Microbiota",
         "MDAD"
        ],
        [
         "38",
         "BMG_ED_DGMC039",
         "BMG_DG008611",
         "BMG_MC535905",
         "Drug-Microbiota",
         "MDAD"
        ],
        [
         "39",
         "BMG_ED_DGMC040",
         "BMG_DG008611",
         "BMG_MC539659",
         "Drug-Microbiota",
         "MDAD"
        ],
        [
         "40",
         "BMG_ED_DGMC041",
         "BMG_DG008611",
         "BMG_MC539804",
         "Drug-Microbiota",
         "MDAD"
        ],
        [
         "41",
         "BMG_ED_DGMC042",
         "BMG_DG008611",
         "BMG_MC545388",
         "Drug-Microbiota",
         "MDAD"
        ],
        [
         "42",
         "BMG_ED_DGMC043",
         "BMG_DG008611",
         "BMG_MC558691",
         "Drug-Microbiota",
         "MDAD"
        ],
        [
         "43",
         "BMG_ED_DGMC044",
         "BMG_DG008772",
         "BMG_MC558691",
         "Drug-Microbiota",
         "MDAD"
        ],
        [
         "44",
         "BMG_ED_DGMC045",
         "BMG_DG010065",
         "BMG_MC100324",
         "Drug-Microbiota",
         "MDAD"
        ],
        [
         "45",
         "BMG_ED_DGMC046",
         "BMG_DG010065",
         "BMG_MC526269",
         "Drug-Microbiota",
         "MDAD"
        ],
        [
         "46",
         "BMG_ED_DGMC047",
         "BMG_DG011230",
         "BMG_MC392238",
         "Drug-Microbiota",
         "MDAD"
        ],
        [
         "47",
         "BMG_ED_DGMC048",
         "BMG_DG011864",
         "BMG_MC100324",
         "Drug-Microbiota",
         "MDAD"
        ],
        [
         "48",
         "BMG_ED_DGMC049",
         "BMG_DG011947",
         "BMG_MC392238",
         "Drug-Microbiota",
         "MDAD"
        ],
        [
         "49",
         "BMG_ED_DGMC050",
         "BMG_DG013564",
         "BMG_MC532241",
         "Drug-Microbiota",
         "MDAD"
        ]
       ],
       "shape": {
        "columns": 5,
        "rows": 866
       }
      },
      "text/html": [
       "<div>\n",
       "<style scoped>\n",
       "    .dataframe tbody tr th:only-of-type {\n",
       "        vertical-align: middle;\n",
       "    }\n",
       "\n",
       "    .dataframe tbody tr th {\n",
       "        vertical-align: top;\n",
       "    }\n",
       "\n",
       "    .dataframe thead th {\n",
       "        text-align: right;\n",
       "    }\n",
       "</style>\n",
       "<table border=\"1\" class=\"dataframe\">\n",
       "  <thead>\n",
       "    <tr style=\"text-align: right;\">\n",
       "      <th></th>\n",
       "      <th>BioMedGraphica_ID</th>\n",
       "      <th>From_ID</th>\n",
       "      <th>To_ID</th>\n",
       "      <th>Type</th>\n",
       "      <th>Source</th>\n",
       "    </tr>\n",
       "  </thead>\n",
       "  <tbody>\n",
       "    <tr>\n",
       "      <th>0</th>\n",
       "      <td>BMG_ED_DGMC001</td>\n",
       "      <td>BMG_DG000254</td>\n",
       "      <td>BMG_MC392238</td>\n",
       "      <td>Drug-Microbiota</td>\n",
       "      <td>MDAD</td>\n",
       "    </tr>\n",
       "    <tr>\n",
       "      <th>1</th>\n",
       "      <td>BMG_ED_DGMC002</td>\n",
       "      <td>BMG_DG001877</td>\n",
       "      <td>BMG_MC073270</td>\n",
       "      <td>Drug-Microbiota</td>\n",
       "      <td>PharmacoMicrobiomics</td>\n",
       "    </tr>\n",
       "    <tr>\n",
       "      <th>2</th>\n",
       "      <td>BMG_ED_DGMC003</td>\n",
       "      <td>BMG_DG002315</td>\n",
       "      <td>BMG_MC100324</td>\n",
       "      <td>Drug-Microbiota</td>\n",
       "      <td>MDAD</td>\n",
       "    </tr>\n",
       "    <tr>\n",
       "      <th>3</th>\n",
       "      <td>BMG_ED_DGMC004</td>\n",
       "      <td>BMG_DG002315</td>\n",
       "      <td>BMG_MC392238</td>\n",
       "      <td>Drug-Microbiota</td>\n",
       "      <td>MDAD</td>\n",
       "    </tr>\n",
       "    <tr>\n",
       "      <th>4</th>\n",
       "      <td>BMG_ED_DGMC005</td>\n",
       "      <td>BMG_DG002315</td>\n",
       "      <td>BMG_MC477936</td>\n",
       "      <td>Drug-Microbiota</td>\n",
       "      <td>MDAD</td>\n",
       "    </tr>\n",
       "    <tr>\n",
       "      <th>...</th>\n",
       "      <td>...</td>\n",
       "      <td>...</td>\n",
       "      <td>...</td>\n",
       "      <td>...</td>\n",
       "      <td>...</td>\n",
       "    </tr>\n",
       "    <tr>\n",
       "      <th>861</th>\n",
       "      <td>BMG_ED_DGMC862</td>\n",
       "      <td>BMG_DG266720</td>\n",
       "      <td>BMG_MC088814</td>\n",
       "      <td>Drug-Microbiota</td>\n",
       "      <td>MDAD</td>\n",
       "    </tr>\n",
       "    <tr>\n",
       "      <th>862</th>\n",
       "      <td>BMG_ED_DGMC863</td>\n",
       "      <td>BMG_DG266720</td>\n",
       "      <td>BMG_MC089655</td>\n",
       "      <td>Drug-Microbiota</td>\n",
       "      <td>MDAD</td>\n",
       "    </tr>\n",
       "    <tr>\n",
       "      <th>863</th>\n",
       "      <td>BMG_ED_DGMC864</td>\n",
       "      <td>BMG_DG267430</td>\n",
       "      <td>BMG_MC392238</td>\n",
       "      <td>Drug-Microbiota</td>\n",
       "      <td>MDAD</td>\n",
       "    </tr>\n",
       "    <tr>\n",
       "      <th>864</th>\n",
       "      <td>BMG_ED_DGMC865</td>\n",
       "      <td>BMG_DG268007</td>\n",
       "      <td>BMG_MC392238</td>\n",
       "      <td>Drug-Microbiota</td>\n",
       "      <td>MDAD</td>\n",
       "    </tr>\n",
       "    <tr>\n",
       "      <th>865</th>\n",
       "      <td>BMG_ED_DGMC866</td>\n",
       "      <td>BMG_DG268359</td>\n",
       "      <td>BMG_MC392238</td>\n",
       "      <td>Drug-Microbiota</td>\n",
       "      <td>MDAD</td>\n",
       "    </tr>\n",
       "  </tbody>\n",
       "</table>\n",
       "<p>866 rows × 5 columns</p>\n",
       "</div>"
      ],
      "text/plain": [
       "    BioMedGraphica_ID       From_ID         To_ID             Type  \\\n",
       "0      BMG_ED_DGMC001  BMG_DG000254  BMG_MC392238  Drug-Microbiota   \n",
       "1      BMG_ED_DGMC002  BMG_DG001877  BMG_MC073270  Drug-Microbiota   \n",
       "2      BMG_ED_DGMC003  BMG_DG002315  BMG_MC100324  Drug-Microbiota   \n",
       "3      BMG_ED_DGMC004  BMG_DG002315  BMG_MC392238  Drug-Microbiota   \n",
       "4      BMG_ED_DGMC005  BMG_DG002315  BMG_MC477936  Drug-Microbiota   \n",
       "..                ...           ...           ...              ...   \n",
       "861    BMG_ED_DGMC862  BMG_DG266720  BMG_MC088814  Drug-Microbiota   \n",
       "862    BMG_ED_DGMC863  BMG_DG266720  BMG_MC089655  Drug-Microbiota   \n",
       "863    BMG_ED_DGMC864  BMG_DG267430  BMG_MC392238  Drug-Microbiota   \n",
       "864    BMG_ED_DGMC865  BMG_DG268007  BMG_MC392238  Drug-Microbiota   \n",
       "865    BMG_ED_DGMC866  BMG_DG268359  BMG_MC392238  Drug-Microbiota   \n",
       "\n",
       "                   Source  \n",
       "0                    MDAD  \n",
       "1    PharmacoMicrobiomics  \n",
       "2                    MDAD  \n",
       "3                    MDAD  \n",
       "4                    MDAD  \n",
       "..                    ...  \n",
       "861                  MDAD  \n",
       "862                  MDAD  \n",
       "863                  MDAD  \n",
       "864                  MDAD  \n",
       "865                  MDAD  \n",
       "\n",
       "[866 rows x 5 columns]"
      ]
     },
     "execution_count": 35,
     "metadata": {},
     "output_type": "execute_result"
    }
   ],
   "source": [
    "max_length = len(str(len(drug_microbiota)))\n",
    "drug_microbiota['BioMedGraphica_ID'] = ['BMG_ED_DGMC' + str(i).zfill(max_length) for i in range(1, len(drug_microbiota) + 1)]\n",
    "columns = ['BioMedGraphica_ID'] + [col for col in drug_microbiota.columns if col != 'BioMedGraphica_ID']  # re-order columns\n",
    "drug_microbiota = drug_microbiota[columns]\n",
    "drug_microbiota"
   ]
  },
  {
   "cell_type": "code",
   "execution_count": 36,
   "metadata": {},
   "outputs": [
    {
     "name": "stdout",
     "output_type": "stream",
     "text": [
      "Data has been saved to D:\\RA\\BMG\\BioMedGraphica\\Relation\\Drug-Microbiota\\BioMedGraphica_Drug_Microbiota.csv\n"
     ]
    }
   ],
   "source": [
    "import os\n",
    "from pathlib import Path\n",
    "\n",
    "# get the current working directory\n",
    "current_working_dir = Path(os.getcwd()).resolve()\n",
    "\n",
    "# get the output directory\n",
    "grandparent_dir = current_working_dir.parent.parent.parent\n",
    "\n",
    "target_folder = grandparent_dir / 'BioMedGraphica' / 'Relation' / 'Drug-Microbiota'\n",
    "if not target_folder.exists():\n",
    "    target_folder.mkdir(parents=True)\n",
    "    print(f\"Folder {target_folder} has been created.\")\n",
    "\n",
    "output_file_path = target_folder / 'BioMedGraphica_Drug_Microbiota.csv'\n",
    "drug_microbiota.to_csv(output_file_path, index=False)\n",
    "print(f\"Data has been saved to {output_file_path}\")"
   ]
  }
 ],
 "metadata": {
  "kernelspec": {
   "display_name": "base",
   "language": "python",
   "name": "python3"
  },
  "language_info": {
   "codemirror_mode": {
    "name": "ipython",
    "version": 3
   },
   "file_extension": ".py",
   "mimetype": "text/x-python",
   "name": "python",
   "nbconvert_exporter": "python",
   "pygments_lexer": "ipython3",
   "version": "3.9.19"
  }
 },
 "nbformat": 4,
 "nbformat_minor": 2
}
