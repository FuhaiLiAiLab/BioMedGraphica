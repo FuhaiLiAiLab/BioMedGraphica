{
 "cells": [
  {
   "cell_type": "markdown",
   "metadata": {},
   "source": [
    "### KEGG"
   ]
  },
  {
   "cell_type": "code",
   "execution_count": 1,
   "metadata": {},
   "outputs": [
    {
     "data": {
      "application/vnd.microsoft.datawrangler.viewer.v0+json": {
       "columns": [
        {
         "name": "index",
         "rawType": "int64",
         "type": "integer"
        },
        {
         "name": "pathway_id",
         "rawType": "object",
         "type": "string"
        },
        {
         "name": "target",
         "rawType": "object",
         "type": "string"
        }
       ],
       "conversionMethod": "pd.DataFrame",
       "ref": "96a37b0a-ce3f-4dc7-a828-30dc4ce60ab9",
       "rows": [
        [
         "0",
         "hsa00010",
         "LDHAL6A"
        ],
        [
         "1",
         "hsa00010",
         "LDHA"
        ],
        [
         "2",
         "hsa00010",
         "LDHB"
        ],
        [
         "3",
         "hsa00010",
         "LDHC"
        ],
        [
         "4",
         "hsa00010",
         "PDHA1"
        ],
        [
         "5",
         "hsa00010",
         "PDHA2"
        ],
        [
         "6",
         "hsa00010",
         "PDHB"
        ],
        [
         "7",
         "hsa00010",
         "PKLR"
        ],
        [
         "8",
         "hsa00010",
         "PKM"
        ],
        [
         "9",
         "hsa00010",
         "LDHAL6B"
        ],
        [
         "10",
         "hsa00010",
         "DLAT"
        ],
        [
         "11",
         "hsa00010",
         "ALDH2"
        ],
        [
         "12",
         "hsa00010",
         "ALDH3A1"
        ],
        [
         "13",
         "hsa00010",
         "ALDH1B1"
        ],
        [
         "14",
         "hsa00010",
         "ALDH3B1"
        ],
        [
         "15",
         "hsa00010",
         "ALDH3B2"
        ],
        [
         "16",
         "hsa00010",
         "ALDH9A1"
        ],
        [
         "17",
         "hsa00010",
         "ALDH3A2"
        ],
        [
         "18",
         "hsa00010",
         "ALDH7A1"
        ],
        [
         "19",
         "hsa00010",
         "ACSS2"
        ],
        [
         "20",
         "hsa00010",
         "ACSS1"
        ],
        [
         "21",
         "hsa00010",
         "PCK1"
        ],
        [
         "22",
         "hsa00010",
         "PCK2"
        ],
        [
         "23",
         "hsa00010",
         "ENO1"
        ],
        [
         "24",
         "hsa00010",
         "ENO2"
        ],
        [
         "25",
         "hsa00010",
         "ENO3"
        ],
        [
         "26",
         "hsa00010",
         "ENO4"
        ],
        [
         "27",
         "hsa00010",
         "AKR1A1"
        ],
        [
         "28",
         "hsa00010",
         "ADH1A"
        ],
        [
         "29",
         "hsa00010",
         "ADH1B"
        ],
        [
         "30",
         "hsa00010",
         "ADH1C"
        ],
        [
         "31",
         "hsa00010",
         "ADH4"
        ],
        [
         "32",
         "hsa00010",
         "ADH5"
        ],
        [
         "33",
         "hsa00010",
         "ADH6"
        ],
        [
         "34",
         "hsa00010",
         "ADH7"
        ],
        [
         "35",
         "hsa00010",
         "GPI"
        ],
        [
         "36",
         "hsa00010",
         "PFKL"
        ],
        [
         "37",
         "hsa00010",
         "PFKM"
        ],
        [
         "38",
         "hsa00010",
         "PFKP"
        ],
        [
         "39",
         "hsa00010",
         "PGM1"
        ],
        [
         "40",
         "hsa00010",
         "PGM2"
        ],
        [
         "41",
         "hsa00010",
         "ALDOA"
        ],
        [
         "42",
         "hsa00010",
         "ALDOB"
        ],
        [
         "43",
         "hsa00010",
         "ALDOC"
        ],
        [
         "44",
         "hsa00010",
         "TPI1"
        ],
        [
         "45",
         "hsa00010",
         "GAPDH"
        ],
        [
         "46",
         "hsa00010",
         "GAPDHS"
        ],
        [
         "47",
         "hsa00010",
         "PGAM4"
        ],
        [
         "48",
         "hsa00010",
         "PGAM1"
        ],
        [
         "49",
         "hsa00010",
         "PGAM2"
        ]
       ],
       "shape": {
        "columns": 2,
        "rows": 24475
       }
      },
      "text/html": [
       "<div>\n",
       "<style scoped>\n",
       "    .dataframe tbody tr th:only-of-type {\n",
       "        vertical-align: middle;\n",
       "    }\n",
       "\n",
       "    .dataframe tbody tr th {\n",
       "        vertical-align: top;\n",
       "    }\n",
       "\n",
       "    .dataframe thead th {\n",
       "        text-align: right;\n",
       "    }\n",
       "</style>\n",
       "<table border=\"1\" class=\"dataframe\">\n",
       "  <thead>\n",
       "    <tr style=\"text-align: right;\">\n",
       "      <th></th>\n",
       "      <th>pathway_id</th>\n",
       "      <th>target</th>\n",
       "    </tr>\n",
       "  </thead>\n",
       "  <tbody>\n",
       "    <tr>\n",
       "      <th>0</th>\n",
       "      <td>hsa00010</td>\n",
       "      <td>LDHAL6A</td>\n",
       "    </tr>\n",
       "    <tr>\n",
       "      <th>1</th>\n",
       "      <td>hsa00010</td>\n",
       "      <td>LDHA</td>\n",
       "    </tr>\n",
       "    <tr>\n",
       "      <th>2</th>\n",
       "      <td>hsa00010</td>\n",
       "      <td>LDHB</td>\n",
       "    </tr>\n",
       "    <tr>\n",
       "      <th>3</th>\n",
       "      <td>hsa00010</td>\n",
       "      <td>LDHC</td>\n",
       "    </tr>\n",
       "    <tr>\n",
       "      <th>4</th>\n",
       "      <td>hsa00010</td>\n",
       "      <td>PDHA1</td>\n",
       "    </tr>\n",
       "    <tr>\n",
       "      <th>...</th>\n",
       "      <td>...</td>\n",
       "      <td>...</td>\n",
       "    </tr>\n",
       "    <tr>\n",
       "      <th>24470</th>\n",
       "      <td>hsa05033</td>\n",
       "      <td>GABRQ</td>\n",
       "    </tr>\n",
       "    <tr>\n",
       "      <th>24471</th>\n",
       "      <td>hsa05033</td>\n",
       "      <td>CHRNA4</td>\n",
       "    </tr>\n",
       "    <tr>\n",
       "      <th>24472</th>\n",
       "      <td>hsa05033</td>\n",
       "      <td>CHRNA7</td>\n",
       "    </tr>\n",
       "    <tr>\n",
       "      <th>24473</th>\n",
       "      <td>hsa05033</td>\n",
       "      <td>CHRNB2</td>\n",
       "    </tr>\n",
       "    <tr>\n",
       "      <th>24474</th>\n",
       "      <td>hsa05033</td>\n",
       "      <td>CHRNA6</td>\n",
       "    </tr>\n",
       "  </tbody>\n",
       "</table>\n",
       "<p>24475 rows × 2 columns</p>\n",
       "</div>"
      ],
      "text/plain": [
       "      pathway_id   target\n",
       "0       hsa00010  LDHAL6A\n",
       "1       hsa00010     LDHA\n",
       "2       hsa00010     LDHB\n",
       "3       hsa00010     LDHC\n",
       "4       hsa00010    PDHA1\n",
       "...          ...      ...\n",
       "24470   hsa05033    GABRQ\n",
       "24471   hsa05033   CHRNA4\n",
       "24472   hsa05033   CHRNA7\n",
       "24473   hsa05033   CHRNB2\n",
       "24474   hsa05033   CHRNA6\n",
       "\n",
       "[24475 rows x 2 columns]"
      ]
     },
     "execution_count": 1,
     "metadata": {},
     "output_type": "execute_result"
    }
   ],
   "source": [
    "# Download Link: R code\n",
    "# Download Date: 2025-03-21\n",
    "# Download Version: 2025-03-21\n",
    "\n",
    "import pandas as pd\n",
    "\n",
    "kegg = pd.read_csv('full_kegg_pathway_list_with_id.csv', index_col=0)\n",
    "kegg['pathway_id'] = kegg['pathway_id'].str.replace(':', '')\n",
    "kegg_pathway_protein = kegg[(kegg['target_type'] == 'SYMBOL')]\n",
    "kegg_pathway_protein = kegg_pathway_protein[['pathway_id', 'target']]\n",
    "kegg_pathway_protein.drop_duplicates(inplace=True)\n",
    "kegg_pathway_protein.reset_index(drop=True, inplace=True)\n",
    "kegg_pathway_protein"
   ]
  },
  {
   "cell_type": "markdown",
   "metadata": {},
   "source": [
    "### BioMedGraphica ID"
   ]
  },
  {
   "cell_type": "code",
   "execution_count": 2,
   "metadata": {},
   "outputs": [],
   "source": [
    "import pandas as pd\n",
    "import os\n",
    "from pathlib import Path\n",
    "\n",
    "current_working_dir = Path(os.getcwd()).resolve()\n",
    "grandparent_dir = current_working_dir.parent.parent.parent\n",
    "target_dir_protein = grandparent_dir / 'BioMedGraphica' / 'Entity' / 'Protein' / 'BioMedGraphica_Protein.csv'\n",
    "target_dir_pathway = grandparent_dir / 'BioMedGraphica' / 'Entity' / 'Pathway' / 'BioMedGraphica_Pathway.csv'\n",
    "biomedgraphica_protein = pd.read_csv(target_dir_protein, dtype=str)\n",
    "biomedgraphica_pathway = pd.read_csv(target_dir_pathway, dtype=str)"
   ]
  },
  {
   "cell_type": "markdown",
   "metadata": {},
   "source": [
    "### KEGG Mapping"
   ]
  },
  {
   "cell_type": "code",
   "execution_count": 3,
   "metadata": {},
   "outputs": [
    {
     "name": "stderr",
     "output_type": "stream",
     "text": [
      "C:\\Users\\shunn\\AppData\\Local\\Temp\\ipykernel_35680\\992776706.py:2: SettingWithCopyWarning: \n",
      "A value is trying to be set on a copy of a slice from a DataFrame\n",
      "\n",
      "See the caveats in the documentation: https://pandas.pydata.org/pandas-docs/stable/user_guide/indexing.html#returning-a-view-versus-a-copy\n",
      "  gene_name_individualid.dropna(subset=['HGNC_Symbol'], inplace=True)\n"
     ]
    }
   ],
   "source": [
    "gene_name_individualid = biomedgraphica_protein[['HGNC_Symbol', 'BioMedGraphica_ID']]\n",
    "gene_name_individualid.dropna(subset=['HGNC_Symbol'], inplace=True)\n",
    "gene_name_to_individualid = gene_name_individualid.assign(HGNC_Symbol=gene_name_individualid['HGNC_Symbol'].str.split(';')).explode('HGNC_Symbol')\n",
    "gene_name_to_individualid = gene_name_to_individualid.groupby('HGNC_Symbol')['BioMedGraphica_ID'].apply(lambda x: ';'.join(x.dropna().unique())).to_dict()\n",
    "\n",
    "kegg_pathway_protein['To_ID'] = kegg_pathway_protein['target'].map(gene_name_to_individualid)"
   ]
  },
  {
   "cell_type": "code",
   "execution_count": 4,
   "metadata": {},
   "outputs": [
    {
     "name": "stderr",
     "output_type": "stream",
     "text": [
      "C:\\Users\\shunn\\AppData\\Local\\Temp\\ipykernel_35680\\3387029024.py:2: SettingWithCopyWarning: \n",
      "A value is trying to be set on a copy of a slice from a DataFrame\n",
      "\n",
      "See the caveats in the documentation: https://pandas.pydata.org/pandas-docs/stable/user_guide/indexing.html#returning-a-view-versus-a-copy\n",
      "  pathway_individualid.dropna(subset=['KEGG_ID'], inplace=True)\n"
     ]
    }
   ],
   "source": [
    "pathway_individualid = biomedgraphica_pathway[['KEGG_ID', 'BioMedGraphica_ID']]\n",
    "pathway_individualid.dropna(subset=['KEGG_ID'], inplace=True)\n",
    "pathway_to_individualid = pathway_individualid.assign(KEGG_ID=pathway_individualid['KEGG_ID'].str.split(';')).explode('KEGG_ID')\n",
    "pathway_to_individualid = pathway_to_individualid.groupby('KEGG_ID')['BioMedGraphica_ID'].apply(lambda x: ';'.join(x.dropna().unique())).to_dict()\n",
    "\n",
    "kegg_pathway_protein['From_ID'] = kegg_pathway_protein['pathway_id'].map(pathway_to_individualid)"
   ]
  },
  {
   "cell_type": "code",
   "execution_count": 5,
   "metadata": {},
   "outputs": [
    {
     "name": "stderr",
     "output_type": "stream",
     "text": [
      "C:\\Users\\shunn\\AppData\\Local\\Temp\\ipykernel_35680\\691334151.py:2: SettingWithCopyWarning: \n",
      "A value is trying to be set on a copy of a slice from a DataFrame\n",
      "\n",
      "See the caveats in the documentation: https://pandas.pydata.org/pandas-docs/stable/user_guide/indexing.html#returning-a-view-versus-a-copy\n",
      "  pathway_protein.dropna(subset=['From_ID'], inplace=True)\n",
      "C:\\Users\\shunn\\AppData\\Local\\Temp\\ipykernel_35680\\691334151.py:3: SettingWithCopyWarning: \n",
      "A value is trying to be set on a copy of a slice from a DataFrame\n",
      "\n",
      "See the caveats in the documentation: https://pandas.pydata.org/pandas-docs/stable/user_guide/indexing.html#returning-a-view-versus-a-copy\n",
      "  pathway_protein.dropna(subset=['To_ID'], inplace=True)\n"
     ]
    },
    {
     "data": {
      "application/vnd.microsoft.datawrangler.viewer.v0+json": {
       "columns": [
        {
         "name": "index",
         "rawType": "int64",
         "type": "integer"
        },
        {
         "name": "From_ID",
         "rawType": "object",
         "type": "string"
        },
        {
         "name": "To_ID",
         "rawType": "object",
         "type": "string"
        }
       ],
       "conversionMethod": "pd.DataFrame",
       "ref": "1aa4d942-c2dc-4e90-a314-9405fdfaf02d",
       "rows": [
        [
         "0",
         "BMG_PW0025;BMG_PW0637;BMG_PW0638",
         "BMG_PT065496"
        ],
        [
         "1",
         "BMG_PW0025;BMG_PW0637;BMG_PW0638",
         "BMG_PT037560;BMG_PT129271;BMG_PT129340;BMG_PT129533;BMG_PT129584;BMG_PT129703;BMG_PT129921;BMG_PT130001;BMG_PT130092;BMG_PT130142;BMG_PT130336;BMG_PT130875;BMG_PT159137;BMG_PT159251;BMG_PT159257;BMG_PT159268;BMG_PT159280;BMG_PT159468;BMG_PT159483;BMG_PT159575;BMG_PT159616;BMG_PT159672;BMG_PT159695;BMG_PT159784"
        ],
        [
         "2",
         "BMG_PW0025;BMG_PW0637;BMG_PW0638",
         "BMG_PT038125;BMG_PT104532;BMG_PT109638;BMG_PT129933;BMG_PT159524"
        ],
        [
         "3",
         "BMG_PW0025;BMG_PW0637;BMG_PW0638",
         "BMG_PT038181;BMG_PT104549;BMG_PT128792;BMG_PT128999;BMG_PT129125;BMG_PT129651;BMG_PT129772;BMG_PT130103;BMG_PT130265"
        ],
        [
         "4",
         "BMG_PW0025;BMG_PW0637;BMG_PW0638",
         "BMG_PT038246;BMG_PT103745;BMG_PT112060;BMG_PT168679;BMG_PT168680"
        ],
        [
         "5",
         "BMG_PW0025;BMG_PW0637;BMG_PW0638",
         "BMG_PT040077"
        ],
        [
         "6",
         "BMG_PW0025;BMG_PW0637;BMG_PW0638",
         "BMG_PT038886;BMG_PT117483;BMG_PT118173"
        ],
        [
         "7",
         "BMG_PW0025;BMG_PW0637;BMG_PW0638",
         "BMG_PT040206;BMG_PT109646;BMG_PT138113"
        ],
        [
         "8",
         "BMG_PW0025;BMG_PW0637;BMG_PW0638",
         "BMG_PT039122;BMG_PT104058;BMG_PT135514;BMG_PT136096;BMG_PT136188;BMG_PT136281;BMG_PT136349;BMG_PT136946;BMG_PT137086;BMG_PT137121;BMG_PT137227;BMG_PT137472;BMG_PT169500;BMG_PT169501"
        ],
        [
         "9",
         "BMG_PW0025;BMG_PW0637;BMG_PW0638",
         "BMG_PT087204"
        ],
        [
         "10",
         "BMG_PW0025;BMG_PW0637;BMG_PW0638",
         "BMG_PT038822;BMG_PT104231;BMG_PT126037;BMG_PT127297;BMG_PT162909;BMG_PT163277;BMG_PT163488;BMG_PT163659;BMG_PT163781;BMG_PT163855;BMG_PT163926;BMG_PT163989;BMG_PT164137;BMG_PT164309;BMG_PT164438"
        ],
        [
         "11",
         "BMG_PW0025;BMG_PW0637;BMG_PW0638",
         "BMG_PT037994;BMG_PT131635;BMG_PT145773"
        ],
        [
         "12",
         "BMG_PW0025;BMG_PW0637;BMG_PW0638",
         "BMG_PT040221;BMG_PT104466;BMG_PT106170;BMG_PT106633;BMG_PT126836;BMG_PT137911;BMG_PT138471;BMG_PT138559;BMG_PT138703"
        ],
        [
         "13",
         "BMG_PW0025;BMG_PW0637;BMG_PW0638",
         "BMG_PT040220;BMG_PT152049"
        ],
        [
         "14",
         "BMG_PW0025;BMG_PW0637;BMG_PW0638",
         "BMG_PT040797;BMG_PT146769;BMG_PT146999;BMG_PT147094;BMG_PT149177;BMG_PT149530"
        ],
        [
         "15",
         "BMG_PW0025;BMG_PW0637;BMG_PW0638",
         "BMG_PT040972;BMG_PT126056;BMG_PT126219;BMG_PT127363;BMG_PT159863;BMG_PT159948;BMG_PT160033;BMG_PT160040"
        ],
        [
         "16",
         "BMG_PW0025;BMG_PW0637;BMG_PW0638",
         "BMG_PT041027"
        ],
        [
         "17",
         "BMG_PW0025;BMG_PW0637;BMG_PW0638",
         "BMG_PT041253;BMG_PT104468;BMG_PT137748;BMG_PT137950;BMG_PT138291;BMG_PT138716;BMG_PT139585;BMG_PT139603;BMG_PT139705;BMG_PT140213;BMG_PT140358;BMG_PT140550;BMG_PT142122;BMG_PT150056;BMG_PT150189;BMG_PT150908;BMG_PT159111;BMG_PT159449;BMG_PT159544;BMG_PT159545;BMG_PT159579;BMG_PT159701;BMG_PT159728"
        ],
        [
         "18",
         "BMG_PW0025;BMG_PW0637;BMG_PW0638",
         "BMG_PT041052;BMG_PT111818;BMG_PT115690;BMG_PT131278;BMG_PT132156;BMG_PT151303;BMG_PT151343;BMG_PT151364;BMG_PT152429;BMG_PT152455;BMG_PT152573;BMG_PT152664;BMG_PT152850;BMG_PT152910;BMG_PT152936;BMG_PT153121;BMG_PT153226;BMG_PT153236;BMG_PT153241;BMG_PT153249;BMG_PT153312"
        ],
        [
         "19",
         "BMG_PW0025;BMG_PW0637;BMG_PW0638",
         "BMG_PT091943;BMG_PT117067;BMG_PT117302;BMG_PT117424;BMG_PT117587;BMG_PT117701;BMG_PT117923;BMG_PT118393;BMG_PT118508;BMG_PT118655"
        ],
        [
         "20",
         "BMG_PW0025;BMG_PW0637;BMG_PW0638",
         "BMG_PT092735;BMG_PT103477"
        ],
        [
         "21",
         "BMG_PW0025;BMG_PW0637;BMG_PW0638",
         "BMG_PT040473"
        ],
        [
         "22",
         "BMG_PW0025;BMG_PW0637;BMG_PW0638",
         "BMG_PT046894;BMG_PT134242;BMG_PT134701;BMG_PT134763;BMG_PT134850;BMG_PT134916;BMG_PT134945;BMG_PT135083;BMG_PT135099;BMG_PT154898;BMG_PT154993;BMG_PT155028;BMG_PT155348;BMG_PT156026;BMG_PT156176;BMG_PT156267;BMG_PT156268"
        ],
        [
         "23",
         "BMG_PW0025;BMG_PW0637;BMG_PW0638",
         "BMG_PT038099;BMG_PT141847;BMG_PT143177;BMG_PT155469;BMG_PT156164;BMG_PT156188;BMG_PT156196;BMG_PT156341;BMG_PT156430;BMG_PT156810"
        ],
        [
         "24",
         "BMG_PW0025;BMG_PW0637;BMG_PW0638",
         "BMG_PT038310;BMG_PT128759;BMG_PT130715;BMG_PT146190;BMG_PT146197"
        ],
        [
         "25",
         "BMG_PW0025;BMG_PW0637;BMG_PW0638",
         "BMG_PT039086;BMG_PT122833;BMG_PT123043;BMG_PT124169;BMG_PT140824;BMG_PT141374;BMG_PT142420;BMG_PT142537"
        ],
        [
         "26",
         "BMG_PW0025;BMG_PW0637;BMG_PW0638",
         "BMG_PT010433;BMG_PT102752"
        ],
        [
         "27",
         "BMG_PW0025;BMG_PW0637;BMG_PW0638",
         "BMG_PT039118;BMG_PT109781;BMG_PT146398;BMG_PT146476"
        ],
        [
         "28",
         "BMG_PW0025;BMG_PW0637;BMG_PW0638",
         "BMG_PT038146"
        ],
        [
         "29",
         "BMG_PW0025;BMG_PW0637;BMG_PW0638",
         "BMG_PT037558"
        ],
        [
         "30",
         "BMG_PW0025;BMG_PW0637;BMG_PW0638",
         "BMG_PT037559;BMG_PT147025;BMG_PT147063"
        ],
        [
         "31",
         "BMG_PW0025;BMG_PW0637;BMG_PW0638",
         "BMG_PT038237;BMG_PT120296;BMG_PT120789;BMG_PT121799;BMG_PT122101;BMG_PT122243"
        ],
        [
         "32",
         "BMG_PW0025;BMG_PW0637;BMG_PW0638",
         "BMG_PT038936;BMG_PT119279;BMG_PT119563;BMG_PT120821;BMG_PT121994;BMG_PT151000"
        ],
        [
         "33",
         "BMG_PW0025;BMG_PW0637;BMG_PW0638",
         "BMG_PT039988;BMG_PT104401;BMG_PT119566;BMG_PT121124;BMG_PT121564"
        ],
        [
         "34",
         "BMG_PW0025;BMG_PW0637;BMG_PW0638",
         "BMG_PT040642;BMG_PT115594;BMG_PT118625;BMG_PT118817"
        ],
        [
         "35",
         "BMG_PW0025;BMG_PW0637;BMG_PW0638",
         "BMG_PT038103;BMG_PT112426;BMG_PT140774;BMG_PT140775;BMG_PT141699;BMG_PT142145;BMG_PT142385;BMG_PT142629;BMG_PT142686;BMG_PT143053;BMG_PT143115;BMG_PT151110;BMG_PT151204;BMG_PT151299;BMG_PT151459;BMG_PT151546;BMG_PT151623;BMG_PT151657;BMG_PT151678;BMG_PT151809;BMG_PT151857;BMG_PT151932;BMG_PT151944;BMG_PT155897;BMG_PT156495"
        ],
        [
         "36",
         "BMG_PW0025;BMG_PW0637;BMG_PW0638",
         "BMG_PT039384;BMG_PT104728;BMG_PT150051"
        ],
        [
         "37",
         "BMG_PW0025;BMG_PW0637;BMG_PW0638",
         "BMG_PT038226;BMG_PT130903;BMG_PT130998;BMG_PT131025;BMG_PT131034;BMG_PT131455;BMG_PT131550;BMG_PT131553;BMG_PT131563;BMG_PT131701;BMG_PT131703;BMG_PT131989;BMG_PT132136;BMG_PT132293;BMG_PT132407;BMG_PT132558;BMG_PT150130;BMG_PT156834"
        ],
        [
         "38",
         "BMG_PW0025;BMG_PW0637;BMG_PW0638",
         "BMG_PT042571;BMG_PT103849;BMG_PT105397;BMG_PT105990;BMG_PT113657;BMG_PT114162;BMG_PT146266;BMG_PT146529;BMG_PT161556;BMG_PT162021;BMG_PT162707;BMG_PT169756"
        ],
        [
         "39",
         "BMG_PW0025;BMG_PW0637;BMG_PW0638",
         "BMG_PT040544;BMG_PT157665"
        ],
        [
         "40",
         "BMG_PW0025;BMG_PW0637;BMG_PW0638",
         "BMG_PT081067;BMG_PT119899;BMG_PT120139;BMG_PT121352;BMG_PT121837;BMG_PT149947"
        ],
        [
         "41",
         "BMG_PW0025;BMG_PW0637;BMG_PW0638",
         "BMG_PT037893;BMG_PT104428;BMG_PT135412;BMG_PT136009;BMG_PT136259;BMG_PT136360;BMG_PT136411;BMG_PT137281;BMG_PT137361"
        ],
        [
         "42",
         "BMG_PW0025;BMG_PW0637;BMG_PW0638",
         "BMG_PT037990;BMG_PT157248;BMG_PT157797"
        ],
        [
         "43",
         "BMG_PW0025;BMG_PW0637;BMG_PW0638",
         "BMG_PT038383;BMG_PT104435;BMG_PT109999;BMG_PT139422;BMG_PT139697;BMG_PT139732;BMG_PT141331"
        ],
        [
         "44",
         "BMG_PW0025;BMG_PW0637;BMG_PW0638",
         "BMG_PT041791;BMG_PT145919;BMG_PT145975;BMG_PT146111"
        ],
        [
         "45",
         "BMG_PW0025;BMG_PW0637;BMG_PW0638",
         "BMG_PT037935;BMG_PT104604"
        ],
        [
         "46",
         "BMG_PW0025;BMG_PW0637;BMG_PW0638",
         "BMG_PT033453;BMG_PT141867;BMG_PT142411"
        ],
        [
         "47",
         "BMG_PW0025;BMG_PW0637;BMG_PW0638",
         "BMG_PT072021"
        ],
        [
         "48",
         "BMG_PW0025;BMG_PW0637;BMG_PW0638",
         "BMG_PT039433"
        ],
        [
         "49",
         "BMG_PW0025;BMG_PW0637;BMG_PW0638",
         "BMG_PT039178"
        ]
       ],
       "shape": {
        "columns": 2,
        "rows": 24368
       }
      },
      "text/html": [
       "<div>\n",
       "<style scoped>\n",
       "    .dataframe tbody tr th:only-of-type {\n",
       "        vertical-align: middle;\n",
       "    }\n",
       "\n",
       "    .dataframe tbody tr th {\n",
       "        vertical-align: top;\n",
       "    }\n",
       "\n",
       "    .dataframe thead th {\n",
       "        text-align: right;\n",
       "    }\n",
       "</style>\n",
       "<table border=\"1\" class=\"dataframe\">\n",
       "  <thead>\n",
       "    <tr style=\"text-align: right;\">\n",
       "      <th></th>\n",
       "      <th>From_ID</th>\n",
       "      <th>To_ID</th>\n",
       "    </tr>\n",
       "  </thead>\n",
       "  <tbody>\n",
       "    <tr>\n",
       "      <th>0</th>\n",
       "      <td>BMG_PW0025;BMG_PW0637;BMG_PW0638</td>\n",
       "      <td>BMG_PT065496</td>\n",
       "    </tr>\n",
       "    <tr>\n",
       "      <th>1</th>\n",
       "      <td>BMG_PW0025;BMG_PW0637;BMG_PW0638</td>\n",
       "      <td>BMG_PT037560;BMG_PT129271;BMG_PT129340;BMG_PT1...</td>\n",
       "    </tr>\n",
       "    <tr>\n",
       "      <th>2</th>\n",
       "      <td>BMG_PW0025;BMG_PW0637;BMG_PW0638</td>\n",
       "      <td>BMG_PT038125;BMG_PT104532;BMG_PT109638;BMG_PT1...</td>\n",
       "    </tr>\n",
       "    <tr>\n",
       "      <th>3</th>\n",
       "      <td>BMG_PW0025;BMG_PW0637;BMG_PW0638</td>\n",
       "      <td>BMG_PT038181;BMG_PT104549;BMG_PT128792;BMG_PT1...</td>\n",
       "    </tr>\n",
       "    <tr>\n",
       "      <th>4</th>\n",
       "      <td>BMG_PW0025;BMG_PW0637;BMG_PW0638</td>\n",
       "      <td>BMG_PT038246;BMG_PT103745;BMG_PT112060;BMG_PT1...</td>\n",
       "    </tr>\n",
       "    <tr>\n",
       "      <th>...</th>\n",
       "      <td>...</td>\n",
       "      <td>...</td>\n",
       "    </tr>\n",
       "    <tr>\n",
       "      <th>24363</th>\n",
       "      <td>BMG_PW1028</td>\n",
       "      <td>BMG_PT098278</td>\n",
       "    </tr>\n",
       "    <tr>\n",
       "      <th>24364</th>\n",
       "      <td>BMG_PW1028</td>\n",
       "      <td>BMG_PT040826;BMG_PT123498;BMG_PT150608;BMG_PT1...</td>\n",
       "    </tr>\n",
       "    <tr>\n",
       "      <th>24365</th>\n",
       "      <td>BMG_PW1028</td>\n",
       "      <td>BMG_PT040536;BMG_PT151440;BMG_PT152407;BMG_PT1...</td>\n",
       "    </tr>\n",
       "    <tr>\n",
       "      <th>24366</th>\n",
       "      <td>BMG_PW1028</td>\n",
       "      <td>BMG_PT039380;BMG_PT152441;BMG_PT152989</td>\n",
       "    </tr>\n",
       "    <tr>\n",
       "      <th>24367</th>\n",
       "      <td>BMG_PW1028</td>\n",
       "      <td>BMG_PT046311;BMG_PT126821</td>\n",
       "    </tr>\n",
       "  </tbody>\n",
       "</table>\n",
       "<p>24368 rows × 2 columns</p>\n",
       "</div>"
      ],
      "text/plain": [
       "                                From_ID  \\\n",
       "0      BMG_PW0025;BMG_PW0637;BMG_PW0638   \n",
       "1      BMG_PW0025;BMG_PW0637;BMG_PW0638   \n",
       "2      BMG_PW0025;BMG_PW0637;BMG_PW0638   \n",
       "3      BMG_PW0025;BMG_PW0637;BMG_PW0638   \n",
       "4      BMG_PW0025;BMG_PW0637;BMG_PW0638   \n",
       "...                                 ...   \n",
       "24363                        BMG_PW1028   \n",
       "24364                        BMG_PW1028   \n",
       "24365                        BMG_PW1028   \n",
       "24366                        BMG_PW1028   \n",
       "24367                        BMG_PW1028   \n",
       "\n",
       "                                                   To_ID  \n",
       "0                                           BMG_PT065496  \n",
       "1      BMG_PT037560;BMG_PT129271;BMG_PT129340;BMG_PT1...  \n",
       "2      BMG_PT038125;BMG_PT104532;BMG_PT109638;BMG_PT1...  \n",
       "3      BMG_PT038181;BMG_PT104549;BMG_PT128792;BMG_PT1...  \n",
       "4      BMG_PT038246;BMG_PT103745;BMG_PT112060;BMG_PT1...  \n",
       "...                                                  ...  \n",
       "24363                                       BMG_PT098278  \n",
       "24364  BMG_PT040826;BMG_PT123498;BMG_PT150608;BMG_PT1...  \n",
       "24365  BMG_PT040536;BMG_PT151440;BMG_PT152407;BMG_PT1...  \n",
       "24366             BMG_PT039380;BMG_PT152441;BMG_PT152989  \n",
       "24367                          BMG_PT046311;BMG_PT126821  \n",
       "\n",
       "[24368 rows x 2 columns]"
      ]
     },
     "execution_count": 5,
     "metadata": {},
     "output_type": "execute_result"
    }
   ],
   "source": [
    "pathway_protein = kegg_pathway_protein[['From_ID', 'To_ID']]\n",
    "pathway_protein.dropna(subset=['From_ID'], inplace=True)\n",
    "pathway_protein.dropna(subset=['To_ID'], inplace=True)\n",
    "pathway_protein.reset_index(drop=True, inplace=True)\n",
    "pathway_protein"
   ]
  },
  {
   "cell_type": "code",
   "execution_count": 6,
   "metadata": {},
   "outputs": [
    {
     "name": "stderr",
     "output_type": "stream",
     "text": [
      "C:\\Users\\shunn\\AppData\\Local\\Temp\\ipykernel_35680\\2912749968.py:1: SettingWithCopyWarning: \n",
      "A value is trying to be set on a copy of a slice from a DataFrame.\n",
      "Try using .loc[row_indexer,col_indexer] = value instead\n",
      "\n",
      "See the caveats in the documentation: https://pandas.pydata.org/pandas-docs/stable/user_guide/indexing.html#returning-a-view-versus-a-copy\n",
      "  pathway_protein['From_ID'] = pathway_protein['From_ID'].str.split(';')\n",
      "C:\\Users\\shunn\\AppData\\Local\\Temp\\ipykernel_35680\\2912749968.py:2: SettingWithCopyWarning: \n",
      "A value is trying to be set on a copy of a slice from a DataFrame.\n",
      "Try using .loc[row_indexer,col_indexer] = value instead\n",
      "\n",
      "See the caveats in the documentation: https://pandas.pydata.org/pandas-docs/stable/user_guide/indexing.html#returning-a-view-versus-a-copy\n",
      "  pathway_protein['To_ID'] = pathway_protein['To_ID'].str.split(';')\n"
     ]
    },
    {
     "data": {
      "application/vnd.microsoft.datawrangler.viewer.v0+json": {
       "columns": [
        {
         "name": "index",
         "rawType": "int64",
         "type": "integer"
        },
        {
         "name": "From_ID",
         "rawType": "object",
         "type": "string"
        },
        {
         "name": "To_ID",
         "rawType": "object",
         "type": "string"
        }
       ],
       "conversionMethod": "pd.DataFrame",
       "ref": "78bc8a74-b017-4288-9eaa-390db23398f5",
       "rows": [
        [
         "0",
         "BMG_PW0025",
         "BMG_PT065496"
        ],
        [
         "1",
         "BMG_PW0637",
         "BMG_PT065496"
        ],
        [
         "2",
         "BMG_PW0638",
         "BMG_PT065496"
        ],
        [
         "3",
         "BMG_PW0025",
         "BMG_PT037560"
        ],
        [
         "4",
         "BMG_PW0025",
         "BMG_PT129271"
        ],
        [
         "5",
         "BMG_PW0025",
         "BMG_PT129340"
        ],
        [
         "6",
         "BMG_PW0025",
         "BMG_PT129533"
        ],
        [
         "7",
         "BMG_PW0025",
         "BMG_PT129584"
        ],
        [
         "8",
         "BMG_PW0025",
         "BMG_PT129703"
        ],
        [
         "9",
         "BMG_PW0025",
         "BMG_PT129921"
        ],
        [
         "10",
         "BMG_PW0025",
         "BMG_PT130001"
        ],
        [
         "11",
         "BMG_PW0025",
         "BMG_PT130092"
        ],
        [
         "12",
         "BMG_PW0025",
         "BMG_PT130142"
        ],
        [
         "13",
         "BMG_PW0025",
         "BMG_PT130336"
        ],
        [
         "14",
         "BMG_PW0025",
         "BMG_PT130875"
        ],
        [
         "15",
         "BMG_PW0025",
         "BMG_PT159137"
        ],
        [
         "16",
         "BMG_PW0025",
         "BMG_PT159251"
        ],
        [
         "17",
         "BMG_PW0025",
         "BMG_PT159257"
        ],
        [
         "18",
         "BMG_PW0025",
         "BMG_PT159268"
        ],
        [
         "19",
         "BMG_PW0025",
         "BMG_PT159280"
        ],
        [
         "20",
         "BMG_PW0025",
         "BMG_PT159468"
        ],
        [
         "21",
         "BMG_PW0025",
         "BMG_PT159483"
        ],
        [
         "22",
         "BMG_PW0025",
         "BMG_PT159575"
        ],
        [
         "23",
         "BMG_PW0025",
         "BMG_PT159616"
        ],
        [
         "24",
         "BMG_PW0025",
         "BMG_PT159672"
        ],
        [
         "25",
         "BMG_PW0025",
         "BMG_PT159695"
        ],
        [
         "26",
         "BMG_PW0025",
         "BMG_PT159784"
        ],
        [
         "27",
         "BMG_PW0637",
         "BMG_PT037560"
        ],
        [
         "28",
         "BMG_PW0637",
         "BMG_PT129271"
        ],
        [
         "29",
         "BMG_PW0637",
         "BMG_PT129340"
        ],
        [
         "30",
         "BMG_PW0637",
         "BMG_PT129533"
        ],
        [
         "31",
         "BMG_PW0637",
         "BMG_PT129584"
        ],
        [
         "32",
         "BMG_PW0637",
         "BMG_PT129703"
        ],
        [
         "33",
         "BMG_PW0637",
         "BMG_PT129921"
        ],
        [
         "34",
         "BMG_PW0637",
         "BMG_PT130001"
        ],
        [
         "35",
         "BMG_PW0637",
         "BMG_PT130092"
        ],
        [
         "36",
         "BMG_PW0637",
         "BMG_PT130142"
        ],
        [
         "37",
         "BMG_PW0637",
         "BMG_PT130336"
        ],
        [
         "38",
         "BMG_PW0637",
         "BMG_PT130875"
        ],
        [
         "39",
         "BMG_PW0637",
         "BMG_PT159137"
        ],
        [
         "40",
         "BMG_PW0637",
         "BMG_PT159251"
        ],
        [
         "41",
         "BMG_PW0637",
         "BMG_PT159257"
        ],
        [
         "42",
         "BMG_PW0637",
         "BMG_PT159268"
        ],
        [
         "43",
         "BMG_PW0637",
         "BMG_PT159280"
        ],
        [
         "44",
         "BMG_PW0637",
         "BMG_PT159468"
        ],
        [
         "45",
         "BMG_PW0637",
         "BMG_PT159483"
        ],
        [
         "46",
         "BMG_PW0637",
         "BMG_PT159575"
        ],
        [
         "47",
         "BMG_PW0637",
         "BMG_PT159616"
        ],
        [
         "48",
         "BMG_PW0637",
         "BMG_PT159672"
        ],
        [
         "49",
         "BMG_PW0637",
         "BMG_PT159695"
        ]
       ],
       "shape": {
        "columns": 2,
        "rows": 176133
       }
      },
      "text/html": [
       "<div>\n",
       "<style scoped>\n",
       "    .dataframe tbody tr th:only-of-type {\n",
       "        vertical-align: middle;\n",
       "    }\n",
       "\n",
       "    .dataframe tbody tr th {\n",
       "        vertical-align: top;\n",
       "    }\n",
       "\n",
       "    .dataframe thead th {\n",
       "        text-align: right;\n",
       "    }\n",
       "</style>\n",
       "<table border=\"1\" class=\"dataframe\">\n",
       "  <thead>\n",
       "    <tr style=\"text-align: right;\">\n",
       "      <th></th>\n",
       "      <th>From_ID</th>\n",
       "      <th>To_ID</th>\n",
       "    </tr>\n",
       "  </thead>\n",
       "  <tbody>\n",
       "    <tr>\n",
       "      <th>0</th>\n",
       "      <td>BMG_PW0025</td>\n",
       "      <td>BMG_PT065496</td>\n",
       "    </tr>\n",
       "    <tr>\n",
       "      <th>1</th>\n",
       "      <td>BMG_PW0637</td>\n",
       "      <td>BMG_PT065496</td>\n",
       "    </tr>\n",
       "    <tr>\n",
       "      <th>2</th>\n",
       "      <td>BMG_PW0638</td>\n",
       "      <td>BMG_PT065496</td>\n",
       "    </tr>\n",
       "    <tr>\n",
       "      <th>3</th>\n",
       "      <td>BMG_PW0025</td>\n",
       "      <td>BMG_PT037560</td>\n",
       "    </tr>\n",
       "    <tr>\n",
       "      <th>4</th>\n",
       "      <td>BMG_PW0025</td>\n",
       "      <td>BMG_PT129271</td>\n",
       "    </tr>\n",
       "    <tr>\n",
       "      <th>...</th>\n",
       "      <td>...</td>\n",
       "      <td>...</td>\n",
       "    </tr>\n",
       "    <tr>\n",
       "      <th>176128</th>\n",
       "      <td>BMG_PW1028</td>\n",
       "      <td>BMG_PT039380</td>\n",
       "    </tr>\n",
       "    <tr>\n",
       "      <th>176129</th>\n",
       "      <td>BMG_PW1028</td>\n",
       "      <td>BMG_PT152441</td>\n",
       "    </tr>\n",
       "    <tr>\n",
       "      <th>176130</th>\n",
       "      <td>BMG_PW1028</td>\n",
       "      <td>BMG_PT152989</td>\n",
       "    </tr>\n",
       "    <tr>\n",
       "      <th>176131</th>\n",
       "      <td>BMG_PW1028</td>\n",
       "      <td>BMG_PT046311</td>\n",
       "    </tr>\n",
       "    <tr>\n",
       "      <th>176132</th>\n",
       "      <td>BMG_PW1028</td>\n",
       "      <td>BMG_PT126821</td>\n",
       "    </tr>\n",
       "  </tbody>\n",
       "</table>\n",
       "<p>176133 rows × 2 columns</p>\n",
       "</div>"
      ],
      "text/plain": [
       "           From_ID         To_ID\n",
       "0       BMG_PW0025  BMG_PT065496\n",
       "1       BMG_PW0637  BMG_PT065496\n",
       "2       BMG_PW0638  BMG_PT065496\n",
       "3       BMG_PW0025  BMG_PT037560\n",
       "4       BMG_PW0025  BMG_PT129271\n",
       "...            ...           ...\n",
       "176128  BMG_PW1028  BMG_PT039380\n",
       "176129  BMG_PW1028  BMG_PT152441\n",
       "176130  BMG_PW1028  BMG_PT152989\n",
       "176131  BMG_PW1028  BMG_PT046311\n",
       "176132  BMG_PW1028  BMG_PT126821\n",
       "\n",
       "[176133 rows x 2 columns]"
      ]
     },
     "execution_count": 6,
     "metadata": {},
     "output_type": "execute_result"
    }
   ],
   "source": [
    "pathway_protein['From_ID'] = pathway_protein['From_ID'].str.split(';')\n",
    "pathway_protein['To_ID'] = pathway_protein['To_ID'].str.split(';')\n",
    "\n",
    "pathway_protein = pathway_protein.explode('From_ID')\n",
    "pathway_protein = pathway_protein.explode('To_ID')\n",
    "\n",
    "pathway_protein.drop_duplicates(inplace=True)\n",
    "pathway_protein.reset_index(drop=True, inplace=True)\n",
    "pathway_protein"
   ]
  },
  {
   "cell_type": "markdown",
   "metadata": {},
   "source": [
    "### Pathway-Protein Relation"
   ]
  },
  {
   "cell_type": "code",
   "execution_count": 7,
   "metadata": {},
   "outputs": [
    {
     "data": {
      "application/vnd.microsoft.datawrangler.viewer.v0+json": {
       "columns": [
        {
         "name": "index",
         "rawType": "int64",
         "type": "integer"
        },
        {
         "name": "BioMedGraphica_ID",
         "rawType": "object",
         "type": "string"
        },
        {
         "name": "From_ID",
         "rawType": "object",
         "type": "string"
        },
        {
         "name": "To_ID",
         "rawType": "object",
         "type": "string"
        },
        {
         "name": "Type",
         "rawType": "object",
         "type": "string"
        },
        {
         "name": "Source",
         "rawType": "object",
         "type": "string"
        }
       ],
       "conversionMethod": "pd.DataFrame",
       "ref": "46d34b2e-7964-4e40-bb90-36b615282030",
       "rows": [
        [
         "0",
         "BMG_ED_PWPT000001",
         "BMG_PW0025",
         "BMG_PT065496",
         "Pathway-Protein",
         "KEGG"
        ],
        [
         "1",
         "BMG_ED_PWPT000002",
         "BMG_PW0637",
         "BMG_PT065496",
         "Pathway-Protein",
         "KEGG"
        ],
        [
         "2",
         "BMG_ED_PWPT000003",
         "BMG_PW0638",
         "BMG_PT065496",
         "Pathway-Protein",
         "KEGG"
        ],
        [
         "3",
         "BMG_ED_PWPT000004",
         "BMG_PW0025",
         "BMG_PT037560",
         "Pathway-Protein",
         "KEGG"
        ],
        [
         "4",
         "BMG_ED_PWPT000005",
         "BMG_PW0025",
         "BMG_PT129271",
         "Pathway-Protein",
         "KEGG"
        ],
        [
         "5",
         "BMG_ED_PWPT000006",
         "BMG_PW0025",
         "BMG_PT129340",
         "Pathway-Protein",
         "KEGG"
        ],
        [
         "6",
         "BMG_ED_PWPT000007",
         "BMG_PW0025",
         "BMG_PT129533",
         "Pathway-Protein",
         "KEGG"
        ],
        [
         "7",
         "BMG_ED_PWPT000008",
         "BMG_PW0025",
         "BMG_PT129584",
         "Pathway-Protein",
         "KEGG"
        ],
        [
         "8",
         "BMG_ED_PWPT000009",
         "BMG_PW0025",
         "BMG_PT129703",
         "Pathway-Protein",
         "KEGG"
        ],
        [
         "9",
         "BMG_ED_PWPT000010",
         "BMG_PW0025",
         "BMG_PT129921",
         "Pathway-Protein",
         "KEGG"
        ],
        [
         "10",
         "BMG_ED_PWPT000011",
         "BMG_PW0025",
         "BMG_PT130001",
         "Pathway-Protein",
         "KEGG"
        ],
        [
         "11",
         "BMG_ED_PWPT000012",
         "BMG_PW0025",
         "BMG_PT130092",
         "Pathway-Protein",
         "KEGG"
        ],
        [
         "12",
         "BMG_ED_PWPT000013",
         "BMG_PW0025",
         "BMG_PT130142",
         "Pathway-Protein",
         "KEGG"
        ],
        [
         "13",
         "BMG_ED_PWPT000014",
         "BMG_PW0025",
         "BMG_PT130336",
         "Pathway-Protein",
         "KEGG"
        ],
        [
         "14",
         "BMG_ED_PWPT000015",
         "BMG_PW0025",
         "BMG_PT130875",
         "Pathway-Protein",
         "KEGG"
        ],
        [
         "15",
         "BMG_ED_PWPT000016",
         "BMG_PW0025",
         "BMG_PT159137",
         "Pathway-Protein",
         "KEGG"
        ],
        [
         "16",
         "BMG_ED_PWPT000017",
         "BMG_PW0025",
         "BMG_PT159251",
         "Pathway-Protein",
         "KEGG"
        ],
        [
         "17",
         "BMG_ED_PWPT000018",
         "BMG_PW0025",
         "BMG_PT159257",
         "Pathway-Protein",
         "KEGG"
        ],
        [
         "18",
         "BMG_ED_PWPT000019",
         "BMG_PW0025",
         "BMG_PT159268",
         "Pathway-Protein",
         "KEGG"
        ],
        [
         "19",
         "BMG_ED_PWPT000020",
         "BMG_PW0025",
         "BMG_PT159280",
         "Pathway-Protein",
         "KEGG"
        ],
        [
         "20",
         "BMG_ED_PWPT000021",
         "BMG_PW0025",
         "BMG_PT159468",
         "Pathway-Protein",
         "KEGG"
        ],
        [
         "21",
         "BMG_ED_PWPT000022",
         "BMG_PW0025",
         "BMG_PT159483",
         "Pathway-Protein",
         "KEGG"
        ],
        [
         "22",
         "BMG_ED_PWPT000023",
         "BMG_PW0025",
         "BMG_PT159575",
         "Pathway-Protein",
         "KEGG"
        ],
        [
         "23",
         "BMG_ED_PWPT000024",
         "BMG_PW0025",
         "BMG_PT159616",
         "Pathway-Protein",
         "KEGG"
        ],
        [
         "24",
         "BMG_ED_PWPT000025",
         "BMG_PW0025",
         "BMG_PT159672",
         "Pathway-Protein",
         "KEGG"
        ],
        [
         "25",
         "BMG_ED_PWPT000026",
         "BMG_PW0025",
         "BMG_PT159695",
         "Pathway-Protein",
         "KEGG"
        ],
        [
         "26",
         "BMG_ED_PWPT000027",
         "BMG_PW0025",
         "BMG_PT159784",
         "Pathway-Protein",
         "KEGG"
        ],
        [
         "27",
         "BMG_ED_PWPT000028",
         "BMG_PW0637",
         "BMG_PT037560",
         "Pathway-Protein",
         "KEGG"
        ],
        [
         "28",
         "BMG_ED_PWPT000029",
         "BMG_PW0637",
         "BMG_PT129271",
         "Pathway-Protein",
         "KEGG"
        ],
        [
         "29",
         "BMG_ED_PWPT000030",
         "BMG_PW0637",
         "BMG_PT129340",
         "Pathway-Protein",
         "KEGG"
        ],
        [
         "30",
         "BMG_ED_PWPT000031",
         "BMG_PW0637",
         "BMG_PT129533",
         "Pathway-Protein",
         "KEGG"
        ],
        [
         "31",
         "BMG_ED_PWPT000032",
         "BMG_PW0637",
         "BMG_PT129584",
         "Pathway-Protein",
         "KEGG"
        ],
        [
         "32",
         "BMG_ED_PWPT000033",
         "BMG_PW0637",
         "BMG_PT129703",
         "Pathway-Protein",
         "KEGG"
        ],
        [
         "33",
         "BMG_ED_PWPT000034",
         "BMG_PW0637",
         "BMG_PT129921",
         "Pathway-Protein",
         "KEGG"
        ],
        [
         "34",
         "BMG_ED_PWPT000035",
         "BMG_PW0637",
         "BMG_PT130001",
         "Pathway-Protein",
         "KEGG"
        ],
        [
         "35",
         "BMG_ED_PWPT000036",
         "BMG_PW0637",
         "BMG_PT130092",
         "Pathway-Protein",
         "KEGG"
        ],
        [
         "36",
         "BMG_ED_PWPT000037",
         "BMG_PW0637",
         "BMG_PT130142",
         "Pathway-Protein",
         "KEGG"
        ],
        [
         "37",
         "BMG_ED_PWPT000038",
         "BMG_PW0637",
         "BMG_PT130336",
         "Pathway-Protein",
         "KEGG"
        ],
        [
         "38",
         "BMG_ED_PWPT000039",
         "BMG_PW0637",
         "BMG_PT130875",
         "Pathway-Protein",
         "KEGG"
        ],
        [
         "39",
         "BMG_ED_PWPT000040",
         "BMG_PW0637",
         "BMG_PT159137",
         "Pathway-Protein",
         "KEGG"
        ],
        [
         "40",
         "BMG_ED_PWPT000041",
         "BMG_PW0637",
         "BMG_PT159251",
         "Pathway-Protein",
         "KEGG"
        ],
        [
         "41",
         "BMG_ED_PWPT000042",
         "BMG_PW0637",
         "BMG_PT159257",
         "Pathway-Protein",
         "KEGG"
        ],
        [
         "42",
         "BMG_ED_PWPT000043",
         "BMG_PW0637",
         "BMG_PT159268",
         "Pathway-Protein",
         "KEGG"
        ],
        [
         "43",
         "BMG_ED_PWPT000044",
         "BMG_PW0637",
         "BMG_PT159280",
         "Pathway-Protein",
         "KEGG"
        ],
        [
         "44",
         "BMG_ED_PWPT000045",
         "BMG_PW0637",
         "BMG_PT159468",
         "Pathway-Protein",
         "KEGG"
        ],
        [
         "45",
         "BMG_ED_PWPT000046",
         "BMG_PW0637",
         "BMG_PT159483",
         "Pathway-Protein",
         "KEGG"
        ],
        [
         "46",
         "BMG_ED_PWPT000047",
         "BMG_PW0637",
         "BMG_PT159575",
         "Pathway-Protein",
         "KEGG"
        ],
        [
         "47",
         "BMG_ED_PWPT000048",
         "BMG_PW0637",
         "BMG_PT159616",
         "Pathway-Protein",
         "KEGG"
        ],
        [
         "48",
         "BMG_ED_PWPT000049",
         "BMG_PW0637",
         "BMG_PT159672",
         "Pathway-Protein",
         "KEGG"
        ],
        [
         "49",
         "BMG_ED_PWPT000050",
         "BMG_PW0637",
         "BMG_PT159695",
         "Pathway-Protein",
         "KEGG"
        ]
       ],
       "shape": {
        "columns": 5,
        "rows": 176133
       }
      },
      "text/html": [
       "<div>\n",
       "<style scoped>\n",
       "    .dataframe tbody tr th:only-of-type {\n",
       "        vertical-align: middle;\n",
       "    }\n",
       "\n",
       "    .dataframe tbody tr th {\n",
       "        vertical-align: top;\n",
       "    }\n",
       "\n",
       "    .dataframe thead th {\n",
       "        text-align: right;\n",
       "    }\n",
       "</style>\n",
       "<table border=\"1\" class=\"dataframe\">\n",
       "  <thead>\n",
       "    <tr style=\"text-align: right;\">\n",
       "      <th></th>\n",
       "      <th>BioMedGraphica_ID</th>\n",
       "      <th>From_ID</th>\n",
       "      <th>To_ID</th>\n",
       "      <th>Type</th>\n",
       "      <th>Source</th>\n",
       "    </tr>\n",
       "  </thead>\n",
       "  <tbody>\n",
       "    <tr>\n",
       "      <th>0</th>\n",
       "      <td>BMG_ED_PWPT000001</td>\n",
       "      <td>BMG_PW0025</td>\n",
       "      <td>BMG_PT065496</td>\n",
       "      <td>Pathway-Protein</td>\n",
       "      <td>KEGG</td>\n",
       "    </tr>\n",
       "    <tr>\n",
       "      <th>1</th>\n",
       "      <td>BMG_ED_PWPT000002</td>\n",
       "      <td>BMG_PW0637</td>\n",
       "      <td>BMG_PT065496</td>\n",
       "      <td>Pathway-Protein</td>\n",
       "      <td>KEGG</td>\n",
       "    </tr>\n",
       "    <tr>\n",
       "      <th>2</th>\n",
       "      <td>BMG_ED_PWPT000003</td>\n",
       "      <td>BMG_PW0638</td>\n",
       "      <td>BMG_PT065496</td>\n",
       "      <td>Pathway-Protein</td>\n",
       "      <td>KEGG</td>\n",
       "    </tr>\n",
       "    <tr>\n",
       "      <th>3</th>\n",
       "      <td>BMG_ED_PWPT000004</td>\n",
       "      <td>BMG_PW0025</td>\n",
       "      <td>BMG_PT037560</td>\n",
       "      <td>Pathway-Protein</td>\n",
       "      <td>KEGG</td>\n",
       "    </tr>\n",
       "    <tr>\n",
       "      <th>4</th>\n",
       "      <td>BMG_ED_PWPT000005</td>\n",
       "      <td>BMG_PW0025</td>\n",
       "      <td>BMG_PT129271</td>\n",
       "      <td>Pathway-Protein</td>\n",
       "      <td>KEGG</td>\n",
       "    </tr>\n",
       "    <tr>\n",
       "      <th>...</th>\n",
       "      <td>...</td>\n",
       "      <td>...</td>\n",
       "      <td>...</td>\n",
       "      <td>...</td>\n",
       "      <td>...</td>\n",
       "    </tr>\n",
       "    <tr>\n",
       "      <th>176128</th>\n",
       "      <td>BMG_ED_PWPT176129</td>\n",
       "      <td>BMG_PW1028</td>\n",
       "      <td>BMG_PT039380</td>\n",
       "      <td>Pathway-Protein</td>\n",
       "      <td>KEGG</td>\n",
       "    </tr>\n",
       "    <tr>\n",
       "      <th>176129</th>\n",
       "      <td>BMG_ED_PWPT176130</td>\n",
       "      <td>BMG_PW1028</td>\n",
       "      <td>BMG_PT152441</td>\n",
       "      <td>Pathway-Protein</td>\n",
       "      <td>KEGG</td>\n",
       "    </tr>\n",
       "    <tr>\n",
       "      <th>176130</th>\n",
       "      <td>BMG_ED_PWPT176131</td>\n",
       "      <td>BMG_PW1028</td>\n",
       "      <td>BMG_PT152989</td>\n",
       "      <td>Pathway-Protein</td>\n",
       "      <td>KEGG</td>\n",
       "    </tr>\n",
       "    <tr>\n",
       "      <th>176131</th>\n",
       "      <td>BMG_ED_PWPT176132</td>\n",
       "      <td>BMG_PW1028</td>\n",
       "      <td>BMG_PT046311</td>\n",
       "      <td>Pathway-Protein</td>\n",
       "      <td>KEGG</td>\n",
       "    </tr>\n",
       "    <tr>\n",
       "      <th>176132</th>\n",
       "      <td>BMG_ED_PWPT176133</td>\n",
       "      <td>BMG_PW1028</td>\n",
       "      <td>BMG_PT126821</td>\n",
       "      <td>Pathway-Protein</td>\n",
       "      <td>KEGG</td>\n",
       "    </tr>\n",
       "  </tbody>\n",
       "</table>\n",
       "<p>176133 rows × 5 columns</p>\n",
       "</div>"
      ],
      "text/plain": [
       "        BioMedGraphica_ID     From_ID         To_ID             Type Source\n",
       "0       BMG_ED_PWPT000001  BMG_PW0025  BMG_PT065496  Pathway-Protein   KEGG\n",
       "1       BMG_ED_PWPT000002  BMG_PW0637  BMG_PT065496  Pathway-Protein   KEGG\n",
       "2       BMG_ED_PWPT000003  BMG_PW0638  BMG_PT065496  Pathway-Protein   KEGG\n",
       "3       BMG_ED_PWPT000004  BMG_PW0025  BMG_PT037560  Pathway-Protein   KEGG\n",
       "4       BMG_ED_PWPT000005  BMG_PW0025  BMG_PT129271  Pathway-Protein   KEGG\n",
       "...                   ...         ...           ...              ...    ...\n",
       "176128  BMG_ED_PWPT176129  BMG_PW1028  BMG_PT039380  Pathway-Protein   KEGG\n",
       "176129  BMG_ED_PWPT176130  BMG_PW1028  BMG_PT152441  Pathway-Protein   KEGG\n",
       "176130  BMG_ED_PWPT176131  BMG_PW1028  BMG_PT152989  Pathway-Protein   KEGG\n",
       "176131  BMG_ED_PWPT176132  BMG_PW1028  BMG_PT046311  Pathway-Protein   KEGG\n",
       "176132  BMG_ED_PWPT176133  BMG_PW1028  BMG_PT126821  Pathway-Protein   KEGG\n",
       "\n",
       "[176133 rows x 5 columns]"
      ]
     },
     "execution_count": 7,
     "metadata": {},
     "output_type": "execute_result"
    }
   ],
   "source": [
    "pathway_protein['Type'] = 'Pathway-Protein'\n",
    "pathway_protein['Source'] = 'KEGG'\n",
    "\n",
    "max_length = len(str(len(pathway_protein)))\n",
    "pathway_protein['BioMedGraphica_ID'] = ['BMG_ED_PWPT' + str(i).zfill(max_length) for i in range(1, len(pathway_protein) + 1)]\n",
    "columns = ['BioMedGraphica_ID'] + [col for col in pathway_protein.columns if col != 'BioMedGraphica_ID']  # re-order columns\n",
    "pathway_protein = pathway_protein[columns]\n",
    "pathway_protein"
   ]
  },
  {
   "cell_type": "code",
   "execution_count": 8,
   "metadata": {},
   "outputs": [
    {
     "name": "stdout",
     "output_type": "stream",
     "text": [
      "Data has been saved to D:\\RA\\BMG\\BioMedGraphica\\Relation\\Pathway-Protein\\BioMedGraphica_Pathway_Protein.csv\n"
     ]
    }
   ],
   "source": [
    "import os\n",
    "from pathlib import Path\n",
    "\n",
    "# get the current working directory\n",
    "current_working_dir = Path(os.getcwd()).resolve()\n",
    "\n",
    "# get the output directory\n",
    "grandparent_dir = current_working_dir.parent.parent.parent\n",
    "\n",
    "target_folder = grandparent_dir / 'BioMedGraphica' / 'Relation' / 'Pathway-Protein'\n",
    "if not target_folder.exists():\n",
    "    target_folder.mkdir(parents=True)\n",
    "    print(f\"Folder {target_folder} has been created.\")\n",
    "\n",
    "output_file_path = target_folder / 'BioMedGraphica_Pathway_Protein.csv'\n",
    "pathway_protein.to_csv(output_file_path, index=False)\n",
    "print(f\"Data has been saved to {output_file_path}\")"
   ]
  }
 ],
 "metadata": {
  "kernelspec": {
   "display_name": "base",
   "language": "python",
   "name": "python3"
  },
  "language_info": {
   "codemirror_mode": {
    "name": "ipython",
    "version": 3
   },
   "file_extension": ".py",
   "mimetype": "text/x-python",
   "name": "python",
   "nbconvert_exporter": "python",
   "pygments_lexer": "ipython3",
   "version": "3.9.19"
  }
 },
 "nbformat": 4,
 "nbformat_minor": 2
}
