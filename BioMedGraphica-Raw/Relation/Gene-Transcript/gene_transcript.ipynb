{
 "cells": [
  {
   "cell_type": "markdown",
   "metadata": {},
   "source": [
    "### Ensembl"
   ]
  },
  {
   "cell_type": "code",
   "execution_count": 1,
   "metadata": {},
   "outputs": [],
   "source": [
    "import pandas as pd\n",
    "from pybiomart import Server\n",
    "\n",
    "# List all available attributes\n",
    "def list_attributes():\n",
    "    server = Server(host='http://www.ensembl.org')\n",
    "    dataset = server.marts['ENSEMBL_MART_ENSEMBL'].datasets['hsapiens_gene_ensembl']\n",
    "    attributes = dataset.list_attributes()\n",
    "    return attributes\n",
    "\n",
    "attributes = list_attributes()\n",
    "\n",
    "def fetch_ensembl_data(attributes):\n",
    "    server = Server(host='http://www.ensembl.org')\n",
    "    #https://www.ensembl.org/biomart/martservice?type=datasets&mart=ENSEMBL_MART_ENSEMBL\n",
    "    #this link shows that hsapiens_gene_ensembl is the GRCh38.p14\n",
    "    dataset = server.marts['ENSEMBL_MART_ENSEMBL'].datasets['hsapiens_gene_ensembl']\n",
    "    \n",
    "    response = dataset.query(attributes)\n",
    "    \n",
    "    return response\n",
    "\n",
    "attributes=['ensembl_gene_id', 'ensembl_transcript_id']\n",
    "data_ensembl = fetch_ensembl_data(attributes)\n",
    "data_ensembl.to_csv('gene_transcript.csv', index=False)"
   ]
  },
  {
   "cell_type": "code",
   "execution_count": 1,
   "metadata": {},
   "outputs": [
    {
     "data": {
      "application/vnd.microsoft.datawrangler.viewer.v0+json": {
       "columns": [
        {
         "name": "index",
         "rawType": "int64",
         "type": "integer"
        },
        {
         "name": "Gene stable ID",
         "rawType": "object",
         "type": "string"
        },
        {
         "name": "Transcript stable ID",
         "rawType": "object",
         "type": "string"
        }
       ],
       "conversionMethod": "pd.DataFrame",
       "ref": "e46098e2-0ff3-4008-a10d-d121c5996231",
       "rows": [
        [
         "0",
         "ENSG00000210049",
         "ENST00000387314"
        ],
        [
         "1",
         "ENSG00000211459",
         "ENST00000389680"
        ],
        [
         "2",
         "ENSG00000210077",
         "ENST00000387342"
        ],
        [
         "3",
         "ENSG00000210082",
         "ENST00000387347"
        ],
        [
         "4",
         "ENSG00000209082",
         "ENST00000386347"
        ],
        [
         "5",
         "ENSG00000198888",
         "ENST00000361390"
        ],
        [
         "6",
         "ENSG00000210100",
         "ENST00000387365"
        ],
        [
         "7",
         "ENSG00000210107",
         "ENST00000387372"
        ],
        [
         "8",
         "ENSG00000210112",
         "ENST00000387377"
        ],
        [
         "9",
         "ENSG00000198763",
         "ENST00000361453"
        ],
        [
         "10",
         "ENSG00000210117",
         "ENST00000387382"
        ],
        [
         "11",
         "ENSG00000210127",
         "ENST00000387392"
        ],
        [
         "12",
         "ENSG00000210135",
         "ENST00000387400"
        ],
        [
         "13",
         "ENSG00000210140",
         "ENST00000387405"
        ],
        [
         "14",
         "ENSG00000210144",
         "ENST00000387409"
        ],
        [
         "15",
         "ENSG00000198804",
         "ENST00000361624"
        ],
        [
         "16",
         "ENSG00000210151",
         "ENST00000387416"
        ],
        [
         "17",
         "ENSG00000210154",
         "ENST00000387419"
        ],
        [
         "18",
         "ENSG00000198712",
         "ENST00000361739"
        ],
        [
         "19",
         "ENSG00000210156",
         "ENST00000387421"
        ],
        [
         "20",
         "ENSG00000228253",
         "ENST00000361851"
        ],
        [
         "21",
         "ENSG00000198899",
         "ENST00000361899"
        ],
        [
         "22",
         "ENSG00000198938",
         "ENST00000362079"
        ],
        [
         "23",
         "ENSG00000210164",
         "ENST00000387429"
        ],
        [
         "24",
         "ENSG00000198840",
         "ENST00000361227"
        ],
        [
         "25",
         "ENSG00000210174",
         "ENST00000387439"
        ],
        [
         "26",
         "ENSG00000212907",
         "ENST00000361335"
        ],
        [
         "27",
         "ENSG00000198886",
         "ENST00000361381"
        ],
        [
         "28",
         "ENSG00000210176",
         "ENST00000387441"
        ],
        [
         "29",
         "ENSG00000210184",
         "ENST00000387449"
        ],
        [
         "30",
         "ENSG00000210191",
         "ENST00000387456"
        ],
        [
         "31",
         "ENSG00000198786",
         "ENST00000361567"
        ],
        [
         "32",
         "ENSG00000198695",
         "ENST00000361681"
        ],
        [
         "33",
         "ENSG00000210194",
         "ENST00000387459"
        ],
        [
         "34",
         "ENSG00000198727",
         "ENST00000361789"
        ],
        [
         "35",
         "ENSG00000210195",
         "ENST00000387460"
        ],
        [
         "36",
         "ENSG00000210196",
         "ENST00000387461"
        ],
        [
         "37",
         "ENSG00000299200",
         "ENST00000761542"
        ],
        [
         "38",
         "ENSG00000299200",
         "ENST00000761543"
        ],
        [
         "39",
         "ENSG00000299200",
         "ENST00000761544"
        ],
        [
         "40",
         "ENSG00000299200",
         "ENST00000761545"
        ],
        [
         "41",
         "ENSG00000299200",
         "ENST00000761546"
        ],
        [
         "42",
         "ENSG00000299200",
         "ENST00000761547"
        ],
        [
         "43",
         "ENSG00000299200",
         "ENST00000761548"
        ],
        [
         "44",
         "ENSG00000299200",
         "ENST00000761549"
        ],
        [
         "45",
         "ENSG00000299200",
         "ENST00000761550"
        ],
        [
         "46",
         "ENSG00000299200",
         "ENST00000761551"
        ],
        [
         "47",
         "ENSG00000299200",
         "ENST00000761552"
        ],
        [
         "48",
         "ENSG00000299200",
         "ENST00000761553"
        ],
        [
         "49",
         "ENSG00000299200",
         "ENST00000761554"
        ]
       ],
       "shape": {
        "columns": 2,
        "rows": 412034
       }
      },
      "text/html": [
       "<div>\n",
       "<style scoped>\n",
       "    .dataframe tbody tr th:only-of-type {\n",
       "        vertical-align: middle;\n",
       "    }\n",
       "\n",
       "    .dataframe tbody tr th {\n",
       "        vertical-align: top;\n",
       "    }\n",
       "\n",
       "    .dataframe thead th {\n",
       "        text-align: right;\n",
       "    }\n",
       "</style>\n",
       "<table border=\"1\" class=\"dataframe\">\n",
       "  <thead>\n",
       "    <tr style=\"text-align: right;\">\n",
       "      <th></th>\n",
       "      <th>Gene stable ID</th>\n",
       "      <th>Transcript stable ID</th>\n",
       "    </tr>\n",
       "  </thead>\n",
       "  <tbody>\n",
       "    <tr>\n",
       "      <th>0</th>\n",
       "      <td>ENSG00000210049</td>\n",
       "      <td>ENST00000387314</td>\n",
       "    </tr>\n",
       "    <tr>\n",
       "      <th>1</th>\n",
       "      <td>ENSG00000211459</td>\n",
       "      <td>ENST00000389680</td>\n",
       "    </tr>\n",
       "    <tr>\n",
       "      <th>2</th>\n",
       "      <td>ENSG00000210077</td>\n",
       "      <td>ENST00000387342</td>\n",
       "    </tr>\n",
       "    <tr>\n",
       "      <th>3</th>\n",
       "      <td>ENSG00000210082</td>\n",
       "      <td>ENST00000387347</td>\n",
       "    </tr>\n",
       "    <tr>\n",
       "      <th>4</th>\n",
       "      <td>ENSG00000209082</td>\n",
       "      <td>ENST00000386347</td>\n",
       "    </tr>\n",
       "    <tr>\n",
       "      <th>...</th>\n",
       "      <td>...</td>\n",
       "      <td>...</td>\n",
       "    </tr>\n",
       "    <tr>\n",
       "      <th>412029</th>\n",
       "      <td>ENSG00000241860</td>\n",
       "      <td>ENST00000831127</td>\n",
       "    </tr>\n",
       "    <tr>\n",
       "      <th>412030</th>\n",
       "      <td>ENSG00000241860</td>\n",
       "      <td>ENST00000466430</td>\n",
       "    </tr>\n",
       "    <tr>\n",
       "      <th>412031</th>\n",
       "      <td>ENSG00000241860</td>\n",
       "      <td>ENST00000477740</td>\n",
       "    </tr>\n",
       "    <tr>\n",
       "      <th>412032</th>\n",
       "      <td>ENSG00000241860</td>\n",
       "      <td>ENST00000471248</td>\n",
       "    </tr>\n",
       "    <tr>\n",
       "      <th>412033</th>\n",
       "      <td>ENSG00000241860</td>\n",
       "      <td>ENST00000453576</td>\n",
       "    </tr>\n",
       "  </tbody>\n",
       "</table>\n",
       "<p>412034 rows × 2 columns</p>\n",
       "</div>"
      ],
      "text/plain": [
       "         Gene stable ID Transcript stable ID\n",
       "0       ENSG00000210049      ENST00000387314\n",
       "1       ENSG00000211459      ENST00000389680\n",
       "2       ENSG00000210077      ENST00000387342\n",
       "3       ENSG00000210082      ENST00000387347\n",
       "4       ENSG00000209082      ENST00000386347\n",
       "...                 ...                  ...\n",
       "412029  ENSG00000241860      ENST00000831127\n",
       "412030  ENSG00000241860      ENST00000466430\n",
       "412031  ENSG00000241860      ENST00000477740\n",
       "412032  ENSG00000241860      ENST00000471248\n",
       "412033  ENSG00000241860      ENST00000453576\n",
       "\n",
       "[412034 rows x 2 columns]"
      ]
     },
     "execution_count": 1,
     "metadata": {},
     "output_type": "execute_result"
    }
   ],
   "source": [
    "# Download Link: API\n",
    "# Download Date: 2025-03-21\n",
    "# Download Version: 2025-03-21\n",
    "import pandas as pd\n",
    "\n",
    "df_ensembl_gene_transcript = pd.read_csv('gene_transcript.csv')\n",
    "df_ensembl_gene_transcript"
   ]
  },
  {
   "cell_type": "markdown",
   "metadata": {},
   "source": [
    "### RefSeq"
   ]
  },
  {
   "cell_type": "code",
   "execution_count": 2,
   "metadata": {},
   "outputs": [
    {
     "data": {
      "application/vnd.microsoft.datawrangler.viewer.v0+json": {
       "columns": [
        {
         "name": "index",
         "rawType": "int64",
         "type": "integer"
        },
        {
         "name": "RSG",
         "rawType": "object",
         "type": "string"
        },
        {
         "name": "RNA",
         "rawType": "object",
         "type": "string"
        }
       ],
       "conversionMethod": "pd.DataFrame",
       "ref": "e88b2342-3240-4a23-bc5a-38e752edf8bb",
       "rows": [
        [
         "0",
         "NG_029916.1",
         "NM_014576.4"
        ],
        [
         "1",
         "NG_029916.1",
         "NM_138932.3"
        ],
        [
         "2",
         "NG_029916.1",
         "NM_138933.3"
        ],
        [
         "3",
         "NG_029916.1",
         "NM_001198818.2"
        ],
        [
         "4",
         "NG_029916.1",
         "NM_001198819.2"
        ],
        [
         "5",
         "NG_029916.1",
         "NM_001198820.2"
        ],
        [
         "6",
         "NG_029916.1",
         "NM_001370130.1"
        ],
        [
         "7",
         "NG_029916.1",
         "NM_001370131.1"
        ],
        [
         "8",
         "NG_011717.2",
         "NM_001347423.2"
        ],
        [
         "9",
         "NG_011717.2",
         "NM_001347424.2"
        ],
        [
         "10",
         "NG_011717.2",
         "NM_001347425.2"
        ],
        [
         "11",
         "NG_011717.2",
         "NM_000014.6"
        ],
        [
         "12",
         "NG_042857.2",
         "NM_144670.6"
        ],
        [
         "13",
         "NG_042857.2",
         "NM_001282424.3"
        ],
        [
         "14",
         "NG_007495.2",
         "NR_146459.3"
        ],
        [
         "15",
         "NG_007495.2",
         "NM_001318038.3"
        ],
        [
         "16",
         "NG_007495.2",
         "NM_017436.7"
        ],
        [
         "17",
         "NG_016775.1",
         "NM_015665.6"
        ],
        [
         "18",
         "NG_016775.1",
         "NM_001173466.2"
        ],
        [
         "19",
         "NG_033007.1",
         "NM_024666.5"
        ],
        [
         "20",
         "NG_033007.1",
         "NM_001271885.2"
        ],
        [
         "21",
         "NG_033007.1",
         "NM_001271886.2"
        ],
        [
         "22",
         "NG_033036.1",
         "NM_001087.5"
        ],
        [
         "23",
         "NG_033036.1",
         "NM_001302545.2"
        ],
        [
         "24",
         "NG_015976.1",
         "NM_001088.3"
        ],
        [
         "25",
         "NG_015976.1",
         "NR_110548.2"
        ],
        [
         "26",
         "NG_015976.1",
         "NM_001166579.2"
        ],
        [
         "27",
         "NG_023191.1",
         "NM_001605.3"
        ],
        [
         "28",
         "NG_023191.1",
         "NM_001605.2"
        ],
        [
         "29",
         "NG_031952.2",
         "NM_020745.4"
        ],
        [
         "30",
         "NG_046885.1",
         "NM_181806.4"
        ],
        [
         "31",
         "NG_046885.1",
         "NM_001286668.2"
        ],
        [
         "32",
         "NG_046885.1",
         "NM_001286669.1"
        ],
        [
         "33",
         "NG_046885.1",
         "NM_001286670.2"
        ],
        [
         "34",
         "NG_046885.1",
         "NM_001286671.1"
        ],
        [
         "35",
         "NG_046885.1",
         "NM_001286672.1"
        ],
        [
         "36",
         "NG_046885.1",
         "NM_001286669.2"
        ],
        [
         "37",
         "NG_046885.1",
         "NM_001286671.2"
        ],
        [
         "38",
         "NG_046885.1",
         "NM_001286672.2"
        ],
        [
         "39",
         "NG_046885.1",
         "NM_001323890.2"
        ],
        [
         "40",
         "NG_046885.1",
         "NM_001323892.2"
        ],
        [
         "41",
         "NG_046885.1",
         "NM_001323893.2"
        ],
        [
         "42",
         "NG_046885.1",
         "NM_001323899.2"
        ],
        [
         "43",
         "NG_008140.2",
         "NM_005763.4"
        ],
        [
         "44",
         "NG_029981.1",
         "NM_001080395.3"
        ],
        [
         "45",
         "NG_029981.1",
         "NM_004920.3"
        ],
        [
         "46",
         "NG_008432.1",
         "NM_020686.6"
        ],
        [
         "47",
         "NG_008432.1",
         "NM_000663.5"
        ],
        [
         "48",
         "NG_008432.1",
         "NM_001127448.2"
        ],
        [
         "49",
         "NG_008432.1",
         "NM_001386600.1"
        ]
       ],
       "shape": {
        "columns": 2,
        "rows": 33421
       }
      },
      "text/html": [
       "<div>\n",
       "<style scoped>\n",
       "    .dataframe tbody tr th:only-of-type {\n",
       "        vertical-align: middle;\n",
       "    }\n",
       "\n",
       "    .dataframe tbody tr th {\n",
       "        vertical-align: top;\n",
       "    }\n",
       "\n",
       "    .dataframe thead th {\n",
       "        text-align: right;\n",
       "    }\n",
       "</style>\n",
       "<table border=\"1\" class=\"dataframe\">\n",
       "  <thead>\n",
       "    <tr style=\"text-align: right;\">\n",
       "      <th></th>\n",
       "      <th>RSG</th>\n",
       "      <th>RNA</th>\n",
       "    </tr>\n",
       "  </thead>\n",
       "  <tbody>\n",
       "    <tr>\n",
       "      <th>0</th>\n",
       "      <td>NG_029916.1</td>\n",
       "      <td>NM_014576.4</td>\n",
       "    </tr>\n",
       "    <tr>\n",
       "      <th>1</th>\n",
       "      <td>NG_029916.1</td>\n",
       "      <td>NM_138932.3</td>\n",
       "    </tr>\n",
       "    <tr>\n",
       "      <th>2</th>\n",
       "      <td>NG_029916.1</td>\n",
       "      <td>NM_138933.3</td>\n",
       "    </tr>\n",
       "    <tr>\n",
       "      <th>3</th>\n",
       "      <td>NG_029916.1</td>\n",
       "      <td>NM_001198818.2</td>\n",
       "    </tr>\n",
       "    <tr>\n",
       "      <th>4</th>\n",
       "      <td>NG_029916.1</td>\n",
       "      <td>NM_001198819.2</td>\n",
       "    </tr>\n",
       "    <tr>\n",
       "      <th>...</th>\n",
       "      <td>...</td>\n",
       "      <td>...</td>\n",
       "    </tr>\n",
       "    <tr>\n",
       "      <th>33416</th>\n",
       "      <td>NG_053150.1</td>\n",
       "      <td>NM_020928.2</td>\n",
       "    </tr>\n",
       "    <tr>\n",
       "      <th>33417</th>\n",
       "      <td>NG_033939.1</td>\n",
       "      <td>NM_007057.4</td>\n",
       "    </tr>\n",
       "    <tr>\n",
       "      <th>33418</th>\n",
       "      <td>NG_033939.1</td>\n",
       "      <td>NM_032997.3</td>\n",
       "    </tr>\n",
       "    <tr>\n",
       "      <th>33419</th>\n",
       "      <td>NG_033939.1</td>\n",
       "      <td>NM_001005413.1</td>\n",
       "    </tr>\n",
       "    <tr>\n",
       "      <th>33420</th>\n",
       "      <td>NG_015974.1</td>\n",
       "      <td>NM_007156.5</td>\n",
       "    </tr>\n",
       "  </tbody>\n",
       "</table>\n",
       "<p>33421 rows × 2 columns</p>\n",
       "</div>"
      ],
      "text/plain": [
       "               RSG             RNA\n",
       "0      NG_029916.1     NM_014576.4\n",
       "1      NG_029916.1     NM_138932.3\n",
       "2      NG_029916.1     NM_138933.3\n",
       "3      NG_029916.1  NM_001198818.2\n",
       "4      NG_029916.1  NM_001198819.2\n",
       "...            ...             ...\n",
       "33416  NG_053150.1     NM_020928.2\n",
       "33417  NG_033939.1     NM_007057.4\n",
       "33418  NG_033939.1     NM_032997.3\n",
       "33419  NG_033939.1  NM_001005413.1\n",
       "33420  NG_015974.1     NM_007156.5\n",
       "\n",
       "[33421 rows x 2 columns]"
      ]
     },
     "execution_count": 2,
     "metadata": {},
     "output_type": "execute_result"
    }
   ],
   "source": [
    "# Download Link: https://ftp.ncbi.nlm.nih.gov/refseq/H_sapiens/RefSeqGene/LRG_RefSeqGene\n",
    "# Download Date: 2025-03-21\n",
    "# Download Version: 2025-03-21\n",
    "df_refseq_gene_transcript = pd.read_csv('LRG_RefSeqGene.txt', sep='\\t')\n",
    "df_refseq_gene_transcript = df_refseq_gene_transcript[['RSG','RNA']]\n",
    "df_refseq_gene_transcript"
   ]
  },
  {
   "cell_type": "markdown",
   "metadata": {},
   "source": [
    "### BioMedGraphica ID"
   ]
  },
  {
   "cell_type": "code",
   "execution_count": 3,
   "metadata": {},
   "outputs": [],
   "source": [
    "import pandas as pd\n",
    "import os\n",
    "from pathlib import Path\n",
    "\n",
    "current_working_dir = Path(os.getcwd()).resolve()\n",
    "grandparent_dir = current_working_dir.parent.parent.parent\n",
    "target_dir_gene = grandparent_dir / 'BioMedGraphica' / 'Entity' / 'Gene' / 'BioMedGraphica_Gene.csv'\n",
    "target_dir_transcript = grandjson_dir = grandparent_dir / 'BioMedGraphica' / 'Entity' / 'Transcript' / 'BioMedGraphica_Transcript.csv'\n",
    "biomedgraphica_gene = pd.read_csv(target_dir_gene, dtype=str)\n",
    "biomedgraphica_transcript = pd.read_csv(target_dir_transcript, dtype=str)"
   ]
  },
  {
   "cell_type": "markdown",
   "metadata": {},
   "source": [
    "### Ensembl Mapping"
   ]
  },
  {
   "cell_type": "code",
   "execution_count": 4,
   "metadata": {},
   "outputs": [
    {
     "name": "stderr",
     "output_type": "stream",
     "text": [
      "C:\\Users\\shunn\\AppData\\Local\\Temp\\ipykernel_32952\\537656973.py:2: SettingWithCopyWarning: \n",
      "A value is trying to be set on a copy of a slice from a DataFrame\n",
      "\n",
      "See the caveats in the documentation: https://pandas.pydata.org/pandas-docs/stable/user_guide/indexing.html#returning-a-view-versus-a-copy\n",
      "  ensembl_trans.dropna(subset = ['Ensembl_Transcript_ID'], inplace=True)\n"
     ]
    }
   ],
   "source": [
    "ensembl_trans = biomedgraphica_transcript[['Ensembl_Transcript_ID', 'BioMedGraphica_ID']]\n",
    "ensembl_trans.dropna(subset = ['Ensembl_Transcript_ID'], inplace=True)\n",
    "ensembl_trans = ensembl_trans.assign(Ensembl_Transcript_ID=biomedgraphica_transcript['Ensembl_Transcript_ID'].str.split(';')).explode('Ensembl_Transcript_ID')\n",
    "\n",
    "ensembl_transcript_to_individualid = ensembl_trans.groupby('Ensembl_Transcript_ID')['BioMedGraphica_ID'].apply(lambda x: ';'.join(x.dropna().unique())).to_dict()"
   ]
  },
  {
   "cell_type": "code",
   "execution_count": 5,
   "metadata": {},
   "outputs": [
    {
     "name": "stderr",
     "output_type": "stream",
     "text": [
      "C:\\Users\\shunn\\AppData\\Local\\Temp\\ipykernel_32952\\2789011278.py:2: SettingWithCopyWarning: \n",
      "A value is trying to be set on a copy of a slice from a DataFrame\n",
      "\n",
      "See the caveats in the documentation: https://pandas.pydata.org/pandas-docs/stable/user_guide/indexing.html#returning-a-view-versus-a-copy\n",
      "  ensembl_gene.dropna(subset = ['Ensembl_Gene_ID'], inplace=True)\n"
     ]
    }
   ],
   "source": [
    "ensembl_gene = biomedgraphica_gene[['Ensembl_Gene_ID', 'BioMedGraphica_ID']]\n",
    "ensembl_gene.dropna(subset = ['Ensembl_Gene_ID'], inplace=True)\n",
    "ensembl_gene = ensembl_gene.assign(Ensembl_Gene_ID=biomedgraphica_gene['Ensembl_Gene_ID'].str.split(';')).explode('Ensembl_Gene_ID')\n",
    "\n",
    "ensembl_gene_to_individualid = ensembl_gene.groupby('Ensembl_Gene_ID')['BioMedGraphica_ID'].apply(lambda x: ';'.join(x.dropna().unique())).to_dict()"
   ]
  },
  {
   "cell_type": "code",
   "execution_count": 6,
   "metadata": {},
   "outputs": [
    {
     "data": {
      "application/vnd.microsoft.datawrangler.viewer.v0+json": {
       "columns": [
        {
         "name": "index",
         "rawType": "int64",
         "type": "integer"
        },
        {
         "name": "Gene stable ID",
         "rawType": "object",
         "type": "string"
        },
        {
         "name": "Transcript stable ID",
         "rawType": "object",
         "type": "string"
        },
        {
         "name": "To_ID",
         "rawType": "object",
         "type": "string"
        },
        {
         "name": "From_ID",
         "rawType": "object",
         "type": "string"
        }
       ],
       "conversionMethod": "pd.DataFrame",
       "ref": "ae552b46-573f-4356-a2ed-86a64f8b109f",
       "rows": [
        [
         "0",
         "ENSG00000210049",
         "ENST00000387314",
         "BMG_TS029225",
         "BMG_GN176455"
        ],
        [
         "1",
         "ENSG00000211459",
         "ENST00000389680",
         "BMG_TS029457",
         "BMG_GN176448"
        ],
        [
         "2",
         "ENSG00000210077",
         "ENST00000387342",
         "BMG_TS029226",
         "BMG_GN176470"
        ],
        [
         "3",
         "ENSG00000210082",
         "ENST00000387347",
         "BMG_TS029227",
         "BMG_GN176450"
        ],
        [
         "4",
         "ENSG00000209082",
         "ENST00000386347",
         "BMG_TS029216",
         "BMG_GN176460"
        ],
        [
         "5",
         "ENSG00000198888",
         "ENST00000361390",
         "BMG_TS017690",
         "BMG_GN176435"
        ],
        [
         "6",
         "ENSG00000210100",
         "ENST00000387365",
         "BMG_TS029228",
         "BMG_GN176458"
        ],
        [
         "7",
         "ENSG00000210107",
         "ENST00000387372",
         "BMG_TS029229",
         "BMG_GN176465"
        ],
        [
         "8",
         "ENSG00000210112",
         "ENST00000387377",
         "BMG_TS029230",
         "BMG_GN176462"
        ],
        [
         "9",
         "ENSG00000198763",
         "ENST00000361453",
         "BMG_TS017717",
         "BMG_GN176436"
        ],
        [
         "10",
         "ENSG00000210117",
         "ENST00000387382",
         "BMG_TS029231",
         "BMG_GN176471"
        ],
        [
         "11",
         "ENSG00000210127",
         "ENST00000387392",
         "BMG_TS029232",
         "BMG_GN176452"
        ],
        [
         "12",
         "ENSG00000210135",
         "ENST00000387400",
         "BMG_TS029233",
         "BMG_GN176463"
        ],
        [
         "13",
         "ENSG00000210140",
         "ENST00000387405",
         "BMG_TS029234",
         "BMG_GN176420"
        ],
        [
         "14",
         "ENSG00000210144",
         "ENST00000387409",
         "BMG_TS029235",
         "BMG_GN176472"
        ],
        [
         "15",
         "ENSG00000198804",
         "ENST00000361624",
         "BMG_TS017798",
         "BMG_GN176421"
        ],
        [
         "16",
         "ENSG00000210151",
         "ENST00000387416",
         "BMG_TS029236",
         "BMG_GN176467"
        ],
        [
         "17",
         "ENSG00000210154",
         "ENST00000387419",
         "BMG_TS029237",
         "BMG_GN176453"
        ],
        [
         "18",
         "ENSG00000198712",
         "ENST00000361739",
         "BMG_TS017858",
         "BMG_GN176422"
        ],
        [
         "19",
         "ENSG00000210156",
         "ENST00000387421",
         "BMG_TS029238",
         "BMG_GN176459"
        ],
        [
         "20",
         "ENSG00000228253",
         "ENST00000361851",
         "BMG_TS017908",
         "BMG_GN176418"
        ],
        [
         "21",
         "ENSG00000198899",
         "ENST00000361899",
         "BMG_TS017921",
         "BMG_GN176417"
        ],
        [
         "22",
         "ENSG00000198938",
         "ENST00000362079",
         "BMG_TS017997",
         "BMG_GN176423"
        ],
        [
         "23",
         "ENSG00000210164",
         "ENST00000387429",
         "BMG_TS029239",
         "BMG_GN176456"
        ],
        [
         "24",
         "ENSG00000198840",
         "ENST00000361227",
         "BMG_TS017621",
         "BMG_GN176437"
        ],
        [
         "25",
         "ENSG00000210174",
         "ENST00000387439",
         "BMG_TS029240",
         "BMG_GN176466"
        ],
        [
         "26",
         "ENSG00000212907",
         "ENST00000361335",
         "BMG_TS017665",
         "BMG_GN176439"
        ],
        [
         "27",
         "ENSG00000198886",
         "ENST00000361381",
         "BMG_TS017685",
         "BMG_GN176438"
        ],
        [
         "28",
         "ENSG00000210176",
         "ENST00000387441",
         "BMG_TS029241",
         "BMG_GN176457"
        ],
        [
         "29",
         "ENSG00000210184",
         "ENST00000387449",
         "BMG_TS029243",
         "BMG_GN176468"
        ],
        [
         "30",
         "ENSG00000210191",
         "ENST00000387456",
         "BMG_TS029244",
         "BMG_GN176461"
        ],
        [
         "31",
         "ENSG00000198786",
         "ENST00000361567",
         "BMG_TS017774",
         "BMG_GN176441"
        ],
        [
         "32",
         "ENSG00000198695",
         "ENST00000361681",
         "BMG_TS017823",
         "BMG_GN176442"
        ],
        [
         "33",
         "ENSG00000210194",
         "ENST00000387459",
         "BMG_TS029245",
         "BMG_GN176454"
        ],
        [
         "34",
         "ENSG00000198727",
         "ENST00000361789",
         "BMG_TS017878",
         "BMG_GN176425"
        ],
        [
         "35",
         "ENSG00000210195",
         "ENST00000387460",
         "BMG_TS029246",
         "BMG_GN176469"
        ],
        [
         "36",
         "ENSG00000210196",
         "ENST00000387461",
         "BMG_TS029247",
         "BMG_GN176464"
        ],
        [
         "37",
         "ENSG00000299200",
         "ENST00000761542",
         "BMG_TS323487",
         "BMG_GN219613"
        ],
        [
         "38",
         "ENSG00000299200",
         "ENST00000761543",
         "BMG_TS323488",
         "BMG_GN219613"
        ],
        [
         "39",
         "ENSG00000299200",
         "ENST00000761544",
         "BMG_TS323489",
         "BMG_GN219613"
        ],
        [
         "40",
         "ENSG00000299200",
         "ENST00000761545",
         "BMG_TS323490",
         "BMG_GN219613"
        ],
        [
         "41",
         "ENSG00000299200",
         "ENST00000761546",
         "BMG_TS323491",
         "BMG_GN219613"
        ],
        [
         "42",
         "ENSG00000299200",
         "ENST00000761547",
         "BMG_TS323492",
         "BMG_GN219613"
        ],
        [
         "43",
         "ENSG00000299200",
         "ENST00000761548",
         "BMG_TS323493",
         "BMG_GN219613"
        ],
        [
         "44",
         "ENSG00000299200",
         "ENST00000761549",
         "BMG_TS323494",
         "BMG_GN219613"
        ],
        [
         "45",
         "ENSG00000299200",
         "ENST00000761550",
         "BMG_TS323495",
         "BMG_GN219613"
        ],
        [
         "46",
         "ENSG00000299200",
         "ENST00000761551",
         "BMG_TS323496",
         "BMG_GN219613"
        ],
        [
         "47",
         "ENSG00000299200",
         "ENST00000761552",
         "BMG_TS323497",
         "BMG_GN219613"
        ],
        [
         "48",
         "ENSG00000299200",
         "ENST00000761553",
         "BMG_TS323498",
         "BMG_GN219613"
        ],
        [
         "49",
         "ENSG00000299200",
         "ENST00000761554",
         "BMG_TS323499",
         "BMG_GN219613"
        ]
       ],
       "shape": {
        "columns": 4,
        "rows": 412034
       }
      },
      "text/html": [
       "<div>\n",
       "<style scoped>\n",
       "    .dataframe tbody tr th:only-of-type {\n",
       "        vertical-align: middle;\n",
       "    }\n",
       "\n",
       "    .dataframe tbody tr th {\n",
       "        vertical-align: top;\n",
       "    }\n",
       "\n",
       "    .dataframe thead th {\n",
       "        text-align: right;\n",
       "    }\n",
       "</style>\n",
       "<table border=\"1\" class=\"dataframe\">\n",
       "  <thead>\n",
       "    <tr style=\"text-align: right;\">\n",
       "      <th></th>\n",
       "      <th>Gene stable ID</th>\n",
       "      <th>Transcript stable ID</th>\n",
       "      <th>To_ID</th>\n",
       "      <th>From_ID</th>\n",
       "    </tr>\n",
       "  </thead>\n",
       "  <tbody>\n",
       "    <tr>\n",
       "      <th>0</th>\n",
       "      <td>ENSG00000210049</td>\n",
       "      <td>ENST00000387314</td>\n",
       "      <td>BMG_TS029225</td>\n",
       "      <td>BMG_GN176455</td>\n",
       "    </tr>\n",
       "    <tr>\n",
       "      <th>1</th>\n",
       "      <td>ENSG00000211459</td>\n",
       "      <td>ENST00000389680</td>\n",
       "      <td>BMG_TS029457</td>\n",
       "      <td>BMG_GN176448</td>\n",
       "    </tr>\n",
       "    <tr>\n",
       "      <th>2</th>\n",
       "      <td>ENSG00000210077</td>\n",
       "      <td>ENST00000387342</td>\n",
       "      <td>BMG_TS029226</td>\n",
       "      <td>BMG_GN176470</td>\n",
       "    </tr>\n",
       "    <tr>\n",
       "      <th>3</th>\n",
       "      <td>ENSG00000210082</td>\n",
       "      <td>ENST00000387347</td>\n",
       "      <td>BMG_TS029227</td>\n",
       "      <td>BMG_GN176450</td>\n",
       "    </tr>\n",
       "    <tr>\n",
       "      <th>4</th>\n",
       "      <td>ENSG00000209082</td>\n",
       "      <td>ENST00000386347</td>\n",
       "      <td>BMG_TS029216</td>\n",
       "      <td>BMG_GN176460</td>\n",
       "    </tr>\n",
       "    <tr>\n",
       "      <th>...</th>\n",
       "      <td>...</td>\n",
       "      <td>...</td>\n",
       "      <td>...</td>\n",
       "      <td>...</td>\n",
       "    </tr>\n",
       "    <tr>\n",
       "      <th>412029</th>\n",
       "      <td>ENSG00000241860</td>\n",
       "      <td>ENST00000831127</td>\n",
       "      <td>BMG_TS392883</td>\n",
       "      <td>BMG_GN195027</td>\n",
       "    </tr>\n",
       "    <tr>\n",
       "      <th>412030</th>\n",
       "      <td>ENSG00000241860</td>\n",
       "      <td>ENST00000466430</td>\n",
       "      <td>BMG_TS077697</td>\n",
       "      <td>BMG_GN195027</td>\n",
       "    </tr>\n",
       "    <tr>\n",
       "      <th>412031</th>\n",
       "      <td>ENSG00000241860</td>\n",
       "      <td>ENST00000477740</td>\n",
       "      <td>BMG_TS087551</td>\n",
       "      <td>BMG_GN195027</td>\n",
       "    </tr>\n",
       "    <tr>\n",
       "      <th>412032</th>\n",
       "      <td>ENSG00000241860</td>\n",
       "      <td>ENST00000471248</td>\n",
       "      <td>BMG_TS081907</td>\n",
       "      <td>BMG_GN195027</td>\n",
       "    </tr>\n",
       "    <tr>\n",
       "      <th>412033</th>\n",
       "      <td>ENSG00000241860</td>\n",
       "      <td>ENST00000453576</td>\n",
       "      <td>BMG_TS067902</td>\n",
       "      <td>BMG_GN195027</td>\n",
       "    </tr>\n",
       "  </tbody>\n",
       "</table>\n",
       "<p>412034 rows × 4 columns</p>\n",
       "</div>"
      ],
      "text/plain": [
       "         Gene stable ID Transcript stable ID         To_ID       From_ID\n",
       "0       ENSG00000210049      ENST00000387314  BMG_TS029225  BMG_GN176455\n",
       "1       ENSG00000211459      ENST00000389680  BMG_TS029457  BMG_GN176448\n",
       "2       ENSG00000210077      ENST00000387342  BMG_TS029226  BMG_GN176470\n",
       "3       ENSG00000210082      ENST00000387347  BMG_TS029227  BMG_GN176450\n",
       "4       ENSG00000209082      ENST00000386347  BMG_TS029216  BMG_GN176460\n",
       "...                 ...                  ...           ...           ...\n",
       "412029  ENSG00000241860      ENST00000831127  BMG_TS392883  BMG_GN195027\n",
       "412030  ENSG00000241860      ENST00000466430  BMG_TS077697  BMG_GN195027\n",
       "412031  ENSG00000241860      ENST00000477740  BMG_TS087551  BMG_GN195027\n",
       "412032  ENSG00000241860      ENST00000471248  BMG_TS081907  BMG_GN195027\n",
       "412033  ENSG00000241860      ENST00000453576  BMG_TS067902  BMG_GN195027\n",
       "\n",
       "[412034 rows x 4 columns]"
      ]
     },
     "execution_count": 6,
     "metadata": {},
     "output_type": "execute_result"
    }
   ],
   "source": [
    "df_ensembl_gene_transcript['To_ID'] = df_ensembl_gene_transcript['Transcript stable ID'].map(ensembl_transcript_to_individualid)\n",
    "df_ensembl_gene_transcript['From_ID'] = df_ensembl_gene_transcript['Gene stable ID'].map(ensembl_gene_to_individualid)\n",
    "df_ensembl_gene_transcript"
   ]
  },
  {
   "cell_type": "code",
   "execution_count": 7,
   "metadata": {},
   "outputs": [
    {
     "name": "stdout",
     "output_type": "stream",
     "text": [
      "<class 'pandas.core.frame.DataFrame'>\n",
      "RangeIndex: 412034 entries, 0 to 412033\n",
      "Data columns (total 2 columns):\n",
      " #   Column   Non-Null Count   Dtype \n",
      "---  ------   --------------   ----- \n",
      " 0   From_ID  412034 non-null  object\n",
      " 1   To_ID    412034 non-null  object\n",
      "dtypes: object(2)\n",
      "memory usage: 6.3+ MB\n"
     ]
    }
   ],
   "source": [
    "df_ensembl_gene_transcript = df_ensembl_gene_transcript[['From_ID','To_ID']]\n",
    "df_ensembl_gene_transcript = df_ensembl_gene_transcript.dropna(subset=['From_ID'])\n",
    "df_ensembl_gene_transcript = df_ensembl_gene_transcript.dropna(subset=['To_ID'])\n",
    "df_ensembl_gene_transcript.info()"
   ]
  },
  {
   "cell_type": "code",
   "execution_count": 8,
   "metadata": {},
   "outputs": [
    {
     "data": {
      "application/vnd.microsoft.datawrangler.viewer.v0+json": {
       "columns": [
        {
         "name": "index",
         "rawType": "int64",
         "type": "integer"
        },
        {
         "name": "From_ID",
         "rawType": "object",
         "type": "string"
        },
        {
         "name": "To_ID",
         "rawType": "object",
         "type": "string"
        }
       ],
       "conversionMethod": "pd.DataFrame",
       "ref": "b901f063-01f2-43dc-9814-b2f05f88729d",
       "rows": [
        [
         "0",
         "BMG_GN176455",
         "BMG_TS029225"
        ],
        [
         "1",
         "BMG_GN176448",
         "BMG_TS029457"
        ],
        [
         "2",
         "BMG_GN176470",
         "BMG_TS029226"
        ],
        [
         "3",
         "BMG_GN176450",
         "BMG_TS029227"
        ],
        [
         "4",
         "BMG_GN176460",
         "BMG_TS029216"
        ],
        [
         "5",
         "BMG_GN176435",
         "BMG_TS017690"
        ],
        [
         "6",
         "BMG_GN176458",
         "BMG_TS029228"
        ],
        [
         "7",
         "BMG_GN176465",
         "BMG_TS029229"
        ],
        [
         "8",
         "BMG_GN176462",
         "BMG_TS029230"
        ],
        [
         "9",
         "BMG_GN176436",
         "BMG_TS017717"
        ],
        [
         "10",
         "BMG_GN176471",
         "BMG_TS029231"
        ],
        [
         "11",
         "BMG_GN176452",
         "BMG_TS029232"
        ],
        [
         "12",
         "BMG_GN176463",
         "BMG_TS029233"
        ],
        [
         "13",
         "BMG_GN176420",
         "BMG_TS029234"
        ],
        [
         "14",
         "BMG_GN176472",
         "BMG_TS029235"
        ],
        [
         "15",
         "BMG_GN176421",
         "BMG_TS017798"
        ],
        [
         "16",
         "BMG_GN176467",
         "BMG_TS029236"
        ],
        [
         "17",
         "BMG_GN176453",
         "BMG_TS029237"
        ],
        [
         "18",
         "BMG_GN176422",
         "BMG_TS017858"
        ],
        [
         "19",
         "BMG_GN176459",
         "BMG_TS029238"
        ],
        [
         "20",
         "BMG_GN176418",
         "BMG_TS017908"
        ],
        [
         "21",
         "BMG_GN176417",
         "BMG_TS017921"
        ],
        [
         "22",
         "BMG_GN176423",
         "BMG_TS017997"
        ],
        [
         "23",
         "BMG_GN176456",
         "BMG_TS029239"
        ],
        [
         "24",
         "BMG_GN176437",
         "BMG_TS017621"
        ],
        [
         "25",
         "BMG_GN176466",
         "BMG_TS029240"
        ],
        [
         "26",
         "BMG_GN176439",
         "BMG_TS017665"
        ],
        [
         "27",
         "BMG_GN176438",
         "BMG_TS017685"
        ],
        [
         "28",
         "BMG_GN176457",
         "BMG_TS029241"
        ],
        [
         "29",
         "BMG_GN176468",
         "BMG_TS029243"
        ],
        [
         "30",
         "BMG_GN176461",
         "BMG_TS029244"
        ],
        [
         "31",
         "BMG_GN176441",
         "BMG_TS017774"
        ],
        [
         "32",
         "BMG_GN176442",
         "BMG_TS017823"
        ],
        [
         "33",
         "BMG_GN176454",
         "BMG_TS029245"
        ],
        [
         "34",
         "BMG_GN176425",
         "BMG_TS017878"
        ],
        [
         "35",
         "BMG_GN176469",
         "BMG_TS029246"
        ],
        [
         "36",
         "BMG_GN176464",
         "BMG_TS029247"
        ],
        [
         "37",
         "BMG_GN219613",
         "BMG_TS323487"
        ],
        [
         "38",
         "BMG_GN219613",
         "BMG_TS323488"
        ],
        [
         "39",
         "BMG_GN219613",
         "BMG_TS323489"
        ],
        [
         "40",
         "BMG_GN219613",
         "BMG_TS323490"
        ],
        [
         "41",
         "BMG_GN219613",
         "BMG_TS323491"
        ],
        [
         "42",
         "BMG_GN219613",
         "BMG_TS323492"
        ],
        [
         "43",
         "BMG_GN219613",
         "BMG_TS323493"
        ],
        [
         "44",
         "BMG_GN219613",
         "BMG_TS323494"
        ],
        [
         "45",
         "BMG_GN219613",
         "BMG_TS323495"
        ],
        [
         "46",
         "BMG_GN219613",
         "BMG_TS323496"
        ],
        [
         "47",
         "BMG_GN219613",
         "BMG_TS323497"
        ],
        [
         "48",
         "BMG_GN219613",
         "BMG_TS323498"
        ],
        [
         "49",
         "BMG_GN219613",
         "BMG_TS323499"
        ]
       ],
       "shape": {
        "columns": 2,
        "rows": 427393
       }
      },
      "text/html": [
       "<div>\n",
       "<style scoped>\n",
       "    .dataframe tbody tr th:only-of-type {\n",
       "        vertical-align: middle;\n",
       "    }\n",
       "\n",
       "    .dataframe tbody tr th {\n",
       "        vertical-align: top;\n",
       "    }\n",
       "\n",
       "    .dataframe thead th {\n",
       "        text-align: right;\n",
       "    }\n",
       "</style>\n",
       "<table border=\"1\" class=\"dataframe\">\n",
       "  <thead>\n",
       "    <tr style=\"text-align: right;\">\n",
       "      <th></th>\n",
       "      <th>From_ID</th>\n",
       "      <th>To_ID</th>\n",
       "    </tr>\n",
       "  </thead>\n",
       "  <tbody>\n",
       "    <tr>\n",
       "      <th>0</th>\n",
       "      <td>BMG_GN176455</td>\n",
       "      <td>BMG_TS029225</td>\n",
       "    </tr>\n",
       "    <tr>\n",
       "      <th>1</th>\n",
       "      <td>BMG_GN176448</td>\n",
       "      <td>BMG_TS029457</td>\n",
       "    </tr>\n",
       "    <tr>\n",
       "      <th>2</th>\n",
       "      <td>BMG_GN176470</td>\n",
       "      <td>BMG_TS029226</td>\n",
       "    </tr>\n",
       "    <tr>\n",
       "      <th>3</th>\n",
       "      <td>BMG_GN176450</td>\n",
       "      <td>BMG_TS029227</td>\n",
       "    </tr>\n",
       "    <tr>\n",
       "      <th>4</th>\n",
       "      <td>BMG_GN176460</td>\n",
       "      <td>BMG_TS029216</td>\n",
       "    </tr>\n",
       "    <tr>\n",
       "      <th>...</th>\n",
       "      <td>...</td>\n",
       "      <td>...</td>\n",
       "    </tr>\n",
       "    <tr>\n",
       "      <th>412029</th>\n",
       "      <td>BMG_GN195027</td>\n",
       "      <td>BMG_TS392883</td>\n",
       "    </tr>\n",
       "    <tr>\n",
       "      <th>412030</th>\n",
       "      <td>BMG_GN195027</td>\n",
       "      <td>BMG_TS077697</td>\n",
       "    </tr>\n",
       "    <tr>\n",
       "      <th>412031</th>\n",
       "      <td>BMG_GN195027</td>\n",
       "      <td>BMG_TS087551</td>\n",
       "    </tr>\n",
       "    <tr>\n",
       "      <th>412032</th>\n",
       "      <td>BMG_GN195027</td>\n",
       "      <td>BMG_TS081907</td>\n",
       "    </tr>\n",
       "    <tr>\n",
       "      <th>412033</th>\n",
       "      <td>BMG_GN195027</td>\n",
       "      <td>BMG_TS067902</td>\n",
       "    </tr>\n",
       "  </tbody>\n",
       "</table>\n",
       "<p>427393 rows × 2 columns</p>\n",
       "</div>"
      ],
      "text/plain": [
       "             From_ID         To_ID\n",
       "0       BMG_GN176455  BMG_TS029225\n",
       "1       BMG_GN176448  BMG_TS029457\n",
       "2       BMG_GN176470  BMG_TS029226\n",
       "3       BMG_GN176450  BMG_TS029227\n",
       "4       BMG_GN176460  BMG_TS029216\n",
       "...              ...           ...\n",
       "412029  BMG_GN195027  BMG_TS392883\n",
       "412030  BMG_GN195027  BMG_TS077697\n",
       "412031  BMG_GN195027  BMG_TS087551\n",
       "412032  BMG_GN195027  BMG_TS081907\n",
       "412033  BMG_GN195027  BMG_TS067902\n",
       "\n",
       "[427393 rows x 2 columns]"
      ]
     },
     "execution_count": 8,
     "metadata": {},
     "output_type": "execute_result"
    }
   ],
   "source": [
    "df_ensembl_gene_transcript['From_ID'] = df_ensembl_gene_transcript['From_ID'].apply(lambda x: x.split(';'))\n",
    "df_ensembl_gene_transcript['To_ID'] = df_ensembl_gene_transcript['To_ID'].apply(lambda x: x.split(';'))\n",
    "\n",
    "df_ensembl_gene_transcript = df_ensembl_gene_transcript.explode('From_ID')\n",
    "df_ensembl_gene_transcript = df_ensembl_gene_transcript.explode('To_ID')\n",
    "\n",
    "df_ensembl_gene_transcript.drop_duplicates(inplace=True)\n",
    "df_ensembl_gene_transcript"
   ]
  },
  {
   "cell_type": "markdown",
   "metadata": {},
   "source": [
    "### RefSeq Mapping"
   ]
  },
  {
   "cell_type": "code",
   "execution_count": 9,
   "metadata": {},
   "outputs": [
    {
     "name": "stderr",
     "output_type": "stream",
     "text": [
      "C:\\Users\\shunn\\AppData\\Local\\Temp\\ipykernel_32952\\2274547881.py:2: SettingWithCopyWarning: \n",
      "A value is trying to be set on a copy of a slice from a DataFrame\n",
      "\n",
      "See the caveats in the documentation: https://pandas.pydata.org/pandas-docs/stable/user_guide/indexing.html#returning-a-view-versus-a-copy\n",
      "  refseq_gene.dropna(subset = ['RefSeq_ID'], inplace=True)\n"
     ]
    }
   ],
   "source": [
    "refseq_gene = biomedgraphica_gene[['RefSeq_ID', 'BioMedGraphica_ID']]\n",
    "refseq_gene.dropna(subset = ['RefSeq_ID'], inplace=True)\n",
    "refseq_gene = refseq_gene.assign(RefSeq_ID=biomedgraphica_gene['RefSeq_ID'].str.split(';')).explode('RefSeq_ID')\n",
    "\n",
    "refseq_gene_to_individualid = refseq_gene.groupby('RefSeq_ID')['BioMedGraphica_ID'].apply(lambda x: ';'.join(x.dropna().unique())).to_dict()"
   ]
  },
  {
   "cell_type": "code",
   "execution_count": 10,
   "metadata": {},
   "outputs": [
    {
     "name": "stderr",
     "output_type": "stream",
     "text": [
      "C:\\Users\\shunn\\AppData\\Local\\Temp\\ipykernel_32952\\1369426002.py:2: SettingWithCopyWarning: \n",
      "A value is trying to be set on a copy of a slice from a DataFrame\n",
      "\n",
      "See the caveats in the documentation: https://pandas.pydata.org/pandas-docs/stable/user_guide/indexing.html#returning-a-view-versus-a-copy\n",
      "  refseq_trans.dropna(subset = ['RefSeq_ID'], inplace=True)\n"
     ]
    }
   ],
   "source": [
    "refseq_trans = biomedgraphica_transcript[['RefSeq_ID', 'BioMedGraphica_ID']]\n",
    "refseq_trans.dropna(subset = ['RefSeq_ID'], inplace=True)\n",
    "refseq_trans = refseq_trans.assign(RefSeq_ID=biomedgraphica_transcript['RefSeq_ID'].str.split(';')).explode('RefSeq_ID')\n",
    "\n",
    "refseq_trans_to_individual = refseq_trans.groupby('RefSeq_ID')['BioMedGraphica_ID'].apply(lambda x: ';'.join(x.dropna().unique())).to_dict()"
   ]
  },
  {
   "cell_type": "code",
   "execution_count": 11,
   "metadata": {},
   "outputs": [
    {
     "data": {
      "application/vnd.microsoft.datawrangler.viewer.v0+json": {
       "columns": [
        {
         "name": "index",
         "rawType": "int64",
         "type": "integer"
        },
        {
         "name": "RSG",
         "rawType": "object",
         "type": "string"
        },
        {
         "name": "RNA",
         "rawType": "object",
         "type": "string"
        },
        {
         "name": "From_ID",
         "rawType": "object",
         "type": "unknown"
        },
        {
         "name": "To_ID",
         "rawType": "object",
         "type": "unknown"
        }
       ],
       "conversionMethod": "pd.DataFrame",
       "ref": "41691042-d253-4c86-9c59-6d02125cfbbd",
       "rows": [
        [
         "0",
         "NG_029916.1",
         "NM_014576.4",
         "BMG_GN171396",
         "BMG_TS023854"
        ],
        [
         "1",
         "NG_029916.1",
         "NM_138932.3",
         "BMG_GN171396",
         null
        ],
        [
         "2",
         "NG_029916.1",
         "NM_138933.3",
         "BMG_GN171396",
         null
        ],
        [
         "3",
         "NG_029916.1",
         "NM_001198818.2",
         "BMG_GN171396",
         null
        ],
        [
         "4",
         "NG_029916.1",
         "NM_001198819.2",
         "BMG_GN171396",
         null
        ],
        [
         "5",
         "NG_029916.1",
         "NM_001198820.2",
         "BMG_GN171396",
         null
        ],
        [
         "6",
         "NG_029916.1",
         "NM_001370130.1",
         "BMG_GN171396",
         null
        ],
        [
         "7",
         "NG_029916.1",
         "NM_001370131.1",
         "BMG_GN171396",
         null
        ],
        [
         "8",
         "NG_011717.2",
         "NM_001347423.2",
         "BMG_GN166569",
         null
        ],
        [
         "9",
         "NG_011717.2",
         "NM_001347424.2",
         "BMG_GN166569",
         null
        ],
        [
         "10",
         "NG_011717.2",
         "NM_001347425.2",
         "BMG_GN166569",
         null
        ],
        [
         "11",
         "NG_011717.2",
         "NM_000014.6",
         "BMG_GN166569",
         "BMG_TS009928"
        ],
        [
         "12",
         "NG_042857.2",
         "NM_144670.6",
         "BMG_GN164978",
         "BMG_TS007200"
        ],
        [
         "13",
         "NG_042857.2",
         "NM_001282424.3",
         "BMG_GN164978",
         null
        ],
        [
         "14",
         "NG_007495.2",
         "NR_146459.3",
         "BMG_GN177970",
         null
        ],
        [
         "15",
         "NG_007495.2",
         "NM_001318038.3",
         "BMG_GN177970",
         null
        ],
        [
         "16",
         "NG_007495.2",
         "NM_017436.7",
         "BMG_GN177970",
         "BMG_TS214111"
        ],
        [
         "17",
         "NG_016775.1",
         "NM_015665.6",
         "BMG_GN186187",
         "BMG_TS000417"
        ],
        [
         "18",
         "NG_016775.1",
         "NM_001173466.2",
         "BMG_GN186187",
         null
        ],
        [
         "19",
         "NG_033007.1",
         "NM_024666.5",
         "BMG_GN185681",
         "BMG_TS003392"
        ],
        [
         "20",
         "NG_033007.1",
         "NM_001271885.2",
         "BMG_GN185681",
         null
        ],
        [
         "21",
         "NG_033007.1",
         "NM_001271886.2",
         "BMG_GN185681",
         null
        ],
        [
         "22",
         "NG_033036.1",
         "NM_001087.5",
         "BMG_GN164725",
         "BMG_TS002106"
        ],
        [
         "23",
         "NG_033036.1",
         "NM_001302545.2",
         "BMG_GN164725",
         null
        ],
        [
         "24",
         "NG_015976.1",
         "NM_001088.3",
         "BMG_GN165342",
         "BMG_TS030618"
        ],
        [
         "25",
         "NG_015976.1",
         "NR_110548.2",
         "BMG_GN165342",
         null
        ],
        [
         "26",
         "NG_015976.1",
         "NM_001166579.2",
         "BMG_GN165342",
         null
        ],
        [
         "27",
         "NG_023191.1",
         "NM_001605.3",
         "BMG_GN165822",
         "BMG_TS003358"
        ],
        [
         "28",
         "NG_023191.1",
         "NM_001605.2",
         "BMG_GN165822",
         null
        ],
        [
         "29",
         "NG_031952.2",
         "NM_020745.4",
         "BMG_GN180065",
         "BMG_TS001890"
        ],
        [
         "30",
         "NG_046885.1",
         "NM_181806.4",
         "BMG_GN164407",
         "BMG_TS000388"
        ],
        [
         "31",
         "NG_046885.1",
         "NM_001286668.2",
         "BMG_GN164407",
         null
        ],
        [
         "32",
         "NG_046885.1",
         "NM_001286669.1",
         "BMG_GN164407",
         null
        ],
        [
         "33",
         "NG_046885.1",
         "NM_001286670.2",
         "BMG_GN164407",
         null
        ],
        [
         "34",
         "NG_046885.1",
         "NM_001286671.1",
         "BMG_GN164407",
         null
        ],
        [
         "35",
         "NG_046885.1",
         "NM_001286672.1",
         "BMG_GN164407",
         null
        ],
        [
         "36",
         "NG_046885.1",
         "NM_001286669.2",
         "BMG_GN164407",
         null
        ],
        [
         "37",
         "NG_046885.1",
         "NM_001286671.2",
         "BMG_GN164407",
         null
        ],
        [
         "38",
         "NG_046885.1",
         "NM_001286672.2",
         "BMG_GN164407",
         null
        ],
        [
         "39",
         "NG_046885.1",
         "NM_001323890.2",
         "BMG_GN164407",
         null
        ],
        [
         "40",
         "NG_046885.1",
         "NM_001323892.2",
         "BMG_GN164407",
         null
        ],
        [
         "41",
         "NG_046885.1",
         "NM_001323893.2",
         "BMG_GN164407",
         null
        ],
        [
         "42",
         "NG_046885.1",
         "NM_001323899.2",
         "BMG_GN164407",
         null
        ],
        [
         "43",
         "NG_008140.2",
         "NM_005763.4",
         "BMG_GN009438",
         "BMG_TS042610"
        ],
        [
         "44",
         "NG_029981.1",
         "NM_001080395.3",
         "BMG_GN189061",
         "BMG_TS011016"
        ],
        [
         "45",
         "NG_029981.1",
         "NM_004920.3",
         "BMG_GN189061",
         null
        ],
        [
         "46",
         "NG_008432.1",
         "NM_020686.6",
         "BMG_GN166306",
         "BMG_TS004547"
        ],
        [
         "47",
         "NG_008432.1",
         "NM_000663.5",
         "BMG_GN166306",
         null
        ],
        [
         "48",
         "NG_008432.1",
         "NM_001127448.2",
         "BMG_GN166306",
         null
        ],
        [
         "49",
         "NG_008432.1",
         "NM_001386600.1",
         "BMG_GN166306",
         null
        ]
       ],
       "shape": {
        "columns": 4,
        "rows": 33421
       }
      },
      "text/html": [
       "<div>\n",
       "<style scoped>\n",
       "    .dataframe tbody tr th:only-of-type {\n",
       "        vertical-align: middle;\n",
       "    }\n",
       "\n",
       "    .dataframe tbody tr th {\n",
       "        vertical-align: top;\n",
       "    }\n",
       "\n",
       "    .dataframe thead th {\n",
       "        text-align: right;\n",
       "    }\n",
       "</style>\n",
       "<table border=\"1\" class=\"dataframe\">\n",
       "  <thead>\n",
       "    <tr style=\"text-align: right;\">\n",
       "      <th></th>\n",
       "      <th>RSG</th>\n",
       "      <th>RNA</th>\n",
       "      <th>From_ID</th>\n",
       "      <th>To_ID</th>\n",
       "    </tr>\n",
       "  </thead>\n",
       "  <tbody>\n",
       "    <tr>\n",
       "      <th>0</th>\n",
       "      <td>NG_029916.1</td>\n",
       "      <td>NM_014576.4</td>\n",
       "      <td>BMG_GN171396</td>\n",
       "      <td>BMG_TS023854</td>\n",
       "    </tr>\n",
       "    <tr>\n",
       "      <th>1</th>\n",
       "      <td>NG_029916.1</td>\n",
       "      <td>NM_138932.3</td>\n",
       "      <td>BMG_GN171396</td>\n",
       "      <td>NaN</td>\n",
       "    </tr>\n",
       "    <tr>\n",
       "      <th>2</th>\n",
       "      <td>NG_029916.1</td>\n",
       "      <td>NM_138933.3</td>\n",
       "      <td>BMG_GN171396</td>\n",
       "      <td>NaN</td>\n",
       "    </tr>\n",
       "    <tr>\n",
       "      <th>3</th>\n",
       "      <td>NG_029916.1</td>\n",
       "      <td>NM_001198818.2</td>\n",
       "      <td>BMG_GN171396</td>\n",
       "      <td>NaN</td>\n",
       "    </tr>\n",
       "    <tr>\n",
       "      <th>4</th>\n",
       "      <td>NG_029916.1</td>\n",
       "      <td>NM_001198819.2</td>\n",
       "      <td>BMG_GN171396</td>\n",
       "      <td>NaN</td>\n",
       "    </tr>\n",
       "    <tr>\n",
       "      <th>...</th>\n",
       "      <td>...</td>\n",
       "      <td>...</td>\n",
       "      <td>...</td>\n",
       "      <td>...</td>\n",
       "    </tr>\n",
       "    <tr>\n",
       "      <th>33416</th>\n",
       "      <td>NG_053150.1</td>\n",
       "      <td>NM_020928.2</td>\n",
       "      <td>BMG_GN180221</td>\n",
       "      <td>BMG_TS002391</td>\n",
       "    </tr>\n",
       "    <tr>\n",
       "      <th>33417</th>\n",
       "      <td>NG_033939.1</td>\n",
       "      <td>NM_007057.4</td>\n",
       "      <td>BMG_GN026200</td>\n",
       "      <td>BMG_TS023820</td>\n",
       "    </tr>\n",
       "    <tr>\n",
       "      <th>33418</th>\n",
       "      <td>NG_033939.1</td>\n",
       "      <td>NM_032997.3</td>\n",
       "      <td>BMG_GN026200</td>\n",
       "      <td>NaN</td>\n",
       "    </tr>\n",
       "    <tr>\n",
       "      <th>33419</th>\n",
       "      <td>NG_033939.1</td>\n",
       "      <td>NM_001005413.1</td>\n",
       "      <td>BMG_GN026200</td>\n",
       "      <td>NaN</td>\n",
       "    </tr>\n",
       "    <tr>\n",
       "      <th>33420</th>\n",
       "      <td>NG_015974.1</td>\n",
       "      <td>NM_007156.5</td>\n",
       "      <td>BMG_GN185214</td>\n",
       "      <td>BMG_TS016776</td>\n",
       "    </tr>\n",
       "  </tbody>\n",
       "</table>\n",
       "<p>33421 rows × 4 columns</p>\n",
       "</div>"
      ],
      "text/plain": [
       "               RSG             RNA       From_ID         To_ID\n",
       "0      NG_029916.1     NM_014576.4  BMG_GN171396  BMG_TS023854\n",
       "1      NG_029916.1     NM_138932.3  BMG_GN171396           NaN\n",
       "2      NG_029916.1     NM_138933.3  BMG_GN171396           NaN\n",
       "3      NG_029916.1  NM_001198818.2  BMG_GN171396           NaN\n",
       "4      NG_029916.1  NM_001198819.2  BMG_GN171396           NaN\n",
       "...            ...             ...           ...           ...\n",
       "33416  NG_053150.1     NM_020928.2  BMG_GN180221  BMG_TS002391\n",
       "33417  NG_033939.1     NM_007057.4  BMG_GN026200  BMG_TS023820\n",
       "33418  NG_033939.1     NM_032997.3  BMG_GN026200           NaN\n",
       "33419  NG_033939.1  NM_001005413.1  BMG_GN026200           NaN\n",
       "33420  NG_015974.1     NM_007156.5  BMG_GN185214  BMG_TS016776\n",
       "\n",
       "[33421 rows x 4 columns]"
      ]
     },
     "execution_count": 11,
     "metadata": {},
     "output_type": "execute_result"
    }
   ],
   "source": [
    "df_refseq_gene_transcript['From_ID'] = df_refseq_gene_transcript['RSG'].map(refseq_gene_to_individualid)\n",
    "df_refseq_gene_transcript['To_ID'] = df_refseq_gene_transcript['RNA'].map(refseq_trans_to_individual)\n",
    "df_refseq_gene_transcript"
   ]
  },
  {
   "cell_type": "code",
   "execution_count": 12,
   "metadata": {},
   "outputs": [
    {
     "name": "stderr",
     "output_type": "stream",
     "text": [
      "C:\\Users\\shunn\\AppData\\Local\\Temp\\ipykernel_32952\\1711678904.py:2: SettingWithCopyWarning: \n",
      "A value is trying to be set on a copy of a slice from a DataFrame\n",
      "\n",
      "See the caveats in the documentation: https://pandas.pydata.org/pandas-docs/stable/user_guide/indexing.html#returning-a-view-versus-a-copy\n",
      "  refseq_gene_transcript.dropna(subset=['From_ID'], inplace=True)\n",
      "C:\\Users\\shunn\\AppData\\Local\\Temp\\ipykernel_32952\\1711678904.py:3: SettingWithCopyWarning: \n",
      "A value is trying to be set on a copy of a slice from a DataFrame\n",
      "\n",
      "See the caveats in the documentation: https://pandas.pydata.org/pandas-docs/stable/user_guide/indexing.html#returning-a-view-versus-a-copy\n",
      "  refseq_gene_transcript.dropna(subset=['To_ID'], inplace = True)\n"
     ]
    },
    {
     "data": {
      "application/vnd.microsoft.datawrangler.viewer.v0+json": {
       "columns": [
        {
         "name": "index",
         "rawType": "int64",
         "type": "integer"
        },
        {
         "name": "From_ID",
         "rawType": "object",
         "type": "string"
        },
        {
         "name": "To_ID",
         "rawType": "object",
         "type": "string"
        }
       ],
       "conversionMethod": "pd.DataFrame",
       "ref": "3e01564d-4e9e-43e9-bd63-3893b08cd4b0",
       "rows": [
        [
         "0",
         "BMG_GN171396",
         "BMG_TS023854"
        ],
        [
         "11",
         "BMG_GN166569",
         "BMG_TS009928"
        ],
        [
         "12",
         "BMG_GN164978",
         "BMG_TS007200"
        ],
        [
         "16",
         "BMG_GN177970",
         "BMG_TS214111"
        ],
        [
         "17",
         "BMG_GN186187",
         "BMG_TS000417"
        ],
        [
         "19",
         "BMG_GN185681",
         "BMG_TS003392"
        ],
        [
         "22",
         "BMG_GN164725",
         "BMG_TS002106"
        ],
        [
         "24",
         "BMG_GN165342",
         "BMG_TS030618"
        ],
        [
         "27",
         "BMG_GN165822",
         "BMG_TS003358"
        ],
        [
         "29",
         "BMG_GN180065",
         "BMG_TS001890"
        ],
        [
         "30",
         "BMG_GN164407",
         "BMG_TS000388"
        ],
        [
         "43",
         "BMG_GN009438",
         "BMG_TS042610"
        ],
        [
         "44",
         "BMG_GN189061",
         "BMG_TS011016"
        ],
        [
         "46",
         "BMG_GN166306",
         "BMG_TS004547"
        ],
        [
         "66",
         "BMG_GN166389",
         "BMG_TS024222"
        ],
        [
         "67",
         "BMG_GN168932",
         "BMG_TS004881"
        ],
        [
         "70",
         "BMG_GN165624",
         "BMG_TS055490"
        ],
        [
         "71",
         "BMG_GN166570;BMG_GN168310",
         "BMG_TS013653"
        ],
        [
         "74",
         "BMG_GN166840",
         "BMG_TS007484"
        ],
        [
         "75",
         "BMG_GN168112",
         "BMG_TS021813"
        ],
        [
         "77",
         "BMG_GN167847",
         "BMG_TS030724"
        ],
        [
         "79",
         "BMG_GN012402",
         "BMG_TS003698"
        ],
        [
         "80",
         "BMG_GN177774",
         "BMG_TS196579"
        ],
        [
         "84",
         "BMG_GN187718",
         "BMG_TS221491"
        ],
        [
         "85",
         "BMG_GN177775",
         "BMG_TS220723"
        ],
        [
         "89",
         "BMG_GN006990",
         "BMG_TS004208"
        ],
        [
         "94",
         "BMG_GN167013",
         "BMG_TS023517"
        ],
        [
         "95",
         "BMG_GN175756",
         "BMG_TS034121"
        ],
        [
         "97",
         "BMG_GN187532",
         "BMG_TS016068"
        ],
        [
         "102",
         "BMG_GN034722",
         "BMG_TS218991"
        ],
        [
         "106",
         "BMG_GN011563",
         "BMG_TS216660"
        ],
        [
         "107",
         "BMG_GN006989",
         "BMG_TS012246"
        ],
        [
         "114",
         "BMG_GN173096",
         "BMG_TS000391"
        ],
        [
         "119",
         "BMG_GN183399",
         "BMG_TS029487"
        ],
        [
         "122",
         "BMG_GN006993",
         "BMG_TS003204"
        ],
        [
         "127",
         "BMG_GN166881",
         "BMG_TS000689"
        ],
        [
         "128",
         "BMG_GN180349",
         "BMG_TS021806"
        ],
        [
         "130",
         "BMG_GN180350",
         "BMG_TS016172"
        ],
        [
         "163",
         "BMG_GN180688",
         "BMG_TS006776"
        ],
        [
         "165",
         "BMG_GN167445",
         "BMG_TS010940"
        ],
        [
         "167",
         "BMG_GN178850",
         "BMG_TS051174"
        ],
        [
         "177",
         "BMG_GN188879",
         "BMG_TS001568"
        ],
        [
         "178",
         "BMG_GN181187",
         "BMG_TS194692"
        ],
        [
         "182",
         "BMG_GN181288",
         "BMG_TS035953"
        ],
        [
         "184",
         "BMG_GN181290",
         "BMG_TS004830"
        ],
        [
         "185",
         "BMG_GN168891",
         "BMG_TS013119"
        ],
        [
         "191",
         "BMG_GN177213",
         "BMG_TS215884"
        ],
        [
         "192",
         "BMG_GN000141",
         "BMG_TS024871"
        ],
        [
         "212",
         "BMG_GN168280",
         "BMG_TS009921"
        ],
        [
         "214",
         "BMG_GN169401",
         "BMG_TS106754"
        ]
       ],
       "shape": {
        "columns": 2,
        "rows": 6625
       }
      },
      "text/html": [
       "<div>\n",
       "<style scoped>\n",
       "    .dataframe tbody tr th:only-of-type {\n",
       "        vertical-align: middle;\n",
       "    }\n",
       "\n",
       "    .dataframe tbody tr th {\n",
       "        vertical-align: top;\n",
       "    }\n",
       "\n",
       "    .dataframe thead th {\n",
       "        text-align: right;\n",
       "    }\n",
       "</style>\n",
       "<table border=\"1\" class=\"dataframe\">\n",
       "  <thead>\n",
       "    <tr style=\"text-align: right;\">\n",
       "      <th></th>\n",
       "      <th>From_ID</th>\n",
       "      <th>To_ID</th>\n",
       "    </tr>\n",
       "  </thead>\n",
       "  <tbody>\n",
       "    <tr>\n",
       "      <th>0</th>\n",
       "      <td>BMG_GN171396</td>\n",
       "      <td>BMG_TS023854</td>\n",
       "    </tr>\n",
       "    <tr>\n",
       "      <th>11</th>\n",
       "      <td>BMG_GN166569</td>\n",
       "      <td>BMG_TS009928</td>\n",
       "    </tr>\n",
       "    <tr>\n",
       "      <th>12</th>\n",
       "      <td>BMG_GN164978</td>\n",
       "      <td>BMG_TS007200</td>\n",
       "    </tr>\n",
       "    <tr>\n",
       "      <th>16</th>\n",
       "      <td>BMG_GN177970</td>\n",
       "      <td>BMG_TS214111</td>\n",
       "    </tr>\n",
       "    <tr>\n",
       "      <th>17</th>\n",
       "      <td>BMG_GN186187</td>\n",
       "      <td>BMG_TS000417</td>\n",
       "    </tr>\n",
       "    <tr>\n",
       "      <th>...</th>\n",
       "      <td>...</td>\n",
       "      <td>...</td>\n",
       "    </tr>\n",
       "    <tr>\n",
       "      <th>33411</th>\n",
       "      <td>BMG_GN186535</td>\n",
       "      <td>BMG_TS008342</td>\n",
       "    </tr>\n",
       "    <tr>\n",
       "      <th>33413</th>\n",
       "      <td>BMG_GN178523</td>\n",
       "      <td>BMG_TS141990</td>\n",
       "    </tr>\n",
       "    <tr>\n",
       "      <th>33416</th>\n",
       "      <td>BMG_GN180221</td>\n",
       "      <td>BMG_TS002391</td>\n",
       "    </tr>\n",
       "    <tr>\n",
       "      <th>33417</th>\n",
       "      <td>BMG_GN026200</td>\n",
       "      <td>BMG_TS023820</td>\n",
       "    </tr>\n",
       "    <tr>\n",
       "      <th>33420</th>\n",
       "      <td>BMG_GN185214</td>\n",
       "      <td>BMG_TS016776</td>\n",
       "    </tr>\n",
       "  </tbody>\n",
       "</table>\n",
       "<p>6625 rows × 2 columns</p>\n",
       "</div>"
      ],
      "text/plain": [
       "            From_ID         To_ID\n",
       "0      BMG_GN171396  BMG_TS023854\n",
       "11     BMG_GN166569  BMG_TS009928\n",
       "12     BMG_GN164978  BMG_TS007200\n",
       "16     BMG_GN177970  BMG_TS214111\n",
       "17     BMG_GN186187  BMG_TS000417\n",
       "...             ...           ...\n",
       "33411  BMG_GN186535  BMG_TS008342\n",
       "33413  BMG_GN178523  BMG_TS141990\n",
       "33416  BMG_GN180221  BMG_TS002391\n",
       "33417  BMG_GN026200  BMG_TS023820\n",
       "33420  BMG_GN185214  BMG_TS016776\n",
       "\n",
       "[6625 rows x 2 columns]"
      ]
     },
     "execution_count": 12,
     "metadata": {},
     "output_type": "execute_result"
    }
   ],
   "source": [
    "refseq_gene_transcript = df_refseq_gene_transcript[['From_ID','To_ID']]\n",
    "refseq_gene_transcript.dropna(subset=['From_ID'], inplace=True)\n",
    "refseq_gene_transcript.dropna(subset=['To_ID'], inplace = True)\n",
    "refseq_gene_transcript"
   ]
  },
  {
   "cell_type": "code",
   "execution_count": 13,
   "metadata": {},
   "outputs": [
    {
     "data": {
      "application/vnd.microsoft.datawrangler.viewer.v0+json": {
       "columns": [
        {
         "name": "index",
         "rawType": "int64",
         "type": "integer"
        },
        {
         "name": "From_ID",
         "rawType": "object",
         "type": "string"
        },
        {
         "name": "To_ID",
         "rawType": "object",
         "type": "string"
        }
       ],
       "conversionMethod": "pd.DataFrame",
       "ref": "35fe95c1-8e31-40b4-82d6-03300f320779",
       "rows": [
        [
         "0",
         "BMG_GN171396",
         "BMG_TS023854"
        ],
        [
         "1",
         "BMG_GN166569",
         "BMG_TS009928"
        ],
        [
         "2",
         "BMG_GN164978",
         "BMG_TS007200"
        ],
        [
         "3",
         "BMG_GN177970",
         "BMG_TS214111"
        ],
        [
         "4",
         "BMG_GN186187",
         "BMG_TS000417"
        ],
        [
         "5",
         "BMG_GN185681",
         "BMG_TS003392"
        ],
        [
         "6",
         "BMG_GN164725",
         "BMG_TS002106"
        ],
        [
         "7",
         "BMG_GN165342",
         "BMG_TS030618"
        ],
        [
         "8",
         "BMG_GN165822",
         "BMG_TS003358"
        ],
        [
         "9",
         "BMG_GN180065",
         "BMG_TS001890"
        ],
        [
         "10",
         "BMG_GN164407",
         "BMG_TS000388"
        ],
        [
         "11",
         "BMG_GN009438",
         "BMG_TS042610"
        ],
        [
         "12",
         "BMG_GN189061",
         "BMG_TS011016"
        ],
        [
         "13",
         "BMG_GN166306",
         "BMG_TS004547"
        ],
        [
         "14",
         "BMG_GN166389",
         "BMG_TS024222"
        ],
        [
         "15",
         "BMG_GN168932",
         "BMG_TS004881"
        ],
        [
         "16",
         "BMG_GN165624",
         "BMG_TS055490"
        ],
        [
         "17",
         "BMG_GN166570",
         "BMG_TS013653"
        ],
        [
         "18",
         "BMG_GN168310",
         "BMG_TS013653"
        ],
        [
         "19",
         "BMG_GN166840",
         "BMG_TS007484"
        ],
        [
         "20",
         "BMG_GN168112",
         "BMG_TS021813"
        ],
        [
         "21",
         "BMG_GN167847",
         "BMG_TS030724"
        ],
        [
         "22",
         "BMG_GN012402",
         "BMG_TS003698"
        ],
        [
         "23",
         "BMG_GN177774",
         "BMG_TS196579"
        ],
        [
         "24",
         "BMG_GN187718",
         "BMG_TS221491"
        ],
        [
         "25",
         "BMG_GN177775",
         "BMG_TS220723"
        ],
        [
         "26",
         "BMG_GN006990",
         "BMG_TS004208"
        ],
        [
         "27",
         "BMG_GN167013",
         "BMG_TS023517"
        ],
        [
         "28",
         "BMG_GN175756",
         "BMG_TS034121"
        ],
        [
         "29",
         "BMG_GN187532",
         "BMG_TS016068"
        ],
        [
         "30",
         "BMG_GN034722",
         "BMG_TS218991"
        ],
        [
         "31",
         "BMG_GN011563",
         "BMG_TS216660"
        ],
        [
         "32",
         "BMG_GN006989",
         "BMG_TS012246"
        ],
        [
         "33",
         "BMG_GN173096",
         "BMG_TS000391"
        ],
        [
         "34",
         "BMG_GN183399",
         "BMG_TS029487"
        ],
        [
         "35",
         "BMG_GN006993",
         "BMG_TS003204"
        ],
        [
         "36",
         "BMG_GN166881",
         "BMG_TS000689"
        ],
        [
         "37",
         "BMG_GN180349",
         "BMG_TS021806"
        ],
        [
         "38",
         "BMG_GN180350",
         "BMG_TS016172"
        ],
        [
         "39",
         "BMG_GN180688",
         "BMG_TS006776"
        ],
        [
         "40",
         "BMG_GN167445",
         "BMG_TS010940"
        ],
        [
         "41",
         "BMG_GN178850",
         "BMG_TS051174"
        ],
        [
         "42",
         "BMG_GN188879",
         "BMG_TS001568"
        ],
        [
         "43",
         "BMG_GN181187",
         "BMG_TS194692"
        ],
        [
         "44",
         "BMG_GN181288",
         "BMG_TS035953"
        ],
        [
         "45",
         "BMG_GN181290",
         "BMG_TS004830"
        ],
        [
         "46",
         "BMG_GN168891",
         "BMG_TS013119"
        ],
        [
         "47",
         "BMG_GN177213",
         "BMG_TS215884"
        ],
        [
         "48",
         "BMG_GN000141",
         "BMG_TS024871"
        ],
        [
         "49",
         "BMG_GN168280",
         "BMG_TS009921"
        ]
       ],
       "shape": {
        "columns": 2,
        "rows": 7001
       }
      },
      "text/html": [
       "<div>\n",
       "<style scoped>\n",
       "    .dataframe tbody tr th:only-of-type {\n",
       "        vertical-align: middle;\n",
       "    }\n",
       "\n",
       "    .dataframe tbody tr th {\n",
       "        vertical-align: top;\n",
       "    }\n",
       "\n",
       "    .dataframe thead th {\n",
       "        text-align: right;\n",
       "    }\n",
       "</style>\n",
       "<table border=\"1\" class=\"dataframe\">\n",
       "  <thead>\n",
       "    <tr style=\"text-align: right;\">\n",
       "      <th></th>\n",
       "      <th>From_ID</th>\n",
       "      <th>To_ID</th>\n",
       "    </tr>\n",
       "  </thead>\n",
       "  <tbody>\n",
       "    <tr>\n",
       "      <th>0</th>\n",
       "      <td>BMG_GN171396</td>\n",
       "      <td>BMG_TS023854</td>\n",
       "    </tr>\n",
       "    <tr>\n",
       "      <th>1</th>\n",
       "      <td>BMG_GN166569</td>\n",
       "      <td>BMG_TS009928</td>\n",
       "    </tr>\n",
       "    <tr>\n",
       "      <th>2</th>\n",
       "      <td>BMG_GN164978</td>\n",
       "      <td>BMG_TS007200</td>\n",
       "    </tr>\n",
       "    <tr>\n",
       "      <th>3</th>\n",
       "      <td>BMG_GN177970</td>\n",
       "      <td>BMG_TS214111</td>\n",
       "    </tr>\n",
       "    <tr>\n",
       "      <th>4</th>\n",
       "      <td>BMG_GN186187</td>\n",
       "      <td>BMG_TS000417</td>\n",
       "    </tr>\n",
       "    <tr>\n",
       "      <th>...</th>\n",
       "      <td>...</td>\n",
       "      <td>...</td>\n",
       "    </tr>\n",
       "    <tr>\n",
       "      <th>6996</th>\n",
       "      <td>BMG_GN186535</td>\n",
       "      <td>BMG_TS008342</td>\n",
       "    </tr>\n",
       "    <tr>\n",
       "      <th>6997</th>\n",
       "      <td>BMG_GN178523</td>\n",
       "      <td>BMG_TS141990</td>\n",
       "    </tr>\n",
       "    <tr>\n",
       "      <th>6998</th>\n",
       "      <td>BMG_GN180221</td>\n",
       "      <td>BMG_TS002391</td>\n",
       "    </tr>\n",
       "    <tr>\n",
       "      <th>6999</th>\n",
       "      <td>BMG_GN026200</td>\n",
       "      <td>BMG_TS023820</td>\n",
       "    </tr>\n",
       "    <tr>\n",
       "      <th>7000</th>\n",
       "      <td>BMG_GN185214</td>\n",
       "      <td>BMG_TS016776</td>\n",
       "    </tr>\n",
       "  </tbody>\n",
       "</table>\n",
       "<p>7001 rows × 2 columns</p>\n",
       "</div>"
      ],
      "text/plain": [
       "           From_ID         To_ID\n",
       "0     BMG_GN171396  BMG_TS023854\n",
       "1     BMG_GN166569  BMG_TS009928\n",
       "2     BMG_GN164978  BMG_TS007200\n",
       "3     BMG_GN177970  BMG_TS214111\n",
       "4     BMG_GN186187  BMG_TS000417\n",
       "...            ...           ...\n",
       "6996  BMG_GN186535  BMG_TS008342\n",
       "6997  BMG_GN178523  BMG_TS141990\n",
       "6998  BMG_GN180221  BMG_TS002391\n",
       "6999  BMG_GN026200  BMG_TS023820\n",
       "7000  BMG_GN185214  BMG_TS016776\n",
       "\n",
       "[7001 rows x 2 columns]"
      ]
     },
     "execution_count": 13,
     "metadata": {},
     "output_type": "execute_result"
    }
   ],
   "source": [
    "# Split individual IDs by semicolon and explode into multiple rows\n",
    "final_df = refseq_gene_transcript.copy()\n",
    "\n",
    "# Split and explode individualid_RSG\n",
    "final_df['From_ID'] = final_df['From_ID'].str.split(';')\n",
    "final_df = final_df.explode('From_ID').reset_index(drop=True)\n",
    "\n",
    "# Split and explode individualid_RNA\n",
    "final_df['To_ID'] = final_df['To_ID'].str.split(';')\n",
    "final_df = final_df.explode('To_ID').reset_index(drop=True)\n",
    "\n",
    "final_df"
   ]
  },
  {
   "cell_type": "markdown",
   "metadata": {},
   "source": [
    "### Gene-Transcript Relation"
   ]
  },
  {
   "cell_type": "code",
   "execution_count": 14,
   "metadata": {},
   "outputs": [
    {
     "data": {
      "application/vnd.microsoft.datawrangler.viewer.v0+json": {
       "columns": [
        {
         "name": "index",
         "rawType": "int64",
         "type": "integer"
        },
        {
         "name": "From_ID",
         "rawType": "object",
         "type": "string"
        },
        {
         "name": "To_ID",
         "rawType": "object",
         "type": "string"
        },
        {
         "name": "source1",
         "rawType": "object",
         "type": "unknown"
        },
        {
         "name": "source2",
         "rawType": "object",
         "type": "unknown"
        }
       ],
       "conversionMethod": "pd.DataFrame",
       "ref": "633ec49e-bacd-40b5-a4d0-9afcd180584e",
       "rows": [
        [
         "0",
         "BMG_GN000001",
         "BMG_TS003701",
         "Ensembl",
         null
        ],
        [
         "1",
         "BMG_GN000001",
         "BMG_TS179160",
         "Ensembl",
         null
        ],
        [
         "2",
         "BMG_GN000001",
         "BMG_TS180263",
         "Ensembl",
         null
        ],
        [
         "3",
         "BMG_GN000001",
         "BMG_TS181076",
         "Ensembl",
         null
        ],
        [
         "4",
         "BMG_GN000001",
         "BMG_TS182582",
         "Ensembl",
         null
        ],
        [
         "5",
         "BMG_GN000002",
         "BMG_TS005816",
         "Ensembl",
         "RefSeq"
        ],
        [
         "6",
         "BMG_GN000002",
         "BMG_TS121920",
         "Ensembl",
         null
        ],
        [
         "7",
         "BMG_GN000003",
         "BMG_TS023214",
         "Ensembl",
         "RefSeq"
        ],
        [
         "8",
         "BMG_GN000003",
         "BMG_TS075666",
         "Ensembl",
         null
        ],
        [
         "9",
         "BMG_GN000003",
         "BMG_TS100797",
         "Ensembl",
         null
        ],
        [
         "10",
         "BMG_GN000003",
         "BMG_TS135993",
         "Ensembl",
         null
        ],
        [
         "11",
         "BMG_GN000003",
         "BMG_TS136275",
         "Ensembl",
         null
        ],
        [
         "12",
         "BMG_GN000003",
         "BMG_TS136520",
         "Ensembl",
         null
        ],
        [
         "13",
         "BMG_GN000003",
         "BMG_TS137241",
         "Ensembl",
         null
        ],
        [
         "14",
         "BMG_GN000003",
         "BMG_TS138058",
         "Ensembl",
         null
        ],
        [
         "15",
         "BMG_GN000003",
         "BMG_TS141786",
         "Ensembl",
         null
        ],
        [
         "16",
         "BMG_GN000003",
         "BMG_TS264076",
         "Ensembl",
         null
        ],
        [
         "17",
         "BMG_GN000003",
         "BMG_TS264077",
         "Ensembl",
         null
        ],
        [
         "18",
         "BMG_GN000003",
         "BMG_TS264078",
         "Ensembl",
         null
        ],
        [
         "19",
         "BMG_GN000003",
         "BMG_TS264110",
         "Ensembl",
         null
        ],
        [
         "20",
         "BMG_GN000003",
         "BMG_TS264132",
         "Ensembl",
         null
        ],
        [
         "21",
         "BMG_GN000003",
         "BMG_TS264139",
         "Ensembl",
         null
        ],
        [
         "22",
         "BMG_GN000003",
         "BMG_TS264140",
         "Ensembl",
         null
        ],
        [
         "23",
         "BMG_GN000003",
         "BMG_TS264169",
         "Ensembl",
         null
        ],
        [
         "24",
         "BMG_GN000003",
         "BMG_TS264170",
         "Ensembl",
         null
        ],
        [
         "25",
         "BMG_GN000003",
         "BMG_TS264171",
         "Ensembl",
         null
        ],
        [
         "26",
         "BMG_GN000003",
         "BMG_TS264172",
         "Ensembl",
         null
        ],
        [
         "27",
         "BMG_GN000003",
         "BMG_TS264173",
         "Ensembl",
         null
        ],
        [
         "28",
         "BMG_GN000003",
         "BMG_TS264174",
         "Ensembl",
         null
        ],
        [
         "29",
         "BMG_GN000003",
         "BMG_TS264175",
         "Ensembl",
         null
        ],
        [
         "30",
         "BMG_GN000003",
         "BMG_TS264181",
         "Ensembl",
         null
        ],
        [
         "31",
         "BMG_GN000003",
         "BMG_TS264182",
         "Ensembl",
         null
        ],
        [
         "32",
         "BMG_GN000003",
         "BMG_TS264183",
         "Ensembl",
         null
        ],
        [
         "33",
         "BMG_GN000003",
         "BMG_TS264184",
         "Ensembl",
         null
        ],
        [
         "34",
         "BMG_GN000003",
         "BMG_TS264185",
         "Ensembl",
         null
        ],
        [
         "35",
         "BMG_GN000003",
         "BMG_TS264186",
         "Ensembl",
         null
        ],
        [
         "36",
         "BMG_GN000003",
         "BMG_TS264187",
         "Ensembl",
         null
        ],
        [
         "37",
         "BMG_GN000003",
         "BMG_TS264188",
         "Ensembl",
         null
        ],
        [
         "38",
         "BMG_GN000003",
         "BMG_TS264195",
         "Ensembl",
         null
        ],
        [
         "39",
         "BMG_GN000003",
         "BMG_TS264212",
         "Ensembl",
         null
        ],
        [
         "40",
         "BMG_GN000003",
         "BMG_TS264213",
         "Ensembl",
         null
        ],
        [
         "41",
         "BMG_GN000003",
         "BMG_TS264214",
         "Ensembl",
         null
        ],
        [
         "42",
         "BMG_GN000003",
         "BMG_TS264215",
         "Ensembl",
         null
        ],
        [
         "43",
         "BMG_GN000003",
         "BMG_TS264216",
         "Ensembl",
         null
        ],
        [
         "44",
         "BMG_GN000003",
         "BMG_TS264217",
         "Ensembl",
         null
        ],
        [
         "45",
         "BMG_GN000003",
         "BMG_TS264236",
         "Ensembl",
         null
        ],
        [
         "46",
         "BMG_GN000003",
         "BMG_TS264237",
         "Ensembl",
         null
        ],
        [
         "47",
         "BMG_GN000003",
         "BMG_TS264238",
         "Ensembl",
         null
        ],
        [
         "48",
         "BMG_GN000003",
         "BMG_TS264239",
         "Ensembl",
         null
        ],
        [
         "49",
         "BMG_GN000003",
         "BMG_TS264240",
         "Ensembl",
         null
        ]
       ],
       "shape": {
        "columns": 4,
        "rows": 427810
       }
      },
      "text/html": [
       "<div>\n",
       "<style scoped>\n",
       "    .dataframe tbody tr th:only-of-type {\n",
       "        vertical-align: middle;\n",
       "    }\n",
       "\n",
       "    .dataframe tbody tr th {\n",
       "        vertical-align: top;\n",
       "    }\n",
       "\n",
       "    .dataframe thead th {\n",
       "        text-align: right;\n",
       "    }\n",
       "</style>\n",
       "<table border=\"1\" class=\"dataframe\">\n",
       "  <thead>\n",
       "    <tr style=\"text-align: right;\">\n",
       "      <th></th>\n",
       "      <th>From_ID</th>\n",
       "      <th>To_ID</th>\n",
       "      <th>source1</th>\n",
       "      <th>source2</th>\n",
       "    </tr>\n",
       "  </thead>\n",
       "  <tbody>\n",
       "    <tr>\n",
       "      <th>0</th>\n",
       "      <td>BMG_GN000001</td>\n",
       "      <td>BMG_TS003701</td>\n",
       "      <td>Ensembl</td>\n",
       "      <td>NaN</td>\n",
       "    </tr>\n",
       "    <tr>\n",
       "      <th>1</th>\n",
       "      <td>BMG_GN000001</td>\n",
       "      <td>BMG_TS179160</td>\n",
       "      <td>Ensembl</td>\n",
       "      <td>NaN</td>\n",
       "    </tr>\n",
       "    <tr>\n",
       "      <th>2</th>\n",
       "      <td>BMG_GN000001</td>\n",
       "      <td>BMG_TS180263</td>\n",
       "      <td>Ensembl</td>\n",
       "      <td>NaN</td>\n",
       "    </tr>\n",
       "    <tr>\n",
       "      <th>3</th>\n",
       "      <td>BMG_GN000001</td>\n",
       "      <td>BMG_TS181076</td>\n",
       "      <td>Ensembl</td>\n",
       "      <td>NaN</td>\n",
       "    </tr>\n",
       "    <tr>\n",
       "      <th>4</th>\n",
       "      <td>BMG_GN000001</td>\n",
       "      <td>BMG_TS182582</td>\n",
       "      <td>Ensembl</td>\n",
       "      <td>NaN</td>\n",
       "    </tr>\n",
       "    <tr>\n",
       "      <th>...</th>\n",
       "      <td>...</td>\n",
       "      <td>...</td>\n",
       "      <td>...</td>\n",
       "      <td>...</td>\n",
       "    </tr>\n",
       "    <tr>\n",
       "      <th>427805</th>\n",
       "      <td>BMG_GN230311</td>\n",
       "      <td>BMG_TS412217</td>\n",
       "      <td>Ensembl</td>\n",
       "      <td>NaN</td>\n",
       "    </tr>\n",
       "    <tr>\n",
       "      <th>427806</th>\n",
       "      <td>BMG_GN230312</td>\n",
       "      <td>BMG_TS412299</td>\n",
       "      <td>Ensembl</td>\n",
       "      <td>NaN</td>\n",
       "    </tr>\n",
       "    <tr>\n",
       "      <th>427807</th>\n",
       "      <td>BMG_GN230312</td>\n",
       "      <td>BMG_TS412300</td>\n",
       "      <td>Ensembl</td>\n",
       "      <td>NaN</td>\n",
       "    </tr>\n",
       "    <tr>\n",
       "      <th>427808</th>\n",
       "      <td>BMG_GN230312</td>\n",
       "      <td>BMG_TS412301</td>\n",
       "      <td>Ensembl</td>\n",
       "      <td>NaN</td>\n",
       "    </tr>\n",
       "    <tr>\n",
       "      <th>427809</th>\n",
       "      <td>BMG_GN230312</td>\n",
       "      <td>BMG_TS412302</td>\n",
       "      <td>Ensembl</td>\n",
       "      <td>NaN</td>\n",
       "    </tr>\n",
       "  </tbody>\n",
       "</table>\n",
       "<p>427810 rows × 4 columns</p>\n",
       "</div>"
      ],
      "text/plain": [
       "             From_ID         To_ID  source1 source2\n",
       "0       BMG_GN000001  BMG_TS003701  Ensembl     NaN\n",
       "1       BMG_GN000001  BMG_TS179160  Ensembl     NaN\n",
       "2       BMG_GN000001  BMG_TS180263  Ensembl     NaN\n",
       "3       BMG_GN000001  BMG_TS181076  Ensembl     NaN\n",
       "4       BMG_GN000001  BMG_TS182582  Ensembl     NaN\n",
       "...              ...           ...      ...     ...\n",
       "427805  BMG_GN230311  BMG_TS412217  Ensembl     NaN\n",
       "427806  BMG_GN230312  BMG_TS412299  Ensembl     NaN\n",
       "427807  BMG_GN230312  BMG_TS412300  Ensembl     NaN\n",
       "427808  BMG_GN230312  BMG_TS412301  Ensembl     NaN\n",
       "427809  BMG_GN230312  BMG_TS412302  Ensembl     NaN\n",
       "\n",
       "[427810 rows x 4 columns]"
      ]
     },
     "execution_count": 14,
     "metadata": {},
     "output_type": "execute_result"
    }
   ],
   "source": [
    "biomedgraphica_ensembl_gene_transcript = df_ensembl_gene_transcript.copy()\n",
    "biomedgraphica_ensembl_gene_transcript['source1'] = 'Ensembl'\n",
    "\n",
    "biomedgraphica_refseq_gene_transcript = final_df.copy()\n",
    "biomedgraphica_refseq_gene_transcript['source2'] = 'RefSeq'\n",
    "\n",
    "biomedgraphica_gene_transcript = pd.merge(biomedgraphica_ensembl_gene_transcript, biomedgraphica_refseq_gene_transcript, how='outer')\n",
    "biomedgraphica_gene_transcript"
   ]
  },
  {
   "cell_type": "code",
   "execution_count": 15,
   "metadata": {},
   "outputs": [
    {
     "data": {
      "application/vnd.microsoft.datawrangler.viewer.v0+json": {
       "columns": [
        {
         "name": "index",
         "rawType": "int64",
         "type": "integer"
        },
        {
         "name": "From_ID",
         "rawType": "object",
         "type": "string"
        },
        {
         "name": "To_ID",
         "rawType": "object",
         "type": "string"
        },
        {
         "name": "Source",
         "rawType": "object",
         "type": "string"
        }
       ],
       "conversionMethod": "pd.DataFrame",
       "ref": "f7fcbe13-7a15-41af-9d80-c062860cf232",
       "rows": [
        [
         "0",
         "BMG_GN000001",
         "BMG_TS003701",
         "Ensembl"
        ],
        [
         "1",
         "BMG_GN000001",
         "BMG_TS179160",
         "Ensembl"
        ],
        [
         "2",
         "BMG_GN000001",
         "BMG_TS180263",
         "Ensembl"
        ],
        [
         "3",
         "BMG_GN000001",
         "BMG_TS181076",
         "Ensembl"
        ],
        [
         "4",
         "BMG_GN000001",
         "BMG_TS182582",
         "Ensembl"
        ],
        [
         "5",
         "BMG_GN000002",
         "BMG_TS005816",
         "RefSeq;Ensembl"
        ],
        [
         "6",
         "BMG_GN000002",
         "BMG_TS121920",
         "Ensembl"
        ],
        [
         "7",
         "BMG_GN000003",
         "BMG_TS023214",
         "RefSeq;Ensembl"
        ],
        [
         "8",
         "BMG_GN000003",
         "BMG_TS075666",
         "Ensembl"
        ],
        [
         "9",
         "BMG_GN000003",
         "BMG_TS100797",
         "Ensembl"
        ],
        [
         "10",
         "BMG_GN000003",
         "BMG_TS135993",
         "Ensembl"
        ],
        [
         "11",
         "BMG_GN000003",
         "BMG_TS136275",
         "Ensembl"
        ],
        [
         "12",
         "BMG_GN000003",
         "BMG_TS136520",
         "Ensembl"
        ],
        [
         "13",
         "BMG_GN000003",
         "BMG_TS137241",
         "Ensembl"
        ],
        [
         "14",
         "BMG_GN000003",
         "BMG_TS138058",
         "Ensembl"
        ],
        [
         "15",
         "BMG_GN000003",
         "BMG_TS141786",
         "Ensembl"
        ],
        [
         "16",
         "BMG_GN000003",
         "BMG_TS264076",
         "Ensembl"
        ],
        [
         "17",
         "BMG_GN000003",
         "BMG_TS264077",
         "Ensembl"
        ],
        [
         "18",
         "BMG_GN000003",
         "BMG_TS264078",
         "Ensembl"
        ],
        [
         "19",
         "BMG_GN000003",
         "BMG_TS264110",
         "Ensembl"
        ],
        [
         "20",
         "BMG_GN000003",
         "BMG_TS264132",
         "Ensembl"
        ],
        [
         "21",
         "BMG_GN000003",
         "BMG_TS264139",
         "Ensembl"
        ],
        [
         "22",
         "BMG_GN000003",
         "BMG_TS264140",
         "Ensembl"
        ],
        [
         "23",
         "BMG_GN000003",
         "BMG_TS264169",
         "Ensembl"
        ],
        [
         "24",
         "BMG_GN000003",
         "BMG_TS264170",
         "Ensembl"
        ],
        [
         "25",
         "BMG_GN000003",
         "BMG_TS264171",
         "Ensembl"
        ],
        [
         "26",
         "BMG_GN000003",
         "BMG_TS264172",
         "Ensembl"
        ],
        [
         "27",
         "BMG_GN000003",
         "BMG_TS264173",
         "Ensembl"
        ],
        [
         "28",
         "BMG_GN000003",
         "BMG_TS264174",
         "Ensembl"
        ],
        [
         "29",
         "BMG_GN000003",
         "BMG_TS264175",
         "Ensembl"
        ],
        [
         "30",
         "BMG_GN000003",
         "BMG_TS264181",
         "Ensembl"
        ],
        [
         "31",
         "BMG_GN000003",
         "BMG_TS264182",
         "Ensembl"
        ],
        [
         "32",
         "BMG_GN000003",
         "BMG_TS264183",
         "Ensembl"
        ],
        [
         "33",
         "BMG_GN000003",
         "BMG_TS264184",
         "Ensembl"
        ],
        [
         "34",
         "BMG_GN000003",
         "BMG_TS264185",
         "Ensembl"
        ],
        [
         "35",
         "BMG_GN000003",
         "BMG_TS264186",
         "Ensembl"
        ],
        [
         "36",
         "BMG_GN000003",
         "BMG_TS264187",
         "Ensembl"
        ],
        [
         "37",
         "BMG_GN000003",
         "BMG_TS264188",
         "Ensembl"
        ],
        [
         "38",
         "BMG_GN000003",
         "BMG_TS264195",
         "Ensembl"
        ],
        [
         "39",
         "BMG_GN000003",
         "BMG_TS264212",
         "Ensembl"
        ],
        [
         "40",
         "BMG_GN000003",
         "BMG_TS264213",
         "Ensembl"
        ],
        [
         "41",
         "BMG_GN000003",
         "BMG_TS264214",
         "Ensembl"
        ],
        [
         "42",
         "BMG_GN000003",
         "BMG_TS264215",
         "Ensembl"
        ],
        [
         "43",
         "BMG_GN000003",
         "BMG_TS264216",
         "Ensembl"
        ],
        [
         "44",
         "BMG_GN000003",
         "BMG_TS264217",
         "Ensembl"
        ],
        [
         "45",
         "BMG_GN000003",
         "BMG_TS264236",
         "Ensembl"
        ],
        [
         "46",
         "BMG_GN000003",
         "BMG_TS264237",
         "Ensembl"
        ],
        [
         "47",
         "BMG_GN000003",
         "BMG_TS264238",
         "Ensembl"
        ],
        [
         "48",
         "BMG_GN000003",
         "BMG_TS264239",
         "Ensembl"
        ],
        [
         "49",
         "BMG_GN000003",
         "BMG_TS264240",
         "Ensembl"
        ]
       ],
       "shape": {
        "columns": 3,
        "rows": 427810
       }
      },
      "text/html": [
       "<div>\n",
       "<style scoped>\n",
       "    .dataframe tbody tr th:only-of-type {\n",
       "        vertical-align: middle;\n",
       "    }\n",
       "\n",
       "    .dataframe tbody tr th {\n",
       "        vertical-align: top;\n",
       "    }\n",
       "\n",
       "    .dataframe thead th {\n",
       "        text-align: right;\n",
       "    }\n",
       "</style>\n",
       "<table border=\"1\" class=\"dataframe\">\n",
       "  <thead>\n",
       "    <tr style=\"text-align: right;\">\n",
       "      <th></th>\n",
       "      <th>From_ID</th>\n",
       "      <th>To_ID</th>\n",
       "      <th>Source</th>\n",
       "    </tr>\n",
       "  </thead>\n",
       "  <tbody>\n",
       "    <tr>\n",
       "      <th>0</th>\n",
       "      <td>BMG_GN000001</td>\n",
       "      <td>BMG_TS003701</td>\n",
       "      <td>Ensembl</td>\n",
       "    </tr>\n",
       "    <tr>\n",
       "      <th>1</th>\n",
       "      <td>BMG_GN000001</td>\n",
       "      <td>BMG_TS179160</td>\n",
       "      <td>Ensembl</td>\n",
       "    </tr>\n",
       "    <tr>\n",
       "      <th>2</th>\n",
       "      <td>BMG_GN000001</td>\n",
       "      <td>BMG_TS180263</td>\n",
       "      <td>Ensembl</td>\n",
       "    </tr>\n",
       "    <tr>\n",
       "      <th>3</th>\n",
       "      <td>BMG_GN000001</td>\n",
       "      <td>BMG_TS181076</td>\n",
       "      <td>Ensembl</td>\n",
       "    </tr>\n",
       "    <tr>\n",
       "      <th>4</th>\n",
       "      <td>BMG_GN000001</td>\n",
       "      <td>BMG_TS182582</td>\n",
       "      <td>Ensembl</td>\n",
       "    </tr>\n",
       "    <tr>\n",
       "      <th>...</th>\n",
       "      <td>...</td>\n",
       "      <td>...</td>\n",
       "      <td>...</td>\n",
       "    </tr>\n",
       "    <tr>\n",
       "      <th>427805</th>\n",
       "      <td>BMG_GN230311</td>\n",
       "      <td>BMG_TS412217</td>\n",
       "      <td>Ensembl</td>\n",
       "    </tr>\n",
       "    <tr>\n",
       "      <th>427806</th>\n",
       "      <td>BMG_GN230312</td>\n",
       "      <td>BMG_TS412299</td>\n",
       "      <td>Ensembl</td>\n",
       "    </tr>\n",
       "    <tr>\n",
       "      <th>427807</th>\n",
       "      <td>BMG_GN230312</td>\n",
       "      <td>BMG_TS412300</td>\n",
       "      <td>Ensembl</td>\n",
       "    </tr>\n",
       "    <tr>\n",
       "      <th>427808</th>\n",
       "      <td>BMG_GN230312</td>\n",
       "      <td>BMG_TS412301</td>\n",
       "      <td>Ensembl</td>\n",
       "    </tr>\n",
       "    <tr>\n",
       "      <th>427809</th>\n",
       "      <td>BMG_GN230312</td>\n",
       "      <td>BMG_TS412302</td>\n",
       "      <td>Ensembl</td>\n",
       "    </tr>\n",
       "  </tbody>\n",
       "</table>\n",
       "<p>427810 rows × 3 columns</p>\n",
       "</div>"
      ],
      "text/plain": [
       "             From_ID         To_ID   Source\n",
       "0       BMG_GN000001  BMG_TS003701  Ensembl\n",
       "1       BMG_GN000001  BMG_TS179160  Ensembl\n",
       "2       BMG_GN000001  BMG_TS180263  Ensembl\n",
       "3       BMG_GN000001  BMG_TS181076  Ensembl\n",
       "4       BMG_GN000001  BMG_TS182582  Ensembl\n",
       "...              ...           ...      ...\n",
       "427805  BMG_GN230311  BMG_TS412217  Ensembl\n",
       "427806  BMG_GN230312  BMG_TS412299  Ensembl\n",
       "427807  BMG_GN230312  BMG_TS412300  Ensembl\n",
       "427808  BMG_GN230312  BMG_TS412301  Ensembl\n",
       "427809  BMG_GN230312  BMG_TS412302  Ensembl\n",
       "\n",
       "[427810 rows x 3 columns]"
      ]
     },
     "execution_count": 15,
     "metadata": {},
     "output_type": "execute_result"
    }
   ],
   "source": [
    "def merge_string_columns(df, columns, merge_name, separator=';'):\n",
    "    def merge_strings(row):\n",
    "        combined = set()\n",
    "        for column in columns:\n",
    "            if pd.notnull(row[column]):\n",
    "                combined.update(row[column].split(separator))\n",
    "        return separator.join(combined)\n",
    "    \n",
    "    # Apply the function to each row and create a new column\n",
    "    combined_column_name = merge_name\n",
    "    df[combined_column_name] = df.apply(merge_strings, axis=1)\n",
    "    df.drop(columns=columns, inplace=True)\n",
    "    \n",
    "    return df\n",
    "\n",
    "biomedgraphica_gene_transcript = merge_string_columns(biomedgraphica_gene_transcript, ['source1', 'source2'], 'Source')\n",
    "biomedgraphica_gene_transcript"
   ]
  },
  {
   "cell_type": "code",
   "execution_count": 16,
   "metadata": {},
   "outputs": [
    {
     "data": {
      "application/vnd.microsoft.datawrangler.viewer.v0+json": {
       "columns": [
        {
         "name": "index",
         "rawType": "int64",
         "type": "integer"
        },
        {
         "name": "BioMedGraphica_ID",
         "rawType": "object",
         "type": "string"
        },
        {
         "name": "From_ID",
         "rawType": "object",
         "type": "string"
        },
        {
         "name": "To_ID",
         "rawType": "object",
         "type": "string"
        },
        {
         "name": "Source",
         "rawType": "object",
         "type": "string"
        },
        {
         "name": "Type",
         "rawType": "object",
         "type": "string"
        }
       ],
       "conversionMethod": "pd.DataFrame",
       "ref": "cc4b926e-cfb7-4134-9b6d-0a5ee51c06fc",
       "rows": [
        [
         "0",
         "BMG_ED_GNTS000001",
         "BMG_GN000001",
         "BMG_TS003701",
         "Ensembl",
         "Gene-Transcript"
        ],
        [
         "1",
         "BMG_ED_GNTS000002",
         "BMG_GN000001",
         "BMG_TS179160",
         "Ensembl",
         "Gene-Transcript"
        ],
        [
         "2",
         "BMG_ED_GNTS000003",
         "BMG_GN000001",
         "BMG_TS180263",
         "Ensembl",
         "Gene-Transcript"
        ],
        [
         "3",
         "BMG_ED_GNTS000004",
         "BMG_GN000001",
         "BMG_TS181076",
         "Ensembl",
         "Gene-Transcript"
        ],
        [
         "4",
         "BMG_ED_GNTS000005",
         "BMG_GN000001",
         "BMG_TS182582",
         "Ensembl",
         "Gene-Transcript"
        ],
        [
         "5",
         "BMG_ED_GNTS000006",
         "BMG_GN000002",
         "BMG_TS005816",
         "RefSeq;Ensembl",
         "Gene-Transcript"
        ],
        [
         "6",
         "BMG_ED_GNTS000007",
         "BMG_GN000002",
         "BMG_TS121920",
         "Ensembl",
         "Gene-Transcript"
        ],
        [
         "7",
         "BMG_ED_GNTS000008",
         "BMG_GN000003",
         "BMG_TS023214",
         "RefSeq;Ensembl",
         "Gene-Transcript"
        ],
        [
         "8",
         "BMG_ED_GNTS000009",
         "BMG_GN000003",
         "BMG_TS075666",
         "Ensembl",
         "Gene-Transcript"
        ],
        [
         "9",
         "BMG_ED_GNTS000010",
         "BMG_GN000003",
         "BMG_TS100797",
         "Ensembl",
         "Gene-Transcript"
        ],
        [
         "10",
         "BMG_ED_GNTS000011",
         "BMG_GN000003",
         "BMG_TS135993",
         "Ensembl",
         "Gene-Transcript"
        ],
        [
         "11",
         "BMG_ED_GNTS000012",
         "BMG_GN000003",
         "BMG_TS136275",
         "Ensembl",
         "Gene-Transcript"
        ],
        [
         "12",
         "BMG_ED_GNTS000013",
         "BMG_GN000003",
         "BMG_TS136520",
         "Ensembl",
         "Gene-Transcript"
        ],
        [
         "13",
         "BMG_ED_GNTS000014",
         "BMG_GN000003",
         "BMG_TS137241",
         "Ensembl",
         "Gene-Transcript"
        ],
        [
         "14",
         "BMG_ED_GNTS000015",
         "BMG_GN000003",
         "BMG_TS138058",
         "Ensembl",
         "Gene-Transcript"
        ],
        [
         "15",
         "BMG_ED_GNTS000016",
         "BMG_GN000003",
         "BMG_TS141786",
         "Ensembl",
         "Gene-Transcript"
        ],
        [
         "16",
         "BMG_ED_GNTS000017",
         "BMG_GN000003",
         "BMG_TS264076",
         "Ensembl",
         "Gene-Transcript"
        ],
        [
         "17",
         "BMG_ED_GNTS000018",
         "BMG_GN000003",
         "BMG_TS264077",
         "Ensembl",
         "Gene-Transcript"
        ],
        [
         "18",
         "BMG_ED_GNTS000019",
         "BMG_GN000003",
         "BMG_TS264078",
         "Ensembl",
         "Gene-Transcript"
        ],
        [
         "19",
         "BMG_ED_GNTS000020",
         "BMG_GN000003",
         "BMG_TS264110",
         "Ensembl",
         "Gene-Transcript"
        ],
        [
         "20",
         "BMG_ED_GNTS000021",
         "BMG_GN000003",
         "BMG_TS264132",
         "Ensembl",
         "Gene-Transcript"
        ],
        [
         "21",
         "BMG_ED_GNTS000022",
         "BMG_GN000003",
         "BMG_TS264139",
         "Ensembl",
         "Gene-Transcript"
        ],
        [
         "22",
         "BMG_ED_GNTS000023",
         "BMG_GN000003",
         "BMG_TS264140",
         "Ensembl",
         "Gene-Transcript"
        ],
        [
         "23",
         "BMG_ED_GNTS000024",
         "BMG_GN000003",
         "BMG_TS264169",
         "Ensembl",
         "Gene-Transcript"
        ],
        [
         "24",
         "BMG_ED_GNTS000025",
         "BMG_GN000003",
         "BMG_TS264170",
         "Ensembl",
         "Gene-Transcript"
        ],
        [
         "25",
         "BMG_ED_GNTS000026",
         "BMG_GN000003",
         "BMG_TS264171",
         "Ensembl",
         "Gene-Transcript"
        ],
        [
         "26",
         "BMG_ED_GNTS000027",
         "BMG_GN000003",
         "BMG_TS264172",
         "Ensembl",
         "Gene-Transcript"
        ],
        [
         "27",
         "BMG_ED_GNTS000028",
         "BMG_GN000003",
         "BMG_TS264173",
         "Ensembl",
         "Gene-Transcript"
        ],
        [
         "28",
         "BMG_ED_GNTS000029",
         "BMG_GN000003",
         "BMG_TS264174",
         "Ensembl",
         "Gene-Transcript"
        ],
        [
         "29",
         "BMG_ED_GNTS000030",
         "BMG_GN000003",
         "BMG_TS264175",
         "Ensembl",
         "Gene-Transcript"
        ],
        [
         "30",
         "BMG_ED_GNTS000031",
         "BMG_GN000003",
         "BMG_TS264181",
         "Ensembl",
         "Gene-Transcript"
        ],
        [
         "31",
         "BMG_ED_GNTS000032",
         "BMG_GN000003",
         "BMG_TS264182",
         "Ensembl",
         "Gene-Transcript"
        ],
        [
         "32",
         "BMG_ED_GNTS000033",
         "BMG_GN000003",
         "BMG_TS264183",
         "Ensembl",
         "Gene-Transcript"
        ],
        [
         "33",
         "BMG_ED_GNTS000034",
         "BMG_GN000003",
         "BMG_TS264184",
         "Ensembl",
         "Gene-Transcript"
        ],
        [
         "34",
         "BMG_ED_GNTS000035",
         "BMG_GN000003",
         "BMG_TS264185",
         "Ensembl",
         "Gene-Transcript"
        ],
        [
         "35",
         "BMG_ED_GNTS000036",
         "BMG_GN000003",
         "BMG_TS264186",
         "Ensembl",
         "Gene-Transcript"
        ],
        [
         "36",
         "BMG_ED_GNTS000037",
         "BMG_GN000003",
         "BMG_TS264187",
         "Ensembl",
         "Gene-Transcript"
        ],
        [
         "37",
         "BMG_ED_GNTS000038",
         "BMG_GN000003",
         "BMG_TS264188",
         "Ensembl",
         "Gene-Transcript"
        ],
        [
         "38",
         "BMG_ED_GNTS000039",
         "BMG_GN000003",
         "BMG_TS264195",
         "Ensembl",
         "Gene-Transcript"
        ],
        [
         "39",
         "BMG_ED_GNTS000040",
         "BMG_GN000003",
         "BMG_TS264212",
         "Ensembl",
         "Gene-Transcript"
        ],
        [
         "40",
         "BMG_ED_GNTS000041",
         "BMG_GN000003",
         "BMG_TS264213",
         "Ensembl",
         "Gene-Transcript"
        ],
        [
         "41",
         "BMG_ED_GNTS000042",
         "BMG_GN000003",
         "BMG_TS264214",
         "Ensembl",
         "Gene-Transcript"
        ],
        [
         "42",
         "BMG_ED_GNTS000043",
         "BMG_GN000003",
         "BMG_TS264215",
         "Ensembl",
         "Gene-Transcript"
        ],
        [
         "43",
         "BMG_ED_GNTS000044",
         "BMG_GN000003",
         "BMG_TS264216",
         "Ensembl",
         "Gene-Transcript"
        ],
        [
         "44",
         "BMG_ED_GNTS000045",
         "BMG_GN000003",
         "BMG_TS264217",
         "Ensembl",
         "Gene-Transcript"
        ],
        [
         "45",
         "BMG_ED_GNTS000046",
         "BMG_GN000003",
         "BMG_TS264236",
         "Ensembl",
         "Gene-Transcript"
        ],
        [
         "46",
         "BMG_ED_GNTS000047",
         "BMG_GN000003",
         "BMG_TS264237",
         "Ensembl",
         "Gene-Transcript"
        ],
        [
         "47",
         "BMG_ED_GNTS000048",
         "BMG_GN000003",
         "BMG_TS264238",
         "Ensembl",
         "Gene-Transcript"
        ],
        [
         "48",
         "BMG_ED_GNTS000049",
         "BMG_GN000003",
         "BMG_TS264239",
         "Ensembl",
         "Gene-Transcript"
        ],
        [
         "49",
         "BMG_ED_GNTS000050",
         "BMG_GN000003",
         "BMG_TS264240",
         "Ensembl",
         "Gene-Transcript"
        ]
       ],
       "shape": {
        "columns": 5,
        "rows": 427810
       }
      },
      "text/html": [
       "<div>\n",
       "<style scoped>\n",
       "    .dataframe tbody tr th:only-of-type {\n",
       "        vertical-align: middle;\n",
       "    }\n",
       "\n",
       "    .dataframe tbody tr th {\n",
       "        vertical-align: top;\n",
       "    }\n",
       "\n",
       "    .dataframe thead th {\n",
       "        text-align: right;\n",
       "    }\n",
       "</style>\n",
       "<table border=\"1\" class=\"dataframe\">\n",
       "  <thead>\n",
       "    <tr style=\"text-align: right;\">\n",
       "      <th></th>\n",
       "      <th>BioMedGraphica_ID</th>\n",
       "      <th>From_ID</th>\n",
       "      <th>To_ID</th>\n",
       "      <th>Source</th>\n",
       "      <th>Type</th>\n",
       "    </tr>\n",
       "  </thead>\n",
       "  <tbody>\n",
       "    <tr>\n",
       "      <th>0</th>\n",
       "      <td>BMG_ED_GNTS000001</td>\n",
       "      <td>BMG_GN000001</td>\n",
       "      <td>BMG_TS003701</td>\n",
       "      <td>Ensembl</td>\n",
       "      <td>Gene-Transcript</td>\n",
       "    </tr>\n",
       "    <tr>\n",
       "      <th>1</th>\n",
       "      <td>BMG_ED_GNTS000002</td>\n",
       "      <td>BMG_GN000001</td>\n",
       "      <td>BMG_TS179160</td>\n",
       "      <td>Ensembl</td>\n",
       "      <td>Gene-Transcript</td>\n",
       "    </tr>\n",
       "    <tr>\n",
       "      <th>2</th>\n",
       "      <td>BMG_ED_GNTS000003</td>\n",
       "      <td>BMG_GN000001</td>\n",
       "      <td>BMG_TS180263</td>\n",
       "      <td>Ensembl</td>\n",
       "      <td>Gene-Transcript</td>\n",
       "    </tr>\n",
       "    <tr>\n",
       "      <th>3</th>\n",
       "      <td>BMG_ED_GNTS000004</td>\n",
       "      <td>BMG_GN000001</td>\n",
       "      <td>BMG_TS181076</td>\n",
       "      <td>Ensembl</td>\n",
       "      <td>Gene-Transcript</td>\n",
       "    </tr>\n",
       "    <tr>\n",
       "      <th>4</th>\n",
       "      <td>BMG_ED_GNTS000005</td>\n",
       "      <td>BMG_GN000001</td>\n",
       "      <td>BMG_TS182582</td>\n",
       "      <td>Ensembl</td>\n",
       "      <td>Gene-Transcript</td>\n",
       "    </tr>\n",
       "    <tr>\n",
       "      <th>...</th>\n",
       "      <td>...</td>\n",
       "      <td>...</td>\n",
       "      <td>...</td>\n",
       "      <td>...</td>\n",
       "      <td>...</td>\n",
       "    </tr>\n",
       "    <tr>\n",
       "      <th>427805</th>\n",
       "      <td>BMG_ED_GNTS427806</td>\n",
       "      <td>BMG_GN230311</td>\n",
       "      <td>BMG_TS412217</td>\n",
       "      <td>Ensembl</td>\n",
       "      <td>Gene-Transcript</td>\n",
       "    </tr>\n",
       "    <tr>\n",
       "      <th>427806</th>\n",
       "      <td>BMG_ED_GNTS427807</td>\n",
       "      <td>BMG_GN230312</td>\n",
       "      <td>BMG_TS412299</td>\n",
       "      <td>Ensembl</td>\n",
       "      <td>Gene-Transcript</td>\n",
       "    </tr>\n",
       "    <tr>\n",
       "      <th>427807</th>\n",
       "      <td>BMG_ED_GNTS427808</td>\n",
       "      <td>BMG_GN230312</td>\n",
       "      <td>BMG_TS412300</td>\n",
       "      <td>Ensembl</td>\n",
       "      <td>Gene-Transcript</td>\n",
       "    </tr>\n",
       "    <tr>\n",
       "      <th>427808</th>\n",
       "      <td>BMG_ED_GNTS427809</td>\n",
       "      <td>BMG_GN230312</td>\n",
       "      <td>BMG_TS412301</td>\n",
       "      <td>Ensembl</td>\n",
       "      <td>Gene-Transcript</td>\n",
       "    </tr>\n",
       "    <tr>\n",
       "      <th>427809</th>\n",
       "      <td>BMG_ED_GNTS427810</td>\n",
       "      <td>BMG_GN230312</td>\n",
       "      <td>BMG_TS412302</td>\n",
       "      <td>Ensembl</td>\n",
       "      <td>Gene-Transcript</td>\n",
       "    </tr>\n",
       "  </tbody>\n",
       "</table>\n",
       "<p>427810 rows × 5 columns</p>\n",
       "</div>"
      ],
      "text/plain": [
       "        BioMedGraphica_ID       From_ID         To_ID   Source  \\\n",
       "0       BMG_ED_GNTS000001  BMG_GN000001  BMG_TS003701  Ensembl   \n",
       "1       BMG_ED_GNTS000002  BMG_GN000001  BMG_TS179160  Ensembl   \n",
       "2       BMG_ED_GNTS000003  BMG_GN000001  BMG_TS180263  Ensembl   \n",
       "3       BMG_ED_GNTS000004  BMG_GN000001  BMG_TS181076  Ensembl   \n",
       "4       BMG_ED_GNTS000005  BMG_GN000001  BMG_TS182582  Ensembl   \n",
       "...                   ...           ...           ...      ...   \n",
       "427805  BMG_ED_GNTS427806  BMG_GN230311  BMG_TS412217  Ensembl   \n",
       "427806  BMG_ED_GNTS427807  BMG_GN230312  BMG_TS412299  Ensembl   \n",
       "427807  BMG_ED_GNTS427808  BMG_GN230312  BMG_TS412300  Ensembl   \n",
       "427808  BMG_ED_GNTS427809  BMG_GN230312  BMG_TS412301  Ensembl   \n",
       "427809  BMG_ED_GNTS427810  BMG_GN230312  BMG_TS412302  Ensembl   \n",
       "\n",
       "                   Type  \n",
       "0       Gene-Transcript  \n",
       "1       Gene-Transcript  \n",
       "2       Gene-Transcript  \n",
       "3       Gene-Transcript  \n",
       "4       Gene-Transcript  \n",
       "...                 ...  \n",
       "427805  Gene-Transcript  \n",
       "427806  Gene-Transcript  \n",
       "427807  Gene-Transcript  \n",
       "427808  Gene-Transcript  \n",
       "427809  Gene-Transcript  \n",
       "\n",
       "[427810 rows x 5 columns]"
      ]
     },
     "execution_count": 16,
     "metadata": {},
     "output_type": "execute_result"
    }
   ],
   "source": [
    "max_length = len(str(len(biomedgraphica_gene_transcript)))\n",
    "biomedgraphica_gene_transcript['Type'] = 'Gene-Transcript'\n",
    "biomedgraphica_gene_transcript['BioMedGraphica_ID'] = ['BMG_ED_GNTS' + str(i).zfill(max_length) for i in range(1, len(biomedgraphica_gene_transcript) + 1)]\n",
    "columns = ['BioMedGraphica_ID'] + [col for col in biomedgraphica_gene_transcript.columns if col != 'BioMedGraphica_ID']  # re-order columns\n",
    "biomedgraphica_gene_transcript = biomedgraphica_gene_transcript[columns]\n",
    "biomedgraphica_gene_transcript"
   ]
  },
  {
   "cell_type": "code",
   "execution_count": 17,
   "metadata": {},
   "outputs": [
    {
     "name": "stdout",
     "output_type": "stream",
     "text": [
      "Data has been saved to D:\\RA\\BMG\\BioMedGraphica\\Relation\\Gene-Transcript\\BioMedGraphica_Gene_Transcript.csv\n"
     ]
    }
   ],
   "source": [
    "import os\n",
    "from pathlib import Path\n",
    "\n",
    "# get the current working directory\n",
    "current_working_dir = Path(os.getcwd()).resolve()\n",
    "\n",
    "# get the output directory\n",
    "grandparent_dir = current_working_dir.parent.parent.parent\n",
    "\n",
    "target_folder = grandparent_dir / 'BioMedGraphica' / 'Relation' / 'Gene-Transcript'\n",
    "if not target_folder.exists():\n",
    "    target_folder.mkdir(parents=True)\n",
    "    print(f\"Folder {target_folder} has been created.\")\n",
    "\n",
    "output_file_path = target_folder / 'BioMedGraphica_Gene_Transcript.csv'\n",
    "biomedgraphica_gene_transcript.to_csv(output_file_path, index=False)\n",
    "print(f\"Data has been saved to {output_file_path}\")"
   ]
  }
 ],
 "metadata": {
  "kernelspec": {
   "display_name": "base",
   "language": "python",
   "name": "python3"
  },
  "language_info": {
   "codemirror_mode": {
    "name": "ipython",
    "version": 3
   },
   "file_extension": ".py",
   "mimetype": "text/x-python",
   "name": "python",
   "nbconvert_exporter": "python",
   "pygments_lexer": "ipython3",
   "version": "3.9.19"
  }
 },
 "nbformat": 4,
 "nbformat_minor": 2
}
