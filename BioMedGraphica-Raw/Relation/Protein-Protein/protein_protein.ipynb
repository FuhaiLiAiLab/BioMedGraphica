{
 "cells": [
  {
   "cell_type": "markdown",
   "metadata": {},
   "source": [
    "### BioGrid"
   ]
  },
  {
   "cell_type": "code",
   "execution_count": 2,
   "metadata": {},
   "outputs": [
    {
     "name": "stderr",
     "output_type": "stream",
     "text": [
      "C:\\Users\\shunn\\AppData\\Local\\Temp\\ipykernel_9296\\1415521415.py:10: SettingWithCopyWarning: \n",
      "A value is trying to be set on a copy of a slice from a DataFrame\n",
      "\n",
      "See the caveats in the documentation: https://pandas.pydata.org/pandas-docs/stable/user_guide/indexing.html#returning-a-view-versus-a-copy\n",
      "  df_biogrid_filter_relation.drop_duplicates(inplace=True)\n"
     ]
    },
    {
     "data": {
      "application/vnd.microsoft.datawrangler.viewer.v0+json": {
       "columns": [
        {
         "name": "index",
         "rawType": "int64",
         "type": "integer"
        },
        {
         "name": "Alt IDs Interactor A",
         "rawType": "object",
         "type": "string"
        },
        {
         "name": "Alt IDs Interactor B",
         "rawType": "object",
         "type": "string"
        }
       ],
       "conversionMethod": "pd.DataFrame",
       "ref": "3dcaf8ee-6315-4edf-9b5f-91d73a4a7f24",
       "rows": [
        [
         "0",
         "biogrid:112315|entrez gene/locuslink:MAP2K4|uniprot/swiss-prot:P45985|refseq:NP_003001|refseq:NP_001268364",
         "biogrid:108607|entrez gene/locuslink:FLNC|uniprot/swiss-prot:Q14315|refseq:NP_001120959|refseq:NP_001449"
        ],
        [
         "1",
         "biogrid:124185|entrez gene/locuslink:MYPN|uniprot/swiss-prot:Q86TC9|refseq:NP_001243197|refseq:NP_001243196|refseq:NP_115967",
         "biogrid:106603|entrez gene/locuslink:ACTN2|uniprot/swiss-prot:P35609|refseq:NP_001094|refseq:NP_001265272|refseq:NP_001265273"
        ],
        [
         "2",
         "biogrid:106605|entrez gene/locuslink:ACVR1|uniprot/swiss-prot:Q04771|refseq:NP_001104537|refseq:NP_001096",
         "biogrid:108625|entrez gene/locuslink:FNTA|uniprot/swiss-prot:P49354|refseq:NP_002018"
        ],
        [
         "3",
         "biogrid:108894|entrez gene/locuslink:GATA2|uniprot/swiss-prot:P23769|refseq:NP_001139134|refseq:NP_116027|refseq:NP_001139133",
         "biogrid:111384|entrez gene/locuslink:PML|uniprot/swiss-prot:P29590|refseq:NP_150250|refseq:NP_150253|refseq:NP_150252|refseq:NP_150247|refseq:NP_150241|refseq:NP_150242|refseq:NP_150243|refseq:NP_002666|refseq:NP_150249"
        ],
        [
         "4",
         "biogrid:112038|entrez gene/locuslink:RPA2|entrez gene/locuslink:RP4-547C9.3|uniprot/swiss-prot:P15927|refseq:NP_001342057|refseq:NP_002937|refseq:NP_001284487|refseq:NP_001342058|refseq:NP_001273005",
         "biogrid:112651|entrez gene/locuslink:STAT3|uniprot/swiss-prot:P40763|refseq:NP_644805|refseq:NP_003141|refseq:NP_001356447|refseq:NP_001356443|refseq:NP_001371920|refseq:NP_001371913|refseq:NP_001371917|refseq:NP_001356445|refseq:NP_001356446|refseq:NP_998827|refseq:NP_001371915|refseq:NP_001371914|refseq:NP_001356442|refseq:NP_001371918|refseq:NP_001371919|refseq:NP_001371921|refseq:NP_001371922|refseq:NP_001371916|refseq:NP_001356448|refseq:NP_001356449|refseq:NP_001356441"
        ],
        [
         "5",
         "biogrid:106870|entrez gene/locuslink:ARF1|uniprot/swiss-prot:P84077|refseq:NP_001019398|refseq:NP_001019397|refseq:NP_001649|refseq:NP_001019399",
         "biogrid:116775|entrez gene/locuslink:GGA3|uniprot/swiss-prot:Q9NZ52|refseq:NP_619525|refseq:NP_001278571|refseq:NP_001278570|refseq:NP_001166175|refseq:NP_001166174|refseq:NP_054720"
        ],
        [
         "6",
         "biogrid:106872|entrez gene/locuslink:ARF3|uniprot/swiss-prot:P61204|refseq:NP_001650",
         "biogrid:117174|entrez gene/locuslink:ARFIP2|uniprot/swiss-prot:P53365|refseq:NP_036534|refseq:NP_001229785|refseq:NP_001229784|refseq:NP_001229783"
        ],
        [
         "7",
         "biogrid:106872|entrez gene/locuslink:ARF3|uniprot/swiss-prot:P61204|refseq:NP_001650",
         "biogrid:118084|entrez gene/locuslink:ARFIP1|uniprot/swiss-prot:P53367|refseq:NP_001020764|refseq:NP_001020766|refseq:NP_001274362|refseq:NP_001274360|refseq:NP_001274361|refseq:NP_055262"
        ],
        [
         "8",
         "biogrid:119970|entrez gene/locuslink:XRN1|uniprot/swiss-prot:Q8IZH2|refseq:NP_001269786|refseq:NP_061874|refseq:NP_001269788",
         "biogrid:106728|entrez gene/locuslink:ALDOA|uniprot/swiss-prot:P04075|refseq:NP_001121089|refseq:NP_908932|refseq:NP_908930|refseq:NP_001230106|refseq:NP_000025"
        ],
        [
         "9",
         "biogrid:106848|entrez gene/locuslink:APP|uniprot/swiss-prot:P05067|refseq:NP_958817|refseq:NP_958816|refseq:NP_001191230|refseq:NP_001191231|refseq:NP_001191232|refseq:NP_000475|refseq:NP_001372182|refseq:NP_001129488|refseq:NP_001129603|refseq:NP_001129601|refseq:NP_001129602",
         "biogrid:115769|entrez gene/locuslink:APPBP2|uniprot/swiss-prot:Q92624|refseq:NP_001269405|refseq:NP_006371"
        ],
        [
         "10",
         "biogrid:106830|entrez gene/locuslink:APLP1|uniprot/swiss-prot:P51693|refseq:NP_001019978|refseq:NP_005157",
         "biogrid:107970|entrez gene/locuslink:DAB1|entrez gene/locuslink:RP6-239D12.2|uniprot/swiss-prot:O75553|refseq:NP_066566"
        ],
        [
         "11",
         "biogrid:115649|entrez gene/locuslink:CITED2|uniprot/swiss-prot:Q99967|refseq:NP_006070|refseq:NP_001161860|refseq:NP_001161861",
         "biogrid:112878|entrez gene/locuslink:TFAP2A|entrez gene/locuslink:RP1-290I10.1|uniprot/swiss-prot:P05549|refseq:NP_001358995|refseq:NP_001035890|refseq:NP_003211|refseq:NP_001027451"
        ],
        [
         "12",
         "biogrid:108347|entrez gene/locuslink:EP300|entrez gene/locuslink:RP1-85F18.1|uniprot/swiss-prot:Q09472|refseq:NP_001349772|refseq:NP_001420",
         "biogrid:112878|entrez gene/locuslink:TFAP2A|entrez gene/locuslink:RP1-290I10.1|uniprot/swiss-prot:P05549|refseq:NP_001358995|refseq:NP_001035890|refseq:NP_003211|refseq:NP_001027451"
        ],
        [
         "13",
         "biogrid:106835|entrez gene/locuslink:APOB|uniprot/swiss-prot:P04114|refseq:NP_000375",
         "biogrid:110641|entrez gene/locuslink:MTTP|uniprot/swiss-prot:P55157|refseq:NP_001287714|refseq:NP_000244"
        ],
        [
         "14",
         "biogrid:106902|entrez gene/locuslink:ARRB2|uniprot/swiss-prot:P32121|refseq:NP_001244257|refseq:NP_001244259|refseq:NP_001244258|refseq:NP_001316993|refseq:NP_001244260|refseq:NP_004304|refseq:NP_945355",
         "biogrid:111836|entrez gene/locuslink:RALGDS|entrez gene/locuslink:RP11-326L24.1|uniprot/swiss-prot:Q12967|refseq:NP_006257|refseq:NP_001258703|refseq:NP_001258705|refseq:NP_001258704|refseq:NP_001035827"
        ],
        [
         "15",
         "biogrid:107823|entrez gene/locuslink:CSF1R|uniprot/swiss-prot:P07333|refseq:NP_005202|refseq:NP_001275634",
         "biogrid:109142|entrez gene/locuslink:GRB2|uniprot/swiss-prot:P62993|refseq:NP_002077|refseq:NP_987102"
        ],
        [
         "16",
         "biogrid:113646|entrez gene/locuslink:PRRC2A|entrez gene/locuslink:DADB-70P7.5|uniprot/swiss-prot:P48634|refseq:NP_542417|refseq:NP_004629",
         "biogrid:109142|entrez gene/locuslink:GRB2|uniprot/swiss-prot:P62993|refseq:NP_002077|refseq:NP_987102"
        ],
        [
         "17",
         "biogrid:118104|entrez gene/locuslink:LSM1|uniprot/swiss-prot:O15116|refseq:NP_055277",
         "biogrid:110758|entrez gene/locuslink:NARS|uniprot/swiss-prot:O43776|refseq:NP_004530"
        ],
        [
         "18",
         "biogrid:112412|entrez gene/locuslink:SLC4A1|uniprot/swiss-prot:P02730|refseq:NP_000333",
         "biogrid:116605|entrez gene/locuslink:SLC4A1AP|entrez gene/locuslink:HLC3|uniprot/swiss-prot:Q9BWU0|refseq:NP_060628"
        ],
        [
         "19",
         "biogrid:107074|entrez gene/locuslink:BCL3|uniprot/swiss-prot:P20749|refseq:NP_005169",
         "biogrid:107056|entrez gene/locuslink:BARD1|uniprot/swiss-prot:Q99728|refseq:NP_001269478|refseq:NP_000456|refseq:NP_001269472|refseq:NP_001269474|refseq:NP_001269477"
        ],
        [
         "20",
         "biogrid:106662|entrez gene/locuslink:ADRB1|uniprot/swiss-prot:P08588|refseq:NP_000675",
         "biogrid:115978|entrez gene/locuslink:GIPC1|uniprot/swiss-prot:O14908|refseq:NP_005707|refseq:NP_974197|refseq:NP_974223|refseq:NP_974198|refseq:NP_974199"
        ],
        [
         "21",
         "biogrid:107140|entrez gene/locuslink:BRCA1|uniprot/swiss-prot:P38398|refseq:NP_009229|refseq:NP_009228|refseq:NP_009230|refseq:NP_009231|refseq:NP_009225",
         "biogrid:106956|entrez gene/locuslink:ATF1|uniprot/swiss-prot:P18846|refseq:NP_005162"
        ],
        [
         "22",
         "biogrid:107140|entrez gene/locuslink:BRCA1|uniprot/swiss-prot:P38398|refseq:NP_009229|refseq:NP_009228|refseq:NP_009230|refseq:NP_009231|refseq:NP_009225",
         "biogrid:110573|entrez gene/locuslink:MSH2|uniprot/swiss-prot:P43246|refseq:NP_000242|refseq:NP_001245210"
        ],
        [
         "23",
         "biogrid:107140|entrez gene/locuslink:BRCA1|uniprot/swiss-prot:P38398|refseq:NP_009229|refseq:NP_009228|refseq:NP_009230|refseq:NP_009231|refseq:NP_009225",
         "biogrid:107056|entrez gene/locuslink:BARD1|uniprot/swiss-prot:Q99728|refseq:NP_001269478|refseq:NP_000456|refseq:NP_001269472|refseq:NP_001269474|refseq:NP_001269477"
        ],
        [
         "24",
         "biogrid:107140|entrez gene/locuslink:BRCA1|uniprot/swiss-prot:P38398|refseq:NP_009229|refseq:NP_009228|refseq:NP_009230|refseq:NP_009231|refseq:NP_009225",
         "biogrid:109211|entrez gene/locuslink:MSH6|uniprot/swiss-prot:P52701|refseq:NP_000170|refseq:NP_001268421|refseq:NP_001268422|refseq:NP_001268423"
        ],
        [
         "25",
         "biogrid:106914|entrez gene/locuslink:ARVCF|uniprot/swiss-prot:O00192|refseq:NP_001661",
         "biogrid:107448|entrez gene/locuslink:CDH15|uniprot/swiss-prot:P55291|refseq:NP_004924"
        ],
        [
         "26",
         "biogrid:111125|entrez gene/locuslink:PCBD1|uniprot/swiss-prot:P61457|refseq:NP_000272|refseq:NP_001309933|refseq:NP_001276726",
         "biogrid:107229|entrez gene/locuslink:CACNA1C|uniprot/swiss-prot:Q13936|refseq:NP_955630|refseq:NP_001161097|refseq:NP_001161096|refseq:NP_001161095|refseq:NP_001123312|refseq:NP_001123313|refseq:NP_001123310|refseq:NP_001123311|refseq:NP_001123316|refseq:NP_001123314|refseq:NP_001123315|refseq:NP_001123318|refseq:NP_000710|refseq:NP_001123299|refseq:NP_001123309|refseq:NP_001123308|refseq:NP_001123305|refseq:NP_001123304|refseq:NP_001123307|refseq:NP_001123306|refseq:NP_001123301|refseq:NP_001123303|refseq:NP_001123302"
        ],
        [
         "27",
         "biogrid:111643|entrez gene/locuslink:PSEN2|uniprot/swiss-prot:P49810|refseq:NP_036618|refseq:NP_000438",
         "biogrid:107273|entrez gene/locuslink:CAPN1|entrez gene/locuslink:PIG30|uniprot/swiss-prot:P07384|refseq:NP_001185798|refseq:NP_005177|refseq:NP_001185797"
        ],
        [
         "28",
         "biogrid:107275|entrez gene/locuslink:CAPN3|uniprot/swiss-prot:P20807|refseq:NP_000061|refseq:NP_775113|refseq:NP_775112|refseq:NP_775111|refseq:NP_775110|refseq:NP_077320",
         "biogrid:113124|entrez gene/locuslink:TTN|uniprot/swiss-prot:Q8WZ42|refseq:NP_001243779|refseq:NP_596870|refseq:NP_596869|refseq:NP_597681|refseq:NP_003310|refseq:NP_001254479|refseq:NP_597676"
        ],
        [
         "29",
         "biogrid:109913|entrez gene/locuslink:ITPR1|uniprot/swiss-prot:Q14643|refseq:NP_001365381|refseq:NP_001093422|refseq:NP_001161744|refseq:NP_002213",
         "biogrid:107222|entrez gene/locuslink:CA8|uniprot/swiss-prot:P35219|refseq:NP_001308766|refseq:NP_001308767|refseq:NP_001308768|refseq:NP_004047"
        ],
        [
         "30",
         "biogrid:114655|entrez gene/locuslink:MAGI1|entrez gene/locuslink:RP11-88H12.2|uniprot/swiss-prot:Q96QZ7|refseq:NP_056335|refseq:NP_001028229|refseq:NP_004733",
         "biogrid:107880|entrez gene/locuslink:CTNNB1|entrez gene/locuslink:OK/SW-cl.35|uniprot/swiss-prot:P35222|refseq:NP_001091680|refseq:NP_001091679|refseq:NP_001895|refseq:NP_001317658"
        ],
        [
         "31",
         "biogrid:111860|entrez gene/locuslink:RB1|entrez gene/locuslink:RP11-174I10.1|uniprot/swiss-prot:P06400|refseq:NP_000312",
         "biogrid:107903|entrez gene/locuslink:CUX1|uniprot/swiss-prot:Q13948|uniprot/swiss-prot:P39880|refseq:NP_001189473|refseq:NP_001189472|refseq:NP_001904|refseq:NP_001189475|refseq:NP_001189474|refseq:NP_853530|refseq:NP_852477"
        ],
        [
         "32",
         "biogrid:113102|entrez gene/locuslink:TSG101|uniprot/swiss-prot:Q99816|refseq:NP_006283",
         "biogrid:107460|entrez gene/locuslink:CDKN1A|uniprot/swiss-prot:P38936|refseq:NP_001361441|refseq:NP_000380|refseq:NP_001361440|refseq:NP_001361442|refseq:NP_001361439|refseq:NP_001361438|refseq:NP_001278478|refseq:NP_510867|refseq:NP_001207706|refseq:NP_001207707"
        ],
        [
         "33",
         "biogrid:111040|entrez gene/locuslink:ORC1|uniprot/swiss-prot:Q13415|refseq:NP_001177747|refseq:NP_001177748|refseq:NP_004144",
         "biogrid:110339|entrez gene/locuslink:MCM2|uniprot/swiss-prot:P49736|refseq:NP_004517"
        ],
        [
         "34",
         "biogrid:111042|entrez gene/locuslink:ORC4|uniprot/swiss-prot:O43929|refseq:NP_859525|refseq:NP_001361201|refseq:NP_859526|refseq:NP_002543|refseq:NP_001361199|refseq:NP_001177810|refseq:NP_001177811|refseq:NP_001177808",
         "biogrid:110339|entrez gene/locuslink:MCM2|uniprot/swiss-prot:P49736|refseq:NP_004517"
        ],
        [
         "35",
         "biogrid:110342|entrez gene/locuslink:MCM5|entrez gene/locuslink:RP5-824I19__A.1|uniprot/swiss-prot:P33992|refseq:NP_006730",
         "biogrid:110339|entrez gene/locuslink:MCM2|uniprot/swiss-prot:P49736|refseq:NP_004517"
        ],
        [
         "36",
         "biogrid:113914|entrez gene/locuslink:CDC7|uniprot/swiss-prot:O00311|refseq:NP_003494|refseq:NP_001127891|refseq:NP_001127892",
         "biogrid:110339|entrez gene/locuslink:MCM2|uniprot/swiss-prot:P49736|refseq:NP_004517"
        ],
        [
         "37",
         "biogrid:111041|entrez gene/locuslink:ORC2|uniprot/swiss-prot:Q13416|refseq:NP_006181",
         "biogrid:110339|entrez gene/locuslink:MCM2|uniprot/swiss-prot:P49736|refseq:NP_004517"
        ],
        [
         "38",
         "biogrid:112038|entrez gene/locuslink:RPA2|entrez gene/locuslink:RP4-547C9.3|uniprot/swiss-prot:P15927|refseq:NP_001342057|refseq:NP_002937|refseq:NP_001284487|refseq:NP_001342058|refseq:NP_001273005",
         "biogrid:110339|entrez gene/locuslink:MCM2|uniprot/swiss-prot:P49736|refseq:NP_004517"
        ],
        [
         "39",
         "biogrid:116129|entrez gene/locuslink:DBF4|uniprot/swiss-prot:Q9UBU7|refseq:NP_006707",
         "biogrid:110339|entrez gene/locuslink:MCM2|uniprot/swiss-prot:P49736|refseq:NP_004517"
        ],
        [
         "40",
         "biogrid:115561|entrez gene/locuslink:AKAP8|uniprot/swiss-prot:O43823|refseq:NP_005849",
         "biogrid:110339|entrez gene/locuslink:MCM2|uniprot/swiss-prot:P49736|refseq:NP_004517"
        ],
        [
         "41",
         "biogrid:110339|entrez gene/locuslink:MCM2|uniprot/swiss-prot:P49736|refseq:NP_004517",
         "biogrid:110339|entrez gene/locuslink:MCM2|uniprot/swiss-prot:P49736|refseq:NP_004517"
        ],
        [
         "42",
         "biogrid:112037|entrez gene/locuslink:RPA1|uniprot/swiss-prot:P27694|refseq:NP_002936|refseq:NP_001342049|refseq:NP_001342050",
         "biogrid:110339|entrez gene/locuslink:MCM2|uniprot/swiss-prot:P49736|refseq:NP_004517"
        ],
        [
         "43",
         "biogrid:112039|entrez gene/locuslink:RPA3|uniprot/swiss-prot:P35244|refseq:NP_002938",
         "biogrid:110339|entrez gene/locuslink:MCM2|uniprot/swiss-prot:P49736|refseq:NP_004517"
        ],
        [
         "44",
         "biogrid:111043|entrez gene/locuslink:ORC5|uniprot/swiss-prot:O43913|refseq:NP_002544|refseq:NP_859531",
         "biogrid:110339|entrez gene/locuslink:MCM2|uniprot/swiss-prot:P49736|refseq:NP_004517"
        ],
        [
         "45",
         "biogrid:110340|entrez gene/locuslink:MCM3|entrez gene/locuslink:RP1-108C2.3|uniprot/swiss-prot:P25205|refseq:NP_001353300|refseq:NP_001353301|refseq:NP_001353302|refseq:NP_001353303|refseq:NP_001353304|refseq:NP_001257401|refseq:NP_002379|refseq:NP_001353298|refseq:NP_001353299",
         "biogrid:110339|entrez gene/locuslink:MCM2|uniprot/swiss-prot:P49736|refseq:NP_004517"
        ],
        [
         "46",
         "biogrid:113366|entrez gene/locuslink:YWHAZ|uniprot/swiss-prot:P63104|refseq:NP_003397|refseq:NP_001129174|refseq:NP_001129171|refseq:NP_001129172|refseq:NP_001129173|refseq:NP_663723",
         "biogrid:107428|entrez gene/locuslink:CDC25A|uniprot/swiss-prot:P30304|refseq:NP_001780|refseq:NP_963861"
        ],
        [
         "47",
         "biogrid:123577|entrez gene/locuslink:DOCK8|entrez gene/locuslink:RP11-165F24.7|uniprot/swiss-prot:Q8NF50|refseq:NP_982272|refseq:NP_001177387|refseq:NP_001180465",
         "biogrid:107433|entrez gene/locuslink:CDC42|entrez gene/locuslink:RP1-224A6.5|uniprot/swiss-prot:P60953|refseq:NP_426359|refseq:NP_001782|refseq:NP_001034891"
        ],
        [
         "48",
         "biogrid:114733|entrez gene/locuslink:TRIP10|uniprot/swiss-prot:Q15642|refseq:NP_001275892|refseq:NP_001275891|refseq:NP_004231",
         "biogrid:107433|entrez gene/locuslink:CDC42|entrez gene/locuslink:RP1-224A6.5|uniprot/swiss-prot:P60953|refseq:NP_426359|refseq:NP_001782|refseq:NP_001034891"
        ],
        [
         "49",
         "biogrid:107467|entrez gene/locuslink:CDKN3|uniprot/swiss-prot:Q16667|refseq:NP_001317102|refseq:NP_001124323|refseq:NP_005183",
         "biogrid:107452|entrez gene/locuslink:CDK2|uniprot/swiss-prot:P24941|refseq:NP_001789|refseq:NP_439892|refseq:NP_001277159"
        ]
       ],
       "shape": {
        "columns": 2,
        "rows": 942241
       }
      },
      "text/html": [
       "<div>\n",
       "<style scoped>\n",
       "    .dataframe tbody tr th:only-of-type {\n",
       "        vertical-align: middle;\n",
       "    }\n",
       "\n",
       "    .dataframe tbody tr th {\n",
       "        vertical-align: top;\n",
       "    }\n",
       "\n",
       "    .dataframe thead th {\n",
       "        text-align: right;\n",
       "    }\n",
       "</style>\n",
       "<table border=\"1\" class=\"dataframe\">\n",
       "  <thead>\n",
       "    <tr style=\"text-align: right;\">\n",
       "      <th></th>\n",
       "      <th>Alt IDs Interactor A</th>\n",
       "      <th>Alt IDs Interactor B</th>\n",
       "    </tr>\n",
       "  </thead>\n",
       "  <tbody>\n",
       "    <tr>\n",
       "      <th>0</th>\n",
       "      <td>biogrid:112315|entrez gene/locuslink:MAP2K4|un...</td>\n",
       "      <td>biogrid:108607|entrez gene/locuslink:FLNC|unip...</td>\n",
       "    </tr>\n",
       "    <tr>\n",
       "      <th>1</th>\n",
       "      <td>biogrid:124185|entrez gene/locuslink:MYPN|unip...</td>\n",
       "      <td>biogrid:106603|entrez gene/locuslink:ACTN2|uni...</td>\n",
       "    </tr>\n",
       "    <tr>\n",
       "      <th>2</th>\n",
       "      <td>biogrid:106605|entrez gene/locuslink:ACVR1|uni...</td>\n",
       "      <td>biogrid:108625|entrez gene/locuslink:FNTA|unip...</td>\n",
       "    </tr>\n",
       "    <tr>\n",
       "      <th>3</th>\n",
       "      <td>biogrid:108894|entrez gene/locuslink:GATA2|uni...</td>\n",
       "      <td>biogrid:111384|entrez gene/locuslink:PML|unipr...</td>\n",
       "    </tr>\n",
       "    <tr>\n",
       "      <th>4</th>\n",
       "      <td>biogrid:112038|entrez gene/locuslink:RPA2|entr...</td>\n",
       "      <td>biogrid:112651|entrez gene/locuslink:STAT3|uni...</td>\n",
       "    </tr>\n",
       "    <tr>\n",
       "      <th>...</th>\n",
       "      <td>...</td>\n",
       "      <td>...</td>\n",
       "    </tr>\n",
       "    <tr>\n",
       "      <th>2752007</th>\n",
       "      <td>biogrid:109512|entrez gene/locuslink:PRMT1|uni...</td>\n",
       "      <td>biogrid:106835|entrez gene/locuslink:APOB|unip...</td>\n",
       "    </tr>\n",
       "    <tr>\n",
       "      <th>2752009</th>\n",
       "      <td>biogrid:109512|entrez gene/locuslink:PRMT1|uni...</td>\n",
       "      <td>biogrid:115581|entrez gene/locuslink:TRAIP|uni...</td>\n",
       "    </tr>\n",
       "    <tr>\n",
       "      <th>2752011</th>\n",
       "      <td>biogrid:116544|entrez gene/locuslink:MLXIP|uni...</td>\n",
       "      <td>biogrid:109512|entrez gene/locuslink:PRMT1|uni...</td>\n",
       "    </tr>\n",
       "    <tr>\n",
       "      <th>2752014</th>\n",
       "      <td>biogrid:110092|entrez gene/locuslink:KTN1|unip...</td>\n",
       "      <td>biogrid:109512|entrez gene/locuslink:PRMT1|uni...</td>\n",
       "    </tr>\n",
       "    <tr>\n",
       "      <th>2752016</th>\n",
       "      <td>biogrid:109512|entrez gene/locuslink:PRMT1|uni...</td>\n",
       "      <td>biogrid:122544|entrez gene/locuslink:TRIM48|un...</td>\n",
       "    </tr>\n",
       "  </tbody>\n",
       "</table>\n",
       "<p>942241 rows × 2 columns</p>\n",
       "</div>"
      ],
      "text/plain": [
       "                                      Alt IDs Interactor A  \\\n",
       "0        biogrid:112315|entrez gene/locuslink:MAP2K4|un...   \n",
       "1        biogrid:124185|entrez gene/locuslink:MYPN|unip...   \n",
       "2        biogrid:106605|entrez gene/locuslink:ACVR1|uni...   \n",
       "3        biogrid:108894|entrez gene/locuslink:GATA2|uni...   \n",
       "4        biogrid:112038|entrez gene/locuslink:RPA2|entr...   \n",
       "...                                                    ...   \n",
       "2752007  biogrid:109512|entrez gene/locuslink:PRMT1|uni...   \n",
       "2752009  biogrid:109512|entrez gene/locuslink:PRMT1|uni...   \n",
       "2752011  biogrid:116544|entrez gene/locuslink:MLXIP|uni...   \n",
       "2752014  biogrid:110092|entrez gene/locuslink:KTN1|unip...   \n",
       "2752016  biogrid:109512|entrez gene/locuslink:PRMT1|uni...   \n",
       "\n",
       "                                      Alt IDs Interactor B  \n",
       "0        biogrid:108607|entrez gene/locuslink:FLNC|unip...  \n",
       "1        biogrid:106603|entrez gene/locuslink:ACTN2|uni...  \n",
       "2        biogrid:108625|entrez gene/locuslink:FNTA|unip...  \n",
       "3        biogrid:111384|entrez gene/locuslink:PML|unipr...  \n",
       "4        biogrid:112651|entrez gene/locuslink:STAT3|uni...  \n",
       "...                                                    ...  \n",
       "2752007  biogrid:106835|entrez gene/locuslink:APOB|unip...  \n",
       "2752009  biogrid:115581|entrez gene/locuslink:TRAIP|uni...  \n",
       "2752011  biogrid:109512|entrez gene/locuslink:PRMT1|uni...  \n",
       "2752014  biogrid:109512|entrez gene/locuslink:PRMT1|uni...  \n",
       "2752016  biogrid:122544|entrez gene/locuslink:TRIM48|un...  \n",
       "\n",
       "[942241 rows x 2 columns]"
      ]
     },
     "execution_count": 2,
     "metadata": {},
     "output_type": "execute_result"
    }
   ],
   "source": [
    "# Download Link: https://downloads.thebiogrid.org/Download/BioGRID/Release-Archive/BIOGRID-4.4.243/BIOGRID-ALL-4.4.243.mitab.zip\n",
    "# Download Date: 2025-03-21\n",
    "# Download Version: 2025-03-02\n",
    "\n",
    "import pandas as pd\n",
    "\n",
    "df_biogrid = pd.read_csv('BIOGRID-ALL-4.4.243.mitab.txt', sep='\\t')\n",
    "df_biogrid_filter = df_biogrid[(df_biogrid['Taxid Interactor A'] == 'taxid:9606') & (df_biogrid['Taxid Interactor B'] == 'taxid:9606')]\n",
    "df_biogrid_filter_relation = df_biogrid_filter[['Alt IDs Interactor A', 'Alt IDs Interactor B']]\n",
    "df_biogrid_filter_relation.drop_duplicates(inplace=True)\n",
    "df_biogrid_filter_relation"
   ]
  },
  {
   "cell_type": "code",
   "execution_count": 3,
   "metadata": {},
   "outputs": [
    {
     "name": "stderr",
     "output_type": "stream",
     "text": [
      "C:\\Users\\shunn\\AppData\\Local\\Temp\\ipykernel_9296\\2243967021.py:4: SettingWithCopyWarning: \n",
      "A value is trying to be set on a copy of a slice from a DataFrame.\n",
      "Try using .loc[row_indexer,col_indexer] = value instead\n",
      "\n",
      "See the caveats in the documentation: https://pandas.pydata.org/pandas-docs/stable/user_guide/indexing.html#returning-a-view-versus-a-copy\n",
      "  df_biogrid_filter_relation['Alt IDs Interactor A'] = extract_uniprot_ids(df_biogrid_filter_relation['Alt IDs Interactor A'])\n",
      "C:\\Users\\shunn\\AppData\\Local\\Temp\\ipykernel_9296\\2243967021.py:5: SettingWithCopyWarning: \n",
      "A value is trying to be set on a copy of a slice from a DataFrame.\n",
      "Try using .loc[row_indexer,col_indexer] = value instead\n",
      "\n",
      "See the caveats in the documentation: https://pandas.pydata.org/pandas-docs/stable/user_guide/indexing.html#returning-a-view-versus-a-copy\n",
      "  df_biogrid_filter_relation['Alt IDs Interactor B'] = extract_uniprot_ids(df_biogrid_filter_relation['Alt IDs Interactor B'])\n",
      "C:\\Users\\shunn\\AppData\\Local\\Temp\\ipykernel_9296\\2243967021.py:7: SettingWithCopyWarning: \n",
      "A value is trying to be set on a copy of a slice from a DataFrame.\n",
      "Try using .loc[row_indexer,col_indexer] = value instead\n",
      "\n",
      "See the caveats in the documentation: https://pandas.pydata.org/pandas-docs/stable/user_guide/indexing.html#returning-a-view-versus-a-copy\n",
      "  df_biogrid_filter_relation['Alt IDs Interactor A'] = df_biogrid_filter_relation['Alt IDs Interactor A'].str.replace('uniprot/swiss-prot:', '')\n",
      "C:\\Users\\shunn\\AppData\\Local\\Temp\\ipykernel_9296\\2243967021.py:8: SettingWithCopyWarning: \n",
      "A value is trying to be set on a copy of a slice from a DataFrame.\n",
      "Try using .loc[row_indexer,col_indexer] = value instead\n",
      "\n",
      "See the caveats in the documentation: https://pandas.pydata.org/pandas-docs/stable/user_guide/indexing.html#returning-a-view-versus-a-copy\n",
      "  df_biogrid_filter_relation['Alt IDs Interactor B'] = df_biogrid_filter_relation['Alt IDs Interactor B'].str.replace('uniprot/swiss-prot:', '')\n"
     ]
    },
    {
     "data": {
      "application/vnd.microsoft.datawrangler.viewer.v0+json": {
       "columns": [
        {
         "name": "index",
         "rawType": "int64",
         "type": "integer"
        },
        {
         "name": "Alt IDs Interactor A",
         "rawType": "object",
         "type": "string"
        },
        {
         "name": "Alt IDs Interactor B",
         "rawType": "object",
         "type": "string"
        }
       ],
       "conversionMethod": "pd.DataFrame",
       "ref": "97f519f7-4319-49d5-ae4f-0ad004d384ce",
       "rows": [
        [
         "0",
         "P45985",
         "Q14315"
        ],
        [
         "1",
         "Q86TC9",
         "P35609"
        ],
        [
         "2",
         "Q04771",
         "P49354"
        ],
        [
         "3",
         "P23769",
         "P29590"
        ],
        [
         "4",
         "P15927",
         "P40763"
        ],
        [
         "5",
         "P84077",
         "Q9NZ52"
        ],
        [
         "6",
         "P61204",
         "P53365"
        ],
        [
         "7",
         "P61204",
         "P53367"
        ],
        [
         "8",
         "Q8IZH2",
         "P04075"
        ],
        [
         "9",
         "P05067",
         "Q92624"
        ],
        [
         "10",
         "P51693",
         "O75553"
        ],
        [
         "11",
         "Q99967",
         "P05549"
        ],
        [
         "12",
         "Q09472",
         "P05549"
        ],
        [
         "13",
         "P04114",
         "P55157"
        ],
        [
         "14",
         "P32121",
         "Q12967"
        ],
        [
         "15",
         "P07333",
         "P62993"
        ],
        [
         "16",
         "P48634",
         "P62993"
        ],
        [
         "17",
         "O15116",
         "O43776"
        ],
        [
         "18",
         "P02730",
         "Q9BWU0"
        ],
        [
         "19",
         "P20749",
         "Q99728"
        ],
        [
         "20",
         "P08588",
         "O14908"
        ],
        [
         "21",
         "P38398",
         "P18846"
        ],
        [
         "22",
         "P38398",
         "P43246"
        ],
        [
         "23",
         "P38398",
         "Q99728"
        ],
        [
         "24",
         "P38398",
         "P52701"
        ],
        [
         "25",
         "O00192",
         "P55291"
        ],
        [
         "26",
         "P61457",
         "Q13936"
        ],
        [
         "27",
         "P49810",
         "P07384"
        ],
        [
         "28",
         "P20807",
         "Q8WZ42"
        ],
        [
         "29",
         "Q14643",
         "P35219"
        ],
        [
         "30",
         "Q96QZ7",
         "P35222"
        ],
        [
         "31",
         "P06400",
         "Q13948|P39880"
        ],
        [
         "32",
         "Q99816",
         "P38936"
        ],
        [
         "33",
         "Q13415",
         "P49736"
        ],
        [
         "34",
         "O43929",
         "P49736"
        ],
        [
         "35",
         "P33992",
         "P49736"
        ],
        [
         "36",
         "O00311",
         "P49736"
        ],
        [
         "37",
         "Q13416",
         "P49736"
        ],
        [
         "38",
         "P15927",
         "P49736"
        ],
        [
         "39",
         "Q9UBU7",
         "P49736"
        ],
        [
         "40",
         "O43823",
         "P49736"
        ],
        [
         "41",
         "P49736",
         "P49736"
        ],
        [
         "42",
         "P27694",
         "P49736"
        ],
        [
         "43",
         "P35244",
         "P49736"
        ],
        [
         "44",
         "O43913",
         "P49736"
        ],
        [
         "45",
         "P25205",
         "P49736"
        ],
        [
         "46",
         "P63104",
         "P30304"
        ],
        [
         "47",
         "Q8NF50",
         "P60953"
        ],
        [
         "48",
         "Q15642",
         "P60953"
        ],
        [
         "49",
         "Q16667",
         "P24941"
        ]
       ],
       "shape": {
        "columns": 2,
        "rows": 942241
       }
      },
      "text/html": [
       "<div>\n",
       "<style scoped>\n",
       "    .dataframe tbody tr th:only-of-type {\n",
       "        vertical-align: middle;\n",
       "    }\n",
       "\n",
       "    .dataframe tbody tr th {\n",
       "        vertical-align: top;\n",
       "    }\n",
       "\n",
       "    .dataframe thead th {\n",
       "        text-align: right;\n",
       "    }\n",
       "</style>\n",
       "<table border=\"1\" class=\"dataframe\">\n",
       "  <thead>\n",
       "    <tr style=\"text-align: right;\">\n",
       "      <th></th>\n",
       "      <th>Alt IDs Interactor A</th>\n",
       "      <th>Alt IDs Interactor B</th>\n",
       "    </tr>\n",
       "  </thead>\n",
       "  <tbody>\n",
       "    <tr>\n",
       "      <th>0</th>\n",
       "      <td>P45985</td>\n",
       "      <td>Q14315</td>\n",
       "    </tr>\n",
       "    <tr>\n",
       "      <th>1</th>\n",
       "      <td>Q86TC9</td>\n",
       "      <td>P35609</td>\n",
       "    </tr>\n",
       "    <tr>\n",
       "      <th>2</th>\n",
       "      <td>Q04771</td>\n",
       "      <td>P49354</td>\n",
       "    </tr>\n",
       "    <tr>\n",
       "      <th>3</th>\n",
       "      <td>P23769</td>\n",
       "      <td>P29590</td>\n",
       "    </tr>\n",
       "    <tr>\n",
       "      <th>4</th>\n",
       "      <td>P15927</td>\n",
       "      <td>P40763</td>\n",
       "    </tr>\n",
       "    <tr>\n",
       "      <th>...</th>\n",
       "      <td>...</td>\n",
       "      <td>...</td>\n",
       "    </tr>\n",
       "    <tr>\n",
       "      <th>2752007</th>\n",
       "      <td>Q99873</td>\n",
       "      <td>P04114</td>\n",
       "    </tr>\n",
       "    <tr>\n",
       "      <th>2752009</th>\n",
       "      <td>Q99873</td>\n",
       "      <td>Q9BWF2</td>\n",
       "    </tr>\n",
       "    <tr>\n",
       "      <th>2752011</th>\n",
       "      <td>Q9HAP2</td>\n",
       "      <td>Q99873</td>\n",
       "    </tr>\n",
       "    <tr>\n",
       "      <th>2752014</th>\n",
       "      <td>Q86UP2</td>\n",
       "      <td>Q99873</td>\n",
       "    </tr>\n",
       "    <tr>\n",
       "      <th>2752016</th>\n",
       "      <td>Q99873</td>\n",
       "      <td>Q8IWZ4</td>\n",
       "    </tr>\n",
       "  </tbody>\n",
       "</table>\n",
       "<p>942241 rows × 2 columns</p>\n",
       "</div>"
      ],
      "text/plain": [
       "        Alt IDs Interactor A Alt IDs Interactor B\n",
       "0                     P45985               Q14315\n",
       "1                     Q86TC9               P35609\n",
       "2                     Q04771               P49354\n",
       "3                     P23769               P29590\n",
       "4                     P15927               P40763\n",
       "...                      ...                  ...\n",
       "2752007               Q99873               P04114\n",
       "2752009               Q99873               Q9BWF2\n",
       "2752011               Q9HAP2               Q99873\n",
       "2752014               Q86UP2               Q99873\n",
       "2752016               Q99873               Q8IWZ4\n",
       "\n",
       "[942241 rows x 2 columns]"
      ]
     },
     "execution_count": 3,
     "metadata": {},
     "output_type": "execute_result"
    }
   ],
   "source": [
    "def extract_uniprot_ids(data):\n",
    "    return data.apply(lambda x: '|'.join([entry for entry in x.split('|') if 'uniprot' in entry]))\n",
    "\n",
    "df_biogrid_filter_relation['Alt IDs Interactor A'] = extract_uniprot_ids(df_biogrid_filter_relation['Alt IDs Interactor A'])\n",
    "df_biogrid_filter_relation['Alt IDs Interactor B'] = extract_uniprot_ids(df_biogrid_filter_relation['Alt IDs Interactor B'])\n",
    "\n",
    "df_biogrid_filter_relation['Alt IDs Interactor A'] = df_biogrid_filter_relation['Alt IDs Interactor A'].str.replace('uniprot/swiss-prot:', '')\n",
    "df_biogrid_filter_relation['Alt IDs Interactor B'] = df_biogrid_filter_relation['Alt IDs Interactor B'].str.replace('uniprot/swiss-prot:', '')\n",
    "df_biogrid_filter_relation"
   ]
  },
  {
   "cell_type": "code",
   "execution_count": 4,
   "metadata": {},
   "outputs": [
    {
     "data": {
      "application/vnd.microsoft.datawrangler.viewer.v0+json": {
       "columns": [
        {
         "name": "index",
         "rawType": "int64",
         "type": "integer"
        },
        {
         "name": "Alt IDs Interactor A",
         "rawType": "object",
         "type": "string"
        },
        {
         "name": "Alt IDs Interactor B",
         "rawType": "object",
         "type": "string"
        }
       ],
       "conversionMethod": "pd.DataFrame",
       "ref": "e6df1733-ad21-485a-9143-a0a421ce7849",
       "rows": [
        [
         "0",
         "P45985",
         "Q14315"
        ],
        [
         "1",
         "Q86TC9",
         "P35609"
        ],
        [
         "2",
         "Q04771",
         "P49354"
        ],
        [
         "3",
         "P23769",
         "P29590"
        ],
        [
         "4",
         "P15927",
         "P40763"
        ],
        [
         "5",
         "P84077",
         "Q9NZ52"
        ],
        [
         "6",
         "P61204",
         "P53365"
        ],
        [
         "7",
         "P61204",
         "P53367"
        ],
        [
         "8",
         "Q8IZH2",
         "P04075"
        ],
        [
         "9",
         "P05067",
         "Q92624"
        ],
        [
         "10",
         "P51693",
         "O75553"
        ],
        [
         "11",
         "Q99967",
         "P05549"
        ],
        [
         "12",
         "Q09472",
         "P05549"
        ],
        [
         "13",
         "P04114",
         "P55157"
        ],
        [
         "14",
         "P32121",
         "Q12967"
        ],
        [
         "15",
         "P07333",
         "P62993"
        ],
        [
         "16",
         "P48634",
         "P62993"
        ],
        [
         "17",
         "O15116",
         "O43776"
        ],
        [
         "18",
         "P02730",
         "Q9BWU0"
        ],
        [
         "19",
         "P20749",
         "Q99728"
        ],
        [
         "20",
         "P08588",
         "O14908"
        ],
        [
         "21",
         "P38398",
         "P18846"
        ],
        [
         "22",
         "P38398",
         "P43246"
        ],
        [
         "23",
         "P38398",
         "Q99728"
        ],
        [
         "24",
         "P38398",
         "P52701"
        ],
        [
         "25",
         "O00192",
         "P55291"
        ],
        [
         "26",
         "P61457",
         "Q13936"
        ],
        [
         "27",
         "P49810",
         "P07384"
        ],
        [
         "28",
         "P20807",
         "Q8WZ42"
        ],
        [
         "29",
         "Q14643",
         "P35219"
        ],
        [
         "30",
         "Q96QZ7",
         "P35222"
        ],
        [
         "31",
         "P06400",
         "Q13948"
        ],
        [
         "32",
         "Q99816",
         "P39880"
        ],
        [
         "33",
         "Q13415",
         "P38936"
        ],
        [
         "34",
         "O43929",
         "P49736"
        ],
        [
         "35",
         "P33992",
         "P49736"
        ],
        [
         "36",
         "O00311",
         "P49736"
        ],
        [
         "37",
         "Q13416",
         "P49736"
        ],
        [
         "38",
         "P15927",
         "P49736"
        ],
        [
         "39",
         "Q9UBU7",
         "P49736"
        ],
        [
         "40",
         "O43823",
         "P49736"
        ],
        [
         "41",
         "P49736",
         "P49736"
        ],
        [
         "42",
         "P27694",
         "P49736"
        ],
        [
         "43",
         "P35244",
         "P49736"
        ],
        [
         "44",
         "O43913",
         "P49736"
        ],
        [
         "45",
         "P25205",
         "P49736"
        ],
        [
         "46",
         "P63104",
         "P49736"
        ],
        [
         "47",
         "Q8NF50",
         "P30304"
        ],
        [
         "48",
         "Q15642",
         "P60953"
        ],
        [
         "49",
         "Q16667",
         "P60953"
        ]
       ],
       "shape": {
        "columns": 2,
        "rows": 854734
       }
      },
      "text/html": [
       "<div>\n",
       "<style scoped>\n",
       "    .dataframe tbody tr th:only-of-type {\n",
       "        vertical-align: middle;\n",
       "    }\n",
       "\n",
       "    .dataframe tbody tr th {\n",
       "        vertical-align: top;\n",
       "    }\n",
       "\n",
       "    .dataframe thead th {\n",
       "        text-align: right;\n",
       "    }\n",
       "</style>\n",
       "<table border=\"1\" class=\"dataframe\">\n",
       "  <thead>\n",
       "    <tr style=\"text-align: right;\">\n",
       "      <th></th>\n",
       "      <th>Alt IDs Interactor A</th>\n",
       "      <th>Alt IDs Interactor B</th>\n",
       "    </tr>\n",
       "  </thead>\n",
       "  <tbody>\n",
       "    <tr>\n",
       "      <th>0</th>\n",
       "      <td>P45985</td>\n",
       "      <td>Q14315</td>\n",
       "    </tr>\n",
       "    <tr>\n",
       "      <th>1</th>\n",
       "      <td>Q86TC9</td>\n",
       "      <td>P35609</td>\n",
       "    </tr>\n",
       "    <tr>\n",
       "      <th>2</th>\n",
       "      <td>Q04771</td>\n",
       "      <td>P49354</td>\n",
       "    </tr>\n",
       "    <tr>\n",
       "      <th>3</th>\n",
       "      <td>P23769</td>\n",
       "      <td>P29590</td>\n",
       "    </tr>\n",
       "    <tr>\n",
       "      <th>4</th>\n",
       "      <td>P15927</td>\n",
       "      <td>P40763</td>\n",
       "    </tr>\n",
       "    <tr>\n",
       "      <th>...</th>\n",
       "      <td>...</td>\n",
       "      <td>...</td>\n",
       "    </tr>\n",
       "    <tr>\n",
       "      <th>854729</th>\n",
       "      <td>Q99873</td>\n",
       "      <td>Q14152</td>\n",
       "    </tr>\n",
       "    <tr>\n",
       "      <th>854730</th>\n",
       "      <td>Q99873</td>\n",
       "      <td>Q7Z406</td>\n",
       "    </tr>\n",
       "    <tr>\n",
       "      <th>854731</th>\n",
       "      <td>Q9HAP2</td>\n",
       "      <td>Q9UBB9</td>\n",
       "    </tr>\n",
       "    <tr>\n",
       "      <th>854732</th>\n",
       "      <td>Q86UP2</td>\n",
       "      <td>Q9H0D6</td>\n",
       "    </tr>\n",
       "    <tr>\n",
       "      <th>854733</th>\n",
       "      <td>Q99873</td>\n",
       "      <td>Q7L7V1</td>\n",
       "    </tr>\n",
       "  </tbody>\n",
       "</table>\n",
       "<p>854734 rows × 2 columns</p>\n",
       "</div>"
      ],
      "text/plain": [
       "       Alt IDs Interactor A Alt IDs Interactor B\n",
       "0                    P45985               Q14315\n",
       "1                    Q86TC9               P35609\n",
       "2                    Q04771               P49354\n",
       "3                    P23769               P29590\n",
       "4                    P15927               P40763\n",
       "...                     ...                  ...\n",
       "854729               Q99873               Q14152\n",
       "854730               Q99873               Q7Z406\n",
       "854731               Q9HAP2               Q9UBB9\n",
       "854732               Q86UP2               Q9H0D6\n",
       "854733               Q99873               Q7L7V1\n",
       "\n",
       "[854734 rows x 2 columns]"
      ]
     },
     "execution_count": 4,
     "metadata": {},
     "output_type": "execute_result"
    }
   ],
   "source": [
    "df_a_expanded = df_biogrid_filter_relation['Alt IDs Interactor A'].str.split('|', expand=True).stack().reset_index(level=1, drop=True).reset_index(name='Alt IDs Interactor A')\n",
    "df_b_expanded = df_biogrid_filter_relation['Alt IDs Interactor B'].str.split('|', expand=True).stack().reset_index(level=1, drop=True).reset_index(name='Alt IDs Interactor B')\n",
    "\n",
    "df_biogrid_filter_relation = df_a_expanded.join(df_b_expanded['Alt IDs Interactor B'])\n",
    "df_biogrid_filter_relation.dropna(subset=['Alt IDs Interactor A', 'Alt IDs Interactor B'], inplace=True)\n",
    "df_biogrid_filter_relation = df_biogrid_filter_relation[(df_biogrid_filter_relation['Alt IDs Interactor A'].notna()) & \n",
    "                                   (df_biogrid_filter_relation['Alt IDs Interactor A'] != '') & \n",
    "                                   (df_biogrid_filter_relation['Alt IDs Interactor B'].notna()) & \n",
    "                                   (df_biogrid_filter_relation['Alt IDs Interactor B'] != '')]\n",
    "df_biogrid_filter_relation.drop(columns=['index'], inplace=True)\n",
    "df_biogrid_filter_relation.drop_duplicates(inplace=True)\n",
    "df_biogrid_filter_relation.reset_index(drop=True, inplace=True)\n",
    "df_biogrid_filter_relation"
   ]
  },
  {
   "cell_type": "code",
   "execution_count": 5,
   "metadata": {},
   "outputs": [
    {
     "data": {
      "application/vnd.microsoft.datawrangler.viewer.v0+json": {
       "columns": [
        {
         "name": "index",
         "rawType": "int64",
         "type": "integer"
        },
        {
         "name": "Alt IDs Interactor A",
         "rawType": "object",
         "type": "string"
        },
        {
         "name": "Alt IDs Interactor B",
         "rawType": "object",
         "type": "string"
        }
       ],
       "conversionMethod": "pd.DataFrame",
       "ref": "a5309894-6044-48b9-a303-00129581b8d6",
       "rows": [
        [
         "0",
         "P45985",
         "Q14315"
        ],
        [
         "1",
         "Q86TC9",
         "P35609"
        ],
        [
         "2",
         "Q04771",
         "P49354"
        ],
        [
         "3",
         "P23769",
         "P29590"
        ],
        [
         "4",
         "P15927",
         "P40763"
        ],
        [
         "5",
         "P84077",
         "Q9NZ52"
        ],
        [
         "6",
         "P61204",
         "P53365"
        ],
        [
         "7",
         "P61204",
         "P53367"
        ],
        [
         "8",
         "Q8IZH2",
         "P04075"
        ],
        [
         "9",
         "P05067",
         "Q92624"
        ],
        [
         "10",
         "P51693",
         "O75553"
        ],
        [
         "11",
         "Q99967",
         "P05549"
        ],
        [
         "12",
         "Q09472",
         "P05549"
        ],
        [
         "13",
         "P04114",
         "P55157"
        ],
        [
         "14",
         "P32121",
         "Q12967"
        ],
        [
         "15",
         "P07333",
         "P62993"
        ],
        [
         "16",
         "P48634",
         "P62993"
        ],
        [
         "17",
         "O15116",
         "O43776"
        ],
        [
         "18",
         "P02730",
         "Q9BWU0"
        ],
        [
         "19",
         "P20749",
         "Q99728"
        ],
        [
         "20",
         "P08588",
         "O14908"
        ],
        [
         "21",
         "P38398",
         "P18846"
        ],
        [
         "22",
         "P38398",
         "P43246"
        ],
        [
         "23",
         "P38398",
         "Q99728"
        ],
        [
         "24",
         "P38398",
         "P52701"
        ],
        [
         "25",
         "O00192",
         "P55291"
        ],
        [
         "26",
         "P61457",
         "Q13936"
        ],
        [
         "27",
         "P49810",
         "P07384"
        ],
        [
         "28",
         "P20807",
         "Q8WZ42"
        ],
        [
         "29",
         "Q14643",
         "P35219"
        ],
        [
         "30",
         "Q96QZ7",
         "P35222"
        ],
        [
         "31",
         "P06400",
         "Q13948"
        ],
        [
         "32",
         "Q99816",
         "P39880"
        ],
        [
         "33",
         "Q13415",
         "P38936"
        ],
        [
         "34",
         "O43929",
         "P49736"
        ],
        [
         "35",
         "P33992",
         "P49736"
        ],
        [
         "36",
         "O00311",
         "P49736"
        ],
        [
         "37",
         "Q13416",
         "P49736"
        ],
        [
         "38",
         "P15927",
         "P49736"
        ],
        [
         "39",
         "Q9UBU7",
         "P49736"
        ],
        [
         "40",
         "O43823",
         "P49736"
        ],
        [
         "41",
         "P49736",
         "P49736"
        ],
        [
         "42",
         "P27694",
         "P49736"
        ],
        [
         "43",
         "P35244",
         "P49736"
        ],
        [
         "44",
         "O43913",
         "P49736"
        ],
        [
         "45",
         "P25205",
         "P49736"
        ],
        [
         "46",
         "P63104",
         "P49736"
        ],
        [
         "47",
         "Q8NF50",
         "P30304"
        ],
        [
         "48",
         "Q15642",
         "P60953"
        ],
        [
         "49",
         "Q16667",
         "P60953"
        ]
       ],
       "shape": {
        "columns": 2,
        "rows": 1690122
       }
      },
      "text/html": [
       "<div>\n",
       "<style scoped>\n",
       "    .dataframe tbody tr th:only-of-type {\n",
       "        vertical-align: middle;\n",
       "    }\n",
       "\n",
       "    .dataframe tbody tr th {\n",
       "        vertical-align: top;\n",
       "    }\n",
       "\n",
       "    .dataframe thead th {\n",
       "        text-align: right;\n",
       "    }\n",
       "</style>\n",
       "<table border=\"1\" class=\"dataframe\">\n",
       "  <thead>\n",
       "    <tr style=\"text-align: right;\">\n",
       "      <th></th>\n",
       "      <th>Alt IDs Interactor A</th>\n",
       "      <th>Alt IDs Interactor B</th>\n",
       "    </tr>\n",
       "  </thead>\n",
       "  <tbody>\n",
       "    <tr>\n",
       "      <th>0</th>\n",
       "      <td>P45985</td>\n",
       "      <td>Q14315</td>\n",
       "    </tr>\n",
       "    <tr>\n",
       "      <th>1</th>\n",
       "      <td>Q86TC9</td>\n",
       "      <td>P35609</td>\n",
       "    </tr>\n",
       "    <tr>\n",
       "      <th>2</th>\n",
       "      <td>Q04771</td>\n",
       "      <td>P49354</td>\n",
       "    </tr>\n",
       "    <tr>\n",
       "      <th>3</th>\n",
       "      <td>P23769</td>\n",
       "      <td>P29590</td>\n",
       "    </tr>\n",
       "    <tr>\n",
       "      <th>4</th>\n",
       "      <td>P15927</td>\n",
       "      <td>P40763</td>\n",
       "    </tr>\n",
       "    <tr>\n",
       "      <th>...</th>\n",
       "      <td>...</td>\n",
       "      <td>...</td>\n",
       "    </tr>\n",
       "    <tr>\n",
       "      <th>1690117</th>\n",
       "      <td>Q14152</td>\n",
       "      <td>Q99873</td>\n",
       "    </tr>\n",
       "    <tr>\n",
       "      <th>1690118</th>\n",
       "      <td>Q7Z406</td>\n",
       "      <td>Q99873</td>\n",
       "    </tr>\n",
       "    <tr>\n",
       "      <th>1690119</th>\n",
       "      <td>Q9UBB9</td>\n",
       "      <td>Q9HAP2</td>\n",
       "    </tr>\n",
       "    <tr>\n",
       "      <th>1690120</th>\n",
       "      <td>Q9H0D6</td>\n",
       "      <td>Q86UP2</td>\n",
       "    </tr>\n",
       "    <tr>\n",
       "      <th>1690121</th>\n",
       "      <td>Q7L7V1</td>\n",
       "      <td>Q99873</td>\n",
       "    </tr>\n",
       "  </tbody>\n",
       "</table>\n",
       "<p>1690122 rows × 2 columns</p>\n",
       "</div>"
      ],
      "text/plain": [
       "        Alt IDs Interactor A Alt IDs Interactor B\n",
       "0                     P45985               Q14315\n",
       "1                     Q86TC9               P35609\n",
       "2                     Q04771               P49354\n",
       "3                     P23769               P29590\n",
       "4                     P15927               P40763\n",
       "...                      ...                  ...\n",
       "1690117               Q14152               Q99873\n",
       "1690118               Q7Z406               Q99873\n",
       "1690119               Q9UBB9               Q9HAP2\n",
       "1690120               Q9H0D6               Q86UP2\n",
       "1690121               Q7L7V1               Q99873\n",
       "\n",
       "[1690122 rows x 2 columns]"
      ]
     },
     "execution_count": 5,
     "metadata": {},
     "output_type": "execute_result"
    }
   ],
   "source": [
    "df_biogrid_filter_relation_reversed = df_biogrid_filter_relation.copy()\n",
    "df_biogrid_filter_relation_reversed.rename(columns={'Alt IDs Interactor A': 'Alt IDs Interactor B', 'Alt IDs Interactor B': 'Alt IDs Interactor A'}, inplace=True)\n",
    "df_biogrid_filter_relation_final = pd.concat([df_biogrid_filter_relation, df_biogrid_filter_relation_reversed], ignore_index=True)\n",
    "df_biogrid_filter_relation_final.drop_duplicates(inplace=True)\n",
    "df_biogrid_filter_relation_final.reset_index(drop=True, inplace=True)\n",
    "df_biogrid_filter_relation_final"
   ]
  },
  {
   "cell_type": "markdown",
   "metadata": {},
   "source": [
    "### STRING"
   ]
  },
  {
   "cell_type": "code",
   "execution_count": 6,
   "metadata": {},
   "outputs": [
    {
     "name": "stderr",
     "output_type": "stream",
     "text": [
      "C:\\Users\\shunn\\AppData\\Local\\Temp\\ipykernel_9296\\1076345280.py:7: SettingWithCopyWarning: \n",
      "A value is trying to be set on a copy of a slice from a DataFrame.\n",
      "Try using .loc[row_indexer,col_indexer] = value instead\n",
      "\n",
      "See the caveats in the documentation: https://pandas.pydata.org/pandas-docs/stable/user_guide/indexing.html#returning-a-view-versus-a-copy\n",
      "  df_stringdb_filter['protein1'] = df_stringdb_filter['protein1'].replace('9606.', '', regex=True)\n",
      "C:\\Users\\shunn\\AppData\\Local\\Temp\\ipykernel_9296\\1076345280.py:8: SettingWithCopyWarning: \n",
      "A value is trying to be set on a copy of a slice from a DataFrame.\n",
      "Try using .loc[row_indexer,col_indexer] = value instead\n",
      "\n",
      "See the caveats in the documentation: https://pandas.pydata.org/pandas-docs/stable/user_guide/indexing.html#returning-a-view-versus-a-copy\n",
      "  df_stringdb_filter['protein2'] = df_stringdb_filter['protein2'].replace('9606.', '', regex=True)\n"
     ]
    },
    {
     "data": {
      "application/vnd.microsoft.datawrangler.viewer.v0+json": {
       "columns": [
        {
         "name": "index",
         "rawType": "int64",
         "type": "integer"
        },
        {
         "name": "protein1",
         "rawType": "object",
         "type": "string"
        },
        {
         "name": "protein2",
         "rawType": "object",
         "type": "string"
        }
       ],
       "conversionMethod": "pd.DataFrame",
       "ref": "01cdd591-4a90-473d-8968-7a2721f3a486",
       "rows": [
        [
         "0",
         "ENSP00000000233",
         "ENSP00000356607"
        ],
        [
         "1",
         "ENSP00000000233",
         "ENSP00000427567"
        ],
        [
         "2",
         "ENSP00000000233",
         "ENSP00000253413"
        ],
        [
         "3",
         "ENSP00000000233",
         "ENSP00000493357"
        ],
        [
         "4",
         "ENSP00000000233",
         "ENSP00000324127"
        ],
        [
         "5",
         "ENSP00000000233",
         "ENSP00000325266"
        ],
        [
         "6",
         "ENSP00000000233",
         "ENSP00000320935"
        ],
        [
         "7",
         "ENSP00000000233",
         "ENSP00000371175"
        ],
        [
         "8",
         "ENSP00000000233",
         "ENSP00000480364"
        ],
        [
         "9",
         "ENSP00000000233",
         "ENSP00000388107"
        ],
        [
         "10",
         "ENSP00000000233",
         "ENSP00000461784"
        ],
        [
         "11",
         "ENSP00000000233",
         "ENSP00000381097"
        ],
        [
         "12",
         "ENSP00000000233",
         "ENSP00000234160"
        ],
        [
         "13",
         "ENSP00000000233",
         "ENSP00000241502"
        ],
        [
         "14",
         "ENSP00000000233",
         "ENSP00000317272"
        ],
        [
         "15",
         "ENSP00000000233",
         "ENSP00000487719"
        ],
        [
         "16",
         "ENSP00000000233",
         "ENSP00000354878"
        ],
        [
         "17",
         "ENSP00000000233",
         "ENSP00000479606"
        ],
        [
         "18",
         "ENSP00000000233",
         "ENSP00000369127"
        ],
        [
         "19",
         "ENSP00000000233",
         "ENSP00000493946"
        ],
        [
         "20",
         "ENSP00000000233",
         "ENSP00000383023"
        ],
        [
         "21",
         "ENSP00000000233",
         "ENSP00000266126"
        ],
        [
         "22",
         "ENSP00000000233",
         "ENSP00000262027"
        ],
        [
         "23",
         "ENSP00000000233",
         "ENSP00000271526"
        ],
        [
         "24",
         "ENSP00000000233",
         "ENSP00000364898"
        ],
        [
         "25",
         "ENSP00000000233",
         "ENSP00000325074"
        ],
        [
         "26",
         "ENSP00000000233",
         "ENSP00000310226"
        ],
        [
         "27",
         "ENSP00000000233",
         "ENSP00000006275"
        ],
        [
         "28",
         "ENSP00000000233",
         "ENSP00000369965"
        ],
        [
         "29",
         "ENSP00000000233",
         "ENSP00000258098"
        ],
        [
         "30",
         "ENSP00000000233",
         "ENSP00000265462"
        ],
        [
         "31",
         "ENSP00000000233",
         "ENSP00000347464"
        ],
        [
         "32",
         "ENSP00000000233",
         "ENSP00000330842"
        ],
        [
         "33",
         "ENSP00000000233",
         "ENSP00000358723"
        ],
        [
         "34",
         "ENSP00000000233",
         "ENSP00000363232"
        ],
        [
         "35",
         "ENSP00000000233",
         "ENSP00000498386"
        ],
        [
         "36",
         "ENSP00000000233",
         "ENSP00000225655"
        ],
        [
         "37",
         "ENSP00000000233",
         "ENSP00000351926"
        ],
        [
         "38",
         "ENSP00000000233",
         "ENSP00000447300"
        ],
        [
         "39",
         "ENSP00000000233",
         "ENSP00000264335"
        ],
        [
         "40",
         "ENSP00000000233",
         "ENSP00000482829"
        ],
        [
         "41",
         "ENSP00000000233",
         "ENSP00000387549"
        ],
        [
         "42",
         "ENSP00000000233",
         "ENSP00000386857"
        ],
        [
         "43",
         "ENSP00000000233",
         "ENSP00000271889"
        ],
        [
         "44",
         "ENSP00000000233",
         "ENSP00000377769"
        ],
        [
         "45",
         "ENSP00000000233",
         "ENSP00000489407"
        ],
        [
         "46",
         "ENSP00000000233",
         "ENSP00000341885"
        ],
        [
         "47",
         "ENSP00000000233",
         "ENSP00000307939"
        ],
        [
         "48",
         "ENSP00000000233",
         "ENSP00000297532"
        ],
        [
         "49",
         "ENSP00000000233",
         "ENSP00000222803"
        ]
       ],
       "shape": {
        "columns": 2,
        "rows": 13715404
       }
      },
      "text/html": [
       "<div>\n",
       "<style scoped>\n",
       "    .dataframe tbody tr th:only-of-type {\n",
       "        vertical-align: middle;\n",
       "    }\n",
       "\n",
       "    .dataframe tbody tr th {\n",
       "        vertical-align: top;\n",
       "    }\n",
       "\n",
       "    .dataframe thead th {\n",
       "        text-align: right;\n",
       "    }\n",
       "</style>\n",
       "<table border=\"1\" class=\"dataframe\">\n",
       "  <thead>\n",
       "    <tr style=\"text-align: right;\">\n",
       "      <th></th>\n",
       "      <th>protein1</th>\n",
       "      <th>protein2</th>\n",
       "    </tr>\n",
       "  </thead>\n",
       "  <tbody>\n",
       "    <tr>\n",
       "      <th>0</th>\n",
       "      <td>ENSP00000000233</td>\n",
       "      <td>ENSP00000356607</td>\n",
       "    </tr>\n",
       "    <tr>\n",
       "      <th>1</th>\n",
       "      <td>ENSP00000000233</td>\n",
       "      <td>ENSP00000427567</td>\n",
       "    </tr>\n",
       "    <tr>\n",
       "      <th>2</th>\n",
       "      <td>ENSP00000000233</td>\n",
       "      <td>ENSP00000253413</td>\n",
       "    </tr>\n",
       "    <tr>\n",
       "      <th>3</th>\n",
       "      <td>ENSP00000000233</td>\n",
       "      <td>ENSP00000493357</td>\n",
       "    </tr>\n",
       "    <tr>\n",
       "      <th>4</th>\n",
       "      <td>ENSP00000000233</td>\n",
       "      <td>ENSP00000324127</td>\n",
       "    </tr>\n",
       "    <tr>\n",
       "      <th>...</th>\n",
       "      <td>...</td>\n",
       "      <td>...</td>\n",
       "    </tr>\n",
       "    <tr>\n",
       "      <th>13715399</th>\n",
       "      <td>ENSP00000501317</td>\n",
       "      <td>ENSP00000475489</td>\n",
       "    </tr>\n",
       "    <tr>\n",
       "      <th>13715400</th>\n",
       "      <td>ENSP00000501317</td>\n",
       "      <td>ENSP00000370447</td>\n",
       "    </tr>\n",
       "    <tr>\n",
       "      <th>13715401</th>\n",
       "      <td>ENSP00000501317</td>\n",
       "      <td>ENSP00000312272</td>\n",
       "    </tr>\n",
       "    <tr>\n",
       "      <th>13715402</th>\n",
       "      <td>ENSP00000501317</td>\n",
       "      <td>ENSP00000402092</td>\n",
       "    </tr>\n",
       "    <tr>\n",
       "      <th>13715403</th>\n",
       "      <td>ENSP00000501317</td>\n",
       "      <td>ENSP00000404074</td>\n",
       "    </tr>\n",
       "  </tbody>\n",
       "</table>\n",
       "<p>13715404 rows × 2 columns</p>\n",
       "</div>"
      ],
      "text/plain": [
       "                 protein1         protein2\n",
       "0         ENSP00000000233  ENSP00000356607\n",
       "1         ENSP00000000233  ENSP00000427567\n",
       "2         ENSP00000000233  ENSP00000253413\n",
       "3         ENSP00000000233  ENSP00000493357\n",
       "4         ENSP00000000233  ENSP00000324127\n",
       "...                   ...              ...\n",
       "13715399  ENSP00000501317  ENSP00000475489\n",
       "13715400  ENSP00000501317  ENSP00000370447\n",
       "13715401  ENSP00000501317  ENSP00000312272\n",
       "13715402  ENSP00000501317  ENSP00000402092\n",
       "13715403  ENSP00000501317  ENSP00000404074\n",
       "\n",
       "[13715404 rows x 2 columns]"
      ]
     },
     "execution_count": 6,
     "metadata": {},
     "output_type": "execute_result"
    }
   ],
   "source": [
    "# Download Link: https://stringdb-downloads.org/download/protein.links.full.v12.0/9606.protein.links.full.v12.0.txt.gz\n",
    "# Download Date: 2025-03-21\n",
    "# Download Version: 2023-05-16\n",
    "\n",
    "df_stringdb = pd.read_csv('9606.protein.links.full.v12.0.txt', sep=' ')\n",
    "df_stringdb_filter = df_stringdb[['protein1', 'protein2']]\n",
    "df_stringdb_filter['protein1'] = df_stringdb_filter['protein1'].replace('9606.', '', regex=True)\n",
    "df_stringdb_filter['protein2'] = df_stringdb_filter['protein2'].replace('9606.', '', regex=True)\n",
    "df_stringdb_filter"
   ]
  },
  {
   "cell_type": "markdown",
   "metadata": {},
   "source": [
    "### KEGG"
   ]
  },
  {
   "cell_type": "code",
   "execution_count": 19,
   "metadata": {},
   "outputs": [
    {
     "data": {
      "application/vnd.microsoft.datawrangler.viewer.v0+json": {
       "columns": [
        {
         "name": "index",
         "rawType": "int64",
         "type": "integer"
        },
        {
         "name": "source",
         "rawType": "object",
         "type": "string"
        },
        {
         "name": "target",
         "rawType": "object",
         "type": "string"
        }
       ],
       "conversionMethod": "pd.DataFrame",
       "ref": "086cb5d1-21b4-444d-a211-d3de0bee343a",
       "rows": [
        [
         "1508",
         "HSD17B8",
         "CBR4"
        ],
        [
         "7986",
         "MAN1A2",
         "MGAT1"
        ],
        [
         "7987",
         "MAN1B1",
         "MAN1A2"
        ],
        [
         "7988",
         "MAN1B1",
         "MAN1A1"
        ],
        [
         "7989",
         "MAN1B1",
         "MAN1C1"
        ],
        [
         "7990",
         "ALG10B",
         "ALG8"
        ],
        [
         "7991",
         "DAD1",
         "DDOST"
        ],
        [
         "7992",
         "DAD1",
         "STT3B"
        ],
        [
         "7993",
         "DAD1",
         "STT3A"
        ],
        [
         "7994",
         "DAD1",
         "OSTC"
        ],
        [
         "7995",
         "DAD1",
         "RPN1"
        ],
        [
         "7996",
         "DAD1",
         "RPN2"
        ],
        [
         "7997",
         "DAD1",
         "TMEM258"
        ],
        [
         "7998",
         "DAD1",
         "TUSC3"
        ],
        [
         "7999",
         "DAD1",
         "MAGT1"
        ],
        [
         "8000",
         "DDOST",
         "STT3B"
        ],
        [
         "8001",
         "DDOST",
         "STT3A"
        ],
        [
         "8002",
         "DDOST",
         "OSTC"
        ],
        [
         "8003",
         "DDOST",
         "RPN1"
        ],
        [
         "8004",
         "DDOST",
         "RPN2"
        ],
        [
         "8005",
         "DDOST",
         "TMEM258"
        ],
        [
         "8006",
         "DDOST",
         "TUSC3"
        ],
        [
         "8007",
         "DDOST",
         "MAGT1"
        ],
        [
         "8008",
         "ALG14",
         "ALG13"
        ],
        [
         "8009",
         "STT3B",
         "STT3A"
        ],
        [
         "8010",
         "STT3B",
         "OSTC"
        ],
        [
         "8011",
         "STT3B",
         "RPN1"
        ],
        [
         "8012",
         "STT3B",
         "RPN2"
        ],
        [
         "8013",
         "STT3B",
         "TMEM258"
        ],
        [
         "8014",
         "STT3B",
         "TUSC3"
        ],
        [
         "8015",
         "STT3B",
         "MAGT1"
        ],
        [
         "8016",
         "STT3A",
         "OSTC"
        ],
        [
         "8017",
         "STT3A",
         "RPN1"
        ],
        [
         "8018",
         "STT3A",
         "RPN2"
        ],
        [
         "8019",
         "STT3A",
         "TMEM258"
        ],
        [
         "8020",
         "STT3A",
         "TUSC3"
        ],
        [
         "8021",
         "STT3A",
         "MAGT1"
        ],
        [
         "8022",
         "MAN1A1",
         "MGAT1"
        ],
        [
         "8023",
         "DPM3",
         "DPM1"
        ],
        [
         "8024",
         "DPM3",
         "DPM2"
        ],
        [
         "8025",
         "MAN1C1",
         "MGAT1"
        ],
        [
         "8026",
         "OSTC",
         "RPN1"
        ],
        [
         "8027",
         "OSTC",
         "RPN2"
        ],
        [
         "8028",
         "OSTC",
         "TMEM258"
        ],
        [
         "8029",
         "OSTC",
         "TUSC3"
        ],
        [
         "8030",
         "OSTC",
         "MAGT1"
        ],
        [
         "8031",
         "RPN1",
         "RPN2"
        ],
        [
         "8032",
         "RPN1",
         "TMEM258"
        ],
        [
         "8033",
         "RPN1",
         "TUSC3"
        ],
        [
         "8034",
         "RPN1",
         "MAGT1"
        ]
       ],
       "shape": {
        "columns": 2,
        "rows": 52973
       }
      },
      "text/html": [
       "<div>\n",
       "<style scoped>\n",
       "    .dataframe tbody tr th:only-of-type {\n",
       "        vertical-align: middle;\n",
       "    }\n",
       "\n",
       "    .dataframe tbody tr th {\n",
       "        vertical-align: top;\n",
       "    }\n",
       "\n",
       "    .dataframe thead th {\n",
       "        text-align: right;\n",
       "    }\n",
       "</style>\n",
       "<table border=\"1\" class=\"dataframe\">\n",
       "  <thead>\n",
       "    <tr style=\"text-align: right;\">\n",
       "      <th></th>\n",
       "      <th>source</th>\n",
       "      <th>target</th>\n",
       "    </tr>\n",
       "  </thead>\n",
       "  <tbody>\n",
       "    <tr>\n",
       "      <th>1508</th>\n",
       "      <td>HSD17B8</td>\n",
       "      <td>CBR4</td>\n",
       "    </tr>\n",
       "    <tr>\n",
       "      <th>7986</th>\n",
       "      <td>MAN1A2</td>\n",
       "      <td>MGAT1</td>\n",
       "    </tr>\n",
       "    <tr>\n",
       "      <th>7987</th>\n",
       "      <td>MAN1B1</td>\n",
       "      <td>MAN1A2</td>\n",
       "    </tr>\n",
       "    <tr>\n",
       "      <th>7988</th>\n",
       "      <td>MAN1B1</td>\n",
       "      <td>MAN1A1</td>\n",
       "    </tr>\n",
       "    <tr>\n",
       "      <th>7989</th>\n",
       "      <td>MAN1B1</td>\n",
       "      <td>MAN1C1</td>\n",
       "    </tr>\n",
       "    <tr>\n",
       "      <th>...</th>\n",
       "      <td>...</td>\n",
       "      <td>...</td>\n",
       "    </tr>\n",
       "    <tr>\n",
       "      <th>145760</th>\n",
       "      <td>ACVR2B</td>\n",
       "      <td>NCF2</td>\n",
       "    </tr>\n",
       "    <tr>\n",
       "      <th>145762</th>\n",
       "      <td>ACVR2B</td>\n",
       "      <td>RAC1</td>\n",
       "    </tr>\n",
       "    <tr>\n",
       "      <th>145764</th>\n",
       "      <td>ACVR2B</td>\n",
       "      <td>RAC2</td>\n",
       "    </tr>\n",
       "    <tr>\n",
       "      <th>145766</th>\n",
       "      <td>ACVR2B</td>\n",
       "      <td>RAC3</td>\n",
       "    </tr>\n",
       "    <tr>\n",
       "      <th>145768</th>\n",
       "      <td>ACVR2B</td>\n",
       "      <td>NCF1</td>\n",
       "    </tr>\n",
       "  </tbody>\n",
       "</table>\n",
       "<p>52973 rows × 2 columns</p>\n",
       "</div>"
      ],
      "text/plain": [
       "         source  target\n",
       "1508    HSD17B8    CBR4\n",
       "7986     MAN1A2   MGAT1\n",
       "7987     MAN1B1  MAN1A2\n",
       "7988     MAN1B1  MAN1A1\n",
       "7989     MAN1B1  MAN1C1\n",
       "...         ...     ...\n",
       "145760   ACVR2B    NCF2\n",
       "145762   ACVR2B    RAC1\n",
       "145764   ACVR2B    RAC2\n",
       "145766   ACVR2B    RAC3\n",
       "145768   ACVR2B    NCF1\n",
       "\n",
       "[52973 rows x 2 columns]"
      ]
     },
     "execution_count": 19,
     "metadata": {},
     "output_type": "execute_result"
    }
   ],
   "source": [
    "kegg = pd.read_csv('full_kegg_pathway_list_with_id.csv')\n",
    "kegg_filter = kegg[(kegg['source_type'] == 'SYMBOL') & (kegg['target_type'] == 'SYMBOL')]\n",
    "kegg_filter = kegg_filter[['source', 'target']]\n",
    "kegg_filter.drop_duplicates(inplace=True)\n",
    "kegg_filter"
   ]
  },
  {
   "cell_type": "markdown",
   "metadata": {},
   "source": [
    "### BioMedGraphica ID"
   ]
  },
  {
   "cell_type": "code",
   "execution_count": 7,
   "metadata": {},
   "outputs": [],
   "source": [
    "import pandas as pd\n",
    "import os\n",
    "from pathlib import Path\n",
    "\n",
    "current_working_dir = Path(os.getcwd()).resolve()\n",
    "grandparent_dir = current_working_dir.parent.parent.parent\n",
    "target_dir_protein = grandparent_dir / 'BioMedGraphica' / 'Entity' / 'Protein' / 'BioMedGraphica_Protein.csv'\n",
    "biomedgraphica_protein = pd.read_csv(target_dir_protein, dtype=str)"
   ]
  },
  {
   "cell_type": "markdown",
   "metadata": {},
   "source": [
    "### BioGrid Mapping"
   ]
  },
  {
   "cell_type": "code",
   "execution_count": 8,
   "metadata": {},
   "outputs": [
    {
     "name": "stderr",
     "output_type": "stream",
     "text": [
      "C:\\Users\\shunn\\AppData\\Local\\Temp\\ipykernel_9296\\2768093953.py:2: SettingWithCopyWarning: \n",
      "A value is trying to be set on a copy of a slice from a DataFrame\n",
      "\n",
      "See the caveats in the documentation: https://pandas.pydata.org/pandas-docs/stable/user_guide/indexing.html#returning-a-view-versus-a-copy\n",
      "  uniprot_protein.dropna(subset = ['Uniprot_ID'], inplace=True)\n"
     ]
    }
   ],
   "source": [
    "uniprot_protein = biomedgraphica_protein[['Uniprot_ID', 'BioMedGraphica_ID']]\n",
    "uniprot_protein.dropna(subset = ['Uniprot_ID'], inplace=True)\n",
    "uniprot_protein = uniprot_protein.assign(Uniprot_ID=biomedgraphica_protein['Uniprot_ID'].str.split(';')).explode('Uniprot_ID')\n",
    "\n",
    "uniprot_protein_to_individualid = uniprot_protein.groupby('Uniprot_ID')['BioMedGraphica_ID'].apply(lambda x: ';'.join(x.dropna().unique())).to_dict()"
   ]
  },
  {
   "cell_type": "code",
   "execution_count": 9,
   "metadata": {},
   "outputs": [
    {
     "data": {
      "application/vnd.microsoft.datawrangler.viewer.v0+json": {
       "columns": [
        {
         "name": "index",
         "rawType": "int64",
         "type": "integer"
        },
        {
         "name": "Alt IDs Interactor A",
         "rawType": "object",
         "type": "string"
        },
        {
         "name": "Alt IDs Interactor B",
         "rawType": "object",
         "type": "string"
        },
        {
         "name": "From_ID",
         "rawType": "object",
         "type": "unknown"
        },
        {
         "name": "To_ID",
         "rawType": "object",
         "type": "unknown"
        }
       ],
       "conversionMethod": "pd.DataFrame",
       "ref": "cb9e8c9a-8225-4e75-a80b-ec3566f83f0e",
       "rows": [
        [
         "0",
         "P45985",
         "Q14315",
         "BMG_PT040844",
         "BMG_PT044958"
        ],
        [
         "1",
         "Q86TC9",
         "P35609",
         "BMG_PT068914",
         "BMG_PT040481"
        ],
        [
         "2",
         "Q04771",
         "P49354",
         "BMG_PT042738",
         "BMG_PT041044"
        ],
        [
         "3",
         "P23769",
         "P29590",
         "BMG_PT039778",
         "BMG_PT040066"
        ],
        [
         "4",
         "P15927",
         "P40763",
         "BMG_PT039226",
         "BMG_PT040650"
        ],
        [
         "5",
         "P84077",
         "Q9NZ52",
         "BMG_PT042397",
         "BMG_PT094104"
        ],
        [
         "6",
         "P61204",
         "P53365",
         "BMG_PT041859",
         "BMG_PT041398"
        ],
        [
         "7",
         "P61204",
         "P53367",
         "BMG_PT041859",
         "BMG_PT041399"
        ],
        [
         "8",
         "Q8IZH2",
         "P04075",
         "BMG_PT071828",
         "BMG_PT037893"
        ],
        [
         "9",
         "P05067",
         "Q92624",
         "BMG_PT037991",
         "BMG_PT078849"
        ],
        [
         "10",
         "P51693",
         "O75553",
         "BMG_PT041273",
         "BMG_PT036075"
        ],
        [
         "11",
         "Q99967",
         "P05549",
         "BMG_PT084758",
         "BMG_PT038052"
        ],
        [
         "12",
         "Q09472",
         "P05549",
         "BMG_PT043256",
         "BMG_PT038052"
        ],
        [
         "13",
         "P04114",
         "P55157",
         "BMG_PT037899",
         "BMG_PT041529"
        ],
        [
         "14",
         "P32121",
         "Q12967",
         "BMG_PT040308",
         "BMG_PT043935"
        ],
        [
         "15",
         "P07333",
         "P62993",
         "BMG_PT038148",
         "BMG_PT042015"
        ],
        [
         "16",
         "P48634",
         "P62993",
         "BMG_PT040989",
         "BMG_PT042015"
        ],
        [
         "17",
         "O15116",
         "O43776",
         "BMG_PT033920",
         "BMG_PT034849"
        ],
        [
         "18",
         "P02730",
         "Q9BWU0",
         "BMG_PT037822",
         "BMG_PT086641"
        ],
        [
         "19",
         "P20749",
         "Q99728",
         "BMG_PT039558",
         "BMG_PT084588"
        ],
        [
         "20",
         "P08588",
         "O14908",
         "BMG_PT038256",
         "BMG_PT033731"
        ],
        [
         "21",
         "P38398",
         "P18846",
         "BMG_PT040587",
         "BMG_PT039437"
        ],
        [
         "22",
         "P38398",
         "P43246",
         "BMG_PT040587",
         "BMG_PT040786"
        ],
        [
         "23",
         "P38398",
         "Q99728",
         "BMG_PT040587",
         "BMG_PT084588"
        ],
        [
         "24",
         "P38398",
         "P52701",
         "BMG_PT040587",
         "BMG_PT041346"
        ],
        [
         "25",
         "O00192",
         "P55291",
         "BMG_PT032908",
         "BMG_PT041552"
        ],
        [
         "26",
         "P61457",
         "Q13936",
         "BMG_PT041879",
         "BMG_PT044678"
        ],
        [
         "27",
         "P49810",
         "P07384",
         "BMG_PT041118",
         "BMG_PT038155"
        ],
        [
         "28",
         "P20807",
         "Q8WZ42",
         "BMG_PT039564",
         "BMG_PT078636"
        ],
        [
         "29",
         "Q14643",
         "P35219",
         "BMG_PT045183",
         "BMG_PT040410"
        ],
        [
         "30",
         "Q96QZ7",
         "P35222",
         "BMG_PT083655",
         "BMG_PT040412"
        ],
        [
         "31",
         "P06400",
         "Q13948",
         "BMG_PT038084",
         "BMG_PT044688"
        ],
        [
         "32",
         "Q99816",
         "P39880",
         "BMG_PT084666",
         "BMG_PT040619"
        ],
        [
         "33",
         "Q13415",
         "P38936",
         "BMG_PT044300",
         "BMG_PT040600"
        ],
        [
         "34",
         "O43929",
         "P49736",
         "BMG_PT034960",
         "BMG_PT041087"
        ],
        [
         "35",
         "P33992",
         "P49736",
         "BMG_PT040375",
         "BMG_PT041087"
        ],
        [
         "36",
         "O00311",
         "P49736",
         "BMG_PT033009",
         "BMG_PT041087"
        ],
        [
         "37",
         "Q13416",
         "P49736",
         "BMG_PT044301",
         "BMG_PT041087"
        ],
        [
         "38",
         "P15927",
         "P49736",
         "BMG_PT039226",
         "BMG_PT041087"
        ],
        [
         "39",
         "Q9UBU7",
         "P49736",
         "BMG_PT095361",
         "BMG_PT041087"
        ],
        [
         "40",
         "O43823",
         "P49736",
         "BMG_PT034885",
         "BMG_PT041087"
        ],
        [
         "41",
         "P49736",
         "P49736",
         "BMG_PT041087",
         "BMG_PT041087"
        ],
        [
         "42",
         "P27694",
         "P49736",
         "BMG_PT039947",
         "BMG_PT041087"
        ],
        [
         "43",
         "P35244",
         "P49736",
         "BMG_PT040425",
         "BMG_PT041087"
        ],
        [
         "44",
         "O43913",
         "P49736",
         "BMG_PT034947",
         "BMG_PT041087"
        ],
        [
         "45",
         "P25205",
         "P49736",
         "BMG_PT039857",
         "BMG_PT041087"
        ],
        [
         "46",
         "P63104",
         "P49736",
         "BMG_PT042023",
         "BMG_PT041087"
        ],
        [
         "47",
         "Q8NF50",
         "P30304",
         "BMG_PT075350",
         "BMG_PT040113"
        ],
        [
         "48",
         "Q15642",
         "P60953",
         "BMG_PT046150",
         "BMG_PT041835"
        ],
        [
         "49",
         "Q16667",
         "P60953",
         "BMG_PT046768",
         "BMG_PT041835"
        ]
       ],
       "shape": {
        "columns": 4,
        "rows": 1690122
       }
      },
      "text/html": [
       "<div>\n",
       "<style scoped>\n",
       "    .dataframe tbody tr th:only-of-type {\n",
       "        vertical-align: middle;\n",
       "    }\n",
       "\n",
       "    .dataframe tbody tr th {\n",
       "        vertical-align: top;\n",
       "    }\n",
       "\n",
       "    .dataframe thead th {\n",
       "        text-align: right;\n",
       "    }\n",
       "</style>\n",
       "<table border=\"1\" class=\"dataframe\">\n",
       "  <thead>\n",
       "    <tr style=\"text-align: right;\">\n",
       "      <th></th>\n",
       "      <th>Alt IDs Interactor A</th>\n",
       "      <th>Alt IDs Interactor B</th>\n",
       "      <th>From_ID</th>\n",
       "      <th>To_ID</th>\n",
       "    </tr>\n",
       "  </thead>\n",
       "  <tbody>\n",
       "    <tr>\n",
       "      <th>0</th>\n",
       "      <td>P45985</td>\n",
       "      <td>Q14315</td>\n",
       "      <td>BMG_PT040844</td>\n",
       "      <td>BMG_PT044958</td>\n",
       "    </tr>\n",
       "    <tr>\n",
       "      <th>1</th>\n",
       "      <td>Q86TC9</td>\n",
       "      <td>P35609</td>\n",
       "      <td>BMG_PT068914</td>\n",
       "      <td>BMG_PT040481</td>\n",
       "    </tr>\n",
       "    <tr>\n",
       "      <th>2</th>\n",
       "      <td>Q04771</td>\n",
       "      <td>P49354</td>\n",
       "      <td>BMG_PT042738</td>\n",
       "      <td>BMG_PT041044</td>\n",
       "    </tr>\n",
       "    <tr>\n",
       "      <th>3</th>\n",
       "      <td>P23769</td>\n",
       "      <td>P29590</td>\n",
       "      <td>BMG_PT039778</td>\n",
       "      <td>BMG_PT040066</td>\n",
       "    </tr>\n",
       "    <tr>\n",
       "      <th>4</th>\n",
       "      <td>P15927</td>\n",
       "      <td>P40763</td>\n",
       "      <td>BMG_PT039226</td>\n",
       "      <td>BMG_PT040650</td>\n",
       "    </tr>\n",
       "    <tr>\n",
       "      <th>...</th>\n",
       "      <td>...</td>\n",
       "      <td>...</td>\n",
       "      <td>...</td>\n",
       "      <td>...</td>\n",
       "    </tr>\n",
       "    <tr>\n",
       "      <th>1690117</th>\n",
       "      <td>Q14152</td>\n",
       "      <td>Q99873</td>\n",
       "      <td>BMG_PT044837</td>\n",
       "      <td>BMG_PT084707</td>\n",
       "    </tr>\n",
       "    <tr>\n",
       "      <th>1690118</th>\n",
       "      <td>Q7Z406</td>\n",
       "      <td>Q99873</td>\n",
       "      <td>BMG_PT067828</td>\n",
       "      <td>BMG_PT084707</td>\n",
       "    </tr>\n",
       "    <tr>\n",
       "      <th>1690119</th>\n",
       "      <td>Q9UBB9</td>\n",
       "      <td>Q9HAP2</td>\n",
       "      <td>BMG_PT095202</td>\n",
       "      <td>BMG_PT090627</td>\n",
       "    </tr>\n",
       "    <tr>\n",
       "      <th>1690120</th>\n",
       "      <td>Q9H0D6</td>\n",
       "      <td>Q86UP2</td>\n",
       "      <td>BMG_PT087968</td>\n",
       "      <td>BMG_PT069229</td>\n",
       "    </tr>\n",
       "    <tr>\n",
       "      <th>1690121</th>\n",
       "      <td>Q7L7V1</td>\n",
       "      <td>Q99873</td>\n",
       "      <td>BMG_PT067144</td>\n",
       "      <td>BMG_PT084707</td>\n",
       "    </tr>\n",
       "  </tbody>\n",
       "</table>\n",
       "<p>1690122 rows × 4 columns</p>\n",
       "</div>"
      ],
      "text/plain": [
       "        Alt IDs Interactor A Alt IDs Interactor B       From_ID         To_ID\n",
       "0                     P45985               Q14315  BMG_PT040844  BMG_PT044958\n",
       "1                     Q86TC9               P35609  BMG_PT068914  BMG_PT040481\n",
       "2                     Q04771               P49354  BMG_PT042738  BMG_PT041044\n",
       "3                     P23769               P29590  BMG_PT039778  BMG_PT040066\n",
       "4                     P15927               P40763  BMG_PT039226  BMG_PT040650\n",
       "...                      ...                  ...           ...           ...\n",
       "1690117               Q14152               Q99873  BMG_PT044837  BMG_PT084707\n",
       "1690118               Q7Z406               Q99873  BMG_PT067828  BMG_PT084707\n",
       "1690119               Q9UBB9               Q9HAP2  BMG_PT095202  BMG_PT090627\n",
       "1690120               Q9H0D6               Q86UP2  BMG_PT087968  BMG_PT069229\n",
       "1690121               Q7L7V1               Q99873  BMG_PT067144  BMG_PT084707\n",
       "\n",
       "[1690122 rows x 4 columns]"
      ]
     },
     "execution_count": 9,
     "metadata": {},
     "output_type": "execute_result"
    }
   ],
   "source": [
    "df_biogrid_filter_relation_final['From_ID'] = df_biogrid_filter_relation_final['Alt IDs Interactor A'].map(uniprot_protein_to_individualid)\n",
    "df_biogrid_filter_relation_final['To_ID'] = df_biogrid_filter_relation_final['Alt IDs Interactor B'].map(uniprot_protein_to_individualid)\n",
    "df_biogrid_filter_relation_final"
   ]
  },
  {
   "cell_type": "code",
   "execution_count": 10,
   "metadata": {},
   "outputs": [
    {
     "name": "stdout",
     "output_type": "stream",
     "text": [
      "<class 'pandas.core.frame.DataFrame'>\n",
      "Index: 1689574 entries, 0 to 1690121\n",
      "Data columns (total 2 columns):\n",
      " #   Column   Non-Null Count    Dtype \n",
      "---  ------   --------------    ----- \n",
      " 0   From_ID  1689574 non-null  object\n",
      " 1   To_ID    1689574 non-null  object\n",
      "dtypes: object(2)\n",
      "memory usage: 38.7+ MB\n"
     ]
    }
   ],
   "source": [
    "df_biogrid_filter_relation_final.drop(columns=['Alt IDs Interactor A', 'Alt IDs Interactor B'], inplace=True)\n",
    "\n",
    "df_biogrid_filter_relation_final.dropna(subset=['From_ID'], inplace=True)\n",
    "df_biogrid_filter_relation_final.dropna(subset=['To_ID'], inplace=True)\n",
    "df_biogrid_filter_relation_final.info()"
   ]
  },
  {
   "cell_type": "code",
   "execution_count": 11,
   "metadata": {},
   "outputs": [
    {
     "data": {
      "application/vnd.microsoft.datawrangler.viewer.v0+json": {
       "columns": [
        {
         "name": "index",
         "rawType": "int64",
         "type": "integer"
        },
        {
         "name": "From_ID",
         "rawType": "object",
         "type": "string"
        },
        {
         "name": "To_ID",
         "rawType": "object",
         "type": "string"
        }
       ],
       "conversionMethod": "pd.DataFrame",
       "ref": "2fe8237c-ea2c-4cbf-bc26-91498b3da156",
       "rows": [
        [
         "0",
         "BMG_PT040844",
         "BMG_PT044958"
        ],
        [
         "1",
         "BMG_PT068914",
         "BMG_PT040481"
        ],
        [
         "2",
         "BMG_PT042738",
         "BMG_PT041044"
        ],
        [
         "3",
         "BMG_PT039778",
         "BMG_PT040066"
        ],
        [
         "4",
         "BMG_PT039226",
         "BMG_PT040650"
        ],
        [
         "5",
         "BMG_PT042397",
         "BMG_PT094104"
        ],
        [
         "6",
         "BMG_PT041859",
         "BMG_PT041398"
        ],
        [
         "7",
         "BMG_PT041859",
         "BMG_PT041399"
        ],
        [
         "8",
         "BMG_PT071828",
         "BMG_PT037893"
        ],
        [
         "9",
         "BMG_PT037991",
         "BMG_PT078849"
        ],
        [
         "10",
         "BMG_PT041273",
         "BMG_PT036075"
        ],
        [
         "11",
         "BMG_PT084758",
         "BMG_PT038052"
        ],
        [
         "12",
         "BMG_PT043256",
         "BMG_PT038052"
        ],
        [
         "13",
         "BMG_PT037899",
         "BMG_PT041529"
        ],
        [
         "14",
         "BMG_PT040308",
         "BMG_PT043935"
        ],
        [
         "15",
         "BMG_PT038148",
         "BMG_PT042015"
        ],
        [
         "16",
         "BMG_PT040989",
         "BMG_PT042015"
        ],
        [
         "17",
         "BMG_PT033920",
         "BMG_PT034849"
        ],
        [
         "18",
         "BMG_PT037822",
         "BMG_PT086641"
        ],
        [
         "19",
         "BMG_PT039558",
         "BMG_PT084588"
        ],
        [
         "20",
         "BMG_PT038256",
         "BMG_PT033731"
        ],
        [
         "21",
         "BMG_PT040587",
         "BMG_PT039437"
        ],
        [
         "22",
         "BMG_PT040587",
         "BMG_PT040786"
        ],
        [
         "23",
         "BMG_PT040587",
         "BMG_PT084588"
        ],
        [
         "24",
         "BMG_PT040587",
         "BMG_PT041346"
        ],
        [
         "25",
         "BMG_PT032908",
         "BMG_PT041552"
        ],
        [
         "26",
         "BMG_PT041879",
         "BMG_PT044678"
        ],
        [
         "27",
         "BMG_PT041118",
         "BMG_PT038155"
        ],
        [
         "28",
         "BMG_PT039564",
         "BMG_PT078636"
        ],
        [
         "29",
         "BMG_PT045183",
         "BMG_PT040410"
        ],
        [
         "30",
         "BMG_PT083655",
         "BMG_PT040412"
        ],
        [
         "31",
         "BMG_PT038084",
         "BMG_PT044688"
        ],
        [
         "32",
         "BMG_PT084666",
         "BMG_PT040619"
        ],
        [
         "33",
         "BMG_PT044300",
         "BMG_PT040600"
        ],
        [
         "34",
         "BMG_PT034960",
         "BMG_PT041087"
        ],
        [
         "35",
         "BMG_PT040375",
         "BMG_PT041087"
        ],
        [
         "36",
         "BMG_PT033009",
         "BMG_PT041087"
        ],
        [
         "37",
         "BMG_PT044301",
         "BMG_PT041087"
        ],
        [
         "38",
         "BMG_PT039226",
         "BMG_PT041087"
        ],
        [
         "39",
         "BMG_PT095361",
         "BMG_PT041087"
        ],
        [
         "40",
         "BMG_PT034885",
         "BMG_PT041087"
        ],
        [
         "41",
         "BMG_PT041087",
         "BMG_PT041087"
        ],
        [
         "42",
         "BMG_PT039947",
         "BMG_PT041087"
        ],
        [
         "43",
         "BMG_PT040425",
         "BMG_PT041087"
        ],
        [
         "44",
         "BMG_PT034947",
         "BMG_PT041087"
        ],
        [
         "45",
         "BMG_PT039857",
         "BMG_PT041087"
        ],
        [
         "46",
         "BMG_PT042023",
         "BMG_PT041087"
        ],
        [
         "47",
         "BMG_PT075350",
         "BMG_PT040113"
        ],
        [
         "48",
         "BMG_PT046150",
         "BMG_PT041835"
        ],
        [
         "49",
         "BMG_PT046768",
         "BMG_PT041835"
        ]
       ],
       "shape": {
        "columns": 2,
        "rows": 1689574
       }
      },
      "text/html": [
       "<div>\n",
       "<style scoped>\n",
       "    .dataframe tbody tr th:only-of-type {\n",
       "        vertical-align: middle;\n",
       "    }\n",
       "\n",
       "    .dataframe tbody tr th {\n",
       "        vertical-align: top;\n",
       "    }\n",
       "\n",
       "    .dataframe thead th {\n",
       "        text-align: right;\n",
       "    }\n",
       "</style>\n",
       "<table border=\"1\" class=\"dataframe\">\n",
       "  <thead>\n",
       "    <tr style=\"text-align: right;\">\n",
       "      <th></th>\n",
       "      <th>From_ID</th>\n",
       "      <th>To_ID</th>\n",
       "    </tr>\n",
       "  </thead>\n",
       "  <tbody>\n",
       "    <tr>\n",
       "      <th>0</th>\n",
       "      <td>BMG_PT040844</td>\n",
       "      <td>BMG_PT044958</td>\n",
       "    </tr>\n",
       "    <tr>\n",
       "      <th>1</th>\n",
       "      <td>BMG_PT068914</td>\n",
       "      <td>BMG_PT040481</td>\n",
       "    </tr>\n",
       "    <tr>\n",
       "      <th>2</th>\n",
       "      <td>BMG_PT042738</td>\n",
       "      <td>BMG_PT041044</td>\n",
       "    </tr>\n",
       "    <tr>\n",
       "      <th>3</th>\n",
       "      <td>BMG_PT039778</td>\n",
       "      <td>BMG_PT040066</td>\n",
       "    </tr>\n",
       "    <tr>\n",
       "      <th>4</th>\n",
       "      <td>BMG_PT039226</td>\n",
       "      <td>BMG_PT040650</td>\n",
       "    </tr>\n",
       "    <tr>\n",
       "      <th>...</th>\n",
       "      <td>...</td>\n",
       "      <td>...</td>\n",
       "    </tr>\n",
       "    <tr>\n",
       "      <th>1689569</th>\n",
       "      <td>BMG_PT044837</td>\n",
       "      <td>BMG_PT084707</td>\n",
       "    </tr>\n",
       "    <tr>\n",
       "      <th>1689570</th>\n",
       "      <td>BMG_PT067828</td>\n",
       "      <td>BMG_PT084707</td>\n",
       "    </tr>\n",
       "    <tr>\n",
       "      <th>1689571</th>\n",
       "      <td>BMG_PT095202</td>\n",
       "      <td>BMG_PT090627</td>\n",
       "    </tr>\n",
       "    <tr>\n",
       "      <th>1689572</th>\n",
       "      <td>BMG_PT087968</td>\n",
       "      <td>BMG_PT069229</td>\n",
       "    </tr>\n",
       "    <tr>\n",
       "      <th>1689573</th>\n",
       "      <td>BMG_PT067144</td>\n",
       "      <td>BMG_PT084707</td>\n",
       "    </tr>\n",
       "  </tbody>\n",
       "</table>\n",
       "<p>1689574 rows × 2 columns</p>\n",
       "</div>"
      ],
      "text/plain": [
       "              From_ID         To_ID\n",
       "0        BMG_PT040844  BMG_PT044958\n",
       "1        BMG_PT068914  BMG_PT040481\n",
       "2        BMG_PT042738  BMG_PT041044\n",
       "3        BMG_PT039778  BMG_PT040066\n",
       "4        BMG_PT039226  BMG_PT040650\n",
       "...               ...           ...\n",
       "1689569  BMG_PT044837  BMG_PT084707\n",
       "1689570  BMG_PT067828  BMG_PT084707\n",
       "1689571  BMG_PT095202  BMG_PT090627\n",
       "1689572  BMG_PT087968  BMG_PT069229\n",
       "1689573  BMG_PT067144  BMG_PT084707\n",
       "\n",
       "[1689574 rows x 2 columns]"
      ]
     },
     "execution_count": 11,
     "metadata": {},
     "output_type": "execute_result"
    }
   ],
   "source": [
    "df_biogrid_filter_relation_final['From_ID'] = df_biogrid_filter_relation_final['From_ID'].str.split(';')\n",
    "df_biogrid_filter_relation_final['To_ID'] = df_biogrid_filter_relation_final['To_ID'].str.split(';')\n",
    "\n",
    "df_biogrid_filter_relation_final = df_biogrid_filter_relation_final.explode('From_ID')\n",
    "df_biogrid_filter_relation_final = df_biogrid_filter_relation_final.explode('To_ID')\n",
    "\n",
    "df_biogrid_filter_relation_final.drop_duplicates(inplace=True)\n",
    "df_biogrid_filter_relation_final.reset_index(drop=True, inplace=True)\n",
    "df_biogrid_filter_relation_final"
   ]
  },
  {
   "cell_type": "markdown",
   "metadata": {},
   "source": [
    "### STRING Mapping"
   ]
  },
  {
   "cell_type": "code",
   "execution_count": 12,
   "metadata": {},
   "outputs": [
    {
     "name": "stderr",
     "output_type": "stream",
     "text": [
      "C:\\Users\\shunn\\AppData\\Local\\Temp\\ipykernel_9296\\2431755470.py:2: SettingWithCopyWarning: \n",
      "A value is trying to be set on a copy of a slice from a DataFrame\n",
      "\n",
      "See the caveats in the documentation: https://pandas.pydata.org/pandas-docs/stable/user_guide/indexing.html#returning-a-view-versus-a-copy\n",
      "  ensembl_protein.dropna(subset = ['Ensembl_Protein_ID'], inplace=True)\n"
     ]
    }
   ],
   "source": [
    "ensembl_protein = biomedgraphica_protein[['Ensembl_Protein_ID', 'BioMedGraphica_ID']]\n",
    "ensembl_protein.dropna(subset = ['Ensembl_Protein_ID'], inplace=True)\n",
    "ensembl_protein = ensembl_protein.assign(Ensembl_Protein_ID=biomedgraphica_protein['Ensembl_Protein_ID'].str.split(';')).explode('Ensembl_Protein_ID')\n",
    "\n",
    "ensembl_protein_to_individualid = ensembl_protein.groupby('Ensembl_Protein_ID')['BioMedGraphica_ID'].apply(lambda x: ';'.join(x.dropna().unique())).to_dict()"
   ]
  },
  {
   "cell_type": "code",
   "execution_count": 13,
   "metadata": {},
   "outputs": [
    {
     "name": "stderr",
     "output_type": "stream",
     "text": [
      "C:\\Users\\shunn\\AppData\\Local\\Temp\\ipykernel_9296\\3857375147.py:1: SettingWithCopyWarning: \n",
      "A value is trying to be set on a copy of a slice from a DataFrame.\n",
      "Try using .loc[row_indexer,col_indexer] = value instead\n",
      "\n",
      "See the caveats in the documentation: https://pandas.pydata.org/pandas-docs/stable/user_guide/indexing.html#returning-a-view-versus-a-copy\n",
      "  df_stringdb_filter['From_ID'] = df_stringdb_filter['protein1'].map(ensembl_protein_to_individualid)\n",
      "C:\\Users\\shunn\\AppData\\Local\\Temp\\ipykernel_9296\\3857375147.py:2: SettingWithCopyWarning: \n",
      "A value is trying to be set on a copy of a slice from a DataFrame.\n",
      "Try using .loc[row_indexer,col_indexer] = value instead\n",
      "\n",
      "See the caveats in the documentation: https://pandas.pydata.org/pandas-docs/stable/user_guide/indexing.html#returning-a-view-versus-a-copy\n",
      "  df_stringdb_filter['To_ID'] = df_stringdb_filter['protein2'].map(ensembl_protein_to_individualid)\n"
     ]
    },
    {
     "data": {
      "application/vnd.microsoft.datawrangler.viewer.v0+json": {
       "columns": [
        {
         "name": "index",
         "rawType": "int64",
         "type": "integer"
        },
        {
         "name": "protein1",
         "rawType": "object",
         "type": "string"
        },
        {
         "name": "protein2",
         "rawType": "object",
         "type": "string"
        },
        {
         "name": "From_ID",
         "rawType": "object",
         "type": "unknown"
        },
        {
         "name": "To_ID",
         "rawType": "object",
         "type": "unknown"
        }
       ],
       "conversionMethod": "pd.DataFrame",
       "ref": "4b662d46-f86c-4716-a2ed-b906f8741ef8",
       "rows": [
        [
         "0",
         "ENSP00000000233",
         "ENSP00000356607",
         "BMG_PT042398",
         "BMG_PT069871"
        ],
        [
         "1",
         "ENSP00000000233",
         "ENSP00000427567",
         "BMG_PT042398",
         "BMG_PT087566"
        ],
        [
         "2",
         "ENSP00000000233",
         "ENSP00000253413",
         "BMG_PT042398",
         "BMG_PT040535"
        ],
        [
         "3",
         "ENSP00000000233",
         "ENSP00000493357",
         "BMG_PT042398",
         "BMG_PT084354"
        ],
        [
         "4",
         "ENSP00000000233",
         "ENSP00000324127",
         "BMG_PT042398",
         "BMG_PT093927"
        ],
        [
         "5",
         "ENSP00000000233",
         "ENSP00000325266",
         "BMG_PT042398",
         "BMG_PT073137"
        ],
        [
         "6",
         "ENSP00000000233",
         "ENSP00000320935",
         "BMG_PT042398",
         "BMG_PT039132"
        ],
        [
         "7",
         "ENSP00000000233",
         "ENSP00000371175",
         "BMG_PT042398",
         "BMG_PT097406"
        ],
        [
         "8",
         "ENSP00000000233",
         "ENSP00000480364",
         "BMG_PT042398",
         "BMG_PT081594"
        ],
        [
         "9",
         "ENSP00000000233",
         "ENSP00000388107",
         "BMG_PT042398",
         "BMG_PT042013"
        ],
        [
         "10",
         "ENSP00000000233",
         "ENSP00000461784",
         "BMG_PT042398",
         "BMG_PT138904"
        ],
        [
         "11",
         "ENSP00000000233",
         "ENSP00000381097",
         "BMG_PT042398",
         "BMG_PT041478"
        ],
        [
         "12",
         "ENSP00000000233",
         "ENSP00000234160",
         "BMG_PT042398",
         "BMG_PT090162"
        ],
        [
         "13",
         "ENSP00000000233",
         "ENSP00000241502",
         "BMG_PT042398",
         "BMG_PT083513"
        ],
        [
         "14",
         "ENSP00000000233",
         "ENSP00000317272",
         "BMG_PT042398",
         "BMG_PT038254"
        ],
        [
         "15",
         "ENSP00000000233",
         "ENSP00000487719",
         "BMG_PT042398",
         "BMG_PT089936"
        ],
        [
         "16",
         "ENSP00000000233",
         "ENSP00000354878",
         "BMG_PT042398",
         "BMG_PT067996"
        ],
        [
         "17",
         "ENSP00000000233",
         "ENSP00000479606",
         "BMG_PT042398",
         null
        ],
        [
         "18",
         "ENSP00000000233",
         "ENSP00000369127",
         "BMG_PT042398",
         "BMG_PT040279"
        ],
        [
         "19",
         "ENSP00000000233",
         "ENSP00000493946",
         "BMG_PT042398",
         "BMG_PT059886"
        ],
        [
         "20",
         "ENSP00000000233",
         "ENSP00000383023",
         "BMG_PT042398",
         "BMG_PT042590"
        ],
        [
         "21",
         "ENSP00000000233",
         "ENSP00000266126",
         "BMG_PT042398",
         "BMG_PT041107"
        ],
        [
         "22",
         "ENSP00000000233",
         "ENSP00000262027",
         "BMG_PT042398",
         "BMG_PT041591"
        ],
        [
         "23",
         "ENSP00000000233",
         "ENSP00000271526",
         "BMG_PT042398",
         "BMG_PT078912"
        ],
        [
         "24",
         "ENSP00000000233",
         "ENSP00000364898",
         "BMG_PT042398",
         "BMG_PT040813"
        ],
        [
         "25",
         "ENSP00000000233",
         "ENSP00000325074",
         "BMG_PT042398",
         "BMG_PT042043"
        ],
        [
         "26",
         "ENSP00000000233",
         "ENSP00000310226",
         "BMG_PT042398",
         "BMG_PT088116"
        ],
        [
         "27",
         "ENSP00000000233",
         "ENSP00000006275",
         "BMG_PT042398",
         "BMG_PT036293"
        ],
        [
         "28",
         "ENSP00000000233",
         "ENSP00000369965",
         "BMG_PT042398",
         "BMG_PT039523"
        ],
        [
         "29",
         "ENSP00000000233",
         "ENSP00000258098",
         "BMG_PT042398",
         "BMG_PT086774"
        ],
        [
         "30",
         "ENSP00000000233",
         "ENSP00000265462",
         "BMG_PT042398",
         "BMG_PT040091"
        ],
        [
         "31",
         "ENSP00000000233",
         "ENSP00000347464",
         "BMG_PT042398",
         "BMG_PT044846"
        ],
        [
         "32",
         "ENSP00000000233",
         "ENSP00000330842",
         "BMG_PT042398",
         "BMG_PT084539"
        ],
        [
         "33",
         "ENSP00000000233",
         "ENSP00000358723",
         "BMG_PT042398",
         "BMG_PT041988"
        ],
        [
         "34",
         "ENSP00000000233",
         "ENSP00000363232",
         "BMG_PT042398",
         null
        ],
        [
         "35",
         "ENSP00000000233",
         "ENSP00000498386",
         "BMG_PT042398",
         "BMG_PT158078"
        ],
        [
         "36",
         "ENSP00000000233",
         "ENSP00000225655",
         "BMG_PT042398",
         "BMG_PT038174"
        ],
        [
         "37",
         "ENSP00000000233",
         "ENSP00000351926",
         "BMG_PT042398",
         "BMG_PT037310"
        ],
        [
         "38",
         "ENSP00000000233",
         "ENSP00000447300",
         "BMG_PT042398",
         "BMG_PT083523"
        ],
        [
         "39",
         "ENSP00000000233",
         "ENSP00000264335",
         "BMG_PT042398",
         "BMG_PT041944"
        ],
        [
         "40",
         "ENSP00000000233",
         "ENSP00000482829",
         "BMG_PT042398",
         null
        ],
        [
         "41",
         "ENSP00000000233",
         "ENSP00000387549",
         "BMG_PT042398",
         "BMG_PT041447"
        ],
        [
         "42",
         "ENSP00000000233",
         "ENSP00000386857",
         "BMG_PT042398",
         "BMG_PT042058"
        ],
        [
         "43",
         "ENSP00000000233",
         "ENSP00000271889",
         "BMG_PT042398",
         "BMG_PT077330"
        ],
        [
         "44",
         "ENSP00000000233",
         "ENSP00000377769",
         "BMG_PT042398",
         "BMG_PT049434"
        ],
        [
         "45",
         "ENSP00000000233",
         "ENSP00000489407",
         "BMG_PT042398",
         null
        ],
        [
         "46",
         "ENSP00000000233",
         "ENSP00000341885",
         "BMG_PT042398",
         "BMG_PT039218"
        ],
        [
         "47",
         "ENSP00000000233",
         "ENSP00000307939",
         "BMG_PT042398",
         "BMG_PT071046"
        ],
        [
         "48",
         "ENSP00000000233",
         "ENSP00000297532",
         "BMG_PT042398",
         "BMG_PT044943"
        ],
        [
         "49",
         "ENSP00000000233",
         "ENSP00000222803",
         "BMG_PT042398",
         "BMG_PT093389"
        ]
       ],
       "shape": {
        "columns": 4,
        "rows": 13715404
       }
      },
      "text/html": [
       "<div>\n",
       "<style scoped>\n",
       "    .dataframe tbody tr th:only-of-type {\n",
       "        vertical-align: middle;\n",
       "    }\n",
       "\n",
       "    .dataframe tbody tr th {\n",
       "        vertical-align: top;\n",
       "    }\n",
       "\n",
       "    .dataframe thead th {\n",
       "        text-align: right;\n",
       "    }\n",
       "</style>\n",
       "<table border=\"1\" class=\"dataframe\">\n",
       "  <thead>\n",
       "    <tr style=\"text-align: right;\">\n",
       "      <th></th>\n",
       "      <th>protein1</th>\n",
       "      <th>protein2</th>\n",
       "      <th>From_ID</th>\n",
       "      <th>To_ID</th>\n",
       "    </tr>\n",
       "  </thead>\n",
       "  <tbody>\n",
       "    <tr>\n",
       "      <th>0</th>\n",
       "      <td>ENSP00000000233</td>\n",
       "      <td>ENSP00000356607</td>\n",
       "      <td>BMG_PT042398</td>\n",
       "      <td>BMG_PT069871</td>\n",
       "    </tr>\n",
       "    <tr>\n",
       "      <th>1</th>\n",
       "      <td>ENSP00000000233</td>\n",
       "      <td>ENSP00000427567</td>\n",
       "      <td>BMG_PT042398</td>\n",
       "      <td>BMG_PT087566</td>\n",
       "    </tr>\n",
       "    <tr>\n",
       "      <th>2</th>\n",
       "      <td>ENSP00000000233</td>\n",
       "      <td>ENSP00000253413</td>\n",
       "      <td>BMG_PT042398</td>\n",
       "      <td>BMG_PT040535</td>\n",
       "    </tr>\n",
       "    <tr>\n",
       "      <th>3</th>\n",
       "      <td>ENSP00000000233</td>\n",
       "      <td>ENSP00000493357</td>\n",
       "      <td>BMG_PT042398</td>\n",
       "      <td>BMG_PT084354</td>\n",
       "    </tr>\n",
       "    <tr>\n",
       "      <th>4</th>\n",
       "      <td>ENSP00000000233</td>\n",
       "      <td>ENSP00000324127</td>\n",
       "      <td>BMG_PT042398</td>\n",
       "      <td>BMG_PT093927</td>\n",
       "    </tr>\n",
       "    <tr>\n",
       "      <th>...</th>\n",
       "      <td>...</td>\n",
       "      <td>...</td>\n",
       "      <td>...</td>\n",
       "      <td>...</td>\n",
       "    </tr>\n",
       "    <tr>\n",
       "      <th>13715399</th>\n",
       "      <td>ENSP00000501317</td>\n",
       "      <td>ENSP00000475489</td>\n",
       "      <td>NaN</td>\n",
       "      <td>BMG_PT084447</td>\n",
       "    </tr>\n",
       "    <tr>\n",
       "      <th>13715400</th>\n",
       "      <td>ENSP00000501317</td>\n",
       "      <td>ENSP00000370447</td>\n",
       "      <td>NaN</td>\n",
       "      <td>BMG_PT088700</td>\n",
       "    </tr>\n",
       "    <tr>\n",
       "      <th>13715401</th>\n",
       "      <td>ENSP00000501317</td>\n",
       "      <td>ENSP00000312272</td>\n",
       "      <td>NaN</td>\n",
       "      <td>BMG_PT083488</td>\n",
       "    </tr>\n",
       "    <tr>\n",
       "      <th>13715402</th>\n",
       "      <td>ENSP00000501317</td>\n",
       "      <td>ENSP00000402092</td>\n",
       "      <td>NaN</td>\n",
       "      <td>BMG_PT073360</td>\n",
       "    </tr>\n",
       "    <tr>\n",
       "      <th>13715403</th>\n",
       "      <td>ENSP00000501317</td>\n",
       "      <td>ENSP00000404074</td>\n",
       "      <td>NaN</td>\n",
       "      <td>BMG_PT034261</td>\n",
       "    </tr>\n",
       "  </tbody>\n",
       "</table>\n",
       "<p>13715404 rows × 4 columns</p>\n",
       "</div>"
      ],
      "text/plain": [
       "                 protein1         protein2       From_ID         To_ID\n",
       "0         ENSP00000000233  ENSP00000356607  BMG_PT042398  BMG_PT069871\n",
       "1         ENSP00000000233  ENSP00000427567  BMG_PT042398  BMG_PT087566\n",
       "2         ENSP00000000233  ENSP00000253413  BMG_PT042398  BMG_PT040535\n",
       "3         ENSP00000000233  ENSP00000493357  BMG_PT042398  BMG_PT084354\n",
       "4         ENSP00000000233  ENSP00000324127  BMG_PT042398  BMG_PT093927\n",
       "...                   ...              ...           ...           ...\n",
       "13715399  ENSP00000501317  ENSP00000475489           NaN  BMG_PT084447\n",
       "13715400  ENSP00000501317  ENSP00000370447           NaN  BMG_PT088700\n",
       "13715401  ENSP00000501317  ENSP00000312272           NaN  BMG_PT083488\n",
       "13715402  ENSP00000501317  ENSP00000402092           NaN  BMG_PT073360\n",
       "13715403  ENSP00000501317  ENSP00000404074           NaN  BMG_PT034261\n",
       "\n",
       "[13715404 rows x 4 columns]"
      ]
     },
     "execution_count": 13,
     "metadata": {},
     "output_type": "execute_result"
    }
   ],
   "source": [
    "df_stringdb_filter['From_ID'] = df_stringdb_filter['protein1'].map(ensembl_protein_to_individualid)\n",
    "df_stringdb_filter['To_ID'] = df_stringdb_filter['protein2'].map(ensembl_protein_to_individualid)\n",
    "df_stringdb_filter"
   ]
  },
  {
   "cell_type": "code",
   "execution_count": 14,
   "metadata": {},
   "outputs": [
    {
     "name": "stderr",
     "output_type": "stream",
     "text": [
      "C:\\Users\\shunn\\AppData\\Local\\Temp\\ipykernel_9296\\1662878631.py:2: SettingWithCopyWarning: \n",
      "A value is trying to be set on a copy of a slice from a DataFrame\n",
      "\n",
      "See the caveats in the documentation: https://pandas.pydata.org/pandas-docs/stable/user_guide/indexing.html#returning-a-view-versus-a-copy\n",
      "  df_stringdb_filter.dropna(subset=['From_ID'], inplace=True)\n"
     ]
    },
    {
     "name": "stdout",
     "output_type": "stream",
     "text": [
      "<class 'pandas.core.frame.DataFrame'>\n",
      "Index: 13285010 entries, 0 to 13715043\n",
      "Data columns (total 2 columns):\n",
      " #   Column   Dtype \n",
      "---  ------   ----- \n",
      " 0   From_ID  object\n",
      " 1   To_ID    object\n",
      "dtypes: object(2)\n",
      "memory usage: 304.1+ MB\n"
     ]
    },
    {
     "name": "stderr",
     "output_type": "stream",
     "text": [
      "C:\\Users\\shunn\\AppData\\Local\\Temp\\ipykernel_9296\\1662878631.py:3: SettingWithCopyWarning: \n",
      "A value is trying to be set on a copy of a slice from a DataFrame\n",
      "\n",
      "See the caveats in the documentation: https://pandas.pydata.org/pandas-docs/stable/user_guide/indexing.html#returning-a-view-versus-a-copy\n",
      "  df_stringdb_filter.dropna(subset=['To_ID'], inplace=True)\n"
     ]
    }
   ],
   "source": [
    "df_stringdb_filter = df_stringdb_filter[['From_ID', 'To_ID']]\n",
    "df_stringdb_filter.dropna(subset=['From_ID'], inplace=True)\n",
    "df_stringdb_filter.dropna(subset=['To_ID'], inplace=True)\n",
    "df_stringdb_filter.info()"
   ]
  },
  {
   "cell_type": "code",
   "execution_count": 15,
   "metadata": {},
   "outputs": [
    {
     "name": "stderr",
     "output_type": "stream",
     "text": [
      "C:\\Users\\shunn\\AppData\\Local\\Temp\\ipykernel_9296\\2597415019.py:1: SettingWithCopyWarning: \n",
      "A value is trying to be set on a copy of a slice from a DataFrame.\n",
      "Try using .loc[row_indexer,col_indexer] = value instead\n",
      "\n",
      "See the caveats in the documentation: https://pandas.pydata.org/pandas-docs/stable/user_guide/indexing.html#returning-a-view-versus-a-copy\n",
      "  df_stringdb_filter['From_ID'] = df_stringdb_filter['From_ID'].str.split(';')\n",
      "C:\\Users\\shunn\\AppData\\Local\\Temp\\ipykernel_9296\\2597415019.py:2: SettingWithCopyWarning: \n",
      "A value is trying to be set on a copy of a slice from a DataFrame.\n",
      "Try using .loc[row_indexer,col_indexer] = value instead\n",
      "\n",
      "See the caveats in the documentation: https://pandas.pydata.org/pandas-docs/stable/user_guide/indexing.html#returning-a-view-versus-a-copy\n",
      "  df_stringdb_filter['To_ID'] = df_stringdb_filter['To_ID'].str.split(';')\n"
     ]
    },
    {
     "name": "stdout",
     "output_type": "stream",
     "text": [
      "<class 'pandas.core.frame.DataFrame'>\n",
      "RangeIndex: 13193859 entries, 0 to 13193858\n",
      "Data columns (total 2 columns):\n",
      " #   Column   Dtype \n",
      "---  ------   ----- \n",
      " 0   From_ID  object\n",
      " 1   To_ID    object\n",
      "dtypes: object(2)\n",
      "memory usage: 201.3+ MB\n"
     ]
    }
   ],
   "source": [
    "df_stringdb_filter['From_ID'] = df_stringdb_filter['From_ID'].str.split(';')\n",
    "df_stringdb_filter['To_ID'] = df_stringdb_filter['To_ID'].str.split(';')\n",
    "\n",
    "df_stringdb_filter = df_stringdb_filter.explode('From_ID')\n",
    "df_stringdb_filter = df_stringdb_filter.explode('To_ID')\n",
    "\n",
    "df_stringdb_filter.drop_duplicates(inplace=True)\n",
    "df_stringdb_filter.reset_index(drop=True, inplace=True)\n",
    "\n",
    "df_stringdb_filter.info()"
   ]
  },
  {
   "cell_type": "markdown",
   "metadata": {},
   "source": [
    "### KEGG Mapping"
   ]
  },
  {
   "cell_type": "code",
   "execution_count": 20,
   "metadata": {},
   "outputs": [
    {
     "name": "stderr",
     "output_type": "stream",
     "text": [
      "C:\\Users\\shunn\\AppData\\Local\\Temp\\ipykernel_9296\\616423457.py:2: SettingWithCopyWarning: \n",
      "A value is trying to be set on a copy of a slice from a DataFrame\n",
      "\n",
      "See the caveats in the documentation: https://pandas.pydata.org/pandas-docs/stable/user_guide/indexing.html#returning-a-view-versus-a-copy\n",
      "  gene_name_individualid.dropna(subset=['HGNC_Symbol'], inplace=True)\n"
     ]
    },
    {
     "data": {
      "application/vnd.microsoft.datawrangler.viewer.v0+json": {
       "columns": [
        {
         "name": "index",
         "rawType": "int64",
         "type": "integer"
        },
        {
         "name": "source",
         "rawType": "object",
         "type": "string"
        },
        {
         "name": "target",
         "rawType": "object",
         "type": "string"
        },
        {
         "name": "From_ID",
         "rawType": "object",
         "type": "unknown"
        },
        {
         "name": "To_ID",
         "rawType": "object",
         "type": "unknown"
        }
       ],
       "conversionMethod": "pd.DataFrame",
       "ref": "552fa05d-d435-4cf5-8628-af0eb70dc97a",
       "rows": [
        [
         "1508",
         "HSD17B8",
         "CBR4",
         "BMG_PT078734",
         "BMG_PT072935;BMG_PT119125;BMG_PT120080;BMG_PT120852;BMG_PT121322"
        ],
        [
         "7986",
         "MAN1A2",
         "MGAT1",
         "BMG_PT035203;BMG_PT109042;BMG_PT111268;BMG_PT115013",
         "BMG_PT039910;BMG_PT119369;BMG_PT119788;BMG_PT119966;BMG_PT120200;BMG_PT120687;BMG_PT120932;BMG_PT121472;BMG_PT122032;BMG_PT122194"
        ],
        [
         "7987",
         "MAN1B1",
         "MAN1A2",
         "BMG_PT097592;BMG_PT129320;BMG_PT129636;BMG_PT130310;BMG_PT130498;BMG_PT131859;BMG_PT148854;BMG_PT164468;BMG_PT164475;BMG_PT164487;BMG_PT164748;BMG_PT164773;BMG_PT164903;BMG_PT164935;BMG_PT164943;BMG_PT165181;BMG_PT165221;BMG_PT165248;BMG_PT165307;BMG_PT165489;BMG_PT165628;BMG_PT165632",
         "BMG_PT035203;BMG_PT109042;BMG_PT111268;BMG_PT115013"
        ],
        [
         "7988",
         "MAN1B1",
         "MAN1A1",
         "BMG_PT097592;BMG_PT129320;BMG_PT129636;BMG_PT130310;BMG_PT130498;BMG_PT131859;BMG_PT148854;BMG_PT164468;BMG_PT164475;BMG_PT164487;BMG_PT164748;BMG_PT164773;BMG_PT164903;BMG_PT164935;BMG_PT164943;BMG_PT165181;BMG_PT165221;BMG_PT165248;BMG_PT165307;BMG_PT165489;BMG_PT165628;BMG_PT165632",
         "BMG_PT040371"
        ],
        [
         "7989",
         "MAN1B1",
         "MAN1C1",
         "BMG_PT097592;BMG_PT129320;BMG_PT129636;BMG_PT130310;BMG_PT130498;BMG_PT131859;BMG_PT148854;BMG_PT164468;BMG_PT164475;BMG_PT164487;BMG_PT164748;BMG_PT164773;BMG_PT164903;BMG_PT164935;BMG_PT164943;BMG_PT165181;BMG_PT165221;BMG_PT165248;BMG_PT165307;BMG_PT165489;BMG_PT165628;BMG_PT165632",
         "BMG_PT091958;BMG_PT101212;BMG_PT103277"
        ],
        [
         "7990",
         "ALG10B",
         "ALG8",
         "BMG_PT054018;BMG_PT131930;BMG_PT132119",
         "BMG_PT086293;BMG_PT124706;BMG_PT125365;BMG_PT125733;BMG_PT126035;BMG_PT126444;BMG_PT126652;BMG_PT126822;BMG_PT127325;BMG_PT127357;BMG_PT127459;BMG_PT127736;BMG_PT127921;BMG_PT128349;BMG_PT128454;BMG_PT147950;BMG_PT162936;BMG_PT162942;BMG_PT162953;BMG_PT162989;BMG_PT163030;BMG_PT163037;BMG_PT163076;BMG_PT163128;BMG_PT163181;BMG_PT163186;BMG_PT163355;BMG_PT163376;BMG_PT163407;BMG_PT163527;BMG_PT163532;BMG_PT163559;BMG_PT163595;BMG_PT163597;BMG_PT163622;BMG_PT163637;BMG_PT163694;BMG_PT163824;BMG_PT163841;BMG_PT163897;BMG_PT163900;BMG_PT163927;BMG_PT163934;BMG_PT163992;BMG_PT164008;BMG_PT164027;BMG_PT164054;BMG_PT164104;BMG_PT164179;BMG_PT164190;BMG_PT164359;BMG_PT164390;BMG_PT164445"
        ],
        [
         "7991",
         "DAD1",
         "DDOST",
         "BMG_PT041910;BMG_PT129300;BMG_PT129462;BMG_PT129794",
         "BMG_PT040615;BMG_PT145478;BMG_PT146049"
        ],
        [
         "7992",
         "DAD1",
         "STT3B",
         "BMG_PT041910;BMG_PT129300;BMG_PT129462;BMG_PT129794",
         "BMG_PT076716;BMG_PT173781;BMG_PT173782;BMG_PT173783"
        ],
        [
         "7993",
         "DAD1",
         "STT3A",
         "BMG_PT041910;BMG_PT129300;BMG_PT129462;BMG_PT129794",
         "BMG_PT040892;BMG_PT125709;BMG_PT127581;BMG_PT128028;BMG_PT128046"
        ],
        [
         "7994",
         "DAD1",
         "OSTC",
         "BMG_PT041910;BMG_PT129300;BMG_PT129462;BMG_PT129794",
         "BMG_PT092131;BMG_PT147072"
        ],
        [
         "7995",
         "DAD1",
         "RPN1",
         "BMG_PT041910;BMG_PT129300;BMG_PT129462;BMG_PT129794",
         "BMG_PT037973;BMG_PT116907;BMG_PT118053"
        ],
        [
         "7996",
         "DAD1",
         "RPN2",
         "BMG_PT041910;BMG_PT129300;BMG_PT129462;BMG_PT129794",
         "BMG_PT037974;BMG_PT103204;BMG_PT110066;BMG_PT110167;BMG_PT113902;BMG_PT171239;BMG_PT172125;BMG_PT172126;BMG_PT172127;BMG_PT172128;BMG_PT172129"
        ],
        [
         "7997",
         "DAD1",
         "TMEM258",
         "BMG_PT041910;BMG_PT129300;BMG_PT129462;BMG_PT129794",
         "BMG_PT041857;BMG_PT128681;BMG_PT129733;BMG_PT130221;BMG_PT130627"
        ],
        [
         "7998",
         "DAD1",
         "TUSC3",
         "BMG_PT041910;BMG_PT129300;BMG_PT129462;BMG_PT129794",
         "BMG_PT044335;BMG_PT118932;BMG_PT120213;BMG_PT121373;BMG_PT121903;BMG_PT121958"
        ],
        [
         "7999",
         "DAD1",
         "MAGT1",
         "BMG_PT041910;BMG_PT129300;BMG_PT129462;BMG_PT129794",
         "BMG_PT088115;BMG_PT165870;BMG_PT166308;BMG_PT166616;BMG_PT166792;BMG_PT166877;BMG_PT166959;BMG_PT167025;BMG_PT167259"
        ],
        [
         "8000",
         "DDOST",
         "STT3B",
         "BMG_PT040615;BMG_PT145478;BMG_PT146049",
         "BMG_PT076716;BMG_PT173781;BMG_PT173782;BMG_PT173783"
        ],
        [
         "8001",
         "DDOST",
         "STT3A",
         "BMG_PT040615;BMG_PT145478;BMG_PT146049",
         "BMG_PT040892;BMG_PT125709;BMG_PT127581;BMG_PT128028;BMG_PT128046"
        ],
        [
         "8002",
         "DDOST",
         "OSTC",
         "BMG_PT040615;BMG_PT145478;BMG_PT146049",
         "BMG_PT092131;BMG_PT147072"
        ],
        [
         "8003",
         "DDOST",
         "RPN1",
         "BMG_PT040615;BMG_PT145478;BMG_PT146049",
         "BMG_PT037973;BMG_PT116907;BMG_PT118053"
        ],
        [
         "8004",
         "DDOST",
         "RPN2",
         "BMG_PT040615;BMG_PT145478;BMG_PT146049",
         "BMG_PT037974;BMG_PT103204;BMG_PT110066;BMG_PT110167;BMG_PT113902;BMG_PT171239;BMG_PT172125;BMG_PT172126;BMG_PT172127;BMG_PT172128;BMG_PT172129"
        ],
        [
         "8005",
         "DDOST",
         "TMEM258",
         "BMG_PT040615;BMG_PT145478;BMG_PT146049",
         "BMG_PT041857;BMG_PT128681;BMG_PT129733;BMG_PT130221;BMG_PT130627"
        ],
        [
         "8006",
         "DDOST",
         "TUSC3",
         "BMG_PT040615;BMG_PT145478;BMG_PT146049",
         "BMG_PT044335;BMG_PT118932;BMG_PT120213;BMG_PT121373;BMG_PT121903;BMG_PT121958"
        ],
        [
         "8007",
         "DDOST",
         "MAGT1",
         "BMG_PT040615;BMG_PT145478;BMG_PT146049",
         "BMG_PT088115;BMG_PT165870;BMG_PT166308;BMG_PT166616;BMG_PT166792;BMG_PT166877;BMG_PT166959;BMG_PT167025;BMG_PT167259"
        ],
        [
         "8008",
         "ALG14",
         "ALG13",
         "BMG_PT080835",
         "BMG_PT091460;BMG_PT121913;BMG_PT122017;BMG_PT146640;BMG_PT146894;BMG_PT147413;BMG_PT147446;BMG_PT147513;BMG_PT147906;BMG_PT147940;BMG_PT148547;BMG_PT149377;BMG_PT149596;BMG_PT149598;BMG_PT149609;BMG_PT149643;BMG_PT149677;BMG_PT149698;BMG_PT149720;BMG_PT149723;BMG_PT149731;BMG_PT149784;BMG_PT149795;BMG_PT153143;BMG_PT170054;BMG_PT170080"
        ],
        [
         "8009",
         "STT3B",
         "STT3A",
         "BMG_PT076716;BMG_PT173781;BMG_PT173782;BMG_PT173783",
         "BMG_PT040892;BMG_PT125709;BMG_PT127581;BMG_PT128028;BMG_PT128046"
        ],
        [
         "8010",
         "STT3B",
         "OSTC",
         "BMG_PT076716;BMG_PT173781;BMG_PT173782;BMG_PT173783",
         "BMG_PT092131;BMG_PT147072"
        ],
        [
         "8011",
         "STT3B",
         "RPN1",
         "BMG_PT076716;BMG_PT173781;BMG_PT173782;BMG_PT173783",
         "BMG_PT037973;BMG_PT116907;BMG_PT118053"
        ],
        [
         "8012",
         "STT3B",
         "RPN2",
         "BMG_PT076716;BMG_PT173781;BMG_PT173782;BMG_PT173783",
         "BMG_PT037974;BMG_PT103204;BMG_PT110066;BMG_PT110167;BMG_PT113902;BMG_PT171239;BMG_PT172125;BMG_PT172126;BMG_PT172127;BMG_PT172128;BMG_PT172129"
        ],
        [
         "8013",
         "STT3B",
         "TMEM258",
         "BMG_PT076716;BMG_PT173781;BMG_PT173782;BMG_PT173783",
         "BMG_PT041857;BMG_PT128681;BMG_PT129733;BMG_PT130221;BMG_PT130627"
        ],
        [
         "8014",
         "STT3B",
         "TUSC3",
         "BMG_PT076716;BMG_PT173781;BMG_PT173782;BMG_PT173783",
         "BMG_PT044335;BMG_PT118932;BMG_PT120213;BMG_PT121373;BMG_PT121903;BMG_PT121958"
        ],
        [
         "8015",
         "STT3B",
         "MAGT1",
         "BMG_PT076716;BMG_PT173781;BMG_PT173782;BMG_PT173783",
         "BMG_PT088115;BMG_PT165870;BMG_PT166308;BMG_PT166616;BMG_PT166792;BMG_PT166877;BMG_PT166959;BMG_PT167025;BMG_PT167259"
        ],
        [
         "8016",
         "STT3A",
         "OSTC",
         "BMG_PT040892;BMG_PT125709;BMG_PT127581;BMG_PT128028;BMG_PT128046",
         "BMG_PT092131;BMG_PT147072"
        ],
        [
         "8017",
         "STT3A",
         "RPN1",
         "BMG_PT040892;BMG_PT125709;BMG_PT127581;BMG_PT128028;BMG_PT128046",
         "BMG_PT037973;BMG_PT116907;BMG_PT118053"
        ],
        [
         "8018",
         "STT3A",
         "RPN2",
         "BMG_PT040892;BMG_PT125709;BMG_PT127581;BMG_PT128028;BMG_PT128046",
         "BMG_PT037974;BMG_PT103204;BMG_PT110066;BMG_PT110167;BMG_PT113902;BMG_PT171239;BMG_PT172125;BMG_PT172126;BMG_PT172127;BMG_PT172128;BMG_PT172129"
        ],
        [
         "8019",
         "STT3A",
         "TMEM258",
         "BMG_PT040892;BMG_PT125709;BMG_PT127581;BMG_PT128028;BMG_PT128046",
         "BMG_PT041857;BMG_PT128681;BMG_PT129733;BMG_PT130221;BMG_PT130627"
        ],
        [
         "8020",
         "STT3A",
         "TUSC3",
         "BMG_PT040892;BMG_PT125709;BMG_PT127581;BMG_PT128028;BMG_PT128046",
         "BMG_PT044335;BMG_PT118932;BMG_PT120213;BMG_PT121373;BMG_PT121903;BMG_PT121958"
        ],
        [
         "8021",
         "STT3A",
         "MAGT1",
         "BMG_PT040892;BMG_PT125709;BMG_PT127581;BMG_PT128028;BMG_PT128046",
         "BMG_PT088115;BMG_PT165870;BMG_PT166308;BMG_PT166616;BMG_PT166792;BMG_PT166877;BMG_PT166959;BMG_PT167025;BMG_PT167259"
        ],
        [
         "8022",
         "MAN1A1",
         "MGAT1",
         "BMG_PT040371",
         "BMG_PT039910;BMG_PT119369;BMG_PT119788;BMG_PT119966;BMG_PT120200;BMG_PT120687;BMG_PT120932;BMG_PT121472;BMG_PT122032;BMG_PT122194"
        ],
        [
         "8023",
         "DPM3",
         "DPM1",
         "BMG_PT095042",
         "BMG_PT035449;BMG_PT102989;BMG_PT102990;BMG_PT108499;BMG_PT164646;BMG_PT164741;BMG_PT164971"
        ],
        [
         "8024",
         "DPM3",
         "DPM2",
         "BMG_PT095042",
         "BMG_PT036575;BMG_PT103151"
        ],
        [
         "8025",
         "MAN1C1",
         "MGAT1",
         "BMG_PT091958;BMG_PT101212;BMG_PT103277",
         "BMG_PT039910;BMG_PT119369;BMG_PT119788;BMG_PT119966;BMG_PT120200;BMG_PT120687;BMG_PT120932;BMG_PT121472;BMG_PT122032;BMG_PT122194"
        ],
        [
         "8026",
         "OSTC",
         "RPN1",
         "BMG_PT092131;BMG_PT147072",
         "BMG_PT037973;BMG_PT116907;BMG_PT118053"
        ],
        [
         "8027",
         "OSTC",
         "RPN2",
         "BMG_PT092131;BMG_PT147072",
         "BMG_PT037974;BMG_PT103204;BMG_PT110066;BMG_PT110167;BMG_PT113902;BMG_PT171239;BMG_PT172125;BMG_PT172126;BMG_PT172127;BMG_PT172128;BMG_PT172129"
        ],
        [
         "8028",
         "OSTC",
         "TMEM258",
         "BMG_PT092131;BMG_PT147072",
         "BMG_PT041857;BMG_PT128681;BMG_PT129733;BMG_PT130221;BMG_PT130627"
        ],
        [
         "8029",
         "OSTC",
         "TUSC3",
         "BMG_PT092131;BMG_PT147072",
         "BMG_PT044335;BMG_PT118932;BMG_PT120213;BMG_PT121373;BMG_PT121903;BMG_PT121958"
        ],
        [
         "8030",
         "OSTC",
         "MAGT1",
         "BMG_PT092131;BMG_PT147072",
         "BMG_PT088115;BMG_PT165870;BMG_PT166308;BMG_PT166616;BMG_PT166792;BMG_PT166877;BMG_PT166959;BMG_PT167025;BMG_PT167259"
        ],
        [
         "8031",
         "RPN1",
         "RPN2",
         "BMG_PT037973;BMG_PT116907;BMG_PT118053",
         "BMG_PT037974;BMG_PT103204;BMG_PT110066;BMG_PT110167;BMG_PT113902;BMG_PT171239;BMG_PT172125;BMG_PT172126;BMG_PT172127;BMG_PT172128;BMG_PT172129"
        ],
        [
         "8032",
         "RPN1",
         "TMEM258",
         "BMG_PT037973;BMG_PT116907;BMG_PT118053",
         "BMG_PT041857;BMG_PT128681;BMG_PT129733;BMG_PT130221;BMG_PT130627"
        ],
        [
         "8033",
         "RPN1",
         "TUSC3",
         "BMG_PT037973;BMG_PT116907;BMG_PT118053",
         "BMG_PT044335;BMG_PT118932;BMG_PT120213;BMG_PT121373;BMG_PT121903;BMG_PT121958"
        ],
        [
         "8034",
         "RPN1",
         "MAGT1",
         "BMG_PT037973;BMG_PT116907;BMG_PT118053",
         "BMG_PT088115;BMG_PT165870;BMG_PT166308;BMG_PT166616;BMG_PT166792;BMG_PT166877;BMG_PT166959;BMG_PT167025;BMG_PT167259"
        ]
       ],
       "shape": {
        "columns": 4,
        "rows": 52973
       }
      },
      "text/html": [
       "<div>\n",
       "<style scoped>\n",
       "    .dataframe tbody tr th:only-of-type {\n",
       "        vertical-align: middle;\n",
       "    }\n",
       "\n",
       "    .dataframe tbody tr th {\n",
       "        vertical-align: top;\n",
       "    }\n",
       "\n",
       "    .dataframe thead th {\n",
       "        text-align: right;\n",
       "    }\n",
       "</style>\n",
       "<table border=\"1\" class=\"dataframe\">\n",
       "  <thead>\n",
       "    <tr style=\"text-align: right;\">\n",
       "      <th></th>\n",
       "      <th>source</th>\n",
       "      <th>target</th>\n",
       "      <th>From_ID</th>\n",
       "      <th>To_ID</th>\n",
       "    </tr>\n",
       "  </thead>\n",
       "  <tbody>\n",
       "    <tr>\n",
       "      <th>1508</th>\n",
       "      <td>HSD17B8</td>\n",
       "      <td>CBR4</td>\n",
       "      <td>BMG_PT078734</td>\n",
       "      <td>BMG_PT072935;BMG_PT119125;BMG_PT120080;BMG_PT1...</td>\n",
       "    </tr>\n",
       "    <tr>\n",
       "      <th>7986</th>\n",
       "      <td>MAN1A2</td>\n",
       "      <td>MGAT1</td>\n",
       "      <td>BMG_PT035203;BMG_PT109042;BMG_PT111268;BMG_PT1...</td>\n",
       "      <td>BMG_PT039910;BMG_PT119369;BMG_PT119788;BMG_PT1...</td>\n",
       "    </tr>\n",
       "    <tr>\n",
       "      <th>7987</th>\n",
       "      <td>MAN1B1</td>\n",
       "      <td>MAN1A2</td>\n",
       "      <td>BMG_PT097592;BMG_PT129320;BMG_PT129636;BMG_PT1...</td>\n",
       "      <td>BMG_PT035203;BMG_PT109042;BMG_PT111268;BMG_PT1...</td>\n",
       "    </tr>\n",
       "    <tr>\n",
       "      <th>7988</th>\n",
       "      <td>MAN1B1</td>\n",
       "      <td>MAN1A1</td>\n",
       "      <td>BMG_PT097592;BMG_PT129320;BMG_PT129636;BMG_PT1...</td>\n",
       "      <td>BMG_PT040371</td>\n",
       "    </tr>\n",
       "    <tr>\n",
       "      <th>7989</th>\n",
       "      <td>MAN1B1</td>\n",
       "      <td>MAN1C1</td>\n",
       "      <td>BMG_PT097592;BMG_PT129320;BMG_PT129636;BMG_PT1...</td>\n",
       "      <td>BMG_PT091958;BMG_PT101212;BMG_PT103277</td>\n",
       "    </tr>\n",
       "    <tr>\n",
       "      <th>...</th>\n",
       "      <td>...</td>\n",
       "      <td>...</td>\n",
       "      <td>...</td>\n",
       "      <td>...</td>\n",
       "    </tr>\n",
       "    <tr>\n",
       "      <th>145760</th>\n",
       "      <td>ACVR2B</td>\n",
       "      <td>NCF2</td>\n",
       "      <td>BMG_PT044531</td>\n",
       "      <td>BMG_PT039496;BMG_PT169028</td>\n",
       "    </tr>\n",
       "    <tr>\n",
       "      <th>145762</th>\n",
       "      <td>ACVR2B</td>\n",
       "      <td>RAC1</td>\n",
       "      <td>BMG_PT044531</td>\n",
       "      <td>BMG_PT042017;BMG_PT170932;BMG_PT170933</td>\n",
       "    </tr>\n",
       "    <tr>\n",
       "      <th>145764</th>\n",
       "      <td>ACVR2B</td>\n",
       "      <td>RAC2</td>\n",
       "      <td>BMG_PT044531</td>\n",
       "      <td>BMG_PT039170;BMG_PT105276;BMG_PT105347;BMG_PT1...</td>\n",
       "    </tr>\n",
       "    <tr>\n",
       "      <th>145766</th>\n",
       "      <td>ACVR2B</td>\n",
       "      <td>RAC3</td>\n",
       "      <td>BMG_PT044531</td>\n",
       "      <td>BMG_PT041824;BMG_PT139271;BMG_PT139992</td>\n",
       "    </tr>\n",
       "    <tr>\n",
       "      <th>145768</th>\n",
       "      <td>ACVR2B</td>\n",
       "      <td>NCF1</td>\n",
       "      <td>BMG_PT044531</td>\n",
       "      <td>BMG_PT039120;BMG_PT107763;BMG_PT111094;BMG_PT1...</td>\n",
       "    </tr>\n",
       "  </tbody>\n",
       "</table>\n",
       "<p>52973 rows × 4 columns</p>\n",
       "</div>"
      ],
      "text/plain": [
       "         source  target                                            From_ID  \\\n",
       "1508    HSD17B8    CBR4                                       BMG_PT078734   \n",
       "7986     MAN1A2   MGAT1  BMG_PT035203;BMG_PT109042;BMG_PT111268;BMG_PT1...   \n",
       "7987     MAN1B1  MAN1A2  BMG_PT097592;BMG_PT129320;BMG_PT129636;BMG_PT1...   \n",
       "7988     MAN1B1  MAN1A1  BMG_PT097592;BMG_PT129320;BMG_PT129636;BMG_PT1...   \n",
       "7989     MAN1B1  MAN1C1  BMG_PT097592;BMG_PT129320;BMG_PT129636;BMG_PT1...   \n",
       "...         ...     ...                                                ...   \n",
       "145760   ACVR2B    NCF2                                       BMG_PT044531   \n",
       "145762   ACVR2B    RAC1                                       BMG_PT044531   \n",
       "145764   ACVR2B    RAC2                                       BMG_PT044531   \n",
       "145766   ACVR2B    RAC3                                       BMG_PT044531   \n",
       "145768   ACVR2B    NCF1                                       BMG_PT044531   \n",
       "\n",
       "                                                    To_ID  \n",
       "1508    BMG_PT072935;BMG_PT119125;BMG_PT120080;BMG_PT1...  \n",
       "7986    BMG_PT039910;BMG_PT119369;BMG_PT119788;BMG_PT1...  \n",
       "7987    BMG_PT035203;BMG_PT109042;BMG_PT111268;BMG_PT1...  \n",
       "7988                                         BMG_PT040371  \n",
       "7989               BMG_PT091958;BMG_PT101212;BMG_PT103277  \n",
       "...                                                   ...  \n",
       "145760                          BMG_PT039496;BMG_PT169028  \n",
       "145762             BMG_PT042017;BMG_PT170932;BMG_PT170933  \n",
       "145764  BMG_PT039170;BMG_PT105276;BMG_PT105347;BMG_PT1...  \n",
       "145766             BMG_PT041824;BMG_PT139271;BMG_PT139992  \n",
       "145768  BMG_PT039120;BMG_PT107763;BMG_PT111094;BMG_PT1...  \n",
       "\n",
       "[52973 rows x 4 columns]"
      ]
     },
     "execution_count": 20,
     "metadata": {},
     "output_type": "execute_result"
    }
   ],
   "source": [
    "gene_name_individualid = biomedgraphica_protein[['HGNC_Symbol', 'BioMedGraphica_ID']]\n",
    "gene_name_individualid.dropna(subset=['HGNC_Symbol'], inplace=True)\n",
    "gene_name_to_individualid = gene_name_individualid.assign(HGNC_Symbol=gene_name_individualid['HGNC_Symbol'].str.split(';')).explode('HGNC_Symbol')\n",
    "gene_name_to_individualid = gene_name_to_individualid.groupby('HGNC_Symbol')['BioMedGraphica_ID'].apply(lambda x: ';'.join(x.dropna().unique())).to_dict()\n",
    "\n",
    "kegg_filter['From_ID'] = kegg_filter['source'].map(gene_name_to_individualid)\n",
    "kegg_filter['To_ID'] = kegg_filter['target'].map(gene_name_to_individualid)\n",
    "kegg_filter"
   ]
  },
  {
   "cell_type": "code",
   "execution_count": 21,
   "metadata": {},
   "outputs": [
    {
     "name": "stdout",
     "output_type": "stream",
     "text": [
      "<class 'pandas.core.frame.DataFrame'>\n",
      "Index: 51971 entries, 1508 to 145768\n",
      "Data columns (total 2 columns):\n",
      " #   Column   Non-Null Count  Dtype \n",
      "---  ------   --------------  ----- \n",
      " 0   From_ID  51971 non-null  object\n",
      " 1   To_ID    51971 non-null  object\n",
      "dtypes: object(2)\n",
      "memory usage: 1.2+ MB\n"
     ]
    },
    {
     "name": "stderr",
     "output_type": "stream",
     "text": [
      "C:\\Users\\shunn\\AppData\\Local\\Temp\\ipykernel_9296\\2286685467.py:2: SettingWithCopyWarning: \n",
      "A value is trying to be set on a copy of a slice from a DataFrame\n",
      "\n",
      "See the caveats in the documentation: https://pandas.pydata.org/pandas-docs/stable/user_guide/indexing.html#returning-a-view-versus-a-copy\n",
      "  kegg_filter.dropna(subset=['From_ID'], inplace=True)\n",
      "C:\\Users\\shunn\\AppData\\Local\\Temp\\ipykernel_9296\\2286685467.py:3: SettingWithCopyWarning: \n",
      "A value is trying to be set on a copy of a slice from a DataFrame\n",
      "\n",
      "See the caveats in the documentation: https://pandas.pydata.org/pandas-docs/stable/user_guide/indexing.html#returning-a-view-versus-a-copy\n",
      "  kegg_filter.dropna(subset=['To_ID'], inplace=True)\n"
     ]
    }
   ],
   "source": [
    "kegg_filter = kegg_filter[['From_ID', 'To_ID']]\n",
    "kegg_filter.dropna(subset=['From_ID'], inplace=True)\n",
    "kegg_filter.dropna(subset=['To_ID'], inplace=True)\n",
    "kegg_filter.info()"
   ]
  },
  {
   "cell_type": "code",
   "execution_count": 22,
   "metadata": {},
   "outputs": [
    {
     "name": "stderr",
     "output_type": "stream",
     "text": [
      "C:\\Users\\shunn\\AppData\\Local\\Temp\\ipykernel_9296\\3724326563.py:1: SettingWithCopyWarning: \n",
      "A value is trying to be set on a copy of a slice from a DataFrame.\n",
      "Try using .loc[row_indexer,col_indexer] = value instead\n",
      "\n",
      "See the caveats in the documentation: https://pandas.pydata.org/pandas-docs/stable/user_guide/indexing.html#returning-a-view-versus-a-copy\n",
      "  kegg_filter['From_ID'] = kegg_filter['From_ID'].str.split(';')\n",
      "C:\\Users\\shunn\\AppData\\Local\\Temp\\ipykernel_9296\\3724326563.py:2: SettingWithCopyWarning: \n",
      "A value is trying to be set on a copy of a slice from a DataFrame.\n",
      "Try using .loc[row_indexer,col_indexer] = value instead\n",
      "\n",
      "See the caveats in the documentation: https://pandas.pydata.org/pandas-docs/stable/user_guide/indexing.html#returning-a-view-versus-a-copy\n",
      "  kegg_filter['To_ID'] = kegg_filter['To_ID'].str.split(';')\n"
     ]
    },
    {
     "data": {
      "application/vnd.microsoft.datawrangler.viewer.v0+json": {
       "columns": [
        {
         "name": "index",
         "rawType": "int64",
         "type": "integer"
        },
        {
         "name": "From_ID",
         "rawType": "object",
         "type": "string"
        },
        {
         "name": "To_ID",
         "rawType": "object",
         "type": "string"
        }
       ],
       "conversionMethod": "pd.DataFrame",
       "ref": "1765f07e-82cd-4aea-afec-8772e3bb1a4d",
       "rows": [
        [
         "0",
         "BMG_PT078734",
         "BMG_PT072935"
        ],
        [
         "1",
         "BMG_PT078734",
         "BMG_PT119125"
        ],
        [
         "2",
         "BMG_PT078734",
         "BMG_PT120080"
        ],
        [
         "3",
         "BMG_PT078734",
         "BMG_PT120852"
        ],
        [
         "4",
         "BMG_PT078734",
         "BMG_PT121322"
        ],
        [
         "5",
         "BMG_PT035203",
         "BMG_PT039910"
        ],
        [
         "6",
         "BMG_PT035203",
         "BMG_PT119369"
        ],
        [
         "7",
         "BMG_PT035203",
         "BMG_PT119788"
        ],
        [
         "8",
         "BMG_PT035203",
         "BMG_PT119966"
        ],
        [
         "9",
         "BMG_PT035203",
         "BMG_PT120200"
        ],
        [
         "10",
         "BMG_PT035203",
         "BMG_PT120687"
        ],
        [
         "11",
         "BMG_PT035203",
         "BMG_PT120932"
        ],
        [
         "12",
         "BMG_PT035203",
         "BMG_PT121472"
        ],
        [
         "13",
         "BMG_PT035203",
         "BMG_PT122032"
        ],
        [
         "14",
         "BMG_PT035203",
         "BMG_PT122194"
        ],
        [
         "15",
         "BMG_PT109042",
         "BMG_PT039910"
        ],
        [
         "16",
         "BMG_PT109042",
         "BMG_PT119369"
        ],
        [
         "17",
         "BMG_PT109042",
         "BMG_PT119788"
        ],
        [
         "18",
         "BMG_PT109042",
         "BMG_PT119966"
        ],
        [
         "19",
         "BMG_PT109042",
         "BMG_PT120200"
        ],
        [
         "20",
         "BMG_PT109042",
         "BMG_PT120687"
        ],
        [
         "21",
         "BMG_PT109042",
         "BMG_PT120932"
        ],
        [
         "22",
         "BMG_PT109042",
         "BMG_PT121472"
        ],
        [
         "23",
         "BMG_PT109042",
         "BMG_PT122032"
        ],
        [
         "24",
         "BMG_PT109042",
         "BMG_PT122194"
        ],
        [
         "25",
         "BMG_PT111268",
         "BMG_PT039910"
        ],
        [
         "26",
         "BMG_PT111268",
         "BMG_PT119369"
        ],
        [
         "27",
         "BMG_PT111268",
         "BMG_PT119788"
        ],
        [
         "28",
         "BMG_PT111268",
         "BMG_PT119966"
        ],
        [
         "29",
         "BMG_PT111268",
         "BMG_PT120200"
        ],
        [
         "30",
         "BMG_PT111268",
         "BMG_PT120687"
        ],
        [
         "31",
         "BMG_PT111268",
         "BMG_PT120932"
        ],
        [
         "32",
         "BMG_PT111268",
         "BMG_PT121472"
        ],
        [
         "33",
         "BMG_PT111268",
         "BMG_PT122032"
        ],
        [
         "34",
         "BMG_PT111268",
         "BMG_PT122194"
        ],
        [
         "35",
         "BMG_PT115013",
         "BMG_PT039910"
        ],
        [
         "36",
         "BMG_PT115013",
         "BMG_PT119369"
        ],
        [
         "37",
         "BMG_PT115013",
         "BMG_PT119788"
        ],
        [
         "38",
         "BMG_PT115013",
         "BMG_PT119966"
        ],
        [
         "39",
         "BMG_PT115013",
         "BMG_PT120200"
        ],
        [
         "40",
         "BMG_PT115013",
         "BMG_PT120687"
        ],
        [
         "41",
         "BMG_PT115013",
         "BMG_PT120932"
        ],
        [
         "42",
         "BMG_PT115013",
         "BMG_PT121472"
        ],
        [
         "43",
         "BMG_PT115013",
         "BMG_PT122032"
        ],
        [
         "44",
         "BMG_PT115013",
         "BMG_PT122194"
        ],
        [
         "45",
         "BMG_PT097592",
         "BMG_PT035203"
        ],
        [
         "46",
         "BMG_PT097592",
         "BMG_PT109042"
        ],
        [
         "47",
         "BMG_PT097592",
         "BMG_PT111268"
        ],
        [
         "48",
         "BMG_PT097592",
         "BMG_PT115013"
        ],
        [
         "49",
         "BMG_PT129320",
         "BMG_PT035203"
        ]
       ],
       "shape": {
        "columns": 2,
        "rows": 1967514
       }
      },
      "text/html": [
       "<div>\n",
       "<style scoped>\n",
       "    .dataframe tbody tr th:only-of-type {\n",
       "        vertical-align: middle;\n",
       "    }\n",
       "\n",
       "    .dataframe tbody tr th {\n",
       "        vertical-align: top;\n",
       "    }\n",
       "\n",
       "    .dataframe thead th {\n",
       "        text-align: right;\n",
       "    }\n",
       "</style>\n",
       "<table border=\"1\" class=\"dataframe\">\n",
       "  <thead>\n",
       "    <tr style=\"text-align: right;\">\n",
       "      <th></th>\n",
       "      <th>From_ID</th>\n",
       "      <th>To_ID</th>\n",
       "    </tr>\n",
       "  </thead>\n",
       "  <tbody>\n",
       "    <tr>\n",
       "      <th>0</th>\n",
       "      <td>BMG_PT078734</td>\n",
       "      <td>BMG_PT072935</td>\n",
       "    </tr>\n",
       "    <tr>\n",
       "      <th>1</th>\n",
       "      <td>BMG_PT078734</td>\n",
       "      <td>BMG_PT119125</td>\n",
       "    </tr>\n",
       "    <tr>\n",
       "      <th>2</th>\n",
       "      <td>BMG_PT078734</td>\n",
       "      <td>BMG_PT120080</td>\n",
       "    </tr>\n",
       "    <tr>\n",
       "      <th>3</th>\n",
       "      <td>BMG_PT078734</td>\n",
       "      <td>BMG_PT120852</td>\n",
       "    </tr>\n",
       "    <tr>\n",
       "      <th>4</th>\n",
       "      <td>BMG_PT078734</td>\n",
       "      <td>BMG_PT121322</td>\n",
       "    </tr>\n",
       "    <tr>\n",
       "      <th>...</th>\n",
       "      <td>...</td>\n",
       "      <td>...</td>\n",
       "    </tr>\n",
       "    <tr>\n",
       "      <th>1967509</th>\n",
       "      <td>BMG_PT044531</td>\n",
       "      <td>BMG_PT139992</td>\n",
       "    </tr>\n",
       "    <tr>\n",
       "      <th>1967510</th>\n",
       "      <td>BMG_PT044531</td>\n",
       "      <td>BMG_PT039120</td>\n",
       "    </tr>\n",
       "    <tr>\n",
       "      <th>1967511</th>\n",
       "      <td>BMG_PT044531</td>\n",
       "      <td>BMG_PT107763</td>\n",
       "    </tr>\n",
       "    <tr>\n",
       "      <th>1967512</th>\n",
       "      <td>BMG_PT044531</td>\n",
       "      <td>BMG_PT111094</td>\n",
       "    </tr>\n",
       "    <tr>\n",
       "      <th>1967513</th>\n",
       "      <td>BMG_PT044531</td>\n",
       "      <td>BMG_PT149367</td>\n",
       "    </tr>\n",
       "  </tbody>\n",
       "</table>\n",
       "<p>1967514 rows × 2 columns</p>\n",
       "</div>"
      ],
      "text/plain": [
       "              From_ID         To_ID\n",
       "0        BMG_PT078734  BMG_PT072935\n",
       "1        BMG_PT078734  BMG_PT119125\n",
       "2        BMG_PT078734  BMG_PT120080\n",
       "3        BMG_PT078734  BMG_PT120852\n",
       "4        BMG_PT078734  BMG_PT121322\n",
       "...               ...           ...\n",
       "1967509  BMG_PT044531  BMG_PT139992\n",
       "1967510  BMG_PT044531  BMG_PT039120\n",
       "1967511  BMG_PT044531  BMG_PT107763\n",
       "1967512  BMG_PT044531  BMG_PT111094\n",
       "1967513  BMG_PT044531  BMG_PT149367\n",
       "\n",
       "[1967514 rows x 2 columns]"
      ]
     },
     "execution_count": 22,
     "metadata": {},
     "output_type": "execute_result"
    }
   ],
   "source": [
    "kegg_filter['From_ID'] = kegg_filter['From_ID'].str.split(';')\n",
    "kegg_filter['To_ID'] = kegg_filter['To_ID'].str.split(';')\n",
    "\n",
    "kegg_filter = kegg_filter.explode('From_ID')\n",
    "kegg_filter = kegg_filter.explode('To_ID')\n",
    "\n",
    "kegg_filter.drop_duplicates(inplace=True)\n",
    "kegg_filter.reset_index(drop=True, inplace=True)\n",
    "kegg_filter"
   ]
  },
  {
   "cell_type": "markdown",
   "metadata": {},
   "source": [
    "### Protein-Protein Relation"
   ]
  },
  {
   "cell_type": "code",
   "execution_count": 23,
   "metadata": {},
   "outputs": [
    {
     "data": {
      "application/vnd.microsoft.datawrangler.viewer.v0+json": {
       "columns": [
        {
         "name": "index",
         "rawType": "int64",
         "type": "integer"
        },
        {
         "name": "From_ID",
         "rawType": "object",
         "type": "string"
        },
        {
         "name": "To_ID",
         "rawType": "object",
         "type": "string"
        },
        {
         "name": "Source_1",
         "rawType": "object",
         "type": "unknown"
        },
        {
         "name": "Source_2",
         "rawType": "object",
         "type": "unknown"
        },
        {
         "name": "Source_3",
         "rawType": "object",
         "type": "unknown"
        }
       ],
       "conversionMethod": "pd.DataFrame",
       "ref": "f1bc5f20-33cf-4682-aa08-c3862322ad27",
       "rows": [
        [
         "0",
         "BMG_PT000170",
         "BMG_PT033607",
         null,
         "STRING",
         null
        ],
        [
         "1",
         "BMG_PT000170",
         "BMG_PT035920",
         null,
         "STRING",
         null
        ],
        [
         "2",
         "BMG_PT000170",
         "BMG_PT036346",
         null,
         "STRING",
         null
        ],
        [
         "3",
         "BMG_PT000170",
         "BMG_PT038694",
         null,
         "STRING",
         null
        ],
        [
         "4",
         "BMG_PT000170",
         "BMG_PT040925",
         null,
         "STRING",
         null
        ],
        [
         "5",
         "BMG_PT000170",
         "BMG_PT041430",
         null,
         "STRING",
         null
        ],
        [
         "6",
         "BMG_PT000170",
         "BMG_PT041439",
         null,
         "STRING",
         null
        ],
        [
         "7",
         "BMG_PT000170",
         "BMG_PT041603",
         null,
         "STRING",
         null
        ],
        [
         "8",
         "BMG_PT000170",
         "BMG_PT041608",
         null,
         "STRING",
         null
        ],
        [
         "9",
         "BMG_PT000170",
         "BMG_PT041857",
         null,
         "STRING",
         null
        ],
        [
         "10",
         "BMG_PT000170",
         "BMG_PT041951",
         null,
         "STRING",
         null
        ],
        [
         "11",
         "BMG_PT000170",
         "BMG_PT041952",
         null,
         "STRING",
         null
        ],
        [
         "12",
         "BMG_PT000170",
         "BMG_PT041955",
         null,
         "STRING",
         null
        ],
        [
         "13",
         "BMG_PT000170",
         "BMG_PT041956",
         null,
         "STRING",
         null
        ],
        [
         "14",
         "BMG_PT000170",
         "BMG_PT041957",
         null,
         "STRING",
         null
        ],
        [
         "15",
         "BMG_PT000170",
         "BMG_PT041994",
         null,
         "STRING",
         null
        ],
        [
         "16",
         "BMG_PT000170",
         "BMG_PT041995",
         null,
         "STRING",
         null
        ],
        [
         "17",
         "BMG_PT000170",
         "BMG_PT041997",
         null,
         "STRING",
         null
        ],
        [
         "18",
         "BMG_PT000170",
         "BMG_PT041998",
         null,
         "STRING",
         null
        ],
        [
         "19",
         "BMG_PT000170",
         "BMG_PT042001",
         null,
         "STRING",
         null
        ],
        [
         "20",
         "BMG_PT000170",
         "BMG_PT042048",
         null,
         "STRING",
         null
        ],
        [
         "21",
         "BMG_PT000170",
         "BMG_PT042402",
         null,
         "STRING",
         null
        ],
        [
         "22",
         "BMG_PT000170",
         "BMG_PT043932",
         null,
         "STRING",
         null
        ],
        [
         "23",
         "BMG_PT000170",
         "BMG_PT046328",
         null,
         "STRING",
         null
        ],
        [
         "24",
         "BMG_PT000170",
         "BMG_PT079946",
         null,
         "STRING",
         null
        ],
        [
         "25",
         "BMG_PT000170",
         "BMG_PT080678",
         null,
         "STRING",
         null
        ],
        [
         "26",
         "BMG_PT000170",
         "BMG_PT084402",
         null,
         "STRING",
         null
        ],
        [
         "27",
         "BMG_PT000170",
         "BMG_PT086562",
         null,
         "STRING",
         null
        ],
        [
         "28",
         "BMG_PT000170",
         "BMG_PT087354",
         null,
         "STRING",
         null
        ],
        [
         "29",
         "BMG_PT000170",
         "BMG_PT091524",
         null,
         "STRING",
         null
        ],
        [
         "30",
         "BMG_PT000170",
         "BMG_PT091840",
         null,
         "STRING",
         null
        ],
        [
         "31",
         "BMG_PT000170",
         "BMG_PT097448",
         null,
         "STRING",
         null
        ],
        [
         "32",
         "BMG_PT000170",
         "BMG_PT099049",
         null,
         "STRING",
         null
        ],
        [
         "33",
         "BMG_PT000170",
         "BMG_PT099056",
         null,
         "STRING",
         null
        ],
        [
         "34",
         "BMG_PT000170",
         "BMG_PT099435",
         null,
         "STRING",
         null
        ],
        [
         "35",
         "BMG_PT000170",
         "BMG_PT100101",
         null,
         "STRING",
         null
        ],
        [
         "36",
         "BMG_PT000170",
         "BMG_PT100121",
         null,
         "STRING",
         null
        ],
        [
         "37",
         "BMG_PT000170",
         "BMG_PT105370",
         null,
         "STRING",
         null
        ],
        [
         "38",
         "BMG_PT000170",
         "BMG_PT107955",
         null,
         "STRING",
         null
        ],
        [
         "39",
         "BMG_PT000774",
         "BMG_PT009206",
         null,
         "STRING",
         null
        ],
        [
         "40",
         "BMG_PT000774",
         "BMG_PT010031",
         null,
         "STRING",
         null
        ],
        [
         "41",
         "BMG_PT000774",
         "BMG_PT010537",
         null,
         "STRING",
         null
        ],
        [
         "42",
         "BMG_PT000774",
         "BMG_PT024647",
         null,
         "STRING",
         null
        ],
        [
         "43",
         "BMG_PT000774",
         "BMG_PT032868",
         null,
         "STRING",
         null
        ],
        [
         "44",
         "BMG_PT000774",
         "BMG_PT033189",
         null,
         "STRING",
         null
        ],
        [
         "45",
         "BMG_PT000774",
         "BMG_PT033757",
         null,
         "STRING",
         null
        ],
        [
         "46",
         "BMG_PT000774",
         "BMG_PT033920",
         null,
         "STRING",
         null
        ],
        [
         "47",
         "BMG_PT000774",
         "BMG_PT034019",
         null,
         "STRING",
         null
        ],
        [
         "48",
         "BMG_PT000774",
         "BMG_PT034235",
         null,
         "STRING",
         null
        ],
        [
         "49",
         "BMG_PT000774",
         "BMG_PT034250",
         null,
         "STRING",
         null
        ]
       ],
       "shape": {
        "columns": 5,
        "rows": 16484820
       }
      },
      "text/html": [
       "<div>\n",
       "<style scoped>\n",
       "    .dataframe tbody tr th:only-of-type {\n",
       "        vertical-align: middle;\n",
       "    }\n",
       "\n",
       "    .dataframe tbody tr th {\n",
       "        vertical-align: top;\n",
       "    }\n",
       "\n",
       "    .dataframe thead th {\n",
       "        text-align: right;\n",
       "    }\n",
       "</style>\n",
       "<table border=\"1\" class=\"dataframe\">\n",
       "  <thead>\n",
       "    <tr style=\"text-align: right;\">\n",
       "      <th></th>\n",
       "      <th>From_ID</th>\n",
       "      <th>To_ID</th>\n",
       "      <th>Source_1</th>\n",
       "      <th>Source_2</th>\n",
       "      <th>Source_3</th>\n",
       "    </tr>\n",
       "  </thead>\n",
       "  <tbody>\n",
       "    <tr>\n",
       "      <th>0</th>\n",
       "      <td>BMG_PT000170</td>\n",
       "      <td>BMG_PT033607</td>\n",
       "      <td>NaN</td>\n",
       "      <td>STRING</td>\n",
       "      <td>NaN</td>\n",
       "    </tr>\n",
       "    <tr>\n",
       "      <th>1</th>\n",
       "      <td>BMG_PT000170</td>\n",
       "      <td>BMG_PT035920</td>\n",
       "      <td>NaN</td>\n",
       "      <td>STRING</td>\n",
       "      <td>NaN</td>\n",
       "    </tr>\n",
       "    <tr>\n",
       "      <th>2</th>\n",
       "      <td>BMG_PT000170</td>\n",
       "      <td>BMG_PT036346</td>\n",
       "      <td>NaN</td>\n",
       "      <td>STRING</td>\n",
       "      <td>NaN</td>\n",
       "    </tr>\n",
       "    <tr>\n",
       "      <th>3</th>\n",
       "      <td>BMG_PT000170</td>\n",
       "      <td>BMG_PT038694</td>\n",
       "      <td>NaN</td>\n",
       "      <td>STRING</td>\n",
       "      <td>NaN</td>\n",
       "    </tr>\n",
       "    <tr>\n",
       "      <th>4</th>\n",
       "      <td>BMG_PT000170</td>\n",
       "      <td>BMG_PT040925</td>\n",
       "      <td>NaN</td>\n",
       "      <td>STRING</td>\n",
       "      <td>NaN</td>\n",
       "    </tr>\n",
       "    <tr>\n",
       "      <th>...</th>\n",
       "      <td>...</td>\n",
       "      <td>...</td>\n",
       "      <td>...</td>\n",
       "      <td>...</td>\n",
       "      <td>...</td>\n",
       "    </tr>\n",
       "    <tr>\n",
       "      <th>16484815</th>\n",
       "      <td>BMG_PT173978</td>\n",
       "      <td>BMG_PT169819</td>\n",
       "      <td>NaN</td>\n",
       "      <td>NaN</td>\n",
       "      <td>KEGG</td>\n",
       "    </tr>\n",
       "    <tr>\n",
       "      <th>16484816</th>\n",
       "      <td>BMG_PT173978</td>\n",
       "      <td>BMG_PT172701</td>\n",
       "      <td>NaN</td>\n",
       "      <td>NaN</td>\n",
       "      <td>KEGG</td>\n",
       "    </tr>\n",
       "    <tr>\n",
       "      <th>16484817</th>\n",
       "      <td>BMG_PT173978</td>\n",
       "      <td>BMG_PT173384</td>\n",
       "      <td>NaN</td>\n",
       "      <td>NaN</td>\n",
       "      <td>KEGG</td>\n",
       "    </tr>\n",
       "    <tr>\n",
       "      <th>16484818</th>\n",
       "      <td>BMG_PT173978</td>\n",
       "      <td>BMG_PT173385</td>\n",
       "      <td>NaN</td>\n",
       "      <td>NaN</td>\n",
       "      <td>KEGG</td>\n",
       "    </tr>\n",
       "    <tr>\n",
       "      <th>16484819</th>\n",
       "      <td>BMG_PT173978</td>\n",
       "      <td>BMG_PT173386</td>\n",
       "      <td>NaN</td>\n",
       "      <td>NaN</td>\n",
       "      <td>KEGG</td>\n",
       "    </tr>\n",
       "  </tbody>\n",
       "</table>\n",
       "<p>16484820 rows × 5 columns</p>\n",
       "</div>"
      ],
      "text/plain": [
       "               From_ID         To_ID Source_1 Source_2 Source_3\n",
       "0         BMG_PT000170  BMG_PT033607      NaN   STRING      NaN\n",
       "1         BMG_PT000170  BMG_PT035920      NaN   STRING      NaN\n",
       "2         BMG_PT000170  BMG_PT036346      NaN   STRING      NaN\n",
       "3         BMG_PT000170  BMG_PT038694      NaN   STRING      NaN\n",
       "4         BMG_PT000170  BMG_PT040925      NaN   STRING      NaN\n",
       "...                ...           ...      ...      ...      ...\n",
       "16484815  BMG_PT173978  BMG_PT169819      NaN      NaN     KEGG\n",
       "16484816  BMG_PT173978  BMG_PT172701      NaN      NaN     KEGG\n",
       "16484817  BMG_PT173978  BMG_PT173384      NaN      NaN     KEGG\n",
       "16484818  BMG_PT173978  BMG_PT173385      NaN      NaN     KEGG\n",
       "16484819  BMG_PT173978  BMG_PT173386      NaN      NaN     KEGG\n",
       "\n",
       "[16484820 rows x 5 columns]"
      ]
     },
     "execution_count": 23,
     "metadata": {},
     "output_type": "execute_result"
    }
   ],
   "source": [
    "biomedgraphica_biogrid_ppi = df_biogrid_filter_relation_final.copy()\n",
    "biomedgraphica_biogrid_ppi['Source_1'] = 'BioGrid'\n",
    "\n",
    "biomedgraphica_stringdb_ppi = df_stringdb_filter.copy()\n",
    "biomedgraphica_stringdb_ppi['Source_2'] = 'STRING'\n",
    "\n",
    "biomedgraphica_kegg_ppi = kegg_filter.copy()\n",
    "biomedgraphica_kegg_ppi['Source_3'] = 'KEGG'\n",
    "\n",
    "biomedgraphica_ppi = pd.merge(biomedgraphica_biogrid_ppi, biomedgraphica_stringdb_ppi, how='outer')\n",
    "biomedgraphica_ppi = pd.merge(biomedgraphica_ppi, biomedgraphica_kegg_ppi, how='outer')\n",
    "biomedgraphica_ppi"
   ]
  },
  {
   "cell_type": "code",
   "execution_count": 24,
   "metadata": {},
   "outputs": [
    {
     "data": {
      "application/vnd.microsoft.datawrangler.viewer.v0+json": {
       "columns": [
        {
         "name": "index",
         "rawType": "int64",
         "type": "integer"
        },
        {
         "name": "From_ID",
         "rawType": "object",
         "type": "string"
        },
        {
         "name": "To_ID",
         "rawType": "object",
         "type": "string"
        },
        {
         "name": "Source",
         "rawType": "object",
         "type": "string"
        }
       ],
       "conversionMethod": "pd.DataFrame",
       "ref": "2fa53a41-aa71-448c-8f3e-5c0ffd648ac6",
       "rows": [
        [
         "0",
         "BMG_PT000170",
         "BMG_PT033607",
         "STRING"
        ],
        [
         "1",
         "BMG_PT000170",
         "BMG_PT035920",
         "STRING"
        ],
        [
         "2",
         "BMG_PT000170",
         "BMG_PT036346",
         "STRING"
        ],
        [
         "3",
         "BMG_PT000170",
         "BMG_PT038694",
         "STRING"
        ],
        [
         "4",
         "BMG_PT000170",
         "BMG_PT040925",
         "STRING"
        ],
        [
         "5",
         "BMG_PT000170",
         "BMG_PT041430",
         "STRING"
        ],
        [
         "6",
         "BMG_PT000170",
         "BMG_PT041439",
         "STRING"
        ],
        [
         "7",
         "BMG_PT000170",
         "BMG_PT041603",
         "STRING"
        ],
        [
         "8",
         "BMG_PT000170",
         "BMG_PT041608",
         "STRING"
        ],
        [
         "9",
         "BMG_PT000170",
         "BMG_PT041857",
         "STRING"
        ],
        [
         "10",
         "BMG_PT000170",
         "BMG_PT041951",
         "STRING"
        ],
        [
         "11",
         "BMG_PT000170",
         "BMG_PT041952",
         "STRING"
        ],
        [
         "12",
         "BMG_PT000170",
         "BMG_PT041955",
         "STRING"
        ],
        [
         "13",
         "BMG_PT000170",
         "BMG_PT041956",
         "STRING"
        ],
        [
         "14",
         "BMG_PT000170",
         "BMG_PT041957",
         "STRING"
        ],
        [
         "15",
         "BMG_PT000170",
         "BMG_PT041994",
         "STRING"
        ],
        [
         "16",
         "BMG_PT000170",
         "BMG_PT041995",
         "STRING"
        ],
        [
         "17",
         "BMG_PT000170",
         "BMG_PT041997",
         "STRING"
        ],
        [
         "18",
         "BMG_PT000170",
         "BMG_PT041998",
         "STRING"
        ],
        [
         "19",
         "BMG_PT000170",
         "BMG_PT042001",
         "STRING"
        ],
        [
         "20",
         "BMG_PT000170",
         "BMG_PT042048",
         "STRING"
        ],
        [
         "21",
         "BMG_PT000170",
         "BMG_PT042402",
         "STRING"
        ],
        [
         "22",
         "BMG_PT000170",
         "BMG_PT043932",
         "STRING"
        ],
        [
         "23",
         "BMG_PT000170",
         "BMG_PT046328",
         "STRING"
        ],
        [
         "24",
         "BMG_PT000170",
         "BMG_PT079946",
         "STRING"
        ],
        [
         "25",
         "BMG_PT000170",
         "BMG_PT080678",
         "STRING"
        ],
        [
         "26",
         "BMG_PT000170",
         "BMG_PT084402",
         "STRING"
        ],
        [
         "27",
         "BMG_PT000170",
         "BMG_PT086562",
         "STRING"
        ],
        [
         "28",
         "BMG_PT000170",
         "BMG_PT087354",
         "STRING"
        ],
        [
         "29",
         "BMG_PT000170",
         "BMG_PT091524",
         "STRING"
        ],
        [
         "30",
         "BMG_PT000170",
         "BMG_PT091840",
         "STRING"
        ],
        [
         "31",
         "BMG_PT000170",
         "BMG_PT097448",
         "STRING"
        ],
        [
         "32",
         "BMG_PT000170",
         "BMG_PT099049",
         "STRING"
        ],
        [
         "33",
         "BMG_PT000170",
         "BMG_PT099056",
         "STRING"
        ],
        [
         "34",
         "BMG_PT000170",
         "BMG_PT099435",
         "STRING"
        ],
        [
         "35",
         "BMG_PT000170",
         "BMG_PT100101",
         "STRING"
        ],
        [
         "36",
         "BMG_PT000170",
         "BMG_PT100121",
         "STRING"
        ],
        [
         "37",
         "BMG_PT000170",
         "BMG_PT105370",
         "STRING"
        ],
        [
         "38",
         "BMG_PT000170",
         "BMG_PT107955",
         "STRING"
        ],
        [
         "39",
         "BMG_PT000774",
         "BMG_PT009206",
         "STRING"
        ],
        [
         "40",
         "BMG_PT000774",
         "BMG_PT010031",
         "STRING"
        ],
        [
         "41",
         "BMG_PT000774",
         "BMG_PT010537",
         "STRING"
        ],
        [
         "42",
         "BMG_PT000774",
         "BMG_PT024647",
         "STRING"
        ],
        [
         "43",
         "BMG_PT000774",
         "BMG_PT032868",
         "STRING"
        ],
        [
         "44",
         "BMG_PT000774",
         "BMG_PT033189",
         "STRING"
        ],
        [
         "45",
         "BMG_PT000774",
         "BMG_PT033757",
         "STRING"
        ],
        [
         "46",
         "BMG_PT000774",
         "BMG_PT033920",
         "STRING"
        ],
        [
         "47",
         "BMG_PT000774",
         "BMG_PT034019",
         "STRING"
        ],
        [
         "48",
         "BMG_PT000774",
         "BMG_PT034235",
         "STRING"
        ],
        [
         "49",
         "BMG_PT000774",
         "BMG_PT034250",
         "STRING"
        ]
       ],
       "shape": {
        "columns": 3,
        "rows": 16484820
       }
      },
      "text/html": [
       "<div>\n",
       "<style scoped>\n",
       "    .dataframe tbody tr th:only-of-type {\n",
       "        vertical-align: middle;\n",
       "    }\n",
       "\n",
       "    .dataframe tbody tr th {\n",
       "        vertical-align: top;\n",
       "    }\n",
       "\n",
       "    .dataframe thead th {\n",
       "        text-align: right;\n",
       "    }\n",
       "</style>\n",
       "<table border=\"1\" class=\"dataframe\">\n",
       "  <thead>\n",
       "    <tr style=\"text-align: right;\">\n",
       "      <th></th>\n",
       "      <th>From_ID</th>\n",
       "      <th>To_ID</th>\n",
       "      <th>Source</th>\n",
       "    </tr>\n",
       "  </thead>\n",
       "  <tbody>\n",
       "    <tr>\n",
       "      <th>0</th>\n",
       "      <td>BMG_PT000170</td>\n",
       "      <td>BMG_PT033607</td>\n",
       "      <td>STRING</td>\n",
       "    </tr>\n",
       "    <tr>\n",
       "      <th>1</th>\n",
       "      <td>BMG_PT000170</td>\n",
       "      <td>BMG_PT035920</td>\n",
       "      <td>STRING</td>\n",
       "    </tr>\n",
       "    <tr>\n",
       "      <th>2</th>\n",
       "      <td>BMG_PT000170</td>\n",
       "      <td>BMG_PT036346</td>\n",
       "      <td>STRING</td>\n",
       "    </tr>\n",
       "    <tr>\n",
       "      <th>3</th>\n",
       "      <td>BMG_PT000170</td>\n",
       "      <td>BMG_PT038694</td>\n",
       "      <td>STRING</td>\n",
       "    </tr>\n",
       "    <tr>\n",
       "      <th>4</th>\n",
       "      <td>BMG_PT000170</td>\n",
       "      <td>BMG_PT040925</td>\n",
       "      <td>STRING</td>\n",
       "    </tr>\n",
       "    <tr>\n",
       "      <th>...</th>\n",
       "      <td>...</td>\n",
       "      <td>...</td>\n",
       "      <td>...</td>\n",
       "    </tr>\n",
       "    <tr>\n",
       "      <th>16484815</th>\n",
       "      <td>BMG_PT173978</td>\n",
       "      <td>BMG_PT169819</td>\n",
       "      <td>KEGG</td>\n",
       "    </tr>\n",
       "    <tr>\n",
       "      <th>16484816</th>\n",
       "      <td>BMG_PT173978</td>\n",
       "      <td>BMG_PT172701</td>\n",
       "      <td>KEGG</td>\n",
       "    </tr>\n",
       "    <tr>\n",
       "      <th>16484817</th>\n",
       "      <td>BMG_PT173978</td>\n",
       "      <td>BMG_PT173384</td>\n",
       "      <td>KEGG</td>\n",
       "    </tr>\n",
       "    <tr>\n",
       "      <th>16484818</th>\n",
       "      <td>BMG_PT173978</td>\n",
       "      <td>BMG_PT173385</td>\n",
       "      <td>KEGG</td>\n",
       "    </tr>\n",
       "    <tr>\n",
       "      <th>16484819</th>\n",
       "      <td>BMG_PT173978</td>\n",
       "      <td>BMG_PT173386</td>\n",
       "      <td>KEGG</td>\n",
       "    </tr>\n",
       "  </tbody>\n",
       "</table>\n",
       "<p>16484820 rows × 3 columns</p>\n",
       "</div>"
      ],
      "text/plain": [
       "               From_ID         To_ID  Source\n",
       "0         BMG_PT000170  BMG_PT033607  STRING\n",
       "1         BMG_PT000170  BMG_PT035920  STRING\n",
       "2         BMG_PT000170  BMG_PT036346  STRING\n",
       "3         BMG_PT000170  BMG_PT038694  STRING\n",
       "4         BMG_PT000170  BMG_PT040925  STRING\n",
       "...                ...           ...     ...\n",
       "16484815  BMG_PT173978  BMG_PT169819    KEGG\n",
       "16484816  BMG_PT173978  BMG_PT172701    KEGG\n",
       "16484817  BMG_PT173978  BMG_PT173384    KEGG\n",
       "16484818  BMG_PT173978  BMG_PT173385    KEGG\n",
       "16484819  BMG_PT173978  BMG_PT173386    KEGG\n",
       "\n",
       "[16484820 rows x 3 columns]"
      ]
     },
     "execution_count": 24,
     "metadata": {},
     "output_type": "execute_result"
    }
   ],
   "source": [
    "def merge_string_columns(df, columns, merge_name, separator=';'):\n",
    "    def merge_strings(row):\n",
    "        combined = set()\n",
    "        for column in columns:\n",
    "            if pd.notnull(row[column]):\n",
    "                combined.update(row[column].split(separator))\n",
    "        return separator.join(combined)\n",
    "    \n",
    "    # Apply the function to each row and create a new column\n",
    "    combined_column_name = merge_name\n",
    "    df[combined_column_name] = df.apply(merge_strings, axis=1)\n",
    "    df.drop(columns=columns, inplace=True)\n",
    "    \n",
    "    return df\n",
    "\n",
    "biomedgraphica_ppi = merge_string_columns(biomedgraphica_ppi, ['Source_1', 'Source_2', 'Source_3'], 'Source')\n",
    "biomedgraphica_ppi"
   ]
  },
  {
   "cell_type": "code",
   "execution_count": 25,
   "metadata": {},
   "outputs": [
    {
     "data": {
      "application/vnd.microsoft.datawrangler.viewer.v0+json": {
       "columns": [
        {
         "name": "index",
         "rawType": "int64",
         "type": "integer"
        },
        {
         "name": "BioMedGraphica_ID",
         "rawType": "object",
         "type": "string"
        },
        {
         "name": "From_ID",
         "rawType": "object",
         "type": "string"
        },
        {
         "name": "To_ID",
         "rawType": "object",
         "type": "string"
        },
        {
         "name": "Source",
         "rawType": "object",
         "type": "string"
        },
        {
         "name": "Type",
         "rawType": "object",
         "type": "string"
        }
       ],
       "conversionMethod": "pd.DataFrame",
       "ref": "99a3e42f-35fb-4c3e-b15f-d6b4d6d844b9",
       "rows": [
        [
         "0",
         "BMG_ED_PTPT00000001",
         "BMG_PT000170",
         "BMG_PT033607",
         "STRING",
         "Protein-Protein"
        ],
        [
         "1",
         "BMG_ED_PTPT00000002",
         "BMG_PT000170",
         "BMG_PT035920",
         "STRING",
         "Protein-Protein"
        ],
        [
         "2",
         "BMG_ED_PTPT00000003",
         "BMG_PT000170",
         "BMG_PT036346",
         "STRING",
         "Protein-Protein"
        ],
        [
         "3",
         "BMG_ED_PTPT00000004",
         "BMG_PT000170",
         "BMG_PT038694",
         "STRING",
         "Protein-Protein"
        ],
        [
         "4",
         "BMG_ED_PTPT00000005",
         "BMG_PT000170",
         "BMG_PT040925",
         "STRING",
         "Protein-Protein"
        ],
        [
         "5",
         "BMG_ED_PTPT00000006",
         "BMG_PT000170",
         "BMG_PT041430",
         "STRING",
         "Protein-Protein"
        ],
        [
         "6",
         "BMG_ED_PTPT00000007",
         "BMG_PT000170",
         "BMG_PT041439",
         "STRING",
         "Protein-Protein"
        ],
        [
         "7",
         "BMG_ED_PTPT00000008",
         "BMG_PT000170",
         "BMG_PT041603",
         "STRING",
         "Protein-Protein"
        ],
        [
         "8",
         "BMG_ED_PTPT00000009",
         "BMG_PT000170",
         "BMG_PT041608",
         "STRING",
         "Protein-Protein"
        ],
        [
         "9",
         "BMG_ED_PTPT00000010",
         "BMG_PT000170",
         "BMG_PT041857",
         "STRING",
         "Protein-Protein"
        ],
        [
         "10",
         "BMG_ED_PTPT00000011",
         "BMG_PT000170",
         "BMG_PT041951",
         "STRING",
         "Protein-Protein"
        ],
        [
         "11",
         "BMG_ED_PTPT00000012",
         "BMG_PT000170",
         "BMG_PT041952",
         "STRING",
         "Protein-Protein"
        ],
        [
         "12",
         "BMG_ED_PTPT00000013",
         "BMG_PT000170",
         "BMG_PT041955",
         "STRING",
         "Protein-Protein"
        ],
        [
         "13",
         "BMG_ED_PTPT00000014",
         "BMG_PT000170",
         "BMG_PT041956",
         "STRING",
         "Protein-Protein"
        ],
        [
         "14",
         "BMG_ED_PTPT00000015",
         "BMG_PT000170",
         "BMG_PT041957",
         "STRING",
         "Protein-Protein"
        ],
        [
         "15",
         "BMG_ED_PTPT00000016",
         "BMG_PT000170",
         "BMG_PT041994",
         "STRING",
         "Protein-Protein"
        ],
        [
         "16",
         "BMG_ED_PTPT00000017",
         "BMG_PT000170",
         "BMG_PT041995",
         "STRING",
         "Protein-Protein"
        ],
        [
         "17",
         "BMG_ED_PTPT00000018",
         "BMG_PT000170",
         "BMG_PT041997",
         "STRING",
         "Protein-Protein"
        ],
        [
         "18",
         "BMG_ED_PTPT00000019",
         "BMG_PT000170",
         "BMG_PT041998",
         "STRING",
         "Protein-Protein"
        ],
        [
         "19",
         "BMG_ED_PTPT00000020",
         "BMG_PT000170",
         "BMG_PT042001",
         "STRING",
         "Protein-Protein"
        ],
        [
         "20",
         "BMG_ED_PTPT00000021",
         "BMG_PT000170",
         "BMG_PT042048",
         "STRING",
         "Protein-Protein"
        ],
        [
         "21",
         "BMG_ED_PTPT00000022",
         "BMG_PT000170",
         "BMG_PT042402",
         "STRING",
         "Protein-Protein"
        ],
        [
         "22",
         "BMG_ED_PTPT00000023",
         "BMG_PT000170",
         "BMG_PT043932",
         "STRING",
         "Protein-Protein"
        ],
        [
         "23",
         "BMG_ED_PTPT00000024",
         "BMG_PT000170",
         "BMG_PT046328",
         "STRING",
         "Protein-Protein"
        ],
        [
         "24",
         "BMG_ED_PTPT00000025",
         "BMG_PT000170",
         "BMG_PT079946",
         "STRING",
         "Protein-Protein"
        ],
        [
         "25",
         "BMG_ED_PTPT00000026",
         "BMG_PT000170",
         "BMG_PT080678",
         "STRING",
         "Protein-Protein"
        ],
        [
         "26",
         "BMG_ED_PTPT00000027",
         "BMG_PT000170",
         "BMG_PT084402",
         "STRING",
         "Protein-Protein"
        ],
        [
         "27",
         "BMG_ED_PTPT00000028",
         "BMG_PT000170",
         "BMG_PT086562",
         "STRING",
         "Protein-Protein"
        ],
        [
         "28",
         "BMG_ED_PTPT00000029",
         "BMG_PT000170",
         "BMG_PT087354",
         "STRING",
         "Protein-Protein"
        ],
        [
         "29",
         "BMG_ED_PTPT00000030",
         "BMG_PT000170",
         "BMG_PT091524",
         "STRING",
         "Protein-Protein"
        ],
        [
         "30",
         "BMG_ED_PTPT00000031",
         "BMG_PT000170",
         "BMG_PT091840",
         "STRING",
         "Protein-Protein"
        ],
        [
         "31",
         "BMG_ED_PTPT00000032",
         "BMG_PT000170",
         "BMG_PT097448",
         "STRING",
         "Protein-Protein"
        ],
        [
         "32",
         "BMG_ED_PTPT00000033",
         "BMG_PT000170",
         "BMG_PT099049",
         "STRING",
         "Protein-Protein"
        ],
        [
         "33",
         "BMG_ED_PTPT00000034",
         "BMG_PT000170",
         "BMG_PT099056",
         "STRING",
         "Protein-Protein"
        ],
        [
         "34",
         "BMG_ED_PTPT00000035",
         "BMG_PT000170",
         "BMG_PT099435",
         "STRING",
         "Protein-Protein"
        ],
        [
         "35",
         "BMG_ED_PTPT00000036",
         "BMG_PT000170",
         "BMG_PT100101",
         "STRING",
         "Protein-Protein"
        ],
        [
         "36",
         "BMG_ED_PTPT00000037",
         "BMG_PT000170",
         "BMG_PT100121",
         "STRING",
         "Protein-Protein"
        ],
        [
         "37",
         "BMG_ED_PTPT00000038",
         "BMG_PT000170",
         "BMG_PT105370",
         "STRING",
         "Protein-Protein"
        ],
        [
         "38",
         "BMG_ED_PTPT00000039",
         "BMG_PT000170",
         "BMG_PT107955",
         "STRING",
         "Protein-Protein"
        ],
        [
         "39",
         "BMG_ED_PTPT00000040",
         "BMG_PT000774",
         "BMG_PT009206",
         "STRING",
         "Protein-Protein"
        ],
        [
         "40",
         "BMG_ED_PTPT00000041",
         "BMG_PT000774",
         "BMG_PT010031",
         "STRING",
         "Protein-Protein"
        ],
        [
         "41",
         "BMG_ED_PTPT00000042",
         "BMG_PT000774",
         "BMG_PT010537",
         "STRING",
         "Protein-Protein"
        ],
        [
         "42",
         "BMG_ED_PTPT00000043",
         "BMG_PT000774",
         "BMG_PT024647",
         "STRING",
         "Protein-Protein"
        ],
        [
         "43",
         "BMG_ED_PTPT00000044",
         "BMG_PT000774",
         "BMG_PT032868",
         "STRING",
         "Protein-Protein"
        ],
        [
         "44",
         "BMG_ED_PTPT00000045",
         "BMG_PT000774",
         "BMG_PT033189",
         "STRING",
         "Protein-Protein"
        ],
        [
         "45",
         "BMG_ED_PTPT00000046",
         "BMG_PT000774",
         "BMG_PT033757",
         "STRING",
         "Protein-Protein"
        ],
        [
         "46",
         "BMG_ED_PTPT00000047",
         "BMG_PT000774",
         "BMG_PT033920",
         "STRING",
         "Protein-Protein"
        ],
        [
         "47",
         "BMG_ED_PTPT00000048",
         "BMG_PT000774",
         "BMG_PT034019",
         "STRING",
         "Protein-Protein"
        ],
        [
         "48",
         "BMG_ED_PTPT00000049",
         "BMG_PT000774",
         "BMG_PT034235",
         "STRING",
         "Protein-Protein"
        ],
        [
         "49",
         "BMG_ED_PTPT00000050",
         "BMG_PT000774",
         "BMG_PT034250",
         "STRING",
         "Protein-Protein"
        ]
       ],
       "shape": {
        "columns": 5,
        "rows": 16484820
       }
      },
      "text/html": [
       "<div>\n",
       "<style scoped>\n",
       "    .dataframe tbody tr th:only-of-type {\n",
       "        vertical-align: middle;\n",
       "    }\n",
       "\n",
       "    .dataframe tbody tr th {\n",
       "        vertical-align: top;\n",
       "    }\n",
       "\n",
       "    .dataframe thead th {\n",
       "        text-align: right;\n",
       "    }\n",
       "</style>\n",
       "<table border=\"1\" class=\"dataframe\">\n",
       "  <thead>\n",
       "    <tr style=\"text-align: right;\">\n",
       "      <th></th>\n",
       "      <th>BioMedGraphica_ID</th>\n",
       "      <th>From_ID</th>\n",
       "      <th>To_ID</th>\n",
       "      <th>Source</th>\n",
       "      <th>Type</th>\n",
       "    </tr>\n",
       "  </thead>\n",
       "  <tbody>\n",
       "    <tr>\n",
       "      <th>0</th>\n",
       "      <td>BMG_ED_PTPT00000001</td>\n",
       "      <td>BMG_PT000170</td>\n",
       "      <td>BMG_PT033607</td>\n",
       "      <td>STRING</td>\n",
       "      <td>Protein-Protein</td>\n",
       "    </tr>\n",
       "    <tr>\n",
       "      <th>1</th>\n",
       "      <td>BMG_ED_PTPT00000002</td>\n",
       "      <td>BMG_PT000170</td>\n",
       "      <td>BMG_PT035920</td>\n",
       "      <td>STRING</td>\n",
       "      <td>Protein-Protein</td>\n",
       "    </tr>\n",
       "    <tr>\n",
       "      <th>2</th>\n",
       "      <td>BMG_ED_PTPT00000003</td>\n",
       "      <td>BMG_PT000170</td>\n",
       "      <td>BMG_PT036346</td>\n",
       "      <td>STRING</td>\n",
       "      <td>Protein-Protein</td>\n",
       "    </tr>\n",
       "    <tr>\n",
       "      <th>3</th>\n",
       "      <td>BMG_ED_PTPT00000004</td>\n",
       "      <td>BMG_PT000170</td>\n",
       "      <td>BMG_PT038694</td>\n",
       "      <td>STRING</td>\n",
       "      <td>Protein-Protein</td>\n",
       "    </tr>\n",
       "    <tr>\n",
       "      <th>4</th>\n",
       "      <td>BMG_ED_PTPT00000005</td>\n",
       "      <td>BMG_PT000170</td>\n",
       "      <td>BMG_PT040925</td>\n",
       "      <td>STRING</td>\n",
       "      <td>Protein-Protein</td>\n",
       "    </tr>\n",
       "    <tr>\n",
       "      <th>...</th>\n",
       "      <td>...</td>\n",
       "      <td>...</td>\n",
       "      <td>...</td>\n",
       "      <td>...</td>\n",
       "      <td>...</td>\n",
       "    </tr>\n",
       "    <tr>\n",
       "      <th>16484815</th>\n",
       "      <td>BMG_ED_PTPT16484816</td>\n",
       "      <td>BMG_PT173978</td>\n",
       "      <td>BMG_PT169819</td>\n",
       "      <td>KEGG</td>\n",
       "      <td>Protein-Protein</td>\n",
       "    </tr>\n",
       "    <tr>\n",
       "      <th>16484816</th>\n",
       "      <td>BMG_ED_PTPT16484817</td>\n",
       "      <td>BMG_PT173978</td>\n",
       "      <td>BMG_PT172701</td>\n",
       "      <td>KEGG</td>\n",
       "      <td>Protein-Protein</td>\n",
       "    </tr>\n",
       "    <tr>\n",
       "      <th>16484817</th>\n",
       "      <td>BMG_ED_PTPT16484818</td>\n",
       "      <td>BMG_PT173978</td>\n",
       "      <td>BMG_PT173384</td>\n",
       "      <td>KEGG</td>\n",
       "      <td>Protein-Protein</td>\n",
       "    </tr>\n",
       "    <tr>\n",
       "      <th>16484818</th>\n",
       "      <td>BMG_ED_PTPT16484819</td>\n",
       "      <td>BMG_PT173978</td>\n",
       "      <td>BMG_PT173385</td>\n",
       "      <td>KEGG</td>\n",
       "      <td>Protein-Protein</td>\n",
       "    </tr>\n",
       "    <tr>\n",
       "      <th>16484819</th>\n",
       "      <td>BMG_ED_PTPT16484820</td>\n",
       "      <td>BMG_PT173978</td>\n",
       "      <td>BMG_PT173386</td>\n",
       "      <td>KEGG</td>\n",
       "      <td>Protein-Protein</td>\n",
       "    </tr>\n",
       "  </tbody>\n",
       "</table>\n",
       "<p>16484820 rows × 5 columns</p>\n",
       "</div>"
      ],
      "text/plain": [
       "            BioMedGraphica_ID       From_ID         To_ID  Source  \\\n",
       "0         BMG_ED_PTPT00000001  BMG_PT000170  BMG_PT033607  STRING   \n",
       "1         BMG_ED_PTPT00000002  BMG_PT000170  BMG_PT035920  STRING   \n",
       "2         BMG_ED_PTPT00000003  BMG_PT000170  BMG_PT036346  STRING   \n",
       "3         BMG_ED_PTPT00000004  BMG_PT000170  BMG_PT038694  STRING   \n",
       "4         BMG_ED_PTPT00000005  BMG_PT000170  BMG_PT040925  STRING   \n",
       "...                       ...           ...           ...     ...   \n",
       "16484815  BMG_ED_PTPT16484816  BMG_PT173978  BMG_PT169819    KEGG   \n",
       "16484816  BMG_ED_PTPT16484817  BMG_PT173978  BMG_PT172701    KEGG   \n",
       "16484817  BMG_ED_PTPT16484818  BMG_PT173978  BMG_PT173384    KEGG   \n",
       "16484818  BMG_ED_PTPT16484819  BMG_PT173978  BMG_PT173385    KEGG   \n",
       "16484819  BMG_ED_PTPT16484820  BMG_PT173978  BMG_PT173386    KEGG   \n",
       "\n",
       "                     Type  \n",
       "0         Protein-Protein  \n",
       "1         Protein-Protein  \n",
       "2         Protein-Protein  \n",
       "3         Protein-Protein  \n",
       "4         Protein-Protein  \n",
       "...                   ...  \n",
       "16484815  Protein-Protein  \n",
       "16484816  Protein-Protein  \n",
       "16484817  Protein-Protein  \n",
       "16484818  Protein-Protein  \n",
       "16484819  Protein-Protein  \n",
       "\n",
       "[16484820 rows x 5 columns]"
      ]
     },
     "execution_count": 25,
     "metadata": {},
     "output_type": "execute_result"
    }
   ],
   "source": [
    "biomedgraphica_ppi['Type'] = 'Protein-Protein'\n",
    "max_length = len(str(len(biomedgraphica_ppi)))\n",
    "biomedgraphica_ppi['BioMedGraphica_ID'] = ['BMG_ED_PTPT' + str(i).zfill(max_length) for i in range(1, len(biomedgraphica_ppi) + 1)]\n",
    "columns = ['BioMedGraphica_ID'] + [col for col in biomedgraphica_ppi.columns if col != 'BioMedGraphica_ID']  # re-order columns\n",
    "biomedgraphica_ppi = biomedgraphica_ppi[columns]\n",
    "biomedgraphica_ppi"
   ]
  },
  {
   "cell_type": "code",
   "execution_count": 26,
   "metadata": {},
   "outputs": [
    {
     "name": "stdout",
     "output_type": "stream",
     "text": [
      "Data has been saved to D:\\RA\\BMG\\BioMedGraphica\\Relation\\Protein-Protein\\BioMedGraphica_Protein_Protein.csv\n"
     ]
    }
   ],
   "source": [
    "import os\n",
    "from pathlib import Path\n",
    "\n",
    "# get the current working directory\n",
    "current_working_dir = Path(os.getcwd()).resolve()\n",
    "\n",
    "# get the output directory\n",
    "grandparent_dir = current_working_dir.parent.parent.parent\n",
    "\n",
    "target_folder = grandparent_dir / 'BioMedGraphica' / 'Relation' / 'Protein-Protein'\n",
    "if not target_folder.exists():\n",
    "    target_folder.mkdir(parents=True)\n",
    "    print(f\"Folder {target_folder} has been created.\")\n",
    "\n",
    "output_file_path = target_folder / 'BioMedGraphica_Protein_Protein.csv'\n",
    "biomedgraphica_ppi.to_csv(output_file_path, index=False)\n",
    "print(f\"Data has been saved to {output_file_path}\")"
   ]
  }
 ],
 "metadata": {
  "kernelspec": {
   "display_name": "base",
   "language": "python",
   "name": "python3"
  },
  "language_info": {
   "codemirror_mode": {
    "name": "ipython",
    "version": 3
   },
   "file_extension": ".py",
   "mimetype": "text/x-python",
   "name": "python",
   "nbconvert_exporter": "python",
   "pygments_lexer": "ipython3",
   "version": "3.9.19"
  }
 },
 "nbformat": 4,
 "nbformat_minor": 2
}
