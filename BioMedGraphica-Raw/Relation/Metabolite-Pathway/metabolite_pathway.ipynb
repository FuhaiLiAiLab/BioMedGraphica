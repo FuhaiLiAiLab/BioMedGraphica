{
 "cells": [
  {
   "cell_type": "markdown",
   "metadata": {},
   "source": [
    "### KEGG"
   ]
  },
  {
   "cell_type": "code",
   "execution_count": 1,
   "metadata": {},
   "outputs": [
    {
     "name": "stdout",
     "output_type": "stream",
     "text": [
      "Saved 'compound_pathway_links.csv'\n",
      "     compound        pathway\n",
      "0  cpd:C00022  path:map00010\n",
      "1  cpd:C00024  path:map00010\n",
      "2  cpd:C00031  path:map00010\n",
      "3  cpd:C00033  path:map00010\n",
      "4  cpd:C00036  path:map00010\n"
     ]
    }
   ],
   "source": [
    "import requests\n",
    "import pandas as pd\n",
    "\n",
    "url = \"https://rest.kegg.jp/link/pathway/cpd\"\n",
    "response = requests.get(url)\n",
    "\n",
    "if response.status_code == 200:\n",
    "    data = response.text.strip().split('\\n')\n",
    "    rows = [line.split('\\t') for line in data]\n",
    "    df = pd.DataFrame(rows, columns=[\"compound\", \"pathway\"])\n",
    "    \n",
    "    df.to_csv(\"compound_pathway_links.csv\", index=False)\n",
    "    print(\"Saved 'compound_pathway_links.csv'\")\n",
    "    print(df.head())\n",
    "else:\n",
    "    print(f\"Failed: {response.status_code}\")"
   ]
  },
  {
   "cell_type": "code",
   "execution_count": 1,
   "metadata": {},
   "outputs": [
    {
     "data": {
      "application/vnd.microsoft.datawrangler.viewer.v0+json": {
       "columns": [
        {
         "name": "index",
         "rawType": "int64",
         "type": "integer"
        },
        {
         "name": "compound",
         "rawType": "object",
         "type": "string"
        },
        {
         "name": "pathway",
         "rawType": "object",
         "type": "string"
        },
        {
         "name": "clean_compound",
         "rawType": "object",
         "type": "string"
        },
        {
         "name": "clean_pathway",
         "rawType": "object",
         "type": "string"
        }
       ],
       "conversionMethod": "pd.DataFrame",
       "ref": "6b481bd1-32f5-447f-9e98-9dfdf61baa2f",
       "rows": [
        [
         "0",
         "cpd:C00022",
         "path:map00010",
         "C00022",
         "00010"
        ],
        [
         "1",
         "cpd:C00024",
         "path:map00010",
         "C00024",
         "00010"
        ],
        [
         "2",
         "cpd:C00031",
         "path:map00010",
         "C00031",
         "00010"
        ],
        [
         "3",
         "cpd:C00033",
         "path:map00010",
         "C00033",
         "00010"
        ],
        [
         "4",
         "cpd:C00036",
         "path:map00010",
         "C00036",
         "00010"
        ],
        [
         "5",
         "cpd:C00068",
         "path:map00010",
         "C00068",
         "00010"
        ],
        [
         "6",
         "cpd:C00074",
         "path:map00010",
         "C00074",
         "00010"
        ],
        [
         "7",
         "cpd:C00084",
         "path:map00010",
         "C00084",
         "00010"
        ],
        [
         "8",
         "cpd:C00085",
         "path:map00010",
         "C00085",
         "00010"
        ],
        [
         "9",
         "cpd:C00103",
         "path:map00010",
         "C00103",
         "00010"
        ],
        [
         "10",
         "cpd:C00111",
         "path:map00010",
         "C00111",
         "00010"
        ],
        [
         "11",
         "cpd:C00118",
         "path:map00010",
         "C00118",
         "00010"
        ],
        [
         "12",
         "cpd:C00186",
         "path:map00010",
         "C00186",
         "00010"
        ],
        [
         "13",
         "cpd:C00197",
         "path:map00010",
         "C00197",
         "00010"
        ],
        [
         "14",
         "cpd:C00221",
         "path:map00010",
         "C00221",
         "00010"
        ],
        [
         "15",
         "cpd:C00236",
         "path:map00010",
         "C00236",
         "00010"
        ],
        [
         "16",
         "cpd:C00267",
         "path:map00010",
         "C00267",
         "00010"
        ],
        [
         "17",
         "cpd:C00354",
         "path:map00010",
         "C00354",
         "00010"
        ],
        [
         "18",
         "cpd:C00469",
         "path:map00010",
         "C00469",
         "00010"
        ],
        [
         "19",
         "cpd:C00631",
         "path:map00010",
         "C00631",
         "00010"
        ],
        [
         "20",
         "cpd:C00668",
         "path:map00010",
         "C00668",
         "00010"
        ],
        [
         "21",
         "cpd:C01159",
         "path:map00010",
         "C01159",
         "00010"
        ],
        [
         "22",
         "cpd:C01172",
         "path:map00010",
         "C01172",
         "00010"
        ],
        [
         "23",
         "cpd:C01451",
         "path:map00010",
         "C01451",
         "00010"
        ],
        [
         "24",
         "cpd:C05125",
         "path:map00010",
         "C05125",
         "00010"
        ],
        [
         "25",
         "cpd:C06186",
         "path:map00010",
         "C06186",
         "00010"
        ],
        [
         "26",
         "cpd:C06187",
         "path:map00010",
         "C06187",
         "00010"
        ],
        [
         "27",
         "cpd:C06188",
         "path:map00010",
         "C06188",
         "00010"
        ],
        [
         "28",
         "cpd:C15972",
         "path:map00010",
         "C15972",
         "00010"
        ],
        [
         "29",
         "cpd:C15973",
         "path:map00010",
         "C15973",
         "00010"
        ],
        [
         "30",
         "cpd:C16255",
         "path:map00010",
         "C16255",
         "00010"
        ],
        [
         "31",
         "cpd:C00022",
         "path:map00020",
         "C00022",
         "00020"
        ],
        [
         "32",
         "cpd:C00024",
         "path:map00020",
         "C00024",
         "00020"
        ],
        [
         "33",
         "cpd:C00026",
         "path:map00020",
         "C00026",
         "00020"
        ],
        [
         "34",
         "cpd:C00036",
         "path:map00020",
         "C00036",
         "00020"
        ],
        [
         "35",
         "cpd:C00042",
         "path:map00020",
         "C00042",
         "00020"
        ],
        [
         "36",
         "cpd:C00068",
         "path:map00020",
         "C00068",
         "00020"
        ],
        [
         "37",
         "cpd:C00074",
         "path:map00020",
         "C00074",
         "00020"
        ],
        [
         "38",
         "cpd:C00091",
         "path:map00020",
         "C00091",
         "00020"
        ],
        [
         "39",
         "cpd:C00122",
         "path:map00020",
         "C00122",
         "00020"
        ],
        [
         "40",
         "cpd:C00149",
         "path:map00020",
         "C00149",
         "00020"
        ],
        [
         "41",
         "cpd:C00158",
         "path:map00020",
         "C00158",
         "00020"
        ],
        [
         "42",
         "cpd:C00311",
         "path:map00020",
         "C00311",
         "00020"
        ],
        [
         "43",
         "cpd:C00417",
         "path:map00020",
         "C00417",
         "00020"
        ],
        [
         "44",
         "cpd:C05125",
         "path:map00020",
         "C05125",
         "00020"
        ],
        [
         "45",
         "cpd:C05379",
         "path:map00020",
         "C05379",
         "00020"
        ],
        [
         "46",
         "cpd:C05381",
         "path:map00020",
         "C05381",
         "00020"
        ],
        [
         "47",
         "cpd:C15972",
         "path:map00020",
         "C15972",
         "00020"
        ],
        [
         "48",
         "cpd:C15973",
         "path:map00020",
         "C15973",
         "00020"
        ],
        [
         "49",
         "cpd:C16254",
         "path:map00020",
         "C16254",
         "00020"
        ]
       ],
       "shape": {
        "columns": 4,
        "rows": 19148
       }
      },
      "text/html": [
       "<div>\n",
       "<style scoped>\n",
       "    .dataframe tbody tr th:only-of-type {\n",
       "        vertical-align: middle;\n",
       "    }\n",
       "\n",
       "    .dataframe tbody tr th {\n",
       "        vertical-align: top;\n",
       "    }\n",
       "\n",
       "    .dataframe thead th {\n",
       "        text-align: right;\n",
       "    }\n",
       "</style>\n",
       "<table border=\"1\" class=\"dataframe\">\n",
       "  <thead>\n",
       "    <tr style=\"text-align: right;\">\n",
       "      <th></th>\n",
       "      <th>compound</th>\n",
       "      <th>pathway</th>\n",
       "      <th>clean_compound</th>\n",
       "      <th>clean_pathway</th>\n",
       "    </tr>\n",
       "  </thead>\n",
       "  <tbody>\n",
       "    <tr>\n",
       "      <th>0</th>\n",
       "      <td>cpd:C00022</td>\n",
       "      <td>path:map00010</td>\n",
       "      <td>C00022</td>\n",
       "      <td>00010</td>\n",
       "    </tr>\n",
       "    <tr>\n",
       "      <th>1</th>\n",
       "      <td>cpd:C00024</td>\n",
       "      <td>path:map00010</td>\n",
       "      <td>C00024</td>\n",
       "      <td>00010</td>\n",
       "    </tr>\n",
       "    <tr>\n",
       "      <th>2</th>\n",
       "      <td>cpd:C00031</td>\n",
       "      <td>path:map00010</td>\n",
       "      <td>C00031</td>\n",
       "      <td>00010</td>\n",
       "    </tr>\n",
       "    <tr>\n",
       "      <th>3</th>\n",
       "      <td>cpd:C00033</td>\n",
       "      <td>path:map00010</td>\n",
       "      <td>C00033</td>\n",
       "      <td>00010</td>\n",
       "    </tr>\n",
       "    <tr>\n",
       "      <th>4</th>\n",
       "      <td>cpd:C00036</td>\n",
       "      <td>path:map00010</td>\n",
       "      <td>C00036</td>\n",
       "      <td>00010</td>\n",
       "    </tr>\n",
       "    <tr>\n",
       "      <th>...</th>\n",
       "      <td>...</td>\n",
       "      <td>...</td>\n",
       "      <td>...</td>\n",
       "      <td>...</td>\n",
       "    </tr>\n",
       "    <tr>\n",
       "      <th>19143</th>\n",
       "      <td>cpd:C13776</td>\n",
       "      <td>path:map07232</td>\n",
       "      <td>C13776</td>\n",
       "      <td>07232</td>\n",
       "    </tr>\n",
       "    <tr>\n",
       "      <th>19144</th>\n",
       "      <td>cpd:C13777</td>\n",
       "      <td>path:map07232</td>\n",
       "      <td>C13777</td>\n",
       "      <td>07232</td>\n",
       "    </tr>\n",
       "    <tr>\n",
       "      <th>19145</th>\n",
       "      <td>cpd:C13820</td>\n",
       "      <td>path:map07232</td>\n",
       "      <td>C13820</td>\n",
       "      <td>07232</td>\n",
       "    </tr>\n",
       "    <tr>\n",
       "      <th>19146</th>\n",
       "      <td>cpd:C07575</td>\n",
       "      <td>path:map07235</td>\n",
       "      <td>C07575</td>\n",
       "      <td>07235</td>\n",
       "    </tr>\n",
       "    <tr>\n",
       "      <th>19147</th>\n",
       "      <td>cpd:C13737</td>\n",
       "      <td>path:map07235</td>\n",
       "      <td>C13737</td>\n",
       "      <td>07235</td>\n",
       "    </tr>\n",
       "  </tbody>\n",
       "</table>\n",
       "<p>19148 rows × 4 columns</p>\n",
       "</div>"
      ],
      "text/plain": [
       "         compound        pathway clean_compound clean_pathway\n",
       "0      cpd:C00022  path:map00010         C00022         00010\n",
       "1      cpd:C00024  path:map00010         C00024         00010\n",
       "2      cpd:C00031  path:map00010         C00031         00010\n",
       "3      cpd:C00033  path:map00010         C00033         00010\n",
       "4      cpd:C00036  path:map00010         C00036         00010\n",
       "...           ...            ...            ...           ...\n",
       "19143  cpd:C13776  path:map07232         C13776         07232\n",
       "19144  cpd:C13777  path:map07232         C13777         07232\n",
       "19145  cpd:C13820  path:map07232         C13820         07232\n",
       "19146  cpd:C07575  path:map07235         C07575         07235\n",
       "19147  cpd:C13737  path:map07235         C13737         07235\n",
       "\n",
       "[19148 rows x 4 columns]"
      ]
     },
     "execution_count": 1,
     "metadata": {},
     "output_type": "execute_result"
    }
   ],
   "source": [
    "# Download Link: API\n",
    "# Download Date: 2025-03-21\n",
    "# Download Version: 2025-03-21\n",
    "import pandas as pd\n",
    "\n",
    "comp_pathway = pd.read_csv('compound_pathway_links.csv')\n",
    "\n",
    "comp_pathway['clean_compound'] = comp_pathway['compound'].str.extract(r'(C\\d{5})')\n",
    "comp_pathway['clean_pathway'] = comp_pathway['pathway'].str.extract(r'(\\d{5})')\n",
    "comp_pathway"
   ]
  },
  {
   "cell_type": "markdown",
   "metadata": {},
   "source": [
    "### BioMedGraphica ID"
   ]
  },
  {
   "cell_type": "code",
   "execution_count": 2,
   "metadata": {},
   "outputs": [],
   "source": [
    "import pandas as pd\n",
    "import os\n",
    "from pathlib import Path\n",
    "\n",
    "current_working_dir = Path(os.getcwd()).resolve()\n",
    "grandparent_dir = current_working_dir.parent.parent.parent\n",
    "target_dir_metabolite = grandparent_dir / 'BioMedGraphica' / 'Entity' / 'Metabolite' / 'BioMedGraphica_Metabolite.csv'\n",
    "target_dir_pathway = grandparent_dir / 'BioMedGraphica' / 'Entity' / 'Pathway' / 'BioMedGraphica_Pathway.csv'\n",
    "biomedgraphica_metabolite = pd.read_csv(target_dir_metabolite, dtype=str)\n",
    "biomedgraphica_pathway = pd.read_csv(target_dir_pathway, dtype=str)"
   ]
  },
  {
   "cell_type": "markdown",
   "metadata": {},
   "source": [
    "### KEGG Mapping"
   ]
  },
  {
   "cell_type": "code",
   "execution_count": 3,
   "metadata": {},
   "outputs": [
    {
     "data": {
      "application/vnd.microsoft.datawrangler.viewer.v0+json": {
       "columns": [
        {
         "name": "index",
         "rawType": "int64",
         "type": "integer"
        },
        {
         "name": "clean_compound",
         "rawType": "object",
         "type": "string"
        },
        {
         "name": "clean_pathway",
         "rawType": "object",
         "type": "string"
        },
        {
         "name": "To_ID",
         "rawType": "object",
         "type": "unknown"
        }
       ],
       "conversionMethod": "pd.DataFrame",
       "ref": "eb07d72d-0cc3-446c-889c-a3faa493d672",
       "rows": [
        [
         "0",
         "C00022",
         "00010",
         "BMG_PW0025"
        ],
        [
         "1",
         "C00022",
         "00010",
         "BMG_PW0637"
        ],
        [
         "2",
         "C00022",
         "00010",
         "BMG_PW0638"
        ],
        [
         "3",
         "C00024",
         "00010",
         "BMG_PW0025"
        ],
        [
         "4",
         "C00024",
         "00010",
         "BMG_PW0637"
        ],
        [
         "5",
         "C00024",
         "00010",
         "BMG_PW0638"
        ],
        [
         "6",
         "C00031",
         "00010",
         "BMG_PW0025"
        ],
        [
         "7",
         "C00031",
         "00010",
         "BMG_PW0637"
        ],
        [
         "8",
         "C00031",
         "00010",
         "BMG_PW0638"
        ],
        [
         "9",
         "C00033",
         "00010",
         "BMG_PW0025"
        ],
        [
         "10",
         "C00033",
         "00010",
         "BMG_PW0637"
        ],
        [
         "11",
         "C00033",
         "00010",
         "BMG_PW0638"
        ],
        [
         "12",
         "C00036",
         "00010",
         "BMG_PW0025"
        ],
        [
         "13",
         "C00036",
         "00010",
         "BMG_PW0637"
        ],
        [
         "14",
         "C00036",
         "00010",
         "BMG_PW0638"
        ],
        [
         "15",
         "C00068",
         "00010",
         "BMG_PW0025"
        ],
        [
         "16",
         "C00068",
         "00010",
         "BMG_PW0637"
        ],
        [
         "17",
         "C00068",
         "00010",
         "BMG_PW0638"
        ],
        [
         "18",
         "C00074",
         "00010",
         "BMG_PW0025"
        ],
        [
         "19",
         "C00074",
         "00010",
         "BMG_PW0637"
        ],
        [
         "20",
         "C00074",
         "00010",
         "BMG_PW0638"
        ],
        [
         "21",
         "C00084",
         "00010",
         "BMG_PW0025"
        ],
        [
         "22",
         "C00084",
         "00010",
         "BMG_PW0637"
        ],
        [
         "23",
         "C00084",
         "00010",
         "BMG_PW0638"
        ],
        [
         "24",
         "C00085",
         "00010",
         "BMG_PW0025"
        ],
        [
         "25",
         "C00085",
         "00010",
         "BMG_PW0637"
        ],
        [
         "26",
         "C00085",
         "00010",
         "BMG_PW0638"
        ],
        [
         "27",
         "C00103",
         "00010",
         "BMG_PW0025"
        ],
        [
         "28",
         "C00103",
         "00010",
         "BMG_PW0637"
        ],
        [
         "29",
         "C00103",
         "00010",
         "BMG_PW0638"
        ],
        [
         "30",
         "C00111",
         "00010",
         "BMG_PW0025"
        ],
        [
         "31",
         "C00111",
         "00010",
         "BMG_PW0637"
        ],
        [
         "32",
         "C00111",
         "00010",
         "BMG_PW0638"
        ],
        [
         "33",
         "C00118",
         "00010",
         "BMG_PW0025"
        ],
        [
         "34",
         "C00118",
         "00010",
         "BMG_PW0637"
        ],
        [
         "35",
         "C00118",
         "00010",
         "BMG_PW0638"
        ],
        [
         "36",
         "C00186",
         "00010",
         "BMG_PW0025"
        ],
        [
         "37",
         "C00186",
         "00010",
         "BMG_PW0637"
        ],
        [
         "38",
         "C00186",
         "00010",
         "BMG_PW0638"
        ],
        [
         "39",
         "C00197",
         "00010",
         "BMG_PW0025"
        ],
        [
         "40",
         "C00197",
         "00010",
         "BMG_PW0637"
        ],
        [
         "41",
         "C00197",
         "00010",
         "BMG_PW0638"
        ],
        [
         "42",
         "C00221",
         "00010",
         "BMG_PW0025"
        ],
        [
         "43",
         "C00221",
         "00010",
         "BMG_PW0637"
        ],
        [
         "44",
         "C00221",
         "00010",
         "BMG_PW0638"
        ],
        [
         "45",
         "C00236",
         "00010",
         "BMG_PW0025"
        ],
        [
         "46",
         "C00236",
         "00010",
         "BMG_PW0637"
        ],
        [
         "47",
         "C00236",
         "00010",
         "BMG_PW0638"
        ],
        [
         "48",
         "C00267",
         "00010",
         "BMG_PW0025"
        ],
        [
         "49",
         "C00267",
         "00010",
         "BMG_PW0637"
        ]
       ],
       "shape": {
        "columns": 3,
        "rows": 19622
       }
      },
      "text/html": [
       "<div>\n",
       "<style scoped>\n",
       "    .dataframe tbody tr th:only-of-type {\n",
       "        vertical-align: middle;\n",
       "    }\n",
       "\n",
       "    .dataframe tbody tr th {\n",
       "        vertical-align: top;\n",
       "    }\n",
       "\n",
       "    .dataframe thead th {\n",
       "        text-align: right;\n",
       "    }\n",
       "</style>\n",
       "<table border=\"1\" class=\"dataframe\">\n",
       "  <thead>\n",
       "    <tr style=\"text-align: right;\">\n",
       "      <th></th>\n",
       "      <th>clean_compound</th>\n",
       "      <th>clean_pathway</th>\n",
       "      <th>To_ID</th>\n",
       "    </tr>\n",
       "  </thead>\n",
       "  <tbody>\n",
       "    <tr>\n",
       "      <th>0</th>\n",
       "      <td>C00022</td>\n",
       "      <td>00010</td>\n",
       "      <td>BMG_PW0025</td>\n",
       "    </tr>\n",
       "    <tr>\n",
       "      <th>1</th>\n",
       "      <td>C00022</td>\n",
       "      <td>00010</td>\n",
       "      <td>BMG_PW0637</td>\n",
       "    </tr>\n",
       "    <tr>\n",
       "      <th>2</th>\n",
       "      <td>C00022</td>\n",
       "      <td>00010</td>\n",
       "      <td>BMG_PW0638</td>\n",
       "    </tr>\n",
       "    <tr>\n",
       "      <th>3</th>\n",
       "      <td>C00024</td>\n",
       "      <td>00010</td>\n",
       "      <td>BMG_PW0025</td>\n",
       "    </tr>\n",
       "    <tr>\n",
       "      <th>4</th>\n",
       "      <td>C00024</td>\n",
       "      <td>00010</td>\n",
       "      <td>BMG_PW0637</td>\n",
       "    </tr>\n",
       "    <tr>\n",
       "      <th>...</th>\n",
       "      <td>...</td>\n",
       "      <td>...</td>\n",
       "      <td>...</td>\n",
       "    </tr>\n",
       "    <tr>\n",
       "      <th>19617</th>\n",
       "      <td>C13776</td>\n",
       "      <td>07232</td>\n",
       "      <td>NaN</td>\n",
       "    </tr>\n",
       "    <tr>\n",
       "      <th>19618</th>\n",
       "      <td>C13777</td>\n",
       "      <td>07232</td>\n",
       "      <td>NaN</td>\n",
       "    </tr>\n",
       "    <tr>\n",
       "      <th>19619</th>\n",
       "      <td>C13820</td>\n",
       "      <td>07232</td>\n",
       "      <td>NaN</td>\n",
       "    </tr>\n",
       "    <tr>\n",
       "      <th>19620</th>\n",
       "      <td>C07575</td>\n",
       "      <td>07235</td>\n",
       "      <td>NaN</td>\n",
       "    </tr>\n",
       "    <tr>\n",
       "      <th>19621</th>\n",
       "      <td>C13737</td>\n",
       "      <td>07235</td>\n",
       "      <td>NaN</td>\n",
       "    </tr>\n",
       "  </tbody>\n",
       "</table>\n",
       "<p>19622 rows × 3 columns</p>\n",
       "</div>"
      ],
      "text/plain": [
       "      clean_compound clean_pathway       To_ID\n",
       "0             C00022         00010  BMG_PW0025\n",
       "1             C00022         00010  BMG_PW0637\n",
       "2             C00022         00010  BMG_PW0638\n",
       "3             C00024         00010  BMG_PW0025\n",
       "4             C00024         00010  BMG_PW0637\n",
       "...              ...           ...         ...\n",
       "19617         C13776         07232         NaN\n",
       "19618         C13777         07232         NaN\n",
       "19619         C13820         07232         NaN\n",
       "19620         C07575         07235         NaN\n",
       "19621         C13737         07235         NaN\n",
       "\n",
       "[19622 rows x 3 columns]"
      ]
     },
     "execution_count": 3,
     "metadata": {},
     "output_type": "execute_result"
    }
   ],
   "source": [
    "biomedgraphica_pathway['clean_pathway'] = biomedgraphica_pathway['KEGG_ID'].str.extract(r'(\\d{5})')\n",
    "pathway = pd.merge(comp_pathway, biomedgraphica_pathway,on='clean_pathway',how='left')\n",
    "pathway = pathway[['clean_compound', 'clean_pathway','BioMedGraphica_ID']]\n",
    "pathway = pathway.rename(columns={'BioMedGraphica_ID': 'To_ID'})\n",
    "pathway"
   ]
  },
  {
   "cell_type": "code",
   "execution_count": 4,
   "metadata": {},
   "outputs": [
    {
     "name": "stderr",
     "output_type": "stream",
     "text": [
      "C:\\Users\\shunn\\AppData\\Local\\Temp\\ipykernel_35568\\2184408019.py:2: SettingWithCopyWarning: \n",
      "A value is trying to be set on a copy of a slice from a DataFrame\n",
      "\n",
      "See the caveats in the documentation: https://pandas.pydata.org/pandas-docs/stable/user_guide/indexing.html#returning-a-view-versus-a-copy\n",
      "  kegg_biomedgraphica.dropna(subset=['KEGG_ID'], inplace=True)\n"
     ]
    },
    {
     "data": {
      "application/vnd.microsoft.datawrangler.viewer.v0+json": {
       "columns": [
        {
         "name": "index",
         "rawType": "int64",
         "type": "integer"
        },
        {
         "name": "clean_compound",
         "rawType": "object",
         "type": "string"
        },
        {
         "name": "clean_pathway",
         "rawType": "object",
         "type": "string"
        },
        {
         "name": "To_ID",
         "rawType": "object",
         "type": "unknown"
        },
        {
         "name": "From_ID",
         "rawType": "object",
         "type": "unknown"
        }
       ],
       "conversionMethod": "pd.DataFrame",
       "ref": "03923276-4735-48e7-b3de-81055c5e08b9",
       "rows": [
        [
         "0",
         "C00022",
         "00010",
         "BMG_PW0025",
         "BMG_MT000163"
        ],
        [
         "1",
         "C00022",
         "00010",
         "BMG_PW0637",
         "BMG_MT000163"
        ],
        [
         "2",
         "C00022",
         "00010",
         "BMG_PW0638",
         "BMG_MT000163"
        ],
        [
         "3",
         "C00024",
         "00010",
         "BMG_PW0025",
         "BMG_MT000929"
        ],
        [
         "4",
         "C00024",
         "00010",
         "BMG_PW0637",
         "BMG_MT000929"
        ],
        [
         "5",
         "C00024",
         "00010",
         "BMG_PW0638",
         "BMG_MT000929"
        ],
        [
         "6",
         "C00031",
         "00010",
         "BMG_PW0025",
         "BMG_MT000077;BMG_MT217632"
        ],
        [
         "7",
         "C00031",
         "00010",
         "BMG_PW0637",
         "BMG_MT000077;BMG_MT217632"
        ],
        [
         "8",
         "C00031",
         "00010",
         "BMG_PW0638",
         "BMG_MT000077;BMG_MT217632"
        ],
        [
         "9",
         "C00033",
         "00010",
         "BMG_PW0025",
         "BMG_MT000029"
        ],
        [
         "10",
         "C00033",
         "00010",
         "BMG_PW0637",
         "BMG_MT000029"
        ],
        [
         "11",
         "C00033",
         "00010",
         "BMG_PW0638",
         "BMG_MT000029"
        ],
        [
         "12",
         "C00036",
         "00010",
         "BMG_PW0025",
         "BMG_MT000147"
        ],
        [
         "13",
         "C00036",
         "00010",
         "BMG_PW0637",
         "BMG_MT000147"
        ],
        [
         "14",
         "C00036",
         "00010",
         "BMG_PW0638",
         "BMG_MT000147"
        ],
        [
         "15",
         "C00068",
         "00010",
         "BMG_PW0025",
         "BMG_MT001048"
        ],
        [
         "16",
         "C00068",
         "00010",
         "BMG_PW0637",
         "BMG_MT001048"
        ],
        [
         "17",
         "C00068",
         "00010",
         "BMG_PW0638",
         "BMG_MT001048"
        ],
        [
         "18",
         "C00074",
         "00010",
         "BMG_PW0025",
         "BMG_MT000179"
        ],
        [
         "19",
         "C00074",
         "00010",
         "BMG_PW0637",
         "BMG_MT000179"
        ],
        [
         "20",
         "C00074",
         "00010",
         "BMG_PW0638",
         "BMG_MT000179"
        ],
        [
         "21",
         "C00084",
         "00010",
         "BMG_PW0025",
         "BMG_MT000773"
        ],
        [
         "22",
         "C00084",
         "00010",
         "BMG_PW0637",
         "BMG_MT000773"
        ],
        [
         "23",
         "C00084",
         "00010",
         "BMG_PW0638",
         "BMG_MT000773"
        ],
        [
         "24",
         "C00085",
         "00010",
         "BMG_PW0025",
         "BMG_MT000079"
        ],
        [
         "25",
         "C00085",
         "00010",
         "BMG_PW0637",
         "BMG_MT000079"
        ],
        [
         "26",
         "C00085",
         "00010",
         "BMG_PW0638",
         "BMG_MT000079"
        ],
        [
         "27",
         "C00103",
         "00010",
         "BMG_PW0025",
         "BMG_MT001195"
        ],
        [
         "28",
         "C00103",
         "00010",
         "BMG_PW0637",
         "BMG_MT001195"
        ],
        [
         "29",
         "C00103",
         "00010",
         "BMG_PW0638",
         "BMG_MT001195"
        ],
        [
         "30",
         "C00111",
         "00010",
         "BMG_PW0025",
         "BMG_MT001122"
        ],
        [
         "31",
         "C00111",
         "00010",
         "BMG_PW0637",
         "BMG_MT001122"
        ],
        [
         "32",
         "C00111",
         "00010",
         "BMG_PW0638",
         "BMG_MT001122"
        ],
        [
         "33",
         "C00118",
         "00010",
         "BMG_PW0025",
         "BMG_MT000857"
        ],
        [
         "34",
         "C00118",
         "00010",
         "BMG_PW0637",
         "BMG_MT000857"
        ],
        [
         "35",
         "C00118",
         "00010",
         "BMG_PW0638",
         "BMG_MT000857"
        ],
        [
         "36",
         "C00186",
         "00010",
         "BMG_PW0025",
         "BMG_MT000121"
        ],
        [
         "37",
         "C00186",
         "00010",
         "BMG_PW0637",
         "BMG_MT000121"
        ],
        [
         "38",
         "C00186",
         "00010",
         "BMG_PW0638",
         "BMG_MT000121"
        ],
        [
         "39",
         "C00197",
         "00010",
         "BMG_PW0025",
         "BMG_MT040245"
        ],
        [
         "40",
         "C00197",
         "00010",
         "BMG_PW0637",
         "BMG_MT040245"
        ],
        [
         "41",
         "C00197",
         "00010",
         "BMG_PW0638",
         "BMG_MT040245"
        ],
        [
         "42",
         "C00221",
         "00010",
         "BMG_PW0025",
         "BMG_MT000077"
        ],
        [
         "43",
         "C00221",
         "00010",
         "BMG_PW0637",
         "BMG_MT000077"
        ],
        [
         "44",
         "C00221",
         "00010",
         "BMG_PW0638",
         "BMG_MT000077"
        ],
        [
         "45",
         "C00236",
         "00010",
         "BMG_PW0025",
         "BMG_MT000972"
        ],
        [
         "46",
         "C00236",
         "00010",
         "BMG_PW0637",
         "BMG_MT000972"
        ],
        [
         "47",
         "C00236",
         "00010",
         "BMG_PW0638",
         "BMG_MT000972"
        ],
        [
         "48",
         "C00267",
         "00010",
         "BMG_PW0025",
         "BMG_MT001831"
        ],
        [
         "49",
         "C00267",
         "00010",
         "BMG_PW0637",
         "BMG_MT001831"
        ]
       ],
       "shape": {
        "columns": 4,
        "rows": 19622
       }
      },
      "text/html": [
       "<div>\n",
       "<style scoped>\n",
       "    .dataframe tbody tr th:only-of-type {\n",
       "        vertical-align: middle;\n",
       "    }\n",
       "\n",
       "    .dataframe tbody tr th {\n",
       "        vertical-align: top;\n",
       "    }\n",
       "\n",
       "    .dataframe thead th {\n",
       "        text-align: right;\n",
       "    }\n",
       "</style>\n",
       "<table border=\"1\" class=\"dataframe\">\n",
       "  <thead>\n",
       "    <tr style=\"text-align: right;\">\n",
       "      <th></th>\n",
       "      <th>clean_compound</th>\n",
       "      <th>clean_pathway</th>\n",
       "      <th>To_ID</th>\n",
       "      <th>From_ID</th>\n",
       "    </tr>\n",
       "  </thead>\n",
       "  <tbody>\n",
       "    <tr>\n",
       "      <th>0</th>\n",
       "      <td>C00022</td>\n",
       "      <td>00010</td>\n",
       "      <td>BMG_PW0025</td>\n",
       "      <td>BMG_MT000163</td>\n",
       "    </tr>\n",
       "    <tr>\n",
       "      <th>1</th>\n",
       "      <td>C00022</td>\n",
       "      <td>00010</td>\n",
       "      <td>BMG_PW0637</td>\n",
       "      <td>BMG_MT000163</td>\n",
       "    </tr>\n",
       "    <tr>\n",
       "      <th>2</th>\n",
       "      <td>C00022</td>\n",
       "      <td>00010</td>\n",
       "      <td>BMG_PW0638</td>\n",
       "      <td>BMG_MT000163</td>\n",
       "    </tr>\n",
       "    <tr>\n",
       "      <th>3</th>\n",
       "      <td>C00024</td>\n",
       "      <td>00010</td>\n",
       "      <td>BMG_PW0025</td>\n",
       "      <td>BMG_MT000929</td>\n",
       "    </tr>\n",
       "    <tr>\n",
       "      <th>4</th>\n",
       "      <td>C00024</td>\n",
       "      <td>00010</td>\n",
       "      <td>BMG_PW0637</td>\n",
       "      <td>BMG_MT000929</td>\n",
       "    </tr>\n",
       "    <tr>\n",
       "      <th>...</th>\n",
       "      <td>...</td>\n",
       "      <td>...</td>\n",
       "      <td>...</td>\n",
       "      <td>...</td>\n",
       "    </tr>\n",
       "    <tr>\n",
       "      <th>19617</th>\n",
       "      <td>C13776</td>\n",
       "      <td>07232</td>\n",
       "      <td>NaN</td>\n",
       "      <td>BMG_MT166118</td>\n",
       "    </tr>\n",
       "    <tr>\n",
       "      <th>19618</th>\n",
       "      <td>C13777</td>\n",
       "      <td>07232</td>\n",
       "      <td>NaN</td>\n",
       "      <td>NaN</td>\n",
       "    </tr>\n",
       "    <tr>\n",
       "      <th>19619</th>\n",
       "      <td>C13820</td>\n",
       "      <td>07232</td>\n",
       "      <td>NaN</td>\n",
       "      <td>NaN</td>\n",
       "    </tr>\n",
       "    <tr>\n",
       "      <th>19620</th>\n",
       "      <td>C07575</td>\n",
       "      <td>07235</td>\n",
       "      <td>NaN</td>\n",
       "      <td>BMG_MT170137</td>\n",
       "    </tr>\n",
       "    <tr>\n",
       "      <th>19621</th>\n",
       "      <td>C13737</td>\n",
       "      <td>07235</td>\n",
       "      <td>NaN</td>\n",
       "      <td>NaN</td>\n",
       "    </tr>\n",
       "  </tbody>\n",
       "</table>\n",
       "<p>19622 rows × 4 columns</p>\n",
       "</div>"
      ],
      "text/plain": [
       "      clean_compound clean_pathway       To_ID       From_ID\n",
       "0             C00022         00010  BMG_PW0025  BMG_MT000163\n",
       "1             C00022         00010  BMG_PW0637  BMG_MT000163\n",
       "2             C00022         00010  BMG_PW0638  BMG_MT000163\n",
       "3             C00024         00010  BMG_PW0025  BMG_MT000929\n",
       "4             C00024         00010  BMG_PW0637  BMG_MT000929\n",
       "...              ...           ...         ...           ...\n",
       "19617         C13776         07232         NaN  BMG_MT166118\n",
       "19618         C13777         07232         NaN           NaN\n",
       "19619         C13820         07232         NaN           NaN\n",
       "19620         C07575         07235         NaN  BMG_MT170137\n",
       "19621         C13737         07235         NaN           NaN\n",
       "\n",
       "[19622 rows x 4 columns]"
      ]
     },
     "execution_count": 4,
     "metadata": {},
     "output_type": "execute_result"
    }
   ],
   "source": [
    "kegg_biomedgraphica = biomedgraphica_metabolite[['BioMedGraphica_ID', 'KEGG_ID']]\n",
    "kegg_biomedgraphica.dropna(subset=['KEGG_ID'], inplace=True)\n",
    "kegg_biomedgraphica = kegg_biomedgraphica.assign(KEGG_ID=kegg_biomedgraphica['KEGG_ID'].astype(str).str.split(';')).explode('KEGG_ID')\n",
    "kegg_biomedgraphica['KEGG_ID'] = kegg_biomedgraphica['KEGG_ID'].astype(str).str.split('.').str[0]\n",
    "\n",
    "kegg_to_individualID = kegg_biomedgraphica.groupby('KEGG_ID')['BioMedGraphica_ID'].apply(lambda x: ';'.join(x.dropna().unique())).to_dict()\n",
    "pathway['From_ID'] = pathway['clean_compound'].map(kegg_to_individualID)\n",
    "pathway"
   ]
  },
  {
   "cell_type": "code",
   "execution_count": 5,
   "metadata": {},
   "outputs": [
    {
     "data": {
      "application/vnd.microsoft.datawrangler.viewer.v0+json": {
       "columns": [
        {
         "name": "index",
         "rawType": "int64",
         "type": "integer"
        },
        {
         "name": "From_ID",
         "rawType": "object",
         "type": "string"
        },
        {
         "name": "To_ID",
         "rawType": "object",
         "type": "string"
        }
       ],
       "conversionMethod": "pd.DataFrame",
       "ref": "074a73a4-6d6a-4597-8beb-4301f37ece2c",
       "rows": [
        [
         "0",
         "BMG_MT000163",
         "BMG_PW0025"
        ],
        [
         "1",
         "BMG_MT000163",
         "BMG_PW0637"
        ],
        [
         "2",
         "BMG_MT000163",
         "BMG_PW0638"
        ],
        [
         "3",
         "BMG_MT000929",
         "BMG_PW0025"
        ],
        [
         "4",
         "BMG_MT000929",
         "BMG_PW0637"
        ],
        [
         "5",
         "BMG_MT000929",
         "BMG_PW0638"
        ],
        [
         "6",
         "BMG_MT000077;BMG_MT217632",
         "BMG_PW0025"
        ],
        [
         "7",
         "BMG_MT000077;BMG_MT217632",
         "BMG_PW0637"
        ],
        [
         "8",
         "BMG_MT000077;BMG_MT217632",
         "BMG_PW0638"
        ],
        [
         "9",
         "BMG_MT000029",
         "BMG_PW0025"
        ],
        [
         "10",
         "BMG_MT000029",
         "BMG_PW0637"
        ],
        [
         "11",
         "BMG_MT000029",
         "BMG_PW0638"
        ],
        [
         "12",
         "BMG_MT000147",
         "BMG_PW0025"
        ],
        [
         "13",
         "BMG_MT000147",
         "BMG_PW0637"
        ],
        [
         "14",
         "BMG_MT000147",
         "BMG_PW0638"
        ],
        [
         "15",
         "BMG_MT001048",
         "BMG_PW0025"
        ],
        [
         "16",
         "BMG_MT001048",
         "BMG_PW0637"
        ],
        [
         "17",
         "BMG_MT001048",
         "BMG_PW0638"
        ],
        [
         "18",
         "BMG_MT000179",
         "BMG_PW0025"
        ],
        [
         "19",
         "BMG_MT000179",
         "BMG_PW0637"
        ],
        [
         "20",
         "BMG_MT000179",
         "BMG_PW0638"
        ],
        [
         "21",
         "BMG_MT000773",
         "BMG_PW0025"
        ],
        [
         "22",
         "BMG_MT000773",
         "BMG_PW0637"
        ],
        [
         "23",
         "BMG_MT000773",
         "BMG_PW0638"
        ],
        [
         "24",
         "BMG_MT000079",
         "BMG_PW0025"
        ],
        [
         "25",
         "BMG_MT000079",
         "BMG_PW0637"
        ],
        [
         "26",
         "BMG_MT000079",
         "BMG_PW0638"
        ],
        [
         "27",
         "BMG_MT001195",
         "BMG_PW0025"
        ],
        [
         "28",
         "BMG_MT001195",
         "BMG_PW0637"
        ],
        [
         "29",
         "BMG_MT001195",
         "BMG_PW0638"
        ],
        [
         "30",
         "BMG_MT001122",
         "BMG_PW0025"
        ],
        [
         "31",
         "BMG_MT001122",
         "BMG_PW0637"
        ],
        [
         "32",
         "BMG_MT001122",
         "BMG_PW0638"
        ],
        [
         "33",
         "BMG_MT000857",
         "BMG_PW0025"
        ],
        [
         "34",
         "BMG_MT000857",
         "BMG_PW0637"
        ],
        [
         "35",
         "BMG_MT000857",
         "BMG_PW0638"
        ],
        [
         "36",
         "BMG_MT000121",
         "BMG_PW0025"
        ],
        [
         "37",
         "BMG_MT000121",
         "BMG_PW0637"
        ],
        [
         "38",
         "BMG_MT000121",
         "BMG_PW0638"
        ],
        [
         "39",
         "BMG_MT040245",
         "BMG_PW0025"
        ],
        [
         "40",
         "BMG_MT040245",
         "BMG_PW0637"
        ],
        [
         "41",
         "BMG_MT040245",
         "BMG_PW0638"
        ],
        [
         "42",
         "BMG_MT000077",
         "BMG_PW0025"
        ],
        [
         "43",
         "BMG_MT000077",
         "BMG_PW0637"
        ],
        [
         "44",
         "BMG_MT000077",
         "BMG_PW0638"
        ],
        [
         "45",
         "BMG_MT000972",
         "BMG_PW0025"
        ],
        [
         "46",
         "BMG_MT000972",
         "BMG_PW0637"
        ],
        [
         "47",
         "BMG_MT000972",
         "BMG_PW0638"
        ],
        [
         "48",
         "BMG_MT001831",
         "BMG_PW0025"
        ],
        [
         "49",
         "BMG_MT001831",
         "BMG_PW0637"
        ]
       ],
       "shape": {
        "columns": 2,
        "rows": 7208
       }
      },
      "text/html": [
       "<div>\n",
       "<style scoped>\n",
       "    .dataframe tbody tr th:only-of-type {\n",
       "        vertical-align: middle;\n",
       "    }\n",
       "\n",
       "    .dataframe tbody tr th {\n",
       "        vertical-align: top;\n",
       "    }\n",
       "\n",
       "    .dataframe thead th {\n",
       "        text-align: right;\n",
       "    }\n",
       "</style>\n",
       "<table border=\"1\" class=\"dataframe\">\n",
       "  <thead>\n",
       "    <tr style=\"text-align: right;\">\n",
       "      <th></th>\n",
       "      <th>From_ID</th>\n",
       "      <th>To_ID</th>\n",
       "    </tr>\n",
       "  </thead>\n",
       "  <tbody>\n",
       "    <tr>\n",
       "      <th>0</th>\n",
       "      <td>BMG_MT000163</td>\n",
       "      <td>BMG_PW0025</td>\n",
       "    </tr>\n",
       "    <tr>\n",
       "      <th>1</th>\n",
       "      <td>BMG_MT000163</td>\n",
       "      <td>BMG_PW0637</td>\n",
       "    </tr>\n",
       "    <tr>\n",
       "      <th>2</th>\n",
       "      <td>BMG_MT000163</td>\n",
       "      <td>BMG_PW0638</td>\n",
       "    </tr>\n",
       "    <tr>\n",
       "      <th>3</th>\n",
       "      <td>BMG_MT000929</td>\n",
       "      <td>BMG_PW0025</td>\n",
       "    </tr>\n",
       "    <tr>\n",
       "      <th>4</th>\n",
       "      <td>BMG_MT000929</td>\n",
       "      <td>BMG_PW0637</td>\n",
       "    </tr>\n",
       "    <tr>\n",
       "      <th>...</th>\n",
       "      <td>...</td>\n",
       "      <td>...</td>\n",
       "    </tr>\n",
       "    <tr>\n",
       "      <th>19487</th>\n",
       "      <td>BMG_MT001847</td>\n",
       "      <td>BMG_PW6793</td>\n",
       "    </tr>\n",
       "    <tr>\n",
       "      <th>19488</th>\n",
       "      <td>BMG_MT000448</td>\n",
       "      <td>BMG_PW6793</td>\n",
       "    </tr>\n",
       "    <tr>\n",
       "      <th>19489</th>\n",
       "      <td>BMG_MT001442</td>\n",
       "      <td>BMG_PW6793</td>\n",
       "    </tr>\n",
       "    <tr>\n",
       "      <th>19490</th>\n",
       "      <td>BMG_MT000539</td>\n",
       "      <td>BMG_PW6793</td>\n",
       "    </tr>\n",
       "    <tr>\n",
       "      <th>19491</th>\n",
       "      <td>BMG_MT001453</td>\n",
       "      <td>BMG_PW6793</td>\n",
       "    </tr>\n",
       "  </tbody>\n",
       "</table>\n",
       "<p>7208 rows × 2 columns</p>\n",
       "</div>"
      ],
      "text/plain": [
       "            From_ID       To_ID\n",
       "0      BMG_MT000163  BMG_PW0025\n",
       "1      BMG_MT000163  BMG_PW0637\n",
       "2      BMG_MT000163  BMG_PW0638\n",
       "3      BMG_MT000929  BMG_PW0025\n",
       "4      BMG_MT000929  BMG_PW0637\n",
       "...             ...         ...\n",
       "19487  BMG_MT001847  BMG_PW6793\n",
       "19488  BMG_MT000448  BMG_PW6793\n",
       "19489  BMG_MT001442  BMG_PW6793\n",
       "19490  BMG_MT000539  BMG_PW6793\n",
       "19491  BMG_MT001453  BMG_PW6793\n",
       "\n",
       "[7208 rows x 2 columns]"
      ]
     },
     "execution_count": 5,
     "metadata": {},
     "output_type": "execute_result"
    }
   ],
   "source": [
    "metabolite_pathway = pathway[['From_ID','To_ID']]\n",
    "metabolite_pathway = metabolite_pathway.dropna(subset=['From_ID'])\n",
    "metabolite_pathway = metabolite_pathway.dropna(subset=['To_ID'])\n",
    "metabolite_pathway"
   ]
  },
  {
   "cell_type": "code",
   "execution_count": 6,
   "metadata": {},
   "outputs": [
    {
     "data": {
      "application/vnd.microsoft.datawrangler.viewer.v0+json": {
       "columns": [
        {
         "name": "index",
         "rawType": "int64",
         "type": "integer"
        },
        {
         "name": "From_ID",
         "rawType": "object",
         "type": "string"
        },
        {
         "name": "To_ID",
         "rawType": "object",
         "type": "string"
        }
       ],
       "conversionMethod": "pd.DataFrame",
       "ref": "f6fc368c-d305-4da8-81b9-9eebaa7a3cd5",
       "rows": [
        [
         "0",
         "BMG_MT000163",
         "BMG_PW0025"
        ],
        [
         "1",
         "BMG_MT000163",
         "BMG_PW0637"
        ],
        [
         "2",
         "BMG_MT000163",
         "BMG_PW0638"
        ],
        [
         "3",
         "BMG_MT000929",
         "BMG_PW0025"
        ],
        [
         "4",
         "BMG_MT000929",
         "BMG_PW0637"
        ],
        [
         "5",
         "BMG_MT000929",
         "BMG_PW0638"
        ],
        [
         "6",
         "BMG_MT000077",
         "BMG_PW0025"
        ],
        [
         "6",
         "BMG_MT217632",
         "BMG_PW0025"
        ],
        [
         "7",
         "BMG_MT000077",
         "BMG_PW0637"
        ],
        [
         "7",
         "BMG_MT217632",
         "BMG_PW0637"
        ],
        [
         "8",
         "BMG_MT000077",
         "BMG_PW0638"
        ],
        [
         "8",
         "BMG_MT217632",
         "BMG_PW0638"
        ],
        [
         "9",
         "BMG_MT000029",
         "BMG_PW0025"
        ],
        [
         "10",
         "BMG_MT000029",
         "BMG_PW0637"
        ],
        [
         "11",
         "BMG_MT000029",
         "BMG_PW0638"
        ],
        [
         "12",
         "BMG_MT000147",
         "BMG_PW0025"
        ],
        [
         "13",
         "BMG_MT000147",
         "BMG_PW0637"
        ],
        [
         "14",
         "BMG_MT000147",
         "BMG_PW0638"
        ],
        [
         "15",
         "BMG_MT001048",
         "BMG_PW0025"
        ],
        [
         "16",
         "BMG_MT001048",
         "BMG_PW0637"
        ],
        [
         "17",
         "BMG_MT001048",
         "BMG_PW0638"
        ],
        [
         "18",
         "BMG_MT000179",
         "BMG_PW0025"
        ],
        [
         "19",
         "BMG_MT000179",
         "BMG_PW0637"
        ],
        [
         "20",
         "BMG_MT000179",
         "BMG_PW0638"
        ],
        [
         "21",
         "BMG_MT000773",
         "BMG_PW0025"
        ],
        [
         "22",
         "BMG_MT000773",
         "BMG_PW0637"
        ],
        [
         "23",
         "BMG_MT000773",
         "BMG_PW0638"
        ],
        [
         "24",
         "BMG_MT000079",
         "BMG_PW0025"
        ],
        [
         "25",
         "BMG_MT000079",
         "BMG_PW0637"
        ],
        [
         "26",
         "BMG_MT000079",
         "BMG_PW0638"
        ],
        [
         "27",
         "BMG_MT001195",
         "BMG_PW0025"
        ],
        [
         "28",
         "BMG_MT001195",
         "BMG_PW0637"
        ],
        [
         "29",
         "BMG_MT001195",
         "BMG_PW0638"
        ],
        [
         "30",
         "BMG_MT001122",
         "BMG_PW0025"
        ],
        [
         "31",
         "BMG_MT001122",
         "BMG_PW0637"
        ],
        [
         "32",
         "BMG_MT001122",
         "BMG_PW0638"
        ],
        [
         "33",
         "BMG_MT000857",
         "BMG_PW0025"
        ],
        [
         "34",
         "BMG_MT000857",
         "BMG_PW0637"
        ],
        [
         "35",
         "BMG_MT000857",
         "BMG_PW0638"
        ],
        [
         "36",
         "BMG_MT000121",
         "BMG_PW0025"
        ],
        [
         "37",
         "BMG_MT000121",
         "BMG_PW0637"
        ],
        [
         "38",
         "BMG_MT000121",
         "BMG_PW0638"
        ],
        [
         "39",
         "BMG_MT040245",
         "BMG_PW0025"
        ],
        [
         "40",
         "BMG_MT040245",
         "BMG_PW0637"
        ],
        [
         "41",
         "BMG_MT040245",
         "BMG_PW0638"
        ],
        [
         "45",
         "BMG_MT000972",
         "BMG_PW0025"
        ],
        [
         "46",
         "BMG_MT000972",
         "BMG_PW0637"
        ],
        [
         "47",
         "BMG_MT000972",
         "BMG_PW0638"
        ],
        [
         "48",
         "BMG_MT001831",
         "BMG_PW0025"
        ],
        [
         "49",
         "BMG_MT001831",
         "BMG_PW0637"
        ]
       ],
       "shape": {
        "columns": 2,
        "rows": 12198
       }
      },
      "text/html": [
       "<div>\n",
       "<style scoped>\n",
       "    .dataframe tbody tr th:only-of-type {\n",
       "        vertical-align: middle;\n",
       "    }\n",
       "\n",
       "    .dataframe tbody tr th {\n",
       "        vertical-align: top;\n",
       "    }\n",
       "\n",
       "    .dataframe thead th {\n",
       "        text-align: right;\n",
       "    }\n",
       "</style>\n",
       "<table border=\"1\" class=\"dataframe\">\n",
       "  <thead>\n",
       "    <tr style=\"text-align: right;\">\n",
       "      <th></th>\n",
       "      <th>From_ID</th>\n",
       "      <th>To_ID</th>\n",
       "    </tr>\n",
       "  </thead>\n",
       "  <tbody>\n",
       "    <tr>\n",
       "      <th>0</th>\n",
       "      <td>BMG_MT000163</td>\n",
       "      <td>BMG_PW0025</td>\n",
       "    </tr>\n",
       "    <tr>\n",
       "      <th>1</th>\n",
       "      <td>BMG_MT000163</td>\n",
       "      <td>BMG_PW0637</td>\n",
       "    </tr>\n",
       "    <tr>\n",
       "      <th>2</th>\n",
       "      <td>BMG_MT000163</td>\n",
       "      <td>BMG_PW0638</td>\n",
       "    </tr>\n",
       "    <tr>\n",
       "      <th>3</th>\n",
       "      <td>BMG_MT000929</td>\n",
       "      <td>BMG_PW0025</td>\n",
       "    </tr>\n",
       "    <tr>\n",
       "      <th>4</th>\n",
       "      <td>BMG_MT000929</td>\n",
       "      <td>BMG_PW0637</td>\n",
       "    </tr>\n",
       "    <tr>\n",
       "      <th>...</th>\n",
       "      <td>...</td>\n",
       "      <td>...</td>\n",
       "    </tr>\n",
       "    <tr>\n",
       "      <th>19487</th>\n",
       "      <td>BMG_MT001847</td>\n",
       "      <td>BMG_PW6793</td>\n",
       "    </tr>\n",
       "    <tr>\n",
       "      <th>19488</th>\n",
       "      <td>BMG_MT000448</td>\n",
       "      <td>BMG_PW6793</td>\n",
       "    </tr>\n",
       "    <tr>\n",
       "      <th>19489</th>\n",
       "      <td>BMG_MT001442</td>\n",
       "      <td>BMG_PW6793</td>\n",
       "    </tr>\n",
       "    <tr>\n",
       "      <th>19490</th>\n",
       "      <td>BMG_MT000539</td>\n",
       "      <td>BMG_PW6793</td>\n",
       "    </tr>\n",
       "    <tr>\n",
       "      <th>19491</th>\n",
       "      <td>BMG_MT001453</td>\n",
       "      <td>BMG_PW6793</td>\n",
       "    </tr>\n",
       "  </tbody>\n",
       "</table>\n",
       "<p>12198 rows × 2 columns</p>\n",
       "</div>"
      ],
      "text/plain": [
       "            From_ID       To_ID\n",
       "0      BMG_MT000163  BMG_PW0025\n",
       "1      BMG_MT000163  BMG_PW0637\n",
       "2      BMG_MT000163  BMG_PW0638\n",
       "3      BMG_MT000929  BMG_PW0025\n",
       "4      BMG_MT000929  BMG_PW0637\n",
       "...             ...         ...\n",
       "19487  BMG_MT001847  BMG_PW6793\n",
       "19488  BMG_MT000448  BMG_PW6793\n",
       "19489  BMG_MT001442  BMG_PW6793\n",
       "19490  BMG_MT000539  BMG_PW6793\n",
       "19491  BMG_MT001453  BMG_PW6793\n",
       "\n",
       "[12198 rows x 2 columns]"
      ]
     },
     "execution_count": 6,
     "metadata": {},
     "output_type": "execute_result"
    }
   ],
   "source": [
    "metabolite_pathway['From_ID'] = metabolite_pathway['From_ID'].str.split(';')\n",
    "metabolite_pathway['To_ID'] = metabolite_pathway['To_ID'].str.split(';')\n",
    "metabolite_pathway = metabolite_pathway.explode('From_ID')\n",
    "metabolite_pathway = metabolite_pathway.explode('To_ID')\n",
    "\n",
    "metabolite_pathway['To_ID'] = metabolite_pathway['To_ID'].str.strip()\n",
    "metabolite_pathway['From_ID'] = metabolite_pathway['From_ID'].str.strip()\n",
    "metabolite_pathway.drop_duplicates(inplace=True)\n",
    "metabolite_pathway"
   ]
  },
  {
   "cell_type": "markdown",
   "metadata": {},
   "source": [
    "### Metabolite-Pathway Relation"
   ]
  },
  {
   "cell_type": "code",
   "execution_count": 7,
   "metadata": {},
   "outputs": [
    {
     "data": {
      "application/vnd.microsoft.datawrangler.viewer.v0+json": {
       "columns": [
        {
         "name": "index",
         "rawType": "int64",
         "type": "integer"
        },
        {
         "name": "BioMedGraphica_ID",
         "rawType": "object",
         "type": "string"
        },
        {
         "name": "From_ID",
         "rawType": "object",
         "type": "string"
        },
        {
         "name": "To_ID",
         "rawType": "object",
         "type": "string"
        },
        {
         "name": "Source",
         "rawType": "object",
         "type": "string"
        },
        {
         "name": "Type",
         "rawType": "object",
         "type": "string"
        }
       ],
       "conversionMethod": "pd.DataFrame",
       "ref": "e7f5bd8c-b806-4d07-9537-d40636d69280",
       "rows": [
        [
         "0",
         "BMG_ED_MTPW00001",
         "BMG_MT000163",
         "BMG_PW0025",
         "KEGG",
         "Metabolite-Pathway"
        ],
        [
         "1",
         "BMG_ED_MTPW00002",
         "BMG_MT000163",
         "BMG_PW0637",
         "KEGG",
         "Metabolite-Pathway"
        ],
        [
         "2",
         "BMG_ED_MTPW00003",
         "BMG_MT000163",
         "BMG_PW0638",
         "KEGG",
         "Metabolite-Pathway"
        ],
        [
         "3",
         "BMG_ED_MTPW00004",
         "BMG_MT000929",
         "BMG_PW0025",
         "KEGG",
         "Metabolite-Pathway"
        ],
        [
         "4",
         "BMG_ED_MTPW00005",
         "BMG_MT000929",
         "BMG_PW0637",
         "KEGG",
         "Metabolite-Pathway"
        ],
        [
         "5",
         "BMG_ED_MTPW00006",
         "BMG_MT000929",
         "BMG_PW0638",
         "KEGG",
         "Metabolite-Pathway"
        ],
        [
         "6",
         "BMG_ED_MTPW00007",
         "BMG_MT000077",
         "BMG_PW0025",
         "KEGG",
         "Metabolite-Pathway"
        ],
        [
         "6",
         "BMG_ED_MTPW00008",
         "BMG_MT217632",
         "BMG_PW0025",
         "KEGG",
         "Metabolite-Pathway"
        ],
        [
         "7",
         "BMG_ED_MTPW00009",
         "BMG_MT000077",
         "BMG_PW0637",
         "KEGG",
         "Metabolite-Pathway"
        ],
        [
         "7",
         "BMG_ED_MTPW00010",
         "BMG_MT217632",
         "BMG_PW0637",
         "KEGG",
         "Metabolite-Pathway"
        ],
        [
         "8",
         "BMG_ED_MTPW00011",
         "BMG_MT000077",
         "BMG_PW0638",
         "KEGG",
         "Metabolite-Pathway"
        ],
        [
         "8",
         "BMG_ED_MTPW00012",
         "BMG_MT217632",
         "BMG_PW0638",
         "KEGG",
         "Metabolite-Pathway"
        ],
        [
         "9",
         "BMG_ED_MTPW00013",
         "BMG_MT000029",
         "BMG_PW0025",
         "KEGG",
         "Metabolite-Pathway"
        ],
        [
         "10",
         "BMG_ED_MTPW00014",
         "BMG_MT000029",
         "BMG_PW0637",
         "KEGG",
         "Metabolite-Pathway"
        ],
        [
         "11",
         "BMG_ED_MTPW00015",
         "BMG_MT000029",
         "BMG_PW0638",
         "KEGG",
         "Metabolite-Pathway"
        ],
        [
         "12",
         "BMG_ED_MTPW00016",
         "BMG_MT000147",
         "BMG_PW0025",
         "KEGG",
         "Metabolite-Pathway"
        ],
        [
         "13",
         "BMG_ED_MTPW00017",
         "BMG_MT000147",
         "BMG_PW0637",
         "KEGG",
         "Metabolite-Pathway"
        ],
        [
         "14",
         "BMG_ED_MTPW00018",
         "BMG_MT000147",
         "BMG_PW0638",
         "KEGG",
         "Metabolite-Pathway"
        ],
        [
         "15",
         "BMG_ED_MTPW00019",
         "BMG_MT001048",
         "BMG_PW0025",
         "KEGG",
         "Metabolite-Pathway"
        ],
        [
         "16",
         "BMG_ED_MTPW00020",
         "BMG_MT001048",
         "BMG_PW0637",
         "KEGG",
         "Metabolite-Pathway"
        ],
        [
         "17",
         "BMG_ED_MTPW00021",
         "BMG_MT001048",
         "BMG_PW0638",
         "KEGG",
         "Metabolite-Pathway"
        ],
        [
         "18",
         "BMG_ED_MTPW00022",
         "BMG_MT000179",
         "BMG_PW0025",
         "KEGG",
         "Metabolite-Pathway"
        ],
        [
         "19",
         "BMG_ED_MTPW00023",
         "BMG_MT000179",
         "BMG_PW0637",
         "KEGG",
         "Metabolite-Pathway"
        ],
        [
         "20",
         "BMG_ED_MTPW00024",
         "BMG_MT000179",
         "BMG_PW0638",
         "KEGG",
         "Metabolite-Pathway"
        ],
        [
         "21",
         "BMG_ED_MTPW00025",
         "BMG_MT000773",
         "BMG_PW0025",
         "KEGG",
         "Metabolite-Pathway"
        ],
        [
         "22",
         "BMG_ED_MTPW00026",
         "BMG_MT000773",
         "BMG_PW0637",
         "KEGG",
         "Metabolite-Pathway"
        ],
        [
         "23",
         "BMG_ED_MTPW00027",
         "BMG_MT000773",
         "BMG_PW0638",
         "KEGG",
         "Metabolite-Pathway"
        ],
        [
         "24",
         "BMG_ED_MTPW00028",
         "BMG_MT000079",
         "BMG_PW0025",
         "KEGG",
         "Metabolite-Pathway"
        ],
        [
         "25",
         "BMG_ED_MTPW00029",
         "BMG_MT000079",
         "BMG_PW0637",
         "KEGG",
         "Metabolite-Pathway"
        ],
        [
         "26",
         "BMG_ED_MTPW00030",
         "BMG_MT000079",
         "BMG_PW0638",
         "KEGG",
         "Metabolite-Pathway"
        ],
        [
         "27",
         "BMG_ED_MTPW00031",
         "BMG_MT001195",
         "BMG_PW0025",
         "KEGG",
         "Metabolite-Pathway"
        ],
        [
         "28",
         "BMG_ED_MTPW00032",
         "BMG_MT001195",
         "BMG_PW0637",
         "KEGG",
         "Metabolite-Pathway"
        ],
        [
         "29",
         "BMG_ED_MTPW00033",
         "BMG_MT001195",
         "BMG_PW0638",
         "KEGG",
         "Metabolite-Pathway"
        ],
        [
         "30",
         "BMG_ED_MTPW00034",
         "BMG_MT001122",
         "BMG_PW0025",
         "KEGG",
         "Metabolite-Pathway"
        ],
        [
         "31",
         "BMG_ED_MTPW00035",
         "BMG_MT001122",
         "BMG_PW0637",
         "KEGG",
         "Metabolite-Pathway"
        ],
        [
         "32",
         "BMG_ED_MTPW00036",
         "BMG_MT001122",
         "BMG_PW0638",
         "KEGG",
         "Metabolite-Pathway"
        ],
        [
         "33",
         "BMG_ED_MTPW00037",
         "BMG_MT000857",
         "BMG_PW0025",
         "KEGG",
         "Metabolite-Pathway"
        ],
        [
         "34",
         "BMG_ED_MTPW00038",
         "BMG_MT000857",
         "BMG_PW0637",
         "KEGG",
         "Metabolite-Pathway"
        ],
        [
         "35",
         "BMG_ED_MTPW00039",
         "BMG_MT000857",
         "BMG_PW0638",
         "KEGG",
         "Metabolite-Pathway"
        ],
        [
         "36",
         "BMG_ED_MTPW00040",
         "BMG_MT000121",
         "BMG_PW0025",
         "KEGG",
         "Metabolite-Pathway"
        ],
        [
         "37",
         "BMG_ED_MTPW00041",
         "BMG_MT000121",
         "BMG_PW0637",
         "KEGG",
         "Metabolite-Pathway"
        ],
        [
         "38",
         "BMG_ED_MTPW00042",
         "BMG_MT000121",
         "BMG_PW0638",
         "KEGG",
         "Metabolite-Pathway"
        ],
        [
         "39",
         "BMG_ED_MTPW00043",
         "BMG_MT040245",
         "BMG_PW0025",
         "KEGG",
         "Metabolite-Pathway"
        ],
        [
         "40",
         "BMG_ED_MTPW00044",
         "BMG_MT040245",
         "BMG_PW0637",
         "KEGG",
         "Metabolite-Pathway"
        ],
        [
         "41",
         "BMG_ED_MTPW00045",
         "BMG_MT040245",
         "BMG_PW0638",
         "KEGG",
         "Metabolite-Pathway"
        ],
        [
         "45",
         "BMG_ED_MTPW00046",
         "BMG_MT000972",
         "BMG_PW0025",
         "KEGG",
         "Metabolite-Pathway"
        ],
        [
         "46",
         "BMG_ED_MTPW00047",
         "BMG_MT000972",
         "BMG_PW0637",
         "KEGG",
         "Metabolite-Pathway"
        ],
        [
         "47",
         "BMG_ED_MTPW00048",
         "BMG_MT000972",
         "BMG_PW0638",
         "KEGG",
         "Metabolite-Pathway"
        ],
        [
         "48",
         "BMG_ED_MTPW00049",
         "BMG_MT001831",
         "BMG_PW0025",
         "KEGG",
         "Metabolite-Pathway"
        ],
        [
         "49",
         "BMG_ED_MTPW00050",
         "BMG_MT001831",
         "BMG_PW0637",
         "KEGG",
         "Metabolite-Pathway"
        ]
       ],
       "shape": {
        "columns": 5,
        "rows": 12198
       }
      },
      "text/html": [
       "<div>\n",
       "<style scoped>\n",
       "    .dataframe tbody tr th:only-of-type {\n",
       "        vertical-align: middle;\n",
       "    }\n",
       "\n",
       "    .dataframe tbody tr th {\n",
       "        vertical-align: top;\n",
       "    }\n",
       "\n",
       "    .dataframe thead th {\n",
       "        text-align: right;\n",
       "    }\n",
       "</style>\n",
       "<table border=\"1\" class=\"dataframe\">\n",
       "  <thead>\n",
       "    <tr style=\"text-align: right;\">\n",
       "      <th></th>\n",
       "      <th>BioMedGraphica_ID</th>\n",
       "      <th>From_ID</th>\n",
       "      <th>To_ID</th>\n",
       "      <th>Source</th>\n",
       "      <th>Type</th>\n",
       "    </tr>\n",
       "  </thead>\n",
       "  <tbody>\n",
       "    <tr>\n",
       "      <th>0</th>\n",
       "      <td>BMG_ED_MTPW00001</td>\n",
       "      <td>BMG_MT000163</td>\n",
       "      <td>BMG_PW0025</td>\n",
       "      <td>KEGG</td>\n",
       "      <td>Metabolite-Pathway</td>\n",
       "    </tr>\n",
       "    <tr>\n",
       "      <th>1</th>\n",
       "      <td>BMG_ED_MTPW00002</td>\n",
       "      <td>BMG_MT000163</td>\n",
       "      <td>BMG_PW0637</td>\n",
       "      <td>KEGG</td>\n",
       "      <td>Metabolite-Pathway</td>\n",
       "    </tr>\n",
       "    <tr>\n",
       "      <th>2</th>\n",
       "      <td>BMG_ED_MTPW00003</td>\n",
       "      <td>BMG_MT000163</td>\n",
       "      <td>BMG_PW0638</td>\n",
       "      <td>KEGG</td>\n",
       "      <td>Metabolite-Pathway</td>\n",
       "    </tr>\n",
       "    <tr>\n",
       "      <th>3</th>\n",
       "      <td>BMG_ED_MTPW00004</td>\n",
       "      <td>BMG_MT000929</td>\n",
       "      <td>BMG_PW0025</td>\n",
       "      <td>KEGG</td>\n",
       "      <td>Metabolite-Pathway</td>\n",
       "    </tr>\n",
       "    <tr>\n",
       "      <th>4</th>\n",
       "      <td>BMG_ED_MTPW00005</td>\n",
       "      <td>BMG_MT000929</td>\n",
       "      <td>BMG_PW0637</td>\n",
       "      <td>KEGG</td>\n",
       "      <td>Metabolite-Pathway</td>\n",
       "    </tr>\n",
       "    <tr>\n",
       "      <th>...</th>\n",
       "      <td>...</td>\n",
       "      <td>...</td>\n",
       "      <td>...</td>\n",
       "      <td>...</td>\n",
       "      <td>...</td>\n",
       "    </tr>\n",
       "    <tr>\n",
       "      <th>19487</th>\n",
       "      <td>BMG_ED_MTPW12194</td>\n",
       "      <td>BMG_MT001847</td>\n",
       "      <td>BMG_PW6793</td>\n",
       "      <td>KEGG</td>\n",
       "      <td>Metabolite-Pathway</td>\n",
       "    </tr>\n",
       "    <tr>\n",
       "      <th>19488</th>\n",
       "      <td>BMG_ED_MTPW12195</td>\n",
       "      <td>BMG_MT000448</td>\n",
       "      <td>BMG_PW6793</td>\n",
       "      <td>KEGG</td>\n",
       "      <td>Metabolite-Pathway</td>\n",
       "    </tr>\n",
       "    <tr>\n",
       "      <th>19489</th>\n",
       "      <td>BMG_ED_MTPW12196</td>\n",
       "      <td>BMG_MT001442</td>\n",
       "      <td>BMG_PW6793</td>\n",
       "      <td>KEGG</td>\n",
       "      <td>Metabolite-Pathway</td>\n",
       "    </tr>\n",
       "    <tr>\n",
       "      <th>19490</th>\n",
       "      <td>BMG_ED_MTPW12197</td>\n",
       "      <td>BMG_MT000539</td>\n",
       "      <td>BMG_PW6793</td>\n",
       "      <td>KEGG</td>\n",
       "      <td>Metabolite-Pathway</td>\n",
       "    </tr>\n",
       "    <tr>\n",
       "      <th>19491</th>\n",
       "      <td>BMG_ED_MTPW12198</td>\n",
       "      <td>BMG_MT001453</td>\n",
       "      <td>BMG_PW6793</td>\n",
       "      <td>KEGG</td>\n",
       "      <td>Metabolite-Pathway</td>\n",
       "    </tr>\n",
       "  </tbody>\n",
       "</table>\n",
       "<p>12198 rows × 5 columns</p>\n",
       "</div>"
      ],
      "text/plain": [
       "      BioMedGraphica_ID       From_ID       To_ID Source                Type\n",
       "0      BMG_ED_MTPW00001  BMG_MT000163  BMG_PW0025   KEGG  Metabolite-Pathway\n",
       "1      BMG_ED_MTPW00002  BMG_MT000163  BMG_PW0637   KEGG  Metabolite-Pathway\n",
       "2      BMG_ED_MTPW00003  BMG_MT000163  BMG_PW0638   KEGG  Metabolite-Pathway\n",
       "3      BMG_ED_MTPW00004  BMG_MT000929  BMG_PW0025   KEGG  Metabolite-Pathway\n",
       "4      BMG_ED_MTPW00005  BMG_MT000929  BMG_PW0637   KEGG  Metabolite-Pathway\n",
       "...                 ...           ...         ...    ...                 ...\n",
       "19487  BMG_ED_MTPW12194  BMG_MT001847  BMG_PW6793   KEGG  Metabolite-Pathway\n",
       "19488  BMG_ED_MTPW12195  BMG_MT000448  BMG_PW6793   KEGG  Metabolite-Pathway\n",
       "19489  BMG_ED_MTPW12196  BMG_MT001442  BMG_PW6793   KEGG  Metabolite-Pathway\n",
       "19490  BMG_ED_MTPW12197  BMG_MT000539  BMG_PW6793   KEGG  Metabolite-Pathway\n",
       "19491  BMG_ED_MTPW12198  BMG_MT001453  BMG_PW6793   KEGG  Metabolite-Pathway\n",
       "\n",
       "[12198 rows x 5 columns]"
      ]
     },
     "execution_count": 7,
     "metadata": {},
     "output_type": "execute_result"
    }
   ],
   "source": [
    "metabolite_pathway['Source'] = 'KEGG'\n",
    "metabolite_pathway['Type'] = 'Metabolite-Pathway'\n",
    "\n",
    "max_length = len(str(len(metabolite_pathway)))\n",
    "metabolite_pathway['BioMedGraphica_ID'] = ['BMG_ED_MTPW' + str(i).zfill(max_length) for i in range(1, len(metabolite_pathway) + 1)]\n",
    "columns = ['BioMedGraphica_ID'] + [col for col in metabolite_pathway.columns if col != 'BioMedGraphica_ID']  # re-order columns\n",
    "metabolite_pathway = metabolite_pathway[columns]\n",
    "metabolite_pathway"
   ]
  },
  {
   "cell_type": "code",
   "execution_count": 8,
   "metadata": {},
   "outputs": [
    {
     "name": "stdout",
     "output_type": "stream",
     "text": [
      "Data has been saved to D:\\RA\\BMG\\BioMedGraphica\\Relation\\Metabolite-Pathway\\BioMedGraphica_Metabolite_Pathway.csv\n"
     ]
    }
   ],
   "source": [
    "import os\n",
    "from pathlib import Path\n",
    "\n",
    "# get the current working directory\n",
    "current_working_dir = Path(os.getcwd()).resolve()\n",
    "\n",
    "# get the output directory\n",
    "grandparent_dir = current_working_dir.parent.parent.parent\n",
    "\n",
    "target_folder = grandparent_dir / 'BioMedGraphica' / 'Relation' / 'Metabolite-Pathway'\n",
    "if not target_folder.exists():\n",
    "    target_folder.mkdir(parents=True)\n",
    "    print(f\"Folder {target_folder} has been created.\")\n",
    "\n",
    "output_file_path = target_folder / 'BioMedGraphica_Metabolite_Pathway.csv'\n",
    "metabolite_pathway.to_csv(output_file_path, index=False)\n",
    "print(f\"Data has been saved to {output_file_path}\")"
   ]
  }
 ],
 "metadata": {
  "kernelspec": {
   "display_name": "base",
   "language": "python",
   "name": "python3"
  },
  "language_info": {
   "codemirror_mode": {
    "name": "ipython",
    "version": 3
   },
   "file_extension": ".py",
   "mimetype": "text/x-python",
   "name": "python",
   "nbconvert_exporter": "python",
   "pygments_lexer": "ipython3",
   "version": "3.9.19"
  }
 },
 "nbformat": 4,
 "nbformat_minor": 2
}
