{
 "cells": [
  {
   "cell_type": "markdown",
   "metadata": {},
   "source": [
    "### HMDB"
   ]
  },
  {
   "cell_type": "code",
   "execution_count": null,
   "metadata": {},
   "outputs": [],
   "source": [
    "# Download Link: https://www.hmdb.ca/downloads#\n",
    "# Download Date: 2025-03-21\n",
    "# Download Version: 2021-11-17\n",
    "\n",
    "import xml.etree.ElementTree as ET\n",
    "import pandas as pd\n",
    "\n",
    "context = ET.iterparse('hmdb_metabolites.xml', events=('start', 'end'))\n",
    "context = iter(context)\n",
    "\n",
    "event, root = next(context)\n",
    "\n",
    "namespace = {'hmdb': 'http://www.hmdb.ca'}\n",
    "\n",
    "metabolites = []\n",
    "\n",
    "for event, elem in context:\n",
    "    if event == 'end' and elem.tag == '{http://www.hmdb.ca}metabolite':\n",
    "        accession = elem.find('hmdb:accession', namespace).text\n",
    "        \n",
    "        for disease in elem.findall('hmdb:diseases/hmdb:disease', namespace):\n",
    "            omim_id = disease.find('hmdb:omim_id', namespace).text if disease.find('hmdb:omim_id', namespace) is not None else None\n",
    "            \n",
    "            metabolites.append({\n",
    "                'accession': accession,\n",
    "                'omim_id': omim_id\n",
    "            })\n",
    "\n",
    "        elem.clear()\n",
    "\n",
    "hmdb_disease = pd.DataFrame(metabolites)\n",
    "\n",
    "hmdb_disease.to_csv('hmdb_disease.csv', index=False)\n",
    "\n",
    "print(\"Data has been saved to hmdb_disease.csv\")"
   ]
  },
  {
   "cell_type": "code",
   "execution_count": 1,
   "metadata": {},
   "outputs": [
    {
     "data": {
      "application/vnd.microsoft.datawrangler.viewer.v0+json": {
       "columns": [
        {
         "name": "index",
         "rawType": "int64",
         "type": "integer"
        },
        {
         "name": "accession",
         "rawType": "object",
         "type": "string"
        },
        {
         "name": "omim_id",
         "rawType": "object",
         "type": "string"
        }
       ],
       "conversionMethod": "pd.DataFrame",
       "ref": "70b5d944-a659-45dd-b438-13ef505de49d",
       "rows": [
        [
         "4",
         "HMDB0000001",
         "104300"
        ],
        [
         "5",
         "HMDB0000001",
         "601665"
        ],
        [
         "6",
         "HMDB0000001",
         "125853"
        ],
        [
         "7",
         "HMDB0000001",
         "606054"
        ],
        [
         "8",
         "HMDB0000001",
         "248600"
        ],
        [
         "9",
         "HMDB0000001",
         "610247"
        ],
        [
         "11",
         "HMDB0000002",
         "114500"
        ],
        [
         "13",
         "HMDB0000005",
         "610247"
        ],
        [
         "14",
         "HMDB0000008",
         "114500"
        ],
        [
         "15",
         "HMDB0000008",
         "181500"
        ],
        [
         "19",
         "HMDB0000008",
         "104300"
        ],
        [
         "20",
         "HMDB0000008",
         "600274"
        ],
        [
         "22",
         "HMDB0000008",
         "312170"
        ],
        [
         "23",
         "HMDB0000008",
         "610247"
        ],
        [
         "24",
         "HMDB0000008",
         "246900"
        ],
        [
         "25",
         "HMDB0000010",
         "600634"
        ],
        [
         "26",
         "HMDB0000011",
         "125853"
        ],
        [
         "27",
         "HMDB0000011",
         "601665"
        ],
        [
         "28",
         "HMDB0000011",
         "260350"
        ],
        [
         "29",
         "HMDB0000011",
         "114500"
        ],
        [
         "30",
         "HMDB0000011",
         "181500"
        ],
        [
         "34",
         "HMDB0000011",
         "203740"
        ],
        [
         "35",
         "HMDB0000011",
         "605911"
        ],
        [
         "36",
         "HMDB0000011",
         "231530"
        ],
        [
         "40",
         "HMDB0000011",
         "246450"
        ],
        [
         "41",
         "HMDB0000011",
         "201810"
        ],
        [
         "42",
         "HMDB0000011",
         "608782"
        ],
        [
         "43",
         "HMDB0000011",
         "255120"
        ],
        [
         "47",
         "HMDB0000011",
         "266600"
        ],
        [
         "48",
         "HMDB0000011",
         "104300"
        ],
        [
         "49",
         "HMDB0000011",
         "600274"
        ],
        [
         "51",
         "HMDB0000011",
         "610247"
        ],
        [
         "52",
         "HMDB0000011",
         "201450"
        ],
        [
         "53",
         "HMDB0000011",
         "606812"
        ],
        [
         "56",
         "HMDB0000011",
         "266150"
        ],
        [
         "57",
         "HMDB0000012",
         "603041"
        ],
        [
         "58",
         "HMDB0000012",
         "114500"
        ],
        [
         "59",
         "HMDB0000012",
         "266600"
        ],
        [
         "61",
         "HMDB0000012",
         "610247"
        ],
        [
         "62",
         "HMDB0000014",
         "266600"
        ],
        [
         "64",
         "HMDB0000014",
         "114500"
        ],
        [
         "65",
         "HMDB0000015",
         "202010"
        ],
        [
         "67",
         "HMDB0000016",
         "202110"
        ],
        [
         "68",
         "HMDB0000017",
         "266600"
        ],
        [
         "70",
         "HMDB0000017",
         "114500"
        ],
        [
         "72",
         "HMDB0000017",
         "610247"
        ],
        [
         "73",
         "HMDB0000019",
         "114500"
        ],
        [
         "74",
         "HMDB0000019",
         "248600"
        ],
        [
         "75",
         "HMDB0000020",
         "181500"
        ],
        [
         "77",
         "HMDB0000020",
         "114500"
        ]
       ],
       "shape": {
        "columns": 2,
        "rows": 24755
       }
      },
      "text/html": [
       "<div>\n",
       "<style scoped>\n",
       "    .dataframe tbody tr th:only-of-type {\n",
       "        vertical-align: middle;\n",
       "    }\n",
       "\n",
       "    .dataframe tbody tr th {\n",
       "        vertical-align: top;\n",
       "    }\n",
       "\n",
       "    .dataframe thead th {\n",
       "        text-align: right;\n",
       "    }\n",
       "</style>\n",
       "<table border=\"1\" class=\"dataframe\">\n",
       "  <thead>\n",
       "    <tr style=\"text-align: right;\">\n",
       "      <th></th>\n",
       "      <th>accession</th>\n",
       "      <th>omim_id</th>\n",
       "    </tr>\n",
       "  </thead>\n",
       "  <tbody>\n",
       "    <tr>\n",
       "      <th>4</th>\n",
       "      <td>HMDB0000001</td>\n",
       "      <td>104300</td>\n",
       "    </tr>\n",
       "    <tr>\n",
       "      <th>5</th>\n",
       "      <td>HMDB0000001</td>\n",
       "      <td>601665</td>\n",
       "    </tr>\n",
       "    <tr>\n",
       "      <th>6</th>\n",
       "      <td>HMDB0000001</td>\n",
       "      <td>125853</td>\n",
       "    </tr>\n",
       "    <tr>\n",
       "      <th>7</th>\n",
       "      <td>HMDB0000001</td>\n",
       "      <td>606054</td>\n",
       "    </tr>\n",
       "    <tr>\n",
       "      <th>8</th>\n",
       "      <td>HMDB0000001</td>\n",
       "      <td>248600</td>\n",
       "    </tr>\n",
       "    <tr>\n",
       "      <th>...</th>\n",
       "      <td>...</td>\n",
       "      <td>...</td>\n",
       "    </tr>\n",
       "    <tr>\n",
       "      <th>27665</th>\n",
       "      <td>HMDB0240219</td>\n",
       "      <td>114500</td>\n",
       "    </tr>\n",
       "    <tr>\n",
       "      <th>27666</th>\n",
       "      <td>HMDB0240252</td>\n",
       "      <td>114500</td>\n",
       "    </tr>\n",
       "    <tr>\n",
       "      <th>27667</th>\n",
       "      <td>HMDB0240261</td>\n",
       "      <td>114500</td>\n",
       "    </tr>\n",
       "    <tr>\n",
       "      <th>27668</th>\n",
       "      <td>HMDB0240262</td>\n",
       "      <td>114500</td>\n",
       "    </tr>\n",
       "    <tr>\n",
       "      <th>27669</th>\n",
       "      <td>HMDB0240295</td>\n",
       "      <td>103050</td>\n",
       "    </tr>\n",
       "  </tbody>\n",
       "</table>\n",
       "<p>24755 rows × 2 columns</p>\n",
       "</div>"
      ],
      "text/plain": [
       "         accession omim_id\n",
       "4      HMDB0000001  104300\n",
       "5      HMDB0000001  601665\n",
       "6      HMDB0000001  125853\n",
       "7      HMDB0000001  606054\n",
       "8      HMDB0000001  248600\n",
       "...            ...     ...\n",
       "27665  HMDB0240219  114500\n",
       "27666  HMDB0240252  114500\n",
       "27667  HMDB0240261  114500\n",
       "27668  HMDB0240262  114500\n",
       "27669  HMDB0240295  103050\n",
       "\n",
       "[24755 rows x 2 columns]"
      ]
     },
     "execution_count": 1,
     "metadata": {},
     "output_type": "execute_result"
    }
   ],
   "source": [
    "import pandas as pd\n",
    "\n",
    "hmdb_disease = pd.read_csv('hmdb_disease.csv')\n",
    "hmdb_disease.dropna(subset=['omim_id'], inplace=True)\n",
    "hmdb_disease.dropna(subset=['accession'], inplace=True)\n",
    "hmdb_disease['omim_id'] = hmdb_disease['omim_id'].astype(int).astype(str)\n",
    "hmdb_disease"
   ]
  },
  {
   "cell_type": "markdown",
   "metadata": {},
   "source": [
    "### BioMedGraphica ID"
   ]
  },
  {
   "cell_type": "code",
   "execution_count": 2,
   "metadata": {},
   "outputs": [],
   "source": [
    "import pandas as pd\n",
    "import os\n",
    "from pathlib import Path\n",
    "\n",
    "current_working_dir = Path(os.getcwd()).resolve()\n",
    "grandparent_dir = current_working_dir.parent.parent.parent\n",
    "target_dir_metabolite = grandparent_dir / 'BioMedGraphica' / 'Entity' / 'Metabolite' / 'BioMedGraphica_Metabolite.csv'\n",
    "target_dir_disease = grandparent_dir / 'BioMedGraphica' / 'Entity' / 'Disease' / 'BioMedGraphica_Disease.csv'\n",
    "biomedgraphica_metabolite = pd.read_csv(target_dir_metabolite, dtype=str)\n",
    "biomedgraphica_disease = pd.read_csv(target_dir_disease, dtype=str)"
   ]
  },
  {
   "cell_type": "markdown",
   "metadata": {},
   "source": [
    "### HMDB Mapping"
   ]
  },
  {
   "cell_type": "markdown",
   "metadata": {},
   "source": [
    "HMDB ID"
   ]
  },
  {
   "cell_type": "code",
   "execution_count": 3,
   "metadata": {},
   "outputs": [
    {
     "name": "stderr",
     "output_type": "stream",
     "text": [
      "C:\\Users\\shunn\\AppData\\Local\\Temp\\ipykernel_39224\\3115079952.py:2: SettingWithCopyWarning: \n",
      "A value is trying to be set on a copy of a slice from a DataFrame\n",
      "\n",
      "See the caveats in the documentation: https://pandas.pydata.org/pandas-docs/stable/user_guide/indexing.html#returning-a-view-versus-a-copy\n",
      "  hmdb_biomedgraphica.dropna(subset=['HMDB_ID'], inplace=True)\n"
     ]
    }
   ],
   "source": [
    "hmdb_biomedgraphica = biomedgraphica_metabolite[['BioMedGraphica_ID', 'HMDB_ID']]\n",
    "hmdb_biomedgraphica.dropna(subset=['HMDB_ID'], inplace=True)\n",
    "hmdb_biomedgraphica = hmdb_biomedgraphica.assign(HMDB_ID=hmdb_biomedgraphica['HMDB_ID'].str.split(';')).explode('HMDB_ID')\n",
    "\n",
    "hmdb_to_individualID = hmdb_biomedgraphica.groupby('HMDB_ID')['BioMedGraphica_ID'].apply(lambda x: ';'.join(x.dropna().unique())).to_dict()\n",
    "hmdb_disease['From_ID'] = hmdb_disease['accession'].map(hmdb_to_individualID)"
   ]
  },
  {
   "cell_type": "markdown",
   "metadata": {},
   "source": [
    "OMIM ID"
   ]
  },
  {
   "cell_type": "code",
   "execution_count": 4,
   "metadata": {},
   "outputs": [
    {
     "name": "stderr",
     "output_type": "stream",
     "text": [
      "C:\\Users\\shunn\\AppData\\Local\\Temp\\ipykernel_39224\\2731152458.py:2: SettingWithCopyWarning: \n",
      "A value is trying to be set on a copy of a slice from a DataFrame\n",
      "\n",
      "See the caveats in the documentation: https://pandas.pydata.org/pandas-docs/stable/user_guide/indexing.html#returning-a-view-versus-a-copy\n",
      "  omim_biomedgraphica.dropna(subset=['OMIM_ID'], inplace=True)\n"
     ]
    }
   ],
   "source": [
    "omim_biomedgraphica = biomedgraphica_disease[['BioMedGraphica_ID', 'OMIM_ID']]\n",
    "omim_biomedgraphica.dropna(subset=['OMIM_ID'], inplace=True)\n",
    "omim_biomedgraphica = omim_biomedgraphica.assign(OMIM_ID=omim_biomedgraphica['OMIM_ID'].str.split(';')).explode('OMIM_ID')\n",
    "\n",
    "omim_to_individualID = omim_biomedgraphica.groupby('OMIM_ID')['BioMedGraphica_ID'].apply(lambda x: ';'.join(x.dropna().unique())).to_dict()\n",
    "hmdb_disease['To_ID'] = hmdb_disease['omim_id'].map(omim_to_individualID)"
   ]
  },
  {
   "cell_type": "code",
   "execution_count": 5,
   "metadata": {},
   "outputs": [
    {
     "name": "stderr",
     "output_type": "stream",
     "text": [
      "C:\\Users\\shunn\\AppData\\Local\\Temp\\ipykernel_39224\\1956038931.py:2: SettingWithCopyWarning: \n",
      "A value is trying to be set on a copy of a slice from a DataFrame\n",
      "\n",
      "See the caveats in the documentation: https://pandas.pydata.org/pandas-docs/stable/user_guide/indexing.html#returning-a-view-versus-a-copy\n",
      "  metabolite_disease.dropna(subset=['From_ID'], inplace=True)\n",
      "C:\\Users\\shunn\\AppData\\Local\\Temp\\ipykernel_39224\\1956038931.py:3: SettingWithCopyWarning: \n",
      "A value is trying to be set on a copy of a slice from a DataFrame\n",
      "\n",
      "See the caveats in the documentation: https://pandas.pydata.org/pandas-docs/stable/user_guide/indexing.html#returning-a-view-versus-a-copy\n",
      "  metabolite_disease.dropna(subset=['To_ID'], inplace=True)\n"
     ]
    },
    {
     "data": {
      "application/vnd.microsoft.datawrangler.viewer.v0+json": {
       "columns": [
        {
         "name": "index",
         "rawType": "int64",
         "type": "integer"
        },
        {
         "name": "From_ID",
         "rawType": "object",
         "type": "string"
        },
        {
         "name": "To_ID",
         "rawType": "object",
         "type": "string"
        }
       ],
       "conversionMethod": "pd.DataFrame",
       "ref": "335bb10c-8856-42cc-866f-30890d5e6102",
       "rows": [
        [
         "4",
         "BMG_MT000001",
         "BMG_DS040780"
        ],
        [
         "5",
         "BMG_MT000001",
         "BMG_DS059381"
        ],
        [
         "6",
         "BMG_MT000001",
         "BMG_DS000821"
        ],
        [
         "7",
         "BMG_MT000001",
         "BMG_DS010232"
        ],
        [
         "8",
         "BMG_MT000001",
         "BMG_DS039850"
        ],
        [
         "9",
         "BMG_MT000001",
         "BMG_DS065276"
        ],
        [
         "11",
         "BMG_MT000002",
         "BMG_DS018120"
        ],
        [
         "13",
         "BMG_MT000003",
         "BMG_DS065276"
        ],
        [
         "14",
         "BMG_MT000004",
         "BMG_DS018120"
        ],
        [
         "15",
         "BMG_MT000004",
         "BMG_DS002896"
        ],
        [
         "19",
         "BMG_MT000004",
         "BMG_DS040780"
        ],
        [
         "20",
         "BMG_MT000004",
         "BMG_DS014818"
        ],
        [
         "22",
         "BMG_MT000004",
         "BMG_DS038425"
        ],
        [
         "23",
         "BMG_MT000004",
         "BMG_DS065276"
        ],
        [
         "24",
         "BMG_MT000004",
         "BMG_DS072167"
        ],
        [
         "25",
         "BMG_MT000005",
         "BMG_DS002680"
        ],
        [
         "26",
         "BMG_MT000006",
         "BMG_DS000821"
        ],
        [
         "27",
         "BMG_MT000006",
         "BMG_DS059381"
        ],
        [
         "28",
         "BMG_MT000006",
         "BMG_DS052514"
        ],
        [
         "29",
         "BMG_MT000006",
         "BMG_DS018120"
        ],
        [
         "30",
         "BMG_MT000006",
         "BMG_DS002896"
        ],
        [
         "34",
         "BMG_MT000006",
         "BMG_DS044415"
        ],
        [
         "35",
         "BMG_MT000006",
         "BMG_DS044321;BMG_DS080312"
        ],
        [
         "36",
         "BMG_MT000006",
         "BMG_DS032021"
        ],
        [
         "40",
         "BMG_MT000006",
         "BMG_DS010244"
        ],
        [
         "41",
         "BMG_MT000006",
         "BMG_DS016734"
        ],
        [
         "42",
         "BMG_MT000006",
         "BMG_DS038203"
        ],
        [
         "43",
         "BMG_MT000006",
         "BMG_DS037582"
        ],
        [
         "47",
         "BMG_MT000006",
         "BMG_DS080086"
        ],
        [
         "48",
         "BMG_MT000006",
         "BMG_DS040780"
        ],
        [
         "49",
         "BMG_MT000006",
         "BMG_DS014818"
        ],
        [
         "51",
         "BMG_MT000006",
         "BMG_DS065276"
        ],
        [
         "52",
         "BMG_MT000006",
         "BMG_DS006068"
        ],
        [
         "53",
         "BMG_MT000006",
         "BMG_DS016901"
        ],
        [
         "56",
         "BMG_MT000006",
         "BMG_DS002761"
        ],
        [
         "57",
         "BMG_MT000007",
         "BMG_DS065393"
        ],
        [
         "58",
         "BMG_MT000007",
         "BMG_DS018120"
        ],
        [
         "59",
         "BMG_MT000007",
         "BMG_DS080086"
        ],
        [
         "61",
         "BMG_MT000007",
         "BMG_DS065276"
        ],
        [
         "62",
         "BMG_MT000008",
         "BMG_DS080086"
        ],
        [
         "64",
         "BMG_MT000008",
         "BMG_DS018120"
        ],
        [
         "65",
         "BMG_MT000009",
         "BMG_DS010018"
        ],
        [
         "67",
         "BMG_MT000010",
         "BMG_DS010013"
        ],
        [
         "68",
         "BMG_MT000011",
         "BMG_DS080086"
        ],
        [
         "70",
         "BMG_MT000011",
         "BMG_DS018120"
        ],
        [
         "72",
         "BMG_MT000011",
         "BMG_DS065276"
        ],
        [
         "73",
         "BMG_MT000012",
         "BMG_DS018120"
        ],
        [
         "74",
         "BMG_MT000012",
         "BMG_DS039850"
        ],
        [
         "75",
         "BMG_MT000013",
         "BMG_DS002896"
        ],
        [
         "77",
         "BMG_MT000013",
         "BMG_DS018120"
        ]
       ],
       "shape": {
        "columns": 2,
        "rows": 24669
       }
      },
      "text/html": [
       "<div>\n",
       "<style scoped>\n",
       "    .dataframe tbody tr th:only-of-type {\n",
       "        vertical-align: middle;\n",
       "    }\n",
       "\n",
       "    .dataframe tbody tr th {\n",
       "        vertical-align: top;\n",
       "    }\n",
       "\n",
       "    .dataframe thead th {\n",
       "        text-align: right;\n",
       "    }\n",
       "</style>\n",
       "<table border=\"1\" class=\"dataframe\">\n",
       "  <thead>\n",
       "    <tr style=\"text-align: right;\">\n",
       "      <th></th>\n",
       "      <th>From_ID</th>\n",
       "      <th>To_ID</th>\n",
       "    </tr>\n",
       "  </thead>\n",
       "  <tbody>\n",
       "    <tr>\n",
       "      <th>4</th>\n",
       "      <td>BMG_MT000001</td>\n",
       "      <td>BMG_DS040780</td>\n",
       "    </tr>\n",
       "    <tr>\n",
       "      <th>5</th>\n",
       "      <td>BMG_MT000001</td>\n",
       "      <td>BMG_DS059381</td>\n",
       "    </tr>\n",
       "    <tr>\n",
       "      <th>6</th>\n",
       "      <td>BMG_MT000001</td>\n",
       "      <td>BMG_DS000821</td>\n",
       "    </tr>\n",
       "    <tr>\n",
       "      <th>7</th>\n",
       "      <td>BMG_MT000001</td>\n",
       "      <td>BMG_DS010232</td>\n",
       "    </tr>\n",
       "    <tr>\n",
       "      <th>8</th>\n",
       "      <td>BMG_MT000001</td>\n",
       "      <td>BMG_DS039850</td>\n",
       "    </tr>\n",
       "    <tr>\n",
       "      <th>...</th>\n",
       "      <td>...</td>\n",
       "      <td>...</td>\n",
       "    </tr>\n",
       "    <tr>\n",
       "      <th>27665</th>\n",
       "      <td>BMG_MT156643</td>\n",
       "      <td>BMG_DS018120</td>\n",
       "    </tr>\n",
       "    <tr>\n",
       "      <th>27666</th>\n",
       "      <td>BMG_MT156676</td>\n",
       "      <td>BMG_DS018120</td>\n",
       "    </tr>\n",
       "    <tr>\n",
       "      <th>27667</th>\n",
       "      <td>BMG_MT156683</td>\n",
       "      <td>BMG_DS018120</td>\n",
       "    </tr>\n",
       "    <tr>\n",
       "      <th>27668</th>\n",
       "      <td>BMG_MT156684</td>\n",
       "      <td>BMG_DS018120</td>\n",
       "    </tr>\n",
       "    <tr>\n",
       "      <th>27669</th>\n",
       "      <td>BMG_MT156715</td>\n",
       "      <td>BMG_DS009904;BMG_DS079797</td>\n",
       "    </tr>\n",
       "  </tbody>\n",
       "</table>\n",
       "<p>24669 rows × 2 columns</p>\n",
       "</div>"
      ],
      "text/plain": [
       "            From_ID                      To_ID\n",
       "4      BMG_MT000001               BMG_DS040780\n",
       "5      BMG_MT000001               BMG_DS059381\n",
       "6      BMG_MT000001               BMG_DS000821\n",
       "7      BMG_MT000001               BMG_DS010232\n",
       "8      BMG_MT000001               BMG_DS039850\n",
       "...             ...                        ...\n",
       "27665  BMG_MT156643               BMG_DS018120\n",
       "27666  BMG_MT156676               BMG_DS018120\n",
       "27667  BMG_MT156683               BMG_DS018120\n",
       "27668  BMG_MT156684               BMG_DS018120\n",
       "27669  BMG_MT156715  BMG_DS009904;BMG_DS079797\n",
       "\n",
       "[24669 rows x 2 columns]"
      ]
     },
     "execution_count": 5,
     "metadata": {},
     "output_type": "execute_result"
    }
   ],
   "source": [
    "metabolite_disease = hmdb_disease[['From_ID', 'To_ID']]\n",
    "metabolite_disease.dropna(subset=['From_ID'], inplace=True)\n",
    "metabolite_disease.dropna(subset=['To_ID'], inplace=True)\n",
    "metabolite_disease"
   ]
  },
  {
   "cell_type": "code",
   "execution_count": 6,
   "metadata": {},
   "outputs": [
    {
     "name": "stderr",
     "output_type": "stream",
     "text": [
      "C:\\Users\\shunn\\AppData\\Local\\Temp\\ipykernel_39224\\2003025764.py:1: SettingWithCopyWarning: \n",
      "A value is trying to be set on a copy of a slice from a DataFrame.\n",
      "Try using .loc[row_indexer,col_indexer] = value instead\n",
      "\n",
      "See the caveats in the documentation: https://pandas.pydata.org/pandas-docs/stable/user_guide/indexing.html#returning-a-view-versus-a-copy\n",
      "  metabolite_disease['From_ID'] = metabolite_disease['From_ID'].str.split(';')\n",
      "C:\\Users\\shunn\\AppData\\Local\\Temp\\ipykernel_39224\\2003025764.py:2: SettingWithCopyWarning: \n",
      "A value is trying to be set on a copy of a slice from a DataFrame.\n",
      "Try using .loc[row_indexer,col_indexer] = value instead\n",
      "\n",
      "See the caveats in the documentation: https://pandas.pydata.org/pandas-docs/stable/user_guide/indexing.html#returning-a-view-versus-a-copy\n",
      "  metabolite_disease['To_ID'] = metabolite_disease['To_ID'].str.split(';')\n"
     ]
    },
    {
     "data": {
      "application/vnd.microsoft.datawrangler.viewer.v0+json": {
       "columns": [
        {
         "name": "index",
         "rawType": "int64",
         "type": "integer"
        },
        {
         "name": "From_ID",
         "rawType": "object",
         "type": "string"
        },
        {
         "name": "To_ID",
         "rawType": "object",
         "type": "string"
        }
       ],
       "conversionMethod": "pd.DataFrame",
       "ref": "6ad76233-4223-4b14-a090-072fe86de8d3",
       "rows": [
        [
         "4",
         "BMG_MT000001",
         "BMG_DS040780"
        ],
        [
         "5",
         "BMG_MT000001",
         "BMG_DS059381"
        ],
        [
         "6",
         "BMG_MT000001",
         "BMG_DS000821"
        ],
        [
         "7",
         "BMG_MT000001",
         "BMG_DS010232"
        ],
        [
         "8",
         "BMG_MT000001",
         "BMG_DS039850"
        ],
        [
         "9",
         "BMG_MT000001",
         "BMG_DS065276"
        ],
        [
         "11",
         "BMG_MT000002",
         "BMG_DS018120"
        ],
        [
         "13",
         "BMG_MT000003",
         "BMG_DS065276"
        ],
        [
         "14",
         "BMG_MT000004",
         "BMG_DS018120"
        ],
        [
         "15",
         "BMG_MT000004",
         "BMG_DS002896"
        ],
        [
         "19",
         "BMG_MT000004",
         "BMG_DS040780"
        ],
        [
         "20",
         "BMG_MT000004",
         "BMG_DS014818"
        ],
        [
         "22",
         "BMG_MT000004",
         "BMG_DS038425"
        ],
        [
         "23",
         "BMG_MT000004",
         "BMG_DS065276"
        ],
        [
         "24",
         "BMG_MT000004",
         "BMG_DS072167"
        ],
        [
         "25",
         "BMG_MT000005",
         "BMG_DS002680"
        ],
        [
         "26",
         "BMG_MT000006",
         "BMG_DS000821"
        ],
        [
         "27",
         "BMG_MT000006",
         "BMG_DS059381"
        ],
        [
         "28",
         "BMG_MT000006",
         "BMG_DS052514"
        ],
        [
         "29",
         "BMG_MT000006",
         "BMG_DS018120"
        ],
        [
         "30",
         "BMG_MT000006",
         "BMG_DS002896"
        ],
        [
         "34",
         "BMG_MT000006",
         "BMG_DS044415"
        ],
        [
         "35",
         "BMG_MT000006",
         "BMG_DS044321"
        ],
        [
         "35",
         "BMG_MT000006",
         "BMG_DS080312"
        ],
        [
         "36",
         "BMG_MT000006",
         "BMG_DS032021"
        ],
        [
         "40",
         "BMG_MT000006",
         "BMG_DS010244"
        ],
        [
         "41",
         "BMG_MT000006",
         "BMG_DS016734"
        ],
        [
         "42",
         "BMG_MT000006",
         "BMG_DS038203"
        ],
        [
         "43",
         "BMG_MT000006",
         "BMG_DS037582"
        ],
        [
         "47",
         "BMG_MT000006",
         "BMG_DS080086"
        ],
        [
         "48",
         "BMG_MT000006",
         "BMG_DS040780"
        ],
        [
         "49",
         "BMG_MT000006",
         "BMG_DS014818"
        ],
        [
         "51",
         "BMG_MT000006",
         "BMG_DS065276"
        ],
        [
         "52",
         "BMG_MT000006",
         "BMG_DS006068"
        ],
        [
         "53",
         "BMG_MT000006",
         "BMG_DS016901"
        ],
        [
         "56",
         "BMG_MT000006",
         "BMG_DS002761"
        ],
        [
         "57",
         "BMG_MT000007",
         "BMG_DS065393"
        ],
        [
         "58",
         "BMG_MT000007",
         "BMG_DS018120"
        ],
        [
         "59",
         "BMG_MT000007",
         "BMG_DS080086"
        ],
        [
         "61",
         "BMG_MT000007",
         "BMG_DS065276"
        ],
        [
         "62",
         "BMG_MT000008",
         "BMG_DS080086"
        ],
        [
         "64",
         "BMG_MT000008",
         "BMG_DS018120"
        ],
        [
         "65",
         "BMG_MT000009",
         "BMG_DS010018"
        ],
        [
         "67",
         "BMG_MT000010",
         "BMG_DS010013"
        ],
        [
         "68",
         "BMG_MT000011",
         "BMG_DS080086"
        ],
        [
         "70",
         "BMG_MT000011",
         "BMG_DS018120"
        ],
        [
         "72",
         "BMG_MT000011",
         "BMG_DS065276"
        ],
        [
         "73",
         "BMG_MT000012",
         "BMG_DS018120"
        ],
        [
         "74",
         "BMG_MT000012",
         "BMG_DS039850"
        ],
        [
         "75",
         "BMG_MT000013",
         "BMG_DS002896"
        ]
       ],
       "shape": {
        "columns": 2,
        "rows": 24970
       }
      },
      "text/html": [
       "<div>\n",
       "<style scoped>\n",
       "    .dataframe tbody tr th:only-of-type {\n",
       "        vertical-align: middle;\n",
       "    }\n",
       "\n",
       "    .dataframe tbody tr th {\n",
       "        vertical-align: top;\n",
       "    }\n",
       "\n",
       "    .dataframe thead th {\n",
       "        text-align: right;\n",
       "    }\n",
       "</style>\n",
       "<table border=\"1\" class=\"dataframe\">\n",
       "  <thead>\n",
       "    <tr style=\"text-align: right;\">\n",
       "      <th></th>\n",
       "      <th>From_ID</th>\n",
       "      <th>To_ID</th>\n",
       "    </tr>\n",
       "  </thead>\n",
       "  <tbody>\n",
       "    <tr>\n",
       "      <th>4</th>\n",
       "      <td>BMG_MT000001</td>\n",
       "      <td>BMG_DS040780</td>\n",
       "    </tr>\n",
       "    <tr>\n",
       "      <th>5</th>\n",
       "      <td>BMG_MT000001</td>\n",
       "      <td>BMG_DS059381</td>\n",
       "    </tr>\n",
       "    <tr>\n",
       "      <th>6</th>\n",
       "      <td>BMG_MT000001</td>\n",
       "      <td>BMG_DS000821</td>\n",
       "    </tr>\n",
       "    <tr>\n",
       "      <th>7</th>\n",
       "      <td>BMG_MT000001</td>\n",
       "      <td>BMG_DS010232</td>\n",
       "    </tr>\n",
       "    <tr>\n",
       "      <th>8</th>\n",
       "      <td>BMG_MT000001</td>\n",
       "      <td>BMG_DS039850</td>\n",
       "    </tr>\n",
       "    <tr>\n",
       "      <th>...</th>\n",
       "      <td>...</td>\n",
       "      <td>...</td>\n",
       "    </tr>\n",
       "    <tr>\n",
       "      <th>27666</th>\n",
       "      <td>BMG_MT156676</td>\n",
       "      <td>BMG_DS018120</td>\n",
       "    </tr>\n",
       "    <tr>\n",
       "      <th>27667</th>\n",
       "      <td>BMG_MT156683</td>\n",
       "      <td>BMG_DS018120</td>\n",
       "    </tr>\n",
       "    <tr>\n",
       "      <th>27668</th>\n",
       "      <td>BMG_MT156684</td>\n",
       "      <td>BMG_DS018120</td>\n",
       "    </tr>\n",
       "    <tr>\n",
       "      <th>27669</th>\n",
       "      <td>BMG_MT156715</td>\n",
       "      <td>BMG_DS009904</td>\n",
       "    </tr>\n",
       "    <tr>\n",
       "      <th>27669</th>\n",
       "      <td>BMG_MT156715</td>\n",
       "      <td>BMG_DS079797</td>\n",
       "    </tr>\n",
       "  </tbody>\n",
       "</table>\n",
       "<p>24970 rows × 2 columns</p>\n",
       "</div>"
      ],
      "text/plain": [
       "            From_ID         To_ID\n",
       "4      BMG_MT000001  BMG_DS040780\n",
       "5      BMG_MT000001  BMG_DS059381\n",
       "6      BMG_MT000001  BMG_DS000821\n",
       "7      BMG_MT000001  BMG_DS010232\n",
       "8      BMG_MT000001  BMG_DS039850\n",
       "...             ...           ...\n",
       "27666  BMG_MT156676  BMG_DS018120\n",
       "27667  BMG_MT156683  BMG_DS018120\n",
       "27668  BMG_MT156684  BMG_DS018120\n",
       "27669  BMG_MT156715  BMG_DS009904\n",
       "27669  BMG_MT156715  BMG_DS079797\n",
       "\n",
       "[24970 rows x 2 columns]"
      ]
     },
     "execution_count": 6,
     "metadata": {},
     "output_type": "execute_result"
    }
   ],
   "source": [
    "metabolite_disease['From_ID'] = metabolite_disease['From_ID'].str.split(';')\n",
    "metabolite_disease['To_ID'] = metabolite_disease['To_ID'].str.split(';')\n",
    "\n",
    "metabolite_disease = metabolite_disease.explode('From_ID')\n",
    "metabolite_disease = metabolite_disease.explode('To_ID')\n",
    "\n",
    "metabolite_disease.drop_duplicates(inplace=True)\n",
    "metabolite_disease"
   ]
  },
  {
   "cell_type": "markdown",
   "metadata": {},
   "source": [
    "## Metabolite-Disease Relationship"
   ]
  },
  {
   "cell_type": "code",
   "execution_count": 7,
   "metadata": {},
   "outputs": [
    {
     "data": {
      "application/vnd.microsoft.datawrangler.viewer.v0+json": {
       "columns": [
        {
         "name": "index",
         "rawType": "int64",
         "type": "integer"
        },
        {
         "name": "BioMedGraphica_ID",
         "rawType": "object",
         "type": "string"
        },
        {
         "name": "From_ID",
         "rawType": "object",
         "type": "string"
        },
        {
         "name": "To_ID",
         "rawType": "object",
         "type": "string"
        },
        {
         "name": "Source",
         "rawType": "object",
         "type": "string"
        },
        {
         "name": "Type",
         "rawType": "object",
         "type": "string"
        }
       ],
       "conversionMethod": "pd.DataFrame",
       "ref": "d977a17e-e053-4e30-8d14-d992252f4400",
       "rows": [
        [
         "4",
         "BMG_ED_MTDS00001",
         "BMG_MT000001",
         "BMG_DS040780",
         "HMDB",
         "Metabolite-Disease"
        ],
        [
         "5",
         "BMG_ED_MTDS00002",
         "BMG_MT000001",
         "BMG_DS059381",
         "HMDB",
         "Metabolite-Disease"
        ],
        [
         "6",
         "BMG_ED_MTDS00003",
         "BMG_MT000001",
         "BMG_DS000821",
         "HMDB",
         "Metabolite-Disease"
        ],
        [
         "7",
         "BMG_ED_MTDS00004",
         "BMG_MT000001",
         "BMG_DS010232",
         "HMDB",
         "Metabolite-Disease"
        ],
        [
         "8",
         "BMG_ED_MTDS00005",
         "BMG_MT000001",
         "BMG_DS039850",
         "HMDB",
         "Metabolite-Disease"
        ],
        [
         "9",
         "BMG_ED_MTDS00006",
         "BMG_MT000001",
         "BMG_DS065276",
         "HMDB",
         "Metabolite-Disease"
        ],
        [
         "11",
         "BMG_ED_MTDS00007",
         "BMG_MT000002",
         "BMG_DS018120",
         "HMDB",
         "Metabolite-Disease"
        ],
        [
         "13",
         "BMG_ED_MTDS00008",
         "BMG_MT000003",
         "BMG_DS065276",
         "HMDB",
         "Metabolite-Disease"
        ],
        [
         "14",
         "BMG_ED_MTDS00009",
         "BMG_MT000004",
         "BMG_DS018120",
         "HMDB",
         "Metabolite-Disease"
        ],
        [
         "15",
         "BMG_ED_MTDS00010",
         "BMG_MT000004",
         "BMG_DS002896",
         "HMDB",
         "Metabolite-Disease"
        ],
        [
         "19",
         "BMG_ED_MTDS00011",
         "BMG_MT000004",
         "BMG_DS040780",
         "HMDB",
         "Metabolite-Disease"
        ],
        [
         "20",
         "BMG_ED_MTDS00012",
         "BMG_MT000004",
         "BMG_DS014818",
         "HMDB",
         "Metabolite-Disease"
        ],
        [
         "22",
         "BMG_ED_MTDS00013",
         "BMG_MT000004",
         "BMG_DS038425",
         "HMDB",
         "Metabolite-Disease"
        ],
        [
         "23",
         "BMG_ED_MTDS00014",
         "BMG_MT000004",
         "BMG_DS065276",
         "HMDB",
         "Metabolite-Disease"
        ],
        [
         "24",
         "BMG_ED_MTDS00015",
         "BMG_MT000004",
         "BMG_DS072167",
         "HMDB",
         "Metabolite-Disease"
        ],
        [
         "25",
         "BMG_ED_MTDS00016",
         "BMG_MT000005",
         "BMG_DS002680",
         "HMDB",
         "Metabolite-Disease"
        ],
        [
         "26",
         "BMG_ED_MTDS00017",
         "BMG_MT000006",
         "BMG_DS000821",
         "HMDB",
         "Metabolite-Disease"
        ],
        [
         "27",
         "BMG_ED_MTDS00018",
         "BMG_MT000006",
         "BMG_DS059381",
         "HMDB",
         "Metabolite-Disease"
        ],
        [
         "28",
         "BMG_ED_MTDS00019",
         "BMG_MT000006",
         "BMG_DS052514",
         "HMDB",
         "Metabolite-Disease"
        ],
        [
         "29",
         "BMG_ED_MTDS00020",
         "BMG_MT000006",
         "BMG_DS018120",
         "HMDB",
         "Metabolite-Disease"
        ],
        [
         "30",
         "BMG_ED_MTDS00021",
         "BMG_MT000006",
         "BMG_DS002896",
         "HMDB",
         "Metabolite-Disease"
        ],
        [
         "34",
         "BMG_ED_MTDS00022",
         "BMG_MT000006",
         "BMG_DS044415",
         "HMDB",
         "Metabolite-Disease"
        ],
        [
         "35",
         "BMG_ED_MTDS00023",
         "BMG_MT000006",
         "BMG_DS044321",
         "HMDB",
         "Metabolite-Disease"
        ],
        [
         "35",
         "BMG_ED_MTDS00024",
         "BMG_MT000006",
         "BMG_DS080312",
         "HMDB",
         "Metabolite-Disease"
        ],
        [
         "36",
         "BMG_ED_MTDS00025",
         "BMG_MT000006",
         "BMG_DS032021",
         "HMDB",
         "Metabolite-Disease"
        ],
        [
         "40",
         "BMG_ED_MTDS00026",
         "BMG_MT000006",
         "BMG_DS010244",
         "HMDB",
         "Metabolite-Disease"
        ],
        [
         "41",
         "BMG_ED_MTDS00027",
         "BMG_MT000006",
         "BMG_DS016734",
         "HMDB",
         "Metabolite-Disease"
        ],
        [
         "42",
         "BMG_ED_MTDS00028",
         "BMG_MT000006",
         "BMG_DS038203",
         "HMDB",
         "Metabolite-Disease"
        ],
        [
         "43",
         "BMG_ED_MTDS00029",
         "BMG_MT000006",
         "BMG_DS037582",
         "HMDB",
         "Metabolite-Disease"
        ],
        [
         "47",
         "BMG_ED_MTDS00030",
         "BMG_MT000006",
         "BMG_DS080086",
         "HMDB",
         "Metabolite-Disease"
        ],
        [
         "48",
         "BMG_ED_MTDS00031",
         "BMG_MT000006",
         "BMG_DS040780",
         "HMDB",
         "Metabolite-Disease"
        ],
        [
         "49",
         "BMG_ED_MTDS00032",
         "BMG_MT000006",
         "BMG_DS014818",
         "HMDB",
         "Metabolite-Disease"
        ],
        [
         "51",
         "BMG_ED_MTDS00033",
         "BMG_MT000006",
         "BMG_DS065276",
         "HMDB",
         "Metabolite-Disease"
        ],
        [
         "52",
         "BMG_ED_MTDS00034",
         "BMG_MT000006",
         "BMG_DS006068",
         "HMDB",
         "Metabolite-Disease"
        ],
        [
         "53",
         "BMG_ED_MTDS00035",
         "BMG_MT000006",
         "BMG_DS016901",
         "HMDB",
         "Metabolite-Disease"
        ],
        [
         "56",
         "BMG_ED_MTDS00036",
         "BMG_MT000006",
         "BMG_DS002761",
         "HMDB",
         "Metabolite-Disease"
        ],
        [
         "57",
         "BMG_ED_MTDS00037",
         "BMG_MT000007",
         "BMG_DS065393",
         "HMDB",
         "Metabolite-Disease"
        ],
        [
         "58",
         "BMG_ED_MTDS00038",
         "BMG_MT000007",
         "BMG_DS018120",
         "HMDB",
         "Metabolite-Disease"
        ],
        [
         "59",
         "BMG_ED_MTDS00039",
         "BMG_MT000007",
         "BMG_DS080086",
         "HMDB",
         "Metabolite-Disease"
        ],
        [
         "61",
         "BMG_ED_MTDS00040",
         "BMG_MT000007",
         "BMG_DS065276",
         "HMDB",
         "Metabolite-Disease"
        ],
        [
         "62",
         "BMG_ED_MTDS00041",
         "BMG_MT000008",
         "BMG_DS080086",
         "HMDB",
         "Metabolite-Disease"
        ],
        [
         "64",
         "BMG_ED_MTDS00042",
         "BMG_MT000008",
         "BMG_DS018120",
         "HMDB",
         "Metabolite-Disease"
        ],
        [
         "65",
         "BMG_ED_MTDS00043",
         "BMG_MT000009",
         "BMG_DS010018",
         "HMDB",
         "Metabolite-Disease"
        ],
        [
         "67",
         "BMG_ED_MTDS00044",
         "BMG_MT000010",
         "BMG_DS010013",
         "HMDB",
         "Metabolite-Disease"
        ],
        [
         "68",
         "BMG_ED_MTDS00045",
         "BMG_MT000011",
         "BMG_DS080086",
         "HMDB",
         "Metabolite-Disease"
        ],
        [
         "70",
         "BMG_ED_MTDS00046",
         "BMG_MT000011",
         "BMG_DS018120",
         "HMDB",
         "Metabolite-Disease"
        ],
        [
         "72",
         "BMG_ED_MTDS00047",
         "BMG_MT000011",
         "BMG_DS065276",
         "HMDB",
         "Metabolite-Disease"
        ],
        [
         "73",
         "BMG_ED_MTDS00048",
         "BMG_MT000012",
         "BMG_DS018120",
         "HMDB",
         "Metabolite-Disease"
        ],
        [
         "74",
         "BMG_ED_MTDS00049",
         "BMG_MT000012",
         "BMG_DS039850",
         "HMDB",
         "Metabolite-Disease"
        ],
        [
         "75",
         "BMG_ED_MTDS00050",
         "BMG_MT000013",
         "BMG_DS002896",
         "HMDB",
         "Metabolite-Disease"
        ]
       ],
       "shape": {
        "columns": 5,
        "rows": 24970
       }
      },
      "text/html": [
       "<div>\n",
       "<style scoped>\n",
       "    .dataframe tbody tr th:only-of-type {\n",
       "        vertical-align: middle;\n",
       "    }\n",
       "\n",
       "    .dataframe tbody tr th {\n",
       "        vertical-align: top;\n",
       "    }\n",
       "\n",
       "    .dataframe thead th {\n",
       "        text-align: right;\n",
       "    }\n",
       "</style>\n",
       "<table border=\"1\" class=\"dataframe\">\n",
       "  <thead>\n",
       "    <tr style=\"text-align: right;\">\n",
       "      <th></th>\n",
       "      <th>BioMedGraphica_ID</th>\n",
       "      <th>From_ID</th>\n",
       "      <th>To_ID</th>\n",
       "      <th>Source</th>\n",
       "      <th>Type</th>\n",
       "    </tr>\n",
       "  </thead>\n",
       "  <tbody>\n",
       "    <tr>\n",
       "      <th>4</th>\n",
       "      <td>BMG_ED_MTDS00001</td>\n",
       "      <td>BMG_MT000001</td>\n",
       "      <td>BMG_DS040780</td>\n",
       "      <td>HMDB</td>\n",
       "      <td>Metabolite-Disease</td>\n",
       "    </tr>\n",
       "    <tr>\n",
       "      <th>5</th>\n",
       "      <td>BMG_ED_MTDS00002</td>\n",
       "      <td>BMG_MT000001</td>\n",
       "      <td>BMG_DS059381</td>\n",
       "      <td>HMDB</td>\n",
       "      <td>Metabolite-Disease</td>\n",
       "    </tr>\n",
       "    <tr>\n",
       "      <th>6</th>\n",
       "      <td>BMG_ED_MTDS00003</td>\n",
       "      <td>BMG_MT000001</td>\n",
       "      <td>BMG_DS000821</td>\n",
       "      <td>HMDB</td>\n",
       "      <td>Metabolite-Disease</td>\n",
       "    </tr>\n",
       "    <tr>\n",
       "      <th>7</th>\n",
       "      <td>BMG_ED_MTDS00004</td>\n",
       "      <td>BMG_MT000001</td>\n",
       "      <td>BMG_DS010232</td>\n",
       "      <td>HMDB</td>\n",
       "      <td>Metabolite-Disease</td>\n",
       "    </tr>\n",
       "    <tr>\n",
       "      <th>8</th>\n",
       "      <td>BMG_ED_MTDS00005</td>\n",
       "      <td>BMG_MT000001</td>\n",
       "      <td>BMG_DS039850</td>\n",
       "      <td>HMDB</td>\n",
       "      <td>Metabolite-Disease</td>\n",
       "    </tr>\n",
       "    <tr>\n",
       "      <th>...</th>\n",
       "      <td>...</td>\n",
       "      <td>...</td>\n",
       "      <td>...</td>\n",
       "      <td>...</td>\n",
       "      <td>...</td>\n",
       "    </tr>\n",
       "    <tr>\n",
       "      <th>27666</th>\n",
       "      <td>BMG_ED_MTDS24966</td>\n",
       "      <td>BMG_MT156676</td>\n",
       "      <td>BMG_DS018120</td>\n",
       "      <td>HMDB</td>\n",
       "      <td>Metabolite-Disease</td>\n",
       "    </tr>\n",
       "    <tr>\n",
       "      <th>27667</th>\n",
       "      <td>BMG_ED_MTDS24967</td>\n",
       "      <td>BMG_MT156683</td>\n",
       "      <td>BMG_DS018120</td>\n",
       "      <td>HMDB</td>\n",
       "      <td>Metabolite-Disease</td>\n",
       "    </tr>\n",
       "    <tr>\n",
       "      <th>27668</th>\n",
       "      <td>BMG_ED_MTDS24968</td>\n",
       "      <td>BMG_MT156684</td>\n",
       "      <td>BMG_DS018120</td>\n",
       "      <td>HMDB</td>\n",
       "      <td>Metabolite-Disease</td>\n",
       "    </tr>\n",
       "    <tr>\n",
       "      <th>27669</th>\n",
       "      <td>BMG_ED_MTDS24969</td>\n",
       "      <td>BMG_MT156715</td>\n",
       "      <td>BMG_DS009904</td>\n",
       "      <td>HMDB</td>\n",
       "      <td>Metabolite-Disease</td>\n",
       "    </tr>\n",
       "    <tr>\n",
       "      <th>27669</th>\n",
       "      <td>BMG_ED_MTDS24970</td>\n",
       "      <td>BMG_MT156715</td>\n",
       "      <td>BMG_DS079797</td>\n",
       "      <td>HMDB</td>\n",
       "      <td>Metabolite-Disease</td>\n",
       "    </tr>\n",
       "  </tbody>\n",
       "</table>\n",
       "<p>24970 rows × 5 columns</p>\n",
       "</div>"
      ],
      "text/plain": [
       "      BioMedGraphica_ID       From_ID         To_ID Source                Type\n",
       "4      BMG_ED_MTDS00001  BMG_MT000001  BMG_DS040780   HMDB  Metabolite-Disease\n",
       "5      BMG_ED_MTDS00002  BMG_MT000001  BMG_DS059381   HMDB  Metabolite-Disease\n",
       "6      BMG_ED_MTDS00003  BMG_MT000001  BMG_DS000821   HMDB  Metabolite-Disease\n",
       "7      BMG_ED_MTDS00004  BMG_MT000001  BMG_DS010232   HMDB  Metabolite-Disease\n",
       "8      BMG_ED_MTDS00005  BMG_MT000001  BMG_DS039850   HMDB  Metabolite-Disease\n",
       "...                 ...           ...           ...    ...                 ...\n",
       "27666  BMG_ED_MTDS24966  BMG_MT156676  BMG_DS018120   HMDB  Metabolite-Disease\n",
       "27667  BMG_ED_MTDS24967  BMG_MT156683  BMG_DS018120   HMDB  Metabolite-Disease\n",
       "27668  BMG_ED_MTDS24968  BMG_MT156684  BMG_DS018120   HMDB  Metabolite-Disease\n",
       "27669  BMG_ED_MTDS24969  BMG_MT156715  BMG_DS009904   HMDB  Metabolite-Disease\n",
       "27669  BMG_ED_MTDS24970  BMG_MT156715  BMG_DS079797   HMDB  Metabolite-Disease\n",
       "\n",
       "[24970 rows x 5 columns]"
      ]
     },
     "execution_count": 7,
     "metadata": {},
     "output_type": "execute_result"
    }
   ],
   "source": [
    "metabolite_disease['Source'] = 'HMDB'\n",
    "metabolite_disease['Type'] = 'Metabolite-Disease'\n",
    "max_length = len(str(len(metabolite_disease)))\n",
    "metabolite_disease['BioMedGraphica_ID'] = ['BMG_ED_MTDS' + str(i).zfill(max_length) for i in range(1, len(metabolite_disease) + 1)]\n",
    "columns = ['BioMedGraphica_ID'] + [col for col in metabolite_disease.columns if col != 'BioMedGraphica_ID']  # re-order columns\n",
    "metabolite_disease = metabolite_disease[columns]\n",
    "metabolite_disease"
   ]
  },
  {
   "cell_type": "code",
   "execution_count": 8,
   "metadata": {},
   "outputs": [
    {
     "name": "stdout",
     "output_type": "stream",
     "text": [
      "Data has been saved to D:\\RA\\BMG\\BioMedGraphica\\Relation\\Metabolite-Disease\\BioMedGraphica_Metabolite_Disease.csv\n"
     ]
    }
   ],
   "source": [
    "import os\n",
    "from pathlib import Path\n",
    "\n",
    "# get the current working directory\n",
    "current_working_dir = Path(os.getcwd()).resolve()\n",
    "\n",
    "# get the output directory\n",
    "grandparent_dir = current_working_dir.parent.parent.parent\n",
    "\n",
    "target_folder = grandparent_dir / 'BioMedGraphica' / 'Relation' / 'Metabolite-Disease'\n",
    "if not target_folder.exists():\n",
    "    target_folder.mkdir(parents=True)\n",
    "    print(f\"Folder {target_folder} has been created.\")\n",
    "\n",
    "output_file_path = target_folder / 'BioMedGraphica_Metabolite_Disease.csv'\n",
    "metabolite_disease.to_csv(output_file_path, index=False)\n",
    "print(f\"Data has been saved to {output_file_path}\")"
   ]
  }
 ],
 "metadata": {
  "kernelspec": {
   "display_name": "base",
   "language": "python",
   "name": "python3"
  },
  "language_info": {
   "codemirror_mode": {
    "name": "ipython",
    "version": 3
   },
   "file_extension": ".py",
   "mimetype": "text/x-python",
   "name": "python",
   "nbconvert_exporter": "python",
   "pygments_lexer": "ipython3",
   "version": "3.9.19"
  }
 },
 "nbformat": 4,
 "nbformat_minor": 2
}
