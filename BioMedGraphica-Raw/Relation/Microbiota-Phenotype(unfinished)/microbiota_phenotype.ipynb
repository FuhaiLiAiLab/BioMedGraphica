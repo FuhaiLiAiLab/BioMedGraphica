{
 "cells": [
  {
   "cell_type": "markdown",
   "metadata": {},
   "source": [
    "### BioMedGraphica ID"
   ]
  },
  {
   "cell_type": "code",
   "execution_count": 2,
   "metadata": {},
   "outputs": [],
   "source": [
    "import pandas as pd\n",
    "import os\n",
    "from pathlib import Path\n",
    "\n",
    "current_working_dir = Path(os.getcwd()).resolve()\n",
    "grandparent_dir = current_working_dir.parent.parent.parent\n",
    "target_dir_microbiota = grandparent_dir / 'BioMedGraphica' / 'Entity' / 'Microbiota' / 'BioMedGraphica_Microbiota.csv'\n",
    "target_dir_phenotype = grandparent_dir / 'BioMedGraphica' / 'Entity' / 'Phenotype' / 'BioMedGraphica_Phenotype.csv'\n",
    "biomedgraphica_microbiota = pd.read_csv(target_dir_microbiota, dtype=str)\n",
    "biomedgraphica_phenotype = pd.read_csv(target_dir_phenotype, dtype=str)"
   ]
  },
  {
   "cell_type": "markdown",
   "metadata": {},
   "source": [
    "### gutMDisorder"
   ]
  },
  {
   "cell_type": "markdown",
   "metadata": {},
   "source": [
    "#### Literature"
   ]
  },
  {
   "cell_type": "code",
   "execution_count": 3,
   "metadata": {},
   "outputs": [
    {
     "data": {
      "application/vnd.microsoft.datawrangler.viewer.v0+json": {
       "columns": [
        {
         "name": "index",
         "rawType": "int64",
         "type": "integer"
        },
        {
         "name": "Index",
         "rawType": "object",
         "type": "string"
        },
        {
         "name": "PMID",
         "rawType": "object",
         "type": "string"
        },
        {
         "name": "Title",
         "rawType": "object",
         "type": "string"
        },
        {
         "name": "Year",
         "rawType": "object",
         "type": "string"
        },
        {
         "name": "Journal",
         "rawType": "object",
         "type": "string"
        },
        {
         "name": "Authors",
         "rawType": "object",
         "type": "string"
        },
        {
         "name": "Research Type",
         "rawType": "object",
         "type": "string"
        },
        {
         "name": "Condition 1",
         "rawType": "object",
         "type": "string"
        },
        {
         "name": "Condition 2",
         "rawType": "object",
         "type": "string"
        },
        {
         "name": "Intervention Type",
         "rawType": "object",
         "type": "unknown"
        },
        {
         "name": "Human/Mouse",
         "rawType": "object",
         "type": "string"
        }
       ],
       "conversionMethod": "pd.DataFrame",
       "ref": "79b0fd8e-e0ae-4883-8023-6238ba2fcc26",
       "rows": [
        [
         "0",
         "1",
         "17897884",
         "Imbalance in intestinal microflora constitution could be involved in the pathogenesis of inflammatory bowel disease",
         "2008",
         "international journal of medical microbiology",
         "Hiromasa Takaishi, Takahiro Matsuki, Atsushi Nakazawa, Toshihiko Takada, Shoichi Kado, Takashi Asahara, Nobuhiko Kamada, Atsushi Sakuraba, Tomoharu Yajima, Hajime Higuchi, Nagamu Inoue, Haruhiko Ogata, Yasushi Iwao, Koji Nomoto, Ryuichiro Tanaka, Toshifumi Hibi",
         "Gut microbiota associated with phenotype",
         "Colitis, Ulcerative",
         "Health",
         null,
         "Human"
        ],
        [
         "1",
         "2",
         "17897884",
         "Imbalance in intestinal microflora constitution could be involved in the pathogenesis of inflammatory bowel disease",
         "2008",
         "international journal of medical microbiology",
         "Hiromasa Takaishi, Takahiro Matsuki, Atsushi Nakazawa, Toshihiko Takada, Shoichi Kado, Takashi Asahara, Nobuhiko Kamada, Atsushi Sakuraba, Tomoharu Yajima, Hajime Higuchi, Nagamu Inoue, Haruhiko Ogata, Yasushi Iwao, Koji Nomoto, Ryuichiro Tanaka, Toshifumi Hibi",
         "Gut microbiota associated with phenotype",
         "Crohn Disease",
         "Health",
         null,
         "Human"
        ],
        [
         "2",
         "3",
         "17897884",
         "Imbalance in intestinal microflora constitution could be involved in the pathogenesis of inflammatory bowel disease",
         "2008",
         "international journal of medical microbiology",
         "Hiromasa Takaishi, Takahiro Matsuki, Atsushi Nakazawa, Toshihiko Takada, Shoichi Kado, Takashi Asahara, Nobuhiko Kamada, Atsushi Sakuraba, Tomoharu Yajima, Hajime Higuchi, Nagamu Inoue, Haruhiko Ogata, Yasushi Iwao, Koji Nomoto, Ryuichiro Tanaka, Toshifumi Hibi",
         "Gut microbiota associated with phenotype",
         "Clinical Deterioration;Colitis,Ulcerative",
         "Remission, Spontaneous;Colitis,Ulcerative",
         null,
         "Human"
        ],
        [
         "3",
         "4",
         "17430346",
         "Differences in the composition of intestinal Bifidobacterium species and the development of allergic diseases in infants in rural Japan",
         "2007",
         "clinical and experimental allergy",
         "S Suzuki, N Shimojo, Y Tajiri, M Kumemura, Y Kohno",
         "Gut microbiota associated with phenotype",
         "Hypersensitivity",
         "Health",
         null,
         "Human"
        ],
        [
         "4",
         "5",
         "17265126",
         "High proportions of proinflammatory bacteria on the colonic mucosa in a young patient with ulcerative colitis as revealed by cloning and sequencing of 16S rRNA genes",
         "2007",
         "Digestive Diseases and Sciences",
         "Mei Wang, Göran Molin, Siv Ahrné, Diya Adawi, Bengt Jeppsson",
         "Gut microbiota associated with phenotype",
         "Colitis,Ulcerative",
         "Health",
         null,
         "Human"
        ]
       ],
       "shape": {
        "columns": 11,
        "rows": 5
       }
      },
      "text/html": [
       "<div>\n",
       "<style scoped>\n",
       "    .dataframe tbody tr th:only-of-type {\n",
       "        vertical-align: middle;\n",
       "    }\n",
       "\n",
       "    .dataframe tbody tr th {\n",
       "        vertical-align: top;\n",
       "    }\n",
       "\n",
       "    .dataframe thead th {\n",
       "        text-align: right;\n",
       "    }\n",
       "</style>\n",
       "<table border=\"1\" class=\"dataframe\">\n",
       "  <thead>\n",
       "    <tr style=\"text-align: right;\">\n",
       "      <th></th>\n",
       "      <th>Index</th>\n",
       "      <th>PMID</th>\n",
       "      <th>Title</th>\n",
       "      <th>Year</th>\n",
       "      <th>Journal</th>\n",
       "      <th>Authors</th>\n",
       "      <th>Research Type</th>\n",
       "      <th>Condition 1</th>\n",
       "      <th>Condition 2</th>\n",
       "      <th>Intervention Type</th>\n",
       "      <th>Human/Mouse</th>\n",
       "    </tr>\n",
       "  </thead>\n",
       "  <tbody>\n",
       "    <tr>\n",
       "      <th>0</th>\n",
       "      <td>1</td>\n",
       "      <td>17897884</td>\n",
       "      <td>Imbalance in intestinal microflora constitutio...</td>\n",
       "      <td>2008</td>\n",
       "      <td>international journal of medical microbiology</td>\n",
       "      <td>Hiromasa Takaishi, Takahiro Matsuki, Atsushi N...</td>\n",
       "      <td>Gut microbiota associated with phenotype</td>\n",
       "      <td>Colitis, Ulcerative</td>\n",
       "      <td>Health</td>\n",
       "      <td>NaN</td>\n",
       "      <td>Human</td>\n",
       "    </tr>\n",
       "    <tr>\n",
       "      <th>1</th>\n",
       "      <td>2</td>\n",
       "      <td>17897884</td>\n",
       "      <td>Imbalance in intestinal microflora constitutio...</td>\n",
       "      <td>2008</td>\n",
       "      <td>international journal of medical microbiology</td>\n",
       "      <td>Hiromasa Takaishi, Takahiro Matsuki, Atsushi N...</td>\n",
       "      <td>Gut microbiota associated with phenotype</td>\n",
       "      <td>Crohn Disease</td>\n",
       "      <td>Health</td>\n",
       "      <td>NaN</td>\n",
       "      <td>Human</td>\n",
       "    </tr>\n",
       "    <tr>\n",
       "      <th>2</th>\n",
       "      <td>3</td>\n",
       "      <td>17897884</td>\n",
       "      <td>Imbalance in intestinal microflora constitutio...</td>\n",
       "      <td>2008</td>\n",
       "      <td>international journal of medical microbiology</td>\n",
       "      <td>Hiromasa Takaishi, Takahiro Matsuki, Atsushi N...</td>\n",
       "      <td>Gut microbiota associated with phenotype</td>\n",
       "      <td>Clinical Deterioration;Colitis,Ulcerative</td>\n",
       "      <td>Remission, Spontaneous;Colitis,Ulcerative</td>\n",
       "      <td>NaN</td>\n",
       "      <td>Human</td>\n",
       "    </tr>\n",
       "    <tr>\n",
       "      <th>3</th>\n",
       "      <td>4</td>\n",
       "      <td>17430346</td>\n",
       "      <td>Differences in the composition of intestinal B...</td>\n",
       "      <td>2007</td>\n",
       "      <td>clinical and experimental allergy</td>\n",
       "      <td>S Suzuki, N Shimojo, Y Tajiri, M Kumemura, Y K...</td>\n",
       "      <td>Gut microbiota associated with phenotype</td>\n",
       "      <td>Hypersensitivity</td>\n",
       "      <td>Health</td>\n",
       "      <td>NaN</td>\n",
       "      <td>Human</td>\n",
       "    </tr>\n",
       "    <tr>\n",
       "      <th>4</th>\n",
       "      <td>5</td>\n",
       "      <td>17265126</td>\n",
       "      <td>High proportions of proinflammatory bacteria o...</td>\n",
       "      <td>2007</td>\n",
       "      <td>Digestive Diseases and Sciences</td>\n",
       "      <td>Mei Wang, Göran Molin, Siv Ahrné, Diya Adawi, ...</td>\n",
       "      <td>Gut microbiota associated with phenotype</td>\n",
       "      <td>Colitis,Ulcerative</td>\n",
       "      <td>Health</td>\n",
       "      <td>NaN</td>\n",
       "      <td>Human</td>\n",
       "    </tr>\n",
       "  </tbody>\n",
       "</table>\n",
       "</div>"
      ],
      "text/plain": [
       "  Index      PMID                                              Title  Year  \\\n",
       "0     1  17897884  Imbalance in intestinal microflora constitutio...  2008   \n",
       "1     2  17897884  Imbalance in intestinal microflora constitutio...  2008   \n",
       "2     3  17897884  Imbalance in intestinal microflora constitutio...  2008   \n",
       "3     4  17430346  Differences in the composition of intestinal B...  2007   \n",
       "4     5  17265126  High proportions of proinflammatory bacteria o...  2007   \n",
       "\n",
       "                                         Journal  \\\n",
       "0  international journal of medical microbiology   \n",
       "1  international journal of medical microbiology   \n",
       "2  international journal of medical microbiology   \n",
       "3              clinical and experimental allergy   \n",
       "4                Digestive Diseases and Sciences   \n",
       "\n",
       "                                             Authors  \\\n",
       "0  Hiromasa Takaishi, Takahiro Matsuki, Atsushi N...   \n",
       "1  Hiromasa Takaishi, Takahiro Matsuki, Atsushi N...   \n",
       "2  Hiromasa Takaishi, Takahiro Matsuki, Atsushi N...   \n",
       "3  S Suzuki, N Shimojo, Y Tajiri, M Kumemura, Y K...   \n",
       "4  Mei Wang, Göran Molin, Siv Ahrné, Diya Adawi, ...   \n",
       "\n",
       "                              Research Type  \\\n",
       "0  Gut microbiota associated with phenotype   \n",
       "1  Gut microbiota associated with phenotype   \n",
       "2  Gut microbiota associated with phenotype   \n",
       "3  Gut microbiota associated with phenotype   \n",
       "4  Gut microbiota associated with phenotype   \n",
       "\n",
       "                                 Condition 1  \\\n",
       "0                        Colitis, Ulcerative   \n",
       "1                              Crohn Disease   \n",
       "2  Clinical Deterioration;Colitis,Ulcerative   \n",
       "3                           Hypersensitivity   \n",
       "4                         Colitis,Ulcerative   \n",
       "\n",
       "                                 Condition 2 Intervention Type Human/Mouse  \n",
       "0                                     Health               NaN       Human  \n",
       "1                                     Health               NaN       Human  \n",
       "2  Remission, Spontaneous;Colitis,Ulcerative               NaN       Human  \n",
       "3                                     Health               NaN       Human  \n",
       "4                                     Health               NaN       Human  "
      ]
     },
     "execution_count": 3,
     "metadata": {},
     "output_type": "execute_result"
    }
   ],
   "source": [
    "# Download Link: http://bio-annotation.cn/gutMDisorder/public/res/2.0-literature-associations.xlsx\n",
    "# Download Date: 2025-03-21\n",
    "# Download Version: unknown\n",
    "import pandas as pd\n",
    "\n",
    "literature = pd.read_excel('2.0-literature-associations.xlsx',sheet_name='Literature', dtype=str)\n",
    "literature.head()"
   ]
  },
  {
   "cell_type": "code",
   "execution_count": 4,
   "metadata": {},
   "outputs": [
    {
     "data": {
      "application/vnd.microsoft.datawrangler.viewer.v0+json": {
       "columns": [
        {
         "name": "index",
         "rawType": "int64",
         "type": "integer"
        },
        {
         "name": "Index",
         "rawType": "object",
         "type": "string"
        },
        {
         "name": "Sample Group",
         "rawType": "object",
         "type": "string"
        },
        {
         "name": "Sample Number",
         "rawType": "object",
         "type": "string"
        },
        {
         "name": "Sample Source",
         "rawType": "object",
         "type": "string"
        },
        {
         "name": "Sex (male,female)",
         "rawType": "object",
         "type": "unknown"
        },
        {
         "name": "Age",
         "rawType": "object",
         "type": "string"
        },
        {
         "name": "BMI",
         "rawType": "object",
         "type": "unknown"
        },
        {
         "name": "Nation/Race",
         "rawType": "object",
         "type": "string"
        },
        {
         "name": "Condition",
         "rawType": "object",
         "type": "string"
        },
        {
         "name": "Sequencing Technology",
         "rawType": "object",
         "type": "string"
        },
        {
         "name": "Sequencing Platform",
         "rawType": "object",
         "type": "unknown"
        }
       ],
       "conversionMethod": "pd.DataFrame",
       "ref": "88141ed0-8a4a-4059-bc75-01571e40464e",
       "rows": [
        [
         "0",
         "1",
         "1",
         "73",
         "stool",
         "42,31",
         "48 (16-87) years",
         null,
         "Japanese",
         "Colitis, Ulcerative",
         "16s rRNA gene sequencing",
         null
        ],
        [
         "1",
         "1",
         "2",
         "65",
         "stool",
         "34,31",
         "37 (25-59) years",
         null,
         "Japanese",
         "Health",
         "16s rRNA gene sequencing",
         null
        ],
        [
         "2",
         "2",
         "1",
         "23",
         "stool",
         "13,10",
         "37 (26-55) years",
         null,
         "Japanese",
         "Crohn Disease",
         "16s rRNA gene sequencing",
         null
        ],
        [
         "3",
         "2",
         "2",
         "65",
         "stool",
         "34,31",
         "37 (25-59) years",
         null,
         "Japanese",
         "Health",
         "16s rRNA gene sequencing",
         null
        ],
        [
         "4",
         "3",
         "1",
         "44",
         "stool",
         null,
         "48 (16-87) years",
         null,
         "Japanese",
         "Clinical Deterioration;Colitis, Ulcerative",
         "16s rRNA gene sequencing",
         null
        ]
       ],
       "shape": {
        "columns": 11,
        "rows": 5
       }
      },
      "text/html": [
       "<div>\n",
       "<style scoped>\n",
       "    .dataframe tbody tr th:only-of-type {\n",
       "        vertical-align: middle;\n",
       "    }\n",
       "\n",
       "    .dataframe tbody tr th {\n",
       "        vertical-align: top;\n",
       "    }\n",
       "\n",
       "    .dataframe thead th {\n",
       "        text-align: right;\n",
       "    }\n",
       "</style>\n",
       "<table border=\"1\" class=\"dataframe\">\n",
       "  <thead>\n",
       "    <tr style=\"text-align: right;\">\n",
       "      <th></th>\n",
       "      <th>Index</th>\n",
       "      <th>Sample Group</th>\n",
       "      <th>Sample Number</th>\n",
       "      <th>Sample Source</th>\n",
       "      <th>Sex (male,female)</th>\n",
       "      <th>Age</th>\n",
       "      <th>BMI</th>\n",
       "      <th>Nation/Race</th>\n",
       "      <th>Condition</th>\n",
       "      <th>Sequencing Technology</th>\n",
       "      <th>Sequencing Platform</th>\n",
       "    </tr>\n",
       "  </thead>\n",
       "  <tbody>\n",
       "    <tr>\n",
       "      <th>0</th>\n",
       "      <td>1</td>\n",
       "      <td>1</td>\n",
       "      <td>73</td>\n",
       "      <td>stool</td>\n",
       "      <td>42,31</td>\n",
       "      <td>48 (16-87) years</td>\n",
       "      <td>NaN</td>\n",
       "      <td>Japanese</td>\n",
       "      <td>Colitis, Ulcerative</td>\n",
       "      <td>16s rRNA gene sequencing</td>\n",
       "      <td>NaN</td>\n",
       "    </tr>\n",
       "    <tr>\n",
       "      <th>1</th>\n",
       "      <td>1</td>\n",
       "      <td>2</td>\n",
       "      <td>65</td>\n",
       "      <td>stool</td>\n",
       "      <td>34,31</td>\n",
       "      <td>37 (25-59) years</td>\n",
       "      <td>NaN</td>\n",
       "      <td>Japanese</td>\n",
       "      <td>Health</td>\n",
       "      <td>16s rRNA gene sequencing</td>\n",
       "      <td>NaN</td>\n",
       "    </tr>\n",
       "    <tr>\n",
       "      <th>2</th>\n",
       "      <td>2</td>\n",
       "      <td>1</td>\n",
       "      <td>23</td>\n",
       "      <td>stool</td>\n",
       "      <td>13,10</td>\n",
       "      <td>37 (26-55) years</td>\n",
       "      <td>NaN</td>\n",
       "      <td>Japanese</td>\n",
       "      <td>Crohn Disease</td>\n",
       "      <td>16s rRNA gene sequencing</td>\n",
       "      <td>NaN</td>\n",
       "    </tr>\n",
       "    <tr>\n",
       "      <th>3</th>\n",
       "      <td>2</td>\n",
       "      <td>2</td>\n",
       "      <td>65</td>\n",
       "      <td>stool</td>\n",
       "      <td>34,31</td>\n",
       "      <td>37 (25-59) years</td>\n",
       "      <td>NaN</td>\n",
       "      <td>Japanese</td>\n",
       "      <td>Health</td>\n",
       "      <td>16s rRNA gene sequencing</td>\n",
       "      <td>NaN</td>\n",
       "    </tr>\n",
       "    <tr>\n",
       "      <th>4</th>\n",
       "      <td>3</td>\n",
       "      <td>1</td>\n",
       "      <td>44</td>\n",
       "      <td>stool</td>\n",
       "      <td>NaN</td>\n",
       "      <td>48 (16-87) years</td>\n",
       "      <td>NaN</td>\n",
       "      <td>Japanese</td>\n",
       "      <td>Clinical Deterioration;Colitis, Ulcerative</td>\n",
       "      <td>16s rRNA gene sequencing</td>\n",
       "      <td>NaN</td>\n",
       "    </tr>\n",
       "  </tbody>\n",
       "</table>\n",
       "</div>"
      ],
      "text/plain": [
       "  Index Sample Group Sample Number Sample Source Sex (male,female)  \\\n",
       "0     1            1            73         stool             42,31   \n",
       "1     1            2            65         stool             34,31   \n",
       "2     2            1            23         stool             13,10   \n",
       "3     2            2            65         stool             34,31   \n",
       "4     3            1            44         stool               NaN   \n",
       "\n",
       "                Age  BMI Nation/Race  \\\n",
       "0  48 (16-87) years  NaN    Japanese   \n",
       "1  37 (25-59) years  NaN    Japanese   \n",
       "2  37 (26-55) years  NaN    Japanese   \n",
       "3  37 (25-59) years  NaN    Japanese   \n",
       "4  48 (16-87) years  NaN    Japanese   \n",
       "\n",
       "                                    Condition     Sequencing Technology  \\\n",
       "0                         Colitis, Ulcerative  16s rRNA gene sequencing   \n",
       "1                                      Health  16s rRNA gene sequencing   \n",
       "2                               Crohn Disease  16s rRNA gene sequencing   \n",
       "3                                      Health  16s rRNA gene sequencing   \n",
       "4  Clinical Deterioration;Colitis, Ulcerative  16s rRNA gene sequencing   \n",
       "\n",
       "  Sequencing Platform  \n",
       "0                 NaN  \n",
       "1                 NaN  \n",
       "2                 NaN  \n",
       "3                 NaN  \n",
       "4                 NaN  "
      ]
     },
     "execution_count": 4,
     "metadata": {},
     "output_type": "execute_result"
    }
   ],
   "source": [
    "# Download Link: http://bio-annotation.cn/gutMDisorder/public/res/2.0-literature-associations.xlsx\n",
    "# Download Date: 2025-03-21\n",
    "# Download Version: unknown\n",
    "\n",
    "metadata = pd.read_excel('2.0-literature-associations.xlsx',sheet_name='Metadata', dtype=str)\n",
    "metadata.head()"
   ]
  },
  {
   "cell_type": "code",
   "execution_count": 5,
   "metadata": {},
   "outputs": [
    {
     "data": {
      "application/vnd.microsoft.datawrangler.viewer.v0+json": {
       "columns": [
        {
         "name": "index",
         "rawType": "int64",
         "type": "integer"
        },
        {
         "name": "Index",
         "rawType": "object",
         "type": "string"
        },
        {
         "name": "Gut Microbiata NCBI ID",
         "rawType": "object",
         "type": "unknown"
        }
       ],
       "conversionMethod": "pd.DataFrame",
       "ref": "9da4fd9e-1a94-47f0-95c3-67b122ee023d",
       "rows": [
        [
         "0",
         "1",
         "1380"
        ],
        [
         "1",
         "1",
         "815"
        ],
        [
         "2",
         "1",
         "817"
        ],
        [
         "3",
         "1",
         "28116"
        ],
        [
         "4",
         "1",
         "818"
        ],
        [
         "5",
         "1",
         "1678"
        ],
        [
         "6",
         "1",
         "1532"
        ],
        [
         "7",
         "1",
         "1535"
        ],
        [
         "8",
         "1",
         "1350"
        ],
        [
         "9",
         "1",
         "1578"
        ],
        [
         "10",
         "1",
         "821"
        ],
        [
         "11",
         "1",
         "29465"
        ],
        [
         "12",
         "2",
         "1380"
        ],
        [
         "13",
         "2",
         "815"
        ],
        [
         "14",
         "2",
         "817"
        ],
        [
         "15",
         "2",
         "28116"
        ],
        [
         "16",
         "2",
         "1678"
        ],
        [
         "17",
         "2",
         "1532"
        ],
        [
         "18",
         "2",
         "1535"
        ],
        [
         "19",
         "2",
         "1350"
        ],
        [
         "20",
         "2",
         "1578"
        ],
        [
         "21",
         "2",
         "821"
        ],
        [
         "22",
         "2",
         "29465"
        ],
        [
         "23",
         "3",
         "1380"
        ],
        [
         "24",
         "3",
         "1532"
        ],
        [
         "25",
         "3",
         "1535"
        ],
        [
         "26",
         "4",
         "1681"
        ],
        [
         "27",
         "4",
         "1686"
        ],
        [
         "28",
         "5",
         "816"
        ],
        [
         "29",
         "5",
         "543"
        ],
        [
         "30",
         "5",
         "853"
        ],
        [
         "31",
         "6",
         "543"
        ],
        [
         "32",
         "7",
         "1678"
        ],
        [
         "33",
         "7",
         "39491"
        ],
        [
         "34",
         "7",
         "166486"
        ],
        [
         "35",
         "8",
         "1485"
        ],
        [
         "36",
         "8",
         "561"
        ],
        [
         "37",
         "8",
         "853"
        ],
        [
         "38",
         "8",
         "32066"
        ],
        [
         "39",
         "9",
         "976"
        ],
        [
         "40",
         "9",
         "1578"
        ],
        [
         "41",
         "10",
         "976"
        ],
        [
         "42",
         "11",
         "976"
        ],
        [
         "43",
         "12",
         "1678"
        ],
        [
         "44",
         "12",
         "69824"
        ],
        [
         "45",
         "12",
         "29348"
        ],
        [
         "46",
         "12",
         "1547"
        ],
        [
         "47",
         "13",
         "1678"
        ],
        [
         "48",
         "13",
         "41200"
        ],
        [
         "49",
         "13",
         "1485"
        ]
       ],
       "shape": {
        "columns": 2,
        "rows": 6335
       }
      },
      "text/html": [
       "<div>\n",
       "<style scoped>\n",
       "    .dataframe tbody tr th:only-of-type {\n",
       "        vertical-align: middle;\n",
       "    }\n",
       "\n",
       "    .dataframe tbody tr th {\n",
       "        vertical-align: top;\n",
       "    }\n",
       "\n",
       "    .dataframe thead th {\n",
       "        text-align: right;\n",
       "    }\n",
       "</style>\n",
       "<table border=\"1\" class=\"dataframe\">\n",
       "  <thead>\n",
       "    <tr style=\"text-align: right;\">\n",
       "      <th></th>\n",
       "      <th>Index</th>\n",
       "      <th>Gut Microbiata NCBI ID</th>\n",
       "    </tr>\n",
       "  </thead>\n",
       "  <tbody>\n",
       "    <tr>\n",
       "      <th>0</th>\n",
       "      <td>1</td>\n",
       "      <td>1380</td>\n",
       "    </tr>\n",
       "    <tr>\n",
       "      <th>1</th>\n",
       "      <td>1</td>\n",
       "      <td>815</td>\n",
       "    </tr>\n",
       "    <tr>\n",
       "      <th>2</th>\n",
       "      <td>1</td>\n",
       "      <td>817</td>\n",
       "    </tr>\n",
       "    <tr>\n",
       "      <th>3</th>\n",
       "      <td>1</td>\n",
       "      <td>28116</td>\n",
       "    </tr>\n",
       "    <tr>\n",
       "      <th>4</th>\n",
       "      <td>1</td>\n",
       "      <td>818</td>\n",
       "    </tr>\n",
       "    <tr>\n",
       "      <th>...</th>\n",
       "      <td>...</td>\n",
       "      <td>...</td>\n",
       "    </tr>\n",
       "    <tr>\n",
       "      <th>6410</th>\n",
       "      <td>999</td>\n",
       "      <td>816</td>\n",
       "    </tr>\n",
       "    <tr>\n",
       "      <th>6411</th>\n",
       "      <td>999</td>\n",
       "      <td>310297</td>\n",
       "    </tr>\n",
       "    <tr>\n",
       "      <th>6412</th>\n",
       "      <td>1000</td>\n",
       "      <td>116085</td>\n",
       "    </tr>\n",
       "    <tr>\n",
       "      <th>6413</th>\n",
       "      <td>1001</td>\n",
       "      <td>116085</td>\n",
       "    </tr>\n",
       "    <tr>\n",
       "      <th>6414</th>\n",
       "      <td>1002</td>\n",
       "      <td>116085</td>\n",
       "    </tr>\n",
       "  </tbody>\n",
       "</table>\n",
       "<p>6335 rows × 2 columns</p>\n",
       "</div>"
      ],
      "text/plain": [
       "     Index Gut Microbiata NCBI ID\n",
       "0        1                   1380\n",
       "1        1                    815\n",
       "2        1                    817\n",
       "3        1                  28116\n",
       "4        1                    818\n",
       "...    ...                    ...\n",
       "6410   999                    816\n",
       "6411   999                 310297\n",
       "6412  1000                 116085\n",
       "6413  1001                 116085\n",
       "6414  1002                 116085\n",
       "\n",
       "[6335 rows x 2 columns]"
      ]
     },
     "execution_count": 5,
     "metadata": {},
     "output_type": "execute_result"
    }
   ],
   "source": [
    "# Download Link: http://bio-annotation.cn/gutMDisorder/public/res/2.0-literature-associations.xlsx\n",
    "# Download Date: 2025-03-21\n",
    "# Download Version: unknown\n",
    "\n",
    "associations = pd.read_excel('2.0-literature-associations.xlsx',sheet_name='Association', dtype=str)\n",
    "associations = associations[['Index', 'Gut Microbiata NCBI ID']].drop_duplicates()\n",
    "associations"
   ]
  },
  {
   "cell_type": "markdown",
   "metadata": {},
   "source": [
    "Name Mapping"
   ]
  },
  {
   "cell_type": "code",
   "execution_count": null,
   "metadata": {},
   "outputs": [],
   "source": [
    "from rapidfuzz import fuzz, process\n",
    "import re\n",
    "\n",
    "def normalize(text):\n",
    "    text = text.lower()\n",
    "    text = re.sub(r'[^\\w\\s]', '', text)\n",
    "    return text.strip()\n",
    "\n",
    "pheno = biomedgraphica_phenotype.copy()\n",
    "pheno['col1_clean'] = pheno['Phenotype_Name'].apply(normalize)\n",
    "metadata['col2_clean'] = metadata['Condition'].apply(normalize)"
   ]
  },
  {
   "cell_type": "code",
   "execution_count": 7,
   "metadata": {},
   "outputs": [],
   "source": [
    "def substring_match(text1, text2):\n",
    "    return text1 in text2 or text2 in text1\n",
    "\n",
    "def custom_match(text1, choices, threshold=85):\n",
    "    best_match = None\n",
    "    best_score = 0\n",
    "    for idx, text2 in enumerate(choices):\n",
    "        substr_boost = 15 if substring_match(text1, text2) else 0\n",
    "        score = fuzz.token_sort_ratio(text1, text2) + substr_boost\n",
    "        if score > best_score:\n",
    "            best_score = score\n",
    "            best_match = (text2, score, idx)\n",
    "    return best_match\n",
    "\n",
    "matches = []\n",
    "choices = metadata['col2_clean'].tolist()\n",
    "\n",
    "for i, text1 in enumerate(pheno['col1_clean']):\n",
    "    matched_text, score, idx = custom_match(text1, choices)\n",
    "    matches.append({\n",
    "        'col1': pheno['Phenotype_Name'][i],\n",
    "        'matched_col2': metadata['Condition'][idx],\n",
    "        'similarity_score': score\n",
    "    })\n",
    "\n",
    "match_df = pd.DataFrame(matches)\n",
    "match_df_filtered = match_df[match_df['similarity_score'] >= 85]"
   ]
  },
  {
   "cell_type": "code",
   "execution_count": 8,
   "metadata": {},
   "outputs": [
    {
     "data": {
      "application/vnd.microsoft.datawrangler.viewer.v0+json": {
       "columns": [
        {
         "name": "index",
         "rawType": "int64",
         "type": "integer"
        },
        {
         "name": "col1",
         "rawType": "object",
         "type": "string"
        },
        {
         "name": "matched_col2",
         "rawType": "object",
         "type": "string"
        },
        {
         "name": "similarity_score",
         "rawType": "float64",
         "type": "float"
        }
       ],
       "conversionMethod": "pd.DataFrame",
       "ref": "7e44f0ee-6518-4c77-8053-522572088428",
       "rows": [
        [
         "20",
         "Prostatitis",
         "Prostatitis",
         "115.0"
        ],
        [
         "76",
         "Renal insufficiency",
         "Renal Insufficiency, Chronic",
         "97.6086956521739"
        ],
        [
         "564",
         "Depression",
         "Depression",
         "115.0"
        ],
        [
         "620",
         "Nephrolithiasis",
         "calcium nephrolithiasis",
         "93.94736842105263"
        ],
        [
         "645",
         "Diabetes mellitus",
         "Diabetes Mellitus",
         "115.0"
        ],
        [
         "661",
         "Hyperthyroidism",
         "Hyperthyroid",
         "103.88888888888889"
        ],
        [
         "831",
         "Atopic dermatitis",
         "Dermatitis, Atopic",
         "100.0"
        ],
        [
         "860",
         "Cholecystitis",
         "Cholecystitis",
         "115.0"
        ],
        [
         "872",
         "Keratoconjunctivitis",
         "Keratoconjunctivitis Infectious",
         "93.43137254901961"
        ],
        [
         "1053",
         "Rheumatoid arthritis",
         "Arthritis, Rheumatoid",
         "100.0"
        ],
        [
         "1068",
         "Cirrhosis",
         "Liver Cirrhosis",
         "90.0"
        ],
        [
         "1075",
         "Hepatocellular carcinoma",
         "Non-small hepatocellular carcinoma",
         "99.21052631578947"
        ],
        [
         "1147",
         "Obesity",
         "Obesity",
         "115.0"
        ],
        [
         "1212",
         "Premature birth",
         "Premature Birth;Health",
         "98.33333333333334"
        ],
        [
         "1241",
         "Myocardial infarction",
         "Inferior Wall Myocardial Infarction",
         "90.0"
        ],
        [
         "1300",
         "Pancreatitis",
         "Pancreatitis",
         "115.0"
        ],
        [
         "1302",
         "Acute pancreatitis",
         "Acute Pancreatitis",
         "115.0"
        ],
        [
         "1361",
         "Weight loss",
         "Weight Loss",
         "115.0"
        ],
        [
         "1427",
         "Leukemia",
         "Leukemia",
         "115.0"
        ],
        [
         "1450",
         "Hypoglycemia",
         "Hypoglycemia",
         "115.0"
        ],
        [
         "1492",
         "Recurrent hypoglycemia",
         "Hypoglycemia",
         "85.58823529411764"
        ],
        [
         "1501",
         "Neonatal hypoglycemia",
         "Hypoglycemia",
         "87.72727272727273"
        ],
        [
         "1513",
         "Diarrhea",
         "Diarrhea",
         "115.0"
        ],
        [
         "1517",
         "Constipation",
         "Constipation",
         "115.0"
        ],
        [
         "1579",
         "Pulmonary arterial hypertension",
         "Pulmonary Arterial Hypertension",
         "115.0"
        ],
        [
         "1584",
         "Asthma",
         "Asthma",
         "115.0"
        ],
        [
         "1849",
         "Acute leukemia",
         "Leukemia",
         "87.72727272727273"
        ],
        [
         "1867",
         "Alzheimer disease",
         "Alzheimer Disease",
         "115.0"
        ],
        [
         "1915",
         "Atrophic gastritis",
         "Gastritis, Atrophic",
         "100.0"
        ],
        [
         "1916",
         "Colitis",
         "Colitis",
         "115.0"
        ],
        [
         "1936",
         "Celiac disease",
         "celiac disease",
         "115.0"
        ],
        [
         "1945",
         "Atherosclerosis",
         "Atherosclerosis",
         "115.0"
        ],
        [
         "1957",
         "Arteriosclerosis",
         "Atherosclerosis",
         "90.32258064516128"
        ],
        [
         "1982",
         "Neoplasm",
         "Neoplasms",
         "109.11764705882352"
        ],
        [
         "1985",
         "Nephroblastoma",
         "Neuroblastoma",
         "88.88888888888889"
        ],
        [
         "2024",
         "Recurrent bacterial infections",
         "Bacterial Infections",
         "95.0"
        ],
        [
         "2031",
         "Systemic lupus erythematosus",
         "Lupus Erythematosus, Systemic",
         "100.0"
        ],
        [
         "2124",
         "Squamous cell carcinoma",
         "Squamous Cell Carcinoma of Head and Neck",
         "88.01587301587303"
        ],
        [
         "2172",
         "Ketonuria",
         "Phenylketonuria",
         "90.0"
        ],
        [
         "2231",
         "Neuroblastoma",
         "Neuroblastoma",
         "115.0"
        ],
        [
         "2273",
         "Hyperglycemia",
         "Hypoglycemia",
         "88.0"
        ],
        [
         "2340",
         "Fasting hypoglycemia",
         "Hypoglycemia",
         "90.0"
        ],
        [
         "3180",
         "Enterocolitis",
         "Colitis",
         "85.0"
        ],
        [
         "3203",
         "Precocious atherosclerosis",
         "Atherosclerosis",
         "88.17073170731707"
        ],
        [
         "3352",
         "Calcium nephrolithiasis",
         "calcium nephrolithiasis",
         "115.0"
        ],
        [
         "3387",
         "Lactose intolerance",
         "Sweetose;Lactose Intolerance",
         "97.6086956521739"
        ],
        [
         "3403",
         "B Acute Lymphoblastic Leukemia",
         "Acute Lymphoblastic Leukemia",
         "111.55172413793103"
        ],
        [
         "3425",
         "Ph-positive acute lymphoblastic leukemia",
         "Acute Lymphoblastic Leukemia",
         "98.5820895522388"
        ],
        [
         "3494",
         "Accelerated atherosclerosis",
         "Atherosclerosis",
         "86.42857142857143"
        ],
        [
         "3644",
         "Helicobacter pylori infection",
         "Helicobacter pylori",
         "94.16666666666666"
        ]
       ],
       "shape": {
        "columns": 3,
        "rows": 101
       }
      },
      "text/html": [
       "<div>\n",
       "<style scoped>\n",
       "    .dataframe tbody tr th:only-of-type {\n",
       "        vertical-align: middle;\n",
       "    }\n",
       "\n",
       "    .dataframe tbody tr th {\n",
       "        vertical-align: top;\n",
       "    }\n",
       "\n",
       "    .dataframe thead th {\n",
       "        text-align: right;\n",
       "    }\n",
       "</style>\n",
       "<table border=\"1\" class=\"dataframe\">\n",
       "  <thead>\n",
       "    <tr style=\"text-align: right;\">\n",
       "      <th></th>\n",
       "      <th>col1</th>\n",
       "      <th>matched_col2</th>\n",
       "      <th>similarity_score</th>\n",
       "    </tr>\n",
       "  </thead>\n",
       "  <tbody>\n",
       "    <tr>\n",
       "      <th>20</th>\n",
       "      <td>Prostatitis</td>\n",
       "      <td>Prostatitis</td>\n",
       "      <td>115.000000</td>\n",
       "    </tr>\n",
       "    <tr>\n",
       "      <th>76</th>\n",
       "      <td>Renal insufficiency</td>\n",
       "      <td>Renal Insufficiency, Chronic</td>\n",
       "      <td>97.608696</td>\n",
       "    </tr>\n",
       "    <tr>\n",
       "      <th>564</th>\n",
       "      <td>Depression</td>\n",
       "      <td>Depression</td>\n",
       "      <td>115.000000</td>\n",
       "    </tr>\n",
       "    <tr>\n",
       "      <th>620</th>\n",
       "      <td>Nephrolithiasis</td>\n",
       "      <td>calcium nephrolithiasis</td>\n",
       "      <td>93.947368</td>\n",
       "    </tr>\n",
       "    <tr>\n",
       "      <th>645</th>\n",
       "      <td>Diabetes mellitus</td>\n",
       "      <td>Diabetes Mellitus</td>\n",
       "      <td>115.000000</td>\n",
       "    </tr>\n",
       "    <tr>\n",
       "      <th>...</th>\n",
       "      <td>...</td>\n",
       "      <td>...</td>\n",
       "      <td>...</td>\n",
       "    </tr>\n",
       "    <tr>\n",
       "      <th>17039</th>\n",
       "      <td>Chronic hepatitis</td>\n",
       "      <td>Hepatitis B, Chronic</td>\n",
       "      <td>94.444444</td>\n",
       "    </tr>\n",
       "    <tr>\n",
       "      <th>17897</th>\n",
       "      <td>Intestinal inflammation</td>\n",
       "      <td>Intestinal inflammation</td>\n",
       "      <td>115.000000</td>\n",
       "    </tr>\n",
       "    <tr>\n",
       "      <th>18140</th>\n",
       "      <td>Sensory hypersensitivity</td>\n",
       "      <td>Hypersensitivity</td>\n",
       "      <td>95.000000</td>\n",
       "    </tr>\n",
       "    <tr>\n",
       "      <th>18142</th>\n",
       "      <td>Auditory hypersensitivity</td>\n",
       "      <td>Hypersensitivity</td>\n",
       "      <td>93.048780</td>\n",
       "    </tr>\n",
       "    <tr>\n",
       "      <th>18143</th>\n",
       "      <td>Tactile hypersensitivity</td>\n",
       "      <td>Hypersensitivity</td>\n",
       "      <td>95.000000</td>\n",
       "    </tr>\n",
       "  </tbody>\n",
       "</table>\n",
       "<p>101 rows × 3 columns</p>\n",
       "</div>"
      ],
      "text/plain": [
       "                            col1                  matched_col2  \\\n",
       "20                   Prostatitis                   Prostatitis   \n",
       "76           Renal insufficiency  Renal Insufficiency, Chronic   \n",
       "564                   Depression                    Depression   \n",
       "620              Nephrolithiasis       calcium nephrolithiasis   \n",
       "645            Diabetes mellitus             Diabetes Mellitus   \n",
       "...                          ...                           ...   \n",
       "17039          Chronic hepatitis          Hepatitis B, Chronic   \n",
       "17897    Intestinal inflammation       Intestinal inflammation   \n",
       "18140   Sensory hypersensitivity              Hypersensitivity   \n",
       "18142  Auditory hypersensitivity              Hypersensitivity   \n",
       "18143   Tactile hypersensitivity              Hypersensitivity   \n",
       "\n",
       "       similarity_score  \n",
       "20           115.000000  \n",
       "76            97.608696  \n",
       "564          115.000000  \n",
       "620           93.947368  \n",
       "645          115.000000  \n",
       "...                 ...  \n",
       "17039         94.444444  \n",
       "17897        115.000000  \n",
       "18140         95.000000  \n",
       "18142         93.048780  \n",
       "18143         95.000000  \n",
       "\n",
       "[101 rows x 3 columns]"
      ]
     },
     "execution_count": 8,
     "metadata": {},
     "output_type": "execute_result"
    }
   ],
   "source": [
    "match_df_filtered"
   ]
  },
  {
   "cell_type": "markdown",
   "metadata": {},
   "source": [
    "#### Raw"
   ]
  },
  {
   "cell_type": "code",
   "execution_count": null,
   "metadata": {},
   "outputs": [],
   "source": [
    "# Download Link: http://bio-annotation.cn/gutMDisorder/public/res/2.0-raw%20data-associations.xlsx\n",
    "# Download Date: 2025-03-21\n",
    "# Download Version: unknown"
   ]
  }
 ],
 "metadata": {
  "kernelspec": {
   "display_name": "base",
   "language": "python",
   "name": "python3"
  },
  "language_info": {
   "codemirror_mode": {
    "name": "ipython",
    "version": 3
   },
   "file_extension": ".py",
   "mimetype": "text/x-python",
   "name": "python",
   "nbconvert_exporter": "python",
   "pygments_lexer": "ipython3",
   "version": "3.9.19"
  }
 },
 "nbformat": 4,
 "nbformat_minor": 2
}
