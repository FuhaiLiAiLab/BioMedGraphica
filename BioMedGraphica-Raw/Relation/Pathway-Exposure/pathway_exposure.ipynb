{
 "cells": [
  {
   "cell_type": "markdown",
   "metadata": {},
   "source": [
    "### CTD"
   ]
  },
  {
   "cell_type": "code",
   "execution_count": 1,
   "metadata": {},
   "outputs": [
    {
     "data": {
      "application/vnd.microsoft.datawrangler.viewer.v0+json": {
       "columns": [
        {
         "name": "index",
         "rawType": "int64",
         "type": "integer"
        },
        {
         "name": "ChemicalName",
         "rawType": "object",
         "type": "string"
        },
        {
         "name": "ChemicalID",
         "rawType": "object",
         "type": "string"
        },
        {
         "name": "CasRN",
         "rawType": "object",
         "type": "unknown"
        },
        {
         "name": "PathwayName",
         "rawType": "object",
         "type": "string"
        },
        {
         "name": "PathwayID",
         "rawType": "object",
         "type": "string"
        },
        {
         "name": "PValue",
         "rawType": "float64",
         "type": "float"
        },
        {
         "name": "CorrectedPValue",
         "rawType": "float64",
         "type": "float"
        },
        {
         "name": "TargetMatchQty",
         "rawType": "int64",
         "type": "integer"
        },
        {
         "name": "TargetTotalQty",
         "rawType": "int64",
         "type": "integer"
        },
        {
         "name": "BackgroundMatchQty",
         "rawType": "int64",
         "type": "integer"
        },
        {
         "name": "BackgroundTotalQty",
         "rawType": "int64",
         "type": "integer"
        }
       ],
       "conversionMethod": "pd.DataFrame",
       "ref": "89e5696a-1bd1-4408-a509-95b4e009d58a",
       "rows": [
        [
         "0",
         "10074-G5",
         "C534883",
         null,
         "Cyclin A:Cdk2-associated events at S phase entry",
         "REACT:R-HSA-69656",
         "1.44e-05",
         "0.00115",
         "2",
         "4",
         "71",
         "45539"
        ],
        [
         "1",
         "10074-G5",
         "C534883",
         null,
         "Cyclin E associated events during G1/S transition",
         "REACT:R-HSA-69202",
         "1.48e-05",
         "0.00118",
         "2",
         "4",
         "72",
         "45539"
        ],
        [
         "2",
         "10074-G5",
         "C534883",
         null,
         "G1/S Transition",
         "REACT:R-HSA-69206",
         "4.05e-05",
         "0.00324",
         "2",
         "4",
         "119",
         "45539"
        ],
        [
         "3",
         "10074-G5",
         "C534883",
         null,
         "Mitotic G1-G1/S phases",
         "REACT:R-HSA-453279",
         "5.85e-05",
         "0.00468",
         "2",
         "4",
         "143",
         "45539"
        ],
        [
         "4",
         "10074-G5",
         "C534883",
         null,
         "Pathways in cancer",
         "KEGG:hsa05200",
         "2.57e-06",
         "0.000206",
         "3",
         "4",
         "395",
         "45539"
        ]
       ],
       "shape": {
        "columns": 11,
        "rows": 5
       }
      },
      "text/html": [
       "<div>\n",
       "<style scoped>\n",
       "    .dataframe tbody tr th:only-of-type {\n",
       "        vertical-align: middle;\n",
       "    }\n",
       "\n",
       "    .dataframe tbody tr th {\n",
       "        vertical-align: top;\n",
       "    }\n",
       "\n",
       "    .dataframe thead th {\n",
       "        text-align: right;\n",
       "    }\n",
       "</style>\n",
       "<table border=\"1\" class=\"dataframe\">\n",
       "  <thead>\n",
       "    <tr style=\"text-align: right;\">\n",
       "      <th></th>\n",
       "      <th>ChemicalName</th>\n",
       "      <th>ChemicalID</th>\n",
       "      <th>CasRN</th>\n",
       "      <th>PathwayName</th>\n",
       "      <th>PathwayID</th>\n",
       "      <th>PValue</th>\n",
       "      <th>CorrectedPValue</th>\n",
       "      <th>TargetMatchQty</th>\n",
       "      <th>TargetTotalQty</th>\n",
       "      <th>BackgroundMatchQty</th>\n",
       "      <th>BackgroundTotalQty</th>\n",
       "    </tr>\n",
       "  </thead>\n",
       "  <tbody>\n",
       "    <tr>\n",
       "      <th>0</th>\n",
       "      <td>10074-G5</td>\n",
       "      <td>C534883</td>\n",
       "      <td>NaN</td>\n",
       "      <td>Cyclin A:Cdk2-associated events at S phase entry</td>\n",
       "      <td>REACT:R-HSA-69656</td>\n",
       "      <td>0.000014</td>\n",
       "      <td>0.001150</td>\n",
       "      <td>2</td>\n",
       "      <td>4</td>\n",
       "      <td>71</td>\n",
       "      <td>45539</td>\n",
       "    </tr>\n",
       "    <tr>\n",
       "      <th>1</th>\n",
       "      <td>10074-G5</td>\n",
       "      <td>C534883</td>\n",
       "      <td>NaN</td>\n",
       "      <td>Cyclin E associated events during G1/S transition</td>\n",
       "      <td>REACT:R-HSA-69202</td>\n",
       "      <td>0.000015</td>\n",
       "      <td>0.001180</td>\n",
       "      <td>2</td>\n",
       "      <td>4</td>\n",
       "      <td>72</td>\n",
       "      <td>45539</td>\n",
       "    </tr>\n",
       "    <tr>\n",
       "      <th>2</th>\n",
       "      <td>10074-G5</td>\n",
       "      <td>C534883</td>\n",
       "      <td>NaN</td>\n",
       "      <td>G1/S Transition</td>\n",
       "      <td>REACT:R-HSA-69206</td>\n",
       "      <td>0.000041</td>\n",
       "      <td>0.003240</td>\n",
       "      <td>2</td>\n",
       "      <td>4</td>\n",
       "      <td>119</td>\n",
       "      <td>45539</td>\n",
       "    </tr>\n",
       "    <tr>\n",
       "      <th>3</th>\n",
       "      <td>10074-G5</td>\n",
       "      <td>C534883</td>\n",
       "      <td>NaN</td>\n",
       "      <td>Mitotic G1-G1/S phases</td>\n",
       "      <td>REACT:R-HSA-453279</td>\n",
       "      <td>0.000058</td>\n",
       "      <td>0.004680</td>\n",
       "      <td>2</td>\n",
       "      <td>4</td>\n",
       "      <td>143</td>\n",
       "      <td>45539</td>\n",
       "    </tr>\n",
       "    <tr>\n",
       "      <th>4</th>\n",
       "      <td>10074-G5</td>\n",
       "      <td>C534883</td>\n",
       "      <td>NaN</td>\n",
       "      <td>Pathways in cancer</td>\n",
       "      <td>KEGG:hsa05200</td>\n",
       "      <td>0.000003</td>\n",
       "      <td>0.000206</td>\n",
       "      <td>3</td>\n",
       "      <td>4</td>\n",
       "      <td>395</td>\n",
       "      <td>45539</td>\n",
       "    </tr>\n",
       "  </tbody>\n",
       "</table>\n",
       "</div>"
      ],
      "text/plain": [
       "  ChemicalName ChemicalID CasRN  \\\n",
       "0     10074-G5    C534883   NaN   \n",
       "1     10074-G5    C534883   NaN   \n",
       "2     10074-G5    C534883   NaN   \n",
       "3     10074-G5    C534883   NaN   \n",
       "4     10074-G5    C534883   NaN   \n",
       "\n",
       "                                         PathwayName           PathwayID  \\\n",
       "0   Cyclin A:Cdk2-associated events at S phase entry   REACT:R-HSA-69656   \n",
       "1  Cyclin E associated events during G1/S transition   REACT:R-HSA-69202   \n",
       "2                                    G1/S Transition   REACT:R-HSA-69206   \n",
       "3                             Mitotic G1-G1/S phases  REACT:R-HSA-453279   \n",
       "4                                 Pathways in cancer       KEGG:hsa05200   \n",
       "\n",
       "     PValue  CorrectedPValue  TargetMatchQty  TargetTotalQty  \\\n",
       "0  0.000014         0.001150               2               4   \n",
       "1  0.000015         0.001180               2               4   \n",
       "2  0.000041         0.003240               2               4   \n",
       "3  0.000058         0.004680               2               4   \n",
       "4  0.000003         0.000206               3               4   \n",
       "\n",
       "   BackgroundMatchQty  BackgroundTotalQty  \n",
       "0                  71               45539  \n",
       "1                  72               45539  \n",
       "2                 119               45539  \n",
       "3                 143               45539  \n",
       "4                 395               45539  "
      ]
     },
     "execution_count": 1,
     "metadata": {},
     "output_type": "execute_result"
    }
   ],
   "source": [
    "# Download Link: https://ctdbase.org/reports/CTD_chem_pathways_enriched.csv.gz\n",
    "# Download Date: 2025-03-21\n",
    "# Download Version: 2025-02-28\n",
    "\n",
    "import pandas as pd\n",
    "from io import StringIO\n",
    "# Read the lines from the file\n",
    "with open('CTD_chem_pathways_enriched.csv', 'r') as f:\n",
    "    lines = f.readlines()\n",
    "\n",
    "# Extract column names\n",
    "columns = []\n",
    "for line in lines:\n",
    "    if line.startswith('# Fields'):\n",
    "        # Get the following line which contains column names\n",
    "        columns = lines[lines.index(line) + 1].strip()[2:].split(',')\n",
    "        break\n",
    "\n",
    "# Filter out comment lines\n",
    "data_lines = [line for line in lines if not line.startswith('#')]\n",
    "\n",
    "# Create a DataFrame from the filtered lines\n",
    "data_str = '\\n'.join(data_lines)\n",
    "ctd = pd.read_csv(StringIO(data_str), names=columns)\n",
    "ctd.head()"
   ]
  },
  {
   "cell_type": "code",
   "execution_count": 2,
   "metadata": {},
   "outputs": [
    {
     "data": {
      "application/vnd.microsoft.datawrangler.viewer.v0+json": {
       "columns": [
        {
         "name": "index",
         "rawType": "int64",
         "type": "integer"
        },
        {
         "name": "ChemicalID",
         "rawType": "object",
         "type": "string"
        },
        {
         "name": "CasRN",
         "rawType": "object",
         "type": "unknown"
        },
        {
         "name": "PathwayID",
         "rawType": "object",
         "type": "string"
        },
        {
         "name": "Database",
         "rawType": "object",
         "type": "string"
        }
       ],
       "conversionMethod": "pd.DataFrame",
       "ref": "3841f45b-74f0-4c7a-929d-c63ba802dde1",
       "rows": [
        [
         "0",
         "C534883",
         null,
         "R-HSA-69656",
         "REACT"
        ],
        [
         "1",
         "C534883",
         null,
         "R-HSA-69202",
         "REACT"
        ],
        [
         "2",
         "C534883",
         null,
         "R-HSA-69206",
         "REACT"
        ],
        [
         "3",
         "C534883",
         null,
         "R-HSA-453279",
         "REACT"
        ],
        [
         "4",
         "C534883",
         null,
         "hsa05200",
         "KEGG"
        ],
        [
         "5",
         "C534883",
         null,
         "hsa05222",
         "KEGG"
        ],
        [
         "6",
         "C534883",
         null,
         "R-HSA-69242",
         "REACT"
        ],
        [
         "7",
         "C534883",
         null,
         "hsa05202",
         "KEGG"
        ],
        [
         "8",
         "C112297",
         null,
         "hsa04725",
         "KEGG"
        ],
        [
         "9",
         "C112297",
         null,
         "R-HSA-445095",
         "REACT"
        ],
        [
         "10",
         "C112297",
         null,
         "R-HSA-373760",
         "REACT"
        ],
        [
         "11",
         "C112297",
         null,
         "R-HSA-112316",
         "REACT"
        ],
        [
         "12",
         "C112297",
         null,
         "R-HSA-1296071",
         "REACT"
        ],
        [
         "13",
         "C112297",
         null,
         "R-HSA-1296072",
         "REACT"
        ],
        [
         "14",
         "C094849",
         null,
         "hsa04152",
         "KEGG"
        ],
        [
         "15",
         "C094849",
         null,
         "R-HSA-535734",
         "REACT"
        ],
        [
         "16",
         "C094849",
         null,
         "hsa05016",
         "KEGG"
        ],
        [
         "17",
         "C094849",
         null,
         "hsa03320",
         "KEGG"
        ],
        [
         "18",
         "C534422",
         null,
         "hsa05010",
         "KEGG"
        ],
        [
         "19",
         "C534422",
         null,
         "hsa04210",
         "KEGG"
        ],
        [
         "20",
         "C534422",
         null,
         "R-HSA-109581",
         "REACT"
        ],
        [
         "21",
         "C534422",
         null,
         "hsa04215",
         "KEGG"
        ],
        [
         "22",
         "C534422",
         null,
         "R-HSA-111465",
         "REACT"
        ],
        [
         "23",
         "C534422",
         null,
         "R-HSA-75153",
         "REACT"
        ],
        [
         "24",
         "C534422",
         null,
         "R-HSA-5357769",
         "REACT"
        ],
        [
         "25",
         "C534422",
         null,
         "R-HSA-264870",
         "REACT"
        ],
        [
         "26",
         "C534422",
         null,
         "hsa05161",
         "KEGG"
        ],
        [
         "27",
         "C534422",
         null,
         "hsa05168",
         "KEGG"
        ],
        [
         "28",
         "C534422",
         null,
         "hsa05016",
         "KEGG"
        ],
        [
         "29",
         "C534422",
         null,
         "hsa04657",
         "KEGG"
        ],
        [
         "30",
         "C534422",
         null,
         "R-HSA-109606",
         "REACT"
        ],
        [
         "31",
         "C534422",
         null,
         "hsa05134",
         "KEGG"
        ],
        [
         "32",
         "C534422",
         null,
         "hsa04932",
         "KEGG"
        ],
        [
         "33",
         "C534422",
         null,
         "hsa04115",
         "KEGG"
        ],
        [
         "34",
         "C534422",
         null,
         "hsa05200",
         "KEGG"
        ],
        [
         "35",
         "C534422",
         null,
         "hsa01524",
         "KEGG"
        ],
        [
         "36",
         "C534422",
         null,
         "R-HSA-5357801",
         "REACT"
        ],
        [
         "37",
         "C534422",
         null,
         "hsa04668",
         "KEGG"
        ],
        [
         "38",
         "C534422",
         null,
         "hsa05145",
         "KEGG"
        ],
        [
         "39",
         "C534422",
         null,
         "hsa05152",
         "KEGG"
        ],
        [
         "40",
         "C534422",
         null,
         "hsa05203",
         "KEGG"
        ],
        [
         "41",
         "C534422",
         null,
         "hsa05416",
         "KEGG"
        ],
        [
         "42",
         "C496879",
         null,
         "R-HSA-166054",
         "REACT"
        ],
        [
         "43",
         "C496879",
         null,
         "R-HSA-114452",
         "REACT"
        ],
        [
         "44",
         "C496879",
         null,
         "R-HSA-450341",
         "REACT"
        ],
        [
         "45",
         "C496879",
         null,
         "hsa05221",
         "KEGG"
        ],
        [
         "46",
         "C496879",
         null,
         "hsa04920",
         "KEGG"
        ],
        [
         "47",
         "C496879",
         null,
         "hsa04261",
         "KEGG"
        ],
        [
         "48",
         "C496879",
         null,
         "R-HSA-879415",
         "REACT"
        ],
        [
         "49",
         "C496879",
         null,
         "hsa04933",
         "KEGG"
        ]
       ],
       "shape": {
        "columns": 4,
        "rows": 1624470
       }
      },
      "text/html": [
       "<div>\n",
       "<style scoped>\n",
       "    .dataframe tbody tr th:only-of-type {\n",
       "        vertical-align: middle;\n",
       "    }\n",
       "\n",
       "    .dataframe tbody tr th {\n",
       "        vertical-align: top;\n",
       "    }\n",
       "\n",
       "    .dataframe thead th {\n",
       "        text-align: right;\n",
       "    }\n",
       "</style>\n",
       "<table border=\"1\" class=\"dataframe\">\n",
       "  <thead>\n",
       "    <tr style=\"text-align: right;\">\n",
       "      <th></th>\n",
       "      <th>ChemicalID</th>\n",
       "      <th>CasRN</th>\n",
       "      <th>PathwayID</th>\n",
       "      <th>Database</th>\n",
       "    </tr>\n",
       "  </thead>\n",
       "  <tbody>\n",
       "    <tr>\n",
       "      <th>0</th>\n",
       "      <td>C534883</td>\n",
       "      <td>NaN</td>\n",
       "      <td>R-HSA-69656</td>\n",
       "      <td>REACT</td>\n",
       "    </tr>\n",
       "    <tr>\n",
       "      <th>1</th>\n",
       "      <td>C534883</td>\n",
       "      <td>NaN</td>\n",
       "      <td>R-HSA-69202</td>\n",
       "      <td>REACT</td>\n",
       "    </tr>\n",
       "    <tr>\n",
       "      <th>2</th>\n",
       "      <td>C534883</td>\n",
       "      <td>NaN</td>\n",
       "      <td>R-HSA-69206</td>\n",
       "      <td>REACT</td>\n",
       "    </tr>\n",
       "    <tr>\n",
       "      <th>3</th>\n",
       "      <td>C534883</td>\n",
       "      <td>NaN</td>\n",
       "      <td>R-HSA-453279</td>\n",
       "      <td>REACT</td>\n",
       "    </tr>\n",
       "    <tr>\n",
       "      <th>4</th>\n",
       "      <td>C534883</td>\n",
       "      <td>NaN</td>\n",
       "      <td>hsa05200</td>\n",
       "      <td>KEGG</td>\n",
       "    </tr>\n",
       "    <tr>\n",
       "      <th>...</th>\n",
       "      <td>...</td>\n",
       "      <td>...</td>\n",
       "      <td>...</td>\n",
       "      <td>...</td>\n",
       "    </tr>\n",
       "    <tr>\n",
       "      <th>1624465</th>\n",
       "      <td>D015054</td>\n",
       "      <td>9010-72-4</td>\n",
       "      <td>hsa05203</td>\n",
       "      <td>KEGG</td>\n",
       "    </tr>\n",
       "    <tr>\n",
       "      <th>1624466</th>\n",
       "      <td>D015054</td>\n",
       "      <td>9010-72-4</td>\n",
       "      <td>hsa05416</td>\n",
       "      <td>KEGG</td>\n",
       "    </tr>\n",
       "    <tr>\n",
       "      <th>1624467</th>\n",
       "      <td>D015054</td>\n",
       "      <td>9010-72-4</td>\n",
       "      <td>R-HSA-8866427</td>\n",
       "      <td>REACT</td>\n",
       "    </tr>\n",
       "    <tr>\n",
       "      <th>1624468</th>\n",
       "      <td>D015054</td>\n",
       "      <td>9010-72-4</td>\n",
       "      <td>R-HSA-1606322</td>\n",
       "      <td>REACT</td>\n",
       "    </tr>\n",
       "    <tr>\n",
       "      <th>1624469</th>\n",
       "      <td>C015582</td>\n",
       "      <td>128-33-6</td>\n",
       "      <td>R-HSA-556833</td>\n",
       "      <td>REACT</td>\n",
       "    </tr>\n",
       "  </tbody>\n",
       "</table>\n",
       "<p>1624470 rows × 4 columns</p>\n",
       "</div>"
      ],
      "text/plain": [
       "        ChemicalID      CasRN      PathwayID Database\n",
       "0          C534883        NaN    R-HSA-69656    REACT\n",
       "1          C534883        NaN    R-HSA-69202    REACT\n",
       "2          C534883        NaN    R-HSA-69206    REACT\n",
       "3          C534883        NaN   R-HSA-453279    REACT\n",
       "4          C534883        NaN       hsa05200     KEGG\n",
       "...            ...        ...            ...      ...\n",
       "1624465    D015054  9010-72-4       hsa05203     KEGG\n",
       "1624466    D015054  9010-72-4       hsa05416     KEGG\n",
       "1624467    D015054  9010-72-4  R-HSA-8866427    REACT\n",
       "1624468    D015054  9010-72-4  R-HSA-1606322    REACT\n",
       "1624469    C015582   128-33-6   R-HSA-556833    REACT\n",
       "\n",
       "[1624470 rows x 4 columns]"
      ]
     },
     "execution_count": 2,
     "metadata": {},
     "output_type": "execute_result"
    }
   ],
   "source": [
    "ctd = ctd[['ChemicalID', 'CasRN', 'PathwayID']]\n",
    "ctd['Database'] = ctd['PathwayID'].str.split(':').str[0]\n",
    "ctd['PathwayID'] = ctd['PathwayID'].str.split(':').str[1]\n",
    "ctd = ctd.drop_duplicates()\n",
    "ctd"
   ]
  },
  {
   "cell_type": "markdown",
   "metadata": {},
   "source": [
    "### BioMedGraphica ID"
   ]
  },
  {
   "cell_type": "code",
   "execution_count": 3,
   "metadata": {},
   "outputs": [],
   "source": [
    "import pandas as pd\n",
    "import os\n",
    "from pathlib import Path\n",
    "\n",
    "current_working_dir = Path(os.getcwd()).resolve()\n",
    "grandparent_dir = current_working_dir.parent.parent.parent\n",
    "target_dir_pathway = grandparent_dir / 'BioMedGraphica' / 'Entity' / 'Pathway' / 'BioMedGraphica_Pathway.csv'\n",
    "target_dir_exposure = grandparent_dir / 'BioMedGraphica' / 'Entity' / 'Exposure' / 'BioMedGraphica_Exposure.csv'\n",
    "biomedgraphica_pathway = pd.read_csv(target_dir_pathway, dtype=str)\n",
    "biomedgraphica_exposure = pd.read_csv(target_dir_exposure, dtype=str)"
   ]
  },
  {
   "cell_type": "markdown",
   "metadata": {},
   "source": [
    "### CTD Mapping"
   ]
  },
  {
   "cell_type": "code",
   "execution_count": 4,
   "metadata": {},
   "outputs": [
    {
     "name": "stderr",
     "output_type": "stream",
     "text": [
      "C:\\Users\\shunn\\AppData\\Local\\Temp\\ipykernel_17532\\1425657470.py:2: SettingWithCopyWarning: \n",
      "A value is trying to be set on a copy of a slice from a DataFrame\n",
      "\n",
      "See the caveats in the documentation: https://pandas.pydata.org/pandas-docs/stable/user_guide/indexing.html#returning-a-view-versus-a-copy\n",
      "  mesh_individual.dropna(subset=['MeSH_ID'], inplace=True)\n"
     ]
    }
   ],
   "source": [
    "mesh_individual = biomedgraphica_exposure[['MeSH_ID', 'BioMedGraphica_ID']]\n",
    "mesh_individual.dropna(subset=['MeSH_ID'], inplace=True)\n",
    "mesh_individual = mesh_individual.assign(MeSH_ID=mesh_individual['MeSH_ID'].str.split(';')).explode('MeSH_ID')\n",
    "\n",
    "mesh_to_individual = mesh_individual.groupby('MeSH_ID')['BioMedGraphica_ID'].apply(lambda x: ';'.join(x.dropna().unique())).to_dict()\n",
    "\n",
    "ctd['To_mesh'] = ctd['ChemicalID'].map(mesh_to_individual)"
   ]
  },
  {
   "cell_type": "code",
   "execution_count": 5,
   "metadata": {},
   "outputs": [
    {
     "name": "stderr",
     "output_type": "stream",
     "text": [
      "C:\\Users\\shunn\\AppData\\Local\\Temp\\ipykernel_17532\\381947843.py:2: SettingWithCopyWarning: \n",
      "A value is trying to be set on a copy of a slice from a DataFrame\n",
      "\n",
      "See the caveats in the documentation: https://pandas.pydata.org/pandas-docs/stable/user_guide/indexing.html#returning-a-view-versus-a-copy\n",
      "  cas_individual.dropna(subset=['CAS_RN'], inplace=True)\n"
     ]
    }
   ],
   "source": [
    "cas_individual = biomedgraphica_exposure[['CAS_RN', 'BioMedGraphica_ID']]\n",
    "cas_individual.dropna(subset=['CAS_RN'], inplace=True)\n",
    "cas_individual = cas_individual.assign(CAS_RN=cas_individual['CAS_RN'].str.split(';')).explode('CAS_RN')\n",
    "\n",
    "cas_to_individual = cas_individual.groupby('CAS_RN')['BioMedGraphica_ID'].apply(lambda x: ';'.join(x.dropna().unique())).to_dict()\n",
    "\n",
    "ctd['To_cas'] = ctd['CasRN'].map(cas_to_individual)"
   ]
  },
  {
   "cell_type": "code",
   "execution_count": 6,
   "metadata": {},
   "outputs": [
    {
     "name": "stderr",
     "output_type": "stream",
     "text": [
      "C:\\Users\\shunn\\AppData\\Local\\Temp\\ipykernel_17532\\514687134.py:2: SettingWithCopyWarning: \n",
      "A value is trying to be set on a copy of a slice from a DataFrame\n",
      "\n",
      "See the caveats in the documentation: https://pandas.pydata.org/pandas-docs/stable/user_guide/indexing.html#returning-a-view-versus-a-copy\n",
      "  kegg_individual.dropna(subset=['KEGG_ID'], inplace=True)\n"
     ]
    }
   ],
   "source": [
    "kegg_individual = biomedgraphica_pathway[['KEGG_ID', 'BioMedGraphica_ID']]\n",
    "kegg_individual.dropna(subset=['KEGG_ID'], inplace=True)\n",
    "kegg_individual = kegg_individual.assign(KEGG_ID=kegg_individual['KEGG_ID'].str.split(';')).explode('KEGG_ID')\n",
    "\n",
    "kegg_to_individual = kegg_individual.groupby('KEGG_ID')['BioMedGraphica_ID'].apply(lambda x: ';'.join(x.dropna().unique())).to_dict()\n",
    "\n",
    "ctd['From_kegg'] = ctd['PathwayID'].map(kegg_to_individual)"
   ]
  },
  {
   "cell_type": "code",
   "execution_count": 7,
   "metadata": {},
   "outputs": [
    {
     "name": "stderr",
     "output_type": "stream",
     "text": [
      "C:\\Users\\shunn\\AppData\\Local\\Temp\\ipykernel_17532\\3578425175.py:2: SettingWithCopyWarning: \n",
      "A value is trying to be set on a copy of a slice from a DataFrame\n",
      "\n",
      "See the caveats in the documentation: https://pandas.pydata.org/pandas-docs/stable/user_guide/indexing.html#returning-a-view-versus-a-copy\n",
      "  reactome_individual.dropna(subset=['Reactome_ID'], inplace=True)\n"
     ]
    }
   ],
   "source": [
    "reactome_individual = biomedgraphica_pathway[['Reactome_ID', 'BioMedGraphica_ID']]\n",
    "reactome_individual.dropna(subset=['Reactome_ID'], inplace=True)\n",
    "reactome_individual = reactome_individual.assign(Reactome_ID=reactome_individual['Reactome_ID'].str.split(';')).explode('Reactome_ID')\n",
    "\n",
    "reactome_to_individual = reactome_individual.groupby('Reactome_ID')['BioMedGraphica_ID'].apply(lambda x: ';'.join(x.dropna().unique())).to_dict()\n",
    "\n",
    "ctd['From_reactome'] = ctd['PathwayID'].map(reactome_to_individual)"
   ]
  },
  {
   "cell_type": "code",
   "execution_count": 8,
   "metadata": {},
   "outputs": [
    {
     "name": "stderr",
     "output_type": "stream",
     "text": [
      "C:\\Users\\shunn\\AppData\\Local\\Temp\\ipykernel_17532\\2836673990.py:11: SettingWithCopyWarning: \n",
      "A value is trying to be set on a copy of a slice from a DataFrame.\n",
      "Try using .loc[row_indexer,col_indexer] = value instead\n",
      "\n",
      "See the caveats in the documentation: https://pandas.pydata.org/pandas-docs/stable/user_guide/indexing.html#returning-a-view-versus-a-copy\n",
      "  df[combined_column_name] = df.apply(merge_strings, axis=1)\n",
      "C:\\Users\\shunn\\AppData\\Local\\Temp\\ipykernel_17532\\2836673990.py:12: SettingWithCopyWarning: \n",
      "A value is trying to be set on a copy of a slice from a DataFrame\n",
      "\n",
      "See the caveats in the documentation: https://pandas.pydata.org/pandas-docs/stable/user_guide/indexing.html#returning-a-view-versus-a-copy\n",
      "  df.drop(columns=columns, inplace=True)\n",
      "C:\\Users\\shunn\\AppData\\Local\\Temp\\ipykernel_17532\\2836673990.py:11: SettingWithCopyWarning: \n",
      "A value is trying to be set on a copy of a slice from a DataFrame.\n",
      "Try using .loc[row_indexer,col_indexer] = value instead\n",
      "\n",
      "See the caveats in the documentation: https://pandas.pydata.org/pandas-docs/stable/user_guide/indexing.html#returning-a-view-versus-a-copy\n",
      "  df[combined_column_name] = df.apply(merge_strings, axis=1)\n",
      "C:\\Users\\shunn\\AppData\\Local\\Temp\\ipykernel_17532\\2836673990.py:12: SettingWithCopyWarning: \n",
      "A value is trying to be set on a copy of a slice from a DataFrame\n",
      "\n",
      "See the caveats in the documentation: https://pandas.pydata.org/pandas-docs/stable/user_guide/indexing.html#returning-a-view-versus-a-copy\n",
      "  df.drop(columns=columns, inplace=True)\n",
      "C:\\Users\\shunn\\AppData\\Local\\Temp\\ipykernel_17532\\2836673990.py:19: SettingWithCopyWarning: \n",
      "A value is trying to be set on a copy of a slice from a DataFrame\n",
      "\n",
      "See the caveats in the documentation: https://pandas.pydata.org/pandas-docs/stable/user_guide/indexing.html#returning-a-view-versus-a-copy\n",
      "  ctd.replace('', pd.NA, inplace=True)\n",
      "C:\\Users\\shunn\\AppData\\Local\\Temp\\ipykernel_17532\\2836673990.py:20: SettingWithCopyWarning: \n",
      "A value is trying to be set on a copy of a slice from a DataFrame\n",
      "\n",
      "See the caveats in the documentation: https://pandas.pydata.org/pandas-docs/stable/user_guide/indexing.html#returning-a-view-versus-a-copy\n",
      "  ctd.dropna(subset=['From_ID'], inplace=True)\n",
      "C:\\Users\\shunn\\AppData\\Local\\Temp\\ipykernel_17532\\2836673990.py:21: SettingWithCopyWarning: \n",
      "A value is trying to be set on a copy of a slice from a DataFrame\n",
      "\n",
      "See the caveats in the documentation: https://pandas.pydata.org/pandas-docs/stable/user_guide/indexing.html#returning-a-view-versus-a-copy\n",
      "  ctd.dropna(subset=['To_ID'], inplace=True)\n"
     ]
    },
    {
     "data": {
      "application/vnd.microsoft.datawrangler.viewer.v0+json": {
       "columns": [
        {
         "name": "index",
         "rawType": "int64",
         "type": "integer"
        },
        {
         "name": "From_ID",
         "rawType": "object",
         "type": "string"
        },
        {
         "name": "To_ID",
         "rawType": "object",
         "type": "string"
        }
       ],
       "conversionMethod": "pd.DataFrame",
       "ref": "0e785985-dec3-4bd9-a403-74e5e7752657",
       "rows": [
        [
         "1306",
         "BMG_PW0840",
         "BMG_EP0060"
        ],
        [
         "1307",
         "BMG_PW1029",
         "BMG_EP0060"
        ],
        [
         "1308",
         "BMG_PW0016",
         "BMG_EP0060"
        ],
        [
         "1309",
         "BMG_PW1025",
         "BMG_EP0060"
        ],
        [
         "1310",
         "BMG_PW3644",
         "BMG_EP0060"
        ],
        [
         "1311",
         "BMG_PW3645",
         "BMG_EP0060"
        ],
        [
         "1312",
         "BMG_PW0823",
         "BMG_EP0060"
        ],
        [
         "1313",
         "BMG_PW4139",
         "BMG_EP0060"
        ],
        [
         "1314",
         "BMG_PW5036",
         "BMG_EP0060"
        ],
        [
         "1316",
         "BMG_PW6670",
         "BMG_EP0060"
        ],
        [
         "1317",
         "BMG_PW0058",
         "BMG_EP0060"
        ],
        [
         "1318",
         "BMG_PW2722",
         "BMG_EP0060"
        ],
        [
         "1319",
         "BMG_PW1028",
         "BMG_EP0060"
        ],
        [
         "1320",
         "BMG_PW3635",
         "BMG_EP0060"
        ],
        [
         "1321",
         "BMG_PW4140",
         "BMG_EP0060"
        ],
        [
         "1322",
         "BMG_PW3646",
         "BMG_EP0060"
        ],
        [
         "1323",
         "BMG_PW4321",
         "BMG_EP0060"
        ],
        [
         "1324",
         "BMG_PW0509",
         "BMG_EP0060"
        ],
        [
         "1325",
         "BMG_PW3488",
         "BMG_EP0060"
        ],
        [
         "1326",
         "BMG_PW0272",
         "BMG_EP0060"
        ],
        [
         "1327",
         "BMG_PW3636",
         "BMG_EP0060"
        ],
        [
         "1328",
         "BMG_PW6728",
         "BMG_EP0072"
        ],
        [
         "1329",
         "BMG_PW6756",
         "BMG_EP0072"
        ],
        [
         "1330",
         "BMG_PW0105;BMG_PW0009;BMG_PW0103",
         "BMG_EP0072"
        ],
        [
         "1331",
         "BMG_PW0367",
         "BMG_EP0072"
        ],
        [
         "1332",
         "BMG_PW0128",
         "BMG_EP0072"
        ],
        [
         "1334",
         "BMG_PW3227",
         "BMG_EP0072"
        ],
        [
         "1335",
         "BMG_PW2801",
         "BMG_EP0072"
        ],
        [
         "1336",
         "BMG_PW6778",
         "BMG_EP0072"
        ],
        [
         "1337",
         "BMG_PW0085;BMG_PW1312",
         "BMG_EP0072"
        ],
        [
         "1338",
         "BMG_PW3288",
         "BMG_EP0072"
        ],
        [
         "1339",
         "BMG_PW0275",
         "BMG_EP0072"
        ],
        [
         "1340",
         "BMG_PW1045",
         "BMG_EP0072"
        ],
        [
         "1341",
         "BMG_PW3542",
         "BMG_EP0072"
        ],
        [
         "1342",
         "BMG_PW3228",
         "BMG_EP0072"
        ],
        [
         "1343",
         "BMG_PW0823",
         "BMG_EP0072"
        ],
        [
         "1344",
         "BMG_PW2772",
         "BMG_EP0072"
        ],
        [
         "1345",
         "BMG_PW0013",
         "BMG_EP0072"
        ],
        [
         "1346",
         "BMG_PW0660",
         "BMG_EP0072"
        ],
        [
         "1347",
         "BMG_PW0098",
         "BMG_EP0072"
        ],
        [
         "1348",
         "BMG_PW4120",
         "BMG_EP0072"
        ],
        [
         "1349",
         "BMG_PW6640",
         "BMG_EP0072"
        ],
        [
         "1350",
         "BMG_PW3233",
         "BMG_EP0072"
        ],
        [
         "1351",
         "BMG_PW6763",
         "BMG_EP0072"
        ],
        [
         "1352",
         "BMG_PW2831",
         "BMG_EP0072"
        ],
        [
         "1354",
         "BMG_PW6667",
         "BMG_EP0072"
        ],
        [
         "1355",
         "BMG_PW4121",
         "BMG_EP0072"
        ],
        [
         "1356",
         "BMG_PW4258",
         "BMG_EP0072"
        ],
        [
         "1357",
         "BMG_PW1270;BMG_PW0099",
         "BMG_EP0072"
        ],
        [
         "1358",
         "BMG_PW3732",
         "BMG_EP0072"
        ]
       ],
       "shape": {
        "columns": 2,
        "rows": 305427
       }
      },
      "text/html": [
       "<div>\n",
       "<style scoped>\n",
       "    .dataframe tbody tr th:only-of-type {\n",
       "        vertical-align: middle;\n",
       "    }\n",
       "\n",
       "    .dataframe tbody tr th {\n",
       "        vertical-align: top;\n",
       "    }\n",
       "\n",
       "    .dataframe thead th {\n",
       "        text-align: right;\n",
       "    }\n",
       "</style>\n",
       "<table border=\"1\" class=\"dataframe\">\n",
       "  <thead>\n",
       "    <tr style=\"text-align: right;\">\n",
       "      <th></th>\n",
       "      <th>From_ID</th>\n",
       "      <th>To_ID</th>\n",
       "    </tr>\n",
       "  </thead>\n",
       "  <tbody>\n",
       "    <tr>\n",
       "      <th>1306</th>\n",
       "      <td>BMG_PW0840</td>\n",
       "      <td>BMG_EP0060</td>\n",
       "    </tr>\n",
       "    <tr>\n",
       "      <th>1307</th>\n",
       "      <td>BMG_PW1029</td>\n",
       "      <td>BMG_EP0060</td>\n",
       "    </tr>\n",
       "    <tr>\n",
       "      <th>1308</th>\n",
       "      <td>BMG_PW0016</td>\n",
       "      <td>BMG_EP0060</td>\n",
       "    </tr>\n",
       "    <tr>\n",
       "      <th>1309</th>\n",
       "      <td>BMG_PW1025</td>\n",
       "      <td>BMG_EP0060</td>\n",
       "    </tr>\n",
       "    <tr>\n",
       "      <th>1310</th>\n",
       "      <td>BMG_PW3644</td>\n",
       "      <td>BMG_EP0060</td>\n",
       "    </tr>\n",
       "    <tr>\n",
       "      <th>...</th>\n",
       "      <td>...</td>\n",
       "      <td>...</td>\n",
       "    </tr>\n",
       "    <tr>\n",
       "      <th>1622879</th>\n",
       "      <td>BMG_PW0816</td>\n",
       "      <td>BMG_EP1159</td>\n",
       "    </tr>\n",
       "    <tr>\n",
       "      <th>1622880</th>\n",
       "      <td>BMG_PW3583</td>\n",
       "      <td>BMG_EP1159</td>\n",
       "    </tr>\n",
       "    <tr>\n",
       "      <th>1622881</th>\n",
       "      <td>BMG_PW6768</td>\n",
       "      <td>BMG_EP1159</td>\n",
       "    </tr>\n",
       "    <tr>\n",
       "      <th>1622882</th>\n",
       "      <td>BMG_PW1032</td>\n",
       "      <td>BMG_EP1159</td>\n",
       "    </tr>\n",
       "    <tr>\n",
       "      <th>1622883</th>\n",
       "      <td>BMG_PW0199;BMG_PW0197;BMG_PW0198;BMG_PW0008</td>\n",
       "      <td>BMG_EP1159</td>\n",
       "    </tr>\n",
       "  </tbody>\n",
       "</table>\n",
       "<p>305427 rows × 2 columns</p>\n",
       "</div>"
      ],
      "text/plain": [
       "                                             From_ID       To_ID\n",
       "1306                                      BMG_PW0840  BMG_EP0060\n",
       "1307                                      BMG_PW1029  BMG_EP0060\n",
       "1308                                      BMG_PW0016  BMG_EP0060\n",
       "1309                                      BMG_PW1025  BMG_EP0060\n",
       "1310                                      BMG_PW3644  BMG_EP0060\n",
       "...                                              ...         ...\n",
       "1622879                                   BMG_PW0816  BMG_EP1159\n",
       "1622880                                   BMG_PW3583  BMG_EP1159\n",
       "1622881                                   BMG_PW6768  BMG_EP1159\n",
       "1622882                                   BMG_PW1032  BMG_EP1159\n",
       "1622883  BMG_PW0199;BMG_PW0197;BMG_PW0198;BMG_PW0008  BMG_EP1159\n",
       "\n",
       "[305427 rows x 2 columns]"
      ]
     },
     "execution_count": 8,
     "metadata": {},
     "output_type": "execute_result"
    }
   ],
   "source": [
    "def merge_string_columns(df, columns, merge_name, separator=';'):\n",
    "    def merge_strings(row):\n",
    "        combined = set()\n",
    "        for column in columns:\n",
    "            if pd.notnull(row[column]):\n",
    "                combined.update(row[column].split(separator))\n",
    "        return separator.join(combined)\n",
    "    \n",
    "    # Apply the function to each row and create a new column\n",
    "    combined_column_name = merge_name\n",
    "    df[combined_column_name] = df.apply(merge_strings, axis=1)\n",
    "    df.drop(columns=columns, inplace=True)\n",
    "    \n",
    "    return df\n",
    "\n",
    "ctd = ctd[['To_mesh', 'To_cas', 'From_kegg', 'From_reactome']]\n",
    "ctd = merge_string_columns(ctd, ['From_kegg', 'From_reactome'], 'From_ID')\n",
    "ctd = merge_string_columns(ctd, ['To_mesh', 'To_cas'], 'To_ID')\n",
    "ctd.replace('', pd.NA, inplace=True)\n",
    "ctd.dropna(subset=['From_ID'], inplace=True)\n",
    "ctd.dropna(subset=['To_ID'], inplace=True)\n",
    "ctd"
   ]
  },
  {
   "cell_type": "code",
   "execution_count": 9,
   "metadata": {},
   "outputs": [
    {
     "name": "stderr",
     "output_type": "stream",
     "text": [
      "C:\\Users\\shunn\\AppData\\Local\\Temp\\ipykernel_17532\\2804925370.py:1: SettingWithCopyWarning: \n",
      "A value is trying to be set on a copy of a slice from a DataFrame.\n",
      "Try using .loc[row_indexer,col_indexer] = value instead\n",
      "\n",
      "See the caveats in the documentation: https://pandas.pydata.org/pandas-docs/stable/user_guide/indexing.html#returning-a-view-versus-a-copy\n",
      "  ctd['From_ID'] = ctd['From_ID'].str.split(';')\n"
     ]
    },
    {
     "data": {
      "application/vnd.microsoft.datawrangler.viewer.v0+json": {
       "columns": [
        {
         "name": "index",
         "rawType": "int64",
         "type": "integer"
        },
        {
         "name": "From_ID",
         "rawType": "object",
         "type": "string"
        },
        {
         "name": "To_ID",
         "rawType": "object",
         "type": "string"
        }
       ],
       "conversionMethod": "pd.DataFrame",
       "ref": "7adc6621-4fb3-4049-810a-4f72d2058f66",
       "rows": [
        [
         "0",
         "BMG_PW0840",
         "BMG_EP0060"
        ],
        [
         "1",
         "BMG_PW1029",
         "BMG_EP0060"
        ],
        [
         "2",
         "BMG_PW0016",
         "BMG_EP0060"
        ],
        [
         "3",
         "BMG_PW1025",
         "BMG_EP0060"
        ],
        [
         "4",
         "BMG_PW3644",
         "BMG_EP0060"
        ],
        [
         "5",
         "BMG_PW3645",
         "BMG_EP0060"
        ],
        [
         "6",
         "BMG_PW0823",
         "BMG_EP0060"
        ],
        [
         "7",
         "BMG_PW4139",
         "BMG_EP0060"
        ],
        [
         "8",
         "BMG_PW5036",
         "BMG_EP0060"
        ],
        [
         "9",
         "BMG_PW6670",
         "BMG_EP0060"
        ],
        [
         "10",
         "BMG_PW0058",
         "BMG_EP0060"
        ],
        [
         "11",
         "BMG_PW2722",
         "BMG_EP0060"
        ],
        [
         "12",
         "BMG_PW1028",
         "BMG_EP0060"
        ],
        [
         "13",
         "BMG_PW3635",
         "BMG_EP0060"
        ],
        [
         "14",
         "BMG_PW4140",
         "BMG_EP0060"
        ],
        [
         "15",
         "BMG_PW3646",
         "BMG_EP0060"
        ],
        [
         "16",
         "BMG_PW4321",
         "BMG_EP0060"
        ],
        [
         "17",
         "BMG_PW0509",
         "BMG_EP0060"
        ],
        [
         "18",
         "BMG_PW3488",
         "BMG_EP0060"
        ],
        [
         "19",
         "BMG_PW0272",
         "BMG_EP0060"
        ],
        [
         "20",
         "BMG_PW3636",
         "BMG_EP0060"
        ],
        [
         "21",
         "BMG_PW6728",
         "BMG_EP0072"
        ],
        [
         "22",
         "BMG_PW6756",
         "BMG_EP0072"
        ],
        [
         "23",
         "BMG_PW0105",
         "BMG_EP0072"
        ],
        [
         "24",
         "BMG_PW0009",
         "BMG_EP0072"
        ],
        [
         "25",
         "BMG_PW0103",
         "BMG_EP0072"
        ],
        [
         "26",
         "BMG_PW0367",
         "BMG_EP0072"
        ],
        [
         "27",
         "BMG_PW0128",
         "BMG_EP0072"
        ],
        [
         "28",
         "BMG_PW3227",
         "BMG_EP0072"
        ],
        [
         "29",
         "BMG_PW2801",
         "BMG_EP0072"
        ],
        [
         "30",
         "BMG_PW6778",
         "BMG_EP0072"
        ],
        [
         "31",
         "BMG_PW0085",
         "BMG_EP0072"
        ],
        [
         "32",
         "BMG_PW1312",
         "BMG_EP0072"
        ],
        [
         "33",
         "BMG_PW3288",
         "BMG_EP0072"
        ],
        [
         "34",
         "BMG_PW0275",
         "BMG_EP0072"
        ],
        [
         "35",
         "BMG_PW1045",
         "BMG_EP0072"
        ],
        [
         "36",
         "BMG_PW3542",
         "BMG_EP0072"
        ],
        [
         "37",
         "BMG_PW3228",
         "BMG_EP0072"
        ],
        [
         "38",
         "BMG_PW0823",
         "BMG_EP0072"
        ],
        [
         "39",
         "BMG_PW2772",
         "BMG_EP0072"
        ],
        [
         "40",
         "BMG_PW0013",
         "BMG_EP0072"
        ],
        [
         "41",
         "BMG_PW0660",
         "BMG_EP0072"
        ],
        [
         "42",
         "BMG_PW0098",
         "BMG_EP0072"
        ],
        [
         "43",
         "BMG_PW4120",
         "BMG_EP0072"
        ],
        [
         "44",
         "BMG_PW6640",
         "BMG_EP0072"
        ],
        [
         "45",
         "BMG_PW3233",
         "BMG_EP0072"
        ],
        [
         "46",
         "BMG_PW6763",
         "BMG_EP0072"
        ],
        [
         "47",
         "BMG_PW2831",
         "BMG_EP0072"
        ],
        [
         "48",
         "BMG_PW6667",
         "BMG_EP0072"
        ],
        [
         "49",
         "BMG_PW4121",
         "BMG_EP0072"
        ]
       ],
       "shape": {
        "columns": 2,
        "rows": 301448
       }
      },
      "text/html": [
       "<div>\n",
       "<style scoped>\n",
       "    .dataframe tbody tr th:only-of-type {\n",
       "        vertical-align: middle;\n",
       "    }\n",
       "\n",
       "    .dataframe tbody tr th {\n",
       "        vertical-align: top;\n",
       "    }\n",
       "\n",
       "    .dataframe thead th {\n",
       "        text-align: right;\n",
       "    }\n",
       "</style>\n",
       "<table border=\"1\" class=\"dataframe\">\n",
       "  <thead>\n",
       "    <tr style=\"text-align: right;\">\n",
       "      <th></th>\n",
       "      <th>From_ID</th>\n",
       "      <th>To_ID</th>\n",
       "    </tr>\n",
       "  </thead>\n",
       "  <tbody>\n",
       "    <tr>\n",
       "      <th>0</th>\n",
       "      <td>BMG_PW0840</td>\n",
       "      <td>BMG_EP0060</td>\n",
       "    </tr>\n",
       "    <tr>\n",
       "      <th>1</th>\n",
       "      <td>BMG_PW1029</td>\n",
       "      <td>BMG_EP0060</td>\n",
       "    </tr>\n",
       "    <tr>\n",
       "      <th>2</th>\n",
       "      <td>BMG_PW0016</td>\n",
       "      <td>BMG_EP0060</td>\n",
       "    </tr>\n",
       "    <tr>\n",
       "      <th>3</th>\n",
       "      <td>BMG_PW1025</td>\n",
       "      <td>BMG_EP0060</td>\n",
       "    </tr>\n",
       "    <tr>\n",
       "      <th>4</th>\n",
       "      <td>BMG_PW3644</td>\n",
       "      <td>BMG_EP0060</td>\n",
       "    </tr>\n",
       "    <tr>\n",
       "      <th>...</th>\n",
       "      <td>...</td>\n",
       "      <td>...</td>\n",
       "    </tr>\n",
       "    <tr>\n",
       "      <th>301443</th>\n",
       "      <td>BMG_PW1032</td>\n",
       "      <td>BMG_EP1159</td>\n",
       "    </tr>\n",
       "    <tr>\n",
       "      <th>301444</th>\n",
       "      <td>BMG_PW0199</td>\n",
       "      <td>BMG_EP1159</td>\n",
       "    </tr>\n",
       "    <tr>\n",
       "      <th>301445</th>\n",
       "      <td>BMG_PW0197</td>\n",
       "      <td>BMG_EP1159</td>\n",
       "    </tr>\n",
       "    <tr>\n",
       "      <th>301446</th>\n",
       "      <td>BMG_PW0198</td>\n",
       "      <td>BMG_EP1159</td>\n",
       "    </tr>\n",
       "    <tr>\n",
       "      <th>301447</th>\n",
       "      <td>BMG_PW0008</td>\n",
       "      <td>BMG_EP1159</td>\n",
       "    </tr>\n",
       "  </tbody>\n",
       "</table>\n",
       "<p>301448 rows × 2 columns</p>\n",
       "</div>"
      ],
      "text/plain": [
       "           From_ID       To_ID\n",
       "0       BMG_PW0840  BMG_EP0060\n",
       "1       BMG_PW1029  BMG_EP0060\n",
       "2       BMG_PW0016  BMG_EP0060\n",
       "3       BMG_PW1025  BMG_EP0060\n",
       "4       BMG_PW3644  BMG_EP0060\n",
       "...            ...         ...\n",
       "301443  BMG_PW1032  BMG_EP1159\n",
       "301444  BMG_PW0199  BMG_EP1159\n",
       "301445  BMG_PW0197  BMG_EP1159\n",
       "301446  BMG_PW0198  BMG_EP1159\n",
       "301447  BMG_PW0008  BMG_EP1159\n",
       "\n",
       "[301448 rows x 2 columns]"
      ]
     },
     "execution_count": 9,
     "metadata": {},
     "output_type": "execute_result"
    }
   ],
   "source": [
    "ctd['From_ID'] = ctd['From_ID'].str.split(';')\n",
    "ctd = ctd.explode('From_ID')\n",
    "ctd['To_ID'] = ctd['To_ID'].str.split(';')\n",
    "ctd = ctd.explode('To_ID')\n",
    "\n",
    "ctd.drop_duplicates(inplace=True)\n",
    "ctd.reset_index(drop=True, inplace=True)\n",
    "ctd"
   ]
  },
  {
   "cell_type": "markdown",
   "metadata": {},
   "source": [
    "### Pathway-Exposure Relation"
   ]
  },
  {
   "cell_type": "code",
   "execution_count": 10,
   "metadata": {},
   "outputs": [
    {
     "data": {
      "application/vnd.microsoft.datawrangler.viewer.v0+json": {
       "columns": [
        {
         "name": "index",
         "rawType": "int64",
         "type": "integer"
        },
        {
         "name": "BioMedGraphica_ID",
         "rawType": "object",
         "type": "string"
        },
        {
         "name": "From_ID",
         "rawType": "object",
         "type": "string"
        },
        {
         "name": "To_ID",
         "rawType": "object",
         "type": "string"
        },
        {
         "name": "Type",
         "rawType": "object",
         "type": "string"
        },
        {
         "name": "Source",
         "rawType": "object",
         "type": "string"
        }
       ],
       "conversionMethod": "pd.DataFrame",
       "ref": "6cf8114f-4b1c-4fd5-88b8-ed3bfa992eb0",
       "rows": [
        [
         "0",
         "BMG_ED_PWEP000001",
         "BMG_EP0060",
         "BMG_PW0840",
         "Pathway-Exposure",
         "CTD"
        ],
        [
         "1",
         "BMG_ED_PWEP000002",
         "BMG_EP0060",
         "BMG_PW1029",
         "Pathway-Exposure",
         "CTD"
        ],
        [
         "2",
         "BMG_ED_PWEP000003",
         "BMG_EP0060",
         "BMG_PW0016",
         "Pathway-Exposure",
         "CTD"
        ],
        [
         "3",
         "BMG_ED_PWEP000004",
         "BMG_EP0060",
         "BMG_PW1025",
         "Pathway-Exposure",
         "CTD"
        ],
        [
         "4",
         "BMG_ED_PWEP000005",
         "BMG_EP0060",
         "BMG_PW3644",
         "Pathway-Exposure",
         "CTD"
        ],
        [
         "5",
         "BMG_ED_PWEP000006",
         "BMG_EP0060",
         "BMG_PW3645",
         "Pathway-Exposure",
         "CTD"
        ],
        [
         "6",
         "BMG_ED_PWEP000007",
         "BMG_EP0060",
         "BMG_PW0823",
         "Pathway-Exposure",
         "CTD"
        ],
        [
         "7",
         "BMG_ED_PWEP000008",
         "BMG_EP0060",
         "BMG_PW4139",
         "Pathway-Exposure",
         "CTD"
        ],
        [
         "8",
         "BMG_ED_PWEP000009",
         "BMG_EP0060",
         "BMG_PW5036",
         "Pathway-Exposure",
         "CTD"
        ],
        [
         "9",
         "BMG_ED_PWEP000010",
         "BMG_EP0060",
         "BMG_PW6670",
         "Pathway-Exposure",
         "CTD"
        ],
        [
         "10",
         "BMG_ED_PWEP000011",
         "BMG_EP0060",
         "BMG_PW0058",
         "Pathway-Exposure",
         "CTD"
        ],
        [
         "11",
         "BMG_ED_PWEP000012",
         "BMG_EP0060",
         "BMG_PW2722",
         "Pathway-Exposure",
         "CTD"
        ],
        [
         "12",
         "BMG_ED_PWEP000013",
         "BMG_EP0060",
         "BMG_PW1028",
         "Pathway-Exposure",
         "CTD"
        ],
        [
         "13",
         "BMG_ED_PWEP000014",
         "BMG_EP0060",
         "BMG_PW3635",
         "Pathway-Exposure",
         "CTD"
        ],
        [
         "14",
         "BMG_ED_PWEP000015",
         "BMG_EP0060",
         "BMG_PW4140",
         "Pathway-Exposure",
         "CTD"
        ],
        [
         "15",
         "BMG_ED_PWEP000016",
         "BMG_EP0060",
         "BMG_PW3646",
         "Pathway-Exposure",
         "CTD"
        ],
        [
         "16",
         "BMG_ED_PWEP000017",
         "BMG_EP0060",
         "BMG_PW4321",
         "Pathway-Exposure",
         "CTD"
        ],
        [
         "17",
         "BMG_ED_PWEP000018",
         "BMG_EP0060",
         "BMG_PW0509",
         "Pathway-Exposure",
         "CTD"
        ],
        [
         "18",
         "BMG_ED_PWEP000019",
         "BMG_EP0060",
         "BMG_PW3488",
         "Pathway-Exposure",
         "CTD"
        ],
        [
         "19",
         "BMG_ED_PWEP000020",
         "BMG_EP0060",
         "BMG_PW0272",
         "Pathway-Exposure",
         "CTD"
        ],
        [
         "20",
         "BMG_ED_PWEP000021",
         "BMG_EP0060",
         "BMG_PW3636",
         "Pathway-Exposure",
         "CTD"
        ],
        [
         "21",
         "BMG_ED_PWEP000022",
         "BMG_EP0072",
         "BMG_PW6728",
         "Pathway-Exposure",
         "CTD"
        ],
        [
         "22",
         "BMG_ED_PWEP000023",
         "BMG_EP0072",
         "BMG_PW6756",
         "Pathway-Exposure",
         "CTD"
        ],
        [
         "23",
         "BMG_ED_PWEP000024",
         "BMG_EP0072",
         "BMG_PW0105",
         "Pathway-Exposure",
         "CTD"
        ],
        [
         "24",
         "BMG_ED_PWEP000025",
         "BMG_EP0072",
         "BMG_PW0009",
         "Pathway-Exposure",
         "CTD"
        ],
        [
         "25",
         "BMG_ED_PWEP000026",
         "BMG_EP0072",
         "BMG_PW0103",
         "Pathway-Exposure",
         "CTD"
        ],
        [
         "26",
         "BMG_ED_PWEP000027",
         "BMG_EP0072",
         "BMG_PW0367",
         "Pathway-Exposure",
         "CTD"
        ],
        [
         "27",
         "BMG_ED_PWEP000028",
         "BMG_EP0072",
         "BMG_PW0128",
         "Pathway-Exposure",
         "CTD"
        ],
        [
         "28",
         "BMG_ED_PWEP000029",
         "BMG_EP0072",
         "BMG_PW3227",
         "Pathway-Exposure",
         "CTD"
        ],
        [
         "29",
         "BMG_ED_PWEP000030",
         "BMG_EP0072",
         "BMG_PW2801",
         "Pathway-Exposure",
         "CTD"
        ],
        [
         "30",
         "BMG_ED_PWEP000031",
         "BMG_EP0072",
         "BMG_PW6778",
         "Pathway-Exposure",
         "CTD"
        ],
        [
         "31",
         "BMG_ED_PWEP000032",
         "BMG_EP0072",
         "BMG_PW0085",
         "Pathway-Exposure",
         "CTD"
        ],
        [
         "32",
         "BMG_ED_PWEP000033",
         "BMG_EP0072",
         "BMG_PW1312",
         "Pathway-Exposure",
         "CTD"
        ],
        [
         "33",
         "BMG_ED_PWEP000034",
         "BMG_EP0072",
         "BMG_PW3288",
         "Pathway-Exposure",
         "CTD"
        ],
        [
         "34",
         "BMG_ED_PWEP000035",
         "BMG_EP0072",
         "BMG_PW0275",
         "Pathway-Exposure",
         "CTD"
        ],
        [
         "35",
         "BMG_ED_PWEP000036",
         "BMG_EP0072",
         "BMG_PW1045",
         "Pathway-Exposure",
         "CTD"
        ],
        [
         "36",
         "BMG_ED_PWEP000037",
         "BMG_EP0072",
         "BMG_PW3542",
         "Pathway-Exposure",
         "CTD"
        ],
        [
         "37",
         "BMG_ED_PWEP000038",
         "BMG_EP0072",
         "BMG_PW3228",
         "Pathway-Exposure",
         "CTD"
        ],
        [
         "38",
         "BMG_ED_PWEP000039",
         "BMG_EP0072",
         "BMG_PW0823",
         "Pathway-Exposure",
         "CTD"
        ],
        [
         "39",
         "BMG_ED_PWEP000040",
         "BMG_EP0072",
         "BMG_PW2772",
         "Pathway-Exposure",
         "CTD"
        ],
        [
         "40",
         "BMG_ED_PWEP000041",
         "BMG_EP0072",
         "BMG_PW0013",
         "Pathway-Exposure",
         "CTD"
        ],
        [
         "41",
         "BMG_ED_PWEP000042",
         "BMG_EP0072",
         "BMG_PW0660",
         "Pathway-Exposure",
         "CTD"
        ],
        [
         "42",
         "BMG_ED_PWEP000043",
         "BMG_EP0072",
         "BMG_PW0098",
         "Pathway-Exposure",
         "CTD"
        ],
        [
         "43",
         "BMG_ED_PWEP000044",
         "BMG_EP0072",
         "BMG_PW4120",
         "Pathway-Exposure",
         "CTD"
        ],
        [
         "44",
         "BMG_ED_PWEP000045",
         "BMG_EP0072",
         "BMG_PW6640",
         "Pathway-Exposure",
         "CTD"
        ],
        [
         "45",
         "BMG_ED_PWEP000046",
         "BMG_EP0072",
         "BMG_PW3233",
         "Pathway-Exposure",
         "CTD"
        ],
        [
         "46",
         "BMG_ED_PWEP000047",
         "BMG_EP0072",
         "BMG_PW6763",
         "Pathway-Exposure",
         "CTD"
        ],
        [
         "47",
         "BMG_ED_PWEP000048",
         "BMG_EP0072",
         "BMG_PW2831",
         "Pathway-Exposure",
         "CTD"
        ],
        [
         "48",
         "BMG_ED_PWEP000049",
         "BMG_EP0072",
         "BMG_PW6667",
         "Pathway-Exposure",
         "CTD"
        ],
        [
         "49",
         "BMG_ED_PWEP000050",
         "BMG_EP0072",
         "BMG_PW4121",
         "Pathway-Exposure",
         "CTD"
        ]
       ],
       "shape": {
        "columns": 5,
        "rows": 301448
       }
      },
      "text/html": [
       "<div>\n",
       "<style scoped>\n",
       "    .dataframe tbody tr th:only-of-type {\n",
       "        vertical-align: middle;\n",
       "    }\n",
       "\n",
       "    .dataframe tbody tr th {\n",
       "        vertical-align: top;\n",
       "    }\n",
       "\n",
       "    .dataframe thead th {\n",
       "        text-align: right;\n",
       "    }\n",
       "</style>\n",
       "<table border=\"1\" class=\"dataframe\">\n",
       "  <thead>\n",
       "    <tr style=\"text-align: right;\">\n",
       "      <th></th>\n",
       "      <th>BioMedGraphica_ID</th>\n",
       "      <th>From_ID</th>\n",
       "      <th>To_ID</th>\n",
       "      <th>Type</th>\n",
       "      <th>Source</th>\n",
       "    </tr>\n",
       "  </thead>\n",
       "  <tbody>\n",
       "    <tr>\n",
       "      <th>0</th>\n",
       "      <td>BMG_ED_PWEP000001</td>\n",
       "      <td>BMG_EP0060</td>\n",
       "      <td>BMG_PW0840</td>\n",
       "      <td>Pathway-Exposure</td>\n",
       "      <td>CTD</td>\n",
       "    </tr>\n",
       "    <tr>\n",
       "      <th>1</th>\n",
       "      <td>BMG_ED_PWEP000002</td>\n",
       "      <td>BMG_EP0060</td>\n",
       "      <td>BMG_PW1029</td>\n",
       "      <td>Pathway-Exposure</td>\n",
       "      <td>CTD</td>\n",
       "    </tr>\n",
       "    <tr>\n",
       "      <th>2</th>\n",
       "      <td>BMG_ED_PWEP000003</td>\n",
       "      <td>BMG_EP0060</td>\n",
       "      <td>BMG_PW0016</td>\n",
       "      <td>Pathway-Exposure</td>\n",
       "      <td>CTD</td>\n",
       "    </tr>\n",
       "    <tr>\n",
       "      <th>3</th>\n",
       "      <td>BMG_ED_PWEP000004</td>\n",
       "      <td>BMG_EP0060</td>\n",
       "      <td>BMG_PW1025</td>\n",
       "      <td>Pathway-Exposure</td>\n",
       "      <td>CTD</td>\n",
       "    </tr>\n",
       "    <tr>\n",
       "      <th>4</th>\n",
       "      <td>BMG_ED_PWEP000005</td>\n",
       "      <td>BMG_EP0060</td>\n",
       "      <td>BMG_PW3644</td>\n",
       "      <td>Pathway-Exposure</td>\n",
       "      <td>CTD</td>\n",
       "    </tr>\n",
       "    <tr>\n",
       "      <th>...</th>\n",
       "      <td>...</td>\n",
       "      <td>...</td>\n",
       "      <td>...</td>\n",
       "      <td>...</td>\n",
       "      <td>...</td>\n",
       "    </tr>\n",
       "    <tr>\n",
       "      <th>301443</th>\n",
       "      <td>BMG_ED_PWEP301444</td>\n",
       "      <td>BMG_EP1159</td>\n",
       "      <td>BMG_PW1032</td>\n",
       "      <td>Pathway-Exposure</td>\n",
       "      <td>CTD</td>\n",
       "    </tr>\n",
       "    <tr>\n",
       "      <th>301444</th>\n",
       "      <td>BMG_ED_PWEP301445</td>\n",
       "      <td>BMG_EP1159</td>\n",
       "      <td>BMG_PW0199</td>\n",
       "      <td>Pathway-Exposure</td>\n",
       "      <td>CTD</td>\n",
       "    </tr>\n",
       "    <tr>\n",
       "      <th>301445</th>\n",
       "      <td>BMG_ED_PWEP301446</td>\n",
       "      <td>BMG_EP1159</td>\n",
       "      <td>BMG_PW0197</td>\n",
       "      <td>Pathway-Exposure</td>\n",
       "      <td>CTD</td>\n",
       "    </tr>\n",
       "    <tr>\n",
       "      <th>301446</th>\n",
       "      <td>BMG_ED_PWEP301447</td>\n",
       "      <td>BMG_EP1159</td>\n",
       "      <td>BMG_PW0198</td>\n",
       "      <td>Pathway-Exposure</td>\n",
       "      <td>CTD</td>\n",
       "    </tr>\n",
       "    <tr>\n",
       "      <th>301447</th>\n",
       "      <td>BMG_ED_PWEP301448</td>\n",
       "      <td>BMG_EP1159</td>\n",
       "      <td>BMG_PW0008</td>\n",
       "      <td>Pathway-Exposure</td>\n",
       "      <td>CTD</td>\n",
       "    </tr>\n",
       "  </tbody>\n",
       "</table>\n",
       "<p>301448 rows × 5 columns</p>\n",
       "</div>"
      ],
      "text/plain": [
       "        BioMedGraphica_ID     From_ID       To_ID              Type Source\n",
       "0       BMG_ED_PWEP000001  BMG_EP0060  BMG_PW0840  Pathway-Exposure    CTD\n",
       "1       BMG_ED_PWEP000002  BMG_EP0060  BMG_PW1029  Pathway-Exposure    CTD\n",
       "2       BMG_ED_PWEP000003  BMG_EP0060  BMG_PW0016  Pathway-Exposure    CTD\n",
       "3       BMG_ED_PWEP000004  BMG_EP0060  BMG_PW1025  Pathway-Exposure    CTD\n",
       "4       BMG_ED_PWEP000005  BMG_EP0060  BMG_PW3644  Pathway-Exposure    CTD\n",
       "...                   ...         ...         ...               ...    ...\n",
       "301443  BMG_ED_PWEP301444  BMG_EP1159  BMG_PW1032  Pathway-Exposure    CTD\n",
       "301444  BMG_ED_PWEP301445  BMG_EP1159  BMG_PW0199  Pathway-Exposure    CTD\n",
       "301445  BMG_ED_PWEP301446  BMG_EP1159  BMG_PW0197  Pathway-Exposure    CTD\n",
       "301446  BMG_ED_PWEP301447  BMG_EP1159  BMG_PW0198  Pathway-Exposure    CTD\n",
       "301447  BMG_ED_PWEP301448  BMG_EP1159  BMG_PW0008  Pathway-Exposure    CTD\n",
       "\n",
       "[301448 rows x 5 columns]"
      ]
     },
     "execution_count": 10,
     "metadata": {},
     "output_type": "execute_result"
    }
   ],
   "source": [
    "pathway_exposure = ctd[['To_ID', 'From_ID']]\n",
    "pathway_exposure = pathway_exposure.rename(columns={'To_ID': 'From_ID', 'From_ID': 'To_ID'})\n",
    "pathway_exposure['Type'] = 'Pathway-Exposure'\n",
    "pathway_exposure['Source'] = 'CTD'\n",
    "\n",
    "max_length = len(str(len(pathway_exposure)))\n",
    "pathway_exposure['BioMedGraphica_ID'] = ['BMG_ED_PWEP' + str(i).zfill(max_length) for i in range(1, len(pathway_exposure) + 1)]\n",
    "columns = ['BioMedGraphica_ID'] + [col for col in pathway_exposure.columns if col != 'BioMedGraphica_ID']  # re-order columns\n",
    "pathway_exposure = pathway_exposure[columns]\n",
    "pathway_exposure"
   ]
  },
  {
   "cell_type": "code",
   "execution_count": 11,
   "metadata": {},
   "outputs": [
    {
     "name": "stdout",
     "output_type": "stream",
     "text": [
      "Data has been saved to D:\\RA\\BMG\\BioMedGraphica\\Relation\\Pathway-Exposure\\BioMedGraphica_Pathway_Exposure.csv\n"
     ]
    }
   ],
   "source": [
    "import os\n",
    "from pathlib import Path\n",
    "\n",
    "# get the current working directory\n",
    "current_working_dir = Path(os.getcwd()).resolve()\n",
    "\n",
    "# get the output directory\n",
    "grandparent_dir = current_working_dir.parent.parent.parent\n",
    "\n",
    "target_folder = grandparent_dir / 'BioMedGraphica' / 'Relation' / 'Pathway-Exposure'\n",
    "if not target_folder.exists():\n",
    "    target_folder.mkdir(parents=True)\n",
    "    print(f\"Folder {target_folder} has been created.\")\n",
    "\n",
    "output_file_path = target_folder / 'BioMedGraphica_Pathway_Exposure.csv'\n",
    "pathway_exposure.to_csv(output_file_path, index=False)\n",
    "print(f\"Data has been saved to {output_file_path}\")"
   ]
  }
 ],
 "metadata": {
  "kernelspec": {
   "display_name": "base",
   "language": "python",
   "name": "python3"
  },
  "language_info": {
   "codemirror_mode": {
    "name": "ipython",
    "version": 3
   },
   "file_extension": ".py",
   "mimetype": "text/x-python",
   "name": "python",
   "nbconvert_exporter": "python",
   "pygments_lexer": "ipython3",
   "version": "3.9.19"
  }
 },
 "nbformat": 4,
 "nbformat_minor": 2
}
