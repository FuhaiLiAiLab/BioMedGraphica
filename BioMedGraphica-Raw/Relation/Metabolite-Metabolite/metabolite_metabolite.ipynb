{
 "cells": [
  {
   "cell_type": "markdown",
   "metadata": {},
   "source": [
    "### MetaNetX"
   ]
  },
  {
   "cell_type": "code",
   "execution_count": 2,
   "metadata": {},
   "outputs": [
    {
     "data": {
      "application/vnd.microsoft.datawrangler.viewer.v0+json": {
       "columns": [
        {
         "name": "index",
         "rawType": "int64",
         "type": "integer"
        },
        {
         "name": "parent",
         "rawType": "object",
         "type": "string"
        },
        {
         "name": "child",
         "rawType": "object",
         "type": "string"
        },
        {
         "name": "description",
         "rawType": "object",
         "type": "string"
        }
       ],
       "conversionMethod": "pd.DataFrame",
       "ref": "56025043-860d-4fb0-9978-4a3783c63cae",
       "rows": [
        [
         "0",
         "MNXM100051",
         "MNXM100344",
         "cis-9,19-epoxy-3Z,6Z-heptadecadiene -> 9S,10R-epoxy-3Z,6Z-heptadecadiene"
        ],
        [
         "1",
         "MNXM100051",
         "MNXM99630",
         "cis-9,19-epoxy-3Z,6Z-heptadecadiene -> 9R,10S-epoxy-3Z,6Z-heptadecadiene"
        ],
        [
         "2",
         "MNXM10011",
         "MNXM31563",
         "3-hydroxy-3-phenylpropionic acid -> (R)-3-hydroxy-3-phenylpropionic acid"
        ],
        [
         "3",
         "MNXM10011",
         "MNXM31736",
         "3-hydroxy-3-phenylpropionic acid -> (S)-3-hydroxy-3-phenylpropionic acid"
        ],
        [
         "4",
         "MNXM10026",
         "MNXM1104681",
         "3-hydroxydecanoyl-CoA -> (3S)-hydroxydecanoyl-CoA"
        ],
        [
         "5",
         "MNXM10026",
         "MNXM9497",
         "3-hydroxydecanoyl-CoA -> (3R)-3-hydroxydecanoyl-CoA"
        ],
        [
         "6",
         "MNXM10039",
         "MNXM36497",
         "3-hydroxypregnan-20-one -> 3-hydroxy-5alpha-pregnan-20-one"
        ],
        [
         "7",
         "MNXM10039",
         "MNXM36498",
         "3-hydroxypregnan-20-one -> 3-hydroxy-5beta-pregnan-20-one"
        ],
        [
         "8",
         "MNXM100443",
         "MNXM1128795",
         "1,4-dimethylcyclohexane -> cis-1,4-dimethylcyclohexane"
        ],
        [
         "9",
         "MNXM100443",
         "MNXM1128796",
         "1,4-dimethylcyclohexane -> trans-1,4-dimethylcyclohexane"
        ],
        [
         "10",
         "MNXM10108",
         "MNXM722941",
         "3-oxochola-4,22-dien-24-oyl-CoA -> (22E)-3-oxo-chol-4,22-dien-24-oyl-CoA"
        ],
        [
         "11",
         "MNXM101118",
         "MNXM174121",
         "2-hydroxyhexadecanoyl-CoA -> (2R)-hydroxyhexadecanoyl-CoA"
        ],
        [
         "12",
         "MNXM101119",
         "MNXM174122",
         "2-hydroxyoctadecanoyl-CoA -> (2R)-2-hydroxyoctadecanoyl-CoA"
        ],
        [
         "13",
         "MNXM101226",
         "MNXM100715",
         "1-(3,4-dihydroxyphenyl)-7-(4-hydroxyphenyl)-(6E)-6-hepten-3-ol -> (+)-(3R)-1-(3,4-dihydroxyphenyl)-7-(4-hydroxyphenyl)-(6E)-6-hepten-3-ol"
        ],
        [
         "14",
         "MNXM101226",
         "MNXM100819",
         "1-(3,4-dihydroxyphenyl)-7-(4-hydroxyphenyl)-(6E)-6-hepten-3-ol -> (-)-(3S)-1-(3,4-dihydroxyphenyl)-7-(4-hydroxyphenyl)-(6E)-6-hepten-3-ol"
        ],
        [
         "15",
         "MNXM101321",
         "MNXM101330",
         "10-hydroperoxy-8E-octadecenoate -> (8E,10S)-10-hydroperoxy-octadeca-8-enoate"
        ],
        [
         "16",
         "MNXM101359",
         "MNXM101381",
         "12-HOME(10E) -> 12R-HOME(10E)"
        ],
        [
         "17",
         "MNXM101359",
         "MNXM101389",
         "12-HOME(10E) -> 12S-HOME(10E)"
        ],
        [
         "18",
         "MNXM101425",
         "MNXM816064",
         "14-F2-dihomo-IsoP -> ent-14-F2t-dihomo-IsoP"
        ],
        [
         "19",
         "MNXM101425",
         "MNXM816065",
         "14-F2-dihomo-IsoP -> ent-14-epi-14-F2c-dihomo-IsoP"
        ],
        [
         "20",
         "MNXM101425",
         "MNXM816066",
         "14-F2-dihomo-IsoP -> ent-14-epi-14-F2t-dihomo-IsoP"
        ],
        [
         "21",
         "MNXM101425",
         "MNXM816067",
         "14-F2-dihomo-IsoP -> ent-14-F2c-dihomo-IsoP"
        ],
        [
         "22",
         "MNXM101425",
         "MNXM816068",
         "14-F2-dihomo-IsoP -> ent-12-epi-14-F2c-dihomo-IsoP"
        ],
        [
         "23",
         "MNXM101425",
         "MNXM816069",
         "14-F2-dihomo-IsoP -> ent-14,7-diepi-14-F2t-dihomo-IsoP"
        ],
        [
         "24",
         "MNXM101425",
         "MNXM816070",
         "14-F2-dihomo-IsoP -> ent-14,7-diepi-14-F2c-dihomo-IsoP"
        ],
        [
         "25",
         "MNXM101425",
         "MNXM816071",
         "14-F2-dihomo-IsoP -> ent-12-epi-14-F2t-dihomo-IsoP"
        ],
        [
         "26",
         "MNXM101425",
         "MNXM816072",
         "14-F2-dihomo-IsoP -> 12-epi-14-F2c-dihomo-IsoP"
        ],
        [
         "27",
         "MNXM101425",
         "MNXM816073",
         "14-F2-dihomo-IsoP -> 14,7-diepi-14-F2t-dihomo-IsoP"
        ],
        [
         "28",
         "MNXM101425",
         "MNXM816074",
         "14-F2-dihomo-IsoP -> 14,7-diepi-14-F2c-dihomo-IsoP"
        ],
        [
         "29",
         "MNXM101425",
         "MNXM816075",
         "14-F2-dihomo-IsoP -> 12-epi-14-F2t-dihomo-IsoP"
        ],
        [
         "30",
         "MNXM101425",
         "MNXM816076",
         "14-F2-dihomo-IsoP -> 14-F2c-dihomo-IsoP"
        ],
        [
         "31",
         "MNXM101425",
         "MNXM816077",
         "14-F2-dihomo-IsoP -> 14-epi-14-F2t-dihomo-IsoP"
        ],
        [
         "32",
         "MNXM101425",
         "MNXM816078",
         "14-F2-dihomo-IsoP -> 14-epi-14-F2c-dihomo-IsoP"
        ],
        [
         "33",
         "MNXM101425",
         "MNXM816079",
         "14-F2-dihomo-IsoP -> 14-F2t-dihomo-IsoP"
        ],
        [
         "34",
         "MNXM101450",
         "MNXM1130385",
         "15-hydroxy-tetracosa-6,9,12,16,18-pentaenoic acid -> 15R-HTPE"
        ],
        [
         "35",
         "MNXM101450",
         "MNXM1130386",
         "15-hydroxy-tetracosa-6,9,12,16,18-pentaenoic acid -> 15S-HTPE"
        ],
        [
         "36",
         "MNXM101484",
         "MNXM33851",
         "17-F2-dihomo-IsoP -> 1a,1b-dihomo-PGF2alpha"
        ],
        [
         "37",
         "MNXM101484",
         "MNXM816080",
         "17-F2-dihomo-IsoP -> ent-17-F2t-dihomo-IsoP"
        ],
        [
         "38",
         "MNXM101484",
         "MNXM816081",
         "17-F2-dihomo-IsoP -> ent-10-epi-17-F2c-dihomo-IsoP"
        ],
        [
         "39",
         "MNXM101484",
         "MNXM816082",
         "17-F2-dihomo-IsoP -> ent-10-epi-17-F2t-dihomo-IsoP"
        ],
        [
         "40",
         "MNXM101484",
         "MNXM816083",
         "17-F2-dihomo-IsoP -> ent-17-F2c-dihomo-IsoP"
        ],
        [
         "41",
         "MNXM101484",
         "MNXM816084",
         "17-F2-dihomo-IsoP -> ent-15-epi-17-F2t-dihomo-IsoP"
        ],
        [
         "42",
         "MNXM101484",
         "MNXM816085",
         "17-F2-dihomo-IsoP -> ent-10,17-diepi-17-F2c-dihomo-IsoP"
        ],
        [
         "43",
         "MNXM101484",
         "MNXM816086",
         "17-F2-dihomo-IsoP -> ent-10,17-diepi-17-F2t-dihomo-IsoP"
        ],
        [
         "44",
         "MNXM101484",
         "MNXM816087",
         "17-F2-dihomo-IsoP -> ent-15-epi-17-F2c-dihomo-IsoP"
        ],
        [
         "45",
         "MNXM101484",
         "MNXM816088",
         "17-F2-dihomo-IsoP -> 15-epi-17-F2c-dihomo-IsoP"
        ],
        [
         "46",
         "MNXM101484",
         "MNXM816089",
         "17-F2-dihomo-IsoP -> 10,17-diepi-17-F2t-dihomo-IsoP"
        ],
        [
         "47",
         "MNXM101484",
         "MNXM816090",
         "17-F2-dihomo-IsoP -> 10,17-diepi-17-F2c-dihomo-IsoP"
        ],
        [
         "48",
         "MNXM101484",
         "MNXM816091",
         "17-F2-dihomo-IsoP -> 15-epi-17-F2t-dihomo-IsoP"
        ],
        [
         "49",
         "MNXM101484",
         "MNXM816092",
         "17-F2-dihomo-IsoP -> 17-F2c-dihomo-IsoP"
        ]
       ],
       "shape": {
        "columns": 3,
        "rows": 11723
       }
      },
      "text/html": [
       "<div>\n",
       "<style scoped>\n",
       "    .dataframe tbody tr th:only-of-type {\n",
       "        vertical-align: middle;\n",
       "    }\n",
       "\n",
       "    .dataframe tbody tr th {\n",
       "        vertical-align: top;\n",
       "    }\n",
       "\n",
       "    .dataframe thead th {\n",
       "        text-align: right;\n",
       "    }\n",
       "</style>\n",
       "<table border=\"1\" class=\"dataframe\">\n",
       "  <thead>\n",
       "    <tr style=\"text-align: right;\">\n",
       "      <th></th>\n",
       "      <th>parent</th>\n",
       "      <th>child</th>\n",
       "      <th>description</th>\n",
       "    </tr>\n",
       "  </thead>\n",
       "  <tbody>\n",
       "    <tr>\n",
       "      <th>0</th>\n",
       "      <td>MNXM100051</td>\n",
       "      <td>MNXM100344</td>\n",
       "      <td>cis-9,19-epoxy-3Z,6Z-heptadecadiene -&gt; 9S,10R-...</td>\n",
       "    </tr>\n",
       "    <tr>\n",
       "      <th>1</th>\n",
       "      <td>MNXM100051</td>\n",
       "      <td>MNXM99630</td>\n",
       "      <td>cis-9,19-epoxy-3Z,6Z-heptadecadiene -&gt; 9R,10S-...</td>\n",
       "    </tr>\n",
       "    <tr>\n",
       "      <th>2</th>\n",
       "      <td>MNXM10011</td>\n",
       "      <td>MNXM31563</td>\n",
       "      <td>3-hydroxy-3-phenylpropionic acid -&gt; (R)-3-hydr...</td>\n",
       "    </tr>\n",
       "    <tr>\n",
       "      <th>3</th>\n",
       "      <td>MNXM10011</td>\n",
       "      <td>MNXM31736</td>\n",
       "      <td>3-hydroxy-3-phenylpropionic acid -&gt; (S)-3-hydr...</td>\n",
       "    </tr>\n",
       "    <tr>\n",
       "      <th>4</th>\n",
       "      <td>MNXM10026</td>\n",
       "      <td>MNXM1104681</td>\n",
       "      <td>3-hydroxydecanoyl-CoA -&gt; (3S)-hydroxydecanoyl-CoA</td>\n",
       "    </tr>\n",
       "    <tr>\n",
       "      <th>...</th>\n",
       "      <td>...</td>\n",
       "      <td>...</td>\n",
       "      <td>...</td>\n",
       "    </tr>\n",
       "    <tr>\n",
       "      <th>11718</th>\n",
       "      <td>MNXM99362</td>\n",
       "      <td>MNXM99741</td>\n",
       "      <td>1-methyl-2-ethylcyclohexane -&gt; trans-1-ethyl-2...</td>\n",
       "    </tr>\n",
       "    <tr>\n",
       "      <th>11719</th>\n",
       "      <td>MNXM9987</td>\n",
       "      <td>MNXM162802</td>\n",
       "      <td>3-aminoisobutyric acid -&gt; (R)-3-amino-2-methyl...</td>\n",
       "    </tr>\n",
       "    <tr>\n",
       "      <th>11720</th>\n",
       "      <td>MNXM9987</td>\n",
       "      <td>MNXM732376</td>\n",
       "      <td>3-aminoisobutyric acid -&gt; (S)-3-amino-2-methyl...</td>\n",
       "    </tr>\n",
       "    <tr>\n",
       "      <th>11721</th>\n",
       "      <td>MNXM99960</td>\n",
       "      <td>MNXM101734</td>\n",
       "      <td>2-Ethyl-1,6-dioxaspiro[4.4]nonane -&gt; 2S,5R-cha...</td>\n",
       "    </tr>\n",
       "    <tr>\n",
       "      <th>11722</th>\n",
       "      <td>MNXM99960</td>\n",
       "      <td>MNXM46228</td>\n",
       "      <td>2-Ethyl-1,6-dioxaspiro[4.4]nonane -&gt; Chalcogran</td>\n",
       "    </tr>\n",
       "  </tbody>\n",
       "</table>\n",
       "<p>11723 rows × 3 columns</p>\n",
       "</div>"
      ],
      "text/plain": [
       "           parent        child  \\\n",
       "0      MNXM100051   MNXM100344   \n",
       "1      MNXM100051    MNXM99630   \n",
       "2       MNXM10011    MNXM31563   \n",
       "3       MNXM10011    MNXM31736   \n",
       "4       MNXM10026  MNXM1104681   \n",
       "...           ...          ...   \n",
       "11718   MNXM99362    MNXM99741   \n",
       "11719    MNXM9987   MNXM162802   \n",
       "11720    MNXM9987   MNXM732376   \n",
       "11721   MNXM99960   MNXM101734   \n",
       "11722   MNXM99960    MNXM46228   \n",
       "\n",
       "                                             description  \n",
       "0      cis-9,19-epoxy-3Z,6Z-heptadecadiene -> 9S,10R-...  \n",
       "1      cis-9,19-epoxy-3Z,6Z-heptadecadiene -> 9R,10S-...  \n",
       "2      3-hydroxy-3-phenylpropionic acid -> (R)-3-hydr...  \n",
       "3      3-hydroxy-3-phenylpropionic acid -> (S)-3-hydr...  \n",
       "4      3-hydroxydecanoyl-CoA -> (3S)-hydroxydecanoyl-CoA  \n",
       "...                                                  ...  \n",
       "11718  1-methyl-2-ethylcyclohexane -> trans-1-ethyl-2...  \n",
       "11719  3-aminoisobutyric acid -> (R)-3-amino-2-methyl...  \n",
       "11720  3-aminoisobutyric acid -> (S)-3-amino-2-methyl...  \n",
       "11721  2-Ethyl-1,6-dioxaspiro[4.4]nonane -> 2S,5R-cha...  \n",
       "11722    2-Ethyl-1,6-dioxaspiro[4.4]nonane -> Chalcogran  \n",
       "\n",
       "[11723 rows x 3 columns]"
      ]
     },
     "execution_count": 2,
     "metadata": {},
     "output_type": "execute_result"
    }
   ],
   "source": [
    "# Download Link: https://www.metanetx.org/ftp/latest/chem_isom.tsv\n",
    "# Download Date: 2025-03-21\n",
    "# Download Version: 2022-03-18\n",
    "\n",
    "import pandas as pd\n",
    "import numpy as np\n",
    "\n",
    "metanetx = pd.read_csv('chem_isom.tsv', sep='\\t', comment='#', names=['parent','child','description'])\n",
    "metanetx"
   ]
  },
  {
   "cell_type": "code",
   "execution_count": 3,
   "metadata": {},
   "outputs": [
    {
     "data": {
      "application/vnd.microsoft.datawrangler.viewer.v0+json": {
       "columns": [
        {
         "name": "index",
         "rawType": "int64",
         "type": "integer"
        },
        {
         "name": "source",
         "rawType": "object",
         "type": "string"
        },
        {
         "name": "ID",
         "rawType": "object",
         "type": "string"
        },
        {
         "name": "description",
         "rawType": "object",
         "type": "string"
        },
        {
         "name": "db",
         "rawType": "object",
         "type": "string"
        },
        {
         "name": "db_id",
         "rawType": "object",
         "type": "unknown"
        }
       ],
       "conversionMethod": "pd.DataFrame",
       "ref": "821f7511-dcda-4bfa-9e4d-60697992bc36",
       "rows": [
        [
         "0",
         "BIOMASS",
         "BIOMASS",
         "BIOMASS",
         "BIOMASS",
         null
        ],
        [
         "1",
         "mnx:BIOMASS",
         "BIOMASS",
         "BIOMASS",
         "mnx",
         "BIOMASS"
        ],
        [
         "2",
         "seed.compound:cpd11416",
         "BIOMASS",
         "Biomass",
         "seed.compound",
         "cpd11416"
        ],
        [
         "3",
         "seedM:M_cpd11416",
         "BIOMASS",
         "secondary/obsolete/fantasy identifier",
         "seedM",
         "M_cpd11416"
        ],
        [
         "4",
         "seedM:cpd11416",
         "BIOMASS",
         "Biomass",
         "seedM",
         "cpd11416"
        ],
        [
         "5",
         "MNXM01",
         "MNXM01",
         "PMF||Translocated proton that acccounts for the Proton Motive Force||Not to be confused with H(+) (MNXM1)",
         "MNXM01",
         null
        ],
        [
         "6",
         "mnx:PMF",
         "MNXM01",
         "PMF||Translocated proton that acccounts for the Proton Motive Force||Not to be confused with H(+) (MNXM1)",
         "mnx",
         "PMF"
        ],
        [
         "7",
         "CHEBI:16234",
         "MNXM02",
         "hydroxide||HO-||HYDROXIDE ION||Hydroxide ion||OH(-)||OH-||hydridooxygenate(1-)||oxidanide",
         "CHEBI",
         "16234"
        ],
        [
         "8",
         "CHEBI:29356",
         "MNXM02",
         "oxide(2-)||O(2-)||oxide",
         "CHEBI",
         "29356"
        ],
        [
         "9",
         "MNXM02",
         "MNXM02",
         "OH(-)||hydroxyde",
         "MNXM02",
         null
        ],
        [
         "10",
         "bigg.metabolite:oh1",
         "MNXM02",
         "Hydroxide ion",
         "bigg.metabolite",
         "oh1"
        ],
        [
         "11",
         "biggM:M_oh1",
         "MNXM02",
         "secondary/obsolete/fantasy identifier",
         "biggM",
         "M_oh1"
        ],
        [
         "12",
         "biggM:oh1",
         "MNXM02",
         "Hydroxide ion",
         "biggM",
         "oh1"
        ],
        [
         "13",
         "chebi:13365",
         "MNXM02",
         "secondary/obsolete/fantasy identifier",
         "chebi",
         "13365"
        ],
        [
         "14",
         "chebi:13419",
         "MNXM02",
         "secondary/obsolete/fantasy identifier",
         "chebi",
         "13419"
        ],
        [
         "15",
         "chebi:16234",
         "MNXM02",
         "hydroxide||HO-||HYDROXIDE ION||Hydroxide ion||OH(-)||OH-||hydridooxygenate(1-)||oxidanide",
         "chebi",
         "16234"
        ],
        [
         "16",
         "chebi:29356",
         "MNXM02",
         "oxide(2-)||O(2-)||oxide",
         "chebi",
         "29356"
        ],
        [
         "17",
         "chebi:44641",
         "MNXM02",
         "secondary/obsolete/fantasy identifier",
         "chebi",
         "44641"
        ],
        [
         "18",
         "chebi:5594",
         "MNXM02",
         "secondary/obsolete/fantasy identifier",
         "chebi",
         "5594"
        ],
        [
         "19",
         "envipath:650babc9-9d68-4b73-9332-11972ca26f7b/compound/98255e64-a8b2-4151-b5f1-08b2ea3a3171",
         "MNXM02",
         "compound 0282827",
         "envipath",
         "650babc9-9d68-4b73-9332-11972ca26f7b/compound/98255e64-a8b2-4151-b5f1-08b2ea3a3171"
        ],
        [
         "20",
         "envipathM:650babc9-9d68-4b73-9332-11972ca26f7b/compound/98255e64-a8b2-4151-b5f1-08b2ea3a3171",
         "MNXM02",
         "compound 0282827",
         "envipathM",
         "650babc9-9d68-4b73-9332-11972ca26f7b/compound/98255e64-a8b2-4151-b5f1-08b2ea3a3171"
        ],
        [
         "21",
         "hmdb:HMDB0001039",
         "MNXM02",
         "Hydroxide||HYDROXIDE ion||Hydridooxygenate(1-)||Hydrogen oxide||Hydroxide anion||Hydroxide ion(1-)||Hydroxide(1-)||Hydroxy||Hydroxy anion||Hydroxy ion||Hydroxyl||Hydroxyl anion||Hydroxyl ion||Hydroxyl ion (OH1-)||Hydroxyl radical||Hydroxyl radicals||OH||OH(-)||Oxidanide||Oxygen ion (O1-)||Water ion(1-)||hydroxide",
         "hmdb",
         "HMDB0001039"
        ],
        [
         "22",
         "hmdb:HMDB01039",
         "MNXM02",
         "secondary/obsolete/fantasy identifier",
         "hmdb",
         "HMDB01039"
        ],
        [
         "23",
         "kegg.compound:C01328",
         "MNXM02",
         "HO-||Hydroxide ion||OH-",
         "kegg.compound",
         "C01328"
        ],
        [
         "24",
         "keggC:C01328",
         "MNXM02",
         "HO-||Hydroxide ion||OH-",
         "keggC",
         "C01328"
        ],
        [
         "25",
         "keggC:M_C01328",
         "MNXM02",
         "secondary/obsolete/fantasy identifier",
         "keggC",
         "M_C01328"
        ],
        [
         "26",
         "metacyc.compound:OH",
         "MNXM02",
         "OH-||OH||hydroxide||hydroxide ion||hydroxyl||hydroxyl ion",
         "metacyc.compound",
         "OH"
        ],
        [
         "27",
         "metacycM:OH",
         "MNXM02",
         "OH-||OH||hydroxide||hydroxide ion||hydroxyl||hydroxyl ion",
         "metacycM",
         "OH"
        ],
        [
         "28",
         "mnx:HYDROXYDE",
         "MNXM02",
         "OH(-)||hydroxyde",
         "mnx",
         "HYDROXYDE"
        ],
        [
         "29",
         "seed.compound:cpd15275",
         "MNXM02",
         "hydroxide ion||oh1",
         "seed.compound",
         "cpd15275"
        ],
        [
         "30",
         "seedM:M_cpd15275",
         "MNXM02",
         "secondary/obsolete/fantasy identifier",
         "seedM",
         "M_cpd15275"
        ],
        [
         "31",
         "seedM:cpd15275",
         "MNXM02",
         "hydroxide ion||oh1",
         "seedM",
         "cpd15275"
        ],
        [
         "32",
         "CHEBI:29412",
         "MNXM03",
         "oxonium||H3O(+)||Hydronium cation||Hydronium ion||[OH3](+)||aquahydrogen(1+)||oxidanium||trihydridooxygen(1+)",
         "CHEBI",
         "29412"
        ],
        [
         "33",
         "MNXM03",
         "MNXM03",
         "H3O(+)||oxonium",
         "MNXM03",
         null
        ],
        [
         "34",
         "chebi:29412",
         "MNXM03",
         "oxonium||H3O(+)||Hydronium cation||Hydronium ion||[OH3](+)||aquahydrogen(1+)||oxidanium||trihydridooxygen(1+)",
         "chebi",
         "29412"
        ],
        [
         "35",
         "metacyc.compound:OXONIUM",
         "MNXM03",
         "oxonium||H3O+",
         "metacyc.compound",
         "OXONIUM"
        ],
        [
         "36",
         "metacycM:OXONIUM",
         "MNXM03",
         "oxonium||H3O+",
         "metacycM",
         "OXONIUM"
        ],
        [
         "37",
         "mnx:OXONIUM",
         "MNXM03",
         "H3O(+)||oxonium",
         "mnx",
         "OXONIUM"
        ],
        [
         "38",
         "CHEBI:15378",
         "MNXM1",
         "H(+)||H+||Hydron||hydrogen(1+)||hydron",
         "CHEBI",
         "15378"
        ],
        [
         "39",
         "CHEBI:24636",
         "MNXM1",
         "proton||(1)1H(+)||(1)H(+)||p||p(+)||protium(1+)",
         "CHEBI",
         "24636"
        ],
        [
         "40",
         "CHEBI:29233",
         "MNXM1",
         "deuteron||(2)1H(+)||(2)H(+)||D(+)||d||d(+)||deuterium cation||deuterium(1+)",
         "CHEBI",
         "29233"
        ],
        [
         "41",
         "CHEBI:29234",
         "MNXM1",
         "triton||(3)1H(+)||(3)H(+)||T(+)||t||t(+)||tritium(1+)",
         "CHEBI",
         "29234"
        ],
        [
         "42",
         "MNXM1",
         "MNXM1",
         "H(+)||Protons used for balancing chemical equations||Not to be confused with PMF (MNXM01)",
         "MNXM1",
         null
        ],
        [
         "43",
         "bigg.metabolite:h",
         "MNXM1",
         "H+",
         "bigg.metabolite",
         "h"
        ],
        [
         "44",
         "biggM:M_h",
         "MNXM1",
         "secondary/obsolete/fantasy identifier",
         "biggM",
         "M_h"
        ],
        [
         "45",
         "biggM:h",
         "MNXM1",
         "H+",
         "biggM",
         "h"
        ],
        [
         "46",
         "chebi:10744",
         "MNXM1",
         "secondary/obsolete/fantasy identifier",
         "chebi",
         "10744"
        ],
        [
         "47",
         "chebi:13357",
         "MNXM1",
         "secondary/obsolete/fantasy identifier",
         "chebi",
         "13357"
        ],
        [
         "48",
         "chebi:15378",
         "MNXM1",
         "H(+)||H+||Hydron||hydrogen(1+)||hydron",
         "chebi",
         "15378"
        ],
        [
         "49",
         "chebi:24636",
         "MNXM1",
         "proton||(1)1H(+)||(1)H(+)||p||p(+)||protium(1+)",
         "chebi",
         "24636"
        ]
       ],
       "shape": {
        "columns": 5,
        "rows": 2996510
       }
      },
      "text/html": [
       "<div>\n",
       "<style scoped>\n",
       "    .dataframe tbody tr th:only-of-type {\n",
       "        vertical-align: middle;\n",
       "    }\n",
       "\n",
       "    .dataframe tbody tr th {\n",
       "        vertical-align: top;\n",
       "    }\n",
       "\n",
       "    .dataframe thead th {\n",
       "        text-align: right;\n",
       "    }\n",
       "</style>\n",
       "<table border=\"1\" class=\"dataframe\">\n",
       "  <thead>\n",
       "    <tr style=\"text-align: right;\">\n",
       "      <th></th>\n",
       "      <th>source</th>\n",
       "      <th>ID</th>\n",
       "      <th>description</th>\n",
       "      <th>db</th>\n",
       "      <th>db_id</th>\n",
       "    </tr>\n",
       "  </thead>\n",
       "  <tbody>\n",
       "    <tr>\n",
       "      <th>0</th>\n",
       "      <td>BIOMASS</td>\n",
       "      <td>BIOMASS</td>\n",
       "      <td>BIOMASS</td>\n",
       "      <td>BIOMASS</td>\n",
       "      <td>None</td>\n",
       "    </tr>\n",
       "    <tr>\n",
       "      <th>1</th>\n",
       "      <td>mnx:BIOMASS</td>\n",
       "      <td>BIOMASS</td>\n",
       "      <td>BIOMASS</td>\n",
       "      <td>mnx</td>\n",
       "      <td>BIOMASS</td>\n",
       "    </tr>\n",
       "    <tr>\n",
       "      <th>2</th>\n",
       "      <td>seed.compound:cpd11416</td>\n",
       "      <td>BIOMASS</td>\n",
       "      <td>Biomass</td>\n",
       "      <td>seed.compound</td>\n",
       "      <td>cpd11416</td>\n",
       "    </tr>\n",
       "    <tr>\n",
       "      <th>3</th>\n",
       "      <td>seedM:M_cpd11416</td>\n",
       "      <td>BIOMASS</td>\n",
       "      <td>secondary/obsolete/fantasy identifier</td>\n",
       "      <td>seedM</td>\n",
       "      <td>M_cpd11416</td>\n",
       "    </tr>\n",
       "    <tr>\n",
       "      <th>4</th>\n",
       "      <td>seedM:cpd11416</td>\n",
       "      <td>BIOMASS</td>\n",
       "      <td>Biomass</td>\n",
       "      <td>seedM</td>\n",
       "      <td>cpd11416</td>\n",
       "    </tr>\n",
       "    <tr>\n",
       "      <th>...</th>\n",
       "      <td>...</td>\n",
       "      <td>...</td>\n",
       "      <td>...</td>\n",
       "      <td>...</td>\n",
       "      <td>...</td>\n",
       "    </tr>\n",
       "    <tr>\n",
       "      <th>2996505</th>\n",
       "      <td>sabiork.compound:40</td>\n",
       "      <td>WATER</td>\n",
       "      <td>H2O||Water</td>\n",
       "      <td>sabiork.compound</td>\n",
       "      <td>40</td>\n",
       "    </tr>\n",
       "    <tr>\n",
       "      <th>2996506</th>\n",
       "      <td>sabiorkM:40</td>\n",
       "      <td>WATER</td>\n",
       "      <td>H2O||Water</td>\n",
       "      <td>sabiorkM</td>\n",
       "      <td>40</td>\n",
       "    </tr>\n",
       "    <tr>\n",
       "      <th>2996507</th>\n",
       "      <td>seed.compound:cpd00001</td>\n",
       "      <td>WATER</td>\n",
       "      <td>H2O||H20||H3O+||HO-||Hydroxide ion||OH||OH-||W...</td>\n",
       "      <td>seed.compound</td>\n",
       "      <td>cpd00001</td>\n",
       "    </tr>\n",
       "    <tr>\n",
       "      <th>2996508</th>\n",
       "      <td>seedM:M_cpd00001</td>\n",
       "      <td>WATER</td>\n",
       "      <td>secondary/obsolete/fantasy identifier</td>\n",
       "      <td>seedM</td>\n",
       "      <td>M_cpd00001</td>\n",
       "    </tr>\n",
       "    <tr>\n",
       "      <th>2996509</th>\n",
       "      <td>seedM:cpd00001</td>\n",
       "      <td>WATER</td>\n",
       "      <td>H2O||H20||H3O+||HO-||Hydroxide ion||OH||OH-||W...</td>\n",
       "      <td>seedM</td>\n",
       "      <td>cpd00001</td>\n",
       "    </tr>\n",
       "  </tbody>\n",
       "</table>\n",
       "<p>2996510 rows × 5 columns</p>\n",
       "</div>"
      ],
      "text/plain": [
       "                         source       ID  \\\n",
       "0                       BIOMASS  BIOMASS   \n",
       "1                   mnx:BIOMASS  BIOMASS   \n",
       "2        seed.compound:cpd11416  BIOMASS   \n",
       "3              seedM:M_cpd11416  BIOMASS   \n",
       "4                seedM:cpd11416  BIOMASS   \n",
       "...                         ...      ...   \n",
       "2996505     sabiork.compound:40    WATER   \n",
       "2996506             sabiorkM:40    WATER   \n",
       "2996507  seed.compound:cpd00001    WATER   \n",
       "2996508        seedM:M_cpd00001    WATER   \n",
       "2996509          seedM:cpd00001    WATER   \n",
       "\n",
       "                                               description                db  \\\n",
       "0                                                  BIOMASS           BIOMASS   \n",
       "1                                                  BIOMASS               mnx   \n",
       "2                                                  Biomass     seed.compound   \n",
       "3                    secondary/obsolete/fantasy identifier             seedM   \n",
       "4                                                  Biomass             seedM   \n",
       "...                                                    ...               ...   \n",
       "2996505                                         H2O||Water  sabiork.compound   \n",
       "2996506                                         H2O||Water          sabiorkM   \n",
       "2996507  H2O||H20||H3O+||HO-||Hydroxide ion||OH||OH-||W...     seed.compound   \n",
       "2996508              secondary/obsolete/fantasy identifier             seedM   \n",
       "2996509  H2O||H20||H3O+||HO-||Hydroxide ion||OH||OH-||W...             seedM   \n",
       "\n",
       "              db_id  \n",
       "0              None  \n",
       "1           BIOMASS  \n",
       "2          cpd11416  \n",
       "3        M_cpd11416  \n",
       "4          cpd11416  \n",
       "...             ...  \n",
       "2996505          40  \n",
       "2996506          40  \n",
       "2996507    cpd00001  \n",
       "2996508  M_cpd00001  \n",
       "2996509    cpd00001  \n",
       "\n",
       "[2996510 rows x 5 columns]"
      ]
     },
     "execution_count": 3,
     "metadata": {},
     "output_type": "execute_result"
    }
   ],
   "source": [
    "# Download Link: https://www.metanetx.org/ftp/latest/chem_xref.tsv\n",
    "# Download Date: 2025-03-21\n",
    "# Download Version: 2022-03-18\n",
    "\n",
    "xref = pd.read_csv('chem_xref.tsv', sep='\\t', comment='#', names=['source','ID','description'])\n",
    "xref[['db', 'db_id']] = xref['source'].str.split(':', n=1, expand=True)\n",
    "xref"
   ]
  },
  {
   "cell_type": "markdown",
   "metadata": {},
   "source": [
    "Filter HMDB"
   ]
  },
  {
   "cell_type": "code",
   "execution_count": 4,
   "metadata": {},
   "outputs": [
    {
     "data": {
      "application/vnd.microsoft.datawrangler.viewer.v0+json": {
       "columns": [
        {
         "name": "index",
         "rawType": "int64",
         "type": "integer"
        },
        {
         "name": "parent",
         "rawType": "object",
         "type": "string"
        },
        {
         "name": "child",
         "rawType": "object",
         "type": "string"
        },
        {
         "name": "description",
         "rawType": "object",
         "type": "string"
        },
        {
         "name": "parent_hmdb",
         "rawType": "object",
         "type": "unknown"
        },
        {
         "name": "child_hmdb",
         "rawType": "object",
         "type": "unknown"
        }
       ],
       "conversionMethod": "pd.DataFrame",
       "ref": "b527d3cf-dae6-41d4-bfce-4e8e908bb107",
       "rows": [
        [
         "0",
         "MNXM100051",
         "MNXM100344",
         "cis-9,19-epoxy-3Z,6Z-heptadecadiene -> 9S,10R-epoxy-3Z,6Z-heptadecadiene",
         null,
         null
        ],
        [
         "1",
         "MNXM100051",
         "MNXM99630",
         "cis-9,19-epoxy-3Z,6Z-heptadecadiene -> 9R,10S-epoxy-3Z,6Z-heptadecadiene",
         null,
         null
        ],
        [
         "2",
         "MNXM10011",
         "MNXM31563",
         "3-hydroxy-3-phenylpropionic acid -> (R)-3-hydroxy-3-phenylpropionic acid",
         "HMDB0124925",
         null
        ],
        [
         "3",
         "MNXM10011",
         "MNXM31736",
         "3-hydroxy-3-phenylpropionic acid -> (S)-3-hydroxy-3-phenylpropionic acid",
         "HMDB0124925",
         null
        ],
        [
         "4",
         "MNXM10026",
         "MNXM1104681",
         "3-hydroxydecanoyl-CoA -> (3S)-hydroxydecanoyl-CoA",
         null,
         null
        ],
        [
         "5",
         "MNXM10026",
         "MNXM9497",
         "3-hydroxydecanoyl-CoA -> (3R)-3-hydroxydecanoyl-CoA",
         null,
         null
        ],
        [
         "6",
         "MNXM10039",
         "MNXM36497",
         "3-hydroxypregnan-20-one -> 3-hydroxy-5alpha-pregnan-20-one",
         null,
         null
        ],
        [
         "7",
         "MNXM10039",
         "MNXM36498",
         "3-hydroxypregnan-20-one -> 3-hydroxy-5beta-pregnan-20-one",
         null,
         null
        ],
        [
         "8",
         "MNXM100443",
         "MNXM1128795",
         "1,4-dimethylcyclohexane -> cis-1,4-dimethylcyclohexane",
         null,
         null
        ],
        [
         "9",
         "MNXM100443",
         "MNXM1128796",
         "1,4-dimethylcyclohexane -> trans-1,4-dimethylcyclohexane",
         null,
         null
        ],
        [
         "10",
         "MNXM10108",
         "MNXM722941",
         "3-oxochola-4,22-dien-24-oyl-CoA -> (22E)-3-oxo-chol-4,22-dien-24-oyl-CoA",
         null,
         null
        ],
        [
         "11",
         "MNXM101118",
         "MNXM174121",
         "2-hydroxyhexadecanoyl-CoA -> (2R)-hydroxyhexadecanoyl-CoA",
         null,
         null
        ],
        [
         "12",
         "MNXM101119",
         "MNXM174122",
         "2-hydroxyoctadecanoyl-CoA -> (2R)-2-hydroxyoctadecanoyl-CoA",
         null,
         null
        ],
        [
         "13",
         "MNXM101226",
         "MNXM100715",
         "1-(3,4-dihydroxyphenyl)-7-(4-hydroxyphenyl)-(6E)-6-hepten-3-ol -> (+)-(3R)-1-(3,4-dihydroxyphenyl)-7-(4-hydroxyphenyl)-(6E)-6-hepten-3-ol",
         null,
         null
        ],
        [
         "14",
         "MNXM101226",
         "MNXM100819",
         "1-(3,4-dihydroxyphenyl)-7-(4-hydroxyphenyl)-(6E)-6-hepten-3-ol -> (-)-(3S)-1-(3,4-dihydroxyphenyl)-7-(4-hydroxyphenyl)-(6E)-6-hepten-3-ol",
         null,
         null
        ],
        [
         "15",
         "MNXM101321",
         "MNXM101330",
         "10-hydroperoxy-8E-octadecenoate -> (8E,10S)-10-hydroperoxy-octadeca-8-enoate",
         null,
         null
        ],
        [
         "16",
         "MNXM101359",
         "MNXM101381",
         "12-HOME(10E) -> 12R-HOME(10E)",
         null,
         null
        ],
        [
         "17",
         "MNXM101359",
         "MNXM101389",
         "12-HOME(10E) -> 12S-HOME(10E)",
         null,
         null
        ],
        [
         "18",
         "MNXM101425",
         "MNXM816064",
         "14-F2-dihomo-IsoP -> ent-14-F2t-dihomo-IsoP",
         null,
         null
        ],
        [
         "19",
         "MNXM101425",
         "MNXM816065",
         "14-F2-dihomo-IsoP -> ent-14-epi-14-F2c-dihomo-IsoP",
         null,
         null
        ],
        [
         "20",
         "MNXM101425",
         "MNXM816066",
         "14-F2-dihomo-IsoP -> ent-14-epi-14-F2t-dihomo-IsoP",
         null,
         null
        ],
        [
         "21",
         "MNXM101425",
         "MNXM816067",
         "14-F2-dihomo-IsoP -> ent-14-F2c-dihomo-IsoP",
         null,
         null
        ],
        [
         "22",
         "MNXM101425",
         "MNXM816068",
         "14-F2-dihomo-IsoP -> ent-12-epi-14-F2c-dihomo-IsoP",
         null,
         null
        ],
        [
         "23",
         "MNXM101425",
         "MNXM816069",
         "14-F2-dihomo-IsoP -> ent-14,7-diepi-14-F2t-dihomo-IsoP",
         null,
         null
        ],
        [
         "24",
         "MNXM101425",
         "MNXM816070",
         "14-F2-dihomo-IsoP -> ent-14,7-diepi-14-F2c-dihomo-IsoP",
         null,
         null
        ],
        [
         "25",
         "MNXM101425",
         "MNXM816071",
         "14-F2-dihomo-IsoP -> ent-12-epi-14-F2t-dihomo-IsoP",
         null,
         null
        ],
        [
         "26",
         "MNXM101425",
         "MNXM816072",
         "14-F2-dihomo-IsoP -> 12-epi-14-F2c-dihomo-IsoP",
         null,
         null
        ],
        [
         "27",
         "MNXM101425",
         "MNXM816073",
         "14-F2-dihomo-IsoP -> 14,7-diepi-14-F2t-dihomo-IsoP",
         null,
         null
        ],
        [
         "28",
         "MNXM101425",
         "MNXM816074",
         "14-F2-dihomo-IsoP -> 14,7-diepi-14-F2c-dihomo-IsoP",
         null,
         null
        ],
        [
         "29",
         "MNXM101425",
         "MNXM816075",
         "14-F2-dihomo-IsoP -> 12-epi-14-F2t-dihomo-IsoP",
         null,
         null
        ],
        [
         "30",
         "MNXM101425",
         "MNXM816076",
         "14-F2-dihomo-IsoP -> 14-F2c-dihomo-IsoP",
         null,
         null
        ],
        [
         "31",
         "MNXM101425",
         "MNXM816077",
         "14-F2-dihomo-IsoP -> 14-epi-14-F2t-dihomo-IsoP",
         null,
         null
        ],
        [
         "32",
         "MNXM101425",
         "MNXM816078",
         "14-F2-dihomo-IsoP -> 14-epi-14-F2c-dihomo-IsoP",
         null,
         null
        ],
        [
         "33",
         "MNXM101425",
         "MNXM816079",
         "14-F2-dihomo-IsoP -> 14-F2t-dihomo-IsoP",
         null,
         null
        ],
        [
         "34",
         "MNXM101450",
         "MNXM1130385",
         "15-hydroxy-tetracosa-6,9,12,16,18-pentaenoic acid -> 15R-HTPE",
         null,
         null
        ],
        [
         "35",
         "MNXM101450",
         "MNXM1130386",
         "15-hydroxy-tetracosa-6,9,12,16,18-pentaenoic acid -> 15S-HTPE",
         null,
         null
        ],
        [
         "36",
         "MNXM101484",
         "MNXM33851",
         "17-F2-dihomo-IsoP -> 1a,1b-dihomo-PGF2alpha",
         null,
         null
        ],
        [
         "37",
         "MNXM101484",
         "MNXM816080",
         "17-F2-dihomo-IsoP -> ent-17-F2t-dihomo-IsoP",
         null,
         null
        ],
        [
         "38",
         "MNXM101484",
         "MNXM816081",
         "17-F2-dihomo-IsoP -> ent-10-epi-17-F2c-dihomo-IsoP",
         null,
         null
        ],
        [
         "39",
         "MNXM101484",
         "MNXM816082",
         "17-F2-dihomo-IsoP -> ent-10-epi-17-F2t-dihomo-IsoP",
         null,
         null
        ],
        [
         "40",
         "MNXM101484",
         "MNXM816083",
         "17-F2-dihomo-IsoP -> ent-17-F2c-dihomo-IsoP",
         null,
         null
        ],
        [
         "41",
         "MNXM101484",
         "MNXM816084",
         "17-F2-dihomo-IsoP -> ent-15-epi-17-F2t-dihomo-IsoP",
         null,
         null
        ],
        [
         "42",
         "MNXM101484",
         "MNXM816085",
         "17-F2-dihomo-IsoP -> ent-10,17-diepi-17-F2c-dihomo-IsoP",
         null,
         null
        ],
        [
         "43",
         "MNXM101484",
         "MNXM816086",
         "17-F2-dihomo-IsoP -> ent-10,17-diepi-17-F2t-dihomo-IsoP",
         null,
         null
        ],
        [
         "44",
         "MNXM101484",
         "MNXM816087",
         "17-F2-dihomo-IsoP -> ent-15-epi-17-F2c-dihomo-IsoP",
         null,
         null
        ],
        [
         "45",
         "MNXM101484",
         "MNXM816088",
         "17-F2-dihomo-IsoP -> 15-epi-17-F2c-dihomo-IsoP",
         null,
         null
        ],
        [
         "46",
         "MNXM101484",
         "MNXM816089",
         "17-F2-dihomo-IsoP -> 10,17-diepi-17-F2t-dihomo-IsoP",
         null,
         null
        ],
        [
         "47",
         "MNXM101484",
         "MNXM816090",
         "17-F2-dihomo-IsoP -> 10,17-diepi-17-F2c-dihomo-IsoP",
         null,
         null
        ],
        [
         "48",
         "MNXM101484",
         "MNXM816091",
         "17-F2-dihomo-IsoP -> 15-epi-17-F2t-dihomo-IsoP",
         null,
         null
        ],
        [
         "49",
         "MNXM101484",
         "MNXM816092",
         "17-F2-dihomo-IsoP -> 17-F2c-dihomo-IsoP",
         null,
         null
        ]
       ],
       "shape": {
        "columns": 5,
        "rows": 11723
       }
      },
      "text/html": [
       "<div>\n",
       "<style scoped>\n",
       "    .dataframe tbody tr th:only-of-type {\n",
       "        vertical-align: middle;\n",
       "    }\n",
       "\n",
       "    .dataframe tbody tr th {\n",
       "        vertical-align: top;\n",
       "    }\n",
       "\n",
       "    .dataframe thead th {\n",
       "        text-align: right;\n",
       "    }\n",
       "</style>\n",
       "<table border=\"1\" class=\"dataframe\">\n",
       "  <thead>\n",
       "    <tr style=\"text-align: right;\">\n",
       "      <th></th>\n",
       "      <th>parent</th>\n",
       "      <th>child</th>\n",
       "      <th>description</th>\n",
       "      <th>parent_hmdb</th>\n",
       "      <th>child_hmdb</th>\n",
       "    </tr>\n",
       "  </thead>\n",
       "  <tbody>\n",
       "    <tr>\n",
       "      <th>0</th>\n",
       "      <td>MNXM100051</td>\n",
       "      <td>MNXM100344</td>\n",
       "      <td>cis-9,19-epoxy-3Z,6Z-heptadecadiene -&gt; 9S,10R-...</td>\n",
       "      <td>NaN</td>\n",
       "      <td>NaN</td>\n",
       "    </tr>\n",
       "    <tr>\n",
       "      <th>1</th>\n",
       "      <td>MNXM100051</td>\n",
       "      <td>MNXM99630</td>\n",
       "      <td>cis-9,19-epoxy-3Z,6Z-heptadecadiene -&gt; 9R,10S-...</td>\n",
       "      <td>NaN</td>\n",
       "      <td>NaN</td>\n",
       "    </tr>\n",
       "    <tr>\n",
       "      <th>2</th>\n",
       "      <td>MNXM10011</td>\n",
       "      <td>MNXM31563</td>\n",
       "      <td>3-hydroxy-3-phenylpropionic acid -&gt; (R)-3-hydr...</td>\n",
       "      <td>HMDB0124925</td>\n",
       "      <td>NaN</td>\n",
       "    </tr>\n",
       "    <tr>\n",
       "      <th>3</th>\n",
       "      <td>MNXM10011</td>\n",
       "      <td>MNXM31736</td>\n",
       "      <td>3-hydroxy-3-phenylpropionic acid -&gt; (S)-3-hydr...</td>\n",
       "      <td>HMDB0124925</td>\n",
       "      <td>NaN</td>\n",
       "    </tr>\n",
       "    <tr>\n",
       "      <th>4</th>\n",
       "      <td>MNXM10026</td>\n",
       "      <td>MNXM1104681</td>\n",
       "      <td>3-hydroxydecanoyl-CoA -&gt; (3S)-hydroxydecanoyl-CoA</td>\n",
       "      <td>NaN</td>\n",
       "      <td>NaN</td>\n",
       "    </tr>\n",
       "    <tr>\n",
       "      <th>...</th>\n",
       "      <td>...</td>\n",
       "      <td>...</td>\n",
       "      <td>...</td>\n",
       "      <td>...</td>\n",
       "      <td>...</td>\n",
       "    </tr>\n",
       "    <tr>\n",
       "      <th>11718</th>\n",
       "      <td>MNXM99362</td>\n",
       "      <td>MNXM99741</td>\n",
       "      <td>1-methyl-2-ethylcyclohexane -&gt; trans-1-ethyl-2...</td>\n",
       "      <td>NaN</td>\n",
       "      <td>NaN</td>\n",
       "    </tr>\n",
       "    <tr>\n",
       "      <th>11719</th>\n",
       "      <td>MNXM9987</td>\n",
       "      <td>MNXM162802</td>\n",
       "      <td>3-aminoisobutyric acid -&gt; (R)-3-amino-2-methyl...</td>\n",
       "      <td>HMDB0000485;HMDB0003911</td>\n",
       "      <td>HMDB0002299</td>\n",
       "    </tr>\n",
       "    <tr>\n",
       "      <th>11720</th>\n",
       "      <td>MNXM9987</td>\n",
       "      <td>MNXM732376</td>\n",
       "      <td>3-aminoisobutyric acid -&gt; (S)-3-amino-2-methyl...</td>\n",
       "      <td>HMDB0000485;HMDB0003911</td>\n",
       "      <td>HMDB0002166</td>\n",
       "    </tr>\n",
       "    <tr>\n",
       "      <th>11721</th>\n",
       "      <td>MNXM99960</td>\n",
       "      <td>MNXM101734</td>\n",
       "      <td>2-Ethyl-1,6-dioxaspiro[4.4]nonane -&gt; 2S,5R-cha...</td>\n",
       "      <td>NaN</td>\n",
       "      <td>NaN</td>\n",
       "    </tr>\n",
       "    <tr>\n",
       "      <th>11722</th>\n",
       "      <td>MNXM99960</td>\n",
       "      <td>MNXM46228</td>\n",
       "      <td>2-Ethyl-1,6-dioxaspiro[4.4]nonane -&gt; Chalcogran</td>\n",
       "      <td>NaN</td>\n",
       "      <td>NaN</td>\n",
       "    </tr>\n",
       "  </tbody>\n",
       "</table>\n",
       "<p>11723 rows × 5 columns</p>\n",
       "</div>"
      ],
      "text/plain": [
       "           parent        child  \\\n",
       "0      MNXM100051   MNXM100344   \n",
       "1      MNXM100051    MNXM99630   \n",
       "2       MNXM10011    MNXM31563   \n",
       "3       MNXM10011    MNXM31736   \n",
       "4       MNXM10026  MNXM1104681   \n",
       "...           ...          ...   \n",
       "11718   MNXM99362    MNXM99741   \n",
       "11719    MNXM9987   MNXM162802   \n",
       "11720    MNXM9987   MNXM732376   \n",
       "11721   MNXM99960   MNXM101734   \n",
       "11722   MNXM99960    MNXM46228   \n",
       "\n",
       "                                             description  \\\n",
       "0      cis-9,19-epoxy-3Z,6Z-heptadecadiene -> 9S,10R-...   \n",
       "1      cis-9,19-epoxy-3Z,6Z-heptadecadiene -> 9R,10S-...   \n",
       "2      3-hydroxy-3-phenylpropionic acid -> (R)-3-hydr...   \n",
       "3      3-hydroxy-3-phenylpropionic acid -> (S)-3-hydr...   \n",
       "4      3-hydroxydecanoyl-CoA -> (3S)-hydroxydecanoyl-CoA   \n",
       "...                                                  ...   \n",
       "11718  1-methyl-2-ethylcyclohexane -> trans-1-ethyl-2...   \n",
       "11719  3-aminoisobutyric acid -> (R)-3-amino-2-methyl...   \n",
       "11720  3-aminoisobutyric acid -> (S)-3-amino-2-methyl...   \n",
       "11721  2-Ethyl-1,6-dioxaspiro[4.4]nonane -> 2S,5R-cha...   \n",
       "11722    2-Ethyl-1,6-dioxaspiro[4.4]nonane -> Chalcogran   \n",
       "\n",
       "                   parent_hmdb   child_hmdb  \n",
       "0                          NaN          NaN  \n",
       "1                          NaN          NaN  \n",
       "2                  HMDB0124925          NaN  \n",
       "3                  HMDB0124925          NaN  \n",
       "4                          NaN          NaN  \n",
       "...                        ...          ...  \n",
       "11718                      NaN          NaN  \n",
       "11719  HMDB0000485;HMDB0003911  HMDB0002299  \n",
       "11720  HMDB0000485;HMDB0003911  HMDB0002166  \n",
       "11721                      NaN          NaN  \n",
       "11722                      NaN          NaN  \n",
       "\n",
       "[11723 rows x 5 columns]"
      ]
     },
     "execution_count": 4,
     "metadata": {},
     "output_type": "execute_result"
    }
   ],
   "source": [
    "filtered_xref = xref[xref['db'].isin(['hmdb', 'chebi', 'CHEBI'])]\n",
    "hmdb = filtered_xref[filtered_xref['db'] == 'hmdb']\n",
    "hmdb = hmdb[['ID', 'db_id']].drop_duplicates()\n",
    "hmdb = hmdb[hmdb['db_id'].str.match(r'^HMDB\\d{7}$', na=False)]\n",
    "hmdb_unique = hmdb.groupby('ID').agg({\n",
    "    'db_id': lambda x: ';'.join(x.unique())\n",
    "}).reset_index()\n",
    "\n",
    "metanetx = metanetx.merge(hmdb_unique, left_on='parent', right_on='ID', how='left')\n",
    "metanetx.drop(columns=['ID'], inplace=True)\n",
    "metanetx.rename(columns={'db_id': 'parent_hmdb'}, inplace=True)\n",
    "\n",
    "metanetx = metanetx.merge(hmdb_unique, left_on='child', right_on='ID', how='left')\n",
    "metanetx.drop(columns=['ID'], inplace=True)\n",
    "metanetx.rename(columns={'db_id': 'child_hmdb'}, inplace=True)\n",
    "\n",
    "metanetx"
   ]
  },
  {
   "cell_type": "markdown",
   "metadata": {},
   "source": [
    "Filter ChEBI"
   ]
  },
  {
   "cell_type": "code",
   "execution_count": 5,
   "metadata": {},
   "outputs": [
    {
     "data": {
      "application/vnd.microsoft.datawrangler.viewer.v0+json": {
       "columns": [
        {
         "name": "index",
         "rawType": "int64",
         "type": "integer"
        },
        {
         "name": "parent",
         "rawType": "object",
         "type": "string"
        },
        {
         "name": "child",
         "rawType": "object",
         "type": "string"
        },
        {
         "name": "description",
         "rawType": "object",
         "type": "string"
        },
        {
         "name": "parent_hmdb",
         "rawType": "object",
         "type": "unknown"
        },
        {
         "name": "child_hmdb",
         "rawType": "object",
         "type": "unknown"
        },
        {
         "name": "parent_chebi",
         "rawType": "object",
         "type": "unknown"
        },
        {
         "name": "child_chebi",
         "rawType": "object",
         "type": "unknown"
        }
       ],
       "conversionMethod": "pd.DataFrame",
       "ref": "dc761a98-4284-4379-a9c5-7ee910faf010",
       "rows": [
        [
         "0",
         "MNXM100051",
         "MNXM100344",
         "cis-9,19-epoxy-3Z,6Z-heptadecadiene -> 9S,10R-epoxy-3Z,6Z-heptadecadiene",
         null,
         null,
         null,
         null
        ],
        [
         "1",
         "MNXM100051",
         "MNXM99630",
         "cis-9,19-epoxy-3Z,6Z-heptadecadiene -> 9R,10S-epoxy-3Z,6Z-heptadecadiene",
         null,
         null,
         null,
         null
        ],
        [
         "2",
         "MNXM10011",
         "MNXM31563",
         "3-hydroxy-3-phenylpropionic acid -> (R)-3-hydroxy-3-phenylpropionic acid",
         "HMDB0124925",
         null,
         "19929",
         "51059"
        ],
        [
         "3",
         "MNXM10011",
         "MNXM31563",
         "3-hydroxy-3-phenylpropionic acid -> (R)-3-hydroxy-3-phenylpropionic acid",
         "HMDB0124925",
         null,
         "63469",
         "51059"
        ],
        [
         "4",
         "MNXM10011",
         "MNXM31736",
         "3-hydroxy-3-phenylpropionic acid -> (S)-3-hydroxy-3-phenylpropionic acid",
         "HMDB0124925",
         null,
         "19929",
         "51058"
        ],
        [
         "5",
         "MNXM10011",
         "MNXM31736",
         "3-hydroxy-3-phenylpropionic acid -> (S)-3-hydroxy-3-phenylpropionic acid",
         "HMDB0124925",
         null,
         "63469",
         "51058"
        ],
        [
         "6",
         "MNXM10026",
         "MNXM1104681",
         "3-hydroxydecanoyl-CoA -> (3S)-hydroxydecanoyl-CoA",
         null,
         null,
         "86041",
         "28325"
        ],
        [
         "7",
         "MNXM10026",
         "MNXM1104681",
         "3-hydroxydecanoyl-CoA -> (3S)-hydroxydecanoyl-CoA",
         null,
         null,
         "86041",
         "62616"
        ],
        [
         "8",
         "MNXM10026",
         "MNXM1104681",
         "3-hydroxydecanoyl-CoA -> (3S)-hydroxydecanoyl-CoA",
         null,
         null,
         "86041",
         "18779"
        ],
        [
         "9",
         "MNXM10026",
         "MNXM1104681",
         "3-hydroxydecanoyl-CoA -> (3S)-hydroxydecanoyl-CoA",
         null,
         null,
         "86041",
         "418"
        ],
        [
         "10",
         "MNXM10026",
         "MNXM1104681",
         "3-hydroxydecanoyl-CoA -> (3S)-hydroxydecanoyl-CoA",
         null,
         null,
         "86338",
         "28325"
        ],
        [
         "11",
         "MNXM10026",
         "MNXM1104681",
         "3-hydroxydecanoyl-CoA -> (3S)-hydroxydecanoyl-CoA",
         null,
         null,
         "86338",
         "62616"
        ],
        [
         "12",
         "MNXM10026",
         "MNXM1104681",
         "3-hydroxydecanoyl-CoA -> (3S)-hydroxydecanoyl-CoA",
         null,
         null,
         "86338",
         "18779"
        ],
        [
         "13",
         "MNXM10026",
         "MNXM1104681",
         "3-hydroxydecanoyl-CoA -> (3S)-hydroxydecanoyl-CoA",
         null,
         null,
         "86338",
         "418"
        ],
        [
         "14",
         "MNXM10026",
         "MNXM9497",
         "3-hydroxydecanoyl-CoA -> (3R)-3-hydroxydecanoyl-CoA",
         null,
         null,
         "86041",
         "74272"
        ],
        [
         "15",
         "MNXM10026",
         "MNXM9497",
         "3-hydroxydecanoyl-CoA -> (3R)-3-hydroxydecanoyl-CoA",
         null,
         null,
         "86041",
         "74405"
        ],
        [
         "16",
         "MNXM10026",
         "MNXM9497",
         "3-hydroxydecanoyl-CoA -> (3R)-3-hydroxydecanoyl-CoA",
         null,
         null,
         "86338",
         "74272"
        ],
        [
         "17",
         "MNXM10026",
         "MNXM9497",
         "3-hydroxydecanoyl-CoA -> (3R)-3-hydroxydecanoyl-CoA",
         null,
         null,
         "86338",
         "74405"
        ],
        [
         "18",
         "MNXM10039",
         "MNXM36497",
         "3-hydroxypregnan-20-one -> 3-hydroxy-5alpha-pregnan-20-one",
         null,
         null,
         "50168",
         "50170"
        ],
        [
         "19",
         "MNXM10039",
         "MNXM36498",
         "3-hydroxypregnan-20-one -> 3-hydroxy-5beta-pregnan-20-one",
         null,
         null,
         "50168",
         "50171"
        ],
        [
         "20",
         "MNXM100443",
         "MNXM1128795",
         "1,4-dimethylcyclohexane -> cis-1,4-dimethylcyclohexane",
         null,
         null,
         "165732",
         "167602"
        ],
        [
         "21",
         "MNXM100443",
         "MNXM1128796",
         "1,4-dimethylcyclohexane -> trans-1,4-dimethylcyclohexane",
         null,
         null,
         "165732",
         "167603"
        ],
        [
         "22",
         "MNXM10108",
         "MNXM722941",
         "3-oxochola-4,22-dien-24-oyl-CoA -> (22E)-3-oxo-chol-4,22-dien-24-oyl-CoA",
         null,
         null,
         "86413",
         "136759"
        ],
        [
         "23",
         "MNXM10108",
         "MNXM722941",
         "3-oxochola-4,22-dien-24-oyl-CoA -> (22E)-3-oxo-chol-4,22-dien-24-oyl-CoA",
         null,
         null,
         "86413",
         "137643"
        ],
        [
         "24",
         "MNXM10108",
         "MNXM722941",
         "3-oxochola-4,22-dien-24-oyl-CoA -> (22E)-3-oxo-chol-4,22-dien-24-oyl-CoA",
         null,
         null,
         "87140",
         "136759"
        ],
        [
         "25",
         "MNXM10108",
         "MNXM722941",
         "3-oxochola-4,22-dien-24-oyl-CoA -> (22E)-3-oxo-chol-4,22-dien-24-oyl-CoA",
         null,
         null,
         "87140",
         "137643"
        ],
        [
         "26",
         "MNXM101118",
         "MNXM174121",
         "2-hydroxyhexadecanoyl-CoA -> (2R)-hydroxyhexadecanoyl-CoA",
         null,
         null,
         "74115",
         "138654"
        ],
        [
         "27",
         "MNXM101118",
         "MNXM174121",
         "2-hydroxyhexadecanoyl-CoA -> (2R)-hydroxyhexadecanoyl-CoA",
         null,
         null,
         "74115",
         "139375"
        ],
        [
         "28",
         "MNXM101118",
         "MNXM174121",
         "2-hydroxyhexadecanoyl-CoA -> (2R)-hydroxyhexadecanoyl-CoA",
         null,
         null,
         "74137",
         "138654"
        ],
        [
         "29",
         "MNXM101118",
         "MNXM174121",
         "2-hydroxyhexadecanoyl-CoA -> (2R)-hydroxyhexadecanoyl-CoA",
         null,
         null,
         "74137",
         "139375"
        ],
        [
         "30",
         "MNXM101119",
         "MNXM174122",
         "2-hydroxyoctadecanoyl-CoA -> (2R)-2-hydroxyoctadecanoyl-CoA",
         null,
         null,
         "74116",
         "171666"
        ],
        [
         "31",
         "MNXM101119",
         "MNXM174122",
         "2-hydroxyoctadecanoyl-CoA -> (2R)-2-hydroxyoctadecanoyl-CoA",
         null,
         null,
         "74138",
         "171666"
        ],
        [
         "32",
         "MNXM101226",
         "MNXM100715",
         "1-(3,4-dihydroxyphenyl)-7-(4-hydroxyphenyl)-(6E)-6-hepten-3-ol -> (+)-(3R)-1-(3,4-dihydroxyphenyl)-7-(4-hydroxyphenyl)-(6E)-6-hepten-3-ol",
         null,
         null,
         "70704",
         "70689"
        ],
        [
         "33",
         "MNXM101226",
         "MNXM100819",
         "1-(3,4-dihydroxyphenyl)-7-(4-hydroxyphenyl)-(6E)-6-hepten-3-ol -> (-)-(3S)-1-(3,4-dihydroxyphenyl)-7-(4-hydroxyphenyl)-(6E)-6-hepten-3-ol",
         null,
         null,
         "70704",
         "70688"
        ],
        [
         "34",
         "MNXM101321",
         "MNXM101330",
         "10-hydroperoxy-8E-octadecenoate -> (8E,10S)-10-hydroperoxy-octadeca-8-enoate",
         null,
         null,
         "77755",
         "75341"
        ],
        [
         "35",
         "MNXM101321",
         "MNXM101330",
         "10-hydroperoxy-8E-octadecenoate -> (8E,10S)-10-hydroperoxy-octadeca-8-enoate",
         null,
         null,
         "77755",
         "75831"
        ],
        [
         "36",
         "MNXM101321",
         "MNXM101330",
         "10-hydroperoxy-8E-octadecenoate -> (8E,10S)-10-hydroperoxy-octadeca-8-enoate",
         null,
         null,
         "85589",
         "75341"
        ],
        [
         "37",
         "MNXM101321",
         "MNXM101330",
         "10-hydroperoxy-8E-octadecenoate -> (8E,10S)-10-hydroperoxy-octadeca-8-enoate",
         null,
         null,
         "85589",
         "75831"
        ],
        [
         "38",
         "MNXM101359",
         "MNXM101381",
         "12-HOME(10E) -> 12R-HOME(10E)",
         null,
         null,
         null,
         null
        ],
        [
         "39",
         "MNXM101359",
         "MNXM101389",
         "12-HOME(10E) -> 12S-HOME(10E)",
         null,
         null,
         null,
         null
        ],
        [
         "40",
         "MNXM101425",
         "MNXM816064",
         "14-F2-dihomo-IsoP -> ent-14-F2t-dihomo-IsoP",
         null,
         null,
         "177973",
         null
        ],
        [
         "41",
         "MNXM101425",
         "MNXM816065",
         "14-F2-dihomo-IsoP -> ent-14-epi-14-F2c-dihomo-IsoP",
         null,
         null,
         "177973",
         null
        ],
        [
         "42",
         "MNXM101425",
         "MNXM816066",
         "14-F2-dihomo-IsoP -> ent-14-epi-14-F2t-dihomo-IsoP",
         null,
         null,
         "177973",
         null
        ],
        [
         "43",
         "MNXM101425",
         "MNXM816067",
         "14-F2-dihomo-IsoP -> ent-14-F2c-dihomo-IsoP",
         null,
         null,
         "177973",
         null
        ],
        [
         "44",
         "MNXM101425",
         "MNXM816068",
         "14-F2-dihomo-IsoP -> ent-12-epi-14-F2c-dihomo-IsoP",
         null,
         null,
         "177973",
         null
        ],
        [
         "45",
         "MNXM101425",
         "MNXM816069",
         "14-F2-dihomo-IsoP -> ent-14,7-diepi-14-F2t-dihomo-IsoP",
         null,
         null,
         "177973",
         null
        ],
        [
         "46",
         "MNXM101425",
         "MNXM816070",
         "14-F2-dihomo-IsoP -> ent-14,7-diepi-14-F2c-dihomo-IsoP",
         null,
         null,
         "177973",
         null
        ],
        [
         "47",
         "MNXM101425",
         "MNXM816071",
         "14-F2-dihomo-IsoP -> ent-12-epi-14-F2t-dihomo-IsoP",
         null,
         null,
         "177973",
         null
        ],
        [
         "48",
         "MNXM101425",
         "MNXM816072",
         "14-F2-dihomo-IsoP -> 12-epi-14-F2c-dihomo-IsoP",
         null,
         null,
         "177973",
         null
        ],
        [
         "49",
         "MNXM101425",
         "MNXM816073",
         "14-F2-dihomo-IsoP -> 14,7-diepi-14-F2t-dihomo-IsoP",
         null,
         null,
         "177973",
         null
        ]
       ],
       "shape": {
        "columns": 7,
        "rows": 23711
       }
      },
      "text/html": [
       "<div>\n",
       "<style scoped>\n",
       "    .dataframe tbody tr th:only-of-type {\n",
       "        vertical-align: middle;\n",
       "    }\n",
       "\n",
       "    .dataframe tbody tr th {\n",
       "        vertical-align: top;\n",
       "    }\n",
       "\n",
       "    .dataframe thead th {\n",
       "        text-align: right;\n",
       "    }\n",
       "</style>\n",
       "<table border=\"1\" class=\"dataframe\">\n",
       "  <thead>\n",
       "    <tr style=\"text-align: right;\">\n",
       "      <th></th>\n",
       "      <th>parent</th>\n",
       "      <th>child</th>\n",
       "      <th>description</th>\n",
       "      <th>parent_hmdb</th>\n",
       "      <th>child_hmdb</th>\n",
       "      <th>parent_chebi</th>\n",
       "      <th>child_chebi</th>\n",
       "    </tr>\n",
       "  </thead>\n",
       "  <tbody>\n",
       "    <tr>\n",
       "      <th>0</th>\n",
       "      <td>MNXM100051</td>\n",
       "      <td>MNXM100344</td>\n",
       "      <td>cis-9,19-epoxy-3Z,6Z-heptadecadiene -&gt; 9S,10R-...</td>\n",
       "      <td>NaN</td>\n",
       "      <td>NaN</td>\n",
       "      <td>NaN</td>\n",
       "      <td>NaN</td>\n",
       "    </tr>\n",
       "    <tr>\n",
       "      <th>1</th>\n",
       "      <td>MNXM100051</td>\n",
       "      <td>MNXM99630</td>\n",
       "      <td>cis-9,19-epoxy-3Z,6Z-heptadecadiene -&gt; 9R,10S-...</td>\n",
       "      <td>NaN</td>\n",
       "      <td>NaN</td>\n",
       "      <td>NaN</td>\n",
       "      <td>NaN</td>\n",
       "    </tr>\n",
       "    <tr>\n",
       "      <th>2</th>\n",
       "      <td>MNXM10011</td>\n",
       "      <td>MNXM31563</td>\n",
       "      <td>3-hydroxy-3-phenylpropionic acid -&gt; (R)-3-hydr...</td>\n",
       "      <td>HMDB0124925</td>\n",
       "      <td>NaN</td>\n",
       "      <td>19929</td>\n",
       "      <td>51059</td>\n",
       "    </tr>\n",
       "    <tr>\n",
       "      <th>3</th>\n",
       "      <td>MNXM10011</td>\n",
       "      <td>MNXM31563</td>\n",
       "      <td>3-hydroxy-3-phenylpropionic acid -&gt; (R)-3-hydr...</td>\n",
       "      <td>HMDB0124925</td>\n",
       "      <td>NaN</td>\n",
       "      <td>63469</td>\n",
       "      <td>51059</td>\n",
       "    </tr>\n",
       "    <tr>\n",
       "      <th>4</th>\n",
       "      <td>MNXM10011</td>\n",
       "      <td>MNXM31736</td>\n",
       "      <td>3-hydroxy-3-phenylpropionic acid -&gt; (S)-3-hydr...</td>\n",
       "      <td>HMDB0124925</td>\n",
       "      <td>NaN</td>\n",
       "      <td>19929</td>\n",
       "      <td>51058</td>\n",
       "    </tr>\n",
       "    <tr>\n",
       "      <th>...</th>\n",
       "      <td>...</td>\n",
       "      <td>...</td>\n",
       "      <td>...</td>\n",
       "      <td>...</td>\n",
       "      <td>...</td>\n",
       "      <td>...</td>\n",
       "      <td>...</td>\n",
       "    </tr>\n",
       "    <tr>\n",
       "      <th>23706</th>\n",
       "      <td>MNXM9987</td>\n",
       "      <td>MNXM732376</td>\n",
       "      <td>3-aminoisobutyric acid -&gt; (S)-3-amino-2-methyl...</td>\n",
       "      <td>HMDB0000485;HMDB0003911</td>\n",
       "      <td>HMDB0002166</td>\n",
       "      <td>359</td>\n",
       "      <td>390</td>\n",
       "    </tr>\n",
       "    <tr>\n",
       "      <th>23707</th>\n",
       "      <td>MNXM9987</td>\n",
       "      <td>MNXM732376</td>\n",
       "      <td>3-aminoisobutyric acid -&gt; (S)-3-amino-2-methyl...</td>\n",
       "      <td>HMDB0000485;HMDB0003911</td>\n",
       "      <td>HMDB0002166</td>\n",
       "      <td>359</td>\n",
       "      <td>41058</td>\n",
       "    </tr>\n",
       "    <tr>\n",
       "      <th>23708</th>\n",
       "      <td>MNXM9987</td>\n",
       "      <td>MNXM732376</td>\n",
       "      <td>3-aminoisobutyric acid -&gt; (S)-3-amino-2-methyl...</td>\n",
       "      <td>HMDB0000485;HMDB0003911</td>\n",
       "      <td>HMDB0002166</td>\n",
       "      <td>359</td>\n",
       "      <td>6167</td>\n",
       "    </tr>\n",
       "    <tr>\n",
       "      <th>23709</th>\n",
       "      <td>MNXM99960</td>\n",
       "      <td>MNXM101734</td>\n",
       "      <td>2-Ethyl-1,6-dioxaspiro[4.4]nonane -&gt; 2S,5R-cha...</td>\n",
       "      <td>NaN</td>\n",
       "      <td>NaN</td>\n",
       "      <td>NaN</td>\n",
       "      <td>NaN</td>\n",
       "    </tr>\n",
       "    <tr>\n",
       "      <th>23710</th>\n",
       "      <td>MNXM99960</td>\n",
       "      <td>MNXM46228</td>\n",
       "      <td>2-Ethyl-1,6-dioxaspiro[4.4]nonane -&gt; Chalcogran</td>\n",
       "      <td>NaN</td>\n",
       "      <td>NaN</td>\n",
       "      <td>NaN</td>\n",
       "      <td>3570</td>\n",
       "    </tr>\n",
       "  </tbody>\n",
       "</table>\n",
       "<p>23711 rows × 7 columns</p>\n",
       "</div>"
      ],
      "text/plain": [
       "           parent       child  \\\n",
       "0      MNXM100051  MNXM100344   \n",
       "1      MNXM100051   MNXM99630   \n",
       "2       MNXM10011   MNXM31563   \n",
       "3       MNXM10011   MNXM31563   \n",
       "4       MNXM10011   MNXM31736   \n",
       "...           ...         ...   \n",
       "23706    MNXM9987  MNXM732376   \n",
       "23707    MNXM9987  MNXM732376   \n",
       "23708    MNXM9987  MNXM732376   \n",
       "23709   MNXM99960  MNXM101734   \n",
       "23710   MNXM99960   MNXM46228   \n",
       "\n",
       "                                             description  \\\n",
       "0      cis-9,19-epoxy-3Z,6Z-heptadecadiene -> 9S,10R-...   \n",
       "1      cis-9,19-epoxy-3Z,6Z-heptadecadiene -> 9R,10S-...   \n",
       "2      3-hydroxy-3-phenylpropionic acid -> (R)-3-hydr...   \n",
       "3      3-hydroxy-3-phenylpropionic acid -> (R)-3-hydr...   \n",
       "4      3-hydroxy-3-phenylpropionic acid -> (S)-3-hydr...   \n",
       "...                                                  ...   \n",
       "23706  3-aminoisobutyric acid -> (S)-3-amino-2-methyl...   \n",
       "23707  3-aminoisobutyric acid -> (S)-3-amino-2-methyl...   \n",
       "23708  3-aminoisobutyric acid -> (S)-3-amino-2-methyl...   \n",
       "23709  2-Ethyl-1,6-dioxaspiro[4.4]nonane -> 2S,5R-cha...   \n",
       "23710    2-Ethyl-1,6-dioxaspiro[4.4]nonane -> Chalcogran   \n",
       "\n",
       "                   parent_hmdb   child_hmdb parent_chebi child_chebi  \n",
       "0                          NaN          NaN          NaN         NaN  \n",
       "1                          NaN          NaN          NaN         NaN  \n",
       "2                  HMDB0124925          NaN        19929       51059  \n",
       "3                  HMDB0124925          NaN        63469       51059  \n",
       "4                  HMDB0124925          NaN        19929       51058  \n",
       "...                        ...          ...          ...         ...  \n",
       "23706  HMDB0000485;HMDB0003911  HMDB0002166          359         390  \n",
       "23707  HMDB0000485;HMDB0003911  HMDB0002166          359       41058  \n",
       "23708  HMDB0000485;HMDB0003911  HMDB0002166          359        6167  \n",
       "23709                      NaN          NaN          NaN         NaN  \n",
       "23710                      NaN          NaN          NaN        3570  \n",
       "\n",
       "[23711 rows x 7 columns]"
      ]
     },
     "execution_count": 5,
     "metadata": {},
     "output_type": "execute_result"
    }
   ],
   "source": [
    "chebi = filtered_xref[filtered_xref['db'].isin(['chebi', 'CHEBI'])]\n",
    "chebi = chebi[['ID', 'db_id']].drop_duplicates()\n",
    "\n",
    "metanetx = metanetx.merge(chebi, left_on='parent', right_on='ID', how='left')\n",
    "metanetx.drop(columns=['ID'], inplace=True)\n",
    "metanetx.rename(columns={'db_id': 'parent_chebi'}, inplace=True)\n",
    "\n",
    "metanetx = metanetx.merge(chebi, left_on='child', right_on='ID', how='left')\n",
    "metanetx.drop(columns=['ID'], inplace=True)\n",
    "metanetx.rename(columns={'db_id': 'child_chebi'}, inplace=True)\n",
    "\n",
    "metanetx"
   ]
  },
  {
   "cell_type": "markdown",
   "metadata": {},
   "source": [
    "### BioMedgraphica ID"
   ]
  },
  {
   "cell_type": "code",
   "execution_count": 6,
   "metadata": {},
   "outputs": [],
   "source": [
    "import pandas as pd\n",
    "import os\n",
    "from pathlib import Path\n",
    "\n",
    "current_working_dir = Path(os.getcwd()).resolve()\n",
    "grandparent_dir = current_working_dir.parent.parent.parent\n",
    "target_dir_metabolite = grandparent_dir / 'BioMedGraphica' / 'Entity' / 'Metabolite' / 'BioMedGraphica_Metabolite.csv'\n",
    "biomedgraphica_metabolite = pd.read_csv(target_dir_metabolite, dtype=str)"
   ]
  },
  {
   "cell_type": "markdown",
   "metadata": {},
   "source": [
    "### MetaNetX Mapping"
   ]
  },
  {
   "cell_type": "markdown",
   "metadata": {},
   "source": [
    "HMDB ID"
   ]
  },
  {
   "cell_type": "code",
   "execution_count": 7,
   "metadata": {},
   "outputs": [
    {
     "name": "stderr",
     "output_type": "stream",
     "text": [
      "C:\\Users\\shunn\\AppData\\Local\\Temp\\ipykernel_24804\\3331876766.py:2: SettingWithCopyWarning: \n",
      "A value is trying to be set on a copy of a slice from a DataFrame\n",
      "\n",
      "See the caveats in the documentation: https://pandas.pydata.org/pandas-docs/stable/user_guide/indexing.html#returning-a-view-versus-a-copy\n",
      "  hmdb_biomedgraphica.dropna(subset=['HMDB_ID'], inplace=True)\n"
     ]
    }
   ],
   "source": [
    "hmdb_biomedgraphica = biomedgraphica_metabolite[['BioMedGraphica_ID', 'HMDB_ID']]\n",
    "hmdb_biomedgraphica.dropna(subset=['HMDB_ID'], inplace=True)\n",
    "hmdb_biomedgraphica = hmdb_biomedgraphica.assign(HMDB_ID=hmdb_biomedgraphica['HMDB_ID'].str.split(';')).explode('HMDB_ID')\n",
    "\n",
    "hmdb_to_individualID = hmdb_biomedgraphica.groupby('HMDB_ID')['BioMedGraphica_ID'].apply(lambda x: ';'.join(x.dropna().unique())).to_dict()\n",
    "\n",
    "metanetx['From_HMDB'] = metanetx['parent_hmdb'].map(hmdb_to_individualID)\n",
    "metanetx['To_HMDB'] = metanetx['child_hmdb'].map(hmdb_to_individualID)"
   ]
  },
  {
   "cell_type": "markdown",
   "metadata": {},
   "source": [
    "ChEBI ID"
   ]
  },
  {
   "cell_type": "code",
   "execution_count": 8,
   "metadata": {},
   "outputs": [
    {
     "name": "stderr",
     "output_type": "stream",
     "text": [
      "C:\\Users\\shunn\\AppData\\Local\\Temp\\ipykernel_24804\\1558257048.py:2: SettingWithCopyWarning: \n",
      "A value is trying to be set on a copy of a slice from a DataFrame\n",
      "\n",
      "See the caveats in the documentation: https://pandas.pydata.org/pandas-docs/stable/user_guide/indexing.html#returning-a-view-versus-a-copy\n",
      "  chebi_biomedgraphica.dropna(subset=['ChEBI_ID'], inplace=True)\n"
     ]
    }
   ],
   "source": [
    "chebi_biomedgraphica = biomedgraphica_metabolite[['BioMedGraphica_ID', 'ChEBI_ID']]\n",
    "chebi_biomedgraphica.dropna(subset=['ChEBI_ID'], inplace=True)\n",
    "chebi_biomedgraphica = chebi_biomedgraphica.assign(ChEBI_ID=chebi_biomedgraphica['ChEBI_ID'].astype(str).str.split(';')).explode('ChEBI_ID')\n",
    "chebi_biomedgraphica['ChEBI_ID'] = chebi_biomedgraphica['ChEBI_ID'].astype(str).str.split('.').str[0]\n",
    "\n",
    "chebi_to_individualID = chebi_biomedgraphica.groupby('ChEBI_ID')['BioMedGraphica_ID'].apply(lambda x: ';'.join(x.dropna().unique())).to_dict()\n",
    "\n",
    "metanetx['From_CHEBI'] = metanetx['parent_chebi'].astype(str).map(chebi_to_individualID)\n",
    "metanetx['To_CHEBI'] = metanetx['child_chebi'].astype(str).map(chebi_to_individualID)"
   ]
  },
  {
   "cell_type": "code",
   "execution_count": 9,
   "metadata": {},
   "outputs": [
    {
     "data": {
      "application/vnd.microsoft.datawrangler.viewer.v0+json": {
       "columns": [
        {
         "name": "index",
         "rawType": "int64",
         "type": "integer"
        },
        {
         "name": "parent",
         "rawType": "object",
         "type": "string"
        },
        {
         "name": "child",
         "rawType": "object",
         "type": "string"
        },
        {
         "name": "description",
         "rawType": "object",
         "type": "string"
        },
        {
         "name": "parent_hmdb",
         "rawType": "object",
         "type": "unknown"
        },
        {
         "name": "child_hmdb",
         "rawType": "object",
         "type": "unknown"
        },
        {
         "name": "parent_chebi",
         "rawType": "object",
         "type": "unknown"
        },
        {
         "name": "child_chebi",
         "rawType": "object",
         "type": "unknown"
        },
        {
         "name": "From_ID",
         "rawType": "object",
         "type": "unknown"
        },
        {
         "name": "To_ID",
         "rawType": "object",
         "type": "unknown"
        }
       ],
       "conversionMethod": "pd.DataFrame",
       "ref": "2d01e953-7dd6-4178-bbff-1908bc02d3d3",
       "rows": [
        [
         "0",
         "MNXM100051",
         "MNXM100344",
         "cis-9,19-epoxy-3Z,6Z-heptadecadiene -> 9S,10R-epoxy-3Z,6Z-heptadecadiene",
         null,
         null,
         null,
         null,
         null,
         null
        ],
        [
         "1",
         "MNXM100051",
         "MNXM99630",
         "cis-9,19-epoxy-3Z,6Z-heptadecadiene -> 9R,10S-epoxy-3Z,6Z-heptadecadiene",
         null,
         null,
         null,
         null,
         null,
         null
        ],
        [
         "2",
         "MNXM10011",
         "MNXM31563",
         "3-hydroxy-3-phenylpropionic acid -> (R)-3-hydroxy-3-phenylpropionic acid",
         "HMDB0124925",
         null,
         "19929",
         "51059",
         "BMG_MT104009",
         "BMG_MT104009"
        ],
        [
         "3",
         "MNXM10011",
         "MNXM31563",
         "3-hydroxy-3-phenylpropionic acid -> (R)-3-hydroxy-3-phenylpropionic acid",
         "HMDB0124925",
         null,
         "63469",
         "51059",
         "BMG_MT104009",
         "BMG_MT104009"
        ],
        [
         "4",
         "MNXM10011",
         "MNXM31736",
         "3-hydroxy-3-phenylpropionic acid -> (S)-3-hydroxy-3-phenylpropionic acid",
         "HMDB0124925",
         null,
         "19929",
         "51058",
         "BMG_MT104009",
         null
        ],
        [
         "5",
         "MNXM10011",
         "MNXM31736",
         "3-hydroxy-3-phenylpropionic acid -> (S)-3-hydroxy-3-phenylpropionic acid",
         "HMDB0124925",
         null,
         "63469",
         "51058",
         "BMG_MT104009",
         null
        ],
        [
         "6",
         "MNXM10026",
         "MNXM1104681",
         "3-hydroxydecanoyl-CoA -> (3S)-hydroxydecanoyl-CoA",
         null,
         null,
         "86041",
         "28325",
         null,
         "BMG_MT001979;BMG_MT217000"
        ],
        [
         "7",
         "MNXM10026",
         "MNXM1104681",
         "3-hydroxydecanoyl-CoA -> (3S)-hydroxydecanoyl-CoA",
         null,
         null,
         "86041",
         "62616",
         null,
         null
        ],
        [
         "8",
         "MNXM10026",
         "MNXM1104681",
         "3-hydroxydecanoyl-CoA -> (3S)-hydroxydecanoyl-CoA",
         null,
         null,
         "86041",
         "18779",
         null,
         null
        ],
        [
         "9",
         "MNXM10026",
         "MNXM1104681",
         "3-hydroxydecanoyl-CoA -> (3S)-hydroxydecanoyl-CoA",
         null,
         null,
         "86041",
         "418",
         null,
         null
        ],
        [
         "10",
         "MNXM10026",
         "MNXM1104681",
         "3-hydroxydecanoyl-CoA -> (3S)-hydroxydecanoyl-CoA",
         null,
         null,
         "86338",
         "28325",
         null,
         "BMG_MT001979;BMG_MT217000"
        ],
        [
         "11",
         "MNXM10026",
         "MNXM1104681",
         "3-hydroxydecanoyl-CoA -> (3S)-hydroxydecanoyl-CoA",
         null,
         null,
         "86338",
         "62616",
         null,
         null
        ],
        [
         "12",
         "MNXM10026",
         "MNXM1104681",
         "3-hydroxydecanoyl-CoA -> (3S)-hydroxydecanoyl-CoA",
         null,
         null,
         "86338",
         "18779",
         null,
         null
        ],
        [
         "13",
         "MNXM10026",
         "MNXM1104681",
         "3-hydroxydecanoyl-CoA -> (3S)-hydroxydecanoyl-CoA",
         null,
         null,
         "86338",
         "418",
         null,
         null
        ],
        [
         "14",
         "MNXM10026",
         "MNXM9497",
         "3-hydroxydecanoyl-CoA -> (3R)-3-hydroxydecanoyl-CoA",
         null,
         null,
         "86041",
         "74272",
         null,
         null
        ],
        [
         "15",
         "MNXM10026",
         "MNXM9497",
         "3-hydroxydecanoyl-CoA -> (3R)-3-hydroxydecanoyl-CoA",
         null,
         null,
         "86041",
         "74405",
         null,
         null
        ],
        [
         "16",
         "MNXM10026",
         "MNXM9497",
         "3-hydroxydecanoyl-CoA -> (3R)-3-hydroxydecanoyl-CoA",
         null,
         null,
         "86338",
         "74272",
         null,
         null
        ],
        [
         "17",
         "MNXM10026",
         "MNXM9497",
         "3-hydroxydecanoyl-CoA -> (3R)-3-hydroxydecanoyl-CoA",
         null,
         null,
         "86338",
         "74405",
         null,
         null
        ],
        [
         "18",
         "MNXM10039",
         "MNXM36497",
         "3-hydroxypregnan-20-one -> 3-hydroxy-5alpha-pregnan-20-one",
         null,
         null,
         "50168",
         "50170",
         null,
         null
        ],
        [
         "19",
         "MNXM10039",
         "MNXM36498",
         "3-hydroxypregnan-20-one -> 3-hydroxy-5beta-pregnan-20-one",
         null,
         null,
         "50168",
         "50171",
         null,
         null
        ],
        [
         "20",
         "MNXM100443",
         "MNXM1128795",
         "1,4-dimethylcyclohexane -> cis-1,4-dimethylcyclohexane",
         null,
         null,
         "165732",
         "167602",
         "BMG_MT218069",
         "BMG_MT218077"
        ],
        [
         "21",
         "MNXM100443",
         "MNXM1128796",
         "1,4-dimethylcyclohexane -> trans-1,4-dimethylcyclohexane",
         null,
         null,
         "165732",
         "167603",
         "BMG_MT218069",
         "BMG_MT218078"
        ],
        [
         "22",
         "MNXM10108",
         "MNXM722941",
         "3-oxochola-4,22-dien-24-oyl-CoA -> (22E)-3-oxo-chol-4,22-dien-24-oyl-CoA",
         null,
         null,
         "86413",
         "136759",
         null,
         null
        ],
        [
         "23",
         "MNXM10108",
         "MNXM722941",
         "3-oxochola-4,22-dien-24-oyl-CoA -> (22E)-3-oxo-chol-4,22-dien-24-oyl-CoA",
         null,
         null,
         "86413",
         "137643",
         null,
         null
        ],
        [
         "24",
         "MNXM10108",
         "MNXM722941",
         "3-oxochola-4,22-dien-24-oyl-CoA -> (22E)-3-oxo-chol-4,22-dien-24-oyl-CoA",
         null,
         null,
         "87140",
         "136759",
         null,
         null
        ],
        [
         "25",
         "MNXM10108",
         "MNXM722941",
         "3-oxochola-4,22-dien-24-oyl-CoA -> (22E)-3-oxo-chol-4,22-dien-24-oyl-CoA",
         null,
         null,
         "87140",
         "137643",
         null,
         null
        ],
        [
         "26",
         "MNXM101118",
         "MNXM174121",
         "2-hydroxyhexadecanoyl-CoA -> (2R)-hydroxyhexadecanoyl-CoA",
         null,
         null,
         "74115",
         "138654",
         null,
         null
        ],
        [
         "27",
         "MNXM101118",
         "MNXM174121",
         "2-hydroxyhexadecanoyl-CoA -> (2R)-hydroxyhexadecanoyl-CoA",
         null,
         null,
         "74115",
         "139375",
         null,
         null
        ],
        [
         "28",
         "MNXM101118",
         "MNXM174121",
         "2-hydroxyhexadecanoyl-CoA -> (2R)-hydroxyhexadecanoyl-CoA",
         null,
         null,
         "74137",
         "138654",
         null,
         null
        ],
        [
         "29",
         "MNXM101118",
         "MNXM174121",
         "2-hydroxyhexadecanoyl-CoA -> (2R)-hydroxyhexadecanoyl-CoA",
         null,
         null,
         "74137",
         "139375",
         null,
         null
        ],
        [
         "30",
         "MNXM101119",
         "MNXM174122",
         "2-hydroxyoctadecanoyl-CoA -> (2R)-2-hydroxyoctadecanoyl-CoA",
         null,
         null,
         "74116",
         "171666",
         null,
         null
        ],
        [
         "31",
         "MNXM101119",
         "MNXM174122",
         "2-hydroxyoctadecanoyl-CoA -> (2R)-2-hydroxyoctadecanoyl-CoA",
         null,
         null,
         "74138",
         "171666",
         null,
         null
        ],
        [
         "32",
         "MNXM101226",
         "MNXM100715",
         "1-(3,4-dihydroxyphenyl)-7-(4-hydroxyphenyl)-(6E)-6-hepten-3-ol -> (+)-(3R)-1-(3,4-dihydroxyphenyl)-7-(4-hydroxyphenyl)-(6E)-6-hepten-3-ol",
         null,
         null,
         "70704",
         "70689",
         null,
         null
        ],
        [
         "33",
         "MNXM101226",
         "MNXM100819",
         "1-(3,4-dihydroxyphenyl)-7-(4-hydroxyphenyl)-(6E)-6-hepten-3-ol -> (-)-(3S)-1-(3,4-dihydroxyphenyl)-7-(4-hydroxyphenyl)-(6E)-6-hepten-3-ol",
         null,
         null,
         "70704",
         "70688",
         null,
         null
        ],
        [
         "34",
         "MNXM101321",
         "MNXM101330",
         "10-hydroperoxy-8E-octadecenoate -> (8E,10S)-10-hydroperoxy-octadeca-8-enoate",
         null,
         null,
         "77755",
         "75341",
         null,
         null
        ],
        [
         "35",
         "MNXM101321",
         "MNXM101330",
         "10-hydroperoxy-8E-octadecenoate -> (8E,10S)-10-hydroperoxy-octadeca-8-enoate",
         null,
         null,
         "77755",
         "75831",
         null,
         null
        ],
        [
         "36",
         "MNXM101321",
         "MNXM101330",
         "10-hydroperoxy-8E-octadecenoate -> (8E,10S)-10-hydroperoxy-octadeca-8-enoate",
         null,
         null,
         "85589",
         "75341",
         null,
         null
        ],
        [
         "37",
         "MNXM101321",
         "MNXM101330",
         "10-hydroperoxy-8E-octadecenoate -> (8E,10S)-10-hydroperoxy-octadeca-8-enoate",
         null,
         null,
         "85589",
         "75831",
         null,
         null
        ],
        [
         "38",
         "MNXM101359",
         "MNXM101381",
         "12-HOME(10E) -> 12R-HOME(10E)",
         null,
         null,
         null,
         null,
         null,
         null
        ],
        [
         "39",
         "MNXM101359",
         "MNXM101389",
         "12-HOME(10E) -> 12S-HOME(10E)",
         null,
         null,
         null,
         null,
         null,
         null
        ],
        [
         "40",
         "MNXM101425",
         "MNXM816064",
         "14-F2-dihomo-IsoP -> ent-14-F2t-dihomo-IsoP",
         null,
         null,
         "177973",
         null,
         null,
         null
        ],
        [
         "41",
         "MNXM101425",
         "MNXM816065",
         "14-F2-dihomo-IsoP -> ent-14-epi-14-F2c-dihomo-IsoP",
         null,
         null,
         "177973",
         null,
         null,
         null
        ],
        [
         "42",
         "MNXM101425",
         "MNXM816066",
         "14-F2-dihomo-IsoP -> ent-14-epi-14-F2t-dihomo-IsoP",
         null,
         null,
         "177973",
         null,
         null,
         null
        ],
        [
         "43",
         "MNXM101425",
         "MNXM816067",
         "14-F2-dihomo-IsoP -> ent-14-F2c-dihomo-IsoP",
         null,
         null,
         "177973",
         null,
         null,
         null
        ],
        [
         "44",
         "MNXM101425",
         "MNXM816068",
         "14-F2-dihomo-IsoP -> ent-12-epi-14-F2c-dihomo-IsoP",
         null,
         null,
         "177973",
         null,
         null,
         null
        ],
        [
         "45",
         "MNXM101425",
         "MNXM816069",
         "14-F2-dihomo-IsoP -> ent-14,7-diepi-14-F2t-dihomo-IsoP",
         null,
         null,
         "177973",
         null,
         null,
         null
        ],
        [
         "46",
         "MNXM101425",
         "MNXM816070",
         "14-F2-dihomo-IsoP -> ent-14,7-diepi-14-F2c-dihomo-IsoP",
         null,
         null,
         "177973",
         null,
         null,
         null
        ],
        [
         "47",
         "MNXM101425",
         "MNXM816071",
         "14-F2-dihomo-IsoP -> ent-12-epi-14-F2t-dihomo-IsoP",
         null,
         null,
         "177973",
         null,
         null,
         null
        ],
        [
         "48",
         "MNXM101425",
         "MNXM816072",
         "14-F2-dihomo-IsoP -> 12-epi-14-F2c-dihomo-IsoP",
         null,
         null,
         "177973",
         null,
         null,
         null
        ],
        [
         "49",
         "MNXM101425",
         "MNXM816073",
         "14-F2-dihomo-IsoP -> 14,7-diepi-14-F2t-dihomo-IsoP",
         null,
         null,
         "177973",
         null,
         null,
         null
        ]
       ],
       "shape": {
        "columns": 9,
        "rows": 23711
       }
      },
      "text/html": [
       "<div>\n",
       "<style scoped>\n",
       "    .dataframe tbody tr th:only-of-type {\n",
       "        vertical-align: middle;\n",
       "    }\n",
       "\n",
       "    .dataframe tbody tr th {\n",
       "        vertical-align: top;\n",
       "    }\n",
       "\n",
       "    .dataframe thead th {\n",
       "        text-align: right;\n",
       "    }\n",
       "</style>\n",
       "<table border=\"1\" class=\"dataframe\">\n",
       "  <thead>\n",
       "    <tr style=\"text-align: right;\">\n",
       "      <th></th>\n",
       "      <th>parent</th>\n",
       "      <th>child</th>\n",
       "      <th>description</th>\n",
       "      <th>parent_hmdb</th>\n",
       "      <th>child_hmdb</th>\n",
       "      <th>parent_chebi</th>\n",
       "      <th>child_chebi</th>\n",
       "      <th>From_ID</th>\n",
       "      <th>To_ID</th>\n",
       "    </tr>\n",
       "  </thead>\n",
       "  <tbody>\n",
       "    <tr>\n",
       "      <th>0</th>\n",
       "      <td>MNXM100051</td>\n",
       "      <td>MNXM100344</td>\n",
       "      <td>cis-9,19-epoxy-3Z,6Z-heptadecadiene -&gt; 9S,10R-...</td>\n",
       "      <td>NaN</td>\n",
       "      <td>NaN</td>\n",
       "      <td>NaN</td>\n",
       "      <td>NaN</td>\n",
       "      <td>&lt;NA&gt;</td>\n",
       "      <td>&lt;NA&gt;</td>\n",
       "    </tr>\n",
       "    <tr>\n",
       "      <th>1</th>\n",
       "      <td>MNXM100051</td>\n",
       "      <td>MNXM99630</td>\n",
       "      <td>cis-9,19-epoxy-3Z,6Z-heptadecadiene -&gt; 9R,10S-...</td>\n",
       "      <td>NaN</td>\n",
       "      <td>NaN</td>\n",
       "      <td>NaN</td>\n",
       "      <td>NaN</td>\n",
       "      <td>&lt;NA&gt;</td>\n",
       "      <td>&lt;NA&gt;</td>\n",
       "    </tr>\n",
       "    <tr>\n",
       "      <th>2</th>\n",
       "      <td>MNXM10011</td>\n",
       "      <td>MNXM31563</td>\n",
       "      <td>3-hydroxy-3-phenylpropionic acid -&gt; (R)-3-hydr...</td>\n",
       "      <td>HMDB0124925</td>\n",
       "      <td>NaN</td>\n",
       "      <td>19929</td>\n",
       "      <td>51059</td>\n",
       "      <td>BMG_MT104009</td>\n",
       "      <td>BMG_MT104009</td>\n",
       "    </tr>\n",
       "    <tr>\n",
       "      <th>3</th>\n",
       "      <td>MNXM10011</td>\n",
       "      <td>MNXM31563</td>\n",
       "      <td>3-hydroxy-3-phenylpropionic acid -&gt; (R)-3-hydr...</td>\n",
       "      <td>HMDB0124925</td>\n",
       "      <td>NaN</td>\n",
       "      <td>63469</td>\n",
       "      <td>51059</td>\n",
       "      <td>BMG_MT104009</td>\n",
       "      <td>BMG_MT104009</td>\n",
       "    </tr>\n",
       "    <tr>\n",
       "      <th>4</th>\n",
       "      <td>MNXM10011</td>\n",
       "      <td>MNXM31736</td>\n",
       "      <td>3-hydroxy-3-phenylpropionic acid -&gt; (S)-3-hydr...</td>\n",
       "      <td>HMDB0124925</td>\n",
       "      <td>NaN</td>\n",
       "      <td>19929</td>\n",
       "      <td>51058</td>\n",
       "      <td>BMG_MT104009</td>\n",
       "      <td>&lt;NA&gt;</td>\n",
       "    </tr>\n",
       "    <tr>\n",
       "      <th>...</th>\n",
       "      <td>...</td>\n",
       "      <td>...</td>\n",
       "      <td>...</td>\n",
       "      <td>...</td>\n",
       "      <td>...</td>\n",
       "      <td>...</td>\n",
       "      <td>...</td>\n",
       "      <td>...</td>\n",
       "      <td>...</td>\n",
       "    </tr>\n",
       "    <tr>\n",
       "      <th>23706</th>\n",
       "      <td>MNXM9987</td>\n",
       "      <td>MNXM732376</td>\n",
       "      <td>3-aminoisobutyric acid -&gt; (S)-3-amino-2-methyl...</td>\n",
       "      <td>HMDB0000485;HMDB0003911</td>\n",
       "      <td>HMDB0002166</td>\n",
       "      <td>359</td>\n",
       "      <td>390</td>\n",
       "      <td>&lt;NA&gt;</td>\n",
       "      <td>BMG_MT001440</td>\n",
       "    </tr>\n",
       "    <tr>\n",
       "      <th>23707</th>\n",
       "      <td>MNXM9987</td>\n",
       "      <td>MNXM732376</td>\n",
       "      <td>3-aminoisobutyric acid -&gt; (S)-3-amino-2-methyl...</td>\n",
       "      <td>HMDB0000485;HMDB0003911</td>\n",
       "      <td>HMDB0002166</td>\n",
       "      <td>359</td>\n",
       "      <td>41058</td>\n",
       "      <td>&lt;NA&gt;</td>\n",
       "      <td>BMG_MT001440</td>\n",
       "    </tr>\n",
       "    <tr>\n",
       "      <th>23708</th>\n",
       "      <td>MNXM9987</td>\n",
       "      <td>MNXM732376</td>\n",
       "      <td>3-aminoisobutyric acid -&gt; (S)-3-amino-2-methyl...</td>\n",
       "      <td>HMDB0000485;HMDB0003911</td>\n",
       "      <td>HMDB0002166</td>\n",
       "      <td>359</td>\n",
       "      <td>6167</td>\n",
       "      <td>&lt;NA&gt;</td>\n",
       "      <td>BMG_MT001440</td>\n",
       "    </tr>\n",
       "    <tr>\n",
       "      <th>23709</th>\n",
       "      <td>MNXM99960</td>\n",
       "      <td>MNXM101734</td>\n",
       "      <td>2-Ethyl-1,6-dioxaspiro[4.4]nonane -&gt; 2S,5R-cha...</td>\n",
       "      <td>NaN</td>\n",
       "      <td>NaN</td>\n",
       "      <td>NaN</td>\n",
       "      <td>NaN</td>\n",
       "      <td>&lt;NA&gt;</td>\n",
       "      <td>&lt;NA&gt;</td>\n",
       "    </tr>\n",
       "    <tr>\n",
       "      <th>23710</th>\n",
       "      <td>MNXM99960</td>\n",
       "      <td>MNXM46228</td>\n",
       "      <td>2-Ethyl-1,6-dioxaspiro[4.4]nonane -&gt; Chalcogran</td>\n",
       "      <td>NaN</td>\n",
       "      <td>NaN</td>\n",
       "      <td>NaN</td>\n",
       "      <td>3570</td>\n",
       "      <td>&lt;NA&gt;</td>\n",
       "      <td>&lt;NA&gt;</td>\n",
       "    </tr>\n",
       "  </tbody>\n",
       "</table>\n",
       "<p>23711 rows × 9 columns</p>\n",
       "</div>"
      ],
      "text/plain": [
       "           parent       child  \\\n",
       "0      MNXM100051  MNXM100344   \n",
       "1      MNXM100051   MNXM99630   \n",
       "2       MNXM10011   MNXM31563   \n",
       "3       MNXM10011   MNXM31563   \n",
       "4       MNXM10011   MNXM31736   \n",
       "...           ...         ...   \n",
       "23706    MNXM9987  MNXM732376   \n",
       "23707    MNXM9987  MNXM732376   \n",
       "23708    MNXM9987  MNXM732376   \n",
       "23709   MNXM99960  MNXM101734   \n",
       "23710   MNXM99960   MNXM46228   \n",
       "\n",
       "                                             description  \\\n",
       "0      cis-9,19-epoxy-3Z,6Z-heptadecadiene -> 9S,10R-...   \n",
       "1      cis-9,19-epoxy-3Z,6Z-heptadecadiene -> 9R,10S-...   \n",
       "2      3-hydroxy-3-phenylpropionic acid -> (R)-3-hydr...   \n",
       "3      3-hydroxy-3-phenylpropionic acid -> (R)-3-hydr...   \n",
       "4      3-hydroxy-3-phenylpropionic acid -> (S)-3-hydr...   \n",
       "...                                                  ...   \n",
       "23706  3-aminoisobutyric acid -> (S)-3-amino-2-methyl...   \n",
       "23707  3-aminoisobutyric acid -> (S)-3-amino-2-methyl...   \n",
       "23708  3-aminoisobutyric acid -> (S)-3-amino-2-methyl...   \n",
       "23709  2-Ethyl-1,6-dioxaspiro[4.4]nonane -> 2S,5R-cha...   \n",
       "23710    2-Ethyl-1,6-dioxaspiro[4.4]nonane -> Chalcogran   \n",
       "\n",
       "                   parent_hmdb   child_hmdb parent_chebi child_chebi  \\\n",
       "0                          NaN          NaN          NaN         NaN   \n",
       "1                          NaN          NaN          NaN         NaN   \n",
       "2                  HMDB0124925          NaN        19929       51059   \n",
       "3                  HMDB0124925          NaN        63469       51059   \n",
       "4                  HMDB0124925          NaN        19929       51058   \n",
       "...                        ...          ...          ...         ...   \n",
       "23706  HMDB0000485;HMDB0003911  HMDB0002166          359         390   \n",
       "23707  HMDB0000485;HMDB0003911  HMDB0002166          359       41058   \n",
       "23708  HMDB0000485;HMDB0003911  HMDB0002166          359        6167   \n",
       "23709                      NaN          NaN          NaN         NaN   \n",
       "23710                      NaN          NaN          NaN        3570   \n",
       "\n",
       "            From_ID         To_ID  \n",
       "0              <NA>          <NA>  \n",
       "1              <NA>          <NA>  \n",
       "2      BMG_MT104009  BMG_MT104009  \n",
       "3      BMG_MT104009  BMG_MT104009  \n",
       "4      BMG_MT104009          <NA>  \n",
       "...             ...           ...  \n",
       "23706          <NA>  BMG_MT001440  \n",
       "23707          <NA>  BMG_MT001440  \n",
       "23708          <NA>  BMG_MT001440  \n",
       "23709          <NA>          <NA>  \n",
       "23710          <NA>          <NA>  \n",
       "\n",
       "[23711 rows x 9 columns]"
      ]
     },
     "execution_count": 9,
     "metadata": {},
     "output_type": "execute_result"
    }
   ],
   "source": [
    "def merge_string_columns(df, columns, merge_name, separator=';'):\n",
    "    def merge_strings(row):\n",
    "        combined = set()\n",
    "        for column in columns:\n",
    "            if pd.notnull(row[column]):\n",
    "                combined.update(row[column].split(separator))\n",
    "        return separator.join(combined)\n",
    "    \n",
    "    # Apply the function to each row and create a new column\n",
    "    combined_column_name = merge_name\n",
    "    df[combined_column_name] = df.apply(merge_strings, axis=1)\n",
    "    df.drop(columns=columns, inplace=True)\n",
    "    \n",
    "    return df\n",
    "\n",
    "metanetx = merge_string_columns(metanetx, ['From_HMDB', 'From_CHEBI'], 'From_ID')\n",
    "metanetx = merge_string_columns(metanetx, ['To_HMDB', 'To_CHEBI'], 'To_ID')\n",
    "metanetx.replace('', pd.NA, inplace=True)\n",
    "metanetx"
   ]
  },
  {
   "cell_type": "code",
   "execution_count": 10,
   "metadata": {},
   "outputs": [
    {
     "data": {
      "application/vnd.microsoft.datawrangler.viewer.v0+json": {
       "columns": [
        {
         "name": "index",
         "rawType": "int64",
         "type": "integer"
        },
        {
         "name": "From_ID",
         "rawType": "object",
         "type": "string"
        },
        {
         "name": "To_ID",
         "rawType": "object",
         "type": "string"
        }
       ],
       "conversionMethod": "pd.DataFrame",
       "ref": "f17303c8-ee26-4bbe-8741-de4328ce369a",
       "rows": [
        [
         "2",
         "BMG_MT104009",
         "BMG_MT104009"
        ],
        [
         "20",
         "BMG_MT218069",
         "BMG_MT218077"
        ],
        [
         "21",
         "BMG_MT218069",
         "BMG_MT218078"
        ],
        [
         "214",
         "BMG_MT217653;BMG_MT041423",
         "BMG_MT041423"
        ],
        [
         "215",
         "BMG_MT041423",
         "BMG_MT041423"
        ],
        [
         "257",
         "BMG_MT001797",
         "BMG_MT216163"
        ],
        [
         "302",
         "BMG_MT002983",
         "BMG_MT041864"
        ],
        [
         "303",
         "BMG_MT002983",
         "BMG_MT041864;BMG_MT216984"
        ],
        [
         "322",
         "BMG_MT039810",
         "BMG_MT000465"
        ],
        [
         "349",
         "BMG_MT039810",
         "BMG_MT000540"
        ],
        [
         "397",
         "BMG_MT040169",
         "BMG_MT217950"
        ],
        [
         "545",
         "BMG_MT167006",
         "BMG_MT040193"
        ],
        [
         "561",
         "BMG_MT167006",
         "BMG_MT002120"
        ],
        [
         "629",
         "BMG_MT039783",
         "BMG_MT040502"
        ],
        [
         "663",
         "BMG_MT001452",
         "BMG_MT040339"
        ],
        [
         "673",
         "BMG_MT001452",
         "BMG_MT040341"
        ],
        [
         "694",
         "BMG_MT002962",
         "BMG_MT216963"
        ],
        [
         "699",
         "BMG_MT002962",
         "BMG_MT042024"
        ],
        [
         "770",
         "BMG_MT002968",
         "BMG_MT042041"
        ],
        [
         "791",
         "BMG_MT218334",
         "BMG_MT001961"
        ],
        [
         "816",
         "BMG_MT001506",
         "BMG_MT001506"
        ],
        [
         "829",
         "BMG_MT016098",
         "BMG_MT000118"
        ],
        [
         "865",
         "BMG_MT016098",
         "BMG_MT022175"
        ],
        [
         "927",
         "BMG_MT002561",
         "BMG_MT001164"
        ],
        [
         "970",
         "BMG_MT042003",
         "BMG_MT001767"
        ],
        [
         "980",
         "BMG_MT002926",
         "BMG_MT007789"
        ],
        [
         "993",
         "BMG_MT000257",
         "BMG_MT000006"
        ],
        [
         "1001",
         "BMG_MT000257",
         "BMG_MT000599;BMG_MT000333"
        ],
        [
         "1050",
         "BMG_MT040310",
         "BMG_MT039867;BMG_MT158438"
        ],
        [
         "1051",
         "BMG_MT040310",
         "BMG_MT039867"
        ],
        [
         "1065",
         "BMG_MT040310",
         "BMG_MT000410"
        ],
        [
         "1072",
         "BMG_MT040310",
         "BMG_MT000680"
        ],
        [
         "1083",
         "BMG_MT040310",
         "BMG_MT040310"
        ],
        [
         "1084",
         "BMG_MT040310",
         "BMG_MT040311;BMG_MT158450"
        ],
        [
         "1085",
         "BMG_MT040310",
         "BMG_MT040311"
        ],
        [
         "1090",
         "BMG_MT016829",
         "BMG_MT215241"
        ],
        [
         "1091",
         "BMG_MT016829",
         "BMG_MT216218"
        ],
        [
         "1093",
         "BMG_MT016829",
         "BMG_MT016830"
        ],
        [
         "1103",
         "BMG_MT010150",
         "BMG_MT010150"
        ],
        [
         "1106",
         "BMG_MT161049",
         "BMG_MT040303"
        ],
        [
         "1114",
         "BMG_MT168129",
         "BMG_MT009057;BMG_MT022392"
        ],
        [
         "1164",
         "BMG_MT036581",
         "BMG_MT090442"
        ],
        [
         "1538",
         "BMG_MT038754",
         "BMG_MT091194"
        ],
        [
         "1553",
         "BMG_MT006222",
         "BMG_MT038887"
        ],
        [
         "1555",
         "BMG_MT006222",
         "BMG_MT006222"
        ],
        [
         "1575",
         "BMG_MT006225",
         "BMG_MT038977"
        ],
        [
         "1577",
         "BMG_MT006225",
         "BMG_MT006225"
        ],
        [
         "1726",
         "BMG_MT000082",
         "BMG_MT000082"
        ],
        [
         "1805",
         "BMG_MT000110",
         "BMG_MT000110"
        ],
        [
         "1844",
         "BMG_MT001071",
         "BMG_MT001886"
        ]
       ],
       "shape": {
        "columns": 2,
        "rows": 886
       }
      },
      "text/html": [
       "<div>\n",
       "<style scoped>\n",
       "    .dataframe tbody tr th:only-of-type {\n",
       "        vertical-align: middle;\n",
       "    }\n",
       "\n",
       "    .dataframe tbody tr th {\n",
       "        vertical-align: top;\n",
       "    }\n",
       "\n",
       "    .dataframe thead th {\n",
       "        text-align: right;\n",
       "    }\n",
       "</style>\n",
       "<table border=\"1\" class=\"dataframe\">\n",
       "  <thead>\n",
       "    <tr style=\"text-align: right;\">\n",
       "      <th></th>\n",
       "      <th>From_ID</th>\n",
       "      <th>To_ID</th>\n",
       "    </tr>\n",
       "  </thead>\n",
       "  <tbody>\n",
       "    <tr>\n",
       "      <th>2</th>\n",
       "      <td>BMG_MT104009</td>\n",
       "      <td>BMG_MT104009</td>\n",
       "    </tr>\n",
       "    <tr>\n",
       "      <th>20</th>\n",
       "      <td>BMG_MT218069</td>\n",
       "      <td>BMG_MT218077</td>\n",
       "    </tr>\n",
       "    <tr>\n",
       "      <th>21</th>\n",
       "      <td>BMG_MT218069</td>\n",
       "      <td>BMG_MT218078</td>\n",
       "    </tr>\n",
       "    <tr>\n",
       "      <th>214</th>\n",
       "      <td>BMG_MT217653;BMG_MT041423</td>\n",
       "      <td>BMG_MT041423</td>\n",
       "    </tr>\n",
       "    <tr>\n",
       "      <th>215</th>\n",
       "      <td>BMG_MT041423</td>\n",
       "      <td>BMG_MT041423</td>\n",
       "    </tr>\n",
       "    <tr>\n",
       "      <th>...</th>\n",
       "      <td>...</td>\n",
       "      <td>...</td>\n",
       "    </tr>\n",
       "    <tr>\n",
       "      <th>23492</th>\n",
       "      <td>BMG_MT165996</td>\n",
       "      <td>BMG_MT001199</td>\n",
       "    </tr>\n",
       "    <tr>\n",
       "      <th>23545</th>\n",
       "      <td>BMG_MT007770</td>\n",
       "      <td>BMG_MT039789</td>\n",
       "    </tr>\n",
       "    <tr>\n",
       "      <th>23611</th>\n",
       "      <td>BMG_MT001450</td>\n",
       "      <td>BMG_MT014623</td>\n",
       "    </tr>\n",
       "    <tr>\n",
       "      <th>23631</th>\n",
       "      <td>BMG_MT001970</td>\n",
       "      <td>BMG_MT001536</td>\n",
       "    </tr>\n",
       "    <tr>\n",
       "      <th>23669</th>\n",
       "      <td>BMG_MT001970</td>\n",
       "      <td>BMG_MT001440</td>\n",
       "    </tr>\n",
       "  </tbody>\n",
       "</table>\n",
       "<p>886 rows × 2 columns</p>\n",
       "</div>"
      ],
      "text/plain": [
       "                         From_ID         To_ID\n",
       "2                   BMG_MT104009  BMG_MT104009\n",
       "20                  BMG_MT218069  BMG_MT218077\n",
       "21                  BMG_MT218069  BMG_MT218078\n",
       "214    BMG_MT217653;BMG_MT041423  BMG_MT041423\n",
       "215                 BMG_MT041423  BMG_MT041423\n",
       "...                          ...           ...\n",
       "23492               BMG_MT165996  BMG_MT001199\n",
       "23545               BMG_MT007770  BMG_MT039789\n",
       "23611               BMG_MT001450  BMG_MT014623\n",
       "23631               BMG_MT001970  BMG_MT001536\n",
       "23669               BMG_MT001970  BMG_MT001440\n",
       "\n",
       "[886 rows x 2 columns]"
      ]
     },
     "execution_count": 10,
     "metadata": {},
     "output_type": "execute_result"
    }
   ],
   "source": [
    "meta_meta = metanetx[['From_ID', 'To_ID']]\n",
    "meta_meta = meta_meta.dropna(subset=['From_ID'])\n",
    "meta_meta = meta_meta.dropna(subset=['To_ID'])\n",
    "meta_meta.drop_duplicates(inplace=True)\n",
    "meta_meta"
   ]
  },
  {
   "cell_type": "code",
   "execution_count": 11,
   "metadata": {},
   "outputs": [
    {
     "data": {
      "application/vnd.microsoft.datawrangler.viewer.v0+json": {
       "columns": [
        {
         "name": "index",
         "rawType": "int64",
         "type": "integer"
        },
        {
         "name": "From_ID",
         "rawType": "object",
         "type": "string"
        },
        {
         "name": "To_ID",
         "rawType": "object",
         "type": "string"
        }
       ],
       "conversionMethod": "pd.DataFrame",
       "ref": "d48b85ad-15e1-4329-8167-5e6322c8e334",
       "rows": [
        [
         "2",
         "BMG_MT104009",
         "BMG_MT104009"
        ],
        [
         "20",
         "BMG_MT218069",
         "BMG_MT218077"
        ],
        [
         "21",
         "BMG_MT218069",
         "BMG_MT218078"
        ],
        [
         "214",
         "BMG_MT217653",
         "BMG_MT041423"
        ],
        [
         "214",
         "BMG_MT041423",
         "BMG_MT041423"
        ],
        [
         "257",
         "BMG_MT001797",
         "BMG_MT216163"
        ],
        [
         "302",
         "BMG_MT002983",
         "BMG_MT041864"
        ],
        [
         "303",
         "BMG_MT002983",
         "BMG_MT216984"
        ],
        [
         "322",
         "BMG_MT039810",
         "BMG_MT000465"
        ],
        [
         "349",
         "BMG_MT039810",
         "BMG_MT000540"
        ],
        [
         "397",
         "BMG_MT040169",
         "BMG_MT217950"
        ],
        [
         "545",
         "BMG_MT167006",
         "BMG_MT040193"
        ],
        [
         "561",
         "BMG_MT167006",
         "BMG_MT002120"
        ],
        [
         "629",
         "BMG_MT039783",
         "BMG_MT040502"
        ],
        [
         "663",
         "BMG_MT001452",
         "BMG_MT040339"
        ],
        [
         "673",
         "BMG_MT001452",
         "BMG_MT040341"
        ],
        [
         "694",
         "BMG_MT002962",
         "BMG_MT216963"
        ],
        [
         "699",
         "BMG_MT002962",
         "BMG_MT042024"
        ],
        [
         "770",
         "BMG_MT002968",
         "BMG_MT042041"
        ],
        [
         "791",
         "BMG_MT218334",
         "BMG_MT001961"
        ],
        [
         "816",
         "BMG_MT001506",
         "BMG_MT001506"
        ],
        [
         "829",
         "BMG_MT016098",
         "BMG_MT000118"
        ],
        [
         "865",
         "BMG_MT016098",
         "BMG_MT022175"
        ],
        [
         "927",
         "BMG_MT002561",
         "BMG_MT001164"
        ],
        [
         "970",
         "BMG_MT042003",
         "BMG_MT001767"
        ],
        [
         "980",
         "BMG_MT002926",
         "BMG_MT007789"
        ],
        [
         "993",
         "BMG_MT000257",
         "BMG_MT000006"
        ],
        [
         "1001",
         "BMG_MT000257",
         "BMG_MT000599"
        ],
        [
         "1001",
         "BMG_MT000257",
         "BMG_MT000333"
        ],
        [
         "1050",
         "BMG_MT040310",
         "BMG_MT039867"
        ],
        [
         "1050",
         "BMG_MT040310",
         "BMG_MT158438"
        ],
        [
         "1065",
         "BMG_MT040310",
         "BMG_MT000410"
        ],
        [
         "1072",
         "BMG_MT040310",
         "BMG_MT000680"
        ],
        [
         "1083",
         "BMG_MT040310",
         "BMG_MT040310"
        ],
        [
         "1084",
         "BMG_MT040310",
         "BMG_MT040311"
        ],
        [
         "1084",
         "BMG_MT040310",
         "BMG_MT158450"
        ],
        [
         "1090",
         "BMG_MT016829",
         "BMG_MT215241"
        ],
        [
         "1091",
         "BMG_MT016829",
         "BMG_MT216218"
        ],
        [
         "1093",
         "BMG_MT016829",
         "BMG_MT016830"
        ],
        [
         "1103",
         "BMG_MT010150",
         "BMG_MT010150"
        ],
        [
         "1106",
         "BMG_MT161049",
         "BMG_MT040303"
        ],
        [
         "1114",
         "BMG_MT168129",
         "BMG_MT009057"
        ],
        [
         "1114",
         "BMG_MT168129",
         "BMG_MT022392"
        ],
        [
         "1164",
         "BMG_MT036581",
         "BMG_MT090442"
        ],
        [
         "1538",
         "BMG_MT038754",
         "BMG_MT091194"
        ],
        [
         "1553",
         "BMG_MT006222",
         "BMG_MT038887"
        ],
        [
         "1555",
         "BMG_MT006222",
         "BMG_MT006222"
        ],
        [
         "1575",
         "BMG_MT006225",
         "BMG_MT038977"
        ],
        [
         "1577",
         "BMG_MT006225",
         "BMG_MT006225"
        ],
        [
         "1726",
         "BMG_MT000082",
         "BMG_MT000082"
        ]
       ],
       "shape": {
        "columns": 2,
        "rows": 931
       }
      },
      "text/html": [
       "<div>\n",
       "<style scoped>\n",
       "    .dataframe tbody tr th:only-of-type {\n",
       "        vertical-align: middle;\n",
       "    }\n",
       "\n",
       "    .dataframe tbody tr th {\n",
       "        vertical-align: top;\n",
       "    }\n",
       "\n",
       "    .dataframe thead th {\n",
       "        text-align: right;\n",
       "    }\n",
       "</style>\n",
       "<table border=\"1\" class=\"dataframe\">\n",
       "  <thead>\n",
       "    <tr style=\"text-align: right;\">\n",
       "      <th></th>\n",
       "      <th>From_ID</th>\n",
       "      <th>To_ID</th>\n",
       "    </tr>\n",
       "  </thead>\n",
       "  <tbody>\n",
       "    <tr>\n",
       "      <th>2</th>\n",
       "      <td>BMG_MT104009</td>\n",
       "      <td>BMG_MT104009</td>\n",
       "    </tr>\n",
       "    <tr>\n",
       "      <th>20</th>\n",
       "      <td>BMG_MT218069</td>\n",
       "      <td>BMG_MT218077</td>\n",
       "    </tr>\n",
       "    <tr>\n",
       "      <th>21</th>\n",
       "      <td>BMG_MT218069</td>\n",
       "      <td>BMG_MT218078</td>\n",
       "    </tr>\n",
       "    <tr>\n",
       "      <th>214</th>\n",
       "      <td>BMG_MT217653</td>\n",
       "      <td>BMG_MT041423</td>\n",
       "    </tr>\n",
       "    <tr>\n",
       "      <th>214</th>\n",
       "      <td>BMG_MT041423</td>\n",
       "      <td>BMG_MT041423</td>\n",
       "    </tr>\n",
       "    <tr>\n",
       "      <th>...</th>\n",
       "      <td>...</td>\n",
       "      <td>...</td>\n",
       "    </tr>\n",
       "    <tr>\n",
       "      <th>23492</th>\n",
       "      <td>BMG_MT165996</td>\n",
       "      <td>BMG_MT001199</td>\n",
       "    </tr>\n",
       "    <tr>\n",
       "      <th>23545</th>\n",
       "      <td>BMG_MT007770</td>\n",
       "      <td>BMG_MT039789</td>\n",
       "    </tr>\n",
       "    <tr>\n",
       "      <th>23611</th>\n",
       "      <td>BMG_MT001450</td>\n",
       "      <td>BMG_MT014623</td>\n",
       "    </tr>\n",
       "    <tr>\n",
       "      <th>23631</th>\n",
       "      <td>BMG_MT001970</td>\n",
       "      <td>BMG_MT001536</td>\n",
       "    </tr>\n",
       "    <tr>\n",
       "      <th>23669</th>\n",
       "      <td>BMG_MT001970</td>\n",
       "      <td>BMG_MT001440</td>\n",
       "    </tr>\n",
       "  </tbody>\n",
       "</table>\n",
       "<p>931 rows × 2 columns</p>\n",
       "</div>"
      ],
      "text/plain": [
       "            From_ID         To_ID\n",
       "2      BMG_MT104009  BMG_MT104009\n",
       "20     BMG_MT218069  BMG_MT218077\n",
       "21     BMG_MT218069  BMG_MT218078\n",
       "214    BMG_MT217653  BMG_MT041423\n",
       "214    BMG_MT041423  BMG_MT041423\n",
       "...             ...           ...\n",
       "23492  BMG_MT165996  BMG_MT001199\n",
       "23545  BMG_MT007770  BMG_MT039789\n",
       "23611  BMG_MT001450  BMG_MT014623\n",
       "23631  BMG_MT001970  BMG_MT001536\n",
       "23669  BMG_MT001970  BMG_MT001440\n",
       "\n",
       "[931 rows x 2 columns]"
      ]
     },
     "execution_count": 11,
     "metadata": {},
     "output_type": "execute_result"
    }
   ],
   "source": [
    "meta_meta['From_ID'] = meta_meta['From_ID'].str.split(';')\n",
    "meta_meta['To_ID'] = meta_meta['To_ID'].str.split(';')\n",
    "meta_meta = meta_meta.explode('From_ID')\n",
    "meta_meta = meta_meta.explode('To_ID')\n",
    "\n",
    "meta_meta['To_ID'] = meta_meta['To_ID'].str.strip()\n",
    "meta_meta['From_ID'] = meta_meta['From_ID'].str.strip()\n",
    "meta_meta.drop_duplicates(inplace=True)\n",
    "meta_meta"
   ]
  },
  {
   "cell_type": "markdown",
   "metadata": {},
   "source": [
    "### Metabolite-Metabolite Relation"
   ]
  },
  {
   "cell_type": "code",
   "execution_count": 12,
   "metadata": {},
   "outputs": [
    {
     "data": {
      "application/vnd.microsoft.datawrangler.viewer.v0+json": {
       "columns": [
        {
         "name": "index",
         "rawType": "int64",
         "type": "integer"
        },
        {
         "name": "BioMedGraphica_ID",
         "rawType": "object",
         "type": "string"
        },
        {
         "name": "From_ID",
         "rawType": "object",
         "type": "string"
        },
        {
         "name": "To_ID",
         "rawType": "object",
         "type": "string"
        },
        {
         "name": "Source",
         "rawType": "object",
         "type": "string"
        },
        {
         "name": "Type",
         "rawType": "object",
         "type": "string"
        }
       ],
       "conversionMethod": "pd.DataFrame",
       "ref": "a6ce9b00-aa15-4589-a6db-43889251c90f",
       "rows": [
        [
         "2",
         "BMG_ED_MTMT001",
         "BMG_MT104009",
         "BMG_MT104009",
         "MetaNetX",
         "Metabolite-Metabolite"
        ],
        [
         "20",
         "BMG_ED_MTMT002",
         "BMG_MT218069",
         "BMG_MT218077",
         "MetaNetX",
         "Metabolite-Metabolite"
        ],
        [
         "21",
         "BMG_ED_MTMT003",
         "BMG_MT218069",
         "BMG_MT218078",
         "MetaNetX",
         "Metabolite-Metabolite"
        ],
        [
         "214",
         "BMG_ED_MTMT004",
         "BMG_MT217653",
         "BMG_MT041423",
         "MetaNetX",
         "Metabolite-Metabolite"
        ],
        [
         "214",
         "BMG_ED_MTMT005",
         "BMG_MT041423",
         "BMG_MT041423",
         "MetaNetX",
         "Metabolite-Metabolite"
        ],
        [
         "257",
         "BMG_ED_MTMT006",
         "BMG_MT001797",
         "BMG_MT216163",
         "MetaNetX",
         "Metabolite-Metabolite"
        ],
        [
         "302",
         "BMG_ED_MTMT007",
         "BMG_MT002983",
         "BMG_MT041864",
         "MetaNetX",
         "Metabolite-Metabolite"
        ],
        [
         "303",
         "BMG_ED_MTMT008",
         "BMG_MT002983",
         "BMG_MT216984",
         "MetaNetX",
         "Metabolite-Metabolite"
        ],
        [
         "322",
         "BMG_ED_MTMT009",
         "BMG_MT039810",
         "BMG_MT000465",
         "MetaNetX",
         "Metabolite-Metabolite"
        ],
        [
         "349",
         "BMG_ED_MTMT010",
         "BMG_MT039810",
         "BMG_MT000540",
         "MetaNetX",
         "Metabolite-Metabolite"
        ],
        [
         "397",
         "BMG_ED_MTMT011",
         "BMG_MT040169",
         "BMG_MT217950",
         "MetaNetX",
         "Metabolite-Metabolite"
        ],
        [
         "545",
         "BMG_ED_MTMT012",
         "BMG_MT167006",
         "BMG_MT040193",
         "MetaNetX",
         "Metabolite-Metabolite"
        ],
        [
         "561",
         "BMG_ED_MTMT013",
         "BMG_MT167006",
         "BMG_MT002120",
         "MetaNetX",
         "Metabolite-Metabolite"
        ],
        [
         "629",
         "BMG_ED_MTMT014",
         "BMG_MT039783",
         "BMG_MT040502",
         "MetaNetX",
         "Metabolite-Metabolite"
        ],
        [
         "663",
         "BMG_ED_MTMT015",
         "BMG_MT001452",
         "BMG_MT040339",
         "MetaNetX",
         "Metabolite-Metabolite"
        ],
        [
         "673",
         "BMG_ED_MTMT016",
         "BMG_MT001452",
         "BMG_MT040341",
         "MetaNetX",
         "Metabolite-Metabolite"
        ],
        [
         "694",
         "BMG_ED_MTMT017",
         "BMG_MT002962",
         "BMG_MT216963",
         "MetaNetX",
         "Metabolite-Metabolite"
        ],
        [
         "699",
         "BMG_ED_MTMT018",
         "BMG_MT002962",
         "BMG_MT042024",
         "MetaNetX",
         "Metabolite-Metabolite"
        ],
        [
         "770",
         "BMG_ED_MTMT019",
         "BMG_MT002968",
         "BMG_MT042041",
         "MetaNetX",
         "Metabolite-Metabolite"
        ],
        [
         "791",
         "BMG_ED_MTMT020",
         "BMG_MT218334",
         "BMG_MT001961",
         "MetaNetX",
         "Metabolite-Metabolite"
        ],
        [
         "816",
         "BMG_ED_MTMT021",
         "BMG_MT001506",
         "BMG_MT001506",
         "MetaNetX",
         "Metabolite-Metabolite"
        ],
        [
         "829",
         "BMG_ED_MTMT022",
         "BMG_MT016098",
         "BMG_MT000118",
         "MetaNetX",
         "Metabolite-Metabolite"
        ],
        [
         "865",
         "BMG_ED_MTMT023",
         "BMG_MT016098",
         "BMG_MT022175",
         "MetaNetX",
         "Metabolite-Metabolite"
        ],
        [
         "927",
         "BMG_ED_MTMT024",
         "BMG_MT002561",
         "BMG_MT001164",
         "MetaNetX",
         "Metabolite-Metabolite"
        ],
        [
         "970",
         "BMG_ED_MTMT025",
         "BMG_MT042003",
         "BMG_MT001767",
         "MetaNetX",
         "Metabolite-Metabolite"
        ],
        [
         "980",
         "BMG_ED_MTMT026",
         "BMG_MT002926",
         "BMG_MT007789",
         "MetaNetX",
         "Metabolite-Metabolite"
        ],
        [
         "993",
         "BMG_ED_MTMT027",
         "BMG_MT000257",
         "BMG_MT000006",
         "MetaNetX",
         "Metabolite-Metabolite"
        ],
        [
         "1001",
         "BMG_ED_MTMT028",
         "BMG_MT000257",
         "BMG_MT000599",
         "MetaNetX",
         "Metabolite-Metabolite"
        ],
        [
         "1001",
         "BMG_ED_MTMT029",
         "BMG_MT000257",
         "BMG_MT000333",
         "MetaNetX",
         "Metabolite-Metabolite"
        ],
        [
         "1050",
         "BMG_ED_MTMT030",
         "BMG_MT040310",
         "BMG_MT039867",
         "MetaNetX",
         "Metabolite-Metabolite"
        ],
        [
         "1050",
         "BMG_ED_MTMT031",
         "BMG_MT040310",
         "BMG_MT158438",
         "MetaNetX",
         "Metabolite-Metabolite"
        ],
        [
         "1065",
         "BMG_ED_MTMT032",
         "BMG_MT040310",
         "BMG_MT000410",
         "MetaNetX",
         "Metabolite-Metabolite"
        ],
        [
         "1072",
         "BMG_ED_MTMT033",
         "BMG_MT040310",
         "BMG_MT000680",
         "MetaNetX",
         "Metabolite-Metabolite"
        ],
        [
         "1083",
         "BMG_ED_MTMT034",
         "BMG_MT040310",
         "BMG_MT040310",
         "MetaNetX",
         "Metabolite-Metabolite"
        ],
        [
         "1084",
         "BMG_ED_MTMT035",
         "BMG_MT040310",
         "BMG_MT040311",
         "MetaNetX",
         "Metabolite-Metabolite"
        ],
        [
         "1084",
         "BMG_ED_MTMT036",
         "BMG_MT040310",
         "BMG_MT158450",
         "MetaNetX",
         "Metabolite-Metabolite"
        ],
        [
         "1090",
         "BMG_ED_MTMT037",
         "BMG_MT016829",
         "BMG_MT215241",
         "MetaNetX",
         "Metabolite-Metabolite"
        ],
        [
         "1091",
         "BMG_ED_MTMT038",
         "BMG_MT016829",
         "BMG_MT216218",
         "MetaNetX",
         "Metabolite-Metabolite"
        ],
        [
         "1093",
         "BMG_ED_MTMT039",
         "BMG_MT016829",
         "BMG_MT016830",
         "MetaNetX",
         "Metabolite-Metabolite"
        ],
        [
         "1103",
         "BMG_ED_MTMT040",
         "BMG_MT010150",
         "BMG_MT010150",
         "MetaNetX",
         "Metabolite-Metabolite"
        ],
        [
         "1106",
         "BMG_ED_MTMT041",
         "BMG_MT161049",
         "BMG_MT040303",
         "MetaNetX",
         "Metabolite-Metabolite"
        ],
        [
         "1114",
         "BMG_ED_MTMT042",
         "BMG_MT168129",
         "BMG_MT009057",
         "MetaNetX",
         "Metabolite-Metabolite"
        ],
        [
         "1114",
         "BMG_ED_MTMT043",
         "BMG_MT168129",
         "BMG_MT022392",
         "MetaNetX",
         "Metabolite-Metabolite"
        ],
        [
         "1164",
         "BMG_ED_MTMT044",
         "BMG_MT036581",
         "BMG_MT090442",
         "MetaNetX",
         "Metabolite-Metabolite"
        ],
        [
         "1538",
         "BMG_ED_MTMT045",
         "BMG_MT038754",
         "BMG_MT091194",
         "MetaNetX",
         "Metabolite-Metabolite"
        ],
        [
         "1553",
         "BMG_ED_MTMT046",
         "BMG_MT006222",
         "BMG_MT038887",
         "MetaNetX",
         "Metabolite-Metabolite"
        ],
        [
         "1555",
         "BMG_ED_MTMT047",
         "BMG_MT006222",
         "BMG_MT006222",
         "MetaNetX",
         "Metabolite-Metabolite"
        ],
        [
         "1575",
         "BMG_ED_MTMT048",
         "BMG_MT006225",
         "BMG_MT038977",
         "MetaNetX",
         "Metabolite-Metabolite"
        ],
        [
         "1577",
         "BMG_ED_MTMT049",
         "BMG_MT006225",
         "BMG_MT006225",
         "MetaNetX",
         "Metabolite-Metabolite"
        ],
        [
         "1726",
         "BMG_ED_MTMT050",
         "BMG_MT000082",
         "BMG_MT000082",
         "MetaNetX",
         "Metabolite-Metabolite"
        ]
       ],
       "shape": {
        "columns": 5,
        "rows": 931
       }
      },
      "text/html": [
       "<div>\n",
       "<style scoped>\n",
       "    .dataframe tbody tr th:only-of-type {\n",
       "        vertical-align: middle;\n",
       "    }\n",
       "\n",
       "    .dataframe tbody tr th {\n",
       "        vertical-align: top;\n",
       "    }\n",
       "\n",
       "    .dataframe thead th {\n",
       "        text-align: right;\n",
       "    }\n",
       "</style>\n",
       "<table border=\"1\" class=\"dataframe\">\n",
       "  <thead>\n",
       "    <tr style=\"text-align: right;\">\n",
       "      <th></th>\n",
       "      <th>BioMedGraphica_ID</th>\n",
       "      <th>From_ID</th>\n",
       "      <th>To_ID</th>\n",
       "      <th>Source</th>\n",
       "      <th>Type</th>\n",
       "    </tr>\n",
       "  </thead>\n",
       "  <tbody>\n",
       "    <tr>\n",
       "      <th>2</th>\n",
       "      <td>BMG_ED_MTMT001</td>\n",
       "      <td>BMG_MT104009</td>\n",
       "      <td>BMG_MT104009</td>\n",
       "      <td>MetaNetX</td>\n",
       "      <td>Metabolite-Metabolite</td>\n",
       "    </tr>\n",
       "    <tr>\n",
       "      <th>20</th>\n",
       "      <td>BMG_ED_MTMT002</td>\n",
       "      <td>BMG_MT218069</td>\n",
       "      <td>BMG_MT218077</td>\n",
       "      <td>MetaNetX</td>\n",
       "      <td>Metabolite-Metabolite</td>\n",
       "    </tr>\n",
       "    <tr>\n",
       "      <th>21</th>\n",
       "      <td>BMG_ED_MTMT003</td>\n",
       "      <td>BMG_MT218069</td>\n",
       "      <td>BMG_MT218078</td>\n",
       "      <td>MetaNetX</td>\n",
       "      <td>Metabolite-Metabolite</td>\n",
       "    </tr>\n",
       "    <tr>\n",
       "      <th>214</th>\n",
       "      <td>BMG_ED_MTMT004</td>\n",
       "      <td>BMG_MT217653</td>\n",
       "      <td>BMG_MT041423</td>\n",
       "      <td>MetaNetX</td>\n",
       "      <td>Metabolite-Metabolite</td>\n",
       "    </tr>\n",
       "    <tr>\n",
       "      <th>214</th>\n",
       "      <td>BMG_ED_MTMT005</td>\n",
       "      <td>BMG_MT041423</td>\n",
       "      <td>BMG_MT041423</td>\n",
       "      <td>MetaNetX</td>\n",
       "      <td>Metabolite-Metabolite</td>\n",
       "    </tr>\n",
       "    <tr>\n",
       "      <th>...</th>\n",
       "      <td>...</td>\n",
       "      <td>...</td>\n",
       "      <td>...</td>\n",
       "      <td>...</td>\n",
       "      <td>...</td>\n",
       "    </tr>\n",
       "    <tr>\n",
       "      <th>23492</th>\n",
       "      <td>BMG_ED_MTMT927</td>\n",
       "      <td>BMG_MT165996</td>\n",
       "      <td>BMG_MT001199</td>\n",
       "      <td>MetaNetX</td>\n",
       "      <td>Metabolite-Metabolite</td>\n",
       "    </tr>\n",
       "    <tr>\n",
       "      <th>23545</th>\n",
       "      <td>BMG_ED_MTMT928</td>\n",
       "      <td>BMG_MT007770</td>\n",
       "      <td>BMG_MT039789</td>\n",
       "      <td>MetaNetX</td>\n",
       "      <td>Metabolite-Metabolite</td>\n",
       "    </tr>\n",
       "    <tr>\n",
       "      <th>23611</th>\n",
       "      <td>BMG_ED_MTMT929</td>\n",
       "      <td>BMG_MT001450</td>\n",
       "      <td>BMG_MT014623</td>\n",
       "      <td>MetaNetX</td>\n",
       "      <td>Metabolite-Metabolite</td>\n",
       "    </tr>\n",
       "    <tr>\n",
       "      <th>23631</th>\n",
       "      <td>BMG_ED_MTMT930</td>\n",
       "      <td>BMG_MT001970</td>\n",
       "      <td>BMG_MT001536</td>\n",
       "      <td>MetaNetX</td>\n",
       "      <td>Metabolite-Metabolite</td>\n",
       "    </tr>\n",
       "    <tr>\n",
       "      <th>23669</th>\n",
       "      <td>BMG_ED_MTMT931</td>\n",
       "      <td>BMG_MT001970</td>\n",
       "      <td>BMG_MT001440</td>\n",
       "      <td>MetaNetX</td>\n",
       "      <td>Metabolite-Metabolite</td>\n",
       "    </tr>\n",
       "  </tbody>\n",
       "</table>\n",
       "<p>931 rows × 5 columns</p>\n",
       "</div>"
      ],
      "text/plain": [
       "      BioMedGraphica_ID       From_ID         To_ID    Source  \\\n",
       "2        BMG_ED_MTMT001  BMG_MT104009  BMG_MT104009  MetaNetX   \n",
       "20       BMG_ED_MTMT002  BMG_MT218069  BMG_MT218077  MetaNetX   \n",
       "21       BMG_ED_MTMT003  BMG_MT218069  BMG_MT218078  MetaNetX   \n",
       "214      BMG_ED_MTMT004  BMG_MT217653  BMG_MT041423  MetaNetX   \n",
       "214      BMG_ED_MTMT005  BMG_MT041423  BMG_MT041423  MetaNetX   \n",
       "...                 ...           ...           ...       ...   \n",
       "23492    BMG_ED_MTMT927  BMG_MT165996  BMG_MT001199  MetaNetX   \n",
       "23545    BMG_ED_MTMT928  BMG_MT007770  BMG_MT039789  MetaNetX   \n",
       "23611    BMG_ED_MTMT929  BMG_MT001450  BMG_MT014623  MetaNetX   \n",
       "23631    BMG_ED_MTMT930  BMG_MT001970  BMG_MT001536  MetaNetX   \n",
       "23669    BMG_ED_MTMT931  BMG_MT001970  BMG_MT001440  MetaNetX   \n",
       "\n",
       "                        Type  \n",
       "2      Metabolite-Metabolite  \n",
       "20     Metabolite-Metabolite  \n",
       "21     Metabolite-Metabolite  \n",
       "214    Metabolite-Metabolite  \n",
       "214    Metabolite-Metabolite  \n",
       "...                      ...  \n",
       "23492  Metabolite-Metabolite  \n",
       "23545  Metabolite-Metabolite  \n",
       "23611  Metabolite-Metabolite  \n",
       "23631  Metabolite-Metabolite  \n",
       "23669  Metabolite-Metabolite  \n",
       "\n",
       "[931 rows x 5 columns]"
      ]
     },
     "execution_count": 12,
     "metadata": {},
     "output_type": "execute_result"
    }
   ],
   "source": [
    "meta_meta['Source'] = 'MetaNetX'\n",
    "meta_meta['Type'] = 'Metabolite-Metabolite'\n",
    "\n",
    "max_length = len(str(len(meta_meta)))\n",
    "meta_meta['BioMedGraphica_ID'] = ['BMG_ED_MTMT' + str(i).zfill(max_length) for i in range(1, len(meta_meta) + 1)]\n",
    "columns = ['BioMedGraphica_ID'] + [col for col in meta_meta.columns if col != 'BioMedGraphica_ID']  # re-order columns\n",
    "meta_meta = meta_meta[columns]\n",
    "meta_meta"
   ]
  },
  {
   "cell_type": "code",
   "execution_count": 13,
   "metadata": {},
   "outputs": [
    {
     "name": "stdout",
     "output_type": "stream",
     "text": [
      "Data has been saved to D:\\RA\\BMG\\BioMedGraphica\\Relation\\Metabolite-Metabolite\\BioMedGraphica_Metabolite_Metabolite.csv\n"
     ]
    }
   ],
   "source": [
    "import os\n",
    "from pathlib import Path\n",
    "\n",
    "# get the current working directory\n",
    "current_working_dir = Path(os.getcwd()).resolve()\n",
    "\n",
    "# get the output directory\n",
    "grandparent_dir = current_working_dir.parent.parent.parent\n",
    "\n",
    "target_folder = grandparent_dir / 'BioMedGraphica' / 'Relation' / 'Metabolite-Metabolite'\n",
    "if not target_folder.exists():\n",
    "    target_folder.mkdir(parents=True)\n",
    "    print(f\"Folder {target_folder} has been created.\")\n",
    "\n",
    "output_file_path = target_folder / 'BioMedGraphica_Metabolite_Metabolite.csv'\n",
    "meta_meta.to_csv(output_file_path, index=False)\n",
    "print(f\"Data has been saved to {output_file_path}\")"
   ]
  }
 ],
 "metadata": {
  "kernelspec": {
   "display_name": "base",
   "language": "python",
   "name": "python3"
  },
  "language_info": {
   "codemirror_mode": {
    "name": "ipython",
    "version": 3
   },
   "file_extension": ".py",
   "mimetype": "text/x-python",
   "name": "python",
   "nbconvert_exporter": "python",
   "pygments_lexer": "ipython3",
   "version": "3.9.19"
  }
 },
 "nbformat": 4,
 "nbformat_minor": 2
}
