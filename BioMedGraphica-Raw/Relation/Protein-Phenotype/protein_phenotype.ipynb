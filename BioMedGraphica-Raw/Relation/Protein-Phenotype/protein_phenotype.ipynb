{
 "cells": [
  {
   "cell_type": "markdown",
   "metadata": {},
   "source": [
    "### HPO"
   ]
  },
  {
   "cell_type": "code",
   "execution_count": 1,
   "metadata": {},
   "outputs": [
    {
     "data": {
      "application/vnd.microsoft.datawrangler.viewer.v0+json": {
       "columns": [
        {
         "name": "index",
         "rawType": "int64",
         "type": "integer"
        },
        {
         "name": "ncbi_gene_id",
         "rawType": "object",
         "type": "string"
        },
        {
         "name": "hpo_id",
         "rawType": "object",
         "type": "string"
        }
       ],
       "conversionMethod": "pd.DataFrame",
       "ref": "70cfe0bf-f1e1-4ed7-aabf-bf0c51e79b3e",
       "rows": [
        [
         "0",
         "10",
         "HP:0000007"
        ],
        [
         "1",
         "10",
         "HP:0001939"
        ],
        [
         "2",
         "16",
         "HP:0002460"
        ],
        [
         "3",
         "16",
         "HP:0002451"
        ],
        [
         "4",
         "16",
         "HP:0008619"
        ],
        [
         "5",
         "16",
         "HP:0001197"
        ],
        [
         "6",
         "16",
         "HP:0410219"
        ],
        [
         "7",
         "16",
         "HP:0007266"
        ],
        [
         "8",
         "16",
         "HP:0007256"
        ],
        [
         "9",
         "16",
         "HP:0010871"
        ],
        [
         "10",
         "16",
         "HP:0009886"
        ],
        [
         "11",
         "16",
         "HP:0002421"
        ],
        [
         "12",
         "16",
         "HP:0001298"
        ],
        [
         "13",
         "16",
         "HP:0001290"
        ],
        [
         "15",
         "16",
         "HP:0001276"
        ],
        [
         "16",
         "16",
         "HP:0001273"
        ],
        [
         "17",
         "16",
         "HP:0001268"
        ],
        [
         "19",
         "16",
         "HP:0002599"
        ],
        [
         "20",
         "16",
         "HP:0001288"
        ],
        [
         "22",
         "16",
         "HP:0001284"
        ],
        [
         "25",
         "16",
         "HP:0001250"
        ],
        [
         "26",
         "16",
         "HP:0001251"
        ],
        [
         "27",
         "16",
         "HP:0001249"
        ],
        [
         "28",
         "16",
         "HP:0001265"
        ],
        [
         "31",
         "16",
         "HP:0001264"
        ],
        [
         "32",
         "16",
         "HP:0001260"
        ],
        [
         "33",
         "16",
         "HP:0001263"
        ],
        [
         "37",
         "16",
         "HP:0001257"
        ],
        [
         "41",
         "16",
         "HP:0002562"
        ],
        [
         "42",
         "16",
         "HP:0100876"
        ],
        [
         "43",
         "16",
         "HP:0007381"
        ],
        [
         "44",
         "16",
         "HP:0007340"
        ],
        [
         "45",
         "16",
         "HP:0001217"
        ],
        [
         "46",
         "16",
         "HP:0002521"
        ],
        [
         "47",
         "16",
         "HP:0002509"
        ],
        [
         "48",
         "16",
         "HP:0001373"
        ],
        [
         "49",
         "16",
         "HP:0001363"
        ],
        [
         "50",
         "16",
         "HP:0000028"
        ],
        [
         "51",
         "16",
         "HP:0007495"
        ],
        [
         "52",
         "16",
         "HP:0007485"
        ],
        [
         "53",
         "16",
         "HP:0001332"
        ],
        [
         "54",
         "16",
         "HP:0001338"
        ],
        [
         "55",
         "16",
         "HP:0000007"
        ],
        [
         "57",
         "16",
         "HP:0001337"
        ],
        [
         "58",
         "16",
         "HP:0000006"
        ],
        [
         "60",
         "16",
         "HP:0001336"
        ],
        [
         "61",
         "16",
         "HP:0001315"
        ],
        [
         "62",
         "16",
         "HP:0012196"
        ],
        [
         "63",
         "16",
         "HP:0012179"
        ],
        [
         "64",
         "16",
         "HP:0007633"
        ]
       ],
       "shape": {
        "columns": 2,
        "rows": 259118
       }
      },
      "text/html": [
       "<div>\n",
       "<style scoped>\n",
       "    .dataframe tbody tr th:only-of-type {\n",
       "        vertical-align: middle;\n",
       "    }\n",
       "\n",
       "    .dataframe tbody tr th {\n",
       "        vertical-align: top;\n",
       "    }\n",
       "\n",
       "    .dataframe thead th {\n",
       "        text-align: right;\n",
       "    }\n",
       "</style>\n",
       "<table border=\"1\" class=\"dataframe\">\n",
       "  <thead>\n",
       "    <tr style=\"text-align: right;\">\n",
       "      <th></th>\n",
       "      <th>ncbi_gene_id</th>\n",
       "      <th>hpo_id</th>\n",
       "    </tr>\n",
       "  </thead>\n",
       "  <tbody>\n",
       "    <tr>\n",
       "      <th>0</th>\n",
       "      <td>10</td>\n",
       "      <td>HP:0000007</td>\n",
       "    </tr>\n",
       "    <tr>\n",
       "      <th>1</th>\n",
       "      <td>10</td>\n",
       "      <td>HP:0001939</td>\n",
       "    </tr>\n",
       "    <tr>\n",
       "      <th>2</th>\n",
       "      <td>16</td>\n",
       "      <td>HP:0002460</td>\n",
       "    </tr>\n",
       "    <tr>\n",
       "      <th>3</th>\n",
       "      <td>16</td>\n",
       "      <td>HP:0002451</td>\n",
       "    </tr>\n",
       "    <tr>\n",
       "      <th>4</th>\n",
       "      <td>16</td>\n",
       "      <td>HP:0008619</td>\n",
       "    </tr>\n",
       "    <tr>\n",
       "      <th>...</th>\n",
       "      <td>...</td>\n",
       "      <td>...</td>\n",
       "    </tr>\n",
       "    <tr>\n",
       "      <th>316713</th>\n",
       "      <td>120766137</td>\n",
       "      <td>HP:0002209</td>\n",
       "    </tr>\n",
       "    <tr>\n",
       "      <th>316714</th>\n",
       "      <td>120766137</td>\n",
       "      <td>HP:0000653</td>\n",
       "    </tr>\n",
       "    <tr>\n",
       "      <th>316715</th>\n",
       "      <td>120766137</td>\n",
       "      <td>HP:0045075</td>\n",
       "    </tr>\n",
       "    <tr>\n",
       "      <th>316716</th>\n",
       "      <td>120766137</td>\n",
       "      <td>HP:0001596</td>\n",
       "    </tr>\n",
       "    <tr>\n",
       "      <th>316717</th>\n",
       "      <td>120766137</td>\n",
       "      <td>HP:0030056</td>\n",
       "    </tr>\n",
       "  </tbody>\n",
       "</table>\n",
       "<p>259118 rows × 2 columns</p>\n",
       "</div>"
      ],
      "text/plain": [
       "       ncbi_gene_id      hpo_id\n",
       "0                10  HP:0000007\n",
       "1                10  HP:0001939\n",
       "2                16  HP:0002460\n",
       "3                16  HP:0002451\n",
       "4                16  HP:0008619\n",
       "...             ...         ...\n",
       "316713    120766137  HP:0002209\n",
       "316714    120766137  HP:0000653\n",
       "316715    120766137  HP:0045075\n",
       "316716    120766137  HP:0001596\n",
       "316717    120766137  HP:0030056\n",
       "\n",
       "[259118 rows x 2 columns]"
      ]
     },
     "execution_count": 1,
     "metadata": {},
     "output_type": "execute_result"
    }
   ],
   "source": [
    "# Download Link: https://hpo.jax.org/data/annotations\n",
    "# Download Date: 2025-03-21\n",
    "# Download Version: unknown\n",
    "\n",
    "import pandas as pd\n",
    "\n",
    "df_protein_phen = pd.read_csv('genes_to_phenotype.txt', sep='\\t')\n",
    "df_protein_phen = df_protein_phen[['ncbi_gene_id', 'hpo_id']]\n",
    "df_protein_phen['ncbi_gene_id'] = df_protein_phen['ncbi_gene_id'].astype(str)\n",
    "df_protein_phen.drop_duplicates(inplace=True)\n",
    "df_protein_phen"
   ]
  },
  {
   "cell_type": "markdown",
   "metadata": {},
   "source": [
    "### BioMedgraphica ID"
   ]
  },
  {
   "cell_type": "code",
   "execution_count": 2,
   "metadata": {},
   "outputs": [],
   "source": [
    "import pandas as pd\n",
    "import os\n",
    "from pathlib import Path\n",
    "\n",
    "current_working_dir = Path(os.getcwd()).resolve()\n",
    "grandparent_dir = current_working_dir.parent.parent.parent\n",
    "target_dir_protein = grandparent_dir / 'BioMedGraphica' / 'Entity' / 'Protein' / 'BioMedGraphica_Protein.csv'\n",
    "target_dir_phenotype = grandparent_dir / 'BioMedGraphica' / 'Entity' / 'Phenotype' / 'BioMedGraphica_Phenotype.csv'\n",
    "biomedgraphica_protein = pd.read_csv(target_dir_protein, dtype=str)\n",
    "biomedgraphica_phenotype = pd.read_csv(target_dir_phenotype, dtype=str)"
   ]
  },
  {
   "cell_type": "markdown",
   "metadata": {},
   "source": [
    "### HPO Mapping"
   ]
  },
  {
   "cell_type": "code",
   "execution_count": 3,
   "metadata": {},
   "outputs": [
    {
     "name": "stderr",
     "output_type": "stream",
     "text": [
      "C:\\Users\\shunn\\AppData\\Local\\Temp\\ipykernel_17864\\1829130067.py:2: SettingWithCopyWarning: \n",
      "A value is trying to be set on a copy of a slice from a DataFrame\n",
      "\n",
      "See the caveats in the documentation: https://pandas.pydata.org/pandas-docs/stable/user_guide/indexing.html#returning-a-view-versus-a-copy\n",
      "  ncbi_individual.dropna(subset=['NCBI_Gene_ID'], inplace=True)\n"
     ]
    },
    {
     "data": {
      "application/vnd.microsoft.datawrangler.viewer.v0+json": {
       "columns": [
        {
         "name": "index",
         "rawType": "int64",
         "type": "integer"
        },
        {
         "name": "ncbi_gene_id",
         "rawType": "object",
         "type": "string"
        },
        {
         "name": "hpo_id",
         "rawType": "object",
         "type": "string"
        },
        {
         "name": "From_ID",
         "rawType": "object",
         "type": "unknown"
        }
       ],
       "conversionMethod": "pd.DataFrame",
       "ref": "c9eab8d6-129f-4144-9ea3-28728b55bf9f",
       "rows": [
        [
         "0",
         "10",
         "HP:0000007",
         "BMG_PT038896"
        ],
        [
         "1",
         "10",
         "HP:0001939",
         "BMG_PT038896"
        ],
        [
         "2",
         "16",
         "HP:0002460",
         "BMG_PT041062;BMG_PT160991"
        ],
        [
         "3",
         "16",
         "HP:0002451",
         "BMG_PT041062;BMG_PT160991"
        ],
        [
         "4",
         "16",
         "HP:0008619",
         "BMG_PT041062;BMG_PT160991"
        ],
        [
         "5",
         "16",
         "HP:0001197",
         "BMG_PT041062;BMG_PT160991"
        ],
        [
         "6",
         "16",
         "HP:0410219",
         "BMG_PT041062;BMG_PT160991"
        ],
        [
         "7",
         "16",
         "HP:0007266",
         "BMG_PT041062;BMG_PT160991"
        ],
        [
         "8",
         "16",
         "HP:0007256",
         "BMG_PT041062;BMG_PT160991"
        ],
        [
         "9",
         "16",
         "HP:0010871",
         "BMG_PT041062;BMG_PT160991"
        ],
        [
         "10",
         "16",
         "HP:0009886",
         "BMG_PT041062;BMG_PT160991"
        ],
        [
         "11",
         "16",
         "HP:0002421",
         "BMG_PT041062;BMG_PT160991"
        ],
        [
         "12",
         "16",
         "HP:0001298",
         "BMG_PT041062;BMG_PT160991"
        ],
        [
         "13",
         "16",
         "HP:0001290",
         "BMG_PT041062;BMG_PT160991"
        ],
        [
         "15",
         "16",
         "HP:0001276",
         "BMG_PT041062;BMG_PT160991"
        ],
        [
         "16",
         "16",
         "HP:0001273",
         "BMG_PT041062;BMG_PT160991"
        ],
        [
         "17",
         "16",
         "HP:0001268",
         "BMG_PT041062;BMG_PT160991"
        ],
        [
         "19",
         "16",
         "HP:0002599",
         "BMG_PT041062;BMG_PT160991"
        ],
        [
         "20",
         "16",
         "HP:0001288",
         "BMG_PT041062;BMG_PT160991"
        ],
        [
         "22",
         "16",
         "HP:0001284",
         "BMG_PT041062;BMG_PT160991"
        ],
        [
         "25",
         "16",
         "HP:0001250",
         "BMG_PT041062;BMG_PT160991"
        ],
        [
         "26",
         "16",
         "HP:0001251",
         "BMG_PT041062;BMG_PT160991"
        ],
        [
         "27",
         "16",
         "HP:0001249",
         "BMG_PT041062;BMG_PT160991"
        ],
        [
         "28",
         "16",
         "HP:0001265",
         "BMG_PT041062;BMG_PT160991"
        ],
        [
         "31",
         "16",
         "HP:0001264",
         "BMG_PT041062;BMG_PT160991"
        ],
        [
         "32",
         "16",
         "HP:0001260",
         "BMG_PT041062;BMG_PT160991"
        ],
        [
         "33",
         "16",
         "HP:0001263",
         "BMG_PT041062;BMG_PT160991"
        ],
        [
         "37",
         "16",
         "HP:0001257",
         "BMG_PT041062;BMG_PT160991"
        ],
        [
         "41",
         "16",
         "HP:0002562",
         "BMG_PT041062;BMG_PT160991"
        ],
        [
         "42",
         "16",
         "HP:0100876",
         "BMG_PT041062;BMG_PT160991"
        ],
        [
         "43",
         "16",
         "HP:0007381",
         "BMG_PT041062;BMG_PT160991"
        ],
        [
         "44",
         "16",
         "HP:0007340",
         "BMG_PT041062;BMG_PT160991"
        ],
        [
         "45",
         "16",
         "HP:0001217",
         "BMG_PT041062;BMG_PT160991"
        ],
        [
         "46",
         "16",
         "HP:0002521",
         "BMG_PT041062;BMG_PT160991"
        ],
        [
         "47",
         "16",
         "HP:0002509",
         "BMG_PT041062;BMG_PT160991"
        ],
        [
         "48",
         "16",
         "HP:0001373",
         "BMG_PT041062;BMG_PT160991"
        ],
        [
         "49",
         "16",
         "HP:0001363",
         "BMG_PT041062;BMG_PT160991"
        ],
        [
         "50",
         "16",
         "HP:0000028",
         "BMG_PT041062;BMG_PT160991"
        ],
        [
         "51",
         "16",
         "HP:0007495",
         "BMG_PT041062;BMG_PT160991"
        ],
        [
         "52",
         "16",
         "HP:0007485",
         "BMG_PT041062;BMG_PT160991"
        ],
        [
         "53",
         "16",
         "HP:0001332",
         "BMG_PT041062;BMG_PT160991"
        ],
        [
         "54",
         "16",
         "HP:0001338",
         "BMG_PT041062;BMG_PT160991"
        ],
        [
         "55",
         "16",
         "HP:0000007",
         "BMG_PT041062;BMG_PT160991"
        ],
        [
         "57",
         "16",
         "HP:0001337",
         "BMG_PT041062;BMG_PT160991"
        ],
        [
         "58",
         "16",
         "HP:0000006",
         "BMG_PT041062;BMG_PT160991"
        ],
        [
         "60",
         "16",
         "HP:0001336",
         "BMG_PT041062;BMG_PT160991"
        ],
        [
         "61",
         "16",
         "HP:0001315",
         "BMG_PT041062;BMG_PT160991"
        ],
        [
         "62",
         "16",
         "HP:0012196",
         "BMG_PT041062;BMG_PT160991"
        ],
        [
         "63",
         "16",
         "HP:0012179",
         "BMG_PT041062;BMG_PT160991"
        ],
        [
         "64",
         "16",
         "HP:0007633",
         "BMG_PT041062;BMG_PT160991"
        ]
       ],
       "shape": {
        "columns": 3,
        "rows": 259118
       }
      },
      "text/html": [
       "<div>\n",
       "<style scoped>\n",
       "    .dataframe tbody tr th:only-of-type {\n",
       "        vertical-align: middle;\n",
       "    }\n",
       "\n",
       "    .dataframe tbody tr th {\n",
       "        vertical-align: top;\n",
       "    }\n",
       "\n",
       "    .dataframe thead th {\n",
       "        text-align: right;\n",
       "    }\n",
       "</style>\n",
       "<table border=\"1\" class=\"dataframe\">\n",
       "  <thead>\n",
       "    <tr style=\"text-align: right;\">\n",
       "      <th></th>\n",
       "      <th>ncbi_gene_id</th>\n",
       "      <th>hpo_id</th>\n",
       "      <th>From_ID</th>\n",
       "    </tr>\n",
       "  </thead>\n",
       "  <tbody>\n",
       "    <tr>\n",
       "      <th>0</th>\n",
       "      <td>10</td>\n",
       "      <td>HP:0000007</td>\n",
       "      <td>BMG_PT038896</td>\n",
       "    </tr>\n",
       "    <tr>\n",
       "      <th>1</th>\n",
       "      <td>10</td>\n",
       "      <td>HP:0001939</td>\n",
       "      <td>BMG_PT038896</td>\n",
       "    </tr>\n",
       "    <tr>\n",
       "      <th>2</th>\n",
       "      <td>16</td>\n",
       "      <td>HP:0002460</td>\n",
       "      <td>BMG_PT041062;BMG_PT160991</td>\n",
       "    </tr>\n",
       "    <tr>\n",
       "      <th>3</th>\n",
       "      <td>16</td>\n",
       "      <td>HP:0002451</td>\n",
       "      <td>BMG_PT041062;BMG_PT160991</td>\n",
       "    </tr>\n",
       "    <tr>\n",
       "      <th>4</th>\n",
       "      <td>16</td>\n",
       "      <td>HP:0008619</td>\n",
       "      <td>BMG_PT041062;BMG_PT160991</td>\n",
       "    </tr>\n",
       "    <tr>\n",
       "      <th>...</th>\n",
       "      <td>...</td>\n",
       "      <td>...</td>\n",
       "      <td>...</td>\n",
       "    </tr>\n",
       "    <tr>\n",
       "      <th>316713</th>\n",
       "      <td>120766137</td>\n",
       "      <td>HP:0002209</td>\n",
       "      <td>BMG_PT038750</td>\n",
       "    </tr>\n",
       "    <tr>\n",
       "      <th>316714</th>\n",
       "      <td>120766137</td>\n",
       "      <td>HP:0000653</td>\n",
       "      <td>BMG_PT038750</td>\n",
       "    </tr>\n",
       "    <tr>\n",
       "      <th>316715</th>\n",
       "      <td>120766137</td>\n",
       "      <td>HP:0045075</td>\n",
       "      <td>BMG_PT038750</td>\n",
       "    </tr>\n",
       "    <tr>\n",
       "      <th>316716</th>\n",
       "      <td>120766137</td>\n",
       "      <td>HP:0001596</td>\n",
       "      <td>BMG_PT038750</td>\n",
       "    </tr>\n",
       "    <tr>\n",
       "      <th>316717</th>\n",
       "      <td>120766137</td>\n",
       "      <td>HP:0030056</td>\n",
       "      <td>BMG_PT038750</td>\n",
       "    </tr>\n",
       "  </tbody>\n",
       "</table>\n",
       "<p>259118 rows × 3 columns</p>\n",
       "</div>"
      ],
      "text/plain": [
       "       ncbi_gene_id      hpo_id                    From_ID\n",
       "0                10  HP:0000007               BMG_PT038896\n",
       "1                10  HP:0001939               BMG_PT038896\n",
       "2                16  HP:0002460  BMG_PT041062;BMG_PT160991\n",
       "3                16  HP:0002451  BMG_PT041062;BMG_PT160991\n",
       "4                16  HP:0008619  BMG_PT041062;BMG_PT160991\n",
       "...             ...         ...                        ...\n",
       "316713    120766137  HP:0002209               BMG_PT038750\n",
       "316714    120766137  HP:0000653               BMG_PT038750\n",
       "316715    120766137  HP:0045075               BMG_PT038750\n",
       "316716    120766137  HP:0001596               BMG_PT038750\n",
       "316717    120766137  HP:0030056               BMG_PT038750\n",
       "\n",
       "[259118 rows x 3 columns]"
      ]
     },
     "execution_count": 3,
     "metadata": {},
     "output_type": "execute_result"
    }
   ],
   "source": [
    "ncbi_individual = biomedgraphica_protein[['NCBI_Gene_ID', 'BioMedGraphica_ID']]\n",
    "ncbi_individual.dropna(subset=['NCBI_Gene_ID'], inplace=True)\n",
    "ncbi_individual = ncbi_individual.assign(NCBI_Gene_ID=ncbi_individual['NCBI_Gene_ID'].str.split(';')).explode('NCBI_Gene_ID')\n",
    "\n",
    "ncbi_to_individual = ncbi_individual.groupby('NCBI_Gene_ID')['BioMedGraphica_ID'].apply(lambda x: ';'.join(x.dropna().unique())).to_dict()\n",
    "\n",
    "df_protein_phen['From_ID'] = df_protein_phen['ncbi_gene_id'].map(ncbi_to_individual)\n",
    "df_protein_phen"
   ]
  },
  {
   "cell_type": "code",
   "execution_count": 4,
   "metadata": {},
   "outputs": [
    {
     "name": "stderr",
     "output_type": "stream",
     "text": [
      "C:\\Users\\shunn\\AppData\\Local\\Temp\\ipykernel_17864\\3775550751.py:2: SettingWithCopyWarning: \n",
      "A value is trying to be set on a copy of a slice from a DataFrame\n",
      "\n",
      "See the caveats in the documentation: https://pandas.pydata.org/pandas-docs/stable/user_guide/indexing.html#returning-a-view-versus-a-copy\n",
      "  hpo_individual.dropna(subset=['HPO_ID'], inplace=True)\n"
     ]
    },
    {
     "data": {
      "application/vnd.microsoft.datawrangler.viewer.v0+json": {
       "columns": [
        {
         "name": "index",
         "rawType": "int64",
         "type": "integer"
        },
        {
         "name": "ncbi_gene_id",
         "rawType": "object",
         "type": "string"
        },
        {
         "name": "hpo_id",
         "rawType": "object",
         "type": "string"
        },
        {
         "name": "From_ID",
         "rawType": "object",
         "type": "unknown"
        },
        {
         "name": "To_ID",
         "rawType": "object",
         "type": "string"
        }
       ],
       "conversionMethod": "pd.DataFrame",
       "ref": "bd0a3010-960d-4650-8325-93d3d26150fa",
       "rows": [
        [
         "0",
         "10",
         "HP:0000007",
         "BMG_PT038896",
         "BMG_PH00005"
        ],
        [
         "1",
         "10",
         "HP:0001939",
         "BMG_PT038896",
         "BMG_PH01448"
        ],
        [
         "2",
         "16",
         "HP:0002460",
         "BMG_PT041062;BMG_PT160991",
         "BMG_PH01835"
        ],
        [
         "3",
         "16",
         "HP:0002451",
         "BMG_PT041062;BMG_PT160991",
         "BMG_PH01830"
        ],
        [
         "4",
         "16",
         "HP:0008619",
         "BMG_PT041062;BMG_PT160991",
         "BMG_PH05649"
        ],
        [
         "5",
         "16",
         "HP:0001197",
         "BMG_PT041062;BMG_PT160991",
         "BMG_PH00945"
        ],
        [
         "6",
         "16",
         "HP:0410219",
         "BMG_PT041062;BMG_PT160991",
         "BMG_PH17209"
        ],
        [
         "7",
         "16",
         "HP:0007266",
         "BMG_PT041062;BMG_PT160991",
         "BMG_PH04815"
        ],
        [
         "8",
         "16",
         "HP:0007256",
         "BMG_PT041062;BMG_PT160991",
         "BMG_PH04809"
        ],
        [
         "9",
         "16",
         "HP:0010871",
         "BMG_PT041062;BMG_PT160991",
         "BMG_PH07537"
        ],
        [
         "10",
         "16",
         "HP:0009886",
         "BMG_PT041062;BMG_PT160991",
         "BMG_PH06597"
        ],
        [
         "11",
         "16",
         "HP:0002421",
         "BMG_PT041062;BMG_PT160991",
         "BMG_PH01816"
        ],
        [
         "12",
         "16",
         "HP:0001298",
         "BMG_PT041062;BMG_PT160991",
         "BMG_PH01006"
        ],
        [
         "13",
         "16",
         "HP:0001290",
         "BMG_PT041062;BMG_PT160991",
         "BMG_PH01002"
        ],
        [
         "15",
         "16",
         "HP:0001276",
         "BMG_PT041062;BMG_PT160991",
         "BMG_PH00992"
        ],
        [
         "16",
         "16",
         "HP:0001273",
         "BMG_PT041062;BMG_PT160991",
         "BMG_PH00990"
        ],
        [
         "17",
         "16",
         "HP:0001268",
         "BMG_PT041062;BMG_PT160991",
         "BMG_PH00985"
        ],
        [
         "19",
         "16",
         "HP:0002599",
         "BMG_PT041062;BMG_PT160991",
         "BMG_PH01931"
        ],
        [
         "20",
         "16",
         "HP:0001288",
         "BMG_PT041062;BMG_PT160991",
         "BMG_PH01000"
        ],
        [
         "22",
         "16",
         "HP:0001284",
         "BMG_PT041062;BMG_PT160991",
         "BMG_PH00997"
        ],
        [
         "25",
         "16",
         "HP:0001250",
         "BMG_PT041062;BMG_PT160991",
         "BMG_PH00971"
        ],
        [
         "26",
         "16",
         "HP:0001251",
         "BMG_PT041062;BMG_PT160991",
         "BMG_PH00972"
        ],
        [
         "27",
         "16",
         "HP:0001249",
         "BMG_PT041062;BMG_PT160991",
         "BMG_PH00970"
        ],
        [
         "28",
         "16",
         "HP:0001265",
         "BMG_PT041062;BMG_PT160991",
         "BMG_PH00983"
        ],
        [
         "31",
         "16",
         "HP:0001264",
         "BMG_PT041062;BMG_PT160991",
         "BMG_PH00982"
        ],
        [
         "32",
         "16",
         "HP:0001260",
         "BMG_PT041062;BMG_PT160991",
         "BMG_PH00979"
        ],
        [
         "33",
         "16",
         "HP:0001263",
         "BMG_PT041062;BMG_PT160991",
         "BMG_PH00981"
        ],
        [
         "37",
         "16",
         "HP:0001257",
         "BMG_PT041062;BMG_PT160991",
         "BMG_PH00976"
        ],
        [
         "41",
         "16",
         "HP:0002562",
         "BMG_PT041062;BMG_PT160991",
         "BMG_PH01901"
        ],
        [
         "42",
         "16",
         "HP:0100876",
         "BMG_PT041062;BMG_PT160991",
         "BMG_PH16873"
        ],
        [
         "43",
         "16",
         "HP:0007381",
         "BMG_PT041062;BMG_PT160991",
         "BMG_PH04884"
        ],
        [
         "44",
         "16",
         "HP:0007340",
         "BMG_PT041062;BMG_PT160991",
         "BMG_PH04853"
        ],
        [
         "45",
         "16",
         "HP:0001217",
         "BMG_PT041062;BMG_PT160991",
         "BMG_PH00952"
        ],
        [
         "46",
         "16",
         "HP:0002521",
         "BMG_PT041062;BMG_PT160991",
         "BMG_PH01875"
        ],
        [
         "47",
         "16",
         "HP:0002509",
         "BMG_PT041062;BMG_PT160991",
         "BMG_PH01866"
        ],
        [
         "48",
         "16",
         "HP:0001373",
         "BMG_PT041062;BMG_PT160991",
         "BMG_PH01056"
        ],
        [
         "49",
         "16",
         "HP:0001363",
         "BMG_PT041062;BMG_PT160991",
         "BMG_PH01051"
        ],
        [
         "50",
         "16",
         "HP:0000028",
         "BMG_PT041062;BMG_PT160991",
         "BMG_PH00025"
        ],
        [
         "51",
         "16",
         "HP:0007495",
         "BMG_PT041062;BMG_PT160991",
         "BMG_PH04968"
        ],
        [
         "52",
         "16",
         "HP:0007485",
         "BMG_PT041062;BMG_PT160991",
         "BMG_PH04962"
        ],
        [
         "53",
         "16",
         "HP:0001332",
         "BMG_PT041062;BMG_PT160991",
         "BMG_PH01028"
        ],
        [
         "54",
         "16",
         "HP:0001338",
         "BMG_PT041062;BMG_PT160991",
         "BMG_PH01033"
        ],
        [
         "55",
         "16",
         "HP:0000007",
         "BMG_PT041062;BMG_PT160991",
         "BMG_PH00005"
        ],
        [
         "57",
         "16",
         "HP:0001337",
         "BMG_PT041062;BMG_PT160991",
         "BMG_PH01032"
        ],
        [
         "58",
         "16",
         "HP:0000006",
         "BMG_PT041062;BMG_PT160991",
         "BMG_PH00004"
        ],
        [
         "60",
         "16",
         "HP:0001336",
         "BMG_PT041062;BMG_PT160991",
         "BMG_PH01031"
        ],
        [
         "61",
         "16",
         "HP:0001315",
         "BMG_PT041062;BMG_PT160991",
         "BMG_PH01016"
        ],
        [
         "62",
         "16",
         "HP:0012196",
         "BMG_PT041062;BMG_PT160991",
         "BMG_PH08848"
        ],
        [
         "63",
         "16",
         "HP:0012179",
         "BMG_PT041062;BMG_PT160991",
         "BMG_PH08831"
        ],
        [
         "64",
         "16",
         "HP:0007633",
         "BMG_PT041062;BMG_PT160991",
         "BMG_PH05056"
        ]
       ],
       "shape": {
        "columns": 4,
        "rows": 259118
       }
      },
      "text/html": [
       "<div>\n",
       "<style scoped>\n",
       "    .dataframe tbody tr th:only-of-type {\n",
       "        vertical-align: middle;\n",
       "    }\n",
       "\n",
       "    .dataframe tbody tr th {\n",
       "        vertical-align: top;\n",
       "    }\n",
       "\n",
       "    .dataframe thead th {\n",
       "        text-align: right;\n",
       "    }\n",
       "</style>\n",
       "<table border=\"1\" class=\"dataframe\">\n",
       "  <thead>\n",
       "    <tr style=\"text-align: right;\">\n",
       "      <th></th>\n",
       "      <th>ncbi_gene_id</th>\n",
       "      <th>hpo_id</th>\n",
       "      <th>From_ID</th>\n",
       "      <th>To_ID</th>\n",
       "    </tr>\n",
       "  </thead>\n",
       "  <tbody>\n",
       "    <tr>\n",
       "      <th>0</th>\n",
       "      <td>10</td>\n",
       "      <td>HP:0000007</td>\n",
       "      <td>BMG_PT038896</td>\n",
       "      <td>BMG_PH00005</td>\n",
       "    </tr>\n",
       "    <tr>\n",
       "      <th>1</th>\n",
       "      <td>10</td>\n",
       "      <td>HP:0001939</td>\n",
       "      <td>BMG_PT038896</td>\n",
       "      <td>BMG_PH01448</td>\n",
       "    </tr>\n",
       "    <tr>\n",
       "      <th>2</th>\n",
       "      <td>16</td>\n",
       "      <td>HP:0002460</td>\n",
       "      <td>BMG_PT041062;BMG_PT160991</td>\n",
       "      <td>BMG_PH01835</td>\n",
       "    </tr>\n",
       "    <tr>\n",
       "      <th>3</th>\n",
       "      <td>16</td>\n",
       "      <td>HP:0002451</td>\n",
       "      <td>BMG_PT041062;BMG_PT160991</td>\n",
       "      <td>BMG_PH01830</td>\n",
       "    </tr>\n",
       "    <tr>\n",
       "      <th>4</th>\n",
       "      <td>16</td>\n",
       "      <td>HP:0008619</td>\n",
       "      <td>BMG_PT041062;BMG_PT160991</td>\n",
       "      <td>BMG_PH05649</td>\n",
       "    </tr>\n",
       "    <tr>\n",
       "      <th>...</th>\n",
       "      <td>...</td>\n",
       "      <td>...</td>\n",
       "      <td>...</td>\n",
       "      <td>...</td>\n",
       "    </tr>\n",
       "    <tr>\n",
       "      <th>316713</th>\n",
       "      <td>120766137</td>\n",
       "      <td>HP:0002209</td>\n",
       "      <td>BMG_PT038750</td>\n",
       "      <td>BMG_PH01670</td>\n",
       "    </tr>\n",
       "    <tr>\n",
       "      <th>316714</th>\n",
       "      <td>120766137</td>\n",
       "      <td>HP:0000653</td>\n",
       "      <td>BMG_PT038750</td>\n",
       "      <td>BMG_PH00517</td>\n",
       "    </tr>\n",
       "    <tr>\n",
       "      <th>316715</th>\n",
       "      <td>120766137</td>\n",
       "      <td>HP:0045075</td>\n",
       "      <td>BMG_PT038750</td>\n",
       "      <td>BMG_PH16020</td>\n",
       "    </tr>\n",
       "    <tr>\n",
       "      <th>316716</th>\n",
       "      <td>120766137</td>\n",
       "      <td>HP:0001596</td>\n",
       "      <td>BMG_PT038750</td>\n",
       "      <td>BMG_PH01194</td>\n",
       "    </tr>\n",
       "    <tr>\n",
       "      <th>316717</th>\n",
       "      <td>120766137</td>\n",
       "      <td>HP:0030056</td>\n",
       "      <td>BMG_PT038750</td>\n",
       "      <td>BMG_PH10610</td>\n",
       "    </tr>\n",
       "  </tbody>\n",
       "</table>\n",
       "<p>259118 rows × 4 columns</p>\n",
       "</div>"
      ],
      "text/plain": [
       "       ncbi_gene_id      hpo_id                    From_ID        To_ID\n",
       "0                10  HP:0000007               BMG_PT038896  BMG_PH00005\n",
       "1                10  HP:0001939               BMG_PT038896  BMG_PH01448\n",
       "2                16  HP:0002460  BMG_PT041062;BMG_PT160991  BMG_PH01835\n",
       "3                16  HP:0002451  BMG_PT041062;BMG_PT160991  BMG_PH01830\n",
       "4                16  HP:0008619  BMG_PT041062;BMG_PT160991  BMG_PH05649\n",
       "...             ...         ...                        ...          ...\n",
       "316713    120766137  HP:0002209               BMG_PT038750  BMG_PH01670\n",
       "316714    120766137  HP:0000653               BMG_PT038750  BMG_PH00517\n",
       "316715    120766137  HP:0045075               BMG_PT038750  BMG_PH16020\n",
       "316716    120766137  HP:0001596               BMG_PT038750  BMG_PH01194\n",
       "316717    120766137  HP:0030056               BMG_PT038750  BMG_PH10610\n",
       "\n",
       "[259118 rows x 4 columns]"
      ]
     },
     "execution_count": 4,
     "metadata": {},
     "output_type": "execute_result"
    }
   ],
   "source": [
    "hpo_individual = biomedgraphica_phenotype[['HPO_ID', 'BioMedGraphica_ID']]\n",
    "hpo_individual.dropna(subset=['HPO_ID'], inplace=True)\n",
    "hpo_individual = hpo_individual.assign(HPO_ID=hpo_individual['HPO_ID'].str.split(';')).explode('HPO_ID')\n",
    "\n",
    "hpo_to_individual = hpo_individual.groupby('HPO_ID')['BioMedGraphica_ID'].apply(lambda x: ';'.join(x.dropna().unique())).to_dict()\n",
    "\n",
    "df_protein_phen['To_ID'] = df_protein_phen['hpo_id'].map(hpo_to_individual)\n",
    "df_protein_phen"
   ]
  },
  {
   "cell_type": "code",
   "execution_count": 5,
   "metadata": {},
   "outputs": [
    {
     "name": "stderr",
     "output_type": "stream",
     "text": [
      "C:\\Users\\shunn\\AppData\\Local\\Temp\\ipykernel_17864\\2945732933.py:2: SettingWithCopyWarning: \n",
      "A value is trying to be set on a copy of a slice from a DataFrame\n",
      "\n",
      "See the caveats in the documentation: https://pandas.pydata.org/pandas-docs/stable/user_guide/indexing.html#returning-a-view-versus-a-copy\n",
      "  protein_phen.dropna(subset=['From_ID'], inplace=True)\n",
      "C:\\Users\\shunn\\AppData\\Local\\Temp\\ipykernel_17864\\2945732933.py:3: SettingWithCopyWarning: \n",
      "A value is trying to be set on a copy of a slice from a DataFrame\n",
      "\n",
      "See the caveats in the documentation: https://pandas.pydata.org/pandas-docs/stable/user_guide/indexing.html#returning-a-view-versus-a-copy\n",
      "  protein_phen.dropna(subset=['To_ID'], inplace=True)\n"
     ]
    },
    {
     "data": {
      "application/vnd.microsoft.datawrangler.viewer.v0+json": {
       "columns": [
        {
         "name": "index",
         "rawType": "int64",
         "type": "integer"
        },
        {
         "name": "From_ID",
         "rawType": "object",
         "type": "string"
        },
        {
         "name": "To_ID",
         "rawType": "object",
         "type": "string"
        }
       ],
       "conversionMethod": "pd.DataFrame",
       "ref": "240aa51a-2388-4a23-9c21-81b04d2a82a2",
       "rows": [
        [
         "0",
         "BMG_PT038896",
         "BMG_PH00005"
        ],
        [
         "1",
         "BMG_PT038896",
         "BMG_PH01448"
        ],
        [
         "2",
         "BMG_PT041062;BMG_PT160991",
         "BMG_PH01835"
        ],
        [
         "3",
         "BMG_PT041062;BMG_PT160991",
         "BMG_PH01830"
        ],
        [
         "4",
         "BMG_PT041062;BMG_PT160991",
         "BMG_PH05649"
        ],
        [
         "5",
         "BMG_PT041062;BMG_PT160991",
         "BMG_PH00945"
        ],
        [
         "6",
         "BMG_PT041062;BMG_PT160991",
         "BMG_PH17209"
        ],
        [
         "7",
         "BMG_PT041062;BMG_PT160991",
         "BMG_PH04815"
        ],
        [
         "8",
         "BMG_PT041062;BMG_PT160991",
         "BMG_PH04809"
        ],
        [
         "9",
         "BMG_PT041062;BMG_PT160991",
         "BMG_PH07537"
        ],
        [
         "10",
         "BMG_PT041062;BMG_PT160991",
         "BMG_PH06597"
        ],
        [
         "11",
         "BMG_PT041062;BMG_PT160991",
         "BMG_PH01816"
        ],
        [
         "12",
         "BMG_PT041062;BMG_PT160991",
         "BMG_PH01006"
        ],
        [
         "13",
         "BMG_PT041062;BMG_PT160991",
         "BMG_PH01002"
        ],
        [
         "15",
         "BMG_PT041062;BMG_PT160991",
         "BMG_PH00992"
        ],
        [
         "16",
         "BMG_PT041062;BMG_PT160991",
         "BMG_PH00990"
        ],
        [
         "17",
         "BMG_PT041062;BMG_PT160991",
         "BMG_PH00985"
        ],
        [
         "19",
         "BMG_PT041062;BMG_PT160991",
         "BMG_PH01931"
        ],
        [
         "20",
         "BMG_PT041062;BMG_PT160991",
         "BMG_PH01000"
        ],
        [
         "22",
         "BMG_PT041062;BMG_PT160991",
         "BMG_PH00997"
        ],
        [
         "25",
         "BMG_PT041062;BMG_PT160991",
         "BMG_PH00971"
        ],
        [
         "26",
         "BMG_PT041062;BMG_PT160991",
         "BMG_PH00972"
        ],
        [
         "27",
         "BMG_PT041062;BMG_PT160991",
         "BMG_PH00970"
        ],
        [
         "28",
         "BMG_PT041062;BMG_PT160991",
         "BMG_PH00983"
        ],
        [
         "31",
         "BMG_PT041062;BMG_PT160991",
         "BMG_PH00982"
        ],
        [
         "32",
         "BMG_PT041062;BMG_PT160991",
         "BMG_PH00979"
        ],
        [
         "33",
         "BMG_PT041062;BMG_PT160991",
         "BMG_PH00981"
        ],
        [
         "37",
         "BMG_PT041062;BMG_PT160991",
         "BMG_PH00976"
        ],
        [
         "41",
         "BMG_PT041062;BMG_PT160991",
         "BMG_PH01901"
        ],
        [
         "42",
         "BMG_PT041062;BMG_PT160991",
         "BMG_PH16873"
        ],
        [
         "43",
         "BMG_PT041062;BMG_PT160991",
         "BMG_PH04884"
        ],
        [
         "44",
         "BMG_PT041062;BMG_PT160991",
         "BMG_PH04853"
        ],
        [
         "45",
         "BMG_PT041062;BMG_PT160991",
         "BMG_PH00952"
        ],
        [
         "46",
         "BMG_PT041062;BMG_PT160991",
         "BMG_PH01875"
        ],
        [
         "47",
         "BMG_PT041062;BMG_PT160991",
         "BMG_PH01866"
        ],
        [
         "48",
         "BMG_PT041062;BMG_PT160991",
         "BMG_PH01056"
        ],
        [
         "49",
         "BMG_PT041062;BMG_PT160991",
         "BMG_PH01051"
        ],
        [
         "50",
         "BMG_PT041062;BMG_PT160991",
         "BMG_PH00025"
        ],
        [
         "51",
         "BMG_PT041062;BMG_PT160991",
         "BMG_PH04968"
        ],
        [
         "52",
         "BMG_PT041062;BMG_PT160991",
         "BMG_PH04962"
        ],
        [
         "53",
         "BMG_PT041062;BMG_PT160991",
         "BMG_PH01028"
        ],
        [
         "54",
         "BMG_PT041062;BMG_PT160991",
         "BMG_PH01033"
        ],
        [
         "55",
         "BMG_PT041062;BMG_PT160991",
         "BMG_PH00005"
        ],
        [
         "57",
         "BMG_PT041062;BMG_PT160991",
         "BMG_PH01032"
        ],
        [
         "58",
         "BMG_PT041062;BMG_PT160991",
         "BMG_PH00004"
        ],
        [
         "60",
         "BMG_PT041062;BMG_PT160991",
         "BMG_PH01031"
        ],
        [
         "61",
         "BMG_PT041062;BMG_PT160991",
         "BMG_PH01016"
        ],
        [
         "62",
         "BMG_PT041062;BMG_PT160991",
         "BMG_PH08848"
        ],
        [
         "63",
         "BMG_PT041062;BMG_PT160991",
         "BMG_PH08831"
        ],
        [
         "64",
         "BMG_PT041062;BMG_PT160991",
         "BMG_PH05056"
        ]
       ],
       "shape": {
        "columns": 2,
        "rows": 255171
       }
      },
      "text/html": [
       "<div>\n",
       "<style scoped>\n",
       "    .dataframe tbody tr th:only-of-type {\n",
       "        vertical-align: middle;\n",
       "    }\n",
       "\n",
       "    .dataframe tbody tr th {\n",
       "        vertical-align: top;\n",
       "    }\n",
       "\n",
       "    .dataframe thead th {\n",
       "        text-align: right;\n",
       "    }\n",
       "</style>\n",
       "<table border=\"1\" class=\"dataframe\">\n",
       "  <thead>\n",
       "    <tr style=\"text-align: right;\">\n",
       "      <th></th>\n",
       "      <th>From_ID</th>\n",
       "      <th>To_ID</th>\n",
       "    </tr>\n",
       "  </thead>\n",
       "  <tbody>\n",
       "    <tr>\n",
       "      <th>0</th>\n",
       "      <td>BMG_PT038896</td>\n",
       "      <td>BMG_PH00005</td>\n",
       "    </tr>\n",
       "    <tr>\n",
       "      <th>1</th>\n",
       "      <td>BMG_PT038896</td>\n",
       "      <td>BMG_PH01448</td>\n",
       "    </tr>\n",
       "    <tr>\n",
       "      <th>2</th>\n",
       "      <td>BMG_PT041062;BMG_PT160991</td>\n",
       "      <td>BMG_PH01835</td>\n",
       "    </tr>\n",
       "    <tr>\n",
       "      <th>3</th>\n",
       "      <td>BMG_PT041062;BMG_PT160991</td>\n",
       "      <td>BMG_PH01830</td>\n",
       "    </tr>\n",
       "    <tr>\n",
       "      <th>4</th>\n",
       "      <td>BMG_PT041062;BMG_PT160991</td>\n",
       "      <td>BMG_PH05649</td>\n",
       "    </tr>\n",
       "    <tr>\n",
       "      <th>...</th>\n",
       "      <td>...</td>\n",
       "      <td>...</td>\n",
       "    </tr>\n",
       "    <tr>\n",
       "      <th>316713</th>\n",
       "      <td>BMG_PT038750</td>\n",
       "      <td>BMG_PH01670</td>\n",
       "    </tr>\n",
       "    <tr>\n",
       "      <th>316714</th>\n",
       "      <td>BMG_PT038750</td>\n",
       "      <td>BMG_PH00517</td>\n",
       "    </tr>\n",
       "    <tr>\n",
       "      <th>316715</th>\n",
       "      <td>BMG_PT038750</td>\n",
       "      <td>BMG_PH16020</td>\n",
       "    </tr>\n",
       "    <tr>\n",
       "      <th>316716</th>\n",
       "      <td>BMG_PT038750</td>\n",
       "      <td>BMG_PH01194</td>\n",
       "    </tr>\n",
       "    <tr>\n",
       "      <th>316717</th>\n",
       "      <td>BMG_PT038750</td>\n",
       "      <td>BMG_PH10610</td>\n",
       "    </tr>\n",
       "  </tbody>\n",
       "</table>\n",
       "<p>255171 rows × 2 columns</p>\n",
       "</div>"
      ],
      "text/plain": [
       "                          From_ID        To_ID\n",
       "0                    BMG_PT038896  BMG_PH00005\n",
       "1                    BMG_PT038896  BMG_PH01448\n",
       "2       BMG_PT041062;BMG_PT160991  BMG_PH01835\n",
       "3       BMG_PT041062;BMG_PT160991  BMG_PH01830\n",
       "4       BMG_PT041062;BMG_PT160991  BMG_PH05649\n",
       "...                           ...          ...\n",
       "316713               BMG_PT038750  BMG_PH01670\n",
       "316714               BMG_PT038750  BMG_PH00517\n",
       "316715               BMG_PT038750  BMG_PH16020\n",
       "316716               BMG_PT038750  BMG_PH01194\n",
       "316717               BMG_PT038750  BMG_PH10610\n",
       "\n",
       "[255171 rows x 2 columns]"
      ]
     },
     "execution_count": 5,
     "metadata": {},
     "output_type": "execute_result"
    }
   ],
   "source": [
    "protein_phen = df_protein_phen[['From_ID', 'To_ID']]\n",
    "protein_phen.dropna(subset=['From_ID'], inplace=True)\n",
    "protein_phen.dropna(subset=['To_ID'], inplace=True)\n",
    "protein_phen"
   ]
  },
  {
   "cell_type": "code",
   "execution_count": 6,
   "metadata": {},
   "outputs": [
    {
     "name": "stderr",
     "output_type": "stream",
     "text": [
      "C:\\Users\\shunn\\AppData\\Local\\Temp\\ipykernel_17864\\1848097353.py:1: SettingWithCopyWarning: \n",
      "A value is trying to be set on a copy of a slice from a DataFrame.\n",
      "Try using .loc[row_indexer,col_indexer] = value instead\n",
      "\n",
      "See the caveats in the documentation: https://pandas.pydata.org/pandas-docs/stable/user_guide/indexing.html#returning-a-view-versus-a-copy\n",
      "  protein_phen['From_ID'] = protein_phen['From_ID'].str.split(';')\n",
      "C:\\Users\\shunn\\AppData\\Local\\Temp\\ipykernel_17864\\1848097353.py:2: SettingWithCopyWarning: \n",
      "A value is trying to be set on a copy of a slice from a DataFrame.\n",
      "Try using .loc[row_indexer,col_indexer] = value instead\n",
      "\n",
      "See the caveats in the documentation: https://pandas.pydata.org/pandas-docs/stable/user_guide/indexing.html#returning-a-view-versus-a-copy\n",
      "  protein_phen['To_ID'] = protein_phen['To_ID'].str.split(';')\n"
     ]
    },
    {
     "data": {
      "application/vnd.microsoft.datawrangler.viewer.v0+json": {
       "columns": [
        {
         "name": "index",
         "rawType": "int64",
         "type": "integer"
        },
        {
         "name": "From_ID",
         "rawType": "object",
         "type": "string"
        },
        {
         "name": "To_ID",
         "rawType": "object",
         "type": "string"
        }
       ],
       "conversionMethod": "pd.DataFrame",
       "ref": "785ed408-1727-49d7-9bdf-ae8f58b75649",
       "rows": [
        [
         "0",
         "BMG_PT038896",
         "BMG_PH00005"
        ],
        [
         "1",
         "BMG_PT038896",
         "BMG_PH01448"
        ],
        [
         "2",
         "BMG_PT041062",
         "BMG_PH01835"
        ],
        [
         "2",
         "BMG_PT160991",
         "BMG_PH01835"
        ],
        [
         "3",
         "BMG_PT041062",
         "BMG_PH01830"
        ],
        [
         "3",
         "BMG_PT160991",
         "BMG_PH01830"
        ],
        [
         "4",
         "BMG_PT041062",
         "BMG_PH05649"
        ],
        [
         "4",
         "BMG_PT160991",
         "BMG_PH05649"
        ],
        [
         "5",
         "BMG_PT041062",
         "BMG_PH00945"
        ],
        [
         "5",
         "BMG_PT160991",
         "BMG_PH00945"
        ],
        [
         "6",
         "BMG_PT041062",
         "BMG_PH17209"
        ],
        [
         "6",
         "BMG_PT160991",
         "BMG_PH17209"
        ],
        [
         "7",
         "BMG_PT041062",
         "BMG_PH04815"
        ],
        [
         "7",
         "BMG_PT160991",
         "BMG_PH04815"
        ],
        [
         "8",
         "BMG_PT041062",
         "BMG_PH04809"
        ],
        [
         "8",
         "BMG_PT160991",
         "BMG_PH04809"
        ],
        [
         "9",
         "BMG_PT041062",
         "BMG_PH07537"
        ],
        [
         "9",
         "BMG_PT160991",
         "BMG_PH07537"
        ],
        [
         "10",
         "BMG_PT041062",
         "BMG_PH06597"
        ],
        [
         "10",
         "BMG_PT160991",
         "BMG_PH06597"
        ],
        [
         "11",
         "BMG_PT041062",
         "BMG_PH01816"
        ],
        [
         "11",
         "BMG_PT160991",
         "BMG_PH01816"
        ],
        [
         "12",
         "BMG_PT041062",
         "BMG_PH01006"
        ],
        [
         "12",
         "BMG_PT160991",
         "BMG_PH01006"
        ],
        [
         "13",
         "BMG_PT041062",
         "BMG_PH01002"
        ],
        [
         "13",
         "BMG_PT160991",
         "BMG_PH01002"
        ],
        [
         "15",
         "BMG_PT041062",
         "BMG_PH00992"
        ],
        [
         "15",
         "BMG_PT160991",
         "BMG_PH00992"
        ],
        [
         "16",
         "BMG_PT041062",
         "BMG_PH00990"
        ],
        [
         "16",
         "BMG_PT160991",
         "BMG_PH00990"
        ],
        [
         "17",
         "BMG_PT041062",
         "BMG_PH00985"
        ],
        [
         "17",
         "BMG_PT160991",
         "BMG_PH00985"
        ],
        [
         "19",
         "BMG_PT041062",
         "BMG_PH01931"
        ],
        [
         "19",
         "BMG_PT160991",
         "BMG_PH01931"
        ],
        [
         "20",
         "BMG_PT041062",
         "BMG_PH01000"
        ],
        [
         "20",
         "BMG_PT160991",
         "BMG_PH01000"
        ],
        [
         "22",
         "BMG_PT041062",
         "BMG_PH00997"
        ],
        [
         "22",
         "BMG_PT160991",
         "BMG_PH00997"
        ],
        [
         "25",
         "BMG_PT041062",
         "BMG_PH00971"
        ],
        [
         "25",
         "BMG_PT160991",
         "BMG_PH00971"
        ],
        [
         "26",
         "BMG_PT041062",
         "BMG_PH00972"
        ],
        [
         "26",
         "BMG_PT160991",
         "BMG_PH00972"
        ],
        [
         "27",
         "BMG_PT041062",
         "BMG_PH00970"
        ],
        [
         "27",
         "BMG_PT160991",
         "BMG_PH00970"
        ],
        [
         "28",
         "BMG_PT041062",
         "BMG_PH00983"
        ],
        [
         "28",
         "BMG_PT160991",
         "BMG_PH00983"
        ],
        [
         "31",
         "BMG_PT041062",
         "BMG_PH00982"
        ],
        [
         "31",
         "BMG_PT160991",
         "BMG_PH00982"
        ],
        [
         "32",
         "BMG_PT041062",
         "BMG_PH00979"
        ],
        [
         "32",
         "BMG_PT160991",
         "BMG_PH00979"
        ]
       ],
       "shape": {
        "columns": 2,
        "rows": 478279
       }
      },
      "text/html": [
       "<div>\n",
       "<style scoped>\n",
       "    .dataframe tbody tr th:only-of-type {\n",
       "        vertical-align: middle;\n",
       "    }\n",
       "\n",
       "    .dataframe tbody tr th {\n",
       "        vertical-align: top;\n",
       "    }\n",
       "\n",
       "    .dataframe thead th {\n",
       "        text-align: right;\n",
       "    }\n",
       "</style>\n",
       "<table border=\"1\" class=\"dataframe\">\n",
       "  <thead>\n",
       "    <tr style=\"text-align: right;\">\n",
       "      <th></th>\n",
       "      <th>From_ID</th>\n",
       "      <th>To_ID</th>\n",
       "    </tr>\n",
       "  </thead>\n",
       "  <tbody>\n",
       "    <tr>\n",
       "      <th>0</th>\n",
       "      <td>BMG_PT038896</td>\n",
       "      <td>BMG_PH00005</td>\n",
       "    </tr>\n",
       "    <tr>\n",
       "      <th>1</th>\n",
       "      <td>BMG_PT038896</td>\n",
       "      <td>BMG_PH01448</td>\n",
       "    </tr>\n",
       "    <tr>\n",
       "      <th>2</th>\n",
       "      <td>BMG_PT041062</td>\n",
       "      <td>BMG_PH01835</td>\n",
       "    </tr>\n",
       "    <tr>\n",
       "      <th>2</th>\n",
       "      <td>BMG_PT160991</td>\n",
       "      <td>BMG_PH01835</td>\n",
       "    </tr>\n",
       "    <tr>\n",
       "      <th>3</th>\n",
       "      <td>BMG_PT041062</td>\n",
       "      <td>BMG_PH01830</td>\n",
       "    </tr>\n",
       "    <tr>\n",
       "      <th>...</th>\n",
       "      <td>...</td>\n",
       "      <td>...</td>\n",
       "    </tr>\n",
       "    <tr>\n",
       "      <th>316713</th>\n",
       "      <td>BMG_PT038750</td>\n",
       "      <td>BMG_PH01670</td>\n",
       "    </tr>\n",
       "    <tr>\n",
       "      <th>316714</th>\n",
       "      <td>BMG_PT038750</td>\n",
       "      <td>BMG_PH00517</td>\n",
       "    </tr>\n",
       "    <tr>\n",
       "      <th>316715</th>\n",
       "      <td>BMG_PT038750</td>\n",
       "      <td>BMG_PH16020</td>\n",
       "    </tr>\n",
       "    <tr>\n",
       "      <th>316716</th>\n",
       "      <td>BMG_PT038750</td>\n",
       "      <td>BMG_PH01194</td>\n",
       "    </tr>\n",
       "    <tr>\n",
       "      <th>316717</th>\n",
       "      <td>BMG_PT038750</td>\n",
       "      <td>BMG_PH10610</td>\n",
       "    </tr>\n",
       "  </tbody>\n",
       "</table>\n",
       "<p>478279 rows × 2 columns</p>\n",
       "</div>"
      ],
      "text/plain": [
       "             From_ID        To_ID\n",
       "0       BMG_PT038896  BMG_PH00005\n",
       "1       BMG_PT038896  BMG_PH01448\n",
       "2       BMG_PT041062  BMG_PH01835\n",
       "2       BMG_PT160991  BMG_PH01835\n",
       "3       BMG_PT041062  BMG_PH01830\n",
       "...              ...          ...\n",
       "316713  BMG_PT038750  BMG_PH01670\n",
       "316714  BMG_PT038750  BMG_PH00517\n",
       "316715  BMG_PT038750  BMG_PH16020\n",
       "316716  BMG_PT038750  BMG_PH01194\n",
       "316717  BMG_PT038750  BMG_PH10610\n",
       "\n",
       "[478279 rows x 2 columns]"
      ]
     },
     "execution_count": 6,
     "metadata": {},
     "output_type": "execute_result"
    }
   ],
   "source": [
    "protein_phen['From_ID'] = protein_phen['From_ID'].str.split(';')\n",
    "protein_phen['To_ID'] = protein_phen['To_ID'].str.split(';')\n",
    "\n",
    "protein_phen = protein_phen.explode('From_ID')\n",
    "protein_phen = protein_phen.explode('To_ID')\n",
    "\n",
    "protein_phen.drop_duplicates(inplace=True)\n",
    "protein_phen"
   ]
  },
  {
   "cell_type": "markdown",
   "metadata": {},
   "source": [
    "### Protein-Phenotype Relation"
   ]
  },
  {
   "cell_type": "code",
   "execution_count": 7,
   "metadata": {},
   "outputs": [
    {
     "data": {
      "application/vnd.microsoft.datawrangler.viewer.v0+json": {
       "columns": [
        {
         "name": "index",
         "rawType": "int64",
         "type": "integer"
        },
        {
         "name": "BioMedGraphica_ID",
         "rawType": "object",
         "type": "string"
        },
        {
         "name": "From_ID",
         "rawType": "object",
         "type": "string"
        },
        {
         "name": "To_ID",
         "rawType": "object",
         "type": "string"
        },
        {
         "name": "Source",
         "rawType": "object",
         "type": "string"
        },
        {
         "name": "Type",
         "rawType": "object",
         "type": "string"
        }
       ],
       "conversionMethod": "pd.DataFrame",
       "ref": "7daf691e-6471-4b64-8056-82ea2a0c0887",
       "rows": [
        [
         "0",
         "BMG_ED_PTPH000001",
         "BMG_PT038896",
         "BMG_PH00005",
         "HPO",
         "Protein-Phenotype"
        ],
        [
         "1",
         "BMG_ED_PTPH000002",
         "BMG_PT038896",
         "BMG_PH01448",
         "HPO",
         "Protein-Phenotype"
        ],
        [
         "2",
         "BMG_ED_PTPH000003",
         "BMG_PT041062",
         "BMG_PH01835",
         "HPO",
         "Protein-Phenotype"
        ],
        [
         "2",
         "BMG_ED_PTPH000004",
         "BMG_PT160991",
         "BMG_PH01835",
         "HPO",
         "Protein-Phenotype"
        ],
        [
         "3",
         "BMG_ED_PTPH000005",
         "BMG_PT041062",
         "BMG_PH01830",
         "HPO",
         "Protein-Phenotype"
        ],
        [
         "3",
         "BMG_ED_PTPH000006",
         "BMG_PT160991",
         "BMG_PH01830",
         "HPO",
         "Protein-Phenotype"
        ],
        [
         "4",
         "BMG_ED_PTPH000007",
         "BMG_PT041062",
         "BMG_PH05649",
         "HPO",
         "Protein-Phenotype"
        ],
        [
         "4",
         "BMG_ED_PTPH000008",
         "BMG_PT160991",
         "BMG_PH05649",
         "HPO",
         "Protein-Phenotype"
        ],
        [
         "5",
         "BMG_ED_PTPH000009",
         "BMG_PT041062",
         "BMG_PH00945",
         "HPO",
         "Protein-Phenotype"
        ],
        [
         "5",
         "BMG_ED_PTPH000010",
         "BMG_PT160991",
         "BMG_PH00945",
         "HPO",
         "Protein-Phenotype"
        ],
        [
         "6",
         "BMG_ED_PTPH000011",
         "BMG_PT041062",
         "BMG_PH17209",
         "HPO",
         "Protein-Phenotype"
        ],
        [
         "6",
         "BMG_ED_PTPH000012",
         "BMG_PT160991",
         "BMG_PH17209",
         "HPO",
         "Protein-Phenotype"
        ],
        [
         "7",
         "BMG_ED_PTPH000013",
         "BMG_PT041062",
         "BMG_PH04815",
         "HPO",
         "Protein-Phenotype"
        ],
        [
         "7",
         "BMG_ED_PTPH000014",
         "BMG_PT160991",
         "BMG_PH04815",
         "HPO",
         "Protein-Phenotype"
        ],
        [
         "8",
         "BMG_ED_PTPH000015",
         "BMG_PT041062",
         "BMG_PH04809",
         "HPO",
         "Protein-Phenotype"
        ],
        [
         "8",
         "BMG_ED_PTPH000016",
         "BMG_PT160991",
         "BMG_PH04809",
         "HPO",
         "Protein-Phenotype"
        ],
        [
         "9",
         "BMG_ED_PTPH000017",
         "BMG_PT041062",
         "BMG_PH07537",
         "HPO",
         "Protein-Phenotype"
        ],
        [
         "9",
         "BMG_ED_PTPH000018",
         "BMG_PT160991",
         "BMG_PH07537",
         "HPO",
         "Protein-Phenotype"
        ],
        [
         "10",
         "BMG_ED_PTPH000019",
         "BMG_PT041062",
         "BMG_PH06597",
         "HPO",
         "Protein-Phenotype"
        ],
        [
         "10",
         "BMG_ED_PTPH000020",
         "BMG_PT160991",
         "BMG_PH06597",
         "HPO",
         "Protein-Phenotype"
        ],
        [
         "11",
         "BMG_ED_PTPH000021",
         "BMG_PT041062",
         "BMG_PH01816",
         "HPO",
         "Protein-Phenotype"
        ],
        [
         "11",
         "BMG_ED_PTPH000022",
         "BMG_PT160991",
         "BMG_PH01816",
         "HPO",
         "Protein-Phenotype"
        ],
        [
         "12",
         "BMG_ED_PTPH000023",
         "BMG_PT041062",
         "BMG_PH01006",
         "HPO",
         "Protein-Phenotype"
        ],
        [
         "12",
         "BMG_ED_PTPH000024",
         "BMG_PT160991",
         "BMG_PH01006",
         "HPO",
         "Protein-Phenotype"
        ],
        [
         "13",
         "BMG_ED_PTPH000025",
         "BMG_PT041062",
         "BMG_PH01002",
         "HPO",
         "Protein-Phenotype"
        ],
        [
         "13",
         "BMG_ED_PTPH000026",
         "BMG_PT160991",
         "BMG_PH01002",
         "HPO",
         "Protein-Phenotype"
        ],
        [
         "15",
         "BMG_ED_PTPH000027",
         "BMG_PT041062",
         "BMG_PH00992",
         "HPO",
         "Protein-Phenotype"
        ],
        [
         "15",
         "BMG_ED_PTPH000028",
         "BMG_PT160991",
         "BMG_PH00992",
         "HPO",
         "Protein-Phenotype"
        ],
        [
         "16",
         "BMG_ED_PTPH000029",
         "BMG_PT041062",
         "BMG_PH00990",
         "HPO",
         "Protein-Phenotype"
        ],
        [
         "16",
         "BMG_ED_PTPH000030",
         "BMG_PT160991",
         "BMG_PH00990",
         "HPO",
         "Protein-Phenotype"
        ],
        [
         "17",
         "BMG_ED_PTPH000031",
         "BMG_PT041062",
         "BMG_PH00985",
         "HPO",
         "Protein-Phenotype"
        ],
        [
         "17",
         "BMG_ED_PTPH000032",
         "BMG_PT160991",
         "BMG_PH00985",
         "HPO",
         "Protein-Phenotype"
        ],
        [
         "19",
         "BMG_ED_PTPH000033",
         "BMG_PT041062",
         "BMG_PH01931",
         "HPO",
         "Protein-Phenotype"
        ],
        [
         "19",
         "BMG_ED_PTPH000034",
         "BMG_PT160991",
         "BMG_PH01931",
         "HPO",
         "Protein-Phenotype"
        ],
        [
         "20",
         "BMG_ED_PTPH000035",
         "BMG_PT041062",
         "BMG_PH01000",
         "HPO",
         "Protein-Phenotype"
        ],
        [
         "20",
         "BMG_ED_PTPH000036",
         "BMG_PT160991",
         "BMG_PH01000",
         "HPO",
         "Protein-Phenotype"
        ],
        [
         "22",
         "BMG_ED_PTPH000037",
         "BMG_PT041062",
         "BMG_PH00997",
         "HPO",
         "Protein-Phenotype"
        ],
        [
         "22",
         "BMG_ED_PTPH000038",
         "BMG_PT160991",
         "BMG_PH00997",
         "HPO",
         "Protein-Phenotype"
        ],
        [
         "25",
         "BMG_ED_PTPH000039",
         "BMG_PT041062",
         "BMG_PH00971",
         "HPO",
         "Protein-Phenotype"
        ],
        [
         "25",
         "BMG_ED_PTPH000040",
         "BMG_PT160991",
         "BMG_PH00971",
         "HPO",
         "Protein-Phenotype"
        ],
        [
         "26",
         "BMG_ED_PTPH000041",
         "BMG_PT041062",
         "BMG_PH00972",
         "HPO",
         "Protein-Phenotype"
        ],
        [
         "26",
         "BMG_ED_PTPH000042",
         "BMG_PT160991",
         "BMG_PH00972",
         "HPO",
         "Protein-Phenotype"
        ],
        [
         "27",
         "BMG_ED_PTPH000043",
         "BMG_PT041062",
         "BMG_PH00970",
         "HPO",
         "Protein-Phenotype"
        ],
        [
         "27",
         "BMG_ED_PTPH000044",
         "BMG_PT160991",
         "BMG_PH00970",
         "HPO",
         "Protein-Phenotype"
        ],
        [
         "28",
         "BMG_ED_PTPH000045",
         "BMG_PT041062",
         "BMG_PH00983",
         "HPO",
         "Protein-Phenotype"
        ],
        [
         "28",
         "BMG_ED_PTPH000046",
         "BMG_PT160991",
         "BMG_PH00983",
         "HPO",
         "Protein-Phenotype"
        ],
        [
         "31",
         "BMG_ED_PTPH000047",
         "BMG_PT041062",
         "BMG_PH00982",
         "HPO",
         "Protein-Phenotype"
        ],
        [
         "31",
         "BMG_ED_PTPH000048",
         "BMG_PT160991",
         "BMG_PH00982",
         "HPO",
         "Protein-Phenotype"
        ],
        [
         "32",
         "BMG_ED_PTPH000049",
         "BMG_PT041062",
         "BMG_PH00979",
         "HPO",
         "Protein-Phenotype"
        ],
        [
         "32",
         "BMG_ED_PTPH000050",
         "BMG_PT160991",
         "BMG_PH00979",
         "HPO",
         "Protein-Phenotype"
        ]
       ],
       "shape": {
        "columns": 5,
        "rows": 478279
       }
      },
      "text/html": [
       "<div>\n",
       "<style scoped>\n",
       "    .dataframe tbody tr th:only-of-type {\n",
       "        vertical-align: middle;\n",
       "    }\n",
       "\n",
       "    .dataframe tbody tr th {\n",
       "        vertical-align: top;\n",
       "    }\n",
       "\n",
       "    .dataframe thead th {\n",
       "        text-align: right;\n",
       "    }\n",
       "</style>\n",
       "<table border=\"1\" class=\"dataframe\">\n",
       "  <thead>\n",
       "    <tr style=\"text-align: right;\">\n",
       "      <th></th>\n",
       "      <th>BioMedGraphica_ID</th>\n",
       "      <th>From_ID</th>\n",
       "      <th>To_ID</th>\n",
       "      <th>Source</th>\n",
       "      <th>Type</th>\n",
       "    </tr>\n",
       "  </thead>\n",
       "  <tbody>\n",
       "    <tr>\n",
       "      <th>0</th>\n",
       "      <td>BMG_ED_PTPH000001</td>\n",
       "      <td>BMG_PT038896</td>\n",
       "      <td>BMG_PH00005</td>\n",
       "      <td>HPO</td>\n",
       "      <td>Protein-Phenotype</td>\n",
       "    </tr>\n",
       "    <tr>\n",
       "      <th>1</th>\n",
       "      <td>BMG_ED_PTPH000002</td>\n",
       "      <td>BMG_PT038896</td>\n",
       "      <td>BMG_PH01448</td>\n",
       "      <td>HPO</td>\n",
       "      <td>Protein-Phenotype</td>\n",
       "    </tr>\n",
       "    <tr>\n",
       "      <th>2</th>\n",
       "      <td>BMG_ED_PTPH000003</td>\n",
       "      <td>BMG_PT041062</td>\n",
       "      <td>BMG_PH01835</td>\n",
       "      <td>HPO</td>\n",
       "      <td>Protein-Phenotype</td>\n",
       "    </tr>\n",
       "    <tr>\n",
       "      <th>2</th>\n",
       "      <td>BMG_ED_PTPH000004</td>\n",
       "      <td>BMG_PT160991</td>\n",
       "      <td>BMG_PH01835</td>\n",
       "      <td>HPO</td>\n",
       "      <td>Protein-Phenotype</td>\n",
       "    </tr>\n",
       "    <tr>\n",
       "      <th>3</th>\n",
       "      <td>BMG_ED_PTPH000005</td>\n",
       "      <td>BMG_PT041062</td>\n",
       "      <td>BMG_PH01830</td>\n",
       "      <td>HPO</td>\n",
       "      <td>Protein-Phenotype</td>\n",
       "    </tr>\n",
       "    <tr>\n",
       "      <th>...</th>\n",
       "      <td>...</td>\n",
       "      <td>...</td>\n",
       "      <td>...</td>\n",
       "      <td>...</td>\n",
       "      <td>...</td>\n",
       "    </tr>\n",
       "    <tr>\n",
       "      <th>316713</th>\n",
       "      <td>BMG_ED_PTPH478275</td>\n",
       "      <td>BMG_PT038750</td>\n",
       "      <td>BMG_PH01670</td>\n",
       "      <td>HPO</td>\n",
       "      <td>Protein-Phenotype</td>\n",
       "    </tr>\n",
       "    <tr>\n",
       "      <th>316714</th>\n",
       "      <td>BMG_ED_PTPH478276</td>\n",
       "      <td>BMG_PT038750</td>\n",
       "      <td>BMG_PH00517</td>\n",
       "      <td>HPO</td>\n",
       "      <td>Protein-Phenotype</td>\n",
       "    </tr>\n",
       "    <tr>\n",
       "      <th>316715</th>\n",
       "      <td>BMG_ED_PTPH478277</td>\n",
       "      <td>BMG_PT038750</td>\n",
       "      <td>BMG_PH16020</td>\n",
       "      <td>HPO</td>\n",
       "      <td>Protein-Phenotype</td>\n",
       "    </tr>\n",
       "    <tr>\n",
       "      <th>316716</th>\n",
       "      <td>BMG_ED_PTPH478278</td>\n",
       "      <td>BMG_PT038750</td>\n",
       "      <td>BMG_PH01194</td>\n",
       "      <td>HPO</td>\n",
       "      <td>Protein-Phenotype</td>\n",
       "    </tr>\n",
       "    <tr>\n",
       "      <th>316717</th>\n",
       "      <td>BMG_ED_PTPH478279</td>\n",
       "      <td>BMG_PT038750</td>\n",
       "      <td>BMG_PH10610</td>\n",
       "      <td>HPO</td>\n",
       "      <td>Protein-Phenotype</td>\n",
       "    </tr>\n",
       "  </tbody>\n",
       "</table>\n",
       "<p>478279 rows × 5 columns</p>\n",
       "</div>"
      ],
      "text/plain": [
       "        BioMedGraphica_ID       From_ID        To_ID Source               Type\n",
       "0       BMG_ED_PTPH000001  BMG_PT038896  BMG_PH00005    HPO  Protein-Phenotype\n",
       "1       BMG_ED_PTPH000002  BMG_PT038896  BMG_PH01448    HPO  Protein-Phenotype\n",
       "2       BMG_ED_PTPH000003  BMG_PT041062  BMG_PH01835    HPO  Protein-Phenotype\n",
       "2       BMG_ED_PTPH000004  BMG_PT160991  BMG_PH01835    HPO  Protein-Phenotype\n",
       "3       BMG_ED_PTPH000005  BMG_PT041062  BMG_PH01830    HPO  Protein-Phenotype\n",
       "...                   ...           ...          ...    ...                ...\n",
       "316713  BMG_ED_PTPH478275  BMG_PT038750  BMG_PH01670    HPO  Protein-Phenotype\n",
       "316714  BMG_ED_PTPH478276  BMG_PT038750  BMG_PH00517    HPO  Protein-Phenotype\n",
       "316715  BMG_ED_PTPH478277  BMG_PT038750  BMG_PH16020    HPO  Protein-Phenotype\n",
       "316716  BMG_ED_PTPH478278  BMG_PT038750  BMG_PH01194    HPO  Protein-Phenotype\n",
       "316717  BMG_ED_PTPH478279  BMG_PT038750  BMG_PH10610    HPO  Protein-Phenotype\n",
       "\n",
       "[478279 rows x 5 columns]"
      ]
     },
     "execution_count": 7,
     "metadata": {},
     "output_type": "execute_result"
    }
   ],
   "source": [
    "protein_phen['Source'] = 'HPO'\n",
    "protein_phen['Type'] = 'Protein-Phenotype'\n",
    "max_length = len(str(len(protein_phen)))\n",
    "protein_phen['BioMedGraphica_ID'] = ['BMG_ED_PTPH' + str(i).zfill(max_length) for i in range(1, len(protein_phen) + 1)]\n",
    "columns = ['BioMedGraphica_ID'] + [col for col in protein_phen.columns if col != 'BioMedGraphica_ID']  # re-order columns\n",
    "protein_phen = protein_phen[columns]\n",
    "protein_phen"
   ]
  },
  {
   "cell_type": "code",
   "execution_count": 8,
   "metadata": {},
   "outputs": [
    {
     "name": "stdout",
     "output_type": "stream",
     "text": [
      "Data has been saved to D:\\RA\\BMG\\BioMedGraphica\\Relation\\Protein-Phenotype\\BioMedGraphica_Protein_Phenotype.csv\n"
     ]
    }
   ],
   "source": [
    "import os\n",
    "from pathlib import Path\n",
    "\n",
    "# get the current working directory\n",
    "current_working_dir = Path(os.getcwd()).resolve()\n",
    "\n",
    "# get the output directory\n",
    "grandparent_dir = current_working_dir.parent.parent.parent\n",
    "\n",
    "target_folder = grandparent_dir / 'BioMedGraphica' / 'Relation' / 'Protein-Phenotype'\n",
    "if not target_folder.exists():\n",
    "    target_folder.mkdir(parents=True)\n",
    "    print(f\"Folder {target_folder} has been created.\")\n",
    "\n",
    "output_file_path = target_folder / 'BioMedGraphica_Protein_Phenotype.csv'\n",
    "protein_phen.to_csv(output_file_path, index=False)\n",
    "print(f\"Data has been saved to {output_file_path}\")"
   ]
  }
 ],
 "metadata": {
  "kernelspec": {
   "display_name": "base",
   "language": "python",
   "name": "python3"
  },
  "language_info": {
   "codemirror_mode": {
    "name": "ipython",
    "version": 3
   },
   "file_extension": ".py",
   "mimetype": "text/x-python",
   "name": "python",
   "nbconvert_exporter": "python",
   "pygments_lexer": "ipython3",
   "version": "3.9.19"
  }
 },
 "nbformat": 4,
 "nbformat_minor": 2
}
