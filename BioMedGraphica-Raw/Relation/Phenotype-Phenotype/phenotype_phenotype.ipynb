{
 "cells": [
  {
   "cell_type": "markdown",
   "metadata": {},
   "source": [
    "### HPO"
   ]
  },
  {
   "cell_type": "code",
   "execution_count": 1,
   "metadata": {},
   "outputs": [
    {
     "data": {
      "application/vnd.microsoft.datawrangler.viewer.v0+json": {
       "columns": [
        {
         "name": "index",
         "rawType": "int64",
         "type": "integer"
        },
        {
         "name": "id",
         "rawType": "object",
         "type": "string"
        },
        {
         "name": "name",
         "rawType": "object",
         "type": "string"
        },
        {
         "name": "comment",
         "rawType": "object",
         "type": "unknown"
        },
        {
         "name": "xref",
         "rawType": "object",
         "type": "unknown"
        },
        {
         "name": "def",
         "rawType": "object",
         "type": "unknown"
        },
        {
         "name": "synonym",
         "rawType": "object",
         "type": "unknown"
        },
        {
         "name": "is_a",
         "rawType": "object",
         "type": "unknown"
        },
        {
         "name": "property_value",
         "rawType": "object",
         "type": "unknown"
        },
        {
         "name": "creation_date",
         "rawType": "object",
         "type": "unknown"
        },
        {
         "name": "alt_id",
         "rawType": "object",
         "type": "unknown"
        },
        {
         "name": "subset",
         "rawType": "object",
         "type": "unknown"
        },
        {
         "name": "is_obsolete",
         "rawType": "object",
         "type": "unknown"
        },
        {
         "name": "replaced_by",
         "rawType": "object",
         "type": "unknown"
        },
        {
         "name": "consider",
         "rawType": "object",
         "type": "unknown"
        }
       ],
       "conversionMethod": "pd.DataFrame",
       "ref": "9614dd9a-3046-423b-a1fd-db5d60fa4018",
       "rows": [
        [
         "0",
         "HP:0000001",
         "All",
         "Root of all terms in the Human Phenotype Ontology.",
         "UMLS:C0444868",
         null,
         null,
         null,
         null,
         null,
         null,
         null,
         null,
         null,
         null
        ],
        [
         "1",
         "HP:0000002",
         "Abnormality of body height",
         null,
         "UMLS:C4025901",
         "\"Deviation from the norm of height with respect to that which is expected according to age and gender norms.\" [https://orcid.org/0000-0002-0736-9199]",
         "\"Abnormality of body height\" EXACT layperson []",
         "HP:0001507 ! Growth abnormality",
         "terms:creator https://orcid.org/0000-0002-0736-9199",
         "2008-02-27T02:20:00Z",
         null,
         null,
         null,
         null,
         null
        ],
        [
         "2",
         "HP:0000003",
         "Multicystic kidney dysplasia",
         "Multicystic kidney dysplasia is the result of abnormal fetal renal development in which the affected kidney is replaced by multiple cysts and has little or no residual function. The vast majority of multicystic kidneys are unilateral. Multicystic kidney can be diagnosed on prenatal ultrasound.",
         "SNOMEDCT_US:204962002;SNOMEDCT_US:82525005;UMLS:C3714581",
         "\"Multicystic dysplasia of the kidney is characterized by multiple cysts of varying size in the kidney and the absence of a normal pelvicaliceal system. The condition is associated with ureteral or ureteropelvic atresia, and the affected kidney is nonfunctional.\" [https://orcid.org/0000-0002-0736-9199]",
         "['\"Multicystic dysplastic kidney\" EXACT []', '\"Multicystic kidneys\" EXACT []', '\"Multicystic renal dysplasia\" EXACT []']",
         "HP:0000107 ! Renal cyst",
         null,
         null,
         "HP:0004715",
         null,
         null,
         null,
         null
        ],
        [
         "3",
         "HP:0000005",
         "Mode of inheritance",
         "While there is a close conceptual relationship between allelic requirement and inheritance, they serve different purposes; allelic requirement is necessary for variant annotation pipelines and to determine if a given variant in a specific context is relevant to the phenotype of the patient e.g. a heterozygous variant (in the absence of compound heterozygosity) is relevant for dominant but not for recessive disease; while inheritance is used for describing the mode of inheritance of a phenotype and is particularly applicable in the clinical setting for communicating recurrence risk, to guide family screening, and to guide reproductive advice.",
         "UMLS:C1708511",
         "\"The pattern in which a particular genetic trait or disorder is passed from one generation to the next.\" [https://orcid.org/0000-0002-0736-9199]",
         "\"Inheritance\" EXACT []",
         "HP:0000001 ! All",
         null,
         null,
         "['HP:0001425', 'HP:0001453', 'HP:0001461', 'HP:0010985']",
         null,
         null,
         null,
         null
        ],
        [
         "4",
         "HP:0000006",
         "Autosomal dominant inheritance",
         null,
         "SNOMEDCT_US:263681008;UMLS:C0443147",
         "\"A mode of inheritance that is observed for traits related to a gene encoded on one of the autosomes (i.e., the human chromosomes 1-22) in which a trait manifests in heterozygotes. In the context of medical genetics, an autosomal dominant disorder is caused when a single copy of the mutant allele is present. Males and females are affected equally, and can both transmit the disorder with a risk of 50% for each child of inheriting the mutant allele.\" [https://orcid.org/0000-0002-0736-9199]",
         "['\"Autosomal dominant\" EXACT []', '\"Autosomal dominant form\" RELATED [https://orcid.org/0000-0002-5316-1399]', '\"Autosomal dominant type\" RELATED [https://orcid.org/0000-0002-5316-1399]', '\"monoallelic_autosomal\" EXACT HP:0034334 []']",
         "HP:0034345 ! Mendelian inheritance",
         null,
         null,
         "['HP:0001415', 'HP:0001447', 'HP:0001448', 'HP:0001451', 'HP:0001452', 'HP:0001455', 'HP:0001456', 'HP:0001463']",
         null,
         null,
         null,
         null
        ],
        [
         "5",
         "HP:0000007",
         "Autosomal recessive inheritance",
         null,
         "SNOMEDCT_US:258211005;UMLS:C0441748;UMLS:C4020899",
         "\"A mode of inheritance that is observed for traits related to a gene encoded on one of the autosomes (i.e., the human chromosomes 1-22) in which a trait manifests in individuals with two pathogenic alleles, either homozygotes (two copies of the same mutant allele) or compound heterozygotes (whereby each copy of a gene has a distinct mutant allele).\" [https://orcid.org/0000-0002-0736-9199]",
         "['\"Autosomal recessive\" EXACT []', '\"Autosomal recessive form\" RELATED [https://orcid.org/0000-0002-5316-1399]', '\"Autosomal recessive predisposition\" RELATED []', '\"biallelic_autosomal\" EXACT HP:0034334 []']",
         "HP:0034345 ! Mendelian inheritance",
         null,
         null,
         "['HP:0001416', 'HP:0001526', 'HP:0031362']",
         null,
         null,
         null,
         null
        ],
        [
         "6",
         "HP:0000008",
         "Abnormal morphology of female internal genitalia",
         null,
         "UMLS:C4025900",
         "\"An abnormality of the female internal genitalia.\" [https://orcid.org/0000-0002-0736-9199]",
         "\"Abnormality of female internal genitalia\" EXACT []",
         "['HP:0000812 ! Abnormal internal genitalia', 'HP:0010460 ! Abnormality of the female genitalia']",
         null,
         null,
         null,
         null,
         null,
         null,
         null
        ],
        [
         "7",
         "HP:0000009",
         "Functional abnormality of the bladder",
         null,
         "UMLS:C3806583",
         "\"Dysfunction of the urinary bladder.\" [https://orcid.org/0000-0002-0736-9199]",
         "\"Poor bladder function\" EXACT []",
         "HP:0000014 ! Abnormality of the bladder",
         null,
         null,
         "['HP:0004424', 'HP:0008731']",
         null,
         null,
         null,
         null
        ],
        [
         "8",
         "HP:0000010",
         "Recurrent urinary tract infections",
         "The urinary tract comprises the kidneys, ureters, a bladder, and a urethra.",
         "SNOMEDCT_US:197927001;UMLS:C0262655",
         "\"Repeated infections of the urinary tract.\" [https://orcid.org/0000-0002-0736-9199]",
         "['\"Frequent urinary tract infections\" EXACT layperson []', '\"Recurrent UTIs\" EXACT abbreviation []', '\"Repeated bladder infections\" EXACT layperson []', '\"Repeated urinary tract infections\" EXACT layperson []', '\"Urinary tract infections\" EXACT layperson []', '\"Urinary tract infections, recurrent\" EXACT layperson [https://orcid.org/0000-0002-5316-1399]']",
         "['HP:0002719 ! Recurrent infections', 'HP:0011277 ! Abnormality of the urinary system physiology']",
         null,
         null,
         "HP:0000094",
         null,
         null,
         null,
         null
        ],
        [
         "9",
         "HP:0000011",
         "Neurogenic bladder",
         "Neurogenic bladder sphincter dysfunction (NBSD) can develop as a result of a lesion at any level in the nervous system, including the cerebral cortex, spinal cord, or peripheral nervous system. Neurologic conditions in children leading to neurogenic bladder dysfunction are predominantly congenital neural tube defects (including myelomeningocele, lipomeningocele, sacral agenesis, and occult lesions causing tethered cord). Acquired causes such as spinal cord tumors or trauma or sequelae of transverse myelitis are less frequent. Whereas from an etiologic standpoint neurogenic bladder dysfunction is a heterogeneous group, medical management will be similar irrespective of the underlying cause.",
         "SNOMEDCT_US:397732007;SNOMEDCT_US:398064005;UMLS:C0005697",
         "\"A type of bladder dysfunction caused by neurologic damage. Neurogenic bladder can be flaccid or spastic. Common manifestatios of neurogenic bladder are overflow incontinence, frequency, urgency, urge incontinence, and retention.\" [https://orcid.org/0000-0002-0736-9199, PMID:18095004, PMID:22400020]",
         "\"Lack of bladder control due to nervous system injury\" EXACT layperson [https://orcid.org/0000-0002-6548-5200]",
         "HP:0000009 ! Functional abnormality of the bladder",
         null,
         null,
         null,
         null,
         null,
         null,
         null
        ],
        [
         "10",
         "HP:0000012",
         "Urinary urgency",
         "Urinary urgency is the strong, sudden need to urinate and is usually due to bladder spasms or contractions. This symptom is suggestive of, but not necessarily conclusive for urodynamically demonstrable detrusor hyperactivity.",
         "SNOMEDCT_US:75088002;UMLS:C0085606;UMLS:C3544092;UMLS:C4020898",
         "\"Urge incontinence is the strong, sudden need to urinate.\" [https://orcid.org/0000-0002-0736-9199, PMID:12559262]",
         "['\"Overactive bladder\" EXACT layperson [https://orcid.org/0000-0002-0736-9199]', '\"Overactive bladder syndrome\" RELATED []', '\"Urgency frequency syndrome\" RELATED []', '\"Urgent micturition\" EXACT []', '\"Urinary urgency\" EXACT layperson []']",
         "HP:0000009 ! Functional abnormality of the bladder",
         null,
         null,
         null,
         null,
         null,
         null,
         null
        ],
        [
         "11",
         "HP:0000013",
         "Hypoplasia of the uterus",
         null,
         "SNOMEDCT_US:35850006;UMLS:C0266399",
         "\"Underdevelopment of the uterus.\" [https://orcid.org/0000-0002-0736-9199]",
         "['\"Hypoplastic uterus\" EXACT []', '\"Rudimentary uterus\" EXACT []', '\"Small uterus\" EXACT layperson [https://orcid.org/0000-0001-5208-3432]', '\"Underdeveloped uterus\" EXACT layperson [https://orcid.org/0000-0001-5208-3432]']",
         "HP:0008684 ! Aplasia/hypoplasia of the uterus",
         null,
         null,
         "['HP:0001154', 'HP:0008637']",
         null,
         null,
         null,
         null
        ],
        [
         "12",
         "HP:0000014",
         "Abnormality of the bladder",
         null,
         "UMLS:C0149632",
         "\"An abnormality of the urinary bladder.\" [https://orcid.org/0000-0002-0736-9199]",
         null,
         "HP:0010936 ! Abnormality of the lower urinary tract",
         null,
         null,
         null,
         null,
         null,
         null,
         null
        ],
        [
         "13",
         "HP:0000015",
         "Bladder diverticulum",
         null,
         "SNOMEDCT_US:197866008;UMLS:C0156273",
         "\"Diverticulum (sac or pouch) in the wall of the urinary bladder.\" [https://orcid.org/0000-0002-0736-9199]",
         "\"Bladder diverticula\" EXACT [https://orcid.org/0000-0002-5316-1399]",
         "HP:0025487 ! Abnormal bladder morphology",
         null,
         null,
         null,
         null,
         null,
         null,
         null
        ],
        [
         "14",
         "HP:0000016",
         "Urinary retention",
         "Urinary retention is the inability of the urinary bladder to empty. The cause may be neurologic or nonneurologic.",
         "SNOMEDCT_US:130951007;SNOMEDCT_US:267064002;SNOMEDCT_US:449491000124101;UMLS:C0080274",
         "\"Inability to completely empty the urinary bladder during the process of urination.\" [https://orcid.org/0000-0002-0736-9199]",
         "\"Increased post-void residual urine volume\" EXACT []",
         "HP:0000009 ! Functional abnormality of the bladder",
         null,
         null,
         null,
         null,
         null,
         null,
         null
        ],
        [
         "15",
         "HP:0000017",
         "Nocturia",
         "Often occurring as a result of heart insufficiency.",
         "SNOMEDCT_US:139394000;UMLS:C0028734",
         "\"Abnormally increased production of urine during the night leading to an unusually frequent need to urinate.\" [https://orcid.org/0009-0006-4530-3154]",
         "\"Nycturia\" EXACT [https://orcid.org/0009-0006-4530-3154]",
         "HP:0000009 ! Functional abnormality of the bladder",
         null,
         null,
         null,
         null,
         null,
         null,
         null
        ],
        [
         "16",
         "HP:0000019",
         "Urinary hesitancy",
         null,
         "SNOMEDCT_US:5972002;UMLS:C0152032",
         "\"Difficulty in beginning the process of urination.\" [https://orcid.org/0000-0002-0736-9199]",
         "\"Difficulty with flow\" EXACT layperson [https://orcid.org/0000-0001-5208-3432]",
         "HP:0000009 ! Functional abnormality of the bladder",
         null,
         null,
         null,
         null,
         null,
         null,
         null
        ],
        [
         "17",
         "HP:0000020",
         "Urinary incontinence",
         "Urinary incontinence can be defined as the complaint of any involuntary leakage of urine.",
         "SNOMEDCT_US:165232002;UMLS:C0042024",
         "\"Loss of the ability to control the urinary bladder leading to involuntary urination.\" [https://orcid.org/0009-0006-4530-3154, PMID:12559262]",
         "['\"Bladder incontinence\" EXACT []', '\"Loss of bladder control\" EXACT layperson [https://orcid.org/0000-0001-5208-3432]']",
         "['HP:0000009 ! Functional abnormality of the bladder', 'HP:0031064 ! Impaired continence']",
         null,
         null,
         "['HP:0006942', 'HP:0008681']",
         null,
         null,
         null,
         null
        ],
        [
         "18",
         "HP:0000021",
         "Megacystis",
         null,
         "UMLS:C1855311",
         "\"Dilatation of the bladder postnatally.\" [https://orcid.org/0000-0002-0736-9199]",
         null,
         "HP:0010955 ! Dilatation of the bladder",
         null,
         null,
         "HP:0002838",
         null,
         null,
         null,
         null
        ],
        [
         "19",
         "HP:0000022",
         "Abnormal male internal genitalia morphology",
         "The internal genital structures of the male including the testis, epididymis, vas deferens, seminal vesicle, ejaculatory duct, bulbourethral gland, and the prostate.",
         "UMLS:C4025899",
         "\"An abnormality of the male internal genitalia.\" [https://orcid.org/0000-0002-0736-9199]",
         null,
         "['HP:0000812 ! Abnormal internal genitalia', 'HP:0010461 ! Abnormality of the male genitalia']",
         null,
         null,
         null,
         null,
         null,
         null,
         null
        ],
        [
         "20",
         "HP:0000023",
         "Inguinal hernia",
         "Inguinal hernia appears as a bulge in the groin.",
         "MEDDRA:10022016 \"Inguinal hernia\";SNOMEDCT_US:396232000;UMLS:C0019294",
         "\"Protrusion of the contents of the abdominal cavity through the inguinal canal.\" [https://orcid.org/0000-0002-0736-9199]",
         null,
         "HP:0004299 ! Hernia of the abdominal wall",
         null,
         null,
         null,
         "hposlim_core",
         null,
         null,
         null
        ],
        [
         "21",
         "HP:0000024",
         "Prostatitis",
         null,
         "SNOMEDCT_US:9713002;UMLS:C0033581",
         "\"The presence of inflammation of the prostate.\" [https://orcid.org/0000-0002-0736-9199]",
         "\"Inflammation of the prostate\" EXACT layperson [https://orcid.org/0000-0001-5208-3432]",
         "['HP:0008775 ! Abnormal prostate morphology', 'HP:0012649 ! Increased inflammatory response']",
         null,
         null,
         null,
         null,
         null,
         null,
         null
        ],
        [
         "22",
         "HP:0000025",
         "Functional abnormality of male internal genitalia",
         null,
         "UMLS:C4025898",
         null,
         null,
         "HP:0012874 ! Abnormal male reproductive system physiology",
         null,
         null,
         null,
         null,
         null,
         null,
         null
        ],
        [
         "23",
         "HP:0000026",
         "Male hypogonadism",
         null,
         "SNOMEDCT_US:48723006;UMLS:C0151721",
         "\"Decreased functionality of the male gonad, i.e., of the testis, with reduced spermatogenesis or testosterone synthesis.\" [https://orcid.org/0000-0002-0736-9199]",
         "\"Decreased function of male gonad\" EXACT layperson [https://orcid.org/0000-0001-5208-3432]",
         "['HP:0000025 ! Functional abnormality of male internal genitalia', 'HP:0000135 ! Hypogonadism']",
         null,
         null,
         "HP:0008649",
         null,
         null,
         null,
         null
        ],
        [
         "24",
         "HP:0000027",
         "Azoospermia",
         null,
         "SNOMEDCT_US:425558002;SNOMEDCT_US:48188009;UMLS:C0004509",
         "\"Absence of any measurable level of sperm,whereby spermatozoa cannot be observed even after centrifugation of the semen pellet.\" [https://orcid.org/0000-0002-0736-9199, PMID:20514278]",
         "\"Absent sperm in semen\" EXACT layperson [https://orcid.org/0000-0001-5208-3432]",
         "HP:0008669 ! Abnormal spermatogenesis",
         null,
         null,
         null,
         null,
         null,
         null,
         null
        ],
        [
         "25",
         "HP:0000028",
         "Cryptorchidism",
         "The gonad is mobile and can be retracted superiorly by the cremaster muscle reflex stimulated, for instance, by cold or touch. A retracted testis is not cryptorchidism. An abdominal testis cannot be distinguished by physical examination from an (Apparently) absent testis and requires radiological (or, rarely, surgical) procedures for assessment.",
         "Fyler:4493;SNOMEDCT_US:204878001;UMLS:C0010417",
         "\"Testis in inguinal canal. That is, absence of one or both testes from the scrotum owing to failure of the testis or testes to descend through the inguinal canal to the scrotum.\" [https://orcid.org/0000-0002-0736-9199, PMID:23650202]",
         "['\"Cryptorchism\" EXACT [https://orcid.org/0000-0001-5208-3432]', '\"Undescended testes\" EXACT layperson []', '\"Undescended testis\" EXACT layperson []']",
         "HP:0000035 ! Abnormal testis morphology",
         null,
         null,
         "HP:0000797",
         null,
         null,
         null,
         null
        ],
        [
         "26",
         "HP:0000029",
         "Testicular atrophy",
         null,
         "SNOMEDCT_US:17585008;UMLS:C0156312",
         "\"Wasting (atrophy) of the testicle (the male gonad) manifested by a decrease in size and potentially by a loss of fertility.\" [https://orcid.org/0000-0002-0736-9199]",
         "\"Testicular degeneration\" EXACT layperson [https://orcid.org/0000-0001-5208-3432]",
         "HP:0000035 ! Abnormal testis morphology",
         null,
         null,
         null,
         null,
         null,
         null,
         null
        ],
        [
         "27",
         "HP:0000030",
         "Testicular gonadoblastoma",
         null,
         "NCIT:C3754;UMLS:C1515283",
         "\"The presence of a gonadoblastoma of the testis.\" [https://orcid.org/0000-0002-0736-9199]",
         "\"Gonadoblastoma, male\" RELATED []",
         "['HP:0000150 ! Gonadoblastoma', 'HP:0010788 ! Testicular neoplasm']",
         null,
         null,
         null,
         null,
         null,
         null,
         null
        ],
        [
         "28",
         "HP:0000031",
         "Epididymitis",
         null,
         "SNOMEDCT_US:31070006;UMLS:C0014534",
         "\"The presence of inflammation of the epididymis.\" [https://orcid.org/0000-0002-0736-9199]",
         null,
         "['HP:0009714 ! Abnormal epididymis morphology', 'HP:0012649 ! Increased inflammatory response']",
         null,
         null,
         null,
         null,
         null,
         null,
         null
        ],
        [
         "29",
         "HP:0000032",
         "Abnormal male external genitalia morphology",
         null,
         "UMLS:C4025897",
         "\"Any structural abnormality of male external genitalia.\" [https://orcid.org/0000-0002-0736-9199]",
         "\"Abnormality of male external genitalia\" EXACT []",
         "['HP:0000811 ! Abnormal external genitalia morphology', 'HP:0010461 ! Abnormality of the male genitalia']",
         null,
         null,
         null,
         null,
         null,
         null,
         null
        ],
        [
         "30",
         "HP:0000033",
         "Ambiguous genitalia, male",
         null,
         "UMLS:C4021823",
         "\"Ambiguous genitalia in an individual with XY genetic gender.\" [https://orcid.org/0000-0002-0736-9199]",
         "\"Ambiguous genitalia in males\" EXACT layperson []",
         "['HP:0000032 ! Abnormal male external genitalia morphology', 'HP:0000062 ! Ambiguous genitalia']",
         null,
         null,
         null,
         null,
         null,
         null,
         null
        ],
        [
         "31",
         "HP:0000034",
         "Hydrocele testis",
         null,
         "SNOMEDCT_US:26614003;SNOMEDCT_US:386152007;SNOMEDCT_US:55434001;UMLS:C1720771",
         "\"Accumulation of clear fluid in the between the layers of membrane (tunica vaginalis) surrounding the testis.\" [PMID:32644551]",
         "['\"Hydrocele\" BROAD []', '\"Testicular hydrocele\" EXACT []']",
         "HP:0000035 ! Abnormal testis morphology",
         null,
         null,
         null,
         null,
         null,
         null,
         null
        ],
        [
         "32",
         "HP:0000035",
         "Abnormal testis morphology",
         null,
         "SNOMEDCT_US:55631001;UMLS:C0266423",
         "\"An anomaly of the testicle (the male gonad).\" [https://orcid.org/0000-0002-0736-9199]",
         "['\"Abnormality of the testis\" EXACT layperson []', '\"Anomaly of the testes\" EXACT []']",
         "HP:0000032 ! Abnormal male external genitalia morphology",
         null,
         null,
         null,
         null,
         null,
         null,
         null
        ],
        [
         "33",
         "HP:0000036",
         "Abnormal penis morphology",
         null,
         "UMLS:C4025896",
         "\"Abnormality of the male external sex organ.\" []",
         "\"Abnormality of the penis\" EXACT layperson []",
         "HP:0000032 ! Abnormal male external genitalia morphology",
         null,
         null,
         null,
         null,
         null,
         null,
         null
        ],
        [
         "34",
         "HP:0000037",
         "Male pseudohermaphroditism",
         null,
         "SNOMEDCT_US:111332007;UMLS:C0238395",
         "\"Hermaphroditism refers to a discrepancy between the morphology of the gonads and that of the external genitalia. In male pseudohermaphroditism, the genotype is male (XY) and the external genitalia are imcompletely virilized, ambiguous, or complete female. If gonads are present, they are testes.\" [https://orcid.org/0000-0002-0736-9199]",
         null,
         "HP:0000032 ! Abnormal male external genitalia morphology",
         null,
         null,
         null,
         null,
         null,
         null,
         null
        ],
        [
         "35",
         "HP:0000039",
         "Epispadias",
         "Epispadias may be present in a phenotypic male, female, or an individual with ambiguous genitalia. A meatus in a phenotypic male may be positioned either on the glans (glandular or balanic epispadias), the shaft (penile epispadias) or at the attachment of the penis to the abdominal wall (penopubic epispadias). Alternatively, the urethra may be an open groove along the dorsal shaft of the penis, with no readily recognized meatus. Epispadias is a frequent component of Bladder exstrophy, but should be coded separately.",
         "SNOMEDCT_US:406477003;UMLS:C0563449",
         "\"Epispadias is a urogenital malformation characterized by the failure of the urethral tube to tubularize on the dorsal aspect. Unlike in hypospadias, where the meatus is on the ventral aspect, children with epispadias have a wide-open urethral plate on the dorsum. It is commonly seen as a component in the spectrum of bladder exstrophy-epispadias-complex. Isolated epispadias constitutes less than 10 percent of the total cases of epispadias.\" [https://orcid.org/0000-0002-0736-9199, PMID:23650202, PMID:33085327]",
         null,
         "HP:0100627 ! Displacement of the urethral meatus",
         null,
         null,
         null,
         null,
         null,
         null,
         null
        ],
        [
         "36",
         "HP:0000040",
         "Long penis",
         "Penile length is the distance between the midline attachment of the gently stretched, flaccid penis above the pubic symphysis and tip of the glans.",
         "SNOMEDCT_US:88673001;UMLS:C0269011",
         "\"Penile length more than 2 SD above the mean for age.\" []",
         "['\"Enlarged penis\" EXACT layperson []', '\"Long penis\" EXACT layperson []']",
         "HP:0000036 ! Abnormal penis morphology",
         null,
         null,
         null,
         null,
         null,
         null,
         null
        ],
        [
         "37",
         "HP:0000041",
         "Chordee",
         "The degree of variation of penis curvature is a continuum, but traditionally 30 degrees is considered the threshold for surgical intervention on chordee. Bowing usually becomes more obvious in an erect penis, but is frequently also palpable when stretching a flaccid penis. Chordee can be congenital or acquired; if the former, it can be associated with Webbed Penis or Hypospadias, which should be coded separately.",
         "SNOMEDCT_US:4287008;UMLS:C0221182",
         "\"Ventral (i.e., downward), lateral, or ventrolateral curvature of the shaft and glans penis of more than 30 degrees.\" [https://orcid.org/0000-0002-0736-9199, PMID:23650202, PMID:29570261]",
         null,
         "HP:0000036 ! Abnormal penis morphology",
         null,
         null,
         null,
         null,
         null,
         null,
         null
        ],
        [
         "38",
         "HP:0000042",
         "Absent external genitalia",
         null,
         "UMLS:C1848869",
         "\"Lack of external genitalia in a male or female individual.\" [https://orcid.org/0000-0002-0736-9199]",
         "\"Absent external genitalia\" EXACT layperson []",
         "HP:0000811 ! Abnormal external genitalia morphology",
         null,
         null,
         null,
         null,
         null,
         null,
         null
        ],
        [
         "39",
         "HP:0000044",
         "Hypogonadotropic hypogonadism",
         null,
         "SNOMEDCT_US:33927004;UMLS:C0271623;UMLS:C3489396",
         "\"Hypogonadotropic hypogonadism is characterized by reduced function of the gonads (testes in males or ovaries in females) and results from the absence of the gonadal stimulating pituitary hormones: follicle stimulating hormone (FSH) and luteinizing hormone (LH).\" [https://orcid.org/0000-0002-0736-9199, PMID:23503957]",
         "['\"Hypogonadotrophic hypogonadism\" EXACT []', '\"Isolated hypogonadotropic hypogonadism\" RELATED []', '\"Low gonadotropins (secondary hypogonadism)\" EXACT []']",
         "HP:0000135 ! Hypogonadism",
         null,
         null,
         "['HP:0003335', 'HP:0008224']",
         null,
         null,
         null,
         null
        ],
        [
         "40",
         "HP:0000045",
         "Abnormal scrotum morphology",
         null,
         "UMLS:C4025895",
         "\"Any structural abnormality of the scrotum, i.e., the sac that contains the testes, epididymis, and the lower part of the spermatic cord.\" []",
         "\"Abnormality of the scrotum\" EXACT []",
         "HP:0000032 ! Abnormal male external genitalia morphology",
         null,
         null,
         null,
         null,
         null,
         null,
         null
        ],
        [
         "41",
         "HP:0000046",
         "Small scrotum",
         "A small scrotum is often accompanied by Cryptorchidism which should be coded separately. The size of the scrotum is dependent on the ambient temperature: a low temperature may cause the testes to retract, leading to the false impression of a small scrotum.",
         "SNOMEDCT_US:204912007;UMLS:C0431659",
         "\"Apparently small scrotum for age.\" [PMID:23650202]",
         "['\"Hypoplastic scrotum\" EXACT []', '\"Scrotal hypoplasia\" EXACT []', '\"Smaller than typical growth of scrotum\" EXACT layperson [https://orcid.org/0000-0001-5208-3432, https://orcid.org/0000-0002-6548-5200]', '\"Underdeveloped scrotum\" EXACT layperson []']",
         "['HP:0000045 ! Abnormal scrotum morphology', 'HP:0000050 ! Hypoplastic male external genitalia']",
         null,
         null,
         "HP:0030276",
         null,
         null,
         null,
         null
        ],
        [
         "42",
         "HP:0000047",
         "Hypospadias",
         null,
         "Fyler:4504;SNOMEDCT_US:204888000;UMLS:C1691215",
         "\"Abnormal position of urethral meatus on the ventral penile shaft (underside) characterized by displacement of the urethral meatus from the tip of the glans penis to the ventral surface of the penis, scrotum, or perineum.\" [https://orcid.org/0000-0002-0736-9199, PMID:21968448]",
         "\"Hypospadia\" EXACT [https://orcid.org/0000-0001-5208-3432]",
         "HP:0100627 ! Displacement of the urethral meatus",
         null,
         null,
         null,
         null,
         null,
         null,
         null
        ],
        [
         "43",
         "HP:0000048",
         "Bifid scrotum",
         "A testis may or may not be present in each half of the scrotum.",
         "SNOMEDCT_US:236780002;UMLS:C0341787",
         "\"Midline indentation or cleft of the scrotum.\" [https://orcid.org/0000-0002-0736-9199, PMID:23650202]",
         "['\"Cleft of scrotum\" EXACT layperson [https://orcid.org/0000-0001-5208-3432]', '\"Scrotal cleft\" EXACT []']",
         "HP:0000045 ! Abnormal scrotum morphology",
         null,
         null,
         null,
         null,
         null,
         null,
         null
        ],
        [
         "44",
         "HP:0000049",
         "Shawl scrotum",
         "A congenital overriding scrotum may disappear with growth and development, especially during puberty. If the entire scrotum is located superior to the penis, the term Penoscrotal transposition is used instead.",
         "UMLS:C1858539",
         "\"Superior margin of the scrotum superior to the base of the penis.\" [https://orcid.org/0000-0002-0736-9199, PMID:23650202]",
         "['\"Overriding scrotum\" EXACT []', '\"Scrotum surrounds penis\" EXACT layperson [https://orcid.org/0000-0002-6548-5200]']",
         "HP:0000045 ! Abnormal scrotum morphology",
         null,
         null,
         null,
         null,
         null,
         null,
         null
        ],
        [
         "45",
         "HP:0000050",
         "Hypoplastic male external genitalia",
         null,
         "UMLS:C1852534",
         "\"Underdevelopment of part or all of the male external reproductive organs (which include the penis, the scrotum and the urethra).\" [https://orcid.org/0000-0002-0736-9199]",
         "['\"Hypoplastic male genitalia\" EXACT []', '\"Small male external genitalia\" EXACT layperson []', '\"Underdeveloped male genitalia\" EXACT layperson [https://orcid.org/0000-0001-5208-3432]']",
         "['HP:0000032 ! Abnormal male external genitalia morphology', 'HP:0003241 ! External genital hypoplasia']",
         null,
         null,
         "['HP:0008710', 'HP:0008721']",
         null,
         null,
         null,
         null
        ],
        [
         "46",
         "HP:0000051",
         "Perineal hypospadias",
         null,
         "SNOMEDCT_US:204890004;UMLS:C0452148",
         "\"Hypospadias with location of the urethral meatus in the perineal region.\" [https://orcid.org/0000-0002-0736-9199, PMID:8097257]",
         null,
         "HP:0000047 ! Hypospadias",
         null,
         null,
         null,
         null,
         null,
         null,
         null
        ],
        [
         "47",
         "HP:0000052",
         "Urethral atresia, male",
         null,
         "UMLS:C4025894",
         "\"Congenital anomaly characterized by closure or failure to develop an opening in the urethra in males.\" [https://orcid.org/0000-0002-0736-9199]",
         null,
         "HP:0000068 ! Urethral atresia",
         null,
         null,
         null,
         null,
         null,
         null,
         null
        ],
        [
         "48",
         "HP:0000053",
         "Macroorchidism",
         null,
         "UMLS:C1263023",
         "\"The presence of abnormally large testes.\" [https://orcid.org/0000-0002-0736-9199]",
         "['\"Large testicles\" EXACT []', '\"Large testis\" EXACT layperson []']",
         "HP:0045058 ! Abnormality of the testis size",
         null,
         null,
         null,
         null,
         null,
         null,
         null
        ],
        [
         "49",
         "HP:0000054",
         "Micropenis",
         null,
         "SNOMEDCT_US:34911001;UMLS:C4551492",
         "\"Abnormally small penis. At birth, the normal penis is about 3 cm (stretched length from pubic tubercle to tip of penis) with micropenis less than 2.0-2.5 cm.\" [https://orcid.org/0000-0002-0736-9199, PMID:15102623]",
         "['\"Short penis\" EXACT layperson []', '\"Small penis\" EXACT layperson []']",
         "HP:0008736 ! Hypoplasia of penis",
         null,
         null,
         "HP:0000038",
         null,
         null,
         null,
         null
        ]
       ],
       "shape": {
        "columns": 14,
        "rows": 19533
       }
      },
      "text/html": [
       "<div>\n",
       "<style scoped>\n",
       "    .dataframe tbody tr th:only-of-type {\n",
       "        vertical-align: middle;\n",
       "    }\n",
       "\n",
       "    .dataframe tbody tr th {\n",
       "        vertical-align: top;\n",
       "    }\n",
       "\n",
       "    .dataframe thead th {\n",
       "        text-align: right;\n",
       "    }\n",
       "</style>\n",
       "<table border=\"1\" class=\"dataframe\">\n",
       "  <thead>\n",
       "    <tr style=\"text-align: right;\">\n",
       "      <th></th>\n",
       "      <th>id</th>\n",
       "      <th>name</th>\n",
       "      <th>comment</th>\n",
       "      <th>xref</th>\n",
       "      <th>def</th>\n",
       "      <th>synonym</th>\n",
       "      <th>is_a</th>\n",
       "      <th>property_value</th>\n",
       "      <th>creation_date</th>\n",
       "      <th>alt_id</th>\n",
       "      <th>subset</th>\n",
       "      <th>is_obsolete</th>\n",
       "      <th>replaced_by</th>\n",
       "      <th>consider</th>\n",
       "    </tr>\n",
       "  </thead>\n",
       "  <tbody>\n",
       "    <tr>\n",
       "      <th>0</th>\n",
       "      <td>HP:0000001</td>\n",
       "      <td>All</td>\n",
       "      <td>Root of all terms in the Human Phenotype Ontol...</td>\n",
       "      <td>UMLS:C0444868</td>\n",
       "      <td>NaN</td>\n",
       "      <td>NaN</td>\n",
       "      <td>NaN</td>\n",
       "      <td>NaN</td>\n",
       "      <td>NaN</td>\n",
       "      <td>NaN</td>\n",
       "      <td>NaN</td>\n",
       "      <td>NaN</td>\n",
       "      <td>NaN</td>\n",
       "      <td>NaN</td>\n",
       "    </tr>\n",
       "    <tr>\n",
       "      <th>1</th>\n",
       "      <td>HP:0000002</td>\n",
       "      <td>Abnormality of body height</td>\n",
       "      <td>NaN</td>\n",
       "      <td>UMLS:C4025901</td>\n",
       "      <td>\"Deviation from the norm of height with respec...</td>\n",
       "      <td>\"Abnormality of body height\" EXACT layperson []</td>\n",
       "      <td>HP:0001507 ! Growth abnormality</td>\n",
       "      <td>terms:creator https://orcid.org/0000-0002-0736...</td>\n",
       "      <td>2008-02-27T02:20:00Z</td>\n",
       "      <td>NaN</td>\n",
       "      <td>NaN</td>\n",
       "      <td>NaN</td>\n",
       "      <td>NaN</td>\n",
       "      <td>NaN</td>\n",
       "    </tr>\n",
       "    <tr>\n",
       "      <th>2</th>\n",
       "      <td>HP:0000003</td>\n",
       "      <td>Multicystic kidney dysplasia</td>\n",
       "      <td>Multicystic kidney dysplasia is the result of ...</td>\n",
       "      <td>SNOMEDCT_US:204962002;SNOMEDCT_US:82525005;UML...</td>\n",
       "      <td>\"Multicystic dysplasia of the kidney is charac...</td>\n",
       "      <td>[\"Multicystic dysplastic kidney\" EXACT [], \"Mu...</td>\n",
       "      <td>HP:0000107 ! Renal cyst</td>\n",
       "      <td>NaN</td>\n",
       "      <td>NaN</td>\n",
       "      <td>HP:0004715</td>\n",
       "      <td>NaN</td>\n",
       "      <td>NaN</td>\n",
       "      <td>NaN</td>\n",
       "      <td>NaN</td>\n",
       "    </tr>\n",
       "    <tr>\n",
       "      <th>3</th>\n",
       "      <td>HP:0000005</td>\n",
       "      <td>Mode of inheritance</td>\n",
       "      <td>While there is a close conceptual relationship...</td>\n",
       "      <td>UMLS:C1708511</td>\n",
       "      <td>\"The pattern in which a particular genetic tra...</td>\n",
       "      <td>\"Inheritance\" EXACT []</td>\n",
       "      <td>HP:0000001 ! All</td>\n",
       "      <td>NaN</td>\n",
       "      <td>NaN</td>\n",
       "      <td>[HP:0001425, HP:0001453, HP:0001461, HP:0010985]</td>\n",
       "      <td>NaN</td>\n",
       "      <td>NaN</td>\n",
       "      <td>NaN</td>\n",
       "      <td>NaN</td>\n",
       "    </tr>\n",
       "    <tr>\n",
       "      <th>4</th>\n",
       "      <td>HP:0000006</td>\n",
       "      <td>Autosomal dominant inheritance</td>\n",
       "      <td>NaN</td>\n",
       "      <td>SNOMEDCT_US:263681008;UMLS:C0443147</td>\n",
       "      <td>\"A mode of inheritance that is observed for tr...</td>\n",
       "      <td>[\"Autosomal dominant\" EXACT [], \"Autosomal dom...</td>\n",
       "      <td>HP:0034345 ! Mendelian inheritance</td>\n",
       "      <td>NaN</td>\n",
       "      <td>NaN</td>\n",
       "      <td>[HP:0001415, HP:0001447, HP:0001448, HP:000145...</td>\n",
       "      <td>NaN</td>\n",
       "      <td>NaN</td>\n",
       "      <td>NaN</td>\n",
       "      <td>NaN</td>\n",
       "    </tr>\n",
       "    <tr>\n",
       "      <th>...</th>\n",
       "      <td>...</td>\n",
       "      <td>...</td>\n",
       "      <td>...</td>\n",
       "      <td>...</td>\n",
       "      <td>...</td>\n",
       "      <td>...</td>\n",
       "      <td>...</td>\n",
       "      <td>...</td>\n",
       "      <td>...</td>\n",
       "      <td>...</td>\n",
       "      <td>...</td>\n",
       "      <td>...</td>\n",
       "      <td>...</td>\n",
       "      <td>...</td>\n",
       "    </tr>\n",
       "    <tr>\n",
       "      <th>19528</th>\n",
       "      <td>HP:6001198</td>\n",
       "      <td>Scapholunate interval widening</td>\n",
       "      <td>NaN</td>\n",
       "      <td>NaN</td>\n",
       "      <td>\"Widening of the space between the scaphoid an...</td>\n",
       "      <td>\"Terry-Thomas sign\" EXACT []</td>\n",
       "      <td>HP:0001191 ! Abnormal carpal morphology</td>\n",
       "      <td>[IAO:0000233 https://github.com/obophenotype/h...</td>\n",
       "      <td>NaN</td>\n",
       "      <td>NaN</td>\n",
       "      <td>NaN</td>\n",
       "      <td>NaN</td>\n",
       "      <td>NaN</td>\n",
       "      <td>NaN</td>\n",
       "    </tr>\n",
       "    <tr>\n",
       "      <th>19529</th>\n",
       "      <td>HP:6001199</td>\n",
       "      <td>FInger pulp localization</td>\n",
       "      <td>NaN</td>\n",
       "      <td>NaN</td>\n",
       "      <td>\"Applies to an abnormality whose distribution ...</td>\n",
       "      <td>\"Symptoms localized to pulp of the finger\" EXA...</td>\n",
       "      <td>HP:0012836 ! Spatial pattern</td>\n",
       "      <td>[IAO:0000233 https://github.com/obophenotype/h...</td>\n",
       "      <td>NaN</td>\n",
       "      <td>NaN</td>\n",
       "      <td>NaN</td>\n",
       "      <td>NaN</td>\n",
       "      <td>NaN</td>\n",
       "      <td>NaN</td>\n",
       "    </tr>\n",
       "    <tr>\n",
       "      <th>19530</th>\n",
       "      <td>HP:6001200</td>\n",
       "      <td>Ulnar wrist pain</td>\n",
       "      <td>The ulnar side of the wrist is the side of the...</td>\n",
       "      <td>NaN</td>\n",
       "      <td>\"An unpleasant sensation characterized by phys...</td>\n",
       "      <td>NaN</td>\n",
       "      <td>HP:0030836 ! Wrist pain</td>\n",
       "      <td>[IAO:0000233 https://github.com/obophenotype/h...</td>\n",
       "      <td>NaN</td>\n",
       "      <td>NaN</td>\n",
       "      <td>NaN</td>\n",
       "      <td>NaN</td>\n",
       "      <td>NaN</td>\n",
       "      <td>NaN</td>\n",
       "    </tr>\n",
       "    <tr>\n",
       "      <th>19531</th>\n",
       "      <td>HP:6001201</td>\n",
       "      <td>Lunotriquetral interval widening</td>\n",
       "      <td>This finding may be observed with lunotriquetr...</td>\n",
       "      <td>NaN</td>\n",
       "      <td>\"Radiographic widening of the space between th...</td>\n",
       "      <td>NaN</td>\n",
       "      <td>HP:0001191 ! Abnormal carpal morphology</td>\n",
       "      <td>[IAO:0000233 https://github.com/obophenotype/h...</td>\n",
       "      <td>NaN</td>\n",
       "      <td>NaN</td>\n",
       "      <td>NaN</td>\n",
       "      <td>NaN</td>\n",
       "      <td>NaN</td>\n",
       "      <td>NaN</td>\n",
       "    </tr>\n",
       "    <tr>\n",
       "      <th>19532</th>\n",
       "      <td>HP:6001202</td>\n",
       "      <td>Ulnar translocation of the carpus</td>\n",
       "      <td>This finding may be observed with Carpal insta...</td>\n",
       "      <td>NaN</td>\n",
       "      <td>\"Anteroposterior wrist radiograph showing ulna...</td>\n",
       "      <td>NaN</td>\n",
       "      <td>HP:0001191 ! Abnormal carpal morphology</td>\n",
       "      <td>[IAO:0000233 https://github.com/obophenotype/h...</td>\n",
       "      <td>NaN</td>\n",
       "      <td>NaN</td>\n",
       "      <td>NaN</td>\n",
       "      <td>NaN</td>\n",
       "      <td>NaN</td>\n",
       "      <td>NaN</td>\n",
       "    </tr>\n",
       "  </tbody>\n",
       "</table>\n",
       "<p>19533 rows × 14 columns</p>\n",
       "</div>"
      ],
      "text/plain": [
       "               id                               name  \\\n",
       "0      HP:0000001                                All   \n",
       "1      HP:0000002         Abnormality of body height   \n",
       "2      HP:0000003       Multicystic kidney dysplasia   \n",
       "3      HP:0000005                Mode of inheritance   \n",
       "4      HP:0000006     Autosomal dominant inheritance   \n",
       "...           ...                                ...   \n",
       "19528  HP:6001198     Scapholunate interval widening   \n",
       "19529  HP:6001199           FInger pulp localization   \n",
       "19530  HP:6001200                   Ulnar wrist pain   \n",
       "19531  HP:6001201   Lunotriquetral interval widening   \n",
       "19532  HP:6001202  Ulnar translocation of the carpus   \n",
       "\n",
       "                                                 comment  \\\n",
       "0      Root of all terms in the Human Phenotype Ontol...   \n",
       "1                                                    NaN   \n",
       "2      Multicystic kidney dysplasia is the result of ...   \n",
       "3      While there is a close conceptual relationship...   \n",
       "4                                                    NaN   \n",
       "...                                                  ...   \n",
       "19528                                                NaN   \n",
       "19529                                                NaN   \n",
       "19530  The ulnar side of the wrist is the side of the...   \n",
       "19531  This finding may be observed with lunotriquetr...   \n",
       "19532  This finding may be observed with Carpal insta...   \n",
       "\n",
       "                                                    xref  \\\n",
       "0                                          UMLS:C0444868   \n",
       "1                                          UMLS:C4025901   \n",
       "2      SNOMEDCT_US:204962002;SNOMEDCT_US:82525005;UML...   \n",
       "3                                          UMLS:C1708511   \n",
       "4                    SNOMEDCT_US:263681008;UMLS:C0443147   \n",
       "...                                                  ...   \n",
       "19528                                                NaN   \n",
       "19529                                                NaN   \n",
       "19530                                                NaN   \n",
       "19531                                                NaN   \n",
       "19532                                                NaN   \n",
       "\n",
       "                                                     def  \\\n",
       "0                                                    NaN   \n",
       "1      \"Deviation from the norm of height with respec...   \n",
       "2      \"Multicystic dysplasia of the kidney is charac...   \n",
       "3      \"The pattern in which a particular genetic tra...   \n",
       "4      \"A mode of inheritance that is observed for tr...   \n",
       "...                                                  ...   \n",
       "19528  \"Widening of the space between the scaphoid an...   \n",
       "19529  \"Applies to an abnormality whose distribution ...   \n",
       "19530  \"An unpleasant sensation characterized by phys...   \n",
       "19531  \"Radiographic widening of the space between th...   \n",
       "19532  \"Anteroposterior wrist radiograph showing ulna...   \n",
       "\n",
       "                                                 synonym  \\\n",
       "0                                                    NaN   \n",
       "1        \"Abnormality of body height\" EXACT layperson []   \n",
       "2      [\"Multicystic dysplastic kidney\" EXACT [], \"Mu...   \n",
       "3                                 \"Inheritance\" EXACT []   \n",
       "4      [\"Autosomal dominant\" EXACT [], \"Autosomal dom...   \n",
       "...                                                  ...   \n",
       "19528                       \"Terry-Thomas sign\" EXACT []   \n",
       "19529  \"Symptoms localized to pulp of the finger\" EXA...   \n",
       "19530                                                NaN   \n",
       "19531                                                NaN   \n",
       "19532                                                NaN   \n",
       "\n",
       "                                          is_a  \\\n",
       "0                                          NaN   \n",
       "1              HP:0001507 ! Growth abnormality   \n",
       "2                      HP:0000107 ! Renal cyst   \n",
       "3                             HP:0000001 ! All   \n",
       "4           HP:0034345 ! Mendelian inheritance   \n",
       "...                                        ...   \n",
       "19528  HP:0001191 ! Abnormal carpal morphology   \n",
       "19529             HP:0012836 ! Spatial pattern   \n",
       "19530                  HP:0030836 ! Wrist pain   \n",
       "19531  HP:0001191 ! Abnormal carpal morphology   \n",
       "19532  HP:0001191 ! Abnormal carpal morphology   \n",
       "\n",
       "                                          property_value  \\\n",
       "0                                                    NaN   \n",
       "1      terms:creator https://orcid.org/0000-0002-0736...   \n",
       "2                                                    NaN   \n",
       "3                                                    NaN   \n",
       "4                                                    NaN   \n",
       "...                                                  ...   \n",
       "19528  [IAO:0000233 https://github.com/obophenotype/h...   \n",
       "19529  [IAO:0000233 https://github.com/obophenotype/h...   \n",
       "19530  [IAO:0000233 https://github.com/obophenotype/h...   \n",
       "19531  [IAO:0000233 https://github.com/obophenotype/h...   \n",
       "19532  [IAO:0000233 https://github.com/obophenotype/h...   \n",
       "\n",
       "              creation_date  \\\n",
       "0                       NaN   \n",
       "1      2008-02-27T02:20:00Z   \n",
       "2                       NaN   \n",
       "3                       NaN   \n",
       "4                       NaN   \n",
       "...                     ...   \n",
       "19528                   NaN   \n",
       "19529                   NaN   \n",
       "19530                   NaN   \n",
       "19531                   NaN   \n",
       "19532                   NaN   \n",
       "\n",
       "                                                  alt_id subset is_obsolete  \\\n",
       "0                                                    NaN    NaN         NaN   \n",
       "1                                                    NaN    NaN         NaN   \n",
       "2                                             HP:0004715    NaN         NaN   \n",
       "3       [HP:0001425, HP:0001453, HP:0001461, HP:0010985]    NaN         NaN   \n",
       "4      [HP:0001415, HP:0001447, HP:0001448, HP:000145...    NaN         NaN   \n",
       "...                                                  ...    ...         ...   \n",
       "19528                                                NaN    NaN         NaN   \n",
       "19529                                                NaN    NaN         NaN   \n",
       "19530                                                NaN    NaN         NaN   \n",
       "19531                                                NaN    NaN         NaN   \n",
       "19532                                                NaN    NaN         NaN   \n",
       "\n",
       "      replaced_by consider  \n",
       "0             NaN      NaN  \n",
       "1             NaN      NaN  \n",
       "2             NaN      NaN  \n",
       "3             NaN      NaN  \n",
       "4             NaN      NaN  \n",
       "...           ...      ...  \n",
       "19528         NaN      NaN  \n",
       "19529         NaN      NaN  \n",
       "19530         NaN      NaN  \n",
       "19531         NaN      NaN  \n",
       "19532         NaN      NaN  \n",
       "\n",
       "[19533 rows x 14 columns]"
      ]
     },
     "execution_count": 1,
     "metadata": {},
     "output_type": "execute_result"
    }
   ],
   "source": [
    "# Download Link: https://github.com/obophenotype/human-phenotype-ontology/releases/download/2025-03-03/hp.obo\n",
    "# Download Date: 2025-03-21\n",
    "# Download Version: 2025-03-03\n",
    "import pandas as pd\n",
    "\n",
    "def parse_obo(file_content):\n",
    "    terms = []\n",
    "    term = {}\n",
    "    in_term = False\n",
    "\n",
    "    for line in file_content:\n",
    "        line = line.strip()\n",
    "        if line == \"[Term]\":\n",
    "            if term:\n",
    "                terms.append(term)\n",
    "            term = {}\n",
    "            in_term = True\n",
    "        elif line == \"[Typedef]\":\n",
    "            in_term = False\n",
    "            if term:\n",
    "                terms.append(term)\n",
    "            term = {}\n",
    "        elif in_term:\n",
    "            if not line:\n",
    "                continue\n",
    "            if \": \" in line:\n",
    "                key, value = line.split(\": \", 1)\n",
    "                if key in term:\n",
    "                    if isinstance(term[key], list):\n",
    "                        term[key].append(value)\n",
    "                    else:\n",
    "                        term[key] = [term[key], value]\n",
    "                else:\n",
    "                    term[key] = value\n",
    "            else:\n",
    "                if 'unknown' in term:\n",
    "                    term['unknown'].append(line)\n",
    "                else:\n",
    "                    term['unknown'] = [line]\n",
    "    if term:\n",
    "        terms.append(term)\n",
    "    \n",
    "    return terms\n",
    "\n",
    "file_path = 'hp.obo'\n",
    "with open(file_path, 'r') as file:\n",
    "    content = file.readlines()\n",
    "\n",
    "parsed_terms = parse_obo(content)\n",
    "\n",
    "df_hpo = pd.DataFrame(parsed_terms)\n",
    "df_hpo['xref'] = df_hpo['xref'].apply(lambda x: ';'.join(x) if isinstance(x, list) else x)\n",
    "df_hpo"
   ]
  },
  {
   "cell_type": "code",
   "execution_count": 2,
   "metadata": {},
   "outputs": [
    {
     "data": {
      "application/vnd.microsoft.datawrangler.viewer.v0+json": {
       "columns": [
        {
         "name": "index",
         "rawType": "int64",
         "type": "integer"
        },
        {
         "name": "child_id",
         "rawType": "object",
         "type": "string"
        },
        {
         "name": "parent_id",
         "rawType": "object",
         "type": "string"
        }
       ],
       "conversionMethod": "pd.DataFrame",
       "ref": "33376c13-cdd2-4a3a-a0f2-7f7eb4d9bccb",
       "rows": [
        [
         "1",
         "HP:0000002",
         "HP:0001507"
        ],
        [
         "2",
         "HP:0000003",
         "HP:0000107"
        ],
        [
         "3",
         "HP:0000005",
         "HP:0000001"
        ],
        [
         "4",
         "HP:0000006",
         "HP:0034345"
        ],
        [
         "5",
         "HP:0000007",
         "HP:0034345"
        ],
        [
         "6",
         "HP:0000008",
         "HP:0000812"
        ],
        [
         "6",
         "HP:0000008",
         "HP:0010460"
        ],
        [
         "7",
         "HP:0000009",
         "HP:0000014"
        ],
        [
         "8",
         "HP:0000010",
         "HP:0002719"
        ],
        [
         "8",
         "HP:0000010",
         "HP:0011277"
        ],
        [
         "9",
         "HP:0000011",
         "HP:0000009"
        ],
        [
         "10",
         "HP:0000012",
         "HP:0000009"
        ],
        [
         "11",
         "HP:0000013",
         "HP:0008684"
        ],
        [
         "12",
         "HP:0000014",
         "HP:0010936"
        ],
        [
         "13",
         "HP:0000015",
         "HP:0025487"
        ],
        [
         "14",
         "HP:0000016",
         "HP:0000009"
        ],
        [
         "15",
         "HP:0000017",
         "HP:0000009"
        ],
        [
         "16",
         "HP:0000019",
         "HP:0000009"
        ],
        [
         "17",
         "HP:0000020",
         "HP:0000009"
        ],
        [
         "17",
         "HP:0000020",
         "HP:0031064"
        ],
        [
         "18",
         "HP:0000021",
         "HP:0010955"
        ],
        [
         "19",
         "HP:0000022",
         "HP:0000812"
        ],
        [
         "19",
         "HP:0000022",
         "HP:0010461"
        ],
        [
         "20",
         "HP:0000023",
         "HP:0004299"
        ],
        [
         "21",
         "HP:0000024",
         "HP:0008775"
        ],
        [
         "21",
         "HP:0000024",
         "HP:0012649"
        ],
        [
         "22",
         "HP:0000025",
         "HP:0012874"
        ],
        [
         "23",
         "HP:0000026",
         "HP:0000025"
        ],
        [
         "23",
         "HP:0000026",
         "HP:0000135"
        ],
        [
         "24",
         "HP:0000027",
         "HP:0008669"
        ],
        [
         "25",
         "HP:0000028",
         "HP:0000035"
        ],
        [
         "26",
         "HP:0000029",
         "HP:0000035"
        ],
        [
         "27",
         "HP:0000030",
         "HP:0000150"
        ],
        [
         "27",
         "HP:0000030",
         "HP:0010788"
        ],
        [
         "28",
         "HP:0000031",
         "HP:0009714"
        ],
        [
         "28",
         "HP:0000031",
         "HP:0012649"
        ],
        [
         "29",
         "HP:0000032",
         "HP:0000811"
        ],
        [
         "29",
         "HP:0000032",
         "HP:0010461"
        ],
        [
         "30",
         "HP:0000033",
         "HP:0000032"
        ],
        [
         "30",
         "HP:0000033",
         "HP:0000062"
        ],
        [
         "31",
         "HP:0000034",
         "HP:0000035"
        ],
        [
         "32",
         "HP:0000035",
         "HP:0000032"
        ],
        [
         "33",
         "HP:0000036",
         "HP:0000032"
        ],
        [
         "34",
         "HP:0000037",
         "HP:0000032"
        ],
        [
         "35",
         "HP:0000039",
         "HP:0100627"
        ],
        [
         "36",
         "HP:0000040",
         "HP:0000036"
        ],
        [
         "37",
         "HP:0000041",
         "HP:0000036"
        ],
        [
         "38",
         "HP:0000042",
         "HP:0000811"
        ],
        [
         "39",
         "HP:0000044",
         "HP:0000135"
        ],
        [
         "40",
         "HP:0000045",
         "HP:0000032"
        ]
       ],
       "shape": {
        "columns": 2,
        "rows": 23461
       }
      },
      "text/html": [
       "<div>\n",
       "<style scoped>\n",
       "    .dataframe tbody tr th:only-of-type {\n",
       "        vertical-align: middle;\n",
       "    }\n",
       "\n",
       "    .dataframe tbody tr th {\n",
       "        vertical-align: top;\n",
       "    }\n",
       "\n",
       "    .dataframe thead th {\n",
       "        text-align: right;\n",
       "    }\n",
       "</style>\n",
       "<table border=\"1\" class=\"dataframe\">\n",
       "  <thead>\n",
       "    <tr style=\"text-align: right;\">\n",
       "      <th></th>\n",
       "      <th>child_id</th>\n",
       "      <th>parent_id</th>\n",
       "    </tr>\n",
       "  </thead>\n",
       "  <tbody>\n",
       "    <tr>\n",
       "      <th>1</th>\n",
       "      <td>HP:0000002</td>\n",
       "      <td>HP:0001507</td>\n",
       "    </tr>\n",
       "    <tr>\n",
       "      <th>2</th>\n",
       "      <td>HP:0000003</td>\n",
       "      <td>HP:0000107</td>\n",
       "    </tr>\n",
       "    <tr>\n",
       "      <th>3</th>\n",
       "      <td>HP:0000005</td>\n",
       "      <td>HP:0000001</td>\n",
       "    </tr>\n",
       "    <tr>\n",
       "      <th>4</th>\n",
       "      <td>HP:0000006</td>\n",
       "      <td>HP:0034345</td>\n",
       "    </tr>\n",
       "    <tr>\n",
       "      <th>5</th>\n",
       "      <td>HP:0000007</td>\n",
       "      <td>HP:0034345</td>\n",
       "    </tr>\n",
       "    <tr>\n",
       "      <th>...</th>\n",
       "      <td>...</td>\n",
       "      <td>...</td>\n",
       "    </tr>\n",
       "    <tr>\n",
       "      <th>19528</th>\n",
       "      <td>HP:6001198</td>\n",
       "      <td>HP:0001191</td>\n",
       "    </tr>\n",
       "    <tr>\n",
       "      <th>19529</th>\n",
       "      <td>HP:6001199</td>\n",
       "      <td>HP:0012836</td>\n",
       "    </tr>\n",
       "    <tr>\n",
       "      <th>19530</th>\n",
       "      <td>HP:6001200</td>\n",
       "      <td>HP:0030836</td>\n",
       "    </tr>\n",
       "    <tr>\n",
       "      <th>19531</th>\n",
       "      <td>HP:6001201</td>\n",
       "      <td>HP:0001191</td>\n",
       "    </tr>\n",
       "    <tr>\n",
       "      <th>19532</th>\n",
       "      <td>HP:6001202</td>\n",
       "      <td>HP:0001191</td>\n",
       "    </tr>\n",
       "  </tbody>\n",
       "</table>\n",
       "<p>23461 rows × 2 columns</p>\n",
       "</div>"
      ],
      "text/plain": [
       "         child_id   parent_id\n",
       "1      HP:0000002  HP:0001507\n",
       "2      HP:0000003  HP:0000107\n",
       "3      HP:0000005  HP:0000001\n",
       "4      HP:0000006  HP:0034345\n",
       "5      HP:0000007  HP:0034345\n",
       "...           ...         ...\n",
       "19528  HP:6001198  HP:0001191\n",
       "19529  HP:6001199  HP:0012836\n",
       "19530  HP:6001200  HP:0030836\n",
       "19531  HP:6001201  HP:0001191\n",
       "19532  HP:6001202  HP:0001191\n",
       "\n",
       "[23461 rows x 2 columns]"
      ]
     },
     "execution_count": 2,
     "metadata": {},
     "output_type": "execute_result"
    }
   ],
   "source": [
    "df_hpo_relation = df_hpo[['id', 'is_a']]\n",
    "df_hpo_relation = df_hpo_relation.dropna()\n",
    "df_hpo_relation = df_hpo_relation.dropna(subset=['is_a'])\n",
    "df_hpo_relation['is_a'] = df_hpo_relation['is_a'].astype(str)\n",
    "df_hpo_relation['is_a'] = df_hpo_relation['is_a'].str.replace('[', '').str.replace(']', '').str.replace(\"'\", '')\n",
    "df_hpo_relation['is_a'] = df_hpo_relation['is_a'].str.split(', ').apply(lambda x: [item.split(' ! ')[0] for item in x] if isinstance(x, list) else x)\n",
    "df_hpo_relation = df_hpo_relation.explode('is_a')\n",
    "df_hpo_relation = df_hpo_relation.rename(columns={'id': 'child_id', 'is_a': 'parent_id'})\n",
    "df_hpo_relation"
   ]
  },
  {
   "cell_type": "markdown",
   "metadata": {},
   "source": [
    "### BioMedGraphica ID"
   ]
  },
  {
   "cell_type": "code",
   "execution_count": 3,
   "metadata": {},
   "outputs": [],
   "source": [
    "import pandas as pd\n",
    "import os\n",
    "from pathlib import Path\n",
    "\n",
    "current_working_dir = Path(os.getcwd()).resolve()\n",
    "grandparent_dir = current_working_dir.parent.parent.parent\n",
    "target_dir_phenotype = grandparent_dir / 'BioMedGraphica' / 'Entity' / 'Phenotype' / 'BioMedGraphica_Phenotype.csv'\n",
    "biomedgraphica_phenotype = pd.read_csv(target_dir_phenotype, dtype=str)"
   ]
  },
  {
   "cell_type": "markdown",
   "metadata": {},
   "source": [
    "### HPO Mapping"
   ]
  },
  {
   "cell_type": "code",
   "execution_count": 4,
   "metadata": {},
   "outputs": [],
   "source": [
    "hpo_individual = biomedgraphica_phenotype[['HPO_ID', 'BioMedGraphica_ID']]\n",
    "hpo_individual = hpo_individual.dropna(subset=['HPO_ID'])\n",
    "hpo_individual['HPO_ID'] = hpo_individual['HPO_ID'].str.split(';')\n",
    "hpo_individual = hpo_individual.explode('HPO_ID')\n",
    "hpo_individual = hpo_individual.drop_duplicates()\n",
    "\n",
    "hpo_to_individual = hpo_individual.groupby('HPO_ID')['BioMedGraphica_ID'].apply(lambda x: ';'.join(x.dropna().unique())).to_dict()"
   ]
  },
  {
   "cell_type": "code",
   "execution_count": 5,
   "metadata": {},
   "outputs": [
    {
     "data": {
      "application/vnd.microsoft.datawrangler.viewer.v0+json": {
       "columns": [
        {
         "name": "index",
         "rawType": "int64",
         "type": "integer"
        },
        {
         "name": "child_id",
         "rawType": "object",
         "type": "string"
        },
        {
         "name": "parent_id",
         "rawType": "object",
         "type": "string"
        },
        {
         "name": "To_ID",
         "rawType": "object",
         "type": "string"
        },
        {
         "name": "From_ID",
         "rawType": "object",
         "type": "unknown"
        }
       ],
       "conversionMethod": "pd.DataFrame",
       "ref": "9d41b8ee-5087-4b86-8aed-2e7fa52edc79",
       "rows": [
        [
         "1",
         "HP:0000002",
         "HP:0001507",
         "BMG_PH00001",
         "BMG_PH01144"
        ],
        [
         "2",
         "HP:0000003",
         "HP:0000107",
         "BMG_PH00002",
         "BMG_PH00094"
        ],
        [
         "3",
         "HP:0000005",
         "HP:0000001",
         "BMG_PH00003",
         null
        ],
        [
         "4",
         "HP:0000006",
         "HP:0034345",
         "BMG_PH00004",
         "BMG_PH14790"
        ],
        [
         "5",
         "HP:0000007",
         "HP:0034345",
         "BMG_PH00005",
         "BMG_PH14790"
        ],
        [
         "6",
         "HP:0000008",
         "HP:0000812",
         "BMG_PH00006",
         "BMG_PH00640"
        ],
        [
         "6",
         "HP:0000008",
         "HP:0010460",
         "BMG_PH00006",
         "BMG_PH07155"
        ],
        [
         "7",
         "HP:0000009",
         "HP:0000014",
         "BMG_PH00007",
         "BMG_PH00012"
        ],
        [
         "8",
         "HP:0000010",
         "HP:0002719",
         "BMG_PH00008",
         "BMG_PH02026"
        ],
        [
         "8",
         "HP:0000010",
         "HP:0011277",
         "BMG_PH00008",
         "BMG_PH07936"
        ],
        [
         "9",
         "HP:0000011",
         "HP:0000009",
         "BMG_PH00009",
         "BMG_PH00007"
        ],
        [
         "10",
         "HP:0000012",
         "HP:0000009",
         "BMG_PH00010",
         "BMG_PH00007"
        ],
        [
         "11",
         "HP:0000013",
         "HP:0008684",
         "BMG_PH00011",
         "BMG_PH05684"
        ],
        [
         "12",
         "HP:0000014",
         "HP:0010936",
         "BMG_PH00012",
         "BMG_PH07601"
        ],
        [
         "13",
         "HP:0000015",
         "HP:0025487",
         "BMG_PH00013",
         "BMG_PH10249"
        ],
        [
         "14",
         "HP:0000016",
         "HP:0000009",
         "BMG_PH00014",
         "BMG_PH00007"
        ],
        [
         "15",
         "HP:0000017",
         "HP:0000009",
         "BMG_PH00015",
         "BMG_PH00007"
        ],
        [
         "16",
         "HP:0000019",
         "HP:0000009",
         "BMG_PH00016",
         "BMG_PH00007"
        ],
        [
         "17",
         "HP:0000020",
         "HP:0000009",
         "BMG_PH00017",
         "BMG_PH00007"
        ],
        [
         "17",
         "HP:0000020",
         "HP:0031064",
         "BMG_PH00017",
         "BMG_PH11574"
        ],
        [
         "18",
         "HP:0000021",
         "HP:0010955",
         "BMG_PH00018",
         "BMG_PH07620"
        ],
        [
         "19",
         "HP:0000022",
         "HP:0000812",
         "BMG_PH00019",
         "BMG_PH00640"
        ],
        [
         "19",
         "HP:0000022",
         "HP:0010461",
         "BMG_PH00019",
         "BMG_PH07156"
        ],
        [
         "20",
         "HP:0000023",
         "HP:0004299",
         "BMG_PH00020",
         "BMG_PH03105"
        ],
        [
         "21",
         "HP:0000024",
         "HP:0008775",
         "BMG_PH00021",
         "BMG_PH05742"
        ],
        [
         "21",
         "HP:0000024",
         "HP:0012649",
         "BMG_PH00021",
         "BMG_PH09300"
        ],
        [
         "22",
         "HP:0000025",
         "HP:0012874",
         "BMG_PH00022",
         "BMG_PH09525"
        ],
        [
         "23",
         "HP:0000026",
         "HP:0000025",
         "BMG_PH00023",
         "BMG_PH00022"
        ],
        [
         "23",
         "HP:0000026",
         "HP:0000135",
         "BMG_PH00023",
         "BMG_PH00117"
        ],
        [
         "24",
         "HP:0000027",
         "HP:0008669",
         "BMG_PH00024",
         "BMG_PH05675"
        ],
        [
         "25",
         "HP:0000028",
         "HP:0000035",
         "BMG_PH00025",
         "BMG_PH00032"
        ],
        [
         "26",
         "HP:0000029",
         "HP:0000035",
         "BMG_PH00026",
         "BMG_PH00032"
        ],
        [
         "27",
         "HP:0000030",
         "HP:0000150",
         "BMG_PH00027",
         "BMG_PH00131"
        ],
        [
         "27",
         "HP:0000030",
         "HP:0010788",
         "BMG_PH00027",
         "BMG_PH07458"
        ],
        [
         "28",
         "HP:0000031",
         "HP:0009714",
         "BMG_PH00028",
         "BMG_PH06452"
        ],
        [
         "28",
         "HP:0000031",
         "HP:0012649",
         "BMG_PH00028",
         "BMG_PH09300"
        ],
        [
         "29",
         "HP:0000032",
         "HP:0000811",
         "BMG_PH00029",
         "BMG_PH00639"
        ],
        [
         "29",
         "HP:0000032",
         "HP:0010461",
         "BMG_PH00029",
         "BMG_PH07156"
        ],
        [
         "30",
         "HP:0000033",
         "HP:0000032",
         "BMG_PH00030",
         "BMG_PH00029"
        ],
        [
         "30",
         "HP:0000033",
         "HP:0000062",
         "BMG_PH00030",
         "BMG_PH00057"
        ],
        [
         "31",
         "HP:0000034",
         "HP:0000035",
         "BMG_PH00031",
         "BMG_PH00032"
        ],
        [
         "32",
         "HP:0000035",
         "HP:0000032",
         "BMG_PH00032",
         "BMG_PH00029"
        ],
        [
         "33",
         "HP:0000036",
         "HP:0000032",
         "BMG_PH00033",
         "BMG_PH00029"
        ],
        [
         "34",
         "HP:0000037",
         "HP:0000032",
         "BMG_PH00034",
         "BMG_PH00029"
        ],
        [
         "35",
         "HP:0000039",
         "HP:0100627",
         "BMG_PH00035",
         "BMG_PH16650"
        ],
        [
         "36",
         "HP:0000040",
         "HP:0000036",
         "BMG_PH00036",
         "BMG_PH00033"
        ],
        [
         "37",
         "HP:0000041",
         "HP:0000036",
         "BMG_PH00037",
         "BMG_PH00033"
        ],
        [
         "38",
         "HP:0000042",
         "HP:0000811",
         "BMG_PH00038",
         "BMG_PH00639"
        ],
        [
         "39",
         "HP:0000044",
         "HP:0000135",
         "BMG_PH00039",
         "BMG_PH00117"
        ],
        [
         "40",
         "HP:0000045",
         "HP:0000032",
         "BMG_PH00040",
         "BMG_PH00029"
        ]
       ],
       "shape": {
        "columns": 4,
        "rows": 23461
       }
      },
      "text/html": [
       "<div>\n",
       "<style scoped>\n",
       "    .dataframe tbody tr th:only-of-type {\n",
       "        vertical-align: middle;\n",
       "    }\n",
       "\n",
       "    .dataframe tbody tr th {\n",
       "        vertical-align: top;\n",
       "    }\n",
       "\n",
       "    .dataframe thead th {\n",
       "        text-align: right;\n",
       "    }\n",
       "</style>\n",
       "<table border=\"1\" class=\"dataframe\">\n",
       "  <thead>\n",
       "    <tr style=\"text-align: right;\">\n",
       "      <th></th>\n",
       "      <th>child_id</th>\n",
       "      <th>parent_id</th>\n",
       "      <th>To_ID</th>\n",
       "      <th>From_ID</th>\n",
       "    </tr>\n",
       "  </thead>\n",
       "  <tbody>\n",
       "    <tr>\n",
       "      <th>1</th>\n",
       "      <td>HP:0000002</td>\n",
       "      <td>HP:0001507</td>\n",
       "      <td>BMG_PH00001</td>\n",
       "      <td>BMG_PH01144</td>\n",
       "    </tr>\n",
       "    <tr>\n",
       "      <th>2</th>\n",
       "      <td>HP:0000003</td>\n",
       "      <td>HP:0000107</td>\n",
       "      <td>BMG_PH00002</td>\n",
       "      <td>BMG_PH00094</td>\n",
       "    </tr>\n",
       "    <tr>\n",
       "      <th>3</th>\n",
       "      <td>HP:0000005</td>\n",
       "      <td>HP:0000001</td>\n",
       "      <td>BMG_PH00003</td>\n",
       "      <td>NaN</td>\n",
       "    </tr>\n",
       "    <tr>\n",
       "      <th>4</th>\n",
       "      <td>HP:0000006</td>\n",
       "      <td>HP:0034345</td>\n",
       "      <td>BMG_PH00004</td>\n",
       "      <td>BMG_PH14790</td>\n",
       "    </tr>\n",
       "    <tr>\n",
       "      <th>5</th>\n",
       "      <td>HP:0000007</td>\n",
       "      <td>HP:0034345</td>\n",
       "      <td>BMG_PH00005</td>\n",
       "      <td>BMG_PH14790</td>\n",
       "    </tr>\n",
       "    <tr>\n",
       "      <th>...</th>\n",
       "      <td>...</td>\n",
       "      <td>...</td>\n",
       "      <td>...</td>\n",
       "      <td>...</td>\n",
       "    </tr>\n",
       "    <tr>\n",
       "      <th>19528</th>\n",
       "      <td>HP:6001198</td>\n",
       "      <td>HP:0001191</td>\n",
       "      <td>BMG_PH19528</td>\n",
       "      <td>BMG_PH00940</td>\n",
       "    </tr>\n",
       "    <tr>\n",
       "      <th>19529</th>\n",
       "      <td>HP:6001199</td>\n",
       "      <td>HP:0012836</td>\n",
       "      <td>BMG_PH19529</td>\n",
       "      <td>BMG_PH09487</td>\n",
       "    </tr>\n",
       "    <tr>\n",
       "      <th>19530</th>\n",
       "      <td>HP:6001200</td>\n",
       "      <td>HP:0030836</td>\n",
       "      <td>BMG_PH19530</td>\n",
       "      <td>BMG_PH11355</td>\n",
       "    </tr>\n",
       "    <tr>\n",
       "      <th>19531</th>\n",
       "      <td>HP:6001201</td>\n",
       "      <td>HP:0001191</td>\n",
       "      <td>BMG_PH19531</td>\n",
       "      <td>BMG_PH00940</td>\n",
       "    </tr>\n",
       "    <tr>\n",
       "      <th>19532</th>\n",
       "      <td>HP:6001202</td>\n",
       "      <td>HP:0001191</td>\n",
       "      <td>BMG_PH19532</td>\n",
       "      <td>BMG_PH00940</td>\n",
       "    </tr>\n",
       "  </tbody>\n",
       "</table>\n",
       "<p>23461 rows × 4 columns</p>\n",
       "</div>"
      ],
      "text/plain": [
       "         child_id   parent_id        To_ID      From_ID\n",
       "1      HP:0000002  HP:0001507  BMG_PH00001  BMG_PH01144\n",
       "2      HP:0000003  HP:0000107  BMG_PH00002  BMG_PH00094\n",
       "3      HP:0000005  HP:0000001  BMG_PH00003          NaN\n",
       "4      HP:0000006  HP:0034345  BMG_PH00004  BMG_PH14790\n",
       "5      HP:0000007  HP:0034345  BMG_PH00005  BMG_PH14790\n",
       "...           ...         ...          ...          ...\n",
       "19528  HP:6001198  HP:0001191  BMG_PH19528  BMG_PH00940\n",
       "19529  HP:6001199  HP:0012836  BMG_PH19529  BMG_PH09487\n",
       "19530  HP:6001200  HP:0030836  BMG_PH19530  BMG_PH11355\n",
       "19531  HP:6001201  HP:0001191  BMG_PH19531  BMG_PH00940\n",
       "19532  HP:6001202  HP:0001191  BMG_PH19532  BMG_PH00940\n",
       "\n",
       "[23461 rows x 4 columns]"
      ]
     },
     "execution_count": 5,
     "metadata": {},
     "output_type": "execute_result"
    }
   ],
   "source": [
    "df_hpo_relation['To_ID'] = df_hpo_relation['child_id'].map(hpo_to_individual)\n",
    "df_hpo_relation['From_ID'] = df_hpo_relation['parent_id'].map(hpo_to_individual)\n",
    "df_hpo_relation"
   ]
  },
  {
   "cell_type": "code",
   "execution_count": 6,
   "metadata": {},
   "outputs": [
    {
     "data": {
      "application/vnd.microsoft.datawrangler.viewer.v0+json": {
       "columns": [
        {
         "name": "index",
         "rawType": "int64",
         "type": "integer"
        },
        {
         "name": "From_ID",
         "rawType": "object",
         "type": "string"
        },
        {
         "name": "To_ID",
         "rawType": "object",
         "type": "string"
        }
       ],
       "conversionMethod": "pd.DataFrame",
       "ref": "195c2a88-5a52-489a-ae67-72e673bab565",
       "rows": [
        [
         "1",
         "BMG_PH01144",
         "BMG_PH00001"
        ],
        [
         "2",
         "BMG_PH00094",
         "BMG_PH00002"
        ],
        [
         "4",
         "BMG_PH14790",
         "BMG_PH00004"
        ],
        [
         "5",
         "BMG_PH14790",
         "BMG_PH00005"
        ],
        [
         "6",
         "BMG_PH00640",
         "BMG_PH00006"
        ],
        [
         "6",
         "BMG_PH07155",
         "BMG_PH00006"
        ],
        [
         "7",
         "BMG_PH00012",
         "BMG_PH00007"
        ],
        [
         "8",
         "BMG_PH02026",
         "BMG_PH00008"
        ],
        [
         "8",
         "BMG_PH07936",
         "BMG_PH00008"
        ],
        [
         "9",
         "BMG_PH00007",
         "BMG_PH00009"
        ],
        [
         "10",
         "BMG_PH00007",
         "BMG_PH00010"
        ],
        [
         "11",
         "BMG_PH05684",
         "BMG_PH00011"
        ],
        [
         "12",
         "BMG_PH07601",
         "BMG_PH00012"
        ],
        [
         "13",
         "BMG_PH10249",
         "BMG_PH00013"
        ],
        [
         "14",
         "BMG_PH00007",
         "BMG_PH00014"
        ],
        [
         "15",
         "BMG_PH00007",
         "BMG_PH00015"
        ],
        [
         "16",
         "BMG_PH00007",
         "BMG_PH00016"
        ],
        [
         "17",
         "BMG_PH00007",
         "BMG_PH00017"
        ],
        [
         "17",
         "BMG_PH11574",
         "BMG_PH00017"
        ],
        [
         "18",
         "BMG_PH07620",
         "BMG_PH00018"
        ],
        [
         "19",
         "BMG_PH00640",
         "BMG_PH00019"
        ],
        [
         "19",
         "BMG_PH07156",
         "BMG_PH00019"
        ],
        [
         "20",
         "BMG_PH03105",
         "BMG_PH00020"
        ],
        [
         "21",
         "BMG_PH05742",
         "BMG_PH00021"
        ],
        [
         "21",
         "BMG_PH09300",
         "BMG_PH00021"
        ],
        [
         "22",
         "BMG_PH09525",
         "BMG_PH00022"
        ],
        [
         "23",
         "BMG_PH00022",
         "BMG_PH00023"
        ],
        [
         "23",
         "BMG_PH00117",
         "BMG_PH00023"
        ],
        [
         "24",
         "BMG_PH05675",
         "BMG_PH00024"
        ],
        [
         "25",
         "BMG_PH00032",
         "BMG_PH00025"
        ],
        [
         "26",
         "BMG_PH00032",
         "BMG_PH00026"
        ],
        [
         "27",
         "BMG_PH00131",
         "BMG_PH00027"
        ],
        [
         "27",
         "BMG_PH07458",
         "BMG_PH00027"
        ],
        [
         "28",
         "BMG_PH06452",
         "BMG_PH00028"
        ],
        [
         "28",
         "BMG_PH09300",
         "BMG_PH00028"
        ],
        [
         "29",
         "BMG_PH00639",
         "BMG_PH00029"
        ],
        [
         "29",
         "BMG_PH07156",
         "BMG_PH00029"
        ],
        [
         "30",
         "BMG_PH00029",
         "BMG_PH00030"
        ],
        [
         "30",
         "BMG_PH00057",
         "BMG_PH00030"
        ],
        [
         "31",
         "BMG_PH00032",
         "BMG_PH00031"
        ],
        [
         "32",
         "BMG_PH00029",
         "BMG_PH00032"
        ],
        [
         "33",
         "BMG_PH00029",
         "BMG_PH00033"
        ],
        [
         "34",
         "BMG_PH00029",
         "BMG_PH00034"
        ],
        [
         "35",
         "BMG_PH16650",
         "BMG_PH00035"
        ],
        [
         "36",
         "BMG_PH00033",
         "BMG_PH00036"
        ],
        [
         "37",
         "BMG_PH00033",
         "BMG_PH00037"
        ],
        [
         "38",
         "BMG_PH00639",
         "BMG_PH00038"
        ],
        [
         "39",
         "BMG_PH00117",
         "BMG_PH00039"
        ],
        [
         "40",
         "BMG_PH00029",
         "BMG_PH00040"
        ],
        [
         "41",
         "BMG_PH00040",
         "BMG_PH00041"
        ]
       ],
       "shape": {
        "columns": 2,
        "rows": 23427
       }
      },
      "text/html": [
       "<div>\n",
       "<style scoped>\n",
       "    .dataframe tbody tr th:only-of-type {\n",
       "        vertical-align: middle;\n",
       "    }\n",
       "\n",
       "    .dataframe tbody tr th {\n",
       "        vertical-align: top;\n",
       "    }\n",
       "\n",
       "    .dataframe thead th {\n",
       "        text-align: right;\n",
       "    }\n",
       "</style>\n",
       "<table border=\"1\" class=\"dataframe\">\n",
       "  <thead>\n",
       "    <tr style=\"text-align: right;\">\n",
       "      <th></th>\n",
       "      <th>From_ID</th>\n",
       "      <th>To_ID</th>\n",
       "    </tr>\n",
       "  </thead>\n",
       "  <tbody>\n",
       "    <tr>\n",
       "      <th>1</th>\n",
       "      <td>BMG_PH01144</td>\n",
       "      <td>BMG_PH00001</td>\n",
       "    </tr>\n",
       "    <tr>\n",
       "      <th>2</th>\n",
       "      <td>BMG_PH00094</td>\n",
       "      <td>BMG_PH00002</td>\n",
       "    </tr>\n",
       "    <tr>\n",
       "      <th>4</th>\n",
       "      <td>BMG_PH14790</td>\n",
       "      <td>BMG_PH00004</td>\n",
       "    </tr>\n",
       "    <tr>\n",
       "      <th>5</th>\n",
       "      <td>BMG_PH14790</td>\n",
       "      <td>BMG_PH00005</td>\n",
       "    </tr>\n",
       "    <tr>\n",
       "      <th>6</th>\n",
       "      <td>BMG_PH00640</td>\n",
       "      <td>BMG_PH00006</td>\n",
       "    </tr>\n",
       "    <tr>\n",
       "      <th>...</th>\n",
       "      <td>...</td>\n",
       "      <td>...</td>\n",
       "    </tr>\n",
       "    <tr>\n",
       "      <th>19528</th>\n",
       "      <td>BMG_PH00940</td>\n",
       "      <td>BMG_PH19528</td>\n",
       "    </tr>\n",
       "    <tr>\n",
       "      <th>19529</th>\n",
       "      <td>BMG_PH09487</td>\n",
       "      <td>BMG_PH19529</td>\n",
       "    </tr>\n",
       "    <tr>\n",
       "      <th>19530</th>\n",
       "      <td>BMG_PH11355</td>\n",
       "      <td>BMG_PH19530</td>\n",
       "    </tr>\n",
       "    <tr>\n",
       "      <th>19531</th>\n",
       "      <td>BMG_PH00940</td>\n",
       "      <td>BMG_PH19531</td>\n",
       "    </tr>\n",
       "    <tr>\n",
       "      <th>19532</th>\n",
       "      <td>BMG_PH00940</td>\n",
       "      <td>BMG_PH19532</td>\n",
       "    </tr>\n",
       "  </tbody>\n",
       "</table>\n",
       "<p>23427 rows × 2 columns</p>\n",
       "</div>"
      ],
      "text/plain": [
       "           From_ID        To_ID\n",
       "1      BMG_PH01144  BMG_PH00001\n",
       "2      BMG_PH00094  BMG_PH00002\n",
       "4      BMG_PH14790  BMG_PH00004\n",
       "5      BMG_PH14790  BMG_PH00005\n",
       "6      BMG_PH00640  BMG_PH00006\n",
       "...            ...          ...\n",
       "19528  BMG_PH00940  BMG_PH19528\n",
       "19529  BMG_PH09487  BMG_PH19529\n",
       "19530  BMG_PH11355  BMG_PH19530\n",
       "19531  BMG_PH00940  BMG_PH19531\n",
       "19532  BMG_PH00940  BMG_PH19532\n",
       "\n",
       "[23427 rows x 2 columns]"
      ]
     },
     "execution_count": 6,
     "metadata": {},
     "output_type": "execute_result"
    }
   ],
   "source": [
    "phen_phen = df_hpo_relation[['From_ID', 'To_ID']]\n",
    "phen_phen = phen_phen.dropna(subset=['From_ID'])\n",
    "phen_phen = phen_phen.dropna(subset=['To_ID'])\n",
    "phen_phen"
   ]
  },
  {
   "cell_type": "code",
   "execution_count": 7,
   "metadata": {},
   "outputs": [
    {
     "data": {
      "application/vnd.microsoft.datawrangler.viewer.v0+json": {
       "columns": [
        {
         "name": "index",
         "rawType": "int64",
         "type": "integer"
        },
        {
         "name": "From_ID",
         "rawType": "object",
         "type": "string"
        },
        {
         "name": "To_ID",
         "rawType": "object",
         "type": "string"
        }
       ],
       "conversionMethod": "pd.DataFrame",
       "ref": "d9029d61-81d0-4a3c-9ddf-d2978dc8905f",
       "rows": [
        [
         "1",
         "BMG_PH01144",
         "BMG_PH00001"
        ],
        [
         "2",
         "BMG_PH00094",
         "BMG_PH00002"
        ],
        [
         "4",
         "BMG_PH14790",
         "BMG_PH00004"
        ],
        [
         "5",
         "BMG_PH14790",
         "BMG_PH00005"
        ],
        [
         "6",
         "BMG_PH00640",
         "BMG_PH00006"
        ],
        [
         "6",
         "BMG_PH07155",
         "BMG_PH00006"
        ],
        [
         "7",
         "BMG_PH00012",
         "BMG_PH00007"
        ],
        [
         "8",
         "BMG_PH02026",
         "BMG_PH00008"
        ],
        [
         "8",
         "BMG_PH07936",
         "BMG_PH00008"
        ],
        [
         "9",
         "BMG_PH00007",
         "BMG_PH00009"
        ],
        [
         "10",
         "BMG_PH00007",
         "BMG_PH00010"
        ],
        [
         "11",
         "BMG_PH05684",
         "BMG_PH00011"
        ],
        [
         "12",
         "BMG_PH07601",
         "BMG_PH00012"
        ],
        [
         "13",
         "BMG_PH10249",
         "BMG_PH00013"
        ],
        [
         "14",
         "BMG_PH00007",
         "BMG_PH00014"
        ],
        [
         "15",
         "BMG_PH00007",
         "BMG_PH00015"
        ],
        [
         "16",
         "BMG_PH00007",
         "BMG_PH00016"
        ],
        [
         "17",
         "BMG_PH00007",
         "BMG_PH00017"
        ],
        [
         "17",
         "BMG_PH11574",
         "BMG_PH00017"
        ],
        [
         "18",
         "BMG_PH07620",
         "BMG_PH00018"
        ],
        [
         "19",
         "BMG_PH00640",
         "BMG_PH00019"
        ],
        [
         "19",
         "BMG_PH07156",
         "BMG_PH00019"
        ],
        [
         "20",
         "BMG_PH03105",
         "BMG_PH00020"
        ],
        [
         "21",
         "BMG_PH05742",
         "BMG_PH00021"
        ],
        [
         "21",
         "BMG_PH09300",
         "BMG_PH00021"
        ],
        [
         "22",
         "BMG_PH09525",
         "BMG_PH00022"
        ],
        [
         "23",
         "BMG_PH00022",
         "BMG_PH00023"
        ],
        [
         "23",
         "BMG_PH00117",
         "BMG_PH00023"
        ],
        [
         "24",
         "BMG_PH05675",
         "BMG_PH00024"
        ],
        [
         "25",
         "BMG_PH00032",
         "BMG_PH00025"
        ],
        [
         "26",
         "BMG_PH00032",
         "BMG_PH00026"
        ],
        [
         "27",
         "BMG_PH00131",
         "BMG_PH00027"
        ],
        [
         "27",
         "BMG_PH07458",
         "BMG_PH00027"
        ],
        [
         "28",
         "BMG_PH06452",
         "BMG_PH00028"
        ],
        [
         "28",
         "BMG_PH09300",
         "BMG_PH00028"
        ],
        [
         "29",
         "BMG_PH00639",
         "BMG_PH00029"
        ],
        [
         "29",
         "BMG_PH07156",
         "BMG_PH00029"
        ],
        [
         "30",
         "BMG_PH00029",
         "BMG_PH00030"
        ],
        [
         "30",
         "BMG_PH00057",
         "BMG_PH00030"
        ],
        [
         "31",
         "BMG_PH00032",
         "BMG_PH00031"
        ],
        [
         "32",
         "BMG_PH00029",
         "BMG_PH00032"
        ],
        [
         "33",
         "BMG_PH00029",
         "BMG_PH00033"
        ],
        [
         "34",
         "BMG_PH00029",
         "BMG_PH00034"
        ],
        [
         "35",
         "BMG_PH16650",
         "BMG_PH00035"
        ],
        [
         "36",
         "BMG_PH00033",
         "BMG_PH00036"
        ],
        [
         "37",
         "BMG_PH00033",
         "BMG_PH00037"
        ],
        [
         "38",
         "BMG_PH00639",
         "BMG_PH00038"
        ],
        [
         "39",
         "BMG_PH00117",
         "BMG_PH00039"
        ],
        [
         "40",
         "BMG_PH00029",
         "BMG_PH00040"
        ],
        [
         "41",
         "BMG_PH00040",
         "BMG_PH00041"
        ]
       ],
       "shape": {
        "columns": 2,
        "rows": 23427
       }
      },
      "text/html": [
       "<div>\n",
       "<style scoped>\n",
       "    .dataframe tbody tr th:only-of-type {\n",
       "        vertical-align: middle;\n",
       "    }\n",
       "\n",
       "    .dataframe tbody tr th {\n",
       "        vertical-align: top;\n",
       "    }\n",
       "\n",
       "    .dataframe thead th {\n",
       "        text-align: right;\n",
       "    }\n",
       "</style>\n",
       "<table border=\"1\" class=\"dataframe\">\n",
       "  <thead>\n",
       "    <tr style=\"text-align: right;\">\n",
       "      <th></th>\n",
       "      <th>From_ID</th>\n",
       "      <th>To_ID</th>\n",
       "    </tr>\n",
       "  </thead>\n",
       "  <tbody>\n",
       "    <tr>\n",
       "      <th>1</th>\n",
       "      <td>BMG_PH01144</td>\n",
       "      <td>BMG_PH00001</td>\n",
       "    </tr>\n",
       "    <tr>\n",
       "      <th>2</th>\n",
       "      <td>BMG_PH00094</td>\n",
       "      <td>BMG_PH00002</td>\n",
       "    </tr>\n",
       "    <tr>\n",
       "      <th>4</th>\n",
       "      <td>BMG_PH14790</td>\n",
       "      <td>BMG_PH00004</td>\n",
       "    </tr>\n",
       "    <tr>\n",
       "      <th>5</th>\n",
       "      <td>BMG_PH14790</td>\n",
       "      <td>BMG_PH00005</td>\n",
       "    </tr>\n",
       "    <tr>\n",
       "      <th>6</th>\n",
       "      <td>BMG_PH00640</td>\n",
       "      <td>BMG_PH00006</td>\n",
       "    </tr>\n",
       "    <tr>\n",
       "      <th>...</th>\n",
       "      <td>...</td>\n",
       "      <td>...</td>\n",
       "    </tr>\n",
       "    <tr>\n",
       "      <th>19528</th>\n",
       "      <td>BMG_PH00940</td>\n",
       "      <td>BMG_PH19528</td>\n",
       "    </tr>\n",
       "    <tr>\n",
       "      <th>19529</th>\n",
       "      <td>BMG_PH09487</td>\n",
       "      <td>BMG_PH19529</td>\n",
       "    </tr>\n",
       "    <tr>\n",
       "      <th>19530</th>\n",
       "      <td>BMG_PH11355</td>\n",
       "      <td>BMG_PH19530</td>\n",
       "    </tr>\n",
       "    <tr>\n",
       "      <th>19531</th>\n",
       "      <td>BMG_PH00940</td>\n",
       "      <td>BMG_PH19531</td>\n",
       "    </tr>\n",
       "    <tr>\n",
       "      <th>19532</th>\n",
       "      <td>BMG_PH00940</td>\n",
       "      <td>BMG_PH19532</td>\n",
       "    </tr>\n",
       "  </tbody>\n",
       "</table>\n",
       "<p>23427 rows × 2 columns</p>\n",
       "</div>"
      ],
      "text/plain": [
       "           From_ID        To_ID\n",
       "1      BMG_PH01144  BMG_PH00001\n",
       "2      BMG_PH00094  BMG_PH00002\n",
       "4      BMG_PH14790  BMG_PH00004\n",
       "5      BMG_PH14790  BMG_PH00005\n",
       "6      BMG_PH00640  BMG_PH00006\n",
       "...            ...          ...\n",
       "19528  BMG_PH00940  BMG_PH19528\n",
       "19529  BMG_PH09487  BMG_PH19529\n",
       "19530  BMG_PH11355  BMG_PH19530\n",
       "19531  BMG_PH00940  BMG_PH19531\n",
       "19532  BMG_PH00940  BMG_PH19532\n",
       "\n",
       "[23427 rows x 2 columns]"
      ]
     },
     "execution_count": 7,
     "metadata": {},
     "output_type": "execute_result"
    }
   ],
   "source": [
    "phen_phen['To_ID'] = phen_phen['To_ID'].str.split(';')\n",
    "phen_phen = phen_phen.explode('To_ID')\n",
    "\n",
    "phen_phen['From_ID'] = phen_phen['From_ID'].str.split(';')\n",
    "phen_phen = phen_phen.explode('From_ID')\n",
    "\n",
    "phen_phen.drop_duplicates()\n",
    "phen_phen"
   ]
  },
  {
   "cell_type": "markdown",
   "metadata": {},
   "source": [
    "### Phenotype-Phenotype Relation"
   ]
  },
  {
   "cell_type": "code",
   "execution_count": 8,
   "metadata": {},
   "outputs": [
    {
     "data": {
      "application/vnd.microsoft.datawrangler.viewer.v0+json": {
       "columns": [
        {
         "name": "index",
         "rawType": "int64",
         "type": "integer"
        },
        {
         "name": "BioMedGraphica_ID",
         "rawType": "object",
         "type": "string"
        },
        {
         "name": "From_ID",
         "rawType": "object",
         "type": "string"
        },
        {
         "name": "To_ID",
         "rawType": "object",
         "type": "string"
        },
        {
         "name": "Source",
         "rawType": "object",
         "type": "string"
        },
        {
         "name": "Type",
         "rawType": "object",
         "type": "string"
        }
       ],
       "conversionMethod": "pd.DataFrame",
       "ref": "5db2c872-ffd5-49a6-88eb-76a03ed4a2df",
       "rows": [
        [
         "1",
         "BMG_ED_PHPH00001",
         "BMG_PH01144",
         "BMG_PH00001",
         "HPO",
         "Phenotype-Phenotype"
        ],
        [
         "2",
         "BMG_ED_PHPH00002",
         "BMG_PH00094",
         "BMG_PH00002",
         "HPO",
         "Phenotype-Phenotype"
        ],
        [
         "4",
         "BMG_ED_PHPH00003",
         "BMG_PH14790",
         "BMG_PH00004",
         "HPO",
         "Phenotype-Phenotype"
        ],
        [
         "5",
         "BMG_ED_PHPH00004",
         "BMG_PH14790",
         "BMG_PH00005",
         "HPO",
         "Phenotype-Phenotype"
        ],
        [
         "6",
         "BMG_ED_PHPH00005",
         "BMG_PH00640",
         "BMG_PH00006",
         "HPO",
         "Phenotype-Phenotype"
        ],
        [
         "6",
         "BMG_ED_PHPH00006",
         "BMG_PH07155",
         "BMG_PH00006",
         "HPO",
         "Phenotype-Phenotype"
        ],
        [
         "7",
         "BMG_ED_PHPH00007",
         "BMG_PH00012",
         "BMG_PH00007",
         "HPO",
         "Phenotype-Phenotype"
        ],
        [
         "8",
         "BMG_ED_PHPH00008",
         "BMG_PH02026",
         "BMG_PH00008",
         "HPO",
         "Phenotype-Phenotype"
        ],
        [
         "8",
         "BMG_ED_PHPH00009",
         "BMG_PH07936",
         "BMG_PH00008",
         "HPO",
         "Phenotype-Phenotype"
        ],
        [
         "9",
         "BMG_ED_PHPH00010",
         "BMG_PH00007",
         "BMG_PH00009",
         "HPO",
         "Phenotype-Phenotype"
        ],
        [
         "10",
         "BMG_ED_PHPH00011",
         "BMG_PH00007",
         "BMG_PH00010",
         "HPO",
         "Phenotype-Phenotype"
        ],
        [
         "11",
         "BMG_ED_PHPH00012",
         "BMG_PH05684",
         "BMG_PH00011",
         "HPO",
         "Phenotype-Phenotype"
        ],
        [
         "12",
         "BMG_ED_PHPH00013",
         "BMG_PH07601",
         "BMG_PH00012",
         "HPO",
         "Phenotype-Phenotype"
        ],
        [
         "13",
         "BMG_ED_PHPH00014",
         "BMG_PH10249",
         "BMG_PH00013",
         "HPO",
         "Phenotype-Phenotype"
        ],
        [
         "14",
         "BMG_ED_PHPH00015",
         "BMG_PH00007",
         "BMG_PH00014",
         "HPO",
         "Phenotype-Phenotype"
        ],
        [
         "15",
         "BMG_ED_PHPH00016",
         "BMG_PH00007",
         "BMG_PH00015",
         "HPO",
         "Phenotype-Phenotype"
        ],
        [
         "16",
         "BMG_ED_PHPH00017",
         "BMG_PH00007",
         "BMG_PH00016",
         "HPO",
         "Phenotype-Phenotype"
        ],
        [
         "17",
         "BMG_ED_PHPH00018",
         "BMG_PH00007",
         "BMG_PH00017",
         "HPO",
         "Phenotype-Phenotype"
        ],
        [
         "17",
         "BMG_ED_PHPH00019",
         "BMG_PH11574",
         "BMG_PH00017",
         "HPO",
         "Phenotype-Phenotype"
        ],
        [
         "18",
         "BMG_ED_PHPH00020",
         "BMG_PH07620",
         "BMG_PH00018",
         "HPO",
         "Phenotype-Phenotype"
        ],
        [
         "19",
         "BMG_ED_PHPH00021",
         "BMG_PH00640",
         "BMG_PH00019",
         "HPO",
         "Phenotype-Phenotype"
        ],
        [
         "19",
         "BMG_ED_PHPH00022",
         "BMG_PH07156",
         "BMG_PH00019",
         "HPO",
         "Phenotype-Phenotype"
        ],
        [
         "20",
         "BMG_ED_PHPH00023",
         "BMG_PH03105",
         "BMG_PH00020",
         "HPO",
         "Phenotype-Phenotype"
        ],
        [
         "21",
         "BMG_ED_PHPH00024",
         "BMG_PH05742",
         "BMG_PH00021",
         "HPO",
         "Phenotype-Phenotype"
        ],
        [
         "21",
         "BMG_ED_PHPH00025",
         "BMG_PH09300",
         "BMG_PH00021",
         "HPO",
         "Phenotype-Phenotype"
        ],
        [
         "22",
         "BMG_ED_PHPH00026",
         "BMG_PH09525",
         "BMG_PH00022",
         "HPO",
         "Phenotype-Phenotype"
        ],
        [
         "23",
         "BMG_ED_PHPH00027",
         "BMG_PH00022",
         "BMG_PH00023",
         "HPO",
         "Phenotype-Phenotype"
        ],
        [
         "23",
         "BMG_ED_PHPH00028",
         "BMG_PH00117",
         "BMG_PH00023",
         "HPO",
         "Phenotype-Phenotype"
        ],
        [
         "24",
         "BMG_ED_PHPH00029",
         "BMG_PH05675",
         "BMG_PH00024",
         "HPO",
         "Phenotype-Phenotype"
        ],
        [
         "25",
         "BMG_ED_PHPH00030",
         "BMG_PH00032",
         "BMG_PH00025",
         "HPO",
         "Phenotype-Phenotype"
        ],
        [
         "26",
         "BMG_ED_PHPH00031",
         "BMG_PH00032",
         "BMG_PH00026",
         "HPO",
         "Phenotype-Phenotype"
        ],
        [
         "27",
         "BMG_ED_PHPH00032",
         "BMG_PH00131",
         "BMG_PH00027",
         "HPO",
         "Phenotype-Phenotype"
        ],
        [
         "27",
         "BMG_ED_PHPH00033",
         "BMG_PH07458",
         "BMG_PH00027",
         "HPO",
         "Phenotype-Phenotype"
        ],
        [
         "28",
         "BMG_ED_PHPH00034",
         "BMG_PH06452",
         "BMG_PH00028",
         "HPO",
         "Phenotype-Phenotype"
        ],
        [
         "28",
         "BMG_ED_PHPH00035",
         "BMG_PH09300",
         "BMG_PH00028",
         "HPO",
         "Phenotype-Phenotype"
        ],
        [
         "29",
         "BMG_ED_PHPH00036",
         "BMG_PH00639",
         "BMG_PH00029",
         "HPO",
         "Phenotype-Phenotype"
        ],
        [
         "29",
         "BMG_ED_PHPH00037",
         "BMG_PH07156",
         "BMG_PH00029",
         "HPO",
         "Phenotype-Phenotype"
        ],
        [
         "30",
         "BMG_ED_PHPH00038",
         "BMG_PH00029",
         "BMG_PH00030",
         "HPO",
         "Phenotype-Phenotype"
        ],
        [
         "30",
         "BMG_ED_PHPH00039",
         "BMG_PH00057",
         "BMG_PH00030",
         "HPO",
         "Phenotype-Phenotype"
        ],
        [
         "31",
         "BMG_ED_PHPH00040",
         "BMG_PH00032",
         "BMG_PH00031",
         "HPO",
         "Phenotype-Phenotype"
        ],
        [
         "32",
         "BMG_ED_PHPH00041",
         "BMG_PH00029",
         "BMG_PH00032",
         "HPO",
         "Phenotype-Phenotype"
        ],
        [
         "33",
         "BMG_ED_PHPH00042",
         "BMG_PH00029",
         "BMG_PH00033",
         "HPO",
         "Phenotype-Phenotype"
        ],
        [
         "34",
         "BMG_ED_PHPH00043",
         "BMG_PH00029",
         "BMG_PH00034",
         "HPO",
         "Phenotype-Phenotype"
        ],
        [
         "35",
         "BMG_ED_PHPH00044",
         "BMG_PH16650",
         "BMG_PH00035",
         "HPO",
         "Phenotype-Phenotype"
        ],
        [
         "36",
         "BMG_ED_PHPH00045",
         "BMG_PH00033",
         "BMG_PH00036",
         "HPO",
         "Phenotype-Phenotype"
        ],
        [
         "37",
         "BMG_ED_PHPH00046",
         "BMG_PH00033",
         "BMG_PH00037",
         "HPO",
         "Phenotype-Phenotype"
        ],
        [
         "38",
         "BMG_ED_PHPH00047",
         "BMG_PH00639",
         "BMG_PH00038",
         "HPO",
         "Phenotype-Phenotype"
        ],
        [
         "39",
         "BMG_ED_PHPH00048",
         "BMG_PH00117",
         "BMG_PH00039",
         "HPO",
         "Phenotype-Phenotype"
        ],
        [
         "40",
         "BMG_ED_PHPH00049",
         "BMG_PH00029",
         "BMG_PH00040",
         "HPO",
         "Phenotype-Phenotype"
        ],
        [
         "41",
         "BMG_ED_PHPH00050",
         "BMG_PH00040",
         "BMG_PH00041",
         "HPO",
         "Phenotype-Phenotype"
        ]
       ],
       "shape": {
        "columns": 5,
        "rows": 23427
       }
      },
      "text/html": [
       "<div>\n",
       "<style scoped>\n",
       "    .dataframe tbody tr th:only-of-type {\n",
       "        vertical-align: middle;\n",
       "    }\n",
       "\n",
       "    .dataframe tbody tr th {\n",
       "        vertical-align: top;\n",
       "    }\n",
       "\n",
       "    .dataframe thead th {\n",
       "        text-align: right;\n",
       "    }\n",
       "</style>\n",
       "<table border=\"1\" class=\"dataframe\">\n",
       "  <thead>\n",
       "    <tr style=\"text-align: right;\">\n",
       "      <th></th>\n",
       "      <th>BioMedGraphica_ID</th>\n",
       "      <th>From_ID</th>\n",
       "      <th>To_ID</th>\n",
       "      <th>Source</th>\n",
       "      <th>Type</th>\n",
       "    </tr>\n",
       "  </thead>\n",
       "  <tbody>\n",
       "    <tr>\n",
       "      <th>1</th>\n",
       "      <td>BMG_ED_PHPH00001</td>\n",
       "      <td>BMG_PH01144</td>\n",
       "      <td>BMG_PH00001</td>\n",
       "      <td>HPO</td>\n",
       "      <td>Phenotype-Phenotype</td>\n",
       "    </tr>\n",
       "    <tr>\n",
       "      <th>2</th>\n",
       "      <td>BMG_ED_PHPH00002</td>\n",
       "      <td>BMG_PH00094</td>\n",
       "      <td>BMG_PH00002</td>\n",
       "      <td>HPO</td>\n",
       "      <td>Phenotype-Phenotype</td>\n",
       "    </tr>\n",
       "    <tr>\n",
       "      <th>4</th>\n",
       "      <td>BMG_ED_PHPH00003</td>\n",
       "      <td>BMG_PH14790</td>\n",
       "      <td>BMG_PH00004</td>\n",
       "      <td>HPO</td>\n",
       "      <td>Phenotype-Phenotype</td>\n",
       "    </tr>\n",
       "    <tr>\n",
       "      <th>5</th>\n",
       "      <td>BMG_ED_PHPH00004</td>\n",
       "      <td>BMG_PH14790</td>\n",
       "      <td>BMG_PH00005</td>\n",
       "      <td>HPO</td>\n",
       "      <td>Phenotype-Phenotype</td>\n",
       "    </tr>\n",
       "    <tr>\n",
       "      <th>6</th>\n",
       "      <td>BMG_ED_PHPH00005</td>\n",
       "      <td>BMG_PH00640</td>\n",
       "      <td>BMG_PH00006</td>\n",
       "      <td>HPO</td>\n",
       "      <td>Phenotype-Phenotype</td>\n",
       "    </tr>\n",
       "    <tr>\n",
       "      <th>...</th>\n",
       "      <td>...</td>\n",
       "      <td>...</td>\n",
       "      <td>...</td>\n",
       "      <td>...</td>\n",
       "      <td>...</td>\n",
       "    </tr>\n",
       "    <tr>\n",
       "      <th>19528</th>\n",
       "      <td>BMG_ED_PHPH23423</td>\n",
       "      <td>BMG_PH00940</td>\n",
       "      <td>BMG_PH19528</td>\n",
       "      <td>HPO</td>\n",
       "      <td>Phenotype-Phenotype</td>\n",
       "    </tr>\n",
       "    <tr>\n",
       "      <th>19529</th>\n",
       "      <td>BMG_ED_PHPH23424</td>\n",
       "      <td>BMG_PH09487</td>\n",
       "      <td>BMG_PH19529</td>\n",
       "      <td>HPO</td>\n",
       "      <td>Phenotype-Phenotype</td>\n",
       "    </tr>\n",
       "    <tr>\n",
       "      <th>19530</th>\n",
       "      <td>BMG_ED_PHPH23425</td>\n",
       "      <td>BMG_PH11355</td>\n",
       "      <td>BMG_PH19530</td>\n",
       "      <td>HPO</td>\n",
       "      <td>Phenotype-Phenotype</td>\n",
       "    </tr>\n",
       "    <tr>\n",
       "      <th>19531</th>\n",
       "      <td>BMG_ED_PHPH23426</td>\n",
       "      <td>BMG_PH00940</td>\n",
       "      <td>BMG_PH19531</td>\n",
       "      <td>HPO</td>\n",
       "      <td>Phenotype-Phenotype</td>\n",
       "    </tr>\n",
       "    <tr>\n",
       "      <th>19532</th>\n",
       "      <td>BMG_ED_PHPH23427</td>\n",
       "      <td>BMG_PH00940</td>\n",
       "      <td>BMG_PH19532</td>\n",
       "      <td>HPO</td>\n",
       "      <td>Phenotype-Phenotype</td>\n",
       "    </tr>\n",
       "  </tbody>\n",
       "</table>\n",
       "<p>23427 rows × 5 columns</p>\n",
       "</div>"
      ],
      "text/plain": [
       "      BioMedGraphica_ID      From_ID        To_ID Source                 Type\n",
       "1      BMG_ED_PHPH00001  BMG_PH01144  BMG_PH00001    HPO  Phenotype-Phenotype\n",
       "2      BMG_ED_PHPH00002  BMG_PH00094  BMG_PH00002    HPO  Phenotype-Phenotype\n",
       "4      BMG_ED_PHPH00003  BMG_PH14790  BMG_PH00004    HPO  Phenotype-Phenotype\n",
       "5      BMG_ED_PHPH00004  BMG_PH14790  BMG_PH00005    HPO  Phenotype-Phenotype\n",
       "6      BMG_ED_PHPH00005  BMG_PH00640  BMG_PH00006    HPO  Phenotype-Phenotype\n",
       "...                 ...          ...          ...    ...                  ...\n",
       "19528  BMG_ED_PHPH23423  BMG_PH00940  BMG_PH19528    HPO  Phenotype-Phenotype\n",
       "19529  BMG_ED_PHPH23424  BMG_PH09487  BMG_PH19529    HPO  Phenotype-Phenotype\n",
       "19530  BMG_ED_PHPH23425  BMG_PH11355  BMG_PH19530    HPO  Phenotype-Phenotype\n",
       "19531  BMG_ED_PHPH23426  BMG_PH00940  BMG_PH19531    HPO  Phenotype-Phenotype\n",
       "19532  BMG_ED_PHPH23427  BMG_PH00940  BMG_PH19532    HPO  Phenotype-Phenotype\n",
       "\n",
       "[23427 rows x 5 columns]"
      ]
     },
     "execution_count": 8,
     "metadata": {},
     "output_type": "execute_result"
    }
   ],
   "source": [
    "phen_phen['Source'] = 'HPO'\n",
    "phen_phen['Type'] = 'Phenotype-Phenotype'\n",
    "\n",
    "max_length = len(str(len(phen_phen)))\n",
    "phen_phen['BioMedGraphica_ID'] = ['BMG_ED_PHPH' + str(i).zfill(max_length) for i in range(1, len(phen_phen) + 1)]\n",
    "columns = ['BioMedGraphica_ID'] + [col for col in phen_phen.columns if col != 'BioMedGraphica_ID']  # re-order columns\n",
    "phen_phen = phen_phen[columns]\n",
    "phen_phen"
   ]
  },
  {
   "cell_type": "code",
   "execution_count": 9,
   "metadata": {},
   "outputs": [
    {
     "name": "stdout",
     "output_type": "stream",
     "text": [
      "Data has been saved to D:\\RA\\BMG\\BioMedGraphica\\Relation\\Phenotype-Phenotype\\BioMedGraphica_Phenotype_Phenotype.csv\n"
     ]
    }
   ],
   "source": [
    "import os\n",
    "from pathlib import Path\n",
    "\n",
    "# get the current working directory\n",
    "current_working_dir = Path(os.getcwd()).resolve()\n",
    "\n",
    "# get the output directory\n",
    "grandparent_dir = current_working_dir.parent.parent.parent\n",
    "\n",
    "target_folder = grandparent_dir / 'BioMedGraphica' / 'Relation' / 'Phenotype-Phenotype'\n",
    "if not target_folder.exists():\n",
    "    target_folder.mkdir(parents=True)\n",
    "    print(f\"Folder {target_folder} has been created.\")\n",
    "\n",
    "output_file_path = target_folder / 'BioMedGraphica_Phenotype_Phenotype.csv'\n",
    "phen_phen.to_csv(output_file_path, index=False)\n",
    "print(f\"Data has been saved to {output_file_path}\")"
   ]
  }
 ],
 "metadata": {
  "kernelspec": {
   "display_name": "base",
   "language": "python",
   "name": "python3"
  },
  "language_info": {
   "codemirror_mode": {
    "name": "ipython",
    "version": 3
   },
   "file_extension": ".py",
   "mimetype": "text/x-python",
   "name": "python",
   "nbconvert_exporter": "python",
   "pygments_lexer": "ipython3",
   "version": "3.9.19"
  }
 },
 "nbformat": 4,
 "nbformat_minor": 2
}
