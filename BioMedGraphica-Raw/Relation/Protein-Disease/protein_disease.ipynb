{
 "cells": [
  {
   "cell_type": "markdown",
   "metadata": {},
   "source": [
    "### Uniprot"
   ]
  },
  {
   "cell_type": "code",
   "execution_count": null,
   "metadata": {},
   "outputs": [],
   "source": [
    "import requests\n",
    "from io import StringIO\n",
    "import pandas as pd\n",
    "\n",
    "def fetch_uniprot_data(params):\n",
    "    url = \"https://rest.uniprot.org/uniprotkb/stream\"\n",
    "\n",
    "    response = requests.get(url, params=params)\n",
    "\n",
    "    if response.ok:\n",
    "        tsv_data = StringIO(response.text)\n",
    "        df = pd.read_csv(tsv_data, sep='\\t')\n",
    "        return df\n",
    "    else:\n",
    "        print(\"Failed to fetch data:\", response.status_code)\n",
    "        print(response.text)\n",
    "        return None\n",
    "# change the parameters to fetch the data\n",
    "# load protein information\n",
    "params = {\n",
    "        'fields': 'accession,cc_disease',\n",
    "        'format': 'tsv',\n",
    "        'query': '(model_organism:9606) AND (reviewed:true)',\n",
    "        'sort': 'organism_name asc'\n",
    "    }\n",
    "\n",
    "df_uniprot = fetch_uniprot_data(params)\n",
    "if df_uniprot is not None:\n",
    "    print(df_uniprot)\n",
    "else:\n",
    "    print(\"No data retrieved.\")\n",
    "#save the data to a CSV file\n",
    "df_uniprot.to_csv('uniprot_protein_disease.csv', index=False)"
   ]
  },
  {
   "cell_type": "code",
   "execution_count": 2,
   "metadata": {},
   "outputs": [
    {
     "data": {
      "application/vnd.microsoft.datawrangler.viewer.v0+json": {
       "columns": [
        {
         "name": "index",
         "rawType": "int64",
         "type": "integer"
        },
        {
         "name": "Entry",
         "rawType": "object",
         "type": "string"
        },
        {
         "name": "OMIM",
         "rawType": "object",
         "type": "string"
        }
       ],
       "conversionMethod": "pd.DataFrame",
       "ref": "9041031f-6e23-436d-ba6e-7d9f97ecf4dd",
       "rows": [
        [
         "244",
         "A0A1B0GTQ4",
         "619941"
        ],
        [
         "251",
         "A0A1B0GTW7",
         "619702"
        ],
        [
         "344",
         "A0A1W2PR82",
         "618662"
        ],
        [
         "420",
         "A0AVF1",
         "619534"
        ],
        [
         "444",
         "A0PJY2",
         "616030"
        ],
        [
         "449",
         "A0PK11",
         "619174"
        ],
        [
         "455",
         "A1A4Y4",
         "612278"
        ],
        [
         "472",
         "A1L188",
         "618776"
        ],
        [
         "485",
         "A1X283",
         "249420"
        ],
        [
         "486",
         "A1XBS5",
         "618219"
        ],
        [
         "499",
         "A2IDD5",
         "614807"
        ],
        [
         "502",
         "A2PYH4",
         "615724"
        ],
        [
         "506",
         "A2RRP1",
         "614800"
        ],
        [
         "509",
         "A2RU14",
         "619562"
        ],
        [
         "530",
         "A3KMH1",
         "620422"
        ],
        [
         "538",
         "A4D126",
         "614643"
        ],
        [
         "574",
         "A5D8V7",
         "616037"
        ],
        [
         "575",
         "A5D8W1",
         "617959"
        ],
        [
         "585",
         "A5YKK6",
         "618500"
        ],
        [
         "590",
         "A6H8Y1",
         "618257"
        ],
        [
         "617",
         "A6NCS4",
         "217095"
        ],
        [
         "687",
         "A6NFK2",
         "615837"
        ],
        [
         "698",
         "A6NFY7",
         "619166"
        ],
        [
         "710",
         "A6NGG8",
         "613428"
        ],
        [
         "746",
         "A6NHR9",
         "158901"
        ],
        [
         "758",
         "A6NI61",
         "254940"
        ],
        [
         "806",
         "A6NK58",
         "617668"
        ],
        [
         "881",
         "A6NNB3",
         "610967"
        ],
        [
         "892",
         "A6NNN8",
         "609218"
        ],
        [
         "899",
         "A6NNY8",
         "300984"
        ],
        [
         "921",
         "A7XYQ1",
         "613671"
        ],
        [
         "927",
         "A8K2U0",
         "166760"
        ],
        [
         "959",
         "A8MTJ6",
         "620444"
        ],
        [
         "968",
         "A8MTZ0",
         "615995"
        ],
        [
         "1020",
         "A8MXD5",
         "613285"
        ],
        [
         "1037",
         "A8MYU2",
         "620196"
        ],
        [
         "1052",
         "A9QM74",
         "620319"
        ],
        [
         "1058",
         "B0YJ81",
         "619967"
        ],
        [
         "1061",
         "B1AK53",
         "609006"
        ],
        [
         "1072",
         "B2CW77",
         "615107"
        ],
        [
         "1079",
         "B2RTY4",
         "618198"
        ],
        [
         "1085",
         "B2RXF5",
         "616248"
        ],
        [
         "1113",
         "B7U540",
         "613239"
        ],
        [
         "1152",
         "C9JE40",
         "617743"
        ],
        [
         "1167",
         "C9JR72",
         "609273"
        ],
        [
         "1186",
         "D6RGH6",
         "618695"
        ],
        [
         "1279",
         "O00115",
         "619858"
        ],
        [
         "1280",
         "O00116",
         "600121"
        ],
        [
         "1282",
         "O00139",
         "615411"
        ],
        [
         "1284",
         "O00142",
         "609560"
        ]
       ],
       "shape": {
        "columns": 2,
        "rows": 4821
       }
      },
      "text/html": [
       "<div>\n",
       "<style scoped>\n",
       "    .dataframe tbody tr th:only-of-type {\n",
       "        vertical-align: middle;\n",
       "    }\n",
       "\n",
       "    .dataframe tbody tr th {\n",
       "        vertical-align: top;\n",
       "    }\n",
       "\n",
       "    .dataframe thead th {\n",
       "        text-align: right;\n",
       "    }\n",
       "</style>\n",
       "<table border=\"1\" class=\"dataframe\">\n",
       "  <thead>\n",
       "    <tr style=\"text-align: right;\">\n",
       "      <th></th>\n",
       "      <th>Entry</th>\n",
       "      <th>OMIM</th>\n",
       "    </tr>\n",
       "  </thead>\n",
       "  <tbody>\n",
       "    <tr>\n",
       "      <th>244</th>\n",
       "      <td>A0A1B0GTQ4</td>\n",
       "      <td>619941</td>\n",
       "    </tr>\n",
       "    <tr>\n",
       "      <th>251</th>\n",
       "      <td>A0A1B0GTW7</td>\n",
       "      <td>619702</td>\n",
       "    </tr>\n",
       "    <tr>\n",
       "      <th>344</th>\n",
       "      <td>A0A1W2PR82</td>\n",
       "      <td>618662</td>\n",
       "    </tr>\n",
       "    <tr>\n",
       "      <th>420</th>\n",
       "      <td>A0AVF1</td>\n",
       "      <td>619534</td>\n",
       "    </tr>\n",
       "    <tr>\n",
       "      <th>444</th>\n",
       "      <td>A0PJY2</td>\n",
       "      <td>616030</td>\n",
       "    </tr>\n",
       "    <tr>\n",
       "      <th>...</th>\n",
       "      <td>...</td>\n",
       "      <td>...</td>\n",
       "    </tr>\n",
       "    <tr>\n",
       "      <th>20394</th>\n",
       "      <td>Q9Y6X0</td>\n",
       "      <td>269150</td>\n",
       "    </tr>\n",
       "    <tr>\n",
       "      <th>20402</th>\n",
       "      <td>Q9Y6X9</td>\n",
       "      <td>616688</td>\n",
       "    </tr>\n",
       "    <tr>\n",
       "      <th>20403</th>\n",
       "      <td>Q9Y6Y0</td>\n",
       "      <td>618969</td>\n",
       "    </tr>\n",
       "    <tr>\n",
       "      <th>20404</th>\n",
       "      <td>Q9Y6Y1</td>\n",
       "      <td>614756</td>\n",
       "    </tr>\n",
       "    <tr>\n",
       "      <th>20408</th>\n",
       "      <td>Q9Y6Z7</td>\n",
       "      <td>248340</td>\n",
       "    </tr>\n",
       "  </tbody>\n",
       "</table>\n",
       "<p>4821 rows × 2 columns</p>\n",
       "</div>"
      ],
      "text/plain": [
       "            Entry    OMIM\n",
       "244    A0A1B0GTQ4  619941\n",
       "251    A0A1B0GTW7  619702\n",
       "344    A0A1W2PR82  618662\n",
       "420        A0AVF1  619534\n",
       "444        A0PJY2  616030\n",
       "...           ...     ...\n",
       "20394      Q9Y6X0  269150\n",
       "20402      Q9Y6X9  616688\n",
       "20403      Q9Y6Y0  618969\n",
       "20404      Q9Y6Y1  614756\n",
       "20408      Q9Y6Z7  248340\n",
       "\n",
       "[4821 rows x 2 columns]"
      ]
     },
     "execution_count": 2,
     "metadata": {},
     "output_type": "execute_result"
    }
   ],
   "source": [
    "# Download Link: API\n",
    "# Download Date: 2025-03-21\n",
    "# Download Version: 2025-03-21\n",
    "import re\n",
    "import pandas as pd\n",
    "\n",
    "df_uniprot = pd.read_csv('uniprot_protein_disease.csv', sep=',')\n",
    "df_uniprot = df_uniprot.dropna(subset=['Involvement in disease'])\n",
    "\n",
    "def extract_brackets(text):\n",
    "    matches = re.findall(r'\\[([^\\[\\]]*)\\]', text)\n",
    "    return matches[0] if matches else None\n",
    "\n",
    "df_uniprot['OMIM'] = df_uniprot['Involvement in disease'].apply(extract_brackets)\n",
    "df_uniprot = df_uniprot.drop(columns=['Involvement in disease'])\n",
    "df_uniprot = df_uniprot.dropna(subset=['OMIM'])\n",
    "df_uniprot['OMIM'] = df_uniprot['OMIM'].str.replace('MIM:', '')\n",
    "df_uniprot['OMIM'] = df_uniprot['OMIM'].str.split(';')\n",
    "df_uniprot = df_uniprot.explode('OMIM')\n",
    "df_uniprot"
   ]
  },
  {
   "cell_type": "markdown",
   "metadata": {},
   "source": [
    "### DISEASES"
   ]
  },
  {
   "cell_type": "code",
   "execution_count": 3,
   "metadata": {},
   "outputs": [
    {
     "data": {
      "application/vnd.microsoft.datawrangler.viewer.v0+json": {
       "columns": [
        {
         "name": "index",
         "rawType": "int64",
         "type": "integer"
        },
        {
         "name": "protein",
         "rawType": "object",
         "type": "string"
        },
        {
         "name": "disease",
         "rawType": "object",
         "type": "string"
        }
       ],
       "conversionMethod": "pd.DataFrame",
       "ref": "594c8b95-be8a-45b4-8437-5e4967336a34",
       "rows": [
        [
         "9",
         "ENSP00000001146",
         "DOID:0080001"
        ],
        [
         "10",
         "ENSP00000001146",
         "DOID:0080006"
        ],
        [
         "11",
         "ENSP00000001146",
         "DOID:11971"
        ],
        [
         "12",
         "ENSP00000001146",
         "DOID:17"
        ],
        [
         "13",
         "ENSP00000001146",
         "DOID:1934"
        ],
        [
         "14",
         "ENSP00000001146",
         "DOID:2340"
        ],
        [
         "15",
         "ENSP00000001146",
         "DOID:4"
        ],
        [
         "16",
         "ENSP00000001146",
         "DOID:65"
        ],
        [
         "17",
         "ENSP00000001146",
         "DOID:7"
        ],
        [
         "18",
         "ENSP00000001146",
         "ICD10:Q"
        ],
        [
         "19",
         "ENSP00000001146",
         "ICD10:Q7"
        ],
        [
         "20",
         "ENSP00000001146",
         "ICD10:Q75"
        ],
        [
         "21",
         "ENSP00000001146",
         "ICD10:Q750"
        ],
        [
         "22",
         "ENSP00000001146",
         "ICD10:root"
        ],
        [
         "23",
         "ENSP00000003084",
         "DOID:0050177"
        ],
        [
         "25",
         "ENSP00000003084",
         "DOID:0050735"
        ],
        [
         "26",
         "ENSP00000003084",
         "DOID:0050737"
        ],
        [
         "27",
         "ENSP00000003084",
         "DOID:0050739"
        ],
        [
         "28",
         "ENSP00000003084",
         "DOID:0080015"
        ],
        [
         "29",
         "ENSP00000003084",
         "DOID:0111862"
        ],
        [
         "30",
         "ENSP00000003084",
         "DOID:12336"
        ],
        [
         "31",
         "ENSP00000003084",
         "DOID:1485"
        ],
        [
         "32",
         "ENSP00000003084",
         "DOID:15"
        ],
        [
         "33",
         "ENSP00000003084",
         "DOID:225"
        ],
        [
         "34",
         "ENSP00000003084",
         "DOID:4"
        ],
        [
         "36",
         "ENSP00000003084",
         "DOID:48"
        ],
        [
         "37",
         "ENSP00000003084",
         "DOID:630"
        ],
        [
         "39",
         "ENSP00000003084",
         "DOID:7"
        ],
        [
         "40",
         "ENSP00000003084",
         "ICD10:E"
        ],
        [
         "41",
         "ENSP00000003084",
         "ICD10:E8"
        ],
        [
         "42",
         "ENSP00000003084",
         "ICD10:E84"
        ],
        [
         "43",
         "ENSP00000003084",
         "ICD10:N"
        ],
        [
         "44",
         "ENSP00000003084",
         "ICD10:N4"
        ],
        [
         "45",
         "ENSP00000003084",
         "ICD10:N46"
        ],
        [
         "46",
         "ENSP00000003084",
         "ICD10:root"
        ],
        [
         "48",
         "ENSP00000005226",
         "DOID:0050155"
        ],
        [
         "50",
         "ENSP00000005226",
         "DOID:0050177"
        ],
        [
         "51",
         "ENSP00000005226",
         "DOID:0050439"
        ],
        [
         "52",
         "ENSP00000005226",
         "DOID:0050563"
        ],
        [
         "54",
         "ENSP00000005226",
         "DOID:0050737"
        ],
        [
         "55",
         "ENSP00000005226",
         "DOID:0050739"
        ],
        [
         "56",
         "ENSP00000005226",
         "DOID:10584"
        ],
        [
         "57",
         "ENSP00000005226",
         "DOID:225"
        ],
        [
         "58",
         "ENSP00000005226",
         "DOID:2742"
        ],
        [
         "60",
         "ENSP00000005226",
         "DOID:4"
        ],
        [
         "63",
         "ENSP00000005226",
         "DOID:5614"
        ],
        [
         "64",
         "ENSP00000005226",
         "DOID:5679"
        ],
        [
         "65",
         "ENSP00000005226",
         "DOID:630"
        ],
        [
         "66",
         "ENSP00000005226",
         "DOID:7"
        ],
        [
         "68",
         "ENSP00000005226",
         "DOID:8466"
        ]
       ],
       "shape": {
        "columns": 2,
        "rows": 69896
       }
      },
      "text/html": [
       "<div>\n",
       "<style scoped>\n",
       "    .dataframe tbody tr th:only-of-type {\n",
       "        vertical-align: middle;\n",
       "    }\n",
       "\n",
       "    .dataframe tbody tr th {\n",
       "        vertical-align: top;\n",
       "    }\n",
       "\n",
       "    .dataframe thead th {\n",
       "        text-align: right;\n",
       "    }\n",
       "</style>\n",
       "<table border=\"1\" class=\"dataframe\">\n",
       "  <thead>\n",
       "    <tr style=\"text-align: right;\">\n",
       "      <th></th>\n",
       "      <th>protein</th>\n",
       "      <th>disease</th>\n",
       "    </tr>\n",
       "  </thead>\n",
       "  <tbody>\n",
       "    <tr>\n",
       "      <th>9</th>\n",
       "      <td>ENSP00000001146</td>\n",
       "      <td>DOID:0080001</td>\n",
       "    </tr>\n",
       "    <tr>\n",
       "      <th>10</th>\n",
       "      <td>ENSP00000001146</td>\n",
       "      <td>DOID:0080006</td>\n",
       "    </tr>\n",
       "    <tr>\n",
       "      <th>11</th>\n",
       "      <td>ENSP00000001146</td>\n",
       "      <td>DOID:11971</td>\n",
       "    </tr>\n",
       "    <tr>\n",
       "      <th>12</th>\n",
       "      <td>ENSP00000001146</td>\n",
       "      <td>DOID:17</td>\n",
       "    </tr>\n",
       "    <tr>\n",
       "      <th>13</th>\n",
       "      <td>ENSP00000001146</td>\n",
       "      <td>DOID:1934</td>\n",
       "    </tr>\n",
       "    <tr>\n",
       "      <th>...</th>\n",
       "      <td>...</td>\n",
       "      <td>...</td>\n",
       "    </tr>\n",
       "    <tr>\n",
       "      <th>96305</th>\n",
       "      <td>ENSP00000501180</td>\n",
       "      <td>ICD10:C80</td>\n",
       "    </tr>\n",
       "    <tr>\n",
       "      <th>96306</th>\n",
       "      <td>ENSP00000501180</td>\n",
       "      <td>ICD10:D</td>\n",
       "    </tr>\n",
       "    <tr>\n",
       "      <th>96307</th>\n",
       "      <td>ENSP00000501180</td>\n",
       "      <td>ICD10:D4</td>\n",
       "    </tr>\n",
       "    <tr>\n",
       "      <th>96308</th>\n",
       "      <td>ENSP00000501180</td>\n",
       "      <td>ICD10:D48</td>\n",
       "    </tr>\n",
       "    <tr>\n",
       "      <th>96309</th>\n",
       "      <td>ENSP00000501180</td>\n",
       "      <td>ICD10:root</td>\n",
       "    </tr>\n",
       "  </tbody>\n",
       "</table>\n",
       "<p>69896 rows × 2 columns</p>\n",
       "</div>"
      ],
      "text/plain": [
       "               protein       disease\n",
       "9      ENSP00000001146  DOID:0080001\n",
       "10     ENSP00000001146  DOID:0080006\n",
       "11     ENSP00000001146    DOID:11971\n",
       "12     ENSP00000001146       DOID:17\n",
       "13     ENSP00000001146     DOID:1934\n",
       "...                ...           ...\n",
       "96305  ENSP00000501180     ICD10:C80\n",
       "96306  ENSP00000501180       ICD10:D\n",
       "96307  ENSP00000501180      ICD10:D4\n",
       "96308  ENSP00000501180     ICD10:D48\n",
       "96309  ENSP00000501180    ICD10:root\n",
       "\n",
       "[69896 rows x 2 columns]"
      ]
     },
     "execution_count": 3,
     "metadata": {},
     "output_type": "execute_result"
    }
   ],
   "source": [
    "# Download Link: https://download.jensenlab.org/human_disease_knowledge_full.tsv\n",
    "# Download Date: 2025-03-21\n",
    "# Download Version: 2025-03-15\n",
    "import pandas as pd\n",
    "\n",
    "column_name = ['protein', 'name', 'disease', 'disease name', 'source database','evidence type','confidence score']\n",
    "df_diseases = pd.read_csv('human_disease_knowledge_full.tsv', sep='\\t', names=column_name)\n",
    "\n",
    "# filter df_diseases['protein'] to only contain ENSEMBL IDs\n",
    "df_diseases = df_diseases[df_diseases['protein'].str.contains('ENSP')]\n",
    "df_diseases_filter = df_diseases[['protein', 'disease']].drop_duplicates()\n",
    "df_diseases_filter"
   ]
  },
  {
   "cell_type": "markdown",
   "metadata": {},
   "source": [
    "### HPO"
   ]
  },
  {
   "cell_type": "code",
   "execution_count": 4,
   "metadata": {},
   "outputs": [
    {
     "data": {
      "application/vnd.microsoft.datawrangler.viewer.v0+json": {
       "columns": [
        {
         "name": "index",
         "rawType": "int64",
         "type": "integer"
        },
        {
         "name": "ncbi_gene_id",
         "rawType": "object",
         "type": "string"
        },
        {
         "name": "disease_id",
         "rawType": "object",
         "type": "string"
        }
       ],
       "conversionMethod": "pd.DataFrame",
       "ref": "43486f62-57c7-41ba-9414-6ca7f79adb12",
       "rows": [
        [
         "0",
         "NCBIGene:64170",
         "OMIM:212050"
        ],
        [
         "1",
         "NCBIGene:51256",
         "OMIM:248000"
        ],
        [
         "2",
         "NCBIGene:28981",
         "OMIM:617895"
        ],
        [
         "3",
         "NCBIGene:8216",
         "OMIM:616564"
        ],
        [
         "4",
         "NCBIGene:6505",
         "OMIM:615232"
        ],
        [
         "5",
         "NCBIGene:5949",
         "OMIM:615233"
        ],
        [
         "6",
         "NCBIGene:583",
         "OMIM:616562"
        ],
        [
         "7",
         "NCBIGene:4750",
         "OMIM:617892"
        ],
        [
         "8",
         "NCBIGene:51569",
         "OMIM:617899"
        ],
        [
         "9",
         "NCBIGene:392255",
         "OMIM:617898"
        ],
        [
         "10",
         "NCBIGene:79827",
         "OMIM:615237"
        ],
        [
         "11",
         "NCBIGene:134701",
         "OMIM:616566"
        ],
        [
         "12",
         "NCBIGene:55240",
         "OMIM:615234"
        ],
        [
         "13",
         "NCBIGene:3910",
         "OMIM:615235"
        ],
        [
         "14",
         "NCBIGene:63924",
         "OMIM:615238"
        ],
        [
         "15",
         "NCBIGene:6890",
         "OMIM:604571"
        ],
        [
         "16",
         "NCBIGene:7068",
         "OMIM:274300"
        ],
        [
         "17",
         "NCBIGene:51099",
         "OMIM:275630"
        ],
        [
         "18",
         "NCBIGene:2731",
         "OMIM:605899"
        ],
        [
         "19",
         "NCBIGene:149775",
         "OMIM:603233"
        ],
        [
         "20",
         "NCBIGene:2778",
         "OMIM:603233"
        ],
        [
         "21",
         "NCBIGene:8675",
         "OMIM:603233"
        ],
        [
         "22",
         "NCBIGene:54714",
         "OMIM:262300"
        ],
        [
         "23",
         "NCBIGene:2073",
         "OMIM:616570"
        ],
        [
         "24",
         "NCBIGene:396",
         "OMIM:615244"
        ],
        [
         "25",
         "NCBIGene:201163",
         "OMIM:173600"
        ],
        [
         "26",
         "NCBIGene:283489",
         "OMIM:616579"
        ],
        [
         "27",
         "NCBIGene:84665",
         "OMIM:615248"
        ],
        [
         "28",
         "NCBIGene:166378",
         "OMIM:616577"
        ],
        [
         "29",
         "NCBIGene:4790",
         "OMIM:616576"
        ],
        [
         "30",
         "NCBIGene:84197",
         "OMIM:615249"
        ],
        [
         "31",
         "NCBIGene:81846",
         "OMIM:604563"
        ],
        [
         "32",
         "NCBIGene:54795",
         "OMIM:604559"
        ],
        [
         "33",
         "NCBIGene:1369",
         "OMIM:212070"
        ],
        [
         "34",
         "NCBIGene:3190",
         "OMIM:616580"
        ],
        [
         "35",
         "NCBIGene:5832",
         "OMIM:616586"
        ],
        [
         "36",
         "NCBIGene:657",
         "OMIM:174900"
        ],
        [
         "37",
         "NCBIGene:4089",
         "OMIM:174900"
        ],
        [
         "38",
         "NCBIGene:1280",
         "OMIM:616583"
        ],
        [
         "39",
         "NCBIGene:54567",
         "OMIM:616589"
        ],
        [
         "40",
         "NCBIGene:2261",
         "OMIM:146000"
        ],
        [
         "41",
         "NCBIGene:7436",
         "OMIM:224050"
        ],
        [
         "42",
         "NCBIGene:200942",
         "OMIM:236000"
        ],
        [
         "43",
         "NCBIGene:4508",
         "OMIM:551500"
        ],
        [
         "44",
         "NCBIGene:5621",
         "OMIM:603218"
        ],
        [
         "45",
         "NCBIGene:7490",
         "OMIM:136680"
        ],
        [
         "46",
         "NCBIGene:5159",
         "OMIM:616592"
        ],
        [
         "47",
         "NCBIGene:81848",
         "OMIM:615266"
        ],
        [
         "48",
         "NCBIGene:388588",
         "OMIM:615264"
        ],
        [
         "49",
         "NCBIGene:2623",
         "OMIM:314050"
        ]
       ],
       "shape": {
        "columns": 2,
        "rows": 15592
       }
      },
      "text/html": [
       "<div>\n",
       "<style scoped>\n",
       "    .dataframe tbody tr th:only-of-type {\n",
       "        vertical-align: middle;\n",
       "    }\n",
       "\n",
       "    .dataframe tbody tr th {\n",
       "        vertical-align: top;\n",
       "    }\n",
       "\n",
       "    .dataframe thead th {\n",
       "        text-align: right;\n",
       "    }\n",
       "</style>\n",
       "<table border=\"1\" class=\"dataframe\">\n",
       "  <thead>\n",
       "    <tr style=\"text-align: right;\">\n",
       "      <th></th>\n",
       "      <th>ncbi_gene_id</th>\n",
       "      <th>disease_id</th>\n",
       "    </tr>\n",
       "  </thead>\n",
       "  <tbody>\n",
       "    <tr>\n",
       "      <th>0</th>\n",
       "      <td>NCBIGene:64170</td>\n",
       "      <td>OMIM:212050</td>\n",
       "    </tr>\n",
       "    <tr>\n",
       "      <th>1</th>\n",
       "      <td>NCBIGene:51256</td>\n",
       "      <td>OMIM:248000</td>\n",
       "    </tr>\n",
       "    <tr>\n",
       "      <th>2</th>\n",
       "      <td>NCBIGene:28981</td>\n",
       "      <td>OMIM:617895</td>\n",
       "    </tr>\n",
       "    <tr>\n",
       "      <th>3</th>\n",
       "      <td>NCBIGene:8216</td>\n",
       "      <td>OMIM:616564</td>\n",
       "    </tr>\n",
       "    <tr>\n",
       "      <th>4</th>\n",
       "      <td>NCBIGene:6505</td>\n",
       "      <td>OMIM:615232</td>\n",
       "    </tr>\n",
       "    <tr>\n",
       "      <th>...</th>\n",
       "      <td>...</td>\n",
       "      <td>...</td>\n",
       "    </tr>\n",
       "    <tr>\n",
       "      <th>15588</th>\n",
       "      <td>NCBIGene:55901</td>\n",
       "      <td>ORPHA:231160</td>\n",
       "    </tr>\n",
       "    <tr>\n",
       "      <th>15589</th>\n",
       "      <td>NCBIGene:7049</td>\n",
       "      <td>ORPHA:231160</td>\n",
       "    </tr>\n",
       "    <tr>\n",
       "      <th>15590</th>\n",
       "      <td>NCBIGene:1281</td>\n",
       "      <td>ORPHA:231160</td>\n",
       "    </tr>\n",
       "    <tr>\n",
       "      <th>15591</th>\n",
       "      <td>NCBIGene:83854</td>\n",
       "      <td>ORPHA:231160</td>\n",
       "    </tr>\n",
       "    <tr>\n",
       "      <th>15592</th>\n",
       "      <td>NCBIGene:2022</td>\n",
       "      <td>ORPHA:231160</td>\n",
       "    </tr>\n",
       "  </tbody>\n",
       "</table>\n",
       "<p>15592 rows × 2 columns</p>\n",
       "</div>"
      ],
      "text/plain": [
       "         ncbi_gene_id    disease_id\n",
       "0      NCBIGene:64170   OMIM:212050\n",
       "1      NCBIGene:51256   OMIM:248000\n",
       "2      NCBIGene:28981   OMIM:617895\n",
       "3       NCBIGene:8216   OMIM:616564\n",
       "4       NCBIGene:6505   OMIM:615232\n",
       "...               ...           ...\n",
       "15588  NCBIGene:55901  ORPHA:231160\n",
       "15589   NCBIGene:7049  ORPHA:231160\n",
       "15590   NCBIGene:1281  ORPHA:231160\n",
       "15591  NCBIGene:83854  ORPHA:231160\n",
       "15592   NCBIGene:2022  ORPHA:231160\n",
       "\n",
       "[15592 rows x 2 columns]"
      ]
     },
     "execution_count": 4,
     "metadata": {},
     "output_type": "execute_result"
    }
   ],
   "source": [
    "# Download Link: https://hpo.jax.org/data/annotations\n",
    "# Download Date: 2025-03-21\n",
    "# Download Version: unknown\n",
    "\n",
    "df_hpo = pd.read_csv('genes_to_disease.txt', sep='\\t')\n",
    "df_hpo = df_hpo[['ncbi_gene_id', 'disease_id']]\n",
    "df_hpo = df_hpo.drop_duplicates()\n",
    "df_hpo = df_hpo.dropna()\n",
    "df_hpo"
   ]
  },
  {
   "cell_type": "code",
   "execution_count": 5,
   "metadata": {},
   "outputs": [
    {
     "name": "stderr",
     "output_type": "stream",
     "text": [
      "C:\\Users\\shunn\\AppData\\Local\\Temp\\ipykernel_40452\\1117821443.py:5: SettingWithCopyWarning: \n",
      "A value is trying to be set on a copy of a slice from a DataFrame\n",
      "\n",
      "See the caveats in the documentation: https://pandas.pydata.org/pandas-docs/stable/user_guide/indexing.html#returning-a-view-versus-a-copy\n",
      "  df_hpo_omim.drop(columns=['disease_database'], inplace=True)\n"
     ]
    },
    {
     "data": {
      "application/vnd.microsoft.datawrangler.viewer.v0+json": {
       "columns": [
        {
         "name": "index",
         "rawType": "int64",
         "type": "integer"
        },
        {
         "name": "ncbi_gene_id",
         "rawType": "object",
         "type": "string"
        },
        {
         "name": "disease_id_number",
         "rawType": "object",
         "type": "string"
        }
       ],
       "conversionMethod": "pd.DataFrame",
       "ref": "5575da5a-4196-48d3-a4d8-7d7ab25edc2d",
       "rows": [
        [
         "0",
         "64170",
         "212050"
        ],
        [
         "1",
         "51256",
         "248000"
        ],
        [
         "2",
         "28981",
         "617895"
        ],
        [
         "3",
         "8216",
         "616564"
        ],
        [
         "4",
         "6505",
         "615232"
        ],
        [
         "5",
         "5949",
         "615233"
        ],
        [
         "6",
         "583",
         "616562"
        ],
        [
         "7",
         "4750",
         "617892"
        ],
        [
         "8",
         "51569",
         "617899"
        ],
        [
         "9",
         "392255",
         "617898"
        ],
        [
         "10",
         "79827",
         "615237"
        ],
        [
         "11",
         "134701",
         "616566"
        ],
        [
         "12",
         "55240",
         "615234"
        ],
        [
         "13",
         "3910",
         "615235"
        ],
        [
         "14",
         "63924",
         "615238"
        ],
        [
         "15",
         "6890",
         "604571"
        ],
        [
         "16",
         "7068",
         "274300"
        ],
        [
         "17",
         "51099",
         "275630"
        ],
        [
         "18",
         "2731",
         "605899"
        ],
        [
         "19",
         "149775",
         "603233"
        ],
        [
         "20",
         "2778",
         "603233"
        ],
        [
         "21",
         "8675",
         "603233"
        ],
        [
         "22",
         "54714",
         "262300"
        ],
        [
         "23",
         "2073",
         "616570"
        ],
        [
         "24",
         "396",
         "615244"
        ],
        [
         "25",
         "201163",
         "173600"
        ],
        [
         "26",
         "283489",
         "616579"
        ],
        [
         "27",
         "84665",
         "615248"
        ],
        [
         "28",
         "166378",
         "616577"
        ],
        [
         "29",
         "4790",
         "616576"
        ],
        [
         "30",
         "84197",
         "615249"
        ],
        [
         "31",
         "81846",
         "604563"
        ],
        [
         "32",
         "54795",
         "604559"
        ],
        [
         "33",
         "1369",
         "212070"
        ],
        [
         "34",
         "3190",
         "616580"
        ],
        [
         "35",
         "5832",
         "616586"
        ],
        [
         "36",
         "657",
         "174900"
        ],
        [
         "37",
         "4089",
         "174900"
        ],
        [
         "38",
         "1280",
         "616583"
        ],
        [
         "39",
         "54567",
         "616589"
        ],
        [
         "40",
         "2261",
         "146000"
        ],
        [
         "41",
         "7436",
         "224050"
        ],
        [
         "42",
         "200942",
         "236000"
        ],
        [
         "43",
         "4508",
         "551500"
        ],
        [
         "44",
         "5621",
         "603218"
        ],
        [
         "45",
         "7490",
         "136680"
        ],
        [
         "46",
         "5159",
         "616592"
        ],
        [
         "47",
         "81848",
         "615266"
        ],
        [
         "48",
         "388588",
         "615264"
        ],
        [
         "49",
         "2623",
         "314050"
        ]
       ],
       "shape": {
        "columns": 2,
        "rows": 7482
       }
      },
      "text/html": [
       "<div>\n",
       "<style scoped>\n",
       "    .dataframe tbody tr th:only-of-type {\n",
       "        vertical-align: middle;\n",
       "    }\n",
       "\n",
       "    .dataframe tbody tr th {\n",
       "        vertical-align: top;\n",
       "    }\n",
       "\n",
       "    .dataframe thead th {\n",
       "        text-align: right;\n",
       "    }\n",
       "</style>\n",
       "<table border=\"1\" class=\"dataframe\">\n",
       "  <thead>\n",
       "    <tr style=\"text-align: right;\">\n",
       "      <th></th>\n",
       "      <th>ncbi_gene_id</th>\n",
       "      <th>disease_id_number</th>\n",
       "    </tr>\n",
       "  </thead>\n",
       "  <tbody>\n",
       "    <tr>\n",
       "      <th>0</th>\n",
       "      <td>64170</td>\n",
       "      <td>212050</td>\n",
       "    </tr>\n",
       "    <tr>\n",
       "      <th>1</th>\n",
       "      <td>51256</td>\n",
       "      <td>248000</td>\n",
       "    </tr>\n",
       "    <tr>\n",
       "      <th>2</th>\n",
       "      <td>28981</td>\n",
       "      <td>617895</td>\n",
       "    </tr>\n",
       "    <tr>\n",
       "      <th>3</th>\n",
       "      <td>8216</td>\n",
       "      <td>616564</td>\n",
       "    </tr>\n",
       "    <tr>\n",
       "      <th>4</th>\n",
       "      <td>6505</td>\n",
       "      <td>615232</td>\n",
       "    </tr>\n",
       "    <tr>\n",
       "      <th>...</th>\n",
       "      <td>...</td>\n",
       "      <td>...</td>\n",
       "    </tr>\n",
       "    <tr>\n",
       "      <th>7478</th>\n",
       "      <td>5297</td>\n",
       "      <td>619708</td>\n",
       "    </tr>\n",
       "    <tr>\n",
       "      <th>7479</th>\n",
       "      <td>673</td>\n",
       "      <td>163950</td>\n",
       "    </tr>\n",
       "    <tr>\n",
       "      <th>7480</th>\n",
       "      <td>5604</td>\n",
       "      <td>163950</td>\n",
       "    </tr>\n",
       "    <tr>\n",
       "      <th>7481</th>\n",
       "      <td>5781</td>\n",
       "      <td>163950</td>\n",
       "    </tr>\n",
       "    <tr>\n",
       "      <th>7482</th>\n",
       "      <td>8328</td>\n",
       "      <td>187900</td>\n",
       "    </tr>\n",
       "  </tbody>\n",
       "</table>\n",
       "<p>7482 rows × 2 columns</p>\n",
       "</div>"
      ],
      "text/plain": [
       "     ncbi_gene_id disease_id_number\n",
       "0           64170            212050\n",
       "1           51256            248000\n",
       "2           28981            617895\n",
       "3            8216            616564\n",
       "4            6505            615232\n",
       "...           ...               ...\n",
       "7478         5297            619708\n",
       "7479          673            163950\n",
       "7480         5604            163950\n",
       "7481         5781            163950\n",
       "7482         8328            187900\n",
       "\n",
       "[7482 rows x 2 columns]"
      ]
     },
     "execution_count": 5,
     "metadata": {},
     "output_type": "execute_result"
    }
   ],
   "source": [
    "df_hpo['ncbi_gene_id'] = df_hpo['ncbi_gene_id'].replace('NCBIGene:', '', regex=True)\n",
    "df_hpo[['disease_database', 'disease_id_number']] = df_hpo['disease_id'].str.split(':', expand=True)\n",
    "df_hpo.drop(columns=['disease_id'], inplace=True)\n",
    "df_hpo_omim = df_hpo[df_hpo['disease_database'] == 'OMIM']\n",
    "df_hpo_omim.drop(columns=['disease_database'], inplace=True)\n",
    "df_hpo_omim"
   ]
  },
  {
   "cell_type": "markdown",
   "metadata": {},
   "source": [
    "### DisGeNet"
   ]
  },
  {
   "cell_type": "code",
   "execution_count": 6,
   "metadata": {},
   "outputs": [
    {
     "data": {
      "application/vnd.microsoft.datawrangler.viewer.v0+json": {
       "columns": [
        {
         "name": "index",
         "rawType": "int64",
         "type": "integer"
        },
        {
         "name": "gene_id",
         "rawType": "int64",
         "type": "integer"
        },
        {
         "name": "gene_symbol",
         "rawType": "object",
         "type": "string"
        },
        {
         "name": "umls_code",
         "rawType": "object",
         "type": "string"
        }
       ],
       "conversionMethod": "pd.DataFrame",
       "ref": "4d312f33-c071-4e3a-a61d-072f10f45246",
       "rows": [
        [
         "0",
         "1",
         "A1BG",
         "C0036341"
        ],
        [
         "1",
         "1",
         "A1BG",
         "C0019209"
        ],
        [
         "2",
         "2",
         "A2M",
         "C0002395"
        ],
        [
         "3",
         "2",
         "A2M",
         "C0024121"
        ],
        [
         "4",
         "2",
         "A2M",
         "C0011581"
        ],
        [
         "5",
         "2",
         "A2M",
         "C0026769"
        ],
        [
         "6",
         "2",
         "A2M",
         "C2239176"
        ],
        [
         "7",
         "2",
         "A2M",
         "C0011570"
        ],
        [
         "8",
         "2",
         "A2M",
         "C5203670"
        ],
        [
         "9",
         "2",
         "A2M",
         "C0030567"
        ],
        [
         "10",
         "2",
         "A2M",
         "C0027726"
        ],
        [
         "11",
         "2",
         "A2M",
         "C0023890"
        ],
        [
         "12",
         "2",
         "A2M",
         "C0024115"
        ],
        [
         "13",
         "2",
         "A2M",
         "C0206669"
        ],
        [
         "14",
         "2",
         "A2M",
         "C0600260"
        ],
        [
         "15",
         "2",
         "A2M",
         "C2609414"
        ],
        [
         "16",
         "2",
         "A2M",
         "C0004606"
        ],
        [
         "17",
         "2",
         "A2M",
         "C0019202"
        ],
        [
         "18",
         "2",
         "A2M",
         "C1565662"
        ],
        [
         "19",
         "2",
         "A2M",
         "C0022660"
        ],
        [
         "20",
         "2",
         "A2M",
         "C0009375"
        ],
        [
         "21",
         "3",
         "A2MP1",
         "C0010200"
        ],
        [
         "22",
         "9",
         "NAT1",
         "C0005684"
        ],
        [
         "23",
         "9",
         "NAT1",
         "C0005695"
        ],
        [
         "24",
         "9",
         "NAT1",
         "C0033578"
        ],
        [
         "25",
         "9",
         "NAT1",
         "C0030297"
        ],
        [
         "26",
         "9",
         "NAT1",
         "C0376358"
        ],
        [
         "27",
         "9",
         "NAT1",
         "C0008625"
        ],
        [
         "28",
         "9",
         "NAT1",
         "C0001418"
        ],
        [
         "29",
         "9",
         "NAT1",
         "C0007131"
        ],
        [
         "30",
         "9",
         "NAT1",
         "C0001973"
        ],
        [
         "31",
         "9",
         "NAT1",
         "C0028796"
        ],
        [
         "32",
         "9",
         "NAT1",
         "C0153463"
        ],
        [
         "33",
         "9",
         "NAT1",
         "C0162820"
        ],
        [
         "34",
         "9",
         "NAT1",
         "C0153458"
        ],
        [
         "35",
         "9",
         "NAT1",
         "C0153459"
        ],
        [
         "36",
         "9",
         "NAT1",
         "C0153460"
        ],
        [
         "37",
         "10",
         "NAT2",
         "C0005695"
        ],
        [
         "38",
         "10",
         "NAT2",
         "C0033578"
        ],
        [
         "39",
         "10",
         "NAT2",
         "C0005684"
        ],
        [
         "40",
         "10",
         "NAT2",
         "C0376358"
        ],
        [
         "41",
         "10",
         "NAT2",
         "C0030567"
        ],
        [
         "42",
         "10",
         "NAT2",
         "C0023418"
        ],
        [
         "43",
         "10",
         "NAT2",
         "C2239176"
        ],
        [
         "44",
         "10",
         "NAT2",
         "C1458155"
        ],
        [
         "45",
         "10",
         "NAT2",
         "C0024141"
        ],
        [
         "46",
         "10",
         "NAT2",
         "C0004096"
        ],
        [
         "47",
         "10",
         "NAT2",
         "C0011849"
        ],
        [
         "48",
         "10",
         "NAT2",
         "C0023467"
        ],
        [
         "49",
         "10",
         "NAT2",
         "C0041327"
        ]
       ],
       "shape": {
        "columns": 3,
        "rows": 91484
       }
      },
      "text/html": [
       "<div>\n",
       "<style scoped>\n",
       "    .dataframe tbody tr th:only-of-type {\n",
       "        vertical-align: middle;\n",
       "    }\n",
       "\n",
       "    .dataframe tbody tr th {\n",
       "        vertical-align: top;\n",
       "    }\n",
       "\n",
       "    .dataframe thead th {\n",
       "        text-align: right;\n",
       "    }\n",
       "</style>\n",
       "<table border=\"1\" class=\"dataframe\">\n",
       "  <thead>\n",
       "    <tr style=\"text-align: right;\">\n",
       "      <th></th>\n",
       "      <th>gene_id</th>\n",
       "      <th>gene_symbol</th>\n",
       "      <th>umls_code</th>\n",
       "    </tr>\n",
       "  </thead>\n",
       "  <tbody>\n",
       "    <tr>\n",
       "      <th>0</th>\n",
       "      <td>1</td>\n",
       "      <td>A1BG</td>\n",
       "      <td>C0036341</td>\n",
       "    </tr>\n",
       "    <tr>\n",
       "      <th>1</th>\n",
       "      <td>1</td>\n",
       "      <td>A1BG</td>\n",
       "      <td>C0019209</td>\n",
       "    </tr>\n",
       "    <tr>\n",
       "      <th>2</th>\n",
       "      <td>2</td>\n",
       "      <td>A2M</td>\n",
       "      <td>C0002395</td>\n",
       "    </tr>\n",
       "    <tr>\n",
       "      <th>3</th>\n",
       "      <td>2</td>\n",
       "      <td>A2M</td>\n",
       "      <td>C0024121</td>\n",
       "    </tr>\n",
       "    <tr>\n",
       "      <th>4</th>\n",
       "      <td>2</td>\n",
       "      <td>A2M</td>\n",
       "      <td>C0011581</td>\n",
       "    </tr>\n",
       "    <tr>\n",
       "      <th>...</th>\n",
       "      <td>...</td>\n",
       "      <td>...</td>\n",
       "      <td>...</td>\n",
       "    </tr>\n",
       "    <tr>\n",
       "      <th>91479</th>\n",
       "      <td>132090497</td>\n",
       "      <td>LOC132090497</td>\n",
       "      <td>C3279775</td>\n",
       "    </tr>\n",
       "    <tr>\n",
       "      <th>91480</th>\n",
       "      <td>132090498</td>\n",
       "      <td>LOC132090498</td>\n",
       "      <td>C3279775</td>\n",
       "    </tr>\n",
       "    <tr>\n",
       "      <th>91481</th>\n",
       "      <td>132090521</td>\n",
       "      <td>LOC132090521</td>\n",
       "      <td>C4285231</td>\n",
       "    </tr>\n",
       "    <tr>\n",
       "      <th>91482</th>\n",
       "      <td>132090595</td>\n",
       "      <td>LOC132090595</td>\n",
       "      <td>C4225343</td>\n",
       "    </tr>\n",
       "    <tr>\n",
       "      <th>91483</th>\n",
       "      <td>132090595</td>\n",
       "      <td>LOC132090595</td>\n",
       "      <td>C4225337</td>\n",
       "    </tr>\n",
       "  </tbody>\n",
       "</table>\n",
       "<p>91484 rows × 3 columns</p>\n",
       "</div>"
      ],
      "text/plain": [
       "         gene_id   gene_symbol umls_code\n",
       "0              1          A1BG  C0036341\n",
       "1              1          A1BG  C0019209\n",
       "2              2           A2M  C0002395\n",
       "3              2           A2M  C0024121\n",
       "4              2           A2M  C0011581\n",
       "...          ...           ...       ...\n",
       "91479  132090497  LOC132090497  C3279775\n",
       "91480  132090498  LOC132090498  C3279775\n",
       "91481  132090521  LOC132090521  C4285231\n",
       "91482  132090595  LOC132090595  C4225343\n",
       "91483  132090595  LOC132090595  C4225337\n",
       "\n",
       "[91484 rows x 3 columns]"
      ]
     },
     "execution_count": 6,
     "metadata": {},
     "output_type": "execute_result"
    }
   ],
   "source": [
    "# Download Link: API\n",
    "# Download Date: 2025-03-21\n",
    "# Download Version: 2025-03-21\n",
    "\n",
    "df_disgenet = pd.read_csv('DisGeNet_Gene_Disease_UMLS.csv')\n",
    "df_disgenet['umls_code'] = df_disgenet['umls_code'].replace('UMLS_', '', regex=True)\n",
    "df_disgenet"
   ]
  },
  {
   "cell_type": "code",
   "execution_count": 7,
   "metadata": {},
   "outputs": [
    {
     "name": "stderr",
     "output_type": "stream",
     "text": [
      "C:\\Users\\shunn\\AppData\\Local\\Temp\\ipykernel_40452\\224157935.py:2: SettingWithCopyWarning: \n",
      "A value is trying to be set on a copy of a slice from a DataFrame\n",
      "\n",
      "See the caveats in the documentation: https://pandas.pydata.org/pandas-docs/stable/user_guide/indexing.html#returning-a-view-versus-a-copy\n",
      "  df_disgenet_protein_disease.drop_duplicates(inplace=True)\n"
     ]
    },
    {
     "data": {
      "application/vnd.microsoft.datawrangler.viewer.v0+json": {
       "columns": [
        {
         "name": "index",
         "rawType": "int64",
         "type": "integer"
        },
        {
         "name": "gene_id",
         "rawType": "int64",
         "type": "integer"
        },
        {
         "name": "umls_code",
         "rawType": "object",
         "type": "string"
        }
       ],
       "conversionMethod": "pd.DataFrame",
       "ref": "3115a52c-ff05-4f03-99ae-985dec944ede",
       "rows": [
        [
         "0",
         "1",
         "C0036341"
        ],
        [
         "1",
         "1",
         "C0019209"
        ],
        [
         "2",
         "2",
         "C0002395"
        ],
        [
         "3",
         "2",
         "C0024121"
        ],
        [
         "4",
         "2",
         "C0011581"
        ],
        [
         "5",
         "2",
         "C0026769"
        ],
        [
         "6",
         "2",
         "C2239176"
        ],
        [
         "7",
         "2",
         "C0011570"
        ],
        [
         "8",
         "2",
         "C5203670"
        ],
        [
         "9",
         "2",
         "C0030567"
        ],
        [
         "10",
         "2",
         "C0027726"
        ],
        [
         "11",
         "2",
         "C0023890"
        ],
        [
         "12",
         "2",
         "C0024115"
        ],
        [
         "13",
         "2",
         "C0206669"
        ],
        [
         "14",
         "2",
         "C0600260"
        ],
        [
         "15",
         "2",
         "C2609414"
        ],
        [
         "16",
         "2",
         "C0004606"
        ],
        [
         "17",
         "2",
         "C0019202"
        ],
        [
         "18",
         "2",
         "C1565662"
        ],
        [
         "19",
         "2",
         "C0022660"
        ],
        [
         "20",
         "2",
         "C0009375"
        ],
        [
         "21",
         "3",
         "C0010200"
        ],
        [
         "22",
         "9",
         "C0005684"
        ],
        [
         "23",
         "9",
         "C0005695"
        ],
        [
         "24",
         "9",
         "C0033578"
        ],
        [
         "25",
         "9",
         "C0030297"
        ],
        [
         "26",
         "9",
         "C0376358"
        ],
        [
         "27",
         "9",
         "C0008625"
        ],
        [
         "28",
         "9",
         "C0001418"
        ],
        [
         "29",
         "9",
         "C0007131"
        ],
        [
         "30",
         "9",
         "C0001973"
        ],
        [
         "31",
         "9",
         "C0028796"
        ],
        [
         "32",
         "9",
         "C0153463"
        ],
        [
         "33",
         "9",
         "C0162820"
        ],
        [
         "34",
         "9",
         "C0153458"
        ],
        [
         "35",
         "9",
         "C0153459"
        ],
        [
         "36",
         "9",
         "C0153460"
        ],
        [
         "37",
         "10",
         "C0005695"
        ],
        [
         "38",
         "10",
         "C0033578"
        ],
        [
         "39",
         "10",
         "C0005684"
        ],
        [
         "40",
         "10",
         "C0376358"
        ],
        [
         "41",
         "10",
         "C0030567"
        ],
        [
         "42",
         "10",
         "C0023418"
        ],
        [
         "43",
         "10",
         "C2239176"
        ],
        [
         "44",
         "10",
         "C1458155"
        ],
        [
         "45",
         "10",
         "C0024141"
        ],
        [
         "46",
         "10",
         "C0004096"
        ],
        [
         "47",
         "10",
         "C0011849"
        ],
        [
         "48",
         "10",
         "C0023467"
        ],
        [
         "49",
         "10",
         "C0041327"
        ]
       ],
       "shape": {
        "columns": 2,
        "rows": 91484
       }
      },
      "text/html": [
       "<div>\n",
       "<style scoped>\n",
       "    .dataframe tbody tr th:only-of-type {\n",
       "        vertical-align: middle;\n",
       "    }\n",
       "\n",
       "    .dataframe tbody tr th {\n",
       "        vertical-align: top;\n",
       "    }\n",
       "\n",
       "    .dataframe thead th {\n",
       "        text-align: right;\n",
       "    }\n",
       "</style>\n",
       "<table border=\"1\" class=\"dataframe\">\n",
       "  <thead>\n",
       "    <tr style=\"text-align: right;\">\n",
       "      <th></th>\n",
       "      <th>gene_id</th>\n",
       "      <th>umls_code</th>\n",
       "    </tr>\n",
       "  </thead>\n",
       "  <tbody>\n",
       "    <tr>\n",
       "      <th>0</th>\n",
       "      <td>1</td>\n",
       "      <td>C0036341</td>\n",
       "    </tr>\n",
       "    <tr>\n",
       "      <th>1</th>\n",
       "      <td>1</td>\n",
       "      <td>C0019209</td>\n",
       "    </tr>\n",
       "    <tr>\n",
       "      <th>2</th>\n",
       "      <td>2</td>\n",
       "      <td>C0002395</td>\n",
       "    </tr>\n",
       "    <tr>\n",
       "      <th>3</th>\n",
       "      <td>2</td>\n",
       "      <td>C0024121</td>\n",
       "    </tr>\n",
       "    <tr>\n",
       "      <th>4</th>\n",
       "      <td>2</td>\n",
       "      <td>C0011581</td>\n",
       "    </tr>\n",
       "    <tr>\n",
       "      <th>...</th>\n",
       "      <td>...</td>\n",
       "      <td>...</td>\n",
       "    </tr>\n",
       "    <tr>\n",
       "      <th>91479</th>\n",
       "      <td>132090497</td>\n",
       "      <td>C3279775</td>\n",
       "    </tr>\n",
       "    <tr>\n",
       "      <th>91480</th>\n",
       "      <td>132090498</td>\n",
       "      <td>C3279775</td>\n",
       "    </tr>\n",
       "    <tr>\n",
       "      <th>91481</th>\n",
       "      <td>132090521</td>\n",
       "      <td>C4285231</td>\n",
       "    </tr>\n",
       "    <tr>\n",
       "      <th>91482</th>\n",
       "      <td>132090595</td>\n",
       "      <td>C4225343</td>\n",
       "    </tr>\n",
       "    <tr>\n",
       "      <th>91483</th>\n",
       "      <td>132090595</td>\n",
       "      <td>C4225337</td>\n",
       "    </tr>\n",
       "  </tbody>\n",
       "</table>\n",
       "<p>91484 rows × 2 columns</p>\n",
       "</div>"
      ],
      "text/plain": [
       "         gene_id umls_code\n",
       "0              1  C0036341\n",
       "1              1  C0019209\n",
       "2              2  C0002395\n",
       "3              2  C0024121\n",
       "4              2  C0011581\n",
       "...          ...       ...\n",
       "91479  132090497  C3279775\n",
       "91480  132090498  C3279775\n",
       "91481  132090521  C4285231\n",
       "91482  132090595  C4225343\n",
       "91483  132090595  C4225337\n",
       "\n",
       "[91484 rows x 2 columns]"
      ]
     },
     "execution_count": 7,
     "metadata": {},
     "output_type": "execute_result"
    }
   ],
   "source": [
    "df_disgenet_protein_disease = df_disgenet[['gene_id', 'umls_code']]\n",
    "df_disgenet_protein_disease.drop_duplicates(inplace=True)\n",
    "df_disgenet_protein_disease"
   ]
  },
  {
   "cell_type": "markdown",
   "metadata": {},
   "source": [
    "### BioMedgraphica ID"
   ]
  },
  {
   "cell_type": "code",
   "execution_count": 8,
   "metadata": {},
   "outputs": [],
   "source": [
    "import pandas as pd\n",
    "import os\n",
    "from pathlib import Path\n",
    "\n",
    "current_working_dir = Path(os.getcwd()).resolve()\n",
    "grandparent_dir = current_working_dir.parent.parent.parent\n",
    "target_dir_protein = grandparent_dir / 'BioMedGraphica' / 'Entity' / 'Protein' / 'BioMedGraphica_Protein.csv'\n",
    "target_dir_disease = grandparent_dir / 'BioMedGraphica' / 'Entity' / 'Disease' / 'BioMedGraphica_Disease.csv'\n",
    "biomedgraphica_protein = pd.read_csv(target_dir_protein, dtype=str)\n",
    "biomedgraphica_disease = pd.read_csv(target_dir_disease, dtype=str)"
   ]
  },
  {
   "cell_type": "markdown",
   "metadata": {},
   "source": [
    "### UniProt Mapping"
   ]
  },
  {
   "cell_type": "markdown",
   "metadata": {},
   "source": [
    "UniProt ID"
   ]
  },
  {
   "cell_type": "code",
   "execution_count": 9,
   "metadata": {},
   "outputs": [
    {
     "name": "stderr",
     "output_type": "stream",
     "text": [
      "C:\\Users\\shunn\\AppData\\Local\\Temp\\ipykernel_40452\\3552324259.py:2: SettingWithCopyWarning: \n",
      "A value is trying to be set on a copy of a slice from a DataFrame\n",
      "\n",
      "See the caveats in the documentation: https://pandas.pydata.org/pandas-docs/stable/user_guide/indexing.html#returning-a-view-versus-a-copy\n",
      "  uniprot_individualid.dropna(subset=['Uniprot_ID'], inplace=True)\n"
     ]
    }
   ],
   "source": [
    "uniprot_individualid = biomedgraphica_protein[['Uniprot_ID', 'BioMedGraphica_ID']]\n",
    "uniprot_individualid.dropna(subset=['Uniprot_ID'], inplace=True)\n",
    "uniprot_individualid = uniprot_individualid.assign(Uniprot_ID=uniprot_individualid['Uniprot_ID'].str.split(';')).explode('Uniprot_ID')\n",
    "uniprot_to_individualid = uniprot_individualid.groupby('Uniprot_ID')['BioMedGraphica_ID'].apply(lambda x: ';'.join(x.dropna().unique())).to_dict()\n",
    "\n",
    "df_uniprot['From_ID'] = df_uniprot['Entry'].map(uniprot_to_individualid)"
   ]
  },
  {
   "cell_type": "markdown",
   "metadata": {},
   "source": [
    "OMIM ID"
   ]
  },
  {
   "cell_type": "code",
   "execution_count": 10,
   "metadata": {},
   "outputs": [
    {
     "name": "stderr",
     "output_type": "stream",
     "text": [
      "C:\\Users\\shunn\\AppData\\Local\\Temp\\ipykernel_40452\\3296919213.py:2: SettingWithCopyWarning: \n",
      "A value is trying to be set on a copy of a slice from a DataFrame\n",
      "\n",
      "See the caveats in the documentation: https://pandas.pydata.org/pandas-docs/stable/user_guide/indexing.html#returning-a-view-versus-a-copy\n",
      "  omim_individualid.dropna(subset=['OMIM_ID'], inplace=True)\n"
     ]
    }
   ],
   "source": [
    "omim_individualid = biomedgraphica_disease[['OMIM_ID', 'BioMedGraphica_ID']]\n",
    "omim_individualid.dropna(subset=['OMIM_ID'], inplace=True)\n",
    "omim_individualid = omim_individualid.assign(OMIM_ID=omim_individualid['OMIM_ID'].str.split(';')).explode('OMIM_ID')\n",
    "omim_to_individualid = omim_individualid.groupby('OMIM_ID')['BioMedGraphica_ID'].apply(lambda x: ';'.join(x.dropna().unique())).to_dict()\n",
    "\n",
    "df_uniprot['To_ID'] = df_uniprot['OMIM'].map(omim_to_individualid)"
   ]
  },
  {
   "cell_type": "markdown",
   "metadata": {},
   "source": [
    "Uniprot Protein-Disease"
   ]
  },
  {
   "cell_type": "code",
   "execution_count": 11,
   "metadata": {},
   "outputs": [
    {
     "name": "stdout",
     "output_type": "stream",
     "text": [
      "<class 'pandas.core.frame.DataFrame'>\n",
      "Index: 4784 entries, 244 to 20408\n",
      "Data columns (total 2 columns):\n",
      " #   Column   Non-Null Count  Dtype \n",
      "---  ------   --------------  ----- \n",
      " 0   From_ID  4784 non-null   object\n",
      " 1   To_ID    4784 non-null   object\n",
      "dtypes: object(2)\n",
      "memory usage: 112.1+ KB\n"
     ]
    },
    {
     "name": "stderr",
     "output_type": "stream",
     "text": [
      "C:\\Users\\shunn\\AppData\\Local\\Temp\\ipykernel_40452\\2103712540.py:2: SettingWithCopyWarning: \n",
      "A value is trying to be set on a copy of a slice from a DataFrame\n",
      "\n",
      "See the caveats in the documentation: https://pandas.pydata.org/pandas-docs/stable/user_guide/indexing.html#returning-a-view-versus-a-copy\n",
      "  uniprot_protein_disease.dropna(subset=['From_ID'], inplace=True)\n",
      "C:\\Users\\shunn\\AppData\\Local\\Temp\\ipykernel_40452\\2103712540.py:3: SettingWithCopyWarning: \n",
      "A value is trying to be set on a copy of a slice from a DataFrame\n",
      "\n",
      "See the caveats in the documentation: https://pandas.pydata.org/pandas-docs/stable/user_guide/indexing.html#returning-a-view-versus-a-copy\n",
      "  uniprot_protein_disease.dropna(subset=['To_ID'], inplace=True)\n"
     ]
    }
   ],
   "source": [
    "uniprot_protein_disease = df_uniprot[['From_ID', 'To_ID']]\n",
    "uniprot_protein_disease.dropna(subset=['From_ID'], inplace=True)\n",
    "uniprot_protein_disease.dropna(subset=['To_ID'], inplace=True)\n",
    "uniprot_protein_disease.info()"
   ]
  },
  {
   "cell_type": "code",
   "execution_count": 12,
   "metadata": {},
   "outputs": [
    {
     "name": "stderr",
     "output_type": "stream",
     "text": [
      "C:\\Users\\shunn\\AppData\\Local\\Temp\\ipykernel_40452\\1547274291.py:1: SettingWithCopyWarning: \n",
      "A value is trying to be set on a copy of a slice from a DataFrame.\n",
      "Try using .loc[row_indexer,col_indexer] = value instead\n",
      "\n",
      "See the caveats in the documentation: https://pandas.pydata.org/pandas-docs/stable/user_guide/indexing.html#returning-a-view-versus-a-copy\n",
      "  uniprot_protein_disease['From_ID'] = uniprot_protein_disease['From_ID'].str.split(';')\n",
      "C:\\Users\\shunn\\AppData\\Local\\Temp\\ipykernel_40452\\1547274291.py:2: SettingWithCopyWarning: \n",
      "A value is trying to be set on a copy of a slice from a DataFrame.\n",
      "Try using .loc[row_indexer,col_indexer] = value instead\n",
      "\n",
      "See the caveats in the documentation: https://pandas.pydata.org/pandas-docs/stable/user_guide/indexing.html#returning-a-view-versus-a-copy\n",
      "  uniprot_protein_disease['To_ID'] = uniprot_protein_disease['To_ID'].str.split(';')\n"
     ]
    },
    {
     "data": {
      "application/vnd.microsoft.datawrangler.viewer.v0+json": {
       "columns": [
        {
         "name": "index",
         "rawType": "int64",
         "type": "integer"
        },
        {
         "name": "From_ID",
         "rawType": "object",
         "type": "string"
        },
        {
         "name": "To_ID",
         "rawType": "object",
         "type": "string"
        }
       ],
       "conversionMethod": "pd.DataFrame",
       "ref": "f980e499-dd11-422f-8402-a0706661cb02",
       "rows": [
        [
         "0",
         "BMG_PT003616",
         "BMG_DS072594"
        ],
        [
         "1",
         "BMG_PT003629",
         "BMG_DS072482"
        ],
        [
         "2",
         "BMG_PT004067",
         "BMG_DS068410"
        ],
        [
         "3",
         "BMG_PT007034",
         "BMG_DS071340"
        ],
        [
         "4",
         "BMG_PT007277",
         "BMG_DS058366"
        ],
        [
         "5",
         "BMG_PT007292",
         "BMG_DS069845"
        ],
        [
         "6",
         "BMG_PT007370",
         "BMG_DS043637"
        ],
        [
         "7",
         "BMG_PT007469",
         "BMG_DS068838"
        ],
        [
         "8",
         "BMG_PT007648",
         "BMG_DS039842"
        ],
        [
         "9",
         "BMG_PT007650",
         "BMG_DS066415"
        ],
        [
         "10",
         "BMG_PT007951",
         "BMG_DS065861"
        ],
        [
         "11",
         "BMG_PT007951",
         "BMG_DS080589"
        ],
        [
         "12",
         "BMG_PT007965",
         "BMG_DS057142"
        ],
        [
         "13",
         "BMG_PT008023",
         "BMG_DS055780"
        ],
        [
         "14",
         "BMG_PT008055",
         "BMG_DS071349"
        ],
        [
         "15",
         "BMG_PT008252",
         "BMG_DS075864"
        ],
        [
         "16",
         "BMG_PT008366",
         "BMG_DS055915"
        ],
        [
         "17",
         "BMG_PT008876",
         "BMG_DS058371"
        ],
        [
         "18",
         "BMG_PT008878",
         "BMG_DS065571"
        ],
        [
         "19",
         "BMG_PT009030",
         "BMG_DS067979"
        ],
        [
         "20",
         "BMG_PT009117",
         "BMG_DS066450"
        ],
        [
         "21",
         "BMG_PT009225",
         "BMG_DS028434"
        ],
        [
         "22",
         "BMG_PT009225",
         "BMG_DS040139"
        ],
        [
         "23",
         "BMG_PT009529",
         "BMG_DS058191"
        ],
        [
         "24",
         "BMG_PT009585",
         "BMG_DS069841"
        ],
        [
         "25",
         "BMG_PT009629",
         "BMG_DS053645"
        ],
        [
         "26",
         "BMG_PT009629",
         "BMG_DS075775"
        ],
        [
         "27",
         "BMG_PT009777",
         "BMG_DS037871"
        ],
        [
         "28",
         "BMG_PT009777",
         "BMG_DS079902"
        ],
        [
         "29",
         "BMG_PT009822",
         "BMG_DS072461"
        ],
        [
         "30",
         "BMG_PT010037",
         "BMG_DS064232"
        ],
        [
         "31",
         "BMG_PT010368",
         "BMG_DS052563"
        ],
        [
         "32",
         "BMG_PT010413",
         "BMG_DS056905"
        ],
        [
         "33",
         "BMG_PT010438",
         "BMG_DS062612"
        ],
        [
         "34",
         "BMG_PT010778",
         "BMG_DS053723"
        ],
        [
         "35",
         "BMG_PT011362",
         "BMG_DS037790"
        ],
        [
         "36",
         "BMG_PT012956",
         "BMG_DS074893"
        ],
        [
         "37",
         "BMG_PT012995",
         "BMG_DS056859"
        ],
        [
         "38",
         "BMG_PT013229",
         "BMG_DS034961"
        ],
        [
         "39",
         "BMG_PT013338",
         "BMG_DS074752"
        ],
        [
         "40",
         "BMG_PT013479",
         "BMG_DS075820"
        ],
        [
         "41",
         "BMG_PT013933",
         "BMG_DS053873"
        ],
        [
         "42",
         "BMG_PT014053",
         "BMG_DS038153"
        ],
        [
         "43",
         "BMG_PT014053",
         "BMG_DS053574"
        ],
        [
         "44",
         "BMG_PT014485",
         "BMG_DS056073"
        ],
        [
         "45",
         "BMG_PT016722",
         "BMG_DS066409"
        ],
        [
         "46",
         "BMG_PT016808",
         "BMG_DS058456"
        ],
        [
         "47",
         "BMG_PT021728",
         "BMG_DS044231"
        ],
        [
         "48",
         "BMG_PT024647",
         "BMG_DS064258"
        ],
        [
         "49",
         "BMG_PT024882",
         "BMG_DS038085"
        ]
       ],
       "shape": {
        "columns": 2,
        "rows": 5573
       }
      },
      "text/html": [
       "<div>\n",
       "<style scoped>\n",
       "    .dataframe tbody tr th:only-of-type {\n",
       "        vertical-align: middle;\n",
       "    }\n",
       "\n",
       "    .dataframe tbody tr th {\n",
       "        vertical-align: top;\n",
       "    }\n",
       "\n",
       "    .dataframe thead th {\n",
       "        text-align: right;\n",
       "    }\n",
       "</style>\n",
       "<table border=\"1\" class=\"dataframe\">\n",
       "  <thead>\n",
       "    <tr style=\"text-align: right;\">\n",
       "      <th></th>\n",
       "      <th>From_ID</th>\n",
       "      <th>To_ID</th>\n",
       "    </tr>\n",
       "  </thead>\n",
       "  <tbody>\n",
       "    <tr>\n",
       "      <th>0</th>\n",
       "      <td>BMG_PT003616</td>\n",
       "      <td>BMG_DS072594</td>\n",
       "    </tr>\n",
       "    <tr>\n",
       "      <th>1</th>\n",
       "      <td>BMG_PT003629</td>\n",
       "      <td>BMG_DS072482</td>\n",
       "    </tr>\n",
       "    <tr>\n",
       "      <th>2</th>\n",
       "      <td>BMG_PT004067</td>\n",
       "      <td>BMG_DS068410</td>\n",
       "    </tr>\n",
       "    <tr>\n",
       "      <th>3</th>\n",
       "      <td>BMG_PT007034</td>\n",
       "      <td>BMG_DS071340</td>\n",
       "    </tr>\n",
       "    <tr>\n",
       "      <th>4</th>\n",
       "      <td>BMG_PT007277</td>\n",
       "      <td>BMG_DS058366</td>\n",
       "    </tr>\n",
       "    <tr>\n",
       "      <th>...</th>\n",
       "      <td>...</td>\n",
       "      <td>...</td>\n",
       "    </tr>\n",
       "    <tr>\n",
       "      <th>5568</th>\n",
       "      <td>BMG_PT100448</td>\n",
       "      <td>BMG_DS080706</td>\n",
       "    </tr>\n",
       "    <tr>\n",
       "      <th>5569</th>\n",
       "      <td>BMG_PT100449</td>\n",
       "      <td>BMG_DS069728</td>\n",
       "    </tr>\n",
       "    <tr>\n",
       "      <th>5570</th>\n",
       "      <td>BMG_PT100450</td>\n",
       "      <td>BMG_DS055956</td>\n",
       "    </tr>\n",
       "    <tr>\n",
       "      <th>5571</th>\n",
       "      <td>BMG_PT100462</td>\n",
       "      <td>BMG_DS028482</td>\n",
       "    </tr>\n",
       "    <tr>\n",
       "      <th>5572</th>\n",
       "      <td>BMG_PT100462</td>\n",
       "      <td>BMG_DS080038</td>\n",
       "    </tr>\n",
       "  </tbody>\n",
       "</table>\n",
       "<p>5573 rows × 2 columns</p>\n",
       "</div>"
      ],
      "text/plain": [
       "           From_ID         To_ID\n",
       "0     BMG_PT003616  BMG_DS072594\n",
       "1     BMG_PT003629  BMG_DS072482\n",
       "2     BMG_PT004067  BMG_DS068410\n",
       "3     BMG_PT007034  BMG_DS071340\n",
       "4     BMG_PT007277  BMG_DS058366\n",
       "...            ...           ...\n",
       "5568  BMG_PT100448  BMG_DS080706\n",
       "5569  BMG_PT100449  BMG_DS069728\n",
       "5570  BMG_PT100450  BMG_DS055956\n",
       "5571  BMG_PT100462  BMG_DS028482\n",
       "5572  BMG_PT100462  BMG_DS080038\n",
       "\n",
       "[5573 rows x 2 columns]"
      ]
     },
     "execution_count": 12,
     "metadata": {},
     "output_type": "execute_result"
    }
   ],
   "source": [
    "uniprot_protein_disease['From_ID'] = uniprot_protein_disease['From_ID'].str.split(';')\n",
    "uniprot_protein_disease['To_ID'] = uniprot_protein_disease['To_ID'].str.split(';')\n",
    "\n",
    "uniprot_protein_disease = uniprot_protein_disease.explode('From_ID')\n",
    "uniprot_protein_disease = uniprot_protein_disease.explode('To_ID')\n",
    "uniprot_protein_disease.drop_duplicates(inplace=True)\n",
    "uniprot_protein_disease.reset_index(drop=True, inplace=True)\n",
    "uniprot_protein_disease"
   ]
  },
  {
   "cell_type": "markdown",
   "metadata": {},
   "source": [
    "### DISEASES Mapping"
   ]
  },
  {
   "cell_type": "markdown",
   "metadata": {},
   "source": [
    "Ensembl ID"
   ]
  },
  {
   "cell_type": "code",
   "execution_count": 13,
   "metadata": {},
   "outputs": [
    {
     "name": "stderr",
     "output_type": "stream",
     "text": [
      "C:\\Users\\shunn\\AppData\\Local\\Temp\\ipykernel_40452\\1815440827.py:2: SettingWithCopyWarning: \n",
      "A value is trying to be set on a copy of a slice from a DataFrame\n",
      "\n",
      "See the caveats in the documentation: https://pandas.pydata.org/pandas-docs/stable/user_guide/indexing.html#returning-a-view-versus-a-copy\n",
      "  ensembl_individualid.dropna(subset=['Ensembl_Protein_ID'], inplace=True)\n"
     ]
    }
   ],
   "source": [
    "ensembl_individualid = biomedgraphica_protein[['Ensembl_Protein_ID', 'BioMedGraphica_ID']]\n",
    "ensembl_individualid.dropna(subset=['Ensembl_Protein_ID'], inplace=True)\n",
    "\n",
    "ensembl_to_individualid = ensembl_individualid.groupby('Ensembl_Protein_ID')['BioMedGraphica_ID'].apply(lambda x: ';'.join(x.dropna().unique())).to_dict()\n",
    "\n",
    "df_diseases_filter['From_ID'] = df_diseases_filter['protein'].map(ensembl_to_individualid)"
   ]
  },
  {
   "cell_type": "markdown",
   "metadata": {},
   "source": [
    "DO ID"
   ]
  },
  {
   "cell_type": "code",
   "execution_count": 14,
   "metadata": {},
   "outputs": [
    {
     "name": "stderr",
     "output_type": "stream",
     "text": [
      "C:\\Users\\shunn\\AppData\\Local\\Temp\\ipykernel_40452\\4222373762.py:2: SettingWithCopyWarning: \n",
      "A value is trying to be set on a copy of a slice from a DataFrame\n",
      "\n",
      "See the caveats in the documentation: https://pandas.pydata.org/pandas-docs/stable/user_guide/indexing.html#returning-a-view-versus-a-copy\n",
      "  do_individualid.dropna(subset=['DO_ID'], inplace=True)\n"
     ]
    }
   ],
   "source": [
    "do_individualid = biomedgraphica_disease[['DO_ID', 'BioMedGraphica_ID']]\n",
    "do_individualid.dropna(subset=['DO_ID'], inplace=True)\n",
    "do_individualid = do_individualid.assign(DO_ID=do_individualid['DO_ID'].str.split(';')).explode('DO_ID')\n",
    "do_to_individualid = do_individualid.groupby('DO_ID')['BioMedGraphica_ID'].apply(lambda x: ';'.join(x.dropna().unique())).to_dict()\n",
    "\n",
    "df_diseases_filter['To_ID_DO'] = df_diseases_filter['disease'].map(do_to_individualid)"
   ]
  },
  {
   "cell_type": "markdown",
   "metadata": {},
   "source": [
    "ICD10 ID"
   ]
  },
  {
   "cell_type": "code",
   "execution_count": 15,
   "metadata": {},
   "outputs": [
    {
     "name": "stderr",
     "output_type": "stream",
     "text": [
      "C:\\Users\\shunn\\AppData\\Local\\Temp\\ipykernel_40452\\1719175180.py:2: SettingWithCopyWarning: \n",
      "A value is trying to be set on a copy of a slice from a DataFrame\n",
      "\n",
      "See the caveats in the documentation: https://pandas.pydata.org/pandas-docs/stable/user_guide/indexing.html#returning-a-view-versus-a-copy\n",
      "  icd10_individualid.dropna(subset=['ICD10_ID'], inplace=True)\n"
     ]
    },
    {
     "data": {
      "application/vnd.microsoft.datawrangler.viewer.v0+json": {
       "columns": [
        {
         "name": "index",
         "rawType": "int64",
         "type": "integer"
        },
        {
         "name": "protein",
         "rawType": "object",
         "type": "string"
        },
        {
         "name": "disease",
         "rawType": "object",
         "type": "string"
        },
        {
         "name": "From_ID",
         "rawType": "object",
         "type": "unknown"
        },
        {
         "name": "To_ID_DO",
         "rawType": "object",
         "type": "unknown"
        },
        {
         "name": "To_ID_ICD10",
         "rawType": "object",
         "type": "unknown"
        }
       ],
       "conversionMethod": "pd.DataFrame",
       "ref": "e6e0d2ca-0700-425d-b9c3-d8d2648c644e",
       "rows": [
        [
         "9",
         "ENSP00000001146",
         "DOID:0080001",
         null,
         "BMG_DS000383",
         null
        ],
        [
         "10",
         "ENSP00000001146",
         "DOID:0080006",
         null,
         null,
         null
        ],
        [
         "11",
         "ENSP00000001146",
         "DOID:11971",
         null,
         "BMG_DS003103",
         null
        ],
        [
         "12",
         "ENSP00000001146",
         "DOID:17",
         null,
         "BMG_DS002064",
         null
        ],
        [
         "13",
         "ENSP00000001146",
         "DOID:1934",
         null,
         "BMG_DS000909",
         null
        ],
        [
         "14",
         "ENSP00000001146",
         "DOID:2340",
         null,
         "BMG_DS000726",
         null
        ],
        [
         "15",
         "ENSP00000001146",
         "DOID:4",
         null,
         "BMG_DS000858",
         null
        ],
        [
         "16",
         "ENSP00000001146",
         "DOID:65",
         null,
         "BMG_DS000699",
         null
        ],
        [
         "17",
         "ENSP00000001146",
         "DOID:7",
         null,
         null,
         null
        ],
        [
         "18",
         "ENSP00000001146",
         "Q",
         null,
         null,
         null
        ],
        [
         "19",
         "ENSP00000001146",
         "Q7",
         null,
         null,
         null
        ],
        [
         "20",
         "ENSP00000001146",
         "Q75",
         null,
         null,
         null
        ],
        [
         "21",
         "ENSP00000001146",
         "Q750",
         null,
         null,
         null
        ],
        [
         "22",
         "ENSP00000001146",
         "root",
         null,
         null,
         null
        ],
        [
         "23",
         "ENSP00000003084",
         "DOID:0050177",
         null,
         null,
         null
        ],
        [
         "25",
         "ENSP00000003084",
         "DOID:0050735",
         null,
         null,
         null
        ],
        [
         "26",
         "ENSP00000003084",
         "DOID:0050737",
         null,
         null,
         null
        ],
        [
         "27",
         "ENSP00000003084",
         "DOID:0050739",
         null,
         null,
         null
        ],
        [
         "28",
         "ENSP00000003084",
         "DOID:0080015",
         null,
         null,
         null
        ],
        [
         "29",
         "ENSP00000003084",
         "DOID:0111862",
         null,
         "BMG_DS080853",
         null
        ],
        [
         "30",
         "ENSP00000003084",
         "DOID:12336",
         null,
         "BMG_DS001603",
         null
        ],
        [
         "31",
         "ENSP00000003084",
         "DOID:1485",
         null,
         "BMG_DS000754",
         null
        ],
        [
         "32",
         "ENSP00000003084",
         "DOID:15",
         null,
         "BMG_DS034350",
         null
        ],
        [
         "33",
         "ENSP00000003084",
         "DOID:225",
         null,
         "BMG_DS003101",
         null
        ],
        [
         "34",
         "ENSP00000003084",
         "DOID:4",
         null,
         "BMG_DS000858",
         null
        ],
        [
         "36",
         "ENSP00000003084",
         "DOID:48",
         null,
         "BMG_DS001218",
         null
        ],
        [
         "37",
         "ENSP00000003084",
         "DOID:630",
         null,
         "BMG_DS001409",
         null
        ],
        [
         "39",
         "ENSP00000003084",
         "DOID:7",
         null,
         null,
         null
        ],
        [
         "40",
         "ENSP00000003084",
         "E",
         null,
         null,
         null
        ],
        [
         "41",
         "ENSP00000003084",
         "E8",
         null,
         null,
         null
        ],
        [
         "42",
         "ENSP00000003084",
         "E84",
         null,
         null,
         null
        ],
        [
         "43",
         "ENSP00000003084",
         "N",
         null,
         null,
         null
        ],
        [
         "44",
         "ENSP00000003084",
         "N4",
         null,
         null,
         null
        ],
        [
         "45",
         "ENSP00000003084",
         "N46",
         null,
         null,
         "BMG_DS001603"
        ],
        [
         "46",
         "ENSP00000003084",
         "root",
         null,
         null,
         null
        ],
        [
         "48",
         "ENSP00000005226",
         "DOID:0050155",
         null,
         null,
         null
        ],
        [
         "50",
         "ENSP00000005226",
         "DOID:0050177",
         null,
         null,
         null
        ],
        [
         "51",
         "ENSP00000005226",
         "DOID:0050439",
         null,
         "BMG_DS011348",
         null
        ],
        [
         "52",
         "ENSP00000005226",
         "DOID:0050563",
         null,
         "BMG_DS056730",
         null
        ],
        [
         "54",
         "ENSP00000005226",
         "DOID:0050737",
         null,
         null,
         null
        ],
        [
         "55",
         "ENSP00000005226",
         "DOID:0050739",
         null,
         null,
         null
        ],
        [
         "56",
         "ENSP00000005226",
         "DOID:10584",
         null,
         "BMG_DS002818;BMG_DS006064",
         null
        ],
        [
         "57",
         "ENSP00000005226",
         "DOID:225",
         null,
         "BMG_DS003101",
         null
        ],
        [
         "58",
         "ENSP00000005226",
         "DOID:2742",
         null,
         "BMG_DS000919",
         null
        ],
        [
         "60",
         "ENSP00000005226",
         "DOID:4",
         null,
         "BMG_DS000858",
         null
        ],
        [
         "63",
         "ENSP00000005226",
         "DOID:5614",
         null,
         "BMG_DS001090",
         null
        ],
        [
         "64",
         "ENSP00000005226",
         "DOID:5679",
         null,
         "BMG_DS002811",
         null
        ],
        [
         "65",
         "ENSP00000005226",
         "DOID:630",
         null,
         "BMG_DS001409",
         null
        ],
        [
         "66",
         "ENSP00000005226",
         "DOID:7",
         null,
         null,
         null
        ],
        [
         "68",
         "ENSP00000005226",
         "DOID:8466",
         null,
         "BMG_DS002809",
         null
        ]
       ],
       "shape": {
        "columns": 5,
        "rows": 69896
       }
      },
      "text/html": [
       "<div>\n",
       "<style scoped>\n",
       "    .dataframe tbody tr th:only-of-type {\n",
       "        vertical-align: middle;\n",
       "    }\n",
       "\n",
       "    .dataframe tbody tr th {\n",
       "        vertical-align: top;\n",
       "    }\n",
       "\n",
       "    .dataframe thead th {\n",
       "        text-align: right;\n",
       "    }\n",
       "</style>\n",
       "<table border=\"1\" class=\"dataframe\">\n",
       "  <thead>\n",
       "    <tr style=\"text-align: right;\">\n",
       "      <th></th>\n",
       "      <th>protein</th>\n",
       "      <th>disease</th>\n",
       "      <th>From_ID</th>\n",
       "      <th>To_ID_DO</th>\n",
       "      <th>To_ID_ICD10</th>\n",
       "    </tr>\n",
       "  </thead>\n",
       "  <tbody>\n",
       "    <tr>\n",
       "      <th>9</th>\n",
       "      <td>ENSP00000001146</td>\n",
       "      <td>DOID:0080001</td>\n",
       "      <td>NaN</td>\n",
       "      <td>BMG_DS000383</td>\n",
       "      <td>NaN</td>\n",
       "    </tr>\n",
       "    <tr>\n",
       "      <th>10</th>\n",
       "      <td>ENSP00000001146</td>\n",
       "      <td>DOID:0080006</td>\n",
       "      <td>NaN</td>\n",
       "      <td>NaN</td>\n",
       "      <td>NaN</td>\n",
       "    </tr>\n",
       "    <tr>\n",
       "      <th>11</th>\n",
       "      <td>ENSP00000001146</td>\n",
       "      <td>DOID:11971</td>\n",
       "      <td>NaN</td>\n",
       "      <td>BMG_DS003103</td>\n",
       "      <td>NaN</td>\n",
       "    </tr>\n",
       "    <tr>\n",
       "      <th>12</th>\n",
       "      <td>ENSP00000001146</td>\n",
       "      <td>DOID:17</td>\n",
       "      <td>NaN</td>\n",
       "      <td>BMG_DS002064</td>\n",
       "      <td>NaN</td>\n",
       "    </tr>\n",
       "    <tr>\n",
       "      <th>13</th>\n",
       "      <td>ENSP00000001146</td>\n",
       "      <td>DOID:1934</td>\n",
       "      <td>NaN</td>\n",
       "      <td>BMG_DS000909</td>\n",
       "      <td>NaN</td>\n",
       "    </tr>\n",
       "    <tr>\n",
       "      <th>...</th>\n",
       "      <td>...</td>\n",
       "      <td>...</td>\n",
       "      <td>...</td>\n",
       "      <td>...</td>\n",
       "      <td>...</td>\n",
       "    </tr>\n",
       "    <tr>\n",
       "      <th>96305</th>\n",
       "      <td>ENSP00000501180</td>\n",
       "      <td>C80</td>\n",
       "      <td>NaN</td>\n",
       "      <td>NaN</td>\n",
       "      <td>NaN</td>\n",
       "    </tr>\n",
       "    <tr>\n",
       "      <th>96306</th>\n",
       "      <td>ENSP00000501180</td>\n",
       "      <td>D</td>\n",
       "      <td>NaN</td>\n",
       "      <td>NaN</td>\n",
       "      <td>NaN</td>\n",
       "    </tr>\n",
       "    <tr>\n",
       "      <th>96307</th>\n",
       "      <td>ENSP00000501180</td>\n",
       "      <td>D4</td>\n",
       "      <td>NaN</td>\n",
       "      <td>NaN</td>\n",
       "      <td>NaN</td>\n",
       "    </tr>\n",
       "    <tr>\n",
       "      <th>96308</th>\n",
       "      <td>ENSP00000501180</td>\n",
       "      <td>D48</td>\n",
       "      <td>NaN</td>\n",
       "      <td>NaN</td>\n",
       "      <td>NaN</td>\n",
       "    </tr>\n",
       "    <tr>\n",
       "      <th>96309</th>\n",
       "      <td>ENSP00000501180</td>\n",
       "      <td>root</td>\n",
       "      <td>NaN</td>\n",
       "      <td>NaN</td>\n",
       "      <td>NaN</td>\n",
       "    </tr>\n",
       "  </tbody>\n",
       "</table>\n",
       "<p>69896 rows × 5 columns</p>\n",
       "</div>"
      ],
      "text/plain": [
       "               protein       disease From_ID      To_ID_DO To_ID_ICD10\n",
       "9      ENSP00000001146  DOID:0080001     NaN  BMG_DS000383         NaN\n",
       "10     ENSP00000001146  DOID:0080006     NaN           NaN         NaN\n",
       "11     ENSP00000001146    DOID:11971     NaN  BMG_DS003103         NaN\n",
       "12     ENSP00000001146       DOID:17     NaN  BMG_DS002064         NaN\n",
       "13     ENSP00000001146     DOID:1934     NaN  BMG_DS000909         NaN\n",
       "...                ...           ...     ...           ...         ...\n",
       "96305  ENSP00000501180           C80     NaN           NaN         NaN\n",
       "96306  ENSP00000501180             D     NaN           NaN         NaN\n",
       "96307  ENSP00000501180            D4     NaN           NaN         NaN\n",
       "96308  ENSP00000501180           D48     NaN           NaN         NaN\n",
       "96309  ENSP00000501180          root     NaN           NaN         NaN\n",
       "\n",
       "[69896 rows x 5 columns]"
      ]
     },
     "execution_count": 15,
     "metadata": {},
     "output_type": "execute_result"
    }
   ],
   "source": [
    "icd10_individualid = biomedgraphica_disease[['ICD10_ID', 'BioMedGraphica_ID']]\n",
    "icd10_individualid.dropna(subset=['ICD10_ID'], inplace=True)\n",
    "icd10_individualid = icd10_individualid.assign(ICD10_ID=icd10_individualid['ICD10_ID'].str.split(';')).explode('ICD10_ID')\n",
    "icd10_to_individualid = icd10_individualid.groupby('ICD10_ID')['BioMedGraphica_ID'].apply(lambda x: ';'.join(x.dropna().unique())).to_dict()\n",
    "\n",
    "df_diseases_filter['disease'] = df_diseases_filter['disease'].replace('ICD10:', '', regex=True)\n",
    "df_diseases_filter['To_ID_ICD10'] = df_diseases_filter['disease'].map(icd10_to_individualid)\n",
    "df_diseases_filter"
   ]
  },
  {
   "cell_type": "code",
   "execution_count": 16,
   "metadata": {},
   "outputs": [
    {
     "name": "stdout",
     "output_type": "stream",
     "text": [
      "<class 'pandas.core.frame.DataFrame'>\n",
      "Index: 69896 entries, 9 to 96309\n",
      "Data columns (total 4 columns):\n",
      " #   Column   Non-Null Count  Dtype \n",
      "---  ------   --------------  ----- \n",
      " 0   protein  69896 non-null  object\n",
      " 1   disease  69896 non-null  object\n",
      " 2   From_ID  23538 non-null  object\n",
      " 3   To_ID    32714 non-null  object\n",
      "dtypes: object(4)\n",
      "memory usage: 2.7+ MB\n"
     ]
    }
   ],
   "source": [
    "def merge_string_columns(df, columns, merge_name, separator=';'):\n",
    "    def merge_strings(row):\n",
    "        combined = set()\n",
    "        for column in columns:\n",
    "            if pd.notnull(row[column]):\n",
    "                combined.update(row[column].split(separator))\n",
    "        return separator.join(combined)\n",
    "    \n",
    "    # Apply the function to each row and create a new column\n",
    "    combined_column_name = merge_name\n",
    "    df[combined_column_name] = df.apply(merge_strings, axis=1)\n",
    "    df.drop(columns=columns, inplace=True)\n",
    "    \n",
    "    return df\n",
    "\n",
    "df_diseases_filter = merge_string_columns(df_diseases_filter, ['To_ID_DO', 'To_ID_ICD10'], 'To_ID')\n",
    "df_diseases_filter.replace('', pd.NA, inplace=True)\n",
    "df_diseases_filter.info()"
   ]
  },
  {
   "cell_type": "code",
   "execution_count": 17,
   "metadata": {},
   "outputs": [
    {
     "name": "stdout",
     "output_type": "stream",
     "text": [
      "<class 'pandas.core.frame.DataFrame'>\n",
      "Index: 11108 entries, 89 to 96083\n",
      "Data columns (total 2 columns):\n",
      " #   Column   Non-Null Count  Dtype \n",
      "---  ------   --------------  ----- \n",
      " 0   From_ID  11108 non-null  object\n",
      " 1   To_ID    11108 non-null  object\n",
      "dtypes: object(2)\n",
      "memory usage: 260.3+ KB\n"
     ]
    },
    {
     "name": "stderr",
     "output_type": "stream",
     "text": [
      "C:\\Users\\shunn\\AppData\\Local\\Temp\\ipykernel_40452\\1394954699.py:2: SettingWithCopyWarning: \n",
      "A value is trying to be set on a copy of a slice from a DataFrame\n",
      "\n",
      "See the caveats in the documentation: https://pandas.pydata.org/pandas-docs/stable/user_guide/indexing.html#returning-a-view-versus-a-copy\n",
      "  diseases_protein_disease.dropna(subset=['From_ID'], inplace=True)\n",
      "C:\\Users\\shunn\\AppData\\Local\\Temp\\ipykernel_40452\\1394954699.py:3: SettingWithCopyWarning: \n",
      "A value is trying to be set on a copy of a slice from a DataFrame\n",
      "\n",
      "See the caveats in the documentation: https://pandas.pydata.org/pandas-docs/stable/user_guide/indexing.html#returning-a-view-versus-a-copy\n",
      "  diseases_protein_disease.dropna(subset=['To_ID'], inplace=True)\n"
     ]
    }
   ],
   "source": [
    "diseases_protein_disease = df_diseases_filter[['From_ID', 'To_ID']]\n",
    "diseases_protein_disease.dropna(subset=['From_ID'], inplace=True)\n",
    "diseases_protein_disease.dropna(subset=['To_ID'], inplace=True)\n",
    "diseases_protein_disease.info()"
   ]
  },
  {
   "cell_type": "code",
   "execution_count": 18,
   "metadata": {},
   "outputs": [
    {
     "name": "stderr",
     "output_type": "stream",
     "text": [
      "C:\\Users\\shunn\\AppData\\Local\\Temp\\ipykernel_40452\\1445043353.py:1: SettingWithCopyWarning: \n",
      "A value is trying to be set on a copy of a slice from a DataFrame.\n",
      "Try using .loc[row_indexer,col_indexer] = value instead\n",
      "\n",
      "See the caveats in the documentation: https://pandas.pydata.org/pandas-docs/stable/user_guide/indexing.html#returning-a-view-versus-a-copy\n",
      "  diseases_protein_disease['From_ID'] = diseases_protein_disease['From_ID'].str.split(';')\n",
      "C:\\Users\\shunn\\AppData\\Local\\Temp\\ipykernel_40452\\1445043353.py:2: SettingWithCopyWarning: \n",
      "A value is trying to be set on a copy of a slice from a DataFrame.\n",
      "Try using .loc[row_indexer,col_indexer] = value instead\n",
      "\n",
      "See the caveats in the documentation: https://pandas.pydata.org/pandas-docs/stable/user_guide/indexing.html#returning-a-view-versus-a-copy\n",
      "  diseases_protein_disease['To_ID'] = diseases_protein_disease['To_ID'].str.split(';')\n"
     ]
    },
    {
     "data": {
      "application/vnd.microsoft.datawrangler.viewer.v0+json": {
       "columns": [
        {
         "name": "index",
         "rawType": "int64",
         "type": "integer"
        },
        {
         "name": "From_ID",
         "rawType": "object",
         "type": "string"
        },
        {
         "name": "To_ID",
         "rawType": "object",
         "type": "string"
        }
       ],
       "conversionMethod": "pd.DataFrame",
       "ref": "5d193193-a809-400b-80d8-114121109e93",
       "rows": [
        [
         "0",
         "BMG_PT041395",
         "BMG_DS002005"
        ],
        [
         "1",
         "BMG_PT041395",
         "BMG_DS000127"
        ],
        [
         "2",
         "BMG_PT041395",
         "BMG_DS031527"
        ],
        [
         "3",
         "BMG_PT041395",
         "BMG_DS024549"
        ],
        [
         "4",
         "BMG_PT041395",
         "BMG_DS000523"
        ],
        [
         "5",
         "BMG_PT041395",
         "BMG_DS000858"
        ],
        [
         "6",
         "BMG_PT041395",
         "BMG_DS029674"
        ],
        [
         "7",
         "BMG_PT041395",
         "BMG_DS002154"
        ],
        [
         "8",
         "BMG_PT041395",
         "BMG_DS000145"
        ],
        [
         "9",
         "BMG_PT041395",
         "BMG_DS044853"
        ],
        [
         "10",
         "BMG_PT041395",
         "BMG_DS061252"
        ],
        [
         "11",
         "BMG_PT041395",
         "BMG_DS005809"
        ],
        [
         "12",
         "BMG_PT034737",
         "BMG_DS003101"
        ],
        [
         "13",
         "BMG_PT034737",
         "BMG_DS003502"
        ],
        [
         "14",
         "BMG_PT034737",
         "BMG_DS000858"
        ],
        [
         "15",
         "BMG_PT034737",
         "BMG_DS001409"
        ],
        [
         "16",
         "BMG_PT034737",
         "BMG_DS003487"
        ],
        [
         "17",
         "BMG_PT034737",
         "BMG_DS039071"
        ],
        [
         "18",
         "BMG_PT034737",
         "BMG_DS054618"
        ],
        [
         "19",
         "BMG_PT095370",
         "BMG_DS000944"
        ],
        [
         "20",
         "BMG_PT095370",
         "BMG_DS002064"
        ],
        [
         "21",
         "BMG_PT095370",
         "BMG_DS000858"
        ],
        [
         "22",
         "BMG_PT095370",
         "BMG_DS000699"
        ],
        [
         "23",
         "BMG_PT095370",
         "BMG_DS000661"
        ],
        [
         "24",
         "BMG_PT084763",
         "BMG_DS001238"
        ],
        [
         "25",
         "BMG_PT084763",
         "BMG_DS000858"
        ],
        [
         "26",
         "BMG_PT084763",
         "BMG_DS001090"
        ],
        [
         "27",
         "BMG_PT084763",
         "BMG_DS002154"
        ],
        [
         "28",
         "BMG_PT087395",
         "BMG_DS000327"
        ],
        [
         "29",
         "BMG_PT087395",
         "BMG_DS002246"
        ],
        [
         "30",
         "BMG_PT087395",
         "BMG_DS002293"
        ],
        [
         "31",
         "BMG_PT087395",
         "BMG_DS000858"
        ],
        [
         "32",
         "BMG_PT087395",
         "BMG_DS002896"
        ],
        [
         "33",
         "BMG_PT040012",
         "BMG_DS002005"
        ],
        [
         "34",
         "BMG_PT040012",
         "BMG_DS082204"
        ],
        [
         "35",
         "BMG_PT040012",
         "BMG_DS031527"
        ],
        [
         "36",
         "BMG_PT040012",
         "BMG_DS024549"
        ],
        [
         "37",
         "BMG_PT040012",
         "BMG_DS004654"
        ],
        [
         "38",
         "BMG_PT040012",
         "BMG_DS002173"
        ],
        [
         "39",
         "BMG_PT040012",
         "BMG_DS000327"
        ],
        [
         "40",
         "BMG_PT040012",
         "BMG_DS002246"
        ],
        [
         "41",
         "BMG_PT040012",
         "BMG_DS003516"
        ],
        [
         "42",
         "BMG_PT040012",
         "BMG_DS000523"
        ],
        [
         "43",
         "BMG_PT040012",
         "BMG_DS000858"
        ],
        [
         "44",
         "BMG_PT040012",
         "BMG_DS001409"
        ],
        [
         "45",
         "BMG_PT040012",
         "BMG_DS002006"
        ],
        [
         "46",
         "BMG_PT040012",
         "BMG_DS002154"
        ],
        [
         "47",
         "BMG_PT040012",
         "BMG_DS024286"
        ],
        [
         "48",
         "BMG_PT040012",
         "BMG_DS003596"
        ],
        [
         "49",
         "BMG_PT040012",
         "BMG_DS000404"
        ]
       ],
       "shape": {
        "columns": 2,
        "rows": 12387
       }
      },
      "text/html": [
       "<div>\n",
       "<style scoped>\n",
       "    .dataframe tbody tr th:only-of-type {\n",
       "        vertical-align: middle;\n",
       "    }\n",
       "\n",
       "    .dataframe tbody tr th {\n",
       "        vertical-align: top;\n",
       "    }\n",
       "\n",
       "    .dataframe thead th {\n",
       "        text-align: right;\n",
       "    }\n",
       "</style>\n",
       "<table border=\"1\" class=\"dataframe\">\n",
       "  <thead>\n",
       "    <tr style=\"text-align: right;\">\n",
       "      <th></th>\n",
       "      <th>From_ID</th>\n",
       "      <th>To_ID</th>\n",
       "    </tr>\n",
       "  </thead>\n",
       "  <tbody>\n",
       "    <tr>\n",
       "      <th>0</th>\n",
       "      <td>BMG_PT041395</td>\n",
       "      <td>BMG_DS002005</td>\n",
       "    </tr>\n",
       "    <tr>\n",
       "      <th>1</th>\n",
       "      <td>BMG_PT041395</td>\n",
       "      <td>BMG_DS000127</td>\n",
       "    </tr>\n",
       "    <tr>\n",
       "      <th>2</th>\n",
       "      <td>BMG_PT041395</td>\n",
       "      <td>BMG_DS031527</td>\n",
       "    </tr>\n",
       "    <tr>\n",
       "      <th>3</th>\n",
       "      <td>BMG_PT041395</td>\n",
       "      <td>BMG_DS024549</td>\n",
       "    </tr>\n",
       "    <tr>\n",
       "      <th>4</th>\n",
       "      <td>BMG_PT041395</td>\n",
       "      <td>BMG_DS000523</td>\n",
       "    </tr>\n",
       "    <tr>\n",
       "      <th>...</th>\n",
       "      <td>...</td>\n",
       "      <td>...</td>\n",
       "    </tr>\n",
       "    <tr>\n",
       "      <th>12382</th>\n",
       "      <td>BMG_PT159347</td>\n",
       "      <td>BMG_DS056411</td>\n",
       "    </tr>\n",
       "    <tr>\n",
       "      <th>12383</th>\n",
       "      <td>BMG_PT159347</td>\n",
       "      <td>BMG_DS003101</td>\n",
       "    </tr>\n",
       "    <tr>\n",
       "      <th>12384</th>\n",
       "      <td>BMG_PT159347</td>\n",
       "      <td>BMG_DS000603</td>\n",
       "    </tr>\n",
       "    <tr>\n",
       "      <th>12385</th>\n",
       "      <td>BMG_PT159347</td>\n",
       "      <td>BMG_DS000858</td>\n",
       "    </tr>\n",
       "    <tr>\n",
       "      <th>12386</th>\n",
       "      <td>BMG_PT159347</td>\n",
       "      <td>BMG_DS001409</td>\n",
       "    </tr>\n",
       "  </tbody>\n",
       "</table>\n",
       "<p>12387 rows × 2 columns</p>\n",
       "</div>"
      ],
      "text/plain": [
       "            From_ID         To_ID\n",
       "0      BMG_PT041395  BMG_DS002005\n",
       "1      BMG_PT041395  BMG_DS000127\n",
       "2      BMG_PT041395  BMG_DS031527\n",
       "3      BMG_PT041395  BMG_DS024549\n",
       "4      BMG_PT041395  BMG_DS000523\n",
       "...             ...           ...\n",
       "12382  BMG_PT159347  BMG_DS056411\n",
       "12383  BMG_PT159347  BMG_DS003101\n",
       "12384  BMG_PT159347  BMG_DS000603\n",
       "12385  BMG_PT159347  BMG_DS000858\n",
       "12386  BMG_PT159347  BMG_DS001409\n",
       "\n",
       "[12387 rows x 2 columns]"
      ]
     },
     "execution_count": 18,
     "metadata": {},
     "output_type": "execute_result"
    }
   ],
   "source": [
    "diseases_protein_disease['From_ID'] = diseases_protein_disease['From_ID'].str.split(';')\n",
    "diseases_protein_disease['To_ID'] = diseases_protein_disease['To_ID'].str.split(';')\n",
    "\n",
    "diseases_protein_disease = diseases_protein_disease.explode('From_ID')\n",
    "diseases_protein_disease = diseases_protein_disease.explode('To_ID')\n",
    "diseases_protein_disease.drop_duplicates(inplace=True)\n",
    "diseases_protein_disease.reset_index(drop=True, inplace=True)\n",
    "\n",
    "diseases_protein_disease"
   ]
  },
  {
   "cell_type": "markdown",
   "metadata": {},
   "source": [
    "### HPO Mapping"
   ]
  },
  {
   "cell_type": "markdown",
   "metadata": {},
   "source": [
    "NCBI Gene ID"
   ]
  },
  {
   "cell_type": "code",
   "execution_count": 19,
   "metadata": {},
   "outputs": [
    {
     "name": "stderr",
     "output_type": "stream",
     "text": [
      "C:\\Users\\shunn\\AppData\\Local\\Temp\\ipykernel_40452\\3367253685.py:2: SettingWithCopyWarning: \n",
      "A value is trying to be set on a copy of a slice from a DataFrame\n",
      "\n",
      "See the caveats in the documentation: https://pandas.pydata.org/pandas-docs/stable/user_guide/indexing.html#returning-a-view-versus-a-copy\n",
      "  ncbi_individual.dropna(subset=['NCBI_Gene_ID'], inplace=True)\n",
      "C:\\Users\\shunn\\AppData\\Local\\Temp\\ipykernel_40452\\3367253685.py:6: SettingWithCopyWarning: \n",
      "A value is trying to be set on a copy of a slice from a DataFrame.\n",
      "Try using .loc[row_indexer,col_indexer] = value instead\n",
      "\n",
      "See the caveats in the documentation: https://pandas.pydata.org/pandas-docs/stable/user_guide/indexing.html#returning-a-view-versus-a-copy\n",
      "  df_hpo_omim['From_ID'] = df_hpo_omim['ncbi_gene_id'].map(ncbi_to_individual)\n"
     ]
    }
   ],
   "source": [
    "ncbi_individual = biomedgraphica_protein[['NCBI_Gene_ID', 'BioMedGraphica_ID']]\n",
    "ncbi_individual.dropna(subset=['NCBI_Gene_ID'], inplace=True)\n",
    "ncbi_individual = ncbi_individual.assign(NCBI_Gene_ID=ncbi_individual['NCBI_Gene_ID'].str.split(';')).explode('NCBI_Gene_ID')\n",
    "ncbi_to_individual = ncbi_individual.groupby('NCBI_Gene_ID')['BioMedGraphica_ID'].apply(lambda x: ';'.join(x.dropna().unique())).to_dict()\n",
    "\n",
    "df_hpo_omim['From_ID'] = df_hpo_omim['ncbi_gene_id'].map(ncbi_to_individual)"
   ]
  },
  {
   "cell_type": "markdown",
   "metadata": {},
   "source": [
    "OMIM ID"
   ]
  },
  {
   "cell_type": "code",
   "execution_count": 20,
   "metadata": {},
   "outputs": [
    {
     "name": "stderr",
     "output_type": "stream",
     "text": [
      "C:\\Users\\shunn\\AppData\\Local\\Temp\\ipykernel_40452\\1408841610.py:2: SettingWithCopyWarning: \n",
      "A value is trying to be set on a copy of a slice from a DataFrame\n",
      "\n",
      "See the caveats in the documentation: https://pandas.pydata.org/pandas-docs/stable/user_guide/indexing.html#returning-a-view-versus-a-copy\n",
      "  omim_individual.dropna(subset=['OMIM_ID'], inplace=True)\n",
      "C:\\Users\\shunn\\AppData\\Local\\Temp\\ipykernel_40452\\1408841610.py:6: SettingWithCopyWarning: \n",
      "A value is trying to be set on a copy of a slice from a DataFrame.\n",
      "Try using .loc[row_indexer,col_indexer] = value instead\n",
      "\n",
      "See the caveats in the documentation: https://pandas.pydata.org/pandas-docs/stable/user_guide/indexing.html#returning-a-view-versus-a-copy\n",
      "  df_hpo_omim['To_ID'] = df_hpo_omim['disease_id_number'].astype(str).map(omim_to_individual)\n"
     ]
    }
   ],
   "source": [
    "omim_individual = biomedgraphica_disease[['OMIM_ID', 'BioMedGraphica_ID']]\n",
    "omim_individual.dropna(subset=['OMIM_ID'], inplace=True)\n",
    "omim_individual = omim_individual.assign(OMIM_ID=omim_individual['OMIM_ID'].str.split(';')).explode('OMIM_ID')\n",
    "omim_to_individual = omim_individual.groupby('OMIM_ID')['BioMedGraphica_ID'].apply(lambda x: ';'.join(x.dropna().unique())).to_dict()\n",
    "\n",
    "df_hpo_omim['To_ID'] = df_hpo_omim['disease_id_number'].astype(str).map(omim_to_individual)"
   ]
  },
  {
   "cell_type": "code",
   "execution_count": 21,
   "metadata": {},
   "outputs": [
    {
     "name": "stderr",
     "output_type": "stream",
     "text": [
      "C:\\Users\\shunn\\AppData\\Local\\Temp\\ipykernel_40452\\1388011094.py:2: SettingWithCopyWarning: \n",
      "A value is trying to be set on a copy of a slice from a DataFrame\n",
      "\n",
      "See the caveats in the documentation: https://pandas.pydata.org/pandas-docs/stable/user_guide/indexing.html#returning-a-view-versus-a-copy\n",
      "  hpo_protein_disease.dropna(subset=['From_ID'], inplace=True)\n",
      "C:\\Users\\shunn\\AppData\\Local\\Temp\\ipykernel_40452\\1388011094.py:3: SettingWithCopyWarning: \n",
      "A value is trying to be set on a copy of a slice from a DataFrame\n",
      "\n",
      "See the caveats in the documentation: https://pandas.pydata.org/pandas-docs/stable/user_guide/indexing.html#returning-a-view-versus-a-copy\n",
      "  hpo_protein_disease.dropna(subset=['To_ID'], inplace=True)\n"
     ]
    },
    {
     "data": {
      "application/vnd.microsoft.datawrangler.viewer.v0+json": {
       "columns": [
        {
         "name": "index",
         "rawType": "int64",
         "type": "integer"
        },
        {
         "name": "From_ID",
         "rawType": "object",
         "type": "string"
        },
        {
         "name": "To_ID",
         "rawType": "object",
         "type": "string"
        }
       ],
       "conversionMethod": "pd.DataFrame",
       "ref": "07360528-bf2e-4fd3-a477-34fe85005124",
       "rows": [
        [
         "0",
         "BMG_PT088456",
         "BMG_DS040360"
        ],
        [
         "1",
         "BMG_PT094497;BMG_PT108327;BMG_PT145971",
         "BMG_DS056872"
        ],
        [
         "2",
         "BMG_PT078492;BMG_PT131086",
         "BMG_DS065541"
        ],
        [
         "3",
         "BMG_PT073254",
         "BMG_DS060167"
        ],
        [
         "4",
         "BMG_PT040769",
         "BMG_DS056936;BMG_DS080612"
        ],
        [
         "5",
         "BMG_PT038844",
         "BMG_DS056829"
        ],
        [
         "6",
         "BMG_PT086761;BMG_PT164631",
         "BMG_DS060168"
        ],
        [
         "7",
         "BMG_PT083385;BMG_PT165997;BMG_PT166500;BMG_PT167226",
         "BMG_DS065540;BMG_DS080773"
        ],
        [
         "8",
         "BMG_PT041918",
         "BMG_DS065543"
        ],
        [
         "9",
         "BMG_PT062366",
         "BMG_DS065542"
        ],
        [
         "11",
         "BMG_PT057102",
         "BMG_DS060166"
        ],
        [
         "12",
         "BMG_PT059595;BMG_PT105547",
         "BMG_DS056937;BMG_DS079971"
        ],
        [
         "13",
         "BMG_PT046572;BMG_PT101066;BMG_PT104075;BMG_PT123482",
         "BMG_DS056939"
        ],
        [
         "14",
         "BMG_PT079695;BMG_PT104046",
         "BMG_DS056940;BMG_DS080613"
        ],
        [
         "15",
         "BMG_PT042697",
         "BMG_DS080288"
        ],
        [
         "16",
         "BMG_PT038852",
         "BMG_DS055126"
        ],
        [
         "17",
         "BMG_PT077445;BMG_PT107029;BMG_PT155475",
         "BMG_DS009983;BMG_DS080097"
        ],
        [
         "18",
         "BMG_PT039740",
         "BMG_DS080310"
        ],
        [
         "20",
         "BMG_PT037120;BMG_PT042020;BMG_PT042407;BMG_PT054722;BMG_PT101231;BMG_PT101483;BMG_PT101518;BMG_PT102952;BMG_PT145647;BMG_PT158713;BMG_PT158744;BMG_PT158757;BMG_PT158779;BMG_PT158784;BMG_PT158871;BMG_PT158950;BMG_PT158961;BMG_PT159032;BMG_PT159056;BMG_PT162737",
         "BMG_DS040870"
        ],
        [
         "21",
         "BMG_PT033538",
         "BMG_DS040870"
        ],
        [
         "22",
         "BMG_PT091902",
         "BMG_DS039290"
        ],
        [
         "23",
         "BMG_PT040007",
         "BMG_DS039445"
        ],
        [
         "24",
         "BMG_PT041338;BMG_PT139601;BMG_PT140224",
         "BMG_DS056941"
        ],
        [
         "25",
         "BMG_PT075415",
         "BMG_DS041300"
        ],
        [
         "26",
         "BMG_PT081980",
         "BMG_DS072478"
        ],
        [
         "27",
         "BMG_PT068914;BMG_PT129696",
         "BMG_DS056815;BMG_DS056816;BMG_DS056942"
        ],
        [
         "28",
         "BMG_PT074376;BMG_PT160971",
         "BMG_DS060164"
        ],
        [
         "29",
         "BMG_PT039493;BMG_PT121547",
         "BMG_DS060165"
        ],
        [
         "30",
         "BMG_PT089255",
         "BMG_DS056943"
        ],
        [
         "31",
         "BMG_PT069715;BMG_PT161066;BMG_PT166683;BMG_PT166719",
         "BMG_DS040230"
        ],
        [
         "32",
         "BMG_PT076861",
         "BMG_DS041812"
        ],
        [
         "33",
         "BMG_PT039173",
         "BMG_DS019840"
        ],
        [
         "34",
         "BMG_PT041924;BMG_PT170937;BMG_PT170939;BMG_PT170964",
         "BMG_DS060163"
        ],
        [
         "35",
         "BMG_PT041495",
         "BMG_DS072035"
        ],
        [
         "36",
         "BMG_PT040547;BMG_PT172924;BMG_PT172927",
         "BMG_DS017972;BMG_DS037716"
        ],
        [
         "37",
         "BMG_PT044364;BMG_PT143316",
         "BMG_DS017972;BMG_DS037716"
        ],
        [
         "38",
         "BMG_PT037789",
         "BMG_DS060162;BMG_DS080699"
        ],
        [
         "39",
         "BMG_PT091980",
         "BMG_DS060161"
        ],
        [
         "40",
         "BMG_PT039684;BMG_PT118772",
         "BMG_DS021944"
        ],
        [
         "41",
         "BMG_PT042434;BMG_PT163042;BMG_PT163248;BMG_PT163663",
         "BMG_DS065262"
        ],
        [
         "42",
         "BMG_PT071374",
         "BMG_DS001454"
        ],
        [
         "43",
         "BMG_PT037602",
         "BMG_DS033635"
        ],
        [
         "44",
         "BMG_PT030257;BMG_PT037905",
         "BMG_DS040872"
        ],
        [
         "45",
         "BMG_PT039481;BMG_PT101838;BMG_PT115299",
         "BMG_DS029685"
        ],
        [
         "46",
         "BMG_PT038352",
         "BMG_DS060160"
        ],
        [
         "47",
         "BMG_PT087455;BMG_PT102131",
         "BMG_DS056944"
        ],
        [
         "49",
         "BMG_PT039230",
         "BMG_DS038407"
        ],
        [
         "50",
         "BMG_PT046899",
         "BMG_DS056947"
        ],
        [
         "51",
         "BMG_PT075456",
         "BMG_DS056945"
        ],
        [
         "52",
         "BMG_PT092606;BMG_PT164542;BMG_PT165536;BMG_PT165727",
         "BMG_DS056946"
        ]
       ],
       "shape": {
        "columns": 2,
        "rows": 7184
       }
      },
      "text/html": [
       "<div>\n",
       "<style scoped>\n",
       "    .dataframe tbody tr th:only-of-type {\n",
       "        vertical-align: middle;\n",
       "    }\n",
       "\n",
       "    .dataframe tbody tr th {\n",
       "        vertical-align: top;\n",
       "    }\n",
       "\n",
       "    .dataframe thead th {\n",
       "        text-align: right;\n",
       "    }\n",
       "</style>\n",
       "<table border=\"1\" class=\"dataframe\">\n",
       "  <thead>\n",
       "    <tr style=\"text-align: right;\">\n",
       "      <th></th>\n",
       "      <th>From_ID</th>\n",
       "      <th>To_ID</th>\n",
       "    </tr>\n",
       "  </thead>\n",
       "  <tbody>\n",
       "    <tr>\n",
       "      <th>0</th>\n",
       "      <td>BMG_PT088456</td>\n",
       "      <td>BMG_DS040360</td>\n",
       "    </tr>\n",
       "    <tr>\n",
       "      <th>1</th>\n",
       "      <td>BMG_PT094497;BMG_PT108327;BMG_PT145971</td>\n",
       "      <td>BMG_DS056872</td>\n",
       "    </tr>\n",
       "    <tr>\n",
       "      <th>2</th>\n",
       "      <td>BMG_PT078492;BMG_PT131086</td>\n",
       "      <td>BMG_DS065541</td>\n",
       "    </tr>\n",
       "    <tr>\n",
       "      <th>3</th>\n",
       "      <td>BMG_PT073254</td>\n",
       "      <td>BMG_DS060167</td>\n",
       "    </tr>\n",
       "    <tr>\n",
       "      <th>4</th>\n",
       "      <td>BMG_PT040769</td>\n",
       "      <td>BMG_DS056936;BMG_DS080612</td>\n",
       "    </tr>\n",
       "    <tr>\n",
       "      <th>...</th>\n",
       "      <td>...</td>\n",
       "      <td>...</td>\n",
       "    </tr>\n",
       "    <tr>\n",
       "      <th>7478</th>\n",
       "      <td>BMG_PT040734</td>\n",
       "      <td>BMG_DS072485</td>\n",
       "    </tr>\n",
       "    <tr>\n",
       "      <th>7479</th>\n",
       "      <td>BMG_PT039160;BMG_PT101364;BMG_PT117859;BMG_PT1...</td>\n",
       "      <td>BMG_DS065281</td>\n",
       "    </tr>\n",
       "    <tr>\n",
       "      <th>7480</th>\n",
       "      <td>BMG_PT042652;BMG_PT165800;BMG_PT167291</td>\n",
       "      <td>BMG_DS065281</td>\n",
       "    </tr>\n",
       "    <tr>\n",
       "      <th>7481</th>\n",
       "      <td>BMG_PT042959</td>\n",
       "      <td>BMG_DS065281</td>\n",
       "    </tr>\n",
       "    <tr>\n",
       "      <th>7482</th>\n",
       "      <td>BMG_PT058218;BMG_PT152858</td>\n",
       "      <td>BMG_DS040546</td>\n",
       "    </tr>\n",
       "  </tbody>\n",
       "</table>\n",
       "<p>7184 rows × 2 columns</p>\n",
       "</div>"
      ],
      "text/plain": [
       "                                                From_ID  \\\n",
       "0                                          BMG_PT088456   \n",
       "1                BMG_PT094497;BMG_PT108327;BMG_PT145971   \n",
       "2                             BMG_PT078492;BMG_PT131086   \n",
       "3                                          BMG_PT073254   \n",
       "4                                          BMG_PT040769   \n",
       "...                                                 ...   \n",
       "7478                                       BMG_PT040734   \n",
       "7479  BMG_PT039160;BMG_PT101364;BMG_PT117859;BMG_PT1...   \n",
       "7480             BMG_PT042652;BMG_PT165800;BMG_PT167291   \n",
       "7481                                       BMG_PT042959   \n",
       "7482                          BMG_PT058218;BMG_PT152858   \n",
       "\n",
       "                          To_ID  \n",
       "0                  BMG_DS040360  \n",
       "1                  BMG_DS056872  \n",
       "2                  BMG_DS065541  \n",
       "3                  BMG_DS060167  \n",
       "4     BMG_DS056936;BMG_DS080612  \n",
       "...                         ...  \n",
       "7478               BMG_DS072485  \n",
       "7479               BMG_DS065281  \n",
       "7480               BMG_DS065281  \n",
       "7481               BMG_DS065281  \n",
       "7482               BMG_DS040546  \n",
       "\n",
       "[7184 rows x 2 columns]"
      ]
     },
     "execution_count": 21,
     "metadata": {},
     "output_type": "execute_result"
    }
   ],
   "source": [
    "hpo_protein_disease = df_hpo_omim[['From_ID', 'To_ID']]\n",
    "hpo_protein_disease.dropna(subset=['From_ID'], inplace=True)\n",
    "hpo_protein_disease.dropna(subset=['To_ID'], inplace=True)\n",
    "hpo_protein_disease"
   ]
  },
  {
   "cell_type": "code",
   "execution_count": 22,
   "metadata": {},
   "outputs": [
    {
     "name": "stderr",
     "output_type": "stream",
     "text": [
      "C:\\Users\\shunn\\AppData\\Local\\Temp\\ipykernel_40452\\1891485321.py:1: SettingWithCopyWarning: \n",
      "A value is trying to be set on a copy of a slice from a DataFrame.\n",
      "Try using .loc[row_indexer,col_indexer] = value instead\n",
      "\n",
      "See the caveats in the documentation: https://pandas.pydata.org/pandas-docs/stable/user_guide/indexing.html#returning-a-view-versus-a-copy\n",
      "  hpo_protein_disease['From_ID'] = hpo_protein_disease['From_ID'].str.split(';')\n",
      "C:\\Users\\shunn\\AppData\\Local\\Temp\\ipykernel_40452\\1891485321.py:2: SettingWithCopyWarning: \n",
      "A value is trying to be set on a copy of a slice from a DataFrame.\n",
      "Try using .loc[row_indexer,col_indexer] = value instead\n",
      "\n",
      "See the caveats in the documentation: https://pandas.pydata.org/pandas-docs/stable/user_guide/indexing.html#returning-a-view-versus-a-copy\n",
      "  hpo_protein_disease['To_ID'] = hpo_protein_disease['To_ID'].str.split(';')\n"
     ]
    },
    {
     "data": {
      "application/vnd.microsoft.datawrangler.viewer.v0+json": {
       "columns": [
        {
         "name": "index",
         "rawType": "int64",
         "type": "integer"
        },
        {
         "name": "From_ID",
         "rawType": "object",
         "type": "string"
        },
        {
         "name": "To_ID",
         "rawType": "object",
         "type": "string"
        }
       ],
       "conversionMethod": "pd.DataFrame",
       "ref": "cab0851a-2c19-42fb-bf7c-b8cb3dec5e00",
       "rows": [
        [
         "0",
         "BMG_PT088456",
         "BMG_DS040360"
        ],
        [
         "1",
         "BMG_PT094497",
         "BMG_DS056872"
        ],
        [
         "1",
         "BMG_PT108327",
         "BMG_DS056872"
        ],
        [
         "1",
         "BMG_PT145971",
         "BMG_DS056872"
        ],
        [
         "2",
         "BMG_PT078492",
         "BMG_DS065541"
        ],
        [
         "2",
         "BMG_PT131086",
         "BMG_DS065541"
        ],
        [
         "3",
         "BMG_PT073254",
         "BMG_DS060167"
        ],
        [
         "4",
         "BMG_PT040769",
         "BMG_DS056936"
        ],
        [
         "4",
         "BMG_PT040769",
         "BMG_DS080612"
        ],
        [
         "5",
         "BMG_PT038844",
         "BMG_DS056829"
        ],
        [
         "6",
         "BMG_PT086761",
         "BMG_DS060168"
        ],
        [
         "6",
         "BMG_PT164631",
         "BMG_DS060168"
        ],
        [
         "7",
         "BMG_PT083385",
         "BMG_DS065540"
        ],
        [
         "7",
         "BMG_PT083385",
         "BMG_DS080773"
        ],
        [
         "7",
         "BMG_PT165997",
         "BMG_DS065540"
        ],
        [
         "7",
         "BMG_PT165997",
         "BMG_DS080773"
        ],
        [
         "7",
         "BMG_PT166500",
         "BMG_DS065540"
        ],
        [
         "7",
         "BMG_PT166500",
         "BMG_DS080773"
        ],
        [
         "7",
         "BMG_PT167226",
         "BMG_DS065540"
        ],
        [
         "7",
         "BMG_PT167226",
         "BMG_DS080773"
        ],
        [
         "8",
         "BMG_PT041918",
         "BMG_DS065543"
        ],
        [
         "9",
         "BMG_PT062366",
         "BMG_DS065542"
        ],
        [
         "11",
         "BMG_PT057102",
         "BMG_DS060166"
        ],
        [
         "12",
         "BMG_PT059595",
         "BMG_DS056937"
        ],
        [
         "12",
         "BMG_PT059595",
         "BMG_DS079971"
        ],
        [
         "12",
         "BMG_PT105547",
         "BMG_DS056937"
        ],
        [
         "12",
         "BMG_PT105547",
         "BMG_DS079971"
        ],
        [
         "13",
         "BMG_PT046572",
         "BMG_DS056939"
        ],
        [
         "13",
         "BMG_PT101066",
         "BMG_DS056939"
        ],
        [
         "13",
         "BMG_PT104075",
         "BMG_DS056939"
        ],
        [
         "13",
         "BMG_PT123482",
         "BMG_DS056939"
        ],
        [
         "14",
         "BMG_PT079695",
         "BMG_DS056940"
        ],
        [
         "14",
         "BMG_PT079695",
         "BMG_DS080613"
        ],
        [
         "14",
         "BMG_PT104046",
         "BMG_DS056940"
        ],
        [
         "14",
         "BMG_PT104046",
         "BMG_DS080613"
        ],
        [
         "15",
         "BMG_PT042697",
         "BMG_DS080288"
        ],
        [
         "16",
         "BMG_PT038852",
         "BMG_DS055126"
        ],
        [
         "17",
         "BMG_PT077445",
         "BMG_DS009983"
        ],
        [
         "17",
         "BMG_PT077445",
         "BMG_DS080097"
        ],
        [
         "17",
         "BMG_PT107029",
         "BMG_DS009983"
        ],
        [
         "17",
         "BMG_PT107029",
         "BMG_DS080097"
        ],
        [
         "17",
         "BMG_PT155475",
         "BMG_DS009983"
        ],
        [
         "17",
         "BMG_PT155475",
         "BMG_DS080097"
        ],
        [
         "18",
         "BMG_PT039740",
         "BMG_DS080310"
        ],
        [
         "20",
         "BMG_PT037120",
         "BMG_DS040870"
        ],
        [
         "20",
         "BMG_PT042020",
         "BMG_DS040870"
        ],
        [
         "20",
         "BMG_PT042407",
         "BMG_DS040870"
        ],
        [
         "20",
         "BMG_PT054722",
         "BMG_DS040870"
        ],
        [
         "20",
         "BMG_PT101231",
         "BMG_DS040870"
        ],
        [
         "20",
         "BMG_PT101483",
         "BMG_DS040870"
        ]
       ],
       "shape": {
        "columns": 2,
        "rows": 15444
       }
      },
      "text/html": [
       "<div>\n",
       "<style scoped>\n",
       "    .dataframe tbody tr th:only-of-type {\n",
       "        vertical-align: middle;\n",
       "    }\n",
       "\n",
       "    .dataframe tbody tr th {\n",
       "        vertical-align: top;\n",
       "    }\n",
       "\n",
       "    .dataframe thead th {\n",
       "        text-align: right;\n",
       "    }\n",
       "</style>\n",
       "<table border=\"1\" class=\"dataframe\">\n",
       "  <thead>\n",
       "    <tr style=\"text-align: right;\">\n",
       "      <th></th>\n",
       "      <th>From_ID</th>\n",
       "      <th>To_ID</th>\n",
       "    </tr>\n",
       "  </thead>\n",
       "  <tbody>\n",
       "    <tr>\n",
       "      <th>0</th>\n",
       "      <td>BMG_PT088456</td>\n",
       "      <td>BMG_DS040360</td>\n",
       "    </tr>\n",
       "    <tr>\n",
       "      <th>1</th>\n",
       "      <td>BMG_PT094497</td>\n",
       "      <td>BMG_DS056872</td>\n",
       "    </tr>\n",
       "    <tr>\n",
       "      <th>1</th>\n",
       "      <td>BMG_PT108327</td>\n",
       "      <td>BMG_DS056872</td>\n",
       "    </tr>\n",
       "    <tr>\n",
       "      <th>1</th>\n",
       "      <td>BMG_PT145971</td>\n",
       "      <td>BMG_DS056872</td>\n",
       "    </tr>\n",
       "    <tr>\n",
       "      <th>2</th>\n",
       "      <td>BMG_PT078492</td>\n",
       "      <td>BMG_DS065541</td>\n",
       "    </tr>\n",
       "    <tr>\n",
       "      <th>...</th>\n",
       "      <td>...</td>\n",
       "      <td>...</td>\n",
       "    </tr>\n",
       "    <tr>\n",
       "      <th>7480</th>\n",
       "      <td>BMG_PT165800</td>\n",
       "      <td>BMG_DS065281</td>\n",
       "    </tr>\n",
       "    <tr>\n",
       "      <th>7480</th>\n",
       "      <td>BMG_PT167291</td>\n",
       "      <td>BMG_DS065281</td>\n",
       "    </tr>\n",
       "    <tr>\n",
       "      <th>7481</th>\n",
       "      <td>BMG_PT042959</td>\n",
       "      <td>BMG_DS065281</td>\n",
       "    </tr>\n",
       "    <tr>\n",
       "      <th>7482</th>\n",
       "      <td>BMG_PT058218</td>\n",
       "      <td>BMG_DS040546</td>\n",
       "    </tr>\n",
       "    <tr>\n",
       "      <th>7482</th>\n",
       "      <td>BMG_PT152858</td>\n",
       "      <td>BMG_DS040546</td>\n",
       "    </tr>\n",
       "  </tbody>\n",
       "</table>\n",
       "<p>15444 rows × 2 columns</p>\n",
       "</div>"
      ],
      "text/plain": [
       "           From_ID         To_ID\n",
       "0     BMG_PT088456  BMG_DS040360\n",
       "1     BMG_PT094497  BMG_DS056872\n",
       "1     BMG_PT108327  BMG_DS056872\n",
       "1     BMG_PT145971  BMG_DS056872\n",
       "2     BMG_PT078492  BMG_DS065541\n",
       "...            ...           ...\n",
       "7480  BMG_PT165800  BMG_DS065281\n",
       "7480  BMG_PT167291  BMG_DS065281\n",
       "7481  BMG_PT042959  BMG_DS065281\n",
       "7482  BMG_PT058218  BMG_DS040546\n",
       "7482  BMG_PT152858  BMG_DS040546\n",
       "\n",
       "[15444 rows x 2 columns]"
      ]
     },
     "execution_count": 22,
     "metadata": {},
     "output_type": "execute_result"
    }
   ],
   "source": [
    "hpo_protein_disease['From_ID'] = hpo_protein_disease['From_ID'].str.split(';')\n",
    "hpo_protein_disease['To_ID'] = hpo_protein_disease['To_ID'].str.split(';')\n",
    "\n",
    "hpo_protein_disease = hpo_protein_disease.explode('From_ID')\n",
    "hpo_protein_disease = hpo_protein_disease.explode('To_ID')\n",
    "hpo_protein_disease.drop_duplicates(inplace=True)\n",
    "hpo_protein_disease"
   ]
  },
  {
   "cell_type": "markdown",
   "metadata": {},
   "source": [
    "### DisGeNet Mapping"
   ]
  },
  {
   "cell_type": "markdown",
   "metadata": {},
   "source": [
    "UMLS ID"
   ]
  },
  {
   "cell_type": "code",
   "execution_count": 23,
   "metadata": {},
   "outputs": [
    {
     "name": "stderr",
     "output_type": "stream",
     "text": [
      "C:\\Users\\shunn\\AppData\\Local\\Temp\\ipykernel_40452\\3107358317.py:2: SettingWithCopyWarning: \n",
      "A value is trying to be set on a copy of a slice from a DataFrame\n",
      "\n",
      "See the caveats in the documentation: https://pandas.pydata.org/pandas-docs/stable/user_guide/indexing.html#returning-a-view-versus-a-copy\n",
      "  umls_individual.dropna(subset=['UMLS_ID'], inplace=True)\n"
     ]
    }
   ],
   "source": [
    "umls_individual = biomedgraphica_disease[['UMLS_ID', 'BioMedGraphica_ID']]\n",
    "umls_individual.dropna(subset=['UMLS_ID'], inplace=True)\n",
    "umls_to_individual = umls_individual.groupby('UMLS_ID')['BioMedGraphica_ID'].apply(lambda x: ';'.join(x.dropna().unique())).to_dict()\n",
    "\n",
    "df_disgenet_protein_disease['From_ID'] = df_disgenet_protein_disease['gene_id'].astype(str).map(ncbi_to_individual)\n",
    "df_disgenet_protein_disease['To_ID'] = df_disgenet_protein_disease['umls_code'].map(umls_to_individual)"
   ]
  },
  {
   "cell_type": "code",
   "execution_count": 24,
   "metadata": {},
   "outputs": [
    {
     "name": "stdout",
     "output_type": "stream",
     "text": [
      "<class 'pandas.core.frame.DataFrame'>\n",
      "Index: 70968 entries, 0 to 89413\n",
      "Data columns (total 2 columns):\n",
      " #   Column   Non-Null Count  Dtype \n",
      "---  ------   --------------  ----- \n",
      " 0   From_ID  70968 non-null  object\n",
      " 1   To_ID    70968 non-null  object\n",
      "dtypes: object(2)\n",
      "memory usage: 1.6+ MB\n"
     ]
    },
    {
     "name": "stderr",
     "output_type": "stream",
     "text": [
      "C:\\Users\\shunn\\AppData\\Local\\Temp\\ipykernel_40452\\940461497.py:2: SettingWithCopyWarning: \n",
      "A value is trying to be set on a copy of a slice from a DataFrame\n",
      "\n",
      "See the caveats in the documentation: https://pandas.pydata.org/pandas-docs/stable/user_guide/indexing.html#returning-a-view-versus-a-copy\n",
      "  disgenet_protein_disease.dropna(subset=['From_ID'], inplace=True)\n",
      "C:\\Users\\shunn\\AppData\\Local\\Temp\\ipykernel_40452\\940461497.py:3: SettingWithCopyWarning: \n",
      "A value is trying to be set on a copy of a slice from a DataFrame\n",
      "\n",
      "See the caveats in the documentation: https://pandas.pydata.org/pandas-docs/stable/user_guide/indexing.html#returning-a-view-versus-a-copy\n",
      "  disgenet_protein_disease.dropna(subset=['To_ID'], inplace=True)\n"
     ]
    }
   ],
   "source": [
    "disgenet_protein_disease = df_disgenet_protein_disease[['From_ID', 'To_ID']]\n",
    "disgenet_protein_disease.dropna(subset=['From_ID'], inplace=True)\n",
    "disgenet_protein_disease.dropna(subset=['To_ID'], inplace=True)\n",
    "disgenet_protein_disease.info()"
   ]
  },
  {
   "cell_type": "code",
   "execution_count": 25,
   "metadata": {},
   "outputs": [
    {
     "name": "stderr",
     "output_type": "stream",
     "text": [
      "C:\\Users\\shunn\\AppData\\Local\\Temp\\ipykernel_40452\\830092246.py:1: SettingWithCopyWarning: \n",
      "A value is trying to be set on a copy of a slice from a DataFrame.\n",
      "Try using .loc[row_indexer,col_indexer] = value instead\n",
      "\n",
      "See the caveats in the documentation: https://pandas.pydata.org/pandas-docs/stable/user_guide/indexing.html#returning-a-view-versus-a-copy\n",
      "  disgenet_protein_disease['From_ID'] = disgenet_protein_disease['From_ID'].str.split(';')\n",
      "C:\\Users\\shunn\\AppData\\Local\\Temp\\ipykernel_40452\\830092246.py:2: SettingWithCopyWarning: \n",
      "A value is trying to be set on a copy of a slice from a DataFrame.\n",
      "Try using .loc[row_indexer,col_indexer] = value instead\n",
      "\n",
      "See the caveats in the documentation: https://pandas.pydata.org/pandas-docs/stable/user_guide/indexing.html#returning-a-view-versus-a-copy\n",
      "  disgenet_protein_disease['To_ID'] = disgenet_protein_disease['To_ID'].str.split(';')\n"
     ]
    },
    {
     "data": {
      "application/vnd.microsoft.datawrangler.viewer.v0+json": {
       "columns": [
        {
         "name": "index",
         "rawType": "int64",
         "type": "integer"
        },
        {
         "name": "From_ID",
         "rawType": "object",
         "type": "string"
        },
        {
         "name": "To_ID",
         "rawType": "object",
         "type": "string"
        }
       ],
       "conversionMethod": "pd.DataFrame",
       "ref": "dc5b0ec9-98f6-4a50-bd1d-213cba88a31c",
       "rows": [
        [
         "0",
         "BMG_PT037915",
         "BMG_DS002896"
        ],
        [
         "2",
         "BMG_PT037614",
         "BMG_DS000127"
        ],
        [
         "3",
         "BMG_PT037614",
         "BMG_DS001865"
        ],
        [
         "4",
         "BMG_PT037614",
         "BMG_DS000799"
        ],
        [
         "5",
         "BMG_PT037614",
         "BMG_DS002055"
        ],
        [
         "6",
         "BMG_PT037614",
         "BMG_DS042978"
        ],
        [
         "7",
         "BMG_PT037614",
         "BMG_DS000796"
        ],
        [
         "8",
         "BMG_PT037614",
         "BMG_DS068088"
        ],
        [
         "9",
         "BMG_PT037614",
         "BMG_DS002468"
        ],
        [
         "10",
         "BMG_PT037614",
         "BMG_DS002151"
        ],
        [
         "11",
         "BMG_PT037614",
         "BMG_DS001844"
        ],
        [
         "12",
         "BMG_PT037614",
         "BMG_DS001861"
        ],
        [
         "13",
         "BMG_PT037614",
         "BMG_DS005971"
        ],
        [
         "14",
         "BMG_PT037614",
         "BMG_DS027060"
        ],
        [
         "15",
         "BMG_PT037614",
         "BMG_DS043377"
        ],
        [
         "16",
         "BMG_PT037614",
         "BMG_DS000300"
        ],
        [
         "17",
         "BMG_PT037614",
         "BMG_DS001406"
        ],
        [
         "18",
         "BMG_PT037614",
         "BMG_DS036641"
        ],
        [
         "19",
         "BMG_PT037614",
         "BMG_DS001687"
        ],
        [
         "20",
         "BMG_PT037614",
         "BMG_DS000665"
        ],
        [
         "22",
         "BMG_PT039414",
         "BMG_DS000356"
        ],
        [
         "22",
         "BMG_PT130051",
         "BMG_DS000356"
        ],
        [
         "23",
         "BMG_PT039414",
         "BMG_DS000360"
        ],
        [
         "23",
         "BMG_PT130051",
         "BMG_DS000360"
        ],
        [
         "24",
         "BMG_PT039414",
         "BMG_DS002683"
        ],
        [
         "24",
         "BMG_PT130051",
         "BMG_DS002683"
        ],
        [
         "25",
         "BMG_PT039414",
         "BMG_DS002421"
        ],
        [
         "25",
         "BMG_PT130051",
         "BMG_DS002421"
        ],
        [
         "26",
         "BMG_PT039414",
         "BMG_DS018896"
        ],
        [
         "26",
         "BMG_PT130051",
         "BMG_DS018896"
        ],
        [
         "28",
         "BMG_PT039414",
         "BMG_DS000055"
        ],
        [
         "28",
         "BMG_PT130051",
         "BMG_DS000055"
        ],
        [
         "29",
         "BMG_PT039414",
         "BMG_DS000486"
        ],
        [
         "29",
         "BMG_PT130051",
         "BMG_DS000486"
        ],
        [
         "30",
         "BMG_PT039414",
         "BMG_DS000104"
        ],
        [
         "30",
         "BMG_PT130051",
         "BMG_DS000104"
        ],
        [
         "31",
         "BMG_PT039414",
         "BMG_DS002204"
        ],
        [
         "31",
         "BMG_PT130051",
         "BMG_DS002204"
        ],
        [
         "32",
         "BMG_PT039414",
         "BMG_DS004413"
        ],
        [
         "32",
         "BMG_PT130051",
         "BMG_DS004413"
        ],
        [
         "33",
         "BMG_PT039414",
         "BMG_DS005760"
        ],
        [
         "33",
         "BMG_PT130051",
         "BMG_DS005760"
        ],
        [
         "34",
         "BMG_PT039414",
         "BMG_DS004409"
        ],
        [
         "34",
         "BMG_PT130051",
         "BMG_DS004409"
        ],
        [
         "35",
         "BMG_PT039414",
         "BMG_DS004410"
        ],
        [
         "35",
         "BMG_PT130051",
         "BMG_DS004410"
        ],
        [
         "36",
         "BMG_PT039414",
         "BMG_DS004411"
        ],
        [
         "36",
         "BMG_PT130051",
         "BMG_DS004411"
        ],
        [
         "37",
         "BMG_PT038896",
         "BMG_DS000360"
        ],
        [
         "38",
         "BMG_PT038896",
         "BMG_DS002683"
        ]
       ],
       "shape": {
        "columns": 2,
        "rows": 129750
       }
      },
      "text/html": [
       "<div>\n",
       "<style scoped>\n",
       "    .dataframe tbody tr th:only-of-type {\n",
       "        vertical-align: middle;\n",
       "    }\n",
       "\n",
       "    .dataframe tbody tr th {\n",
       "        vertical-align: top;\n",
       "    }\n",
       "\n",
       "    .dataframe thead th {\n",
       "        text-align: right;\n",
       "    }\n",
       "</style>\n",
       "<table border=\"1\" class=\"dataframe\">\n",
       "  <thead>\n",
       "    <tr style=\"text-align: right;\">\n",
       "      <th></th>\n",
       "      <th>From_ID</th>\n",
       "      <th>To_ID</th>\n",
       "    </tr>\n",
       "  </thead>\n",
       "  <tbody>\n",
       "    <tr>\n",
       "      <th>0</th>\n",
       "      <td>BMG_PT037915</td>\n",
       "      <td>BMG_DS002896</td>\n",
       "    </tr>\n",
       "    <tr>\n",
       "      <th>2</th>\n",
       "      <td>BMG_PT037614</td>\n",
       "      <td>BMG_DS000127</td>\n",
       "    </tr>\n",
       "    <tr>\n",
       "      <th>3</th>\n",
       "      <td>BMG_PT037614</td>\n",
       "      <td>BMG_DS001865</td>\n",
       "    </tr>\n",
       "    <tr>\n",
       "      <th>4</th>\n",
       "      <td>BMG_PT037614</td>\n",
       "      <td>BMG_DS000799</td>\n",
       "    </tr>\n",
       "    <tr>\n",
       "      <th>5</th>\n",
       "      <td>BMG_PT037614</td>\n",
       "      <td>BMG_DS002055</td>\n",
       "    </tr>\n",
       "    <tr>\n",
       "      <th>...</th>\n",
       "      <td>...</td>\n",
       "      <td>...</td>\n",
       "    </tr>\n",
       "    <tr>\n",
       "      <th>89409</th>\n",
       "      <td>BMG_PT157454</td>\n",
       "      <td>BMG_DS040210</td>\n",
       "    </tr>\n",
       "    <tr>\n",
       "      <th>89410</th>\n",
       "      <td>BMG_PT157454</td>\n",
       "      <td>BMG_DS029621</td>\n",
       "    </tr>\n",
       "    <tr>\n",
       "      <th>89411</th>\n",
       "      <td>BMG_PT172849</td>\n",
       "      <td>BMG_DS028298</td>\n",
       "    </tr>\n",
       "    <tr>\n",
       "      <th>89412</th>\n",
       "      <td>BMG_PT172849</td>\n",
       "      <td>BMG_DS040210</td>\n",
       "    </tr>\n",
       "    <tr>\n",
       "      <th>89413</th>\n",
       "      <td>BMG_PT172849</td>\n",
       "      <td>BMG_DS029621</td>\n",
       "    </tr>\n",
       "  </tbody>\n",
       "</table>\n",
       "<p>129750 rows × 2 columns</p>\n",
       "</div>"
      ],
      "text/plain": [
       "            From_ID         To_ID\n",
       "0      BMG_PT037915  BMG_DS002896\n",
       "2      BMG_PT037614  BMG_DS000127\n",
       "3      BMG_PT037614  BMG_DS001865\n",
       "4      BMG_PT037614  BMG_DS000799\n",
       "5      BMG_PT037614  BMG_DS002055\n",
       "...             ...           ...\n",
       "89409  BMG_PT157454  BMG_DS040210\n",
       "89410  BMG_PT157454  BMG_DS029621\n",
       "89411  BMG_PT172849  BMG_DS028298\n",
       "89412  BMG_PT172849  BMG_DS040210\n",
       "89413  BMG_PT172849  BMG_DS029621\n",
       "\n",
       "[129750 rows x 2 columns]"
      ]
     },
     "execution_count": 25,
     "metadata": {},
     "output_type": "execute_result"
    }
   ],
   "source": [
    "disgenet_protein_disease['From_ID'] = disgenet_protein_disease['From_ID'].str.split(';')\n",
    "disgenet_protein_disease['To_ID'] = disgenet_protein_disease['To_ID'].str.split(';')\n",
    "\n",
    "disgenet_protein_disease = disgenet_protein_disease.explode('From_ID')\n",
    "disgenet_protein_disease = disgenet_protein_disease.explode('To_ID')\n",
    "disgenet_protein_disease.drop_duplicates(inplace=True)\n",
    "\n",
    "disgenet_protein_disease"
   ]
  },
  {
   "cell_type": "markdown",
   "metadata": {},
   "source": [
    "### Protein-Disease Relation"
   ]
  },
  {
   "cell_type": "code",
   "execution_count": 26,
   "metadata": {},
   "outputs": [
    {
     "data": {
      "application/vnd.microsoft.datawrangler.viewer.v0+json": {
       "columns": [
        {
         "name": "index",
         "rawType": "int64",
         "type": "integer"
        },
        {
         "name": "From_ID",
         "rawType": "object",
         "type": "string"
        },
        {
         "name": "To_ID",
         "rawType": "object",
         "type": "string"
        },
        {
         "name": "source1",
         "rawType": "object",
         "type": "unknown"
        },
        {
         "name": "source2",
         "rawType": "object",
         "type": "unknown"
        },
        {
         "name": "source3",
         "rawType": "object",
         "type": "unknown"
        },
        {
         "name": "source4",
         "rawType": "object",
         "type": "unknown"
        }
       ],
       "conversionMethod": "pd.DataFrame",
       "ref": "e96b0640-37d4-4efb-8c10-9ed66254f980",
       "rows": [
        [
         "0",
         "BMG_PT001139",
         "BMG_DS001673",
         null,
         null,
         null,
         "DisGeNet"
        ],
        [
         "1",
         "BMG_PT002497",
         "BMG_DS000490",
         null,
         null,
         null,
         "DisGeNet"
        ],
        [
         "2",
         "BMG_PT002497",
         "BMG_DS000565",
         null,
         null,
         null,
         "DisGeNet"
        ],
        [
         "3",
         "BMG_PT002497",
         "BMG_DS028100",
         null,
         null,
         null,
         "DisGeNet"
        ],
        [
         "4",
         "BMG_PT003590",
         "BMG_DS060265",
         null,
         null,
         null,
         "DisGeNet"
        ],
        [
         "5",
         "BMG_PT003601",
         "BMG_DS001406",
         null,
         null,
         null,
         "DisGeNet"
        ],
        [
         "6",
         "BMG_PT003616",
         "BMG_DS039388",
         null,
         null,
         null,
         "DisGeNet"
        ],
        [
         "7",
         "BMG_PT003616",
         "BMG_DS072461",
         null,
         null,
         null,
         "DisGeNet"
        ],
        [
         "8",
         "BMG_PT003616",
         "BMG_DS072594",
         "Uniprot",
         null,
         "HPO",
         "DisGeNet"
        ],
        [
         "9",
         "BMG_PT003625",
         "BMG_DS001960",
         null,
         null,
         null,
         "DisGeNet"
        ],
        [
         "10",
         "BMG_PT003629",
         "BMG_DS002970",
         null,
         null,
         null,
         "DisGeNet"
        ],
        [
         "11",
         "BMG_PT003629",
         "BMG_DS072482",
         "Uniprot",
         null,
         "HPO",
         "DisGeNet"
        ],
        [
         "12",
         "BMG_PT003683",
         "BMG_DS002818",
         null,
         null,
         null,
         "DisGeNet"
        ],
        [
         "13",
         "BMG_PT003979",
         "BMG_DS002683",
         null,
         null,
         null,
         "DisGeNet"
        ],
        [
         "14",
         "BMG_PT004067",
         "BMG_DS060963",
         null,
         null,
         null,
         "DisGeNet"
        ],
        [
         "15",
         "BMG_PT004067",
         "BMG_DS068410",
         "Uniprot",
         null,
         "HPO",
         "DisGeNet"
        ],
        [
         "16",
         "BMG_PT005333",
         "BMG_DS001844",
         null,
         null,
         null,
         "DisGeNet"
        ],
        [
         "17",
         "BMG_PT007010",
         "BMG_DS005510",
         null,
         null,
         null,
         "DisGeNet"
        ],
        [
         "18",
         "BMG_PT007010",
         "BMG_DS005511",
         null,
         null,
         null,
         "DisGeNet"
        ],
        [
         "19",
         "BMG_PT007010",
         "BMG_DS005512",
         null,
         null,
         null,
         "DisGeNet"
        ],
        [
         "20",
         "BMG_PT007010",
         "BMG_DS021401",
         null,
         null,
         null,
         "DisGeNet"
        ],
        [
         "21",
         "BMG_PT007034",
         "BMG_DS001476",
         null,
         null,
         null,
         "DisGeNet"
        ],
        [
         "22",
         "BMG_PT007034",
         "BMG_DS005712",
         null,
         null,
         null,
         "DisGeNet"
        ],
        [
         "23",
         "BMG_PT007034",
         "BMG_DS071340",
         "Uniprot",
         null,
         "HPO",
         "DisGeNet"
        ],
        [
         "24",
         "BMG_PT007058",
         "BMG_DS000486",
         null,
         null,
         null,
         "DisGeNet"
        ],
        [
         "25",
         "BMG_PT007058",
         "BMG_DS042978",
         null,
         null,
         null,
         "DisGeNet"
        ],
        [
         "26",
         "BMG_PT007096",
         "BMG_DS035574",
         null,
         null,
         null,
         "DisGeNet"
        ],
        [
         "27",
         "BMG_PT007135",
         "BMG_DS005510",
         null,
         null,
         null,
         "DisGeNet"
        ],
        [
         "28",
         "BMG_PT007135",
         "BMG_DS005511",
         null,
         null,
         null,
         "DisGeNet"
        ],
        [
         "29",
         "BMG_PT007135",
         "BMG_DS005512",
         null,
         null,
         null,
         "DisGeNet"
        ],
        [
         "30",
         "BMG_PT007135",
         "BMG_DS021401",
         null,
         null,
         null,
         "DisGeNet"
        ],
        [
         "31",
         "BMG_PT007271",
         "BMG_DS019177",
         null,
         null,
         null,
         "DisGeNet"
        ],
        [
         "32",
         "BMG_PT007271",
         "BMG_DS044164",
         null,
         null,
         null,
         "DisGeNet"
        ],
        [
         "33",
         "BMG_PT007271",
         "BMG_DS054943",
         null,
         null,
         null,
         "DisGeNet"
        ],
        [
         "34",
         "BMG_PT007277",
         "BMG_DS000136",
         null,
         null,
         null,
         "DisGeNet"
        ],
        [
         "35",
         "BMG_PT007277",
         "BMG_DS000898",
         null,
         null,
         null,
         "DisGeNet"
        ],
        [
         "36",
         "BMG_PT007277",
         "BMG_DS001559",
         null,
         null,
         null,
         "DisGeNet"
        ],
        [
         "37",
         "BMG_PT007277",
         "BMG_DS005756",
         null,
         null,
         null,
         "DisGeNet"
        ],
        [
         "38",
         "BMG_PT007277",
         "BMG_DS006209",
         null,
         null,
         null,
         "DisGeNet"
        ],
        [
         "39",
         "BMG_PT007277",
         "BMG_DS006791",
         null,
         null,
         null,
         "DisGeNet"
        ],
        [
         "40",
         "BMG_PT007277",
         "BMG_DS006792",
         null,
         null,
         null,
         "DisGeNet"
        ],
        [
         "41",
         "BMG_PT007277",
         "BMG_DS011627",
         null,
         null,
         null,
         "DisGeNet"
        ],
        [
         "42",
         "BMG_PT007277",
         "BMG_DS011631",
         null,
         null,
         null,
         "DisGeNet"
        ],
        [
         "43",
         "BMG_PT007277",
         "BMG_DS011659",
         null,
         null,
         null,
         "DisGeNet"
        ],
        [
         "44",
         "BMG_PT007277",
         "BMG_DS016683",
         null,
         null,
         null,
         "DisGeNet"
        ],
        [
         "45",
         "BMG_PT007277",
         "BMG_DS016685",
         null,
         null,
         "HPO",
         "DisGeNet"
        ],
        [
         "46",
         "BMG_PT007277",
         "BMG_DS044770",
         null,
         null,
         null,
         "DisGeNet"
        ],
        [
         "47",
         "BMG_PT007277",
         "BMG_DS044771",
         null,
         null,
         null,
         "DisGeNet"
        ],
        [
         "48",
         "BMG_PT007277",
         "BMG_DS058366",
         "Uniprot",
         null,
         "HPO",
         "DisGeNet"
        ],
        [
         "49",
         "BMG_PT007286",
         "BMG_DS039344",
         null,
         null,
         null,
         "DisGeNet"
        ]
       ],
       "shape": {
        "columns": 6,
        "rows": 143394
       }
      },
      "text/html": [
       "<div>\n",
       "<style scoped>\n",
       "    .dataframe tbody tr th:only-of-type {\n",
       "        vertical-align: middle;\n",
       "    }\n",
       "\n",
       "    .dataframe tbody tr th {\n",
       "        vertical-align: top;\n",
       "    }\n",
       "\n",
       "    .dataframe thead th {\n",
       "        text-align: right;\n",
       "    }\n",
       "</style>\n",
       "<table border=\"1\" class=\"dataframe\">\n",
       "  <thead>\n",
       "    <tr style=\"text-align: right;\">\n",
       "      <th></th>\n",
       "      <th>From_ID</th>\n",
       "      <th>To_ID</th>\n",
       "      <th>source1</th>\n",
       "      <th>source2</th>\n",
       "      <th>source3</th>\n",
       "      <th>source4</th>\n",
       "    </tr>\n",
       "  </thead>\n",
       "  <tbody>\n",
       "    <tr>\n",
       "      <th>0</th>\n",
       "      <td>BMG_PT001139</td>\n",
       "      <td>BMG_DS001673</td>\n",
       "      <td>NaN</td>\n",
       "      <td>NaN</td>\n",
       "      <td>NaN</td>\n",
       "      <td>DisGeNet</td>\n",
       "    </tr>\n",
       "    <tr>\n",
       "      <th>1</th>\n",
       "      <td>BMG_PT002497</td>\n",
       "      <td>BMG_DS000490</td>\n",
       "      <td>NaN</td>\n",
       "      <td>NaN</td>\n",
       "      <td>NaN</td>\n",
       "      <td>DisGeNet</td>\n",
       "    </tr>\n",
       "    <tr>\n",
       "      <th>2</th>\n",
       "      <td>BMG_PT002497</td>\n",
       "      <td>BMG_DS000565</td>\n",
       "      <td>NaN</td>\n",
       "      <td>NaN</td>\n",
       "      <td>NaN</td>\n",
       "      <td>DisGeNet</td>\n",
       "    </tr>\n",
       "    <tr>\n",
       "      <th>3</th>\n",
       "      <td>BMG_PT002497</td>\n",
       "      <td>BMG_DS028100</td>\n",
       "      <td>NaN</td>\n",
       "      <td>NaN</td>\n",
       "      <td>NaN</td>\n",
       "      <td>DisGeNet</td>\n",
       "    </tr>\n",
       "    <tr>\n",
       "      <th>4</th>\n",
       "      <td>BMG_PT003590</td>\n",
       "      <td>BMG_DS060265</td>\n",
       "      <td>NaN</td>\n",
       "      <td>NaN</td>\n",
       "      <td>NaN</td>\n",
       "      <td>DisGeNet</td>\n",
       "    </tr>\n",
       "    <tr>\n",
       "      <th>...</th>\n",
       "      <td>...</td>\n",
       "      <td>...</td>\n",
       "      <td>...</td>\n",
       "      <td>...</td>\n",
       "      <td>...</td>\n",
       "      <td>...</td>\n",
       "    </tr>\n",
       "    <tr>\n",
       "      <th>143389</th>\n",
       "      <td>BMG_PT173589</td>\n",
       "      <td>BMG_DS064137</td>\n",
       "      <td>NaN</td>\n",
       "      <td>NaN</td>\n",
       "      <td>HPO</td>\n",
       "      <td>DisGeNet</td>\n",
       "    </tr>\n",
       "    <tr>\n",
       "      <th>143390</th>\n",
       "      <td>BMG_PT173589</td>\n",
       "      <td>BMG_DS065345</td>\n",
       "      <td>NaN</td>\n",
       "      <td>NaN</td>\n",
       "      <td>HPO</td>\n",
       "      <td>DisGeNet</td>\n",
       "    </tr>\n",
       "    <tr>\n",
       "      <th>143391</th>\n",
       "      <td>BMG_PT173595</td>\n",
       "      <td>BMG_DS002896</td>\n",
       "      <td>NaN</td>\n",
       "      <td>NaN</td>\n",
       "      <td>NaN</td>\n",
       "      <td>DisGeNet</td>\n",
       "    </tr>\n",
       "    <tr>\n",
       "      <th>143392</th>\n",
       "      <td>BMG_PT173596</td>\n",
       "      <td>BMG_DS002896</td>\n",
       "      <td>NaN</td>\n",
       "      <td>NaN</td>\n",
       "      <td>NaN</td>\n",
       "      <td>DisGeNet</td>\n",
       "    </tr>\n",
       "    <tr>\n",
       "      <th>143393</th>\n",
       "      <td>BMG_PT173597</td>\n",
       "      <td>BMG_DS000669</td>\n",
       "      <td>NaN</td>\n",
       "      <td>NaN</td>\n",
       "      <td>NaN</td>\n",
       "      <td>DisGeNet</td>\n",
       "    </tr>\n",
       "  </tbody>\n",
       "</table>\n",
       "<p>143394 rows × 6 columns</p>\n",
       "</div>"
      ],
      "text/plain": [
       "             From_ID         To_ID source1 source2 source3   source4\n",
       "0       BMG_PT001139  BMG_DS001673     NaN     NaN     NaN  DisGeNet\n",
       "1       BMG_PT002497  BMG_DS000490     NaN     NaN     NaN  DisGeNet\n",
       "2       BMG_PT002497  BMG_DS000565     NaN     NaN     NaN  DisGeNet\n",
       "3       BMG_PT002497  BMG_DS028100     NaN     NaN     NaN  DisGeNet\n",
       "4       BMG_PT003590  BMG_DS060265     NaN     NaN     NaN  DisGeNet\n",
       "...              ...           ...     ...     ...     ...       ...\n",
       "143389  BMG_PT173589  BMG_DS064137     NaN     NaN     HPO  DisGeNet\n",
       "143390  BMG_PT173589  BMG_DS065345     NaN     NaN     HPO  DisGeNet\n",
       "143391  BMG_PT173595  BMG_DS002896     NaN     NaN     NaN  DisGeNet\n",
       "143392  BMG_PT173596  BMG_DS002896     NaN     NaN     NaN  DisGeNet\n",
       "143393  BMG_PT173597  BMG_DS000669     NaN     NaN     NaN  DisGeNet\n",
       "\n",
       "[143394 rows x 6 columns]"
      ]
     },
     "execution_count": 26,
     "metadata": {},
     "output_type": "execute_result"
    }
   ],
   "source": [
    "uniprot_protein_disease['source1'] = 'Uniprot'\n",
    "diseases_protein_disease['source2'] = 'DISEASES'\n",
    "hpo_protein_disease['source3'] = 'HPO'\n",
    "disgenet_protein_disease['source4'] = 'DisGeNet'\n",
    "\n",
    "protein_disease = pd.merge(uniprot_protein_disease, diseases_protein_disease, on=['From_ID', 'To_ID'], how='outer')\n",
    "protein_disease = pd.merge(protein_disease, hpo_protein_disease, on=['From_ID', 'To_ID'], how='outer')\n",
    "protein_disease = pd.merge(protein_disease, disgenet_protein_disease, on=['From_ID', 'To_ID'], how='outer')\n",
    "protein_disease"
   ]
  },
  {
   "cell_type": "code",
   "execution_count": 27,
   "metadata": {},
   "outputs": [
    {
     "data": {
      "application/vnd.microsoft.datawrangler.viewer.v0+json": {
       "columns": [
        {
         "name": "index",
         "rawType": "int64",
         "type": "integer"
        },
        {
         "name": "From_ID",
         "rawType": "object",
         "type": "string"
        },
        {
         "name": "To_ID",
         "rawType": "object",
         "type": "string"
        },
        {
         "name": "Source",
         "rawType": "object",
         "type": "string"
        }
       ],
       "conversionMethod": "pd.DataFrame",
       "ref": "e7ca9969-5a9b-4603-aa38-b96c7ba648fc",
       "rows": [
        [
         "0",
         "BMG_PT001139",
         "BMG_DS001673",
         "DisGeNet"
        ],
        [
         "1",
         "BMG_PT002497",
         "BMG_DS000490",
         "DisGeNet"
        ],
        [
         "2",
         "BMG_PT002497",
         "BMG_DS000565",
         "DisGeNet"
        ],
        [
         "3",
         "BMG_PT002497",
         "BMG_DS028100",
         "DisGeNet"
        ],
        [
         "4",
         "BMG_PT003590",
         "BMG_DS060265",
         "DisGeNet"
        ],
        [
         "5",
         "BMG_PT003601",
         "BMG_DS001406",
         "DisGeNet"
        ],
        [
         "6",
         "BMG_PT003616",
         "BMG_DS039388",
         "DisGeNet"
        ],
        [
         "7",
         "BMG_PT003616",
         "BMG_DS072461",
         "DisGeNet"
        ],
        [
         "8",
         "BMG_PT003616",
         "BMG_DS072594",
         "HPO;DisGeNet;Uniprot"
        ],
        [
         "9",
         "BMG_PT003625",
         "BMG_DS001960",
         "DisGeNet"
        ],
        [
         "10",
         "BMG_PT003629",
         "BMG_DS002970",
         "DisGeNet"
        ],
        [
         "11",
         "BMG_PT003629",
         "BMG_DS072482",
         "HPO;DisGeNet;Uniprot"
        ],
        [
         "12",
         "BMG_PT003683",
         "BMG_DS002818",
         "DisGeNet"
        ],
        [
         "13",
         "BMG_PT003979",
         "BMG_DS002683",
         "DisGeNet"
        ],
        [
         "14",
         "BMG_PT004067",
         "BMG_DS060963",
         "DisGeNet"
        ],
        [
         "15",
         "BMG_PT004067",
         "BMG_DS068410",
         "HPO;DisGeNet;Uniprot"
        ],
        [
         "16",
         "BMG_PT005333",
         "BMG_DS001844",
         "DisGeNet"
        ],
        [
         "17",
         "BMG_PT007010",
         "BMG_DS005510",
         "DisGeNet"
        ],
        [
         "18",
         "BMG_PT007010",
         "BMG_DS005511",
         "DisGeNet"
        ],
        [
         "19",
         "BMG_PT007010",
         "BMG_DS005512",
         "DisGeNet"
        ],
        [
         "20",
         "BMG_PT007010",
         "BMG_DS021401",
         "DisGeNet"
        ],
        [
         "21",
         "BMG_PT007034",
         "BMG_DS001476",
         "DisGeNet"
        ],
        [
         "22",
         "BMG_PT007034",
         "BMG_DS005712",
         "DisGeNet"
        ],
        [
         "23",
         "BMG_PT007034",
         "BMG_DS071340",
         "HPO;DisGeNet;Uniprot"
        ],
        [
         "24",
         "BMG_PT007058",
         "BMG_DS000486",
         "DisGeNet"
        ],
        [
         "25",
         "BMG_PT007058",
         "BMG_DS042978",
         "DisGeNet"
        ],
        [
         "26",
         "BMG_PT007096",
         "BMG_DS035574",
         "DisGeNet"
        ],
        [
         "27",
         "BMG_PT007135",
         "BMG_DS005510",
         "DisGeNet"
        ],
        [
         "28",
         "BMG_PT007135",
         "BMG_DS005511",
         "DisGeNet"
        ],
        [
         "29",
         "BMG_PT007135",
         "BMG_DS005512",
         "DisGeNet"
        ],
        [
         "30",
         "BMG_PT007135",
         "BMG_DS021401",
         "DisGeNet"
        ],
        [
         "31",
         "BMG_PT007271",
         "BMG_DS019177",
         "DisGeNet"
        ],
        [
         "32",
         "BMG_PT007271",
         "BMG_DS044164",
         "DisGeNet"
        ],
        [
         "33",
         "BMG_PT007271",
         "BMG_DS054943",
         "DisGeNet"
        ],
        [
         "34",
         "BMG_PT007277",
         "BMG_DS000136",
         "DisGeNet"
        ],
        [
         "35",
         "BMG_PT007277",
         "BMG_DS000898",
         "DisGeNet"
        ],
        [
         "36",
         "BMG_PT007277",
         "BMG_DS001559",
         "DisGeNet"
        ],
        [
         "37",
         "BMG_PT007277",
         "BMG_DS005756",
         "DisGeNet"
        ],
        [
         "38",
         "BMG_PT007277",
         "BMG_DS006209",
         "DisGeNet"
        ],
        [
         "39",
         "BMG_PT007277",
         "BMG_DS006791",
         "DisGeNet"
        ],
        [
         "40",
         "BMG_PT007277",
         "BMG_DS006792",
         "DisGeNet"
        ],
        [
         "41",
         "BMG_PT007277",
         "BMG_DS011627",
         "DisGeNet"
        ],
        [
         "42",
         "BMG_PT007277",
         "BMG_DS011631",
         "DisGeNet"
        ],
        [
         "43",
         "BMG_PT007277",
         "BMG_DS011659",
         "DisGeNet"
        ],
        [
         "44",
         "BMG_PT007277",
         "BMG_DS016683",
         "DisGeNet"
        ],
        [
         "45",
         "BMG_PT007277",
         "BMG_DS016685",
         "DisGeNet;HPO"
        ],
        [
         "46",
         "BMG_PT007277",
         "BMG_DS044770",
         "DisGeNet"
        ],
        [
         "47",
         "BMG_PT007277",
         "BMG_DS044771",
         "DisGeNet"
        ],
        [
         "48",
         "BMG_PT007277",
         "BMG_DS058366",
         "HPO;DisGeNet;Uniprot"
        ],
        [
         "49",
         "BMG_PT007286",
         "BMG_DS039344",
         "DisGeNet"
        ]
       ],
       "shape": {
        "columns": 3,
        "rows": 143394
       }
      },
      "text/html": [
       "<div>\n",
       "<style scoped>\n",
       "    .dataframe tbody tr th:only-of-type {\n",
       "        vertical-align: middle;\n",
       "    }\n",
       "\n",
       "    .dataframe tbody tr th {\n",
       "        vertical-align: top;\n",
       "    }\n",
       "\n",
       "    .dataframe thead th {\n",
       "        text-align: right;\n",
       "    }\n",
       "</style>\n",
       "<table border=\"1\" class=\"dataframe\">\n",
       "  <thead>\n",
       "    <tr style=\"text-align: right;\">\n",
       "      <th></th>\n",
       "      <th>From_ID</th>\n",
       "      <th>To_ID</th>\n",
       "      <th>Source</th>\n",
       "    </tr>\n",
       "  </thead>\n",
       "  <tbody>\n",
       "    <tr>\n",
       "      <th>0</th>\n",
       "      <td>BMG_PT001139</td>\n",
       "      <td>BMG_DS001673</td>\n",
       "      <td>DisGeNet</td>\n",
       "    </tr>\n",
       "    <tr>\n",
       "      <th>1</th>\n",
       "      <td>BMG_PT002497</td>\n",
       "      <td>BMG_DS000490</td>\n",
       "      <td>DisGeNet</td>\n",
       "    </tr>\n",
       "    <tr>\n",
       "      <th>2</th>\n",
       "      <td>BMG_PT002497</td>\n",
       "      <td>BMG_DS000565</td>\n",
       "      <td>DisGeNet</td>\n",
       "    </tr>\n",
       "    <tr>\n",
       "      <th>3</th>\n",
       "      <td>BMG_PT002497</td>\n",
       "      <td>BMG_DS028100</td>\n",
       "      <td>DisGeNet</td>\n",
       "    </tr>\n",
       "    <tr>\n",
       "      <th>4</th>\n",
       "      <td>BMG_PT003590</td>\n",
       "      <td>BMG_DS060265</td>\n",
       "      <td>DisGeNet</td>\n",
       "    </tr>\n",
       "    <tr>\n",
       "      <th>...</th>\n",
       "      <td>...</td>\n",
       "      <td>...</td>\n",
       "      <td>...</td>\n",
       "    </tr>\n",
       "    <tr>\n",
       "      <th>143389</th>\n",
       "      <td>BMG_PT173589</td>\n",
       "      <td>BMG_DS064137</td>\n",
       "      <td>DisGeNet;HPO</td>\n",
       "    </tr>\n",
       "    <tr>\n",
       "      <th>143390</th>\n",
       "      <td>BMG_PT173589</td>\n",
       "      <td>BMG_DS065345</td>\n",
       "      <td>DisGeNet;HPO</td>\n",
       "    </tr>\n",
       "    <tr>\n",
       "      <th>143391</th>\n",
       "      <td>BMG_PT173595</td>\n",
       "      <td>BMG_DS002896</td>\n",
       "      <td>DisGeNet</td>\n",
       "    </tr>\n",
       "    <tr>\n",
       "      <th>143392</th>\n",
       "      <td>BMG_PT173596</td>\n",
       "      <td>BMG_DS002896</td>\n",
       "      <td>DisGeNet</td>\n",
       "    </tr>\n",
       "    <tr>\n",
       "      <th>143393</th>\n",
       "      <td>BMG_PT173597</td>\n",
       "      <td>BMG_DS000669</td>\n",
       "      <td>DisGeNet</td>\n",
       "    </tr>\n",
       "  </tbody>\n",
       "</table>\n",
       "<p>143394 rows × 3 columns</p>\n",
       "</div>"
      ],
      "text/plain": [
       "             From_ID         To_ID        Source\n",
       "0       BMG_PT001139  BMG_DS001673      DisGeNet\n",
       "1       BMG_PT002497  BMG_DS000490      DisGeNet\n",
       "2       BMG_PT002497  BMG_DS000565      DisGeNet\n",
       "3       BMG_PT002497  BMG_DS028100      DisGeNet\n",
       "4       BMG_PT003590  BMG_DS060265      DisGeNet\n",
       "...              ...           ...           ...\n",
       "143389  BMG_PT173589  BMG_DS064137  DisGeNet;HPO\n",
       "143390  BMG_PT173589  BMG_DS065345  DisGeNet;HPO\n",
       "143391  BMG_PT173595  BMG_DS002896      DisGeNet\n",
       "143392  BMG_PT173596  BMG_DS002896      DisGeNet\n",
       "143393  BMG_PT173597  BMG_DS000669      DisGeNet\n",
       "\n",
       "[143394 rows x 3 columns]"
      ]
     },
     "execution_count": 27,
     "metadata": {},
     "output_type": "execute_result"
    }
   ],
   "source": [
    "def merge_string_columns(df, columns, merge_name, separator=';'):\n",
    "    def merge_strings(row):\n",
    "        combined = set()\n",
    "        for column in columns:\n",
    "            if pd.notnull(row[column]):\n",
    "                combined.update(row[column].split(separator))\n",
    "        return separator.join(combined)\n",
    "    \n",
    "    # Apply the function to each row and create a new column\n",
    "    combined_column_name = merge_name\n",
    "    df[combined_column_name] = df.apply(merge_strings, axis=1)\n",
    "    df.drop(columns=columns, inplace=True)\n",
    "    \n",
    "    return df\n",
    "\n",
    "protein_disease = merge_string_columns(protein_disease, ['source1', 'source2', 'source3', 'source4'], 'Source')\n",
    "protein_disease"
   ]
  },
  {
   "cell_type": "code",
   "execution_count": 28,
   "metadata": {},
   "outputs": [
    {
     "data": {
      "application/vnd.microsoft.datawrangler.viewer.v0+json": {
       "columns": [
        {
         "name": "index",
         "rawType": "int64",
         "type": "integer"
        },
        {
         "name": "BioMedGraphica_ID",
         "rawType": "object",
         "type": "string"
        },
        {
         "name": "From_ID",
         "rawType": "object",
         "type": "string"
        },
        {
         "name": "To_ID",
         "rawType": "object",
         "type": "string"
        },
        {
         "name": "Source",
         "rawType": "object",
         "type": "string"
        },
        {
         "name": "Type",
         "rawType": "object",
         "type": "string"
        }
       ],
       "conversionMethod": "pd.DataFrame",
       "ref": "8b45e6ce-0da2-4d4d-b174-a8be9aa5199f",
       "rows": [
        [
         "0",
         "BMG_ED_PTDS000001",
         "BMG_PT001139",
         "BMG_DS001673",
         "DisGeNet",
         "Protein-Disease"
        ],
        [
         "1",
         "BMG_ED_PTDS000002",
         "BMG_PT002497",
         "BMG_DS000490",
         "DisGeNet",
         "Protein-Disease"
        ],
        [
         "2",
         "BMG_ED_PTDS000003",
         "BMG_PT002497",
         "BMG_DS000565",
         "DisGeNet",
         "Protein-Disease"
        ],
        [
         "3",
         "BMG_ED_PTDS000004",
         "BMG_PT002497",
         "BMG_DS028100",
         "DisGeNet",
         "Protein-Disease"
        ],
        [
         "4",
         "BMG_ED_PTDS000005",
         "BMG_PT003590",
         "BMG_DS060265",
         "DisGeNet",
         "Protein-Disease"
        ],
        [
         "5",
         "BMG_ED_PTDS000006",
         "BMG_PT003601",
         "BMG_DS001406",
         "DisGeNet",
         "Protein-Disease"
        ],
        [
         "6",
         "BMG_ED_PTDS000007",
         "BMG_PT003616",
         "BMG_DS039388",
         "DisGeNet",
         "Protein-Disease"
        ],
        [
         "7",
         "BMG_ED_PTDS000008",
         "BMG_PT003616",
         "BMG_DS072461",
         "DisGeNet",
         "Protein-Disease"
        ],
        [
         "8",
         "BMG_ED_PTDS000009",
         "BMG_PT003616",
         "BMG_DS072594",
         "HPO;DisGeNet;Uniprot",
         "Protein-Disease"
        ],
        [
         "9",
         "BMG_ED_PTDS000010",
         "BMG_PT003625",
         "BMG_DS001960",
         "DisGeNet",
         "Protein-Disease"
        ],
        [
         "10",
         "BMG_ED_PTDS000011",
         "BMG_PT003629",
         "BMG_DS002970",
         "DisGeNet",
         "Protein-Disease"
        ],
        [
         "11",
         "BMG_ED_PTDS000012",
         "BMG_PT003629",
         "BMG_DS072482",
         "HPO;DisGeNet;Uniprot",
         "Protein-Disease"
        ],
        [
         "12",
         "BMG_ED_PTDS000013",
         "BMG_PT003683",
         "BMG_DS002818",
         "DisGeNet",
         "Protein-Disease"
        ],
        [
         "13",
         "BMG_ED_PTDS000014",
         "BMG_PT003979",
         "BMG_DS002683",
         "DisGeNet",
         "Protein-Disease"
        ],
        [
         "14",
         "BMG_ED_PTDS000015",
         "BMG_PT004067",
         "BMG_DS060963",
         "DisGeNet",
         "Protein-Disease"
        ],
        [
         "15",
         "BMG_ED_PTDS000016",
         "BMG_PT004067",
         "BMG_DS068410",
         "HPO;DisGeNet;Uniprot",
         "Protein-Disease"
        ],
        [
         "16",
         "BMG_ED_PTDS000017",
         "BMG_PT005333",
         "BMG_DS001844",
         "DisGeNet",
         "Protein-Disease"
        ],
        [
         "17",
         "BMG_ED_PTDS000018",
         "BMG_PT007010",
         "BMG_DS005510",
         "DisGeNet",
         "Protein-Disease"
        ],
        [
         "18",
         "BMG_ED_PTDS000019",
         "BMG_PT007010",
         "BMG_DS005511",
         "DisGeNet",
         "Protein-Disease"
        ],
        [
         "19",
         "BMG_ED_PTDS000020",
         "BMG_PT007010",
         "BMG_DS005512",
         "DisGeNet",
         "Protein-Disease"
        ],
        [
         "20",
         "BMG_ED_PTDS000021",
         "BMG_PT007010",
         "BMG_DS021401",
         "DisGeNet",
         "Protein-Disease"
        ],
        [
         "21",
         "BMG_ED_PTDS000022",
         "BMG_PT007034",
         "BMG_DS001476",
         "DisGeNet",
         "Protein-Disease"
        ],
        [
         "22",
         "BMG_ED_PTDS000023",
         "BMG_PT007034",
         "BMG_DS005712",
         "DisGeNet",
         "Protein-Disease"
        ],
        [
         "23",
         "BMG_ED_PTDS000024",
         "BMG_PT007034",
         "BMG_DS071340",
         "HPO;DisGeNet;Uniprot",
         "Protein-Disease"
        ],
        [
         "24",
         "BMG_ED_PTDS000025",
         "BMG_PT007058",
         "BMG_DS000486",
         "DisGeNet",
         "Protein-Disease"
        ],
        [
         "25",
         "BMG_ED_PTDS000026",
         "BMG_PT007058",
         "BMG_DS042978",
         "DisGeNet",
         "Protein-Disease"
        ],
        [
         "26",
         "BMG_ED_PTDS000027",
         "BMG_PT007096",
         "BMG_DS035574",
         "DisGeNet",
         "Protein-Disease"
        ],
        [
         "27",
         "BMG_ED_PTDS000028",
         "BMG_PT007135",
         "BMG_DS005510",
         "DisGeNet",
         "Protein-Disease"
        ],
        [
         "28",
         "BMG_ED_PTDS000029",
         "BMG_PT007135",
         "BMG_DS005511",
         "DisGeNet",
         "Protein-Disease"
        ],
        [
         "29",
         "BMG_ED_PTDS000030",
         "BMG_PT007135",
         "BMG_DS005512",
         "DisGeNet",
         "Protein-Disease"
        ],
        [
         "30",
         "BMG_ED_PTDS000031",
         "BMG_PT007135",
         "BMG_DS021401",
         "DisGeNet",
         "Protein-Disease"
        ],
        [
         "31",
         "BMG_ED_PTDS000032",
         "BMG_PT007271",
         "BMG_DS019177",
         "DisGeNet",
         "Protein-Disease"
        ],
        [
         "32",
         "BMG_ED_PTDS000033",
         "BMG_PT007271",
         "BMG_DS044164",
         "DisGeNet",
         "Protein-Disease"
        ],
        [
         "33",
         "BMG_ED_PTDS000034",
         "BMG_PT007271",
         "BMG_DS054943",
         "DisGeNet",
         "Protein-Disease"
        ],
        [
         "34",
         "BMG_ED_PTDS000035",
         "BMG_PT007277",
         "BMG_DS000136",
         "DisGeNet",
         "Protein-Disease"
        ],
        [
         "35",
         "BMG_ED_PTDS000036",
         "BMG_PT007277",
         "BMG_DS000898",
         "DisGeNet",
         "Protein-Disease"
        ],
        [
         "36",
         "BMG_ED_PTDS000037",
         "BMG_PT007277",
         "BMG_DS001559",
         "DisGeNet",
         "Protein-Disease"
        ],
        [
         "37",
         "BMG_ED_PTDS000038",
         "BMG_PT007277",
         "BMG_DS005756",
         "DisGeNet",
         "Protein-Disease"
        ],
        [
         "38",
         "BMG_ED_PTDS000039",
         "BMG_PT007277",
         "BMG_DS006209",
         "DisGeNet",
         "Protein-Disease"
        ],
        [
         "39",
         "BMG_ED_PTDS000040",
         "BMG_PT007277",
         "BMG_DS006791",
         "DisGeNet",
         "Protein-Disease"
        ],
        [
         "40",
         "BMG_ED_PTDS000041",
         "BMG_PT007277",
         "BMG_DS006792",
         "DisGeNet",
         "Protein-Disease"
        ],
        [
         "41",
         "BMG_ED_PTDS000042",
         "BMG_PT007277",
         "BMG_DS011627",
         "DisGeNet",
         "Protein-Disease"
        ],
        [
         "42",
         "BMG_ED_PTDS000043",
         "BMG_PT007277",
         "BMG_DS011631",
         "DisGeNet",
         "Protein-Disease"
        ],
        [
         "43",
         "BMG_ED_PTDS000044",
         "BMG_PT007277",
         "BMG_DS011659",
         "DisGeNet",
         "Protein-Disease"
        ],
        [
         "44",
         "BMG_ED_PTDS000045",
         "BMG_PT007277",
         "BMG_DS016683",
         "DisGeNet",
         "Protein-Disease"
        ],
        [
         "45",
         "BMG_ED_PTDS000046",
         "BMG_PT007277",
         "BMG_DS016685",
         "DisGeNet;HPO",
         "Protein-Disease"
        ],
        [
         "46",
         "BMG_ED_PTDS000047",
         "BMG_PT007277",
         "BMG_DS044770",
         "DisGeNet",
         "Protein-Disease"
        ],
        [
         "47",
         "BMG_ED_PTDS000048",
         "BMG_PT007277",
         "BMG_DS044771",
         "DisGeNet",
         "Protein-Disease"
        ],
        [
         "48",
         "BMG_ED_PTDS000049",
         "BMG_PT007277",
         "BMG_DS058366",
         "HPO;DisGeNet;Uniprot",
         "Protein-Disease"
        ],
        [
         "49",
         "BMG_ED_PTDS000050",
         "BMG_PT007286",
         "BMG_DS039344",
         "DisGeNet",
         "Protein-Disease"
        ]
       ],
       "shape": {
        "columns": 5,
        "rows": 143394
       }
      },
      "text/html": [
       "<div>\n",
       "<style scoped>\n",
       "    .dataframe tbody tr th:only-of-type {\n",
       "        vertical-align: middle;\n",
       "    }\n",
       "\n",
       "    .dataframe tbody tr th {\n",
       "        vertical-align: top;\n",
       "    }\n",
       "\n",
       "    .dataframe thead th {\n",
       "        text-align: right;\n",
       "    }\n",
       "</style>\n",
       "<table border=\"1\" class=\"dataframe\">\n",
       "  <thead>\n",
       "    <tr style=\"text-align: right;\">\n",
       "      <th></th>\n",
       "      <th>BioMedGraphica_ID</th>\n",
       "      <th>From_ID</th>\n",
       "      <th>To_ID</th>\n",
       "      <th>Source</th>\n",
       "      <th>Type</th>\n",
       "    </tr>\n",
       "  </thead>\n",
       "  <tbody>\n",
       "    <tr>\n",
       "      <th>0</th>\n",
       "      <td>BMG_ED_PTDS000001</td>\n",
       "      <td>BMG_PT001139</td>\n",
       "      <td>BMG_DS001673</td>\n",
       "      <td>DisGeNet</td>\n",
       "      <td>Protein-Disease</td>\n",
       "    </tr>\n",
       "    <tr>\n",
       "      <th>1</th>\n",
       "      <td>BMG_ED_PTDS000002</td>\n",
       "      <td>BMG_PT002497</td>\n",
       "      <td>BMG_DS000490</td>\n",
       "      <td>DisGeNet</td>\n",
       "      <td>Protein-Disease</td>\n",
       "    </tr>\n",
       "    <tr>\n",
       "      <th>2</th>\n",
       "      <td>BMG_ED_PTDS000003</td>\n",
       "      <td>BMG_PT002497</td>\n",
       "      <td>BMG_DS000565</td>\n",
       "      <td>DisGeNet</td>\n",
       "      <td>Protein-Disease</td>\n",
       "    </tr>\n",
       "    <tr>\n",
       "      <th>3</th>\n",
       "      <td>BMG_ED_PTDS000004</td>\n",
       "      <td>BMG_PT002497</td>\n",
       "      <td>BMG_DS028100</td>\n",
       "      <td>DisGeNet</td>\n",
       "      <td>Protein-Disease</td>\n",
       "    </tr>\n",
       "    <tr>\n",
       "      <th>4</th>\n",
       "      <td>BMG_ED_PTDS000005</td>\n",
       "      <td>BMG_PT003590</td>\n",
       "      <td>BMG_DS060265</td>\n",
       "      <td>DisGeNet</td>\n",
       "      <td>Protein-Disease</td>\n",
       "    </tr>\n",
       "    <tr>\n",
       "      <th>...</th>\n",
       "      <td>...</td>\n",
       "      <td>...</td>\n",
       "      <td>...</td>\n",
       "      <td>...</td>\n",
       "      <td>...</td>\n",
       "    </tr>\n",
       "    <tr>\n",
       "      <th>143389</th>\n",
       "      <td>BMG_ED_PTDS143390</td>\n",
       "      <td>BMG_PT173589</td>\n",
       "      <td>BMG_DS064137</td>\n",
       "      <td>DisGeNet;HPO</td>\n",
       "      <td>Protein-Disease</td>\n",
       "    </tr>\n",
       "    <tr>\n",
       "      <th>143390</th>\n",
       "      <td>BMG_ED_PTDS143391</td>\n",
       "      <td>BMG_PT173589</td>\n",
       "      <td>BMG_DS065345</td>\n",
       "      <td>DisGeNet;HPO</td>\n",
       "      <td>Protein-Disease</td>\n",
       "    </tr>\n",
       "    <tr>\n",
       "      <th>143391</th>\n",
       "      <td>BMG_ED_PTDS143392</td>\n",
       "      <td>BMG_PT173595</td>\n",
       "      <td>BMG_DS002896</td>\n",
       "      <td>DisGeNet</td>\n",
       "      <td>Protein-Disease</td>\n",
       "    </tr>\n",
       "    <tr>\n",
       "      <th>143392</th>\n",
       "      <td>BMG_ED_PTDS143393</td>\n",
       "      <td>BMG_PT173596</td>\n",
       "      <td>BMG_DS002896</td>\n",
       "      <td>DisGeNet</td>\n",
       "      <td>Protein-Disease</td>\n",
       "    </tr>\n",
       "    <tr>\n",
       "      <th>143393</th>\n",
       "      <td>BMG_ED_PTDS143394</td>\n",
       "      <td>BMG_PT173597</td>\n",
       "      <td>BMG_DS000669</td>\n",
       "      <td>DisGeNet</td>\n",
       "      <td>Protein-Disease</td>\n",
       "    </tr>\n",
       "  </tbody>\n",
       "</table>\n",
       "<p>143394 rows × 5 columns</p>\n",
       "</div>"
      ],
      "text/plain": [
       "        BioMedGraphica_ID       From_ID         To_ID        Source  \\\n",
       "0       BMG_ED_PTDS000001  BMG_PT001139  BMG_DS001673      DisGeNet   \n",
       "1       BMG_ED_PTDS000002  BMG_PT002497  BMG_DS000490      DisGeNet   \n",
       "2       BMG_ED_PTDS000003  BMG_PT002497  BMG_DS000565      DisGeNet   \n",
       "3       BMG_ED_PTDS000004  BMG_PT002497  BMG_DS028100      DisGeNet   \n",
       "4       BMG_ED_PTDS000005  BMG_PT003590  BMG_DS060265      DisGeNet   \n",
       "...                   ...           ...           ...           ...   \n",
       "143389  BMG_ED_PTDS143390  BMG_PT173589  BMG_DS064137  DisGeNet;HPO   \n",
       "143390  BMG_ED_PTDS143391  BMG_PT173589  BMG_DS065345  DisGeNet;HPO   \n",
       "143391  BMG_ED_PTDS143392  BMG_PT173595  BMG_DS002896      DisGeNet   \n",
       "143392  BMG_ED_PTDS143393  BMG_PT173596  BMG_DS002896      DisGeNet   \n",
       "143393  BMG_ED_PTDS143394  BMG_PT173597  BMG_DS000669      DisGeNet   \n",
       "\n",
       "                   Type  \n",
       "0       Protein-Disease  \n",
       "1       Protein-Disease  \n",
       "2       Protein-Disease  \n",
       "3       Protein-Disease  \n",
       "4       Protein-Disease  \n",
       "...                 ...  \n",
       "143389  Protein-Disease  \n",
       "143390  Protein-Disease  \n",
       "143391  Protein-Disease  \n",
       "143392  Protein-Disease  \n",
       "143393  Protein-Disease  \n",
       "\n",
       "[143394 rows x 5 columns]"
      ]
     },
     "execution_count": 28,
     "metadata": {},
     "output_type": "execute_result"
    }
   ],
   "source": [
    "protein_disease['Type'] = 'Protein-Disease'\n",
    "\n",
    "max_length = len(str(len(protein_disease)))\n",
    "protein_disease['BioMedGraphica_ID'] = ['BMG_ED_PTDS' + str(i).zfill(max_length) for i in range(1, len(protein_disease) + 1)]\n",
    "columns = ['BioMedGraphica_ID'] + [col for col in protein_disease.columns if col != 'BioMedGraphica_ID']  # re-order columns\n",
    "protein_disease = protein_disease[columns]\n",
    "protein_disease"
   ]
  },
  {
   "cell_type": "code",
   "execution_count": 29,
   "metadata": {},
   "outputs": [
    {
     "name": "stdout",
     "output_type": "stream",
     "text": [
      "Data has been saved to D:\\RA\\BMG\\BioMedGraphica\\Relation\\Protein-Disease\\BioMedGraphica_Protein_Disease.csv\n"
     ]
    }
   ],
   "source": [
    "import os\n",
    "from pathlib import Path\n",
    "\n",
    "# get the current working directory\n",
    "current_working_dir = Path(os.getcwd()).resolve()\n",
    "\n",
    "# get the output directory\n",
    "grandparent_dir = current_working_dir.parent.parent.parent\n",
    "\n",
    "target_folder = grandparent_dir / 'BioMedGraphica' / 'Relation' / 'Protein-Disease'\n",
    "if not target_folder.exists():\n",
    "    target_folder.mkdir(parents=True)\n",
    "    print(f\"Folder {target_folder} has been created.\")\n",
    "\n",
    "output_file_path = target_folder / 'BioMedGraphica_Protein_Disease.csv'\n",
    "protein_disease.to_csv(output_file_path, index=False)\n",
    "print(f\"Data has been saved to {output_file_path}\")"
   ]
  }
 ],
 "metadata": {
  "kernelspec": {
   "display_name": "base",
   "language": "python",
   "name": "python3"
  },
  "language_info": {
   "codemirror_mode": {
    "name": "ipython",
    "version": 3
   },
   "file_extension": ".py",
   "mimetype": "text/x-python",
   "name": "python",
   "nbconvert_exporter": "python",
   "pygments_lexer": "ipython3",
   "version": "3.9.19"
  }
 },
 "nbformat": 4,
 "nbformat_minor": 2
}
