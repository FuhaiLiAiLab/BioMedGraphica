{
 "cells": [
  {
   "cell_type": "markdown",
   "metadata": {},
   "source": [
    "### Disbiome"
   ]
  },
  {
   "cell_type": "code",
   "execution_count": 1,
   "metadata": {},
   "outputs": [
    {
     "data": {
      "application/vnd.microsoft.datawrangler.viewer.v0+json": {
       "columns": [
        {
         "name": "index",
         "rawType": "int64",
         "type": "integer"
        },
        {
         "name": "meddra_id",
         "rawType": "object",
         "type": "unknown"
        },
        {
         "name": "organism_ncbi_id",
         "rawType": "object",
         "type": "string"
        }
       ],
       "conversionMethod": "pd.DataFrame",
       "ref": "8fee47cc-2e5e-4c05-9f64-9c8e9c2de193",
       "rows": [
        [
         "0",
         "10080683",
         "1591"
        ],
        [
         "1",
         "10080683",
         "885"
        ],
        [
         "3",
         "10028245",
         "84112"
        ],
        [
         "4",
         "10028245",
         "1308"
        ],
        [
         "5",
         "10028245",
         "853"
        ],
        [
         "6",
         "10028245",
         "649756"
        ],
        [
         "7",
         "10028245",
         "39491"
        ],
        [
         "8",
         "10028245",
         "1506"
        ],
        [
         "9",
         "10028245",
         "46506"
        ],
        [
         "10",
         "10028245",
         "310298"
        ],
        [
         "11",
         "10028245",
         "706562"
        ],
        [
         "12",
         "10028245",
         "28052"
        ],
        [
         "13",
         "10028245",
         "841"
        ],
        [
         "14",
         "10028245",
         "40545"
        ],
        [
         "15",
         "10028245",
         "387090"
        ],
        [
         "16",
         "10028245",
         "41211"
        ],
        [
         "17",
         "10028245",
         "165179"
        ],
        [
         "18",
         "10028245",
         "437897"
        ],
        [
         "19",
         "10011401",
         "853"
        ],
        [
         "20",
         "10011401",
         "33038"
        ],
        [
         "21",
         "10011401",
         "218538"
        ],
        [
         "22",
         "10011401",
         "1680"
        ],
        [
         "26",
         "10011401",
         "33033"
        ],
        [
         "27",
         "10011401",
         "28132"
        ],
        [
         "28",
         "10011401",
         "1261"
        ],
        [
         "29",
         "10011401",
         "1280"
        ],
        [
         "30",
         "10011401",
         "1328"
        ],
        [
         "31",
         "10011401",
         "1309"
        ],
        [
         "32",
         "10011401",
         "827"
        ],
        [
         "33",
         "10011401",
         "824"
        ],
        [
         "37",
         "10011401",
         "1338"
        ],
        [
         "39",
         "10009900",
         "33033"
        ],
        [
         "40",
         "10009900",
         "1261"
        ],
        [
         "41",
         "10009900",
         "1280"
        ],
        [
         "42",
         "10009900",
         "1328"
        ],
        [
         "43",
         "10009900",
         "28037"
        ],
        [
         "44",
         "10023003",
         "41200"
        ],
        [
         "45",
         "10023003",
         "33035"
        ],
        [
         "46",
         "10023003",
         "29465"
        ],
        [
         "47",
         "10023003",
         "29523"
        ],
        [
         "48",
         "10023003",
         "287"
        ],
        [
         "49",
         "10019641",
         "1686"
        ],
        [
         "52",
         "10019641",
         "216816"
        ],
        [
         "54",
         "10019641",
         "1689"
        ],
        [
         "55",
         "10019641",
         "35783"
        ],
        [
         "56",
         "10019641",
         "42895"
        ],
        [
         "57",
         "10019641",
         "41200"
        ],
        [
         "58",
         "10019641",
         "1506"
        ],
        [
         "59",
         "10067585",
         "59823"
        ],
        [
         "60",
         "10067585",
         "841"
        ]
       ],
       "shape": {
        "columns": 2,
        "rows": 8438
       }
      },
      "text/html": [
       "<div>\n",
       "<style scoped>\n",
       "    .dataframe tbody tr th:only-of-type {\n",
       "        vertical-align: middle;\n",
       "    }\n",
       "\n",
       "    .dataframe tbody tr th {\n",
       "        vertical-align: top;\n",
       "    }\n",
       "\n",
       "    .dataframe thead th {\n",
       "        text-align: right;\n",
       "    }\n",
       "</style>\n",
       "<table border=\"1\" class=\"dataframe\">\n",
       "  <thead>\n",
       "    <tr style=\"text-align: right;\">\n",
       "      <th></th>\n",
       "      <th>meddra_id</th>\n",
       "      <th>organism_ncbi_id</th>\n",
       "    </tr>\n",
       "  </thead>\n",
       "  <tbody>\n",
       "    <tr>\n",
       "      <th>0</th>\n",
       "      <td>10080683</td>\n",
       "      <td>1591</td>\n",
       "    </tr>\n",
       "    <tr>\n",
       "      <th>1</th>\n",
       "      <td>10080683</td>\n",
       "      <td>885</td>\n",
       "    </tr>\n",
       "    <tr>\n",
       "      <th>3</th>\n",
       "      <td>10028245</td>\n",
       "      <td>84112</td>\n",
       "    </tr>\n",
       "    <tr>\n",
       "      <th>4</th>\n",
       "      <td>10028245</td>\n",
       "      <td>1308</td>\n",
       "    </tr>\n",
       "    <tr>\n",
       "      <th>5</th>\n",
       "      <td>10028245</td>\n",
       "      <td>853</td>\n",
       "    </tr>\n",
       "    <tr>\n",
       "      <th>...</th>\n",
       "      <td>...</td>\n",
       "      <td>...</td>\n",
       "    </tr>\n",
       "    <tr>\n",
       "      <th>10856</th>\n",
       "      <td>10063024</td>\n",
       "      <td>1506553</td>\n",
       "    </tr>\n",
       "    <tr>\n",
       "      <th>10857</th>\n",
       "      <td>10063024</td>\n",
       "      <td>142586</td>\n",
       "    </tr>\n",
       "    <tr>\n",
       "      <th>10858</th>\n",
       "      <td>10063024</td>\n",
       "      <td>34104</td>\n",
       "    </tr>\n",
       "    <tr>\n",
       "      <th>10863</th>\n",
       "      <td>10063028</td>\n",
       "      <td>1407607</td>\n",
       "    </tr>\n",
       "    <tr>\n",
       "      <th>10865</th>\n",
       "      <td>10063028</td>\n",
       "      <td>29523</td>\n",
       "    </tr>\n",
       "  </tbody>\n",
       "</table>\n",
       "<p>8438 rows × 2 columns</p>\n",
       "</div>"
      ],
      "text/plain": [
       "      meddra_id organism_ncbi_id\n",
       "0      10080683             1591\n",
       "1      10080683              885\n",
       "3      10028245            84112\n",
       "4      10028245             1308\n",
       "5      10028245              853\n",
       "...         ...              ...\n",
       "10856  10063024          1506553\n",
       "10857  10063024           142586\n",
       "10858  10063024            34104\n",
       "10863  10063028          1407607\n",
       "10865  10063028            29523\n",
       "\n",
       "[8438 rows x 2 columns]"
      ]
     },
     "execution_count": 1,
     "metadata": {},
     "output_type": "execute_result"
    }
   ],
   "source": [
    "# Download Link: https://disbiome.ugent.be:8080/experiment\n",
    "# Download Date: 2025-03-21\n",
    "# Download Version: unknown\n",
    "\n",
    "import pandas as pd\n",
    "import json\n",
    "with open('experiment.txt') as f:\n",
    "    # data type is str\n",
    "    data = json.load(f)\n",
    "\n",
    "experiment = pd.DataFrame(data,dtype=str)\n",
    "experiment = experiment[['meddra_id','organism_ncbi_id']].drop_duplicates()\n",
    "experiment['meddra_id'] = experiment['meddra_id'].str.split('.').str[0]\n",
    "experiment['organism_ncbi_id'] = experiment['organism_ncbi_id'].str.split('.').str[0]\n",
    "experiment.dropna(subset=['organism_ncbi_id'], inplace=True)\n",
    "experiment.drop_duplicates()\n",
    "experiment"
   ]
  },
  {
   "cell_type": "markdown",
   "metadata": {},
   "source": [
    "ICD10 to MedDRA"
   ]
  },
  {
   "cell_type": "code",
   "execution_count": 2,
   "metadata": {},
   "outputs": [
    {
     "data": {
      "application/vnd.microsoft.datawrangler.viewer.v0+json": {
       "columns": [
        {
         "name": "index",
         "rawType": "int64",
         "type": "integer"
        },
        {
         "name": "icd10",
         "rawType": "object",
         "type": "string"
        },
        {
         "name": "meddra_id",
         "rawType": "object",
         "type": "string"
        }
       ],
       "conversionMethod": "pd.DataFrame",
       "ref": "cddb6b5f-722d-4ad9-942e-9c54c5e774bd",
       "rows": [
        [
         "1",
         "A00",
         "10008631"
        ],
        [
         "2",
         "A00.0",
         "10080446"
        ],
        [
         "3",
         "A00.1",
         "10008633"
        ],
        [
         "4",
         "A00.9",
         "10008634"
        ],
        [
         "5",
         "A01",
         "10045275"
        ],
        [
         "6",
         "A01.0",
         "10045275"
        ],
        [
         "7",
         "A01.1",
         "10033972"
        ],
        [
         "8",
         "A01.2",
         "10033973"
        ],
        [
         "9",
         "A01.3",
         "10033974"
        ],
        [
         "10",
         "A01.4",
         "10033975"
        ],
        [
         "11",
         "A02",
         "10039447"
        ],
        [
         "12",
         "A02.0",
         "10039433"
        ],
        [
         "13",
         "A02.1",
         "10058878"
        ],
        [
         "14",
         "A02.2",
         "10024782"
        ],
        [
         "15",
         "A02.8",
         "10039447"
        ],
        [
         "16",
         "A02.9",
         "10039437"
        ],
        [
         "17",
         "A03",
         "10040553"
        ],
        [
         "18",
         "A03.0",
         "10040546"
        ],
        [
         "19",
         "A03.1",
         "10040548"
        ],
        [
         "20",
         "A03.2",
         "10039342"
        ],
        [
         "21",
         "A03.3",
         "10040552"
        ],
        [
         "22",
         "A03.8",
         "10040553"
        ],
        [
         "23",
         "A03.9",
         "10040554"
        ],
        [
         "24",
         "A04",
         "10068306"
        ],
        [
         "25",
         "A04.0",
         "10014906"
        ],
        [
         "26",
         "A04.1",
         "10083587"
        ],
        [
         "27",
         "A04.2",
         "10022663"
        ],
        [
         "28",
         "A04.3",
         "10055861"
        ],
        [
         "29",
         "A04.4",
         "10017903"
        ],
        [
         "30",
         "A04.5",
         "10053137"
        ],
        [
         "31",
         "A04.6",
         "10022677"
        ],
        [
         "32",
         "A04.7",
         "10087449"
        ],
        [
         "33",
         "A04.8",
         "10068306"
        ],
        [
         "34",
         "A04.9",
         "10068306"
        ],
        [
         "35",
         "A05",
         "10004022"
        ],
        [
         "36",
         "A05.0",
         "10041921"
        ],
        [
         "37",
         "A05.1",
         "10006041"
        ],
        [
         "38",
         "A05.2",
         "10016953"
        ],
        [
         "39",
         "A05.3",
         "10016955"
        ],
        [
         "40",
         "A05.4",
         "10003976"
        ],
        [
         "41",
         "A05.8",
         "10004022"
        ],
        [
         "42",
         "A05.9",
         "10004022"
        ],
        [
         "43",
         "A06",
         "10001980"
        ],
        [
         "46",
         "A06.2",
         "10057699"
        ],
        [
         "47",
         "A06.3",
         "10086745"
        ],
        [
         "48",
         "A06.4",
         "10001989"
        ],
        [
         "49",
         "A06.5",
         "10001990"
        ],
        [
         "50",
         "A06.6",
         "10001984"
        ],
        [
         "51",
         "A06.7",
         "10001992"
        ],
        [
         "52",
         "A06.8",
         "10001980"
        ]
       ],
       "shape": {
        "columns": 2,
        "rows": 6797
       }
      },
      "text/html": [
       "<div>\n",
       "<style scoped>\n",
       "    .dataframe tbody tr th:only-of-type {\n",
       "        vertical-align: middle;\n",
       "    }\n",
       "\n",
       "    .dataframe tbody tr th {\n",
       "        vertical-align: top;\n",
       "    }\n",
       "\n",
       "    .dataframe thead th {\n",
       "        text-align: right;\n",
       "    }\n",
       "</style>\n",
       "<table border=\"1\" class=\"dataframe\">\n",
       "  <thead>\n",
       "    <tr style=\"text-align: right;\">\n",
       "      <th></th>\n",
       "      <th>icd10</th>\n",
       "      <th>meddra_id</th>\n",
       "    </tr>\n",
       "  </thead>\n",
       "  <tbody>\n",
       "    <tr>\n",
       "      <th>1</th>\n",
       "      <td>A00</td>\n",
       "      <td>10008631</td>\n",
       "    </tr>\n",
       "    <tr>\n",
       "      <th>2</th>\n",
       "      <td>A00.0</td>\n",
       "      <td>10080446</td>\n",
       "    </tr>\n",
       "    <tr>\n",
       "      <th>3</th>\n",
       "      <td>A00.1</td>\n",
       "      <td>10008633</td>\n",
       "    </tr>\n",
       "    <tr>\n",
       "      <th>4</th>\n",
       "      <td>A00.9</td>\n",
       "      <td>10008634</td>\n",
       "    </tr>\n",
       "    <tr>\n",
       "      <th>5</th>\n",
       "      <td>A01</td>\n",
       "      <td>10045275</td>\n",
       "    </tr>\n",
       "    <tr>\n",
       "      <th>...</th>\n",
       "      <td>...</td>\n",
       "      <td>...</td>\n",
       "    </tr>\n",
       "    <tr>\n",
       "      <th>11189</th>\n",
       "      <td>Z99.2</td>\n",
       "      <td>10012347</td>\n",
       "    </tr>\n",
       "    <tr>\n",
       "      <th>11190</th>\n",
       "      <td>Z99.3</td>\n",
       "      <td>10047920</td>\n",
       "    </tr>\n",
       "    <tr>\n",
       "      <th>11191</th>\n",
       "      <td>Z99.4</td>\n",
       "      <td>10053667</td>\n",
       "    </tr>\n",
       "    <tr>\n",
       "      <th>11192</th>\n",
       "      <td>Z99.8</td>\n",
       "      <td>10061102</td>\n",
       "    </tr>\n",
       "    <tr>\n",
       "      <th>11193</th>\n",
       "      <td>Z99.9</td>\n",
       "      <td>10061102</td>\n",
       "    </tr>\n",
       "  </tbody>\n",
       "</table>\n",
       "<p>6797 rows × 2 columns</p>\n",
       "</div>"
      ],
      "text/plain": [
       "0      icd10 meddra_id\n",
       "1        A00  10008631\n",
       "2      A00.0  10080446\n",
       "3      A00.1  10008633\n",
       "4      A00.9  10008634\n",
       "5        A01  10045275\n",
       "...      ...       ...\n",
       "11189  Z99.2  10012347\n",
       "11190  Z99.3  10047920\n",
       "11191  Z99.4  10053667\n",
       "11192  Z99.8  10061102\n",
       "11193  Z99.9  10061102\n",
       "\n",
       "[6797 rows x 2 columns]"
      ]
     },
     "execution_count": 2,
     "metadata": {},
     "output_type": "execute_result"
    }
   ],
   "source": [
    "# Download Link: \n",
    "# Download Date: 2025-03-21\n",
    "# Download Version: unknown\n",
    "\n",
    "import pandas as pd\n",
    "\n",
    "icd10_meddra = pd.read_excel('ICD-10 to MedDRA 27.1 Map - January 2025.xlsx', sheet_name='Codes Only', dtype=str)\n",
    "icd10_meddra.columns = icd10_meddra.iloc[0]\n",
    "icd10_meddra = icd10_meddra[1:]\n",
    "icd10_meddra = icd10_meddra[icd10_meddra['Map Attribute'] == 'Equivalent']\n",
    "icd10_meddra = icd10_meddra[['ICD-10 Code 2019 International Core Version','Mapped MedDRA LLT Code\\nv27.1']]\n",
    "icd10_meddra.rename(columns={'ICD-10 Code 2019 International Core Version':'icd10','Mapped MedDRA LLT Code\\nv27.1':'meddra_id'},inplace=True)\n",
    "icd10_meddra.drop_duplicates(inplace=True)\n",
    "icd10_meddra"
   ]
  },
  {
   "cell_type": "code",
   "execution_count": 3,
   "metadata": {},
   "outputs": [
    {
     "data": {
      "application/vnd.microsoft.datawrangler.viewer.v0+json": {
       "columns": [
        {
         "name": "index",
         "rawType": "int64",
         "type": "integer"
        },
        {
         "name": "meddra_id",
         "rawType": "object",
         "type": "string"
        },
        {
         "name": "icd10",
         "rawType": "object",
         "type": "string"
        }
       ],
       "conversionMethod": "pd.DataFrame",
       "ref": "ef9dce53-973f-4963-94c2-3bde9fbc29eb",
       "rows": [
        [
         "0",
         "10000053",
         "I71.3"
        ],
        [
         "1",
         "10000054",
         "I71.4"
        ],
        [
         "2",
         "10000081",
         "R10.4"
        ],
        [
         "3",
         "10000088",
         "O00.0"
        ],
        [
         "4",
         "10000090",
         "R19.3"
        ],
        [
         "5",
         "10000101",
         "Q79.5"
        ],
        [
         "6",
         "10000119",
         "R19.1"
        ],
        [
         "7",
         "10000133",
         "R19.5"
        ],
        [
         "8",
         "10000145",
         "R73.0"
        ],
        [
         "9",
         "10000148",
         "K04.3"
        ],
        [
         "10",
         "10000151",
         "R25;R25.8"
        ],
        [
         "11",
         "10000159",
         "R63.4"
        ],
        [
         "12",
         "10000167",
         "D69.1"
        ],
        [
         "13",
         "10000170",
         "R29.2"
        ],
        [
         "14",
         "10000180",
         "R09.3"
        ],
        [
         "15",
         "10000188",
         "R63.5"
        ],
        [
         "16",
         "10000199",
         "O62;O62.8;O62.9"
        ],
        [
         "17",
         "10000202",
         "R71"
        ],
        [
         "18",
         "10000203",
         "E16.4"
        ],
        [
         "19",
         "10000206",
         "T80.3"
        ],
        [
         "20",
         "10000208",
         "P55.1"
        ],
        [
         "21",
         "10000210",
         "O05"
        ],
        [
         "22",
         "10000247",
         "K03.1"
        ],
        [
         "23",
         "10000289",
         "N75.1"
        ],
        [
         "24",
         "10000290",
         "O91.1"
        ],
        [
         "25",
         "10000296",
         "H60.0"
        ],
        [
         "26",
         "10000299",
         "K63.0"
        ],
        [
         "27",
         "10000300",
         "K75.0"
        ],
        [
         "28",
         "10000301",
         "J85.2"
        ],
        [
         "29",
         "10000303",
         "J85.3"
        ],
        [
         "30",
         "10000304",
         "N41.2"
        ],
        [
         "31",
         "10000305",
         "K11.3"
        ],
        [
         "32",
         "10000306",
         "E32.1"
        ],
        [
         "33",
         "10000336",
         "Q73.0"
        ],
        [
         "34",
         "10000344",
         "Z55.3"
        ],
        [
         "35",
         "10000350",
         "L83"
        ],
        [
         "36",
         "10000351",
         "B88.0"
        ],
        [
         "37",
         "10000361",
         "Q17.0"
        ],
        [
         "38",
         "10000389",
         "H52.5"
        ],
        [
         "39",
         "10000395",
         "K03.6"
        ],
        [
         "40",
         "10000397",
         "S32.4"
        ],
        [
         "41",
         "10000419",
         "R82.4"
        ],
        [
         "42",
         "10000422",
         "K22.0"
        ],
        [
         "43",
         "10000433",
         "M76.6"
        ],
        [
         "44",
         "10000435",
         "S86.0"
        ],
        [
         "45",
         "10000452",
         "Q77.4"
        ],
        [
         "46",
         "10000483",
         "E87.4"
        ],
        [
         "47",
         "10000486",
         "E87.2"
        ],
        [
         "48",
         "10000496",
         "L70;L70.8;L70.9"
        ],
        [
         "49",
         "10000501",
         "L70.1"
        ]
       ],
       "shape": {
        "columns": 2,
        "rows": 5095
       }
      },
      "text/html": [
       "<div>\n",
       "<style scoped>\n",
       "    .dataframe tbody tr th:only-of-type {\n",
       "        vertical-align: middle;\n",
       "    }\n",
       "\n",
       "    .dataframe tbody tr th {\n",
       "        vertical-align: top;\n",
       "    }\n",
       "\n",
       "    .dataframe thead th {\n",
       "        text-align: right;\n",
       "    }\n",
       "</style>\n",
       "<table border=\"1\" class=\"dataframe\">\n",
       "  <thead>\n",
       "    <tr style=\"text-align: right;\">\n",
       "      <th></th>\n",
       "      <th>meddra_id</th>\n",
       "      <th>icd10</th>\n",
       "    </tr>\n",
       "  </thead>\n",
       "  <tbody>\n",
       "    <tr>\n",
       "      <th>0</th>\n",
       "      <td>10000053</td>\n",
       "      <td>I71.3</td>\n",
       "    </tr>\n",
       "    <tr>\n",
       "      <th>1</th>\n",
       "      <td>10000054</td>\n",
       "      <td>I71.4</td>\n",
       "    </tr>\n",
       "    <tr>\n",
       "      <th>2</th>\n",
       "      <td>10000081</td>\n",
       "      <td>R10.4</td>\n",
       "    </tr>\n",
       "    <tr>\n",
       "      <th>3</th>\n",
       "      <td>10000088</td>\n",
       "      <td>O00.0</td>\n",
       "    </tr>\n",
       "    <tr>\n",
       "      <th>4</th>\n",
       "      <td>10000090</td>\n",
       "      <td>R19.3</td>\n",
       "    </tr>\n",
       "    <tr>\n",
       "      <th>...</th>\n",
       "      <td>...</td>\n",
       "      <td>...</td>\n",
       "    </tr>\n",
       "    <tr>\n",
       "      <th>5090</th>\n",
       "      <td>10089748</td>\n",
       "      <td>A08.3</td>\n",
       "    </tr>\n",
       "    <tr>\n",
       "      <th>5091</th>\n",
       "      <td>10090364</td>\n",
       "      <td>P59.1</td>\n",
       "    </tr>\n",
       "    <tr>\n",
       "      <th>5092</th>\n",
       "      <td>10090623</td>\n",
       "      <td>L40.1</td>\n",
       "    </tr>\n",
       "    <tr>\n",
       "      <th>5093</th>\n",
       "      <td>10090629</td>\n",
       "      <td>C84.7</td>\n",
       "    </tr>\n",
       "    <tr>\n",
       "      <th>5094</th>\n",
       "      <td>10090895</td>\n",
       "      <td>S06.6</td>\n",
       "    </tr>\n",
       "  </tbody>\n",
       "</table>\n",
       "<p>5095 rows × 2 columns</p>\n",
       "</div>"
      ],
      "text/plain": [
       "0    meddra_id  icd10\n",
       "0     10000053  I71.3\n",
       "1     10000054  I71.4\n",
       "2     10000081  R10.4\n",
       "3     10000088  O00.0\n",
       "4     10000090  R19.3\n",
       "...        ...    ...\n",
       "5090  10089748  A08.3\n",
       "5091  10090364  P59.1\n",
       "5092  10090623  L40.1\n",
       "5093  10090629  C84.7\n",
       "5094  10090895  S06.6\n",
       "\n",
       "[5095 rows x 2 columns]"
      ]
     },
     "execution_count": 3,
     "metadata": {},
     "output_type": "execute_result"
    }
   ],
   "source": [
    "meddra_unique = icd10_meddra.groupby('meddra_id').agg({'icd10':lambda x:';'.join(x)}).reset_index()\n",
    "meddra_unique"
   ]
  },
  {
   "cell_type": "markdown",
   "metadata": {},
   "source": [
    "SnomedCT to MedDRA"
   ]
  },
  {
   "cell_type": "code",
   "execution_count": 4,
   "metadata": {},
   "outputs": [
    {
     "data": {
      "application/vnd.microsoft.datawrangler.viewer.v0+json": {
       "columns": [
        {
         "name": "index",
         "rawType": "int64",
         "type": "integer"
        },
        {
         "name": "meddra_id",
         "rawType": "object",
         "type": "string"
        },
        {
         "name": "snomed_id",
         "rawType": "object",
         "type": "string"
        }
       ],
       "conversionMethod": "pd.DataFrame",
       "ref": "2fb9c389-8a73-4787-911a-49f3176a19ee",
       "rows": [
        [
         "0",
         "10000051",
         "233985008"
        ],
        [
         "1",
         "10000054",
         "233985008"
        ],
        [
         "2",
         "10000056",
         "51197009"
        ],
        [
         "3",
         "10000057",
         "51197009"
        ],
        [
         "4",
         "10000058",
         "21522001"
        ],
        [
         "5",
         "10000059",
         "43364001"
        ],
        [
         "6",
         "10000060",
         "162068007"
        ],
        [
         "7",
         "10000075",
         "116141005"
        ],
        [
         "8",
         "10000081",
         "21522001"
        ],
        [
         "9",
         "10000084",
         "54586004"
        ],
        [
         "10",
         "10000085",
         "21522001"
        ],
        [
         "11",
         "10000087",
         "83132003"
        ],
        [
         "12",
         "10000097",
         "43478001"
        ],
        [
         "13",
         "10000125",
         "85418005"
        ],
        [
         "14",
         "10000136",
         "22325002"
        ],
        [
         "15",
         "10000151",
         "267078001"
        ],
        [
         "16",
         "10000156",
         "166603001"
        ],
        [
         "17",
         "10000158",
         "166603001"
        ],
        [
         "18",
         "10000159",
         "267024001"
        ],
        [
         "19",
         "10000163",
         "247322000"
        ],
        [
         "20",
         "10000182",
         "26628009"
        ],
        [
         "21",
         "10000186",
         "7973008"
        ],
        [
         "22",
         "10000188",
         "161833006"
        ],
        [
         "23",
         "10000210",
         "363681007"
        ],
        [
         "24",
         "10000220",
         "714812005"
        ],
        [
         "25",
         "10000234",
         "17369002"
        ],
        [
         "26",
         "10000269",
         "128477000"
        ],
        [
         "27",
         "10000278",
         "299709002"
        ],
        [
         "28",
         "10000279",
         "118442004"
        ],
        [
         "29",
         "10000326",
         "14302001"
        ],
        [
         "30",
         "10000331",
         "79631006"
        ],
        [
         "31",
         "10000340",
         "105542008"
        ],
        [
         "32",
         "10000357",
         "278040002"
        ],
        [
         "33",
         "10000369",
         "55566008"
        ],
        [
         "34",
         "10000372",
         "17542004"
        ],
        [
         "35",
         "10000373",
         "426772002"
        ],
        [
         "36",
         "10000381",
         "1149223009"
        ],
        [
         "37",
         "10000424",
         "22253000"
        ],
        [
         "38",
         "10000428",
         "22253000"
        ],
        [
         "39",
         "10000431",
         "10601006"
        ],
        [
         "40",
         "10000433",
         "11654001"
        ],
        [
         "41",
         "10000439",
         "429513001"
        ],
        [
         "42",
         "10000441",
         "11654001"
        ],
        [
         "43",
         "10000448",
         "90834002"
        ],
        [
         "44",
         "10000449",
         "57676002"
        ],
        [
         "45",
         "10000460",
         "162031009"
        ],
        [
         "46",
         "10000464",
         "162031009"
        ],
        [
         "47",
         "10000479",
         "698065002"
        ],
        [
         "48",
         "10000486",
         "51387008"
        ],
        [
         "49",
         "10000491",
         "91273001"
        ]
       ],
       "shape": {
        "columns": 2,
        "rows": 6779
       }
      },
      "text/html": [
       "<div>\n",
       "<style scoped>\n",
       "    .dataframe tbody tr th:only-of-type {\n",
       "        vertical-align: middle;\n",
       "    }\n",
       "\n",
       "    .dataframe tbody tr th {\n",
       "        vertical-align: top;\n",
       "    }\n",
       "\n",
       "    .dataframe thead th {\n",
       "        text-align: right;\n",
       "    }\n",
       "</style>\n",
       "<table border=\"1\" class=\"dataframe\">\n",
       "  <thead>\n",
       "    <tr style=\"text-align: right;\">\n",
       "      <th></th>\n",
       "      <th>meddra_id</th>\n",
       "      <th>snomed_id</th>\n",
       "    </tr>\n",
       "  </thead>\n",
       "  <tbody>\n",
       "    <tr>\n",
       "      <th>0</th>\n",
       "      <td>10000051</td>\n",
       "      <td>233985008</td>\n",
       "    </tr>\n",
       "    <tr>\n",
       "      <th>1</th>\n",
       "      <td>10000054</td>\n",
       "      <td>233985008</td>\n",
       "    </tr>\n",
       "    <tr>\n",
       "      <th>2</th>\n",
       "      <td>10000056</td>\n",
       "      <td>51197009</td>\n",
       "    </tr>\n",
       "    <tr>\n",
       "      <th>3</th>\n",
       "      <td>10000057</td>\n",
       "      <td>51197009</td>\n",
       "    </tr>\n",
       "    <tr>\n",
       "      <th>4</th>\n",
       "      <td>10000058</td>\n",
       "      <td>21522001</td>\n",
       "    </tr>\n",
       "    <tr>\n",
       "      <th>...</th>\n",
       "      <td>...</td>\n",
       "      <td>...</td>\n",
       "    </tr>\n",
       "    <tr>\n",
       "      <th>6774</th>\n",
       "      <td>10085306</td>\n",
       "      <td>782555009</td>\n",
       "    </tr>\n",
       "    <tr>\n",
       "      <th>6775</th>\n",
       "      <td>10085440</td>\n",
       "      <td>63741006</td>\n",
       "    </tr>\n",
       "    <tr>\n",
       "      <th>6776</th>\n",
       "      <td>10085456</td>\n",
       "      <td>410070006</td>\n",
       "    </tr>\n",
       "    <tr>\n",
       "      <th>6777</th>\n",
       "      <td>10085737</td>\n",
       "      <td>429356007</td>\n",
       "    </tr>\n",
       "    <tr>\n",
       "      <th>6778</th>\n",
       "      <td>10086110</td>\n",
       "      <td>55705006</td>\n",
       "    </tr>\n",
       "  </tbody>\n",
       "</table>\n",
       "<p>6779 rows × 2 columns</p>\n",
       "</div>"
      ],
      "text/plain": [
       "     meddra_id  snomed_id\n",
       "0     10000051  233985008\n",
       "1     10000054  233985008\n",
       "2     10000056   51197009\n",
       "3     10000057   51197009\n",
       "4     10000058   21522001\n",
       "...        ...        ...\n",
       "6774  10085306  782555009\n",
       "6775  10085440   63741006\n",
       "6776  10085456  410070006\n",
       "6777  10085737  429356007\n",
       "6778  10086110   55705006\n",
       "\n",
       "[6779 rows x 2 columns]"
      ]
     },
     "execution_count": 4,
     "metadata": {},
     "output_type": "execute_result"
    }
   ],
   "source": [
    "snomedct_meddra = pd.read_excel('SNOMED CT - MedDRA Mapping - 30 April 2024.xlsx', sheet_name='MedDRA to SNOMED CT Map', dtype=str)\n",
    "snomedct_meddra = snomedct_meddra[['MedDRA Code','SNOMED CT Code']].drop_duplicates()\n",
    "snomedct_meddra.rename(columns={'MedDRA Code':'meddra_id','SNOMED CT Code':'snomed_id'},inplace=True)\n",
    "snomedct_meddra"
   ]
  },
  {
   "cell_type": "markdown",
   "metadata": {},
   "source": [
    "Final Disbiome"
   ]
  },
  {
   "cell_type": "code",
   "execution_count": 5,
   "metadata": {},
   "outputs": [
    {
     "data": {
      "application/vnd.microsoft.datawrangler.viewer.v0+json": {
       "columns": [
        {
         "name": "index",
         "rawType": "int64",
         "type": "integer"
        },
        {
         "name": "meddra_id",
         "rawType": "object",
         "type": "unknown"
        },
        {
         "name": "organism_ncbi_id",
         "rawType": "object",
         "type": "string"
        },
        {
         "name": "icd10",
         "rawType": "object",
         "type": "unknown"
        },
        {
         "name": "snomed_id",
         "rawType": "object",
         "type": "unknown"
        }
       ],
       "conversionMethod": "pd.DataFrame",
       "ref": "9d2e9b87-1f72-480c-83f6-00bfc925a925",
       "rows": [
        [
         "0",
         "10080683",
         "1591",
         null,
         null
        ],
        [
         "1",
         "10080683",
         "885",
         null,
         null
        ],
        [
         "2",
         "10028245",
         "84112",
         "G35",
         "24700007"
        ],
        [
         "3",
         "10028245",
         "1308",
         "G35",
         "24700007"
        ],
        [
         "4",
         "10028245",
         "853",
         "G35",
         "24700007"
        ],
        [
         "5",
         "10028245",
         "649756",
         "G35",
         "24700007"
        ],
        [
         "6",
         "10028245",
         "39491",
         "G35",
         "24700007"
        ],
        [
         "7",
         "10028245",
         "1506",
         "G35",
         "24700007"
        ],
        [
         "8",
         "10028245",
         "46506",
         "G35",
         "24700007"
        ],
        [
         "9",
         "10028245",
         "310298",
         "G35",
         "24700007"
        ],
        [
         "10",
         "10028245",
         "706562",
         "G35",
         "24700007"
        ],
        [
         "11",
         "10028245",
         "28052",
         "G35",
         "24700007"
        ],
        [
         "12",
         "10028245",
         "841",
         "G35",
         "24700007"
        ],
        [
         "13",
         "10028245",
         "40545",
         "G35",
         "24700007"
        ],
        [
         "14",
         "10028245",
         "387090",
         "G35",
         "24700007"
        ],
        [
         "15",
         "10028245",
         "41211",
         "G35",
         "24700007"
        ],
        [
         "16",
         "10028245",
         "165179",
         "G35",
         "24700007"
        ],
        [
         "17",
         "10028245",
         "437897",
         "G35",
         "24700007"
        ],
        [
         "18",
         "10011401",
         "853",
         "K50;K50.8;K50.9",
         "34000006"
        ],
        [
         "19",
         "10011401",
         "33038",
         "K50;K50.8;K50.9",
         "34000006"
        ],
        [
         "20",
         "10011401",
         "218538",
         "K50;K50.8;K50.9",
         "34000006"
        ],
        [
         "21",
         "10011401",
         "1680",
         "K50;K50.8;K50.9",
         "34000006"
        ],
        [
         "22",
         "10011401",
         "33033",
         "K50;K50.8;K50.9",
         "34000006"
        ],
        [
         "23",
         "10011401",
         "28132",
         "K50;K50.8;K50.9",
         "34000006"
        ],
        [
         "24",
         "10011401",
         "1261",
         "K50;K50.8;K50.9",
         "34000006"
        ],
        [
         "25",
         "10011401",
         "1280",
         "K50;K50.8;K50.9",
         "34000006"
        ],
        [
         "26",
         "10011401",
         "1328",
         "K50;K50.8;K50.9",
         "34000006"
        ],
        [
         "27",
         "10011401",
         "1309",
         "K50;K50.8;K50.9",
         "34000006"
        ],
        [
         "28",
         "10011401",
         "827",
         "K50;K50.8;K50.9",
         "34000006"
        ],
        [
         "29",
         "10011401",
         "824",
         "K50;K50.8;K50.9",
         "34000006"
        ],
        [
         "30",
         "10011401",
         "1338",
         "K50;K50.8;K50.9",
         "34000006"
        ],
        [
         "31",
         "10009900",
         "33033",
         null,
         "64766004"
        ],
        [
         "32",
         "10009900",
         "1261",
         null,
         "64766004"
        ],
        [
         "33",
         "10009900",
         "1280",
         null,
         "64766004"
        ],
        [
         "34",
         "10009900",
         "1328",
         null,
         "64766004"
        ],
        [
         "35",
         "10009900",
         "28037",
         null,
         "64766004"
        ],
        [
         "36",
         "10023003",
         "41200",
         "K58;K58.3;K58.8",
         "10743008"
        ],
        [
         "37",
         "10023003",
         "33035",
         "K58;K58.3;K58.8",
         "10743008"
        ],
        [
         "38",
         "10023003",
         "29465",
         "K58;K58.3;K58.8",
         "10743008"
        ],
        [
         "39",
         "10023003",
         "29523",
         "K58;K58.3;K58.8",
         "10743008"
        ],
        [
         "40",
         "10023003",
         "287",
         "K58;K58.3;K58.8",
         "10743008"
        ],
        [
         "41",
         "10019641",
         "1686",
         null,
         "19943007"
        ],
        [
         "42",
         "10019641",
         "216816",
         null,
         "19943007"
        ],
        [
         "43",
         "10019641",
         "1689",
         null,
         "19943007"
        ],
        [
         "44",
         "10019641",
         "35783",
         null,
         "19943007"
        ],
        [
         "45",
         "10019641",
         "42895",
         null,
         "19943007"
        ],
        [
         "46",
         "10019641",
         "41200",
         null,
         "19943007"
        ],
        [
         "47",
         "10019641",
         "1506",
         null,
         "19943007"
        ],
        [
         "48",
         "10067585",
         "59823",
         "E11",
         "44054006"
        ],
        [
         "49",
         "10067585",
         "841",
         "E11",
         "44054006"
        ]
       ],
       "shape": {
        "columns": 4,
        "rows": 8438
       }
      },
      "text/html": [
       "<div>\n",
       "<style scoped>\n",
       "    .dataframe tbody tr th:only-of-type {\n",
       "        vertical-align: middle;\n",
       "    }\n",
       "\n",
       "    .dataframe tbody tr th {\n",
       "        vertical-align: top;\n",
       "    }\n",
       "\n",
       "    .dataframe thead th {\n",
       "        text-align: right;\n",
       "    }\n",
       "</style>\n",
       "<table border=\"1\" class=\"dataframe\">\n",
       "  <thead>\n",
       "    <tr style=\"text-align: right;\">\n",
       "      <th></th>\n",
       "      <th>meddra_id</th>\n",
       "      <th>organism_ncbi_id</th>\n",
       "      <th>icd10</th>\n",
       "      <th>snomed_id</th>\n",
       "    </tr>\n",
       "  </thead>\n",
       "  <tbody>\n",
       "    <tr>\n",
       "      <th>0</th>\n",
       "      <td>10080683</td>\n",
       "      <td>1591</td>\n",
       "      <td>NaN</td>\n",
       "      <td>NaN</td>\n",
       "    </tr>\n",
       "    <tr>\n",
       "      <th>1</th>\n",
       "      <td>10080683</td>\n",
       "      <td>885</td>\n",
       "      <td>NaN</td>\n",
       "      <td>NaN</td>\n",
       "    </tr>\n",
       "    <tr>\n",
       "      <th>2</th>\n",
       "      <td>10028245</td>\n",
       "      <td>84112</td>\n",
       "      <td>G35</td>\n",
       "      <td>24700007</td>\n",
       "    </tr>\n",
       "    <tr>\n",
       "      <th>3</th>\n",
       "      <td>10028245</td>\n",
       "      <td>1308</td>\n",
       "      <td>G35</td>\n",
       "      <td>24700007</td>\n",
       "    </tr>\n",
       "    <tr>\n",
       "      <th>4</th>\n",
       "      <td>10028245</td>\n",
       "      <td>853</td>\n",
       "      <td>G35</td>\n",
       "      <td>24700007</td>\n",
       "    </tr>\n",
       "    <tr>\n",
       "      <th>...</th>\n",
       "      <td>...</td>\n",
       "      <td>...</td>\n",
       "      <td>...</td>\n",
       "      <td>...</td>\n",
       "    </tr>\n",
       "    <tr>\n",
       "      <th>8433</th>\n",
       "      <td>10063024</td>\n",
       "      <td>1506553</td>\n",
       "      <td>NaN</td>\n",
       "      <td>NaN</td>\n",
       "    </tr>\n",
       "    <tr>\n",
       "      <th>8434</th>\n",
       "      <td>10063024</td>\n",
       "      <td>142586</td>\n",
       "      <td>NaN</td>\n",
       "      <td>NaN</td>\n",
       "    </tr>\n",
       "    <tr>\n",
       "      <th>8435</th>\n",
       "      <td>10063024</td>\n",
       "      <td>34104</td>\n",
       "      <td>NaN</td>\n",
       "      <td>NaN</td>\n",
       "    </tr>\n",
       "    <tr>\n",
       "      <th>8436</th>\n",
       "      <td>10063028</td>\n",
       "      <td>1407607</td>\n",
       "      <td>NaN</td>\n",
       "      <td>248279007</td>\n",
       "    </tr>\n",
       "    <tr>\n",
       "      <th>8437</th>\n",
       "      <td>10063028</td>\n",
       "      <td>29523</td>\n",
       "      <td>NaN</td>\n",
       "      <td>248279007</td>\n",
       "    </tr>\n",
       "  </tbody>\n",
       "</table>\n",
       "<p>8438 rows × 4 columns</p>\n",
       "</div>"
      ],
      "text/plain": [
       "     meddra_id organism_ncbi_id icd10  snomed_id\n",
       "0     10080683             1591   NaN        NaN\n",
       "1     10080683              885   NaN        NaN\n",
       "2     10028245            84112   G35   24700007\n",
       "3     10028245             1308   G35   24700007\n",
       "4     10028245              853   G35   24700007\n",
       "...        ...              ...   ...        ...\n",
       "8433  10063024          1506553   NaN        NaN\n",
       "8434  10063024           142586   NaN        NaN\n",
       "8435  10063024            34104   NaN        NaN\n",
       "8436  10063028          1407607   NaN  248279007\n",
       "8437  10063028            29523   NaN  248279007\n",
       "\n",
       "[8438 rows x 4 columns]"
      ]
     },
     "execution_count": 5,
     "metadata": {},
     "output_type": "execute_result"
    }
   ],
   "source": [
    "disbiome = pd.merge(experiment,meddra_unique,on='meddra_id',how='left')\n",
    "disbiome = pd.merge(disbiome,snomedct_meddra,on='meddra_id',how='left')\n",
    "disbiome.drop_duplicates(inplace=True)\n",
    "disbiome"
   ]
  },
  {
   "cell_type": "markdown",
   "metadata": {},
   "source": [
    "### HMDAD"
   ]
  },
  {
   "cell_type": "code",
   "execution_count": 25,
   "metadata": {},
   "outputs": [
    {
     "data": {
      "application/vnd.microsoft.datawrangler.viewer.v0+json": {
       "columns": [
        {
         "name": "index",
         "rawType": "int64",
         "type": "integer"
        },
        {
         "name": "Disease",
         "rawType": "object",
         "type": "string"
        },
        {
         "name": "Microbe",
         "rawType": "object",
         "type": "string"
        }
       ],
       "conversionMethod": "pd.DataFrame",
       "ref": "dcb5247c-8e95-45c8-826e-bde54f14a868",
       "rows": [
        [
         "0",
         "Colon cancer",
         "Collinsella aerofaciens"
        ],
        [
         "1",
         "Periodontal",
         "Fusobacterium"
        ],
        [
         "2",
         "Periodontal",
         "Porphyromonas gingivalis"
        ],
        [
         "3",
         "Periodontal",
         "Prevotella"
        ],
        [
         "4",
         "Periodontal",
         "Treponema"
        ],
        [
         "5",
         "Gastric and duodenal ulcer",
         "Helicobacter pylori"
        ],
        [
         "6",
         "Gastro-oesophageal reflux",
         "Helicobacter pylori"
        ],
        [
         "7",
         "Guttate psoriasis",
         "Staphylococcus aureus"
        ],
        [
         "8",
         "Atopy",
         "Clostridia"
        ],
        [
         "9",
         "Diarrhea Irritable bowel syndrome(IBS)",
         "Bifidobacterium"
        ],
        [
         "10",
         "Irritable bowel syndrome(IBS)",
         "Bifidobacterium catenulatum"
        ],
        [
         "11",
         "Irritable bowel syndrome(IBS)",
         "Clostridium coccoides"
        ],
        [
         "12",
         "Diarrhea Irritable bowel syndrome(IBS)",
         "Desulfovibrio"
        ],
        [
         "13",
         "Irritable bowel syndrome(IBS)",
         "Ruminococcus productus"
        ],
        [
         "14",
         "Constipation Irritable bowel syndrome(IBS)",
         "Veillonella"
        ],
        [
         "15",
         "Obesity",
         "Bacteroidetes"
        ],
        [
         "16",
         "Obesity",
         "Firmicutes"
        ],
        [
         "17",
         "Ileal Crohn's disease(CD)",
         "Bacteroides fragilis"
        ],
        [
         "18",
         "Ileal Crohn's disease(CD)",
         "Clostridium coccoides"
        ],
        [
         "19",
         "Ileal Crohn's disease(CD)",
         "Clostridium leptum"
        ],
        [
         "20",
         "Ileal Crohn's disease(CD)",
         "Prevotella"
        ],
        [
         "21",
         "Bacterial Vaginosis",
         "Atopobium"
        ],
        [
         "22",
         "Bacterial Vaginosis",
         "Atopobium vaginae"
        ],
        [
         "23",
         "Bacterial Vaginosis",
         "Clostridiales"
        ],
        [
         "24",
         "Bacterial Vaginosis",
         "Eggerthella"
        ],
        [
         "25",
         "Bacterial Vaginosis",
         "Gardnerella vaginalis"
        ],
        [
         "26",
         "Bacterial Vaginosis",
         "Lactobacillus  crispatus"
        ],
        [
         "27",
         "Bacterial Vaginosis",
         "Leptotrichia"
        ],
        [
         "28",
         "Bacterial Vaginosis",
         "Megasphaera"
        ],
        [
         "29",
         "Infectious colitis",
         "Bacteroides"
        ],
        [
         "30",
         "Ulcerative colitis",
         "Clostridium coccoides"
        ],
        [
         "31",
         "Crohn's disease(CD)",
         "Clostridium leptum"
        ],
        [
         "32",
         "Allergic sensitization",
         "Clostridium difficile"
        ],
        [
         "33",
         "Atopic dermatitis",
         "Clostridium difficile"
        ],
        [
         "34",
         "Atopic sensitisation",
         "Clostridium difficile"
        ],
        [
         "35",
         "Eczema",
         "Clostridium difficile"
        ],
        [
         "36",
         "Recurrent wheeze",
         "Clostridium difficile"
        ],
        [
         "37",
         "Eczema",
         "Escherichia coli"
        ],
        [
         "40",
         "Allergy",
         "Helicobacter pylori"
        ],
        [
         "41",
         "Asthma",
         "Helicobacter pylori"
        ],
        [
         "42",
         "Irritable bowel syndrome(IBS)",
         "Clostridium cocleatum"
        ],
        [
         "43",
         "Irritable bowel syndrome(IBS)",
         "Collinsella aerofaciens"
        ],
        [
         "44",
         "Irritable bowel syndrome(IBS)",
         "Coprococcus"
        ],
        [
         "45",
         "Inflammatory bowel disease(IBD)",
         "Actinobacteria"
        ],
        [
         "46",
         "Inflammatory bowel disease(IBD)",
         "Lachnospiraceae"
        ],
        [
         "47",
         "Inflammatory bowel disease(IBD)",
         "Proteobacteria"
        ],
        [
         "48",
         "Atopic dermatitis",
         "Dietzia maris"
        ],
        [
         "49",
         "Atopic dermatitis",
         "Stenotrophomonas maltophilia"
        ],
        [
         "50",
         "Cystic fibrosis",
         "Coxiellaceae"
        ],
        [
         "51",
         "Cystic fibrosis",
         "Lysobacter"
        ]
       ],
       "shape": {
        "columns": 2,
        "rows": 450
       }
      },
      "text/html": [
       "<div>\n",
       "<style scoped>\n",
       "    .dataframe tbody tr th:only-of-type {\n",
       "        vertical-align: middle;\n",
       "    }\n",
       "\n",
       "    .dataframe tbody tr th {\n",
       "        vertical-align: top;\n",
       "    }\n",
       "\n",
       "    .dataframe thead th {\n",
       "        text-align: right;\n",
       "    }\n",
       "</style>\n",
       "<table border=\"1\" class=\"dataframe\">\n",
       "  <thead>\n",
       "    <tr style=\"text-align: right;\">\n",
       "      <th></th>\n",
       "      <th>Disease</th>\n",
       "      <th>Microbe</th>\n",
       "    </tr>\n",
       "  </thead>\n",
       "  <tbody>\n",
       "    <tr>\n",
       "      <th>0</th>\n",
       "      <td>Colon cancer</td>\n",
       "      <td>Collinsella aerofaciens</td>\n",
       "    </tr>\n",
       "    <tr>\n",
       "      <th>1</th>\n",
       "      <td>Periodontal</td>\n",
       "      <td>Fusobacterium</td>\n",
       "    </tr>\n",
       "    <tr>\n",
       "      <th>2</th>\n",
       "      <td>Periodontal</td>\n",
       "      <td>Porphyromonas gingivalis</td>\n",
       "    </tr>\n",
       "    <tr>\n",
       "      <th>3</th>\n",
       "      <td>Periodontal</td>\n",
       "      <td>Prevotella</td>\n",
       "    </tr>\n",
       "    <tr>\n",
       "      <th>4</th>\n",
       "      <td>Periodontal</td>\n",
       "      <td>Treponema</td>\n",
       "    </tr>\n",
       "    <tr>\n",
       "      <th>...</th>\n",
       "      <td>...</td>\n",
       "      <td>...</td>\n",
       "    </tr>\n",
       "    <tr>\n",
       "      <th>478</th>\n",
       "      <td>Liver cirrhosis</td>\n",
       "      <td>Tannerella</td>\n",
       "    </tr>\n",
       "    <tr>\n",
       "      <th>479</th>\n",
       "      <td>Liver cirrhosis</td>\n",
       "      <td>Veillonella</td>\n",
       "    </tr>\n",
       "    <tr>\n",
       "      <th>480</th>\n",
       "      <td>Liver cirrhosis</td>\n",
       "      <td>Veillonella atypica</td>\n",
       "    </tr>\n",
       "    <tr>\n",
       "      <th>481</th>\n",
       "      <td>Liver cirrhosis</td>\n",
       "      <td>Veillonella dispar</td>\n",
       "    </tr>\n",
       "    <tr>\n",
       "      <th>482</th>\n",
       "      <td>Liver cirrhosis</td>\n",
       "      <td>Veillonella parvula</td>\n",
       "    </tr>\n",
       "  </tbody>\n",
       "</table>\n",
       "<p>450 rows × 2 columns</p>\n",
       "</div>"
      ],
      "text/plain": [
       "             Disease                   Microbe\n",
       "0       Colon cancer   Collinsella aerofaciens\n",
       "1        Periodontal             Fusobacterium\n",
       "2        Periodontal  Porphyromonas gingivalis\n",
       "3        Periodontal                Prevotella\n",
       "4        Periodontal                 Treponema\n",
       "..               ...                       ...\n",
       "478  Liver cirrhosis                Tannerella\n",
       "479  Liver cirrhosis               Veillonella\n",
       "480  Liver cirrhosis       Veillonella atypica\n",
       "481  Liver cirrhosis        Veillonella dispar\n",
       "482  Liver cirrhosis       Veillonella parvula\n",
       "\n",
       "[450 rows x 2 columns]"
      ]
     },
     "execution_count": 25,
     "metadata": {},
     "output_type": "execute_result"
    }
   ],
   "source": [
    "# Download Link: http://www.cuilab.cn/files/dmi/data_download.txt\n",
    "# Download Date: 2025-03-21\n",
    "# Download Version: unknown\n",
    "\n",
    "hmdad = pd.read_csv('data_download.txt', sep='\\t', dtype=str)\n",
    "hmdad = hmdad[['Disease', 'Microbe']].drop_duplicates()\n",
    "hmdad"
   ]
  },
  {
   "cell_type": "markdown",
   "metadata": {},
   "source": [
    "### BioMedGraphica ID"
   ]
  },
  {
   "cell_type": "code",
   "execution_count": 8,
   "metadata": {},
   "outputs": [],
   "source": [
    "import pandas as pd\n",
    "import os\n",
    "from pathlib import Path\n",
    "\n",
    "current_working_dir = Path(os.getcwd()).resolve()\n",
    "grandparent_dir = current_working_dir.parent.parent.parent\n",
    "target_dir_microbiota = grandparent_dir / 'BioMedGraphica' / 'Entity' / 'Microbiota' / 'BioMedGraphica_Microbiota.csv'\n",
    "target_dir_disease = grandparent_dir / 'BioMedGraphica' / 'Entity' / 'Disease' / 'BioMedGraphica_Disease.csv'\n",
    "biomedgraphica_microbiota = pd.read_csv(target_dir_microbiota, dtype=str)\n",
    "biomedgraphica_disease = pd.read_csv(target_dir_disease, dtype=str)"
   ]
  },
  {
   "cell_type": "markdown",
   "metadata": {},
   "source": [
    "### Disbiome Mapping"
   ]
  },
  {
   "cell_type": "markdown",
   "metadata": {},
   "source": [
    "ICD10 ID"
   ]
  },
  {
   "cell_type": "code",
   "execution_count": 9,
   "metadata": {},
   "outputs": [
    {
     "name": "stderr",
     "output_type": "stream",
     "text": [
      "C:\\Users\\shunn\\AppData\\Local\\Temp\\ipykernel_36420\\3495402868.py:2: SettingWithCopyWarning: \n",
      "A value is trying to be set on a copy of a slice from a DataFrame\n",
      "\n",
      "See the caveats in the documentation: https://pandas.pydata.org/pandas-docs/stable/user_guide/indexing.html#returning-a-view-versus-a-copy\n",
      "  icd10_individualid.dropna(subset=['ICD10_ID'], inplace=True)\n"
     ]
    },
    {
     "data": {
      "application/vnd.microsoft.datawrangler.viewer.v0+json": {
       "columns": [
        {
         "name": "index",
         "rawType": "int64",
         "type": "integer"
        },
        {
         "name": "meddra_id",
         "rawType": "object",
         "type": "unknown"
        },
        {
         "name": "organism_ncbi_id",
         "rawType": "object",
         "type": "string"
        },
        {
         "name": "icd10",
         "rawType": "object",
         "type": "unknown"
        },
        {
         "name": "snomed_id",
         "rawType": "object",
         "type": "unknown"
        },
        {
         "name": "To_ID_ICD10",
         "rawType": "object",
         "type": "unknown"
        }
       ],
       "conversionMethod": "pd.DataFrame",
       "ref": "b4b5d232-60ef-4e9d-af49-60c633289157",
       "rows": [
        [
         "0",
         "10080683",
         "1591",
         null,
         null,
         null
        ],
        [
         "1",
         "10080683",
         "885",
         null,
         null,
         null
        ],
        [
         "2",
         "10028245",
         "84112",
         "G35",
         "24700007",
         "BMG_DS044895"
        ],
        [
         "3",
         "10028245",
         "1308",
         "G35",
         "24700007",
         "BMG_DS044895"
        ],
        [
         "4",
         "10028245",
         "853",
         "G35",
         "24700007",
         "BMG_DS044895"
        ],
        [
         "5",
         "10028245",
         "649756",
         "G35",
         "24700007",
         "BMG_DS044895"
        ],
        [
         "6",
         "10028245",
         "39491",
         "G35",
         "24700007",
         "BMG_DS044895"
        ],
        [
         "7",
         "10028245",
         "1506",
         "G35",
         "24700007",
         "BMG_DS044895"
        ],
        [
         "8",
         "10028245",
         "46506",
         "G35",
         "24700007",
         "BMG_DS044895"
        ],
        [
         "9",
         "10028245",
         "310298",
         "G35",
         "24700007",
         "BMG_DS044895"
        ],
        [
         "10",
         "10028245",
         "706562",
         "G35",
         "24700007",
         "BMG_DS044895"
        ],
        [
         "11",
         "10028245",
         "28052",
         "G35",
         "24700007",
         "BMG_DS044895"
        ],
        [
         "12",
         "10028245",
         "841",
         "G35",
         "24700007",
         "BMG_DS044895"
        ],
        [
         "13",
         "10028245",
         "40545",
         "G35",
         "24700007",
         "BMG_DS044895"
        ],
        [
         "14",
         "10028245",
         "387090",
         "G35",
         "24700007",
         "BMG_DS044895"
        ],
        [
         "15",
         "10028245",
         "41211",
         "G35",
         "24700007",
         "BMG_DS044895"
        ],
        [
         "16",
         "10028245",
         "165179",
         "G35",
         "24700007",
         "BMG_DS044895"
        ],
        [
         "17",
         "10028245",
         "437897",
         "G35",
         "24700007",
         "BMG_DS044895"
        ],
        [
         "18",
         "10011401",
         "853",
         "K50;K50.8;K50.9",
         "34000006",
         null
        ],
        [
         "19",
         "10011401",
         "33038",
         "K50;K50.8;K50.9",
         "34000006",
         null
        ],
        [
         "20",
         "10011401",
         "218538",
         "K50;K50.8;K50.9",
         "34000006",
         null
        ],
        [
         "21",
         "10011401",
         "1680",
         "K50;K50.8;K50.9",
         "34000006",
         null
        ],
        [
         "22",
         "10011401",
         "33033",
         "K50;K50.8;K50.9",
         "34000006",
         null
        ],
        [
         "23",
         "10011401",
         "28132",
         "K50;K50.8;K50.9",
         "34000006",
         null
        ],
        [
         "24",
         "10011401",
         "1261",
         "K50;K50.8;K50.9",
         "34000006",
         null
        ],
        [
         "25",
         "10011401",
         "1280",
         "K50;K50.8;K50.9",
         "34000006",
         null
        ],
        [
         "26",
         "10011401",
         "1328",
         "K50;K50.8;K50.9",
         "34000006",
         null
        ],
        [
         "27",
         "10011401",
         "1309",
         "K50;K50.8;K50.9",
         "34000006",
         null
        ],
        [
         "28",
         "10011401",
         "827",
         "K50;K50.8;K50.9",
         "34000006",
         null
        ],
        [
         "29",
         "10011401",
         "824",
         "K50;K50.8;K50.9",
         "34000006",
         null
        ],
        [
         "30",
         "10011401",
         "1338",
         "K50;K50.8;K50.9",
         "34000006",
         null
        ],
        [
         "31",
         "10009900",
         "33033",
         null,
         "64766004",
         null
        ],
        [
         "32",
         "10009900",
         "1261",
         null,
         "64766004",
         null
        ],
        [
         "33",
         "10009900",
         "1280",
         null,
         "64766004",
         null
        ],
        [
         "34",
         "10009900",
         "1328",
         null,
         "64766004",
         null
        ],
        [
         "35",
         "10009900",
         "28037",
         null,
         "64766004",
         null
        ],
        [
         "36",
         "10023003",
         "41200",
         "K58;K58.3;K58.8",
         "10743008",
         null
        ],
        [
         "37",
         "10023003",
         "33035",
         "K58;K58.3;K58.8",
         "10743008",
         null
        ],
        [
         "38",
         "10023003",
         "29465",
         "K58;K58.3;K58.8",
         "10743008",
         null
        ],
        [
         "39",
         "10023003",
         "29523",
         "K58;K58.3;K58.8",
         "10743008",
         null
        ],
        [
         "40",
         "10023003",
         "287",
         "K58;K58.3;K58.8",
         "10743008",
         null
        ],
        [
         "41",
         "10019641",
         "1686",
         null,
         "19943007",
         null
        ],
        [
         "42",
         "10019641",
         "216816",
         null,
         "19943007",
         null
        ],
        [
         "43",
         "10019641",
         "1689",
         null,
         "19943007",
         null
        ],
        [
         "44",
         "10019641",
         "35783",
         null,
         "19943007",
         null
        ],
        [
         "45",
         "10019641",
         "42895",
         null,
         "19943007",
         null
        ],
        [
         "46",
         "10019641",
         "41200",
         null,
         "19943007",
         null
        ],
        [
         "47",
         "10019641",
         "1506",
         null,
         "19943007",
         null
        ],
        [
         "48",
         "10067585",
         "59823",
         "E11",
         "44054006",
         "BMG_DS061242"
        ],
        [
         "49",
         "10067585",
         "841",
         "E11",
         "44054006",
         "BMG_DS061242"
        ]
       ],
       "shape": {
        "columns": 5,
        "rows": 8438
       }
      },
      "text/html": [
       "<div>\n",
       "<style scoped>\n",
       "    .dataframe tbody tr th:only-of-type {\n",
       "        vertical-align: middle;\n",
       "    }\n",
       "\n",
       "    .dataframe tbody tr th {\n",
       "        vertical-align: top;\n",
       "    }\n",
       "\n",
       "    .dataframe thead th {\n",
       "        text-align: right;\n",
       "    }\n",
       "</style>\n",
       "<table border=\"1\" class=\"dataframe\">\n",
       "  <thead>\n",
       "    <tr style=\"text-align: right;\">\n",
       "      <th></th>\n",
       "      <th>meddra_id</th>\n",
       "      <th>organism_ncbi_id</th>\n",
       "      <th>icd10</th>\n",
       "      <th>snomed_id</th>\n",
       "      <th>To_ID_ICD10</th>\n",
       "    </tr>\n",
       "  </thead>\n",
       "  <tbody>\n",
       "    <tr>\n",
       "      <th>0</th>\n",
       "      <td>10080683</td>\n",
       "      <td>1591</td>\n",
       "      <td>NaN</td>\n",
       "      <td>NaN</td>\n",
       "      <td>NaN</td>\n",
       "    </tr>\n",
       "    <tr>\n",
       "      <th>1</th>\n",
       "      <td>10080683</td>\n",
       "      <td>885</td>\n",
       "      <td>NaN</td>\n",
       "      <td>NaN</td>\n",
       "      <td>NaN</td>\n",
       "    </tr>\n",
       "    <tr>\n",
       "      <th>2</th>\n",
       "      <td>10028245</td>\n",
       "      <td>84112</td>\n",
       "      <td>G35</td>\n",
       "      <td>24700007</td>\n",
       "      <td>BMG_DS044895</td>\n",
       "    </tr>\n",
       "    <tr>\n",
       "      <th>3</th>\n",
       "      <td>10028245</td>\n",
       "      <td>1308</td>\n",
       "      <td>G35</td>\n",
       "      <td>24700007</td>\n",
       "      <td>BMG_DS044895</td>\n",
       "    </tr>\n",
       "    <tr>\n",
       "      <th>4</th>\n",
       "      <td>10028245</td>\n",
       "      <td>853</td>\n",
       "      <td>G35</td>\n",
       "      <td>24700007</td>\n",
       "      <td>BMG_DS044895</td>\n",
       "    </tr>\n",
       "    <tr>\n",
       "      <th>...</th>\n",
       "      <td>...</td>\n",
       "      <td>...</td>\n",
       "      <td>...</td>\n",
       "      <td>...</td>\n",
       "      <td>...</td>\n",
       "    </tr>\n",
       "    <tr>\n",
       "      <th>8433</th>\n",
       "      <td>10063024</td>\n",
       "      <td>1506553</td>\n",
       "      <td>NaN</td>\n",
       "      <td>NaN</td>\n",
       "      <td>NaN</td>\n",
       "    </tr>\n",
       "    <tr>\n",
       "      <th>8434</th>\n",
       "      <td>10063024</td>\n",
       "      <td>142586</td>\n",
       "      <td>NaN</td>\n",
       "      <td>NaN</td>\n",
       "      <td>NaN</td>\n",
       "    </tr>\n",
       "    <tr>\n",
       "      <th>8435</th>\n",
       "      <td>10063024</td>\n",
       "      <td>34104</td>\n",
       "      <td>NaN</td>\n",
       "      <td>NaN</td>\n",
       "      <td>NaN</td>\n",
       "    </tr>\n",
       "    <tr>\n",
       "      <th>8436</th>\n",
       "      <td>10063028</td>\n",
       "      <td>1407607</td>\n",
       "      <td>NaN</td>\n",
       "      <td>248279007</td>\n",
       "      <td>NaN</td>\n",
       "    </tr>\n",
       "    <tr>\n",
       "      <th>8437</th>\n",
       "      <td>10063028</td>\n",
       "      <td>29523</td>\n",
       "      <td>NaN</td>\n",
       "      <td>248279007</td>\n",
       "      <td>NaN</td>\n",
       "    </tr>\n",
       "  </tbody>\n",
       "</table>\n",
       "<p>8438 rows × 5 columns</p>\n",
       "</div>"
      ],
      "text/plain": [
       "     meddra_id organism_ncbi_id icd10  snomed_id   To_ID_ICD10\n",
       "0     10080683             1591   NaN        NaN           NaN\n",
       "1     10080683              885   NaN        NaN           NaN\n",
       "2     10028245            84112   G35   24700007  BMG_DS044895\n",
       "3     10028245             1308   G35   24700007  BMG_DS044895\n",
       "4     10028245              853   G35   24700007  BMG_DS044895\n",
       "...        ...              ...   ...        ...           ...\n",
       "8433  10063024          1506553   NaN        NaN           NaN\n",
       "8434  10063024           142586   NaN        NaN           NaN\n",
       "8435  10063024            34104   NaN        NaN           NaN\n",
       "8436  10063028          1407607   NaN  248279007           NaN\n",
       "8437  10063028            29523   NaN  248279007           NaN\n",
       "\n",
       "[8438 rows x 5 columns]"
      ]
     },
     "execution_count": 9,
     "metadata": {},
     "output_type": "execute_result"
    }
   ],
   "source": [
    "icd10_individualid = biomedgraphica_disease[['ICD10_ID', 'BioMedGraphica_ID']]\n",
    "icd10_individualid.dropna(subset=['ICD10_ID'], inplace=True)\n",
    "icd10_individualid = icd10_individualid.assign(ICD10_ID=icd10_individualid['ICD10_ID'].str.split(';')).explode('ICD10_ID')\n",
    "icd10_to_individualid = icd10_individualid.groupby('ICD10_ID')['BioMedGraphica_ID'].apply(lambda x: ';'.join(x.dropna().unique())).to_dict()\n",
    "\n",
    "disbiome['To_ID_ICD10'] = disbiome['icd10'].map(icd10_to_individualid)\n",
    "disbiome"
   ]
  },
  {
   "cell_type": "markdown",
   "metadata": {},
   "source": [
    "SnomedCT ID"
   ]
  },
  {
   "cell_type": "code",
   "execution_count": 10,
   "metadata": {},
   "outputs": [
    {
     "name": "stderr",
     "output_type": "stream",
     "text": [
      "C:\\Users\\shunn\\AppData\\Local\\Temp\\ipykernel_36420\\3647191272.py:2: SettingWithCopyWarning: \n",
      "A value is trying to be set on a copy of a slice from a DataFrame\n",
      "\n",
      "See the caveats in the documentation: https://pandas.pydata.org/pandas-docs/stable/user_guide/indexing.html#returning-a-view-versus-a-copy\n",
      "  snomedct_individualid.dropna(subset=['SNOMEDCT_ID'], inplace=True)\n"
     ]
    },
    {
     "data": {
      "application/vnd.microsoft.datawrangler.viewer.v0+json": {
       "columns": [
        {
         "name": "index",
         "rawType": "int64",
         "type": "integer"
        },
        {
         "name": "meddra_id",
         "rawType": "object",
         "type": "unknown"
        },
        {
         "name": "organism_ncbi_id",
         "rawType": "object",
         "type": "string"
        },
        {
         "name": "icd10",
         "rawType": "object",
         "type": "unknown"
        },
        {
         "name": "snomed_id",
         "rawType": "object",
         "type": "unknown"
        },
        {
         "name": "To_ID_ICD10",
         "rawType": "object",
         "type": "unknown"
        },
        {
         "name": "To_ID_SNOMEDCT",
         "rawType": "object",
         "type": "unknown"
        }
       ],
       "conversionMethod": "pd.DataFrame",
       "ref": "a96424c8-857d-42f4-8260-a1d061c5e1d5",
       "rows": [
        [
         "0",
         "10080683",
         "1591",
         null,
         null,
         null,
         null
        ],
        [
         "1",
         "10080683",
         "885",
         null,
         null,
         null,
         null
        ],
        [
         "2",
         "10028245",
         "84112",
         "G35",
         "24700007",
         "BMG_DS044895",
         null
        ],
        [
         "3",
         "10028245",
         "1308",
         "G35",
         "24700007",
         "BMG_DS044895",
         null
        ],
        [
         "4",
         "10028245",
         "853",
         "G35",
         "24700007",
         "BMG_DS044895",
         null
        ],
        [
         "5",
         "10028245",
         "649756",
         "G35",
         "24700007",
         "BMG_DS044895",
         null
        ],
        [
         "6",
         "10028245",
         "39491",
         "G35",
         "24700007",
         "BMG_DS044895",
         null
        ],
        [
         "7",
         "10028245",
         "1506",
         "G35",
         "24700007",
         "BMG_DS044895",
         null
        ],
        [
         "8",
         "10028245",
         "46506",
         "G35",
         "24700007",
         "BMG_DS044895",
         null
        ],
        [
         "9",
         "10028245",
         "310298",
         "G35",
         "24700007",
         "BMG_DS044895",
         null
        ],
        [
         "10",
         "10028245",
         "706562",
         "G35",
         "24700007",
         "BMG_DS044895",
         null
        ],
        [
         "11",
         "10028245",
         "28052",
         "G35",
         "24700007",
         "BMG_DS044895",
         null
        ],
        [
         "12",
         "10028245",
         "841",
         "G35",
         "24700007",
         "BMG_DS044895",
         null
        ],
        [
         "13",
         "10028245",
         "40545",
         "G35",
         "24700007",
         "BMG_DS044895",
         null
        ],
        [
         "14",
         "10028245",
         "387090",
         "G35",
         "24700007",
         "BMG_DS044895",
         null
        ],
        [
         "15",
         "10028245",
         "41211",
         "G35",
         "24700007",
         "BMG_DS044895",
         null
        ],
        [
         "16",
         "10028245",
         "165179",
         "G35",
         "24700007",
         "BMG_DS044895",
         null
        ],
        [
         "17",
         "10028245",
         "437897",
         "G35",
         "24700007",
         "BMG_DS044895",
         null
        ],
        [
         "18",
         "10011401",
         "853",
         "K50;K50.8;K50.9",
         "34000006",
         null,
         null
        ],
        [
         "19",
         "10011401",
         "33038",
         "K50;K50.8;K50.9",
         "34000006",
         null,
         null
        ],
        [
         "20",
         "10011401",
         "218538",
         "K50;K50.8;K50.9",
         "34000006",
         null,
         null
        ],
        [
         "21",
         "10011401",
         "1680",
         "K50;K50.8;K50.9",
         "34000006",
         null,
         null
        ],
        [
         "22",
         "10011401",
         "33033",
         "K50;K50.8;K50.9",
         "34000006",
         null,
         null
        ],
        [
         "23",
         "10011401",
         "28132",
         "K50;K50.8;K50.9",
         "34000006",
         null,
         null
        ],
        [
         "24",
         "10011401",
         "1261",
         "K50;K50.8;K50.9",
         "34000006",
         null,
         null
        ],
        [
         "25",
         "10011401",
         "1280",
         "K50;K50.8;K50.9",
         "34000006",
         null,
         null
        ],
        [
         "26",
         "10011401",
         "1328",
         "K50;K50.8;K50.9",
         "34000006",
         null,
         null
        ],
        [
         "27",
         "10011401",
         "1309",
         "K50;K50.8;K50.9",
         "34000006",
         null,
         null
        ],
        [
         "28",
         "10011401",
         "827",
         "K50;K50.8;K50.9",
         "34000006",
         null,
         null
        ],
        [
         "29",
         "10011401",
         "824",
         "K50;K50.8;K50.9",
         "34000006",
         null,
         null
        ],
        [
         "30",
         "10011401",
         "1338",
         "K50;K50.8;K50.9",
         "34000006",
         null,
         null
        ],
        [
         "31",
         "10009900",
         "33033",
         null,
         "64766004",
         null,
         "BMG_DS052277"
        ],
        [
         "32",
         "10009900",
         "1261",
         null,
         "64766004",
         null,
         "BMG_DS052277"
        ],
        [
         "33",
         "10009900",
         "1280",
         null,
         "64766004",
         null,
         "BMG_DS052277"
        ],
        [
         "34",
         "10009900",
         "1328",
         null,
         "64766004",
         null,
         "BMG_DS052277"
        ],
        [
         "35",
         "10009900",
         "28037",
         null,
         "64766004",
         null,
         "BMG_DS052277"
        ],
        [
         "36",
         "10023003",
         "41200",
         "K58;K58.3;K58.8",
         "10743008",
         null,
         null
        ],
        [
         "37",
         "10023003",
         "33035",
         "K58;K58.3;K58.8",
         "10743008",
         null,
         null
        ],
        [
         "38",
         "10023003",
         "29465",
         "K58;K58.3;K58.8",
         "10743008",
         null,
         null
        ],
        [
         "39",
         "10023003",
         "29523",
         "K58;K58.3;K58.8",
         "10743008",
         null,
         null
        ],
        [
         "40",
         "10023003",
         "287",
         "K58;K58.3;K58.8",
         "10743008",
         null,
         null
        ],
        [
         "41",
         "10019641",
         "1686",
         null,
         "19943007",
         null,
         "BMG_DS000640"
        ],
        [
         "42",
         "10019641",
         "216816",
         null,
         "19943007",
         null,
         "BMG_DS000640"
        ],
        [
         "43",
         "10019641",
         "1689",
         null,
         "19943007",
         null,
         "BMG_DS000640"
        ],
        [
         "44",
         "10019641",
         "35783",
         null,
         "19943007",
         null,
         "BMG_DS000640"
        ],
        [
         "45",
         "10019641",
         "42895",
         null,
         "19943007",
         null,
         "BMG_DS000640"
        ],
        [
         "46",
         "10019641",
         "41200",
         null,
         "19943007",
         null,
         "BMG_DS000640"
        ],
        [
         "47",
         "10019641",
         "1506",
         null,
         "19943007",
         null,
         "BMG_DS000640"
        ],
        [
         "48",
         "10067585",
         "59823",
         "E11",
         "44054006",
         "BMG_DS061242",
         null
        ],
        [
         "49",
         "10067585",
         "841",
         "E11",
         "44054006",
         "BMG_DS061242",
         null
        ]
       ],
       "shape": {
        "columns": 6,
        "rows": 8438
       }
      },
      "text/html": [
       "<div>\n",
       "<style scoped>\n",
       "    .dataframe tbody tr th:only-of-type {\n",
       "        vertical-align: middle;\n",
       "    }\n",
       "\n",
       "    .dataframe tbody tr th {\n",
       "        vertical-align: top;\n",
       "    }\n",
       "\n",
       "    .dataframe thead th {\n",
       "        text-align: right;\n",
       "    }\n",
       "</style>\n",
       "<table border=\"1\" class=\"dataframe\">\n",
       "  <thead>\n",
       "    <tr style=\"text-align: right;\">\n",
       "      <th></th>\n",
       "      <th>meddra_id</th>\n",
       "      <th>organism_ncbi_id</th>\n",
       "      <th>icd10</th>\n",
       "      <th>snomed_id</th>\n",
       "      <th>To_ID_ICD10</th>\n",
       "      <th>To_ID_SNOMEDCT</th>\n",
       "    </tr>\n",
       "  </thead>\n",
       "  <tbody>\n",
       "    <tr>\n",
       "      <th>0</th>\n",
       "      <td>10080683</td>\n",
       "      <td>1591</td>\n",
       "      <td>NaN</td>\n",
       "      <td>NaN</td>\n",
       "      <td>NaN</td>\n",
       "      <td>NaN</td>\n",
       "    </tr>\n",
       "    <tr>\n",
       "      <th>1</th>\n",
       "      <td>10080683</td>\n",
       "      <td>885</td>\n",
       "      <td>NaN</td>\n",
       "      <td>NaN</td>\n",
       "      <td>NaN</td>\n",
       "      <td>NaN</td>\n",
       "    </tr>\n",
       "    <tr>\n",
       "      <th>2</th>\n",
       "      <td>10028245</td>\n",
       "      <td>84112</td>\n",
       "      <td>G35</td>\n",
       "      <td>24700007</td>\n",
       "      <td>BMG_DS044895</td>\n",
       "      <td>NaN</td>\n",
       "    </tr>\n",
       "    <tr>\n",
       "      <th>3</th>\n",
       "      <td>10028245</td>\n",
       "      <td>1308</td>\n",
       "      <td>G35</td>\n",
       "      <td>24700007</td>\n",
       "      <td>BMG_DS044895</td>\n",
       "      <td>NaN</td>\n",
       "    </tr>\n",
       "    <tr>\n",
       "      <th>4</th>\n",
       "      <td>10028245</td>\n",
       "      <td>853</td>\n",
       "      <td>G35</td>\n",
       "      <td>24700007</td>\n",
       "      <td>BMG_DS044895</td>\n",
       "      <td>NaN</td>\n",
       "    </tr>\n",
       "    <tr>\n",
       "      <th>...</th>\n",
       "      <td>...</td>\n",
       "      <td>...</td>\n",
       "      <td>...</td>\n",
       "      <td>...</td>\n",
       "      <td>...</td>\n",
       "      <td>...</td>\n",
       "    </tr>\n",
       "    <tr>\n",
       "      <th>8433</th>\n",
       "      <td>10063024</td>\n",
       "      <td>1506553</td>\n",
       "      <td>NaN</td>\n",
       "      <td>NaN</td>\n",
       "      <td>NaN</td>\n",
       "      <td>NaN</td>\n",
       "    </tr>\n",
       "    <tr>\n",
       "      <th>8434</th>\n",
       "      <td>10063024</td>\n",
       "      <td>142586</td>\n",
       "      <td>NaN</td>\n",
       "      <td>NaN</td>\n",
       "      <td>NaN</td>\n",
       "      <td>NaN</td>\n",
       "    </tr>\n",
       "    <tr>\n",
       "      <th>8435</th>\n",
       "      <td>10063024</td>\n",
       "      <td>34104</td>\n",
       "      <td>NaN</td>\n",
       "      <td>NaN</td>\n",
       "      <td>NaN</td>\n",
       "      <td>NaN</td>\n",
       "    </tr>\n",
       "    <tr>\n",
       "      <th>8436</th>\n",
       "      <td>10063028</td>\n",
       "      <td>1407607</td>\n",
       "      <td>NaN</td>\n",
       "      <td>248279007</td>\n",
       "      <td>NaN</td>\n",
       "      <td>NaN</td>\n",
       "    </tr>\n",
       "    <tr>\n",
       "      <th>8437</th>\n",
       "      <td>10063028</td>\n",
       "      <td>29523</td>\n",
       "      <td>NaN</td>\n",
       "      <td>248279007</td>\n",
       "      <td>NaN</td>\n",
       "      <td>NaN</td>\n",
       "    </tr>\n",
       "  </tbody>\n",
       "</table>\n",
       "<p>8438 rows × 6 columns</p>\n",
       "</div>"
      ],
      "text/plain": [
       "     meddra_id organism_ncbi_id icd10  snomed_id   To_ID_ICD10 To_ID_SNOMEDCT\n",
       "0     10080683             1591   NaN        NaN           NaN            NaN\n",
       "1     10080683              885   NaN        NaN           NaN            NaN\n",
       "2     10028245            84112   G35   24700007  BMG_DS044895            NaN\n",
       "3     10028245             1308   G35   24700007  BMG_DS044895            NaN\n",
       "4     10028245              853   G35   24700007  BMG_DS044895            NaN\n",
       "...        ...              ...   ...        ...           ...            ...\n",
       "8433  10063024          1506553   NaN        NaN           NaN            NaN\n",
       "8434  10063024           142586   NaN        NaN           NaN            NaN\n",
       "8435  10063024            34104   NaN        NaN           NaN            NaN\n",
       "8436  10063028          1407607   NaN  248279007           NaN            NaN\n",
       "8437  10063028            29523   NaN  248279007           NaN            NaN\n",
       "\n",
       "[8438 rows x 6 columns]"
      ]
     },
     "execution_count": 10,
     "metadata": {},
     "output_type": "execute_result"
    }
   ],
   "source": [
    "snomedct_individualid = biomedgraphica_disease[['SNOMEDCT_ID', 'BioMedGraphica_ID']]\n",
    "snomedct_individualid.dropna(subset=['SNOMEDCT_ID'], inplace=True)\n",
    "snomedct_individualid = snomedct_individualid.assign(SNOMEDCT_ID=snomedct_individualid['SNOMEDCT_ID'].str.split(';')).explode('SNOMEDCT_ID')\n",
    "snomedct_to_individualid = snomedct_individualid.groupby('SNOMEDCT_ID')['BioMedGraphica_ID'].apply(lambda x: ';'.join(x.dropna().unique())).to_dict()\n",
    "\n",
    "disbiome['To_ID_SNOMEDCT'] = disbiome['snomed_id'].map(snomedct_to_individualid)\n",
    "disbiome"
   ]
  },
  {
   "cell_type": "markdown",
   "metadata": {},
   "source": [
    "NCBI Taxonomy ID"
   ]
  },
  {
   "cell_type": "code",
   "execution_count": 11,
   "metadata": {},
   "outputs": [
    {
     "name": "stderr",
     "output_type": "stream",
     "text": [
      "C:\\Users\\shunn\\AppData\\Local\\Temp\\ipykernel_36420\\3329235251.py:2: SettingWithCopyWarning: \n",
      "A value is trying to be set on a copy of a slice from a DataFrame\n",
      "\n",
      "See the caveats in the documentation: https://pandas.pydata.org/pandas-docs/stable/user_guide/indexing.html#returning-a-view-versus-a-copy\n",
      "  ncbi_taxonid_individualid.dropna(subset=['NCBI_Taxonomy_ID'], inplace=True)\n"
     ]
    },
    {
     "data": {
      "application/vnd.microsoft.datawrangler.viewer.v0+json": {
       "columns": [
        {
         "name": "index",
         "rawType": "int64",
         "type": "integer"
        },
        {
         "name": "meddra_id",
         "rawType": "object",
         "type": "unknown"
        },
        {
         "name": "organism_ncbi_id",
         "rawType": "object",
         "type": "string"
        },
        {
         "name": "icd10",
         "rawType": "object",
         "type": "unknown"
        },
        {
         "name": "snomed_id",
         "rawType": "object",
         "type": "unknown"
        },
        {
         "name": "To_ID_ICD10",
         "rawType": "object",
         "type": "unknown"
        },
        {
         "name": "To_ID_SNOMEDCT",
         "rawType": "object",
         "type": "unknown"
        },
        {
         "name": "From_ID",
         "rawType": "object",
         "type": "unknown"
        }
       ],
       "conversionMethod": "pd.DataFrame",
       "ref": "128f089a-e291-4cee-bac4-b9329d23644c",
       "rows": [
        [
         "0",
         "10080683",
         "1591",
         null,
         null,
         null,
         null,
         "BMG_MC205932"
        ],
        [
         "1",
         "10080683",
         "885",
         null,
         null,
         null,
         null,
         "BMG_MC598541"
        ],
        [
         "2",
         "10028245",
         "84112",
         "G35",
         "24700007",
         "BMG_DS044895",
         null,
         "BMG_MC588851"
        ],
        [
         "3",
         "10028245",
         "1308",
         "G35",
         "24700007",
         "BMG_DS044895",
         null,
         "BMG_MC099927"
        ],
        [
         "4",
         "10028245",
         "853",
         "G35",
         "24700007",
         "BMG_DS044895",
         null,
         "BMG_MC589185"
        ],
        [
         "5",
         "10028245",
         "649756",
         "G35",
         "24700007",
         "BMG_DS044895",
         null,
         "BMG_MC553746"
        ],
        [
         "6",
         "10028245",
         "39491",
         "G35",
         "24700007",
         "BMG_DS044895",
         null,
         "BMG_MC474967"
        ],
        [
         "7",
         "10028245",
         "1506",
         "G35",
         "24700007",
         "BMG_DS044895",
         null,
         "BMG_MC178635"
        ],
        [
         "8",
         "10028245",
         "46506",
         "G35",
         "24700007",
         "BMG_DS044895",
         null,
         "BMG_MC499692"
        ],
        [
         "9",
         "10028245",
         "310298",
         "G35",
         "24700007",
         "BMG_DS044895",
         null,
         "BMG_MC427918"
        ],
        [
         "10",
         "10028245",
         "706562",
         "G35",
         "24700007",
         "BMG_DS044895",
         null,
         "BMG_MC571478"
        ],
        [
         "11",
         "10028245",
         "28052",
         "G35",
         "24700007",
         "BMG_DS044895",
         null,
         "BMG_MC382772"
        ],
        [
         "12",
         "10028245",
         "841",
         "G35",
         "24700007",
         "BMG_DS044895",
         null,
         "BMG_MC588845"
        ],
        [
         "13",
         "10028245",
         "40545",
         "G35",
         "24700007",
         "BMG_DS044895",
         null,
         "BMG_MC478924"
        ],
        [
         "14",
         "10028245",
         "387090",
         "G35",
         "24700007",
         "BMG_DS044895",
         null,
         "BMG_MC472101"
        ],
        [
         "15",
         "10028245",
         "41211",
         "G35",
         "24700007",
         "BMG_DS044895",
         null,
         "BMG_MC481812"
        ],
        [
         "16",
         "10028245",
         "165179",
         "G35",
         "24700007",
         "BMG_DS044895",
         null,
         "BMG_MC224942"
        ],
        [
         "17",
         "10028245",
         "437897",
         "G35",
         "24700007",
         "BMG_DS044895",
         null,
         "BMG_MC490922"
        ],
        [
         "18",
         "10011401",
         "853",
         "K50;K50.8;K50.9",
         "34000006",
         null,
         null,
         "BMG_MC589185"
        ],
        [
         "19",
         "10011401",
         "33038",
         "K50;K50.8;K50.9",
         "34000006",
         null,
         null,
         "BMG_MC447115"
        ],
        [
         "20",
         "10011401",
         "218538",
         "K50;K50.8;K50.9",
         "34000006",
         null,
         null,
         "BMG_MC331588"
        ],
        [
         "21",
         "10011401",
         "1680",
         "K50;K50.8;K50.9",
         "34000006",
         null,
         null,
         "BMG_MC232158"
        ],
        [
         "22",
         "10011401",
         "33033",
         "K50;K50.8;K50.9",
         "34000006",
         null,
         null,
         "BMG_MC447110"
        ],
        [
         "23",
         "10011401",
         "28132",
         "K50;K50.8;K50.9",
         "34000006",
         null,
         null,
         "BMG_MC383744"
        ],
        [
         "24",
         "10011401",
         "1261",
         "K50;K50.8;K50.9",
         "34000006",
         null,
         null,
         "BMG_MC081027"
        ],
        [
         "25",
         "10011401",
         "1280",
         "K50;K50.8;K50.9",
         "34000006",
         null,
         null,
         "BMG_MC088814"
        ],
        [
         "26",
         "10011401",
         "1328",
         "K50;K50.8;K50.9",
         "34000006",
         null,
         null,
         "BMG_MC108722"
        ],
        [
         "27",
         "10011401",
         "1309",
         "K50;K50.8;K50.9",
         "34000006",
         null,
         null,
         "BMG_MC100324"
        ],
        [
         "28",
         "10011401",
         "827",
         "K50;K50.8;K50.9",
         "34000006",
         null,
         null,
         "BMG_MC588382"
        ],
        [
         "29",
         "10011401",
         "824",
         "K50;K50.8;K50.9",
         "34000006",
         null,
         null,
         "BMG_MC588315"
        ],
        [
         "30",
         "10011401",
         "1338",
         "K50;K50.8;K50.9",
         "34000006",
         null,
         null,
         "BMG_MC111970"
        ],
        [
         "31",
         "10009900",
         "33033",
         null,
         "64766004",
         null,
         "BMG_DS052277",
         "BMG_MC447110"
        ],
        [
         "32",
         "10009900",
         "1261",
         null,
         "64766004",
         null,
         "BMG_DS052277",
         "BMG_MC081027"
        ],
        [
         "33",
         "10009900",
         "1280",
         null,
         "64766004",
         null,
         "BMG_DS052277",
         "BMG_MC088814"
        ],
        [
         "34",
         "10009900",
         "1328",
         null,
         "64766004",
         null,
         "BMG_DS052277",
         "BMG_MC108722"
        ],
        [
         "35",
         "10009900",
         "28037",
         null,
         "64766004",
         null,
         "BMG_DS052277",
         "BMG_MC382250"
        ],
        [
         "36",
         "10023003",
         "41200",
         "K58;K58.3;K58.8",
         "10743008",
         null,
         null,
         "BMG_MC481777"
        ],
        [
         "37",
         "10023003",
         "33035",
         "K58;K58.3;K58.8",
         "10743008",
         null,
         null,
         "BMG_MC447112"
        ],
        [
         "38",
         "10023003",
         "29465",
         "K58;K58.3;K58.8",
         "10743008",
         null,
         null,
         "BMG_MC403050"
        ],
        [
         "39",
         "10023003",
         "29523",
         "K58;K58.3;K58.8",
         "10743008",
         null,
         null,
         "BMG_MC404182"
        ],
        [
         "40",
         "10023003",
         "287",
         "K58;K58.3;K58.8",
         "10743008",
         null,
         null,
         "BMG_MC392238"
        ],
        [
         "41",
         "10019641",
         "1686",
         null,
         "19943007",
         null,
         "BMG_DS000640",
         "BMG_MC234571"
        ],
        [
         "42",
         "10019641",
         "216816",
         null,
         "19943007",
         null,
         "BMG_DS000640",
         "BMG_MC329895"
        ],
        [
         "43",
         "10019641",
         "1689",
         null,
         "19943007",
         null,
         "BMG_DS000640",
         "BMG_MC234983"
        ],
        [
         "44",
         "10019641",
         "35783",
         null,
         "19943007",
         null,
         "BMG_DS000640",
         "BMG_MC462286"
        ],
        [
         "45",
         "10019641",
         "42895",
         null,
         "19943007",
         null,
         "BMG_DS000640",
         "BMG_MC487692"
        ],
        [
         "46",
         "10019641",
         "41200",
         null,
         "19943007",
         null,
         "BMG_DS000640",
         "BMG_MC481777"
        ],
        [
         "47",
         "10019641",
         "1506",
         null,
         "19943007",
         null,
         "BMG_DS000640",
         "BMG_MC178635"
        ],
        [
         "48",
         "10067585",
         "59823",
         "E11",
         "44054006",
         "BMG_DS061242",
         null,
         "BMG_MC543919"
        ],
        [
         "49",
         "10067585",
         "841",
         "E11",
         "44054006",
         "BMG_DS061242",
         null,
         "BMG_MC588845"
        ]
       ],
       "shape": {
        "columns": 7,
        "rows": 8438
       }
      },
      "text/html": [
       "<div>\n",
       "<style scoped>\n",
       "    .dataframe tbody tr th:only-of-type {\n",
       "        vertical-align: middle;\n",
       "    }\n",
       "\n",
       "    .dataframe tbody tr th {\n",
       "        vertical-align: top;\n",
       "    }\n",
       "\n",
       "    .dataframe thead th {\n",
       "        text-align: right;\n",
       "    }\n",
       "</style>\n",
       "<table border=\"1\" class=\"dataframe\">\n",
       "  <thead>\n",
       "    <tr style=\"text-align: right;\">\n",
       "      <th></th>\n",
       "      <th>meddra_id</th>\n",
       "      <th>organism_ncbi_id</th>\n",
       "      <th>icd10</th>\n",
       "      <th>snomed_id</th>\n",
       "      <th>To_ID_ICD10</th>\n",
       "      <th>To_ID_SNOMEDCT</th>\n",
       "      <th>From_ID</th>\n",
       "    </tr>\n",
       "  </thead>\n",
       "  <tbody>\n",
       "    <tr>\n",
       "      <th>0</th>\n",
       "      <td>10080683</td>\n",
       "      <td>1591</td>\n",
       "      <td>NaN</td>\n",
       "      <td>NaN</td>\n",
       "      <td>NaN</td>\n",
       "      <td>NaN</td>\n",
       "      <td>BMG_MC205932</td>\n",
       "    </tr>\n",
       "    <tr>\n",
       "      <th>1</th>\n",
       "      <td>10080683</td>\n",
       "      <td>885</td>\n",
       "      <td>NaN</td>\n",
       "      <td>NaN</td>\n",
       "      <td>NaN</td>\n",
       "      <td>NaN</td>\n",
       "      <td>BMG_MC598541</td>\n",
       "    </tr>\n",
       "    <tr>\n",
       "      <th>2</th>\n",
       "      <td>10028245</td>\n",
       "      <td>84112</td>\n",
       "      <td>G35</td>\n",
       "      <td>24700007</td>\n",
       "      <td>BMG_DS044895</td>\n",
       "      <td>NaN</td>\n",
       "      <td>BMG_MC588851</td>\n",
       "    </tr>\n",
       "    <tr>\n",
       "      <th>3</th>\n",
       "      <td>10028245</td>\n",
       "      <td>1308</td>\n",
       "      <td>G35</td>\n",
       "      <td>24700007</td>\n",
       "      <td>BMG_DS044895</td>\n",
       "      <td>NaN</td>\n",
       "      <td>BMG_MC099927</td>\n",
       "    </tr>\n",
       "    <tr>\n",
       "      <th>4</th>\n",
       "      <td>10028245</td>\n",
       "      <td>853</td>\n",
       "      <td>G35</td>\n",
       "      <td>24700007</td>\n",
       "      <td>BMG_DS044895</td>\n",
       "      <td>NaN</td>\n",
       "      <td>BMG_MC589185</td>\n",
       "    </tr>\n",
       "    <tr>\n",
       "      <th>...</th>\n",
       "      <td>...</td>\n",
       "      <td>...</td>\n",
       "      <td>...</td>\n",
       "      <td>...</td>\n",
       "      <td>...</td>\n",
       "      <td>...</td>\n",
       "      <td>...</td>\n",
       "    </tr>\n",
       "    <tr>\n",
       "      <th>8433</th>\n",
       "      <td>10063024</td>\n",
       "      <td>1506553</td>\n",
       "      <td>NaN</td>\n",
       "      <td>NaN</td>\n",
       "      <td>NaN</td>\n",
       "      <td>NaN</td>\n",
       "      <td>BMG_MC178783</td>\n",
       "    </tr>\n",
       "    <tr>\n",
       "      <th>8434</th>\n",
       "      <td>10063024</td>\n",
       "      <td>142586</td>\n",
       "      <td>NaN</td>\n",
       "      <td>NaN</td>\n",
       "      <td>NaN</td>\n",
       "      <td>NaN</td>\n",
       "      <td>BMG_MC147967</td>\n",
       "    </tr>\n",
       "    <tr>\n",
       "      <th>8435</th>\n",
       "      <td>10063024</td>\n",
       "      <td>34104</td>\n",
       "      <td>NaN</td>\n",
       "      <td>NaN</td>\n",
       "      <td>NaN</td>\n",
       "      <td>NaN</td>\n",
       "      <td>BMG_MC457661</td>\n",
       "    </tr>\n",
       "    <tr>\n",
       "      <th>8436</th>\n",
       "      <td>10063028</td>\n",
       "      <td>1407607</td>\n",
       "      <td>NaN</td>\n",
       "      <td>248279007</td>\n",
       "      <td>NaN</td>\n",
       "      <td>NaN</td>\n",
       "      <td>BMG_MC139842</td>\n",
       "    </tr>\n",
       "    <tr>\n",
       "      <th>8437</th>\n",
       "      <td>10063028</td>\n",
       "      <td>29523</td>\n",
       "      <td>NaN</td>\n",
       "      <td>248279007</td>\n",
       "      <td>NaN</td>\n",
       "      <td>NaN</td>\n",
       "      <td>BMG_MC404182</td>\n",
       "    </tr>\n",
       "  </tbody>\n",
       "</table>\n",
       "<p>8438 rows × 7 columns</p>\n",
       "</div>"
      ],
      "text/plain": [
       "     meddra_id organism_ncbi_id icd10  snomed_id   To_ID_ICD10 To_ID_SNOMEDCT  \\\n",
       "0     10080683             1591   NaN        NaN           NaN            NaN   \n",
       "1     10080683              885   NaN        NaN           NaN            NaN   \n",
       "2     10028245            84112   G35   24700007  BMG_DS044895            NaN   \n",
       "3     10028245             1308   G35   24700007  BMG_DS044895            NaN   \n",
       "4     10028245              853   G35   24700007  BMG_DS044895            NaN   \n",
       "...        ...              ...   ...        ...           ...            ...   \n",
       "8433  10063024          1506553   NaN        NaN           NaN            NaN   \n",
       "8434  10063024           142586   NaN        NaN           NaN            NaN   \n",
       "8435  10063024            34104   NaN        NaN           NaN            NaN   \n",
       "8436  10063028          1407607   NaN  248279007           NaN            NaN   \n",
       "8437  10063028            29523   NaN  248279007           NaN            NaN   \n",
       "\n",
       "           From_ID  \n",
       "0     BMG_MC205932  \n",
       "1     BMG_MC598541  \n",
       "2     BMG_MC588851  \n",
       "3     BMG_MC099927  \n",
       "4     BMG_MC589185  \n",
       "...            ...  \n",
       "8433  BMG_MC178783  \n",
       "8434  BMG_MC147967  \n",
       "8435  BMG_MC457661  \n",
       "8436  BMG_MC139842  \n",
       "8437  BMG_MC404182  \n",
       "\n",
       "[8438 rows x 7 columns]"
      ]
     },
     "execution_count": 11,
     "metadata": {},
     "output_type": "execute_result"
    }
   ],
   "source": [
    "ncbi_taxonid_individualid = biomedgraphica_microbiota[['NCBI_Taxonomy_ID', 'BioMedGraphica_ID']]\n",
    "ncbi_taxonid_individualid.dropna(subset=['NCBI_Taxonomy_ID'], inplace=True)\n",
    "ncbi_taxonid_individualid = ncbi_taxonid_individualid.assign(NCBI_Taxonomy_ID=ncbi_taxonid_individualid['NCBI_Taxonomy_ID'].str.split(';')).explode('NCBI_Taxonomy_ID')\n",
    "ncbi_taxonid_to_individualid = ncbi_taxonid_individualid.groupby('NCBI_Taxonomy_ID')['BioMedGraphica_ID'].apply(lambda x: ';'.join(x.dropna().unique())).to_dict()\n",
    "\n",
    "disbiome['From_ID'] = disbiome['organism_ncbi_id'].map(ncbi_taxonid_to_individualid)\n",
    "disbiome"
   ]
  },
  {
   "cell_type": "code",
   "execution_count": 12,
   "metadata": {},
   "outputs": [
    {
     "data": {
      "application/vnd.microsoft.datawrangler.viewer.v0+json": {
       "columns": [
        {
         "name": "index",
         "rawType": "int64",
         "type": "integer"
        },
        {
         "name": "From_ID",
         "rawType": "object",
         "type": "unknown"
        },
        {
         "name": "To_ID",
         "rawType": "object",
         "type": "unknown"
        }
       ],
       "conversionMethod": "pd.DataFrame",
       "ref": "4bff800b-1ce7-49fb-996d-e5b47465645f",
       "rows": [
        [
         "0",
         "BMG_MC205932",
         null
        ],
        [
         "1",
         "BMG_MC598541",
         null
        ],
        [
         "2",
         "BMG_MC588851",
         "BMG_DS044895"
        ],
        [
         "3",
         "BMG_MC099927",
         "BMG_DS044895"
        ],
        [
         "4",
         "BMG_MC589185",
         "BMG_DS044895"
        ],
        [
         "5",
         "BMG_MC553746",
         "BMG_DS044895"
        ],
        [
         "6",
         "BMG_MC474967",
         "BMG_DS044895"
        ],
        [
         "7",
         "BMG_MC178635",
         "BMG_DS044895"
        ],
        [
         "8",
         "BMG_MC499692",
         "BMG_DS044895"
        ],
        [
         "9",
         "BMG_MC427918",
         "BMG_DS044895"
        ],
        [
         "10",
         "BMG_MC571478",
         "BMG_DS044895"
        ],
        [
         "11",
         "BMG_MC382772",
         "BMG_DS044895"
        ],
        [
         "12",
         "BMG_MC588845",
         "BMG_DS044895"
        ],
        [
         "13",
         "BMG_MC478924",
         "BMG_DS044895"
        ],
        [
         "14",
         "BMG_MC472101",
         "BMG_DS044895"
        ],
        [
         "15",
         "BMG_MC481812",
         "BMG_DS044895"
        ],
        [
         "16",
         "BMG_MC224942",
         "BMG_DS044895"
        ],
        [
         "17",
         "BMG_MC490922",
         "BMG_DS044895"
        ],
        [
         "18",
         "BMG_MC589185",
         null
        ],
        [
         "19",
         "BMG_MC447115",
         null
        ],
        [
         "20",
         "BMG_MC331588",
         null
        ],
        [
         "21",
         "BMG_MC232158",
         null
        ],
        [
         "22",
         "BMG_MC447110",
         null
        ],
        [
         "23",
         "BMG_MC383744",
         null
        ],
        [
         "24",
         "BMG_MC081027",
         null
        ],
        [
         "25",
         "BMG_MC088814",
         null
        ],
        [
         "26",
         "BMG_MC108722",
         null
        ],
        [
         "27",
         "BMG_MC100324",
         null
        ],
        [
         "28",
         "BMG_MC588382",
         null
        ],
        [
         "29",
         "BMG_MC588315",
         null
        ],
        [
         "30",
         "BMG_MC111970",
         null
        ],
        [
         "31",
         "BMG_MC447110",
         "BMG_DS052277"
        ],
        [
         "32",
         "BMG_MC081027",
         "BMG_DS052277"
        ],
        [
         "33",
         "BMG_MC088814",
         "BMG_DS052277"
        ],
        [
         "34",
         "BMG_MC108722",
         "BMG_DS052277"
        ],
        [
         "35",
         "BMG_MC382250",
         "BMG_DS052277"
        ],
        [
         "36",
         "BMG_MC481777",
         null
        ],
        [
         "37",
         "BMG_MC447112",
         null
        ],
        [
         "38",
         "BMG_MC403050",
         null
        ],
        [
         "39",
         "BMG_MC404182",
         null
        ],
        [
         "40",
         "BMG_MC392238",
         null
        ],
        [
         "41",
         "BMG_MC234571",
         "BMG_DS000640"
        ],
        [
         "42",
         "BMG_MC329895",
         "BMG_DS000640"
        ],
        [
         "43",
         "BMG_MC234983",
         "BMG_DS000640"
        ],
        [
         "44",
         "BMG_MC462286",
         "BMG_DS000640"
        ],
        [
         "45",
         "BMG_MC487692",
         "BMG_DS000640"
        ],
        [
         "46",
         "BMG_MC481777",
         "BMG_DS000640"
        ],
        [
         "47",
         "BMG_MC178635",
         "BMG_DS000640"
        ],
        [
         "48",
         "BMG_MC543919",
         "BMG_DS061242"
        ],
        [
         "49",
         "BMG_MC588845",
         "BMG_DS061242"
        ]
       ],
       "shape": {
        "columns": 2,
        "rows": 8438
       }
      },
      "text/html": [
       "<div>\n",
       "<style scoped>\n",
       "    .dataframe tbody tr th:only-of-type {\n",
       "        vertical-align: middle;\n",
       "    }\n",
       "\n",
       "    .dataframe tbody tr th {\n",
       "        vertical-align: top;\n",
       "    }\n",
       "\n",
       "    .dataframe thead th {\n",
       "        text-align: right;\n",
       "    }\n",
       "</style>\n",
       "<table border=\"1\" class=\"dataframe\">\n",
       "  <thead>\n",
       "    <tr style=\"text-align: right;\">\n",
       "      <th></th>\n",
       "      <th>From_ID</th>\n",
       "      <th>To_ID</th>\n",
       "    </tr>\n",
       "  </thead>\n",
       "  <tbody>\n",
       "    <tr>\n",
       "      <th>0</th>\n",
       "      <td>BMG_MC205932</td>\n",
       "      <td>&lt;NA&gt;</td>\n",
       "    </tr>\n",
       "    <tr>\n",
       "      <th>1</th>\n",
       "      <td>BMG_MC598541</td>\n",
       "      <td>&lt;NA&gt;</td>\n",
       "    </tr>\n",
       "    <tr>\n",
       "      <th>2</th>\n",
       "      <td>BMG_MC588851</td>\n",
       "      <td>BMG_DS044895</td>\n",
       "    </tr>\n",
       "    <tr>\n",
       "      <th>3</th>\n",
       "      <td>BMG_MC099927</td>\n",
       "      <td>BMG_DS044895</td>\n",
       "    </tr>\n",
       "    <tr>\n",
       "      <th>4</th>\n",
       "      <td>BMG_MC589185</td>\n",
       "      <td>BMG_DS044895</td>\n",
       "    </tr>\n",
       "    <tr>\n",
       "      <th>...</th>\n",
       "      <td>...</td>\n",
       "      <td>...</td>\n",
       "    </tr>\n",
       "    <tr>\n",
       "      <th>8433</th>\n",
       "      <td>BMG_MC178783</td>\n",
       "      <td>&lt;NA&gt;</td>\n",
       "    </tr>\n",
       "    <tr>\n",
       "      <th>8434</th>\n",
       "      <td>BMG_MC147967</td>\n",
       "      <td>&lt;NA&gt;</td>\n",
       "    </tr>\n",
       "    <tr>\n",
       "      <th>8435</th>\n",
       "      <td>BMG_MC457661</td>\n",
       "      <td>&lt;NA&gt;</td>\n",
       "    </tr>\n",
       "    <tr>\n",
       "      <th>8436</th>\n",
       "      <td>BMG_MC139842</td>\n",
       "      <td>&lt;NA&gt;</td>\n",
       "    </tr>\n",
       "    <tr>\n",
       "      <th>8437</th>\n",
       "      <td>BMG_MC404182</td>\n",
       "      <td>&lt;NA&gt;</td>\n",
       "    </tr>\n",
       "  </tbody>\n",
       "</table>\n",
       "<p>8438 rows × 2 columns</p>\n",
       "</div>"
      ],
      "text/plain": [
       "           From_ID         To_ID\n",
       "0     BMG_MC205932          <NA>\n",
       "1     BMG_MC598541          <NA>\n",
       "2     BMG_MC588851  BMG_DS044895\n",
       "3     BMG_MC099927  BMG_DS044895\n",
       "4     BMG_MC589185  BMG_DS044895\n",
       "...            ...           ...\n",
       "8433  BMG_MC178783          <NA>\n",
       "8434  BMG_MC147967          <NA>\n",
       "8435  BMG_MC457661          <NA>\n",
       "8436  BMG_MC139842          <NA>\n",
       "8437  BMG_MC404182          <NA>\n",
       "\n",
       "[8438 rows x 2 columns]"
      ]
     },
     "execution_count": 12,
     "metadata": {},
     "output_type": "execute_result"
    }
   ],
   "source": [
    "def merge_string_columns(df, columns, merge_name, separator=';'):\n",
    "    def merge_strings(row):\n",
    "        combined = set()\n",
    "        for column in columns:\n",
    "            if pd.notnull(row[column]):\n",
    "                combined.update(row[column].split(separator))\n",
    "        return separator.join(combined)\n",
    "    \n",
    "    # Apply the function to each row and create a new column\n",
    "    combined_column_name = merge_name\n",
    "    df[combined_column_name] = df.apply(merge_strings, axis=1)\n",
    "    df.drop(columns=columns, inplace=True)\n",
    "    \n",
    "    return df\n",
    "\n",
    "disbiome_micro_disease = merge_string_columns(disbiome,['To_ID_ICD10', 'To_ID_SNOMEDCT'], 'To_ID')\n",
    "disbiome_micro_disease = disbiome_micro_disease[['From_ID', 'To_ID']]\n",
    "disbiome_micro_disease = disbiome_micro_disease.replace('',pd.NA)\n",
    "disbiome_micro_disease"
   ]
  },
  {
   "cell_type": "markdown",
   "metadata": {},
   "source": [
    "Disbiome Final"
   ]
  },
  {
   "cell_type": "code",
   "execution_count": 13,
   "metadata": {},
   "outputs": [
    {
     "name": "stdout",
     "output_type": "stream",
     "text": [
      "<class 'pandas.core.frame.DataFrame'>\n",
      "Index: 3521 entries, 2 to 8419\n",
      "Data columns (total 2 columns):\n",
      " #   Column   Non-Null Count  Dtype \n",
      "---  ------   --------------  ----- \n",
      " 0   From_ID  3521 non-null   object\n",
      " 1   To_ID    3521 non-null   object\n",
      "dtypes: object(2)\n",
      "memory usage: 82.5+ KB\n"
     ]
    },
    {
     "name": "stderr",
     "output_type": "stream",
     "text": [
      "C:\\Users\\shunn\\AppData\\Local\\Temp\\ipykernel_36420\\891775120.py:1: FutureWarning: A value is trying to be set on a copy of a DataFrame or Series through chained assignment using an inplace method.\n",
      "The behavior will change in pandas 3.0. This inplace method will never work because the intermediate object on which we are setting values always behaves as a copy.\n",
      "\n",
      "For example, when doing 'df[col].method(value, inplace=True)', try using 'df.method({col: value}, inplace=True)' or df[col] = df[col].method(value) instead, to perform the operation inplace on the original object.\n",
      "\n",
      "\n",
      "  disbiome_micro_disease['From_ID'].replace('', pd.NA, inplace=True)\n",
      "C:\\Users\\shunn\\AppData\\Local\\Temp\\ipykernel_36420\\891775120.py:2: FutureWarning: A value is trying to be set on a copy of a DataFrame or Series through chained assignment using an inplace method.\n",
      "The behavior will change in pandas 3.0. This inplace method will never work because the intermediate object on which we are setting values always behaves as a copy.\n",
      "\n",
      "For example, when doing 'df[col].method(value, inplace=True)', try using 'df.method({col: value}, inplace=True)' or df[col] = df[col].method(value) instead, to perform the operation inplace on the original object.\n",
      "\n",
      "\n",
      "  disbiome_micro_disease['To_ID'].replace('', pd.NA, inplace=True)\n"
     ]
    }
   ],
   "source": [
    "disbiome_micro_disease['From_ID'].replace('', pd.NA, inplace=True)\n",
    "disbiome_micro_disease['To_ID'].replace('', pd.NA, inplace=True)\n",
    "disbiome_micro_disease.dropna(subset=['From_ID'], inplace=True)\n",
    "disbiome_micro_disease.dropna(subset=['To_ID'], inplace=True)\n",
    "disbiome_micro_disease.info()"
   ]
  },
  {
   "cell_type": "code",
   "execution_count": 14,
   "metadata": {},
   "outputs": [
    {
     "data": {
      "application/vnd.microsoft.datawrangler.viewer.v0+json": {
       "columns": [
        {
         "name": "index",
         "rawType": "int64",
         "type": "integer"
        },
        {
         "name": "From_ID",
         "rawType": "object",
         "type": "string"
        },
        {
         "name": "To_ID",
         "rawType": "object",
         "type": "string"
        }
       ],
       "conversionMethod": "pd.DataFrame",
       "ref": "d88022e4-f6d4-4b9f-a277-0beb15abedd6",
       "rows": [
        [
         "2",
         "BMG_MC588851",
         "BMG_DS044895"
        ],
        [
         "3",
         "BMG_MC099927",
         "BMG_DS044895"
        ],
        [
         "4",
         "BMG_MC589185",
         "BMG_DS044895"
        ],
        [
         "5",
         "BMG_MC553746",
         "BMG_DS044895"
        ],
        [
         "6",
         "BMG_MC474967",
         "BMG_DS044895"
        ],
        [
         "7",
         "BMG_MC178635",
         "BMG_DS044895"
        ],
        [
         "8",
         "BMG_MC499692",
         "BMG_DS044895"
        ],
        [
         "9",
         "BMG_MC427918",
         "BMG_DS044895"
        ],
        [
         "10",
         "BMG_MC571478",
         "BMG_DS044895"
        ],
        [
         "11",
         "BMG_MC382772",
         "BMG_DS044895"
        ],
        [
         "12",
         "BMG_MC588845",
         "BMG_DS044895"
        ],
        [
         "13",
         "BMG_MC478924",
         "BMG_DS044895"
        ],
        [
         "14",
         "BMG_MC472101",
         "BMG_DS044895"
        ],
        [
         "15",
         "BMG_MC481812",
         "BMG_DS044895"
        ],
        [
         "16",
         "BMG_MC224942",
         "BMG_DS044895"
        ],
        [
         "17",
         "BMG_MC490922",
         "BMG_DS044895"
        ],
        [
         "31",
         "BMG_MC447110",
         "BMG_DS052277"
        ],
        [
         "32",
         "BMG_MC081027",
         "BMG_DS052277"
        ],
        [
         "33",
         "BMG_MC088814",
         "BMG_DS052277"
        ],
        [
         "34",
         "BMG_MC108722",
         "BMG_DS052277"
        ],
        [
         "35",
         "BMG_MC382250",
         "BMG_DS052277"
        ],
        [
         "41",
         "BMG_MC234571",
         "BMG_DS000640"
        ],
        [
         "42",
         "BMG_MC329895",
         "BMG_DS000640"
        ],
        [
         "43",
         "BMG_MC234983",
         "BMG_DS000640"
        ],
        [
         "44",
         "BMG_MC462286",
         "BMG_DS000640"
        ],
        [
         "45",
         "BMG_MC487692",
         "BMG_DS000640"
        ],
        [
         "46",
         "BMG_MC481777",
         "BMG_DS000640"
        ],
        [
         "47",
         "BMG_MC178635",
         "BMG_DS000640"
        ],
        [
         "48",
         "BMG_MC543919",
         "BMG_DS061242"
        ],
        [
         "49",
         "BMG_MC588845",
         "BMG_DS061242"
        ],
        [
         "50",
         "BMG_MC342058",
         "BMG_DS061242"
        ],
        [
         "51",
         "BMG_MC446844",
         "BMG_DS061242"
        ],
        [
         "52",
         "BMG_MC325176",
         "BMG_DS061242"
        ],
        [
         "53",
         "BMG_MC190088",
         "BMG_DS061242"
        ],
        [
         "54",
         "BMG_MC192507",
         "BMG_DS061242"
        ],
        [
         "55",
         "BMG_MC180958",
         "BMG_DS061242"
        ],
        [
         "56",
         "BMG_MC588851",
         "BMG_DS061242"
        ],
        [
         "57",
         "BMG_MC532241",
         "BMG_DS061242"
        ],
        [
         "58",
         "BMG_MC341902",
         "BMG_DS061242"
        ],
        [
         "59",
         "BMG_MC288554",
         "BMG_DS061242"
        ],
        [
         "60",
         "BMG_MC399870",
         "BMG_DS061242"
        ],
        [
         "61",
         "BMG_MC288003",
         "BMG_DS061242"
        ],
        [
         "62",
         "BMG_MC474967",
         "BMG_DS061242"
        ],
        [
         "63",
         "BMG_MC589185",
         "BMG_DS061242"
        ],
        [
         "64",
         "BMG_MC577438",
         "BMG_DS061242"
        ],
        [
         "65",
         "BMG_MC228034",
         "BMG_DS061242"
        ],
        [
         "66",
         "BMG_MC463633",
         "BMG_DS061242"
        ],
        [
         "67",
         "BMG_MC147967",
         "BMG_DS061242"
        ],
        [
         "68",
         "BMG_MC092131",
         "BMG_DS061242"
        ],
        [
         "69",
         "BMG_MC588239",
         "BMG_DS002200"
        ]
       ],
       "shape": {
        "columns": 2,
        "rows": 4362
       }
      },
      "text/html": [
       "<div>\n",
       "<style scoped>\n",
       "    .dataframe tbody tr th:only-of-type {\n",
       "        vertical-align: middle;\n",
       "    }\n",
       "\n",
       "    .dataframe tbody tr th {\n",
       "        vertical-align: top;\n",
       "    }\n",
       "\n",
       "    .dataframe thead th {\n",
       "        text-align: right;\n",
       "    }\n",
       "</style>\n",
       "<table border=\"1\" class=\"dataframe\">\n",
       "  <thead>\n",
       "    <tr style=\"text-align: right;\">\n",
       "      <th></th>\n",
       "      <th>From_ID</th>\n",
       "      <th>To_ID</th>\n",
       "    </tr>\n",
       "  </thead>\n",
       "  <tbody>\n",
       "    <tr>\n",
       "      <th>2</th>\n",
       "      <td>BMG_MC588851</td>\n",
       "      <td>BMG_DS044895</td>\n",
       "    </tr>\n",
       "    <tr>\n",
       "      <th>3</th>\n",
       "      <td>BMG_MC099927</td>\n",
       "      <td>BMG_DS044895</td>\n",
       "    </tr>\n",
       "    <tr>\n",
       "      <th>4</th>\n",
       "      <td>BMG_MC589185</td>\n",
       "      <td>BMG_DS044895</td>\n",
       "    </tr>\n",
       "    <tr>\n",
       "      <th>5</th>\n",
       "      <td>BMG_MC553746</td>\n",
       "      <td>BMG_DS044895</td>\n",
       "    </tr>\n",
       "    <tr>\n",
       "      <th>6</th>\n",
       "      <td>BMG_MC474967</td>\n",
       "      <td>BMG_DS044895</td>\n",
       "    </tr>\n",
       "    <tr>\n",
       "      <th>...</th>\n",
       "      <td>...</td>\n",
       "      <td>...</td>\n",
       "    </tr>\n",
       "    <tr>\n",
       "      <th>8393</th>\n",
       "      <td>BMG_MC504562</td>\n",
       "      <td>BMG_DS018976</td>\n",
       "    </tr>\n",
       "    <tr>\n",
       "      <th>8393</th>\n",
       "      <td>BMG_MC504562</td>\n",
       "      <td>BMG_DS083657</td>\n",
       "    </tr>\n",
       "    <tr>\n",
       "      <th>8394</th>\n",
       "      <td>BMG_MC067867</td>\n",
       "      <td>BMG_DS018976</td>\n",
       "    </tr>\n",
       "    <tr>\n",
       "      <th>8394</th>\n",
       "      <td>BMG_MC067867</td>\n",
       "      <td>BMG_DS083657</td>\n",
       "    </tr>\n",
       "    <tr>\n",
       "      <th>8419</th>\n",
       "      <td>BMG_MC324117</td>\n",
       "      <td>BMG_DS044895</td>\n",
       "    </tr>\n",
       "  </tbody>\n",
       "</table>\n",
       "<p>4362 rows × 2 columns</p>\n",
       "</div>"
      ],
      "text/plain": [
       "           From_ID         To_ID\n",
       "2     BMG_MC588851  BMG_DS044895\n",
       "3     BMG_MC099927  BMG_DS044895\n",
       "4     BMG_MC589185  BMG_DS044895\n",
       "5     BMG_MC553746  BMG_DS044895\n",
       "6     BMG_MC474967  BMG_DS044895\n",
       "...            ...           ...\n",
       "8393  BMG_MC504562  BMG_DS018976\n",
       "8393  BMG_MC504562  BMG_DS083657\n",
       "8394  BMG_MC067867  BMG_DS018976\n",
       "8394  BMG_MC067867  BMG_DS083657\n",
       "8419  BMG_MC324117  BMG_DS044895\n",
       "\n",
       "[4362 rows x 2 columns]"
      ]
     },
     "execution_count": 14,
     "metadata": {},
     "output_type": "execute_result"
    }
   ],
   "source": [
    "disbiome_micro_disease['From_ID'] = disbiome_micro_disease['From_ID'].str.split(';')\n",
    "disbiome_micro_disease['To_ID'] = disbiome_micro_disease['To_ID'].str.split(';')\n",
    "\n",
    "disbiome_micro_disease = disbiome_micro_disease.explode('From_ID')\n",
    "disbiome_micro_disease = disbiome_micro_disease.explode('To_ID')\n",
    "\n",
    "disbiome_micro_disease['From_ID'] = disbiome_micro_disease['From_ID'].str.strip()\n",
    "disbiome_micro_disease['To_ID'] = disbiome_micro_disease['To_ID'].str.strip()\n",
    "disbiome_micro_disease.drop_duplicates(inplace=True)\n",
    "disbiome_micro_disease"
   ]
  },
  {
   "cell_type": "markdown",
   "metadata": {},
   "source": [
    "### HMDAD Mapping"
   ]
  },
  {
   "cell_type": "markdown",
   "metadata": {},
   "source": [
    "Microbiota Name"
   ]
  },
  {
   "cell_type": "code",
   "execution_count": 26,
   "metadata": {},
   "outputs": [],
   "source": [
    "import re\n",
    "\n",
    "def clean_text(s):\n",
    "    if pd.isnull(s):\n",
    "        return ''\n",
    "    return re.sub(r'[^a-zA-Z0-9]', '', str(s)).lower()"
   ]
  },
  {
   "cell_type": "code",
   "execution_count": 27,
   "metadata": {},
   "outputs": [
    {
     "data": {
      "application/vnd.microsoft.datawrangler.viewer.v0+json": {
       "columns": [
        {
         "name": "index",
         "rawType": "int64",
         "type": "integer"
        },
        {
         "name": "Disease",
         "rawType": "object",
         "type": "string"
        },
        {
         "name": "Microbe",
         "rawType": "object",
         "type": "string"
        },
        {
         "name": "BMG_micro",
         "rawType": "object",
         "type": "unknown"
        },
        {
         "name": "Microbe_clean",
         "rawType": "object",
         "type": "string"
        }
       ],
       "conversionMethod": "pd.DataFrame",
       "ref": "ef441eff-90a0-412d-9ecf-3e2302856e61",
       "rows": [
        [
         "0",
         "Colon cancer",
         "Collinsella aerofaciens",
         "BMG_MC578719",
         "collinsellaaerofaciens"
        ],
        [
         "1",
         "Periodontal",
         "Fusobacterium",
         "BMG_MC589030",
         "fusobacterium"
        ],
        [
         "2",
         "Periodontal",
         "Porphyromonas gingivalis",
         "BMG_MC588707",
         "porphyromonasgingivalis"
        ],
        [
         "3",
         "Periodontal",
         "Prevotella",
         "BMG_MC588735",
         "prevotella"
        ],
        [
         "4",
         "Periodontal",
         "Treponema",
         "BMG_MC198110",
         "treponema"
        ],
        [
         "5",
         "Gastric and duodenal ulcer",
         "Helicobacter pylori",
         "BMG_MC325934",
         "helicobacterpylori"
        ],
        [
         "6",
         "Gastro-oesophageal reflux",
         "Helicobacter pylori",
         "BMG_MC325934",
         "helicobacterpylori"
        ],
        [
         "7",
         "Guttate psoriasis",
         "Staphylococcus aureus",
         "BMG_MC088814",
         "staphylococcusaureus"
        ],
        [
         "8",
         "Atopy",
         "Clostridia",
         "BMG_MC287997",
         "clostridia"
        ],
        [
         "9",
         "Diarrhea Irritable bowel syndrome(IBS)",
         "Bifidobacterium",
         "BMG_MC231424",
         "bifidobacterium"
        ],
        [
         "10",
         "Irritable bowel syndrome(IBS)",
         "Bifidobacterium catenulatum",
         "BMG_MC234571",
         "bifidobacteriumcatenulatum"
        ],
        [
         "11",
         "Irritable bowel syndrome(IBS)",
         "Clostridium coccoides",
         null,
         "clostridiumcoccoides"
        ],
        [
         "12",
         "Diarrhea Irritable bowel syndrome(IBS)",
         "Desulfovibrio",
         "BMG_MC595019",
         "desulfovibrio"
        ],
        [
         "13",
         "Irritable bowel syndrome(IBS)",
         "Ruminococcus productus",
         null,
         "ruminococcusproductus"
        ],
        [
         "14",
         "Constipation Irritable bowel syndrome(IBS)",
         "Veillonella",
         "BMG_MC403050",
         "veillonella"
        ],
        [
         "15",
         "Obesity",
         "Bacteroidetes",
         null,
         "bacteroidetes"
        ],
        [
         "16",
         "Obesity",
         "Firmicutes",
         null,
         "firmicutes"
        ],
        [
         "17",
         "Ileal Crohn's disease(CD)",
         "Bacteroides fragilis",
         "BMG_MC588177",
         "bacteroidesfragilis"
        ],
        [
         "18",
         "Ileal Crohn's disease(CD)",
         "Clostridium coccoides",
         null,
         "clostridiumcoccoides"
        ],
        [
         "19",
         "Ileal Crohn's disease(CD)",
         "Clostridium leptum",
         "BMG_MC188244",
         "clostridiumleptum"
        ],
        [
         "20",
         "Ileal Crohn's disease(CD)",
         "Prevotella",
         "BMG_MC588735",
         "prevotella"
        ],
        [
         "21",
         "Bacterial Vaginosis",
         "Atopobium",
         "BMG_MC128609",
         "atopobium"
        ],
        [
         "22",
         "Bacterial Vaginosis",
         "Atopobium vaginae",
         null,
         "atopobiumvaginae"
        ],
        [
         "23",
         "Bacterial Vaginosis",
         "Clostridiales",
         null,
         "clostridiales"
        ],
        [
         "24",
         "Bacterial Vaginosis",
         "Eggerthella",
         "BMG_MC588850",
         "eggerthella"
        ],
        [
         "25",
         "Bacterial Vaginosis",
         "Gardnerella vaginalis",
         "BMG_MC369006",
         "gardnerellavaginalis"
        ],
        [
         "26",
         "Bacterial Vaginosis",
         "Lactobacillus  crispatus",
         "BMG_MC503337",
         "lactobacilluscrispatus"
        ],
        [
         "27",
         "Bacterial Vaginosis",
         "Leptotrichia",
         "BMG_MC442779",
         "leptotrichia"
        ],
        [
         "28",
         "Bacterial Vaginosis",
         "Megasphaera",
         "BMG_MC601545",
         "megasphaera"
        ],
        [
         "29",
         "Infectious colitis",
         "Bacteroides",
         "BMG_MC588160",
         "bacteroides"
        ],
        [
         "30",
         "Ulcerative colitis",
         "Clostridium coccoides",
         null,
         "clostridiumcoccoides"
        ],
        [
         "31",
         "Crohn's disease(CD)",
         "Clostridium leptum",
         "BMG_MC188244",
         "clostridiumleptum"
        ],
        [
         "32",
         "Allergic sensitization",
         "Clostridium difficile",
         null,
         "clostridiumdifficile"
        ],
        [
         "33",
         "Atopic dermatitis",
         "Clostridium difficile",
         null,
         "clostridiumdifficile"
        ],
        [
         "34",
         "Atopic sensitisation",
         "Clostridium difficile",
         null,
         "clostridiumdifficile"
        ],
        [
         "35",
         "Eczema",
         "Clostridium difficile",
         null,
         "clostridiumdifficile"
        ],
        [
         "36",
         "Recurrent wheeze",
         "Clostridium difficile",
         null,
         "clostridiumdifficile"
        ],
        [
         "37",
         "Eczema",
         "Escherichia coli",
         "BMG_MC532241",
         "escherichiacoli"
        ],
        [
         "38",
         "Allergy",
         "Helicobacter pylori",
         "BMG_MC325934",
         "helicobacterpylori"
        ],
        [
         "39",
         "Asthma",
         "Helicobacter pylori",
         "BMG_MC325934",
         "helicobacterpylori"
        ],
        [
         "40",
         "Irritable bowel syndrome(IBS)",
         "Clostridium cocleatum",
         null,
         "clostridiumcocleatum"
        ],
        [
         "41",
         "Irritable bowel syndrome(IBS)",
         "Collinsella aerofaciens",
         "BMG_MC578719",
         "collinsellaaerofaciens"
        ],
        [
         "42",
         "Irritable bowel syndrome(IBS)",
         "Coprococcus",
         "BMG_MC447127",
         "coprococcus"
        ],
        [
         "43",
         "Inflammatory bowel disease(IBD)",
         "Actinobacteria",
         null,
         "actinobacteria"
        ],
        [
         "44",
         "Inflammatory bowel disease(IBD)",
         "Lachnospiraceae",
         "BMG_MC288003",
         "lachnospiraceae"
        ],
        [
         "45",
         "Inflammatory bowel disease(IBD)",
         "Proteobacteria",
         null,
         "proteobacteria"
        ],
        [
         "46",
         "Atopic dermatitis",
         "Dietzia maris",
         "BMG_MC469579",
         "dietziamaris"
        ],
        [
         "47",
         "Atopic dermatitis",
         "Stenotrophomonas maltophilia",
         "BMG_MC477936",
         "stenotrophomonasmaltophilia"
        ],
        [
         "48",
         "Cystic fibrosis",
         "Coxiellaceae",
         "BMG_MC055512",
         "coxiellaceae"
        ],
        [
         "49",
         "Cystic fibrosis",
         "Lysobacter",
         "BMG_MC564604",
         "lysobacter"
        ]
       ],
       "shape": {
        "columns": 4,
        "rows": 450
       }
      },
      "text/html": [
       "<div>\n",
       "<style scoped>\n",
       "    .dataframe tbody tr th:only-of-type {\n",
       "        vertical-align: middle;\n",
       "    }\n",
       "\n",
       "    .dataframe tbody tr th {\n",
       "        vertical-align: top;\n",
       "    }\n",
       "\n",
       "    .dataframe thead th {\n",
       "        text-align: right;\n",
       "    }\n",
       "</style>\n",
       "<table border=\"1\" class=\"dataframe\">\n",
       "  <thead>\n",
       "    <tr style=\"text-align: right;\">\n",
       "      <th></th>\n",
       "      <th>Disease</th>\n",
       "      <th>Microbe</th>\n",
       "      <th>BMG_micro</th>\n",
       "      <th>Microbe_clean</th>\n",
       "    </tr>\n",
       "  </thead>\n",
       "  <tbody>\n",
       "    <tr>\n",
       "      <th>0</th>\n",
       "      <td>Colon cancer</td>\n",
       "      <td>Collinsella aerofaciens</td>\n",
       "      <td>BMG_MC578719</td>\n",
       "      <td>collinsellaaerofaciens</td>\n",
       "    </tr>\n",
       "    <tr>\n",
       "      <th>1</th>\n",
       "      <td>Periodontal</td>\n",
       "      <td>Fusobacterium</td>\n",
       "      <td>BMG_MC589030</td>\n",
       "      <td>fusobacterium</td>\n",
       "    </tr>\n",
       "    <tr>\n",
       "      <th>2</th>\n",
       "      <td>Periodontal</td>\n",
       "      <td>Porphyromonas gingivalis</td>\n",
       "      <td>BMG_MC588707</td>\n",
       "      <td>porphyromonasgingivalis</td>\n",
       "    </tr>\n",
       "    <tr>\n",
       "      <th>3</th>\n",
       "      <td>Periodontal</td>\n",
       "      <td>Prevotella</td>\n",
       "      <td>BMG_MC588735</td>\n",
       "      <td>prevotella</td>\n",
       "    </tr>\n",
       "    <tr>\n",
       "      <th>4</th>\n",
       "      <td>Periodontal</td>\n",
       "      <td>Treponema</td>\n",
       "      <td>BMG_MC198110</td>\n",
       "      <td>treponema</td>\n",
       "    </tr>\n",
       "    <tr>\n",
       "      <th>...</th>\n",
       "      <td>...</td>\n",
       "      <td>...</td>\n",
       "      <td>...</td>\n",
       "      <td>...</td>\n",
       "    </tr>\n",
       "    <tr>\n",
       "      <th>445</th>\n",
       "      <td>Liver cirrhosis</td>\n",
       "      <td>Tannerella</td>\n",
       "      <td>BMG_MC308262</td>\n",
       "      <td>tannerella</td>\n",
       "    </tr>\n",
       "    <tr>\n",
       "      <th>446</th>\n",
       "      <td>Liver cirrhosis</td>\n",
       "      <td>Veillonella</td>\n",
       "      <td>BMG_MC403050</td>\n",
       "      <td>veillonella</td>\n",
       "    </tr>\n",
       "    <tr>\n",
       "      <th>447</th>\n",
       "      <td>Liver cirrhosis</td>\n",
       "      <td>Veillonella atypica</td>\n",
       "      <td>BMG_MC475993</td>\n",
       "      <td>veillonellaatypica</td>\n",
       "    </tr>\n",
       "    <tr>\n",
       "      <th>448</th>\n",
       "      <td>Liver cirrhosis</td>\n",
       "      <td>Veillonella dispar</td>\n",
       "      <td>BMG_MC475994</td>\n",
       "      <td>veillonelladispar</td>\n",
       "    </tr>\n",
       "    <tr>\n",
       "      <th>449</th>\n",
       "      <td>Liver cirrhosis</td>\n",
       "      <td>Veillonella parvula</td>\n",
       "      <td>BMG_MC403078</td>\n",
       "      <td>veillonellaparvula</td>\n",
       "    </tr>\n",
       "  </tbody>\n",
       "</table>\n",
       "<p>450 rows × 4 columns</p>\n",
       "</div>"
      ],
      "text/plain": [
       "             Disease                   Microbe     BMG_micro  \\\n",
       "0       Colon cancer   Collinsella aerofaciens  BMG_MC578719   \n",
       "1        Periodontal             Fusobacterium  BMG_MC589030   \n",
       "2        Periodontal  Porphyromonas gingivalis  BMG_MC588707   \n",
       "3        Periodontal                Prevotella  BMG_MC588735   \n",
       "4        Periodontal                 Treponema  BMG_MC198110   \n",
       "..               ...                       ...           ...   \n",
       "445  Liver cirrhosis                Tannerella  BMG_MC308262   \n",
       "446  Liver cirrhosis               Veillonella  BMG_MC403050   \n",
       "447  Liver cirrhosis       Veillonella atypica  BMG_MC475993   \n",
       "448  Liver cirrhosis        Veillonella dispar  BMG_MC475994   \n",
       "449  Liver cirrhosis       Veillonella parvula  BMG_MC403078   \n",
       "\n",
       "               Microbe_clean  \n",
       "0     collinsellaaerofaciens  \n",
       "1              fusobacterium  \n",
       "2    porphyromonasgingivalis  \n",
       "3                 prevotella  \n",
       "4                  treponema  \n",
       "..                       ...  \n",
       "445               tannerella  \n",
       "446              veillonella  \n",
       "447       veillonellaatypica  \n",
       "448        veillonelladispar  \n",
       "449       veillonellaparvula  \n",
       "\n",
       "[450 rows x 4 columns]"
      ]
     },
     "execution_count": 27,
     "metadata": {},
     "output_type": "execute_result"
    }
   ],
   "source": [
    "micro = biomedgraphica_microbiota.copy()\n",
    "\n",
    "micro['Name_clean'] = micro['NCBI_Taxonomy_Name'].apply(clean_text)\n",
    "hmdad['Microbe_clean'] = hmdad['Microbe'].apply(clean_text)\n",
    "hmdad_to_micro = pd.merge(hmdad, micro, left_on='Microbe_clean', right_on='Name_clean',how='left')\n",
    "hmdad_to_micro = hmdad_to_micro[['Disease', 'Microbe','BioMedGraphica_ID','Microbe_clean']]\n",
    "hmdad_to_micro = hmdad_to_micro.rename(columns={'BioMedGraphica_ID':'BMG_micro'})\n",
    "hmdad_to_micro"
   ]
  },
  {
   "cell_type": "markdown",
   "metadata": {},
   "source": [
    "Disease Name"
   ]
  },
  {
   "cell_type": "code",
   "execution_count": 17,
   "metadata": {},
   "outputs": [],
   "source": [
    "import pandas as pd\n",
    "import os\n",
    "from pathlib import Path\n",
    "\n",
    "current_working_dir = Path(os.getcwd()).resolve()\n",
    "grandparent_dir = current_working_dir.parent.parent.parent\n",
    "target_dir_disease = grandparent_dir / 'BioMedGraphica' / 'Entity' / 'Disease' / 'BioMedGraphica_Disease_GUI_Name.csv'\n",
    "disease_gui = pd.read_csv(target_dir_disease, dtype=str)"
   ]
  },
  {
   "cell_type": "code",
   "execution_count": 28,
   "metadata": {},
   "outputs": [
    {
     "data": {
      "application/vnd.microsoft.datawrangler.viewer.v0+json": {
       "columns": [
        {
         "name": "index",
         "rawType": "int64",
         "type": "integer"
        },
        {
         "name": "Disease",
         "rawType": "object",
         "type": "string"
        },
        {
         "name": "Microbe",
         "rawType": "object",
         "type": "string"
        },
        {
         "name": "BMG_micro",
         "rawType": "object",
         "type": "unknown"
        },
        {
         "name": "Microbe_clean",
         "rawType": "object",
         "type": "string"
        },
        {
         "name": "matched_group",
         "rawType": "object",
         "type": "unknown"
        }
       ],
       "conversionMethod": "pd.DataFrame",
       "ref": "d67fab72-5393-46e8-b27b-58d7075d7310",
       "rows": [
        [
         "0",
         "Colon cancer",
         "Collinsella aerofaciens",
         "BMG_MC578719",
         "collinsellaaerofaciens",
         "colon cancer | malignant colon neoplasm"
        ],
        [
         "1",
         "Periodontal",
         "Fusobacterium",
         "BMG_MC589030",
         "fusobacterium",
         null
        ],
        [
         "2",
         "Periodontal",
         "Porphyromonas gingivalis",
         "BMG_MC588707",
         "porphyromonasgingivalis",
         null
        ],
        [
         "3",
         "Periodontal",
         "Prevotella",
         "BMG_MC588735",
         "prevotella",
         null
        ],
        [
         "4",
         "Periodontal",
         "Treponema",
         "BMG_MC198110",
         "treponema",
         null
        ],
        [
         "5",
         "Gastric and duodenal ulcer",
         "Helicobacter pylori",
         "BMG_MC325934",
         "helicobacterpylori",
         null
        ],
        [
         "6",
         "Gastro-oesophageal reflux",
         "Helicobacter pylori",
         "BMG_MC325934",
         "helicobacterpylori",
         "Acid reflux | Esophageal reflux | Esophageal reflux (& [without mention of esophagitis]) | Esopheal reflux without mention of esophagitis | Gastro-esophageal reflux | Gastro-esophageal reflux disease without esophagitis | Gastro-oesophageal reflux | Gastro-oesophageal reflux disease without oesophagitis | Oesophageal reflux | Oesophageal reflux (& [without mention of oesophagitis]) | Oesophageal reflux (& [without mention of oesophagitis]) (disorder) | Oesopheal reflux without mention of oesophagitis"
        ],
        [
         "7",
         "Guttate psoriasis",
         "Staphylococcus aureus",
         "BMG_MC088814",
         "staphylococcusaureus",
         "Guttate psoriasis"
        ],
        [
         "8",
         "Atopy",
         "Clostridia",
         "BMG_MC287997",
         "clostridia",
         null
        ],
        [
         "9",
         "Diarrhea Irritable bowel syndrome(IBS)",
         "Bifidobacterium",
         "BMG_MC231424",
         "bifidobacterium",
         null
        ],
        [
         "10",
         "Irritable bowel syndrome(IBS)",
         "Bifidobacterium catenulatum",
         "BMG_MC234571",
         "bifidobacteriumcatenulatum",
         null
        ],
        [
         "11",
         "Irritable bowel syndrome(IBS)",
         "Clostridium coccoides",
         null,
         "clostridiumcoccoides",
         null
        ],
        [
         "12",
         "Diarrhea Irritable bowel syndrome(IBS)",
         "Desulfovibrio",
         "BMG_MC595019",
         "desulfovibrio",
         null
        ],
        [
         "13",
         "Irritable bowel syndrome(IBS)",
         "Ruminococcus productus",
         null,
         "ruminococcusproductus",
         null
        ],
        [
         "14",
         "Constipation Irritable bowel syndrome(IBS)",
         "Veillonella",
         "BMG_MC403050",
         "veillonella",
         null
        ],
        [
         "15",
         "Obesity",
         "Bacteroidetes",
         null,
         "bacteroidetes",
         "Obesity"
        ],
        [
         "16",
         "Obesity",
         "Firmicutes",
         null,
         "firmicutes",
         "Obesity"
        ],
        [
         "17",
         "Ileal Crohn's disease(CD)",
         "Bacteroides fragilis",
         "BMG_MC588177",
         "bacteroidesfragilis",
         null
        ],
        [
         "18",
         "Ileal Crohn's disease(CD)",
         "Clostridium coccoides",
         null,
         "clostridiumcoccoides",
         null
        ],
        [
         "19",
         "Ileal Crohn's disease(CD)",
         "Clostridium leptum",
         "BMG_MC188244",
         "clostridiumleptum",
         null
        ],
        [
         "20",
         "Ileal Crohn's disease(CD)",
         "Prevotella",
         "BMG_MC588735",
         "prevotella",
         null
        ],
        [
         "21",
         "Bacterial Vaginosis",
         "Atopobium",
         "BMG_MC128609",
         "atopobium",
         "(Vaginitis &/or vulvovaginitis (& non specified)) or (bacterial vaginosis) or (vulvitis non specified) | (Vaginitis &/or vulvovaginitis (& non specified)) or (bacterial vaginosis) or (vulvitis non specified) (disorder) | Bacterial vaginosis | Vaginitis - non sp. | Vaginitis/vulvovaginitis | Vulvitis - non sp. | Vulvo-vaginitis | Vulvovaginitis"
        ],
        [
         "22",
         "Bacterial Vaginosis",
         "Atopobium vaginae",
         null,
         "atopobiumvaginae",
         "(Vaginitis &/or vulvovaginitis (& non specified)) or (bacterial vaginosis) or (vulvitis non specified) | (Vaginitis &/or vulvovaginitis (& non specified)) or (bacterial vaginosis) or (vulvitis non specified) (disorder) | Bacterial vaginosis | Vaginitis - non sp. | Vaginitis/vulvovaginitis | Vulvitis - non sp. | Vulvo-vaginitis | Vulvovaginitis"
        ],
        [
         "23",
         "Bacterial Vaginosis",
         "Clostridiales",
         null,
         "clostridiales",
         "(Vaginitis &/or vulvovaginitis (& non specified)) or (bacterial vaginosis) or (vulvitis non specified) | (Vaginitis &/or vulvovaginitis (& non specified)) or (bacterial vaginosis) or (vulvitis non specified) (disorder) | Bacterial vaginosis | Vaginitis - non sp. | Vaginitis/vulvovaginitis | Vulvitis - non sp. | Vulvo-vaginitis | Vulvovaginitis"
        ],
        [
         "24",
         "Bacterial Vaginosis",
         "Eggerthella",
         "BMG_MC588850",
         "eggerthella",
         "(Vaginitis &/or vulvovaginitis (& non specified)) or (bacterial vaginosis) or (vulvitis non specified) | (Vaginitis &/or vulvovaginitis (& non specified)) or (bacterial vaginosis) or (vulvitis non specified) (disorder) | Bacterial vaginosis | Vaginitis - non sp. | Vaginitis/vulvovaginitis | Vulvitis - non sp. | Vulvo-vaginitis | Vulvovaginitis"
        ],
        [
         "25",
         "Bacterial Vaginosis",
         "Gardnerella vaginalis",
         "BMG_MC369006",
         "gardnerellavaginalis",
         "(Vaginitis &/or vulvovaginitis (& non specified)) or (bacterial vaginosis) or (vulvitis non specified) | (Vaginitis &/or vulvovaginitis (& non specified)) or (bacterial vaginosis) or (vulvitis non specified) (disorder) | Bacterial vaginosis | Vaginitis - non sp. | Vaginitis/vulvovaginitis | Vulvitis - non sp. | Vulvo-vaginitis | Vulvovaginitis"
        ],
        [
         "26",
         "Bacterial Vaginosis",
         "Lactobacillus  crispatus",
         "BMG_MC503337",
         "lactobacilluscrispatus",
         "(Vaginitis &/or vulvovaginitis (& non specified)) or (bacterial vaginosis) or (vulvitis non specified) | (Vaginitis &/or vulvovaginitis (& non specified)) or (bacterial vaginosis) or (vulvitis non specified) (disorder) | Bacterial vaginosis | Vaginitis - non sp. | Vaginitis/vulvovaginitis | Vulvitis - non sp. | Vulvo-vaginitis | Vulvovaginitis"
        ],
        [
         "27",
         "Bacterial Vaginosis",
         "Leptotrichia",
         "BMG_MC442779",
         "leptotrichia",
         "(Vaginitis &/or vulvovaginitis (& non specified)) or (bacterial vaginosis) or (vulvitis non specified) | (Vaginitis &/or vulvovaginitis (& non specified)) or (bacterial vaginosis) or (vulvitis non specified) (disorder) | Bacterial vaginosis | Vaginitis - non sp. | Vaginitis/vulvovaginitis | Vulvitis - non sp. | Vulvo-vaginitis | Vulvovaginitis"
        ],
        [
         "28",
         "Bacterial Vaginosis",
         "Megasphaera",
         "BMG_MC601545",
         "megasphaera",
         "(Vaginitis &/or vulvovaginitis (& non specified)) or (bacterial vaginosis) or (vulvitis non specified) | (Vaginitis &/or vulvovaginitis (& non specified)) or (bacterial vaginosis) or (vulvitis non specified) (disorder) | Bacterial vaginosis | Vaginitis - non sp. | Vaginitis/vulvovaginitis | Vulvitis - non sp. | Vulvo-vaginitis | Vulvovaginitis"
        ],
        [
         "29",
         "Infectious colitis",
         "Bacteroides",
         "BMG_MC588160",
         "bacteroides",
         "Infectious colitis | Infectious colitis (disorder) | Infective colitis | Septic colitis | infectious colitis"
        ],
        [
         "30",
         "Ulcerative colitis",
         "Clostridium coccoides",
         null,
         "clostridiumcoccoides",
         "Ulcerative colitis"
        ],
        [
         "31",
         "Crohn's disease(CD)",
         "Clostridium leptum",
         "BMG_MC188244",
         "clostridiumleptum",
         null
        ],
        [
         "32",
         "Allergic sensitization",
         "Clostridium difficile",
         null,
         "clostridiumdifficile",
         "Allergic sensitisation | Allergic sensitization | Allergic sensitization (finding)"
        ],
        [
         "33",
         "Atopic dermatitis",
         "Clostridium difficile",
         null,
         "clostridiumdifficile",
         "AD - Atopic dermatitis | Atopic dermatitis | Atopic dermatitis (disorder) | Atopic eczema | Atopic prurigo | Besnier prurigo | Besnier's prurigo | Besnier's prurigo (disorder) | Constitutional eczema | Disseminated neurodermatitis"
        ],
        [
         "34",
         "Atopic sensitisation",
         "Clostridium difficile",
         null,
         "clostridiumdifficile",
         null
        ],
        [
         "35",
         "Eczema",
         "Clostridium difficile",
         null,
         "clostridiumdifficile",
         "Dermatitis | Eczema | Eczema (disorder)"
        ],
        [
         "36",
         "Recurrent wheeze",
         "Clostridium difficile",
         null,
         "clostridiumdifficile",
         null
        ],
        [
         "37",
         "Eczema",
         "Escherichia coli",
         "BMG_MC532241",
         "escherichiacoli",
         "Dermatitis | Eczema | Eczema (disorder)"
        ],
        [
         "38",
         "Allergy",
         "Helicobacter pylori",
         "BMG_MC325934",
         "helicobacterpylori",
         null
        ],
        [
         "39",
         "Asthma",
         "Helicobacter pylori",
         "BMG_MC325934",
         "helicobacterpylori",
         "Asthma"
        ],
        [
         "40",
         "Irritable bowel syndrome(IBS)",
         "Clostridium cocleatum",
         null,
         "clostridiumcocleatum",
         null
        ],
        [
         "41",
         "Irritable bowel syndrome(IBS)",
         "Collinsella aerofaciens",
         "BMG_MC578719",
         "collinsellaaerofaciens",
         null
        ],
        [
         "42",
         "Irritable bowel syndrome(IBS)",
         "Coprococcus",
         "BMG_MC447127",
         "coprococcus",
         null
        ],
        [
         "43",
         "Inflammatory bowel disease(IBD)",
         "Actinobacteria",
         null,
         "actinobacteria",
         null
        ],
        [
         "44",
         "Inflammatory bowel disease(IBD)",
         "Lachnospiraceae",
         "BMG_MC288003",
         "lachnospiraceae",
         null
        ],
        [
         "45",
         "Inflammatory bowel disease(IBD)",
         "Proteobacteria",
         null,
         "proteobacteria",
         null
        ],
        [
         "46",
         "Atopic dermatitis",
         "Dietzia maris",
         "BMG_MC469579",
         "dietziamaris",
         "AD - Atopic dermatitis | Atopic dermatitis | Atopic dermatitis (disorder) | Atopic eczema | Atopic prurigo | Besnier prurigo | Besnier's prurigo | Besnier's prurigo (disorder) | Constitutional eczema | Disseminated neurodermatitis"
        ],
        [
         "47",
         "Atopic dermatitis",
         "Stenotrophomonas maltophilia",
         "BMG_MC477936",
         "stenotrophomonasmaltophilia",
         "AD - Atopic dermatitis | Atopic dermatitis | Atopic dermatitis (disorder) | Atopic eczema | Atopic prurigo | Besnier prurigo | Besnier's prurigo | Besnier's prurigo (disorder) | Constitutional eczema | Disseminated neurodermatitis"
        ],
        [
         "48",
         "Cystic fibrosis",
         "Coxiellaceae",
         "BMG_MC055512",
         "coxiellaceae",
         "Cystic fibrosis"
        ],
        [
         "49",
         "Cystic fibrosis",
         "Lysobacter",
         "BMG_MC564604",
         "lysobacter",
         "Cystic fibrosis"
        ]
       ],
       "shape": {
        "columns": 5,
        "rows": 450
       }
      },
      "text/html": [
       "<div>\n",
       "<style scoped>\n",
       "    .dataframe tbody tr th:only-of-type {\n",
       "        vertical-align: middle;\n",
       "    }\n",
       "\n",
       "    .dataframe tbody tr th {\n",
       "        vertical-align: top;\n",
       "    }\n",
       "\n",
       "    .dataframe thead th {\n",
       "        text-align: right;\n",
       "    }\n",
       "</style>\n",
       "<table border=\"1\" class=\"dataframe\">\n",
       "  <thead>\n",
       "    <tr style=\"text-align: right;\">\n",
       "      <th></th>\n",
       "      <th>Disease</th>\n",
       "      <th>Microbe</th>\n",
       "      <th>BMG_micro</th>\n",
       "      <th>Microbe_clean</th>\n",
       "      <th>matched_group</th>\n",
       "    </tr>\n",
       "  </thead>\n",
       "  <tbody>\n",
       "    <tr>\n",
       "      <th>0</th>\n",
       "      <td>Colon cancer</td>\n",
       "      <td>Collinsella aerofaciens</td>\n",
       "      <td>BMG_MC578719</td>\n",
       "      <td>collinsellaaerofaciens</td>\n",
       "      <td>colon cancer | malignant colon neoplasm</td>\n",
       "    </tr>\n",
       "    <tr>\n",
       "      <th>1</th>\n",
       "      <td>Periodontal</td>\n",
       "      <td>Fusobacterium</td>\n",
       "      <td>BMG_MC589030</td>\n",
       "      <td>fusobacterium</td>\n",
       "      <td>None</td>\n",
       "    </tr>\n",
       "    <tr>\n",
       "      <th>2</th>\n",
       "      <td>Periodontal</td>\n",
       "      <td>Porphyromonas gingivalis</td>\n",
       "      <td>BMG_MC588707</td>\n",
       "      <td>porphyromonasgingivalis</td>\n",
       "      <td>None</td>\n",
       "    </tr>\n",
       "    <tr>\n",
       "      <th>3</th>\n",
       "      <td>Periodontal</td>\n",
       "      <td>Prevotella</td>\n",
       "      <td>BMG_MC588735</td>\n",
       "      <td>prevotella</td>\n",
       "      <td>None</td>\n",
       "    </tr>\n",
       "    <tr>\n",
       "      <th>4</th>\n",
       "      <td>Periodontal</td>\n",
       "      <td>Treponema</td>\n",
       "      <td>BMG_MC198110</td>\n",
       "      <td>treponema</td>\n",
       "      <td>None</td>\n",
       "    </tr>\n",
       "    <tr>\n",
       "      <th>...</th>\n",
       "      <td>...</td>\n",
       "      <td>...</td>\n",
       "      <td>...</td>\n",
       "      <td>...</td>\n",
       "      <td>...</td>\n",
       "    </tr>\n",
       "    <tr>\n",
       "      <th>445</th>\n",
       "      <td>Liver cirrhosis</td>\n",
       "      <td>Tannerella</td>\n",
       "      <td>BMG_MC308262</td>\n",
       "      <td>tannerella</td>\n",
       "      <td>Fibrosis, Liver | Liver Cirrhosis</td>\n",
       "    </tr>\n",
       "    <tr>\n",
       "      <th>446</th>\n",
       "      <td>Liver cirrhosis</td>\n",
       "      <td>Veillonella</td>\n",
       "      <td>BMG_MC403050</td>\n",
       "      <td>veillonella</td>\n",
       "      <td>Fibrosis, Liver | Liver Cirrhosis</td>\n",
       "    </tr>\n",
       "    <tr>\n",
       "      <th>447</th>\n",
       "      <td>Liver cirrhosis</td>\n",
       "      <td>Veillonella atypica</td>\n",
       "      <td>BMG_MC475993</td>\n",
       "      <td>veillonellaatypica</td>\n",
       "      <td>Fibrosis, Liver | Liver Cirrhosis</td>\n",
       "    </tr>\n",
       "    <tr>\n",
       "      <th>448</th>\n",
       "      <td>Liver cirrhosis</td>\n",
       "      <td>Veillonella dispar</td>\n",
       "      <td>BMG_MC475994</td>\n",
       "      <td>veillonelladispar</td>\n",
       "      <td>Fibrosis, Liver | Liver Cirrhosis</td>\n",
       "    </tr>\n",
       "    <tr>\n",
       "      <th>449</th>\n",
       "      <td>Liver cirrhosis</td>\n",
       "      <td>Veillonella parvula</td>\n",
       "      <td>BMG_MC403078</td>\n",
       "      <td>veillonellaparvula</td>\n",
       "      <td>Fibrosis, Liver | Liver Cirrhosis</td>\n",
       "    </tr>\n",
       "  </tbody>\n",
       "</table>\n",
       "<p>450 rows × 5 columns</p>\n",
       "</div>"
      ],
      "text/plain": [
       "             Disease                   Microbe     BMG_micro  \\\n",
       "0       Colon cancer   Collinsella aerofaciens  BMG_MC578719   \n",
       "1        Periodontal             Fusobacterium  BMG_MC589030   \n",
       "2        Periodontal  Porphyromonas gingivalis  BMG_MC588707   \n",
       "3        Periodontal                Prevotella  BMG_MC588735   \n",
       "4        Periodontal                 Treponema  BMG_MC198110   \n",
       "..               ...                       ...           ...   \n",
       "445  Liver cirrhosis                Tannerella  BMG_MC308262   \n",
       "446  Liver cirrhosis               Veillonella  BMG_MC403050   \n",
       "447  Liver cirrhosis       Veillonella atypica  BMG_MC475993   \n",
       "448  Liver cirrhosis        Veillonella dispar  BMG_MC475994   \n",
       "449  Liver cirrhosis       Veillonella parvula  BMG_MC403078   \n",
       "\n",
       "               Microbe_clean                            matched_group  \n",
       "0     collinsellaaerofaciens  colon cancer | malignant colon neoplasm  \n",
       "1              fusobacterium                                     None  \n",
       "2    porphyromonasgingivalis                                     None  \n",
       "3                 prevotella                                     None  \n",
       "4                  treponema                                     None  \n",
       "..                       ...                                      ...  \n",
       "445               tannerella        Fibrosis, Liver | Liver Cirrhosis  \n",
       "446              veillonella        Fibrosis, Liver | Liver Cirrhosis  \n",
       "447       veillonellaatypica        Fibrosis, Liver | Liver Cirrhosis  \n",
       "448        veillonelladispar        Fibrosis, Liver | Liver Cirrhosis  \n",
       "449       veillonellaparvula        Fibrosis, Liver | Liver Cirrhosis  \n",
       "\n",
       "[450 rows x 5 columns]"
      ]
     },
     "execution_count": 28,
     "metadata": {},
     "output_type": "execute_result"
    }
   ],
   "source": [
    "def clean_label(s):\n",
    "    return str(s).strip().lower()\n",
    "\n",
    "label_to_group = {}\n",
    "\n",
    "for _, row in disease_gui.iterrows():\n",
    "    all_labels = str(row['Disease_Name_List'])\n",
    "    group_labels = [clean_label(l) for l in all_labels.split(' | ') if l.strip()]\n",
    "    for label in group_labels:\n",
    "        label_to_group[label] = all_labels\n",
    "\n",
    "hmdad_to_micro['matched_group'] = hmdad_to_micro['Disease'].apply(lambda x: label_to_group.get(clean_label(x), None))\n",
    "hmdad_to_micro"
   ]
  },
  {
   "cell_type": "code",
   "execution_count": 29,
   "metadata": {},
   "outputs": [
    {
     "data": {
      "application/vnd.microsoft.datawrangler.viewer.v0+json": {
       "columns": [
        {
         "name": "index",
         "rawType": "int64",
         "type": "integer"
        },
        {
         "name": "Disease",
         "rawType": "object",
         "type": "string"
        },
        {
         "name": "Microbe",
         "rawType": "object",
         "type": "string"
        },
        {
         "name": "BMG_micro",
         "rawType": "object",
         "type": "unknown"
        },
        {
         "name": "BMG_disease",
         "rawType": "object",
         "type": "string"
        }
       ],
       "conversionMethod": "pd.DataFrame",
       "ref": "8bafb351-ca51-43c0-97c7-a76266527756",
       "rows": [
        [
         "0",
         "Colon cancer",
         "Collinsella aerofaciens",
         "BMG_MC578719",
         "BMG_DS000469"
        ],
        [
         "1",
         "Periodontal",
         "Fusobacterium",
         "BMG_MC589030",
         "BMG_DS080952"
        ],
        [
         "2",
         "Periodontal",
         "Fusobacterium",
         "BMG_MC589030",
         "BMG_DS080976"
        ],
        [
         "3",
         "Periodontal",
         "Fusobacterium",
         "BMG_MC589030",
         "BMG_DS080978"
        ],
        [
         "4",
         "Periodontal",
         "Fusobacterium",
         "BMG_MC589030",
         "BMG_DS081117"
        ],
        [
         "5",
         "Periodontal",
         "Fusobacterium",
         "BMG_MC589030",
         "BMG_DS081174"
        ],
        [
         "6",
         "Periodontal",
         "Fusobacterium",
         "BMG_MC589030",
         "BMG_DS081907"
        ],
        [
         "7",
         "Periodontal",
         "Fusobacterium",
         "BMG_MC589030",
         "BMG_DS081908"
        ],
        [
         "8",
         "Periodontal",
         "Fusobacterium",
         "BMG_MC589030",
         "BMG_DS081909"
        ],
        [
         "9",
         "Periodontal",
         "Fusobacterium",
         "BMG_MC589030",
         "BMG_DS081910"
        ],
        [
         "10",
         "Periodontal",
         "Fusobacterium",
         "BMG_MC589030",
         "BMG_DS081911"
        ],
        [
         "11",
         "Periodontal",
         "Fusobacterium",
         "BMG_MC589030",
         "BMG_DS081912"
        ],
        [
         "12",
         "Periodontal",
         "Fusobacterium",
         "BMG_MC589030",
         "BMG_DS081913"
        ],
        [
         "13",
         "Periodontal",
         "Fusobacterium",
         "BMG_MC589030",
         "BMG_DS081914"
        ],
        [
         "14",
         "Periodontal",
         "Fusobacterium",
         "BMG_MC589030",
         "BMG_DS081916"
        ],
        [
         "15",
         "Periodontal",
         "Fusobacterium",
         "BMG_MC589030",
         "BMG_DS081917"
        ],
        [
         "16",
         "Periodontal",
         "Fusobacterium",
         "BMG_MC589030",
         "BMG_DS081918"
        ],
        [
         "17",
         "Periodontal",
         "Fusobacterium",
         "BMG_MC589030",
         "BMG_DS081919"
        ],
        [
         "18",
         "Periodontal",
         "Fusobacterium",
         "BMG_MC589030",
         "BMG_DS081920"
        ],
        [
         "19",
         "Periodontal",
         "Fusobacterium",
         "BMG_MC589030",
         "BMG_DS081921"
        ],
        [
         "20",
         "Periodontal",
         "Fusobacterium",
         "BMG_MC589030",
         "BMG_DS081922"
        ],
        [
         "21",
         "Periodontal",
         "Fusobacterium",
         "BMG_MC589030",
         "BMG_DS081923"
        ],
        [
         "22",
         "Periodontal",
         "Fusobacterium",
         "BMG_MC589030",
         "BMG_DS081924"
        ],
        [
         "23",
         "Periodontal",
         "Fusobacterium",
         "BMG_MC589030",
         "BMG_DS081925"
        ],
        [
         "24",
         "Periodontal",
         "Fusobacterium",
         "BMG_MC589030",
         "BMG_DS081926"
        ],
        [
         "25",
         "Periodontal",
         "Fusobacterium",
         "BMG_MC589030",
         "BMG_DS081927"
        ],
        [
         "26",
         "Periodontal",
         "Fusobacterium",
         "BMG_MC589030",
         "BMG_DS081928"
        ],
        [
         "27",
         "Periodontal",
         "Fusobacterium",
         "BMG_MC589030",
         "BMG_DS081929"
        ],
        [
         "28",
         "Periodontal",
         "Fusobacterium",
         "BMG_MC589030",
         "BMG_DS081930"
        ],
        [
         "29",
         "Periodontal",
         "Fusobacterium",
         "BMG_MC589030",
         "BMG_DS081931"
        ],
        [
         "30",
         "Periodontal",
         "Fusobacterium",
         "BMG_MC589030",
         "BMG_DS081932"
        ],
        [
         "31",
         "Periodontal",
         "Fusobacterium",
         "BMG_MC589030",
         "BMG_DS081933"
        ],
        [
         "32",
         "Periodontal",
         "Fusobacterium",
         "BMG_MC589030",
         "BMG_DS081934"
        ],
        [
         "33",
         "Periodontal",
         "Fusobacterium",
         "BMG_MC589030",
         "BMG_DS081935"
        ],
        [
         "34",
         "Periodontal",
         "Fusobacterium",
         "BMG_MC589030",
         "BMG_DS081936"
        ],
        [
         "35",
         "Periodontal",
         "Fusobacterium",
         "BMG_MC589030",
         "BMG_DS081937"
        ],
        [
         "36",
         "Periodontal",
         "Fusobacterium",
         "BMG_MC589030",
         "BMG_DS081938"
        ],
        [
         "37",
         "Periodontal",
         "Fusobacterium",
         "BMG_MC589030",
         "BMG_DS081949"
        ],
        [
         "38",
         "Periodontal",
         "Fusobacterium",
         "BMG_MC589030",
         "BMG_DS081950"
        ],
        [
         "39",
         "Periodontal",
         "Fusobacterium",
         "BMG_MC589030",
         "BMG_DS081951"
        ],
        [
         "40",
         "Periodontal",
         "Fusobacterium",
         "BMG_MC589030",
         "BMG_DS081952"
        ],
        [
         "41",
         "Periodontal",
         "Fusobacterium",
         "BMG_MC589030",
         "BMG_DS081953"
        ],
        [
         "42",
         "Periodontal",
         "Fusobacterium",
         "BMG_MC589030",
         "BMG_DS081954"
        ],
        [
         "43",
         "Periodontal",
         "Fusobacterium",
         "BMG_MC589030",
         "BMG_DS081955"
        ],
        [
         "44",
         "Periodontal",
         "Fusobacterium",
         "BMG_MC589030",
         "BMG_DS081956"
        ],
        [
         "45",
         "Periodontal",
         "Fusobacterium",
         "BMG_MC589030",
         "BMG_DS081957"
        ],
        [
         "46",
         "Periodontal",
         "Fusobacterium",
         "BMG_MC589030",
         "BMG_DS081958"
        ],
        [
         "47",
         "Periodontal",
         "Fusobacterium",
         "BMG_MC589030",
         "BMG_DS081974"
        ],
        [
         "48",
         "Periodontal",
         "Fusobacterium",
         "BMG_MC589030",
         "BMG_DS081975"
        ],
        [
         "49",
         "Periodontal",
         "Fusobacterium",
         "BMG_MC589030",
         "BMG_DS081976"
        ]
       ],
       "shape": {
        "columns": 4,
        "rows": 25794
       }
      },
      "text/html": [
       "<div>\n",
       "<style scoped>\n",
       "    .dataframe tbody tr th:only-of-type {\n",
       "        vertical-align: middle;\n",
       "    }\n",
       "\n",
       "    .dataframe tbody tr th {\n",
       "        vertical-align: top;\n",
       "    }\n",
       "\n",
       "    .dataframe thead th {\n",
       "        text-align: right;\n",
       "    }\n",
       "</style>\n",
       "<table border=\"1\" class=\"dataframe\">\n",
       "  <thead>\n",
       "    <tr style=\"text-align: right;\">\n",
       "      <th></th>\n",
       "      <th>Disease</th>\n",
       "      <th>Microbe</th>\n",
       "      <th>BMG_micro</th>\n",
       "      <th>BMG_disease</th>\n",
       "    </tr>\n",
       "  </thead>\n",
       "  <tbody>\n",
       "    <tr>\n",
       "      <th>0</th>\n",
       "      <td>Colon cancer</td>\n",
       "      <td>Collinsella aerofaciens</td>\n",
       "      <td>BMG_MC578719</td>\n",
       "      <td>BMG_DS000469</td>\n",
       "    </tr>\n",
       "    <tr>\n",
       "      <th>1</th>\n",
       "      <td>Periodontal</td>\n",
       "      <td>Fusobacterium</td>\n",
       "      <td>BMG_MC589030</td>\n",
       "      <td>BMG_DS080952</td>\n",
       "    </tr>\n",
       "    <tr>\n",
       "      <th>2</th>\n",
       "      <td>Periodontal</td>\n",
       "      <td>Fusobacterium</td>\n",
       "      <td>BMG_MC589030</td>\n",
       "      <td>BMG_DS080976</td>\n",
       "    </tr>\n",
       "    <tr>\n",
       "      <th>3</th>\n",
       "      <td>Periodontal</td>\n",
       "      <td>Fusobacterium</td>\n",
       "      <td>BMG_MC589030</td>\n",
       "      <td>BMG_DS080978</td>\n",
       "    </tr>\n",
       "    <tr>\n",
       "      <th>4</th>\n",
       "      <td>Periodontal</td>\n",
       "      <td>Fusobacterium</td>\n",
       "      <td>BMG_MC589030</td>\n",
       "      <td>BMG_DS081117</td>\n",
       "    </tr>\n",
       "    <tr>\n",
       "      <th>...</th>\n",
       "      <td>...</td>\n",
       "      <td>...</td>\n",
       "      <td>...</td>\n",
       "      <td>...</td>\n",
       "    </tr>\n",
       "    <tr>\n",
       "      <th>25789</th>\n",
       "      <td>Liver cirrhosis</td>\n",
       "      <td>Tannerella</td>\n",
       "      <td>BMG_MC308262</td>\n",
       "      <td>BMG_DS006709</td>\n",
       "    </tr>\n",
       "    <tr>\n",
       "      <th>25790</th>\n",
       "      <td>Liver cirrhosis</td>\n",
       "      <td>Veillonella</td>\n",
       "      <td>BMG_MC403050</td>\n",
       "      <td>BMG_DS006709</td>\n",
       "    </tr>\n",
       "    <tr>\n",
       "      <th>25791</th>\n",
       "      <td>Liver cirrhosis</td>\n",
       "      <td>Veillonella atypica</td>\n",
       "      <td>BMG_MC475993</td>\n",
       "      <td>BMG_DS006709</td>\n",
       "    </tr>\n",
       "    <tr>\n",
       "      <th>25792</th>\n",
       "      <td>Liver cirrhosis</td>\n",
       "      <td>Veillonella dispar</td>\n",
       "      <td>BMG_MC475994</td>\n",
       "      <td>BMG_DS006709</td>\n",
       "    </tr>\n",
       "    <tr>\n",
       "      <th>25793</th>\n",
       "      <td>Liver cirrhosis</td>\n",
       "      <td>Veillonella parvula</td>\n",
       "      <td>BMG_MC403078</td>\n",
       "      <td>BMG_DS006709</td>\n",
       "    </tr>\n",
       "  </tbody>\n",
       "</table>\n",
       "<p>25794 rows × 4 columns</p>\n",
       "</div>"
      ],
      "text/plain": [
       "               Disease                  Microbe     BMG_micro   BMG_disease\n",
       "0         Colon cancer  Collinsella aerofaciens  BMG_MC578719  BMG_DS000469\n",
       "1          Periodontal            Fusobacterium  BMG_MC589030  BMG_DS080952\n",
       "2          Periodontal            Fusobacterium  BMG_MC589030  BMG_DS080976\n",
       "3          Periodontal            Fusobacterium  BMG_MC589030  BMG_DS080978\n",
       "4          Periodontal            Fusobacterium  BMG_MC589030  BMG_DS081117\n",
       "...                ...                      ...           ...           ...\n",
       "25789  Liver cirrhosis               Tannerella  BMG_MC308262  BMG_DS006709\n",
       "25790  Liver cirrhosis              Veillonella  BMG_MC403050  BMG_DS006709\n",
       "25791  Liver cirrhosis      Veillonella atypica  BMG_MC475993  BMG_DS006709\n",
       "25792  Liver cirrhosis       Veillonella dispar  BMG_MC475994  BMG_DS006709\n",
       "25793  Liver cirrhosis      Veillonella parvula  BMG_MC403078  BMG_DS006709\n",
       "\n",
       "[25794 rows x 4 columns]"
      ]
     },
     "execution_count": 29,
     "metadata": {},
     "output_type": "execute_result"
    }
   ],
   "source": [
    "hmdad_to_micro_v1 = hmdad_to_micro.merge(disease_gui,left_on='matched_group',right_on='Disease_Name_List',how='left')\n",
    "hmdad_to_micro_v1 = hmdad_to_micro_v1.rename(columns={'BioMedGraphica_ID':'BMG_disease'})\n",
    "hmdad_to_micro_v1 = hmdad_to_micro_v1[['Disease','Microbe','BMG_micro','BMG_disease']]\n",
    "hmdad_to_micro_v1"
   ]
  },
  {
   "cell_type": "code",
   "execution_count": 30,
   "metadata": {},
   "outputs": [
    {
     "data": {
      "application/vnd.microsoft.datawrangler.viewer.v0+json": {
       "columns": [
        {
         "name": "index",
         "rawType": "int64",
         "type": "integer"
        },
        {
         "name": "From_ID",
         "rawType": "object",
         "type": "unknown"
        },
        {
         "name": "To_ID",
         "rawType": "object",
         "type": "string"
        }
       ],
       "conversionMethod": "pd.DataFrame",
       "ref": "6f0069b6-d1e4-447f-8645-d192468a1b68",
       "rows": [
        [
         "0",
         "BMG_MC578719",
         "BMG_DS000469"
        ],
        [
         "1",
         "BMG_MC589030",
         "BMG_DS080952"
        ],
        [
         "2",
         "BMG_MC589030",
         "BMG_DS080976"
        ],
        [
         "3",
         "BMG_MC589030",
         "BMG_DS080978"
        ],
        [
         "4",
         "BMG_MC589030",
         "BMG_DS081117"
        ],
        [
         "5",
         "BMG_MC589030",
         "BMG_DS081174"
        ],
        [
         "6",
         "BMG_MC589030",
         "BMG_DS081907"
        ],
        [
         "7",
         "BMG_MC589030",
         "BMG_DS081908"
        ],
        [
         "8",
         "BMG_MC589030",
         "BMG_DS081909"
        ],
        [
         "9",
         "BMG_MC589030",
         "BMG_DS081910"
        ],
        [
         "10",
         "BMG_MC589030",
         "BMG_DS081911"
        ],
        [
         "11",
         "BMG_MC589030",
         "BMG_DS081912"
        ],
        [
         "12",
         "BMG_MC589030",
         "BMG_DS081913"
        ],
        [
         "13",
         "BMG_MC589030",
         "BMG_DS081914"
        ],
        [
         "14",
         "BMG_MC589030",
         "BMG_DS081916"
        ],
        [
         "15",
         "BMG_MC589030",
         "BMG_DS081917"
        ],
        [
         "16",
         "BMG_MC589030",
         "BMG_DS081918"
        ],
        [
         "17",
         "BMG_MC589030",
         "BMG_DS081919"
        ],
        [
         "18",
         "BMG_MC589030",
         "BMG_DS081920"
        ],
        [
         "19",
         "BMG_MC589030",
         "BMG_DS081921"
        ],
        [
         "20",
         "BMG_MC589030",
         "BMG_DS081922"
        ],
        [
         "21",
         "BMG_MC589030",
         "BMG_DS081923"
        ],
        [
         "22",
         "BMG_MC589030",
         "BMG_DS081924"
        ],
        [
         "23",
         "BMG_MC589030",
         "BMG_DS081925"
        ],
        [
         "24",
         "BMG_MC589030",
         "BMG_DS081926"
        ],
        [
         "25",
         "BMG_MC589030",
         "BMG_DS081927"
        ],
        [
         "26",
         "BMG_MC589030",
         "BMG_DS081928"
        ],
        [
         "27",
         "BMG_MC589030",
         "BMG_DS081929"
        ],
        [
         "28",
         "BMG_MC589030",
         "BMG_DS081930"
        ],
        [
         "29",
         "BMG_MC589030",
         "BMG_DS081931"
        ],
        [
         "30",
         "BMG_MC589030",
         "BMG_DS081932"
        ],
        [
         "31",
         "BMG_MC589030",
         "BMG_DS081933"
        ],
        [
         "32",
         "BMG_MC589030",
         "BMG_DS081934"
        ],
        [
         "33",
         "BMG_MC589030",
         "BMG_DS081935"
        ],
        [
         "34",
         "BMG_MC589030",
         "BMG_DS081936"
        ],
        [
         "35",
         "BMG_MC589030",
         "BMG_DS081937"
        ],
        [
         "36",
         "BMG_MC589030",
         "BMG_DS081938"
        ],
        [
         "37",
         "BMG_MC589030",
         "BMG_DS081949"
        ],
        [
         "38",
         "BMG_MC589030",
         "BMG_DS081950"
        ],
        [
         "39",
         "BMG_MC589030",
         "BMG_DS081951"
        ],
        [
         "40",
         "BMG_MC589030",
         "BMG_DS081952"
        ],
        [
         "41",
         "BMG_MC589030",
         "BMG_DS081953"
        ],
        [
         "42",
         "BMG_MC589030",
         "BMG_DS081954"
        ],
        [
         "43",
         "BMG_MC589030",
         "BMG_DS081955"
        ],
        [
         "44",
         "BMG_MC589030",
         "BMG_DS081956"
        ],
        [
         "45",
         "BMG_MC589030",
         "BMG_DS081957"
        ],
        [
         "46",
         "BMG_MC589030",
         "BMG_DS081958"
        ],
        [
         "47",
         "BMG_MC589030",
         "BMG_DS081974"
        ],
        [
         "48",
         "BMG_MC589030",
         "BMG_DS081975"
        ],
        [
         "49",
         "BMG_MC589030",
         "BMG_DS081976"
        ]
       ],
       "shape": {
        "columns": 2,
        "rows": 25794
       }
      },
      "text/html": [
       "<div>\n",
       "<style scoped>\n",
       "    .dataframe tbody tr th:only-of-type {\n",
       "        vertical-align: middle;\n",
       "    }\n",
       "\n",
       "    .dataframe tbody tr th {\n",
       "        vertical-align: top;\n",
       "    }\n",
       "\n",
       "    .dataframe thead th {\n",
       "        text-align: right;\n",
       "    }\n",
       "</style>\n",
       "<table border=\"1\" class=\"dataframe\">\n",
       "  <thead>\n",
       "    <tr style=\"text-align: right;\">\n",
       "      <th></th>\n",
       "      <th>From_ID</th>\n",
       "      <th>To_ID</th>\n",
       "    </tr>\n",
       "  </thead>\n",
       "  <tbody>\n",
       "    <tr>\n",
       "      <th>0</th>\n",
       "      <td>BMG_MC578719</td>\n",
       "      <td>BMG_DS000469</td>\n",
       "    </tr>\n",
       "    <tr>\n",
       "      <th>1</th>\n",
       "      <td>BMG_MC589030</td>\n",
       "      <td>BMG_DS080952</td>\n",
       "    </tr>\n",
       "    <tr>\n",
       "      <th>2</th>\n",
       "      <td>BMG_MC589030</td>\n",
       "      <td>BMG_DS080976</td>\n",
       "    </tr>\n",
       "    <tr>\n",
       "      <th>3</th>\n",
       "      <td>BMG_MC589030</td>\n",
       "      <td>BMG_DS080978</td>\n",
       "    </tr>\n",
       "    <tr>\n",
       "      <th>4</th>\n",
       "      <td>BMG_MC589030</td>\n",
       "      <td>BMG_DS081117</td>\n",
       "    </tr>\n",
       "    <tr>\n",
       "      <th>...</th>\n",
       "      <td>...</td>\n",
       "      <td>...</td>\n",
       "    </tr>\n",
       "    <tr>\n",
       "      <th>25789</th>\n",
       "      <td>BMG_MC308262</td>\n",
       "      <td>BMG_DS006709</td>\n",
       "    </tr>\n",
       "    <tr>\n",
       "      <th>25790</th>\n",
       "      <td>BMG_MC403050</td>\n",
       "      <td>BMG_DS006709</td>\n",
       "    </tr>\n",
       "    <tr>\n",
       "      <th>25791</th>\n",
       "      <td>BMG_MC475993</td>\n",
       "      <td>BMG_DS006709</td>\n",
       "    </tr>\n",
       "    <tr>\n",
       "      <th>25792</th>\n",
       "      <td>BMG_MC475994</td>\n",
       "      <td>BMG_DS006709</td>\n",
       "    </tr>\n",
       "    <tr>\n",
       "      <th>25793</th>\n",
       "      <td>BMG_MC403078</td>\n",
       "      <td>BMG_DS006709</td>\n",
       "    </tr>\n",
       "  </tbody>\n",
       "</table>\n",
       "<p>25794 rows × 2 columns</p>\n",
       "</div>"
      ],
      "text/plain": [
       "            From_ID         To_ID\n",
       "0      BMG_MC578719  BMG_DS000469\n",
       "1      BMG_MC589030  BMG_DS080952\n",
       "2      BMG_MC589030  BMG_DS080976\n",
       "3      BMG_MC589030  BMG_DS080978\n",
       "4      BMG_MC589030  BMG_DS081117\n",
       "...             ...           ...\n",
       "25789  BMG_MC308262  BMG_DS006709\n",
       "25790  BMG_MC403050  BMG_DS006709\n",
       "25791  BMG_MC475993  BMG_DS006709\n",
       "25792  BMG_MC475994  BMG_DS006709\n",
       "25793  BMG_MC403078  BMG_DS006709\n",
       "\n",
       "[25794 rows x 2 columns]"
      ]
     },
     "execution_count": 30,
     "metadata": {},
     "output_type": "execute_result"
    }
   ],
   "source": [
    "hmdad_final = hmdad_to_micro_v1[['BMG_micro','BMG_disease']]\n",
    "hmdad_final = hmdad_final.rename(columns={'BMG_micro':'From_ID', 'BMG_disease':'To_ID'})\n",
    "hmdad_final"
   ]
  },
  {
   "cell_type": "markdown",
   "metadata": {},
   "source": [
    "HMDAD Final"
   ]
  },
  {
   "cell_type": "code",
   "execution_count": 31,
   "metadata": {},
   "outputs": [
    {
     "name": "stdout",
     "output_type": "stream",
     "text": [
      "<class 'pandas.core.frame.DataFrame'>\n",
      "Index: 21663 entries, 0 to 25793\n",
      "Data columns (total 2 columns):\n",
      " #   Column   Non-Null Count  Dtype \n",
      "---  ------   --------------  ----- \n",
      " 0   From_ID  21663 non-null  object\n",
      " 1   To_ID    21663 non-null  object\n",
      "dtypes: object(2)\n",
      "memory usage: 507.7+ KB\n"
     ]
    },
    {
     "name": "stderr",
     "output_type": "stream",
     "text": [
      "C:\\Users\\shunn\\AppData\\Local\\Temp\\ipykernel_36420\\1519910683.py:1: FutureWarning: A value is trying to be set on a copy of a DataFrame or Series through chained assignment using an inplace method.\n",
      "The behavior will change in pandas 3.0. This inplace method will never work because the intermediate object on which we are setting values always behaves as a copy.\n",
      "\n",
      "For example, when doing 'df[col].method(value, inplace=True)', try using 'df.method({col: value}, inplace=True)' or df[col] = df[col].method(value) instead, to perform the operation inplace on the original object.\n",
      "\n",
      "\n",
      "  hmdad_final['From_ID'].replace('', pd.NA, inplace=True)\n",
      "C:\\Users\\shunn\\AppData\\Local\\Temp\\ipykernel_36420\\1519910683.py:2: FutureWarning: A value is trying to be set on a copy of a DataFrame or Series through chained assignment using an inplace method.\n",
      "The behavior will change in pandas 3.0. This inplace method will never work because the intermediate object on which we are setting values always behaves as a copy.\n",
      "\n",
      "For example, when doing 'df[col].method(value, inplace=True)', try using 'df.method({col: value}, inplace=True)' or df[col] = df[col].method(value) instead, to perform the operation inplace on the original object.\n",
      "\n",
      "\n",
      "  hmdad_final['To_ID'].replace('', pd.NA, inplace=True)\n"
     ]
    }
   ],
   "source": [
    "hmdad_final['From_ID'].replace('', pd.NA, inplace=True)\n",
    "hmdad_final['To_ID'].replace('', pd.NA, inplace=True)\n",
    "hmdad_final.dropna(subset=['From_ID'], inplace=True)\n",
    "hmdad_final.dropna(subset=['To_ID'], inplace=True)\n",
    "hmdad_final.info()"
   ]
  },
  {
   "cell_type": "code",
   "execution_count": 32,
   "metadata": {},
   "outputs": [
    {
     "data": {
      "application/vnd.microsoft.datawrangler.viewer.v0+json": {
       "columns": [
        {
         "name": "index",
         "rawType": "int64",
         "type": "integer"
        },
        {
         "name": "From_ID",
         "rawType": "object",
         "type": "string"
        },
        {
         "name": "To_ID",
         "rawType": "object",
         "type": "string"
        }
       ],
       "conversionMethod": "pd.DataFrame",
       "ref": "f5a2ac21-0bcb-4904-b592-234fd57a988d",
       "rows": [
        [
         "0",
         "BMG_MC578719",
         "BMG_DS000469"
        ],
        [
         "1",
         "BMG_MC589030",
         "BMG_DS080952"
        ],
        [
         "2",
         "BMG_MC589030",
         "BMG_DS080976"
        ],
        [
         "3",
         "BMG_MC589030",
         "BMG_DS080978"
        ],
        [
         "4",
         "BMG_MC589030",
         "BMG_DS081117"
        ],
        [
         "5",
         "BMG_MC589030",
         "BMG_DS081174"
        ],
        [
         "6",
         "BMG_MC589030",
         "BMG_DS081907"
        ],
        [
         "7",
         "BMG_MC589030",
         "BMG_DS081908"
        ],
        [
         "8",
         "BMG_MC589030",
         "BMG_DS081909"
        ],
        [
         "9",
         "BMG_MC589030",
         "BMG_DS081910"
        ],
        [
         "10",
         "BMG_MC589030",
         "BMG_DS081911"
        ],
        [
         "11",
         "BMG_MC589030",
         "BMG_DS081912"
        ],
        [
         "12",
         "BMG_MC589030",
         "BMG_DS081913"
        ],
        [
         "13",
         "BMG_MC589030",
         "BMG_DS081914"
        ],
        [
         "14",
         "BMG_MC589030",
         "BMG_DS081916"
        ],
        [
         "15",
         "BMG_MC589030",
         "BMG_DS081917"
        ],
        [
         "16",
         "BMG_MC589030",
         "BMG_DS081918"
        ],
        [
         "17",
         "BMG_MC589030",
         "BMG_DS081919"
        ],
        [
         "18",
         "BMG_MC589030",
         "BMG_DS081920"
        ],
        [
         "19",
         "BMG_MC589030",
         "BMG_DS081921"
        ],
        [
         "20",
         "BMG_MC589030",
         "BMG_DS081922"
        ],
        [
         "21",
         "BMG_MC589030",
         "BMG_DS081923"
        ],
        [
         "22",
         "BMG_MC589030",
         "BMG_DS081924"
        ],
        [
         "23",
         "BMG_MC589030",
         "BMG_DS081925"
        ],
        [
         "24",
         "BMG_MC589030",
         "BMG_DS081926"
        ],
        [
         "25",
         "BMG_MC589030",
         "BMG_DS081927"
        ],
        [
         "26",
         "BMG_MC589030",
         "BMG_DS081928"
        ],
        [
         "27",
         "BMG_MC589030",
         "BMG_DS081929"
        ],
        [
         "28",
         "BMG_MC589030",
         "BMG_DS081930"
        ],
        [
         "29",
         "BMG_MC589030",
         "BMG_DS081931"
        ],
        [
         "30",
         "BMG_MC589030",
         "BMG_DS081932"
        ],
        [
         "31",
         "BMG_MC589030",
         "BMG_DS081933"
        ],
        [
         "32",
         "BMG_MC589030",
         "BMG_DS081934"
        ],
        [
         "33",
         "BMG_MC589030",
         "BMG_DS081935"
        ],
        [
         "34",
         "BMG_MC589030",
         "BMG_DS081936"
        ],
        [
         "35",
         "BMG_MC589030",
         "BMG_DS081937"
        ],
        [
         "36",
         "BMG_MC589030",
         "BMG_DS081938"
        ],
        [
         "37",
         "BMG_MC589030",
         "BMG_DS081949"
        ],
        [
         "38",
         "BMG_MC589030",
         "BMG_DS081950"
        ],
        [
         "39",
         "BMG_MC589030",
         "BMG_DS081951"
        ],
        [
         "40",
         "BMG_MC589030",
         "BMG_DS081952"
        ],
        [
         "41",
         "BMG_MC589030",
         "BMG_DS081953"
        ],
        [
         "42",
         "BMG_MC589030",
         "BMG_DS081954"
        ],
        [
         "43",
         "BMG_MC589030",
         "BMG_DS081955"
        ],
        [
         "44",
         "BMG_MC589030",
         "BMG_DS081956"
        ],
        [
         "45",
         "BMG_MC589030",
         "BMG_DS081957"
        ],
        [
         "46",
         "BMG_MC589030",
         "BMG_DS081958"
        ],
        [
         "47",
         "BMG_MC589030",
         "BMG_DS081974"
        ],
        [
         "48",
         "BMG_MC589030",
         "BMG_DS081975"
        ],
        [
         "49",
         "BMG_MC589030",
         "BMG_DS081976"
        ]
       ],
       "shape": {
        "columns": 2,
        "rows": 18014
       }
      },
      "text/html": [
       "<div>\n",
       "<style scoped>\n",
       "    .dataframe tbody tr th:only-of-type {\n",
       "        vertical-align: middle;\n",
       "    }\n",
       "\n",
       "    .dataframe tbody tr th {\n",
       "        vertical-align: top;\n",
       "    }\n",
       "\n",
       "    .dataframe thead th {\n",
       "        text-align: right;\n",
       "    }\n",
       "</style>\n",
       "<table border=\"1\" class=\"dataframe\">\n",
       "  <thead>\n",
       "    <tr style=\"text-align: right;\">\n",
       "      <th></th>\n",
       "      <th>From_ID</th>\n",
       "      <th>To_ID</th>\n",
       "    </tr>\n",
       "  </thead>\n",
       "  <tbody>\n",
       "    <tr>\n",
       "      <th>0</th>\n",
       "      <td>BMG_MC578719</td>\n",
       "      <td>BMG_DS000469</td>\n",
       "    </tr>\n",
       "    <tr>\n",
       "      <th>1</th>\n",
       "      <td>BMG_MC589030</td>\n",
       "      <td>BMG_DS080952</td>\n",
       "    </tr>\n",
       "    <tr>\n",
       "      <th>2</th>\n",
       "      <td>BMG_MC589030</td>\n",
       "      <td>BMG_DS080976</td>\n",
       "    </tr>\n",
       "    <tr>\n",
       "      <th>3</th>\n",
       "      <td>BMG_MC589030</td>\n",
       "      <td>BMG_DS080978</td>\n",
       "    </tr>\n",
       "    <tr>\n",
       "      <th>4</th>\n",
       "      <td>BMG_MC589030</td>\n",
       "      <td>BMG_DS081117</td>\n",
       "    </tr>\n",
       "    <tr>\n",
       "      <th>...</th>\n",
       "      <td>...</td>\n",
       "      <td>...</td>\n",
       "    </tr>\n",
       "    <tr>\n",
       "      <th>25789</th>\n",
       "      <td>BMG_MC308262</td>\n",
       "      <td>BMG_DS006709</td>\n",
       "    </tr>\n",
       "    <tr>\n",
       "      <th>25790</th>\n",
       "      <td>BMG_MC403050</td>\n",
       "      <td>BMG_DS006709</td>\n",
       "    </tr>\n",
       "    <tr>\n",
       "      <th>25791</th>\n",
       "      <td>BMG_MC475993</td>\n",
       "      <td>BMG_DS006709</td>\n",
       "    </tr>\n",
       "    <tr>\n",
       "      <th>25792</th>\n",
       "      <td>BMG_MC475994</td>\n",
       "      <td>BMG_DS006709</td>\n",
       "    </tr>\n",
       "    <tr>\n",
       "      <th>25793</th>\n",
       "      <td>BMG_MC403078</td>\n",
       "      <td>BMG_DS006709</td>\n",
       "    </tr>\n",
       "  </tbody>\n",
       "</table>\n",
       "<p>18014 rows × 2 columns</p>\n",
       "</div>"
      ],
      "text/plain": [
       "            From_ID         To_ID\n",
       "0      BMG_MC578719  BMG_DS000469\n",
       "1      BMG_MC589030  BMG_DS080952\n",
       "2      BMG_MC589030  BMG_DS080976\n",
       "3      BMG_MC589030  BMG_DS080978\n",
       "4      BMG_MC589030  BMG_DS081117\n",
       "...             ...           ...\n",
       "25789  BMG_MC308262  BMG_DS006709\n",
       "25790  BMG_MC403050  BMG_DS006709\n",
       "25791  BMG_MC475993  BMG_DS006709\n",
       "25792  BMG_MC475994  BMG_DS006709\n",
       "25793  BMG_MC403078  BMG_DS006709\n",
       "\n",
       "[18014 rows x 2 columns]"
      ]
     },
     "execution_count": 32,
     "metadata": {},
     "output_type": "execute_result"
    }
   ],
   "source": [
    "hmdad_final['From_ID'] = hmdad_final['From_ID'].str.split(';')\n",
    "hmdad_final['To_ID'] = hmdad_final['To_ID'].str.split(';')\n",
    "\n",
    "hmdad_final = hmdad_final.explode('From_ID')\n",
    "hmdad_final = hmdad_final.explode('To_ID')\n",
    "\n",
    "hmdad_final['From_ID'] = hmdad_final['From_ID'].str.strip()\n",
    "hmdad_final['To_ID'] = hmdad_final['To_ID'].str.strip()\n",
    "hmdad_final.drop_duplicates(inplace=True)\n",
    "hmdad_final"
   ]
  },
  {
   "cell_type": "markdown",
   "metadata": {},
   "source": [
    "### Microbiota-Disease Relation"
   ]
  },
  {
   "cell_type": "code",
   "execution_count": 34,
   "metadata": {},
   "outputs": [],
   "source": [
    "disbiome_micro_disease['source1'] = 'Disbiome'\n",
    "hmdad_final['source2'] = 'HMDAD'\n",
    "\n",
    "microbiota_disease = pd.merge(disbiome_micro_disease, hmdad_final, how='outer')"
   ]
  },
  {
   "cell_type": "code",
   "execution_count": 35,
   "metadata": {},
   "outputs": [
    {
     "data": {
      "application/vnd.microsoft.datawrangler.viewer.v0+json": {
       "columns": [
        {
         "name": "index",
         "rawType": "int64",
         "type": "integer"
        },
        {
         "name": "From_ID",
         "rawType": "object",
         "type": "string"
        },
        {
         "name": "To_ID",
         "rawType": "object",
         "type": "string"
        },
        {
         "name": "Source",
         "rawType": "object",
         "type": "string"
        }
       ],
       "conversionMethod": "pd.DataFrame",
       "ref": "37ed12df-5f5a-4ef3-ae7d-0ca43831f452",
       "rows": [
        [
         "0",
         "BMG_MC000001",
         "BMG_DS001524",
         "Disbiome"
        ],
        [
         "1",
         "BMG_MC000001",
         "BMG_DS003407",
         "Disbiome"
        ],
        [
         "2",
         "BMG_MC000208",
         "BMG_DS061239",
         "Disbiome"
        ],
        [
         "3",
         "BMG_MC000208",
         "BMG_DS061240",
         "Disbiome"
        ],
        [
         "4",
         "BMG_MC000208",
         "BMG_DS061241",
         "Disbiome"
        ],
        [
         "5",
         "BMG_MC000355",
         "BMG_DS036782",
         "HMDAD"
        ],
        [
         "6",
         "BMG_MC000356",
         "BMG_DS029389",
         "Disbiome"
        ],
        [
         "7",
         "BMG_MC000356",
         "BMG_DS029390",
         "Disbiome"
        ],
        [
         "8",
         "BMG_MC002727",
         "BMG_DS001032",
         "Disbiome"
        ],
        [
         "9",
         "BMG_MC002727",
         "BMG_DS001332",
         "Disbiome"
        ],
        [
         "10",
         "BMG_MC002727",
         "BMG_DS002712",
         "Disbiome"
        ],
        [
         "11",
         "BMG_MC002727",
         "BMG_DS027369",
         "Disbiome"
        ],
        [
         "12",
         "BMG_MC002727",
         "BMG_DS044895",
         "Disbiome"
        ],
        [
         "13",
         "BMG_MC002727",
         "BMG_DS047090",
         "Disbiome"
        ],
        [
         "14",
         "BMG_MC002727",
         "BMG_DS052277",
         "Disbiome"
        ],
        [
         "15",
         "BMG_MC002727",
         "BMG_DS080952",
         "HMDAD"
        ],
        [
         "16",
         "BMG_MC002727",
         "BMG_DS080976",
         "HMDAD"
        ],
        [
         "17",
         "BMG_MC002727",
         "BMG_DS080978",
         "HMDAD"
        ],
        [
         "18",
         "BMG_MC002727",
         "BMG_DS081117",
         "HMDAD"
        ],
        [
         "19",
         "BMG_MC002727",
         "BMG_DS081174",
         "HMDAD"
        ],
        [
         "20",
         "BMG_MC002727",
         "BMG_DS081342",
         "Disbiome"
        ],
        [
         "21",
         "BMG_MC002727",
         "BMG_DS081907",
         "HMDAD"
        ],
        [
         "22",
         "BMG_MC002727",
         "BMG_DS081908",
         "HMDAD"
        ],
        [
         "23",
         "BMG_MC002727",
         "BMG_DS081909",
         "HMDAD"
        ],
        [
         "24",
         "BMG_MC002727",
         "BMG_DS081910",
         "HMDAD"
        ],
        [
         "25",
         "BMG_MC002727",
         "BMG_DS081911",
         "HMDAD"
        ],
        [
         "26",
         "BMG_MC002727",
         "BMG_DS081912",
         "HMDAD"
        ],
        [
         "27",
         "BMG_MC002727",
         "BMG_DS081913",
         "HMDAD"
        ],
        [
         "28",
         "BMG_MC002727",
         "BMG_DS081914",
         "HMDAD"
        ],
        [
         "29",
         "BMG_MC002727",
         "BMG_DS081916",
         "HMDAD"
        ],
        [
         "30",
         "BMG_MC002727",
         "BMG_DS081917",
         "HMDAD"
        ],
        [
         "31",
         "BMG_MC002727",
         "BMG_DS081918",
         "HMDAD"
        ],
        [
         "32",
         "BMG_MC002727",
         "BMG_DS081919",
         "HMDAD"
        ],
        [
         "33",
         "BMG_MC002727",
         "BMG_DS081920",
         "HMDAD"
        ],
        [
         "34",
         "BMG_MC002727",
         "BMG_DS081921",
         "HMDAD"
        ],
        [
         "35",
         "BMG_MC002727",
         "BMG_DS081922",
         "HMDAD"
        ],
        [
         "36",
         "BMG_MC002727",
         "BMG_DS081923",
         "HMDAD"
        ],
        [
         "37",
         "BMG_MC002727",
         "BMG_DS081924",
         "HMDAD"
        ],
        [
         "38",
         "BMG_MC002727",
         "BMG_DS081925",
         "HMDAD"
        ],
        [
         "39",
         "BMG_MC002727",
         "BMG_DS081926",
         "HMDAD"
        ],
        [
         "40",
         "BMG_MC002727",
         "BMG_DS081927",
         "HMDAD"
        ],
        [
         "41",
         "BMG_MC002727",
         "BMG_DS081928",
         "HMDAD"
        ],
        [
         "42",
         "BMG_MC002727",
         "BMG_DS081929",
         "HMDAD"
        ],
        [
         "43",
         "BMG_MC002727",
         "BMG_DS081930",
         "HMDAD"
        ],
        [
         "44",
         "BMG_MC002727",
         "BMG_DS081931",
         "HMDAD"
        ],
        [
         "45",
         "BMG_MC002727",
         "BMG_DS081932",
         "HMDAD"
        ],
        [
         "46",
         "BMG_MC002727",
         "BMG_DS081933",
         "HMDAD"
        ],
        [
         "47",
         "BMG_MC002727",
         "BMG_DS081934",
         "HMDAD"
        ],
        [
         "48",
         "BMG_MC002727",
         "BMG_DS081935",
         "HMDAD"
        ],
        [
         "49",
         "BMG_MC002727",
         "BMG_DS081936",
         "HMDAD"
        ]
       ],
       "shape": {
        "columns": 3,
        "rows": 22371
       }
      },
      "text/html": [
       "<div>\n",
       "<style scoped>\n",
       "    .dataframe tbody tr th:only-of-type {\n",
       "        vertical-align: middle;\n",
       "    }\n",
       "\n",
       "    .dataframe tbody tr th {\n",
       "        vertical-align: top;\n",
       "    }\n",
       "\n",
       "    .dataframe thead th {\n",
       "        text-align: right;\n",
       "    }\n",
       "</style>\n",
       "<table border=\"1\" class=\"dataframe\">\n",
       "  <thead>\n",
       "    <tr style=\"text-align: right;\">\n",
       "      <th></th>\n",
       "      <th>From_ID</th>\n",
       "      <th>To_ID</th>\n",
       "      <th>Source</th>\n",
       "    </tr>\n",
       "  </thead>\n",
       "  <tbody>\n",
       "    <tr>\n",
       "      <th>0</th>\n",
       "      <td>BMG_MC000001</td>\n",
       "      <td>BMG_DS001524</td>\n",
       "      <td>Disbiome</td>\n",
       "    </tr>\n",
       "    <tr>\n",
       "      <th>1</th>\n",
       "      <td>BMG_MC000001</td>\n",
       "      <td>BMG_DS003407</td>\n",
       "      <td>Disbiome</td>\n",
       "    </tr>\n",
       "    <tr>\n",
       "      <th>2</th>\n",
       "      <td>BMG_MC000208</td>\n",
       "      <td>BMG_DS061239</td>\n",
       "      <td>Disbiome</td>\n",
       "    </tr>\n",
       "    <tr>\n",
       "      <th>3</th>\n",
       "      <td>BMG_MC000208</td>\n",
       "      <td>BMG_DS061240</td>\n",
       "      <td>Disbiome</td>\n",
       "    </tr>\n",
       "    <tr>\n",
       "      <th>4</th>\n",
       "      <td>BMG_MC000208</td>\n",
       "      <td>BMG_DS061241</td>\n",
       "      <td>Disbiome</td>\n",
       "    </tr>\n",
       "    <tr>\n",
       "      <th>...</th>\n",
       "      <td>...</td>\n",
       "      <td>...</td>\n",
       "      <td>...</td>\n",
       "    </tr>\n",
       "    <tr>\n",
       "      <th>22366</th>\n",
       "      <td>BMG_MC619462</td>\n",
       "      <td>BMG_DS000640</td>\n",
       "      <td>Disbiome</td>\n",
       "    </tr>\n",
       "    <tr>\n",
       "      <th>22367</th>\n",
       "      <td>BMG_MC619462</td>\n",
       "      <td>BMG_DS029389</td>\n",
       "      <td>Disbiome</td>\n",
       "    </tr>\n",
       "    <tr>\n",
       "      <th>22368</th>\n",
       "      <td>BMG_MC619462</td>\n",
       "      <td>BMG_DS029390</td>\n",
       "      <td>Disbiome</td>\n",
       "    </tr>\n",
       "    <tr>\n",
       "      <th>22369</th>\n",
       "      <td>BMG_MC619462</td>\n",
       "      <td>BMG_DS044895</td>\n",
       "      <td>Disbiome</td>\n",
       "    </tr>\n",
       "    <tr>\n",
       "      <th>22370</th>\n",
       "      <td>BMG_MC619462</td>\n",
       "      <td>BMG_DS052277</td>\n",
       "      <td>Disbiome</td>\n",
       "    </tr>\n",
       "  </tbody>\n",
       "</table>\n",
       "<p>22371 rows × 3 columns</p>\n",
       "</div>"
      ],
      "text/plain": [
       "            From_ID         To_ID    Source\n",
       "0      BMG_MC000001  BMG_DS001524  Disbiome\n",
       "1      BMG_MC000001  BMG_DS003407  Disbiome\n",
       "2      BMG_MC000208  BMG_DS061239  Disbiome\n",
       "3      BMG_MC000208  BMG_DS061240  Disbiome\n",
       "4      BMG_MC000208  BMG_DS061241  Disbiome\n",
       "...             ...           ...       ...\n",
       "22366  BMG_MC619462  BMG_DS000640  Disbiome\n",
       "22367  BMG_MC619462  BMG_DS029389  Disbiome\n",
       "22368  BMG_MC619462  BMG_DS029390  Disbiome\n",
       "22369  BMG_MC619462  BMG_DS044895  Disbiome\n",
       "22370  BMG_MC619462  BMG_DS052277  Disbiome\n",
       "\n",
       "[22371 rows x 3 columns]"
      ]
     },
     "execution_count": 35,
     "metadata": {},
     "output_type": "execute_result"
    }
   ],
   "source": [
    "def merge_string_columns(df, columns, merge_name, separator=';'):\n",
    "    def merge_strings(row):\n",
    "        combined = set()\n",
    "        for column in columns:\n",
    "            if pd.notnull(row[column]):\n",
    "                combined.update(row[column].split(separator))\n",
    "        return separator.join(combined)\n",
    "    \n",
    "    # Apply the function to each row and create a new column\n",
    "    combined_column_name = merge_name\n",
    "    df[combined_column_name] = df.apply(merge_strings, axis=1)\n",
    "    df.drop(columns=columns, inplace=True)\n",
    "    \n",
    "    return df\n",
    "\n",
    "microbiota_disease = merge_string_columns(microbiota_disease, ['source1', 'source2'], 'Source')\n",
    "microbiota_disease"
   ]
  },
  {
   "cell_type": "code",
   "execution_count": 36,
   "metadata": {},
   "outputs": [
    {
     "data": {
      "application/vnd.microsoft.datawrangler.viewer.v0+json": {
       "columns": [
        {
         "name": "index",
         "rawType": "int64",
         "type": "integer"
        },
        {
         "name": "BioMedGraphica_ID",
         "rawType": "object",
         "type": "string"
        },
        {
         "name": "From_ID",
         "rawType": "object",
         "type": "string"
        },
        {
         "name": "To_ID",
         "rawType": "object",
         "type": "string"
        },
        {
         "name": "Source",
         "rawType": "object",
         "type": "string"
        },
        {
         "name": "Type",
         "rawType": "object",
         "type": "string"
        }
       ],
       "conversionMethod": "pd.DataFrame",
       "ref": "0ded6a33-14fb-4486-8fb3-7027b25e9a4f",
       "rows": [
        [
         "0",
         "BMG_ED_MCDS00001",
         "BMG_MC000001",
         "BMG_DS001524",
         "Disbiome",
         "Microbiota-Disease"
        ],
        [
         "1",
         "BMG_ED_MCDS00002",
         "BMG_MC000001",
         "BMG_DS003407",
         "Disbiome",
         "Microbiota-Disease"
        ],
        [
         "2",
         "BMG_ED_MCDS00003",
         "BMG_MC000208",
         "BMG_DS061239",
         "Disbiome",
         "Microbiota-Disease"
        ],
        [
         "3",
         "BMG_ED_MCDS00004",
         "BMG_MC000208",
         "BMG_DS061240",
         "Disbiome",
         "Microbiota-Disease"
        ],
        [
         "4",
         "BMG_ED_MCDS00005",
         "BMG_MC000208",
         "BMG_DS061241",
         "Disbiome",
         "Microbiota-Disease"
        ],
        [
         "5",
         "BMG_ED_MCDS00006",
         "BMG_MC000355",
         "BMG_DS036782",
         "HMDAD",
         "Microbiota-Disease"
        ],
        [
         "6",
         "BMG_ED_MCDS00007",
         "BMG_MC000356",
         "BMG_DS029389",
         "Disbiome",
         "Microbiota-Disease"
        ],
        [
         "7",
         "BMG_ED_MCDS00008",
         "BMG_MC000356",
         "BMG_DS029390",
         "Disbiome",
         "Microbiota-Disease"
        ],
        [
         "8",
         "BMG_ED_MCDS00009",
         "BMG_MC002727",
         "BMG_DS001032",
         "Disbiome",
         "Microbiota-Disease"
        ],
        [
         "9",
         "BMG_ED_MCDS00010",
         "BMG_MC002727",
         "BMG_DS001332",
         "Disbiome",
         "Microbiota-Disease"
        ],
        [
         "10",
         "BMG_ED_MCDS00011",
         "BMG_MC002727",
         "BMG_DS002712",
         "Disbiome",
         "Microbiota-Disease"
        ],
        [
         "11",
         "BMG_ED_MCDS00012",
         "BMG_MC002727",
         "BMG_DS027369",
         "Disbiome",
         "Microbiota-Disease"
        ],
        [
         "12",
         "BMG_ED_MCDS00013",
         "BMG_MC002727",
         "BMG_DS044895",
         "Disbiome",
         "Microbiota-Disease"
        ],
        [
         "13",
         "BMG_ED_MCDS00014",
         "BMG_MC002727",
         "BMG_DS047090",
         "Disbiome",
         "Microbiota-Disease"
        ],
        [
         "14",
         "BMG_ED_MCDS00015",
         "BMG_MC002727",
         "BMG_DS052277",
         "Disbiome",
         "Microbiota-Disease"
        ],
        [
         "15",
         "BMG_ED_MCDS00016",
         "BMG_MC002727",
         "BMG_DS080952",
         "HMDAD",
         "Microbiota-Disease"
        ],
        [
         "16",
         "BMG_ED_MCDS00017",
         "BMG_MC002727",
         "BMG_DS080976",
         "HMDAD",
         "Microbiota-Disease"
        ],
        [
         "17",
         "BMG_ED_MCDS00018",
         "BMG_MC002727",
         "BMG_DS080978",
         "HMDAD",
         "Microbiota-Disease"
        ],
        [
         "18",
         "BMG_ED_MCDS00019",
         "BMG_MC002727",
         "BMG_DS081117",
         "HMDAD",
         "Microbiota-Disease"
        ],
        [
         "19",
         "BMG_ED_MCDS00020",
         "BMG_MC002727",
         "BMG_DS081174",
         "HMDAD",
         "Microbiota-Disease"
        ],
        [
         "20",
         "BMG_ED_MCDS00021",
         "BMG_MC002727",
         "BMG_DS081342",
         "Disbiome",
         "Microbiota-Disease"
        ],
        [
         "21",
         "BMG_ED_MCDS00022",
         "BMG_MC002727",
         "BMG_DS081907",
         "HMDAD",
         "Microbiota-Disease"
        ],
        [
         "22",
         "BMG_ED_MCDS00023",
         "BMG_MC002727",
         "BMG_DS081908",
         "HMDAD",
         "Microbiota-Disease"
        ],
        [
         "23",
         "BMG_ED_MCDS00024",
         "BMG_MC002727",
         "BMG_DS081909",
         "HMDAD",
         "Microbiota-Disease"
        ],
        [
         "24",
         "BMG_ED_MCDS00025",
         "BMG_MC002727",
         "BMG_DS081910",
         "HMDAD",
         "Microbiota-Disease"
        ],
        [
         "25",
         "BMG_ED_MCDS00026",
         "BMG_MC002727",
         "BMG_DS081911",
         "HMDAD",
         "Microbiota-Disease"
        ],
        [
         "26",
         "BMG_ED_MCDS00027",
         "BMG_MC002727",
         "BMG_DS081912",
         "HMDAD",
         "Microbiota-Disease"
        ],
        [
         "27",
         "BMG_ED_MCDS00028",
         "BMG_MC002727",
         "BMG_DS081913",
         "HMDAD",
         "Microbiota-Disease"
        ],
        [
         "28",
         "BMG_ED_MCDS00029",
         "BMG_MC002727",
         "BMG_DS081914",
         "HMDAD",
         "Microbiota-Disease"
        ],
        [
         "29",
         "BMG_ED_MCDS00030",
         "BMG_MC002727",
         "BMG_DS081916",
         "HMDAD",
         "Microbiota-Disease"
        ],
        [
         "30",
         "BMG_ED_MCDS00031",
         "BMG_MC002727",
         "BMG_DS081917",
         "HMDAD",
         "Microbiota-Disease"
        ],
        [
         "31",
         "BMG_ED_MCDS00032",
         "BMG_MC002727",
         "BMG_DS081918",
         "HMDAD",
         "Microbiota-Disease"
        ],
        [
         "32",
         "BMG_ED_MCDS00033",
         "BMG_MC002727",
         "BMG_DS081919",
         "HMDAD",
         "Microbiota-Disease"
        ],
        [
         "33",
         "BMG_ED_MCDS00034",
         "BMG_MC002727",
         "BMG_DS081920",
         "HMDAD",
         "Microbiota-Disease"
        ],
        [
         "34",
         "BMG_ED_MCDS00035",
         "BMG_MC002727",
         "BMG_DS081921",
         "HMDAD",
         "Microbiota-Disease"
        ],
        [
         "35",
         "BMG_ED_MCDS00036",
         "BMG_MC002727",
         "BMG_DS081922",
         "HMDAD",
         "Microbiota-Disease"
        ],
        [
         "36",
         "BMG_ED_MCDS00037",
         "BMG_MC002727",
         "BMG_DS081923",
         "HMDAD",
         "Microbiota-Disease"
        ],
        [
         "37",
         "BMG_ED_MCDS00038",
         "BMG_MC002727",
         "BMG_DS081924",
         "HMDAD",
         "Microbiota-Disease"
        ],
        [
         "38",
         "BMG_ED_MCDS00039",
         "BMG_MC002727",
         "BMG_DS081925",
         "HMDAD",
         "Microbiota-Disease"
        ],
        [
         "39",
         "BMG_ED_MCDS00040",
         "BMG_MC002727",
         "BMG_DS081926",
         "HMDAD",
         "Microbiota-Disease"
        ],
        [
         "40",
         "BMG_ED_MCDS00041",
         "BMG_MC002727",
         "BMG_DS081927",
         "HMDAD",
         "Microbiota-Disease"
        ],
        [
         "41",
         "BMG_ED_MCDS00042",
         "BMG_MC002727",
         "BMG_DS081928",
         "HMDAD",
         "Microbiota-Disease"
        ],
        [
         "42",
         "BMG_ED_MCDS00043",
         "BMG_MC002727",
         "BMG_DS081929",
         "HMDAD",
         "Microbiota-Disease"
        ],
        [
         "43",
         "BMG_ED_MCDS00044",
         "BMG_MC002727",
         "BMG_DS081930",
         "HMDAD",
         "Microbiota-Disease"
        ],
        [
         "44",
         "BMG_ED_MCDS00045",
         "BMG_MC002727",
         "BMG_DS081931",
         "HMDAD",
         "Microbiota-Disease"
        ],
        [
         "45",
         "BMG_ED_MCDS00046",
         "BMG_MC002727",
         "BMG_DS081932",
         "HMDAD",
         "Microbiota-Disease"
        ],
        [
         "46",
         "BMG_ED_MCDS00047",
         "BMG_MC002727",
         "BMG_DS081933",
         "HMDAD",
         "Microbiota-Disease"
        ],
        [
         "47",
         "BMG_ED_MCDS00048",
         "BMG_MC002727",
         "BMG_DS081934",
         "HMDAD",
         "Microbiota-Disease"
        ],
        [
         "48",
         "BMG_ED_MCDS00049",
         "BMG_MC002727",
         "BMG_DS081935",
         "HMDAD",
         "Microbiota-Disease"
        ],
        [
         "49",
         "BMG_ED_MCDS00050",
         "BMG_MC002727",
         "BMG_DS081936",
         "HMDAD",
         "Microbiota-Disease"
        ]
       ],
       "shape": {
        "columns": 5,
        "rows": 22371
       }
      },
      "text/html": [
       "<div>\n",
       "<style scoped>\n",
       "    .dataframe tbody tr th:only-of-type {\n",
       "        vertical-align: middle;\n",
       "    }\n",
       "\n",
       "    .dataframe tbody tr th {\n",
       "        vertical-align: top;\n",
       "    }\n",
       "\n",
       "    .dataframe thead th {\n",
       "        text-align: right;\n",
       "    }\n",
       "</style>\n",
       "<table border=\"1\" class=\"dataframe\">\n",
       "  <thead>\n",
       "    <tr style=\"text-align: right;\">\n",
       "      <th></th>\n",
       "      <th>BioMedGraphica_ID</th>\n",
       "      <th>From_ID</th>\n",
       "      <th>To_ID</th>\n",
       "      <th>Source</th>\n",
       "      <th>Type</th>\n",
       "    </tr>\n",
       "  </thead>\n",
       "  <tbody>\n",
       "    <tr>\n",
       "      <th>0</th>\n",
       "      <td>BMG_ED_MCDS00001</td>\n",
       "      <td>BMG_MC000001</td>\n",
       "      <td>BMG_DS001524</td>\n",
       "      <td>Disbiome</td>\n",
       "      <td>Microbiota-Disease</td>\n",
       "    </tr>\n",
       "    <tr>\n",
       "      <th>1</th>\n",
       "      <td>BMG_ED_MCDS00002</td>\n",
       "      <td>BMG_MC000001</td>\n",
       "      <td>BMG_DS003407</td>\n",
       "      <td>Disbiome</td>\n",
       "      <td>Microbiota-Disease</td>\n",
       "    </tr>\n",
       "    <tr>\n",
       "      <th>2</th>\n",
       "      <td>BMG_ED_MCDS00003</td>\n",
       "      <td>BMG_MC000208</td>\n",
       "      <td>BMG_DS061239</td>\n",
       "      <td>Disbiome</td>\n",
       "      <td>Microbiota-Disease</td>\n",
       "    </tr>\n",
       "    <tr>\n",
       "      <th>3</th>\n",
       "      <td>BMG_ED_MCDS00004</td>\n",
       "      <td>BMG_MC000208</td>\n",
       "      <td>BMG_DS061240</td>\n",
       "      <td>Disbiome</td>\n",
       "      <td>Microbiota-Disease</td>\n",
       "    </tr>\n",
       "    <tr>\n",
       "      <th>4</th>\n",
       "      <td>BMG_ED_MCDS00005</td>\n",
       "      <td>BMG_MC000208</td>\n",
       "      <td>BMG_DS061241</td>\n",
       "      <td>Disbiome</td>\n",
       "      <td>Microbiota-Disease</td>\n",
       "    </tr>\n",
       "    <tr>\n",
       "      <th>...</th>\n",
       "      <td>...</td>\n",
       "      <td>...</td>\n",
       "      <td>...</td>\n",
       "      <td>...</td>\n",
       "      <td>...</td>\n",
       "    </tr>\n",
       "    <tr>\n",
       "      <th>22366</th>\n",
       "      <td>BMG_ED_MCDS22367</td>\n",
       "      <td>BMG_MC619462</td>\n",
       "      <td>BMG_DS000640</td>\n",
       "      <td>Disbiome</td>\n",
       "      <td>Microbiota-Disease</td>\n",
       "    </tr>\n",
       "    <tr>\n",
       "      <th>22367</th>\n",
       "      <td>BMG_ED_MCDS22368</td>\n",
       "      <td>BMG_MC619462</td>\n",
       "      <td>BMG_DS029389</td>\n",
       "      <td>Disbiome</td>\n",
       "      <td>Microbiota-Disease</td>\n",
       "    </tr>\n",
       "    <tr>\n",
       "      <th>22368</th>\n",
       "      <td>BMG_ED_MCDS22369</td>\n",
       "      <td>BMG_MC619462</td>\n",
       "      <td>BMG_DS029390</td>\n",
       "      <td>Disbiome</td>\n",
       "      <td>Microbiota-Disease</td>\n",
       "    </tr>\n",
       "    <tr>\n",
       "      <th>22369</th>\n",
       "      <td>BMG_ED_MCDS22370</td>\n",
       "      <td>BMG_MC619462</td>\n",
       "      <td>BMG_DS044895</td>\n",
       "      <td>Disbiome</td>\n",
       "      <td>Microbiota-Disease</td>\n",
       "    </tr>\n",
       "    <tr>\n",
       "      <th>22370</th>\n",
       "      <td>BMG_ED_MCDS22371</td>\n",
       "      <td>BMG_MC619462</td>\n",
       "      <td>BMG_DS052277</td>\n",
       "      <td>Disbiome</td>\n",
       "      <td>Microbiota-Disease</td>\n",
       "    </tr>\n",
       "  </tbody>\n",
       "</table>\n",
       "<p>22371 rows × 5 columns</p>\n",
       "</div>"
      ],
      "text/plain": [
       "      BioMedGraphica_ID       From_ID         To_ID    Source  \\\n",
       "0      BMG_ED_MCDS00001  BMG_MC000001  BMG_DS001524  Disbiome   \n",
       "1      BMG_ED_MCDS00002  BMG_MC000001  BMG_DS003407  Disbiome   \n",
       "2      BMG_ED_MCDS00003  BMG_MC000208  BMG_DS061239  Disbiome   \n",
       "3      BMG_ED_MCDS00004  BMG_MC000208  BMG_DS061240  Disbiome   \n",
       "4      BMG_ED_MCDS00005  BMG_MC000208  BMG_DS061241  Disbiome   \n",
       "...                 ...           ...           ...       ...   \n",
       "22366  BMG_ED_MCDS22367  BMG_MC619462  BMG_DS000640  Disbiome   \n",
       "22367  BMG_ED_MCDS22368  BMG_MC619462  BMG_DS029389  Disbiome   \n",
       "22368  BMG_ED_MCDS22369  BMG_MC619462  BMG_DS029390  Disbiome   \n",
       "22369  BMG_ED_MCDS22370  BMG_MC619462  BMG_DS044895  Disbiome   \n",
       "22370  BMG_ED_MCDS22371  BMG_MC619462  BMG_DS052277  Disbiome   \n",
       "\n",
       "                     Type  \n",
       "0      Microbiota-Disease  \n",
       "1      Microbiota-Disease  \n",
       "2      Microbiota-Disease  \n",
       "3      Microbiota-Disease  \n",
       "4      Microbiota-Disease  \n",
       "...                   ...  \n",
       "22366  Microbiota-Disease  \n",
       "22367  Microbiota-Disease  \n",
       "22368  Microbiota-Disease  \n",
       "22369  Microbiota-Disease  \n",
       "22370  Microbiota-Disease  \n",
       "\n",
       "[22371 rows x 5 columns]"
      ]
     },
     "execution_count": 36,
     "metadata": {},
     "output_type": "execute_result"
    }
   ],
   "source": [
    "microbiota_disease['Type'] = 'Microbiota-Disease'\n",
    "\n",
    "max_length = len(str(len(microbiota_disease)))\n",
    "microbiota_disease['BioMedGraphica_ID'] = ['BMG_ED_MCDS' + str(i).zfill(max_length) for i in range(1, len(microbiota_disease) + 1)]\n",
    "columns = ['BioMedGraphica_ID'] + [col for col in microbiota_disease.columns if col != 'BioMedGraphica_ID']  # re-order columns\n",
    "microbiota_disease = microbiota_disease[columns]\n",
    "microbiota_disease"
   ]
  },
  {
   "cell_type": "code",
   "execution_count": 37,
   "metadata": {},
   "outputs": [
    {
     "name": "stdout",
     "output_type": "stream",
     "text": [
      "Data has been saved to D:\\RA\\BMG\\BioMedGraphica\\Relation\\Microbiota-Disease\\BioMedGraphica_Microbiota_Disease.csv\n"
     ]
    }
   ],
   "source": [
    "import os\n",
    "from pathlib import Path\n",
    "\n",
    "# get the current working directory\n",
    "current_working_dir = Path(os.getcwd()).resolve()\n",
    "\n",
    "# get the output directory\n",
    "grandparent_dir = current_working_dir.parent.parent.parent\n",
    "\n",
    "target_folder = grandparent_dir / 'BioMedGraphica' / 'Relation' / 'Microbiota-Disease'\n",
    "if not target_folder.exists():\n",
    "    target_folder.mkdir(parents=True)\n",
    "    print(f\"Folder {target_folder} has been created.\")\n",
    "\n",
    "output_file_path = target_folder / 'BioMedGraphica_Microbiota_Disease.csv'\n",
    "microbiota_disease.to_csv(output_file_path, index=False)\n",
    "print(f\"Data has been saved to {output_file_path}\")"
   ]
  }
 ],
 "metadata": {
  "kernelspec": {
   "display_name": "base",
   "language": "python",
   "name": "python3"
  },
  "language_info": {
   "codemirror_mode": {
    "name": "ipython",
    "version": 3
   },
   "file_extension": ".py",
   "mimetype": "text/x-python",
   "name": "python",
   "nbconvert_exporter": "python",
   "pygments_lexer": "ipython3",
   "version": "3.9.19"
  }
 },
 "nbformat": 4,
 "nbformat_minor": 2
}
