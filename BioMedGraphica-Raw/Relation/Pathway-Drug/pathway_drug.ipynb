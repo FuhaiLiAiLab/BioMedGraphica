{
 "cells": [
  {
   "cell_type": "markdown",
   "metadata": {},
   "source": [
    "### KEGG"
   ]
  },
  {
   "cell_type": "code",
   "execution_count": 1,
   "metadata": {},
   "outputs": [
    {
     "data": {
      "application/vnd.microsoft.datawrangler.viewer.v0+json": {
       "columns": [
        {
         "name": "index",
         "rawType": "int64",
         "type": "integer"
        },
        {
         "name": "Unnamed: 0",
         "rawType": "int64",
         "type": "integer"
        },
        {
         "name": "source_type",
         "rawType": "object",
         "type": "string"
        },
        {
         "name": "source",
         "rawType": "object",
         "type": "string"
        },
        {
         "name": "target_type",
         "rawType": "object",
         "type": "string"
        },
        {
         "name": "target",
         "rawType": "object",
         "type": "string"
        },
        {
         "name": "direction",
         "rawType": "object",
         "type": "string"
        },
        {
         "name": "edge_type",
         "rawType": "object",
         "type": "string"
        },
        {
         "name": "pathway_name",
         "rawType": "object",
         "type": "string"
        },
        {
         "name": "pathway_id",
         "rawType": "object",
         "type": "string"
        }
       ],
       "conversionMethod": "pd.DataFrame",
       "ref": "394e5491-7e5f-42a7-8bee-4548ef8603f4",
       "rows": [
        [
         "0",
         "2",
         "KEGGCOMP",
         "C00022",
         "SYMBOL",
         "LDHAL6A",
         "directed",
         "Process",
         "Glycolysis / Gluconeogenesis",
         "hsa00010"
        ],
        [
         "1",
         "3",
         "KEGGCOMP",
         "C00022",
         "SYMBOL",
         "LDHAL6A",
         "undirected",
         "Process",
         "Glycolysis / Gluconeogenesis",
         "hsa00010"
        ],
        [
         "2",
         "4",
         "KEGGCOMP",
         "C00022",
         "SYMBOL",
         "LDHA",
         "directed",
         "Process",
         "Glycolysis / Gluconeogenesis",
         "hsa00010"
        ],
        [
         "3",
         "5",
         "KEGGCOMP",
         "C00022",
         "SYMBOL",
         "LDHA",
         "undirected",
         "Process",
         "Glycolysis / Gluconeogenesis",
         "hsa00010"
        ],
        [
         "4",
         "6",
         "KEGGCOMP",
         "C00022",
         "SYMBOL",
         "LDHB",
         "directed",
         "Process",
         "Glycolysis / Gluconeogenesis",
         "hsa00010"
        ]
       ],
       "shape": {
        "columns": 9,
        "rows": 5
       }
      },
      "text/html": [
       "<div>\n",
       "<style scoped>\n",
       "    .dataframe tbody tr th:only-of-type {\n",
       "        vertical-align: middle;\n",
       "    }\n",
       "\n",
       "    .dataframe tbody tr th {\n",
       "        vertical-align: top;\n",
       "    }\n",
       "\n",
       "    .dataframe thead th {\n",
       "        text-align: right;\n",
       "    }\n",
       "</style>\n",
       "<table border=\"1\" class=\"dataframe\">\n",
       "  <thead>\n",
       "    <tr style=\"text-align: right;\">\n",
       "      <th></th>\n",
       "      <th>Unnamed: 0</th>\n",
       "      <th>source_type</th>\n",
       "      <th>source</th>\n",
       "      <th>target_type</th>\n",
       "      <th>target</th>\n",
       "      <th>direction</th>\n",
       "      <th>edge_type</th>\n",
       "      <th>pathway_name</th>\n",
       "      <th>pathway_id</th>\n",
       "    </tr>\n",
       "  </thead>\n",
       "  <tbody>\n",
       "    <tr>\n",
       "      <th>0</th>\n",
       "      <td>2</td>\n",
       "      <td>KEGGCOMP</td>\n",
       "      <td>C00022</td>\n",
       "      <td>SYMBOL</td>\n",
       "      <td>LDHAL6A</td>\n",
       "      <td>directed</td>\n",
       "      <td>Process</td>\n",
       "      <td>Glycolysis / Gluconeogenesis</td>\n",
       "      <td>hsa00010</td>\n",
       "    </tr>\n",
       "    <tr>\n",
       "      <th>1</th>\n",
       "      <td>3</td>\n",
       "      <td>KEGGCOMP</td>\n",
       "      <td>C00022</td>\n",
       "      <td>SYMBOL</td>\n",
       "      <td>LDHAL6A</td>\n",
       "      <td>undirected</td>\n",
       "      <td>Process</td>\n",
       "      <td>Glycolysis / Gluconeogenesis</td>\n",
       "      <td>hsa00010</td>\n",
       "    </tr>\n",
       "    <tr>\n",
       "      <th>2</th>\n",
       "      <td>4</td>\n",
       "      <td>KEGGCOMP</td>\n",
       "      <td>C00022</td>\n",
       "      <td>SYMBOL</td>\n",
       "      <td>LDHA</td>\n",
       "      <td>directed</td>\n",
       "      <td>Process</td>\n",
       "      <td>Glycolysis / Gluconeogenesis</td>\n",
       "      <td>hsa00010</td>\n",
       "    </tr>\n",
       "    <tr>\n",
       "      <th>3</th>\n",
       "      <td>5</td>\n",
       "      <td>KEGGCOMP</td>\n",
       "      <td>C00022</td>\n",
       "      <td>SYMBOL</td>\n",
       "      <td>LDHA</td>\n",
       "      <td>undirected</td>\n",
       "      <td>Process</td>\n",
       "      <td>Glycolysis / Gluconeogenesis</td>\n",
       "      <td>hsa00010</td>\n",
       "    </tr>\n",
       "    <tr>\n",
       "      <th>4</th>\n",
       "      <td>6</td>\n",
       "      <td>KEGGCOMP</td>\n",
       "      <td>C00022</td>\n",
       "      <td>SYMBOL</td>\n",
       "      <td>LDHB</td>\n",
       "      <td>directed</td>\n",
       "      <td>Process</td>\n",
       "      <td>Glycolysis / Gluconeogenesis</td>\n",
       "      <td>hsa00010</td>\n",
       "    </tr>\n",
       "  </tbody>\n",
       "</table>\n",
       "</div>"
      ],
      "text/plain": [
       "   Unnamed: 0 source_type  source target_type   target   direction edge_type  \\\n",
       "0           2    KEGGCOMP  C00022      SYMBOL  LDHAL6A    directed   Process   \n",
       "1           3    KEGGCOMP  C00022      SYMBOL  LDHAL6A  undirected   Process   \n",
       "2           4    KEGGCOMP  C00022      SYMBOL     LDHA    directed   Process   \n",
       "3           5    KEGGCOMP  C00022      SYMBOL     LDHA  undirected   Process   \n",
       "4           6    KEGGCOMP  C00022      SYMBOL     LDHB    directed   Process   \n",
       "\n",
       "                   pathway_name pathway_id  \n",
       "0  Glycolysis / Gluconeogenesis   hsa00010  \n",
       "1  Glycolysis / Gluconeogenesis   hsa00010  \n",
       "2  Glycolysis / Gluconeogenesis   hsa00010  \n",
       "3  Glycolysis / Gluconeogenesis   hsa00010  \n",
       "4  Glycolysis / Gluconeogenesis   hsa00010  "
      ]
     },
     "execution_count": 1,
     "metadata": {},
     "output_type": "execute_result"
    }
   ],
   "source": [
    "# Download Link: R code\n",
    "# Download Date: 2025-03-21\n",
    "# Download Version: 2025-03-21\n",
    "import pandas as pd\n",
    "\n",
    "kegg = pd.read_csv('full_kegg_pathway_list_with_id.csv')\n",
    "kegg['pathway_id'] = kegg['pathway_id'].str.replace(':', '')\n",
    "kegg.head()"
   ]
  },
  {
   "cell_type": "code",
   "execution_count": 2,
   "metadata": {},
   "outputs": [
    {
     "data": {
      "application/vnd.microsoft.datawrangler.viewer.v0+json": {
       "columns": [
        {
         "name": "index",
         "rawType": "int64",
         "type": "integer"
        },
        {
         "name": "KEGG_ID",
         "rawType": "object",
         "type": "string"
        },
        {
         "name": "CAS",
         "rawType": "object",
         "type": "unknown"
        },
        {
         "name": "PubChem",
         "rawType": "object",
         "type": "unknown"
        }
       ],
       "conversionMethod": "pd.DataFrame",
       "ref": "7f4dd351-0375-442f-91bb-9164045aedc0",
       "rows": [
        [
         "0",
         "C00001",
         "7732-18-5",
         "3303"
        ],
        [
         "1",
         "C00002",
         "56-65-5",
         "3304"
        ],
        [
         "2",
         "C00003",
         "53-84-9",
         "3305"
        ],
        [
         "3",
         "C00004",
         "58-68-4",
         "3306"
        ],
        [
         "4",
         "C00005",
         "2646-71-1",
         "3307"
        ],
        [
         "5",
         "C00006",
         "53-59-8",
         "3308"
        ],
        [
         "6",
         "C00007",
         "7782-44-7",
         "3309"
        ],
        [
         "7",
         "C00008",
         "58-64-0",
         "3310"
        ],
        [
         "8",
         "C00009",
         "7664-38-2",
         "3311"
        ],
        [
         "9",
         "C00010",
         "85-61-0",
         "3312"
        ],
        [
         "10",
         "C00011",
         "124-38-9",
         "3313"
        ],
        [
         "11",
         "C00012",
         null,
         "3314"
        ],
        [
         "12",
         "C00013",
         "2466-09-3",
         "3315"
        ],
        [
         "13",
         "C00014",
         "7664-41-7",
         "3316"
        ],
        [
         "14",
         "C00015",
         "58-98-0",
         "3317"
        ],
        [
         "15",
         "C00016",
         "146-14-5",
         "3318"
        ],
        [
         "16",
         "C00017",
         null,
         "3319"
        ],
        [
         "17",
         "C00018",
         "54-47-7",
         "3320"
        ],
        [
         "18",
         "C00019",
         "29908-03-0",
         "3321"
        ],
        [
         "19",
         "C00020",
         "61-19-8",
         "3322"
        ],
        [
         "20",
         "C00021",
         "979-92-0",
         "3323"
        ],
        [
         "21",
         "C00022",
         "127-17-3",
         "3324"
        ],
        [
         "22",
         "C00023",
         "7439-89-6",
         "3325"
        ],
        [
         "23",
         "C00024",
         "72-89-9",
         "3326"
        ],
        [
         "24",
         "C00025",
         "56-86-0",
         "3327"
        ],
        [
         "25",
         "C00026",
         "328-50-7",
         "3328"
        ],
        [
         "26",
         "C00027",
         "7722-84-1",
         "3329"
        ],
        [
         "27",
         "C00028",
         null,
         "3330"
        ],
        [
         "28",
         "C00029",
         "133-89-1",
         "3331"
        ],
        [
         "29",
         "C00030",
         null,
         "3332"
        ],
        [
         "30",
         "C00031",
         "50-99-7 2280-44-6",
         "3333"
        ],
        [
         "31",
         "C00032",
         "14875-96-8",
         "3334"
        ],
        [
         "32",
         "C00033",
         "64-19-7",
         "3335"
        ],
        [
         "33",
         "C00034",
         "7439-96-5",
         "3336"
        ],
        [
         "34",
         "C00035",
         "146-91-8",
         "3337"
        ],
        [
         "35",
         "C00036",
         "328-42-7",
         "3338"
        ],
        [
         "36",
         "C00037",
         "56-40-6",
         "3339"
        ],
        [
         "37",
         "C00038",
         "23713-49-7",
         "3340"
        ],
        [
         "38",
         "C00039",
         "9007-49-2",
         "3341"
        ],
        [
         "39",
         "C00040",
         "9029-97-4",
         "3342"
        ],
        [
         "40",
         "C00041",
         "56-41-7",
         "3343"
        ],
        [
         "41",
         "C00042",
         "110-15-6",
         "3344"
        ],
        [
         "42",
         "C00043",
         "528-04-1",
         "3345"
        ],
        [
         "43",
         "C00044",
         "86-01-1",
         "3346"
        ],
        [
         "44",
         "C00045",
         null,
         "3347"
        ],
        [
         "45",
         "C00046",
         null,
         "3348"
        ],
        [
         "46",
         "C00047",
         "56-87-1",
         "3349"
        ],
        [
         "47",
         "C00048",
         "298-12-4",
         "3350"
        ],
        [
         "48",
         "C00049",
         "56-84-8",
         "3351"
        ],
        [
         "49",
         "C00050",
         null,
         "3352"
        ]
       ],
       "shape": {
        "columns": 3,
        "rows": 19292
       }
      },
      "text/html": [
       "<div>\n",
       "<style scoped>\n",
       "    .dataframe tbody tr th:only-of-type {\n",
       "        vertical-align: middle;\n",
       "    }\n",
       "\n",
       "    .dataframe tbody tr th {\n",
       "        vertical-align: top;\n",
       "    }\n",
       "\n",
       "    .dataframe thead th {\n",
       "        text-align: right;\n",
       "    }\n",
       "</style>\n",
       "<table border=\"1\" class=\"dataframe\">\n",
       "  <thead>\n",
       "    <tr style=\"text-align: right;\">\n",
       "      <th>Database</th>\n",
       "      <th>KEGG_ID</th>\n",
       "      <th>CAS</th>\n",
       "      <th>PubChem</th>\n",
       "    </tr>\n",
       "  </thead>\n",
       "  <tbody>\n",
       "    <tr>\n",
       "      <th>0</th>\n",
       "      <td>C00001</td>\n",
       "      <td>7732-18-5</td>\n",
       "      <td>3303</td>\n",
       "    </tr>\n",
       "    <tr>\n",
       "      <th>1</th>\n",
       "      <td>C00002</td>\n",
       "      <td>56-65-5</td>\n",
       "      <td>3304</td>\n",
       "    </tr>\n",
       "    <tr>\n",
       "      <th>2</th>\n",
       "      <td>C00003</td>\n",
       "      <td>53-84-9</td>\n",
       "      <td>3305</td>\n",
       "    </tr>\n",
       "    <tr>\n",
       "      <th>3</th>\n",
       "      <td>C00004</td>\n",
       "      <td>58-68-4</td>\n",
       "      <td>3306</td>\n",
       "    </tr>\n",
       "    <tr>\n",
       "      <th>4</th>\n",
       "      <td>C00005</td>\n",
       "      <td>2646-71-1</td>\n",
       "      <td>3307</td>\n",
       "    </tr>\n",
       "    <tr>\n",
       "      <th>...</th>\n",
       "      <td>...</td>\n",
       "      <td>...</td>\n",
       "      <td>...</td>\n",
       "    </tr>\n",
       "    <tr>\n",
       "      <th>19287</th>\n",
       "      <td>C22958</td>\n",
       "      <td>NaN</td>\n",
       "      <td>500141089</td>\n",
       "    </tr>\n",
       "    <tr>\n",
       "      <th>19288</th>\n",
       "      <td>C22959</td>\n",
       "      <td>NaN</td>\n",
       "      <td>500141090</td>\n",
       "    </tr>\n",
       "    <tr>\n",
       "      <th>19289</th>\n",
       "      <td>C22960</td>\n",
       "      <td>NaN</td>\n",
       "      <td>500141091</td>\n",
       "    </tr>\n",
       "    <tr>\n",
       "      <th>19290</th>\n",
       "      <td>C22961</td>\n",
       "      <td>NaN</td>\n",
       "      <td>500141092</td>\n",
       "    </tr>\n",
       "    <tr>\n",
       "      <th>19291</th>\n",
       "      <td>C22962</td>\n",
       "      <td>NaN</td>\n",
       "      <td>500141093</td>\n",
       "    </tr>\n",
       "  </tbody>\n",
       "</table>\n",
       "<p>19292 rows × 3 columns</p>\n",
       "</div>"
      ],
      "text/plain": [
       "Database KEGG_ID        CAS    PubChem\n",
       "0         C00001  7732-18-5       3303\n",
       "1         C00002    56-65-5       3304\n",
       "2         C00003    53-84-9       3305\n",
       "3         C00004    58-68-4       3306\n",
       "4         C00005  2646-71-1       3307\n",
       "...          ...        ...        ...\n",
       "19287     C22958        NaN  500141089\n",
       "19288     C22959        NaN  500141090\n",
       "19289     C22960        NaN  500141091\n",
       "19290     C22961        NaN  500141092\n",
       "19291     C22962        NaN  500141093\n",
       "\n",
       "[19292 rows x 3 columns]"
      ]
     },
     "execution_count": 2,
     "metadata": {},
     "output_type": "execute_result"
    }
   ],
   "source": [
    "# Download Link: R code\n",
    "# Download Date: 2025-03-21\n",
    "# Download Version: 2025-03-21\n",
    "\n",
    "kegg_compound = pd.read_csv('kegg_compound_data.csv')\n",
    "kegg_compound['Name'] = kegg_compound['Name'].str.replace(';', '')\n",
    "\n",
    "exploded_data = kegg_compound.assign(Other_DBS=kegg_compound['Other_DBS'].str.split(';')).explode('Other_DBS')\n",
    "exploded_data['Other_DBS'] = exploded_data['Other_DBS'].str.strip()\n",
    "exploded_data[['Database', 'ID']] = exploded_data['Other_DBS'].str.extract(r':(\\w+):\\s?(.*)')\n",
    "cleaned_data = exploded_data.dropna(subset=['Database', 'ID'])\n",
    "pivoted_data = cleaned_data.pivot(index=['KEGG_ID', 'Name'], columns='Database', values='ID').reset_index()\n",
    "\n",
    "kegg_comp = pivoted_data[['KEGG_ID', 'CAS', 'PubChem']]\n",
    "kegg_comp"
   ]
  },
  {
   "cell_type": "code",
   "execution_count": 3,
   "metadata": {},
   "outputs": [
    {
     "data": {
      "application/vnd.microsoft.datawrangler.viewer.v0+json": {
       "columns": [
        {
         "name": "index",
         "rawType": "int64",
         "type": "integer"
        },
        {
         "name": "pathway_id",
         "rawType": "object",
         "type": "string"
        },
        {
         "name": "target",
         "rawType": "object",
         "type": "string"
        },
        {
         "name": "CAS",
         "rawType": "object",
         "type": "unknown"
        },
        {
         "name": "PubChem",
         "rawType": "object",
         "type": "unknown"
        }
       ],
       "conversionMethod": "pd.DataFrame",
       "ref": "16980e50-efe5-474f-9e04-39e6127d3816",
       "rows": [
        [
         "0",
         "hsa00010",
         "C00221",
         "492-61-5",
         "3521"
        ],
        [
         "1",
         "hsa00010",
         "C00267",
         "492-62-6",
         "3565"
        ],
        [
         "2",
         "hsa00010",
         "C00022",
         "127-17-3",
         "3324"
        ],
        [
         "3",
         "hsa00010",
         "C15973",
         null,
         "47205286"
        ],
        [
         "4",
         "hsa00010",
         "C00631",
         null,
         "3904"
        ],
        [
         "5",
         "hsa00010",
         "C00084",
         "75-07-0",
         "3384"
        ],
        [
         "6",
         "hsa00010",
         "C00085",
         "643-13-0",
         "3385"
        ],
        [
         "7",
         "hsa00010",
         "C00118",
         "591-57-1",
         "3418"
        ],
        [
         "8",
         "hsa00010",
         "C00354",
         "488-69-7",
         "3647"
        ],
        [
         "9",
         "hsa00010",
         "C00236",
         "38168-82-0",
         "3535"
        ],
        [
         "10",
         "hsa00010",
         "C00668",
         null,
         "3937"
        ],
        [
         "11",
         "hsa00010",
         "C01172",
         null,
         "4399"
        ],
        [
         "12",
         "hsa00010",
         "C00197",
         null,
         "3497"
        ],
        [
         "13",
         "hsa00010",
         "C00074",
         "138-08-9",
         "3374"
        ],
        [
         "14",
         "hsa00010",
         "C00068",
         null,
         "3368"
        ],
        [
         "15",
         "hsa00010",
         "C05125",
         null,
         "7546"
        ],
        [
         "16",
         "hsa00010",
         "C15972",
         null,
         "47205285"
        ],
        [
         "17",
         "hsa00010",
         "C16255",
         null,
         "47205563"
        ],
        [
         "18",
         "hsa00010",
         "C00024",
         "72-89-9",
         "3326"
        ],
        [
         "19",
         "hsa00010",
         "C00033",
         "64-19-7",
         "3335"
        ],
        [
         "20",
         "hsa00010",
         "C01159",
         null,
         "4387"
        ],
        [
         "21",
         "hsa00010",
         "C00111",
         "57-04-5",
         "3411"
        ],
        [
         "22",
         "hsa00020",
         "C00036",
         "328-42-7",
         "3338"
        ],
        [
         "23",
         "hsa00020",
         "C00158",
         "77-92-9",
         "3458"
        ],
        [
         "24",
         "hsa00020",
         "C00024",
         "72-89-9",
         "3326"
        ],
        [
         "25",
         "hsa00020",
         "C16255",
         null,
         "47205563"
        ],
        [
         "26",
         "hsa00020",
         "C15972",
         null,
         "47205285"
        ],
        [
         "27",
         "hsa00020",
         "C15973",
         null,
         "47205286"
        ],
        [
         "28",
         "hsa00020",
         "C16254",
         null,
         "47205562"
        ],
        [
         "29",
         "hsa00020",
         "C00122",
         "110-17-8",
         "3422"
        ],
        [
         "30",
         "hsa00020",
         "C00311",
         "320-77-4",
         "3605"
        ],
        [
         "31",
         "hsa00020",
         "C00026",
         "328-50-7",
         "3328"
        ],
        [
         "32",
         "hsa00020",
         "C00149",
         "97-67-6",
         "3449"
        ],
        [
         "33",
         "hsa00020",
         "C00068",
         null,
         "3368"
        ],
        [
         "34",
         "hsa00020",
         "C05381",
         null,
         "7755"
        ],
        [
         "35",
         "hsa00020",
         "C00074",
         "138-08-9",
         "3374"
        ],
        [
         "36",
         "hsa00020",
         "C00022",
         "127-17-3",
         "3324"
        ],
        [
         "37",
         "hsa00020",
         "C05125",
         null,
         "7546"
        ],
        [
         "38",
         "hsa00020",
         "C00042",
         "110-15-6",
         "3344"
        ],
        [
         "39",
         "hsa00020",
         "C00091",
         "604-98-8",
         "3391"
        ],
        [
         "40",
         "hsa00030",
         "C00631",
         null,
         "3904"
        ],
        [
         "41",
         "hsa00030",
         "C00085",
         "643-13-0",
         "3385"
        ],
        [
         "42",
         "hsa00030",
         "C00117",
         "4300-28-1",
         "3417"
        ],
        [
         "43",
         "hsa00030",
         "C00118",
         "591-57-1",
         "3418"
        ],
        [
         "44",
         "hsa00030",
         "C00354",
         "488-69-7",
         "3647"
        ],
        [
         "45",
         "hsa00030",
         "C00199",
         "551-85-9",
         "3499"
        ],
        [
         "46",
         "hsa00030",
         "C05382",
         null,
         "7756"
        ],
        [
         "47",
         "hsa00030",
         "C01172",
         null,
         "4399"
        ],
        [
         "48",
         "hsa00030",
         "C01236",
         null,
         "4457"
        ],
        [
         "49",
         "hsa00030",
         "C00345",
         null,
         "3638"
        ]
       ],
       "shape": {
        "columns": 4,
        "rows": 2334
       }
      },
      "text/html": [
       "<div>\n",
       "<style scoped>\n",
       "    .dataframe tbody tr th:only-of-type {\n",
       "        vertical-align: middle;\n",
       "    }\n",
       "\n",
       "    .dataframe tbody tr th {\n",
       "        vertical-align: top;\n",
       "    }\n",
       "\n",
       "    .dataframe thead th {\n",
       "        text-align: right;\n",
       "    }\n",
       "</style>\n",
       "<table border=\"1\" class=\"dataframe\">\n",
       "  <thead>\n",
       "    <tr style=\"text-align: right;\">\n",
       "      <th></th>\n",
       "      <th>pathway_id</th>\n",
       "      <th>target</th>\n",
       "      <th>CAS</th>\n",
       "      <th>PubChem</th>\n",
       "    </tr>\n",
       "  </thead>\n",
       "  <tbody>\n",
       "    <tr>\n",
       "      <th>0</th>\n",
       "      <td>hsa00010</td>\n",
       "      <td>C00221</td>\n",
       "      <td>492-61-5</td>\n",
       "      <td>3521</td>\n",
       "    </tr>\n",
       "    <tr>\n",
       "      <th>1</th>\n",
       "      <td>hsa00010</td>\n",
       "      <td>C00267</td>\n",
       "      <td>492-62-6</td>\n",
       "      <td>3565</td>\n",
       "    </tr>\n",
       "    <tr>\n",
       "      <th>2</th>\n",
       "      <td>hsa00010</td>\n",
       "      <td>C00022</td>\n",
       "      <td>127-17-3</td>\n",
       "      <td>3324</td>\n",
       "    </tr>\n",
       "    <tr>\n",
       "      <th>3</th>\n",
       "      <td>hsa00010</td>\n",
       "      <td>C15973</td>\n",
       "      <td>NaN</td>\n",
       "      <td>47205286</td>\n",
       "    </tr>\n",
       "    <tr>\n",
       "      <th>4</th>\n",
       "      <td>hsa00010</td>\n",
       "      <td>C00631</td>\n",
       "      <td>NaN</td>\n",
       "      <td>3904</td>\n",
       "    </tr>\n",
       "    <tr>\n",
       "      <th>...</th>\n",
       "      <td>...</td>\n",
       "      <td>...</td>\n",
       "      <td>...</td>\n",
       "      <td>...</td>\n",
       "    </tr>\n",
       "    <tr>\n",
       "      <th>2329</th>\n",
       "      <td>hsa05418</td>\n",
       "      <td>C00533</td>\n",
       "      <td>10102-43-9</td>\n",
       "      <td>3815</td>\n",
       "    </tr>\n",
       "    <tr>\n",
       "      <th>2330</th>\n",
       "      <td>hsa00290</td>\n",
       "      <td>C00109</td>\n",
       "      <td>600-18-0</td>\n",
       "      <td>3409</td>\n",
       "    </tr>\n",
       "    <tr>\n",
       "      <th>2331</th>\n",
       "      <td>hsa00290</td>\n",
       "      <td>C00183</td>\n",
       "      <td>72-18-4</td>\n",
       "      <td>3483</td>\n",
       "    </tr>\n",
       "    <tr>\n",
       "      <th>2332</th>\n",
       "      <td>hsa00290</td>\n",
       "      <td>C00407</td>\n",
       "      <td>73-32-5</td>\n",
       "      <td>3697</td>\n",
       "    </tr>\n",
       "    <tr>\n",
       "      <th>2333</th>\n",
       "      <td>hsa00524</td>\n",
       "      <td>C00092</td>\n",
       "      <td>56-73-5</td>\n",
       "      <td>3392</td>\n",
       "    </tr>\n",
       "  </tbody>\n",
       "</table>\n",
       "<p>2334 rows × 4 columns</p>\n",
       "</div>"
      ],
      "text/plain": [
       "     pathway_id  target         CAS   PubChem\n",
       "0      hsa00010  C00221    492-61-5      3521\n",
       "1      hsa00010  C00267    492-62-6      3565\n",
       "2      hsa00010  C00022    127-17-3      3324\n",
       "3      hsa00010  C15973         NaN  47205286\n",
       "4      hsa00010  C00631         NaN      3904\n",
       "...         ...     ...         ...       ...\n",
       "2329   hsa05418  C00533  10102-43-9      3815\n",
       "2330   hsa00290  C00109    600-18-0      3409\n",
       "2331   hsa00290  C00183     72-18-4      3483\n",
       "2332   hsa00290  C00407     73-32-5      3697\n",
       "2333   hsa00524  C00092     56-73-5      3392\n",
       "\n",
       "[2334 rows x 4 columns]"
      ]
     },
     "execution_count": 3,
     "metadata": {},
     "output_type": "execute_result"
    }
   ],
   "source": [
    "kegg_pathway_drug = kegg[(kegg['target_type'] == 'KEGGCOMP')]\n",
    "kegg_pathway_drug = kegg_pathway_drug[['pathway_id', 'target']]\n",
    "kegg_pathway_drug.drop_duplicates(inplace=True)\n",
    "kegg_pathway_drug.reset_index(drop=True, inplace=True)\n",
    "\n",
    "kegg_pathway_drug = kegg_pathway_drug.merge(kegg_comp, left_on='target', right_on='KEGG_ID', how='left')\n",
    "kegg_pathway_drug = kegg_pathway_drug.drop(columns=['KEGG_ID'])\n",
    "kegg_pathway_drug"
   ]
  },
  {
   "cell_type": "markdown",
   "metadata": {},
   "source": [
    "### BioMedGraphica ID"
   ]
  },
  {
   "cell_type": "code",
   "execution_count": 4,
   "metadata": {},
   "outputs": [],
   "source": [
    "import pandas as pd\n",
    "import os\n",
    "from pathlib import Path\n",
    "\n",
    "current_working_dir = Path(os.getcwd()).resolve()\n",
    "grandparent_dir = current_working_dir.parent.parent.parent\n",
    "target_dir_pathway = grandparent_dir / 'BioMedGraphica' / 'Entity' / 'Pathway' / 'BioMedGraphica_Pathway.csv'\n",
    "target_dir_drug = grandparent_dir / 'BioMedGraphica' / 'Entity' / 'Drug' / 'BioMedGraphica_Drug.csv'\n",
    "biomedgraphica_pathway = pd.read_csv(target_dir_pathway, dtype=str)\n",
    "biomedgraphica_drug = pd.read_csv(target_dir_drug, dtype=str)"
   ]
  },
  {
   "cell_type": "markdown",
   "metadata": {},
   "source": [
    "### KEGG Mapping"
   ]
  },
  {
   "cell_type": "code",
   "execution_count": 5,
   "metadata": {},
   "outputs": [
    {
     "data": {
      "application/vnd.microsoft.datawrangler.viewer.v0+json": {
       "columns": [
        {
         "name": "index",
         "rawType": "int64",
         "type": "integer"
        },
        {
         "name": "pathway_id",
         "rawType": "object",
         "type": "string"
        },
        {
         "name": "target",
         "rawType": "object",
         "type": "string"
        },
        {
         "name": "CAS",
         "rawType": "object",
         "type": "unknown"
        },
        {
         "name": "PubChem",
         "rawType": "object",
         "type": "unknown"
        }
       ],
       "conversionMethod": "pd.DataFrame",
       "ref": "ca945b53-a6f2-4a53-bd5f-aea3807986b4",
       "rows": [
        [
         "0",
         "hsa00010",
         "C00221",
         "492-61-5",
         "3521"
        ],
        [
         "1",
         "hsa00010",
         "C00267",
         "492-62-6",
         "3565"
        ],
        [
         "2",
         "hsa00010",
         "C00022",
         "127-17-3",
         "3324"
        ],
        [
         "3",
         "hsa00010",
         "C15973",
         null,
         "47205286"
        ],
        [
         "4",
         "hsa00010",
         "C00631",
         null,
         "3904"
        ],
        [
         "5",
         "hsa00010",
         "C00084",
         "75-07-0",
         "3384"
        ],
        [
         "6",
         "hsa00010",
         "C00085",
         "643-13-0",
         "3385"
        ],
        [
         "7",
         "hsa00010",
         "C00118",
         "591-57-1",
         "3418"
        ],
        [
         "8",
         "hsa00010",
         "C00354",
         "488-69-7",
         "3647"
        ],
        [
         "9",
         "hsa00010",
         "C00236",
         "38168-82-0",
         "3535"
        ],
        [
         "10",
         "hsa00010",
         "C00668",
         null,
         "3937"
        ],
        [
         "11",
         "hsa00010",
         "C01172",
         null,
         "4399"
        ],
        [
         "12",
         "hsa00010",
         "C00197",
         null,
         "3497"
        ],
        [
         "13",
         "hsa00010",
         "C00074",
         "138-08-9",
         "3374"
        ],
        [
         "14",
         "hsa00010",
         "C00068",
         null,
         "3368"
        ],
        [
         "15",
         "hsa00010",
         "C05125",
         null,
         "7546"
        ],
        [
         "16",
         "hsa00010",
         "C15972",
         null,
         "47205285"
        ],
        [
         "17",
         "hsa00010",
         "C16255",
         null,
         "47205563"
        ],
        [
         "18",
         "hsa00010",
         "C00024",
         "72-89-9",
         "3326"
        ],
        [
         "19",
         "hsa00010",
         "C00033",
         "64-19-7",
         "3335"
        ],
        [
         "20",
         "hsa00010",
         "C01159",
         null,
         "4387"
        ],
        [
         "21",
         "hsa00010",
         "C00111",
         "57-04-5",
         "3411"
        ],
        [
         "22",
         "hsa00020",
         "C00036",
         "328-42-7",
         "3338"
        ],
        [
         "23",
         "hsa00020",
         "C00158",
         "77-92-9",
         "3458"
        ],
        [
         "24",
         "hsa00020",
         "C00024",
         "72-89-9",
         "3326"
        ],
        [
         "25",
         "hsa00020",
         "C16255",
         null,
         "47205563"
        ],
        [
         "26",
         "hsa00020",
         "C15972",
         null,
         "47205285"
        ],
        [
         "27",
         "hsa00020",
         "C15973",
         null,
         "47205286"
        ],
        [
         "28",
         "hsa00020",
         "C16254",
         null,
         "47205562"
        ],
        [
         "29",
         "hsa00020",
         "C00122",
         "110-17-8",
         "3422"
        ],
        [
         "30",
         "hsa00020",
         "C00311",
         "320-77-4",
         "3605"
        ],
        [
         "31",
         "hsa00020",
         "C00026",
         "328-50-7",
         "3328"
        ],
        [
         "32",
         "hsa00020",
         "C00149",
         "97-67-6",
         "3449"
        ],
        [
         "33",
         "hsa00020",
         "C00068",
         null,
         "3368"
        ],
        [
         "34",
         "hsa00020",
         "C05381",
         null,
         "7755"
        ],
        [
         "35",
         "hsa00020",
         "C00074",
         "138-08-9",
         "3374"
        ],
        [
         "36",
         "hsa00020",
         "C00022",
         "127-17-3",
         "3324"
        ],
        [
         "37",
         "hsa00020",
         "C05125",
         null,
         "7546"
        ],
        [
         "38",
         "hsa00020",
         "C00042",
         "110-15-6",
         "3344"
        ],
        [
         "39",
         "hsa00020",
         "C00091",
         "604-98-8",
         "3391"
        ],
        [
         "40",
         "hsa00030",
         "C00631",
         null,
         "3904"
        ],
        [
         "41",
         "hsa00030",
         "C00085",
         "643-13-0",
         "3385"
        ],
        [
         "42",
         "hsa00030",
         "C00117",
         "4300-28-1",
         "3417"
        ],
        [
         "43",
         "hsa00030",
         "C00118",
         "591-57-1",
         "3418"
        ],
        [
         "44",
         "hsa00030",
         "C00354",
         "488-69-7",
         "3647"
        ],
        [
         "45",
         "hsa00030",
         "C00199",
         "551-85-9",
         "3499"
        ],
        [
         "46",
         "hsa00030",
         "C05382",
         null,
         "7756"
        ],
        [
         "47",
         "hsa00030",
         "C01172",
         null,
         "4399"
        ],
        [
         "48",
         "hsa00030",
         "C01236",
         null,
         "4457"
        ],
        [
         "49",
         "hsa00030",
         "C00345",
         null,
         "3638"
        ]
       ],
       "shape": {
        "columns": 4,
        "rows": 2334
       }
      },
      "text/html": [
       "<div>\n",
       "<style scoped>\n",
       "    .dataframe tbody tr th:only-of-type {\n",
       "        vertical-align: middle;\n",
       "    }\n",
       "\n",
       "    .dataframe tbody tr th {\n",
       "        vertical-align: top;\n",
       "    }\n",
       "\n",
       "    .dataframe thead th {\n",
       "        text-align: right;\n",
       "    }\n",
       "</style>\n",
       "<table border=\"1\" class=\"dataframe\">\n",
       "  <thead>\n",
       "    <tr style=\"text-align: right;\">\n",
       "      <th></th>\n",
       "      <th>pathway_id</th>\n",
       "      <th>target</th>\n",
       "      <th>CAS</th>\n",
       "      <th>PubChem</th>\n",
       "    </tr>\n",
       "  </thead>\n",
       "  <tbody>\n",
       "    <tr>\n",
       "      <th>0</th>\n",
       "      <td>hsa00010</td>\n",
       "      <td>C00221</td>\n",
       "      <td>492-61-5</td>\n",
       "      <td>3521</td>\n",
       "    </tr>\n",
       "    <tr>\n",
       "      <th>1</th>\n",
       "      <td>hsa00010</td>\n",
       "      <td>C00267</td>\n",
       "      <td>492-62-6</td>\n",
       "      <td>3565</td>\n",
       "    </tr>\n",
       "    <tr>\n",
       "      <th>2</th>\n",
       "      <td>hsa00010</td>\n",
       "      <td>C00022</td>\n",
       "      <td>127-17-3</td>\n",
       "      <td>3324</td>\n",
       "    </tr>\n",
       "    <tr>\n",
       "      <th>3</th>\n",
       "      <td>hsa00010</td>\n",
       "      <td>C15973</td>\n",
       "      <td>NaN</td>\n",
       "      <td>47205286</td>\n",
       "    </tr>\n",
       "    <tr>\n",
       "      <th>4</th>\n",
       "      <td>hsa00010</td>\n",
       "      <td>C00631</td>\n",
       "      <td>NaN</td>\n",
       "      <td>3904</td>\n",
       "    </tr>\n",
       "    <tr>\n",
       "      <th>...</th>\n",
       "      <td>...</td>\n",
       "      <td>...</td>\n",
       "      <td>...</td>\n",
       "      <td>...</td>\n",
       "    </tr>\n",
       "    <tr>\n",
       "      <th>2329</th>\n",
       "      <td>hsa05418</td>\n",
       "      <td>C00533</td>\n",
       "      <td>10102-43-9</td>\n",
       "      <td>3815</td>\n",
       "    </tr>\n",
       "    <tr>\n",
       "      <th>2330</th>\n",
       "      <td>hsa00290</td>\n",
       "      <td>C00109</td>\n",
       "      <td>600-18-0</td>\n",
       "      <td>3409</td>\n",
       "    </tr>\n",
       "    <tr>\n",
       "      <th>2331</th>\n",
       "      <td>hsa00290</td>\n",
       "      <td>C00183</td>\n",
       "      <td>72-18-4</td>\n",
       "      <td>3483</td>\n",
       "    </tr>\n",
       "    <tr>\n",
       "      <th>2332</th>\n",
       "      <td>hsa00290</td>\n",
       "      <td>C00407</td>\n",
       "      <td>73-32-5</td>\n",
       "      <td>3697</td>\n",
       "    </tr>\n",
       "    <tr>\n",
       "      <th>2333</th>\n",
       "      <td>hsa00524</td>\n",
       "      <td>C00092</td>\n",
       "      <td>56-73-5</td>\n",
       "      <td>3392</td>\n",
       "    </tr>\n",
       "  </tbody>\n",
       "</table>\n",
       "<p>2334 rows × 4 columns</p>\n",
       "</div>"
      ],
      "text/plain": [
       "     pathway_id  target         CAS   PubChem\n",
       "0      hsa00010  C00221    492-61-5      3521\n",
       "1      hsa00010  C00267    492-62-6      3565\n",
       "2      hsa00010  C00022    127-17-3      3324\n",
       "3      hsa00010  C15973         NaN  47205286\n",
       "4      hsa00010  C00631         NaN      3904\n",
       "...         ...     ...         ...       ...\n",
       "2329   hsa05418  C00533  10102-43-9      3815\n",
       "2330   hsa00290  C00109    600-18-0      3409\n",
       "2331   hsa00290  C00183     72-18-4      3483\n",
       "2332   hsa00290  C00407     73-32-5      3697\n",
       "2333   hsa00524  C00092     56-73-5      3392\n",
       "\n",
       "[2334 rows x 4 columns]"
      ]
     },
     "execution_count": 5,
     "metadata": {},
     "output_type": "execute_result"
    }
   ],
   "source": [
    "kegg_pathway_drug = kegg[(kegg['target_type'] == 'KEGGCOMP')]\n",
    "kegg_pathway_drug = kegg_pathway_drug[['pathway_id', 'target']]\n",
    "kegg_pathway_drug.drop_duplicates(inplace=True)\n",
    "kegg_pathway_drug.reset_index(drop=True, inplace=True)\n",
    "\n",
    "kegg_pathway_drug = kegg_pathway_drug.merge(kegg_comp, left_on='target', right_on='KEGG_ID', how='left')\n",
    "kegg_pathway_drug = kegg_pathway_drug.drop(columns=['KEGG_ID'])\n",
    "kegg_pathway_drug"
   ]
  },
  {
   "cell_type": "code",
   "execution_count": 6,
   "metadata": {},
   "outputs": [
    {
     "data": {
      "application/vnd.microsoft.datawrangler.viewer.v0+json": {
       "columns": [
        {
         "name": "index",
         "rawType": "int64",
         "type": "integer"
        },
        {
         "name": "pathway_id",
         "rawType": "object",
         "type": "string"
        },
        {
         "name": "target",
         "rawType": "object",
         "type": "string"
        },
        {
         "name": "CAS",
         "rawType": "object",
         "type": "unknown"
        },
        {
         "name": "PubChem",
         "rawType": "object",
         "type": "unknown"
        }
       ],
       "conversionMethod": "pd.DataFrame",
       "ref": "45cbf970-cd05-48ac-902c-293c00eee539",
       "rows": [
        [
         "0",
         "hsa00010",
         "C00221",
         "492-61-5",
         "3521"
        ],
        [
         "1",
         "hsa00010",
         "C00267",
         "492-62-6",
         "3565"
        ],
        [
         "2",
         "hsa00010",
         "C00022",
         "127-17-3",
         "3324"
        ],
        [
         "3",
         "hsa00010",
         "C15973",
         null,
         "47205286"
        ],
        [
         "4",
         "hsa00010",
         "C00631",
         null,
         "3904"
        ],
        [
         "5",
         "hsa00010",
         "C00084",
         "75-07-0",
         "3384"
        ],
        [
         "6",
         "hsa00010",
         "C00085",
         "643-13-0",
         "3385"
        ],
        [
         "7",
         "hsa00010",
         "C00118",
         "591-57-1",
         "3418"
        ],
        [
         "8",
         "hsa00010",
         "C00354",
         "488-69-7",
         "3647"
        ],
        [
         "9",
         "hsa00010",
         "C00236",
         "38168-82-0",
         "3535"
        ],
        [
         "10",
         "hsa00010",
         "C00668",
         null,
         "3937"
        ],
        [
         "11",
         "hsa00010",
         "C01172",
         null,
         "4399"
        ],
        [
         "12",
         "hsa00010",
         "C00197",
         null,
         "3497"
        ],
        [
         "13",
         "hsa00010",
         "C00074",
         "138-08-9",
         "3374"
        ],
        [
         "14",
         "hsa00010",
         "C00068",
         null,
         "3368"
        ],
        [
         "15",
         "hsa00010",
         "C05125",
         null,
         "7546"
        ],
        [
         "16",
         "hsa00010",
         "C15972",
         null,
         "47205285"
        ],
        [
         "17",
         "hsa00010",
         "C16255",
         null,
         "47205563"
        ],
        [
         "18",
         "hsa00010",
         "C00024",
         "72-89-9",
         "3326"
        ],
        [
         "19",
         "hsa00010",
         "C00033",
         "64-19-7",
         "3335"
        ],
        [
         "20",
         "hsa00010",
         "C01159",
         null,
         "4387"
        ],
        [
         "21",
         "hsa00010",
         "C00111",
         "57-04-5",
         "3411"
        ],
        [
         "22",
         "hsa00020",
         "C00036",
         "328-42-7",
         "3338"
        ],
        [
         "23",
         "hsa00020",
         "C00158",
         "77-92-9",
         "3458"
        ],
        [
         "24",
         "hsa00020",
         "C00024",
         "72-89-9",
         "3326"
        ],
        [
         "25",
         "hsa00020",
         "C16255",
         null,
         "47205563"
        ],
        [
         "26",
         "hsa00020",
         "C15972",
         null,
         "47205285"
        ],
        [
         "27",
         "hsa00020",
         "C15973",
         null,
         "47205286"
        ],
        [
         "28",
         "hsa00020",
         "C16254",
         null,
         "47205562"
        ],
        [
         "29",
         "hsa00020",
         "C00122",
         "110-17-8",
         "3422"
        ],
        [
         "30",
         "hsa00020",
         "C00311",
         "320-77-4",
         "3605"
        ],
        [
         "31",
         "hsa00020",
         "C00026",
         "328-50-7",
         "3328"
        ],
        [
         "32",
         "hsa00020",
         "C00149",
         "97-67-6",
         "3449"
        ],
        [
         "33",
         "hsa00020",
         "C00068",
         null,
         "3368"
        ],
        [
         "34",
         "hsa00020",
         "C05381",
         null,
         "7755"
        ],
        [
         "35",
         "hsa00020",
         "C00074",
         "138-08-9",
         "3374"
        ],
        [
         "36",
         "hsa00020",
         "C00022",
         "127-17-3",
         "3324"
        ],
        [
         "37",
         "hsa00020",
         "C05125",
         null,
         "7546"
        ],
        [
         "38",
         "hsa00020",
         "C00042",
         "110-15-6",
         "3344"
        ],
        [
         "39",
         "hsa00020",
         "C00091",
         "604-98-8",
         "3391"
        ],
        [
         "40",
         "hsa00030",
         "C00631",
         null,
         "3904"
        ],
        [
         "41",
         "hsa00030",
         "C00085",
         "643-13-0",
         "3385"
        ],
        [
         "42",
         "hsa00030",
         "C00117",
         "4300-28-1",
         "3417"
        ],
        [
         "43",
         "hsa00030",
         "C00118",
         "591-57-1",
         "3418"
        ],
        [
         "44",
         "hsa00030",
         "C00354",
         "488-69-7",
         "3647"
        ],
        [
         "45",
         "hsa00030",
         "C00199",
         "551-85-9",
         "3499"
        ],
        [
         "46",
         "hsa00030",
         "C05382",
         null,
         "7756"
        ],
        [
         "47",
         "hsa00030",
         "C01172",
         null,
         "4399"
        ],
        [
         "48",
         "hsa00030",
         "C01236",
         null,
         "4457"
        ],
        [
         "49",
         "hsa00030",
         "C00345",
         null,
         "3638"
        ]
       ],
       "shape": {
        "columns": 4,
        "rows": 2354
       }
      },
      "text/html": [
       "<div>\n",
       "<style scoped>\n",
       "    .dataframe tbody tr th:only-of-type {\n",
       "        vertical-align: middle;\n",
       "    }\n",
       "\n",
       "    .dataframe tbody tr th {\n",
       "        vertical-align: top;\n",
       "    }\n",
       "\n",
       "    .dataframe thead th {\n",
       "        text-align: right;\n",
       "    }\n",
       "</style>\n",
       "<table border=\"1\" class=\"dataframe\">\n",
       "  <thead>\n",
       "    <tr style=\"text-align: right;\">\n",
       "      <th></th>\n",
       "      <th>pathway_id</th>\n",
       "      <th>target</th>\n",
       "      <th>CAS</th>\n",
       "      <th>PubChem</th>\n",
       "    </tr>\n",
       "  </thead>\n",
       "  <tbody>\n",
       "    <tr>\n",
       "      <th>0</th>\n",
       "      <td>hsa00010</td>\n",
       "      <td>C00221</td>\n",
       "      <td>492-61-5</td>\n",
       "      <td>3521</td>\n",
       "    </tr>\n",
       "    <tr>\n",
       "      <th>1</th>\n",
       "      <td>hsa00010</td>\n",
       "      <td>C00267</td>\n",
       "      <td>492-62-6</td>\n",
       "      <td>3565</td>\n",
       "    </tr>\n",
       "    <tr>\n",
       "      <th>2</th>\n",
       "      <td>hsa00010</td>\n",
       "      <td>C00022</td>\n",
       "      <td>127-17-3</td>\n",
       "      <td>3324</td>\n",
       "    </tr>\n",
       "    <tr>\n",
       "      <th>3</th>\n",
       "      <td>hsa00010</td>\n",
       "      <td>C15973</td>\n",
       "      <td>NaN</td>\n",
       "      <td>47205286</td>\n",
       "    </tr>\n",
       "    <tr>\n",
       "      <th>4</th>\n",
       "      <td>hsa00010</td>\n",
       "      <td>C00631</td>\n",
       "      <td>NaN</td>\n",
       "      <td>3904</td>\n",
       "    </tr>\n",
       "    <tr>\n",
       "      <th>...</th>\n",
       "      <td>...</td>\n",
       "      <td>...</td>\n",
       "      <td>...</td>\n",
       "      <td>...</td>\n",
       "    </tr>\n",
       "    <tr>\n",
       "      <th>2329</th>\n",
       "      <td>hsa05418</td>\n",
       "      <td>C00533</td>\n",
       "      <td>10102-43-9</td>\n",
       "      <td>3815</td>\n",
       "    </tr>\n",
       "    <tr>\n",
       "      <th>2330</th>\n",
       "      <td>hsa00290</td>\n",
       "      <td>C00109</td>\n",
       "      <td>600-18-0</td>\n",
       "      <td>3409</td>\n",
       "    </tr>\n",
       "    <tr>\n",
       "      <th>2331</th>\n",
       "      <td>hsa00290</td>\n",
       "      <td>C00183</td>\n",
       "      <td>72-18-4</td>\n",
       "      <td>3483</td>\n",
       "    </tr>\n",
       "    <tr>\n",
       "      <th>2332</th>\n",
       "      <td>hsa00290</td>\n",
       "      <td>C00407</td>\n",
       "      <td>73-32-5</td>\n",
       "      <td>3697</td>\n",
       "    </tr>\n",
       "    <tr>\n",
       "      <th>2333</th>\n",
       "      <td>hsa00524</td>\n",
       "      <td>C00092</td>\n",
       "      <td>56-73-5</td>\n",
       "      <td>3392</td>\n",
       "    </tr>\n",
       "  </tbody>\n",
       "</table>\n",
       "<p>2354 rows × 4 columns</p>\n",
       "</div>"
      ],
      "text/plain": [
       "     pathway_id  target         CAS   PubChem\n",
       "0      hsa00010  C00221    492-61-5      3521\n",
       "1      hsa00010  C00267    492-62-6      3565\n",
       "2      hsa00010  C00022    127-17-3      3324\n",
       "3      hsa00010  C15973         NaN  47205286\n",
       "4      hsa00010  C00631         NaN      3904\n",
       "...         ...     ...         ...       ...\n",
       "2329   hsa05418  C00533  10102-43-9      3815\n",
       "2330   hsa00290  C00109    600-18-0      3409\n",
       "2331   hsa00290  C00183     72-18-4      3483\n",
       "2332   hsa00290  C00407     73-32-5      3697\n",
       "2333   hsa00524  C00092     56-73-5      3392\n",
       "\n",
       "[2354 rows x 4 columns]"
      ]
     },
     "execution_count": 6,
     "metadata": {},
     "output_type": "execute_result"
    }
   ],
   "source": [
    "kegg_pathway_drug = kegg_pathway_drug.assign(PubChem=kegg_pathway_drug['PubChem'].str.split(' ')).explode('PubChem')\n",
    "kegg_pathway_drug = kegg_pathway_drug.assign(CAS=kegg_pathway_drug['CAS'].str.split(' ')).explode('CAS')\n",
    "kegg_pathway_drug"
   ]
  },
  {
   "cell_type": "markdown",
   "metadata": {},
   "source": [
    "SID"
   ]
  },
  {
   "cell_type": "code",
   "execution_count": 7,
   "metadata": {},
   "outputs": [],
   "source": [
    "SID_individualid = biomedgraphica_drug[['PubChem_SID', 'BioMedGraphica_ID']]\n",
    "SID_individualid = SID_individualid.dropna(subset=['PubChem_SID'])\n",
    "SID_individualid = SID_individualid.assign(PubChem_SID=SID_individualid['PubChem_SID'].str.split(';')).explode('PubChem_SID')\n",
    "SID_individualid = SID_individualid.groupby('PubChem_SID')['BioMedGraphica_ID'].apply(lambda x: ';'.join(x.dropna().unique())).to_dict()\n",
    "\n",
    "kegg_pathway_drug['Drug_SID'] = kegg_pathway_drug['PubChem'].map(SID_individualid)"
   ]
  },
  {
   "cell_type": "markdown",
   "metadata": {},
   "source": [
    "CAS RN"
   ]
  },
  {
   "cell_type": "code",
   "execution_count": 8,
   "metadata": {},
   "outputs": [],
   "source": [
    "cas_individualid = biomedgraphica_drug[['CAS_RN', 'BioMedGraphica_ID']]\n",
    "cas_individualid = cas_individualid.dropna(subset=['CAS_RN'])\n",
    "cas_individualid = cas_individualid.assign(CAS_RN=cas_individualid['CAS_RN'].str.split(';')).explode('CAS_RN')\n",
    "cas_individualid = cas_individualid.groupby('CAS_RN')['BioMedGraphica_ID'].apply(lambda x: ';'.join(x.dropna().unique())).to_dict()\n",
    "\n",
    "kegg_pathway_drug['Drug_CAS'] = kegg_pathway_drug['CAS'].map(cas_individualid)"
   ]
  },
  {
   "cell_type": "code",
   "execution_count": 9,
   "metadata": {},
   "outputs": [
    {
     "data": {
      "application/vnd.microsoft.datawrangler.viewer.v0+json": {
       "columns": [
        {
         "name": "index",
         "rawType": "int64",
         "type": "integer"
        },
        {
         "name": "pathway_id",
         "rawType": "object",
         "type": "string"
        },
        {
         "name": "target",
         "rawType": "object",
         "type": "string"
        },
        {
         "name": "CAS",
         "rawType": "object",
         "type": "unknown"
        },
        {
         "name": "PubChem",
         "rawType": "object",
         "type": "unknown"
        },
        {
         "name": "To_ID",
         "rawType": "object",
         "type": "unknown"
        }
       ],
       "conversionMethod": "pd.DataFrame",
       "ref": "7f50ec7e-0ab3-4a53-8966-c81f5c0cf91a",
       "rows": [
        [
         "0",
         "hsa00010",
         "C00221",
         "492-61-5",
         "3521",
         "BMG_DG176842"
        ],
        [
         "1",
         "hsa00010",
         "C00267",
         "492-62-6",
         "3565",
         "BMG_DG199529"
        ],
        [
         "2",
         "hsa00010",
         "C00022",
         "127-17-3",
         "3324",
         "BMG_DG006378"
        ],
        [
         "3",
         "hsa00010",
         "C15973",
         null,
         "47205286",
         null
        ],
        [
         "4",
         "hsa00010",
         "C00631",
         null,
         "3904",
         null
        ],
        [
         "5",
         "hsa00010",
         "C00084",
         "75-07-0",
         "3384",
         "BMG_DG109992"
        ],
        [
         "6",
         "hsa00010",
         "C00085",
         "643-13-0",
         "3385",
         "BMG_DG183490"
        ],
        [
         "7",
         "hsa00010",
         "C00118",
         "591-57-1",
         "3418",
         "BMG_DG142590"
        ],
        [
         "8",
         "hsa00010",
         "C00354",
         "488-69-7",
         "3647",
         "BMG_DG004039;BMG_DG189905;BMG_DG109267;BMG_DG164775;BMG_DG202781"
        ],
        [
         "9",
         "hsa00010",
         "C00236",
         "38168-82-0",
         "3535",
         "BMG_DG142601"
        ],
        [
         "10",
         "hsa00010",
         "C00668",
         null,
         "3937",
         null
        ],
        [
         "11",
         "hsa00010",
         "C01172",
         null,
         "4399",
         null
        ],
        [
         "12",
         "hsa00010",
         "C00197",
         null,
         "3497",
         null
        ],
        [
         "13",
         "hsa00010",
         "C00074",
         "138-08-9",
         "3374",
         "BMG_DG000433"
        ],
        [
         "14",
         "hsa00010",
         "C00068",
         null,
         "3368",
         null
        ],
        [
         "15",
         "hsa00010",
         "C05125",
         null,
         "7546",
         null
        ],
        [
         "16",
         "hsa00010",
         "C15972",
         null,
         "47205285",
         null
        ],
        [
         "17",
         "hsa00010",
         "C16255",
         null,
         "47205563",
         null
        ],
        [
         "18",
         "hsa00010",
         "C00024",
         "72-89-9",
         "3326",
         "BMG_DG145662"
        ],
        [
         "19",
         "hsa00010",
         "C00033",
         "64-19-7",
         "3335",
         "BMG_DG109862"
        ],
        [
         "20",
         "hsa00010",
         "C01159",
         null,
         "4387",
         null
        ],
        [
         "21",
         "hsa00010",
         "C00111",
         "57-04-5",
         "3411",
         "BMG_DG179456"
        ],
        [
         "22",
         "hsa00020",
         "C00036",
         "328-42-7",
         "3338",
         "BMG_DG215725"
        ],
        [
         "23",
         "hsa00020",
         "C00158",
         "77-92-9",
         "3458",
         "BMG_DG135998"
        ],
        [
         "24",
         "hsa00020",
         "C00024",
         "72-89-9",
         "3326",
         "BMG_DG145662"
        ],
        [
         "25",
         "hsa00020",
         "C16255",
         null,
         "47205563",
         null
        ],
        [
         "26",
         "hsa00020",
         "C15972",
         null,
         "47205285",
         null
        ],
        [
         "27",
         "hsa00020",
         "C15973",
         null,
         "47205286",
         null
        ],
        [
         "28",
         "hsa00020",
         "C16254",
         null,
         "47205562",
         null
        ],
        [
         "29",
         "hsa00020",
         "C00122",
         "110-17-8",
         "3422",
         "BMG_DG145850"
        ],
        [
         "30",
         "hsa00020",
         "C00311",
         "320-77-4",
         "3605",
         "BMG_DG017350"
        ],
        [
         "31",
         "hsa00020",
         "C00026",
         "328-50-7",
         "3328",
         "BMG_DG151834"
        ],
        [
         "32",
         "hsa00020",
         "C00149",
         "97-67-6",
         "3449",
         "BMG_DG118403"
        ],
        [
         "33",
         "hsa00020",
         "C00068",
         null,
         "3368",
         null
        ],
        [
         "34",
         "hsa00020",
         "C05381",
         null,
         "7755",
         null
        ],
        [
         "35",
         "hsa00020",
         "C00074",
         "138-08-9",
         "3374",
         "BMG_DG000433"
        ],
        [
         "36",
         "hsa00020",
         "C00022",
         "127-17-3",
         "3324",
         "BMG_DG006378"
        ],
        [
         "37",
         "hsa00020",
         "C05125",
         null,
         "7546",
         null
        ],
        [
         "38",
         "hsa00020",
         "C00042",
         "110-15-6",
         "3344",
         "BMG_DG009241"
        ],
        [
         "39",
         "hsa00020",
         "C00091",
         "604-98-8",
         "3391",
         "BMG_DG211562"
        ],
        [
         "40",
         "hsa00030",
         "C00631",
         null,
         "3904",
         null
        ],
        [
         "41",
         "hsa00030",
         "C00085",
         "643-13-0",
         "3385",
         "BMG_DG183490"
        ],
        [
         "42",
         "hsa00030",
         "C00117",
         "4300-28-1",
         "3417",
         "BMG_DG198695"
        ],
        [
         "43",
         "hsa00030",
         "C00118",
         "591-57-1",
         "3418",
         "BMG_DG142590"
        ],
        [
         "44",
         "hsa00030",
         "C00354",
         "488-69-7",
         "3647",
         "BMG_DG004039;BMG_DG189905;BMG_DG109267;BMG_DG164775;BMG_DG202781"
        ],
        [
         "45",
         "hsa00030",
         "C00199",
         "551-85-9",
         "3499",
         "BMG_DG142598"
        ],
        [
         "46",
         "hsa00030",
         "C05382",
         null,
         "7756",
         null
        ],
        [
         "47",
         "hsa00030",
         "C01172",
         null,
         "4399",
         null
        ],
        [
         "48",
         "hsa00030",
         "C01236",
         null,
         "4457",
         null
        ],
        [
         "49",
         "hsa00030",
         "C00345",
         null,
         "3638",
         null
        ]
       ],
       "shape": {
        "columns": 5,
        "rows": 2354
       }
      },
      "text/html": [
       "<div>\n",
       "<style scoped>\n",
       "    .dataframe tbody tr th:only-of-type {\n",
       "        vertical-align: middle;\n",
       "    }\n",
       "\n",
       "    .dataframe tbody tr th {\n",
       "        vertical-align: top;\n",
       "    }\n",
       "\n",
       "    .dataframe thead th {\n",
       "        text-align: right;\n",
       "    }\n",
       "</style>\n",
       "<table border=\"1\" class=\"dataframe\">\n",
       "  <thead>\n",
       "    <tr style=\"text-align: right;\">\n",
       "      <th></th>\n",
       "      <th>pathway_id</th>\n",
       "      <th>target</th>\n",
       "      <th>CAS</th>\n",
       "      <th>PubChem</th>\n",
       "      <th>To_ID</th>\n",
       "    </tr>\n",
       "  </thead>\n",
       "  <tbody>\n",
       "    <tr>\n",
       "      <th>0</th>\n",
       "      <td>hsa00010</td>\n",
       "      <td>C00221</td>\n",
       "      <td>492-61-5</td>\n",
       "      <td>3521</td>\n",
       "      <td>BMG_DG176842</td>\n",
       "    </tr>\n",
       "    <tr>\n",
       "      <th>1</th>\n",
       "      <td>hsa00010</td>\n",
       "      <td>C00267</td>\n",
       "      <td>492-62-6</td>\n",
       "      <td>3565</td>\n",
       "      <td>BMG_DG199529</td>\n",
       "    </tr>\n",
       "    <tr>\n",
       "      <th>2</th>\n",
       "      <td>hsa00010</td>\n",
       "      <td>C00022</td>\n",
       "      <td>127-17-3</td>\n",
       "      <td>3324</td>\n",
       "      <td>BMG_DG006378</td>\n",
       "    </tr>\n",
       "    <tr>\n",
       "      <th>3</th>\n",
       "      <td>hsa00010</td>\n",
       "      <td>C15973</td>\n",
       "      <td>NaN</td>\n",
       "      <td>47205286</td>\n",
       "      <td>&lt;NA&gt;</td>\n",
       "    </tr>\n",
       "    <tr>\n",
       "      <th>4</th>\n",
       "      <td>hsa00010</td>\n",
       "      <td>C00631</td>\n",
       "      <td>NaN</td>\n",
       "      <td>3904</td>\n",
       "      <td>&lt;NA&gt;</td>\n",
       "    </tr>\n",
       "    <tr>\n",
       "      <th>...</th>\n",
       "      <td>...</td>\n",
       "      <td>...</td>\n",
       "      <td>...</td>\n",
       "      <td>...</td>\n",
       "      <td>...</td>\n",
       "    </tr>\n",
       "    <tr>\n",
       "      <th>2329</th>\n",
       "      <td>hsa05418</td>\n",
       "      <td>C00533</td>\n",
       "      <td>10102-43-9</td>\n",
       "      <td>3815</td>\n",
       "      <td>BMG_DG090250</td>\n",
       "    </tr>\n",
       "    <tr>\n",
       "      <th>2330</th>\n",
       "      <td>hsa00290</td>\n",
       "      <td>C00109</td>\n",
       "      <td>600-18-0</td>\n",
       "      <td>3409</td>\n",
       "      <td>BMG_DG169584</td>\n",
       "    </tr>\n",
       "    <tr>\n",
       "      <th>2331</th>\n",
       "      <td>hsa00290</td>\n",
       "      <td>C00183</td>\n",
       "      <td>72-18-4</td>\n",
       "      <td>3483</td>\n",
       "      <td>BMG_DG173075</td>\n",
       "    </tr>\n",
       "    <tr>\n",
       "      <th>2332</th>\n",
       "      <td>hsa00290</td>\n",
       "      <td>C00407</td>\n",
       "      <td>73-32-5</td>\n",
       "      <td>3697</td>\n",
       "      <td>BMG_DG173223</td>\n",
       "    </tr>\n",
       "    <tr>\n",
       "      <th>2333</th>\n",
       "      <td>hsa00524</td>\n",
       "      <td>C00092</td>\n",
       "      <td>56-73-5</td>\n",
       "      <td>3392</td>\n",
       "      <td>BMG_DG142930</td>\n",
       "    </tr>\n",
       "  </tbody>\n",
       "</table>\n",
       "<p>2354 rows × 5 columns</p>\n",
       "</div>"
      ],
      "text/plain": [
       "     pathway_id  target         CAS   PubChem         To_ID\n",
       "0      hsa00010  C00221    492-61-5      3521  BMG_DG176842\n",
       "1      hsa00010  C00267    492-62-6      3565  BMG_DG199529\n",
       "2      hsa00010  C00022    127-17-3      3324  BMG_DG006378\n",
       "3      hsa00010  C15973         NaN  47205286          <NA>\n",
       "4      hsa00010  C00631         NaN      3904          <NA>\n",
       "...         ...     ...         ...       ...           ...\n",
       "2329   hsa05418  C00533  10102-43-9      3815  BMG_DG090250\n",
       "2330   hsa00290  C00109    600-18-0      3409  BMG_DG169584\n",
       "2331   hsa00290  C00183     72-18-4      3483  BMG_DG173075\n",
       "2332   hsa00290  C00407     73-32-5      3697  BMG_DG173223\n",
       "2333   hsa00524  C00092     56-73-5      3392  BMG_DG142930\n",
       "\n",
       "[2354 rows x 5 columns]"
      ]
     },
     "execution_count": 9,
     "metadata": {},
     "output_type": "execute_result"
    }
   ],
   "source": [
    "def merge_string_columns(df, columns, merge_name, separator=';'):\n",
    "    def merge_strings(row):\n",
    "        combined = set()\n",
    "        for column in columns:\n",
    "            if pd.notnull(row[column]):\n",
    "                combined.update(row[column].split(separator))\n",
    "        return separator.join(combined)\n",
    "    \n",
    "    # Apply the function to each row and create a new column\n",
    "    combined_column_name = merge_name\n",
    "    df[combined_column_name] = df.apply(merge_strings, axis=1)\n",
    "    df.drop(columns=columns, inplace=True)\n",
    "    \n",
    "    return df\n",
    "\n",
    "kegg_pathway_drug = merge_string_columns(kegg_pathway_drug, ['Drug_SID', 'Drug_CAS'], 'To_ID')\n",
    "kegg_pathway_drug.replace('', pd.NA, inplace=True)\n",
    "kegg_pathway_drug"
   ]
  },
  {
   "cell_type": "code",
   "execution_count": 10,
   "metadata": {},
   "outputs": [],
   "source": [
    "pathway_individualid = biomedgraphica_pathway[['KEGG_ID', 'BioMedGraphica_ID']]\n",
    "pathway_individualid = pathway_individualid.dropna(subset=['KEGG_ID'])\n",
    "pathway_individualid = pathway_individualid.assign(KEGG_ID=pathway_individualid['KEGG_ID'].str.split(';')).explode('KEGG_ID')\n",
    "pathway_individualid = pathway_individualid.groupby('KEGG_ID')['BioMedGraphica_ID'].apply(lambda x: ';'.join(x.dropna().unique())).to_dict()\n",
    "\n",
    "kegg_pathway_drug['From_ID'] = kegg_pathway_drug['pathway_id'].map(pathway_individualid)"
   ]
  },
  {
   "cell_type": "code",
   "execution_count": 11,
   "metadata": {},
   "outputs": [
    {
     "name": "stdout",
     "output_type": "stream",
     "text": [
      "<class 'pandas.core.frame.DataFrame'>\n",
      "Index: 1331 entries, 0 to 2333\n",
      "Data columns (total 2 columns):\n",
      " #   Column   Non-Null Count  Dtype \n",
      "---  ------   --------------  ----- \n",
      " 0   From_ID  1331 non-null   object\n",
      " 1   To_ID    1331 non-null   object\n",
      "dtypes: object(2)\n",
      "memory usage: 31.2+ KB\n"
     ]
    },
    {
     "name": "stderr",
     "output_type": "stream",
     "text": [
      "C:\\Users\\shunn\\AppData\\Local\\Temp\\ipykernel_7184\\1563120588.py:2: SettingWithCopyWarning: \n",
      "A value is trying to be set on a copy of a slice from a DataFrame\n",
      "\n",
      "See the caveats in the documentation: https://pandas.pydata.org/pandas-docs/stable/user_guide/indexing.html#returning-a-view-versus-a-copy\n",
      "  pathway_drug.dropna(subset=['To_ID'], inplace=True)\n",
      "C:\\Users\\shunn\\AppData\\Local\\Temp\\ipykernel_7184\\1563120588.py:3: SettingWithCopyWarning: \n",
      "A value is trying to be set on a copy of a slice from a DataFrame\n",
      "\n",
      "See the caveats in the documentation: https://pandas.pydata.org/pandas-docs/stable/user_guide/indexing.html#returning-a-view-versus-a-copy\n",
      "  pathway_drug.dropna(subset=['From_ID'], inplace=True)\n"
     ]
    }
   ],
   "source": [
    "pathway_drug = kegg_pathway_drug[['From_ID', 'To_ID']]\n",
    "pathway_drug.dropna(subset=['To_ID'], inplace=True)\n",
    "pathway_drug.dropna(subset=['From_ID'], inplace=True)\n",
    "pathway_drug.info()"
   ]
  },
  {
   "cell_type": "code",
   "execution_count": 12,
   "metadata": {},
   "outputs": [
    {
     "name": "stderr",
     "output_type": "stream",
     "text": [
      "C:\\Users\\shunn\\AppData\\Local\\Temp\\ipykernel_7184\\3559168633.py:1: SettingWithCopyWarning: \n",
      "A value is trying to be set on a copy of a slice from a DataFrame.\n",
      "Try using .loc[row_indexer,col_indexer] = value instead\n",
      "\n",
      "See the caveats in the documentation: https://pandas.pydata.org/pandas-docs/stable/user_guide/indexing.html#returning-a-view-versus-a-copy\n",
      "  pathway_drug['From_ID'] = pathway_drug['From_ID'].str.split(';')\n"
     ]
    },
    {
     "data": {
      "application/vnd.microsoft.datawrangler.viewer.v0+json": {
       "columns": [
        {
         "name": "index",
         "rawType": "int64",
         "type": "integer"
        },
        {
         "name": "From_ID",
         "rawType": "object",
         "type": "string"
        },
        {
         "name": "To_ID",
         "rawType": "object",
         "type": "string"
        }
       ],
       "conversionMethod": "pd.DataFrame",
       "ref": "f08c6660-bd28-4424-a91c-254ba33360f2",
       "rows": [
        [
         "0",
         "BMG_PW0025",
         "BMG_DG176842"
        ],
        [
         "1",
         "BMG_PW0637",
         "BMG_DG176842"
        ],
        [
         "2",
         "BMG_PW0638",
         "BMG_DG176842"
        ],
        [
         "3",
         "BMG_PW0025",
         "BMG_DG199529"
        ],
        [
         "4",
         "BMG_PW0637",
         "BMG_DG199529"
        ],
        [
         "5",
         "BMG_PW0638",
         "BMG_DG199529"
        ],
        [
         "6",
         "BMG_PW0025",
         "BMG_DG006378"
        ],
        [
         "7",
         "BMG_PW0637",
         "BMG_DG006378"
        ],
        [
         "8",
         "BMG_PW0638",
         "BMG_DG006378"
        ],
        [
         "9",
         "BMG_PW0025",
         "BMG_DG109992"
        ],
        [
         "10",
         "BMG_PW0637",
         "BMG_DG109992"
        ],
        [
         "11",
         "BMG_PW0638",
         "BMG_DG109992"
        ],
        [
         "12",
         "BMG_PW0025",
         "BMG_DG183490"
        ],
        [
         "13",
         "BMG_PW0637",
         "BMG_DG183490"
        ],
        [
         "14",
         "BMG_PW0638",
         "BMG_DG183490"
        ],
        [
         "15",
         "BMG_PW0025",
         "BMG_DG142590"
        ],
        [
         "16",
         "BMG_PW0637",
         "BMG_DG142590"
        ],
        [
         "17",
         "BMG_PW0638",
         "BMG_DG142590"
        ],
        [
         "18",
         "BMG_PW0025",
         "BMG_DG004039"
        ],
        [
         "19",
         "BMG_PW0025",
         "BMG_DG189905"
        ],
        [
         "20",
         "BMG_PW0025",
         "BMG_DG109267"
        ],
        [
         "21",
         "BMG_PW0025",
         "BMG_DG164775"
        ],
        [
         "22",
         "BMG_PW0025",
         "BMG_DG202781"
        ],
        [
         "23",
         "BMG_PW0637",
         "BMG_DG004039"
        ],
        [
         "24",
         "BMG_PW0637",
         "BMG_DG189905"
        ],
        [
         "25",
         "BMG_PW0637",
         "BMG_DG109267"
        ],
        [
         "26",
         "BMG_PW0637",
         "BMG_DG164775"
        ],
        [
         "27",
         "BMG_PW0637",
         "BMG_DG202781"
        ],
        [
         "28",
         "BMG_PW0638",
         "BMG_DG004039"
        ],
        [
         "29",
         "BMG_PW0638",
         "BMG_DG189905"
        ],
        [
         "30",
         "BMG_PW0638",
         "BMG_DG109267"
        ],
        [
         "31",
         "BMG_PW0638",
         "BMG_DG164775"
        ],
        [
         "32",
         "BMG_PW0638",
         "BMG_DG202781"
        ],
        [
         "33",
         "BMG_PW0025",
         "BMG_DG142601"
        ],
        [
         "34",
         "BMG_PW0637",
         "BMG_DG142601"
        ],
        [
         "35",
         "BMG_PW0638",
         "BMG_DG142601"
        ],
        [
         "36",
         "BMG_PW0025",
         "BMG_DG000433"
        ],
        [
         "37",
         "BMG_PW0637",
         "BMG_DG000433"
        ],
        [
         "38",
         "BMG_PW0638",
         "BMG_DG000433"
        ],
        [
         "39",
         "BMG_PW0025",
         "BMG_DG145662"
        ],
        [
         "40",
         "BMG_PW0637",
         "BMG_DG145662"
        ],
        [
         "41",
         "BMG_PW0638",
         "BMG_DG145662"
        ],
        [
         "42",
         "BMG_PW0025",
         "BMG_DG109862"
        ],
        [
         "43",
         "BMG_PW0637",
         "BMG_DG109862"
        ],
        [
         "44",
         "BMG_PW0638",
         "BMG_DG109862"
        ],
        [
         "45",
         "BMG_PW0025",
         "BMG_DG179456"
        ],
        [
         "46",
         "BMG_PW0637",
         "BMG_DG179456"
        ],
        [
         "47",
         "BMG_PW0638",
         "BMG_DG179456"
        ],
        [
         "48",
         "BMG_PW0026",
         "BMG_DG215725"
        ],
        [
         "49",
         "BMG_PW0026",
         "BMG_DG135998"
        ]
       ],
       "shape": {
        "columns": 2,
        "rows": 1795
       }
      },
      "text/html": [
       "<div>\n",
       "<style scoped>\n",
       "    .dataframe tbody tr th:only-of-type {\n",
       "        vertical-align: middle;\n",
       "    }\n",
       "\n",
       "    .dataframe tbody tr th {\n",
       "        vertical-align: top;\n",
       "    }\n",
       "\n",
       "    .dataframe thead th {\n",
       "        text-align: right;\n",
       "    }\n",
       "</style>\n",
       "<table border=\"1\" class=\"dataframe\">\n",
       "  <thead>\n",
       "    <tr style=\"text-align: right;\">\n",
       "      <th></th>\n",
       "      <th>From_ID</th>\n",
       "      <th>To_ID</th>\n",
       "    </tr>\n",
       "  </thead>\n",
       "  <tbody>\n",
       "    <tr>\n",
       "      <th>0</th>\n",
       "      <td>BMG_PW0025</td>\n",
       "      <td>BMG_DG176842</td>\n",
       "    </tr>\n",
       "    <tr>\n",
       "      <th>1</th>\n",
       "      <td>BMG_PW0637</td>\n",
       "      <td>BMG_DG176842</td>\n",
       "    </tr>\n",
       "    <tr>\n",
       "      <th>2</th>\n",
       "      <td>BMG_PW0638</td>\n",
       "      <td>BMG_DG176842</td>\n",
       "    </tr>\n",
       "    <tr>\n",
       "      <th>3</th>\n",
       "      <td>BMG_PW0025</td>\n",
       "      <td>BMG_DG199529</td>\n",
       "    </tr>\n",
       "    <tr>\n",
       "      <th>4</th>\n",
       "      <td>BMG_PW0637</td>\n",
       "      <td>BMG_DG199529</td>\n",
       "    </tr>\n",
       "    <tr>\n",
       "      <th>...</th>\n",
       "      <td>...</td>\n",
       "      <td>...</td>\n",
       "    </tr>\n",
       "    <tr>\n",
       "      <th>1790</th>\n",
       "      <td>BMG_PW6793</td>\n",
       "      <td>BMG_DG090250</td>\n",
       "    </tr>\n",
       "    <tr>\n",
       "      <th>1791</th>\n",
       "      <td>BMG_PW6616</td>\n",
       "      <td>BMG_DG169584</td>\n",
       "    </tr>\n",
       "    <tr>\n",
       "      <th>1792</th>\n",
       "      <td>BMG_PW6616</td>\n",
       "      <td>BMG_DG173075</td>\n",
       "    </tr>\n",
       "    <tr>\n",
       "      <th>1793</th>\n",
       "      <td>BMG_PW6616</td>\n",
       "      <td>BMG_DG173223</td>\n",
       "    </tr>\n",
       "    <tr>\n",
       "      <th>1794</th>\n",
       "      <td>BMG_PW6625</td>\n",
       "      <td>BMG_DG142930</td>\n",
       "    </tr>\n",
       "  </tbody>\n",
       "</table>\n",
       "<p>1795 rows × 2 columns</p>\n",
       "</div>"
      ],
      "text/plain": [
       "         From_ID         To_ID\n",
       "0     BMG_PW0025  BMG_DG176842\n",
       "1     BMG_PW0637  BMG_DG176842\n",
       "2     BMG_PW0638  BMG_DG176842\n",
       "3     BMG_PW0025  BMG_DG199529\n",
       "4     BMG_PW0637  BMG_DG199529\n",
       "...          ...           ...\n",
       "1790  BMG_PW6793  BMG_DG090250\n",
       "1791  BMG_PW6616  BMG_DG169584\n",
       "1792  BMG_PW6616  BMG_DG173075\n",
       "1793  BMG_PW6616  BMG_DG173223\n",
       "1794  BMG_PW6625  BMG_DG142930\n",
       "\n",
       "[1795 rows x 2 columns]"
      ]
     },
     "execution_count": 12,
     "metadata": {},
     "output_type": "execute_result"
    }
   ],
   "source": [
    "pathway_drug['From_ID'] = pathway_drug['From_ID'].str.split(';') \n",
    "pathway_drug = pathway_drug.explode('From_ID')\n",
    "\n",
    "pathway_drug['To_ID'] = pathway_drug['To_ID'].str.split(';')\n",
    "pathway_drug = pathway_drug.explode('To_ID')\n",
    "\n",
    "pathway_drug.drop_duplicates(inplace=True)\n",
    "pathway_drug.reset_index(drop=True, inplace=True)\n",
    "pathway_drug"
   ]
  },
  {
   "cell_type": "markdown",
   "metadata": {},
   "source": [
    "### Pathway-Drug Relation"
   ]
  },
  {
   "cell_type": "code",
   "execution_count": 13,
   "metadata": {},
   "outputs": [
    {
     "data": {
      "application/vnd.microsoft.datawrangler.viewer.v0+json": {
       "columns": [
        {
         "name": "index",
         "rawType": "int64",
         "type": "integer"
        },
        {
         "name": "BioMedGraphica_ID",
         "rawType": "object",
         "type": "string"
        },
        {
         "name": "From_ID",
         "rawType": "object",
         "type": "string"
        },
        {
         "name": "To_ID",
         "rawType": "object",
         "type": "string"
        },
        {
         "name": "Type",
         "rawType": "object",
         "type": "string"
        },
        {
         "name": "Source",
         "rawType": "object",
         "type": "string"
        }
       ],
       "conversionMethod": "pd.DataFrame",
       "ref": "3e520479-269e-49ff-ba9b-94f336f3f906",
       "rows": [
        [
         "0",
         "BMG_ED_PWDG0001",
         "BMG_PW0025",
         "BMG_DG176842",
         "Pathway-Drug",
         "KEGG"
        ],
        [
         "1",
         "BMG_ED_PWDG0002",
         "BMG_PW0637",
         "BMG_DG176842",
         "Pathway-Drug",
         "KEGG"
        ],
        [
         "2",
         "BMG_ED_PWDG0003",
         "BMG_PW0638",
         "BMG_DG176842",
         "Pathway-Drug",
         "KEGG"
        ],
        [
         "3",
         "BMG_ED_PWDG0004",
         "BMG_PW0025",
         "BMG_DG199529",
         "Pathway-Drug",
         "KEGG"
        ],
        [
         "4",
         "BMG_ED_PWDG0005",
         "BMG_PW0637",
         "BMG_DG199529",
         "Pathway-Drug",
         "KEGG"
        ],
        [
         "5",
         "BMG_ED_PWDG0006",
         "BMG_PW0638",
         "BMG_DG199529",
         "Pathway-Drug",
         "KEGG"
        ],
        [
         "6",
         "BMG_ED_PWDG0007",
         "BMG_PW0025",
         "BMG_DG006378",
         "Pathway-Drug",
         "KEGG"
        ],
        [
         "7",
         "BMG_ED_PWDG0008",
         "BMG_PW0637",
         "BMG_DG006378",
         "Pathway-Drug",
         "KEGG"
        ],
        [
         "8",
         "BMG_ED_PWDG0009",
         "BMG_PW0638",
         "BMG_DG006378",
         "Pathway-Drug",
         "KEGG"
        ],
        [
         "9",
         "BMG_ED_PWDG0010",
         "BMG_PW0025",
         "BMG_DG109992",
         "Pathway-Drug",
         "KEGG"
        ],
        [
         "10",
         "BMG_ED_PWDG0011",
         "BMG_PW0637",
         "BMG_DG109992",
         "Pathway-Drug",
         "KEGG"
        ],
        [
         "11",
         "BMG_ED_PWDG0012",
         "BMG_PW0638",
         "BMG_DG109992",
         "Pathway-Drug",
         "KEGG"
        ],
        [
         "12",
         "BMG_ED_PWDG0013",
         "BMG_PW0025",
         "BMG_DG183490",
         "Pathway-Drug",
         "KEGG"
        ],
        [
         "13",
         "BMG_ED_PWDG0014",
         "BMG_PW0637",
         "BMG_DG183490",
         "Pathway-Drug",
         "KEGG"
        ],
        [
         "14",
         "BMG_ED_PWDG0015",
         "BMG_PW0638",
         "BMG_DG183490",
         "Pathway-Drug",
         "KEGG"
        ],
        [
         "15",
         "BMG_ED_PWDG0016",
         "BMG_PW0025",
         "BMG_DG142590",
         "Pathway-Drug",
         "KEGG"
        ],
        [
         "16",
         "BMG_ED_PWDG0017",
         "BMG_PW0637",
         "BMG_DG142590",
         "Pathway-Drug",
         "KEGG"
        ],
        [
         "17",
         "BMG_ED_PWDG0018",
         "BMG_PW0638",
         "BMG_DG142590",
         "Pathway-Drug",
         "KEGG"
        ],
        [
         "18",
         "BMG_ED_PWDG0019",
         "BMG_PW0025",
         "BMG_DG004039",
         "Pathway-Drug",
         "KEGG"
        ],
        [
         "19",
         "BMG_ED_PWDG0020",
         "BMG_PW0025",
         "BMG_DG189905",
         "Pathway-Drug",
         "KEGG"
        ],
        [
         "20",
         "BMG_ED_PWDG0021",
         "BMG_PW0025",
         "BMG_DG109267",
         "Pathway-Drug",
         "KEGG"
        ],
        [
         "21",
         "BMG_ED_PWDG0022",
         "BMG_PW0025",
         "BMG_DG164775",
         "Pathway-Drug",
         "KEGG"
        ],
        [
         "22",
         "BMG_ED_PWDG0023",
         "BMG_PW0025",
         "BMG_DG202781",
         "Pathway-Drug",
         "KEGG"
        ],
        [
         "23",
         "BMG_ED_PWDG0024",
         "BMG_PW0637",
         "BMG_DG004039",
         "Pathway-Drug",
         "KEGG"
        ],
        [
         "24",
         "BMG_ED_PWDG0025",
         "BMG_PW0637",
         "BMG_DG189905",
         "Pathway-Drug",
         "KEGG"
        ],
        [
         "25",
         "BMG_ED_PWDG0026",
         "BMG_PW0637",
         "BMG_DG109267",
         "Pathway-Drug",
         "KEGG"
        ],
        [
         "26",
         "BMG_ED_PWDG0027",
         "BMG_PW0637",
         "BMG_DG164775",
         "Pathway-Drug",
         "KEGG"
        ],
        [
         "27",
         "BMG_ED_PWDG0028",
         "BMG_PW0637",
         "BMG_DG202781",
         "Pathway-Drug",
         "KEGG"
        ],
        [
         "28",
         "BMG_ED_PWDG0029",
         "BMG_PW0638",
         "BMG_DG004039",
         "Pathway-Drug",
         "KEGG"
        ],
        [
         "29",
         "BMG_ED_PWDG0030",
         "BMG_PW0638",
         "BMG_DG189905",
         "Pathway-Drug",
         "KEGG"
        ],
        [
         "30",
         "BMG_ED_PWDG0031",
         "BMG_PW0638",
         "BMG_DG109267",
         "Pathway-Drug",
         "KEGG"
        ],
        [
         "31",
         "BMG_ED_PWDG0032",
         "BMG_PW0638",
         "BMG_DG164775",
         "Pathway-Drug",
         "KEGG"
        ],
        [
         "32",
         "BMG_ED_PWDG0033",
         "BMG_PW0638",
         "BMG_DG202781",
         "Pathway-Drug",
         "KEGG"
        ],
        [
         "33",
         "BMG_ED_PWDG0034",
         "BMG_PW0025",
         "BMG_DG142601",
         "Pathway-Drug",
         "KEGG"
        ],
        [
         "34",
         "BMG_ED_PWDG0035",
         "BMG_PW0637",
         "BMG_DG142601",
         "Pathway-Drug",
         "KEGG"
        ],
        [
         "35",
         "BMG_ED_PWDG0036",
         "BMG_PW0638",
         "BMG_DG142601",
         "Pathway-Drug",
         "KEGG"
        ],
        [
         "36",
         "BMG_ED_PWDG0037",
         "BMG_PW0025",
         "BMG_DG000433",
         "Pathway-Drug",
         "KEGG"
        ],
        [
         "37",
         "BMG_ED_PWDG0038",
         "BMG_PW0637",
         "BMG_DG000433",
         "Pathway-Drug",
         "KEGG"
        ],
        [
         "38",
         "BMG_ED_PWDG0039",
         "BMG_PW0638",
         "BMG_DG000433",
         "Pathway-Drug",
         "KEGG"
        ],
        [
         "39",
         "BMG_ED_PWDG0040",
         "BMG_PW0025",
         "BMG_DG145662",
         "Pathway-Drug",
         "KEGG"
        ],
        [
         "40",
         "BMG_ED_PWDG0041",
         "BMG_PW0637",
         "BMG_DG145662",
         "Pathway-Drug",
         "KEGG"
        ],
        [
         "41",
         "BMG_ED_PWDG0042",
         "BMG_PW0638",
         "BMG_DG145662",
         "Pathway-Drug",
         "KEGG"
        ],
        [
         "42",
         "BMG_ED_PWDG0043",
         "BMG_PW0025",
         "BMG_DG109862",
         "Pathway-Drug",
         "KEGG"
        ],
        [
         "43",
         "BMG_ED_PWDG0044",
         "BMG_PW0637",
         "BMG_DG109862",
         "Pathway-Drug",
         "KEGG"
        ],
        [
         "44",
         "BMG_ED_PWDG0045",
         "BMG_PW0638",
         "BMG_DG109862",
         "Pathway-Drug",
         "KEGG"
        ],
        [
         "45",
         "BMG_ED_PWDG0046",
         "BMG_PW0025",
         "BMG_DG179456",
         "Pathway-Drug",
         "KEGG"
        ],
        [
         "46",
         "BMG_ED_PWDG0047",
         "BMG_PW0637",
         "BMG_DG179456",
         "Pathway-Drug",
         "KEGG"
        ],
        [
         "47",
         "BMG_ED_PWDG0048",
         "BMG_PW0638",
         "BMG_DG179456",
         "Pathway-Drug",
         "KEGG"
        ],
        [
         "48",
         "BMG_ED_PWDG0049",
         "BMG_PW0026",
         "BMG_DG215725",
         "Pathway-Drug",
         "KEGG"
        ],
        [
         "49",
         "BMG_ED_PWDG0050",
         "BMG_PW0026",
         "BMG_DG135998",
         "Pathway-Drug",
         "KEGG"
        ]
       ],
       "shape": {
        "columns": 5,
        "rows": 1795
       }
      },
      "text/html": [
       "<div>\n",
       "<style scoped>\n",
       "    .dataframe tbody tr th:only-of-type {\n",
       "        vertical-align: middle;\n",
       "    }\n",
       "\n",
       "    .dataframe tbody tr th {\n",
       "        vertical-align: top;\n",
       "    }\n",
       "\n",
       "    .dataframe thead th {\n",
       "        text-align: right;\n",
       "    }\n",
       "</style>\n",
       "<table border=\"1\" class=\"dataframe\">\n",
       "  <thead>\n",
       "    <tr style=\"text-align: right;\">\n",
       "      <th></th>\n",
       "      <th>BioMedGraphica_ID</th>\n",
       "      <th>From_ID</th>\n",
       "      <th>To_ID</th>\n",
       "      <th>Type</th>\n",
       "      <th>Source</th>\n",
       "    </tr>\n",
       "  </thead>\n",
       "  <tbody>\n",
       "    <tr>\n",
       "      <th>0</th>\n",
       "      <td>BMG_ED_PWDG0001</td>\n",
       "      <td>BMG_PW0025</td>\n",
       "      <td>BMG_DG176842</td>\n",
       "      <td>Pathway-Drug</td>\n",
       "      <td>KEGG</td>\n",
       "    </tr>\n",
       "    <tr>\n",
       "      <th>1</th>\n",
       "      <td>BMG_ED_PWDG0002</td>\n",
       "      <td>BMG_PW0637</td>\n",
       "      <td>BMG_DG176842</td>\n",
       "      <td>Pathway-Drug</td>\n",
       "      <td>KEGG</td>\n",
       "    </tr>\n",
       "    <tr>\n",
       "      <th>2</th>\n",
       "      <td>BMG_ED_PWDG0003</td>\n",
       "      <td>BMG_PW0638</td>\n",
       "      <td>BMG_DG176842</td>\n",
       "      <td>Pathway-Drug</td>\n",
       "      <td>KEGG</td>\n",
       "    </tr>\n",
       "    <tr>\n",
       "      <th>3</th>\n",
       "      <td>BMG_ED_PWDG0004</td>\n",
       "      <td>BMG_PW0025</td>\n",
       "      <td>BMG_DG199529</td>\n",
       "      <td>Pathway-Drug</td>\n",
       "      <td>KEGG</td>\n",
       "    </tr>\n",
       "    <tr>\n",
       "      <th>4</th>\n",
       "      <td>BMG_ED_PWDG0005</td>\n",
       "      <td>BMG_PW0637</td>\n",
       "      <td>BMG_DG199529</td>\n",
       "      <td>Pathway-Drug</td>\n",
       "      <td>KEGG</td>\n",
       "    </tr>\n",
       "    <tr>\n",
       "      <th>...</th>\n",
       "      <td>...</td>\n",
       "      <td>...</td>\n",
       "      <td>...</td>\n",
       "      <td>...</td>\n",
       "      <td>...</td>\n",
       "    </tr>\n",
       "    <tr>\n",
       "      <th>1790</th>\n",
       "      <td>BMG_ED_PWDG1791</td>\n",
       "      <td>BMG_PW6793</td>\n",
       "      <td>BMG_DG090250</td>\n",
       "      <td>Pathway-Drug</td>\n",
       "      <td>KEGG</td>\n",
       "    </tr>\n",
       "    <tr>\n",
       "      <th>1791</th>\n",
       "      <td>BMG_ED_PWDG1792</td>\n",
       "      <td>BMG_PW6616</td>\n",
       "      <td>BMG_DG169584</td>\n",
       "      <td>Pathway-Drug</td>\n",
       "      <td>KEGG</td>\n",
       "    </tr>\n",
       "    <tr>\n",
       "      <th>1792</th>\n",
       "      <td>BMG_ED_PWDG1793</td>\n",
       "      <td>BMG_PW6616</td>\n",
       "      <td>BMG_DG173075</td>\n",
       "      <td>Pathway-Drug</td>\n",
       "      <td>KEGG</td>\n",
       "    </tr>\n",
       "    <tr>\n",
       "      <th>1793</th>\n",
       "      <td>BMG_ED_PWDG1794</td>\n",
       "      <td>BMG_PW6616</td>\n",
       "      <td>BMG_DG173223</td>\n",
       "      <td>Pathway-Drug</td>\n",
       "      <td>KEGG</td>\n",
       "    </tr>\n",
       "    <tr>\n",
       "      <th>1794</th>\n",
       "      <td>BMG_ED_PWDG1795</td>\n",
       "      <td>BMG_PW6625</td>\n",
       "      <td>BMG_DG142930</td>\n",
       "      <td>Pathway-Drug</td>\n",
       "      <td>KEGG</td>\n",
       "    </tr>\n",
       "  </tbody>\n",
       "</table>\n",
       "<p>1795 rows × 5 columns</p>\n",
       "</div>"
      ],
      "text/plain": [
       "     BioMedGraphica_ID     From_ID         To_ID          Type Source\n",
       "0      BMG_ED_PWDG0001  BMG_PW0025  BMG_DG176842  Pathway-Drug   KEGG\n",
       "1      BMG_ED_PWDG0002  BMG_PW0637  BMG_DG176842  Pathway-Drug   KEGG\n",
       "2      BMG_ED_PWDG0003  BMG_PW0638  BMG_DG176842  Pathway-Drug   KEGG\n",
       "3      BMG_ED_PWDG0004  BMG_PW0025  BMG_DG199529  Pathway-Drug   KEGG\n",
       "4      BMG_ED_PWDG0005  BMG_PW0637  BMG_DG199529  Pathway-Drug   KEGG\n",
       "...                ...         ...           ...           ...    ...\n",
       "1790   BMG_ED_PWDG1791  BMG_PW6793  BMG_DG090250  Pathway-Drug   KEGG\n",
       "1791   BMG_ED_PWDG1792  BMG_PW6616  BMG_DG169584  Pathway-Drug   KEGG\n",
       "1792   BMG_ED_PWDG1793  BMG_PW6616  BMG_DG173075  Pathway-Drug   KEGG\n",
       "1793   BMG_ED_PWDG1794  BMG_PW6616  BMG_DG173223  Pathway-Drug   KEGG\n",
       "1794   BMG_ED_PWDG1795  BMG_PW6625  BMG_DG142930  Pathway-Drug   KEGG\n",
       "\n",
       "[1795 rows x 5 columns]"
      ]
     },
     "execution_count": 13,
     "metadata": {},
     "output_type": "execute_result"
    }
   ],
   "source": [
    "pathway_drug['Type'] = 'Pathway-Drug'\n",
    "pathway_drug['Source'] = 'KEGG'\n",
    "\n",
    "max_length = len(str(len(pathway_drug)))\n",
    "pathway_drug['BioMedGraphica_ID'] = ['BMG_ED_PWDG' + str(i).zfill(max_length) for i in range(1, len(pathway_drug) + 1)]\n",
    "columns = ['BioMedGraphica_ID'] + [col for col in pathway_drug.columns if col != 'BioMedGraphica_ID']  # re-order columns\n",
    "pathway_drug = pathway_drug[columns]\n",
    "pathway_drug"
   ]
  },
  {
   "cell_type": "code",
   "execution_count": 14,
   "metadata": {},
   "outputs": [
    {
     "name": "stdout",
     "output_type": "stream",
     "text": [
      "Data has been saved to D:\\RA\\BMG\\BioMedGraphica\\Relation\\Pathway-Drug\\BioMedGraphica_Pathway_Drug.csv\n"
     ]
    }
   ],
   "source": [
    "import os\n",
    "from pathlib import Path\n",
    "\n",
    "# get the current working directory\n",
    "current_working_dir = Path(os.getcwd()).resolve()\n",
    "\n",
    "# get the output directory\n",
    "grandparent_dir = current_working_dir.parent.parent.parent\n",
    "\n",
    "target_folder = grandparent_dir / 'BioMedGraphica' / 'Relation' / 'Pathway-Drug'\n",
    "if not target_folder.exists():\n",
    "    target_folder.mkdir(parents=True)\n",
    "    print(f\"Folder {target_folder} has been created.\")\n",
    "\n",
    "output_file_path = target_folder / 'BioMedGraphica_Pathway_Drug.csv'\n",
    "pathway_drug.to_csv(output_file_path, index=False)\n",
    "print(f\"Data has been saved to {output_file_path}\")"
   ]
  }
 ],
 "metadata": {
  "kernelspec": {
   "display_name": "base",
   "language": "python",
   "name": "python3"
  },
  "language_info": {
   "codemirror_mode": {
    "name": "ipython",
    "version": 3
   },
   "file_extension": ".py",
   "mimetype": "text/x-python",
   "name": "python",
   "nbconvert_exporter": "python",
   "pygments_lexer": "ipython3",
   "version": "3.9.19"
  }
 },
 "nbformat": 4,
 "nbformat_minor": 2
}
