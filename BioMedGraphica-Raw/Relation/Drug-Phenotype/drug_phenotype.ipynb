{
 "cells": [
  {
   "cell_type": "markdown",
   "metadata": {},
   "source": [
    "### SIDER"
   ]
  },
  {
   "cell_type": "code",
   "execution_count": 1,
   "metadata": {},
   "outputs": [
    {
     "data": {
      "application/vnd.microsoft.datawrangler.viewer.v0+json": {
       "columns": [
        {
         "name": "index",
         "rawType": "int64",
         "type": "integer"
        },
        {
         "name": "STITCH_STEREO",
         "rawType": "object",
         "type": "string"
        },
        {
         "name": "UMLS_CONCEPT_ID_MEDDRA",
         "rawType": "object",
         "type": "string"
        }
       ],
       "conversionMethod": "pd.DataFrame",
       "ref": "7f217764-5309-42e1-9809-806e6b7dba39",
       "rows": [
        [
         "1",
         "000010917",
         "C0000737"
        ],
        [
         "3",
         "000010917",
         "C0687713"
        ],
        [
         "6",
         "000010917",
         "C0002418"
        ],
        [
         "8",
         "000010917",
         "C0002871"
        ],
        [
         "10",
         "000010917",
         "C0232462"
        ],
        [
         "12",
         "000010917",
         "C0003467"
        ],
        [
         "14",
         "000010917",
         "C0003811"
        ],
        [
         "16",
         "000010917",
         "C0004093"
        ],
        [
         "18",
         "000010917",
         "C0004238"
        ],
        [
         "20",
         "000010917",
         "C0004604"
        ],
        [
         "22",
         "000010917",
         "C0006277"
        ],
        [
         "24",
         "000010917",
         "C0007222"
        ],
        [
         "26",
         "000010917",
         "C0008031"
        ],
        [
         "28",
         "000010917",
         "C0009450"
        ],
        [
         "30",
         "000010917",
         "C0009806"
        ],
        [
         "32",
         "000010917",
         "C0010200"
        ],
        [
         "34",
         "000010917",
         "C0011570"
        ],
        [
         "36",
         "000010917",
         "C0011991"
        ],
        [
         "38",
         "000010917",
         "C0012833"
        ],
        [
         "40",
         "000010917",
         "C0013378"
        ],
        [
         "42",
         "000010917",
         "C0013395"
        ],
        [
         "44",
         "000010917",
         "C0013404"
        ],
        [
         "46",
         "000010917",
         "C0015230"
        ],
        [
         "47",
         "000010917",
         "C0011603"
        ],
        [
         "49",
         "000010917",
         "C0015397"
        ],
        [
         "51",
         "000010917",
         "C0015967"
        ],
        [
         "53",
         "000010917",
         "C0017152"
        ],
        [
         "55",
         "000010917",
         "C0017178"
        ],
        [
         "57",
         "000010917",
         "C0018681"
        ],
        [
         "59",
         "000010917",
         "C0019080"
        ],
        [
         "60",
         "000010917",
         "C0518015"
        ],
        [
         "62",
         "000010917",
         "C0020437"
        ],
        [
         "64",
         "000010917",
         "C0020461"
        ],
        [
         "66",
         "000010917",
         "C0020517"
        ],
        [
         "68",
         "000010917",
         "C0020538"
        ],
        [
         "70",
         "000010917",
         "C0020649"
        ],
        [
         "72",
         "000010917",
         "C0021400"
        ],
        [
         "74",
         "000010917",
         "C0037763"
        ],
        [
         "76",
         "000010917",
         "C0025222"
        ],
        [
         "78",
         "000010917",
         "C0026826"
        ],
        [
         "80",
         "000010917",
         "C0027497"
        ],
        [
         "82",
         "000010917",
         "C0030193"
        ],
        [
         "84",
         "000010917",
         "C0030252"
        ],
        [
         "86",
         "000010917",
         "C0030517"
        ],
        [
         "88",
         "000010917",
         "C0030554"
        ],
        [
         "90",
         "000010917",
         "C0031350"
        ],
        [
         "92",
         "000010917",
         "C0033774"
        ],
        [
         "94",
         "000010917",
         "C0035078"
        ],
        [
         "96",
         "000010917",
         "C0035455"
        ],
        [
         "98",
         "000010917",
         "C0036572"
        ]
       ],
       "shape": {
        "columns": 2,
        "rows": 152759
       }
      },
      "text/html": [
       "<div>\n",
       "<style scoped>\n",
       "    .dataframe tbody tr th:only-of-type {\n",
       "        vertical-align: middle;\n",
       "    }\n",
       "\n",
       "    .dataframe tbody tr th {\n",
       "        vertical-align: top;\n",
       "    }\n",
       "\n",
       "    .dataframe thead th {\n",
       "        text-align: right;\n",
       "    }\n",
       "</style>\n",
       "<table border=\"1\" class=\"dataframe\">\n",
       "  <thead>\n",
       "    <tr style=\"text-align: right;\">\n",
       "      <th></th>\n",
       "      <th>STITCH_STEREO</th>\n",
       "      <th>UMLS_CONCEPT_ID_MEDDRA</th>\n",
       "    </tr>\n",
       "  </thead>\n",
       "  <tbody>\n",
       "    <tr>\n",
       "      <th>1</th>\n",
       "      <td>000010917</td>\n",
       "      <td>C0000737</td>\n",
       "    </tr>\n",
       "    <tr>\n",
       "      <th>3</th>\n",
       "      <td>000010917</td>\n",
       "      <td>C0687713</td>\n",
       "    </tr>\n",
       "    <tr>\n",
       "      <th>6</th>\n",
       "      <td>000010917</td>\n",
       "      <td>C0002418</td>\n",
       "    </tr>\n",
       "    <tr>\n",
       "      <th>8</th>\n",
       "      <td>000010917</td>\n",
       "      <td>C0002871</td>\n",
       "    </tr>\n",
       "    <tr>\n",
       "      <th>10</th>\n",
       "      <td>000010917</td>\n",
       "      <td>C0232462</td>\n",
       "    </tr>\n",
       "    <tr>\n",
       "      <th>...</th>\n",
       "      <td>...</td>\n",
       "      <td>...</td>\n",
       "    </tr>\n",
       "    <tr>\n",
       "      <th>309836</th>\n",
       "      <td>071306834</td>\n",
       "      <td>C2364111</td>\n",
       "    </tr>\n",
       "    <tr>\n",
       "      <th>309838</th>\n",
       "      <td>071306834</td>\n",
       "      <td>C2830004</td>\n",
       "    </tr>\n",
       "    <tr>\n",
       "      <th>309840</th>\n",
       "      <td>071306834</td>\n",
       "      <td>C2979982</td>\n",
       "    </tr>\n",
       "    <tr>\n",
       "      <th>309843</th>\n",
       "      <td>071306834</td>\n",
       "      <td>C3203358</td>\n",
       "    </tr>\n",
       "    <tr>\n",
       "      <th>309848</th>\n",
       "      <td>071306834</td>\n",
       "      <td>C0347390</td>\n",
       "    </tr>\n",
       "  </tbody>\n",
       "</table>\n",
       "<p>152759 rows × 2 columns</p>\n",
       "</div>"
      ],
      "text/plain": [
       "       STITCH_STEREO UMLS_CONCEPT_ID_MEDDRA\n",
       "1          000010917               C0000737\n",
       "3          000010917               C0687713\n",
       "6          000010917               C0002418\n",
       "8          000010917               C0002871\n",
       "10         000010917               C0232462\n",
       "...              ...                    ...\n",
       "309836     071306834               C2364111\n",
       "309838     071306834               C2830004\n",
       "309840     071306834               C2979982\n",
       "309843     071306834               C3203358\n",
       "309848     071306834               C0347390\n",
       "\n",
       "[152759 rows x 2 columns]"
      ]
     },
     "execution_count": 1,
     "metadata": {},
     "output_type": "execute_result"
    }
   ],
   "source": [
    "# Download Link: http://sideeffects.embl.de/media/download/meddra_all_se.tsv.gz\n",
    "# Download Date: 2025-03-21\n",
    "# Download Version: 2015-10-21\n",
    "\n",
    "import pandas as pd\n",
    "\n",
    "df_sider = pd.read_csv('meddra_all_se.tsv', sep='\\t', names=['STITCH_FLAT', 'STITCH_STEREO', 'UMLS_CONCEPT_ID_LABEL', 'MedDRA concept type', 'UMLS_CONCEPT_ID_MEDDRA', 'side effect name'])\n",
    "# filter MedDRA concept type == 'PT' (Preferred Term)\n",
    "df_sider = df_sider[df_sider['MedDRA concept type'] == 'PT']\n",
    "df_sider = df_sider.drop(columns=['MedDRA concept type'])\n",
    "df_sider = df_sider[['STITCH_STEREO', 'UMLS_CONCEPT_ID_MEDDRA']]\n",
    "df_sider['STITCH_STEREO'] = df_sider['STITCH_STEREO'].str.replace('CID', '')\n",
    "df_sider = df_sider.dropna()\n",
    "df_sider = df_sider.drop_duplicates()\n",
    "df_sider"
   ]
  },
  {
   "cell_type": "markdown",
   "metadata": {},
   "source": [
    "### BioMedgraphica ID"
   ]
  },
  {
   "cell_type": "code",
   "execution_count": 4,
   "metadata": {},
   "outputs": [],
   "source": [
    "import pandas as pd\n",
    "import os\n",
    "from pathlib import Path\n",
    "\n",
    "current_working_dir = Path(os.getcwd()).resolve()\n",
    "grandparent_dir = current_working_dir.parent.parent.parent\n",
    "target_dir_phenotype = grandparent_dir / 'BioMedGraphica' / 'Entity' / 'Phenotype' / 'BioMedGraphica_Phenotype.csv'\n",
    "target_dir_drug = grandparent_dir / 'BioMedGraphica' / 'Entity' / 'Drug' / 'BioMedGraphica_Drug.csv'\n",
    "biomedgraphica_phenotype = pd.read_csv(target_dir_phenotype, dtype=str)\n",
    "biomedgraphica_drug = pd.read_csv(target_dir_drug, dtype=str)"
   ]
  },
  {
   "cell_type": "markdown",
   "metadata": {},
   "source": [
    "### SIDER Mapping"
   ]
  },
  {
   "cell_type": "code",
   "execution_count": 5,
   "metadata": {},
   "outputs": [
    {
     "data": {
      "application/vnd.microsoft.datawrangler.viewer.v0+json": {
       "columns": [
        {
         "name": "index",
         "rawType": "int64",
         "type": "integer"
        },
        {
         "name": "PubChem_CID",
         "rawType": "object",
         "type": "string"
        },
        {
         "name": "BioMedGraphica_ID",
         "rawType": "object",
         "type": "string"
        }
       ],
       "conversionMethod": "pd.DataFrame",
       "ref": "080c1da1-7173-4ba5-b5e6-7e1c5eb0188a",
       "rows": [
        [
         "0",
         "1",
         "BMG_DG000001"
        ],
        [
         "1",
         "1000",
         "BMG_DG000002"
        ],
        [
         "2",
         "10000",
         "BMG_DG000003"
        ],
        [
         "3",
         "100001",
         "BMG_DG000004"
        ],
        [
         "4",
         "10000220",
         "BMG_DG000005"
        ],
        [
         "5",
         "10000627",
         "BMG_DG000006"
        ],
        [
         "6",
         "10000645",
         "BMG_DG000007"
        ],
        [
         "7",
         "10000705",
         "BMG_DG000008"
        ],
        [
         "8",
         "10000827",
         "BMG_DG000009"
        ],
        [
         "9",
         "10000860",
         "BMG_DG000010"
        ],
        [
         "10",
         "10001145",
         "BMG_DG000011"
        ],
        [
         "11",
         "10001250",
         "BMG_DG000012"
        ],
        [
         "12",
         "10001337",
         "BMG_DG000013"
        ],
        [
         "13",
         "10001388",
         "BMG_DG000014"
        ],
        [
         "14",
         "10001574",
         "BMG_DG000015"
        ],
        [
         "15",
         "10001591",
         "BMG_DG000016"
        ],
        [
         "16",
         "100016",
         "BMG_DG000017"
        ],
        [
         "17",
         "10001648",
         "BMG_DG000018"
        ],
        [
         "18",
         "10001761",
         "BMG_DG000019"
        ],
        [
         "19",
         "100018",
         "BMG_DG000020"
        ],
        [
         "20",
         "100019",
         "BMG_DG000021"
        ],
        [
         "21",
         "10002188",
         "BMG_DG000022"
        ],
        [
         "22",
         "10002448",
         "BMG_DG000023"
        ],
        [
         "23",
         "100026",
         "BMG_DG000024"
        ],
        [
         "24",
         "100028",
         "BMG_DG000025"
        ],
        [
         "25",
         "10002902",
         "BMG_DG000026"
        ],
        [
         "26",
         "10002923",
         "BMG_DG000027"
        ],
        [
         "27",
         "10002934",
         "BMG_DG000028"
        ],
        [
         "28",
         "10002952",
         "BMG_DG000029"
        ],
        [
         "29",
         "10003060",
         "BMG_DG000030"
        ],
        [
         "30",
         "100031",
         "BMG_DG000031"
        ],
        [
         "31",
         "10003607",
         "BMG_DG000032"
        ],
        [
         "32",
         "10003684",
         "BMG_DG000033"
        ],
        [
         "33",
         "100039",
         "BMG_DG000034"
        ],
        [
         "34",
         "10004345",
         "BMG_DG000035"
        ],
        [
         "35",
         "10004539",
         "BMG_DG000036"
        ],
        [
         "36",
         "10004545",
         "BMG_DG000037"
        ],
        [
         "37",
         "100048",
         "BMG_DG000038"
        ],
        [
         "38",
         "10004895",
         "BMG_DG000039"
        ],
        [
         "39",
         "10005",
         "BMG_DG000040"
        ],
        [
         "40",
         "10005178",
         "BMG_DG000041"
        ],
        [
         "41",
         "10005375",
         "BMG_DG000042"
        ],
        [
         "42",
         "10005640",
         "BMG_DG000043"
        ],
        [
         "43",
         "10005966",
         "BMG_DG000044"
        ],
        [
         "44",
         "10006",
         "BMG_DG000045"
        ],
        [
         "45",
         "10006270",
         "BMG_DG000046"
        ],
        [
         "46",
         "10006384",
         "BMG_DG000047"
        ],
        [
         "47",
         "10006540",
         "BMG_DG000048"
        ],
        [
         "48",
         "100067",
         "BMG_DG000049"
        ],
        [
         "49",
         "10007",
         "BMG_DG000050"
        ]
       ],
       "shape": {
        "columns": 2,
        "rows": 220855
       }
      },
      "text/html": [
       "<div>\n",
       "<style scoped>\n",
       "    .dataframe tbody tr th:only-of-type {\n",
       "        vertical-align: middle;\n",
       "    }\n",
       "\n",
       "    .dataframe tbody tr th {\n",
       "        vertical-align: top;\n",
       "    }\n",
       "\n",
       "    .dataframe thead th {\n",
       "        text-align: right;\n",
       "    }\n",
       "</style>\n",
       "<table border=\"1\" class=\"dataframe\">\n",
       "  <thead>\n",
       "    <tr style=\"text-align: right;\">\n",
       "      <th></th>\n",
       "      <th>PubChem_CID</th>\n",
       "      <th>BioMedGraphica_ID</th>\n",
       "    </tr>\n",
       "  </thead>\n",
       "  <tbody>\n",
       "    <tr>\n",
       "      <th>0</th>\n",
       "      <td>1</td>\n",
       "      <td>BMG_DG000001</td>\n",
       "    </tr>\n",
       "    <tr>\n",
       "      <th>1</th>\n",
       "      <td>1000</td>\n",
       "      <td>BMG_DG000002</td>\n",
       "    </tr>\n",
       "    <tr>\n",
       "      <th>2</th>\n",
       "      <td>10000</td>\n",
       "      <td>BMG_DG000003</td>\n",
       "    </tr>\n",
       "    <tr>\n",
       "      <th>3</th>\n",
       "      <td>100001</td>\n",
       "      <td>BMG_DG000004</td>\n",
       "    </tr>\n",
       "    <tr>\n",
       "      <th>4</th>\n",
       "      <td>10000220</td>\n",
       "      <td>BMG_DG000005</td>\n",
       "    </tr>\n",
       "    <tr>\n",
       "      <th>...</th>\n",
       "      <td>...</td>\n",
       "      <td>...</td>\n",
       "    </tr>\n",
       "    <tr>\n",
       "      <th>220850</th>\n",
       "      <td>9999342</td>\n",
       "      <td>BMG_DG220851</td>\n",
       "    </tr>\n",
       "    <tr>\n",
       "      <th>220851</th>\n",
       "      <td>9999516</td>\n",
       "      <td>BMG_DG220852</td>\n",
       "    </tr>\n",
       "    <tr>\n",
       "      <th>220852</th>\n",
       "      <td>9999932</td>\n",
       "      <td>BMG_DG220853</td>\n",
       "    </tr>\n",
       "    <tr>\n",
       "      <th>220853</th>\n",
       "      <td>9999996</td>\n",
       "      <td>BMG_DG220854</td>\n",
       "    </tr>\n",
       "    <tr>\n",
       "      <th>220854</th>\n",
       "      <td>9999997</td>\n",
       "      <td>BMG_DG220855</td>\n",
       "    </tr>\n",
       "  </tbody>\n",
       "</table>\n",
       "<p>220855 rows × 2 columns</p>\n",
       "</div>"
      ],
      "text/plain": [
       "       PubChem_CID BioMedGraphica_ID\n",
       "0                1      BMG_DG000001\n",
       "1             1000      BMG_DG000002\n",
       "2            10000      BMG_DG000003\n",
       "3           100001      BMG_DG000004\n",
       "4         10000220      BMG_DG000005\n",
       "...            ...               ...\n",
       "220850     9999342      BMG_DG220851\n",
       "220851     9999516      BMG_DG220852\n",
       "220852     9999932      BMG_DG220853\n",
       "220853     9999996      BMG_DG220854\n",
       "220854     9999997      BMG_DG220855\n",
       "\n",
       "[220855 rows x 2 columns]"
      ]
     },
     "execution_count": 5,
     "metadata": {},
     "output_type": "execute_result"
    }
   ],
   "source": [
    "cid_individual = biomedgraphica_drug[['PubChem_CID', 'BioMedGraphica_ID']]\n",
    "cid_individual = cid_individual.dropna(subset=['PubChem_CID'])\n",
    "cid_individual['PubChem_CID'] = cid_individual['PubChem_CID'].str.split(';')\n",
    "cid_individual = cid_individual.explode('PubChem_CID')\n",
    "cid_individual = cid_individual.drop_duplicates()\n",
    "cid_individual"
   ]
  },
  {
   "cell_type": "code",
   "execution_count": 6,
   "metadata": {},
   "outputs": [
    {
     "data": {
      "application/vnd.microsoft.datawrangler.viewer.v0+json": {
       "columns": [
        {
         "name": "index",
         "rawType": "int64",
         "type": "integer"
        },
        {
         "name": "STITCH_STEREO",
         "rawType": "object",
         "type": "string"
        },
        {
         "name": "UMLS_CONCEPT_ID_MEDDRA",
         "rawType": "object",
         "type": "string"
        },
        {
         "name": "From_ID",
         "rawType": "object",
         "type": "unknown"
        }
       ],
       "conversionMethod": "pd.DataFrame",
       "ref": "ad1e281d-b7d1-4b9b-9e5d-73ad7b9de9fd",
       "rows": [
        [
         "1",
         "10917",
         "C0000737",
         "BMG_DG007978"
        ],
        [
         "3",
         "10917",
         "C0687713",
         "BMG_DG007978"
        ],
        [
         "6",
         "10917",
         "C0002418",
         "BMG_DG007978"
        ],
        [
         "8",
         "10917",
         "C0002871",
         "BMG_DG007978"
        ],
        [
         "10",
         "10917",
         "C0232462",
         "BMG_DG007978"
        ],
        [
         "12",
         "10917",
         "C0003467",
         "BMG_DG007978"
        ],
        [
         "14",
         "10917",
         "C0003811",
         "BMG_DG007978"
        ],
        [
         "16",
         "10917",
         "C0004093",
         "BMG_DG007978"
        ],
        [
         "18",
         "10917",
         "C0004238",
         "BMG_DG007978"
        ],
        [
         "20",
         "10917",
         "C0004604",
         "BMG_DG007978"
        ],
        [
         "22",
         "10917",
         "C0006277",
         "BMG_DG007978"
        ],
        [
         "24",
         "10917",
         "C0007222",
         "BMG_DG007978"
        ],
        [
         "26",
         "10917",
         "C0008031",
         "BMG_DG007978"
        ],
        [
         "28",
         "10917",
         "C0009450",
         "BMG_DG007978"
        ],
        [
         "30",
         "10917",
         "C0009806",
         "BMG_DG007978"
        ],
        [
         "32",
         "10917",
         "C0010200",
         "BMG_DG007978"
        ],
        [
         "34",
         "10917",
         "C0011570",
         "BMG_DG007978"
        ],
        [
         "36",
         "10917",
         "C0011991",
         "BMG_DG007978"
        ],
        [
         "38",
         "10917",
         "C0012833",
         "BMG_DG007978"
        ],
        [
         "40",
         "10917",
         "C0013378",
         "BMG_DG007978"
        ],
        [
         "42",
         "10917",
         "C0013395",
         "BMG_DG007978"
        ],
        [
         "44",
         "10917",
         "C0013404",
         "BMG_DG007978"
        ],
        [
         "46",
         "10917",
         "C0015230",
         "BMG_DG007978"
        ],
        [
         "47",
         "10917",
         "C0011603",
         "BMG_DG007978"
        ],
        [
         "49",
         "10917",
         "C0015397",
         "BMG_DG007978"
        ],
        [
         "51",
         "10917",
         "C0015967",
         "BMG_DG007978"
        ],
        [
         "53",
         "10917",
         "C0017152",
         "BMG_DG007978"
        ],
        [
         "55",
         "10917",
         "C0017178",
         "BMG_DG007978"
        ],
        [
         "57",
         "10917",
         "C0018681",
         "BMG_DG007978"
        ],
        [
         "59",
         "10917",
         "C0019080",
         "BMG_DG007978"
        ],
        [
         "60",
         "10917",
         "C0518015",
         "BMG_DG007978"
        ],
        [
         "62",
         "10917",
         "C0020437",
         "BMG_DG007978"
        ],
        [
         "64",
         "10917",
         "C0020461",
         "BMG_DG007978"
        ],
        [
         "66",
         "10917",
         "C0020517",
         "BMG_DG007978"
        ],
        [
         "68",
         "10917",
         "C0020538",
         "BMG_DG007978"
        ],
        [
         "70",
         "10917",
         "C0020649",
         "BMG_DG007978"
        ],
        [
         "72",
         "10917",
         "C0021400",
         "BMG_DG007978"
        ],
        [
         "74",
         "10917",
         "C0037763",
         "BMG_DG007978"
        ],
        [
         "76",
         "10917",
         "C0025222",
         "BMG_DG007978"
        ],
        [
         "78",
         "10917",
         "C0026826",
         "BMG_DG007978"
        ],
        [
         "80",
         "10917",
         "C0027497",
         "BMG_DG007978"
        ],
        [
         "82",
         "10917",
         "C0030193",
         "BMG_DG007978"
        ],
        [
         "84",
         "10917",
         "C0030252",
         "BMG_DG007978"
        ],
        [
         "86",
         "10917",
         "C0030517",
         "BMG_DG007978"
        ],
        [
         "88",
         "10917",
         "C0030554",
         "BMG_DG007978"
        ],
        [
         "90",
         "10917",
         "C0031350",
         "BMG_DG007978"
        ],
        [
         "92",
         "10917",
         "C0033774",
         "BMG_DG007978"
        ],
        [
         "94",
         "10917",
         "C0035078",
         "BMG_DG007978"
        ],
        [
         "96",
         "10917",
         "C0035455",
         "BMG_DG007978"
        ],
        [
         "98",
         "10917",
         "C0036572",
         "BMG_DG007978"
        ]
       ],
       "shape": {
        "columns": 3,
        "rows": 152759
       }
      },
      "text/html": [
       "<div>\n",
       "<style scoped>\n",
       "    .dataframe tbody tr th:only-of-type {\n",
       "        vertical-align: middle;\n",
       "    }\n",
       "\n",
       "    .dataframe tbody tr th {\n",
       "        vertical-align: top;\n",
       "    }\n",
       "\n",
       "    .dataframe thead th {\n",
       "        text-align: right;\n",
       "    }\n",
       "</style>\n",
       "<table border=\"1\" class=\"dataframe\">\n",
       "  <thead>\n",
       "    <tr style=\"text-align: right;\">\n",
       "      <th></th>\n",
       "      <th>STITCH_STEREO</th>\n",
       "      <th>UMLS_CONCEPT_ID_MEDDRA</th>\n",
       "      <th>From_ID</th>\n",
       "    </tr>\n",
       "  </thead>\n",
       "  <tbody>\n",
       "    <tr>\n",
       "      <th>1</th>\n",
       "      <td>10917</td>\n",
       "      <td>C0000737</td>\n",
       "      <td>BMG_DG007978</td>\n",
       "    </tr>\n",
       "    <tr>\n",
       "      <th>3</th>\n",
       "      <td>10917</td>\n",
       "      <td>C0687713</td>\n",
       "      <td>BMG_DG007978</td>\n",
       "    </tr>\n",
       "    <tr>\n",
       "      <th>6</th>\n",
       "      <td>10917</td>\n",
       "      <td>C0002418</td>\n",
       "      <td>BMG_DG007978</td>\n",
       "    </tr>\n",
       "    <tr>\n",
       "      <th>8</th>\n",
       "      <td>10917</td>\n",
       "      <td>C0002871</td>\n",
       "      <td>BMG_DG007978</td>\n",
       "    </tr>\n",
       "    <tr>\n",
       "      <th>10</th>\n",
       "      <td>10917</td>\n",
       "      <td>C0232462</td>\n",
       "      <td>BMG_DG007978</td>\n",
       "    </tr>\n",
       "    <tr>\n",
       "      <th>...</th>\n",
       "      <td>...</td>\n",
       "      <td>...</td>\n",
       "      <td>...</td>\n",
       "    </tr>\n",
       "    <tr>\n",
       "      <th>309836</th>\n",
       "      <td>71306834</td>\n",
       "      <td>C2364111</td>\n",
       "      <td>BMG_DG186618</td>\n",
       "    </tr>\n",
       "    <tr>\n",
       "      <th>309838</th>\n",
       "      <td>71306834</td>\n",
       "      <td>C2830004</td>\n",
       "      <td>BMG_DG186618</td>\n",
       "    </tr>\n",
       "    <tr>\n",
       "      <th>309840</th>\n",
       "      <td>71306834</td>\n",
       "      <td>C2979982</td>\n",
       "      <td>BMG_DG186618</td>\n",
       "    </tr>\n",
       "    <tr>\n",
       "      <th>309843</th>\n",
       "      <td>71306834</td>\n",
       "      <td>C3203358</td>\n",
       "      <td>BMG_DG186618</td>\n",
       "    </tr>\n",
       "    <tr>\n",
       "      <th>309848</th>\n",
       "      <td>71306834</td>\n",
       "      <td>C0347390</td>\n",
       "      <td>BMG_DG186618</td>\n",
       "    </tr>\n",
       "  </tbody>\n",
       "</table>\n",
       "<p>152759 rows × 3 columns</p>\n",
       "</div>"
      ],
      "text/plain": [
       "       STITCH_STEREO UMLS_CONCEPT_ID_MEDDRA       From_ID\n",
       "1              10917               C0000737  BMG_DG007978\n",
       "3              10917               C0687713  BMG_DG007978\n",
       "6              10917               C0002418  BMG_DG007978\n",
       "8              10917               C0002871  BMG_DG007978\n",
       "10             10917               C0232462  BMG_DG007978\n",
       "...              ...                    ...           ...\n",
       "309836      71306834               C2364111  BMG_DG186618\n",
       "309838      71306834               C2830004  BMG_DG186618\n",
       "309840      71306834               C2979982  BMG_DG186618\n",
       "309843      71306834               C3203358  BMG_DG186618\n",
       "309848      71306834               C0347390  BMG_DG186618\n",
       "\n",
       "[152759 rows x 3 columns]"
      ]
     },
     "execution_count": 6,
     "metadata": {},
     "output_type": "execute_result"
    }
   ],
   "source": [
    "df_sider['STITCH_STEREO'] = df_sider['STITCH_STEREO'].apply(lambda x: x.lstrip('0'))\n",
    "cid_to_individual = cid_individual.groupby('PubChem_CID')['BioMedGraphica_ID'].apply(lambda x: ';'.join(x.dropna().unique())).to_dict()\n",
    "\n",
    "df_sider['From_ID'] = df_sider['STITCH_STEREO'].map(cid_to_individual)\n",
    "df_sider"
   ]
  },
  {
   "cell_type": "code",
   "execution_count": 7,
   "metadata": {},
   "outputs": [
    {
     "data": {
      "application/vnd.microsoft.datawrangler.viewer.v0+json": {
       "columns": [
        {
         "name": "index",
         "rawType": "int64",
         "type": "integer"
        },
        {
         "name": "STITCH_STEREO",
         "rawType": "object",
         "type": "string"
        },
        {
         "name": "UMLS_CONCEPT_ID_MEDDRA",
         "rawType": "object",
         "type": "string"
        },
        {
         "name": "From_ID",
         "rawType": "object",
         "type": "unknown"
        },
        {
         "name": "To_ID",
         "rawType": "object",
         "type": "unknown"
        }
       ],
       "conversionMethod": "pd.DataFrame",
       "ref": "8fb1f62f-80db-4b9c-9d9e-6e4e45cc2c07",
       "rows": [
        [
         "1",
         "10917",
         "C0000737",
         "BMG_DG007978",
         "BMG_PH01524"
        ],
        [
         "3",
         "10917",
         "C0687713",
         "BMG_DG007978",
         null
        ],
        [
         "6",
         "10917",
         "C0002418",
         "BMG_DG007978",
         "BMG_PH00510"
        ],
        [
         "8",
         "10917",
         "C0002871",
         "BMG_DG007978",
         "BMG_PH01423"
        ],
        [
         "10",
         "10917",
         "C0232462",
         "BMG_DG007978",
         "BMG_PH03188"
        ],
        [
         "12",
         "10917",
         "C0003467",
         "BMG_DG007978",
         "BMG_PH00585"
        ],
        [
         "14",
         "10917",
         "C0003811",
         "BMG_DG007978",
         "BMG_PH08332"
        ],
        [
         "16",
         "10917",
         "C0004093",
         "BMG_DG007978",
         "BMG_PH10175"
        ],
        [
         "18",
         "10917",
         "C0004238",
         "BMG_DG007978",
         "BMG_PH03585"
        ],
        [
         "20",
         "10917",
         "C0004604",
         "BMG_DG007978",
         "BMG_PH02533"
        ],
        [
         "22",
         "10917",
         "C0006277",
         "BMG_DG007978",
         "BMG_PH09039"
        ],
        [
         "24",
         "10917",
         "C0007222",
         "BMG_DG007978",
         "BMG_PH01215"
        ],
        [
         "26",
         "10917",
         "C0008031",
         "BMG_DG007978",
         "BMG_PH16757"
        ],
        [
         "28",
         "10917",
         "C0009450",
         "BMG_DG007978",
         null
        ],
        [
         "30",
         "10917",
         "C0009806",
         "BMG_DG007978",
         "BMG_PH01518"
        ],
        [
         "32",
         "10917",
         "C0010200",
         "BMG_DG007978",
         "BMG_PH09386"
        ],
        [
         "34",
         "10917",
         "C0011570",
         "BMG_DG007978",
         null
        ],
        [
         "36",
         "10917",
         "C0011991",
         "BMG_DG007978",
         "BMG_PH01514"
        ],
        [
         "38",
         "10917",
         "C0012833",
         "BMG_DG007978",
         "BMG_PH01748"
        ],
        [
         "40",
         "10917",
         "C0013378",
         "BMG_DG007978",
         "BMG_PH11747"
        ],
        [
         "42",
         "10917",
         "C0013395",
         "BMG_DG007978",
         "BMG_PH17269"
        ],
        [
         "44",
         "10917",
         "C0013404",
         "BMG_DG007978",
         "BMG_PH01582;BMG_PH01584"
        ],
        [
         "46",
         "10917",
         "C0015230",
         "BMG_DG007978",
         "BMG_PH00782"
        ],
        [
         "47",
         "10917",
         "C0011603",
         "BMG_DG007978",
         "BMG_PH07783"
        ],
        [
         "49",
         "10917",
         "C0015397",
         "BMG_DG007978",
         "BMG_PH00365"
        ],
        [
         "51",
         "10917",
         "C0015967",
         "BMG_DG007978",
         "BMG_PH01453"
        ],
        [
         "53",
         "10917",
         "C0017152",
         "BMG_DG007978",
         "BMG_PH03697"
        ],
        [
         "55",
         "10917",
         "C0017178",
         "BMG_DG007978",
         "BMG_PH07686"
        ],
        [
         "57",
         "10917",
         "C0018681",
         "BMG_DG007978",
         "BMG_PH01745"
        ],
        [
         "59",
         "10917",
         "C0019080",
         "BMG_DG007978",
         null
        ],
        [
         "60",
         "10917",
         "C0518015",
         "BMG_DG007978",
         null
        ],
        [
         "62",
         "10917",
         "C0020437",
         "BMG_DG007978",
         "BMG_PH02272"
        ],
        [
         "64",
         "10917",
         "C0020461",
         "BMG_DG007978",
         "BMG_PH01623"
        ],
        [
         "66",
         "10917",
         "C0020517",
         "BMG_DG007978",
         null
        ],
        [
         "68",
         "10917",
         "C0020538",
         "BMG_DG007978",
         "BMG_PH00649"
        ],
        [
         "70",
         "10917",
         "C0020649",
         "BMG_DG007978",
         "BMG_PH01942"
        ],
        [
         "72",
         "10917",
         "C0021400",
         "BMG_DG007978",
         null
        ],
        [
         "74",
         "10917",
         "C0037763",
         "BMG_DG007978",
         "BMG_PH01849"
        ],
        [
         "76",
         "10917",
         "C0025222",
         "BMG_DG007978",
         "BMG_PH01702"
        ],
        [
         "78",
         "10917",
         "C0026826",
         "BMG_DG007978",
         "BMG_PH00992"
        ],
        [
         "80",
         "10917",
         "C0027497",
         "BMG_DG007978",
         "BMG_PH01517"
        ],
        [
         "82",
         "10917",
         "C0030193",
         "BMG_DG007978",
         "BMG_PH09182"
        ],
        [
         "84",
         "10917",
         "C0030252",
         "BMG_DG007978",
         "BMG_PH01469"
        ],
        [
         "86",
         "10917",
         "C0030517",
         "BMG_DG007978",
         "BMG_PH00654"
        ],
        [
         "88",
         "10917",
         "C0030554",
         "BMG_DG007978",
         "BMG_PH02522"
        ],
        [
         "90",
         "10917",
         "C0031350",
         "BMG_DG007978",
         "BMG_PH10205"
        ],
        [
         "92",
         "10917",
         "C0033774",
         "BMG_DG007978",
         "BMG_PH00783"
        ],
        [
         "94",
         "10917",
         "C0035078",
         "BMG_DG007978",
         "BMG_PH00077"
        ],
        [
         "96",
         "10917",
         "C0035455",
         "BMG_DG007978",
         "BMG_PH09036"
        ],
        [
         "98",
         "10917",
         "C0036572",
         "BMG_DG007978",
         "BMG_PH00971"
        ]
       ],
       "shape": {
        "columns": 4,
        "rows": 152759
       }
      },
      "text/html": [
       "<div>\n",
       "<style scoped>\n",
       "    .dataframe tbody tr th:only-of-type {\n",
       "        vertical-align: middle;\n",
       "    }\n",
       "\n",
       "    .dataframe tbody tr th {\n",
       "        vertical-align: top;\n",
       "    }\n",
       "\n",
       "    .dataframe thead th {\n",
       "        text-align: right;\n",
       "    }\n",
       "</style>\n",
       "<table border=\"1\" class=\"dataframe\">\n",
       "  <thead>\n",
       "    <tr style=\"text-align: right;\">\n",
       "      <th></th>\n",
       "      <th>STITCH_STEREO</th>\n",
       "      <th>UMLS_CONCEPT_ID_MEDDRA</th>\n",
       "      <th>From_ID</th>\n",
       "      <th>To_ID</th>\n",
       "    </tr>\n",
       "  </thead>\n",
       "  <tbody>\n",
       "    <tr>\n",
       "      <th>1</th>\n",
       "      <td>10917</td>\n",
       "      <td>C0000737</td>\n",
       "      <td>BMG_DG007978</td>\n",
       "      <td>BMG_PH01524</td>\n",
       "    </tr>\n",
       "    <tr>\n",
       "      <th>3</th>\n",
       "      <td>10917</td>\n",
       "      <td>C0687713</td>\n",
       "      <td>BMG_DG007978</td>\n",
       "      <td>NaN</td>\n",
       "    </tr>\n",
       "    <tr>\n",
       "      <th>6</th>\n",
       "      <td>10917</td>\n",
       "      <td>C0002418</td>\n",
       "      <td>BMG_DG007978</td>\n",
       "      <td>BMG_PH00510</td>\n",
       "    </tr>\n",
       "    <tr>\n",
       "      <th>8</th>\n",
       "      <td>10917</td>\n",
       "      <td>C0002871</td>\n",
       "      <td>BMG_DG007978</td>\n",
       "      <td>BMG_PH01423</td>\n",
       "    </tr>\n",
       "    <tr>\n",
       "      <th>10</th>\n",
       "      <td>10917</td>\n",
       "      <td>C0232462</td>\n",
       "      <td>BMG_DG007978</td>\n",
       "      <td>BMG_PH03188</td>\n",
       "    </tr>\n",
       "    <tr>\n",
       "      <th>...</th>\n",
       "      <td>...</td>\n",
       "      <td>...</td>\n",
       "      <td>...</td>\n",
       "      <td>...</td>\n",
       "    </tr>\n",
       "    <tr>\n",
       "      <th>309836</th>\n",
       "      <td>71306834</td>\n",
       "      <td>C2364111</td>\n",
       "      <td>BMG_DG186618</td>\n",
       "      <td>BMG_PH15825</td>\n",
       "    </tr>\n",
       "    <tr>\n",
       "      <th>309838</th>\n",
       "      <td>71306834</td>\n",
       "      <td>C2830004</td>\n",
       "      <td>BMG_DG186618</td>\n",
       "      <td>BMG_PH00980</td>\n",
       "    </tr>\n",
       "    <tr>\n",
       "      <th>309840</th>\n",
       "      <td>71306834</td>\n",
       "      <td>C2979982</td>\n",
       "      <td>BMG_DG186618</td>\n",
       "      <td>NaN</td>\n",
       "    </tr>\n",
       "    <tr>\n",
       "      <th>309843</th>\n",
       "      <td>71306834</td>\n",
       "      <td>C3203358</td>\n",
       "      <td>BMG_DG186618</td>\n",
       "      <td>BMG_PH02077</td>\n",
       "    </tr>\n",
       "    <tr>\n",
       "      <th>309848</th>\n",
       "      <td>71306834</td>\n",
       "      <td>C0347390</td>\n",
       "      <td>BMG_DG186618</td>\n",
       "      <td>NaN</td>\n",
       "    </tr>\n",
       "  </tbody>\n",
       "</table>\n",
       "<p>152759 rows × 4 columns</p>\n",
       "</div>"
      ],
      "text/plain": [
       "       STITCH_STEREO UMLS_CONCEPT_ID_MEDDRA       From_ID        To_ID\n",
       "1              10917               C0000737  BMG_DG007978  BMG_PH01524\n",
       "3              10917               C0687713  BMG_DG007978          NaN\n",
       "6              10917               C0002418  BMG_DG007978  BMG_PH00510\n",
       "8              10917               C0002871  BMG_DG007978  BMG_PH01423\n",
       "10             10917               C0232462  BMG_DG007978  BMG_PH03188\n",
       "...              ...                    ...           ...          ...\n",
       "309836      71306834               C2364111  BMG_DG186618  BMG_PH15825\n",
       "309838      71306834               C2830004  BMG_DG186618  BMG_PH00980\n",
       "309840      71306834               C2979982  BMG_DG186618          NaN\n",
       "309843      71306834               C3203358  BMG_DG186618  BMG_PH02077\n",
       "309848      71306834               C0347390  BMG_DG186618          NaN\n",
       "\n",
       "[152759 rows x 4 columns]"
      ]
     },
     "execution_count": 7,
     "metadata": {},
     "output_type": "execute_result"
    }
   ],
   "source": [
    "umls_individual = biomedgraphica_phenotype[['UMLS_ID', 'BioMedGraphica_ID']]\n",
    "umls_individual = umls_individual.dropna(subset=['UMLS_ID'])\n",
    "umls_individual['UMLS_ID'] = umls_individual['UMLS_ID'].str.split(';')\n",
    "umls_individual = umls_individual.explode('UMLS_ID')\n",
    "umls_individual = umls_individual.drop_duplicates()\n",
    "\n",
    "umls_to_individual = umls_individual.groupby('UMLS_ID')['BioMedGraphica_ID'].apply(lambda x: ';'.join(x.dropna().unique())).to_dict()\n",
    "df_sider['To_ID'] = df_sider['UMLS_CONCEPT_ID_MEDDRA'].map(umls_to_individual)\n",
    "df_sider"
   ]
  },
  {
   "cell_type": "code",
   "execution_count": 8,
   "metadata": {},
   "outputs": [
    {
     "name": "stdout",
     "output_type": "stream",
     "text": [
      "<class 'pandas.core.frame.DataFrame'>\n",
      "Index: 91692 entries, 1 to 309843\n",
      "Data columns (total 2 columns):\n",
      " #   Column   Non-Null Count  Dtype \n",
      "---  ------   --------------  ----- \n",
      " 0   From_ID  91692 non-null  object\n",
      " 1   To_ID    91692 non-null  object\n",
      "dtypes: object(2)\n",
      "memory usage: 2.1+ MB\n"
     ]
    }
   ],
   "source": [
    "sider_drug_phenotype = df_sider[['From_ID', 'To_ID']]\n",
    "\n",
    "sider_drug_phenotype = sider_drug_phenotype.dropna(subset=['From_ID'])\n",
    "sider_drug_phenotype = sider_drug_phenotype.dropna(subset=['To_ID'])\n",
    "sider_drug_phenotype.info()"
   ]
  },
  {
   "cell_type": "code",
   "execution_count": 9,
   "metadata": {},
   "outputs": [
    {
     "data": {
      "application/vnd.microsoft.datawrangler.viewer.v0+json": {
       "columns": [
        {
         "name": "index",
         "rawType": "int64",
         "type": "integer"
        },
        {
         "name": "From_ID",
         "rawType": "object",
         "type": "string"
        },
        {
         "name": "To_ID",
         "rawType": "object",
         "type": "string"
        }
       ],
       "conversionMethod": "pd.DataFrame",
       "ref": "7dcaba9c-61fb-416b-b9a7-a0b97787422a",
       "rows": [
        [
         "1",
         "BMG_DG007978",
         "BMG_PH01524"
        ],
        [
         "6",
         "BMG_DG007978",
         "BMG_PH00510"
        ],
        [
         "8",
         "BMG_DG007978",
         "BMG_PH01423"
        ],
        [
         "10",
         "BMG_DG007978",
         "BMG_PH03188"
        ],
        [
         "12",
         "BMG_DG007978",
         "BMG_PH00585"
        ],
        [
         "14",
         "BMG_DG007978",
         "BMG_PH08332"
        ],
        [
         "16",
         "BMG_DG007978",
         "BMG_PH10175"
        ],
        [
         "18",
         "BMG_DG007978",
         "BMG_PH03585"
        ],
        [
         "20",
         "BMG_DG007978",
         "BMG_PH02533"
        ],
        [
         "22",
         "BMG_DG007978",
         "BMG_PH09039"
        ],
        [
         "24",
         "BMG_DG007978",
         "BMG_PH01215"
        ],
        [
         "26",
         "BMG_DG007978",
         "BMG_PH16757"
        ],
        [
         "30",
         "BMG_DG007978",
         "BMG_PH01518"
        ],
        [
         "32",
         "BMG_DG007978",
         "BMG_PH09386"
        ],
        [
         "36",
         "BMG_DG007978",
         "BMG_PH01514"
        ],
        [
         "38",
         "BMG_DG007978",
         "BMG_PH01748"
        ],
        [
         "40",
         "BMG_DG007978",
         "BMG_PH11747"
        ],
        [
         "42",
         "BMG_DG007978",
         "BMG_PH17269"
        ],
        [
         "44",
         "BMG_DG007978",
         "BMG_PH01582"
        ],
        [
         "44",
         "BMG_DG007978",
         "BMG_PH01584"
        ],
        [
         "46",
         "BMG_DG007978",
         "BMG_PH00782"
        ],
        [
         "47",
         "BMG_DG007978",
         "BMG_PH07783"
        ],
        [
         "49",
         "BMG_DG007978",
         "BMG_PH00365"
        ],
        [
         "51",
         "BMG_DG007978",
         "BMG_PH01453"
        ],
        [
         "53",
         "BMG_DG007978",
         "BMG_PH03697"
        ],
        [
         "55",
         "BMG_DG007978",
         "BMG_PH07686"
        ],
        [
         "57",
         "BMG_DG007978",
         "BMG_PH01745"
        ],
        [
         "62",
         "BMG_DG007978",
         "BMG_PH02272"
        ],
        [
         "64",
         "BMG_DG007978",
         "BMG_PH01623"
        ],
        [
         "68",
         "BMG_DG007978",
         "BMG_PH00649"
        ],
        [
         "70",
         "BMG_DG007978",
         "BMG_PH01942"
        ],
        [
         "74",
         "BMG_DG007978",
         "BMG_PH01849"
        ],
        [
         "76",
         "BMG_DG007978",
         "BMG_PH01702"
        ],
        [
         "78",
         "BMG_DG007978",
         "BMG_PH00992"
        ],
        [
         "80",
         "BMG_DG007978",
         "BMG_PH01517"
        ],
        [
         "82",
         "BMG_DG007978",
         "BMG_PH09182"
        ],
        [
         "84",
         "BMG_DG007978",
         "BMG_PH01469"
        ],
        [
         "86",
         "BMG_DG007978",
         "BMG_PH00654"
        ],
        [
         "88",
         "BMG_DG007978",
         "BMG_PH02522"
        ],
        [
         "90",
         "BMG_DG007978",
         "BMG_PH10205"
        ],
        [
         "92",
         "BMG_DG007978",
         "BMG_PH00783"
        ],
        [
         "94",
         "BMG_DG007978",
         "BMG_PH00077"
        ],
        [
         "96",
         "BMG_DG007978",
         "BMG_PH09036"
        ],
        [
         "98",
         "BMG_DG007978",
         "BMG_PH00971"
        ],
        [
         "100",
         "BMG_DG007978",
         "BMG_PH00208"
        ],
        [
         "102",
         "BMG_DG007978",
         "BMG_PH01235"
        ],
        [
         "110",
         "BMG_DG007978",
         "BMG_PH01513"
        ],
        [
         "112",
         "BMG_DG007978",
         "BMG_PH03122"
        ],
        [
         "118",
         "BMG_DG007978",
         "BMG_PH09050"
        ],
        [
         "125",
         "BMG_DG007978",
         "BMG_PH01913"
        ]
       ],
       "shape": {
        "columns": 2,
        "rows": 93826
       }
      },
      "text/html": [
       "<div>\n",
       "<style scoped>\n",
       "    .dataframe tbody tr th:only-of-type {\n",
       "        vertical-align: middle;\n",
       "    }\n",
       "\n",
       "    .dataframe tbody tr th {\n",
       "        vertical-align: top;\n",
       "    }\n",
       "\n",
       "    .dataframe thead th {\n",
       "        text-align: right;\n",
       "    }\n",
       "</style>\n",
       "<table border=\"1\" class=\"dataframe\">\n",
       "  <thead>\n",
       "    <tr style=\"text-align: right;\">\n",
       "      <th></th>\n",
       "      <th>From_ID</th>\n",
       "      <th>To_ID</th>\n",
       "    </tr>\n",
       "  </thead>\n",
       "  <tbody>\n",
       "    <tr>\n",
       "      <th>1</th>\n",
       "      <td>BMG_DG007978</td>\n",
       "      <td>BMG_PH01524</td>\n",
       "    </tr>\n",
       "    <tr>\n",
       "      <th>6</th>\n",
       "      <td>BMG_DG007978</td>\n",
       "      <td>BMG_PH00510</td>\n",
       "    </tr>\n",
       "    <tr>\n",
       "      <th>8</th>\n",
       "      <td>BMG_DG007978</td>\n",
       "      <td>BMG_PH01423</td>\n",
       "    </tr>\n",
       "    <tr>\n",
       "      <th>10</th>\n",
       "      <td>BMG_DG007978</td>\n",
       "      <td>BMG_PH03188</td>\n",
       "    </tr>\n",
       "    <tr>\n",
       "      <th>12</th>\n",
       "      <td>BMG_DG007978</td>\n",
       "      <td>BMG_PH00585</td>\n",
       "    </tr>\n",
       "    <tr>\n",
       "      <th>...</th>\n",
       "      <td>...</td>\n",
       "      <td>...</td>\n",
       "    </tr>\n",
       "    <tr>\n",
       "      <th>309823</th>\n",
       "      <td>BMG_DG186618</td>\n",
       "      <td>BMG_PH01210</td>\n",
       "    </tr>\n",
       "    <tr>\n",
       "      <th>309832</th>\n",
       "      <td>BMG_DG186618</td>\n",
       "      <td>BMG_PH01256</td>\n",
       "    </tr>\n",
       "    <tr>\n",
       "      <th>309836</th>\n",
       "      <td>BMG_DG186618</td>\n",
       "      <td>BMG_PH15825</td>\n",
       "    </tr>\n",
       "    <tr>\n",
       "      <th>309838</th>\n",
       "      <td>BMG_DG186618</td>\n",
       "      <td>BMG_PH00980</td>\n",
       "    </tr>\n",
       "    <tr>\n",
       "      <th>309843</th>\n",
       "      <td>BMG_DG186618</td>\n",
       "      <td>BMG_PH02077</td>\n",
       "    </tr>\n",
       "  </tbody>\n",
       "</table>\n",
       "<p>93826 rows × 2 columns</p>\n",
       "</div>"
      ],
      "text/plain": [
       "             From_ID        To_ID\n",
       "1       BMG_DG007978  BMG_PH01524\n",
       "6       BMG_DG007978  BMG_PH00510\n",
       "8       BMG_DG007978  BMG_PH01423\n",
       "10      BMG_DG007978  BMG_PH03188\n",
       "12      BMG_DG007978  BMG_PH00585\n",
       "...              ...          ...\n",
       "309823  BMG_DG186618  BMG_PH01210\n",
       "309832  BMG_DG186618  BMG_PH01256\n",
       "309836  BMG_DG186618  BMG_PH15825\n",
       "309838  BMG_DG186618  BMG_PH00980\n",
       "309843  BMG_DG186618  BMG_PH02077\n",
       "\n",
       "[93826 rows x 2 columns]"
      ]
     },
     "execution_count": 9,
     "metadata": {},
     "output_type": "execute_result"
    }
   ],
   "source": [
    "sider_drug_phenotype['From_ID'] = sider_drug_phenotype['From_ID'].str.split(';')\n",
    "sider_drug_phenotype = sider_drug_phenotype.explode('From_ID')\n",
    "\n",
    "sider_drug_phenotype['To_ID'] = sider_drug_phenotype['To_ID'].str.split(';')\n",
    "sider_drug_phenotype = sider_drug_phenotype.explode('To_ID')\n",
    "\n",
    "sider_drug_phenotype = sider_drug_phenotype.drop_duplicates()\n",
    "sider_drug_phenotype"
   ]
  },
  {
   "cell_type": "markdown",
   "metadata": {},
   "source": [
    "### Drug-Phenotype Relation"
   ]
  },
  {
   "cell_type": "code",
   "execution_count": 10,
   "metadata": {},
   "outputs": [
    {
     "data": {
      "application/vnd.microsoft.datawrangler.viewer.v0+json": {
       "columns": [
        {
         "name": "index",
         "rawType": "int64",
         "type": "integer"
        },
        {
         "name": "BioMedGraphica_ID",
         "rawType": "object",
         "type": "string"
        },
        {
         "name": "From_ID",
         "rawType": "object",
         "type": "string"
        },
        {
         "name": "To_ID",
         "rawType": "object",
         "type": "string"
        },
        {
         "name": "Source",
         "rawType": "object",
         "type": "string"
        },
        {
         "name": "Type",
         "rawType": "object",
         "type": "string"
        }
       ],
       "conversionMethod": "pd.DataFrame",
       "ref": "fd58b06d-7c1d-42c3-819f-f13727d8eb22",
       "rows": [
        [
         "1",
         "BMG_ED_DGPH00001",
         "BMG_DG007978",
         "BMG_PH01524",
         "SIDER",
         "Drug-Phenotype"
        ],
        [
         "6",
         "BMG_ED_DGPH00002",
         "BMG_DG007978",
         "BMG_PH00510",
         "SIDER",
         "Drug-Phenotype"
        ],
        [
         "8",
         "BMG_ED_DGPH00003",
         "BMG_DG007978",
         "BMG_PH01423",
         "SIDER",
         "Drug-Phenotype"
        ],
        [
         "10",
         "BMG_ED_DGPH00004",
         "BMG_DG007978",
         "BMG_PH03188",
         "SIDER",
         "Drug-Phenotype"
        ],
        [
         "12",
         "BMG_ED_DGPH00005",
         "BMG_DG007978",
         "BMG_PH00585",
         "SIDER",
         "Drug-Phenotype"
        ],
        [
         "14",
         "BMG_ED_DGPH00006",
         "BMG_DG007978",
         "BMG_PH08332",
         "SIDER",
         "Drug-Phenotype"
        ],
        [
         "16",
         "BMG_ED_DGPH00007",
         "BMG_DG007978",
         "BMG_PH10175",
         "SIDER",
         "Drug-Phenotype"
        ],
        [
         "18",
         "BMG_ED_DGPH00008",
         "BMG_DG007978",
         "BMG_PH03585",
         "SIDER",
         "Drug-Phenotype"
        ],
        [
         "20",
         "BMG_ED_DGPH00009",
         "BMG_DG007978",
         "BMG_PH02533",
         "SIDER",
         "Drug-Phenotype"
        ],
        [
         "22",
         "BMG_ED_DGPH00010",
         "BMG_DG007978",
         "BMG_PH09039",
         "SIDER",
         "Drug-Phenotype"
        ],
        [
         "24",
         "BMG_ED_DGPH00011",
         "BMG_DG007978",
         "BMG_PH01215",
         "SIDER",
         "Drug-Phenotype"
        ],
        [
         "26",
         "BMG_ED_DGPH00012",
         "BMG_DG007978",
         "BMG_PH16757",
         "SIDER",
         "Drug-Phenotype"
        ],
        [
         "30",
         "BMG_ED_DGPH00013",
         "BMG_DG007978",
         "BMG_PH01518",
         "SIDER",
         "Drug-Phenotype"
        ],
        [
         "32",
         "BMG_ED_DGPH00014",
         "BMG_DG007978",
         "BMG_PH09386",
         "SIDER",
         "Drug-Phenotype"
        ],
        [
         "36",
         "BMG_ED_DGPH00015",
         "BMG_DG007978",
         "BMG_PH01514",
         "SIDER",
         "Drug-Phenotype"
        ],
        [
         "38",
         "BMG_ED_DGPH00016",
         "BMG_DG007978",
         "BMG_PH01748",
         "SIDER",
         "Drug-Phenotype"
        ],
        [
         "40",
         "BMG_ED_DGPH00017",
         "BMG_DG007978",
         "BMG_PH11747",
         "SIDER",
         "Drug-Phenotype"
        ],
        [
         "42",
         "BMG_ED_DGPH00018",
         "BMG_DG007978",
         "BMG_PH17269",
         "SIDER",
         "Drug-Phenotype"
        ],
        [
         "44",
         "BMG_ED_DGPH00019",
         "BMG_DG007978",
         "BMG_PH01582",
         "SIDER",
         "Drug-Phenotype"
        ],
        [
         "44",
         "BMG_ED_DGPH00020",
         "BMG_DG007978",
         "BMG_PH01584",
         "SIDER",
         "Drug-Phenotype"
        ],
        [
         "46",
         "BMG_ED_DGPH00021",
         "BMG_DG007978",
         "BMG_PH00782",
         "SIDER",
         "Drug-Phenotype"
        ],
        [
         "47",
         "BMG_ED_DGPH00022",
         "BMG_DG007978",
         "BMG_PH07783",
         "SIDER",
         "Drug-Phenotype"
        ],
        [
         "49",
         "BMG_ED_DGPH00023",
         "BMG_DG007978",
         "BMG_PH00365",
         "SIDER",
         "Drug-Phenotype"
        ],
        [
         "51",
         "BMG_ED_DGPH00024",
         "BMG_DG007978",
         "BMG_PH01453",
         "SIDER",
         "Drug-Phenotype"
        ],
        [
         "53",
         "BMG_ED_DGPH00025",
         "BMG_DG007978",
         "BMG_PH03697",
         "SIDER",
         "Drug-Phenotype"
        ],
        [
         "55",
         "BMG_ED_DGPH00026",
         "BMG_DG007978",
         "BMG_PH07686",
         "SIDER",
         "Drug-Phenotype"
        ],
        [
         "57",
         "BMG_ED_DGPH00027",
         "BMG_DG007978",
         "BMG_PH01745",
         "SIDER",
         "Drug-Phenotype"
        ],
        [
         "62",
         "BMG_ED_DGPH00028",
         "BMG_DG007978",
         "BMG_PH02272",
         "SIDER",
         "Drug-Phenotype"
        ],
        [
         "64",
         "BMG_ED_DGPH00029",
         "BMG_DG007978",
         "BMG_PH01623",
         "SIDER",
         "Drug-Phenotype"
        ],
        [
         "68",
         "BMG_ED_DGPH00030",
         "BMG_DG007978",
         "BMG_PH00649",
         "SIDER",
         "Drug-Phenotype"
        ],
        [
         "70",
         "BMG_ED_DGPH00031",
         "BMG_DG007978",
         "BMG_PH01942",
         "SIDER",
         "Drug-Phenotype"
        ],
        [
         "74",
         "BMG_ED_DGPH00032",
         "BMG_DG007978",
         "BMG_PH01849",
         "SIDER",
         "Drug-Phenotype"
        ],
        [
         "76",
         "BMG_ED_DGPH00033",
         "BMG_DG007978",
         "BMG_PH01702",
         "SIDER",
         "Drug-Phenotype"
        ],
        [
         "78",
         "BMG_ED_DGPH00034",
         "BMG_DG007978",
         "BMG_PH00992",
         "SIDER",
         "Drug-Phenotype"
        ],
        [
         "80",
         "BMG_ED_DGPH00035",
         "BMG_DG007978",
         "BMG_PH01517",
         "SIDER",
         "Drug-Phenotype"
        ],
        [
         "82",
         "BMG_ED_DGPH00036",
         "BMG_DG007978",
         "BMG_PH09182",
         "SIDER",
         "Drug-Phenotype"
        ],
        [
         "84",
         "BMG_ED_DGPH00037",
         "BMG_DG007978",
         "BMG_PH01469",
         "SIDER",
         "Drug-Phenotype"
        ],
        [
         "86",
         "BMG_ED_DGPH00038",
         "BMG_DG007978",
         "BMG_PH00654",
         "SIDER",
         "Drug-Phenotype"
        ],
        [
         "88",
         "BMG_ED_DGPH00039",
         "BMG_DG007978",
         "BMG_PH02522",
         "SIDER",
         "Drug-Phenotype"
        ],
        [
         "90",
         "BMG_ED_DGPH00040",
         "BMG_DG007978",
         "BMG_PH10205",
         "SIDER",
         "Drug-Phenotype"
        ],
        [
         "92",
         "BMG_ED_DGPH00041",
         "BMG_DG007978",
         "BMG_PH00783",
         "SIDER",
         "Drug-Phenotype"
        ],
        [
         "94",
         "BMG_ED_DGPH00042",
         "BMG_DG007978",
         "BMG_PH00077",
         "SIDER",
         "Drug-Phenotype"
        ],
        [
         "96",
         "BMG_ED_DGPH00043",
         "BMG_DG007978",
         "BMG_PH09036",
         "SIDER",
         "Drug-Phenotype"
        ],
        [
         "98",
         "BMG_ED_DGPH00044",
         "BMG_DG007978",
         "BMG_PH00971",
         "SIDER",
         "Drug-Phenotype"
        ],
        [
         "100",
         "BMG_ED_DGPH00045",
         "BMG_DG007978",
         "BMG_PH00208",
         "SIDER",
         "Drug-Phenotype"
        ],
        [
         "102",
         "BMG_ED_DGPH00046",
         "BMG_DG007978",
         "BMG_PH01235",
         "SIDER",
         "Drug-Phenotype"
        ],
        [
         "110",
         "BMG_ED_DGPH00047",
         "BMG_DG007978",
         "BMG_PH01513",
         "SIDER",
         "Drug-Phenotype"
        ],
        [
         "112",
         "BMG_ED_DGPH00048",
         "BMG_DG007978",
         "BMG_PH03122",
         "SIDER",
         "Drug-Phenotype"
        ],
        [
         "118",
         "BMG_ED_DGPH00049",
         "BMG_DG007978",
         "BMG_PH09050",
         "SIDER",
         "Drug-Phenotype"
        ],
        [
         "125",
         "BMG_ED_DGPH00050",
         "BMG_DG007978",
         "BMG_PH01913",
         "SIDER",
         "Drug-Phenotype"
        ]
       ],
       "shape": {
        "columns": 5,
        "rows": 93826
       }
      },
      "text/html": [
       "<div>\n",
       "<style scoped>\n",
       "    .dataframe tbody tr th:only-of-type {\n",
       "        vertical-align: middle;\n",
       "    }\n",
       "\n",
       "    .dataframe tbody tr th {\n",
       "        vertical-align: top;\n",
       "    }\n",
       "\n",
       "    .dataframe thead th {\n",
       "        text-align: right;\n",
       "    }\n",
       "</style>\n",
       "<table border=\"1\" class=\"dataframe\">\n",
       "  <thead>\n",
       "    <tr style=\"text-align: right;\">\n",
       "      <th></th>\n",
       "      <th>BioMedGraphica_ID</th>\n",
       "      <th>From_ID</th>\n",
       "      <th>To_ID</th>\n",
       "      <th>Source</th>\n",
       "      <th>Type</th>\n",
       "    </tr>\n",
       "  </thead>\n",
       "  <tbody>\n",
       "    <tr>\n",
       "      <th>1</th>\n",
       "      <td>BMG_ED_DGPH00001</td>\n",
       "      <td>BMG_DG007978</td>\n",
       "      <td>BMG_PH01524</td>\n",
       "      <td>SIDER</td>\n",
       "      <td>Drug-Phenotype</td>\n",
       "    </tr>\n",
       "    <tr>\n",
       "      <th>6</th>\n",
       "      <td>BMG_ED_DGPH00002</td>\n",
       "      <td>BMG_DG007978</td>\n",
       "      <td>BMG_PH00510</td>\n",
       "      <td>SIDER</td>\n",
       "      <td>Drug-Phenotype</td>\n",
       "    </tr>\n",
       "    <tr>\n",
       "      <th>8</th>\n",
       "      <td>BMG_ED_DGPH00003</td>\n",
       "      <td>BMG_DG007978</td>\n",
       "      <td>BMG_PH01423</td>\n",
       "      <td>SIDER</td>\n",
       "      <td>Drug-Phenotype</td>\n",
       "    </tr>\n",
       "    <tr>\n",
       "      <th>10</th>\n",
       "      <td>BMG_ED_DGPH00004</td>\n",
       "      <td>BMG_DG007978</td>\n",
       "      <td>BMG_PH03188</td>\n",
       "      <td>SIDER</td>\n",
       "      <td>Drug-Phenotype</td>\n",
       "    </tr>\n",
       "    <tr>\n",
       "      <th>12</th>\n",
       "      <td>BMG_ED_DGPH00005</td>\n",
       "      <td>BMG_DG007978</td>\n",
       "      <td>BMG_PH00585</td>\n",
       "      <td>SIDER</td>\n",
       "      <td>Drug-Phenotype</td>\n",
       "    </tr>\n",
       "    <tr>\n",
       "      <th>...</th>\n",
       "      <td>...</td>\n",
       "      <td>...</td>\n",
       "      <td>...</td>\n",
       "      <td>...</td>\n",
       "      <td>...</td>\n",
       "    </tr>\n",
       "    <tr>\n",
       "      <th>309823</th>\n",
       "      <td>BMG_ED_DGPH93822</td>\n",
       "      <td>BMG_DG186618</td>\n",
       "      <td>BMG_PH01210</td>\n",
       "      <td>SIDER</td>\n",
       "      <td>Drug-Phenotype</td>\n",
       "    </tr>\n",
       "    <tr>\n",
       "      <th>309832</th>\n",
       "      <td>BMG_ED_DGPH93823</td>\n",
       "      <td>BMG_DG186618</td>\n",
       "      <td>BMG_PH01256</td>\n",
       "      <td>SIDER</td>\n",
       "      <td>Drug-Phenotype</td>\n",
       "    </tr>\n",
       "    <tr>\n",
       "      <th>309836</th>\n",
       "      <td>BMG_ED_DGPH93824</td>\n",
       "      <td>BMG_DG186618</td>\n",
       "      <td>BMG_PH15825</td>\n",
       "      <td>SIDER</td>\n",
       "      <td>Drug-Phenotype</td>\n",
       "    </tr>\n",
       "    <tr>\n",
       "      <th>309838</th>\n",
       "      <td>BMG_ED_DGPH93825</td>\n",
       "      <td>BMG_DG186618</td>\n",
       "      <td>BMG_PH00980</td>\n",
       "      <td>SIDER</td>\n",
       "      <td>Drug-Phenotype</td>\n",
       "    </tr>\n",
       "    <tr>\n",
       "      <th>309843</th>\n",
       "      <td>BMG_ED_DGPH93826</td>\n",
       "      <td>BMG_DG186618</td>\n",
       "      <td>BMG_PH02077</td>\n",
       "      <td>SIDER</td>\n",
       "      <td>Drug-Phenotype</td>\n",
       "    </tr>\n",
       "  </tbody>\n",
       "</table>\n",
       "<p>93826 rows × 5 columns</p>\n",
       "</div>"
      ],
      "text/plain": [
       "       BioMedGraphica_ID       From_ID        To_ID Source            Type\n",
       "1       BMG_ED_DGPH00001  BMG_DG007978  BMG_PH01524  SIDER  Drug-Phenotype\n",
       "6       BMG_ED_DGPH00002  BMG_DG007978  BMG_PH00510  SIDER  Drug-Phenotype\n",
       "8       BMG_ED_DGPH00003  BMG_DG007978  BMG_PH01423  SIDER  Drug-Phenotype\n",
       "10      BMG_ED_DGPH00004  BMG_DG007978  BMG_PH03188  SIDER  Drug-Phenotype\n",
       "12      BMG_ED_DGPH00005  BMG_DG007978  BMG_PH00585  SIDER  Drug-Phenotype\n",
       "...                  ...           ...          ...    ...             ...\n",
       "309823  BMG_ED_DGPH93822  BMG_DG186618  BMG_PH01210  SIDER  Drug-Phenotype\n",
       "309832  BMG_ED_DGPH93823  BMG_DG186618  BMG_PH01256  SIDER  Drug-Phenotype\n",
       "309836  BMG_ED_DGPH93824  BMG_DG186618  BMG_PH15825  SIDER  Drug-Phenotype\n",
       "309838  BMG_ED_DGPH93825  BMG_DG186618  BMG_PH00980  SIDER  Drug-Phenotype\n",
       "309843  BMG_ED_DGPH93826  BMG_DG186618  BMG_PH02077  SIDER  Drug-Phenotype\n",
       "\n",
       "[93826 rows x 5 columns]"
      ]
     },
     "execution_count": 10,
     "metadata": {},
     "output_type": "execute_result"
    }
   ],
   "source": [
    "sider_drug_phenotype['Source'] = 'SIDER'\n",
    "sider_drug_phenotype['Type'] = 'Drug-Phenotype'\n",
    "\n",
    "max_length = len(str(len(sider_drug_phenotype)))\n",
    "sider_drug_phenotype['BioMedGraphica_ID'] = ['BMG_ED_DGPH' + str(i).zfill(max_length) for i in range(1, len(sider_drug_phenotype) + 1)]\n",
    "columns = ['BioMedGraphica_ID'] + [col for col in sider_drug_phenotype.columns if col != 'BioMedGraphica_ID']  # re-order columns\n",
    "sider_drug_phenotype = sider_drug_phenotype[columns]\n",
    "sider_drug_phenotype"
   ]
  },
  {
   "cell_type": "code",
   "execution_count": 11,
   "metadata": {},
   "outputs": [
    {
     "name": "stdout",
     "output_type": "stream",
     "text": [
      "Data has been saved to D:\\RA\\BMG\\BioMedGraphica\\Relation\\Drug-Phenotype\\BioMedGraphica_Drug_Phenotype.csv\n"
     ]
    }
   ],
   "source": [
    "import os\n",
    "from pathlib import Path\n",
    "\n",
    "# get the current working directory\n",
    "current_working_dir = Path(os.getcwd()).resolve()\n",
    "\n",
    "# get the output directory\n",
    "grandparent_dir = current_working_dir.parent.parent.parent\n",
    "\n",
    "target_folder = grandparent_dir / 'BioMedGraphica' / 'Relation' / 'Drug-Phenotype'\n",
    "if not target_folder.exists():\n",
    "    target_folder.mkdir(parents=True)\n",
    "    print(f\"Folder {target_folder} has been created.\")\n",
    "\n",
    "output_file_path = target_folder / 'BioMedGraphica_Drug_Phenotype.csv'\n",
    "sider_drug_phenotype.to_csv(output_file_path, index=False)\n",
    "print(f\"Data has been saved to {output_file_path}\")"
   ]
  }
 ],
 "metadata": {
  "kernelspec": {
   "display_name": "base",
   "language": "python",
   "name": "python3"
  },
  "language_info": {
   "codemirror_mode": {
    "name": "ipython",
    "version": 3
   },
   "file_extension": ".py",
   "mimetype": "text/x-python",
   "name": "python",
   "nbconvert_exporter": "python",
   "pygments_lexer": "ipython3",
   "version": "3.9.19"
  }
 },
 "nbformat": 4,
 "nbformat_minor": 2
}
