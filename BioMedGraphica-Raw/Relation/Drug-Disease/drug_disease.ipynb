{
 "cells": [
  {
   "cell_type": "markdown",
   "metadata": {},
   "source": [
    "### DrugCentral"
   ]
  },
  {
   "cell_type": "code",
   "execution_count": 2,
   "metadata": {},
   "outputs": [
    {
     "data": {
      "application/vnd.microsoft.datawrangler.viewer.v0+json": {
       "columns": [
        {
         "name": "index",
         "rawType": "int64",
         "type": "integer"
        },
        {
         "name": "identifier",
         "rawType": "object",
         "type": "string"
        },
        {
         "name": "id_type",
         "rawType": "object",
         "type": "string"
        },
        {
         "name": "struct_id",
         "rawType": "int64",
         "type": "integer"
        }
       ],
       "conversionMethod": "pd.DataFrame",
       "ref": "05cfe128-17d3-4d06-83d2-3005142707e9",
       "rows": [
        [
         "0",
         "D00002",
         "KEGG_DRUG",
         "4140"
        ],
        [
         "1",
         "D00003",
         "KEGG_DRUG",
         "4235"
        ],
        [
         "2",
         "D00004",
         "KEGG_DRUG",
         "4256"
        ],
        [
         "3",
         "D00007",
         "KEGG_DRUG",
         "1310"
        ],
        [
         "4",
         "D00008",
         "KEGG_DRUG",
         "3281"
        ]
       ],
       "shape": {
        "columns": 3,
        "rows": 5
       }
      },
      "text/html": [
       "<div>\n",
       "<style scoped>\n",
       "    .dataframe tbody tr th:only-of-type {\n",
       "        vertical-align: middle;\n",
       "    }\n",
       "\n",
       "    .dataframe tbody tr th {\n",
       "        vertical-align: top;\n",
       "    }\n",
       "\n",
       "    .dataframe thead th {\n",
       "        text-align: right;\n",
       "    }\n",
       "</style>\n",
       "<table border=\"1\" class=\"dataframe\">\n",
       "  <thead>\n",
       "    <tr style=\"text-align: right;\">\n",
       "      <th></th>\n",
       "      <th>identifier</th>\n",
       "      <th>id_type</th>\n",
       "      <th>struct_id</th>\n",
       "    </tr>\n",
       "  </thead>\n",
       "  <tbody>\n",
       "    <tr>\n",
       "      <th>0</th>\n",
       "      <td>D00002</td>\n",
       "      <td>KEGG_DRUG</td>\n",
       "      <td>4140</td>\n",
       "    </tr>\n",
       "    <tr>\n",
       "      <th>1</th>\n",
       "      <td>D00003</td>\n",
       "      <td>KEGG_DRUG</td>\n",
       "      <td>4235</td>\n",
       "    </tr>\n",
       "    <tr>\n",
       "      <th>2</th>\n",
       "      <td>D00004</td>\n",
       "      <td>KEGG_DRUG</td>\n",
       "      <td>4256</td>\n",
       "    </tr>\n",
       "    <tr>\n",
       "      <th>3</th>\n",
       "      <td>D00007</td>\n",
       "      <td>KEGG_DRUG</td>\n",
       "      <td>1310</td>\n",
       "    </tr>\n",
       "    <tr>\n",
       "      <th>4</th>\n",
       "      <td>D00008</td>\n",
       "      <td>KEGG_DRUG</td>\n",
       "      <td>3281</td>\n",
       "    </tr>\n",
       "  </tbody>\n",
       "</table>\n",
       "</div>"
      ],
      "text/plain": [
       "  identifier    id_type  struct_id\n",
       "0     D00002  KEGG_DRUG       4140\n",
       "1     D00003  KEGG_DRUG       4235\n",
       "2     D00004  KEGG_DRUG       4256\n",
       "3     D00007  KEGG_DRUG       1310\n",
       "4     D00008  KEGG_DRUG       3281"
      ]
     },
     "execution_count": 2,
     "metadata": {},
     "output_type": "execute_result"
    }
   ],
   "source": [
    "# Download Link: SQL filter\n",
    "# Download Date: 2024-10-7\n",
    "# Download Version: 2024-10-7\n",
    "import pandas as pd\n",
    "\n",
    "df_dc_id = pd.read_csv('drugcentral_drug_id.csv')\n",
    "df_dc_id = df_dc_id[['identifier', 'id_type', 'struct_id']]\n",
    "df_dc_id.head()"
   ]
  },
  {
   "cell_type": "code",
   "execution_count": 3,
   "metadata": {},
   "outputs": [
    {
     "name": "stderr",
     "output_type": "stream",
     "text": [
      "C:\\Users\\shunn\\AppData\\Local\\Temp\\ipykernel_41780\\2465316113.py:8: FutureWarning: DataFrame.applymap has been deprecated. Use DataFrame.map instead.\n",
      "  df_dc_id_pivot_filter = df_dc_id_pivot_filter.applymap(list_to_string)\n"
     ]
    },
    {
     "data": {
      "application/vnd.microsoft.datawrangler.viewer.v0+json": {
       "columns": [
        {
         "name": "index",
         "rawType": "int64",
         "type": "integer"
        },
        {
         "name": "struct_id",
         "rawType": "int64",
         "type": "integer"
        },
        {
         "name": "CHEBI",
         "rawType": "object",
         "type": "unknown"
        },
        {
         "name": "DRUGBANK_ID",
         "rawType": "object",
         "type": "unknown"
        },
        {
         "name": "PUBCHEM_CID",
         "rawType": "object",
         "type": "string"
        }
       ],
       "conversionMethod": "pd.DataFrame",
       "ref": "774eedb6-e361-49ae-936d-563bd1eafb8f",
       "rows": [
        [
         "0",
         "4",
         "CHEBI:6149",
         "DB01002",
         "92253"
        ],
        [
         "1",
         "5",
         "CHEBI:180904",
         null,
         "6604415"
        ],
        [
         "2",
         "6",
         "CHEBI:135522",
         null,
         "157702"
        ],
        [
         "3",
         "13",
         null,
         null,
         "688441"
        ],
        [
         "4",
         "21",
         "CHEBI:22526",
         "DB08878",
         "169371"
        ]
       ],
       "shape": {
        "columns": 4,
        "rows": 5
       }
      },
      "text/html": [
       "<div>\n",
       "<style scoped>\n",
       "    .dataframe tbody tr th:only-of-type {\n",
       "        vertical-align: middle;\n",
       "    }\n",
       "\n",
       "    .dataframe tbody tr th {\n",
       "        vertical-align: top;\n",
       "    }\n",
       "\n",
       "    .dataframe thead th {\n",
       "        text-align: right;\n",
       "    }\n",
       "</style>\n",
       "<table border=\"1\" class=\"dataframe\">\n",
       "  <thead>\n",
       "    <tr style=\"text-align: right;\">\n",
       "      <th>id_type</th>\n",
       "      <th>struct_id</th>\n",
       "      <th>CHEBI</th>\n",
       "      <th>DRUGBANK_ID</th>\n",
       "      <th>PUBCHEM_CID</th>\n",
       "    </tr>\n",
       "  </thead>\n",
       "  <tbody>\n",
       "    <tr>\n",
       "      <th>0</th>\n",
       "      <td>4</td>\n",
       "      <td>CHEBI:6149</td>\n",
       "      <td>DB01002</td>\n",
       "      <td>92253</td>\n",
       "    </tr>\n",
       "    <tr>\n",
       "      <th>1</th>\n",
       "      <td>5</td>\n",
       "      <td>CHEBI:180904</td>\n",
       "      <td>NaN</td>\n",
       "      <td>6604415</td>\n",
       "    </tr>\n",
       "    <tr>\n",
       "      <th>2</th>\n",
       "      <td>6</td>\n",
       "      <td>CHEBI:135522</td>\n",
       "      <td>NaN</td>\n",
       "      <td>157702</td>\n",
       "    </tr>\n",
       "    <tr>\n",
       "      <th>3</th>\n",
       "      <td>13</td>\n",
       "      <td>NaN</td>\n",
       "      <td>NaN</td>\n",
       "      <td>688441</td>\n",
       "    </tr>\n",
       "    <tr>\n",
       "      <th>4</th>\n",
       "      <td>21</td>\n",
       "      <td>CHEBI:22526</td>\n",
       "      <td>DB08878</td>\n",
       "      <td>169371</td>\n",
       "    </tr>\n",
       "  </tbody>\n",
       "</table>\n",
       "</div>"
      ],
      "text/plain": [
       "id_type  struct_id         CHEBI DRUGBANK_ID PUBCHEM_CID\n",
       "0                4    CHEBI:6149     DB01002       92253\n",
       "1                5  CHEBI:180904         NaN     6604415\n",
       "2                6  CHEBI:135522         NaN      157702\n",
       "3               13           NaN         NaN      688441\n",
       "4               21   CHEBI:22526     DB08878      169371"
      ]
     },
     "execution_count": 3,
     "metadata": {},
     "output_type": "execute_result"
    }
   ],
   "source": [
    "def list_to_string(lst):\n",
    "    if isinstance(lst, list):\n",
    "        return ','.join(map(str, lst))\n",
    "    return lst\n",
    "\n",
    "df_dc_id_pivot = df_dc_id.pivot_table(index='struct_id', columns='id_type', values='identifier', aggfunc=lambda x: list(x)).reset_index()\n",
    "df_dc_id_pivot_filter = df_dc_id_pivot[['struct_id', 'CHEBI', 'DRUGBANK_ID', 'PUBCHEM_CID']]\n",
    "df_dc_id_pivot_filter = df_dc_id_pivot_filter.applymap(list_to_string)\n",
    "df_dc_id_pivot_filter.head()"
   ]
  },
  {
   "cell_type": "code",
   "execution_count": 4,
   "metadata": {},
   "outputs": [
    {
     "data": {
      "application/vnd.microsoft.datawrangler.viewer.v0+json": {
       "columns": [
        {
         "name": "index",
         "rawType": "int64",
         "type": "integer"
        },
        {
         "name": "struct_id",
         "rawType": "int64",
         "type": "integer"
        },
        {
         "name": "umls_cui",
         "rawType": "object",
         "type": "string"
        },
        {
         "name": "snomed_conceptid",
         "rawType": "float64",
         "type": "float"
        }
       ],
       "conversionMethod": "pd.DataFrame",
       "ref": "22e134e4-4c46-4ed6-8f28-de1b7392aa96",
       "rows": [
        [
         "0",
         "564",
         "C0153225",
         "151004.0"
        ],
        [
         "1",
         "559",
         "C0153225",
         "151004.0"
        ],
        [
         "2",
         "818",
         "C0018824",
         "368009.0"
        ],
        [
         "3",
         "1572",
         "C0018824",
         "368009.0"
        ],
        [
         "4",
         "1968",
         "C0018824",
         "368009.0"
        ]
       ],
       "shape": {
        "columns": 3,
        "rows": 5
       }
      },
      "text/html": [
       "<div>\n",
       "<style scoped>\n",
       "    .dataframe tbody tr th:only-of-type {\n",
       "        vertical-align: middle;\n",
       "    }\n",
       "\n",
       "    .dataframe tbody tr th {\n",
       "        vertical-align: top;\n",
       "    }\n",
       "\n",
       "    .dataframe thead th {\n",
       "        text-align: right;\n",
       "    }\n",
       "</style>\n",
       "<table border=\"1\" class=\"dataframe\">\n",
       "  <thead>\n",
       "    <tr style=\"text-align: right;\">\n",
       "      <th></th>\n",
       "      <th>struct_id</th>\n",
       "      <th>umls_cui</th>\n",
       "      <th>snomed_conceptid</th>\n",
       "    </tr>\n",
       "  </thead>\n",
       "  <tbody>\n",
       "    <tr>\n",
       "      <th>0</th>\n",
       "      <td>564</td>\n",
       "      <td>C0153225</td>\n",
       "      <td>151004.0</td>\n",
       "    </tr>\n",
       "    <tr>\n",
       "      <th>1</th>\n",
       "      <td>559</td>\n",
       "      <td>C0153225</td>\n",
       "      <td>151004.0</td>\n",
       "    </tr>\n",
       "    <tr>\n",
       "      <th>2</th>\n",
       "      <td>818</td>\n",
       "      <td>C0018824</td>\n",
       "      <td>368009.0</td>\n",
       "    </tr>\n",
       "    <tr>\n",
       "      <th>3</th>\n",
       "      <td>1572</td>\n",
       "      <td>C0018824</td>\n",
       "      <td>368009.0</td>\n",
       "    </tr>\n",
       "    <tr>\n",
       "      <th>4</th>\n",
       "      <td>1968</td>\n",
       "      <td>C0018824</td>\n",
       "      <td>368009.0</td>\n",
       "    </tr>\n",
       "  </tbody>\n",
       "</table>\n",
       "</div>"
      ],
      "text/plain": [
       "   struct_id  umls_cui  snomed_conceptid\n",
       "0        564  C0153225          151004.0\n",
       "1        559  C0153225          151004.0\n",
       "2        818  C0018824          368009.0\n",
       "3       1572  C0018824          368009.0\n",
       "4       1968  C0018824          368009.0"
      ]
     },
     "execution_count": 4,
     "metadata": {},
     "output_type": "execute_result"
    }
   ],
   "source": [
    "# Download Link: SQL filter\n",
    "# Download Date: 2024-10-7\n",
    "# Download Version: 2024-10-7\n",
    "\n",
    "df_dc_drug_dis = pd.read_csv('drugcentral_drug_disease.csv')\n",
    "df_dc_drug_dis = df_dc_drug_dis[['struct_id', 'umls_cui', 'snomed_conceptid']]\n",
    "df_dc_drug_dis.head()"
   ]
  },
  {
   "cell_type": "code",
   "execution_count": 5,
   "metadata": {},
   "outputs": [
    {
     "data": {
      "application/vnd.microsoft.datawrangler.viewer.v0+json": {
       "columns": [
        {
         "name": "index",
         "rawType": "int64",
         "type": "integer"
        },
        {
         "name": "CHEBI",
         "rawType": "object",
         "type": "unknown"
        },
        {
         "name": "DRUGBANK_ID",
         "rawType": "object",
         "type": "unknown"
        },
        {
         "name": "PUBCHEM_CID",
         "rawType": "object",
         "type": "unknown"
        },
        {
         "name": "umls_cui",
         "rawType": "object",
         "type": "unknown"
        },
        {
         "name": "snomed_conceptid",
         "rawType": "float64",
         "type": "float"
        }
       ],
       "conversionMethod": "pd.DataFrame",
       "ref": "8a1c49ad-ede4-47d1-9537-73456df74461",
       "rows": [
        [
         "0",
         "CHEBI:29007",
         "DB01212",
         "5479530",
         "C0153225",
         "151004.0"
        ],
        [
         "1",
         "CHEBI:3508",
         "DB00438",
         "5481173",
         "C0153225",
         "151004.0"
        ],
        [
         "2",
         "CHEBI:4453",
         "DB00304",
         "40973",
         "C0018824",
         "368009.0"
        ],
        [
         "3",
         "CHEBI:6443",
         "DB00367,DB09389",
         "13109",
         "C0018824",
         "368009.0"
        ],
        [
         "4",
         "CHEBI:50815",
         "DB00957",
         "6540478",
         "C0018824",
         "368009.0"
        ],
        [
         "5",
         "CHEBI:8068",
         "DB00830",
         "4762",
         "C0018824",
         "368009.0"
        ],
        [
         "6",
         "CHEBI:4903",
         "DB00977",
         "5991",
         "C0018824",
         "368009.0"
        ],
        [
         "7",
         "CHEBI:7628,CHEBI:7627",
         "DB00717",
         "5832,6230",
         "C0018824",
         "368009.0"
        ],
        [
         "8",
         "CHEBI:16469",
         "DB00783",
         "5757",
         "C0018824",
         "368009.0"
        ],
        [
         "9",
         "CHEBI:63617",
         "DB01186",
         "47811",
         "C0018824",
         "368009.0"
        ],
        [
         "10",
         "CHEBI:135398",
         "DB06713",
         "9568628",
         "C0018824",
         "368009.0"
        ],
        [
         "11",
         "CHEBI:3646",
         "DB01556",
         "10007",
         "C0018824",
         "368009.0"
        ],
        [
         "12",
         "CHEBI:6784",
         "DB01357",
         "6291",
         "C0018824",
         "368009.0"
        ],
        [
         "13",
         "CHEBI:8080",
         "DB00191",
         "4771",
         "C0018824",
         "368009.0"
        ],
        [
         "14",
         "CHEBI:7627",
         "DB00717",
         "6230",
         "C0018824",
         "368009.0"
        ],
        [
         "15",
         "CHEBI:48669",
         "DB00302",
         "5526",
         "C0018824",
         "368009.0"
        ],
        [
         "16",
         "CHEBI:50785",
         "DB13866,DB00823",
         "14687",
         "C0018824",
         "368009.0"
        ],
        [
         "17",
         "CHEBI:8059",
         "DB01579",
         "30487",
         "C0018824",
         "368009.0"
        ],
        [
         "18",
         "CHEBI:3286",
         "DB00248",
         "54746",
         "C0018824",
         "368009.0"
        ],
        [
         "19",
         "CHEBI:18295",
         "DB05381",
         "774",
         "C0018824",
         "368009.0"
        ],
        [
         "20",
         "CHEBI:17263",
         "DB00655",
         "5870",
         "C0018824",
         "368009.0"
        ],
        [
         "21",
         "CHEBI:32268",
         "DB13719",
         "11499",
         "C0018824",
         "368009.0"
        ],
        [
         "22",
         "CHEBI:6076",
         "DB01167",
         "55283",
         "C0018824",
         "368009.0"
        ],
        [
         "23",
         "CHEBI:31607",
         "DB14491",
         "6433164",
         "C0018824",
         "368009.0"
        ],
        [
         "24",
         "CHEBI:50777",
         "DB00294",
         "6917715",
         "C0018824",
         "368009.0"
        ],
        [
         "25",
         "CHEBI:3044",
         "DB00865",
         "5311017",
         "C0018824",
         "368009.0"
        ],
        [
         "26",
         "CHEBI:45783",
         "DB00619",
         "5291",
         "C0018824",
         "368009.0"
        ],
        [
         "27",
         "CHEBI:4530",
         "DB00937",
         "7029",
         "C0018824",
         "368009.0"
        ],
        [
         "28",
         "CHEBI:9123",
         "DB01104",
         "68617",
         "C0520676",
         "596004.0"
        ],
        [
         "29",
         "CHEBI:5118",
         "DB00472",
         "3386",
         "C0520676",
         "596004.0"
        ],
        [
         "30",
         "CHEBI:16469",
         "DB00783",
         "5757",
         "C0520676",
         "596004.0"
        ],
        [
         "31",
         "CHEBI:4903",
         "DB00977",
         "5991",
         "C0520676",
         "596004.0"
        ],
        [
         "32",
         "CHEBI:50838",
         "DB01395",
         "68873",
         "C0520676",
         "596004.0"
        ],
        [
         "33",
         "CHEBI:136009",
         "DB11256",
         "135398561",
         "C0520676",
         "596004.0"
        ],
        [
         "34",
         "CHEBI:7936",
         "DB00715",
         "43815",
         "C0520676",
         "596004.0"
        ],
        [
         "35",
         "CHEBI:2618",
         "DB00915",
         "2130",
         "C0022336",
         "792004.0"
        ],
        [
         "36",
         "CHEBI:31677,CHEBI:17650",
         "DB14545,DB00741",
         "16623,5754",
         "C0026857",
         "928000.0"
        ],
        [
         "37",
         "CHEBI:9669,CHEBI:9667",
         "DB00620",
         "6216,31307",
         "C0026857",
         "928000.0"
        ],
        [
         "38",
         "CHEBI:8382",
         "DB00635",
         "5865",
         "C0026857",
         "928000.0"
        ],
        [
         "39",
         "CHEBI:3897",
         "DB01380",
         "5745",
         "C0026857",
         "928000.0"
        ],
        [
         "40",
         "CHEBI:8378",
         "DB00860",
         "5755",
         "C0026857",
         "928000.0"
        ],
        [
         "41",
         "CHEBI:6888",
         "DB00959",
         "6741",
         "C0026857",
         "928000.0"
        ],
        [
         "42",
         "CHEBI:17650",
         "DB00741",
         "5754",
         "C0026857",
         "928000.0"
        ],
        [
         "43",
         "CHEBI:9667",
         "DB00620",
         "31307",
         "C0026857",
         "928000.0"
        ],
        [
         "44",
         "CHEBI:41879",
         "DB01234",
         "5743",
         "C0026857",
         "928000.0"
        ],
        [
         "45",
         "CHEBI:3077",
         "DB00443",
         "9782",
         "C0026857",
         "928000.0"
        ],
        [
         "46",
         "CHEBI:10110",
         "DB00495",
         "35370",
         "C0237979",
         "965003.0"
        ],
        [
         "47",
         "CHEBI:421707",
         "DB01048",
         "441300",
         "C0237979",
         "965003.0"
        ],
        [
         "48",
         "CHEBI:63577",
         "DB00709",
         "60825",
         "C0237979",
         "965003.0"
        ],
        [
         "49",
         "CHEBI:44915",
         "DB00818",
         "4943",
         "C0003578",
         "1023001.0"
        ]
       ],
       "shape": {
        "columns": 5,
        "rows": 42307
       }
      },
      "text/html": [
       "<div>\n",
       "<style scoped>\n",
       "    .dataframe tbody tr th:only-of-type {\n",
       "        vertical-align: middle;\n",
       "    }\n",
       "\n",
       "    .dataframe tbody tr th {\n",
       "        vertical-align: top;\n",
       "    }\n",
       "\n",
       "    .dataframe thead th {\n",
       "        text-align: right;\n",
       "    }\n",
       "</style>\n",
       "<table border=\"1\" class=\"dataframe\">\n",
       "  <thead>\n",
       "    <tr style=\"text-align: right;\">\n",
       "      <th></th>\n",
       "      <th>CHEBI</th>\n",
       "      <th>DRUGBANK_ID</th>\n",
       "      <th>PUBCHEM_CID</th>\n",
       "      <th>umls_cui</th>\n",
       "      <th>snomed_conceptid</th>\n",
       "    </tr>\n",
       "  </thead>\n",
       "  <tbody>\n",
       "    <tr>\n",
       "      <th>0</th>\n",
       "      <td>CHEBI:29007</td>\n",
       "      <td>DB01212</td>\n",
       "      <td>5479530</td>\n",
       "      <td>C0153225</td>\n",
       "      <td>151004.0</td>\n",
       "    </tr>\n",
       "    <tr>\n",
       "      <th>1</th>\n",
       "      <td>CHEBI:3508</td>\n",
       "      <td>DB00438</td>\n",
       "      <td>5481173</td>\n",
       "      <td>C0153225</td>\n",
       "      <td>151004.0</td>\n",
       "    </tr>\n",
       "    <tr>\n",
       "      <th>2</th>\n",
       "      <td>CHEBI:4453</td>\n",
       "      <td>DB00304</td>\n",
       "      <td>40973</td>\n",
       "      <td>C0018824</td>\n",
       "      <td>368009.0</td>\n",
       "    </tr>\n",
       "    <tr>\n",
       "      <th>3</th>\n",
       "      <td>CHEBI:6443</td>\n",
       "      <td>DB00367,DB09389</td>\n",
       "      <td>13109</td>\n",
       "      <td>C0018824</td>\n",
       "      <td>368009.0</td>\n",
       "    </tr>\n",
       "    <tr>\n",
       "      <th>4</th>\n",
       "      <td>CHEBI:50815</td>\n",
       "      <td>DB00957</td>\n",
       "      <td>6540478</td>\n",
       "      <td>C0018824</td>\n",
       "      <td>368009.0</td>\n",
       "    </tr>\n",
       "    <tr>\n",
       "      <th>...</th>\n",
       "      <td>...</td>\n",
       "      <td>...</td>\n",
       "      <td>...</td>\n",
       "      <td>...</td>\n",
       "      <td>...</td>\n",
       "    </tr>\n",
       "    <tr>\n",
       "      <th>42302</th>\n",
       "      <td>CHEBI:3231</td>\n",
       "      <td>DB11148</td>\n",
       "      <td>2482</td>\n",
       "      <td>NaN</td>\n",
       "      <td>NaN</td>\n",
       "    </tr>\n",
       "    <tr>\n",
       "      <th>42303</th>\n",
       "      <td>CHEBI:204734</td>\n",
       "      <td>DB01260</td>\n",
       "      <td>5311066</td>\n",
       "      <td>NaN</td>\n",
       "      <td>NaN</td>\n",
       "    </tr>\n",
       "    <tr>\n",
       "      <th>42304</th>\n",
       "      <td>CHEBI:6532</td>\n",
       "      <td>DB00836</td>\n",
       "      <td>3955</td>\n",
       "      <td>NaN</td>\n",
       "      <td>NaN</td>\n",
       "    </tr>\n",
       "    <tr>\n",
       "      <th>42305</th>\n",
       "      <td>CHEBI:49005</td>\n",
       "      <td>DB01609</td>\n",
       "      <td>214348</td>\n",
       "      <td>NaN</td>\n",
       "      <td>NaN</td>\n",
       "    </tr>\n",
       "    <tr>\n",
       "      <th>42306</th>\n",
       "      <td>CHEBI:38561</td>\n",
       "      <td>DB01095</td>\n",
       "      <td>23663976</td>\n",
       "      <td>NaN</td>\n",
       "      <td>NaN</td>\n",
       "    </tr>\n",
       "  </tbody>\n",
       "</table>\n",
       "<p>42307 rows × 5 columns</p>\n",
       "</div>"
      ],
      "text/plain": [
       "              CHEBI      DRUGBANK_ID PUBCHEM_CID  umls_cui  snomed_conceptid\n",
       "0       CHEBI:29007          DB01212     5479530  C0153225          151004.0\n",
       "1        CHEBI:3508          DB00438     5481173  C0153225          151004.0\n",
       "2        CHEBI:4453          DB00304       40973  C0018824          368009.0\n",
       "3        CHEBI:6443  DB00367,DB09389       13109  C0018824          368009.0\n",
       "4       CHEBI:50815          DB00957     6540478  C0018824          368009.0\n",
       "...             ...              ...         ...       ...               ...\n",
       "42302    CHEBI:3231          DB11148        2482       NaN               NaN\n",
       "42303  CHEBI:204734          DB01260     5311066       NaN               NaN\n",
       "42304    CHEBI:6532          DB00836        3955       NaN               NaN\n",
       "42305   CHEBI:49005          DB01609      214348       NaN               NaN\n",
       "42306   CHEBI:38561          DB01095    23663976       NaN               NaN\n",
       "\n",
       "[42307 rows x 5 columns]"
      ]
     },
     "execution_count": 5,
     "metadata": {},
     "output_type": "execute_result"
    }
   ],
   "source": [
    "df_dc = pd.merge(df_dc_id_pivot_filter, df_dc_drug_dis, on='struct_id', how='right')\n",
    "df_dc.drop(columns=['struct_id'], inplace=True)\n",
    "df_dc"
   ]
  },
  {
   "cell_type": "code",
   "execution_count": 6,
   "metadata": {},
   "outputs": [
    {
     "data": {
      "application/vnd.microsoft.datawrangler.viewer.v0+json": {
       "columns": [
        {
         "name": "index",
         "rawType": "int64",
         "type": "integer"
        },
        {
         "name": "drug_chebi",
         "rawType": "object",
         "type": "unknown"
        },
        {
         "name": "drug_drugbank",
         "rawType": "object",
         "type": "unknown"
        },
        {
         "name": "drug_pubchem",
         "rawType": "object",
         "type": "unknown"
        },
        {
         "name": "disease_umls",
         "rawType": "object",
         "type": "unknown"
        },
        {
         "name": "disease_snomed",
         "rawType": "float64",
         "type": "float"
        }
       ],
       "conversionMethod": "pd.DataFrame",
       "ref": "0f43d5ab-ac4c-4906-af91-5274fdbfe7c7",
       "rows": [
        [
         "0",
         "CHEBI:29007",
         "DB01212",
         "5479530",
         "C0153225",
         "151004.0"
        ],
        [
         "1",
         "CHEBI:3508",
         "DB00438",
         "5481173",
         "C0153225",
         "151004.0"
        ],
        [
         "2",
         "CHEBI:4453",
         "DB00304",
         "40973",
         "C0018824",
         "368009.0"
        ],
        [
         "3",
         "CHEBI:6443",
         "DB00367",
         "13109",
         "C0018824",
         "368009.0"
        ],
        [
         "3",
         "CHEBI:6443",
         "DB09389",
         "13109",
         "C0018824",
         "368009.0"
        ],
        [
         "4",
         "CHEBI:50815",
         "DB00957",
         "6540478",
         "C0018824",
         "368009.0"
        ],
        [
         "5",
         "CHEBI:8068",
         "DB00830",
         "4762",
         "C0018824",
         "368009.0"
        ],
        [
         "6",
         "CHEBI:4903",
         "DB00977",
         "5991",
         "C0018824",
         "368009.0"
        ],
        [
         "7",
         "CHEBI:7628,CHEBI:7627",
         "DB00717",
         "5832",
         "C0018824",
         "368009.0"
        ],
        [
         "7",
         "CHEBI:7628,CHEBI:7627",
         "DB00717",
         "6230",
         "C0018824",
         "368009.0"
        ],
        [
         "8",
         "CHEBI:16469",
         "DB00783",
         "5757",
         "C0018824",
         "368009.0"
        ],
        [
         "9",
         "CHEBI:63617",
         "DB01186",
         "47811",
         "C0018824",
         "368009.0"
        ],
        [
         "10",
         "CHEBI:135398",
         "DB06713",
         "9568628",
         "C0018824",
         "368009.0"
        ],
        [
         "11",
         "CHEBI:3646",
         "DB01556",
         "10007",
         "C0018824",
         "368009.0"
        ],
        [
         "12",
         "CHEBI:6784",
         "DB01357",
         "6291",
         "C0018824",
         "368009.0"
        ],
        [
         "13",
         "CHEBI:8080",
         "DB00191",
         "4771",
         "C0018824",
         "368009.0"
        ],
        [
         "14",
         "CHEBI:7627",
         "DB00717",
         "6230",
         "C0018824",
         "368009.0"
        ],
        [
         "15",
         "CHEBI:48669",
         "DB00302",
         "5526",
         "C0018824",
         "368009.0"
        ],
        [
         "16",
         "CHEBI:50785",
         "DB13866",
         "14687",
         "C0018824",
         "368009.0"
        ],
        [
         "16",
         "CHEBI:50785",
         "DB00823",
         "14687",
         "C0018824",
         "368009.0"
        ],
        [
         "17",
         "CHEBI:8059",
         "DB01579",
         "30487",
         "C0018824",
         "368009.0"
        ],
        [
         "18",
         "CHEBI:3286",
         "DB00248",
         "54746",
         "C0018824",
         "368009.0"
        ],
        [
         "19",
         "CHEBI:18295",
         "DB05381",
         "774",
         "C0018824",
         "368009.0"
        ],
        [
         "20",
         "CHEBI:17263",
         "DB00655",
         "5870",
         "C0018824",
         "368009.0"
        ],
        [
         "21",
         "CHEBI:32268",
         "DB13719",
         "11499",
         "C0018824",
         "368009.0"
        ],
        [
         "22",
         "CHEBI:6076",
         "DB01167",
         "55283",
         "C0018824",
         "368009.0"
        ],
        [
         "23",
         "CHEBI:31607",
         "DB14491",
         "6433164",
         "C0018824",
         "368009.0"
        ],
        [
         "24",
         "CHEBI:50777",
         "DB00294",
         "6917715",
         "C0018824",
         "368009.0"
        ],
        [
         "25",
         "CHEBI:3044",
         "DB00865",
         "5311017",
         "C0018824",
         "368009.0"
        ],
        [
         "26",
         "CHEBI:45783",
         "DB00619",
         "5291",
         "C0018824",
         "368009.0"
        ],
        [
         "27",
         "CHEBI:4530",
         "DB00937",
         "7029",
         "C0018824",
         "368009.0"
        ],
        [
         "28",
         "CHEBI:9123",
         "DB01104",
         "68617",
         "C0520676",
         "596004.0"
        ],
        [
         "29",
         "CHEBI:5118",
         "DB00472",
         "3386",
         "C0520676",
         "596004.0"
        ],
        [
         "30",
         "CHEBI:16469",
         "DB00783",
         "5757",
         "C0520676",
         "596004.0"
        ],
        [
         "31",
         "CHEBI:4903",
         "DB00977",
         "5991",
         "C0520676",
         "596004.0"
        ],
        [
         "32",
         "CHEBI:50838",
         "DB01395",
         "68873",
         "C0520676",
         "596004.0"
        ],
        [
         "33",
         "CHEBI:136009",
         "DB11256",
         "135398561",
         "C0520676",
         "596004.0"
        ],
        [
         "34",
         "CHEBI:7936",
         "DB00715",
         "43815",
         "C0520676",
         "596004.0"
        ],
        [
         "35",
         "CHEBI:2618",
         "DB00915",
         "2130",
         "C0022336",
         "792004.0"
        ],
        [
         "36",
         "CHEBI:31677,CHEBI:17650",
         "DB14545",
         "16623",
         "C0026857",
         "928000.0"
        ],
        [
         "36",
         "CHEBI:31677,CHEBI:17650",
         "DB14545",
         "5754",
         "C0026857",
         "928000.0"
        ],
        [
         "36",
         "CHEBI:31677,CHEBI:17650",
         "DB00741",
         "16623",
         "C0026857",
         "928000.0"
        ],
        [
         "36",
         "CHEBI:31677,CHEBI:17650",
         "DB00741",
         "5754",
         "C0026857",
         "928000.0"
        ],
        [
         "37",
         "CHEBI:9669,CHEBI:9667",
         "DB00620",
         "6216",
         "C0026857",
         "928000.0"
        ],
        [
         "37",
         "CHEBI:9669,CHEBI:9667",
         "DB00620",
         "31307",
         "C0026857",
         "928000.0"
        ],
        [
         "38",
         "CHEBI:8382",
         "DB00635",
         "5865",
         "C0026857",
         "928000.0"
        ],
        [
         "39",
         "CHEBI:3897",
         "DB01380",
         "5745",
         "C0026857",
         "928000.0"
        ],
        [
         "40",
         "CHEBI:8378",
         "DB00860",
         "5755",
         "C0026857",
         "928000.0"
        ],
        [
         "41",
         "CHEBI:6888",
         "DB00959",
         "6741",
         "C0026857",
         "928000.0"
        ],
        [
         "42",
         "CHEBI:17650",
         "DB00741",
         "5754",
         "C0026857",
         "928000.0"
        ]
       ],
       "shape": {
        "columns": 5,
        "rows": 50011
       }
      },
      "text/html": [
       "<div>\n",
       "<style scoped>\n",
       "    .dataframe tbody tr th:only-of-type {\n",
       "        vertical-align: middle;\n",
       "    }\n",
       "\n",
       "    .dataframe tbody tr th {\n",
       "        vertical-align: top;\n",
       "    }\n",
       "\n",
       "    .dataframe thead th {\n",
       "        text-align: right;\n",
       "    }\n",
       "</style>\n",
       "<table border=\"1\" class=\"dataframe\">\n",
       "  <thead>\n",
       "    <tr style=\"text-align: right;\">\n",
       "      <th></th>\n",
       "      <th>drug_chebi</th>\n",
       "      <th>drug_drugbank</th>\n",
       "      <th>drug_pubchem</th>\n",
       "      <th>disease_umls</th>\n",
       "      <th>disease_snomed</th>\n",
       "    </tr>\n",
       "  </thead>\n",
       "  <tbody>\n",
       "    <tr>\n",
       "      <th>0</th>\n",
       "      <td>CHEBI:29007</td>\n",
       "      <td>DB01212</td>\n",
       "      <td>5479530</td>\n",
       "      <td>C0153225</td>\n",
       "      <td>151004.0</td>\n",
       "    </tr>\n",
       "    <tr>\n",
       "      <th>1</th>\n",
       "      <td>CHEBI:3508</td>\n",
       "      <td>DB00438</td>\n",
       "      <td>5481173</td>\n",
       "      <td>C0153225</td>\n",
       "      <td>151004.0</td>\n",
       "    </tr>\n",
       "    <tr>\n",
       "      <th>2</th>\n",
       "      <td>CHEBI:4453</td>\n",
       "      <td>DB00304</td>\n",
       "      <td>40973</td>\n",
       "      <td>C0018824</td>\n",
       "      <td>368009.0</td>\n",
       "    </tr>\n",
       "    <tr>\n",
       "      <th>3</th>\n",
       "      <td>CHEBI:6443</td>\n",
       "      <td>DB00367</td>\n",
       "      <td>13109</td>\n",
       "      <td>C0018824</td>\n",
       "      <td>368009.0</td>\n",
       "    </tr>\n",
       "    <tr>\n",
       "      <th>3</th>\n",
       "      <td>CHEBI:6443</td>\n",
       "      <td>DB09389</td>\n",
       "      <td>13109</td>\n",
       "      <td>C0018824</td>\n",
       "      <td>368009.0</td>\n",
       "    </tr>\n",
       "    <tr>\n",
       "      <th>...</th>\n",
       "      <td>...</td>\n",
       "      <td>...</td>\n",
       "      <td>...</td>\n",
       "      <td>...</td>\n",
       "      <td>...</td>\n",
       "    </tr>\n",
       "    <tr>\n",
       "      <th>42302</th>\n",
       "      <td>CHEBI:3231</td>\n",
       "      <td>DB11148</td>\n",
       "      <td>2482</td>\n",
       "      <td>NaN</td>\n",
       "      <td>NaN</td>\n",
       "    </tr>\n",
       "    <tr>\n",
       "      <th>42303</th>\n",
       "      <td>CHEBI:204734</td>\n",
       "      <td>DB01260</td>\n",
       "      <td>5311066</td>\n",
       "      <td>NaN</td>\n",
       "      <td>NaN</td>\n",
       "    </tr>\n",
       "    <tr>\n",
       "      <th>42304</th>\n",
       "      <td>CHEBI:6532</td>\n",
       "      <td>DB00836</td>\n",
       "      <td>3955</td>\n",
       "      <td>NaN</td>\n",
       "      <td>NaN</td>\n",
       "    </tr>\n",
       "    <tr>\n",
       "      <th>42305</th>\n",
       "      <td>CHEBI:49005</td>\n",
       "      <td>DB01609</td>\n",
       "      <td>214348</td>\n",
       "      <td>NaN</td>\n",
       "      <td>NaN</td>\n",
       "    </tr>\n",
       "    <tr>\n",
       "      <th>42306</th>\n",
       "      <td>CHEBI:38561</td>\n",
       "      <td>DB01095</td>\n",
       "      <td>23663976</td>\n",
       "      <td>NaN</td>\n",
       "      <td>NaN</td>\n",
       "    </tr>\n",
       "  </tbody>\n",
       "</table>\n",
       "<p>50011 rows × 5 columns</p>\n",
       "</div>"
      ],
      "text/plain": [
       "         drug_chebi drug_drugbank drug_pubchem disease_umls  disease_snomed\n",
       "0       CHEBI:29007       DB01212      5479530     C0153225        151004.0\n",
       "1        CHEBI:3508       DB00438      5481173     C0153225        151004.0\n",
       "2        CHEBI:4453       DB00304        40973     C0018824        368009.0\n",
       "3        CHEBI:6443       DB00367        13109     C0018824        368009.0\n",
       "3        CHEBI:6443       DB09389        13109     C0018824        368009.0\n",
       "...             ...           ...          ...          ...             ...\n",
       "42302    CHEBI:3231       DB11148         2482          NaN             NaN\n",
       "42303  CHEBI:204734       DB01260      5311066          NaN             NaN\n",
       "42304    CHEBI:6532       DB00836         3955          NaN             NaN\n",
       "42305   CHEBI:49005       DB01609       214348          NaN             NaN\n",
       "42306   CHEBI:38561       DB01095     23663976          NaN             NaN\n",
       "\n",
       "[50011 rows x 5 columns]"
      ]
     },
     "execution_count": 6,
     "metadata": {},
     "output_type": "execute_result"
    }
   ],
   "source": [
    "# Split rows where the CHEBI, DRUGBANK_ID, or PUBCHEM_CID columns contain commas\n",
    "df_split_all = df_dc.copy()\n",
    "\n",
    "for col in ['DRUGBANK_ID', 'PUBCHEM_CID']:\n",
    "    df_split_all = df_split_all.assign(**{col: df_split_all[col].str.split(',')}).explode(col)\n",
    "    df_split_all[col] = df_split_all[col].str.strip()\n",
    "\n",
    "df_split_all = df_split_all.rename(columns={'CHEBI': 'drug_chebi', 'DRUGBANK_ID': 'drug_drugbank', 'PUBCHEM_CID': 'drug_pubchem', 'umls_cui': 'disease_umls', 'snomed_conceptid': 'disease_snomed'})\n",
    "df_split_all"
   ]
  },
  {
   "cell_type": "markdown",
   "metadata": {},
   "source": [
    "### BioMedgraphica ID"
   ]
  },
  {
   "cell_type": "code",
   "execution_count": 7,
   "metadata": {},
   "outputs": [],
   "source": [
    "import pandas as pd\n",
    "import os\n",
    "from pathlib import Path\n",
    "\n",
    "current_working_dir = Path(os.getcwd()).resolve()\n",
    "grandparent_dir = current_working_dir.parent.parent.parent\n",
    "target_dir_drug = grandparent_dir / 'BioMedGraphica' / 'Entity' / 'Drug' / 'BioMedGraphica_Drug.csv'\n",
    "target_dir_disease = grandparent_dir / 'BioMedGraphica' / 'Entity' / 'Disease' / 'BioMedGraphica_Disease.csv'\n",
    "biomedgraphica_disease = pd.read_csv(target_dir_disease, dtype=str)\n",
    "biomedgraphica_drug = pd.read_csv(target_dir_drug, dtype=str)"
   ]
  },
  {
   "cell_type": "markdown",
   "metadata": {},
   "source": [
    "### DrugCentral Mapping"
   ]
  },
  {
   "cell_type": "code",
   "execution_count": 8,
   "metadata": {},
   "outputs": [
    {
     "name": "stderr",
     "output_type": "stream",
     "text": [
      "C:\\Users\\shunn\\AppData\\Local\\Temp\\ipykernel_41780\\2861918092.py:2: SettingWithCopyWarning: \n",
      "A value is trying to be set on a copy of a slice from a DataFrame\n",
      "\n",
      "See the caveats in the documentation: https://pandas.pydata.org/pandas-docs/stable/user_guide/indexing.html#returning-a-view-versus-a-copy\n",
      "  db_id.dropna(subset=['DrugBank_ID'], inplace=True)\n"
     ]
    },
    {
     "data": {
      "application/vnd.microsoft.datawrangler.viewer.v0+json": {
       "columns": [
        {
         "name": "index",
         "rawType": "int64",
         "type": "integer"
        },
        {
         "name": "drug_chebi",
         "rawType": "object",
         "type": "unknown"
        },
        {
         "name": "drug_drugbank",
         "rawType": "object",
         "type": "unknown"
        },
        {
         "name": "drug_pubchem",
         "rawType": "object",
         "type": "unknown"
        },
        {
         "name": "disease_umls",
         "rawType": "object",
         "type": "unknown"
        },
        {
         "name": "disease_snomed",
         "rawType": "float64",
         "type": "float"
        },
        {
         "name": "Drug_drugbank",
         "rawType": "object",
         "type": "unknown"
        }
       ],
       "conversionMethod": "pd.DataFrame",
       "ref": "e70bfc93-7d3f-4216-abaa-4243535a915e",
       "rows": [
        [
         "0",
         "CHEBI:29007",
         "DB01212",
         "5479530",
         "C0153225",
         "151004.0",
         "BMG_DG166076"
        ],
        [
         "1",
         "CHEBI:3508",
         "DB00438",
         "5481173",
         "C0153225",
         "151004.0",
         "BMG_DG166102"
        ],
        [
         "2",
         "CHEBI:4453",
         "DB00304",
         "40973",
         "C0018824",
         "368009.0",
         "BMG_DG141079"
        ],
        [
         "3",
         "CHEBI:6443",
         "DB00367",
         "13109",
         "C0018824",
         "368009.0",
         "BMG_DG025668"
        ],
        [
         "3",
         "CHEBI:6443",
         "DB09389",
         "13109",
         "C0018824",
         "368009.0",
         "BMG_DG148275"
        ],
        [
         "4",
         "CHEBI:50815",
         "DB00957",
         "6540478",
         "C0018824",
         "368009.0",
         "BMG_DG177495"
        ],
        [
         "5",
         "CHEBI:8068",
         "DB00830",
         "4762",
         "C0018824",
         "368009.0",
         "BMG_DG150417"
        ],
        [
         "6",
         "CHEBI:4903",
         "DB00977",
         "5991",
         "C0018824",
         "368009.0",
         "BMG_DG170784"
        ],
        [
         "7",
         "CHEBI:7628,CHEBI:7627",
         "DB00717",
         "5832",
         "C0018824",
         "368009.0",
         "BMG_DG172605"
        ],
        [
         "7",
         "CHEBI:7628,CHEBI:7627",
         "DB00717",
         "6230",
         "C0018824",
         "368009.0",
         "BMG_DG172605"
        ],
        [
         "8",
         "CHEBI:16469",
         "DB00783",
         "5757",
         "C0018824",
         "368009.0",
         "BMG_DG169285"
        ],
        [
         "9",
         "CHEBI:63617",
         "DB01186",
         "47811",
         "C0018824",
         "368009.0",
         "BMG_DG150465"
        ],
        [
         "10",
         "CHEBI:135398",
         "DB06713",
         "9568628",
         "C0018824",
         "368009.0",
         "BMG_DG173125"
        ],
        [
         "11",
         "CHEBI:3646",
         "DB01556",
         "10007",
         "C0018824",
         "368009.0",
         "BMG_DG000050"
        ],
        [
         "12",
         "CHEBI:6784",
         "DB01357",
         "6291",
         "C0018824",
         "368009.0",
         "BMG_DG173111"
        ],
        [
         "13",
         "CHEBI:8080",
         "DB00191",
         "4771",
         "C0018824",
         "368009.0",
         "BMG_DG150446"
        ],
        [
         "14",
         "CHEBI:7627",
         "DB00717",
         "6230",
         "C0018824",
         "368009.0",
         "BMG_DG172605"
        ],
        [
         "15",
         "CHEBI:48669",
         "DB00302",
         "5526",
         "C0018824",
         "368009.0",
         "BMG_DG166762"
        ],
        [
         "16",
         "CHEBI:50785",
         "DB13866",
         "14687",
         "C0018824",
         "368009.0",
         "BMG_DG091947"
        ],
        [
         "16",
         "CHEBI:50785",
         "DB00823",
         "14687",
         "C0018824",
         "368009.0",
         "BMG_DG212127"
        ],
        [
         "17",
         "CHEBI:8059",
         "DB01579",
         "30487",
         "C0018824",
         "368009.0",
         "BMG_DG134762"
        ],
        [
         "18",
         "CHEBI:3286",
         "DB00248",
         "54746",
         "C0018824",
         "368009.0",
         "BMG_DG165901"
        ],
        [
         "19",
         "CHEBI:18295",
         "DB05381",
         "774",
         "C0018824",
         "368009.0",
         "BMG_DG198313"
        ],
        [
         "20",
         "CHEBI:17263",
         "DB00655",
         "5870",
         "C0018824",
         "368009.0",
         "BMG_DG169989"
        ],
        [
         "21",
         "CHEBI:32268",
         "DB13719",
         "11499",
         "C0018824",
         "368009.0",
         "BMG_DG011893;BMG_DG263550"
        ],
        [
         "22",
         "CHEBI:6076",
         "DB01167",
         "55283",
         "C0018824",
         "368009.0",
         "BMG_DG166780"
        ],
        [
         "23",
         "CHEBI:31607",
         "DB14491",
         "6433164",
         "C0018824",
         "368009.0",
         "BMG_DG174845"
        ],
        [
         "24",
         "CHEBI:50777",
         "DB00294",
         "6917715",
         "C0018824",
         "368009.0",
         "BMG_DG182550"
        ],
        [
         "25",
         "CHEBI:3044",
         "DB00865",
         "5311017",
         "C0018824",
         "368009.0",
         "BMG_DG157319"
        ],
        [
         "26",
         "CHEBI:45783",
         "DB00619",
         "5291",
         "C0018824",
         "368009.0",
         "BMG_DG155200"
        ],
        [
         "27",
         "CHEBI:4530",
         "DB00937",
         "7029",
         "C0018824",
         "368009.0",
         "BMG_DG184923"
        ],
        [
         "28",
         "CHEBI:9123",
         "DB01104",
         "68617",
         "C0520676",
         "596004.0",
         "BMG_DG181680"
        ],
        [
         "29",
         "CHEBI:5118",
         "DB00472",
         "3386",
         "C0520676",
         "596004.0",
         "BMG_DG137800"
        ],
        [
         "30",
         "CHEBI:16469",
         "DB00783",
         "5757",
         "C0520676",
         "596004.0",
         "BMG_DG169285"
        ],
        [
         "31",
         "CHEBI:4903",
         "DB00977",
         "5991",
         "C0520676",
         "596004.0",
         "BMG_DG170784"
        ],
        [
         "32",
         "CHEBI:50838",
         "DB01395",
         "68873",
         "C0520676",
         "596004.0",
         "BMG_DG182079"
        ],
        [
         "33",
         "CHEBI:136009",
         "DB11256",
         "135398561",
         "C0520676",
         "596004.0",
         "BMG_DG082051;BMG_DG145620"
        ],
        [
         "34",
         "CHEBI:7936",
         "DB00715",
         "43815",
         "C0520676",
         "596004.0",
         "BMG_DG142541"
        ],
        [
         "35",
         "CHEBI:2618",
         "DB00915",
         "2130",
         "C0022336",
         "792004.0",
         "BMG_DG116310"
        ],
        [
         "36",
         "CHEBI:31677,CHEBI:17650",
         "DB14545",
         "16623",
         "C0026857",
         "928000.0",
         "BMG_DG105252;BMG_DG264287"
        ],
        [
         "36",
         "CHEBI:31677,CHEBI:17650",
         "DB14545",
         "5754",
         "C0026857",
         "928000.0",
         "BMG_DG105252;BMG_DG264287"
        ],
        [
         "36",
         "CHEBI:31677,CHEBI:17650",
         "DB00741",
         "16623",
         "C0026857",
         "928000.0",
         "BMG_DG169268"
        ],
        [
         "36",
         "CHEBI:31677,CHEBI:17650",
         "DB00741",
         "5754",
         "C0026857",
         "928000.0",
         "BMG_DG169268"
        ],
        [
         "37",
         "CHEBI:9669,CHEBI:9667",
         "DB00620",
         "6216",
         "C0026857",
         "928000.0",
         "BMG_DG136179"
        ],
        [
         "37",
         "CHEBI:9669,CHEBI:9667",
         "DB00620",
         "31307",
         "C0026857",
         "928000.0",
         "BMG_DG136179"
        ],
        [
         "38",
         "CHEBI:8382",
         "DB00635",
         "5865",
         "C0026857",
         "928000.0",
         "BMG_DG169956"
        ],
        [
         "39",
         "CHEBI:3897",
         "DB01380",
         "5745",
         "C0026857",
         "928000.0",
         "BMG_DG168973"
        ],
        [
         "40",
         "CHEBI:8378",
         "DB00860",
         "5755",
         "C0026857",
         "928000.0",
         "BMG_DG169271"
        ],
        [
         "41",
         "CHEBI:6888",
         "DB00959",
         "6741",
         "C0026857",
         "928000.0",
         "BMG_DG180267"
        ],
        [
         "42",
         "CHEBI:17650",
         "DB00741",
         "5754",
         "C0026857",
         "928000.0",
         "BMG_DG169268"
        ]
       ],
       "shape": {
        "columns": 6,
        "rows": 50011
       }
      },
      "text/html": [
       "<div>\n",
       "<style scoped>\n",
       "    .dataframe tbody tr th:only-of-type {\n",
       "        vertical-align: middle;\n",
       "    }\n",
       "\n",
       "    .dataframe tbody tr th {\n",
       "        vertical-align: top;\n",
       "    }\n",
       "\n",
       "    .dataframe thead th {\n",
       "        text-align: right;\n",
       "    }\n",
       "</style>\n",
       "<table border=\"1\" class=\"dataframe\">\n",
       "  <thead>\n",
       "    <tr style=\"text-align: right;\">\n",
       "      <th></th>\n",
       "      <th>drug_chebi</th>\n",
       "      <th>drug_drugbank</th>\n",
       "      <th>drug_pubchem</th>\n",
       "      <th>disease_umls</th>\n",
       "      <th>disease_snomed</th>\n",
       "      <th>Drug_drugbank</th>\n",
       "    </tr>\n",
       "  </thead>\n",
       "  <tbody>\n",
       "    <tr>\n",
       "      <th>0</th>\n",
       "      <td>CHEBI:29007</td>\n",
       "      <td>DB01212</td>\n",
       "      <td>5479530</td>\n",
       "      <td>C0153225</td>\n",
       "      <td>151004.0</td>\n",
       "      <td>BMG_DG166076</td>\n",
       "    </tr>\n",
       "    <tr>\n",
       "      <th>1</th>\n",
       "      <td>CHEBI:3508</td>\n",
       "      <td>DB00438</td>\n",
       "      <td>5481173</td>\n",
       "      <td>C0153225</td>\n",
       "      <td>151004.0</td>\n",
       "      <td>BMG_DG166102</td>\n",
       "    </tr>\n",
       "    <tr>\n",
       "      <th>2</th>\n",
       "      <td>CHEBI:4453</td>\n",
       "      <td>DB00304</td>\n",
       "      <td>40973</td>\n",
       "      <td>C0018824</td>\n",
       "      <td>368009.0</td>\n",
       "      <td>BMG_DG141079</td>\n",
       "    </tr>\n",
       "    <tr>\n",
       "      <th>3</th>\n",
       "      <td>CHEBI:6443</td>\n",
       "      <td>DB00367</td>\n",
       "      <td>13109</td>\n",
       "      <td>C0018824</td>\n",
       "      <td>368009.0</td>\n",
       "      <td>BMG_DG025668</td>\n",
       "    </tr>\n",
       "    <tr>\n",
       "      <th>3</th>\n",
       "      <td>CHEBI:6443</td>\n",
       "      <td>DB09389</td>\n",
       "      <td>13109</td>\n",
       "      <td>C0018824</td>\n",
       "      <td>368009.0</td>\n",
       "      <td>BMG_DG148275</td>\n",
       "    </tr>\n",
       "    <tr>\n",
       "      <th>...</th>\n",
       "      <td>...</td>\n",
       "      <td>...</td>\n",
       "      <td>...</td>\n",
       "      <td>...</td>\n",
       "      <td>...</td>\n",
       "      <td>...</td>\n",
       "    </tr>\n",
       "    <tr>\n",
       "      <th>42302</th>\n",
       "      <td>CHEBI:3231</td>\n",
       "      <td>DB11148</td>\n",
       "      <td>2482</td>\n",
       "      <td>NaN</td>\n",
       "      <td>NaN</td>\n",
       "      <td>BMG_DG124868</td>\n",
       "    </tr>\n",
       "    <tr>\n",
       "      <th>42303</th>\n",
       "      <td>CHEBI:204734</td>\n",
       "      <td>DB01260</td>\n",
       "      <td>5311066</td>\n",
       "      <td>NaN</td>\n",
       "      <td>NaN</td>\n",
       "      <td>BMG_DG157342</td>\n",
       "    </tr>\n",
       "    <tr>\n",
       "      <th>42304</th>\n",
       "      <td>CHEBI:6532</td>\n",
       "      <td>DB00836</td>\n",
       "      <td>3955</td>\n",
       "      <td>NaN</td>\n",
       "      <td>NaN</td>\n",
       "      <td>BMG_DG140299</td>\n",
       "    </tr>\n",
       "    <tr>\n",
       "      <th>42305</th>\n",
       "      <td>CHEBI:49005</td>\n",
       "      <td>DB01609</td>\n",
       "      <td>214348</td>\n",
       "      <td>NaN</td>\n",
       "      <td>NaN</td>\n",
       "      <td>BMG_DG116501;BMG_DG166533</td>\n",
       "    </tr>\n",
       "    <tr>\n",
       "      <th>42306</th>\n",
       "      <td>CHEBI:38561</td>\n",
       "      <td>DB01095</td>\n",
       "      <td>23663976</td>\n",
       "      <td>NaN</td>\n",
       "      <td>NaN</td>\n",
       "      <td>BMG_DG095819</td>\n",
       "    </tr>\n",
       "  </tbody>\n",
       "</table>\n",
       "<p>50011 rows × 6 columns</p>\n",
       "</div>"
      ],
      "text/plain": [
       "         drug_chebi drug_drugbank drug_pubchem disease_umls  disease_snomed  \\\n",
       "0       CHEBI:29007       DB01212      5479530     C0153225        151004.0   \n",
       "1        CHEBI:3508       DB00438      5481173     C0153225        151004.0   \n",
       "2        CHEBI:4453       DB00304        40973     C0018824        368009.0   \n",
       "3        CHEBI:6443       DB00367        13109     C0018824        368009.0   \n",
       "3        CHEBI:6443       DB09389        13109     C0018824        368009.0   \n",
       "...             ...           ...          ...          ...             ...   \n",
       "42302    CHEBI:3231       DB11148         2482          NaN             NaN   \n",
       "42303  CHEBI:204734       DB01260      5311066          NaN             NaN   \n",
       "42304    CHEBI:6532       DB00836         3955          NaN             NaN   \n",
       "42305   CHEBI:49005       DB01609       214348          NaN             NaN   \n",
       "42306   CHEBI:38561       DB01095     23663976          NaN             NaN   \n",
       "\n",
       "                   Drug_drugbank  \n",
       "0                   BMG_DG166076  \n",
       "1                   BMG_DG166102  \n",
       "2                   BMG_DG141079  \n",
       "3                   BMG_DG025668  \n",
       "3                   BMG_DG148275  \n",
       "...                          ...  \n",
       "42302               BMG_DG124868  \n",
       "42303               BMG_DG157342  \n",
       "42304               BMG_DG140299  \n",
       "42305  BMG_DG116501;BMG_DG166533  \n",
       "42306               BMG_DG095819  \n",
       "\n",
       "[50011 rows x 6 columns]"
      ]
     },
     "execution_count": 8,
     "metadata": {},
     "output_type": "execute_result"
    }
   ],
   "source": [
    "db_id = biomedgraphica_drug[['DrugBank_ID', 'BioMedGraphica_ID']]\n",
    "db_id.dropna(subset=['DrugBank_ID'], inplace=True)\n",
    "db_id = db_id.assign(DrugBank_ID=db_id['DrugBank_ID'].str.split(';')).explode('DrugBank_ID')\n",
    "db_id['DrugBank_ID'] = db_id['DrugBank_ID'].str.strip()\n",
    "\n",
    "drugbank_to_individualid = db_id.groupby('DrugBank_ID')['BioMedGraphica_ID'].apply(lambda x: ';'.join(x.dropna().unique())).to_dict()\n",
    "df_split_all['Drug_drugbank'] = df_split_all['drug_drugbank'].astype(str).map(drugbank_to_individualid)\n",
    "df_split_all"
   ]
  },
  {
   "cell_type": "code",
   "execution_count": 9,
   "metadata": {},
   "outputs": [
    {
     "name": "stderr",
     "output_type": "stream",
     "text": [
      "C:\\Users\\shunn\\AppData\\Local\\Temp\\ipykernel_41780\\1704349814.py:2: SettingWithCopyWarning: \n",
      "A value is trying to be set on a copy of a slice from a DataFrame\n",
      "\n",
      "See the caveats in the documentation: https://pandas.pydata.org/pandas-docs/stable/user_guide/indexing.html#returning-a-view-versus-a-copy\n",
      "  cid_id.dropna(subset=['PubChem_CID'], inplace=True)\n",
      "C:\\Users\\shunn\\AppData\\Local\\Temp\\ipykernel_41780\\1704349814.py:3: SettingWithCopyWarning: \n",
      "A value is trying to be set on a copy of a slice from a DataFrame.\n",
      "Try using .loc[row_indexer,col_indexer] = value instead\n",
      "\n",
      "See the caveats in the documentation: https://pandas.pydata.org/pandas-docs/stable/user_guide/indexing.html#returning-a-view-versus-a-copy\n",
      "  cid_id['PubChem_CID'] = cid_id['PubChem_CID'].astype(str)\n"
     ]
    },
    {
     "data": {
      "application/vnd.microsoft.datawrangler.viewer.v0+json": {
       "columns": [
        {
         "name": "index",
         "rawType": "int64",
         "type": "integer"
        },
        {
         "name": "drug_chebi",
         "rawType": "object",
         "type": "unknown"
        },
        {
         "name": "drug_drugbank",
         "rawType": "object",
         "type": "unknown"
        },
        {
         "name": "drug_pubchem",
         "rawType": "object",
         "type": "unknown"
        },
        {
         "name": "disease_umls",
         "rawType": "object",
         "type": "unknown"
        },
        {
         "name": "disease_snomed",
         "rawType": "float64",
         "type": "float"
        },
        {
         "name": "Drug_drugbank",
         "rawType": "object",
         "type": "unknown"
        },
        {
         "name": "Drug_pubchem",
         "rawType": "object",
         "type": "unknown"
        }
       ],
       "conversionMethod": "pd.DataFrame",
       "ref": "8b8323c2-2e80-4128-8a11-f516d5d29273",
       "rows": [
        [
         "0",
         "CHEBI:29007",
         "DB01212",
         "5479530",
         "C0153225",
         "151004.0",
         "BMG_DG166076",
         "BMG_DG166076"
        ],
        [
         "1",
         "CHEBI:3508",
         "DB00438",
         "5481173",
         "C0153225",
         "151004.0",
         "BMG_DG166102",
         "BMG_DG166102"
        ],
        [
         "2",
         "CHEBI:4453",
         "DB00304",
         "40973",
         "C0018824",
         "368009.0",
         "BMG_DG141079",
         "BMG_DG141079"
        ],
        [
         "3",
         "CHEBI:6443",
         "DB00367",
         "13109",
         "C0018824",
         "368009.0",
         "BMG_DG025668",
         "BMG_DG025668"
        ],
        [
         "3",
         "CHEBI:6443",
         "DB09389",
         "13109",
         "C0018824",
         "368009.0",
         "BMG_DG148275",
         "BMG_DG025668"
        ],
        [
         "4",
         "CHEBI:50815",
         "DB00957",
         "6540478",
         "C0018824",
         "368009.0",
         "BMG_DG177495",
         "BMG_DG177495"
        ],
        [
         "5",
         "CHEBI:8068",
         "DB00830",
         "4762",
         "C0018824",
         "368009.0",
         "BMG_DG150417",
         "BMG_DG150417"
        ],
        [
         "6",
         "CHEBI:4903",
         "DB00977",
         "5991",
         "C0018824",
         "368009.0",
         "BMG_DG170784",
         "BMG_DG170784"
        ],
        [
         "7",
         "CHEBI:7628,CHEBI:7627",
         "DB00717",
         "5832",
         "C0018824",
         "368009.0",
         "BMG_DG172605",
         "BMG_DG169782"
        ],
        [
         "7",
         "CHEBI:7628,CHEBI:7627",
         "DB00717",
         "6230",
         "C0018824",
         "368009.0",
         "BMG_DG172605",
         "BMG_DG172605"
        ],
        [
         "8",
         "CHEBI:16469",
         "DB00783",
         "5757",
         "C0018824",
         "368009.0",
         "BMG_DG169285",
         "BMG_DG169285"
        ],
        [
         "9",
         "CHEBI:63617",
         "DB01186",
         "47811",
         "C0018824",
         "368009.0",
         "BMG_DG150465",
         "BMG_DG150465"
        ],
        [
         "10",
         "CHEBI:135398",
         "DB06713",
         "9568628",
         "C0018824",
         "368009.0",
         "BMG_DG173125",
         "BMG_DG214699"
        ],
        [
         "11",
         "CHEBI:3646",
         "DB01556",
         "10007",
         "C0018824",
         "368009.0",
         "BMG_DG000050",
         "BMG_DG000050"
        ],
        [
         "12",
         "CHEBI:6784",
         "DB01357",
         "6291",
         "C0018824",
         "368009.0",
         "BMG_DG173111",
         "BMG_DG173111"
        ],
        [
         "13",
         "CHEBI:8080",
         "DB00191",
         "4771",
         "C0018824",
         "368009.0",
         "BMG_DG150446",
         "BMG_DG150446"
        ],
        [
         "14",
         "CHEBI:7627",
         "DB00717",
         "6230",
         "C0018824",
         "368009.0",
         "BMG_DG172605",
         "BMG_DG172605"
        ],
        [
         "15",
         "CHEBI:48669",
         "DB00302",
         "5526",
         "C0018824",
         "368009.0",
         "BMG_DG166762",
         "BMG_DG166762"
        ],
        [
         "16",
         "CHEBI:50785",
         "DB13866",
         "14687",
         "C0018824",
         "368009.0",
         "BMG_DG091947",
         "BMG_DG091947"
        ],
        [
         "16",
         "CHEBI:50785",
         "DB00823",
         "14687",
         "C0018824",
         "368009.0",
         "BMG_DG212127",
         "BMG_DG091947"
        ],
        [
         "17",
         "CHEBI:8059",
         "DB01579",
         "30487",
         "C0018824",
         "368009.0",
         "BMG_DG134762",
         "BMG_DG134762"
        ],
        [
         "18",
         "CHEBI:3286",
         "DB00248",
         "54746",
         "C0018824",
         "368009.0",
         "BMG_DG165901",
         "BMG_DG165901"
        ],
        [
         "19",
         "CHEBI:18295",
         "DB05381",
         "774",
         "C0018824",
         "368009.0",
         "BMG_DG198313",
         "BMG_DG198313"
        ],
        [
         "20",
         "CHEBI:17263",
         "DB00655",
         "5870",
         "C0018824",
         "368009.0",
         "BMG_DG169989",
         "BMG_DG169989"
        ],
        [
         "21",
         "CHEBI:32268",
         "DB13719",
         "11499",
         "C0018824",
         "368009.0",
         "BMG_DG011893;BMG_DG263550",
         "BMG_DG011893"
        ],
        [
         "22",
         "CHEBI:6076",
         "DB01167",
         "55283",
         "C0018824",
         "368009.0",
         "BMG_DG166780",
         "BMG_DG166780"
        ],
        [
         "23",
         "CHEBI:31607",
         "DB14491",
         "6433164",
         "C0018824",
         "368009.0",
         "BMG_DG174845",
         "BMG_DG174845"
        ],
        [
         "24",
         "CHEBI:50777",
         "DB00294",
         "6917715",
         "C0018824",
         "368009.0",
         "BMG_DG182550",
         "BMG_DG182550"
        ],
        [
         "25",
         "CHEBI:3044",
         "DB00865",
         "5311017",
         "C0018824",
         "368009.0",
         "BMG_DG157319",
         "BMG_DG157319"
        ],
        [
         "26",
         "CHEBI:45783",
         "DB00619",
         "5291",
         "C0018824",
         "368009.0",
         "BMG_DG155200",
         "BMG_DG155200"
        ],
        [
         "27",
         "CHEBI:4530",
         "DB00937",
         "7029",
         "C0018824",
         "368009.0",
         "BMG_DG184923",
         "BMG_DG184923"
        ],
        [
         "28",
         "CHEBI:9123",
         "DB01104",
         "68617",
         "C0520676",
         "596004.0",
         "BMG_DG181680",
         "BMG_DG181680"
        ],
        [
         "29",
         "CHEBI:5118",
         "DB00472",
         "3386",
         "C0520676",
         "596004.0",
         "BMG_DG137800",
         "BMG_DG137800"
        ],
        [
         "30",
         "CHEBI:16469",
         "DB00783",
         "5757",
         "C0520676",
         "596004.0",
         "BMG_DG169285",
         "BMG_DG169285"
        ],
        [
         "31",
         "CHEBI:4903",
         "DB00977",
         "5991",
         "C0520676",
         "596004.0",
         "BMG_DG170784",
         "BMG_DG170784"
        ],
        [
         "32",
         "CHEBI:50838",
         "DB01395",
         "68873",
         "C0520676",
         "596004.0",
         "BMG_DG182079",
         "BMG_DG182079"
        ],
        [
         "33",
         "CHEBI:136009",
         "DB11256",
         "135398561",
         "C0520676",
         "596004.0",
         "BMG_DG082051;BMG_DG145620",
         "BMG_DG082051"
        ],
        [
         "34",
         "CHEBI:7936",
         "DB00715",
         "43815",
         "C0520676",
         "596004.0",
         "BMG_DG142541",
         "BMG_DG142541"
        ],
        [
         "35",
         "CHEBI:2618",
         "DB00915",
         "2130",
         "C0022336",
         "792004.0",
         "BMG_DG116310",
         "BMG_DG116310"
        ],
        [
         "36",
         "CHEBI:31677,CHEBI:17650",
         "DB14545",
         "16623",
         "C0026857",
         "928000.0",
         "BMG_DG105252;BMG_DG264287",
         "BMG_DG105252"
        ],
        [
         "36",
         "CHEBI:31677,CHEBI:17650",
         "DB14545",
         "5754",
         "C0026857",
         "928000.0",
         "BMG_DG105252;BMG_DG264287",
         "BMG_DG169268"
        ],
        [
         "36",
         "CHEBI:31677,CHEBI:17650",
         "DB00741",
         "16623",
         "C0026857",
         "928000.0",
         "BMG_DG169268",
         "BMG_DG105252"
        ],
        [
         "36",
         "CHEBI:31677,CHEBI:17650",
         "DB00741",
         "5754",
         "C0026857",
         "928000.0",
         "BMG_DG169268",
         "BMG_DG169268"
        ],
        [
         "37",
         "CHEBI:9669,CHEBI:9667",
         "DB00620",
         "6216",
         "C0026857",
         "928000.0",
         "BMG_DG136179",
         "BMG_DG172540"
        ],
        [
         "37",
         "CHEBI:9669,CHEBI:9667",
         "DB00620",
         "31307",
         "C0026857",
         "928000.0",
         "BMG_DG136179",
         "BMG_DG136179"
        ],
        [
         "38",
         "CHEBI:8382",
         "DB00635",
         "5865",
         "C0026857",
         "928000.0",
         "BMG_DG169956",
         "BMG_DG169956"
        ],
        [
         "39",
         "CHEBI:3897",
         "DB01380",
         "5745",
         "C0026857",
         "928000.0",
         "BMG_DG168973",
         "BMG_DG168973"
        ],
        [
         "40",
         "CHEBI:8378",
         "DB00860",
         "5755",
         "C0026857",
         "928000.0",
         "BMG_DG169271",
         "BMG_DG169271"
        ],
        [
         "41",
         "CHEBI:6888",
         "DB00959",
         "6741",
         "C0026857",
         "928000.0",
         "BMG_DG180267",
         "BMG_DG180267"
        ],
        [
         "42",
         "CHEBI:17650",
         "DB00741",
         "5754",
         "C0026857",
         "928000.0",
         "BMG_DG169268",
         "BMG_DG169268"
        ]
       ],
       "shape": {
        "columns": 7,
        "rows": 50011
       }
      },
      "text/html": [
       "<div>\n",
       "<style scoped>\n",
       "    .dataframe tbody tr th:only-of-type {\n",
       "        vertical-align: middle;\n",
       "    }\n",
       "\n",
       "    .dataframe tbody tr th {\n",
       "        vertical-align: top;\n",
       "    }\n",
       "\n",
       "    .dataframe thead th {\n",
       "        text-align: right;\n",
       "    }\n",
       "</style>\n",
       "<table border=\"1\" class=\"dataframe\">\n",
       "  <thead>\n",
       "    <tr style=\"text-align: right;\">\n",
       "      <th></th>\n",
       "      <th>drug_chebi</th>\n",
       "      <th>drug_drugbank</th>\n",
       "      <th>drug_pubchem</th>\n",
       "      <th>disease_umls</th>\n",
       "      <th>disease_snomed</th>\n",
       "      <th>Drug_drugbank</th>\n",
       "      <th>Drug_pubchem</th>\n",
       "    </tr>\n",
       "  </thead>\n",
       "  <tbody>\n",
       "    <tr>\n",
       "      <th>0</th>\n",
       "      <td>CHEBI:29007</td>\n",
       "      <td>DB01212</td>\n",
       "      <td>5479530</td>\n",
       "      <td>C0153225</td>\n",
       "      <td>151004.0</td>\n",
       "      <td>BMG_DG166076</td>\n",
       "      <td>BMG_DG166076</td>\n",
       "    </tr>\n",
       "    <tr>\n",
       "      <th>1</th>\n",
       "      <td>CHEBI:3508</td>\n",
       "      <td>DB00438</td>\n",
       "      <td>5481173</td>\n",
       "      <td>C0153225</td>\n",
       "      <td>151004.0</td>\n",
       "      <td>BMG_DG166102</td>\n",
       "      <td>BMG_DG166102</td>\n",
       "    </tr>\n",
       "    <tr>\n",
       "      <th>2</th>\n",
       "      <td>CHEBI:4453</td>\n",
       "      <td>DB00304</td>\n",
       "      <td>40973</td>\n",
       "      <td>C0018824</td>\n",
       "      <td>368009.0</td>\n",
       "      <td>BMG_DG141079</td>\n",
       "      <td>BMG_DG141079</td>\n",
       "    </tr>\n",
       "    <tr>\n",
       "      <th>3</th>\n",
       "      <td>CHEBI:6443</td>\n",
       "      <td>DB00367</td>\n",
       "      <td>13109</td>\n",
       "      <td>C0018824</td>\n",
       "      <td>368009.0</td>\n",
       "      <td>BMG_DG025668</td>\n",
       "      <td>BMG_DG025668</td>\n",
       "    </tr>\n",
       "    <tr>\n",
       "      <th>3</th>\n",
       "      <td>CHEBI:6443</td>\n",
       "      <td>DB09389</td>\n",
       "      <td>13109</td>\n",
       "      <td>C0018824</td>\n",
       "      <td>368009.0</td>\n",
       "      <td>BMG_DG148275</td>\n",
       "      <td>BMG_DG025668</td>\n",
       "    </tr>\n",
       "    <tr>\n",
       "      <th>...</th>\n",
       "      <td>...</td>\n",
       "      <td>...</td>\n",
       "      <td>...</td>\n",
       "      <td>...</td>\n",
       "      <td>...</td>\n",
       "      <td>...</td>\n",
       "      <td>...</td>\n",
       "    </tr>\n",
       "    <tr>\n",
       "      <th>42302</th>\n",
       "      <td>CHEBI:3231</td>\n",
       "      <td>DB11148</td>\n",
       "      <td>2482</td>\n",
       "      <td>NaN</td>\n",
       "      <td>NaN</td>\n",
       "      <td>BMG_DG124868</td>\n",
       "      <td>BMG_DG124868</td>\n",
       "    </tr>\n",
       "    <tr>\n",
       "      <th>42303</th>\n",
       "      <td>CHEBI:204734</td>\n",
       "      <td>DB01260</td>\n",
       "      <td>5311066</td>\n",
       "      <td>NaN</td>\n",
       "      <td>NaN</td>\n",
       "      <td>BMG_DG157342</td>\n",
       "      <td>BMG_DG157342</td>\n",
       "    </tr>\n",
       "    <tr>\n",
       "      <th>42304</th>\n",
       "      <td>CHEBI:6532</td>\n",
       "      <td>DB00836</td>\n",
       "      <td>3955</td>\n",
       "      <td>NaN</td>\n",
       "      <td>NaN</td>\n",
       "      <td>BMG_DG140299</td>\n",
       "      <td>BMG_DG140299</td>\n",
       "    </tr>\n",
       "    <tr>\n",
       "      <th>42305</th>\n",
       "      <td>CHEBI:49005</td>\n",
       "      <td>DB01609</td>\n",
       "      <td>214348</td>\n",
       "      <td>NaN</td>\n",
       "      <td>NaN</td>\n",
       "      <td>BMG_DG116501;BMG_DG166533</td>\n",
       "      <td>BMG_DG116501</td>\n",
       "    </tr>\n",
       "    <tr>\n",
       "      <th>42306</th>\n",
       "      <td>CHEBI:38561</td>\n",
       "      <td>DB01095</td>\n",
       "      <td>23663976</td>\n",
       "      <td>NaN</td>\n",
       "      <td>NaN</td>\n",
       "      <td>BMG_DG095819</td>\n",
       "      <td>BMG_DG121255</td>\n",
       "    </tr>\n",
       "  </tbody>\n",
       "</table>\n",
       "<p>50011 rows × 7 columns</p>\n",
       "</div>"
      ],
      "text/plain": [
       "         drug_chebi drug_drugbank drug_pubchem disease_umls  disease_snomed  \\\n",
       "0       CHEBI:29007       DB01212      5479530     C0153225        151004.0   \n",
       "1        CHEBI:3508       DB00438      5481173     C0153225        151004.0   \n",
       "2        CHEBI:4453       DB00304        40973     C0018824        368009.0   \n",
       "3        CHEBI:6443       DB00367        13109     C0018824        368009.0   \n",
       "3        CHEBI:6443       DB09389        13109     C0018824        368009.0   \n",
       "...             ...           ...          ...          ...             ...   \n",
       "42302    CHEBI:3231       DB11148         2482          NaN             NaN   \n",
       "42303  CHEBI:204734       DB01260      5311066          NaN             NaN   \n",
       "42304    CHEBI:6532       DB00836         3955          NaN             NaN   \n",
       "42305   CHEBI:49005       DB01609       214348          NaN             NaN   \n",
       "42306   CHEBI:38561       DB01095     23663976          NaN             NaN   \n",
       "\n",
       "                   Drug_drugbank  Drug_pubchem  \n",
       "0                   BMG_DG166076  BMG_DG166076  \n",
       "1                   BMG_DG166102  BMG_DG166102  \n",
       "2                   BMG_DG141079  BMG_DG141079  \n",
       "3                   BMG_DG025668  BMG_DG025668  \n",
       "3                   BMG_DG148275  BMG_DG025668  \n",
       "...                          ...           ...  \n",
       "42302               BMG_DG124868  BMG_DG124868  \n",
       "42303               BMG_DG157342  BMG_DG157342  \n",
       "42304               BMG_DG140299  BMG_DG140299  \n",
       "42305  BMG_DG116501;BMG_DG166533  BMG_DG116501  \n",
       "42306               BMG_DG095819  BMG_DG121255  \n",
       "\n",
       "[50011 rows x 7 columns]"
      ]
     },
     "execution_count": 9,
     "metadata": {},
     "output_type": "execute_result"
    }
   ],
   "source": [
    "cid_id = biomedgraphica_drug[['PubChem_CID', 'BioMedGraphica_ID']]\n",
    "cid_id.dropna(subset=['PubChem_CID'], inplace=True)\n",
    "cid_id['PubChem_CID'] = cid_id['PubChem_CID'].astype(str)\n",
    "cid_id = cid_id.assign(PubChem_CID=cid_id['PubChem_CID'].str.split(';')).explode('PubChem_CID')\n",
    "cid_id['PubChem_CID'] = cid_id['PubChem_CID'].str.strip()\n",
    "\n",
    "cid_to_individualid = cid_id.groupby('PubChem_CID')['BioMedGraphica_ID'].apply(lambda x: ';'.join(x.dropna().unique())).to_dict()\n",
    "df_split_all['Drug_pubchem'] = df_split_all['drug_pubchem'].astype(str).map(cid_to_individualid)\n",
    "df_split_all"
   ]
  },
  {
   "cell_type": "code",
   "execution_count": 10,
   "metadata": {},
   "outputs": [
    {
     "data": {
      "application/vnd.microsoft.datawrangler.viewer.v0+json": {
       "columns": [
        {
         "name": "index",
         "rawType": "int64",
         "type": "integer"
        },
        {
         "name": "drug_chebi",
         "rawType": "object",
         "type": "unknown"
        },
        {
         "name": "disease_umls",
         "rawType": "object",
         "type": "unknown"
        },
        {
         "name": "disease_snomed",
         "rawType": "float64",
         "type": "float"
        },
        {
         "name": "From_ID",
         "rawType": "object",
         "type": "string"
        }
       ],
       "conversionMethod": "pd.DataFrame",
       "ref": "7082ee4a-4bd7-4953-9caf-77050ced71c6",
       "rows": [
        [
         "0",
         "CHEBI:29007",
         "C0153225",
         "151004.0",
         "BMG_DG166076"
        ],
        [
         "1",
         "CHEBI:3508",
         "C0153225",
         "151004.0",
         "BMG_DG166102"
        ],
        [
         "2",
         "CHEBI:4453",
         "C0018824",
         "368009.0",
         "BMG_DG141079"
        ],
        [
         "3",
         "CHEBI:6443",
         "C0018824",
         "368009.0",
         "BMG_DG025668"
        ],
        [
         "3",
         "CHEBI:6443",
         "C0018824",
         "368009.0",
         "BMG_DG148275;BMG_DG025668"
        ],
        [
         "4",
         "CHEBI:50815",
         "C0018824",
         "368009.0",
         "BMG_DG177495"
        ],
        [
         "5",
         "CHEBI:8068",
         "C0018824",
         "368009.0",
         "BMG_DG150417"
        ],
        [
         "6",
         "CHEBI:4903",
         "C0018824",
         "368009.0",
         "BMG_DG170784"
        ],
        [
         "7",
         "CHEBI:7628,CHEBI:7627",
         "C0018824",
         "368009.0",
         "BMG_DG169782;BMG_DG172605"
        ],
        [
         "7",
         "CHEBI:7628,CHEBI:7627",
         "C0018824",
         "368009.0",
         "BMG_DG172605"
        ],
        [
         "8",
         "CHEBI:16469",
         "C0018824",
         "368009.0",
         "BMG_DG169285"
        ],
        [
         "9",
         "CHEBI:63617",
         "C0018824",
         "368009.0",
         "BMG_DG150465"
        ],
        [
         "10",
         "CHEBI:135398",
         "C0018824",
         "368009.0",
         "BMG_DG214699;BMG_DG173125"
        ],
        [
         "11",
         "CHEBI:3646",
         "C0018824",
         "368009.0",
         "BMG_DG000050"
        ],
        [
         "12",
         "CHEBI:6784",
         "C0018824",
         "368009.0",
         "BMG_DG173111"
        ],
        [
         "13",
         "CHEBI:8080",
         "C0018824",
         "368009.0",
         "BMG_DG150446"
        ],
        [
         "14",
         "CHEBI:7627",
         "C0018824",
         "368009.0",
         "BMG_DG172605"
        ],
        [
         "15",
         "CHEBI:48669",
         "C0018824",
         "368009.0",
         "BMG_DG166762"
        ],
        [
         "16",
         "CHEBI:50785",
         "C0018824",
         "368009.0",
         "BMG_DG091947"
        ],
        [
         "16",
         "CHEBI:50785",
         "C0018824",
         "368009.0",
         "BMG_DG212127;BMG_DG091947"
        ],
        [
         "17",
         "CHEBI:8059",
         "C0018824",
         "368009.0",
         "BMG_DG134762"
        ],
        [
         "18",
         "CHEBI:3286",
         "C0018824",
         "368009.0",
         "BMG_DG165901"
        ],
        [
         "19",
         "CHEBI:18295",
         "C0018824",
         "368009.0",
         "BMG_DG198313"
        ],
        [
         "20",
         "CHEBI:17263",
         "C0018824",
         "368009.0",
         "BMG_DG169989"
        ],
        [
         "21",
         "CHEBI:32268",
         "C0018824",
         "368009.0",
         "BMG_DG263550;BMG_DG011893"
        ],
        [
         "22",
         "CHEBI:6076",
         "C0018824",
         "368009.0",
         "BMG_DG166780"
        ],
        [
         "23",
         "CHEBI:31607",
         "C0018824",
         "368009.0",
         "BMG_DG174845"
        ],
        [
         "24",
         "CHEBI:50777",
         "C0018824",
         "368009.0",
         "BMG_DG182550"
        ],
        [
         "25",
         "CHEBI:3044",
         "C0018824",
         "368009.0",
         "BMG_DG157319"
        ],
        [
         "26",
         "CHEBI:45783",
         "C0018824",
         "368009.0",
         "BMG_DG155200"
        ],
        [
         "27",
         "CHEBI:4530",
         "C0018824",
         "368009.0",
         "BMG_DG184923"
        ],
        [
         "28",
         "CHEBI:9123",
         "C0520676",
         "596004.0",
         "BMG_DG181680"
        ],
        [
         "29",
         "CHEBI:5118",
         "C0520676",
         "596004.0",
         "BMG_DG137800"
        ],
        [
         "30",
         "CHEBI:16469",
         "C0520676",
         "596004.0",
         "BMG_DG169285"
        ],
        [
         "31",
         "CHEBI:4903",
         "C0520676",
         "596004.0",
         "BMG_DG170784"
        ],
        [
         "32",
         "CHEBI:50838",
         "C0520676",
         "596004.0",
         "BMG_DG182079"
        ],
        [
         "33",
         "CHEBI:136009",
         "C0520676",
         "596004.0",
         "BMG_DG145620;BMG_DG082051"
        ],
        [
         "34",
         "CHEBI:7936",
         "C0520676",
         "596004.0",
         "BMG_DG142541"
        ],
        [
         "35",
         "CHEBI:2618",
         "C0022336",
         "792004.0",
         "BMG_DG116310"
        ],
        [
         "36",
         "CHEBI:31677,CHEBI:17650",
         "C0026857",
         "928000.0",
         "BMG_DG105252;BMG_DG264287"
        ],
        [
         "36",
         "CHEBI:31677,CHEBI:17650",
         "C0026857",
         "928000.0",
         "BMG_DG105252;BMG_DG169268;BMG_DG264287"
        ],
        [
         "36",
         "CHEBI:31677,CHEBI:17650",
         "C0026857",
         "928000.0",
         "BMG_DG105252;BMG_DG169268"
        ],
        [
         "36",
         "CHEBI:31677,CHEBI:17650",
         "C0026857",
         "928000.0",
         "BMG_DG169268"
        ],
        [
         "37",
         "CHEBI:9669,CHEBI:9667",
         "C0026857",
         "928000.0",
         "BMG_DG172540;BMG_DG136179"
        ],
        [
         "37",
         "CHEBI:9669,CHEBI:9667",
         "C0026857",
         "928000.0",
         "BMG_DG136179"
        ],
        [
         "38",
         "CHEBI:8382",
         "C0026857",
         "928000.0",
         "BMG_DG169956"
        ],
        [
         "39",
         "CHEBI:3897",
         "C0026857",
         "928000.0",
         "BMG_DG168973"
        ],
        [
         "40",
         "CHEBI:8378",
         "C0026857",
         "928000.0",
         "BMG_DG169271"
        ],
        [
         "41",
         "CHEBI:6888",
         "C0026857",
         "928000.0",
         "BMG_DG180267"
        ],
        [
         "42",
         "CHEBI:17650",
         "C0026857",
         "928000.0",
         "BMG_DG169268"
        ]
       ],
       "shape": {
        "columns": 4,
        "rows": 50011
       }
      },
      "text/html": [
       "<div>\n",
       "<style scoped>\n",
       "    .dataframe tbody tr th:only-of-type {\n",
       "        vertical-align: middle;\n",
       "    }\n",
       "\n",
       "    .dataframe tbody tr th {\n",
       "        vertical-align: top;\n",
       "    }\n",
       "\n",
       "    .dataframe thead th {\n",
       "        text-align: right;\n",
       "    }\n",
       "</style>\n",
       "<table border=\"1\" class=\"dataframe\">\n",
       "  <thead>\n",
       "    <tr style=\"text-align: right;\">\n",
       "      <th></th>\n",
       "      <th>drug_chebi</th>\n",
       "      <th>disease_umls</th>\n",
       "      <th>disease_snomed</th>\n",
       "      <th>From_ID</th>\n",
       "    </tr>\n",
       "  </thead>\n",
       "  <tbody>\n",
       "    <tr>\n",
       "      <th>0</th>\n",
       "      <td>CHEBI:29007</td>\n",
       "      <td>C0153225</td>\n",
       "      <td>151004.0</td>\n",
       "      <td>BMG_DG166076</td>\n",
       "    </tr>\n",
       "    <tr>\n",
       "      <th>1</th>\n",
       "      <td>CHEBI:3508</td>\n",
       "      <td>C0153225</td>\n",
       "      <td>151004.0</td>\n",
       "      <td>BMG_DG166102</td>\n",
       "    </tr>\n",
       "    <tr>\n",
       "      <th>2</th>\n",
       "      <td>CHEBI:4453</td>\n",
       "      <td>C0018824</td>\n",
       "      <td>368009.0</td>\n",
       "      <td>BMG_DG141079</td>\n",
       "    </tr>\n",
       "    <tr>\n",
       "      <th>3</th>\n",
       "      <td>CHEBI:6443</td>\n",
       "      <td>C0018824</td>\n",
       "      <td>368009.0</td>\n",
       "      <td>BMG_DG025668</td>\n",
       "    </tr>\n",
       "    <tr>\n",
       "      <th>3</th>\n",
       "      <td>CHEBI:6443</td>\n",
       "      <td>C0018824</td>\n",
       "      <td>368009.0</td>\n",
       "      <td>BMG_DG148275;BMG_DG025668</td>\n",
       "    </tr>\n",
       "    <tr>\n",
       "      <th>...</th>\n",
       "      <td>...</td>\n",
       "      <td>...</td>\n",
       "      <td>...</td>\n",
       "      <td>...</td>\n",
       "    </tr>\n",
       "    <tr>\n",
       "      <th>42302</th>\n",
       "      <td>CHEBI:3231</td>\n",
       "      <td>NaN</td>\n",
       "      <td>NaN</td>\n",
       "      <td>BMG_DG124868</td>\n",
       "    </tr>\n",
       "    <tr>\n",
       "      <th>42303</th>\n",
       "      <td>CHEBI:204734</td>\n",
       "      <td>NaN</td>\n",
       "      <td>NaN</td>\n",
       "      <td>BMG_DG157342</td>\n",
       "    </tr>\n",
       "    <tr>\n",
       "      <th>42304</th>\n",
       "      <td>CHEBI:6532</td>\n",
       "      <td>NaN</td>\n",
       "      <td>NaN</td>\n",
       "      <td>BMG_DG140299</td>\n",
       "    </tr>\n",
       "    <tr>\n",
       "      <th>42305</th>\n",
       "      <td>CHEBI:49005</td>\n",
       "      <td>NaN</td>\n",
       "      <td>NaN</td>\n",
       "      <td>BMG_DG116501;BMG_DG166533</td>\n",
       "    </tr>\n",
       "    <tr>\n",
       "      <th>42306</th>\n",
       "      <td>CHEBI:38561</td>\n",
       "      <td>NaN</td>\n",
       "      <td>NaN</td>\n",
       "      <td>BMG_DG121255;BMG_DG095819</td>\n",
       "    </tr>\n",
       "  </tbody>\n",
       "</table>\n",
       "<p>50011 rows × 4 columns</p>\n",
       "</div>"
      ],
      "text/plain": [
       "         drug_chebi disease_umls  disease_snomed                    From_ID\n",
       "0       CHEBI:29007     C0153225        151004.0               BMG_DG166076\n",
       "1        CHEBI:3508     C0153225        151004.0               BMG_DG166102\n",
       "2        CHEBI:4453     C0018824        368009.0               BMG_DG141079\n",
       "3        CHEBI:6443     C0018824        368009.0               BMG_DG025668\n",
       "3        CHEBI:6443     C0018824        368009.0  BMG_DG148275;BMG_DG025668\n",
       "...             ...          ...             ...                        ...\n",
       "42302    CHEBI:3231          NaN             NaN               BMG_DG124868\n",
       "42303  CHEBI:204734          NaN             NaN               BMG_DG157342\n",
       "42304    CHEBI:6532          NaN             NaN               BMG_DG140299\n",
       "42305   CHEBI:49005          NaN             NaN  BMG_DG116501;BMG_DG166533\n",
       "42306   CHEBI:38561          NaN             NaN  BMG_DG121255;BMG_DG095819\n",
       "\n",
       "[50011 rows x 4 columns]"
      ]
     },
     "execution_count": 10,
     "metadata": {},
     "output_type": "execute_result"
    }
   ],
   "source": [
    "def merge_string_columns(df, columns, merge_name, separator=';'):\n",
    "    def merge_strings(row):\n",
    "        combined = set()\n",
    "        for column in columns:\n",
    "            if pd.notnull(row[column]):\n",
    "                combined.update(row[column].split(separator))\n",
    "        return separator.join(combined)\n",
    "    \n",
    "    # Apply the function to each row and create a new column\n",
    "    combined_column_name = merge_name\n",
    "    df[combined_column_name] = df.apply(merge_strings, axis=1)\n",
    "    df.drop(columns=columns, inplace=True)\n",
    "    \n",
    "    return df\n",
    "\n",
    "df_split_all = merge_string_columns(df_split_all, ['Drug_drugbank', 'Drug_pubchem'], 'From_ID')\n",
    "df_split_all.drop(columns=['drug_drugbank', 'drug_pubchem'], inplace=True)\n",
    "df_split_all"
   ]
  },
  {
   "cell_type": "code",
   "execution_count": 11,
   "metadata": {},
   "outputs": [
    {
     "name": "stderr",
     "output_type": "stream",
     "text": [
      "C:\\Users\\shunn\\AppData\\Local\\Temp\\ipykernel_41780\\705557728.py:2: SettingWithCopyWarning: \n",
      "A value is trying to be set on a copy of a slice from a DataFrame\n",
      "\n",
      "See the caveats in the documentation: https://pandas.pydata.org/pandas-docs/stable/user_guide/indexing.html#returning-a-view-versus-a-copy\n",
      "  umls_id.dropna(subset=['UMLS_ID'], inplace=True)\n"
     ]
    },
    {
     "data": {
      "application/vnd.microsoft.datawrangler.viewer.v0+json": {
       "columns": [
        {
         "name": "index",
         "rawType": "int64",
         "type": "integer"
        },
        {
         "name": "drug_chebi",
         "rawType": "object",
         "type": "unknown"
        },
        {
         "name": "disease_umls",
         "rawType": "object",
         "type": "unknown"
        },
        {
         "name": "disease_snomed",
         "rawType": "float64",
         "type": "float"
        },
        {
         "name": "From_ID",
         "rawType": "object",
         "type": "string"
        },
        {
         "name": "Disease_umls",
         "rawType": "object",
         "type": "unknown"
        }
       ],
       "conversionMethod": "pd.DataFrame",
       "ref": "75509756-e399-4cbc-bb62-183d312da0f4",
       "rows": [
        [
         "0",
         "CHEBI:29007",
         "C0153225",
         "151004.0",
         "BMG_DG166076",
         "BMG_DS004279"
        ],
        [
         "1",
         "CHEBI:3508",
         "C0153225",
         "151004.0",
         "BMG_DG166102",
         "BMG_DS004279"
        ],
        [
         "2",
         "CHEBI:4453",
         "C0018824",
         "368009.0",
         "BMG_DG141079",
         "BMG_DS001340"
        ],
        [
         "3",
         "CHEBI:6443",
         "C0018824",
         "368009.0",
         "BMG_DG025668",
         "BMG_DS001340"
        ],
        [
         "3",
         "CHEBI:6443",
         "C0018824",
         "368009.0",
         "BMG_DG148275;BMG_DG025668",
         "BMG_DS001340"
        ],
        [
         "4",
         "CHEBI:50815",
         "C0018824",
         "368009.0",
         "BMG_DG177495",
         "BMG_DS001340"
        ],
        [
         "5",
         "CHEBI:8068",
         "C0018824",
         "368009.0",
         "BMG_DG150417",
         "BMG_DS001340"
        ],
        [
         "6",
         "CHEBI:4903",
         "C0018824",
         "368009.0",
         "BMG_DG170784",
         "BMG_DS001340"
        ],
        [
         "7",
         "CHEBI:7628,CHEBI:7627",
         "C0018824",
         "368009.0",
         "BMG_DG169782;BMG_DG172605",
         "BMG_DS001340"
        ],
        [
         "7",
         "CHEBI:7628,CHEBI:7627",
         "C0018824",
         "368009.0",
         "BMG_DG172605",
         "BMG_DS001340"
        ],
        [
         "8",
         "CHEBI:16469",
         "C0018824",
         "368009.0",
         "BMG_DG169285",
         "BMG_DS001340"
        ],
        [
         "9",
         "CHEBI:63617",
         "C0018824",
         "368009.0",
         "BMG_DG150465",
         "BMG_DS001340"
        ],
        [
         "10",
         "CHEBI:135398",
         "C0018824",
         "368009.0",
         "BMG_DG214699;BMG_DG173125",
         "BMG_DS001340"
        ],
        [
         "11",
         "CHEBI:3646",
         "C0018824",
         "368009.0",
         "BMG_DG000050",
         "BMG_DS001340"
        ],
        [
         "12",
         "CHEBI:6784",
         "C0018824",
         "368009.0",
         "BMG_DG173111",
         "BMG_DS001340"
        ],
        [
         "13",
         "CHEBI:8080",
         "C0018824",
         "368009.0",
         "BMG_DG150446",
         "BMG_DS001340"
        ],
        [
         "14",
         "CHEBI:7627",
         "C0018824",
         "368009.0",
         "BMG_DG172605",
         "BMG_DS001340"
        ],
        [
         "15",
         "CHEBI:48669",
         "C0018824",
         "368009.0",
         "BMG_DG166762",
         "BMG_DS001340"
        ],
        [
         "16",
         "CHEBI:50785",
         "C0018824",
         "368009.0",
         "BMG_DG091947",
         "BMG_DS001340"
        ],
        [
         "16",
         "CHEBI:50785",
         "C0018824",
         "368009.0",
         "BMG_DG212127;BMG_DG091947",
         "BMG_DS001340"
        ],
        [
         "17",
         "CHEBI:8059",
         "C0018824",
         "368009.0",
         "BMG_DG134762",
         "BMG_DS001340"
        ],
        [
         "18",
         "CHEBI:3286",
         "C0018824",
         "368009.0",
         "BMG_DG165901",
         "BMG_DS001340"
        ],
        [
         "19",
         "CHEBI:18295",
         "C0018824",
         "368009.0",
         "BMG_DG198313",
         "BMG_DS001340"
        ],
        [
         "20",
         "CHEBI:17263",
         "C0018824",
         "368009.0",
         "BMG_DG169989",
         "BMG_DS001340"
        ],
        [
         "21",
         "CHEBI:32268",
         "C0018824",
         "368009.0",
         "BMG_DG263550;BMG_DG011893",
         "BMG_DS001340"
        ],
        [
         "22",
         "CHEBI:6076",
         "C0018824",
         "368009.0",
         "BMG_DG166780",
         "BMG_DS001340"
        ],
        [
         "23",
         "CHEBI:31607",
         "C0018824",
         "368009.0",
         "BMG_DG174845",
         "BMG_DS001340"
        ],
        [
         "24",
         "CHEBI:50777",
         "C0018824",
         "368009.0",
         "BMG_DG182550",
         "BMG_DS001340"
        ],
        [
         "25",
         "CHEBI:3044",
         "C0018824",
         "368009.0",
         "BMG_DG157319",
         "BMG_DS001340"
        ],
        [
         "26",
         "CHEBI:45783",
         "C0018824",
         "368009.0",
         "BMG_DG155200",
         "BMG_DS001340"
        ],
        [
         "27",
         "CHEBI:4530",
         "C0018824",
         "368009.0",
         "BMG_DG184923",
         "BMG_DS001340"
        ],
        [
         "28",
         "CHEBI:9123",
         "C0520676",
         "596004.0",
         "BMG_DG181680",
         null
        ],
        [
         "29",
         "CHEBI:5118",
         "C0520676",
         "596004.0",
         "BMG_DG137800",
         null
        ],
        [
         "30",
         "CHEBI:16469",
         "C0520676",
         "596004.0",
         "BMG_DG169285",
         null
        ],
        [
         "31",
         "CHEBI:4903",
         "C0520676",
         "596004.0",
         "BMG_DG170784",
         null
        ],
        [
         "32",
         "CHEBI:50838",
         "C0520676",
         "596004.0",
         "BMG_DG182079",
         null
        ],
        [
         "33",
         "CHEBI:136009",
         "C0520676",
         "596004.0",
         "BMG_DG145620;BMG_DG082051",
         null
        ],
        [
         "34",
         "CHEBI:7936",
         "C0520676",
         "596004.0",
         "BMG_DG142541",
         null
        ],
        [
         "35",
         "CHEBI:2618",
         "C0022336",
         "792004.0",
         "BMG_DG116310",
         "BMG_DS001647"
        ],
        [
         "36",
         "CHEBI:31677,CHEBI:17650",
         "C0026857",
         "928000.0",
         "BMG_DG105252;BMG_DG264287",
         "BMG_DS002064"
        ],
        [
         "36",
         "CHEBI:31677,CHEBI:17650",
         "C0026857",
         "928000.0",
         "BMG_DG105252;BMG_DG169268;BMG_DG264287",
         "BMG_DS002064"
        ],
        [
         "36",
         "CHEBI:31677,CHEBI:17650",
         "C0026857",
         "928000.0",
         "BMG_DG105252;BMG_DG169268",
         "BMG_DS002064"
        ],
        [
         "36",
         "CHEBI:31677,CHEBI:17650",
         "C0026857",
         "928000.0",
         "BMG_DG169268",
         "BMG_DS002064"
        ],
        [
         "37",
         "CHEBI:9669,CHEBI:9667",
         "C0026857",
         "928000.0",
         "BMG_DG172540;BMG_DG136179",
         "BMG_DS002064"
        ],
        [
         "37",
         "CHEBI:9669,CHEBI:9667",
         "C0026857",
         "928000.0",
         "BMG_DG136179",
         "BMG_DS002064"
        ],
        [
         "38",
         "CHEBI:8382",
         "C0026857",
         "928000.0",
         "BMG_DG169956",
         "BMG_DS002064"
        ],
        [
         "39",
         "CHEBI:3897",
         "C0026857",
         "928000.0",
         "BMG_DG168973",
         "BMG_DS002064"
        ],
        [
         "40",
         "CHEBI:8378",
         "C0026857",
         "928000.0",
         "BMG_DG169271",
         "BMG_DS002064"
        ],
        [
         "41",
         "CHEBI:6888",
         "C0026857",
         "928000.0",
         "BMG_DG180267",
         "BMG_DS002064"
        ],
        [
         "42",
         "CHEBI:17650",
         "C0026857",
         "928000.0",
         "BMG_DG169268",
         "BMG_DS002064"
        ]
       ],
       "shape": {
        "columns": 5,
        "rows": 50011
       }
      },
      "text/html": [
       "<div>\n",
       "<style scoped>\n",
       "    .dataframe tbody tr th:only-of-type {\n",
       "        vertical-align: middle;\n",
       "    }\n",
       "\n",
       "    .dataframe tbody tr th {\n",
       "        vertical-align: top;\n",
       "    }\n",
       "\n",
       "    .dataframe thead th {\n",
       "        text-align: right;\n",
       "    }\n",
       "</style>\n",
       "<table border=\"1\" class=\"dataframe\">\n",
       "  <thead>\n",
       "    <tr style=\"text-align: right;\">\n",
       "      <th></th>\n",
       "      <th>drug_chebi</th>\n",
       "      <th>disease_umls</th>\n",
       "      <th>disease_snomed</th>\n",
       "      <th>From_ID</th>\n",
       "      <th>Disease_umls</th>\n",
       "    </tr>\n",
       "  </thead>\n",
       "  <tbody>\n",
       "    <tr>\n",
       "      <th>0</th>\n",
       "      <td>CHEBI:29007</td>\n",
       "      <td>C0153225</td>\n",
       "      <td>151004.0</td>\n",
       "      <td>BMG_DG166076</td>\n",
       "      <td>BMG_DS004279</td>\n",
       "    </tr>\n",
       "    <tr>\n",
       "      <th>1</th>\n",
       "      <td>CHEBI:3508</td>\n",
       "      <td>C0153225</td>\n",
       "      <td>151004.0</td>\n",
       "      <td>BMG_DG166102</td>\n",
       "      <td>BMG_DS004279</td>\n",
       "    </tr>\n",
       "    <tr>\n",
       "      <th>2</th>\n",
       "      <td>CHEBI:4453</td>\n",
       "      <td>C0018824</td>\n",
       "      <td>368009.0</td>\n",
       "      <td>BMG_DG141079</td>\n",
       "      <td>BMG_DS001340</td>\n",
       "    </tr>\n",
       "    <tr>\n",
       "      <th>3</th>\n",
       "      <td>CHEBI:6443</td>\n",
       "      <td>C0018824</td>\n",
       "      <td>368009.0</td>\n",
       "      <td>BMG_DG025668</td>\n",
       "      <td>BMG_DS001340</td>\n",
       "    </tr>\n",
       "    <tr>\n",
       "      <th>3</th>\n",
       "      <td>CHEBI:6443</td>\n",
       "      <td>C0018824</td>\n",
       "      <td>368009.0</td>\n",
       "      <td>BMG_DG148275;BMG_DG025668</td>\n",
       "      <td>BMG_DS001340</td>\n",
       "    </tr>\n",
       "    <tr>\n",
       "      <th>...</th>\n",
       "      <td>...</td>\n",
       "      <td>...</td>\n",
       "      <td>...</td>\n",
       "      <td>...</td>\n",
       "      <td>...</td>\n",
       "    </tr>\n",
       "    <tr>\n",
       "      <th>42302</th>\n",
       "      <td>CHEBI:3231</td>\n",
       "      <td>NaN</td>\n",
       "      <td>NaN</td>\n",
       "      <td>BMG_DG124868</td>\n",
       "      <td>NaN</td>\n",
       "    </tr>\n",
       "    <tr>\n",
       "      <th>42303</th>\n",
       "      <td>CHEBI:204734</td>\n",
       "      <td>NaN</td>\n",
       "      <td>NaN</td>\n",
       "      <td>BMG_DG157342</td>\n",
       "      <td>NaN</td>\n",
       "    </tr>\n",
       "    <tr>\n",
       "      <th>42304</th>\n",
       "      <td>CHEBI:6532</td>\n",
       "      <td>NaN</td>\n",
       "      <td>NaN</td>\n",
       "      <td>BMG_DG140299</td>\n",
       "      <td>NaN</td>\n",
       "    </tr>\n",
       "    <tr>\n",
       "      <th>42305</th>\n",
       "      <td>CHEBI:49005</td>\n",
       "      <td>NaN</td>\n",
       "      <td>NaN</td>\n",
       "      <td>BMG_DG116501;BMG_DG166533</td>\n",
       "      <td>NaN</td>\n",
       "    </tr>\n",
       "    <tr>\n",
       "      <th>42306</th>\n",
       "      <td>CHEBI:38561</td>\n",
       "      <td>NaN</td>\n",
       "      <td>NaN</td>\n",
       "      <td>BMG_DG121255;BMG_DG095819</td>\n",
       "      <td>NaN</td>\n",
       "    </tr>\n",
       "  </tbody>\n",
       "</table>\n",
       "<p>50011 rows × 5 columns</p>\n",
       "</div>"
      ],
      "text/plain": [
       "         drug_chebi disease_umls  disease_snomed                    From_ID  \\\n",
       "0       CHEBI:29007     C0153225        151004.0               BMG_DG166076   \n",
       "1        CHEBI:3508     C0153225        151004.0               BMG_DG166102   \n",
       "2        CHEBI:4453     C0018824        368009.0               BMG_DG141079   \n",
       "3        CHEBI:6443     C0018824        368009.0               BMG_DG025668   \n",
       "3        CHEBI:6443     C0018824        368009.0  BMG_DG148275;BMG_DG025668   \n",
       "...             ...          ...             ...                        ...   \n",
       "42302    CHEBI:3231          NaN             NaN               BMG_DG124868   \n",
       "42303  CHEBI:204734          NaN             NaN               BMG_DG157342   \n",
       "42304    CHEBI:6532          NaN             NaN               BMG_DG140299   \n",
       "42305   CHEBI:49005          NaN             NaN  BMG_DG116501;BMG_DG166533   \n",
       "42306   CHEBI:38561          NaN             NaN  BMG_DG121255;BMG_DG095819   \n",
       "\n",
       "       Disease_umls  \n",
       "0      BMG_DS004279  \n",
       "1      BMG_DS004279  \n",
       "2      BMG_DS001340  \n",
       "3      BMG_DS001340  \n",
       "3      BMG_DS001340  \n",
       "...             ...  \n",
       "42302           NaN  \n",
       "42303           NaN  \n",
       "42304           NaN  \n",
       "42305           NaN  \n",
       "42306           NaN  \n",
       "\n",
       "[50011 rows x 5 columns]"
      ]
     },
     "execution_count": 11,
     "metadata": {},
     "output_type": "execute_result"
    }
   ],
   "source": [
    "umls_id = biomedgraphica_disease[['UMLS_ID', 'BioMedGraphica_ID']]\n",
    "umls_id.dropna(subset=['UMLS_ID'], inplace=True)\n",
    "umls_id = umls_id.assign(UMLS_ID=umls_id['UMLS_ID'].str.split(';')).explode('UMLS_ID')\n",
    "umls_id['UMLS_ID'] = umls_id['UMLS_ID'].str.strip()\n",
    "\n",
    "umls_to_individualid = umls_id.groupby('UMLS_ID')['BioMedGraphica_ID'].apply(lambda x: ';'.join(x.dropna().unique())).to_dict()\n",
    "df_split_all['Disease_umls'] = df_split_all['disease_umls'].astype(str).map(umls_to_individualid)\n",
    "df_split_all"
   ]
  },
  {
   "cell_type": "code",
   "execution_count": 12,
   "metadata": {},
   "outputs": [
    {
     "name": "stdout",
     "output_type": "stream",
     "text": [
      "<class 'pandas.core.frame.DataFrame'>\n",
      "RangeIndex: 118814 entries, 0 to 118813\n",
      "Data columns (total 15 columns):\n",
      " #   Column             Non-Null Count   Dtype \n",
      "---  ------             --------------   ----- \n",
      " 0   BioMedGraphica_ID  118814 non-null  object\n",
      " 1   SNOMEDCT_ID        44458 non-null   object\n",
      " 2   UMLS_Name          69361 non-null   object\n",
      " 3   MeSH_Name          7156 non-null    object\n",
      " 4   ICD11_ID           40690 non-null   object\n",
      " 5   ICD11_Title        40585 non-null   object\n",
      " 6   ICD10_ID           21931 non-null   object\n",
      " 7   DO_ID              10689 non-null   object\n",
      " 8   DO_Name            10689 non-null   object\n",
      " 9   UMLS_ID            77484 non-null   object\n",
      " 10  MeSH_ID            12485 non-null   object\n",
      " 11  OMIM_ID            12902 non-null   object\n",
      " 12  MONDO_ID           21598 non-null   object\n",
      " 13  MONDO_Name         21598 non-null   object\n",
      " 14  SNOMEDCT_Name      44458 non-null   object\n",
      "dtypes: object(15)\n",
      "memory usage: 13.6+ MB\n"
     ]
    }
   ],
   "source": [
    "biomedgraphica_disease.info()"
   ]
  },
  {
   "cell_type": "code",
   "execution_count": 13,
   "metadata": {},
   "outputs": [
    {
     "name": "stderr",
     "output_type": "stream",
     "text": [
      "C:\\Users\\shunn\\AppData\\Local\\Temp\\ipykernel_41780\\567741617.py:2: SettingWithCopyWarning: \n",
      "A value is trying to be set on a copy of a slice from a DataFrame\n",
      "\n",
      "See the caveats in the documentation: https://pandas.pydata.org/pandas-docs/stable/user_guide/indexing.html#returning-a-view-versus-a-copy\n",
      "  snomed_id.dropna(subset=['SNOMEDCT_ID'], inplace=True)\n"
     ]
    },
    {
     "data": {
      "application/vnd.microsoft.datawrangler.viewer.v0+json": {
       "columns": [
        {
         "name": "index",
         "rawType": "int64",
         "type": "integer"
        },
        {
         "name": "drug_chebi",
         "rawType": "object",
         "type": "unknown"
        },
        {
         "name": "disease_umls",
         "rawType": "object",
         "type": "unknown"
        },
        {
         "name": "disease_snomed",
         "rawType": "object",
         "type": "string"
        },
        {
         "name": "From_ID",
         "rawType": "object",
         "type": "string"
        },
        {
         "name": "To_ID",
         "rawType": "object",
         "type": "string"
        }
       ],
       "conversionMethod": "pd.DataFrame",
       "ref": "7eb4d61e-c6db-4ec6-88c2-1b235fe5ac05",
       "rows": [
        [
         "0",
         "CHEBI:29007",
         "C0153225",
         "151004",
         "BMG_DG166076",
         "BMG_DS004279"
        ],
        [
         "1",
         "CHEBI:3508",
         "C0153225",
         "151004",
         "BMG_DG166102",
         "BMG_DS004279"
        ],
        [
         "2",
         "CHEBI:4453",
         "C0018824",
         "368009",
         "BMG_DG141079",
         "BMG_DS001340"
        ],
        [
         "3",
         "CHEBI:6443",
         "C0018824",
         "368009",
         "BMG_DG025668",
         "BMG_DS001340"
        ],
        [
         "3",
         "CHEBI:6443",
         "C0018824",
         "368009",
         "BMG_DG148275;BMG_DG025668",
         "BMG_DS001340"
        ],
        [
         "4",
         "CHEBI:50815",
         "C0018824",
         "368009",
         "BMG_DG177495",
         "BMG_DS001340"
        ],
        [
         "5",
         "CHEBI:8068",
         "C0018824",
         "368009",
         "BMG_DG150417",
         "BMG_DS001340"
        ],
        [
         "6",
         "CHEBI:4903",
         "C0018824",
         "368009",
         "BMG_DG170784",
         "BMG_DS001340"
        ],
        [
         "7",
         "CHEBI:7628,CHEBI:7627",
         "C0018824",
         "368009",
         "BMG_DG169782;BMG_DG172605",
         "BMG_DS001340"
        ],
        [
         "7",
         "CHEBI:7628,CHEBI:7627",
         "C0018824",
         "368009",
         "BMG_DG172605",
         "BMG_DS001340"
        ],
        [
         "8",
         "CHEBI:16469",
         "C0018824",
         "368009",
         "BMG_DG169285",
         "BMG_DS001340"
        ],
        [
         "9",
         "CHEBI:63617",
         "C0018824",
         "368009",
         "BMG_DG150465",
         "BMG_DS001340"
        ],
        [
         "10",
         "CHEBI:135398",
         "C0018824",
         "368009",
         "BMG_DG214699;BMG_DG173125",
         "BMG_DS001340"
        ],
        [
         "11",
         "CHEBI:3646",
         "C0018824",
         "368009",
         "BMG_DG000050",
         "BMG_DS001340"
        ],
        [
         "12",
         "CHEBI:6784",
         "C0018824",
         "368009",
         "BMG_DG173111",
         "BMG_DS001340"
        ],
        [
         "13",
         "CHEBI:8080",
         "C0018824",
         "368009",
         "BMG_DG150446",
         "BMG_DS001340"
        ],
        [
         "14",
         "CHEBI:7627",
         "C0018824",
         "368009",
         "BMG_DG172605",
         "BMG_DS001340"
        ],
        [
         "15",
         "CHEBI:48669",
         "C0018824",
         "368009",
         "BMG_DG166762",
         "BMG_DS001340"
        ],
        [
         "16",
         "CHEBI:50785",
         "C0018824",
         "368009",
         "BMG_DG091947",
         "BMG_DS001340"
        ],
        [
         "16",
         "CHEBI:50785",
         "C0018824",
         "368009",
         "BMG_DG212127;BMG_DG091947",
         "BMG_DS001340"
        ],
        [
         "17",
         "CHEBI:8059",
         "C0018824",
         "368009",
         "BMG_DG134762",
         "BMG_DS001340"
        ],
        [
         "18",
         "CHEBI:3286",
         "C0018824",
         "368009",
         "BMG_DG165901",
         "BMG_DS001340"
        ],
        [
         "19",
         "CHEBI:18295",
         "C0018824",
         "368009",
         "BMG_DG198313",
         "BMG_DS001340"
        ],
        [
         "20",
         "CHEBI:17263",
         "C0018824",
         "368009",
         "BMG_DG169989",
         "BMG_DS001340"
        ],
        [
         "21",
         "CHEBI:32268",
         "C0018824",
         "368009",
         "BMG_DG263550;BMG_DG011893",
         "BMG_DS001340"
        ],
        [
         "22",
         "CHEBI:6076",
         "C0018824",
         "368009",
         "BMG_DG166780",
         "BMG_DS001340"
        ],
        [
         "23",
         "CHEBI:31607",
         "C0018824",
         "368009",
         "BMG_DG174845",
         "BMG_DS001340"
        ],
        [
         "24",
         "CHEBI:50777",
         "C0018824",
         "368009",
         "BMG_DG182550",
         "BMG_DS001340"
        ],
        [
         "25",
         "CHEBI:3044",
         "C0018824",
         "368009",
         "BMG_DG157319",
         "BMG_DS001340"
        ],
        [
         "26",
         "CHEBI:45783",
         "C0018824",
         "368009",
         "BMG_DG155200",
         "BMG_DS001340"
        ],
        [
         "27",
         "CHEBI:4530",
         "C0018824",
         "368009",
         "BMG_DG184923",
         "BMG_DS001340"
        ],
        [
         "28",
         "CHEBI:9123",
         "C0520676",
         "596004",
         "BMG_DG181680",
         ""
        ],
        [
         "29",
         "CHEBI:5118",
         "C0520676",
         "596004",
         "BMG_DG137800",
         ""
        ],
        [
         "30",
         "CHEBI:16469",
         "C0520676",
         "596004",
         "BMG_DG169285",
         ""
        ],
        [
         "31",
         "CHEBI:4903",
         "C0520676",
         "596004",
         "BMG_DG170784",
         ""
        ],
        [
         "32",
         "CHEBI:50838",
         "C0520676",
         "596004",
         "BMG_DG182079",
         ""
        ],
        [
         "33",
         "CHEBI:136009",
         "C0520676",
         "596004",
         "BMG_DG145620;BMG_DG082051",
         ""
        ],
        [
         "34",
         "CHEBI:7936",
         "C0520676",
         "596004",
         "BMG_DG142541",
         ""
        ],
        [
         "35",
         "CHEBI:2618",
         "C0022336",
         "792004",
         "BMG_DG116310",
         "BMG_DS001647"
        ],
        [
         "36",
         "CHEBI:31677,CHEBI:17650",
         "C0026857",
         "928000",
         "BMG_DG105252;BMG_DG264287",
         "BMG_DS002064"
        ],
        [
         "36",
         "CHEBI:31677,CHEBI:17650",
         "C0026857",
         "928000",
         "BMG_DG105252;BMG_DG169268;BMG_DG264287",
         "BMG_DS002064"
        ],
        [
         "36",
         "CHEBI:31677,CHEBI:17650",
         "C0026857",
         "928000",
         "BMG_DG105252;BMG_DG169268",
         "BMG_DS002064"
        ],
        [
         "36",
         "CHEBI:31677,CHEBI:17650",
         "C0026857",
         "928000",
         "BMG_DG169268",
         "BMG_DS002064"
        ],
        [
         "37",
         "CHEBI:9669,CHEBI:9667",
         "C0026857",
         "928000",
         "BMG_DG172540;BMG_DG136179",
         "BMG_DS002064"
        ],
        [
         "37",
         "CHEBI:9669,CHEBI:9667",
         "C0026857",
         "928000",
         "BMG_DG136179",
         "BMG_DS002064"
        ],
        [
         "38",
         "CHEBI:8382",
         "C0026857",
         "928000",
         "BMG_DG169956",
         "BMG_DS002064"
        ],
        [
         "39",
         "CHEBI:3897",
         "C0026857",
         "928000",
         "BMG_DG168973",
         "BMG_DS002064"
        ],
        [
         "40",
         "CHEBI:8378",
         "C0026857",
         "928000",
         "BMG_DG169271",
         "BMG_DS002064"
        ],
        [
         "41",
         "CHEBI:6888",
         "C0026857",
         "928000",
         "BMG_DG180267",
         "BMG_DS002064"
        ],
        [
         "42",
         "CHEBI:17650",
         "C0026857",
         "928000",
         "BMG_DG169268",
         "BMG_DS002064"
        ]
       ],
       "shape": {
        "columns": 5,
        "rows": 50011
       }
      },
      "text/html": [
       "<div>\n",
       "<style scoped>\n",
       "    .dataframe tbody tr th:only-of-type {\n",
       "        vertical-align: middle;\n",
       "    }\n",
       "\n",
       "    .dataframe tbody tr th {\n",
       "        vertical-align: top;\n",
       "    }\n",
       "\n",
       "    .dataframe thead th {\n",
       "        text-align: right;\n",
       "    }\n",
       "</style>\n",
       "<table border=\"1\" class=\"dataframe\">\n",
       "  <thead>\n",
       "    <tr style=\"text-align: right;\">\n",
       "      <th></th>\n",
       "      <th>drug_chebi</th>\n",
       "      <th>disease_umls</th>\n",
       "      <th>disease_snomed</th>\n",
       "      <th>From_ID</th>\n",
       "      <th>To_ID</th>\n",
       "    </tr>\n",
       "  </thead>\n",
       "  <tbody>\n",
       "    <tr>\n",
       "      <th>0</th>\n",
       "      <td>CHEBI:29007</td>\n",
       "      <td>C0153225</td>\n",
       "      <td>151004</td>\n",
       "      <td>BMG_DG166076</td>\n",
       "      <td>BMG_DS004279</td>\n",
       "    </tr>\n",
       "    <tr>\n",
       "      <th>1</th>\n",
       "      <td>CHEBI:3508</td>\n",
       "      <td>C0153225</td>\n",
       "      <td>151004</td>\n",
       "      <td>BMG_DG166102</td>\n",
       "      <td>BMG_DS004279</td>\n",
       "    </tr>\n",
       "    <tr>\n",
       "      <th>2</th>\n",
       "      <td>CHEBI:4453</td>\n",
       "      <td>C0018824</td>\n",
       "      <td>368009</td>\n",
       "      <td>BMG_DG141079</td>\n",
       "      <td>BMG_DS001340</td>\n",
       "    </tr>\n",
       "    <tr>\n",
       "      <th>3</th>\n",
       "      <td>CHEBI:6443</td>\n",
       "      <td>C0018824</td>\n",
       "      <td>368009</td>\n",
       "      <td>BMG_DG025668</td>\n",
       "      <td>BMG_DS001340</td>\n",
       "    </tr>\n",
       "    <tr>\n",
       "      <th>3</th>\n",
       "      <td>CHEBI:6443</td>\n",
       "      <td>C0018824</td>\n",
       "      <td>368009</td>\n",
       "      <td>BMG_DG148275;BMG_DG025668</td>\n",
       "      <td>BMG_DS001340</td>\n",
       "    </tr>\n",
       "    <tr>\n",
       "      <th>...</th>\n",
       "      <td>...</td>\n",
       "      <td>...</td>\n",
       "      <td>...</td>\n",
       "      <td>...</td>\n",
       "      <td>...</td>\n",
       "    </tr>\n",
       "    <tr>\n",
       "      <th>42302</th>\n",
       "      <td>CHEBI:3231</td>\n",
       "      <td>NaN</td>\n",
       "      <td>0</td>\n",
       "      <td>BMG_DG124868</td>\n",
       "      <td></td>\n",
       "    </tr>\n",
       "    <tr>\n",
       "      <th>42303</th>\n",
       "      <td>CHEBI:204734</td>\n",
       "      <td>NaN</td>\n",
       "      <td>0</td>\n",
       "      <td>BMG_DG157342</td>\n",
       "      <td></td>\n",
       "    </tr>\n",
       "    <tr>\n",
       "      <th>42304</th>\n",
       "      <td>CHEBI:6532</td>\n",
       "      <td>NaN</td>\n",
       "      <td>0</td>\n",
       "      <td>BMG_DG140299</td>\n",
       "      <td></td>\n",
       "    </tr>\n",
       "    <tr>\n",
       "      <th>42305</th>\n",
       "      <td>CHEBI:49005</td>\n",
       "      <td>NaN</td>\n",
       "      <td>0</td>\n",
       "      <td>BMG_DG116501;BMG_DG166533</td>\n",
       "      <td></td>\n",
       "    </tr>\n",
       "    <tr>\n",
       "      <th>42306</th>\n",
       "      <td>CHEBI:38561</td>\n",
       "      <td>NaN</td>\n",
       "      <td>0</td>\n",
       "      <td>BMG_DG121255;BMG_DG095819</td>\n",
       "      <td></td>\n",
       "    </tr>\n",
       "  </tbody>\n",
       "</table>\n",
       "<p>50011 rows × 5 columns</p>\n",
       "</div>"
      ],
      "text/plain": [
       "         drug_chebi disease_umls disease_snomed                    From_ID  \\\n",
       "0       CHEBI:29007     C0153225         151004               BMG_DG166076   \n",
       "1        CHEBI:3508     C0153225         151004               BMG_DG166102   \n",
       "2        CHEBI:4453     C0018824         368009               BMG_DG141079   \n",
       "3        CHEBI:6443     C0018824         368009               BMG_DG025668   \n",
       "3        CHEBI:6443     C0018824         368009  BMG_DG148275;BMG_DG025668   \n",
       "...             ...          ...            ...                        ...   \n",
       "42302    CHEBI:3231          NaN              0               BMG_DG124868   \n",
       "42303  CHEBI:204734          NaN              0               BMG_DG157342   \n",
       "42304    CHEBI:6532          NaN              0               BMG_DG140299   \n",
       "42305   CHEBI:49005          NaN              0  BMG_DG116501;BMG_DG166533   \n",
       "42306   CHEBI:38561          NaN              0  BMG_DG121255;BMG_DG095819   \n",
       "\n",
       "              To_ID  \n",
       "0      BMG_DS004279  \n",
       "1      BMG_DS004279  \n",
       "2      BMG_DS001340  \n",
       "3      BMG_DS001340  \n",
       "3      BMG_DS001340  \n",
       "...             ...  \n",
       "42302                \n",
       "42303                \n",
       "42304                \n",
       "42305                \n",
       "42306                \n",
       "\n",
       "[50011 rows x 5 columns]"
      ]
     },
     "execution_count": 13,
     "metadata": {},
     "output_type": "execute_result"
    }
   ],
   "source": [
    "snomed_id = biomedgraphica_disease[['SNOMEDCT_ID', 'BioMedGraphica_ID']]\n",
    "snomed_id.dropna(subset=['SNOMEDCT_ID'], inplace=True)\n",
    "snomed_id = snomed_id.assign(SNOMEDCT_ID=snomed_id['SNOMEDCT_ID'].str.split(';')).explode('SNOMEDCT_ID')\n",
    "snomed_id['SNOMEDCT_ID'] = snomed_id['SNOMEDCT_ID'].str.strip()\n",
    "\n",
    "snomed_to_individualid = snomed_id.groupby('SNOMEDCT_ID')['BioMedGraphica_ID'].apply(lambda x: ';'.join(x.dropna().unique())).to_dict()\n",
    "\n",
    "# Fill NaN values with a placeholder (e.g., 0) and convert the column\n",
    "df_split_all['disease_snomed'] = df_split_all['disease_snomed'].fillna(0).astype(float).astype(int).astype(str)\n",
    "df_split_all['Disease_snomed'] = df_split_all['disease_snomed'].map(snomed_to_individualid)\n",
    "df_split_all = merge_string_columns(df_split_all, ['Disease_umls', 'Disease_snomed'], 'To_ID')\n",
    "df_split_all"
   ]
  },
  {
   "cell_type": "code",
   "execution_count": 14,
   "metadata": {},
   "outputs": [
    {
     "name": "stderr",
     "output_type": "stream",
     "text": [
      "C:\\Users\\shunn\\AppData\\Local\\Temp\\ipykernel_41780\\770594463.py:2: FutureWarning: A value is trying to be set on a copy of a DataFrame or Series through chained assignment using an inplace method.\n",
      "The behavior will change in pandas 3.0. This inplace method will never work because the intermediate object on which we are setting values always behaves as a copy.\n",
      "\n",
      "For example, when doing 'df[col].method(value, inplace=True)', try using 'df.method({col: value}, inplace=True)' or df[col] = df[col].method(value) instead, to perform the operation inplace on the original object.\n",
      "\n",
      "\n",
      "  drug_disease['From_ID'].replace('', pd.NA, inplace=True)\n",
      "C:\\Users\\shunn\\AppData\\Local\\Temp\\ipykernel_41780\\770594463.py:2: SettingWithCopyWarning: \n",
      "A value is trying to be set on a copy of a slice from a DataFrame\n",
      "\n",
      "See the caveats in the documentation: https://pandas.pydata.org/pandas-docs/stable/user_guide/indexing.html#returning-a-view-versus-a-copy\n",
      "  drug_disease['From_ID'].replace('', pd.NA, inplace=True)\n",
      "C:\\Users\\shunn\\AppData\\Local\\Temp\\ipykernel_41780\\770594463.py:3: FutureWarning: A value is trying to be set on a copy of a DataFrame or Series through chained assignment using an inplace method.\n",
      "The behavior will change in pandas 3.0. This inplace method will never work because the intermediate object on which we are setting values always behaves as a copy.\n",
      "\n",
      "For example, when doing 'df[col].method(value, inplace=True)', try using 'df.method({col: value}, inplace=True)' or df[col] = df[col].method(value) instead, to perform the operation inplace on the original object.\n",
      "\n",
      "\n",
      "  drug_disease['To_ID'].replace('', pd.NA, inplace=True)\n",
      "C:\\Users\\shunn\\AppData\\Local\\Temp\\ipykernel_41780\\770594463.py:3: SettingWithCopyWarning: \n",
      "A value is trying to be set on a copy of a slice from a DataFrame\n",
      "\n",
      "See the caveats in the documentation: https://pandas.pydata.org/pandas-docs/stable/user_guide/indexing.html#returning-a-view-versus-a-copy\n",
      "  drug_disease['To_ID'].replace('', pd.NA, inplace=True)\n",
      "C:\\Users\\shunn\\AppData\\Local\\Temp\\ipykernel_41780\\770594463.py:4: SettingWithCopyWarning: \n",
      "A value is trying to be set on a copy of a slice from a DataFrame\n",
      "\n",
      "See the caveats in the documentation: https://pandas.pydata.org/pandas-docs/stable/user_guide/indexing.html#returning-a-view-versus-a-copy\n",
      "  drug_disease.dropna(subset=['From_ID'], inplace=True)\n",
      "C:\\Users\\shunn\\AppData\\Local\\Temp\\ipykernel_41780\\770594463.py:5: SettingWithCopyWarning: \n",
      "A value is trying to be set on a copy of a slice from a DataFrame\n",
      "\n",
      "See the caveats in the documentation: https://pandas.pydata.org/pandas-docs/stable/user_guide/indexing.html#returning-a-view-versus-a-copy\n",
      "  drug_disease.dropna(subset=['To_ID'], inplace=True)\n"
     ]
    },
    {
     "data": {
      "application/vnd.microsoft.datawrangler.viewer.v0+json": {
       "columns": [
        {
         "name": "index",
         "rawType": "int64",
         "type": "integer"
        },
        {
         "name": "From_ID",
         "rawType": "object",
         "type": "string"
        },
        {
         "name": "To_ID",
         "rawType": "object",
         "type": "string"
        }
       ],
       "conversionMethod": "pd.DataFrame",
       "ref": "71aef9d8-283a-41ff-ad18-c936e5f22ad7",
       "rows": [
        [
         "0",
         "BMG_DG166076",
         "BMG_DS004279"
        ],
        [
         "1",
         "BMG_DG166102",
         "BMG_DS004279"
        ],
        [
         "2",
         "BMG_DG141079",
         "BMG_DS001340"
        ],
        [
         "3",
         "BMG_DG025668",
         "BMG_DS001340"
        ],
        [
         "3",
         "BMG_DG148275;BMG_DG025668",
         "BMG_DS001340"
        ],
        [
         "4",
         "BMG_DG177495",
         "BMG_DS001340"
        ],
        [
         "5",
         "BMG_DG150417",
         "BMG_DS001340"
        ],
        [
         "6",
         "BMG_DG170784",
         "BMG_DS001340"
        ],
        [
         "7",
         "BMG_DG169782;BMG_DG172605",
         "BMG_DS001340"
        ],
        [
         "7",
         "BMG_DG172605",
         "BMG_DS001340"
        ],
        [
         "8",
         "BMG_DG169285",
         "BMG_DS001340"
        ],
        [
         "9",
         "BMG_DG150465",
         "BMG_DS001340"
        ],
        [
         "10",
         "BMG_DG214699;BMG_DG173125",
         "BMG_DS001340"
        ],
        [
         "11",
         "BMG_DG000050",
         "BMG_DS001340"
        ],
        [
         "12",
         "BMG_DG173111",
         "BMG_DS001340"
        ],
        [
         "13",
         "BMG_DG150446",
         "BMG_DS001340"
        ],
        [
         "14",
         "BMG_DG172605",
         "BMG_DS001340"
        ],
        [
         "15",
         "BMG_DG166762",
         "BMG_DS001340"
        ],
        [
         "16",
         "BMG_DG091947",
         "BMG_DS001340"
        ],
        [
         "16",
         "BMG_DG212127;BMG_DG091947",
         "BMG_DS001340"
        ],
        [
         "17",
         "BMG_DG134762",
         "BMG_DS001340"
        ],
        [
         "18",
         "BMG_DG165901",
         "BMG_DS001340"
        ],
        [
         "19",
         "BMG_DG198313",
         "BMG_DS001340"
        ],
        [
         "20",
         "BMG_DG169989",
         "BMG_DS001340"
        ],
        [
         "21",
         "BMG_DG263550;BMG_DG011893",
         "BMG_DS001340"
        ],
        [
         "22",
         "BMG_DG166780",
         "BMG_DS001340"
        ],
        [
         "23",
         "BMG_DG174845",
         "BMG_DS001340"
        ],
        [
         "24",
         "BMG_DG182550",
         "BMG_DS001340"
        ],
        [
         "25",
         "BMG_DG157319",
         "BMG_DS001340"
        ],
        [
         "26",
         "BMG_DG155200",
         "BMG_DS001340"
        ],
        [
         "27",
         "BMG_DG184923",
         "BMG_DS001340"
        ],
        [
         "35",
         "BMG_DG116310",
         "BMG_DS001647"
        ],
        [
         "36",
         "BMG_DG105252;BMG_DG264287",
         "BMG_DS002064"
        ],
        [
         "36",
         "BMG_DG105252;BMG_DG169268;BMG_DG264287",
         "BMG_DS002064"
        ],
        [
         "36",
         "BMG_DG105252;BMG_DG169268",
         "BMG_DS002064"
        ],
        [
         "36",
         "BMG_DG169268",
         "BMG_DS002064"
        ],
        [
         "37",
         "BMG_DG172540;BMG_DG136179",
         "BMG_DS002064"
        ],
        [
         "37",
         "BMG_DG136179",
         "BMG_DS002064"
        ],
        [
         "38",
         "BMG_DG169956",
         "BMG_DS002064"
        ],
        [
         "39",
         "BMG_DG168973",
         "BMG_DS002064"
        ],
        [
         "40",
         "BMG_DG169271",
         "BMG_DS002064"
        ],
        [
         "41",
         "BMG_DG180267",
         "BMG_DS002064"
        ],
        [
         "42",
         "BMG_DG169268",
         "BMG_DS002064"
        ],
        [
         "43",
         "BMG_DG136179",
         "BMG_DS002064"
        ],
        [
         "44",
         "BMG_DG168914",
         "BMG_DS002064"
        ],
        [
         "45",
         "BMG_DG216131",
         "BMG_DS002064"
        ],
        [
         "46",
         "BMG_DG138590",
         "BMG_DS006551"
        ],
        [
         "47",
         "BMG_DG143469",
         "BMG_DS006551"
        ],
        [
         "48",
         "BMG_DG171381",
         "BMG_DS006551"
        ],
        [
         "55",
         "BMG_DG150699",
         "BMG_DS002231"
        ]
       ],
       "shape": {
        "columns": 2,
        "rows": 35940
       }
      },
      "text/html": [
       "<div>\n",
       "<style scoped>\n",
       "    .dataframe tbody tr th:only-of-type {\n",
       "        vertical-align: middle;\n",
       "    }\n",
       "\n",
       "    .dataframe tbody tr th {\n",
       "        vertical-align: top;\n",
       "    }\n",
       "\n",
       "    .dataframe thead th {\n",
       "        text-align: right;\n",
       "    }\n",
       "</style>\n",
       "<table border=\"1\" class=\"dataframe\">\n",
       "  <thead>\n",
       "    <tr style=\"text-align: right;\">\n",
       "      <th></th>\n",
       "      <th>From_ID</th>\n",
       "      <th>To_ID</th>\n",
       "    </tr>\n",
       "  </thead>\n",
       "  <tbody>\n",
       "    <tr>\n",
       "      <th>0</th>\n",
       "      <td>BMG_DG166076</td>\n",
       "      <td>BMG_DS004279</td>\n",
       "    </tr>\n",
       "    <tr>\n",
       "      <th>1</th>\n",
       "      <td>BMG_DG166102</td>\n",
       "      <td>BMG_DS004279</td>\n",
       "    </tr>\n",
       "    <tr>\n",
       "      <th>2</th>\n",
       "      <td>BMG_DG141079</td>\n",
       "      <td>BMG_DS001340</td>\n",
       "    </tr>\n",
       "    <tr>\n",
       "      <th>3</th>\n",
       "      <td>BMG_DG025668</td>\n",
       "      <td>BMG_DS001340</td>\n",
       "    </tr>\n",
       "    <tr>\n",
       "      <th>3</th>\n",
       "      <td>BMG_DG148275;BMG_DG025668</td>\n",
       "      <td>BMG_DS001340</td>\n",
       "    </tr>\n",
       "    <tr>\n",
       "      <th>...</th>\n",
       "      <td>...</td>\n",
       "      <td>...</td>\n",
       "    </tr>\n",
       "    <tr>\n",
       "      <th>39492</th>\n",
       "      <td>BMG_DG198599;BMG_DG264608</td>\n",
       "      <td>BMG_DS059590</td>\n",
       "    </tr>\n",
       "    <tr>\n",
       "      <th>39498</th>\n",
       "      <td>BMG_DG223724</td>\n",
       "      <td>BMG_DS029272</td>\n",
       "    </tr>\n",
       "    <tr>\n",
       "      <th>39515</th>\n",
       "      <td>BMG_DG143463</td>\n",
       "      <td>BMG_DS059590</td>\n",
       "    </tr>\n",
       "    <tr>\n",
       "      <th>39842</th>\n",
       "      <td>BMG_DG264771</td>\n",
       "      <td>BMG_DS029272</td>\n",
       "    </tr>\n",
       "    <tr>\n",
       "      <th>41610</th>\n",
       "      <td>BMG_DG167208</td>\n",
       "      <td>BMG_DS059590</td>\n",
       "    </tr>\n",
       "  </tbody>\n",
       "</table>\n",
       "<p>35940 rows × 2 columns</p>\n",
       "</div>"
      ],
      "text/plain": [
       "                         From_ID         To_ID\n",
       "0                   BMG_DG166076  BMG_DS004279\n",
       "1                   BMG_DG166102  BMG_DS004279\n",
       "2                   BMG_DG141079  BMG_DS001340\n",
       "3                   BMG_DG025668  BMG_DS001340\n",
       "3      BMG_DG148275;BMG_DG025668  BMG_DS001340\n",
       "...                          ...           ...\n",
       "39492  BMG_DG198599;BMG_DG264608  BMG_DS059590\n",
       "39498               BMG_DG223724  BMG_DS029272\n",
       "39515               BMG_DG143463  BMG_DS059590\n",
       "39842               BMG_DG264771  BMG_DS029272\n",
       "41610               BMG_DG167208  BMG_DS059590\n",
       "\n",
       "[35940 rows x 2 columns]"
      ]
     },
     "execution_count": 14,
     "metadata": {},
     "output_type": "execute_result"
    }
   ],
   "source": [
    "drug_disease = df_split_all[['From_ID', 'To_ID']]\n",
    "drug_disease['From_ID'].replace('', pd.NA, inplace=True)\n",
    "drug_disease['To_ID'].replace('', pd.NA, inplace=True)\n",
    "drug_disease.dropna(subset=['From_ID'], inplace=True)\n",
    "drug_disease.dropna(subset=['To_ID'], inplace=True)\n",
    "drug_disease"
   ]
  },
  {
   "cell_type": "code",
   "execution_count": 15,
   "metadata": {},
   "outputs": [
    {
     "name": "stderr",
     "output_type": "stream",
     "text": [
      "C:\\Users\\shunn\\AppData\\Local\\Temp\\ipykernel_41780\\3074805368.py:1: SettingWithCopyWarning: \n",
      "A value is trying to be set on a copy of a slice from a DataFrame.\n",
      "Try using .loc[row_indexer,col_indexer] = value instead\n",
      "\n",
      "See the caveats in the documentation: https://pandas.pydata.org/pandas-docs/stable/user_guide/indexing.html#returning-a-view-versus-a-copy\n",
      "  drug_disease['From_ID'] = drug_disease['From_ID'].str.split(';')\n"
     ]
    },
    {
     "data": {
      "application/vnd.microsoft.datawrangler.viewer.v0+json": {
       "columns": [
        {
         "name": "index",
         "rawType": "int64",
         "type": "integer"
        },
        {
         "name": "From_ID",
         "rawType": "object",
         "type": "string"
        },
        {
         "name": "To_ID",
         "rawType": "object",
         "type": "string"
        }
       ],
       "conversionMethod": "pd.DataFrame",
       "ref": "44853776-8680-4640-91e5-eab2fcd07b22",
       "rows": [
        [
         "0",
         "BMG_DG166076",
         "BMG_DS004279"
        ],
        [
         "1",
         "BMG_DG166102",
         "BMG_DS004279"
        ],
        [
         "2",
         "BMG_DG141079",
         "BMG_DS001340"
        ],
        [
         "3",
         "BMG_DG025668",
         "BMG_DS001340"
        ],
        [
         "4",
         "BMG_DG148275",
         "BMG_DS001340"
        ],
        [
         "5",
         "BMG_DG177495",
         "BMG_DS001340"
        ],
        [
         "6",
         "BMG_DG150417",
         "BMG_DS001340"
        ],
        [
         "7",
         "BMG_DG170784",
         "BMG_DS001340"
        ],
        [
         "8",
         "BMG_DG169782",
         "BMG_DS001340"
        ],
        [
         "9",
         "BMG_DG172605",
         "BMG_DS001340"
        ],
        [
         "10",
         "BMG_DG169285",
         "BMG_DS001340"
        ],
        [
         "11",
         "BMG_DG150465",
         "BMG_DS001340"
        ],
        [
         "12",
         "BMG_DG214699",
         "BMG_DS001340"
        ],
        [
         "13",
         "BMG_DG173125",
         "BMG_DS001340"
        ],
        [
         "14",
         "BMG_DG000050",
         "BMG_DS001340"
        ],
        [
         "15",
         "BMG_DG173111",
         "BMG_DS001340"
        ],
        [
         "16",
         "BMG_DG150446",
         "BMG_DS001340"
        ],
        [
         "17",
         "BMG_DG166762",
         "BMG_DS001340"
        ],
        [
         "18",
         "BMG_DG091947",
         "BMG_DS001340"
        ],
        [
         "19",
         "BMG_DG212127",
         "BMG_DS001340"
        ],
        [
         "20",
         "BMG_DG134762",
         "BMG_DS001340"
        ],
        [
         "21",
         "BMG_DG165901",
         "BMG_DS001340"
        ],
        [
         "22",
         "BMG_DG198313",
         "BMG_DS001340"
        ],
        [
         "23",
         "BMG_DG169989",
         "BMG_DS001340"
        ],
        [
         "24",
         "BMG_DG263550",
         "BMG_DS001340"
        ],
        [
         "25",
         "BMG_DG011893",
         "BMG_DS001340"
        ],
        [
         "26",
         "BMG_DG166780",
         "BMG_DS001340"
        ],
        [
         "27",
         "BMG_DG174845",
         "BMG_DS001340"
        ],
        [
         "28",
         "BMG_DG182550",
         "BMG_DS001340"
        ],
        [
         "29",
         "BMG_DG157319",
         "BMG_DS001340"
        ],
        [
         "30",
         "BMG_DG155200",
         "BMG_DS001340"
        ],
        [
         "31",
         "BMG_DG184923",
         "BMG_DS001340"
        ],
        [
         "32",
         "BMG_DG116310",
         "BMG_DS001647"
        ],
        [
         "33",
         "BMG_DG105252",
         "BMG_DS002064"
        ],
        [
         "34",
         "BMG_DG264287",
         "BMG_DS002064"
        ],
        [
         "35",
         "BMG_DG169268",
         "BMG_DS002064"
        ],
        [
         "36",
         "BMG_DG172540",
         "BMG_DS002064"
        ],
        [
         "37",
         "BMG_DG136179",
         "BMG_DS002064"
        ],
        [
         "38",
         "BMG_DG169956",
         "BMG_DS002064"
        ],
        [
         "39",
         "BMG_DG168973",
         "BMG_DS002064"
        ],
        [
         "40",
         "BMG_DG169271",
         "BMG_DS002064"
        ],
        [
         "41",
         "BMG_DG180267",
         "BMG_DS002064"
        ],
        [
         "42",
         "BMG_DG168914",
         "BMG_DS002064"
        ],
        [
         "43",
         "BMG_DG216131",
         "BMG_DS002064"
        ],
        [
         "44",
         "BMG_DG138590",
         "BMG_DS006551"
        ],
        [
         "45",
         "BMG_DG143469",
         "BMG_DS006551"
        ],
        [
         "46",
         "BMG_DG171381",
         "BMG_DS006551"
        ],
        [
         "47",
         "BMG_DG150699",
         "BMG_DS002231"
        ],
        [
         "48",
         "BMG_DG169956",
         "BMG_DS003065"
        ],
        [
         "49",
         "BMG_DG164102",
         "BMG_DS003065"
        ]
       ],
       "shape": {
        "columns": 2,
        "rows": 39977
       }
      },
      "text/html": [
       "<div>\n",
       "<style scoped>\n",
       "    .dataframe tbody tr th:only-of-type {\n",
       "        vertical-align: middle;\n",
       "    }\n",
       "\n",
       "    .dataframe tbody tr th {\n",
       "        vertical-align: top;\n",
       "    }\n",
       "\n",
       "    .dataframe thead th {\n",
       "        text-align: right;\n",
       "    }\n",
       "</style>\n",
       "<table border=\"1\" class=\"dataframe\">\n",
       "  <thead>\n",
       "    <tr style=\"text-align: right;\">\n",
       "      <th></th>\n",
       "      <th>From_ID</th>\n",
       "      <th>To_ID</th>\n",
       "    </tr>\n",
       "  </thead>\n",
       "  <tbody>\n",
       "    <tr>\n",
       "      <th>0</th>\n",
       "      <td>BMG_DG166076</td>\n",
       "      <td>BMG_DS004279</td>\n",
       "    </tr>\n",
       "    <tr>\n",
       "      <th>1</th>\n",
       "      <td>BMG_DG166102</td>\n",
       "      <td>BMG_DS004279</td>\n",
       "    </tr>\n",
       "    <tr>\n",
       "      <th>2</th>\n",
       "      <td>BMG_DG141079</td>\n",
       "      <td>BMG_DS001340</td>\n",
       "    </tr>\n",
       "    <tr>\n",
       "      <th>3</th>\n",
       "      <td>BMG_DG025668</td>\n",
       "      <td>BMG_DS001340</td>\n",
       "    </tr>\n",
       "    <tr>\n",
       "      <th>4</th>\n",
       "      <td>BMG_DG148275</td>\n",
       "      <td>BMG_DS001340</td>\n",
       "    </tr>\n",
       "    <tr>\n",
       "      <th>...</th>\n",
       "      <td>...</td>\n",
       "      <td>...</td>\n",
       "    </tr>\n",
       "    <tr>\n",
       "      <th>39972</th>\n",
       "      <td>BMG_DG264608</td>\n",
       "      <td>BMG_DS059590</td>\n",
       "    </tr>\n",
       "    <tr>\n",
       "      <th>39973</th>\n",
       "      <td>BMG_DG223724</td>\n",
       "      <td>BMG_DS029272</td>\n",
       "    </tr>\n",
       "    <tr>\n",
       "      <th>39974</th>\n",
       "      <td>BMG_DG143463</td>\n",
       "      <td>BMG_DS059590</td>\n",
       "    </tr>\n",
       "    <tr>\n",
       "      <th>39975</th>\n",
       "      <td>BMG_DG264771</td>\n",
       "      <td>BMG_DS029272</td>\n",
       "    </tr>\n",
       "    <tr>\n",
       "      <th>39976</th>\n",
       "      <td>BMG_DG167208</td>\n",
       "      <td>BMG_DS059590</td>\n",
       "    </tr>\n",
       "  </tbody>\n",
       "</table>\n",
       "<p>39977 rows × 2 columns</p>\n",
       "</div>"
      ],
      "text/plain": [
       "            From_ID         To_ID\n",
       "0      BMG_DG166076  BMG_DS004279\n",
       "1      BMG_DG166102  BMG_DS004279\n",
       "2      BMG_DG141079  BMG_DS001340\n",
       "3      BMG_DG025668  BMG_DS001340\n",
       "4      BMG_DG148275  BMG_DS001340\n",
       "...             ...           ...\n",
       "39972  BMG_DG264608  BMG_DS059590\n",
       "39973  BMG_DG223724  BMG_DS029272\n",
       "39974  BMG_DG143463  BMG_DS059590\n",
       "39975  BMG_DG264771  BMG_DS029272\n",
       "39976  BMG_DG167208  BMG_DS059590\n",
       "\n",
       "[39977 rows x 2 columns]"
      ]
     },
     "execution_count": 15,
     "metadata": {},
     "output_type": "execute_result"
    }
   ],
   "source": [
    "drug_disease['From_ID'] = drug_disease['From_ID'].str.split(';')\n",
    "drug_disease = drug_disease.explode('From_ID')\n",
    "drug_disease['From_ID'] = drug_disease['From_ID'].str.strip()\n",
    "\n",
    "drug_disease['To_ID'] = drug_disease['To_ID'].str.split(';')\n",
    "drug_disease = drug_disease.explode('To_ID')\n",
    "drug_disease['To_ID'] = drug_disease['To_ID'].str.strip()\n",
    "drug_disease.drop_duplicates(inplace=True)\n",
    "drug_disease.reset_index(drop=True, inplace=True)\n",
    "drug_disease"
   ]
  },
  {
   "cell_type": "markdown",
   "metadata": {},
   "source": [
    "### Drug-Disease Relation"
   ]
  },
  {
   "cell_type": "code",
   "execution_count": 16,
   "metadata": {},
   "outputs": [
    {
     "data": {
      "application/vnd.microsoft.datawrangler.viewer.v0+json": {
       "columns": [
        {
         "name": "index",
         "rawType": "int64",
         "type": "integer"
        },
        {
         "name": "BioMedGraphica_ID",
         "rawType": "object",
         "type": "string"
        },
        {
         "name": "From_ID",
         "rawType": "object",
         "type": "string"
        },
        {
         "name": "To_ID",
         "rawType": "object",
         "type": "string"
        },
        {
         "name": "Source",
         "rawType": "object",
         "type": "string"
        },
        {
         "name": "Type",
         "rawType": "object",
         "type": "string"
        }
       ],
       "conversionMethod": "pd.DataFrame",
       "ref": "6f7fe610-7153-4a0b-8be6-61b7c4e8acb3",
       "rows": [
        [
         "0",
         "BMG_ED_DGDS00001",
         "BMG_DG166076",
         "BMG_DS004279",
         "DrugCentral",
         "Drug-Disease"
        ],
        [
         "1",
         "BMG_ED_DGDS00002",
         "BMG_DG166102",
         "BMG_DS004279",
         "DrugCentral",
         "Drug-Disease"
        ],
        [
         "2",
         "BMG_ED_DGDS00003",
         "BMG_DG141079",
         "BMG_DS001340",
         "DrugCentral",
         "Drug-Disease"
        ],
        [
         "3",
         "BMG_ED_DGDS00004",
         "BMG_DG025668",
         "BMG_DS001340",
         "DrugCentral",
         "Drug-Disease"
        ],
        [
         "4",
         "BMG_ED_DGDS00005",
         "BMG_DG148275",
         "BMG_DS001340",
         "DrugCentral",
         "Drug-Disease"
        ],
        [
         "5",
         "BMG_ED_DGDS00006",
         "BMG_DG177495",
         "BMG_DS001340",
         "DrugCentral",
         "Drug-Disease"
        ],
        [
         "6",
         "BMG_ED_DGDS00007",
         "BMG_DG150417",
         "BMG_DS001340",
         "DrugCentral",
         "Drug-Disease"
        ],
        [
         "7",
         "BMG_ED_DGDS00008",
         "BMG_DG170784",
         "BMG_DS001340",
         "DrugCentral",
         "Drug-Disease"
        ],
        [
         "8",
         "BMG_ED_DGDS00009",
         "BMG_DG169782",
         "BMG_DS001340",
         "DrugCentral",
         "Drug-Disease"
        ],
        [
         "9",
         "BMG_ED_DGDS00010",
         "BMG_DG172605",
         "BMG_DS001340",
         "DrugCentral",
         "Drug-Disease"
        ],
        [
         "10",
         "BMG_ED_DGDS00011",
         "BMG_DG169285",
         "BMG_DS001340",
         "DrugCentral",
         "Drug-Disease"
        ],
        [
         "11",
         "BMG_ED_DGDS00012",
         "BMG_DG150465",
         "BMG_DS001340",
         "DrugCentral",
         "Drug-Disease"
        ],
        [
         "12",
         "BMG_ED_DGDS00013",
         "BMG_DG214699",
         "BMG_DS001340",
         "DrugCentral",
         "Drug-Disease"
        ],
        [
         "13",
         "BMG_ED_DGDS00014",
         "BMG_DG173125",
         "BMG_DS001340",
         "DrugCentral",
         "Drug-Disease"
        ],
        [
         "14",
         "BMG_ED_DGDS00015",
         "BMG_DG000050",
         "BMG_DS001340",
         "DrugCentral",
         "Drug-Disease"
        ],
        [
         "15",
         "BMG_ED_DGDS00016",
         "BMG_DG173111",
         "BMG_DS001340",
         "DrugCentral",
         "Drug-Disease"
        ],
        [
         "16",
         "BMG_ED_DGDS00017",
         "BMG_DG150446",
         "BMG_DS001340",
         "DrugCentral",
         "Drug-Disease"
        ],
        [
         "17",
         "BMG_ED_DGDS00018",
         "BMG_DG166762",
         "BMG_DS001340",
         "DrugCentral",
         "Drug-Disease"
        ],
        [
         "18",
         "BMG_ED_DGDS00019",
         "BMG_DG091947",
         "BMG_DS001340",
         "DrugCentral",
         "Drug-Disease"
        ],
        [
         "19",
         "BMG_ED_DGDS00020",
         "BMG_DG212127",
         "BMG_DS001340",
         "DrugCentral",
         "Drug-Disease"
        ],
        [
         "20",
         "BMG_ED_DGDS00021",
         "BMG_DG134762",
         "BMG_DS001340",
         "DrugCentral",
         "Drug-Disease"
        ],
        [
         "21",
         "BMG_ED_DGDS00022",
         "BMG_DG165901",
         "BMG_DS001340",
         "DrugCentral",
         "Drug-Disease"
        ],
        [
         "22",
         "BMG_ED_DGDS00023",
         "BMG_DG198313",
         "BMG_DS001340",
         "DrugCentral",
         "Drug-Disease"
        ],
        [
         "23",
         "BMG_ED_DGDS00024",
         "BMG_DG169989",
         "BMG_DS001340",
         "DrugCentral",
         "Drug-Disease"
        ],
        [
         "24",
         "BMG_ED_DGDS00025",
         "BMG_DG263550",
         "BMG_DS001340",
         "DrugCentral",
         "Drug-Disease"
        ],
        [
         "25",
         "BMG_ED_DGDS00026",
         "BMG_DG011893",
         "BMG_DS001340",
         "DrugCentral",
         "Drug-Disease"
        ],
        [
         "26",
         "BMG_ED_DGDS00027",
         "BMG_DG166780",
         "BMG_DS001340",
         "DrugCentral",
         "Drug-Disease"
        ],
        [
         "27",
         "BMG_ED_DGDS00028",
         "BMG_DG174845",
         "BMG_DS001340",
         "DrugCentral",
         "Drug-Disease"
        ],
        [
         "28",
         "BMG_ED_DGDS00029",
         "BMG_DG182550",
         "BMG_DS001340",
         "DrugCentral",
         "Drug-Disease"
        ],
        [
         "29",
         "BMG_ED_DGDS00030",
         "BMG_DG157319",
         "BMG_DS001340",
         "DrugCentral",
         "Drug-Disease"
        ],
        [
         "30",
         "BMG_ED_DGDS00031",
         "BMG_DG155200",
         "BMG_DS001340",
         "DrugCentral",
         "Drug-Disease"
        ],
        [
         "31",
         "BMG_ED_DGDS00032",
         "BMG_DG184923",
         "BMG_DS001340",
         "DrugCentral",
         "Drug-Disease"
        ],
        [
         "32",
         "BMG_ED_DGDS00033",
         "BMG_DG116310",
         "BMG_DS001647",
         "DrugCentral",
         "Drug-Disease"
        ],
        [
         "33",
         "BMG_ED_DGDS00034",
         "BMG_DG105252",
         "BMG_DS002064",
         "DrugCentral",
         "Drug-Disease"
        ],
        [
         "34",
         "BMG_ED_DGDS00035",
         "BMG_DG264287",
         "BMG_DS002064",
         "DrugCentral",
         "Drug-Disease"
        ],
        [
         "35",
         "BMG_ED_DGDS00036",
         "BMG_DG169268",
         "BMG_DS002064",
         "DrugCentral",
         "Drug-Disease"
        ],
        [
         "36",
         "BMG_ED_DGDS00037",
         "BMG_DG172540",
         "BMG_DS002064",
         "DrugCentral",
         "Drug-Disease"
        ],
        [
         "37",
         "BMG_ED_DGDS00038",
         "BMG_DG136179",
         "BMG_DS002064",
         "DrugCentral",
         "Drug-Disease"
        ],
        [
         "38",
         "BMG_ED_DGDS00039",
         "BMG_DG169956",
         "BMG_DS002064",
         "DrugCentral",
         "Drug-Disease"
        ],
        [
         "39",
         "BMG_ED_DGDS00040",
         "BMG_DG168973",
         "BMG_DS002064",
         "DrugCentral",
         "Drug-Disease"
        ],
        [
         "40",
         "BMG_ED_DGDS00041",
         "BMG_DG169271",
         "BMG_DS002064",
         "DrugCentral",
         "Drug-Disease"
        ],
        [
         "41",
         "BMG_ED_DGDS00042",
         "BMG_DG180267",
         "BMG_DS002064",
         "DrugCentral",
         "Drug-Disease"
        ],
        [
         "42",
         "BMG_ED_DGDS00043",
         "BMG_DG168914",
         "BMG_DS002064",
         "DrugCentral",
         "Drug-Disease"
        ],
        [
         "43",
         "BMG_ED_DGDS00044",
         "BMG_DG216131",
         "BMG_DS002064",
         "DrugCentral",
         "Drug-Disease"
        ],
        [
         "44",
         "BMG_ED_DGDS00045",
         "BMG_DG138590",
         "BMG_DS006551",
         "DrugCentral",
         "Drug-Disease"
        ],
        [
         "45",
         "BMG_ED_DGDS00046",
         "BMG_DG143469",
         "BMG_DS006551",
         "DrugCentral",
         "Drug-Disease"
        ],
        [
         "46",
         "BMG_ED_DGDS00047",
         "BMG_DG171381",
         "BMG_DS006551",
         "DrugCentral",
         "Drug-Disease"
        ],
        [
         "47",
         "BMG_ED_DGDS00048",
         "BMG_DG150699",
         "BMG_DS002231",
         "DrugCentral",
         "Drug-Disease"
        ],
        [
         "48",
         "BMG_ED_DGDS00049",
         "BMG_DG169956",
         "BMG_DS003065",
         "DrugCentral",
         "Drug-Disease"
        ],
        [
         "49",
         "BMG_ED_DGDS00050",
         "BMG_DG164102",
         "BMG_DS003065",
         "DrugCentral",
         "Drug-Disease"
        ]
       ],
       "shape": {
        "columns": 5,
        "rows": 39977
       }
      },
      "text/html": [
       "<div>\n",
       "<style scoped>\n",
       "    .dataframe tbody tr th:only-of-type {\n",
       "        vertical-align: middle;\n",
       "    }\n",
       "\n",
       "    .dataframe tbody tr th {\n",
       "        vertical-align: top;\n",
       "    }\n",
       "\n",
       "    .dataframe thead th {\n",
       "        text-align: right;\n",
       "    }\n",
       "</style>\n",
       "<table border=\"1\" class=\"dataframe\">\n",
       "  <thead>\n",
       "    <tr style=\"text-align: right;\">\n",
       "      <th></th>\n",
       "      <th>BioMedGraphica_ID</th>\n",
       "      <th>From_ID</th>\n",
       "      <th>To_ID</th>\n",
       "      <th>Source</th>\n",
       "      <th>Type</th>\n",
       "    </tr>\n",
       "  </thead>\n",
       "  <tbody>\n",
       "    <tr>\n",
       "      <th>0</th>\n",
       "      <td>BMG_ED_DGDS00001</td>\n",
       "      <td>BMG_DG166076</td>\n",
       "      <td>BMG_DS004279</td>\n",
       "      <td>DrugCentral</td>\n",
       "      <td>Drug-Disease</td>\n",
       "    </tr>\n",
       "    <tr>\n",
       "      <th>1</th>\n",
       "      <td>BMG_ED_DGDS00002</td>\n",
       "      <td>BMG_DG166102</td>\n",
       "      <td>BMG_DS004279</td>\n",
       "      <td>DrugCentral</td>\n",
       "      <td>Drug-Disease</td>\n",
       "    </tr>\n",
       "    <tr>\n",
       "      <th>2</th>\n",
       "      <td>BMG_ED_DGDS00003</td>\n",
       "      <td>BMG_DG141079</td>\n",
       "      <td>BMG_DS001340</td>\n",
       "      <td>DrugCentral</td>\n",
       "      <td>Drug-Disease</td>\n",
       "    </tr>\n",
       "    <tr>\n",
       "      <th>3</th>\n",
       "      <td>BMG_ED_DGDS00004</td>\n",
       "      <td>BMG_DG025668</td>\n",
       "      <td>BMG_DS001340</td>\n",
       "      <td>DrugCentral</td>\n",
       "      <td>Drug-Disease</td>\n",
       "    </tr>\n",
       "    <tr>\n",
       "      <th>4</th>\n",
       "      <td>BMG_ED_DGDS00005</td>\n",
       "      <td>BMG_DG148275</td>\n",
       "      <td>BMG_DS001340</td>\n",
       "      <td>DrugCentral</td>\n",
       "      <td>Drug-Disease</td>\n",
       "    </tr>\n",
       "    <tr>\n",
       "      <th>...</th>\n",
       "      <td>...</td>\n",
       "      <td>...</td>\n",
       "      <td>...</td>\n",
       "      <td>...</td>\n",
       "      <td>...</td>\n",
       "    </tr>\n",
       "    <tr>\n",
       "      <th>39972</th>\n",
       "      <td>BMG_ED_DGDS39973</td>\n",
       "      <td>BMG_DG264608</td>\n",
       "      <td>BMG_DS059590</td>\n",
       "      <td>DrugCentral</td>\n",
       "      <td>Drug-Disease</td>\n",
       "    </tr>\n",
       "    <tr>\n",
       "      <th>39973</th>\n",
       "      <td>BMG_ED_DGDS39974</td>\n",
       "      <td>BMG_DG223724</td>\n",
       "      <td>BMG_DS029272</td>\n",
       "      <td>DrugCentral</td>\n",
       "      <td>Drug-Disease</td>\n",
       "    </tr>\n",
       "    <tr>\n",
       "      <th>39974</th>\n",
       "      <td>BMG_ED_DGDS39975</td>\n",
       "      <td>BMG_DG143463</td>\n",
       "      <td>BMG_DS059590</td>\n",
       "      <td>DrugCentral</td>\n",
       "      <td>Drug-Disease</td>\n",
       "    </tr>\n",
       "    <tr>\n",
       "      <th>39975</th>\n",
       "      <td>BMG_ED_DGDS39976</td>\n",
       "      <td>BMG_DG264771</td>\n",
       "      <td>BMG_DS029272</td>\n",
       "      <td>DrugCentral</td>\n",
       "      <td>Drug-Disease</td>\n",
       "    </tr>\n",
       "    <tr>\n",
       "      <th>39976</th>\n",
       "      <td>BMG_ED_DGDS39977</td>\n",
       "      <td>BMG_DG167208</td>\n",
       "      <td>BMG_DS059590</td>\n",
       "      <td>DrugCentral</td>\n",
       "      <td>Drug-Disease</td>\n",
       "    </tr>\n",
       "  </tbody>\n",
       "</table>\n",
       "<p>39977 rows × 5 columns</p>\n",
       "</div>"
      ],
      "text/plain": [
       "      BioMedGraphica_ID       From_ID         To_ID       Source          Type\n",
       "0      BMG_ED_DGDS00001  BMG_DG166076  BMG_DS004279  DrugCentral  Drug-Disease\n",
       "1      BMG_ED_DGDS00002  BMG_DG166102  BMG_DS004279  DrugCentral  Drug-Disease\n",
       "2      BMG_ED_DGDS00003  BMG_DG141079  BMG_DS001340  DrugCentral  Drug-Disease\n",
       "3      BMG_ED_DGDS00004  BMG_DG025668  BMG_DS001340  DrugCentral  Drug-Disease\n",
       "4      BMG_ED_DGDS00005  BMG_DG148275  BMG_DS001340  DrugCentral  Drug-Disease\n",
       "...                 ...           ...           ...          ...           ...\n",
       "39972  BMG_ED_DGDS39973  BMG_DG264608  BMG_DS059590  DrugCentral  Drug-Disease\n",
       "39973  BMG_ED_DGDS39974  BMG_DG223724  BMG_DS029272  DrugCentral  Drug-Disease\n",
       "39974  BMG_ED_DGDS39975  BMG_DG143463  BMG_DS059590  DrugCentral  Drug-Disease\n",
       "39975  BMG_ED_DGDS39976  BMG_DG264771  BMG_DS029272  DrugCentral  Drug-Disease\n",
       "39976  BMG_ED_DGDS39977  BMG_DG167208  BMG_DS059590  DrugCentral  Drug-Disease\n",
       "\n",
       "[39977 rows x 5 columns]"
      ]
     },
     "execution_count": 16,
     "metadata": {},
     "output_type": "execute_result"
    }
   ],
   "source": [
    "drug_disease['Source'] = 'DrugCentral'\n",
    "drug_disease['Type'] = 'Drug-Disease'\n",
    "\n",
    "max_length = len(str(len(drug_disease)))\n",
    "drug_disease['BioMedGraphica_ID'] = ['BMG_ED_DGDS' + str(i).zfill(max_length) for i in range(1, len(drug_disease) + 1)]\n",
    "columns = ['BioMedGraphica_ID'] + [col for col in drug_disease.columns if col != 'BioMedGraphica_ID']  # re-order columns\n",
    "drug_disease = drug_disease[columns]\n",
    "drug_disease"
   ]
  },
  {
   "cell_type": "code",
   "execution_count": 17,
   "metadata": {},
   "outputs": [
    {
     "name": "stdout",
     "output_type": "stream",
     "text": [
      "Data has been saved to D:\\RA\\BMG\\BioMedGraphica\\Relation\\Drug-Disease\\BioMedGraphica_Drug_Disease.csv\n"
     ]
    }
   ],
   "source": [
    "import os\n",
    "from pathlib import Path\n",
    "\n",
    "# get the current working directory\n",
    "current_working_dir = Path(os.getcwd()).resolve()\n",
    "\n",
    "# get the output directory\n",
    "grandparent_dir = current_working_dir.parent.parent.parent\n",
    "\n",
    "target_folder = grandparent_dir / 'BioMedGraphica' / 'Relation' / 'Drug-Disease'\n",
    "if not target_folder.exists():\n",
    "    target_folder.mkdir(parents=True)\n",
    "    print(f\"Folder {target_folder} has been created.\")\n",
    "\n",
    "output_file_path = target_folder / 'BioMedGraphica_Drug_Disease.csv'\n",
    "drug_disease.to_csv(output_file_path, index=False)\n",
    "print(f\"Data has been saved to {output_file_path}\")"
   ]
  }
 ],
 "metadata": {
  "kernelspec": {
   "display_name": "base",
   "language": "python",
   "name": "python3"
  },
  "language_info": {
   "codemirror_mode": {
    "name": "ipython",
    "version": 3
   },
   "file_extension": ".py",
   "mimetype": "text/x-python",
   "name": "python",
   "nbconvert_exporter": "python",
   "pygments_lexer": "ipython3",
   "version": "3.9.19"
  }
 },
 "nbformat": 4,
 "nbformat_minor": 2
}
