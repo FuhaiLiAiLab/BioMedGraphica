{
 "cells": [
  {
   "cell_type": "code",
   "execution_count": 2,
   "metadata": {},
   "outputs": [],
   "source": [
    "import pandas as pd\n",
    "import os\n",
    "from pathlib import Path\n",
    "\n",
    "current_working_dir = Path(os.getcwd()).resolve()\n",
    "grandparent_dir = current_working_dir.parent.parent.parent\n",
    "target_dir_gene = grandparent_dir / 'BioMedGraphica' / 'Entity' / 'Gene' / 'BioMedGraphica_Gene.csv'\n",
    "target_dir_promoter = grandjson_dir = grandparent_dir / 'BioMedGraphica' / 'Entity' / 'Promoter' / 'BioMedGraphica_Promoter.csv'\n",
    "biomedgraphica_gene = pd.read_csv(target_dir_gene, dtype=str)\n",
    "biomedgraphica_promoter = pd.read_csv(target_dir_promoter, dtype=str)"
   ]
  },
  {
   "cell_type": "code",
   "execution_count": 3,
   "metadata": {},
   "outputs": [
    {
     "data": {
      "application/vnd.microsoft.datawrangler.viewer.v0+json": {
       "columns": [
        {
         "name": "index",
         "rawType": "int64",
         "type": "integer"
        },
        {
         "name": "From_ID",
         "rawType": "object",
         "type": "string"
        },
        {
         "name": "To_ID",
         "rawType": "object",
         "type": "string"
        }
       ],
       "conversionMethod": "pd.DataFrame",
       "ref": "59262864-a48a-4558-8eb6-36cb72d5df61",
       "rows": [
        [
         "0",
         "BMG_PM000001",
         "BMG_GN000001"
        ],
        [
         "1",
         "BMG_PM000002",
         "BMG_GN000002"
        ],
        [
         "2",
         "BMG_PM000003",
         "BMG_GN000003"
        ],
        [
         "3",
         "BMG_PM000004",
         "BMG_GN000004"
        ],
        [
         "4",
         "BMG_PM000005",
         "BMG_GN000005"
        ],
        [
         "5",
         "BMG_PM000006",
         "BMG_GN000006"
        ],
        [
         "6",
         "BMG_PM000007",
         "BMG_GN000007"
        ],
        [
         "7",
         "BMG_PM000008",
         "BMG_GN000008"
        ],
        [
         "8",
         "BMG_PM000009",
         "BMG_GN000009"
        ],
        [
         "9",
         "BMG_PM000010",
         "BMG_GN000010"
        ],
        [
         "10",
         "BMG_PM000011",
         "BMG_GN000011"
        ],
        [
         "11",
         "BMG_PM000012",
         "BMG_GN000012"
        ],
        [
         "12",
         "BMG_PM000013",
         "BMG_GN000013"
        ],
        [
         "13",
         "BMG_PM000014",
         "BMG_GN000014"
        ],
        [
         "14",
         "BMG_PM000015",
         "BMG_GN000015"
        ],
        [
         "15",
         "BMG_PM000016",
         "BMG_GN000016"
        ],
        [
         "16",
         "BMG_PM000017",
         "BMG_GN000017"
        ],
        [
         "17",
         "BMG_PM000018",
         "BMG_GN000018"
        ],
        [
         "18",
         "BMG_PM000019",
         "BMG_GN000019"
        ],
        [
         "19",
         "BMG_PM000020",
         "BMG_GN000020"
        ],
        [
         "20",
         "BMG_PM000021",
         "BMG_GN000021"
        ],
        [
         "21",
         "BMG_PM000022",
         "BMG_GN000022"
        ],
        [
         "22",
         "BMG_PM000023",
         "BMG_GN000023"
        ],
        [
         "23",
         "BMG_PM000024",
         "BMG_GN000024"
        ],
        [
         "24",
         "BMG_PM000025",
         "BMG_GN000025"
        ],
        [
         "25",
         "BMG_PM000026",
         "BMG_GN000026"
        ],
        [
         "26",
         "BMG_PM000027",
         "BMG_GN000027"
        ],
        [
         "27",
         "BMG_PM000028",
         "BMG_GN000028"
        ],
        [
         "28",
         "BMG_PM000029",
         "BMG_GN000029"
        ],
        [
         "29",
         "BMG_PM000030",
         "BMG_GN000030"
        ],
        [
         "30",
         "BMG_PM000031",
         "BMG_GN000031"
        ],
        [
         "31",
         "BMG_PM000032",
         "BMG_GN000032"
        ],
        [
         "32",
         "BMG_PM000033",
         "BMG_GN000033"
        ],
        [
         "33",
         "BMG_PM000034",
         "BMG_GN000034"
        ],
        [
         "34",
         "BMG_PM000035",
         "BMG_GN000035"
        ],
        [
         "35",
         "BMG_PM000036",
         "BMG_GN000036"
        ],
        [
         "36",
         "BMG_PM000037",
         "BMG_GN000037"
        ],
        [
         "37",
         "BMG_PM000038",
         "BMG_GN000038"
        ],
        [
         "38",
         "BMG_PM000039",
         "BMG_GN000039"
        ],
        [
         "39",
         "BMG_PM000040",
         "BMG_GN000040"
        ],
        [
         "40",
         "BMG_PM000041",
         "BMG_GN000041"
        ],
        [
         "41",
         "BMG_PM000042",
         "BMG_GN000042"
        ],
        [
         "42",
         "BMG_PM000043",
         "BMG_GN000043"
        ],
        [
         "43",
         "BMG_PM000044",
         "BMG_GN000044"
        ],
        [
         "44",
         "BMG_PM000045",
         "BMG_GN000045"
        ],
        [
         "45",
         "BMG_PM000046",
         "BMG_GN000046"
        ],
        [
         "46",
         "BMG_PM000047",
         "BMG_GN000047"
        ],
        [
         "47",
         "BMG_PM000048",
         "BMG_GN000048"
        ],
        [
         "48",
         "BMG_PM000049",
         "BMG_GN000049"
        ],
        [
         "49",
         "BMG_PM000050",
         "BMG_GN000050"
        ]
       ],
       "shape": {
        "columns": 2,
        "rows": 230358
       }
      },
      "text/html": [
       "<div>\n",
       "<style scoped>\n",
       "    .dataframe tbody tr th:only-of-type {\n",
       "        vertical-align: middle;\n",
       "    }\n",
       "\n",
       "    .dataframe tbody tr th {\n",
       "        vertical-align: top;\n",
       "    }\n",
       "\n",
       "    .dataframe thead th {\n",
       "        text-align: right;\n",
       "    }\n",
       "</style>\n",
       "<table border=\"1\" class=\"dataframe\">\n",
       "  <thead>\n",
       "    <tr style=\"text-align: right;\">\n",
       "      <th></th>\n",
       "      <th>From_ID</th>\n",
       "      <th>To_ID</th>\n",
       "    </tr>\n",
       "  </thead>\n",
       "  <tbody>\n",
       "    <tr>\n",
       "      <th>0</th>\n",
       "      <td>BMG_PM000001</td>\n",
       "      <td>BMG_GN000001</td>\n",
       "    </tr>\n",
       "    <tr>\n",
       "      <th>1</th>\n",
       "      <td>BMG_PM000002</td>\n",
       "      <td>BMG_GN000002</td>\n",
       "    </tr>\n",
       "    <tr>\n",
       "      <th>2</th>\n",
       "      <td>BMG_PM000003</td>\n",
       "      <td>BMG_GN000003</td>\n",
       "    </tr>\n",
       "    <tr>\n",
       "      <th>3</th>\n",
       "      <td>BMG_PM000004</td>\n",
       "      <td>BMG_GN000004</td>\n",
       "    </tr>\n",
       "    <tr>\n",
       "      <th>4</th>\n",
       "      <td>BMG_PM000005</td>\n",
       "      <td>BMG_GN000005</td>\n",
       "    </tr>\n",
       "    <tr>\n",
       "      <th>...</th>\n",
       "      <td>...</td>\n",
       "      <td>...</td>\n",
       "    </tr>\n",
       "    <tr>\n",
       "      <th>230353</th>\n",
       "      <td>BMG_PM230354</td>\n",
       "      <td>BMG_GN230354</td>\n",
       "    </tr>\n",
       "    <tr>\n",
       "      <th>230354</th>\n",
       "      <td>BMG_PM230355</td>\n",
       "      <td>BMG_GN230355</td>\n",
       "    </tr>\n",
       "    <tr>\n",
       "      <th>230355</th>\n",
       "      <td>BMG_PM230356</td>\n",
       "      <td>BMG_GN230356</td>\n",
       "    </tr>\n",
       "    <tr>\n",
       "      <th>230356</th>\n",
       "      <td>BMG_PM230357</td>\n",
       "      <td>BMG_GN230357</td>\n",
       "    </tr>\n",
       "    <tr>\n",
       "      <th>230357</th>\n",
       "      <td>BMG_PM230358</td>\n",
       "      <td>BMG_GN230358</td>\n",
       "    </tr>\n",
       "  </tbody>\n",
       "</table>\n",
       "<p>230358 rows × 2 columns</p>\n",
       "</div>"
      ],
      "text/plain": [
       "             From_ID         To_ID\n",
       "0       BMG_PM000001  BMG_GN000001\n",
       "1       BMG_PM000002  BMG_GN000002\n",
       "2       BMG_PM000003  BMG_GN000003\n",
       "3       BMG_PM000004  BMG_GN000004\n",
       "4       BMG_PM000005  BMG_GN000005\n",
       "...              ...           ...\n",
       "230353  BMG_PM230354  BMG_GN230354\n",
       "230354  BMG_PM230355  BMG_GN230355\n",
       "230355  BMG_PM230356  BMG_GN230356\n",
       "230356  BMG_PM230357  BMG_GN230357\n",
       "230357  BMG_PM230358  BMG_GN230358\n",
       "\n",
       "[230358 rows x 2 columns]"
      ]
     },
     "execution_count": 3,
     "metadata": {},
     "output_type": "execute_result"
    }
   ],
   "source": [
    "col1_df1 = biomedgraphica_promoter.iloc[:, 0]\n",
    "col1_df2 = biomedgraphica_gene.iloc[:, 0]\n",
    "promoter_gene = pd.DataFrame({\n",
    "    'From_ID': col1_df1,\n",
    "    'To_ID': col1_df2\n",
    "})\n",
    "promoter_gene.drop_duplicates(inplace=True)\n",
    "promoter_gene"
   ]
  },
  {
   "cell_type": "code",
   "execution_count": 4,
   "metadata": {},
   "outputs": [
    {
     "data": {
      "application/vnd.microsoft.datawrangler.viewer.v0+json": {
       "columns": [
        {
         "name": "index",
         "rawType": "int64",
         "type": "integer"
        },
        {
         "name": "BioMedGraphica_ID",
         "rawType": "object",
         "type": "string"
        },
        {
         "name": "From_ID",
         "rawType": "object",
         "type": "string"
        },
        {
         "name": "To_ID",
         "rawType": "object",
         "type": "string"
        },
        {
         "name": "Source",
         "rawType": "object",
         "type": "string"
        },
        {
         "name": "Type",
         "rawType": "object",
         "type": "string"
        }
       ],
       "conversionMethod": "pd.DataFrame",
       "ref": "6925327d-0ddd-4ee7-9127-808d60cbeb57",
       "rows": [
        [
         "0",
         "BMG_ED_PMGN000001",
         "BMG_PM000001",
         "BMG_GN000001",
         "",
         "Promoter-Gene"
        ],
        [
         "1",
         "BMG_ED_PMGN000002",
         "BMG_PM000002",
         "BMG_GN000002",
         "",
         "Promoter-Gene"
        ],
        [
         "2",
         "BMG_ED_PMGN000003",
         "BMG_PM000003",
         "BMG_GN000003",
         "",
         "Promoter-Gene"
        ],
        [
         "3",
         "BMG_ED_PMGN000004",
         "BMG_PM000004",
         "BMG_GN000004",
         "",
         "Promoter-Gene"
        ],
        [
         "4",
         "BMG_ED_PMGN000005",
         "BMG_PM000005",
         "BMG_GN000005",
         "",
         "Promoter-Gene"
        ],
        [
         "5",
         "BMG_ED_PMGN000006",
         "BMG_PM000006",
         "BMG_GN000006",
         "",
         "Promoter-Gene"
        ],
        [
         "6",
         "BMG_ED_PMGN000007",
         "BMG_PM000007",
         "BMG_GN000007",
         "",
         "Promoter-Gene"
        ],
        [
         "7",
         "BMG_ED_PMGN000008",
         "BMG_PM000008",
         "BMG_GN000008",
         "",
         "Promoter-Gene"
        ],
        [
         "8",
         "BMG_ED_PMGN000009",
         "BMG_PM000009",
         "BMG_GN000009",
         "",
         "Promoter-Gene"
        ],
        [
         "9",
         "BMG_ED_PMGN000010",
         "BMG_PM000010",
         "BMG_GN000010",
         "",
         "Promoter-Gene"
        ],
        [
         "10",
         "BMG_ED_PMGN000011",
         "BMG_PM000011",
         "BMG_GN000011",
         "",
         "Promoter-Gene"
        ],
        [
         "11",
         "BMG_ED_PMGN000012",
         "BMG_PM000012",
         "BMG_GN000012",
         "",
         "Promoter-Gene"
        ],
        [
         "12",
         "BMG_ED_PMGN000013",
         "BMG_PM000013",
         "BMG_GN000013",
         "",
         "Promoter-Gene"
        ],
        [
         "13",
         "BMG_ED_PMGN000014",
         "BMG_PM000014",
         "BMG_GN000014",
         "",
         "Promoter-Gene"
        ],
        [
         "14",
         "BMG_ED_PMGN000015",
         "BMG_PM000015",
         "BMG_GN000015",
         "",
         "Promoter-Gene"
        ],
        [
         "15",
         "BMG_ED_PMGN000016",
         "BMG_PM000016",
         "BMG_GN000016",
         "",
         "Promoter-Gene"
        ],
        [
         "16",
         "BMG_ED_PMGN000017",
         "BMG_PM000017",
         "BMG_GN000017",
         "",
         "Promoter-Gene"
        ],
        [
         "17",
         "BMG_ED_PMGN000018",
         "BMG_PM000018",
         "BMG_GN000018",
         "",
         "Promoter-Gene"
        ],
        [
         "18",
         "BMG_ED_PMGN000019",
         "BMG_PM000019",
         "BMG_GN000019",
         "",
         "Promoter-Gene"
        ],
        [
         "19",
         "BMG_ED_PMGN000020",
         "BMG_PM000020",
         "BMG_GN000020",
         "",
         "Promoter-Gene"
        ],
        [
         "20",
         "BMG_ED_PMGN000021",
         "BMG_PM000021",
         "BMG_GN000021",
         "",
         "Promoter-Gene"
        ],
        [
         "21",
         "BMG_ED_PMGN000022",
         "BMG_PM000022",
         "BMG_GN000022",
         "",
         "Promoter-Gene"
        ],
        [
         "22",
         "BMG_ED_PMGN000023",
         "BMG_PM000023",
         "BMG_GN000023",
         "",
         "Promoter-Gene"
        ],
        [
         "23",
         "BMG_ED_PMGN000024",
         "BMG_PM000024",
         "BMG_GN000024",
         "",
         "Promoter-Gene"
        ],
        [
         "24",
         "BMG_ED_PMGN000025",
         "BMG_PM000025",
         "BMG_GN000025",
         "",
         "Promoter-Gene"
        ],
        [
         "25",
         "BMG_ED_PMGN000026",
         "BMG_PM000026",
         "BMG_GN000026",
         "",
         "Promoter-Gene"
        ],
        [
         "26",
         "BMG_ED_PMGN000027",
         "BMG_PM000027",
         "BMG_GN000027",
         "",
         "Promoter-Gene"
        ],
        [
         "27",
         "BMG_ED_PMGN000028",
         "BMG_PM000028",
         "BMG_GN000028",
         "",
         "Promoter-Gene"
        ],
        [
         "28",
         "BMG_ED_PMGN000029",
         "BMG_PM000029",
         "BMG_GN000029",
         "",
         "Promoter-Gene"
        ],
        [
         "29",
         "BMG_ED_PMGN000030",
         "BMG_PM000030",
         "BMG_GN000030",
         "",
         "Promoter-Gene"
        ],
        [
         "30",
         "BMG_ED_PMGN000031",
         "BMG_PM000031",
         "BMG_GN000031",
         "",
         "Promoter-Gene"
        ],
        [
         "31",
         "BMG_ED_PMGN000032",
         "BMG_PM000032",
         "BMG_GN000032",
         "",
         "Promoter-Gene"
        ],
        [
         "32",
         "BMG_ED_PMGN000033",
         "BMG_PM000033",
         "BMG_GN000033",
         "",
         "Promoter-Gene"
        ],
        [
         "33",
         "BMG_ED_PMGN000034",
         "BMG_PM000034",
         "BMG_GN000034",
         "",
         "Promoter-Gene"
        ],
        [
         "34",
         "BMG_ED_PMGN000035",
         "BMG_PM000035",
         "BMG_GN000035",
         "",
         "Promoter-Gene"
        ],
        [
         "35",
         "BMG_ED_PMGN000036",
         "BMG_PM000036",
         "BMG_GN000036",
         "",
         "Promoter-Gene"
        ],
        [
         "36",
         "BMG_ED_PMGN000037",
         "BMG_PM000037",
         "BMG_GN000037",
         "",
         "Promoter-Gene"
        ],
        [
         "37",
         "BMG_ED_PMGN000038",
         "BMG_PM000038",
         "BMG_GN000038",
         "",
         "Promoter-Gene"
        ],
        [
         "38",
         "BMG_ED_PMGN000039",
         "BMG_PM000039",
         "BMG_GN000039",
         "",
         "Promoter-Gene"
        ],
        [
         "39",
         "BMG_ED_PMGN000040",
         "BMG_PM000040",
         "BMG_GN000040",
         "",
         "Promoter-Gene"
        ],
        [
         "40",
         "BMG_ED_PMGN000041",
         "BMG_PM000041",
         "BMG_GN000041",
         "",
         "Promoter-Gene"
        ],
        [
         "41",
         "BMG_ED_PMGN000042",
         "BMG_PM000042",
         "BMG_GN000042",
         "",
         "Promoter-Gene"
        ],
        [
         "42",
         "BMG_ED_PMGN000043",
         "BMG_PM000043",
         "BMG_GN000043",
         "",
         "Promoter-Gene"
        ],
        [
         "43",
         "BMG_ED_PMGN000044",
         "BMG_PM000044",
         "BMG_GN000044",
         "",
         "Promoter-Gene"
        ],
        [
         "44",
         "BMG_ED_PMGN000045",
         "BMG_PM000045",
         "BMG_GN000045",
         "",
         "Promoter-Gene"
        ],
        [
         "45",
         "BMG_ED_PMGN000046",
         "BMG_PM000046",
         "BMG_GN000046",
         "",
         "Promoter-Gene"
        ],
        [
         "46",
         "BMG_ED_PMGN000047",
         "BMG_PM000047",
         "BMG_GN000047",
         "",
         "Promoter-Gene"
        ],
        [
         "47",
         "BMG_ED_PMGN000048",
         "BMG_PM000048",
         "BMG_GN000048",
         "",
         "Promoter-Gene"
        ],
        [
         "48",
         "BMG_ED_PMGN000049",
         "BMG_PM000049",
         "BMG_GN000049",
         "",
         "Promoter-Gene"
        ],
        [
         "49",
         "BMG_ED_PMGN000050",
         "BMG_PM000050",
         "BMG_GN000050",
         "",
         "Promoter-Gene"
        ]
       ],
       "shape": {
        "columns": 5,
        "rows": 230358
       }
      },
      "text/html": [
       "<div>\n",
       "<style scoped>\n",
       "    .dataframe tbody tr th:only-of-type {\n",
       "        vertical-align: middle;\n",
       "    }\n",
       "\n",
       "    .dataframe tbody tr th {\n",
       "        vertical-align: top;\n",
       "    }\n",
       "\n",
       "    .dataframe thead th {\n",
       "        text-align: right;\n",
       "    }\n",
       "</style>\n",
       "<table border=\"1\" class=\"dataframe\">\n",
       "  <thead>\n",
       "    <tr style=\"text-align: right;\">\n",
       "      <th></th>\n",
       "      <th>BioMedGraphica_ID</th>\n",
       "      <th>From_ID</th>\n",
       "      <th>To_ID</th>\n",
       "      <th>Source</th>\n",
       "      <th>Type</th>\n",
       "    </tr>\n",
       "  </thead>\n",
       "  <tbody>\n",
       "    <tr>\n",
       "      <th>0</th>\n",
       "      <td>BMG_ED_PMGN000001</td>\n",
       "      <td>BMG_PM000001</td>\n",
       "      <td>BMG_GN000001</td>\n",
       "      <td></td>\n",
       "      <td>Promoter-Gene</td>\n",
       "    </tr>\n",
       "    <tr>\n",
       "      <th>1</th>\n",
       "      <td>BMG_ED_PMGN000002</td>\n",
       "      <td>BMG_PM000002</td>\n",
       "      <td>BMG_GN000002</td>\n",
       "      <td></td>\n",
       "      <td>Promoter-Gene</td>\n",
       "    </tr>\n",
       "    <tr>\n",
       "      <th>2</th>\n",
       "      <td>BMG_ED_PMGN000003</td>\n",
       "      <td>BMG_PM000003</td>\n",
       "      <td>BMG_GN000003</td>\n",
       "      <td></td>\n",
       "      <td>Promoter-Gene</td>\n",
       "    </tr>\n",
       "    <tr>\n",
       "      <th>3</th>\n",
       "      <td>BMG_ED_PMGN000004</td>\n",
       "      <td>BMG_PM000004</td>\n",
       "      <td>BMG_GN000004</td>\n",
       "      <td></td>\n",
       "      <td>Promoter-Gene</td>\n",
       "    </tr>\n",
       "    <tr>\n",
       "      <th>4</th>\n",
       "      <td>BMG_ED_PMGN000005</td>\n",
       "      <td>BMG_PM000005</td>\n",
       "      <td>BMG_GN000005</td>\n",
       "      <td></td>\n",
       "      <td>Promoter-Gene</td>\n",
       "    </tr>\n",
       "    <tr>\n",
       "      <th>...</th>\n",
       "      <td>...</td>\n",
       "      <td>...</td>\n",
       "      <td>...</td>\n",
       "      <td>...</td>\n",
       "      <td>...</td>\n",
       "    </tr>\n",
       "    <tr>\n",
       "      <th>230353</th>\n",
       "      <td>BMG_ED_PMGN230354</td>\n",
       "      <td>BMG_PM230354</td>\n",
       "      <td>BMG_GN230354</td>\n",
       "      <td></td>\n",
       "      <td>Promoter-Gene</td>\n",
       "    </tr>\n",
       "    <tr>\n",
       "      <th>230354</th>\n",
       "      <td>BMG_ED_PMGN230355</td>\n",
       "      <td>BMG_PM230355</td>\n",
       "      <td>BMG_GN230355</td>\n",
       "      <td></td>\n",
       "      <td>Promoter-Gene</td>\n",
       "    </tr>\n",
       "    <tr>\n",
       "      <th>230355</th>\n",
       "      <td>BMG_ED_PMGN230356</td>\n",
       "      <td>BMG_PM230356</td>\n",
       "      <td>BMG_GN230356</td>\n",
       "      <td></td>\n",
       "      <td>Promoter-Gene</td>\n",
       "    </tr>\n",
       "    <tr>\n",
       "      <th>230356</th>\n",
       "      <td>BMG_ED_PMGN230357</td>\n",
       "      <td>BMG_PM230357</td>\n",
       "      <td>BMG_GN230357</td>\n",
       "      <td></td>\n",
       "      <td>Promoter-Gene</td>\n",
       "    </tr>\n",
       "    <tr>\n",
       "      <th>230357</th>\n",
       "      <td>BMG_ED_PMGN230358</td>\n",
       "      <td>BMG_PM230358</td>\n",
       "      <td>BMG_GN230358</td>\n",
       "      <td></td>\n",
       "      <td>Promoter-Gene</td>\n",
       "    </tr>\n",
       "  </tbody>\n",
       "</table>\n",
       "<p>230358 rows × 5 columns</p>\n",
       "</div>"
      ],
      "text/plain": [
       "        BioMedGraphica_ID       From_ID         To_ID Source           Type\n",
       "0       BMG_ED_PMGN000001  BMG_PM000001  BMG_GN000001         Promoter-Gene\n",
       "1       BMG_ED_PMGN000002  BMG_PM000002  BMG_GN000002         Promoter-Gene\n",
       "2       BMG_ED_PMGN000003  BMG_PM000003  BMG_GN000003         Promoter-Gene\n",
       "3       BMG_ED_PMGN000004  BMG_PM000004  BMG_GN000004         Promoter-Gene\n",
       "4       BMG_ED_PMGN000005  BMG_PM000005  BMG_GN000005         Promoter-Gene\n",
       "...                   ...           ...           ...    ...            ...\n",
       "230353  BMG_ED_PMGN230354  BMG_PM230354  BMG_GN230354         Promoter-Gene\n",
       "230354  BMG_ED_PMGN230355  BMG_PM230355  BMG_GN230355         Promoter-Gene\n",
       "230355  BMG_ED_PMGN230356  BMG_PM230356  BMG_GN230356         Promoter-Gene\n",
       "230356  BMG_ED_PMGN230357  BMG_PM230357  BMG_GN230357         Promoter-Gene\n",
       "230357  BMG_ED_PMGN230358  BMG_PM230358  BMG_GN230358         Promoter-Gene\n",
       "\n",
       "[230358 rows x 5 columns]"
      ]
     },
     "execution_count": 4,
     "metadata": {},
     "output_type": "execute_result"
    }
   ],
   "source": [
    "promoter_gene['Source'] = ''\n",
    "promoter_gene['Type'] = 'Promoter-Gene'\n",
    "\n",
    "max_length = len(str(len(promoter_gene)))\n",
    "promoter_gene['BioMedGraphica_ID'] = ['BMG_ED_PMGN' + str(i).zfill(max_length) for i in range(1, len(promoter_gene) + 1)]\n",
    "columns = ['BioMedGraphica_ID'] + [col for col in promoter_gene.columns if col != 'BioMedGraphica_ID']  # re-order columns\n",
    "promoter_gene = promoter_gene[columns]\n",
    "promoter_gene"
   ]
  },
  {
   "cell_type": "code",
   "execution_count": 5,
   "metadata": {},
   "outputs": [
    {
     "name": "stdout",
     "output_type": "stream",
     "text": [
      "Data has been saved to D:\\RA\\BMG\\BioMedGraphica\\Relation\\Promoter-Gene\\BioMedGraphica_Promoter_Gene.csv\n"
     ]
    }
   ],
   "source": [
    "import os\n",
    "from pathlib import Path\n",
    "\n",
    "# get the current working directory\n",
    "current_working_dir = Path(os.getcwd()).resolve()\n",
    "\n",
    "# get the output directory\n",
    "grandparent_dir = current_working_dir.parent.parent.parent\n",
    "\n",
    "target_folder = grandparent_dir / 'BioMedGraphica' / 'Relation' / 'Promoter-Gene'\n",
    "if not target_folder.exists():\n",
    "    target_folder.mkdir(parents=True)\n",
    "    print(f\"Folder {target_folder} has been created.\")\n",
    "\n",
    "output_file_path = target_folder / 'BioMedGraphica_Promoter_Gene.csv'\n",
    "promoter_gene.to_csv(output_file_path, index=False)\n",
    "print(f\"Data has been saved to {output_file_path}\")"
   ]
  }
 ],
 "metadata": {
  "kernelspec": {
   "display_name": "base",
   "language": "python",
   "name": "python3"
  },
  "language_info": {
   "codemirror_mode": {
    "name": "ipython",
    "version": 3
   },
   "file_extension": ".py",
   "mimetype": "text/x-python",
   "name": "python",
   "nbconvert_exporter": "python",
   "pygments_lexer": "ipython3",
   "version": "3.9.19"
  }
 },
 "nbformat": 4,
 "nbformat_minor": 2
}
