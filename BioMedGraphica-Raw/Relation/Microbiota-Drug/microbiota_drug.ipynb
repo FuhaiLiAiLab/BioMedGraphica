{
 "cells": [
  {
   "cell_type": "markdown",
   "metadata": {},
   "source": [
    "### MDAD"
   ]
  },
  {
   "cell_type": "code",
   "execution_count": 1,
   "metadata": {},
   "outputs": [
    {
     "data": {
      "application/vnd.microsoft.datawrangler.viewer.v0+json": {
       "columns": [
        {
         "name": "index",
         "rawType": "int64",
         "type": "integer"
        },
        {
         "name": "Name",
         "rawType": "object",
         "type": "string"
        },
        {
         "name": "Molecular form",
         "rawType": "object",
         "type": "unknown"
        },
        {
         "name": "Microbe",
         "rawType": "object",
         "type": "string"
        },
        {
         "name": "Strain",
         "rawType": "object",
         "type": "string"
        },
        {
         "name": "Target",
         "rawType": "object",
         "type": "unknown"
        },
        {
         "name": "PubMed ID",
         "rawType": "object",
         "type": "string"
        }
       ],
       "conversionMethod": "pd.DataFrame",
       "ref": "9c27fe7e-563f-4b88-8aa6-f71f790bd5d0",
       "rows": [
        [
         "0",
         "(1-(4-chlorophenoxy)-3-[(4, 6-dimethyl-2-pyrimidinyl) thio]-2- propanol)",
         "C16H19ClN2O2",
         "Vibrio harveyi",
         "MTCC 3438",
         null,
         "27141809"
        ],
        [
         "1",
         "(10R,11R)-Hydnocarpin",
         "C25H20O9",
         "Staphylococcus aureus",
         "8325-4",
         null,
         "26273725"
        ],
        [
         "2",
         "(10R,11R)-Hydnocarpin D",
         "C25H20O9",
         "Staphylococcus aureus",
         "8325-4",
         null,
         "26273725"
        ],
        [
         "3",
         "(10S,11S)-Hydnocarpin D",
         "C25H20O9",
         "Staphylococcus aureus",
         "8325-4",
         null,
         "26273725"
        ],
        [
         "4",
         "(1E)-1-{[(1E)-prop-1-ene-1-sulfinyl]sulfanyl}prop-1-ene",
         "C6H10OS2",
         "Streptococcus mutans",
         "UA159",
         null,
         "25081571"
        ],
        [
         "5",
         "(1R,2S,7R,3E,11E)-2,18-diacetoxycembra-3,8(19),11,15(17)-tetraen-7-ol",
         "C20H32O3",
         "Pseudomonas aeruginosa",
         "ATCC 27853",
         null,
         "22905751"
        ],
        [
         "6",
         "(1R,2S,7R,3E,11E)-2,18-diacetoxycembra-3,8(19),11,15(17)-tetraen-7-ol",
         "C20H32O3",
         "Vibrio harveyi",
         "PHY-2A",
         null,
         "22905751"
        ],
        [
         "7",
         "(1R,2S,7R,3E,8E,11E)-2,18-diacetoxycembra-3,8,11,15(17)-tetraen-7-ol",
         "C20H32O3",
         "Pseudomonas aeruginosa",
         "ATCC 27853",
         null,
         "22905751"
        ],
        [
         "8",
         "(1R,2S,7R,3E,8E,11E)-2,18-diacetoxycembra-3,8,11,15(17)-tetraen-7-ol",
         "C20H32O3",
         "Staphylococcus aureus",
         "ATCC 25923",
         null,
         "22905751"
        ],
        [
         "9",
         "(1R,2S,7R,3E,8E,11E)-2,18-diacetoxycembra-3,8,11,15(17)-tetraen-7-ol",
         "C20H32O3",
         "Vibrio harveyi",
         "PHY-2A",
         null,
         "22905751"
        ],
        [
         "10",
         "(1R,2S,7R,8R)-2,18-diacetoxyasperdiol",
         "C20H34O2",
         "Pseudomonas aeruginosa",
         "ATCC 27853",
         null,
         "22905751"
        ],
        [
         "11",
         "(1R,2S,7R,8R)-2,18-diacetoxyasperdiol",
         "C20H34O2",
         "Vibrio harveyi",
         "PHY-2A",
         null,
         "22905751"
        ],
        [
         "12",
         "(1R,3S,7R,8S,11S,12R)-3-hydroxy-1,4,8-trimethyl-12-(propan-2-yl)tricyclo[9.3.0.0]tetradec-4-en-6-one",
         "C20H32O2",
         "Pseudomonas aeruginosa",
         "ATCC 27853",
         null,
         "21384863"
        ],
        [
         "13",
         "(1R,4R,8S,11S,12R)-4-hydroxy-1,4,8-trimethyl-12-(propan-2-yl)tricyclo[9.3.0.0]tetradec-3(7)-en-6-one",
         "C20H32O2",
         "Pseudomonas aeruginosa",
         "ATCC 27853",
         null,
         "21384863"
        ],
        [
         "14",
         "(1Z)-(2-phenylethylidene)-lambda4-sulfanyliumolate",
         "C8H8OS",
         "Actinomyces oris",
         "MG1",
         null,
         "25081571"
        ],
        [
         "15",
         "(1Z)-(2-phenylethylidene)-lambda4-sulfanyliumolate",
         "C8H8OS",
         "Streptococcus sanguis",
         "10556",
         null,
         "25081571"
        ],
        [
         "16",
         "(1Z)-(prop-2-en-1-ylidene)-lambda4-sulfanyliumolate",
         "C6H10OS2",
         "Actinomyces oris",
         "MG1",
         null,
         "25081571"
        ],
        [
         "17",
         "(1Z)-(prop-2-en-1-ylidene)-lambda4-sulfanyliumolate",
         "C6H10OS2",
         "Streptococcus mutans",
         "UA159",
         null,
         "25081571"
        ],
        [
         "18",
         "(1Z)-(prop-2-en-1-ylidene)-lambda4-sulfanyliumolate",
         "C6H10OS2",
         "Streptococcus sanguis",
         "10556",
         null,
         "25081571"
        ],
        [
         "19",
         "(1Z)-ethylidene-lambda4-sulfanyliumolate",
         "C2H4OS",
         "Streptococcus mutans",
         "UA159",
         null,
         "25081571"
        ],
        [
         "20",
         "(1Z)-ethylidene-lambda4-sulfanyliumolate",
         "C2H4OS",
         "Streptococcus sanguis",
         "10556",
         null,
         "25081571"
        ],
        [
         "21",
         "(2-(4-chlorophenyl)- 4-{[(6-methyl-2-pyridinyl)amino]methylene}-1,3-oxazol- 5(4H)-one)",
         "C16H12ClN3O2",
         "Streptococcus mutans",
         "UA159",
         null,
         "26526453"
        ],
        [
         "22",
         "(2-{[(2-phenylethyl)sulfanyl]sulfinyl}ethyl)benzene",
         "C16H18OS2",
         "Actinomyces oris",
         "MG1",
         null,
         "25081571"
        ],
        [
         "23",
         "(2-{[(2-phenylethyl)sulfanyl]sulfinyl}ethyl)benzene",
         "C16H18OS2",
         "Streptococcus mutans",
         "UA159",
         null,
         "25081571"
        ],
        [
         "24",
         "(2E)-1-(1 ,3 -benzodioxol-5-yl)-3-(2-naphthyl)-2-propen-1-one",
         "C20H14O3",
         "Enterococcus faecalis",
         "ATCC 19433",
         null,
         "24016798"
        ],
        [
         "25",
         "(2E)-1-(1 ,3 -benzodioxol-5-yl)-3-(2-naphthyl)-2-propen-1-one",
         "C20H14O3",
         "Pseudomonas aeruginosa",
         "ATCC 25923",
         null,
         "24016798"
        ],
        [
         "26",
         "(2E)-1-(1 ,3 -benzodioxol-5-yl)-3-(2-naphthyl)-2-propen-1-one",
         "C20H14O3",
         "Staphylococcus aureus",
         "ATCC 25923",
         null,
         "24016798"
        ],
        [
         "27",
         "(2E)-1-(1 ,3 -benzodioxol-5-yl)-3-(2-naphthyl)-2-propen-1-one",
         "C20H14O3",
         "Staphylococcus epidermidis",
         "ATCC 35547",
         null,
         "24016798"
        ],
        [
         "28",
         "(2E)-1-(1 ,3 -benzodioxol-5-yl)-3-(2-naphthyl)-2-propen-1-one",
         "C20H14O3",
         "Streptococcus mutans",
         "ATCC 25175",
         null,
         "24016798"
        ],
        [
         "29",
         "(2E)-1-(1,3-benzodioxol-5-yl)-3-(2-chloro-quinolin-3-yl)-2-propen-1-one",
         "C19H12ClNO3",
         "Enterococcus faecalis",
         "ATCC 19433",
         null,
         "24016798"
        ],
        [
         "30",
         "(2E)-1-(1,3-benzodioxol-5-yl)-3-(2-chloro-quinolin-3-yl)-2-propen-1-one",
         "C19H12ClNO3",
         "Pseudomonas aeruginosa",
         "ATCC 25923",
         null,
         "24016798"
        ],
        [
         "31",
         "(2E)-1-(1,3-benzodioxol-5-yl)-3-(2-chloro-quinolin-3-yl)-2-propen-1-one",
         "C19H12ClNO3",
         "Staphylococcus aureus",
         "ATCC 25923",
         null,
         "24016798"
        ],
        [
         "32",
         "(2E)-1-(1,3-benzodioxol-5-yl)-3-(2-chloro-quinolin-3-yl)-2-propen-1-one",
         "C19H12ClNO3",
         "Staphylococcus epidermidis",
         "ATCC 35547",
         null,
         "24016798"
        ],
        [
         "33",
         "(2E)-1-(1,3-benzodioxol-5-yl)-3-(2-chloro-quinolin-3-yl)-2-propen-1-one",
         "C19H12ClNO3",
         "Streptococcus mutans",
         "ATCC 25175",
         null,
         "24016798"
        ],
        [
         "34",
         "(2E)-1-(1,3-benzodioxol-5-yl)-3-[5-(2-nitro-phenyl)-furan-2-yl]-2-propen-1-one",
         "C20H13NO6",
         "Enterococcus faecalis",
         "ATCC 19433",
         null,
         "24016798"
        ],
        [
         "35",
         "(2E)-1-(1,3-benzodioxol-5-yl)-3-[5-(2-nitro-phenyl)-furan-2-yl]-2-propen-1-one",
         "C20H13NO6",
         "Pseudomonas aeruginosa",
         "ATCC 25923",
         null,
         "24016798"
        ],
        [
         "36",
         "(2E)-1-(1,3-benzodioxol-5-yl)-3-[5-(2-nitro-phenyl)-furan-2-yl]-2-propen-1-one",
         "C20H13NO6",
         "Staphylococcus aureus",
         "ATCC 25923",
         null,
         "24016798"
        ],
        [
         "37",
         "(2E)-1-(1,3-benzodioxol-5-yl)-3-[5-(2-nitro-phenyl)-furan-2-yl]-2-propen-1-one",
         "C20H13NO6",
         "Staphylococcus epidermidis",
         "ATCC 35547",
         null,
         "24016798"
        ],
        [
         "38",
         "(2E)-1-(1,3-benzodioxol-5-yl)-3-[5-(2-nitro-phenyl)-furan-2-yl]-2-propen-1-one",
         "C20H13NO6",
         "Streptococcus mutans",
         "ATCC 25175",
         null,
         "24016798"
        ],
        [
         "39",
         "(2E)-1-(2 ,4 ,5 -trimethoxyphenyl)-3-(2-chloro-6-methoxy-quinolin-3-yl)-2-propen-1-one",
         "C22H20ClNO5",
         "Enterococcus faecalis",
         "ATCC 19433",
         null,
         "24016798"
        ],
        [
         "40",
         "(2E)-1-(2 ,4 ,5 -trimethoxyphenyl)-3-(2-chloro-6-methoxy-quinolin-3-yl)-2-propen-1-one",
         "C22H20ClNO5",
         "Pseudomonas aeruginosa",
         "ATCC 25923",
         null,
         "24016798"
        ],
        [
         "41",
         "(2E)-1-(2 ,4 ,5 -trimethoxyphenyl)-3-(2-chloro-6-methoxy-quinolin-3-yl)-2-propen-1-one",
         "C22H20ClNO5",
         "Staphylococcus aureus",
         "ATCC 25923",
         null,
         "24016798"
        ],
        [
         "42",
         "(2E)-1-(2 ,4 ,5 -trimethoxyphenyl)-3-(2-chloro-6-methoxy-quinolin-3-yl)-2-propen-1-one",
         "C22H20ClNO5",
         "Staphylococcus epidermidis",
         "ATCC 35547",
         null,
         "24016798"
        ],
        [
         "43",
         "(2E)-1-(2 ,4 ,5 -trimethoxyphenyl)-3-(2-chloro-6-methoxy-quinolin-3-yl)-2-propen-1-one",
         "C22H20ClNO5",
         "Streptococcus mutans",
         "ATCC 25175",
         null,
         "24016798"
        ],
        [
         "44",
         "(2E)-1-(2 ,4 ,5 -trimethoxyphenyl)-3-(2-chloro-quinolin-3-yl)-2-propen-1-one",
         "C21H18ClNO4",
         "Enterococcus faecalis",
         "ATCC 19433",
         null,
         "24016798"
        ],
        [
         "45",
         "(2E)-1-(2 ,4 ,5 -trimethoxyphenyl)-3-(2-chloro-quinolin-3-yl)-2-propen-1-one",
         "C21H18ClNO4",
         "Pseudomonas aeruginosa",
         "ATCC 25923",
         null,
         "24016798"
        ],
        [
         "46",
         "(2E)-1-(2 ,4 ,5 -trimethoxyphenyl)-3-(2-chloro-quinolin-3-yl)-2-propen-1-one",
         "C21H18ClNO4",
         "Staphylococcus aureus",
         "ATCC 25923",
         null,
         "24016798"
        ],
        [
         "47",
         "(2E)-1-(2 ,4 ,5 -trimethoxyphenyl)-3-(2-chloro-quinolin-3-yl)-2-propen-1-one",
         "C21H18ClNO4",
         "Staphylococcus epidermidis",
         "ATCC 35547",
         null,
         "24016798"
        ],
        [
         "48",
         "(2E)-1-(2 ,4 ,5 -trimethoxyphenyl)-3-(2-chloro-quinolin-3-yl)-2-propen-1-one",
         "C21H18ClNO4",
         "Streptococcus mutans",
         "ATCC 25175",
         null,
         "24016798"
        ],
        [
         "49",
         "(2E)-1-(2 ,4 ,5 -trimethoxyphenyl)-3-(2-naphthyl)-2-propen-1-one",
         "C22H20O4",
         "Enterococcus faecalis",
         "ATCC 19433",
         null,
         "24016798"
        ]
       ],
       "shape": {
        "columns": 6,
        "rows": 5055
       }
      },
      "text/html": [
       "<div>\n",
       "<style scoped>\n",
       "    .dataframe tbody tr th:only-of-type {\n",
       "        vertical-align: middle;\n",
       "    }\n",
       "\n",
       "    .dataframe tbody tr th {\n",
       "        vertical-align: top;\n",
       "    }\n",
       "\n",
       "    .dataframe thead th {\n",
       "        text-align: right;\n",
       "    }\n",
       "</style>\n",
       "<table border=\"1\" class=\"dataframe\">\n",
       "  <thead>\n",
       "    <tr style=\"text-align: right;\">\n",
       "      <th></th>\n",
       "      <th>Name</th>\n",
       "      <th>Molecular form</th>\n",
       "      <th>Microbe</th>\n",
       "      <th>Strain</th>\n",
       "      <th>Target</th>\n",
       "      <th>PubMed ID</th>\n",
       "    </tr>\n",
       "  </thead>\n",
       "  <tbody>\n",
       "    <tr>\n",
       "      <th>0</th>\n",
       "      <td>(1-(4-chlorophenoxy)-3-[(4, 6-dimethyl-2-pyrim...</td>\n",
       "      <td>C16H19ClN2O2</td>\n",
       "      <td>Vibrio harveyi</td>\n",
       "      <td>MTCC 3438</td>\n",
       "      <td>NaN</td>\n",
       "      <td>27141809</td>\n",
       "    </tr>\n",
       "    <tr>\n",
       "      <th>1</th>\n",
       "      <td>(10R,11R)-Hydnocarpin</td>\n",
       "      <td>C25H20O9</td>\n",
       "      <td>Staphylococcus aureus</td>\n",
       "      <td>8325-4</td>\n",
       "      <td>NaN</td>\n",
       "      <td>26273725</td>\n",
       "    </tr>\n",
       "    <tr>\n",
       "      <th>2</th>\n",
       "      <td>(10R,11R)-Hydnocarpin D</td>\n",
       "      <td>C25H20O9</td>\n",
       "      <td>Staphylococcus aureus</td>\n",
       "      <td>8325-4</td>\n",
       "      <td>NaN</td>\n",
       "      <td>26273725</td>\n",
       "    </tr>\n",
       "    <tr>\n",
       "      <th>3</th>\n",
       "      <td>(10S,11S)-Hydnocarpin D</td>\n",
       "      <td>C25H20O9</td>\n",
       "      <td>Staphylococcus aureus</td>\n",
       "      <td>8325-4</td>\n",
       "      <td>NaN</td>\n",
       "      <td>26273725</td>\n",
       "    </tr>\n",
       "    <tr>\n",
       "      <th>4</th>\n",
       "      <td>(1E)-1-{[(1E)-prop-1-ene-1-sulfinyl]sulfanyl}p...</td>\n",
       "      <td>C6H10OS2</td>\n",
       "      <td>Streptococcus mutans</td>\n",
       "      <td>UA159</td>\n",
       "      <td>NaN</td>\n",
       "      <td>25081571</td>\n",
       "    </tr>\n",
       "    <tr>\n",
       "      <th>...</th>\n",
       "      <td>...</td>\n",
       "      <td>...</td>\n",
       "      <td>...</td>\n",
       "      <td>...</td>\n",
       "      <td>...</td>\n",
       "      <td>...</td>\n",
       "    </tr>\n",
       "    <tr>\n",
       "      <th>5050</th>\n",
       "      <td>ZnO nanoparticles</td>\n",
       "      <td>ZnO</td>\n",
       "      <td>Pseudomonas aeruginosa</td>\n",
       "      <td>M10</td>\n",
       "      <td>NaN</td>\n",
       "      <td>26084709</td>\n",
       "    </tr>\n",
       "    <tr>\n",
       "      <th>5051</th>\n",
       "      <td>ZnO nanoparticles</td>\n",
       "      <td>ZnO</td>\n",
       "      <td>Pseudomonas aeruginosa</td>\n",
       "      <td>ID4365</td>\n",
       "      <td>NaN</td>\n",
       "      <td>26084709</td>\n",
       "    </tr>\n",
       "    <tr>\n",
       "      <th>5052</th>\n",
       "      <td>ZnO nanoparticles</td>\n",
       "      <td>ZnO</td>\n",
       "      <td>Pseudomonas aeruginosa</td>\n",
       "      <td>IGB83</td>\n",
       "      <td>NaN</td>\n",
       "      <td>26084709</td>\n",
       "    </tr>\n",
       "    <tr>\n",
       "      <th>5053</th>\n",
       "      <td>ZnO nanoparticles</td>\n",
       "      <td>ZnO</td>\n",
       "      <td>Pseudomonas aeruginosa</td>\n",
       "      <td>148</td>\n",
       "      <td>NaN</td>\n",
       "      <td>26084709</td>\n",
       "    </tr>\n",
       "    <tr>\n",
       "      <th>5054</th>\n",
       "      <td>Zotepine</td>\n",
       "      <td>C18H18ClNOS</td>\n",
       "      <td>Candida albicans</td>\n",
       "      <td>SC5314</td>\n",
       "      <td>NaN</td>\n",
       "      <td>23689719</td>\n",
       "    </tr>\n",
       "  </tbody>\n",
       "</table>\n",
       "<p>5055 rows × 6 columns</p>\n",
       "</div>"
      ],
      "text/plain": [
       "                                                   Name Molecular form  \\\n",
       "0     (1-(4-chlorophenoxy)-3-[(4, 6-dimethyl-2-pyrim...   C16H19ClN2O2   \n",
       "1                                 (10R,11R)-Hydnocarpin       C25H20O9   \n",
       "2                               (10R,11R)-Hydnocarpin D       C25H20O9   \n",
       "3                               (10S,11S)-Hydnocarpin D       C25H20O9   \n",
       "4     (1E)-1-{[(1E)-prop-1-ene-1-sulfinyl]sulfanyl}p...       C6H10OS2   \n",
       "...                                                 ...            ...   \n",
       "5050                                  ZnO nanoparticles            ZnO   \n",
       "5051                                  ZnO nanoparticles            ZnO   \n",
       "5052                                  ZnO nanoparticles            ZnO   \n",
       "5053                                  ZnO nanoparticles            ZnO   \n",
       "5054                                           Zotepine    C18H18ClNOS   \n",
       "\n",
       "                     Microbe     Strain Target PubMed ID  \n",
       "0             Vibrio harveyi  MTCC 3438    NaN  27141809  \n",
       "1      Staphylococcus aureus     8325-4    NaN  26273725  \n",
       "2      Staphylococcus aureus     8325-4    NaN  26273725  \n",
       "3      Staphylococcus aureus     8325-4    NaN  26273725  \n",
       "4       Streptococcus mutans      UA159    NaN  25081571  \n",
       "...                      ...        ...    ...       ...  \n",
       "5050  Pseudomonas aeruginosa        M10    NaN  26084709  \n",
       "5051  Pseudomonas aeruginosa     ID4365    NaN  26084709  \n",
       "5052  Pseudomonas aeruginosa      IGB83    NaN  26084709  \n",
       "5053  Pseudomonas aeruginosa        148    NaN  26084709  \n",
       "5054        Candida albicans     SC5314    NaN  23689719  \n",
       "\n",
       "[5055 rows x 6 columns]"
      ]
     },
     "execution_count": 1,
     "metadata": {},
     "output_type": "execute_result"
    }
   ],
   "source": [
    "# Download Link: https://github.com/Sun-Yazhou/MDAD/raw/refs/heads/master/MDAD.zip\n",
    "# Download Date: 2025-03-21\n",
    "# Download Version: 2018-10-29\n",
    "\n",
    "import pandas as pd\n",
    "\n",
    "mdad = pd.read_csv('MDAD\\\\MDAD\\\\download\\\\all data.txt', sep='\\t', encoding='ISO-8859-1')\n",
    "mdad.dropna(how='all', inplace=True)\n",
    "mdad"
   ]
  },
  {
   "cell_type": "markdown",
   "metadata": {},
   "source": [
    "### PharmacoMicrobiomics"
   ]
  },
  {
   "cell_type": "code",
   "execution_count": 2,
   "metadata": {},
   "outputs": [
    {
     "data": {
      "application/vnd.microsoft.datawrangler.viewer.v0+json": {
       "columns": [
        {
         "name": "index",
         "rawType": "int64",
         "type": "integer"
        },
        {
         "name": "Drug_CID",
         "rawType": "int64",
         "type": "integer"
        },
        {
         "name": "Microbe_Taxon",
         "rawType": "int64",
         "type": "integer"
        }
       ],
       "conversionMethod": "pd.DataFrame",
       "ref": "c88d8d4a-d3a2-4a9d-a186-f479cc10bb58",
       "rows": [
        [
         "0",
         "2724385",
         "84112"
        ],
        [
         "1",
         "5282192",
         "816"
        ],
        [
         "2",
         "10303",
         "2"
        ],
        [
         "3",
         "5280961",
         "820"
        ],
        [
         "4",
         "5280961",
         "39490"
        ],
        [
         "5",
         "65064",
         "41200"
        ],
        [
         "6",
         "17787981",
         "1681"
        ],
        [
         "7",
         "442089",
         "816"
        ],
        [
         "8",
         "71905",
         "562"
        ],
        [
         "9",
         "300",
         "1350"
        ],
        [
         "10",
         "7533",
         "1350"
        ],
        [
         "11",
         "4506",
         "1535"
        ],
        [
         "12",
         "5734",
         "1509"
        ],
        [
         "13",
         "4173",
         "1502"
        ],
        [
         "14",
         "5282192",
         "28111"
        ],
        [
         "15",
         "5282192",
         "821"
        ],
        [
         "16",
         "5959",
         "562"
        ],
        [
         "17",
         "2907",
         "1239"
        ],
        [
         "18",
         "3672",
         "412900"
        ],
        [
         "19",
         "2724385",
         "84112"
        ],
        [
         "20",
         "60838",
         "562"
        ],
        [
         "21",
         "464205",
         "2702"
        ],
        [
         "22",
         "5997",
         "290054"
        ],
        [
         "23",
         "7955",
         "570"
        ],
        [
         "24",
         "60750",
         "2100"
        ],
        [
         "25",
         "439503",
         "1579"
        ],
        [
         "26",
         "442456",
         "1689"
        ],
        [
         "27",
         "5280805",
         "1689"
        ],
        [
         "28",
         "6047",
         "1578"
        ],
        [
         "29",
         "426756",
         "165179"
        ],
        [
         "30",
         "3007",
         "562"
        ],
        [
         "31",
         "3385",
         "562"
        ],
        [
         "32",
         "60838",
         "1578"
        ],
        [
         "33",
         "442428",
         "1689"
        ],
        [
         "34",
         "3385",
         "816"
        ],
        [
         "35",
         "126941",
         "816"
        ],
        [
         "36",
         "126941",
         "838"
        ],
        [
         "37",
         "60823",
         "2"
        ],
        [
         "38",
         "2353",
         "40518"
        ],
        [
         "39",
         "2353",
         "239935"
        ],
        [
         "40",
         "135398745",
         "239759"
        ],
        [
         "41",
         "135398745",
         "2"
        ],
        [
         "42",
         "2244",
         "851"
        ],
        [
         "43",
         "37542",
         "2"
        ],
        [
         "44",
         "92727",
         "2"
        ],
        [
         "45",
         "392622",
         "2"
        ],
        [
         "46",
         "131411",
         "2"
        ],
        [
         "47",
         "492405",
         "2"
        ],
        [
         "48",
         "65028",
         "2"
        ],
        [
         "49",
         "2719",
         "2"
        ]
       ],
       "shape": {
        "columns": 2,
        "rows": 69
       }
      },
      "text/html": [
       "<div>\n",
       "<style scoped>\n",
       "    .dataframe tbody tr th:only-of-type {\n",
       "        vertical-align: middle;\n",
       "    }\n",
       "\n",
       "    .dataframe tbody tr th {\n",
       "        vertical-align: top;\n",
       "    }\n",
       "\n",
       "    .dataframe thead th {\n",
       "        text-align: right;\n",
       "    }\n",
       "</style>\n",
       "<table border=\"1\" class=\"dataframe\">\n",
       "  <thead>\n",
       "    <tr style=\"text-align: right;\">\n",
       "      <th></th>\n",
       "      <th>Drug_CID</th>\n",
       "      <th>Microbe_Taxon</th>\n",
       "    </tr>\n",
       "  </thead>\n",
       "  <tbody>\n",
       "    <tr>\n",
       "      <th>0</th>\n",
       "      <td>2724385</td>\n",
       "      <td>84112</td>\n",
       "    </tr>\n",
       "    <tr>\n",
       "      <th>1</th>\n",
       "      <td>5282192</td>\n",
       "      <td>816</td>\n",
       "    </tr>\n",
       "    <tr>\n",
       "      <th>2</th>\n",
       "      <td>10303</td>\n",
       "      <td>2</td>\n",
       "    </tr>\n",
       "    <tr>\n",
       "      <th>3</th>\n",
       "      <td>5280961</td>\n",
       "      <td>820</td>\n",
       "    </tr>\n",
       "    <tr>\n",
       "      <th>4</th>\n",
       "      <td>5280961</td>\n",
       "      <td>39490</td>\n",
       "    </tr>\n",
       "    <tr>\n",
       "      <th>...</th>\n",
       "      <td>...</td>\n",
       "      <td>...</td>\n",
       "    </tr>\n",
       "    <tr>\n",
       "      <th>64</th>\n",
       "      <td>46488338</td>\n",
       "      <td>1598</td>\n",
       "    </tr>\n",
       "    <tr>\n",
       "      <th>65</th>\n",
       "      <td>5333</td>\n",
       "      <td>1239</td>\n",
       "    </tr>\n",
       "    <tr>\n",
       "      <th>66</th>\n",
       "      <td>26879</td>\n",
       "      <td>816</td>\n",
       "    </tr>\n",
       "    <tr>\n",
       "      <th>67</th>\n",
       "      <td>4173</td>\n",
       "      <td>1578</td>\n",
       "    </tr>\n",
       "    <tr>\n",
       "      <th>68</th>\n",
       "      <td>43805</td>\n",
       "      <td>239935</td>\n",
       "    </tr>\n",
       "  </tbody>\n",
       "</table>\n",
       "<p>69 rows × 2 columns</p>\n",
       "</div>"
      ],
      "text/plain": [
       "    Drug_CID  Microbe_Taxon\n",
       "0    2724385          84112\n",
       "1    5282192            816\n",
       "2      10303              2\n",
       "3    5280961            820\n",
       "4    5280961          39490\n",
       "..       ...            ...\n",
       "64  46488338           1598\n",
       "65      5333           1239\n",
       "66     26879            816\n",
       "67      4173           1578\n",
       "68     43805         239935\n",
       "\n",
       "[69 rows x 2 columns]"
      ]
     },
     "execution_count": 2,
     "metadata": {},
     "output_type": "execute_result"
    }
   ],
   "source": [
    "# Download Link: http://pharmacomicrobiomics.com/view/relation/\n",
    "# Download Date: 2024-11-15\n",
    "# Download Version: 2021-03-21\n",
    "\n",
    "pm = pd.read_csv('PharmacoMicrobiomics.csv')\n",
    "pm"
   ]
  },
  {
   "cell_type": "markdown",
   "metadata": {},
   "source": [
    "### BioMedGraphica ID"
   ]
  },
  {
   "cell_type": "code",
   "execution_count": 3,
   "metadata": {},
   "outputs": [],
   "source": [
    "import pandas as pd\n",
    "import os\n",
    "from pathlib import Path\n",
    "\n",
    "current_working_dir = Path(os.getcwd()).resolve()\n",
    "grandparent_dir = current_working_dir.parent.parent.parent\n",
    "target_dir_microbiota = grandparent_dir / 'BioMedGraphica' / 'Entity' / 'Microbiota' / 'BioMedGraphica_Microbiota.csv'\n",
    "target_dir_drug_gui = grandparent_dir / 'BioMedGraphica' / 'Entity' / 'Drug' / 'BioMedGraphica_Drug_GUI_Name.csv'\n",
    "target_dir_drug = grandparent_dir / 'BioMedGraphica' / 'Entity' / 'Drug' / 'BioMedGraphica_Drug.csv'\n",
    "biomedgraphica_microbiota = pd.read_csv(target_dir_microbiota, dtype=str)\n",
    "biomedgraphica_drug_gui = pd.read_csv(target_dir_drug_gui, dtype=str)\n",
    "biomedgraphica_drug = pd.read_csv(target_dir_drug, dtype=str)"
   ]
  },
  {
   "cell_type": "markdown",
   "metadata": {},
   "source": [
    "### MDAD Mapping"
   ]
  },
  {
   "cell_type": "code",
   "execution_count": 5,
   "metadata": {},
   "outputs": [
    {
     "data": {
      "application/vnd.microsoft.datawrangler.viewer.v0+json": {
       "columns": [
        {
         "name": "index",
         "rawType": "int64",
         "type": "integer"
        },
        {
         "name": "Name",
         "rawType": "object",
         "type": "string"
        },
        {
         "name": "Molecular form",
         "rawType": "object",
         "type": "unknown"
        },
        {
         "name": "Microbe",
         "rawType": "object",
         "type": "string"
        },
        {
         "name": "Strain",
         "rawType": "object",
         "type": "string"
        },
        {
         "name": "Target",
         "rawType": "object",
         "type": "unknown"
        },
        {
         "name": "PubMed ID",
         "rawType": "object",
         "type": "string"
        },
        {
         "name": "To_ID",
         "rawType": "object",
         "type": "unknown"
        }
       ],
       "conversionMethod": "pd.DataFrame",
       "ref": "064dc20d-74ec-4c97-8c9f-02a4e0589c0d",
       "rows": [
        [
         "0",
         "(1-(4-chlorophenoxy)-3-[(4, 6-dimethyl-2-pyrimidinyl) thio]-2- propanol)",
         "C16H19ClN2O2",
         "Vibrio harveyi",
         "MTCC 3438",
         null,
         "27141809",
         null
        ],
        [
         "1",
         "(10R,11R)-Hydnocarpin",
         "C25H20O9",
         "Staphylococcus aureus",
         "8325-4",
         null,
         "26273725",
         null
        ],
        [
         "2",
         "(10R,11R)-Hydnocarpin D",
         "C25H20O9",
         "Staphylococcus aureus",
         "8325-4",
         null,
         "26273725",
         null
        ],
        [
         "3",
         "(10S,11S)-Hydnocarpin D",
         "C25H20O9",
         "Staphylococcus aureus",
         "8325-4",
         null,
         "26273725",
         null
        ],
        [
         "4",
         "(1E)-1-{[(1E)-prop-1-ene-1-sulfinyl]sulfanyl}prop-1-ene",
         "C6H10OS2",
         "Streptococcus mutans",
         "UA159",
         null,
         "25081571",
         null
        ],
        [
         "5",
         "(1R,2S,7R,3E,11E)-2,18-diacetoxycembra-3,8(19),11,15(17)-tetraen-7-ol",
         "C20H32O3",
         "Pseudomonas aeruginosa",
         "ATCC 27853",
         null,
         "22905751",
         null
        ],
        [
         "6",
         "(1R,2S,7R,3E,11E)-2,18-diacetoxycembra-3,8(19),11,15(17)-tetraen-7-ol",
         "C20H32O3",
         "Vibrio harveyi",
         "PHY-2A",
         null,
         "22905751",
         null
        ],
        [
         "7",
         "(1R,2S,7R,3E,8E,11E)-2,18-diacetoxycembra-3,8,11,15(17)-tetraen-7-ol",
         "C20H32O3",
         "Pseudomonas aeruginosa",
         "ATCC 27853",
         null,
         "22905751",
         null
        ],
        [
         "8",
         "(1R,2S,7R,3E,8E,11E)-2,18-diacetoxycembra-3,8,11,15(17)-tetraen-7-ol",
         "C20H32O3",
         "Staphylococcus aureus",
         "ATCC 25923",
         null,
         "22905751",
         null
        ],
        [
         "9",
         "(1R,2S,7R,3E,8E,11E)-2,18-diacetoxycembra-3,8,11,15(17)-tetraen-7-ol",
         "C20H32O3",
         "Vibrio harveyi",
         "PHY-2A",
         null,
         "22905751",
         null
        ],
        [
         "10",
         "(1R,2S,7R,8R)-2,18-diacetoxyasperdiol",
         "C20H34O2",
         "Pseudomonas aeruginosa",
         "ATCC 27853",
         null,
         "22905751",
         null
        ],
        [
         "11",
         "(1R,2S,7R,8R)-2,18-diacetoxyasperdiol",
         "C20H34O2",
         "Vibrio harveyi",
         "PHY-2A",
         null,
         "22905751",
         null
        ],
        [
         "12",
         "(1R,3S,7R,8S,11S,12R)-3-hydroxy-1,4,8-trimethyl-12-(propan-2-yl)tricyclo[9.3.0.0]tetradec-4-en-6-one",
         "C20H32O2",
         "Pseudomonas aeruginosa",
         "ATCC 27853",
         null,
         "21384863",
         null
        ],
        [
         "13",
         "(1R,4R,8S,11S,12R)-4-hydroxy-1,4,8-trimethyl-12-(propan-2-yl)tricyclo[9.3.0.0]tetradec-3(7)-en-6-one",
         "C20H32O2",
         "Pseudomonas aeruginosa",
         "ATCC 27853",
         null,
         "21384863",
         null
        ],
        [
         "14",
         "(1Z)-(2-phenylethylidene)-lambda4-sulfanyliumolate",
         "C8H8OS",
         "Actinomyces oris",
         "MG1",
         null,
         "25081571",
         null
        ],
        [
         "15",
         "(1Z)-(2-phenylethylidene)-lambda4-sulfanyliumolate",
         "C8H8OS",
         "Streptococcus sanguis",
         "10556",
         null,
         "25081571",
         null
        ],
        [
         "16",
         "(1Z)-(prop-2-en-1-ylidene)-lambda4-sulfanyliumolate",
         "C6H10OS2",
         "Actinomyces oris",
         "MG1",
         null,
         "25081571",
         null
        ],
        [
         "17",
         "(1Z)-(prop-2-en-1-ylidene)-lambda4-sulfanyliumolate",
         "C6H10OS2",
         "Streptococcus mutans",
         "UA159",
         null,
         "25081571",
         null
        ],
        [
         "18",
         "(1Z)-(prop-2-en-1-ylidene)-lambda4-sulfanyliumolate",
         "C6H10OS2",
         "Streptococcus sanguis",
         "10556",
         null,
         "25081571",
         null
        ],
        [
         "19",
         "(1Z)-ethylidene-lambda4-sulfanyliumolate",
         "C2H4OS",
         "Streptococcus mutans",
         "UA159",
         null,
         "25081571",
         null
        ],
        [
         "20",
         "(1Z)-ethylidene-lambda4-sulfanyliumolate",
         "C2H4OS",
         "Streptococcus sanguis",
         "10556",
         null,
         "25081571",
         null
        ],
        [
         "21",
         "(2-(4-chlorophenyl)- 4-{[(6-methyl-2-pyridinyl)amino]methylene}-1,3-oxazol- 5(4H)-one)",
         "C16H12ClN3O2",
         "Streptococcus mutans",
         "UA159",
         null,
         "26526453",
         null
        ],
        [
         "22",
         "(2-{[(2-phenylethyl)sulfanyl]sulfinyl}ethyl)benzene",
         "C16H18OS2",
         "Actinomyces oris",
         "MG1",
         null,
         "25081571",
         null
        ],
        [
         "23",
         "(2-{[(2-phenylethyl)sulfanyl]sulfinyl}ethyl)benzene",
         "C16H18OS2",
         "Streptococcus mutans",
         "UA159",
         null,
         "25081571",
         null
        ],
        [
         "24",
         "(2E)-1-(1 ,3 -benzodioxol-5-yl)-3-(2-naphthyl)-2-propen-1-one",
         "C20H14O3",
         "Enterococcus faecalis",
         "ATCC 19433",
         null,
         "24016798",
         null
        ],
        [
         "25",
         "(2E)-1-(1 ,3 -benzodioxol-5-yl)-3-(2-naphthyl)-2-propen-1-one",
         "C20H14O3",
         "Pseudomonas aeruginosa",
         "ATCC 25923",
         null,
         "24016798",
         null
        ],
        [
         "26",
         "(2E)-1-(1 ,3 -benzodioxol-5-yl)-3-(2-naphthyl)-2-propen-1-one",
         "C20H14O3",
         "Staphylococcus aureus",
         "ATCC 25923",
         null,
         "24016798",
         null
        ],
        [
         "27",
         "(2E)-1-(1 ,3 -benzodioxol-5-yl)-3-(2-naphthyl)-2-propen-1-one",
         "C20H14O3",
         "Staphylococcus epidermidis",
         "ATCC 35547",
         null,
         "24016798",
         null
        ],
        [
         "28",
         "(2E)-1-(1 ,3 -benzodioxol-5-yl)-3-(2-naphthyl)-2-propen-1-one",
         "C20H14O3",
         "Streptococcus mutans",
         "ATCC 25175",
         null,
         "24016798",
         null
        ],
        [
         "29",
         "(2E)-1-(1,3-benzodioxol-5-yl)-3-(2-chloro-quinolin-3-yl)-2-propen-1-one",
         "C19H12ClNO3",
         "Enterococcus faecalis",
         "ATCC 19433",
         null,
         "24016798",
         null
        ],
        [
         "30",
         "(2E)-1-(1,3-benzodioxol-5-yl)-3-(2-chloro-quinolin-3-yl)-2-propen-1-one",
         "C19H12ClNO3",
         "Pseudomonas aeruginosa",
         "ATCC 25923",
         null,
         "24016798",
         null
        ],
        [
         "31",
         "(2E)-1-(1,3-benzodioxol-5-yl)-3-(2-chloro-quinolin-3-yl)-2-propen-1-one",
         "C19H12ClNO3",
         "Staphylococcus aureus",
         "ATCC 25923",
         null,
         "24016798",
         null
        ],
        [
         "32",
         "(2E)-1-(1,3-benzodioxol-5-yl)-3-(2-chloro-quinolin-3-yl)-2-propen-1-one",
         "C19H12ClNO3",
         "Staphylococcus epidermidis",
         "ATCC 35547",
         null,
         "24016798",
         null
        ],
        [
         "33",
         "(2E)-1-(1,3-benzodioxol-5-yl)-3-(2-chloro-quinolin-3-yl)-2-propen-1-one",
         "C19H12ClNO3",
         "Streptococcus mutans",
         "ATCC 25175",
         null,
         "24016798",
         null
        ],
        [
         "34",
         "(2E)-1-(1,3-benzodioxol-5-yl)-3-[5-(2-nitro-phenyl)-furan-2-yl]-2-propen-1-one",
         "C20H13NO6",
         "Enterococcus faecalis",
         "ATCC 19433",
         null,
         "24016798",
         null
        ],
        [
         "35",
         "(2E)-1-(1,3-benzodioxol-5-yl)-3-[5-(2-nitro-phenyl)-furan-2-yl]-2-propen-1-one",
         "C20H13NO6",
         "Pseudomonas aeruginosa",
         "ATCC 25923",
         null,
         "24016798",
         null
        ],
        [
         "36",
         "(2E)-1-(1,3-benzodioxol-5-yl)-3-[5-(2-nitro-phenyl)-furan-2-yl]-2-propen-1-one",
         "C20H13NO6",
         "Staphylococcus aureus",
         "ATCC 25923",
         null,
         "24016798",
         null
        ],
        [
         "37",
         "(2E)-1-(1,3-benzodioxol-5-yl)-3-[5-(2-nitro-phenyl)-furan-2-yl]-2-propen-1-one",
         "C20H13NO6",
         "Staphylococcus epidermidis",
         "ATCC 35547",
         null,
         "24016798",
         null
        ],
        [
         "38",
         "(2E)-1-(1,3-benzodioxol-5-yl)-3-[5-(2-nitro-phenyl)-furan-2-yl]-2-propen-1-one",
         "C20H13NO6",
         "Streptococcus mutans",
         "ATCC 25175",
         null,
         "24016798",
         null
        ],
        [
         "39",
         "(2E)-1-(2 ,4 ,5 -trimethoxyphenyl)-3-(2-chloro-6-methoxy-quinolin-3-yl)-2-propen-1-one",
         "C22H20ClNO5",
         "Enterococcus faecalis",
         "ATCC 19433",
         null,
         "24016798",
         null
        ],
        [
         "40",
         "(2E)-1-(2 ,4 ,5 -trimethoxyphenyl)-3-(2-chloro-6-methoxy-quinolin-3-yl)-2-propen-1-one",
         "C22H20ClNO5",
         "Pseudomonas aeruginosa",
         "ATCC 25923",
         null,
         "24016798",
         null
        ],
        [
         "41",
         "(2E)-1-(2 ,4 ,5 -trimethoxyphenyl)-3-(2-chloro-6-methoxy-quinolin-3-yl)-2-propen-1-one",
         "C22H20ClNO5",
         "Staphylococcus aureus",
         "ATCC 25923",
         null,
         "24016798",
         null
        ],
        [
         "42",
         "(2E)-1-(2 ,4 ,5 -trimethoxyphenyl)-3-(2-chloro-6-methoxy-quinolin-3-yl)-2-propen-1-one",
         "C22H20ClNO5",
         "Staphylococcus epidermidis",
         "ATCC 35547",
         null,
         "24016798",
         null
        ],
        [
         "43",
         "(2E)-1-(2 ,4 ,5 -trimethoxyphenyl)-3-(2-chloro-6-methoxy-quinolin-3-yl)-2-propen-1-one",
         "C22H20ClNO5",
         "Streptococcus mutans",
         "ATCC 25175",
         null,
         "24016798",
         null
        ],
        [
         "44",
         "(2E)-1-(2 ,4 ,5 -trimethoxyphenyl)-3-(2-chloro-quinolin-3-yl)-2-propen-1-one",
         "C21H18ClNO4",
         "Enterococcus faecalis",
         "ATCC 19433",
         null,
         "24016798",
         null
        ],
        [
         "45",
         "(2E)-1-(2 ,4 ,5 -trimethoxyphenyl)-3-(2-chloro-quinolin-3-yl)-2-propen-1-one",
         "C21H18ClNO4",
         "Pseudomonas aeruginosa",
         "ATCC 25923",
         null,
         "24016798",
         null
        ],
        [
         "46",
         "(2E)-1-(2 ,4 ,5 -trimethoxyphenyl)-3-(2-chloro-quinolin-3-yl)-2-propen-1-one",
         "C21H18ClNO4",
         "Staphylococcus aureus",
         "ATCC 25923",
         null,
         "24016798",
         null
        ],
        [
         "47",
         "(2E)-1-(2 ,4 ,5 -trimethoxyphenyl)-3-(2-chloro-quinolin-3-yl)-2-propen-1-one",
         "C21H18ClNO4",
         "Staphylococcus epidermidis",
         "ATCC 35547",
         null,
         "24016798",
         null
        ],
        [
         "48",
         "(2E)-1-(2 ,4 ,5 -trimethoxyphenyl)-3-(2-chloro-quinolin-3-yl)-2-propen-1-one",
         "C21H18ClNO4",
         "Streptococcus mutans",
         "ATCC 25175",
         null,
         "24016798",
         null
        ],
        [
         "49",
         "(2E)-1-(2 ,4 ,5 -trimethoxyphenyl)-3-(2-naphthyl)-2-propen-1-one",
         "C22H20O4",
         "Enterococcus faecalis",
         "ATCC 19433",
         null,
         "24016798",
         null
        ]
       ],
       "shape": {
        "columns": 7,
        "rows": 5055
       }
      },
      "text/html": [
       "<div>\n",
       "<style scoped>\n",
       "    .dataframe tbody tr th:only-of-type {\n",
       "        vertical-align: middle;\n",
       "    }\n",
       "\n",
       "    .dataframe tbody tr th {\n",
       "        vertical-align: top;\n",
       "    }\n",
       "\n",
       "    .dataframe thead th {\n",
       "        text-align: right;\n",
       "    }\n",
       "</style>\n",
       "<table border=\"1\" class=\"dataframe\">\n",
       "  <thead>\n",
       "    <tr style=\"text-align: right;\">\n",
       "      <th></th>\n",
       "      <th>Name</th>\n",
       "      <th>Molecular form</th>\n",
       "      <th>Microbe</th>\n",
       "      <th>Strain</th>\n",
       "      <th>Target</th>\n",
       "      <th>PubMed ID</th>\n",
       "      <th>To_ID</th>\n",
       "    </tr>\n",
       "  </thead>\n",
       "  <tbody>\n",
       "    <tr>\n",
       "      <th>0</th>\n",
       "      <td>(1-(4-chlorophenoxy)-3-[(4, 6-dimethyl-2-pyrim...</td>\n",
       "      <td>C16H19ClN2O2</td>\n",
       "      <td>Vibrio harveyi</td>\n",
       "      <td>MTCC 3438</td>\n",
       "      <td>NaN</td>\n",
       "      <td>27141809</td>\n",
       "      <td>NaN</td>\n",
       "    </tr>\n",
       "    <tr>\n",
       "      <th>1</th>\n",
       "      <td>(10R,11R)-Hydnocarpin</td>\n",
       "      <td>C25H20O9</td>\n",
       "      <td>Staphylococcus aureus</td>\n",
       "      <td>8325-4</td>\n",
       "      <td>NaN</td>\n",
       "      <td>26273725</td>\n",
       "      <td>NaN</td>\n",
       "    </tr>\n",
       "    <tr>\n",
       "      <th>2</th>\n",
       "      <td>(10R,11R)-Hydnocarpin D</td>\n",
       "      <td>C25H20O9</td>\n",
       "      <td>Staphylococcus aureus</td>\n",
       "      <td>8325-4</td>\n",
       "      <td>NaN</td>\n",
       "      <td>26273725</td>\n",
       "      <td>NaN</td>\n",
       "    </tr>\n",
       "    <tr>\n",
       "      <th>3</th>\n",
       "      <td>(10S,11S)-Hydnocarpin D</td>\n",
       "      <td>C25H20O9</td>\n",
       "      <td>Staphylococcus aureus</td>\n",
       "      <td>8325-4</td>\n",
       "      <td>NaN</td>\n",
       "      <td>26273725</td>\n",
       "      <td>NaN</td>\n",
       "    </tr>\n",
       "    <tr>\n",
       "      <th>4</th>\n",
       "      <td>(1E)-1-{[(1E)-prop-1-ene-1-sulfinyl]sulfanyl}p...</td>\n",
       "      <td>C6H10OS2</td>\n",
       "      <td>Streptococcus mutans</td>\n",
       "      <td>UA159</td>\n",
       "      <td>NaN</td>\n",
       "      <td>25081571</td>\n",
       "      <td>NaN</td>\n",
       "    </tr>\n",
       "    <tr>\n",
       "      <th>...</th>\n",
       "      <td>...</td>\n",
       "      <td>...</td>\n",
       "      <td>...</td>\n",
       "      <td>...</td>\n",
       "      <td>...</td>\n",
       "      <td>...</td>\n",
       "      <td>...</td>\n",
       "    </tr>\n",
       "    <tr>\n",
       "      <th>5050</th>\n",
       "      <td>ZnO nanoparticles</td>\n",
       "      <td>ZnO</td>\n",
       "      <td>Pseudomonas aeruginosa</td>\n",
       "      <td>M10</td>\n",
       "      <td>NaN</td>\n",
       "      <td>26084709</td>\n",
       "      <td>NaN</td>\n",
       "    </tr>\n",
       "    <tr>\n",
       "      <th>5051</th>\n",
       "      <td>ZnO nanoparticles</td>\n",
       "      <td>ZnO</td>\n",
       "      <td>Pseudomonas aeruginosa</td>\n",
       "      <td>ID4365</td>\n",
       "      <td>NaN</td>\n",
       "      <td>26084709</td>\n",
       "      <td>NaN</td>\n",
       "    </tr>\n",
       "    <tr>\n",
       "      <th>5052</th>\n",
       "      <td>ZnO nanoparticles</td>\n",
       "      <td>ZnO</td>\n",
       "      <td>Pseudomonas aeruginosa</td>\n",
       "      <td>IGB83</td>\n",
       "      <td>NaN</td>\n",
       "      <td>26084709</td>\n",
       "      <td>NaN</td>\n",
       "    </tr>\n",
       "    <tr>\n",
       "      <th>5053</th>\n",
       "      <td>ZnO nanoparticles</td>\n",
       "      <td>ZnO</td>\n",
       "      <td>Pseudomonas aeruginosa</td>\n",
       "      <td>148</td>\n",
       "      <td>NaN</td>\n",
       "      <td>26084709</td>\n",
       "      <td>NaN</td>\n",
       "    </tr>\n",
       "    <tr>\n",
       "      <th>5054</th>\n",
       "      <td>Zotepine</td>\n",
       "      <td>C18H18ClNOS</td>\n",
       "      <td>Candida albicans</td>\n",
       "      <td>SC5314</td>\n",
       "      <td>NaN</td>\n",
       "      <td>23689719</td>\n",
       "      <td>BMG_DG168747</td>\n",
       "    </tr>\n",
       "  </tbody>\n",
       "</table>\n",
       "<p>5055 rows × 7 columns</p>\n",
       "</div>"
      ],
      "text/plain": [
       "                                                   Name Molecular form  \\\n",
       "0     (1-(4-chlorophenoxy)-3-[(4, 6-dimethyl-2-pyrim...   C16H19ClN2O2   \n",
       "1                                 (10R,11R)-Hydnocarpin       C25H20O9   \n",
       "2                               (10R,11R)-Hydnocarpin D       C25H20O9   \n",
       "3                               (10S,11S)-Hydnocarpin D       C25H20O9   \n",
       "4     (1E)-1-{[(1E)-prop-1-ene-1-sulfinyl]sulfanyl}p...       C6H10OS2   \n",
       "...                                                 ...            ...   \n",
       "5050                                  ZnO nanoparticles            ZnO   \n",
       "5051                                  ZnO nanoparticles            ZnO   \n",
       "5052                                  ZnO nanoparticles            ZnO   \n",
       "5053                                  ZnO nanoparticles            ZnO   \n",
       "5054                                           Zotepine    C18H18ClNOS   \n",
       "\n",
       "                     Microbe     Strain Target PubMed ID         To_ID  \n",
       "0             Vibrio harveyi  MTCC 3438    NaN  27141809           NaN  \n",
       "1      Staphylococcus aureus     8325-4    NaN  26273725           NaN  \n",
       "2      Staphylococcus aureus     8325-4    NaN  26273725           NaN  \n",
       "3      Staphylococcus aureus     8325-4    NaN  26273725           NaN  \n",
       "4       Streptococcus mutans      UA159    NaN  25081571           NaN  \n",
       "...                      ...        ...    ...       ...           ...  \n",
       "5050  Pseudomonas aeruginosa        M10    NaN  26084709           NaN  \n",
       "5051  Pseudomonas aeruginosa     ID4365    NaN  26084709           NaN  \n",
       "5052  Pseudomonas aeruginosa      IGB83    NaN  26084709           NaN  \n",
       "5053  Pseudomonas aeruginosa        148    NaN  26084709           NaN  \n",
       "5054        Candida albicans     SC5314    NaN  23689719  BMG_DG168747  \n",
       "\n",
       "[5055 rows x 7 columns]"
      ]
     },
     "execution_count": 5,
     "metadata": {},
     "output_type": "execute_result"
    }
   ],
   "source": [
    "import re\n",
    "\n",
    "drug_name_biomedgraphica = biomedgraphica_drug_gui[['BioMedGraphica_ID', 'Drug_Name_List']]\n",
    "drug_name_biomedgraphica.dropna(subset=['Drug_Name_List'], inplace=True)\n",
    "drug_name_biomedgraphica = drug_name_biomedgraphica.assign(Drug_Name_List=drug_name_biomedgraphica['Drug_Name_List'].str.split(r\" \\| \")).explode('Drug_Name_List')\n",
    "\n",
    "drug_name_to_individualID = drug_name_biomedgraphica.groupby('Drug_Name_List')['BioMedGraphica_ID'].apply(lambda x: ';'.join(x.dropna().unique())).to_dict()\n",
    "mdad['To_ID'] = mdad['Name'].map(drug_name_to_individualID)\n",
    "mdad"
   ]
  },
  {
   "cell_type": "code",
   "execution_count": 6,
   "metadata": {},
   "outputs": [
    {
     "name": "stderr",
     "output_type": "stream",
     "text": [
      "C:\\Users\\shunn\\AppData\\Local\\Temp\\ipykernel_9624\\952996635.py:2: SettingWithCopyWarning: \n",
      "A value is trying to be set on a copy of a slice from a DataFrame\n",
      "\n",
      "See the caveats in the documentation: https://pandas.pydata.org/pandas-docs/stable/user_guide/indexing.html#returning-a-view-versus-a-copy\n",
      "  microbiota_name_biomedgraphica.dropna(subset=['NCBI_Taxonomy_Name'], inplace=True)\n"
     ]
    },
    {
     "data": {
      "application/vnd.microsoft.datawrangler.viewer.v0+json": {
       "columns": [
        {
         "name": "index",
         "rawType": "int64",
         "type": "integer"
        },
        {
         "name": "Name",
         "rawType": "object",
         "type": "string"
        },
        {
         "name": "Molecular form",
         "rawType": "object",
         "type": "unknown"
        },
        {
         "name": "Microbe",
         "rawType": "object",
         "type": "string"
        },
        {
         "name": "Strain",
         "rawType": "object",
         "type": "string"
        },
        {
         "name": "Target",
         "rawType": "object",
         "type": "unknown"
        },
        {
         "name": "PubMed ID",
         "rawType": "object",
         "type": "string"
        },
        {
         "name": "To_ID",
         "rawType": "object",
         "type": "unknown"
        },
        {
         "name": "From_ID",
         "rawType": "object",
         "type": "unknown"
        }
       ],
       "conversionMethod": "pd.DataFrame",
       "ref": "88908c4b-386a-46d7-8fe4-ab6bac42dc92",
       "rows": [
        [
         "0",
         "(1-(4-chlorophenoxy)-3-[(4, 6-dimethyl-2-pyrimidinyl) thio]-2- propanol)",
         "C16H19ClN2O2",
         "Vibrio harveyi",
         "MTCC 3438",
         null,
         "27141809",
         null,
         "BMG_MC559474"
        ],
        [
         "1",
         "(10R,11R)-Hydnocarpin",
         "C25H20O9",
         "Staphylococcus aureus",
         "8325-4",
         null,
         "26273725",
         null,
         "BMG_MC088814"
        ],
        [
         "2",
         "(10R,11R)-Hydnocarpin D",
         "C25H20O9",
         "Staphylococcus aureus",
         "8325-4",
         null,
         "26273725",
         null,
         "BMG_MC088814"
        ],
        [
         "3",
         "(10S,11S)-Hydnocarpin D",
         "C25H20O9",
         "Staphylococcus aureus",
         "8325-4",
         null,
         "26273725",
         null,
         "BMG_MC088814"
        ],
        [
         "4",
         "(1E)-1-{[(1E)-prop-1-ene-1-sulfinyl]sulfanyl}prop-1-ene",
         "C6H10OS2",
         "Streptococcus mutans",
         "UA159",
         null,
         "25081571",
         null,
         "BMG_MC100324"
        ],
        [
         "5",
         "(1R,2S,7R,3E,11E)-2,18-diacetoxycembra-3,8(19),11,15(17)-tetraen-7-ol",
         "C20H32O3",
         "Pseudomonas aeruginosa",
         "ATCC 27853",
         null,
         "22905751",
         null,
         "BMG_MC392238"
        ],
        [
         "6",
         "(1R,2S,7R,3E,11E)-2,18-diacetoxycembra-3,8(19),11,15(17)-tetraen-7-ol",
         "C20H32O3",
         "Vibrio harveyi",
         "PHY-2A",
         null,
         "22905751",
         null,
         "BMG_MC559474"
        ],
        [
         "7",
         "(1R,2S,7R,3E,8E,11E)-2,18-diacetoxycembra-3,8,11,15(17)-tetraen-7-ol",
         "C20H32O3",
         "Pseudomonas aeruginosa",
         "ATCC 27853",
         null,
         "22905751",
         null,
         "BMG_MC392238"
        ],
        [
         "8",
         "(1R,2S,7R,3E,8E,11E)-2,18-diacetoxycembra-3,8,11,15(17)-tetraen-7-ol",
         "C20H32O3",
         "Staphylococcus aureus",
         "ATCC 25923",
         null,
         "22905751",
         null,
         "BMG_MC088814"
        ],
        [
         "9",
         "(1R,2S,7R,3E,8E,11E)-2,18-diacetoxycembra-3,8,11,15(17)-tetraen-7-ol",
         "C20H32O3",
         "Vibrio harveyi",
         "PHY-2A",
         null,
         "22905751",
         null,
         "BMG_MC559474"
        ],
        [
         "10",
         "(1R,2S,7R,8R)-2,18-diacetoxyasperdiol",
         "C20H34O2",
         "Pseudomonas aeruginosa",
         "ATCC 27853",
         null,
         "22905751",
         null,
         "BMG_MC392238"
        ],
        [
         "11",
         "(1R,2S,7R,8R)-2,18-diacetoxyasperdiol",
         "C20H34O2",
         "Vibrio harveyi",
         "PHY-2A",
         null,
         "22905751",
         null,
         "BMG_MC559474"
        ],
        [
         "12",
         "(1R,3S,7R,8S,11S,12R)-3-hydroxy-1,4,8-trimethyl-12-(propan-2-yl)tricyclo[9.3.0.0]tetradec-4-en-6-one",
         "C20H32O2",
         "Pseudomonas aeruginosa",
         "ATCC 27853",
         null,
         "21384863",
         null,
         "BMG_MC392238"
        ],
        [
         "13",
         "(1R,4R,8S,11S,12R)-4-hydroxy-1,4,8-trimethyl-12-(propan-2-yl)tricyclo[9.3.0.0]tetradec-3(7)-en-6-one",
         "C20H32O2",
         "Pseudomonas aeruginosa",
         "ATCC 27853",
         null,
         "21384863",
         null,
         "BMG_MC392238"
        ],
        [
         "14",
         "(1Z)-(2-phenylethylidene)-lambda4-sulfanyliumolate",
         "C8H8OS",
         "Actinomyces oris",
         "MG1",
         null,
         "25081571",
         null,
         "BMG_MC526269"
        ],
        [
         "15",
         "(1Z)-(2-phenylethylidene)-lambda4-sulfanyliumolate",
         "C8H8OS",
         "Streptococcus sanguis",
         "10556",
         null,
         "25081571",
         null,
         null
        ],
        [
         "16",
         "(1Z)-(prop-2-en-1-ylidene)-lambda4-sulfanyliumolate",
         "C6H10OS2",
         "Actinomyces oris",
         "MG1",
         null,
         "25081571",
         null,
         "BMG_MC526269"
        ],
        [
         "17",
         "(1Z)-(prop-2-en-1-ylidene)-lambda4-sulfanyliumolate",
         "C6H10OS2",
         "Streptococcus mutans",
         "UA159",
         null,
         "25081571",
         null,
         "BMG_MC100324"
        ],
        [
         "18",
         "(1Z)-(prop-2-en-1-ylidene)-lambda4-sulfanyliumolate",
         "C6H10OS2",
         "Streptococcus sanguis",
         "10556",
         null,
         "25081571",
         null,
         null
        ],
        [
         "19",
         "(1Z)-ethylidene-lambda4-sulfanyliumolate",
         "C2H4OS",
         "Streptococcus mutans",
         "UA159",
         null,
         "25081571",
         null,
         "BMG_MC100324"
        ],
        [
         "20",
         "(1Z)-ethylidene-lambda4-sulfanyliumolate",
         "C2H4OS",
         "Streptococcus sanguis",
         "10556",
         null,
         "25081571",
         null,
         null
        ],
        [
         "21",
         "(2-(4-chlorophenyl)- 4-{[(6-methyl-2-pyridinyl)amino]methylene}-1,3-oxazol- 5(4H)-one)",
         "C16H12ClN3O2",
         "Streptococcus mutans",
         "UA159",
         null,
         "26526453",
         null,
         "BMG_MC100324"
        ],
        [
         "22",
         "(2-{[(2-phenylethyl)sulfanyl]sulfinyl}ethyl)benzene",
         "C16H18OS2",
         "Actinomyces oris",
         "MG1",
         null,
         "25081571",
         null,
         "BMG_MC526269"
        ],
        [
         "23",
         "(2-{[(2-phenylethyl)sulfanyl]sulfinyl}ethyl)benzene",
         "C16H18OS2",
         "Streptococcus mutans",
         "UA159",
         null,
         "25081571",
         null,
         "BMG_MC100324"
        ],
        [
         "24",
         "(2E)-1-(1 ,3 -benzodioxol-5-yl)-3-(2-naphthyl)-2-propen-1-one",
         "C20H14O3",
         "Enterococcus faecalis",
         "ATCC 19433",
         null,
         "24016798",
         null,
         "BMG_MC116948"
        ],
        [
         "25",
         "(2E)-1-(1 ,3 -benzodioxol-5-yl)-3-(2-naphthyl)-2-propen-1-one",
         "C20H14O3",
         "Pseudomonas aeruginosa",
         "ATCC 25923",
         null,
         "24016798",
         null,
         "BMG_MC392238"
        ],
        [
         "26",
         "(2E)-1-(1 ,3 -benzodioxol-5-yl)-3-(2-naphthyl)-2-propen-1-one",
         "C20H14O3",
         "Staphylococcus aureus",
         "ATCC 25923",
         null,
         "24016798",
         null,
         "BMG_MC088814"
        ],
        [
         "27",
         "(2E)-1-(1 ,3 -benzodioxol-5-yl)-3-(2-naphthyl)-2-propen-1-one",
         "C20H14O3",
         "Staphylococcus epidermidis",
         "ATCC 35547",
         null,
         "24016798",
         null,
         "BMG_MC089655"
        ],
        [
         "28",
         "(2E)-1-(1 ,3 -benzodioxol-5-yl)-3-(2-naphthyl)-2-propen-1-one",
         "C20H14O3",
         "Streptococcus mutans",
         "ATCC 25175",
         null,
         "24016798",
         null,
         "BMG_MC100324"
        ],
        [
         "29",
         "(2E)-1-(1,3-benzodioxol-5-yl)-3-(2-chloro-quinolin-3-yl)-2-propen-1-one",
         "C19H12ClNO3",
         "Enterococcus faecalis",
         "ATCC 19433",
         null,
         "24016798",
         null,
         "BMG_MC116948"
        ],
        [
         "30",
         "(2E)-1-(1,3-benzodioxol-5-yl)-3-(2-chloro-quinolin-3-yl)-2-propen-1-one",
         "C19H12ClNO3",
         "Pseudomonas aeruginosa",
         "ATCC 25923",
         null,
         "24016798",
         null,
         "BMG_MC392238"
        ],
        [
         "31",
         "(2E)-1-(1,3-benzodioxol-5-yl)-3-(2-chloro-quinolin-3-yl)-2-propen-1-one",
         "C19H12ClNO3",
         "Staphylococcus aureus",
         "ATCC 25923",
         null,
         "24016798",
         null,
         "BMG_MC088814"
        ],
        [
         "32",
         "(2E)-1-(1,3-benzodioxol-5-yl)-3-(2-chloro-quinolin-3-yl)-2-propen-1-one",
         "C19H12ClNO3",
         "Staphylococcus epidermidis",
         "ATCC 35547",
         null,
         "24016798",
         null,
         "BMG_MC089655"
        ],
        [
         "33",
         "(2E)-1-(1,3-benzodioxol-5-yl)-3-(2-chloro-quinolin-3-yl)-2-propen-1-one",
         "C19H12ClNO3",
         "Streptococcus mutans",
         "ATCC 25175",
         null,
         "24016798",
         null,
         "BMG_MC100324"
        ],
        [
         "34",
         "(2E)-1-(1,3-benzodioxol-5-yl)-3-[5-(2-nitro-phenyl)-furan-2-yl]-2-propen-1-one",
         "C20H13NO6",
         "Enterococcus faecalis",
         "ATCC 19433",
         null,
         "24016798",
         null,
         "BMG_MC116948"
        ],
        [
         "35",
         "(2E)-1-(1,3-benzodioxol-5-yl)-3-[5-(2-nitro-phenyl)-furan-2-yl]-2-propen-1-one",
         "C20H13NO6",
         "Pseudomonas aeruginosa",
         "ATCC 25923",
         null,
         "24016798",
         null,
         "BMG_MC392238"
        ],
        [
         "36",
         "(2E)-1-(1,3-benzodioxol-5-yl)-3-[5-(2-nitro-phenyl)-furan-2-yl]-2-propen-1-one",
         "C20H13NO6",
         "Staphylococcus aureus",
         "ATCC 25923",
         null,
         "24016798",
         null,
         "BMG_MC088814"
        ],
        [
         "37",
         "(2E)-1-(1,3-benzodioxol-5-yl)-3-[5-(2-nitro-phenyl)-furan-2-yl]-2-propen-1-one",
         "C20H13NO6",
         "Staphylococcus epidermidis",
         "ATCC 35547",
         null,
         "24016798",
         null,
         "BMG_MC089655"
        ],
        [
         "38",
         "(2E)-1-(1,3-benzodioxol-5-yl)-3-[5-(2-nitro-phenyl)-furan-2-yl]-2-propen-1-one",
         "C20H13NO6",
         "Streptococcus mutans",
         "ATCC 25175",
         null,
         "24016798",
         null,
         "BMG_MC100324"
        ],
        [
         "39",
         "(2E)-1-(2 ,4 ,5 -trimethoxyphenyl)-3-(2-chloro-6-methoxy-quinolin-3-yl)-2-propen-1-one",
         "C22H20ClNO5",
         "Enterococcus faecalis",
         "ATCC 19433",
         null,
         "24016798",
         null,
         "BMG_MC116948"
        ],
        [
         "40",
         "(2E)-1-(2 ,4 ,5 -trimethoxyphenyl)-3-(2-chloro-6-methoxy-quinolin-3-yl)-2-propen-1-one",
         "C22H20ClNO5",
         "Pseudomonas aeruginosa",
         "ATCC 25923",
         null,
         "24016798",
         null,
         "BMG_MC392238"
        ],
        [
         "41",
         "(2E)-1-(2 ,4 ,5 -trimethoxyphenyl)-3-(2-chloro-6-methoxy-quinolin-3-yl)-2-propen-1-one",
         "C22H20ClNO5",
         "Staphylococcus aureus",
         "ATCC 25923",
         null,
         "24016798",
         null,
         "BMG_MC088814"
        ],
        [
         "42",
         "(2E)-1-(2 ,4 ,5 -trimethoxyphenyl)-3-(2-chloro-6-methoxy-quinolin-3-yl)-2-propen-1-one",
         "C22H20ClNO5",
         "Staphylococcus epidermidis",
         "ATCC 35547",
         null,
         "24016798",
         null,
         "BMG_MC089655"
        ],
        [
         "43",
         "(2E)-1-(2 ,4 ,5 -trimethoxyphenyl)-3-(2-chloro-6-methoxy-quinolin-3-yl)-2-propen-1-one",
         "C22H20ClNO5",
         "Streptococcus mutans",
         "ATCC 25175",
         null,
         "24016798",
         null,
         "BMG_MC100324"
        ],
        [
         "44",
         "(2E)-1-(2 ,4 ,5 -trimethoxyphenyl)-3-(2-chloro-quinolin-3-yl)-2-propen-1-one",
         "C21H18ClNO4",
         "Enterococcus faecalis",
         "ATCC 19433",
         null,
         "24016798",
         null,
         "BMG_MC116948"
        ],
        [
         "45",
         "(2E)-1-(2 ,4 ,5 -trimethoxyphenyl)-3-(2-chloro-quinolin-3-yl)-2-propen-1-one",
         "C21H18ClNO4",
         "Pseudomonas aeruginosa",
         "ATCC 25923",
         null,
         "24016798",
         null,
         "BMG_MC392238"
        ],
        [
         "46",
         "(2E)-1-(2 ,4 ,5 -trimethoxyphenyl)-3-(2-chloro-quinolin-3-yl)-2-propen-1-one",
         "C21H18ClNO4",
         "Staphylococcus aureus",
         "ATCC 25923",
         null,
         "24016798",
         null,
         "BMG_MC088814"
        ],
        [
         "47",
         "(2E)-1-(2 ,4 ,5 -trimethoxyphenyl)-3-(2-chloro-quinolin-3-yl)-2-propen-1-one",
         "C21H18ClNO4",
         "Staphylococcus epidermidis",
         "ATCC 35547",
         null,
         "24016798",
         null,
         "BMG_MC089655"
        ],
        [
         "48",
         "(2E)-1-(2 ,4 ,5 -trimethoxyphenyl)-3-(2-chloro-quinolin-3-yl)-2-propen-1-one",
         "C21H18ClNO4",
         "Streptococcus mutans",
         "ATCC 25175",
         null,
         "24016798",
         null,
         "BMG_MC100324"
        ],
        [
         "49",
         "(2E)-1-(2 ,4 ,5 -trimethoxyphenyl)-3-(2-naphthyl)-2-propen-1-one",
         "C22H20O4",
         "Enterococcus faecalis",
         "ATCC 19433",
         null,
         "24016798",
         null,
         "BMG_MC116948"
        ]
       ],
       "shape": {
        "columns": 8,
        "rows": 5055
       }
      },
      "text/html": [
       "<div>\n",
       "<style scoped>\n",
       "    .dataframe tbody tr th:only-of-type {\n",
       "        vertical-align: middle;\n",
       "    }\n",
       "\n",
       "    .dataframe tbody tr th {\n",
       "        vertical-align: top;\n",
       "    }\n",
       "\n",
       "    .dataframe thead th {\n",
       "        text-align: right;\n",
       "    }\n",
       "</style>\n",
       "<table border=\"1\" class=\"dataframe\">\n",
       "  <thead>\n",
       "    <tr style=\"text-align: right;\">\n",
       "      <th></th>\n",
       "      <th>Name</th>\n",
       "      <th>Molecular form</th>\n",
       "      <th>Microbe</th>\n",
       "      <th>Strain</th>\n",
       "      <th>Target</th>\n",
       "      <th>PubMed ID</th>\n",
       "      <th>To_ID</th>\n",
       "      <th>From_ID</th>\n",
       "    </tr>\n",
       "  </thead>\n",
       "  <tbody>\n",
       "    <tr>\n",
       "      <th>0</th>\n",
       "      <td>(1-(4-chlorophenoxy)-3-[(4, 6-dimethyl-2-pyrim...</td>\n",
       "      <td>C16H19ClN2O2</td>\n",
       "      <td>Vibrio harveyi</td>\n",
       "      <td>MTCC 3438</td>\n",
       "      <td>NaN</td>\n",
       "      <td>27141809</td>\n",
       "      <td>NaN</td>\n",
       "      <td>BMG_MC559474</td>\n",
       "    </tr>\n",
       "    <tr>\n",
       "      <th>1</th>\n",
       "      <td>(10R,11R)-Hydnocarpin</td>\n",
       "      <td>C25H20O9</td>\n",
       "      <td>Staphylococcus aureus</td>\n",
       "      <td>8325-4</td>\n",
       "      <td>NaN</td>\n",
       "      <td>26273725</td>\n",
       "      <td>NaN</td>\n",
       "      <td>BMG_MC088814</td>\n",
       "    </tr>\n",
       "    <tr>\n",
       "      <th>2</th>\n",
       "      <td>(10R,11R)-Hydnocarpin D</td>\n",
       "      <td>C25H20O9</td>\n",
       "      <td>Staphylococcus aureus</td>\n",
       "      <td>8325-4</td>\n",
       "      <td>NaN</td>\n",
       "      <td>26273725</td>\n",
       "      <td>NaN</td>\n",
       "      <td>BMG_MC088814</td>\n",
       "    </tr>\n",
       "    <tr>\n",
       "      <th>3</th>\n",
       "      <td>(10S,11S)-Hydnocarpin D</td>\n",
       "      <td>C25H20O9</td>\n",
       "      <td>Staphylococcus aureus</td>\n",
       "      <td>8325-4</td>\n",
       "      <td>NaN</td>\n",
       "      <td>26273725</td>\n",
       "      <td>NaN</td>\n",
       "      <td>BMG_MC088814</td>\n",
       "    </tr>\n",
       "    <tr>\n",
       "      <th>4</th>\n",
       "      <td>(1E)-1-{[(1E)-prop-1-ene-1-sulfinyl]sulfanyl}p...</td>\n",
       "      <td>C6H10OS2</td>\n",
       "      <td>Streptococcus mutans</td>\n",
       "      <td>UA159</td>\n",
       "      <td>NaN</td>\n",
       "      <td>25081571</td>\n",
       "      <td>NaN</td>\n",
       "      <td>BMG_MC100324</td>\n",
       "    </tr>\n",
       "    <tr>\n",
       "      <th>...</th>\n",
       "      <td>...</td>\n",
       "      <td>...</td>\n",
       "      <td>...</td>\n",
       "      <td>...</td>\n",
       "      <td>...</td>\n",
       "      <td>...</td>\n",
       "      <td>...</td>\n",
       "      <td>...</td>\n",
       "    </tr>\n",
       "    <tr>\n",
       "      <th>5050</th>\n",
       "      <td>ZnO nanoparticles</td>\n",
       "      <td>ZnO</td>\n",
       "      <td>Pseudomonas aeruginosa</td>\n",
       "      <td>M10</td>\n",
       "      <td>NaN</td>\n",
       "      <td>26084709</td>\n",
       "      <td>NaN</td>\n",
       "      <td>BMG_MC392238</td>\n",
       "    </tr>\n",
       "    <tr>\n",
       "      <th>5051</th>\n",
       "      <td>ZnO nanoparticles</td>\n",
       "      <td>ZnO</td>\n",
       "      <td>Pseudomonas aeruginosa</td>\n",
       "      <td>ID4365</td>\n",
       "      <td>NaN</td>\n",
       "      <td>26084709</td>\n",
       "      <td>NaN</td>\n",
       "      <td>BMG_MC392238</td>\n",
       "    </tr>\n",
       "    <tr>\n",
       "      <th>5052</th>\n",
       "      <td>ZnO nanoparticles</td>\n",
       "      <td>ZnO</td>\n",
       "      <td>Pseudomonas aeruginosa</td>\n",
       "      <td>IGB83</td>\n",
       "      <td>NaN</td>\n",
       "      <td>26084709</td>\n",
       "      <td>NaN</td>\n",
       "      <td>BMG_MC392238</td>\n",
       "    </tr>\n",
       "    <tr>\n",
       "      <th>5053</th>\n",
       "      <td>ZnO nanoparticles</td>\n",
       "      <td>ZnO</td>\n",
       "      <td>Pseudomonas aeruginosa</td>\n",
       "      <td>148</td>\n",
       "      <td>NaN</td>\n",
       "      <td>26084709</td>\n",
       "      <td>NaN</td>\n",
       "      <td>BMG_MC392238</td>\n",
       "    </tr>\n",
       "    <tr>\n",
       "      <th>5054</th>\n",
       "      <td>Zotepine</td>\n",
       "      <td>C18H18ClNOS</td>\n",
       "      <td>Candida albicans</td>\n",
       "      <td>SC5314</td>\n",
       "      <td>NaN</td>\n",
       "      <td>23689719</td>\n",
       "      <td>BMG_DG168747</td>\n",
       "      <td>BMG_MC527357</td>\n",
       "    </tr>\n",
       "  </tbody>\n",
       "</table>\n",
       "<p>5055 rows × 8 columns</p>\n",
       "</div>"
      ],
      "text/plain": [
       "                                                   Name Molecular form  \\\n",
       "0     (1-(4-chlorophenoxy)-3-[(4, 6-dimethyl-2-pyrim...   C16H19ClN2O2   \n",
       "1                                 (10R,11R)-Hydnocarpin       C25H20O9   \n",
       "2                               (10R,11R)-Hydnocarpin D       C25H20O9   \n",
       "3                               (10S,11S)-Hydnocarpin D       C25H20O9   \n",
       "4     (1E)-1-{[(1E)-prop-1-ene-1-sulfinyl]sulfanyl}p...       C6H10OS2   \n",
       "...                                                 ...            ...   \n",
       "5050                                  ZnO nanoparticles            ZnO   \n",
       "5051                                  ZnO nanoparticles            ZnO   \n",
       "5052                                  ZnO nanoparticles            ZnO   \n",
       "5053                                  ZnO nanoparticles            ZnO   \n",
       "5054                                           Zotepine    C18H18ClNOS   \n",
       "\n",
       "                     Microbe     Strain Target PubMed ID         To_ID  \\\n",
       "0             Vibrio harveyi  MTCC 3438    NaN  27141809           NaN   \n",
       "1      Staphylococcus aureus     8325-4    NaN  26273725           NaN   \n",
       "2      Staphylococcus aureus     8325-4    NaN  26273725           NaN   \n",
       "3      Staphylococcus aureus     8325-4    NaN  26273725           NaN   \n",
       "4       Streptococcus mutans      UA159    NaN  25081571           NaN   \n",
       "...                      ...        ...    ...       ...           ...   \n",
       "5050  Pseudomonas aeruginosa        M10    NaN  26084709           NaN   \n",
       "5051  Pseudomonas aeruginosa     ID4365    NaN  26084709           NaN   \n",
       "5052  Pseudomonas aeruginosa      IGB83    NaN  26084709           NaN   \n",
       "5053  Pseudomonas aeruginosa        148    NaN  26084709           NaN   \n",
       "5054        Candida albicans     SC5314    NaN  23689719  BMG_DG168747   \n",
       "\n",
       "           From_ID  \n",
       "0     BMG_MC559474  \n",
       "1     BMG_MC088814  \n",
       "2     BMG_MC088814  \n",
       "3     BMG_MC088814  \n",
       "4     BMG_MC100324  \n",
       "...            ...  \n",
       "5050  BMG_MC392238  \n",
       "5051  BMG_MC392238  \n",
       "5052  BMG_MC392238  \n",
       "5053  BMG_MC392238  \n",
       "5054  BMG_MC527357  \n",
       "\n",
       "[5055 rows x 8 columns]"
      ]
     },
     "execution_count": 6,
     "metadata": {},
     "output_type": "execute_result"
    }
   ],
   "source": [
    "microbiota_name_biomedgraphica = biomedgraphica_microbiota[['BioMedGraphica_ID', 'NCBI_Taxonomy_Name']]\n",
    "microbiota_name_biomedgraphica.dropna(subset=['NCBI_Taxonomy_Name'], inplace=True)\n",
    "microbiota_name_biomedgraphica = microbiota_name_biomedgraphica.assign(NCBI_Taxonomy_Name=microbiota_name_biomedgraphica['NCBI_Taxonomy_Name'].str.split(';')).explode('NCBI_Taxonomy_Name')\n",
    "microbiota_name_biomedgraphica['NCBI_Taxonomy_Name'] = microbiota_name_biomedgraphica['NCBI_Taxonomy_Name'].str.lower()\n",
    "\n",
    "microbiota_name_to_individualID = microbiota_name_biomedgraphica.groupby('NCBI_Taxonomy_Name')['BioMedGraphica_ID'].apply(lambda x: ';'.join(x.dropna().unique())).to_dict()\n",
    "mdad['From_ID'] = mdad['Microbe'].str.lower().map(microbiota_name_to_individualID)\n",
    "mdad"
   ]
  },
  {
   "cell_type": "code",
   "execution_count": 7,
   "metadata": {},
   "outputs": [
    {
     "name": "stderr",
     "output_type": "stream",
     "text": [
      "C:\\Users\\shunn\\AppData\\Local\\Temp\\ipykernel_9624\\3372587737.py:2: SettingWithCopyWarning: \n",
      "A value is trying to be set on a copy of a slice from a DataFrame\n",
      "\n",
      "See the caveats in the documentation: https://pandas.pydata.org/pandas-docs/stable/user_guide/indexing.html#returning-a-view-versus-a-copy\n",
      "  mdad.dropna(subset=['From_ID'], inplace=True)\n",
      "C:\\Users\\shunn\\AppData\\Local\\Temp\\ipykernel_9624\\3372587737.py:3: SettingWithCopyWarning: \n",
      "A value is trying to be set on a copy of a slice from a DataFrame\n",
      "\n",
      "See the caveats in the documentation: https://pandas.pydata.org/pandas-docs/stable/user_guide/indexing.html#returning-a-view-versus-a-copy\n",
      "  mdad.dropna(subset=['To_ID'], inplace=True)\n"
     ]
    },
    {
     "data": {
      "application/vnd.microsoft.datawrangler.viewer.v0+json": {
       "columns": [
        {
         "name": "index",
         "rawType": "int64",
         "type": "integer"
        },
        {
         "name": "From_ID",
         "rawType": "object",
         "type": "string"
        },
        {
         "name": "To_ID",
         "rawType": "object",
         "type": "string"
        }
       ],
       "conversionMethod": "pd.DataFrame",
       "ref": "79dfb54a-3401-4537-8f18-f82b41cd30f9",
       "rows": [
        [
         "493",
         "BMG_MC088814",
         "BMG_DG112273"
        ],
        [
         "559",
         "BMG_MC577286",
         "BMG_DG163217"
        ],
        [
         "562",
         "BMG_MC532241",
         "BMG_DG110067"
        ],
        [
         "789",
         "BMG_MC088814",
         "BMG_DG130758;BMG_DG212377"
        ],
        [
         "898",
         "BMG_MC392238",
         "BMG_DG198750"
        ],
        [
         "905",
         "BMG_MC392238",
         "BMG_DG198799"
        ],
        [
         "914",
         "BMG_MC532241",
         "BMG_DG185802"
        ],
        [
         "926",
         "BMG_MC577286",
         "BMG_DG154073"
        ],
        [
         "1049",
         "BMG_MC392238",
         "BMG_DG205423"
        ],
        [
         "1082",
         "BMG_MC539659",
         "BMG_DG113590"
        ],
        [
         "1105",
         "BMG_MC392238",
         "BMG_DG163750;BMG_DG267430"
        ],
        [
         "1107",
         "BMG_MC572052",
         "BMG_DG115166"
        ],
        [
         "1109",
         "BMG_MC527357",
         "BMG_DG177124"
        ],
        [
         "1110",
         "BMG_MC392238",
         "BMG_DG177124"
        ],
        [
         "1111",
         "BMG_MC539659",
         "BMG_DG177124"
        ],
        [
         "1124",
         "BMG_MC135176",
         "BMG_DG265294"
        ],
        [
         "1125",
         "BMG_MC532241",
         "BMG_DG265294"
        ],
        [
         "1127",
         "BMG_MC527357",
         "BMG_DG265294"
        ],
        [
         "1156",
         "BMG_MC532241",
         "BMG_DG139567"
        ],
        [
         "1159",
         "BMG_MC539212",
         "BMG_DG139567"
        ],
        [
         "1160",
         "BMG_MC539804",
         "BMG_DG139567"
        ],
        [
         "1161",
         "BMG_MC540566",
         "BMG_DG139567"
        ],
        [
         "1178",
         "BMG_MC146882",
         "BMG_DG116858"
        ],
        [
         "1185",
         "BMG_MC146882",
         "BMG_DG137589"
        ],
        [
         "1186",
         "BMG_MC219823",
         "BMG_DG137589"
        ],
        [
         "1190",
         "BMG_MC527357",
         "BMG_DG153535"
        ],
        [
         "1196",
         "BMG_MC102106",
         "BMG_DG172766"
        ],
        [
         "1208",
         "BMG_MC392238",
         "BMG_DG172766"
        ],
        [
         "1209",
         "BMG_MC146882",
         "BMG_DG172766"
        ],
        [
         "1210",
         "BMG_MC219823",
         "BMG_DG172766"
        ],
        [
         "1214",
         "BMG_MC088814",
         "BMG_DG172766"
        ],
        [
         "1220",
         "BMG_MC513215",
         "BMG_DG105408"
        ],
        [
         "1230",
         "BMG_MC392238",
         "BMG_DG171790"
        ],
        [
         "1232",
         "BMG_MC146882",
         "BMG_DG164488"
        ],
        [
         "1233",
         "BMG_MC392238",
         "BMG_DG164488"
        ],
        [
         "1234",
         "BMG_MC394870",
         "BMG_DG164488"
        ],
        [
         "1235",
         "BMG_MC560539",
         "BMG_DG164488"
        ],
        [
         "1236",
         "BMG_MC532241",
         "BMG_DG153330"
        ],
        [
         "1237",
         "BMG_MC559474",
         "BMG_DG153330"
        ],
        [
         "1241",
         "BMG_MC532241",
         "BMG_DG181748"
        ],
        [
         "1251",
         "BMG_MC527357",
         "BMG_DG118717"
        ],
        [
         "1267",
         "BMG_MC539588",
         "BMG_DG194473"
        ],
        [
         "1281",
         "BMG_MC527357",
         "BMG_DG105610;BMG_DG185827"
        ],
        [
         "1282",
         "BMG_MC089655",
         "BMG_DG146594"
        ],
        [
         "1284",
         "BMG_MC528268",
         "BMG_DG217360"
        ],
        [
         "1285",
         "BMG_MC532241",
         "BMG_DG217360"
        ],
        [
         "1289",
         "BMG_MC535905",
         "BMG_DG217360"
        ],
        [
         "1292",
         "BMG_MC392238",
         "BMG_DG217360"
        ],
        [
         "1294",
         "BMG_MC102106",
         "BMG_DG096693"
        ],
        [
         "1303",
         "BMG_MC392238",
         "BMG_DG146733"
        ]
       ],
       "shape": {
        "columns": 2,
        "rows": 712
       }
      },
      "text/html": [
       "<div>\n",
       "<style scoped>\n",
       "    .dataframe tbody tr th:only-of-type {\n",
       "        vertical-align: middle;\n",
       "    }\n",
       "\n",
       "    .dataframe tbody tr th {\n",
       "        vertical-align: top;\n",
       "    }\n",
       "\n",
       "    .dataframe thead th {\n",
       "        text-align: right;\n",
       "    }\n",
       "</style>\n",
       "<table border=\"1\" class=\"dataframe\">\n",
       "  <thead>\n",
       "    <tr style=\"text-align: right;\">\n",
       "      <th></th>\n",
       "      <th>From_ID</th>\n",
       "      <th>To_ID</th>\n",
       "    </tr>\n",
       "  </thead>\n",
       "  <tbody>\n",
       "    <tr>\n",
       "      <th>493</th>\n",
       "      <td>BMG_MC088814</td>\n",
       "      <td>BMG_DG112273</td>\n",
       "    </tr>\n",
       "    <tr>\n",
       "      <th>559</th>\n",
       "      <td>BMG_MC577286</td>\n",
       "      <td>BMG_DG163217</td>\n",
       "    </tr>\n",
       "    <tr>\n",
       "      <th>562</th>\n",
       "      <td>BMG_MC532241</td>\n",
       "      <td>BMG_DG110067</td>\n",
       "    </tr>\n",
       "    <tr>\n",
       "      <th>789</th>\n",
       "      <td>BMG_MC088814</td>\n",
       "      <td>BMG_DG130758;BMG_DG212377</td>\n",
       "    </tr>\n",
       "    <tr>\n",
       "      <th>898</th>\n",
       "      <td>BMG_MC392238</td>\n",
       "      <td>BMG_DG198750</td>\n",
       "    </tr>\n",
       "    <tr>\n",
       "      <th>...</th>\n",
       "      <td>...</td>\n",
       "      <td>...</td>\n",
       "    </tr>\n",
       "    <tr>\n",
       "      <th>5034</th>\n",
       "      <td>BMG_MC576284</td>\n",
       "      <td>BMG_DG123836</td>\n",
       "    </tr>\n",
       "    <tr>\n",
       "      <th>5035</th>\n",
       "      <td>BMG_MC392238</td>\n",
       "      <td>BMG_DG123836</td>\n",
       "    </tr>\n",
       "    <tr>\n",
       "      <th>5036</th>\n",
       "      <td>BMG_MC088814</td>\n",
       "      <td>BMG_DG123836</td>\n",
       "    </tr>\n",
       "    <tr>\n",
       "      <th>5037</th>\n",
       "      <td>BMG_MC089655</td>\n",
       "      <td>BMG_DG123836</td>\n",
       "    </tr>\n",
       "    <tr>\n",
       "      <th>5054</th>\n",
       "      <td>BMG_MC527357</td>\n",
       "      <td>BMG_DG168747</td>\n",
       "    </tr>\n",
       "  </tbody>\n",
       "</table>\n",
       "<p>712 rows × 2 columns</p>\n",
       "</div>"
      ],
      "text/plain": [
       "           From_ID                      To_ID\n",
       "493   BMG_MC088814               BMG_DG112273\n",
       "559   BMG_MC577286               BMG_DG163217\n",
       "562   BMG_MC532241               BMG_DG110067\n",
       "789   BMG_MC088814  BMG_DG130758;BMG_DG212377\n",
       "898   BMG_MC392238               BMG_DG198750\n",
       "...            ...                        ...\n",
       "5034  BMG_MC576284               BMG_DG123836\n",
       "5035  BMG_MC392238               BMG_DG123836\n",
       "5036  BMG_MC088814               BMG_DG123836\n",
       "5037  BMG_MC089655               BMG_DG123836\n",
       "5054  BMG_MC527357               BMG_DG168747\n",
       "\n",
       "[712 rows x 2 columns]"
      ]
     },
     "execution_count": 7,
     "metadata": {},
     "output_type": "execute_result"
    }
   ],
   "source": [
    "mdad = mdad[['From_ID', 'To_ID']]\n",
    "mdad.dropna(subset=['From_ID'], inplace=True)\n",
    "mdad.dropna(subset=['To_ID'], inplace=True)\n",
    "mdad = mdad.drop_duplicates()\n",
    "mdad"
   ]
  },
  {
   "cell_type": "code",
   "execution_count": 8,
   "metadata": {},
   "outputs": [
    {
     "data": {
      "application/vnd.microsoft.datawrangler.viewer.v0+json": {
       "columns": [
        {
         "name": "index",
         "rawType": "int64",
         "type": "integer"
        },
        {
         "name": "From_ID",
         "rawType": "object",
         "type": "string"
        },
        {
         "name": "To_ID",
         "rawType": "object",
         "type": "string"
        }
       ],
       "conversionMethod": "pd.DataFrame",
       "ref": "e2dc591f-4949-417d-bee6-b1df26bbcd0b",
       "rows": [
        [
         "0",
         "BMG_MC088814",
         "BMG_DG112273"
        ],
        [
         "1",
         "BMG_MC577286",
         "BMG_DG163217"
        ],
        [
         "2",
         "BMG_MC532241",
         "BMG_DG110067"
        ],
        [
         "3",
         "BMG_MC088814",
         "BMG_DG130758"
        ],
        [
         "4",
         "BMG_MC088814",
         "BMG_DG212377"
        ],
        [
         "5",
         "BMG_MC392238",
         "BMG_DG198750"
        ],
        [
         "6",
         "BMG_MC392238",
         "BMG_DG198799"
        ],
        [
         "7",
         "BMG_MC532241",
         "BMG_DG185802"
        ],
        [
         "8",
         "BMG_MC577286",
         "BMG_DG154073"
        ],
        [
         "9",
         "BMG_MC392238",
         "BMG_DG205423"
        ],
        [
         "10",
         "BMG_MC539659",
         "BMG_DG113590"
        ],
        [
         "11",
         "BMG_MC392238",
         "BMG_DG163750"
        ],
        [
         "12",
         "BMG_MC392238",
         "BMG_DG267430"
        ],
        [
         "13",
         "BMG_MC572052",
         "BMG_DG115166"
        ],
        [
         "14",
         "BMG_MC527357",
         "BMG_DG177124"
        ],
        [
         "15",
         "BMG_MC392238",
         "BMG_DG177124"
        ],
        [
         "16",
         "BMG_MC539659",
         "BMG_DG177124"
        ],
        [
         "17",
         "BMG_MC135176",
         "BMG_DG265294"
        ],
        [
         "18",
         "BMG_MC532241",
         "BMG_DG265294"
        ],
        [
         "19",
         "BMG_MC527357",
         "BMG_DG265294"
        ],
        [
         "20",
         "BMG_MC532241",
         "BMG_DG139567"
        ],
        [
         "21",
         "BMG_MC539212",
         "BMG_DG139567"
        ],
        [
         "22",
         "BMG_MC539804",
         "BMG_DG139567"
        ],
        [
         "23",
         "BMG_MC540566",
         "BMG_DG139567"
        ],
        [
         "24",
         "BMG_MC146882",
         "BMG_DG116858"
        ],
        [
         "25",
         "BMG_MC146882",
         "BMG_DG137589"
        ],
        [
         "26",
         "BMG_MC219823",
         "BMG_DG137589"
        ],
        [
         "27",
         "BMG_MC527357",
         "BMG_DG153535"
        ],
        [
         "28",
         "BMG_MC102106",
         "BMG_DG172766"
        ],
        [
         "29",
         "BMG_MC392238",
         "BMG_DG172766"
        ],
        [
         "30",
         "BMG_MC146882",
         "BMG_DG172766"
        ],
        [
         "31",
         "BMG_MC219823",
         "BMG_DG172766"
        ],
        [
         "32",
         "BMG_MC088814",
         "BMG_DG172766"
        ],
        [
         "33",
         "BMG_MC513215",
         "BMG_DG105408"
        ],
        [
         "34",
         "BMG_MC392238",
         "BMG_DG171790"
        ],
        [
         "35",
         "BMG_MC146882",
         "BMG_DG164488"
        ],
        [
         "36",
         "BMG_MC392238",
         "BMG_DG164488"
        ],
        [
         "37",
         "BMG_MC394870",
         "BMG_DG164488"
        ],
        [
         "38",
         "BMG_MC560539",
         "BMG_DG164488"
        ],
        [
         "39",
         "BMG_MC532241",
         "BMG_DG153330"
        ],
        [
         "40",
         "BMG_MC559474",
         "BMG_DG153330"
        ],
        [
         "41",
         "BMG_MC532241",
         "BMG_DG181748"
        ],
        [
         "42",
         "BMG_MC527357",
         "BMG_DG118717"
        ],
        [
         "43",
         "BMG_MC539588",
         "BMG_DG194473"
        ],
        [
         "44",
         "BMG_MC527357",
         "BMG_DG105610"
        ],
        [
         "45",
         "BMG_MC527357",
         "BMG_DG185827"
        ],
        [
         "46",
         "BMG_MC089655",
         "BMG_DG146594"
        ],
        [
         "47",
         "BMG_MC528268",
         "BMG_DG217360"
        ],
        [
         "48",
         "BMG_MC532241",
         "BMG_DG217360"
        ],
        [
         "49",
         "BMG_MC535905",
         "BMG_DG217360"
        ]
       ],
       "shape": {
        "columns": 2,
        "rows": 805
       }
      },
      "text/html": [
       "<div>\n",
       "<style scoped>\n",
       "    .dataframe tbody tr th:only-of-type {\n",
       "        vertical-align: middle;\n",
       "    }\n",
       "\n",
       "    .dataframe tbody tr th {\n",
       "        vertical-align: top;\n",
       "    }\n",
       "\n",
       "    .dataframe thead th {\n",
       "        text-align: right;\n",
       "    }\n",
       "</style>\n",
       "<table border=\"1\" class=\"dataframe\">\n",
       "  <thead>\n",
       "    <tr style=\"text-align: right;\">\n",
       "      <th></th>\n",
       "      <th>From_ID</th>\n",
       "      <th>To_ID</th>\n",
       "    </tr>\n",
       "  </thead>\n",
       "  <tbody>\n",
       "    <tr>\n",
       "      <th>0</th>\n",
       "      <td>BMG_MC088814</td>\n",
       "      <td>BMG_DG112273</td>\n",
       "    </tr>\n",
       "    <tr>\n",
       "      <th>1</th>\n",
       "      <td>BMG_MC577286</td>\n",
       "      <td>BMG_DG163217</td>\n",
       "    </tr>\n",
       "    <tr>\n",
       "      <th>2</th>\n",
       "      <td>BMG_MC532241</td>\n",
       "      <td>BMG_DG110067</td>\n",
       "    </tr>\n",
       "    <tr>\n",
       "      <th>3</th>\n",
       "      <td>BMG_MC088814</td>\n",
       "      <td>BMG_DG130758</td>\n",
       "    </tr>\n",
       "    <tr>\n",
       "      <th>4</th>\n",
       "      <td>BMG_MC088814</td>\n",
       "      <td>BMG_DG212377</td>\n",
       "    </tr>\n",
       "    <tr>\n",
       "      <th>...</th>\n",
       "      <td>...</td>\n",
       "      <td>...</td>\n",
       "    </tr>\n",
       "    <tr>\n",
       "      <th>800</th>\n",
       "      <td>BMG_MC576284</td>\n",
       "      <td>BMG_DG123836</td>\n",
       "    </tr>\n",
       "    <tr>\n",
       "      <th>801</th>\n",
       "      <td>BMG_MC392238</td>\n",
       "      <td>BMG_DG123836</td>\n",
       "    </tr>\n",
       "    <tr>\n",
       "      <th>802</th>\n",
       "      <td>BMG_MC088814</td>\n",
       "      <td>BMG_DG123836</td>\n",
       "    </tr>\n",
       "    <tr>\n",
       "      <th>803</th>\n",
       "      <td>BMG_MC089655</td>\n",
       "      <td>BMG_DG123836</td>\n",
       "    </tr>\n",
       "    <tr>\n",
       "      <th>804</th>\n",
       "      <td>BMG_MC527357</td>\n",
       "      <td>BMG_DG168747</td>\n",
       "    </tr>\n",
       "  </tbody>\n",
       "</table>\n",
       "<p>805 rows × 2 columns</p>\n",
       "</div>"
      ],
      "text/plain": [
       "          From_ID         To_ID\n",
       "0    BMG_MC088814  BMG_DG112273\n",
       "1    BMG_MC577286  BMG_DG163217\n",
       "2    BMG_MC532241  BMG_DG110067\n",
       "3    BMG_MC088814  BMG_DG130758\n",
       "4    BMG_MC088814  BMG_DG212377\n",
       "..            ...           ...\n",
       "800  BMG_MC576284  BMG_DG123836\n",
       "801  BMG_MC392238  BMG_DG123836\n",
       "802  BMG_MC088814  BMG_DG123836\n",
       "803  BMG_MC089655  BMG_DG123836\n",
       "804  BMG_MC527357  BMG_DG168747\n",
       "\n",
       "[805 rows x 2 columns]"
      ]
     },
     "execution_count": 8,
     "metadata": {},
     "output_type": "execute_result"
    }
   ],
   "source": [
    "mdad['From_ID'] = mdad['From_ID'].str.split(';')\n",
    "mdad['To_ID'] = mdad['To_ID'].str.split(';')\n",
    "\n",
    "mdad = mdad.explode('From_ID')\n",
    "mdad = mdad.explode('To_ID')\n",
    "\n",
    "mdad.drop_duplicates(inplace=True)\n",
    "mdad.reset_index(drop=True, inplace=True)\n",
    "mdad"
   ]
  },
  {
   "cell_type": "markdown",
   "metadata": {},
   "source": [
    "### PharmacoMicrobiomics Mapping"
   ]
  },
  {
   "cell_type": "code",
   "execution_count": 9,
   "metadata": {},
   "outputs": [
    {
     "name": "stderr",
     "output_type": "stream",
     "text": [
      "C:\\Users\\shunn\\AppData\\Local\\Temp\\ipykernel_9624\\2444616406.py:2: SettingWithCopyWarning: \n",
      "A value is trying to be set on a copy of a slice from a DataFrame\n",
      "\n",
      "See the caveats in the documentation: https://pandas.pydata.org/pandas-docs/stable/user_guide/indexing.html#returning-a-view-versus-a-copy\n",
      "  cid_biomedgraphica.dropna(subset=['PubChem_CID'], inplace=True)\n",
      "C:\\Users\\shunn\\AppData\\Local\\Temp\\ipykernel_9624\\2444616406.py:3: SettingWithCopyWarning: \n",
      "A value is trying to be set on a copy of a slice from a DataFrame.\n",
      "Try using .loc[row_indexer,col_indexer] = value instead\n",
      "\n",
      "See the caveats in the documentation: https://pandas.pydata.org/pandas-docs/stable/user_guide/indexing.html#returning-a-view-versus-a-copy\n",
      "  cid_biomedgraphica['PubChem_CID'] = cid_biomedgraphica['PubChem_CID'].astype(str)\n"
     ]
    },
    {
     "data": {
      "application/vnd.microsoft.datawrangler.viewer.v0+json": {
       "columns": [
        {
         "name": "index",
         "rawType": "int64",
         "type": "integer"
        },
        {
         "name": "Drug_CID",
         "rawType": "int64",
         "type": "integer"
        },
        {
         "name": "Microbe_Taxon",
         "rawType": "int64",
         "type": "integer"
        },
        {
         "name": "To_ID",
         "rawType": "object",
         "type": "unknown"
        }
       ],
       "conversionMethod": "pd.DataFrame",
       "ref": "3910ccf8-2834-48e3-99f8-12e2ce999035",
       "rows": [
        [
         "0",
         "2724385",
         "84112",
         "BMG_DG129486"
        ],
        [
         "1",
         "5282192",
         "816",
         "BMG_DG153999"
        ],
        [
         "2",
         "10303",
         "2",
         "BMG_DG004259"
        ],
        [
         "3",
         "5280961",
         "820",
         "BMG_DG153534"
        ],
        [
         "4",
         "5280961",
         "39490",
         "BMG_DG153534"
        ],
        [
         "5",
         "65064",
         "41200",
         "BMG_DG177176"
        ],
        [
         "6",
         "17787981",
         "1681",
         "BMG_DG110364"
        ],
        [
         "7",
         "442089",
         "816",
         "BMG_DG144292"
        ],
        [
         "8",
         "71905",
         "562",
         "BMG_DG190014"
        ],
        [
         "9",
         "300",
         "1350",
         "BMG_DG131895"
        ],
        [
         "10",
         "7533",
         "1350",
         "BMG_DG194818"
        ],
        [
         "11",
         "4506",
         "1535",
         "BMG_DG147632"
        ],
        [
         "12",
         "5734",
         "1509",
         "BMG_DG168631"
        ],
        [
         "13",
         "4173",
         "1502",
         "BMG_DG141410"
        ],
        [
         "14",
         "5282192",
         "28111",
         "BMG_DG153999"
        ],
        [
         "15",
         "5282192",
         "821",
         "BMG_DG153999"
        ],
        [
         "16",
         "5959",
         "562",
         "BMG_DG170575"
        ],
        [
         "17",
         "2907",
         "1239",
         "BMG_DG131374"
        ],
        [
         "18",
         "3672",
         "412900",
         "BMG_DG139166"
        ],
        [
         "19",
         "2724385",
         "84112",
         "BMG_DG129486"
        ],
        [
         "20",
         "60838",
         "562",
         "BMG_DG171397"
        ],
        [
         "21",
         "464205",
         "2702",
         "BMG_DG149190"
        ],
        [
         "22",
         "5997",
         "290054",
         "BMG_DG170813"
        ],
        [
         "23",
         "7955",
         "570",
         "BMG_DG199873"
        ],
        [
         "24",
         "60750",
         "2100",
         "BMG_DG171308"
        ],
        [
         "25",
         "439503",
         "1579",
         "BMG_DG142757"
        ],
        [
         "26",
         "442456",
         "1689",
         "BMG_DG144600"
        ],
        [
         "27",
         "5280805",
         "1689",
         "BMG_DG153478"
        ],
        [
         "28",
         "6047",
         "1578",
         "BMG_DG171163"
        ],
        [
         "29",
         "426756",
         "165179",
         "BMG_DG141940"
        ],
        [
         "30",
         "3007",
         "562",
         "BMG_DG132136"
        ],
        [
         "31",
         "3385",
         "562",
         "BMG_DG137795"
        ],
        [
         "32",
         "60838",
         "1578",
         "BMG_DG171397"
        ],
        [
         "33",
         "442428",
         "1689",
         "BMG_DG144590"
        ],
        [
         "34",
         "3385",
         "816",
         "BMG_DG137795"
        ],
        [
         "35",
         "126941",
         "816",
         "BMG_DG023143"
        ],
        [
         "36",
         "126941",
         "838",
         "BMG_DG023143"
        ],
        [
         "37",
         "60823",
         "2",
         "BMG_DG171379"
        ],
        [
         "38",
         "2353",
         "40518",
         "BMG_DG120466"
        ],
        [
         "39",
         "2353",
         "239935",
         "BMG_DG120466"
        ],
        [
         "40",
         "135398745",
         "239759",
         "BMG_DG082189"
        ],
        [
         "41",
         "135398745",
         "2",
         "BMG_DG082189"
        ],
        [
         "42",
         "2244",
         "851",
         "BMG_DG118717"
        ],
        [
         "43",
         "37542",
         "2",
         "BMG_DG139510"
        ],
        [
         "44",
         "92727",
         "2",
         "BMG_DG212133"
        ],
        [
         "45",
         "392622",
         "2",
         "BMG_DG140204"
        ],
        [
         "46",
         "131411",
         "2",
         "BMG_DG025785"
        ],
        [
         "47",
         "492405",
         "2",
         "BMG_DG150753"
        ],
        [
         "48",
         "65028",
         "2",
         "BMG_DG177118"
        ],
        [
         "49",
         "2719",
         "2",
         "BMG_DG129257"
        ]
       ],
       "shape": {
        "columns": 3,
        "rows": 69
       }
      },
      "text/html": [
       "<div>\n",
       "<style scoped>\n",
       "    .dataframe tbody tr th:only-of-type {\n",
       "        vertical-align: middle;\n",
       "    }\n",
       "\n",
       "    .dataframe tbody tr th {\n",
       "        vertical-align: top;\n",
       "    }\n",
       "\n",
       "    .dataframe thead th {\n",
       "        text-align: right;\n",
       "    }\n",
       "</style>\n",
       "<table border=\"1\" class=\"dataframe\">\n",
       "  <thead>\n",
       "    <tr style=\"text-align: right;\">\n",
       "      <th></th>\n",
       "      <th>Drug_CID</th>\n",
       "      <th>Microbe_Taxon</th>\n",
       "      <th>To_ID</th>\n",
       "    </tr>\n",
       "  </thead>\n",
       "  <tbody>\n",
       "    <tr>\n",
       "      <th>0</th>\n",
       "      <td>2724385</td>\n",
       "      <td>84112</td>\n",
       "      <td>BMG_DG129486</td>\n",
       "    </tr>\n",
       "    <tr>\n",
       "      <th>1</th>\n",
       "      <td>5282192</td>\n",
       "      <td>816</td>\n",
       "      <td>BMG_DG153999</td>\n",
       "    </tr>\n",
       "    <tr>\n",
       "      <th>2</th>\n",
       "      <td>10303</td>\n",
       "      <td>2</td>\n",
       "      <td>BMG_DG004259</td>\n",
       "    </tr>\n",
       "    <tr>\n",
       "      <th>3</th>\n",
       "      <td>5280961</td>\n",
       "      <td>820</td>\n",
       "      <td>BMG_DG153534</td>\n",
       "    </tr>\n",
       "    <tr>\n",
       "      <th>4</th>\n",
       "      <td>5280961</td>\n",
       "      <td>39490</td>\n",
       "      <td>BMG_DG153534</td>\n",
       "    </tr>\n",
       "    <tr>\n",
       "      <th>...</th>\n",
       "      <td>...</td>\n",
       "      <td>...</td>\n",
       "      <td>...</td>\n",
       "    </tr>\n",
       "    <tr>\n",
       "      <th>64</th>\n",
       "      <td>46488338</td>\n",
       "      <td>1598</td>\n",
       "      <td>NaN</td>\n",
       "    </tr>\n",
       "    <tr>\n",
       "      <th>65</th>\n",
       "      <td>5333</td>\n",
       "      <td>1239</td>\n",
       "      <td>BMG_DG158549</td>\n",
       "    </tr>\n",
       "    <tr>\n",
       "      <th>66</th>\n",
       "      <td>26879</td>\n",
       "      <td>816</td>\n",
       "      <td>BMG_DG129116</td>\n",
       "    </tr>\n",
       "    <tr>\n",
       "      <th>67</th>\n",
       "      <td>4173</td>\n",
       "      <td>1578</td>\n",
       "      <td>BMG_DG141410</td>\n",
       "    </tr>\n",
       "    <tr>\n",
       "      <th>68</th>\n",
       "      <td>43805</td>\n",
       "      <td>239935</td>\n",
       "      <td>BMG_DG142536</td>\n",
       "    </tr>\n",
       "  </tbody>\n",
       "</table>\n",
       "<p>69 rows × 3 columns</p>\n",
       "</div>"
      ],
      "text/plain": [
       "    Drug_CID  Microbe_Taxon         To_ID\n",
       "0    2724385          84112  BMG_DG129486\n",
       "1    5282192            816  BMG_DG153999\n",
       "2      10303              2  BMG_DG004259\n",
       "3    5280961            820  BMG_DG153534\n",
       "4    5280961          39490  BMG_DG153534\n",
       "..       ...            ...           ...\n",
       "64  46488338           1598           NaN\n",
       "65      5333           1239  BMG_DG158549\n",
       "66     26879            816  BMG_DG129116\n",
       "67      4173           1578  BMG_DG141410\n",
       "68     43805         239935  BMG_DG142536\n",
       "\n",
       "[69 rows x 3 columns]"
      ]
     },
     "execution_count": 9,
     "metadata": {},
     "output_type": "execute_result"
    }
   ],
   "source": [
    "cid_biomedgraphica = biomedgraphica_drug[['BioMedGraphica_ID', 'PubChem_CID']]\n",
    "cid_biomedgraphica.dropna(subset=['PubChem_CID'], inplace=True)\n",
    "cid_biomedgraphica['PubChem_CID'] = cid_biomedgraphica['PubChem_CID'].astype(str)\n",
    "cid_biomedgraphica = cid_biomedgraphica.assign(PubChem_CID=cid_biomedgraphica['PubChem_CID'].str.split(';')).explode('PubChem_CID')\n",
    "\n",
    "cid_to_individualID = cid_biomedgraphica.groupby('PubChem_CID')['BioMedGraphica_ID'].apply(lambda x: ';'.join(x.dropna().unique())).to_dict()\n",
    "pm['To_ID'] = pm['Drug_CID'].astype(str).map(cid_to_individualID)\n",
    "pm"
   ]
  },
  {
   "cell_type": "code",
   "execution_count": 10,
   "metadata": {},
   "outputs": [
    {
     "name": "stderr",
     "output_type": "stream",
     "text": [
      "C:\\Users\\shunn\\AppData\\Local\\Temp\\ipykernel_9624\\1121852079.py:2: SettingWithCopyWarning: \n",
      "A value is trying to be set on a copy of a slice from a DataFrame\n",
      "\n",
      "See the caveats in the documentation: https://pandas.pydata.org/pandas-docs/stable/user_guide/indexing.html#returning-a-view-versus-a-copy\n",
      "  taxon_biomedgraphica.dropna(subset=['NCBI_Taxonomy_ID'], inplace=True)\n",
      "C:\\Users\\shunn\\AppData\\Local\\Temp\\ipykernel_9624\\1121852079.py:3: SettingWithCopyWarning: \n",
      "A value is trying to be set on a copy of a slice from a DataFrame.\n",
      "Try using .loc[row_indexer,col_indexer] = value instead\n",
      "\n",
      "See the caveats in the documentation: https://pandas.pydata.org/pandas-docs/stable/user_guide/indexing.html#returning-a-view-versus-a-copy\n",
      "  taxon_biomedgraphica['NCBI_Taxonomy_ID'] = taxon_biomedgraphica['NCBI_Taxonomy_ID'].astype(str)\n"
     ]
    },
    {
     "data": {
      "application/vnd.microsoft.datawrangler.viewer.v0+json": {
       "columns": [
        {
         "name": "index",
         "rawType": "int64",
         "type": "integer"
        },
        {
         "name": "Drug_CID",
         "rawType": "int64",
         "type": "integer"
        },
        {
         "name": "Microbe_Taxon",
         "rawType": "int64",
         "type": "integer"
        },
        {
         "name": "To_ID",
         "rawType": "object",
         "type": "unknown"
        },
        {
         "name": "From_ID",
         "rawType": "object",
         "type": "string"
        }
       ],
       "conversionMethod": "pd.DataFrame",
       "ref": "0dd619fb-ade7-42c3-a767-b96c48ff47c5",
       "rows": [
        [
         "0",
         "2724385",
         "84112",
         "BMG_DG129486",
         "BMG_MC588851"
        ],
        [
         "1",
         "5282192",
         "816",
         "BMG_DG153999",
         "BMG_MC588160"
        ],
        [
         "2",
         "10303",
         "2",
         "BMG_DG004259",
         "BMG_MC314078"
        ],
        [
         "3",
         "5280961",
         "820",
         "BMG_DG153534",
         "BMG_MC588233"
        ],
        [
         "4",
         "5280961",
         "39490",
         "BMG_DG153534",
         "BMG_MC474956"
        ],
        [
         "5",
         "65064",
         "41200",
         "BMG_DG177176",
         "BMG_MC481777"
        ],
        [
         "6",
         "17787981",
         "1681",
         "BMG_DG110364",
         "BMG_MC232557"
        ],
        [
         "7",
         "442089",
         "816",
         "BMG_DG144292",
         "BMG_MC588160"
        ],
        [
         "8",
         "71905",
         "562",
         "BMG_DG190014",
         "BMG_MC532241"
        ],
        [
         "9",
         "300",
         "1350",
         "BMG_DG131895",
         "BMG_MC116298"
        ],
        [
         "10",
         "7533",
         "1350",
         "BMG_DG194818",
         "BMG_MC116298"
        ],
        [
         "11",
         "4506",
         "1535",
         "BMG_DG147632",
         "BMG_MC188244"
        ],
        [
         "12",
         "5734",
         "1509",
         "BMG_DG168631",
         "BMG_MC179623"
        ],
        [
         "13",
         "4173",
         "1502",
         "BMG_DG141410",
         "BMG_MC177639"
        ],
        [
         "14",
         "5282192",
         "28111",
         "BMG_DG153999",
         "BMG_MC383501"
        ],
        [
         "15",
         "5282192",
         "821",
         "BMG_DG153999",
         "BMG_MC588239"
        ],
        [
         "16",
         "5959",
         "562",
         "BMG_DG170575",
         "BMG_MC532241"
        ],
        [
         "17",
         "2907",
         "1239",
         "BMG_DG131374",
         "BMG_MC073270"
        ],
        [
         "18",
         "3672",
         "412900",
         "BMG_DG139166",
         "BMG_MC482271"
        ],
        [
         "19",
         "2724385",
         "84112",
         "BMG_DG129486",
         "BMG_MC588851"
        ],
        [
         "20",
         "60838",
         "562",
         "BMG_DG171397",
         "BMG_MC532241"
        ],
        [
         "21",
         "464205",
         "2702",
         "BMG_DG149190",
         "BMG_MC369006"
        ],
        [
         "22",
         "5997",
         "290054",
         "BMG_DG170813",
         "BMG_MC395780"
        ],
        [
         "23",
         "7955",
         "570",
         "BMG_DG199873",
         "BMG_MC534968"
        ],
        [
         "24",
         "60750",
         "2100",
         "BMG_DG171308",
         "BMG_MC325935"
        ],
        [
         "25",
         "439503",
         "1579",
         "BMG_DG142757",
         "BMG_MC201684"
        ],
        [
         "26",
         "442456",
         "1689",
         "BMG_DG144600",
         "BMG_MC234983"
        ],
        [
         "27",
         "5280805",
         "1689",
         "BMG_DG153478",
         "BMG_MC234983"
        ],
        [
         "28",
         "6047",
         "1578",
         "BMG_DG171163",
         "BMG_MC201072"
        ],
        [
         "29",
         "426756",
         "165179",
         "BMG_DG141940",
         "BMG_MC224942"
        ],
        [
         "30",
         "3007",
         "562",
         "BMG_DG132136",
         "BMG_MC532241"
        ],
        [
         "31",
         "3385",
         "562",
         "BMG_DG137795",
         "BMG_MC532241"
        ],
        [
         "32",
         "60838",
         "1578",
         "BMG_DG171397",
         "BMG_MC201072"
        ],
        [
         "33",
         "442428",
         "1689",
         "BMG_DG144590",
         "BMG_MC234983"
        ],
        [
         "34",
         "3385",
         "816",
         "BMG_DG137795",
         "BMG_MC588160"
        ],
        [
         "35",
         "126941",
         "816",
         "BMG_DG023143",
         "BMG_MC588160"
        ],
        [
         "36",
         "126941",
         "838",
         "BMG_DG023143",
         "BMG_MC588735"
        ],
        [
         "37",
         "60823",
         "2",
         "BMG_DG171379",
         "BMG_MC314078"
        ],
        [
         "38",
         "2353",
         "40518",
         "BMG_DG120466",
         "BMG_MC478814"
        ],
        [
         "39",
         "2353",
         "239935",
         "BMG_DG120466",
         "BMG_MC342058"
        ],
        [
         "40",
         "135398745",
         "239759",
         "BMG_DG082189",
         "BMG_MC341902"
        ],
        [
         "41",
         "135398745",
         "2",
         "BMG_DG082189",
         "BMG_MC314078"
        ],
        [
         "42",
         "2244",
         "851",
         "BMG_DG118717",
         "BMG_MC589120"
        ],
        [
         "43",
         "37542",
         "2",
         "BMG_DG139510",
         "BMG_MC314078"
        ],
        [
         "44",
         "92727",
         "2",
         "BMG_DG212133",
         "BMG_MC314078"
        ],
        [
         "45",
         "392622",
         "2",
         "BMG_DG140204",
         "BMG_MC314078"
        ],
        [
         "46",
         "131411",
         "2",
         "BMG_DG025785",
         "BMG_MC314078"
        ],
        [
         "47",
         "492405",
         "2",
         "BMG_DG150753",
         "BMG_MC314078"
        ],
        [
         "48",
         "65028",
         "2",
         "BMG_DG177118",
         "BMG_MC314078"
        ],
        [
         "49",
         "2719",
         "2",
         "BMG_DG129257",
         "BMG_MC314078"
        ]
       ],
       "shape": {
        "columns": 4,
        "rows": 69
       }
      },
      "text/html": [
       "<div>\n",
       "<style scoped>\n",
       "    .dataframe tbody tr th:only-of-type {\n",
       "        vertical-align: middle;\n",
       "    }\n",
       "\n",
       "    .dataframe tbody tr th {\n",
       "        vertical-align: top;\n",
       "    }\n",
       "\n",
       "    .dataframe thead th {\n",
       "        text-align: right;\n",
       "    }\n",
       "</style>\n",
       "<table border=\"1\" class=\"dataframe\">\n",
       "  <thead>\n",
       "    <tr style=\"text-align: right;\">\n",
       "      <th></th>\n",
       "      <th>Drug_CID</th>\n",
       "      <th>Microbe_Taxon</th>\n",
       "      <th>To_ID</th>\n",
       "      <th>From_ID</th>\n",
       "    </tr>\n",
       "  </thead>\n",
       "  <tbody>\n",
       "    <tr>\n",
       "      <th>0</th>\n",
       "      <td>2724385</td>\n",
       "      <td>84112</td>\n",
       "      <td>BMG_DG129486</td>\n",
       "      <td>BMG_MC588851</td>\n",
       "    </tr>\n",
       "    <tr>\n",
       "      <th>1</th>\n",
       "      <td>5282192</td>\n",
       "      <td>816</td>\n",
       "      <td>BMG_DG153999</td>\n",
       "      <td>BMG_MC588160</td>\n",
       "    </tr>\n",
       "    <tr>\n",
       "      <th>2</th>\n",
       "      <td>10303</td>\n",
       "      <td>2</td>\n",
       "      <td>BMG_DG004259</td>\n",
       "      <td>BMG_MC314078</td>\n",
       "    </tr>\n",
       "    <tr>\n",
       "      <th>3</th>\n",
       "      <td>5280961</td>\n",
       "      <td>820</td>\n",
       "      <td>BMG_DG153534</td>\n",
       "      <td>BMG_MC588233</td>\n",
       "    </tr>\n",
       "    <tr>\n",
       "      <th>4</th>\n",
       "      <td>5280961</td>\n",
       "      <td>39490</td>\n",
       "      <td>BMG_DG153534</td>\n",
       "      <td>BMG_MC474956</td>\n",
       "    </tr>\n",
       "    <tr>\n",
       "      <th>...</th>\n",
       "      <td>...</td>\n",
       "      <td>...</td>\n",
       "      <td>...</td>\n",
       "      <td>...</td>\n",
       "    </tr>\n",
       "    <tr>\n",
       "      <th>64</th>\n",
       "      <td>46488338</td>\n",
       "      <td>1598</td>\n",
       "      <td>NaN</td>\n",
       "      <td>BMG_MC208472</td>\n",
       "    </tr>\n",
       "    <tr>\n",
       "      <th>65</th>\n",
       "      <td>5333</td>\n",
       "      <td>1239</td>\n",
       "      <td>BMG_DG158549</td>\n",
       "      <td>BMG_MC073270</td>\n",
       "    </tr>\n",
       "    <tr>\n",
       "      <th>66</th>\n",
       "      <td>26879</td>\n",
       "      <td>816</td>\n",
       "      <td>BMG_DG129116</td>\n",
       "      <td>BMG_MC588160</td>\n",
       "    </tr>\n",
       "    <tr>\n",
       "      <th>67</th>\n",
       "      <td>4173</td>\n",
       "      <td>1578</td>\n",
       "      <td>BMG_DG141410</td>\n",
       "      <td>BMG_MC201072</td>\n",
       "    </tr>\n",
       "    <tr>\n",
       "      <th>68</th>\n",
       "      <td>43805</td>\n",
       "      <td>239935</td>\n",
       "      <td>BMG_DG142536</td>\n",
       "      <td>BMG_MC342058</td>\n",
       "    </tr>\n",
       "  </tbody>\n",
       "</table>\n",
       "<p>69 rows × 4 columns</p>\n",
       "</div>"
      ],
      "text/plain": [
       "    Drug_CID  Microbe_Taxon         To_ID       From_ID\n",
       "0    2724385          84112  BMG_DG129486  BMG_MC588851\n",
       "1    5282192            816  BMG_DG153999  BMG_MC588160\n",
       "2      10303              2  BMG_DG004259  BMG_MC314078\n",
       "3    5280961            820  BMG_DG153534  BMG_MC588233\n",
       "4    5280961          39490  BMG_DG153534  BMG_MC474956\n",
       "..       ...            ...           ...           ...\n",
       "64  46488338           1598           NaN  BMG_MC208472\n",
       "65      5333           1239  BMG_DG158549  BMG_MC073270\n",
       "66     26879            816  BMG_DG129116  BMG_MC588160\n",
       "67      4173           1578  BMG_DG141410  BMG_MC201072\n",
       "68     43805         239935  BMG_DG142536  BMG_MC342058\n",
       "\n",
       "[69 rows x 4 columns]"
      ]
     },
     "execution_count": 10,
     "metadata": {},
     "output_type": "execute_result"
    }
   ],
   "source": [
    "taxon_biomedgraphica = biomedgraphica_microbiota[['BioMedGraphica_ID', 'NCBI_Taxonomy_ID']]\n",
    "taxon_biomedgraphica.dropna(subset=['NCBI_Taxonomy_ID'], inplace=True)\n",
    "taxon_biomedgraphica['NCBI_Taxonomy_ID'] = taxon_biomedgraphica['NCBI_Taxonomy_ID'].astype(str)\n",
    "taxon_biomedgraphica = taxon_biomedgraphica.assign(NCBI_Taxonomy_ID=taxon_biomedgraphica['NCBI_Taxonomy_ID'].str.split(';')).explode('NCBI_Taxonomy_ID')\n",
    "\n",
    "taxon_to_individualID = taxon_biomedgraphica.groupby('NCBI_Taxonomy_ID')['BioMedGraphica_ID'].apply(lambda x: ';'.join(x.dropna().unique())).to_dict()\n",
    "pm['From_ID'] = pm['Microbe_Taxon'].astype(str).map(taxon_to_individualID)\n",
    "pm"
   ]
  },
  {
   "cell_type": "code",
   "execution_count": 11,
   "metadata": {},
   "outputs": [
    {
     "name": "stderr",
     "output_type": "stream",
     "text": [
      "C:\\Users\\shunn\\AppData\\Local\\Temp\\ipykernel_9624\\2511461581.py:2: SettingWithCopyWarning: \n",
      "A value is trying to be set on a copy of a slice from a DataFrame\n",
      "\n",
      "See the caveats in the documentation: https://pandas.pydata.org/pandas-docs/stable/user_guide/indexing.html#returning-a-view-versus-a-copy\n",
      "  pm.dropna(subset=['From_ID'], inplace=True)\n",
      "C:\\Users\\shunn\\AppData\\Local\\Temp\\ipykernel_9624\\2511461581.py:3: SettingWithCopyWarning: \n",
      "A value is trying to be set on a copy of a slice from a DataFrame\n",
      "\n",
      "See the caveats in the documentation: https://pandas.pydata.org/pandas-docs/stable/user_guide/indexing.html#returning-a-view-versus-a-copy\n",
      "  pm.dropna(subset=['To_ID'], inplace=True)\n",
      "C:\\Users\\shunn\\AppData\\Local\\Temp\\ipykernel_9624\\2511461581.py:4: SettingWithCopyWarning: \n",
      "A value is trying to be set on a copy of a slice from a DataFrame\n",
      "\n",
      "See the caveats in the documentation: https://pandas.pydata.org/pandas-docs/stable/user_guide/indexing.html#returning-a-view-versus-a-copy\n",
      "  pm.drop_duplicates(inplace=True)\n"
     ]
    },
    {
     "data": {
      "application/vnd.microsoft.datawrangler.viewer.v0+json": {
       "columns": [
        {
         "name": "index",
         "rawType": "int64",
         "type": "integer"
        },
        {
         "name": "From_ID",
         "rawType": "object",
         "type": "string"
        },
        {
         "name": "To_ID",
         "rawType": "object",
         "type": "string"
        }
       ],
       "conversionMethod": "pd.DataFrame",
       "ref": "15e88ecc-152a-4599-bc4c-4ae0ed077d81",
       "rows": [
        [
         "0",
         "BMG_MC588851",
         "BMG_DG129486"
        ],
        [
         "1",
         "BMG_MC588160",
         "BMG_DG153999"
        ],
        [
         "2",
         "BMG_MC314078",
         "BMG_DG004259"
        ],
        [
         "3",
         "BMG_MC588233",
         "BMG_DG153534"
        ],
        [
         "4",
         "BMG_MC474956",
         "BMG_DG153534"
        ],
        [
         "5",
         "BMG_MC481777",
         "BMG_DG177176"
        ],
        [
         "6",
         "BMG_MC232557",
         "BMG_DG110364"
        ],
        [
         "7",
         "BMG_MC588160",
         "BMG_DG144292"
        ],
        [
         "8",
         "BMG_MC532241",
         "BMG_DG190014"
        ],
        [
         "9",
         "BMG_MC116298",
         "BMG_DG131895"
        ],
        [
         "10",
         "BMG_MC116298",
         "BMG_DG194818"
        ],
        [
         "11",
         "BMG_MC188244",
         "BMG_DG147632"
        ],
        [
         "12",
         "BMG_MC179623",
         "BMG_DG168631"
        ],
        [
         "13",
         "BMG_MC177639",
         "BMG_DG141410"
        ],
        [
         "14",
         "BMG_MC383501",
         "BMG_DG153999"
        ],
        [
         "15",
         "BMG_MC588239",
         "BMG_DG153999"
        ],
        [
         "16",
         "BMG_MC532241",
         "BMG_DG170575"
        ],
        [
         "17",
         "BMG_MC073270",
         "BMG_DG131374"
        ],
        [
         "18",
         "BMG_MC482271",
         "BMG_DG139166"
        ],
        [
         "20",
         "BMG_MC532241",
         "BMG_DG171397"
        ],
        [
         "21",
         "BMG_MC369006",
         "BMG_DG149190"
        ],
        [
         "22",
         "BMG_MC395780",
         "BMG_DG170813"
        ],
        [
         "23",
         "BMG_MC534968",
         "BMG_DG199873"
        ],
        [
         "24",
         "BMG_MC325935",
         "BMG_DG171308"
        ],
        [
         "25",
         "BMG_MC201684",
         "BMG_DG142757"
        ],
        [
         "26",
         "BMG_MC234983",
         "BMG_DG144600"
        ],
        [
         "27",
         "BMG_MC234983",
         "BMG_DG153478"
        ],
        [
         "28",
         "BMG_MC201072",
         "BMG_DG171163"
        ],
        [
         "29",
         "BMG_MC224942",
         "BMG_DG141940"
        ],
        [
         "30",
         "BMG_MC532241",
         "BMG_DG132136"
        ],
        [
         "31",
         "BMG_MC532241",
         "BMG_DG137795"
        ],
        [
         "32",
         "BMG_MC201072",
         "BMG_DG171397"
        ],
        [
         "33",
         "BMG_MC234983",
         "BMG_DG144590"
        ],
        [
         "34",
         "BMG_MC588160",
         "BMG_DG137795"
        ],
        [
         "35",
         "BMG_MC588160",
         "BMG_DG023143"
        ],
        [
         "36",
         "BMG_MC588735",
         "BMG_DG023143"
        ],
        [
         "37",
         "BMG_MC314078",
         "BMG_DG171379"
        ],
        [
         "38",
         "BMG_MC478814",
         "BMG_DG120466"
        ],
        [
         "39",
         "BMG_MC342058",
         "BMG_DG120466"
        ],
        [
         "40",
         "BMG_MC341902",
         "BMG_DG082189"
        ],
        [
         "41",
         "BMG_MC314078",
         "BMG_DG082189"
        ],
        [
         "42",
         "BMG_MC589120",
         "BMG_DG118717"
        ],
        [
         "43",
         "BMG_MC314078",
         "BMG_DG139510"
        ],
        [
         "44",
         "BMG_MC314078",
         "BMG_DG212133"
        ],
        [
         "45",
         "BMG_MC314078",
         "BMG_DG140204"
        ],
        [
         "46",
         "BMG_MC314078",
         "BMG_DG025785"
        ],
        [
         "47",
         "BMG_MC314078",
         "BMG_DG150753"
        ],
        [
         "48",
         "BMG_MC314078",
         "BMG_DG177118"
        ],
        [
         "49",
         "BMG_MC314078",
         "BMG_DG129257"
        ],
        [
         "50",
         "BMG_MC314078",
         "BMG_DG116336"
        ]
       ],
       "shape": {
        "columns": 2,
        "rows": 67
       }
      },
      "text/html": [
       "<div>\n",
       "<style scoped>\n",
       "    .dataframe tbody tr th:only-of-type {\n",
       "        vertical-align: middle;\n",
       "    }\n",
       "\n",
       "    .dataframe tbody tr th {\n",
       "        vertical-align: top;\n",
       "    }\n",
       "\n",
       "    .dataframe thead th {\n",
       "        text-align: right;\n",
       "    }\n",
       "</style>\n",
       "<table border=\"1\" class=\"dataframe\">\n",
       "  <thead>\n",
       "    <tr style=\"text-align: right;\">\n",
       "      <th></th>\n",
       "      <th>From_ID</th>\n",
       "      <th>To_ID</th>\n",
       "    </tr>\n",
       "  </thead>\n",
       "  <tbody>\n",
       "    <tr>\n",
       "      <th>0</th>\n",
       "      <td>BMG_MC588851</td>\n",
       "      <td>BMG_DG129486</td>\n",
       "    </tr>\n",
       "    <tr>\n",
       "      <th>1</th>\n",
       "      <td>BMG_MC588160</td>\n",
       "      <td>BMG_DG153999</td>\n",
       "    </tr>\n",
       "    <tr>\n",
       "      <th>2</th>\n",
       "      <td>BMG_MC314078</td>\n",
       "      <td>BMG_DG004259</td>\n",
       "    </tr>\n",
       "    <tr>\n",
       "      <th>3</th>\n",
       "      <td>BMG_MC588233</td>\n",
       "      <td>BMG_DG153534</td>\n",
       "    </tr>\n",
       "    <tr>\n",
       "      <th>4</th>\n",
       "      <td>BMG_MC474956</td>\n",
       "      <td>BMG_DG153534</td>\n",
       "    </tr>\n",
       "    <tr>\n",
       "      <th>...</th>\n",
       "      <td>...</td>\n",
       "      <td>...</td>\n",
       "    </tr>\n",
       "    <tr>\n",
       "      <th>63</th>\n",
       "      <td>BMG_MC231424</td>\n",
       "      <td>BMG_DG082189</td>\n",
       "    </tr>\n",
       "    <tr>\n",
       "      <th>65</th>\n",
       "      <td>BMG_MC073270</td>\n",
       "      <td>BMG_DG158549</td>\n",
       "    </tr>\n",
       "    <tr>\n",
       "      <th>66</th>\n",
       "      <td>BMG_MC588160</td>\n",
       "      <td>BMG_DG129116</td>\n",
       "    </tr>\n",
       "    <tr>\n",
       "      <th>67</th>\n",
       "      <td>BMG_MC201072</td>\n",
       "      <td>BMG_DG141410</td>\n",
       "    </tr>\n",
       "    <tr>\n",
       "      <th>68</th>\n",
       "      <td>BMG_MC342058</td>\n",
       "      <td>BMG_DG142536</td>\n",
       "    </tr>\n",
       "  </tbody>\n",
       "</table>\n",
       "<p>67 rows × 2 columns</p>\n",
       "</div>"
      ],
      "text/plain": [
       "         From_ID         To_ID\n",
       "0   BMG_MC588851  BMG_DG129486\n",
       "1   BMG_MC588160  BMG_DG153999\n",
       "2   BMG_MC314078  BMG_DG004259\n",
       "3   BMG_MC588233  BMG_DG153534\n",
       "4   BMG_MC474956  BMG_DG153534\n",
       "..           ...           ...\n",
       "63  BMG_MC231424  BMG_DG082189\n",
       "65  BMG_MC073270  BMG_DG158549\n",
       "66  BMG_MC588160  BMG_DG129116\n",
       "67  BMG_MC201072  BMG_DG141410\n",
       "68  BMG_MC342058  BMG_DG142536\n",
       "\n",
       "[67 rows x 2 columns]"
      ]
     },
     "execution_count": 11,
     "metadata": {},
     "output_type": "execute_result"
    }
   ],
   "source": [
    "pm = pm[['From_ID', 'To_ID']]\n",
    "pm.dropna(subset=['From_ID'], inplace=True)\n",
    "pm.dropna(subset=['To_ID'], inplace=True)\n",
    "pm.drop_duplicates(inplace=True)\n",
    "pm"
   ]
  },
  {
   "cell_type": "code",
   "execution_count": 12,
   "metadata": {},
   "outputs": [
    {
     "name": "stderr",
     "output_type": "stream",
     "text": [
      "C:\\Users\\shunn\\AppData\\Local\\Temp\\ipykernel_9624\\3190139497.py:1: SettingWithCopyWarning: \n",
      "A value is trying to be set on a copy of a slice from a DataFrame.\n",
      "Try using .loc[row_indexer,col_indexer] = value instead\n",
      "\n",
      "See the caveats in the documentation: https://pandas.pydata.org/pandas-docs/stable/user_guide/indexing.html#returning-a-view-versus-a-copy\n",
      "  pm['From_ID'] = pm['From_ID'].str.split(';')\n",
      "C:\\Users\\shunn\\AppData\\Local\\Temp\\ipykernel_9624\\3190139497.py:2: SettingWithCopyWarning: \n",
      "A value is trying to be set on a copy of a slice from a DataFrame.\n",
      "Try using .loc[row_indexer,col_indexer] = value instead\n",
      "\n",
      "See the caveats in the documentation: https://pandas.pydata.org/pandas-docs/stable/user_guide/indexing.html#returning-a-view-versus-a-copy\n",
      "  pm['To_ID'] = pm['To_ID'].str.split(';')\n"
     ]
    },
    {
     "data": {
      "application/vnd.microsoft.datawrangler.viewer.v0+json": {
       "columns": [
        {
         "name": "index",
         "rawType": "int64",
         "type": "integer"
        },
        {
         "name": "From_ID",
         "rawType": "object",
         "type": "string"
        },
        {
         "name": "To_ID",
         "rawType": "object",
         "type": "string"
        }
       ],
       "conversionMethod": "pd.DataFrame",
       "ref": "52bd3778-0104-434b-837c-88e76f9c5789",
       "rows": [
        [
         "0",
         "BMG_MC588851",
         "BMG_DG129486"
        ],
        [
         "1",
         "BMG_MC588160",
         "BMG_DG153999"
        ],
        [
         "2",
         "BMG_MC314078",
         "BMG_DG004259"
        ],
        [
         "3",
         "BMG_MC588233",
         "BMG_DG153534"
        ],
        [
         "4",
         "BMG_MC474956",
         "BMG_DG153534"
        ],
        [
         "5",
         "BMG_MC481777",
         "BMG_DG177176"
        ],
        [
         "6",
         "BMG_MC232557",
         "BMG_DG110364"
        ],
        [
         "7",
         "BMG_MC588160",
         "BMG_DG144292"
        ],
        [
         "8",
         "BMG_MC532241",
         "BMG_DG190014"
        ],
        [
         "9",
         "BMG_MC116298",
         "BMG_DG131895"
        ],
        [
         "10",
         "BMG_MC116298",
         "BMG_DG194818"
        ],
        [
         "11",
         "BMG_MC188244",
         "BMG_DG147632"
        ],
        [
         "12",
         "BMG_MC179623",
         "BMG_DG168631"
        ],
        [
         "13",
         "BMG_MC177639",
         "BMG_DG141410"
        ],
        [
         "14",
         "BMG_MC383501",
         "BMG_DG153999"
        ],
        [
         "15",
         "BMG_MC588239",
         "BMG_DG153999"
        ],
        [
         "16",
         "BMG_MC532241",
         "BMG_DG170575"
        ],
        [
         "17",
         "BMG_MC073270",
         "BMG_DG131374"
        ],
        [
         "18",
         "BMG_MC482271",
         "BMG_DG139166"
        ],
        [
         "19",
         "BMG_MC532241",
         "BMG_DG171397"
        ],
        [
         "20",
         "BMG_MC369006",
         "BMG_DG149190"
        ],
        [
         "21",
         "BMG_MC395780",
         "BMG_DG170813"
        ],
        [
         "22",
         "BMG_MC534968",
         "BMG_DG199873"
        ],
        [
         "23",
         "BMG_MC325935",
         "BMG_DG171308"
        ],
        [
         "24",
         "BMG_MC201684",
         "BMG_DG142757"
        ],
        [
         "25",
         "BMG_MC234983",
         "BMG_DG144600"
        ],
        [
         "26",
         "BMG_MC234983",
         "BMG_DG153478"
        ],
        [
         "27",
         "BMG_MC201072",
         "BMG_DG171163"
        ],
        [
         "28",
         "BMG_MC224942",
         "BMG_DG141940"
        ],
        [
         "29",
         "BMG_MC532241",
         "BMG_DG132136"
        ],
        [
         "30",
         "BMG_MC532241",
         "BMG_DG137795"
        ],
        [
         "31",
         "BMG_MC201072",
         "BMG_DG171397"
        ],
        [
         "32",
         "BMG_MC234983",
         "BMG_DG144590"
        ],
        [
         "33",
         "BMG_MC588160",
         "BMG_DG137795"
        ],
        [
         "34",
         "BMG_MC588160",
         "BMG_DG023143"
        ],
        [
         "35",
         "BMG_MC588735",
         "BMG_DG023143"
        ],
        [
         "36",
         "BMG_MC314078",
         "BMG_DG171379"
        ],
        [
         "37",
         "BMG_MC478814",
         "BMG_DG120466"
        ],
        [
         "38",
         "BMG_MC342058",
         "BMG_DG120466"
        ],
        [
         "39",
         "BMG_MC341902",
         "BMG_DG082189"
        ],
        [
         "40",
         "BMG_MC314078",
         "BMG_DG082189"
        ],
        [
         "41",
         "BMG_MC589120",
         "BMG_DG118717"
        ],
        [
         "42",
         "BMG_MC314078",
         "BMG_DG139510"
        ],
        [
         "43",
         "BMG_MC314078",
         "BMG_DG212133"
        ],
        [
         "44",
         "BMG_MC314078",
         "BMG_DG140204"
        ],
        [
         "45",
         "BMG_MC314078",
         "BMG_DG025785"
        ],
        [
         "46",
         "BMG_MC314078",
         "BMG_DG150753"
        ],
        [
         "47",
         "BMG_MC314078",
         "BMG_DG177118"
        ],
        [
         "48",
         "BMG_MC314078",
         "BMG_DG129257"
        ],
        [
         "49",
         "BMG_MC314078",
         "BMG_DG116336"
        ]
       ],
       "shape": {
        "columns": 2,
        "rows": 67
       }
      },
      "text/html": [
       "<div>\n",
       "<style scoped>\n",
       "    .dataframe tbody tr th:only-of-type {\n",
       "        vertical-align: middle;\n",
       "    }\n",
       "\n",
       "    .dataframe tbody tr th {\n",
       "        vertical-align: top;\n",
       "    }\n",
       "\n",
       "    .dataframe thead th {\n",
       "        text-align: right;\n",
       "    }\n",
       "</style>\n",
       "<table border=\"1\" class=\"dataframe\">\n",
       "  <thead>\n",
       "    <tr style=\"text-align: right;\">\n",
       "      <th></th>\n",
       "      <th>From_ID</th>\n",
       "      <th>To_ID</th>\n",
       "    </tr>\n",
       "  </thead>\n",
       "  <tbody>\n",
       "    <tr>\n",
       "      <th>0</th>\n",
       "      <td>BMG_MC588851</td>\n",
       "      <td>BMG_DG129486</td>\n",
       "    </tr>\n",
       "    <tr>\n",
       "      <th>1</th>\n",
       "      <td>BMG_MC588160</td>\n",
       "      <td>BMG_DG153999</td>\n",
       "    </tr>\n",
       "    <tr>\n",
       "      <th>2</th>\n",
       "      <td>BMG_MC314078</td>\n",
       "      <td>BMG_DG004259</td>\n",
       "    </tr>\n",
       "    <tr>\n",
       "      <th>3</th>\n",
       "      <td>BMG_MC588233</td>\n",
       "      <td>BMG_DG153534</td>\n",
       "    </tr>\n",
       "    <tr>\n",
       "      <th>4</th>\n",
       "      <td>BMG_MC474956</td>\n",
       "      <td>BMG_DG153534</td>\n",
       "    </tr>\n",
       "    <tr>\n",
       "      <th>...</th>\n",
       "      <td>...</td>\n",
       "      <td>...</td>\n",
       "    </tr>\n",
       "    <tr>\n",
       "      <th>62</th>\n",
       "      <td>BMG_MC231424</td>\n",
       "      <td>BMG_DG082189</td>\n",
       "    </tr>\n",
       "    <tr>\n",
       "      <th>63</th>\n",
       "      <td>BMG_MC073270</td>\n",
       "      <td>BMG_DG158549</td>\n",
       "    </tr>\n",
       "    <tr>\n",
       "      <th>64</th>\n",
       "      <td>BMG_MC588160</td>\n",
       "      <td>BMG_DG129116</td>\n",
       "    </tr>\n",
       "    <tr>\n",
       "      <th>65</th>\n",
       "      <td>BMG_MC201072</td>\n",
       "      <td>BMG_DG141410</td>\n",
       "    </tr>\n",
       "    <tr>\n",
       "      <th>66</th>\n",
       "      <td>BMG_MC342058</td>\n",
       "      <td>BMG_DG142536</td>\n",
       "    </tr>\n",
       "  </tbody>\n",
       "</table>\n",
       "<p>67 rows × 2 columns</p>\n",
       "</div>"
      ],
      "text/plain": [
       "         From_ID         To_ID\n",
       "0   BMG_MC588851  BMG_DG129486\n",
       "1   BMG_MC588160  BMG_DG153999\n",
       "2   BMG_MC314078  BMG_DG004259\n",
       "3   BMG_MC588233  BMG_DG153534\n",
       "4   BMG_MC474956  BMG_DG153534\n",
       "..           ...           ...\n",
       "62  BMG_MC231424  BMG_DG082189\n",
       "63  BMG_MC073270  BMG_DG158549\n",
       "64  BMG_MC588160  BMG_DG129116\n",
       "65  BMG_MC201072  BMG_DG141410\n",
       "66  BMG_MC342058  BMG_DG142536\n",
       "\n",
       "[67 rows x 2 columns]"
      ]
     },
     "execution_count": 12,
     "metadata": {},
     "output_type": "execute_result"
    }
   ],
   "source": [
    "pm['From_ID'] = pm['From_ID'].str.split(';')\n",
    "pm['To_ID'] = pm['To_ID'].str.split(';')\n",
    "\n",
    "pm = pm.explode('From_ID')\n",
    "pm = pm.explode('To_ID')\n",
    "\n",
    "pm.drop_duplicates(inplace=True)\n",
    "pm.reset_index(drop=True, inplace=True)\n",
    "pm"
   ]
  },
  {
   "cell_type": "markdown",
   "metadata": {},
   "source": [
    "### Microbiota-Drug Relation"
   ]
  },
  {
   "cell_type": "code",
   "execution_count": 13,
   "metadata": {},
   "outputs": [
    {
     "data": {
      "application/vnd.microsoft.datawrangler.viewer.v0+json": {
       "columns": [
        {
         "name": "index",
         "rawType": "int64",
         "type": "integer"
        },
        {
         "name": "From_ID",
         "rawType": "object",
         "type": "string"
        },
        {
         "name": "To_ID",
         "rawType": "object",
         "type": "string"
        },
        {
         "name": "Type",
         "rawType": "object",
         "type": "string"
        },
        {
         "name": "Source",
         "rawType": "object",
         "type": "string"
        }
       ],
       "conversionMethod": "pd.DataFrame",
       "ref": "374f51ce-f74e-468b-a886-ea1fd7ec5cb8",
       "rows": [
        [
         "0",
         "BMG_MC073270",
         "BMG_DG001877",
         "Microbiota-Drug",
         "PharmacoMicrobiomics"
        ],
        [
         "1",
         "BMG_MC073270",
         "BMG_DG023143",
         "Microbiota-Drug",
         "PharmacoMicrobiomics"
        ],
        [
         "2",
         "BMG_MC073270",
         "BMG_DG131374",
         "Microbiota-Drug",
         "PharmacoMicrobiomics"
        ],
        [
         "3",
         "BMG_MC073270",
         "BMG_DG158549",
         "Microbiota-Drug",
         "PharmacoMicrobiomics"
        ],
        [
         "4",
         "BMG_MC088814",
         "BMG_DG004752",
         "Microbiota-Drug",
         "MDAD"
        ],
        [
         "5",
         "BMG_MC088814",
         "BMG_DG005834",
         "Microbiota-Drug",
         "MDAD"
        ],
        [
         "6",
         "BMG_MC088814",
         "BMG_DG005906",
         "Microbiota-Drug",
         "MDAD"
        ],
        [
         "7",
         "BMG_MC088814",
         "BMG_DG006460",
         "Microbiota-Drug",
         "MDAD"
        ],
        [
         "8",
         "BMG_MC088814",
         "BMG_DG025151",
         "Microbiota-Drug",
         "MDAD"
        ],
        [
         "9",
         "BMG_MC088814",
         "BMG_DG025316",
         "Microbiota-Drug",
         "MDAD"
        ],
        [
         "10",
         "BMG_MC088814",
         "BMG_DG079479",
         "Microbiota-Drug",
         "MDAD"
        ],
        [
         "11",
         "BMG_MC088814",
         "BMG_DG082441",
         "Microbiota-Drug",
         "MDAD"
        ],
        [
         "12",
         "BMG_MC088814",
         "BMG_DG090662",
         "Microbiota-Drug",
         "MDAD"
        ],
        [
         "13",
         "BMG_MC088814",
         "BMG_DG092287",
         "Microbiota-Drug",
         "MDAD"
        ],
        [
         "14",
         "BMG_MC088814",
         "BMG_DG092843",
         "Microbiota-Drug",
         "MDAD"
        ],
        [
         "15",
         "BMG_MC088814",
         "BMG_DG095860",
         "Microbiota-Drug",
         "MDAD"
        ],
        [
         "16",
         "BMG_MC088814",
         "BMG_DG101326",
         "Microbiota-Drug",
         "MDAD"
        ],
        [
         "17",
         "BMG_MC088814",
         "BMG_DG101498",
         "Microbiota-Drug",
         "MDAD"
        ],
        [
         "18",
         "BMG_MC088814",
         "BMG_DG101504",
         "Microbiota-Drug",
         "MDAD"
        ],
        [
         "19",
         "BMG_MC088814",
         "BMG_DG101808",
         "Microbiota-Drug",
         "MDAD"
        ],
        [
         "20",
         "BMG_MC088814",
         "BMG_DG112273",
         "Microbiota-Drug",
         "MDAD"
        ],
        [
         "21",
         "BMG_MC088814",
         "BMG_DG112279",
         "Microbiota-Drug",
         "MDAD"
        ],
        [
         "22",
         "BMG_MC088814",
         "BMG_DG112988",
         "Microbiota-Drug",
         "MDAD"
        ],
        [
         "23",
         "BMG_MC088814",
         "BMG_DG116715",
         "Microbiota-Drug",
         "MDAD"
        ],
        [
         "24",
         "BMG_MC088814",
         "BMG_DG122891",
         "Microbiota-Drug",
         "MDAD"
        ],
        [
         "25",
         "BMG_MC088814",
         "BMG_DG123836",
         "Microbiota-Drug",
         "MDAD"
        ],
        [
         "26",
         "BMG_MC088814",
         "BMG_DG129188",
         "Microbiota-Drug",
         "MDAD"
        ],
        [
         "27",
         "BMG_MC088814",
         "BMG_DG129580",
         "Microbiota-Drug",
         "MDAD"
        ],
        [
         "28",
         "BMG_MC088814",
         "BMG_DG130291",
         "Microbiota-Drug",
         "MDAD"
        ],
        [
         "29",
         "BMG_MC088814",
         "BMG_DG130758",
         "Microbiota-Drug",
         "MDAD"
        ],
        [
         "30",
         "BMG_MC088814",
         "BMG_DG131899",
         "Microbiota-Drug",
         "MDAD"
        ],
        [
         "31",
         "BMG_MC088814",
         "BMG_DG132120",
         "Microbiota-Drug",
         "MDAD"
        ],
        [
         "32",
         "BMG_MC088814",
         "BMG_DG132141",
         "Microbiota-Drug",
         "MDAD"
        ],
        [
         "33",
         "BMG_MC088814",
         "BMG_DG136339",
         "Microbiota-Drug",
         "MDAD"
        ],
        [
         "34",
         "BMG_MC088814",
         "BMG_DG136706",
         "Microbiota-Drug",
         "MDAD"
        ],
        [
         "35",
         "BMG_MC088814",
         "BMG_DG137267",
         "Microbiota-Drug",
         "MDAD"
        ],
        [
         "36",
         "BMG_MC088814",
         "BMG_DG137320",
         "Microbiota-Drug",
         "MDAD"
        ],
        [
         "37",
         "BMG_MC088814",
         "BMG_DG137333",
         "Microbiota-Drug",
         "MDAD"
        ],
        [
         "38",
         "BMG_MC088814",
         "BMG_DG138925",
         "Microbiota-Drug",
         "MDAD"
        ],
        [
         "39",
         "BMG_MC088814",
         "BMG_DG139241",
         "Microbiota-Drug",
         "MDAD"
        ],
        [
         "40",
         "BMG_MC088814",
         "BMG_DG139276",
         "Microbiota-Drug",
         "MDAD"
        ],
        [
         "41",
         "BMG_MC088814",
         "BMG_DG141518",
         "Microbiota-Drug",
         "MDAD"
        ],
        [
         "42",
         "BMG_MC088814",
         "BMG_DG142805",
         "Microbiota-Drug",
         "MDAD"
        ],
        [
         "43",
         "BMG_MC088814",
         "BMG_DG143351",
         "Microbiota-Drug",
         "MDAD"
        ],
        [
         "44",
         "BMG_MC088814",
         "BMG_DG143417",
         "Microbiota-Drug",
         "MDAD"
        ],
        [
         "45",
         "BMG_MC088814",
         "BMG_DG143578",
         "Microbiota-Drug",
         "MDAD"
        ],
        [
         "46",
         "BMG_MC088814",
         "BMG_DG145913",
         "Microbiota-Drug",
         "MDAD"
        ],
        [
         "47",
         "BMG_MC088814",
         "BMG_DG146733",
         "Microbiota-Drug",
         "MDAD"
        ],
        [
         "48",
         "BMG_MC088814",
         "BMG_DG149210",
         "Microbiota-Drug",
         "MDAD"
        ],
        [
         "49",
         "BMG_MC088814",
         "BMG_DG150485",
         "Microbiota-Drug",
         "MDAD"
        ]
       ],
       "shape": {
        "columns": 4,
        "rows": 866
       }
      },
      "text/html": [
       "<div>\n",
       "<style scoped>\n",
       "    .dataframe tbody tr th:only-of-type {\n",
       "        vertical-align: middle;\n",
       "    }\n",
       "\n",
       "    .dataframe tbody tr th {\n",
       "        vertical-align: top;\n",
       "    }\n",
       "\n",
       "    .dataframe thead th {\n",
       "        text-align: right;\n",
       "    }\n",
       "</style>\n",
       "<table border=\"1\" class=\"dataframe\">\n",
       "  <thead>\n",
       "    <tr style=\"text-align: right;\">\n",
       "      <th></th>\n",
       "      <th>From_ID</th>\n",
       "      <th>To_ID</th>\n",
       "      <th>Type</th>\n",
       "      <th>Source</th>\n",
       "    </tr>\n",
       "  </thead>\n",
       "  <tbody>\n",
       "    <tr>\n",
       "      <th>0</th>\n",
       "      <td>BMG_MC073270</td>\n",
       "      <td>BMG_DG001877</td>\n",
       "      <td>Microbiota-Drug</td>\n",
       "      <td>PharmacoMicrobiomics</td>\n",
       "    </tr>\n",
       "    <tr>\n",
       "      <th>1</th>\n",
       "      <td>BMG_MC073270</td>\n",
       "      <td>BMG_DG023143</td>\n",
       "      <td>Microbiota-Drug</td>\n",
       "      <td>PharmacoMicrobiomics</td>\n",
       "    </tr>\n",
       "    <tr>\n",
       "      <th>2</th>\n",
       "      <td>BMG_MC073270</td>\n",
       "      <td>BMG_DG131374</td>\n",
       "      <td>Microbiota-Drug</td>\n",
       "      <td>PharmacoMicrobiomics</td>\n",
       "    </tr>\n",
       "    <tr>\n",
       "      <th>3</th>\n",
       "      <td>BMG_MC073270</td>\n",
       "      <td>BMG_DG158549</td>\n",
       "      <td>Microbiota-Drug</td>\n",
       "      <td>PharmacoMicrobiomics</td>\n",
       "    </tr>\n",
       "    <tr>\n",
       "      <th>4</th>\n",
       "      <td>BMG_MC088814</td>\n",
       "      <td>BMG_DG004752</td>\n",
       "      <td>Microbiota-Drug</td>\n",
       "      <td>MDAD</td>\n",
       "    </tr>\n",
       "    <tr>\n",
       "      <th>...</th>\n",
       "      <td>...</td>\n",
       "      <td>...</td>\n",
       "      <td>...</td>\n",
       "      <td>...</td>\n",
       "    </tr>\n",
       "    <tr>\n",
       "      <th>861</th>\n",
       "      <td>BMG_MC615988</td>\n",
       "      <td>BMG_DG177176</td>\n",
       "      <td>Microbiota-Drug</td>\n",
       "      <td>MDAD</td>\n",
       "    </tr>\n",
       "    <tr>\n",
       "      <th>862</th>\n",
       "      <td>BMG_MC615988</td>\n",
       "      <td>BMG_DG200035</td>\n",
       "      <td>Microbiota-Drug</td>\n",
       "      <td>MDAD</td>\n",
       "    </tr>\n",
       "    <tr>\n",
       "      <th>863</th>\n",
       "      <td>BMG_MC615988</td>\n",
       "      <td>BMG_DG215706</td>\n",
       "      <td>Microbiota-Drug</td>\n",
       "      <td>MDAD</td>\n",
       "    </tr>\n",
       "    <tr>\n",
       "      <th>864</th>\n",
       "      <td>BMG_MC615988</td>\n",
       "      <td>BMG_DG263940</td>\n",
       "      <td>Microbiota-Drug</td>\n",
       "      <td>MDAD</td>\n",
       "    </tr>\n",
       "    <tr>\n",
       "      <th>865</th>\n",
       "      <td>BMG_MC615988</td>\n",
       "      <td>BMG_DG265811</td>\n",
       "      <td>Microbiota-Drug</td>\n",
       "      <td>MDAD</td>\n",
       "    </tr>\n",
       "  </tbody>\n",
       "</table>\n",
       "<p>866 rows × 4 columns</p>\n",
       "</div>"
      ],
      "text/plain": [
       "          From_ID         To_ID             Type                Source\n",
       "0    BMG_MC073270  BMG_DG001877  Microbiota-Drug  PharmacoMicrobiomics\n",
       "1    BMG_MC073270  BMG_DG023143  Microbiota-Drug  PharmacoMicrobiomics\n",
       "2    BMG_MC073270  BMG_DG131374  Microbiota-Drug  PharmacoMicrobiomics\n",
       "3    BMG_MC073270  BMG_DG158549  Microbiota-Drug  PharmacoMicrobiomics\n",
       "4    BMG_MC088814  BMG_DG004752  Microbiota-Drug                  MDAD\n",
       "..            ...           ...              ...                   ...\n",
       "861  BMG_MC615988  BMG_DG177176  Microbiota-Drug                  MDAD\n",
       "862  BMG_MC615988  BMG_DG200035  Microbiota-Drug                  MDAD\n",
       "863  BMG_MC615988  BMG_DG215706  Microbiota-Drug                  MDAD\n",
       "864  BMG_MC615988  BMG_DG263940  Microbiota-Drug                  MDAD\n",
       "865  BMG_MC615988  BMG_DG265811  Microbiota-Drug                  MDAD\n",
       "\n",
       "[866 rows x 4 columns]"
      ]
     },
     "execution_count": 13,
     "metadata": {},
     "output_type": "execute_result"
    }
   ],
   "source": [
    "mdad['Type'] = 'Microbiota-Drug'\n",
    "pm['Type'] = 'Microbiota-Drug'\n",
    "\n",
    "mdad['source1'] = 'MDAD'\n",
    "pm['source2'] = 'PharmacoMicrobiomics'\n",
    "\n",
    "def merge_string_columns(df, columns, merge_name, separator=';'):\n",
    "    def merge_strings(row):\n",
    "        combined = set()\n",
    "        for column in columns:\n",
    "            if pd.notnull(row[column]):\n",
    "                combined.update(row[column].split(separator))\n",
    "        return separator.join(combined)\n",
    "    \n",
    "    # Apply the function to each row and create a new column\n",
    "    combined_column_name = merge_name\n",
    "    df[combined_column_name] = df.apply(merge_strings, axis=1)\n",
    "    df.drop(columns=columns, inplace=True)\n",
    "    \n",
    "    return df\n",
    "\n",
    "microbiota_drug = pd.merge(mdad, pm, how='outer')\n",
    "microbiota_drug = merge_string_columns(microbiota_drug, ['source1', 'source2'], 'Source')\n",
    "microbiota_drug"
   ]
  },
  {
   "cell_type": "code",
   "execution_count": 14,
   "metadata": {},
   "outputs": [
    {
     "data": {
      "application/vnd.microsoft.datawrangler.viewer.v0+json": {
       "columns": [
        {
         "name": "index",
         "rawType": "int64",
         "type": "integer"
        },
        {
         "name": "BioMedGraphica_ID",
         "rawType": "object",
         "type": "string"
        },
        {
         "name": "From_ID",
         "rawType": "object",
         "type": "string"
        },
        {
         "name": "To_ID",
         "rawType": "object",
         "type": "string"
        },
        {
         "name": "Type",
         "rawType": "object",
         "type": "string"
        },
        {
         "name": "Source",
         "rawType": "object",
         "type": "string"
        }
       ],
       "conversionMethod": "pd.DataFrame",
       "ref": "6f420aff-b5c6-49f1-9c39-8df53cd1b4d5",
       "rows": [
        [
         "0",
         "BMG_ED_MCDG001",
         "BMG_MC073270",
         "BMG_DG001877",
         "Microbiota-Drug",
         "PharmacoMicrobiomics"
        ],
        [
         "1",
         "BMG_ED_MCDG002",
         "BMG_MC073270",
         "BMG_DG023143",
         "Microbiota-Drug",
         "PharmacoMicrobiomics"
        ],
        [
         "2",
         "BMG_ED_MCDG003",
         "BMG_MC073270",
         "BMG_DG131374",
         "Microbiota-Drug",
         "PharmacoMicrobiomics"
        ],
        [
         "3",
         "BMG_ED_MCDG004",
         "BMG_MC073270",
         "BMG_DG158549",
         "Microbiota-Drug",
         "PharmacoMicrobiomics"
        ],
        [
         "4",
         "BMG_ED_MCDG005",
         "BMG_MC088814",
         "BMG_DG004752",
         "Microbiota-Drug",
         "MDAD"
        ],
        [
         "5",
         "BMG_ED_MCDG006",
         "BMG_MC088814",
         "BMG_DG005834",
         "Microbiota-Drug",
         "MDAD"
        ],
        [
         "6",
         "BMG_ED_MCDG007",
         "BMG_MC088814",
         "BMG_DG005906",
         "Microbiota-Drug",
         "MDAD"
        ],
        [
         "7",
         "BMG_ED_MCDG008",
         "BMG_MC088814",
         "BMG_DG006460",
         "Microbiota-Drug",
         "MDAD"
        ],
        [
         "8",
         "BMG_ED_MCDG009",
         "BMG_MC088814",
         "BMG_DG025151",
         "Microbiota-Drug",
         "MDAD"
        ],
        [
         "9",
         "BMG_ED_MCDG010",
         "BMG_MC088814",
         "BMG_DG025316",
         "Microbiota-Drug",
         "MDAD"
        ],
        [
         "10",
         "BMG_ED_MCDG011",
         "BMG_MC088814",
         "BMG_DG079479",
         "Microbiota-Drug",
         "MDAD"
        ],
        [
         "11",
         "BMG_ED_MCDG012",
         "BMG_MC088814",
         "BMG_DG082441",
         "Microbiota-Drug",
         "MDAD"
        ],
        [
         "12",
         "BMG_ED_MCDG013",
         "BMG_MC088814",
         "BMG_DG090662",
         "Microbiota-Drug",
         "MDAD"
        ],
        [
         "13",
         "BMG_ED_MCDG014",
         "BMG_MC088814",
         "BMG_DG092287",
         "Microbiota-Drug",
         "MDAD"
        ],
        [
         "14",
         "BMG_ED_MCDG015",
         "BMG_MC088814",
         "BMG_DG092843",
         "Microbiota-Drug",
         "MDAD"
        ],
        [
         "15",
         "BMG_ED_MCDG016",
         "BMG_MC088814",
         "BMG_DG095860",
         "Microbiota-Drug",
         "MDAD"
        ],
        [
         "16",
         "BMG_ED_MCDG017",
         "BMG_MC088814",
         "BMG_DG101326",
         "Microbiota-Drug",
         "MDAD"
        ],
        [
         "17",
         "BMG_ED_MCDG018",
         "BMG_MC088814",
         "BMG_DG101498",
         "Microbiota-Drug",
         "MDAD"
        ],
        [
         "18",
         "BMG_ED_MCDG019",
         "BMG_MC088814",
         "BMG_DG101504",
         "Microbiota-Drug",
         "MDAD"
        ],
        [
         "19",
         "BMG_ED_MCDG020",
         "BMG_MC088814",
         "BMG_DG101808",
         "Microbiota-Drug",
         "MDAD"
        ],
        [
         "20",
         "BMG_ED_MCDG021",
         "BMG_MC088814",
         "BMG_DG112273",
         "Microbiota-Drug",
         "MDAD"
        ],
        [
         "21",
         "BMG_ED_MCDG022",
         "BMG_MC088814",
         "BMG_DG112279",
         "Microbiota-Drug",
         "MDAD"
        ],
        [
         "22",
         "BMG_ED_MCDG023",
         "BMG_MC088814",
         "BMG_DG112988",
         "Microbiota-Drug",
         "MDAD"
        ],
        [
         "23",
         "BMG_ED_MCDG024",
         "BMG_MC088814",
         "BMG_DG116715",
         "Microbiota-Drug",
         "MDAD"
        ],
        [
         "24",
         "BMG_ED_MCDG025",
         "BMG_MC088814",
         "BMG_DG122891",
         "Microbiota-Drug",
         "MDAD"
        ],
        [
         "25",
         "BMG_ED_MCDG026",
         "BMG_MC088814",
         "BMG_DG123836",
         "Microbiota-Drug",
         "MDAD"
        ],
        [
         "26",
         "BMG_ED_MCDG027",
         "BMG_MC088814",
         "BMG_DG129188",
         "Microbiota-Drug",
         "MDAD"
        ],
        [
         "27",
         "BMG_ED_MCDG028",
         "BMG_MC088814",
         "BMG_DG129580",
         "Microbiota-Drug",
         "MDAD"
        ],
        [
         "28",
         "BMG_ED_MCDG029",
         "BMG_MC088814",
         "BMG_DG130291",
         "Microbiota-Drug",
         "MDAD"
        ],
        [
         "29",
         "BMG_ED_MCDG030",
         "BMG_MC088814",
         "BMG_DG130758",
         "Microbiota-Drug",
         "MDAD"
        ],
        [
         "30",
         "BMG_ED_MCDG031",
         "BMG_MC088814",
         "BMG_DG131899",
         "Microbiota-Drug",
         "MDAD"
        ],
        [
         "31",
         "BMG_ED_MCDG032",
         "BMG_MC088814",
         "BMG_DG132120",
         "Microbiota-Drug",
         "MDAD"
        ],
        [
         "32",
         "BMG_ED_MCDG033",
         "BMG_MC088814",
         "BMG_DG132141",
         "Microbiota-Drug",
         "MDAD"
        ],
        [
         "33",
         "BMG_ED_MCDG034",
         "BMG_MC088814",
         "BMG_DG136339",
         "Microbiota-Drug",
         "MDAD"
        ],
        [
         "34",
         "BMG_ED_MCDG035",
         "BMG_MC088814",
         "BMG_DG136706",
         "Microbiota-Drug",
         "MDAD"
        ],
        [
         "35",
         "BMG_ED_MCDG036",
         "BMG_MC088814",
         "BMG_DG137267",
         "Microbiota-Drug",
         "MDAD"
        ],
        [
         "36",
         "BMG_ED_MCDG037",
         "BMG_MC088814",
         "BMG_DG137320",
         "Microbiota-Drug",
         "MDAD"
        ],
        [
         "37",
         "BMG_ED_MCDG038",
         "BMG_MC088814",
         "BMG_DG137333",
         "Microbiota-Drug",
         "MDAD"
        ],
        [
         "38",
         "BMG_ED_MCDG039",
         "BMG_MC088814",
         "BMG_DG138925",
         "Microbiota-Drug",
         "MDAD"
        ],
        [
         "39",
         "BMG_ED_MCDG040",
         "BMG_MC088814",
         "BMG_DG139241",
         "Microbiota-Drug",
         "MDAD"
        ],
        [
         "40",
         "BMG_ED_MCDG041",
         "BMG_MC088814",
         "BMG_DG139276",
         "Microbiota-Drug",
         "MDAD"
        ],
        [
         "41",
         "BMG_ED_MCDG042",
         "BMG_MC088814",
         "BMG_DG141518",
         "Microbiota-Drug",
         "MDAD"
        ],
        [
         "42",
         "BMG_ED_MCDG043",
         "BMG_MC088814",
         "BMG_DG142805",
         "Microbiota-Drug",
         "MDAD"
        ],
        [
         "43",
         "BMG_ED_MCDG044",
         "BMG_MC088814",
         "BMG_DG143351",
         "Microbiota-Drug",
         "MDAD"
        ],
        [
         "44",
         "BMG_ED_MCDG045",
         "BMG_MC088814",
         "BMG_DG143417",
         "Microbiota-Drug",
         "MDAD"
        ],
        [
         "45",
         "BMG_ED_MCDG046",
         "BMG_MC088814",
         "BMG_DG143578",
         "Microbiota-Drug",
         "MDAD"
        ],
        [
         "46",
         "BMG_ED_MCDG047",
         "BMG_MC088814",
         "BMG_DG145913",
         "Microbiota-Drug",
         "MDAD"
        ],
        [
         "47",
         "BMG_ED_MCDG048",
         "BMG_MC088814",
         "BMG_DG146733",
         "Microbiota-Drug",
         "MDAD"
        ],
        [
         "48",
         "BMG_ED_MCDG049",
         "BMG_MC088814",
         "BMG_DG149210",
         "Microbiota-Drug",
         "MDAD"
        ],
        [
         "49",
         "BMG_ED_MCDG050",
         "BMG_MC088814",
         "BMG_DG150485",
         "Microbiota-Drug",
         "MDAD"
        ]
       ],
       "shape": {
        "columns": 5,
        "rows": 866
       }
      },
      "text/html": [
       "<div>\n",
       "<style scoped>\n",
       "    .dataframe tbody tr th:only-of-type {\n",
       "        vertical-align: middle;\n",
       "    }\n",
       "\n",
       "    .dataframe tbody tr th {\n",
       "        vertical-align: top;\n",
       "    }\n",
       "\n",
       "    .dataframe thead th {\n",
       "        text-align: right;\n",
       "    }\n",
       "</style>\n",
       "<table border=\"1\" class=\"dataframe\">\n",
       "  <thead>\n",
       "    <tr style=\"text-align: right;\">\n",
       "      <th></th>\n",
       "      <th>BioMedGraphica_ID</th>\n",
       "      <th>From_ID</th>\n",
       "      <th>To_ID</th>\n",
       "      <th>Type</th>\n",
       "      <th>Source</th>\n",
       "    </tr>\n",
       "  </thead>\n",
       "  <tbody>\n",
       "    <tr>\n",
       "      <th>0</th>\n",
       "      <td>BMG_ED_MCDG001</td>\n",
       "      <td>BMG_MC073270</td>\n",
       "      <td>BMG_DG001877</td>\n",
       "      <td>Microbiota-Drug</td>\n",
       "      <td>PharmacoMicrobiomics</td>\n",
       "    </tr>\n",
       "    <tr>\n",
       "      <th>1</th>\n",
       "      <td>BMG_ED_MCDG002</td>\n",
       "      <td>BMG_MC073270</td>\n",
       "      <td>BMG_DG023143</td>\n",
       "      <td>Microbiota-Drug</td>\n",
       "      <td>PharmacoMicrobiomics</td>\n",
       "    </tr>\n",
       "    <tr>\n",
       "      <th>2</th>\n",
       "      <td>BMG_ED_MCDG003</td>\n",
       "      <td>BMG_MC073270</td>\n",
       "      <td>BMG_DG131374</td>\n",
       "      <td>Microbiota-Drug</td>\n",
       "      <td>PharmacoMicrobiomics</td>\n",
       "    </tr>\n",
       "    <tr>\n",
       "      <th>3</th>\n",
       "      <td>BMG_ED_MCDG004</td>\n",
       "      <td>BMG_MC073270</td>\n",
       "      <td>BMG_DG158549</td>\n",
       "      <td>Microbiota-Drug</td>\n",
       "      <td>PharmacoMicrobiomics</td>\n",
       "    </tr>\n",
       "    <tr>\n",
       "      <th>4</th>\n",
       "      <td>BMG_ED_MCDG005</td>\n",
       "      <td>BMG_MC088814</td>\n",
       "      <td>BMG_DG004752</td>\n",
       "      <td>Microbiota-Drug</td>\n",
       "      <td>MDAD</td>\n",
       "    </tr>\n",
       "    <tr>\n",
       "      <th>...</th>\n",
       "      <td>...</td>\n",
       "      <td>...</td>\n",
       "      <td>...</td>\n",
       "      <td>...</td>\n",
       "      <td>...</td>\n",
       "    </tr>\n",
       "    <tr>\n",
       "      <th>861</th>\n",
       "      <td>BMG_ED_MCDG862</td>\n",
       "      <td>BMG_MC615988</td>\n",
       "      <td>BMG_DG177176</td>\n",
       "      <td>Microbiota-Drug</td>\n",
       "      <td>MDAD</td>\n",
       "    </tr>\n",
       "    <tr>\n",
       "      <th>862</th>\n",
       "      <td>BMG_ED_MCDG863</td>\n",
       "      <td>BMG_MC615988</td>\n",
       "      <td>BMG_DG200035</td>\n",
       "      <td>Microbiota-Drug</td>\n",
       "      <td>MDAD</td>\n",
       "    </tr>\n",
       "    <tr>\n",
       "      <th>863</th>\n",
       "      <td>BMG_ED_MCDG864</td>\n",
       "      <td>BMG_MC615988</td>\n",
       "      <td>BMG_DG215706</td>\n",
       "      <td>Microbiota-Drug</td>\n",
       "      <td>MDAD</td>\n",
       "    </tr>\n",
       "    <tr>\n",
       "      <th>864</th>\n",
       "      <td>BMG_ED_MCDG865</td>\n",
       "      <td>BMG_MC615988</td>\n",
       "      <td>BMG_DG263940</td>\n",
       "      <td>Microbiota-Drug</td>\n",
       "      <td>MDAD</td>\n",
       "    </tr>\n",
       "    <tr>\n",
       "      <th>865</th>\n",
       "      <td>BMG_ED_MCDG866</td>\n",
       "      <td>BMG_MC615988</td>\n",
       "      <td>BMG_DG265811</td>\n",
       "      <td>Microbiota-Drug</td>\n",
       "      <td>MDAD</td>\n",
       "    </tr>\n",
       "  </tbody>\n",
       "</table>\n",
       "<p>866 rows × 5 columns</p>\n",
       "</div>"
      ],
      "text/plain": [
       "    BioMedGraphica_ID       From_ID         To_ID             Type  \\\n",
       "0      BMG_ED_MCDG001  BMG_MC073270  BMG_DG001877  Microbiota-Drug   \n",
       "1      BMG_ED_MCDG002  BMG_MC073270  BMG_DG023143  Microbiota-Drug   \n",
       "2      BMG_ED_MCDG003  BMG_MC073270  BMG_DG131374  Microbiota-Drug   \n",
       "3      BMG_ED_MCDG004  BMG_MC073270  BMG_DG158549  Microbiota-Drug   \n",
       "4      BMG_ED_MCDG005  BMG_MC088814  BMG_DG004752  Microbiota-Drug   \n",
       "..                ...           ...           ...              ...   \n",
       "861    BMG_ED_MCDG862  BMG_MC615988  BMG_DG177176  Microbiota-Drug   \n",
       "862    BMG_ED_MCDG863  BMG_MC615988  BMG_DG200035  Microbiota-Drug   \n",
       "863    BMG_ED_MCDG864  BMG_MC615988  BMG_DG215706  Microbiota-Drug   \n",
       "864    BMG_ED_MCDG865  BMG_MC615988  BMG_DG263940  Microbiota-Drug   \n",
       "865    BMG_ED_MCDG866  BMG_MC615988  BMG_DG265811  Microbiota-Drug   \n",
       "\n",
       "                   Source  \n",
       "0    PharmacoMicrobiomics  \n",
       "1    PharmacoMicrobiomics  \n",
       "2    PharmacoMicrobiomics  \n",
       "3    PharmacoMicrobiomics  \n",
       "4                    MDAD  \n",
       "..                    ...  \n",
       "861                  MDAD  \n",
       "862                  MDAD  \n",
       "863                  MDAD  \n",
       "864                  MDAD  \n",
       "865                  MDAD  \n",
       "\n",
       "[866 rows x 5 columns]"
      ]
     },
     "execution_count": 14,
     "metadata": {},
     "output_type": "execute_result"
    }
   ],
   "source": [
    "max_length = len(str(len(microbiota_drug)))\n",
    "microbiota_drug['BioMedGraphica_ID'] = ['BMG_ED_MCDG' + str(i).zfill(max_length) for i in range(1, len(microbiota_drug) + 1)]\n",
    "columns = ['BioMedGraphica_ID'] + [col for col in microbiota_drug.columns if col != 'BioMedGraphica_ID']  # re-order columns\n",
    "microbiota_drug = microbiota_drug[columns]\n",
    "microbiota_drug"
   ]
  },
  {
   "cell_type": "code",
   "execution_count": 15,
   "metadata": {},
   "outputs": [
    {
     "name": "stdout",
     "output_type": "stream",
     "text": [
      "Data has been saved to D:\\RA\\BMG\\BioMedGraphica\\Relation\\Microbiota-Drug\\BioMedGraphica_Microbiota_Drug.csv\n"
     ]
    }
   ],
   "source": [
    "import os\n",
    "from pathlib import Path\n",
    "\n",
    "# get the current working directory\n",
    "current_working_dir = Path(os.getcwd()).resolve()\n",
    "\n",
    "# get the output directory\n",
    "grandparent_dir = current_working_dir.parent.parent.parent\n",
    "\n",
    "target_folder = grandparent_dir / 'BioMedGraphica' / 'Relation' / 'Microbiota-Drug'\n",
    "if not target_folder.exists():\n",
    "    target_folder.mkdir(parents=True)\n",
    "    print(f\"Folder {target_folder} has been created.\")\n",
    "\n",
    "output_file_path = target_folder / 'BioMedGraphica_Microbiota_Drug.csv'\n",
    "microbiota_drug.to_csv(output_file_path, index=False)\n",
    "print(f\"Data has been saved to {output_file_path}\")"
   ]
  }
 ],
 "metadata": {
  "kernelspec": {
   "display_name": "base",
   "language": "python",
   "name": "python3"
  },
  "language_info": {
   "codemirror_mode": {
    "name": "ipython",
    "version": 3
   },
   "file_extension": ".py",
   "mimetype": "text/x-python",
   "name": "python",
   "nbconvert_exporter": "python",
   "pygments_lexer": "ipython3",
   "version": "3.9.19"
  }
 },
 "nbformat": 4,
 "nbformat_minor": 2
}
