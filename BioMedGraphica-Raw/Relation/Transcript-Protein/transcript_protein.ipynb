{
 "cells": [
  {
   "cell_type": "markdown",
   "metadata": {},
   "source": [
    "### Ensembl"
   ]
  },
  {
   "cell_type": "code",
   "execution_count": 39,
   "metadata": {},
   "outputs": [],
   "source": [
    "import pandas as pd\n",
    "from pybiomart import Server\n",
    "\n",
    "# List all available attributes\n",
    "def list_attributes():\n",
    "    server = Server(host='http://www.ensembl.org')\n",
    "    dataset = server.marts['ENSEMBL_MART_ENSEMBL'].datasets['hsapiens_gene_ensembl']\n",
    "    attributes = dataset.list_attributes()\n",
    "    return attributes\n",
    "\n",
    "attributes = list_attributes()\n",
    "\n",
    "def fetch_ensembl_data(attributes):\n",
    "    server = Server(host='http://www.ensembl.org')\n",
    "    #https://www.ensembl.org/biomart/martservice?type=datasets&mart=ENSEMBL_MART_ENSEMBL\n",
    "    #this link shows that hsapiens_gene_ensembl is the GRCh38.p14\n",
    "    dataset = server.marts['ENSEMBL_MART_ENSEMBL'].datasets['hsapiens_gene_ensembl']\n",
    "    \n",
    "    response = dataset.query(attributes)\n",
    "    \n",
    "    return response\n",
    "\n",
    "attributes=['ensembl_transcript_id', 'ensembl_peptide_id']\n",
    "data_ensembl = fetch_ensembl_data(attributes)\n",
    "data_ensembl.to_csv('transcript_protein.csv', index=False)"
   ]
  },
  {
   "cell_type": "code",
   "execution_count": 1,
   "metadata": {},
   "outputs": [
    {
     "data": {
      "application/vnd.microsoft.datawrangler.viewer.v0+json": {
       "columns": [
        {
         "name": "index",
         "rawType": "int64",
         "type": "integer"
        },
        {
         "name": "Transcript stable ID",
         "rawType": "object",
         "type": "string"
        },
        {
         "name": "Protein stable ID",
         "rawType": "object",
         "type": "unknown"
        }
       ],
       "conversionMethod": "pd.DataFrame",
       "ref": "09ae0e84-5b75-442c-a390-e6524bdfe701",
       "rows": [
        [
         "0",
         "ENST00000387314",
         null
        ],
        [
         "1",
         "ENST00000389680",
         null
        ],
        [
         "2",
         "ENST00000387342",
         null
        ],
        [
         "3",
         "ENST00000387347",
         null
        ],
        [
         "4",
         "ENST00000386347",
         null
        ],
        [
         "5",
         "ENST00000361390",
         "ENSP00000354687"
        ],
        [
         "6",
         "ENST00000387365",
         null
        ],
        [
         "7",
         "ENST00000387372",
         null
        ],
        [
         "8",
         "ENST00000387377",
         null
        ],
        [
         "9",
         "ENST00000361453",
         "ENSP00000355046"
        ],
        [
         "10",
         "ENST00000387382",
         null
        ],
        [
         "11",
         "ENST00000387392",
         null
        ],
        [
         "12",
         "ENST00000387400",
         null
        ],
        [
         "13",
         "ENST00000387405",
         null
        ],
        [
         "14",
         "ENST00000387409",
         null
        ],
        [
         "15",
         "ENST00000361624",
         "ENSP00000354499"
        ],
        [
         "16",
         "ENST00000387416",
         null
        ],
        [
         "17",
         "ENST00000387419",
         null
        ],
        [
         "18",
         "ENST00000361739",
         "ENSP00000354876"
        ],
        [
         "19",
         "ENST00000387421",
         null
        ],
        [
         "20",
         "ENST00000361851",
         "ENSP00000355265"
        ],
        [
         "21",
         "ENST00000361899",
         "ENSP00000354632"
        ],
        [
         "22",
         "ENST00000362079",
         "ENSP00000354982"
        ],
        [
         "23",
         "ENST00000387429",
         null
        ],
        [
         "24",
         "ENST00000361227",
         "ENSP00000355206"
        ],
        [
         "25",
         "ENST00000387439",
         null
        ],
        [
         "26",
         "ENST00000361335",
         "ENSP00000354728"
        ],
        [
         "27",
         "ENST00000361381",
         "ENSP00000354961"
        ],
        [
         "28",
         "ENST00000387441",
         null
        ],
        [
         "29",
         "ENST00000387449",
         null
        ],
        [
         "30",
         "ENST00000387456",
         null
        ],
        [
         "31",
         "ENST00000361567",
         "ENSP00000354813"
        ],
        [
         "32",
         "ENST00000361681",
         "ENSP00000354665"
        ],
        [
         "33",
         "ENST00000387459",
         null
        ],
        [
         "34",
         "ENST00000361789",
         "ENSP00000354554"
        ],
        [
         "35",
         "ENST00000387460",
         null
        ],
        [
         "36",
         "ENST00000387461",
         null
        ],
        [
         "37",
         "ENST00000761542",
         null
        ],
        [
         "38",
         "ENST00000761543",
         null
        ],
        [
         "39",
         "ENST00000761544",
         null
        ],
        [
         "40",
         "ENST00000761545",
         null
        ],
        [
         "41",
         "ENST00000761546",
         null
        ],
        [
         "42",
         "ENST00000761547",
         null
        ],
        [
         "43",
         "ENST00000761548",
         null
        ],
        [
         "44",
         "ENST00000761549",
         null
        ],
        [
         "45",
         "ENST00000761550",
         null
        ],
        [
         "46",
         "ENST00000761551",
         null
        ],
        [
         "47",
         "ENST00000761552",
         null
        ],
        [
         "48",
         "ENST00000761553",
         null
        ],
        [
         "49",
         "ENST00000761554",
         null
        ]
       ],
       "shape": {
        "columns": 2,
        "rows": 412034
       }
      },
      "text/html": [
       "<div>\n",
       "<style scoped>\n",
       "    .dataframe tbody tr th:only-of-type {\n",
       "        vertical-align: middle;\n",
       "    }\n",
       "\n",
       "    .dataframe tbody tr th {\n",
       "        vertical-align: top;\n",
       "    }\n",
       "\n",
       "    .dataframe thead th {\n",
       "        text-align: right;\n",
       "    }\n",
       "</style>\n",
       "<table border=\"1\" class=\"dataframe\">\n",
       "  <thead>\n",
       "    <tr style=\"text-align: right;\">\n",
       "      <th></th>\n",
       "      <th>Transcript stable ID</th>\n",
       "      <th>Protein stable ID</th>\n",
       "    </tr>\n",
       "  </thead>\n",
       "  <tbody>\n",
       "    <tr>\n",
       "      <th>0</th>\n",
       "      <td>ENST00000387314</td>\n",
       "      <td>NaN</td>\n",
       "    </tr>\n",
       "    <tr>\n",
       "      <th>1</th>\n",
       "      <td>ENST00000389680</td>\n",
       "      <td>NaN</td>\n",
       "    </tr>\n",
       "    <tr>\n",
       "      <th>2</th>\n",
       "      <td>ENST00000387342</td>\n",
       "      <td>NaN</td>\n",
       "    </tr>\n",
       "    <tr>\n",
       "      <th>3</th>\n",
       "      <td>ENST00000387347</td>\n",
       "      <td>NaN</td>\n",
       "    </tr>\n",
       "    <tr>\n",
       "      <th>4</th>\n",
       "      <td>ENST00000386347</td>\n",
       "      <td>NaN</td>\n",
       "    </tr>\n",
       "    <tr>\n",
       "      <th>...</th>\n",
       "      <td>...</td>\n",
       "      <td>...</td>\n",
       "    </tr>\n",
       "    <tr>\n",
       "      <th>412029</th>\n",
       "      <td>ENST00000831127</td>\n",
       "      <td>NaN</td>\n",
       "    </tr>\n",
       "    <tr>\n",
       "      <th>412030</th>\n",
       "      <td>ENST00000466430</td>\n",
       "      <td>NaN</td>\n",
       "    </tr>\n",
       "    <tr>\n",
       "      <th>412031</th>\n",
       "      <td>ENST00000477740</td>\n",
       "      <td>NaN</td>\n",
       "    </tr>\n",
       "    <tr>\n",
       "      <th>412032</th>\n",
       "      <td>ENST00000471248</td>\n",
       "      <td>NaN</td>\n",
       "    </tr>\n",
       "    <tr>\n",
       "      <th>412033</th>\n",
       "      <td>ENST00000453576</td>\n",
       "      <td>NaN</td>\n",
       "    </tr>\n",
       "  </tbody>\n",
       "</table>\n",
       "<p>412034 rows × 2 columns</p>\n",
       "</div>"
      ],
      "text/plain": [
       "       Transcript stable ID Protein stable ID\n",
       "0           ENST00000387314               NaN\n",
       "1           ENST00000389680               NaN\n",
       "2           ENST00000387342               NaN\n",
       "3           ENST00000387347               NaN\n",
       "4           ENST00000386347               NaN\n",
       "...                     ...               ...\n",
       "412029      ENST00000831127               NaN\n",
       "412030      ENST00000466430               NaN\n",
       "412031      ENST00000477740               NaN\n",
       "412032      ENST00000471248               NaN\n",
       "412033      ENST00000453576               NaN\n",
       "\n",
       "[412034 rows x 2 columns]"
      ]
     },
     "execution_count": 1,
     "metadata": {},
     "output_type": "execute_result"
    }
   ],
   "source": [
    "# Download Link: API\n",
    "# Download Date: 2025-03-21\n",
    "# Download Version: 2025-03-21\n",
    "import pandas as pd\n",
    "\n",
    "df_ensembl_transcript_protein = pd.read_csv('transcript_protein.csv')\n",
    "df_ensembl_transcript_protein"
   ]
  },
  {
   "cell_type": "markdown",
   "metadata": {},
   "source": [
    "### Uniprot"
   ]
  },
  {
   "cell_type": "code",
   "execution_count": 5,
   "metadata": {},
   "outputs": [
    {
     "name": "stdout",
     "output_type": "stream",
     "text": [
      "            Entry                               Ensembl\n",
      "0      A0A024R1R8                    ENST00000424496.3;\n",
      "1      A0A024RBG1                    ENST00000322209.5;\n",
      "2      A0A075B6H7  ENST00000390247.2;ENST00000633250.1;\n",
      "3      A0A075B6H8                    ENST00000390278.3;\n",
      "4      A0A075B6H9                    ENST00000390282.2;\n",
      "...           ...                                   ...\n",
      "20412      U3KPV4                    ENST00000442999.3;\n",
      "20413      W5XKT8         ENST00000637797.2 [W5XKT8-1];\n",
      "20414      W6CW81                    ENST00000696987.1;\n",
      "20415      X6R8D5                    ENST00000372963.4;\n",
      "20416      X6R8R1  ENST00000623662.4;ENST00000673006.3;\n",
      "\n",
      "[20417 rows x 2 columns]\n"
     ]
    }
   ],
   "source": [
    "import requests\n",
    "from io import StringIO\n",
    "\n",
    "def fetch_uniprot_data(params):\n",
    "    url = \"https://rest.uniprot.org/uniprotkb/stream\"\n",
    "\n",
    "    response = requests.get(url, params=params)\n",
    "\n",
    "    if response.ok:\n",
    "        tsv_data = StringIO(response.text)\n",
    "        df = pd.read_csv(tsv_data, sep='\\t')\n",
    "        return df\n",
    "    else:\n",
    "        print(\"Failed to fetch data:\", response.status_code)\n",
    "        print(response.text)\n",
    "        return None\n",
    "# change the parameters to fetch the data\n",
    "# load protein information\n",
    "params = {\n",
    "        'fields': 'accession,xref_ensembl',\n",
    "        'format': 'tsv',\n",
    "        'query': '(model_organism:9606) AND (reviewed:true)',\n",
    "        'sort': 'organism_name asc'\n",
    "    }\n",
    "\n",
    "df_uniprot = fetch_uniprot_data(params)\n",
    "if df_uniprot is not None:\n",
    "    print(df_uniprot)\n",
    "else:\n",
    "    print(\"No data retrieved.\")\n",
    "#save the data to a CSV file\n",
    "df_uniprot.to_csv('uniprot_transcript_protein.csv', index=False)"
   ]
  },
  {
   "cell_type": "code",
   "execution_count": 2,
   "metadata": {},
   "outputs": [
    {
     "data": {
      "application/vnd.microsoft.datawrangler.viewer.v0+json": {
       "columns": [
        {
         "name": "index",
         "rawType": "int64",
         "type": "integer"
        },
        {
         "name": "Entry",
         "rawType": "object",
         "type": "string"
        },
        {
         "name": "Ensembl",
         "rawType": "object",
         "type": "string"
        }
       ],
       "conversionMethod": "pd.DataFrame",
       "ref": "6e2b5a13-b412-4931-bc3c-2c237eb57fe4",
       "rows": [
        [
         "0",
         "A0A024R1R8",
         "ENST00000424496.3;"
        ],
        [
         "1",
         "A0A024RBG1",
         "ENST00000322209.5;"
        ],
        [
         "2",
         "A0A075B6H7",
         "ENST00000390247.2;ENST00000633250.1;"
        ],
        [
         "3",
         "A0A075B6H8",
         "ENST00000390278.3;"
        ],
        [
         "4",
         "A0A075B6H9",
         "ENST00000390282.2;"
        ],
        [
         "5",
         "A0A075B6I0",
         "ENST00000390283.2;"
        ],
        [
         "6",
         "A0A075B6I1",
         "ENST00000390284.2;"
        ],
        [
         "7",
         "A0A075B6I3",
         "ENST00000390286.3;"
        ],
        [
         "8",
         "A0A075B6I4",
         "ENST00000390287.2;"
        ],
        [
         "9",
         "A0A075B6I6",
         "ENST00000390291.2;"
        ],
        [
         "10",
         "A0A075B6I7",
         "ENST00000390293.1;"
        ],
        [
         "11",
         "A0A075B6I9",
         "ENST00000390295.3;"
        ],
        [
         "12",
         "A0A075B6J1",
         "ENST00000390300.2;ENST00000628968.1;"
        ],
        [
         "13",
         "A0A075B6J2",
         "ENST00000390302.3;ENST00000629472.1;"
        ],
        [
         "14",
         "A0A075B6J6",
         "ENST00000390307.2;"
        ],
        [
         "15",
         "A0A075B6J9",
         "ENST00000390310.3;"
        ],
        [
         "16",
         "A0A075B6K0",
         "ENST00000390311.3;"
        ],
        [
         "17",
         "A0A075B6K2",
         "ENST00000390313.3;"
        ],
        [
         "18",
         "A0A075B6K4",
         "ENST00000390315.3;"
        ],
        [
         "19",
         "A0A075B6K5",
         "ENST00000390316.2;"
        ],
        [
         "20",
         "A0A075B6K6",
         "ENST00000390318.2;"
        ],
        [
         "21",
         "A0A075B6L2",
         "ENST00000390340.3;"
        ],
        [
         "22",
         "A0A075B6L6",
         "ENST00000390361.3;"
        ],
        [
         "23",
         "A0A075B6N1",
         "ENST00000390393.3;"
        ],
        [
         "24",
         "A0A075B6N2",
         "ENST00000390394.3;"
        ],
        [
         "25",
         "A0A075B6N3",
         "ENST00000390397.2;"
        ],
        [
         "26",
         "A0A075B6N4",
         "ENST00000390398.3;"
        ],
        [
         "27",
         "A0A075B6P5",
         "ENST00000482769.1;ENST00000633682.1;"
        ],
        [
         "28",
         "A0A075B6Q5",
         "ENST00000454421.2;ENST00000631710.1;"
        ],
        [
         "29",
         "A0A075B6R0",
         "ENST00000426402.2;"
        ],
        [
         "30",
         "A0A075B6R2",
         "ENST00000455737.2;ENST00000631379.1;"
        ],
        [
         "31",
         "A0A075B6R9",
         "ENST00000462693.1;"
        ],
        [
         "32",
         "A0A075B6S0",
         "ENST00000390337.1;"
        ],
        [
         "33",
         "A0A075B6S2",
         "ENST00000491977.1;"
        ],
        [
         "34",
         "A0A075B6S4",
         "ENST00000483379.1;"
        ],
        [
         "35",
         "A0A075B6S5",
         "ENST00000498435.1;ENST00000631531.1;"
        ],
        [
         "36",
         "A0A075B6S6",
         "ENST00000474213.1;"
        ],
        [
         "37",
         "A0A075B6S9",
         "ENST00000465170.1;ENST00000632103.1;"
        ],
        [
         "38",
         "A0A075B6T6",
         "ENST00000390437.2;"
        ],
        [
         "39",
         "A0A075B6T7",
         "ENST00000390428.3;"
        ],
        [
         "40",
         "A0A075B6T8",
         "ENST00000390431.3;"
        ],
        [
         "41",
         "A0A075B6U4",
         "ENST00000390429.3;"
        ],
        [
         "42",
         "A0A075B6V5",
         "ENST00000390463.3;"
        ],
        [
         "43",
         "A0A075B6W5",
         "ENST00000390451.2;"
        ],
        [
         "44",
         "A0A075B6X5",
         "ENST00000390446.3;"
        ],
        [
         "45",
         "A0A075B6Y3",
         "ENST00000390534.1;"
        ],
        [
         "46",
         "A0A075B6Y9",
         "ENST00000390495.1;"
        ],
        [
         "47",
         "A0A075B700",
         "ENST00000390506.1;"
        ],
        [
         "48",
         "A0A075B706",
         "ENST00000390473.1;"
        ],
        [
         "49",
         "A0A075B734",
         "ENST00000561882.2;ENST00000696097.1;"
        ]
       ],
       "shape": {
        "columns": 2,
        "rows": 19329
       }
      },
      "text/html": [
       "<div>\n",
       "<style scoped>\n",
       "    .dataframe tbody tr th:only-of-type {\n",
       "        vertical-align: middle;\n",
       "    }\n",
       "\n",
       "    .dataframe tbody tr th {\n",
       "        vertical-align: top;\n",
       "    }\n",
       "\n",
       "    .dataframe thead th {\n",
       "        text-align: right;\n",
       "    }\n",
       "</style>\n",
       "<table border=\"1\" class=\"dataframe\">\n",
       "  <thead>\n",
       "    <tr style=\"text-align: right;\">\n",
       "      <th></th>\n",
       "      <th>Entry</th>\n",
       "      <th>Ensembl</th>\n",
       "    </tr>\n",
       "  </thead>\n",
       "  <tbody>\n",
       "    <tr>\n",
       "      <th>0</th>\n",
       "      <td>A0A024R1R8</td>\n",
       "      <td>ENST00000424496.3;</td>\n",
       "    </tr>\n",
       "    <tr>\n",
       "      <th>1</th>\n",
       "      <td>A0A024RBG1</td>\n",
       "      <td>ENST00000322209.5;</td>\n",
       "    </tr>\n",
       "    <tr>\n",
       "      <th>2</th>\n",
       "      <td>A0A075B6H7</td>\n",
       "      <td>ENST00000390247.2;ENST00000633250.1;</td>\n",
       "    </tr>\n",
       "    <tr>\n",
       "      <th>3</th>\n",
       "      <td>A0A075B6H8</td>\n",
       "      <td>ENST00000390278.3;</td>\n",
       "    </tr>\n",
       "    <tr>\n",
       "      <th>4</th>\n",
       "      <td>A0A075B6H9</td>\n",
       "      <td>ENST00000390282.2;</td>\n",
       "    </tr>\n",
       "    <tr>\n",
       "      <th>...</th>\n",
       "      <td>...</td>\n",
       "      <td>...</td>\n",
       "    </tr>\n",
       "    <tr>\n",
       "      <th>20412</th>\n",
       "      <td>U3KPV4</td>\n",
       "      <td>ENST00000442999.3;</td>\n",
       "    </tr>\n",
       "    <tr>\n",
       "      <th>20413</th>\n",
       "      <td>W5XKT8</td>\n",
       "      <td>ENST00000637797.2 [W5XKT8-1];</td>\n",
       "    </tr>\n",
       "    <tr>\n",
       "      <th>20414</th>\n",
       "      <td>W6CW81</td>\n",
       "      <td>ENST00000696987.1;</td>\n",
       "    </tr>\n",
       "    <tr>\n",
       "      <th>20415</th>\n",
       "      <td>X6R8D5</td>\n",
       "      <td>ENST00000372963.4;</td>\n",
       "    </tr>\n",
       "    <tr>\n",
       "      <th>20416</th>\n",
       "      <td>X6R8R1</td>\n",
       "      <td>ENST00000623662.4;ENST00000673006.3;</td>\n",
       "    </tr>\n",
       "  </tbody>\n",
       "</table>\n",
       "<p>19329 rows × 2 columns</p>\n",
       "</div>"
      ],
      "text/plain": [
       "            Entry                               Ensembl\n",
       "0      A0A024R1R8                    ENST00000424496.3;\n",
       "1      A0A024RBG1                    ENST00000322209.5;\n",
       "2      A0A075B6H7  ENST00000390247.2;ENST00000633250.1;\n",
       "3      A0A075B6H8                    ENST00000390278.3;\n",
       "4      A0A075B6H9                    ENST00000390282.2;\n",
       "...           ...                                   ...\n",
       "20412      U3KPV4                    ENST00000442999.3;\n",
       "20413      W5XKT8         ENST00000637797.2 [W5XKT8-1];\n",
       "20414      W6CW81                    ENST00000696987.1;\n",
       "20415      X6R8D5                    ENST00000372963.4;\n",
       "20416      X6R8R1  ENST00000623662.4;ENST00000673006.3;\n",
       "\n",
       "[19329 rows x 2 columns]"
      ]
     },
     "execution_count": 2,
     "metadata": {},
     "output_type": "execute_result"
    }
   ],
   "source": [
    "# Download Link: API\n",
    "# Download Date: 2025-03-21\n",
    "# Download Version: 2025-03-21\n",
    "\n",
    "df_uniprot_t_p = pd.read_csv('uniprot_transcript_protein.csv', sep=',')\n",
    "df_uniprot_t_p.dropna(subset=['Ensembl'], inplace=True)\n",
    "df_uniprot_t_p"
   ]
  },
  {
   "cell_type": "code",
   "execution_count": 3,
   "metadata": {},
   "outputs": [
    {
     "data": {
      "application/vnd.microsoft.datawrangler.viewer.v0+json": {
       "columns": [
        {
         "name": "index",
         "rawType": "int64",
         "type": "integer"
        },
        {
         "name": "Entry",
         "rawType": "object",
         "type": "string"
        },
        {
         "name": "Ensembl",
         "rawType": "object",
         "type": "string"
        }
       ],
       "conversionMethod": "pd.DataFrame",
       "ref": "7a63b769-fb50-4df5-a6d4-045ecc3ed181",
       "rows": [
        [
         "0",
         "A0A024R1R8",
         "ENST00000424496.3"
        ],
        [
         "1",
         "A0A024RBG1",
         "ENST00000322209.5"
        ],
        [
         "2",
         "A0A075B6H7",
         "ENST00000390247.2"
        ],
        [
         "2",
         "A0A075B6H7",
         "ENST00000633250.1"
        ],
        [
         "3",
         "A0A075B6H8",
         "ENST00000390278.3"
        ],
        [
         "4",
         "A0A075B6H9",
         "ENST00000390282.2"
        ],
        [
         "5",
         "A0A075B6I0",
         "ENST00000390283.2"
        ],
        [
         "6",
         "A0A075B6I1",
         "ENST00000390284.2"
        ],
        [
         "7",
         "A0A075B6I3",
         "ENST00000390286.3"
        ],
        [
         "8",
         "A0A075B6I4",
         "ENST00000390287.2"
        ],
        [
         "9",
         "A0A075B6I6",
         "ENST00000390291.2"
        ],
        [
         "10",
         "A0A075B6I7",
         "ENST00000390293.1"
        ],
        [
         "11",
         "A0A075B6I9",
         "ENST00000390295.3"
        ],
        [
         "12",
         "A0A075B6J1",
         "ENST00000390300.2"
        ],
        [
         "12",
         "A0A075B6J1",
         "ENST00000628968.1"
        ],
        [
         "13",
         "A0A075B6J2",
         "ENST00000390302.3"
        ],
        [
         "13",
         "A0A075B6J2",
         "ENST00000629472.1"
        ],
        [
         "14",
         "A0A075B6J6",
         "ENST00000390307.2"
        ],
        [
         "15",
         "A0A075B6J9",
         "ENST00000390310.3"
        ],
        [
         "16",
         "A0A075B6K0",
         "ENST00000390311.3"
        ],
        [
         "17",
         "A0A075B6K2",
         "ENST00000390313.3"
        ],
        [
         "18",
         "A0A075B6K4",
         "ENST00000390315.3"
        ],
        [
         "19",
         "A0A075B6K5",
         "ENST00000390316.2"
        ],
        [
         "20",
         "A0A075B6K6",
         "ENST00000390318.2"
        ],
        [
         "21",
         "A0A075B6L2",
         "ENST00000390340.3"
        ],
        [
         "22",
         "A0A075B6L6",
         "ENST00000390361.3"
        ],
        [
         "23",
         "A0A075B6N1",
         "ENST00000390393.3"
        ],
        [
         "24",
         "A0A075B6N2",
         "ENST00000390394.3"
        ],
        [
         "25",
         "A0A075B6N3",
         "ENST00000390397.2"
        ],
        [
         "26",
         "A0A075B6N4",
         "ENST00000390398.3"
        ],
        [
         "27",
         "A0A075B6P5",
         "ENST00000482769.1"
        ],
        [
         "27",
         "A0A075B6P5",
         "ENST00000633682.1"
        ],
        [
         "28",
         "A0A075B6Q5",
         "ENST00000454421.2"
        ],
        [
         "28",
         "A0A075B6Q5",
         "ENST00000631710.1"
        ],
        [
         "29",
         "A0A075B6R0",
         "ENST00000426402.2"
        ],
        [
         "30",
         "A0A075B6R2",
         "ENST00000455737.2"
        ],
        [
         "30",
         "A0A075B6R2",
         "ENST00000631379.1"
        ],
        [
         "31",
         "A0A075B6R9",
         "ENST00000462693.1"
        ],
        [
         "32",
         "A0A075B6S0",
         "ENST00000390337.1"
        ],
        [
         "33",
         "A0A075B6S2",
         "ENST00000491977.1"
        ],
        [
         "34",
         "A0A075B6S4",
         "ENST00000483379.1"
        ],
        [
         "35",
         "A0A075B6S5",
         "ENST00000498435.1"
        ],
        [
         "35",
         "A0A075B6S5",
         "ENST00000631531.1"
        ],
        [
         "36",
         "A0A075B6S6",
         "ENST00000474213.1"
        ],
        [
         "37",
         "A0A075B6S9",
         "ENST00000465170.1"
        ],
        [
         "37",
         "A0A075B6S9",
         "ENST00000632103.1"
        ],
        [
         "38",
         "A0A075B6T6",
         "ENST00000390437.2"
        ],
        [
         "39",
         "A0A075B6T7",
         "ENST00000390428.3"
        ],
        [
         "40",
         "A0A075B6T8",
         "ENST00000390431.3"
        ],
        [
         "41",
         "A0A075B6U4",
         "ENST00000390429.3"
        ]
       ],
       "shape": {
        "columns": 2,
        "rows": 50765
       }
      },
      "text/html": [
       "<div>\n",
       "<style scoped>\n",
       "    .dataframe tbody tr th:only-of-type {\n",
       "        vertical-align: middle;\n",
       "    }\n",
       "\n",
       "    .dataframe tbody tr th {\n",
       "        vertical-align: top;\n",
       "    }\n",
       "\n",
       "    .dataframe thead th {\n",
       "        text-align: right;\n",
       "    }\n",
       "</style>\n",
       "<table border=\"1\" class=\"dataframe\">\n",
       "  <thead>\n",
       "    <tr style=\"text-align: right;\">\n",
       "      <th></th>\n",
       "      <th>Entry</th>\n",
       "      <th>Ensembl</th>\n",
       "    </tr>\n",
       "  </thead>\n",
       "  <tbody>\n",
       "    <tr>\n",
       "      <th>0</th>\n",
       "      <td>A0A024R1R8</td>\n",
       "      <td>ENST00000424496.3</td>\n",
       "    </tr>\n",
       "    <tr>\n",
       "      <th>1</th>\n",
       "      <td>A0A024RBG1</td>\n",
       "      <td>ENST00000322209.5</td>\n",
       "    </tr>\n",
       "    <tr>\n",
       "      <th>2</th>\n",
       "      <td>A0A075B6H7</td>\n",
       "      <td>ENST00000390247.2</td>\n",
       "    </tr>\n",
       "    <tr>\n",
       "      <th>2</th>\n",
       "      <td>A0A075B6H7</td>\n",
       "      <td>ENST00000633250.1</td>\n",
       "    </tr>\n",
       "    <tr>\n",
       "      <th>3</th>\n",
       "      <td>A0A075B6H8</td>\n",
       "      <td>ENST00000390278.3</td>\n",
       "    </tr>\n",
       "    <tr>\n",
       "      <th>...</th>\n",
       "      <td>...</td>\n",
       "      <td>...</td>\n",
       "    </tr>\n",
       "    <tr>\n",
       "      <th>20413</th>\n",
       "      <td>W5XKT8</td>\n",
       "      <td>ENST00000637797.2</td>\n",
       "    </tr>\n",
       "    <tr>\n",
       "      <th>20414</th>\n",
       "      <td>W6CW81</td>\n",
       "      <td>ENST00000696987.1</td>\n",
       "    </tr>\n",
       "    <tr>\n",
       "      <th>20415</th>\n",
       "      <td>X6R8D5</td>\n",
       "      <td>ENST00000372963.4</td>\n",
       "    </tr>\n",
       "    <tr>\n",
       "      <th>20416</th>\n",
       "      <td>X6R8R1</td>\n",
       "      <td>ENST00000623662.4</td>\n",
       "    </tr>\n",
       "    <tr>\n",
       "      <th>20416</th>\n",
       "      <td>X6R8R1</td>\n",
       "      <td>ENST00000673006.3</td>\n",
       "    </tr>\n",
       "  </tbody>\n",
       "</table>\n",
       "<p>50765 rows × 2 columns</p>\n",
       "</div>"
      ],
      "text/plain": [
       "            Entry            Ensembl\n",
       "0      A0A024R1R8  ENST00000424496.3\n",
       "1      A0A024RBG1  ENST00000322209.5\n",
       "2      A0A075B6H7  ENST00000390247.2\n",
       "2      A0A075B6H7  ENST00000633250.1\n",
       "3      A0A075B6H8  ENST00000390278.3\n",
       "...           ...                ...\n",
       "20413      W5XKT8  ENST00000637797.2\n",
       "20414      W6CW81  ENST00000696987.1\n",
       "20415      X6R8D5  ENST00000372963.4\n",
       "20416      X6R8R1  ENST00000623662.4\n",
       "20416      X6R8R1  ENST00000673006.3\n",
       "\n",
       "[50765 rows x 2 columns]"
      ]
     },
     "execution_count": 3,
     "metadata": {},
     "output_type": "execute_result"
    }
   ],
   "source": [
    "import re\n",
    "\n",
    "df_uniprot_t_p['Ensembl'] = df_uniprot_t_p['Ensembl'].str.split(';')\n",
    "df_uniprot_t_p = df_uniprot_t_p.explode('Ensembl')\n",
    "\n",
    "df_uniprot_t_p['Ensembl'] = df_uniprot_t_p['Ensembl'].str.strip()\n",
    "df_uniprot_t_p.dropna(subset=['Ensembl'])\n",
    "df_uniprot_t_p = df_uniprot_t_p[df_uniprot_t_p['Ensembl'] != '']\n",
    "df_uniprot_t_p['Ensembl'] = df_uniprot_t_p['Ensembl'].apply(lambda x: re.sub(r'\\[.*?\\]', '', x).strip())\n",
    "df_uniprot_t_p"
   ]
  },
  {
   "cell_type": "markdown",
   "metadata": {},
   "source": [
    "### RefSeq"
   ]
  },
  {
   "cell_type": "code",
   "execution_count": 4,
   "metadata": {},
   "outputs": [
    {
     "data": {
      "application/vnd.microsoft.datawrangler.viewer.v0+json": {
       "columns": [
        {
         "name": "index",
         "rawType": "int64",
         "type": "integer"
        },
        {
         "name": "RNA",
         "rawType": "object",
         "type": "string"
        },
        {
         "name": "Protein",
         "rawType": "object",
         "type": "string"
        }
       ],
       "conversionMethod": "pd.DataFrame",
       "ref": "d8a869cf-6f3c-483a-b099-ef8fb3b746cf",
       "rows": [
        [
         "0",
         "NM_014576.4",
         "NP_055391.2"
        ],
        [
         "1",
         "NM_138932.3",
         "NP_620310.1"
        ],
        [
         "2",
         "NM_138933.3",
         "NP_620311.1"
        ],
        [
         "3",
         "NM_001198818.2",
         "NP_001185747.1"
        ],
        [
         "4",
         "NM_001198819.2",
         "NP_001185748.1"
        ],
        [
         "5",
         "NM_001198820.2",
         "NP_001185749.1"
        ],
        [
         "6",
         "NM_001370130.1",
         "NP_001357059.1"
        ],
        [
         "7",
         "NM_001370131.1",
         "NP_001357060.1"
        ],
        [
         "8",
         "NM_001347423.2",
         "NP_001334352.2"
        ],
        [
         "9",
         "NM_001347424.2",
         "NP_001334353.2"
        ],
        [
         "10",
         "NM_001347425.2",
         "NP_001334354.2"
        ],
        [
         "11",
         "NM_000014.6",
         "NP_000005.3"
        ],
        [
         "12",
         "NM_144670.6",
         "NP_653271.3"
        ],
        [
         "13",
         "NM_001282424.3",
         "NP_001269353.2"
        ],
        [
         "15",
         "NM_001318038.3",
         "NP_001304967.1"
        ],
        [
         "16",
         "NM_017436.7",
         "NP_059132.1"
        ],
        [
         "17",
         "NM_015665.6",
         "NP_056480.1"
        ],
        [
         "18",
         "NM_001173466.2",
         "NP_001166937.1"
        ],
        [
         "19",
         "NM_024666.5",
         "NP_078942.3"
        ],
        [
         "20",
         "NM_001271885.2",
         "NP_001258814.1"
        ],
        [
         "21",
         "NM_001271886.2",
         "NP_001258815.1"
        ],
        [
         "22",
         "NM_001087.5",
         "NP_001078.2"
        ],
        [
         "23",
         "NM_001302545.2",
         "NP_001289474.1"
        ],
        [
         "24",
         "NM_001088.3",
         "NP_001079.1"
        ],
        [
         "26",
         "NM_001166579.2",
         "NP_001160051.1"
        ],
        [
         "27",
         "NM_001605.3",
         "NP_001596.2"
        ],
        [
         "28",
         "NM_001605.2",
         "NP_001596.2"
        ],
        [
         "29",
         "NM_020745.4",
         "NP_065796.2"
        ],
        [
         "30",
         "NM_181806.4",
         "NP_861522.2"
        ],
        [
         "31",
         "NM_001286668.2",
         "NP_001273597.1"
        ],
        [
         "32",
         "NM_001286669.1",
         "NP_001273598.1"
        ],
        [
         "33",
         "NM_001286670.2",
         "NP_001273599.1"
        ],
        [
         "34",
         "NM_001286671.1",
         "NP_001273600.1"
        ],
        [
         "35",
         "NM_001286672.1",
         "NP_001273601.1"
        ],
        [
         "36",
         "NM_001286669.2",
         "NP_001273598.1"
        ],
        [
         "37",
         "NM_001286671.2",
         "NP_001273600.1"
        ],
        [
         "38",
         "NM_001286672.2",
         "NP_001273601.1"
        ],
        [
         "39",
         "NM_001323890.2",
         "NP_001310819.1"
        ],
        [
         "40",
         "NM_001323892.2",
         "NP_001310821.1"
        ],
        [
         "41",
         "NM_001323893.2",
         "NP_001310822.1"
        ],
        [
         "42",
         "NM_001323899.2",
         "NP_001310828.1"
        ],
        [
         "43",
         "NM_005763.4",
         "NP_005754.2"
        ],
        [
         "44",
         "NM_001080395.3",
         "NP_001073864.2"
        ],
        [
         "45",
         "NM_004920.3",
         "NP_004911.2"
        ],
        [
         "46",
         "NM_020686.6",
         "NP_065737.2"
        ],
        [
         "47",
         "NM_000663.5",
         "NP_000654.2"
        ],
        [
         "48",
         "NM_001127448.2",
         "NP_001120920.1"
        ],
        [
         "49",
         "NM_001386600.1",
         "NP_001373529.1"
        ],
        [
         "50",
         "NM_001386601.1",
         "NP_001373530.1"
        ],
        [
         "51",
         "NM_001386602.1",
         "NP_001373531.1"
        ]
       ],
       "shape": {
        "columns": 2,
        "rows": 30207
       }
      },
      "text/html": [
       "<div>\n",
       "<style scoped>\n",
       "    .dataframe tbody tr th:only-of-type {\n",
       "        vertical-align: middle;\n",
       "    }\n",
       "\n",
       "    .dataframe tbody tr th {\n",
       "        vertical-align: top;\n",
       "    }\n",
       "\n",
       "    .dataframe thead th {\n",
       "        text-align: right;\n",
       "    }\n",
       "</style>\n",
       "<table border=\"1\" class=\"dataframe\">\n",
       "  <thead>\n",
       "    <tr style=\"text-align: right;\">\n",
       "      <th></th>\n",
       "      <th>RNA</th>\n",
       "      <th>Protein</th>\n",
       "    </tr>\n",
       "  </thead>\n",
       "  <tbody>\n",
       "    <tr>\n",
       "      <th>0</th>\n",
       "      <td>NM_014576.4</td>\n",
       "      <td>NP_055391.2</td>\n",
       "    </tr>\n",
       "    <tr>\n",
       "      <th>1</th>\n",
       "      <td>NM_138932.3</td>\n",
       "      <td>NP_620310.1</td>\n",
       "    </tr>\n",
       "    <tr>\n",
       "      <th>2</th>\n",
       "      <td>NM_138933.3</td>\n",
       "      <td>NP_620311.1</td>\n",
       "    </tr>\n",
       "    <tr>\n",
       "      <th>3</th>\n",
       "      <td>NM_001198818.2</td>\n",
       "      <td>NP_001185747.1</td>\n",
       "    </tr>\n",
       "    <tr>\n",
       "      <th>4</th>\n",
       "      <td>NM_001198819.2</td>\n",
       "      <td>NP_001185748.1</td>\n",
       "    </tr>\n",
       "    <tr>\n",
       "      <th>...</th>\n",
       "      <td>...</td>\n",
       "      <td>...</td>\n",
       "    </tr>\n",
       "    <tr>\n",
       "      <th>33416</th>\n",
       "      <td>NM_020928.2</td>\n",
       "      <td>NP_065979.1</td>\n",
       "    </tr>\n",
       "    <tr>\n",
       "      <th>33417</th>\n",
       "      <td>NM_007057.4</td>\n",
       "      <td>NP_008988.2</td>\n",
       "    </tr>\n",
       "    <tr>\n",
       "      <th>33418</th>\n",
       "      <td>NM_032997.3</td>\n",
       "      <td>NP_127490.1</td>\n",
       "    </tr>\n",
       "    <tr>\n",
       "      <th>33419</th>\n",
       "      <td>NM_001005413.1</td>\n",
       "      <td>NP_001005413.1</td>\n",
       "    </tr>\n",
       "    <tr>\n",
       "      <th>33420</th>\n",
       "      <td>NM_007156.5</td>\n",
       "      <td>NP_009087.1</td>\n",
       "    </tr>\n",
       "  </tbody>\n",
       "</table>\n",
       "<p>30207 rows × 2 columns</p>\n",
       "</div>"
      ],
      "text/plain": [
       "                  RNA         Protein\n",
       "0         NM_014576.4     NP_055391.2\n",
       "1         NM_138932.3     NP_620310.1\n",
       "2         NM_138933.3     NP_620311.1\n",
       "3      NM_001198818.2  NP_001185747.1\n",
       "4      NM_001198819.2  NP_001185748.1\n",
       "...               ...             ...\n",
       "33416     NM_020928.2     NP_065979.1\n",
       "33417     NM_007057.4     NP_008988.2\n",
       "33418     NM_032997.3     NP_127490.1\n",
       "33419  NM_001005413.1  NP_001005413.1\n",
       "33420     NM_007156.5     NP_009087.1\n",
       "\n",
       "[30207 rows x 2 columns]"
      ]
     },
     "execution_count": 4,
     "metadata": {},
     "output_type": "execute_result"
    }
   ],
   "source": [
    "# Download Link: https://ftp.ncbi.nlm.nih.gov/refseq/H_sapiens/RefSeqGene/LRG_RefSeqGene\n",
    "# Download Date: 2025-03-21\n",
    "# Download Version: 2025-03-21\n",
    "df_refseq_t_p = pd.read_csv('LRG_RefSeqGene.txt', sep='\\t')\n",
    "df_refseq_t_p = df_refseq_t_p[['RNA', 'Protein']]\n",
    "df_refseq_t_p.dropna(subset=['Protein'], inplace=True)\n",
    "df_refseq_t_p"
   ]
  },
  {
   "cell_type": "markdown",
   "metadata": {},
   "source": [
    "### BioMedGraphica ID"
   ]
  },
  {
   "cell_type": "code",
   "execution_count": 5,
   "metadata": {},
   "outputs": [],
   "source": [
    "import pandas as pd\n",
    "import os\n",
    "from pathlib import Path\n",
    "\n",
    "current_working_dir = Path(os.getcwd()).resolve()\n",
    "grandparent_dir = current_working_dir.parent.parent.parent\n",
    "target_dir_protein = grandparent_dir / 'BioMedGraphica' / 'Entity' / 'Protein' / 'BioMedGraphica_Protein.csv'\n",
    "target_dir_transcript = grandjson_dir = grandparent_dir / 'BioMedGraphica' / 'Entity' / 'Transcript' / 'BioMedGraphica_Transcript.csv'\n",
    "biomedgraphica_protein = pd.read_csv(target_dir_protein, dtype=str)\n",
    "biomedgraphica_transcript = pd.read_csv(target_dir_transcript, dtype=str)"
   ]
  },
  {
   "cell_type": "markdown",
   "metadata": {},
   "source": [
    "### Ensembl Mapping"
   ]
  },
  {
   "cell_type": "code",
   "execution_count": 6,
   "metadata": {},
   "outputs": [
    {
     "name": "stderr",
     "output_type": "stream",
     "text": [
      "C:\\Users\\shunn\\AppData\\Local\\Temp\\ipykernel_31516\\537656973.py:2: SettingWithCopyWarning: \n",
      "A value is trying to be set on a copy of a slice from a DataFrame\n",
      "\n",
      "See the caveats in the documentation: https://pandas.pydata.org/pandas-docs/stable/user_guide/indexing.html#returning-a-view-versus-a-copy\n",
      "  ensembl_trans.dropna(subset = ['Ensembl_Transcript_ID'], inplace=True)\n"
     ]
    }
   ],
   "source": [
    "ensembl_trans = biomedgraphica_transcript[['Ensembl_Transcript_ID', 'BioMedGraphica_ID']]\n",
    "ensembl_trans.dropna(subset = ['Ensembl_Transcript_ID'], inplace=True)\n",
    "ensembl_trans = ensembl_trans.assign(Ensembl_Transcript_ID=biomedgraphica_transcript['Ensembl_Transcript_ID'].str.split(';')).explode('Ensembl_Transcript_ID')\n",
    "\n",
    "ensembl_transcript_to_individualid = ensembl_trans.groupby('Ensembl_Transcript_ID')['BioMedGraphica_ID'].apply(lambda x: ';'.join(x.dropna().unique())).to_dict()"
   ]
  },
  {
   "cell_type": "code",
   "execution_count": 7,
   "metadata": {},
   "outputs": [
    {
     "name": "stderr",
     "output_type": "stream",
     "text": [
      "C:\\Users\\shunn\\AppData\\Local\\Temp\\ipykernel_31516\\2431755470.py:2: SettingWithCopyWarning: \n",
      "A value is trying to be set on a copy of a slice from a DataFrame\n",
      "\n",
      "See the caveats in the documentation: https://pandas.pydata.org/pandas-docs/stable/user_guide/indexing.html#returning-a-view-versus-a-copy\n",
      "  ensembl_protein.dropna(subset = ['Ensembl_Protein_ID'], inplace=True)\n"
     ]
    }
   ],
   "source": [
    "ensembl_protein = biomedgraphica_protein[['Ensembl_Protein_ID', 'BioMedGraphica_ID']]\n",
    "ensembl_protein.dropna(subset = ['Ensembl_Protein_ID'], inplace=True)\n",
    "ensembl_protein = ensembl_protein.assign(Ensembl_Protein_ID=biomedgraphica_protein['Ensembl_Protein_ID'].str.split(';')).explode('Ensembl_Protein_ID')\n",
    "\n",
    "ensembl_protein_to_individualid = ensembl_protein.groupby('Ensembl_Protein_ID')['BioMedGraphica_ID'].apply(lambda x: ';'.join(x.dropna().unique())).to_dict()"
   ]
  },
  {
   "cell_type": "code",
   "execution_count": 8,
   "metadata": {},
   "outputs": [],
   "source": [
    "df_ensembl_transcript_protein['From_ID'] = df_ensembl_transcript_protein['Transcript stable ID'].map(ensembl_transcript_to_individualid)\n",
    "df_ensembl_transcript_protein['To_ID'] = df_ensembl_transcript_protein['Protein stable ID'].map(ensembl_protein_to_individualid)"
   ]
  },
  {
   "cell_type": "code",
   "execution_count": 9,
   "metadata": {},
   "outputs": [
    {
     "name": "stdout",
     "output_type": "stream",
     "text": [
      "<class 'pandas.core.frame.DataFrame'>\n",
      "Index: 123845 entries, 5 to 410293\n",
      "Data columns (total 2 columns):\n",
      " #   Column   Non-Null Count   Dtype \n",
      "---  ------   --------------   ----- \n",
      " 0   From_ID  123845 non-null  object\n",
      " 1   To_ID    123845 non-null  object\n",
      "dtypes: object(2)\n",
      "memory usage: 2.8+ MB\n"
     ]
    },
    {
     "name": "stderr",
     "output_type": "stream",
     "text": [
      "C:\\Users\\shunn\\AppData\\Local\\Temp\\ipykernel_31516\\2251610075.py:2: SettingWithCopyWarning: \n",
      "A value is trying to be set on a copy of a slice from a DataFrame\n",
      "\n",
      "See the caveats in the documentation: https://pandas.pydata.org/pandas-docs/stable/user_guide/indexing.html#returning-a-view-versus-a-copy\n",
      "  df_ensembl_t_p.dropna(subset=['From_ID'], inplace=True)\n",
      "C:\\Users\\shunn\\AppData\\Local\\Temp\\ipykernel_31516\\2251610075.py:3: SettingWithCopyWarning: \n",
      "A value is trying to be set on a copy of a slice from a DataFrame\n",
      "\n",
      "See the caveats in the documentation: https://pandas.pydata.org/pandas-docs/stable/user_guide/indexing.html#returning-a-view-versus-a-copy\n",
      "  df_ensembl_t_p.dropna(subset=['To_ID'], inplace=True)\n"
     ]
    }
   ],
   "source": [
    "df_ensembl_t_p = df_ensembl_transcript_protein[['From_ID', 'To_ID']]\n",
    "df_ensembl_t_p.dropna(subset=['From_ID'], inplace=True)\n",
    "df_ensembl_t_p.dropna(subset=['To_ID'], inplace=True)\n",
    "df_ensembl_t_p.info()"
   ]
  },
  {
   "cell_type": "code",
   "execution_count": 10,
   "metadata": {},
   "outputs": [
    {
     "name": "stderr",
     "output_type": "stream",
     "text": [
      "C:\\Users\\shunn\\AppData\\Local\\Temp\\ipykernel_31516\\4182603831.py:2: SettingWithCopyWarning: \n",
      "A value is trying to be set on a copy of a slice from a DataFrame.\n",
      "Try using .loc[row_indexer,col_indexer] = value instead\n",
      "\n",
      "See the caveats in the documentation: https://pandas.pydata.org/pandas-docs/stable/user_guide/indexing.html#returning-a-view-versus-a-copy\n",
      "  df_ensembl_t_p['From_ID'] = df_ensembl_t_p['From_ID'].str.split(';')\n"
     ]
    },
    {
     "data": {
      "application/vnd.microsoft.datawrangler.viewer.v0+json": {
       "columns": [
        {
         "name": "index",
         "rawType": "int64",
         "type": "integer"
        },
        {
         "name": "From_ID",
         "rawType": "object",
         "type": "string"
        },
        {
         "name": "To_ID",
         "rawType": "object",
         "type": "string"
        }
       ],
       "conversionMethod": "pd.DataFrame",
       "ref": "a490cec5-2e58-4124-963a-7fdbdf2b78de",
       "rows": [
        [
         "0",
         "BMG_TS017690",
         "BMG_PT037861"
        ],
        [
         "1",
         "BMG_TS017717",
         "BMG_PT037862"
        ],
        [
         "2",
         "BMG_TS017798",
         "BMG_PT037567"
        ],
        [
         "3",
         "BMG_TS017858",
         "BMG_PT037568"
        ],
        [
         "4",
         "BMG_TS017908",
         "BMG_PT037868"
        ],
        [
         "5",
         "BMG_TS017921",
         "BMG_PT037602"
        ],
        [
         "6",
         "BMG_TS017997",
         "BMG_PT037569"
        ],
        [
         "7",
         "BMG_TS017621",
         "BMG_PT037863"
        ],
        [
         "8",
         "BMG_TS017665",
         "BMG_PT037864"
        ],
        [
         "9",
         "BMG_TS017685",
         "BMG_PT037865"
        ],
        [
         "10",
         "BMG_TS017774",
         "BMG_PT037866"
        ],
        [
         "11",
         "BMG_TS017823",
         "BMG_PT037867"
        ],
        [
         "12",
         "BMG_TS017878",
         "BMG_PT037555"
        ],
        [
         "13",
         "BMG_TS190598",
         "BMG_PT149538"
        ],
        [
         "14",
         "BMG_TS189307",
         "BMG_PT147113"
        ],
        [
         "15",
         "BMG_TS193898",
         "BMG_PT149535"
        ],
        [
         "16",
         "BMG_TS191906",
         "BMG_PT147300"
        ],
        [
         "17",
         "BMG_TS191989",
         "BMG_PT146714"
        ],
        [
         "18",
         "BMG_TS189767",
         "BMG_PT078632"
        ],
        [
         "19",
         "BMG_TS194766",
         "BMG_PT149442"
        ],
        [
         "20",
         "BMG_TS034705",
         "BMG_PT147210"
        ],
        [
         "21",
         "BMG_TS196040",
         "BMG_PT148100"
        ],
        [
         "22",
         "BMG_TS191235",
         "BMG_PT148621"
        ],
        [
         "23",
         "BMG_TS189174",
         "BMG_PT149408"
        ],
        [
         "24",
         "BMG_TS189749",
         "BMG_PT148640"
        ],
        [
         "25",
         "BMG_TS193361",
         "BMG_PT148282"
        ],
        [
         "26",
         "BMG_TS189466",
         "BMG_PT146854"
        ],
        [
         "27",
         "BMG_TS182719",
         "BMG_PT038630"
        ],
        [
         "28",
         "BMG_TS189059",
         "BMG_PT147200"
        ],
        [
         "29",
         "BMG_TS193379",
         "BMG_PT038676"
        ],
        [
         "30",
         "BMG_TS194716",
         "BMG_PT148108"
        ],
        [
         "31",
         "BMG_TS189248",
         "BMG_PT147697"
        ],
        [
         "32",
         "BMG_TS189525",
         "BMG_PT147629"
        ],
        [
         "33",
         "BMG_TS192351",
         "BMG_PT147394"
        ],
        [
         "34",
         "BMG_TS189759",
         "BMG_PT147686"
        ],
        [
         "35",
         "BMG_TS188316",
         "BMG_PT148545"
        ],
        [
         "36",
         "BMG_TS195722",
         "BMG_PT148450"
        ],
        [
         "37",
         "BMG_TS188618",
         "BMG_PT147135"
        ],
        [
         "38",
         "BMG_TS243717",
         "BMG_PT100961"
        ],
        [
         "39",
         "BMG_TS243609",
         "BMG_PT159459"
        ],
        [
         "40",
         "BMG_TS242836",
         "BMG_PT159354"
        ],
        [
         "41",
         "BMG_TS242608",
         "BMG_PT038719"
        ],
        [
         "42",
         "BMG_TS242797",
         "BMG_PT038719"
        ],
        [
         "43",
         "BMG_TS243138",
         "BMG_PT016879"
        ],
        [
         "44",
         "BMG_TS242865",
         "BMG_PT071293"
        ],
        [
         "45",
         "BMG_TS242862",
         "BMG_PT159727"
        ],
        [
         "46",
         "BMG_TS243203",
         "BMG_PT159753"
        ],
        [
         "47",
         "BMG_TS206141",
         "BMG_PT035480"
        ],
        [
         "48",
         "BMG_TS243848",
         "BMG_PT159150"
        ],
        [
         "49",
         "BMG_TS244053",
         "BMG_PT047186"
        ]
       ],
       "shape": {
        "columns": 2,
        "rows": 123858
       }
      },
      "text/html": [
       "<div>\n",
       "<style scoped>\n",
       "    .dataframe tbody tr th:only-of-type {\n",
       "        vertical-align: middle;\n",
       "    }\n",
       "\n",
       "    .dataframe tbody tr th {\n",
       "        vertical-align: top;\n",
       "    }\n",
       "\n",
       "    .dataframe thead th {\n",
       "        text-align: right;\n",
       "    }\n",
       "</style>\n",
       "<table border=\"1\" class=\"dataframe\">\n",
       "  <thead>\n",
       "    <tr style=\"text-align: right;\">\n",
       "      <th></th>\n",
       "      <th>From_ID</th>\n",
       "      <th>To_ID</th>\n",
       "    </tr>\n",
       "  </thead>\n",
       "  <tbody>\n",
       "    <tr>\n",
       "      <th>0</th>\n",
       "      <td>BMG_TS017690</td>\n",
       "      <td>BMG_PT037861</td>\n",
       "    </tr>\n",
       "    <tr>\n",
       "      <th>1</th>\n",
       "      <td>BMG_TS017717</td>\n",
       "      <td>BMG_PT037862</td>\n",
       "    </tr>\n",
       "    <tr>\n",
       "      <th>2</th>\n",
       "      <td>BMG_TS017798</td>\n",
       "      <td>BMG_PT037567</td>\n",
       "    </tr>\n",
       "    <tr>\n",
       "      <th>3</th>\n",
       "      <td>BMG_TS017858</td>\n",
       "      <td>BMG_PT037568</td>\n",
       "    </tr>\n",
       "    <tr>\n",
       "      <th>4</th>\n",
       "      <td>BMG_TS017908</td>\n",
       "      <td>BMG_PT037868</td>\n",
       "    </tr>\n",
       "    <tr>\n",
       "      <th>...</th>\n",
       "      <td>...</td>\n",
       "      <td>...</td>\n",
       "    </tr>\n",
       "    <tr>\n",
       "      <th>123853</th>\n",
       "      <td>BMG_TS069452</td>\n",
       "      <td>BMG_PT039294</td>\n",
       "    </tr>\n",
       "    <tr>\n",
       "      <th>123854</th>\n",
       "      <td>BMG_TS034260</td>\n",
       "      <td>BMG_PT039294</td>\n",
       "    </tr>\n",
       "    <tr>\n",
       "      <th>123855</th>\n",
       "      <td>BMG_TS016488</td>\n",
       "      <td>BMG_PT039294</td>\n",
       "    </tr>\n",
       "    <tr>\n",
       "      <th>123856</th>\n",
       "      <td>BMG_TS024001</td>\n",
       "      <td>BMG_PT039294</td>\n",
       "    </tr>\n",
       "    <tr>\n",
       "      <th>123857</th>\n",
       "      <td>BMG_TS062840</td>\n",
       "      <td>BMG_PT113173</td>\n",
       "    </tr>\n",
       "  </tbody>\n",
       "</table>\n",
       "<p>123858 rows × 2 columns</p>\n",
       "</div>"
      ],
      "text/plain": [
       "             From_ID         To_ID\n",
       "0       BMG_TS017690  BMG_PT037861\n",
       "1       BMG_TS017717  BMG_PT037862\n",
       "2       BMG_TS017798  BMG_PT037567\n",
       "3       BMG_TS017858  BMG_PT037568\n",
       "4       BMG_TS017908  BMG_PT037868\n",
       "...              ...           ...\n",
       "123853  BMG_TS069452  BMG_PT039294\n",
       "123854  BMG_TS034260  BMG_PT039294\n",
       "123855  BMG_TS016488  BMG_PT039294\n",
       "123856  BMG_TS024001  BMG_PT039294\n",
       "123857  BMG_TS062840  BMG_PT113173\n",
       "\n",
       "[123858 rows x 2 columns]"
      ]
     },
     "execution_count": 10,
     "metadata": {},
     "output_type": "execute_result"
    }
   ],
   "source": [
    "# Split and explode individualid_RSG\n",
    "df_ensembl_t_p['From_ID'] = df_ensembl_t_p['From_ID'].str.split(';')\n",
    "df_ensembl_t_p = df_ensembl_t_p.explode('From_ID').reset_index(drop=True)\n",
    "\n",
    "# Split and explode individualid_RNA\n",
    "df_ensembl_t_p['To_ID'] = df_ensembl_t_p['To_ID'].str.split(';')\n",
    "df_ensembl_t_p = df_ensembl_t_p.explode('To_ID').reset_index(drop=True)\n",
    "\n",
    "df_ensembl_t_p.drop_duplicates(inplace=True)\n",
    "df_ensembl_t_p"
   ]
  },
  {
   "cell_type": "markdown",
   "metadata": {},
   "source": [
    "### Uniprot Mapping"
   ]
  },
  {
   "cell_type": "code",
   "execution_count": 11,
   "metadata": {},
   "outputs": [
    {
     "name": "stderr",
     "output_type": "stream",
     "text": [
      "C:\\Users\\shunn\\AppData\\Local\\Temp\\ipykernel_31516\\3472560410.py:2: SettingWithCopyWarning: \n",
      "A value is trying to be set on a copy of a slice from a DataFrame\n",
      "\n",
      "See the caveats in the documentation: https://pandas.pydata.org/pandas-docs/stable/user_guide/indexing.html#returning-a-view-versus-a-copy\n",
      "  ensembl_trans.dropna(subset = ['Ensembl_Transcript_ID_Version'], inplace=True)\n"
     ]
    }
   ],
   "source": [
    "ensembl_trans = biomedgraphica_transcript[['Ensembl_Transcript_ID_Version', 'BioMedGraphica_ID']]\n",
    "ensembl_trans.dropna(subset = ['Ensembl_Transcript_ID_Version'], inplace=True)\n",
    "ensembl_trans = ensembl_trans.assign(Ensembl_Transcript_ID_Version=biomedgraphica_transcript['Ensembl_Transcript_ID_Version'].str.split(';')).explode('Ensembl_Transcript_ID_Version')\n",
    "\n",
    "ensembl_transcript_to_individualid = ensembl_trans.groupby('Ensembl_Transcript_ID_Version')['BioMedGraphica_ID'].apply(lambda x: ';'.join(x.dropna().unique())).to_dict()"
   ]
  },
  {
   "cell_type": "code",
   "execution_count": 12,
   "metadata": {},
   "outputs": [
    {
     "name": "stderr",
     "output_type": "stream",
     "text": [
      "C:\\Users\\shunn\\AppData\\Local\\Temp\\ipykernel_31516\\2768093953.py:2: SettingWithCopyWarning: \n",
      "A value is trying to be set on a copy of a slice from a DataFrame\n",
      "\n",
      "See the caveats in the documentation: https://pandas.pydata.org/pandas-docs/stable/user_guide/indexing.html#returning-a-view-versus-a-copy\n",
      "  uniprot_protein.dropna(subset = ['Uniprot_ID'], inplace=True)\n"
     ]
    }
   ],
   "source": [
    "uniprot_protein = biomedgraphica_protein[['Uniprot_ID', 'BioMedGraphica_ID']]\n",
    "uniprot_protein.dropna(subset = ['Uniprot_ID'], inplace=True)\n",
    "uniprot_protein = uniprot_protein.assign(Uniprot_ID=biomedgraphica_protein['Uniprot_ID'].str.split(';')).explode('Uniprot_ID')\n",
    "\n",
    "uniprot_protein_to_individualid = uniprot_protein.groupby('Uniprot_ID')['BioMedGraphica_ID'].apply(lambda x: ';'.join(x.dropna().unique())).to_dict()"
   ]
  },
  {
   "cell_type": "code",
   "execution_count": 13,
   "metadata": {},
   "outputs": [],
   "source": [
    "df_uniprot_t_p['From_ID'] = df_uniprot_t_p['Ensembl'].map(ensembl_transcript_to_individualid)\n",
    "df_uniprot_t_p['To_ID'] = df_uniprot_t_p['Entry'].map(uniprot_protein_to_individualid)"
   ]
  },
  {
   "cell_type": "code",
   "execution_count": 14,
   "metadata": {},
   "outputs": [
    {
     "name": "stdout",
     "output_type": "stream",
     "text": [
      "<class 'pandas.core.frame.DataFrame'>\n",
      "Index: 50765 entries, 0 to 20416\n",
      "Data columns (total 4 columns):\n",
      " #   Column   Non-Null Count  Dtype \n",
      "---  ------   --------------  ----- \n",
      " 0   Entry    50765 non-null  object\n",
      " 1   Ensembl  50765 non-null  object\n",
      " 2   From_ID  50765 non-null  object\n",
      " 3   To_ID    50765 non-null  object\n",
      "dtypes: object(4)\n",
      "memory usage: 1.9+ MB\n"
     ]
    }
   ],
   "source": [
    "df_uniprot_t_p.dropna(subset=['From_ID'], inplace=True)\n",
    "df_uniprot_t_p.dropna(subset=['To_ID'], inplace=True)\n",
    "df_uniprot_t_p.info()"
   ]
  },
  {
   "cell_type": "code",
   "execution_count": 15,
   "metadata": {},
   "outputs": [
    {
     "data": {
      "application/vnd.microsoft.datawrangler.viewer.v0+json": {
       "columns": [
        {
         "name": "index",
         "rawType": "int64",
         "type": "integer"
        },
        {
         "name": "From_ID",
         "rawType": "object",
         "type": "string"
        },
        {
         "name": "To_ID",
         "rawType": "object",
         "type": "string"
        }
       ],
       "conversionMethod": "pd.DataFrame",
       "ref": "cca59586-ae0e-48c6-a4fa-41a71e643a49",
       "rows": [
        [
         "0",
         "BMG_TS047632",
         "BMG_PT000170"
        ],
        [
         "1",
         "BMG_TS010412",
         "BMG_PT000774"
        ],
        [
         "2",
         "BMG_TS029566",
         "BMG_PT000945"
        ],
        [
         "3",
         "BMG_TS206006",
         "BMG_PT000945"
        ],
        [
         "4",
         "BMG_TS029574",
         "BMG_PT000946"
        ],
        [
         "5",
         "BMG_TS029575",
         "BMG_PT000947"
        ],
        [
         "6",
         "BMG_TS029576",
         "BMG_PT000948"
        ],
        [
         "7",
         "BMG_TS029577",
         "BMG_PT000949"
        ],
        [
         "8",
         "BMG_TS029579",
         "BMG_PT000950"
        ],
        [
         "9",
         "BMG_TS029580",
         "BMG_PT000951"
        ],
        [
         "10",
         "BMG_TS029584",
         "BMG_PT000952"
        ],
        [
         "11",
         "BMG_TS029585",
         "BMG_PT000953"
        ],
        [
         "12",
         "BMG_TS029587",
         "BMG_PT000954"
        ],
        [
         "13",
         "BMG_TS029592",
         "BMG_PT000955"
        ],
        [
         "14",
         "BMG_TS202199",
         "BMG_PT000955"
        ],
        [
         "15",
         "BMG_TS029594",
         "BMG_PT000956"
        ],
        [
         "16",
         "BMG_TS202617",
         "BMG_PT000956"
        ],
        [
         "17",
         "BMG_TS029599",
         "BMG_PT000957"
        ],
        [
         "18",
         "BMG_TS029602",
         "BMG_PT000958"
        ],
        [
         "19",
         "BMG_TS029603",
         "BMG_PT000959"
        ],
        [
         "20",
         "BMG_TS029605",
         "BMG_PT000960"
        ],
        [
         "21",
         "BMG_TS029607",
         "BMG_PT000961"
        ],
        [
         "22",
         "BMG_TS029608",
         "BMG_PT000962"
        ],
        [
         "23",
         "BMG_TS029609",
         "BMG_PT000963"
        ],
        [
         "24",
         "BMG_TS029628",
         "BMG_PT000964"
        ],
        [
         "25",
         "BMG_TS029638",
         "BMG_PT000965"
        ],
        [
         "26",
         "BMG_TS029658",
         "BMG_PT000966"
        ],
        [
         "27",
         "BMG_TS029659",
         "BMG_PT000967"
        ],
        [
         "28",
         "BMG_TS029661",
         "BMG_PT000968"
        ],
        [
         "29",
         "BMG_TS029662",
         "BMG_PT000969"
        ],
        [
         "30",
         "BMG_TS091936",
         "BMG_PT000972"
        ],
        [
         "31",
         "BMG_TS206424",
         "BMG_PT000972"
        ],
        [
         "32",
         "BMG_TS068493",
         "BMG_PT000974"
        ],
        [
         "33",
         "BMG_TS204524",
         "BMG_PT000974"
        ],
        [
         "34",
         "BMG_TS048971",
         "BMG_PT000975"
        ],
        [
         "35",
         "BMG_TS069426",
         "BMG_PT000976"
        ],
        [
         "36",
         "BMG_TS204201",
         "BMG_PT000976"
        ],
        [
         "37",
         "BMG_TS074440",
         "BMG_PT000977"
        ],
        [
         "38",
         "BMG_TS029625",
         "BMG_PT000978"
        ],
        [
         "39",
         "BMG_TS099960",
         "BMG_PT000979"
        ],
        [
         "40",
         "BMG_TS092473",
         "BMG_PT000980"
        ],
        [
         "41",
         "BMG_TS105612",
         "BMG_PT000981"
        ],
        [
         "42",
         "BMG_TS204350",
         "BMG_PT000981"
        ],
        [
         "43",
         "BMG_TS084482",
         "BMG_PT000982"
        ],
        [
         "44",
         "BMG_TS076598",
         "BMG_PT000983"
        ],
        [
         "45",
         "BMG_TS204902",
         "BMG_PT000983"
        ],
        [
         "46",
         "BMG_TS029688",
         "BMG_PT000987"
        ],
        [
         "47",
         "BMG_TS029679",
         "BMG_PT000988"
        ],
        [
         "48",
         "BMG_TS029682",
         "BMG_PT000989"
        ],
        [
         "49",
         "BMG_TS029680",
         "BMG_PT000991"
        ]
       ],
       "shape": {
        "columns": 2,
        "rows": 50765
       }
      },
      "text/html": [
       "<div>\n",
       "<style scoped>\n",
       "    .dataframe tbody tr th:only-of-type {\n",
       "        vertical-align: middle;\n",
       "    }\n",
       "\n",
       "    .dataframe tbody tr th {\n",
       "        vertical-align: top;\n",
       "    }\n",
       "\n",
       "    .dataframe thead th {\n",
       "        text-align: right;\n",
       "    }\n",
       "</style>\n",
       "<table border=\"1\" class=\"dataframe\">\n",
       "  <thead>\n",
       "    <tr style=\"text-align: right;\">\n",
       "      <th></th>\n",
       "      <th>From_ID</th>\n",
       "      <th>To_ID</th>\n",
       "    </tr>\n",
       "  </thead>\n",
       "  <tbody>\n",
       "    <tr>\n",
       "      <th>0</th>\n",
       "      <td>BMG_TS047632</td>\n",
       "      <td>BMG_PT000170</td>\n",
       "    </tr>\n",
       "    <tr>\n",
       "      <th>1</th>\n",
       "      <td>BMG_TS010412</td>\n",
       "      <td>BMG_PT000774</td>\n",
       "    </tr>\n",
       "    <tr>\n",
       "      <th>2</th>\n",
       "      <td>BMG_TS029566</td>\n",
       "      <td>BMG_PT000945</td>\n",
       "    </tr>\n",
       "    <tr>\n",
       "      <th>3</th>\n",
       "      <td>BMG_TS206006</td>\n",
       "      <td>BMG_PT000945</td>\n",
       "    </tr>\n",
       "    <tr>\n",
       "      <th>4</th>\n",
       "      <td>BMG_TS029574</td>\n",
       "      <td>BMG_PT000946</td>\n",
       "    </tr>\n",
       "    <tr>\n",
       "      <th>...</th>\n",
       "      <td>...</td>\n",
       "      <td>...</td>\n",
       "    </tr>\n",
       "    <tr>\n",
       "      <th>50760</th>\n",
       "      <td>BMG_TS210078</td>\n",
       "      <td>BMG_PT100796</td>\n",
       "    </tr>\n",
       "    <tr>\n",
       "      <th>50761</th>\n",
       "      <td>BMG_TS265137</td>\n",
       "      <td>BMG_PT100799</td>\n",
       "    </tr>\n",
       "    <tr>\n",
       "      <th>50762</th>\n",
       "      <td>BMG_TS023262</td>\n",
       "      <td>BMG_PT100959</td>\n",
       "    </tr>\n",
       "    <tr>\n",
       "      <th>50763</th>\n",
       "      <td>BMG_TS197785</td>\n",
       "      <td>BMG_PT100961</td>\n",
       "    </tr>\n",
       "    <tr>\n",
       "      <th>50764</th>\n",
       "      <td>BMG_TS243717</td>\n",
       "      <td>BMG_PT100961</td>\n",
       "    </tr>\n",
       "  </tbody>\n",
       "</table>\n",
       "<p>50765 rows × 2 columns</p>\n",
       "</div>"
      ],
      "text/plain": [
       "            From_ID         To_ID\n",
       "0      BMG_TS047632  BMG_PT000170\n",
       "1      BMG_TS010412  BMG_PT000774\n",
       "2      BMG_TS029566  BMG_PT000945\n",
       "3      BMG_TS206006  BMG_PT000945\n",
       "4      BMG_TS029574  BMG_PT000946\n",
       "...             ...           ...\n",
       "50760  BMG_TS210078  BMG_PT100796\n",
       "50761  BMG_TS265137  BMG_PT100799\n",
       "50762  BMG_TS023262  BMG_PT100959\n",
       "50763  BMG_TS197785  BMG_PT100961\n",
       "50764  BMG_TS243717  BMG_PT100961\n",
       "\n",
       "[50765 rows x 2 columns]"
      ]
     },
     "execution_count": 15,
     "metadata": {},
     "output_type": "execute_result"
    }
   ],
   "source": [
    "df_uniprot_t_p['From_ID'] = df_uniprot_t_p['From_ID'].str.split(';')\n",
    "df_uniprot_t_p = df_uniprot_t_p.explode('From_ID').reset_index(drop=True)\n",
    "\n",
    "df_uniprot_t_p['To_ID'] = df_uniprot_t_p['To_ID'].str.split(';')\n",
    "df_uniprot_t_p = df_uniprot_t_p.explode('To_ID').reset_index(drop=True)\n",
    "\n",
    "df_uniprot_t_p = df_uniprot_t_p[['From_ID', 'To_ID']]\n",
    "df_uniprot_t_p.drop_duplicates(inplace=True)\n",
    "df_uniprot_t_p"
   ]
  },
  {
   "cell_type": "markdown",
   "metadata": {},
   "source": [
    "### RefSeq Mapping"
   ]
  },
  {
   "cell_type": "code",
   "execution_count": 16,
   "metadata": {},
   "outputs": [
    {
     "name": "stderr",
     "output_type": "stream",
     "text": [
      "C:\\Users\\shunn\\AppData\\Local\\Temp\\ipykernel_31516\\1369426002.py:2: SettingWithCopyWarning: \n",
      "A value is trying to be set on a copy of a slice from a DataFrame\n",
      "\n",
      "See the caveats in the documentation: https://pandas.pydata.org/pandas-docs/stable/user_guide/indexing.html#returning-a-view-versus-a-copy\n",
      "  refseq_trans.dropna(subset = ['RefSeq_ID'], inplace=True)\n"
     ]
    }
   ],
   "source": [
    "refseq_trans = biomedgraphica_transcript[['RefSeq_ID', 'BioMedGraphica_ID']]\n",
    "refseq_trans.dropna(subset = ['RefSeq_ID'], inplace=True)\n",
    "refseq_trans = refseq_trans.assign(RefSeq_ID=biomedgraphica_transcript['RefSeq_ID'].str.split(';')).explode('RefSeq_ID')\n",
    "\n",
    "refseq_trans_to_individual = refseq_trans.groupby('RefSeq_ID')['BioMedGraphica_ID'].apply(lambda x: ';'.join(x.dropna().unique())).to_dict()"
   ]
  },
  {
   "cell_type": "code",
   "execution_count": 17,
   "metadata": {},
   "outputs": [
    {
     "name": "stderr",
     "output_type": "stream",
     "text": [
      "C:\\Users\\shunn\\AppData\\Local\\Temp\\ipykernel_31516\\2514182400.py:2: SettingWithCopyWarning: \n",
      "A value is trying to be set on a copy of a slice from a DataFrame\n",
      "\n",
      "See the caveats in the documentation: https://pandas.pydata.org/pandas-docs/stable/user_guide/indexing.html#returning-a-view-versus-a-copy\n",
      "  refseq_protein.dropna(subset = ['RefSeq_ID'], inplace=True)\n"
     ]
    }
   ],
   "source": [
    "refseq_protein = biomedgraphica_protein[['RefSeq_ID', 'BioMedGraphica_ID']]\n",
    "refseq_protein.dropna(subset = ['RefSeq_ID'], inplace=True)\n",
    "refseq_protein = refseq_protein.assign(RefSeq_ID=biomedgraphica_protein['RefSeq_ID'].str.split(';')).explode('RefSeq_ID')\n",
    "\n",
    "refseq_protein_to_individual = refseq_protein.groupby('RefSeq_ID')['BioMedGraphica_ID'].apply(lambda x: ';'.join(x.dropna().unique())).to_dict()"
   ]
  },
  {
   "cell_type": "code",
   "execution_count": 18,
   "metadata": {},
   "outputs": [],
   "source": [
    "df_refseq_t_p['From_ID'] = df_refseq_t_p['RNA'].map(refseq_trans_to_individual)\n",
    "df_refseq_t_p['To_ID'] = df_refseq_t_p['Protein'].map(refseq_protein_to_individual)"
   ]
  },
  {
   "cell_type": "code",
   "execution_count": 19,
   "metadata": {},
   "outputs": [
    {
     "name": "stdout",
     "output_type": "stream",
     "text": [
      "<class 'pandas.core.frame.DataFrame'>\n",
      "Index: 6868 entries, 0 to 33420\n",
      "Data columns (total 4 columns):\n",
      " #   Column   Non-Null Count  Dtype \n",
      "---  ------   --------------  ----- \n",
      " 0   RNA      6868 non-null   object\n",
      " 1   Protein  6868 non-null   object\n",
      " 2   From_ID  6868 non-null   object\n",
      " 3   To_ID    6868 non-null   object\n",
      "dtypes: object(4)\n",
      "memory usage: 268.3+ KB\n"
     ]
    }
   ],
   "source": [
    "df_refseq_t_p.dropna(subset=['From_ID'], inplace=True)\n",
    "df_refseq_t_p.dropna(subset=['To_ID'], inplace=True)\n",
    "df_refseq_t_p.info()"
   ]
  },
  {
   "cell_type": "code",
   "execution_count": 20,
   "metadata": {},
   "outputs": [
    {
     "name": "stderr",
     "output_type": "stream",
     "text": [
      "C:\\Users\\shunn\\AppData\\Local\\Temp\\ipykernel_31516\\2567571454.py:3: SettingWithCopyWarning: \n",
      "A value is trying to be set on a copy of a slice from a DataFrame.\n",
      "Try using .loc[row_indexer,col_indexer] = value instead\n",
      "\n",
      "See the caveats in the documentation: https://pandas.pydata.org/pandas-docs/stable/user_guide/indexing.html#returning-a-view-versus-a-copy\n",
      "  df_refseq_t_p['From_ID'] = df_refseq_t_p['From_ID'].str.split(';')\n"
     ]
    },
    {
     "data": {
      "application/vnd.microsoft.datawrangler.viewer.v0+json": {
       "columns": [
        {
         "name": "index",
         "rawType": "int64",
         "type": "integer"
        },
        {
         "name": "From_ID",
         "rawType": "object",
         "type": "string"
        },
        {
         "name": "To_ID",
         "rawType": "object",
         "type": "string"
        }
       ],
       "conversionMethod": "pd.DataFrame",
       "ref": "7d96051f-e85d-43aa-8529-9227fa6a1289",
       "rows": [
        [
         "0",
         "BMG_TS023854",
         "BMG_PT091743"
        ],
        [
         "1",
         "BMG_TS009928",
         "BMG_PT037614"
        ],
        [
         "2",
         "BMG_TS009928",
         "BMG_PT044515"
        ],
        [
         "3",
         "BMG_TS009928",
         "BMG_PT053181"
        ],
        [
         "4",
         "BMG_TS009928",
         "BMG_PT055260"
        ],
        [
         "5",
         "BMG_TS009928",
         "BMG_PT060015"
        ],
        [
         "6",
         "BMG_TS009928",
         "BMG_PT064050"
        ],
        [
         "7",
         "BMG_TS009928",
         "BMG_PT064297"
        ],
        [
         "8",
         "BMG_TS007200",
         "BMG_PT011362"
        ],
        [
         "9",
         "BMG_TS007200",
         "BMG_PT021541"
        ],
        [
         "10",
         "BMG_TS007200",
         "BMG_PT022797"
        ],
        [
         "11",
         "BMG_TS007200",
         "BMG_PT026382"
        ],
        [
         "12",
         "BMG_TS007200",
         "BMG_PT029905"
        ],
        [
         "13",
         "BMG_TS007200",
         "BMG_PT047796"
        ],
        [
         "14",
         "BMG_TS007200",
         "BMG_PT066323"
        ],
        [
         "15",
         "BMG_TS007200",
         "BMG_PT066324"
        ],
        [
         "16",
         "BMG_TS007200",
         "BMG_PT072194"
        ],
        [
         "17",
         "BMG_TS007200",
         "BMG_PT082516"
        ],
        [
         "18",
         "BMG_TS214111",
         "BMG_PT002866"
        ],
        [
         "19",
         "BMG_TS214111",
         "BMG_PT015078"
        ],
        [
         "20",
         "BMG_TS214111",
         "BMG_PT091507"
        ],
        [
         "21",
         "BMG_TS214111",
         "BMG_PT094724"
        ],
        [
         "22",
         "BMG_TS000417",
         "BMG_PT054080"
        ],
        [
         "23",
         "BMG_TS000417",
         "BMG_PT092067"
        ],
        [
         "24",
         "BMG_TS000417",
         "BMG_PT093357"
        ],
        [
         "25",
         "BMG_TS000417",
         "BMG_PT096456"
        ],
        [
         "26",
         "BMG_TS003392",
         "BMG_PT018613"
        ],
        [
         "27",
         "BMG_TS003392",
         "BMG_PT061010"
        ],
        [
         "28",
         "BMG_TS003392",
         "BMG_PT063795"
        ],
        [
         "29",
         "BMG_TS003392",
         "BMG_PT068251"
        ],
        [
         "30",
         "BMG_TS003392",
         "BMG_PT088063"
        ],
        [
         "31",
         "BMG_TS003392",
         "BMG_PT090602"
        ],
        [
         "32",
         "BMG_TS002106",
         "BMG_PT044520"
        ],
        [
         "33",
         "BMG_TS002106",
         "BMG_PT077664"
        ],
        [
         "34",
         "BMG_TS002106",
         "BMG_PT081376"
        ],
        [
         "35",
         "BMG_TS030618",
         "BMG_PT007035"
        ],
        [
         "36",
         "BMG_TS030618",
         "BMG_PT029500"
        ],
        [
         "37",
         "BMG_TS030618",
         "BMG_PT032021"
        ],
        [
         "38",
         "BMG_TS030618",
         "BMG_PT046720"
        ],
        [
         "39",
         "BMG_TS030618",
         "BMG_PT052844"
        ],
        [
         "40",
         "BMG_TS003358",
         "BMG_PT009477"
        ],
        [
         "41",
         "BMG_TS003358",
         "BMG_PT019781"
        ],
        [
         "42",
         "BMG_TS003358",
         "BMG_PT041062"
        ],
        [
         "43",
         "BMG_TS003358",
         "BMG_PT051639"
        ],
        [
         "44",
         "BMG_TS003358",
         "BMG_PT080889"
        ],
        [
         "45",
         "BMG_TS001890",
         "BMG_PT008019"
        ],
        [
         "46",
         "BMG_TS001890",
         "BMG_PT054559"
        ],
        [
         "47",
         "BMG_TS001890",
         "BMG_PT072118"
        ],
        [
         "48",
         "BMG_TS001890",
         "BMG_PT080295"
        ],
        [
         "49",
         "BMG_TS001890",
         "BMG_PT097804"
        ]
       ],
       "shape": {
        "columns": 2,
        "rows": 35575
       }
      },
      "text/html": [
       "<div>\n",
       "<style scoped>\n",
       "    .dataframe tbody tr th:only-of-type {\n",
       "        vertical-align: middle;\n",
       "    }\n",
       "\n",
       "    .dataframe tbody tr th {\n",
       "        vertical-align: top;\n",
       "    }\n",
       "\n",
       "    .dataframe thead th {\n",
       "        text-align: right;\n",
       "    }\n",
       "</style>\n",
       "<table border=\"1\" class=\"dataframe\">\n",
       "  <thead>\n",
       "    <tr style=\"text-align: right;\">\n",
       "      <th></th>\n",
       "      <th>From_ID</th>\n",
       "      <th>To_ID</th>\n",
       "    </tr>\n",
       "  </thead>\n",
       "  <tbody>\n",
       "    <tr>\n",
       "      <th>0</th>\n",
       "      <td>BMG_TS023854</td>\n",
       "      <td>BMG_PT091743</td>\n",
       "    </tr>\n",
       "    <tr>\n",
       "      <th>1</th>\n",
       "      <td>BMG_TS009928</td>\n",
       "      <td>BMG_PT037614</td>\n",
       "    </tr>\n",
       "    <tr>\n",
       "      <th>2</th>\n",
       "      <td>BMG_TS009928</td>\n",
       "      <td>BMG_PT044515</td>\n",
       "    </tr>\n",
       "    <tr>\n",
       "      <th>3</th>\n",
       "      <td>BMG_TS009928</td>\n",
       "      <td>BMG_PT053181</td>\n",
       "    </tr>\n",
       "    <tr>\n",
       "      <th>4</th>\n",
       "      <td>BMG_TS009928</td>\n",
       "      <td>BMG_PT055260</td>\n",
       "    </tr>\n",
       "    <tr>\n",
       "      <th>...</th>\n",
       "      <td>...</td>\n",
       "      <td>...</td>\n",
       "    </tr>\n",
       "    <tr>\n",
       "      <th>35639</th>\n",
       "      <td>BMG_TS023820</td>\n",
       "      <td>BMG_PT036927</td>\n",
       "    </tr>\n",
       "    <tr>\n",
       "      <th>35640</th>\n",
       "      <td>BMG_TS023820</td>\n",
       "      <td>BMG_PT043276</td>\n",
       "    </tr>\n",
       "    <tr>\n",
       "      <th>35641</th>\n",
       "      <td>BMG_TS023820</td>\n",
       "      <td>BMG_PT086512</td>\n",
       "    </tr>\n",
       "    <tr>\n",
       "      <th>35642</th>\n",
       "      <td>BMG_TS016776</td>\n",
       "      <td>BMG_PT042438</td>\n",
       "    </tr>\n",
       "    <tr>\n",
       "      <th>35643</th>\n",
       "      <td>BMG_TS016776</td>\n",
       "      <td>BMG_PT097329</td>\n",
       "    </tr>\n",
       "  </tbody>\n",
       "</table>\n",
       "<p>35575 rows × 2 columns</p>\n",
       "</div>"
      ],
      "text/plain": [
       "            From_ID         To_ID\n",
       "0      BMG_TS023854  BMG_PT091743\n",
       "1      BMG_TS009928  BMG_PT037614\n",
       "2      BMG_TS009928  BMG_PT044515\n",
       "3      BMG_TS009928  BMG_PT053181\n",
       "4      BMG_TS009928  BMG_PT055260\n",
       "...             ...           ...\n",
       "35639  BMG_TS023820  BMG_PT036927\n",
       "35640  BMG_TS023820  BMG_PT043276\n",
       "35641  BMG_TS023820  BMG_PT086512\n",
       "35642  BMG_TS016776  BMG_PT042438\n",
       "35643  BMG_TS016776  BMG_PT097329\n",
       "\n",
       "[35575 rows x 2 columns]"
      ]
     },
     "execution_count": 20,
     "metadata": {},
     "output_type": "execute_result"
    }
   ],
   "source": [
    "df_refseq_t_p = df_refseq_t_p[['From_ID', 'To_ID']]\n",
    "\n",
    "df_refseq_t_p['From_ID'] = df_refseq_t_p['From_ID'].str.split(';')\n",
    "df_refseq_t_p = df_refseq_t_p.explode('From_ID').reset_index(drop=True)\n",
    "\n",
    "df_refseq_t_p['To_ID'] = df_refseq_t_p['To_ID'].str.split(';')\n",
    "df_refseq_t_p = df_refseq_t_p.explode('To_ID').reset_index(drop=True)\n",
    "df_refseq_t_p.drop_duplicates(inplace=True)\n",
    "df_refseq_t_p"
   ]
  },
  {
   "cell_type": "markdown",
   "metadata": {},
   "source": [
    "### Transcript-Protein Relation"
   ]
  },
  {
   "cell_type": "code",
   "execution_count": 21,
   "metadata": {},
   "outputs": [
    {
     "data": {
      "application/vnd.microsoft.datawrangler.viewer.v0+json": {
       "columns": [
        {
         "name": "index",
         "rawType": "int64",
         "type": "integer"
        },
        {
         "name": "From_ID",
         "rawType": "object",
         "type": "string"
        },
        {
         "name": "To_ID",
         "rawType": "object",
         "type": "string"
        },
        {
         "name": "source1",
         "rawType": "object",
         "type": "unknown"
        },
        {
         "name": "source2",
         "rawType": "object",
         "type": "unknown"
        },
        {
         "name": "source3",
         "rawType": "object",
         "type": "unknown"
        }
       ],
       "conversionMethod": "pd.DataFrame",
       "ref": "6b7171cb-145b-446a-bd63-f0711ca90175",
       "rows": [
        [
         "0",
         "BMG_TS000001",
         "BMG_PT042398",
         "Ensembl",
         "Uniprot",
         null
        ],
        [
         "1",
         "BMG_TS000002",
         "BMG_PT039543",
         "Ensembl",
         "Uniprot",
         null
        ],
        [
         "2",
         "BMG_TS000003",
         "BMG_PT038917",
         "Ensembl",
         "Uniprot",
         null
        ],
        [
         "3",
         "BMG_TS000004",
         "BMG_PT042655",
         "Ensembl",
         "Uniprot",
         null
        ],
        [
         "4",
         "BMG_TS000005",
         "BMG_PT015283",
         null,
         null,
         "RefSeq"
        ],
        [
         "5",
         "BMG_TS000005",
         "BMG_PT022059",
         null,
         null,
         "RefSeq"
        ],
        [
         "6",
         "BMG_TS000005",
         "BMG_PT022075",
         null,
         null,
         "RefSeq"
        ],
        [
         "7",
         "BMG_TS000005",
         "BMG_PT022162",
         null,
         null,
         "RefSeq"
        ],
        [
         "8",
         "BMG_TS000005",
         "BMG_PT027668",
         null,
         null,
         "RefSeq"
        ],
        [
         "9",
         "BMG_TS000005",
         "BMG_PT048662",
         null,
         null,
         "RefSeq"
        ],
        [
         "10",
         "BMG_TS000005",
         "BMG_PT052324",
         null,
         null,
         "RefSeq"
        ],
        [
         "11",
         "BMG_TS000005",
         "BMG_PT091431",
         null,
         null,
         "RefSeq"
        ],
        [
         "12",
         "BMG_TS000005",
         "BMG_PT091982",
         "Ensembl",
         "Uniprot",
         "RefSeq"
        ],
        [
         "13",
         "BMG_TS000006",
         "BMG_PT067096",
         "Ensembl",
         "Uniprot",
         "RefSeq"
        ],
        [
         "14",
         "BMG_TS000006",
         "BMG_PT067647",
         null,
         null,
         "RefSeq"
        ],
        [
         "15",
         "BMG_TS000006",
         "BMG_PT094641",
         null,
         null,
         "RefSeq"
        ],
        [
         "16",
         "BMG_TS000007",
         "BMG_PT028793",
         null,
         null,
         "RefSeq"
        ],
        [
         "17",
         "BMG_TS000007",
         "BMG_PT068453",
         null,
         null,
         "RefSeq"
        ],
        [
         "18",
         "BMG_TS000007",
         "BMG_PT068458",
         null,
         null,
         "RefSeq"
        ],
        [
         "19",
         "BMG_TS000007",
         "BMG_PT074463",
         null,
         null,
         "RefSeq"
        ],
        [
         "20",
         "BMG_TS000007",
         "BMG_PT085858",
         "Ensembl",
         "Uniprot",
         "RefSeq"
        ],
        [
         "21",
         "BMG_TS000008",
         "BMG_PT090395",
         "Ensembl",
         "Uniprot",
         null
        ],
        [
         "22",
         "BMG_TS000009",
         "BMG_PT033650",
         "Ensembl",
         "Uniprot",
         null
        ],
        [
         "23",
         "BMG_TS000010",
         "BMG_PT044195",
         "Ensembl",
         "Uniprot",
         null
        ],
        [
         "24",
         "BMG_TS000011",
         "BMG_PT039036",
         "Ensembl",
         "Uniprot",
         "RefSeq"
        ],
        [
         "25",
         "BMG_TS000011",
         "BMG_PT047367",
         null,
         null,
         "RefSeq"
        ],
        [
         "26",
         "BMG_TS000011",
         "BMG_PT047369",
         null,
         null,
         "RefSeq"
        ],
        [
         "27",
         "BMG_TS000011",
         "BMG_PT047630",
         null,
         null,
         "RefSeq"
        ],
        [
         "28",
         "BMG_TS000011",
         "BMG_PT047633",
         null,
         null,
         "RefSeq"
        ],
        [
         "29",
         "BMG_TS000012",
         "BMG_PT002124",
         null,
         null,
         "RefSeq"
        ],
        [
         "30",
         "BMG_TS000012",
         "BMG_PT008442",
         null,
         null,
         "RefSeq"
        ],
        [
         "31",
         "BMG_TS000012",
         "BMG_PT015608",
         null,
         null,
         "RefSeq"
        ],
        [
         "32",
         "BMG_TS000012",
         "BMG_PT018978",
         null,
         null,
         "RefSeq"
        ],
        [
         "33",
         "BMG_TS000012",
         "BMG_PT033360",
         null,
         null,
         "RefSeq"
        ],
        [
         "34",
         "BMG_TS000012",
         "BMG_PT033362",
         null,
         null,
         "RefSeq"
        ],
        [
         "35",
         "BMG_TS000012",
         "BMG_PT046862",
         null,
         null,
         "RefSeq"
        ],
        [
         "36",
         "BMG_TS000012",
         "BMG_PT046919",
         "Ensembl",
         "Uniprot",
         "RefSeq"
        ],
        [
         "37",
         "BMG_TS000012",
         "BMG_PT072127",
         null,
         null,
         "RefSeq"
        ],
        [
         "38",
         "BMG_TS000012",
         "BMG_PT084703",
         null,
         null,
         "RefSeq"
        ],
        [
         "39",
         "BMG_TS000013",
         "BMG_PT083888",
         "Ensembl",
         "Uniprot",
         null
        ],
        [
         "40",
         "BMG_TS000014",
         "BMG_PT057712",
         "Ensembl",
         "Uniprot",
         null
        ],
        [
         "41",
         "BMG_TS000015",
         "BMG_PT063469",
         "Ensembl",
         "Uniprot",
         null
        ],
        [
         "42",
         "BMG_TS000016",
         "BMG_PT081498",
         "Ensembl",
         "Uniprot",
         null
        ],
        [
         "43",
         "BMG_TS000017",
         "BMG_PT041340",
         "Ensembl",
         "Uniprot",
         null
        ],
        [
         "44",
         "BMG_TS000018",
         "BMG_PT033449",
         null,
         null,
         "RefSeq"
        ],
        [
         "45",
         "BMG_TS000018",
         "BMG_PT033455",
         "Ensembl",
         "Uniprot",
         "RefSeq"
        ],
        [
         "46",
         "BMG_TS000018",
         "BMG_PT062901",
         null,
         null,
         "RefSeq"
        ],
        [
         "47",
         "BMG_TS000018",
         "BMG_PT082711",
         null,
         null,
         "RefSeq"
        ],
        [
         "48",
         "BMG_TS000018",
         "BMG_PT100694",
         null,
         null,
         "RefSeq"
        ],
        [
         "49",
         "BMG_TS000019",
         "BMG_PT033508",
         "Ensembl",
         "Uniprot",
         null
        ]
       ],
       "shape": {
        "columns": 5,
        "rows": 152585
       }
      },
      "text/html": [
       "<div>\n",
       "<style scoped>\n",
       "    .dataframe tbody tr th:only-of-type {\n",
       "        vertical-align: middle;\n",
       "    }\n",
       "\n",
       "    .dataframe tbody tr th {\n",
       "        vertical-align: top;\n",
       "    }\n",
       "\n",
       "    .dataframe thead th {\n",
       "        text-align: right;\n",
       "    }\n",
       "</style>\n",
       "<table border=\"1\" class=\"dataframe\">\n",
       "  <thead>\n",
       "    <tr style=\"text-align: right;\">\n",
       "      <th></th>\n",
       "      <th>From_ID</th>\n",
       "      <th>To_ID</th>\n",
       "      <th>source1</th>\n",
       "      <th>source2</th>\n",
       "      <th>source3</th>\n",
       "    </tr>\n",
       "  </thead>\n",
       "  <tbody>\n",
       "    <tr>\n",
       "      <th>0</th>\n",
       "      <td>BMG_TS000001</td>\n",
       "      <td>BMG_PT042398</td>\n",
       "      <td>Ensembl</td>\n",
       "      <td>Uniprot</td>\n",
       "      <td>NaN</td>\n",
       "    </tr>\n",
       "    <tr>\n",
       "      <th>1</th>\n",
       "      <td>BMG_TS000002</td>\n",
       "      <td>BMG_PT039543</td>\n",
       "      <td>Ensembl</td>\n",
       "      <td>Uniprot</td>\n",
       "      <td>NaN</td>\n",
       "    </tr>\n",
       "    <tr>\n",
       "      <th>2</th>\n",
       "      <td>BMG_TS000003</td>\n",
       "      <td>BMG_PT038917</td>\n",
       "      <td>Ensembl</td>\n",
       "      <td>Uniprot</td>\n",
       "      <td>NaN</td>\n",
       "    </tr>\n",
       "    <tr>\n",
       "      <th>3</th>\n",
       "      <td>BMG_TS000004</td>\n",
       "      <td>BMG_PT042655</td>\n",
       "      <td>Ensembl</td>\n",
       "      <td>Uniprot</td>\n",
       "      <td>NaN</td>\n",
       "    </tr>\n",
       "    <tr>\n",
       "      <th>4</th>\n",
       "      <td>BMG_TS000005</td>\n",
       "      <td>BMG_PT015283</td>\n",
       "      <td>NaN</td>\n",
       "      <td>NaN</td>\n",
       "      <td>RefSeq</td>\n",
       "    </tr>\n",
       "    <tr>\n",
       "      <th>...</th>\n",
       "      <td>...</td>\n",
       "      <td>...</td>\n",
       "      <td>...</td>\n",
       "      <td>...</td>\n",
       "      <td>...</td>\n",
       "    </tr>\n",
       "    <tr>\n",
       "      <th>152580</th>\n",
       "      <td>BMG_TS412170</td>\n",
       "      <td>BMG_PT173974</td>\n",
       "      <td>Ensembl</td>\n",
       "      <td>NaN</td>\n",
       "      <td>NaN</td>\n",
       "    </tr>\n",
       "    <tr>\n",
       "      <th>152581</th>\n",
       "      <td>BMG_TS412171</td>\n",
       "      <td>BMG_PT173975</td>\n",
       "      <td>Ensembl</td>\n",
       "      <td>NaN</td>\n",
       "      <td>NaN</td>\n",
       "    </tr>\n",
       "    <tr>\n",
       "      <th>152582</th>\n",
       "      <td>BMG_TS412172</td>\n",
       "      <td>BMG_PT173976</td>\n",
       "      <td>Ensembl</td>\n",
       "      <td>NaN</td>\n",
       "      <td>NaN</td>\n",
       "    </tr>\n",
       "    <tr>\n",
       "      <th>152583</th>\n",
       "      <td>BMG_TS412303</td>\n",
       "      <td>BMG_PT173977</td>\n",
       "      <td>Ensembl</td>\n",
       "      <td>NaN</td>\n",
       "      <td>NaN</td>\n",
       "    </tr>\n",
       "    <tr>\n",
       "      <th>152584</th>\n",
       "      <td>BMG_TS412304</td>\n",
       "      <td>BMG_PT173978</td>\n",
       "      <td>Ensembl</td>\n",
       "      <td>NaN</td>\n",
       "      <td>NaN</td>\n",
       "    </tr>\n",
       "  </tbody>\n",
       "</table>\n",
       "<p>152585 rows × 5 columns</p>\n",
       "</div>"
      ],
      "text/plain": [
       "             From_ID         To_ID  source1  source2 source3\n",
       "0       BMG_TS000001  BMG_PT042398  Ensembl  Uniprot     NaN\n",
       "1       BMG_TS000002  BMG_PT039543  Ensembl  Uniprot     NaN\n",
       "2       BMG_TS000003  BMG_PT038917  Ensembl  Uniprot     NaN\n",
       "3       BMG_TS000004  BMG_PT042655  Ensembl  Uniprot     NaN\n",
       "4       BMG_TS000005  BMG_PT015283      NaN      NaN  RefSeq\n",
       "...              ...           ...      ...      ...     ...\n",
       "152580  BMG_TS412170  BMG_PT173974  Ensembl      NaN     NaN\n",
       "152581  BMG_TS412171  BMG_PT173975  Ensembl      NaN     NaN\n",
       "152582  BMG_TS412172  BMG_PT173976  Ensembl      NaN     NaN\n",
       "152583  BMG_TS412303  BMG_PT173977  Ensembl      NaN     NaN\n",
       "152584  BMG_TS412304  BMG_PT173978  Ensembl      NaN     NaN\n",
       "\n",
       "[152585 rows x 5 columns]"
      ]
     },
     "execution_count": 21,
     "metadata": {},
     "output_type": "execute_result"
    }
   ],
   "source": [
    "biomedgraphica_ensembl_transcript_protein = df_ensembl_t_p.copy()\n",
    "biomedgraphica_ensembl_transcript_protein['source1'] = 'Ensembl'\n",
    "\n",
    "biomedgraphica_uniprot_transcript_protein = df_uniprot_t_p.copy()\n",
    "biomedgraphica_uniprot_transcript_protein['source2'] = 'Uniprot'\n",
    "\n",
    "biomedgraphica_refseq_transcript_protein = df_refseq_t_p.copy()\n",
    "biomedgraphica_refseq_transcript_protein['source3'] = 'RefSeq'\n",
    "\n",
    "biomedgraphica_transcript_protein = pd.merge(biomedgraphica_ensembl_transcript_protein, biomedgraphica_uniprot_transcript_protein, how='outer', on=['From_ID', 'To_ID'])\n",
    "biomedgraphica_transcript_protein = pd.merge(biomedgraphica_transcript_protein, biomedgraphica_refseq_transcript_protein, how='outer', on=['From_ID', 'To_ID'])\n",
    "biomedgraphica_transcript_protein"
   ]
  },
  {
   "cell_type": "code",
   "execution_count": 22,
   "metadata": {},
   "outputs": [
    {
     "data": {
      "application/vnd.microsoft.datawrangler.viewer.v0+json": {
       "columns": [
        {
         "name": "index",
         "rawType": "int64",
         "type": "integer"
        },
        {
         "name": "From_ID",
         "rawType": "object",
         "type": "string"
        },
        {
         "name": "To_ID",
         "rawType": "object",
         "type": "string"
        },
        {
         "name": "Source",
         "rawType": "object",
         "type": "string"
        }
       ],
       "conversionMethod": "pd.DataFrame",
       "ref": "6d753b20-413f-4888-b2fe-a85b4fb980a2",
       "rows": [
        [
         "0",
         "BMG_TS000001",
         "BMG_PT042398",
         "Uniprot;Ensembl"
        ],
        [
         "1",
         "BMG_TS000002",
         "BMG_PT039543",
         "Uniprot;Ensembl"
        ],
        [
         "2",
         "BMG_TS000003",
         "BMG_PT038917",
         "Uniprot;Ensembl"
        ],
        [
         "3",
         "BMG_TS000004",
         "BMG_PT042655",
         "Uniprot;Ensembl"
        ],
        [
         "4",
         "BMG_TS000005",
         "BMG_PT015283",
         "RefSeq"
        ],
        [
         "5",
         "BMG_TS000005",
         "BMG_PT022059",
         "RefSeq"
        ],
        [
         "6",
         "BMG_TS000005",
         "BMG_PT022075",
         "RefSeq"
        ],
        [
         "7",
         "BMG_TS000005",
         "BMG_PT022162",
         "RefSeq"
        ],
        [
         "8",
         "BMG_TS000005",
         "BMG_PT027668",
         "RefSeq"
        ],
        [
         "9",
         "BMG_TS000005",
         "BMG_PT048662",
         "RefSeq"
        ],
        [
         "10",
         "BMG_TS000005",
         "BMG_PT052324",
         "RefSeq"
        ],
        [
         "11",
         "BMG_TS000005",
         "BMG_PT091431",
         "RefSeq"
        ],
        [
         "12",
         "BMG_TS000005",
         "BMG_PT091982",
         "RefSeq;Uniprot;Ensembl"
        ],
        [
         "13",
         "BMG_TS000006",
         "BMG_PT067096",
         "RefSeq;Uniprot;Ensembl"
        ],
        [
         "14",
         "BMG_TS000006",
         "BMG_PT067647",
         "RefSeq"
        ],
        [
         "15",
         "BMG_TS000006",
         "BMG_PT094641",
         "RefSeq"
        ],
        [
         "16",
         "BMG_TS000007",
         "BMG_PT028793",
         "RefSeq"
        ],
        [
         "17",
         "BMG_TS000007",
         "BMG_PT068453",
         "RefSeq"
        ],
        [
         "18",
         "BMG_TS000007",
         "BMG_PT068458",
         "RefSeq"
        ],
        [
         "19",
         "BMG_TS000007",
         "BMG_PT074463",
         "RefSeq"
        ],
        [
         "20",
         "BMG_TS000007",
         "BMG_PT085858",
         "RefSeq;Uniprot;Ensembl"
        ],
        [
         "21",
         "BMG_TS000008",
         "BMG_PT090395",
         "Uniprot;Ensembl"
        ],
        [
         "22",
         "BMG_TS000009",
         "BMG_PT033650",
         "Uniprot;Ensembl"
        ],
        [
         "23",
         "BMG_TS000010",
         "BMG_PT044195",
         "Uniprot;Ensembl"
        ],
        [
         "24",
         "BMG_TS000011",
         "BMG_PT039036",
         "RefSeq;Uniprot;Ensembl"
        ],
        [
         "25",
         "BMG_TS000011",
         "BMG_PT047367",
         "RefSeq"
        ],
        [
         "26",
         "BMG_TS000011",
         "BMG_PT047369",
         "RefSeq"
        ],
        [
         "27",
         "BMG_TS000011",
         "BMG_PT047630",
         "RefSeq"
        ],
        [
         "28",
         "BMG_TS000011",
         "BMG_PT047633",
         "RefSeq"
        ],
        [
         "29",
         "BMG_TS000012",
         "BMG_PT002124",
         "RefSeq"
        ],
        [
         "30",
         "BMG_TS000012",
         "BMG_PT008442",
         "RefSeq"
        ],
        [
         "31",
         "BMG_TS000012",
         "BMG_PT015608",
         "RefSeq"
        ],
        [
         "32",
         "BMG_TS000012",
         "BMG_PT018978",
         "RefSeq"
        ],
        [
         "33",
         "BMG_TS000012",
         "BMG_PT033360",
         "RefSeq"
        ],
        [
         "34",
         "BMG_TS000012",
         "BMG_PT033362",
         "RefSeq"
        ],
        [
         "35",
         "BMG_TS000012",
         "BMG_PT046862",
         "RefSeq"
        ],
        [
         "36",
         "BMG_TS000012",
         "BMG_PT046919",
         "RefSeq;Uniprot;Ensembl"
        ],
        [
         "37",
         "BMG_TS000012",
         "BMG_PT072127",
         "RefSeq"
        ],
        [
         "38",
         "BMG_TS000012",
         "BMG_PT084703",
         "RefSeq"
        ],
        [
         "39",
         "BMG_TS000013",
         "BMG_PT083888",
         "Uniprot;Ensembl"
        ],
        [
         "40",
         "BMG_TS000014",
         "BMG_PT057712",
         "Uniprot;Ensembl"
        ],
        [
         "41",
         "BMG_TS000015",
         "BMG_PT063469",
         "Uniprot;Ensembl"
        ],
        [
         "42",
         "BMG_TS000016",
         "BMG_PT081498",
         "Uniprot;Ensembl"
        ],
        [
         "43",
         "BMG_TS000017",
         "BMG_PT041340",
         "Uniprot;Ensembl"
        ],
        [
         "44",
         "BMG_TS000018",
         "BMG_PT033449",
         "RefSeq"
        ],
        [
         "45",
         "BMG_TS000018",
         "BMG_PT033455",
         "RefSeq;Uniprot;Ensembl"
        ],
        [
         "46",
         "BMG_TS000018",
         "BMG_PT062901",
         "RefSeq"
        ],
        [
         "47",
         "BMG_TS000018",
         "BMG_PT082711",
         "RefSeq"
        ],
        [
         "48",
         "BMG_TS000018",
         "BMG_PT100694",
         "RefSeq"
        ],
        [
         "49",
         "BMG_TS000019",
         "BMG_PT033508",
         "Uniprot;Ensembl"
        ]
       ],
       "shape": {
        "columns": 3,
        "rows": 152585
       }
      },
      "text/html": [
       "<div>\n",
       "<style scoped>\n",
       "    .dataframe tbody tr th:only-of-type {\n",
       "        vertical-align: middle;\n",
       "    }\n",
       "\n",
       "    .dataframe tbody tr th {\n",
       "        vertical-align: top;\n",
       "    }\n",
       "\n",
       "    .dataframe thead th {\n",
       "        text-align: right;\n",
       "    }\n",
       "</style>\n",
       "<table border=\"1\" class=\"dataframe\">\n",
       "  <thead>\n",
       "    <tr style=\"text-align: right;\">\n",
       "      <th></th>\n",
       "      <th>From_ID</th>\n",
       "      <th>To_ID</th>\n",
       "      <th>Source</th>\n",
       "    </tr>\n",
       "  </thead>\n",
       "  <tbody>\n",
       "    <tr>\n",
       "      <th>0</th>\n",
       "      <td>BMG_TS000001</td>\n",
       "      <td>BMG_PT042398</td>\n",
       "      <td>Uniprot;Ensembl</td>\n",
       "    </tr>\n",
       "    <tr>\n",
       "      <th>1</th>\n",
       "      <td>BMG_TS000002</td>\n",
       "      <td>BMG_PT039543</td>\n",
       "      <td>Uniprot;Ensembl</td>\n",
       "    </tr>\n",
       "    <tr>\n",
       "      <th>2</th>\n",
       "      <td>BMG_TS000003</td>\n",
       "      <td>BMG_PT038917</td>\n",
       "      <td>Uniprot;Ensembl</td>\n",
       "    </tr>\n",
       "    <tr>\n",
       "      <th>3</th>\n",
       "      <td>BMG_TS000004</td>\n",
       "      <td>BMG_PT042655</td>\n",
       "      <td>Uniprot;Ensembl</td>\n",
       "    </tr>\n",
       "    <tr>\n",
       "      <th>4</th>\n",
       "      <td>BMG_TS000005</td>\n",
       "      <td>BMG_PT015283</td>\n",
       "      <td>RefSeq</td>\n",
       "    </tr>\n",
       "    <tr>\n",
       "      <th>...</th>\n",
       "      <td>...</td>\n",
       "      <td>...</td>\n",
       "      <td>...</td>\n",
       "    </tr>\n",
       "    <tr>\n",
       "      <th>152580</th>\n",
       "      <td>BMG_TS412170</td>\n",
       "      <td>BMG_PT173974</td>\n",
       "      <td>Ensembl</td>\n",
       "    </tr>\n",
       "    <tr>\n",
       "      <th>152581</th>\n",
       "      <td>BMG_TS412171</td>\n",
       "      <td>BMG_PT173975</td>\n",
       "      <td>Ensembl</td>\n",
       "    </tr>\n",
       "    <tr>\n",
       "      <th>152582</th>\n",
       "      <td>BMG_TS412172</td>\n",
       "      <td>BMG_PT173976</td>\n",
       "      <td>Ensembl</td>\n",
       "    </tr>\n",
       "    <tr>\n",
       "      <th>152583</th>\n",
       "      <td>BMG_TS412303</td>\n",
       "      <td>BMG_PT173977</td>\n",
       "      <td>Ensembl</td>\n",
       "    </tr>\n",
       "    <tr>\n",
       "      <th>152584</th>\n",
       "      <td>BMG_TS412304</td>\n",
       "      <td>BMG_PT173978</td>\n",
       "      <td>Ensembl</td>\n",
       "    </tr>\n",
       "  </tbody>\n",
       "</table>\n",
       "<p>152585 rows × 3 columns</p>\n",
       "</div>"
      ],
      "text/plain": [
       "             From_ID         To_ID           Source\n",
       "0       BMG_TS000001  BMG_PT042398  Uniprot;Ensembl\n",
       "1       BMG_TS000002  BMG_PT039543  Uniprot;Ensembl\n",
       "2       BMG_TS000003  BMG_PT038917  Uniprot;Ensembl\n",
       "3       BMG_TS000004  BMG_PT042655  Uniprot;Ensembl\n",
       "4       BMG_TS000005  BMG_PT015283           RefSeq\n",
       "...              ...           ...              ...\n",
       "152580  BMG_TS412170  BMG_PT173974          Ensembl\n",
       "152581  BMG_TS412171  BMG_PT173975          Ensembl\n",
       "152582  BMG_TS412172  BMG_PT173976          Ensembl\n",
       "152583  BMG_TS412303  BMG_PT173977          Ensembl\n",
       "152584  BMG_TS412304  BMG_PT173978          Ensembl\n",
       "\n",
       "[152585 rows x 3 columns]"
      ]
     },
     "execution_count": 22,
     "metadata": {},
     "output_type": "execute_result"
    }
   ],
   "source": [
    "def merge_string_columns(df, columns, merge_name, separator=';'):\n",
    "    def merge_strings(row):\n",
    "        combined = set()\n",
    "        for column in columns:\n",
    "            if pd.notnull(row[column]):\n",
    "                combined.update(row[column].split(separator))\n",
    "        return separator.join(combined)\n",
    "    \n",
    "    # Apply the function to each row and create a new column\n",
    "    combined_column_name = merge_name\n",
    "    df[combined_column_name] = df.apply(merge_strings, axis=1)\n",
    "    df.drop(columns=columns, inplace=True)\n",
    "    \n",
    "    return df\n",
    "\n",
    "biomedgraphica_transcript_protein = merge_string_columns(biomedgraphica_transcript_protein, ['source1', 'source2', 'source3'], 'Source')\n",
    "biomedgraphica_transcript_protein"
   ]
  },
  {
   "cell_type": "code",
   "execution_count": 23,
   "metadata": {},
   "outputs": [
    {
     "data": {
      "application/vnd.microsoft.datawrangler.viewer.v0+json": {
       "columns": [
        {
         "name": "index",
         "rawType": "int64",
         "type": "integer"
        },
        {
         "name": "BioMedGraphica_ID",
         "rawType": "object",
         "type": "string"
        },
        {
         "name": "From_ID",
         "rawType": "object",
         "type": "string"
        },
        {
         "name": "To_ID",
         "rawType": "object",
         "type": "string"
        },
        {
         "name": "Source",
         "rawType": "object",
         "type": "string"
        },
        {
         "name": "Type",
         "rawType": "object",
         "type": "string"
        }
       ],
       "conversionMethod": "pd.DataFrame",
       "ref": "f4aadda2-a185-4ac6-87cd-683c0072f499",
       "rows": [
        [
         "0",
         "BMG_ED_TSPT000001",
         "BMG_TS000001",
         "BMG_PT042398",
         "Uniprot;Ensembl",
         "Transcript-Protein"
        ],
        [
         "1",
         "BMG_ED_TSPT000002",
         "BMG_TS000002",
         "BMG_PT039543",
         "Uniprot;Ensembl",
         "Transcript-Protein"
        ],
        [
         "2",
         "BMG_ED_TSPT000003",
         "BMG_TS000003",
         "BMG_PT038917",
         "Uniprot;Ensembl",
         "Transcript-Protein"
        ],
        [
         "3",
         "BMG_ED_TSPT000004",
         "BMG_TS000004",
         "BMG_PT042655",
         "Uniprot;Ensembl",
         "Transcript-Protein"
        ],
        [
         "4",
         "BMG_ED_TSPT000005",
         "BMG_TS000005",
         "BMG_PT015283",
         "RefSeq",
         "Transcript-Protein"
        ],
        [
         "5",
         "BMG_ED_TSPT000006",
         "BMG_TS000005",
         "BMG_PT022059",
         "RefSeq",
         "Transcript-Protein"
        ],
        [
         "6",
         "BMG_ED_TSPT000007",
         "BMG_TS000005",
         "BMG_PT022075",
         "RefSeq",
         "Transcript-Protein"
        ],
        [
         "7",
         "BMG_ED_TSPT000008",
         "BMG_TS000005",
         "BMG_PT022162",
         "RefSeq",
         "Transcript-Protein"
        ],
        [
         "8",
         "BMG_ED_TSPT000009",
         "BMG_TS000005",
         "BMG_PT027668",
         "RefSeq",
         "Transcript-Protein"
        ],
        [
         "9",
         "BMG_ED_TSPT000010",
         "BMG_TS000005",
         "BMG_PT048662",
         "RefSeq",
         "Transcript-Protein"
        ],
        [
         "10",
         "BMG_ED_TSPT000011",
         "BMG_TS000005",
         "BMG_PT052324",
         "RefSeq",
         "Transcript-Protein"
        ],
        [
         "11",
         "BMG_ED_TSPT000012",
         "BMG_TS000005",
         "BMG_PT091431",
         "RefSeq",
         "Transcript-Protein"
        ],
        [
         "12",
         "BMG_ED_TSPT000013",
         "BMG_TS000005",
         "BMG_PT091982",
         "RefSeq;Uniprot;Ensembl",
         "Transcript-Protein"
        ],
        [
         "13",
         "BMG_ED_TSPT000014",
         "BMG_TS000006",
         "BMG_PT067096",
         "RefSeq;Uniprot;Ensembl",
         "Transcript-Protein"
        ],
        [
         "14",
         "BMG_ED_TSPT000015",
         "BMG_TS000006",
         "BMG_PT067647",
         "RefSeq",
         "Transcript-Protein"
        ],
        [
         "15",
         "BMG_ED_TSPT000016",
         "BMG_TS000006",
         "BMG_PT094641",
         "RefSeq",
         "Transcript-Protein"
        ],
        [
         "16",
         "BMG_ED_TSPT000017",
         "BMG_TS000007",
         "BMG_PT028793",
         "RefSeq",
         "Transcript-Protein"
        ],
        [
         "17",
         "BMG_ED_TSPT000018",
         "BMG_TS000007",
         "BMG_PT068453",
         "RefSeq",
         "Transcript-Protein"
        ],
        [
         "18",
         "BMG_ED_TSPT000019",
         "BMG_TS000007",
         "BMG_PT068458",
         "RefSeq",
         "Transcript-Protein"
        ],
        [
         "19",
         "BMG_ED_TSPT000020",
         "BMG_TS000007",
         "BMG_PT074463",
         "RefSeq",
         "Transcript-Protein"
        ],
        [
         "20",
         "BMG_ED_TSPT000021",
         "BMG_TS000007",
         "BMG_PT085858",
         "RefSeq;Uniprot;Ensembl",
         "Transcript-Protein"
        ],
        [
         "21",
         "BMG_ED_TSPT000022",
         "BMG_TS000008",
         "BMG_PT090395",
         "Uniprot;Ensembl",
         "Transcript-Protein"
        ],
        [
         "22",
         "BMG_ED_TSPT000023",
         "BMG_TS000009",
         "BMG_PT033650",
         "Uniprot;Ensembl",
         "Transcript-Protein"
        ],
        [
         "23",
         "BMG_ED_TSPT000024",
         "BMG_TS000010",
         "BMG_PT044195",
         "Uniprot;Ensembl",
         "Transcript-Protein"
        ],
        [
         "24",
         "BMG_ED_TSPT000025",
         "BMG_TS000011",
         "BMG_PT039036",
         "RefSeq;Uniprot;Ensembl",
         "Transcript-Protein"
        ],
        [
         "25",
         "BMG_ED_TSPT000026",
         "BMG_TS000011",
         "BMG_PT047367",
         "RefSeq",
         "Transcript-Protein"
        ],
        [
         "26",
         "BMG_ED_TSPT000027",
         "BMG_TS000011",
         "BMG_PT047369",
         "RefSeq",
         "Transcript-Protein"
        ],
        [
         "27",
         "BMG_ED_TSPT000028",
         "BMG_TS000011",
         "BMG_PT047630",
         "RefSeq",
         "Transcript-Protein"
        ],
        [
         "28",
         "BMG_ED_TSPT000029",
         "BMG_TS000011",
         "BMG_PT047633",
         "RefSeq",
         "Transcript-Protein"
        ],
        [
         "29",
         "BMG_ED_TSPT000030",
         "BMG_TS000012",
         "BMG_PT002124",
         "RefSeq",
         "Transcript-Protein"
        ],
        [
         "30",
         "BMG_ED_TSPT000031",
         "BMG_TS000012",
         "BMG_PT008442",
         "RefSeq",
         "Transcript-Protein"
        ],
        [
         "31",
         "BMG_ED_TSPT000032",
         "BMG_TS000012",
         "BMG_PT015608",
         "RefSeq",
         "Transcript-Protein"
        ],
        [
         "32",
         "BMG_ED_TSPT000033",
         "BMG_TS000012",
         "BMG_PT018978",
         "RefSeq",
         "Transcript-Protein"
        ],
        [
         "33",
         "BMG_ED_TSPT000034",
         "BMG_TS000012",
         "BMG_PT033360",
         "RefSeq",
         "Transcript-Protein"
        ],
        [
         "34",
         "BMG_ED_TSPT000035",
         "BMG_TS000012",
         "BMG_PT033362",
         "RefSeq",
         "Transcript-Protein"
        ],
        [
         "35",
         "BMG_ED_TSPT000036",
         "BMG_TS000012",
         "BMG_PT046862",
         "RefSeq",
         "Transcript-Protein"
        ],
        [
         "36",
         "BMG_ED_TSPT000037",
         "BMG_TS000012",
         "BMG_PT046919",
         "RefSeq;Uniprot;Ensembl",
         "Transcript-Protein"
        ],
        [
         "37",
         "BMG_ED_TSPT000038",
         "BMG_TS000012",
         "BMG_PT072127",
         "RefSeq",
         "Transcript-Protein"
        ],
        [
         "38",
         "BMG_ED_TSPT000039",
         "BMG_TS000012",
         "BMG_PT084703",
         "RefSeq",
         "Transcript-Protein"
        ],
        [
         "39",
         "BMG_ED_TSPT000040",
         "BMG_TS000013",
         "BMG_PT083888",
         "Uniprot;Ensembl",
         "Transcript-Protein"
        ],
        [
         "40",
         "BMG_ED_TSPT000041",
         "BMG_TS000014",
         "BMG_PT057712",
         "Uniprot;Ensembl",
         "Transcript-Protein"
        ],
        [
         "41",
         "BMG_ED_TSPT000042",
         "BMG_TS000015",
         "BMG_PT063469",
         "Uniprot;Ensembl",
         "Transcript-Protein"
        ],
        [
         "42",
         "BMG_ED_TSPT000043",
         "BMG_TS000016",
         "BMG_PT081498",
         "Uniprot;Ensembl",
         "Transcript-Protein"
        ],
        [
         "43",
         "BMG_ED_TSPT000044",
         "BMG_TS000017",
         "BMG_PT041340",
         "Uniprot;Ensembl",
         "Transcript-Protein"
        ],
        [
         "44",
         "BMG_ED_TSPT000045",
         "BMG_TS000018",
         "BMG_PT033449",
         "RefSeq",
         "Transcript-Protein"
        ],
        [
         "45",
         "BMG_ED_TSPT000046",
         "BMG_TS000018",
         "BMG_PT033455",
         "RefSeq;Uniprot;Ensembl",
         "Transcript-Protein"
        ],
        [
         "46",
         "BMG_ED_TSPT000047",
         "BMG_TS000018",
         "BMG_PT062901",
         "RefSeq",
         "Transcript-Protein"
        ],
        [
         "47",
         "BMG_ED_TSPT000048",
         "BMG_TS000018",
         "BMG_PT082711",
         "RefSeq",
         "Transcript-Protein"
        ],
        [
         "48",
         "BMG_ED_TSPT000049",
         "BMG_TS000018",
         "BMG_PT100694",
         "RefSeq",
         "Transcript-Protein"
        ],
        [
         "49",
         "BMG_ED_TSPT000050",
         "BMG_TS000019",
         "BMG_PT033508",
         "Uniprot;Ensembl",
         "Transcript-Protein"
        ]
       ],
       "shape": {
        "columns": 5,
        "rows": 152585
       }
      },
      "text/html": [
       "<div>\n",
       "<style scoped>\n",
       "    .dataframe tbody tr th:only-of-type {\n",
       "        vertical-align: middle;\n",
       "    }\n",
       "\n",
       "    .dataframe tbody tr th {\n",
       "        vertical-align: top;\n",
       "    }\n",
       "\n",
       "    .dataframe thead th {\n",
       "        text-align: right;\n",
       "    }\n",
       "</style>\n",
       "<table border=\"1\" class=\"dataframe\">\n",
       "  <thead>\n",
       "    <tr style=\"text-align: right;\">\n",
       "      <th></th>\n",
       "      <th>BioMedGraphica_ID</th>\n",
       "      <th>From_ID</th>\n",
       "      <th>To_ID</th>\n",
       "      <th>Source</th>\n",
       "      <th>Type</th>\n",
       "    </tr>\n",
       "  </thead>\n",
       "  <tbody>\n",
       "    <tr>\n",
       "      <th>0</th>\n",
       "      <td>BMG_ED_TSPT000001</td>\n",
       "      <td>BMG_TS000001</td>\n",
       "      <td>BMG_PT042398</td>\n",
       "      <td>Uniprot;Ensembl</td>\n",
       "      <td>Transcript-Protein</td>\n",
       "    </tr>\n",
       "    <tr>\n",
       "      <th>1</th>\n",
       "      <td>BMG_ED_TSPT000002</td>\n",
       "      <td>BMG_TS000002</td>\n",
       "      <td>BMG_PT039543</td>\n",
       "      <td>Uniprot;Ensembl</td>\n",
       "      <td>Transcript-Protein</td>\n",
       "    </tr>\n",
       "    <tr>\n",
       "      <th>2</th>\n",
       "      <td>BMG_ED_TSPT000003</td>\n",
       "      <td>BMG_TS000003</td>\n",
       "      <td>BMG_PT038917</td>\n",
       "      <td>Uniprot;Ensembl</td>\n",
       "      <td>Transcript-Protein</td>\n",
       "    </tr>\n",
       "    <tr>\n",
       "      <th>3</th>\n",
       "      <td>BMG_ED_TSPT000004</td>\n",
       "      <td>BMG_TS000004</td>\n",
       "      <td>BMG_PT042655</td>\n",
       "      <td>Uniprot;Ensembl</td>\n",
       "      <td>Transcript-Protein</td>\n",
       "    </tr>\n",
       "    <tr>\n",
       "      <th>4</th>\n",
       "      <td>BMG_ED_TSPT000005</td>\n",
       "      <td>BMG_TS000005</td>\n",
       "      <td>BMG_PT015283</td>\n",
       "      <td>RefSeq</td>\n",
       "      <td>Transcript-Protein</td>\n",
       "    </tr>\n",
       "    <tr>\n",
       "      <th>...</th>\n",
       "      <td>...</td>\n",
       "      <td>...</td>\n",
       "      <td>...</td>\n",
       "      <td>...</td>\n",
       "      <td>...</td>\n",
       "    </tr>\n",
       "    <tr>\n",
       "      <th>152580</th>\n",
       "      <td>BMG_ED_TSPT152581</td>\n",
       "      <td>BMG_TS412170</td>\n",
       "      <td>BMG_PT173974</td>\n",
       "      <td>Ensembl</td>\n",
       "      <td>Transcript-Protein</td>\n",
       "    </tr>\n",
       "    <tr>\n",
       "      <th>152581</th>\n",
       "      <td>BMG_ED_TSPT152582</td>\n",
       "      <td>BMG_TS412171</td>\n",
       "      <td>BMG_PT173975</td>\n",
       "      <td>Ensembl</td>\n",
       "      <td>Transcript-Protein</td>\n",
       "    </tr>\n",
       "    <tr>\n",
       "      <th>152582</th>\n",
       "      <td>BMG_ED_TSPT152583</td>\n",
       "      <td>BMG_TS412172</td>\n",
       "      <td>BMG_PT173976</td>\n",
       "      <td>Ensembl</td>\n",
       "      <td>Transcript-Protein</td>\n",
       "    </tr>\n",
       "    <tr>\n",
       "      <th>152583</th>\n",
       "      <td>BMG_ED_TSPT152584</td>\n",
       "      <td>BMG_TS412303</td>\n",
       "      <td>BMG_PT173977</td>\n",
       "      <td>Ensembl</td>\n",
       "      <td>Transcript-Protein</td>\n",
       "    </tr>\n",
       "    <tr>\n",
       "      <th>152584</th>\n",
       "      <td>BMG_ED_TSPT152585</td>\n",
       "      <td>BMG_TS412304</td>\n",
       "      <td>BMG_PT173978</td>\n",
       "      <td>Ensembl</td>\n",
       "      <td>Transcript-Protein</td>\n",
       "    </tr>\n",
       "  </tbody>\n",
       "</table>\n",
       "<p>152585 rows × 5 columns</p>\n",
       "</div>"
      ],
      "text/plain": [
       "        BioMedGraphica_ID       From_ID         To_ID           Source  \\\n",
       "0       BMG_ED_TSPT000001  BMG_TS000001  BMG_PT042398  Uniprot;Ensembl   \n",
       "1       BMG_ED_TSPT000002  BMG_TS000002  BMG_PT039543  Uniprot;Ensembl   \n",
       "2       BMG_ED_TSPT000003  BMG_TS000003  BMG_PT038917  Uniprot;Ensembl   \n",
       "3       BMG_ED_TSPT000004  BMG_TS000004  BMG_PT042655  Uniprot;Ensembl   \n",
       "4       BMG_ED_TSPT000005  BMG_TS000005  BMG_PT015283           RefSeq   \n",
       "...                   ...           ...           ...              ...   \n",
       "152580  BMG_ED_TSPT152581  BMG_TS412170  BMG_PT173974          Ensembl   \n",
       "152581  BMG_ED_TSPT152582  BMG_TS412171  BMG_PT173975          Ensembl   \n",
       "152582  BMG_ED_TSPT152583  BMG_TS412172  BMG_PT173976          Ensembl   \n",
       "152583  BMG_ED_TSPT152584  BMG_TS412303  BMG_PT173977          Ensembl   \n",
       "152584  BMG_ED_TSPT152585  BMG_TS412304  BMG_PT173978          Ensembl   \n",
       "\n",
       "                      Type  \n",
       "0       Transcript-Protein  \n",
       "1       Transcript-Protein  \n",
       "2       Transcript-Protein  \n",
       "3       Transcript-Protein  \n",
       "4       Transcript-Protein  \n",
       "...                    ...  \n",
       "152580  Transcript-Protein  \n",
       "152581  Transcript-Protein  \n",
       "152582  Transcript-Protein  \n",
       "152583  Transcript-Protein  \n",
       "152584  Transcript-Protein  \n",
       "\n",
       "[152585 rows x 5 columns]"
      ]
     },
     "execution_count": 23,
     "metadata": {},
     "output_type": "execute_result"
    }
   ],
   "source": [
    "biomedgraphica_transcript_protein['Type'] = 'Transcript-Protein'\n",
    "max_length = len(str(len(biomedgraphica_transcript_protein)))\n",
    "biomedgraphica_transcript_protein['BioMedGraphica_ID'] = ['BMG_ED_TSPT' + str(i).zfill(max_length) for i in range(1, len(biomedgraphica_transcript_protein) + 1)]\n",
    "columns = ['BioMedGraphica_ID'] + [col for col in biomedgraphica_transcript_protein.columns if col != 'BioMedGraphica_ID']  # re-order columns\n",
    "biomedgraphica_transcript_protein = biomedgraphica_transcript_protein[columns]\n",
    "biomedgraphica_transcript_protein"
   ]
  },
  {
   "cell_type": "code",
   "execution_count": 24,
   "metadata": {},
   "outputs": [
    {
     "name": "stdout",
     "output_type": "stream",
     "text": [
      "Data has been saved to D:\\RA\\BMG\\BioMedGraphica\\Relation\\Transcript-Protein\\BioMedGraphica_Transcript_Protein.csv\n"
     ]
    }
   ],
   "source": [
    "import os\n",
    "from pathlib import Path\n",
    "\n",
    "# get the current working directory\n",
    "current_working_dir = Path(os.getcwd()).resolve()\n",
    "\n",
    "# get the output directory\n",
    "grandparent_dir = current_working_dir.parent.parent.parent\n",
    "\n",
    "target_folder = grandparent_dir / 'BioMedGraphica' / 'Relation' / 'Transcript-Protein'\n",
    "if not target_folder.exists():\n",
    "    target_folder.mkdir(parents=True)\n",
    "    print(f\"Folder {target_folder} has been created.\")\n",
    "\n",
    "output_file_path = target_folder / 'BioMedGraphica_Transcript_Protein.csv'\n",
    "biomedgraphica_transcript_protein.to_csv(output_file_path, index=False)\n",
    "print(f\"Data has been saved to {output_file_path}\")"
   ]
  }
 ],
 "metadata": {
  "kernelspec": {
   "display_name": "base",
   "language": "python",
   "name": "python3"
  },
  "language_info": {
   "codemirror_mode": {
    "name": "ipython",
    "version": 3
   },
   "file_extension": ".py",
   "mimetype": "text/x-python",
   "name": "python",
   "nbconvert_exporter": "python",
   "pygments_lexer": "ipython3",
   "version": "3.9.19"
  }
 },
 "nbformat": 4,
 "nbformat_minor": 2
}
