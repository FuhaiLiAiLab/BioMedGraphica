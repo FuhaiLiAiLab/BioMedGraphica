{
 "cells": [
  {
   "cell_type": "markdown",
   "metadata": {},
   "source": [
    "### HMDB"
   ]
  },
  {
   "cell_type": "code",
   "execution_count": null,
   "metadata": {},
   "outputs": [],
   "source": [
    "# Download Link: https://www.hmdb.ca/downloads#\n",
    "# Download Date: 2025-03-21\n",
    "# Download Version: 2021-11-17\n",
    "\n",
    "import xml.etree.ElementTree as ET\n",
    "import pandas as pd\n",
    "\n",
    "context = ET.iterparse('hmdb_metabolites.xml', events=('start', 'end'))\n",
    "context = iter(context)\n",
    "\n",
    "event, root = next(context)\n",
    "\n",
    "namespace = {'hmdb': 'http://www.hmdb.ca'}\n",
    "\n",
    "metabolites = []\n",
    "\n",
    "for event, elem in context:\n",
    "    if event == 'end' and elem.tag == '{http://www.hmdb.ca}metabolite':\n",
    "        accession = elem.find('hmdb:accession', namespace).text\n",
    "        \n",
    "        drugbank_id = elem.find('hmdb:drugbank_id', namespace).text if elem.find('hmdb:drugbank_id', namespace) is not None else None\n",
    "        \n",
    "        metabolites.append({\n",
    "            'accession': accession,\n",
    "            'drugbank_id': drugbank_id\n",
    "        })\n",
    "\n",
    "        elem.clear()\n",
    "\n",
    "hmdb_drug = pd.DataFrame(metabolites)\n",
    "\n",
    "hmdb_drug.to_csv('hmdb_drug.csv', index=False)\n",
    "\n",
    "print(\"Data has been saved to hmdb_drug.csv\")"
   ]
  },
  {
   "cell_type": "code",
   "execution_count": 3,
   "metadata": {},
   "outputs": [
    {
     "data": {
      "application/vnd.microsoft.datawrangler.viewer.v0+json": {
       "columns": [
        {
         "name": "index",
         "rawType": "int64",
         "type": "integer"
        },
        {
         "name": "accession",
         "rawType": "object",
         "type": "string"
        },
        {
         "name": "drugbank_id",
         "rawType": "object",
         "type": "string"
        }
       ],
       "conversionMethod": "pd.DataFrame",
       "ref": "0abf904f-72a5-473d-80a1-72d7d032e96a",
       "rows": [
        [
         "0",
         "HMDB0000001",
         "DB04151"
        ],
        [
         "2",
         "HMDB0000005",
         "DB04553"
        ],
        [
         "6",
         "HMDB0000012",
         "DB02256"
        ],
        [
         "7",
         "HMDB0000014",
         "DB02594"
        ],
        [
         "11",
         "HMDB0000019",
         "DB04074"
        ],
        [
         "13",
         "HMDB0000021",
         "DB01758"
        ],
        [
         "18",
         "HMDB0000027",
         "DB00360"
        ],
        [
         "19",
         "HMDB0000030",
         "DB00121"
        ],
        [
         "22",
         "HMDB0000033",
         "DB11695"
        ],
        [
         "23",
         "HMDB0000034",
         "DB00173"
        ],
        [
         "24",
         "HMDB0000036",
         "DB04348"
        ],
        [
         "25",
         "HMDB0000037",
         "DB04630"
        ],
        [
         "26",
         "HMDB0000038",
         "DB04400"
        ],
        [
         "27",
         "HMDB0000039",
         "DB03568"
        ],
        [
         "28",
         "HMDB0000042",
         "DB03166"
        ],
        [
         "29",
         "HMDB0000043",
         "DB04455"
        ],
        [
         "30",
         "HMDB0000044",
         "DB00126"
        ],
        [
         "31",
         "HMDB0000045",
         "DB00131"
        ],
        [
         "33",
         "HMDB0000050",
         "DB00640"
        ],
        [
         "34",
         "HMDB0000051",
         "DBMET01482"
        ],
        [
         "36",
         "HMDB0000053",
         "DB01536"
        ],
        [
         "39",
         "HMDB0000056",
         "DB03107"
        ],
        [
         "40",
         "HMDB0000058",
         "DB02527"
        ],
        [
         "41",
         "HMDB0000060",
         "DB01762"
        ],
        [
         "42",
         "HMDB0000061",
         "DB01812"
        ],
        [
         "43",
         "HMDB0000062",
         "DB00583"
        ],
        [
         "44",
         "HMDB0000063",
         "DB00741"
        ],
        [
         "45",
         "HMDB0000064",
         "DB00148"
        ],
        [
         "46",
         "HMDB0000067",
         "DB04540"
        ],
        [
         "47",
         "HMDB0000068",
         "DB00668"
        ],
        [
         "49",
         "HMDB0000071",
         "DB02380"
        ],
        [
         "51",
         "HMDB0000073",
         "DB00988"
        ],
        [
         "52",
         "HMDB0000076",
         "DB01849"
        ],
        [
         "53",
         "HMDB0000077",
         "DB01708"
        ],
        [
         "56",
         "HMDB0000082",
         "DB02431"
        ],
        [
         "58",
         "HMDB0000086",
         "DB04660"
        ],
        [
         "60",
         "HMDB0000089",
         "DB02097"
        ],
        [
         "61",
         "HMDB0000092",
         "DB02083"
        ],
        [
         "62",
         "HMDB0000094",
         "DB04272"
        ],
        [
         "63",
         "HMDB0000095",
         "DB03403"
        ],
        [
         "64",
         "HMDB0000097",
         "DB00122"
        ],
        [
         "69",
         "HMDB0000108",
         "DB00898"
        ],
        [
         "70",
         "HMDB0000112",
         "DB02530"
        ],
        [
         "72",
         "HMDB0000115",
         "DB03085"
        ],
        [
         "74",
         "HMDB0000119",
         "DB04343"
        ],
        [
         "75",
         "HMDB0000121",
         "DB00158"
        ],
        [
         "76",
         "HMDB0000122",
         "DB02379"
        ],
        [
         "77",
         "HMDB0000123",
         "DB00145"
        ],
        [
         "78",
         "HMDB0000124",
         "DB04493"
        ],
        [
         "79",
         "HMDB0000125",
         "DB00143"
        ]
       ],
       "shape": {
        "columns": 2,
        "rows": 3258
       }
      },
      "text/html": [
       "<div>\n",
       "<style scoped>\n",
       "    .dataframe tbody tr th:only-of-type {\n",
       "        vertical-align: middle;\n",
       "    }\n",
       "\n",
       "    .dataframe tbody tr th {\n",
       "        vertical-align: top;\n",
       "    }\n",
       "\n",
       "    .dataframe thead th {\n",
       "        text-align: right;\n",
       "    }\n",
       "</style>\n",
       "<table border=\"1\" class=\"dataframe\">\n",
       "  <thead>\n",
       "    <tr style=\"text-align: right;\">\n",
       "      <th></th>\n",
       "      <th>accession</th>\n",
       "      <th>drugbank_id</th>\n",
       "    </tr>\n",
       "  </thead>\n",
       "  <tbody>\n",
       "    <tr>\n",
       "      <th>0</th>\n",
       "      <td>HMDB0000001</td>\n",
       "      <td>DB04151</td>\n",
       "    </tr>\n",
       "    <tr>\n",
       "      <th>2</th>\n",
       "      <td>HMDB0000005</td>\n",
       "      <td>DB04553</td>\n",
       "    </tr>\n",
       "    <tr>\n",
       "      <th>6</th>\n",
       "      <td>HMDB0000012</td>\n",
       "      <td>DB02256</td>\n",
       "    </tr>\n",
       "    <tr>\n",
       "      <th>7</th>\n",
       "      <td>HMDB0000014</td>\n",
       "      <td>DB02594</td>\n",
       "    </tr>\n",
       "    <tr>\n",
       "      <th>11</th>\n",
       "      <td>HMDB0000019</td>\n",
       "      <td>DB04074</td>\n",
       "    </tr>\n",
       "    <tr>\n",
       "      <th>...</th>\n",
       "      <td>...</td>\n",
       "      <td>...</td>\n",
       "    </tr>\n",
       "    <tr>\n",
       "      <th>217869</th>\n",
       "      <td>HMDB0304897</td>\n",
       "      <td>DB11855</td>\n",
       "    </tr>\n",
       "    <tr>\n",
       "      <th>217870</th>\n",
       "      <td>HMDB0304898</td>\n",
       "      <td>DB13985</td>\n",
       "    </tr>\n",
       "    <tr>\n",
       "      <th>217872</th>\n",
       "      <td>HMDB0304900</td>\n",
       "      <td>DB15873</td>\n",
       "    </tr>\n",
       "    <tr>\n",
       "      <th>217873</th>\n",
       "      <td>HMDB0304901</td>\n",
       "      <td>DB14914</td>\n",
       "    </tr>\n",
       "    <tr>\n",
       "      <th>217919</th>\n",
       "      <td>HMDB0304954</td>\n",
       "      <td>DB03815</td>\n",
       "    </tr>\n",
       "  </tbody>\n",
       "</table>\n",
       "<p>3258 rows × 2 columns</p>\n",
       "</div>"
      ],
      "text/plain": [
       "          accession drugbank_id\n",
       "0       HMDB0000001     DB04151\n",
       "2       HMDB0000005     DB04553\n",
       "6       HMDB0000012     DB02256\n",
       "7       HMDB0000014     DB02594\n",
       "11      HMDB0000019     DB04074\n",
       "...             ...         ...\n",
       "217869  HMDB0304897     DB11855\n",
       "217870  HMDB0304898     DB13985\n",
       "217872  HMDB0304900     DB15873\n",
       "217873  HMDB0304901     DB14914\n",
       "217919  HMDB0304954     DB03815\n",
       "\n",
       "[3258 rows x 2 columns]"
      ]
     },
     "execution_count": 3,
     "metadata": {},
     "output_type": "execute_result"
    }
   ],
   "source": [
    "import pandas as pd\n",
    "\n",
    "hmdb_drug = pd.read_csv('hmdb_drug.csv')\n",
    "hmdb_drug.dropna(subset=['drugbank_id'], inplace=True)\n",
    "hmdb_drug.dropna(subset=['accession'], inplace=True)\n",
    "hmdb_drug"
   ]
  },
  {
   "cell_type": "markdown",
   "metadata": {},
   "source": [
    "### BioMedGraphica ID"
   ]
  },
  {
   "cell_type": "code",
   "execution_count": 4,
   "metadata": {},
   "outputs": [],
   "source": [
    "import pandas as pd\n",
    "import os\n",
    "from pathlib import Path\n",
    "\n",
    "current_working_dir = Path(os.getcwd()).resolve()\n",
    "grandparent_dir = current_working_dir.parent.parent.parent\n",
    "target_dir_metabolite = grandparent_dir / 'BioMedGraphica' / 'Entity' / 'Metabolite' / 'BioMedGraphica_Metabolite.csv'\n",
    "target_dir_drug = grandparent_dir / 'BioMedGraphica' / 'Entity' / 'Drug' / 'BioMedGraphica_Drug.csv'\n",
    "biomedgraphica_metabolite = pd.read_csv(target_dir_metabolite, dtype=str)\n",
    "biomedgraphica_drug = pd.read_csv(target_dir_drug, dtype=str)"
   ]
  },
  {
   "cell_type": "markdown",
   "metadata": {},
   "source": [
    "### HMDB Mapping"
   ]
  },
  {
   "cell_type": "code",
   "execution_count": 5,
   "metadata": {},
   "outputs": [
    {
     "name": "stderr",
     "output_type": "stream",
     "text": [
      "C:\\Users\\shunn\\AppData\\Local\\Temp\\ipykernel_25472\\3202891195.py:2: SettingWithCopyWarning: \n",
      "A value is trying to be set on a copy of a slice from a DataFrame\n",
      "\n",
      "See the caveats in the documentation: https://pandas.pydata.org/pandas-docs/stable/user_guide/indexing.html#returning-a-view-versus-a-copy\n",
      "  hmdb_biomedgraphica.dropna(subset=['HMDB_ID'], inplace=True)\n"
     ]
    },
    {
     "data": {
      "application/vnd.microsoft.datawrangler.viewer.v0+json": {
       "columns": [
        {
         "name": "index",
         "rawType": "int64",
         "type": "integer"
        },
        {
         "name": "accession",
         "rawType": "object",
         "type": "string"
        },
        {
         "name": "drugbank_id",
         "rawType": "object",
         "type": "string"
        },
        {
         "name": "To_ID",
         "rawType": "object",
         "type": "string"
        }
       ],
       "conversionMethod": "pd.DataFrame",
       "ref": "9f031fe4-371d-4372-8520-f4dd74371482",
       "rows": [
        [
         "0",
         "HMDB0000001",
         "DB04151",
         "BMG_MT000001"
        ],
        [
         "2",
         "HMDB0000005",
         "DB04553",
         "BMG_MT000003"
        ],
        [
         "6",
         "HMDB0000012",
         "DB02256",
         "BMG_MT000007"
        ],
        [
         "7",
         "HMDB0000014",
         "DB02594",
         "BMG_MT000008"
        ],
        [
         "11",
         "HMDB0000019",
         "DB04074",
         "BMG_MT000012"
        ]
       ],
       "shape": {
        "columns": 3,
        "rows": 5
       }
      },
      "text/html": [
       "<div>\n",
       "<style scoped>\n",
       "    .dataframe tbody tr th:only-of-type {\n",
       "        vertical-align: middle;\n",
       "    }\n",
       "\n",
       "    .dataframe tbody tr th {\n",
       "        vertical-align: top;\n",
       "    }\n",
       "\n",
       "    .dataframe thead th {\n",
       "        text-align: right;\n",
       "    }\n",
       "</style>\n",
       "<table border=\"1\" class=\"dataframe\">\n",
       "  <thead>\n",
       "    <tr style=\"text-align: right;\">\n",
       "      <th></th>\n",
       "      <th>accession</th>\n",
       "      <th>drugbank_id</th>\n",
       "      <th>To_ID</th>\n",
       "    </tr>\n",
       "  </thead>\n",
       "  <tbody>\n",
       "    <tr>\n",
       "      <th>0</th>\n",
       "      <td>HMDB0000001</td>\n",
       "      <td>DB04151</td>\n",
       "      <td>BMG_MT000001</td>\n",
       "    </tr>\n",
       "    <tr>\n",
       "      <th>2</th>\n",
       "      <td>HMDB0000005</td>\n",
       "      <td>DB04553</td>\n",
       "      <td>BMG_MT000003</td>\n",
       "    </tr>\n",
       "    <tr>\n",
       "      <th>6</th>\n",
       "      <td>HMDB0000012</td>\n",
       "      <td>DB02256</td>\n",
       "      <td>BMG_MT000007</td>\n",
       "    </tr>\n",
       "    <tr>\n",
       "      <th>7</th>\n",
       "      <td>HMDB0000014</td>\n",
       "      <td>DB02594</td>\n",
       "      <td>BMG_MT000008</td>\n",
       "    </tr>\n",
       "    <tr>\n",
       "      <th>11</th>\n",
       "      <td>HMDB0000019</td>\n",
       "      <td>DB04074</td>\n",
       "      <td>BMG_MT000012</td>\n",
       "    </tr>\n",
       "  </tbody>\n",
       "</table>\n",
       "</div>"
      ],
      "text/plain": [
       "      accession drugbank_id         To_ID\n",
       "0   HMDB0000001     DB04151  BMG_MT000001\n",
       "2   HMDB0000005     DB04553  BMG_MT000003\n",
       "6   HMDB0000012     DB02256  BMG_MT000007\n",
       "7   HMDB0000014     DB02594  BMG_MT000008\n",
       "11  HMDB0000019     DB04074  BMG_MT000012"
      ]
     },
     "execution_count": 5,
     "metadata": {},
     "output_type": "execute_result"
    }
   ],
   "source": [
    "hmdb_biomedgraphica = biomedgraphica_metabolite[['BioMedGraphica_ID', 'HMDB_ID']]\n",
    "hmdb_biomedgraphica.dropna(subset=['HMDB_ID'], inplace=True)\n",
    "hmdb_biomedgraphica = hmdb_biomedgraphica.assign(HMDB_ID=hmdb_biomedgraphica['HMDB_ID'].str.split(';')).explode('HMDB_ID')\n",
    "\n",
    "hmdb_to_individualID = hmdb_biomedgraphica.groupby('HMDB_ID')['BioMedGraphica_ID'].apply(lambda x: ';'.join(x.dropna().unique())).to_dict()\n",
    "\n",
    "hmdb_drug['To_ID'] = hmdb_drug['accession'].map(hmdb_to_individualID)\n",
    "hmdb_drug.head()"
   ]
  },
  {
   "cell_type": "code",
   "execution_count": 6,
   "metadata": {},
   "outputs": [
    {
     "name": "stderr",
     "output_type": "stream",
     "text": [
      "C:\\Users\\shunn\\AppData\\Local\\Temp\\ipykernel_25472\\2895508366.py:2: SettingWithCopyWarning: \n",
      "A value is trying to be set on a copy of a slice from a DataFrame\n",
      "\n",
      "See the caveats in the documentation: https://pandas.pydata.org/pandas-docs/stable/user_guide/indexing.html#returning-a-view-versus-a-copy\n",
      "  drugbank_biomedgraphica.dropna(subset=['DrugBank_ID'], inplace=True)\n"
     ]
    },
    {
     "data": {
      "application/vnd.microsoft.datawrangler.viewer.v0+json": {
       "columns": [
        {
         "name": "index",
         "rawType": "int64",
         "type": "integer"
        },
        {
         "name": "accession",
         "rawType": "object",
         "type": "string"
        },
        {
         "name": "drugbank_id",
         "rawType": "object",
         "type": "string"
        },
        {
         "name": "To_ID",
         "rawType": "object",
         "type": "string"
        },
        {
         "name": "From_ID",
         "rawType": "object",
         "type": "string"
        }
       ],
       "conversionMethod": "pd.DataFrame",
       "ref": "d384e769-52e7-472f-85e1-2a8d74bfa165",
       "rows": [
        [
         "0",
         "HMDB0000001",
         "DB04151",
         "BMG_MT000001",
         "BMG_DG211518"
        ],
        [
         "2",
         "HMDB0000005",
         "DB04553",
         "BMG_MT000003",
         "BMG_DG169584"
        ],
        [
         "6",
         "HMDB0000012",
         "DB02256",
         "BMG_MT000007",
         "BMG_DG085197"
        ],
        [
         "7",
         "HMDB0000014",
         "DB02594",
         "BMG_MT000008",
         "BMG_DG085194"
        ],
        [
         "11",
         "HMDB0000019",
         "DB04074",
         "BMG_MT000012",
         "BMG_DG150709"
        ]
       ],
       "shape": {
        "columns": 4,
        "rows": 5
       }
      },
      "text/html": [
       "<div>\n",
       "<style scoped>\n",
       "    .dataframe tbody tr th:only-of-type {\n",
       "        vertical-align: middle;\n",
       "    }\n",
       "\n",
       "    .dataframe tbody tr th {\n",
       "        vertical-align: top;\n",
       "    }\n",
       "\n",
       "    .dataframe thead th {\n",
       "        text-align: right;\n",
       "    }\n",
       "</style>\n",
       "<table border=\"1\" class=\"dataframe\">\n",
       "  <thead>\n",
       "    <tr style=\"text-align: right;\">\n",
       "      <th></th>\n",
       "      <th>accession</th>\n",
       "      <th>drugbank_id</th>\n",
       "      <th>To_ID</th>\n",
       "      <th>From_ID</th>\n",
       "    </tr>\n",
       "  </thead>\n",
       "  <tbody>\n",
       "    <tr>\n",
       "      <th>0</th>\n",
       "      <td>HMDB0000001</td>\n",
       "      <td>DB04151</td>\n",
       "      <td>BMG_MT000001</td>\n",
       "      <td>BMG_DG211518</td>\n",
       "    </tr>\n",
       "    <tr>\n",
       "      <th>2</th>\n",
       "      <td>HMDB0000005</td>\n",
       "      <td>DB04553</td>\n",
       "      <td>BMG_MT000003</td>\n",
       "      <td>BMG_DG169584</td>\n",
       "    </tr>\n",
       "    <tr>\n",
       "      <th>6</th>\n",
       "      <td>HMDB0000012</td>\n",
       "      <td>DB02256</td>\n",
       "      <td>BMG_MT000007</td>\n",
       "      <td>BMG_DG085197</td>\n",
       "    </tr>\n",
       "    <tr>\n",
       "      <th>7</th>\n",
       "      <td>HMDB0000014</td>\n",
       "      <td>DB02594</td>\n",
       "      <td>BMG_MT000008</td>\n",
       "      <td>BMG_DG085194</td>\n",
       "    </tr>\n",
       "    <tr>\n",
       "      <th>11</th>\n",
       "      <td>HMDB0000019</td>\n",
       "      <td>DB04074</td>\n",
       "      <td>BMG_MT000012</td>\n",
       "      <td>BMG_DG150709</td>\n",
       "    </tr>\n",
       "  </tbody>\n",
       "</table>\n",
       "</div>"
      ],
      "text/plain": [
       "      accession drugbank_id         To_ID       From_ID\n",
       "0   HMDB0000001     DB04151  BMG_MT000001  BMG_DG211518\n",
       "2   HMDB0000005     DB04553  BMG_MT000003  BMG_DG169584\n",
       "6   HMDB0000012     DB02256  BMG_MT000007  BMG_DG085197\n",
       "7   HMDB0000014     DB02594  BMG_MT000008  BMG_DG085194\n",
       "11  HMDB0000019     DB04074  BMG_MT000012  BMG_DG150709"
      ]
     },
     "execution_count": 6,
     "metadata": {},
     "output_type": "execute_result"
    }
   ],
   "source": [
    "drugbank_biomedgraphica = biomedgraphica_drug[['DrugBank_ID', 'BioMedGraphica_ID']]\n",
    "drugbank_biomedgraphica.dropna(subset=['DrugBank_ID'], inplace=True)\n",
    "drugbank_biomedgraphica = drugbank_biomedgraphica.assign(DrugBank_ID=drugbank_biomedgraphica['DrugBank_ID'].str.split(';')).explode('DrugBank_ID')\n",
    "\n",
    "drugbank_to_individualID = drugbank_biomedgraphica.groupby('DrugBank_ID')['BioMedGraphica_ID'].apply(lambda x: ';'.join(x.dropna().unique())).to_dict()\n",
    "hmdb_drug['From_ID'] = hmdb_drug['drugbank_id'].map(drugbank_to_individualID)\n",
    "hmdb_drug.head()"
   ]
  },
  {
   "cell_type": "code",
   "execution_count": 7,
   "metadata": {},
   "outputs": [
    {
     "name": "stderr",
     "output_type": "stream",
     "text": [
      "C:\\Users\\shunn\\AppData\\Local\\Temp\\ipykernel_25472\\4061871629.py:2: SettingWithCopyWarning: \n",
      "A value is trying to be set on a copy of a slice from a DataFrame\n",
      "\n",
      "See the caveats in the documentation: https://pandas.pydata.org/pandas-docs/stable/user_guide/indexing.html#returning-a-view-versus-a-copy\n",
      "  hmdb_drug.dropna(subset=['From_ID'], inplace=True)\n",
      "C:\\Users\\shunn\\AppData\\Local\\Temp\\ipykernel_25472\\4061871629.py:3: SettingWithCopyWarning: \n",
      "A value is trying to be set on a copy of a slice from a DataFrame\n",
      "\n",
      "See the caveats in the documentation: https://pandas.pydata.org/pandas-docs/stable/user_guide/indexing.html#returning-a-view-versus-a-copy\n",
      "  hmdb_drug.dropna(subset=['To_ID'], inplace=True)\n"
     ]
    },
    {
     "data": {
      "application/vnd.microsoft.datawrangler.viewer.v0+json": {
       "columns": [
        {
         "name": "index",
         "rawType": "int64",
         "type": "integer"
        },
        {
         "name": "From_ID",
         "rawType": "object",
         "type": "string"
        },
        {
         "name": "To_ID",
         "rawType": "object",
         "type": "string"
        }
       ],
       "conversionMethod": "pd.DataFrame",
       "ref": "646b77d3-54c2-4b16-9ddf-7148410e0d1a",
       "rows": [
        [
         "0",
         "BMG_DG211518",
         "BMG_MT000001"
        ],
        [
         "2",
         "BMG_DG169584",
         "BMG_MT000003"
        ],
        [
         "6",
         "BMG_DG085197",
         "BMG_MT000007"
        ],
        [
         "7",
         "BMG_DG085194",
         "BMG_MT000008"
        ],
        [
         "11",
         "BMG_DG150709",
         "BMG_MT000012"
        ],
        [
         "13",
         "BMG_DG142857",
         "BMG_MT000014"
        ],
        [
         "18",
         "BMG_DG082132;BMG_DG144675",
         "BMG_MT000019"
        ],
        [
         "19",
         "BMG_DG109096",
         "BMG_MT000020"
        ],
        [
         "22",
         "BMG_DG142626",
         "BMG_MT000023"
        ],
        [
         "23",
         "BMG_DG112274",
         "BMG_MT000024"
        ],
        [
         "24",
         "BMG_DG179357",
         "BMG_MT000025"
        ],
        [
         "25",
         "BMG_DG169815",
         "BMG_MT000026"
        ],
        [
         "26",
         "BMG_DG016180;BMG_DG082154",
         "BMG_MT000027"
        ],
        [
         "27",
         "BMG_DG128881",
         "BMG_MT000028"
        ],
        [
         "28",
         "BMG_DG109862",
         "BMG_MT000029"
        ],
        [
         "29",
         "BMG_DG124778",
         "BMG_MT000030"
        ],
        [
         "30",
         "BMG_DG165124",
         "BMG_MT000031"
        ],
        [
         "31",
         "BMG_DG171390",
         "BMG_MT000032"
        ],
        [
         "33",
         "BMG_DG171514",
         "BMG_MT000034"
        ],
        [
         "36",
         "BMG_DG171916",
         "BMG_MT000037"
        ],
        [
         "39",
         "BMG_DG123167",
         "BMG_MT000040"
        ],
        [
         "40",
         "BMG_DG171315",
         "BMG_MT000041"
        ],
        [
         "41",
         "BMG_DG215118",
         "BMG_MT000042"
        ],
        [
         "42",
         "BMG_DG099953",
         "BMG_MT000043"
        ],
        [
         "43",
         "BMG_DG007978",
         "BMG_MT000044"
        ],
        [
         "44",
         "BMG_DG169268",
         "BMG_MT000045"
        ],
        [
         "45",
         "BMG_DG169931",
         "BMG_MT000046"
        ],
        [
         "46",
         "BMG_DG170813",
         "BMG_MT000047"
        ],
        [
         "47",
         "BMG_DG169697",
         "BMG_MT000048"
        ],
        [
         "49",
         "BMG_DG082076;BMG_DG177158",
         "BMG_MT000050"
        ],
        [
         "51",
         "BMG_DG180925",
         "BMG_MT000052"
        ],
        [
         "52",
         "BMG_DG177045",
         "BMG_MT000053"
        ],
        [
         "53",
         "BMG_DG170060",
         "BMG_MT000054"
        ],
        [
         "56",
         "BMG_DG172280",
         "BMG_MT000057"
        ],
        [
         "58",
         "BMG_DG178020",
         "BMG_MT000059"
        ],
        [
         "60",
         "BMG_DG172276",
         "BMG_MT000061"
        ],
        [
         "61",
         "BMG_DG180150",
         "BMG_MT000062"
        ],
        [
         "62",
         "BMG_DG135998",
         "BMG_MT000063"
        ],
        [
         "63",
         "BMG_DG171949",
         "BMG_MT000064"
        ],
        [
         "64",
         "BMG_DG134770",
         "BMG_MT000065"
        ],
        [
         "69",
         "BMG_DG184802",
         "BMG_MT000070"
        ],
        [
         "70",
         "BMG_DG015910",
         "BMG_MT000071"
        ],
        [
         "72",
         "BMG_DG195113",
         "BMG_MT000073"
        ],
        [
         "74",
         "BMG_DG195329",
         "BMG_MT000075"
        ],
        [
         "75",
         "BMG_DG082135;BMG_DG171128",
         "BMG_MT000076"
        ],
        [
         "76",
         "BMG_DG176842",
         "BMG_MT000077"
        ],
        [
         "77",
         "BMG_DG194479",
         "BMG_MT000078"
        ],
        [
         "78",
         "BMG_DG183490",
         "BMG_MT000079"
        ],
        [
         "79",
         "BMG_DG022155",
         "BMG_MT000080"
        ],
        [
         "80",
         "BMG_DG142585",
         "BMG_MT000081"
        ]
       ],
       "shape": {
        "columns": 2,
        "rows": 3171
       }
      },
      "text/html": [
       "<div>\n",
       "<style scoped>\n",
       "    .dataframe tbody tr th:only-of-type {\n",
       "        vertical-align: middle;\n",
       "    }\n",
       "\n",
       "    .dataframe tbody tr th {\n",
       "        vertical-align: top;\n",
       "    }\n",
       "\n",
       "    .dataframe thead th {\n",
       "        text-align: right;\n",
       "    }\n",
       "</style>\n",
       "<table border=\"1\" class=\"dataframe\">\n",
       "  <thead>\n",
       "    <tr style=\"text-align: right;\">\n",
       "      <th></th>\n",
       "      <th>From_ID</th>\n",
       "      <th>To_ID</th>\n",
       "    </tr>\n",
       "  </thead>\n",
       "  <tbody>\n",
       "    <tr>\n",
       "      <th>0</th>\n",
       "      <td>BMG_DG211518</td>\n",
       "      <td>BMG_MT000001</td>\n",
       "    </tr>\n",
       "    <tr>\n",
       "      <th>2</th>\n",
       "      <td>BMG_DG169584</td>\n",
       "      <td>BMG_MT000003</td>\n",
       "    </tr>\n",
       "    <tr>\n",
       "      <th>6</th>\n",
       "      <td>BMG_DG085197</td>\n",
       "      <td>BMG_MT000007</td>\n",
       "    </tr>\n",
       "    <tr>\n",
       "      <th>7</th>\n",
       "      <td>BMG_DG085194</td>\n",
       "      <td>BMG_MT000008</td>\n",
       "    </tr>\n",
       "    <tr>\n",
       "      <th>11</th>\n",
       "      <td>BMG_DG150709</td>\n",
       "      <td>BMG_MT000012</td>\n",
       "    </tr>\n",
       "    <tr>\n",
       "      <th>...</th>\n",
       "      <td>...</td>\n",
       "      <td>...</td>\n",
       "    </tr>\n",
       "    <tr>\n",
       "      <th>217869</th>\n",
       "      <td>BMG_DG013669</td>\n",
       "      <td>BMG_MT217892</td>\n",
       "    </tr>\n",
       "    <tr>\n",
       "      <th>217870</th>\n",
       "      <td>BMG_DG197343;BMG_DG263754</td>\n",
       "      <td>BMG_MT217893</td>\n",
       "    </tr>\n",
       "    <tr>\n",
       "      <th>217872</th>\n",
       "      <td>BMG_DG265585</td>\n",
       "      <td>BMG_MT217895</td>\n",
       "    </tr>\n",
       "    <tr>\n",
       "      <th>217873</th>\n",
       "      <td>BMG_DG186007;BMG_DG264642</td>\n",
       "      <td>BMG_MT217896</td>\n",
       "    </tr>\n",
       "    <tr>\n",
       "      <th>217919</th>\n",
       "      <td>BMG_DG146172</td>\n",
       "      <td>BMG_MT217942</td>\n",
       "    </tr>\n",
       "  </tbody>\n",
       "</table>\n",
       "<p>3171 rows × 2 columns</p>\n",
       "</div>"
      ],
      "text/plain": [
       "                          From_ID         To_ID\n",
       "0                    BMG_DG211518  BMG_MT000001\n",
       "2                    BMG_DG169584  BMG_MT000003\n",
       "6                    BMG_DG085197  BMG_MT000007\n",
       "7                    BMG_DG085194  BMG_MT000008\n",
       "11                   BMG_DG150709  BMG_MT000012\n",
       "...                           ...           ...\n",
       "217869               BMG_DG013669  BMG_MT217892\n",
       "217870  BMG_DG197343;BMG_DG263754  BMG_MT217893\n",
       "217872               BMG_DG265585  BMG_MT217895\n",
       "217873  BMG_DG186007;BMG_DG264642  BMG_MT217896\n",
       "217919               BMG_DG146172  BMG_MT217942\n",
       "\n",
       "[3171 rows x 2 columns]"
      ]
     },
     "execution_count": 7,
     "metadata": {},
     "output_type": "execute_result"
    }
   ],
   "source": [
    "hmdb_drug = hmdb_drug[['From_ID', 'To_ID']]\n",
    "hmdb_drug.dropna(subset=['From_ID'], inplace=True)\n",
    "hmdb_drug.dropna(subset=['To_ID'], inplace=True)\n",
    "hmdb_drug"
   ]
  },
  {
   "cell_type": "code",
   "execution_count": 8,
   "metadata": {},
   "outputs": [
    {
     "name": "stderr",
     "output_type": "stream",
     "text": [
      "C:\\Users\\shunn\\AppData\\Local\\Temp\\ipykernel_25472\\1573168834.py:1: SettingWithCopyWarning: \n",
      "A value is trying to be set on a copy of a slice from a DataFrame.\n",
      "Try using .loc[row_indexer,col_indexer] = value instead\n",
      "\n",
      "See the caveats in the documentation: https://pandas.pydata.org/pandas-docs/stable/user_guide/indexing.html#returning-a-view-versus-a-copy\n",
      "  hmdb_drug['From_ID'] = hmdb_drug['From_ID'].str.split(';')\n",
      "C:\\Users\\shunn\\AppData\\Local\\Temp\\ipykernel_25472\\1573168834.py:2: SettingWithCopyWarning: \n",
      "A value is trying to be set on a copy of a slice from a DataFrame.\n",
      "Try using .loc[row_indexer,col_indexer] = value instead\n",
      "\n",
      "See the caveats in the documentation: https://pandas.pydata.org/pandas-docs/stable/user_guide/indexing.html#returning-a-view-versus-a-copy\n",
      "  hmdb_drug['To_ID'] = hmdb_drug['To_ID'].str.split(';')\n"
     ]
    },
    {
     "data": {
      "application/vnd.microsoft.datawrangler.viewer.v0+json": {
       "columns": [
        {
         "name": "index",
         "rawType": "int64",
         "type": "integer"
        },
        {
         "name": "From_ID",
         "rawType": "object",
         "type": "string"
        },
        {
         "name": "To_ID",
         "rawType": "object",
         "type": "string"
        }
       ],
       "conversionMethod": "pd.DataFrame",
       "ref": "bb8ff689-4859-457c-b631-686cad1186bc",
       "rows": [
        [
         "0",
         "BMG_DG211518",
         "BMG_MT000001"
        ],
        [
         "2",
         "BMG_DG169584",
         "BMG_MT000003"
        ],
        [
         "6",
         "BMG_DG085197",
         "BMG_MT000007"
        ],
        [
         "7",
         "BMG_DG085194",
         "BMG_MT000008"
        ],
        [
         "11",
         "BMG_DG150709",
         "BMG_MT000012"
        ],
        [
         "13",
         "BMG_DG142857",
         "BMG_MT000014"
        ],
        [
         "18",
         "BMG_DG082132",
         "BMG_MT000019"
        ],
        [
         "18",
         "BMG_DG144675",
         "BMG_MT000019"
        ],
        [
         "19",
         "BMG_DG109096",
         "BMG_MT000020"
        ],
        [
         "22",
         "BMG_DG142626",
         "BMG_MT000023"
        ],
        [
         "23",
         "BMG_DG112274",
         "BMG_MT000024"
        ],
        [
         "24",
         "BMG_DG179357",
         "BMG_MT000025"
        ],
        [
         "25",
         "BMG_DG169815",
         "BMG_MT000026"
        ],
        [
         "26",
         "BMG_DG016180",
         "BMG_MT000027"
        ],
        [
         "26",
         "BMG_DG082154",
         "BMG_MT000027"
        ],
        [
         "27",
         "BMG_DG128881",
         "BMG_MT000028"
        ],
        [
         "28",
         "BMG_DG109862",
         "BMG_MT000029"
        ],
        [
         "29",
         "BMG_DG124778",
         "BMG_MT000030"
        ],
        [
         "30",
         "BMG_DG165124",
         "BMG_MT000031"
        ],
        [
         "31",
         "BMG_DG171390",
         "BMG_MT000032"
        ],
        [
         "33",
         "BMG_DG171514",
         "BMG_MT000034"
        ],
        [
         "36",
         "BMG_DG171916",
         "BMG_MT000037"
        ],
        [
         "39",
         "BMG_DG123167",
         "BMG_MT000040"
        ],
        [
         "40",
         "BMG_DG171315",
         "BMG_MT000041"
        ],
        [
         "41",
         "BMG_DG215118",
         "BMG_MT000042"
        ],
        [
         "42",
         "BMG_DG099953",
         "BMG_MT000043"
        ],
        [
         "43",
         "BMG_DG007978",
         "BMG_MT000044"
        ],
        [
         "44",
         "BMG_DG169268",
         "BMG_MT000045"
        ],
        [
         "45",
         "BMG_DG169931",
         "BMG_MT000046"
        ],
        [
         "46",
         "BMG_DG170813",
         "BMG_MT000047"
        ],
        [
         "47",
         "BMG_DG169697",
         "BMG_MT000048"
        ],
        [
         "49",
         "BMG_DG082076",
         "BMG_MT000050"
        ],
        [
         "49",
         "BMG_DG177158",
         "BMG_MT000050"
        ],
        [
         "51",
         "BMG_DG180925",
         "BMG_MT000052"
        ],
        [
         "52",
         "BMG_DG177045",
         "BMG_MT000053"
        ],
        [
         "53",
         "BMG_DG170060",
         "BMG_MT000054"
        ],
        [
         "56",
         "BMG_DG172280",
         "BMG_MT000057"
        ],
        [
         "58",
         "BMG_DG178020",
         "BMG_MT000059"
        ],
        [
         "60",
         "BMG_DG172276",
         "BMG_MT000061"
        ],
        [
         "61",
         "BMG_DG180150",
         "BMG_MT000062"
        ],
        [
         "62",
         "BMG_DG135998",
         "BMG_MT000063"
        ],
        [
         "63",
         "BMG_DG171949",
         "BMG_MT000064"
        ],
        [
         "64",
         "BMG_DG134770",
         "BMG_MT000065"
        ],
        [
         "69",
         "BMG_DG184802",
         "BMG_MT000070"
        ],
        [
         "70",
         "BMG_DG015910",
         "BMG_MT000071"
        ],
        [
         "72",
         "BMG_DG195113",
         "BMG_MT000073"
        ],
        [
         "74",
         "BMG_DG195329",
         "BMG_MT000075"
        ],
        [
         "75",
         "BMG_DG082135",
         "BMG_MT000076"
        ],
        [
         "75",
         "BMG_DG171128",
         "BMG_MT000076"
        ],
        [
         "76",
         "BMG_DG176842",
         "BMG_MT000077"
        ]
       ],
       "shape": {
        "columns": 2,
        "rows": 3589
       }
      },
      "text/html": [
       "<div>\n",
       "<style scoped>\n",
       "    .dataframe tbody tr th:only-of-type {\n",
       "        vertical-align: middle;\n",
       "    }\n",
       "\n",
       "    .dataframe tbody tr th {\n",
       "        vertical-align: top;\n",
       "    }\n",
       "\n",
       "    .dataframe thead th {\n",
       "        text-align: right;\n",
       "    }\n",
       "</style>\n",
       "<table border=\"1\" class=\"dataframe\">\n",
       "  <thead>\n",
       "    <tr style=\"text-align: right;\">\n",
       "      <th></th>\n",
       "      <th>From_ID</th>\n",
       "      <th>To_ID</th>\n",
       "    </tr>\n",
       "  </thead>\n",
       "  <tbody>\n",
       "    <tr>\n",
       "      <th>0</th>\n",
       "      <td>BMG_DG211518</td>\n",
       "      <td>BMG_MT000001</td>\n",
       "    </tr>\n",
       "    <tr>\n",
       "      <th>2</th>\n",
       "      <td>BMG_DG169584</td>\n",
       "      <td>BMG_MT000003</td>\n",
       "    </tr>\n",
       "    <tr>\n",
       "      <th>6</th>\n",
       "      <td>BMG_DG085197</td>\n",
       "      <td>BMG_MT000007</td>\n",
       "    </tr>\n",
       "    <tr>\n",
       "      <th>7</th>\n",
       "      <td>BMG_DG085194</td>\n",
       "      <td>BMG_MT000008</td>\n",
       "    </tr>\n",
       "    <tr>\n",
       "      <th>11</th>\n",
       "      <td>BMG_DG150709</td>\n",
       "      <td>BMG_MT000012</td>\n",
       "    </tr>\n",
       "    <tr>\n",
       "      <th>...</th>\n",
       "      <td>...</td>\n",
       "      <td>...</td>\n",
       "    </tr>\n",
       "    <tr>\n",
       "      <th>217870</th>\n",
       "      <td>BMG_DG263754</td>\n",
       "      <td>BMG_MT217893</td>\n",
       "    </tr>\n",
       "    <tr>\n",
       "      <th>217872</th>\n",
       "      <td>BMG_DG265585</td>\n",
       "      <td>BMG_MT217895</td>\n",
       "    </tr>\n",
       "    <tr>\n",
       "      <th>217873</th>\n",
       "      <td>BMG_DG186007</td>\n",
       "      <td>BMG_MT217896</td>\n",
       "    </tr>\n",
       "    <tr>\n",
       "      <th>217873</th>\n",
       "      <td>BMG_DG264642</td>\n",
       "      <td>BMG_MT217896</td>\n",
       "    </tr>\n",
       "    <tr>\n",
       "      <th>217919</th>\n",
       "      <td>BMG_DG146172</td>\n",
       "      <td>BMG_MT217942</td>\n",
       "    </tr>\n",
       "  </tbody>\n",
       "</table>\n",
       "<p>3589 rows × 2 columns</p>\n",
       "</div>"
      ],
      "text/plain": [
       "             From_ID         To_ID\n",
       "0       BMG_DG211518  BMG_MT000001\n",
       "2       BMG_DG169584  BMG_MT000003\n",
       "6       BMG_DG085197  BMG_MT000007\n",
       "7       BMG_DG085194  BMG_MT000008\n",
       "11      BMG_DG150709  BMG_MT000012\n",
       "...              ...           ...\n",
       "217870  BMG_DG263754  BMG_MT217893\n",
       "217872  BMG_DG265585  BMG_MT217895\n",
       "217873  BMG_DG186007  BMG_MT217896\n",
       "217873  BMG_DG264642  BMG_MT217896\n",
       "217919  BMG_DG146172  BMG_MT217942\n",
       "\n",
       "[3589 rows x 2 columns]"
      ]
     },
     "execution_count": 8,
     "metadata": {},
     "output_type": "execute_result"
    }
   ],
   "source": [
    "hmdb_drug['From_ID'] = hmdb_drug['From_ID'].str.split(';')\n",
    "hmdb_drug['To_ID'] = hmdb_drug['To_ID'].str.split(';')\n",
    "\n",
    "hmdb_drug = hmdb_drug.explode('From_ID')\n",
    "hmdb_drug = hmdb_drug.explode('To_ID')\n",
    "\n",
    "hmdb_drug['From_ID'] = hmdb_drug['From_ID'].str.strip()\n",
    "hmdb_drug['To_ID'] = hmdb_drug['To_ID'].str.strip()\n",
    "hmdb_drug.drop_duplicates(inplace=True)\n",
    "hmdb_drug"
   ]
  },
  {
   "cell_type": "markdown",
   "metadata": {},
   "source": [
    "### Drug-Metabolite Relation"
   ]
  },
  {
   "cell_type": "code",
   "execution_count": 9,
   "metadata": {},
   "outputs": [
    {
     "data": {
      "application/vnd.microsoft.datawrangler.viewer.v0+json": {
       "columns": [
        {
         "name": "index",
         "rawType": "int64",
         "type": "integer"
        },
        {
         "name": "BioMedGraphica_ID",
         "rawType": "object",
         "type": "string"
        },
        {
         "name": "From_ID",
         "rawType": "object",
         "type": "string"
        },
        {
         "name": "To_ID",
         "rawType": "object",
         "type": "string"
        },
        {
         "name": "Source",
         "rawType": "object",
         "type": "string"
        },
        {
         "name": "Type",
         "rawType": "object",
         "type": "string"
        }
       ],
       "conversionMethod": "pd.DataFrame",
       "ref": "b895f6f9-7a92-44fa-bb27-8664a3784178",
       "rows": [
        [
         "0",
         "BMG_ED_DGMT0001",
         "BMG_DG211518",
         "BMG_MT000001",
         "HMDB",
         "Drug-Metabolite"
        ],
        [
         "2",
         "BMG_ED_DGMT0002",
         "BMG_DG169584",
         "BMG_MT000003",
         "HMDB",
         "Drug-Metabolite"
        ],
        [
         "6",
         "BMG_ED_DGMT0003",
         "BMG_DG085197",
         "BMG_MT000007",
         "HMDB",
         "Drug-Metabolite"
        ],
        [
         "7",
         "BMG_ED_DGMT0004",
         "BMG_DG085194",
         "BMG_MT000008",
         "HMDB",
         "Drug-Metabolite"
        ],
        [
         "11",
         "BMG_ED_DGMT0005",
         "BMG_DG150709",
         "BMG_MT000012",
         "HMDB",
         "Drug-Metabolite"
        ],
        [
         "13",
         "BMG_ED_DGMT0006",
         "BMG_DG142857",
         "BMG_MT000014",
         "HMDB",
         "Drug-Metabolite"
        ],
        [
         "18",
         "BMG_ED_DGMT0007",
         "BMG_DG082132",
         "BMG_MT000019",
         "HMDB",
         "Drug-Metabolite"
        ],
        [
         "18",
         "BMG_ED_DGMT0008",
         "BMG_DG144675",
         "BMG_MT000019",
         "HMDB",
         "Drug-Metabolite"
        ],
        [
         "19",
         "BMG_ED_DGMT0009",
         "BMG_DG109096",
         "BMG_MT000020",
         "HMDB",
         "Drug-Metabolite"
        ],
        [
         "22",
         "BMG_ED_DGMT0010",
         "BMG_DG142626",
         "BMG_MT000023",
         "HMDB",
         "Drug-Metabolite"
        ],
        [
         "23",
         "BMG_ED_DGMT0011",
         "BMG_DG112274",
         "BMG_MT000024",
         "HMDB",
         "Drug-Metabolite"
        ],
        [
         "24",
         "BMG_ED_DGMT0012",
         "BMG_DG179357",
         "BMG_MT000025",
         "HMDB",
         "Drug-Metabolite"
        ],
        [
         "25",
         "BMG_ED_DGMT0013",
         "BMG_DG169815",
         "BMG_MT000026",
         "HMDB",
         "Drug-Metabolite"
        ],
        [
         "26",
         "BMG_ED_DGMT0014",
         "BMG_DG016180",
         "BMG_MT000027",
         "HMDB",
         "Drug-Metabolite"
        ],
        [
         "26",
         "BMG_ED_DGMT0015",
         "BMG_DG082154",
         "BMG_MT000027",
         "HMDB",
         "Drug-Metabolite"
        ],
        [
         "27",
         "BMG_ED_DGMT0016",
         "BMG_DG128881",
         "BMG_MT000028",
         "HMDB",
         "Drug-Metabolite"
        ],
        [
         "28",
         "BMG_ED_DGMT0017",
         "BMG_DG109862",
         "BMG_MT000029",
         "HMDB",
         "Drug-Metabolite"
        ],
        [
         "29",
         "BMG_ED_DGMT0018",
         "BMG_DG124778",
         "BMG_MT000030",
         "HMDB",
         "Drug-Metabolite"
        ],
        [
         "30",
         "BMG_ED_DGMT0019",
         "BMG_DG165124",
         "BMG_MT000031",
         "HMDB",
         "Drug-Metabolite"
        ],
        [
         "31",
         "BMG_ED_DGMT0020",
         "BMG_DG171390",
         "BMG_MT000032",
         "HMDB",
         "Drug-Metabolite"
        ],
        [
         "33",
         "BMG_ED_DGMT0021",
         "BMG_DG171514",
         "BMG_MT000034",
         "HMDB",
         "Drug-Metabolite"
        ],
        [
         "36",
         "BMG_ED_DGMT0022",
         "BMG_DG171916",
         "BMG_MT000037",
         "HMDB",
         "Drug-Metabolite"
        ],
        [
         "39",
         "BMG_ED_DGMT0023",
         "BMG_DG123167",
         "BMG_MT000040",
         "HMDB",
         "Drug-Metabolite"
        ],
        [
         "40",
         "BMG_ED_DGMT0024",
         "BMG_DG171315",
         "BMG_MT000041",
         "HMDB",
         "Drug-Metabolite"
        ],
        [
         "41",
         "BMG_ED_DGMT0025",
         "BMG_DG215118",
         "BMG_MT000042",
         "HMDB",
         "Drug-Metabolite"
        ],
        [
         "42",
         "BMG_ED_DGMT0026",
         "BMG_DG099953",
         "BMG_MT000043",
         "HMDB",
         "Drug-Metabolite"
        ],
        [
         "43",
         "BMG_ED_DGMT0027",
         "BMG_DG007978",
         "BMG_MT000044",
         "HMDB",
         "Drug-Metabolite"
        ],
        [
         "44",
         "BMG_ED_DGMT0028",
         "BMG_DG169268",
         "BMG_MT000045",
         "HMDB",
         "Drug-Metabolite"
        ],
        [
         "45",
         "BMG_ED_DGMT0029",
         "BMG_DG169931",
         "BMG_MT000046",
         "HMDB",
         "Drug-Metabolite"
        ],
        [
         "46",
         "BMG_ED_DGMT0030",
         "BMG_DG170813",
         "BMG_MT000047",
         "HMDB",
         "Drug-Metabolite"
        ],
        [
         "47",
         "BMG_ED_DGMT0031",
         "BMG_DG169697",
         "BMG_MT000048",
         "HMDB",
         "Drug-Metabolite"
        ],
        [
         "49",
         "BMG_ED_DGMT0032",
         "BMG_DG082076",
         "BMG_MT000050",
         "HMDB",
         "Drug-Metabolite"
        ],
        [
         "49",
         "BMG_ED_DGMT0033",
         "BMG_DG177158",
         "BMG_MT000050",
         "HMDB",
         "Drug-Metabolite"
        ],
        [
         "51",
         "BMG_ED_DGMT0034",
         "BMG_DG180925",
         "BMG_MT000052",
         "HMDB",
         "Drug-Metabolite"
        ],
        [
         "52",
         "BMG_ED_DGMT0035",
         "BMG_DG177045",
         "BMG_MT000053",
         "HMDB",
         "Drug-Metabolite"
        ],
        [
         "53",
         "BMG_ED_DGMT0036",
         "BMG_DG170060",
         "BMG_MT000054",
         "HMDB",
         "Drug-Metabolite"
        ],
        [
         "56",
         "BMG_ED_DGMT0037",
         "BMG_DG172280",
         "BMG_MT000057",
         "HMDB",
         "Drug-Metabolite"
        ],
        [
         "58",
         "BMG_ED_DGMT0038",
         "BMG_DG178020",
         "BMG_MT000059",
         "HMDB",
         "Drug-Metabolite"
        ],
        [
         "60",
         "BMG_ED_DGMT0039",
         "BMG_DG172276",
         "BMG_MT000061",
         "HMDB",
         "Drug-Metabolite"
        ],
        [
         "61",
         "BMG_ED_DGMT0040",
         "BMG_DG180150",
         "BMG_MT000062",
         "HMDB",
         "Drug-Metabolite"
        ],
        [
         "62",
         "BMG_ED_DGMT0041",
         "BMG_DG135998",
         "BMG_MT000063",
         "HMDB",
         "Drug-Metabolite"
        ],
        [
         "63",
         "BMG_ED_DGMT0042",
         "BMG_DG171949",
         "BMG_MT000064",
         "HMDB",
         "Drug-Metabolite"
        ],
        [
         "64",
         "BMG_ED_DGMT0043",
         "BMG_DG134770",
         "BMG_MT000065",
         "HMDB",
         "Drug-Metabolite"
        ],
        [
         "69",
         "BMG_ED_DGMT0044",
         "BMG_DG184802",
         "BMG_MT000070",
         "HMDB",
         "Drug-Metabolite"
        ],
        [
         "70",
         "BMG_ED_DGMT0045",
         "BMG_DG015910",
         "BMG_MT000071",
         "HMDB",
         "Drug-Metabolite"
        ],
        [
         "72",
         "BMG_ED_DGMT0046",
         "BMG_DG195113",
         "BMG_MT000073",
         "HMDB",
         "Drug-Metabolite"
        ],
        [
         "74",
         "BMG_ED_DGMT0047",
         "BMG_DG195329",
         "BMG_MT000075",
         "HMDB",
         "Drug-Metabolite"
        ],
        [
         "75",
         "BMG_ED_DGMT0048",
         "BMG_DG082135",
         "BMG_MT000076",
         "HMDB",
         "Drug-Metabolite"
        ],
        [
         "75",
         "BMG_ED_DGMT0049",
         "BMG_DG171128",
         "BMG_MT000076",
         "HMDB",
         "Drug-Metabolite"
        ],
        [
         "76",
         "BMG_ED_DGMT0050",
         "BMG_DG176842",
         "BMG_MT000077",
         "HMDB",
         "Drug-Metabolite"
        ]
       ],
       "shape": {
        "columns": 5,
        "rows": 3589
       }
      },
      "text/html": [
       "<div>\n",
       "<style scoped>\n",
       "    .dataframe tbody tr th:only-of-type {\n",
       "        vertical-align: middle;\n",
       "    }\n",
       "\n",
       "    .dataframe tbody tr th {\n",
       "        vertical-align: top;\n",
       "    }\n",
       "\n",
       "    .dataframe thead th {\n",
       "        text-align: right;\n",
       "    }\n",
       "</style>\n",
       "<table border=\"1\" class=\"dataframe\">\n",
       "  <thead>\n",
       "    <tr style=\"text-align: right;\">\n",
       "      <th></th>\n",
       "      <th>BioMedGraphica_ID</th>\n",
       "      <th>From_ID</th>\n",
       "      <th>To_ID</th>\n",
       "      <th>Source</th>\n",
       "      <th>Type</th>\n",
       "    </tr>\n",
       "  </thead>\n",
       "  <tbody>\n",
       "    <tr>\n",
       "      <th>0</th>\n",
       "      <td>BMG_ED_DGMT0001</td>\n",
       "      <td>BMG_DG211518</td>\n",
       "      <td>BMG_MT000001</td>\n",
       "      <td>HMDB</td>\n",
       "      <td>Drug-Metabolite</td>\n",
       "    </tr>\n",
       "    <tr>\n",
       "      <th>2</th>\n",
       "      <td>BMG_ED_DGMT0002</td>\n",
       "      <td>BMG_DG169584</td>\n",
       "      <td>BMG_MT000003</td>\n",
       "      <td>HMDB</td>\n",
       "      <td>Drug-Metabolite</td>\n",
       "    </tr>\n",
       "    <tr>\n",
       "      <th>6</th>\n",
       "      <td>BMG_ED_DGMT0003</td>\n",
       "      <td>BMG_DG085197</td>\n",
       "      <td>BMG_MT000007</td>\n",
       "      <td>HMDB</td>\n",
       "      <td>Drug-Metabolite</td>\n",
       "    </tr>\n",
       "    <tr>\n",
       "      <th>7</th>\n",
       "      <td>BMG_ED_DGMT0004</td>\n",
       "      <td>BMG_DG085194</td>\n",
       "      <td>BMG_MT000008</td>\n",
       "      <td>HMDB</td>\n",
       "      <td>Drug-Metabolite</td>\n",
       "    </tr>\n",
       "    <tr>\n",
       "      <th>11</th>\n",
       "      <td>BMG_ED_DGMT0005</td>\n",
       "      <td>BMG_DG150709</td>\n",
       "      <td>BMG_MT000012</td>\n",
       "      <td>HMDB</td>\n",
       "      <td>Drug-Metabolite</td>\n",
       "    </tr>\n",
       "    <tr>\n",
       "      <th>...</th>\n",
       "      <td>...</td>\n",
       "      <td>...</td>\n",
       "      <td>...</td>\n",
       "      <td>...</td>\n",
       "      <td>...</td>\n",
       "    </tr>\n",
       "    <tr>\n",
       "      <th>217870</th>\n",
       "      <td>BMG_ED_DGMT3585</td>\n",
       "      <td>BMG_DG263754</td>\n",
       "      <td>BMG_MT217893</td>\n",
       "      <td>HMDB</td>\n",
       "      <td>Drug-Metabolite</td>\n",
       "    </tr>\n",
       "    <tr>\n",
       "      <th>217872</th>\n",
       "      <td>BMG_ED_DGMT3586</td>\n",
       "      <td>BMG_DG265585</td>\n",
       "      <td>BMG_MT217895</td>\n",
       "      <td>HMDB</td>\n",
       "      <td>Drug-Metabolite</td>\n",
       "    </tr>\n",
       "    <tr>\n",
       "      <th>217873</th>\n",
       "      <td>BMG_ED_DGMT3587</td>\n",
       "      <td>BMG_DG186007</td>\n",
       "      <td>BMG_MT217896</td>\n",
       "      <td>HMDB</td>\n",
       "      <td>Drug-Metabolite</td>\n",
       "    </tr>\n",
       "    <tr>\n",
       "      <th>217873</th>\n",
       "      <td>BMG_ED_DGMT3588</td>\n",
       "      <td>BMG_DG264642</td>\n",
       "      <td>BMG_MT217896</td>\n",
       "      <td>HMDB</td>\n",
       "      <td>Drug-Metabolite</td>\n",
       "    </tr>\n",
       "    <tr>\n",
       "      <th>217919</th>\n",
       "      <td>BMG_ED_DGMT3589</td>\n",
       "      <td>BMG_DG146172</td>\n",
       "      <td>BMG_MT217942</td>\n",
       "      <td>HMDB</td>\n",
       "      <td>Drug-Metabolite</td>\n",
       "    </tr>\n",
       "  </tbody>\n",
       "</table>\n",
       "<p>3589 rows × 5 columns</p>\n",
       "</div>"
      ],
      "text/plain": [
       "       BioMedGraphica_ID       From_ID         To_ID Source             Type\n",
       "0        BMG_ED_DGMT0001  BMG_DG211518  BMG_MT000001   HMDB  Drug-Metabolite\n",
       "2        BMG_ED_DGMT0002  BMG_DG169584  BMG_MT000003   HMDB  Drug-Metabolite\n",
       "6        BMG_ED_DGMT0003  BMG_DG085197  BMG_MT000007   HMDB  Drug-Metabolite\n",
       "7        BMG_ED_DGMT0004  BMG_DG085194  BMG_MT000008   HMDB  Drug-Metabolite\n",
       "11       BMG_ED_DGMT0005  BMG_DG150709  BMG_MT000012   HMDB  Drug-Metabolite\n",
       "...                  ...           ...           ...    ...              ...\n",
       "217870   BMG_ED_DGMT3585  BMG_DG263754  BMG_MT217893   HMDB  Drug-Metabolite\n",
       "217872   BMG_ED_DGMT3586  BMG_DG265585  BMG_MT217895   HMDB  Drug-Metabolite\n",
       "217873   BMG_ED_DGMT3587  BMG_DG186007  BMG_MT217896   HMDB  Drug-Metabolite\n",
       "217873   BMG_ED_DGMT3588  BMG_DG264642  BMG_MT217896   HMDB  Drug-Metabolite\n",
       "217919   BMG_ED_DGMT3589  BMG_DG146172  BMG_MT217942   HMDB  Drug-Metabolite\n",
       "\n",
       "[3589 rows x 5 columns]"
      ]
     },
     "execution_count": 9,
     "metadata": {},
     "output_type": "execute_result"
    }
   ],
   "source": [
    "hmdb_drug['Source'] = 'HMDB'\n",
    "hmdb_drug['Type'] = 'Drug-Metabolite'\n",
    "\n",
    "max_length = len(str(len(hmdb_drug)))\n",
    "hmdb_drug['BioMedGraphica_ID'] = ['BMG_ED_DGMT' + str(i).zfill(max_length) for i in range(1, len(hmdb_drug) + 1)]\n",
    "columns = ['BioMedGraphica_ID'] + [col for col in hmdb_drug.columns if col != 'BioMedGraphica_ID']  # re-order columns\n",
    "hmdb_drug = hmdb_drug[columns]\n",
    "hmdb_drug"
   ]
  },
  {
   "cell_type": "code",
   "execution_count": 10,
   "metadata": {},
   "outputs": [
    {
     "name": "stdout",
     "output_type": "stream",
     "text": [
      "Data has been saved to D:\\RA\\BMG\\BioMedGraphica\\Relation\\Drug-Metabolite\\BioMedGraphica_Drug_Metabolite.csv\n"
     ]
    }
   ],
   "source": [
    "import os\n",
    "from pathlib import Path\n",
    "\n",
    "# get the current working directory\n",
    "current_working_dir = Path(os.getcwd()).resolve()\n",
    "\n",
    "# get the output directory\n",
    "grandparent_dir = current_working_dir.parent.parent.parent\n",
    "\n",
    "target_folder = grandparent_dir / 'BioMedGraphica' / 'Relation' / 'Drug-Metabolite'\n",
    "if not target_folder.exists():\n",
    "    target_folder.mkdir(parents=True)\n",
    "    print(f\"Folder {target_folder} has been created.\")\n",
    "\n",
    "output_file_path = target_folder / 'BioMedGraphica_Drug_Metabolite.csv'\n",
    "hmdb_drug.to_csv(output_file_path, index=False)\n",
    "print(f\"Data has been saved to {output_file_path}\")"
   ]
  }
 ],
 "metadata": {
  "kernelspec": {
   "display_name": "base",
   "language": "python",
   "name": "python3"
  },
  "language_info": {
   "codemirror_mode": {
    "name": "ipython",
    "version": 3
   },
   "file_extension": ".py",
   "mimetype": "text/x-python",
   "name": "python",
   "nbconvert_exporter": "python",
   "pygments_lexer": "ipython3",
   "version": "3.9.19"
  }
 },
 "nbformat": 4,
 "nbformat_minor": 2
}
