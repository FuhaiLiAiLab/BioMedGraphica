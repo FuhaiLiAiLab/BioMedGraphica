{
 "cells": [
  {
   "cell_type": "markdown",
   "metadata": {},
   "source": [
    "### CTD"
   ]
  },
  {
   "cell_type": "code",
   "execution_count": 1,
   "metadata": {},
   "outputs": [
    {
     "data": {
      "application/vnd.microsoft.datawrangler.viewer.v0+json": {
       "columns": [
        {
         "name": "index",
         "rawType": "int64",
         "type": "integer"
        },
        {
         "name": "ChemicalName",
         "rawType": "object",
         "type": "string"
        },
        {
         "name": "ChemicalID",
         "rawType": "object",
         "type": "string"
        },
        {
         "name": "CasRN",
         "rawType": "object",
         "type": "unknown"
        },
        {
         "name": "DiseaseName",
         "rawType": "object",
         "type": "string"
        },
        {
         "name": "DiseaseID",
         "rawType": "object",
         "type": "string"
        },
        {
         "name": "DirectEvidence",
         "rawType": "object",
         "type": "unknown"
        },
        {
         "name": "InferenceGeneSymbol",
         "rawType": "object",
         "type": "unknown"
        },
        {
         "name": "InferenceScore",
         "rawType": "float64",
         "type": "float"
        },
        {
         "name": "OmimIDs",
         "rawType": "object",
         "type": "unknown"
        },
        {
         "name": "PubMedIDs",
         "rawType": "object",
         "type": "unknown"
        }
       ],
       "conversionMethod": "pd.DataFrame",
       "ref": "2bcf9b30-3f68-4c92-9dbe-dda50798907c",
       "rows": [
        [
         "0",
         "06-Paris-LA-66 protocol",
         "C046983",
         null,
         "Precursor Cell Lymphoblastic Leukemia-Lymphoma",
         "MESH:D054198",
         "therapeutic",
         null,
         null,
         null,
         "4519131"
        ],
        [
         "1",
         "10074-G5",
         "C534883",
         null,
         "Adenocarcinoma",
         "MESH:D000230",
         null,
         "MYC",
         "4.07",
         null,
         "26432044"
        ],
        [
         "2",
         "10074-G5",
         "C534883",
         null,
         "Adenocarcinoma of Lung",
         "MESH:D000077192",
         null,
         "MYC",
         "4.3",
         null,
         "26656844|27602772"
        ],
        [
         "3",
         "10074-G5",
         "C534883",
         null,
         "Alopecia",
         "MESH:D000505",
         null,
         "AR",
         "4.5",
         null,
         "15902657"
        ],
        [
         "4",
         "10074-G5",
         "C534883",
         null,
         "Androgen-Insensitivity Syndrome",
         "MESH:D013734",
         null,
         "AR",
         "6.87",
         "300068|312300",
         "1303262|8281139"
        ],
        [
         "5",
         "10074-G5",
         "C534883",
         null,
         "Astrocytoma",
         "MESH:D001254",
         null,
         "AR",
         "4.95",
         null,
         "24680642"
        ],
        [
         "6",
         "10074-G5",
         "C534883",
         null,
         "Autistic Disorder",
         "MESH:D001321",
         null,
         "AR",
         "3.94",
         null,
         "19167832"
        ],
        [
         "7",
         "10074-G5",
         "C534883",
         null,
         "Breast Neoplasms",
         "MESH:D001943",
         null,
         "AR",
         "3.43",
         null,
         "21633166|22174584"
        ],
        [
         "8",
         "10074-G5",
         "C534883",
         null,
         "Breast Neoplasms, Male",
         "MESH:D018567",
         null,
         "AR",
         "5.9",
         null,
         "1303262|8281139"
        ],
        [
         "9",
         "10074-G5",
         "C534883",
         null,
         "Bulbospinal neuronopathy, X-linked recessive",
         "MESH:C537017",
         null,
         "AR",
         "6.87",
         "313200",
         null
        ],
        [
         "10",
         "10074-G5",
         "C534883",
         null,
         "Burkitt Lymphoma",
         "MESH:D002051",
         null,
         "MYC",
         "5.11",
         "113970",
         null
        ],
        [
         "11",
         "10074-G5",
         "C534883",
         null,
         "Carcinoma",
         "MESH:D002277",
         null,
         "MYC",
         "4.09",
         null,
         "2228319"
        ],
        [
         "12",
         "10074-G5",
         "C534883",
         null,
         "Carcinoma, Ductal",
         "MESH:D044584",
         null,
         "MYC",
         "5.59",
         null,
         "29295717"
        ],
        [
         "13",
         "10074-G5",
         "C534883",
         null,
         "Carcinoma, Hepatocellular",
         "MESH:D006528",
         null,
         "AR",
         "7.49",
         null,
         "18639551"
        ],
        [
         "14",
         "10074-G5",
         "C534883",
         null,
         "Carcinoma, Hepatocellular",
         "MESH:D006528",
         null,
         "MYC",
         "7.49",
         null,
         "12029619|15565109|29698666|9029167"
        ],
        [
         "15",
         "10074-G5",
         "C534883",
         null,
         "Carcinoma, Merkel Cell",
         "MESH:D015266",
         null,
         "MYC",
         "6.14",
         null,
         "25277525"
        ],
        [
         "16",
         "10074-G5",
         "C534883",
         null,
         "Carcinoma, Non-Small-Cell Lung",
         "MESH:D002289",
         null,
         "MYC",
         "4.19",
         null,
         "24688052"
        ],
        [
         "17",
         "10074-G5",
         "C534883",
         null,
         "Carcinoma, Squamous Cell",
         "MESH:D002294",
         null,
         "MYC",
         "4.21",
         null,
         "26432044"
        ],
        [
         "18",
         "10074-G5",
         "C534883",
         null,
         "Cardiomyopathy, Hypertrophic",
         "MESH:D002312",
         null,
         "MYC",
         "4.74",
         null,
         "22000973"
        ],
        [
         "19",
         "10074-G5",
         "C534883",
         null,
         "Cell Transformation, Neoplastic",
         "MESH:D002471",
         null,
         "MYC",
         "3.99",
         null,
         "12115494|2543982|29626521|31504995"
        ],
        [
         "20",
         "10074-G5",
         "C534883",
         null,
         "Chromosome Breakage",
         "MESH:D019457",
         null,
         "MYC",
         "4.28",
         null,
         "25933419"
        ],
        [
         "21",
         "10074-G5",
         "C534883",
         null,
         "Cleft Lip",
         "MESH:D002971",
         null,
         "MYC",
         "5.03",
         null,
         "24859337"
        ],
        [
         "22",
         "10074-G5",
         "C534883",
         null,
         "Cleft Palate",
         "MESH:D002972",
         null,
         "MYC",
         "4.61",
         null,
         "24859337"
        ],
        [
         "23",
         "10074-G5",
         "C534883",
         null,
         "Colonic Neoplasms",
         "MESH:D003110",
         null,
         "MYC",
         "3.99",
         null,
         "12189186|15059925|18283038|21081470"
        ],
        [
         "24",
         "10074-G5",
         "C534883",
         null,
         "Colorectal Neoplasms",
         "MESH:D015179",
         null,
         "MYC",
         "3.91",
         null,
         "30510241"
        ],
        [
         "25",
         "10074-G5",
         "C534883",
         null,
         "Diabetes, Gestational",
         "MESH:D016640",
         null,
         "AR",
         "5.03",
         null,
         "20421132"
        ],
        [
         "26",
         "10074-G5",
         "C534883",
         null,
         "Disease Models, Animal",
         "MESH:D004195",
         null,
         "MYC",
         "3.83",
         null,
         "27602772"
        ],
        [
         "27",
         "10074-G5",
         "C534883",
         null,
         "Disease Progression",
         "MESH:D018450",
         null,
         "MYC",
         "4.11",
         null,
         "22321834|28191284|34510316|34626302"
        ],
        [
         "28",
         "10074-G5",
         "C534883",
         null,
         "Endometrial Neoplasms",
         "MESH:D016889",
         null,
         "MYC",
         "4.54",
         null,
         "26656844"
        ],
        [
         "29",
         "10074-G5",
         "C534883",
         null,
         "Ependymoma",
         "MESH:D004806",
         null,
         "EPHB2",
         "6.61",
         null,
         "26075792"
        ],
        [
         "30",
         "10074-G5",
         "C534883",
         null,
         "Fatty Liver",
         "MESH:D005234",
         null,
         "MYC",
         "3.87",
         null,
         "24210820"
        ],
        [
         "31",
         "10074-G5",
         "C534883",
         null,
         "Genital Diseases, Male",
         "MESH:D005832",
         null,
         "AR",
         "5.02",
         null,
         "25434310"
        ],
        [
         "32",
         "10074-G5",
         "C534883",
         null,
         "Glioblastoma",
         "MESH:D005909",
         null,
         "MYC",
         "4.4",
         null,
         "21127729"
        ],
        [
         "33",
         "10074-G5",
         "C534883",
         null,
         "Hemangiosarcoma",
         "MESH:D006394",
         null,
         "MYC",
         "4.97",
         null,
         "17569031"
        ],
        [
         "34",
         "10074-G5",
         "C534883",
         null,
         "Hypertension",
         "MESH:D006973",
         null,
         "AR",
         "3.4",
         null,
         "10523385"
        ],
        [
         "35",
         "10074-G5",
         "C534883",
         null,
         "Hypertrophy, Left Ventricular",
         "MESH:D017379",
         null,
         "MYC",
         "4.47",
         null,
         "21472269"
        ],
        [
         "36",
         "10074-G5",
         "C534883",
         null,
         "Hypospadias 1, X-Linked",
         "MESH:C567482",
         null,
         "AR",
         "6.87",
         "300633",
         null
        ],
        [
         "37",
         "10074-G5",
         "C534883",
         null,
         "Infertility, Female",
         "MESH:D007247",
         null,
         "AR",
         "4.52",
         null,
         "23710174"
        ],
        [
         "38",
         "10074-G5",
         "C534883",
         null,
         "Infertility, Male",
         "MESH:D007248",
         null,
         "AR",
         "4.28",
         null,
         "12220434|18554162|20164437"
        ],
        [
         "39",
         "10074-G5",
         "C534883",
         null,
         "Insulin Resistance",
         "MESH:D007333",
         null,
         "AR",
         "3.92",
         null,
         "21444647"
        ],
        [
         "40",
         "10074-G5",
         "C534883",
         null,
         "Leukemia",
         "MESH:D007938",
         null,
         "AR",
         "4.33",
         null,
         "19235587"
        ],
        [
         "41",
         "10074-G5",
         "C534883",
         null,
         "Leukemia, Myeloid, Acute",
         "MESH:D015470",
         null,
         "MYC",
         "4.18",
         null,
         "25956709"
        ],
        [
         "42",
         "10074-G5",
         "C534883",
         null,
         "Liver Cirrhosis, Experimental",
         "MESH:D008106",
         null,
         "MYC",
         "3.51",
         null,
         "25380136"
        ],
        [
         "43",
         "10074-G5",
         "C534883",
         null,
         "Liver Neoplasms",
         "MESH:D008113",
         null,
         "MYC",
         "3.83",
         null,
         "11532874|8807143"
        ],
        [
         "44",
         "10074-G5",
         "C534883",
         null,
         "Liver Neoplasms, Experimental",
         "MESH:D008114",
         null,
         "MYC",
         "3.93",
         null,
         "11280770|18560566|9079223"
        ],
        [
         "45",
         "10074-G5",
         "C534883",
         null,
         "Lung Neoplasms",
         "MESH:D008175",
         null,
         "AR",
         "7.92",
         null,
         "30008631"
        ],
        [
         "46",
         "10074-G5",
         "C534883",
         null,
         "Lung Neoplasms",
         "MESH:D008175",
         null,
         "MYC",
         "7.92",
         null,
         "16289808|28191284"
        ],
        [
         "47",
         "10074-G5",
         "C534883",
         null,
         "Lymphoma, Large B-Cell, Diffuse",
         "MESH:D016403",
         null,
         "MYC",
         "4.8",
         null,
         "27356265"
        ],
        [
         "48",
         "10074-G5",
         "C534883",
         null,
         "Medulloblastoma",
         "MESH:D008527",
         null,
         "MYC",
         "4.79",
         null,
         "19270706|31694585"
        ],
        [
         "49",
         "10074-G5",
         "C534883",
         null,
         "Myelodysplastic Syndromes",
         "MESH:D009190",
         null,
         "MYC",
         "4.79",
         null,
         "10914558"
        ]
       ],
       "shape": {
        "columns": 10,
        "rows": 9329083
       }
      },
      "text/html": [
       "<div>\n",
       "<style scoped>\n",
       "    .dataframe tbody tr th:only-of-type {\n",
       "        vertical-align: middle;\n",
       "    }\n",
       "\n",
       "    .dataframe tbody tr th {\n",
       "        vertical-align: top;\n",
       "    }\n",
       "\n",
       "    .dataframe thead th {\n",
       "        text-align: right;\n",
       "    }\n",
       "</style>\n",
       "<table border=\"1\" class=\"dataframe\">\n",
       "  <thead>\n",
       "    <tr style=\"text-align: right;\">\n",
       "      <th></th>\n",
       "      <th>ChemicalName</th>\n",
       "      <th>ChemicalID</th>\n",
       "      <th>CasRN</th>\n",
       "      <th>DiseaseName</th>\n",
       "      <th>DiseaseID</th>\n",
       "      <th>DirectEvidence</th>\n",
       "      <th>InferenceGeneSymbol</th>\n",
       "      <th>InferenceScore</th>\n",
       "      <th>OmimIDs</th>\n",
       "      <th>PubMedIDs</th>\n",
       "    </tr>\n",
       "  </thead>\n",
       "  <tbody>\n",
       "    <tr>\n",
       "      <th>0</th>\n",
       "      <td>06-Paris-LA-66 protocol</td>\n",
       "      <td>C046983</td>\n",
       "      <td>NaN</td>\n",
       "      <td>Precursor Cell Lymphoblastic Leukemia-Lymphoma</td>\n",
       "      <td>MESH:D054198</td>\n",
       "      <td>therapeutic</td>\n",
       "      <td>NaN</td>\n",
       "      <td>NaN</td>\n",
       "      <td>NaN</td>\n",
       "      <td>4519131</td>\n",
       "    </tr>\n",
       "    <tr>\n",
       "      <th>1</th>\n",
       "      <td>10074-G5</td>\n",
       "      <td>C534883</td>\n",
       "      <td>NaN</td>\n",
       "      <td>Adenocarcinoma</td>\n",
       "      <td>MESH:D000230</td>\n",
       "      <td>NaN</td>\n",
       "      <td>MYC</td>\n",
       "      <td>4.07</td>\n",
       "      <td>NaN</td>\n",
       "      <td>26432044</td>\n",
       "    </tr>\n",
       "    <tr>\n",
       "      <th>2</th>\n",
       "      <td>10074-G5</td>\n",
       "      <td>C534883</td>\n",
       "      <td>NaN</td>\n",
       "      <td>Adenocarcinoma of Lung</td>\n",
       "      <td>MESH:D000077192</td>\n",
       "      <td>NaN</td>\n",
       "      <td>MYC</td>\n",
       "      <td>4.30</td>\n",
       "      <td>NaN</td>\n",
       "      <td>26656844|27602772</td>\n",
       "    </tr>\n",
       "    <tr>\n",
       "      <th>3</th>\n",
       "      <td>10074-G5</td>\n",
       "      <td>C534883</td>\n",
       "      <td>NaN</td>\n",
       "      <td>Alopecia</td>\n",
       "      <td>MESH:D000505</td>\n",
       "      <td>NaN</td>\n",
       "      <td>AR</td>\n",
       "      <td>4.50</td>\n",
       "      <td>NaN</td>\n",
       "      <td>15902657</td>\n",
       "    </tr>\n",
       "    <tr>\n",
       "      <th>4</th>\n",
       "      <td>10074-G5</td>\n",
       "      <td>C534883</td>\n",
       "      <td>NaN</td>\n",
       "      <td>Androgen-Insensitivity Syndrome</td>\n",
       "      <td>MESH:D013734</td>\n",
       "      <td>NaN</td>\n",
       "      <td>AR</td>\n",
       "      <td>6.87</td>\n",
       "      <td>300068|312300</td>\n",
       "      <td>1303262|8281139</td>\n",
       "    </tr>\n",
       "    <tr>\n",
       "      <th>...</th>\n",
       "      <td>...</td>\n",
       "      <td>...</td>\n",
       "      <td>...</td>\n",
       "      <td>...</td>\n",
       "      <td>...</td>\n",
       "      <td>...</td>\n",
       "      <td>...</td>\n",
       "      <td>...</td>\n",
       "      <td>...</td>\n",
       "      <td>...</td>\n",
       "    </tr>\n",
       "    <tr>\n",
       "      <th>9329078</th>\n",
       "      <td>zymosterol</td>\n",
       "      <td>C015582</td>\n",
       "      <td>128-33-6</td>\n",
       "      <td>Bone Diseases, Metabolic</td>\n",
       "      <td>MESH:D001851</td>\n",
       "      <td>NaN</td>\n",
       "      <td>CYP27A1</td>\n",
       "      <td>5.92</td>\n",
       "      <td>NaN</td>\n",
       "      <td>24381012</td>\n",
       "    </tr>\n",
       "    <tr>\n",
       "      <th>9329079</th>\n",
       "      <td>zymosterol</td>\n",
       "      <td>C015582</td>\n",
       "      <td>128-33-6</td>\n",
       "      <td>Cholestasis</td>\n",
       "      <td>MESH:D002779</td>\n",
       "      <td>NaN</td>\n",
       "      <td>CYP27A1</td>\n",
       "      <td>4.82</td>\n",
       "      <td>NaN</td>\n",
       "      <td>15795599</td>\n",
       "    </tr>\n",
       "    <tr>\n",
       "      <th>9329080</th>\n",
       "      <td>zymosterol</td>\n",
       "      <td>C015582</td>\n",
       "      <td>128-33-6</td>\n",
       "      <td>Liver Cirrhosis</td>\n",
       "      <td>MESH:D008103</td>\n",
       "      <td>NaN</td>\n",
       "      <td>CYP27A1</td>\n",
       "      <td>4.87</td>\n",
       "      <td>NaN</td>\n",
       "      <td>24381012</td>\n",
       "    </tr>\n",
       "    <tr>\n",
       "      <th>9329081</th>\n",
       "      <td>zymosterol</td>\n",
       "      <td>C015582</td>\n",
       "      <td>128-33-6</td>\n",
       "      <td>MICROCEPHALY, CONGENITAL CATARACT, AND PSORIAS...</td>\n",
       "      <td>OMIM:616834</td>\n",
       "      <td>NaN</td>\n",
       "      <td>MSMO1</td>\n",
       "      <td>7.80</td>\n",
       "      <td>616834</td>\n",
       "      <td>NaN</td>\n",
       "    </tr>\n",
       "    <tr>\n",
       "      <th>9329082</th>\n",
       "      <td>zymosterol</td>\n",
       "      <td>C015582</td>\n",
       "      <td>128-33-6</td>\n",
       "      <td>Xanthomatosis, Cerebrotendinous</td>\n",
       "      <td>MESH:D019294</td>\n",
       "      <td>NaN</td>\n",
       "      <td>CYP27A1</td>\n",
       "      <td>7.84</td>\n",
       "      <td>213700</td>\n",
       "      <td>12117727|15795599|17444890|19801147</td>\n",
       "    </tr>\n",
       "  </tbody>\n",
       "</table>\n",
       "<p>9329083 rows × 10 columns</p>\n",
       "</div>"
      ],
      "text/plain": [
       "                    ChemicalName ChemicalID     CasRN  \\\n",
       "0        06-Paris-LA-66 protocol    C046983       NaN   \n",
       "1                       10074-G5    C534883       NaN   \n",
       "2                       10074-G5    C534883       NaN   \n",
       "3                       10074-G5    C534883       NaN   \n",
       "4                       10074-G5    C534883       NaN   \n",
       "...                          ...        ...       ...   \n",
       "9329078               zymosterol    C015582  128-33-6   \n",
       "9329079               zymosterol    C015582  128-33-6   \n",
       "9329080               zymosterol    C015582  128-33-6   \n",
       "9329081               zymosterol    C015582  128-33-6   \n",
       "9329082               zymosterol    C015582  128-33-6   \n",
       "\n",
       "                                               DiseaseName        DiseaseID  \\\n",
       "0           Precursor Cell Lymphoblastic Leukemia-Lymphoma     MESH:D054198   \n",
       "1                                           Adenocarcinoma     MESH:D000230   \n",
       "2                                   Adenocarcinoma of Lung  MESH:D000077192   \n",
       "3                                                 Alopecia     MESH:D000505   \n",
       "4                          Androgen-Insensitivity Syndrome     MESH:D013734   \n",
       "...                                                    ...              ...   \n",
       "9329078                           Bone Diseases, Metabolic     MESH:D001851   \n",
       "9329079                                        Cholestasis     MESH:D002779   \n",
       "9329080                                    Liver Cirrhosis     MESH:D008103   \n",
       "9329081  MICROCEPHALY, CONGENITAL CATARACT, AND PSORIAS...      OMIM:616834   \n",
       "9329082                    Xanthomatosis, Cerebrotendinous     MESH:D019294   \n",
       "\n",
       "        DirectEvidence InferenceGeneSymbol  InferenceScore        OmimIDs  \\\n",
       "0          therapeutic                 NaN             NaN            NaN   \n",
       "1                  NaN                 MYC            4.07            NaN   \n",
       "2                  NaN                 MYC            4.30            NaN   \n",
       "3                  NaN                  AR            4.50            NaN   \n",
       "4                  NaN                  AR            6.87  300068|312300   \n",
       "...                ...                 ...             ...            ...   \n",
       "9329078            NaN             CYP27A1            5.92            NaN   \n",
       "9329079            NaN             CYP27A1            4.82            NaN   \n",
       "9329080            NaN             CYP27A1            4.87            NaN   \n",
       "9329081            NaN               MSMO1            7.80         616834   \n",
       "9329082            NaN             CYP27A1            7.84         213700   \n",
       "\n",
       "                                   PubMedIDs  \n",
       "0                                    4519131  \n",
       "1                                   26432044  \n",
       "2                          26656844|27602772  \n",
       "3                                   15902657  \n",
       "4                            1303262|8281139  \n",
       "...                                      ...  \n",
       "9329078                             24381012  \n",
       "9329079                             15795599  \n",
       "9329080                             24381012  \n",
       "9329081                                  NaN  \n",
       "9329082  12117727|15795599|17444890|19801147  \n",
       "\n",
       "[9329083 rows x 10 columns]"
      ]
     },
     "execution_count": 1,
     "metadata": {},
     "output_type": "execute_result"
    }
   ],
   "source": [
    "# Download Link: https://ctdbase.org/reports/CTD_chemicals_diseases.csv.gz\n",
    "# Download Date: 2025-03-21\n",
    "# Download Version: 2025-03\n",
    "\n",
    "import pandas as pd\n",
    "from io import StringIO\n",
    "# Read the lines from the file\n",
    "with open('CTD_chemicals_diseases.csv', 'r') as f:\n",
    "    lines = f.readlines()\n",
    "\n",
    "# Extract column names\n",
    "columns = []\n",
    "for line in lines:\n",
    "    if line.startswith('# Fields'):\n",
    "        # Get the following line which contains column names\n",
    "        columns = lines[lines.index(line) + 1].strip()[2:].split(',')\n",
    "        break\n",
    "\n",
    "# Filter out comment lines\n",
    "data_lines = [line for line in lines if not line.startswith('#')]\n",
    "\n",
    "# Create a DataFrame from the filtered lines\n",
    "data_str = '\\n'.join(data_lines)\n",
    "ctd = pd.read_csv(StringIO(data_str), names=columns)\n",
    "\n",
    "ctd"
   ]
  },
  {
   "cell_type": "code",
   "execution_count": 2,
   "metadata": {},
   "outputs": [
    {
     "name": "stderr",
     "output_type": "stream",
     "text": [
      "C:\\Users\\shunn\\AppData\\Local\\Temp\\ipykernel_35772\\2994966874.py:2: SettingWithCopyWarning: \n",
      "A value is trying to be set on a copy of a slice from a DataFrame.\n",
      "Try using .loc[row_indexer,col_indexer] = value instead\n",
      "\n",
      "See the caveats in the documentation: https://pandas.pydata.org/pandas-docs/stable/user_guide/indexing.html#returning-a-view-versus-a-copy\n",
      "  ctd_filter[['MESH', 'OMIM']] = ctd_filter['DiseaseID'].str.extract(r'(MESH:[^\\s]+)|(OMIM:[^\\s]+)')\n",
      "C:\\Users\\shunn\\AppData\\Local\\Temp\\ipykernel_35772\\2994966874.py:2: SettingWithCopyWarning: \n",
      "A value is trying to be set on a copy of a slice from a DataFrame.\n",
      "Try using .loc[row_indexer,col_indexer] = value instead\n",
      "\n",
      "See the caveats in the documentation: https://pandas.pydata.org/pandas-docs/stable/user_guide/indexing.html#returning-a-view-versus-a-copy\n",
      "  ctd_filter[['MESH', 'OMIM']] = ctd_filter['DiseaseID'].str.extract(r'(MESH:[^\\s]+)|(OMIM:[^\\s]+)')\n"
     ]
    },
    {
     "data": {
      "application/vnd.microsoft.datawrangler.viewer.v0+json": {
       "columns": [
        {
         "name": "index",
         "rawType": "int64",
         "type": "integer"
        },
        {
         "name": "ChemicalID",
         "rawType": "object",
         "type": "string"
        },
        {
         "name": "DiseaseID",
         "rawType": "object",
         "type": "string"
        },
        {
         "name": "OmimIDs",
         "rawType": "object",
         "type": "unknown"
        },
        {
         "name": "MESH",
         "rawType": "object",
         "type": "unknown"
        },
        {
         "name": "OMIM",
         "rawType": "object",
         "type": "unknown"
        }
       ],
       "conversionMethod": "pd.DataFrame",
       "ref": "64565ba8-38b9-4eaf-a2db-34a9f2186dc7",
       "rows": [
        [
         "0",
         "C046983",
         "MESH:D054198",
         null,
         "MESH:D054198",
         null
        ],
        [
         "1",
         "C534883",
         "MESH:D000230",
         null,
         "MESH:D000230",
         null
        ],
        [
         "2",
         "C534883",
         "MESH:D000077192",
         null,
         "MESH:D000077192",
         null
        ],
        [
         "3",
         "C534883",
         "MESH:D000505",
         null,
         "MESH:D000505",
         null
        ],
        [
         "4",
         "C534883",
         "MESH:D013734",
         "300068|312300",
         "MESH:D013734",
         null
        ],
        [
         "5",
         "C534883",
         "MESH:D001254",
         null,
         "MESH:D001254",
         null
        ],
        [
         "6",
         "C534883",
         "MESH:D001321",
         null,
         "MESH:D001321",
         null
        ],
        [
         "7",
         "C534883",
         "MESH:D001943",
         null,
         "MESH:D001943",
         null
        ],
        [
         "8",
         "C534883",
         "MESH:D018567",
         null,
         "MESH:D018567",
         null
        ],
        [
         "9",
         "C534883",
         "MESH:C537017",
         "313200",
         "MESH:C537017",
         null
        ],
        [
         "10",
         "C534883",
         "MESH:D002051",
         "113970",
         "MESH:D002051",
         null
        ],
        [
         "11",
         "C534883",
         "MESH:D002277",
         null,
         "MESH:D002277",
         null
        ],
        [
         "12",
         "C534883",
         "MESH:D044584",
         null,
         "MESH:D044584",
         null
        ],
        [
         "13",
         "C534883",
         "MESH:D006528",
         null,
         "MESH:D006528",
         null
        ],
        [
         "14",
         "C534883",
         "MESH:D006528",
         null,
         "MESH:D006528",
         null
        ],
        [
         "15",
         "C534883",
         "MESH:D015266",
         null,
         "MESH:D015266",
         null
        ],
        [
         "16",
         "C534883",
         "MESH:D002289",
         null,
         "MESH:D002289",
         null
        ],
        [
         "17",
         "C534883",
         "MESH:D002294",
         null,
         "MESH:D002294",
         null
        ],
        [
         "18",
         "C534883",
         "MESH:D002312",
         null,
         "MESH:D002312",
         null
        ],
        [
         "19",
         "C534883",
         "MESH:D002471",
         null,
         "MESH:D002471",
         null
        ],
        [
         "20",
         "C534883",
         "MESH:D019457",
         null,
         "MESH:D019457",
         null
        ],
        [
         "21",
         "C534883",
         "MESH:D002971",
         null,
         "MESH:D002971",
         null
        ],
        [
         "22",
         "C534883",
         "MESH:D002972",
         null,
         "MESH:D002972",
         null
        ],
        [
         "23",
         "C534883",
         "MESH:D003110",
         null,
         "MESH:D003110",
         null
        ],
        [
         "24",
         "C534883",
         "MESH:D015179",
         null,
         "MESH:D015179",
         null
        ],
        [
         "25",
         "C534883",
         "MESH:D016640",
         null,
         "MESH:D016640",
         null
        ],
        [
         "26",
         "C534883",
         "MESH:D004195",
         null,
         "MESH:D004195",
         null
        ],
        [
         "27",
         "C534883",
         "MESH:D018450",
         null,
         "MESH:D018450",
         null
        ],
        [
         "28",
         "C534883",
         "MESH:D016889",
         null,
         "MESH:D016889",
         null
        ],
        [
         "29",
         "C534883",
         "MESH:D004806",
         null,
         "MESH:D004806",
         null
        ],
        [
         "30",
         "C534883",
         "MESH:D005234",
         null,
         "MESH:D005234",
         null
        ],
        [
         "31",
         "C534883",
         "MESH:D005832",
         null,
         "MESH:D005832",
         null
        ],
        [
         "32",
         "C534883",
         "MESH:D005909",
         null,
         "MESH:D005909",
         null
        ],
        [
         "33",
         "C534883",
         "MESH:D006394",
         null,
         "MESH:D006394",
         null
        ],
        [
         "34",
         "C534883",
         "MESH:D006973",
         null,
         "MESH:D006973",
         null
        ],
        [
         "35",
         "C534883",
         "MESH:D017379",
         null,
         "MESH:D017379",
         null
        ],
        [
         "36",
         "C534883",
         "MESH:C567482",
         "300633",
         "MESH:C567482",
         null
        ],
        [
         "37",
         "C534883",
         "MESH:D007247",
         null,
         "MESH:D007247",
         null
        ],
        [
         "38",
         "C534883",
         "MESH:D007248",
         null,
         "MESH:D007248",
         null
        ],
        [
         "39",
         "C534883",
         "MESH:D007333",
         null,
         "MESH:D007333",
         null
        ],
        [
         "40",
         "C534883",
         "MESH:D007938",
         null,
         "MESH:D007938",
         null
        ],
        [
         "41",
         "C534883",
         "MESH:D015470",
         null,
         "MESH:D015470",
         null
        ],
        [
         "42",
         "C534883",
         "MESH:D008106",
         null,
         "MESH:D008106",
         null
        ],
        [
         "43",
         "C534883",
         "MESH:D008113",
         null,
         "MESH:D008113",
         null
        ],
        [
         "44",
         "C534883",
         "MESH:D008114",
         null,
         "MESH:D008114",
         null
        ],
        [
         "45",
         "C534883",
         "MESH:D008175",
         null,
         "MESH:D008175",
         null
        ],
        [
         "46",
         "C534883",
         "MESH:D008175",
         null,
         "MESH:D008175",
         null
        ],
        [
         "47",
         "C534883",
         "MESH:D016403",
         null,
         "MESH:D016403",
         null
        ],
        [
         "48",
         "C534883",
         "MESH:D008527",
         null,
         "MESH:D008527",
         null
        ],
        [
         "49",
         "C534883",
         "MESH:D009190",
         null,
         "MESH:D009190",
         null
        ]
       ],
       "shape": {
        "columns": 5,
        "rows": 9329083
       }
      },
      "text/html": [
       "<div>\n",
       "<style scoped>\n",
       "    .dataframe tbody tr th:only-of-type {\n",
       "        vertical-align: middle;\n",
       "    }\n",
       "\n",
       "    .dataframe tbody tr th {\n",
       "        vertical-align: top;\n",
       "    }\n",
       "\n",
       "    .dataframe thead th {\n",
       "        text-align: right;\n",
       "    }\n",
       "</style>\n",
       "<table border=\"1\" class=\"dataframe\">\n",
       "  <thead>\n",
       "    <tr style=\"text-align: right;\">\n",
       "      <th></th>\n",
       "      <th>ChemicalID</th>\n",
       "      <th>DiseaseID</th>\n",
       "      <th>OmimIDs</th>\n",
       "      <th>MESH</th>\n",
       "      <th>OMIM</th>\n",
       "    </tr>\n",
       "  </thead>\n",
       "  <tbody>\n",
       "    <tr>\n",
       "      <th>0</th>\n",
       "      <td>C046983</td>\n",
       "      <td>MESH:D054198</td>\n",
       "      <td>NaN</td>\n",
       "      <td>MESH:D054198</td>\n",
       "      <td>NaN</td>\n",
       "    </tr>\n",
       "    <tr>\n",
       "      <th>1</th>\n",
       "      <td>C534883</td>\n",
       "      <td>MESH:D000230</td>\n",
       "      <td>NaN</td>\n",
       "      <td>MESH:D000230</td>\n",
       "      <td>NaN</td>\n",
       "    </tr>\n",
       "    <tr>\n",
       "      <th>2</th>\n",
       "      <td>C534883</td>\n",
       "      <td>MESH:D000077192</td>\n",
       "      <td>NaN</td>\n",
       "      <td>MESH:D000077192</td>\n",
       "      <td>NaN</td>\n",
       "    </tr>\n",
       "    <tr>\n",
       "      <th>3</th>\n",
       "      <td>C534883</td>\n",
       "      <td>MESH:D000505</td>\n",
       "      <td>NaN</td>\n",
       "      <td>MESH:D000505</td>\n",
       "      <td>NaN</td>\n",
       "    </tr>\n",
       "    <tr>\n",
       "      <th>4</th>\n",
       "      <td>C534883</td>\n",
       "      <td>MESH:D013734</td>\n",
       "      <td>300068|312300</td>\n",
       "      <td>MESH:D013734</td>\n",
       "      <td>NaN</td>\n",
       "    </tr>\n",
       "    <tr>\n",
       "      <th>...</th>\n",
       "      <td>...</td>\n",
       "      <td>...</td>\n",
       "      <td>...</td>\n",
       "      <td>...</td>\n",
       "      <td>...</td>\n",
       "    </tr>\n",
       "    <tr>\n",
       "      <th>9329078</th>\n",
       "      <td>C015582</td>\n",
       "      <td>MESH:D001851</td>\n",
       "      <td>NaN</td>\n",
       "      <td>MESH:D001851</td>\n",
       "      <td>NaN</td>\n",
       "    </tr>\n",
       "    <tr>\n",
       "      <th>9329079</th>\n",
       "      <td>C015582</td>\n",
       "      <td>MESH:D002779</td>\n",
       "      <td>NaN</td>\n",
       "      <td>MESH:D002779</td>\n",
       "      <td>NaN</td>\n",
       "    </tr>\n",
       "    <tr>\n",
       "      <th>9329080</th>\n",
       "      <td>C015582</td>\n",
       "      <td>MESH:D008103</td>\n",
       "      <td>NaN</td>\n",
       "      <td>MESH:D008103</td>\n",
       "      <td>NaN</td>\n",
       "    </tr>\n",
       "    <tr>\n",
       "      <th>9329081</th>\n",
       "      <td>C015582</td>\n",
       "      <td>OMIM:616834</td>\n",
       "      <td>616834</td>\n",
       "      <td>NaN</td>\n",
       "      <td>OMIM:616834</td>\n",
       "    </tr>\n",
       "    <tr>\n",
       "      <th>9329082</th>\n",
       "      <td>C015582</td>\n",
       "      <td>MESH:D019294</td>\n",
       "      <td>213700</td>\n",
       "      <td>MESH:D019294</td>\n",
       "      <td>NaN</td>\n",
       "    </tr>\n",
       "  </tbody>\n",
       "</table>\n",
       "<p>9329083 rows × 5 columns</p>\n",
       "</div>"
      ],
      "text/plain": [
       "        ChemicalID        DiseaseID        OmimIDs             MESH  \\\n",
       "0          C046983     MESH:D054198            NaN     MESH:D054198   \n",
       "1          C534883     MESH:D000230            NaN     MESH:D000230   \n",
       "2          C534883  MESH:D000077192            NaN  MESH:D000077192   \n",
       "3          C534883     MESH:D000505            NaN     MESH:D000505   \n",
       "4          C534883     MESH:D013734  300068|312300     MESH:D013734   \n",
       "...            ...              ...            ...              ...   \n",
       "9329078    C015582     MESH:D001851            NaN     MESH:D001851   \n",
       "9329079    C015582     MESH:D002779            NaN     MESH:D002779   \n",
       "9329080    C015582     MESH:D008103            NaN     MESH:D008103   \n",
       "9329081    C015582      OMIM:616834         616834              NaN   \n",
       "9329082    C015582     MESH:D019294         213700     MESH:D019294   \n",
       "\n",
       "                OMIM  \n",
       "0                NaN  \n",
       "1                NaN  \n",
       "2                NaN  \n",
       "3                NaN  \n",
       "4                NaN  \n",
       "...              ...  \n",
       "9329078          NaN  \n",
       "9329079          NaN  \n",
       "9329080          NaN  \n",
       "9329081  OMIM:616834  \n",
       "9329082          NaN  \n",
       "\n",
       "[9329083 rows x 5 columns]"
      ]
     },
     "execution_count": 2,
     "metadata": {},
     "output_type": "execute_result"
    }
   ],
   "source": [
    "ctd_filter = ctd[['ChemicalID', 'DiseaseID', 'OmimIDs']]\n",
    "ctd_filter[['MESH', 'OMIM']] = ctd_filter['DiseaseID'].str.extract(r'(MESH:[^\\s]+)|(OMIM:[^\\s]+)')\n",
    "ctd_filter"
   ]
  },
  {
   "cell_type": "code",
   "execution_count": 3,
   "metadata": {},
   "outputs": [
    {
     "name": "stderr",
     "output_type": "stream",
     "text": [
      "C:\\Users\\shunn\\AppData\\Local\\Temp\\ipykernel_35772\\3872167810.py:16: SettingWithCopyWarning: \n",
      "A value is trying to be set on a copy of a slice from a DataFrame.\n",
      "Try using .loc[row_indexer,col_indexer] = value instead\n",
      "\n",
      "See the caveats in the documentation: https://pandas.pydata.org/pandas-docs/stable/user_guide/indexing.html#returning-a-view-versus-a-copy\n",
      "  ctd_filter['OmimIDs'] = ctd_filter['OmimIDs'].str.replace('|', ';').replace('OMIM:', '')\n",
      "C:\\Users\\shunn\\AppData\\Local\\Temp\\ipykernel_35772\\3872167810.py:11: SettingWithCopyWarning: \n",
      "A value is trying to be set on a copy of a slice from a DataFrame.\n",
      "Try using .loc[row_indexer,col_indexer] = value instead\n",
      "\n",
      "See the caveats in the documentation: https://pandas.pydata.org/pandas-docs/stable/user_guide/indexing.html#returning-a-view-versus-a-copy\n",
      "  df[combined_column_name] = df.apply(merge_strings, axis=1)\n",
      "C:\\Users\\shunn\\AppData\\Local\\Temp\\ipykernel_35772\\3872167810.py:12: SettingWithCopyWarning: \n",
      "A value is trying to be set on a copy of a slice from a DataFrame\n",
      "\n",
      "See the caveats in the documentation: https://pandas.pydata.org/pandas-docs/stable/user_guide/indexing.html#returning-a-view-versus-a-copy\n",
      "  df.drop(columns=columns, inplace=True)\n"
     ]
    },
    {
     "data": {
      "application/vnd.microsoft.datawrangler.viewer.v0+json": {
       "columns": [
        {
         "name": "index",
         "rawType": "int64",
         "type": "integer"
        },
        {
         "name": "ChemicalID",
         "rawType": "object",
         "type": "string"
        },
        {
         "name": "DiseaseID",
         "rawType": "object",
         "type": "string"
        },
        {
         "name": "MESH",
         "rawType": "object",
         "type": "unknown"
        },
        {
         "name": "omim",
         "rawType": "object",
         "type": "string"
        }
       ],
       "conversionMethod": "pd.DataFrame",
       "ref": "b51d6b27-5aeb-4706-b9db-4fee8bbc9053",
       "rows": [
        [
         "0",
         "C046983",
         "MESH:D054198",
         "MESH:D054198",
         ""
        ],
        [
         "1",
         "C534883",
         "MESH:D000230",
         "MESH:D000230",
         ""
        ],
        [
         "2",
         "C534883",
         "MESH:D000077192",
         "MESH:D000077192",
         ""
        ],
        [
         "3",
         "C534883",
         "MESH:D000505",
         "MESH:D000505",
         ""
        ],
        [
         "4",
         "C534883",
         "MESH:D013734",
         "MESH:D013734",
         "300068;312300"
        ],
        [
         "5",
         "C534883",
         "MESH:D001254",
         "MESH:D001254",
         ""
        ],
        [
         "6",
         "C534883",
         "MESH:D001321",
         "MESH:D001321",
         ""
        ],
        [
         "7",
         "C534883",
         "MESH:D001943",
         "MESH:D001943",
         ""
        ],
        [
         "8",
         "C534883",
         "MESH:D018567",
         "MESH:D018567",
         ""
        ],
        [
         "9",
         "C534883",
         "MESH:C537017",
         "MESH:C537017",
         "313200"
        ],
        [
         "10",
         "C534883",
         "MESH:D002051",
         "MESH:D002051",
         "113970"
        ],
        [
         "11",
         "C534883",
         "MESH:D002277",
         "MESH:D002277",
         ""
        ],
        [
         "12",
         "C534883",
         "MESH:D044584",
         "MESH:D044584",
         ""
        ],
        [
         "13",
         "C534883",
         "MESH:D006528",
         "MESH:D006528",
         ""
        ],
        [
         "14",
         "C534883",
         "MESH:D006528",
         "MESH:D006528",
         ""
        ],
        [
         "15",
         "C534883",
         "MESH:D015266",
         "MESH:D015266",
         ""
        ],
        [
         "16",
         "C534883",
         "MESH:D002289",
         "MESH:D002289",
         ""
        ],
        [
         "17",
         "C534883",
         "MESH:D002294",
         "MESH:D002294",
         ""
        ],
        [
         "18",
         "C534883",
         "MESH:D002312",
         "MESH:D002312",
         ""
        ],
        [
         "19",
         "C534883",
         "MESH:D002471",
         "MESH:D002471",
         ""
        ],
        [
         "20",
         "C534883",
         "MESH:D019457",
         "MESH:D019457",
         ""
        ],
        [
         "21",
         "C534883",
         "MESH:D002971",
         "MESH:D002971",
         ""
        ],
        [
         "22",
         "C534883",
         "MESH:D002972",
         "MESH:D002972",
         ""
        ],
        [
         "23",
         "C534883",
         "MESH:D003110",
         "MESH:D003110",
         ""
        ],
        [
         "24",
         "C534883",
         "MESH:D015179",
         "MESH:D015179",
         ""
        ],
        [
         "25",
         "C534883",
         "MESH:D016640",
         "MESH:D016640",
         ""
        ],
        [
         "26",
         "C534883",
         "MESH:D004195",
         "MESH:D004195",
         ""
        ],
        [
         "27",
         "C534883",
         "MESH:D018450",
         "MESH:D018450",
         ""
        ],
        [
         "28",
         "C534883",
         "MESH:D016889",
         "MESH:D016889",
         ""
        ],
        [
         "29",
         "C534883",
         "MESH:D004806",
         "MESH:D004806",
         ""
        ],
        [
         "30",
         "C534883",
         "MESH:D005234",
         "MESH:D005234",
         ""
        ],
        [
         "31",
         "C534883",
         "MESH:D005832",
         "MESH:D005832",
         ""
        ],
        [
         "32",
         "C534883",
         "MESH:D005909",
         "MESH:D005909",
         ""
        ],
        [
         "33",
         "C534883",
         "MESH:D006394",
         "MESH:D006394",
         ""
        ],
        [
         "34",
         "C534883",
         "MESH:D006973",
         "MESH:D006973",
         ""
        ],
        [
         "35",
         "C534883",
         "MESH:D017379",
         "MESH:D017379",
         ""
        ],
        [
         "36",
         "C534883",
         "MESH:C567482",
         "MESH:C567482",
         "300633"
        ],
        [
         "37",
         "C534883",
         "MESH:D007247",
         "MESH:D007247",
         ""
        ],
        [
         "38",
         "C534883",
         "MESH:D007248",
         "MESH:D007248",
         ""
        ],
        [
         "39",
         "C534883",
         "MESH:D007333",
         "MESH:D007333",
         ""
        ],
        [
         "40",
         "C534883",
         "MESH:D007938",
         "MESH:D007938",
         ""
        ],
        [
         "41",
         "C534883",
         "MESH:D015470",
         "MESH:D015470",
         ""
        ],
        [
         "42",
         "C534883",
         "MESH:D008106",
         "MESH:D008106",
         ""
        ],
        [
         "43",
         "C534883",
         "MESH:D008113",
         "MESH:D008113",
         ""
        ],
        [
         "44",
         "C534883",
         "MESH:D008114",
         "MESH:D008114",
         ""
        ],
        [
         "45",
         "C534883",
         "MESH:D008175",
         "MESH:D008175",
         ""
        ],
        [
         "46",
         "C534883",
         "MESH:D008175",
         "MESH:D008175",
         ""
        ],
        [
         "47",
         "C534883",
         "MESH:D016403",
         "MESH:D016403",
         ""
        ],
        [
         "48",
         "C534883",
         "MESH:D008527",
         "MESH:D008527",
         ""
        ],
        [
         "49",
         "C534883",
         "MESH:D009190",
         "MESH:D009190",
         ""
        ]
       ],
       "shape": {
        "columns": 4,
        "rows": 9329083
       }
      },
      "text/html": [
       "<div>\n",
       "<style scoped>\n",
       "    .dataframe tbody tr th:only-of-type {\n",
       "        vertical-align: middle;\n",
       "    }\n",
       "\n",
       "    .dataframe tbody tr th {\n",
       "        vertical-align: top;\n",
       "    }\n",
       "\n",
       "    .dataframe thead th {\n",
       "        text-align: right;\n",
       "    }\n",
       "</style>\n",
       "<table border=\"1\" class=\"dataframe\">\n",
       "  <thead>\n",
       "    <tr style=\"text-align: right;\">\n",
       "      <th></th>\n",
       "      <th>ChemicalID</th>\n",
       "      <th>DiseaseID</th>\n",
       "      <th>MESH</th>\n",
       "      <th>omim</th>\n",
       "    </tr>\n",
       "  </thead>\n",
       "  <tbody>\n",
       "    <tr>\n",
       "      <th>0</th>\n",
       "      <td>C046983</td>\n",
       "      <td>MESH:D054198</td>\n",
       "      <td>MESH:D054198</td>\n",
       "      <td></td>\n",
       "    </tr>\n",
       "    <tr>\n",
       "      <th>1</th>\n",
       "      <td>C534883</td>\n",
       "      <td>MESH:D000230</td>\n",
       "      <td>MESH:D000230</td>\n",
       "      <td></td>\n",
       "    </tr>\n",
       "    <tr>\n",
       "      <th>2</th>\n",
       "      <td>C534883</td>\n",
       "      <td>MESH:D000077192</td>\n",
       "      <td>MESH:D000077192</td>\n",
       "      <td></td>\n",
       "    </tr>\n",
       "    <tr>\n",
       "      <th>3</th>\n",
       "      <td>C534883</td>\n",
       "      <td>MESH:D000505</td>\n",
       "      <td>MESH:D000505</td>\n",
       "      <td></td>\n",
       "    </tr>\n",
       "    <tr>\n",
       "      <th>4</th>\n",
       "      <td>C534883</td>\n",
       "      <td>MESH:D013734</td>\n",
       "      <td>MESH:D013734</td>\n",
       "      <td>300068;312300</td>\n",
       "    </tr>\n",
       "    <tr>\n",
       "      <th>...</th>\n",
       "      <td>...</td>\n",
       "      <td>...</td>\n",
       "      <td>...</td>\n",
       "      <td>...</td>\n",
       "    </tr>\n",
       "    <tr>\n",
       "      <th>9329078</th>\n",
       "      <td>C015582</td>\n",
       "      <td>MESH:D001851</td>\n",
       "      <td>MESH:D001851</td>\n",
       "      <td></td>\n",
       "    </tr>\n",
       "    <tr>\n",
       "      <th>9329079</th>\n",
       "      <td>C015582</td>\n",
       "      <td>MESH:D002779</td>\n",
       "      <td>MESH:D002779</td>\n",
       "      <td></td>\n",
       "    </tr>\n",
       "    <tr>\n",
       "      <th>9329080</th>\n",
       "      <td>C015582</td>\n",
       "      <td>MESH:D008103</td>\n",
       "      <td>MESH:D008103</td>\n",
       "      <td></td>\n",
       "    </tr>\n",
       "    <tr>\n",
       "      <th>9329081</th>\n",
       "      <td>C015582</td>\n",
       "      <td>OMIM:616834</td>\n",
       "      <td>NaN</td>\n",
       "      <td>OMIM:616834;616834</td>\n",
       "    </tr>\n",
       "    <tr>\n",
       "      <th>9329082</th>\n",
       "      <td>C015582</td>\n",
       "      <td>MESH:D019294</td>\n",
       "      <td>MESH:D019294</td>\n",
       "      <td>213700</td>\n",
       "    </tr>\n",
       "  </tbody>\n",
       "</table>\n",
       "<p>9329083 rows × 4 columns</p>\n",
       "</div>"
      ],
      "text/plain": [
       "        ChemicalID        DiseaseID             MESH                omim\n",
       "0          C046983     MESH:D054198     MESH:D054198                    \n",
       "1          C534883     MESH:D000230     MESH:D000230                    \n",
       "2          C534883  MESH:D000077192  MESH:D000077192                    \n",
       "3          C534883     MESH:D000505     MESH:D000505                    \n",
       "4          C534883     MESH:D013734     MESH:D013734       300068;312300\n",
       "...            ...              ...              ...                 ...\n",
       "9329078    C015582     MESH:D001851     MESH:D001851                    \n",
       "9329079    C015582     MESH:D002779     MESH:D002779                    \n",
       "9329080    C015582     MESH:D008103     MESH:D008103                    \n",
       "9329081    C015582      OMIM:616834              NaN  OMIM:616834;616834\n",
       "9329082    C015582     MESH:D019294     MESH:D019294              213700\n",
       "\n",
       "[9329083 rows x 4 columns]"
      ]
     },
     "execution_count": 3,
     "metadata": {},
     "output_type": "execute_result"
    }
   ],
   "source": [
    "def merge_string_columns(df, columns, merge_name, separator=';'):\n",
    "    def merge_strings(row):\n",
    "        combined = set()\n",
    "        for column in columns:\n",
    "            if pd.notnull(row[column]):\n",
    "                combined.update(row[column].split(separator))\n",
    "        return separator.join(combined)\n",
    "    \n",
    "    # Apply the function to each row and create a new column\n",
    "    combined_column_name = merge_name\n",
    "    df[combined_column_name] = df.apply(merge_strings, axis=1)\n",
    "    df.drop(columns=columns, inplace=True)\n",
    "\n",
    "    return df\n",
    "\n",
    "ctd_filter['OmimIDs'] = ctd_filter['OmimIDs'].str.replace('|', ';').replace('OMIM:', '')\n",
    "ctd_filter = merge_string_columns(ctd_filter, ['OmimIDs', 'OMIM'], 'omim')\n",
    "ctd_filter"
   ]
  },
  {
   "cell_type": "markdown",
   "metadata": {},
   "source": [
    "### BioMedGraphica ID"
   ]
  },
  {
   "cell_type": "code",
   "execution_count": 4,
   "metadata": {},
   "outputs": [],
   "source": [
    "import pandas as pd\n",
    "import os\n",
    "from pathlib import Path\n",
    "\n",
    "current_working_dir = Path(os.getcwd()).resolve()\n",
    "grandparent_dir = current_working_dir.parent.parent.parent\n",
    "target_dir_exposure = grandparent_dir / 'BioMedGraphica' / 'Entity' / 'Exposure' / 'BioMedGraphica_Exposure.csv'\n",
    "target_dir_disease = grandparent_dir / 'BioMedGraphica' / 'Entity' / 'Disease' / 'BioMedGraphica_Disease.csv'\n",
    "biomedgraphica_exposure = pd.read_csv(target_dir_exposure, dtype=str)\n",
    "biomedgraphica_disease = pd.read_csv(target_dir_disease, dtype=str)"
   ]
  },
  {
   "cell_type": "markdown",
   "metadata": {},
   "source": [
    "### CTD Mapping"
   ]
  },
  {
   "cell_type": "code",
   "execution_count": 5,
   "metadata": {},
   "outputs": [
    {
     "name": "stderr",
     "output_type": "stream",
     "text": [
      "C:\\Users\\shunn\\AppData\\Local\\Temp\\ipykernel_35772\\1095249926.py:2: SettingWithCopyWarning: \n",
      "A value is trying to be set on a copy of a slice from a DataFrame\n",
      "\n",
      "See the caveats in the documentation: https://pandas.pydata.org/pandas-docs/stable/user_guide/indexing.html#returning-a-view-versus-a-copy\n",
      "  mesh_individual.dropna(subset=['MeSH_ID'], inplace=True)\n",
      "C:\\Users\\shunn\\AppData\\Local\\Temp\\ipykernel_35772\\1095249926.py:7: SettingWithCopyWarning: \n",
      "A value is trying to be set on a copy of a slice from a DataFrame.\n",
      "Try using .loc[row_indexer,col_indexer] = value instead\n",
      "\n",
      "See the caveats in the documentation: https://pandas.pydata.org/pandas-docs/stable/user_guide/indexing.html#returning-a-view-versus-a-copy\n",
      "  ctd_filter['From_ID'] = ctd_filter['ChemicalID'].map(mesh_to_individual)\n"
     ]
    },
    {
     "data": {
      "application/vnd.microsoft.datawrangler.viewer.v0+json": {
       "columns": [
        {
         "name": "index",
         "rawType": "int64",
         "type": "integer"
        },
        {
         "name": "ChemicalID",
         "rawType": "object",
         "type": "string"
        },
        {
         "name": "DiseaseID",
         "rawType": "object",
         "type": "string"
        },
        {
         "name": "MESH",
         "rawType": "object",
         "type": "unknown"
        },
        {
         "name": "omim",
         "rawType": "object",
         "type": "string"
        },
        {
         "name": "From_ID",
         "rawType": "object",
         "type": "unknown"
        }
       ],
       "conversionMethod": "pd.DataFrame",
       "ref": "8e5d8472-a29e-4a6b-a51e-d9639f1c90e8",
       "rows": [
        [
         "0",
         "C046983",
         "MESH:D054198",
         "MESH:D054198",
         "",
         null
        ],
        [
         "1",
         "C534883",
         "MESH:D000230",
         "MESH:D000230",
         "",
         null
        ],
        [
         "2",
         "C534883",
         "MESH:D000077192",
         "MESH:D000077192",
         "",
         null
        ],
        [
         "3",
         "C534883",
         "MESH:D000505",
         "MESH:D000505",
         "",
         null
        ],
        [
         "4",
         "C534883",
         "MESH:D013734",
         "MESH:D013734",
         "300068;312300",
         null
        ],
        [
         "5",
         "C534883",
         "MESH:D001254",
         "MESH:D001254",
         "",
         null
        ],
        [
         "6",
         "C534883",
         "MESH:D001321",
         "MESH:D001321",
         "",
         null
        ],
        [
         "7",
         "C534883",
         "MESH:D001943",
         "MESH:D001943",
         "",
         null
        ],
        [
         "8",
         "C534883",
         "MESH:D018567",
         "MESH:D018567",
         "",
         null
        ],
        [
         "9",
         "C534883",
         "MESH:C537017",
         "MESH:C537017",
         "313200",
         null
        ],
        [
         "10",
         "C534883",
         "MESH:D002051",
         "MESH:D002051",
         "113970",
         null
        ],
        [
         "11",
         "C534883",
         "MESH:D002277",
         "MESH:D002277",
         "",
         null
        ],
        [
         "12",
         "C534883",
         "MESH:D044584",
         "MESH:D044584",
         "",
         null
        ],
        [
         "13",
         "C534883",
         "MESH:D006528",
         "MESH:D006528",
         "",
         null
        ],
        [
         "14",
         "C534883",
         "MESH:D006528",
         "MESH:D006528",
         "",
         null
        ],
        [
         "15",
         "C534883",
         "MESH:D015266",
         "MESH:D015266",
         "",
         null
        ],
        [
         "16",
         "C534883",
         "MESH:D002289",
         "MESH:D002289",
         "",
         null
        ],
        [
         "17",
         "C534883",
         "MESH:D002294",
         "MESH:D002294",
         "",
         null
        ],
        [
         "18",
         "C534883",
         "MESH:D002312",
         "MESH:D002312",
         "",
         null
        ],
        [
         "19",
         "C534883",
         "MESH:D002471",
         "MESH:D002471",
         "",
         null
        ],
        [
         "20",
         "C534883",
         "MESH:D019457",
         "MESH:D019457",
         "",
         null
        ],
        [
         "21",
         "C534883",
         "MESH:D002971",
         "MESH:D002971",
         "",
         null
        ],
        [
         "22",
         "C534883",
         "MESH:D002972",
         "MESH:D002972",
         "",
         null
        ],
        [
         "23",
         "C534883",
         "MESH:D003110",
         "MESH:D003110",
         "",
         null
        ],
        [
         "24",
         "C534883",
         "MESH:D015179",
         "MESH:D015179",
         "",
         null
        ],
        [
         "25",
         "C534883",
         "MESH:D016640",
         "MESH:D016640",
         "",
         null
        ],
        [
         "26",
         "C534883",
         "MESH:D004195",
         "MESH:D004195",
         "",
         null
        ],
        [
         "27",
         "C534883",
         "MESH:D018450",
         "MESH:D018450",
         "",
         null
        ],
        [
         "28",
         "C534883",
         "MESH:D016889",
         "MESH:D016889",
         "",
         null
        ],
        [
         "29",
         "C534883",
         "MESH:D004806",
         "MESH:D004806",
         "",
         null
        ],
        [
         "30",
         "C534883",
         "MESH:D005234",
         "MESH:D005234",
         "",
         null
        ],
        [
         "31",
         "C534883",
         "MESH:D005832",
         "MESH:D005832",
         "",
         null
        ],
        [
         "32",
         "C534883",
         "MESH:D005909",
         "MESH:D005909",
         "",
         null
        ],
        [
         "33",
         "C534883",
         "MESH:D006394",
         "MESH:D006394",
         "",
         null
        ],
        [
         "34",
         "C534883",
         "MESH:D006973",
         "MESH:D006973",
         "",
         null
        ],
        [
         "35",
         "C534883",
         "MESH:D017379",
         "MESH:D017379",
         "",
         null
        ],
        [
         "36",
         "C534883",
         "MESH:C567482",
         "MESH:C567482",
         "300633",
         null
        ],
        [
         "37",
         "C534883",
         "MESH:D007247",
         "MESH:D007247",
         "",
         null
        ],
        [
         "38",
         "C534883",
         "MESH:D007248",
         "MESH:D007248",
         "",
         null
        ],
        [
         "39",
         "C534883",
         "MESH:D007333",
         "MESH:D007333",
         "",
         null
        ],
        [
         "40",
         "C534883",
         "MESH:D007938",
         "MESH:D007938",
         "",
         null
        ],
        [
         "41",
         "C534883",
         "MESH:D015470",
         "MESH:D015470",
         "",
         null
        ],
        [
         "42",
         "C534883",
         "MESH:D008106",
         "MESH:D008106",
         "",
         null
        ],
        [
         "43",
         "C534883",
         "MESH:D008113",
         "MESH:D008113",
         "",
         null
        ],
        [
         "44",
         "C534883",
         "MESH:D008114",
         "MESH:D008114",
         "",
         null
        ],
        [
         "45",
         "C534883",
         "MESH:D008175",
         "MESH:D008175",
         "",
         null
        ],
        [
         "46",
         "C534883",
         "MESH:D008175",
         "MESH:D008175",
         "",
         null
        ],
        [
         "47",
         "C534883",
         "MESH:D016403",
         "MESH:D016403",
         "",
         null
        ],
        [
         "48",
         "C534883",
         "MESH:D008527",
         "MESH:D008527",
         "",
         null
        ],
        [
         "49",
         "C534883",
         "MESH:D009190",
         "MESH:D009190",
         "",
         null
        ]
       ],
       "shape": {
        "columns": 5,
        "rows": 9329083
       }
      },
      "text/html": [
       "<div>\n",
       "<style scoped>\n",
       "    .dataframe tbody tr th:only-of-type {\n",
       "        vertical-align: middle;\n",
       "    }\n",
       "\n",
       "    .dataframe tbody tr th {\n",
       "        vertical-align: top;\n",
       "    }\n",
       "\n",
       "    .dataframe thead th {\n",
       "        text-align: right;\n",
       "    }\n",
       "</style>\n",
       "<table border=\"1\" class=\"dataframe\">\n",
       "  <thead>\n",
       "    <tr style=\"text-align: right;\">\n",
       "      <th></th>\n",
       "      <th>ChemicalID</th>\n",
       "      <th>DiseaseID</th>\n",
       "      <th>MESH</th>\n",
       "      <th>omim</th>\n",
       "      <th>From_ID</th>\n",
       "    </tr>\n",
       "  </thead>\n",
       "  <tbody>\n",
       "    <tr>\n",
       "      <th>0</th>\n",
       "      <td>C046983</td>\n",
       "      <td>MESH:D054198</td>\n",
       "      <td>MESH:D054198</td>\n",
       "      <td></td>\n",
       "      <td>NaN</td>\n",
       "    </tr>\n",
       "    <tr>\n",
       "      <th>1</th>\n",
       "      <td>C534883</td>\n",
       "      <td>MESH:D000230</td>\n",
       "      <td>MESH:D000230</td>\n",
       "      <td></td>\n",
       "      <td>NaN</td>\n",
       "    </tr>\n",
       "    <tr>\n",
       "      <th>2</th>\n",
       "      <td>C534883</td>\n",
       "      <td>MESH:D000077192</td>\n",
       "      <td>MESH:D000077192</td>\n",
       "      <td></td>\n",
       "      <td>NaN</td>\n",
       "    </tr>\n",
       "    <tr>\n",
       "      <th>3</th>\n",
       "      <td>C534883</td>\n",
       "      <td>MESH:D000505</td>\n",
       "      <td>MESH:D000505</td>\n",
       "      <td></td>\n",
       "      <td>NaN</td>\n",
       "    </tr>\n",
       "    <tr>\n",
       "      <th>4</th>\n",
       "      <td>C534883</td>\n",
       "      <td>MESH:D013734</td>\n",
       "      <td>MESH:D013734</td>\n",
       "      <td>300068;312300</td>\n",
       "      <td>NaN</td>\n",
       "    </tr>\n",
       "    <tr>\n",
       "      <th>...</th>\n",
       "      <td>...</td>\n",
       "      <td>...</td>\n",
       "      <td>...</td>\n",
       "      <td>...</td>\n",
       "      <td>...</td>\n",
       "    </tr>\n",
       "    <tr>\n",
       "      <th>9329078</th>\n",
       "      <td>C015582</td>\n",
       "      <td>MESH:D001851</td>\n",
       "      <td>MESH:D001851</td>\n",
       "      <td></td>\n",
       "      <td>NaN</td>\n",
       "    </tr>\n",
       "    <tr>\n",
       "      <th>9329079</th>\n",
       "      <td>C015582</td>\n",
       "      <td>MESH:D002779</td>\n",
       "      <td>MESH:D002779</td>\n",
       "      <td></td>\n",
       "      <td>NaN</td>\n",
       "    </tr>\n",
       "    <tr>\n",
       "      <th>9329080</th>\n",
       "      <td>C015582</td>\n",
       "      <td>MESH:D008103</td>\n",
       "      <td>MESH:D008103</td>\n",
       "      <td></td>\n",
       "      <td>NaN</td>\n",
       "    </tr>\n",
       "    <tr>\n",
       "      <th>9329081</th>\n",
       "      <td>C015582</td>\n",
       "      <td>OMIM:616834</td>\n",
       "      <td>NaN</td>\n",
       "      <td>OMIM:616834;616834</td>\n",
       "      <td>NaN</td>\n",
       "    </tr>\n",
       "    <tr>\n",
       "      <th>9329082</th>\n",
       "      <td>C015582</td>\n",
       "      <td>MESH:D019294</td>\n",
       "      <td>MESH:D019294</td>\n",
       "      <td>213700</td>\n",
       "      <td>NaN</td>\n",
       "    </tr>\n",
       "  </tbody>\n",
       "</table>\n",
       "<p>9329083 rows × 5 columns</p>\n",
       "</div>"
      ],
      "text/plain": [
       "        ChemicalID        DiseaseID             MESH                omim  \\\n",
       "0          C046983     MESH:D054198     MESH:D054198                       \n",
       "1          C534883     MESH:D000230     MESH:D000230                       \n",
       "2          C534883  MESH:D000077192  MESH:D000077192                       \n",
       "3          C534883     MESH:D000505     MESH:D000505                       \n",
       "4          C534883     MESH:D013734     MESH:D013734       300068;312300   \n",
       "...            ...              ...              ...                 ...   \n",
       "9329078    C015582     MESH:D001851     MESH:D001851                       \n",
       "9329079    C015582     MESH:D002779     MESH:D002779                       \n",
       "9329080    C015582     MESH:D008103     MESH:D008103                       \n",
       "9329081    C015582      OMIM:616834              NaN  OMIM:616834;616834   \n",
       "9329082    C015582     MESH:D019294     MESH:D019294              213700   \n",
       "\n",
       "        From_ID  \n",
       "0           NaN  \n",
       "1           NaN  \n",
       "2           NaN  \n",
       "3           NaN  \n",
       "4           NaN  \n",
       "...         ...  \n",
       "9329078     NaN  \n",
       "9329079     NaN  \n",
       "9329080     NaN  \n",
       "9329081     NaN  \n",
       "9329082     NaN  \n",
       "\n",
       "[9329083 rows x 5 columns]"
      ]
     },
     "execution_count": 5,
     "metadata": {},
     "output_type": "execute_result"
    }
   ],
   "source": [
    "mesh_individual = biomedgraphica_exposure[['MeSH_ID', 'BioMedGraphica_ID']]\n",
    "mesh_individual.dropna(subset=['MeSH_ID'], inplace=True)\n",
    "mesh_individual = mesh_individual.assign(MeSH_ID=mesh_individual['MeSH_ID'].str.split(';')).explode('MeSH_ID')\n",
    "\n",
    "mesh_to_individual = mesh_individual.groupby('MeSH_ID')['BioMedGraphica_ID'].apply(lambda x: ';'.join(x.dropna().unique())).to_dict()\n",
    "\n",
    "ctd_filter['From_ID'] = ctd_filter['ChemicalID'].map(mesh_to_individual)\n",
    "ctd_filter"
   ]
  },
  {
   "cell_type": "code",
   "execution_count": 6,
   "metadata": {},
   "outputs": [
    {
     "name": "stderr",
     "output_type": "stream",
     "text": [
      "C:\\Users\\shunn\\AppData\\Local\\Temp\\ipykernel_35772\\329021157.py:2: SettingWithCopyWarning: \n",
      "A value is trying to be set on a copy of a slice from a DataFrame\n",
      "\n",
      "See the caveats in the documentation: https://pandas.pydata.org/pandas-docs/stable/user_guide/indexing.html#returning-a-view-versus-a-copy\n",
      "  omim_individual.dropna(subset=['OMIM_ID'], inplace=True)\n",
      "C:\\Users\\shunn\\AppData\\Local\\Temp\\ipykernel_35772\\329021157.py:7: SettingWithCopyWarning: \n",
      "A value is trying to be set on a copy of a slice from a DataFrame.\n",
      "Try using .loc[row_indexer,col_indexer] = value instead\n",
      "\n",
      "See the caveats in the documentation: https://pandas.pydata.org/pandas-docs/stable/user_guide/indexing.html#returning-a-view-versus-a-copy\n",
      "  ctd_filter['omim'] = ctd_filter['omim'].str.split(';')\n"
     ]
    },
    {
     "data": {
      "application/vnd.microsoft.datawrangler.viewer.v0+json": {
       "columns": [
        {
         "name": "index",
         "rawType": "int64",
         "type": "integer"
        },
        {
         "name": "ChemicalID",
         "rawType": "object",
         "type": "string"
        },
        {
         "name": "DiseaseID",
         "rawType": "object",
         "type": "string"
        },
        {
         "name": "MESH",
         "rawType": "object",
         "type": "unknown"
        },
        {
         "name": "omim",
         "rawType": "object",
         "type": "string"
        },
        {
         "name": "From_ID",
         "rawType": "object",
         "type": "unknown"
        },
        {
         "name": "OMIM",
         "rawType": "object",
         "type": "unknown"
        }
       ],
       "conversionMethod": "pd.DataFrame",
       "ref": "3a5fda19-9335-46ab-8c2b-c75801083212",
       "rows": [
        [
         "0",
         "C046983",
         "MESH:D054198",
         "MESH:D054198",
         "",
         null,
         null
        ],
        [
         "1",
         "C534883",
         "MESH:D000230",
         "MESH:D000230",
         "",
         null,
         null
        ],
        [
         "2",
         "C534883",
         "MESH:D000077192",
         "MESH:D000077192",
         "",
         null,
         null
        ],
        [
         "3",
         "C534883",
         "MESH:D000505",
         "MESH:D000505",
         "",
         null,
         null
        ],
        [
         "4",
         "C534883",
         "MESH:D013734",
         "MESH:D013734",
         "300068",
         null,
         "BMG_DS003142"
        ],
        [
         "4",
         "C534883",
         "MESH:D013734",
         "MESH:D013734",
         "312300",
         null,
         "BMG_DS010022;BMG_DS080212"
        ],
        [
         "5",
         "C534883",
         "MESH:D001254",
         "MESH:D001254",
         "",
         null,
         null
        ],
        [
         "6",
         "C534883",
         "MESH:D001321",
         "MESH:D001321",
         "",
         null,
         null
        ],
        [
         "7",
         "C534883",
         "MESH:D001943",
         "MESH:D001943",
         "",
         null,
         null
        ],
        [
         "8",
         "C534883",
         "MESH:D018567",
         "MESH:D018567",
         "",
         null,
         null
        ],
        [
         "9",
         "C534883",
         "MESH:C537017",
         "MESH:C537017",
         "313200",
         null,
         "BMG_DS038415"
        ],
        [
         "10",
         "C534883",
         "MESH:D002051",
         "MESH:D002051",
         "113970",
         null,
         "BMG_DS000433"
        ],
        [
         "11",
         "C534883",
         "MESH:D002277",
         "MESH:D002277",
         "",
         null,
         null
        ],
        [
         "12",
         "C534883",
         "MESH:D044584",
         "MESH:D044584",
         "",
         null,
         null
        ],
        [
         "13",
         "C534883",
         "MESH:D006528",
         "MESH:D006528",
         "",
         null,
         null
        ],
        [
         "14",
         "C534883",
         "MESH:D006528",
         "MESH:D006528",
         "",
         null,
         null
        ],
        [
         "15",
         "C534883",
         "MESH:D015266",
         "MESH:D015266",
         "",
         null,
         null
        ],
        [
         "16",
         "C534883",
         "MESH:D002289",
         "MESH:D002289",
         "",
         null,
         null
        ],
        [
         "17",
         "C534883",
         "MESH:D002294",
         "MESH:D002294",
         "",
         null,
         null
        ],
        [
         "18",
         "C534883",
         "MESH:D002312",
         "MESH:D002312",
         "",
         null,
         null
        ],
        [
         "19",
         "C534883",
         "MESH:D002471",
         "MESH:D002471",
         "",
         null,
         null
        ],
        [
         "20",
         "C534883",
         "MESH:D019457",
         "MESH:D019457",
         "",
         null,
         null
        ],
        [
         "21",
         "C534883",
         "MESH:D002971",
         "MESH:D002971",
         "",
         null,
         null
        ],
        [
         "22",
         "C534883",
         "MESH:D002972",
         "MESH:D002972",
         "",
         null,
         null
        ],
        [
         "23",
         "C534883",
         "MESH:D003110",
         "MESH:D003110",
         "",
         null,
         null
        ],
        [
         "24",
         "C534883",
         "MESH:D015179",
         "MESH:D015179",
         "",
         null,
         null
        ],
        [
         "25",
         "C534883",
         "MESH:D016640",
         "MESH:D016640",
         "",
         null,
         null
        ],
        [
         "26",
         "C534883",
         "MESH:D004195",
         "MESH:D004195",
         "",
         null,
         null
        ],
        [
         "27",
         "C534883",
         "MESH:D018450",
         "MESH:D018450",
         "",
         null,
         null
        ],
        [
         "28",
         "C534883",
         "MESH:D016889",
         "MESH:D016889",
         "",
         null,
         null
        ],
        [
         "29",
         "C534883",
         "MESH:D004806",
         "MESH:D004806",
         "",
         null,
         null
        ],
        [
         "30",
         "C534883",
         "MESH:D005234",
         "MESH:D005234",
         "",
         null,
         null
        ],
        [
         "31",
         "C534883",
         "MESH:D005832",
         "MESH:D005832",
         "",
         null,
         null
        ],
        [
         "32",
         "C534883",
         "MESH:D005909",
         "MESH:D005909",
         "",
         null,
         null
        ],
        [
         "33",
         "C534883",
         "MESH:D006394",
         "MESH:D006394",
         "",
         null,
         null
        ],
        [
         "34",
         "C534883",
         "MESH:D006973",
         "MESH:D006973",
         "",
         null,
         null
        ],
        [
         "35",
         "C534883",
         "MESH:D017379",
         "MESH:D017379",
         "",
         null,
         null
        ],
        [
         "36",
         "C534883",
         "MESH:C567482",
         "MESH:C567482",
         "300633",
         null,
         "BMG_DS043749"
        ],
        [
         "37",
         "C534883",
         "MESH:D007247",
         "MESH:D007247",
         "",
         null,
         null
        ],
        [
         "38",
         "C534883",
         "MESH:D007248",
         "MESH:D007248",
         "",
         null,
         null
        ],
        [
         "39",
         "C534883",
         "MESH:D007333",
         "MESH:D007333",
         "",
         null,
         null
        ],
        [
         "40",
         "C534883",
         "MESH:D007938",
         "MESH:D007938",
         "",
         null,
         null
        ],
        [
         "41",
         "C534883",
         "MESH:D015470",
         "MESH:D015470",
         "",
         null,
         null
        ],
        [
         "42",
         "C534883",
         "MESH:D008106",
         "MESH:D008106",
         "",
         null,
         null
        ],
        [
         "43",
         "C534883",
         "MESH:D008113",
         "MESH:D008113",
         "",
         null,
         null
        ],
        [
         "44",
         "C534883",
         "MESH:D008114",
         "MESH:D008114",
         "",
         null,
         null
        ],
        [
         "45",
         "C534883",
         "MESH:D008175",
         "MESH:D008175",
         "",
         null,
         null
        ],
        [
         "46",
         "C534883",
         "MESH:D008175",
         "MESH:D008175",
         "",
         null,
         null
        ],
        [
         "47",
         "C534883",
         "MESH:D016403",
         "MESH:D016403",
         "",
         null,
         null
        ],
        [
         "48",
         "C534883",
         "MESH:D008527",
         "MESH:D008527",
         "",
         null,
         null
        ]
       ],
       "shape": {
        "columns": 6,
        "rows": 9501455
       }
      },
      "text/html": [
       "<div>\n",
       "<style scoped>\n",
       "    .dataframe tbody tr th:only-of-type {\n",
       "        vertical-align: middle;\n",
       "    }\n",
       "\n",
       "    .dataframe tbody tr th {\n",
       "        vertical-align: top;\n",
       "    }\n",
       "\n",
       "    .dataframe thead th {\n",
       "        text-align: right;\n",
       "    }\n",
       "</style>\n",
       "<table border=\"1\" class=\"dataframe\">\n",
       "  <thead>\n",
       "    <tr style=\"text-align: right;\">\n",
       "      <th></th>\n",
       "      <th>ChemicalID</th>\n",
       "      <th>DiseaseID</th>\n",
       "      <th>MESH</th>\n",
       "      <th>omim</th>\n",
       "      <th>From_ID</th>\n",
       "      <th>OMIM</th>\n",
       "    </tr>\n",
       "  </thead>\n",
       "  <tbody>\n",
       "    <tr>\n",
       "      <th>0</th>\n",
       "      <td>C046983</td>\n",
       "      <td>MESH:D054198</td>\n",
       "      <td>MESH:D054198</td>\n",
       "      <td></td>\n",
       "      <td>NaN</td>\n",
       "      <td>NaN</td>\n",
       "    </tr>\n",
       "    <tr>\n",
       "      <th>1</th>\n",
       "      <td>C534883</td>\n",
       "      <td>MESH:D000230</td>\n",
       "      <td>MESH:D000230</td>\n",
       "      <td></td>\n",
       "      <td>NaN</td>\n",
       "      <td>NaN</td>\n",
       "    </tr>\n",
       "    <tr>\n",
       "      <th>2</th>\n",
       "      <td>C534883</td>\n",
       "      <td>MESH:D000077192</td>\n",
       "      <td>MESH:D000077192</td>\n",
       "      <td></td>\n",
       "      <td>NaN</td>\n",
       "      <td>NaN</td>\n",
       "    </tr>\n",
       "    <tr>\n",
       "      <th>3</th>\n",
       "      <td>C534883</td>\n",
       "      <td>MESH:D000505</td>\n",
       "      <td>MESH:D000505</td>\n",
       "      <td></td>\n",
       "      <td>NaN</td>\n",
       "      <td>NaN</td>\n",
       "    </tr>\n",
       "    <tr>\n",
       "      <th>4</th>\n",
       "      <td>C534883</td>\n",
       "      <td>MESH:D013734</td>\n",
       "      <td>MESH:D013734</td>\n",
       "      <td>300068</td>\n",
       "      <td>NaN</td>\n",
       "      <td>BMG_DS003142</td>\n",
       "    </tr>\n",
       "    <tr>\n",
       "      <th>...</th>\n",
       "      <td>...</td>\n",
       "      <td>...</td>\n",
       "      <td>...</td>\n",
       "      <td>...</td>\n",
       "      <td>...</td>\n",
       "      <td>...</td>\n",
       "    </tr>\n",
       "    <tr>\n",
       "      <th>9329079</th>\n",
       "      <td>C015582</td>\n",
       "      <td>MESH:D002779</td>\n",
       "      <td>MESH:D002779</td>\n",
       "      <td></td>\n",
       "      <td>NaN</td>\n",
       "      <td>NaN</td>\n",
       "    </tr>\n",
       "    <tr>\n",
       "      <th>9329080</th>\n",
       "      <td>C015582</td>\n",
       "      <td>MESH:D008103</td>\n",
       "      <td>MESH:D008103</td>\n",
       "      <td></td>\n",
       "      <td>NaN</td>\n",
       "      <td>NaN</td>\n",
       "    </tr>\n",
       "    <tr>\n",
       "      <th>9329081</th>\n",
       "      <td>C015582</td>\n",
       "      <td>OMIM:616834</td>\n",
       "      <td>NaN</td>\n",
       "      <td>OMIM:616834</td>\n",
       "      <td>NaN</td>\n",
       "      <td>NaN</td>\n",
       "    </tr>\n",
       "    <tr>\n",
       "      <th>9329081</th>\n",
       "      <td>C015582</td>\n",
       "      <td>OMIM:616834</td>\n",
       "      <td>NaN</td>\n",
       "      <td>616834</td>\n",
       "      <td>NaN</td>\n",
       "      <td>BMG_DS071730</td>\n",
       "    </tr>\n",
       "    <tr>\n",
       "      <th>9329082</th>\n",
       "      <td>C015582</td>\n",
       "      <td>MESH:D019294</td>\n",
       "      <td>MESH:D019294</td>\n",
       "      <td>213700</td>\n",
       "      <td>NaN</td>\n",
       "      <td>BMG_DS006571</td>\n",
       "    </tr>\n",
       "  </tbody>\n",
       "</table>\n",
       "<p>9501455 rows × 6 columns</p>\n",
       "</div>"
      ],
      "text/plain": [
       "        ChemicalID        DiseaseID             MESH         omim From_ID  \\\n",
       "0          C046983     MESH:D054198     MESH:D054198                  NaN   \n",
       "1          C534883     MESH:D000230     MESH:D000230                  NaN   \n",
       "2          C534883  MESH:D000077192  MESH:D000077192                  NaN   \n",
       "3          C534883     MESH:D000505     MESH:D000505                  NaN   \n",
       "4          C534883     MESH:D013734     MESH:D013734       300068     NaN   \n",
       "...            ...              ...              ...          ...     ...   \n",
       "9329079    C015582     MESH:D002779     MESH:D002779                  NaN   \n",
       "9329080    C015582     MESH:D008103     MESH:D008103                  NaN   \n",
       "9329081    C015582      OMIM:616834              NaN  OMIM:616834     NaN   \n",
       "9329081    C015582      OMIM:616834              NaN       616834     NaN   \n",
       "9329082    C015582     MESH:D019294     MESH:D019294       213700     NaN   \n",
       "\n",
       "                 OMIM  \n",
       "0                 NaN  \n",
       "1                 NaN  \n",
       "2                 NaN  \n",
       "3                 NaN  \n",
       "4        BMG_DS003142  \n",
       "...               ...  \n",
       "9329079           NaN  \n",
       "9329080           NaN  \n",
       "9329081           NaN  \n",
       "9329081  BMG_DS071730  \n",
       "9329082  BMG_DS006571  \n",
       "\n",
       "[9501455 rows x 6 columns]"
      ]
     },
     "execution_count": 6,
     "metadata": {},
     "output_type": "execute_result"
    }
   ],
   "source": [
    "omim_individual = biomedgraphica_disease[['OMIM_ID', 'BioMedGraphica_ID']]\n",
    "omim_individual.dropna(subset=['OMIM_ID'], inplace=True)\n",
    "omim_individual = omim_individual.assign(OMIM_ID=omim_individual['OMIM_ID'].str.split(';')).explode('OMIM_ID')\n",
    "\n",
    "omim_to_individual = omim_individual.groupby('OMIM_ID')['BioMedGraphica_ID'].apply(lambda x: ';'.join(x.dropna().unique())).to_dict()\n",
    "\n",
    "ctd_filter['omim'] = ctd_filter['omim'].str.split(';')\n",
    "ctd_filter = ctd_filter.explode('omim')\n",
    "ctd_filter['OMIM'] = ctd_filter['omim'].map(omim_to_individual)\n",
    "ctd_filter"
   ]
  },
  {
   "cell_type": "code",
   "execution_count": 7,
   "metadata": {},
   "outputs": [
    {
     "name": "stderr",
     "output_type": "stream",
     "text": [
      "C:\\Users\\shunn\\AppData\\Local\\Temp\\ipykernel_35772\\3758706789.py:2: SettingWithCopyWarning: \n",
      "A value is trying to be set on a copy of a slice from a DataFrame\n",
      "\n",
      "See the caveats in the documentation: https://pandas.pydata.org/pandas-docs/stable/user_guide/indexing.html#returning-a-view-versus-a-copy\n",
      "  mesh_individual.dropna(subset=['MeSH_ID'], inplace=True)\n",
      "C:\\Users\\shunn\\AppData\\Local\\Temp\\ipykernel_35772\\3758706789.py:7: FutureWarning: A value is trying to be set on a copy of a DataFrame or Series through chained assignment using an inplace method.\n",
      "The behavior will change in pandas 3.0. This inplace method will never work because the intermediate object on which we are setting values always behaves as a copy.\n",
      "\n",
      "For example, when doing 'df[col].method(value, inplace=True)', try using 'df.method({col: value}, inplace=True)' or df[col] = df[col].method(value) instead, to perform the operation inplace on the original object.\n",
      "\n",
      "\n",
      "  ctd_filter['MESH'].replace('MESH:', '', regex=True, inplace=True)\n"
     ]
    },
    {
     "data": {
      "application/vnd.microsoft.datawrangler.viewer.v0+json": {
       "columns": [
        {
         "name": "index",
         "rawType": "int64",
         "type": "integer"
        },
        {
         "name": "ChemicalID",
         "rawType": "object",
         "type": "string"
        },
        {
         "name": "DiseaseID",
         "rawType": "object",
         "type": "string"
        },
        {
         "name": "MESH",
         "rawType": "object",
         "type": "unknown"
        },
        {
         "name": "omim",
         "rawType": "object",
         "type": "string"
        },
        {
         "name": "From_ID",
         "rawType": "object",
         "type": "unknown"
        },
        {
         "name": "OMIM",
         "rawType": "object",
         "type": "unknown"
        },
        {
         "name": "mesh",
         "rawType": "object",
         "type": "unknown"
        }
       ],
       "conversionMethod": "pd.DataFrame",
       "ref": "9b39bc8c-7e54-49e6-a0df-6b3a7abf8df5",
       "rows": [
        [
         "0",
         "C046983",
         "MESH:D054198",
         "D054198",
         "",
         null,
         null,
         "BMG_DS079565"
        ],
        [
         "1",
         "C534883",
         "MESH:D000230",
         "D000230",
         "",
         null,
         null,
         "BMG_DS077905"
        ],
        [
         "2",
         "C534883",
         "MESH:D000077192",
         "D000077192",
         "",
         null,
         null,
         "BMG_DS077782"
        ],
        [
         "3",
         "C534883",
         "MESH:D000505",
         "D000505",
         "",
         null,
         null,
         "BMG_DS000114;BMG_DS003691;BMG_DS005696;BMG_DS060025"
        ],
        [
         "4",
         "C534883",
         "MESH:D013734",
         "D013734",
         "300068",
         null,
         "BMG_DS003142",
         "BMG_DS003142;BMG_DS010022;BMG_DS029569;BMG_DS043945"
        ],
        [
         "4",
         "C534883",
         "MESH:D013734",
         "D013734",
         "312300",
         null,
         "BMG_DS010022;BMG_DS080212",
         "BMG_DS003142;BMG_DS010022;BMG_DS029569;BMG_DS043945"
        ],
        [
         "5",
         "C534883",
         "MESH:D001254",
         "D001254",
         "",
         null,
         null,
         "BMG_DS077989"
        ],
        [
         "6",
         "C534883",
         "MESH:D001321",
         "D001321",
         "",
         null,
         null,
         null
        ],
        [
         "7",
         "C534883",
         "MESH:D001943",
         "D001943",
         "",
         null,
         null,
         "BMG_DS078031"
        ],
        [
         "8",
         "C534883",
         "MESH:D018567",
         "D018567",
         "",
         null,
         null,
         "BMG_DS079312"
        ],
        [
         "9",
         "C534883",
         "MESH:C537017",
         "C537017",
         "313200",
         null,
         "BMG_DS038415",
         "BMG_DS052793"
        ],
        [
         "10",
         "C534883",
         "MESH:D002051",
         "D002051",
         "113970",
         null,
         "BMG_DS000433",
         "BMG_DS078041"
        ],
        [
         "11",
         "C534883",
         "MESH:D002277",
         "D002277",
         "",
         null,
         null,
         "BMG_DS078060"
        ],
        [
         "12",
         "C534883",
         "MESH:D044584",
         "D044584",
         "",
         null,
         null,
         "BMG_DS079483"
        ],
        [
         "13",
         "C534883",
         "MESH:D006528",
         "D006528",
         "",
         null,
         null,
         "BMG_DS078397"
        ],
        [
         "14",
         "C534883",
         "MESH:D006528",
         "D006528",
         "",
         null,
         null,
         "BMG_DS078397"
        ],
        [
         "15",
         "C534883",
         "MESH:D015266",
         "D015266",
         "",
         null,
         null,
         "BMG_DS079031"
        ],
        [
         "16",
         "C534883",
         "MESH:D002289",
         "D002289",
         "",
         null,
         null,
         "BMG_DS078072"
        ],
        [
         "17",
         "C534883",
         "MESH:D002294",
         "D002294",
         "",
         null,
         null,
         "BMG_DS078076"
        ],
        [
         "18",
         "C534883",
         "MESH:D002312",
         "D002312",
         "",
         null,
         null,
         "BMG_DS000496"
        ],
        [
         "19",
         "C534883",
         "MESH:D002471",
         "D002471",
         "",
         null,
         null,
         "BMG_DS078084"
        ],
        [
         "20",
         "C534883",
         "MESH:D019457",
         "D019457",
         "",
         null,
         null,
         "BMG_DS079348"
        ],
        [
         "21",
         "C534883",
         "MESH:D002971",
         "D002971",
         "",
         null,
         null,
         "BMG_DS078117"
        ],
        [
         "22",
         "C534883",
         "MESH:D002972",
         "D002972",
         "",
         null,
         null,
         "BMG_DS078118"
        ],
        [
         "23",
         "C534883",
         "MESH:D003110",
         "D003110",
         "",
         null,
         null,
         "BMG_DS078125"
        ],
        [
         "24",
         "C534883",
         "MESH:D015179",
         "D015179",
         "",
         null,
         null,
         "BMG_DS079027"
        ],
        [
         "25",
         "C534883",
         "MESH:D016640",
         "D016640",
         "",
         null,
         null,
         "BMG_DS003535"
        ],
        [
         "26",
         "C534883",
         "MESH:D004195",
         "D004195",
         "",
         null,
         null,
         "BMG_DS078185"
        ],
        [
         "27",
         "C534883",
         "MESH:D018450",
         "D018450",
         "",
         null,
         null,
         "BMG_DS079306"
        ],
        [
         "28",
         "C534883",
         "MESH:D016889",
         "D016889",
         "",
         null,
         null,
         "BMG_DS079131"
        ],
        [
         "29",
         "C534883",
         "MESH:D004806",
         "D004806",
         "",
         null,
         null,
         "BMG_DS078231"
        ],
        [
         "30",
         "C534883",
         "MESH:D005234",
         "D005234",
         "",
         null,
         null,
         "BMG_DS001126;BMG_DS043846"
        ],
        [
         "31",
         "C534883",
         "MESH:D005832",
         "D005832",
         "",
         null,
         null,
         "BMG_DS001218"
        ],
        [
         "32",
         "C534883",
         "MESH:D005909",
         "D005909",
         "",
         null,
         null,
         "BMG_DS078332"
        ],
        [
         "33",
         "C534883",
         "MESH:D006394",
         "D006394",
         "",
         null,
         null,
         "BMG_DS078380"
        ],
        [
         "34",
         "C534883",
         "MESH:D006973",
         "D006973",
         "",
         null,
         null,
         "BMG_DS078439"
        ],
        [
         "35",
         "C534883",
         "MESH:D017379",
         "D017379",
         "",
         null,
         null,
         "BMG_DS003736"
        ],
        [
         "36",
         "C534883",
         "MESH:C567482",
         "C567482",
         "300633",
         null,
         "BMG_DS043749",
         "BMG_DS043749"
        ],
        [
         "37",
         "C534883",
         "MESH:D007247",
         "D007247",
         "",
         null,
         null,
         "BMG_DS016427"
        ],
        [
         "38",
         "C534883",
         "MESH:D007248",
         "D007248",
         "",
         null,
         null,
         "BMG_DS078466"
        ],
        [
         "39",
         "C534883",
         "MESH:D007333",
         "D007333",
         "",
         null,
         null,
         "BMG_DS078469"
        ],
        [
         "40",
         "C534883",
         "MESH:D007938",
         "D007938",
         "",
         null,
         null,
         "BMG_DS078511"
        ],
        [
         "41",
         "C534883",
         "MESH:D015470",
         "D015470",
         "",
         null,
         null,
         "BMG_DS079051"
        ],
        [
         "42",
         "C534883",
         "MESH:D008106",
         "D008106",
         "",
         null,
         null,
         "BMG_DS078533"
        ],
        [
         "43",
         "C534883",
         "MESH:D008113",
         "D008113",
         "",
         null,
         null,
         "BMG_DS078535"
        ],
        [
         "44",
         "C534883",
         "MESH:D008114",
         "D008114",
         "",
         null,
         null,
         "BMG_DS078536"
        ],
        [
         "45",
         "C534883",
         "MESH:D008175",
         "D008175",
         "",
         null,
         null,
         "BMG_DS078546"
        ],
        [
         "46",
         "C534883",
         "MESH:D008175",
         "D008175",
         "",
         null,
         null,
         "BMG_DS078546"
        ],
        [
         "47",
         "C534883",
         "MESH:D016403",
         "D016403",
         "",
         null,
         null,
         "BMG_DS079101"
        ],
        [
         "48",
         "C534883",
         "MESH:D008527",
         "D008527",
         "",
         null,
         null,
         "BMG_DS078579"
        ]
       ],
       "shape": {
        "columns": 7,
        "rows": 9501455
       }
      },
      "text/html": [
       "<div>\n",
       "<style scoped>\n",
       "    .dataframe tbody tr th:only-of-type {\n",
       "        vertical-align: middle;\n",
       "    }\n",
       "\n",
       "    .dataframe tbody tr th {\n",
       "        vertical-align: top;\n",
       "    }\n",
       "\n",
       "    .dataframe thead th {\n",
       "        text-align: right;\n",
       "    }\n",
       "</style>\n",
       "<table border=\"1\" class=\"dataframe\">\n",
       "  <thead>\n",
       "    <tr style=\"text-align: right;\">\n",
       "      <th></th>\n",
       "      <th>ChemicalID</th>\n",
       "      <th>DiseaseID</th>\n",
       "      <th>MESH</th>\n",
       "      <th>omim</th>\n",
       "      <th>From_ID</th>\n",
       "      <th>OMIM</th>\n",
       "      <th>mesh</th>\n",
       "    </tr>\n",
       "  </thead>\n",
       "  <tbody>\n",
       "    <tr>\n",
       "      <th>0</th>\n",
       "      <td>C046983</td>\n",
       "      <td>MESH:D054198</td>\n",
       "      <td>D054198</td>\n",
       "      <td></td>\n",
       "      <td>NaN</td>\n",
       "      <td>NaN</td>\n",
       "      <td>BMG_DS079565</td>\n",
       "    </tr>\n",
       "    <tr>\n",
       "      <th>1</th>\n",
       "      <td>C534883</td>\n",
       "      <td>MESH:D000230</td>\n",
       "      <td>D000230</td>\n",
       "      <td></td>\n",
       "      <td>NaN</td>\n",
       "      <td>NaN</td>\n",
       "      <td>BMG_DS077905</td>\n",
       "    </tr>\n",
       "    <tr>\n",
       "      <th>2</th>\n",
       "      <td>C534883</td>\n",
       "      <td>MESH:D000077192</td>\n",
       "      <td>D000077192</td>\n",
       "      <td></td>\n",
       "      <td>NaN</td>\n",
       "      <td>NaN</td>\n",
       "      <td>BMG_DS077782</td>\n",
       "    </tr>\n",
       "    <tr>\n",
       "      <th>3</th>\n",
       "      <td>C534883</td>\n",
       "      <td>MESH:D000505</td>\n",
       "      <td>D000505</td>\n",
       "      <td></td>\n",
       "      <td>NaN</td>\n",
       "      <td>NaN</td>\n",
       "      <td>BMG_DS000114;BMG_DS003691;BMG_DS005696;BMG_DS0...</td>\n",
       "    </tr>\n",
       "    <tr>\n",
       "      <th>4</th>\n",
       "      <td>C534883</td>\n",
       "      <td>MESH:D013734</td>\n",
       "      <td>D013734</td>\n",
       "      <td>300068</td>\n",
       "      <td>NaN</td>\n",
       "      <td>BMG_DS003142</td>\n",
       "      <td>BMG_DS003142;BMG_DS010022;BMG_DS029569;BMG_DS0...</td>\n",
       "    </tr>\n",
       "    <tr>\n",
       "      <th>...</th>\n",
       "      <td>...</td>\n",
       "      <td>...</td>\n",
       "      <td>...</td>\n",
       "      <td>...</td>\n",
       "      <td>...</td>\n",
       "      <td>...</td>\n",
       "      <td>...</td>\n",
       "    </tr>\n",
       "    <tr>\n",
       "      <th>9329079</th>\n",
       "      <td>C015582</td>\n",
       "      <td>MESH:D002779</td>\n",
       "      <td>D002779</td>\n",
       "      <td></td>\n",
       "      <td>NaN</td>\n",
       "      <td>NaN</td>\n",
       "      <td>BMG_DS000596</td>\n",
       "    </tr>\n",
       "    <tr>\n",
       "      <th>9329080</th>\n",
       "      <td>C015582</td>\n",
       "      <td>MESH:D008103</td>\n",
       "      <td>D008103</td>\n",
       "      <td></td>\n",
       "      <td>NaN</td>\n",
       "      <td>NaN</td>\n",
       "      <td>BMG_DS001844;BMG_DS006709</td>\n",
       "    </tr>\n",
       "    <tr>\n",
       "      <th>9329081</th>\n",
       "      <td>C015582</td>\n",
       "      <td>OMIM:616834</td>\n",
       "      <td>NaN</td>\n",
       "      <td>OMIM:616834</td>\n",
       "      <td>NaN</td>\n",
       "      <td>NaN</td>\n",
       "      <td>NaN</td>\n",
       "    </tr>\n",
       "    <tr>\n",
       "      <th>9329081</th>\n",
       "      <td>C015582</td>\n",
       "      <td>OMIM:616834</td>\n",
       "      <td>NaN</td>\n",
       "      <td>616834</td>\n",
       "      <td>NaN</td>\n",
       "      <td>BMG_DS071730</td>\n",
       "      <td>NaN</td>\n",
       "    </tr>\n",
       "    <tr>\n",
       "      <th>9329082</th>\n",
       "      <td>C015582</td>\n",
       "      <td>MESH:D019294</td>\n",
       "      <td>D019294</td>\n",
       "      <td>213700</td>\n",
       "      <td>NaN</td>\n",
       "      <td>BMG_DS006571</td>\n",
       "      <td>BMG_DS006571</td>\n",
       "    </tr>\n",
       "  </tbody>\n",
       "</table>\n",
       "<p>9501455 rows × 7 columns</p>\n",
       "</div>"
      ],
      "text/plain": [
       "        ChemicalID        DiseaseID        MESH         omim From_ID  \\\n",
       "0          C046983     MESH:D054198     D054198                  NaN   \n",
       "1          C534883     MESH:D000230     D000230                  NaN   \n",
       "2          C534883  MESH:D000077192  D000077192                  NaN   \n",
       "3          C534883     MESH:D000505     D000505                  NaN   \n",
       "4          C534883     MESH:D013734     D013734       300068     NaN   \n",
       "...            ...              ...         ...          ...     ...   \n",
       "9329079    C015582     MESH:D002779     D002779                  NaN   \n",
       "9329080    C015582     MESH:D008103     D008103                  NaN   \n",
       "9329081    C015582      OMIM:616834         NaN  OMIM:616834     NaN   \n",
       "9329081    C015582      OMIM:616834         NaN       616834     NaN   \n",
       "9329082    C015582     MESH:D019294     D019294       213700     NaN   \n",
       "\n",
       "                 OMIM                                               mesh  \n",
       "0                 NaN                                       BMG_DS079565  \n",
       "1                 NaN                                       BMG_DS077905  \n",
       "2                 NaN                                       BMG_DS077782  \n",
       "3                 NaN  BMG_DS000114;BMG_DS003691;BMG_DS005696;BMG_DS0...  \n",
       "4        BMG_DS003142  BMG_DS003142;BMG_DS010022;BMG_DS029569;BMG_DS0...  \n",
       "...               ...                                                ...  \n",
       "9329079           NaN                                       BMG_DS000596  \n",
       "9329080           NaN                          BMG_DS001844;BMG_DS006709  \n",
       "9329081           NaN                                                NaN  \n",
       "9329081  BMG_DS071730                                                NaN  \n",
       "9329082  BMG_DS006571                                       BMG_DS006571  \n",
       "\n",
       "[9501455 rows x 7 columns]"
      ]
     },
     "execution_count": 7,
     "metadata": {},
     "output_type": "execute_result"
    }
   ],
   "source": [
    "mesh_individual = biomedgraphica_disease[['MeSH_ID', 'BioMedGraphica_ID']]\n",
    "mesh_individual.dropna(subset=['MeSH_ID'], inplace=True)\n",
    "mesh_individual = mesh_individual.assign(MeSH_ID=mesh_individual['MeSH_ID'].str.split(';')).explode('MeSH_ID')\n",
    "\n",
    "mesh_to_individual = mesh_individual.groupby('MeSH_ID')['BioMedGraphica_ID'].apply(lambda x: ';'.join(x.dropna().unique())).to_dict()\n",
    "\n",
    "ctd_filter['MESH'].replace('MESH:', '', regex=True, inplace=True)\n",
    "ctd_filter['mesh'] = ctd_filter['MESH'].map(mesh_to_individual)\n",
    "ctd_filter"
   ]
  },
  {
   "cell_type": "code",
   "execution_count": 8,
   "metadata": {},
   "outputs": [
    {
     "data": {
      "application/vnd.microsoft.datawrangler.viewer.v0+json": {
       "columns": [
        {
         "name": "index",
         "rawType": "int64",
         "type": "integer"
        },
        {
         "name": "ChemicalID",
         "rawType": "object",
         "type": "string"
        },
        {
         "name": "DiseaseID",
         "rawType": "object",
         "type": "string"
        },
        {
         "name": "MESH",
         "rawType": "object",
         "type": "unknown"
        },
        {
         "name": "omim",
         "rawType": "object",
         "type": "unknown"
        },
        {
         "name": "From_ID",
         "rawType": "object",
         "type": "unknown"
        },
        {
         "name": "To_ID",
         "rawType": "object",
         "type": "string"
        }
       ],
       "conversionMethod": "pd.DataFrame",
       "ref": "69a6a90b-787c-4ae8-b77b-4949c6fb4e79",
       "rows": [
        [
         "0",
         "C046983",
         "MESH:D054198",
         "D054198",
         null,
         null,
         "BMG_DS079565"
        ],
        [
         "1",
         "C534883",
         "MESH:D000230",
         "D000230",
         null,
         null,
         "BMG_DS077905"
        ],
        [
         "2",
         "C534883",
         "MESH:D000077192",
         "D000077192",
         null,
         null,
         "BMG_DS077782"
        ],
        [
         "3",
         "C534883",
         "MESH:D000505",
         "D000505",
         null,
         null,
         "BMG_DS003691;BMG_DS000114;BMG_DS060025;BMG_DS005696"
        ],
        [
         "4",
         "C534883",
         "MESH:D013734",
         "D013734",
         "300068",
         null,
         "BMG_DS029569;BMG_DS010022;BMG_DS003142;BMG_DS043945"
        ],
        [
         "4",
         "C534883",
         "MESH:D013734",
         "D013734",
         "312300",
         null,
         "BMG_DS029569;BMG_DS043945;BMG_DS080212;BMG_DS003142;BMG_DS010022"
        ],
        [
         "5",
         "C534883",
         "MESH:D001254",
         "D001254",
         null,
         null,
         "BMG_DS077989"
        ],
        [
         "6",
         "C534883",
         "MESH:D001321",
         "D001321",
         null,
         null,
         ""
        ],
        [
         "7",
         "C534883",
         "MESH:D001943",
         "D001943",
         null,
         null,
         "BMG_DS078031"
        ],
        [
         "8",
         "C534883",
         "MESH:D018567",
         "D018567",
         null,
         null,
         "BMG_DS079312"
        ],
        [
         "9",
         "C534883",
         "MESH:C537017",
         "C537017",
         "313200",
         null,
         "BMG_DS052793;BMG_DS038415"
        ],
        [
         "10",
         "C534883",
         "MESH:D002051",
         "D002051",
         "113970",
         null,
         "BMG_DS000433;BMG_DS078041"
        ],
        [
         "11",
         "C534883",
         "MESH:D002277",
         "D002277",
         null,
         null,
         "BMG_DS078060"
        ],
        [
         "12",
         "C534883",
         "MESH:D044584",
         "D044584",
         null,
         null,
         "BMG_DS079483"
        ],
        [
         "13",
         "C534883",
         "MESH:D006528",
         "D006528",
         null,
         null,
         "BMG_DS078397"
        ],
        [
         "14",
         "C534883",
         "MESH:D006528",
         "D006528",
         null,
         null,
         "BMG_DS078397"
        ],
        [
         "15",
         "C534883",
         "MESH:D015266",
         "D015266",
         null,
         null,
         "BMG_DS079031"
        ],
        [
         "16",
         "C534883",
         "MESH:D002289",
         "D002289",
         null,
         null,
         "BMG_DS078072"
        ],
        [
         "17",
         "C534883",
         "MESH:D002294",
         "D002294",
         null,
         null,
         "BMG_DS078076"
        ],
        [
         "18",
         "C534883",
         "MESH:D002312",
         "D002312",
         null,
         null,
         "BMG_DS000496"
        ],
        [
         "19",
         "C534883",
         "MESH:D002471",
         "D002471",
         null,
         null,
         "BMG_DS078084"
        ],
        [
         "20",
         "C534883",
         "MESH:D019457",
         "D019457",
         null,
         null,
         "BMG_DS079348"
        ],
        [
         "21",
         "C534883",
         "MESH:D002971",
         "D002971",
         null,
         null,
         "BMG_DS078117"
        ],
        [
         "22",
         "C534883",
         "MESH:D002972",
         "D002972",
         null,
         null,
         "BMG_DS078118"
        ],
        [
         "23",
         "C534883",
         "MESH:D003110",
         "D003110",
         null,
         null,
         "BMG_DS078125"
        ],
        [
         "24",
         "C534883",
         "MESH:D015179",
         "D015179",
         null,
         null,
         "BMG_DS079027"
        ],
        [
         "25",
         "C534883",
         "MESH:D016640",
         "D016640",
         null,
         null,
         "BMG_DS003535"
        ],
        [
         "26",
         "C534883",
         "MESH:D004195",
         "D004195",
         null,
         null,
         "BMG_DS078185"
        ],
        [
         "27",
         "C534883",
         "MESH:D018450",
         "D018450",
         null,
         null,
         "BMG_DS079306"
        ],
        [
         "28",
         "C534883",
         "MESH:D016889",
         "D016889",
         null,
         null,
         "BMG_DS079131"
        ],
        [
         "29",
         "C534883",
         "MESH:D004806",
         "D004806",
         null,
         null,
         "BMG_DS078231"
        ],
        [
         "30",
         "C534883",
         "MESH:D005234",
         "D005234",
         null,
         null,
         "BMG_DS001126;BMG_DS043846"
        ],
        [
         "31",
         "C534883",
         "MESH:D005832",
         "D005832",
         null,
         null,
         "BMG_DS001218"
        ],
        [
         "32",
         "C534883",
         "MESH:D005909",
         "D005909",
         null,
         null,
         "BMG_DS078332"
        ],
        [
         "33",
         "C534883",
         "MESH:D006394",
         "D006394",
         null,
         null,
         "BMG_DS078380"
        ],
        [
         "34",
         "C534883",
         "MESH:D006973",
         "D006973",
         null,
         null,
         "BMG_DS078439"
        ],
        [
         "35",
         "C534883",
         "MESH:D017379",
         "D017379",
         null,
         null,
         "BMG_DS003736"
        ],
        [
         "36",
         "C534883",
         "MESH:C567482",
         "C567482",
         "300633",
         null,
         "BMG_DS043749"
        ],
        [
         "37",
         "C534883",
         "MESH:D007247",
         "D007247",
         null,
         null,
         "BMG_DS016427"
        ],
        [
         "38",
         "C534883",
         "MESH:D007248",
         "D007248",
         null,
         null,
         "BMG_DS078466"
        ],
        [
         "39",
         "C534883",
         "MESH:D007333",
         "D007333",
         null,
         null,
         "BMG_DS078469"
        ],
        [
         "40",
         "C534883",
         "MESH:D007938",
         "D007938",
         null,
         null,
         "BMG_DS078511"
        ],
        [
         "41",
         "C534883",
         "MESH:D015470",
         "D015470",
         null,
         null,
         "BMG_DS079051"
        ],
        [
         "42",
         "C534883",
         "MESH:D008106",
         "D008106",
         null,
         null,
         "BMG_DS078533"
        ],
        [
         "43",
         "C534883",
         "MESH:D008113",
         "D008113",
         null,
         null,
         "BMG_DS078535"
        ],
        [
         "44",
         "C534883",
         "MESH:D008114",
         "D008114",
         null,
         null,
         "BMG_DS078536"
        ],
        [
         "45",
         "C534883",
         "MESH:D008175",
         "D008175",
         null,
         null,
         "BMG_DS078546"
        ],
        [
         "46",
         "C534883",
         "MESH:D008175",
         "D008175",
         null,
         null,
         "BMG_DS078546"
        ],
        [
         "47",
         "C534883",
         "MESH:D016403",
         "D016403",
         null,
         null,
         "BMG_DS079101"
        ],
        [
         "48",
         "C534883",
         "MESH:D008527",
         "D008527",
         null,
         null,
         "BMG_DS078579"
        ]
       ],
       "shape": {
        "columns": 6,
        "rows": 9501455
       }
      },
      "text/html": [
       "<div>\n",
       "<style scoped>\n",
       "    .dataframe tbody tr th:only-of-type {\n",
       "        vertical-align: middle;\n",
       "    }\n",
       "\n",
       "    .dataframe tbody tr th {\n",
       "        vertical-align: top;\n",
       "    }\n",
       "\n",
       "    .dataframe thead th {\n",
       "        text-align: right;\n",
       "    }\n",
       "</style>\n",
       "<table border=\"1\" class=\"dataframe\">\n",
       "  <thead>\n",
       "    <tr style=\"text-align: right;\">\n",
       "      <th></th>\n",
       "      <th>ChemicalID</th>\n",
       "      <th>DiseaseID</th>\n",
       "      <th>MESH</th>\n",
       "      <th>omim</th>\n",
       "      <th>From_ID</th>\n",
       "      <th>To_ID</th>\n",
       "    </tr>\n",
       "  </thead>\n",
       "  <tbody>\n",
       "    <tr>\n",
       "      <th>0</th>\n",
       "      <td>C046983</td>\n",
       "      <td>MESH:D054198</td>\n",
       "      <td>D054198</td>\n",
       "      <td>&lt;NA&gt;</td>\n",
       "      <td>NaN</td>\n",
       "      <td>BMG_DS079565</td>\n",
       "    </tr>\n",
       "    <tr>\n",
       "      <th>1</th>\n",
       "      <td>C534883</td>\n",
       "      <td>MESH:D000230</td>\n",
       "      <td>D000230</td>\n",
       "      <td>&lt;NA&gt;</td>\n",
       "      <td>NaN</td>\n",
       "      <td>BMG_DS077905</td>\n",
       "    </tr>\n",
       "    <tr>\n",
       "      <th>2</th>\n",
       "      <td>C534883</td>\n",
       "      <td>MESH:D000077192</td>\n",
       "      <td>D000077192</td>\n",
       "      <td>&lt;NA&gt;</td>\n",
       "      <td>NaN</td>\n",
       "      <td>BMG_DS077782</td>\n",
       "    </tr>\n",
       "    <tr>\n",
       "      <th>3</th>\n",
       "      <td>C534883</td>\n",
       "      <td>MESH:D000505</td>\n",
       "      <td>D000505</td>\n",
       "      <td>&lt;NA&gt;</td>\n",
       "      <td>NaN</td>\n",
       "      <td>BMG_DS003691;BMG_DS000114;BMG_DS060025;BMG_DS0...</td>\n",
       "    </tr>\n",
       "    <tr>\n",
       "      <th>4</th>\n",
       "      <td>C534883</td>\n",
       "      <td>MESH:D013734</td>\n",
       "      <td>D013734</td>\n",
       "      <td>300068</td>\n",
       "      <td>NaN</td>\n",
       "      <td>BMG_DS029569;BMG_DS010022;BMG_DS003142;BMG_DS0...</td>\n",
       "    </tr>\n",
       "    <tr>\n",
       "      <th>...</th>\n",
       "      <td>...</td>\n",
       "      <td>...</td>\n",
       "      <td>...</td>\n",
       "      <td>...</td>\n",
       "      <td>...</td>\n",
       "      <td>...</td>\n",
       "    </tr>\n",
       "    <tr>\n",
       "      <th>9329079</th>\n",
       "      <td>C015582</td>\n",
       "      <td>MESH:D002779</td>\n",
       "      <td>D002779</td>\n",
       "      <td>&lt;NA&gt;</td>\n",
       "      <td>NaN</td>\n",
       "      <td>BMG_DS000596</td>\n",
       "    </tr>\n",
       "    <tr>\n",
       "      <th>9329080</th>\n",
       "      <td>C015582</td>\n",
       "      <td>MESH:D008103</td>\n",
       "      <td>D008103</td>\n",
       "      <td>&lt;NA&gt;</td>\n",
       "      <td>NaN</td>\n",
       "      <td>BMG_DS006709;BMG_DS001844</td>\n",
       "    </tr>\n",
       "    <tr>\n",
       "      <th>9329081</th>\n",
       "      <td>C015582</td>\n",
       "      <td>OMIM:616834</td>\n",
       "      <td>NaN</td>\n",
       "      <td>OMIM:616834</td>\n",
       "      <td>NaN</td>\n",
       "      <td></td>\n",
       "    </tr>\n",
       "    <tr>\n",
       "      <th>9329081</th>\n",
       "      <td>C015582</td>\n",
       "      <td>OMIM:616834</td>\n",
       "      <td>NaN</td>\n",
       "      <td>616834</td>\n",
       "      <td>NaN</td>\n",
       "      <td>BMG_DS071730</td>\n",
       "    </tr>\n",
       "    <tr>\n",
       "      <th>9329082</th>\n",
       "      <td>C015582</td>\n",
       "      <td>MESH:D019294</td>\n",
       "      <td>D019294</td>\n",
       "      <td>213700</td>\n",
       "      <td>NaN</td>\n",
       "      <td>BMG_DS006571</td>\n",
       "    </tr>\n",
       "  </tbody>\n",
       "</table>\n",
       "<p>9501455 rows × 6 columns</p>\n",
       "</div>"
      ],
      "text/plain": [
       "        ChemicalID        DiseaseID        MESH         omim From_ID  \\\n",
       "0          C046983     MESH:D054198     D054198         <NA>     NaN   \n",
       "1          C534883     MESH:D000230     D000230         <NA>     NaN   \n",
       "2          C534883  MESH:D000077192  D000077192         <NA>     NaN   \n",
       "3          C534883     MESH:D000505     D000505         <NA>     NaN   \n",
       "4          C534883     MESH:D013734     D013734       300068     NaN   \n",
       "...            ...              ...         ...          ...     ...   \n",
       "9329079    C015582     MESH:D002779     D002779         <NA>     NaN   \n",
       "9329080    C015582     MESH:D008103     D008103         <NA>     NaN   \n",
       "9329081    C015582      OMIM:616834         NaN  OMIM:616834     NaN   \n",
       "9329081    C015582      OMIM:616834         NaN       616834     NaN   \n",
       "9329082    C015582     MESH:D019294     D019294       213700     NaN   \n",
       "\n",
       "                                                     To_ID  \n",
       "0                                             BMG_DS079565  \n",
       "1                                             BMG_DS077905  \n",
       "2                                             BMG_DS077782  \n",
       "3        BMG_DS003691;BMG_DS000114;BMG_DS060025;BMG_DS0...  \n",
       "4        BMG_DS029569;BMG_DS010022;BMG_DS003142;BMG_DS0...  \n",
       "...                                                    ...  \n",
       "9329079                                       BMG_DS000596  \n",
       "9329080                          BMG_DS006709;BMG_DS001844  \n",
       "9329081                                                     \n",
       "9329081                                       BMG_DS071730  \n",
       "9329082                                       BMG_DS006571  \n",
       "\n",
       "[9501455 rows x 6 columns]"
      ]
     },
     "execution_count": 8,
     "metadata": {},
     "output_type": "execute_result"
    }
   ],
   "source": [
    "def merge_string_columns(df, columns, merge_name, separator=';'):\n",
    "    def merge_strings(row):\n",
    "        combined = set()\n",
    "        for column in columns:\n",
    "            if pd.notnull(row[column]):\n",
    "                combined.update(row[column].split(separator))\n",
    "        return separator.join(combined)\n",
    "    \n",
    "    # Apply the function to each row and create a new column\n",
    "    combined_column_name = merge_name\n",
    "    df[combined_column_name] = df.apply(merge_strings, axis=1)\n",
    "    df.drop(columns=columns, inplace=True)\n",
    "    \n",
    "    return df\n",
    "\n",
    "ctd_filter.replace('', pd.NA, inplace=True)\n",
    "ctd_filter = merge_string_columns(ctd_filter, ['OMIM', 'mesh'], 'To_ID')\n",
    "ctd_filter"
   ]
  },
  {
   "cell_type": "code",
   "execution_count": 9,
   "metadata": {},
   "outputs": [
    {
     "name": "stderr",
     "output_type": "stream",
     "text": [
      "C:\\Users\\shunn\\AppData\\Local\\Temp\\ipykernel_35772\\832042014.py:2: SettingWithCopyWarning: \n",
      "A value is trying to be set on a copy of a slice from a DataFrame\n",
      "\n",
      "See the caveats in the documentation: https://pandas.pydata.org/pandas-docs/stable/user_guide/indexing.html#returning-a-view-versus-a-copy\n",
      "  exposure_disease.replace('', pd.NA, inplace=True)\n",
      "C:\\Users\\shunn\\AppData\\Local\\Temp\\ipykernel_35772\\832042014.py:3: SettingWithCopyWarning: \n",
      "A value is trying to be set on a copy of a slice from a DataFrame\n",
      "\n",
      "See the caveats in the documentation: https://pandas.pydata.org/pandas-docs/stable/user_guide/indexing.html#returning-a-view-versus-a-copy\n",
      "  exposure_disease.dropna(subset=['From_ID'], inplace=True)\n",
      "C:\\Users\\shunn\\AppData\\Local\\Temp\\ipykernel_35772\\832042014.py:4: SettingWithCopyWarning: \n",
      "A value is trying to be set on a copy of a slice from a DataFrame\n",
      "\n",
      "See the caveats in the documentation: https://pandas.pydata.org/pandas-docs/stable/user_guide/indexing.html#returning-a-view-versus-a-copy\n",
      "  exposure_disease.dropna(subset=['To_ID'], inplace=True)\n",
      "C:\\Users\\shunn\\AppData\\Local\\Temp\\ipykernel_35772\\832042014.py:5: SettingWithCopyWarning: \n",
      "A value is trying to be set on a copy of a slice from a DataFrame\n",
      "\n",
      "See the caveats in the documentation: https://pandas.pydata.org/pandas-docs/stable/user_guide/indexing.html#returning-a-view-versus-a-copy\n",
      "  exposure_disease.drop_duplicates(inplace=True)\n"
     ]
    },
    {
     "data": {
      "application/vnd.microsoft.datawrangler.viewer.v0+json": {
       "columns": [
        {
         "name": "index",
         "rawType": "int64",
         "type": "integer"
        },
        {
         "name": "From_ID",
         "rawType": "object",
         "type": "string"
        },
        {
         "name": "To_ID",
         "rawType": "object",
         "type": "string"
        }
       ],
       "conversionMethod": "pd.DataFrame",
       "ref": "c2ab270c-dc00-4688-b0b5-b9f8be1b10ce",
       "rows": [
        [
         "6332",
         "BMG_EP0060",
         "BMG_DS077693"
        ],
        [
         "6333",
         "BMG_EP0060",
         "BMG_DS001687;BMG_DS036641"
        ],
        [
         "6334",
         "BMG_EP0060",
         "BMG_DS077905"
        ],
        [
         "6335",
         "BMG_EP0060",
         "BMG_DS077782"
        ],
        [
         "6336",
         "BMG_EP0060",
         "BMG_DS035558;BMG_DS005695"
        ],
        [
         "6337",
         "BMG_EP0060",
         "BMG_DS000093;BMG_DS029572;BMG_DS005878"
        ],
        [
         "6338",
         "BMG_EP0060",
         "BMG_DS077928"
        ],
        [
         "6340",
         "BMG_EP0060",
         "BMG_DS028198;BMG_DS028197;BMG_DS026926"
        ],
        [
         "6341",
         "BMG_EP0060",
         "BMG_DS027799;BMG_DS000127;BMG_DS023954"
        ],
        [
         "6342",
         "BMG_EP0060",
         "BMG_DS079365"
        ],
        [
         "6344",
         "BMG_EP0060",
         "BMG_DS024610;BMG_DS019148;BMG_DS000147"
        ],
        [
         "6345",
         "BMG_EP0060",
         "BMG_DS040773;BMG_DS065392"
        ],
        [
         "6346",
         "BMG_EP0060",
         "BMG_DS000159;BMG_DS000167;BMG_DS000158"
        ],
        [
         "6347",
         "BMG_EP0060",
         "BMG_DS077946"
        ],
        [
         "6348",
         "BMG_EP0060",
         "BMG_DS000245"
        ],
        [
         "6349",
         "BMG_EP0060",
         "BMG_DS028190"
        ],
        [
         "6350",
         "BMG_EP0060",
         "BMG_DS000257"
        ],
        [
         "6351",
         "BMG_EP0060",
         "BMG_DS000277"
        ],
        [
         "6353",
         "BMG_EP0060",
         "BMG_DS027808"
        ],
        [
         "6354",
         "BMG_EP0060",
         "BMG_DS077708"
        ],
        [
         "6360",
         "BMG_EP0060",
         "BMG_DS000376"
        ],
        [
         "6361",
         "BMG_EP0060",
         "BMG_DS078028"
        ],
        [
         "6362",
         "BMG_EP0060",
         "BMG_DS078031"
        ],
        [
         "6366",
         "BMG_EP0060",
         "BMG_DS078153"
        ],
        [
         "6367",
         "BMG_EP0060",
         "BMG_DS078397"
        ],
        [
         "6368",
         "BMG_EP0060",
         "BMG_DS078072"
        ],
        [
         "6369",
         "BMG_EP0060",
         "BMG_DS078366"
        ],
        [
         "6371",
         "BMG_EP0060",
         "BMG_DS026682;BMG_DS027827;BMG_DS027826;BMG_DS027058;BMG_DS000499"
        ],
        [
         "6372",
         "BMG_EP0060",
         "BMG_DS041698"
        ],
        [
         "6373",
         "BMG_EP0060",
         "BMG_DS000517"
        ],
        [
         "6374",
         "BMG_EP0060",
         "BMG_DS078091"
        ],
        [
         "6375",
         "BMG_EP0060",
         "BMG_DS056153;BMG_DS061002;BMG_DS029337;BMG_DS029982;BMG_DS061005"
        ],
        [
         "6379",
         "BMG_EP0060",
         "BMG_DS079479"
        ],
        [
         "6380",
         "BMG_EP0060",
         "BMG_DS079366"
        ],
        [
         "6382",
         "BMG_EP0060",
         "BMG_DS000659"
        ],
        [
         "6383",
         "BMG_EP0060",
         "BMG_DS000660"
        ],
        [
         "6384",
         "BMG_EP0060",
         "BMG_DS079027"
        ],
        [
         "6388",
         "BMG_EP0060",
         "BMG_DS080258;BMG_DS041016"
        ],
        [
         "6389",
         "BMG_EP0060",
         "BMG_DS038675;BMG_DS072197"
        ],
        [
         "6390",
         "BMG_EP0060",
         "BMG_DS078135"
        ],
        [
         "6391",
         "BMG_EP0060",
         "BMG_DS041461;BMG_DS032610;BMG_DS000710"
        ],
        [
         "6392",
         "BMG_EP0060",
         "BMG_DS000763;BMG_DS026809;BMG_DS060012;BMG_DS027860"
        ],
        [
         "6393",
         "BMG_EP0060",
         "BMG_DS043489"
        ],
        [
         "6394",
         "BMG_EP0060",
         "BMG_DS043415;BMG_DS043413;BMG_DS043414"
        ],
        [
         "6395",
         "BMG_EP0060",
         "BMG_DS000804"
        ],
        [
         "6396",
         "BMG_EP0060",
         "BMG_DS080632;BMG_DS057146"
        ],
        [
         "6397",
         "BMG_EP0060",
         "BMG_DS058413"
        ],
        [
         "6398",
         "BMG_EP0060",
         "BMG_DS062502"
        ],
        [
         "6399",
         "BMG_EP0060",
         "BMG_DS078174"
        ],
        [
         "6400",
         "BMG_EP0060",
         "BMG_DS000821"
        ]
       ],
       "shape": {
        "columns": 2,
        "rows": 679162
       }
      },
      "text/html": [
       "<div>\n",
       "<style scoped>\n",
       "    .dataframe tbody tr th:only-of-type {\n",
       "        vertical-align: middle;\n",
       "    }\n",
       "\n",
       "    .dataframe tbody tr th {\n",
       "        vertical-align: top;\n",
       "    }\n",
       "\n",
       "    .dataframe thead th {\n",
       "        text-align: right;\n",
       "    }\n",
       "</style>\n",
       "<table border=\"1\" class=\"dataframe\">\n",
       "  <thead>\n",
       "    <tr style=\"text-align: right;\">\n",
       "      <th></th>\n",
       "      <th>From_ID</th>\n",
       "      <th>To_ID</th>\n",
       "    </tr>\n",
       "  </thead>\n",
       "  <tbody>\n",
       "    <tr>\n",
       "      <th>6332</th>\n",
       "      <td>BMG_EP0060</td>\n",
       "      <td>BMG_DS077693</td>\n",
       "    </tr>\n",
       "    <tr>\n",
       "      <th>6333</th>\n",
       "      <td>BMG_EP0060</td>\n",
       "      <td>BMG_DS001687;BMG_DS036641</td>\n",
       "    </tr>\n",
       "    <tr>\n",
       "      <th>6334</th>\n",
       "      <td>BMG_EP0060</td>\n",
       "      <td>BMG_DS077905</td>\n",
       "    </tr>\n",
       "    <tr>\n",
       "      <th>6335</th>\n",
       "      <td>BMG_EP0060</td>\n",
       "      <td>BMG_DS077782</td>\n",
       "    </tr>\n",
       "    <tr>\n",
       "      <th>6336</th>\n",
       "      <td>BMG_EP0060</td>\n",
       "      <td>BMG_DS035558;BMG_DS005695</td>\n",
       "    </tr>\n",
       "    <tr>\n",
       "      <th>...</th>\n",
       "      <td>...</td>\n",
       "      <td>...</td>\n",
       "    </tr>\n",
       "    <tr>\n",
       "      <th>9311545</th>\n",
       "      <td>BMG_EP1159</td>\n",
       "      <td>BMG_DS066199;BMG_DS002733</td>\n",
       "    </tr>\n",
       "    <tr>\n",
       "      <th>9311546</th>\n",
       "      <td>BMG_EP1159</td>\n",
       "      <td>BMG_DS078802</td>\n",
       "    </tr>\n",
       "    <tr>\n",
       "      <th>9311547</th>\n",
       "      <td>BMG_EP1159</td>\n",
       "      <td>BMG_DS002873</td>\n",
       "    </tr>\n",
       "    <tr>\n",
       "      <th>9311548</th>\n",
       "      <td>BMG_EP1159</td>\n",
       "      <td>BMG_DS077787</td>\n",
       "    </tr>\n",
       "    <tr>\n",
       "      <th>9311550</th>\n",
       "      <td>BMG_EP1159</td>\n",
       "      <td>BMG_DS003334</td>\n",
       "    </tr>\n",
       "  </tbody>\n",
       "</table>\n",
       "<p>679162 rows × 2 columns</p>\n",
       "</div>"
      ],
      "text/plain": [
       "            From_ID                      To_ID\n",
       "6332     BMG_EP0060               BMG_DS077693\n",
       "6333     BMG_EP0060  BMG_DS001687;BMG_DS036641\n",
       "6334     BMG_EP0060               BMG_DS077905\n",
       "6335     BMG_EP0060               BMG_DS077782\n",
       "6336     BMG_EP0060  BMG_DS035558;BMG_DS005695\n",
       "...             ...                        ...\n",
       "9311545  BMG_EP1159  BMG_DS066199;BMG_DS002733\n",
       "9311546  BMG_EP1159               BMG_DS078802\n",
       "9311547  BMG_EP1159               BMG_DS002873\n",
       "9311548  BMG_EP1159               BMG_DS077787\n",
       "9311550  BMG_EP1159               BMG_DS003334\n",
       "\n",
       "[679162 rows x 2 columns]"
      ]
     },
     "execution_count": 9,
     "metadata": {},
     "output_type": "execute_result"
    }
   ],
   "source": [
    "exposure_disease = ctd_filter[['From_ID', 'To_ID']]\n",
    "exposure_disease.replace('', pd.NA, inplace=True)\n",
    "exposure_disease.dropna(subset=['From_ID'], inplace=True)\n",
    "exposure_disease.dropna(subset=['To_ID'], inplace=True)\n",
    "exposure_disease.drop_duplicates(inplace=True)\n",
    "exposure_disease"
   ]
  },
  {
   "cell_type": "code",
   "execution_count": 10,
   "metadata": {},
   "outputs": [
    {
     "name": "stderr",
     "output_type": "stream",
     "text": [
      "C:\\Users\\shunn\\AppData\\Local\\Temp\\ipykernel_35772\\4103578911.py:1: SettingWithCopyWarning: \n",
      "A value is trying to be set on a copy of a slice from a DataFrame.\n",
      "Try using .loc[row_indexer,col_indexer] = value instead\n",
      "\n",
      "See the caveats in the documentation: https://pandas.pydata.org/pandas-docs/stable/user_guide/indexing.html#returning-a-view-versus-a-copy\n",
      "  exposure_disease['From_ID'] = exposure_disease['From_ID'].str.split(';')\n"
     ]
    },
    {
     "data": {
      "application/vnd.microsoft.datawrangler.viewer.v0+json": {
       "columns": [
        {
         "name": "index",
         "rawType": "int64",
         "type": "integer"
        },
        {
         "name": "From_ID",
         "rawType": "object",
         "type": "string"
        },
        {
         "name": "To_ID",
         "rawType": "object",
         "type": "string"
        }
       ],
       "conversionMethod": "pd.DataFrame",
       "ref": "8621c890-ea85-4c17-940b-17b5cca061f1",
       "rows": [
        [
         "6332",
         "BMG_EP0060",
         "BMG_DS077693"
        ],
        [
         "6333",
         "BMG_EP0060",
         "BMG_DS001687"
        ],
        [
         "6333",
         "BMG_EP0060",
         "BMG_DS036641"
        ],
        [
         "6334",
         "BMG_EP0060",
         "BMG_DS077905"
        ],
        [
         "6335",
         "BMG_EP0060",
         "BMG_DS077782"
        ],
        [
         "6336",
         "BMG_EP0060",
         "BMG_DS035558"
        ],
        [
         "6336",
         "BMG_EP0060",
         "BMG_DS005695"
        ],
        [
         "6337",
         "BMG_EP0060",
         "BMG_DS000093"
        ],
        [
         "6337",
         "BMG_EP0060",
         "BMG_DS029572"
        ],
        [
         "6337",
         "BMG_EP0060",
         "BMG_DS005878"
        ],
        [
         "6338",
         "BMG_EP0060",
         "BMG_DS077928"
        ],
        [
         "6340",
         "BMG_EP0060",
         "BMG_DS028198"
        ],
        [
         "6340",
         "BMG_EP0060",
         "BMG_DS028197"
        ],
        [
         "6340",
         "BMG_EP0060",
         "BMG_DS026926"
        ],
        [
         "6341",
         "BMG_EP0060",
         "BMG_DS027799"
        ],
        [
         "6341",
         "BMG_EP0060",
         "BMG_DS000127"
        ],
        [
         "6341",
         "BMG_EP0060",
         "BMG_DS023954"
        ],
        [
         "6342",
         "BMG_EP0060",
         "BMG_DS079365"
        ],
        [
         "6344",
         "BMG_EP0060",
         "BMG_DS024610"
        ],
        [
         "6344",
         "BMG_EP0060",
         "BMG_DS019148"
        ],
        [
         "6344",
         "BMG_EP0060",
         "BMG_DS000147"
        ],
        [
         "6345",
         "BMG_EP0060",
         "BMG_DS040773"
        ],
        [
         "6345",
         "BMG_EP0060",
         "BMG_DS065392"
        ],
        [
         "6346",
         "BMG_EP0060",
         "BMG_DS000159"
        ],
        [
         "6346",
         "BMG_EP0060",
         "BMG_DS000167"
        ],
        [
         "6346",
         "BMG_EP0060",
         "BMG_DS000158"
        ],
        [
         "6347",
         "BMG_EP0060",
         "BMG_DS077946"
        ],
        [
         "6348",
         "BMG_EP0060",
         "BMG_DS000245"
        ],
        [
         "6349",
         "BMG_EP0060",
         "BMG_DS028190"
        ],
        [
         "6350",
         "BMG_EP0060",
         "BMG_DS000257"
        ],
        [
         "6351",
         "BMG_EP0060",
         "BMG_DS000277"
        ],
        [
         "6353",
         "BMG_EP0060",
         "BMG_DS027808"
        ],
        [
         "6354",
         "BMG_EP0060",
         "BMG_DS077708"
        ],
        [
         "6360",
         "BMG_EP0060",
         "BMG_DS000376"
        ],
        [
         "6361",
         "BMG_EP0060",
         "BMG_DS078028"
        ],
        [
         "6362",
         "BMG_EP0060",
         "BMG_DS078031"
        ],
        [
         "6366",
         "BMG_EP0060",
         "BMG_DS078153"
        ],
        [
         "6367",
         "BMG_EP0060",
         "BMG_DS078397"
        ],
        [
         "6368",
         "BMG_EP0060",
         "BMG_DS078072"
        ],
        [
         "6369",
         "BMG_EP0060",
         "BMG_DS078366"
        ],
        [
         "6371",
         "BMG_EP0060",
         "BMG_DS026682"
        ],
        [
         "6371",
         "BMG_EP0060",
         "BMG_DS027827"
        ],
        [
         "6371",
         "BMG_EP0060",
         "BMG_DS027826"
        ],
        [
         "6371",
         "BMG_EP0060",
         "BMG_DS027058"
        ],
        [
         "6371",
         "BMG_EP0060",
         "BMG_DS000499"
        ],
        [
         "6372",
         "BMG_EP0060",
         "BMG_DS041698"
        ],
        [
         "6373",
         "BMG_EP0060",
         "BMG_DS000517"
        ],
        [
         "6374",
         "BMG_EP0060",
         "BMG_DS078091"
        ],
        [
         "6375",
         "BMG_EP0060",
         "BMG_DS056153"
        ],
        [
         "6375",
         "BMG_EP0060",
         "BMG_DS061002"
        ]
       ],
       "shape": {
        "columns": 2,
        "rows": 979780
       }
      },
      "text/html": [
       "<div>\n",
       "<style scoped>\n",
       "    .dataframe tbody tr th:only-of-type {\n",
       "        vertical-align: middle;\n",
       "    }\n",
       "\n",
       "    .dataframe tbody tr th {\n",
       "        vertical-align: top;\n",
       "    }\n",
       "\n",
       "    .dataframe thead th {\n",
       "        text-align: right;\n",
       "    }\n",
       "</style>\n",
       "<table border=\"1\" class=\"dataframe\">\n",
       "  <thead>\n",
       "    <tr style=\"text-align: right;\">\n",
       "      <th></th>\n",
       "      <th>From_ID</th>\n",
       "      <th>To_ID</th>\n",
       "    </tr>\n",
       "  </thead>\n",
       "  <tbody>\n",
       "    <tr>\n",
       "      <th>6332</th>\n",
       "      <td>BMG_EP0060</td>\n",
       "      <td>BMG_DS077693</td>\n",
       "    </tr>\n",
       "    <tr>\n",
       "      <th>6333</th>\n",
       "      <td>BMG_EP0060</td>\n",
       "      <td>BMG_DS001687</td>\n",
       "    </tr>\n",
       "    <tr>\n",
       "      <th>6333</th>\n",
       "      <td>BMG_EP0060</td>\n",
       "      <td>BMG_DS036641</td>\n",
       "    </tr>\n",
       "    <tr>\n",
       "      <th>6334</th>\n",
       "      <td>BMG_EP0060</td>\n",
       "      <td>BMG_DS077905</td>\n",
       "    </tr>\n",
       "    <tr>\n",
       "      <th>6335</th>\n",
       "      <td>BMG_EP0060</td>\n",
       "      <td>BMG_DS077782</td>\n",
       "    </tr>\n",
       "    <tr>\n",
       "      <th>...</th>\n",
       "      <td>...</td>\n",
       "      <td>...</td>\n",
       "    </tr>\n",
       "    <tr>\n",
       "      <th>9311545</th>\n",
       "      <td>BMG_EP1159</td>\n",
       "      <td>BMG_DS002733</td>\n",
       "    </tr>\n",
       "    <tr>\n",
       "      <th>9311546</th>\n",
       "      <td>BMG_EP1159</td>\n",
       "      <td>BMG_DS078802</td>\n",
       "    </tr>\n",
       "    <tr>\n",
       "      <th>9311547</th>\n",
       "      <td>BMG_EP1159</td>\n",
       "      <td>BMG_DS002873</td>\n",
       "    </tr>\n",
       "    <tr>\n",
       "      <th>9311548</th>\n",
       "      <td>BMG_EP1159</td>\n",
       "      <td>BMG_DS077787</td>\n",
       "    </tr>\n",
       "    <tr>\n",
       "      <th>9311550</th>\n",
       "      <td>BMG_EP1159</td>\n",
       "      <td>BMG_DS003334</td>\n",
       "    </tr>\n",
       "  </tbody>\n",
       "</table>\n",
       "<p>979780 rows × 2 columns</p>\n",
       "</div>"
      ],
      "text/plain": [
       "            From_ID         To_ID\n",
       "6332     BMG_EP0060  BMG_DS077693\n",
       "6333     BMG_EP0060  BMG_DS001687\n",
       "6333     BMG_EP0060  BMG_DS036641\n",
       "6334     BMG_EP0060  BMG_DS077905\n",
       "6335     BMG_EP0060  BMG_DS077782\n",
       "...             ...           ...\n",
       "9311545  BMG_EP1159  BMG_DS002733\n",
       "9311546  BMG_EP1159  BMG_DS078802\n",
       "9311547  BMG_EP1159  BMG_DS002873\n",
       "9311548  BMG_EP1159  BMG_DS077787\n",
       "9311550  BMG_EP1159  BMG_DS003334\n",
       "\n",
       "[979780 rows x 2 columns]"
      ]
     },
     "execution_count": 10,
     "metadata": {},
     "output_type": "execute_result"
    }
   ],
   "source": [
    "exposure_disease['From_ID'] = exposure_disease['From_ID'].str.split(';')\n",
    "exposure_disease = exposure_disease.explode('From_ID')\n",
    "exposure_disease['To_ID'] = exposure_disease['To_ID'].str.split(';')\n",
    "exposure_disease = exposure_disease.explode('To_ID')\n",
    "exposure_disease.drop_duplicates(inplace=True)\n",
    "exposure_disease"
   ]
  },
  {
   "cell_type": "markdown",
   "metadata": {},
   "source": [
    "### Exposure-Disease Relation"
   ]
  },
  {
   "cell_type": "code",
   "execution_count": 11,
   "metadata": {},
   "outputs": [
    {
     "data": {
      "application/vnd.microsoft.datawrangler.viewer.v0+json": {
       "columns": [
        {
         "name": "index",
         "rawType": "int64",
         "type": "integer"
        },
        {
         "name": "BioMedGraphica_ID",
         "rawType": "object",
         "type": "string"
        },
        {
         "name": "From_ID",
         "rawType": "object",
         "type": "string"
        },
        {
         "name": "To_ID",
         "rawType": "object",
         "type": "string"
        },
        {
         "name": "Type",
         "rawType": "object",
         "type": "string"
        },
        {
         "name": "Source",
         "rawType": "object",
         "type": "string"
        }
       ],
       "conversionMethod": "pd.DataFrame",
       "ref": "af3faee9-f7a2-46c2-b6fc-6a1180ca1311",
       "rows": [
        [
         "6332",
         "BMG_ED_EPDS000001",
         "BMG_EP0060",
         "BMG_DS077693",
         "Exposure-Disease",
         "CTD"
        ],
        [
         "6333",
         "BMG_ED_EPDS000002",
         "BMG_EP0060",
         "BMG_DS001687",
         "Exposure-Disease",
         "CTD"
        ],
        [
         "6333",
         "BMG_ED_EPDS000003",
         "BMG_EP0060",
         "BMG_DS036641",
         "Exposure-Disease",
         "CTD"
        ],
        [
         "6334",
         "BMG_ED_EPDS000004",
         "BMG_EP0060",
         "BMG_DS077905",
         "Exposure-Disease",
         "CTD"
        ],
        [
         "6335",
         "BMG_ED_EPDS000005",
         "BMG_EP0060",
         "BMG_DS077782",
         "Exposure-Disease",
         "CTD"
        ],
        [
         "6336",
         "BMG_ED_EPDS000006",
         "BMG_EP0060",
         "BMG_DS035558",
         "Exposure-Disease",
         "CTD"
        ],
        [
         "6336",
         "BMG_ED_EPDS000007",
         "BMG_EP0060",
         "BMG_DS005695",
         "Exposure-Disease",
         "CTD"
        ],
        [
         "6337",
         "BMG_ED_EPDS000008",
         "BMG_EP0060",
         "BMG_DS000093",
         "Exposure-Disease",
         "CTD"
        ],
        [
         "6337",
         "BMG_ED_EPDS000009",
         "BMG_EP0060",
         "BMG_DS029572",
         "Exposure-Disease",
         "CTD"
        ],
        [
         "6337",
         "BMG_ED_EPDS000010",
         "BMG_EP0060",
         "BMG_DS005878",
         "Exposure-Disease",
         "CTD"
        ],
        [
         "6338",
         "BMG_ED_EPDS000011",
         "BMG_EP0060",
         "BMG_DS077928",
         "Exposure-Disease",
         "CTD"
        ],
        [
         "6340",
         "BMG_ED_EPDS000012",
         "BMG_EP0060",
         "BMG_DS028198",
         "Exposure-Disease",
         "CTD"
        ],
        [
         "6340",
         "BMG_ED_EPDS000013",
         "BMG_EP0060",
         "BMG_DS028197",
         "Exposure-Disease",
         "CTD"
        ],
        [
         "6340",
         "BMG_ED_EPDS000014",
         "BMG_EP0060",
         "BMG_DS026926",
         "Exposure-Disease",
         "CTD"
        ],
        [
         "6341",
         "BMG_ED_EPDS000015",
         "BMG_EP0060",
         "BMG_DS027799",
         "Exposure-Disease",
         "CTD"
        ],
        [
         "6341",
         "BMG_ED_EPDS000016",
         "BMG_EP0060",
         "BMG_DS000127",
         "Exposure-Disease",
         "CTD"
        ],
        [
         "6341",
         "BMG_ED_EPDS000017",
         "BMG_EP0060",
         "BMG_DS023954",
         "Exposure-Disease",
         "CTD"
        ],
        [
         "6342",
         "BMG_ED_EPDS000018",
         "BMG_EP0060",
         "BMG_DS079365",
         "Exposure-Disease",
         "CTD"
        ],
        [
         "6344",
         "BMG_ED_EPDS000019",
         "BMG_EP0060",
         "BMG_DS024610",
         "Exposure-Disease",
         "CTD"
        ],
        [
         "6344",
         "BMG_ED_EPDS000020",
         "BMG_EP0060",
         "BMG_DS019148",
         "Exposure-Disease",
         "CTD"
        ],
        [
         "6344",
         "BMG_ED_EPDS000021",
         "BMG_EP0060",
         "BMG_DS000147",
         "Exposure-Disease",
         "CTD"
        ],
        [
         "6345",
         "BMG_ED_EPDS000022",
         "BMG_EP0060",
         "BMG_DS040773",
         "Exposure-Disease",
         "CTD"
        ],
        [
         "6345",
         "BMG_ED_EPDS000023",
         "BMG_EP0060",
         "BMG_DS065392",
         "Exposure-Disease",
         "CTD"
        ],
        [
         "6346",
         "BMG_ED_EPDS000024",
         "BMG_EP0060",
         "BMG_DS000159",
         "Exposure-Disease",
         "CTD"
        ],
        [
         "6346",
         "BMG_ED_EPDS000025",
         "BMG_EP0060",
         "BMG_DS000167",
         "Exposure-Disease",
         "CTD"
        ],
        [
         "6346",
         "BMG_ED_EPDS000026",
         "BMG_EP0060",
         "BMG_DS000158",
         "Exposure-Disease",
         "CTD"
        ],
        [
         "6347",
         "BMG_ED_EPDS000027",
         "BMG_EP0060",
         "BMG_DS077946",
         "Exposure-Disease",
         "CTD"
        ],
        [
         "6348",
         "BMG_ED_EPDS000028",
         "BMG_EP0060",
         "BMG_DS000245",
         "Exposure-Disease",
         "CTD"
        ],
        [
         "6349",
         "BMG_ED_EPDS000029",
         "BMG_EP0060",
         "BMG_DS028190",
         "Exposure-Disease",
         "CTD"
        ],
        [
         "6350",
         "BMG_ED_EPDS000030",
         "BMG_EP0060",
         "BMG_DS000257",
         "Exposure-Disease",
         "CTD"
        ],
        [
         "6351",
         "BMG_ED_EPDS000031",
         "BMG_EP0060",
         "BMG_DS000277",
         "Exposure-Disease",
         "CTD"
        ],
        [
         "6353",
         "BMG_ED_EPDS000032",
         "BMG_EP0060",
         "BMG_DS027808",
         "Exposure-Disease",
         "CTD"
        ],
        [
         "6354",
         "BMG_ED_EPDS000033",
         "BMG_EP0060",
         "BMG_DS077708",
         "Exposure-Disease",
         "CTD"
        ],
        [
         "6360",
         "BMG_ED_EPDS000034",
         "BMG_EP0060",
         "BMG_DS000376",
         "Exposure-Disease",
         "CTD"
        ],
        [
         "6361",
         "BMG_ED_EPDS000035",
         "BMG_EP0060",
         "BMG_DS078028",
         "Exposure-Disease",
         "CTD"
        ],
        [
         "6362",
         "BMG_ED_EPDS000036",
         "BMG_EP0060",
         "BMG_DS078031",
         "Exposure-Disease",
         "CTD"
        ],
        [
         "6366",
         "BMG_ED_EPDS000037",
         "BMG_EP0060",
         "BMG_DS078153",
         "Exposure-Disease",
         "CTD"
        ],
        [
         "6367",
         "BMG_ED_EPDS000038",
         "BMG_EP0060",
         "BMG_DS078397",
         "Exposure-Disease",
         "CTD"
        ],
        [
         "6368",
         "BMG_ED_EPDS000039",
         "BMG_EP0060",
         "BMG_DS078072",
         "Exposure-Disease",
         "CTD"
        ],
        [
         "6369",
         "BMG_ED_EPDS000040",
         "BMG_EP0060",
         "BMG_DS078366",
         "Exposure-Disease",
         "CTD"
        ],
        [
         "6371",
         "BMG_ED_EPDS000041",
         "BMG_EP0060",
         "BMG_DS026682",
         "Exposure-Disease",
         "CTD"
        ],
        [
         "6371",
         "BMG_ED_EPDS000042",
         "BMG_EP0060",
         "BMG_DS027827",
         "Exposure-Disease",
         "CTD"
        ],
        [
         "6371",
         "BMG_ED_EPDS000043",
         "BMG_EP0060",
         "BMG_DS027826",
         "Exposure-Disease",
         "CTD"
        ],
        [
         "6371",
         "BMG_ED_EPDS000044",
         "BMG_EP0060",
         "BMG_DS027058",
         "Exposure-Disease",
         "CTD"
        ],
        [
         "6371",
         "BMG_ED_EPDS000045",
         "BMG_EP0060",
         "BMG_DS000499",
         "Exposure-Disease",
         "CTD"
        ],
        [
         "6372",
         "BMG_ED_EPDS000046",
         "BMG_EP0060",
         "BMG_DS041698",
         "Exposure-Disease",
         "CTD"
        ],
        [
         "6373",
         "BMG_ED_EPDS000047",
         "BMG_EP0060",
         "BMG_DS000517",
         "Exposure-Disease",
         "CTD"
        ],
        [
         "6374",
         "BMG_ED_EPDS000048",
         "BMG_EP0060",
         "BMG_DS078091",
         "Exposure-Disease",
         "CTD"
        ],
        [
         "6375",
         "BMG_ED_EPDS000049",
         "BMG_EP0060",
         "BMG_DS056153",
         "Exposure-Disease",
         "CTD"
        ],
        [
         "6375",
         "BMG_ED_EPDS000050",
         "BMG_EP0060",
         "BMG_DS061002",
         "Exposure-Disease",
         "CTD"
        ]
       ],
       "shape": {
        "columns": 5,
        "rows": 979780
       }
      },
      "text/html": [
       "<div>\n",
       "<style scoped>\n",
       "    .dataframe tbody tr th:only-of-type {\n",
       "        vertical-align: middle;\n",
       "    }\n",
       "\n",
       "    .dataframe tbody tr th {\n",
       "        vertical-align: top;\n",
       "    }\n",
       "\n",
       "    .dataframe thead th {\n",
       "        text-align: right;\n",
       "    }\n",
       "</style>\n",
       "<table border=\"1\" class=\"dataframe\">\n",
       "  <thead>\n",
       "    <tr style=\"text-align: right;\">\n",
       "      <th></th>\n",
       "      <th>BioMedGraphica_ID</th>\n",
       "      <th>From_ID</th>\n",
       "      <th>To_ID</th>\n",
       "      <th>Type</th>\n",
       "      <th>Source</th>\n",
       "    </tr>\n",
       "  </thead>\n",
       "  <tbody>\n",
       "    <tr>\n",
       "      <th>6332</th>\n",
       "      <td>BMG_ED_EPDS000001</td>\n",
       "      <td>BMG_EP0060</td>\n",
       "      <td>BMG_DS077693</td>\n",
       "      <td>Exposure-Disease</td>\n",
       "      <td>CTD</td>\n",
       "    </tr>\n",
       "    <tr>\n",
       "      <th>6333</th>\n",
       "      <td>BMG_ED_EPDS000002</td>\n",
       "      <td>BMG_EP0060</td>\n",
       "      <td>BMG_DS001687</td>\n",
       "      <td>Exposure-Disease</td>\n",
       "      <td>CTD</td>\n",
       "    </tr>\n",
       "    <tr>\n",
       "      <th>6333</th>\n",
       "      <td>BMG_ED_EPDS000003</td>\n",
       "      <td>BMG_EP0060</td>\n",
       "      <td>BMG_DS036641</td>\n",
       "      <td>Exposure-Disease</td>\n",
       "      <td>CTD</td>\n",
       "    </tr>\n",
       "    <tr>\n",
       "      <th>6334</th>\n",
       "      <td>BMG_ED_EPDS000004</td>\n",
       "      <td>BMG_EP0060</td>\n",
       "      <td>BMG_DS077905</td>\n",
       "      <td>Exposure-Disease</td>\n",
       "      <td>CTD</td>\n",
       "    </tr>\n",
       "    <tr>\n",
       "      <th>6335</th>\n",
       "      <td>BMG_ED_EPDS000005</td>\n",
       "      <td>BMG_EP0060</td>\n",
       "      <td>BMG_DS077782</td>\n",
       "      <td>Exposure-Disease</td>\n",
       "      <td>CTD</td>\n",
       "    </tr>\n",
       "    <tr>\n",
       "      <th>...</th>\n",
       "      <td>...</td>\n",
       "      <td>...</td>\n",
       "      <td>...</td>\n",
       "      <td>...</td>\n",
       "      <td>...</td>\n",
       "    </tr>\n",
       "    <tr>\n",
       "      <th>9311545</th>\n",
       "      <td>BMG_ED_EPDS979776</td>\n",
       "      <td>BMG_EP1159</td>\n",
       "      <td>BMG_DS002733</td>\n",
       "      <td>Exposure-Disease</td>\n",
       "      <td>CTD</td>\n",
       "    </tr>\n",
       "    <tr>\n",
       "      <th>9311546</th>\n",
       "      <td>BMG_ED_EPDS979777</td>\n",
       "      <td>BMG_EP1159</td>\n",
       "      <td>BMG_DS078802</td>\n",
       "      <td>Exposure-Disease</td>\n",
       "      <td>CTD</td>\n",
       "    </tr>\n",
       "    <tr>\n",
       "      <th>9311547</th>\n",
       "      <td>BMG_ED_EPDS979778</td>\n",
       "      <td>BMG_EP1159</td>\n",
       "      <td>BMG_DS002873</td>\n",
       "      <td>Exposure-Disease</td>\n",
       "      <td>CTD</td>\n",
       "    </tr>\n",
       "    <tr>\n",
       "      <th>9311548</th>\n",
       "      <td>BMG_ED_EPDS979779</td>\n",
       "      <td>BMG_EP1159</td>\n",
       "      <td>BMG_DS077787</td>\n",
       "      <td>Exposure-Disease</td>\n",
       "      <td>CTD</td>\n",
       "    </tr>\n",
       "    <tr>\n",
       "      <th>9311550</th>\n",
       "      <td>BMG_ED_EPDS979780</td>\n",
       "      <td>BMG_EP1159</td>\n",
       "      <td>BMG_DS003334</td>\n",
       "      <td>Exposure-Disease</td>\n",
       "      <td>CTD</td>\n",
       "    </tr>\n",
       "  </tbody>\n",
       "</table>\n",
       "<p>979780 rows × 5 columns</p>\n",
       "</div>"
      ],
      "text/plain": [
       "         BioMedGraphica_ID     From_ID         To_ID              Type Source\n",
       "6332     BMG_ED_EPDS000001  BMG_EP0060  BMG_DS077693  Exposure-Disease    CTD\n",
       "6333     BMG_ED_EPDS000002  BMG_EP0060  BMG_DS001687  Exposure-Disease    CTD\n",
       "6333     BMG_ED_EPDS000003  BMG_EP0060  BMG_DS036641  Exposure-Disease    CTD\n",
       "6334     BMG_ED_EPDS000004  BMG_EP0060  BMG_DS077905  Exposure-Disease    CTD\n",
       "6335     BMG_ED_EPDS000005  BMG_EP0060  BMG_DS077782  Exposure-Disease    CTD\n",
       "...                    ...         ...           ...               ...    ...\n",
       "9311545  BMG_ED_EPDS979776  BMG_EP1159  BMG_DS002733  Exposure-Disease    CTD\n",
       "9311546  BMG_ED_EPDS979777  BMG_EP1159  BMG_DS078802  Exposure-Disease    CTD\n",
       "9311547  BMG_ED_EPDS979778  BMG_EP1159  BMG_DS002873  Exposure-Disease    CTD\n",
       "9311548  BMG_ED_EPDS979779  BMG_EP1159  BMG_DS077787  Exposure-Disease    CTD\n",
       "9311550  BMG_ED_EPDS979780  BMG_EP1159  BMG_DS003334  Exposure-Disease    CTD\n",
       "\n",
       "[979780 rows x 5 columns]"
      ]
     },
     "execution_count": 11,
     "metadata": {},
     "output_type": "execute_result"
    }
   ],
   "source": [
    "exposure_disease['Type'] = 'Exposure-Disease'\n",
    "exposure_disease['Source'] = 'CTD'\n",
    "\n",
    "max_length = len(str(len(exposure_disease)))\n",
    "exposure_disease['BioMedGraphica_ID'] = ['BMG_ED_EPDS' + str(i).zfill(max_length) for i in range(1, len(exposure_disease) + 1)]\n",
    "columns = ['BioMedGraphica_ID'] + [col for col in exposure_disease.columns if col != 'BioMedGraphica_ID']  # re-order columns\n",
    "exposure_disease = exposure_disease[columns]\n",
    "exposure_disease"
   ]
  },
  {
   "cell_type": "code",
   "execution_count": 12,
   "metadata": {},
   "outputs": [
    {
     "name": "stdout",
     "output_type": "stream",
     "text": [
      "Data has been saved to D:\\RA\\BMG\\BioMedGraphica\\Relation\\Exposure-Disease\\BioMedGraphica_Exposure_Disease.csv\n"
     ]
    }
   ],
   "source": [
    "import os\n",
    "from pathlib import Path\n",
    "\n",
    "# get the current working directory\n",
    "current_working_dir = Path(os.getcwd()).resolve()\n",
    "\n",
    "# get the output directory\n",
    "grandparent_dir = current_working_dir.parent.parent.parent\n",
    "\n",
    "target_folder = grandparent_dir / 'BioMedGraphica' / 'Relation' / 'Exposure-Disease'\n",
    "if not target_folder.exists():\n",
    "    target_folder.mkdir(parents=True)\n",
    "    print(f\"Folder {target_folder} has been created.\")\n",
    "\n",
    "output_file_path = target_folder / 'BioMedGraphica_Exposure_Disease.csv'\n",
    "exposure_disease.to_csv(output_file_path, index=False)\n",
    "print(f\"Data has been saved to {output_file_path}\")"
   ]
  }
 ],
 "metadata": {
  "kernelspec": {
   "display_name": "base",
   "language": "python",
   "name": "python3"
  },
  "language_info": {
   "codemirror_mode": {
    "name": "ipython",
    "version": 3
   },
   "file_extension": ".py",
   "mimetype": "text/x-python",
   "name": "python",
   "nbconvert_exporter": "python",
   "pygments_lexer": "ipython3",
   "version": "3.9.19"
  }
 },
 "nbformat": 4,
 "nbformat_minor": 2
}
