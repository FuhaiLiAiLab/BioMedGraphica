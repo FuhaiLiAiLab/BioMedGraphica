{
 "cells": [
  {
   "cell_type": "markdown",
   "metadata": {},
   "source": [
    "### KEGG"
   ]
  },
  {
   "cell_type": "code",
   "execution_count": 1,
   "metadata": {},
   "outputs": [
    {
     "data": {
      "application/vnd.microsoft.datawrangler.viewer.v0+json": {
       "columns": [
        {
         "name": "index",
         "rawType": "int64",
         "type": "integer"
        },
        {
         "name": "source",
         "rawType": "object",
         "type": "string"
        },
        {
         "name": "pathway_id",
         "rawType": "object",
         "type": "string"
        }
       ],
       "conversionMethod": "pd.DataFrame",
       "ref": "d135af7b-1d2f-4937-8c70-52afd4f94381",
       "rows": [
        [
         "0",
         "GALM",
         "hsa00010"
        ],
        [
         "1",
         "LDHAL6A",
         "hsa00010"
        ],
        [
         "2",
         "DLAT",
         "hsa00010"
        ],
        [
         "3",
         "ENO1",
         "hsa00010"
        ],
        [
         "4",
         "ENO2",
         "hsa00010"
        ],
        [
         "5",
         "ENO3",
         "hsa00010"
        ],
        [
         "6",
         "ALDH2",
         "hsa00010"
        ],
        [
         "7",
         "ALDH3A1",
         "hsa00010"
        ],
        [
         "8",
         "ALDH1B1",
         "hsa00010"
        ],
        [
         "9",
         "FBP1",
         "hsa00010"
        ],
        [
         "10",
         "ALDH3B1",
         "hsa00010"
        ],
        [
         "11",
         "ALDH3B2",
         "hsa00010"
        ],
        [
         "12",
         "ALDH9A1",
         "hsa00010"
        ],
        [
         "13",
         "ALDH3A2",
         "hsa00010"
        ],
        [
         "14",
         "ALDOA",
         "hsa00010"
        ],
        [
         "15",
         "ALDOB",
         "hsa00010"
        ],
        [
         "16",
         "ALDOC",
         "hsa00010"
        ],
        [
         "17",
         "G6PC1",
         "hsa00010"
        ],
        [
         "18",
         "GAPDH",
         "hsa00010"
        ],
        [
         "19",
         "GAPDHS",
         "hsa00010"
        ],
        [
         "20",
         "GCK",
         "hsa00010"
        ],
        [
         "21",
         "GPI",
         "hsa00010"
        ],
        [
         "22",
         "HK1",
         "hsa00010"
        ],
        [
         "23",
         "HK2",
         "hsa00010"
        ],
        [
         "24",
         "HK3",
         "hsa00010"
        ],
        [
         "25",
         "ENO4",
         "hsa00010"
        ],
        [
         "26",
         "LDHA",
         "hsa00010"
        ],
        [
         "27",
         "LDHB",
         "hsa00010"
        ],
        [
         "28",
         "LDHC",
         "hsa00010"
        ],
        [
         "29",
         "PGAM4",
         "hsa00010"
        ],
        [
         "30",
         "ALDH7A1",
         "hsa00010"
        ],
        [
         "31",
         "PCK1",
         "hsa00010"
        ],
        [
         "32",
         "PCK2",
         "hsa00010"
        ],
        [
         "33",
         "PDHA1",
         "hsa00010"
        ],
        [
         "34",
         "PDHA2",
         "hsa00010"
        ],
        [
         "35",
         "PDHB",
         "hsa00010"
        ],
        [
         "36",
         "PFKL",
         "hsa00010"
        ],
        [
         "37",
         "PFKM",
         "hsa00010"
        ],
        [
         "38",
         "PFKP",
         "hsa00010"
        ],
        [
         "39",
         "PGAM1",
         "hsa00010"
        ],
        [
         "40",
         "PGAM2",
         "hsa00010"
        ],
        [
         "41",
         "PGK1",
         "hsa00010"
        ],
        [
         "42",
         "PGK2",
         "hsa00010"
        ],
        [
         "43",
         "PGM1",
         "hsa00010"
        ],
        [
         "44",
         "PKLR",
         "hsa00010"
        ],
        [
         "45",
         "PKM",
         "hsa00010"
        ],
        [
         "46",
         "PGM2",
         "hsa00010"
        ],
        [
         "47",
         "ACSS2",
         "hsa00010"
        ],
        [
         "48",
         "G6PC2",
         "hsa00010"
        ],
        [
         "49",
         "BPGM",
         "hsa00010"
        ]
       ],
       "shape": {
        "columns": 2,
        "rows": 21051
       }
      },
      "text/html": [
       "<div>\n",
       "<style scoped>\n",
       "    .dataframe tbody tr th:only-of-type {\n",
       "        vertical-align: middle;\n",
       "    }\n",
       "\n",
       "    .dataframe tbody tr th {\n",
       "        vertical-align: top;\n",
       "    }\n",
       "\n",
       "    .dataframe thead th {\n",
       "        text-align: right;\n",
       "    }\n",
       "</style>\n",
       "<table border=\"1\" class=\"dataframe\">\n",
       "  <thead>\n",
       "    <tr style=\"text-align: right;\">\n",
       "      <th></th>\n",
       "      <th>source</th>\n",
       "      <th>pathway_id</th>\n",
       "    </tr>\n",
       "  </thead>\n",
       "  <tbody>\n",
       "    <tr>\n",
       "      <th>0</th>\n",
       "      <td>GALM</td>\n",
       "      <td>hsa00010</td>\n",
       "    </tr>\n",
       "    <tr>\n",
       "      <th>1</th>\n",
       "      <td>LDHAL6A</td>\n",
       "      <td>hsa00010</td>\n",
       "    </tr>\n",
       "    <tr>\n",
       "      <th>2</th>\n",
       "      <td>DLAT</td>\n",
       "      <td>hsa00010</td>\n",
       "    </tr>\n",
       "    <tr>\n",
       "      <th>3</th>\n",
       "      <td>ENO1</td>\n",
       "      <td>hsa00010</td>\n",
       "    </tr>\n",
       "    <tr>\n",
       "      <th>4</th>\n",
       "      <td>ENO2</td>\n",
       "      <td>hsa00010</td>\n",
       "    </tr>\n",
       "    <tr>\n",
       "      <th>...</th>\n",
       "      <td>...</td>\n",
       "      <td>...</td>\n",
       "    </tr>\n",
       "    <tr>\n",
       "      <th>21046</th>\n",
       "      <td>GCK</td>\n",
       "      <td>hsa00524</td>\n",
       "    </tr>\n",
       "    <tr>\n",
       "      <th>21047</th>\n",
       "      <td>HK1</td>\n",
       "      <td>hsa00524</td>\n",
       "    </tr>\n",
       "    <tr>\n",
       "      <th>21048</th>\n",
       "      <td>HK2</td>\n",
       "      <td>hsa00524</td>\n",
       "    </tr>\n",
       "    <tr>\n",
       "      <th>21049</th>\n",
       "      <td>HK3</td>\n",
       "      <td>hsa00524</td>\n",
       "    </tr>\n",
       "    <tr>\n",
       "      <th>21050</th>\n",
       "      <td>HKDC1</td>\n",
       "      <td>hsa00524</td>\n",
       "    </tr>\n",
       "  </tbody>\n",
       "</table>\n",
       "<p>21051 rows × 2 columns</p>\n",
       "</div>"
      ],
      "text/plain": [
       "        source pathway_id\n",
       "0         GALM   hsa00010\n",
       "1      LDHAL6A   hsa00010\n",
       "2         DLAT   hsa00010\n",
       "3         ENO1   hsa00010\n",
       "4         ENO2   hsa00010\n",
       "...        ...        ...\n",
       "21046      GCK   hsa00524\n",
       "21047      HK1   hsa00524\n",
       "21048      HK2   hsa00524\n",
       "21049      HK3   hsa00524\n",
       "21050    HKDC1   hsa00524\n",
       "\n",
       "[21051 rows x 2 columns]"
      ]
     },
     "execution_count": 1,
     "metadata": {},
     "output_type": "execute_result"
    }
   ],
   "source": [
    "# Download Link: R code\n",
    "# Download Date: 2025-03-21\n",
    "# Download Version: 2025-03-21\n",
    "import pandas as pd\n",
    "\n",
    "kegg = pd.read_csv('full_kegg_pathway_list_with_id.csv')\n",
    "kegg_protein_pathway = kegg[(kegg['source_type'] == 'SYMBOL')]\n",
    "kegg_protein_pathway = kegg_protein_pathway[['source', 'pathway_id']]\n",
    "kegg_protein_pathway['pathway_id'] = kegg_protein_pathway['pathway_id'].str.replace(':', '')\n",
    "kegg_protein_pathway.drop_duplicates(inplace=True)\n",
    "kegg_protein_pathway.reset_index(drop=True, inplace=True)\n",
    "kegg_protein_pathway"
   ]
  },
  {
   "cell_type": "markdown",
   "metadata": {},
   "source": [
    "### BioMedGraphica ID"
   ]
  },
  {
   "cell_type": "code",
   "execution_count": 2,
   "metadata": {},
   "outputs": [],
   "source": [
    "import pandas as pd\n",
    "import os\n",
    "from pathlib import Path\n",
    "\n",
    "current_working_dir = Path(os.getcwd()).resolve()\n",
    "grandparent_dir = current_working_dir.parent.parent.parent\n",
    "target_dir_protein = grandparent_dir / 'BioMedGraphica' / 'Entity' / 'Protein' / 'BioMedGraphica_Protein.csv'\n",
    "target_dir_pathway = grandparent_dir / 'BioMedGraphica' / 'Entity' / 'Pathway' / 'BioMedGraphica_Pathway.csv'\n",
    "biomedgraphica_protein = pd.read_csv(target_dir_protein, dtype=str)\n",
    "biomedgraphica_pathway = pd.read_csv(target_dir_pathway, dtype=str)"
   ]
  },
  {
   "cell_type": "markdown",
   "metadata": {},
   "source": [
    "### KEGG Mapping"
   ]
  },
  {
   "cell_type": "code",
   "execution_count": 3,
   "metadata": {},
   "outputs": [
    {
     "name": "stderr",
     "output_type": "stream",
     "text": [
      "C:\\Users\\shunn\\AppData\\Local\\Temp\\ipykernel_12040\\2182003080.py:2: SettingWithCopyWarning: \n",
      "A value is trying to be set on a copy of a slice from a DataFrame\n",
      "\n",
      "See the caveats in the documentation: https://pandas.pydata.org/pandas-docs/stable/user_guide/indexing.html#returning-a-view-versus-a-copy\n",
      "  gene_name_individualid.dropna(subset=['HGNC_Symbol'], inplace=True)\n"
     ]
    },
    {
     "data": {
      "application/vnd.microsoft.datawrangler.viewer.v0+json": {
       "columns": [
        {
         "name": "index",
         "rawType": "int64",
         "type": "integer"
        },
        {
         "name": "source",
         "rawType": "object",
         "type": "string"
        },
        {
         "name": "pathway_id",
         "rawType": "object",
         "type": "string"
        },
        {
         "name": "From_ID",
         "rawType": "object",
         "type": "unknown"
        }
       ],
       "conversionMethod": "pd.DataFrame",
       "ref": "b12d8b7a-8bc3-4e4f-bf2a-2c22a4913e6f",
       "rows": [
        [
         "0",
         "GALM",
         "hsa00010",
         "BMG_PT080047;BMG_PT105461;BMG_PT110190;BMG_PT113734"
        ],
        [
         "1",
         "LDHAL6A",
         "hsa00010",
         "BMG_PT065496"
        ],
        [
         "2",
         "DLAT",
         "hsa00010",
         "BMG_PT038822;BMG_PT104231;BMG_PT126037;BMG_PT127297;BMG_PT162909;BMG_PT163277;BMG_PT163488;BMG_PT163659;BMG_PT163781;BMG_PT163855;BMG_PT163926;BMG_PT163989;BMG_PT164137;BMG_PT164309;BMG_PT164438"
        ],
        [
         "3",
         "ENO1",
         "hsa00010",
         "BMG_PT038099;BMG_PT141847;BMG_PT143177;BMG_PT155469;BMG_PT156164;BMG_PT156188;BMG_PT156196;BMG_PT156341;BMG_PT156430;BMG_PT156810"
        ],
        [
         "4",
         "ENO2",
         "hsa00010",
         "BMG_PT038310;BMG_PT128759;BMG_PT130715;BMG_PT146190;BMG_PT146197"
        ],
        [
         "5",
         "ENO3",
         "hsa00010",
         "BMG_PT039086;BMG_PT122833;BMG_PT123043;BMG_PT124169;BMG_PT140824;BMG_PT141374;BMG_PT142420;BMG_PT142537"
        ],
        [
         "6",
         "ALDH2",
         "hsa00010",
         "BMG_PT037994;BMG_PT131635;BMG_PT145773"
        ],
        [
         "7",
         "ALDH3A1",
         "hsa00010",
         "BMG_PT040221;BMG_PT104466;BMG_PT106170;BMG_PT106633;BMG_PT126836;BMG_PT137911;BMG_PT138471;BMG_PT138559;BMG_PT138703"
        ],
        [
         "8",
         "ALDH1B1",
         "hsa00010",
         "BMG_PT040220;BMG_PT152049"
        ],
        [
         "9",
         "FBP1",
         "hsa00010",
         "BMG_PT038334;BMG_PT114628;BMG_PT157907;BMG_PT165081"
        ],
        [
         "10",
         "ALDH3B1",
         "hsa00010",
         "BMG_PT040797;BMG_PT146769;BMG_PT146999;BMG_PT147094;BMG_PT149177;BMG_PT149530"
        ],
        [
         "11",
         "ALDH3B2",
         "hsa00010",
         "BMG_PT040972;BMG_PT126056;BMG_PT126219;BMG_PT127363;BMG_PT159863;BMG_PT159948;BMG_PT160033;BMG_PT160040"
        ],
        [
         "12",
         "ALDH9A1",
         "hsa00010",
         "BMG_PT041027"
        ],
        [
         "13",
         "ALDH3A2",
         "hsa00010",
         "BMG_PT041253;BMG_PT104468;BMG_PT137748;BMG_PT137950;BMG_PT138291;BMG_PT138716;BMG_PT139585;BMG_PT139603;BMG_PT139705;BMG_PT140213;BMG_PT140358;BMG_PT140550;BMG_PT142122;BMG_PT150056;BMG_PT150189;BMG_PT150908;BMG_PT159111;BMG_PT159449;BMG_PT159544;BMG_PT159545;BMG_PT159579;BMG_PT159701;BMG_PT159728"
        ],
        [
         "14",
         "ALDOA",
         "hsa00010",
         "BMG_PT037893;BMG_PT104428;BMG_PT135412;BMG_PT136009;BMG_PT136259;BMG_PT136360;BMG_PT136411;BMG_PT137281;BMG_PT137361"
        ],
        [
         "15",
         "ALDOB",
         "hsa00010",
         "BMG_PT037990;BMG_PT157248;BMG_PT157797"
        ],
        [
         "16",
         "ALDOC",
         "hsa00010",
         "BMG_PT038383;BMG_PT104435;BMG_PT109999;BMG_PT139422;BMG_PT139697;BMG_PT139732;BMG_PT141331"
        ],
        [
         "17",
         "G6PC1",
         "hsa00010",
         "BMG_PT040476;BMG_PT141707"
        ],
        [
         "18",
         "GAPDH",
         "hsa00010",
         "BMG_PT037935;BMG_PT104604"
        ],
        [
         "19",
         "GAPDHS",
         "hsa00010",
         "BMG_PT033453;BMG_PT141867;BMG_PT142411"
        ],
        [
         "20",
         "GCK",
         "hsa00010",
         "BMG_PT040472;BMG_PT101944;BMG_PT104502;BMG_PT111399;BMG_PT148503;BMG_PT159095;BMG_PT159381"
        ],
        [
         "21",
         "GPI",
         "hsa00010",
         "BMG_PT038103;BMG_PT112426;BMG_PT140774;BMG_PT140775;BMG_PT141699;BMG_PT142145;BMG_PT142385;BMG_PT142629;BMG_PT142686;BMG_PT143053;BMG_PT143115;BMG_PT151110;BMG_PT151204;BMG_PT151299;BMG_PT151459;BMG_PT151546;BMG_PT151623;BMG_PT151657;BMG_PT151678;BMG_PT151809;BMG_PT151857;BMG_PT151932;BMG_PT151944;BMG_PT155897;BMG_PT156495"
        ],
        [
         "22",
         "HK1",
         "hsa00010",
         "BMG_PT039465;BMG_PT109739;BMG_PT113965;BMG_PT155757;BMG_PT156161;BMG_PT156790;BMG_PT170897;BMG_PT170898;BMG_PT170899;BMG_PT170900;BMG_PT170901;BMG_PT170902;BMG_PT170903;BMG_PT170904;BMG_PT170905;BMG_PT170906;BMG_PT170907;BMG_PT170908;BMG_PT170909;BMG_PT170910"
        ],
        [
         "23",
         "HK2",
         "hsa00010",
         "BMG_PT041365;BMG_PT105740"
        ],
        [
         "24",
         "HK3",
         "hsa00010",
         "BMG_PT041366;BMG_PT119590;BMG_PT120813;BMG_PT121971"
        ],
        [
         "25",
         "ENO4",
         "hsa00010",
         "BMG_PT010433;BMG_PT102752"
        ],
        [
         "26",
         "LDHA",
         "hsa00010",
         "BMG_PT037560;BMG_PT129271;BMG_PT129340;BMG_PT129533;BMG_PT129584;BMG_PT129703;BMG_PT129921;BMG_PT130001;BMG_PT130092;BMG_PT130142;BMG_PT130336;BMG_PT130875;BMG_PT159137;BMG_PT159251;BMG_PT159257;BMG_PT159268;BMG_PT159280;BMG_PT159468;BMG_PT159483;BMG_PT159575;BMG_PT159616;BMG_PT159672;BMG_PT159695;BMG_PT159784"
        ],
        [
         "27",
         "LDHB",
         "hsa00010",
         "BMG_PT038125;BMG_PT104532;BMG_PT109638;BMG_PT129933;BMG_PT159524"
        ],
        [
         "28",
         "LDHC",
         "hsa00010",
         "BMG_PT038181;BMG_PT104549;BMG_PT128792;BMG_PT128999;BMG_PT129125;BMG_PT129651;BMG_PT129772;BMG_PT130103;BMG_PT130265"
        ],
        [
         "29",
         "PGAM4",
         "hsa00010",
         "BMG_PT072021"
        ],
        [
         "30",
         "ALDH7A1",
         "hsa00010",
         "BMG_PT041052;BMG_PT111818;BMG_PT115690;BMG_PT131278;BMG_PT132156;BMG_PT151303;BMG_PT151343;BMG_PT151364;BMG_PT152429;BMG_PT152455;BMG_PT152573;BMG_PT152664;BMG_PT152850;BMG_PT152910;BMG_PT152936;BMG_PT153121;BMG_PT153226;BMG_PT153236;BMG_PT153241;BMG_PT153249;BMG_PT153312"
        ],
        [
         "31",
         "PCK1",
         "hsa00010",
         "BMG_PT040473"
        ],
        [
         "32",
         "PCK2",
         "hsa00010",
         "BMG_PT046894;BMG_PT134242;BMG_PT134701;BMG_PT134763;BMG_PT134850;BMG_PT134916;BMG_PT134945;BMG_PT135083;BMG_PT135099;BMG_PT154898;BMG_PT154993;BMG_PT155028;BMG_PT155348;BMG_PT156026;BMG_PT156176;BMG_PT156267;BMG_PT156268"
        ],
        [
         "33",
         "PDHA1",
         "hsa00010",
         "BMG_PT038246;BMG_PT103745;BMG_PT112060;BMG_PT168679;BMG_PT168680"
        ],
        [
         "34",
         "PDHA2",
         "hsa00010",
         "BMG_PT040077"
        ],
        [
         "35",
         "PDHB",
         "hsa00010",
         "BMG_PT038886;BMG_PT117483;BMG_PT118173"
        ],
        [
         "36",
         "PFKL",
         "hsa00010",
         "BMG_PT039384;BMG_PT104728;BMG_PT150051"
        ],
        [
         "37",
         "PFKM",
         "hsa00010",
         "BMG_PT038226;BMG_PT130903;BMG_PT130998;BMG_PT131025;BMG_PT131034;BMG_PT131455;BMG_PT131550;BMG_PT131553;BMG_PT131563;BMG_PT131701;BMG_PT131703;BMG_PT131989;BMG_PT132136;BMG_PT132293;BMG_PT132407;BMG_PT132558;BMG_PT150130;BMG_PT156834"
        ],
        [
         "38",
         "PFKP",
         "hsa00010",
         "BMG_PT042571;BMG_PT103849;BMG_PT105397;BMG_PT105990;BMG_PT113657;BMG_PT114162;BMG_PT146266;BMG_PT146529;BMG_PT161556;BMG_PT162021;BMG_PT162707;BMG_PT169756"
        ],
        [
         "39",
         "PGAM1",
         "hsa00010",
         "BMG_PT039433"
        ],
        [
         "40",
         "PGAM2",
         "hsa00010",
         "BMG_PT039178"
        ],
        [
         "41",
         "PGK1",
         "hsa00010",
         "BMG_PT037582"
        ],
        [
         "42",
         "PGK2",
         "hsa00010",
         "BMG_PT038132"
        ],
        [
         "43",
         "PGM1",
         "hsa00010",
         "BMG_PT040544;BMG_PT157665"
        ],
        [
         "44",
         "PKLR",
         "hsa00010",
         "BMG_PT040206;BMG_PT109646;BMG_PT138113"
        ],
        [
         "45",
         "PKM",
         "hsa00010",
         "BMG_PT039122;BMG_PT104058;BMG_PT135514;BMG_PT136096;BMG_PT136188;BMG_PT136281;BMG_PT136349;BMG_PT136946;BMG_PT137086;BMG_PT137121;BMG_PT137227;BMG_PT137472;BMG_PT169500;BMG_PT169501"
        ],
        [
         "46",
         "PGM2",
         "hsa00010",
         "BMG_PT081067;BMG_PT119899;BMG_PT120139;BMG_PT121352;BMG_PT121837;BMG_PT149947"
        ],
        [
         "47",
         "ACSS2",
         "hsa00010",
         "BMG_PT091943;BMG_PT117067;BMG_PT117302;BMG_PT117424;BMG_PT117587;BMG_PT117701;BMG_PT117923;BMG_PT118393;BMG_PT118508;BMG_PT118655"
        ],
        [
         "48",
         "G6PC2",
         "hsa00010",
         "BMG_PT091856;BMG_PT107505;BMG_PT147422"
        ],
        [
         "49",
         "BPGM",
         "hsa00010",
         "BMG_PT038175;BMG_PT111481"
        ]
       ],
       "shape": {
        "columns": 3,
        "rows": 21051
       }
      },
      "text/html": [
       "<div>\n",
       "<style scoped>\n",
       "    .dataframe tbody tr th:only-of-type {\n",
       "        vertical-align: middle;\n",
       "    }\n",
       "\n",
       "    .dataframe tbody tr th {\n",
       "        vertical-align: top;\n",
       "    }\n",
       "\n",
       "    .dataframe thead th {\n",
       "        text-align: right;\n",
       "    }\n",
       "</style>\n",
       "<table border=\"1\" class=\"dataframe\">\n",
       "  <thead>\n",
       "    <tr style=\"text-align: right;\">\n",
       "      <th></th>\n",
       "      <th>source</th>\n",
       "      <th>pathway_id</th>\n",
       "      <th>From_ID</th>\n",
       "    </tr>\n",
       "  </thead>\n",
       "  <tbody>\n",
       "    <tr>\n",
       "      <th>0</th>\n",
       "      <td>GALM</td>\n",
       "      <td>hsa00010</td>\n",
       "      <td>BMG_PT080047;BMG_PT105461;BMG_PT110190;BMG_PT1...</td>\n",
       "    </tr>\n",
       "    <tr>\n",
       "      <th>1</th>\n",
       "      <td>LDHAL6A</td>\n",
       "      <td>hsa00010</td>\n",
       "      <td>BMG_PT065496</td>\n",
       "    </tr>\n",
       "    <tr>\n",
       "      <th>2</th>\n",
       "      <td>DLAT</td>\n",
       "      <td>hsa00010</td>\n",
       "      <td>BMG_PT038822;BMG_PT104231;BMG_PT126037;BMG_PT1...</td>\n",
       "    </tr>\n",
       "    <tr>\n",
       "      <th>3</th>\n",
       "      <td>ENO1</td>\n",
       "      <td>hsa00010</td>\n",
       "      <td>BMG_PT038099;BMG_PT141847;BMG_PT143177;BMG_PT1...</td>\n",
       "    </tr>\n",
       "    <tr>\n",
       "      <th>4</th>\n",
       "      <td>ENO2</td>\n",
       "      <td>hsa00010</td>\n",
       "      <td>BMG_PT038310;BMG_PT128759;BMG_PT130715;BMG_PT1...</td>\n",
       "    </tr>\n",
       "    <tr>\n",
       "      <th>...</th>\n",
       "      <td>...</td>\n",
       "      <td>...</td>\n",
       "      <td>...</td>\n",
       "    </tr>\n",
       "    <tr>\n",
       "      <th>21046</th>\n",
       "      <td>GCK</td>\n",
       "      <td>hsa00524</td>\n",
       "      <td>BMG_PT040472;BMG_PT101944;BMG_PT104502;BMG_PT1...</td>\n",
       "    </tr>\n",
       "    <tr>\n",
       "      <th>21047</th>\n",
       "      <td>HK1</td>\n",
       "      <td>hsa00524</td>\n",
       "      <td>BMG_PT039465;BMG_PT109739;BMG_PT113965;BMG_PT1...</td>\n",
       "    </tr>\n",
       "    <tr>\n",
       "      <th>21048</th>\n",
       "      <td>HK2</td>\n",
       "      <td>hsa00524</td>\n",
       "      <td>BMG_PT041365;BMG_PT105740</td>\n",
       "    </tr>\n",
       "    <tr>\n",
       "      <th>21049</th>\n",
       "      <td>HK3</td>\n",
       "      <td>hsa00524</td>\n",
       "      <td>BMG_PT041366;BMG_PT119590;BMG_PT120813;BMG_PT1...</td>\n",
       "    </tr>\n",
       "    <tr>\n",
       "      <th>21050</th>\n",
       "      <td>HKDC1</td>\n",
       "      <td>hsa00524</td>\n",
       "      <td>BMG_PT048298</td>\n",
       "    </tr>\n",
       "  </tbody>\n",
       "</table>\n",
       "<p>21051 rows × 3 columns</p>\n",
       "</div>"
      ],
      "text/plain": [
       "        source pathway_id                                            From_ID\n",
       "0         GALM   hsa00010  BMG_PT080047;BMG_PT105461;BMG_PT110190;BMG_PT1...\n",
       "1      LDHAL6A   hsa00010                                       BMG_PT065496\n",
       "2         DLAT   hsa00010  BMG_PT038822;BMG_PT104231;BMG_PT126037;BMG_PT1...\n",
       "3         ENO1   hsa00010  BMG_PT038099;BMG_PT141847;BMG_PT143177;BMG_PT1...\n",
       "4         ENO2   hsa00010  BMG_PT038310;BMG_PT128759;BMG_PT130715;BMG_PT1...\n",
       "...        ...        ...                                                ...\n",
       "21046      GCK   hsa00524  BMG_PT040472;BMG_PT101944;BMG_PT104502;BMG_PT1...\n",
       "21047      HK1   hsa00524  BMG_PT039465;BMG_PT109739;BMG_PT113965;BMG_PT1...\n",
       "21048      HK2   hsa00524                          BMG_PT041365;BMG_PT105740\n",
       "21049      HK3   hsa00524  BMG_PT041366;BMG_PT119590;BMG_PT120813;BMG_PT1...\n",
       "21050    HKDC1   hsa00524                                       BMG_PT048298\n",
       "\n",
       "[21051 rows x 3 columns]"
      ]
     },
     "execution_count": 3,
     "metadata": {},
     "output_type": "execute_result"
    }
   ],
   "source": [
    "gene_name_individualid = biomedgraphica_protein[['HGNC_Symbol', 'BioMedGraphica_ID']]\n",
    "gene_name_individualid.dropna(subset=['HGNC_Symbol'], inplace=True)\n",
    "gene_name_to_individualid = gene_name_individualid.assign(HGNC_Symbol=gene_name_individualid['HGNC_Symbol'].str.split(';')).explode('HGNC_Symbol')\n",
    "gene_name_to_individualid = gene_name_to_individualid.groupby('HGNC_Symbol')['BioMedGraphica_ID'].apply(lambda x: ';'.join(x.dropna().unique())).to_dict()\n",
    "\n",
    "kegg_protein_pathway['From_ID'] = kegg_protein_pathway['source'].map(gene_name_to_individualid)\n",
    "kegg_protein_pathway"
   ]
  },
  {
   "cell_type": "code",
   "execution_count": 4,
   "metadata": {},
   "outputs": [
    {
     "name": "stderr",
     "output_type": "stream",
     "text": [
      "C:\\Users\\shunn\\AppData\\Local\\Temp\\ipykernel_12040\\3943489060.py:2: SettingWithCopyWarning: \n",
      "A value is trying to be set on a copy of a slice from a DataFrame\n",
      "\n",
      "See the caveats in the documentation: https://pandas.pydata.org/pandas-docs/stable/user_guide/indexing.html#returning-a-view-versus-a-copy\n",
      "  pathway_individualid.dropna(subset=['KEGG_ID'], inplace=True)\n"
     ]
    },
    {
     "data": {
      "application/vnd.microsoft.datawrangler.viewer.v0+json": {
       "columns": [
        {
         "name": "index",
         "rawType": "int64",
         "type": "integer"
        },
        {
         "name": "source",
         "rawType": "object",
         "type": "string"
        },
        {
         "name": "pathway_id",
         "rawType": "object",
         "type": "string"
        },
        {
         "name": "From_ID",
         "rawType": "object",
         "type": "unknown"
        },
        {
         "name": "To_ID",
         "rawType": "object",
         "type": "string"
        }
       ],
       "conversionMethod": "pd.DataFrame",
       "ref": "ca9a78fc-3e6b-4388-b41a-408245afc7f0",
       "rows": [
        [
         "0",
         "GALM",
         "hsa00010",
         "BMG_PT080047;BMG_PT105461;BMG_PT110190;BMG_PT113734",
         "BMG_PW0025;BMG_PW0637;BMG_PW0638"
        ],
        [
         "1",
         "LDHAL6A",
         "hsa00010",
         "BMG_PT065496",
         "BMG_PW0025;BMG_PW0637;BMG_PW0638"
        ],
        [
         "2",
         "DLAT",
         "hsa00010",
         "BMG_PT038822;BMG_PT104231;BMG_PT126037;BMG_PT127297;BMG_PT162909;BMG_PT163277;BMG_PT163488;BMG_PT163659;BMG_PT163781;BMG_PT163855;BMG_PT163926;BMG_PT163989;BMG_PT164137;BMG_PT164309;BMG_PT164438",
         "BMG_PW0025;BMG_PW0637;BMG_PW0638"
        ],
        [
         "3",
         "ENO1",
         "hsa00010",
         "BMG_PT038099;BMG_PT141847;BMG_PT143177;BMG_PT155469;BMG_PT156164;BMG_PT156188;BMG_PT156196;BMG_PT156341;BMG_PT156430;BMG_PT156810",
         "BMG_PW0025;BMG_PW0637;BMG_PW0638"
        ],
        [
         "4",
         "ENO2",
         "hsa00010",
         "BMG_PT038310;BMG_PT128759;BMG_PT130715;BMG_PT146190;BMG_PT146197",
         "BMG_PW0025;BMG_PW0637;BMG_PW0638"
        ],
        [
         "5",
         "ENO3",
         "hsa00010",
         "BMG_PT039086;BMG_PT122833;BMG_PT123043;BMG_PT124169;BMG_PT140824;BMG_PT141374;BMG_PT142420;BMG_PT142537",
         "BMG_PW0025;BMG_PW0637;BMG_PW0638"
        ],
        [
         "6",
         "ALDH2",
         "hsa00010",
         "BMG_PT037994;BMG_PT131635;BMG_PT145773",
         "BMG_PW0025;BMG_PW0637;BMG_PW0638"
        ],
        [
         "7",
         "ALDH3A1",
         "hsa00010",
         "BMG_PT040221;BMG_PT104466;BMG_PT106170;BMG_PT106633;BMG_PT126836;BMG_PT137911;BMG_PT138471;BMG_PT138559;BMG_PT138703",
         "BMG_PW0025;BMG_PW0637;BMG_PW0638"
        ],
        [
         "8",
         "ALDH1B1",
         "hsa00010",
         "BMG_PT040220;BMG_PT152049",
         "BMG_PW0025;BMG_PW0637;BMG_PW0638"
        ],
        [
         "9",
         "FBP1",
         "hsa00010",
         "BMG_PT038334;BMG_PT114628;BMG_PT157907;BMG_PT165081",
         "BMG_PW0025;BMG_PW0637;BMG_PW0638"
        ],
        [
         "10",
         "ALDH3B1",
         "hsa00010",
         "BMG_PT040797;BMG_PT146769;BMG_PT146999;BMG_PT147094;BMG_PT149177;BMG_PT149530",
         "BMG_PW0025;BMG_PW0637;BMG_PW0638"
        ],
        [
         "11",
         "ALDH3B2",
         "hsa00010",
         "BMG_PT040972;BMG_PT126056;BMG_PT126219;BMG_PT127363;BMG_PT159863;BMG_PT159948;BMG_PT160033;BMG_PT160040",
         "BMG_PW0025;BMG_PW0637;BMG_PW0638"
        ],
        [
         "12",
         "ALDH9A1",
         "hsa00010",
         "BMG_PT041027",
         "BMG_PW0025;BMG_PW0637;BMG_PW0638"
        ],
        [
         "13",
         "ALDH3A2",
         "hsa00010",
         "BMG_PT041253;BMG_PT104468;BMG_PT137748;BMG_PT137950;BMG_PT138291;BMG_PT138716;BMG_PT139585;BMG_PT139603;BMG_PT139705;BMG_PT140213;BMG_PT140358;BMG_PT140550;BMG_PT142122;BMG_PT150056;BMG_PT150189;BMG_PT150908;BMG_PT159111;BMG_PT159449;BMG_PT159544;BMG_PT159545;BMG_PT159579;BMG_PT159701;BMG_PT159728",
         "BMG_PW0025;BMG_PW0637;BMG_PW0638"
        ],
        [
         "14",
         "ALDOA",
         "hsa00010",
         "BMG_PT037893;BMG_PT104428;BMG_PT135412;BMG_PT136009;BMG_PT136259;BMG_PT136360;BMG_PT136411;BMG_PT137281;BMG_PT137361",
         "BMG_PW0025;BMG_PW0637;BMG_PW0638"
        ],
        [
         "15",
         "ALDOB",
         "hsa00010",
         "BMG_PT037990;BMG_PT157248;BMG_PT157797",
         "BMG_PW0025;BMG_PW0637;BMG_PW0638"
        ],
        [
         "16",
         "ALDOC",
         "hsa00010",
         "BMG_PT038383;BMG_PT104435;BMG_PT109999;BMG_PT139422;BMG_PT139697;BMG_PT139732;BMG_PT141331",
         "BMG_PW0025;BMG_PW0637;BMG_PW0638"
        ],
        [
         "17",
         "G6PC1",
         "hsa00010",
         "BMG_PT040476;BMG_PT141707",
         "BMG_PW0025;BMG_PW0637;BMG_PW0638"
        ],
        [
         "18",
         "GAPDH",
         "hsa00010",
         "BMG_PT037935;BMG_PT104604",
         "BMG_PW0025;BMG_PW0637;BMG_PW0638"
        ],
        [
         "19",
         "GAPDHS",
         "hsa00010",
         "BMG_PT033453;BMG_PT141867;BMG_PT142411",
         "BMG_PW0025;BMG_PW0637;BMG_PW0638"
        ],
        [
         "20",
         "GCK",
         "hsa00010",
         "BMG_PT040472;BMG_PT101944;BMG_PT104502;BMG_PT111399;BMG_PT148503;BMG_PT159095;BMG_PT159381",
         "BMG_PW0025;BMG_PW0637;BMG_PW0638"
        ],
        [
         "21",
         "GPI",
         "hsa00010",
         "BMG_PT038103;BMG_PT112426;BMG_PT140774;BMG_PT140775;BMG_PT141699;BMG_PT142145;BMG_PT142385;BMG_PT142629;BMG_PT142686;BMG_PT143053;BMG_PT143115;BMG_PT151110;BMG_PT151204;BMG_PT151299;BMG_PT151459;BMG_PT151546;BMG_PT151623;BMG_PT151657;BMG_PT151678;BMG_PT151809;BMG_PT151857;BMG_PT151932;BMG_PT151944;BMG_PT155897;BMG_PT156495",
         "BMG_PW0025;BMG_PW0637;BMG_PW0638"
        ],
        [
         "22",
         "HK1",
         "hsa00010",
         "BMG_PT039465;BMG_PT109739;BMG_PT113965;BMG_PT155757;BMG_PT156161;BMG_PT156790;BMG_PT170897;BMG_PT170898;BMG_PT170899;BMG_PT170900;BMG_PT170901;BMG_PT170902;BMG_PT170903;BMG_PT170904;BMG_PT170905;BMG_PT170906;BMG_PT170907;BMG_PT170908;BMG_PT170909;BMG_PT170910",
         "BMG_PW0025;BMG_PW0637;BMG_PW0638"
        ],
        [
         "23",
         "HK2",
         "hsa00010",
         "BMG_PT041365;BMG_PT105740",
         "BMG_PW0025;BMG_PW0637;BMG_PW0638"
        ],
        [
         "24",
         "HK3",
         "hsa00010",
         "BMG_PT041366;BMG_PT119590;BMG_PT120813;BMG_PT121971",
         "BMG_PW0025;BMG_PW0637;BMG_PW0638"
        ],
        [
         "25",
         "ENO4",
         "hsa00010",
         "BMG_PT010433;BMG_PT102752",
         "BMG_PW0025;BMG_PW0637;BMG_PW0638"
        ],
        [
         "26",
         "LDHA",
         "hsa00010",
         "BMG_PT037560;BMG_PT129271;BMG_PT129340;BMG_PT129533;BMG_PT129584;BMG_PT129703;BMG_PT129921;BMG_PT130001;BMG_PT130092;BMG_PT130142;BMG_PT130336;BMG_PT130875;BMG_PT159137;BMG_PT159251;BMG_PT159257;BMG_PT159268;BMG_PT159280;BMG_PT159468;BMG_PT159483;BMG_PT159575;BMG_PT159616;BMG_PT159672;BMG_PT159695;BMG_PT159784",
         "BMG_PW0025;BMG_PW0637;BMG_PW0638"
        ],
        [
         "27",
         "LDHB",
         "hsa00010",
         "BMG_PT038125;BMG_PT104532;BMG_PT109638;BMG_PT129933;BMG_PT159524",
         "BMG_PW0025;BMG_PW0637;BMG_PW0638"
        ],
        [
         "28",
         "LDHC",
         "hsa00010",
         "BMG_PT038181;BMG_PT104549;BMG_PT128792;BMG_PT128999;BMG_PT129125;BMG_PT129651;BMG_PT129772;BMG_PT130103;BMG_PT130265",
         "BMG_PW0025;BMG_PW0637;BMG_PW0638"
        ],
        [
         "29",
         "PGAM4",
         "hsa00010",
         "BMG_PT072021",
         "BMG_PW0025;BMG_PW0637;BMG_PW0638"
        ],
        [
         "30",
         "ALDH7A1",
         "hsa00010",
         "BMG_PT041052;BMG_PT111818;BMG_PT115690;BMG_PT131278;BMG_PT132156;BMG_PT151303;BMG_PT151343;BMG_PT151364;BMG_PT152429;BMG_PT152455;BMG_PT152573;BMG_PT152664;BMG_PT152850;BMG_PT152910;BMG_PT152936;BMG_PT153121;BMG_PT153226;BMG_PT153236;BMG_PT153241;BMG_PT153249;BMG_PT153312",
         "BMG_PW0025;BMG_PW0637;BMG_PW0638"
        ],
        [
         "31",
         "PCK1",
         "hsa00010",
         "BMG_PT040473",
         "BMG_PW0025;BMG_PW0637;BMG_PW0638"
        ],
        [
         "32",
         "PCK2",
         "hsa00010",
         "BMG_PT046894;BMG_PT134242;BMG_PT134701;BMG_PT134763;BMG_PT134850;BMG_PT134916;BMG_PT134945;BMG_PT135083;BMG_PT135099;BMG_PT154898;BMG_PT154993;BMG_PT155028;BMG_PT155348;BMG_PT156026;BMG_PT156176;BMG_PT156267;BMG_PT156268",
         "BMG_PW0025;BMG_PW0637;BMG_PW0638"
        ],
        [
         "33",
         "PDHA1",
         "hsa00010",
         "BMG_PT038246;BMG_PT103745;BMG_PT112060;BMG_PT168679;BMG_PT168680",
         "BMG_PW0025;BMG_PW0637;BMG_PW0638"
        ],
        [
         "34",
         "PDHA2",
         "hsa00010",
         "BMG_PT040077",
         "BMG_PW0025;BMG_PW0637;BMG_PW0638"
        ],
        [
         "35",
         "PDHB",
         "hsa00010",
         "BMG_PT038886;BMG_PT117483;BMG_PT118173",
         "BMG_PW0025;BMG_PW0637;BMG_PW0638"
        ],
        [
         "36",
         "PFKL",
         "hsa00010",
         "BMG_PT039384;BMG_PT104728;BMG_PT150051",
         "BMG_PW0025;BMG_PW0637;BMG_PW0638"
        ],
        [
         "37",
         "PFKM",
         "hsa00010",
         "BMG_PT038226;BMG_PT130903;BMG_PT130998;BMG_PT131025;BMG_PT131034;BMG_PT131455;BMG_PT131550;BMG_PT131553;BMG_PT131563;BMG_PT131701;BMG_PT131703;BMG_PT131989;BMG_PT132136;BMG_PT132293;BMG_PT132407;BMG_PT132558;BMG_PT150130;BMG_PT156834",
         "BMG_PW0025;BMG_PW0637;BMG_PW0638"
        ],
        [
         "38",
         "PFKP",
         "hsa00010",
         "BMG_PT042571;BMG_PT103849;BMG_PT105397;BMG_PT105990;BMG_PT113657;BMG_PT114162;BMG_PT146266;BMG_PT146529;BMG_PT161556;BMG_PT162021;BMG_PT162707;BMG_PT169756",
         "BMG_PW0025;BMG_PW0637;BMG_PW0638"
        ],
        [
         "39",
         "PGAM1",
         "hsa00010",
         "BMG_PT039433",
         "BMG_PW0025;BMG_PW0637;BMG_PW0638"
        ],
        [
         "40",
         "PGAM2",
         "hsa00010",
         "BMG_PT039178",
         "BMG_PW0025;BMG_PW0637;BMG_PW0638"
        ],
        [
         "41",
         "PGK1",
         "hsa00010",
         "BMG_PT037582",
         "BMG_PW0025;BMG_PW0637;BMG_PW0638"
        ],
        [
         "42",
         "PGK2",
         "hsa00010",
         "BMG_PT038132",
         "BMG_PW0025;BMG_PW0637;BMG_PW0638"
        ],
        [
         "43",
         "PGM1",
         "hsa00010",
         "BMG_PT040544;BMG_PT157665",
         "BMG_PW0025;BMG_PW0637;BMG_PW0638"
        ],
        [
         "44",
         "PKLR",
         "hsa00010",
         "BMG_PT040206;BMG_PT109646;BMG_PT138113",
         "BMG_PW0025;BMG_PW0637;BMG_PW0638"
        ],
        [
         "45",
         "PKM",
         "hsa00010",
         "BMG_PT039122;BMG_PT104058;BMG_PT135514;BMG_PT136096;BMG_PT136188;BMG_PT136281;BMG_PT136349;BMG_PT136946;BMG_PT137086;BMG_PT137121;BMG_PT137227;BMG_PT137472;BMG_PT169500;BMG_PT169501",
         "BMG_PW0025;BMG_PW0637;BMG_PW0638"
        ],
        [
         "46",
         "PGM2",
         "hsa00010",
         "BMG_PT081067;BMG_PT119899;BMG_PT120139;BMG_PT121352;BMG_PT121837;BMG_PT149947",
         "BMG_PW0025;BMG_PW0637;BMG_PW0638"
        ],
        [
         "47",
         "ACSS2",
         "hsa00010",
         "BMG_PT091943;BMG_PT117067;BMG_PT117302;BMG_PT117424;BMG_PT117587;BMG_PT117701;BMG_PT117923;BMG_PT118393;BMG_PT118508;BMG_PT118655",
         "BMG_PW0025;BMG_PW0637;BMG_PW0638"
        ],
        [
         "48",
         "G6PC2",
         "hsa00010",
         "BMG_PT091856;BMG_PT107505;BMG_PT147422",
         "BMG_PW0025;BMG_PW0637;BMG_PW0638"
        ],
        [
         "49",
         "BPGM",
         "hsa00010",
         "BMG_PT038175;BMG_PT111481",
         "BMG_PW0025;BMG_PW0637;BMG_PW0638"
        ]
       ],
       "shape": {
        "columns": 4,
        "rows": 21051
       }
      },
      "text/html": [
       "<div>\n",
       "<style scoped>\n",
       "    .dataframe tbody tr th:only-of-type {\n",
       "        vertical-align: middle;\n",
       "    }\n",
       "\n",
       "    .dataframe tbody tr th {\n",
       "        vertical-align: top;\n",
       "    }\n",
       "\n",
       "    .dataframe thead th {\n",
       "        text-align: right;\n",
       "    }\n",
       "</style>\n",
       "<table border=\"1\" class=\"dataframe\">\n",
       "  <thead>\n",
       "    <tr style=\"text-align: right;\">\n",
       "      <th></th>\n",
       "      <th>source</th>\n",
       "      <th>pathway_id</th>\n",
       "      <th>From_ID</th>\n",
       "      <th>To_ID</th>\n",
       "    </tr>\n",
       "  </thead>\n",
       "  <tbody>\n",
       "    <tr>\n",
       "      <th>0</th>\n",
       "      <td>GALM</td>\n",
       "      <td>hsa00010</td>\n",
       "      <td>BMG_PT080047;BMG_PT105461;BMG_PT110190;BMG_PT1...</td>\n",
       "      <td>BMG_PW0025;BMG_PW0637;BMG_PW0638</td>\n",
       "    </tr>\n",
       "    <tr>\n",
       "      <th>1</th>\n",
       "      <td>LDHAL6A</td>\n",
       "      <td>hsa00010</td>\n",
       "      <td>BMG_PT065496</td>\n",
       "      <td>BMG_PW0025;BMG_PW0637;BMG_PW0638</td>\n",
       "    </tr>\n",
       "    <tr>\n",
       "      <th>2</th>\n",
       "      <td>DLAT</td>\n",
       "      <td>hsa00010</td>\n",
       "      <td>BMG_PT038822;BMG_PT104231;BMG_PT126037;BMG_PT1...</td>\n",
       "      <td>BMG_PW0025;BMG_PW0637;BMG_PW0638</td>\n",
       "    </tr>\n",
       "    <tr>\n",
       "      <th>3</th>\n",
       "      <td>ENO1</td>\n",
       "      <td>hsa00010</td>\n",
       "      <td>BMG_PT038099;BMG_PT141847;BMG_PT143177;BMG_PT1...</td>\n",
       "      <td>BMG_PW0025;BMG_PW0637;BMG_PW0638</td>\n",
       "    </tr>\n",
       "    <tr>\n",
       "      <th>4</th>\n",
       "      <td>ENO2</td>\n",
       "      <td>hsa00010</td>\n",
       "      <td>BMG_PT038310;BMG_PT128759;BMG_PT130715;BMG_PT1...</td>\n",
       "      <td>BMG_PW0025;BMG_PW0637;BMG_PW0638</td>\n",
       "    </tr>\n",
       "    <tr>\n",
       "      <th>...</th>\n",
       "      <td>...</td>\n",
       "      <td>...</td>\n",
       "      <td>...</td>\n",
       "      <td>...</td>\n",
       "    </tr>\n",
       "    <tr>\n",
       "      <th>21046</th>\n",
       "      <td>GCK</td>\n",
       "      <td>hsa00524</td>\n",
       "      <td>BMG_PT040472;BMG_PT101944;BMG_PT104502;BMG_PT1...</td>\n",
       "      <td>BMG_PW6625</td>\n",
       "    </tr>\n",
       "    <tr>\n",
       "      <th>21047</th>\n",
       "      <td>HK1</td>\n",
       "      <td>hsa00524</td>\n",
       "      <td>BMG_PT039465;BMG_PT109739;BMG_PT113965;BMG_PT1...</td>\n",
       "      <td>BMG_PW6625</td>\n",
       "    </tr>\n",
       "    <tr>\n",
       "      <th>21048</th>\n",
       "      <td>HK2</td>\n",
       "      <td>hsa00524</td>\n",
       "      <td>BMG_PT041365;BMG_PT105740</td>\n",
       "      <td>BMG_PW6625</td>\n",
       "    </tr>\n",
       "    <tr>\n",
       "      <th>21049</th>\n",
       "      <td>HK3</td>\n",
       "      <td>hsa00524</td>\n",
       "      <td>BMG_PT041366;BMG_PT119590;BMG_PT120813;BMG_PT1...</td>\n",
       "      <td>BMG_PW6625</td>\n",
       "    </tr>\n",
       "    <tr>\n",
       "      <th>21050</th>\n",
       "      <td>HKDC1</td>\n",
       "      <td>hsa00524</td>\n",
       "      <td>BMG_PT048298</td>\n",
       "      <td>BMG_PW6625</td>\n",
       "    </tr>\n",
       "  </tbody>\n",
       "</table>\n",
       "<p>21051 rows × 4 columns</p>\n",
       "</div>"
      ],
      "text/plain": [
       "        source pathway_id                                            From_ID  \\\n",
       "0         GALM   hsa00010  BMG_PT080047;BMG_PT105461;BMG_PT110190;BMG_PT1...   \n",
       "1      LDHAL6A   hsa00010                                       BMG_PT065496   \n",
       "2         DLAT   hsa00010  BMG_PT038822;BMG_PT104231;BMG_PT126037;BMG_PT1...   \n",
       "3         ENO1   hsa00010  BMG_PT038099;BMG_PT141847;BMG_PT143177;BMG_PT1...   \n",
       "4         ENO2   hsa00010  BMG_PT038310;BMG_PT128759;BMG_PT130715;BMG_PT1...   \n",
       "...        ...        ...                                                ...   \n",
       "21046      GCK   hsa00524  BMG_PT040472;BMG_PT101944;BMG_PT104502;BMG_PT1...   \n",
       "21047      HK1   hsa00524  BMG_PT039465;BMG_PT109739;BMG_PT113965;BMG_PT1...   \n",
       "21048      HK2   hsa00524                          BMG_PT041365;BMG_PT105740   \n",
       "21049      HK3   hsa00524  BMG_PT041366;BMG_PT119590;BMG_PT120813;BMG_PT1...   \n",
       "21050    HKDC1   hsa00524                                       BMG_PT048298   \n",
       "\n",
       "                                  To_ID  \n",
       "0      BMG_PW0025;BMG_PW0637;BMG_PW0638  \n",
       "1      BMG_PW0025;BMG_PW0637;BMG_PW0638  \n",
       "2      BMG_PW0025;BMG_PW0637;BMG_PW0638  \n",
       "3      BMG_PW0025;BMG_PW0637;BMG_PW0638  \n",
       "4      BMG_PW0025;BMG_PW0637;BMG_PW0638  \n",
       "...                                 ...  \n",
       "21046                        BMG_PW6625  \n",
       "21047                        BMG_PW6625  \n",
       "21048                        BMG_PW6625  \n",
       "21049                        BMG_PW6625  \n",
       "21050                        BMG_PW6625  \n",
       "\n",
       "[21051 rows x 4 columns]"
      ]
     },
     "execution_count": 4,
     "metadata": {},
     "output_type": "execute_result"
    }
   ],
   "source": [
    "pathway_individualid = biomedgraphica_pathway[['KEGG_ID', 'BioMedGraphica_ID']]\n",
    "pathway_individualid.dropna(subset=['KEGG_ID'], inplace=True)\n",
    "pathway_to_individualid = pathway_individualid.assign(KEGG_ID=pathway_individualid['KEGG_ID'].str.split(';')).explode('KEGG_ID')\n",
    "pathway_to_individualid = pathway_to_individualid.groupby('KEGG_ID')['BioMedGraphica_ID'].apply(lambda x: ';'.join(x.dropna().unique())).to_dict()\n",
    "\n",
    "kegg_protein_pathway['To_ID'] = kegg_protein_pathway['pathway_id'].map(pathway_to_individualid)\n",
    "kegg_protein_pathway"
   ]
  },
  {
   "cell_type": "code",
   "execution_count": 5,
   "metadata": {},
   "outputs": [
    {
     "name": "stdout",
     "output_type": "stream",
     "text": [
      "<class 'pandas.core.frame.DataFrame'>\n",
      "Index: 20867 entries, 0 to 21050\n",
      "Data columns (total 2 columns):\n",
      " #   Column   Non-Null Count  Dtype \n",
      "---  ------   --------------  ----- \n",
      " 0   From_ID  20867 non-null  object\n",
      " 1   To_ID    20867 non-null  object\n",
      "dtypes: object(2)\n",
      "memory usage: 489.1+ KB\n"
     ]
    },
    {
     "name": "stderr",
     "output_type": "stream",
     "text": [
      "C:\\Users\\shunn\\AppData\\Local\\Temp\\ipykernel_12040\\1657854002.py:2: SettingWithCopyWarning: \n",
      "A value is trying to be set on a copy of a slice from a DataFrame\n",
      "\n",
      "See the caveats in the documentation: https://pandas.pydata.org/pandas-docs/stable/user_guide/indexing.html#returning-a-view-versus-a-copy\n",
      "  protein_pathway.dropna(subset=['From_ID'], inplace=True)\n",
      "C:\\Users\\shunn\\AppData\\Local\\Temp\\ipykernel_12040\\1657854002.py:3: SettingWithCopyWarning: \n",
      "A value is trying to be set on a copy of a slice from a DataFrame\n",
      "\n",
      "See the caveats in the documentation: https://pandas.pydata.org/pandas-docs/stable/user_guide/indexing.html#returning-a-view-versus-a-copy\n",
      "  protein_pathway.dropna(subset=['To_ID'], inplace=True)\n"
     ]
    }
   ],
   "source": [
    "protein_pathway = kegg_protein_pathway[['From_ID', 'To_ID']]\n",
    "protein_pathway.dropna(subset=['From_ID'], inplace=True)\n",
    "protein_pathway.dropna(subset=['To_ID'], inplace=True)\n",
    "protein_pathway.info()"
   ]
  },
  {
   "cell_type": "code",
   "execution_count": 6,
   "metadata": {},
   "outputs": [
    {
     "name": "stderr",
     "output_type": "stream",
     "text": [
      "C:\\Users\\shunn\\AppData\\Local\\Temp\\ipykernel_12040\\4105219191.py:1: SettingWithCopyWarning: \n",
      "A value is trying to be set on a copy of a slice from a DataFrame.\n",
      "Try using .loc[row_indexer,col_indexer] = value instead\n",
      "\n",
      "See the caveats in the documentation: https://pandas.pydata.org/pandas-docs/stable/user_guide/indexing.html#returning-a-view-versus-a-copy\n",
      "  protein_pathway['From_ID'] = protein_pathway['From_ID'].str.split(';')\n",
      "C:\\Users\\shunn\\AppData\\Local\\Temp\\ipykernel_12040\\4105219191.py:2: SettingWithCopyWarning: \n",
      "A value is trying to be set on a copy of a slice from a DataFrame.\n",
      "Try using .loc[row_indexer,col_indexer] = value instead\n",
      "\n",
      "See the caveats in the documentation: https://pandas.pydata.org/pandas-docs/stable/user_guide/indexing.html#returning-a-view-versus-a-copy\n",
      "  protein_pathway['To_ID'] = protein_pathway['To_ID'].str.split(';')\n"
     ]
    },
    {
     "data": {
      "application/vnd.microsoft.datawrangler.viewer.v0+json": {
       "columns": [
        {
         "name": "index",
         "rawType": "int64",
         "type": "integer"
        },
        {
         "name": "From_ID",
         "rawType": "object",
         "type": "string"
        },
        {
         "name": "To_ID",
         "rawType": "object",
         "type": "string"
        }
       ],
       "conversionMethod": "pd.DataFrame",
       "ref": "d4f2bf31-d8c8-4e1f-bccd-7376c22066a6",
       "rows": [
        [
         "0",
         "BMG_PT080047",
         "BMG_PW0025"
        ],
        [
         "1",
         "BMG_PT080047",
         "BMG_PW0637"
        ],
        [
         "2",
         "BMG_PT080047",
         "BMG_PW0638"
        ],
        [
         "3",
         "BMG_PT105461",
         "BMG_PW0025"
        ],
        [
         "4",
         "BMG_PT105461",
         "BMG_PW0637"
        ],
        [
         "5",
         "BMG_PT105461",
         "BMG_PW0638"
        ],
        [
         "6",
         "BMG_PT110190",
         "BMG_PW0025"
        ],
        [
         "7",
         "BMG_PT110190",
         "BMG_PW0637"
        ],
        [
         "8",
         "BMG_PT110190",
         "BMG_PW0638"
        ],
        [
         "9",
         "BMG_PT113734",
         "BMG_PW0025"
        ],
        [
         "10",
         "BMG_PT113734",
         "BMG_PW0637"
        ],
        [
         "11",
         "BMG_PT113734",
         "BMG_PW0638"
        ],
        [
         "12",
         "BMG_PT065496",
         "BMG_PW0025"
        ],
        [
         "13",
         "BMG_PT065496",
         "BMG_PW0637"
        ],
        [
         "14",
         "BMG_PT065496",
         "BMG_PW0638"
        ],
        [
         "15",
         "BMG_PT038822",
         "BMG_PW0025"
        ],
        [
         "16",
         "BMG_PT038822",
         "BMG_PW0637"
        ],
        [
         "17",
         "BMG_PT038822",
         "BMG_PW0638"
        ],
        [
         "18",
         "BMG_PT104231",
         "BMG_PW0025"
        ],
        [
         "19",
         "BMG_PT104231",
         "BMG_PW0637"
        ],
        [
         "20",
         "BMG_PT104231",
         "BMG_PW0638"
        ],
        [
         "21",
         "BMG_PT126037",
         "BMG_PW0025"
        ],
        [
         "22",
         "BMG_PT126037",
         "BMG_PW0637"
        ],
        [
         "23",
         "BMG_PT126037",
         "BMG_PW0638"
        ],
        [
         "24",
         "BMG_PT127297",
         "BMG_PW0025"
        ],
        [
         "25",
         "BMG_PT127297",
         "BMG_PW0637"
        ],
        [
         "26",
         "BMG_PT127297",
         "BMG_PW0638"
        ],
        [
         "27",
         "BMG_PT162909",
         "BMG_PW0025"
        ],
        [
         "28",
         "BMG_PT162909",
         "BMG_PW0637"
        ],
        [
         "29",
         "BMG_PT162909",
         "BMG_PW0638"
        ],
        [
         "30",
         "BMG_PT163277",
         "BMG_PW0025"
        ],
        [
         "31",
         "BMG_PT163277",
         "BMG_PW0637"
        ],
        [
         "32",
         "BMG_PT163277",
         "BMG_PW0638"
        ],
        [
         "33",
         "BMG_PT163488",
         "BMG_PW0025"
        ],
        [
         "34",
         "BMG_PT163488",
         "BMG_PW0637"
        ],
        [
         "35",
         "BMG_PT163488",
         "BMG_PW0638"
        ],
        [
         "36",
         "BMG_PT163659",
         "BMG_PW0025"
        ],
        [
         "37",
         "BMG_PT163659",
         "BMG_PW0637"
        ],
        [
         "38",
         "BMG_PT163659",
         "BMG_PW0638"
        ],
        [
         "39",
         "BMG_PT163781",
         "BMG_PW0025"
        ],
        [
         "40",
         "BMG_PT163781",
         "BMG_PW0637"
        ],
        [
         "41",
         "BMG_PT163781",
         "BMG_PW0638"
        ],
        [
         "42",
         "BMG_PT163855",
         "BMG_PW0025"
        ],
        [
         "43",
         "BMG_PT163855",
         "BMG_PW0637"
        ],
        [
         "44",
         "BMG_PT163855",
         "BMG_PW0638"
        ],
        [
         "45",
         "BMG_PT163926",
         "BMG_PW0025"
        ],
        [
         "46",
         "BMG_PT163926",
         "BMG_PW0637"
        ],
        [
         "47",
         "BMG_PT163926",
         "BMG_PW0638"
        ],
        [
         "48",
         "BMG_PT163989",
         "BMG_PW0025"
        ],
        [
         "49",
         "BMG_PT163989",
         "BMG_PW0637"
        ]
       ],
       "shape": {
        "columns": 2,
        "rows": 152912
       }
      },
      "text/html": [
       "<div>\n",
       "<style scoped>\n",
       "    .dataframe tbody tr th:only-of-type {\n",
       "        vertical-align: middle;\n",
       "    }\n",
       "\n",
       "    .dataframe tbody tr th {\n",
       "        vertical-align: top;\n",
       "    }\n",
       "\n",
       "    .dataframe thead th {\n",
       "        text-align: right;\n",
       "    }\n",
       "</style>\n",
       "<table border=\"1\" class=\"dataframe\">\n",
       "  <thead>\n",
       "    <tr style=\"text-align: right;\">\n",
       "      <th></th>\n",
       "      <th>From_ID</th>\n",
       "      <th>To_ID</th>\n",
       "    </tr>\n",
       "  </thead>\n",
       "  <tbody>\n",
       "    <tr>\n",
       "      <th>0</th>\n",
       "      <td>BMG_PT080047</td>\n",
       "      <td>BMG_PW0025</td>\n",
       "    </tr>\n",
       "    <tr>\n",
       "      <th>1</th>\n",
       "      <td>BMG_PT080047</td>\n",
       "      <td>BMG_PW0637</td>\n",
       "    </tr>\n",
       "    <tr>\n",
       "      <th>2</th>\n",
       "      <td>BMG_PT080047</td>\n",
       "      <td>BMG_PW0638</td>\n",
       "    </tr>\n",
       "    <tr>\n",
       "      <th>3</th>\n",
       "      <td>BMG_PT105461</td>\n",
       "      <td>BMG_PW0025</td>\n",
       "    </tr>\n",
       "    <tr>\n",
       "      <th>4</th>\n",
       "      <td>BMG_PT105461</td>\n",
       "      <td>BMG_PW0637</td>\n",
       "    </tr>\n",
       "    <tr>\n",
       "      <th>...</th>\n",
       "      <td>...</td>\n",
       "      <td>...</td>\n",
       "    </tr>\n",
       "    <tr>\n",
       "      <th>152907</th>\n",
       "      <td>BMG_PT041366</td>\n",
       "      <td>BMG_PW6625</td>\n",
       "    </tr>\n",
       "    <tr>\n",
       "      <th>152908</th>\n",
       "      <td>BMG_PT119590</td>\n",
       "      <td>BMG_PW6625</td>\n",
       "    </tr>\n",
       "    <tr>\n",
       "      <th>152909</th>\n",
       "      <td>BMG_PT120813</td>\n",
       "      <td>BMG_PW6625</td>\n",
       "    </tr>\n",
       "    <tr>\n",
       "      <th>152910</th>\n",
       "      <td>BMG_PT121971</td>\n",
       "      <td>BMG_PW6625</td>\n",
       "    </tr>\n",
       "    <tr>\n",
       "      <th>152911</th>\n",
       "      <td>BMG_PT048298</td>\n",
       "      <td>BMG_PW6625</td>\n",
       "    </tr>\n",
       "  </tbody>\n",
       "</table>\n",
       "<p>152912 rows × 2 columns</p>\n",
       "</div>"
      ],
      "text/plain": [
       "             From_ID       To_ID\n",
       "0       BMG_PT080047  BMG_PW0025\n",
       "1       BMG_PT080047  BMG_PW0637\n",
       "2       BMG_PT080047  BMG_PW0638\n",
       "3       BMG_PT105461  BMG_PW0025\n",
       "4       BMG_PT105461  BMG_PW0637\n",
       "...              ...         ...\n",
       "152907  BMG_PT041366  BMG_PW6625\n",
       "152908  BMG_PT119590  BMG_PW6625\n",
       "152909  BMG_PT120813  BMG_PW6625\n",
       "152910  BMG_PT121971  BMG_PW6625\n",
       "152911  BMG_PT048298  BMG_PW6625\n",
       "\n",
       "[152912 rows x 2 columns]"
      ]
     },
     "execution_count": 6,
     "metadata": {},
     "output_type": "execute_result"
    }
   ],
   "source": [
    "protein_pathway['From_ID'] = protein_pathway['From_ID'].str.split(';')\n",
    "protein_pathway['To_ID'] = protein_pathway['To_ID'].str.split(';')\n",
    "\n",
    "protein_pathway = protein_pathway.explode('From_ID')\n",
    "protein_pathway = protein_pathway.explode('To_ID')\n",
    "\n",
    "protein_pathway.drop_duplicates(inplace=True)\n",
    "protein_pathway.reset_index(drop=True, inplace=True)\n",
    "protein_pathway"
   ]
  },
  {
   "cell_type": "markdown",
   "metadata": {},
   "source": [
    "### Protein-Pathway Relation"
   ]
  },
  {
   "cell_type": "code",
   "execution_count": 7,
   "metadata": {},
   "outputs": [
    {
     "data": {
      "application/vnd.microsoft.datawrangler.viewer.v0+json": {
       "columns": [
        {
         "name": "index",
         "rawType": "int64",
         "type": "integer"
        },
        {
         "name": "BioMedGraphica_ID",
         "rawType": "object",
         "type": "string"
        },
        {
         "name": "From_ID",
         "rawType": "object",
         "type": "string"
        },
        {
         "name": "To_ID",
         "rawType": "object",
         "type": "string"
        },
        {
         "name": "Type",
         "rawType": "object",
         "type": "string"
        },
        {
         "name": "Source",
         "rawType": "object",
         "type": "string"
        }
       ],
       "conversionMethod": "pd.DataFrame",
       "ref": "1f78195e-0f0b-4f7d-9e23-90e60884ed18",
       "rows": [
        [
         "0",
         "BMG_ED_PTPW000001",
         "BMG_PT080047",
         "BMG_PW0025",
         "Protein-Pathway",
         "KEGG"
        ],
        [
         "1",
         "BMG_ED_PTPW000002",
         "BMG_PT080047",
         "BMG_PW0637",
         "Protein-Pathway",
         "KEGG"
        ],
        [
         "2",
         "BMG_ED_PTPW000003",
         "BMG_PT080047",
         "BMG_PW0638",
         "Protein-Pathway",
         "KEGG"
        ],
        [
         "3",
         "BMG_ED_PTPW000004",
         "BMG_PT105461",
         "BMG_PW0025",
         "Protein-Pathway",
         "KEGG"
        ],
        [
         "4",
         "BMG_ED_PTPW000005",
         "BMG_PT105461",
         "BMG_PW0637",
         "Protein-Pathway",
         "KEGG"
        ],
        [
         "5",
         "BMG_ED_PTPW000006",
         "BMG_PT105461",
         "BMG_PW0638",
         "Protein-Pathway",
         "KEGG"
        ],
        [
         "6",
         "BMG_ED_PTPW000007",
         "BMG_PT110190",
         "BMG_PW0025",
         "Protein-Pathway",
         "KEGG"
        ],
        [
         "7",
         "BMG_ED_PTPW000008",
         "BMG_PT110190",
         "BMG_PW0637",
         "Protein-Pathway",
         "KEGG"
        ],
        [
         "8",
         "BMG_ED_PTPW000009",
         "BMG_PT110190",
         "BMG_PW0638",
         "Protein-Pathway",
         "KEGG"
        ],
        [
         "9",
         "BMG_ED_PTPW000010",
         "BMG_PT113734",
         "BMG_PW0025",
         "Protein-Pathway",
         "KEGG"
        ],
        [
         "10",
         "BMG_ED_PTPW000011",
         "BMG_PT113734",
         "BMG_PW0637",
         "Protein-Pathway",
         "KEGG"
        ],
        [
         "11",
         "BMG_ED_PTPW000012",
         "BMG_PT113734",
         "BMG_PW0638",
         "Protein-Pathway",
         "KEGG"
        ],
        [
         "12",
         "BMG_ED_PTPW000013",
         "BMG_PT065496",
         "BMG_PW0025",
         "Protein-Pathway",
         "KEGG"
        ],
        [
         "13",
         "BMG_ED_PTPW000014",
         "BMG_PT065496",
         "BMG_PW0637",
         "Protein-Pathway",
         "KEGG"
        ],
        [
         "14",
         "BMG_ED_PTPW000015",
         "BMG_PT065496",
         "BMG_PW0638",
         "Protein-Pathway",
         "KEGG"
        ],
        [
         "15",
         "BMG_ED_PTPW000016",
         "BMG_PT038822",
         "BMG_PW0025",
         "Protein-Pathway",
         "KEGG"
        ],
        [
         "16",
         "BMG_ED_PTPW000017",
         "BMG_PT038822",
         "BMG_PW0637",
         "Protein-Pathway",
         "KEGG"
        ],
        [
         "17",
         "BMG_ED_PTPW000018",
         "BMG_PT038822",
         "BMG_PW0638",
         "Protein-Pathway",
         "KEGG"
        ],
        [
         "18",
         "BMG_ED_PTPW000019",
         "BMG_PT104231",
         "BMG_PW0025",
         "Protein-Pathway",
         "KEGG"
        ],
        [
         "19",
         "BMG_ED_PTPW000020",
         "BMG_PT104231",
         "BMG_PW0637",
         "Protein-Pathway",
         "KEGG"
        ],
        [
         "20",
         "BMG_ED_PTPW000021",
         "BMG_PT104231",
         "BMG_PW0638",
         "Protein-Pathway",
         "KEGG"
        ],
        [
         "21",
         "BMG_ED_PTPW000022",
         "BMG_PT126037",
         "BMG_PW0025",
         "Protein-Pathway",
         "KEGG"
        ],
        [
         "22",
         "BMG_ED_PTPW000023",
         "BMG_PT126037",
         "BMG_PW0637",
         "Protein-Pathway",
         "KEGG"
        ],
        [
         "23",
         "BMG_ED_PTPW000024",
         "BMG_PT126037",
         "BMG_PW0638",
         "Protein-Pathway",
         "KEGG"
        ],
        [
         "24",
         "BMG_ED_PTPW000025",
         "BMG_PT127297",
         "BMG_PW0025",
         "Protein-Pathway",
         "KEGG"
        ],
        [
         "25",
         "BMG_ED_PTPW000026",
         "BMG_PT127297",
         "BMG_PW0637",
         "Protein-Pathway",
         "KEGG"
        ],
        [
         "26",
         "BMG_ED_PTPW000027",
         "BMG_PT127297",
         "BMG_PW0638",
         "Protein-Pathway",
         "KEGG"
        ],
        [
         "27",
         "BMG_ED_PTPW000028",
         "BMG_PT162909",
         "BMG_PW0025",
         "Protein-Pathway",
         "KEGG"
        ],
        [
         "28",
         "BMG_ED_PTPW000029",
         "BMG_PT162909",
         "BMG_PW0637",
         "Protein-Pathway",
         "KEGG"
        ],
        [
         "29",
         "BMG_ED_PTPW000030",
         "BMG_PT162909",
         "BMG_PW0638",
         "Protein-Pathway",
         "KEGG"
        ],
        [
         "30",
         "BMG_ED_PTPW000031",
         "BMG_PT163277",
         "BMG_PW0025",
         "Protein-Pathway",
         "KEGG"
        ],
        [
         "31",
         "BMG_ED_PTPW000032",
         "BMG_PT163277",
         "BMG_PW0637",
         "Protein-Pathway",
         "KEGG"
        ],
        [
         "32",
         "BMG_ED_PTPW000033",
         "BMG_PT163277",
         "BMG_PW0638",
         "Protein-Pathway",
         "KEGG"
        ],
        [
         "33",
         "BMG_ED_PTPW000034",
         "BMG_PT163488",
         "BMG_PW0025",
         "Protein-Pathway",
         "KEGG"
        ],
        [
         "34",
         "BMG_ED_PTPW000035",
         "BMG_PT163488",
         "BMG_PW0637",
         "Protein-Pathway",
         "KEGG"
        ],
        [
         "35",
         "BMG_ED_PTPW000036",
         "BMG_PT163488",
         "BMG_PW0638",
         "Protein-Pathway",
         "KEGG"
        ],
        [
         "36",
         "BMG_ED_PTPW000037",
         "BMG_PT163659",
         "BMG_PW0025",
         "Protein-Pathway",
         "KEGG"
        ],
        [
         "37",
         "BMG_ED_PTPW000038",
         "BMG_PT163659",
         "BMG_PW0637",
         "Protein-Pathway",
         "KEGG"
        ],
        [
         "38",
         "BMG_ED_PTPW000039",
         "BMG_PT163659",
         "BMG_PW0638",
         "Protein-Pathway",
         "KEGG"
        ],
        [
         "39",
         "BMG_ED_PTPW000040",
         "BMG_PT163781",
         "BMG_PW0025",
         "Protein-Pathway",
         "KEGG"
        ],
        [
         "40",
         "BMG_ED_PTPW000041",
         "BMG_PT163781",
         "BMG_PW0637",
         "Protein-Pathway",
         "KEGG"
        ],
        [
         "41",
         "BMG_ED_PTPW000042",
         "BMG_PT163781",
         "BMG_PW0638",
         "Protein-Pathway",
         "KEGG"
        ],
        [
         "42",
         "BMG_ED_PTPW000043",
         "BMG_PT163855",
         "BMG_PW0025",
         "Protein-Pathway",
         "KEGG"
        ],
        [
         "43",
         "BMG_ED_PTPW000044",
         "BMG_PT163855",
         "BMG_PW0637",
         "Protein-Pathway",
         "KEGG"
        ],
        [
         "44",
         "BMG_ED_PTPW000045",
         "BMG_PT163855",
         "BMG_PW0638",
         "Protein-Pathway",
         "KEGG"
        ],
        [
         "45",
         "BMG_ED_PTPW000046",
         "BMG_PT163926",
         "BMG_PW0025",
         "Protein-Pathway",
         "KEGG"
        ],
        [
         "46",
         "BMG_ED_PTPW000047",
         "BMG_PT163926",
         "BMG_PW0637",
         "Protein-Pathway",
         "KEGG"
        ],
        [
         "47",
         "BMG_ED_PTPW000048",
         "BMG_PT163926",
         "BMG_PW0638",
         "Protein-Pathway",
         "KEGG"
        ],
        [
         "48",
         "BMG_ED_PTPW000049",
         "BMG_PT163989",
         "BMG_PW0025",
         "Protein-Pathway",
         "KEGG"
        ],
        [
         "49",
         "BMG_ED_PTPW000050",
         "BMG_PT163989",
         "BMG_PW0637",
         "Protein-Pathway",
         "KEGG"
        ]
       ],
       "shape": {
        "columns": 5,
        "rows": 152912
       }
      },
      "text/html": [
       "<div>\n",
       "<style scoped>\n",
       "    .dataframe tbody tr th:only-of-type {\n",
       "        vertical-align: middle;\n",
       "    }\n",
       "\n",
       "    .dataframe tbody tr th {\n",
       "        vertical-align: top;\n",
       "    }\n",
       "\n",
       "    .dataframe thead th {\n",
       "        text-align: right;\n",
       "    }\n",
       "</style>\n",
       "<table border=\"1\" class=\"dataframe\">\n",
       "  <thead>\n",
       "    <tr style=\"text-align: right;\">\n",
       "      <th></th>\n",
       "      <th>BioMedGraphica_ID</th>\n",
       "      <th>From_ID</th>\n",
       "      <th>To_ID</th>\n",
       "      <th>Type</th>\n",
       "      <th>Source</th>\n",
       "    </tr>\n",
       "  </thead>\n",
       "  <tbody>\n",
       "    <tr>\n",
       "      <th>0</th>\n",
       "      <td>BMG_ED_PTPW000001</td>\n",
       "      <td>BMG_PT080047</td>\n",
       "      <td>BMG_PW0025</td>\n",
       "      <td>Protein-Pathway</td>\n",
       "      <td>KEGG</td>\n",
       "    </tr>\n",
       "    <tr>\n",
       "      <th>1</th>\n",
       "      <td>BMG_ED_PTPW000002</td>\n",
       "      <td>BMG_PT080047</td>\n",
       "      <td>BMG_PW0637</td>\n",
       "      <td>Protein-Pathway</td>\n",
       "      <td>KEGG</td>\n",
       "    </tr>\n",
       "    <tr>\n",
       "      <th>2</th>\n",
       "      <td>BMG_ED_PTPW000003</td>\n",
       "      <td>BMG_PT080047</td>\n",
       "      <td>BMG_PW0638</td>\n",
       "      <td>Protein-Pathway</td>\n",
       "      <td>KEGG</td>\n",
       "    </tr>\n",
       "    <tr>\n",
       "      <th>3</th>\n",
       "      <td>BMG_ED_PTPW000004</td>\n",
       "      <td>BMG_PT105461</td>\n",
       "      <td>BMG_PW0025</td>\n",
       "      <td>Protein-Pathway</td>\n",
       "      <td>KEGG</td>\n",
       "    </tr>\n",
       "    <tr>\n",
       "      <th>4</th>\n",
       "      <td>BMG_ED_PTPW000005</td>\n",
       "      <td>BMG_PT105461</td>\n",
       "      <td>BMG_PW0637</td>\n",
       "      <td>Protein-Pathway</td>\n",
       "      <td>KEGG</td>\n",
       "    </tr>\n",
       "    <tr>\n",
       "      <th>...</th>\n",
       "      <td>...</td>\n",
       "      <td>...</td>\n",
       "      <td>...</td>\n",
       "      <td>...</td>\n",
       "      <td>...</td>\n",
       "    </tr>\n",
       "    <tr>\n",
       "      <th>152907</th>\n",
       "      <td>BMG_ED_PTPW152908</td>\n",
       "      <td>BMG_PT041366</td>\n",
       "      <td>BMG_PW6625</td>\n",
       "      <td>Protein-Pathway</td>\n",
       "      <td>KEGG</td>\n",
       "    </tr>\n",
       "    <tr>\n",
       "      <th>152908</th>\n",
       "      <td>BMG_ED_PTPW152909</td>\n",
       "      <td>BMG_PT119590</td>\n",
       "      <td>BMG_PW6625</td>\n",
       "      <td>Protein-Pathway</td>\n",
       "      <td>KEGG</td>\n",
       "    </tr>\n",
       "    <tr>\n",
       "      <th>152909</th>\n",
       "      <td>BMG_ED_PTPW152910</td>\n",
       "      <td>BMG_PT120813</td>\n",
       "      <td>BMG_PW6625</td>\n",
       "      <td>Protein-Pathway</td>\n",
       "      <td>KEGG</td>\n",
       "    </tr>\n",
       "    <tr>\n",
       "      <th>152910</th>\n",
       "      <td>BMG_ED_PTPW152911</td>\n",
       "      <td>BMG_PT121971</td>\n",
       "      <td>BMG_PW6625</td>\n",
       "      <td>Protein-Pathway</td>\n",
       "      <td>KEGG</td>\n",
       "    </tr>\n",
       "    <tr>\n",
       "      <th>152911</th>\n",
       "      <td>BMG_ED_PTPW152912</td>\n",
       "      <td>BMG_PT048298</td>\n",
       "      <td>BMG_PW6625</td>\n",
       "      <td>Protein-Pathway</td>\n",
       "      <td>KEGG</td>\n",
       "    </tr>\n",
       "  </tbody>\n",
       "</table>\n",
       "<p>152912 rows × 5 columns</p>\n",
       "</div>"
      ],
      "text/plain": [
       "        BioMedGraphica_ID       From_ID       To_ID             Type Source\n",
       "0       BMG_ED_PTPW000001  BMG_PT080047  BMG_PW0025  Protein-Pathway   KEGG\n",
       "1       BMG_ED_PTPW000002  BMG_PT080047  BMG_PW0637  Protein-Pathway   KEGG\n",
       "2       BMG_ED_PTPW000003  BMG_PT080047  BMG_PW0638  Protein-Pathway   KEGG\n",
       "3       BMG_ED_PTPW000004  BMG_PT105461  BMG_PW0025  Protein-Pathway   KEGG\n",
       "4       BMG_ED_PTPW000005  BMG_PT105461  BMG_PW0637  Protein-Pathway   KEGG\n",
       "...                   ...           ...         ...              ...    ...\n",
       "152907  BMG_ED_PTPW152908  BMG_PT041366  BMG_PW6625  Protein-Pathway   KEGG\n",
       "152908  BMG_ED_PTPW152909  BMG_PT119590  BMG_PW6625  Protein-Pathway   KEGG\n",
       "152909  BMG_ED_PTPW152910  BMG_PT120813  BMG_PW6625  Protein-Pathway   KEGG\n",
       "152910  BMG_ED_PTPW152911  BMG_PT121971  BMG_PW6625  Protein-Pathway   KEGG\n",
       "152911  BMG_ED_PTPW152912  BMG_PT048298  BMG_PW6625  Protein-Pathway   KEGG\n",
       "\n",
       "[152912 rows x 5 columns]"
      ]
     },
     "execution_count": 7,
     "metadata": {},
     "output_type": "execute_result"
    }
   ],
   "source": [
    "protein_pathway['Type'] = 'Protein-Pathway'\n",
    "protein_pathway['Source'] = 'KEGG'\n",
    "\n",
    "max_length = len(str(len(protein_pathway)))\n",
    "protein_pathway['BioMedGraphica_ID'] = ['BMG_ED_PTPW' + str(i).zfill(max_length) for i in range(1, len(protein_pathway) + 1)]\n",
    "columns = ['BioMedGraphica_ID'] + [col for col in protein_pathway.columns if col != 'BioMedGraphica_ID']  # re-order columns\n",
    "protein_pathway = protein_pathway[columns]\n",
    "protein_pathway"
   ]
  },
  {
   "cell_type": "code",
   "execution_count": 8,
   "metadata": {},
   "outputs": [
    {
     "name": "stdout",
     "output_type": "stream",
     "text": [
      "Data has been saved to D:\\RA\\BMG\\BioMedGraphica\\Relation\\Protein-Pathway\\BioMedGraphica_Protein_Pathway.csv\n"
     ]
    }
   ],
   "source": [
    "import os\n",
    "from pathlib import Path\n",
    "\n",
    "# get the current working directory\n",
    "current_working_dir = Path(os.getcwd()).resolve()\n",
    "\n",
    "# get the output directory\n",
    "grandparent_dir = current_working_dir.parent.parent.parent\n",
    "\n",
    "target_folder = grandparent_dir / 'BioMedGraphica' / 'Relation' / 'Protein-Pathway'\n",
    "if not target_folder.exists():\n",
    "    target_folder.mkdir(parents=True)\n",
    "    print(f\"Folder {target_folder} has been created.\")\n",
    "\n",
    "output_file_path = target_folder / 'BioMedGraphica_Protein_Pathway.csv'\n",
    "protein_pathway.to_csv(output_file_path, index=False)\n",
    "print(f\"Data has been saved to {output_file_path}\")"
   ]
  }
 ],
 "metadata": {
  "kernelspec": {
   "display_name": "base",
   "language": "python",
   "name": "python3"
  },
  "language_info": {
   "codemirror_mode": {
    "name": "ipython",
    "version": 3
   },
   "file_extension": ".py",
   "mimetype": "text/x-python",
   "name": "python",
   "nbconvert_exporter": "python",
   "pygments_lexer": "ipython3",
   "version": "3.9.19"
  }
 },
 "nbformat": 4,
 "nbformat_minor": 2
}
