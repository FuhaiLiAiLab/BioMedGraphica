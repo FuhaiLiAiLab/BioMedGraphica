{
 "cells": [
  {
   "cell_type": "markdown",
   "metadata": {},
   "source": [
    "### Disease Ontology"
   ]
  },
  {
   "cell_type": "code",
   "execution_count": 3,
   "metadata": {},
   "outputs": [
    {
     "data": {
      "application/vnd.microsoft.datawrangler.viewer.v0+json": {
       "columns": [
        {
         "name": "index",
         "rawType": "int64",
         "type": "integer"
        },
        {
         "name": "ID",
         "rawType": "object",
         "type": "string"
        },
        {
         "name": "Name",
         "rawType": "object",
         "type": "string"
        },
        {
         "name": "is_a",
         "rawType": "object",
         "type": "string"
        }
       ],
       "conversionMethod": "pd.DataFrame",
       "ref": "fb8ba3c8-509c-450a-b8de-65b0243059ae",
       "rows": [
        [
         "0",
         "DOID:0001816",
         "angiosarcoma",
         "DOID:175"
        ],
        [
         "1",
         "DOID:0002116",
         "pterygium",
         "DOID:10124"
        ],
        [
         "2",
         "DOID:0014667",
         "disease of metabolism",
         "DOID:4"
        ],
        [
         "3",
         "DOID:0040001",
         "shrimp allergy",
         "DOID:0060524"
        ],
        [
         "4",
         "DOID:0040002",
         "aspirin allergy",
         "DOID:0060500"
        ],
        [
         "5",
         "DOID:0040003",
         "benzylpenicillin allergy",
         "DOID:0060519"
        ],
        [
         "6",
         "DOID:0040004",
         "amoxicillin allergy",
         "DOID:0060519"
        ],
        [
         "7",
         "DOID:0040005",
         "ceftriaxone allergy",
         "DOID:0040021"
        ],
        [
         "8",
         "DOID:0040006",
         "carbamazepine allergy",
         "DOID:0060500"
        ],
        [
         "9",
         "DOID:0040007",
         "abacavir allergy",
         "DOID:0060500"
        ],
        [
         "10",
         "DOID:0040008",
         "isoniazide allergy",
         "DOID:0060500"
        ],
        [
         "11",
         "DOID:0040009",
         "lidocaine allergy",
         "DOID:0060500"
        ],
        [
         "12",
         "DOID:0040010",
         "mepivacaine allergy",
         "DOID:0060500"
        ],
        [
         "13",
         "DOID:0040011",
         "phenobarbital allergy",
         "DOID:0060500"
        ],
        [
         "14",
         "DOID:0040012",
         "phenytoin allergy",
         "DOID:0060500"
        ],
        [
         "15",
         "DOID:0040013",
         "ranitidine allergy",
         "DOID:0060500"
        ],
        [
         "16",
         "DOID:0040014",
         "corticosteroid allergy",
         "DOID:0060500"
        ],
        [
         "17",
         "DOID:0040015",
         "sulfonamide allergy",
         "DOID:0060500"
        ],
        [
         "18",
         "DOID:0040016",
         "sulfamethoxazole allergy",
         "DOID:0060500"
        ],
        [
         "19",
         "DOID:0040017",
         "suprofen allergy",
         "DOID:0060500"
        ],
        [
         "20",
         "DOID:0040018",
         "thiopental allergy",
         "DOID:0060500"
        ],
        [
         "21",
         "DOID:0040019",
         "D-mannitol allergy",
         "DOID:0060500"
        ],
        [
         "22",
         "DOID:0040020",
         "cefotaxime allergy",
         "DOID:0040021"
        ],
        [
         "23",
         "DOID:0040021",
         "cephalosporin allergy",
         "DOID:0060500"
        ],
        [
         "24",
         "DOID:0040022",
         "amodiaquine allergy",
         "DOID:0060500"
        ],
        [
         "25",
         "DOID:0040023",
         "cefaclor allergy",
         "DOID:0040021"
        ],
        [
         "26",
         "DOID:0040024",
         "ceftazidime allergy",
         "DOID:0040021"
        ],
        [
         "27",
         "DOID:0040025",
         "cefuroxime allergy",
         "DOID:0040021"
        ],
        [
         "28",
         "DOID:0040026",
         "chlorhexidine allergy",
         "DOID:0060500"
        ],
        [
         "29",
         "DOID:0040027",
         "cyclophosphamide allergy",
         "DOID:0060500"
        ],
        [
         "30",
         "DOID:0040028",
         "succinylcholine allergy",
         "DOID:0060500"
        ],
        [
         "31",
         "DOID:0040029",
         "trimethoprim allergy",
         "DOID:0060500"
        ],
        [
         "32",
         "DOID:0040030",
         "cefixime allergy",
         "DOID:0040021"
        ],
        [
         "33",
         "DOID:0040031",
         "diclofenac allergy",
         "DOID:0060500"
        ],
        [
         "34",
         "DOID:0040032",
         "carbapenem allergy",
         "DOID:0060500"
        ],
        [
         "35",
         "DOID:0040033",
         "piperacillin allergy",
         "DOID:0060519"
        ],
        [
         "36",
         "DOID:0040034",
         "rocuronium allergy",
         "DOID:0060500"
        ],
        [
         "37",
         "DOID:0040035",
         "sulfasalazine allergy",
         "DOID:0060500"
        ],
        [
         "38",
         "DOID:0040036",
         "tubocurarine allergy",
         "DOID:0060500"
        ],
        [
         "39",
         "DOID:0040037",
         "aztreonam allergy",
         "DOID:0060519"
        ],
        [
         "40",
         "DOID:0040038",
         "meropenem allergy",
         "DOID:9415"
        ],
        [
         "41",
         "DOID:0040040",
         "hexamethylene diisocyanate allergic asthma",
         "DOID:0040041"
        ],
        [
         "42",
         "DOID:0040041",
         "isocyanates allergic asthma",
         "DOID:9415"
        ],
        [
         "43",
         "DOID:0040042",
         "diphenylmethane-4,4'-diisocyanate allergic asthma",
         "DOID:0040041"
        ],
        [
         "44",
         "DOID:0040043",
         "toluene meta-diisocyanate allergic asthma",
         "DOID:0040041"
        ],
        [
         "45",
         "DOID:0040044",
         "methyl isocyanate allergic asthma",
         "DOID:0040041"
        ],
        [
         "46",
         "DOID:0040045",
         "nickel allergic asthma",
         "DOID:9415"
        ],
        [
         "47",
         "DOID:0040046",
         "nickel allergic contact dermatitis",
         "DOID:3042"
        ],
        [
         "48",
         "DOID:0040047",
         "trimellitic anhydride allergic asthma",
         "DOID:9415"
        ],
        [
         "49",
         "DOID:0040048",
         "phthalic anhydride allergic asthma",
         "DOID:9415"
        ]
       ],
       "shape": {
        "columns": 3,
        "rows": 11836
       }
      },
      "text/html": [
       "<div>\n",
       "<style scoped>\n",
       "    .dataframe tbody tr th:only-of-type {\n",
       "        vertical-align: middle;\n",
       "    }\n",
       "\n",
       "    .dataframe tbody tr th {\n",
       "        vertical-align: top;\n",
       "    }\n",
       "\n",
       "    .dataframe thead th {\n",
       "        text-align: right;\n",
       "    }\n",
       "</style>\n",
       "<table border=\"1\" class=\"dataframe\">\n",
       "  <thead>\n",
       "    <tr style=\"text-align: right;\">\n",
       "      <th></th>\n",
       "      <th>ID</th>\n",
       "      <th>Name</th>\n",
       "      <th>is_a</th>\n",
       "    </tr>\n",
       "  </thead>\n",
       "  <tbody>\n",
       "    <tr>\n",
       "      <th>0</th>\n",
       "      <td>DOID:0001816</td>\n",
       "      <td>angiosarcoma</td>\n",
       "      <td>DOID:175</td>\n",
       "    </tr>\n",
       "    <tr>\n",
       "      <th>1</th>\n",
       "      <td>DOID:0002116</td>\n",
       "      <td>pterygium</td>\n",
       "      <td>DOID:10124</td>\n",
       "    </tr>\n",
       "    <tr>\n",
       "      <th>2</th>\n",
       "      <td>DOID:0014667</td>\n",
       "      <td>disease of metabolism</td>\n",
       "      <td>DOID:4</td>\n",
       "    </tr>\n",
       "    <tr>\n",
       "      <th>3</th>\n",
       "      <td>DOID:0040001</td>\n",
       "      <td>shrimp allergy</td>\n",
       "      <td>DOID:0060524</td>\n",
       "    </tr>\n",
       "    <tr>\n",
       "      <th>4</th>\n",
       "      <td>DOID:0040002</td>\n",
       "      <td>aspirin allergy</td>\n",
       "      <td>DOID:0060500</td>\n",
       "    </tr>\n",
       "    <tr>\n",
       "      <th>...</th>\n",
       "      <td>...</td>\n",
       "      <td>...</td>\n",
       "      <td>...</td>\n",
       "    </tr>\n",
       "    <tr>\n",
       "      <th>11831</th>\n",
       "      <td>DOID:9987</td>\n",
       "      <td>orbit sarcoma</td>\n",
       "      <td>DOID:4143</td>\n",
       "    </tr>\n",
       "    <tr>\n",
       "      <th>11832</th>\n",
       "      <td>DOID:9988</td>\n",
       "      <td>tertiary neurosyphilis</td>\n",
       "      <td>DOID:8200</td>\n",
       "    </tr>\n",
       "    <tr>\n",
       "      <th>11833</th>\n",
       "      <td>DOID:999</td>\n",
       "      <td>hypereosinophilic syndrome</td>\n",
       "      <td>DOID:9500</td>\n",
       "    </tr>\n",
       "    <tr>\n",
       "      <th>11834</th>\n",
       "      <td>DOID:9993</td>\n",
       "      <td>hypoglycemia</td>\n",
       "      <td>DOID:4194</td>\n",
       "    </tr>\n",
       "    <tr>\n",
       "      <th>11835</th>\n",
       "      <td>DOID:9997</td>\n",
       "      <td>peripartum cardiomyopathy</td>\n",
       "      <td>DOID:12930</td>\n",
       "    </tr>\n",
       "  </tbody>\n",
       "</table>\n",
       "<p>11836 rows × 3 columns</p>\n",
       "</div>"
      ],
      "text/plain": [
       "                 ID                        Name          is_a\n",
       "0      DOID:0001816                angiosarcoma      DOID:175\n",
       "1      DOID:0002116                   pterygium    DOID:10124\n",
       "2      DOID:0014667       disease of metabolism        DOID:4\n",
       "3      DOID:0040001              shrimp allergy  DOID:0060524\n",
       "4      DOID:0040002             aspirin allergy  DOID:0060500\n",
       "...             ...                         ...           ...\n",
       "11831     DOID:9987               orbit sarcoma     DOID:4143\n",
       "11832     DOID:9988      tertiary neurosyphilis     DOID:8200\n",
       "11833      DOID:999  hypereosinophilic syndrome     DOID:9500\n",
       "11834     DOID:9993                hypoglycemia     DOID:4194\n",
       "11835     DOID:9997   peripartum cardiomyopathy    DOID:12930\n",
       "\n",
       "[11836 rows x 3 columns]"
      ]
     },
     "execution_count": 3,
     "metadata": {},
     "output_type": "execute_result"
    }
   ],
   "source": [
    "# Download Link: https://raw.githubusercontent.com/DiseaseOntology/HumanDiseaseOntology/refs/heads/main/src/ontology/HumanDO.obo\n",
    "# Download Date: 2025-03-21\n",
    "# Download Version: 2025-03-03\n",
    "import pandas as pd\n",
    "import numpy as np\n",
    "\n",
    "file_path = 'HumanDO.obo'\n",
    "ids = []\n",
    "names = []\n",
    "is_a_list = []\n",
    "\n",
    "with open(file_path, 'r') as file:\n",
    "    current_id = None\n",
    "    current_name = None\n",
    "    current_is_a = []\n",
    "    inside_term = False\n",
    "\n",
    "    for line in file:\n",
    "        line = line.strip()\n",
    "        if line == \"[Term]\":\n",
    "            inside_term = True\n",
    "            if current_id and current_name:\n",
    "                ids.append(current_id)\n",
    "                names.append(current_name)\n",
    "                is_a_list.append(';'.join(current_is_a) if current_is_a else np.nan)\n",
    "\n",
    "            current_id = None\n",
    "            current_name = None\n",
    "            current_is_a = []\n",
    "        elif inside_term:\n",
    "            if line.startswith(\"id:\"):\n",
    "                current_id = line.split(\"id: \")[1]\n",
    "            elif line.startswith(\"name:\"):\n",
    "                current_name = line.split(\"name: \")[1]\n",
    "            elif line.startswith(\"is_a:\"):\n",
    "                current_is_a.append(line.split(\"is_a: \")[1].split(' !')[0])\n",
    "            elif line == \"\":\n",
    "                inside_term = False\n",
    "\n",
    "    if current_id and current_name:\n",
    "        ids.append(current_id)\n",
    "        names.append(current_name)\n",
    "        is_a_list.append(';'.join(current_is_a) if current_is_a else np.nan)\n",
    "\n",
    "\n",
    "\n",
    "do = pd.DataFrame({\n",
    "    'ID': ids,\n",
    "    'Name': names,\n",
    "    'is_a': is_a_list\n",
    "})\n",
    "do.dropna(subset=['is_a'], inplace=True)\n",
    "do.drop_duplicates(inplace=True)\n",
    "do.reset_index(drop=True, inplace=True)\n",
    "do"
   ]
  },
  {
   "cell_type": "markdown",
   "metadata": {},
   "source": [
    "### BioMedgraphica ID"
   ]
  },
  {
   "cell_type": "code",
   "execution_count": 1,
   "metadata": {},
   "outputs": [],
   "source": [
    "import pandas as pd\n",
    "import os\n",
    "from pathlib import Path\n",
    "\n",
    "current_working_dir = Path(os.getcwd()).resolve()\n",
    "grandparent_dir = current_working_dir.parent.parent.parent\n",
    "target_dir_disease = grandparent_dir / 'BioMedGraphica' / 'Entity' / 'Disease' / 'BioMedGraphica_Disease.csv'\n",
    "biomedgraphica_disease = pd.read_csv(target_dir_disease, dtype=str)"
   ]
  },
  {
   "cell_type": "markdown",
   "metadata": {},
   "source": [
    "### DO Mapping"
   ]
  },
  {
   "cell_type": "code",
   "execution_count": 4,
   "metadata": {},
   "outputs": [
    {
     "name": "stderr",
     "output_type": "stream",
     "text": [
      "C:\\Users\\shunn\\AppData\\Local\\Temp\\ipykernel_31276\\318887502.py:2: SettingWithCopyWarning: \n",
      "A value is trying to be set on a copy of a slice from a DataFrame\n",
      "\n",
      "See the caveats in the documentation: https://pandas.pydata.org/pandas-docs/stable/user_guide/indexing.html#returning-a-view-versus-a-copy\n",
      "  do_id.dropna(subset=['DO_ID'], inplace=True)\n"
     ]
    },
    {
     "data": {
      "application/vnd.microsoft.datawrangler.viewer.v0+json": {
       "columns": [
        {
         "name": "index",
         "rawType": "int64",
         "type": "integer"
        },
        {
         "name": "ID",
         "rawType": "object",
         "type": "string"
        },
        {
         "name": "Name",
         "rawType": "object",
         "type": "string"
        },
        {
         "name": "is_a",
         "rawType": "object",
         "type": "string"
        },
        {
         "name": "From_ID",
         "rawType": "object",
         "type": "unknown"
        },
        {
         "name": "To_ID",
         "rawType": "object",
         "type": "unknown"
        }
       ],
       "conversionMethod": "pd.DataFrame",
       "ref": "2c7b5efe-9934-430b-9b16-eec0e3e9f8a3",
       "rows": [
        [
         "0",
         "DOID:0001816",
         "angiosarcoma",
         "DOID:175",
         "BMG_DS001351;BMG_DS029260",
         "BMG_DS014402;BMG_DS018124;BMG_DS031778;BMG_DS034251;BMG_DS034252;BMG_DS034260;BMG_DS034503"
        ],
        [
         "1",
         "DOID:0002116",
         "pterygium",
         "DOID:10124",
         "BMG_DS002722",
         "BMG_DS000704"
        ],
        [
         "2",
         "DOID:0014667",
         "disease of metabolism",
         "DOID:4",
         "BMG_DS002005",
         "BMG_DS000858"
        ],
        [
         "3",
         "DOID:0040001",
         "shrimp allergy",
         "DOID:0060524",
         null,
         null
        ],
        [
         "4",
         "DOID:0040002",
         "aspirin allergy",
         "DOID:0060500",
         "BMG_DS000275",
         null
        ],
        [
         "5",
         "DOID:0040003",
         "benzylpenicillin allergy",
         "DOID:0060519",
         "BMG_DS026043",
         null
        ],
        [
         "6",
         "DOID:0040004",
         "amoxicillin allergy",
         "DOID:0060519",
         "BMG_DS026045",
         null
        ],
        [
         "7",
         "DOID:0040005",
         "ceftriaxone allergy",
         "DOID:0040021",
         "BMG_DS026073",
         "BMG_DS026054"
        ],
        [
         "8",
         "DOID:0040006",
         "carbamazepine allergy",
         "DOID:0060500",
         "BMG_DS025440",
         null
        ],
        [
         "9",
         "DOID:0040007",
         "abacavir allergy",
         "DOID:0060500",
         null,
         null
        ],
        [
         "10",
         "DOID:0040008",
         "isoniazide allergy",
         "DOID:0060500",
         "BMG_DS089876",
         null
        ],
        [
         "11",
         "DOID:0040009",
         "lidocaine allergy",
         "DOID:0060500",
         "BMG_DS025299",
         null
        ],
        [
         "12",
         "DOID:0040010",
         "mepivacaine allergy",
         "DOID:0060500",
         "BMG_DS089879",
         null
        ],
        [
         "13",
         "DOID:0040011",
         "phenobarbital allergy",
         "DOID:0060500",
         "BMG_DS025438",
         null
        ],
        [
         "14",
         "DOID:0040012",
         "phenytoin allergy",
         "DOID:0060500",
         "BMG_DS025442",
         null
        ],
        [
         "15",
         "DOID:0040013",
         "ranitidine allergy",
         "DOID:0060500",
         "BMG_DS025231",
         null
        ],
        [
         "16",
         "DOID:0040014",
         "corticosteroid allergy",
         "DOID:0060500",
         null,
         null
        ],
        [
         "17",
         "DOID:0040015",
         "sulfonamide allergy",
         "DOID:0060500",
         "BMG_DS003083",
         null
        ],
        [
         "18",
         "DOID:0040016",
         "sulfamethoxazole allergy",
         "DOID:0060500",
         null,
         null
        ],
        [
         "19",
         "DOID:0040017",
         "suprofen allergy",
         "DOID:0060500",
         null,
         null
        ],
        [
         "20",
         "DOID:0040018",
         "thiopental allergy",
         "DOID:0060500",
         "BMG_DS025286",
         null
        ],
        [
         "21",
         "DOID:0040019",
         "D-mannitol allergy",
         "DOID:0060500",
         "BMG_DS026509",
         null
        ],
        [
         "22",
         "DOID:0040020",
         "cefotaxime allergy",
         "DOID:0040021",
         "BMG_DS026067",
         "BMG_DS026054"
        ],
        [
         "23",
         "DOID:0040021",
         "cephalosporin allergy",
         "DOID:0060500",
         "BMG_DS026054",
         null
        ],
        [
         "24",
         "DOID:0040022",
         "amodiaquine allergy",
         "DOID:0060500",
         "BMG_DS025944",
         null
        ],
        [
         "25",
         "DOID:0040023",
         "cefaclor allergy",
         "DOID:0040021",
         "BMG_DS026063",
         "BMG_DS026054"
        ],
        [
         "26",
         "DOID:0040024",
         "ceftazidime allergy",
         "DOID:0040021",
         "BMG_DS026068",
         "BMG_DS026054"
        ],
        [
         "27",
         "DOID:0040025",
         "cefuroxime allergy",
         "DOID:0040021",
         "BMG_DS026064",
         "BMG_DS026054"
        ],
        [
         "28",
         "DOID:0040026",
         "chlorhexidine allergy",
         "DOID:0060500",
         "BMG_DS025984",
         null
        ],
        [
         "29",
         "DOID:0040027",
         "cyclophosphamide allergy",
         "DOID:0060500",
         "BMG_DS025323",
         null
        ],
        [
         "30",
         "DOID:0040028",
         "succinylcholine allergy",
         "DOID:0060500",
         "BMG_DS025789",
         null
        ],
        [
         "31",
         "DOID:0040029",
         "trimethoprim allergy",
         "DOID:0060500",
         "BMG_DS026027",
         null
        ],
        [
         "32",
         "DOID:0040030",
         "cefixime allergy",
         "DOID:0040021",
         "BMG_DS026070",
         "BMG_DS026054"
        ],
        [
         "33",
         "DOID:0040031",
         "diclofenac allergy",
         "DOID:0060500",
         "BMG_DS025199",
         null
        ],
        [
         "34",
         "DOID:0040032",
         "carbapenem allergy",
         "DOID:0060500",
         "BMG_DS026053",
         null
        ],
        [
         "35",
         "DOID:0040033",
         "piperacillin allergy",
         "DOID:0060519",
         "BMG_DS026047",
         null
        ],
        [
         "36",
         "DOID:0040034",
         "rocuronium allergy",
         "DOID:0060500",
         "BMG_DS025798",
         null
        ],
        [
         "37",
         "DOID:0040035",
         "sulfasalazine allergy",
         "DOID:0060500",
         "BMG_DS025240",
         null
        ],
        [
         "38",
         "DOID:0040036",
         "tubocurarine allergy",
         "DOID:0060500",
         "BMG_DS025796",
         null
        ],
        [
         "39",
         "DOID:0040037",
         "aztreonam allergy",
         "DOID:0060519",
         "BMG_DS026086",
         null
        ],
        [
         "40",
         "DOID:0040038",
         "meropenem allergy",
         "DOID:9415",
         null,
         "BMG_DS005282"
        ],
        [
         "41",
         "DOID:0040040",
         "hexamethylene diisocyanate allergic asthma",
         "DOID:0040041",
         null,
         null
        ],
        [
         "42",
         "DOID:0040041",
         "isocyanates allergic asthma",
         "DOID:9415",
         null,
         "BMG_DS005282"
        ],
        [
         "43",
         "DOID:0040042",
         "diphenylmethane-4,4'-diisocyanate allergic asthma",
         "DOID:0040041",
         null,
         null
        ],
        [
         "44",
         "DOID:0040043",
         "toluene meta-diisocyanate allergic asthma",
         "DOID:0040041",
         null,
         null
        ],
        [
         "45",
         "DOID:0040044",
         "methyl isocyanate allergic asthma",
         "DOID:0040041",
         null,
         null
        ],
        [
         "46",
         "DOID:0040045",
         "nickel allergic asthma",
         "DOID:9415",
         null,
         "BMG_DS005282"
        ],
        [
         "47",
         "DOID:0040046",
         "nickel allergic contact dermatitis",
         "DOID:3042",
         "BMG_DS083619",
         "BMG_DS005760"
        ],
        [
         "48",
         "DOID:0040047",
         "trimellitic anhydride allergic asthma",
         "DOID:9415",
         null,
         "BMG_DS005282"
        ],
        [
         "49",
         "DOID:0040048",
         "phthalic anhydride allergic asthma",
         "DOID:9415",
         null,
         "BMG_DS005282"
        ]
       ],
       "shape": {
        "columns": 5,
        "rows": 11879
       }
      },
      "text/html": [
       "<div>\n",
       "<style scoped>\n",
       "    .dataframe tbody tr th:only-of-type {\n",
       "        vertical-align: middle;\n",
       "    }\n",
       "\n",
       "    .dataframe tbody tr th {\n",
       "        vertical-align: top;\n",
       "    }\n",
       "\n",
       "    .dataframe thead th {\n",
       "        text-align: right;\n",
       "    }\n",
       "</style>\n",
       "<table border=\"1\" class=\"dataframe\">\n",
       "  <thead>\n",
       "    <tr style=\"text-align: right;\">\n",
       "      <th></th>\n",
       "      <th>ID</th>\n",
       "      <th>Name</th>\n",
       "      <th>is_a</th>\n",
       "      <th>From_ID</th>\n",
       "      <th>To_ID</th>\n",
       "    </tr>\n",
       "  </thead>\n",
       "  <tbody>\n",
       "    <tr>\n",
       "      <th>0</th>\n",
       "      <td>DOID:0001816</td>\n",
       "      <td>angiosarcoma</td>\n",
       "      <td>DOID:175</td>\n",
       "      <td>BMG_DS001351;BMG_DS029260</td>\n",
       "      <td>BMG_DS014402;BMG_DS018124;BMG_DS031778;BMG_DS0...</td>\n",
       "    </tr>\n",
       "    <tr>\n",
       "      <th>1</th>\n",
       "      <td>DOID:0002116</td>\n",
       "      <td>pterygium</td>\n",
       "      <td>DOID:10124</td>\n",
       "      <td>BMG_DS002722</td>\n",
       "      <td>BMG_DS000704</td>\n",
       "    </tr>\n",
       "    <tr>\n",
       "      <th>2</th>\n",
       "      <td>DOID:0014667</td>\n",
       "      <td>disease of metabolism</td>\n",
       "      <td>DOID:4</td>\n",
       "      <td>BMG_DS002005</td>\n",
       "      <td>BMG_DS000858</td>\n",
       "    </tr>\n",
       "    <tr>\n",
       "      <th>3</th>\n",
       "      <td>DOID:0040001</td>\n",
       "      <td>shrimp allergy</td>\n",
       "      <td>DOID:0060524</td>\n",
       "      <td>NaN</td>\n",
       "      <td>NaN</td>\n",
       "    </tr>\n",
       "    <tr>\n",
       "      <th>4</th>\n",
       "      <td>DOID:0040002</td>\n",
       "      <td>aspirin allergy</td>\n",
       "      <td>DOID:0060500</td>\n",
       "      <td>BMG_DS000275</td>\n",
       "      <td>NaN</td>\n",
       "    </tr>\n",
       "    <tr>\n",
       "      <th>...</th>\n",
       "      <td>...</td>\n",
       "      <td>...</td>\n",
       "      <td>...</td>\n",
       "      <td>...</td>\n",
       "      <td>...</td>\n",
       "    </tr>\n",
       "    <tr>\n",
       "      <th>11831</th>\n",
       "      <td>DOID:9987</td>\n",
       "      <td>orbit sarcoma</td>\n",
       "      <td>DOID:4143</td>\n",
       "      <td>BMG_DS034368</td>\n",
       "      <td>BMG_DS002243;BMG_DS004485</td>\n",
       "    </tr>\n",
       "    <tr>\n",
       "      <th>11832</th>\n",
       "      <td>DOID:9988</td>\n",
       "      <td>tertiary neurosyphilis</td>\n",
       "      <td>DOID:8200</td>\n",
       "      <td>BMG_DS002177</td>\n",
       "      <td>BMG_DS004255</td>\n",
       "    </tr>\n",
       "    <tr>\n",
       "      <th>11833</th>\n",
       "      <td>DOID:999</td>\n",
       "      <td>hypereosinophilic syndrome</td>\n",
       "      <td>DOID:9500</td>\n",
       "      <td>BMG_DS001013</td>\n",
       "      <td>BMG_DS001798</td>\n",
       "    </tr>\n",
       "    <tr>\n",
       "      <th>11834</th>\n",
       "      <td>DOID:9993</td>\n",
       "      <td>hypoglycemia</td>\n",
       "      <td>DOID:4194</td>\n",
       "      <td>BMG_DS001548</td>\n",
       "      <td>BMG_DS029870</td>\n",
       "    </tr>\n",
       "    <tr>\n",
       "      <th>11835</th>\n",
       "      <td>DOID:9997</td>\n",
       "      <td>peripartum cardiomyopathy</td>\n",
       "      <td>DOID:12930</td>\n",
       "      <td>BMG_DS029454</td>\n",
       "      <td>BMG_DS000495</td>\n",
       "    </tr>\n",
       "  </tbody>\n",
       "</table>\n",
       "<p>11879 rows × 5 columns</p>\n",
       "</div>"
      ],
      "text/plain": [
       "                 ID                        Name          is_a  \\\n",
       "0      DOID:0001816                angiosarcoma      DOID:175   \n",
       "1      DOID:0002116                   pterygium    DOID:10124   \n",
       "2      DOID:0014667       disease of metabolism        DOID:4   \n",
       "3      DOID:0040001              shrimp allergy  DOID:0060524   \n",
       "4      DOID:0040002             aspirin allergy  DOID:0060500   \n",
       "...             ...                         ...           ...   \n",
       "11831     DOID:9987               orbit sarcoma     DOID:4143   \n",
       "11832     DOID:9988      tertiary neurosyphilis     DOID:8200   \n",
       "11833      DOID:999  hypereosinophilic syndrome     DOID:9500   \n",
       "11834     DOID:9993                hypoglycemia     DOID:4194   \n",
       "11835     DOID:9997   peripartum cardiomyopathy    DOID:12930   \n",
       "\n",
       "                         From_ID  \\\n",
       "0      BMG_DS001351;BMG_DS029260   \n",
       "1                   BMG_DS002722   \n",
       "2                   BMG_DS002005   \n",
       "3                            NaN   \n",
       "4                   BMG_DS000275   \n",
       "...                          ...   \n",
       "11831               BMG_DS034368   \n",
       "11832               BMG_DS002177   \n",
       "11833               BMG_DS001013   \n",
       "11834               BMG_DS001548   \n",
       "11835               BMG_DS029454   \n",
       "\n",
       "                                                   To_ID  \n",
       "0      BMG_DS014402;BMG_DS018124;BMG_DS031778;BMG_DS0...  \n",
       "1                                           BMG_DS000704  \n",
       "2                                           BMG_DS000858  \n",
       "3                                                    NaN  \n",
       "4                                                    NaN  \n",
       "...                                                  ...  \n",
       "11831                          BMG_DS002243;BMG_DS004485  \n",
       "11832                                       BMG_DS004255  \n",
       "11833                                       BMG_DS001798  \n",
       "11834                                       BMG_DS029870  \n",
       "11835                                       BMG_DS000495  \n",
       "\n",
       "[11879 rows x 5 columns]"
      ]
     },
     "execution_count": 4,
     "metadata": {},
     "output_type": "execute_result"
    }
   ],
   "source": [
    "do_id = biomedgraphica_disease[['DO_ID', 'BioMedGraphica_ID']]\n",
    "do_id.dropna(subset=['DO_ID'], inplace=True)\n",
    "do_id = do_id.assign(DO_ID=do_id['DO_ID'].str.split(';')).explode('DO_ID')\n",
    "do_to_individualID = do_id.groupby('DO_ID')['BioMedGraphica_ID'].apply(lambda x: ';'.join(x.dropna().unique())).to_dict()\n",
    "\n",
    "do['From_ID'] = do['ID'].map(do_to_individualID)\n",
    "do = do.assign(is_a=do['is_a'].str.split(';')).explode('is_a')\n",
    "do['To_ID'] = do['is_a'].map(do_to_individualID)\n",
    "do"
   ]
  },
  {
   "cell_type": "code",
   "execution_count": 5,
   "metadata": {},
   "outputs": [
    {
     "name": "stderr",
     "output_type": "stream",
     "text": [
      "C:\\Users\\shunn\\AppData\\Local\\Temp\\ipykernel_31276\\2351800563.py:2: SettingWithCopyWarning: \n",
      "A value is trying to be set on a copy of a slice from a DataFrame\n",
      "\n",
      "See the caveats in the documentation: https://pandas.pydata.org/pandas-docs/stable/user_guide/indexing.html#returning-a-view-versus-a-copy\n",
      "  disease_disease.dropna(subset=['From_ID'], inplace=True)\n",
      "C:\\Users\\shunn\\AppData\\Local\\Temp\\ipykernel_31276\\2351800563.py:3: SettingWithCopyWarning: \n",
      "A value is trying to be set on a copy of a slice from a DataFrame\n",
      "\n",
      "See the caveats in the documentation: https://pandas.pydata.org/pandas-docs/stable/user_guide/indexing.html#returning-a-view-versus-a-copy\n",
      "  disease_disease.dropna(subset=['To_ID'], inplace=True)\n"
     ]
    },
    {
     "data": {
      "application/vnd.microsoft.datawrangler.viewer.v0+json": {
       "columns": [
        {
         "name": "index",
         "rawType": "int64",
         "type": "integer"
        },
        {
         "name": "From_ID",
         "rawType": "object",
         "type": "string"
        },
        {
         "name": "To_ID",
         "rawType": "object",
         "type": "string"
        }
       ],
       "conversionMethod": "pd.DataFrame",
       "ref": "83a4f283-23ec-42b7-827f-4eb3dd09b72e",
       "rows": [
        [
         "0",
         "BMG_DS001351;BMG_DS029260",
         "BMG_DS014402;BMG_DS018124;BMG_DS031778;BMG_DS034251;BMG_DS034252;BMG_DS034260;BMG_DS034503"
        ],
        [
         "1",
         "BMG_DS002722",
         "BMG_DS000704"
        ],
        [
         "2",
         "BMG_DS002005",
         "BMG_DS000858"
        ],
        [
         "7",
         "BMG_DS026073",
         "BMG_DS026054"
        ],
        [
         "22",
         "BMG_DS026067",
         "BMG_DS026054"
        ],
        [
         "25",
         "BMG_DS026063",
         "BMG_DS026054"
        ],
        [
         "26",
         "BMG_DS026068",
         "BMG_DS026054"
        ],
        [
         "27",
         "BMG_DS026064",
         "BMG_DS026054"
        ],
        [
         "32",
         "BMG_DS026070",
         "BMG_DS026054"
        ],
        [
         "47",
         "BMG_DS083619",
         "BMG_DS005760"
        ],
        [
         "57",
         "BMG_DS083619",
         "BMG_DS005760"
        ],
        [
         "58",
         "BMG_DS025751",
         "BMG_DS005760"
        ],
        [
         "61",
         "BMG_DS025206",
         "BMG_DS005762"
        ],
        [
         "68",
         "BMG_DS035049",
         "BMG_DS005760"
        ],
        [
         "75",
         "BMG_DS025980",
         "BMG_DS005760"
        ],
        [
         "84",
         "BMG_DS015390",
         "BMG_DS000306"
        ],
        [
         "85",
         "BMG_DS047776",
         "BMG_DS000306"
        ],
        [
         "87",
         "BMG_DS037093",
         "BMG_DS000240;BMG_DS003395"
        ],
        [
         "93",
         "BMG_DS021407",
         "BMG_DS003024"
        ],
        [
         "94",
         "BMG_DS007406",
         "BMG_DS021614"
        ],
        [
         "99",
         "BMG_DS084465",
         "BMG_DS002496"
        ],
        [
         "100",
         "BMG_DS017057;BMG_DS048618",
         "BMG_DS003370"
        ],
        [
         "106",
         "BMG_DS026730",
         "BMG_DS026730"
        ],
        [
         "119",
         "BMG_DS002854",
         "BMG_DS003031"
        ],
        [
         "124",
         "BMG_DS009878",
         "BMG_DS000767"
        ],
        [
         "125",
         "BMG_DS077486",
         "BMG_DS000808"
        ],
        [
         "129",
         "BMG_DS000065",
         "BMG_DS000858"
        ],
        [
         "130",
         "BMG_DS000961",
         "BMG_DS000240;BMG_DS003395"
        ],
        [
         "131",
         "BMG_DS001889",
         "BMG_DS001883"
        ],
        [
         "133",
         "BMG_DS003705",
         "BMG_DS002449"
        ],
        [
         "138",
         "BMG_DS002566;BMG_DS053519",
         "BMG_DS002073"
        ],
        [
         "142",
         "BMG_DS000947;BMG_DS024618;BMG_DS031312;BMG_DS055131;BMG_DS055132;BMG_DS055133",
         "BMG_DS000947"
        ],
        [
         "146",
         "BMG_DS001663;BMG_DS062819;BMG_DS065352",
         "BMG_DS000639"
        ],
        [
         "147",
         "BMG_DS019607",
         "BMG_DS002310"
        ],
        [
         "148",
         "BMG_DS002403",
         "BMG_DS001599"
        ],
        [
         "149",
         "BMG_DS005242;BMG_DS005260",
         "BMG_DS002310"
        ],
        [
         "151",
         "BMG_DS002603",
         "BMG_DS000306"
        ],
        [
         "154",
         "BMG_DS037448",
         "BMG_DS002733"
        ],
        [
         "155",
         "BMG_DS006833",
         "BMG_DS003640"
        ],
        [
         "156",
         "BMG_DS006651",
         "BMG_DS003640"
        ],
        [
         "157",
         "BMG_DS077563",
         "BMG_DS003640"
        ],
        [
         "158",
         "BMG_DS077677",
         "BMG_DS000209"
        ],
        [
         "159",
         "BMG_DS002310",
         "BMG_DS002311"
        ],
        [
         "160",
         "BMG_DS004111",
         "BMG_DS003287"
        ],
        [
         "161",
         "BMG_DS080029",
         "BMG_DS003568"
        ],
        [
         "162",
         "BMG_DS080089",
         "BMG_DS003568"
        ],
        [
         "165",
         "BMG_DS000962",
         "BMG_DS000240;BMG_DS003395"
        ],
        [
         "168",
         "BMG_DS001053",
         "BMG_DS002309;BMG_DS002973;BMG_DS002975"
        ],
        [
         "181",
         "BMG_DS001717",
         "BMG_DS028255"
        ],
        [
         "190",
         "BMG_DS013736;BMG_DS019028;BMG_DS034790;BMG_DS052634;BMG_DS052635",
         "BMG_DS001345"
        ]
       ],
       "shape": {
        "columns": 2,
        "rows": 9747
       }
      },
      "text/html": [
       "<div>\n",
       "<style scoped>\n",
       "    .dataframe tbody tr th:only-of-type {\n",
       "        vertical-align: middle;\n",
       "    }\n",
       "\n",
       "    .dataframe tbody tr th {\n",
       "        vertical-align: top;\n",
       "    }\n",
       "\n",
       "    .dataframe thead th {\n",
       "        text-align: right;\n",
       "    }\n",
       "</style>\n",
       "<table border=\"1\" class=\"dataframe\">\n",
       "  <thead>\n",
       "    <tr style=\"text-align: right;\">\n",
       "      <th></th>\n",
       "      <th>From_ID</th>\n",
       "      <th>To_ID</th>\n",
       "    </tr>\n",
       "  </thead>\n",
       "  <tbody>\n",
       "    <tr>\n",
       "      <th>0</th>\n",
       "      <td>BMG_DS001351;BMG_DS029260</td>\n",
       "      <td>BMG_DS014402;BMG_DS018124;BMG_DS031778;BMG_DS0...</td>\n",
       "    </tr>\n",
       "    <tr>\n",
       "      <th>1</th>\n",
       "      <td>BMG_DS002722</td>\n",
       "      <td>BMG_DS000704</td>\n",
       "    </tr>\n",
       "    <tr>\n",
       "      <th>2</th>\n",
       "      <td>BMG_DS002005</td>\n",
       "      <td>BMG_DS000858</td>\n",
       "    </tr>\n",
       "    <tr>\n",
       "      <th>7</th>\n",
       "      <td>BMG_DS026073</td>\n",
       "      <td>BMG_DS026054</td>\n",
       "    </tr>\n",
       "    <tr>\n",
       "      <th>22</th>\n",
       "      <td>BMG_DS026067</td>\n",
       "      <td>BMG_DS026054</td>\n",
       "    </tr>\n",
       "    <tr>\n",
       "      <th>...</th>\n",
       "      <td>...</td>\n",
       "      <td>...</td>\n",
       "    </tr>\n",
       "    <tr>\n",
       "      <th>11831</th>\n",
       "      <td>BMG_DS034368</td>\n",
       "      <td>BMG_DS002243;BMG_DS004485</td>\n",
       "    </tr>\n",
       "    <tr>\n",
       "      <th>11832</th>\n",
       "      <td>BMG_DS002177</td>\n",
       "      <td>BMG_DS004255</td>\n",
       "    </tr>\n",
       "    <tr>\n",
       "      <th>11833</th>\n",
       "      <td>BMG_DS001013</td>\n",
       "      <td>BMG_DS001798</td>\n",
       "    </tr>\n",
       "    <tr>\n",
       "      <th>11834</th>\n",
       "      <td>BMG_DS001548</td>\n",
       "      <td>BMG_DS029870</td>\n",
       "    </tr>\n",
       "    <tr>\n",
       "      <th>11835</th>\n",
       "      <td>BMG_DS029454</td>\n",
       "      <td>BMG_DS000495</td>\n",
       "    </tr>\n",
       "  </tbody>\n",
       "</table>\n",
       "<p>9747 rows × 2 columns</p>\n",
       "</div>"
      ],
      "text/plain": [
       "                         From_ID  \\\n",
       "0      BMG_DS001351;BMG_DS029260   \n",
       "1                   BMG_DS002722   \n",
       "2                   BMG_DS002005   \n",
       "7                   BMG_DS026073   \n",
       "22                  BMG_DS026067   \n",
       "...                          ...   \n",
       "11831               BMG_DS034368   \n",
       "11832               BMG_DS002177   \n",
       "11833               BMG_DS001013   \n",
       "11834               BMG_DS001548   \n",
       "11835               BMG_DS029454   \n",
       "\n",
       "                                                   To_ID  \n",
       "0      BMG_DS014402;BMG_DS018124;BMG_DS031778;BMG_DS0...  \n",
       "1                                           BMG_DS000704  \n",
       "2                                           BMG_DS000858  \n",
       "7                                           BMG_DS026054  \n",
       "22                                          BMG_DS026054  \n",
       "...                                                  ...  \n",
       "11831                          BMG_DS002243;BMG_DS004485  \n",
       "11832                                       BMG_DS004255  \n",
       "11833                                       BMG_DS001798  \n",
       "11834                                       BMG_DS029870  \n",
       "11835                                       BMG_DS000495  \n",
       "\n",
       "[9747 rows x 2 columns]"
      ]
     },
     "execution_count": 5,
     "metadata": {},
     "output_type": "execute_result"
    }
   ],
   "source": [
    "disease_disease = do[['From_ID', 'To_ID']]\n",
    "disease_disease.dropna(subset=['From_ID'], inplace=True)\n",
    "disease_disease.dropna(subset=['To_ID'], inplace=True)\n",
    "disease_disease"
   ]
  },
  {
   "cell_type": "code",
   "execution_count": 6,
   "metadata": {},
   "outputs": [
    {
     "name": "stderr",
     "output_type": "stream",
     "text": [
      "C:\\Users\\shunn\\AppData\\Local\\Temp\\ipykernel_31276\\4105127819.py:1: SettingWithCopyWarning: \n",
      "A value is trying to be set on a copy of a slice from a DataFrame.\n",
      "Try using .loc[row_indexer,col_indexer] = value instead\n",
      "\n",
      "See the caveats in the documentation: https://pandas.pydata.org/pandas-docs/stable/user_guide/indexing.html#returning-a-view-versus-a-copy\n",
      "  disease_disease['From_ID'] = disease_disease['From_ID'].str.split(';')\n"
     ]
    },
    {
     "data": {
      "application/vnd.microsoft.datawrangler.viewer.v0+json": {
       "columns": [
        {
         "name": "index",
         "rawType": "int64",
         "type": "integer"
        },
        {
         "name": "From_ID",
         "rawType": "object",
         "type": "string"
        },
        {
         "name": "To_ID",
         "rawType": "object",
         "type": "string"
        }
       ],
       "conversionMethod": "pd.DataFrame",
       "ref": "a00a2258-77fa-4b78-8ecc-3d2e695f72ee",
       "rows": [
        [
         "0",
         "BMG_DS001351",
         "BMG_DS014402"
        ],
        [
         "1",
         "BMG_DS001351",
         "BMG_DS018124"
        ],
        [
         "2",
         "BMG_DS001351",
         "BMG_DS031778"
        ],
        [
         "3",
         "BMG_DS001351",
         "BMG_DS034251"
        ],
        [
         "4",
         "BMG_DS001351",
         "BMG_DS034252"
        ],
        [
         "5",
         "BMG_DS001351",
         "BMG_DS034260"
        ],
        [
         "6",
         "BMG_DS001351",
         "BMG_DS034503"
        ],
        [
         "7",
         "BMG_DS029260",
         "BMG_DS014402"
        ],
        [
         "8",
         "BMG_DS029260",
         "BMG_DS018124"
        ],
        [
         "9",
         "BMG_DS029260",
         "BMG_DS031778"
        ],
        [
         "10",
         "BMG_DS029260",
         "BMG_DS034251"
        ],
        [
         "11",
         "BMG_DS029260",
         "BMG_DS034252"
        ],
        [
         "12",
         "BMG_DS029260",
         "BMG_DS034260"
        ],
        [
         "13",
         "BMG_DS029260",
         "BMG_DS034503"
        ],
        [
         "14",
         "BMG_DS002722",
         "BMG_DS000704"
        ],
        [
         "15",
         "BMG_DS002005",
         "BMG_DS000858"
        ],
        [
         "16",
         "BMG_DS026073",
         "BMG_DS026054"
        ],
        [
         "17",
         "BMG_DS026067",
         "BMG_DS026054"
        ],
        [
         "18",
         "BMG_DS026063",
         "BMG_DS026054"
        ],
        [
         "19",
         "BMG_DS026068",
         "BMG_DS026054"
        ],
        [
         "20",
         "BMG_DS026064",
         "BMG_DS026054"
        ],
        [
         "21",
         "BMG_DS026070",
         "BMG_DS026054"
        ],
        [
         "22",
         "BMG_DS083619",
         "BMG_DS005760"
        ],
        [
         "23",
         "BMG_DS025751",
         "BMG_DS005760"
        ],
        [
         "24",
         "BMG_DS025206",
         "BMG_DS005762"
        ],
        [
         "25",
         "BMG_DS035049",
         "BMG_DS005760"
        ],
        [
         "26",
         "BMG_DS025980",
         "BMG_DS005760"
        ],
        [
         "27",
         "BMG_DS015390",
         "BMG_DS000306"
        ],
        [
         "28",
         "BMG_DS047776",
         "BMG_DS000306"
        ],
        [
         "29",
         "BMG_DS037093",
         "BMG_DS000240"
        ],
        [
         "30",
         "BMG_DS037093",
         "BMG_DS003395"
        ],
        [
         "31",
         "BMG_DS021407",
         "BMG_DS003024"
        ],
        [
         "32",
         "BMG_DS007406",
         "BMG_DS021614"
        ],
        [
         "33",
         "BMG_DS084465",
         "BMG_DS002496"
        ],
        [
         "34",
         "BMG_DS017057",
         "BMG_DS003370"
        ],
        [
         "35",
         "BMG_DS048618",
         "BMG_DS003370"
        ],
        [
         "36",
         "BMG_DS026730",
         "BMG_DS026730"
        ],
        [
         "37",
         "BMG_DS002854",
         "BMG_DS003031"
        ],
        [
         "38",
         "BMG_DS009878",
         "BMG_DS000767"
        ],
        [
         "39",
         "BMG_DS077486",
         "BMG_DS000808"
        ],
        [
         "40",
         "BMG_DS000065",
         "BMG_DS000858"
        ],
        [
         "41",
         "BMG_DS000961",
         "BMG_DS000240"
        ],
        [
         "42",
         "BMG_DS000961",
         "BMG_DS003395"
        ],
        [
         "43",
         "BMG_DS001889",
         "BMG_DS001883"
        ],
        [
         "44",
         "BMG_DS003705",
         "BMG_DS002449"
        ],
        [
         "45",
         "BMG_DS002566",
         "BMG_DS002073"
        ],
        [
         "46",
         "BMG_DS053519",
         "BMG_DS002073"
        ],
        [
         "47",
         "BMG_DS000947",
         "BMG_DS000947"
        ],
        [
         "48",
         "BMG_DS024618",
         "BMG_DS000947"
        ],
        [
         "49",
         "BMG_DS031312",
         "BMG_DS000947"
        ]
       ],
       "shape": {
        "columns": 2,
        "rows": 12006
       }
      },
      "text/html": [
       "<div>\n",
       "<style scoped>\n",
       "    .dataframe tbody tr th:only-of-type {\n",
       "        vertical-align: middle;\n",
       "    }\n",
       "\n",
       "    .dataframe tbody tr th {\n",
       "        vertical-align: top;\n",
       "    }\n",
       "\n",
       "    .dataframe thead th {\n",
       "        text-align: right;\n",
       "    }\n",
       "</style>\n",
       "<table border=\"1\" class=\"dataframe\">\n",
       "  <thead>\n",
       "    <tr style=\"text-align: right;\">\n",
       "      <th></th>\n",
       "      <th>From_ID</th>\n",
       "      <th>To_ID</th>\n",
       "    </tr>\n",
       "  </thead>\n",
       "  <tbody>\n",
       "    <tr>\n",
       "      <th>0</th>\n",
       "      <td>BMG_DS001351</td>\n",
       "      <td>BMG_DS014402</td>\n",
       "    </tr>\n",
       "    <tr>\n",
       "      <th>1</th>\n",
       "      <td>BMG_DS001351</td>\n",
       "      <td>BMG_DS018124</td>\n",
       "    </tr>\n",
       "    <tr>\n",
       "      <th>2</th>\n",
       "      <td>BMG_DS001351</td>\n",
       "      <td>BMG_DS031778</td>\n",
       "    </tr>\n",
       "    <tr>\n",
       "      <th>3</th>\n",
       "      <td>BMG_DS001351</td>\n",
       "      <td>BMG_DS034251</td>\n",
       "    </tr>\n",
       "    <tr>\n",
       "      <th>4</th>\n",
       "      <td>BMG_DS001351</td>\n",
       "      <td>BMG_DS034252</td>\n",
       "    </tr>\n",
       "    <tr>\n",
       "      <th>...</th>\n",
       "      <td>...</td>\n",
       "      <td>...</td>\n",
       "    </tr>\n",
       "    <tr>\n",
       "      <th>12001</th>\n",
       "      <td>BMG_DS034368</td>\n",
       "      <td>BMG_DS004485</td>\n",
       "    </tr>\n",
       "    <tr>\n",
       "      <th>12002</th>\n",
       "      <td>BMG_DS002177</td>\n",
       "      <td>BMG_DS004255</td>\n",
       "    </tr>\n",
       "    <tr>\n",
       "      <th>12003</th>\n",
       "      <td>BMG_DS001013</td>\n",
       "      <td>BMG_DS001798</td>\n",
       "    </tr>\n",
       "    <tr>\n",
       "      <th>12004</th>\n",
       "      <td>BMG_DS001548</td>\n",
       "      <td>BMG_DS029870</td>\n",
       "    </tr>\n",
       "    <tr>\n",
       "      <th>12005</th>\n",
       "      <td>BMG_DS029454</td>\n",
       "      <td>BMG_DS000495</td>\n",
       "    </tr>\n",
       "  </tbody>\n",
       "</table>\n",
       "<p>12006 rows × 2 columns</p>\n",
       "</div>"
      ],
      "text/plain": [
       "            From_ID         To_ID\n",
       "0      BMG_DS001351  BMG_DS014402\n",
       "1      BMG_DS001351  BMG_DS018124\n",
       "2      BMG_DS001351  BMG_DS031778\n",
       "3      BMG_DS001351  BMG_DS034251\n",
       "4      BMG_DS001351  BMG_DS034252\n",
       "...             ...           ...\n",
       "12001  BMG_DS034368  BMG_DS004485\n",
       "12002  BMG_DS002177  BMG_DS004255\n",
       "12003  BMG_DS001013  BMG_DS001798\n",
       "12004  BMG_DS001548  BMG_DS029870\n",
       "12005  BMG_DS029454  BMG_DS000495\n",
       "\n",
       "[12006 rows x 2 columns]"
      ]
     },
     "execution_count": 6,
     "metadata": {},
     "output_type": "execute_result"
    }
   ],
   "source": [
    "disease_disease['From_ID'] = disease_disease['From_ID'].str.split(';')\n",
    "disease_disease = disease_disease.explode('From_ID')\n",
    "disease_disease['To_ID'] = disease_disease['To_ID'].str.split(';')\n",
    "disease_disease = disease_disease.explode('To_ID')\n",
    "disease_disease.drop_duplicates(inplace=True)\n",
    "disease_disease.reset_index(drop=True, inplace=True)\n",
    "disease_disease"
   ]
  },
  {
   "cell_type": "markdown",
   "metadata": {},
   "source": [
    "### Disease-Disease Relation"
   ]
  },
  {
   "cell_type": "code",
   "execution_count": 7,
   "metadata": {},
   "outputs": [
    {
     "data": {
      "application/vnd.microsoft.datawrangler.viewer.v0+json": {
       "columns": [
        {
         "name": "index",
         "rawType": "int64",
         "type": "integer"
        },
        {
         "name": "BioMedGraphica_ID",
         "rawType": "object",
         "type": "string"
        },
        {
         "name": "From_ID",
         "rawType": "object",
         "type": "string"
        },
        {
         "name": "To_ID",
         "rawType": "object",
         "type": "string"
        },
        {
         "name": "Source",
         "rawType": "object",
         "type": "string"
        },
        {
         "name": "Type",
         "rawType": "object",
         "type": "string"
        }
       ],
       "conversionMethod": "pd.DataFrame",
       "ref": "dadacce3-1baf-4e69-b155-950a79b1089a",
       "rows": [
        [
         "0",
         "BMG_ED_DSDS00001",
         "BMG_DS001351",
         "BMG_DS014402",
         "Disease Ontology",
         "Disease-Disease"
        ],
        [
         "1",
         "BMG_ED_DSDS00002",
         "BMG_DS001351",
         "BMG_DS018124",
         "Disease Ontology",
         "Disease-Disease"
        ],
        [
         "2",
         "BMG_ED_DSDS00003",
         "BMG_DS001351",
         "BMG_DS031778",
         "Disease Ontology",
         "Disease-Disease"
        ],
        [
         "3",
         "BMG_ED_DSDS00004",
         "BMG_DS001351",
         "BMG_DS034251",
         "Disease Ontology",
         "Disease-Disease"
        ],
        [
         "4",
         "BMG_ED_DSDS00005",
         "BMG_DS001351",
         "BMG_DS034252",
         "Disease Ontology",
         "Disease-Disease"
        ],
        [
         "5",
         "BMG_ED_DSDS00006",
         "BMG_DS001351",
         "BMG_DS034260",
         "Disease Ontology",
         "Disease-Disease"
        ],
        [
         "6",
         "BMG_ED_DSDS00007",
         "BMG_DS001351",
         "BMG_DS034503",
         "Disease Ontology",
         "Disease-Disease"
        ],
        [
         "7",
         "BMG_ED_DSDS00008",
         "BMG_DS029260",
         "BMG_DS014402",
         "Disease Ontology",
         "Disease-Disease"
        ],
        [
         "8",
         "BMG_ED_DSDS00009",
         "BMG_DS029260",
         "BMG_DS018124",
         "Disease Ontology",
         "Disease-Disease"
        ],
        [
         "9",
         "BMG_ED_DSDS00010",
         "BMG_DS029260",
         "BMG_DS031778",
         "Disease Ontology",
         "Disease-Disease"
        ],
        [
         "10",
         "BMG_ED_DSDS00011",
         "BMG_DS029260",
         "BMG_DS034251",
         "Disease Ontology",
         "Disease-Disease"
        ],
        [
         "11",
         "BMG_ED_DSDS00012",
         "BMG_DS029260",
         "BMG_DS034252",
         "Disease Ontology",
         "Disease-Disease"
        ],
        [
         "12",
         "BMG_ED_DSDS00013",
         "BMG_DS029260",
         "BMG_DS034260",
         "Disease Ontology",
         "Disease-Disease"
        ],
        [
         "13",
         "BMG_ED_DSDS00014",
         "BMG_DS029260",
         "BMG_DS034503",
         "Disease Ontology",
         "Disease-Disease"
        ],
        [
         "14",
         "BMG_ED_DSDS00015",
         "BMG_DS002722",
         "BMG_DS000704",
         "Disease Ontology",
         "Disease-Disease"
        ],
        [
         "15",
         "BMG_ED_DSDS00016",
         "BMG_DS002005",
         "BMG_DS000858",
         "Disease Ontology",
         "Disease-Disease"
        ],
        [
         "16",
         "BMG_ED_DSDS00017",
         "BMG_DS026073",
         "BMG_DS026054",
         "Disease Ontology",
         "Disease-Disease"
        ],
        [
         "17",
         "BMG_ED_DSDS00018",
         "BMG_DS026067",
         "BMG_DS026054",
         "Disease Ontology",
         "Disease-Disease"
        ],
        [
         "18",
         "BMG_ED_DSDS00019",
         "BMG_DS026063",
         "BMG_DS026054",
         "Disease Ontology",
         "Disease-Disease"
        ],
        [
         "19",
         "BMG_ED_DSDS00020",
         "BMG_DS026068",
         "BMG_DS026054",
         "Disease Ontology",
         "Disease-Disease"
        ],
        [
         "20",
         "BMG_ED_DSDS00021",
         "BMG_DS026064",
         "BMG_DS026054",
         "Disease Ontology",
         "Disease-Disease"
        ],
        [
         "21",
         "BMG_ED_DSDS00022",
         "BMG_DS026070",
         "BMG_DS026054",
         "Disease Ontology",
         "Disease-Disease"
        ],
        [
         "22",
         "BMG_ED_DSDS00023",
         "BMG_DS083619",
         "BMG_DS005760",
         "Disease Ontology",
         "Disease-Disease"
        ],
        [
         "23",
         "BMG_ED_DSDS00024",
         "BMG_DS025751",
         "BMG_DS005760",
         "Disease Ontology",
         "Disease-Disease"
        ],
        [
         "24",
         "BMG_ED_DSDS00025",
         "BMG_DS025206",
         "BMG_DS005762",
         "Disease Ontology",
         "Disease-Disease"
        ],
        [
         "25",
         "BMG_ED_DSDS00026",
         "BMG_DS035049",
         "BMG_DS005760",
         "Disease Ontology",
         "Disease-Disease"
        ],
        [
         "26",
         "BMG_ED_DSDS00027",
         "BMG_DS025980",
         "BMG_DS005760",
         "Disease Ontology",
         "Disease-Disease"
        ],
        [
         "27",
         "BMG_ED_DSDS00028",
         "BMG_DS015390",
         "BMG_DS000306",
         "Disease Ontology",
         "Disease-Disease"
        ],
        [
         "28",
         "BMG_ED_DSDS00029",
         "BMG_DS047776",
         "BMG_DS000306",
         "Disease Ontology",
         "Disease-Disease"
        ],
        [
         "29",
         "BMG_ED_DSDS00030",
         "BMG_DS037093",
         "BMG_DS000240",
         "Disease Ontology",
         "Disease-Disease"
        ],
        [
         "30",
         "BMG_ED_DSDS00031",
         "BMG_DS037093",
         "BMG_DS003395",
         "Disease Ontology",
         "Disease-Disease"
        ],
        [
         "31",
         "BMG_ED_DSDS00032",
         "BMG_DS021407",
         "BMG_DS003024",
         "Disease Ontology",
         "Disease-Disease"
        ],
        [
         "32",
         "BMG_ED_DSDS00033",
         "BMG_DS007406",
         "BMG_DS021614",
         "Disease Ontology",
         "Disease-Disease"
        ],
        [
         "33",
         "BMG_ED_DSDS00034",
         "BMG_DS084465",
         "BMG_DS002496",
         "Disease Ontology",
         "Disease-Disease"
        ],
        [
         "34",
         "BMG_ED_DSDS00035",
         "BMG_DS017057",
         "BMG_DS003370",
         "Disease Ontology",
         "Disease-Disease"
        ],
        [
         "35",
         "BMG_ED_DSDS00036",
         "BMG_DS048618",
         "BMG_DS003370",
         "Disease Ontology",
         "Disease-Disease"
        ],
        [
         "36",
         "BMG_ED_DSDS00037",
         "BMG_DS026730",
         "BMG_DS026730",
         "Disease Ontology",
         "Disease-Disease"
        ],
        [
         "37",
         "BMG_ED_DSDS00038",
         "BMG_DS002854",
         "BMG_DS003031",
         "Disease Ontology",
         "Disease-Disease"
        ],
        [
         "38",
         "BMG_ED_DSDS00039",
         "BMG_DS009878",
         "BMG_DS000767",
         "Disease Ontology",
         "Disease-Disease"
        ],
        [
         "39",
         "BMG_ED_DSDS00040",
         "BMG_DS077486",
         "BMG_DS000808",
         "Disease Ontology",
         "Disease-Disease"
        ],
        [
         "40",
         "BMG_ED_DSDS00041",
         "BMG_DS000065",
         "BMG_DS000858",
         "Disease Ontology",
         "Disease-Disease"
        ],
        [
         "41",
         "BMG_ED_DSDS00042",
         "BMG_DS000961",
         "BMG_DS000240",
         "Disease Ontology",
         "Disease-Disease"
        ],
        [
         "42",
         "BMG_ED_DSDS00043",
         "BMG_DS000961",
         "BMG_DS003395",
         "Disease Ontology",
         "Disease-Disease"
        ],
        [
         "43",
         "BMG_ED_DSDS00044",
         "BMG_DS001889",
         "BMG_DS001883",
         "Disease Ontology",
         "Disease-Disease"
        ],
        [
         "44",
         "BMG_ED_DSDS00045",
         "BMG_DS003705",
         "BMG_DS002449",
         "Disease Ontology",
         "Disease-Disease"
        ],
        [
         "45",
         "BMG_ED_DSDS00046",
         "BMG_DS002566",
         "BMG_DS002073",
         "Disease Ontology",
         "Disease-Disease"
        ],
        [
         "46",
         "BMG_ED_DSDS00047",
         "BMG_DS053519",
         "BMG_DS002073",
         "Disease Ontology",
         "Disease-Disease"
        ],
        [
         "47",
         "BMG_ED_DSDS00048",
         "BMG_DS000947",
         "BMG_DS000947",
         "Disease Ontology",
         "Disease-Disease"
        ],
        [
         "48",
         "BMG_ED_DSDS00049",
         "BMG_DS024618",
         "BMG_DS000947",
         "Disease Ontology",
         "Disease-Disease"
        ],
        [
         "49",
         "BMG_ED_DSDS00050",
         "BMG_DS031312",
         "BMG_DS000947",
         "Disease Ontology",
         "Disease-Disease"
        ]
       ],
       "shape": {
        "columns": 5,
        "rows": 12006
       }
      },
      "text/html": [
       "<div>\n",
       "<style scoped>\n",
       "    .dataframe tbody tr th:only-of-type {\n",
       "        vertical-align: middle;\n",
       "    }\n",
       "\n",
       "    .dataframe tbody tr th {\n",
       "        vertical-align: top;\n",
       "    }\n",
       "\n",
       "    .dataframe thead th {\n",
       "        text-align: right;\n",
       "    }\n",
       "</style>\n",
       "<table border=\"1\" class=\"dataframe\">\n",
       "  <thead>\n",
       "    <tr style=\"text-align: right;\">\n",
       "      <th></th>\n",
       "      <th>BioMedGraphica_ID</th>\n",
       "      <th>From_ID</th>\n",
       "      <th>To_ID</th>\n",
       "      <th>Source</th>\n",
       "      <th>Type</th>\n",
       "    </tr>\n",
       "  </thead>\n",
       "  <tbody>\n",
       "    <tr>\n",
       "      <th>0</th>\n",
       "      <td>BMG_ED_DSDS00001</td>\n",
       "      <td>BMG_DS001351</td>\n",
       "      <td>BMG_DS014402</td>\n",
       "      <td>Disease Ontology</td>\n",
       "      <td>Disease-Disease</td>\n",
       "    </tr>\n",
       "    <tr>\n",
       "      <th>1</th>\n",
       "      <td>BMG_ED_DSDS00002</td>\n",
       "      <td>BMG_DS001351</td>\n",
       "      <td>BMG_DS018124</td>\n",
       "      <td>Disease Ontology</td>\n",
       "      <td>Disease-Disease</td>\n",
       "    </tr>\n",
       "    <tr>\n",
       "      <th>2</th>\n",
       "      <td>BMG_ED_DSDS00003</td>\n",
       "      <td>BMG_DS001351</td>\n",
       "      <td>BMG_DS031778</td>\n",
       "      <td>Disease Ontology</td>\n",
       "      <td>Disease-Disease</td>\n",
       "    </tr>\n",
       "    <tr>\n",
       "      <th>3</th>\n",
       "      <td>BMG_ED_DSDS00004</td>\n",
       "      <td>BMG_DS001351</td>\n",
       "      <td>BMG_DS034251</td>\n",
       "      <td>Disease Ontology</td>\n",
       "      <td>Disease-Disease</td>\n",
       "    </tr>\n",
       "    <tr>\n",
       "      <th>4</th>\n",
       "      <td>BMG_ED_DSDS00005</td>\n",
       "      <td>BMG_DS001351</td>\n",
       "      <td>BMG_DS034252</td>\n",
       "      <td>Disease Ontology</td>\n",
       "      <td>Disease-Disease</td>\n",
       "    </tr>\n",
       "    <tr>\n",
       "      <th>...</th>\n",
       "      <td>...</td>\n",
       "      <td>...</td>\n",
       "      <td>...</td>\n",
       "      <td>...</td>\n",
       "      <td>...</td>\n",
       "    </tr>\n",
       "    <tr>\n",
       "      <th>12001</th>\n",
       "      <td>BMG_ED_DSDS12002</td>\n",
       "      <td>BMG_DS034368</td>\n",
       "      <td>BMG_DS004485</td>\n",
       "      <td>Disease Ontology</td>\n",
       "      <td>Disease-Disease</td>\n",
       "    </tr>\n",
       "    <tr>\n",
       "      <th>12002</th>\n",
       "      <td>BMG_ED_DSDS12003</td>\n",
       "      <td>BMG_DS002177</td>\n",
       "      <td>BMG_DS004255</td>\n",
       "      <td>Disease Ontology</td>\n",
       "      <td>Disease-Disease</td>\n",
       "    </tr>\n",
       "    <tr>\n",
       "      <th>12003</th>\n",
       "      <td>BMG_ED_DSDS12004</td>\n",
       "      <td>BMG_DS001013</td>\n",
       "      <td>BMG_DS001798</td>\n",
       "      <td>Disease Ontology</td>\n",
       "      <td>Disease-Disease</td>\n",
       "    </tr>\n",
       "    <tr>\n",
       "      <th>12004</th>\n",
       "      <td>BMG_ED_DSDS12005</td>\n",
       "      <td>BMG_DS001548</td>\n",
       "      <td>BMG_DS029870</td>\n",
       "      <td>Disease Ontology</td>\n",
       "      <td>Disease-Disease</td>\n",
       "    </tr>\n",
       "    <tr>\n",
       "      <th>12005</th>\n",
       "      <td>BMG_ED_DSDS12006</td>\n",
       "      <td>BMG_DS029454</td>\n",
       "      <td>BMG_DS000495</td>\n",
       "      <td>Disease Ontology</td>\n",
       "      <td>Disease-Disease</td>\n",
       "    </tr>\n",
       "  </tbody>\n",
       "</table>\n",
       "<p>12006 rows × 5 columns</p>\n",
       "</div>"
      ],
      "text/plain": [
       "      BioMedGraphica_ID       From_ID         To_ID            Source  \\\n",
       "0      BMG_ED_DSDS00001  BMG_DS001351  BMG_DS014402  Disease Ontology   \n",
       "1      BMG_ED_DSDS00002  BMG_DS001351  BMG_DS018124  Disease Ontology   \n",
       "2      BMG_ED_DSDS00003  BMG_DS001351  BMG_DS031778  Disease Ontology   \n",
       "3      BMG_ED_DSDS00004  BMG_DS001351  BMG_DS034251  Disease Ontology   \n",
       "4      BMG_ED_DSDS00005  BMG_DS001351  BMG_DS034252  Disease Ontology   \n",
       "...                 ...           ...           ...               ...   \n",
       "12001  BMG_ED_DSDS12002  BMG_DS034368  BMG_DS004485  Disease Ontology   \n",
       "12002  BMG_ED_DSDS12003  BMG_DS002177  BMG_DS004255  Disease Ontology   \n",
       "12003  BMG_ED_DSDS12004  BMG_DS001013  BMG_DS001798  Disease Ontology   \n",
       "12004  BMG_ED_DSDS12005  BMG_DS001548  BMG_DS029870  Disease Ontology   \n",
       "12005  BMG_ED_DSDS12006  BMG_DS029454  BMG_DS000495  Disease Ontology   \n",
       "\n",
       "                  Type  \n",
       "0      Disease-Disease  \n",
       "1      Disease-Disease  \n",
       "2      Disease-Disease  \n",
       "3      Disease-Disease  \n",
       "4      Disease-Disease  \n",
       "...                ...  \n",
       "12001  Disease-Disease  \n",
       "12002  Disease-Disease  \n",
       "12003  Disease-Disease  \n",
       "12004  Disease-Disease  \n",
       "12005  Disease-Disease  \n",
       "\n",
       "[12006 rows x 5 columns]"
      ]
     },
     "execution_count": 7,
     "metadata": {},
     "output_type": "execute_result"
    }
   ],
   "source": [
    "disease_disease['Source'] = 'Disease Ontology'\n",
    "disease_disease['Type'] = 'Disease-Disease'\n",
    "\n",
    "max_length = len(str(len(disease_disease)))\n",
    "disease_disease['BioMedGraphica_ID'] = ['BMG_ED_DSDS' + str(i).zfill(max_length) for i in range(1, len(disease_disease) + 1)]\n",
    "columns = ['BioMedGraphica_ID'] + [col for col in disease_disease.columns if col != 'BioMedGraphica_ID']  # re-order columns\n",
    "disease_disease = disease_disease[columns]\n",
    "disease_disease"
   ]
  },
  {
   "cell_type": "code",
   "execution_count": 8,
   "metadata": {},
   "outputs": [
    {
     "name": "stdout",
     "output_type": "stream",
     "text": [
      "Data has been saved to D:\\RA\\BMG\\BioMedGraphica\\Relation\\Disease-Disease\\BioMedGraphica_Disease_Disease.csv\n"
     ]
    }
   ],
   "source": [
    "import os\n",
    "from pathlib import Path\n",
    "\n",
    "# get the current working directory\n",
    "current_working_dir = Path(os.getcwd()).resolve()\n",
    "\n",
    "# get the output directory\n",
    "grandparent_dir = current_working_dir.parent.parent.parent\n",
    "\n",
    "target_folder = grandparent_dir / 'BioMedGraphica' / 'Relation' / 'Disease-Disease'\n",
    "if not target_folder.exists():\n",
    "    target_folder.mkdir(parents=True)\n",
    "    print(f\"Folder {target_folder} has been created.\")\n",
    "\n",
    "output_file_path = target_folder / 'BioMedGraphica_Disease_Disease.csv'\n",
    "disease_disease.to_csv(output_file_path, index=False)\n",
    "print(f\"Data has been saved to {output_file_path}\")"
   ]
  }
 ],
 "metadata": {
  "kernelspec": {
   "display_name": "base",
   "language": "python",
   "name": "python3"
  },
  "language_info": {
   "codemirror_mode": {
    "name": "ipython",
    "version": 3
   },
   "file_extension": ".py",
   "mimetype": "text/x-python",
   "name": "python",
   "nbconvert_exporter": "python",
   "pygments_lexer": "ipython3",
   "version": "3.9.19"
  }
 },
 "nbformat": 4,
 "nbformat_minor": 2
}
