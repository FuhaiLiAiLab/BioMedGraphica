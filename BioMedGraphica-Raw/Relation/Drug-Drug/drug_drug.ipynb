{
 "cells": [
  {
   "cell_type": "markdown",
   "metadata": {},
   "source": [
    "### DrugBank"
   ]
  },
  {
   "cell_type": "code",
   "execution_count": null,
   "metadata": {},
   "outputs": [
    {
     "name": "stdout",
     "output_type": "stream",
     "text": [
      "Drug-drug interactions have been saved to 'drug_drug.csv'\n"
     ]
    }
   ],
   "source": [
    "# Download Link: https://go.drugbank.com/releases/5-1-13/downloads/all-full-database\n",
    "# Download Date: 2025-03-21\n",
    "# Download Version: 2025-03-02\n",
    "\n",
    "# cost time: 193min\n",
    "import os\n",
    "import pandas as pd\n",
    "from bs4 import BeautifulSoup\n",
    "\n",
    "# https://github.com/mims-harvard/PrimeKG/blob/main/datasets/processing_scripts/drugbank_drug_drug.py \n",
    "\n",
    "xml_filename = 'full database.xml'\n",
    "\n",
    "with open(xml_filename, 'r', encoding='utf-8') as file:\n",
    "    xml_data = file.read()\n",
    "\n",
    "soup = BeautifulSoup(xml_data, \"xml\")\n",
    "\n",
    "interactions_data = []\n",
    "\n",
    "for drug in soup.find_all(\"drug\"):\n",
    "    drug_name = drug.find(\"drugbank-id\").text\n",
    "    interactions = drug.find_all(\"drug-interaction\")\n",
    "    if not interactions:\n",
    "        continue\n",
    "    for interaction in interactions:\n",
    "        interaction_id = interaction.find(\"drugbank-id\").text\n",
    "        interactions_data.append([drug_name, interaction_id])\n",
    "\n",
    "interactions_df = pd.DataFrame(interactions_data, columns=['drug1', 'drug2'])\n",
    "\n",
    "interactions_df.to_csv('drug_drug.csv', index=False)\n",
    "print(\"Drug-drug interactions have been saved to 'drug_drug.csv'\")"
   ]
  },
  {
   "cell_type": "code",
   "execution_count": 1,
   "metadata": {},
   "outputs": [
    {
     "data": {
      "application/vnd.microsoft.datawrangler.viewer.v0+json": {
       "columns": [
        {
         "name": "index",
         "rawType": "int64",
         "type": "integer"
        },
        {
         "name": "drug1",
         "rawType": "object",
         "type": "string"
        },
        {
         "name": "drug2",
         "rawType": "object",
         "type": "string"
        }
       ],
       "conversionMethod": "pd.DataFrame",
       "ref": "fd84aa36-9cc0-4cbc-b5e4-944bbcb3ea55",
       "rows": [
        [
         "0",
         "DB00001",
         "DB06605"
        ],
        [
         "1",
         "DB00001",
         "DB06695"
        ],
        [
         "2",
         "DB00001",
         "DB01254"
        ],
        [
         "3",
         "DB00001",
         "DB01609"
        ],
        [
         "4",
         "DB00001",
         "DB01586"
        ],
        [
         "5",
         "DB00001",
         "DB02123"
        ],
        [
         "6",
         "DB00001",
         "DB02659"
        ],
        [
         "7",
         "DB00001",
         "DB02691"
        ],
        [
         "8",
         "DB00001",
         "DB03619"
        ],
        [
         "9",
         "DB00001",
         "DB04348"
        ],
        [
         "10",
         "DB00001",
         "DB05990"
        ],
        [
         "11",
         "DB00001",
         "DB06777"
        ],
        [
         "12",
         "DB00001",
         "DB08833"
        ],
        [
         "13",
         "DB00001",
         "DB08834"
        ],
        [
         "14",
         "DB00001",
         "DB08857"
        ],
        [
         "15",
         "DB00001",
         "DB11622"
        ],
        [
         "16",
         "DB00001",
         "DB11789"
        ],
        [
         "17",
         "DB00001",
         "DB09075"
        ],
        [
         "18",
         "DB00001",
         "DB09053"
        ],
        [
         "19",
         "DB00001",
         "DB08935"
        ],
        [
         "20",
         "DB00001",
         "DB06228"
        ],
        [
         "21",
         "DB00001",
         "DB06206"
        ],
        [
         "22",
         "DB00001",
         "DB09070"
        ],
        [
         "23",
         "DB00001",
         "DB00932"
        ],
        [
         "24",
         "DB00001",
         "DB00013"
        ],
        [
         "25",
         "DB00001",
         "DB00163"
        ],
        [
         "26",
         "DB00001",
         "DB09030"
        ],
        [
         "27",
         "DB00001",
         "DB01381"
        ],
        [
         "28",
         "DB00001",
         "DB01181"
        ],
        [
         "29",
         "DB00001",
         "DB00468"
        ],
        [
         "30",
         "DB00001",
         "DB00908"
        ],
        [
         "31",
         "DB00001",
         "DB00675"
        ],
        [
         "32",
         "DB00001",
         "DB00539"
        ],
        [
         "33",
         "DB00001",
         "DB00806"
        ],
        [
         "34",
         "DB00001",
         "DB00686"
        ],
        [
         "35",
         "DB00001",
         "DB00583"
        ],
        [
         "36",
         "DB00001",
         "DB00255"
        ],
        [
         "37",
         "DB00001",
         "DB00269"
        ],
        [
         "38",
         "DB00001",
         "DB00286"
        ],
        [
         "39",
         "DB00001",
         "DB01357"
        ],
        [
         "40",
         "DB00001",
         "DB04574"
        ],
        [
         "41",
         "DB00001",
         "DB04575"
        ],
        [
         "42",
         "DB00001",
         "DB07931"
        ],
        [
         "43",
         "DB00001",
         "DB09317"
        ],
        [
         "44",
         "DB00001",
         "DB09318"
        ],
        [
         "45",
         "DB00001",
         "DB09369"
        ],
        [
         "46",
         "DB00001",
         "DB09381"
        ],
        [
         "47",
         "DB00001",
         "DB11478"
        ],
        [
         "48",
         "DB00001",
         "DB11674"
        ],
        [
         "49",
         "DB00001",
         "DB13143"
        ]
       ],
       "shape": {
        "columns": 2,
        "rows": 2855848
       }
      },
      "text/html": [
       "<div>\n",
       "<style scoped>\n",
       "    .dataframe tbody tr th:only-of-type {\n",
       "        vertical-align: middle;\n",
       "    }\n",
       "\n",
       "    .dataframe tbody tr th {\n",
       "        vertical-align: top;\n",
       "    }\n",
       "\n",
       "    .dataframe thead th {\n",
       "        text-align: right;\n",
       "    }\n",
       "</style>\n",
       "<table border=\"1\" class=\"dataframe\">\n",
       "  <thead>\n",
       "    <tr style=\"text-align: right;\">\n",
       "      <th></th>\n",
       "      <th>drug1</th>\n",
       "      <th>drug2</th>\n",
       "    </tr>\n",
       "  </thead>\n",
       "  <tbody>\n",
       "    <tr>\n",
       "      <th>0</th>\n",
       "      <td>DB00001</td>\n",
       "      <td>DB06605</td>\n",
       "    </tr>\n",
       "    <tr>\n",
       "      <th>1</th>\n",
       "      <td>DB00001</td>\n",
       "      <td>DB06695</td>\n",
       "    </tr>\n",
       "    <tr>\n",
       "      <th>2</th>\n",
       "      <td>DB00001</td>\n",
       "      <td>DB01254</td>\n",
       "    </tr>\n",
       "    <tr>\n",
       "      <th>3</th>\n",
       "      <td>DB00001</td>\n",
       "      <td>DB01609</td>\n",
       "    </tr>\n",
       "    <tr>\n",
       "      <th>4</th>\n",
       "      <td>DB00001</td>\n",
       "      <td>DB01586</td>\n",
       "    </tr>\n",
       "    <tr>\n",
       "      <th>...</th>\n",
       "      <td>...</td>\n",
       "      <td>...</td>\n",
       "    </tr>\n",
       "    <tr>\n",
       "      <th>2855843</th>\n",
       "      <td>DB19413</td>\n",
       "      <td>DB13509</td>\n",
       "    </tr>\n",
       "    <tr>\n",
       "      <th>2855844</th>\n",
       "      <td>DB19413</td>\n",
       "      <td>DB13538</td>\n",
       "    </tr>\n",
       "    <tr>\n",
       "      <th>2855845</th>\n",
       "      <td>DB19413</td>\n",
       "      <td>DB13612</td>\n",
       "    </tr>\n",
       "    <tr>\n",
       "      <th>2855846</th>\n",
       "      <td>DB19413</td>\n",
       "      <td>DB14006</td>\n",
       "    </tr>\n",
       "    <tr>\n",
       "      <th>2855847</th>\n",
       "      <td>DB19413</td>\n",
       "      <td>DB14026</td>\n",
       "    </tr>\n",
       "  </tbody>\n",
       "</table>\n",
       "<p>2855848 rows × 2 columns</p>\n",
       "</div>"
      ],
      "text/plain": [
       "           drug1    drug2\n",
       "0        DB00001  DB06605\n",
       "1        DB00001  DB06695\n",
       "2        DB00001  DB01254\n",
       "3        DB00001  DB01609\n",
       "4        DB00001  DB01586\n",
       "...          ...      ...\n",
       "2855843  DB19413  DB13509\n",
       "2855844  DB19413  DB13538\n",
       "2855845  DB19413  DB13612\n",
       "2855846  DB19413  DB14006\n",
       "2855847  DB19413  DB14026\n",
       "\n",
       "[2855848 rows x 2 columns]"
      ]
     },
     "execution_count": 1,
     "metadata": {},
     "output_type": "execute_result"
    }
   ],
   "source": [
    "import pandas as pd\n",
    "\n",
    "df_d_d = pd.read_csv('drug_drug.csv')\n",
    "df_d_d"
   ]
  },
  {
   "cell_type": "markdown",
   "metadata": {},
   "source": [
    "### BioMedGraphica ID"
   ]
  },
  {
   "cell_type": "code",
   "execution_count": 2,
   "metadata": {},
   "outputs": [],
   "source": [
    "import pandas as pd\n",
    "import os\n",
    "from pathlib import Path\n",
    "\n",
    "current_working_dir = Path(os.getcwd()).resolve()\n",
    "grandparent_dir = current_working_dir.parent.parent.parent\n",
    "target_dir_drug = grandparent_dir / 'BioMedGraphica' / 'Entity' / 'Drug' / 'BioMedGraphica_Drug.csv'\n",
    "biomedgraphica_drug = pd.read_csv(target_dir_drug, dtype=str)"
   ]
  },
  {
   "cell_type": "markdown",
   "metadata": {},
   "source": [
    "### DrugBank Mapping"
   ]
  },
  {
   "cell_type": "code",
   "execution_count": 3,
   "metadata": {},
   "outputs": [
    {
     "name": "stderr",
     "output_type": "stream",
     "text": [
      "C:\\Users\\shunn\\AppData\\Local\\Temp\\ipykernel_3232\\2417135594.py:2: SettingWithCopyWarning: \n",
      "A value is trying to be set on a copy of a slice from a DataFrame\n",
      "\n",
      "See the caveats in the documentation: https://pandas.pydata.org/pandas-docs/stable/user_guide/indexing.html#returning-a-view-versus-a-copy\n",
      "  drugbank_drug_id.dropna(subset = ['DrugBank_ID'], inplace=True)\n"
     ]
    }
   ],
   "source": [
    "drugbank_drug_id = biomedgraphica_drug[['DrugBank_ID', 'BioMedGraphica_ID']]\n",
    "drugbank_drug_id.dropna(subset = ['DrugBank_ID'], inplace=True)\n",
    "drugbank_drug_id = drugbank_drug_id.assign(drugbank_id=drugbank_drug_id['DrugBank_ID'].str.split(';')).explode('DrugBank_ID')\n",
    "\n",
    "drugbank_drug_to_individualid = biomedgraphica_drug.groupby('DrugBank_ID')['BioMedGraphica_ID'].apply(lambda x: ';'.join(x.dropna().unique())).to_dict()"
   ]
  },
  {
   "cell_type": "code",
   "execution_count": 4,
   "metadata": {},
   "outputs": [
    {
     "data": {
      "application/vnd.microsoft.datawrangler.viewer.v0+json": {
       "columns": [
        {
         "name": "index",
         "rawType": "int64",
         "type": "integer"
        },
        {
         "name": "drug1",
         "rawType": "object",
         "type": "string"
        },
        {
         "name": "drug2",
         "rawType": "object",
         "type": "string"
        },
        {
         "name": "From_ID",
         "rawType": "object",
         "type": "unknown"
        },
        {
         "name": "To_ID",
         "rawType": "object",
         "type": "unknown"
        }
       ],
       "conversionMethod": "pd.DataFrame",
       "ref": "7e5ad492-5c06-4400-a32a-ea93730813e3",
       "rows": [
        [
         "0",
         "DB00001",
         "DB06605",
         "BMG_DG224733",
         "BMG_DG002602"
        ],
        [
         "1",
         "DB00001",
         "DB06695",
         "BMG_DG224733",
         "BMG_DG083812;BMG_DG176217"
        ],
        [
         "2",
         "DB00001",
         "DB01254",
         "BMG_DG224733",
         "BMG_DG134958"
        ],
        [
         "3",
         "DB00001",
         "DB01609",
         "BMG_DG224733",
         "BMG_DG116501;BMG_DG166533"
        ],
        [
         "4",
         "DB00001",
         "DB01586",
         "BMG_DG224733",
         "BMG_DG136255"
        ],
        [
         "5",
         "DB00001",
         "DB02123",
         "BMG_DG224733",
         "BMG_DG022454"
        ],
        [
         "6",
         "DB00001",
         "DB02659",
         "BMG_DG224733",
         "BMG_DG118168"
        ],
        [
         "7",
         "DB00001",
         "DB02691",
         "BMG_DG224733",
         "BMG_DG164659"
        ],
        [
         "8",
         "DB00001",
         "DB03619",
         "BMG_DG224733",
         "BMG_DG118384"
        ],
        [
         "9",
         "DB00001",
         "DB04348",
         "BMG_DG224733",
         "BMG_DG179357"
        ],
        [
         "10",
         "DB00001",
         "DB05990",
         "BMG_DG224733",
         "BMG_DG146962"
        ],
        [
         "11",
         "DB00001",
         "DB06777",
         "BMG_DG224733",
         "BMG_DG001658"
        ],
        [
         "12",
         "DB00001",
         "DB08833",
         "BMG_DG224733",
         "BMG_DG140008;BMG_DG262665"
        ],
        [
         "13",
         "DB00001",
         "DB08834",
         "BMG_DG224733",
         "BMG_DG217743"
        ],
        [
         "14",
         "DB00001",
         "DB08857",
         "BMG_DG224733",
         "BMG_DG262673"
        ],
        [
         "15",
         "DB00001",
         "DB11622",
         "BMG_DG224733",
         "BMG_DG179314"
        ],
        [
         "16",
         "DB00001",
         "DB11789",
         "BMG_DG224733",
         "BMG_DG154476"
        ],
        [
         "17",
         "DB00001",
         "DB09075",
         "BMG_DG224733",
         "BMG_DG004114"
        ],
        [
         "18",
         "DB00001",
         "DB09053",
         "BMG_DG224733",
         "BMG_DG124891"
        ],
        [
         "19",
         "DB00001",
         "DB08935",
         "BMG_DG224733",
         "BMG_DG222819"
        ],
        [
         "20",
         "DB00001",
         "DB06228",
         "BMG_DG224733",
         "BMG_DG218467"
        ],
        [
         "21",
         "DB00001",
         "DB06206",
         "BMG_DG224733",
         "BMG_DG182916"
        ],
        [
         "22",
         "DB00001",
         "DB09070",
         "BMG_DG224733",
         "BMG_DG145456"
        ],
        [
         "23",
         "DB00001",
         "DB00932",
         "BMG_DG224733",
         "BMG_DG165344"
        ],
        [
         "24",
         "DB00001",
         "DB00013",
         "BMG_DG224733",
         "BMG_DG224713"
        ],
        [
         "25",
         "DB00001",
         "DB00163",
         "BMG_DG224733",
         "BMG_DG092882"
        ],
        [
         "26",
         "DB00001",
         "DB09030",
         "BMG_DG224733",
         "BMG_DG000713"
        ],
        [
         "27",
         "DB00001",
         "DB01381",
         "BMG_DG224733",
         "BMG_DG224781"
        ],
        [
         "28",
         "DB00001",
         "DB01181",
         "BMG_DG224733",
         "BMG_DG139232"
        ],
        [
         "29",
         "DB00001",
         "DB00468",
         "BMG_DG224733",
         "BMG_DG133924"
        ],
        [
         "30",
         "DB00001",
         "DB00908",
         "BMG_DG224733",
         "BMG_DG143292"
        ],
        [
         "31",
         "DB00001",
         "DB00675",
         "BMG_DG224733",
         "BMG_DG129693"
        ],
        [
         "32",
         "DB00001",
         "DB00539",
         "BMG_DG224733",
         "BMG_DG132120"
        ],
        [
         "33",
         "DB00001",
         "DB00806",
         "BMG_DG224733",
         "BMG_DG150341"
        ],
        [
         "34",
         "DB00001",
         "DB00686",
         "BMG_DG224733",
         "BMG_DG139552"
        ],
        [
         "35",
         "DB00001",
         "DB00583",
         "BMG_DG224733",
         "BMG_DG007978"
        ],
        [
         "36",
         "DB00001",
         "DB00255",
         "BMG_DG224733",
         "BMG_DG134825;BMG_DG147224"
        ],
        [
         "37",
         "DB00001",
         "DB00269",
         "BMG_DG224733",
         "BMG_DG010558"
        ],
        [
         "38",
         "DB00001",
         "DB00286",
         "BMG_DG224733",
         "BMG_DG224686"
        ],
        [
         "39",
         "DB00001",
         "DB01357",
         "BMG_DG224733",
         "BMG_DG173111"
        ],
        [
         "40",
         "DB00001",
         "DB04574",
         "BMG_DG224733",
         "BMG_DG131970"
        ],
        [
         "41",
         "DB00001",
         "DB04575",
         "BMG_DG224733",
         "BMG_DG207425"
        ],
        [
         "42",
         "DB00001",
         "DB07931",
         "BMG_DG224733",
         "BMG_DG112498"
        ],
        [
         "43",
         "DB00001",
         "DB09317",
         "BMG_DG224733",
         "BMG_DG222867"
        ],
        [
         "44",
         "DB00001",
         "DB09318",
         "BMG_DG224733",
         "BMG_DG222868"
        ],
        [
         "45",
         "DB00001",
         "DB09369",
         "BMG_DG224733",
         "BMG_DG262694"
        ],
        [
         "46",
         "DB00001",
         "DB09381",
         "BMG_DG224733",
         "BMG_DG222881"
        ],
        [
         "47",
         "DB00001",
         "DB11478",
         "BMG_DG224733",
         "BMG_DG131893;BMG_DG262977"
        ],
        [
         "48",
         "DB00001",
         "DB11674",
         "BMG_DG224733",
         "BMG_DG209230"
        ],
        [
         "49",
         "DB00001",
         "DB13143",
         "BMG_DG224733",
         "BMG_DG170225"
        ]
       ],
       "shape": {
        "columns": 4,
        "rows": 2855848
       }
      },
      "text/html": [
       "<div>\n",
       "<style scoped>\n",
       "    .dataframe tbody tr th:only-of-type {\n",
       "        vertical-align: middle;\n",
       "    }\n",
       "\n",
       "    .dataframe tbody tr th {\n",
       "        vertical-align: top;\n",
       "    }\n",
       "\n",
       "    .dataframe thead th {\n",
       "        text-align: right;\n",
       "    }\n",
       "</style>\n",
       "<table border=\"1\" class=\"dataframe\">\n",
       "  <thead>\n",
       "    <tr style=\"text-align: right;\">\n",
       "      <th></th>\n",
       "      <th>drug1</th>\n",
       "      <th>drug2</th>\n",
       "      <th>From_ID</th>\n",
       "      <th>To_ID</th>\n",
       "    </tr>\n",
       "  </thead>\n",
       "  <tbody>\n",
       "    <tr>\n",
       "      <th>0</th>\n",
       "      <td>DB00001</td>\n",
       "      <td>DB06605</td>\n",
       "      <td>BMG_DG224733</td>\n",
       "      <td>BMG_DG002602</td>\n",
       "    </tr>\n",
       "    <tr>\n",
       "      <th>1</th>\n",
       "      <td>DB00001</td>\n",
       "      <td>DB06695</td>\n",
       "      <td>BMG_DG224733</td>\n",
       "      <td>BMG_DG083812;BMG_DG176217</td>\n",
       "    </tr>\n",
       "    <tr>\n",
       "      <th>2</th>\n",
       "      <td>DB00001</td>\n",
       "      <td>DB01254</td>\n",
       "      <td>BMG_DG224733</td>\n",
       "      <td>BMG_DG134958</td>\n",
       "    </tr>\n",
       "    <tr>\n",
       "      <th>3</th>\n",
       "      <td>DB00001</td>\n",
       "      <td>DB01609</td>\n",
       "      <td>BMG_DG224733</td>\n",
       "      <td>BMG_DG116501;BMG_DG166533</td>\n",
       "    </tr>\n",
       "    <tr>\n",
       "      <th>4</th>\n",
       "      <td>DB00001</td>\n",
       "      <td>DB01586</td>\n",
       "      <td>BMG_DG224733</td>\n",
       "      <td>BMG_DG136255</td>\n",
       "    </tr>\n",
       "    <tr>\n",
       "      <th>...</th>\n",
       "      <td>...</td>\n",
       "      <td>...</td>\n",
       "      <td>...</td>\n",
       "      <td>...</td>\n",
       "    </tr>\n",
       "    <tr>\n",
       "      <th>2855843</th>\n",
       "      <td>DB19413</td>\n",
       "      <td>DB13509</td>\n",
       "      <td>BMG_DG269087</td>\n",
       "      <td>BMG_DG188118;BMG_DG263353</td>\n",
       "    </tr>\n",
       "    <tr>\n",
       "      <th>2855844</th>\n",
       "      <td>DB19413</td>\n",
       "      <td>DB13538</td>\n",
       "      <td>BMG_DG269087</td>\n",
       "      <td>BMG_DG181832;BMG_DG263379</td>\n",
       "    </tr>\n",
       "    <tr>\n",
       "      <th>2855845</th>\n",
       "      <td>DB19413</td>\n",
       "      <td>DB13612</td>\n",
       "      <td>BMG_DG269087</td>\n",
       "      <td>BMG_DG117810;BMG_DG263448</td>\n",
       "    </tr>\n",
       "    <tr>\n",
       "      <th>2855846</th>\n",
       "      <td>DB19413</td>\n",
       "      <td>DB14006</td>\n",
       "      <td>BMG_DG269087</td>\n",
       "      <td>BMG_DG165432;BMG_DG263774</td>\n",
       "    </tr>\n",
       "    <tr>\n",
       "      <th>2855847</th>\n",
       "      <td>DB19413</td>\n",
       "      <td>DB14026</td>\n",
       "      <td>BMG_DG269087</td>\n",
       "      <td>BMG_DG263791</td>\n",
       "    </tr>\n",
       "  </tbody>\n",
       "</table>\n",
       "<p>2855848 rows × 4 columns</p>\n",
       "</div>"
      ],
      "text/plain": [
       "           drug1    drug2       From_ID                      To_ID\n",
       "0        DB00001  DB06605  BMG_DG224733               BMG_DG002602\n",
       "1        DB00001  DB06695  BMG_DG224733  BMG_DG083812;BMG_DG176217\n",
       "2        DB00001  DB01254  BMG_DG224733               BMG_DG134958\n",
       "3        DB00001  DB01609  BMG_DG224733  BMG_DG116501;BMG_DG166533\n",
       "4        DB00001  DB01586  BMG_DG224733               BMG_DG136255\n",
       "...          ...      ...           ...                        ...\n",
       "2855843  DB19413  DB13509  BMG_DG269087  BMG_DG188118;BMG_DG263353\n",
       "2855844  DB19413  DB13538  BMG_DG269087  BMG_DG181832;BMG_DG263379\n",
       "2855845  DB19413  DB13612  BMG_DG269087  BMG_DG117810;BMG_DG263448\n",
       "2855846  DB19413  DB14006  BMG_DG269087  BMG_DG165432;BMG_DG263774\n",
       "2855847  DB19413  DB14026  BMG_DG269087               BMG_DG263791\n",
       "\n",
       "[2855848 rows x 4 columns]"
      ]
     },
     "execution_count": 4,
     "metadata": {},
     "output_type": "execute_result"
    }
   ],
   "source": [
    "df_d_d['From_ID'] = df_d_d['drug1'].map(drugbank_drug_to_individualid)\n",
    "df_d_d['To_ID'] = df_d_d['drug2'].map(drugbank_drug_to_individualid)\n",
    "df_d_d"
   ]
  },
  {
   "cell_type": "code",
   "execution_count": 5,
   "metadata": {},
   "outputs": [
    {
     "name": "stderr",
     "output_type": "stream",
     "text": [
      "C:\\Users\\shunn\\AppData\\Local\\Temp\\ipykernel_3232\\3325757941.py:3: SettingWithCopyWarning: \n",
      "A value is trying to be set on a copy of a slice from a DataFrame\n",
      "\n",
      "See the caveats in the documentation: https://pandas.pydata.org/pandas-docs/stable/user_guide/indexing.html#returning-a-view-versus-a-copy\n",
      "  df_drug_drug.dropna(subset=['From_ID'], inplace=True)\n",
      "C:\\Users\\shunn\\AppData\\Local\\Temp\\ipykernel_3232\\3325757941.py:4: SettingWithCopyWarning: \n",
      "A value is trying to be set on a copy of a slice from a DataFrame\n",
      "\n",
      "See the caveats in the documentation: https://pandas.pydata.org/pandas-docs/stable/user_guide/indexing.html#returning-a-view-versus-a-copy\n",
      "  df_drug_drug.dropna(subset=['To_ID'], inplace=True)\n"
     ]
    },
    {
     "data": {
      "application/vnd.microsoft.datawrangler.viewer.v0+json": {
       "columns": [
        {
         "name": "index",
         "rawType": "int64",
         "type": "integer"
        },
        {
         "name": "From_ID",
         "rawType": "object",
         "type": "string"
        },
        {
         "name": "To_ID",
         "rawType": "object",
         "type": "string"
        }
       ],
       "conversionMethod": "pd.DataFrame",
       "ref": "9cc1739c-6b5b-40d0-9e88-56ab906f9522",
       "rows": [
        [
         "0",
         "BMG_DG224733",
         "BMG_DG002602"
        ],
        [
         "1",
         "BMG_DG224733",
         "BMG_DG083812;BMG_DG176217"
        ],
        [
         "2",
         "BMG_DG224733",
         "BMG_DG134958"
        ],
        [
         "3",
         "BMG_DG224733",
         "BMG_DG116501;BMG_DG166533"
        ],
        [
         "4",
         "BMG_DG224733",
         "BMG_DG136255"
        ],
        [
         "5",
         "BMG_DG224733",
         "BMG_DG022454"
        ],
        [
         "6",
         "BMG_DG224733",
         "BMG_DG118168"
        ],
        [
         "7",
         "BMG_DG224733",
         "BMG_DG164659"
        ],
        [
         "8",
         "BMG_DG224733",
         "BMG_DG118384"
        ],
        [
         "9",
         "BMG_DG224733",
         "BMG_DG179357"
        ],
        [
         "10",
         "BMG_DG224733",
         "BMG_DG146962"
        ],
        [
         "11",
         "BMG_DG224733",
         "BMG_DG001658"
        ],
        [
         "12",
         "BMG_DG224733",
         "BMG_DG140008;BMG_DG262665"
        ],
        [
         "13",
         "BMG_DG224733",
         "BMG_DG217743"
        ],
        [
         "14",
         "BMG_DG224733",
         "BMG_DG262673"
        ],
        [
         "15",
         "BMG_DG224733",
         "BMG_DG179314"
        ],
        [
         "16",
         "BMG_DG224733",
         "BMG_DG154476"
        ],
        [
         "17",
         "BMG_DG224733",
         "BMG_DG004114"
        ],
        [
         "18",
         "BMG_DG224733",
         "BMG_DG124891"
        ],
        [
         "19",
         "BMG_DG224733",
         "BMG_DG222819"
        ],
        [
         "20",
         "BMG_DG224733",
         "BMG_DG218467"
        ],
        [
         "21",
         "BMG_DG224733",
         "BMG_DG182916"
        ],
        [
         "22",
         "BMG_DG224733",
         "BMG_DG145456"
        ],
        [
         "23",
         "BMG_DG224733",
         "BMG_DG165344"
        ],
        [
         "24",
         "BMG_DG224733",
         "BMG_DG224713"
        ],
        [
         "25",
         "BMG_DG224733",
         "BMG_DG092882"
        ],
        [
         "26",
         "BMG_DG224733",
         "BMG_DG000713"
        ],
        [
         "27",
         "BMG_DG224733",
         "BMG_DG224781"
        ],
        [
         "28",
         "BMG_DG224733",
         "BMG_DG139232"
        ],
        [
         "29",
         "BMG_DG224733",
         "BMG_DG133924"
        ],
        [
         "30",
         "BMG_DG224733",
         "BMG_DG143292"
        ],
        [
         "31",
         "BMG_DG224733",
         "BMG_DG129693"
        ],
        [
         "32",
         "BMG_DG224733",
         "BMG_DG132120"
        ],
        [
         "33",
         "BMG_DG224733",
         "BMG_DG150341"
        ],
        [
         "34",
         "BMG_DG224733",
         "BMG_DG139552"
        ],
        [
         "35",
         "BMG_DG224733",
         "BMG_DG007978"
        ],
        [
         "36",
         "BMG_DG224733",
         "BMG_DG134825;BMG_DG147224"
        ],
        [
         "37",
         "BMG_DG224733",
         "BMG_DG010558"
        ],
        [
         "38",
         "BMG_DG224733",
         "BMG_DG224686"
        ],
        [
         "39",
         "BMG_DG224733",
         "BMG_DG173111"
        ],
        [
         "40",
         "BMG_DG224733",
         "BMG_DG131970"
        ],
        [
         "41",
         "BMG_DG224733",
         "BMG_DG207425"
        ],
        [
         "42",
         "BMG_DG224733",
         "BMG_DG112498"
        ],
        [
         "43",
         "BMG_DG224733",
         "BMG_DG222867"
        ],
        [
         "44",
         "BMG_DG224733",
         "BMG_DG222868"
        ],
        [
         "45",
         "BMG_DG224733",
         "BMG_DG262694"
        ],
        [
         "46",
         "BMG_DG224733",
         "BMG_DG222881"
        ],
        [
         "47",
         "BMG_DG224733",
         "BMG_DG131893;BMG_DG262977"
        ],
        [
         "48",
         "BMG_DG224733",
         "BMG_DG209230"
        ],
        [
         "49",
         "BMG_DG224733",
         "BMG_DG170225"
        ]
       ],
       "shape": {
        "columns": 2,
        "rows": 2845794
       }
      },
      "text/html": [
       "<div>\n",
       "<style scoped>\n",
       "    .dataframe tbody tr th:only-of-type {\n",
       "        vertical-align: middle;\n",
       "    }\n",
       "\n",
       "    .dataframe tbody tr th {\n",
       "        vertical-align: top;\n",
       "    }\n",
       "\n",
       "    .dataframe thead th {\n",
       "        text-align: right;\n",
       "    }\n",
       "</style>\n",
       "<table border=\"1\" class=\"dataframe\">\n",
       "  <thead>\n",
       "    <tr style=\"text-align: right;\">\n",
       "      <th></th>\n",
       "      <th>From_ID</th>\n",
       "      <th>To_ID</th>\n",
       "    </tr>\n",
       "  </thead>\n",
       "  <tbody>\n",
       "    <tr>\n",
       "      <th>0</th>\n",
       "      <td>BMG_DG224733</td>\n",
       "      <td>BMG_DG002602</td>\n",
       "    </tr>\n",
       "    <tr>\n",
       "      <th>1</th>\n",
       "      <td>BMG_DG224733</td>\n",
       "      <td>BMG_DG083812;BMG_DG176217</td>\n",
       "    </tr>\n",
       "    <tr>\n",
       "      <th>2</th>\n",
       "      <td>BMG_DG224733</td>\n",
       "      <td>BMG_DG134958</td>\n",
       "    </tr>\n",
       "    <tr>\n",
       "      <th>3</th>\n",
       "      <td>BMG_DG224733</td>\n",
       "      <td>BMG_DG116501;BMG_DG166533</td>\n",
       "    </tr>\n",
       "    <tr>\n",
       "      <th>4</th>\n",
       "      <td>BMG_DG224733</td>\n",
       "      <td>BMG_DG136255</td>\n",
       "    </tr>\n",
       "    <tr>\n",
       "      <th>...</th>\n",
       "      <td>...</td>\n",
       "      <td>...</td>\n",
       "    </tr>\n",
       "    <tr>\n",
       "      <th>2855843</th>\n",
       "      <td>BMG_DG269087</td>\n",
       "      <td>BMG_DG188118;BMG_DG263353</td>\n",
       "    </tr>\n",
       "    <tr>\n",
       "      <th>2855844</th>\n",
       "      <td>BMG_DG269087</td>\n",
       "      <td>BMG_DG181832;BMG_DG263379</td>\n",
       "    </tr>\n",
       "    <tr>\n",
       "      <th>2855845</th>\n",
       "      <td>BMG_DG269087</td>\n",
       "      <td>BMG_DG117810;BMG_DG263448</td>\n",
       "    </tr>\n",
       "    <tr>\n",
       "      <th>2855846</th>\n",
       "      <td>BMG_DG269087</td>\n",
       "      <td>BMG_DG165432;BMG_DG263774</td>\n",
       "    </tr>\n",
       "    <tr>\n",
       "      <th>2855847</th>\n",
       "      <td>BMG_DG269087</td>\n",
       "      <td>BMG_DG263791</td>\n",
       "    </tr>\n",
       "  </tbody>\n",
       "</table>\n",
       "<p>2845794 rows × 2 columns</p>\n",
       "</div>"
      ],
      "text/plain": [
       "              From_ID                      To_ID\n",
       "0        BMG_DG224733               BMG_DG002602\n",
       "1        BMG_DG224733  BMG_DG083812;BMG_DG176217\n",
       "2        BMG_DG224733               BMG_DG134958\n",
       "3        BMG_DG224733  BMG_DG116501;BMG_DG166533\n",
       "4        BMG_DG224733               BMG_DG136255\n",
       "...               ...                        ...\n",
       "2855843  BMG_DG269087  BMG_DG188118;BMG_DG263353\n",
       "2855844  BMG_DG269087  BMG_DG181832;BMG_DG263379\n",
       "2855845  BMG_DG269087  BMG_DG117810;BMG_DG263448\n",
       "2855846  BMG_DG269087  BMG_DG165432;BMG_DG263774\n",
       "2855847  BMG_DG269087               BMG_DG263791\n",
       "\n",
       "[2845794 rows x 2 columns]"
      ]
     },
     "execution_count": 5,
     "metadata": {},
     "output_type": "execute_result"
    }
   ],
   "source": [
    "df_drug_drug = df_d_d[['From_ID', 'To_ID']]\n",
    "\n",
    "df_drug_drug.dropna(subset=['From_ID'], inplace=True)\n",
    "df_drug_drug.dropna(subset=['To_ID'], inplace=True)\n",
    "df_drug_drug"
   ]
  },
  {
   "cell_type": "code",
   "execution_count": 6,
   "metadata": {},
   "outputs": [
    {
     "name": "stderr",
     "output_type": "stream",
     "text": [
      "C:\\Users\\shunn\\AppData\\Local\\Temp\\ipykernel_3232\\1296804926.py:1: SettingWithCopyWarning: \n",
      "A value is trying to be set on a copy of a slice from a DataFrame.\n",
      "Try using .loc[row_indexer,col_indexer] = value instead\n",
      "\n",
      "See the caveats in the documentation: https://pandas.pydata.org/pandas-docs/stable/user_guide/indexing.html#returning-a-view-versus-a-copy\n",
      "  df_drug_drug['From_ID'] = df_drug_drug['From_ID'].str.split(';')\n",
      "C:\\Users\\shunn\\AppData\\Local\\Temp\\ipykernel_3232\\1296804926.py:2: SettingWithCopyWarning: \n",
      "A value is trying to be set on a copy of a slice from a DataFrame.\n",
      "Try using .loc[row_indexer,col_indexer] = value instead\n",
      "\n",
      "See the caveats in the documentation: https://pandas.pydata.org/pandas-docs/stable/user_guide/indexing.html#returning-a-view-versus-a-copy\n",
      "  df_drug_drug['To_ID'] = df_drug_drug['To_ID'].str.split(';')\n"
     ]
    },
    {
     "data": {
      "application/vnd.microsoft.datawrangler.viewer.v0+json": {
       "columns": [
        {
         "name": "index",
         "rawType": "int64",
         "type": "integer"
        },
        {
         "name": "From_ID",
         "rawType": "object",
         "type": "string"
        },
        {
         "name": "To_ID",
         "rawType": "object",
         "type": "string"
        }
       ],
       "conversionMethod": "pd.DataFrame",
       "ref": "2e4cf526-444a-4f20-9157-dd51818924b3",
       "rows": [
        [
         "0",
         "BMG_DG224733",
         "BMG_DG002602"
        ],
        [
         "1",
         "BMG_DG224733",
         "BMG_DG083812"
        ],
        [
         "2",
         "BMG_DG224733",
         "BMG_DG176217"
        ],
        [
         "3",
         "BMG_DG224733",
         "BMG_DG134958"
        ],
        [
         "4",
         "BMG_DG224733",
         "BMG_DG116501"
        ],
        [
         "5",
         "BMG_DG224733",
         "BMG_DG166533"
        ],
        [
         "6",
         "BMG_DG224733",
         "BMG_DG136255"
        ],
        [
         "7",
         "BMG_DG224733",
         "BMG_DG022454"
        ],
        [
         "8",
         "BMG_DG224733",
         "BMG_DG118168"
        ],
        [
         "9",
         "BMG_DG224733",
         "BMG_DG164659"
        ],
        [
         "10",
         "BMG_DG224733",
         "BMG_DG118384"
        ],
        [
         "11",
         "BMG_DG224733",
         "BMG_DG179357"
        ],
        [
         "12",
         "BMG_DG224733",
         "BMG_DG146962"
        ],
        [
         "13",
         "BMG_DG224733",
         "BMG_DG001658"
        ],
        [
         "14",
         "BMG_DG224733",
         "BMG_DG140008"
        ],
        [
         "15",
         "BMG_DG224733",
         "BMG_DG262665"
        ],
        [
         "16",
         "BMG_DG224733",
         "BMG_DG217743"
        ],
        [
         "17",
         "BMG_DG224733",
         "BMG_DG262673"
        ],
        [
         "18",
         "BMG_DG224733",
         "BMG_DG179314"
        ],
        [
         "19",
         "BMG_DG224733",
         "BMG_DG154476"
        ],
        [
         "20",
         "BMG_DG224733",
         "BMG_DG004114"
        ],
        [
         "21",
         "BMG_DG224733",
         "BMG_DG124891"
        ],
        [
         "22",
         "BMG_DG224733",
         "BMG_DG222819"
        ],
        [
         "23",
         "BMG_DG224733",
         "BMG_DG218467"
        ],
        [
         "24",
         "BMG_DG224733",
         "BMG_DG182916"
        ],
        [
         "25",
         "BMG_DG224733",
         "BMG_DG145456"
        ],
        [
         "26",
         "BMG_DG224733",
         "BMG_DG165344"
        ],
        [
         "27",
         "BMG_DG224733",
         "BMG_DG224713"
        ],
        [
         "28",
         "BMG_DG224733",
         "BMG_DG092882"
        ],
        [
         "29",
         "BMG_DG224733",
         "BMG_DG000713"
        ],
        [
         "30",
         "BMG_DG224733",
         "BMG_DG224781"
        ],
        [
         "31",
         "BMG_DG224733",
         "BMG_DG139232"
        ],
        [
         "32",
         "BMG_DG224733",
         "BMG_DG133924"
        ],
        [
         "33",
         "BMG_DG224733",
         "BMG_DG143292"
        ],
        [
         "34",
         "BMG_DG224733",
         "BMG_DG129693"
        ],
        [
         "35",
         "BMG_DG224733",
         "BMG_DG132120"
        ],
        [
         "36",
         "BMG_DG224733",
         "BMG_DG150341"
        ],
        [
         "37",
         "BMG_DG224733",
         "BMG_DG139552"
        ],
        [
         "38",
         "BMG_DG224733",
         "BMG_DG007978"
        ],
        [
         "39",
         "BMG_DG224733",
         "BMG_DG134825"
        ],
        [
         "40",
         "BMG_DG224733",
         "BMG_DG147224"
        ],
        [
         "41",
         "BMG_DG224733",
         "BMG_DG010558"
        ],
        [
         "42",
         "BMG_DG224733",
         "BMG_DG224686"
        ],
        [
         "43",
         "BMG_DG224733",
         "BMG_DG173111"
        ],
        [
         "44",
         "BMG_DG224733",
         "BMG_DG131970"
        ],
        [
         "45",
         "BMG_DG224733",
         "BMG_DG207425"
        ],
        [
         "46",
         "BMG_DG224733",
         "BMG_DG112498"
        ],
        [
         "47",
         "BMG_DG224733",
         "BMG_DG222867"
        ],
        [
         "48",
         "BMG_DG224733",
         "BMG_DG222868"
        ],
        [
         "49",
         "BMG_DG224733",
         "BMG_DG262694"
        ]
       ],
       "shape": {
        "columns": 2,
        "rows": 3882582
       }
      },
      "text/html": [
       "<div>\n",
       "<style scoped>\n",
       "    .dataframe tbody tr th:only-of-type {\n",
       "        vertical-align: middle;\n",
       "    }\n",
       "\n",
       "    .dataframe tbody tr th {\n",
       "        vertical-align: top;\n",
       "    }\n",
       "\n",
       "    .dataframe thead th {\n",
       "        text-align: right;\n",
       "    }\n",
       "</style>\n",
       "<table border=\"1\" class=\"dataframe\">\n",
       "  <thead>\n",
       "    <tr style=\"text-align: right;\">\n",
       "      <th></th>\n",
       "      <th>From_ID</th>\n",
       "      <th>To_ID</th>\n",
       "    </tr>\n",
       "  </thead>\n",
       "  <tbody>\n",
       "    <tr>\n",
       "      <th>0</th>\n",
       "      <td>BMG_DG224733</td>\n",
       "      <td>BMG_DG002602</td>\n",
       "    </tr>\n",
       "    <tr>\n",
       "      <th>1</th>\n",
       "      <td>BMG_DG224733</td>\n",
       "      <td>BMG_DG083812</td>\n",
       "    </tr>\n",
       "    <tr>\n",
       "      <th>2</th>\n",
       "      <td>BMG_DG224733</td>\n",
       "      <td>BMG_DG176217</td>\n",
       "    </tr>\n",
       "    <tr>\n",
       "      <th>3</th>\n",
       "      <td>BMG_DG224733</td>\n",
       "      <td>BMG_DG134958</td>\n",
       "    </tr>\n",
       "    <tr>\n",
       "      <th>4</th>\n",
       "      <td>BMG_DG224733</td>\n",
       "      <td>BMG_DG116501</td>\n",
       "    </tr>\n",
       "    <tr>\n",
       "      <th>...</th>\n",
       "      <td>...</td>\n",
       "      <td>...</td>\n",
       "    </tr>\n",
       "    <tr>\n",
       "      <th>3882577</th>\n",
       "      <td>BMG_DG269087</td>\n",
       "      <td>BMG_DG117810</td>\n",
       "    </tr>\n",
       "    <tr>\n",
       "      <th>3882578</th>\n",
       "      <td>BMG_DG269087</td>\n",
       "      <td>BMG_DG263448</td>\n",
       "    </tr>\n",
       "    <tr>\n",
       "      <th>3882579</th>\n",
       "      <td>BMG_DG269087</td>\n",
       "      <td>BMG_DG165432</td>\n",
       "    </tr>\n",
       "    <tr>\n",
       "      <th>3882580</th>\n",
       "      <td>BMG_DG269087</td>\n",
       "      <td>BMG_DG263774</td>\n",
       "    </tr>\n",
       "    <tr>\n",
       "      <th>3882581</th>\n",
       "      <td>BMG_DG269087</td>\n",
       "      <td>BMG_DG263791</td>\n",
       "    </tr>\n",
       "  </tbody>\n",
       "</table>\n",
       "<p>3882582 rows × 2 columns</p>\n",
       "</div>"
      ],
      "text/plain": [
       "              From_ID         To_ID\n",
       "0        BMG_DG224733  BMG_DG002602\n",
       "1        BMG_DG224733  BMG_DG083812\n",
       "2        BMG_DG224733  BMG_DG176217\n",
       "3        BMG_DG224733  BMG_DG134958\n",
       "4        BMG_DG224733  BMG_DG116501\n",
       "...               ...           ...\n",
       "3882577  BMG_DG269087  BMG_DG117810\n",
       "3882578  BMG_DG269087  BMG_DG263448\n",
       "3882579  BMG_DG269087  BMG_DG165432\n",
       "3882580  BMG_DG269087  BMG_DG263774\n",
       "3882581  BMG_DG269087  BMG_DG263791\n",
       "\n",
       "[3882582 rows x 2 columns]"
      ]
     },
     "execution_count": 6,
     "metadata": {},
     "output_type": "execute_result"
    }
   ],
   "source": [
    "df_drug_drug['From_ID'] = df_drug_drug['From_ID'].str.split(';')\n",
    "df_drug_drug['To_ID'] = df_drug_drug['To_ID'].str.split(';')\n",
    "\n",
    "df_drug_drug = df_drug_drug.explode('From_ID')\n",
    "df_drug_drug = df_drug_drug.explode('To_ID')\n",
    "\n",
    "df_drug_drug.drop_duplicates(inplace=True)\n",
    "df_drug_drug.reset_index(drop=True, inplace=True)\n",
    "df_drug_drug"
   ]
  },
  {
   "cell_type": "markdown",
   "metadata": {},
   "source": [
    "### Drug-Drug Relation"
   ]
  },
  {
   "cell_type": "code",
   "execution_count": 7,
   "metadata": {},
   "outputs": [
    {
     "data": {
      "application/vnd.microsoft.datawrangler.viewer.v0+json": {
       "columns": [
        {
         "name": "index",
         "rawType": "int64",
         "type": "integer"
        },
        {
         "name": "BioMedGraphica_ID",
         "rawType": "object",
         "type": "string"
        },
        {
         "name": "From_ID",
         "rawType": "object",
         "type": "string"
        },
        {
         "name": "To_ID",
         "rawType": "object",
         "type": "string"
        },
        {
         "name": "Source",
         "rawType": "object",
         "type": "string"
        },
        {
         "name": "Type",
         "rawType": "object",
         "type": "string"
        }
       ],
       "conversionMethod": "pd.DataFrame",
       "ref": "8f3b7590-1bef-489f-92d6-804bd4c347c1",
       "rows": [
        [
         "0",
         "BMG_ED_DGDG0000001",
         "BMG_DG224733",
         "BMG_DG002602",
         "DrugBank",
         "Drug-Drug"
        ],
        [
         "1",
         "BMG_ED_DGDG0000002",
         "BMG_DG224733",
         "BMG_DG083812",
         "DrugBank",
         "Drug-Drug"
        ],
        [
         "2",
         "BMG_ED_DGDG0000003",
         "BMG_DG224733",
         "BMG_DG176217",
         "DrugBank",
         "Drug-Drug"
        ],
        [
         "3",
         "BMG_ED_DGDG0000004",
         "BMG_DG224733",
         "BMG_DG134958",
         "DrugBank",
         "Drug-Drug"
        ],
        [
         "4",
         "BMG_ED_DGDG0000005",
         "BMG_DG224733",
         "BMG_DG116501",
         "DrugBank",
         "Drug-Drug"
        ],
        [
         "5",
         "BMG_ED_DGDG0000006",
         "BMG_DG224733",
         "BMG_DG166533",
         "DrugBank",
         "Drug-Drug"
        ],
        [
         "6",
         "BMG_ED_DGDG0000007",
         "BMG_DG224733",
         "BMG_DG136255",
         "DrugBank",
         "Drug-Drug"
        ],
        [
         "7",
         "BMG_ED_DGDG0000008",
         "BMG_DG224733",
         "BMG_DG022454",
         "DrugBank",
         "Drug-Drug"
        ],
        [
         "8",
         "BMG_ED_DGDG0000009",
         "BMG_DG224733",
         "BMG_DG118168",
         "DrugBank",
         "Drug-Drug"
        ],
        [
         "9",
         "BMG_ED_DGDG0000010",
         "BMG_DG224733",
         "BMG_DG164659",
         "DrugBank",
         "Drug-Drug"
        ],
        [
         "10",
         "BMG_ED_DGDG0000011",
         "BMG_DG224733",
         "BMG_DG118384",
         "DrugBank",
         "Drug-Drug"
        ],
        [
         "11",
         "BMG_ED_DGDG0000012",
         "BMG_DG224733",
         "BMG_DG179357",
         "DrugBank",
         "Drug-Drug"
        ],
        [
         "12",
         "BMG_ED_DGDG0000013",
         "BMG_DG224733",
         "BMG_DG146962",
         "DrugBank",
         "Drug-Drug"
        ],
        [
         "13",
         "BMG_ED_DGDG0000014",
         "BMG_DG224733",
         "BMG_DG001658",
         "DrugBank",
         "Drug-Drug"
        ],
        [
         "14",
         "BMG_ED_DGDG0000015",
         "BMG_DG224733",
         "BMG_DG140008",
         "DrugBank",
         "Drug-Drug"
        ],
        [
         "15",
         "BMG_ED_DGDG0000016",
         "BMG_DG224733",
         "BMG_DG262665",
         "DrugBank",
         "Drug-Drug"
        ],
        [
         "16",
         "BMG_ED_DGDG0000017",
         "BMG_DG224733",
         "BMG_DG217743",
         "DrugBank",
         "Drug-Drug"
        ],
        [
         "17",
         "BMG_ED_DGDG0000018",
         "BMG_DG224733",
         "BMG_DG262673",
         "DrugBank",
         "Drug-Drug"
        ],
        [
         "18",
         "BMG_ED_DGDG0000019",
         "BMG_DG224733",
         "BMG_DG179314",
         "DrugBank",
         "Drug-Drug"
        ],
        [
         "19",
         "BMG_ED_DGDG0000020",
         "BMG_DG224733",
         "BMG_DG154476",
         "DrugBank",
         "Drug-Drug"
        ],
        [
         "20",
         "BMG_ED_DGDG0000021",
         "BMG_DG224733",
         "BMG_DG004114",
         "DrugBank",
         "Drug-Drug"
        ],
        [
         "21",
         "BMG_ED_DGDG0000022",
         "BMG_DG224733",
         "BMG_DG124891",
         "DrugBank",
         "Drug-Drug"
        ],
        [
         "22",
         "BMG_ED_DGDG0000023",
         "BMG_DG224733",
         "BMG_DG222819",
         "DrugBank",
         "Drug-Drug"
        ],
        [
         "23",
         "BMG_ED_DGDG0000024",
         "BMG_DG224733",
         "BMG_DG218467",
         "DrugBank",
         "Drug-Drug"
        ],
        [
         "24",
         "BMG_ED_DGDG0000025",
         "BMG_DG224733",
         "BMG_DG182916",
         "DrugBank",
         "Drug-Drug"
        ],
        [
         "25",
         "BMG_ED_DGDG0000026",
         "BMG_DG224733",
         "BMG_DG145456",
         "DrugBank",
         "Drug-Drug"
        ],
        [
         "26",
         "BMG_ED_DGDG0000027",
         "BMG_DG224733",
         "BMG_DG165344",
         "DrugBank",
         "Drug-Drug"
        ],
        [
         "27",
         "BMG_ED_DGDG0000028",
         "BMG_DG224733",
         "BMG_DG224713",
         "DrugBank",
         "Drug-Drug"
        ],
        [
         "28",
         "BMG_ED_DGDG0000029",
         "BMG_DG224733",
         "BMG_DG092882",
         "DrugBank",
         "Drug-Drug"
        ],
        [
         "29",
         "BMG_ED_DGDG0000030",
         "BMG_DG224733",
         "BMG_DG000713",
         "DrugBank",
         "Drug-Drug"
        ],
        [
         "30",
         "BMG_ED_DGDG0000031",
         "BMG_DG224733",
         "BMG_DG224781",
         "DrugBank",
         "Drug-Drug"
        ],
        [
         "31",
         "BMG_ED_DGDG0000032",
         "BMG_DG224733",
         "BMG_DG139232",
         "DrugBank",
         "Drug-Drug"
        ],
        [
         "32",
         "BMG_ED_DGDG0000033",
         "BMG_DG224733",
         "BMG_DG133924",
         "DrugBank",
         "Drug-Drug"
        ],
        [
         "33",
         "BMG_ED_DGDG0000034",
         "BMG_DG224733",
         "BMG_DG143292",
         "DrugBank",
         "Drug-Drug"
        ],
        [
         "34",
         "BMG_ED_DGDG0000035",
         "BMG_DG224733",
         "BMG_DG129693",
         "DrugBank",
         "Drug-Drug"
        ],
        [
         "35",
         "BMG_ED_DGDG0000036",
         "BMG_DG224733",
         "BMG_DG132120",
         "DrugBank",
         "Drug-Drug"
        ],
        [
         "36",
         "BMG_ED_DGDG0000037",
         "BMG_DG224733",
         "BMG_DG150341",
         "DrugBank",
         "Drug-Drug"
        ],
        [
         "37",
         "BMG_ED_DGDG0000038",
         "BMG_DG224733",
         "BMG_DG139552",
         "DrugBank",
         "Drug-Drug"
        ],
        [
         "38",
         "BMG_ED_DGDG0000039",
         "BMG_DG224733",
         "BMG_DG007978",
         "DrugBank",
         "Drug-Drug"
        ],
        [
         "39",
         "BMG_ED_DGDG0000040",
         "BMG_DG224733",
         "BMG_DG134825",
         "DrugBank",
         "Drug-Drug"
        ],
        [
         "40",
         "BMG_ED_DGDG0000041",
         "BMG_DG224733",
         "BMG_DG147224",
         "DrugBank",
         "Drug-Drug"
        ],
        [
         "41",
         "BMG_ED_DGDG0000042",
         "BMG_DG224733",
         "BMG_DG010558",
         "DrugBank",
         "Drug-Drug"
        ],
        [
         "42",
         "BMG_ED_DGDG0000043",
         "BMG_DG224733",
         "BMG_DG224686",
         "DrugBank",
         "Drug-Drug"
        ],
        [
         "43",
         "BMG_ED_DGDG0000044",
         "BMG_DG224733",
         "BMG_DG173111",
         "DrugBank",
         "Drug-Drug"
        ],
        [
         "44",
         "BMG_ED_DGDG0000045",
         "BMG_DG224733",
         "BMG_DG131970",
         "DrugBank",
         "Drug-Drug"
        ],
        [
         "45",
         "BMG_ED_DGDG0000046",
         "BMG_DG224733",
         "BMG_DG207425",
         "DrugBank",
         "Drug-Drug"
        ],
        [
         "46",
         "BMG_ED_DGDG0000047",
         "BMG_DG224733",
         "BMG_DG112498",
         "DrugBank",
         "Drug-Drug"
        ],
        [
         "47",
         "BMG_ED_DGDG0000048",
         "BMG_DG224733",
         "BMG_DG222867",
         "DrugBank",
         "Drug-Drug"
        ],
        [
         "48",
         "BMG_ED_DGDG0000049",
         "BMG_DG224733",
         "BMG_DG222868",
         "DrugBank",
         "Drug-Drug"
        ],
        [
         "49",
         "BMG_ED_DGDG0000050",
         "BMG_DG224733",
         "BMG_DG262694",
         "DrugBank",
         "Drug-Drug"
        ]
       ],
       "shape": {
        "columns": 5,
        "rows": 3882582
       }
      },
      "text/html": [
       "<div>\n",
       "<style scoped>\n",
       "    .dataframe tbody tr th:only-of-type {\n",
       "        vertical-align: middle;\n",
       "    }\n",
       "\n",
       "    .dataframe tbody tr th {\n",
       "        vertical-align: top;\n",
       "    }\n",
       "\n",
       "    .dataframe thead th {\n",
       "        text-align: right;\n",
       "    }\n",
       "</style>\n",
       "<table border=\"1\" class=\"dataframe\">\n",
       "  <thead>\n",
       "    <tr style=\"text-align: right;\">\n",
       "      <th></th>\n",
       "      <th>BioMedGraphica_ID</th>\n",
       "      <th>From_ID</th>\n",
       "      <th>To_ID</th>\n",
       "      <th>Source</th>\n",
       "      <th>Type</th>\n",
       "    </tr>\n",
       "  </thead>\n",
       "  <tbody>\n",
       "    <tr>\n",
       "      <th>0</th>\n",
       "      <td>BMG_ED_DGDG0000001</td>\n",
       "      <td>BMG_DG224733</td>\n",
       "      <td>BMG_DG002602</td>\n",
       "      <td>DrugBank</td>\n",
       "      <td>Drug-Drug</td>\n",
       "    </tr>\n",
       "    <tr>\n",
       "      <th>1</th>\n",
       "      <td>BMG_ED_DGDG0000002</td>\n",
       "      <td>BMG_DG224733</td>\n",
       "      <td>BMG_DG083812</td>\n",
       "      <td>DrugBank</td>\n",
       "      <td>Drug-Drug</td>\n",
       "    </tr>\n",
       "    <tr>\n",
       "      <th>2</th>\n",
       "      <td>BMG_ED_DGDG0000003</td>\n",
       "      <td>BMG_DG224733</td>\n",
       "      <td>BMG_DG176217</td>\n",
       "      <td>DrugBank</td>\n",
       "      <td>Drug-Drug</td>\n",
       "    </tr>\n",
       "    <tr>\n",
       "      <th>3</th>\n",
       "      <td>BMG_ED_DGDG0000004</td>\n",
       "      <td>BMG_DG224733</td>\n",
       "      <td>BMG_DG134958</td>\n",
       "      <td>DrugBank</td>\n",
       "      <td>Drug-Drug</td>\n",
       "    </tr>\n",
       "    <tr>\n",
       "      <th>4</th>\n",
       "      <td>BMG_ED_DGDG0000005</td>\n",
       "      <td>BMG_DG224733</td>\n",
       "      <td>BMG_DG116501</td>\n",
       "      <td>DrugBank</td>\n",
       "      <td>Drug-Drug</td>\n",
       "    </tr>\n",
       "    <tr>\n",
       "      <th>...</th>\n",
       "      <td>...</td>\n",
       "      <td>...</td>\n",
       "      <td>...</td>\n",
       "      <td>...</td>\n",
       "      <td>...</td>\n",
       "    </tr>\n",
       "    <tr>\n",
       "      <th>3882577</th>\n",
       "      <td>BMG_ED_DGDG3882578</td>\n",
       "      <td>BMG_DG269087</td>\n",
       "      <td>BMG_DG117810</td>\n",
       "      <td>DrugBank</td>\n",
       "      <td>Drug-Drug</td>\n",
       "    </tr>\n",
       "    <tr>\n",
       "      <th>3882578</th>\n",
       "      <td>BMG_ED_DGDG3882579</td>\n",
       "      <td>BMG_DG269087</td>\n",
       "      <td>BMG_DG263448</td>\n",
       "      <td>DrugBank</td>\n",
       "      <td>Drug-Drug</td>\n",
       "    </tr>\n",
       "    <tr>\n",
       "      <th>3882579</th>\n",
       "      <td>BMG_ED_DGDG3882580</td>\n",
       "      <td>BMG_DG269087</td>\n",
       "      <td>BMG_DG165432</td>\n",
       "      <td>DrugBank</td>\n",
       "      <td>Drug-Drug</td>\n",
       "    </tr>\n",
       "    <tr>\n",
       "      <th>3882580</th>\n",
       "      <td>BMG_ED_DGDG3882581</td>\n",
       "      <td>BMG_DG269087</td>\n",
       "      <td>BMG_DG263774</td>\n",
       "      <td>DrugBank</td>\n",
       "      <td>Drug-Drug</td>\n",
       "    </tr>\n",
       "    <tr>\n",
       "      <th>3882581</th>\n",
       "      <td>BMG_ED_DGDG3882582</td>\n",
       "      <td>BMG_DG269087</td>\n",
       "      <td>BMG_DG263791</td>\n",
       "      <td>DrugBank</td>\n",
       "      <td>Drug-Drug</td>\n",
       "    </tr>\n",
       "  </tbody>\n",
       "</table>\n",
       "<p>3882582 rows × 5 columns</p>\n",
       "</div>"
      ],
      "text/plain": [
       "          BioMedGraphica_ID       From_ID         To_ID    Source       Type\n",
       "0        BMG_ED_DGDG0000001  BMG_DG224733  BMG_DG002602  DrugBank  Drug-Drug\n",
       "1        BMG_ED_DGDG0000002  BMG_DG224733  BMG_DG083812  DrugBank  Drug-Drug\n",
       "2        BMG_ED_DGDG0000003  BMG_DG224733  BMG_DG176217  DrugBank  Drug-Drug\n",
       "3        BMG_ED_DGDG0000004  BMG_DG224733  BMG_DG134958  DrugBank  Drug-Drug\n",
       "4        BMG_ED_DGDG0000005  BMG_DG224733  BMG_DG116501  DrugBank  Drug-Drug\n",
       "...                     ...           ...           ...       ...        ...\n",
       "3882577  BMG_ED_DGDG3882578  BMG_DG269087  BMG_DG117810  DrugBank  Drug-Drug\n",
       "3882578  BMG_ED_DGDG3882579  BMG_DG269087  BMG_DG263448  DrugBank  Drug-Drug\n",
       "3882579  BMG_ED_DGDG3882580  BMG_DG269087  BMG_DG165432  DrugBank  Drug-Drug\n",
       "3882580  BMG_ED_DGDG3882581  BMG_DG269087  BMG_DG263774  DrugBank  Drug-Drug\n",
       "3882581  BMG_ED_DGDG3882582  BMG_DG269087  BMG_DG263791  DrugBank  Drug-Drug\n",
       "\n",
       "[3882582 rows x 5 columns]"
      ]
     },
     "execution_count": 7,
     "metadata": {},
     "output_type": "execute_result"
    }
   ],
   "source": [
    "df_drug_drug['Source'] = 'DrugBank'\n",
    "df_drug_drug['Type'] = 'Drug-Drug'\n",
    "\n",
    "max_length = len(str(len(df_drug_drug)))\n",
    "df_drug_drug['BioMedGraphica_ID'] = ['BMG_ED_DGDG' + str(i).zfill(max_length) for i in range(1, len(df_drug_drug) + 1)]\n",
    "columns = ['BioMedGraphica_ID'] + [col for col in df_drug_drug.columns if col != 'BioMedGraphica_ID']  # re-order columns\n",
    "df_drug_drug = df_drug_drug[columns]\n",
    "df_drug_drug"
   ]
  },
  {
   "cell_type": "code",
   "execution_count": 8,
   "metadata": {},
   "outputs": [
    {
     "name": "stdout",
     "output_type": "stream",
     "text": [
      "Data has been saved to D:\\RA\\BMG\\BioMedGraphica\\Relation\\Drug-Drug\\BioMedGraphica_Drug_Drug.csv\n"
     ]
    }
   ],
   "source": [
    "import os\n",
    "from pathlib import Path\n",
    "\n",
    "# get the current working directory\n",
    "current_working_dir = Path(os.getcwd()).resolve()\n",
    "\n",
    "# get the output directory\n",
    "grandparent_dir = current_working_dir.parent.parent.parent\n",
    "\n",
    "target_folder = grandparent_dir / 'BioMedGraphica' / 'Relation' / 'Drug-Drug'\n",
    "if not target_folder.exists():\n",
    "    target_folder.mkdir(parents=True)\n",
    "    print(f\"Folder {target_folder} has been created.\")\n",
    "\n",
    "output_file_path = target_folder / 'BioMedGraphica_Drug_Drug.csv'\n",
    "df_drug_drug.to_csv(output_file_path, index=False)\n",
    "print(f\"Data has been saved to {output_file_path}\")"
   ]
  }
 ],
 "metadata": {
  "kernelspec": {
   "display_name": "base",
   "language": "python",
   "name": "python3"
  },
  "language_info": {
   "codemirror_mode": {
    "name": "ipython",
    "version": 3
   },
   "file_extension": ".py",
   "mimetype": "text/x-python",
   "name": "python",
   "nbconvert_exporter": "python",
   "pygments_lexer": "ipython3",
   "version": "3.9.19"
  }
 },
 "nbformat": 4,
 "nbformat_minor": 2
}
