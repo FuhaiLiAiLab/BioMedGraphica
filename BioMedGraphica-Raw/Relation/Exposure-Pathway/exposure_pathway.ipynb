{
 "cells": [
  {
   "cell_type": "markdown",
   "metadata": {},
   "source": [
    "### CTD"
   ]
  },
  {
   "cell_type": "code",
   "execution_count": 2,
   "metadata": {},
   "outputs": [
    {
     "data": {
      "application/vnd.microsoft.datawrangler.viewer.v0+json": {
       "columns": [
        {
         "name": "index",
         "rawType": "int64",
         "type": "integer"
        },
        {
         "name": "ChemicalName",
         "rawType": "object",
         "type": "string"
        },
        {
         "name": "ChemicalID",
         "rawType": "object",
         "type": "string"
        },
        {
         "name": "CasRN",
         "rawType": "object",
         "type": "unknown"
        },
        {
         "name": "PathwayName",
         "rawType": "object",
         "type": "string"
        },
        {
         "name": "PathwayID",
         "rawType": "object",
         "type": "string"
        },
        {
         "name": "PValue",
         "rawType": "float64",
         "type": "float"
        },
        {
         "name": "CorrectedPValue",
         "rawType": "float64",
         "type": "float"
        },
        {
         "name": "TargetMatchQty",
         "rawType": "int64",
         "type": "integer"
        },
        {
         "name": "TargetTotalQty",
         "rawType": "int64",
         "type": "integer"
        },
        {
         "name": "BackgroundMatchQty",
         "rawType": "int64",
         "type": "integer"
        },
        {
         "name": "BackgroundTotalQty",
         "rawType": "int64",
         "type": "integer"
        }
       ],
       "conversionMethod": "pd.DataFrame",
       "ref": "be5d9f70-9306-45bc-a49d-a5d964f21142",
       "rows": [
        [
         "0",
         "10074-G5",
         "C534883",
         null,
         "Cyclin A:Cdk2-associated events at S phase entry",
         "REACT:R-HSA-69656",
         "1.44e-05",
         "0.00115",
         "2",
         "4",
         "71",
         "45539"
        ],
        [
         "1",
         "10074-G5",
         "C534883",
         null,
         "Cyclin E associated events during G1/S transition",
         "REACT:R-HSA-69202",
         "1.48e-05",
         "0.00118",
         "2",
         "4",
         "72",
         "45539"
        ],
        [
         "2",
         "10074-G5",
         "C534883",
         null,
         "G1/S Transition",
         "REACT:R-HSA-69206",
         "4.05e-05",
         "0.00324",
         "2",
         "4",
         "119",
         "45539"
        ],
        [
         "3",
         "10074-G5",
         "C534883",
         null,
         "Mitotic G1-G1/S phases",
         "REACT:R-HSA-453279",
         "5.85e-05",
         "0.00468",
         "2",
         "4",
         "143",
         "45539"
        ],
        [
         "4",
         "10074-G5",
         "C534883",
         null,
         "Pathways in cancer",
         "KEGG:hsa05200",
         "2.57e-06",
         "0.000206",
         "3",
         "4",
         "395",
         "45539"
        ],
        [
         "5",
         "10074-G5",
         "C534883",
         null,
         "Small cell lung cancer",
         "KEGG:hsa05222",
         "2.01e-05",
         "0.00161",
         "2",
         "4",
         "84",
         "45539"
        ],
        [
         "6",
         "10074-G5",
         "C534883",
         null,
         "S Phase",
         "REACT:R-HSA-69242",
         "4.83e-05",
         "0.00387",
         "2",
         "4",
         "130",
         "45539"
        ],
        [
         "7",
         "10074-G5",
         "C534883",
         null,
         "Transcriptional misregulation in cancer",
         "KEGG:hsa05202",
         "9.17e-05",
         "0.00734",
         "2",
         "4",
         "179",
         "45539"
        ],
        [
         "8",
         "10,10-bis(4-pyridinylmethyl)-9(10H)-anthracenone",
         "C112297",
         null,
         "Cholinergic synapse",
         "KEGG:hsa04725",
         "3.47e-11",
         "2.88e-09",
         "4",
         "4",
         "112",
         "45539"
        ],
        [
         "9",
         "10,10-bis(4-pyridinylmethyl)-9(10H)-anthracenone",
         "C112297",
         null,
         "Interaction between L1 and Ankyrins",
         "REACT:R-HSA-445095",
         "2.52e-06",
         "0.000209",
         "2",
         "4",
         "30",
         "45539"
        ],
        [
         "10",
         "10,10-bis(4-pyridinylmethyl)-9(10H)-anthracenone",
         "C112297",
         null,
         "L1CAM interactions",
         "REACT:R-HSA-373760",
         "2.91e-05",
         "0.00242",
         "2",
         "4",
         "101",
         "45539"
        ],
        [
         "11",
         "10,10-bis(4-pyridinylmethyl)-9(10H)-anthracenone",
         "C112297",
         null,
         "Neuronal System",
         "REACT:R-HSA-112316",
         "1.77e-06",
         "0.000147",
         "3",
         "4",
         "349",
         "45539"
        ],
        [
         "12",
         "10,10-bis(4-pyridinylmethyl)-9(10H)-anthracenone",
         "C112297",
         null,
         "Potassium Channels",
         "REACT:R-HSA-1296071",
         "4.1e-08",
         "3.41e-06",
         "3",
         "4",
         "100",
         "45539"
        ],
        [
         "13",
         "10,10-bis(4-pyridinylmethyl)-9(10H)-anthracenone",
         "C112297",
         null,
         "Voltage gated Potassium channels",
         "REACT:R-HSA-1296072",
         "3.36e-09",
         "2.79e-07",
         "3",
         "4",
         "44",
         "45539"
        ],
        [
         "14",
         "10,12-octadecadienoic acid",
         "C094849",
         null,
         "AMPK signaling pathway",
         "KEGG:hsa04152",
         "2.06e-05",
         "0.00163",
         "2",
         "3",
         "120",
         "45539"
        ],
        [
         "15",
         "10,12-octadecadienoic acid",
         "C094849",
         null,
         "Fatty acid, triacylglycerol, and ketone body metabolism",
         "REACT:R-HSA-535734",
         "9.12e-05",
         "0.0072",
         "2",
         "3",
         "252",
         "45539"
        ],
        [
         "16",
         "10,12-octadecadienoic acid",
         "C094849",
         null,
         "Huntington's disease",
         "KEGG:hsa05016",
         "5.35e-05",
         "0.00422",
         "2",
         "3",
         "193",
         "45539"
        ],
        [
         "17",
         "10,12-octadecadienoic acid",
         "C094849",
         null,
         "PPAR signaling pathway",
         "KEGG:hsa03320",
         "7.39e-06",
         "0.000584",
         "2",
         "3",
         "72",
         "45539"
        ],
        [
         "18",
         "10-(2-pyrazolylethoxy)camptothecin",
         "C534422",
         null,
         "Alzheimer's disease",
         "KEGG:hsa05010",
         "1.4e-05",
         "0.00129",
         "2",
         "2",
         "171",
         "45539"
        ],
        [
         "19",
         "10-(2-pyrazolylethoxy)camptothecin",
         "C534422",
         null,
         "Apoptosis",
         "KEGG:hsa04210",
         "9.12e-06",
         "0.000839",
         "2",
         "2",
         "138",
         "45539"
        ],
        [
         "20",
         "10-(2-pyrazolylethoxy)camptothecin",
         "C534422",
         null,
         "Apoptosis",
         "REACT:R-HSA-109581",
         "1.42e-05",
         "0.0013",
         "2",
         "2",
         "172",
         "45539"
        ],
        [
         "21",
         "10-(2-pyrazolylethoxy)camptothecin",
         "C534422",
         null,
         "Apoptosis - multiple species",
         "KEGG:hsa04215",
         "5.09e-07",
         "4.68e-05",
         "2",
         "2",
         "33",
         "45539"
        ],
        [
         "22",
         "10-(2-pyrazolylethoxy)camptothecin",
         "C534422",
         null,
         "Apoptotic cleavage of cellular proteins",
         "REACT:R-HSA-111465",
         "7.15e-07",
         "6.57e-05",
         "2",
         "2",
         "39",
         "45539"
        ],
        [
         "23",
         "10-(2-pyrazolylethoxy)camptothecin",
         "C534422",
         null,
         "Apoptotic execution  phase",
         "REACT:R-HSA-75153",
         "1.33e-06",
         "0.000122",
         "2",
         "2",
         "53",
         "45539"
        ],
        [
         "24",
         "10-(2-pyrazolylethoxy)camptothecin",
         "C534422",
         null,
         "Caspase activation via extrinsic apoptotic signalling pathway",
         "REACT:R-HSA-5357769",
         "3.65e-07",
         "3.35e-05",
         "2",
         "2",
         "28",
         "45539"
        ],
        [
         "25",
         "10-(2-pyrazolylethoxy)camptothecin",
         "C534422",
         null,
         "Caspase-mediated cleavage of cytoskeletal proteins",
         "REACT:R-HSA-264870",
         "7.52e-08",
         "6.92e-06",
         "2",
         "2",
         "13",
         "45539"
        ],
        [
         "26",
         "10-(2-pyrazolylethoxy)camptothecin",
         "C534422",
         null,
         "Hepatitis B",
         "KEGG:hsa05161",
         "9.93e-06",
         "0.000914",
         "2",
         "2",
         "144",
         "45539"
        ],
        [
         "27",
         "10-(2-pyrazolylethoxy)camptothecin",
         "C534422",
         null,
         "Herpes simplex infection",
         "KEGG:hsa05168",
         "1.64e-05",
         "0.00151",
         "2",
         "2",
         "185",
         "45539"
        ],
        [
         "28",
         "10-(2-pyrazolylethoxy)camptothecin",
         "C534422",
         null,
         "Huntington's disease",
         "KEGG:hsa05016",
         "1.79e-05",
         "0.00164",
         "2",
         "2",
         "193",
         "45539"
        ],
        [
         "29",
         "10-(2-pyrazolylethoxy)camptothecin",
         "C534422",
         null,
         "IL-17 signaling pathway",
         "KEGG:hsa04657",
         "4.13e-06",
         "0.00038",
         "2",
         "2",
         "93",
         "45539"
        ],
        [
         "30",
         "10-(2-pyrazolylethoxy)camptothecin",
         "C534422",
         null,
         "Intrinsic Pathway for Apoptosis",
         "REACT:R-HSA-109606",
         "9.12e-07",
         "8.39e-05",
         "2",
         "2",
         "44",
         "45539"
        ],
        [
         "31",
         "10-(2-pyrazolylethoxy)camptothecin",
         "C534422",
         null,
         "Legionellosis",
         "KEGG:hsa05134",
         "1.43e-06",
         "0.000132",
         "2",
         "2",
         "55",
         "45539"
        ],
        [
         "32",
         "10-(2-pyrazolylethoxy)camptothecin",
         "C534422",
         null,
         "Non-alcoholic fatty liver disease (NAFLD)",
         "KEGG:hsa04932",
         "1.06e-05",
         "0.000978",
         "2",
         "2",
         "149",
         "45539"
        ],
        [
         "33",
         "10-(2-pyrazolylethoxy)camptothecin",
         "C534422",
         null,
         "p53 signaling pathway",
         "KEGG:hsa04115",
         "2.26e-06",
         "0.000208",
         "2",
         "2",
         "69",
         "45539"
        ],
        [
         "34",
         "10-(2-pyrazolylethoxy)camptothecin",
         "C534422",
         null,
         "Pathways in cancer",
         "KEGG:hsa05200",
         "7.5e-05",
         "0.0069",
         "2",
         "2",
         "395",
         "45539"
        ],
        [
         "35",
         "10-(2-pyrazolylethoxy)camptothecin",
         "C534422",
         null,
         "Platinum drug resistance",
         "KEGG:hsa01524",
         "2.53e-06",
         "0.000233",
         "2",
         "2",
         "73",
         "45539"
        ],
        [
         "36",
         "10-(2-pyrazolylethoxy)camptothecin",
         "C534422",
         null,
         "Programmed Cell Death",
         "REACT:R-HSA-5357801",
         "1.47e-05",
         "0.00135",
         "2",
         "2",
         "175",
         "45539"
        ],
        [
         "37",
         "10-(2-pyrazolylethoxy)camptothecin",
         "C534422",
         null,
         "TNF signaling pathway",
         "KEGG:hsa04668",
         "5.57e-06",
         "0.000513",
         "2",
         "2",
         "108",
         "45539"
        ],
        [
         "38",
         "10-(2-pyrazolylethoxy)camptothecin",
         "C534422",
         null,
         "Toxoplasmosis",
         "KEGG:hsa05145",
         "6.1e-06",
         "0.000561",
         "2",
         "2",
         "113",
         "45539"
        ],
        [
         "39",
         "10-(2-pyrazolylethoxy)camptothecin",
         "C534422",
         null,
         "Tuberculosis",
         "KEGG:hsa05152",
         "1.52e-05",
         "0.0014",
         "2",
         "2",
         "178",
         "45539"
        ],
        [
         "40",
         "10-(2-pyrazolylethoxy)camptothecin",
         "C534422",
         null,
         "Viral carcinogenesis",
         "KEGG:hsa05203",
         "1.94e-05",
         "0.00178",
         "2",
         "2",
         "201",
         "45539"
        ],
        [
         "41",
         "10-(2-pyrazolylethoxy)camptothecin",
         "C534422",
         null,
         "Viral myocarditis",
         "KEGG:hsa05416",
         "1.59e-06",
         "0.000147",
         "2",
         "2",
         "58",
         "45539"
        ],
        [
         "42",
         "103D5R",
         "C496879",
         null,
         "Activated TLR4 signalling",
         "REACT:R-HSA-166054",
         "5.45e-07",
         "0.000209",
         "3",
         "7",
         "115",
         "45539"
        ],
        [
         "43",
         "103D5R",
         "C496879",
         null,
         "Activation of BH3-only proteins",
         "REACT:R-HSA-114452",
         "9.4e-06",
         "0.00361",
         "2",
         "7",
         "31",
         "45539"
        ],
        [
         "44",
         "103D5R",
         "C496879",
         null,
         "Activation of the AP-1 family of transcription factors",
         "REACT:R-HSA-450341",
         "2.67e-10",
         "1.02e-07",
         "3",
         "7",
         "10",
         "45539"
        ],
        [
         "45",
         "103D5R",
         "C496879",
         null,
         "Acute myeloid leukemia",
         "KEGG:hsa05221",
         "5.81e-08",
         "2.23e-05",
         "3",
         "7",
         "55",
         "45539"
        ],
        [
         "46",
         "103D5R",
         "C496879",
         null,
         "Adipocytokine signaling pathway",
         "KEGG:hsa04920",
         "1.16e-07",
         "4.45e-05",
         "3",
         "7",
         "69",
         "45539"
        ],
        [
         "47",
         "103D5R",
         "C496879",
         null,
         "Adrenergic signaling in cardiomyocytes",
         "KEGG:hsa04261",
         "1.07e-06",
         "0.000412",
         "3",
         "7",
         "144",
         "45539"
        ],
        [
         "48",
         "103D5R",
         "C496879",
         null,
         "Advanced glycosylation endproduct receptor signaling",
         "REACT:R-HSA-879415",
         "1.58e-06",
         "0.000606",
         "2",
         "7",
         "13",
         "45539"
        ],
        [
         "49",
         "103D5R",
         "C496879",
         null,
         "AGE-RAGE signaling pathway in diabetic complications",
         "KEGG:hsa04933",
         "9.17e-13",
         "3.52e-10",
         "5",
         "7",
         "99",
         "45539"
        ]
       ],
       "shape": {
        "columns": 11,
        "rows": 1624470
       }
      },
      "text/html": [
       "<div>\n",
       "<style scoped>\n",
       "    .dataframe tbody tr th:only-of-type {\n",
       "        vertical-align: middle;\n",
       "    }\n",
       "\n",
       "    .dataframe tbody tr th {\n",
       "        vertical-align: top;\n",
       "    }\n",
       "\n",
       "    .dataframe thead th {\n",
       "        text-align: right;\n",
       "    }\n",
       "</style>\n",
       "<table border=\"1\" class=\"dataframe\">\n",
       "  <thead>\n",
       "    <tr style=\"text-align: right;\">\n",
       "      <th></th>\n",
       "      <th>ChemicalName</th>\n",
       "      <th>ChemicalID</th>\n",
       "      <th>CasRN</th>\n",
       "      <th>PathwayName</th>\n",
       "      <th>PathwayID</th>\n",
       "      <th>PValue</th>\n",
       "      <th>CorrectedPValue</th>\n",
       "      <th>TargetMatchQty</th>\n",
       "      <th>TargetTotalQty</th>\n",
       "      <th>BackgroundMatchQty</th>\n",
       "      <th>BackgroundTotalQty</th>\n",
       "    </tr>\n",
       "  </thead>\n",
       "  <tbody>\n",
       "    <tr>\n",
       "      <th>0</th>\n",
       "      <td>10074-G5</td>\n",
       "      <td>C534883</td>\n",
       "      <td>NaN</td>\n",
       "      <td>Cyclin A:Cdk2-associated events at S phase entry</td>\n",
       "      <td>REACT:R-HSA-69656</td>\n",
       "      <td>1.440000e-05</td>\n",
       "      <td>1.150000e-03</td>\n",
       "      <td>2</td>\n",
       "      <td>4</td>\n",
       "      <td>71</td>\n",
       "      <td>45539</td>\n",
       "    </tr>\n",
       "    <tr>\n",
       "      <th>1</th>\n",
       "      <td>10074-G5</td>\n",
       "      <td>C534883</td>\n",
       "      <td>NaN</td>\n",
       "      <td>Cyclin E associated events during G1/S transition</td>\n",
       "      <td>REACT:R-HSA-69202</td>\n",
       "      <td>1.480000e-05</td>\n",
       "      <td>1.180000e-03</td>\n",
       "      <td>2</td>\n",
       "      <td>4</td>\n",
       "      <td>72</td>\n",
       "      <td>45539</td>\n",
       "    </tr>\n",
       "    <tr>\n",
       "      <th>2</th>\n",
       "      <td>10074-G5</td>\n",
       "      <td>C534883</td>\n",
       "      <td>NaN</td>\n",
       "      <td>G1/S Transition</td>\n",
       "      <td>REACT:R-HSA-69206</td>\n",
       "      <td>4.050000e-05</td>\n",
       "      <td>3.240000e-03</td>\n",
       "      <td>2</td>\n",
       "      <td>4</td>\n",
       "      <td>119</td>\n",
       "      <td>45539</td>\n",
       "    </tr>\n",
       "    <tr>\n",
       "      <th>3</th>\n",
       "      <td>10074-G5</td>\n",
       "      <td>C534883</td>\n",
       "      <td>NaN</td>\n",
       "      <td>Mitotic G1-G1/S phases</td>\n",
       "      <td>REACT:R-HSA-453279</td>\n",
       "      <td>5.850000e-05</td>\n",
       "      <td>4.680000e-03</td>\n",
       "      <td>2</td>\n",
       "      <td>4</td>\n",
       "      <td>143</td>\n",
       "      <td>45539</td>\n",
       "    </tr>\n",
       "    <tr>\n",
       "      <th>4</th>\n",
       "      <td>10074-G5</td>\n",
       "      <td>C534883</td>\n",
       "      <td>NaN</td>\n",
       "      <td>Pathways in cancer</td>\n",
       "      <td>KEGG:hsa05200</td>\n",
       "      <td>2.570000e-06</td>\n",
       "      <td>2.060000e-04</td>\n",
       "      <td>3</td>\n",
       "      <td>4</td>\n",
       "      <td>395</td>\n",
       "      <td>45539</td>\n",
       "    </tr>\n",
       "    <tr>\n",
       "      <th>...</th>\n",
       "      <td>...</td>\n",
       "      <td>...</td>\n",
       "      <td>...</td>\n",
       "      <td>...</td>\n",
       "      <td>...</td>\n",
       "      <td>...</td>\n",
       "      <td>...</td>\n",
       "      <td>...</td>\n",
       "      <td>...</td>\n",
       "      <td>...</td>\n",
       "      <td>...</td>\n",
       "    </tr>\n",
       "    <tr>\n",
       "      <th>1624465</th>\n",
       "      <td>Zymosan</td>\n",
       "      <td>D015054</td>\n",
       "      <td>9010-72-4</td>\n",
       "      <td>Viral carcinogenesis</td>\n",
       "      <td>KEGG:hsa05203</td>\n",
       "      <td>7.590000e-13</td>\n",
       "      <td>6.650000e-10</td>\n",
       "      <td>13</td>\n",
       "      <td>168</td>\n",
       "      <td>201</td>\n",
       "      <td>45539</td>\n",
       "    </tr>\n",
       "    <tr>\n",
       "      <th>1624466</th>\n",
       "      <td>Zymosan</td>\n",
       "      <td>D015054</td>\n",
       "      <td>9010-72-4</td>\n",
       "      <td>Viral myocarditis</td>\n",
       "      <td>KEGG:hsa05416</td>\n",
       "      <td>2.520000e-06</td>\n",
       "      <td>2.210000e-03</td>\n",
       "      <td>5</td>\n",
       "      <td>168</td>\n",
       "      <td>58</td>\n",
       "      <td>45539</td>\n",
       "    </tr>\n",
       "    <tr>\n",
       "      <th>1624467</th>\n",
       "      <td>Zymosan</td>\n",
       "      <td>D015054</td>\n",
       "      <td>9010-72-4</td>\n",
       "      <td>VLDLR internalisation and degradation</td>\n",
       "      <td>REACT:R-HSA-8866427</td>\n",
       "      <td>1.060000e-05</td>\n",
       "      <td>9.270000e-03</td>\n",
       "      <td>3</td>\n",
       "      <td>168</td>\n",
       "      <td>12</td>\n",
       "      <td>45539</td>\n",
       "    </tr>\n",
       "    <tr>\n",
       "      <th>1624468</th>\n",
       "      <td>Zymosan</td>\n",
       "      <td>D015054</td>\n",
       "      <td>9010-72-4</td>\n",
       "      <td>ZBP1(DAI) mediated induction of type I IFNs</td>\n",
       "      <td>REACT:R-HSA-1606322</td>\n",
       "      <td>3.850000e-10</td>\n",
       "      <td>3.370000e-07</td>\n",
       "      <td>6</td>\n",
       "      <td>168</td>\n",
       "      <td>25</td>\n",
       "      <td>45539</td>\n",
       "    </tr>\n",
       "    <tr>\n",
       "      <th>1624469</th>\n",
       "      <td>zymosterol</td>\n",
       "      <td>C015582</td>\n",
       "      <td>128-33-6</td>\n",
       "      <td>Metabolism of lipids and lipoproteins</td>\n",
       "      <td>REACT:R-HSA-556833</td>\n",
       "      <td>3.190000e-04</td>\n",
       "      <td>5.740000e-03</td>\n",
       "      <td>2</td>\n",
       "      <td>2</td>\n",
       "      <td>814</td>\n",
       "      <td>45539</td>\n",
       "    </tr>\n",
       "  </tbody>\n",
       "</table>\n",
       "<p>1624470 rows × 11 columns</p>\n",
       "</div>"
      ],
      "text/plain": [
       "        ChemicalName ChemicalID      CasRN  \\\n",
       "0           10074-G5    C534883        NaN   \n",
       "1           10074-G5    C534883        NaN   \n",
       "2           10074-G5    C534883        NaN   \n",
       "3           10074-G5    C534883        NaN   \n",
       "4           10074-G5    C534883        NaN   \n",
       "...              ...        ...        ...   \n",
       "1624465      Zymosan    D015054  9010-72-4   \n",
       "1624466      Zymosan    D015054  9010-72-4   \n",
       "1624467      Zymosan    D015054  9010-72-4   \n",
       "1624468      Zymosan    D015054  9010-72-4   \n",
       "1624469   zymosterol    C015582   128-33-6   \n",
       "\n",
       "                                               PathwayName  \\\n",
       "0         Cyclin A:Cdk2-associated events at S phase entry   \n",
       "1        Cyclin E associated events during G1/S transition   \n",
       "2                                          G1/S Transition   \n",
       "3                                   Mitotic G1-G1/S phases   \n",
       "4                                       Pathways in cancer   \n",
       "...                                                    ...   \n",
       "1624465                               Viral carcinogenesis   \n",
       "1624466                                  Viral myocarditis   \n",
       "1624467              VLDLR internalisation and degradation   \n",
       "1624468        ZBP1(DAI) mediated induction of type I IFNs   \n",
       "1624469              Metabolism of lipids and lipoproteins   \n",
       "\n",
       "                   PathwayID        PValue  CorrectedPValue  TargetMatchQty  \\\n",
       "0          REACT:R-HSA-69656  1.440000e-05     1.150000e-03               2   \n",
       "1          REACT:R-HSA-69202  1.480000e-05     1.180000e-03               2   \n",
       "2          REACT:R-HSA-69206  4.050000e-05     3.240000e-03               2   \n",
       "3         REACT:R-HSA-453279  5.850000e-05     4.680000e-03               2   \n",
       "4              KEGG:hsa05200  2.570000e-06     2.060000e-04               3   \n",
       "...                      ...           ...              ...             ...   \n",
       "1624465        KEGG:hsa05203  7.590000e-13     6.650000e-10              13   \n",
       "1624466        KEGG:hsa05416  2.520000e-06     2.210000e-03               5   \n",
       "1624467  REACT:R-HSA-8866427  1.060000e-05     9.270000e-03               3   \n",
       "1624468  REACT:R-HSA-1606322  3.850000e-10     3.370000e-07               6   \n",
       "1624469   REACT:R-HSA-556833  3.190000e-04     5.740000e-03               2   \n",
       "\n",
       "         TargetTotalQty  BackgroundMatchQty  BackgroundTotalQty  \n",
       "0                     4                  71               45539  \n",
       "1                     4                  72               45539  \n",
       "2                     4                 119               45539  \n",
       "3                     4                 143               45539  \n",
       "4                     4                 395               45539  \n",
       "...                 ...                 ...                 ...  \n",
       "1624465             168                 201               45539  \n",
       "1624466             168                  58               45539  \n",
       "1624467             168                  12               45539  \n",
       "1624468             168                  25               45539  \n",
       "1624469               2                 814               45539  \n",
       "\n",
       "[1624470 rows x 11 columns]"
      ]
     },
     "execution_count": 2,
     "metadata": {},
     "output_type": "execute_result"
    }
   ],
   "source": [
    "# Download Link: https://ctdbase.org/reports/CTD_chem_pathways_enriched.csv.gz\n",
    "# Download Date: 2025-03-21\n",
    "# Download Version: 2025-03\n",
    "\n",
    "import pandas as pd\n",
    "from io import StringIO\n",
    "# Read the lines from the file\n",
    "with open('CTD_chem_pathways_enriched.csv', 'r') as f:\n",
    "    lines = f.readlines()\n",
    "\n",
    "# Extract column names\n",
    "columns = []\n",
    "for line in lines:\n",
    "    if line.startswith('# Fields'):\n",
    "        # Get the following line which contains column names\n",
    "        columns = lines[lines.index(line) + 1].strip()[2:].split(',')\n",
    "        break\n",
    "\n",
    "# Filter out comment lines\n",
    "data_lines = [line for line in lines if not line.startswith('#')]\n",
    "\n",
    "# Create a DataFrame from the filtered lines\n",
    "data_str = '\\n'.join(data_lines)\n",
    "ctd = pd.read_csv(StringIO(data_str), names=columns)\n",
    "ctd"
   ]
  },
  {
   "cell_type": "code",
   "execution_count": 4,
   "metadata": {},
   "outputs": [
    {
     "name": "stderr",
     "output_type": "stream",
     "text": [
      "C:\\Users\\shunn\\AppData\\Local\\Temp\\ipykernel_36732\\2449841809.py:2: SettingWithCopyWarning: \n",
      "A value is trying to be set on a copy of a slice from a DataFrame.\n",
      "Try using .loc[row_indexer,col_indexer] = value instead\n",
      "\n",
      "See the caveats in the documentation: https://pandas.pydata.org/pandas-docs/stable/user_guide/indexing.html#returning-a-view-versus-a-copy\n",
      "  ctd['Database'] = ctd['PathwayID'].str.split(':').str[0]\n",
      "C:\\Users\\shunn\\AppData\\Local\\Temp\\ipykernel_36732\\2449841809.py:3: SettingWithCopyWarning: \n",
      "A value is trying to be set on a copy of a slice from a DataFrame.\n",
      "Try using .loc[row_indexer,col_indexer] = value instead\n",
      "\n",
      "See the caveats in the documentation: https://pandas.pydata.org/pandas-docs/stable/user_guide/indexing.html#returning-a-view-versus-a-copy\n",
      "  ctd['PathwayID'] = ctd['PathwayID'].str.split(':').str[1]\n"
     ]
    },
    {
     "data": {
      "application/vnd.microsoft.datawrangler.viewer.v0+json": {
       "columns": [
        {
         "name": "index",
         "rawType": "int64",
         "type": "integer"
        },
        {
         "name": "ChemicalID",
         "rawType": "object",
         "type": "string"
        },
        {
         "name": "CasRN",
         "rawType": "object",
         "type": "unknown"
        },
        {
         "name": "PathwayID",
         "rawType": "object",
         "type": "string"
        },
        {
         "name": "Database",
         "rawType": "object",
         "type": "string"
        }
       ],
       "conversionMethod": "pd.DataFrame",
       "ref": "bddefb6d-8b92-48c2-9cf4-dbfecc116b84",
       "rows": [
        [
         "0",
         "C534883",
         null,
         "R-HSA-69656",
         "REACT"
        ],
        [
         "1",
         "C534883",
         null,
         "R-HSA-69202",
         "REACT"
        ],
        [
         "2",
         "C534883",
         null,
         "R-HSA-69206",
         "REACT"
        ],
        [
         "3",
         "C534883",
         null,
         "R-HSA-453279",
         "REACT"
        ],
        [
         "4",
         "C534883",
         null,
         "hsa05200",
         "KEGG"
        ],
        [
         "5",
         "C534883",
         null,
         "hsa05222",
         "KEGG"
        ],
        [
         "6",
         "C534883",
         null,
         "R-HSA-69242",
         "REACT"
        ],
        [
         "7",
         "C534883",
         null,
         "hsa05202",
         "KEGG"
        ],
        [
         "8",
         "C112297",
         null,
         "hsa04725",
         "KEGG"
        ],
        [
         "9",
         "C112297",
         null,
         "R-HSA-445095",
         "REACT"
        ],
        [
         "10",
         "C112297",
         null,
         "R-HSA-373760",
         "REACT"
        ],
        [
         "11",
         "C112297",
         null,
         "R-HSA-112316",
         "REACT"
        ],
        [
         "12",
         "C112297",
         null,
         "R-HSA-1296071",
         "REACT"
        ],
        [
         "13",
         "C112297",
         null,
         "R-HSA-1296072",
         "REACT"
        ],
        [
         "14",
         "C094849",
         null,
         "hsa04152",
         "KEGG"
        ],
        [
         "15",
         "C094849",
         null,
         "R-HSA-535734",
         "REACT"
        ],
        [
         "16",
         "C094849",
         null,
         "hsa05016",
         "KEGG"
        ],
        [
         "17",
         "C094849",
         null,
         "hsa03320",
         "KEGG"
        ],
        [
         "18",
         "C534422",
         null,
         "hsa05010",
         "KEGG"
        ],
        [
         "19",
         "C534422",
         null,
         "hsa04210",
         "KEGG"
        ],
        [
         "20",
         "C534422",
         null,
         "R-HSA-109581",
         "REACT"
        ],
        [
         "21",
         "C534422",
         null,
         "hsa04215",
         "KEGG"
        ],
        [
         "22",
         "C534422",
         null,
         "R-HSA-111465",
         "REACT"
        ],
        [
         "23",
         "C534422",
         null,
         "R-HSA-75153",
         "REACT"
        ],
        [
         "24",
         "C534422",
         null,
         "R-HSA-5357769",
         "REACT"
        ],
        [
         "25",
         "C534422",
         null,
         "R-HSA-264870",
         "REACT"
        ],
        [
         "26",
         "C534422",
         null,
         "hsa05161",
         "KEGG"
        ],
        [
         "27",
         "C534422",
         null,
         "hsa05168",
         "KEGG"
        ],
        [
         "28",
         "C534422",
         null,
         "hsa05016",
         "KEGG"
        ],
        [
         "29",
         "C534422",
         null,
         "hsa04657",
         "KEGG"
        ],
        [
         "30",
         "C534422",
         null,
         "R-HSA-109606",
         "REACT"
        ],
        [
         "31",
         "C534422",
         null,
         "hsa05134",
         "KEGG"
        ],
        [
         "32",
         "C534422",
         null,
         "hsa04932",
         "KEGG"
        ],
        [
         "33",
         "C534422",
         null,
         "hsa04115",
         "KEGG"
        ],
        [
         "34",
         "C534422",
         null,
         "hsa05200",
         "KEGG"
        ],
        [
         "35",
         "C534422",
         null,
         "hsa01524",
         "KEGG"
        ],
        [
         "36",
         "C534422",
         null,
         "R-HSA-5357801",
         "REACT"
        ],
        [
         "37",
         "C534422",
         null,
         "hsa04668",
         "KEGG"
        ],
        [
         "38",
         "C534422",
         null,
         "hsa05145",
         "KEGG"
        ],
        [
         "39",
         "C534422",
         null,
         "hsa05152",
         "KEGG"
        ],
        [
         "40",
         "C534422",
         null,
         "hsa05203",
         "KEGG"
        ],
        [
         "41",
         "C534422",
         null,
         "hsa05416",
         "KEGG"
        ],
        [
         "42",
         "C496879",
         null,
         "R-HSA-166054",
         "REACT"
        ],
        [
         "43",
         "C496879",
         null,
         "R-HSA-114452",
         "REACT"
        ],
        [
         "44",
         "C496879",
         null,
         "R-HSA-450341",
         "REACT"
        ],
        [
         "45",
         "C496879",
         null,
         "hsa05221",
         "KEGG"
        ],
        [
         "46",
         "C496879",
         null,
         "hsa04920",
         "KEGG"
        ],
        [
         "47",
         "C496879",
         null,
         "hsa04261",
         "KEGG"
        ],
        [
         "48",
         "C496879",
         null,
         "R-HSA-879415",
         "REACT"
        ],
        [
         "49",
         "C496879",
         null,
         "hsa04933",
         "KEGG"
        ]
       ],
       "shape": {
        "columns": 4,
        "rows": 1624470
       }
      },
      "text/html": [
       "<div>\n",
       "<style scoped>\n",
       "    .dataframe tbody tr th:only-of-type {\n",
       "        vertical-align: middle;\n",
       "    }\n",
       "\n",
       "    .dataframe tbody tr th {\n",
       "        vertical-align: top;\n",
       "    }\n",
       "\n",
       "    .dataframe thead th {\n",
       "        text-align: right;\n",
       "    }\n",
       "</style>\n",
       "<table border=\"1\" class=\"dataframe\">\n",
       "  <thead>\n",
       "    <tr style=\"text-align: right;\">\n",
       "      <th></th>\n",
       "      <th>ChemicalID</th>\n",
       "      <th>CasRN</th>\n",
       "      <th>PathwayID</th>\n",
       "      <th>Database</th>\n",
       "    </tr>\n",
       "  </thead>\n",
       "  <tbody>\n",
       "    <tr>\n",
       "      <th>0</th>\n",
       "      <td>C534883</td>\n",
       "      <td>NaN</td>\n",
       "      <td>R-HSA-69656</td>\n",
       "      <td>REACT</td>\n",
       "    </tr>\n",
       "    <tr>\n",
       "      <th>1</th>\n",
       "      <td>C534883</td>\n",
       "      <td>NaN</td>\n",
       "      <td>R-HSA-69202</td>\n",
       "      <td>REACT</td>\n",
       "    </tr>\n",
       "    <tr>\n",
       "      <th>2</th>\n",
       "      <td>C534883</td>\n",
       "      <td>NaN</td>\n",
       "      <td>R-HSA-69206</td>\n",
       "      <td>REACT</td>\n",
       "    </tr>\n",
       "    <tr>\n",
       "      <th>3</th>\n",
       "      <td>C534883</td>\n",
       "      <td>NaN</td>\n",
       "      <td>R-HSA-453279</td>\n",
       "      <td>REACT</td>\n",
       "    </tr>\n",
       "    <tr>\n",
       "      <th>4</th>\n",
       "      <td>C534883</td>\n",
       "      <td>NaN</td>\n",
       "      <td>hsa05200</td>\n",
       "      <td>KEGG</td>\n",
       "    </tr>\n",
       "    <tr>\n",
       "      <th>...</th>\n",
       "      <td>...</td>\n",
       "      <td>...</td>\n",
       "      <td>...</td>\n",
       "      <td>...</td>\n",
       "    </tr>\n",
       "    <tr>\n",
       "      <th>1624465</th>\n",
       "      <td>D015054</td>\n",
       "      <td>9010-72-4</td>\n",
       "      <td>hsa05203</td>\n",
       "      <td>KEGG</td>\n",
       "    </tr>\n",
       "    <tr>\n",
       "      <th>1624466</th>\n",
       "      <td>D015054</td>\n",
       "      <td>9010-72-4</td>\n",
       "      <td>hsa05416</td>\n",
       "      <td>KEGG</td>\n",
       "    </tr>\n",
       "    <tr>\n",
       "      <th>1624467</th>\n",
       "      <td>D015054</td>\n",
       "      <td>9010-72-4</td>\n",
       "      <td>R-HSA-8866427</td>\n",
       "      <td>REACT</td>\n",
       "    </tr>\n",
       "    <tr>\n",
       "      <th>1624468</th>\n",
       "      <td>D015054</td>\n",
       "      <td>9010-72-4</td>\n",
       "      <td>R-HSA-1606322</td>\n",
       "      <td>REACT</td>\n",
       "    </tr>\n",
       "    <tr>\n",
       "      <th>1624469</th>\n",
       "      <td>C015582</td>\n",
       "      <td>128-33-6</td>\n",
       "      <td>R-HSA-556833</td>\n",
       "      <td>REACT</td>\n",
       "    </tr>\n",
       "  </tbody>\n",
       "</table>\n",
       "<p>1624470 rows × 4 columns</p>\n",
       "</div>"
      ],
      "text/plain": [
       "        ChemicalID      CasRN      PathwayID Database\n",
       "0          C534883        NaN    R-HSA-69656    REACT\n",
       "1          C534883        NaN    R-HSA-69202    REACT\n",
       "2          C534883        NaN    R-HSA-69206    REACT\n",
       "3          C534883        NaN   R-HSA-453279    REACT\n",
       "4          C534883        NaN       hsa05200     KEGG\n",
       "...            ...        ...            ...      ...\n",
       "1624465    D015054  9010-72-4       hsa05203     KEGG\n",
       "1624466    D015054  9010-72-4       hsa05416     KEGG\n",
       "1624467    D015054  9010-72-4  R-HSA-8866427    REACT\n",
       "1624468    D015054  9010-72-4  R-HSA-1606322    REACT\n",
       "1624469    C015582   128-33-6   R-HSA-556833    REACT\n",
       "\n",
       "[1624470 rows x 4 columns]"
      ]
     },
     "execution_count": 4,
     "metadata": {},
     "output_type": "execute_result"
    }
   ],
   "source": [
    "ctd = ctd[['ChemicalID', 'CasRN', 'PathwayID']]\n",
    "ctd['Database'] = ctd['PathwayID'].str.split(':').str[0]\n",
    "ctd['PathwayID'] = ctd['PathwayID'].str.split(':').str[1]\n",
    "ctd = ctd.drop_duplicates()\n",
    "ctd"
   ]
  },
  {
   "cell_type": "markdown",
   "metadata": {},
   "source": [
    "### BioMedGraphica ID"
   ]
  },
  {
   "cell_type": "code",
   "execution_count": 3,
   "metadata": {},
   "outputs": [],
   "source": [
    "import pandas as pd\n",
    "import os\n",
    "from pathlib import Path\n",
    "\n",
    "current_working_dir = Path(os.getcwd()).resolve()\n",
    "grandparent_dir = current_working_dir.parent.parent.parent\n",
    "target_dir_exposure = grandparent_dir / 'BioMedGraphica' / 'Entity' / 'Exposure' / 'BioMedGraphica_Exposure.csv'\n",
    "target_dir_pathway = grandparent_dir / 'BioMedGraphica' / 'Entity' / 'Pathway' / 'BioMedGraphica_Pathway.csv'\n",
    "biomedgraphica_exposure = pd.read_csv(target_dir_exposure, dtype=str)\n",
    "biomedgraphica_pathway = pd.read_csv(target_dir_pathway, dtype=str)"
   ]
  },
  {
   "cell_type": "markdown",
   "metadata": {},
   "source": [
    "### CTD Mapping"
   ]
  },
  {
   "cell_type": "code",
   "execution_count": 5,
   "metadata": {},
   "outputs": [
    {
     "name": "stderr",
     "output_type": "stream",
     "text": [
      "C:\\Users\\shunn\\AppData\\Local\\Temp\\ipykernel_36732\\3871213698.py:2: SettingWithCopyWarning: \n",
      "A value is trying to be set on a copy of a slice from a DataFrame\n",
      "\n",
      "See the caveats in the documentation: https://pandas.pydata.org/pandas-docs/stable/user_guide/indexing.html#returning-a-view-versus-a-copy\n",
      "  mesh_individual.dropna(subset=['MeSH_ID'], inplace=True)\n"
     ]
    },
    {
     "data": {
      "application/vnd.microsoft.datawrangler.viewer.v0+json": {
       "columns": [
        {
         "name": "index",
         "rawType": "int64",
         "type": "integer"
        },
        {
         "name": "ChemicalID",
         "rawType": "object",
         "type": "string"
        },
        {
         "name": "CasRN",
         "rawType": "object",
         "type": "unknown"
        },
        {
         "name": "PathwayID",
         "rawType": "object",
         "type": "string"
        },
        {
         "name": "Database",
         "rawType": "object",
         "type": "string"
        },
        {
         "name": "From_mesh",
         "rawType": "object",
         "type": "unknown"
        }
       ],
       "conversionMethod": "pd.DataFrame",
       "ref": "c0d80edc-471b-4245-af45-074891e2ea81",
       "rows": [
        [
         "0",
         "C534883",
         null,
         "R-HSA-69656",
         "REACT",
         null
        ],
        [
         "1",
         "C534883",
         null,
         "R-HSA-69202",
         "REACT",
         null
        ],
        [
         "2",
         "C534883",
         null,
         "R-HSA-69206",
         "REACT",
         null
        ],
        [
         "3",
         "C534883",
         null,
         "R-HSA-453279",
         "REACT",
         null
        ],
        [
         "4",
         "C534883",
         null,
         "hsa05200",
         "KEGG",
         null
        ],
        [
         "5",
         "C534883",
         null,
         "hsa05222",
         "KEGG",
         null
        ],
        [
         "6",
         "C534883",
         null,
         "R-HSA-69242",
         "REACT",
         null
        ],
        [
         "7",
         "C534883",
         null,
         "hsa05202",
         "KEGG",
         null
        ],
        [
         "8",
         "C112297",
         null,
         "hsa04725",
         "KEGG",
         null
        ],
        [
         "9",
         "C112297",
         null,
         "R-HSA-445095",
         "REACT",
         null
        ],
        [
         "10",
         "C112297",
         null,
         "R-HSA-373760",
         "REACT",
         null
        ],
        [
         "11",
         "C112297",
         null,
         "R-HSA-112316",
         "REACT",
         null
        ],
        [
         "12",
         "C112297",
         null,
         "R-HSA-1296071",
         "REACT",
         null
        ],
        [
         "13",
         "C112297",
         null,
         "R-HSA-1296072",
         "REACT",
         null
        ],
        [
         "14",
         "C094849",
         null,
         "hsa04152",
         "KEGG",
         null
        ],
        [
         "15",
         "C094849",
         null,
         "R-HSA-535734",
         "REACT",
         null
        ],
        [
         "16",
         "C094849",
         null,
         "hsa05016",
         "KEGG",
         null
        ],
        [
         "17",
         "C094849",
         null,
         "hsa03320",
         "KEGG",
         null
        ],
        [
         "18",
         "C534422",
         null,
         "hsa05010",
         "KEGG",
         null
        ],
        [
         "19",
         "C534422",
         null,
         "hsa04210",
         "KEGG",
         null
        ],
        [
         "20",
         "C534422",
         null,
         "R-HSA-109581",
         "REACT",
         null
        ],
        [
         "21",
         "C534422",
         null,
         "hsa04215",
         "KEGG",
         null
        ],
        [
         "22",
         "C534422",
         null,
         "R-HSA-111465",
         "REACT",
         null
        ],
        [
         "23",
         "C534422",
         null,
         "R-HSA-75153",
         "REACT",
         null
        ],
        [
         "24",
         "C534422",
         null,
         "R-HSA-5357769",
         "REACT",
         null
        ],
        [
         "25",
         "C534422",
         null,
         "R-HSA-264870",
         "REACT",
         null
        ],
        [
         "26",
         "C534422",
         null,
         "hsa05161",
         "KEGG",
         null
        ],
        [
         "27",
         "C534422",
         null,
         "hsa05168",
         "KEGG",
         null
        ],
        [
         "28",
         "C534422",
         null,
         "hsa05016",
         "KEGG",
         null
        ],
        [
         "29",
         "C534422",
         null,
         "hsa04657",
         "KEGG",
         null
        ],
        [
         "30",
         "C534422",
         null,
         "R-HSA-109606",
         "REACT",
         null
        ],
        [
         "31",
         "C534422",
         null,
         "hsa05134",
         "KEGG",
         null
        ],
        [
         "32",
         "C534422",
         null,
         "hsa04932",
         "KEGG",
         null
        ],
        [
         "33",
         "C534422",
         null,
         "hsa04115",
         "KEGG",
         null
        ],
        [
         "34",
         "C534422",
         null,
         "hsa05200",
         "KEGG",
         null
        ],
        [
         "35",
         "C534422",
         null,
         "hsa01524",
         "KEGG",
         null
        ],
        [
         "36",
         "C534422",
         null,
         "R-HSA-5357801",
         "REACT",
         null
        ],
        [
         "37",
         "C534422",
         null,
         "hsa04668",
         "KEGG",
         null
        ],
        [
         "38",
         "C534422",
         null,
         "hsa05145",
         "KEGG",
         null
        ],
        [
         "39",
         "C534422",
         null,
         "hsa05152",
         "KEGG",
         null
        ],
        [
         "40",
         "C534422",
         null,
         "hsa05203",
         "KEGG",
         null
        ],
        [
         "41",
         "C534422",
         null,
         "hsa05416",
         "KEGG",
         null
        ],
        [
         "42",
         "C496879",
         null,
         "R-HSA-166054",
         "REACT",
         null
        ],
        [
         "43",
         "C496879",
         null,
         "R-HSA-114452",
         "REACT",
         null
        ],
        [
         "44",
         "C496879",
         null,
         "R-HSA-450341",
         "REACT",
         null
        ],
        [
         "45",
         "C496879",
         null,
         "hsa05221",
         "KEGG",
         null
        ],
        [
         "46",
         "C496879",
         null,
         "hsa04920",
         "KEGG",
         null
        ],
        [
         "47",
         "C496879",
         null,
         "hsa04261",
         "KEGG",
         null
        ],
        [
         "48",
         "C496879",
         null,
         "R-HSA-879415",
         "REACT",
         null
        ],
        [
         "49",
         "C496879",
         null,
         "hsa04933",
         "KEGG",
         null
        ]
       ],
       "shape": {
        "columns": 5,
        "rows": 1624470
       }
      },
      "text/html": [
       "<div>\n",
       "<style scoped>\n",
       "    .dataframe tbody tr th:only-of-type {\n",
       "        vertical-align: middle;\n",
       "    }\n",
       "\n",
       "    .dataframe tbody tr th {\n",
       "        vertical-align: top;\n",
       "    }\n",
       "\n",
       "    .dataframe thead th {\n",
       "        text-align: right;\n",
       "    }\n",
       "</style>\n",
       "<table border=\"1\" class=\"dataframe\">\n",
       "  <thead>\n",
       "    <tr style=\"text-align: right;\">\n",
       "      <th></th>\n",
       "      <th>ChemicalID</th>\n",
       "      <th>CasRN</th>\n",
       "      <th>PathwayID</th>\n",
       "      <th>Database</th>\n",
       "      <th>From_mesh</th>\n",
       "    </tr>\n",
       "  </thead>\n",
       "  <tbody>\n",
       "    <tr>\n",
       "      <th>0</th>\n",
       "      <td>C534883</td>\n",
       "      <td>NaN</td>\n",
       "      <td>R-HSA-69656</td>\n",
       "      <td>REACT</td>\n",
       "      <td>NaN</td>\n",
       "    </tr>\n",
       "    <tr>\n",
       "      <th>1</th>\n",
       "      <td>C534883</td>\n",
       "      <td>NaN</td>\n",
       "      <td>R-HSA-69202</td>\n",
       "      <td>REACT</td>\n",
       "      <td>NaN</td>\n",
       "    </tr>\n",
       "    <tr>\n",
       "      <th>2</th>\n",
       "      <td>C534883</td>\n",
       "      <td>NaN</td>\n",
       "      <td>R-HSA-69206</td>\n",
       "      <td>REACT</td>\n",
       "      <td>NaN</td>\n",
       "    </tr>\n",
       "    <tr>\n",
       "      <th>3</th>\n",
       "      <td>C534883</td>\n",
       "      <td>NaN</td>\n",
       "      <td>R-HSA-453279</td>\n",
       "      <td>REACT</td>\n",
       "      <td>NaN</td>\n",
       "    </tr>\n",
       "    <tr>\n",
       "      <th>4</th>\n",
       "      <td>C534883</td>\n",
       "      <td>NaN</td>\n",
       "      <td>hsa05200</td>\n",
       "      <td>KEGG</td>\n",
       "      <td>NaN</td>\n",
       "    </tr>\n",
       "    <tr>\n",
       "      <th>...</th>\n",
       "      <td>...</td>\n",
       "      <td>...</td>\n",
       "      <td>...</td>\n",
       "      <td>...</td>\n",
       "      <td>...</td>\n",
       "    </tr>\n",
       "    <tr>\n",
       "      <th>1624465</th>\n",
       "      <td>D015054</td>\n",
       "      <td>9010-72-4</td>\n",
       "      <td>hsa05203</td>\n",
       "      <td>KEGG</td>\n",
       "      <td>NaN</td>\n",
       "    </tr>\n",
       "    <tr>\n",
       "      <th>1624466</th>\n",
       "      <td>D015054</td>\n",
       "      <td>9010-72-4</td>\n",
       "      <td>hsa05416</td>\n",
       "      <td>KEGG</td>\n",
       "      <td>NaN</td>\n",
       "    </tr>\n",
       "    <tr>\n",
       "      <th>1624467</th>\n",
       "      <td>D015054</td>\n",
       "      <td>9010-72-4</td>\n",
       "      <td>R-HSA-8866427</td>\n",
       "      <td>REACT</td>\n",
       "      <td>NaN</td>\n",
       "    </tr>\n",
       "    <tr>\n",
       "      <th>1624468</th>\n",
       "      <td>D015054</td>\n",
       "      <td>9010-72-4</td>\n",
       "      <td>R-HSA-1606322</td>\n",
       "      <td>REACT</td>\n",
       "      <td>NaN</td>\n",
       "    </tr>\n",
       "    <tr>\n",
       "      <th>1624469</th>\n",
       "      <td>C015582</td>\n",
       "      <td>128-33-6</td>\n",
       "      <td>R-HSA-556833</td>\n",
       "      <td>REACT</td>\n",
       "      <td>NaN</td>\n",
       "    </tr>\n",
       "  </tbody>\n",
       "</table>\n",
       "<p>1624470 rows × 5 columns</p>\n",
       "</div>"
      ],
      "text/plain": [
       "        ChemicalID      CasRN      PathwayID Database From_mesh\n",
       "0          C534883        NaN    R-HSA-69656    REACT       NaN\n",
       "1          C534883        NaN    R-HSA-69202    REACT       NaN\n",
       "2          C534883        NaN    R-HSA-69206    REACT       NaN\n",
       "3          C534883        NaN   R-HSA-453279    REACT       NaN\n",
       "4          C534883        NaN       hsa05200     KEGG       NaN\n",
       "...            ...        ...            ...      ...       ...\n",
       "1624465    D015054  9010-72-4       hsa05203     KEGG       NaN\n",
       "1624466    D015054  9010-72-4       hsa05416     KEGG       NaN\n",
       "1624467    D015054  9010-72-4  R-HSA-8866427    REACT       NaN\n",
       "1624468    D015054  9010-72-4  R-HSA-1606322    REACT       NaN\n",
       "1624469    C015582   128-33-6   R-HSA-556833    REACT       NaN\n",
       "\n",
       "[1624470 rows x 5 columns]"
      ]
     },
     "execution_count": 5,
     "metadata": {},
     "output_type": "execute_result"
    }
   ],
   "source": [
    "mesh_individual = biomedgraphica_exposure[['MeSH_ID', 'BioMedGraphica_ID']]\n",
    "mesh_individual.dropna(subset=['MeSH_ID'], inplace=True)\n",
    "mesh_individual = mesh_individual.assign(MeSH_ID=mesh_individual['MeSH_ID'].str.split(';')).explode('MeSH_ID')\n",
    "\n",
    "mesh_to_individual = mesh_individual.groupby('MeSH_ID')['BioMedGraphica_ID'].apply(lambda x: ';'.join(x.dropna().unique())).to_dict()\n",
    "\n",
    "ctd['From_mesh'] = ctd['ChemicalID'].map(mesh_to_individual)\n",
    "ctd"
   ]
  },
  {
   "cell_type": "code",
   "execution_count": 6,
   "metadata": {},
   "outputs": [
    {
     "name": "stderr",
     "output_type": "stream",
     "text": [
      "C:\\Users\\shunn\\AppData\\Local\\Temp\\ipykernel_36732\\3134881633.py:2: SettingWithCopyWarning: \n",
      "A value is trying to be set on a copy of a slice from a DataFrame\n",
      "\n",
      "See the caveats in the documentation: https://pandas.pydata.org/pandas-docs/stable/user_guide/indexing.html#returning-a-view-versus-a-copy\n",
      "  cas_individual.dropna(subset=['CAS_RN'], inplace=True)\n"
     ]
    },
    {
     "data": {
      "application/vnd.microsoft.datawrangler.viewer.v0+json": {
       "columns": [
        {
         "name": "index",
         "rawType": "int64",
         "type": "integer"
        },
        {
         "name": "ChemicalID",
         "rawType": "object",
         "type": "string"
        },
        {
         "name": "CasRN",
         "rawType": "object",
         "type": "unknown"
        },
        {
         "name": "PathwayID",
         "rawType": "object",
         "type": "string"
        },
        {
         "name": "Database",
         "rawType": "object",
         "type": "string"
        },
        {
         "name": "From_mesh",
         "rawType": "object",
         "type": "unknown"
        },
        {
         "name": "From_cas",
         "rawType": "object",
         "type": "unknown"
        }
       ],
       "conversionMethod": "pd.DataFrame",
       "ref": "3df0cae5-6b6f-4a49-aae0-35191fd99832",
       "rows": [
        [
         "0",
         "C534883",
         null,
         "R-HSA-69656",
         "REACT",
         null,
         null
        ],
        [
         "1",
         "C534883",
         null,
         "R-HSA-69202",
         "REACT",
         null,
         null
        ],
        [
         "2",
         "C534883",
         null,
         "R-HSA-69206",
         "REACT",
         null,
         null
        ],
        [
         "3",
         "C534883",
         null,
         "R-HSA-453279",
         "REACT",
         null,
         null
        ],
        [
         "4",
         "C534883",
         null,
         "hsa05200",
         "KEGG",
         null,
         null
        ],
        [
         "5",
         "C534883",
         null,
         "hsa05222",
         "KEGG",
         null,
         null
        ],
        [
         "6",
         "C534883",
         null,
         "R-HSA-69242",
         "REACT",
         null,
         null
        ],
        [
         "7",
         "C534883",
         null,
         "hsa05202",
         "KEGG",
         null,
         null
        ],
        [
         "8",
         "C112297",
         null,
         "hsa04725",
         "KEGG",
         null,
         null
        ],
        [
         "9",
         "C112297",
         null,
         "R-HSA-445095",
         "REACT",
         null,
         null
        ],
        [
         "10",
         "C112297",
         null,
         "R-HSA-373760",
         "REACT",
         null,
         null
        ],
        [
         "11",
         "C112297",
         null,
         "R-HSA-112316",
         "REACT",
         null,
         null
        ],
        [
         "12",
         "C112297",
         null,
         "R-HSA-1296071",
         "REACT",
         null,
         null
        ],
        [
         "13",
         "C112297",
         null,
         "R-HSA-1296072",
         "REACT",
         null,
         null
        ],
        [
         "14",
         "C094849",
         null,
         "hsa04152",
         "KEGG",
         null,
         null
        ],
        [
         "15",
         "C094849",
         null,
         "R-HSA-535734",
         "REACT",
         null,
         null
        ],
        [
         "16",
         "C094849",
         null,
         "hsa05016",
         "KEGG",
         null,
         null
        ],
        [
         "17",
         "C094849",
         null,
         "hsa03320",
         "KEGG",
         null,
         null
        ],
        [
         "18",
         "C534422",
         null,
         "hsa05010",
         "KEGG",
         null,
         null
        ],
        [
         "19",
         "C534422",
         null,
         "hsa04210",
         "KEGG",
         null,
         null
        ],
        [
         "20",
         "C534422",
         null,
         "R-HSA-109581",
         "REACT",
         null,
         null
        ],
        [
         "21",
         "C534422",
         null,
         "hsa04215",
         "KEGG",
         null,
         null
        ],
        [
         "22",
         "C534422",
         null,
         "R-HSA-111465",
         "REACT",
         null,
         null
        ],
        [
         "23",
         "C534422",
         null,
         "R-HSA-75153",
         "REACT",
         null,
         null
        ],
        [
         "24",
         "C534422",
         null,
         "R-HSA-5357769",
         "REACT",
         null,
         null
        ],
        [
         "25",
         "C534422",
         null,
         "R-HSA-264870",
         "REACT",
         null,
         null
        ],
        [
         "26",
         "C534422",
         null,
         "hsa05161",
         "KEGG",
         null,
         null
        ],
        [
         "27",
         "C534422",
         null,
         "hsa05168",
         "KEGG",
         null,
         null
        ],
        [
         "28",
         "C534422",
         null,
         "hsa05016",
         "KEGG",
         null,
         null
        ],
        [
         "29",
         "C534422",
         null,
         "hsa04657",
         "KEGG",
         null,
         null
        ],
        [
         "30",
         "C534422",
         null,
         "R-HSA-109606",
         "REACT",
         null,
         null
        ],
        [
         "31",
         "C534422",
         null,
         "hsa05134",
         "KEGG",
         null,
         null
        ],
        [
         "32",
         "C534422",
         null,
         "hsa04932",
         "KEGG",
         null,
         null
        ],
        [
         "33",
         "C534422",
         null,
         "hsa04115",
         "KEGG",
         null,
         null
        ],
        [
         "34",
         "C534422",
         null,
         "hsa05200",
         "KEGG",
         null,
         null
        ],
        [
         "35",
         "C534422",
         null,
         "hsa01524",
         "KEGG",
         null,
         null
        ],
        [
         "36",
         "C534422",
         null,
         "R-HSA-5357801",
         "REACT",
         null,
         null
        ],
        [
         "37",
         "C534422",
         null,
         "hsa04668",
         "KEGG",
         null,
         null
        ],
        [
         "38",
         "C534422",
         null,
         "hsa05145",
         "KEGG",
         null,
         null
        ],
        [
         "39",
         "C534422",
         null,
         "hsa05152",
         "KEGG",
         null,
         null
        ],
        [
         "40",
         "C534422",
         null,
         "hsa05203",
         "KEGG",
         null,
         null
        ],
        [
         "41",
         "C534422",
         null,
         "hsa05416",
         "KEGG",
         null,
         null
        ],
        [
         "42",
         "C496879",
         null,
         "R-HSA-166054",
         "REACT",
         null,
         null
        ],
        [
         "43",
         "C496879",
         null,
         "R-HSA-114452",
         "REACT",
         null,
         null
        ],
        [
         "44",
         "C496879",
         null,
         "R-HSA-450341",
         "REACT",
         null,
         null
        ],
        [
         "45",
         "C496879",
         null,
         "hsa05221",
         "KEGG",
         null,
         null
        ],
        [
         "46",
         "C496879",
         null,
         "hsa04920",
         "KEGG",
         null,
         null
        ],
        [
         "47",
         "C496879",
         null,
         "hsa04261",
         "KEGG",
         null,
         null
        ],
        [
         "48",
         "C496879",
         null,
         "R-HSA-879415",
         "REACT",
         null,
         null
        ],
        [
         "49",
         "C496879",
         null,
         "hsa04933",
         "KEGG",
         null,
         null
        ]
       ],
       "shape": {
        "columns": 6,
        "rows": 1624470
       }
      },
      "text/html": [
       "<div>\n",
       "<style scoped>\n",
       "    .dataframe tbody tr th:only-of-type {\n",
       "        vertical-align: middle;\n",
       "    }\n",
       "\n",
       "    .dataframe tbody tr th {\n",
       "        vertical-align: top;\n",
       "    }\n",
       "\n",
       "    .dataframe thead th {\n",
       "        text-align: right;\n",
       "    }\n",
       "</style>\n",
       "<table border=\"1\" class=\"dataframe\">\n",
       "  <thead>\n",
       "    <tr style=\"text-align: right;\">\n",
       "      <th></th>\n",
       "      <th>ChemicalID</th>\n",
       "      <th>CasRN</th>\n",
       "      <th>PathwayID</th>\n",
       "      <th>Database</th>\n",
       "      <th>From_mesh</th>\n",
       "      <th>From_cas</th>\n",
       "    </tr>\n",
       "  </thead>\n",
       "  <tbody>\n",
       "    <tr>\n",
       "      <th>0</th>\n",
       "      <td>C534883</td>\n",
       "      <td>NaN</td>\n",
       "      <td>R-HSA-69656</td>\n",
       "      <td>REACT</td>\n",
       "      <td>NaN</td>\n",
       "      <td>NaN</td>\n",
       "    </tr>\n",
       "    <tr>\n",
       "      <th>1</th>\n",
       "      <td>C534883</td>\n",
       "      <td>NaN</td>\n",
       "      <td>R-HSA-69202</td>\n",
       "      <td>REACT</td>\n",
       "      <td>NaN</td>\n",
       "      <td>NaN</td>\n",
       "    </tr>\n",
       "    <tr>\n",
       "      <th>2</th>\n",
       "      <td>C534883</td>\n",
       "      <td>NaN</td>\n",
       "      <td>R-HSA-69206</td>\n",
       "      <td>REACT</td>\n",
       "      <td>NaN</td>\n",
       "      <td>NaN</td>\n",
       "    </tr>\n",
       "    <tr>\n",
       "      <th>3</th>\n",
       "      <td>C534883</td>\n",
       "      <td>NaN</td>\n",
       "      <td>R-HSA-453279</td>\n",
       "      <td>REACT</td>\n",
       "      <td>NaN</td>\n",
       "      <td>NaN</td>\n",
       "    </tr>\n",
       "    <tr>\n",
       "      <th>4</th>\n",
       "      <td>C534883</td>\n",
       "      <td>NaN</td>\n",
       "      <td>hsa05200</td>\n",
       "      <td>KEGG</td>\n",
       "      <td>NaN</td>\n",
       "      <td>NaN</td>\n",
       "    </tr>\n",
       "    <tr>\n",
       "      <th>...</th>\n",
       "      <td>...</td>\n",
       "      <td>...</td>\n",
       "      <td>...</td>\n",
       "      <td>...</td>\n",
       "      <td>...</td>\n",
       "      <td>...</td>\n",
       "    </tr>\n",
       "    <tr>\n",
       "      <th>1624465</th>\n",
       "      <td>D015054</td>\n",
       "      <td>9010-72-4</td>\n",
       "      <td>hsa05203</td>\n",
       "      <td>KEGG</td>\n",
       "      <td>NaN</td>\n",
       "      <td>NaN</td>\n",
       "    </tr>\n",
       "    <tr>\n",
       "      <th>1624466</th>\n",
       "      <td>D015054</td>\n",
       "      <td>9010-72-4</td>\n",
       "      <td>hsa05416</td>\n",
       "      <td>KEGG</td>\n",
       "      <td>NaN</td>\n",
       "      <td>NaN</td>\n",
       "    </tr>\n",
       "    <tr>\n",
       "      <th>1624467</th>\n",
       "      <td>D015054</td>\n",
       "      <td>9010-72-4</td>\n",
       "      <td>R-HSA-8866427</td>\n",
       "      <td>REACT</td>\n",
       "      <td>NaN</td>\n",
       "      <td>NaN</td>\n",
       "    </tr>\n",
       "    <tr>\n",
       "      <th>1624468</th>\n",
       "      <td>D015054</td>\n",
       "      <td>9010-72-4</td>\n",
       "      <td>R-HSA-1606322</td>\n",
       "      <td>REACT</td>\n",
       "      <td>NaN</td>\n",
       "      <td>NaN</td>\n",
       "    </tr>\n",
       "    <tr>\n",
       "      <th>1624469</th>\n",
       "      <td>C015582</td>\n",
       "      <td>128-33-6</td>\n",
       "      <td>R-HSA-556833</td>\n",
       "      <td>REACT</td>\n",
       "      <td>NaN</td>\n",
       "      <td>NaN</td>\n",
       "    </tr>\n",
       "  </tbody>\n",
       "</table>\n",
       "<p>1624470 rows × 6 columns</p>\n",
       "</div>"
      ],
      "text/plain": [
       "        ChemicalID      CasRN      PathwayID Database From_mesh From_cas\n",
       "0          C534883        NaN    R-HSA-69656    REACT       NaN      NaN\n",
       "1          C534883        NaN    R-HSA-69202    REACT       NaN      NaN\n",
       "2          C534883        NaN    R-HSA-69206    REACT       NaN      NaN\n",
       "3          C534883        NaN   R-HSA-453279    REACT       NaN      NaN\n",
       "4          C534883        NaN       hsa05200     KEGG       NaN      NaN\n",
       "...            ...        ...            ...      ...       ...      ...\n",
       "1624465    D015054  9010-72-4       hsa05203     KEGG       NaN      NaN\n",
       "1624466    D015054  9010-72-4       hsa05416     KEGG       NaN      NaN\n",
       "1624467    D015054  9010-72-4  R-HSA-8866427    REACT       NaN      NaN\n",
       "1624468    D015054  9010-72-4  R-HSA-1606322    REACT       NaN      NaN\n",
       "1624469    C015582   128-33-6   R-HSA-556833    REACT       NaN      NaN\n",
       "\n",
       "[1624470 rows x 6 columns]"
      ]
     },
     "execution_count": 6,
     "metadata": {},
     "output_type": "execute_result"
    }
   ],
   "source": [
    "cas_individual = biomedgraphica_exposure[['CAS_RN', 'BioMedGraphica_ID']]\n",
    "cas_individual.dropna(subset=['CAS_RN'], inplace=True)\n",
    "cas_individual = cas_individual.assign(CAS_RN=cas_individual['CAS_RN'].str.split(';')).explode('CAS_RN')\n",
    "\n",
    "cas_to_individual = cas_individual.groupby('CAS_RN')['BioMedGraphica_ID'].apply(lambda x: ';'.join(x.dropna().unique())).to_dict()\n",
    "\n",
    "ctd['From_cas'] = ctd['CasRN'].map(cas_to_individual)\n",
    "ctd"
   ]
  },
  {
   "cell_type": "code",
   "execution_count": 7,
   "metadata": {},
   "outputs": [
    {
     "name": "stderr",
     "output_type": "stream",
     "text": [
      "C:\\Users\\shunn\\AppData\\Local\\Temp\\ipykernel_36732\\2569916495.py:2: SettingWithCopyWarning: \n",
      "A value is trying to be set on a copy of a slice from a DataFrame\n",
      "\n",
      "See the caveats in the documentation: https://pandas.pydata.org/pandas-docs/stable/user_guide/indexing.html#returning-a-view-versus-a-copy\n",
      "  kegg_individual.dropna(subset=['KEGG_ID'], inplace=True)\n"
     ]
    },
    {
     "data": {
      "application/vnd.microsoft.datawrangler.viewer.v0+json": {
       "columns": [
        {
         "name": "index",
         "rawType": "int64",
         "type": "integer"
        },
        {
         "name": "ChemicalID",
         "rawType": "object",
         "type": "string"
        },
        {
         "name": "CasRN",
         "rawType": "object",
         "type": "unknown"
        },
        {
         "name": "PathwayID",
         "rawType": "object",
         "type": "string"
        },
        {
         "name": "Database",
         "rawType": "object",
         "type": "string"
        },
        {
         "name": "From_mesh",
         "rawType": "object",
         "type": "unknown"
        },
        {
         "name": "From_cas",
         "rawType": "object",
         "type": "unknown"
        },
        {
         "name": "To_kegg",
         "rawType": "object",
         "type": "unknown"
        }
       ],
       "conversionMethod": "pd.DataFrame",
       "ref": "9d0f65bf-e3ab-4d09-b264-a5e8589d1339",
       "rows": [
        [
         "0",
         "C534883",
         null,
         "R-HSA-69656",
         "REACT",
         null,
         null,
         null
        ],
        [
         "1",
         "C534883",
         null,
         "R-HSA-69202",
         "REACT",
         null,
         null,
         null
        ],
        [
         "2",
         "C534883",
         null,
         "R-HSA-69206",
         "REACT",
         null,
         null,
         null
        ],
        [
         "3",
         "C534883",
         null,
         "R-HSA-453279",
         "REACT",
         null,
         null,
         null
        ],
        [
         "4",
         "C534883",
         null,
         "hsa05200",
         "KEGG",
         null,
         null,
         "BMG_PW6766"
        ],
        [
         "5",
         "C534883",
         null,
         "hsa05222",
         "KEGG",
         null,
         null,
         "BMG_PW0699"
        ],
        [
         "6",
         "C534883",
         null,
         "R-HSA-69242",
         "REACT",
         null,
         null,
         null
        ],
        [
         "7",
         "C534883",
         null,
         "hsa05202",
         "KEGG",
         null,
         null,
         "BMG_PW6767"
        ],
        [
         "8",
         "C112297",
         null,
         "hsa04725",
         "KEGG",
         null,
         null,
         "BMG_PW0836"
        ],
        [
         "9",
         "C112297",
         null,
         "R-HSA-445095",
         "REACT",
         null,
         null,
         null
        ],
        [
         "10",
         "C112297",
         null,
         "R-HSA-373760",
         "REACT",
         null,
         null,
         null
        ],
        [
         "11",
         "C112297",
         null,
         "R-HSA-112316",
         "REACT",
         null,
         null,
         null
        ],
        [
         "12",
         "C112297",
         null,
         "R-HSA-1296071",
         "REACT",
         null,
         null,
         null
        ],
        [
         "13",
         "C112297",
         null,
         "R-HSA-1296072",
         "REACT",
         null,
         null,
         null
        ],
        [
         "14",
         "C094849",
         null,
         "hsa04152",
         "KEGG",
         null,
         null,
         "BMG_PW5130"
        ],
        [
         "15",
         "C094849",
         null,
         "R-HSA-535734",
         "REACT",
         null,
         null,
         null
        ],
        [
         "16",
         "C094849",
         null,
         "hsa05016",
         "KEGG",
         null,
         null,
         "BMG_PW6747"
        ],
        [
         "17",
         "C094849",
         null,
         "hsa03320",
         "KEGG",
         null,
         null,
         "BMG_PW5768"
        ],
        [
         "18",
         "C534422",
         null,
         "hsa05010",
         "KEGG",
         null,
         null,
         "BMG_PW0015"
        ],
        [
         "19",
         "C534422",
         null,
         "hsa04210",
         "KEGG",
         null,
         null,
         "BMG_PW0009;BMG_PW0103;BMG_PW0105"
        ],
        [
         "20",
         "C534422",
         null,
         "R-HSA-109581",
         "REACT",
         null,
         null,
         null
        ],
        [
         "21",
         "C534422",
         null,
         "hsa04215",
         "KEGG",
         null,
         null,
         "BMG_PW6682"
        ],
        [
         "22",
         "C534422",
         null,
         "R-HSA-111465",
         "REACT",
         null,
         null,
         null
        ],
        [
         "23",
         "C534422",
         null,
         "R-HSA-75153",
         "REACT",
         null,
         null,
         null
        ],
        [
         "24",
         "C534422",
         null,
         "R-HSA-5357769",
         "REACT",
         null,
         null,
         null
        ],
        [
         "25",
         "C534422",
         null,
         "R-HSA-264870",
         "REACT",
         null,
         null,
         null
        ],
        [
         "26",
         "C534422",
         null,
         "hsa05161",
         "KEGG",
         null,
         null,
         "BMG_PW6757"
        ],
        [
         "27",
         "C534422",
         null,
         "hsa05168",
         "KEGG",
         null,
         null,
         "BMG_PW6762"
        ],
        [
         "28",
         "C534422",
         null,
         "hsa05016",
         "KEGG",
         null,
         null,
         "BMG_PW6747"
        ],
        [
         "29",
         "C534422",
         null,
         "hsa04657",
         "KEGG",
         null,
         null,
         "BMG_PW0892"
        ],
        [
         "30",
         "C534422",
         null,
         "R-HSA-109606",
         "REACT",
         null,
         null,
         null
        ],
        [
         "31",
         "C534422",
         null,
         "hsa05134",
         "KEGG",
         null,
         null,
         "BMG_PW1039"
        ],
        [
         "32",
         "C534422",
         null,
         "hsa04932",
         "KEGG",
         null,
         null,
         "BMG_PW6727"
        ],
        [
         "33",
         "C534422",
         null,
         "hsa04115",
         "KEGG",
         null,
         null,
         "BMG_PW6673"
        ],
        [
         "34",
         "C534422",
         null,
         "hsa05200",
         "KEGG",
         null,
         null,
         "BMG_PW6766"
        ],
        [
         "35",
         "C534422",
         null,
         "hsa01524",
         "KEGG",
         null,
         null,
         "BMG_PW6642"
        ],
        [
         "36",
         "C534422",
         null,
         "R-HSA-5357801",
         "REACT",
         null,
         null,
         null
        ],
        [
         "37",
         "C534422",
         null,
         "hsa04668",
         "KEGG",
         null,
         null,
         "BMG_PW0231"
        ],
        [
         "38",
         "C534422",
         null,
         "hsa05145",
         "KEGG",
         null,
         null,
         "BMG_PW1047"
        ],
        [
         "39",
         "C534422",
         null,
         "hsa05152",
         "KEGG",
         null,
         null,
         "BMG_PW1041"
        ],
        [
         "40",
         "C534422",
         null,
         "hsa05203",
         "KEGG",
         null,
         null,
         "BMG_PW6768"
        ],
        [
         "41",
         "C534422",
         null,
         "hsa05416",
         "KEGG",
         null,
         null,
         "BMG_PW1032"
        ],
        [
         "42",
         "C496879",
         null,
         "R-HSA-166054",
         "REACT",
         null,
         null,
         null
        ],
        [
         "43",
         "C496879",
         null,
         "R-HSA-114452",
         "REACT",
         null,
         null,
         null
        ],
        [
         "44",
         "C496879",
         null,
         "R-HSA-450341",
         "REACT",
         null,
         null,
         null
        ],
        [
         "45",
         "C496879",
         null,
         "hsa05221",
         "KEGG",
         null,
         null,
         "BMG_PW0704"
        ],
        [
         "46",
         "C496879",
         null,
         "hsa04920",
         "KEGG",
         null,
         null,
         "BMG_PW6718"
        ],
        [
         "47",
         "C496879",
         null,
         "hsa04261",
         "KEGG",
         null,
         null,
         "BMG_PW6685"
        ],
        [
         "48",
         "C496879",
         null,
         "R-HSA-879415",
         "REACT",
         null,
         null,
         null
        ],
        [
         "49",
         "C496879",
         null,
         "hsa04933",
         "KEGG",
         null,
         null,
         "BMG_PW6728"
        ]
       ],
       "shape": {
        "columns": 7,
        "rows": 1624470
       }
      },
      "text/html": [
       "<div>\n",
       "<style scoped>\n",
       "    .dataframe tbody tr th:only-of-type {\n",
       "        vertical-align: middle;\n",
       "    }\n",
       "\n",
       "    .dataframe tbody tr th {\n",
       "        vertical-align: top;\n",
       "    }\n",
       "\n",
       "    .dataframe thead th {\n",
       "        text-align: right;\n",
       "    }\n",
       "</style>\n",
       "<table border=\"1\" class=\"dataframe\">\n",
       "  <thead>\n",
       "    <tr style=\"text-align: right;\">\n",
       "      <th></th>\n",
       "      <th>ChemicalID</th>\n",
       "      <th>CasRN</th>\n",
       "      <th>PathwayID</th>\n",
       "      <th>Database</th>\n",
       "      <th>From_mesh</th>\n",
       "      <th>From_cas</th>\n",
       "      <th>To_kegg</th>\n",
       "    </tr>\n",
       "  </thead>\n",
       "  <tbody>\n",
       "    <tr>\n",
       "      <th>0</th>\n",
       "      <td>C534883</td>\n",
       "      <td>NaN</td>\n",
       "      <td>R-HSA-69656</td>\n",
       "      <td>REACT</td>\n",
       "      <td>NaN</td>\n",
       "      <td>NaN</td>\n",
       "      <td>NaN</td>\n",
       "    </tr>\n",
       "    <tr>\n",
       "      <th>1</th>\n",
       "      <td>C534883</td>\n",
       "      <td>NaN</td>\n",
       "      <td>R-HSA-69202</td>\n",
       "      <td>REACT</td>\n",
       "      <td>NaN</td>\n",
       "      <td>NaN</td>\n",
       "      <td>NaN</td>\n",
       "    </tr>\n",
       "    <tr>\n",
       "      <th>2</th>\n",
       "      <td>C534883</td>\n",
       "      <td>NaN</td>\n",
       "      <td>R-HSA-69206</td>\n",
       "      <td>REACT</td>\n",
       "      <td>NaN</td>\n",
       "      <td>NaN</td>\n",
       "      <td>NaN</td>\n",
       "    </tr>\n",
       "    <tr>\n",
       "      <th>3</th>\n",
       "      <td>C534883</td>\n",
       "      <td>NaN</td>\n",
       "      <td>R-HSA-453279</td>\n",
       "      <td>REACT</td>\n",
       "      <td>NaN</td>\n",
       "      <td>NaN</td>\n",
       "      <td>NaN</td>\n",
       "    </tr>\n",
       "    <tr>\n",
       "      <th>4</th>\n",
       "      <td>C534883</td>\n",
       "      <td>NaN</td>\n",
       "      <td>hsa05200</td>\n",
       "      <td>KEGG</td>\n",
       "      <td>NaN</td>\n",
       "      <td>NaN</td>\n",
       "      <td>BMG_PW6766</td>\n",
       "    </tr>\n",
       "    <tr>\n",
       "      <th>...</th>\n",
       "      <td>...</td>\n",
       "      <td>...</td>\n",
       "      <td>...</td>\n",
       "      <td>...</td>\n",
       "      <td>...</td>\n",
       "      <td>...</td>\n",
       "      <td>...</td>\n",
       "    </tr>\n",
       "    <tr>\n",
       "      <th>1624465</th>\n",
       "      <td>D015054</td>\n",
       "      <td>9010-72-4</td>\n",
       "      <td>hsa05203</td>\n",
       "      <td>KEGG</td>\n",
       "      <td>NaN</td>\n",
       "      <td>NaN</td>\n",
       "      <td>BMG_PW6768</td>\n",
       "    </tr>\n",
       "    <tr>\n",
       "      <th>1624466</th>\n",
       "      <td>D015054</td>\n",
       "      <td>9010-72-4</td>\n",
       "      <td>hsa05416</td>\n",
       "      <td>KEGG</td>\n",
       "      <td>NaN</td>\n",
       "      <td>NaN</td>\n",
       "      <td>BMG_PW1032</td>\n",
       "    </tr>\n",
       "    <tr>\n",
       "      <th>1624467</th>\n",
       "      <td>D015054</td>\n",
       "      <td>9010-72-4</td>\n",
       "      <td>R-HSA-8866427</td>\n",
       "      <td>REACT</td>\n",
       "      <td>NaN</td>\n",
       "      <td>NaN</td>\n",
       "      <td>NaN</td>\n",
       "    </tr>\n",
       "    <tr>\n",
       "      <th>1624468</th>\n",
       "      <td>D015054</td>\n",
       "      <td>9010-72-4</td>\n",
       "      <td>R-HSA-1606322</td>\n",
       "      <td>REACT</td>\n",
       "      <td>NaN</td>\n",
       "      <td>NaN</td>\n",
       "      <td>NaN</td>\n",
       "    </tr>\n",
       "    <tr>\n",
       "      <th>1624469</th>\n",
       "      <td>C015582</td>\n",
       "      <td>128-33-6</td>\n",
       "      <td>R-HSA-556833</td>\n",
       "      <td>REACT</td>\n",
       "      <td>NaN</td>\n",
       "      <td>NaN</td>\n",
       "      <td>NaN</td>\n",
       "    </tr>\n",
       "  </tbody>\n",
       "</table>\n",
       "<p>1624470 rows × 7 columns</p>\n",
       "</div>"
      ],
      "text/plain": [
       "        ChemicalID      CasRN      PathwayID Database From_mesh From_cas  \\\n",
       "0          C534883        NaN    R-HSA-69656    REACT       NaN      NaN   \n",
       "1          C534883        NaN    R-HSA-69202    REACT       NaN      NaN   \n",
       "2          C534883        NaN    R-HSA-69206    REACT       NaN      NaN   \n",
       "3          C534883        NaN   R-HSA-453279    REACT       NaN      NaN   \n",
       "4          C534883        NaN       hsa05200     KEGG       NaN      NaN   \n",
       "...            ...        ...            ...      ...       ...      ...   \n",
       "1624465    D015054  9010-72-4       hsa05203     KEGG       NaN      NaN   \n",
       "1624466    D015054  9010-72-4       hsa05416     KEGG       NaN      NaN   \n",
       "1624467    D015054  9010-72-4  R-HSA-8866427    REACT       NaN      NaN   \n",
       "1624468    D015054  9010-72-4  R-HSA-1606322    REACT       NaN      NaN   \n",
       "1624469    C015582   128-33-6   R-HSA-556833    REACT       NaN      NaN   \n",
       "\n",
       "            To_kegg  \n",
       "0               NaN  \n",
       "1               NaN  \n",
       "2               NaN  \n",
       "3               NaN  \n",
       "4        BMG_PW6766  \n",
       "...             ...  \n",
       "1624465  BMG_PW6768  \n",
       "1624466  BMG_PW1032  \n",
       "1624467         NaN  \n",
       "1624468         NaN  \n",
       "1624469         NaN  \n",
       "\n",
       "[1624470 rows x 7 columns]"
      ]
     },
     "execution_count": 7,
     "metadata": {},
     "output_type": "execute_result"
    }
   ],
   "source": [
    "kegg_individual = biomedgraphica_pathway[['KEGG_ID', 'BioMedGraphica_ID']]\n",
    "kegg_individual.dropna(subset=['KEGG_ID'], inplace=True)\n",
    "kegg_individual = kegg_individual.assign(KEGG_ID=kegg_individual['KEGG_ID'].str.split(';')).explode('KEGG_ID')\n",
    "\n",
    "kegg_to_individual = kegg_individual.groupby('KEGG_ID')['BioMedGraphica_ID'].apply(lambda x: ';'.join(x.dropna().unique())).to_dict()\n",
    "\n",
    "ctd['To_kegg'] = ctd['PathwayID'].map(kegg_to_individual)\n",
    "ctd"
   ]
  },
  {
   "cell_type": "code",
   "execution_count": 8,
   "metadata": {},
   "outputs": [
    {
     "name": "stderr",
     "output_type": "stream",
     "text": [
      "C:\\Users\\shunn\\AppData\\Local\\Temp\\ipykernel_36732\\3355130920.py:2: SettingWithCopyWarning: \n",
      "A value is trying to be set on a copy of a slice from a DataFrame\n",
      "\n",
      "See the caveats in the documentation: https://pandas.pydata.org/pandas-docs/stable/user_guide/indexing.html#returning-a-view-versus-a-copy\n",
      "  reactome_individual.dropna(subset=['Reactome_ID'], inplace=True)\n"
     ]
    },
    {
     "data": {
      "application/vnd.microsoft.datawrangler.viewer.v0+json": {
       "columns": [
        {
         "name": "index",
         "rawType": "int64",
         "type": "integer"
        },
        {
         "name": "ChemicalID",
         "rawType": "object",
         "type": "string"
        },
        {
         "name": "CasRN",
         "rawType": "object",
         "type": "unknown"
        },
        {
         "name": "PathwayID",
         "rawType": "object",
         "type": "string"
        },
        {
         "name": "Database",
         "rawType": "object",
         "type": "string"
        },
        {
         "name": "From_mesh",
         "rawType": "object",
         "type": "unknown"
        },
        {
         "name": "From_cas",
         "rawType": "object",
         "type": "unknown"
        },
        {
         "name": "To_kegg",
         "rawType": "object",
         "type": "unknown"
        },
        {
         "name": "To_reactome",
         "rawType": "object",
         "type": "unknown"
        }
       ],
       "conversionMethod": "pd.DataFrame",
       "ref": "5fd2fe9c-4538-4edc-a957-9ab4bdb1be7e",
       "rows": [
        [
         "0",
         "C534883",
         null,
         "R-HSA-69656",
         "REACT",
         null,
         null,
         null,
         "BMG_PW4215"
        ],
        [
         "1",
         "C534883",
         null,
         "R-HSA-69202",
         "REACT",
         null,
         null,
         null,
         "BMG_PW4204"
        ],
        [
         "2",
         "C534883",
         null,
         "R-HSA-69206",
         "REACT",
         null,
         null,
         null,
         "BMG_PW0087"
        ],
        [
         "3",
         "C534883",
         null,
         "R-HSA-453279",
         "REACT",
         null,
         null,
         null,
         "BMG_PW3689"
        ],
        [
         "4",
         "C534883",
         null,
         "hsa05200",
         "KEGG",
         null,
         null,
         "BMG_PW6766",
         null
        ],
        [
         "5",
         "C534883",
         null,
         "hsa05222",
         "KEGG",
         null,
         null,
         "BMG_PW0699",
         null
        ],
        [
         "6",
         "C534883",
         null,
         "R-HSA-69242",
         "REACT",
         null,
         null,
         null,
         "BMG_PW0088"
        ],
        [
         "7",
         "C534883",
         null,
         "hsa05202",
         "KEGG",
         null,
         null,
         "BMG_PW6767",
         null
        ],
        [
         "8",
         "C112297",
         null,
         "hsa04725",
         "KEGG",
         null,
         null,
         "BMG_PW0836",
         null
        ],
        [
         "9",
         "C112297",
         null,
         "R-HSA-445095",
         "REACT",
         null,
         null,
         null,
         "BMG_PW3652"
        ],
        [
         "10",
         "C112297",
         null,
         "R-HSA-373760",
         "REACT",
         null,
         null,
         null,
         "BMG_PW3452"
        ],
        [
         "11",
         "C112297",
         null,
         "R-HSA-112316",
         "REACT",
         null,
         null,
         null,
         "BMG_PW0058"
        ],
        [
         "12",
         "C112297",
         null,
         "R-HSA-1296071",
         "REACT",
         null,
         null,
         null,
         "BMG_PW2782"
        ],
        [
         "13",
         "C112297",
         null,
         "R-HSA-1296072",
         "REACT",
         null,
         null,
         null,
         "BMG_PW2783"
        ],
        [
         "14",
         "C094849",
         null,
         "hsa04152",
         "KEGG",
         null,
         null,
         "BMG_PW5130",
         null
        ],
        [
         "15",
         "C094849",
         null,
         "R-HSA-535734",
         "REACT",
         null,
         null,
         null,
         null
        ],
        [
         "16",
         "C094849",
         null,
         "hsa05016",
         "KEGG",
         null,
         null,
         "BMG_PW6747",
         null
        ],
        [
         "17",
         "C094849",
         null,
         "hsa03320",
         "KEGG",
         null,
         null,
         "BMG_PW5768",
         null
        ],
        [
         "18",
         "C534422",
         null,
         "hsa05010",
         "KEGG",
         null,
         null,
         "BMG_PW0015",
         null
        ],
        [
         "19",
         "C534422",
         null,
         "hsa04210",
         "KEGG",
         null,
         null,
         "BMG_PW0009;BMG_PW0103;BMG_PW0105",
         null
        ],
        [
         "20",
         "C534422",
         null,
         "R-HSA-109581",
         "REACT",
         null,
         null,
         null,
         "BMG_PW0009"
        ],
        [
         "21",
         "C534422",
         null,
         "hsa04215",
         "KEGG",
         null,
         null,
         "BMG_PW6682",
         null
        ],
        [
         "22",
         "C534422",
         null,
         "R-HSA-111465",
         "REACT",
         null,
         null,
         null,
         "BMG_PW2704"
        ],
        [
         "23",
         "C534422",
         null,
         "R-HSA-75153",
         "REACT",
         null,
         null,
         null,
         "BMG_PW4271"
        ],
        [
         "24",
         "C534422",
         null,
         "R-HSA-5357769",
         "REACT",
         null,
         null,
         null,
         "BMG_PW0105"
        ],
        [
         "25",
         "C534422",
         null,
         "R-HSA-264870",
         "REACT",
         null,
         null,
         null,
         "BMG_PW3329"
        ],
        [
         "26",
         "C534422",
         null,
         "hsa05161",
         "KEGG",
         null,
         null,
         "BMG_PW6757",
         null
        ],
        [
         "27",
         "C534422",
         null,
         "hsa05168",
         "KEGG",
         null,
         null,
         "BMG_PW6762",
         null
        ],
        [
         "28",
         "C534422",
         null,
         "hsa05016",
         "KEGG",
         null,
         null,
         "BMG_PW6747",
         null
        ],
        [
         "29",
         "C534422",
         null,
         "hsa04657",
         "KEGG",
         null,
         null,
         "BMG_PW0892",
         null
        ],
        [
         "30",
         "C534422",
         null,
         "R-HSA-109606",
         "REACT",
         null,
         null,
         null,
         "BMG_PW0103"
        ],
        [
         "31",
         "C534422",
         null,
         "hsa05134",
         "KEGG",
         null,
         null,
         "BMG_PW1039",
         null
        ],
        [
         "32",
         "C534422",
         null,
         "hsa04932",
         "KEGG",
         null,
         null,
         "BMG_PW6727",
         null
        ],
        [
         "33",
         "C534422",
         null,
         "hsa04115",
         "KEGG",
         null,
         null,
         "BMG_PW6673",
         null
        ],
        [
         "34",
         "C534422",
         null,
         "hsa05200",
         "KEGG",
         null,
         null,
         "BMG_PW6766",
         null
        ],
        [
         "35",
         "C534422",
         null,
         "hsa01524",
         "KEGG",
         null,
         null,
         "BMG_PW6642",
         null
        ],
        [
         "36",
         "C534422",
         null,
         "R-HSA-5357801",
         "REACT",
         null,
         null,
         null,
         "BMG_PW1551"
        ],
        [
         "37",
         "C534422",
         null,
         "hsa04668",
         "KEGG",
         null,
         null,
         "BMG_PW0231",
         null
        ],
        [
         "38",
         "C534422",
         null,
         "hsa05145",
         "KEGG",
         null,
         null,
         "BMG_PW1047",
         null
        ],
        [
         "39",
         "C534422",
         null,
         "hsa05152",
         "KEGG",
         null,
         null,
         "BMG_PW1041",
         null
        ],
        [
         "40",
         "C534422",
         null,
         "hsa05203",
         "KEGG",
         null,
         null,
         "BMG_PW6768",
         null
        ],
        [
         "41",
         "C534422",
         null,
         "hsa05416",
         "KEGG",
         null,
         null,
         "BMG_PW1032",
         null
        ],
        [
         "42",
         "C496879",
         null,
         "R-HSA-166054",
         "REACT",
         null,
         null,
         null,
         null
        ],
        [
         "43",
         "C496879",
         null,
         "R-HSA-114452",
         "REACT",
         null,
         null,
         null,
         "BMG_PW2733"
        ],
        [
         "44",
         "C496879",
         null,
         "R-HSA-450341",
         "REACT",
         null,
         null,
         null,
         "BMG_PW3675"
        ],
        [
         "45",
         "C496879",
         null,
         "hsa05221",
         "KEGG",
         null,
         null,
         "BMG_PW0704",
         null
        ],
        [
         "46",
         "C496879",
         null,
         "hsa04920",
         "KEGG",
         null,
         null,
         "BMG_PW6718",
         null
        ],
        [
         "47",
         "C496879",
         null,
         "hsa04261",
         "KEGG",
         null,
         null,
         "BMG_PW6685",
         null
        ],
        [
         "48",
         "C496879",
         null,
         "R-HSA-879415",
         "REACT",
         null,
         null,
         null,
         "BMG_PW4306"
        ],
        [
         "49",
         "C496879",
         null,
         "hsa04933",
         "KEGG",
         null,
         null,
         "BMG_PW6728",
         null
        ]
       ],
       "shape": {
        "columns": 8,
        "rows": 1624470
       }
      },
      "text/html": [
       "<div>\n",
       "<style scoped>\n",
       "    .dataframe tbody tr th:only-of-type {\n",
       "        vertical-align: middle;\n",
       "    }\n",
       "\n",
       "    .dataframe tbody tr th {\n",
       "        vertical-align: top;\n",
       "    }\n",
       "\n",
       "    .dataframe thead th {\n",
       "        text-align: right;\n",
       "    }\n",
       "</style>\n",
       "<table border=\"1\" class=\"dataframe\">\n",
       "  <thead>\n",
       "    <tr style=\"text-align: right;\">\n",
       "      <th></th>\n",
       "      <th>ChemicalID</th>\n",
       "      <th>CasRN</th>\n",
       "      <th>PathwayID</th>\n",
       "      <th>Database</th>\n",
       "      <th>From_mesh</th>\n",
       "      <th>From_cas</th>\n",
       "      <th>To_kegg</th>\n",
       "      <th>To_reactome</th>\n",
       "    </tr>\n",
       "  </thead>\n",
       "  <tbody>\n",
       "    <tr>\n",
       "      <th>0</th>\n",
       "      <td>C534883</td>\n",
       "      <td>NaN</td>\n",
       "      <td>R-HSA-69656</td>\n",
       "      <td>REACT</td>\n",
       "      <td>NaN</td>\n",
       "      <td>NaN</td>\n",
       "      <td>NaN</td>\n",
       "      <td>BMG_PW4215</td>\n",
       "    </tr>\n",
       "    <tr>\n",
       "      <th>1</th>\n",
       "      <td>C534883</td>\n",
       "      <td>NaN</td>\n",
       "      <td>R-HSA-69202</td>\n",
       "      <td>REACT</td>\n",
       "      <td>NaN</td>\n",
       "      <td>NaN</td>\n",
       "      <td>NaN</td>\n",
       "      <td>BMG_PW4204</td>\n",
       "    </tr>\n",
       "    <tr>\n",
       "      <th>2</th>\n",
       "      <td>C534883</td>\n",
       "      <td>NaN</td>\n",
       "      <td>R-HSA-69206</td>\n",
       "      <td>REACT</td>\n",
       "      <td>NaN</td>\n",
       "      <td>NaN</td>\n",
       "      <td>NaN</td>\n",
       "      <td>BMG_PW0087</td>\n",
       "    </tr>\n",
       "    <tr>\n",
       "      <th>3</th>\n",
       "      <td>C534883</td>\n",
       "      <td>NaN</td>\n",
       "      <td>R-HSA-453279</td>\n",
       "      <td>REACT</td>\n",
       "      <td>NaN</td>\n",
       "      <td>NaN</td>\n",
       "      <td>NaN</td>\n",
       "      <td>BMG_PW3689</td>\n",
       "    </tr>\n",
       "    <tr>\n",
       "      <th>4</th>\n",
       "      <td>C534883</td>\n",
       "      <td>NaN</td>\n",
       "      <td>hsa05200</td>\n",
       "      <td>KEGG</td>\n",
       "      <td>NaN</td>\n",
       "      <td>NaN</td>\n",
       "      <td>BMG_PW6766</td>\n",
       "      <td>NaN</td>\n",
       "    </tr>\n",
       "    <tr>\n",
       "      <th>...</th>\n",
       "      <td>...</td>\n",
       "      <td>...</td>\n",
       "      <td>...</td>\n",
       "      <td>...</td>\n",
       "      <td>...</td>\n",
       "      <td>...</td>\n",
       "      <td>...</td>\n",
       "      <td>...</td>\n",
       "    </tr>\n",
       "    <tr>\n",
       "      <th>1624465</th>\n",
       "      <td>D015054</td>\n",
       "      <td>9010-72-4</td>\n",
       "      <td>hsa05203</td>\n",
       "      <td>KEGG</td>\n",
       "      <td>NaN</td>\n",
       "      <td>NaN</td>\n",
       "      <td>BMG_PW6768</td>\n",
       "      <td>NaN</td>\n",
       "    </tr>\n",
       "    <tr>\n",
       "      <th>1624466</th>\n",
       "      <td>D015054</td>\n",
       "      <td>9010-72-4</td>\n",
       "      <td>hsa05416</td>\n",
       "      <td>KEGG</td>\n",
       "      <td>NaN</td>\n",
       "      <td>NaN</td>\n",
       "      <td>BMG_PW1032</td>\n",
       "      <td>NaN</td>\n",
       "    </tr>\n",
       "    <tr>\n",
       "      <th>1624467</th>\n",
       "      <td>D015054</td>\n",
       "      <td>9010-72-4</td>\n",
       "      <td>R-HSA-8866427</td>\n",
       "      <td>REACT</td>\n",
       "      <td>NaN</td>\n",
       "      <td>NaN</td>\n",
       "      <td>NaN</td>\n",
       "      <td>BMG_PW4348</td>\n",
       "    </tr>\n",
       "    <tr>\n",
       "      <th>1624468</th>\n",
       "      <td>D015054</td>\n",
       "      <td>9010-72-4</td>\n",
       "      <td>R-HSA-1606322</td>\n",
       "      <td>REACT</td>\n",
       "      <td>NaN</td>\n",
       "      <td>NaN</td>\n",
       "      <td>NaN</td>\n",
       "      <td>BMG_PW2881</td>\n",
       "    </tr>\n",
       "    <tr>\n",
       "      <th>1624469</th>\n",
       "      <td>C015582</td>\n",
       "      <td>128-33-6</td>\n",
       "      <td>R-HSA-556833</td>\n",
       "      <td>REACT</td>\n",
       "      <td>NaN</td>\n",
       "      <td>NaN</td>\n",
       "      <td>NaN</td>\n",
       "      <td>BMG_PW0010</td>\n",
       "    </tr>\n",
       "  </tbody>\n",
       "</table>\n",
       "<p>1624470 rows × 8 columns</p>\n",
       "</div>"
      ],
      "text/plain": [
       "        ChemicalID      CasRN      PathwayID Database From_mesh From_cas  \\\n",
       "0          C534883        NaN    R-HSA-69656    REACT       NaN      NaN   \n",
       "1          C534883        NaN    R-HSA-69202    REACT       NaN      NaN   \n",
       "2          C534883        NaN    R-HSA-69206    REACT       NaN      NaN   \n",
       "3          C534883        NaN   R-HSA-453279    REACT       NaN      NaN   \n",
       "4          C534883        NaN       hsa05200     KEGG       NaN      NaN   \n",
       "...            ...        ...            ...      ...       ...      ...   \n",
       "1624465    D015054  9010-72-4       hsa05203     KEGG       NaN      NaN   \n",
       "1624466    D015054  9010-72-4       hsa05416     KEGG       NaN      NaN   \n",
       "1624467    D015054  9010-72-4  R-HSA-8866427    REACT       NaN      NaN   \n",
       "1624468    D015054  9010-72-4  R-HSA-1606322    REACT       NaN      NaN   \n",
       "1624469    C015582   128-33-6   R-HSA-556833    REACT       NaN      NaN   \n",
       "\n",
       "            To_kegg To_reactome  \n",
       "0               NaN  BMG_PW4215  \n",
       "1               NaN  BMG_PW4204  \n",
       "2               NaN  BMG_PW0087  \n",
       "3               NaN  BMG_PW3689  \n",
       "4        BMG_PW6766         NaN  \n",
       "...             ...         ...  \n",
       "1624465  BMG_PW6768         NaN  \n",
       "1624466  BMG_PW1032         NaN  \n",
       "1624467         NaN  BMG_PW4348  \n",
       "1624468         NaN  BMG_PW2881  \n",
       "1624469         NaN  BMG_PW0010  \n",
       "\n",
       "[1624470 rows x 8 columns]"
      ]
     },
     "execution_count": 8,
     "metadata": {},
     "output_type": "execute_result"
    }
   ],
   "source": [
    "reactome_individual = biomedgraphica_pathway[['Reactome_ID', 'BioMedGraphica_ID']]\n",
    "reactome_individual.dropna(subset=['Reactome_ID'], inplace=True)\n",
    "reactome_individual = reactome_individual.assign(Reactome_ID=reactome_individual['Reactome_ID'].str.split(';')).explode('Reactome_ID')\n",
    "\n",
    "reactome_to_individual = reactome_individual.groupby('Reactome_ID')['BioMedGraphica_ID'].apply(lambda x: ';'.join(x.dropna().unique())).to_dict()\n",
    "\n",
    "ctd['To_reactome'] = ctd['PathwayID'].map(reactome_to_individual)\n",
    "ctd"
   ]
  },
  {
   "cell_type": "code",
   "execution_count": 9,
   "metadata": {},
   "outputs": [
    {
     "name": "stderr",
     "output_type": "stream",
     "text": [
      "C:\\Users\\shunn\\AppData\\Local\\Temp\\ipykernel_36732\\163850239.py:11: SettingWithCopyWarning: \n",
      "A value is trying to be set on a copy of a slice from a DataFrame.\n",
      "Try using .loc[row_indexer,col_indexer] = value instead\n",
      "\n",
      "See the caveats in the documentation: https://pandas.pydata.org/pandas-docs/stable/user_guide/indexing.html#returning-a-view-versus-a-copy\n",
      "  df[combined_column_name] = df.apply(merge_strings, axis=1)\n",
      "C:\\Users\\shunn\\AppData\\Local\\Temp\\ipykernel_36732\\163850239.py:12: SettingWithCopyWarning: \n",
      "A value is trying to be set on a copy of a slice from a DataFrame\n",
      "\n",
      "See the caveats in the documentation: https://pandas.pydata.org/pandas-docs/stable/user_guide/indexing.html#returning-a-view-versus-a-copy\n",
      "  df.drop(columns=columns, inplace=True)\n",
      "C:\\Users\\shunn\\AppData\\Local\\Temp\\ipykernel_36732\\163850239.py:11: SettingWithCopyWarning: \n",
      "A value is trying to be set on a copy of a slice from a DataFrame.\n",
      "Try using .loc[row_indexer,col_indexer] = value instead\n",
      "\n",
      "See the caveats in the documentation: https://pandas.pydata.org/pandas-docs/stable/user_guide/indexing.html#returning-a-view-versus-a-copy\n",
      "  df[combined_column_name] = df.apply(merge_strings, axis=1)\n",
      "C:\\Users\\shunn\\AppData\\Local\\Temp\\ipykernel_36732\\163850239.py:12: SettingWithCopyWarning: \n",
      "A value is trying to be set on a copy of a slice from a DataFrame\n",
      "\n",
      "See the caveats in the documentation: https://pandas.pydata.org/pandas-docs/stable/user_guide/indexing.html#returning-a-view-versus-a-copy\n",
      "  df.drop(columns=columns, inplace=True)\n",
      "C:\\Users\\shunn\\AppData\\Local\\Temp\\ipykernel_36732\\163850239.py:19: SettingWithCopyWarning: \n",
      "A value is trying to be set on a copy of a slice from a DataFrame\n",
      "\n",
      "See the caveats in the documentation: https://pandas.pydata.org/pandas-docs/stable/user_guide/indexing.html#returning-a-view-versus-a-copy\n",
      "  ctd.replace('', pd.NA, inplace=True)\n",
      "C:\\Users\\shunn\\AppData\\Local\\Temp\\ipykernel_36732\\163850239.py:20: SettingWithCopyWarning: \n",
      "A value is trying to be set on a copy of a slice from a DataFrame\n",
      "\n",
      "See the caveats in the documentation: https://pandas.pydata.org/pandas-docs/stable/user_guide/indexing.html#returning-a-view-versus-a-copy\n",
      "  ctd.dropna(subset=['From_ID'], inplace=True)\n",
      "C:\\Users\\shunn\\AppData\\Local\\Temp\\ipykernel_36732\\163850239.py:21: SettingWithCopyWarning: \n",
      "A value is trying to be set on a copy of a slice from a DataFrame\n",
      "\n",
      "See the caveats in the documentation: https://pandas.pydata.org/pandas-docs/stable/user_guide/indexing.html#returning-a-view-versus-a-copy\n",
      "  ctd.dropna(subset=['To_ID'], inplace=True)\n"
     ]
    },
    {
     "data": {
      "application/vnd.microsoft.datawrangler.viewer.v0+json": {
       "columns": [
        {
         "name": "index",
         "rawType": "int64",
         "type": "integer"
        },
        {
         "name": "From_ID",
         "rawType": "object",
         "type": "string"
        },
        {
         "name": "To_ID",
         "rawType": "object",
         "type": "string"
        }
       ],
       "conversionMethod": "pd.DataFrame",
       "ref": "500a590f-96ef-46bc-9a17-981bf48bbecf",
       "rows": [
        [
         "1306",
         "BMG_EP0060",
         "BMG_PW0840"
        ],
        [
         "1307",
         "BMG_EP0060",
         "BMG_PW1029"
        ],
        [
         "1308",
         "BMG_EP0060",
         "BMG_PW0016"
        ],
        [
         "1309",
         "BMG_EP0060",
         "BMG_PW1025"
        ],
        [
         "1310",
         "BMG_EP0060",
         "BMG_PW3644"
        ],
        [
         "1311",
         "BMG_EP0060",
         "BMG_PW3645"
        ],
        [
         "1312",
         "BMG_EP0060",
         "BMG_PW0823"
        ],
        [
         "1313",
         "BMG_EP0060",
         "BMG_PW4139"
        ],
        [
         "1314",
         "BMG_EP0060",
         "BMG_PW5036"
        ],
        [
         "1316",
         "BMG_EP0060",
         "BMG_PW6670"
        ],
        [
         "1317",
         "BMG_EP0060",
         "BMG_PW0058"
        ],
        [
         "1318",
         "BMG_EP0060",
         "BMG_PW2722"
        ],
        [
         "1319",
         "BMG_EP0060",
         "BMG_PW1028"
        ],
        [
         "1320",
         "BMG_EP0060",
         "BMG_PW3635"
        ],
        [
         "1321",
         "BMG_EP0060",
         "BMG_PW4140"
        ],
        [
         "1322",
         "BMG_EP0060",
         "BMG_PW3646"
        ],
        [
         "1323",
         "BMG_EP0060",
         "BMG_PW4321"
        ],
        [
         "1324",
         "BMG_EP0060",
         "BMG_PW0509"
        ],
        [
         "1325",
         "BMG_EP0060",
         "BMG_PW3488"
        ],
        [
         "1326",
         "BMG_EP0060",
         "BMG_PW0272"
        ],
        [
         "1327",
         "BMG_EP0060",
         "BMG_PW3636"
        ],
        [
         "1328",
         "BMG_EP0072",
         "BMG_PW6728"
        ],
        [
         "1329",
         "BMG_EP0072",
         "BMG_PW6756"
        ],
        [
         "1330",
         "BMG_EP0072",
         "BMG_PW0103;BMG_PW0009;BMG_PW0105"
        ],
        [
         "1331",
         "BMG_EP0072",
         "BMG_PW0367"
        ],
        [
         "1332",
         "BMG_EP0072",
         "BMG_PW0128"
        ],
        [
         "1334",
         "BMG_EP0072",
         "BMG_PW3227"
        ],
        [
         "1335",
         "BMG_EP0072",
         "BMG_PW2801"
        ],
        [
         "1336",
         "BMG_EP0072",
         "BMG_PW6778"
        ],
        [
         "1337",
         "BMG_EP0072",
         "BMG_PW0085;BMG_PW1312"
        ],
        [
         "1338",
         "BMG_EP0072",
         "BMG_PW3288"
        ],
        [
         "1339",
         "BMG_EP0072",
         "BMG_PW0275"
        ],
        [
         "1340",
         "BMG_EP0072",
         "BMG_PW1045"
        ],
        [
         "1341",
         "BMG_EP0072",
         "BMG_PW3542"
        ],
        [
         "1342",
         "BMG_EP0072",
         "BMG_PW3228"
        ],
        [
         "1343",
         "BMG_EP0072",
         "BMG_PW0823"
        ],
        [
         "1344",
         "BMG_EP0072",
         "BMG_PW2772"
        ],
        [
         "1345",
         "BMG_EP0072",
         "BMG_PW0013"
        ],
        [
         "1346",
         "BMG_EP0072",
         "BMG_PW0660"
        ],
        [
         "1347",
         "BMG_EP0072",
         "BMG_PW0098"
        ],
        [
         "1348",
         "BMG_EP0072",
         "BMG_PW4120"
        ],
        [
         "1349",
         "BMG_EP0072",
         "BMG_PW6640"
        ],
        [
         "1350",
         "BMG_EP0072",
         "BMG_PW3233"
        ],
        [
         "1351",
         "BMG_EP0072",
         "BMG_PW6763"
        ],
        [
         "1352",
         "BMG_EP0072",
         "BMG_PW2831"
        ],
        [
         "1354",
         "BMG_EP0072",
         "BMG_PW6667"
        ],
        [
         "1355",
         "BMG_EP0072",
         "BMG_PW4121"
        ],
        [
         "1356",
         "BMG_EP0072",
         "BMG_PW4258"
        ],
        [
         "1357",
         "BMG_EP0072",
         "BMG_PW0099;BMG_PW1270"
        ],
        [
         "1358",
         "BMG_EP0072",
         "BMG_PW3732"
        ]
       ],
       "shape": {
        "columns": 2,
        "rows": 305427
       }
      },
      "text/html": [
       "<div>\n",
       "<style scoped>\n",
       "    .dataframe tbody tr th:only-of-type {\n",
       "        vertical-align: middle;\n",
       "    }\n",
       "\n",
       "    .dataframe tbody tr th {\n",
       "        vertical-align: top;\n",
       "    }\n",
       "\n",
       "    .dataframe thead th {\n",
       "        text-align: right;\n",
       "    }\n",
       "</style>\n",
       "<table border=\"1\" class=\"dataframe\">\n",
       "  <thead>\n",
       "    <tr style=\"text-align: right;\">\n",
       "      <th></th>\n",
       "      <th>From_ID</th>\n",
       "      <th>To_ID</th>\n",
       "    </tr>\n",
       "  </thead>\n",
       "  <tbody>\n",
       "    <tr>\n",
       "      <th>1306</th>\n",
       "      <td>BMG_EP0060</td>\n",
       "      <td>BMG_PW0840</td>\n",
       "    </tr>\n",
       "    <tr>\n",
       "      <th>1307</th>\n",
       "      <td>BMG_EP0060</td>\n",
       "      <td>BMG_PW1029</td>\n",
       "    </tr>\n",
       "    <tr>\n",
       "      <th>1308</th>\n",
       "      <td>BMG_EP0060</td>\n",
       "      <td>BMG_PW0016</td>\n",
       "    </tr>\n",
       "    <tr>\n",
       "      <th>1309</th>\n",
       "      <td>BMG_EP0060</td>\n",
       "      <td>BMG_PW1025</td>\n",
       "    </tr>\n",
       "    <tr>\n",
       "      <th>1310</th>\n",
       "      <td>BMG_EP0060</td>\n",
       "      <td>BMG_PW3644</td>\n",
       "    </tr>\n",
       "    <tr>\n",
       "      <th>...</th>\n",
       "      <td>...</td>\n",
       "      <td>...</td>\n",
       "    </tr>\n",
       "    <tr>\n",
       "      <th>1622879</th>\n",
       "      <td>BMG_EP1159</td>\n",
       "      <td>BMG_PW0816</td>\n",
       "    </tr>\n",
       "    <tr>\n",
       "      <th>1622880</th>\n",
       "      <td>BMG_EP1159</td>\n",
       "      <td>BMG_PW3583</td>\n",
       "    </tr>\n",
       "    <tr>\n",
       "      <th>1622881</th>\n",
       "      <td>BMG_EP1159</td>\n",
       "      <td>BMG_PW6768</td>\n",
       "    </tr>\n",
       "    <tr>\n",
       "      <th>1622882</th>\n",
       "      <td>BMG_EP1159</td>\n",
       "      <td>BMG_PW1032</td>\n",
       "    </tr>\n",
       "    <tr>\n",
       "      <th>1622883</th>\n",
       "      <td>BMG_EP1159</td>\n",
       "      <td>BMG_PW0008;BMG_PW0199;BMG_PW0197;BMG_PW0198</td>\n",
       "    </tr>\n",
       "  </tbody>\n",
       "</table>\n",
       "<p>305427 rows × 2 columns</p>\n",
       "</div>"
      ],
      "text/plain": [
       "            From_ID                                        To_ID\n",
       "1306     BMG_EP0060                                   BMG_PW0840\n",
       "1307     BMG_EP0060                                   BMG_PW1029\n",
       "1308     BMG_EP0060                                   BMG_PW0016\n",
       "1309     BMG_EP0060                                   BMG_PW1025\n",
       "1310     BMG_EP0060                                   BMG_PW3644\n",
       "...             ...                                          ...\n",
       "1622879  BMG_EP1159                                   BMG_PW0816\n",
       "1622880  BMG_EP1159                                   BMG_PW3583\n",
       "1622881  BMG_EP1159                                   BMG_PW6768\n",
       "1622882  BMG_EP1159                                   BMG_PW1032\n",
       "1622883  BMG_EP1159  BMG_PW0008;BMG_PW0199;BMG_PW0197;BMG_PW0198\n",
       "\n",
       "[305427 rows x 2 columns]"
      ]
     },
     "execution_count": 9,
     "metadata": {},
     "output_type": "execute_result"
    }
   ],
   "source": [
    "def merge_string_columns(df, columns, merge_name, separator=';'):\n",
    "    def merge_strings(row):\n",
    "        combined = set()\n",
    "        for column in columns:\n",
    "            if pd.notnull(row[column]):\n",
    "                combined.update(row[column].split(separator))\n",
    "        return separator.join(combined)\n",
    "    \n",
    "    # Apply the function to each row and create a new column\n",
    "    combined_column_name = merge_name\n",
    "    df[combined_column_name] = df.apply(merge_strings, axis=1)\n",
    "    df.drop(columns=columns, inplace=True)\n",
    "    \n",
    "    return df\n",
    "\n",
    "ctd = ctd[['From_mesh', 'From_cas', 'To_kegg', 'To_reactome']]\n",
    "ctd = merge_string_columns(ctd, ['From_mesh', 'From_cas'], 'From_ID')\n",
    "ctd = merge_string_columns(ctd, ['To_kegg', 'To_reactome'], 'To_ID')\n",
    "ctd.replace('', pd.NA, inplace=True)\n",
    "ctd.dropna(subset=['From_ID'], inplace=True)\n",
    "ctd.dropna(subset=['To_ID'], inplace=True)\n",
    "ctd"
   ]
  },
  {
   "cell_type": "code",
   "execution_count": 10,
   "metadata": {},
   "outputs": [
    {
     "name": "stderr",
     "output_type": "stream",
     "text": [
      "C:\\Users\\shunn\\AppData\\Local\\Temp\\ipykernel_36732\\2804925370.py:1: SettingWithCopyWarning: \n",
      "A value is trying to be set on a copy of a slice from a DataFrame.\n",
      "Try using .loc[row_indexer,col_indexer] = value instead\n",
      "\n",
      "See the caveats in the documentation: https://pandas.pydata.org/pandas-docs/stable/user_guide/indexing.html#returning-a-view-versus-a-copy\n",
      "  ctd['From_ID'] = ctd['From_ID'].str.split(';')\n"
     ]
    },
    {
     "data": {
      "application/vnd.microsoft.datawrangler.viewer.v0+json": {
       "columns": [
        {
         "name": "index",
         "rawType": "int64",
         "type": "integer"
        },
        {
         "name": "From_ID",
         "rawType": "object",
         "type": "string"
        },
        {
         "name": "To_ID",
         "rawType": "object",
         "type": "string"
        }
       ],
       "conversionMethod": "pd.DataFrame",
       "ref": "9dd6793f-a65c-4db0-ad13-22278b7720d8",
       "rows": [
        [
         "0",
         "BMG_EP0060",
         "BMG_PW0840"
        ],
        [
         "1",
         "BMG_EP0060",
         "BMG_PW1029"
        ],
        [
         "2",
         "BMG_EP0060",
         "BMG_PW0016"
        ],
        [
         "3",
         "BMG_EP0060",
         "BMG_PW1025"
        ],
        [
         "4",
         "BMG_EP0060",
         "BMG_PW3644"
        ],
        [
         "5",
         "BMG_EP0060",
         "BMG_PW3645"
        ],
        [
         "6",
         "BMG_EP0060",
         "BMG_PW0823"
        ],
        [
         "7",
         "BMG_EP0060",
         "BMG_PW4139"
        ],
        [
         "8",
         "BMG_EP0060",
         "BMG_PW5036"
        ],
        [
         "9",
         "BMG_EP0060",
         "BMG_PW6670"
        ],
        [
         "10",
         "BMG_EP0060",
         "BMG_PW0058"
        ],
        [
         "11",
         "BMG_EP0060",
         "BMG_PW2722"
        ],
        [
         "12",
         "BMG_EP0060",
         "BMG_PW1028"
        ],
        [
         "13",
         "BMG_EP0060",
         "BMG_PW3635"
        ],
        [
         "14",
         "BMG_EP0060",
         "BMG_PW4140"
        ],
        [
         "15",
         "BMG_EP0060",
         "BMG_PW3646"
        ],
        [
         "16",
         "BMG_EP0060",
         "BMG_PW4321"
        ],
        [
         "17",
         "BMG_EP0060",
         "BMG_PW0509"
        ],
        [
         "18",
         "BMG_EP0060",
         "BMG_PW3488"
        ],
        [
         "19",
         "BMG_EP0060",
         "BMG_PW0272"
        ],
        [
         "20",
         "BMG_EP0060",
         "BMG_PW3636"
        ],
        [
         "21",
         "BMG_EP0072",
         "BMG_PW6728"
        ],
        [
         "22",
         "BMG_EP0072",
         "BMG_PW6756"
        ],
        [
         "23",
         "BMG_EP0072",
         "BMG_PW0103"
        ],
        [
         "24",
         "BMG_EP0072",
         "BMG_PW0009"
        ],
        [
         "25",
         "BMG_EP0072",
         "BMG_PW0105"
        ],
        [
         "26",
         "BMG_EP0072",
         "BMG_PW0367"
        ],
        [
         "27",
         "BMG_EP0072",
         "BMG_PW0128"
        ],
        [
         "28",
         "BMG_EP0072",
         "BMG_PW3227"
        ],
        [
         "29",
         "BMG_EP0072",
         "BMG_PW2801"
        ],
        [
         "30",
         "BMG_EP0072",
         "BMG_PW6778"
        ],
        [
         "31",
         "BMG_EP0072",
         "BMG_PW0085"
        ],
        [
         "32",
         "BMG_EP0072",
         "BMG_PW1312"
        ],
        [
         "33",
         "BMG_EP0072",
         "BMG_PW3288"
        ],
        [
         "34",
         "BMG_EP0072",
         "BMG_PW0275"
        ],
        [
         "35",
         "BMG_EP0072",
         "BMG_PW1045"
        ],
        [
         "36",
         "BMG_EP0072",
         "BMG_PW3542"
        ],
        [
         "37",
         "BMG_EP0072",
         "BMG_PW3228"
        ],
        [
         "38",
         "BMG_EP0072",
         "BMG_PW0823"
        ],
        [
         "39",
         "BMG_EP0072",
         "BMG_PW2772"
        ],
        [
         "40",
         "BMG_EP0072",
         "BMG_PW0013"
        ],
        [
         "41",
         "BMG_EP0072",
         "BMG_PW0660"
        ],
        [
         "42",
         "BMG_EP0072",
         "BMG_PW0098"
        ],
        [
         "43",
         "BMG_EP0072",
         "BMG_PW4120"
        ],
        [
         "44",
         "BMG_EP0072",
         "BMG_PW6640"
        ],
        [
         "45",
         "BMG_EP0072",
         "BMG_PW3233"
        ],
        [
         "46",
         "BMG_EP0072",
         "BMG_PW6763"
        ],
        [
         "47",
         "BMG_EP0072",
         "BMG_PW2831"
        ],
        [
         "48",
         "BMG_EP0072",
         "BMG_PW6667"
        ],
        [
         "49",
         "BMG_EP0072",
         "BMG_PW4121"
        ]
       ],
       "shape": {
        "columns": 2,
        "rows": 301448
       }
      },
      "text/html": [
       "<div>\n",
       "<style scoped>\n",
       "    .dataframe tbody tr th:only-of-type {\n",
       "        vertical-align: middle;\n",
       "    }\n",
       "\n",
       "    .dataframe tbody tr th {\n",
       "        vertical-align: top;\n",
       "    }\n",
       "\n",
       "    .dataframe thead th {\n",
       "        text-align: right;\n",
       "    }\n",
       "</style>\n",
       "<table border=\"1\" class=\"dataframe\">\n",
       "  <thead>\n",
       "    <tr style=\"text-align: right;\">\n",
       "      <th></th>\n",
       "      <th>From_ID</th>\n",
       "      <th>To_ID</th>\n",
       "    </tr>\n",
       "  </thead>\n",
       "  <tbody>\n",
       "    <tr>\n",
       "      <th>0</th>\n",
       "      <td>BMG_EP0060</td>\n",
       "      <td>BMG_PW0840</td>\n",
       "    </tr>\n",
       "    <tr>\n",
       "      <th>1</th>\n",
       "      <td>BMG_EP0060</td>\n",
       "      <td>BMG_PW1029</td>\n",
       "    </tr>\n",
       "    <tr>\n",
       "      <th>2</th>\n",
       "      <td>BMG_EP0060</td>\n",
       "      <td>BMG_PW0016</td>\n",
       "    </tr>\n",
       "    <tr>\n",
       "      <th>3</th>\n",
       "      <td>BMG_EP0060</td>\n",
       "      <td>BMG_PW1025</td>\n",
       "    </tr>\n",
       "    <tr>\n",
       "      <th>4</th>\n",
       "      <td>BMG_EP0060</td>\n",
       "      <td>BMG_PW3644</td>\n",
       "    </tr>\n",
       "    <tr>\n",
       "      <th>...</th>\n",
       "      <td>...</td>\n",
       "      <td>...</td>\n",
       "    </tr>\n",
       "    <tr>\n",
       "      <th>301443</th>\n",
       "      <td>BMG_EP1159</td>\n",
       "      <td>BMG_PW1032</td>\n",
       "    </tr>\n",
       "    <tr>\n",
       "      <th>301444</th>\n",
       "      <td>BMG_EP1159</td>\n",
       "      <td>BMG_PW0008</td>\n",
       "    </tr>\n",
       "    <tr>\n",
       "      <th>301445</th>\n",
       "      <td>BMG_EP1159</td>\n",
       "      <td>BMG_PW0199</td>\n",
       "    </tr>\n",
       "    <tr>\n",
       "      <th>301446</th>\n",
       "      <td>BMG_EP1159</td>\n",
       "      <td>BMG_PW0197</td>\n",
       "    </tr>\n",
       "    <tr>\n",
       "      <th>301447</th>\n",
       "      <td>BMG_EP1159</td>\n",
       "      <td>BMG_PW0198</td>\n",
       "    </tr>\n",
       "  </tbody>\n",
       "</table>\n",
       "<p>301448 rows × 2 columns</p>\n",
       "</div>"
      ],
      "text/plain": [
       "           From_ID       To_ID\n",
       "0       BMG_EP0060  BMG_PW0840\n",
       "1       BMG_EP0060  BMG_PW1029\n",
       "2       BMG_EP0060  BMG_PW0016\n",
       "3       BMG_EP0060  BMG_PW1025\n",
       "4       BMG_EP0060  BMG_PW3644\n",
       "...            ...         ...\n",
       "301443  BMG_EP1159  BMG_PW1032\n",
       "301444  BMG_EP1159  BMG_PW0008\n",
       "301445  BMG_EP1159  BMG_PW0199\n",
       "301446  BMG_EP1159  BMG_PW0197\n",
       "301447  BMG_EP1159  BMG_PW0198\n",
       "\n",
       "[301448 rows x 2 columns]"
      ]
     },
     "execution_count": 10,
     "metadata": {},
     "output_type": "execute_result"
    }
   ],
   "source": [
    "ctd['From_ID'] = ctd['From_ID'].str.split(';')\n",
    "ctd = ctd.explode('From_ID')\n",
    "ctd['To_ID'] = ctd['To_ID'].str.split(';')\n",
    "ctd = ctd.explode('To_ID')\n",
    "\n",
    "ctd.drop_duplicates(inplace=True)\n",
    "ctd.reset_index(drop=True, inplace=True)\n",
    "ctd"
   ]
  },
  {
   "cell_type": "markdown",
   "metadata": {},
   "source": [
    "### Exposure-Pathway Relation"
   ]
  },
  {
   "cell_type": "code",
   "execution_count": 11,
   "metadata": {},
   "outputs": [
    {
     "data": {
      "application/vnd.microsoft.datawrangler.viewer.v0+json": {
       "columns": [
        {
         "name": "index",
         "rawType": "int64",
         "type": "integer"
        },
        {
         "name": "BioMedGraphica_ID",
         "rawType": "object",
         "type": "string"
        },
        {
         "name": "From_ID",
         "rawType": "object",
         "type": "string"
        },
        {
         "name": "To_ID",
         "rawType": "object",
         "type": "string"
        },
        {
         "name": "Type",
         "rawType": "object",
         "type": "string"
        },
        {
         "name": "Source",
         "rawType": "object",
         "type": "string"
        }
       ],
       "conversionMethod": "pd.DataFrame",
       "ref": "399da858-ee24-4635-9f57-a1e5cfbce31e",
       "rows": [
        [
         "0",
         "BMG_ED_EPPW000001",
         "BMG_EP0060",
         "BMG_PW0840",
         "Exposure-Pathway",
         "CTD"
        ],
        [
         "1",
         "BMG_ED_EPPW000002",
         "BMG_EP0060",
         "BMG_PW1029",
         "Exposure-Pathway",
         "CTD"
        ],
        [
         "2",
         "BMG_ED_EPPW000003",
         "BMG_EP0060",
         "BMG_PW0016",
         "Exposure-Pathway",
         "CTD"
        ],
        [
         "3",
         "BMG_ED_EPPW000004",
         "BMG_EP0060",
         "BMG_PW1025",
         "Exposure-Pathway",
         "CTD"
        ],
        [
         "4",
         "BMG_ED_EPPW000005",
         "BMG_EP0060",
         "BMG_PW3644",
         "Exposure-Pathway",
         "CTD"
        ],
        [
         "5",
         "BMG_ED_EPPW000006",
         "BMG_EP0060",
         "BMG_PW3645",
         "Exposure-Pathway",
         "CTD"
        ],
        [
         "6",
         "BMG_ED_EPPW000007",
         "BMG_EP0060",
         "BMG_PW0823",
         "Exposure-Pathway",
         "CTD"
        ],
        [
         "7",
         "BMG_ED_EPPW000008",
         "BMG_EP0060",
         "BMG_PW4139",
         "Exposure-Pathway",
         "CTD"
        ],
        [
         "8",
         "BMG_ED_EPPW000009",
         "BMG_EP0060",
         "BMG_PW5036",
         "Exposure-Pathway",
         "CTD"
        ],
        [
         "9",
         "BMG_ED_EPPW000010",
         "BMG_EP0060",
         "BMG_PW6670",
         "Exposure-Pathway",
         "CTD"
        ],
        [
         "10",
         "BMG_ED_EPPW000011",
         "BMG_EP0060",
         "BMG_PW0058",
         "Exposure-Pathway",
         "CTD"
        ],
        [
         "11",
         "BMG_ED_EPPW000012",
         "BMG_EP0060",
         "BMG_PW2722",
         "Exposure-Pathway",
         "CTD"
        ],
        [
         "12",
         "BMG_ED_EPPW000013",
         "BMG_EP0060",
         "BMG_PW1028",
         "Exposure-Pathway",
         "CTD"
        ],
        [
         "13",
         "BMG_ED_EPPW000014",
         "BMG_EP0060",
         "BMG_PW3635",
         "Exposure-Pathway",
         "CTD"
        ],
        [
         "14",
         "BMG_ED_EPPW000015",
         "BMG_EP0060",
         "BMG_PW4140",
         "Exposure-Pathway",
         "CTD"
        ],
        [
         "15",
         "BMG_ED_EPPW000016",
         "BMG_EP0060",
         "BMG_PW3646",
         "Exposure-Pathway",
         "CTD"
        ],
        [
         "16",
         "BMG_ED_EPPW000017",
         "BMG_EP0060",
         "BMG_PW4321",
         "Exposure-Pathway",
         "CTD"
        ],
        [
         "17",
         "BMG_ED_EPPW000018",
         "BMG_EP0060",
         "BMG_PW0509",
         "Exposure-Pathway",
         "CTD"
        ],
        [
         "18",
         "BMG_ED_EPPW000019",
         "BMG_EP0060",
         "BMG_PW3488",
         "Exposure-Pathway",
         "CTD"
        ],
        [
         "19",
         "BMG_ED_EPPW000020",
         "BMG_EP0060",
         "BMG_PW0272",
         "Exposure-Pathway",
         "CTD"
        ],
        [
         "20",
         "BMG_ED_EPPW000021",
         "BMG_EP0060",
         "BMG_PW3636",
         "Exposure-Pathway",
         "CTD"
        ],
        [
         "21",
         "BMG_ED_EPPW000022",
         "BMG_EP0072",
         "BMG_PW6728",
         "Exposure-Pathway",
         "CTD"
        ],
        [
         "22",
         "BMG_ED_EPPW000023",
         "BMG_EP0072",
         "BMG_PW6756",
         "Exposure-Pathway",
         "CTD"
        ],
        [
         "23",
         "BMG_ED_EPPW000024",
         "BMG_EP0072",
         "BMG_PW0103",
         "Exposure-Pathway",
         "CTD"
        ],
        [
         "24",
         "BMG_ED_EPPW000025",
         "BMG_EP0072",
         "BMG_PW0009",
         "Exposure-Pathway",
         "CTD"
        ],
        [
         "25",
         "BMG_ED_EPPW000026",
         "BMG_EP0072",
         "BMG_PW0105",
         "Exposure-Pathway",
         "CTD"
        ],
        [
         "26",
         "BMG_ED_EPPW000027",
         "BMG_EP0072",
         "BMG_PW0367",
         "Exposure-Pathway",
         "CTD"
        ],
        [
         "27",
         "BMG_ED_EPPW000028",
         "BMG_EP0072",
         "BMG_PW0128",
         "Exposure-Pathway",
         "CTD"
        ],
        [
         "28",
         "BMG_ED_EPPW000029",
         "BMG_EP0072",
         "BMG_PW3227",
         "Exposure-Pathway",
         "CTD"
        ],
        [
         "29",
         "BMG_ED_EPPW000030",
         "BMG_EP0072",
         "BMG_PW2801",
         "Exposure-Pathway",
         "CTD"
        ],
        [
         "30",
         "BMG_ED_EPPW000031",
         "BMG_EP0072",
         "BMG_PW6778",
         "Exposure-Pathway",
         "CTD"
        ],
        [
         "31",
         "BMG_ED_EPPW000032",
         "BMG_EP0072",
         "BMG_PW0085",
         "Exposure-Pathway",
         "CTD"
        ],
        [
         "32",
         "BMG_ED_EPPW000033",
         "BMG_EP0072",
         "BMG_PW1312",
         "Exposure-Pathway",
         "CTD"
        ],
        [
         "33",
         "BMG_ED_EPPW000034",
         "BMG_EP0072",
         "BMG_PW3288",
         "Exposure-Pathway",
         "CTD"
        ],
        [
         "34",
         "BMG_ED_EPPW000035",
         "BMG_EP0072",
         "BMG_PW0275",
         "Exposure-Pathway",
         "CTD"
        ],
        [
         "35",
         "BMG_ED_EPPW000036",
         "BMG_EP0072",
         "BMG_PW1045",
         "Exposure-Pathway",
         "CTD"
        ],
        [
         "36",
         "BMG_ED_EPPW000037",
         "BMG_EP0072",
         "BMG_PW3542",
         "Exposure-Pathway",
         "CTD"
        ],
        [
         "37",
         "BMG_ED_EPPW000038",
         "BMG_EP0072",
         "BMG_PW3228",
         "Exposure-Pathway",
         "CTD"
        ],
        [
         "38",
         "BMG_ED_EPPW000039",
         "BMG_EP0072",
         "BMG_PW0823",
         "Exposure-Pathway",
         "CTD"
        ],
        [
         "39",
         "BMG_ED_EPPW000040",
         "BMG_EP0072",
         "BMG_PW2772",
         "Exposure-Pathway",
         "CTD"
        ],
        [
         "40",
         "BMG_ED_EPPW000041",
         "BMG_EP0072",
         "BMG_PW0013",
         "Exposure-Pathway",
         "CTD"
        ],
        [
         "41",
         "BMG_ED_EPPW000042",
         "BMG_EP0072",
         "BMG_PW0660",
         "Exposure-Pathway",
         "CTD"
        ],
        [
         "42",
         "BMG_ED_EPPW000043",
         "BMG_EP0072",
         "BMG_PW0098",
         "Exposure-Pathway",
         "CTD"
        ],
        [
         "43",
         "BMG_ED_EPPW000044",
         "BMG_EP0072",
         "BMG_PW4120",
         "Exposure-Pathway",
         "CTD"
        ],
        [
         "44",
         "BMG_ED_EPPW000045",
         "BMG_EP0072",
         "BMG_PW6640",
         "Exposure-Pathway",
         "CTD"
        ],
        [
         "45",
         "BMG_ED_EPPW000046",
         "BMG_EP0072",
         "BMG_PW3233",
         "Exposure-Pathway",
         "CTD"
        ],
        [
         "46",
         "BMG_ED_EPPW000047",
         "BMG_EP0072",
         "BMG_PW6763",
         "Exposure-Pathway",
         "CTD"
        ],
        [
         "47",
         "BMG_ED_EPPW000048",
         "BMG_EP0072",
         "BMG_PW2831",
         "Exposure-Pathway",
         "CTD"
        ],
        [
         "48",
         "BMG_ED_EPPW000049",
         "BMG_EP0072",
         "BMG_PW6667",
         "Exposure-Pathway",
         "CTD"
        ],
        [
         "49",
         "BMG_ED_EPPW000050",
         "BMG_EP0072",
         "BMG_PW4121",
         "Exposure-Pathway",
         "CTD"
        ]
       ],
       "shape": {
        "columns": 5,
        "rows": 301448
       }
      },
      "text/html": [
       "<div>\n",
       "<style scoped>\n",
       "    .dataframe tbody tr th:only-of-type {\n",
       "        vertical-align: middle;\n",
       "    }\n",
       "\n",
       "    .dataframe tbody tr th {\n",
       "        vertical-align: top;\n",
       "    }\n",
       "\n",
       "    .dataframe thead th {\n",
       "        text-align: right;\n",
       "    }\n",
       "</style>\n",
       "<table border=\"1\" class=\"dataframe\">\n",
       "  <thead>\n",
       "    <tr style=\"text-align: right;\">\n",
       "      <th></th>\n",
       "      <th>BioMedGraphica_ID</th>\n",
       "      <th>From_ID</th>\n",
       "      <th>To_ID</th>\n",
       "      <th>Type</th>\n",
       "      <th>Source</th>\n",
       "    </tr>\n",
       "  </thead>\n",
       "  <tbody>\n",
       "    <tr>\n",
       "      <th>0</th>\n",
       "      <td>BMG_ED_EPPW000001</td>\n",
       "      <td>BMG_EP0060</td>\n",
       "      <td>BMG_PW0840</td>\n",
       "      <td>Exposure-Pathway</td>\n",
       "      <td>CTD</td>\n",
       "    </tr>\n",
       "    <tr>\n",
       "      <th>1</th>\n",
       "      <td>BMG_ED_EPPW000002</td>\n",
       "      <td>BMG_EP0060</td>\n",
       "      <td>BMG_PW1029</td>\n",
       "      <td>Exposure-Pathway</td>\n",
       "      <td>CTD</td>\n",
       "    </tr>\n",
       "    <tr>\n",
       "      <th>2</th>\n",
       "      <td>BMG_ED_EPPW000003</td>\n",
       "      <td>BMG_EP0060</td>\n",
       "      <td>BMG_PW0016</td>\n",
       "      <td>Exposure-Pathway</td>\n",
       "      <td>CTD</td>\n",
       "    </tr>\n",
       "    <tr>\n",
       "      <th>3</th>\n",
       "      <td>BMG_ED_EPPW000004</td>\n",
       "      <td>BMG_EP0060</td>\n",
       "      <td>BMG_PW1025</td>\n",
       "      <td>Exposure-Pathway</td>\n",
       "      <td>CTD</td>\n",
       "    </tr>\n",
       "    <tr>\n",
       "      <th>4</th>\n",
       "      <td>BMG_ED_EPPW000005</td>\n",
       "      <td>BMG_EP0060</td>\n",
       "      <td>BMG_PW3644</td>\n",
       "      <td>Exposure-Pathway</td>\n",
       "      <td>CTD</td>\n",
       "    </tr>\n",
       "    <tr>\n",
       "      <th>...</th>\n",
       "      <td>...</td>\n",
       "      <td>...</td>\n",
       "      <td>...</td>\n",
       "      <td>...</td>\n",
       "      <td>...</td>\n",
       "    </tr>\n",
       "    <tr>\n",
       "      <th>301443</th>\n",
       "      <td>BMG_ED_EPPW301444</td>\n",
       "      <td>BMG_EP1159</td>\n",
       "      <td>BMG_PW1032</td>\n",
       "      <td>Exposure-Pathway</td>\n",
       "      <td>CTD</td>\n",
       "    </tr>\n",
       "    <tr>\n",
       "      <th>301444</th>\n",
       "      <td>BMG_ED_EPPW301445</td>\n",
       "      <td>BMG_EP1159</td>\n",
       "      <td>BMG_PW0008</td>\n",
       "      <td>Exposure-Pathway</td>\n",
       "      <td>CTD</td>\n",
       "    </tr>\n",
       "    <tr>\n",
       "      <th>301445</th>\n",
       "      <td>BMG_ED_EPPW301446</td>\n",
       "      <td>BMG_EP1159</td>\n",
       "      <td>BMG_PW0199</td>\n",
       "      <td>Exposure-Pathway</td>\n",
       "      <td>CTD</td>\n",
       "    </tr>\n",
       "    <tr>\n",
       "      <th>301446</th>\n",
       "      <td>BMG_ED_EPPW301447</td>\n",
       "      <td>BMG_EP1159</td>\n",
       "      <td>BMG_PW0197</td>\n",
       "      <td>Exposure-Pathway</td>\n",
       "      <td>CTD</td>\n",
       "    </tr>\n",
       "    <tr>\n",
       "      <th>301447</th>\n",
       "      <td>BMG_ED_EPPW301448</td>\n",
       "      <td>BMG_EP1159</td>\n",
       "      <td>BMG_PW0198</td>\n",
       "      <td>Exposure-Pathway</td>\n",
       "      <td>CTD</td>\n",
       "    </tr>\n",
       "  </tbody>\n",
       "</table>\n",
       "<p>301448 rows × 5 columns</p>\n",
       "</div>"
      ],
      "text/plain": [
       "        BioMedGraphica_ID     From_ID       To_ID              Type Source\n",
       "0       BMG_ED_EPPW000001  BMG_EP0060  BMG_PW0840  Exposure-Pathway    CTD\n",
       "1       BMG_ED_EPPW000002  BMG_EP0060  BMG_PW1029  Exposure-Pathway    CTD\n",
       "2       BMG_ED_EPPW000003  BMG_EP0060  BMG_PW0016  Exposure-Pathway    CTD\n",
       "3       BMG_ED_EPPW000004  BMG_EP0060  BMG_PW1025  Exposure-Pathway    CTD\n",
       "4       BMG_ED_EPPW000005  BMG_EP0060  BMG_PW3644  Exposure-Pathway    CTD\n",
       "...                   ...         ...         ...               ...    ...\n",
       "301443  BMG_ED_EPPW301444  BMG_EP1159  BMG_PW1032  Exposure-Pathway    CTD\n",
       "301444  BMG_ED_EPPW301445  BMG_EP1159  BMG_PW0008  Exposure-Pathway    CTD\n",
       "301445  BMG_ED_EPPW301446  BMG_EP1159  BMG_PW0199  Exposure-Pathway    CTD\n",
       "301446  BMG_ED_EPPW301447  BMG_EP1159  BMG_PW0197  Exposure-Pathway    CTD\n",
       "301447  BMG_ED_EPPW301448  BMG_EP1159  BMG_PW0198  Exposure-Pathway    CTD\n",
       "\n",
       "[301448 rows x 5 columns]"
      ]
     },
     "execution_count": 11,
     "metadata": {},
     "output_type": "execute_result"
    }
   ],
   "source": [
    "exposure_pathway = ctd[['From_ID', 'To_ID']]\n",
    "exposure_pathway['Type'] = 'Exposure-Pathway'\n",
    "exposure_pathway['Source'] = 'CTD'\n",
    "\n",
    "max_length = len(str(len(exposure_pathway)))\n",
    "exposure_pathway['BioMedGraphica_ID'] = ['BMG_ED_EPPW' + str(i).zfill(max_length) for i in range(1, len(exposure_pathway) + 1)]\n",
    "columns = ['BioMedGraphica_ID'] + [col for col in exposure_pathway.columns if col != 'BioMedGraphica_ID']  # re-order columns\n",
    "exposure_pathway = exposure_pathway[columns]\n",
    "exposure_pathway"
   ]
  },
  {
   "cell_type": "code",
   "execution_count": 12,
   "metadata": {},
   "outputs": [
    {
     "name": "stdout",
     "output_type": "stream",
     "text": [
      "Data has been saved to D:\\RA\\BMG\\BioMedGraphica\\Relation\\Exposure-Pathway\\BioMedGraphica_Exposure_Pathway.csv\n"
     ]
    }
   ],
   "source": [
    "import os\n",
    "from pathlib import Path\n",
    "\n",
    "# get the current working directory\n",
    "current_working_dir = Path(os.getcwd()).resolve()\n",
    "\n",
    "# get the output directory\n",
    "grandparent_dir = current_working_dir.parent.parent.parent\n",
    "\n",
    "target_folder = grandparent_dir / 'BioMedGraphica' / 'Relation' / 'Exposure-Pathway'\n",
    "if not target_folder.exists():\n",
    "    target_folder.mkdir(parents=True)\n",
    "    print(f\"Folder {target_folder} has been created.\")\n",
    "\n",
    "output_file_path = target_folder / 'BioMedGraphica_Exposure_Pathway.csv'\n",
    "exposure_pathway.to_csv(output_file_path, index=False)\n",
    "print(f\"Data has been saved to {output_file_path}\")"
   ]
  }
 ],
 "metadata": {
  "kernelspec": {
   "display_name": "base",
   "language": "python",
   "name": "python3"
  },
  "language_info": {
   "codemirror_mode": {
    "name": "ipython",
    "version": 3
   },
   "file_extension": ".py",
   "mimetype": "text/x-python",
   "name": "python",
   "nbconvert_exporter": "python",
   "pygments_lexer": "ipython3",
   "version": "3.9.19"
  }
 },
 "nbformat": 4,
 "nbformat_minor": 2
}
