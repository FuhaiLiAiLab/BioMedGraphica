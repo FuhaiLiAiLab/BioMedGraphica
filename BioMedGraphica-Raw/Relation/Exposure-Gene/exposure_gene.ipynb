{
 "cells": [
  {
   "cell_type": "markdown",
   "metadata": {},
   "source": [
    "### CTD"
   ]
  },
  {
   "cell_type": "code",
   "execution_count": 1,
   "metadata": {},
   "outputs": [
    {
     "data": {
      "application/vnd.microsoft.datawrangler.viewer.v0+json": {
       "columns": [
        {
         "name": "index",
         "rawType": "int64",
         "type": "integer"
        },
        {
         "name": "ChemicalName",
         "rawType": "object",
         "type": "string"
        },
        {
         "name": "ChemicalID",
         "rawType": "object",
         "type": "string"
        },
        {
         "name": "CasRN",
         "rawType": "object",
         "type": "unknown"
        },
        {
         "name": "GeneSymbol",
         "rawType": "object",
         "type": "unknown"
        },
        {
         "name": "GeneID",
         "rawType": "int64",
         "type": "integer"
        },
        {
         "name": "GeneForms",
         "rawType": "object",
         "type": "unknown"
        },
        {
         "name": "Organism",
         "rawType": "object",
         "type": "unknown"
        },
        {
         "name": "OrganismID",
         "rawType": "float64",
         "type": "float"
        },
        {
         "name": "Interaction",
         "rawType": "object",
         "type": "string"
        },
        {
         "name": "InteractionActions",
         "rawType": "object",
         "type": "string"
        },
        {
         "name": "PubMedIDs",
         "rawType": "object",
         "type": "string"
        }
       ],
       "conversionMethod": "pd.DataFrame",
       "ref": "1e319a8d-a476-4ffb-9cda-bb8b42ac147b",
       "rows": [
        [
         "0",
         "10074-G5",
         "C534883",
         null,
         "AR",
         "367",
         "protein",
         "Homo sapiens",
         "9606.0",
         "10074-G5 affects the reaction [MYC protein results in increased expression of AR protein]",
         "affects^reaction|increases^expression",
         "32184358"
        ],
        [
         "1",
         "10074-G5",
         "C534883",
         null,
         "AR",
         "367",
         "protein",
         "Homo sapiens",
         "9606.0",
         "10074-G5 inhibits the reaction [EPHB2 protein modified form results in increased expression of AR protein]",
         "decreases^reaction|increases^expression",
         "32184358"
        ],
        [
         "2",
         "10074-G5",
         "C534883",
         null,
         "AR",
         "367",
         "protein",
         "Homo sapiens",
         "9606.0",
         "10074-G5 results in decreased expression of AR protein",
         "decreases^expression",
         "32184358"
        ],
        [
         "3",
         "10074-G5",
         "C534883",
         null,
         "AR",
         "367",
         "protein",
         "Homo sapiens",
         "9606.0",
         "10074-G5 results in decreased expression of AR protein alternative form",
         "decreases^expression",
         "32184358"
        ],
        [
         "4",
         "10074-G5",
         "C534883",
         null,
         "EPHB2",
         "2048",
         "protein",
         "Homo sapiens",
         "9606.0",
         "10074-G5 inhibits the reaction [EPHB2 protein modified form results in increased expression of AR protein]",
         "decreases^reaction|increases^expression",
         "32184358"
        ],
        [
         "5",
         "10074-G5",
         "C534883",
         null,
         "EPHB2",
         "2048",
         "protein",
         "Homo sapiens",
         "9606.0",
         "10074-G5 inhibits the reaction [EPHB2 protein modified form results in increased expression of MYC protein]",
         "decreases^reaction|increases^expression",
         "32184358"
        ],
        [
         "6",
         "10074-G5",
         "C534883",
         null,
         "MAX",
         "4149",
         "protein",
         null,
         null,
         "10074-G5 affects the folding of and results in decreased activity of [MYC protein binds to MAX protein]",
         "affects^binding|affects^folding|decreases^activity",
         "26474287"
        ],
        [
         "7",
         "10074-G5",
         "C534883",
         null,
         "MAX",
         "4149",
         "protein",
         null,
         null,
         "10074-G5 inhibits the reaction [MYC protein binds to MAX protein]",
         "affects^binding|decreases^reaction",
         "26474287"
        ],
        [
         "8",
         "10074-G5",
         "C534883",
         null,
         "MYC",
         "4609",
         "protein",
         "Homo sapiens",
         "9606.0",
         "10074-G5 affects the reaction [MYC protein results in increased expression of AR protein]",
         "affects^reaction|increases^expression",
         "32184358"
        ],
        [
         "9",
         "10074-G5",
         "C534883",
         null,
         "MYC",
         "4609",
         "protein",
         "Homo sapiens",
         "9606.0",
         "10074-G5 analog results in decreased expression of MYC protein",
         "decreases^expression",
         "26036281"
        ],
        [
         "10",
         "10074-G5",
         "C534883",
         null,
         "MYC",
         "4609",
         "protein",
         "Homo sapiens",
         "9606.0",
         "10074-G5 inhibits the reaction [EPHB2 protein modified form results in increased expression of MYC protein]",
         "decreases^reaction|increases^expression",
         "32184358"
        ],
        [
         "11",
         "10074-G5",
         "C534883",
         null,
         "MYC",
         "4609",
         "protein",
         "Homo sapiens",
         "9606.0",
         "10074-G5 results in decreased activity of MYC protein",
         "decreases^activity",
         "25716159"
        ],
        [
         "12",
         "10074-G5",
         "C534883",
         null,
         "MYC",
         "4609",
         "protein",
         "Homo sapiens",
         "9606.0",
         "10074-G5 results in decreased expression of MYC protein",
         "decreases^expression",
         "26036281|32184358"
        ],
        [
         "13",
         "10074-G5",
         "C534883",
         null,
         "MYC",
         "4609",
         "protein",
         null,
         null,
         "10074-G5 affects the folding of and results in decreased activity of [MYC protein binds to MAX protein]",
         "affects^binding|affects^folding|decreases^activity",
         "26474287"
        ],
        [
         "14",
         "10074-G5",
         "C534883",
         null,
         "MYC",
         "4609",
         "protein",
         null,
         null,
         "10074-G5 inhibits the reaction [MYC protein binds to MAX protein]",
         "affects^binding|decreases^reaction",
         "26474287"
        ],
        [
         "15",
         "10,10-bis(4-pyridinylmethyl)-9(10H)-anthracenone",
         "C112297",
         null,
         "FOS",
         "2353",
         "protein",
         "Mus musculus",
         "10090.0",
         "10,10-bis(4-pyridinylmethyl)-9(10H)-anthracenone inhibits the reaction [Valproic Acid inhibits the reaction [Kainic Acid results in increased expression of FOS protein]]",
         "decreases^reaction|increases^expression",
         "26348896"
        ],
        [
         "16",
         "10,10-bis(4-pyridinylmethyl)-9(10H)-anthracenone",
         "C112297",
         null,
         "KCNQ1",
         "3784",
         "protein",
         null,
         null,
         "10,10-bis(4-pyridinylmethyl)-9(10H)-anthracenone results in decreased activity of KCNQ1 protein",
         "decreases^activity",
         "18568022"
        ],
        [
         "17",
         "10,10-bis(4-pyridinylmethyl)-9(10H)-anthracenone",
         "C112297",
         null,
         "KCNQ2",
         "3785",
         "protein",
         "Homo sapiens",
         "9606.0",
         "10,10-bis(4-pyridinylmethyl)-9(10H)-anthracenone results in decreased activity of KCNQ2 protein",
         "decreases^activity",
         "35550413"
        ],
        [
         "18",
         "10,10-bis(4-pyridinylmethyl)-9(10H)-anthracenone",
         "C112297",
         null,
         "KCNQ2",
         "3785",
         "protein",
         "Mus musculus",
         "10090.0",
         "10,10-bis(4-pyridinylmethyl)-9(10H)-anthracenone affects the reaction [[Potassium results in increased activity of KCNQ2 protein] which results in increased import of Thallium]",
         "affects^reaction|increases^activity|increases^import",
         "15634793"
        ],
        [
         "19",
         "10,10-bis(4-pyridinylmethyl)-9(10H)-anthracenone",
         "C112297",
         null,
         "KCNQ2",
         "3785",
         "protein",
         null,
         null,
         "10,10-bis(4-pyridinylmethyl)-9(10H)-anthracenone inhibits the reaction [[KCNQ2 protein binds to KCNQ3 protein] which results in increased transport of Thallium]",
         "affects^binding|decreases^reaction|increases^transport",
         "20208034"
        ],
        [
         "20",
         "10,10-bis(4-pyridinylmethyl)-9(10H)-anthracenone",
         "C112297",
         null,
         "KCNQ3",
         "3786",
         "protein",
         null,
         null,
         "10,10-bis(4-pyridinylmethyl)-9(10H)-anthracenone inhibits the reaction [[KCNQ2 protein binds to KCNQ3 protein] which results in increased transport of Thallium]",
         "affects^binding|decreases^reaction|increases^transport",
         "20208034"
        ],
        [
         "21",
         "10,11-dihydro-10,11-dihydroxy-5H-dibenzazepine-5-carboxamide",
         "C004822",
         "35079-97-1",
         "EPHX1",
         "2052",
         "gene",
         "Homo sapiens",
         "9606.0",
         "[EPHX1 gene SNP affects the metabolism of carbamazepine epoxide] which affects the chemical synthesis of 10,11-dihydro-10,11-dihydroxy-5H-dibenzazepine-5-carboxamide",
         "affects^chemical synthesis|affects^metabolic processing",
         "15692831"
        ],
        [
         "22",
         "10,11-dihydro-10,11-dihydroxy-5H-dibenzazepine-5-carboxamide",
         "C004822",
         "35079-97-1",
         "EPHX1",
         "2052",
         "protein",
         "Homo sapiens",
         "9606.0",
         "[EPHX1 protein results in increased metabolism of carbamazepine epoxide] which results in increased chemical synthesis of 10,11-dihydro-10,11-dihydroxy-5H-dibenzazepine-5-carboxamide",
         "increases^chemical synthesis|increases^metabolic processing",
         "15692831"
        ],
        [
         "23",
         "10,11-dihydro-10-hydroxycarbamazepine",
         "C039775",
         null,
         "ABCB1",
         "5243",
         "protein",
         "Homo sapiens",
         "9606.0",
         "ABCB1 protein results in increased transport of 10,11-dihydro-10-hydroxycarbamazepine",
         "increases^transport",
         "16190932"
        ],
        [
         "24",
         "10,11-dihydro-10-hydroxycarbamazepine",
         "C039775",
         null,
         "CYP2C19",
         "1557",
         "protein",
         null,
         null,
         "10,11-dihydro-10-hydroxycarbamazepine results in decreased activity of CYP2C19 protein",
         "decreases^activity",
         "17516704"
        ],
        [
         "25",
         "10,11-dihydro-5H-dibenzo(a,d)cycloheptene",
         "C515697",
         null,
         "AR",
         "367",
         "protein",
         "Rattus norvegicus",
         "10116.0",
         "10,11-dihydro-5H-dibenzo(a,d)cycloheptene analog inhibits the reaction [Metribolone binds to AR protein]",
         "affects^binding|decreases^reaction",
         "3695475"
        ],
        [
         "26",
         "10,11-dihydro-5H-dibenzo(a,d)cycloheptene",
         "C515697",
         null,
         "AR",
         "367",
         "protein",
         "Rattus norvegicus",
         "10116.0",
         "10,11-dihydro-5H-dibenzo(a,d)cycloheptene inhibits the reaction [Metribolone binds to AR protein]",
         "affects^binding|decreases^reaction",
         "3695475"
        ],
        [
         "27",
         "10,12-octadecadienoic acid",
         "C094849",
         null,
         "CASP3",
         "836",
         "mRNA",
         "Oryctolagus cuniculus",
         "9986.0",
         "[9,11-linoleic acid co-treated with 10,12-octadecadienoic acid] results in increased expression of CASP3 mRNA",
         "affects^cotreatment|increases^expression",
         "31923252"
        ],
        [
         "28",
         "10,12-octadecadienoic acid",
         "C094849",
         null,
         "PPARG",
         "5468",
         "mRNA",
         "Oryctolagus cuniculus",
         "9986.0",
         "[9,11-linoleic acid co-treated with 10,12-octadecadienoic acid] results in decreased expression of PPARG mRNA",
         "affects^cotreatment|decreases^expression",
         "31923252"
        ],
        [
         "29",
         "10,12-octadecadienoic acid",
         "C094849",
         null,
         "SCD5",
         "79966",
         "mRNA",
         "Oryctolagus cuniculus",
         "9986.0",
         "[9,11-linoleic acid co-treated with 10,12-octadecadienoic acid] results in increased expression of SCD5 mRNA",
         "affects^cotreatment|increases^expression",
         "31923252"
        ],
        [
         "30",
         "10-(2-pyrazolylethoxy)camptothecin",
         "C534422",
         null,
         "CASP3",
         "836",
         "protein",
         "Homo sapiens",
         "9606.0",
         "10-(2-pyrazolylethoxy)camptothecin results in increased activity of CASP3 protein",
         "increases^activity",
         "18708040"
        ],
        [
         "31",
         "10-(2-pyrazolylethoxy)camptothecin",
         "C534422",
         null,
         "CASP8",
         "841",
         "protein",
         "Homo sapiens",
         "9606.0",
         "10-(2-pyrazolylethoxy)camptothecin results in increased activity of CASP8 protein",
         "increases^activity",
         "18708040"
        ],
        [
         "32",
         "103D5R",
         "C496879",
         null,
         "AKT1",
         "207",
         "protein",
         "Homo sapiens",
         "9606.0",
         "103D5R results in decreased phosphorylation of AKT1 protein",
         "decreases^phosphorylation",
         "15695405"
        ],
        [
         "33",
         "103D5R",
         "C496879",
         null,
         "HIF1A",
         "3091",
         "protein",
         "Homo sapiens",
         "9606.0",
         "103D5R inhibits the reaction [cobaltous chloride results in increased expression of HIF1A protein]",
         "decreases^reaction|increases^expression",
         "15695405"
        ],
        [
         "34",
         "103D5R",
         "C496879",
         null,
         "HIF1A",
         "3091",
         "protein",
         "Homo sapiens",
         "9606.0",
         "103D5R results in decreased expression of and results in decreased activity of HIF1A protein",
         "decreases^activity|decreases^expression",
         "15695405"
        ],
        [
         "35",
         "103D5R",
         "C496879",
         null,
         "HIF1A",
         "3091",
         "mRNA",
         "Homo sapiens",
         "9606.0",
         "103D5R results in decreased expression of HIF1A mRNA",
         "decreases^expression",
         "15695405"
        ],
        [
         "36",
         "103D5R",
         "C496879",
         null,
         "MAPK1",
         "5594",
         "protein",
         "Homo sapiens",
         "9606.0",
         "103D5R results in decreased phosphorylation of MAPK1 protein",
         "decreases^phosphorylation",
         "15695405"
        ],
        [
         "37",
         "103D5R",
         "C496879",
         null,
         "MAPK3",
         "5595",
         "protein",
         "Homo sapiens",
         "9606.0",
         "103D5R results in decreased phosphorylation of MAPK3 protein",
         "decreases^phosphorylation",
         "15695405"
        ],
        [
         "38",
         "103D5R",
         "C496879",
         null,
         "MAPK8",
         "5599",
         "protein",
         "Homo sapiens",
         "9606.0",
         "103D5R results in decreased phosphorylation of MAPK8 protein",
         "decreases^phosphorylation",
         "15695405"
        ],
        [
         "39",
         "103D5R",
         "C496879",
         null,
         "SLC2A1",
         "6513",
         "mRNA",
         "Homo sapiens",
         "9606.0",
         "103D5R results in decreased expression of SLC2A1 mRNA",
         "decreases^expression",
         "15695405"
        ],
        [
         "40",
         "103D5R",
         "C496879",
         null,
         "VEGFA",
         "7422",
         "mRNA",
         "Homo sapiens",
         "9606.0",
         "103D5R results in decreased expression of VEGFA mRNA",
         "decreases^expression",
         "15695405"
        ],
        [
         "41",
         "10-(4'-(N-diethylamino)butyl)-2-chlorophenoxazine",
         "C553100",
         null,
         "GP1BA",
         "2811",
         "protein",
         "Homo sapiens",
         "9606.0",
         "10-(4'-(N-diethylamino)butyl)-2-chlorophenoxazine inhibits the reaction [Tetradecanoylphorbol Acetate results in increased expression of GP1BA protein]",
         "decreases^reaction|increases^expression",
         "20523355"
        ],
        [
         "42",
         "10-(4'-(N-diethylamino)butyl)-2-chlorophenoxazine",
         "C553100",
         null,
         "GP1BA",
         "2811",
         "protein",
         "Homo sapiens",
         "9606.0",
         "10-(4'-(N-diethylamino)butyl)-2-chlorophenoxazine inhibits the reaction [THPO protein results in increased expression of GP1BA protein]",
         "decreases^reaction|increases^expression",
         "20523355"
        ],
        [
         "43",
         "10-(4'-(N-diethylamino)butyl)-2-chlorophenoxazine",
         "C553100",
         null,
         "GYPA",
         "2993",
         "protein",
         "Homo sapiens",
         "9606.0",
         "10-(4'-(N-diethylamino)butyl)-2-chlorophenoxazine inhibits the reaction [Tetradecanoylphorbol Acetate results in decreased expression of GYPA protein]",
         "decreases^expression|decreases^reaction",
         "20523355"
        ],
        [
         "44",
         "10-(4'-(N-diethylamino)butyl)-2-chlorophenoxazine",
         "C553100",
         null,
         "ITGA2B",
         "3674",
         "protein",
         "Homo sapiens",
         "9606.0",
         "10-(4'-(N-diethylamino)butyl)-2-chlorophenoxazine inhibits the reaction [Tetradecanoylphorbol Acetate results in increased expression of ITGA2B protein]",
         "decreases^reaction|increases^expression",
         "20523355"
        ],
        [
         "45",
         "10-(4'-(N-diethylamino)butyl)-2-chlorophenoxazine",
         "C553100",
         null,
         "ITGA2B",
         "3674",
         "protein",
         "Homo sapiens",
         "9606.0",
         "10-(4'-(N-diethylamino)butyl)-2-chlorophenoxazine inhibits the reaction [THPO protein results in increased expression of ITGA2B protein]",
         "decreases^reaction|increases^expression",
         "20523355"
        ],
        [
         "46",
         "10-(4'-(N-diethylamino)butyl)-2-chlorophenoxazine",
         "C553100",
         null,
         "ITGB3",
         "3690",
         "protein",
         "Homo sapiens",
         "9606.0",
         "10-(4'-(N-diethylamino)butyl)-2-chlorophenoxazine inhibits the reaction [Tetradecanoylphorbol Acetate results in increased expression of ITGB3 protein]",
         "decreases^reaction|increases^expression",
         "20523355"
        ],
        [
         "47",
         "10-(4'-(N-diethylamino)butyl)-2-chlorophenoxazine",
         "C553100",
         null,
         "ITGB3",
         "3690",
         "protein",
         "Homo sapiens",
         "9606.0",
         "10-(4'-(N-diethylamino)butyl)-2-chlorophenoxazine inhibits the reaction [THPO protein results in increased expression of ITGB3 protein]",
         "decreases^reaction|increases^expression",
         "20523355"
        ],
        [
         "48",
         "10-(4'-(N-diethylamino)butyl)-2-chlorophenoxazine",
         "C553100",
         null,
         "TFEB",
         "7942",
         "protein",
         "Homo sapiens",
         "9606.0",
         "10-(4'-(N-diethylamino)butyl)-2-chlorophenoxazine affects the localization of TFEB protein",
         "affects^localization",
         "28366621"
        ],
        [
         "49",
         "10-(4'-(N-diethylamino)butyl)-2-chlorophenoxazine",
         "C553100",
         null,
         "THPO",
         "7066",
         "protein",
         "Homo sapiens",
         "9606.0",
         "10-(4'-(N-diethylamino)butyl)-2-chlorophenoxazine inhibits the reaction [THPO protein results in increased expression of GP1BA protein]",
         "decreases^reaction|increases^expression",
         "20523355"
        ]
       ],
       "shape": {
        "columns": 11,
        "rows": 2892325
       }
      },
      "text/html": [
       "<div>\n",
       "<style scoped>\n",
       "    .dataframe tbody tr th:only-of-type {\n",
       "        vertical-align: middle;\n",
       "    }\n",
       "\n",
       "    .dataframe tbody tr th {\n",
       "        vertical-align: top;\n",
       "    }\n",
       "\n",
       "    .dataframe thead th {\n",
       "        text-align: right;\n",
       "    }\n",
       "</style>\n",
       "<table border=\"1\" class=\"dataframe\">\n",
       "  <thead>\n",
       "    <tr style=\"text-align: right;\">\n",
       "      <th></th>\n",
       "      <th>ChemicalName</th>\n",
       "      <th>ChemicalID</th>\n",
       "      <th>CasRN</th>\n",
       "      <th>GeneSymbol</th>\n",
       "      <th>GeneID</th>\n",
       "      <th>GeneForms</th>\n",
       "      <th>Organism</th>\n",
       "      <th>OrganismID</th>\n",
       "      <th>Interaction</th>\n",
       "      <th>InteractionActions</th>\n",
       "      <th>PubMedIDs</th>\n",
       "    </tr>\n",
       "  </thead>\n",
       "  <tbody>\n",
       "    <tr>\n",
       "      <th>0</th>\n",
       "      <td>10074-G5</td>\n",
       "      <td>C534883</td>\n",
       "      <td>NaN</td>\n",
       "      <td>AR</td>\n",
       "      <td>367</td>\n",
       "      <td>protein</td>\n",
       "      <td>Homo sapiens</td>\n",
       "      <td>9606.0</td>\n",
       "      <td>10074-G5 affects the reaction [MYC protein res...</td>\n",
       "      <td>affects^reaction|increases^expression</td>\n",
       "      <td>32184358</td>\n",
       "    </tr>\n",
       "    <tr>\n",
       "      <th>1</th>\n",
       "      <td>10074-G5</td>\n",
       "      <td>C534883</td>\n",
       "      <td>NaN</td>\n",
       "      <td>AR</td>\n",
       "      <td>367</td>\n",
       "      <td>protein</td>\n",
       "      <td>Homo sapiens</td>\n",
       "      <td>9606.0</td>\n",
       "      <td>10074-G5 inhibits the reaction [EPHB2 protein ...</td>\n",
       "      <td>decreases^reaction|increases^expression</td>\n",
       "      <td>32184358</td>\n",
       "    </tr>\n",
       "    <tr>\n",
       "      <th>2</th>\n",
       "      <td>10074-G5</td>\n",
       "      <td>C534883</td>\n",
       "      <td>NaN</td>\n",
       "      <td>AR</td>\n",
       "      <td>367</td>\n",
       "      <td>protein</td>\n",
       "      <td>Homo sapiens</td>\n",
       "      <td>9606.0</td>\n",
       "      <td>10074-G5 results in decreased expression of AR...</td>\n",
       "      <td>decreases^expression</td>\n",
       "      <td>32184358</td>\n",
       "    </tr>\n",
       "    <tr>\n",
       "      <th>3</th>\n",
       "      <td>10074-G5</td>\n",
       "      <td>C534883</td>\n",
       "      <td>NaN</td>\n",
       "      <td>AR</td>\n",
       "      <td>367</td>\n",
       "      <td>protein</td>\n",
       "      <td>Homo sapiens</td>\n",
       "      <td>9606.0</td>\n",
       "      <td>10074-G5 results in decreased expression of AR...</td>\n",
       "      <td>decreases^expression</td>\n",
       "      <td>32184358</td>\n",
       "    </tr>\n",
       "    <tr>\n",
       "      <th>4</th>\n",
       "      <td>10074-G5</td>\n",
       "      <td>C534883</td>\n",
       "      <td>NaN</td>\n",
       "      <td>EPHB2</td>\n",
       "      <td>2048</td>\n",
       "      <td>protein</td>\n",
       "      <td>Homo sapiens</td>\n",
       "      <td>9606.0</td>\n",
       "      <td>10074-G5 inhibits the reaction [EPHB2 protein ...</td>\n",
       "      <td>decreases^reaction|increases^expression</td>\n",
       "      <td>32184358</td>\n",
       "    </tr>\n",
       "    <tr>\n",
       "      <th>...</th>\n",
       "      <td>...</td>\n",
       "      <td>...</td>\n",
       "      <td>...</td>\n",
       "      <td>...</td>\n",
       "      <td>...</td>\n",
       "      <td>...</td>\n",
       "      <td>...</td>\n",
       "      <td>...</td>\n",
       "      <td>...</td>\n",
       "      <td>...</td>\n",
       "      <td>...</td>\n",
       "    </tr>\n",
       "    <tr>\n",
       "      <th>2892320</th>\n",
       "      <td>Zymosan</td>\n",
       "      <td>D015054</td>\n",
       "      <td>9010-72-4</td>\n",
       "      <td>VEGFA</td>\n",
       "      <td>7422</td>\n",
       "      <td>protein</td>\n",
       "      <td>Mus musculus</td>\n",
       "      <td>10090.0</td>\n",
       "      <td>TNFRSF1A gene mutant form inhibits the reactio...</td>\n",
       "      <td>decreases^reaction|increases^expression</td>\n",
       "      <td>17724436</td>\n",
       "    </tr>\n",
       "    <tr>\n",
       "      <th>2892321</th>\n",
       "      <td>Zymosan</td>\n",
       "      <td>D015054</td>\n",
       "      <td>9010-72-4</td>\n",
       "      <td>VEGFA</td>\n",
       "      <td>7422</td>\n",
       "      <td>protein</td>\n",
       "      <td>Mus musculus</td>\n",
       "      <td>10090.0</td>\n",
       "      <td>Zymosan results in increased expression of VEG...</td>\n",
       "      <td>increases^expression</td>\n",
       "      <td>17724436</td>\n",
       "    </tr>\n",
       "    <tr>\n",
       "      <th>2892322</th>\n",
       "      <td>Zymosan</td>\n",
       "      <td>D015054</td>\n",
       "      <td>9010-72-4</td>\n",
       "      <td>XIAP</td>\n",
       "      <td>331</td>\n",
       "      <td>mRNA</td>\n",
       "      <td>Homo sapiens</td>\n",
       "      <td>9606.0</td>\n",
       "      <td>Zymosan analog results in decreased expression...</td>\n",
       "      <td>decreases^expression</td>\n",
       "      <td>16803582</td>\n",
       "    </tr>\n",
       "    <tr>\n",
       "      <th>2892323</th>\n",
       "      <td>zymosterol</td>\n",
       "      <td>C015582</td>\n",
       "      <td>128-33-6</td>\n",
       "      <td>CYP27A1</td>\n",
       "      <td>1593</td>\n",
       "      <td>protein</td>\n",
       "      <td>Homo sapiens</td>\n",
       "      <td>9606.0</td>\n",
       "      <td>CYP27A1 protein results in increased metabolis...</td>\n",
       "      <td>increases^metabolic processing</td>\n",
       "      <td>14622972</td>\n",
       "    </tr>\n",
       "    <tr>\n",
       "      <th>2892324</th>\n",
       "      <td>zymosterol</td>\n",
       "      <td>C015582</td>\n",
       "      <td>128-33-6</td>\n",
       "      <td>MSMO1</td>\n",
       "      <td>6307</td>\n",
       "      <td>protein</td>\n",
       "      <td>Homo sapiens</td>\n",
       "      <td>9606.0</td>\n",
       "      <td>MSMO1 protein results in decreased abundance o...</td>\n",
       "      <td>decreases^abundance</td>\n",
       "      <td>23125191</td>\n",
       "    </tr>\n",
       "  </tbody>\n",
       "</table>\n",
       "<p>2892325 rows × 11 columns</p>\n",
       "</div>"
      ],
      "text/plain": [
       "        ChemicalName ChemicalID      CasRN GeneSymbol  GeneID GeneForms  \\\n",
       "0           10074-G5    C534883        NaN         AR     367   protein   \n",
       "1           10074-G5    C534883        NaN         AR     367   protein   \n",
       "2           10074-G5    C534883        NaN         AR     367   protein   \n",
       "3           10074-G5    C534883        NaN         AR     367   protein   \n",
       "4           10074-G5    C534883        NaN      EPHB2    2048   protein   \n",
       "...              ...        ...        ...        ...     ...       ...   \n",
       "2892320      Zymosan    D015054  9010-72-4      VEGFA    7422   protein   \n",
       "2892321      Zymosan    D015054  9010-72-4      VEGFA    7422   protein   \n",
       "2892322      Zymosan    D015054  9010-72-4       XIAP     331      mRNA   \n",
       "2892323   zymosterol    C015582   128-33-6    CYP27A1    1593   protein   \n",
       "2892324   zymosterol    C015582   128-33-6      MSMO1    6307   protein   \n",
       "\n",
       "             Organism  OrganismID  \\\n",
       "0        Homo sapiens      9606.0   \n",
       "1        Homo sapiens      9606.0   \n",
       "2        Homo sapiens      9606.0   \n",
       "3        Homo sapiens      9606.0   \n",
       "4        Homo sapiens      9606.0   \n",
       "...               ...         ...   \n",
       "2892320  Mus musculus     10090.0   \n",
       "2892321  Mus musculus     10090.0   \n",
       "2892322  Homo sapiens      9606.0   \n",
       "2892323  Homo sapiens      9606.0   \n",
       "2892324  Homo sapiens      9606.0   \n",
       "\n",
       "                                               Interaction  \\\n",
       "0        10074-G5 affects the reaction [MYC protein res...   \n",
       "1        10074-G5 inhibits the reaction [EPHB2 protein ...   \n",
       "2        10074-G5 results in decreased expression of AR...   \n",
       "3        10074-G5 results in decreased expression of AR...   \n",
       "4        10074-G5 inhibits the reaction [EPHB2 protein ...   \n",
       "...                                                    ...   \n",
       "2892320  TNFRSF1A gene mutant form inhibits the reactio...   \n",
       "2892321  Zymosan results in increased expression of VEG...   \n",
       "2892322  Zymosan analog results in decreased expression...   \n",
       "2892323  CYP27A1 protein results in increased metabolis...   \n",
       "2892324  MSMO1 protein results in decreased abundance o...   \n",
       "\n",
       "                              InteractionActions PubMedIDs  \n",
       "0          affects^reaction|increases^expression  32184358  \n",
       "1        decreases^reaction|increases^expression  32184358  \n",
       "2                           decreases^expression  32184358  \n",
       "3                           decreases^expression  32184358  \n",
       "4        decreases^reaction|increases^expression  32184358  \n",
       "...                                          ...       ...  \n",
       "2892320  decreases^reaction|increases^expression  17724436  \n",
       "2892321                     increases^expression  17724436  \n",
       "2892322                     decreases^expression  16803582  \n",
       "2892323           increases^metabolic processing  14622972  \n",
       "2892324                      decreases^abundance  23125191  \n",
       "\n",
       "[2892325 rows x 11 columns]"
      ]
     },
     "execution_count": 1,
     "metadata": {},
     "output_type": "execute_result"
    }
   ],
   "source": [
    "import pandas as pd\n",
    "from io import StringIO\n",
    "# Read the lines from the file\n",
    "with open('CTD_chem_gene_ixns.csv', 'r') as f:\n",
    "    lines = f.readlines()\n",
    "\n",
    "# Extract column names\n",
    "columns = []\n",
    "for line in lines:\n",
    "    if line.startswith('# Fields'):\n",
    "        # Get the following line which contains column names\n",
    "        columns = lines[lines.index(line) + 1].strip()[2:].split(',')\n",
    "        break\n",
    "\n",
    "# Filter out comment lines\n",
    "data_lines = [line for line in lines if not line.startswith('#')]\n",
    "\n",
    "# Create a DataFrame from the filtered lines\n",
    "data_str = '\\n'.join(data_lines)\n",
    "ctd = pd.read_csv(StringIO(data_str), names=columns)\n",
    "\n",
    "ctd"
   ]
  },
  {
   "cell_type": "code",
   "execution_count": 2,
   "metadata": {},
   "outputs": [
    {
     "data": {
      "text/plain": [
       "GeneForms\n",
       "mRNA                        1910053\n",
       "protein                      777470\n",
       "gene                         112023\n",
       "promoter                      35454\n",
       "intron                        16995\n",
       "exon                           7322\n",
       "5' UTR                         4309\n",
       "3' UTR                         3872\n",
       "mutant form                    2779\n",
       "polyA tail                      669\n",
       "enhancer                        530\n",
       "mRNA|promoter                   510\n",
       "polymorphism                    234\n",
       "mRNA|protein                    230\n",
       "gene|mRNA                       173\n",
       "gene|protein                    136\n",
       "SNP                             105\n",
       "intron|mRNA                      99\n",
       "promoter|protein                 96\n",
       "alternative form                 44\n",
       "enhancer|mRNA                    33\n",
       "modified form                    23\n",
       "3' UTR|protein                   19\n",
       "mutant form|protein              17\n",
       "3' UTR|mRNA                      14\n",
       "mRNA|mutant form                 11\n",
       "5' UTR|protein                   10\n",
       "mRNA|promoter|protein             3\n",
       "enhancer|protein                  2\n",
       "exon|mRNA|promoter                2\n",
       "gene|SNP                          1\n",
       "alternative form|protein          1\n",
       "gene|promoter                     1\n",
       "exon|intron                       1\n",
       "exon|mRNA                         1\n",
       "5' UTR|mRNA                       1\n",
       "exon|protein                      1\n",
       "Name: count, dtype: int64"
      ]
     },
     "execution_count": 2,
     "metadata": {},
     "output_type": "execute_result"
    }
   ],
   "source": [
    "ctd['GeneForms'].value_counts()"
   ]
  },
  {
   "cell_type": "code",
   "execution_count": 3,
   "metadata": {},
   "outputs": [
    {
     "data": {
      "application/vnd.microsoft.datawrangler.viewer.v0+json": {
       "columns": [
        {
         "name": "index",
         "rawType": "int64",
         "type": "integer"
        },
        {
         "name": "ChemicalID",
         "rawType": "object",
         "type": "string"
        },
        {
         "name": "GeneID",
         "rawType": "object",
         "type": "string"
        }
       ],
       "conversionMethod": "pd.DataFrame",
       "ref": "4a99e228-a365-435d-8917-79dfdc4e0bdb",
       "rows": [
        [
         "21",
         "C004822",
         "2052"
        ],
        [
         "121",
         "C013567",
         "1565"
        ],
        [
         "127",
         "C065719",
         "1559"
        ],
        [
         "575",
         "C037530",
         "80045"
        ],
        [
         "576",
         "C037530",
         "4009"
        ],
        [
         "1154",
         "C049235",
         "348"
        ],
        [
         "1158",
         "C049235",
         "3949"
        ],
        [
         "1449",
         "C001427",
         "54600"
        ],
        [
         "1540",
         "C016780",
         "25"
        ],
        [
         "1541",
         "C016780",
         "105"
        ],
        [
         "1542",
         "C016780",
         "112"
        ],
        [
         "1543",
         "C016780",
         "115"
        ],
        [
         "1544",
         "C016780",
         "57491"
        ],
        [
         "1545",
         "C016780",
         "207"
        ],
        [
         "1546",
         "C016780",
         "154810"
        ],
        [
         "1547",
         "C016780",
         "10297"
        ],
        [
         "1548",
         "C016780",
         "2909"
        ],
        [
         "1549",
         "C016780",
         "8312"
        ],
        [
         "1550",
         "C016780",
         "55653"
        ],
        [
         "1551",
         "C016780",
         "598"
        ],
        [
         "1552",
         "C016780",
         "613"
        ],
        [
         "1553",
         "C016780",
         "654"
        ],
        [
         "1554",
         "C016780",
         "655"
        ],
        [
         "1555",
         "C016780",
         "673"
        ],
        [
         "1556",
         "C016780",
         "773"
        ],
        [
         "1557",
         "C016780",
         "774"
        ],
        [
         "1558",
         "C016780",
         "775"
        ],
        [
         "1559",
         "C016780",
         "8912"
        ],
        [
         "1560",
         "C016780",
         "8911"
        ],
        [
         "1561",
         "C016780",
         "781"
        ],
        [
         "1562",
         "C016780",
         "10368"
        ],
        [
         "1563",
         "C016780",
         "59285"
        ],
        [
         "1564",
         "C016780",
         "59283"
        ],
        [
         "1565",
         "C016780",
         "23261"
        ],
        [
         "1566",
         "C016780",
         "8030"
        ],
        [
         "1567",
         "C016780",
         "994"
        ],
        [
         "1568",
         "C016780",
         "1002"
        ],
        [
         "1569",
         "C016780",
         "1056"
        ],
        [
         "1570",
         "C016780",
         "4261"
        ],
        [
         "1571",
         "C016780",
         "284451"
        ],
        [
         "1572",
         "C016780",
         "23562"
        ],
        [
         "1573",
         "C016780",
         "80781"
        ],
        [
         "1574",
         "C016780",
         "85301"
        ],
        [
         "1575",
         "C016780",
         "1398"
        ],
        [
         "1576",
         "C016780",
         "23373"
        ],
        [
         "1577",
         "C016780",
         "1454"
        ],
        [
         "1578",
         "C016780",
         "1487"
        ],
        [
         "1579",
         "C016780",
         "1488"
        ],
        [
         "1580",
         "C016780",
         "1496"
        ],
        [
         "1581",
         "C016780",
         "8453"
        ]
       ],
       "shape": {
        "columns": 2,
        "rows": 42261
       }
      },
      "text/html": [
       "<div>\n",
       "<style scoped>\n",
       "    .dataframe tbody tr th:only-of-type {\n",
       "        vertical-align: middle;\n",
       "    }\n",
       "\n",
       "    .dataframe tbody tr th {\n",
       "        vertical-align: top;\n",
       "    }\n",
       "\n",
       "    .dataframe thead th {\n",
       "        text-align: right;\n",
       "    }\n",
       "</style>\n",
       "<table border=\"1\" class=\"dataframe\">\n",
       "  <thead>\n",
       "    <tr style=\"text-align: right;\">\n",
       "      <th></th>\n",
       "      <th>ChemicalID</th>\n",
       "      <th>GeneID</th>\n",
       "    </tr>\n",
       "  </thead>\n",
       "  <tbody>\n",
       "    <tr>\n",
       "      <th>21</th>\n",
       "      <td>C004822</td>\n",
       "      <td>2052</td>\n",
       "    </tr>\n",
       "    <tr>\n",
       "      <th>121</th>\n",
       "      <td>C013567</td>\n",
       "      <td>1565</td>\n",
       "    </tr>\n",
       "    <tr>\n",
       "      <th>127</th>\n",
       "      <td>C065719</td>\n",
       "      <td>1559</td>\n",
       "    </tr>\n",
       "    <tr>\n",
       "      <th>575</th>\n",
       "      <td>C037530</td>\n",
       "      <td>80045</td>\n",
       "    </tr>\n",
       "    <tr>\n",
       "      <th>576</th>\n",
       "      <td>C037530</td>\n",
       "      <td>4009</td>\n",
       "    </tr>\n",
       "    <tr>\n",
       "      <th>...</th>\n",
       "      <td>...</td>\n",
       "      <td>...</td>\n",
       "    </tr>\n",
       "    <tr>\n",
       "      <th>2886738</th>\n",
       "      <td>C017803</td>\n",
       "      <td>210</td>\n",
       "    </tr>\n",
       "    <tr>\n",
       "      <th>2886853</th>\n",
       "      <td>C017803</td>\n",
       "      <td>3077</td>\n",
       "    </tr>\n",
       "    <tr>\n",
       "      <th>2887176</th>\n",
       "      <td>C017803</td>\n",
       "      <td>7421</td>\n",
       "    </tr>\n",
       "    <tr>\n",
       "      <th>2887282</th>\n",
       "      <td>D019287</td>\n",
       "      <td>540</td>\n",
       "    </tr>\n",
       "    <tr>\n",
       "      <th>2889036</th>\n",
       "      <td>D009353</td>\n",
       "      <td>3265</td>\n",
       "    </tr>\n",
       "  </tbody>\n",
       "</table>\n",
       "<p>42261 rows × 2 columns</p>\n",
       "</div>"
      ],
      "text/plain": [
       "        ChemicalID GeneID\n",
       "21         C004822   2052\n",
       "121        C013567   1565\n",
       "127        C065719   1559\n",
       "575        C037530  80045\n",
       "576        C037530   4009\n",
       "...            ...    ...\n",
       "2886738    C017803    210\n",
       "2886853    C017803   3077\n",
       "2887176    C017803   7421\n",
       "2887282    D019287    540\n",
       "2889036    D009353   3265\n",
       "\n",
       "[42261 rows x 2 columns]"
      ]
     },
     "execution_count": 3,
     "metadata": {},
     "output_type": "execute_result"
    }
   ],
   "source": [
    "ctd_human = ctd[(ctd['OrganismID'] == 9606) & (ctd['GeneForms'] == 'gene')]\n",
    "ctd_human = ctd_human[['ChemicalID', 'GeneID']]\n",
    "ctd_human = ctd_human.drop_duplicates()\n",
    "ctd_human['GeneID'] = ctd_human['GeneID'].astype(str)\n",
    "ctd_human"
   ]
  },
  {
   "cell_type": "markdown",
   "metadata": {},
   "source": [
    "### BioMedGraphica ID"
   ]
  },
  {
   "cell_type": "code",
   "execution_count": 4,
   "metadata": {},
   "outputs": [],
   "source": [
    "import pandas as pd\n",
    "import os\n",
    "from pathlib import Path\n",
    "\n",
    "current_working_dir = Path(os.getcwd()).resolve()\n",
    "grandparent_dir = current_working_dir.parent.parent.parent\n",
    "target_dir_exposure = grandparent_dir / 'BioMedGraphica' / 'Entity' / 'Exposure' / 'BioMedGraphica_Exposure.csv'\n",
    "target_dir_gene = grandparent_dir / 'BioMedGraphica' / 'Entity' / 'Gene' / 'BioMedGraphica_Gene.csv'\n",
    "biomedgraphica_exposure = pd.read_csv(target_dir_exposure, dtype=str)\n",
    "biomedgraphica_gene = pd.read_csv(target_dir_gene, dtype=str)"
   ]
  },
  {
   "cell_type": "markdown",
   "metadata": {},
   "source": [
    "### CTD Mapping"
   ]
  },
  {
   "cell_type": "code",
   "execution_count": 5,
   "metadata": {},
   "outputs": [
    {
     "name": "stderr",
     "output_type": "stream",
     "text": [
      "C:\\Users\\shunn\\AppData\\Local\\Temp\\ipykernel_33276\\4049944138.py:2: SettingWithCopyWarning: \n",
      "A value is trying to be set on a copy of a slice from a DataFrame\n",
      "\n",
      "See the caveats in the documentation: https://pandas.pydata.org/pandas-docs/stable/user_guide/indexing.html#returning-a-view-versus-a-copy\n",
      "  ncbi_individual.dropna(subset=['NCBI_Gene_ID'], inplace=True)\n"
     ]
    },
    {
     "data": {
      "application/vnd.microsoft.datawrangler.viewer.v0+json": {
       "columns": [
        {
         "name": "index",
         "rawType": "int64",
         "type": "integer"
        },
        {
         "name": "ChemicalID",
         "rawType": "object",
         "type": "string"
        },
        {
         "name": "GeneID",
         "rawType": "object",
         "type": "string"
        },
        {
         "name": "To_ID",
         "rawType": "object",
         "type": "unknown"
        }
       ],
       "conversionMethod": "pd.DataFrame",
       "ref": "605d0bbb-397e-456a-ada0-85d04e682c32",
       "rows": [
        [
         "21",
         "C004822",
         "2052",
         "BMG_GN166788"
        ],
        [
         "121",
         "C013567",
         "1565",
         "BMG_GN165671"
        ],
        [
         "127",
         "C065719",
         "1559",
         "BMG_GN165667"
        ],
        [
         "575",
         "C037530",
         "80045",
         "BMG_GN185940"
        ],
        [
         "576",
         "C037530",
         "4009",
         "BMG_GN174830"
        ],
        [
         "1154",
         "C049235",
         "348",
         "BMG_GN172641"
        ],
        [
         "1158",
         "C049235",
         "3949",
         "BMG_GN174586"
        ],
        [
         "1449",
         "C001427",
         "54600",
         "BMG_GN178241"
        ],
        [
         "1540",
         "C016780",
         "25",
         "BMG_GN168280"
        ],
        [
         "1541",
         "C016780",
         "105",
         "BMG_GN012705"
        ],
        [
         "1542",
         "C016780",
         "112",
         "BMG_GN026720"
        ],
        [
         "1543",
         "C016780",
         "115",
         "BMG_GN029177"
        ],
        [
         "1544",
         "C016780",
         "57491",
         "BMG_GN180053"
        ],
        [
         "1545",
         "C016780",
         "207",
         "BMG_GN166817"
        ],
        [
         "1546",
         "C016780",
         "154810",
         "BMG_GN165633"
        ],
        [
         "1547",
         "C016780",
         "10297",
         "BMG_GN012329"
        ],
        [
         "1548",
         "C016780",
         "2909",
         "BMG_GN171179"
        ],
        [
         "1549",
         "C016780",
         "8312",
         "BMG_GN186574"
        ],
        [
         "1550",
         "C016780",
         "55653",
         "BMG_GN179064"
        ],
        [
         "1551",
         "C016780",
         "598",
         "BMG_GN180574"
        ],
        [
         "1552",
         "C016780",
         "613",
         "BMG_GN180765"
        ],
        [
         "1553",
         "C016780",
         "654",
         "BMG_GN182936"
        ],
        [
         "1554",
         "C016780",
         "655",
         "BMG_GN183000"
        ],
        [
         "1555",
         "C016780",
         "673",
         "BMG_GN183221"
        ],
        [
         "1556",
         "C016780",
         "773",
         "BMG_GN185167"
        ],
        [
         "1557",
         "C016780",
         "774",
         "BMG_GN185174"
        ],
        [
         "1558",
         "C016780",
         "775",
         "BMG_GN185180"
        ],
        [
         "1559",
         "C016780",
         "8912",
         "BMG_GN187961"
        ],
        [
         "1560",
         "C016780",
         "8911",
         "BMG_GN187960"
        ],
        [
         "1561",
         "C016780",
         "781",
         "BMG_GN185243"
        ],
        [
         "1562",
         "C016780",
         "10368",
         "BMG_GN012453"
        ],
        [
         "1563",
         "C016780",
         "59285",
         "BMG_GN180495"
        ],
        [
         "1564",
         "C016780",
         "59283",
         "BMG_GN180493"
        ],
        [
         "1565",
         "C016780",
         "23261",
         "BMG_GN167684"
        ],
        [
         "1566",
         "C016780",
         "8030",
         "BMG_GN186059"
        ],
        [
         "1567",
         "C016780",
         "994",
         "BMG_GN189372"
        ],
        [
         "1568",
         "C016780",
         "1002",
         "BMG_GN002649"
        ],
        [
         "1569",
         "C016780",
         "1056",
         "BMG_GN018751"
        ],
        [
         "1570",
         "C016780",
         "4261",
         "BMG_GN175672"
        ],
        [
         "1571",
         "C016780",
         "284451",
         "BMG_GN170241"
        ],
        [
         "1572",
         "C016780",
         "23562",
         "BMG_GN167935"
        ],
        [
         "1573",
         "C016780",
         "80781",
         "BMG_GN186161"
        ],
        [
         "1574",
         "C016780",
         "85301",
         "BMG_GN187520"
        ],
        [
         "1575",
         "C016780",
         "1398",
         "BMG_GN164718"
        ],
        [
         "1576",
         "C016780",
         "23373",
         "BMG_GN167779"
        ],
        [
         "1577",
         "C016780",
         "1454",
         "BMG_GN165022"
        ],
        [
         "1578",
         "C016780",
         "1487",
         "BMG_GN165261"
        ],
        [
         "1579",
         "C016780",
         "1488",
         "BMG_GN165269"
        ],
        [
         "1580",
         "C016780",
         "1496",
         "BMG_GN165315"
        ],
        [
         "1581",
         "C016780",
         "8453",
         "BMG_GN187161"
        ]
       ],
       "shape": {
        "columns": 3,
        "rows": 42261
       }
      },
      "text/html": [
       "<div>\n",
       "<style scoped>\n",
       "    .dataframe tbody tr th:only-of-type {\n",
       "        vertical-align: middle;\n",
       "    }\n",
       "\n",
       "    .dataframe tbody tr th {\n",
       "        vertical-align: top;\n",
       "    }\n",
       "\n",
       "    .dataframe thead th {\n",
       "        text-align: right;\n",
       "    }\n",
       "</style>\n",
       "<table border=\"1\" class=\"dataframe\">\n",
       "  <thead>\n",
       "    <tr style=\"text-align: right;\">\n",
       "      <th></th>\n",
       "      <th>ChemicalID</th>\n",
       "      <th>GeneID</th>\n",
       "      <th>To_ID</th>\n",
       "    </tr>\n",
       "  </thead>\n",
       "  <tbody>\n",
       "    <tr>\n",
       "      <th>21</th>\n",
       "      <td>C004822</td>\n",
       "      <td>2052</td>\n",
       "      <td>BMG_GN166788</td>\n",
       "    </tr>\n",
       "    <tr>\n",
       "      <th>121</th>\n",
       "      <td>C013567</td>\n",
       "      <td>1565</td>\n",
       "      <td>BMG_GN165671</td>\n",
       "    </tr>\n",
       "    <tr>\n",
       "      <th>127</th>\n",
       "      <td>C065719</td>\n",
       "      <td>1559</td>\n",
       "      <td>BMG_GN165667</td>\n",
       "    </tr>\n",
       "    <tr>\n",
       "      <th>575</th>\n",
       "      <td>C037530</td>\n",
       "      <td>80045</td>\n",
       "      <td>BMG_GN185940</td>\n",
       "    </tr>\n",
       "    <tr>\n",
       "      <th>576</th>\n",
       "      <td>C037530</td>\n",
       "      <td>4009</td>\n",
       "      <td>BMG_GN174830</td>\n",
       "    </tr>\n",
       "    <tr>\n",
       "      <th>...</th>\n",
       "      <td>...</td>\n",
       "      <td>...</td>\n",
       "      <td>...</td>\n",
       "    </tr>\n",
       "    <tr>\n",
       "      <th>2886738</th>\n",
       "      <td>C017803</td>\n",
       "      <td>210</td>\n",
       "      <td>BMG_GN166841</td>\n",
       "    </tr>\n",
       "    <tr>\n",
       "      <th>2886853</th>\n",
       "      <td>C017803</td>\n",
       "      <td>3077</td>\n",
       "      <td>BMG_GN171500</td>\n",
       "    </tr>\n",
       "    <tr>\n",
       "      <th>2887176</th>\n",
       "      <td>C017803</td>\n",
       "      <td>7421</td>\n",
       "      <td>BMG_GN184896</td>\n",
       "    </tr>\n",
       "    <tr>\n",
       "      <th>2887282</th>\n",
       "      <td>D019287</td>\n",
       "      <td>540</td>\n",
       "      <td>BMG_GN177975</td>\n",
       "    </tr>\n",
       "    <tr>\n",
       "      <th>2889036</th>\n",
       "      <td>D009353</td>\n",
       "      <td>3265</td>\n",
       "      <td>BMG_GN171826</td>\n",
       "    </tr>\n",
       "  </tbody>\n",
       "</table>\n",
       "<p>42261 rows × 3 columns</p>\n",
       "</div>"
      ],
      "text/plain": [
       "        ChemicalID GeneID         To_ID\n",
       "21         C004822   2052  BMG_GN166788\n",
       "121        C013567   1565  BMG_GN165671\n",
       "127        C065719   1559  BMG_GN165667\n",
       "575        C037530  80045  BMG_GN185940\n",
       "576        C037530   4009  BMG_GN174830\n",
       "...            ...    ...           ...\n",
       "2886738    C017803    210  BMG_GN166841\n",
       "2886853    C017803   3077  BMG_GN171500\n",
       "2887176    C017803   7421  BMG_GN184896\n",
       "2887282    D019287    540  BMG_GN177975\n",
       "2889036    D009353   3265  BMG_GN171826\n",
       "\n",
       "[42261 rows x 3 columns]"
      ]
     },
     "execution_count": 5,
     "metadata": {},
     "output_type": "execute_result"
    }
   ],
   "source": [
    "ncbi_individual = biomedgraphica_gene[['NCBI_Gene_ID', 'BioMedGraphica_ID']]\n",
    "ncbi_individual.dropna(subset=['NCBI_Gene_ID'], inplace=True)\n",
    "ncbi_individual = ncbi_individual.assign(NCBI_Gene_ID=ncbi_individual['NCBI_Gene_ID'].str.split(';')).explode('NCBI_Gene_ID')\n",
    "\n",
    "ncbi_to_individual = ncbi_individual.groupby('NCBI_Gene_ID')['BioMedGraphica_ID'].apply(lambda x: ';'.join(x.dropna().unique())).to_dict()\n",
    "\n",
    "ctd_human['To_ID'] = ctd_human['GeneID'].map(ncbi_to_individual)\n",
    "ctd_human"
   ]
  },
  {
   "cell_type": "code",
   "execution_count": 6,
   "metadata": {},
   "outputs": [
    {
     "name": "stderr",
     "output_type": "stream",
     "text": [
      "C:\\Users\\shunn\\AppData\\Local\\Temp\\ipykernel_33276\\3755124162.py:2: SettingWithCopyWarning: \n",
      "A value is trying to be set on a copy of a slice from a DataFrame\n",
      "\n",
      "See the caveats in the documentation: https://pandas.pydata.org/pandas-docs/stable/user_guide/indexing.html#returning-a-view-versus-a-copy\n",
      "  mesh_individual.dropna(subset=['MeSH_ID'], inplace=True)\n"
     ]
    },
    {
     "data": {
      "application/vnd.microsoft.datawrangler.viewer.v0+json": {
       "columns": [
        {
         "name": "index",
         "rawType": "int64",
         "type": "integer"
        },
        {
         "name": "ChemicalID",
         "rawType": "object",
         "type": "string"
        },
        {
         "name": "GeneID",
         "rawType": "object",
         "type": "string"
        },
        {
         "name": "To_ID",
         "rawType": "object",
         "type": "unknown"
        },
        {
         "name": "From_ID",
         "rawType": "object",
         "type": "unknown"
        }
       ],
       "conversionMethod": "pd.DataFrame",
       "ref": "d5da4e27-2431-4ecc-af68-e59e5936e40a",
       "rows": [
        [
         "21",
         "C004822",
         "2052",
         "BMG_GN166788",
         null
        ],
        [
         "121",
         "C013567",
         "1565",
         "BMG_GN165671",
         null
        ],
        [
         "127",
         "C065719",
         "1559",
         "BMG_GN165667",
         null
        ],
        [
         "575",
         "C037530",
         "80045",
         "BMG_GN185940",
         null
        ],
        [
         "576",
         "C037530",
         "4009",
         "BMG_GN174830",
         null
        ],
        [
         "1154",
         "C049235",
         "348",
         "BMG_GN172641",
         null
        ],
        [
         "1158",
         "C049235",
         "3949",
         "BMG_GN174586",
         null
        ],
        [
         "1449",
         "C001427",
         "54600",
         "BMG_GN178241",
         null
        ],
        [
         "1540",
         "C016780",
         "25",
         "BMG_GN168280",
         null
        ],
        [
         "1541",
         "C016780",
         "105",
         "BMG_GN012705",
         null
        ],
        [
         "1542",
         "C016780",
         "112",
         "BMG_GN026720",
         null
        ],
        [
         "1543",
         "C016780",
         "115",
         "BMG_GN029177",
         null
        ],
        [
         "1544",
         "C016780",
         "57491",
         "BMG_GN180053",
         null
        ],
        [
         "1545",
         "C016780",
         "207",
         "BMG_GN166817",
         null
        ],
        [
         "1546",
         "C016780",
         "154810",
         "BMG_GN165633",
         null
        ],
        [
         "1547",
         "C016780",
         "10297",
         "BMG_GN012329",
         null
        ],
        [
         "1548",
         "C016780",
         "2909",
         "BMG_GN171179",
         null
        ],
        [
         "1549",
         "C016780",
         "8312",
         "BMG_GN186574",
         null
        ],
        [
         "1550",
         "C016780",
         "55653",
         "BMG_GN179064",
         null
        ],
        [
         "1551",
         "C016780",
         "598",
         "BMG_GN180574",
         null
        ],
        [
         "1552",
         "C016780",
         "613",
         "BMG_GN180765",
         null
        ],
        [
         "1553",
         "C016780",
         "654",
         "BMG_GN182936",
         null
        ],
        [
         "1554",
         "C016780",
         "655",
         "BMG_GN183000",
         null
        ],
        [
         "1555",
         "C016780",
         "673",
         "BMG_GN183221",
         null
        ],
        [
         "1556",
         "C016780",
         "773",
         "BMG_GN185167",
         null
        ],
        [
         "1557",
         "C016780",
         "774",
         "BMG_GN185174",
         null
        ],
        [
         "1558",
         "C016780",
         "775",
         "BMG_GN185180",
         null
        ],
        [
         "1559",
         "C016780",
         "8912",
         "BMG_GN187961",
         null
        ],
        [
         "1560",
         "C016780",
         "8911",
         "BMG_GN187960",
         null
        ],
        [
         "1561",
         "C016780",
         "781",
         "BMG_GN185243",
         null
        ],
        [
         "1562",
         "C016780",
         "10368",
         "BMG_GN012453",
         null
        ],
        [
         "1563",
         "C016780",
         "59285",
         "BMG_GN180495",
         null
        ],
        [
         "1564",
         "C016780",
         "59283",
         "BMG_GN180493",
         null
        ],
        [
         "1565",
         "C016780",
         "23261",
         "BMG_GN167684",
         null
        ],
        [
         "1566",
         "C016780",
         "8030",
         "BMG_GN186059",
         null
        ],
        [
         "1567",
         "C016780",
         "994",
         "BMG_GN189372",
         null
        ],
        [
         "1568",
         "C016780",
         "1002",
         "BMG_GN002649",
         null
        ],
        [
         "1569",
         "C016780",
         "1056",
         "BMG_GN018751",
         null
        ],
        [
         "1570",
         "C016780",
         "4261",
         "BMG_GN175672",
         null
        ],
        [
         "1571",
         "C016780",
         "284451",
         "BMG_GN170241",
         null
        ],
        [
         "1572",
         "C016780",
         "23562",
         "BMG_GN167935",
         null
        ],
        [
         "1573",
         "C016780",
         "80781",
         "BMG_GN186161",
         null
        ],
        [
         "1574",
         "C016780",
         "85301",
         "BMG_GN187520",
         null
        ],
        [
         "1575",
         "C016780",
         "1398",
         "BMG_GN164718",
         null
        ],
        [
         "1576",
         "C016780",
         "23373",
         "BMG_GN167779",
         null
        ],
        [
         "1577",
         "C016780",
         "1454",
         "BMG_GN165022",
         null
        ],
        [
         "1578",
         "C016780",
         "1487",
         "BMG_GN165261",
         null
        ],
        [
         "1579",
         "C016780",
         "1488",
         "BMG_GN165269",
         null
        ],
        [
         "1580",
         "C016780",
         "1496",
         "BMG_GN165315",
         null
        ],
        [
         "1581",
         "C016780",
         "8453",
         "BMG_GN187161",
         null
        ]
       ],
       "shape": {
        "columns": 4,
        "rows": 42261
       }
      },
      "text/html": [
       "<div>\n",
       "<style scoped>\n",
       "    .dataframe tbody tr th:only-of-type {\n",
       "        vertical-align: middle;\n",
       "    }\n",
       "\n",
       "    .dataframe tbody tr th {\n",
       "        vertical-align: top;\n",
       "    }\n",
       "\n",
       "    .dataframe thead th {\n",
       "        text-align: right;\n",
       "    }\n",
       "</style>\n",
       "<table border=\"1\" class=\"dataframe\">\n",
       "  <thead>\n",
       "    <tr style=\"text-align: right;\">\n",
       "      <th></th>\n",
       "      <th>ChemicalID</th>\n",
       "      <th>GeneID</th>\n",
       "      <th>To_ID</th>\n",
       "      <th>From_ID</th>\n",
       "    </tr>\n",
       "  </thead>\n",
       "  <tbody>\n",
       "    <tr>\n",
       "      <th>21</th>\n",
       "      <td>C004822</td>\n",
       "      <td>2052</td>\n",
       "      <td>BMG_GN166788</td>\n",
       "      <td>NaN</td>\n",
       "    </tr>\n",
       "    <tr>\n",
       "      <th>121</th>\n",
       "      <td>C013567</td>\n",
       "      <td>1565</td>\n",
       "      <td>BMG_GN165671</td>\n",
       "      <td>NaN</td>\n",
       "    </tr>\n",
       "    <tr>\n",
       "      <th>127</th>\n",
       "      <td>C065719</td>\n",
       "      <td>1559</td>\n",
       "      <td>BMG_GN165667</td>\n",
       "      <td>NaN</td>\n",
       "    </tr>\n",
       "    <tr>\n",
       "      <th>575</th>\n",
       "      <td>C037530</td>\n",
       "      <td>80045</td>\n",
       "      <td>BMG_GN185940</td>\n",
       "      <td>NaN</td>\n",
       "    </tr>\n",
       "    <tr>\n",
       "      <th>576</th>\n",
       "      <td>C037530</td>\n",
       "      <td>4009</td>\n",
       "      <td>BMG_GN174830</td>\n",
       "      <td>NaN</td>\n",
       "    </tr>\n",
       "    <tr>\n",
       "      <th>...</th>\n",
       "      <td>...</td>\n",
       "      <td>...</td>\n",
       "      <td>...</td>\n",
       "      <td>...</td>\n",
       "    </tr>\n",
       "    <tr>\n",
       "      <th>2886738</th>\n",
       "      <td>C017803</td>\n",
       "      <td>210</td>\n",
       "      <td>BMG_GN166841</td>\n",
       "      <td>BMG_EP1157</td>\n",
       "    </tr>\n",
       "    <tr>\n",
       "      <th>2886853</th>\n",
       "      <td>C017803</td>\n",
       "      <td>3077</td>\n",
       "      <td>BMG_GN171500</td>\n",
       "      <td>BMG_EP1157</td>\n",
       "    </tr>\n",
       "    <tr>\n",
       "      <th>2887176</th>\n",
       "      <td>C017803</td>\n",
       "      <td>7421</td>\n",
       "      <td>BMG_GN184896</td>\n",
       "      <td>BMG_EP1157</td>\n",
       "    </tr>\n",
       "    <tr>\n",
       "      <th>2887282</th>\n",
       "      <td>D019287</td>\n",
       "      <td>540</td>\n",
       "      <td>BMG_GN177975</td>\n",
       "      <td>NaN</td>\n",
       "    </tr>\n",
       "    <tr>\n",
       "      <th>2889036</th>\n",
       "      <td>D009353</td>\n",
       "      <td>3265</td>\n",
       "      <td>BMG_GN171826</td>\n",
       "      <td>NaN</td>\n",
       "    </tr>\n",
       "  </tbody>\n",
       "</table>\n",
       "<p>42261 rows × 4 columns</p>\n",
       "</div>"
      ],
      "text/plain": [
       "        ChemicalID GeneID         To_ID     From_ID\n",
       "21         C004822   2052  BMG_GN166788         NaN\n",
       "121        C013567   1565  BMG_GN165671         NaN\n",
       "127        C065719   1559  BMG_GN165667         NaN\n",
       "575        C037530  80045  BMG_GN185940         NaN\n",
       "576        C037530   4009  BMG_GN174830         NaN\n",
       "...            ...    ...           ...         ...\n",
       "2886738    C017803    210  BMG_GN166841  BMG_EP1157\n",
       "2886853    C017803   3077  BMG_GN171500  BMG_EP1157\n",
       "2887176    C017803   7421  BMG_GN184896  BMG_EP1157\n",
       "2887282    D019287    540  BMG_GN177975         NaN\n",
       "2889036    D009353   3265  BMG_GN171826         NaN\n",
       "\n",
       "[42261 rows x 4 columns]"
      ]
     },
     "execution_count": 6,
     "metadata": {},
     "output_type": "execute_result"
    }
   ],
   "source": [
    "mesh_individual = biomedgraphica_exposure[['MeSH_ID', 'BioMedGraphica_ID']]\n",
    "mesh_individual.dropna(subset=['MeSH_ID'], inplace=True)\n",
    "mesh_individual = mesh_individual.assign(MeSH_ID=mesh_individual['MeSH_ID'].str.split(';')).explode('MeSH_ID')\n",
    "\n",
    "mesh_to_individual = mesh_individual.groupby('MeSH_ID')['BioMedGraphica_ID'].apply(lambda x: ';'.join(x.dropna().unique())).to_dict()\n",
    "\n",
    "ctd_human['From_ID'] = ctd_human['ChemicalID'].map(mesh_to_individual)\n",
    "ctd_human"
   ]
  },
  {
   "cell_type": "code",
   "execution_count": 7,
   "metadata": {},
   "outputs": [
    {
     "name": "stderr",
     "output_type": "stream",
     "text": [
      "C:\\Users\\shunn\\AppData\\Local\\Temp\\ipykernel_33276\\115790084.py:2: SettingWithCopyWarning: \n",
      "A value is trying to be set on a copy of a slice from a DataFrame\n",
      "\n",
      "See the caveats in the documentation: https://pandas.pydata.org/pandas-docs/stable/user_guide/indexing.html#returning-a-view-versus-a-copy\n",
      "  exposure_gene.dropna(subset=['From_ID'], inplace=True)\n",
      "C:\\Users\\shunn\\AppData\\Local\\Temp\\ipykernel_33276\\115790084.py:3: SettingWithCopyWarning: \n",
      "A value is trying to be set on a copy of a slice from a DataFrame\n",
      "\n",
      "See the caveats in the documentation: https://pandas.pydata.org/pandas-docs/stable/user_guide/indexing.html#returning-a-view-versus-a-copy\n",
      "  exposure_gene.dropna(subset=['To_ID'], inplace=True)\n"
     ]
    },
    {
     "data": {
      "application/vnd.microsoft.datawrangler.viewer.v0+json": {
       "columns": [
        {
         "name": "index",
         "rawType": "int64",
         "type": "integer"
        },
        {
         "name": "From_ID",
         "rawType": "object",
         "type": "string"
        },
        {
         "name": "To_ID",
         "rawType": "object",
         "type": "string"
        }
       ],
       "conversionMethod": "pd.DataFrame",
       "ref": "d4c8f9c7-ae5c-46f2-a790-ba3fcc34a540",
       "rows": [
        [
         "5175",
         "BMG_EP0373",
         "BMG_GN177806"
        ],
        [
         "22017",
         "BMG_EP0406",
         "BMG_GN166788"
        ],
        [
         "22122",
         "BMG_EP0406",
         "BMG_GN171246"
        ],
        [
         "22127",
         "BMG_EP0406",
         "BMG_GN171253"
        ],
        [
         "22156",
         "BMG_EP0406",
         "BMG_GN171766"
        ],
        [
         "22799",
         "BMG_EP0406",
         "BMG_GN184970"
        ],
        [
         "29290",
         "BMG_EP0515",
         "BMG_GN177700"
        ],
        [
         "29291",
         "BMG_EP0515",
         "BMG_GN173196"
        ],
        [
         "29292",
         "BMG_EP0515",
         "BMG_GN187961"
        ],
        [
         "29293",
         "BMG_EP0515",
         "BMG_GN179148"
        ],
        [
         "29295",
         "BMG_EP0515",
         "BMG_GN180015"
        ],
        [
         "29296",
         "BMG_EP0515",
         "BMG_GN188401"
        ],
        [
         "29298",
         "BMG_EP0515",
         "BMG_GN009442"
        ],
        [
         "29299",
         "BMG_EP0515",
         "BMG_GN182325"
        ],
        [
         "29305",
         "BMG_EP0515",
         "BMG_GN171376"
        ],
        [
         "29312",
         "BMG_EP0515",
         "BMG_GN029912"
        ],
        [
         "29317",
         "BMG_EP0515",
         "BMG_GN180163"
        ],
        [
         "29319",
         "BMG_EP0515",
         "BMG_GN165347"
        ],
        [
         "29321",
         "BMG_EP0515",
         "BMG_GN166703"
        ],
        [
         "29322",
         "BMG_EP0515",
         "BMG_GN165996"
        ],
        [
         "29331",
         "BMG_EP0515",
         "BMG_GN172141"
        ],
        [
         "29333",
         "BMG_EP0515",
         "BMG_GN176547"
        ],
        [
         "29337",
         "BMG_EP0515",
         "BMG_GN176709"
        ],
        [
         "29345",
         "BMG_EP0515",
         "BMG_GN186501"
        ],
        [
         "29348",
         "BMG_EP0515",
         "BMG_GN188561"
        ],
        [
         "29356",
         "BMG_EP0515",
         "BMG_GN185953"
        ],
        [
         "35620",
         "BMG_EP0233",
         "BMG_GN165615"
        ],
        [
         "35644",
         "BMG_EP0233",
         "BMG_GN171246"
        ],
        [
         "35645",
         "BMG_EP0233",
         "BMG_GN171251"
        ],
        [
         "57190",
         "BMG_EP0053",
         "BMG_GN165665"
        ],
        [
         "57194",
         "BMG_EP0053",
         "BMG_GN165671"
        ],
        [
         "60443",
         "BMG_EP0516",
         "BMG_GN171766"
        ],
        [
         "69507",
         "BMG_EP0245",
         "BMG_GN165663"
        ],
        [
         "70084",
         "BMG_EP0031",
         "BMG_GN180671"
        ],
        [
         "70486",
         "BMG_EP0031",
         "BMG_GN169975"
        ],
        [
         "72034",
         "BMG_EP0031",
         "BMG_GN171733"
        ],
        [
         "72601",
         "BMG_EP0031",
         "BMG_GN026618"
        ],
        [
         "72888",
         "BMG_EP0031",
         "BMG_GN180027"
        ],
        [
         "74280",
         "BMG_EP0031",
         "BMG_GN012708"
        ],
        [
         "74734",
         "BMG_EP0031",
         "BMG_GN167455"
        ],
        [
         "80276",
         "BMG_EP0528",
         "BMG_GN165663"
        ],
        [
         "80280",
         "BMG_EP0528",
         "BMG_GN177806"
        ],
        [
         "83110",
         "BMG_EP0202",
         "BMG_GN165663"
        ],
        [
         "83704",
         "BMG_EP0202",
         "BMG_GN177806"
        ],
        [
         "88608",
         "BMG_EP0536",
         "BMG_GN165775"
        ],
        [
         "90473",
         "BMG_EP0212",
         "BMG_GN171766"
        ],
        [
         "93428",
         "BMG_EP0034",
         "BMG_GN171246"
        ],
        [
         "97072",
         "BMG_EP0310",
         "BMG_GN167552"
        ],
        [
         "98902",
         "BMG_EP0004",
         "BMG_GN173857"
        ],
        [
         "98924",
         "BMG_EP0004",
         "BMG_GN169694"
        ]
       ],
       "shape": {
        "columns": 2,
        "rows": 28982
       }
      },
      "text/html": [
       "<div>\n",
       "<style scoped>\n",
       "    .dataframe tbody tr th:only-of-type {\n",
       "        vertical-align: middle;\n",
       "    }\n",
       "\n",
       "    .dataframe tbody tr th {\n",
       "        vertical-align: top;\n",
       "    }\n",
       "\n",
       "    .dataframe thead th {\n",
       "        text-align: right;\n",
       "    }\n",
       "</style>\n",
       "<table border=\"1\" class=\"dataframe\">\n",
       "  <thead>\n",
       "    <tr style=\"text-align: right;\">\n",
       "      <th></th>\n",
       "      <th>From_ID</th>\n",
       "      <th>To_ID</th>\n",
       "    </tr>\n",
       "  </thead>\n",
       "  <tbody>\n",
       "    <tr>\n",
       "      <th>5175</th>\n",
       "      <td>BMG_EP0373</td>\n",
       "      <td>BMG_GN177806</td>\n",
       "    </tr>\n",
       "    <tr>\n",
       "      <th>22017</th>\n",
       "      <td>BMG_EP0406</td>\n",
       "      <td>BMG_GN166788</td>\n",
       "    </tr>\n",
       "    <tr>\n",
       "      <th>22122</th>\n",
       "      <td>BMG_EP0406</td>\n",
       "      <td>BMG_GN171246</td>\n",
       "    </tr>\n",
       "    <tr>\n",
       "      <th>22127</th>\n",
       "      <td>BMG_EP0406</td>\n",
       "      <td>BMG_GN171253</td>\n",
       "    </tr>\n",
       "    <tr>\n",
       "      <th>22156</th>\n",
       "      <td>BMG_EP0406</td>\n",
       "      <td>BMG_GN171766</td>\n",
       "    </tr>\n",
       "    <tr>\n",
       "      <th>...</th>\n",
       "      <td>...</td>\n",
       "      <td>...</td>\n",
       "    </tr>\n",
       "    <tr>\n",
       "      <th>2883152</th>\n",
       "      <td>BMG_EP0175</td>\n",
       "      <td>BMG_GN183862</td>\n",
       "    </tr>\n",
       "    <tr>\n",
       "      <th>2883343</th>\n",
       "      <td>BMG_EP0175</td>\n",
       "      <td>BMG_GN178353</td>\n",
       "    </tr>\n",
       "    <tr>\n",
       "      <th>2886738</th>\n",
       "      <td>BMG_EP1157</td>\n",
       "      <td>BMG_GN166841</td>\n",
       "    </tr>\n",
       "    <tr>\n",
       "      <th>2886853</th>\n",
       "      <td>BMG_EP1157</td>\n",
       "      <td>BMG_GN171500</td>\n",
       "    </tr>\n",
       "    <tr>\n",
       "      <th>2887176</th>\n",
       "      <td>BMG_EP1157</td>\n",
       "      <td>BMG_GN184896</td>\n",
       "    </tr>\n",
       "  </tbody>\n",
       "</table>\n",
       "<p>28982 rows × 2 columns</p>\n",
       "</div>"
      ],
      "text/plain": [
       "            From_ID         To_ID\n",
       "5175     BMG_EP0373  BMG_GN177806\n",
       "22017    BMG_EP0406  BMG_GN166788\n",
       "22122    BMG_EP0406  BMG_GN171246\n",
       "22127    BMG_EP0406  BMG_GN171253\n",
       "22156    BMG_EP0406  BMG_GN171766\n",
       "...             ...           ...\n",
       "2883152  BMG_EP0175  BMG_GN183862\n",
       "2883343  BMG_EP0175  BMG_GN178353\n",
       "2886738  BMG_EP1157  BMG_GN166841\n",
       "2886853  BMG_EP1157  BMG_GN171500\n",
       "2887176  BMG_EP1157  BMG_GN184896\n",
       "\n",
       "[28982 rows x 2 columns]"
      ]
     },
     "execution_count": 7,
     "metadata": {},
     "output_type": "execute_result"
    }
   ],
   "source": [
    "exposure_gene =  ctd_human[['From_ID', 'To_ID']]\n",
    "exposure_gene.dropna(subset=['From_ID'], inplace=True)\n",
    "exposure_gene.dropna(subset=['To_ID'], inplace=True)\n",
    "exposure_gene"
   ]
  },
  {
   "cell_type": "code",
   "execution_count": 8,
   "metadata": {},
   "outputs": [
    {
     "name": "stderr",
     "output_type": "stream",
     "text": [
      "C:\\Users\\shunn\\AppData\\Local\\Temp\\ipykernel_33276\\880492652.py:1: SettingWithCopyWarning: \n",
      "A value is trying to be set on a copy of a slice from a DataFrame.\n",
      "Try using .loc[row_indexer,col_indexer] = value instead\n",
      "\n",
      "See the caveats in the documentation: https://pandas.pydata.org/pandas-docs/stable/user_guide/indexing.html#returning-a-view-versus-a-copy\n",
      "  exposure_gene['From_ID'] = exposure_gene['From_ID'].str.split(';')\n",
      "C:\\Users\\shunn\\AppData\\Local\\Temp\\ipykernel_33276\\880492652.py:2: SettingWithCopyWarning: \n",
      "A value is trying to be set on a copy of a slice from a DataFrame.\n",
      "Try using .loc[row_indexer,col_indexer] = value instead\n",
      "\n",
      "See the caveats in the documentation: https://pandas.pydata.org/pandas-docs/stable/user_guide/indexing.html#returning-a-view-versus-a-copy\n",
      "  exposure_gene['To_ID'] = exposure_gene['To_ID'].str.split(';')\n"
     ]
    },
    {
     "data": {
      "application/vnd.microsoft.datawrangler.viewer.v0+json": {
       "columns": [
        {
         "name": "index",
         "rawType": "int64",
         "type": "integer"
        },
        {
         "name": "From_ID",
         "rawType": "object",
         "type": "string"
        },
        {
         "name": "To_ID",
         "rawType": "object",
         "type": "string"
        }
       ],
       "conversionMethod": "pd.DataFrame",
       "ref": "b7a73f37-ec37-4ff9-8ad6-f4be6ec7b59a",
       "rows": [
        [
         "5175",
         "BMG_EP0373",
         "BMG_GN177806"
        ],
        [
         "22017",
         "BMG_EP0406",
         "BMG_GN166788"
        ],
        [
         "22122",
         "BMG_EP0406",
         "BMG_GN171246"
        ],
        [
         "22127",
         "BMG_EP0406",
         "BMG_GN171253"
        ],
        [
         "22156",
         "BMG_EP0406",
         "BMG_GN171766"
        ],
        [
         "22799",
         "BMG_EP0406",
         "BMG_GN184970"
        ],
        [
         "29290",
         "BMG_EP0515",
         "BMG_GN177700"
        ],
        [
         "29291",
         "BMG_EP0515",
         "BMG_GN173196"
        ],
        [
         "29292",
         "BMG_EP0515",
         "BMG_GN187961"
        ],
        [
         "29293",
         "BMG_EP0515",
         "BMG_GN179148"
        ],
        [
         "29295",
         "BMG_EP0515",
         "BMG_GN180015"
        ],
        [
         "29296",
         "BMG_EP0515",
         "BMG_GN188401"
        ],
        [
         "29298",
         "BMG_EP0515",
         "BMG_GN009442"
        ],
        [
         "29299",
         "BMG_EP0515",
         "BMG_GN182325"
        ],
        [
         "29305",
         "BMG_EP0515",
         "BMG_GN171376"
        ],
        [
         "29312",
         "BMG_EP0515",
         "BMG_GN029912"
        ],
        [
         "29317",
         "BMG_EP0515",
         "BMG_GN180163"
        ],
        [
         "29319",
         "BMG_EP0515",
         "BMG_GN165347"
        ],
        [
         "29321",
         "BMG_EP0515",
         "BMG_GN166703"
        ],
        [
         "29322",
         "BMG_EP0515",
         "BMG_GN165996"
        ],
        [
         "29331",
         "BMG_EP0515",
         "BMG_GN172141"
        ],
        [
         "29333",
         "BMG_EP0515",
         "BMG_GN176547"
        ],
        [
         "29337",
         "BMG_EP0515",
         "BMG_GN176709"
        ],
        [
         "29345",
         "BMG_EP0515",
         "BMG_GN186501"
        ],
        [
         "29348",
         "BMG_EP0515",
         "BMG_GN188561"
        ],
        [
         "29356",
         "BMG_EP0515",
         "BMG_GN185953"
        ],
        [
         "35620",
         "BMG_EP0233",
         "BMG_GN165615"
        ],
        [
         "35644",
         "BMG_EP0233",
         "BMG_GN171246"
        ],
        [
         "35645",
         "BMG_EP0233",
         "BMG_GN171251"
        ],
        [
         "57190",
         "BMG_EP0053",
         "BMG_GN165665"
        ],
        [
         "57194",
         "BMG_EP0053",
         "BMG_GN165671"
        ],
        [
         "60443",
         "BMG_EP0516",
         "BMG_GN171766"
        ],
        [
         "69507",
         "BMG_EP0245",
         "BMG_GN165663"
        ],
        [
         "70084",
         "BMG_EP0031",
         "BMG_GN180671"
        ],
        [
         "70486",
         "BMG_EP0031",
         "BMG_GN169975"
        ],
        [
         "72034",
         "BMG_EP0031",
         "BMG_GN171733"
        ],
        [
         "72601",
         "BMG_EP0031",
         "BMG_GN026618"
        ],
        [
         "72888",
         "BMG_EP0031",
         "BMG_GN180027"
        ],
        [
         "74280",
         "BMG_EP0031",
         "BMG_GN012708"
        ],
        [
         "74734",
         "BMG_EP0031",
         "BMG_GN167455"
        ],
        [
         "80276",
         "BMG_EP0528",
         "BMG_GN165663"
        ],
        [
         "80280",
         "BMG_EP0528",
         "BMG_GN177806"
        ],
        [
         "83110",
         "BMG_EP0202",
         "BMG_GN165663"
        ],
        [
         "83704",
         "BMG_EP0202",
         "BMG_GN177806"
        ],
        [
         "88608",
         "BMG_EP0536",
         "BMG_GN165775"
        ],
        [
         "90473",
         "BMG_EP0212",
         "BMG_GN171766"
        ],
        [
         "93428",
         "BMG_EP0034",
         "BMG_GN171246"
        ],
        [
         "97072",
         "BMG_EP0310",
         "BMG_GN167552"
        ],
        [
         "98902",
         "BMG_EP0004",
         "BMG_GN173857"
        ],
        [
         "98924",
         "BMG_EP0004",
         "BMG_GN169694"
        ]
       ],
       "shape": {
        "columns": 2,
        "rows": 28982
       }
      },
      "text/html": [
       "<div>\n",
       "<style scoped>\n",
       "    .dataframe tbody tr th:only-of-type {\n",
       "        vertical-align: middle;\n",
       "    }\n",
       "\n",
       "    .dataframe tbody tr th {\n",
       "        vertical-align: top;\n",
       "    }\n",
       "\n",
       "    .dataframe thead th {\n",
       "        text-align: right;\n",
       "    }\n",
       "</style>\n",
       "<table border=\"1\" class=\"dataframe\">\n",
       "  <thead>\n",
       "    <tr style=\"text-align: right;\">\n",
       "      <th></th>\n",
       "      <th>From_ID</th>\n",
       "      <th>To_ID</th>\n",
       "    </tr>\n",
       "  </thead>\n",
       "  <tbody>\n",
       "    <tr>\n",
       "      <th>5175</th>\n",
       "      <td>BMG_EP0373</td>\n",
       "      <td>BMG_GN177806</td>\n",
       "    </tr>\n",
       "    <tr>\n",
       "      <th>22017</th>\n",
       "      <td>BMG_EP0406</td>\n",
       "      <td>BMG_GN166788</td>\n",
       "    </tr>\n",
       "    <tr>\n",
       "      <th>22122</th>\n",
       "      <td>BMG_EP0406</td>\n",
       "      <td>BMG_GN171246</td>\n",
       "    </tr>\n",
       "    <tr>\n",
       "      <th>22127</th>\n",
       "      <td>BMG_EP0406</td>\n",
       "      <td>BMG_GN171253</td>\n",
       "    </tr>\n",
       "    <tr>\n",
       "      <th>22156</th>\n",
       "      <td>BMG_EP0406</td>\n",
       "      <td>BMG_GN171766</td>\n",
       "    </tr>\n",
       "    <tr>\n",
       "      <th>...</th>\n",
       "      <td>...</td>\n",
       "      <td>...</td>\n",
       "    </tr>\n",
       "    <tr>\n",
       "      <th>2883152</th>\n",
       "      <td>BMG_EP0175</td>\n",
       "      <td>BMG_GN183862</td>\n",
       "    </tr>\n",
       "    <tr>\n",
       "      <th>2883343</th>\n",
       "      <td>BMG_EP0175</td>\n",
       "      <td>BMG_GN178353</td>\n",
       "    </tr>\n",
       "    <tr>\n",
       "      <th>2886738</th>\n",
       "      <td>BMG_EP1157</td>\n",
       "      <td>BMG_GN166841</td>\n",
       "    </tr>\n",
       "    <tr>\n",
       "      <th>2886853</th>\n",
       "      <td>BMG_EP1157</td>\n",
       "      <td>BMG_GN171500</td>\n",
       "    </tr>\n",
       "    <tr>\n",
       "      <th>2887176</th>\n",
       "      <td>BMG_EP1157</td>\n",
       "      <td>BMG_GN184896</td>\n",
       "    </tr>\n",
       "  </tbody>\n",
       "</table>\n",
       "<p>28982 rows × 2 columns</p>\n",
       "</div>"
      ],
      "text/plain": [
       "            From_ID         To_ID\n",
       "5175     BMG_EP0373  BMG_GN177806\n",
       "22017    BMG_EP0406  BMG_GN166788\n",
       "22122    BMG_EP0406  BMG_GN171246\n",
       "22127    BMG_EP0406  BMG_GN171253\n",
       "22156    BMG_EP0406  BMG_GN171766\n",
       "...             ...           ...\n",
       "2883152  BMG_EP0175  BMG_GN183862\n",
       "2883343  BMG_EP0175  BMG_GN178353\n",
       "2886738  BMG_EP1157  BMG_GN166841\n",
       "2886853  BMG_EP1157  BMG_GN171500\n",
       "2887176  BMG_EP1157  BMG_GN184896\n",
       "\n",
       "[28982 rows x 2 columns]"
      ]
     },
     "execution_count": 8,
     "metadata": {},
     "output_type": "execute_result"
    }
   ],
   "source": [
    "exposure_gene['From_ID'] = exposure_gene['From_ID'].str.split(';')\n",
    "exposure_gene['To_ID'] = exposure_gene['To_ID'].str.split(';')\n",
    "\n",
    "exposure_gene = exposure_gene.explode('From_ID')\n",
    "exposure_gene = exposure_gene.explode('To_ID')\n",
    "\n",
    "exposure_gene.drop_duplicates(inplace=True)\n",
    "exposure_gene"
   ]
  },
  {
   "cell_type": "markdown",
   "metadata": {},
   "source": [
    "### Exposure-Gene Relation"
   ]
  },
  {
   "cell_type": "code",
   "execution_count": 9,
   "metadata": {},
   "outputs": [
    {
     "data": {
      "application/vnd.microsoft.datawrangler.viewer.v0+json": {
       "columns": [
        {
         "name": "index",
         "rawType": "int64",
         "type": "integer"
        },
        {
         "name": "BioMedGraphica_ID",
         "rawType": "object",
         "type": "string"
        },
        {
         "name": "From_ID",
         "rawType": "object",
         "type": "string"
        },
        {
         "name": "To_ID",
         "rawType": "object",
         "type": "string"
        },
        {
         "name": "Source",
         "rawType": "object",
         "type": "string"
        },
        {
         "name": "Type",
         "rawType": "object",
         "type": "string"
        }
       ],
       "conversionMethod": "pd.DataFrame",
       "ref": "684cd747-3f1d-465c-9a54-dfc688113ff1",
       "rows": [
        [
         "5175",
         "BMG_ED_EPGN00001",
         "BMG_EP0373",
         "BMG_GN177806",
         "CTD",
         "Exposure-Gene"
        ],
        [
         "22017",
         "BMG_ED_EPGN00002",
         "BMG_EP0406",
         "BMG_GN166788",
         "CTD",
         "Exposure-Gene"
        ],
        [
         "22122",
         "BMG_ED_EPGN00003",
         "BMG_EP0406",
         "BMG_GN171246",
         "CTD",
         "Exposure-Gene"
        ],
        [
         "22127",
         "BMG_ED_EPGN00004",
         "BMG_EP0406",
         "BMG_GN171253",
         "CTD",
         "Exposure-Gene"
        ],
        [
         "22156",
         "BMG_ED_EPGN00005",
         "BMG_EP0406",
         "BMG_GN171766",
         "CTD",
         "Exposure-Gene"
        ],
        [
         "22799",
         "BMG_ED_EPGN00006",
         "BMG_EP0406",
         "BMG_GN184970",
         "CTD",
         "Exposure-Gene"
        ],
        [
         "29290",
         "BMG_ED_EPGN00007",
         "BMG_EP0515",
         "BMG_GN177700",
         "CTD",
         "Exposure-Gene"
        ],
        [
         "29291",
         "BMG_ED_EPGN00008",
         "BMG_EP0515",
         "BMG_GN173196",
         "CTD",
         "Exposure-Gene"
        ],
        [
         "29292",
         "BMG_ED_EPGN00009",
         "BMG_EP0515",
         "BMG_GN187961",
         "CTD",
         "Exposure-Gene"
        ],
        [
         "29293",
         "BMG_ED_EPGN00010",
         "BMG_EP0515",
         "BMG_GN179148",
         "CTD",
         "Exposure-Gene"
        ],
        [
         "29295",
         "BMG_ED_EPGN00011",
         "BMG_EP0515",
         "BMG_GN180015",
         "CTD",
         "Exposure-Gene"
        ],
        [
         "29296",
         "BMG_ED_EPGN00012",
         "BMG_EP0515",
         "BMG_GN188401",
         "CTD",
         "Exposure-Gene"
        ],
        [
         "29298",
         "BMG_ED_EPGN00013",
         "BMG_EP0515",
         "BMG_GN009442",
         "CTD",
         "Exposure-Gene"
        ],
        [
         "29299",
         "BMG_ED_EPGN00014",
         "BMG_EP0515",
         "BMG_GN182325",
         "CTD",
         "Exposure-Gene"
        ],
        [
         "29305",
         "BMG_ED_EPGN00015",
         "BMG_EP0515",
         "BMG_GN171376",
         "CTD",
         "Exposure-Gene"
        ],
        [
         "29312",
         "BMG_ED_EPGN00016",
         "BMG_EP0515",
         "BMG_GN029912",
         "CTD",
         "Exposure-Gene"
        ],
        [
         "29317",
         "BMG_ED_EPGN00017",
         "BMG_EP0515",
         "BMG_GN180163",
         "CTD",
         "Exposure-Gene"
        ],
        [
         "29319",
         "BMG_ED_EPGN00018",
         "BMG_EP0515",
         "BMG_GN165347",
         "CTD",
         "Exposure-Gene"
        ],
        [
         "29321",
         "BMG_ED_EPGN00019",
         "BMG_EP0515",
         "BMG_GN166703",
         "CTD",
         "Exposure-Gene"
        ],
        [
         "29322",
         "BMG_ED_EPGN00020",
         "BMG_EP0515",
         "BMG_GN165996",
         "CTD",
         "Exposure-Gene"
        ],
        [
         "29331",
         "BMG_ED_EPGN00021",
         "BMG_EP0515",
         "BMG_GN172141",
         "CTD",
         "Exposure-Gene"
        ],
        [
         "29333",
         "BMG_ED_EPGN00022",
         "BMG_EP0515",
         "BMG_GN176547",
         "CTD",
         "Exposure-Gene"
        ],
        [
         "29337",
         "BMG_ED_EPGN00023",
         "BMG_EP0515",
         "BMG_GN176709",
         "CTD",
         "Exposure-Gene"
        ],
        [
         "29345",
         "BMG_ED_EPGN00024",
         "BMG_EP0515",
         "BMG_GN186501",
         "CTD",
         "Exposure-Gene"
        ],
        [
         "29348",
         "BMG_ED_EPGN00025",
         "BMG_EP0515",
         "BMG_GN188561",
         "CTD",
         "Exposure-Gene"
        ],
        [
         "29356",
         "BMG_ED_EPGN00026",
         "BMG_EP0515",
         "BMG_GN185953",
         "CTD",
         "Exposure-Gene"
        ],
        [
         "35620",
         "BMG_ED_EPGN00027",
         "BMG_EP0233",
         "BMG_GN165615",
         "CTD",
         "Exposure-Gene"
        ],
        [
         "35644",
         "BMG_ED_EPGN00028",
         "BMG_EP0233",
         "BMG_GN171246",
         "CTD",
         "Exposure-Gene"
        ],
        [
         "35645",
         "BMG_ED_EPGN00029",
         "BMG_EP0233",
         "BMG_GN171251",
         "CTD",
         "Exposure-Gene"
        ],
        [
         "57190",
         "BMG_ED_EPGN00030",
         "BMG_EP0053",
         "BMG_GN165665",
         "CTD",
         "Exposure-Gene"
        ],
        [
         "57194",
         "BMG_ED_EPGN00031",
         "BMG_EP0053",
         "BMG_GN165671",
         "CTD",
         "Exposure-Gene"
        ],
        [
         "60443",
         "BMG_ED_EPGN00032",
         "BMG_EP0516",
         "BMG_GN171766",
         "CTD",
         "Exposure-Gene"
        ],
        [
         "69507",
         "BMG_ED_EPGN00033",
         "BMG_EP0245",
         "BMG_GN165663",
         "CTD",
         "Exposure-Gene"
        ],
        [
         "70084",
         "BMG_ED_EPGN00034",
         "BMG_EP0031",
         "BMG_GN180671",
         "CTD",
         "Exposure-Gene"
        ],
        [
         "70486",
         "BMG_ED_EPGN00035",
         "BMG_EP0031",
         "BMG_GN169975",
         "CTD",
         "Exposure-Gene"
        ],
        [
         "72034",
         "BMG_ED_EPGN00036",
         "BMG_EP0031",
         "BMG_GN171733",
         "CTD",
         "Exposure-Gene"
        ],
        [
         "72601",
         "BMG_ED_EPGN00037",
         "BMG_EP0031",
         "BMG_GN026618",
         "CTD",
         "Exposure-Gene"
        ],
        [
         "72888",
         "BMG_ED_EPGN00038",
         "BMG_EP0031",
         "BMG_GN180027",
         "CTD",
         "Exposure-Gene"
        ],
        [
         "74280",
         "BMG_ED_EPGN00039",
         "BMG_EP0031",
         "BMG_GN012708",
         "CTD",
         "Exposure-Gene"
        ],
        [
         "74734",
         "BMG_ED_EPGN00040",
         "BMG_EP0031",
         "BMG_GN167455",
         "CTD",
         "Exposure-Gene"
        ],
        [
         "80276",
         "BMG_ED_EPGN00041",
         "BMG_EP0528",
         "BMG_GN165663",
         "CTD",
         "Exposure-Gene"
        ],
        [
         "80280",
         "BMG_ED_EPGN00042",
         "BMG_EP0528",
         "BMG_GN177806",
         "CTD",
         "Exposure-Gene"
        ],
        [
         "83110",
         "BMG_ED_EPGN00043",
         "BMG_EP0202",
         "BMG_GN165663",
         "CTD",
         "Exposure-Gene"
        ],
        [
         "83704",
         "BMG_ED_EPGN00044",
         "BMG_EP0202",
         "BMG_GN177806",
         "CTD",
         "Exposure-Gene"
        ],
        [
         "88608",
         "BMG_ED_EPGN00045",
         "BMG_EP0536",
         "BMG_GN165775",
         "CTD",
         "Exposure-Gene"
        ],
        [
         "90473",
         "BMG_ED_EPGN00046",
         "BMG_EP0212",
         "BMG_GN171766",
         "CTD",
         "Exposure-Gene"
        ],
        [
         "93428",
         "BMG_ED_EPGN00047",
         "BMG_EP0034",
         "BMG_GN171246",
         "CTD",
         "Exposure-Gene"
        ],
        [
         "97072",
         "BMG_ED_EPGN00048",
         "BMG_EP0310",
         "BMG_GN167552",
         "CTD",
         "Exposure-Gene"
        ],
        [
         "98902",
         "BMG_ED_EPGN00049",
         "BMG_EP0004",
         "BMG_GN173857",
         "CTD",
         "Exposure-Gene"
        ],
        [
         "98924",
         "BMG_ED_EPGN00050",
         "BMG_EP0004",
         "BMG_GN169694",
         "CTD",
         "Exposure-Gene"
        ]
       ],
       "shape": {
        "columns": 5,
        "rows": 28982
       }
      },
      "text/html": [
       "<div>\n",
       "<style scoped>\n",
       "    .dataframe tbody tr th:only-of-type {\n",
       "        vertical-align: middle;\n",
       "    }\n",
       "\n",
       "    .dataframe tbody tr th {\n",
       "        vertical-align: top;\n",
       "    }\n",
       "\n",
       "    .dataframe thead th {\n",
       "        text-align: right;\n",
       "    }\n",
       "</style>\n",
       "<table border=\"1\" class=\"dataframe\">\n",
       "  <thead>\n",
       "    <tr style=\"text-align: right;\">\n",
       "      <th></th>\n",
       "      <th>BioMedGraphica_ID</th>\n",
       "      <th>From_ID</th>\n",
       "      <th>To_ID</th>\n",
       "      <th>Source</th>\n",
       "      <th>Type</th>\n",
       "    </tr>\n",
       "  </thead>\n",
       "  <tbody>\n",
       "    <tr>\n",
       "      <th>5175</th>\n",
       "      <td>BMG_ED_EPGN00001</td>\n",
       "      <td>BMG_EP0373</td>\n",
       "      <td>BMG_GN177806</td>\n",
       "      <td>CTD</td>\n",
       "      <td>Exposure-Gene</td>\n",
       "    </tr>\n",
       "    <tr>\n",
       "      <th>22017</th>\n",
       "      <td>BMG_ED_EPGN00002</td>\n",
       "      <td>BMG_EP0406</td>\n",
       "      <td>BMG_GN166788</td>\n",
       "      <td>CTD</td>\n",
       "      <td>Exposure-Gene</td>\n",
       "    </tr>\n",
       "    <tr>\n",
       "      <th>22122</th>\n",
       "      <td>BMG_ED_EPGN00003</td>\n",
       "      <td>BMG_EP0406</td>\n",
       "      <td>BMG_GN171246</td>\n",
       "      <td>CTD</td>\n",
       "      <td>Exposure-Gene</td>\n",
       "    </tr>\n",
       "    <tr>\n",
       "      <th>22127</th>\n",
       "      <td>BMG_ED_EPGN00004</td>\n",
       "      <td>BMG_EP0406</td>\n",
       "      <td>BMG_GN171253</td>\n",
       "      <td>CTD</td>\n",
       "      <td>Exposure-Gene</td>\n",
       "    </tr>\n",
       "    <tr>\n",
       "      <th>22156</th>\n",
       "      <td>BMG_ED_EPGN00005</td>\n",
       "      <td>BMG_EP0406</td>\n",
       "      <td>BMG_GN171766</td>\n",
       "      <td>CTD</td>\n",
       "      <td>Exposure-Gene</td>\n",
       "    </tr>\n",
       "    <tr>\n",
       "      <th>...</th>\n",
       "      <td>...</td>\n",
       "      <td>...</td>\n",
       "      <td>...</td>\n",
       "      <td>...</td>\n",
       "      <td>...</td>\n",
       "    </tr>\n",
       "    <tr>\n",
       "      <th>2883152</th>\n",
       "      <td>BMG_ED_EPGN28978</td>\n",
       "      <td>BMG_EP0175</td>\n",
       "      <td>BMG_GN183862</td>\n",
       "      <td>CTD</td>\n",
       "      <td>Exposure-Gene</td>\n",
       "    </tr>\n",
       "    <tr>\n",
       "      <th>2883343</th>\n",
       "      <td>BMG_ED_EPGN28979</td>\n",
       "      <td>BMG_EP0175</td>\n",
       "      <td>BMG_GN178353</td>\n",
       "      <td>CTD</td>\n",
       "      <td>Exposure-Gene</td>\n",
       "    </tr>\n",
       "    <tr>\n",
       "      <th>2886738</th>\n",
       "      <td>BMG_ED_EPGN28980</td>\n",
       "      <td>BMG_EP1157</td>\n",
       "      <td>BMG_GN166841</td>\n",
       "      <td>CTD</td>\n",
       "      <td>Exposure-Gene</td>\n",
       "    </tr>\n",
       "    <tr>\n",
       "      <th>2886853</th>\n",
       "      <td>BMG_ED_EPGN28981</td>\n",
       "      <td>BMG_EP1157</td>\n",
       "      <td>BMG_GN171500</td>\n",
       "      <td>CTD</td>\n",
       "      <td>Exposure-Gene</td>\n",
       "    </tr>\n",
       "    <tr>\n",
       "      <th>2887176</th>\n",
       "      <td>BMG_ED_EPGN28982</td>\n",
       "      <td>BMG_EP1157</td>\n",
       "      <td>BMG_GN184896</td>\n",
       "      <td>CTD</td>\n",
       "      <td>Exposure-Gene</td>\n",
       "    </tr>\n",
       "  </tbody>\n",
       "</table>\n",
       "<p>28982 rows × 5 columns</p>\n",
       "</div>"
      ],
      "text/plain": [
       "        BioMedGraphica_ID     From_ID         To_ID Source           Type\n",
       "5175     BMG_ED_EPGN00001  BMG_EP0373  BMG_GN177806    CTD  Exposure-Gene\n",
       "22017    BMG_ED_EPGN00002  BMG_EP0406  BMG_GN166788    CTD  Exposure-Gene\n",
       "22122    BMG_ED_EPGN00003  BMG_EP0406  BMG_GN171246    CTD  Exposure-Gene\n",
       "22127    BMG_ED_EPGN00004  BMG_EP0406  BMG_GN171253    CTD  Exposure-Gene\n",
       "22156    BMG_ED_EPGN00005  BMG_EP0406  BMG_GN171766    CTD  Exposure-Gene\n",
       "...                   ...         ...           ...    ...            ...\n",
       "2883152  BMG_ED_EPGN28978  BMG_EP0175  BMG_GN183862    CTD  Exposure-Gene\n",
       "2883343  BMG_ED_EPGN28979  BMG_EP0175  BMG_GN178353    CTD  Exposure-Gene\n",
       "2886738  BMG_ED_EPGN28980  BMG_EP1157  BMG_GN166841    CTD  Exposure-Gene\n",
       "2886853  BMG_ED_EPGN28981  BMG_EP1157  BMG_GN171500    CTD  Exposure-Gene\n",
       "2887176  BMG_ED_EPGN28982  BMG_EP1157  BMG_GN184896    CTD  Exposure-Gene\n",
       "\n",
       "[28982 rows x 5 columns]"
      ]
     },
     "execution_count": 9,
     "metadata": {},
     "output_type": "execute_result"
    }
   ],
   "source": [
    "exposure_gene['Source'] = 'CTD'\n",
    "exposure_gene['Type'] = 'Exposure-Gene'\n",
    "\n",
    "max_length = len(str(len(exposure_gene)))\n",
    "exposure_gene['BioMedGraphica_ID'] = ['BMG_ED_EPGN' + str(i).zfill(max_length) for i in range(1, len(exposure_gene) + 1)]\n",
    "columns = ['BioMedGraphica_ID'] + [col for col in exposure_gene.columns if col != 'BioMedGraphica_ID']  # re-order columns\n",
    "exposure_gene = exposure_gene[columns]\n",
    "exposure_gene"
   ]
  },
  {
   "cell_type": "code",
   "execution_count": 10,
   "metadata": {},
   "outputs": [
    {
     "name": "stdout",
     "output_type": "stream",
     "text": [
      "Data has been saved to D:\\RA\\BMG\\BioMedGraphica\\Relation\\Exposure-Gene\\BioMedGraphica_Exposure_Gene.csv\n"
     ]
    }
   ],
   "source": [
    "import os\n",
    "from pathlib import Path\n",
    "\n",
    "# get the current working directory\n",
    "current_working_dir = Path(os.getcwd()).resolve()\n",
    "\n",
    "# get the output directory\n",
    "grandparent_dir = current_working_dir.parent.parent.parent\n",
    "\n",
    "target_folder = grandparent_dir / 'BioMedGraphica' / 'Relation' / 'Exposure-Gene'\n",
    "if not target_folder.exists():\n",
    "    target_folder.mkdir(parents=True)\n",
    "    print(f\"Folder {target_folder} has been created.\")\n",
    "\n",
    "output_file_path = target_folder / 'BioMedGraphica_Exposure_Gene.csv'\n",
    "exposure_gene.to_csv(output_file_path, index=False)\n",
    "print(f\"Data has been saved to {output_file_path}\")"
   ]
  }
 ],
 "metadata": {
  "kernelspec": {
   "display_name": "base",
   "language": "python",
   "name": "python3"
  },
  "language_info": {
   "codemirror_mode": {
    "name": "ipython",
    "version": 3
   },
   "file_extension": ".py",
   "mimetype": "text/x-python",
   "name": "python",
   "nbconvert_exporter": "python",
   "pygments_lexer": "ipython3",
   "version": "3.9.19"
  }
 },
 "nbformat": 4,
 "nbformat_minor": 2
}
