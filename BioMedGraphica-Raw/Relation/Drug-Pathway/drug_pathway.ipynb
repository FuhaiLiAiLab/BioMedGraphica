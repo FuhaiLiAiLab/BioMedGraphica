{
 "cells": [
  {
   "cell_type": "markdown",
   "metadata": {},
   "source": [
    "### KEGG"
   ]
  },
  {
   "cell_type": "code",
   "execution_count": 2,
   "metadata": {},
   "outputs": [
    {
     "data": {
      "application/vnd.microsoft.datawrangler.viewer.v0+json": {
       "columns": [
        {
         "name": "index",
         "rawType": "int64",
         "type": "integer"
        },
        {
         "name": "Unnamed: 0",
         "rawType": "int64",
         "type": "integer"
        },
        {
         "name": "source_type",
         "rawType": "object",
         "type": "string"
        },
        {
         "name": "source",
         "rawType": "object",
         "type": "string"
        },
        {
         "name": "target_type",
         "rawType": "object",
         "type": "string"
        },
        {
         "name": "target",
         "rawType": "object",
         "type": "string"
        },
        {
         "name": "direction",
         "rawType": "object",
         "type": "string"
        },
        {
         "name": "edge_type",
         "rawType": "object",
         "type": "string"
        },
        {
         "name": "pathway_name",
         "rawType": "object",
         "type": "string"
        },
        {
         "name": "pathway_id",
         "rawType": "object",
         "type": "string"
        }
       ],
       "conversionMethod": "pd.DataFrame",
       "ref": "45481c80-4c1e-439a-90ab-9ef016146304",
       "rows": [
        [
         "0",
         "2",
         "KEGGCOMP",
         "C00022",
         "SYMBOL",
         "LDHAL6A",
         "directed",
         "Process",
         "Glycolysis / Gluconeogenesis",
         "hsa00010"
        ],
        [
         "1",
         "3",
         "KEGGCOMP",
         "C00022",
         "SYMBOL",
         "LDHAL6A",
         "undirected",
         "Process",
         "Glycolysis / Gluconeogenesis",
         "hsa00010"
        ],
        [
         "2",
         "4",
         "KEGGCOMP",
         "C00022",
         "SYMBOL",
         "LDHA",
         "directed",
         "Process",
         "Glycolysis / Gluconeogenesis",
         "hsa00010"
        ],
        [
         "3",
         "5",
         "KEGGCOMP",
         "C00022",
         "SYMBOL",
         "LDHA",
         "undirected",
         "Process",
         "Glycolysis / Gluconeogenesis",
         "hsa00010"
        ],
        [
         "4",
         "6",
         "KEGGCOMP",
         "C00022",
         "SYMBOL",
         "LDHB",
         "directed",
         "Process",
         "Glycolysis / Gluconeogenesis",
         "hsa00010"
        ]
       ],
       "shape": {
        "columns": 9,
        "rows": 5
       }
      },
      "text/html": [
       "<div>\n",
       "<style scoped>\n",
       "    .dataframe tbody tr th:only-of-type {\n",
       "        vertical-align: middle;\n",
       "    }\n",
       "\n",
       "    .dataframe tbody tr th {\n",
       "        vertical-align: top;\n",
       "    }\n",
       "\n",
       "    .dataframe thead th {\n",
       "        text-align: right;\n",
       "    }\n",
       "</style>\n",
       "<table border=\"1\" class=\"dataframe\">\n",
       "  <thead>\n",
       "    <tr style=\"text-align: right;\">\n",
       "      <th></th>\n",
       "      <th>Unnamed: 0</th>\n",
       "      <th>source_type</th>\n",
       "      <th>source</th>\n",
       "      <th>target_type</th>\n",
       "      <th>target</th>\n",
       "      <th>direction</th>\n",
       "      <th>edge_type</th>\n",
       "      <th>pathway_name</th>\n",
       "      <th>pathway_id</th>\n",
       "    </tr>\n",
       "  </thead>\n",
       "  <tbody>\n",
       "    <tr>\n",
       "      <th>0</th>\n",
       "      <td>2</td>\n",
       "      <td>KEGGCOMP</td>\n",
       "      <td>C00022</td>\n",
       "      <td>SYMBOL</td>\n",
       "      <td>LDHAL6A</td>\n",
       "      <td>directed</td>\n",
       "      <td>Process</td>\n",
       "      <td>Glycolysis / Gluconeogenesis</td>\n",
       "      <td>hsa00010</td>\n",
       "    </tr>\n",
       "    <tr>\n",
       "      <th>1</th>\n",
       "      <td>3</td>\n",
       "      <td>KEGGCOMP</td>\n",
       "      <td>C00022</td>\n",
       "      <td>SYMBOL</td>\n",
       "      <td>LDHAL6A</td>\n",
       "      <td>undirected</td>\n",
       "      <td>Process</td>\n",
       "      <td>Glycolysis / Gluconeogenesis</td>\n",
       "      <td>hsa00010</td>\n",
       "    </tr>\n",
       "    <tr>\n",
       "      <th>2</th>\n",
       "      <td>4</td>\n",
       "      <td>KEGGCOMP</td>\n",
       "      <td>C00022</td>\n",
       "      <td>SYMBOL</td>\n",
       "      <td>LDHA</td>\n",
       "      <td>directed</td>\n",
       "      <td>Process</td>\n",
       "      <td>Glycolysis / Gluconeogenesis</td>\n",
       "      <td>hsa00010</td>\n",
       "    </tr>\n",
       "    <tr>\n",
       "      <th>3</th>\n",
       "      <td>5</td>\n",
       "      <td>KEGGCOMP</td>\n",
       "      <td>C00022</td>\n",
       "      <td>SYMBOL</td>\n",
       "      <td>LDHA</td>\n",
       "      <td>undirected</td>\n",
       "      <td>Process</td>\n",
       "      <td>Glycolysis / Gluconeogenesis</td>\n",
       "      <td>hsa00010</td>\n",
       "    </tr>\n",
       "    <tr>\n",
       "      <th>4</th>\n",
       "      <td>6</td>\n",
       "      <td>KEGGCOMP</td>\n",
       "      <td>C00022</td>\n",
       "      <td>SYMBOL</td>\n",
       "      <td>LDHB</td>\n",
       "      <td>directed</td>\n",
       "      <td>Process</td>\n",
       "      <td>Glycolysis / Gluconeogenesis</td>\n",
       "      <td>hsa00010</td>\n",
       "    </tr>\n",
       "  </tbody>\n",
       "</table>\n",
       "</div>"
      ],
      "text/plain": [
       "   Unnamed: 0 source_type  source target_type   target   direction edge_type  \\\n",
       "0           2    KEGGCOMP  C00022      SYMBOL  LDHAL6A    directed   Process   \n",
       "1           3    KEGGCOMP  C00022      SYMBOL  LDHAL6A  undirected   Process   \n",
       "2           4    KEGGCOMP  C00022      SYMBOL     LDHA    directed   Process   \n",
       "3           5    KEGGCOMP  C00022      SYMBOL     LDHA  undirected   Process   \n",
       "4           6    KEGGCOMP  C00022      SYMBOL     LDHB    directed   Process   \n",
       "\n",
       "                   pathway_name pathway_id  \n",
       "0  Glycolysis / Gluconeogenesis   hsa00010  \n",
       "1  Glycolysis / Gluconeogenesis   hsa00010  \n",
       "2  Glycolysis / Gluconeogenesis   hsa00010  \n",
       "3  Glycolysis / Gluconeogenesis   hsa00010  \n",
       "4  Glycolysis / Gluconeogenesis   hsa00010  "
      ]
     },
     "execution_count": 2,
     "metadata": {},
     "output_type": "execute_result"
    }
   ],
   "source": [
    "# Download Link: R code\n",
    "# Download Date: 2025-03-21\n",
    "# Download Version: 2025-03-21\n",
    "import pandas as pd\n",
    "\n",
    "kegg = pd.read_csv('full_kegg_pathway_list_with_id.csv')\n",
    "kegg['pathway_id'] = kegg['pathway_id'].str.replace(':', '')\n",
    "kegg.head()"
   ]
  },
  {
   "cell_type": "code",
   "execution_count": 3,
   "metadata": {},
   "outputs": [
    {
     "data": {
      "application/vnd.microsoft.datawrangler.viewer.v0+json": {
       "columns": [
        {
         "name": "index",
         "rawType": "int64",
         "type": "integer"
        },
        {
         "name": "KEGG_ID",
         "rawType": "object",
         "type": "string"
        },
        {
         "name": "CAS",
         "rawType": "object",
         "type": "unknown"
        },
        {
         "name": "PubChem",
         "rawType": "object",
         "type": "unknown"
        }
       ],
       "conversionMethod": "pd.DataFrame",
       "ref": "07e042c6-dfc1-4c07-9dbf-22992c029d73",
       "rows": [
        [
         "0",
         "C00001",
         "7732-18-5",
         "3303"
        ],
        [
         "1",
         "C00002",
         "56-65-5",
         "3304"
        ],
        [
         "2",
         "C00003",
         "53-84-9",
         "3305"
        ],
        [
         "3",
         "C00004",
         "58-68-4",
         "3306"
        ],
        [
         "4",
         "C00005",
         "2646-71-1",
         "3307"
        ],
        [
         "5",
         "C00006",
         "53-59-8",
         "3308"
        ],
        [
         "6",
         "C00007",
         "7782-44-7",
         "3309"
        ],
        [
         "7",
         "C00008",
         "58-64-0",
         "3310"
        ],
        [
         "8",
         "C00009",
         "7664-38-2",
         "3311"
        ],
        [
         "9",
         "C00010",
         "85-61-0",
         "3312"
        ],
        [
         "10",
         "C00011",
         "124-38-9",
         "3313"
        ],
        [
         "11",
         "C00012",
         null,
         "3314"
        ],
        [
         "12",
         "C00013",
         "2466-09-3",
         "3315"
        ],
        [
         "13",
         "C00014",
         "7664-41-7",
         "3316"
        ],
        [
         "14",
         "C00015",
         "58-98-0",
         "3317"
        ],
        [
         "15",
         "C00016",
         "146-14-5",
         "3318"
        ],
        [
         "16",
         "C00017",
         null,
         "3319"
        ],
        [
         "17",
         "C00018",
         "54-47-7",
         "3320"
        ],
        [
         "18",
         "C00019",
         "29908-03-0",
         "3321"
        ],
        [
         "19",
         "C00020",
         "61-19-8",
         "3322"
        ],
        [
         "20",
         "C00021",
         "979-92-0",
         "3323"
        ],
        [
         "21",
         "C00022",
         "127-17-3",
         "3324"
        ],
        [
         "22",
         "C00023",
         "7439-89-6",
         "3325"
        ],
        [
         "23",
         "C00024",
         "72-89-9",
         "3326"
        ],
        [
         "24",
         "C00025",
         "56-86-0",
         "3327"
        ],
        [
         "25",
         "C00026",
         "328-50-7",
         "3328"
        ],
        [
         "26",
         "C00027",
         "7722-84-1",
         "3329"
        ],
        [
         "27",
         "C00028",
         null,
         "3330"
        ],
        [
         "28",
         "C00029",
         "133-89-1",
         "3331"
        ],
        [
         "29",
         "C00030",
         null,
         "3332"
        ],
        [
         "30",
         "C00031",
         "50-99-7 2280-44-6",
         "3333"
        ],
        [
         "31",
         "C00032",
         "14875-96-8",
         "3334"
        ],
        [
         "32",
         "C00033",
         "64-19-7",
         "3335"
        ],
        [
         "33",
         "C00034",
         "7439-96-5",
         "3336"
        ],
        [
         "34",
         "C00035",
         "146-91-8",
         "3337"
        ],
        [
         "35",
         "C00036",
         "328-42-7",
         "3338"
        ],
        [
         "36",
         "C00037",
         "56-40-6",
         "3339"
        ],
        [
         "37",
         "C00038",
         "23713-49-7",
         "3340"
        ],
        [
         "38",
         "C00039",
         "9007-49-2",
         "3341"
        ],
        [
         "39",
         "C00040",
         "9029-97-4",
         "3342"
        ],
        [
         "40",
         "C00041",
         "56-41-7",
         "3343"
        ],
        [
         "41",
         "C00042",
         "110-15-6",
         "3344"
        ],
        [
         "42",
         "C00043",
         "528-04-1",
         "3345"
        ],
        [
         "43",
         "C00044",
         "86-01-1",
         "3346"
        ],
        [
         "44",
         "C00045",
         null,
         "3347"
        ],
        [
         "45",
         "C00046",
         null,
         "3348"
        ],
        [
         "46",
         "C00047",
         "56-87-1",
         "3349"
        ],
        [
         "47",
         "C00048",
         "298-12-4",
         "3350"
        ],
        [
         "48",
         "C00049",
         "56-84-8",
         "3351"
        ],
        [
         "49",
         "C00050",
         null,
         "3352"
        ]
       ],
       "shape": {
        "columns": 3,
        "rows": 19292
       }
      },
      "text/html": [
       "<div>\n",
       "<style scoped>\n",
       "    .dataframe tbody tr th:only-of-type {\n",
       "        vertical-align: middle;\n",
       "    }\n",
       "\n",
       "    .dataframe tbody tr th {\n",
       "        vertical-align: top;\n",
       "    }\n",
       "\n",
       "    .dataframe thead th {\n",
       "        text-align: right;\n",
       "    }\n",
       "</style>\n",
       "<table border=\"1\" class=\"dataframe\">\n",
       "  <thead>\n",
       "    <tr style=\"text-align: right;\">\n",
       "      <th>Database</th>\n",
       "      <th>KEGG_ID</th>\n",
       "      <th>CAS</th>\n",
       "      <th>PubChem</th>\n",
       "    </tr>\n",
       "  </thead>\n",
       "  <tbody>\n",
       "    <tr>\n",
       "      <th>0</th>\n",
       "      <td>C00001</td>\n",
       "      <td>7732-18-5</td>\n",
       "      <td>3303</td>\n",
       "    </tr>\n",
       "    <tr>\n",
       "      <th>1</th>\n",
       "      <td>C00002</td>\n",
       "      <td>56-65-5</td>\n",
       "      <td>3304</td>\n",
       "    </tr>\n",
       "    <tr>\n",
       "      <th>2</th>\n",
       "      <td>C00003</td>\n",
       "      <td>53-84-9</td>\n",
       "      <td>3305</td>\n",
       "    </tr>\n",
       "    <tr>\n",
       "      <th>3</th>\n",
       "      <td>C00004</td>\n",
       "      <td>58-68-4</td>\n",
       "      <td>3306</td>\n",
       "    </tr>\n",
       "    <tr>\n",
       "      <th>4</th>\n",
       "      <td>C00005</td>\n",
       "      <td>2646-71-1</td>\n",
       "      <td>3307</td>\n",
       "    </tr>\n",
       "    <tr>\n",
       "      <th>...</th>\n",
       "      <td>...</td>\n",
       "      <td>...</td>\n",
       "      <td>...</td>\n",
       "    </tr>\n",
       "    <tr>\n",
       "      <th>19287</th>\n",
       "      <td>C22958</td>\n",
       "      <td>NaN</td>\n",
       "      <td>500141089</td>\n",
       "    </tr>\n",
       "    <tr>\n",
       "      <th>19288</th>\n",
       "      <td>C22959</td>\n",
       "      <td>NaN</td>\n",
       "      <td>500141090</td>\n",
       "    </tr>\n",
       "    <tr>\n",
       "      <th>19289</th>\n",
       "      <td>C22960</td>\n",
       "      <td>NaN</td>\n",
       "      <td>500141091</td>\n",
       "    </tr>\n",
       "    <tr>\n",
       "      <th>19290</th>\n",
       "      <td>C22961</td>\n",
       "      <td>NaN</td>\n",
       "      <td>500141092</td>\n",
       "    </tr>\n",
       "    <tr>\n",
       "      <th>19291</th>\n",
       "      <td>C22962</td>\n",
       "      <td>NaN</td>\n",
       "      <td>500141093</td>\n",
       "    </tr>\n",
       "  </tbody>\n",
       "</table>\n",
       "<p>19292 rows × 3 columns</p>\n",
       "</div>"
      ],
      "text/plain": [
       "Database KEGG_ID        CAS    PubChem\n",
       "0         C00001  7732-18-5       3303\n",
       "1         C00002    56-65-5       3304\n",
       "2         C00003    53-84-9       3305\n",
       "3         C00004    58-68-4       3306\n",
       "4         C00005  2646-71-1       3307\n",
       "...          ...        ...        ...\n",
       "19287     C22958        NaN  500141089\n",
       "19288     C22959        NaN  500141090\n",
       "19289     C22960        NaN  500141091\n",
       "19290     C22961        NaN  500141092\n",
       "19291     C22962        NaN  500141093\n",
       "\n",
       "[19292 rows x 3 columns]"
      ]
     },
     "execution_count": 3,
     "metadata": {},
     "output_type": "execute_result"
    }
   ],
   "source": [
    "# Download Link: R code\n",
    "# Download Date: 2025-03-21\n",
    "# Download Version: 2025-03-21\n",
    "\n",
    "kegg_compound = pd.read_csv('kegg_compound_data.csv')\n",
    "kegg_compound['Name'] = kegg_compound['Name'].str.replace(';', '')\n",
    "\n",
    "exploded_data = kegg_compound.assign(Other_DBS=kegg_compound['Other_DBS'].str.split(';')).explode('Other_DBS')\n",
    "exploded_data['Other_DBS'] = exploded_data['Other_DBS'].str.strip()\n",
    "exploded_data[['Database', 'ID']] = exploded_data['Other_DBS'].str.extract(r':(\\w+):\\s?(.*)')\n",
    "cleaned_data = exploded_data.dropna(subset=['Database', 'ID'])\n",
    "pivoted_data = cleaned_data.pivot(index=['KEGG_ID', 'Name'], columns='Database', values='ID').reset_index()\n",
    "\n",
    "kegg_comp = pivoted_data[['KEGG_ID', 'CAS', 'PubChem']]\n",
    "kegg_comp"
   ]
  },
  {
   "cell_type": "markdown",
   "metadata": {},
   "source": [
    "### BioMedGraphica ID"
   ]
  },
  {
   "cell_type": "code",
   "execution_count": 4,
   "metadata": {},
   "outputs": [],
   "source": [
    "import pandas as pd\n",
    "import os\n",
    "from pathlib import Path\n",
    "\n",
    "current_working_dir = Path(os.getcwd()).resolve()\n",
    "grandparent_dir = current_working_dir.parent.parent.parent\n",
    "target_dir_pathway = grandparent_dir / 'BioMedGraphica' / 'Entity' / 'Pathway' / 'BioMedGraphica_Pathway.csv'\n",
    "target_dir_drug = grandparent_dir / 'BioMedGraphica' / 'Entity' / 'Drug' / 'BioMedGraphica_Drug.csv'\n",
    "biomedgraphica_pathway = pd.read_csv(target_dir_pathway, dtype=str)\n",
    "biomedgraphica_drug = pd.read_csv(target_dir_drug, dtype=str)"
   ]
  },
  {
   "cell_type": "markdown",
   "metadata": {},
   "source": [
    "### KEGG Mapping"
   ]
  },
  {
   "cell_type": "code",
   "execution_count": 5,
   "metadata": {},
   "outputs": [
    {
     "data": {
      "application/vnd.microsoft.datawrangler.viewer.v0+json": {
       "columns": [
        {
         "name": "index",
         "rawType": "int64",
         "type": "integer"
        },
        {
         "name": "source",
         "rawType": "object",
         "type": "string"
        },
        {
         "name": "pathway_id",
         "rawType": "object",
         "type": "string"
        },
        {
         "name": "CAS",
         "rawType": "object",
         "type": "unknown"
        },
        {
         "name": "PubChem",
         "rawType": "object",
         "type": "string"
        }
       ],
       "conversionMethod": "pd.DataFrame",
       "ref": "89a317d0-ad45-40b9-a19d-ef56f358e917",
       "rows": [
        [
         "0",
         "C00022",
         "hsa00010",
         "127-17-3",
         "3324"
        ],
        [
         "1",
         "C00024",
         "hsa00010",
         "72-89-9",
         "3326"
        ],
        [
         "2",
         "C00033",
         "hsa00010",
         "64-19-7",
         "3335"
        ],
        [
         "3",
         "C00036",
         "hsa00010",
         "328-42-7",
         "3338"
        ],
        [
         "4",
         "C00068",
         "hsa00010",
         null,
         "3368"
        ],
        [
         "5",
         "C00074",
         "hsa00010",
         "138-08-9",
         "3374"
        ],
        [
         "6",
         "C00084",
         "hsa00010",
         "75-07-0",
         "3384"
        ],
        [
         "7",
         "C00085",
         "hsa00010",
         "643-13-0",
         "3385"
        ],
        [
         "8",
         "C00103",
         "hsa00010",
         "59-56-3",
         "3403"
        ],
        [
         "9",
         "C00111",
         "hsa00010",
         "57-04-5",
         "3411"
        ],
        [
         "10",
         "C00118",
         "hsa00010",
         "591-57-1",
         "3418"
        ],
        [
         "11",
         "C00186",
         "hsa00010",
         "79-33-4",
         "3486"
        ],
        [
         "12",
         "C00197",
         "hsa00010",
         null,
         "3497"
        ],
        [
         "13",
         "C00221",
         "hsa00010",
         "492-61-5",
         "3521"
        ],
        [
         "14",
         "C00236",
         "hsa00010",
         "38168-82-0",
         "3535"
        ],
        [
         "15",
         "C00267",
         "hsa00010",
         "492-62-6",
         "3565"
        ],
        [
         "16",
         "C00354",
         "hsa00010",
         "488-69-7",
         "3647"
        ],
        [
         "17",
         "C00469",
         "hsa00010",
         "64-17-5",
         "3752"
        ],
        [
         "18",
         "C00631",
         "hsa00010",
         null,
         "3904"
        ],
        [
         "19",
         "C00668",
         "hsa00010",
         null,
         "3937"
        ],
        [
         "20",
         "C01159",
         "hsa00010",
         null,
         "4387"
        ],
        [
         "21",
         "C01172",
         "hsa00010",
         null,
         "4399"
        ],
        [
         "22",
         "C05125",
         "hsa00010",
         null,
         "7546"
        ],
        [
         "23",
         "C15972",
         "hsa00010",
         null,
         "47205285"
        ],
        [
         "24",
         "C15973",
         "hsa00010",
         null,
         "47205286"
        ],
        [
         "25",
         "C16255",
         "hsa00010",
         null,
         "47205563"
        ],
        [
         "26",
         "C00022",
         "hsa00020",
         "127-17-3",
         "3324"
        ],
        [
         "27",
         "C00024",
         "hsa00020",
         "72-89-9",
         "3326"
        ],
        [
         "28",
         "C00026",
         "hsa00020",
         "328-50-7",
         "3328"
        ],
        [
         "29",
         "C00036",
         "hsa00020",
         "328-42-7",
         "3338"
        ],
        [
         "30",
         "C00042",
         "hsa00020",
         "110-15-6",
         "3344"
        ],
        [
         "31",
         "C00068",
         "hsa00020",
         null,
         "3368"
        ],
        [
         "32",
         "C00091",
         "hsa00020",
         "604-98-8",
         "3391"
        ],
        [
         "33",
         "C00122",
         "hsa00020",
         "110-17-8",
         "3422"
        ],
        [
         "34",
         "C00149",
         "hsa00020",
         "97-67-6",
         "3449"
        ],
        [
         "35",
         "C00158",
         "hsa00020",
         "77-92-9",
         "3458"
        ],
        [
         "36",
         "C00311",
         "hsa00020",
         "320-77-4",
         "3605"
        ],
        [
         "37",
         "C00417",
         "hsa00020",
         "585-84-2",
         "3707"
        ],
        [
         "38",
         "C05125",
         "hsa00020",
         null,
         "7546"
        ],
        [
         "39",
         "C05379",
         "hsa00020",
         "1948-82-9",
         "7753"
        ],
        [
         "40",
         "C05381",
         "hsa00020",
         null,
         "7755"
        ],
        [
         "41",
         "C15972",
         "hsa00020",
         null,
         "47205285"
        ],
        [
         "42",
         "C15973",
         "hsa00020",
         null,
         "47205286"
        ],
        [
         "43",
         "C16254",
         "hsa00020",
         null,
         "47205562"
        ],
        [
         "44",
         "C16255",
         "hsa00020",
         null,
         "47205563"
        ],
        [
         "45",
         "C00085",
         "hsa00030",
         "643-13-0",
         "3385"
        ],
        [
         "46",
         "C00117",
         "hsa00030",
         "4300-28-1",
         "3417"
        ],
        [
         "47",
         "C00118",
         "hsa00030",
         "591-57-1",
         "3418"
        ],
        [
         "48",
         "C00119",
         "hsa00030",
         null,
         "3419"
        ],
        [
         "49",
         "C00121",
         "hsa00030",
         "50-69-1",
         "3421"
        ]
       ],
       "shape": {
        "columns": 4,
        "rows": 3922
       }
      },
      "text/html": [
       "<div>\n",
       "<style scoped>\n",
       "    .dataframe tbody tr th:only-of-type {\n",
       "        vertical-align: middle;\n",
       "    }\n",
       "\n",
       "    .dataframe tbody tr th {\n",
       "        vertical-align: top;\n",
       "    }\n",
       "\n",
       "    .dataframe thead th {\n",
       "        text-align: right;\n",
       "    }\n",
       "</style>\n",
       "<table border=\"1\" class=\"dataframe\">\n",
       "  <thead>\n",
       "    <tr style=\"text-align: right;\">\n",
       "      <th></th>\n",
       "      <th>source</th>\n",
       "      <th>pathway_id</th>\n",
       "      <th>CAS</th>\n",
       "      <th>PubChem</th>\n",
       "    </tr>\n",
       "  </thead>\n",
       "  <tbody>\n",
       "    <tr>\n",
       "      <th>0</th>\n",
       "      <td>C00022</td>\n",
       "      <td>hsa00010</td>\n",
       "      <td>127-17-3</td>\n",
       "      <td>3324</td>\n",
       "    </tr>\n",
       "    <tr>\n",
       "      <th>1</th>\n",
       "      <td>C00024</td>\n",
       "      <td>hsa00010</td>\n",
       "      <td>72-89-9</td>\n",
       "      <td>3326</td>\n",
       "    </tr>\n",
       "    <tr>\n",
       "      <th>2</th>\n",
       "      <td>C00033</td>\n",
       "      <td>hsa00010</td>\n",
       "      <td>64-19-7</td>\n",
       "      <td>3335</td>\n",
       "    </tr>\n",
       "    <tr>\n",
       "      <th>3</th>\n",
       "      <td>C00036</td>\n",
       "      <td>hsa00010</td>\n",
       "      <td>328-42-7</td>\n",
       "      <td>3338</td>\n",
       "    </tr>\n",
       "    <tr>\n",
       "      <th>4</th>\n",
       "      <td>C00068</td>\n",
       "      <td>hsa00010</td>\n",
       "      <td>NaN</td>\n",
       "      <td>3368</td>\n",
       "    </tr>\n",
       "    <tr>\n",
       "      <th>...</th>\n",
       "      <td>...</td>\n",
       "      <td>...</td>\n",
       "      <td>...</td>\n",
       "      <td>...</td>\n",
       "    </tr>\n",
       "    <tr>\n",
       "      <th>3917</th>\n",
       "      <td>C01327</td>\n",
       "      <td>hsa04974</td>\n",
       "      <td>7647-01-0</td>\n",
       "      <td>4538</td>\n",
       "    </tr>\n",
       "    <tr>\n",
       "      <th>3918</th>\n",
       "      <td>C00025</td>\n",
       "      <td>hsa05033</td>\n",
       "      <td>56-86-0</td>\n",
       "      <td>3327</td>\n",
       "    </tr>\n",
       "    <tr>\n",
       "      <th>3919</th>\n",
       "      <td>C00334</td>\n",
       "      <td>hsa05033</td>\n",
       "      <td>56-12-2</td>\n",
       "      <td>3628</td>\n",
       "    </tr>\n",
       "    <tr>\n",
       "      <th>3920</th>\n",
       "      <td>C00745</td>\n",
       "      <td>hsa05033</td>\n",
       "      <td>54-11-5</td>\n",
       "      <td>4007</td>\n",
       "    </tr>\n",
       "    <tr>\n",
       "      <th>3921</th>\n",
       "      <td>C01996</td>\n",
       "      <td>hsa05033</td>\n",
       "      <td>51-84-3</td>\n",
       "      <td>5093</td>\n",
       "    </tr>\n",
       "  </tbody>\n",
       "</table>\n",
       "<p>3922 rows × 4 columns</p>\n",
       "</div>"
      ],
      "text/plain": [
       "      source pathway_id        CAS PubChem\n",
       "0     C00022   hsa00010   127-17-3    3324\n",
       "1     C00024   hsa00010    72-89-9    3326\n",
       "2     C00033   hsa00010    64-19-7    3335\n",
       "3     C00036   hsa00010   328-42-7    3338\n",
       "4     C00068   hsa00010        NaN    3368\n",
       "...      ...        ...        ...     ...\n",
       "3917  C01327   hsa04974  7647-01-0    4538\n",
       "3918  C00025   hsa05033    56-86-0    3327\n",
       "3919  C00334   hsa05033    56-12-2    3628\n",
       "3920  C00745   hsa05033    54-11-5    4007\n",
       "3921  C01996   hsa05033    51-84-3    5093\n",
       "\n",
       "[3922 rows x 4 columns]"
      ]
     },
     "execution_count": 5,
     "metadata": {},
     "output_type": "execute_result"
    }
   ],
   "source": [
    "kegg_drug_pathway = kegg[(kegg['source_type'] == 'KEGGCOMP')]\n",
    "kegg_drug_pathway = kegg_drug_pathway[['source', 'pathway_id']]\n",
    "kegg_drug_pathway.drop_duplicates(inplace=True)\n",
    "kegg_drug_pathway.reset_index(drop=True, inplace=True)\n",
    "\n",
    "kegg_drug_pathway = kegg_drug_pathway.merge(kegg_comp, left_on='source', right_on='KEGG_ID', how = 'left')\n",
    "kegg_drug_pathway = kegg_drug_pathway.drop(columns=['KEGG_ID'])\n",
    "kegg_drug_pathway"
   ]
  },
  {
   "cell_type": "code",
   "execution_count": 6,
   "metadata": {},
   "outputs": [
    {
     "data": {
      "application/vnd.microsoft.datawrangler.viewer.v0+json": {
       "columns": [
        {
         "name": "index",
         "rawType": "int64",
         "type": "integer"
        },
        {
         "name": "source",
         "rawType": "object",
         "type": "string"
        },
        {
         "name": "pathway_id",
         "rawType": "object",
         "type": "string"
        },
        {
         "name": "CAS",
         "rawType": "object",
         "type": "unknown"
        },
        {
         "name": "PubChem",
         "rawType": "object",
         "type": "string"
        }
       ],
       "conversionMethod": "pd.DataFrame",
       "ref": "4c900d48-a628-45a9-978e-ece5bff6dd29",
       "rows": [
        [
         "0",
         "C00022",
         "hsa00010",
         "127-17-3",
         "3324"
        ],
        [
         "1",
         "C00024",
         "hsa00010",
         "72-89-9",
         "3326"
        ],
        [
         "2",
         "C00033",
         "hsa00010",
         "64-19-7",
         "3335"
        ],
        [
         "3",
         "C00036",
         "hsa00010",
         "328-42-7",
         "3338"
        ],
        [
         "4",
         "C00068",
         "hsa00010",
         null,
         "3368"
        ],
        [
         "5",
         "C00074",
         "hsa00010",
         "138-08-9",
         "3374"
        ],
        [
         "6",
         "C00084",
         "hsa00010",
         "75-07-0",
         "3384"
        ],
        [
         "7",
         "C00085",
         "hsa00010",
         "643-13-0",
         "3385"
        ],
        [
         "8",
         "C00103",
         "hsa00010",
         "59-56-3",
         "3403"
        ],
        [
         "9",
         "C00111",
         "hsa00010",
         "57-04-5",
         "3411"
        ],
        [
         "10",
         "C00118",
         "hsa00010",
         "591-57-1",
         "3418"
        ],
        [
         "11",
         "C00186",
         "hsa00010",
         "79-33-4",
         "3486"
        ],
        [
         "12",
         "C00197",
         "hsa00010",
         null,
         "3497"
        ],
        [
         "13",
         "C00221",
         "hsa00010",
         "492-61-5",
         "3521"
        ],
        [
         "14",
         "C00236",
         "hsa00010",
         "38168-82-0",
         "3535"
        ],
        [
         "15",
         "C00267",
         "hsa00010",
         "492-62-6",
         "3565"
        ],
        [
         "16",
         "C00354",
         "hsa00010",
         "488-69-7",
         "3647"
        ],
        [
         "17",
         "C00469",
         "hsa00010",
         "64-17-5",
         "3752"
        ],
        [
         "18",
         "C00631",
         "hsa00010",
         null,
         "3904"
        ],
        [
         "19",
         "C00668",
         "hsa00010",
         null,
         "3937"
        ],
        [
         "20",
         "C01159",
         "hsa00010",
         null,
         "4387"
        ],
        [
         "21",
         "C01172",
         "hsa00010",
         null,
         "4399"
        ],
        [
         "22",
         "C05125",
         "hsa00010",
         null,
         "7546"
        ],
        [
         "23",
         "C15972",
         "hsa00010",
         null,
         "47205285"
        ],
        [
         "24",
         "C15973",
         "hsa00010",
         null,
         "47205286"
        ],
        [
         "25",
         "C16255",
         "hsa00010",
         null,
         "47205563"
        ],
        [
         "26",
         "C00022",
         "hsa00020",
         "127-17-3",
         "3324"
        ],
        [
         "27",
         "C00024",
         "hsa00020",
         "72-89-9",
         "3326"
        ],
        [
         "28",
         "C00026",
         "hsa00020",
         "328-50-7",
         "3328"
        ],
        [
         "29",
         "C00036",
         "hsa00020",
         "328-42-7",
         "3338"
        ],
        [
         "30",
         "C00042",
         "hsa00020",
         "110-15-6",
         "3344"
        ],
        [
         "31",
         "C00068",
         "hsa00020",
         null,
         "3368"
        ],
        [
         "32",
         "C00091",
         "hsa00020",
         "604-98-8",
         "3391"
        ],
        [
         "33",
         "C00122",
         "hsa00020",
         "110-17-8",
         "3422"
        ],
        [
         "34",
         "C00149",
         "hsa00020",
         "97-67-6",
         "3449"
        ],
        [
         "35",
         "C00158",
         "hsa00020",
         "77-92-9",
         "3458"
        ],
        [
         "36",
         "C00311",
         "hsa00020",
         "320-77-4",
         "3605"
        ],
        [
         "37",
         "C00417",
         "hsa00020",
         "585-84-2",
         "3707"
        ],
        [
         "38",
         "C05125",
         "hsa00020",
         null,
         "7546"
        ],
        [
         "39",
         "C05379",
         "hsa00020",
         "1948-82-9",
         "7753"
        ],
        [
         "40",
         "C05381",
         "hsa00020",
         null,
         "7755"
        ],
        [
         "41",
         "C15972",
         "hsa00020",
         null,
         "47205285"
        ],
        [
         "42",
         "C15973",
         "hsa00020",
         null,
         "47205286"
        ],
        [
         "43",
         "C16254",
         "hsa00020",
         null,
         "47205562"
        ],
        [
         "44",
         "C16255",
         "hsa00020",
         null,
         "47205563"
        ],
        [
         "45",
         "C00085",
         "hsa00030",
         "643-13-0",
         "3385"
        ],
        [
         "46",
         "C00117",
         "hsa00030",
         "4300-28-1",
         "3417"
        ],
        [
         "47",
         "C00118",
         "hsa00030",
         "591-57-1",
         "3418"
        ],
        [
         "48",
         "C00119",
         "hsa00030",
         null,
         "3419"
        ],
        [
         "49",
         "C00121",
         "hsa00030",
         "50-69-1",
         "3421"
        ]
       ],
       "shape": {
        "columns": 4,
        "rows": 3964
       }
      },
      "text/html": [
       "<div>\n",
       "<style scoped>\n",
       "    .dataframe tbody tr th:only-of-type {\n",
       "        vertical-align: middle;\n",
       "    }\n",
       "\n",
       "    .dataframe tbody tr th {\n",
       "        vertical-align: top;\n",
       "    }\n",
       "\n",
       "    .dataframe thead th {\n",
       "        text-align: right;\n",
       "    }\n",
       "</style>\n",
       "<table border=\"1\" class=\"dataframe\">\n",
       "  <thead>\n",
       "    <tr style=\"text-align: right;\">\n",
       "      <th></th>\n",
       "      <th>source</th>\n",
       "      <th>pathway_id</th>\n",
       "      <th>CAS</th>\n",
       "      <th>PubChem</th>\n",
       "    </tr>\n",
       "  </thead>\n",
       "  <tbody>\n",
       "    <tr>\n",
       "      <th>0</th>\n",
       "      <td>C00022</td>\n",
       "      <td>hsa00010</td>\n",
       "      <td>127-17-3</td>\n",
       "      <td>3324</td>\n",
       "    </tr>\n",
       "    <tr>\n",
       "      <th>1</th>\n",
       "      <td>C00024</td>\n",
       "      <td>hsa00010</td>\n",
       "      <td>72-89-9</td>\n",
       "      <td>3326</td>\n",
       "    </tr>\n",
       "    <tr>\n",
       "      <th>2</th>\n",
       "      <td>C00033</td>\n",
       "      <td>hsa00010</td>\n",
       "      <td>64-19-7</td>\n",
       "      <td>3335</td>\n",
       "    </tr>\n",
       "    <tr>\n",
       "      <th>3</th>\n",
       "      <td>C00036</td>\n",
       "      <td>hsa00010</td>\n",
       "      <td>328-42-7</td>\n",
       "      <td>3338</td>\n",
       "    </tr>\n",
       "    <tr>\n",
       "      <th>4</th>\n",
       "      <td>C00068</td>\n",
       "      <td>hsa00010</td>\n",
       "      <td>NaN</td>\n",
       "      <td>3368</td>\n",
       "    </tr>\n",
       "    <tr>\n",
       "      <th>...</th>\n",
       "      <td>...</td>\n",
       "      <td>...</td>\n",
       "      <td>...</td>\n",
       "      <td>...</td>\n",
       "    </tr>\n",
       "    <tr>\n",
       "      <th>3917</th>\n",
       "      <td>C01327</td>\n",
       "      <td>hsa04974</td>\n",
       "      <td>7647-01-0</td>\n",
       "      <td>4538</td>\n",
       "    </tr>\n",
       "    <tr>\n",
       "      <th>3918</th>\n",
       "      <td>C00025</td>\n",
       "      <td>hsa05033</td>\n",
       "      <td>56-86-0</td>\n",
       "      <td>3327</td>\n",
       "    </tr>\n",
       "    <tr>\n",
       "      <th>3919</th>\n",
       "      <td>C00334</td>\n",
       "      <td>hsa05033</td>\n",
       "      <td>56-12-2</td>\n",
       "      <td>3628</td>\n",
       "    </tr>\n",
       "    <tr>\n",
       "      <th>3920</th>\n",
       "      <td>C00745</td>\n",
       "      <td>hsa05033</td>\n",
       "      <td>54-11-5</td>\n",
       "      <td>4007</td>\n",
       "    </tr>\n",
       "    <tr>\n",
       "      <th>3921</th>\n",
       "      <td>C01996</td>\n",
       "      <td>hsa05033</td>\n",
       "      <td>51-84-3</td>\n",
       "      <td>5093</td>\n",
       "    </tr>\n",
       "  </tbody>\n",
       "</table>\n",
       "<p>3964 rows × 4 columns</p>\n",
       "</div>"
      ],
      "text/plain": [
       "      source pathway_id        CAS PubChem\n",
       "0     C00022   hsa00010   127-17-3    3324\n",
       "1     C00024   hsa00010    72-89-9    3326\n",
       "2     C00033   hsa00010    64-19-7    3335\n",
       "3     C00036   hsa00010   328-42-7    3338\n",
       "4     C00068   hsa00010        NaN    3368\n",
       "...      ...        ...        ...     ...\n",
       "3917  C01327   hsa04974  7647-01-0    4538\n",
       "3918  C00025   hsa05033    56-86-0    3327\n",
       "3919  C00334   hsa05033    56-12-2    3628\n",
       "3920  C00745   hsa05033    54-11-5    4007\n",
       "3921  C01996   hsa05033    51-84-3    5093\n",
       "\n",
       "[3964 rows x 4 columns]"
      ]
     },
     "execution_count": 6,
     "metadata": {},
     "output_type": "execute_result"
    }
   ],
   "source": [
    "kegg_drug_pathway = kegg_drug_pathway.assign(CAS=kegg_drug_pathway['CAS'].str.split(' ')).explode('CAS')\n",
    "kegg_drug_pathway = kegg_drug_pathway.assign(PubChem=kegg_drug_pathway['PubChem'].str.split(' ')).explode('PubChem')\n",
    "kegg_drug_pathway"
   ]
  },
  {
   "cell_type": "markdown",
   "metadata": {},
   "source": [
    "SID Mapping"
   ]
  },
  {
   "cell_type": "code",
   "execution_count": 7,
   "metadata": {},
   "outputs": [],
   "source": [
    "SID_individualid = biomedgraphica_drug[['PubChem_SID', 'BioMedGraphica_ID']]\n",
    "SID_individualid = SID_individualid.dropna(subset=['PubChem_SID'])\n",
    "SID_individualid = SID_individualid.assign(PubChem_SID=SID_individualid['PubChem_SID'].str.split(';')).explode('PubChem_SID')\n",
    "SID_individualid = SID_individualid.groupby('PubChem_SID')['BioMedGraphica_ID'].apply(lambda x: ';'.join(x.dropna().unique())).to_dict()\n",
    "\n",
    "kegg_drug_pathway['Drug_SID'] = kegg_drug_pathway['PubChem'].map(SID_individualid)"
   ]
  },
  {
   "cell_type": "markdown",
   "metadata": {},
   "source": [
    "CAS RN"
   ]
  },
  {
   "cell_type": "code",
   "execution_count": 8,
   "metadata": {},
   "outputs": [],
   "source": [
    "cas_individualid = biomedgraphica_drug[['CAS_RN', 'BioMedGraphica_ID']]\n",
    "cas_individualid = cas_individualid.dropna(subset=['CAS_RN'])\n",
    "cas_individualid = cas_individualid.assign(CAS_RN=cas_individualid['CAS_RN'].str.split(';')).explode('CAS_RN')\n",
    "cas_individualid = cas_individualid.groupby('CAS_RN')['BioMedGraphica_ID'].apply(lambda x: ';'.join(x.dropna().unique())).to_dict()\n",
    "\n",
    "kegg_drug_pathway['Drug_CAS'] = kegg_drug_pathway['CAS'].map(cas_individualid)"
   ]
  },
  {
   "cell_type": "code",
   "execution_count": 9,
   "metadata": {},
   "outputs": [
    {
     "data": {
      "application/vnd.microsoft.datawrangler.viewer.v0+json": {
       "columns": [
        {
         "name": "index",
         "rawType": "int64",
         "type": "integer"
        },
        {
         "name": "source",
         "rawType": "object",
         "type": "string"
        },
        {
         "name": "pathway_id",
         "rawType": "object",
         "type": "string"
        },
        {
         "name": "CAS",
         "rawType": "object",
         "type": "unknown"
        },
        {
         "name": "PubChem",
         "rawType": "object",
         "type": "string"
        },
        {
         "name": "From_ID",
         "rawType": "object",
         "type": "unknown"
        }
       ],
       "conversionMethod": "pd.DataFrame",
       "ref": "1eeeed49-381a-4e2a-8b7f-5c594e318461",
       "rows": [
        [
         "0",
         "C00022",
         "hsa00010",
         "127-17-3",
         "3324",
         "BMG_DG006378"
        ],
        [
         "1",
         "C00024",
         "hsa00010",
         "72-89-9",
         "3326",
         "BMG_DG145662"
        ],
        [
         "2",
         "C00033",
         "hsa00010",
         "64-19-7",
         "3335",
         "BMG_DG109862"
        ],
        [
         "3",
         "C00036",
         "hsa00010",
         "328-42-7",
         "3338",
         "BMG_DG215725"
        ],
        [
         "4",
         "C00068",
         "hsa00010",
         null,
         "3368",
         null
        ],
        [
         "5",
         "C00074",
         "hsa00010",
         "138-08-9",
         "3374",
         "BMG_DG000433"
        ],
        [
         "6",
         "C00084",
         "hsa00010",
         "75-07-0",
         "3384",
         "BMG_DG109992"
        ],
        [
         "7",
         "C00085",
         "hsa00010",
         "643-13-0",
         "3385",
         "BMG_DG183490"
        ],
        [
         "8",
         "C00103",
         "hsa00010",
         "59-56-3",
         "3403",
         "BMG_DG177609"
        ],
        [
         "9",
         "C00111",
         "hsa00010",
         "57-04-5",
         "3411",
         "BMG_DG179456"
        ],
        [
         "10",
         "C00118",
         "hsa00010",
         "591-57-1",
         "3418",
         "BMG_DG142590"
        ],
        [
         "11",
         "C00186",
         "hsa00010",
         "79-33-4",
         "3486",
         "BMG_DG007024"
        ],
        [
         "12",
         "C00197",
         "hsa00010",
         null,
         "3497",
         null
        ],
        [
         "13",
         "C00221",
         "hsa00010",
         "492-61-5",
         "3521",
         "BMG_DG176842"
        ],
        [
         "14",
         "C00236",
         "hsa00010",
         "38168-82-0",
         "3535",
         "BMG_DG142601"
        ],
        [
         "15",
         "C00267",
         "hsa00010",
         "492-62-6",
         "3565",
         "BMG_DG199529"
        ],
        [
         "16",
         "C00354",
         "hsa00010",
         "488-69-7",
         "3647",
         "BMG_DG189905;BMG_DG109267;BMG_DG004039;BMG_DG202781;BMG_DG164775"
        ],
        [
         "17",
         "C00469",
         "hsa00010",
         "64-17-5",
         "3752",
         "BMG_DG184802;BMG_DG258417"
        ],
        [
         "18",
         "C00631",
         "hsa00010",
         null,
         "3904",
         null
        ],
        [
         "19",
         "C00668",
         "hsa00010",
         null,
         "3937",
         null
        ],
        [
         "20",
         "C01159",
         "hsa00010",
         null,
         "4387",
         null
        ],
        [
         "21",
         "C01172",
         "hsa00010",
         null,
         "4399",
         null
        ],
        [
         "22",
         "C05125",
         "hsa00010",
         null,
         "7546",
         null
        ],
        [
         "23",
         "C15972",
         "hsa00010",
         null,
         "47205285",
         null
        ],
        [
         "24",
         "C15973",
         "hsa00010",
         null,
         "47205286",
         null
        ],
        [
         "25",
         "C16255",
         "hsa00010",
         null,
         "47205563",
         null
        ],
        [
         "26",
         "C00022",
         "hsa00020",
         "127-17-3",
         "3324",
         "BMG_DG006378"
        ],
        [
         "27",
         "C00024",
         "hsa00020",
         "72-89-9",
         "3326",
         "BMG_DG145662"
        ],
        [
         "28",
         "C00026",
         "hsa00020",
         "328-50-7",
         "3328",
         "BMG_DG151834"
        ],
        [
         "29",
         "C00036",
         "hsa00020",
         "328-42-7",
         "3338",
         "BMG_DG215725"
        ],
        [
         "30",
         "C00042",
         "hsa00020",
         "110-15-6",
         "3344",
         "BMG_DG009241"
        ],
        [
         "31",
         "C00068",
         "hsa00020",
         null,
         "3368",
         null
        ],
        [
         "32",
         "C00091",
         "hsa00020",
         "604-98-8",
         "3391",
         "BMG_DG211562"
        ],
        [
         "33",
         "C00122",
         "hsa00020",
         "110-17-8",
         "3422",
         "BMG_DG145850"
        ],
        [
         "34",
         "C00149",
         "hsa00020",
         "97-67-6",
         "3449",
         "BMG_DG118403"
        ],
        [
         "35",
         "C00158",
         "hsa00020",
         "77-92-9",
         "3458",
         "BMG_DG135998"
        ],
        [
         "36",
         "C00311",
         "hsa00020",
         "320-77-4",
         "3605",
         "BMG_DG017350"
        ],
        [
         "37",
         "C00417",
         "hsa00020",
         "585-84-2",
         "3707",
         "BMG_DG175465"
        ],
        [
         "38",
         "C05125",
         "hsa00020",
         null,
         "7546",
         null
        ],
        [
         "39",
         "C05379",
         "hsa00020",
         "1948-82-9",
         "7753",
         "BMG_DG215844"
        ],
        [
         "40",
         "C05381",
         "hsa00020",
         null,
         "7755",
         null
        ],
        [
         "41",
         "C15972",
         "hsa00020",
         null,
         "47205285",
         null
        ],
        [
         "42",
         "C15973",
         "hsa00020",
         null,
         "47205286",
         null
        ],
        [
         "43",
         "C16254",
         "hsa00020",
         null,
         "47205562",
         null
        ],
        [
         "44",
         "C16255",
         "hsa00020",
         null,
         "47205563",
         null
        ],
        [
         "45",
         "C00085",
         "hsa00030",
         "643-13-0",
         "3385",
         "BMG_DG183490"
        ],
        [
         "46",
         "C00117",
         "hsa00030",
         "4300-28-1",
         "3417",
         "BMG_DG198695"
        ],
        [
         "47",
         "C00118",
         "hsa00030",
         "591-57-1",
         "3418",
         "BMG_DG142590"
        ],
        [
         "48",
         "C00119",
         "hsa00030",
         null,
         "3419",
         null
        ],
        [
         "49",
         "C00121",
         "hsa00030",
         "50-69-1",
         "3421",
         "BMG_DG157360"
        ]
       ],
       "shape": {
        "columns": 5,
        "rows": 3964
       }
      },
      "text/html": [
       "<div>\n",
       "<style scoped>\n",
       "    .dataframe tbody tr th:only-of-type {\n",
       "        vertical-align: middle;\n",
       "    }\n",
       "\n",
       "    .dataframe tbody tr th {\n",
       "        vertical-align: top;\n",
       "    }\n",
       "\n",
       "    .dataframe thead th {\n",
       "        text-align: right;\n",
       "    }\n",
       "</style>\n",
       "<table border=\"1\" class=\"dataframe\">\n",
       "  <thead>\n",
       "    <tr style=\"text-align: right;\">\n",
       "      <th></th>\n",
       "      <th>source</th>\n",
       "      <th>pathway_id</th>\n",
       "      <th>CAS</th>\n",
       "      <th>PubChem</th>\n",
       "      <th>From_ID</th>\n",
       "    </tr>\n",
       "  </thead>\n",
       "  <tbody>\n",
       "    <tr>\n",
       "      <th>0</th>\n",
       "      <td>C00022</td>\n",
       "      <td>hsa00010</td>\n",
       "      <td>127-17-3</td>\n",
       "      <td>3324</td>\n",
       "      <td>BMG_DG006378</td>\n",
       "    </tr>\n",
       "    <tr>\n",
       "      <th>1</th>\n",
       "      <td>C00024</td>\n",
       "      <td>hsa00010</td>\n",
       "      <td>72-89-9</td>\n",
       "      <td>3326</td>\n",
       "      <td>BMG_DG145662</td>\n",
       "    </tr>\n",
       "    <tr>\n",
       "      <th>2</th>\n",
       "      <td>C00033</td>\n",
       "      <td>hsa00010</td>\n",
       "      <td>64-19-7</td>\n",
       "      <td>3335</td>\n",
       "      <td>BMG_DG109862</td>\n",
       "    </tr>\n",
       "    <tr>\n",
       "      <th>3</th>\n",
       "      <td>C00036</td>\n",
       "      <td>hsa00010</td>\n",
       "      <td>328-42-7</td>\n",
       "      <td>3338</td>\n",
       "      <td>BMG_DG215725</td>\n",
       "    </tr>\n",
       "    <tr>\n",
       "      <th>4</th>\n",
       "      <td>C00068</td>\n",
       "      <td>hsa00010</td>\n",
       "      <td>NaN</td>\n",
       "      <td>3368</td>\n",
       "      <td>&lt;NA&gt;</td>\n",
       "    </tr>\n",
       "    <tr>\n",
       "      <th>...</th>\n",
       "      <td>...</td>\n",
       "      <td>...</td>\n",
       "      <td>...</td>\n",
       "      <td>...</td>\n",
       "      <td>...</td>\n",
       "    </tr>\n",
       "    <tr>\n",
       "      <th>3917</th>\n",
       "      <td>C01327</td>\n",
       "      <td>hsa04974</td>\n",
       "      <td>7647-01-0</td>\n",
       "      <td>4538</td>\n",
       "      <td>BMG_DG136174</td>\n",
       "    </tr>\n",
       "    <tr>\n",
       "      <th>3918</th>\n",
       "      <td>C00025</td>\n",
       "      <td>hsa05033</td>\n",
       "      <td>56-86-0</td>\n",
       "      <td>3327</td>\n",
       "      <td>BMG_DG137202</td>\n",
       "    </tr>\n",
       "    <tr>\n",
       "      <th>3919</th>\n",
       "      <td>C00334</td>\n",
       "      <td>hsa05033</td>\n",
       "      <td>56-12-2</td>\n",
       "      <td>3628</td>\n",
       "      <td>BMG_DG015910</td>\n",
       "    </tr>\n",
       "    <tr>\n",
       "      <th>3920</th>\n",
       "      <td>C00745</td>\n",
       "      <td>hsa05033</td>\n",
       "      <td>54-11-5</td>\n",
       "      <td>4007</td>\n",
       "      <td>BMG_DG206831</td>\n",
       "    </tr>\n",
       "    <tr>\n",
       "      <th>3921</th>\n",
       "      <td>C01996</td>\n",
       "      <td>hsa05033</td>\n",
       "      <td>51-84-3</td>\n",
       "      <td>5093</td>\n",
       "      <td>BMG_DG111836</td>\n",
       "    </tr>\n",
       "  </tbody>\n",
       "</table>\n",
       "<p>3964 rows × 5 columns</p>\n",
       "</div>"
      ],
      "text/plain": [
       "      source pathway_id        CAS PubChem       From_ID\n",
       "0     C00022   hsa00010   127-17-3    3324  BMG_DG006378\n",
       "1     C00024   hsa00010    72-89-9    3326  BMG_DG145662\n",
       "2     C00033   hsa00010    64-19-7    3335  BMG_DG109862\n",
       "3     C00036   hsa00010   328-42-7    3338  BMG_DG215725\n",
       "4     C00068   hsa00010        NaN    3368          <NA>\n",
       "...      ...        ...        ...     ...           ...\n",
       "3917  C01327   hsa04974  7647-01-0    4538  BMG_DG136174\n",
       "3918  C00025   hsa05033    56-86-0    3327  BMG_DG137202\n",
       "3919  C00334   hsa05033    56-12-2    3628  BMG_DG015910\n",
       "3920  C00745   hsa05033    54-11-5    4007  BMG_DG206831\n",
       "3921  C01996   hsa05033    51-84-3    5093  BMG_DG111836\n",
       "\n",
       "[3964 rows x 5 columns]"
      ]
     },
     "execution_count": 9,
     "metadata": {},
     "output_type": "execute_result"
    }
   ],
   "source": [
    "def merge_string_columns(df, columns, merge_name, separator=';'):\n",
    "    def merge_strings(row):\n",
    "        combined = set()\n",
    "        for column in columns:\n",
    "            if pd.notnull(row[column]):\n",
    "                combined.update(row[column].split(separator))\n",
    "        return separator.join(combined)\n",
    "    \n",
    "    # Apply the function to each row and create a new column\n",
    "    combined_column_name = merge_name\n",
    "    df[combined_column_name] = df.apply(merge_strings, axis=1)\n",
    "    df.drop(columns=columns, inplace=True)\n",
    "    \n",
    "    return df\n",
    "\n",
    "kegg_drug_pathway = merge_string_columns(kegg_drug_pathway, ['Drug_SID', 'Drug_CAS'], 'From_ID')\n",
    "kegg_drug_pathway.replace('', pd.NA, inplace=True)\n",
    "kegg_drug_pathway"
   ]
  },
  {
   "cell_type": "code",
   "execution_count": 10,
   "metadata": {},
   "outputs": [
    {
     "data": {
      "application/vnd.microsoft.datawrangler.viewer.v0+json": {
       "columns": [
        {
         "name": "index",
         "rawType": "int64",
         "type": "integer"
        },
        {
         "name": "source",
         "rawType": "object",
         "type": "string"
        },
        {
         "name": "pathway_id",
         "rawType": "object",
         "type": "string"
        },
        {
         "name": "CAS",
         "rawType": "object",
         "type": "unknown"
        },
        {
         "name": "PubChem",
         "rawType": "object",
         "type": "string"
        },
        {
         "name": "From_ID",
         "rawType": "object",
         "type": "unknown"
        },
        {
         "name": "To_ID",
         "rawType": "object",
         "type": "string"
        }
       ],
       "conversionMethod": "pd.DataFrame",
       "ref": "491f884c-8c72-4d94-b64b-4c216916c451",
       "rows": [
        [
         "0",
         "C00022",
         "hsa00010",
         "127-17-3",
         "3324",
         "BMG_DG006378",
         "BMG_PW0025;BMG_PW0637;BMG_PW0638"
        ],
        [
         "1",
         "C00024",
         "hsa00010",
         "72-89-9",
         "3326",
         "BMG_DG145662",
         "BMG_PW0025;BMG_PW0637;BMG_PW0638"
        ],
        [
         "2",
         "C00033",
         "hsa00010",
         "64-19-7",
         "3335",
         "BMG_DG109862",
         "BMG_PW0025;BMG_PW0637;BMG_PW0638"
        ],
        [
         "3",
         "C00036",
         "hsa00010",
         "328-42-7",
         "3338",
         "BMG_DG215725",
         "BMG_PW0025;BMG_PW0637;BMG_PW0638"
        ],
        [
         "4",
         "C00068",
         "hsa00010",
         null,
         "3368",
         null,
         "BMG_PW0025;BMG_PW0637;BMG_PW0638"
        ],
        [
         "5",
         "C00074",
         "hsa00010",
         "138-08-9",
         "3374",
         "BMG_DG000433",
         "BMG_PW0025;BMG_PW0637;BMG_PW0638"
        ],
        [
         "6",
         "C00084",
         "hsa00010",
         "75-07-0",
         "3384",
         "BMG_DG109992",
         "BMG_PW0025;BMG_PW0637;BMG_PW0638"
        ],
        [
         "7",
         "C00085",
         "hsa00010",
         "643-13-0",
         "3385",
         "BMG_DG183490",
         "BMG_PW0025;BMG_PW0637;BMG_PW0638"
        ],
        [
         "8",
         "C00103",
         "hsa00010",
         "59-56-3",
         "3403",
         "BMG_DG177609",
         "BMG_PW0025;BMG_PW0637;BMG_PW0638"
        ],
        [
         "9",
         "C00111",
         "hsa00010",
         "57-04-5",
         "3411",
         "BMG_DG179456",
         "BMG_PW0025;BMG_PW0637;BMG_PW0638"
        ],
        [
         "10",
         "C00118",
         "hsa00010",
         "591-57-1",
         "3418",
         "BMG_DG142590",
         "BMG_PW0025;BMG_PW0637;BMG_PW0638"
        ],
        [
         "11",
         "C00186",
         "hsa00010",
         "79-33-4",
         "3486",
         "BMG_DG007024",
         "BMG_PW0025;BMG_PW0637;BMG_PW0638"
        ],
        [
         "12",
         "C00197",
         "hsa00010",
         null,
         "3497",
         null,
         "BMG_PW0025;BMG_PW0637;BMG_PW0638"
        ],
        [
         "13",
         "C00221",
         "hsa00010",
         "492-61-5",
         "3521",
         "BMG_DG176842",
         "BMG_PW0025;BMG_PW0637;BMG_PW0638"
        ],
        [
         "14",
         "C00236",
         "hsa00010",
         "38168-82-0",
         "3535",
         "BMG_DG142601",
         "BMG_PW0025;BMG_PW0637;BMG_PW0638"
        ],
        [
         "15",
         "C00267",
         "hsa00010",
         "492-62-6",
         "3565",
         "BMG_DG199529",
         "BMG_PW0025;BMG_PW0637;BMG_PW0638"
        ],
        [
         "16",
         "C00354",
         "hsa00010",
         "488-69-7",
         "3647",
         "BMG_DG189905;BMG_DG109267;BMG_DG004039;BMG_DG202781;BMG_DG164775",
         "BMG_PW0025;BMG_PW0637;BMG_PW0638"
        ],
        [
         "17",
         "C00469",
         "hsa00010",
         "64-17-5",
         "3752",
         "BMG_DG184802;BMG_DG258417",
         "BMG_PW0025;BMG_PW0637;BMG_PW0638"
        ],
        [
         "18",
         "C00631",
         "hsa00010",
         null,
         "3904",
         null,
         "BMG_PW0025;BMG_PW0637;BMG_PW0638"
        ],
        [
         "19",
         "C00668",
         "hsa00010",
         null,
         "3937",
         null,
         "BMG_PW0025;BMG_PW0637;BMG_PW0638"
        ],
        [
         "20",
         "C01159",
         "hsa00010",
         null,
         "4387",
         null,
         "BMG_PW0025;BMG_PW0637;BMG_PW0638"
        ],
        [
         "21",
         "C01172",
         "hsa00010",
         null,
         "4399",
         null,
         "BMG_PW0025;BMG_PW0637;BMG_PW0638"
        ],
        [
         "22",
         "C05125",
         "hsa00010",
         null,
         "7546",
         null,
         "BMG_PW0025;BMG_PW0637;BMG_PW0638"
        ],
        [
         "23",
         "C15972",
         "hsa00010",
         null,
         "47205285",
         null,
         "BMG_PW0025;BMG_PW0637;BMG_PW0638"
        ],
        [
         "24",
         "C15973",
         "hsa00010",
         null,
         "47205286",
         null,
         "BMG_PW0025;BMG_PW0637;BMG_PW0638"
        ],
        [
         "25",
         "C16255",
         "hsa00010",
         null,
         "47205563",
         null,
         "BMG_PW0025;BMG_PW0637;BMG_PW0638"
        ],
        [
         "26",
         "C00022",
         "hsa00020",
         "127-17-3",
         "3324",
         "BMG_DG006378",
         "BMG_PW0026"
        ],
        [
         "27",
         "C00024",
         "hsa00020",
         "72-89-9",
         "3326",
         "BMG_DG145662",
         "BMG_PW0026"
        ],
        [
         "28",
         "C00026",
         "hsa00020",
         "328-50-7",
         "3328",
         "BMG_DG151834",
         "BMG_PW0026"
        ],
        [
         "29",
         "C00036",
         "hsa00020",
         "328-42-7",
         "3338",
         "BMG_DG215725",
         "BMG_PW0026"
        ],
        [
         "30",
         "C00042",
         "hsa00020",
         "110-15-6",
         "3344",
         "BMG_DG009241",
         "BMG_PW0026"
        ],
        [
         "31",
         "C00068",
         "hsa00020",
         null,
         "3368",
         null,
         "BMG_PW0026"
        ],
        [
         "32",
         "C00091",
         "hsa00020",
         "604-98-8",
         "3391",
         "BMG_DG211562",
         "BMG_PW0026"
        ],
        [
         "33",
         "C00122",
         "hsa00020",
         "110-17-8",
         "3422",
         "BMG_DG145850",
         "BMG_PW0026"
        ],
        [
         "34",
         "C00149",
         "hsa00020",
         "97-67-6",
         "3449",
         "BMG_DG118403",
         "BMG_PW0026"
        ],
        [
         "35",
         "C00158",
         "hsa00020",
         "77-92-9",
         "3458",
         "BMG_DG135998",
         "BMG_PW0026"
        ],
        [
         "36",
         "C00311",
         "hsa00020",
         "320-77-4",
         "3605",
         "BMG_DG017350",
         "BMG_PW0026"
        ],
        [
         "37",
         "C00417",
         "hsa00020",
         "585-84-2",
         "3707",
         "BMG_DG175465",
         "BMG_PW0026"
        ],
        [
         "38",
         "C05125",
         "hsa00020",
         null,
         "7546",
         null,
         "BMG_PW0026"
        ],
        [
         "39",
         "C05379",
         "hsa00020",
         "1948-82-9",
         "7753",
         "BMG_DG215844",
         "BMG_PW0026"
        ],
        [
         "40",
         "C05381",
         "hsa00020",
         null,
         "7755",
         null,
         "BMG_PW0026"
        ],
        [
         "41",
         "C15972",
         "hsa00020",
         null,
         "47205285",
         null,
         "BMG_PW0026"
        ],
        [
         "42",
         "C15973",
         "hsa00020",
         null,
         "47205286",
         null,
         "BMG_PW0026"
        ],
        [
         "43",
         "C16254",
         "hsa00020",
         null,
         "47205562",
         null,
         "BMG_PW0026"
        ],
        [
         "44",
         "C16255",
         "hsa00020",
         null,
         "47205563",
         null,
         "BMG_PW0026"
        ],
        [
         "45",
         "C00085",
         "hsa00030",
         "643-13-0",
         "3385",
         "BMG_DG183490",
         "BMG_PW0044"
        ],
        [
         "46",
         "C00117",
         "hsa00030",
         "4300-28-1",
         "3417",
         "BMG_DG198695",
         "BMG_PW0044"
        ],
        [
         "47",
         "C00118",
         "hsa00030",
         "591-57-1",
         "3418",
         "BMG_DG142590",
         "BMG_PW0044"
        ],
        [
         "48",
         "C00119",
         "hsa00030",
         null,
         "3419",
         null,
         "BMG_PW0044"
        ],
        [
         "49",
         "C00121",
         "hsa00030",
         "50-69-1",
         "3421",
         "BMG_DG157360",
         "BMG_PW0044"
        ]
       ],
       "shape": {
        "columns": 6,
        "rows": 3964
       }
      },
      "text/html": [
       "<div>\n",
       "<style scoped>\n",
       "    .dataframe tbody tr th:only-of-type {\n",
       "        vertical-align: middle;\n",
       "    }\n",
       "\n",
       "    .dataframe tbody tr th {\n",
       "        vertical-align: top;\n",
       "    }\n",
       "\n",
       "    .dataframe thead th {\n",
       "        text-align: right;\n",
       "    }\n",
       "</style>\n",
       "<table border=\"1\" class=\"dataframe\">\n",
       "  <thead>\n",
       "    <tr style=\"text-align: right;\">\n",
       "      <th></th>\n",
       "      <th>source</th>\n",
       "      <th>pathway_id</th>\n",
       "      <th>CAS</th>\n",
       "      <th>PubChem</th>\n",
       "      <th>From_ID</th>\n",
       "      <th>To_ID</th>\n",
       "    </tr>\n",
       "  </thead>\n",
       "  <tbody>\n",
       "    <tr>\n",
       "      <th>0</th>\n",
       "      <td>C00022</td>\n",
       "      <td>hsa00010</td>\n",
       "      <td>127-17-3</td>\n",
       "      <td>3324</td>\n",
       "      <td>BMG_DG006378</td>\n",
       "      <td>BMG_PW0025;BMG_PW0637;BMG_PW0638</td>\n",
       "    </tr>\n",
       "    <tr>\n",
       "      <th>1</th>\n",
       "      <td>C00024</td>\n",
       "      <td>hsa00010</td>\n",
       "      <td>72-89-9</td>\n",
       "      <td>3326</td>\n",
       "      <td>BMG_DG145662</td>\n",
       "      <td>BMG_PW0025;BMG_PW0637;BMG_PW0638</td>\n",
       "    </tr>\n",
       "    <tr>\n",
       "      <th>2</th>\n",
       "      <td>C00033</td>\n",
       "      <td>hsa00010</td>\n",
       "      <td>64-19-7</td>\n",
       "      <td>3335</td>\n",
       "      <td>BMG_DG109862</td>\n",
       "      <td>BMG_PW0025;BMG_PW0637;BMG_PW0638</td>\n",
       "    </tr>\n",
       "    <tr>\n",
       "      <th>3</th>\n",
       "      <td>C00036</td>\n",
       "      <td>hsa00010</td>\n",
       "      <td>328-42-7</td>\n",
       "      <td>3338</td>\n",
       "      <td>BMG_DG215725</td>\n",
       "      <td>BMG_PW0025;BMG_PW0637;BMG_PW0638</td>\n",
       "    </tr>\n",
       "    <tr>\n",
       "      <th>4</th>\n",
       "      <td>C00068</td>\n",
       "      <td>hsa00010</td>\n",
       "      <td>NaN</td>\n",
       "      <td>3368</td>\n",
       "      <td>&lt;NA&gt;</td>\n",
       "      <td>BMG_PW0025;BMG_PW0637;BMG_PW0638</td>\n",
       "    </tr>\n",
       "    <tr>\n",
       "      <th>...</th>\n",
       "      <td>...</td>\n",
       "      <td>...</td>\n",
       "      <td>...</td>\n",
       "      <td>...</td>\n",
       "      <td>...</td>\n",
       "      <td>...</td>\n",
       "    </tr>\n",
       "    <tr>\n",
       "      <th>3917</th>\n",
       "      <td>C01327</td>\n",
       "      <td>hsa04974</td>\n",
       "      <td>7647-01-0</td>\n",
       "      <td>4538</td>\n",
       "      <td>BMG_DG136174</td>\n",
       "      <td>BMG_PW6739</td>\n",
       "    </tr>\n",
       "    <tr>\n",
       "      <th>3918</th>\n",
       "      <td>C00025</td>\n",
       "      <td>hsa05033</td>\n",
       "      <td>56-86-0</td>\n",
       "      <td>3327</td>\n",
       "      <td>BMG_DG137202</td>\n",
       "      <td>BMG_PW1028</td>\n",
       "    </tr>\n",
       "    <tr>\n",
       "      <th>3919</th>\n",
       "      <td>C00334</td>\n",
       "      <td>hsa05033</td>\n",
       "      <td>56-12-2</td>\n",
       "      <td>3628</td>\n",
       "      <td>BMG_DG015910</td>\n",
       "      <td>BMG_PW1028</td>\n",
       "    </tr>\n",
       "    <tr>\n",
       "      <th>3920</th>\n",
       "      <td>C00745</td>\n",
       "      <td>hsa05033</td>\n",
       "      <td>54-11-5</td>\n",
       "      <td>4007</td>\n",
       "      <td>BMG_DG206831</td>\n",
       "      <td>BMG_PW1028</td>\n",
       "    </tr>\n",
       "    <tr>\n",
       "      <th>3921</th>\n",
       "      <td>C01996</td>\n",
       "      <td>hsa05033</td>\n",
       "      <td>51-84-3</td>\n",
       "      <td>5093</td>\n",
       "      <td>BMG_DG111836</td>\n",
       "      <td>BMG_PW1028</td>\n",
       "    </tr>\n",
       "  </tbody>\n",
       "</table>\n",
       "<p>3964 rows × 6 columns</p>\n",
       "</div>"
      ],
      "text/plain": [
       "      source pathway_id        CAS PubChem       From_ID  \\\n",
       "0     C00022   hsa00010   127-17-3    3324  BMG_DG006378   \n",
       "1     C00024   hsa00010    72-89-9    3326  BMG_DG145662   \n",
       "2     C00033   hsa00010    64-19-7    3335  BMG_DG109862   \n",
       "3     C00036   hsa00010   328-42-7    3338  BMG_DG215725   \n",
       "4     C00068   hsa00010        NaN    3368          <NA>   \n",
       "...      ...        ...        ...     ...           ...   \n",
       "3917  C01327   hsa04974  7647-01-0    4538  BMG_DG136174   \n",
       "3918  C00025   hsa05033    56-86-0    3327  BMG_DG137202   \n",
       "3919  C00334   hsa05033    56-12-2    3628  BMG_DG015910   \n",
       "3920  C00745   hsa05033    54-11-5    4007  BMG_DG206831   \n",
       "3921  C01996   hsa05033    51-84-3    5093  BMG_DG111836   \n",
       "\n",
       "                                 To_ID  \n",
       "0     BMG_PW0025;BMG_PW0637;BMG_PW0638  \n",
       "1     BMG_PW0025;BMG_PW0637;BMG_PW0638  \n",
       "2     BMG_PW0025;BMG_PW0637;BMG_PW0638  \n",
       "3     BMG_PW0025;BMG_PW0637;BMG_PW0638  \n",
       "4     BMG_PW0025;BMG_PW0637;BMG_PW0638  \n",
       "...                                ...  \n",
       "3917                        BMG_PW6739  \n",
       "3918                        BMG_PW1028  \n",
       "3919                        BMG_PW1028  \n",
       "3920                        BMG_PW1028  \n",
       "3921                        BMG_PW1028  \n",
       "\n",
       "[3964 rows x 6 columns]"
      ]
     },
     "execution_count": 10,
     "metadata": {},
     "output_type": "execute_result"
    }
   ],
   "source": [
    "pathway_individualid = biomedgraphica_pathway[['KEGG_ID', 'BioMedGraphica_ID']]\n",
    "pathway_individualid = pathway_individualid.dropna(subset=['KEGG_ID'])\n",
    "pathway_individualid = pathway_individualid.assign(KEGG_ID=pathway_individualid['KEGG_ID'].str.split(';')).explode('KEGG_ID')\n",
    "pathway_individualid = pathway_individualid.groupby('KEGG_ID')['BioMedGraphica_ID'].apply(lambda x: ';'.join(x.dropna().unique())).to_dict()\n",
    "\n",
    "kegg_drug_pathway['To_ID'] = kegg_drug_pathway['pathway_id'].map(pathway_individualid)\n",
    "kegg_drug_pathway"
   ]
  },
  {
   "cell_type": "code",
   "execution_count": 11,
   "metadata": {},
   "outputs": [
    {
     "name": "stdout",
     "output_type": "stream",
     "text": [
      "<class 'pandas.core.frame.DataFrame'>\n",
      "Index: 2380 entries, 0 to 3921\n",
      "Data columns (total 2 columns):\n",
      " #   Column   Non-Null Count  Dtype \n",
      "---  ------   --------------  ----- \n",
      " 0   From_ID  2380 non-null   object\n",
      " 1   To_ID    2380 non-null   object\n",
      "dtypes: object(2)\n",
      "memory usage: 55.8+ KB\n"
     ]
    },
    {
     "name": "stderr",
     "output_type": "stream",
     "text": [
      "C:\\Users\\shunn\\AppData\\Local\\Temp\\ipykernel_29220\\1867787190.py:2: FutureWarning: DataFrame.applymap has been deprecated. Use DataFrame.map instead.\n",
      "  drug_pathway = drug_pathway.applymap(lambda x: x.strip() if isinstance(x, str) else x)\n"
     ]
    }
   ],
   "source": [
    "drug_pathway = kegg_drug_pathway[['From_ID', 'To_ID']]\n",
    "drug_pathway = drug_pathway.applymap(lambda x: x.strip() if isinstance(x, str) else x)\n",
    "drug_pathway.dropna(subset=['To_ID'], inplace=True)\n",
    "drug_pathway.dropna(subset=['From_ID'], inplace=True)\n",
    "drug_pathway.info()"
   ]
  },
  {
   "cell_type": "code",
   "execution_count": 12,
   "metadata": {},
   "outputs": [
    {
     "data": {
      "application/vnd.microsoft.datawrangler.viewer.v0+json": {
       "columns": [
        {
         "name": "index",
         "rawType": "int64",
         "type": "integer"
        },
        {
         "name": "From_ID",
         "rawType": "object",
         "type": "string"
        },
        {
         "name": "To_ID",
         "rawType": "object",
         "type": "string"
        }
       ],
       "conversionMethod": "pd.DataFrame",
       "ref": "fc5014c2-00e3-4ff0-9710-5df50cc63c1b",
       "rows": [
        [
         "0",
         "BMG_DG006378",
         "BMG_PW0025"
        ],
        [
         "1",
         "BMG_DG006378",
         "BMG_PW0637"
        ],
        [
         "2",
         "BMG_DG006378",
         "BMG_PW0638"
        ],
        [
         "3",
         "BMG_DG145662",
         "BMG_PW0025"
        ],
        [
         "4",
         "BMG_DG145662",
         "BMG_PW0637"
        ],
        [
         "5",
         "BMG_DG145662",
         "BMG_PW0638"
        ],
        [
         "6",
         "BMG_DG109862",
         "BMG_PW0025"
        ],
        [
         "7",
         "BMG_DG109862",
         "BMG_PW0637"
        ],
        [
         "8",
         "BMG_DG109862",
         "BMG_PW0638"
        ],
        [
         "9",
         "BMG_DG215725",
         "BMG_PW0025"
        ],
        [
         "10",
         "BMG_DG215725",
         "BMG_PW0637"
        ],
        [
         "11",
         "BMG_DG215725",
         "BMG_PW0638"
        ],
        [
         "12",
         "BMG_DG000433",
         "BMG_PW0025"
        ],
        [
         "13",
         "BMG_DG000433",
         "BMG_PW0637"
        ],
        [
         "14",
         "BMG_DG000433",
         "BMG_PW0638"
        ],
        [
         "15",
         "BMG_DG109992",
         "BMG_PW0025"
        ],
        [
         "16",
         "BMG_DG109992",
         "BMG_PW0637"
        ],
        [
         "17",
         "BMG_DG109992",
         "BMG_PW0638"
        ],
        [
         "18",
         "BMG_DG183490",
         "BMG_PW0025"
        ],
        [
         "19",
         "BMG_DG183490",
         "BMG_PW0637"
        ],
        [
         "20",
         "BMG_DG183490",
         "BMG_PW0638"
        ],
        [
         "21",
         "BMG_DG177609",
         "BMG_PW0025"
        ],
        [
         "22",
         "BMG_DG177609",
         "BMG_PW0637"
        ],
        [
         "23",
         "BMG_DG177609",
         "BMG_PW0638"
        ],
        [
         "24",
         "BMG_DG179456",
         "BMG_PW0025"
        ],
        [
         "25",
         "BMG_DG179456",
         "BMG_PW0637"
        ],
        [
         "26",
         "BMG_DG179456",
         "BMG_PW0638"
        ],
        [
         "27",
         "BMG_DG142590",
         "BMG_PW0025"
        ],
        [
         "28",
         "BMG_DG142590",
         "BMG_PW0637"
        ],
        [
         "29",
         "BMG_DG142590",
         "BMG_PW0638"
        ],
        [
         "30",
         "BMG_DG007024",
         "BMG_PW0025"
        ],
        [
         "31",
         "BMG_DG007024",
         "BMG_PW0637"
        ],
        [
         "32",
         "BMG_DG007024",
         "BMG_PW0638"
        ],
        [
         "33",
         "BMG_DG176842",
         "BMG_PW0025"
        ],
        [
         "34",
         "BMG_DG176842",
         "BMG_PW0637"
        ],
        [
         "35",
         "BMG_DG176842",
         "BMG_PW0638"
        ],
        [
         "36",
         "BMG_DG142601",
         "BMG_PW0025"
        ],
        [
         "37",
         "BMG_DG142601",
         "BMG_PW0637"
        ],
        [
         "38",
         "BMG_DG142601",
         "BMG_PW0638"
        ],
        [
         "39",
         "BMG_DG199529",
         "BMG_PW0025"
        ],
        [
         "40",
         "BMG_DG199529",
         "BMG_PW0637"
        ],
        [
         "41",
         "BMG_DG199529",
         "BMG_PW0638"
        ],
        [
         "42",
         "BMG_DG189905",
         "BMG_PW0025"
        ],
        [
         "43",
         "BMG_DG189905",
         "BMG_PW0637"
        ],
        [
         "44",
         "BMG_DG189905",
         "BMG_PW0638"
        ],
        [
         "45",
         "BMG_DG109267",
         "BMG_PW0025"
        ],
        [
         "46",
         "BMG_DG109267",
         "BMG_PW0637"
        ],
        [
         "47",
         "BMG_DG109267",
         "BMG_PW0638"
        ],
        [
         "48",
         "BMG_DG004039",
         "BMG_PW0025"
        ],
        [
         "49",
         "BMG_DG004039",
         "BMG_PW0637"
        ]
       ],
       "shape": {
        "columns": 2,
        "rows": 3065
       }
      },
      "text/html": [
       "<div>\n",
       "<style scoped>\n",
       "    .dataframe tbody tr th:only-of-type {\n",
       "        vertical-align: middle;\n",
       "    }\n",
       "\n",
       "    .dataframe tbody tr th {\n",
       "        vertical-align: top;\n",
       "    }\n",
       "\n",
       "    .dataframe thead th {\n",
       "        text-align: right;\n",
       "    }\n",
       "</style>\n",
       "<table border=\"1\" class=\"dataframe\">\n",
       "  <thead>\n",
       "    <tr style=\"text-align: right;\">\n",
       "      <th></th>\n",
       "      <th>From_ID</th>\n",
       "      <th>To_ID</th>\n",
       "    </tr>\n",
       "  </thead>\n",
       "  <tbody>\n",
       "    <tr>\n",
       "      <th>0</th>\n",
       "      <td>BMG_DG006378</td>\n",
       "      <td>BMG_PW0025</td>\n",
       "    </tr>\n",
       "    <tr>\n",
       "      <th>1</th>\n",
       "      <td>BMG_DG006378</td>\n",
       "      <td>BMG_PW0637</td>\n",
       "    </tr>\n",
       "    <tr>\n",
       "      <th>2</th>\n",
       "      <td>BMG_DG006378</td>\n",
       "      <td>BMG_PW0638</td>\n",
       "    </tr>\n",
       "    <tr>\n",
       "      <th>3</th>\n",
       "      <td>BMG_DG145662</td>\n",
       "      <td>BMG_PW0025</td>\n",
       "    </tr>\n",
       "    <tr>\n",
       "      <th>4</th>\n",
       "      <td>BMG_DG145662</td>\n",
       "      <td>BMG_PW0637</td>\n",
       "    </tr>\n",
       "    <tr>\n",
       "      <th>...</th>\n",
       "      <td>...</td>\n",
       "      <td>...</td>\n",
       "    </tr>\n",
       "    <tr>\n",
       "      <th>3060</th>\n",
       "      <td>BMG_DG136174</td>\n",
       "      <td>BMG_PW6739</td>\n",
       "    </tr>\n",
       "    <tr>\n",
       "      <th>3061</th>\n",
       "      <td>BMG_DG137202</td>\n",
       "      <td>BMG_PW1028</td>\n",
       "    </tr>\n",
       "    <tr>\n",
       "      <th>3062</th>\n",
       "      <td>BMG_DG015910</td>\n",
       "      <td>BMG_PW1028</td>\n",
       "    </tr>\n",
       "    <tr>\n",
       "      <th>3063</th>\n",
       "      <td>BMG_DG206831</td>\n",
       "      <td>BMG_PW1028</td>\n",
       "    </tr>\n",
       "    <tr>\n",
       "      <th>3064</th>\n",
       "      <td>BMG_DG111836</td>\n",
       "      <td>BMG_PW1028</td>\n",
       "    </tr>\n",
       "  </tbody>\n",
       "</table>\n",
       "<p>3065 rows × 2 columns</p>\n",
       "</div>"
      ],
      "text/plain": [
       "           From_ID       To_ID\n",
       "0     BMG_DG006378  BMG_PW0025\n",
       "1     BMG_DG006378  BMG_PW0637\n",
       "2     BMG_DG006378  BMG_PW0638\n",
       "3     BMG_DG145662  BMG_PW0025\n",
       "4     BMG_DG145662  BMG_PW0637\n",
       "...            ...         ...\n",
       "3060  BMG_DG136174  BMG_PW6739\n",
       "3061  BMG_DG137202  BMG_PW1028\n",
       "3062  BMG_DG015910  BMG_PW1028\n",
       "3063  BMG_DG206831  BMG_PW1028\n",
       "3064  BMG_DG111836  BMG_PW1028\n",
       "\n",
       "[3065 rows x 2 columns]"
      ]
     },
     "execution_count": 12,
     "metadata": {},
     "output_type": "execute_result"
    }
   ],
   "source": [
    "drug_pathway['From_ID'] = drug_pathway['From_ID'].str.split(';')\n",
    "drug_pathway = drug_pathway.explode('From_ID')\n",
    "\n",
    "drug_pathway['To_ID'] = drug_pathway['To_ID'].str.split(';')\n",
    "drug_pathway = drug_pathway.explode('To_ID')\n",
    "\n",
    "drug_pathway.drop_duplicates(inplace=True)\n",
    "drug_pathway.reset_index(drop=True, inplace=True)\n",
    "drug_pathway"
   ]
  },
  {
   "cell_type": "markdown",
   "metadata": {},
   "source": [
    "### Drug-Pathway Relation"
   ]
  },
  {
   "cell_type": "code",
   "execution_count": 13,
   "metadata": {},
   "outputs": [
    {
     "data": {
      "application/vnd.microsoft.datawrangler.viewer.v0+json": {
       "columns": [
        {
         "name": "index",
         "rawType": "int64",
         "type": "integer"
        },
        {
         "name": "BioMedGraphica_ID",
         "rawType": "object",
         "type": "string"
        },
        {
         "name": "From_ID",
         "rawType": "object",
         "type": "string"
        },
        {
         "name": "To_ID",
         "rawType": "object",
         "type": "string"
        },
        {
         "name": "Type",
         "rawType": "object",
         "type": "string"
        },
        {
         "name": "Source",
         "rawType": "object",
         "type": "string"
        }
       ],
       "conversionMethod": "pd.DataFrame",
       "ref": "6e11f4be-9aa5-42f3-b763-71f6f6a54853",
       "rows": [
        [
         "0",
         "BMG_ED_DGPW0001",
         "BMG_DG006378",
         "BMG_PW0025",
         "Drug-Pathway",
         "KEGG"
        ],
        [
         "1",
         "BMG_ED_DGPW0002",
         "BMG_DG006378",
         "BMG_PW0637",
         "Drug-Pathway",
         "KEGG"
        ],
        [
         "2",
         "BMG_ED_DGPW0003",
         "BMG_DG006378",
         "BMG_PW0638",
         "Drug-Pathway",
         "KEGG"
        ],
        [
         "3",
         "BMG_ED_DGPW0004",
         "BMG_DG145662",
         "BMG_PW0025",
         "Drug-Pathway",
         "KEGG"
        ],
        [
         "4",
         "BMG_ED_DGPW0005",
         "BMG_DG145662",
         "BMG_PW0637",
         "Drug-Pathway",
         "KEGG"
        ],
        [
         "5",
         "BMG_ED_DGPW0006",
         "BMG_DG145662",
         "BMG_PW0638",
         "Drug-Pathway",
         "KEGG"
        ],
        [
         "6",
         "BMG_ED_DGPW0007",
         "BMG_DG109862",
         "BMG_PW0025",
         "Drug-Pathway",
         "KEGG"
        ],
        [
         "7",
         "BMG_ED_DGPW0008",
         "BMG_DG109862",
         "BMG_PW0637",
         "Drug-Pathway",
         "KEGG"
        ],
        [
         "8",
         "BMG_ED_DGPW0009",
         "BMG_DG109862",
         "BMG_PW0638",
         "Drug-Pathway",
         "KEGG"
        ],
        [
         "9",
         "BMG_ED_DGPW0010",
         "BMG_DG215725",
         "BMG_PW0025",
         "Drug-Pathway",
         "KEGG"
        ],
        [
         "10",
         "BMG_ED_DGPW0011",
         "BMG_DG215725",
         "BMG_PW0637",
         "Drug-Pathway",
         "KEGG"
        ],
        [
         "11",
         "BMG_ED_DGPW0012",
         "BMG_DG215725",
         "BMG_PW0638",
         "Drug-Pathway",
         "KEGG"
        ],
        [
         "12",
         "BMG_ED_DGPW0013",
         "BMG_DG000433",
         "BMG_PW0025",
         "Drug-Pathway",
         "KEGG"
        ],
        [
         "13",
         "BMG_ED_DGPW0014",
         "BMG_DG000433",
         "BMG_PW0637",
         "Drug-Pathway",
         "KEGG"
        ],
        [
         "14",
         "BMG_ED_DGPW0015",
         "BMG_DG000433",
         "BMG_PW0638",
         "Drug-Pathway",
         "KEGG"
        ],
        [
         "15",
         "BMG_ED_DGPW0016",
         "BMG_DG109992",
         "BMG_PW0025",
         "Drug-Pathway",
         "KEGG"
        ],
        [
         "16",
         "BMG_ED_DGPW0017",
         "BMG_DG109992",
         "BMG_PW0637",
         "Drug-Pathway",
         "KEGG"
        ],
        [
         "17",
         "BMG_ED_DGPW0018",
         "BMG_DG109992",
         "BMG_PW0638",
         "Drug-Pathway",
         "KEGG"
        ],
        [
         "18",
         "BMG_ED_DGPW0019",
         "BMG_DG183490",
         "BMG_PW0025",
         "Drug-Pathway",
         "KEGG"
        ],
        [
         "19",
         "BMG_ED_DGPW0020",
         "BMG_DG183490",
         "BMG_PW0637",
         "Drug-Pathway",
         "KEGG"
        ],
        [
         "20",
         "BMG_ED_DGPW0021",
         "BMG_DG183490",
         "BMG_PW0638",
         "Drug-Pathway",
         "KEGG"
        ],
        [
         "21",
         "BMG_ED_DGPW0022",
         "BMG_DG177609",
         "BMG_PW0025",
         "Drug-Pathway",
         "KEGG"
        ],
        [
         "22",
         "BMG_ED_DGPW0023",
         "BMG_DG177609",
         "BMG_PW0637",
         "Drug-Pathway",
         "KEGG"
        ],
        [
         "23",
         "BMG_ED_DGPW0024",
         "BMG_DG177609",
         "BMG_PW0638",
         "Drug-Pathway",
         "KEGG"
        ],
        [
         "24",
         "BMG_ED_DGPW0025",
         "BMG_DG179456",
         "BMG_PW0025",
         "Drug-Pathway",
         "KEGG"
        ],
        [
         "25",
         "BMG_ED_DGPW0026",
         "BMG_DG179456",
         "BMG_PW0637",
         "Drug-Pathway",
         "KEGG"
        ],
        [
         "26",
         "BMG_ED_DGPW0027",
         "BMG_DG179456",
         "BMG_PW0638",
         "Drug-Pathway",
         "KEGG"
        ],
        [
         "27",
         "BMG_ED_DGPW0028",
         "BMG_DG142590",
         "BMG_PW0025",
         "Drug-Pathway",
         "KEGG"
        ],
        [
         "28",
         "BMG_ED_DGPW0029",
         "BMG_DG142590",
         "BMG_PW0637",
         "Drug-Pathway",
         "KEGG"
        ],
        [
         "29",
         "BMG_ED_DGPW0030",
         "BMG_DG142590",
         "BMG_PW0638",
         "Drug-Pathway",
         "KEGG"
        ],
        [
         "30",
         "BMG_ED_DGPW0031",
         "BMG_DG007024",
         "BMG_PW0025",
         "Drug-Pathway",
         "KEGG"
        ],
        [
         "31",
         "BMG_ED_DGPW0032",
         "BMG_DG007024",
         "BMG_PW0637",
         "Drug-Pathway",
         "KEGG"
        ],
        [
         "32",
         "BMG_ED_DGPW0033",
         "BMG_DG007024",
         "BMG_PW0638",
         "Drug-Pathway",
         "KEGG"
        ],
        [
         "33",
         "BMG_ED_DGPW0034",
         "BMG_DG176842",
         "BMG_PW0025",
         "Drug-Pathway",
         "KEGG"
        ],
        [
         "34",
         "BMG_ED_DGPW0035",
         "BMG_DG176842",
         "BMG_PW0637",
         "Drug-Pathway",
         "KEGG"
        ],
        [
         "35",
         "BMG_ED_DGPW0036",
         "BMG_DG176842",
         "BMG_PW0638",
         "Drug-Pathway",
         "KEGG"
        ],
        [
         "36",
         "BMG_ED_DGPW0037",
         "BMG_DG142601",
         "BMG_PW0025",
         "Drug-Pathway",
         "KEGG"
        ],
        [
         "37",
         "BMG_ED_DGPW0038",
         "BMG_DG142601",
         "BMG_PW0637",
         "Drug-Pathway",
         "KEGG"
        ],
        [
         "38",
         "BMG_ED_DGPW0039",
         "BMG_DG142601",
         "BMG_PW0638",
         "Drug-Pathway",
         "KEGG"
        ],
        [
         "39",
         "BMG_ED_DGPW0040",
         "BMG_DG199529",
         "BMG_PW0025",
         "Drug-Pathway",
         "KEGG"
        ],
        [
         "40",
         "BMG_ED_DGPW0041",
         "BMG_DG199529",
         "BMG_PW0637",
         "Drug-Pathway",
         "KEGG"
        ],
        [
         "41",
         "BMG_ED_DGPW0042",
         "BMG_DG199529",
         "BMG_PW0638",
         "Drug-Pathway",
         "KEGG"
        ],
        [
         "42",
         "BMG_ED_DGPW0043",
         "BMG_DG189905",
         "BMG_PW0025",
         "Drug-Pathway",
         "KEGG"
        ],
        [
         "43",
         "BMG_ED_DGPW0044",
         "BMG_DG189905",
         "BMG_PW0637",
         "Drug-Pathway",
         "KEGG"
        ],
        [
         "44",
         "BMG_ED_DGPW0045",
         "BMG_DG189905",
         "BMG_PW0638",
         "Drug-Pathway",
         "KEGG"
        ],
        [
         "45",
         "BMG_ED_DGPW0046",
         "BMG_DG109267",
         "BMG_PW0025",
         "Drug-Pathway",
         "KEGG"
        ],
        [
         "46",
         "BMG_ED_DGPW0047",
         "BMG_DG109267",
         "BMG_PW0637",
         "Drug-Pathway",
         "KEGG"
        ],
        [
         "47",
         "BMG_ED_DGPW0048",
         "BMG_DG109267",
         "BMG_PW0638",
         "Drug-Pathway",
         "KEGG"
        ],
        [
         "48",
         "BMG_ED_DGPW0049",
         "BMG_DG004039",
         "BMG_PW0025",
         "Drug-Pathway",
         "KEGG"
        ],
        [
         "49",
         "BMG_ED_DGPW0050",
         "BMG_DG004039",
         "BMG_PW0637",
         "Drug-Pathway",
         "KEGG"
        ]
       ],
       "shape": {
        "columns": 5,
        "rows": 3065
       }
      },
      "text/html": [
       "<div>\n",
       "<style scoped>\n",
       "    .dataframe tbody tr th:only-of-type {\n",
       "        vertical-align: middle;\n",
       "    }\n",
       "\n",
       "    .dataframe tbody tr th {\n",
       "        vertical-align: top;\n",
       "    }\n",
       "\n",
       "    .dataframe thead th {\n",
       "        text-align: right;\n",
       "    }\n",
       "</style>\n",
       "<table border=\"1\" class=\"dataframe\">\n",
       "  <thead>\n",
       "    <tr style=\"text-align: right;\">\n",
       "      <th></th>\n",
       "      <th>BioMedGraphica_ID</th>\n",
       "      <th>From_ID</th>\n",
       "      <th>To_ID</th>\n",
       "      <th>Type</th>\n",
       "      <th>Source</th>\n",
       "    </tr>\n",
       "  </thead>\n",
       "  <tbody>\n",
       "    <tr>\n",
       "      <th>0</th>\n",
       "      <td>BMG_ED_DGPW0001</td>\n",
       "      <td>BMG_DG006378</td>\n",
       "      <td>BMG_PW0025</td>\n",
       "      <td>Drug-Pathway</td>\n",
       "      <td>KEGG</td>\n",
       "    </tr>\n",
       "    <tr>\n",
       "      <th>1</th>\n",
       "      <td>BMG_ED_DGPW0002</td>\n",
       "      <td>BMG_DG006378</td>\n",
       "      <td>BMG_PW0637</td>\n",
       "      <td>Drug-Pathway</td>\n",
       "      <td>KEGG</td>\n",
       "    </tr>\n",
       "    <tr>\n",
       "      <th>2</th>\n",
       "      <td>BMG_ED_DGPW0003</td>\n",
       "      <td>BMG_DG006378</td>\n",
       "      <td>BMG_PW0638</td>\n",
       "      <td>Drug-Pathway</td>\n",
       "      <td>KEGG</td>\n",
       "    </tr>\n",
       "    <tr>\n",
       "      <th>3</th>\n",
       "      <td>BMG_ED_DGPW0004</td>\n",
       "      <td>BMG_DG145662</td>\n",
       "      <td>BMG_PW0025</td>\n",
       "      <td>Drug-Pathway</td>\n",
       "      <td>KEGG</td>\n",
       "    </tr>\n",
       "    <tr>\n",
       "      <th>4</th>\n",
       "      <td>BMG_ED_DGPW0005</td>\n",
       "      <td>BMG_DG145662</td>\n",
       "      <td>BMG_PW0637</td>\n",
       "      <td>Drug-Pathway</td>\n",
       "      <td>KEGG</td>\n",
       "    </tr>\n",
       "    <tr>\n",
       "      <th>...</th>\n",
       "      <td>...</td>\n",
       "      <td>...</td>\n",
       "      <td>...</td>\n",
       "      <td>...</td>\n",
       "      <td>...</td>\n",
       "    </tr>\n",
       "    <tr>\n",
       "      <th>3060</th>\n",
       "      <td>BMG_ED_DGPW3061</td>\n",
       "      <td>BMG_DG136174</td>\n",
       "      <td>BMG_PW6739</td>\n",
       "      <td>Drug-Pathway</td>\n",
       "      <td>KEGG</td>\n",
       "    </tr>\n",
       "    <tr>\n",
       "      <th>3061</th>\n",
       "      <td>BMG_ED_DGPW3062</td>\n",
       "      <td>BMG_DG137202</td>\n",
       "      <td>BMG_PW1028</td>\n",
       "      <td>Drug-Pathway</td>\n",
       "      <td>KEGG</td>\n",
       "    </tr>\n",
       "    <tr>\n",
       "      <th>3062</th>\n",
       "      <td>BMG_ED_DGPW3063</td>\n",
       "      <td>BMG_DG015910</td>\n",
       "      <td>BMG_PW1028</td>\n",
       "      <td>Drug-Pathway</td>\n",
       "      <td>KEGG</td>\n",
       "    </tr>\n",
       "    <tr>\n",
       "      <th>3063</th>\n",
       "      <td>BMG_ED_DGPW3064</td>\n",
       "      <td>BMG_DG206831</td>\n",
       "      <td>BMG_PW1028</td>\n",
       "      <td>Drug-Pathway</td>\n",
       "      <td>KEGG</td>\n",
       "    </tr>\n",
       "    <tr>\n",
       "      <th>3064</th>\n",
       "      <td>BMG_ED_DGPW3065</td>\n",
       "      <td>BMG_DG111836</td>\n",
       "      <td>BMG_PW1028</td>\n",
       "      <td>Drug-Pathway</td>\n",
       "      <td>KEGG</td>\n",
       "    </tr>\n",
       "  </tbody>\n",
       "</table>\n",
       "<p>3065 rows × 5 columns</p>\n",
       "</div>"
      ],
      "text/plain": [
       "     BioMedGraphica_ID       From_ID       To_ID          Type Source\n",
       "0      BMG_ED_DGPW0001  BMG_DG006378  BMG_PW0025  Drug-Pathway   KEGG\n",
       "1      BMG_ED_DGPW0002  BMG_DG006378  BMG_PW0637  Drug-Pathway   KEGG\n",
       "2      BMG_ED_DGPW0003  BMG_DG006378  BMG_PW0638  Drug-Pathway   KEGG\n",
       "3      BMG_ED_DGPW0004  BMG_DG145662  BMG_PW0025  Drug-Pathway   KEGG\n",
       "4      BMG_ED_DGPW0005  BMG_DG145662  BMG_PW0637  Drug-Pathway   KEGG\n",
       "...                ...           ...         ...           ...    ...\n",
       "3060   BMG_ED_DGPW3061  BMG_DG136174  BMG_PW6739  Drug-Pathway   KEGG\n",
       "3061   BMG_ED_DGPW3062  BMG_DG137202  BMG_PW1028  Drug-Pathway   KEGG\n",
       "3062   BMG_ED_DGPW3063  BMG_DG015910  BMG_PW1028  Drug-Pathway   KEGG\n",
       "3063   BMG_ED_DGPW3064  BMG_DG206831  BMG_PW1028  Drug-Pathway   KEGG\n",
       "3064   BMG_ED_DGPW3065  BMG_DG111836  BMG_PW1028  Drug-Pathway   KEGG\n",
       "\n",
       "[3065 rows x 5 columns]"
      ]
     },
     "execution_count": 13,
     "metadata": {},
     "output_type": "execute_result"
    }
   ],
   "source": [
    "drug_pathway['Type'] = 'Drug-Pathway'\n",
    "drug_pathway['Source'] = 'KEGG'\n",
    "\n",
    "max_length = len(str(len(drug_pathway)))\n",
    "drug_pathway['BioMedGraphica_ID'] = ['BMG_ED_DGPW' + str(i).zfill(max_length) for i in range(1, len(drug_pathway) + 1)]\n",
    "columns = ['BioMedGraphica_ID'] + [col for col in drug_pathway.columns if col != 'BioMedGraphica_ID']  # re-order columns\n",
    "drug_pathway = drug_pathway[columns]\n",
    "drug_pathway"
   ]
  },
  {
   "cell_type": "code",
   "execution_count": 14,
   "metadata": {},
   "outputs": [
    {
     "name": "stdout",
     "output_type": "stream",
     "text": [
      "Data has been saved to D:\\RA\\BMG\\BioMedGraphica\\Relation\\Drug-Pathway\\BioMedGraphica_Drug_Pathway.csv\n"
     ]
    }
   ],
   "source": [
    "import os\n",
    "from pathlib import Path\n",
    "\n",
    "# get the current working directory\n",
    "current_working_dir = Path(os.getcwd()).resolve()\n",
    "\n",
    "# get the output directory\n",
    "grandparent_dir = current_working_dir.parent.parent.parent\n",
    "\n",
    "target_folder = grandparent_dir / 'BioMedGraphica' / 'Relation' / 'Drug-Pathway'\n",
    "if not target_folder.exists():\n",
    "    target_folder.mkdir(parents=True)\n",
    "    print(f\"Folder {target_folder} has been created.\")\n",
    "\n",
    "output_file_path = target_folder / 'BioMedGraphica_Drug_Pathway.csv'\n",
    "drug_pathway.to_csv(output_file_path, index=False)\n",
    "print(f\"Data has been saved to {output_file_path}\")"
   ]
  }
 ],
 "metadata": {
  "kernelspec": {
   "display_name": "base",
   "language": "python",
   "name": "python3"
  },
  "language_info": {
   "codemirror_mode": {
    "name": "ipython",
    "version": 3
   },
   "file_extension": ".py",
   "mimetype": "text/x-python",
   "name": "python",
   "nbconvert_exporter": "python",
   "pygments_lexer": "ipython3",
   "version": "3.9.19"
  }
 },
 "nbformat": 4,
 "nbformat_minor": 2
}
