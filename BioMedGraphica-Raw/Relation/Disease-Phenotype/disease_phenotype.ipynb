{
 "cells": [
  {
   "cell_type": "markdown",
   "metadata": {},
   "source": [
    "### HPO"
   ]
  },
  {
   "cell_type": "code",
   "execution_count": 1,
   "metadata": {},
   "outputs": [
    {
     "name": "stderr",
     "output_type": "stream",
     "text": [
      "C:\\Users\\shunn\\AppData\\Local\\Temp\\ipykernel_10116\\3705677355.py:6: DtypeWarning: Columns (2,6,8,9) have mixed types. Specify dtype option on import or set low_memory=False.\n",
      "  df_hpo= pd.read_csv('phenotype.hpoa', delimiter='\\t', comment='#')\n"
     ]
    },
    {
     "data": {
      "application/vnd.microsoft.datawrangler.viewer.v0+json": {
       "columns": [
        {
         "name": "index",
         "rawType": "int64",
         "type": "integer"
        },
        {
         "name": "database_id",
         "rawType": "object",
         "type": "string"
        },
        {
         "name": "hpo_id",
         "rawType": "object",
         "type": "string"
        }
       ],
       "conversionMethod": "pd.DataFrame",
       "ref": "680c3583-1bd0-4250-ac14-22018f12d99a",
       "rows": [
        [
         "0",
         "619340",
         "HP:0011097"
        ],
        [
         "1",
         "619340",
         "HP:0002187"
        ],
        [
         "2",
         "619340",
         "HP:0001518"
        ],
        [
         "3",
         "619340",
         "HP:0032792"
        ],
        [
         "4",
         "619340",
         "HP:0011451"
        ],
        [
         "5",
         "619340",
         "HP:0010851"
        ],
        [
         "6",
         "619340",
         "HP:0001789"
        ],
        [
         "7",
         "619340",
         "HP:0200134"
        ],
        [
         "8",
         "619340",
         "HP:0001522"
        ],
        [
         "9",
         "619340",
         "HP:0000006"
        ],
        [
         "10",
         "619340",
         "HP:0002643"
        ],
        [
         "11",
         "609153",
         "HP:0002378"
        ],
        [
         "12",
         "609153",
         "HP:0003324"
        ],
        [
         "13",
         "609153",
         "HP:0002153"
        ],
        [
         "14",
         "609153",
         "HP:0003394"
        ],
        [
         "15",
         "609153",
         "HP:0001878"
        ],
        [
         "16",
         "609153",
         "HP:0003768"
        ],
        [
         "17",
         "609153",
         "HP:0000006"
        ],
        [
         "18",
         "614102",
         "HP:0002014"
        ],
        [
         "19",
         "614102",
         "HP:6000261"
        ],
        [
         "20",
         "614102",
         "HP:0002719"
        ],
        [
         "21",
         "614102",
         "HP:0011463"
        ],
        [
         "22",
         "614102",
         "HP:0000007"
        ],
        [
         "23",
         "614102",
         "HP:0002205"
        ],
        [
         "24",
         "614102",
         "HP:0002028"
        ],
        [
         "25",
         "619426",
         "HP:0000286"
        ],
        [
         "26",
         "619426",
         "HP:0010804"
        ],
        [
         "27",
         "619426",
         "HP:0006989"
        ],
        [
         "28",
         "619426",
         "HP:0001252"
        ],
        [
         "29",
         "619426",
         "HP:0003196"
        ],
        [
         "30",
         "619426",
         "HP:0003593"
        ],
        [
         "31",
         "619426",
         "HP:0000085"
        ],
        [
         "32",
         "619426",
         "HP:0002020"
        ],
        [
         "33",
         "619426",
         "HP:0012745"
        ],
        [
         "34",
         "619426",
         "HP:0000639"
        ],
        [
         "35",
         "619426",
         "HP:0011463"
        ],
        [
         "36",
         "619426",
         "HP:0020045"
        ],
        [
         "37",
         "619426",
         "HP:0000637"
        ],
        [
         "38",
         "619426",
         "HP:0000278"
        ],
        [
         "39",
         "619426",
         "HP:0001249"
        ],
        [
         "40",
         "619426",
         "HP:0020206"
        ],
        [
         "41",
         "619426",
         "HP:0001385"
        ],
        [
         "42",
         "619426",
         "HP:0000574"
        ],
        [
         "43",
         "619426",
         "HP:0002870"
        ],
        [
         "44",
         "619426",
         "HP:0000293"
        ],
        [
         "45",
         "619426",
         "HP:0001382"
        ],
        [
         "46",
         "619426",
         "HP:0011800"
        ],
        [
         "47",
         "619426",
         "HP:0011330"
        ],
        [
         "48",
         "619426",
         "HP:0000601"
        ],
        [
         "49",
         "619426",
         "HP:0000403"
        ]
       ],
       "shape": {
        "columns": 2,
        "rows": 155989
       }
      },
      "text/html": [
       "<div>\n",
       "<style scoped>\n",
       "    .dataframe tbody tr th:only-of-type {\n",
       "        vertical-align: middle;\n",
       "    }\n",
       "\n",
       "    .dataframe tbody tr th {\n",
       "        vertical-align: top;\n",
       "    }\n",
       "\n",
       "    .dataframe thead th {\n",
       "        text-align: right;\n",
       "    }\n",
       "</style>\n",
       "<table border=\"1\" class=\"dataframe\">\n",
       "  <thead>\n",
       "    <tr style=\"text-align: right;\">\n",
       "      <th></th>\n",
       "      <th>database_id</th>\n",
       "      <th>hpo_id</th>\n",
       "    </tr>\n",
       "  </thead>\n",
       "  <tbody>\n",
       "    <tr>\n",
       "      <th>0</th>\n",
       "      <td>619340</td>\n",
       "      <td>HP:0011097</td>\n",
       "    </tr>\n",
       "    <tr>\n",
       "      <th>1</th>\n",
       "      <td>619340</td>\n",
       "      <td>HP:0002187</td>\n",
       "    </tr>\n",
       "    <tr>\n",
       "      <th>2</th>\n",
       "      <td>619340</td>\n",
       "      <td>HP:0001518</td>\n",
       "    </tr>\n",
       "    <tr>\n",
       "      <th>3</th>\n",
       "      <td>619340</td>\n",
       "      <td>HP:0032792</td>\n",
       "    </tr>\n",
       "    <tr>\n",
       "      <th>4</th>\n",
       "      <td>619340</td>\n",
       "      <td>HP:0011451</td>\n",
       "    </tr>\n",
       "    <tr>\n",
       "      <th>...</th>\n",
       "      <td>...</td>\n",
       "      <td>...</td>\n",
       "    </tr>\n",
       "    <tr>\n",
       "      <th>156811</th>\n",
       "      <td>611705</td>\n",
       "      <td>HP:0000508</td>\n",
       "    </tr>\n",
       "    <tr>\n",
       "      <th>156812</th>\n",
       "      <td>611705</td>\n",
       "      <td>HP:0000007</td>\n",
       "    </tr>\n",
       "    <tr>\n",
       "      <th>156813</th>\n",
       "      <td>611705</td>\n",
       "      <td>HP:0001635</td>\n",
       "    </tr>\n",
       "    <tr>\n",
       "      <th>156814</th>\n",
       "      <td>611705</td>\n",
       "      <td>HP:0001678</td>\n",
       "    </tr>\n",
       "    <tr>\n",
       "      <th>156815</th>\n",
       "      <td>611705</td>\n",
       "      <td>HP:0003557</td>\n",
       "    </tr>\n",
       "  </tbody>\n",
       "</table>\n",
       "<p>155989 rows × 2 columns</p>\n",
       "</div>"
      ],
      "text/plain": [
       "       database_id      hpo_id\n",
       "0           619340  HP:0011097\n",
       "1           619340  HP:0002187\n",
       "2           619340  HP:0001518\n",
       "3           619340  HP:0032792\n",
       "4           619340  HP:0011451\n",
       "...            ...         ...\n",
       "156811      611705  HP:0000508\n",
       "156812      611705  HP:0000007\n",
       "156813      611705  HP:0001635\n",
       "156814      611705  HP:0001678\n",
       "156815      611705  HP:0003557\n",
       "\n",
       "[155989 rows x 2 columns]"
      ]
     },
     "execution_count": 1,
     "metadata": {},
     "output_type": "execute_result"
    }
   ],
   "source": [
    "# Download Link: https://github.com/obophenotype/human-phenotype-ontology/releases/download/2025-03-03/phenotype.hpoa\n",
    "# Download Date: 2025-03-21\n",
    "# Download Version: 2025-03-03\n",
    "import pandas as pd\n",
    "\n",
    "df_hpo= pd.read_csv('phenotype.hpoa', delimiter='\\t', comment='#')\n",
    "df_hpo_omim = df_hpo[df_hpo['database_id'].str.startswith('OMIM')]\n",
    "df_hpo_omim = df_hpo_omim[['database_id', 'hpo_id']]\n",
    "df_hpo_omim['database_id'] = df_hpo_omim['database_id'].str.replace('OMIM:', '')\n",
    "df_hpo_omim.drop_duplicates(inplace=True)\n",
    "df_hpo_omim"
   ]
  },
  {
   "cell_type": "markdown",
   "metadata": {},
   "source": [
    "## BioMedgraphica ID"
   ]
  },
  {
   "cell_type": "code",
   "execution_count": 2,
   "metadata": {},
   "outputs": [],
   "source": [
    "import pandas as pd\n",
    "import os\n",
    "from pathlib import Path\n",
    "\n",
    "current_working_dir = Path(os.getcwd()).resolve()\n",
    "grandparent_dir = current_working_dir.parent.parent.parent\n",
    "target_dir_phenotype = grandparent_dir / 'BioMedGraphica' / 'Entity' / 'Phenotype' / 'BioMedGraphica_Phenotype.csv'\n",
    "target_dir_disease = grandparent_dir / 'BioMedGraphica' / 'Entity' / 'Disease' / 'BioMedGraphica_Disease.csv'\n",
    "biomedgraphica_phenotype = pd.read_csv(target_dir_phenotype, dtype=str)\n",
    "biomedgraphica_disease = pd.read_csv(target_dir_disease, dtype=str)"
   ]
  },
  {
   "cell_type": "markdown",
   "metadata": {},
   "source": [
    "## HPO Mapping"
   ]
  },
  {
   "cell_type": "code",
   "execution_count": 3,
   "metadata": {},
   "outputs": [
    {
     "data": {
      "application/vnd.microsoft.datawrangler.viewer.v0+json": {
       "columns": [
        {
         "name": "index",
         "rawType": "int64",
         "type": "integer"
        },
        {
         "name": "database_id",
         "rawType": "object",
         "type": "string"
        },
        {
         "name": "hpo_id",
         "rawType": "object",
         "type": "string"
        },
        {
         "name": "To_ID",
         "rawType": "object",
         "type": "string"
        }
       ],
       "conversionMethod": "pd.DataFrame",
       "ref": "009959ac-b9e6-4511-9c18-c9ce21c71396",
       "rows": [
        [
         "0",
         "619340",
         "HP:0011097",
         "BMG_PH07758"
        ],
        [
         "1",
         "619340",
         "HP:0002187",
         "BMG_PH01650"
        ],
        [
         "2",
         "619340",
         "HP:0001518",
         "BMG_PH01149"
        ],
        [
         "3",
         "619340",
         "HP:0032792",
         "BMG_PH13238"
        ],
        [
         "4",
         "619340",
         "HP:0011451",
         "BMG_PH08108"
        ],
        [
         "5",
         "619340",
         "HP:0010851",
         "BMG_PH07518"
        ],
        [
         "6",
         "619340",
         "HP:0001789",
         "BMG_PH01337"
        ],
        [
         "7",
         "619340",
         "HP:0200134",
         "BMG_PH17048"
        ],
        [
         "8",
         "619340",
         "HP:0001522",
         "BMG_PH01152"
        ],
        [
         "9",
         "619340",
         "HP:0000006",
         "BMG_PH00004"
        ],
        [
         "10",
         "619340",
         "HP:0002643",
         "BMG_PH01967"
        ],
        [
         "11",
         "609153",
         "HP:0002378",
         "BMG_PH01792"
        ],
        [
         "12",
         "609153",
         "HP:0003324",
         "BMG_PH02464"
        ],
        [
         "13",
         "609153",
         "HP:0002153",
         "BMG_PH01623"
        ],
        [
         "14",
         "609153",
         "HP:0003394",
         "BMG_PH02517"
        ],
        [
         "15",
         "609153",
         "HP:0001878",
         "BMG_PH01400"
        ],
        [
         "16",
         "609153",
         "HP:0003768",
         "BMG_PH02738"
        ],
        [
         "17",
         "609153",
         "HP:0000006",
         "BMG_PH00004"
        ],
        [
         "18",
         "614102",
         "HP:0002014",
         "BMG_PH01514"
        ],
        [
         "19",
         "614102",
         "HP:6000261",
         "BMG_PH18591"
        ],
        [
         "20",
         "614102",
         "HP:0002719",
         "BMG_PH02026"
        ],
        [
         "21",
         "614102",
         "HP:0011463",
         "BMG_PH08120"
        ],
        [
         "22",
         "614102",
         "HP:0000007",
         "BMG_PH00005"
        ],
        [
         "23",
         "614102",
         "HP:0002205",
         "BMG_PH01666"
        ],
        [
         "24",
         "614102",
         "HP:0002028",
         "BMG_PH01525"
        ],
        [
         "25",
         "619426",
         "HP:0000286",
         "BMG_PH00236"
        ],
        [
         "26",
         "619426",
         "HP:0010804",
         "BMG_PH07473"
        ],
        [
         "27",
         "619426",
         "HP:0006989",
         "BMG_PH04687"
        ],
        [
         "28",
         "619426",
         "HP:0001252",
         "BMG_PH00973"
        ],
        [
         "29",
         "619426",
         "HP:0003196",
         "BMG_PH02366"
        ],
        [
         "30",
         "619426",
         "HP:0003593",
         "BMG_PH02645"
        ],
        [
         "31",
         "619426",
         "HP:0000085",
         "BMG_PH00078"
        ],
        [
         "32",
         "619426",
         "HP:0002020",
         "BMG_PH01519"
        ],
        [
         "33",
         "619426",
         "HP:0012745",
         "BMG_PH09396"
        ],
        [
         "34",
         "619426",
         "HP:0000639",
         "BMG_PH00505"
        ],
        [
         "35",
         "619426",
         "HP:0011463",
         "BMG_PH08120"
        ],
        [
         "36",
         "619426",
         "HP:0020045",
         "BMG_PH09567"
        ],
        [
         "37",
         "619426",
         "HP:0000637",
         "BMG_PH00504"
        ],
        [
         "38",
         "619426",
         "HP:0000278",
         "BMG_PH00231"
        ],
        [
         "39",
         "619426",
         "HP:0001249",
         "BMG_PH00970"
        ],
        [
         "40",
         "619426",
         "HP:0020206",
         "BMG_PH09708"
        ],
        [
         "41",
         "619426",
         "HP:0001385",
         "BMG_PH01064"
        ],
        [
         "42",
         "619426",
         "HP:0000574",
         "BMG_PH00449"
        ],
        [
         "43",
         "619426",
         "HP:0002870",
         "BMG_PH02135"
        ],
        [
         "44",
         "619426",
         "HP:0000293",
         "BMG_PH00243"
        ],
        [
         "45",
         "619426",
         "HP:0001382",
         "BMG_PH01062"
        ],
        [
         "46",
         "619426",
         "HP:0011800",
         "BMG_PH08457"
        ],
        [
         "47",
         "619426",
         "HP:0011330",
         "BMG_PH07988"
        ],
        [
         "48",
         "619426",
         "HP:0000601",
         "BMG_PH00472"
        ],
        [
         "49",
         "619426",
         "HP:0000403",
         "BMG_PH00315"
        ]
       ],
       "shape": {
        "columns": 3,
        "rows": 155989
       }
      },
      "text/html": [
       "<div>\n",
       "<style scoped>\n",
       "    .dataframe tbody tr th:only-of-type {\n",
       "        vertical-align: middle;\n",
       "    }\n",
       "\n",
       "    .dataframe tbody tr th {\n",
       "        vertical-align: top;\n",
       "    }\n",
       "\n",
       "    .dataframe thead th {\n",
       "        text-align: right;\n",
       "    }\n",
       "</style>\n",
       "<table border=\"1\" class=\"dataframe\">\n",
       "  <thead>\n",
       "    <tr style=\"text-align: right;\">\n",
       "      <th></th>\n",
       "      <th>database_id</th>\n",
       "      <th>hpo_id</th>\n",
       "      <th>To_ID</th>\n",
       "    </tr>\n",
       "  </thead>\n",
       "  <tbody>\n",
       "    <tr>\n",
       "      <th>0</th>\n",
       "      <td>619340</td>\n",
       "      <td>HP:0011097</td>\n",
       "      <td>BMG_PH07758</td>\n",
       "    </tr>\n",
       "    <tr>\n",
       "      <th>1</th>\n",
       "      <td>619340</td>\n",
       "      <td>HP:0002187</td>\n",
       "      <td>BMG_PH01650</td>\n",
       "    </tr>\n",
       "    <tr>\n",
       "      <th>2</th>\n",
       "      <td>619340</td>\n",
       "      <td>HP:0001518</td>\n",
       "      <td>BMG_PH01149</td>\n",
       "    </tr>\n",
       "    <tr>\n",
       "      <th>3</th>\n",
       "      <td>619340</td>\n",
       "      <td>HP:0032792</td>\n",
       "      <td>BMG_PH13238</td>\n",
       "    </tr>\n",
       "    <tr>\n",
       "      <th>4</th>\n",
       "      <td>619340</td>\n",
       "      <td>HP:0011451</td>\n",
       "      <td>BMG_PH08108</td>\n",
       "    </tr>\n",
       "    <tr>\n",
       "      <th>...</th>\n",
       "      <td>...</td>\n",
       "      <td>...</td>\n",
       "      <td>...</td>\n",
       "    </tr>\n",
       "    <tr>\n",
       "      <th>156811</th>\n",
       "      <td>611705</td>\n",
       "      <td>HP:0000508</td>\n",
       "      <td>BMG_PH00393</td>\n",
       "    </tr>\n",
       "    <tr>\n",
       "      <th>156812</th>\n",
       "      <td>611705</td>\n",
       "      <td>HP:0000007</td>\n",
       "      <td>BMG_PH00005</td>\n",
       "    </tr>\n",
       "    <tr>\n",
       "      <th>156813</th>\n",
       "      <td>611705</td>\n",
       "      <td>HP:0001635</td>\n",
       "      <td>BMG_PH01221</td>\n",
       "    </tr>\n",
       "    <tr>\n",
       "      <th>156814</th>\n",
       "      <td>611705</td>\n",
       "      <td>HP:0001678</td>\n",
       "      <td>BMG_PH01257</td>\n",
       "    </tr>\n",
       "    <tr>\n",
       "      <th>156815</th>\n",
       "      <td>611705</td>\n",
       "      <td>HP:0003557</td>\n",
       "      <td>BMG_PH02624</td>\n",
       "    </tr>\n",
       "  </tbody>\n",
       "</table>\n",
       "<p>155989 rows × 3 columns</p>\n",
       "</div>"
      ],
      "text/plain": [
       "       database_id      hpo_id        To_ID\n",
       "0           619340  HP:0011097  BMG_PH07758\n",
       "1           619340  HP:0002187  BMG_PH01650\n",
       "2           619340  HP:0001518  BMG_PH01149\n",
       "3           619340  HP:0032792  BMG_PH13238\n",
       "4           619340  HP:0011451  BMG_PH08108\n",
       "...            ...         ...          ...\n",
       "156811      611705  HP:0000508  BMG_PH00393\n",
       "156812      611705  HP:0000007  BMG_PH00005\n",
       "156813      611705  HP:0001635  BMG_PH01221\n",
       "156814      611705  HP:0001678  BMG_PH01257\n",
       "156815      611705  HP:0003557  BMG_PH02624\n",
       "\n",
       "[155989 rows x 3 columns]"
      ]
     },
     "execution_count": 3,
     "metadata": {},
     "output_type": "execute_result"
    }
   ],
   "source": [
    "hpo_individual = biomedgraphica_phenotype[['HPO_ID', 'BioMedGraphica_ID']]\n",
    "hpo_individual = hpo_individual.dropna(subset=['HPO_ID'])\n",
    "hpo_individual['HPO_ID'] = hpo_individual['HPO_ID'].str.split(';')\n",
    "hpo_individual = hpo_individual.explode('HPO_ID')\n",
    "hpo_individual = hpo_individual.drop_duplicates()\n",
    "\n",
    "hpo_to_individual = hpo_individual.groupby('HPO_ID')['BioMedGraphica_ID'].apply(lambda x: ';'.join(x.dropna().unique())).to_dict()\n",
    "df_hpo_omim['To_ID'] = df_hpo_omim['hpo_id'].map(hpo_to_individual)\n",
    "df_hpo_omim"
   ]
  },
  {
   "cell_type": "code",
   "execution_count": 4,
   "metadata": {},
   "outputs": [
    {
     "data": {
      "application/vnd.microsoft.datawrangler.viewer.v0+json": {
       "columns": [
        {
         "name": "index",
         "rawType": "int64",
         "type": "integer"
        },
        {
         "name": "database_id",
         "rawType": "object",
         "type": "string"
        },
        {
         "name": "hpo_id",
         "rawType": "object",
         "type": "string"
        },
        {
         "name": "To_ID",
         "rawType": "object",
         "type": "string"
        },
        {
         "name": "From_ID",
         "rawType": "object",
         "type": "unknown"
        }
       ],
       "conversionMethod": "pd.DataFrame",
       "ref": "128b53f4-92c1-4670-b219-87b3ccaee866",
       "rows": [
        [
         "0",
         "619340",
         "HP:0011097",
         "BMG_PH07758",
         "BMG_DS070605"
        ],
        [
         "1",
         "619340",
         "HP:0002187",
         "BMG_PH01650",
         "BMG_DS070605"
        ],
        [
         "2",
         "619340",
         "HP:0001518",
         "BMG_PH01149",
         "BMG_DS070605"
        ],
        [
         "3",
         "619340",
         "HP:0032792",
         "BMG_PH13238",
         "BMG_DS070605"
        ],
        [
         "4",
         "619340",
         "HP:0011451",
         "BMG_PH08108",
         "BMG_DS070605"
        ],
        [
         "5",
         "619340",
         "HP:0010851",
         "BMG_PH07518",
         "BMG_DS070605"
        ],
        [
         "6",
         "619340",
         "HP:0001789",
         "BMG_PH01337",
         "BMG_DS070605"
        ],
        [
         "7",
         "619340",
         "HP:0200134",
         "BMG_PH17048",
         "BMG_DS070605"
        ],
        [
         "8",
         "619340",
         "HP:0001522",
         "BMG_PH01152",
         "BMG_DS070605"
        ],
        [
         "9",
         "619340",
         "HP:0000006",
         "BMG_PH00004",
         "BMG_DS070605"
        ],
        [
         "10",
         "619340",
         "HP:0002643",
         "BMG_PH01967",
         "BMG_DS070605"
        ],
        [
         "11",
         "609153",
         "HP:0002378",
         "BMG_PH01792",
         "BMG_DS038120"
        ],
        [
         "12",
         "609153",
         "HP:0003324",
         "BMG_PH02464",
         "BMG_DS038120"
        ],
        [
         "13",
         "609153",
         "HP:0002153",
         "BMG_PH01623",
         "BMG_DS038120"
        ],
        [
         "14",
         "609153",
         "HP:0003394",
         "BMG_PH02517",
         "BMG_DS038120"
        ],
        [
         "15",
         "609153",
         "HP:0001878",
         "BMG_PH01400",
         "BMG_DS038120"
        ],
        [
         "16",
         "609153",
         "HP:0003768",
         "BMG_PH02738",
         "BMG_DS038120"
        ],
        [
         "17",
         "609153",
         "HP:0000006",
         "BMG_PH00004",
         "BMG_DS038120"
        ],
        [
         "18",
         "614102",
         "HP:0002014",
         "BMG_PH01514",
         "BMG_DS054799"
        ],
        [
         "19",
         "614102",
         "HP:6000261",
         "BMG_PH18591",
         "BMG_DS054799"
        ],
        [
         "20",
         "614102",
         "HP:0002719",
         "BMG_PH02026",
         "BMG_DS054799"
        ],
        [
         "21",
         "614102",
         "HP:0011463",
         "BMG_PH08120",
         "BMG_DS054799"
        ],
        [
         "22",
         "614102",
         "HP:0000007",
         "BMG_PH00005",
         "BMG_DS054799"
        ],
        [
         "23",
         "614102",
         "HP:0002205",
         "BMG_PH01666",
         "BMG_DS054799"
        ],
        [
         "24",
         "614102",
         "HP:0002028",
         "BMG_PH01525",
         "BMG_DS054799"
        ],
        [
         "25",
         "619426",
         "HP:0000286",
         "BMG_PH00236",
         "BMG_DS070644"
        ],
        [
         "26",
         "619426",
         "HP:0010804",
         "BMG_PH07473",
         "BMG_DS070644"
        ],
        [
         "27",
         "619426",
         "HP:0006989",
         "BMG_PH04687",
         "BMG_DS070644"
        ],
        [
         "28",
         "619426",
         "HP:0001252",
         "BMG_PH00973",
         "BMG_DS070644"
        ],
        [
         "29",
         "619426",
         "HP:0003196",
         "BMG_PH02366",
         "BMG_DS070644"
        ],
        [
         "30",
         "619426",
         "HP:0003593",
         "BMG_PH02645",
         "BMG_DS070644"
        ],
        [
         "31",
         "619426",
         "HP:0000085",
         "BMG_PH00078",
         "BMG_DS070644"
        ],
        [
         "32",
         "619426",
         "HP:0002020",
         "BMG_PH01519",
         "BMG_DS070644"
        ],
        [
         "33",
         "619426",
         "HP:0012745",
         "BMG_PH09396",
         "BMG_DS070644"
        ],
        [
         "34",
         "619426",
         "HP:0000639",
         "BMG_PH00505",
         "BMG_DS070644"
        ],
        [
         "35",
         "619426",
         "HP:0011463",
         "BMG_PH08120",
         "BMG_DS070644"
        ],
        [
         "36",
         "619426",
         "HP:0020045",
         "BMG_PH09567",
         "BMG_DS070644"
        ],
        [
         "37",
         "619426",
         "HP:0000637",
         "BMG_PH00504",
         "BMG_DS070644"
        ],
        [
         "38",
         "619426",
         "HP:0000278",
         "BMG_PH00231",
         "BMG_DS070644"
        ],
        [
         "39",
         "619426",
         "HP:0001249",
         "BMG_PH00970",
         "BMG_DS070644"
        ],
        [
         "40",
         "619426",
         "HP:0020206",
         "BMG_PH09708",
         "BMG_DS070644"
        ],
        [
         "41",
         "619426",
         "HP:0001385",
         "BMG_PH01064",
         "BMG_DS070644"
        ],
        [
         "42",
         "619426",
         "HP:0000574",
         "BMG_PH00449",
         "BMG_DS070644"
        ],
        [
         "43",
         "619426",
         "HP:0002870",
         "BMG_PH02135",
         "BMG_DS070644"
        ],
        [
         "44",
         "619426",
         "HP:0000293",
         "BMG_PH00243",
         "BMG_DS070644"
        ],
        [
         "45",
         "619426",
         "HP:0001382",
         "BMG_PH01062",
         "BMG_DS070644"
        ],
        [
         "46",
         "619426",
         "HP:0011800",
         "BMG_PH08457",
         "BMG_DS070644"
        ],
        [
         "47",
         "619426",
         "HP:0011330",
         "BMG_PH07988",
         "BMG_DS070644"
        ],
        [
         "48",
         "619426",
         "HP:0000601",
         "BMG_PH00472",
         "BMG_DS070644"
        ],
        [
         "49",
         "619426",
         "HP:0000403",
         "BMG_PH00315",
         "BMG_DS070644"
        ]
       ],
       "shape": {
        "columns": 4,
        "rows": 155989
       }
      },
      "text/html": [
       "<div>\n",
       "<style scoped>\n",
       "    .dataframe tbody tr th:only-of-type {\n",
       "        vertical-align: middle;\n",
       "    }\n",
       "\n",
       "    .dataframe tbody tr th {\n",
       "        vertical-align: top;\n",
       "    }\n",
       "\n",
       "    .dataframe thead th {\n",
       "        text-align: right;\n",
       "    }\n",
       "</style>\n",
       "<table border=\"1\" class=\"dataframe\">\n",
       "  <thead>\n",
       "    <tr style=\"text-align: right;\">\n",
       "      <th></th>\n",
       "      <th>database_id</th>\n",
       "      <th>hpo_id</th>\n",
       "      <th>To_ID</th>\n",
       "      <th>From_ID</th>\n",
       "    </tr>\n",
       "  </thead>\n",
       "  <tbody>\n",
       "    <tr>\n",
       "      <th>0</th>\n",
       "      <td>619340</td>\n",
       "      <td>HP:0011097</td>\n",
       "      <td>BMG_PH07758</td>\n",
       "      <td>BMG_DS070605</td>\n",
       "    </tr>\n",
       "    <tr>\n",
       "      <th>1</th>\n",
       "      <td>619340</td>\n",
       "      <td>HP:0002187</td>\n",
       "      <td>BMG_PH01650</td>\n",
       "      <td>BMG_DS070605</td>\n",
       "    </tr>\n",
       "    <tr>\n",
       "      <th>2</th>\n",
       "      <td>619340</td>\n",
       "      <td>HP:0001518</td>\n",
       "      <td>BMG_PH01149</td>\n",
       "      <td>BMG_DS070605</td>\n",
       "    </tr>\n",
       "    <tr>\n",
       "      <th>3</th>\n",
       "      <td>619340</td>\n",
       "      <td>HP:0032792</td>\n",
       "      <td>BMG_PH13238</td>\n",
       "      <td>BMG_DS070605</td>\n",
       "    </tr>\n",
       "    <tr>\n",
       "      <th>4</th>\n",
       "      <td>619340</td>\n",
       "      <td>HP:0011451</td>\n",
       "      <td>BMG_PH08108</td>\n",
       "      <td>BMG_DS070605</td>\n",
       "    </tr>\n",
       "    <tr>\n",
       "      <th>...</th>\n",
       "      <td>...</td>\n",
       "      <td>...</td>\n",
       "      <td>...</td>\n",
       "      <td>...</td>\n",
       "    </tr>\n",
       "    <tr>\n",
       "      <th>156811</th>\n",
       "      <td>611705</td>\n",
       "      <td>HP:0000508</td>\n",
       "      <td>BMG_PH00393</td>\n",
       "      <td>BMG_DS043409;BMG_DS080448</td>\n",
       "    </tr>\n",
       "    <tr>\n",
       "      <th>156812</th>\n",
       "      <td>611705</td>\n",
       "      <td>HP:0000007</td>\n",
       "      <td>BMG_PH00005</td>\n",
       "      <td>BMG_DS043409;BMG_DS080448</td>\n",
       "    </tr>\n",
       "    <tr>\n",
       "      <th>156813</th>\n",
       "      <td>611705</td>\n",
       "      <td>HP:0001635</td>\n",
       "      <td>BMG_PH01221</td>\n",
       "      <td>BMG_DS043409;BMG_DS080448</td>\n",
       "    </tr>\n",
       "    <tr>\n",
       "      <th>156814</th>\n",
       "      <td>611705</td>\n",
       "      <td>HP:0001678</td>\n",
       "      <td>BMG_PH01257</td>\n",
       "      <td>BMG_DS043409;BMG_DS080448</td>\n",
       "    </tr>\n",
       "    <tr>\n",
       "      <th>156815</th>\n",
       "      <td>611705</td>\n",
       "      <td>HP:0003557</td>\n",
       "      <td>BMG_PH02624</td>\n",
       "      <td>BMG_DS043409;BMG_DS080448</td>\n",
       "    </tr>\n",
       "  </tbody>\n",
       "</table>\n",
       "<p>155989 rows × 4 columns</p>\n",
       "</div>"
      ],
      "text/plain": [
       "       database_id      hpo_id        To_ID                    From_ID\n",
       "0           619340  HP:0011097  BMG_PH07758               BMG_DS070605\n",
       "1           619340  HP:0002187  BMG_PH01650               BMG_DS070605\n",
       "2           619340  HP:0001518  BMG_PH01149               BMG_DS070605\n",
       "3           619340  HP:0032792  BMG_PH13238               BMG_DS070605\n",
       "4           619340  HP:0011451  BMG_PH08108               BMG_DS070605\n",
       "...            ...         ...          ...                        ...\n",
       "156811      611705  HP:0000508  BMG_PH00393  BMG_DS043409;BMG_DS080448\n",
       "156812      611705  HP:0000007  BMG_PH00005  BMG_DS043409;BMG_DS080448\n",
       "156813      611705  HP:0001635  BMG_PH01221  BMG_DS043409;BMG_DS080448\n",
       "156814      611705  HP:0001678  BMG_PH01257  BMG_DS043409;BMG_DS080448\n",
       "156815      611705  HP:0003557  BMG_PH02624  BMG_DS043409;BMG_DS080448\n",
       "\n",
       "[155989 rows x 4 columns]"
      ]
     },
     "execution_count": 4,
     "metadata": {},
     "output_type": "execute_result"
    }
   ],
   "source": [
    "omim_individual = biomedgraphica_disease[['OMIM_ID', 'BioMedGraphica_ID']]\n",
    "omim_individual = omim_individual.dropna(subset=['OMIM_ID'])\n",
    "omim_individual['OMIM_ID'] = omim_individual['OMIM_ID'].str.split(';')\n",
    "omim_individual = omim_individual.explode('OMIM_ID')\n",
    "omim_individual = omim_individual.drop_duplicates()\n",
    "\n",
    "omim_to_individual = omim_individual.groupby('OMIM_ID')['BioMedGraphica_ID'].apply(lambda x: ';'.join(x.dropna().unique())).to_dict()\n",
    "\n",
    "df_hpo_omim['From_ID'] = df_hpo_omim['database_id'].map(omim_to_individual)\n",
    "df_hpo_omim"
   ]
  },
  {
   "cell_type": "code",
   "execution_count": 5,
   "metadata": {},
   "outputs": [
    {
     "data": {
      "application/vnd.microsoft.datawrangler.viewer.v0+json": {
       "columns": [
        {
         "name": "index",
         "rawType": "int64",
         "type": "integer"
        },
        {
         "name": "From_ID",
         "rawType": "object",
         "type": "string"
        },
        {
         "name": "To_ID",
         "rawType": "object",
         "type": "string"
        }
       ],
       "conversionMethod": "pd.DataFrame",
       "ref": "c4d7bee1-eb17-4ae9-9fc1-9e3dd71a9969",
       "rows": [
        [
         "0",
         "BMG_DS070605",
         "BMG_PH07758"
        ],
        [
         "1",
         "BMG_DS070605",
         "BMG_PH01650"
        ],
        [
         "2",
         "BMG_DS070605",
         "BMG_PH01149"
        ],
        [
         "3",
         "BMG_DS070605",
         "BMG_PH13238"
        ],
        [
         "4",
         "BMG_DS070605",
         "BMG_PH08108"
        ],
        [
         "5",
         "BMG_DS070605",
         "BMG_PH07518"
        ],
        [
         "6",
         "BMG_DS070605",
         "BMG_PH01337"
        ],
        [
         "7",
         "BMG_DS070605",
         "BMG_PH17048"
        ],
        [
         "8",
         "BMG_DS070605",
         "BMG_PH01152"
        ],
        [
         "9",
         "BMG_DS070605",
         "BMG_PH00004"
        ],
        [
         "10",
         "BMG_DS070605",
         "BMG_PH01967"
        ],
        [
         "11",
         "BMG_DS038120",
         "BMG_PH01792"
        ],
        [
         "12",
         "BMG_DS038120",
         "BMG_PH02464"
        ],
        [
         "13",
         "BMG_DS038120",
         "BMG_PH01623"
        ],
        [
         "14",
         "BMG_DS038120",
         "BMG_PH02517"
        ],
        [
         "15",
         "BMG_DS038120",
         "BMG_PH01400"
        ],
        [
         "16",
         "BMG_DS038120",
         "BMG_PH02738"
        ],
        [
         "17",
         "BMG_DS038120",
         "BMG_PH00004"
        ],
        [
         "18",
         "BMG_DS054799",
         "BMG_PH01514"
        ],
        [
         "19",
         "BMG_DS054799",
         "BMG_PH18591"
        ],
        [
         "20",
         "BMG_DS054799",
         "BMG_PH02026"
        ],
        [
         "21",
         "BMG_DS054799",
         "BMG_PH08120"
        ],
        [
         "22",
         "BMG_DS054799",
         "BMG_PH00005"
        ],
        [
         "23",
         "BMG_DS054799",
         "BMG_PH01666"
        ],
        [
         "24",
         "BMG_DS054799",
         "BMG_PH01525"
        ],
        [
         "25",
         "BMG_DS070644",
         "BMG_PH00236"
        ],
        [
         "26",
         "BMG_DS070644",
         "BMG_PH07473"
        ],
        [
         "27",
         "BMG_DS070644",
         "BMG_PH04687"
        ],
        [
         "28",
         "BMG_DS070644",
         "BMG_PH00973"
        ],
        [
         "29",
         "BMG_DS070644",
         "BMG_PH02366"
        ],
        [
         "30",
         "BMG_DS070644",
         "BMG_PH02645"
        ],
        [
         "31",
         "BMG_DS070644",
         "BMG_PH00078"
        ],
        [
         "32",
         "BMG_DS070644",
         "BMG_PH01519"
        ],
        [
         "33",
         "BMG_DS070644",
         "BMG_PH09396"
        ],
        [
         "34",
         "BMG_DS070644",
         "BMG_PH00505"
        ],
        [
         "35",
         "BMG_DS070644",
         "BMG_PH08120"
        ],
        [
         "36",
         "BMG_DS070644",
         "BMG_PH09567"
        ],
        [
         "37",
         "BMG_DS070644",
         "BMG_PH00504"
        ],
        [
         "38",
         "BMG_DS070644",
         "BMG_PH00231"
        ],
        [
         "39",
         "BMG_DS070644",
         "BMG_PH00970"
        ],
        [
         "40",
         "BMG_DS070644",
         "BMG_PH09708"
        ],
        [
         "41",
         "BMG_DS070644",
         "BMG_PH01064"
        ],
        [
         "42",
         "BMG_DS070644",
         "BMG_PH00449"
        ],
        [
         "43",
         "BMG_DS070644",
         "BMG_PH02135"
        ],
        [
         "44",
         "BMG_DS070644",
         "BMG_PH00243"
        ],
        [
         "45",
         "BMG_DS070644",
         "BMG_PH01062"
        ],
        [
         "46",
         "BMG_DS070644",
         "BMG_PH08457"
        ],
        [
         "47",
         "BMG_DS070644",
         "BMG_PH07988"
        ],
        [
         "48",
         "BMG_DS070644",
         "BMG_PH00472"
        ],
        [
         "49",
         "BMG_DS070644",
         "BMG_PH00315"
        ]
       ],
       "shape": {
        "columns": 2,
        "rows": 155063
       }
      },
      "text/html": [
       "<div>\n",
       "<style scoped>\n",
       "    .dataframe tbody tr th:only-of-type {\n",
       "        vertical-align: middle;\n",
       "    }\n",
       "\n",
       "    .dataframe tbody tr th {\n",
       "        vertical-align: top;\n",
       "    }\n",
       "\n",
       "    .dataframe thead th {\n",
       "        text-align: right;\n",
       "    }\n",
       "</style>\n",
       "<table border=\"1\" class=\"dataframe\">\n",
       "  <thead>\n",
       "    <tr style=\"text-align: right;\">\n",
       "      <th></th>\n",
       "      <th>From_ID</th>\n",
       "      <th>To_ID</th>\n",
       "    </tr>\n",
       "  </thead>\n",
       "  <tbody>\n",
       "    <tr>\n",
       "      <th>0</th>\n",
       "      <td>BMG_DS070605</td>\n",
       "      <td>BMG_PH07758</td>\n",
       "    </tr>\n",
       "    <tr>\n",
       "      <th>1</th>\n",
       "      <td>BMG_DS070605</td>\n",
       "      <td>BMG_PH01650</td>\n",
       "    </tr>\n",
       "    <tr>\n",
       "      <th>2</th>\n",
       "      <td>BMG_DS070605</td>\n",
       "      <td>BMG_PH01149</td>\n",
       "    </tr>\n",
       "    <tr>\n",
       "      <th>3</th>\n",
       "      <td>BMG_DS070605</td>\n",
       "      <td>BMG_PH13238</td>\n",
       "    </tr>\n",
       "    <tr>\n",
       "      <th>4</th>\n",
       "      <td>BMG_DS070605</td>\n",
       "      <td>BMG_PH08108</td>\n",
       "    </tr>\n",
       "    <tr>\n",
       "      <th>...</th>\n",
       "      <td>...</td>\n",
       "      <td>...</td>\n",
       "    </tr>\n",
       "    <tr>\n",
       "      <th>156811</th>\n",
       "      <td>BMG_DS043409;BMG_DS080448</td>\n",
       "      <td>BMG_PH00393</td>\n",
       "    </tr>\n",
       "    <tr>\n",
       "      <th>156812</th>\n",
       "      <td>BMG_DS043409;BMG_DS080448</td>\n",
       "      <td>BMG_PH00005</td>\n",
       "    </tr>\n",
       "    <tr>\n",
       "      <th>156813</th>\n",
       "      <td>BMG_DS043409;BMG_DS080448</td>\n",
       "      <td>BMG_PH01221</td>\n",
       "    </tr>\n",
       "    <tr>\n",
       "      <th>156814</th>\n",
       "      <td>BMG_DS043409;BMG_DS080448</td>\n",
       "      <td>BMG_PH01257</td>\n",
       "    </tr>\n",
       "    <tr>\n",
       "      <th>156815</th>\n",
       "      <td>BMG_DS043409;BMG_DS080448</td>\n",
       "      <td>BMG_PH02624</td>\n",
       "    </tr>\n",
       "  </tbody>\n",
       "</table>\n",
       "<p>155063 rows × 2 columns</p>\n",
       "</div>"
      ],
      "text/plain": [
       "                          From_ID        To_ID\n",
       "0                    BMG_DS070605  BMG_PH07758\n",
       "1                    BMG_DS070605  BMG_PH01650\n",
       "2                    BMG_DS070605  BMG_PH01149\n",
       "3                    BMG_DS070605  BMG_PH13238\n",
       "4                    BMG_DS070605  BMG_PH08108\n",
       "...                           ...          ...\n",
       "156811  BMG_DS043409;BMG_DS080448  BMG_PH00393\n",
       "156812  BMG_DS043409;BMG_DS080448  BMG_PH00005\n",
       "156813  BMG_DS043409;BMG_DS080448  BMG_PH01221\n",
       "156814  BMG_DS043409;BMG_DS080448  BMG_PH01257\n",
       "156815  BMG_DS043409;BMG_DS080448  BMG_PH02624\n",
       "\n",
       "[155063 rows x 2 columns]"
      ]
     },
     "execution_count": 5,
     "metadata": {},
     "output_type": "execute_result"
    }
   ],
   "source": [
    "disease_phen = df_hpo_omim[['From_ID', 'To_ID']]\n",
    "disease_phen = disease_phen.dropna(subset=['From_ID'])\n",
    "disease_phen = disease_phen.dropna(subset=['To_ID'])\n",
    "disease_phen"
   ]
  },
  {
   "cell_type": "code",
   "execution_count": 6,
   "metadata": {},
   "outputs": [
    {
     "data": {
      "application/vnd.microsoft.datawrangler.viewer.v0+json": {
       "columns": [
        {
         "name": "index",
         "rawType": "int64",
         "type": "integer"
        },
        {
         "name": "From_ID",
         "rawType": "object",
         "type": "string"
        },
        {
         "name": "To_ID",
         "rawType": "object",
         "type": "string"
        }
       ],
       "conversionMethod": "pd.DataFrame",
       "ref": "4c74ef50-4510-42b2-9ee6-8e01ff52ae54",
       "rows": [
        [
         "0",
         "BMG_DS070605",
         "BMG_PH07758"
        ],
        [
         "1",
         "BMG_DS070605",
         "BMG_PH01650"
        ],
        [
         "2",
         "BMG_DS070605",
         "BMG_PH01149"
        ],
        [
         "3",
         "BMG_DS070605",
         "BMG_PH13238"
        ],
        [
         "4",
         "BMG_DS070605",
         "BMG_PH08108"
        ],
        [
         "5",
         "BMG_DS070605",
         "BMG_PH07518"
        ],
        [
         "6",
         "BMG_DS070605",
         "BMG_PH01337"
        ],
        [
         "7",
         "BMG_DS070605",
         "BMG_PH17048"
        ],
        [
         "8",
         "BMG_DS070605",
         "BMG_PH01152"
        ],
        [
         "9",
         "BMG_DS070605",
         "BMG_PH00004"
        ],
        [
         "10",
         "BMG_DS070605",
         "BMG_PH01967"
        ],
        [
         "11",
         "BMG_DS038120",
         "BMG_PH01792"
        ],
        [
         "12",
         "BMG_DS038120",
         "BMG_PH02464"
        ],
        [
         "13",
         "BMG_DS038120",
         "BMG_PH01623"
        ],
        [
         "14",
         "BMG_DS038120",
         "BMG_PH02517"
        ],
        [
         "15",
         "BMG_DS038120",
         "BMG_PH01400"
        ],
        [
         "16",
         "BMG_DS038120",
         "BMG_PH02738"
        ],
        [
         "17",
         "BMG_DS038120",
         "BMG_PH00004"
        ],
        [
         "18",
         "BMG_DS054799",
         "BMG_PH01514"
        ],
        [
         "19",
         "BMG_DS054799",
         "BMG_PH18591"
        ],
        [
         "20",
         "BMG_DS054799",
         "BMG_PH02026"
        ],
        [
         "21",
         "BMG_DS054799",
         "BMG_PH08120"
        ],
        [
         "22",
         "BMG_DS054799",
         "BMG_PH00005"
        ],
        [
         "23",
         "BMG_DS054799",
         "BMG_PH01666"
        ],
        [
         "24",
         "BMG_DS054799",
         "BMG_PH01525"
        ],
        [
         "25",
         "BMG_DS070644",
         "BMG_PH00236"
        ],
        [
         "26",
         "BMG_DS070644",
         "BMG_PH07473"
        ],
        [
         "27",
         "BMG_DS070644",
         "BMG_PH04687"
        ],
        [
         "28",
         "BMG_DS070644",
         "BMG_PH00973"
        ],
        [
         "29",
         "BMG_DS070644",
         "BMG_PH02366"
        ],
        [
         "30",
         "BMG_DS070644",
         "BMG_PH02645"
        ],
        [
         "31",
         "BMG_DS070644",
         "BMG_PH00078"
        ],
        [
         "32",
         "BMG_DS070644",
         "BMG_PH01519"
        ],
        [
         "33",
         "BMG_DS070644",
         "BMG_PH09396"
        ],
        [
         "34",
         "BMG_DS070644",
         "BMG_PH00505"
        ],
        [
         "35",
         "BMG_DS070644",
         "BMG_PH08120"
        ],
        [
         "36",
         "BMG_DS070644",
         "BMG_PH09567"
        ],
        [
         "37",
         "BMG_DS070644",
         "BMG_PH00504"
        ],
        [
         "38",
         "BMG_DS070644",
         "BMG_PH00231"
        ],
        [
         "39",
         "BMG_DS070644",
         "BMG_PH00970"
        ],
        [
         "40",
         "BMG_DS070644",
         "BMG_PH09708"
        ],
        [
         "41",
         "BMG_DS070644",
         "BMG_PH01064"
        ],
        [
         "42",
         "BMG_DS070644",
         "BMG_PH00449"
        ],
        [
         "43",
         "BMG_DS070644",
         "BMG_PH02135"
        ],
        [
         "44",
         "BMG_DS070644",
         "BMG_PH00243"
        ],
        [
         "45",
         "BMG_DS070644",
         "BMG_PH01062"
        ],
        [
         "46",
         "BMG_DS070644",
         "BMG_PH08457"
        ],
        [
         "47",
         "BMG_DS070644",
         "BMG_PH07988"
        ],
        [
         "48",
         "BMG_DS070644",
         "BMG_PH00472"
        ],
        [
         "49",
         "BMG_DS070644",
         "BMG_PH00315"
        ]
       ],
       "shape": {
        "columns": 2,
        "rows": 181192
       }
      },
      "text/html": [
       "<div>\n",
       "<style scoped>\n",
       "    .dataframe tbody tr th:only-of-type {\n",
       "        vertical-align: middle;\n",
       "    }\n",
       "\n",
       "    .dataframe tbody tr th {\n",
       "        vertical-align: top;\n",
       "    }\n",
       "\n",
       "    .dataframe thead th {\n",
       "        text-align: right;\n",
       "    }\n",
       "</style>\n",
       "<table border=\"1\" class=\"dataframe\">\n",
       "  <thead>\n",
       "    <tr style=\"text-align: right;\">\n",
       "      <th></th>\n",
       "      <th>From_ID</th>\n",
       "      <th>To_ID</th>\n",
       "    </tr>\n",
       "  </thead>\n",
       "  <tbody>\n",
       "    <tr>\n",
       "      <th>0</th>\n",
       "      <td>BMG_DS070605</td>\n",
       "      <td>BMG_PH07758</td>\n",
       "    </tr>\n",
       "    <tr>\n",
       "      <th>1</th>\n",
       "      <td>BMG_DS070605</td>\n",
       "      <td>BMG_PH01650</td>\n",
       "    </tr>\n",
       "    <tr>\n",
       "      <th>2</th>\n",
       "      <td>BMG_DS070605</td>\n",
       "      <td>BMG_PH01149</td>\n",
       "    </tr>\n",
       "    <tr>\n",
       "      <th>3</th>\n",
       "      <td>BMG_DS070605</td>\n",
       "      <td>BMG_PH13238</td>\n",
       "    </tr>\n",
       "    <tr>\n",
       "      <th>4</th>\n",
       "      <td>BMG_DS070605</td>\n",
       "      <td>BMG_PH08108</td>\n",
       "    </tr>\n",
       "    <tr>\n",
       "      <th>...</th>\n",
       "      <td>...</td>\n",
       "      <td>...</td>\n",
       "    </tr>\n",
       "    <tr>\n",
       "      <th>181187</th>\n",
       "      <td>BMG_DS080448</td>\n",
       "      <td>BMG_PH01221</td>\n",
       "    </tr>\n",
       "    <tr>\n",
       "      <th>181188</th>\n",
       "      <td>BMG_DS043409</td>\n",
       "      <td>BMG_PH01257</td>\n",
       "    </tr>\n",
       "    <tr>\n",
       "      <th>181189</th>\n",
       "      <td>BMG_DS080448</td>\n",
       "      <td>BMG_PH01257</td>\n",
       "    </tr>\n",
       "    <tr>\n",
       "      <th>181190</th>\n",
       "      <td>BMG_DS043409</td>\n",
       "      <td>BMG_PH02624</td>\n",
       "    </tr>\n",
       "    <tr>\n",
       "      <th>181191</th>\n",
       "      <td>BMG_DS080448</td>\n",
       "      <td>BMG_PH02624</td>\n",
       "    </tr>\n",
       "  </tbody>\n",
       "</table>\n",
       "<p>181192 rows × 2 columns</p>\n",
       "</div>"
      ],
      "text/plain": [
       "             From_ID        To_ID\n",
       "0       BMG_DS070605  BMG_PH07758\n",
       "1       BMG_DS070605  BMG_PH01650\n",
       "2       BMG_DS070605  BMG_PH01149\n",
       "3       BMG_DS070605  BMG_PH13238\n",
       "4       BMG_DS070605  BMG_PH08108\n",
       "...              ...          ...\n",
       "181187  BMG_DS080448  BMG_PH01221\n",
       "181188  BMG_DS043409  BMG_PH01257\n",
       "181189  BMG_DS080448  BMG_PH01257\n",
       "181190  BMG_DS043409  BMG_PH02624\n",
       "181191  BMG_DS080448  BMG_PH02624\n",
       "\n",
       "[181192 rows x 2 columns]"
      ]
     },
     "execution_count": 6,
     "metadata": {},
     "output_type": "execute_result"
    }
   ],
   "source": [
    "disease_phen['From_ID'] = disease_phen['From_ID'].str.split(';')\n",
    "disease_phen['To_ID'] = disease_phen['To_ID'].str.split(';')\n",
    "disease_phen = disease_phen.explode('From_ID')\n",
    "disease_phen = disease_phen.explode('To_ID')\n",
    "disease_phen.drop_duplicates()\n",
    "disease_phen.reset_index(drop=True, inplace=True)\n",
    "disease_phen"
   ]
  },
  {
   "cell_type": "markdown",
   "metadata": {},
   "source": [
    "## Disease-Phenotype Relation"
   ]
  },
  {
   "cell_type": "code",
   "execution_count": 7,
   "metadata": {},
   "outputs": [
    {
     "data": {
      "application/vnd.microsoft.datawrangler.viewer.v0+json": {
       "columns": [
        {
         "name": "index",
         "rawType": "int64",
         "type": "integer"
        },
        {
         "name": "BioMedGraphica_ID",
         "rawType": "object",
         "type": "string"
        },
        {
         "name": "From_ID",
         "rawType": "object",
         "type": "string"
        },
        {
         "name": "To_ID",
         "rawType": "object",
         "type": "string"
        },
        {
         "name": "Source",
         "rawType": "object",
         "type": "string"
        },
        {
         "name": "Type",
         "rawType": "object",
         "type": "string"
        }
       ],
       "conversionMethod": "pd.DataFrame",
       "ref": "13d9c2dc-9d51-47aa-9233-3f28efeb558d",
       "rows": [
        [
         "0",
         "BMG_ED_DSPH000001",
         "BMG_DS070605",
         "BMG_PH07758",
         "HPO",
         "Disease-Phenotype"
        ],
        [
         "1",
         "BMG_ED_DSPH000002",
         "BMG_DS070605",
         "BMG_PH01650",
         "HPO",
         "Disease-Phenotype"
        ],
        [
         "2",
         "BMG_ED_DSPH000003",
         "BMG_DS070605",
         "BMG_PH01149",
         "HPO",
         "Disease-Phenotype"
        ],
        [
         "3",
         "BMG_ED_DSPH000004",
         "BMG_DS070605",
         "BMG_PH13238",
         "HPO",
         "Disease-Phenotype"
        ],
        [
         "4",
         "BMG_ED_DSPH000005",
         "BMG_DS070605",
         "BMG_PH08108",
         "HPO",
         "Disease-Phenotype"
        ],
        [
         "5",
         "BMG_ED_DSPH000006",
         "BMG_DS070605",
         "BMG_PH07518",
         "HPO",
         "Disease-Phenotype"
        ],
        [
         "6",
         "BMG_ED_DSPH000007",
         "BMG_DS070605",
         "BMG_PH01337",
         "HPO",
         "Disease-Phenotype"
        ],
        [
         "7",
         "BMG_ED_DSPH000008",
         "BMG_DS070605",
         "BMG_PH17048",
         "HPO",
         "Disease-Phenotype"
        ],
        [
         "8",
         "BMG_ED_DSPH000009",
         "BMG_DS070605",
         "BMG_PH01152",
         "HPO",
         "Disease-Phenotype"
        ],
        [
         "9",
         "BMG_ED_DSPH000010",
         "BMG_DS070605",
         "BMG_PH00004",
         "HPO",
         "Disease-Phenotype"
        ],
        [
         "10",
         "BMG_ED_DSPH000011",
         "BMG_DS070605",
         "BMG_PH01967",
         "HPO",
         "Disease-Phenotype"
        ],
        [
         "11",
         "BMG_ED_DSPH000012",
         "BMG_DS038120",
         "BMG_PH01792",
         "HPO",
         "Disease-Phenotype"
        ],
        [
         "12",
         "BMG_ED_DSPH000013",
         "BMG_DS038120",
         "BMG_PH02464",
         "HPO",
         "Disease-Phenotype"
        ],
        [
         "13",
         "BMG_ED_DSPH000014",
         "BMG_DS038120",
         "BMG_PH01623",
         "HPO",
         "Disease-Phenotype"
        ],
        [
         "14",
         "BMG_ED_DSPH000015",
         "BMG_DS038120",
         "BMG_PH02517",
         "HPO",
         "Disease-Phenotype"
        ],
        [
         "15",
         "BMG_ED_DSPH000016",
         "BMG_DS038120",
         "BMG_PH01400",
         "HPO",
         "Disease-Phenotype"
        ],
        [
         "16",
         "BMG_ED_DSPH000017",
         "BMG_DS038120",
         "BMG_PH02738",
         "HPO",
         "Disease-Phenotype"
        ],
        [
         "17",
         "BMG_ED_DSPH000018",
         "BMG_DS038120",
         "BMG_PH00004",
         "HPO",
         "Disease-Phenotype"
        ],
        [
         "18",
         "BMG_ED_DSPH000019",
         "BMG_DS054799",
         "BMG_PH01514",
         "HPO",
         "Disease-Phenotype"
        ],
        [
         "19",
         "BMG_ED_DSPH000020",
         "BMG_DS054799",
         "BMG_PH18591",
         "HPO",
         "Disease-Phenotype"
        ],
        [
         "20",
         "BMG_ED_DSPH000021",
         "BMG_DS054799",
         "BMG_PH02026",
         "HPO",
         "Disease-Phenotype"
        ],
        [
         "21",
         "BMG_ED_DSPH000022",
         "BMG_DS054799",
         "BMG_PH08120",
         "HPO",
         "Disease-Phenotype"
        ],
        [
         "22",
         "BMG_ED_DSPH000023",
         "BMG_DS054799",
         "BMG_PH00005",
         "HPO",
         "Disease-Phenotype"
        ],
        [
         "23",
         "BMG_ED_DSPH000024",
         "BMG_DS054799",
         "BMG_PH01666",
         "HPO",
         "Disease-Phenotype"
        ],
        [
         "24",
         "BMG_ED_DSPH000025",
         "BMG_DS054799",
         "BMG_PH01525",
         "HPO",
         "Disease-Phenotype"
        ],
        [
         "25",
         "BMG_ED_DSPH000026",
         "BMG_DS070644",
         "BMG_PH00236",
         "HPO",
         "Disease-Phenotype"
        ],
        [
         "26",
         "BMG_ED_DSPH000027",
         "BMG_DS070644",
         "BMG_PH07473",
         "HPO",
         "Disease-Phenotype"
        ],
        [
         "27",
         "BMG_ED_DSPH000028",
         "BMG_DS070644",
         "BMG_PH04687",
         "HPO",
         "Disease-Phenotype"
        ],
        [
         "28",
         "BMG_ED_DSPH000029",
         "BMG_DS070644",
         "BMG_PH00973",
         "HPO",
         "Disease-Phenotype"
        ],
        [
         "29",
         "BMG_ED_DSPH000030",
         "BMG_DS070644",
         "BMG_PH02366",
         "HPO",
         "Disease-Phenotype"
        ],
        [
         "30",
         "BMG_ED_DSPH000031",
         "BMG_DS070644",
         "BMG_PH02645",
         "HPO",
         "Disease-Phenotype"
        ],
        [
         "31",
         "BMG_ED_DSPH000032",
         "BMG_DS070644",
         "BMG_PH00078",
         "HPO",
         "Disease-Phenotype"
        ],
        [
         "32",
         "BMG_ED_DSPH000033",
         "BMG_DS070644",
         "BMG_PH01519",
         "HPO",
         "Disease-Phenotype"
        ],
        [
         "33",
         "BMG_ED_DSPH000034",
         "BMG_DS070644",
         "BMG_PH09396",
         "HPO",
         "Disease-Phenotype"
        ],
        [
         "34",
         "BMG_ED_DSPH000035",
         "BMG_DS070644",
         "BMG_PH00505",
         "HPO",
         "Disease-Phenotype"
        ],
        [
         "35",
         "BMG_ED_DSPH000036",
         "BMG_DS070644",
         "BMG_PH08120",
         "HPO",
         "Disease-Phenotype"
        ],
        [
         "36",
         "BMG_ED_DSPH000037",
         "BMG_DS070644",
         "BMG_PH09567",
         "HPO",
         "Disease-Phenotype"
        ],
        [
         "37",
         "BMG_ED_DSPH000038",
         "BMG_DS070644",
         "BMG_PH00504",
         "HPO",
         "Disease-Phenotype"
        ],
        [
         "38",
         "BMG_ED_DSPH000039",
         "BMG_DS070644",
         "BMG_PH00231",
         "HPO",
         "Disease-Phenotype"
        ],
        [
         "39",
         "BMG_ED_DSPH000040",
         "BMG_DS070644",
         "BMG_PH00970",
         "HPO",
         "Disease-Phenotype"
        ],
        [
         "40",
         "BMG_ED_DSPH000041",
         "BMG_DS070644",
         "BMG_PH09708",
         "HPO",
         "Disease-Phenotype"
        ],
        [
         "41",
         "BMG_ED_DSPH000042",
         "BMG_DS070644",
         "BMG_PH01064",
         "HPO",
         "Disease-Phenotype"
        ],
        [
         "42",
         "BMG_ED_DSPH000043",
         "BMG_DS070644",
         "BMG_PH00449",
         "HPO",
         "Disease-Phenotype"
        ],
        [
         "43",
         "BMG_ED_DSPH000044",
         "BMG_DS070644",
         "BMG_PH02135",
         "HPO",
         "Disease-Phenotype"
        ],
        [
         "44",
         "BMG_ED_DSPH000045",
         "BMG_DS070644",
         "BMG_PH00243",
         "HPO",
         "Disease-Phenotype"
        ],
        [
         "45",
         "BMG_ED_DSPH000046",
         "BMG_DS070644",
         "BMG_PH01062",
         "HPO",
         "Disease-Phenotype"
        ],
        [
         "46",
         "BMG_ED_DSPH000047",
         "BMG_DS070644",
         "BMG_PH08457",
         "HPO",
         "Disease-Phenotype"
        ],
        [
         "47",
         "BMG_ED_DSPH000048",
         "BMG_DS070644",
         "BMG_PH07988",
         "HPO",
         "Disease-Phenotype"
        ],
        [
         "48",
         "BMG_ED_DSPH000049",
         "BMG_DS070644",
         "BMG_PH00472",
         "HPO",
         "Disease-Phenotype"
        ],
        [
         "49",
         "BMG_ED_DSPH000050",
         "BMG_DS070644",
         "BMG_PH00315",
         "HPO",
         "Disease-Phenotype"
        ]
       ],
       "shape": {
        "columns": 5,
        "rows": 181192
       }
      },
      "text/html": [
       "<div>\n",
       "<style scoped>\n",
       "    .dataframe tbody tr th:only-of-type {\n",
       "        vertical-align: middle;\n",
       "    }\n",
       "\n",
       "    .dataframe tbody tr th {\n",
       "        vertical-align: top;\n",
       "    }\n",
       "\n",
       "    .dataframe thead th {\n",
       "        text-align: right;\n",
       "    }\n",
       "</style>\n",
       "<table border=\"1\" class=\"dataframe\">\n",
       "  <thead>\n",
       "    <tr style=\"text-align: right;\">\n",
       "      <th></th>\n",
       "      <th>BioMedGraphica_ID</th>\n",
       "      <th>From_ID</th>\n",
       "      <th>To_ID</th>\n",
       "      <th>Source</th>\n",
       "      <th>Type</th>\n",
       "    </tr>\n",
       "  </thead>\n",
       "  <tbody>\n",
       "    <tr>\n",
       "      <th>0</th>\n",
       "      <td>BMG_ED_DSPH000001</td>\n",
       "      <td>BMG_DS070605</td>\n",
       "      <td>BMG_PH07758</td>\n",
       "      <td>HPO</td>\n",
       "      <td>Disease-Phenotype</td>\n",
       "    </tr>\n",
       "    <tr>\n",
       "      <th>1</th>\n",
       "      <td>BMG_ED_DSPH000002</td>\n",
       "      <td>BMG_DS070605</td>\n",
       "      <td>BMG_PH01650</td>\n",
       "      <td>HPO</td>\n",
       "      <td>Disease-Phenotype</td>\n",
       "    </tr>\n",
       "    <tr>\n",
       "      <th>2</th>\n",
       "      <td>BMG_ED_DSPH000003</td>\n",
       "      <td>BMG_DS070605</td>\n",
       "      <td>BMG_PH01149</td>\n",
       "      <td>HPO</td>\n",
       "      <td>Disease-Phenotype</td>\n",
       "    </tr>\n",
       "    <tr>\n",
       "      <th>3</th>\n",
       "      <td>BMG_ED_DSPH000004</td>\n",
       "      <td>BMG_DS070605</td>\n",
       "      <td>BMG_PH13238</td>\n",
       "      <td>HPO</td>\n",
       "      <td>Disease-Phenotype</td>\n",
       "    </tr>\n",
       "    <tr>\n",
       "      <th>4</th>\n",
       "      <td>BMG_ED_DSPH000005</td>\n",
       "      <td>BMG_DS070605</td>\n",
       "      <td>BMG_PH08108</td>\n",
       "      <td>HPO</td>\n",
       "      <td>Disease-Phenotype</td>\n",
       "    </tr>\n",
       "    <tr>\n",
       "      <th>...</th>\n",
       "      <td>...</td>\n",
       "      <td>...</td>\n",
       "      <td>...</td>\n",
       "      <td>...</td>\n",
       "      <td>...</td>\n",
       "    </tr>\n",
       "    <tr>\n",
       "      <th>181187</th>\n",
       "      <td>BMG_ED_DSPH181188</td>\n",
       "      <td>BMG_DS080448</td>\n",
       "      <td>BMG_PH01221</td>\n",
       "      <td>HPO</td>\n",
       "      <td>Disease-Phenotype</td>\n",
       "    </tr>\n",
       "    <tr>\n",
       "      <th>181188</th>\n",
       "      <td>BMG_ED_DSPH181189</td>\n",
       "      <td>BMG_DS043409</td>\n",
       "      <td>BMG_PH01257</td>\n",
       "      <td>HPO</td>\n",
       "      <td>Disease-Phenotype</td>\n",
       "    </tr>\n",
       "    <tr>\n",
       "      <th>181189</th>\n",
       "      <td>BMG_ED_DSPH181190</td>\n",
       "      <td>BMG_DS080448</td>\n",
       "      <td>BMG_PH01257</td>\n",
       "      <td>HPO</td>\n",
       "      <td>Disease-Phenotype</td>\n",
       "    </tr>\n",
       "    <tr>\n",
       "      <th>181190</th>\n",
       "      <td>BMG_ED_DSPH181191</td>\n",
       "      <td>BMG_DS043409</td>\n",
       "      <td>BMG_PH02624</td>\n",
       "      <td>HPO</td>\n",
       "      <td>Disease-Phenotype</td>\n",
       "    </tr>\n",
       "    <tr>\n",
       "      <th>181191</th>\n",
       "      <td>BMG_ED_DSPH181192</td>\n",
       "      <td>BMG_DS080448</td>\n",
       "      <td>BMG_PH02624</td>\n",
       "      <td>HPO</td>\n",
       "      <td>Disease-Phenotype</td>\n",
       "    </tr>\n",
       "  </tbody>\n",
       "</table>\n",
       "<p>181192 rows × 5 columns</p>\n",
       "</div>"
      ],
      "text/plain": [
       "        BioMedGraphica_ID       From_ID        To_ID Source               Type\n",
       "0       BMG_ED_DSPH000001  BMG_DS070605  BMG_PH07758    HPO  Disease-Phenotype\n",
       "1       BMG_ED_DSPH000002  BMG_DS070605  BMG_PH01650    HPO  Disease-Phenotype\n",
       "2       BMG_ED_DSPH000003  BMG_DS070605  BMG_PH01149    HPO  Disease-Phenotype\n",
       "3       BMG_ED_DSPH000004  BMG_DS070605  BMG_PH13238    HPO  Disease-Phenotype\n",
       "4       BMG_ED_DSPH000005  BMG_DS070605  BMG_PH08108    HPO  Disease-Phenotype\n",
       "...                   ...           ...          ...    ...                ...\n",
       "181187  BMG_ED_DSPH181188  BMG_DS080448  BMG_PH01221    HPO  Disease-Phenotype\n",
       "181188  BMG_ED_DSPH181189  BMG_DS043409  BMG_PH01257    HPO  Disease-Phenotype\n",
       "181189  BMG_ED_DSPH181190  BMG_DS080448  BMG_PH01257    HPO  Disease-Phenotype\n",
       "181190  BMG_ED_DSPH181191  BMG_DS043409  BMG_PH02624    HPO  Disease-Phenotype\n",
       "181191  BMG_ED_DSPH181192  BMG_DS080448  BMG_PH02624    HPO  Disease-Phenotype\n",
       "\n",
       "[181192 rows x 5 columns]"
      ]
     },
     "execution_count": 7,
     "metadata": {},
     "output_type": "execute_result"
    }
   ],
   "source": [
    "disease_phen['Source'] = 'HPO'\n",
    "disease_phen['Type'] = 'Disease-Phenotype'\n",
    "\n",
    "max_length = len(str(len(disease_phen)))\n",
    "disease_phen['BioMedGraphica_ID'] = ['BMG_ED_DSPH' + str(i).zfill(max_length) for i in range(1, len(disease_phen) + 1)]\n",
    "columns = ['BioMedGraphica_ID'] + [col for col in disease_phen.columns if col != 'BioMedGraphica_ID']  # re-order columns\n",
    "disease_phen = disease_phen[columns]\n",
    "disease_phen"
   ]
  },
  {
   "cell_type": "code",
   "execution_count": 8,
   "metadata": {},
   "outputs": [
    {
     "name": "stdout",
     "output_type": "stream",
     "text": [
      "Data has been saved to D:\\RA\\BMG\\BioMedGraphica\\Relation\\Disease-Phenotype\\BioMedGraphica_Disease_Phenotype.csv\n"
     ]
    }
   ],
   "source": [
    "import os\n",
    "from pathlib import Path\n",
    "\n",
    "# get the current working directory\n",
    "current_working_dir = Path(os.getcwd()).resolve()\n",
    "\n",
    "# get the output directory\n",
    "grandparent_dir = current_working_dir.parent.parent.parent\n",
    "\n",
    "target_folder = grandparent_dir / 'BioMedGraphica' / 'Relation' / 'Disease-Phenotype'\n",
    "if not target_folder.exists():\n",
    "    target_folder.mkdir(parents=True)\n",
    "    print(f\"Folder {target_folder} has been created.\")\n",
    "\n",
    "output_file_path = target_folder / 'BioMedGraphica_Disease_Phenotype.csv'\n",
    "disease_phen.to_csv(output_file_path, index=False)\n",
    "print(f\"Data has been saved to {output_file_path}\")"
   ]
  }
 ],
 "metadata": {
  "kernelspec": {
   "display_name": "base",
   "language": "python",
   "name": "python3"
  },
  "language_info": {
   "codemirror_mode": {
    "name": "ipython",
    "version": 3
   },
   "file_extension": ".py",
   "mimetype": "text/x-python",
   "name": "python",
   "nbconvert_exporter": "python",
   "pygments_lexer": "ipython3",
   "version": "3.9.19"
  }
 },
 "nbformat": 4,
 "nbformat_minor": 2
}
