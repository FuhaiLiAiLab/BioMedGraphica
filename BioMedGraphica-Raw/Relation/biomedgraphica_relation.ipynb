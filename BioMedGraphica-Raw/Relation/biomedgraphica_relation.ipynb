{
 "cells": [
  {
   "cell_type": "markdown",
   "metadata": {},
   "source": [
    "### Relation"
   ]
  },
  {
   "cell_type": "code",
   "execution_count": 1,
   "metadata": {},
   "outputs": [],
   "source": [
    "import pandas as pd\n",
    "import os\n",
    "from pathlib import Path\n",
    "\n",
    "current_working_dir = Path(os.getcwd()).resolve()\n",
    "grandparent_dir = current_working_dir.parent.parent\n",
    "\n",
    "# Path to the data\n",
    "promoter_gene = grandparent_dir / 'BioMedGraphica' / 'Relation' / 'Promoter-Gene' / 'BioMedGraphica_Promoter_Gene.csv'\n",
    "gene_transcript = grandparent_dir / 'BioMedGraphica' / 'Relation' / 'Gene-Transcript' / 'BioMedGraphica_Gene_Transcript.csv'\n",
    "transcript_protein = grandparent_dir / 'BioMedGraphica' / 'Relation' / 'Transcript-Protein' / 'BioMedGraphica_Transcript_Protein.csv'\n",
    "protein_protein = grandparent_dir / 'BioMedGraphica' / 'Relation' / 'Protein-Protein' / 'BioMedGraphica_Protein_Protein.csv'\n",
    "protein_pathway = grandparent_dir / 'BioMedGraphica' / 'Relation' / 'Protein-Pathway' / 'BioMedGraphica_Protein_Pathway.csv'\n",
    "protein_phenotype = grandparent_dir / 'BioMedGraphica' / 'Relation' / 'Protein-Phenotype' / 'BioMedGraphica_Protein_Phenotype.csv'\n",
    "protein_disease = grandparent_dir / 'BioMedGraphica' / 'Relation' / 'Protein-Disease' / 'BioMedGraphica_Protein_Disease.csv'\n",
    "pathway_protein = grandparent_dir / 'BioMedGraphica' / 'Relation' / 'Pathway-Protein' / 'BioMedGraphica_Pathway_Protein.csv'\n",
    "pathway_drug = grandparent_dir / 'BioMedGraphica' / 'Relation' / 'Pathway-Drug' / 'BioMedGraphica_Pathway_Drug.csv'\n",
    "pathway_exposure = grandparent_dir / 'BioMedGraphica' / 'Relation' / 'Pathway-Exposure' / 'BioMedGraphica_Pathway_Exposure.csv'\n",
    "metabolite_protein = grandparent_dir / 'BioMedGraphica' / 'Relation' / 'Metabolite-Protein' / 'BioMedGraphica_Metabolite_Protein.csv'\n",
    "metabolite_pathway = grandparent_dir / 'BioMedGraphica' / 'Relation' / 'Metabolite-Pathway' / 'BioMedGraphica_Metabolite_Pathway.csv'\n",
    "metabolite_metabolite = grandparent_dir / 'BioMedGraphica' / 'Relation' / 'Metabolite-Metabolite' / 'BioMedGraphica_Metabolite_Metabolite.csv'\n",
    "metabolite_disease = grandparent_dir / 'BioMedGraphica' / 'Relation' / 'Metabolite-Disease' / 'BioMedGraphica_Metabolite_Disease.csv'\n",
    "microbiota_disease = grandparent_dir / 'BioMedGraphica' / 'Relation' / 'Microbiota-Disease' / 'BioMedGraphica_Microbiota_Disease.csv'\n",
    "microbiota_drug = grandparent_dir / 'BioMedGraphica' / 'Relation' / 'Microbiota-Drug' / 'BioMedGraphica_Microbiota_Drug.csv'\n",
    "exposure_gene = grandparent_dir / 'BioMedGraphica' / 'Relation' / 'Exposure-Gene' / 'BioMedGraphica_Exposure_Gene.csv'\n",
    "exposure_pathway = grandparent_dir / 'BioMedGraphica' / 'Relation' / 'Exposure-Pathway' / 'BioMedGraphica_Exposure_Pathway.csv'\n",
    "exposure_disease = grandparent_dir / 'BioMedGraphica' / 'Relation' / 'Exposure-Disease' / 'BioMedGraphica_Exposure_Disease.csv'\n",
    "phenotype_phenotype = grandparent_dir / 'BioMedGraphica' / 'Relation' / 'Phenotype-Phenotype' / 'BioMedGraphica_Phenotype_Phenotype.csv'\n",
    "phenotype_disease = grandparent_dir / 'BioMedGraphica' / 'Relation' / 'Phenotype-Disease' / 'BioMedGraphica_Phenotype_Disease.csv'\n",
    "disease_phenotype = grandparent_dir / 'BioMedGraphica' / 'Relation' / 'Disease-Phenotype' / 'BioMedGraphica_Disease_Phenotype.csv'\n",
    "disease_disease = grandparent_dir / 'BioMedGraphica' / 'Relation' / 'Disease-Disease' / 'BioMedGraphica_Disease_Disease.csv'\n",
    "drug_protein = grandparent_dir / 'BioMedGraphica' / 'Relation' / 'Drug-Protein' / 'BioMedGraphica_Drug_Protein.csv'\n",
    "drug_pathway = grandparent_dir / 'BioMedGraphica' / 'Relation' / 'Drug-Pathway' / 'BioMedGraphica_Drug_Pathway.csv'\n",
    "drug_metabolite = grandparent_dir / 'BioMedGraphica' / 'Relation' / 'Drug-Metabolite' / 'BioMedGraphica_Drug_Metabolite.csv'\n",
    "drug_microbiota = grandparent_dir / 'BioMedGraphica' / 'Relation' / 'Drug-Microbiota' / 'BioMedGraphica_Drug_Microbiota.csv'\n",
    "drug_phenotype = grandparent_dir / 'BioMedGraphica' / 'Relation' / 'Drug-Phenotype' / 'BioMedGraphica_Drug_Phenotype.csv'\n",
    "drug_disease = grandparent_dir / 'BioMedGraphica' / 'Relation' / 'Drug-Disease' / 'BioMedGraphica_Drug_Disease.csv'\n",
    "drug_drug = grandparent_dir / 'BioMedGraphica' / 'Relation' / 'Drug-Drug' / 'BioMedGraphica_Drug_Drug.csv'\n",
    "\n",
    "# Read the data\n",
    "promoter_gene = pd.read_csv(promoter_gene,dtype=str)\n",
    "gene_transcript = pd.read_csv(gene_transcript,dtype=str)\n",
    "transcript_protein = pd.read_csv(transcript_protein,dtype=str)\n",
    "protein_protein = pd.read_csv(protein_protein,dtype=str)\n",
    "protein_pathway = pd.read_csv(protein_pathway,dtype=str)\n",
    "protein_phenotype = pd.read_csv(protein_phenotype,dtype=str)\n",
    "protein_disease = pd.read_csv(protein_disease,dtype=str)\n",
    "pathway_protein = pd.read_csv(pathway_protein,dtype=str)\n",
    "pathway_drug = pd.read_csv(pathway_drug,dtype=str)\n",
    "pathway_exposure = pd.read_csv(pathway_exposure,dtype=str)\n",
    "metabolite_protein = pd.read_csv(metabolite_protein,dtype=str)\n",
    "metabolite_pathway = pd.read_csv(metabolite_pathway,dtype=str)\n",
    "metabolite_metabolite = pd.read_csv(metabolite_metabolite,dtype=str)\n",
    "metabolite_disease = pd.read_csv(metabolite_disease,dtype=str)\n",
    "microbiota_disease = pd.read_csv(microbiota_disease,dtype=str)\n",
    "microbiota_drug = pd.read_csv(microbiota_drug,dtype=str)\n",
    "exposure_gene = pd.read_csv(exposure_gene,dtype=str)\n",
    "exposure_pathway = pd.read_csv(exposure_pathway,dtype=str)\n",
    "exposure_disease = pd.read_csv(exposure_disease,dtype=str)\n",
    "phenotype_phenotype = pd.read_csv(phenotype_phenotype,dtype=str)\n",
    "phenotype_disease = pd.read_csv(phenotype_disease,dtype=str)\n",
    "disease_phenotype = pd.read_csv(disease_phenotype,dtype=str)\n",
    "disease_disease = pd.read_csv(disease_disease,dtype=str)\n",
    "drug_protein = pd.read_csv(drug_protein,dtype=str)\n",
    "drug_pathway = pd.read_csv(drug_pathway,dtype=str)\n",
    "drug_metabolite = pd.read_csv(drug_metabolite,dtype=str)\n",
    "drug_microbiota = pd.read_csv(drug_microbiota,dtype=str)\n",
    "drug_phenotype = pd.read_csv(drug_phenotype,dtype=str)\n",
    "drug_disease = pd.read_csv(drug_disease,dtype=str)\n",
    "drug_drug = pd.read_csv(drug_drug,dtype=str)"
   ]
  },
  {
   "cell_type": "code",
   "execution_count": 2,
   "metadata": {},
   "outputs": [],
   "source": [
    "relations = pd.concat([promoter_gene,gene_transcript,transcript_protein,protein_protein,protein_pathway,protein_phenotype,protein_disease,\n",
    "                       pathway_protein,pathway_drug,pathway_exposure,metabolite_protein,metabolite_pathway,metabolite_metabolite,metabolite_disease,\n",
    "                       microbiota_disease,microbiota_drug,exposure_gene,exposure_pathway,exposure_disease,phenotype_phenotype,\n",
    "                       phenotype_disease,disease_phenotype,disease_disease,drug_protein,drug_pathway,drug_metabolite,\n",
    "                       drug_microbiota,drug_phenotype,drug_disease,drug_drug], ignore_index=True)"
   ]
  },
  {
   "cell_type": "code",
   "execution_count": 3,
   "metadata": {},
   "outputs": [
    {
     "data": {
      "application/vnd.microsoft.datawrangler.viewer.v0+json": {
       "columns": [
        {
         "name": "index",
         "rawType": "int64",
         "type": "integer"
        },
        {
         "name": "BioMedGraphica_ID",
         "rawType": "object",
         "type": "string"
        },
        {
         "name": "From_ID",
         "rawType": "object",
         "type": "string"
        },
        {
         "name": "To_ID",
         "rawType": "object",
         "type": "string"
        },
        {
         "name": "Source",
         "rawType": "object",
         "type": "unknown"
        },
        {
         "name": "Type",
         "rawType": "object",
         "type": "string"
        }
       ],
       "conversionMethod": "pd.DataFrame",
       "ref": "ab8cd880-3176-4cf5-8564-d1d12a521ab2",
       "rows": [
        [
         "0",
         "BMG_ED_PMGN000001",
         "BMG_PM000001",
         "BMG_GN000001",
         null,
         "Promoter-Gene"
        ],
        [
         "1",
         "BMG_ED_PMGN000002",
         "BMG_PM000002",
         "BMG_GN000002",
         null,
         "Promoter-Gene"
        ],
        [
         "2",
         "BMG_ED_PMGN000003",
         "BMG_PM000003",
         "BMG_GN000003",
         null,
         "Promoter-Gene"
        ],
        [
         "3",
         "BMG_ED_PMGN000004",
         "BMG_PM000004",
         "BMG_GN000004",
         null,
         "Promoter-Gene"
        ],
        [
         "4",
         "BMG_ED_PMGN000005",
         "BMG_PM000005",
         "BMG_GN000005",
         null,
         "Promoter-Gene"
        ],
        [
         "5",
         "BMG_ED_PMGN000006",
         "BMG_PM000006",
         "BMG_GN000006",
         null,
         "Promoter-Gene"
        ],
        [
         "6",
         "BMG_ED_PMGN000007",
         "BMG_PM000007",
         "BMG_GN000007",
         null,
         "Promoter-Gene"
        ],
        [
         "7",
         "BMG_ED_PMGN000008",
         "BMG_PM000008",
         "BMG_GN000008",
         null,
         "Promoter-Gene"
        ],
        [
         "8",
         "BMG_ED_PMGN000009",
         "BMG_PM000009",
         "BMG_GN000009",
         null,
         "Promoter-Gene"
        ],
        [
         "9",
         "BMG_ED_PMGN000010",
         "BMG_PM000010",
         "BMG_GN000010",
         null,
         "Promoter-Gene"
        ],
        [
         "10",
         "BMG_ED_PMGN000011",
         "BMG_PM000011",
         "BMG_GN000011",
         null,
         "Promoter-Gene"
        ],
        [
         "11",
         "BMG_ED_PMGN000012",
         "BMG_PM000012",
         "BMG_GN000012",
         null,
         "Promoter-Gene"
        ],
        [
         "12",
         "BMG_ED_PMGN000013",
         "BMG_PM000013",
         "BMG_GN000013",
         null,
         "Promoter-Gene"
        ],
        [
         "13",
         "BMG_ED_PMGN000014",
         "BMG_PM000014",
         "BMG_GN000014",
         null,
         "Promoter-Gene"
        ],
        [
         "14",
         "BMG_ED_PMGN000015",
         "BMG_PM000015",
         "BMG_GN000015",
         null,
         "Promoter-Gene"
        ],
        [
         "15",
         "BMG_ED_PMGN000016",
         "BMG_PM000016",
         "BMG_GN000016",
         null,
         "Promoter-Gene"
        ],
        [
         "16",
         "BMG_ED_PMGN000017",
         "BMG_PM000017",
         "BMG_GN000017",
         null,
         "Promoter-Gene"
        ],
        [
         "17",
         "BMG_ED_PMGN000018",
         "BMG_PM000018",
         "BMG_GN000018",
         null,
         "Promoter-Gene"
        ],
        [
         "18",
         "BMG_ED_PMGN000019",
         "BMG_PM000019",
         "BMG_GN000019",
         null,
         "Promoter-Gene"
        ],
        [
         "19",
         "BMG_ED_PMGN000020",
         "BMG_PM000020",
         "BMG_GN000020",
         null,
         "Promoter-Gene"
        ],
        [
         "20",
         "BMG_ED_PMGN000021",
         "BMG_PM000021",
         "BMG_GN000021",
         null,
         "Promoter-Gene"
        ],
        [
         "21",
         "BMG_ED_PMGN000022",
         "BMG_PM000022",
         "BMG_GN000022",
         null,
         "Promoter-Gene"
        ],
        [
         "22",
         "BMG_ED_PMGN000023",
         "BMG_PM000023",
         "BMG_GN000023",
         null,
         "Promoter-Gene"
        ],
        [
         "23",
         "BMG_ED_PMGN000024",
         "BMG_PM000024",
         "BMG_GN000024",
         null,
         "Promoter-Gene"
        ],
        [
         "24",
         "BMG_ED_PMGN000025",
         "BMG_PM000025",
         "BMG_GN000025",
         null,
         "Promoter-Gene"
        ],
        [
         "25",
         "BMG_ED_PMGN000026",
         "BMG_PM000026",
         "BMG_GN000026",
         null,
         "Promoter-Gene"
        ],
        [
         "26",
         "BMG_ED_PMGN000027",
         "BMG_PM000027",
         "BMG_GN000027",
         null,
         "Promoter-Gene"
        ],
        [
         "27",
         "BMG_ED_PMGN000028",
         "BMG_PM000028",
         "BMG_GN000028",
         null,
         "Promoter-Gene"
        ],
        [
         "28",
         "BMG_ED_PMGN000029",
         "BMG_PM000029",
         "BMG_GN000029",
         null,
         "Promoter-Gene"
        ],
        [
         "29",
         "BMG_ED_PMGN000030",
         "BMG_PM000030",
         "BMG_GN000030",
         null,
         "Promoter-Gene"
        ],
        [
         "30",
         "BMG_ED_PMGN000031",
         "BMG_PM000031",
         "BMG_GN000031",
         null,
         "Promoter-Gene"
        ],
        [
         "31",
         "BMG_ED_PMGN000032",
         "BMG_PM000032",
         "BMG_GN000032",
         null,
         "Promoter-Gene"
        ],
        [
         "32",
         "BMG_ED_PMGN000033",
         "BMG_PM000033",
         "BMG_GN000033",
         null,
         "Promoter-Gene"
        ],
        [
         "33",
         "BMG_ED_PMGN000034",
         "BMG_PM000034",
         "BMG_GN000034",
         null,
         "Promoter-Gene"
        ],
        [
         "34",
         "BMG_ED_PMGN000035",
         "BMG_PM000035",
         "BMG_GN000035",
         null,
         "Promoter-Gene"
        ],
        [
         "35",
         "BMG_ED_PMGN000036",
         "BMG_PM000036",
         "BMG_GN000036",
         null,
         "Promoter-Gene"
        ],
        [
         "36",
         "BMG_ED_PMGN000037",
         "BMG_PM000037",
         "BMG_GN000037",
         null,
         "Promoter-Gene"
        ],
        [
         "37",
         "BMG_ED_PMGN000038",
         "BMG_PM000038",
         "BMG_GN000038",
         null,
         "Promoter-Gene"
        ],
        [
         "38",
         "BMG_ED_PMGN000039",
         "BMG_PM000039",
         "BMG_GN000039",
         null,
         "Promoter-Gene"
        ],
        [
         "39",
         "BMG_ED_PMGN000040",
         "BMG_PM000040",
         "BMG_GN000040",
         null,
         "Promoter-Gene"
        ],
        [
         "40",
         "BMG_ED_PMGN000041",
         "BMG_PM000041",
         "BMG_GN000041",
         null,
         "Promoter-Gene"
        ],
        [
         "41",
         "BMG_ED_PMGN000042",
         "BMG_PM000042",
         "BMG_GN000042",
         null,
         "Promoter-Gene"
        ],
        [
         "42",
         "BMG_ED_PMGN000043",
         "BMG_PM000043",
         "BMG_GN000043",
         null,
         "Promoter-Gene"
        ],
        [
         "43",
         "BMG_ED_PMGN000044",
         "BMG_PM000044",
         "BMG_GN000044",
         null,
         "Promoter-Gene"
        ],
        [
         "44",
         "BMG_ED_PMGN000045",
         "BMG_PM000045",
         "BMG_GN000045",
         null,
         "Promoter-Gene"
        ],
        [
         "45",
         "BMG_ED_PMGN000046",
         "BMG_PM000046",
         "BMG_GN000046",
         null,
         "Promoter-Gene"
        ],
        [
         "46",
         "BMG_ED_PMGN000047",
         "BMG_PM000047",
         "BMG_GN000047",
         null,
         "Promoter-Gene"
        ],
        [
         "47",
         "BMG_ED_PMGN000048",
         "BMG_PM000048",
         "BMG_GN000048",
         null,
         "Promoter-Gene"
        ],
        [
         "48",
         "BMG_ED_PMGN000049",
         "BMG_PM000049",
         "BMG_GN000049",
         null,
         "Promoter-Gene"
        ],
        [
         "49",
         "BMG_ED_PMGN000050",
         "BMG_PM000050",
         "BMG_GN000050",
         null,
         "Promoter-Gene"
        ]
       ],
       "shape": {
        "columns": 5,
        "rows": 27232091
       }
      },
      "text/html": [
       "<div>\n",
       "<style scoped>\n",
       "    .dataframe tbody tr th:only-of-type {\n",
       "        vertical-align: middle;\n",
       "    }\n",
       "\n",
       "    .dataframe tbody tr th {\n",
       "        vertical-align: top;\n",
       "    }\n",
       "\n",
       "    .dataframe thead th {\n",
       "        text-align: right;\n",
       "    }\n",
       "</style>\n",
       "<table border=\"1\" class=\"dataframe\">\n",
       "  <thead>\n",
       "    <tr style=\"text-align: right;\">\n",
       "      <th></th>\n",
       "      <th>BioMedGraphica_ID</th>\n",
       "      <th>From_ID</th>\n",
       "      <th>To_ID</th>\n",
       "      <th>Source</th>\n",
       "      <th>Type</th>\n",
       "    </tr>\n",
       "  </thead>\n",
       "  <tbody>\n",
       "    <tr>\n",
       "      <th>0</th>\n",
       "      <td>BMG_ED_PMGN000001</td>\n",
       "      <td>BMG_PM000001</td>\n",
       "      <td>BMG_GN000001</td>\n",
       "      <td>NaN</td>\n",
       "      <td>Promoter-Gene</td>\n",
       "    </tr>\n",
       "    <tr>\n",
       "      <th>1</th>\n",
       "      <td>BMG_ED_PMGN000002</td>\n",
       "      <td>BMG_PM000002</td>\n",
       "      <td>BMG_GN000002</td>\n",
       "      <td>NaN</td>\n",
       "      <td>Promoter-Gene</td>\n",
       "    </tr>\n",
       "    <tr>\n",
       "      <th>2</th>\n",
       "      <td>BMG_ED_PMGN000003</td>\n",
       "      <td>BMG_PM000003</td>\n",
       "      <td>BMG_GN000003</td>\n",
       "      <td>NaN</td>\n",
       "      <td>Promoter-Gene</td>\n",
       "    </tr>\n",
       "    <tr>\n",
       "      <th>3</th>\n",
       "      <td>BMG_ED_PMGN000004</td>\n",
       "      <td>BMG_PM000004</td>\n",
       "      <td>BMG_GN000004</td>\n",
       "      <td>NaN</td>\n",
       "      <td>Promoter-Gene</td>\n",
       "    </tr>\n",
       "    <tr>\n",
       "      <th>4</th>\n",
       "      <td>BMG_ED_PMGN000005</td>\n",
       "      <td>BMG_PM000005</td>\n",
       "      <td>BMG_GN000005</td>\n",
       "      <td>NaN</td>\n",
       "      <td>Promoter-Gene</td>\n",
       "    </tr>\n",
       "    <tr>\n",
       "      <th>...</th>\n",
       "      <td>...</td>\n",
       "      <td>...</td>\n",
       "      <td>...</td>\n",
       "      <td>...</td>\n",
       "      <td>...</td>\n",
       "    </tr>\n",
       "    <tr>\n",
       "      <th>27232086</th>\n",
       "      <td>BMG_ED_DGDG3882578</td>\n",
       "      <td>BMG_DG269087</td>\n",
       "      <td>BMG_DG117810</td>\n",
       "      <td>DrugBank</td>\n",
       "      <td>Drug-Drug</td>\n",
       "    </tr>\n",
       "    <tr>\n",
       "      <th>27232087</th>\n",
       "      <td>BMG_ED_DGDG3882579</td>\n",
       "      <td>BMG_DG269087</td>\n",
       "      <td>BMG_DG263448</td>\n",
       "      <td>DrugBank</td>\n",
       "      <td>Drug-Drug</td>\n",
       "    </tr>\n",
       "    <tr>\n",
       "      <th>27232088</th>\n",
       "      <td>BMG_ED_DGDG3882580</td>\n",
       "      <td>BMG_DG269087</td>\n",
       "      <td>BMG_DG165432</td>\n",
       "      <td>DrugBank</td>\n",
       "      <td>Drug-Drug</td>\n",
       "    </tr>\n",
       "    <tr>\n",
       "      <th>27232089</th>\n",
       "      <td>BMG_ED_DGDG3882581</td>\n",
       "      <td>BMG_DG269087</td>\n",
       "      <td>BMG_DG263774</td>\n",
       "      <td>DrugBank</td>\n",
       "      <td>Drug-Drug</td>\n",
       "    </tr>\n",
       "    <tr>\n",
       "      <th>27232090</th>\n",
       "      <td>BMG_ED_DGDG3882582</td>\n",
       "      <td>BMG_DG269087</td>\n",
       "      <td>BMG_DG263791</td>\n",
       "      <td>DrugBank</td>\n",
       "      <td>Drug-Drug</td>\n",
       "    </tr>\n",
       "  </tbody>\n",
       "</table>\n",
       "<p>27232091 rows × 5 columns</p>\n",
       "</div>"
      ],
      "text/plain": [
       "           BioMedGraphica_ID       From_ID         To_ID    Source  \\\n",
       "0          BMG_ED_PMGN000001  BMG_PM000001  BMG_GN000001       NaN   \n",
       "1          BMG_ED_PMGN000002  BMG_PM000002  BMG_GN000002       NaN   \n",
       "2          BMG_ED_PMGN000003  BMG_PM000003  BMG_GN000003       NaN   \n",
       "3          BMG_ED_PMGN000004  BMG_PM000004  BMG_GN000004       NaN   \n",
       "4          BMG_ED_PMGN000005  BMG_PM000005  BMG_GN000005       NaN   \n",
       "...                      ...           ...           ...       ...   \n",
       "27232086  BMG_ED_DGDG3882578  BMG_DG269087  BMG_DG117810  DrugBank   \n",
       "27232087  BMG_ED_DGDG3882579  BMG_DG269087  BMG_DG263448  DrugBank   \n",
       "27232088  BMG_ED_DGDG3882580  BMG_DG269087  BMG_DG165432  DrugBank   \n",
       "27232089  BMG_ED_DGDG3882581  BMG_DG269087  BMG_DG263774  DrugBank   \n",
       "27232090  BMG_ED_DGDG3882582  BMG_DG269087  BMG_DG263791  DrugBank   \n",
       "\n",
       "                   Type  \n",
       "0         Promoter-Gene  \n",
       "1         Promoter-Gene  \n",
       "2         Promoter-Gene  \n",
       "3         Promoter-Gene  \n",
       "4         Promoter-Gene  \n",
       "...                 ...  \n",
       "27232086      Drug-Drug  \n",
       "27232087      Drug-Drug  \n",
       "27232088      Drug-Drug  \n",
       "27232089      Drug-Drug  \n",
       "27232090      Drug-Drug  \n",
       "\n",
       "[27232091 rows x 5 columns]"
      ]
     },
     "execution_count": 3,
     "metadata": {},
     "output_type": "execute_result"
    }
   ],
   "source": [
    "relations"
   ]
  },
  {
   "cell_type": "code",
   "execution_count": 4,
   "metadata": {},
   "outputs": [
    {
     "data": {
      "text/plain": [
       "Type\n",
       "Protein-Protein          16484820\n",
       "Drug-Drug                 3882582\n",
       "Metabolite-Protein        2804430\n",
       "Exposure-Disease           979780\n",
       "Protein-Phenotype          478279\n",
       "Gene-Transcript            427810\n",
       "Pathway-Exposure           301448\n",
       "Exposure-Pathway           301448\n",
       "Promoter-Gene              230358\n",
       "Phenotype-Disease          181192\n",
       "Disease-Phenotype          181192\n",
       "Pathway-Protein            176133\n",
       "Protein-Pathway            152912\n",
       "Transcript-Protein         152585\n",
       "Protein-Disease            143394\n",
       "Drug-Phenotype              93826\n",
       "Drug-Protein                84859\n",
       "Drug-Disease                39977\n",
       "Exposure-Gene               28982\n",
       "Metabolite-Disease          24970\n",
       "Phenotype-Phenotype         23427\n",
       "Microbiota-Disease          22371\n",
       "Metabolite-Pathway          12198\n",
       "Disease-Disease             12006\n",
       "Drug-Metabolite              3589\n",
       "Drug-Pathway                 3065\n",
       "Pathway-Drug                 1795\n",
       "Metabolite-Metabolite         931\n",
       "Drug-Microbiota               866\n",
       "Microbiota-Drug               866\n",
       "Name: count, dtype: int64"
      ]
     },
     "execution_count": 4,
     "metadata": {},
     "output_type": "execute_result"
    }
   ],
   "source": [
    "relations['Type'].value_counts()"
   ]
  },
  {
   "cell_type": "code",
   "execution_count": 5,
   "metadata": {},
   "outputs": [
    {
     "name": "stdout",
     "output_type": "stream",
     "text": [
      "Data has been saved to D:\\RA\\BMG\\BioMedGraphica\\Relation\\BioMedGraphica_Relation.csv\n"
     ]
    }
   ],
   "source": [
    "import os\n",
    "from pathlib import Path\n",
    "\n",
    "# get the current working directory\n",
    "current_working_dir = Path(os.getcwd()).resolve()\n",
    "\n",
    "# get the output directory\n",
    "grandparent_dir = current_working_dir.parent.parent\n",
    "target_folder = grandparent_dir / 'BioMedGraphica' / 'Relation' \n",
    "if not target_folder.exists():\n",
    "    target_folder.mkdir(parents=True)\n",
    "    print(f\"Folder {target_folder} has been created.\")\n",
    "\n",
    "output_file_path = target_folder / 'BioMedGraphica_Relation.csv'\n",
    "relations.to_csv(output_file_path, index=False)\n",
    "print(f\"Data has been saved to {output_file_path}\")"
   ]
  }
 ],
 "metadata": {
  "kernelspec": {
   "display_name": "base",
   "language": "python",
   "name": "python3"
  },
  "language_info": {
   "codemirror_mode": {
    "name": "ipython",
    "version": 3
   },
   "file_extension": ".py",
   "mimetype": "text/x-python",
   "name": "python",
   "nbconvert_exporter": "python",
   "pygments_lexer": "ipython3",
   "version": "3.9.19"
  }
 },
 "nbformat": 4,
 "nbformat_minor": 2
}
